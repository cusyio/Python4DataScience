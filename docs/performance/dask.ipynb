{
 "cells": [
  {
   "cell_type": "markdown",
   "id": "ccf4ea1c",
   "metadata": {},
   "source": [
    "# Dask\n",
    "\n",
    "Dask performs two different tasks:\n",
    "1. it optimizes dynamic task scheduling, similar to [Airflow](https://airflow.apache.org/), [Luigi](https://github.com/spotify/luigi) or [Celery](https://docs.celeryproject.org/).\n",
    "2. it performs parallel data like arrays, dataframes, and lists with dynamic task scheduling."
   ]
  },
  {
   "cell_type": "markdown",
   "id": "d6041d52",
   "metadata": {},
   "source": [
    "## Scales from laptops to clusters\n",
    "\n",
    "Dask can be easily installed on a laptop with pipenv and expands the size of the datasets from *fits in memory* to *fits on disk*. Dask can also scale to a cluster of hundreds of machines. It is resilient, elastic, data-local and has low latency. For more information, see the [distributed scheduler](https://distributed.dask.org/en/latest/) documentation. This simple transition between a single machine and a cluster allows users to both start easily and grow as needed."
   ]
  },
  {
   "cell_type": "markdown",
   "id": "4e332597",
   "metadata": {},
   "source": [
    "## Install Dask\n",
    "\n",
    "You can install everything that is required for most common applications of Dask (arrays, dataframes, …). This installs both Dask and dependencies such as NumPy, Pandas, etc. that are required for various workloads:\n",
    "\n",
    "``` bash\n",
    "$ pipenv install \"dask[complete]\"\n",
    "```\n",
    "\n",
    "However, only individual subsets can be installed with:\n",
    "\n",
    "``` bash\n",
    "$ pipenv install \"dask[array]\"\n",
    "$ pipenv install \"dask[dataframe]\"\n",
    "$ pipenv install \"dask[diagnostics]\"\n",
    "$ pipenv install \"dask[distributed]\"\n",
    "```"
   ]
  },
  {
   "cell_type": "markdown",
   "id": "cb34d835",
   "metadata": {},
   "source": [
    "### Testing the installation"
   ]
  },
  {
   "cell_type": "code",
   "execution_count": 1,
   "id": "6d1b3a12",
   "metadata": {
    "scrolled": false
   },
   "outputs": [
    {
     "name": "stdout",
     "output_type": "stream",
     "text": [
      "\u001b[1m============================= test session starts ==============================\u001b[0m\n",
      "platform darwin -- Python 3.11.4, pytest-7.4.0, pluggy-1.2.0\n",
      "rootdir: /Users/veit\n",
      "plugins: hypothesis-6.82.0, cov-4.1.0, anyio-3.7.1, typeguard-2.13.3\n",
      "collected 5030 items / 18 skipped                                              \u001b[0m\u001b[1m\u001b[1m\u001b[1m\u001b[1m\n",
      "\n",
      "../../../../../.local/share/virtualenvs/python-311-6zxVKbDJ/lib/python3.11/site-packages/dask/tests/test_backends.py \u001b[32m.\u001b[0m\u001b[33m [  0%]\n",
      "\u001b[0m\u001b[33ms\u001b[0m\u001b[33m                                                                        [  0%]\u001b[0m\n",
      "../../../../../.local/share/virtualenvs/python-311-6zxVKbDJ/lib/python3.11/site-packages/dask/tests/test_base.py \u001b[32m.\u001b[0m\u001b[33m [  0%]\n",
      "…\n",
      "../../../../../.local/share/virtualenvs/python-311-6zxVKbDJ/lib/python3.11/site-packages/dask/array/tests/test_xarray.py \u001b[32m.\u001b[0m\u001b[31m [ 99%]\n",
      "\u001b[0m\u001b[32m.\u001b[0m\u001b[32m.\u001b[0m\u001b[32m.\u001b[0m\u001b[32m.\u001b[0m\u001b[31m                                                                     [100%]\u001b[0m\n",
      "\n",
      "=================================== FAILURES ===================================\n",
      "\u001b[31m\u001b[1m__________________________ test_solve_assume_a[20-10] __________________________\u001b[0m\n",
      "…\n",
      "\u001b[1m\u001b[31mE       Failed: DID NOT RAISE <class 'FutureWarning'>\u001b[0m\n",
      "\n",
      "\u001b[1m\u001b[31m/Users/veit/.local/share/virtualenvs/python-311-6zxVKbDJ/lib/python3.11/site-packages/dask/array/tests/test_linalg.py\u001b[0m:809: Failed\n",
      "\u001b[31m\u001b[1m__________________________ test_solve_assume_a[30-6] ___________________________\u001b[0m\n",
      "…\n",
      "\u001b[1m\u001b[31mE       Failed: DID NOT RAISE <class 'DeprecationWarning'>\u001b[0m\n",
      "\n",
      "\u001b[1m\u001b[31m/Users/veit/.local/share/virtualenvs/python-311-6zxVKbDJ/lib/python3.11/site-packages/dask/array/tests/test_random.py\u001b[0m:202: Failed\n",
      "\u001b[33m=============================== warnings summary ===============================\u001b[0m\n",
      "…\n",
      "-- Docs: https://docs.pytest.org/en/stable/how-to/capture-warnings.html\n",
      "\u001b[36m\u001b[1m=========================== short test summary info ============================\u001b[0m\n",
      "\u001b[31mFAILED\u001b[0m ../../../../../.local/share/virtualenvs/python-311-6zxVKbDJ/lib/python3.11/site-packages/dask/array/tests/test_linalg.py::\u001b[1mtest_solve_assume_a[20-10]\u001b[0m - Failed: DID NOT RAISE <class 'FutureWarning'>\n",
      "\u001b[31mFAILED\u001b[0m ../../../../../.local/share/virtualenvs/python-311-6zxVKbDJ/lib/python3.11/site-packages/dask/array/tests/test_linalg.py::\u001b[1mtest_solve_assume_a[30-6]\u001b[0m - Failed: DID NOT RAISE <class 'FutureWarning'>\n",
      "\u001b[31mFAILED\u001b[0m ../../../../../.local/share/virtualenvs/python-311-6zxVKbDJ/lib/python3.11/site-packages/dask/array/tests/test_random.py::\u001b[1mtest_RandomState_only_funcs\u001b[0m - Failed: DID NOT RAISE <class 'DeprecationWarning'>\n",
      "\u001b[31m= \u001b[31m\u001b[1m3 failed\u001b[0m, \u001b[32m4543 passed\u001b[0m, \u001b[33m487 skipped\u001b[0m, \u001b[33m15 xfailed\u001b[0m, \u001b[33m34 warnings\u001b[0m\u001b[31m in 60.13s (0:01:00)\u001b[0m\u001b[31m =\u001b[0m\n"
     ]
    }
   ],
   "source": [
    "!pytest   /Users/veit/.local/share/virtualenvs/python-311-6zxVKbDJ/lib/python3.11/site-packages/dask/tests  /Users/veit/.local/share/virtualenvs/python-311-6zxVKbDJ/lib/python3.11/site-packages/dask/array/tests"
   ]
  },
  {
   "cell_type": "markdown",
   "id": "7d944110",
   "metadata": {},
   "source": [
    "## Familiar operation"
   ]
  },
  {
   "cell_type": "markdown",
   "id": "5acd42b5",
   "metadata": {},
   "source": [
    "### Dask DataFrame\n",
    "\n",
    "… imitates Pandas"
   ]
  },
  {
   "cell_type": "code",
   "execution_count": 2,
   "id": "6a83265c",
   "metadata": {},
   "outputs": [],
   "source": [
    "import pandas as pd\n",
    "\n",
    "\n",
    "df = pd.read_csv(\"2021-09-01.csv\")\n",
    "df.groupby(df.user_id).value.mean()"
   ]
  },
  {
   "cell_type": "code",
   "execution_count": 3,
   "id": "ebefec46",
   "metadata": {},
   "outputs": [],
   "source": [
    "import dask.dataframe as dd\n",
    "\n",
    "\n",
    "dd = pd.read_csv(\"2021-09-01.csv\")\n",
    "dd.groupby(dd.user_id).value.mean()"
   ]
  },
  {
   "cell_type": "markdown",
   "id": "e23f8eee",
   "metadata": {},
   "source": [
    "<div class=\"alert alert-block alert-info\">\n",
    "\n",
    "**See also**\n",
    "\n",
    "* [Dask DataFrame Docs](https://docs.dask.org/en/latest/dataframe.html)\n",
    "* [Dask DataFrame Best Practices](https://docs.dask.org/en/latest/dataframe-best-practices.html)\n",
    "</div>"
   ]
  },
  {
   "cell_type": "markdown",
   "id": "bd4cdd77",
   "metadata": {},
   "source": [
    "### Dask Array\n",
    "\n",
    "… imitates NumPy"
   ]
  },
  {
   "cell_type": "code",
   "execution_count": 4,
   "id": "7c11efbb",
   "metadata": {},
   "outputs": [],
   "source": [
    "import numpy as np\n",
    "\n",
    "\n",
    "f = h5py.File(\"mydata.h5\")\n",
    "x = np.array(f[\".\"])"
   ]
  },
  {
   "cell_type": "code",
   "execution_count": 5,
   "id": "c1b99ffd",
   "metadata": {},
   "outputs": [],
   "source": [
    "import dask.array as da\n",
    "\n",
    "\n",
    "f = h5py.File(\"mydata.h5\")\n",
    "x = da.array(f[\".\"])"
   ]
  },
  {
   "cell_type": "markdown",
   "id": "530d413b",
   "metadata": {},
   "source": [
    "<div class=\"alert alert-block alert-info\">\n",
    "\n",
    "**See also**\n",
    "\n",
    "* [Dask Array Docs](https://docs.dask.org/en/latest/array.html)\n",
    "* [Dask Array Best Practices](https://docs.dask.org/en/latest/array-best-practices.html)\n",
    "</div>"
   ]
  },
  {
   "cell_type": "markdown",
   "id": "601abdeb",
   "metadata": {},
   "source": [
    "### Dask Bag\n",
    "\n",
    "… imitates [iterators](https://docs.python.org/3/library/itertools.html), [Toolz](https://toolz.readthedocs.io/en/latest/index.html) und [PySpark](http://spark.apache.org/docs/latest/api/python/)."
   ]
  },
  {
   "cell_type": "code",
   "execution_count": 6,
   "id": "23c242b9",
   "metadata": {},
   "outputs": [],
   "source": [
    "import json\n",
    "\n",
    "import dask.bag as db\n",
    "\n",
    "\n",
    "b = db.read_text(\"2021-09-01.csv\").map(json.loads)\n",
    "b.pluck(\"user_id\").frequencies().topk(10, lambda pair: pair[1]).compute()"
   ]
  },
  {
   "cell_type": "markdown",
   "id": "f3f50983",
   "metadata": {},
   "source": [
    "<div class=\"alert alert-block alert-info\">\n",
    "\n",
    "**See also**\n",
    "\n",
    "* [Dask Bag Docs](https://docs.dask.org/en/latest/bag.html)\n",
    "</div>"
   ]
  },
  {
   "cell_type": "markdown",
   "id": "b1b1b4d3",
   "metadata": {},
   "source": [
    "### Dask Delayed\n",
    "\n",
    "… imitates loops and wraps custom code"
   ]
  },
  {
   "cell_type": "code",
   "execution_count": 7,
   "id": "0373128a",
   "metadata": {},
   "outputs": [],
   "source": [
    "from dask import delayed\n",
    "\n",
    "\n",
    "L = []\n",
    "for fn in \"2021-*-*.csv\":  # Use for loops to build up computation\n",
    "    data = delayed(load)(fn)  # Delay execution of function\n",
    "    L.append(delayed(process)(data))  # Build connections between variables\n",
    "\n",
    "result = delayed(summarize)(L)\n",
    "result.compute()"
   ]
  },
  {
   "cell_type": "markdown",
   "id": "20d967a4",
   "metadata": {},
   "source": [
    "<div class=\"alert alert-block alert-info\">\n",
    "\n",
    "**See also**\n",
    "\n",
    "* [Dask Delayed Docs](https://docs.dask.org/en/latest/delayed.html)\n",
    "* [Dask Delayed Best Practices](https://docs.dask.org/en/latest/delayed-best-practices.html)\n",
    "* [Dask pipeline example: Tracking the International Space Station with Dask](../clean-prep/dask-pipeline.ipynb)\n",
    "</div>"
   ]
  },
  {
   "cell_type": "markdown",
   "id": "3f4a6539",
   "metadata": {},
   "source": [
    "## The **concurrent.futures** interface enables the submission of user-defined tasks.\n",
    "\n",
    "<div class=\"alert alert-block alert-info\">\n",
    "\n",
    "**Note**\n",
    "\n",
    "For the following example, Dask must be installed with the `distributed` option, e.g.\n",
    "\n",
    "``` bash\n",
    "$ pipenv install dask[distributed]\n",
    "```\n",
    "</div>"
   ]
  },
  {
   "cell_type": "code",
   "execution_count": 8,
   "id": "cfa665a0",
   "metadata": {},
   "outputs": [],
   "source": [
    "from dask.distributed import Client\n",
    "\n",
    "\n",
    "client = Client(\"scheduler:port\")\n",
    "\n",
    "futures = []\n",
    "for fn in filenames:\n",
    "    future = client.submit(load, fn)\n",
    "    futures.append(future)\n",
    "\n",
    "summary = client.submit(summarize, futures)\n",
    "summary.result()"
   ]
  },
  {
   "cell_type": "markdown",
   "id": "e2d4fa5e",
   "metadata": {},
   "source": [
    "<div class=\"alert alert-block alert-info\">\n",
    "\n",
    "**See also**\n",
    "\n",
    "* [Dask Futures Docs](https://docs.dask.org/en/latest/futures.html)\n",
    "* [Dask Futures Quickstart](https://distributed.dask.org/en/latest/quickstart.html)\n",
    "* [Dask Futures Examples](https://examples.dask.org/futures.html)\n",
    "</div>"
   ]
  }
 ],
 "metadata": {
  "kernelspec": {
   "display_name": "Python 3.11 Kernel",
   "language": "python",
   "name": "python311"
  },
  "language_info": {
   "codemirror_mode": {
    "name": "ipython",
    "version": 3
   },
   "file_extension": ".py",
   "mimetype": "text/x-python",
   "name": "python",
   "nbconvert_exporter": "python",
   "pygments_lexer": "ipython3",
   "version": "3.11.4"
  },
  "latex_envs": {
   "LaTeX_envs_menu_present": true,
   "autoclose": false,
   "autocomplete": true,
   "bibliofile": "biblio.bib",
   "cite_by": "apalike",
   "current_citInitial": 1,
   "eqLabelWithNumbers": true,
   "eqNumInitial": 1,
   "hotkeys": {
    "equation": "Ctrl-E",
    "itemize": "Ctrl-I"
   },
   "labels_anchors": false,
   "latex_user_defs": false,
   "report_style_numbering": false,
   "user_envs_cfg": false
  },
  "widgets": {
   "application/vnd.jupyter.widget-state+json": {
    "state": {},
    "version_major": 2,
    "version_minor": 0
   }
  }
 },
 "nbformat": 4,
 "nbformat_minor": 5
}
