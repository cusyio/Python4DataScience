{
 "cells": [
  {
   "cell_type": "markdown",
   "id": "ccf4ea1c",
   "metadata": {},
   "source": [
    "# Dask\n",
    "\n",
    "Dask performs two different tasks:\n",
    "1. it optimizes dynamic task scheduling, similar to [Airflow](https://airflow.apache.org/), [Luigi](https://github.com/spotify/luigi) or [Celery](https://docs.celeryproject.org/).\n",
    "2. it performs parallel data like arrays, dataframes, and lists with dynamic task scheduling."
   ]
  },
  {
   "cell_type": "markdown",
   "id": "d6041d52",
   "metadata": {},
   "source": [
    "## Scales from laptops to clusters\n",
    "\n",
    "Dask can be easily installed on a laptop with pipenv and expands the size of the datasets from *fits in memory* to *fits on disk*. Dask can also scale to a cluster of hundreds of machines. It is resilient, elastic, data-local and has low latency. For more information, see the [distributed scheduler](https://distributed.dask.org/en/latest/) documentation. This simple transition between a single machine and a cluster allows users to both start easily and grow as needed."
   ]
  },
  {
   "cell_type": "markdown",
   "id": "4e332597",
   "metadata": {},
   "source": [
    "## Install Dask\n",
    "\n",
    "You can install everything that is required for most common applications of Dask (arrays, dataframes, …). This installs both Dask and dependencies such as NumPy, Pandas, etc. that are required for various workloads:\n",
    "\n",
    "``` bash\n",
    "$ pipenv install \"dask[complete]\"\n",
    "```\n",
    "\n",
    "However, only individual subsets can be installed with:\n",
    "\n",
    "``` bash\n",
    "$ pipenv install \"dask[array]\"\n",
    "$ pipenv install \"dask[dataframe]\"\n",
    "$ pipenv install \"dask[diagnostics]\"\n",
    "$ pipenv install \"dask[distributed]\"\n",
    "```"
   ]
  },
  {
   "cell_type": "markdown",
   "id": "cb34d835",
   "metadata": {},
   "source": [
    "### Testing the installation"
   ]
  },
  {
   "cell_type": "code",
   "execution_count": 1,
   "id": "6d1b3a12",
   "metadata": {
    "scrolled": false
   },
   "outputs": [
    {
     "name": "stdout",
     "output_type": "stream",
     "text": [
      "\u001b[1m============================= test session starts ==============================\u001b[0m\n",
      "platform darwin -- Python 3.7.4, pytest-6.2.5, py-1.10.0, pluggy-1.0.0\n",
      "Users/veit\n",
      "plugins: anyio-3.3.1\n",
      "collected 4218 items / 16 skipped / 4202 selected                              \u001b[0m\u001b[1m\u001b[1m\u001b[1m\u001b[1m\u001b[1m\u001b[1m\u001b[1m\u001b[1m\n",
      "…\n",
      "\u001b[33m=============================== warnings summary ===============================\u001b[0m\n",
      "…\n",
      "-- Docs: https://docs.pytest.org/en/stable/warnings.html\n",
      "\u001b[33m==== \u001b[32m4013 passed\u001b[0m, \u001b[33m\u001b[1m207 skipped\u001b[0m, \u001b[33m\u001b[1m14 xfailed\u001b[0m, \u001b[33m\u001b[1m22 warnings\u001b[0m\u001b[33m in 357.82s (0:05:57)\u001b[0m\u001b[33m ====\u001b[0m\n"
     ]
    }
   ],
   "source": [
    "!pytest   ../../../spackenvs/python-374/.spack-env/view/lib/python3.7/site-packages/dask/tests  ../../../spackenvs/python-374/.spack-env/view/lib/python3.7/site-packages/dask/array/tests"
   ]
  },
  {
   "cell_type": "markdown",
   "id": "7d944110",
   "metadata": {},
   "source": [
    "## Familiar operation"
   ]
  },
  {
   "cell_type": "markdown",
   "id": "5acd42b5",
   "metadata": {},
   "source": [
    "### Dask DataFrame\n",
    "\n",
    "… imitates Pandas"
   ]
  },
  {
   "cell_type": "code",
   "execution_count": 2,
   "id": "6a83265c",
   "metadata": {},
   "outputs": [],
   "source": [
    "import pandas as pd\n",
    "df = pd.read_csv('2021-09-01.csv')\n",
    "df.groupby(df.user_id).value.mean()"
   ]
  },
  {
   "cell_type": "code",
   "execution_count": 3,
   "id": "ebefec46",
   "metadata": {},
   "outputs": [],
   "source": [
    "import dask.dataframe as dd\n",
    "dd = pd.read_csv('2021-09-01.csv')\n",
    "dd.groupby(dd.user_id).value.mean()"
   ]
  },
  {
   "cell_type": "markdown",
   "id": "cf46dd85",
   "metadata": {},
   "source": [
    "<div class=\"alert alert-block alert-info\">\n",
    "<b>See also:</b>\n",
    "    <ul>\n",
    "        <li><a href=\"https://docs.dask.org/en/latest/dataframe.html\">Dask DataFrame Docs</a></li>\n",
    "        <li><a href=\"https://docs.dask.org/en/latest/dataframe-best-practices.html\">Dask DataFrame Best Practices</a></li>\n",
    "    </ul>\n",
    "</div>"
   ]
  },
  {
   "cell_type": "markdown",
   "id": "bd4cdd77",
   "metadata": {},
   "source": [
    "### Dask Array\n",
    "\n",
    "… imitates NumPy"
   ]
  },
  {
   "cell_type": "code",
   "execution_count": 4,
   "id": "7c11efbb",
   "metadata": {},
   "outputs": [],
   "source": [
    "import numpy as np\n",
    "f = h5py.File('mydata.h5')\n",
    "x = np.array(f['.'])"
   ]
  },
  {
   "cell_type": "code",
   "execution_count": 5,
   "id": "c1b99ffd",
   "metadata": {},
   "outputs": [],
   "source": [
    "import dask.array as da\n",
    "f = h5py.File('mydata.h5')\n",
    "x = da.array(f['.'])"
   ]
  },
  {
   "cell_type": "markdown",
   "id": "06156bcf",
   "metadata": {},
   "source": [
    "<div class=\"alert alert-block alert-info\">\n",
    "<b>See also:</b>\n",
    "    <ul>\n",
    "        <li><a href=\"https://docs.dask.org/en/latest/array.html\">Dask Array Docs</a></li>\n",
    "        <li><a href=\"https://docs.dask.org/en/latest/array-best-practices.html\">Dask Array Best Practices</a></li>\n",
    "    </ul>\n",
    "</div>"
   ]
  },
  {
   "cell_type": "markdown",
   "id": "601abdeb",
   "metadata": {},
   "source": [
    "### Dask Bag\n",
    "\n",
    "… imitates [iterators](https://docs.python.org/3/library/itertools.html), [Toolz](https://toolz.readthedocs.io/en/latest/index.html) und [PySpark](http://spark.apache.org/docs/latest/api/python/)."
   ]
  },
  {
   "cell_type": "code",
   "execution_count": 6,
   "id": "23c242b9",
   "metadata": {},
   "outputs": [],
   "source": [
    "import dask.bag as db\n",
    "import json\n",
    "b = db.read_text('2021-09-01.csv').map(json.loads)\n",
    "b.pluck('user_id').frequencies().topk(10, lambda pair: pair[1]).compute()"
   ]
  },
  {
   "cell_type": "markdown",
   "id": "eebb19e4",
   "metadata": {},
   "source": [
    "<div class=\"alert alert-block alert-info\">\n",
    "<b>See also:</b>\n",
    "    <ul>\n",
    "        <li><a href=\"https://docs.dask.org/en/latest/bag.html\">Dask Bag Docs</a></li>\n",
    "    </ul>\n",
    "</div>"
   ]
  },
  {
   "cell_type": "markdown",
   "id": "b1b1b4d3",
   "metadata": {},
   "source": [
    "### Dask Delayed\n",
    "\n",
    "… imitates loops and wraps custom code"
   ]
  },
  {
   "cell_type": "code",
   "execution_count": 7,
   "id": "0373128a",
   "metadata": {},
   "outputs": [],
   "source": [
    "from dask import delayed\n",
    "L = []\n",
    "for fn in '2021-*-*.csv':             # Use for loops to build up computation\n",
    "    data = delayed(load)(fn)          # Delay execution of function\n",
    "    L.append(delayed(process)(data))  # Build connections between variables\n",
    "\n",
    "result = delayed(summarize)(L)\n",
    "result.compute()"
   ]
  },
  {
   "cell_type": "markdown",
   "id": "0f40601f",
   "metadata": {},
   "source": [
    "<div class=\"alert alert-block alert-info\">\n",
    "<b>See also:</b>\n",
    "    <ul>\n",
    "        <li><a href=\"https://docs.dask.org/en/latest/delayed.html\">Dask Delayed Docs</a></li>\n",
    "        <li><a href=\"https://docs.dask.org/en/latest/delayed-best-practices.html\">Dask Delayed Best Practices</a></li>\n",
    "        <li><a href=\"../clean-prep/dask-pipeline.ipynb\">Dask pipeline example: Tracking the International Space Station with Dask</a></li>\n",
    "    </ul>\n",
    "</div>"
   ]
  },
  {
   "cell_type": "markdown",
   "id": "3f4a6539",
   "metadata": {},
   "source": [
    "## The **concurrent.futures** interface enables the submission of user-defined tasks.\n",
    "\n",
    "<div class=\"alert alert-block alert-info\">\n",
    "<b>Note:</b>\n",
    "    <ul>\n",
    "        <li><a href=\"https://devblogs.microsoft.com/python/python-in-visual-studio-code-april-2022-release/\">Python in Visual Studio Code – April 2022 Release</a></li>\n",
    "        <p>For the following example, Dask must be installed with the <code>distributed</code> option, e.g.</p>\n",
    "        <code class=\"cm-s-ipython language-bash\"><span class=\"cm-def\">$ pipenv</span> install <span class=\"cm-string\">\"dask[distributed]\"</span></code>\n",
    "    </ul>\n",
    "</div>"
   ]
  },
  {
   "cell_type": "code",
   "execution_count": 8,
   "id": "cfa665a0",
   "metadata": {},
   "outputs": [],
   "source": [
    "from dask.distributed import Client\n",
    "client = Client('scheduler:port')\n",
    "\n",
    "futures = []\n",
    "for fn in filenames:\n",
    "    future = client.submit(load, fn)\n",
    "    futures.append(future)\n",
    "\n",
    "summary = client.submit(summarize, futures)\n",
    "summary.result()"
   ]
  },
  {
   "cell_type": "markdown",
   "id": "ea39f5ec",
   "metadata": {},
   "source": [
    "<div class=\"alert alert-block alert-info\">\n",
    "<b>See also:</b>\n",
    "    <ul>\n",
    "        <li><a href=\"https://docs.dask.org/en/latest/futures.html\">Dask Futures Docs</a></li>\n",
    "        <li><a href=\"https://distributed.dask.org/en/latest/quickstart.html\">Dask Futures Quickstart</a></li>\n",
    "        <li><a href=\"https://examples.dask.org/futures.html\">Dask Futures Examples</a></li>\n",
    "    </ul>\n",
    "</div>"
   ]
  }
 ],
 "metadata": {
  "kernelspec": {
   "display_name": "Python 3.8",
   "language": "python",
   "name": "python-38"
  },
  "language_info": {
   "codemirror_mode": {
    "name": "ipython",
    "version": 3
   },
   "file_extension": ".py",
   "mimetype": "text/x-python",
   "name": "python",
   "nbconvert_exporter": "python",
   "pygments_lexer": "ipython3",
   "version": "3.8.12"
  },
  "latex_envs": {
   "LaTeX_envs_menu_present": true,
   "autoclose": false,
   "autocomplete": true,
   "bibliofile": "biblio.bib",
   "cite_by": "apalike",
   "current_citInitial": 1,
   "eqLabelWithNumbers": true,
   "eqNumInitial": 1,
   "hotkeys": {
    "equation": "Ctrl-E",
    "itemize": "Ctrl-I"
   },
   "labels_anchors": false,
   "latex_user_defs": false,
   "report_style_numbering": false,
   "user_envs_cfg": false
  }
 },
 "nbformat": 4,
 "nbformat_minor": 5
}
