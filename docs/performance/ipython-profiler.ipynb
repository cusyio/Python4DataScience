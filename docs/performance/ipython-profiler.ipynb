{
 "cells": [
  {
   "cell_type": "markdown",
   "metadata": {},
   "source": [
    "# iPython Profiler\n",
    "\n",
    "IPython provides access to a wide range of functions to measure times and create profiles. The following magic IPython commands are explained here:\n",
    "\n",
    "| Command        | Description                                                                       |\n",
    "| -------------- | --------------------------------------------------------------------------------- |\n",
    "| `%time`        | Time to execute a single statement                                                |\n",
    "| `%timeit`      | Average time it took to execute a single statement repeatedly                     |\n",
    "| `%prun`        | Run code with the profiler                                                        |\n",
    "| `%lprun`       | Run code with the line-by-line profiler                                           |\n",
    "| `%memit`       | Measure the memory usage of a single statement                                    |\n",
    "| `%mprun`       | Executes the code with the line-by-line memory profiler                           |\n",
    "\n",
    "The last four commands are not contained in IPython itself, but in the modules [line_profiler](https://github.com/pyutils/line_profiler) and [memory_profiler](https://github.com/pythonprofilers/memory_profiler).\n",
    "\n",
    "<div class=\"alert alert-block alert-info\">\n",
    "\n",
    "**See also:**\n",
    "\n",
    "* [Penn Machine Learning Benchmarks](https://github.com/EpistasisLab/pmlb)\n",
    "</div>"
   ]
  },
  {
   "cell_type": "markdown",
   "metadata": {},
   "source": [
    "## `%timeit` and `%time`\n",
    "\n",
    "We saw the `%timeit` line and `%%timeit` cell magic in the introduction of the magic functions in IPython magic commands. They can be used to measure the timing of the repeated execution of code snippets:"
   ]
  },
  {
   "cell_type": "code",
   "execution_count": 1,
   "metadata": {},
   "outputs": [
    {
     "name": "stdout",
     "output_type": "stream",
     "text": [
      "320 ns ± 1.66 ns per loop (mean ± std. dev. of 7 runs, 1,000,000 loops each)\n"
     ]
    }
   ],
   "source": [
    "%timeit sum(range(100))"
   ]
  },
  {
   "cell_type": "markdown",
   "metadata": {},
   "source": [
    "Note that `%timeit` executes the execution multiple times in a loop. If the number of loops is not specified with `-n`, `%timeit` automatically adjusts the number so that sufficient measurement accuracy is achieved:"
   ]
  },
  {
   "cell_type": "code",
   "execution_count": 2,
   "metadata": {},
   "outputs": [
    {
     "name": "stdout",
     "output_type": "stream",
     "text": [
      "71.2 ms ± 826 μs per loop (mean ± std. dev. of 7 runs, 10 loops each)\n"
     ]
    }
   ],
   "source": [
    "%%timeit\n",
    "total = 0\n",
    "for i in range(1000):\n",
    "    for j in range(1000):\n",
    "        total += i * (-1) ** j"
   ]
  },
  {
   "cell_type": "markdown",
   "metadata": {},
   "source": [
    "Sometimes repeating an operation is not the best option, for example when we have a list that we want to sort. Here we may be misled by repeated surgery. Sorting a presorted list is much faster than sorting an unsorted list, so repeating it distorts the result:"
   ]
  },
  {
   "cell_type": "code",
   "execution_count": 3,
   "metadata": {},
   "outputs": [
    {
     "name": "stdout",
     "output_type": "stream",
     "text": [
      "214 μs ± 2.9 μs per loop (mean ± std. dev. of 7 runs, 1,000 loops each)\n"
     ]
    }
   ],
   "source": [
    "import random\n",
    "\n",
    "\n",
    "L = [random.random() for i in range(100000)]\n",
    "%timeit L.sort()"
   ]
  },
  {
   "cell_type": "markdown",
   "metadata": {},
   "source": [
    "Then the `%time` function might be a better choice. `%time` should also be the better choice for long-running commands, when short system-related delays are unlikely to affect the result:"
   ]
  },
  {
   "cell_type": "code",
   "execution_count": 4,
   "metadata": {},
   "outputs": [
    {
     "name": "stdout",
     "output_type": "stream",
     "text": [
      "CPU times: user 15.8 ms, sys: 314 μs, total: 16.1 ms\n",
      "Wall time: 16.4 ms\n"
     ]
    }
   ],
   "source": [
    "import random\n",
    "\n",
    "\n",
    "L = [random.random() for i in range(100000)]\n",
    "%time L.sort()"
   ]
  },
  {
   "cell_type": "markdown",
   "metadata": {},
   "source": [
    "Sorting an already sorted list:"
   ]
  },
  {
   "cell_type": "code",
   "execution_count": 5,
   "metadata": {},
   "outputs": [
    {
     "name": "stdout",
     "output_type": "stream",
     "text": [
      "CPU times: user 4.17 ms, sys: 1 μs, total: 4.17 ms\n",
      "Wall time: 4.18 ms\n"
     ]
    }
   ],
   "source": [
    "%time L.sort()"
   ]
  },
  {
   "cell_type": "markdown",
   "metadata": {},
   "source": [
    "Note how much faster the pre-sorted list is to be sorted, but also note how much longer the timing with `%time` takes compared to `%timeit`, even for the pre-sorted list. This is due to the fact that `%timeit` is doing some clever things to keep system calls from interfering with the timing. This prevents, for example, the garbage collection of Python objects that are no longer used and that could otherwise affect the time measurement. Because of this, the `%timeit` results are usually noticeably faster than the `%time` results."
   ]
  },
  {
   "cell_type": "markdown",
   "metadata": {},
   "source": [
    "## Profiling for scripts: `%prun`\n",
    "\n",
    "A program is made up of many individual instructions, and sometimes it is more important to measure those instructions in context than to measure them yourself. Python includes a built-in [Code-Profiler](https://docs.python.org/3/library/profile.html). However, IPython offers a much more convenient way to use this profiler in the form of the magic function `%prun`.\n",
    "\n",
    "As an example, let’s define a simple function that does some calculations:"
   ]
  },
  {
   "cell_type": "code",
   "execution_count": 6,
   "metadata": {},
   "outputs": [],
   "source": [
    "def sum_of_lists(N):\n",
    "    total = 0\n",
    "    for i in range(5):\n",
    "        L = [j ^ (j >> i) for j in range(N)]\n",
    "        total += sum(L)\n",
    "    return total"
   ]
  },
  {
   "cell_type": "code",
   "execution_count": 7,
   "metadata": {},
   "outputs": [
    {
     "name": "stdout",
     "output_type": "stream",
     "text": [
      " "
     ]
    },
    {
     "data": {
      "text/plain": [
       "         674 function calls (663 primitive calls) in 0.283 seconds\n",
       "\n",
       "   Ordered by: internal time\n",
       "\n",
       "   ncalls  tottime  percall  cumtime  percall filename:lineno(function)\n",
       "        1    0.128    0.128    0.137    0.137 3519952779.py:1(sum_of_lists)\n",
       "       14    0.072    0.005    0.076    0.005 socket.py:626(send)\n",
       "        2    0.033    0.016    0.097    0.048 iostream.py:276(<lambda>)\n",
       "        5    0.017    0.003    0.017    0.003 {built-in method builtins.sum}\n",
       "        1    0.012    0.012    0.012    0.012 {method 'execute' of 'sqlite3.Connection' objects}\n",
       "        2    0.008    0.004    0.008    0.004 {method 'recv' of '_socket.socket' objects}\n",
       "      2/1    0.007    0.003    0.000    0.000 {method 'control' of 'select.kqueue' objects}\n",
       "        1    0.006    0.006    0.143    0.143 <string>:1(<module>)\n",
       "        5    0.000    0.000    0.000    0.000 attrsettr.py:66(_get_attr_opt)\n",
       "        3    0.000    0.000    0.112    0.037 base_events.py:1947(_run_once)\n",
       "       15    0.000    0.000    0.000    0.000 enum.py:1581(__or__)\n",
       "       66    0.000    0.000    0.000    0.000 enum.py:1574(_get_value)\n",
       "        2    0.000    0.000    0.097    0.048 zmqstream.py:583(_handle_events)\n",
       "        2    0.000    0.000    0.059    0.029 socket.py:703(send_multipart)\n",
       "        1    0.000    0.000    0.000    0.000 {method 'disable' of '_lsprof.Profiler' objects}\n",
       "  143/139    0.000    0.000    0.000    0.000 {built-in method builtins.isinstance}\n",
       "        5    0.000    0.000    0.000    0.000 attrsettr.py:43(__getattr__)\n",
       "       29    0.000    0.000    0.000    0.000 enum.py:691(__call__)\n",
       "        1    0.000    0.000    0.020    0.020 history.py:833(_writeout_input_cache)\n",
       "        2    0.000    0.000    0.000    0.000 socket.py:774(recv_multipart)\n",
       "        1    0.000    0.000    0.000    0.000 inspect.py:3116(_bind)\n",
       "      5/2    0.000    0.000    0.097    0.049 events.py:87(_run)\n",
       "        1    0.000    0.000    0.013    0.013 selector_events.py:129(_read_from_self)\n",
       "      4/2    0.000    0.000    0.097    0.048 {method 'run' of '_contextvars.Context' objects}\n",
       "       29    0.000    0.000    0.000    0.000 enum.py:1145(__new__)\n",
       "        5    0.000    0.000    0.000    0.000 <frozen importlib._bootstrap>:1390(_handle_fromlist)\n",
       "        1    0.000    0.000    0.020    0.020 history.py:845(writeout_cache)\n",
       "      2/1    0.000    0.000    0.005    0.005 selectors.py:540(select)\n",
       "        7    0.000    0.000    0.000    0.000 enum.py:1592(__and__)\n",
       "        1    0.000    0.000    0.000    0.000 kernelbase.py:302(poll_control_queue)\n",
       "        3    0.000    0.000    0.000    0.000 zmqstream.py:663(_rebuild_io_state)\n",
       "        3    0.000    0.000    0.000    0.000 zmqstream.py:686(_update_handler)\n",
       "        6    0.000    0.000    0.000    0.000 typing.py:426(inner)\n",
       "        3    0.000    0.000    0.000    0.000 queue.py:115(empty)\n",
       "        1    0.000    0.000    0.000    0.000 queues.py:209(put_nowait)\n",
       "        1    0.000    0.000    0.000    0.000 decorator.py:199(fix)\n",
       "        2    0.000    0.000    0.059    0.029 iostream.py:278(_really_send)\n",
       "        2    0.000    0.000    0.000    0.000 {method '__exit__' of 'sqlite3.Connection' objects}\n",
       "        1    0.000    0.000    0.000    0.000 inspect.py:2930(apply_defaults)\n",
       "        2    0.000    0.000    0.097    0.048 iostream.py:157(_handle_event)\n",
       "        6    0.000    0.000    0.000    0.000 traitlets.py:676(__get__)\n",
       "        1    0.000    0.000    0.000    0.000 traitlets.py:1527(_notify_observers)\n",
       "        3    0.000    0.000    0.000    0.000 base_events.py:848(_call_soon)\n",
       "        1    0.000    0.000    0.000    0.000 queues.py:186(put)\n",
       "       10    0.000    0.000    0.000    0.000 {built-in method builtins.hasattr}\n",
       "        2    0.000    0.000    0.000    0.000 traitlets.py:3631(set)\n",
       "        1    0.000    0.000    0.000    0.000 {method 'send' of '_socket.socket' objects}\n",
       "        1    0.000    0.000    0.020    0.020 history.py:55(only_when_enabled)\n",
       "        2    0.000    0.000    0.000    0.000 traitlets.py:689(set)\n",
       "        2    0.000    0.000    0.000    0.000 traitlets.py:3474(validate)\n",
       "        2    0.000    0.000    0.000    0.000 traitlets.py:718(_validate)\n",
       "        1    0.000    0.000    0.000    0.000 _base.py:537(set_result)\n",
       "        1    0.000    0.000    0.000    0.000 inspect.py:3255(bind)\n",
       "        1    0.000    0.000    0.000    0.000 asyncio.py:225(add_callback)\n",
       "        3    0.000    0.000    0.000    0.000 threading.py:303(__enter__)\n",
       "        1    0.000    0.000    0.143    0.143 {built-in method builtins.exec}\n",
       "        2    0.000    0.000    0.000    0.000 traitlets.py:3624(validate_elements)\n",
       "        4    0.000    0.000    0.000    0.000 base_events.py:768(time)\n",
       "        6    0.000    0.000    0.000    0.000 traitlets.py:629(get)\n",
       "        5    0.000    0.000    0.000    0.000 {built-in method builtins.getattr}\n",
       "       16    0.000    0.000    0.000    0.000 {built-in method builtins.len}\n",
       "        1    0.000    0.000    0.000    0.000 queues.py:225(get)\n",
       "        2    0.000    0.000    0.097    0.048 zmqstream.py:556(_run_callback)\n",
       "        2    0.000    0.000    0.000    0.000 queues.py:322(_consume_expired)\n",
       "        1    0.000    0.000    0.000    0.000 queues.py:173(qsize)\n",
       "        4    0.000    0.000    0.000    0.000 typing.py:1443(__hash__)\n",
       "        1    0.000    0.000    0.000    0.000 concurrent.py:182(future_set_result_unless_cancelled)\n",
       "        6    0.000    0.000    0.000    0.000 {built-in method builtins.next}\n",
       "        2    0.000    0.000    0.000    0.000 traitlets.py:727(_cross_validate)\n",
       "        3    0.000    0.000    0.000    0.000 events.py:36(__init__)\n",
       "        2    0.000    0.000    0.097    0.048 zmqstream.py:624(_handle_recv)\n",
       "        1    0.000    0.000    0.000    0.000 traitlets.py:1512(_notify_trait)\n",
       "        2    0.000    0.000    0.000    0.000 typing.py:1665(__subclasscheck__)\n",
       "        2    0.000    0.000    0.000    0.000 {method 'set_result' of '_asyncio.Future' objects}\n",
       "        2    0.000    0.000    0.000    0.000 iostream.py:213(_is_master_process)\n",
       "        1    0.000    0.000    0.020    0.020 decorator.py:229(fun)\n",
       "        1    0.000    0.000    0.000    0.000 inspect.py:2877(args)\n",
       "        2    0.000    0.000    0.000    0.000 traitlets.py:708(__set__)\n",
       "        2    0.000    0.000    0.000    0.000 traitlets.py:2304(validate)\n",
       "        3    0.000    0.000    0.000    0.000 zmqstream.py:542(sending)\n",
       "        2    0.000    0.000    0.000    0.000 base_events.py:819(call_soon)\n",
       "        7    0.000    0.000    0.000    0.000 {method 'append' of 'collections.deque' objects}\n",
       "        8    0.000    0.000    0.000    0.000 {method 'popleft' of 'collections.deque' objects}\n",
       "        1    0.000    0.000    0.000    0.000 traitlets.py:1523(notify_change)\n",
       "        3    0.000    0.000    0.000    0.000 queue.py:267(_qsize)\n",
       "        3    0.000    0.000    0.000    0.000 selector_events.py:740(_process_events)\n",
       "       24    0.000    0.000    0.000    0.000 typing.py:2366(cast)\n",
       "        1    0.000    0.000    0.000    0.000 futures.py:393(_call_set_state)\n",
       "        5    0.000    0.000    0.000    0.000 {method 'get' of 'dict' objects}\n",
       "        1    0.000    0.000    0.000    0.000 threading.py:315(_acquire_restore)\n",
       "        2    0.000    0.000    0.000    0.000 iostream.py:216(_check_mp_mode)\n",
       "        1    0.000    0.000    0.097    0.097 asyncio.py:200(_handle_events)\n",
       "        7    0.000    0.000    0.000    0.000 {method '__exit__' of '_thread.lock' objects}\n",
       "        1    0.000    0.000    0.000    0.000 queues.py:317(__put_internal)\n",
       "        1    0.000    0.000    0.000    0.000 history.py:839(_writeout_output_cache)\n",
       "       10    0.000    0.000    0.000    0.000 inspect.py:2787(kind)\n",
       "        5    0.000    0.000    0.000    0.000 {method 'upper' of 'str' objects}\n",
       "        1    0.000    0.000    0.000    0.000 queues.py:312(_put)\n",
       "        2    0.000    0.000    0.000    0.000 {built-in method _abc._abc_subclasscheck}\n",
       "        5    0.000    0.000    0.000    0.000 {method 'append' of 'list' objects}\n",
       "        3    0.000    0.000    0.000    0.000 threading.py:306(__exit__)\n",
       "        1    0.000    0.000    0.000    0.000 threading.py:312(_release_save)\n",
       "        1    0.000    0.000    0.000    0.000 queues.py:256(get_nowait)\n",
       "        1    0.000    0.000    0.000    0.000 threading.py:428(notify_all)\n",
       "        1    0.000    0.000    0.000    0.000 base_events.py:872(call_soon_threadsafe)\n",
       "        1    0.000    0.000    0.000    0.000 inspect.py:2900(kwargs)\n",
       "        2    0.000    0.000    0.000    0.000 <frozen abc>:121(__subclasscheck__)\n",
       "        1    0.000    0.000    0.000    0.000 {method 'values' of 'mappingproxy' objects}\n",
       "        1    0.000    0.000    0.000    0.000 _base.py:337(_invoke_callbacks)\n",
       "        1    0.000    0.000    0.000    0.000 ioloop.py:742(_run_callback)\n",
       "        3    0.000    0.000    0.000    0.000 {method 'acquire' of '_thread.lock' objects}\n",
       "        1    0.000    0.000    0.000    0.000 queues.py:177(empty)\n",
       "        2    0.000    0.000    0.000    0.000 typing.py:1374(__instancecheck__)\n",
       "        2    0.000    0.000    0.000    0.000 traitlets.py:3486(validate_elements)\n",
       "        5    0.000    0.000    0.000    0.000 zmqstream.py:538(receiving)\n",
       "        1    0.000    0.000    0.000    0.000 threading.py:631(clear)\n",
       "        3    0.000    0.000    0.000    0.000 {method 'items' of 'mappingproxy' objects}\n",
       "        1    0.000    0.000    0.000    0.000 selector_events.py:141(_write_to_self)\n",
       "        1    0.000    0.000    0.000    0.000 unix_events.py:83(_process_self_data)\n",
       "        1    0.000    0.000    0.000    0.000 threading.py:398(notify)\n",
       "        1    0.000    0.000    0.000    0.000 {method '__enter__' of '_thread.RLock' objects}\n",
       "        4    0.000    0.000    0.000    0.000 {built-in method time.monotonic}\n",
       "        4    0.000    0.000    0.000    0.000 {built-in method builtins.hash}\n",
       "        2    0.000    0.000    0.000    0.000 {built-in method builtins.issubclass}\n",
       "        3    0.000    0.000    0.000    0.000 {built-in method builtins.max}\n",
       "        1    0.000    0.000    0.000    0.000 {built-in method _thread.allocate_lock}\n",
       "        2    0.000    0.000    0.000    0.000 {built-in method _contextvars.copy_context}\n",
       "        4    0.000    0.000    0.000    0.000 inspect.py:3070(parameters)\n",
       "        2    0.000    0.000    0.000    0.000 {built-in method builtins.iter}\n",
       "        1    0.000    0.000    0.000    0.000 base_events.py:1932(_add_callback)\n",
       "        2    0.000    0.000    0.000    0.000 iostream.py:255(closed)\n",
       "        2    0.000    0.000    0.000    0.000 {method 'extend' of 'list' objects}\n",
       "        2    0.000    0.000    0.000    0.000 {built-in method posix.getpid}\n",
       "        2    0.000    0.000    0.000    0.000 {method '__enter__' of '_thread.lock' objects}\n",
       "        2    0.000    0.000    0.000    0.000 {method 'cancelled' of '_asyncio.Future' objects}\n",
       "        1    0.000    0.000    0.000    0.000 {method 'done' of '_asyncio.Future' objects}\n",
       "        1    0.000    0.000    0.000    0.000 threading.py:318(_is_owned)\n",
       "        1    0.000    0.000    0.000    0.000 zmqstream.py:694(<lambda>)\n",
       "        1    0.000    0.000    0.000    0.000 queues.py:309(_get)\n",
       "        3    0.000    0.000    0.000    0.000 base_events.py:550(_check_closed)\n",
       "        5    0.000    0.000    0.000    0.000 base_events.py:2045(get_debug)\n",
       "        4    0.000    0.000    0.000    0.000 inspect.py:2775(name)\n",
       "        1    0.000    0.000    0.000    0.000 {built-in method _asyncio.get_running_loop}\n",
       "        1    0.000    0.000    0.000    0.000 inspect.py:2869(__init__)\n",
       "        1    0.000    0.000    0.000    0.000 queues.py:59(_set_timeout)\n",
       "        1    0.000    0.000    0.000    0.000 {method 'release' of '_thread.lock' objects}\n",
       "        1    0.000    0.000    0.000    0.000 {method '_is_owned' of '_thread.RLock' objects}\n",
       "        1    0.000    0.000    0.000    0.000 {method '__exit__' of '_thread.RLock' objects}\n",
       "        1    0.000    0.000    0.000    0.000 locks.py:224(clear)\n",
       "        1    0.000    0.000    0.000    0.000 base_events.py:754(is_closed)"
      ]
     },
     "metadata": {},
     "output_type": "display_data"
    }
   ],
   "source": [
    "%prun sum_of_lists(1000000)"
   ]
  },
  {
   "cell_type": "markdown",
   "metadata": {},
   "source": [
    "In the notebook the output looks something like this:\n",
    "\n",
    "```\n",
    "14 function calls in 9.597 seconds\n",
    "\n",
    "   Ordered by: internal time\n",
    "\n",
    "   ncalls  tottime  percall  cumtime  percall filename:lineno(function)\n",
    "        5    8.121    1.624    8.121    1.624 <ipython-input-15-f105717832a2>:4(<listcomp>)\n",
    "        5    0.747    0.149    0.747    0.149 {built-in method builtins.sum}\n",
    "        1    0.665    0.665    9.533    9.533 <ipython-input-15-f105717832a2>:1(sum_of_lists)\n",
    "        1    0.065    0.065    9.597    9.597 <string>:1(<module>)\n",
    "        1    0.000    0.000    9.597    9.597 {built-in method builtins.exec}\n",
    "        1    0.000    0.000    0.000    0.000 {method 'disable' of '_lsprof.Profiler' objects}\n",
    "```"
   ]
  },
  {
   "cell_type": "markdown",
   "metadata": {},
   "source": [
    "The result is a table that shows the execution time for each function call, sorted by total time. In this case, most of the time is consumed with list comprehension within `sum_of_lists`. This gives us clues as to where we could improve the efficiency of the algorithm."
   ]
  },
  {
   "cell_type": "markdown",
   "metadata": {},
   "source": [
    "## Profiling line by line: `%lprun`\n",
    "\n",
    "Profiling with `%prun` is useful, but sometimes a line-by-line profile report is more insightful. This isn’t built into Python or IPython, but there is a package available, [line_profiler](https://github.com/rkern/line_profiler), that enables this. This can be provided in your kernel with\n",
    "\n",
    "``` bash\n",
    "$ spack env activate python-374\n",
    "$ spack install py-line-profiler ^python@3.7.4%gcc@9.1.0\n",
    "```\n",
    "\n",
    "Alternatively, you can install `line-profiler` with other package managers, for example\n",
    "\n",
    "``` bash\n",
    "$ uv add line_profiler\n",
    "```\n",
    "\n",
    "Now you can load IPython with the `line_profiler` extension:"
   ]
  },
  {
   "cell_type": "code",
   "execution_count": 8,
   "metadata": {},
   "outputs": [],
   "source": [
    "%load_ext line_profiler"
   ]
  },
  {
   "cell_type": "markdown",
   "metadata": {},
   "source": [
    "The `%lprun` command profiles each function line by line. In this case, you must explicitly specify which functions are of interest for creating the profile:"
   ]
  },
  {
   "cell_type": "code",
   "execution_count": 9,
   "metadata": {},
   "outputs": [],
   "source": [
    "%lprun -f sum_of_lists sum_of_lists(5000)"
   ]
  },
  {
   "cell_type": "markdown",
   "metadata": {},
   "source": [
    "The result looks something like this:\n",
    "\n",
    "```\n",
    "Timer unit: 1e-06 s\n",
    "\n",
    "Total time: 0.015145 s\n",
    "File: <ipython-input-6-f105717832a2>\n",
    "Function: sum_of_lists at line 1\n",
    "\n",
    "Line #      Hits         Time  Per Hit   % Time  Line Contents\n",
    "==============================================================\n",
    "     1                                           def sum_of_lists(N):\n",
    "     2         1          1.0      1.0      0.0      total = 0\n",
    "     3         6         11.0      1.8      0.1      for i in range(5):\n",
    "     4         5      14804.0   2960.8     97.7          L = [j ^ (j >> i) for j in range(N)]\n",
    "     5         5        329.0     65.8      2.2          total += sum(L)\n",
    "     6         1          0.0      0.0      0.0      return total\n",
    "```"
   ]
  },
  {
   "cell_type": "markdown",
   "metadata": {},
   "source": [
    "The time is given in microseconds and we can see which line the function spends most of its time on. We may then be able to modify the script in such a way that the efficiency of the function can be increased.\n",
    "\n",
    "More information about `%lprun` and the available options can be found in the IPython help function `%lprun?`."
   ]
  },
  {
   "cell_type": "markdown",
   "metadata": {},
   "source": [
    "## Create a storage profile:  `%memit` and `%mprun`\n",
    "\n",
    "Another aspect of profiling is the amount of memory that an operation uses. This can be evaluated with another IPython extension, the `memory_profiler`. This can be provided in your kernel with\n",
    "\n",
    "``` bash\n",
    "$ spack env activate python-311\n",
    "$ spack install py-memory-profiler\n",
    "```\n",
    "\n",
    "Alternatively you can install `memory-profiler` with other package managers, for example\n",
    "\n",
    "``` bash\n",
    "$ uv add memory_profiler\n",
    "```"
   ]
  },
  {
   "cell_type": "code",
   "execution_count": 10,
   "metadata": {},
   "outputs": [
    {
     "name": "stdout",
     "output_type": "stream",
     "text": [
      "The memory_profiler extension is already loaded. To reload it, use:\n",
      "  %reload_ext memory_profiler\n"
     ]
    }
   ],
   "source": [
    "%load_ext memory_profiler"
   ]
  },
  {
   "cell_type": "code",
   "execution_count": 11,
   "metadata": {},
   "outputs": [
    {
     "name": "stdout",
     "output_type": "stream",
     "text": [
      "peak memory: 205.31 MiB, increment: 70.73 MiB\n"
     ]
    }
   ],
   "source": [
    "%memit sum_of_lists(1000000)"
   ]
  },
  {
   "cell_type": "markdown",
   "metadata": {},
   "source": [
    "We see that this feature occupies approximately 100 MB of memory.\n",
    "\n",
    "For a line-by-line description of memory usage, we can use the `%mprun` magic. Unfortunately, this magic only works for functions that are defined in separate modules and not for the notebook itself. So we first use the `%%file` magic to create a simple module called `mprun_demo.py` that contains our `sum_of_lists` function."
   ]
  },
  {
   "cell_type": "code",
   "execution_count": 12,
   "metadata": {},
   "outputs": [
    {
     "name": "stdout",
     "output_type": "stream",
     "text": [
      "Overwriting mprun_demo.py\n"
     ]
    }
   ],
   "source": [
    "%%file mprun_demo.py\n",
    "from memory_profiler import profile\n",
    "  \n",
    "@profile\n",
    "def my_func():\n",
    "    a = [1] * (10 ** 6)\n",
    "    b = [2] * (2 * 10 ** 7)\n",
    "    del b\n",
    "    return a"
   ]
  },
  {
   "cell_type": "code",
   "execution_count": 13,
   "metadata": {},
   "outputs": [
    {
     "name": "stdout",
     "output_type": "stream",
     "text": [
      "Filename: /Users/veit/cusy/trn/Python4DataScience/docs/performance/mprun_demo.py\n",
      "\n",
      "Line #    Mem usage    Increment  Occurrences   Line Contents\n",
      "=============================================================\n",
      "     3    150.2 MiB    150.2 MiB           1   @profile\n",
      "     4                                         def my_func():\n",
      "     5    157.9 MiB      7.6 MiB           1       a = [1] * (10 ** 6)\n",
      "     6    310.5 MiB    152.6 MiB           1       b = [2] * (2 * 10 ** 7)\n",
      "     7    310.5 MiB      0.0 MiB           1       del b\n",
      "     8    310.5 MiB      0.0 MiB           1       return a\n",
      "\n",
      "\n",
      "\n"
     ]
    },
    {
     "data": {
      "text/plain": [
       "Filename: /Users/veit/sandbox/py313/.venv/lib/python3.13/site-packages/memory_profiler.py\n",
       "\n",
       "Line #    Mem usage    Increment  Occurrences   Line Contents\n",
       "=============================================================\n",
       "  1185    150.2 MiB    150.2 MiB           1               @wraps(wrapped=func)\n",
       "  1186                                                     def wrapper(*args, **kwargs):\n",
       "  1187    150.2 MiB      0.0 MiB           1                   prof = get_prof()\n",
       "  1188    310.5 MiB    160.2 MiB           1                   val = prof(func)(*args, **kwargs)\n",
       "  1189    310.5 MiB      0.0 MiB           1                   show_results_bound(prof)\n",
       "  1190    310.5 MiB      0.0 MiB           1                   return val"
      ]
     },
     "metadata": {},
     "output_type": "display_data"
    }
   ],
   "source": [
    "from mprun_demo import my_func\n",
    "%mprun -f my_func my_func()"
   ]
  },
  {
   "cell_type": "markdown",
   "metadata": {},
   "source": [
    "Here the `Increment` column shows how much each row affects the total memory consumption: Note that when we calculate `b` we need about 160 MB of additional memory; however, this is not released again by deleting `b`.\n",
    "\n",
    "More information about `%memit`, `%mprun` and their options can be found in the IPython help with `%memit?`."
   ]
  },
  {
   "cell_type": "markdown",
   "metadata": {},
   "source": [
    "## pyheatmagic\n",
    "\n",
    "[pyheatmagic](https://github.com/csurfer/pyheatmagic) is an extension that allows the IPython magic command `%%heat` to display Python code as a heatmap with [Py-Heat](https://github.com/csurfer/pyheat).\n",
    "\n",
    "It can be easily installed in the kernel with\n",
    "\n",
    "```\n",
    "$ uv add py-heat-magic\n",
    "Installing py-heat-magic…\n",
    "…```"
   ]
  },
  {
   "cell_type": "markdown",
   "metadata": {},
   "source": [
    "### Loading the extension in IPython"
   ]
  },
  {
   "cell_type": "code",
   "execution_count": 14,
   "metadata": {},
   "outputs": [],
   "source": [
    "%load_ext heat"
   ]
  },
  {
   "cell_type": "markdown",
   "metadata": {},
   "source": [
    "### Display the heat map"
   ]
  },
  {
   "cell_type": "code",
   "execution_count": 15,
   "metadata": {},
   "outputs": [
    {
     "name": "stdout",
     "output_type": "stream",
     "text": []
    },
    {
     "data": {
      "image/png": "[encoded data removed]",
      "text/plain": [
       "<Figure size 875x1133.33 with 2 Axes>"
      ]
     },
     "metadata": {},
     "output_type": "display_data"
    }
   ],
   "source": [
    "%%heat\n",
    "\n",
    "\n",
    "def powfun(a, b):\n",
    "    \"\"\"Method to raise a to power b using pow() function.\"\"\"\n",
    "    return pow(a, b)\n",
    "\n",
    "\n",
    "def powop(a, b):\n",
    "    \"\"\"Method to raise a to power b using ** operator.\"\"\"\n",
    "    return a**b\n",
    "\n",
    "\n",
    "def powmodexp(a, b):\n",
    "    \"\"\"Method to raise a to power b using modular exponentiation.\"\"\"\n",
    "    base = a\n",
    "    res = 1\n",
    "    while b > 0:\n",
    "        if b & 1:\n",
    "            res *= base\n",
    "        base *= base\n",
    "        b >>= 1\n",
    "    return res\n",
    "\n",
    "\n",
    "def main():\n",
    "    \"\"\"Test function.\"\"\"\n",
    "    a, b = 2377757, 773\n",
    "    pow_function = powfun(a, b)\n",
    "    pow_operator = powop(a, b)\n",
    "    pow_modular_exponentiation = powmodexp(a, b)\n",
    "\n",
    "\n",
    "if __name__ == \"__main__\":\n",
    "    main()"
   ]
  },
  {
   "cell_type": "markdown",
   "metadata": {},
   "source": [
    "Alternatively, the heatmap can also be saved as a file, for example with\n",
    "\n",
    "``` python\n",
    "%%heat -o pow-heatmap.png\n",
    "```"
   ]
  }
 ],
 "metadata": {
  "kernelspec": {
   "display_name": "Python 3.13 Kernel",
   "language": "python",
   "name": "python313"
  },
  "language_info": {
   "codemirror_mode": {
    "name": "ipython",
    "version": 3
   },
   "file_extension": ".py",
   "mimetype": "text/x-python",
   "name": "python",
   "nbconvert_exporter": "python",
   "pygments_lexer": "ipython3",
   "version": "3.13.0"
  },
  "latex_envs": {
   "LaTeX_envs_menu_present": true,
   "autoclose": false,
   "autocomplete": true,
   "bibliofile": "biblio.bib",
   "cite_by": "apalike",
   "current_citInitial": 1,
   "eqLabelWithNumbers": true,
   "eqNumInitial": 1,
   "hotkeys": {
    "equation": "Ctrl-E",
    "itemize": "Ctrl-I"
   },
   "labels_anchors": false,
   "latex_user_defs": false,
   "report_style_numbering": false,
   "user_envs_cfg": false
  },
  "varInspector": {
   "cols": {
    "lenName": 16,
    "lenType": 16,
    "lenVar": 40
   },
   "kernels_config": {
    "python": {
     "delete_cmd_postfix": "",
     "delete_cmd_prefix": "del ",
     "library": "var_list.py",
     "varRefreshCmd": "print(var_dic_list())"
    },
    "r": {
     "delete_cmd_postfix": ") ",
     "delete_cmd_prefix": "rm(",
     "library": "var_list.r",
     "varRefreshCmd": "cat(var_dic_list()) "
    }
   },
   "types_to_exclude": [
    "module",
    "function",
    "builtin_function_or_method",
    "instance",
    "_Feature"
   ],
   "window_display": false
  },
  "widgets": {
   "application/vnd.jupyter.widget-state+json": {
    "state": {},
    "version_major": 2,
    "version_minor": 0
   }
  }
 },
 "nbformat": 4,
 "nbformat_minor": 4
}
