{
 "cells": [
  {
   "cell_type": "markdown",
   "metadata": {},
   "source": [
    "# scalene\n",
    "\n",
    "scalene creates profiles for CPU and memory very quickly. The overhead is usually very low at 10–20%.\n",
    "\n",
    "<div class=\"alert alert-block alert-info\">\n",
    "\n",
    "**See also**\n",
    "\n",
    "* [GitHub](https://github.com/emeryberger/Scalene)\n",
    "* [PyPI](https://pypi.org/project/scalene/)\n",
    "* [scalene-paper.pdf](https://github.com/plasma-umass/scalene/blob/master/docs/scalene-paper.pdf)\n",
    "</div>"
   ]
  },
  {
   "cell_type": "markdown",
   "metadata": {},
   "source": [
    "## Installation\n",
    "\n",
    "Linux, MacOS and WSL:\n",
    "\n",
    "``` bash\n",
    "$ pipenv install scalene\n",
    "```"
   ]
  },
  {
   "cell_type": "markdown",
   "metadata": {},
   "source": [
    "## Use"
   ]
  },
  {
   "cell_type": "markdown",
   "metadata": {},
   "source": [
    "1. An example programme for profiling"
   ]
  },
  {
   "cell_type": "code",
   "execution_count": 1,
   "metadata": {},
   "outputs": [],
   "source": [
    "import numpy as np\n",
    "\n",
    "\n",
    "def profile_me():\n",
    "    for i in range(6):\n",
    "        x = np.array(range(10**7))\n",
    "        y = np.array(np.random.uniform(0, 100, size=(10**8)))"
   ]
  },
  {
   "cell_type": "markdown",
   "metadata": {},
   "source": [
    "2. Load scalene"
   ]
  },
  {
   "cell_type": "code",
   "execution_count": 2,
   "metadata": {},
   "outputs": [
    {
     "name": "stdout",
     "output_type": "stream",
     "text": [
      "Scalene extension successfully loaded. Note: Scalene currently only\n",
      "supports CPU+GPU profiling inside Jupyter notebooks. For full Scalene\n",
      "profiling, use the command line version.\n",
      "\n",
      "NOTE: in Jupyter notebook on MacOS, Scalene cannot profile child\n",
      "processes. Do not run to try Scalene with multiprocessing in Jupyter\n",
      "Notebook.\n"
     ]
    }
   ],
   "source": [
    "%load_ext scalene"
   ]
  },
  {
   "cell_type": "markdown",
   "metadata": {},
   "source": [
    "3. Profile with only one line of code"
   ]
  },
  {
   "cell_type": "code",
   "execution_count": null,
   "metadata": {},
   "outputs": [],
   "source": [
    "%scrun profile_me()\n",
    "import numpy as np\n",
    "\n",
    "\n",
    "def profile_me():\n",
    "    for i in range(6):\n",
    "        x = np.array(range(10**7))\n",
    "        y = np.array(np.random.uniform(0, 100, size=(10**8)))"
   ]
  },
  {
   "cell_type": "markdown",
   "metadata": {},
   "source": [
    "Create a reduced profile (only rows with non-zero counts)"
   ]
  },
  {
   "cell_type": "code",
   "execution_count": null,
   "metadata": {},
   "outputs": [],
   "source": [
    "%scrun --reduced-profile profile_me()\n",
    "import numpy as np\n",
    "\n",
    "\n",
    "def profile_me():\n",
    "    for i in range(6):\n",
    "        x = np.array(range(10**7))\n",
    "        y = np.array(np.random.uniform(0, 100, size=(10**8)))"
   ]
  },
  {
   "cell_type": "markdown",
   "metadata": {},
   "source": [
    "For a complete list of options, contact:"
   ]
  },
  {
   "cell_type": "code",
   "execution_count": 5,
   "metadata": {},
   "outputs": [
    {
     "data": {
      "text/html": [
       "<pre style=\"white-space:pre;overflow-x:auto;line-height:normal;font-family:Menlo,'DejaVu Sans Mono',consolas,'Courier New',monospace\">usage: scalene <span style=\"font-weight: bold\">[</span>-h<span style=\"font-weight: bold\">]</span> <span style=\"font-weight: bold\">[</span>--version<span style=\"font-weight: bold\">]</span> <span style=\"font-weight: bold\">[</span>--column-width COLUMN_WIDTH<span style=\"font-weight: bold\">]</span>\n",
       "               <span style=\"font-weight: bold\">[</span>--outfile OUTFILE<span style=\"font-weight: bold\">]</span> <span style=\"font-weight: bold\">[</span>--html<span style=\"font-weight: bold\">]</span> <span style=\"font-weight: bold\">[</span>--json<span style=\"font-weight: bold\">]</span> <span style=\"font-weight: bold\">[</span>--cli<span style=\"font-weight: bold\">]</span> <span style=\"font-weight: bold\">[</span>--stacks<span style=\"font-weight: bold\">]</span>\n",
       "               <span style=\"font-weight: bold\">[</span>--web<span style=\"font-weight: bold\">]</span> <span style=\"font-weight: bold\">[</span>--viewer<span style=\"font-weight: bold\">]</span> <span style=\"font-weight: bold\">[</span>--reduced-profile<span style=\"font-weight: bold\">]</span>\n",
       "               <span style=\"font-weight: bold\">[</span>--profile-interval PROFILE_INTERVAL<span style=\"font-weight: bold\">]</span> <span style=\"font-weight: bold\">[</span>--cpu<span style=\"font-weight: bold\">]</span> <span style=\"font-weight: bold\">[</span>--cpu-only<span style=\"font-weight: bold\">]</span>\n",
       "               <span style=\"font-weight: bold\">[</span>--gpu<span style=\"font-weight: bold\">]</span> <span style=\"font-weight: bold\">[</span>--memory<span style=\"font-weight: bold\">]</span> <span style=\"font-weight: bold\">[</span>--profile-all<span style=\"font-weight: bold\">]</span>\n",
       "               <span style=\"font-weight: bold\">[</span>--profile-only PROFILE_ONLY<span style=\"font-weight: bold\">]</span>\n",
       "               <span style=\"font-weight: bold\">[</span>--profile-exclude PROFILE_EXCLUDE<span style=\"font-weight: bold\">]</span> <span style=\"font-weight: bold\">[</span>--use-virtual-time<span style=\"font-weight: bold\">]</span>\n",
       "               <span style=\"font-weight: bold\">[</span>--cpu-percent-threshold CPU_PERCENT_THRESHOLD<span style=\"font-weight: bold\">]</span>\n",
       "               <span style=\"font-weight: bold\">[</span>--cpu-sampling-rate CPU_SAMPLING_RATE<span style=\"font-weight: bold\">]</span>\n",
       "               <span style=\"font-weight: bold\">[</span>--allocation-sampling-window ALLOCATION_SAMPLING_WINDOW<span style=\"font-weight: bold\">]</span>\n",
       "               <span style=\"font-weight: bold\">[</span>--malloc-threshold MALLOC_THRESHOLD<span style=\"font-weight: bold\">]</span>\n",
       "               <span style=\"font-weight: bold\">[</span>--program-path PROGRAM_PATH<span style=\"font-weight: bold\">]</span> <span style=\"font-weight: bold\">[</span>--memory-leak-detector<span style=\"font-weight: bold\">]</span>\n",
       "               <span style=\"font-weight: bold\">[</span>--on | --off<span style=\"font-weight: bold\">]</span>\n",
       "\n",
       "<span style=\"font-weight: bold\">Scalene</span>: a high-precision CPU and memory profiler, version <span style=\"color: #008080; text-decoration-color: #008080; font-weight: bold\">1.5</span>.<span style=\"color: #008080; text-decoration-color: #008080; font-weight: bold\">23</span> <span style=\"font-weight: bold\">(</span><span style=\"color: #008080; text-decoration-color: #008080; font-weight: bold\">2023.07</span>.<span style=\"color: #008080; text-decoration-color: #008080; font-weight: bold\">26</span><span style=\"font-weight: bold\">)</span>\n",
       "<a href=\"https://github.com/plasma-umass/scalene\" target=\"_blank\"><span style=\"color: #0000ff; text-decoration-color: #0000ff; text-decoration: underline\">https://github.com/plasma-umass/scalene</span></a>\n",
       "\n",
       "command-line:\n",
       "  % <span style=\"font-weight: bold\">scalene [options] your_program.py [--- --your_program_args] </span>\n",
       "or\n",
       "  % <span style=\"font-weight: bold\">python3 -m scalene [options] your_program.py [--- --your_program_args] </span>\n",
       "\n",
       "in Jupyter, line mode:\n",
       "<span style=\"font-weight: bold\">  %scrun [options] statement</span>\n",
       "\n",
       "in Jupyter, cell mode:\n",
       "<span style=\"font-weight: bold\">  %%scalene [options]</span>\n",
       "<span style=\"font-weight: bold\">   your code here</span>\n",
       "\n",
       "\n",
       "options:\n",
       "  -h, --help            show this help message and exit\n",
       "  --version             prints the version number for this release of Scalene and exits\n",
       "  --column-width COLUMN_WIDTH\n",
       "                        Column width for profile output <span style=\"font-weight: bold\">(</span>default: <span style=\"color: #000080; text-decoration-color: #000080; font-weight: bold\">132</span><span style=\"font-weight: bold\">)</span>\n",
       "  --outfile OUTFILE     file to hold profiler output <span style=\"font-weight: bold\">(</span>default: <span style=\"color: #000080; text-decoration-color: #000080\">stdout</span><span style=\"font-weight: bold\">)</span>\n",
       "  --html                output as HTML <span style=\"font-weight: bold\">(</span>default: <span style=\"color: #000080; text-decoration-color: #000080\">web</span><span style=\"font-weight: bold\">)</span>\n",
       "  --json                output as JSON <span style=\"font-weight: bold\">(</span>default: <span style=\"color: #000080; text-decoration-color: #000080\">web</span><span style=\"font-weight: bold\">)</span>\n",
       "  --cli                 forces use of the command-line\n",
       "  --stacks              collect stack traces\n",
       "  --web                 opens a web tab to view the profile <span style=\"font-weight: bold\">(</span>saved as <span style=\"color: #008000; text-decoration-color: #008000\">'profile.html'</span><span style=\"font-weight: bold\">)</span>\n",
       "  --viewer              only opens the web UI <span style=\"font-weight: bold\">(</span><span style=\"color: #0000ff; text-decoration-color: #0000ff; text-decoration: underline\">https://plasma-umass.org/scalene-gui/)</span>\n",
       "  --reduced-profile     generate a reduced profile, with non-zero lines only <span style=\"font-weight: bold\">(</span>default: <span style=\"color: #000080; text-decoration-color: #000080; font-style: italic\">False</span><span style=\"font-weight: bold\">)</span>\n",
       "  --profile-interval PROFILE_INTERVAL\n",
       "                        output profiles every so many seconds <span style=\"font-weight: bold\">(</span>default: <span style=\"color: #000080; text-decoration-color: #000080\">inf</span><span style=\"font-weight: bold\">)</span>\n",
       "  --cpu                 profile CPU time <span style=\"font-weight: bold\">(</span>default: <span style=\"color: #000080; text-decoration-color: #000080\"> </span><span style=\"color: #000080; text-decoration-color: #000080; font-style: italic\">True</span><span style=\"color: #000080; text-decoration-color: #000080\"> </span><span style=\"font-weight: bold\">)</span>\n",
       "  --cpu-only            profile CPU time <span style=\"font-weight: bold\">(</span><span style=\"color: #800000; text-decoration-color: #800000\">deprecated: use --cpu </span><span style=\"font-weight: bold\">)</span>\n",
       "  --gpu                 profile GPU time and memory <span style=\"font-weight: bold\">(</span>default: <span style=\"color: #000080; text-decoration-color: #000080; font-style: italic\">False</span><span style=\"color: #000080; text-decoration-color: #000080\"> </span><span style=\"font-weight: bold\">)</span>\n",
       "  --memory              profile memory <span style=\"font-weight: bold\">(</span>default: <span style=\"color: #000080; text-decoration-color: #000080; font-style: italic\">True</span><span style=\"color: #000080; text-decoration-color: #000080\"> </span><span style=\"font-weight: bold\">)</span>\n",
       "  --profile-all         profile all executed code, not just the target program <span style=\"font-weight: bold\">(</span>default: <span style=\"color: #000080; text-decoration-color: #000080\">only the target program</span><span style=\"font-weight: bold\">)</span>\n",
       "  --profile-only PROFILE_ONLY\n",
       "                        profile only code in filenames that contain the given strings, separated by commas \n",
       "<span style=\"font-weight: bold\">(</span>default: <span style=\"color: #000080; text-decoration-color: #000080\">no restrictions</span><span style=\"font-weight: bold\">)</span>\n",
       "  --profile-exclude PROFILE_EXCLUDE\n",
       "                        do not profile code in filenames that contain the given strings, separated by commas \n",
       "<span style=\"font-weight: bold\">(</span>default: <span style=\"color: #000080; text-decoration-color: #000080\">no restrictions</span><span style=\"font-weight: bold\">)</span>\n",
       "  --use-virtual-time    measure only CPU time, not time spent in I/O or blocking <span style=\"font-weight: bold\">(</span>default: <span style=\"color: #000080; text-decoration-color: #000080; font-style: italic\">False</span><span style=\"font-weight: bold\">)</span>\n",
       "  --cpu-percent-threshold CPU_PERCENT_THRESHOLD\n",
       "                        only report profiles with at least this percent of CPU time <span style=\"font-weight: bold\">(</span>default: <span style=\"color: #000080; text-decoration-color: #000080; font-weight: bold\">1</span><span style=\"color: #000080; text-decoration-color: #000080\">%</span><span style=\"font-weight: bold\">)</span>\n",
       "  --cpu-sampling-rate CPU_SAMPLING_RATE\n",
       "                        CPU sampling rate <span style=\"font-weight: bold\">(</span>default: every <span style=\"color: #000080; text-decoration-color: #000080; font-weight: bold\">0.</span><span style=\"color: #000080; text-decoration-color: #000080\">01s</span><span style=\"font-weight: bold\">)</span>\n",
       "  --allocation-sampling-window ALLOCATION_SAMPLING_WINDOW\n",
       "                        Allocation sampling window size, in bytes <span style=\"font-weight: bold\">(</span>default: <span style=\"color: #000080; text-decoration-color: #000080; font-weight: bold\">10485767</span><span style=\"color: #000080; text-decoration-color: #000080\"> bytes</span><span style=\"font-weight: bold\">)</span>\n",
       "  --malloc-threshold MALLOC_THRESHOLD\n",
       "                        only report profiles with at least this many allocations <span style=\"font-weight: bold\">(</span>default: <span style=\"color: #000080; text-decoration-color: #000080; font-weight: bold\">100</span><span style=\"font-weight: bold\">)</span>\n",
       "  --program-path PROGRAM_PATH\n",
       "                        The directory containing the code to profile <span style=\"font-weight: bold\">(</span>default: <span style=\"color: #000080; text-decoration-color: #000080\">the path to the profiled program</span><span style=\"font-weight: bold\">)</span>\n",
       "  --memory-leak-detector\n",
       "                        EXPERIMENTAL: report likely memory leaks <span style=\"font-weight: bold\">(</span>default: <span style=\"color: #000080; text-decoration-color: #000080; font-style: italic\">True</span><span style=\"font-weight: bold\">)</span>\n",
       "  --on                  start with profiling on <span style=\"font-weight: bold\">(</span>default<span style=\"font-weight: bold\">)</span>\n",
       "  --off                 start with profiling off\n",
       "\n",
       "When running Scalene in the background, you can suspend/resume profiling\n",
       "for the process ID that Scalene reports. For example:\n",
       "\n",
       "   % python3 -m scalene  yourprogram.py &amp;\n",
       " Scalene now profiling process <span style=\"color: #008080; text-decoration-color: #008080; font-weight: bold\">12345</span>\n",
       "   to suspend profiling: python3 -m scalene.profile --off --pid <span style=\"color: #008080; text-decoration-color: #008080; font-weight: bold\">12345</span>\n",
       "   to resume profiling:  python3 -m scalene.profile --on  --pid <span style=\"color: #008080; text-decoration-color: #008080; font-weight: bold\">12345</span>\n",
       "\n",
       "</pre>\n"
      ],
      "text/plain": [
       "usage: scalene \u001b[1m[\u001b[0m-h\u001b[1m]\u001b[0m \u001b[1m[\u001b[0m--version\u001b[1m]\u001b[0m \u001b[1m[\u001b[0m--column-width COLUMN_WIDTH\u001b[1m]\u001b[0m\n",
       "               \u001b[1m[\u001b[0m--outfile OUTFILE\u001b[1m]\u001b[0m \u001b[1m[\u001b[0m--html\u001b[1m]\u001b[0m \u001b[1m[\u001b[0m--json\u001b[1m]\u001b[0m \u001b[1m[\u001b[0m--cli\u001b[1m]\u001b[0m \u001b[1m[\u001b[0m--stacks\u001b[1m]\u001b[0m\n",
       "               \u001b[1m[\u001b[0m--web\u001b[1m]\u001b[0m \u001b[1m[\u001b[0m--viewer\u001b[1m]\u001b[0m \u001b[1m[\u001b[0m--reduced-profile\u001b[1m]\u001b[0m\n",
       "               \u001b[1m[\u001b[0m--profile-interval PROFILE_INTERVAL\u001b[1m]\u001b[0m \u001b[1m[\u001b[0m--cpu\u001b[1m]\u001b[0m \u001b[1m[\u001b[0m--cpu-only\u001b[1m]\u001b[0m\n",
       "               \u001b[1m[\u001b[0m--gpu\u001b[1m]\u001b[0m \u001b[1m[\u001b[0m--memory\u001b[1m]\u001b[0m \u001b[1m[\u001b[0m--profile-all\u001b[1m]\u001b[0m\n",
       "               \u001b[1m[\u001b[0m--profile-only PROFILE_ONLY\u001b[1m]\u001b[0m\n",
       "               \u001b[1m[\u001b[0m--profile-exclude PROFILE_EXCLUDE\u001b[1m]\u001b[0m \u001b[1m[\u001b[0m--use-virtual-time\u001b[1m]\u001b[0m\n",
       "               \u001b[1m[\u001b[0m--cpu-percent-threshold CPU_PERCENT_THRESHOLD\u001b[1m]\u001b[0m\n",
       "               \u001b[1m[\u001b[0m--cpu-sampling-rate CPU_SAMPLING_RATE\u001b[1m]\u001b[0m\n",
       "               \u001b[1m[\u001b[0m--allocation-sampling-window ALLOCATION_SAMPLING_WINDOW\u001b[1m]\u001b[0m\n",
       "               \u001b[1m[\u001b[0m--malloc-threshold MALLOC_THRESHOLD\u001b[1m]\u001b[0m\n",
       "               \u001b[1m[\u001b[0m--program-path PROGRAM_PATH\u001b[1m]\u001b[0m \u001b[1m[\u001b[0m--memory-leak-detector\u001b[1m]\u001b[0m\n",
       "               \u001b[1m[\u001b[0m--on | --off\u001b[1m]\u001b[0m\n",
       "\n",
       "\u001b[1mScalene\u001b[0m: a high-precision CPU and memory profiler, version \u001b[1;36m1.5\u001b[0m.\u001b[1;36m23\u001b[0m \u001b[1m(\u001b[0m\u001b[1;36m2023.07\u001b[0m.\u001b[1;36m26\u001b[0m\u001b[1m)\u001b[0m\n",
       "\u001b]8;id=916670;https://github.com/plasma-umass/scalene\u001b\\\u001b[4;94mhttps://github.com/plasma-umass/scalene\u001b[0m\u001b]8;;\u001b\\\n",
       "\n",
       "command-line:\n",
       "  % \u001b[1mscalene \u001b[0m\u001b[1m[\u001b[0m\u001b[1moptions\u001b[0m\u001b[1m]\u001b[0m\u001b[1m your_program.py \u001b[0m\u001b[1m[\u001b[0m\u001b[1m--- --your_program_args\u001b[0m\u001b[1m]\u001b[0m\u001b[1m \u001b[0m\n",
       "or\n",
       "  % \u001b[1mpython3 -m scalene \u001b[0m\u001b[1m[\u001b[0m\u001b[1moptions\u001b[0m\u001b[1m]\u001b[0m\u001b[1m your_program.py \u001b[0m\u001b[1m[\u001b[0m\u001b[1m--- --your_program_args\u001b[0m\u001b[1m]\u001b[0m\u001b[1m \u001b[0m\n",
       "\n",
       "in Jupyter, line mode:\n",
       "\u001b[1m  %scrun \u001b[0m\u001b[1m[\u001b[0m\u001b[1moptions\u001b[0m\u001b[1m]\u001b[0m\u001b[1m statement\u001b[0m\n",
       "\n",
       "in Jupyter, cell mode:\n",
       "\u001b[1m  %%scalene \u001b[0m\u001b[1m[\u001b[0m\u001b[1moptions\u001b[0m\u001b[1m]\u001b[0m\n",
       "\u001b[1m   your code here\u001b[0m\n",
       "\n",
       "\n",
       "options:\n",
       "  -h, --help            show this help message and exit\n",
       "  --version             prints the version number for this release of Scalene and exits\n",
       "  --column-width COLUMN_WIDTH\n",
       "                        Column width for profile output \u001b[1m(\u001b[0mdefault: \u001b[1;34m132\u001b[0m\u001b[1m)\u001b[0m\n",
       "  --outfile OUTFILE     file to hold profiler output \u001b[1m(\u001b[0mdefault: \u001b[34mstdout\u001b[0m\u001b[1m)\u001b[0m\n",
       "  --html                output as HTML \u001b[1m(\u001b[0mdefault: \u001b[34mweb\u001b[0m\u001b[1m)\u001b[0m\n",
       "  --json                output as JSON \u001b[1m(\u001b[0mdefault: \u001b[34mweb\u001b[0m\u001b[1m)\u001b[0m\n",
       "  --cli                 forces use of the command-line\n",
       "  --stacks              collect stack traces\n",
       "  --web                 opens a web tab to view the profile \u001b[1m(\u001b[0msaved as \u001b[32m'profile.html'\u001b[0m\u001b[1m)\u001b[0m\n",
       "  --viewer              only opens the web UI \u001b[1m(\u001b[0m\u001b[4;94mhttps://plasma-umass.org/scalene-gui/\u001b[0m\u001b[4;94m)\u001b[0m\n",
       "  --reduced-profile     generate a reduced profile, with non-zero lines only \u001b[1m(\u001b[0mdefault: \u001b[3;34mFalse\u001b[0m\u001b[1m)\u001b[0m\n",
       "  --profile-interval PROFILE_INTERVAL\n",
       "                        output profiles every so many seconds \u001b[1m(\u001b[0mdefault: \u001b[34minf\u001b[0m\u001b[1m)\u001b[0m\n",
       "  --cpu                 profile CPU time \u001b[1m(\u001b[0mdefault: \u001b[34m \u001b[0m\u001b[3;34mTrue\u001b[0m\u001b[34m \u001b[0m\u001b[1m)\u001b[0m\n",
       "  --cpu-only            profile CPU time \u001b[1m(\u001b[0m\u001b[31mdeprecated: use --cpu \u001b[0m\u001b[1m)\u001b[0m\n",
       "  --gpu                 profile GPU time and memory \u001b[1m(\u001b[0mdefault: \u001b[3;34mFalse\u001b[0m\u001b[34m \u001b[0m\u001b[1m)\u001b[0m\n",
       "  --memory              profile memory \u001b[1m(\u001b[0mdefault: \u001b[3;34mTrue\u001b[0m\u001b[34m \u001b[0m\u001b[1m)\u001b[0m\n",
       "  --profile-all         profile all executed code, not just the target program \u001b[1m(\u001b[0mdefault: \u001b[34monly the target program\u001b[0m\u001b[1m)\u001b[0m\n",
       "  --profile-only PROFILE_ONLY\n",
       "                        profile only code in filenames that contain the given strings, separated by commas \n",
       "\u001b[1m(\u001b[0mdefault: \u001b[34mno restrictions\u001b[0m\u001b[1m)\u001b[0m\n",
       "  --profile-exclude PROFILE_EXCLUDE\n",
       "                        do not profile code in filenames that contain the given strings, separated by commas \n",
       "\u001b[1m(\u001b[0mdefault: \u001b[34mno restrictions\u001b[0m\u001b[1m)\u001b[0m\n",
       "  --use-virtual-time    measure only CPU time, not time spent in I/O or blocking \u001b[1m(\u001b[0mdefault: \u001b[3;34mFalse\u001b[0m\u001b[1m)\u001b[0m\n",
       "  --cpu-percent-threshold CPU_PERCENT_THRESHOLD\n",
       "                        only report profiles with at least this percent of CPU time \u001b[1m(\u001b[0mdefault: \u001b[1;34m1\u001b[0m\u001b[34m%\u001b[0m\u001b[1m)\u001b[0m\n",
       "  --cpu-sampling-rate CPU_SAMPLING_RATE\n",
       "                        CPU sampling rate \u001b[1m(\u001b[0mdefault: every \u001b[1;34m0.\u001b[0m\u001b[34m01s\u001b[0m\u001b[1m)\u001b[0m\n",
       "  --allocation-sampling-window ALLOCATION_SAMPLING_WINDOW\n",
       "                        Allocation sampling window size, in bytes \u001b[1m(\u001b[0mdefault: \u001b[1;34m10485767\u001b[0m\u001b[34m bytes\u001b[0m\u001b[1m)\u001b[0m\n",
       "  --malloc-threshold MALLOC_THRESHOLD\n",
       "                        only report profiles with at least this many allocations \u001b[1m(\u001b[0mdefault: \u001b[1;34m100\u001b[0m\u001b[1m)\u001b[0m\n",
       "  --program-path PROGRAM_PATH\n",
       "                        The directory containing the code to profile \u001b[1m(\u001b[0mdefault: \u001b[34mthe path to the profiled program\u001b[0m\u001b[1m)\u001b[0m\n",
       "  --memory-leak-detector\n",
       "                        EXPERIMENTAL: report likely memory leaks \u001b[1m(\u001b[0mdefault: \u001b[3;34mTrue\u001b[0m\u001b[1m)\u001b[0m\n",
       "  --on                  start with profiling on \u001b[1m(\u001b[0mdefault\u001b[1m)\u001b[0m\n",
       "  --off                 start with profiling off\n",
       "\n",
       "When running Scalene in the background, you can suspend/resume profiling\n",
       "for the process ID that Scalene reports. For example:\n",
       "\n",
       "   % python3 -m scalene  yourprogram.py &\n",
       " Scalene now profiling process \u001b[1;36m12345\u001b[0m\n",
       "   to suspend profiling: python3 -m scalene.profile --off --pid \u001b[1;36m12345\u001b[0m\n",
       "   to resume profiling:  python3 -m scalene.profile --on  --pid \u001b[1;36m12345\u001b[0m\n",
       "\n"
      ]
     },
     "metadata": {},
     "output_type": "display_data"
    }
   ],
   "source": [
    "%scrun --help"
   ]
  },
  {
   "cell_type": "markdown",
   "metadata": {},
   "source": [
    "Profile with more than one line of code in a cell"
   ]
  },
  {
   "cell_type": "code",
   "execution_count": null,
   "metadata": {},
   "outputs": [],
   "source": [
    "%%scalene --reduced-profile\n",
    "x = 0\n",
    "for i in range(1000):\n",
    "    for j in range(1000):\n",
    "        x += 1"
   ]
  }
 ],
 "metadata": {
  "kernelspec": {
   "display_name": "Python 3.11 Kernel",
   "language": "python",
   "name": "python311"
  },
  "language_info": {
   "codemirror_mode": {
    "name": "ipython",
    "version": 3
   },
   "file_extension": ".py",
   "mimetype": "text/x-python",
   "name": "python",
   "nbconvert_exporter": "python",
   "pygments_lexer": "ipython3",
   "version": "3.11.4"
  },
  "latex_envs": {
   "LaTeX_envs_menu_present": true,
   "autoclose": false,
   "autocomplete": true,
   "bibliofile": "biblio.bib",
   "cite_by": "apalike",
   "current_citInitial": 1,
   "eqLabelWithNumbers": true,
   "eqNumInitial": 1,
   "hotkeys": {
    "equation": "Ctrl-E",
    "itemize": "Ctrl-I"
   },
   "labels_anchors": false,
   "latex_user_defs": false,
   "report_style_numbering": false,
   "user_envs_cfg": false
  },
  "varInspector": {
   "cols": {
    "lenName": 16,
    "lenType": 16,
    "lenVar": 40
   },
   "kernels_config": {
    "python": {
     "delete_cmd_postfix": "",
     "delete_cmd_prefix": "del ",
     "library": "var_list.py",
     "varRefreshCmd": "print(var_dic_list())"
    },
    "r": {
     "delete_cmd_postfix": ") ",
     "delete_cmd_prefix": "rm(",
     "library": "var_list.r",
     "varRefreshCmd": "cat(var_dic_list()) "
    }
   },
   "types_to_exclude": [
    "module",
    "function",
    "builtin_function_or_method",
    "instance",
    "_Feature"
   ],
   "window_display": false
  },
  "widgets": {
   "application/vnd.jupyter.widget-state+json": {
    "state": {},
    "version_major": 2,
    "version_minor": 0
   }
  }
 },
 "nbformat": 4,
 "nbformat_minor": 2
}
