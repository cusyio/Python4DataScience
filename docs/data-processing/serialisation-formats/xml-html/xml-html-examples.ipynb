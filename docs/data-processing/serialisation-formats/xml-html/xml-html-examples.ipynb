{
 "cells": [
  {
   "cell_type": "markdown",
   "id": "9f67e282",
   "metadata": {},
   "source": [
    "# XML/HTML examples"
   ]
  },
  {
   "cell_type": "markdown",
   "id": "118368e4",
   "metadata": {},
   "source": [
    "## HTML\n",
    "\n",
    "Python has numerous libraries for reading and writing data in the ubiquitous HTML and XML formats. Examples are [lxml](#lxml), [Beautiful Soup](beautifulsoup.ipynb) and html5lib. While lxml is generally comparatively much faster, the other libraries are better at handling corrupted HTML or XML files.\n",
    "\n",
    "pandas has a built-in function, `read_html`, which uses libraries like lxml, html5lib and Beautiful Soup to automatically parse tables from HTML files as DataFrame objects. These have to be installed additionally. With [Spack](../../../productive/envs/spack/index.rst) you can provide lxml, BeautifulSoup and html5lib in your kernel:\n",
    "\n",
    "```console\n",
    "$ spack env activate python-38\n",
    "$ spack install py-lxml@4.6.3%gcc@11.2.0 py-beautifulsoup4@4.10.0%gcc@11.2.0~html5lib~lxml py-html5lib@1.1%gcc@11.2.0\n",
    "```\n",
    "\n",
    "Alternatively, you can install BeautifulSoup with other package managers, for example\n",
    "\n",
    "```console\n",
    "$ pipenv install lxml beautifulsoup4 html5lib\n",
    "```"
   ]
  },
  {
   "cell_type": "markdown",
   "id": "ada58b82",
   "metadata": {},
   "source": [
    "To show how this works, I use an HTML file from Wikipedia that gives an overview of different serialisation formats."
   ]
  },
  {
   "cell_type": "code",
   "execution_count": 1,
   "id": "ee3f1a12",
   "metadata": {},
   "outputs": [],
   "source": [
    "import pandas as pd\n",
    "\n",
    "tables = pd.read_html('https://en.wikipedia.org/wiki/Comparison_of_data-serialization_formats')"
   ]
  },
  {
   "cell_type": "markdown",
   "id": "4e3e133c",
   "metadata": {},
   "source": [
    "The `pandas.read_html` function has a number of options, but by default it looks for and tries to parse all table data contained in `<table>` tags. The result is a list of DataFrame objects:"
   ]
  },
  {
   "cell_type": "code",
   "execution_count": 2,
   "id": "f12f1a55",
   "metadata": {},
   "outputs": [
    {
     "data": {
      "text/plain": [
       "3"
      ]
     },
     "execution_count": 2,
     "metadata": {},
     "output_type": "execute_result"
    }
   ],
   "source": [
    "len(tables)"
   ]
  },
  {
   "cell_type": "code",
   "execution_count": 3,
   "id": "86ca6b3e",
   "metadata": {},
   "outputs": [
    {
     "data": {
      "text/html": [
       "<div>\n",
       "<style scoped>\n",
       "    .dataframe tbody tr th:only-of-type {\n",
       "        vertical-align: middle;\n",
       "    }\n",
       "\n",
       "    .dataframe tbody tr th {\n",
       "        vertical-align: top;\n",
       "    }\n",
       "\n",
       "    .dataframe thead th {\n",
       "        text-align: right;\n",
       "    }\n",
       "</style>\n",
       "<table border=\"1\" class=\"dataframe\">\n",
       "  <thead>\n",
       "    <tr style=\"text-align: right;\">\n",
       "      <th></th>\n",
       "      <th>Name</th>\n",
       "      <th>Creator-maintainer</th>\n",
       "      <th>Based on</th>\n",
       "      <th>Standardized?[definition needed]</th>\n",
       "      <th>Specification</th>\n",
       "      <th>Binary?</th>\n",
       "      <th>Human-readable?</th>\n",
       "      <th>Supports references?e</th>\n",
       "      <th>Schema-IDL?</th>\n",
       "      <th>Standard APIs</th>\n",
       "      <th>Supports zero-copy operations</th>\n",
       "    </tr>\n",
       "  </thead>\n",
       "  <tbody>\n",
       "    <tr>\n",
       "      <th>0</th>\n",
       "      <td>Apache Avro</td>\n",
       "      <td>Apache Software Foundation</td>\n",
       "      <td>NaN</td>\n",
       "      <td>No</td>\n",
       "      <td>Apache Avro™ Specification</td>\n",
       "      <td>Yes</td>\n",
       "      <td>Partialg</td>\n",
       "      <td>NaN</td>\n",
       "      <td>Built-in</td>\n",
       "      <td>C, C#, C++, Java, PHP, Python, Ruby</td>\n",
       "      <td>NaN</td>\n",
       "    </tr>\n",
       "    <tr>\n",
       "      <th>1</th>\n",
       "      <td>Apache Parquet</td>\n",
       "      <td>Apache Software Foundation</td>\n",
       "      <td>NaN</td>\n",
       "      <td>No</td>\n",
       "      <td>Apache Parquet</td>\n",
       "      <td>Yes</td>\n",
       "      <td>No</td>\n",
       "      <td>No</td>\n",
       "      <td>NaN</td>\n",
       "      <td>Java, Python, C++</td>\n",
       "      <td>No</td>\n",
       "    </tr>\n",
       "    <tr>\n",
       "      <th>2</th>\n",
       "      <td>ASN.1</td>\n",
       "      <td>ISO, IEC, ITU-T</td>\n",
       "      <td>NaN</td>\n",
       "      <td>Yes</td>\n",
       "      <td>ISO/IEC 8824 / ITU-T X.680 (syntax) and ISO/IE...</td>\n",
       "      <td>BER, DER, PER, OER, or custom via ECN</td>\n",
       "      <td>XER, JER, GSER, or custom via ECN</td>\n",
       "      <td>Yesf</td>\n",
       "      <td>Built-in</td>\n",
       "      <td>NaN</td>\n",
       "      <td>OER</td>\n",
       "    </tr>\n",
       "    <tr>\n",
       "      <th>3</th>\n",
       "      <td>Bencode</td>\n",
       "      <td>Bram Cohen (creator)BitTorrent, Inc. (maintainer)</td>\n",
       "      <td>NaN</td>\n",
       "      <td>De facto as BEP</td>\n",
       "      <td>Part of BitTorrent protocol specification</td>\n",
       "      <td>Except numbers and delimiters, being ASCII</td>\n",
       "      <td>No</td>\n",
       "      <td>No</td>\n",
       "      <td>No</td>\n",
       "      <td>No</td>\n",
       "      <td>No</td>\n",
       "    </tr>\n",
       "    <tr>\n",
       "      <th>4</th>\n",
       "      <td>Binn</td>\n",
       "      <td>Bernardo Ramos</td>\n",
       "      <td>JSON (loosely)</td>\n",
       "      <td>No</td>\n",
       "      <td>Binn Specification</td>\n",
       "      <td>Yes</td>\n",
       "      <td>No</td>\n",
       "      <td>No</td>\n",
       "      <td>No</td>\n",
       "      <td>No</td>\n",
       "      <td>Yes</td>\n",
       "    </tr>\n",
       "  </tbody>\n",
       "</table>\n",
       "</div>"
      ],
      "text/plain": [
       "             Name                                 Creator-maintainer  \\\n",
       "0     Apache Avro                         Apache Software Foundation   \n",
       "1  Apache Parquet                         Apache Software Foundation   \n",
       "2           ASN.1                                    ISO, IEC, ITU-T   \n",
       "3         Bencode  Bram Cohen (creator)BitTorrent, Inc. (maintainer)   \n",
       "4            Binn                                     Bernardo Ramos   \n",
       "\n",
       "         Based on Standardized?[definition needed]  \\\n",
       "0             NaN                               No   \n",
       "1             NaN                               No   \n",
       "2             NaN                              Yes   \n",
       "3             NaN                  De facto as BEP   \n",
       "4  JSON (loosely)                               No   \n",
       "\n",
       "                                       Specification  \\\n",
       "0                         Apache Avro™ Specification   \n",
       "1                                     Apache Parquet   \n",
       "2  ISO/IEC 8824 / ITU-T X.680 (syntax) and ISO/IE...   \n",
       "3          Part of BitTorrent protocol specification   \n",
       "4                                 Binn Specification   \n",
       "\n",
       "                                      Binary?  \\\n",
       "0                                         Yes   \n",
       "1                                         Yes   \n",
       "2       BER, DER, PER, OER, or custom via ECN   \n",
       "3  Except numbers and delimiters, being ASCII   \n",
       "4                                         Yes   \n",
       "\n",
       "                     Human-readable? Supports references?e Schema-IDL?  \\\n",
       "0                           Partialg                   NaN    Built-in   \n",
       "1                                 No                    No         NaN   \n",
       "2  XER, JER, GSER, or custom via ECN                  Yesf    Built-in   \n",
       "3                                 No                    No          No   \n",
       "4                                 No                    No          No   \n",
       "\n",
       "                         Standard APIs Supports zero-copy operations  \n",
       "0  C, C#, C++, Java, PHP, Python, Ruby                           NaN  \n",
       "1                    Java, Python, C++                            No  \n",
       "2                                  NaN                           OER  \n",
       "3                                   No                            No  \n",
       "4                                   No                           Yes  "
      ]
     },
     "execution_count": 3,
     "metadata": {},
     "output_type": "execute_result"
    }
   ],
   "source": [
    "formats = tables[0]\n",
    "\n",
    "formats.head()"
   ]
  },
  {
   "cell_type": "markdown",
   "id": "db0585f6",
   "metadata": {},
   "source": [
    "From here we can do some [data cleansing and analysis](../../../clean-prep/index.rst), such as the number of different schema IDLs:"
   ]
  },
  {
   "cell_type": "code",
   "execution_count": 4,
   "id": "20f41e0f",
   "metadata": {},
   "outputs": [
    {
     "data": {
      "text/plain": [
       "No                                                                                        17\n",
       "Built-in                                                                                   4\n",
       "Yes                                                                                        4\n",
       "CDDL                                                                                       1\n",
       "Partial(Signature strings)                                                                 1\n",
       "XML Schema                                                                                 1\n",
       "XML schema                                                                                 1\n",
       "Ion schema                                                                                 1\n",
       "Partial(JSON Schema Proposal, ASN.1 with JER, Kwalify, Rx, Itemscript Schema), JSON-LD     1\n",
       "Schema WD                                                                                  1\n",
       "?                                                                                          1\n",
       "Partial(JSON Schema Proposal, other JSON schemas/IDLs)                                     1\n",
       "WSDL, XML schema                                                                           1\n",
       "XML schema, RELAX NG                                                                       1\n",
       "Partial(Kwalify, Rx, built-in language type-defs)                                          1\n",
       "Schema-IDL?                                                                                1\n",
       "Name: Schema-IDL?, dtype: int64"
      ]
     },
     "execution_count": 4,
     "metadata": {},
     "output_type": "execute_result"
    }
   ],
   "source": [
    "formats['Schema-IDL?'].value_counts()"
   ]
  },
  {
   "cell_type": "markdown",
   "id": "30942883",
   "metadata": {},
   "source": [
    "## XML\n",
    "\n",
    "pandas has a function `read_xml`, which makes reading XML files very easy:"
   ]
  },
  {
   "cell_type": "code",
   "execution_count": 5,
   "id": "76f46f61",
   "metadata": {},
   "outputs": [
    {
     "data": {
      "text/html": [
       "<div>\n",
       "<style scoped>\n",
       "    .dataframe tbody tr th:only-of-type {\n",
       "        vertical-align: middle;\n",
       "    }\n",
       "\n",
       "    .dataframe tbody tr th {\n",
       "        vertical-align: top;\n",
       "    }\n",
       "\n",
       "    .dataframe thead th {\n",
       "        text-align: right;\n",
       "    }\n",
       "</style>\n",
       "<table border=\"1\" class=\"dataframe\">\n",
       "  <thead>\n",
       "    <tr style=\"text-align: right;\">\n",
       "      <th></th>\n",
       "      <th>id</th>\n",
       "      <th>title</th>\n",
       "      <th>language</th>\n",
       "      <th>author</th>\n",
       "      <th>license</th>\n",
       "      <th>date</th>\n",
       "    </tr>\n",
       "  </thead>\n",
       "  <tbody>\n",
       "    <tr>\n",
       "      <th>0</th>\n",
       "      <td>1</td>\n",
       "      <td>Python basics</td>\n",
       "      <td>en</td>\n",
       "      <td>Veit Schiele</td>\n",
       "      <td>BSD-3-Clause</td>\n",
       "      <td>2021-10-28</td>\n",
       "    </tr>\n",
       "    <tr>\n",
       "      <th>1</th>\n",
       "      <td>2</td>\n",
       "      <td>Jupyter Tutorial</td>\n",
       "      <td>en</td>\n",
       "      <td>Veit Schiele</td>\n",
       "      <td>BSD-3-Clause</td>\n",
       "      <td>2019-06-27</td>\n",
       "    </tr>\n",
       "    <tr>\n",
       "      <th>2</th>\n",
       "      <td>3</td>\n",
       "      <td>Jupyter Tutorial</td>\n",
       "      <td>de</td>\n",
       "      <td>Veit Schiele</td>\n",
       "      <td>BSD-3-Clause</td>\n",
       "      <td>2020-10-26</td>\n",
       "    </tr>\n",
       "    <tr>\n",
       "      <th>3</th>\n",
       "      <td>4</td>\n",
       "      <td>PyViz Tutorial</td>\n",
       "      <td>en</td>\n",
       "      <td>Veit Schiele</td>\n",
       "      <td>BSD-3-Clause</td>\n",
       "      <td>2020-04-13</td>\n",
       "    </tr>\n",
       "  </tbody>\n",
       "</table>\n",
       "</div>"
      ],
      "text/plain": [
       "   id             title language        author       license        date\n",
       "0   1     Python basics       en  Veit Schiele  BSD-3-Clause  2021-10-28\n",
       "1   2  Jupyter Tutorial       en  Veit Schiele  BSD-3-Clause  2019-06-27\n",
       "2   3  Jupyter Tutorial       de  Veit Schiele  BSD-3-Clause  2020-10-26\n",
       "3   4    PyViz Tutorial       en  Veit Schiele  BSD-3-Clause  2020-04-13"
      ]
     },
     "execution_count": 5,
     "metadata": {},
     "output_type": "execute_result"
    }
   ],
   "source": [
    "pd.read_xml('books.xml')"
   ]
  },
  {
   "cell_type": "markdown",
   "id": "91da5bd2",
   "metadata": {},
   "source": [
    "### `lxml`\n",
    "\n",
    "Alternatively, `lxml.objectify` can be used first to parse XML files. In doing so, we get a reference to the root node of the XML file with `getroot`:"
   ]
  },
  {
   "cell_type": "code",
   "execution_count": 6,
   "id": "391de418",
   "metadata": {},
   "outputs": [],
   "source": [
    "from lxml import objectify\n",
    "\n",
    "parsed = objectify.parse(open('books.xml'))\n",
    "root = parsed.getroot()"
   ]
  },
  {
   "cell_type": "code",
   "execution_count": 7,
   "id": "08bd89e3",
   "metadata": {},
   "outputs": [],
   "source": [
    "books = []\n",
    "\n",
    "for element in root.book:\n",
    "    data = {}\n",
    "    for child in element.getchildren():\n",
    "        data[child.tag] = child.pyval\n",
    "    books.append(data)"
   ]
  },
  {
   "cell_type": "code",
   "execution_count": 8,
   "id": "074d15e5",
   "metadata": {},
   "outputs": [
    {
     "data": {
      "text/html": [
       "<div>\n",
       "<style scoped>\n",
       "    .dataframe tbody tr th:only-of-type {\n",
       "        vertical-align: middle;\n",
       "    }\n",
       "\n",
       "    .dataframe tbody tr th {\n",
       "        vertical-align: top;\n",
       "    }\n",
       "\n",
       "    .dataframe thead th {\n",
       "        text-align: right;\n",
       "    }\n",
       "</style>\n",
       "<table border=\"1\" class=\"dataframe\">\n",
       "  <thead>\n",
       "    <tr style=\"text-align: right;\">\n",
       "      <th></th>\n",
       "      <th>title</th>\n",
       "      <th>language</th>\n",
       "      <th>author</th>\n",
       "      <th>license</th>\n",
       "      <th>date</th>\n",
       "    </tr>\n",
       "  </thead>\n",
       "  <tbody>\n",
       "    <tr>\n",
       "      <th>0</th>\n",
       "      <td>Python basics</td>\n",
       "      <td>en</td>\n",
       "      <td>Veit Schiele</td>\n",
       "      <td>BSD-3-Clause</td>\n",
       "      <td>2021-10-28</td>\n",
       "    </tr>\n",
       "    <tr>\n",
       "      <th>1</th>\n",
       "      <td>Jupyter Tutorial</td>\n",
       "      <td>en</td>\n",
       "      <td>Veit Schiele</td>\n",
       "      <td>BSD-3-Clause</td>\n",
       "      <td>2019-06-27</td>\n",
       "    </tr>\n",
       "    <tr>\n",
       "      <th>2</th>\n",
       "      <td>Jupyter Tutorial</td>\n",
       "      <td>de</td>\n",
       "      <td>Veit Schiele</td>\n",
       "      <td>BSD-3-Clause</td>\n",
       "      <td>2020-10-26</td>\n",
       "    </tr>\n",
       "    <tr>\n",
       "      <th>3</th>\n",
       "      <td>PyViz Tutorial</td>\n",
       "      <td>en</td>\n",
       "      <td>Veit Schiele</td>\n",
       "      <td>BSD-3-Clause</td>\n",
       "      <td>2020-04-13</td>\n",
       "    </tr>\n",
       "  </tbody>\n",
       "</table>\n",
       "</div>"
      ],
      "text/plain": [
       "              title language        author       license        date\n",
       "0     Python basics       en  Veit Schiele  BSD-3-Clause  2021-10-28\n",
       "1  Jupyter Tutorial       en  Veit Schiele  BSD-3-Clause  2019-06-27\n",
       "2  Jupyter Tutorial       de  Veit Schiele  BSD-3-Clause  2020-10-26\n",
       "3    PyViz Tutorial       en  Veit Schiele  BSD-3-Clause  2020-04-13"
      ]
     },
     "execution_count": 8,
     "metadata": {},
     "output_type": "execute_result"
    }
   ],
   "source": [
    "pd.DataFrame(books)"
   ]
  }
 ],
 "metadata": {
  "kernelspec": {
   "display_name": "Python 3.8",
   "language": "python",
   "name": "python-38"
  },
  "language_info": {
   "codemirror_mode": {
    "name": "ipython",
    "version": 3
   },
   "file_extension": ".py",
   "mimetype": "text/x-python",
   "name": "python",
   "nbconvert_exporter": "python",
   "pygments_lexer": "ipython3",
   "version": "3.8.12"
  }
 },
 "nbformat": 4,
 "nbformat_minor": 5
}
