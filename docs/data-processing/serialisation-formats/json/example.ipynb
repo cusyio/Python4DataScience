{
 "cells": [
  {
   "cell_type": "markdown",
   "id": "71f24608",
   "metadata": {},
   "source": [
    "# JSON example\n",
    "\n",
    "JSON (short for _JavaScript Object Notation_) has become one of the standard formats for transmitting data via HTTP request between web browsers and other applications. Here is an example:"
   ]
  },
  {
   "cell_type": "code",
   "execution_count": 1,
   "id": "49bc5693",
   "metadata": {},
   "outputs": [],
   "source": [
    "books = \"\"\"\n",
    "[\n",
    "    {\n",
    "        \"Title\": \"Python basics\",\n",
    "        \"Language\": \"en\",\n",
    "        \"Authors\": \"Veit Schiele\",\n",
    "        \"License\": \"BSD-3-Clause\",\n",
    "        \"Publication date\": \"2021-10-28\"\n",
    "    },\n",
    "    {\n",
    "        \"Title\": \"Jupyter Tutorial\",\n",
    "        \"Language\": \"en\",\n",
    "        \"Authors\": \"Veit Schiele\",\n",
    "        \"License\": \"BSD-3-Clause\",\n",
    "        \"Publication date\": \"2019-06-27\"\n",
    "    }\n",
    "]\n",
    "\"\"\""
   ]
  },
  {
   "cell_type": "markdown",
   "id": "cbf5dfc1",
   "metadata": {},
   "source": [
    "JSON is similar to Python code, except for the `null` value and the prohibition of commas at the end of lists. The basic types are objects (dicts), arrays (lists), strings, numbers, Boolean values and `null`. All keys of an object must be strings. There are several Python libraries for reading and writing JSON data. I will use [json](https://docs.python.org/3/library/json.html) from the Python standard library here. To convert a JSON string into Python form, I use `json.loads`:"
   ]
  },
  {
   "cell_type": "code",
   "execution_count": 2,
   "id": "59b2dd5f",
   "metadata": {},
   "outputs": [
    {
     "data": {
      "text/plain": [
       "[{'Title': 'Python basics',\n",
       "  'Language': 'en',\n",
       "  'Authors': 'Veit Schiele',\n",
       "  'License': 'BSD-3-Clause',\n",
       "  'Publication date': '2021-10-28'},\n",
       " {'Title': 'Jupyter Tutorial',\n",
       "  'Language': 'en',\n",
       "  'Authors': 'Veit Schiele',\n",
       "  'License': 'BSD-3-Clause',\n",
       "  'Publication date': '2019-06-27'}]"
      ]
     },
     "execution_count": 2,
     "metadata": {},
     "output_type": "execute_result"
    }
   ],
   "source": [
    "import json\n",
    "\n",
    "results2 = json.loads(books)\n",
    "\n",
    "results2"
   ]
  },
  {
   "cell_type": "markdown",
   "id": "0eabc1ba",
   "metadata": {},
   "source": [
    "[json.dumps](https://docs.python.org/3/library/json.html#json.dumps), on the other hand, converts a Python object back to JSON:"
   ]
  },
  {
   "cell_type": "code",
   "execution_count": 3,
   "id": "ff1d4c89",
   "metadata": {},
   "outputs": [
    {
     "data": {
      "text/plain": [
       "'[{\"Title\": \"Python basics\", \"Language\": \"en\", \"Authors\": \"Veit Schiele\", \"License\": \"BSD-3-Clause\", \"Publication date\": \"2021-10-28\"}, {\"Title\": \"Jupyter Tutorial\", \"Language\": \"en\", \"Authors\": \"Veit Schiele\", \"License\": \"BSD-3-Clause\", \"Publication date\": \"2019-06-27\"}]'"
      ]
     },
     "execution_count": 3,
     "metadata": {},
     "output_type": "execute_result"
    }
   ],
   "source": [
    "json.dumps(results2)"
   ]
  },
  {
   "cell_type": "markdown",
   "id": "a61f1769",
   "metadata": {},
   "source": [
    "How you convert a JSON object or list of objects into a DataFrame or other data structure for analysis is up to you. Conveniently, you can pass a list of dicts (which were previously JSON objects) to the DataFrame constructor:"
   ]
  },
  {
   "cell_type": "code",
   "execution_count": 4,
   "id": "74bc68e8",
   "metadata": {},
   "outputs": [
    {
     "data": {
      "text/html": [
       "<div>\n",
       "<style scoped>\n",
       "    .dataframe tbody tr th:only-of-type {\n",
       "        vertical-align: middle;\n",
       "    }\n",
       "\n",
       "    .dataframe tbody tr th {\n",
       "        vertical-align: top;\n",
       "    }\n",
       "\n",
       "    .dataframe thead th {\n",
       "        text-align: right;\n",
       "    }\n",
       "</style>\n",
       "<table border=\"1\" class=\"dataframe\">\n",
       "  <thead>\n",
       "    <tr style=\"text-align: right;\">\n",
       "      <th></th>\n",
       "      <th>Title</th>\n",
       "      <th>Language</th>\n",
       "      <th>Authors</th>\n",
       "      <th>License</th>\n",
       "      <th>Publication date</th>\n",
       "    </tr>\n",
       "  </thead>\n",
       "  <tbody>\n",
       "    <tr>\n",
       "      <th>0</th>\n",
       "      <td>Python basics</td>\n",
       "      <td>en</td>\n",
       "      <td>Veit Schiele</td>\n",
       "      <td>BSD-3-Clause</td>\n",
       "      <td>2021-10-28</td>\n",
       "    </tr>\n",
       "    <tr>\n",
       "      <th>1</th>\n",
       "      <td>Jupyter Tutorial</td>\n",
       "      <td>en</td>\n",
       "      <td>Veit Schiele</td>\n",
       "      <td>BSD-3-Clause</td>\n",
       "      <td>2019-06-27</td>\n",
       "    </tr>\n",
       "  </tbody>\n",
       "</table>\n",
       "</div>"
      ],
      "text/plain": [
       "              Title Language       Authors       License Publication date\n",
       "0     Python basics       en  Veit Schiele  BSD-3-Clause       2021-10-28\n",
       "1  Jupyter Tutorial       en  Veit Schiele  BSD-3-Clause       2019-06-27"
      ]
     },
     "execution_count": 4,
     "metadata": {},
     "output_type": "execute_result"
    }
   ],
   "source": [
    "import pandas as pd\n",
    "\n",
    "df = pd.DataFrame(results2)\n",
    "\n",
    "df"
   ]
  },
  {
   "cell_type": "markdown",
   "id": "fe3deacb",
   "metadata": {},
   "source": [
    "[pandas.read_json](https://pandas.pydata.org/docs/reference/api/pandas.read_json.html) can automatically convert JSON records in certain arrangements into a Series or DataFrame, for example:"
   ]
  },
  {
   "cell_type": "code",
   "execution_count": 5,
   "id": "4b6dafe3",
   "metadata": {
    "scrolled": true
   },
   "outputs": [
    {
     "data": {
      "text/html": [
       "<div>\n",
       "<style scoped>\n",
       "    .dataframe tbody tr th:only-of-type {\n",
       "        vertical-align: middle;\n",
       "    }\n",
       "\n",
       "    .dataframe tbody tr th {\n",
       "        vertical-align: top;\n",
       "    }\n",
       "\n",
       "    .dataframe thead th {\n",
       "        text-align: right;\n",
       "    }\n",
       "</style>\n",
       "<table border=\"1\" class=\"dataframe\">\n",
       "  <thead>\n",
       "    <tr style=\"text-align: right;\">\n",
       "      <th></th>\n",
       "      <th>Title</th>\n",
       "      <th>Language</th>\n",
       "      <th>Authors</th>\n",
       "      <th>License</th>\n",
       "      <th>Publication date</th>\n",
       "    </tr>\n",
       "  </thead>\n",
       "  <tbody>\n",
       "    <tr>\n",
       "      <th>0</th>\n",
       "      <td>Python basics</td>\n",
       "      <td>en</td>\n",
       "      <td>Veit Schiele</td>\n",
       "      <td>BSD-3-Clause</td>\n",
       "      <td>2021-10-28</td>\n",
       "    </tr>\n",
       "    <tr>\n",
       "      <th>1</th>\n",
       "      <td>Jupyter Tutorial</td>\n",
       "      <td>en</td>\n",
       "      <td>Veit Schiele</td>\n",
       "      <td>BSD-3-Clause</td>\n",
       "      <td>2019-06-27</td>\n",
       "    </tr>\n",
       "    <tr>\n",
       "      <th>2</th>\n",
       "      <td>Jupyter Tutorial</td>\n",
       "      <td>de</td>\n",
       "      <td>Veit Schiele</td>\n",
       "      <td>BSD-3-Clause</td>\n",
       "      <td>2020-10-26</td>\n",
       "    </tr>\n",
       "    <tr>\n",
       "      <th>3</th>\n",
       "      <td>PyViz Tutorial</td>\n",
       "      <td>en</td>\n",
       "      <td>Veit Schiele</td>\n",
       "      <td>BSD-3-Clause</td>\n",
       "      <td>2020-04-13</td>\n",
       "    </tr>\n",
       "  </tbody>\n",
       "</table>\n",
       "</div>"
      ],
      "text/plain": [
       "              Title Language       Authors       License Publication date\n",
       "0     Python basics       en  Veit Schiele  BSD-3-Clause       2021-10-28\n",
       "1  Jupyter Tutorial       en  Veit Schiele  BSD-3-Clause       2019-06-27\n",
       "2  Jupyter Tutorial       de  Veit Schiele  BSD-3-Clause       2020-10-26\n",
       "3    PyViz Tutorial       en  Veit Schiele  BSD-3-Clause       2020-04-13"
      ]
     },
     "execution_count": 5,
     "metadata": {},
     "output_type": "execute_result"
    }
   ],
   "source": [
    "df2 = pd.read_json('books.json')\n",
    "\n",
    "df2"
   ]
  },
  {
   "cell_type": "markdown",
   "id": "a5d22012",
   "metadata": {},
   "source": [
    "The default options for `pandas.read_json` assume that each object in the JSON array is a row in the table."
   ]
  },
  {
   "cell_type": "markdown",
   "id": "e8730269",
   "metadata": {},
   "source": [
    "If you want to export data from pandas to JSON, you can use [pandas.DataFrame.to_json](https://pandas.pydata.org/docs/reference/api/pandas.DataFrame.to_json.html):"
   ]
  },
  {
   "cell_type": "code",
   "execution_count": 6,
   "id": "ab209d24",
   "metadata": {},
   "outputs": [
    {
     "name": "stdout",
     "output_type": "stream",
     "text": [
      "{\"Title\":{\"0\":\"Python basics\",\"1\":\"Jupyter Tutorial\"},\"Language\":{\"0\":\"en\",\"1\":\"en\"},\"Authors\":{\"0\":\"Veit Schiele\",\"1\":\"Veit Schiele\"},\"License\":{\"0\":\"BSD-3-Clause\",\"1\":\"BSD-3-Clause\"},\"Publication date\":{\"0\":\"2021-10-28\",\"1\":\"2019-06-27\"}}\n"
     ]
    }
   ],
   "source": [
    "print(df.to_json())"
   ]
  },
  {
   "cell_type": "code",
   "execution_count": 7,
   "id": "f5dc539c",
   "metadata": {},
   "outputs": [
    {
     "name": "stdout",
     "output_type": "stream",
     "text": [
      "[{\"Title\":\"Python basics\",\"Language\":\"en\",\"Authors\":\"Veit Schiele\",\"License\":\"BSD-3-Clause\",\"Publication date\":\"2021-10-28\"},{\"Title\":\"Jupyter Tutorial\",\"Language\":\"en\",\"Authors\":\"Veit Schiele\",\"License\":\"BSD-3-Clause\",\"Publication date\":\"2019-06-27\"}]\n"
     ]
    }
   ],
   "source": [
    "print(df.to_json(orient='records'))"
   ]
  }
 ],
 "metadata": {
  "kernelspec": {
   "display_name": "Python 3.8",
   "language": "python",
   "name": "python-38"
  },
  "language_info": {
   "codemirror_mode": {
    "name": "ipython",
    "version": 3
   },
   "file_extension": ".py",
   "mimetype": "text/x-python",
   "name": "python",
   "nbconvert_exporter": "python",
   "pygments_lexer": "ipython3",
   "version": "3.8.12"
  }
 },
 "nbformat": 4,
 "nbformat_minor": 5
}
