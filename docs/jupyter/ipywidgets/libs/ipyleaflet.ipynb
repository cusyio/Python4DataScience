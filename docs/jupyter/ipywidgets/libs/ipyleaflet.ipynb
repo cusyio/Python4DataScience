{
 "cells": [
  {
   "cell_type": "markdown",
   "metadata": {},
   "source": [
    "# ipyleaflet"
   ]
  },
  {
   "cell_type": "code",
   "execution_count": 1,
   "metadata": {},
   "outputs": [],
   "source": [
    "from __future__ import print_function\n",
    "from ipyleaflet import *"
   ]
  },
  {
   "cell_type": "code",
   "execution_count": 2,
   "metadata": {},
   "outputs": [
    {
     "data": {
      "application/vnd.jupyter.widget-view+json": {
       "model_id": "357b740044d546d5ab4fcb2350704dbc",
       "version_major": 2,
       "version_minor": 0
      },
      "text/plain": [
       "Map(basemap={'url': 'http://{s}.tile.openstreetmap.se/hydda/full/{z}/{x}/{y}.png', 'max_zoom': 18, 'attributio…"
      ]
     },
     "metadata": {},
     "output_type": "display_data"
    }
   ],
   "source": [
    "m = Map(center=(48, 8), zoom=8, basemap=basemaps.Hydda.Full)\n",
    "m"
   ]
  },
  {
   "cell_type": "code",
   "execution_count": 3,
   "metadata": {},
   "outputs": [],
   "source": [
    "strata_all = basemap_to_tiles(basemaps.Strava.All)\n",
    "m.add_layer(strata_all)"
   ]
  },
  {
   "cell_type": "code",
   "execution_count": 4,
   "metadata": {},
   "outputs": [
    {
     "data": {
      "application/vnd.jupyter.widget-view+json": {
       "model_id": "7b4ec7b4bb2243f3b14cd7113c48df66",
       "version_major": 2,
       "version_minor": 0
      },
      "text/plain": [
       "Label(value='')"
      ]
     },
     "metadata": {},
     "output_type": "display_data"
    }
   ],
   "source": [
    "from ipywidgets import Label\n",
    "\n",
    "label = Label()\n",
    "display(label)\n",
    "\n",
    "def handle_interaction(**kwargs):\n",
    "    if kwargs.get('type') == 'mousemove':\n",
    "        label.value = str(kwargs.get('coordinates'))\n",
    "\n",
    "m.on_interaction(handle_interaction)"
   ]
  },
  {
   "cell_type": "code",
   "execution_count": 5,
   "metadata": {},
   "outputs": [],
   "source": [
    "strata_water = basemap_to_tiles(basemaps.Strava.Water)\n",
    "m.substitute_layer(strata_all, strata_water)"
   ]
  },
  {
   "cell_type": "code",
   "execution_count": 6,
   "metadata": {},
   "outputs": [],
   "source": [
    "import json\n",
    "from geojson import GeoJSON\n",
    "\n",
    "with open('./europe_110.geo.json') as f:\n",
    "    data = json.load(f)\n",
    "for feature in data['features']:\n",
    "    feature['properties']['style'] = {\n",
    "        'color': 'grey',\n",
    "        'weight': 1,\n",
    "        'fillColor': 'grey',\n",
    "        'fillOpacity': 0.5\n",
    "    }\n",
    "geo = GeoJSON(data=data, hover_style={'fillColor': 'red'}, name='Countries')\n",
    "m.add_layer(geo)"
   ]
  },
  {
   "cell_type": "code",
   "execution_count": 7,
   "metadata": {},
   "outputs": [],
   "source": [
    "m.add_control(LayersControl())"
   ]
  },
  {
   "cell_type": "code",
   "execution_count": 8,
   "metadata": {},
   "outputs": [
    {
     "data": {
      "application/vnd.jupyter.widget-view+json": {
       "model_id": "9ce5f694ade343d4934c2bc8af1273c9",
       "version_major": 2,
       "version_minor": 0
      },
      "text/plain": [
       "HBox(children=(Map(basemap={'url': 'http://{s}.tile.openstreetmap.se/hydda/full/{z}/{x}/{y}.png', 'max_zoom': …"
      ]
     },
     "metadata": {},
     "output_type": "display_data"
    }
   ],
   "source": [
    "import ipywidgets\n",
    " \n",
    "ipywidgets.HBox([m, Map(center=[48.0, 7.9], zoom=10)])"
   ]
  }
 ],
 "metadata": {
  "kernelspec": {
   "display_name": "Python 3.6.3",
   "language": "python",
   "name": "python3.6.3"
  },
  "language_info": {
   "codemirror_mode": {
    "name": "ipython",
    "version": 3
   },
   "file_extension": ".py",
   "mimetype": "text/x-python",
   "name": "python",
   "nbconvert_exporter": "python",
   "pygments_lexer": "ipython3",
   "version": "3.6.3"
  },
  "widgets": {
   "application/vnd.jupyter.widget-state+json": {
    "state": {
     "0035a0472f10488d8aead5695546a77f": {
      "model_module": "@jupyter-widgets/base",
      "model_module_version": "1.1.0",
      "model_name": "LayoutModel",
      "state": {}
     },
     "02bad0f064b146cea71fef9554dfc13b": {
      "model_module": "jupyter-leaflet",
      "model_module_version": "~0.9.2",
      "model_name": "LeafletTileLayerModel",
      "state": {
       "_model_module_version": "~0.9.2",
       "_view_count": null,
       "_view_module_version": "~0.9.2",
       "attribution": "Tiles courtesy of <a href=\"http://openstreetmap.se/\" target=\"_blank\">OpenStreetMap Sweden</a> &mdash; Map data &copy; <a href=\"http://www.openstreetmap.org/copyright\">OpenStreetMap</a>",
       "base": true,
       "min_zoom": 1,
       "name": "Hydda.Full",
       "options": [
        "attribution",
        "detect_retina",
        "max_zoom",
        "min_zoom",
        "tile_size"
       ],
       "url": "http://{s}.tile.openstreetmap.se/hydda/full/{z}/{x}/{y}.png"
      }
     },
     "033b42c566b449bc9798982d211c0929": {
      "model_module": "jupyter-leaflet",
      "model_module_version": "~0.9.2",
      "model_name": "LeafletTileLayerModel",
      "state": {
       "_model_module_version": "~0.9.2",
       "_view_count": null,
       "_view_module_version": "~0.9.2",
       "attribution": "Tiles courtesy of <a href=\"http://openstreetmap.se/\" target=\"_blank\">OpenStreetMap Sweden</a> &mdash; Map data &copy; <a href=\"http://www.openstreetmap.org/copyright\">OpenStreetMap</a>",
       "base": true,
       "min_zoom": 1,
       "name": "Hydda.Full",
       "options": [
        "attribution",
        "detect_retina",
        "max_zoom",
        "min_zoom",
        "tile_size"
       ],
       "url": "http://{s}.tile.openstreetmap.se/hydda/full/{z}/{x}/{y}.png"
      }
     },
     "0528c8f3a73a424a83aa84ae61821e35": {
      "model_module": "@jupyter-widgets/base",
      "model_module_version": "1.1.0",
      "model_name": "LayoutModel",
      "state": {}
     },
     "08f6b83ea4064992b203b7b3bac22de6": {
      "model_module": "jupyter-leaflet",
      "model_module_version": "~0.9.2",
      "model_name": "LeafletMapModel",
      "state": {
       "_dom_classes": [],
       "_model_module_version": "~0.9.2",
       "_view_count": null,
       "_view_module_version": "~0.9.2",
       "basemap": {
        "attribution": "Map data (c) <a href=\"https://openstreetmap.org\">OpenStreetMap</a> contributors",
        "max_zoom": 19,
        "url": "https://{s}.tile.openstreetmap.org/{z}/{x}/{y}.png"
       },
       "center": [
        47.6,
        7.44
       ],
       "east": 7.774200439453126,
       "interpolation": "bilinear",
       "layers": [
        "IPY_MODEL_2fb39cf3a83e4ce2b7bf8cc7444e759e"
       ],
       "layout": "IPY_MODEL_9a623d82ed5845ef9b7a2b1044ca23ac",
       "modisdate": "yesterday",
       "north": 47.78455738546879,
       "options": [
        "attribution_control",
        "basemap",
        "bounce_at_zoom_limits",
        "box_zoom",
        "center",
        "close_popup_on_click",
        "double_click_zoom",
        "dragging",
        "inertia",
        "inertia_deceleration",
        "inertia_max_speed",
        "interpolation",
        "keyboard",
        "keyboard_pan_offset",
        "keyboard_zoom_offset",
        "max_zoom",
        "min_zoom",
        "scroll_wheel_zoom",
        "tap",
        "tap_tolerance",
        "touch_zoom",
        "world_copy_jump",
        "zoom",
        "zoom_animation_threshold",
        "zoom_control",
        "zoom_start"
       ],
       "south": 47.414149636384714,
       "west": 7.105407714843751,
       "zoom": 10
      }
     },
     "097d33fd10394a13a45ecff73e88bfcc": {
      "model_module": "jupyter-leaflet",
      "model_module_version": "~0.9.2",
      "model_name": "LeafletTileLayerModel",
      "state": {
       "_model_module_version": "~0.9.2",
       "_view_count": null,
       "_view_module_version": "~0.9.2",
       "base": true,
       "max_zoom": 19,
       "min_zoom": 1,
       "options": [
        "attribution",
        "detect_retina",
        "max_zoom",
        "min_zoom",
        "tile_size"
       ]
      }
     },
     "0ac3b233a77a4d25a0158332cef4d6c9": {
      "model_module": "@jupyter-widgets/base",
      "model_module_version": "1.1.0",
      "model_name": "LayoutModel",
      "state": {}
     },
     "0c11214072764edba8f9975c92ea5cbd": {
      "model_module": "@jupyter-widgets/base",
      "model_module_version": "1.1.0",
      "model_name": "LayoutModel",
      "state": {}
     },
     "0d634455a61244ca8afe7b4c05078bf3": {
      "model_module": "jupyter-leaflet",
      "model_module_version": "~0.9.2",
      "model_name": "LeafletTileLayerModel",
      "state": {
       "_model_module_version": "~0.9.2",
       "_view_count": null,
       "_view_module_version": "~0.9.2",
       "attribution": "Tiles courtesy of <a href=\"http://openstreetmap.se/\" target=\"_blank\">OpenStreetMap Sweden</a> &mdash; Map data &copy; <a href=\"http://www.openstreetmap.org/copyright\">OpenStreetMap</a>",
       "base": true,
       "min_zoom": 1,
       "name": "Hydda.Full",
       "options": [
        "attribution",
        "detect_retina",
        "max_zoom",
        "min_zoom",
        "tile_size"
       ],
       "url": "http://{s}.tile.openstreetmap.se/hydda/full/{z}/{x}/{y}.png"
      }
     },
     "109d014675cb4c8f967f65234d6cac83": {
      "model_module": "jupyter-leaflet",
      "model_module_version": "~0.9.2",
      "model_name": "LeafletTileLayerModel",
      "state": {
       "_model_module_version": "~0.9.2",
       "_view_count": null,
       "_view_module_version": "~0.9.2",
       "attribution": "Tiles courtesy of <a href=\"http://openstreetmap.se/\" target=\"_blank\">OpenStreetMap Sweden</a> &mdash; Map data &copy; <a href=\"http://www.openstreetmap.org/copyright\">OpenStreetMap</a>",
       "base": true,
       "min_zoom": 1,
       "name": "Hydda.Full",
       "options": [
        "attribution",
        "detect_retina",
        "max_zoom",
        "min_zoom",
        "tile_size"
       ],
       "url": "http://{s}.tile.openstreetmap.se/hydda/full/{z}/{x}/{y}.png"
      }
     },
     "11799fa0378b460cab9564b4cb125493": {
      "model_module": "jupyter-leaflet",
      "model_module_version": "~0.9.2",
      "model_name": "LeafletTileLayerModel",
      "state": {
       "_model_module_version": "~0.9.2",
       "_view_count": null,
       "_view_module_version": "~0.9.2",
       "attribution": "Tiles courtesy of <a href=\"http://openstreetmap.se/\" target=\"_blank\">OpenStreetMap Sweden</a> &mdash; Map data &copy; <a href=\"http://www.openstreetmap.org/copyright\">OpenStreetMap</a>",
       "base": true,
       "min_zoom": 1,
       "name": "Hydda.Full",
       "options": [
        "attribution",
        "detect_retina",
        "max_zoom",
        "min_zoom",
        "tile_size"
       ],
       "url": "http://{s}.tile.openstreetmap.se/hydda/full/{z}/{x}/{y}.png"
      }
     },
     "15523f3d75ec454d8b0b2ca8b3ae6604": {
      "model_module": "@jupyter-widgets/controls",
      "model_module_version": "1.4.0",
      "model_name": "LabelModel",
      "state": {
       "layout": "IPY_MODEL_998a9b816d1e49ef956399e528420182",
       "style": "IPY_MODEL_8867e630ee1c443aa718073682029234"
      }
     },
     "16be0029c33f4e42923636d826fe798e": {
      "model_module": "@jupyter-widgets/base",
      "model_module_version": "1.1.0",
      "model_name": "LayoutModel",
      "state": {}
     },
     "182a87c84b6f4df69208b34e2b925786": {
      "model_module": "jupyter-leaflet",
      "model_module_version": "~0.9.2",
      "model_name": "LeafletMapModel",
      "state": {
       "_dom_classes": [],
       "_model_module_version": "~0.9.2",
       "_view_count": null,
       "_view_module_version": "~0.9.2",
       "basemap": {
        "attribution": "Tiles courtesy of <a href=\"http://openstreetmap.se/\" target=\"_blank\">OpenStreetMap Sweden</a> &mdash; Map data &copy; <a href=\"http://www.openstreetmap.org/copyright\">OpenStreetMap</a>",
        "max_zoom": 18,
        "name": "Hydda.Full",
        "url": "http://{s}.tile.openstreetmap.se/hydda/full/{z}/{x}/{y}.png"
       },
       "center": [
        52,
        10
       ],
       "east": 12.689208984375002,
       "interpolation": "bilinear",
       "layers": [
        "IPY_MODEL_e481cad2a8db4e1ca64db00bfd9daf12"
       ],
       "layout": "IPY_MODEL_a51f4420134e49a5bfaa2a7a90c61ace",
       "modisdate": "yesterday",
       "north": 52.669720383688166,
       "options": [
        "attribution_control",
        "basemap",
        "bounce_at_zoom_limits",
        "box_zoom",
        "center",
        "close_popup_on_click",
        "double_click_zoom",
        "dragging",
        "inertia",
        "inertia_deceleration",
        "inertia_max_speed",
        "interpolation",
        "keyboard",
        "keyboard_pan_offset",
        "keyboard_zoom_offset",
        "max_zoom",
        "min_zoom",
        "scroll_wheel_zoom",
        "tap",
        "tap_tolerance",
        "touch_zoom",
        "world_copy_jump",
        "zoom",
        "zoom_animation_threshold",
        "zoom_control",
        "zoom_start"
       ],
       "south": 51.316880504045876,
       "west": 7.3114013671875,
       "zoom": 8
      }
     },
     "1c37356bba8a4889bb6e31747a6b7c02": {
      "model_module": "jupyter-leaflet",
      "model_module_version": "~0.9.2",
      "model_name": "LeafletMapModel",
      "state": {
       "_dom_classes": [],
       "_model_module_version": "~0.9.2",
       "_view_count": null,
       "_view_module_version": "~0.9.2",
       "basemap": {
        "attribution": "Map data (c) <a href=\"https://openstreetmap.org\">OpenStreetMap</a> contributors",
        "max_zoom": 19,
        "url": "https://{s}.tile.openstreetmap.org/{z}/{x}/{y}.png"
       },
       "center": [
        43.6,
        1.44
       ],
       "east": 1.7742919921875002,
       "interpolation": "bilinear",
       "layers": [
        "IPY_MODEL_b07604ca1a254d1f9c595438aea14c6b"
       ],
       "layout": "IPY_MODEL_b738fe77bce74b17be45040cf05627b0",
       "modisdate": "yesterday",
       "north": 43.79885402720353,
       "options": [
        "attribution_control",
        "basemap",
        "bounce_at_zoom_limits",
        "box_zoom",
        "center",
        "close_popup_on_click",
        "double_click_zoom",
        "dragging",
        "inertia",
        "inertia_deceleration",
        "inertia_max_speed",
        "interpolation",
        "keyboard",
        "keyboard_pan_offset",
        "keyboard_zoom_offset",
        "max_zoom",
        "min_zoom",
        "scroll_wheel_zoom",
        "tap",
        "tap_tolerance",
        "touch_zoom",
        "world_copy_jump",
        "zoom",
        "zoom_animation_threshold",
        "zoom_control",
        "zoom_start"
       ],
       "south": 43.401056495052906,
       "west": 1.1054992675781252,
       "zoom": 10
      }
     },
     "1d41ee65b30f4d4db7a473e757de33a4": {
      "model_module": "@jupyter-widgets/base",
      "model_module_version": "1.1.0",
      "model_name": "LayoutModel",
      "state": {}
     },
     "1d5a4754eb6549aaa8b1af0a2be73aff": {
      "model_module": "@jupyter-widgets/base",
      "model_module_version": "1.1.0",
      "model_name": "LayoutModel",
      "state": {}
     },
     "1d5edb80c76442f2ba00857adb528dc4": {
      "model_module": "@jupyter-widgets/base",
      "model_module_version": "1.1.0",
      "model_name": "LayoutModel",
      "state": {}
     },
     "1e3f9b2429624d14a01e81ca2e6cf4b7": {
      "model_module": "jupyter-leaflet",
      "model_module_version": "~0.9.2",
      "model_name": "LeafletMapModel",
      "state": {
       "_dom_classes": [],
       "_model_module_version": "~0.9.2",
       "_view_count": null,
       "_view_module_version": "~0.9.2",
       "basemap": {
        "attribution": "Map data (c) <a href=\"https://openstreetmap.org\">OpenStreetMap</a> contributors",
        "max_zoom": 19,
        "url": "https://{s}.tile.openstreetmap.org/{z}/{x}/{y}.png"
       },
       "center": [
        48.6,
        8.44
       ],
       "east": 8.773956298828127,
       "interpolation": "bilinear",
       "layers": [
        "IPY_MODEL_6d42b9d2e9944cdaae8d6cbb9fc0425b"
       ],
       "layout": "IPY_MODEL_0ac3b233a77a4d25a0158332cef4d6c9",
       "modisdate": "yesterday",
       "north": 48.78153250728974,
       "options": [
        "attribution_control",
        "basemap",
        "bounce_at_zoom_limits",
        "box_zoom",
        "center",
        "close_popup_on_click",
        "double_click_zoom",
        "dragging",
        "inertia",
        "inertia_deceleration",
        "inertia_max_speed",
        "interpolation",
        "keyboard",
        "keyboard_pan_offset",
        "keyboard_zoom_offset",
        "max_zoom",
        "min_zoom",
        "scroll_wheel_zoom",
        "tap",
        "tap_tolerance",
        "touch_zoom",
        "world_copy_jump",
        "zoom",
        "zoom_animation_threshold",
        "zoom_control",
        "zoom_start"
       ],
       "south": 48.41826449418746,
       "west": 8.105163574218752,
       "zoom": 10
      }
     },
     "1e58908dc3264845be9fef2590bd8fbf": {
      "model_module": "@jupyter-widgets/base",
      "model_module_version": "1.1.0",
      "model_name": "LayoutModel",
      "state": {}
     },
     "1e779c60bf7e4c479c6210ca69cc6cde": {
      "model_module": "@jupyter-widgets/base",
      "model_module_version": "1.1.0",
      "model_name": "LayoutModel",
      "state": {}
     },
     "1eed77d699964e0e96cf9e605781dccf": {
      "model_module": "jupyter-leaflet",
      "model_module_version": "~0.9.2",
      "model_name": "LeafletTileLayerModel",
      "state": {
       "_model_module_version": "~0.9.2",
       "_view_count": null,
       "_view_module_version": "~0.9.2",
       "attribution": "Tiles courtesy of <a href=\"http://openstreetmap.se/\" target=\"_blank\">OpenStreetMap Sweden</a> &mdash; Map data &copy; <a href=\"http://www.openstreetmap.org/copyright\">OpenStreetMap</a>",
       "base": true,
       "min_zoom": 1,
       "name": "Hydda.Full",
       "options": [
        "attribution",
        "detect_retina",
        "max_zoom",
        "min_zoom",
        "tile_size"
       ],
       "url": "http://{s}.tile.openstreetmap.se/hydda/full/{z}/{x}/{y}.png"
      }
     },
     "224aaab308e746bdb61c430bdb1947d3": {
      "model_module": "@jupyter-widgets/controls",
      "model_module_version": "1.4.0",
      "model_name": "HBoxModel",
      "state": {
       "children": [
        "IPY_MODEL_2a0f6d89c0844b93a69ef9742d7acb6b",
        "IPY_MODEL_7c60d7251c784ef28dabf038b4a583c2"
       ],
       "layout": "IPY_MODEL_d2726321e75b49b8910f088581df0653"
      }
     },
     "23263f6ec2aa4bcdbbd2ad746566caeb": {
      "model_module": "jupyter-leaflet",
      "model_module_version": "~0.9.2",
      "model_name": "LeafletMapModel",
      "state": {
       "_dom_classes": [],
       "_model_module_version": "~0.9.2",
       "_view_count": null,
       "_view_module_version": "~0.9.2",
       "basemap": {
        "attribution": "Map data (c) <a href=\"https://openstreetmap.org\">OpenStreetMap</a> contributors",
        "max_zoom": 19,
        "url": "https://{s}.tile.openstreetmap.org/{z}/{x}/{y}.png"
       },
       "center": [
        48.1,
        7.9
       ],
       "east": 8.234252929687502,
       "interpolation": "bilinear",
       "layers": [
        "IPY_MODEL_4aafc4a9dd9d469ba9de94b718407ad9"
       ],
       "layout": "IPY_MODEL_c42c2c4a603443d7a9a02958cd5f6820",
       "modisdate": "yesterday",
       "north": 48.28319289548349,
       "options": [
        "attribution_control",
        "basemap",
        "bounce_at_zoom_limits",
        "box_zoom",
        "center",
        "close_popup_on_click",
        "double_click_zoom",
        "dragging",
        "inertia",
        "inertia_deceleration",
        "inertia_max_speed",
        "interpolation",
        "keyboard",
        "keyboard_pan_offset",
        "keyboard_zoom_offset",
        "max_zoom",
        "min_zoom",
        "scroll_wheel_zoom",
        "tap",
        "tap_tolerance",
        "touch_zoom",
        "world_copy_jump",
        "zoom",
        "zoom_animation_threshold",
        "zoom_control",
        "zoom_start"
       ],
       "south": 47.91634204016118,
       "west": 7.565460205078126,
       "zoom": 10
      }
     },
     "26062efd91964eac96c44b8c36e47620": {
      "model_module": "@jupyter-widgets/controls",
      "model_module_version": "1.4.0",
      "model_name": "HBoxModel",
      "state": {
       "children": [
        "IPY_MODEL_2a0f6d89c0844b93a69ef9742d7acb6b",
        "IPY_MODEL_4961ce892d9d47b29cba21e4fa250ca4"
       ],
       "layout": "IPY_MODEL_8e8bca74dd764b0590170a77e4c2fca2"
      }
     },
     "26c8cccfc7024475b110da85655c7c03": {
      "model_module": "@jupyter-widgets/base",
      "model_module_version": "1.1.0",
      "model_name": "LayoutModel",
      "state": {}
     },
     "2a0f6d89c0844b93a69ef9742d7acb6b": {
      "model_module": "jupyter-leaflet",
      "model_module_version": "~0.9.2",
      "model_name": "LeafletMapModel",
      "state": {
       "_dom_classes": [],
       "_model_module_version": "~0.9.2",
       "_view_count": null,
       "_view_module_version": "~0.9.2",
       "basemap": {
        "attribution": "Tiles courtesy of <a href=\"http://openstreetmap.se/\" target=\"_blank\">OpenStreetMap Sweden</a> &mdash; Map data &copy; <a href=\"http://www.openstreetmap.org/copyright\">OpenStreetMap</a>",
        "max_zoom": 18,
        "name": "Hydda.Full",
        "url": "http://{s}.tile.openstreetmap.se/hydda/full/{z}/{x}/{y}.png"
       },
       "center": [
        48,
        8
       ],
       "controls": [
        "IPY_MODEL_7e52235ac4fc459fa9fae2f87a0f842c"
       ],
       "east": 10.689697265625002,
       "interpolation": "bilinear",
       "layers": [
        "IPY_MODEL_1eed77d699964e0e96cf9e605781dccf",
        "IPY_MODEL_3c6eee3cd4ef4d9d933e362001441ab7",
        "IPY_MODEL_5b31696a5483464f9379646cb1c1fd35"
       ],
       "layout": "IPY_MODEL_afa45931452b40b991d8e72acd169add",
       "modisdate": "yesterday",
       "north": 48.73083222613518,
       "options": [
        "attribution_control",
        "basemap",
        "bounce_at_zoom_limits",
        "box_zoom",
        "center",
        "close_popup_on_click",
        "double_click_zoom",
        "dragging",
        "inertia",
        "inertia_deceleration",
        "inertia_max_speed",
        "interpolation",
        "keyboard",
        "keyboard_pan_offset",
        "keyboard_zoom_offset",
        "max_zoom",
        "min_zoom",
        "scroll_wheel_zoom",
        "tap",
        "tap_tolerance",
        "touch_zoom",
        "world_copy_jump",
        "zoom",
        "zoom_animation_threshold",
        "zoom_control",
        "zoom_start"
       ],
       "south": 47.260592193424706,
       "west": 5.311889648437501,
       "zoom": 8
      }
     },
     "2c16c0a14e8f4fccae8d2cc4144bd0d8": {
      "model_module": "jupyter-leaflet",
      "model_module_version": "~0.9.2",
      "model_name": "LeafletMapModel",
      "state": {
       "_dom_classes": [],
       "_model_module_version": "~0.9.2",
       "_view_count": null,
       "_view_module_version": "~0.9.2",
       "basemap": {
        "attribution": "Tiles courtesy of <a href=\"http://openstreetmap.se/\" target=\"_blank\">OpenStreetMap Sweden</a> &mdash; Map data &copy; <a href=\"http://www.openstreetmap.org/copyright\">OpenStreetMap</a>",
        "max_zoom": 18,
        "name": "Hydda.Full",
        "url": "http://{s}.tile.openstreetmap.se/hydda/full/{z}/{x}/{y}.png"
       },
       "center": [
        62,
        10
       ],
       "east": 12.689208984375002,
       "interpolation": "bilinear",
       "layers": [
        "IPY_MODEL_eb81a40952f84c0c82965b08ba83a2a1"
       ],
       "layout": "IPY_MODEL_6fb8b06c1200464786ec3af93f307e48",
       "modisdate": "yesterday",
       "north": 62.51231793838694,
       "options": [
        "attribution_control",
        "basemap",
        "bounce_at_zoom_limits",
        "box_zoom",
        "center",
        "close_popup_on_click",
        "double_click_zoom",
        "dragging",
        "inertia",
        "inertia_deceleration",
        "inertia_max_speed",
        "interpolation",
        "keyboard",
        "keyboard_pan_offset",
        "keyboard_zoom_offset",
        "max_zoom",
        "min_zoom",
        "scroll_wheel_zoom",
        "tap",
        "tap_tolerance",
        "touch_zoom",
        "world_copy_jump",
        "zoom",
        "zoom_animation_threshold",
        "zoom_control",
        "zoom_start"
       ],
       "south": 61.48075950007598,
       "west": 7.3114013671875,
       "zoom": 8
      }
     },
     "2c43e839fcc14517b8291091333d92d9": {
      "model_module": "@jupyter-widgets/base",
      "model_module_version": "1.1.0",
      "model_name": "LayoutModel",
      "state": {}
     },
     "2c62c0d598fc4f46bd68858495877c87": {
      "model_module": "jupyter-leaflet",
      "model_module_version": "~0.9.2",
      "model_name": "LeafletTileLayerModel",
      "state": {
       "_model_module_version": "~0.9.2",
       "_view_count": null,
       "_view_module_version": "~0.9.2",
       "base": true,
       "max_zoom": 19,
       "min_zoom": 1,
       "options": [
        "attribution",
        "detect_retina",
        "max_zoom",
        "min_zoom",
        "tile_size"
       ]
      }
     },
     "2c8ee408404744db88e72b9202bda5f1": {
      "model_module": "jupyter-leaflet",
      "model_module_version": "~0.9.2",
      "model_name": "LeafletTileLayerModel",
      "state": {
       "_model_module_version": "~0.9.2",
       "_view_count": null,
       "_view_module_version": "~0.9.2",
       "attribution": "",
       "max_zoom": 19,
       "min_zoom": 1,
       "name": "Countries",
       "options": [
        "attribution",
        "detect_retina",
        "max_zoom",
        "min_zoom",
        "tile_size"
       ],
       "url": ""
      }
     },
     "2f3eac376bd74697a9c40eb136cb50a3": {
      "model_module": "@jupyter-widgets/base",
      "model_module_version": "1.1.0",
      "model_name": "LayoutModel",
      "state": {}
     },
     "2fb39cf3a83e4ce2b7bf8cc7444e759e": {
      "model_module": "jupyter-leaflet",
      "model_module_version": "~0.9.2",
      "model_name": "LeafletTileLayerModel",
      "state": {
       "_model_module_version": "~0.9.2",
       "_view_count": null,
       "_view_module_version": "~0.9.2",
       "base": true,
       "max_zoom": 19,
       "min_zoom": 1,
       "options": [
        "attribution",
        "detect_retina",
        "max_zoom",
        "min_zoom",
        "tile_size"
       ]
      }
     },
     "2fbb50e078784f6e94d6eb9102805318": {
      "model_module": "@jupyter-widgets/base",
      "model_module_version": "1.1.0",
      "model_name": "LayoutModel",
      "state": {}
     },
     "301f1ce373ec4835b4577f39988c21d9": {
      "model_module": "jupyter-leaflet",
      "model_module_version": "~0.9.2",
      "model_name": "LeafletTileLayerModel",
      "state": {
       "_model_module_version": "~0.9.2",
       "_view_count": null,
       "_view_module_version": "~0.9.2",
       "attribution": "Tiles courtesy of <a href=\"http://openstreetmap.se/\" target=\"_blank\">OpenStreetMap Sweden</a> &mdash; Map data &copy; <a href=\"http://www.openstreetmap.org/copyright\">OpenStreetMap</a>",
       "base": true,
       "min_zoom": 1,
       "name": "Hydda.Full",
       "options": [
        "attribution",
        "detect_retina",
        "max_zoom",
        "min_zoom",
        "tile_size"
       ],
       "url": "http://{s}.tile.openstreetmap.se/hydda/full/{z}/{x}/{y}.png"
      }
     },
     "3193b3cec6f546b4aeafb6602c3c1716": {
      "model_module": "jupyter-leaflet",
      "model_module_version": "~0.9.2",
      "model_name": "LeafletMapModel",
      "state": {
       "_dom_classes": [],
       "_model_module_version": "~0.9.2",
       "_view_count": null,
       "_view_module_version": "~0.9.2",
       "basemap": {
        "attribution": "Tiles courtesy of <a href=\"http://openstreetmap.se/\" target=\"_blank\">OpenStreetMap Sweden</a> &mdash; Map data &copy; <a href=\"http://www.openstreetmap.org/copyright\">OpenStreetMap</a>",
        "max_zoom": 18,
        "name": "Hydda.Full",
        "url": "http://{s}.tile.openstreetmap.se/hydda/full/{z}/{x}/{y}.png"
       },
       "center": [
        49,
        10
       ],
       "east": 12.689208984375002,
       "interpolation": "bilinear",
       "layers": [
        "IPY_MODEL_0d634455a61244ca8afe7b4c05078bf3"
       ],
       "layout": "IPY_MODEL_ae4a2f50a2de44f5a4dd7ea5df7461bd",
       "modisdate": "yesterday",
       "north": 49.713824623405046,
       "options": [
        "attribution_control",
        "basemap",
        "bounce_at_zoom_limits",
        "box_zoom",
        "center",
        "close_popup_on_click",
        "double_click_zoom",
        "dragging",
        "inertia",
        "inertia_deceleration",
        "inertia_max_speed",
        "interpolation",
        "keyboard",
        "keyboard_pan_offset",
        "keyboard_zoom_offset",
        "max_zoom",
        "min_zoom",
        "scroll_wheel_zoom",
        "tap",
        "tap_tolerance",
        "touch_zoom",
        "world_copy_jump",
        "zoom",
        "zoom_animation_threshold",
        "zoom_control",
        "zoom_start"
       ],
       "south": 48.272225451004324,
       "west": 7.3114013671875,
       "zoom": 8
      }
     },
     "31c2aa08bd764986ad77ec7d01576909": {
      "model_module": "@jupyter-widgets/base",
      "model_module_version": "1.1.0",
      "model_name": "LayoutModel",
      "state": {}
     },
     "357b740044d546d5ab4fcb2350704dbc": {
      "model_module": "jupyter-leaflet",
      "model_module_version": "~0.9.2",
      "model_name": "LeafletMapModel",
      "state": {
       "_dom_classes": [],
       "_model_module_version": "~0.9.2",
       "_view_count": null,
       "_view_module_version": "~0.9.2",
       "basemap": {
        "attribution": "Tiles courtesy of <a href=\"http://openstreetmap.se/\" target=\"_blank\">OpenStreetMap Sweden</a> &mdash; Map data &copy; <a href=\"http://www.openstreetmap.org/copyright\">OpenStreetMap</a>",
        "max_zoom": 18,
        "name": "Hydda.Full",
        "url": "http://{s}.tile.openstreetmap.se/hydda/full/{z}/{x}/{y}.png"
       },
       "center": [
        48,
        8
       ],
       "controls": [
        "IPY_MODEL_965a40387bd04092b9b33bf42e6633e1"
       ],
       "east": 10.689697265625002,
       "interpolation": "bilinear",
       "layers": [
        "IPY_MODEL_60ea836d16ac48ff80ccf9667d7a6d44",
        "IPY_MODEL_471125073c9e4c42a4b5a03d989e17ea",
        "IPY_MODEL_d8bec27c29c44dd186507b311fe0bc9b"
       ],
       "layout": "IPY_MODEL_1d5a4754eb6549aaa8b1af0a2be73aff",
       "modisdate": "yesterday",
       "north": 48.73083222613518,
       "options": [
        "attribution_control",
        "basemap",
        "bounce_at_zoom_limits",
        "box_zoom",
        "center",
        "close_popup_on_click",
        "double_click_zoom",
        "dragging",
        "inertia",
        "inertia_deceleration",
        "inertia_max_speed",
        "interpolation",
        "keyboard",
        "keyboard_pan_offset",
        "keyboard_zoom_offset",
        "max_zoom",
        "min_zoom",
        "scroll_wheel_zoom",
        "tap",
        "tap_tolerance",
        "touch_zoom",
        "world_copy_jump",
        "zoom",
        "zoom_animation_threshold",
        "zoom_control",
        "zoom_start"
       ],
       "south": 47.260592193424706,
       "west": 5.311889648437501,
       "zoom": 8
      }
     },
     "3606f30ee3eb4f4faded52e2367747a7": {
      "model_module": "@jupyter-widgets/base",
      "model_module_version": "1.1.0",
      "model_name": "LayoutModel",
      "state": {}
     },
     "3c6eee3cd4ef4d9d933e362001441ab7": {
      "model_module": "jupyter-leaflet",
      "model_module_version": "~0.9.2",
      "model_name": "LeafletTileLayerModel",
      "state": {
       "_model_module_version": "~0.9.2",
       "_view_count": null,
       "_view_module_version": "~0.9.2",
       "attribution": "Map tiles by <a href=\"https://labs.strava.com/heatmap\">Strava 2017</a>",
       "max_zoom": 15,
       "min_zoom": 1,
       "name": "Strava.Water",
       "options": [
        "attribution",
        "detect_retina",
        "max_zoom",
        "min_zoom",
        "tile_size"
       ],
       "url": "https://heatmap-external-a.strava.com//tiles/water/blue/{z}/{x}/{y}.png?v=19"
      }
     },
     "3d6768e1a575403fa6811666468982f1": {
      "model_module": "@jupyter-widgets/base",
      "model_module_version": "1.1.0",
      "model_name": "LayoutModel",
      "state": {}
     },
     "3e8ba82837b9467e8cfb5b2d11a4328d": {
      "model_module": "@jupyter-widgets/controls",
      "model_module_version": "1.4.0",
      "model_name": "HBoxModel",
      "state": {
       "children": [
        "IPY_MODEL_2a0f6d89c0844b93a69ef9742d7acb6b",
        "IPY_MODEL_d4b96f425b1344aa927c1be91ead6e43"
       ],
       "layout": "IPY_MODEL_6fd0b77f69884506a35c4cde1acd94ae"
      }
     },
     "42dcdda87daf475bad014df1c1bea3d7": {
      "model_module": "jupyter-leaflet",
      "model_module_version": "~0.9.2",
      "model_name": "LeafletMapModel",
      "state": {
       "_dom_classes": [],
       "_model_module_version": "~0.9.2",
       "_view_count": null,
       "_view_module_version": "~0.9.2",
       "basemap": {
        "attribution": "Tiles courtesy of <a href=\"http://openstreetmap.se/\" target=\"_blank\">OpenStreetMap Sweden</a> &mdash; Map data &copy; <a href=\"http://www.openstreetmap.org/copyright\">OpenStreetMap</a>",
        "max_zoom": 18,
        "name": "Hydda.Full",
        "url": "http://{s}.tile.openstreetmap.se/hydda/full/{z}/{x}/{y}.png"
       },
       "center": [
        53,
        10
       ],
       "east": 12.689208984375002,
       "interpolation": "bilinear",
       "layers": [
        "IPY_MODEL_d044652d4409436a940c7825d743b777"
       ],
       "layout": "IPY_MODEL_9ec9737151454ecf8902796fd725849f",
       "modisdate": "yesterday",
       "north": 53.657661020298,
       "options": [
        "attribution_control",
        "basemap",
        "bounce_at_zoom_limits",
        "box_zoom",
        "center",
        "close_popup_on_click",
        "double_click_zoom",
        "dragging",
        "inertia",
        "inertia_deceleration",
        "inertia_max_speed",
        "interpolation",
        "keyboard",
        "keyboard_pan_offset",
        "keyboard_zoom_offset",
        "max_zoom",
        "min_zoom",
        "scroll_wheel_zoom",
        "tap",
        "tap_tolerance",
        "touch_zoom",
        "world_copy_jump",
        "zoom",
        "zoom_animation_threshold",
        "zoom_control",
        "zoom_start"
       ],
       "south": 52.33533907188941,
       "west": 7.3114013671875,
       "zoom": 8
      }
     },
     "460eb2dfac544ab8b3d98a458e2768fd": {
      "model_module": "@jupyter-widgets/base",
      "model_module_version": "1.1.0",
      "model_name": "LayoutModel",
      "state": {}
     },
     "471125073c9e4c42a4b5a03d989e17ea": {
      "model_module": "jupyter-leaflet",
      "model_module_version": "~0.9.2",
      "model_name": "LeafletTileLayerModel",
      "state": {
       "_model_module_version": "~0.9.2",
       "_view_count": null,
       "_view_module_version": "~0.9.2",
       "attribution": "Map tiles by <a href=\"https://labs.strava.com/heatmap\">Strava 2017</a>",
       "max_zoom": 15,
       "min_zoom": 1,
       "name": "Strava.Water",
       "options": [
        "attribution",
        "detect_retina",
        "max_zoom",
        "min_zoom",
        "tile_size"
       ],
       "url": "https://heatmap-external-a.strava.com//tiles/water/blue/{z}/{x}/{y}.png?v=19"
      }
     },
     "472bda8109524630ab4133fe955f8eca": {
      "model_module": "@jupyter-widgets/controls",
      "model_module_version": "1.4.0",
      "model_name": "HBoxModel",
      "state": {
       "children": [
        "IPY_MODEL_2a0f6d89c0844b93a69ef9742d7acb6b",
        "IPY_MODEL_7e7a835db8084fe299e07b1884c59bcf"
       ],
       "layout": "IPY_MODEL_0c11214072764edba8f9975c92ea5cbd"
      }
     },
     "4961ce892d9d47b29cba21e4fa250ca4": {
      "model_module": "jupyter-leaflet",
      "model_module_version": "~0.9.2",
      "model_name": "LeafletMapModel",
      "state": {
       "_dom_classes": [],
       "_model_module_version": "~0.9.2",
       "_view_count": null,
       "_view_module_version": "~0.9.2",
       "basemap": {
        "attribution": "Map data (c) <a href=\"https://openstreetmap.org\">OpenStreetMap</a> contributors",
        "max_zoom": 19,
        "url": "https://{s}.tile.openstreetmap.org/{z}/{x}/{y}.png"
       },
       "center": [
        48,
        7.9
       ],
       "east": 8.234252929687502,
       "interpolation": "bilinear",
       "layers": [
        "IPY_MODEL_097d33fd10394a13a45ecff73e88bfcc"
       ],
       "layout": "IPY_MODEL_26c8cccfc7024475b110da85655c7c03",
       "modisdate": "yesterday",
       "north": 48.18348549519126,
       "options": [
        "attribution_control",
        "basemap",
        "bounce_at_zoom_limits",
        "box_zoom",
        "center",
        "close_popup_on_click",
        "double_click_zoom",
        "dragging",
        "inertia",
        "inertia_deceleration",
        "inertia_max_speed",
        "interpolation",
        "keyboard",
        "keyboard_pan_offset",
        "keyboard_zoom_offset",
        "max_zoom",
        "min_zoom",
        "scroll_wheel_zoom",
        "tap",
        "tap_tolerance",
        "touch_zoom",
        "world_copy_jump",
        "zoom",
        "zoom_animation_threshold",
        "zoom_control",
        "zoom_start"
       ],
       "south": 47.81592114659014,
       "west": 7.565460205078126,
       "zoom": 10
      }
     },
     "4aafc4a9dd9d469ba9de94b718407ad9": {
      "model_module": "jupyter-leaflet",
      "model_module_version": "~0.9.2",
      "model_name": "LeafletTileLayerModel",
      "state": {
       "_model_module_version": "~0.9.2",
       "_view_count": null,
       "_view_module_version": "~0.9.2",
       "base": true,
       "max_zoom": 19,
       "min_zoom": 1,
       "options": [
        "attribution",
        "detect_retina",
        "max_zoom",
        "min_zoom",
        "tile_size"
       ]
      }
     },
     "4e7542449cd04647821d20ec037acb03": {
      "model_module": "@jupyter-widgets/controls",
      "model_module_version": "1.4.0",
      "model_name": "HBoxModel",
      "state": {
       "children": [
        "IPY_MODEL_2a0f6d89c0844b93a69ef9742d7acb6b",
        "IPY_MODEL_5d47848ad1a844f1b1c09968d254f31f"
       ],
       "layout": "IPY_MODEL_9d80ea246f28492c828e8921e018abc7"
      }
     },
     "4ec9045d69e64cd9b046653435bd6164": {
      "model_module": "@jupyter-widgets/controls",
      "model_module_version": "1.4.0",
      "model_name": "HBoxModel",
      "state": {
       "children": [
        "IPY_MODEL_2a0f6d89c0844b93a69ef9742d7acb6b",
        "IPY_MODEL_6a178c4829404185a9a28fb79bf9d6ea"
       ],
       "layout": "IPY_MODEL_cf4722e2545242bf8e2e8bd111ac36a2"
      }
     },
     "53fde5729fde4f1385a251ad6199b68f": {
      "model_module": "jupyter-leaflet",
      "model_module_version": "~0.9.2",
      "model_name": "LeafletTileLayerModel",
      "state": {
       "_model_module_version": "~0.9.2",
       "_view_count": null,
       "_view_module_version": "~0.9.2",
       "base": true,
       "max_zoom": 19,
       "min_zoom": 1,
       "options": [
        "attribution",
        "detect_retina",
        "max_zoom",
        "min_zoom",
        "tile_size"
       ]
      }
     },
     "5605723188ca4f8ab51639cac498a325": {
      "model_module": "@jupyter-widgets/base",
      "model_module_version": "1.1.0",
      "model_name": "LayoutModel",
      "state": {}
     },
     "56f9f0afa29a42bd8c358d73505fd84c": {
      "model_module": "@jupyter-widgets/base",
      "model_module_version": "1.1.0",
      "model_name": "LayoutModel",
      "state": {}
     },
     "57293d8c444b44868b65b3cdc0c735e6": {
      "model_module": "@jupyter-widgets/base",
      "model_module_version": "1.1.0",
      "model_name": "LayoutModel",
      "state": {}
     },
     "57d3286dd9b94cda839fe111439a9cf9": {
      "model_module": "@jupyter-widgets/base",
      "model_module_version": "1.1.0",
      "model_name": "LayoutModel",
      "state": {}
     },
     "5b31696a5483464f9379646cb1c1fd35": {
      "model_module": "jupyter-leaflet",
      "model_module_version": "~0.9.2",
      "model_name": "LeafletTileLayerModel",
      "state": {
       "_model_module_version": "~0.9.2",
       "_view_count": null,
       "_view_module_version": "~0.9.2",
       "attribution": "",
       "max_zoom": 19,
       "min_zoom": 1,
       "name": "Countries",
       "options": [
        "attribution",
        "detect_retina",
        "max_zoom",
        "min_zoom",
        "tile_size"
       ],
       "url": ""
      }
     },
     "5d47848ad1a844f1b1c09968d254f31f": {
      "model_module": "jupyter-leaflet",
      "model_module_version": "~0.9.2",
      "model_name": "LeafletMapModel",
      "state": {
       "_dom_classes": [],
       "_model_module_version": "~0.9.2",
       "_view_count": null,
       "_view_module_version": "~0.9.2",
       "basemap": {
        "attribution": "Map data (c) <a href=\"https://openstreetmap.org\">OpenStreetMap</a> contributors",
        "max_zoom": 19,
        "url": "https://{s}.tile.openstreetmap.org/{z}/{x}/{y}.png"
       },
       "center": [
        47.6,
        8.44
       ],
       "east": 8.773956298828127,
       "interpolation": "bilinear",
       "layers": [
        "IPY_MODEL_53fde5729fde4f1385a251ad6199b68f"
       ],
       "layout": "IPY_MODEL_0528c8f3a73a424a83aa84ae61821e35",
       "modisdate": "yesterday",
       "north": 47.78455738546879,
       "options": [
        "attribution_control",
        "basemap",
        "bounce_at_zoom_limits",
        "box_zoom",
        "center",
        "close_popup_on_click",
        "double_click_zoom",
        "dragging",
        "inertia",
        "inertia_deceleration",
        "inertia_max_speed",
        "interpolation",
        "keyboard",
        "keyboard_pan_offset",
        "keyboard_zoom_offset",
        "max_zoom",
        "min_zoom",
        "scroll_wheel_zoom",
        "tap",
        "tap_tolerance",
        "touch_zoom",
        "world_copy_jump",
        "zoom",
        "zoom_animation_threshold",
        "zoom_control",
        "zoom_start"
       ],
       "south": 47.414149636384714,
       "west": 8.105163574218752,
       "zoom": 10
      }
     },
     "5e4b909094b14951ace4f41872ab5dd5": {
      "model_module": "jupyter-leaflet",
      "model_module_version": "~0.9.2",
      "model_name": "LeafletTileLayerModel",
      "state": {
       "_model_module_version": "~0.9.2",
       "_view_count": null,
       "_view_module_version": "~0.9.2",
       "attribution": "Tiles courtesy of <a href=\"http://openstreetmap.se/\" target=\"_blank\">OpenStreetMap Sweden</a> &mdash; Map data &copy; <a href=\"http://www.openstreetmap.org/copyright\">OpenStreetMap</a>",
       "base": true,
       "min_zoom": 1,
       "name": "Hydda.Full",
       "options": [
        "attribution",
        "detect_retina",
        "max_zoom",
        "min_zoom",
        "tile_size"
       ],
       "url": "http://{s}.tile.openstreetmap.se/hydda/full/{z}/{x}/{y}.png"
      }
     },
     "5f6a00ce8b31467fa3a87e9d92ee483d": {
      "model_module": "jupyter-leaflet",
      "model_module_version": "~0.9.2",
      "model_name": "LeafletTileLayerModel",
      "state": {
       "_model_module_version": "~0.9.2",
       "_view_count": null,
       "_view_module_version": "~0.9.2",
       "attribution": "Map tiles by <a href=\"https://labs.strava.com/heatmap\">Strava 2017</a>",
       "max_zoom": 15,
       "min_zoom": 1,
       "name": "Strava.All",
       "options": [
        "attribution",
        "detect_retina",
        "max_zoom",
        "min_zoom",
        "tile_size"
       ],
       "url": "https://heatmap-external-a.strava.com//tiles/all/hot/{z}/{x}/{y}.png?v=19"
      }
     },
     "60c62504f65147ffa66aefd9f2bc0e39": {
      "model_module": "@jupyter-widgets/base",
      "model_module_version": "1.1.0",
      "model_name": "LayoutModel",
      "state": {}
     },
     "60ea836d16ac48ff80ccf9667d7a6d44": {
      "model_module": "jupyter-leaflet",
      "model_module_version": "~0.9.2",
      "model_name": "LeafletTileLayerModel",
      "state": {
       "_model_module_version": "~0.9.2",
       "_view_count": null,
       "_view_module_version": "~0.9.2",
       "attribution": "Tiles courtesy of <a href=\"http://openstreetmap.se/\" target=\"_blank\">OpenStreetMap Sweden</a> &mdash; Map data &copy; <a href=\"http://www.openstreetmap.org/copyright\">OpenStreetMap</a>",
       "base": true,
       "min_zoom": 1,
       "name": "Hydda.Full",
       "options": [
        "attribution",
        "detect_retina",
        "max_zoom",
        "min_zoom",
        "tile_size"
       ],
       "url": "http://{s}.tile.openstreetmap.se/hydda/full/{z}/{x}/{y}.png"
      }
     },
     "64c42b5128c94f469b55275322914b01": {
      "model_module": "@jupyter-widgets/controls",
      "model_module_version": "1.4.0",
      "model_name": "HBoxModel",
      "state": {
       "children": [
        "IPY_MODEL_2a0f6d89c0844b93a69ef9742d7acb6b",
        "IPY_MODEL_08f6b83ea4064992b203b7b3bac22de6"
       ],
       "layout": "IPY_MODEL_7152416fb1e14e279754ffde7e9e5336"
      }
     },
     "6a178c4829404185a9a28fb79bf9d6ea": {
      "model_module": "jupyter-leaflet",
      "model_module_version": "~0.9.2",
      "model_name": "LeafletMapModel",
      "state": {
       "_dom_classes": [],
       "_model_module_version": "~0.9.2",
       "_view_count": null,
       "_view_module_version": "~0.9.2",
       "basemap": {
        "attribution": "Map data (c) <a href=\"https://openstreetmap.org\">OpenStreetMap</a> contributors",
        "max_zoom": 19,
        "url": "https://{s}.tile.openstreetmap.org/{z}/{x}/{y}.png"
       },
       "center": [
        47.94762618352869,
        7.916336059570313
       ],
       "east": 8.250732421875002,
       "interpolation": "bilinear",
       "layers": [
        "IPY_MODEL_fdc38783e566411bbbe07e13a32c7e8c"
       ],
       "layout": "IPY_MODEL_7663b365db6f4636907ff0ef0a38513f",
       "modisdate": "yesterday",
       "north": 48.13126755117028,
       "options": [
        "attribution_control",
        "basemap",
        "bounce_at_zoom_limits",
        "box_zoom",
        "center",
        "close_popup_on_click",
        "double_click_zoom",
        "dragging",
        "inertia",
        "inertia_deceleration",
        "inertia_max_speed",
        "interpolation",
        "keyboard",
        "keyboard_pan_offset",
        "keyboard_zoom_offset",
        "max_zoom",
        "min_zoom",
        "scroll_wheel_zoom",
        "tap",
        "tap_tolerance",
        "touch_zoom",
        "world_copy_jump",
        "zoom",
        "zoom_animation_threshold",
        "zoom_control",
        "zoom_start"
       ],
       "south": 47.76332998647307,
       "west": 7.581939697265626,
       "zoom": 10
      }
     },
     "6d42b9d2e9944cdaae8d6cbb9fc0425b": {
      "model_module": "jupyter-leaflet",
      "model_module_version": "~0.9.2",
      "model_name": "LeafletTileLayerModel",
      "state": {
       "_model_module_version": "~0.9.2",
       "_view_count": null,
       "_view_module_version": "~0.9.2",
       "base": true,
       "max_zoom": 19,
       "min_zoom": 1,
       "options": [
        "attribution",
        "detect_retina",
        "max_zoom",
        "min_zoom",
        "tile_size"
       ]
      }
     },
     "6fb8b06c1200464786ec3af93f307e48": {
      "model_module": "@jupyter-widgets/base",
      "model_module_version": "1.1.0",
      "model_name": "LayoutModel",
      "state": {}
     },
     "6fd0b77f69884506a35c4cde1acd94ae": {
      "model_module": "@jupyter-widgets/base",
      "model_module_version": "1.1.0",
      "model_name": "LayoutModel",
      "state": {}
     },
     "714f60c8c59a46958d2f572405dba91a": {
      "model_module": "@jupyter-widgets/base",
      "model_module_version": "1.1.0",
      "model_name": "LayoutModel",
      "state": {}
     },
     "7152416fb1e14e279754ffde7e9e5336": {
      "model_module": "@jupyter-widgets/base",
      "model_module_version": "1.1.0",
      "model_name": "LayoutModel",
      "state": {}
     },
     "72d984681d3b45038d58f6c79f7cd21d": {
      "model_module": "@jupyter-widgets/base",
      "model_module_version": "1.1.0",
      "model_name": "LayoutModel",
      "state": {}
     },
     "72fa4a93850e44139ab522d27571770f": {
      "model_module": "@jupyter-widgets/controls",
      "model_module_version": "1.4.0",
      "model_name": "DescriptionStyleModel",
      "state": {
       "description_width": ""
      }
     },
     "746a9db55a344dc3bc737f834563a191": {
      "model_module": "@jupyter-widgets/controls",
      "model_module_version": "1.4.0",
      "model_name": "HBoxModel",
      "state": {
       "children": [
        "IPY_MODEL_2a0f6d89c0844b93a69ef9742d7acb6b",
        "IPY_MODEL_e7c691cb5b21468a8fb8ac5de527bc56"
       ],
       "layout": "IPY_MODEL_0035a0472f10488d8aead5695546a77f"
      }
     },
     "7659a3a0ab6f40739205a6025d928bd5": {
      "model_module": "jupyter-leaflet",
      "model_module_version": "~0.9.2",
      "model_name": "LeafletTileLayerModel",
      "state": {
       "_model_module_version": "~0.9.2",
       "_view_count": null,
       "_view_module_version": "~0.9.2",
       "base": true,
       "max_zoom": 19,
       "min_zoom": 1,
       "options": [
        "attribution",
        "detect_retina",
        "max_zoom",
        "min_zoom",
        "tile_size"
       ]
      }
     },
     "7663b365db6f4636907ff0ef0a38513f": {
      "model_module": "@jupyter-widgets/base",
      "model_module_version": "1.1.0",
      "model_name": "LayoutModel",
      "state": {}
     },
     "790ff2d2b61646789df0563fd597093b": {
      "model_module": "jupyter-leaflet",
      "model_module_version": "~0.9.2",
      "model_name": "LeafletTileLayerModel",
      "state": {
       "_model_module_version": "~0.9.2",
       "_view_count": null,
       "_view_module_version": "~0.9.2",
       "attribution": "Map tiles by <a href=\"https://labs.strava.com/heatmap\">Strava 2017</a>",
       "max_zoom": 15,
       "min_zoom": 1,
       "name": "Strava.All",
       "options": [
        "attribution",
        "detect_retina",
        "max_zoom",
        "min_zoom",
        "tile_size"
       ],
       "url": "https://heatmap-external-a.strava.com//tiles/all/hot/{z}/{x}/{y}.png?v=19"
      }
     },
     "7b4ec7b4bb2243f3b14cd7113c48df66": {
      "model_module": "@jupyter-widgets/controls",
      "model_module_version": "1.4.0",
      "model_name": "LabelModel",
      "state": {
       "layout": "IPY_MODEL_60c62504f65147ffa66aefd9f2bc0e39",
       "style": "IPY_MODEL_927627761a1b40018ad07a5863e160ff",
       "value": "[48.71718271505055, 7.959227151162343]"
      }
     },
     "7c60d7251c784ef28dabf038b4a583c2": {
      "model_module": "jupyter-leaflet",
      "model_module_version": "~0.9.2",
      "model_name": "LeafletMapModel",
      "state": {
       "_dom_classes": [],
       "_model_module_version": "~0.9.2",
       "_view_count": null,
       "_view_module_version": "~0.9.2",
       "basemap": {
        "attribution": "Map data (c) <a href=\"https://openstreetmap.org\">OpenStreetMap</a> contributors",
        "max_zoom": 19,
        "url": "https://{s}.tile.openstreetmap.org/{z}/{x}/{y}.png"
       },
       "center": [
        48,
        8.1
       ],
       "east": 8.434753417968752,
       "interpolation": "bilinear",
       "layers": [
        "IPY_MODEL_8b9323ff58c0421e8290639caf53be2a"
       ],
       "layout": "IPY_MODEL_2c43e839fcc14517b8291091333d92d9",
       "modisdate": "yesterday",
       "north": 48.18348549519126,
       "options": [
        "attribution_control",
        "basemap",
        "bounce_at_zoom_limits",
        "box_zoom",
        "center",
        "close_popup_on_click",
        "double_click_zoom",
        "dragging",
        "inertia",
        "inertia_deceleration",
        "inertia_max_speed",
        "interpolation",
        "keyboard",
        "keyboard_pan_offset",
        "keyboard_zoom_offset",
        "max_zoom",
        "min_zoom",
        "scroll_wheel_zoom",
        "tap",
        "tap_tolerance",
        "touch_zoom",
        "world_copy_jump",
        "zoom",
        "zoom_animation_threshold",
        "zoom_control",
        "zoom_start"
       ],
       "south": 47.81592114659014,
       "west": 7.765960693359376,
       "zoom": 10
      }
     },
     "7e52235ac4fc459fa9fae2f87a0f842c": {
      "model_module": "jupyter-leaflet",
      "model_module_version": "~0.9.2",
      "model_name": "LeafletLayersControlModel",
      "state": {
       "_model_module_version": "~0.9.2",
       "_view_count": null,
       "_view_module_version": "~0.9.2"
      }
     },
     "7e7a835db8084fe299e07b1884c59bcf": {
      "model_module": "jupyter-leaflet",
      "model_module_version": "~0.9.2",
      "model_name": "LeafletMapModel",
      "state": {
       "_dom_classes": [],
       "_model_module_version": "~0.9.2",
       "_view_count": null,
       "_view_module_version": "~0.9.2",
       "basemap": {
        "attribution": "Map data (c) <a href=\"https://openstreetmap.org\">OpenStreetMap</a> contributors",
        "max_zoom": 19,
        "url": "https://{s}.tile.openstreetmap.org/{z}/{x}/{y}.png"
       },
       "center": [
        48.2,
        7.9
       ],
       "east": 8.234252929687502,
       "interpolation": "bilinear",
       "layers": [
        "IPY_MODEL_c930e7640d8f4b3598277763f25975e6"
       ],
       "layout": "IPY_MODEL_b5df758f9c6c4bcc8c9574e264565b70",
       "modisdate": "yesterday",
       "north": 48.38270604320723,
       "options": [
        "attribution_control",
        "basemap",
        "bounce_at_zoom_limits",
        "box_zoom",
        "center",
        "close_popup_on_click",
        "double_click_zoom",
        "dragging",
        "inertia",
        "inertia_deceleration",
        "inertia_max_speed",
        "interpolation",
        "keyboard",
        "keyboard_pan_offset",
        "keyboard_zoom_offset",
        "max_zoom",
        "min_zoom",
        "scroll_wheel_zoom",
        "tap",
        "tap_tolerance",
        "touch_zoom",
        "world_copy_jump",
        "zoom",
        "zoom_animation_threshold",
        "zoom_control",
        "zoom_start"
       ],
       "south": 48.0165684107673,
       "west": 7.565460205078126,
       "zoom": 10
      }
     },
     "812b8279c08d47df893b3c7ace280011": {
      "model_module": "jupyter-leaflet",
      "model_module_version": "~0.9.2",
      "model_name": "LeafletTileLayerModel",
      "state": {
       "_model_module_version": "~0.9.2",
       "_view_count": null,
       "_view_module_version": "~0.9.2",
       "attribution": "Map tiles by <a href=\"https://labs.strava.com/heatmap\">Strava 2017</a>",
       "max_zoom": 15,
       "min_zoom": 1,
       "name": "Strava.All",
       "options": [
        "attribution",
        "detect_retina",
        "max_zoom",
        "min_zoom",
        "tile_size"
       ],
       "url": "https://heatmap-external-a.strava.com//tiles/all/hot/{z}/{x}/{y}.png?v=19"
      }
     },
     "8193e83214d04534bcc434a694c7f724": {
      "model_module": "@jupyter-widgets/controls",
      "model_module_version": "1.4.0",
      "model_name": "HBoxModel",
      "state": {
       "children": [
        "IPY_MODEL_2a0f6d89c0844b93a69ef9742d7acb6b",
        "IPY_MODEL_23263f6ec2aa4bcdbbd2ad746566caeb"
       ],
       "layout": "IPY_MODEL_9eb800e558a849aab48b7f3e3dcc8b15"
      }
     },
     "84666b81e319482e944b417561ecb0e0": {
      "model_module": "jupyter-leaflet",
      "model_module_version": "~0.9.2",
      "model_name": "LeafletTileLayerModel",
      "state": {
       "_model_module_version": "~0.9.2",
       "_view_count": null,
       "_view_module_version": "~0.9.2",
       "attribution": "Map tiles by <a href=\"https://labs.strava.com/heatmap\">Strava 2017</a>",
       "max_zoom": 15,
       "min_zoom": 1,
       "name": "Strava.Water",
       "options": [
        "attribution",
        "detect_retina",
        "max_zoom",
        "min_zoom",
        "tile_size"
       ],
       "url": "https://heatmap-external-a.strava.com//tiles/water/blue/{z}/{x}/{y}.png?v=19"
      }
     },
     "88387f25f1f94284b9f13ad14ffe0557": {
      "model_module": "jupyter-leaflet",
      "model_module_version": "~0.9.2",
      "model_name": "LeafletMapModel",
      "state": {
       "_dom_classes": [],
       "_model_module_version": "~0.9.2",
       "_view_count": null,
       "_view_module_version": "~0.9.2",
       "basemap": {
        "attribution": "Tiles courtesy of <a href=\"http://openstreetmap.se/\" target=\"_blank\">OpenStreetMap Sweden</a> &mdash; Map data &copy; <a href=\"http://www.openstreetmap.org/copyright\">OpenStreetMap</a>",
        "max_zoom": 18,
        "name": "Hydda.Full",
        "url": "http://{s}.tile.openstreetmap.se/hydda/full/{z}/{x}/{y}.png"
       },
       "center": [
        48,
        9
       ],
       "east": 11.689453125000002,
       "interpolation": "bilinear",
       "layers": [
        "IPY_MODEL_bf4952e0e6ed48b7938b7c99d3cc0e65"
       ],
       "layout": "IPY_MODEL_56f9f0afa29a42bd8c358d73505fd84c",
       "modisdate": "yesterday",
       "north": 48.73083222613518,
       "options": [
        "attribution_control",
        "basemap",
        "bounce_at_zoom_limits",
        "box_zoom",
        "center",
        "close_popup_on_click",
        "double_click_zoom",
        "dragging",
        "inertia",
        "inertia_deceleration",
        "inertia_max_speed",
        "interpolation",
        "keyboard",
        "keyboard_pan_offset",
        "keyboard_zoom_offset",
        "max_zoom",
        "min_zoom",
        "scroll_wheel_zoom",
        "tap",
        "tap_tolerance",
        "touch_zoom",
        "world_copy_jump",
        "zoom",
        "zoom_animation_threshold",
        "zoom_control",
        "zoom_start"
       ],
       "south": 47.260592193424706,
       "west": 6.3116455078125,
       "zoom": 8
      }
     },
     "8867e630ee1c443aa718073682029234": {
      "model_module": "@jupyter-widgets/controls",
      "model_module_version": "1.4.0",
      "model_name": "DescriptionStyleModel",
      "state": {
       "description_width": ""
      }
     },
     "8b9323ff58c0421e8290639caf53be2a": {
      "model_module": "jupyter-leaflet",
      "model_module_version": "~0.9.2",
      "model_name": "LeafletTileLayerModel",
      "state": {
       "_model_module_version": "~0.9.2",
       "_view_count": null,
       "_view_module_version": "~0.9.2",
       "base": true,
       "max_zoom": 19,
       "min_zoom": 1,
       "options": [
        "attribution",
        "detect_retina",
        "max_zoom",
        "min_zoom",
        "tile_size"
       ]
      }
     },
     "8c1ecc5fcbe14aacb302875f0975a2e4": {
      "model_module": "@jupyter-widgets/base",
      "model_module_version": "1.1.0",
      "model_name": "LayoutModel",
      "state": {}
     },
     "8e8bca74dd764b0590170a77e4c2fca2": {
      "model_module": "@jupyter-widgets/base",
      "model_module_version": "1.1.0",
      "model_name": "LayoutModel",
      "state": {}
     },
     "8ea4f7b59f3846888aa27804a8b7bd6b": {
      "model_module": "jupyter-leaflet",
      "model_module_version": "~0.9.2",
      "model_name": "LeafletMapModel",
      "state": {
       "_dom_classes": [],
       "_model_module_version": "~0.9.2",
       "_view_count": null,
       "_view_module_version": "~0.9.2",
       "basemap": {
        "attribution": "Map data (c) <a href=\"https://openstreetmap.org\">OpenStreetMap</a> contributors",
        "max_zoom": 19,
        "url": "https://{s}.tile.openstreetmap.org/{z}/{x}/{y}.png"
       },
       "center": [
        48,
        7.9
       ],
       "east": 8.234252929687502,
       "interpolation": "bilinear",
       "layers": [
        "IPY_MODEL_c206fe5856fc41a0848370624aa66829"
       ],
       "layout": "IPY_MODEL_2fbb50e078784f6e94d6eb9102805318",
       "modisdate": "yesterday",
       "north": 48.18348549519126,
       "options": [
        "attribution_control",
        "basemap",
        "bounce_at_zoom_limits",
        "box_zoom",
        "center",
        "close_popup_on_click",
        "double_click_zoom",
        "dragging",
        "inertia",
        "inertia_deceleration",
        "inertia_max_speed",
        "interpolation",
        "keyboard",
        "keyboard_pan_offset",
        "keyboard_zoom_offset",
        "max_zoom",
        "min_zoom",
        "scroll_wheel_zoom",
        "tap",
        "tap_tolerance",
        "touch_zoom",
        "world_copy_jump",
        "zoom",
        "zoom_animation_threshold",
        "zoom_control",
        "zoom_start"
       ],
       "south": 47.81592114659014,
       "west": 7.565460205078126,
       "zoom": 10
      }
     },
     "90186a6f3fc944d09282c9f8ee6e8aab": {
      "model_module": "@jupyter-widgets/base",
      "model_module_version": "1.1.0",
      "model_name": "LayoutModel",
      "state": {}
     },
     "90999748c5dd496080c115f0b9367120": {
      "model_module": "jupyter-leaflet",
      "model_module_version": "~0.9.2",
      "model_name": "LeafletTileLayerModel",
      "state": {
       "_model_module_version": "~0.9.2",
       "_view_count": null,
       "_view_module_version": "~0.9.2",
       "attribution": "Tiles courtesy of <a href=\"http://openstreetmap.se/\" target=\"_blank\">OpenStreetMap Sweden</a> &mdash; Map data &copy; <a href=\"http://www.openstreetmap.org/copyright\">OpenStreetMap</a>",
       "base": true,
       "min_zoom": 1,
       "name": "Hydda.Full",
       "options": [
        "attribution",
        "detect_retina",
        "max_zoom",
        "min_zoom",
        "tile_size"
       ],
       "url": "http://{s}.tile.openstreetmap.se/hydda/full/{z}/{x}/{y}.png"
      }
     },
     "927627761a1b40018ad07a5863e160ff": {
      "model_module": "@jupyter-widgets/controls",
      "model_module_version": "1.4.0",
      "model_name": "DescriptionStyleModel",
      "state": {
       "description_width": ""
      }
     },
     "94c813831f574fd8a547abfe82822b85": {
      "model_module": "@jupyter-widgets/controls",
      "model_module_version": "1.4.0",
      "model_name": "LabelModel",
      "state": {
       "layout": "IPY_MODEL_1e58908dc3264845be9fef2590bd8fbf",
       "style": "IPY_MODEL_e84a4864d87b40ca9db358b8d5bd9729"
      }
     },
     "9621d768368d46a2bc9870ff9f836d8a": {
      "model_module": "@jupyter-widgets/base",
      "model_module_version": "1.1.0",
      "model_name": "LayoutModel",
      "state": {}
     },
     "965a40387bd04092b9b33bf42e6633e1": {
      "model_module": "jupyter-leaflet",
      "model_module_version": "~0.9.2",
      "model_name": "LeafletLayersControlModel",
      "state": {
       "_model_module_version": "~0.9.2",
       "_view_count": null,
       "_view_module_version": "~0.9.2"
      }
     },
     "97f46b0fa80445deb992ffc1a8282ed9": {
      "model_module": "jupyter-leaflet",
      "model_module_version": "~0.9.2",
      "model_name": "LeafletMapModel",
      "state": {
       "_dom_classes": [],
       "_model_module_version": "~0.9.2",
       "_view_count": null,
       "_view_module_version": "~0.9.2",
       "basemap": {
        "attribution": "Map data (c) <a href=\"https://openstreetmap.org\">OpenStreetMap</a> contributors",
        "max_zoom": 19,
        "url": "https://{s}.tile.openstreetmap.org/{z}/{x}/{y}.png"
       },
       "center": [
        43.6,
        1.44
       ],
       "east": 1.7742919921875002,
       "interpolation": "bilinear",
       "layers": [
        "IPY_MODEL_b80ad7606c5b4f399666673b6733b168"
       ],
       "layout": "IPY_MODEL_2f3eac376bd74697a9c40eb136cb50a3",
       "modisdate": "yesterday",
       "north": 43.79885402720353,
       "options": [
        "attribution_control",
        "basemap",
        "bounce_at_zoom_limits",
        "box_zoom",
        "center",
        "close_popup_on_click",
        "double_click_zoom",
        "dragging",
        "inertia",
        "inertia_deceleration",
        "inertia_max_speed",
        "interpolation",
        "keyboard",
        "keyboard_pan_offset",
        "keyboard_zoom_offset",
        "max_zoom",
        "min_zoom",
        "scroll_wheel_zoom",
        "tap",
        "tap_tolerance",
        "touch_zoom",
        "world_copy_jump",
        "zoom",
        "zoom_animation_threshold",
        "zoom_control",
        "zoom_start"
       ],
       "south": 43.401056495052906,
       "west": 1.1054992675781252,
       "zoom": 10
      }
     },
     "998a9b816d1e49ef956399e528420182": {
      "model_module": "@jupyter-widgets/base",
      "model_module_version": "1.1.0",
      "model_name": "LayoutModel",
      "state": {}
     },
     "999f7c8d99cc4a40a621e885ed469701": {
      "model_module": "@jupyter-widgets/base",
      "model_module_version": "1.1.0",
      "model_name": "LayoutModel",
      "state": {}
     },
     "9a623d82ed5845ef9b7a2b1044ca23ac": {
      "model_module": "@jupyter-widgets/base",
      "model_module_version": "1.1.0",
      "model_name": "LayoutModel",
      "state": {}
     },
     "9b299cae66c4462eb307f0e1b45da4bc": {
      "model_module": "@jupyter-widgets/base",
      "model_module_version": "1.1.0",
      "model_name": "LayoutModel",
      "state": {}
     },
     "9c1677ba6c6940a9b87e67c2e8e6292b": {
      "model_module": "jupyter-leaflet",
      "model_module_version": "~0.9.2",
      "model_name": "LeafletTileLayerModel",
      "state": {
       "_model_module_version": "~0.9.2",
       "_view_count": null,
       "_view_module_version": "~0.9.2",
       "attribution": "Map tiles by <a href=\"https://labs.strava.com/heatmap\">Strava 2017</a>",
       "max_zoom": 15,
       "min_zoom": 1,
       "name": "Strava.All",
       "options": [
        "attribution",
        "detect_retina",
        "max_zoom",
        "min_zoom",
        "tile_size"
       ],
       "url": "https://heatmap-external-a.strava.com//tiles/all/hot/{z}/{x}/{y}.png?v=19"
      }
     },
     "9ce5f694ade343d4934c2bc8af1273c9": {
      "model_module": "@jupyter-widgets/controls",
      "model_module_version": "1.4.0",
      "model_name": "HBoxModel",
      "state": {
       "children": [
        "IPY_MODEL_357b740044d546d5ab4fcb2350704dbc",
        "IPY_MODEL_8ea4f7b59f3846888aa27804a8b7bd6b"
       ],
       "layout": "IPY_MODEL_9b299cae66c4462eb307f0e1b45da4bc"
      }
     },
     "9d80ea246f28492c828e8921e018abc7": {
      "model_module": "@jupyter-widgets/base",
      "model_module_version": "1.1.0",
      "model_name": "LayoutModel",
      "state": {}
     },
     "9e694740cf5944c2b87fc9f164c0a39b": {
      "model_module": "jupyter-leaflet",
      "model_module_version": "~0.9.2",
      "model_name": "LeafletTileLayerModel",
      "state": {
       "_model_module_version": "~0.9.2",
       "_view_count": null,
       "_view_module_version": "~0.9.2",
       "attribution": "Tiles courtesy of <a href=\"http://openstreetmap.se/\" target=\"_blank\">OpenStreetMap Sweden</a> &mdash; Map data &copy; <a href=\"http://www.openstreetmap.org/copyright\">OpenStreetMap</a>",
       "base": true,
       "min_zoom": 1,
       "name": "Hydda.Full",
       "options": [
        "attribution",
        "detect_retina",
        "max_zoom",
        "min_zoom",
        "tile_size"
       ],
       "url": "http://{s}.tile.openstreetmap.se/hydda/full/{z}/{x}/{y}.png"
      }
     },
     "9eb800e558a849aab48b7f3e3dcc8b15": {
      "model_module": "@jupyter-widgets/base",
      "model_module_version": "1.1.0",
      "model_name": "LayoutModel",
      "state": {}
     },
     "9ec9737151454ecf8902796fd725849f": {
      "model_module": "@jupyter-widgets/base",
      "model_module_version": "1.1.0",
      "model_name": "LayoutModel",
      "state": {}
     },
     "a123d52685564478b9c349ab98195b06": {
      "model_module": "@jupyter-widgets/controls",
      "model_module_version": "1.4.0",
      "model_name": "HBoxModel",
      "state": {
       "children": [
        "IPY_MODEL_2a0f6d89c0844b93a69ef9742d7acb6b",
        "IPY_MODEL_e27658e30b9b452594d2d8f9d49475ed"
       ],
       "layout": "IPY_MODEL_1d41ee65b30f4d4db7a473e757de33a4"
      }
     },
     "a4c4e6d2c3dc4f26a01f96702e42345f": {
      "model_module": "@jupyter-widgets/base",
      "model_module_version": "1.1.0",
      "model_name": "LayoutModel",
      "state": {}
     },
     "a4d7bb63c40a4b33b029fb1f24bcd53d": {
      "model_module": "jupyter-leaflet",
      "model_module_version": "~0.9.2",
      "model_name": "LeafletMapModel",
      "state": {
       "_dom_classes": [],
       "_model_module_version": "~0.9.2",
       "_view_count": null,
       "_view_module_version": "~0.9.2",
       "basemap": {
        "attribution": "Tiles courtesy of <a href=\"http://openstreetmap.se/\" target=\"_blank\">OpenStreetMap Sweden</a> &mdash; Map data &copy; <a href=\"http://www.openstreetmap.org/copyright\">OpenStreetMap</a>",
        "max_zoom": 18,
        "name": "Hydda.Full",
        "url": "http://{s}.tile.openstreetmap.se/hydda/full/{z}/{x}/{y}.png"
       },
       "center": [
        47.96510025611193,
        7.854537963867188
       ],
       "controls": [
        "IPY_MODEL_e5ddef9d254648a7b3d3771a314711c3"
       ],
       "east": 8.526763916015627,
       "interpolation": "bilinear",
       "layers": [
        "IPY_MODEL_11799fa0378b460cab9564b4cb125493",
        "IPY_MODEL_9c1677ba6c6940a9b87e67c2e8e6292b",
        "IPY_MODEL_84666b81e319482e944b417561ecb0e0",
        "IPY_MODEL_2c8ee408404744db88e72b9202bda5f1"
       ],
       "layout": "IPY_MODEL_460eb2dfac544ab8b3d98a458e2768fd",
       "modisdate": "yesterday",
       "north": 48.148679437804546,
       "options": [
        "attribution_control",
        "basemap",
        "bounce_at_zoom_limits",
        "box_zoom",
        "center",
        "close_popup_on_click",
        "double_click_zoom",
        "dragging",
        "inertia",
        "inertia_deceleration",
        "inertia_max_speed",
        "interpolation",
        "keyboard",
        "keyboard_pan_offset",
        "keyboard_zoom_offset",
        "max_zoom",
        "min_zoom",
        "scroll_wheel_zoom",
        "tap",
        "tap_tolerance",
        "touch_zoom",
        "world_copy_jump",
        "zoom",
        "zoom_animation_threshold",
        "zoom_control",
        "zoom_start"
       ],
       "south": 47.78086628636737,
       "west": 7.182312011718751,
       "zoom": 10
      }
     },
     "a51df39cf5be494e90ee81c2782a400f": {
      "model_module": "jupyter-leaflet",
      "model_module_version": "~0.9.2",
      "model_name": "LeafletMapModel",
      "state": {
       "_dom_classes": [],
       "_model_module_version": "~0.9.2",
       "_view_count": null,
       "_view_module_version": "~0.9.2",
       "basemap": {
        "attribution": "Tiles courtesy of <a href=\"http://openstreetmap.se/\" target=\"_blank\">OpenStreetMap Sweden</a> &mdash; Map data &copy; <a href=\"http://www.openstreetmap.org/copyright\">OpenStreetMap</a>",
        "max_zoom": 18,
        "name": "Hydda.Full",
        "url": "http://{s}.tile.openstreetmap.se/hydda/full/{z}/{x}/{y}.png"
       },
       "center": [
        48,
        8
       ],
       "east": 10.689697265625002,
       "interpolation": "bilinear",
       "layers": [
        "IPY_MODEL_109d014675cb4c8f967f65234d6cac83"
       ],
       "layout": "IPY_MODEL_8c1ecc5fcbe14aacb302875f0975a2e4",
       "modisdate": "yesterday",
       "north": 48.73083222613518,
       "options": [
        "attribution_control",
        "basemap",
        "bounce_at_zoom_limits",
        "box_zoom",
        "center",
        "close_popup_on_click",
        "double_click_zoom",
        "dragging",
        "inertia",
        "inertia_deceleration",
        "inertia_max_speed",
        "interpolation",
        "keyboard",
        "keyboard_pan_offset",
        "keyboard_zoom_offset",
        "max_zoom",
        "min_zoom",
        "scroll_wheel_zoom",
        "tap",
        "tap_tolerance",
        "touch_zoom",
        "world_copy_jump",
        "zoom",
        "zoom_animation_threshold",
        "zoom_control",
        "zoom_start"
       ],
       "south": 47.260592193424706,
       "west": 5.311889648437501,
       "zoom": 8
      }
     },
     "a51f4420134e49a5bfaa2a7a90c61ace": {
      "model_module": "@jupyter-widgets/base",
      "model_module_version": "1.1.0",
      "model_name": "LayoutModel",
      "state": {}
     },
     "acfe3e23f9ec4ebd9e26d0885fe3ceef": {
      "model_module": "@jupyter-widgets/base",
      "model_module_version": "1.1.0",
      "model_name": "LayoutModel",
      "state": {}
     },
     "ae4a2f50a2de44f5a4dd7ea5df7461bd": {
      "model_module": "@jupyter-widgets/base",
      "model_module_version": "1.1.0",
      "model_name": "LayoutModel",
      "state": {}
     },
     "afa45931452b40b991d8e72acd169add": {
      "model_module": "@jupyter-widgets/base",
      "model_module_version": "1.1.0",
      "model_name": "LayoutModel",
      "state": {}
     },
     "b07604ca1a254d1f9c595438aea14c6b": {
      "model_module": "jupyter-leaflet",
      "model_module_version": "~0.9.2",
      "model_name": "LeafletTileLayerModel",
      "state": {
       "_model_module_version": "~0.9.2",
       "_view_count": null,
       "_view_module_version": "~0.9.2",
       "base": true,
       "max_zoom": 19,
       "min_zoom": 1,
       "options": [
        "attribution",
        "detect_retina",
        "max_zoom",
        "min_zoom",
        "tile_size"
       ]
      }
     },
     "b1d4d7b4465c4ef191bcf51a34dcfac6": {
      "model_module": "@jupyter-widgets/base",
      "model_module_version": "1.1.0",
      "model_name": "LayoutModel",
      "state": {}
     },
     "b444b70697654e9ca1bf1140644985e8": {
      "model_module": "@jupyter-widgets/controls",
      "model_module_version": "1.4.0",
      "model_name": "HBoxModel",
      "state": {
       "children": [
        "IPY_MODEL_2a0f6d89c0844b93a69ef9742d7acb6b",
        "IPY_MODEL_1e3f9b2429624d14a01e81ca2e6cf4b7"
       ],
       "layout": "IPY_MODEL_f9190a74f9ef49a7bd861159ec09d63f"
      }
     },
     "b5df758f9c6c4bcc8c9574e264565b70": {
      "model_module": "@jupyter-widgets/base",
      "model_module_version": "1.1.0",
      "model_name": "LayoutModel",
      "state": {}
     },
     "b738fe77bce74b17be45040cf05627b0": {
      "model_module": "@jupyter-widgets/base",
      "model_module_version": "1.1.0",
      "model_name": "LayoutModel",
      "state": {}
     },
     "b80ad7606c5b4f399666673b6733b168": {
      "model_module": "jupyter-leaflet",
      "model_module_version": "~0.9.2",
      "model_name": "LeafletTileLayerModel",
      "state": {
       "_model_module_version": "~0.9.2",
       "_view_count": null,
       "_view_module_version": "~0.9.2",
       "base": true,
       "max_zoom": 19,
       "min_zoom": 1,
       "options": [
        "attribution",
        "detect_retina",
        "max_zoom",
        "min_zoom",
        "tile_size"
       ]
      }
     },
     "bdc572a0ea6948aeb38dd771c8e03efb": {
      "model_module": "@jupyter-widgets/controls",
      "model_module_version": "1.4.0",
      "model_name": "LabelModel",
      "state": {
       "layout": "IPY_MODEL_a4c4e6d2c3dc4f26a01f96702e42345f",
       "style": "IPY_MODEL_cfd744fed5c14e0c8c645b42e7849015",
       "value": "[48.477412672205226, 7.234848425777703]"
      }
     },
     "bea1e4aa3ba14ca098f7092bb9145ba9": {
      "model_module": "jupyter-leaflet",
      "model_module_version": "~0.9.2",
      "model_name": "LeafletTileLayerModel",
      "state": {
       "_model_module_version": "~0.9.2",
       "_view_count": null,
       "_view_module_version": "~0.9.2",
       "base": true,
       "max_zoom": 19,
       "min_zoom": 1,
       "options": [
        "attribution",
        "detect_retina",
        "max_zoom",
        "min_zoom",
        "tile_size"
       ]
      }
     },
     "bedfb00dacdc4b4282bad561a7b173e7": {
      "model_module": "@jupyter-widgets/controls",
      "model_module_version": "1.4.0",
      "model_name": "HBoxModel",
      "state": {
       "children": [
        "IPY_MODEL_a4d7bb63c40a4b33b029fb1f24bcd53d",
        "IPY_MODEL_1c37356bba8a4889bb6e31747a6b7c02"
       ],
       "layout": "IPY_MODEL_72d984681d3b45038d58f6c79f7cd21d"
      }
     },
     "bf4952e0e6ed48b7938b7c99d3cc0e65": {
      "model_module": "jupyter-leaflet",
      "model_module_version": "~0.9.2",
      "model_name": "LeafletTileLayerModel",
      "state": {
       "_model_module_version": "~0.9.2",
       "_view_count": null,
       "_view_module_version": "~0.9.2",
       "attribution": "Tiles courtesy of <a href=\"http://openstreetmap.se/\" target=\"_blank\">OpenStreetMap Sweden</a> &mdash; Map data &copy; <a href=\"http://www.openstreetmap.org/copyright\">OpenStreetMap</a>",
       "base": true,
       "min_zoom": 1,
       "name": "Hydda.Full",
       "options": [
        "attribution",
        "detect_retina",
        "max_zoom",
        "min_zoom",
        "tile_size"
       ],
       "url": "http://{s}.tile.openstreetmap.se/hydda/full/{z}/{x}/{y}.png"
      }
     },
     "c016cd1f0b9548989abb6b83f60fa501": {
      "model_module": "jupyter-leaflet",
      "model_module_version": "~0.9.2",
      "model_name": "LeafletTileLayerModel",
      "state": {
       "_model_module_version": "~0.9.2",
       "_view_count": null,
       "_view_module_version": "~0.9.2",
       "base": true,
       "max_zoom": 19,
       "min_zoom": 1,
       "options": [
        "attribution",
        "detect_retina",
        "max_zoom",
        "min_zoom",
        "tile_size"
       ]
      }
     },
     "c206fe5856fc41a0848370624aa66829": {
      "model_module": "jupyter-leaflet",
      "model_module_version": "~0.9.2",
      "model_name": "LeafletTileLayerModel",
      "state": {
       "_model_module_version": "~0.9.2",
       "_view_count": null,
       "_view_module_version": "~0.9.2",
       "base": true,
       "max_zoom": 19,
       "min_zoom": 1,
       "options": [
        "attribution",
        "detect_retina",
        "max_zoom",
        "min_zoom",
        "tile_size"
       ]
      }
     },
     "c42c2c4a603443d7a9a02958cd5f6820": {
      "model_module": "@jupyter-widgets/base",
      "model_module_version": "1.1.0",
      "model_name": "LayoutModel",
      "state": {}
     },
     "c58bbc9662de43e9b5866e6b48bc3401": {
      "model_module": "jupyter-leaflet",
      "model_module_version": "~0.9.2",
      "model_name": "LeafletMapModel",
      "state": {
       "_dom_classes": [],
       "_model_module_version": "~0.9.2",
       "_view_count": null,
       "_view_module_version": "~0.9.2",
       "basemap": {
        "attribution": "Tiles courtesy of <a href=\"http://openstreetmap.se/\" target=\"_blank\">OpenStreetMap Sweden</a> &mdash; Map data &copy; <a href=\"http://www.openstreetmap.org/copyright\">OpenStreetMap</a>",
        "max_zoom": 18,
        "name": "Hydda.Full",
        "url": "http://{s}.tile.openstreetmap.se/hydda/full/{z}/{x}/{y}.png"
       },
       "center": [
        50,
        10
       ],
       "east": 12.689208984375002,
       "interpolation": "bilinear",
       "layers": [
        "IPY_MODEL_02bad0f064b146cea71fef9554dfc13b"
       ],
       "layout": "IPY_MODEL_57293d8c444b44868b65b3cdc0c735e6",
       "modisdate": "yesterday",
       "north": 50.70167663576478,
       "options": [
        "attribution_control",
        "basemap",
        "bounce_at_zoom_limits",
        "box_zoom",
        "center",
        "close_popup_on_click",
        "double_click_zoom",
        "dragging",
        "inertia",
        "inertia_deceleration",
        "inertia_max_speed",
        "interpolation",
        "keyboard",
        "keyboard_pan_offset",
        "keyboard_zoom_offset",
        "max_zoom",
        "min_zoom",
        "scroll_wheel_zoom",
        "tap",
        "tap_tolerance",
        "touch_zoom",
        "world_copy_jump",
        "zoom",
        "zoom_animation_threshold",
        "zoom_control",
        "zoom_start"
       ],
       "south": 49.28930640196742,
       "west": 7.3114013671875,
       "zoom": 8
      }
     },
     "c930e7640d8f4b3598277763f25975e6": {
      "model_module": "jupyter-leaflet",
      "model_module_version": "~0.9.2",
      "model_name": "LeafletTileLayerModel",
      "state": {
       "_model_module_version": "~0.9.2",
       "_view_count": null,
       "_view_module_version": "~0.9.2",
       "base": true,
       "max_zoom": 19,
       "min_zoom": 1,
       "options": [
        "attribution",
        "detect_retina",
        "max_zoom",
        "min_zoom",
        "tile_size"
       ]
      }
     },
     "c9bed6347b1f4336bfabb11f56ae9bb4": {
      "model_module": "@jupyter-widgets/controls",
      "model_module_version": "1.4.0",
      "model_name": "LabelModel",
      "state": {
       "layout": "IPY_MODEL_3d6768e1a575403fa6811666468982f1",
       "style": "IPY_MODEL_72fa4a93850e44139ab522d27571770f",
       "value": "[47.87779360064788, 7.189975716061882]"
      }
     },
     "cc340ff3e62f490189c84a7a1944ba45": {
      "model_module": "jupyter-leaflet",
      "model_module_version": "~0.9.2",
      "model_name": "LeafletMapModel",
      "state": {
       "_dom_classes": [],
       "_model_module_version": "~0.9.2",
       "_view_count": null,
       "_view_module_version": "~0.9.2",
       "basemap": {
        "attribution": "Tiles courtesy of <a href=\"http://openstreetmap.se/\" target=\"_blank\">OpenStreetMap Sweden</a> &mdash; Map data &copy; <a href=\"http://www.openstreetmap.org/copyright\">OpenStreetMap</a>",
        "max_zoom": 18,
        "name": "Hydda.Full",
        "url": "http://{s}.tile.openstreetmap.se/hydda/full/{z}/{x}/{y}.png"
       },
       "center": [
        48,
        7
       ],
       "east": 9.689941406250002,
       "interpolation": "bilinear",
       "layers": [
        "IPY_MODEL_90999748c5dd496080c115f0b9367120"
       ],
       "layout": "IPY_MODEL_999f7c8d99cc4a40a621e885ed469701",
       "modisdate": "yesterday",
       "north": 48.73083222613518,
       "options": [
        "attribution_control",
        "basemap",
        "bounce_at_zoom_limits",
        "box_zoom",
        "center",
        "close_popup_on_click",
        "double_click_zoom",
        "dragging",
        "inertia",
        "inertia_deceleration",
        "inertia_max_speed",
        "interpolation",
        "keyboard",
        "keyboard_pan_offset",
        "keyboard_zoom_offset",
        "max_zoom",
        "min_zoom",
        "scroll_wheel_zoom",
        "tap",
        "tap_tolerance",
        "touch_zoom",
        "world_copy_jump",
        "zoom",
        "zoom_animation_threshold",
        "zoom_control",
        "zoom_start"
       ],
       "south": 47.260592193424706,
       "west": 4.312133789062501,
       "zoom": 8
      }
     },
     "cf4722e2545242bf8e2e8bd111ac36a2": {
      "model_module": "@jupyter-widgets/base",
      "model_module_version": "1.1.0",
      "model_name": "LayoutModel",
      "state": {}
     },
     "cfd744fed5c14e0c8c645b42e7849015": {
      "model_module": "@jupyter-widgets/controls",
      "model_module_version": "1.4.0",
      "model_name": "DescriptionStyleModel",
      "state": {
       "description_width": ""
      }
     },
     "d044652d4409436a940c7825d743b777": {
      "model_module": "jupyter-leaflet",
      "model_module_version": "~0.9.2",
      "model_name": "LeafletTileLayerModel",
      "state": {
       "_model_module_version": "~0.9.2",
       "_view_count": null,
       "_view_module_version": "~0.9.2",
       "attribution": "Tiles courtesy of <a href=\"http://openstreetmap.se/\" target=\"_blank\">OpenStreetMap Sweden</a> &mdash; Map data &copy; <a href=\"http://www.openstreetmap.org/copyright\">OpenStreetMap</a>",
       "base": true,
       "min_zoom": 1,
       "name": "Hydda.Full",
       "options": [
        "attribution",
        "detect_retina",
        "max_zoom",
        "min_zoom",
        "tile_size"
       ],
       "url": "http://{s}.tile.openstreetmap.se/hydda/full/{z}/{x}/{y}.png"
      }
     },
     "d0de0363f20e4f35963b89be40e78ff7": {
      "model_module": "@jupyter-widgets/controls",
      "model_module_version": "1.4.0",
      "model_name": "DescriptionStyleModel",
      "state": {
       "description_width": ""
      }
     },
     "d2726321e75b49b8910f088581df0653": {
      "model_module": "@jupyter-widgets/base",
      "model_module_version": "1.1.0",
      "model_name": "LayoutModel",
      "state": {}
     },
     "d4b96f425b1344aa927c1be91ead6e43": {
      "model_module": "jupyter-leaflet",
      "model_module_version": "~0.9.2",
      "model_name": "LeafletMapModel",
      "state": {
       "_dom_classes": [],
       "_model_module_version": "~0.9.2",
       "_view_count": null,
       "_view_module_version": "~0.9.2",
       "basemap": {
        "attribution": "Map data (c) <a href=\"https://openstreetmap.org\">OpenStreetMap</a> contributors",
        "max_zoom": 19,
        "url": "https://{s}.tile.openstreetmap.org/{z}/{x}/{y}.png"
       },
       "center": [
        47.5941249027327,
        6.551284790039063
       ],
       "east": 6.88568115234375,
       "interpolation": "bilinear",
       "layers": [
        "IPY_MODEL_2c62c0d598fc4f46bd68858495877c87"
       ],
       "layout": "IPY_MODEL_9621d768368d46a2bc9870ff9f836d8a",
       "modisdate": "yesterday",
       "north": 47.779020638534796,
       "options": [
        "attribution_control",
        "basemap",
        "bounce_at_zoom_limits",
        "box_zoom",
        "center",
        "close_popup_on_click",
        "double_click_zoom",
        "dragging",
        "inertia",
        "inertia_deceleration",
        "inertia_max_speed",
        "interpolation",
        "keyboard",
        "keyboard_pan_offset",
        "keyboard_zoom_offset",
        "max_zoom",
        "min_zoom",
        "scroll_wheel_zoom",
        "tap",
        "tap_tolerance",
        "touch_zoom",
        "world_copy_jump",
        "zoom",
        "zoom_animation_threshold",
        "zoom_control",
        "zoom_start"
       ],
       "south": 47.408573553097575,
       "west": 6.216888427734376,
       "zoom": 10
      }
     },
     "d5d8b45ec5864e269153c762103ed5a8": {
      "model_module": "jupyter-leaflet",
      "model_module_version": "~0.9.2",
      "model_name": "LeafletTileLayerModel",
      "state": {
       "_model_module_version": "~0.9.2",
       "_view_count": null,
       "_view_module_version": "~0.9.2",
       "base": true,
       "max_zoom": 19,
       "min_zoom": 1,
       "options": [
        "attribution",
        "detect_retina",
        "max_zoom",
        "min_zoom",
        "tile_size"
       ]
      }
     },
     "d8bec27c29c44dd186507b311fe0bc9b": {
      "model_module": "jupyter-leaflet",
      "model_module_version": "~0.9.2",
      "model_name": "LeafletTileLayerModel",
      "state": {
       "_model_module_version": "~0.9.2",
       "_view_count": null,
       "_view_module_version": "~0.9.2",
       "attribution": "",
       "max_zoom": 19,
       "min_zoom": 1,
       "name": "Countries",
       "options": [
        "attribution",
        "detect_retina",
        "max_zoom",
        "min_zoom",
        "tile_size"
       ],
       "url": ""
      }
     },
     "e152ef94272947878eefc239c53c01bd": {
      "model_module": "@jupyter-widgets/base",
      "model_module_version": "1.1.0",
      "model_name": "LayoutModel",
      "state": {}
     },
     "e27658e30b9b452594d2d8f9d49475ed": {
      "model_module": "jupyter-leaflet",
      "model_module_version": "~0.9.2",
      "model_name": "LeafletMapModel",
      "state": {
       "_dom_classes": [],
       "_model_module_version": "~0.9.2",
       "_view_count": null,
       "_view_module_version": "~0.9.2",
       "basemap": {
        "attribution": "Map data (c) <a href=\"https://openstreetmap.org\">OpenStreetMap</a> contributors",
        "max_zoom": 19,
        "url": "https://{s}.tile.openstreetmap.org/{z}/{x}/{y}.png"
       },
       "center": [
        47.785480119293645,
        7.445297241210938
       ],
       "east": 7.779693603515626,
       "interpolation": "bilinear",
       "layers": [
        "IPY_MODEL_7659a3a0ab6f40739205a6025d928bd5"
       ],
       "layout": "IPY_MODEL_b1d4d7b4465c4ef191bcf51a34dcfac6",
       "modisdate": "yesterday",
       "north": 47.9696977140649,
       "options": [
        "attribution_control",
        "basemap",
        "bounce_at_zoom_limits",
        "box_zoom",
        "center",
        "close_popup_on_click",
        "double_click_zoom",
        "dragging",
        "inertia",
        "inertia_deceleration",
        "inertia_max_speed",
        "interpolation",
        "keyboard",
        "keyboard_pan_offset",
        "keyboard_zoom_offset",
        "max_zoom",
        "min_zoom",
        "scroll_wheel_zoom",
        "tap",
        "tap_tolerance",
        "touch_zoom",
        "world_copy_jump",
        "zoom",
        "zoom_animation_threshold",
        "zoom_control",
        "zoom_start"
       ],
       "south": 47.600607322920695,
       "west": 7.110900878906251,
       "zoom": 10
      }
     },
     "e481cad2a8db4e1ca64db00bfd9daf12": {
      "model_module": "jupyter-leaflet",
      "model_module_version": "~0.9.2",
      "model_name": "LeafletTileLayerModel",
      "state": {
       "_model_module_version": "~0.9.2",
       "_view_count": null,
       "_view_module_version": "~0.9.2",
       "attribution": "Tiles courtesy of <a href=\"http://openstreetmap.se/\" target=\"_blank\">OpenStreetMap Sweden</a> &mdash; Map data &copy; <a href=\"http://www.openstreetmap.org/copyright\">OpenStreetMap</a>",
       "base": true,
       "min_zoom": 1,
       "name": "Hydda.Full",
       "options": [
        "attribution",
        "detect_retina",
        "max_zoom",
        "min_zoom",
        "tile_size"
       ],
       "url": "http://{s}.tile.openstreetmap.se/hydda/full/{z}/{x}/{y}.png"
      }
     },
     "e51d4ad81bce460ca4721d8037c83612": {
      "model_module": "jupyter-leaflet",
      "model_module_version": "~0.9.2",
      "model_name": "LeafletMapModel",
      "state": {
       "_dom_classes": [],
       "_model_module_version": "~0.9.2",
       "_view_count": null,
       "_view_module_version": "~0.9.2",
       "basemap": {
        "attribution": "Tiles courtesy of <a href=\"http://openstreetmap.se/\" target=\"_blank\">OpenStreetMap Sweden</a> &mdash; Map data &copy; <a href=\"http://www.openstreetmap.org/copyright\">OpenStreetMap</a>",
        "max_zoom": 18,
        "name": "Hydda.Full",
        "url": "http://{s}.tile.openstreetmap.se/hydda/full/{z}/{x}/{y}.png"
       },
       "center": [
        52,
        10
       ],
       "east": 12.689208984375002,
       "interpolation": "bilinear",
       "layers": [
        "IPY_MODEL_9e694740cf5944c2b87fc9f164c0a39b"
       ],
       "layout": "IPY_MODEL_3606f30ee3eb4f4faded52e2367747a7",
       "modisdate": "yesterday",
       "north": 52.669720383688166,
       "options": [
        "attribution_control",
        "basemap",
        "bounce_at_zoom_limits",
        "box_zoom",
        "center",
        "close_popup_on_click",
        "double_click_zoom",
        "dragging",
        "inertia",
        "inertia_deceleration",
        "inertia_max_speed",
        "interpolation",
        "keyboard",
        "keyboard_pan_offset",
        "keyboard_zoom_offset",
        "max_zoom",
        "min_zoom",
        "scroll_wheel_zoom",
        "tap",
        "tap_tolerance",
        "touch_zoom",
        "world_copy_jump",
        "zoom",
        "zoom_animation_threshold",
        "zoom_control",
        "zoom_start"
       ],
       "south": 51.316880504045876,
       "west": 7.3114013671875,
       "zoom": 8
      }
     },
     "e5742688e911447fa1eb03bd5a3cf7c7": {
      "model_module": "@jupyter-widgets/controls",
      "model_module_version": "1.4.0",
      "model_name": "HBoxModel",
      "state": {
       "children": [
        "IPY_MODEL_2a0f6d89c0844b93a69ef9742d7acb6b",
        "IPY_MODEL_97f46b0fa80445deb992ffc1a8282ed9"
       ],
       "layout": "IPY_MODEL_5605723188ca4f8ab51639cac498a325"
      }
     },
     "e58a6dcf7b824993b8fe999a82345e47": {
      "model_module": "jupyter-leaflet",
      "model_module_version": "~0.9.2",
      "model_name": "LeafletMapModel",
      "state": {
       "_dom_classes": [],
       "_model_module_version": "~0.9.2",
       "_view_count": null,
       "_view_module_version": "~0.9.2",
       "basemap": {
        "attribution": "Tiles courtesy of <a href=\"http://openstreetmap.se/\" target=\"_blank\">OpenStreetMap Sweden</a> &mdash; Map data &copy; <a href=\"http://www.openstreetmap.org/copyright\">OpenStreetMap</a>",
        "max_zoom": 18,
        "name": "Hydda.Full",
        "url": "http://{s}.tile.openstreetmap.se/hydda/full/{z}/{x}/{y}.png"
       },
       "center": [
        51,
        10
       ],
       "east": 12.689208984375002,
       "interpolation": "bilinear",
       "layers": [
        "IPY_MODEL_5e4b909094b14951ace4f41872ab5dd5"
       ],
       "layout": "IPY_MODEL_31c2aa08bd764986ad77ec7d01576909",
       "modisdate": "yesterday",
       "north": 51.68617954855624,
       "options": [
        "attribution_control",
        "basemap",
        "bounce_at_zoom_limits",
        "box_zoom",
        "center",
        "close_popup_on_click",
        "double_click_zoom",
        "dragging",
        "inertia",
        "inertia_deceleration",
        "inertia_max_speed",
        "interpolation",
        "keyboard",
        "keyboard_pan_offset",
        "keyboard_zoom_offset",
        "max_zoom",
        "min_zoom",
        "scroll_wheel_zoom",
        "tap",
        "tap_tolerance",
        "touch_zoom",
        "world_copy_jump",
        "zoom",
        "zoom_animation_threshold",
        "zoom_control",
        "zoom_start"
       ],
       "south": 50.30337575356313,
       "west": 7.3114013671875,
       "zoom": 8
      }
     },
     "e5ddef9d254648a7b3d3771a314711c3": {
      "model_module": "jupyter-leaflet",
      "model_module_version": "~0.9.2",
      "model_name": "LeafletLayersControlModel",
      "state": {
       "_model_module_version": "~0.9.2",
       "_view_count": null,
       "_view_module_version": "~0.9.2"
      }
     },
     "e7c691cb5b21468a8fb8ac5de527bc56": {
      "model_module": "jupyter-leaflet",
      "model_module_version": "~0.9.2",
      "model_name": "LeafletMapModel",
      "state": {
       "_dom_classes": [],
       "_model_module_version": "~0.9.2",
       "_view_count": null,
       "_view_module_version": "~0.9.2",
       "basemap": {
        "attribution": "Map data (c) <a href=\"https://openstreetmap.org\">OpenStreetMap</a> contributors",
        "max_zoom": 19,
        "url": "https://{s}.tile.openstreetmap.org/{z}/{x}/{y}.png"
       },
       "center": [
        46.6,
        7.9
       ],
       "east": 8.234252929687502,
       "interpolation": "bilinear",
       "layers": [
        "IPY_MODEL_c016cd1f0b9548989abb6b83f60fa501"
       ],
       "layout": "IPY_MODEL_acfe3e23f9ec4ebd9e26d0885fe3ceef",
       "modisdate": "yesterday",
       "north": 46.78877728793222,
       "options": [
        "attribution_control",
        "basemap",
        "bounce_at_zoom_limits",
        "box_zoom",
        "center",
        "close_popup_on_click",
        "double_click_zoom",
        "dragging",
        "inertia",
        "inertia_deceleration",
        "inertia_max_speed",
        "interpolation",
        "keyboard",
        "keyboard_pan_offset",
        "keyboard_zoom_offset",
        "max_zoom",
        "min_zoom",
        "scroll_wheel_zoom",
        "tap",
        "tap_tolerance",
        "touch_zoom",
        "world_copy_jump",
        "zoom",
        "zoom_animation_threshold",
        "zoom_control",
        "zoom_start"
       ],
       "south": 46.411351502899215,
       "west": 7.565460205078126,
       "zoom": 10
      }
     },
     "e7f0222549124519bd3a5d1799ba6600": {
      "model_module": "@jupyter-widgets/controls",
      "model_module_version": "1.4.0",
      "model_name": "HBoxModel",
      "state": {
       "children": [
        "IPY_MODEL_2a0f6d89c0844b93a69ef9742d7acb6b",
        "IPY_MODEL_f8b6b100d59f42cc91cff3575a87208f"
       ],
       "layout": "IPY_MODEL_16be0029c33f4e42923636d826fe798e"
      }
     },
     "e84a4864d87b40ca9db358b8d5bd9729": {
      "model_module": "@jupyter-widgets/controls",
      "model_module_version": "1.4.0",
      "model_name": "DescriptionStyleModel",
      "state": {
       "description_width": ""
      }
     },
     "eb81a40952f84c0c82965b08ba83a2a1": {
      "model_module": "jupyter-leaflet",
      "model_module_version": "~0.9.2",
      "model_name": "LeafletTileLayerModel",
      "state": {
       "_model_module_version": "~0.9.2",
       "_view_count": null,
       "_view_module_version": "~0.9.2",
       "attribution": "Tiles courtesy of <a href=\"http://openstreetmap.se/\" target=\"_blank\">OpenStreetMap Sweden</a> &mdash; Map data &copy; <a href=\"http://www.openstreetmap.org/copyright\">OpenStreetMap</a>",
       "base": true,
       "min_zoom": 1,
       "name": "Hydda.Full",
       "options": [
        "attribution",
        "detect_retina",
        "max_zoom",
        "min_zoom",
        "tile_size"
       ],
       "url": "http://{s}.tile.openstreetmap.se/hydda/full/{z}/{x}/{y}.png"
      }
     },
     "f200051f626d48a1b346b434b73a40ba": {
      "model_module": "jupyter-leaflet",
      "model_module_version": "~0.9.2",
      "model_name": "LeafletMapModel",
      "state": {
       "_dom_classes": [],
       "_model_module_version": "~0.9.2",
       "_view_count": null,
       "_view_module_version": "~0.9.2",
       "basemap": {
        "attribution": "Tiles courtesy of <a href=\"http://openstreetmap.se/\" target=\"_blank\">OpenStreetMap Sweden</a> &mdash; Map data &copy; <a href=\"http://www.openstreetmap.org/copyright\">OpenStreetMap</a>",
        "max_zoom": 18,
        "name": "Hydda.Full",
        "url": "http://{s}.tile.openstreetmap.se/hydda/full/{z}/{x}/{y}.png"
       },
       "center": [
        48,
        10
       ],
       "east": 12.689208984375002,
       "interpolation": "bilinear",
       "layers": [
        "IPY_MODEL_033b42c566b449bc9798982d211c0929"
       ],
       "layout": "IPY_MODEL_1e779c60bf7e4c479c6210ca69cc6cde",
       "modisdate": "yesterday",
       "north": 48.73083222613518,
       "options": [
        "attribution_control",
        "basemap",
        "bounce_at_zoom_limits",
        "box_zoom",
        "center",
        "close_popup_on_click",
        "double_click_zoom",
        "dragging",
        "inertia",
        "inertia_deceleration",
        "inertia_max_speed",
        "interpolation",
        "keyboard",
        "keyboard_pan_offset",
        "keyboard_zoom_offset",
        "max_zoom",
        "min_zoom",
        "scroll_wheel_zoom",
        "tap",
        "tap_tolerance",
        "touch_zoom",
        "world_copy_jump",
        "zoom",
        "zoom_animation_threshold",
        "zoom_control",
        "zoom_start"
       ],
       "south": 47.260592193424706,
       "west": 7.3114013671875,
       "zoom": 8
      }
     },
     "f89b9c0a5dc94382aaa6fb22f3084da1": {
      "model_module": "@jupyter-widgets/controls",
      "model_module_version": "1.4.0",
      "model_name": "HBoxModel",
      "state": {
       "children": [
        "IPY_MODEL_2a0f6d89c0844b93a69ef9742d7acb6b",
        "IPY_MODEL_fca68e9a60574c25a1ec7b53fae0f537"
       ],
       "layout": "IPY_MODEL_57d3286dd9b94cda839fe111439a9cf9"
      }
     },
     "f8b6b100d59f42cc91cff3575a87208f": {
      "model_module": "jupyter-leaflet",
      "model_module_version": "~0.9.2",
      "model_name": "LeafletMapModel",
      "state": {
       "_dom_classes": [],
       "_model_module_version": "~0.9.2",
       "_view_count": null,
       "_view_module_version": "~0.9.2",
       "basemap": {
        "attribution": "Map data (c) <a href=\"https://openstreetmap.org\">OpenStreetMap</a> contributors",
        "max_zoom": 19,
        "url": "https://{s}.tile.openstreetmap.org/{z}/{x}/{y}.png"
       },
       "center": [
        48,
        7.9
       ],
       "east": 8.234252929687502,
       "interpolation": "bilinear",
       "layers": [
        "IPY_MODEL_bea1e4aa3ba14ca098f7092bb9145ba9"
       ],
       "layout": "IPY_MODEL_e152ef94272947878eefc239c53c01bd",
       "modisdate": "yesterday",
       "north": 48.18348549519126,
       "options": [
        "attribution_control",
        "basemap",
        "bounce_at_zoom_limits",
        "box_zoom",
        "center",
        "close_popup_on_click",
        "double_click_zoom",
        "dragging",
        "inertia",
        "inertia_deceleration",
        "inertia_max_speed",
        "interpolation",
        "keyboard",
        "keyboard_pan_offset",
        "keyboard_zoom_offset",
        "max_zoom",
        "min_zoom",
        "scroll_wheel_zoom",
        "tap",
        "tap_tolerance",
        "touch_zoom",
        "world_copy_jump",
        "zoom",
        "zoom_animation_threshold",
        "zoom_control",
        "zoom_start"
       ],
       "south": 47.81592114659014,
       "west": 7.565460205078126,
       "zoom": 10
      }
     },
     "f9190a74f9ef49a7bd861159ec09d63f": {
      "model_module": "@jupyter-widgets/base",
      "model_module_version": "1.1.0",
      "model_name": "LayoutModel",
      "state": {}
     },
     "f9290509b2d243dca86bc549b4dc1d60": {
      "model_module": "jupyter-leaflet",
      "model_module_version": "~0.9.2",
      "model_name": "LeafletMapModel",
      "state": {
       "_dom_classes": [],
       "_model_module_version": "~0.9.2",
       "_view_count": null,
       "_view_module_version": "~0.9.2",
       "basemap": {
        "attribution": "Tiles courtesy of <a href=\"http://openstreetmap.se/\" target=\"_blank\">OpenStreetMap Sweden</a> &mdash; Map data &copy; <a href=\"http://www.openstreetmap.org/copyright\">OpenStreetMap</a>",
        "max_zoom": 18,
        "name": "Hydda.Full",
        "url": "http://{s}.tile.openstreetmap.se/hydda/full/{z}/{x}/{y}.png"
       },
       "center": [
        57,
        10
       ],
       "east": 12.689208984375002,
       "interpolation": "bilinear",
       "layers": [
        "IPY_MODEL_301f1ce373ec4835b4577f39988c21d9"
       ],
       "layout": "IPY_MODEL_90186a6f3fc944d09282c9f8ee6e8aab",
       "modisdate": "yesterday",
       "north": 57.592447334458846,
       "options": [
        "attribution_control",
        "basemap",
        "bounce_at_zoom_limits",
        "box_zoom",
        "center",
        "close_popup_on_click",
        "double_click_zoom",
        "dragging",
        "inertia",
        "inertia_deceleration",
        "inertia_max_speed",
        "interpolation",
        "keyboard",
        "keyboard_pan_offset",
        "keyboard_zoom_offset",
        "max_zoom",
        "min_zoom",
        "scroll_wheel_zoom",
        "tap",
        "tap_tolerance",
        "touch_zoom",
        "world_copy_jump",
        "zoom",
        "zoom_animation_threshold",
        "zoom_control",
        "zoom_start"
       ],
       "south": 56.39566444471659,
       "west": 7.3114013671875,
       "zoom": 8
      }
     },
     "fca68e9a60574c25a1ec7b53fae0f537": {
      "model_module": "jupyter-leaflet",
      "model_module_version": "~0.9.2",
      "model_name": "LeafletMapModel",
      "state": {
       "_dom_classes": [],
       "_model_module_version": "~0.9.2",
       "_view_count": null,
       "_view_module_version": "~0.9.2",
       "basemap": {
        "attribution": "Map data (c) <a href=\"https://openstreetmap.org\">OpenStreetMap</a> contributors",
        "max_zoom": 19,
        "url": "https://{s}.tile.openstreetmap.org/{z}/{x}/{y}.png"
       },
       "center": [
        48.6,
        7.9
       ],
       "east": 8.234252929687502,
       "interpolation": "bilinear",
       "layers": [
        "IPY_MODEL_d5d8b45ec5864e269153c762103ed5a8"
       ],
       "layout": "IPY_MODEL_714f60c8c59a46958d2f572405dba91a",
       "modisdate": "yesterday",
       "north": 48.78153250728974,
       "options": [
        "attribution_control",
        "basemap",
        "bounce_at_zoom_limits",
        "box_zoom",
        "center",
        "close_popup_on_click",
        "double_click_zoom",
        "dragging",
        "inertia",
        "inertia_deceleration",
        "inertia_max_speed",
        "interpolation",
        "keyboard",
        "keyboard_pan_offset",
        "keyboard_zoom_offset",
        "max_zoom",
        "min_zoom",
        "scroll_wheel_zoom",
        "tap",
        "tap_tolerance",
        "touch_zoom",
        "world_copy_jump",
        "zoom",
        "zoom_animation_threshold",
        "zoom_control",
        "zoom_start"
       ],
       "south": 48.41826449418746,
       "west": 7.565460205078126,
       "zoom": 10
      }
     },
     "fdc38783e566411bbbe07e13a32c7e8c": {
      "model_module": "jupyter-leaflet",
      "model_module_version": "~0.9.2",
      "model_name": "LeafletTileLayerModel",
      "state": {
       "_model_module_version": "~0.9.2",
       "_view_count": null,
       "_view_module_version": "~0.9.2",
       "base": true,
       "max_zoom": 19,
       "min_zoom": 1,
       "options": [
        "attribution",
        "detect_retina",
        "max_zoom",
        "min_zoom",
        "tile_size"
       ]
      }
     },
     "fdea4546896c49fab609fd124b3d9892": {
      "model_module": "@jupyter-widgets/controls",
      "model_module_version": "1.4.0",
      "model_name": "LabelModel",
      "state": {
       "layout": "IPY_MODEL_1d5edb80c76442f2ba00857adb528dc4",
       "style": "IPY_MODEL_d0de0363f20e4f35963b89be40e78ff7",
       "value": "[48.022294135624044, 7.5258587656400575]"
      }
     }
    },
    "version_major": 2,
    "version_minor": 0
   }
  }
 },
 "nbformat": 4,
 "nbformat_minor": 2
}

