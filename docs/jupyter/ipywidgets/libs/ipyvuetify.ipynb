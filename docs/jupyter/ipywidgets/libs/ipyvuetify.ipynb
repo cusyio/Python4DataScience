{
 "cells": [
  {
   "cell_type": "markdown",
   "metadata": {},
   "source": [
    "# `ipyvuetify`\n",
    "\n",
    "[ipyvuetify](https://github.com/mariobuikhuizen/ipyvuetify) liefert Jupyter-Widgets, die auf [vuetify](https://v15.vuetifyjs.com/en/)-UI-Komponenten basieren und das [Material Design](https://material.io/) von Google mit dem [Vue.js-Framework](https://v15.vuetifyjs.com/en/) implementieren."
   ]
  },
  {
   "cell_type": "markdown",
   "metadata": {},
   "source": [
    "## Installation\n",
    "\n",
    "```\n",
    "$ pipenv install ipyvuetify\n",
    "Installing ipyvuetify…\n",
    "…\n",
    "$ pipenv run jupyter nbextension enable --py --sys-prefix ipyvuetify\n",
    "Enabling notebook extension jupyter-vuetify/extension...\n",
    "      - Validating: OK\n",
    "```"
   ]
  },
  {
   "cell_type": "markdown",
   "metadata": {},
   "source": [
    "## Beispiele"
   ]
  },
  {
   "cell_type": "markdown",
   "metadata": {},
   "source": [
    "### Importe"
   ]
  },
  {
   "cell_type": "code",
   "execution_count": 1,
   "metadata": {},
   "outputs": [],
   "source": [
    "import ipywidgets\n",
    "import ipyvuetify as v\n",
    "\n",
    "from traitlets import (Any, Unicode, List)"
   ]
  },
  {
   "cell_type": "markdown",
   "metadata": {},
   "source": [
    "### Menü"
   ]
  },
  {
   "cell_type": "code",
   "execution_count": 2,
   "metadata": {},
   "outputs": [
    {
     "data": {
      "application/vnd.jupyter.widget-view+json": {
       "model_id": "5acfa48eb50145f0a8ed2d82f9bdcad6",
       "version_major": 2,
       "version_minor": 0
      },
      "text/plain": [
       "Layout(children=[Menu(children=[Btn(children=['menu', Icon(children=['arrow_drop_down'], right=True)], color='…"
      ]
     },
     "metadata": {},
     "output_type": "display_data"
    }
   ],
   "source": [
    "def on_menu_click(widget, event, data):\n",
    "    if len(layout.children) == 1:\n",
    "        layout.children = layout.children + [info]\n",
    "    info.children=[f'Item {items.index(widget)+1} clicked']\n",
    "    \n",
    "\n",
    "items = [v.ListTile(children=[\n",
    "    v.ListTileTitle(children=[\n",
    "        f'Item {i}'])]) \n",
    "         for i in range(1, 5)]\n",
    "\n",
    "for item in items:\n",
    "    item.on_event('click', on_menu_click)\n",
    "\n",
    "menu = v.Menu(offset_y=True, children=[\n",
    "    v.Btn(slot='activator', color='primary', children=[\n",
    "        'menu', \n",
    "        v.Icon(right=True, children=[\n",
    "            'arrow_drop_down'\n",
    "        ])\n",
    "    ]),\n",
    "    v.List(children=items)\n",
    "])\n",
    "\n",
    "info = v.Chip()\n",
    "\n",
    "layout = v.Layout(children=[\n",
    "    menu\n",
    "])\n",
    "layout"
   ]
  },
  {
   "cell_type": "markdown",
   "metadata": {},
   "source": [
    "### Buttons"
   ]
  },
  {
   "cell_type": "code",
   "execution_count": 3,
   "metadata": {},
   "outputs": [
    {
     "data": {
      "application/vnd.jupyter.widget-view+json": {
       "model_id": "840b7131b4744f068356b49906751ad1",
       "version_major": 2,
       "version_minor": 0
      },
      "text/plain": [
       "Layout(children=[Btn(children=['primary'], color='primary'), Btn(children=['error'], color='error'), Btn(child…"
      ]
     },
     "metadata": {},
     "output_type": "display_data"
    }
   ],
   "source": [
    "v.Layout(children=[\n",
    "    v.Btn(color='primary', children=['primary']),\n",
    "    v.Btn(color='error', children=['error']),\n",
    "    v.Btn(disabled=True, children=['disabled']),\n",
    "    v.Btn(children=['reset']),\n",
    "])"
   ]
  },
  {
   "cell_type": "code",
   "execution_count": 4,
   "metadata": {},
   "outputs": [
    {
     "data": {
      "application/vnd.jupyter.widget-view+json": {
       "model_id": "3f46933ffbd7407eb532384e4eee8700",
       "version_major": 2,
       "version_minor": 0
      },
      "text/plain": [
       "Layout(children=[Btn(children=['flat'], color='primary', flat=True), Btn(children=['round'], color='primary', …"
      ]
     },
     "metadata": {},
     "output_type": "display_data"
    }
   ],
   "source": [
    "v.Layout(children=[\n",
    "    v.Btn(color='primary', flat=True, children=['flat']),\n",
    "    v.Btn(color='primary', round=True, children=['round']),\n",
    "    v.Btn(color='primary', flat=True, icon=True, children=[v.Icon(children=['thumb_up'])]),\n",
    "    v.Btn(color='primary', outline=True, children=['outline']),\n",
    "    v.Btn(color='primary', fab=True, large=True, children=[v.Icon(children=['edit'])]),\n",
    "])"
   ]
  },
  {
   "cell_type": "code",
   "execution_count": 5,
   "metadata": {},
   "outputs": [
    {
     "data": {
      "application/vnd.jupyter.widget-view+json": {
       "model_id": "8bbba4eeaac74474be45b2f6b1fe1406",
       "version_major": 2,
       "version_minor": 0
      },
      "text/plain": [
       "Layout(children=[Btn(children=['loader'], loading=False)])"
      ]
     },
     "metadata": {},
     "output_type": "display_data"
    }
   ],
   "source": [
    "def toggleLoading():\n",
    "    button2.loading = not button2.loading\n",
    "    button2.disabled = button2.loading\n",
    "\n",
    "def on_loader_click(*args):\n",
    "    toggleLoading()\n",
    "    Timer(2.0, toggleLoading).start()\n",
    "    \n",
    "button2 = v.Btn(loading=False, children=['loader'])\n",
    "button2.on_event('click', on_loader_click)\n",
    "\n",
    "v.Layout(children=[button2])"
   ]
  },
  {
   "cell_type": "code",
   "execution_count": 6,
   "metadata": {},
   "outputs": [
    {
     "data": {
      "application/vnd.jupyter.widget-view+json": {
       "model_id": "3301aec123eb46e3b637a1f49a98bb57",
       "version_major": 2,
       "version_minor": 0
      },
      "text/plain": [
       "Layout(children=[BtnToggle(children=[Btn(children=[Icon(children=['format_align_left'])], flat=True), Btn(chil…"
      ]
     },
     "metadata": {},
     "output_type": "display_data"
    }
   ],
   "source": [
    "toggle_single = v.BtnToggle(v_model=2, class_='mr-3', children=[\n",
    "    v.Btn(flat=True, children=[v.Icon(children=['format_align_left'])]),\n",
    "    v.Btn(flat=True, children=[v.Icon(children=['format_align_center'])]),\n",
    "    v.Btn(flat=True, children=[v.Icon(children=['format_align_right'])]),\n",
    "    v.Btn(flat=True, children=[v.Icon(children=['format_align_justify'])]),\n",
    "])\n",
    "\n",
    "toggle_multi = v.BtnToggle(v_model=[0,2], multiple=True, children=[\n",
    "    v.Btn(flat=True, children=[v.Icon(children=['format_bold'])]),\n",
    "    v.Btn(flat=True, children=[v.Icon(children=['format_italic'])]),\n",
    "    v.Btn(flat=True, children=[v.Icon(children=['format_underline'])]),\n",
    "    v.Btn(flat=True, children=[v.Icon(children=['format_color_fill'])]),\n",
    "])\n",
    "\n",
    "v.Layout(children=[\n",
    "    toggle_single,\n",
    "    toggle_multi,\n",
    "])"
   ]
  },
  {
   "cell_type": "code",
   "execution_count": 7,
   "metadata": {},
   "outputs": [
    {
     "data": {
      "application/vnd.jupyter.widget-view+json": {
       "model_id": "ef775c47c7c341cabf2cd4efd50a8257",
       "version_major": 2,
       "version_minor": 0
      },
      "text/plain": [
       "Layout(children=[Btn(children=[Icon(children=['fingerprint'], left=True), 'Icon left'], color='primary'), Btn(…"
      ]
     },
     "metadata": {},
     "output_type": "display_data"
    }
   ],
   "source": [
    "v.Layout(children=[\n",
    "    v.Btn(color='primary', children=[\n",
    "        v.Icon(left=True, children=['fingerprint']),\n",
    "        'Icon left'\n",
    "    ]),\n",
    "    v.Btn(color='primary', children=[\n",
    "        'Icon right',\n",
    "        v.Icon(right=True, children=['fingerprint']),\n",
    "    ]),\n",
    "    v.Tooltip(bottom=True, children=[\n",
    "        v.Btn(slot='activator', color='primary', children=[\n",
    "           'tooltip' \n",
    "        ]),\n",
    "        'Insert tooltip text here'\n",
    "    ])    \n",
    "])"
   ]
  },
  {
   "cell_type": "code",
   "execution_count": 8,
   "metadata": {},
   "outputs": [
    {
     "data": {
      "application/vnd.jupyter.widget-view+json": {
       "model_id": "ee538f92fb4442b88164e1dfef24dad3",
       "version_major": 2,
       "version_minor": 0
      },
      "text/plain": [
       "Dialog(children=[Btn(children=['Open dialog'], color='success', dark=True, slot='activator'), Card(children=[C…"
      ]
     },
     "metadata": {},
     "output_type": "display_data"
    }
   ],
   "source": [
    "lorum_ipsum = 'Lorem ipsum dolor sit amet, consectetur adipiscing elit, sed do eiusmod tempor incididunt ut labore et dolore magna aliqua.'\n",
    "\n",
    "v.Dialog(v_model=False, width='500', children=[\n",
    "        v.Btn(slot=\"activator\", color='success', dark=True, children=[\n",
    "            \"Open dialog\"\n",
    "        ]),\n",
    "        v.Card(children=[\n",
    "            v.CardTitle(class_='headline gray lighten-2', primary_title=True, children=[\n",
    "                \"Lorem ipsum\"]),\n",
    "            v.CardText(children=[\n",
    "                lorum_ipsum])\n",
    "        ])\n",
    "    ])"
   ]
  },
  {
   "cell_type": "markdown",
   "metadata": {},
   "source": [
    "### Slider"
   ]
  },
  {
   "cell_type": "code",
   "execution_count": 9,
   "metadata": {},
   "outputs": [
    {
     "data": {
      "application/vnd.jupyter.widget-view+json": {
       "model_id": "a7601f7a0f9d4b22a1e5025628595cf0",
       "version_major": 2,
       "version_minor": 0
      },
      "text/plain": [
       "Container(children=[Slider(v_model=25), Slider(thumb_label=True, v_model=25)])"
      ]
     },
     "metadata": {},
     "output_type": "display_data"
    }
   ],
   "source": [
    "slider = v.Slider(v_model=25)\n",
    "slider2 = v.Slider(thumb_label=True, v_model=25)\n",
    "slider3 = v.Slider(thumb_label='always', v_model=25)\n",
    "\n",
    "ipywidgets.jslink((slider, 'v_model'), (slider2, 'v_model'))\n",
    "\n",
    "v.Container(children=[\n",
    "    slider,\n",
    "    slider2,\n",
    "])"
   ]
  },
  {
   "cell_type": "markdown",
   "metadata": {},
   "source": [
    "### Reiter"
   ]
  },
  {
   "cell_type": "code",
   "execution_count": 10,
   "metadata": {},
   "outputs": [
    {
     "data": {
      "application/vnd.jupyter.widget-view+json": {
       "model_id": "f4d4efc3a4e248798fb521693dd6286c",
       "version_major": 2,
       "version_minor": 0
      },
      "text/plain": [
       "Tabs(children=[Tab(children=['Tab 1']), Tab(children=['Tab 2']), Tab(children=['Tab 3']), TabItem(children=['L…"
      ]
     },
     "metadata": {},
     "output_type": "display_data"
    }
   ],
   "source": [
    "tab_list = [v.Tab(children=['Tab ' + str(i)]) for i in range(1,4)]\n",
    "content_list = [v.TabItem(children=[lorum_ipsum]) for i in range(1,4)] \n",
    "tabs = v.Tabs(\n",
    "    v_model=1, \n",
    "    children=tab_list + content_list)\n",
    "tabs"
   ]
  },
  {
   "cell_type": "markdown",
   "metadata": {},
   "source": [
    "### Akkordeon"
   ]
  },
  {
   "cell_type": "code",
   "execution_count": 11,
   "metadata": {},
   "outputs": [
    {
     "data": {
      "application/vnd.jupyter.widget-view+json": {
       "model_id": "18da96c49c144c44bc4f6c6187903ada",
       "version_major": 2,
       "version_minor": 0
      },
      "text/plain": [
       "Layout(children=[ExpansionPanel(children=[ExpansionPanelContent(children=[Html(children=['item1'], slot='heade…"
      ]
     },
     "metadata": {},
     "output_type": "display_data"
    }
   ],
   "source": [
    "vepc1 = v.ExpansionPanelContent(children=[\n",
    "    v.Html(tag='div', slot='header', children=['item1']),\n",
    "    v.Card(children=[\n",
    "        v.CardText(children=['First Text'])])])\n",
    "\n",
    "vepc2 = v.ExpansionPanelContent(children=[\n",
    "    v.Html(tag='div', slot='header', children=['item2']),\n",
    "    v.Card(children=[\n",
    "        v.CardText(children=['Second Text'])])])\n",
    "\n",
    "vep = v.ExpansionPanel(children=[vepc1, vepc2])\n",
    "vl = v.Layout(children=[vep])\n",
    "vl"
   ]
  },
  {
   "cell_type": "markdown",
   "metadata": {},
   "source": [
    "In der [Vuetify-Dokumentation](https://v15.vuetifyjs.com/en/components/buttons#buttons) könnt ihr nach allen verfügbaren Komponenten und Attributen suchen. Dabei orientiert sich Ipyvuetify an  der Syntax von Vue.js- und Vuetify, aber es gibt auch einige Unterschiede:\n",
    "\n",
    "| Beschreibung | Vuetify | ipyvuetify |\n",
    "| ------------- | --------- | ------------ |\n",
    "| Komponentennamen werden in CamelCase geschrieben und der `v`-Präfix entfernt | `<v-list-tile …/>` | `ListTile(…)` |\n",
    "| Untergeordnete Komponenten und Text werden im Traitlet für untergeordnete Elemente definiert | `<v-btn>text <v-icon …/></v-btn>` | `Btn(children=['text', Icon(…)])` |\n",
    "| Flag-Attribute erfordern einen booleschen Wert | `<v-btn round …` | `Btn(round=True …` |\n",
    "| Attribute sind snake_case | `<v-menu offset-y …` | `Menu(offset_y=True …` |\n",
    "| Das Attribut `v_model` (Wert in ipywidgets) erhält den Wert direkt | `<v-slider v-model=\"some_property\" …` | `Slider(v_model=25…` |\n",
    "| Der Geltungsbereich von `slot` kann aktuell noch nicht angegeben werden | `<v-menu><template slot:activator=\"{ on }\"><v-btn v-on=on>` | `Menu(children=[Btn(slot='activator',…), …]`\n",
    "| Event-Listener werden mit `on_event` definiert | `<v-btn @click='someMethod()' …` | `def some_method (widget, event, data):` mit `button.on_event('click', some_method)` |\n",
    "| Reguläre HTML-Tags können mit der Klasse `Html` erstellt werden | `<div>…</div>` | `Html(tag='div', children=[…])` |\n",
    "| Den Attributen `class` und `style` muss ein Unterstrich angefügt werden | `<v-btn class=\"mr-3\" style=\"…\" >` | `Btn(class_='mr-3', style_='…')` |"
   ]
  },
  {
   "cell_type": "markdown",
   "metadata": {},
   "source": [
    "## `VuetifyTemplate`\n",
    "\n",
    "Eine engere Übereinstimmung mit der Vue/Vuetify-API erhaltet ihr mit `VuetifyTemplate`. Hierfür erstellt ihr eine Unterklasse von `VuetifyTemplate` und definiert eigene Traitlets. Auf die Traitlets kann über das Template zugegriffen werden, so als befänden sie sich in einem Vue-Modell. Methoden können mit dem Präfix `vue_` definiert werden, z.B. `def vue_button_click(self, data)`, das dann mit `@click=\"button_click(e)\"` aufgerufen werden kann. Im Folgenden eine Tabelle mit Suche, Sortierung und Zeilenanzahl:"
   ]
  },
  {
   "cell_type": "code",
   "execution_count": 12,
   "metadata": {},
   "outputs": [
    {
     "data": {
      "application/vnd.jupyter.widget-view+json": {
       "model_id": "ad5f2e40c82f4f948cd25a074a636fab",
       "version_major": 2,
       "version_minor": 0
      },
      "text/plain": [
       "PandasDataFrame(headers=[{'text': 'index', 'value': 'index', 'align': 'left', 'sortable': True}, {'text': 'sep…"
      ]
     },
     "metadata": {},
     "output_type": "display_data"
    }
   ],
   "source": [
    "import pandas as pd\n",
    "import traitlets\n",
    "import ipyvuetify as v\n",
    "import json\n",
    "\n",
    "class PandasDataFrame(v.VuetifyTemplate):\n",
    "    \"\"\"\n",
    "    Vuetify DataTable rendering of a pandas DataFrame\n",
    "    \n",
    "    Args:\n",
    "        data (DataFrame) - the data to render\n",
    "        title (str) - optional title\n",
    "    \"\"\"\n",
    "    \n",
    "    headers = traitlets.List([]).tag(sync=True, allow_null=True)\n",
    "    items = traitlets.List([]).tag(sync=True, allow_null=True)\n",
    "    search = traitlets.Unicode('').tag(sync=True)\n",
    "    title = traitlets.Unicode('DataFrame').tag(sync=True)\n",
    "    index_col = traitlets.Unicode('').tag(sync=True)\n",
    "    template = traitlets.Unicode('''\n",
    "        <template>\n",
    "          <v-card>\n",
    "            <v-card-title>\n",
    "              <span class=\"title font-weight-bold\">{{ title }}</span>\n",
    "              <v-spacer></v-spacer>\n",
    "                <v-text-field\n",
    "                    v-model=\"search\"\n",
    "                    append-icon=\"search\"\n",
    "                    label=\"Search ...\"\n",
    "                    single-line\n",
    "                    hide-details\n",
    "                ></v-text-field>\n",
    "            </v-card-title>\n",
    "            <v-data-table\n",
    "                :headers=\"headers\"\n",
    "                :items=\"items\"\n",
    "                :search=\"search\"\n",
    "                :item-key=\"index_col\"\n",
    "                :rows-per-page-items=\"[25, 50, 250, 500]\"\n",
    "            >\n",
    "                <template v-slot:no-data>\n",
    "                  <v-alert :value=\"true\" color=\"error\" icon=\"warning\">\n",
    "                    Sorry, nothing to display here :(\n",
    "                  </v-alert>\n",
    "                </template>\n",
    "                <template v-slot:no-results>\n",
    "                    <v-alert :value=\"true\" color=\"error\" icon=\"warning\">\n",
    "                      Your search for \"{{ search }}\" found no results.\n",
    "                    </v-alert>\n",
    "                </template>\n",
    "                <template v-slot:items=\"rows\">\n",
    "                  <td v-for=\"(element, label, index) in rows.item\"\n",
    "                      @click=cell_click(element)\n",
    "                      >\n",
    "                    {{ element }}\n",
    "                  </td>\n",
    "                </template>\n",
    "            </v-data-table>\n",
    "          </v-card>\n",
    "        </template>\n",
    "        ''').tag(sync=True)\n",
    "    \n",
    "    def __init__(self, *args, \n",
    "                 data=pd.DataFrame(), \n",
    "                 title=None,\n",
    "                 **kwargs):\n",
    "        super().__init__(*args, **kwargs)\n",
    "        data = data.reset_index()\n",
    "        self.index_col = data.columns[0]\n",
    "        headers = [{\n",
    "              \"text\": col,\n",
    "              \"value\": col\n",
    "            } for col in data.columns]\n",
    "        headers[0].update({'align': 'left', 'sortable': True})\n",
    "        self.headers = headers\n",
    "        self.items = json.loads(\n",
    "            data.to_json(orient='records'))\n",
    "        if title is not None:\n",
    "            self.title = title\n",
    "\n",
    "iris = pd.read_csv('https://raw.githubusercontent.com/mwaskom/seaborn-data/master/iris.csv')\n",
    "test = PandasDataFrame(data = iris, title='Iris')\n",
    "test"
   ]
  }
 ],
 "metadata": {
  "kernelspec": {
   "display_name": "Python 3.7.4",
   "language": "python",
   "name": "python3"
  },
  "language_info": {
   "codemirror_mode": {
    "name": "ipython",
    "version": 3
   },
   "file_extension": ".py",
   "mimetype": "text/x-python",
   "name": "python",
   "nbconvert_exporter": "python",
   "pygments_lexer": "ipython3",
   "version": "3.7.4"
  },
  "latex_envs": {
   "LaTeX_envs_menu_present": true,
   "autoclose": false,
   "autocomplete": true,
   "bibliofile": "biblio.bib",
   "cite_by": "apalike",
   "current_citInitial": 1,
   "eqLabelWithNumbers": true,
   "eqNumInitial": 1,
   "hotkeys": {
    "equation": "Ctrl-E",
    "itemize": "Ctrl-I"
   },
   "labels_anchors": false,
   "latex_user_defs": false,
   "report_style_numbering": false,
   "user_envs_cfg": false
  },
  "varInspector": {
   "cols": {
    "lenName": 16,
    "lenType": 16,
    "lenVar": 40
   },
   "kernels_config": {
    "python": {
     "delete_cmd_postfix": "",
     "delete_cmd_prefix": "del ",
     "library": "var_list.py",
     "varRefreshCmd": "print(var_dic_list())"
    },
    "r": {
     "delete_cmd_postfix": ") ",
     "delete_cmd_prefix": "rm(",
     "library": "var_list.r",
     "varRefreshCmd": "cat(var_dic_list()) "
    }
   },
   "types_to_exclude": [
    "module",
    "function",
    "builtin_function_or_method",
    "instance",
    "_Feature"
   ],
   "window_display": false
  },
  "widgets": {
   "application/vnd.jupyter.widget-state+json": {
    "state": {
     "0174bb6217c448e18814e6f7731ec2b7": {
      "model_module": "jupyter-vuetify",
      "model_module_version": "^0.1.11",
      "model_name": "MenuModel",
      "state": {
       "_events": [],
       "children": [
        "IPY_MODEL_11dcdad4169b4426a7225a5d15e76136",
        "IPY_MODEL_34c9cc6b52504a56a751fb4328f34543"
       ],
       "close_delay": null,
       "layout": "IPY_MODEL_e0c7ce2d4fd64d66af6ca0da0cc5677e",
       "max_width": null,
       "min_width": null,
       "nudge_bottom": null,
       "nudge_left": null,
       "nudge_right": null,
       "nudge_top": null,
       "nudge_width": null,
       "offset_y": true,
       "open_delay": null,
       "transition": null,
       "z_index": null
      }
     },
     "01b58fd7e3ad41f2a523f958be47f3be": {
      "model_module": "@jupyter-widgets/base",
      "model_module_version": "1.2.0",
      "model_name": "LayoutModel",
      "state": {}
     },
     "023ca8985d9a441cbd600302326398d0": {
      "model_module": "jupyter-vuetify",
      "model_module_version": "^0.1.11",
      "model_name": "BtnModel",
      "state": {
       "_events": [],
       "children": [
        "IPY_MODEL_4f35498b1838422098af1ed9d096752f"
       ],
       "color": "primary",
       "flat": true,
       "href": null,
       "icon": true,
       "layout": "IPY_MODEL_8c3c93d28b51469a84e90eccf941305f",
       "ripple": null,
       "to": null
      }
     },
     "027357420e3848f9b9e05a709d0c3f72": {
      "model_module": "jupyter-vuetify",
      "model_module_version": "^0.1.11",
      "model_name": "BtnModel",
      "state": {
       "_events": [],
       "children": [
        "round"
       ],
       "color": "primary",
       "href": null,
       "layout": "IPY_MODEL_f7fccbf94d9541b8a20daadac039866b",
       "ripple": null,
       "round": true,
       "to": null
      }
     },
     "04cfd8156ab4409fae4b30ba31a82b59": {
      "model_module": "@jupyter-widgets/base",
      "model_module_version": "1.2.0",
      "model_name": "LayoutModel",
      "state": {}
     },
     "05078ea18a3c4abb9bcb24c7f02b8143": {
      "model_module": "jupyter-vuetify",
      "model_module_version": "^0.1.11",
      "model_name": "LayoutModel",
      "state": {
       "_events": [],
       "children": [
        "IPY_MODEL_4b7db65e8df04715811c0045f4dd9b1c"
       ],
       "layout": "IPY_MODEL_2d2f7462ed9c47b78887154eac993b07"
      }
     },
     "05aa1322be35479b9bd39c4792b46ae9": {
      "model_module": "@jupyter-widgets/base",
      "model_module_version": "1.2.0",
      "model_name": "LayoutModel",
      "state": {}
     },
     "0676f032e3d0436ea37ea7dc01aa09fb": {
      "model_module": "jupyter-vuetify",
      "model_module_version": "^0.1.11",
      "model_name": "LayoutModel",
      "state": {
       "_events": [],
       "children": [
        "IPY_MODEL_8f2b98bf08614db2aa5b15f093b24a65",
        "IPY_MODEL_ead3838e4f6d461cb841ce8d31cfbe17"
       ],
       "layout": "IPY_MODEL_05aa1322be35479b9bd39c4792b46ae9"
      }
     },
     "0745dc7cf27b4c7fb6999fc14b51e396": {
      "model_module": "jupyter-vuetify",
      "model_module_version": "^0.1.11",
      "model_name": "TabItemModel",
      "state": {
       "_events": [],
       "children": [
        "Lorem ipsum dolor sit amet, consectetur adipiscing elit, sed do eiusmod tempor incididunt ut labore et dolore magna aliqua."
       ],
       "layout": "IPY_MODEL_b6fc5a6da4954ce88199b86270f8f071",
       "reverse_transition": null,
       "transition": null
      }
     },
     "07d5a8bce2f543a5a0834f2b1cb25fed": {
      "model_module": "jupyter-vuetify",
      "model_module_version": "^0.1.11",
      "model_name": "BtnModel",
      "state": {
       "_events": [],
       "children": [
        "IPY_MODEL_9416a24bb16c4d88a5778b789a848b91"
       ],
       "color": "primary",
       "flat": true,
       "href": null,
       "icon": true,
       "layout": "IPY_MODEL_7b39c7ea91014da7ba09f05008511b37",
       "ripple": null,
       "to": null
      }
     },
     "082c0c58721c4254b23487d74aa2442e": {
      "model_module": "jupyter-vuetify",
      "model_module_version": "^0.1.11",
      "model_name": "BtnModel",
      "state": {
       "_events": [],
       "children": [
        "Icon right",
        "IPY_MODEL_4f7e56ac64384c469ddbd1b423acb6ec"
       ],
       "color": "primary",
       "href": null,
       "layout": "IPY_MODEL_9f12b3d75ee241f8ab71ac3aa81ee332",
       "ripple": null,
       "to": null
      }
     },
     "099ec5ef77444ea4b9f621d862b5857e": {
      "model_module": "@jupyter-widgets/base",
      "model_module_version": "1.2.0",
      "model_name": "LayoutModel",
      "state": {}
     },
     "0bd0537a5506488d8ada54a85319230d": {
      "model_module": "jupyter-vuetify",
      "model_module_version": "^0.1.11",
      "model_name": "LayoutModel",
      "state": {
       "_events": [],
       "children": [
        "IPY_MODEL_4da3972a00dc4faf9898d7d6508f92e0",
        "IPY_MODEL_25827dfdae7546069810c0e5548fd297",
        "IPY_MODEL_fe25933200ef4785af9ca732923e72f9"
       ],
       "layout": "IPY_MODEL_81444fbad6b8431cbde4dfe9e19996d3"
      }
     },
     "0d5648393b3445c79ae6de295af778e7": {
      "model_module": "jupyter-vuetify",
      "model_module_version": "^0.1.11",
      "model_name": "ListTileModel",
      "state": {
       "_events": [
        "click"
       ],
       "children": [
        "IPY_MODEL_e173f3d4e40e46cc93f8655978fa64c0"
       ],
       "href": null,
       "layout": "IPY_MODEL_827c6ea663f04d17ab9ff09fd7526c1a",
       "ripple": null,
       "to": null
      }
     },
     "0df5c3f69f21419297430e7d50f40e99": {
      "model_module": "@jupyter-widgets/base",
      "model_module_version": "1.2.0",
      "model_name": "LayoutModel",
      "state": {}
     },
     "10f9863ffec44248a34069d6974c8a15": {
      "model_module": "@jupyter-widgets/base",
      "model_module_version": "1.2.0",
      "model_name": "LayoutModel",
      "state": {}
     },
     "1155f654e7394cc9ac5e440c2a1a91bf": {
      "model_module": "jupyter-vuetify",
      "model_module_version": "^0.1.11",
      "model_name": "BtnModel",
      "state": {
       "_events": [],
       "children": [
        "round"
       ],
       "color": "primary",
       "href": null,
       "layout": "IPY_MODEL_9f9134bae86b4070aeff0836e515eb83",
       "ripple": null,
       "round": true,
       "to": null
      }
     },
     "11b576d2df8d4637ab7fa10868a704e4": {
      "model_module": "jupyter-vuetify",
      "model_module_version": "^0.1.11",
      "model_name": "BtnModel",
      "state": {
       "_events": [],
       "children": [
        "Open dialog"
       ],
       "color": "success",
       "dark": true,
       "href": null,
       "layout": "IPY_MODEL_3c7a6120964442c988fffa09089e7808",
       "ripple": null,
       "slot": "activator",
       "to": null
      }
     },
     "11dcdad4169b4426a7225a5d15e76136": {
      "model_module": "jupyter-vuetify",
      "model_module_version": "^0.1.11",
      "model_name": "BtnModel",
      "state": {
       "_events": [],
       "children": [
        "menu",
        "IPY_MODEL_faa10caa9d2c4b0ab150b85805890f3c"
       ],
       "color": "primary",
       "href": null,
       "layout": "IPY_MODEL_f0eb4f7dcce94f8cb792d8ad96311888",
       "ripple": null,
       "slot": "activator",
       "to": null
      }
     },
     "1562a4ad51da4aac9a7b082cd827774b": {
      "model_module": "jupyter-vuetify",
      "model_module_version": "^0.1.11",
      "model_name": "LayoutModel",
      "state": {
       "_events": [],
       "children": [
        "IPY_MODEL_b5ba366a329e4798b72f4e55ca9f002f",
        "IPY_MODEL_acf5ef593365422ebdbd8661793a9932",
        "IPY_MODEL_666582669b134967971770907fcc145c",
        "IPY_MODEL_a7c070245e01491b8743244bea1285c6"
       ],
       "layout": "IPY_MODEL_e3f115c7ac844cf1b038db98a50890e1"
      }
     },
     "160ccb8b03ac4e849f5286016f265fc1": {
      "model_module": "@jupyter-widgets/base",
      "model_module_version": "1.2.0",
      "model_name": "LayoutModel",
      "state": {}
     },
     "16c4d7808ef044dd8b3845ea32734f52": {
      "model_module": "@jupyter-widgets/base",
      "model_module_version": "1.2.0",
      "model_name": "LayoutModel",
      "state": {}
     },
     "17ab562e0d3a4182b53b7ba642bead9d": {
      "model_module": "@jupyter-widgets/base",
      "model_module_version": "1.2.0",
      "model_name": "LayoutModel",
      "state": {}
     },
     "18906cacfebf4e49bbfeb277060a1eb3": {
      "model_module": "jupyter-vuetify",
      "model_module_version": "^0.1.11",
      "model_name": "BtnModel",
      "state": {
       "_events": [],
       "children": [
        "reset"
       ],
       "href": null,
       "layout": "IPY_MODEL_cf1c750e352242b4bd8bf5023f1400de",
       "ripple": null,
       "to": null
      }
     },
     "18da96c49c144c44bc4f6c6187903ada": {
      "model_module": "jupyter-vuetify",
      "model_module_version": "^0.1.11",
      "model_name": "LayoutModel",
      "state": {
       "_events": [],
       "children": [
        "IPY_MODEL_89db00abccda473ab179bf3c40ed3fd9"
       ],
       "layout": "IPY_MODEL_04cfd8156ab4409fae4b30ba31a82b59"
      }
     },
     "19eb9d82c58040ef9a8c2e9283c50e10": {
      "model_module": "jupyter-vuetify",
      "model_module_version": "^0.1.11",
      "model_name": "CardTitleModel",
      "state": {
       "_events": [],
       "children": [
        "Lorem ipsum"
       ],
       "class_": "headline gray lighten-2",
       "layout": "IPY_MODEL_16c4d7808ef044dd8b3845ea32734f52",
       "primary_title": true
      }
     },
     "1bc60f9032b74ab68646f04fcdb8e812": {
      "model_module": "jupyter-vuetify",
      "model_module_version": "^0.1.11",
      "model_name": "LayoutModel",
      "state": {
       "_events": [],
       "children": [
        "IPY_MODEL_8fcda67f4aff473c857d5f7f9b285b9f",
        "IPY_MODEL_1155f654e7394cc9ac5e440c2a1a91bf",
        "IPY_MODEL_023ca8985d9a441cbd600302326398d0",
        "IPY_MODEL_70638c7043c54b03989667b7b318cec4",
        "IPY_MODEL_f7699e619aa04dabb424546cd04816f5"
       ],
       "layout": "IPY_MODEL_64cc0339416847f58a94fd6b686db1f5"
      }
     },
     "1c3633a905204c2f8fab69ca272bd1d6": {
      "model_module": "jupyter-vuetify",
      "model_module_version": "^0.1.11",
      "model_name": "ListTileModel",
      "state": {
       "_events": [
        "click"
       ],
       "children": [
        "IPY_MODEL_ea65bfa4d1284433aa7ca69978b012a9"
       ],
       "href": null,
       "layout": "IPY_MODEL_8ad93ca0da6f45cba36bee86bc1c1b0b",
       "ripple": null,
       "to": null
      }
     },
     "1c632b9a207f4ce0af160aac8c5b938c": {
      "model_module": "@jupyter-widgets/base",
      "model_module_version": "1.2.0",
      "model_name": "LayoutModel",
      "state": {}
     },
     "1cb03d45d29a4f72901304107985eeb1": {
      "model_module": "@jupyter-widgets/base",
      "model_module_version": "1.2.0",
      "model_name": "LayoutModel",
      "state": {}
     },
     "1cf615241f564a95be132b15451e01c9": {
      "model_module": "jupyter-vuetify",
      "model_module_version": "^0.1.11",
      "model_name": "BtnModel",
      "state": {
       "_events": [],
       "children": [
        "disabled"
       ],
       "disabled": true,
       "href": null,
       "layout": "IPY_MODEL_ca791fec831a433fb8c540b66dcd61df",
       "ripple": null,
       "to": null
      }
     },
     "1d69944dad3f417abe36561e58e7b58b": {
      "model_module": "@jupyter-widgets/base",
      "model_module_version": "1.2.0",
      "model_name": "LayoutModel",
      "state": {}
     },
     "1e5766abf20b46c9b760d9333743bcd3": {
      "model_module": "@jupyter-widgets/base",
      "model_module_version": "1.2.0",
      "model_name": "LayoutModel",
      "state": {}
     },
     "1f13af5cbce649d787484eee1f6712a8": {
      "model_module": "@jupyter-widgets/base",
      "model_module_version": "1.2.0",
      "model_name": "LayoutModel",
      "state": {}
     },
     "1f36b682aa5842ff82a5ce3674ce9f42": {
      "model_module": "jupyter-vuetify",
      "model_module_version": "^0.1.11",
      "model_name": "LayoutModel",
      "state": {
       "_events": [],
       "children": [
        "IPY_MODEL_924fe9bbd11c490aac4fadcbfe33eae1",
        "IPY_MODEL_a5120bd3c14548d58a7de2f5046fa170",
        "IPY_MODEL_e45f3441b6c043dfbf28e13087d1869f",
        "IPY_MODEL_18906cacfebf4e49bbfeb277060a1eb3",
        "IPY_MODEL_6d2bcafd940a4d46a4d34d71bb44642a",
        "IPY_MODEL_4a188cb975014022bb670d937dbbd705",
        "IPY_MODEL_3d107916b4814168b62de60a91191dcc",
        "IPY_MODEL_2bc2831ed7b747cda619614d8b71140d",
        "IPY_MODEL_c10ab29fbb2e4f3e83a60a2aff82b194"
       ],
       "layout": "IPY_MODEL_c5a39cc2132f4428a54fb24c0a8c26db"
      }
     },
     "1f60a05b1a424502b8c46d619424e4d2": {
      "model_module": "@jupyter-widgets/base",
      "model_module_version": "1.2.0",
      "model_name": "LayoutModel",
      "state": {}
     },
     "1fafb3ee0e7f45a2bf470ab98594e759": {
      "model_module": "@jupyter-widgets/base",
      "model_module_version": "1.2.0",
      "model_name": "LayoutModel",
      "state": {}
     },
     "200b333770c942d5af2d7c24af837ae2": {
      "model_module": "jupyter-vuetify",
      "model_module_version": "^0.1.11",
      "model_name": "BtnModel",
      "state": {
       "_events": [],
       "children": [
        "Open dialog"
       ],
       "color": "success",
       "dark": true,
       "href": null,
       "layout": "IPY_MODEL_1fafb3ee0e7f45a2bf470ab98594e759",
       "ripple": null,
       "slot": "activator",
       "to": null
      }
     },
     "20b5632c2b2f43938d2895b0a7385d9a": {
      "model_module": "jupyter-vuetify",
      "model_module_version": "^0.1.11",
      "model_name": "SliderModel",
      "state": {
       "_events": [],
       "children": [],
       "error_count": null,
       "error_messages": null,
       "height": null,
       "layout": "IPY_MODEL_fbaf0e128ee64a4ab06e79a108bbac99",
       "loading": null,
       "max": null,
       "messages": null,
       "min": null,
       "rules": [],
       "step": null,
       "success_messages": null,
       "thumb_label": null,
       "thumb_size": null,
       "tick_labels": [],
       "tick_size": null,
       "ticks": null,
       "v_model": 25,
       "value": null
      }
     },
     "21a1aa45d4fb4a788613118ae5b0a388": {
      "model_module": "@jupyter-widgets/base",
      "model_module_version": "1.2.0",
      "model_name": "LayoutModel",
      "state": {}
     },
     "221a294ec5e845528efd22b24a187338": {
      "model_module": "@jupyter-widgets/base",
      "model_module_version": "1.2.0",
      "model_name": "LayoutModel",
      "state": {}
     },
     "22c6c34df184404dbc94b818bd35e7e2": {
      "model_module": "@jupyter-widgets/base",
      "model_module_version": "1.2.0",
      "model_name": "LayoutModel",
      "state": {}
     },
     "22e10f8b769e4afc9766e6002e443e6e": {
      "model_module": "@jupyter-widgets/base",
      "model_module_version": "1.2.0",
      "model_name": "LayoutModel",
      "state": {}
     },
     "230dd17f712c4f6691b0fb3426af1abd": {
      "model_module": "jupyter-vuetify",
      "model_module_version": "^0.1.11",
      "model_name": "CardModel",
      "state": {
       "_events": [],
       "children": [
        "IPY_MODEL_eb03b0ddbbc5428b94a96c6fa1bd0786"
       ],
       "elevation": null,
       "height": null,
       "href": null,
       "layout": "IPY_MODEL_429f4182cacb4681a8821772ed452503",
       "max_height": null,
       "max_width": null,
       "min_height": null,
       "min_width": null,
       "ripple": null,
       "to": null,
       "width": null
      }
     },
     "2314ef14b73c4f1d919ad706ae27da2e": {
      "model_module": "@jupyter-widgets/base",
      "model_module_version": "1.2.0",
      "model_name": "LayoutModel",
      "state": {}
     },
     "239907ce24f244b78b4aee6f9438474f": {
      "model_module": "@jupyter-widgets/base",
      "model_module_version": "1.2.0",
      "model_name": "LayoutModel",
      "state": {}
     },
     "23a99727e92f4c8b8b880060284f8d27": {
      "model_module": "@jupyter-widgets/base",
      "model_module_version": "1.2.0",
      "model_name": "LayoutModel",
      "state": {}
     },
     "23cd8671bbef41198ba8af8779462d72": {
      "model_module": "@jupyter-widgets/base",
      "model_module_version": "1.2.0",
      "model_name": "LayoutModel",
      "state": {}
     },
     "25827dfdae7546069810c0e5548fd297": {
      "model_module": "jupyter-vuetify",
      "model_module_version": "^0.1.11",
      "model_name": "BtnModel",
      "state": {
       "_events": [],
       "children": [
        "Icon right",
        "IPY_MODEL_f82033c0736447e4b4d48c57227dec3f"
       ],
       "color": "primary",
       "href": null,
       "layout": "IPY_MODEL_af88032e91124e83a4e0d76edda746f9",
       "ripple": null,
       "to": null
      }
     },
     "27683cc20dd54d1a97bf5cd5f2406d15": {
      "model_module": "jupyter-vuetify",
      "model_module_version": "^0.1.11",
      "model_name": "BtnModel",
      "state": {
       "_events": [],
       "children": [
        "IPY_MODEL_f0b008390b814f3f8fddddff97010d20"
       ],
       "flat": true,
       "href": null,
       "layout": "IPY_MODEL_65bb0c53a9034c9f91d8c8c010bdc482",
       "ripple": null,
       "to": null
      }
     },
     "2779b3586a8740d5837fb8c90ec90f69": {
      "model_module": "@jupyter-widgets/base",
      "model_module_version": "1.2.0",
      "model_name": "LayoutModel",
      "state": {}
     },
     "28a29ad1270c4986b7d00c6f8ba8ec30": {
      "model_module": "@jupyter-widgets/base",
      "model_module_version": "1.2.0",
      "model_name": "LayoutModel",
      "state": {}
     },
     "2901acc2056547bcb13484fd2555707e": {
      "model_module": "@jupyter-widgets/base",
      "model_module_version": "1.2.0",
      "model_name": "LayoutModel",
      "state": {}
     },
     "2a7af6e2765249cb965e734660c67b33": {
      "model_module": "@jupyter-widgets/base",
      "model_module_version": "1.2.0",
      "model_name": "LayoutModel",
      "state": {}
     },
     "2bc2831ed7b747cda619614d8b71140d": {
      "model_module": "jupyter-vuetify",
      "model_module_version": "^0.1.11",
      "model_name": "BtnModel",
      "state": {
       "_events": [],
       "children": [
        "outline"
       ],
       "color": "primary",
       "href": null,
       "layout": "IPY_MODEL_d34c0f186b184c4c88c20315b9acc0f7",
       "outline": true,
       "ripple": null,
       "to": null
      }
     },
     "2c47f40aa9224f3ab014f8a9d6e48f92": {
      "model_module": "@jupyter-widgets/base",
      "model_module_version": "1.2.0",
      "model_name": "LayoutModel",
      "state": {}
     },
     "2d2f7462ed9c47b78887154eac993b07": {
      "model_module": "@jupyter-widgets/base",
      "model_module_version": "1.2.0",
      "model_name": "LayoutModel",
      "state": {}
     },
     "2d86d5e3fd9044ce8c53144ca4d1c59e": {
      "model_module": "@jupyter-widgets/controls",
      "model_module_version": "1.5.0",
      "model_name": "LinkModel",
      "state": {
       "source": [
        "IPY_MODEL_20b5632c2b2f43938d2895b0a7385d9a",
        "v_model"
       ],
       "target": [
        "IPY_MODEL_e530f7b4ea2b464f97b45366779974bb",
        "v_model"
       ]
      }
     },
     "2f286f39ec7643e7b05b7bb5498fdc2a": {
      "model_module": "jupyter-vuetify",
      "model_module_version": "^0.1.11",
      "model_name": "BtnModel",
      "state": {
       "_events": [],
       "children": [
        "IPY_MODEL_731bc264b1b1447d8e926b6d133338e0"
       ],
       "flat": true,
       "href": null,
       "layout": "IPY_MODEL_feb64ec8028549bba9a211cbe5e52124",
       "ripple": null,
       "to": null
      }
     },
     "2fd9c834dc9f43c3996e87395f07921d": {
      "model_module": "@jupyter-widgets/base",
      "model_module_version": "1.2.0",
      "model_name": "LayoutModel",
      "state": {}
     },
     "30c436ca6f9344a9a8a1db0b6bf54fff": {
      "model_module": "@jupyter-widgets/base",
      "model_module_version": "1.2.0",
      "model_name": "LayoutModel",
      "state": {}
     },
     "327111263be64ff286adf552b92c0770": {
      "model_module": "jupyter-vuetify",
      "model_module_version": "^0.1.11",
      "model_name": "BtnModel",
      "state": {
       "_events": [],
       "children": [
        "reset"
       ],
       "href": null,
       "layout": "IPY_MODEL_ae4c2bf0dacc403c86494868afec816f",
       "ripple": null,
       "to": null
      }
     },
     "32e33a819005449388b614c85b7388e4": {
      "model_module": "jupyter-vuetify",
      "model_module_version": "^0.1.11",
      "model_name": "LayoutModel",
      "state": {
       "_events": [],
       "children": [
        "IPY_MODEL_a49cbb2b424647b0aa449443a3d16d7c",
        "IPY_MODEL_027357420e3848f9b9e05a709d0c3f72",
        "IPY_MODEL_07d5a8bce2f543a5a0834f2b1cb25fed",
        "IPY_MODEL_bb62d82f1eb545eb93b39405346e5d78",
        "IPY_MODEL_c337ff1b01c74d17bb44a76281a53aad"
       ],
       "layout": "IPY_MODEL_a0e339898a5a41e9878b907c379c4b72"
      }
     },
     "3301aec123eb46e3b637a1f49a98bb57": {
      "model_module": "jupyter-vuetify",
      "model_module_version": "^0.1.11",
      "model_name": "LayoutModel",
      "state": {
       "_events": [],
       "children": [
        "IPY_MODEL_5eeed90bad66400c86cb8b20e5a70b91",
        "IPY_MODEL_fc5ba749903749f0baa79db940fc0d86"
       ],
       "layout": "IPY_MODEL_0df5c3f69f21419297430e7d50f40e99"
      }
     },
     "3317cd45f5e245a1b247380f41bbe5d0": {
      "model_module": "@jupyter-widgets/base",
      "model_module_version": "1.2.0",
      "model_name": "LayoutModel",
      "state": {}
     },
     "33c9a7d0c92242bd8941ec57089ff869": {
      "model_module": "@jupyter-widgets/base",
      "model_module_version": "1.2.0",
      "model_name": "LayoutModel",
      "state": {}
     },
     "34c9cc6b52504a56a751fb4328f34543": {
      "model_module": "jupyter-vuetify",
      "model_module_version": "^0.1.11",
      "model_name": "ListModel",
      "state": {
       "_events": [],
       "children": [
        "IPY_MODEL_0d5648393b3445c79ae6de295af778e7",
        "IPY_MODEL_b5a293b52970425ba1706b5518dd2acd",
        "IPY_MODEL_a463a19b827b43399ac52ce68a2fce62",
        "IPY_MODEL_1c3633a905204c2f8fab69ca272bd1d6"
       ],
       "layout": "IPY_MODEL_fdd70cfdf27d492595283121ab6aee09"
      }
     },
     "363e7593ba5240c4a91b29fffade2246": {
      "model_module": "@jupyter-widgets/base",
      "model_module_version": "1.2.0",
      "model_name": "LayoutModel",
      "state": {}
     },
     "36d9b51116ac4bc7a8eecbb529e67622": {
      "model_module": "jupyter-vuetify",
      "model_module_version": "^0.1.11",
      "model_name": "MenuModel",
      "state": {
       "_events": [],
       "children": [
        "IPY_MODEL_3e67f1b99dc147ac983d8451a1497254",
        "IPY_MODEL_a24074e52ab249e5ade116369324d8c6"
       ],
       "close_delay": null,
       "layout": "IPY_MODEL_cb41247f719841c18468c0cbc3ff12f1",
       "max_width": null,
       "min_width": null,
       "nudge_bottom": null,
       "nudge_left": null,
       "nudge_right": null,
       "nudge_top": null,
       "nudge_width": null,
       "offset_y": true,
       "open_delay": null,
       "transition": null,
       "z_index": null
      }
     },
     "39e22a9987394006bf30b4ee18724439": {
      "model_module": "jupyter-vuetify",
      "model_module_version": "^0.1.11",
      "model_name": "ListTileTitleModel",
      "state": {
       "_events": [],
       "children": [
        "Item 3"
       ],
       "layout": "IPY_MODEL_446dfbffbc8844d39b8d32c849439214"
      }
     },
     "3a2b7bf777ee467fa9d4616a45d2ec69": {
      "model_module": "jupyter-vuetify",
      "model_module_version": "^0.1.11",
      "model_name": "DialogModel",
      "state": {
       "_events": [],
       "children": [
        "IPY_MODEL_11b576d2df8d4637ab7fa10868a704e4",
        "IPY_MODEL_e96bf74c169f4510bd0469d5c192c132"
       ],
       "layout": "IPY_MODEL_759400f6fd4f49e3b9d878d57f0c48f4",
       "max_width": null,
       "transition": null,
       "v_model": false,
       "width": "500"
      }
     },
     "3af3a003f797468899a0201f2e9b881b": {
      "model_module": "jupyter-vuetify",
      "model_module_version": "^0.1.11",
      "model_name": "BtnModel",
      "state": {
       "_events": [],
       "children": [
        "reset"
       ],
       "href": null,
       "layout": "IPY_MODEL_e5681967f5464f41b9207e52b6abc56f",
       "ripple": null,
       "to": null
      }
     },
     "3b7c2f175a444307995badcfa8456375": {
      "model_module": "@jupyter-widgets/base",
      "model_module_version": "1.2.0",
      "model_name": "LayoutModel",
      "state": {}
     },
     "3c5057c7c09046a3b139ae746cdd09ba": {
      "model_module": "jupyter-vuetify",
      "model_module_version": "^0.1.11",
      "model_name": "ListTileTitleModel",
      "state": {
       "_events": [],
       "children": [
        "Item 2"
       ],
       "layout": "IPY_MODEL_52281da217564701b0f24ccdd1188741"
      }
     },
     "3c7a6120964442c988fffa09089e7808": {
      "model_module": "@jupyter-widgets/base",
      "model_module_version": "1.2.0",
      "model_name": "LayoutModel",
      "state": {}
     },
     "3ced6ac9d5cf45fc9c4fff38f3f4f0b9": {
      "model_module": "@jupyter-widgets/base",
      "model_module_version": "1.2.0",
      "model_name": "LayoutModel",
      "state": {}
     },
     "3d107916b4814168b62de60a91191dcc": {
      "model_module": "jupyter-vuetify",
      "model_module_version": "^0.1.11",
      "model_name": "BtnModel",
      "state": {
       "_events": [],
       "children": [
        "IPY_MODEL_e563b84934554a2b97ccff30748f7976"
       ],
       "color": "primary",
       "flat": true,
       "href": null,
       "icon": true,
       "layout": "IPY_MODEL_ab782c0df156436bacdca84e09068c2b",
       "ripple": null,
       "to": null
      }
     },
     "3d1aeef259e6424393d789a47484915f": {
      "model_module": "jupyter-vuetify",
      "model_module_version": "^0.1.11",
      "model_name": "BtnModel",
      "state": {
       "_events": [],
       "children": [
        "IPY_MODEL_e55731c3daf8420c9ed914a22ae07710"
       ],
       "flat": true,
       "href": null,
       "layout": "IPY_MODEL_f3d182f1ab8147b6beb924b8dc73f277",
       "ripple": null,
       "to": null
      }
     },
     "3e440ef282334f9fa9dd1bc42d99549b": {
      "model_module": "jupyter-vuetify",
      "model_module_version": "^0.1.11",
      "model_name": "BtnModel",
      "state": {
       "_events": [],
       "children": [
        "primary"
       ],
       "color": "primary",
       "href": null,
       "layout": "IPY_MODEL_1d69944dad3f417abe36561e58e7b58b",
       "ripple": null,
       "to": null
      }
     },
     "3e67f1b99dc147ac983d8451a1497254": {
      "model_module": "jupyter-vuetify",
      "model_module_version": "^0.1.11",
      "model_name": "BtnModel",
      "state": {
       "_events": [],
       "children": [
        "menu",
        "IPY_MODEL_4c07cd52ce744508a4e73f97a1802ae5"
       ],
       "color": "primary",
       "href": null,
       "layout": "IPY_MODEL_099ec5ef77444ea4b9f621d862b5857e",
       "ripple": null,
       "slot": "activator",
       "to": null
      }
     },
     "3e9a1164bfb2464c98ad90b2094de397": {
      "model_module": "jupyter-vuetify",
      "model_module_version": "^0.1.11",
      "model_name": "IconModel",
      "state": {
       "_events": [],
       "children": [
        "format_bold"
       ],
       "layout": "IPY_MODEL_b4f3f0fd91374bd080b6300b599dc277",
       "size": null
      }
     },
     "3f090e7469144d60a28b61aaa54dd5c1": {
      "model_module": "jupyter-vuetify",
      "model_module_version": "^0.1.11",
      "model_name": "CardModel",
      "state": {
       "_events": [],
       "children": [
        "IPY_MODEL_3f8f1258a325460eb3e5910fe8dbd3ed"
       ],
       "elevation": null,
       "height": null,
       "href": null,
       "layout": "IPY_MODEL_80b9af4a7f5a4d65ae9cfbc61a096dc7",
       "max_height": null,
       "max_width": null,
       "min_height": null,
       "min_width": null,
       "ripple": null,
       "to": null,
       "width": null
      }
     },
     "3f46933ffbd7407eb532384e4eee8700": {
      "model_module": "jupyter-vuetify",
      "model_module_version": "^0.1.11",
      "model_name": "LayoutModel",
      "state": {
       "_events": [],
       "children": [
        "IPY_MODEL_54942c359c474f77bcbc1964da5c606b",
        "IPY_MODEL_a53a54b1f3e245ba98ce6846631309b3",
        "IPY_MODEL_65a5317de7c64ae680f98300e61aa02d",
        "IPY_MODEL_b264077389f646b9be195b18ead08250",
        "IPY_MODEL_9a3564429e9b4c8ea040f01e2d4e43ad"
       ],
       "layout": "IPY_MODEL_dee5a55b76674a999a6ec1ea0050aee2"
      }
     },
     "3f8f1258a325460eb3e5910fe8dbd3ed": {
      "model_module": "jupyter-vuetify",
      "model_module_version": "^0.1.11",
      "model_name": "CardTextModel",
      "state": {
       "_events": [],
       "children": [
        "Second Text"
       ],
       "layout": "IPY_MODEL_5ba969e9829840298886d7c738a74609"
      }
     },
     "3fd4a81efae14628a36a0a502b726c29": {
      "model_module": "@jupyter-widgets/base",
      "model_module_version": "1.2.0",
      "model_name": "LayoutModel",
      "state": {}
     },
     "3ff71f18acb24764a1d99f207d93a609": {
      "model_module": "jupyter-vuetify",
      "model_module_version": "^0.1.11",
      "model_name": "IconModel",
      "state": {
       "_events": [],
       "children": [
        "thumb_up"
       ],
       "layout": "IPY_MODEL_7fbae291ca0049279706a4e3bc54b99a",
       "size": null
      }
     },
     "41da6204c2f04681a830646b9a57e2ee": {
      "model_module": "@jupyter-widgets/base",
      "model_module_version": "1.2.0",
      "model_name": "LayoutModel",
      "state": {}
     },
     "429f4182cacb4681a8821772ed452503": {
      "model_module": "@jupyter-widgets/base",
      "model_module_version": "1.2.0",
      "model_name": "LayoutModel",
      "state": {}
     },
     "436098fa7bb846269f194b771f93c4ff": {
      "model_module": "@jupyter-widgets/base",
      "model_module_version": "1.2.0",
      "model_name": "LayoutModel",
      "state": {}
     },
     "43d6683a1a544479802bb084ce872abb": {
      "model_module": "jupyter-vuetify",
      "model_module_version": "^0.1.11",
      "model_name": "BtnModel",
      "state": {
       "_events": [],
       "children": [
        "IPY_MODEL_d22fb4e2fd9140eebb077d69febb91ab"
       ],
       "flat": true,
       "href": null,
       "layout": "IPY_MODEL_6e07c322db244e3a9402420e2d99ed89",
       "ripple": null,
       "to": null
      }
     },
     "446dfbffbc8844d39b8d32c849439214": {
      "model_module": "@jupyter-widgets/base",
      "model_module_version": "1.2.0",
      "model_name": "LayoutModel",
      "state": {}
     },
     "460db57dd2f14964bead0e84004f2e9a": {
      "model_module": "jupyter-vuetify",
      "model_module_version": "^0.1.11",
      "model_name": "BtnModel",
      "state": {
       "_events": [],
       "children": [
        "IPY_MODEL_cdfea1eaae0a4eada33c65369e9dc3b3"
       ],
       "flat": true,
       "href": null,
       "layout": "IPY_MODEL_785c6857dcdf4fcb85bb4e5c97f264f4",
       "ripple": null,
       "to": null
      }
     },
     "46563508afd8453ea6a8561f9138e3c5": {
      "model_module": "@jupyter-widgets/base",
      "model_module_version": "1.2.0",
      "model_name": "LayoutModel",
      "state": {}
     },
     "46d305e3df7843fb9075b851d2855196": {
      "model_module": "@jupyter-widgets/base",
      "model_module_version": "1.2.0",
      "model_name": "LayoutModel",
      "state": {}
     },
     "48f8343c011c463a8407880a44d666ea": {
      "model_module": "@jupyter-widgets/base",
      "model_module_version": "1.2.0",
      "model_name": "LayoutModel",
      "state": {}
     },
     "4a188cb975014022bb670d937dbbd705": {
      "model_module": "jupyter-vuetify",
      "model_module_version": "^0.1.11",
      "model_name": "BtnModel",
      "state": {
       "_events": [],
       "children": [
        "round"
       ],
       "color": "primary",
       "href": null,
       "layout": "IPY_MODEL_239907ce24f244b78b4aee6f9438474f",
       "ripple": null,
       "round": true,
       "to": null
      }
     },
     "4a8d31d534b74509a4a23b58a360e911": {
      "model_module": "@jupyter-widgets/base",
      "model_module_version": "1.2.0",
      "model_name": "LayoutModel",
      "state": {}
     },
     "4b7db65e8df04715811c0045f4dd9b1c": {
      "model_module": "jupyter-vuetify",
      "model_module_version": "^0.1.11",
      "model_name": "BtnModel",
      "state": {
       "_events": [
        "click"
       ],
       "children": [
        "loader"
       ],
       "href": null,
       "layout": "IPY_MODEL_46d305e3df7843fb9075b851d2855196",
       "loading": false,
       "ripple": null,
       "to": null
      }
     },
     "4b971f60a9544b61ad8f7d1c454357da": {
      "model_module": "jupyter-vuetify",
      "model_module_version": "^0.1.11",
      "model_name": "BtnModel",
      "state": {
       "_events": [],
       "children": [
        "error"
       ],
       "color": "error",
       "href": null,
       "layout": "IPY_MODEL_bdddfa481db84e1f9eca935ce43e71ff",
       "ripple": null,
       "to": null
      }
     },
     "4c07cd52ce744508a4e73f97a1802ae5": {
      "model_module": "jupyter-vuetify",
      "model_module_version": "^0.1.11",
      "model_name": "IconModel",
      "state": {
       "_events": [],
       "children": [
        "arrow_drop_down"
       ],
       "layout": "IPY_MODEL_eb26fff7783c47f0a5e1d5daecd8bf69",
       "right": true,
       "size": null
      }
     },
     "4c7a585f974d47b39363a75a836f59b3": {
      "model_module": "@jupyter-widgets/base",
      "model_module_version": "1.2.0",
      "model_name": "LayoutModel",
      "state": {}
     },
     "4da3972a00dc4faf9898d7d6508f92e0": {
      "model_module": "jupyter-vuetify",
      "model_module_version": "^0.1.11",
      "model_name": "BtnModel",
      "state": {
       "_events": [],
       "children": [
        "IPY_MODEL_f9aaf396313c4c9ca61c6fd7f89937ad",
        "Icon left"
       ],
       "color": "primary",
       "href": null,
       "layout": "IPY_MODEL_5cd6b32cb672434f82d9b3e9b5003ea5",
       "ripple": null,
       "to": null
      }
     },
     "4e522b4db9464a4da0b20ee3695bd04e": {
      "model_module": "jupyter-vuetify",
      "model_module_version": "^0.1.11",
      "model_name": "ListTileModel",
      "state": {
       "_events": [
        "click"
       ],
       "children": [
        "IPY_MODEL_3c5057c7c09046a3b139ae746cdd09ba"
       ],
       "href": null,
       "layout": "IPY_MODEL_b85ee2701945468ba21cbaced660ead9",
       "ripple": null,
       "to": null
      }
     },
     "4f1c8097cd084357ac8344a061f8a95f": {
      "model_module": "@jupyter-widgets/base",
      "model_module_version": "1.2.0",
      "model_name": "LayoutModel",
      "state": {}
     },
     "4f35498b1838422098af1ed9d096752f": {
      "model_module": "jupyter-vuetify",
      "model_module_version": "^0.1.11",
      "model_name": "IconModel",
      "state": {
       "_events": [],
       "children": [
        "thumb_up"
       ],
       "layout": "IPY_MODEL_f6b8d4bf7ec04f02a16c560fc8e9e0d3",
       "size": null
      }
     },
     "4f4adc6be9df41bea80024b1a026c424": {
      "model_module": "@jupyter-widgets/base",
      "model_module_version": "1.2.0",
      "model_name": "LayoutModel",
      "state": {}
     },
     "4f7e56ac64384c469ddbd1b423acb6ec": {
      "model_module": "jupyter-vuetify",
      "model_module_version": "^0.1.11",
      "model_name": "IconModel",
      "state": {
       "_events": [],
       "children": [
        "fingerprint"
       ],
       "layout": "IPY_MODEL_4f1c8097cd084357ac8344a061f8a95f",
       "right": true,
       "size": null
      }
     },
     "52281da217564701b0f24ccdd1188741": {
      "model_module": "@jupyter-widgets/base",
      "model_module_version": "1.2.0",
      "model_name": "LayoutModel",
      "state": {}
     },
     "525d0a409b5c4020a35a2593f469205f": {
      "model_module": "jupyter-vuetify",
      "model_module_version": "^0.1.11",
      "model_name": "ListTileTitleModel",
      "state": {
       "_events": [],
       "children": [
        "Item 2"
       ],
       "layout": "IPY_MODEL_815a63db94664ac99ef174e45bcdfed1"
      }
     },
     "5268bfc86e1b4853bd3fe1e32f4dd8a2": {
      "model_module": "@jupyter-widgets/base",
      "model_module_version": "1.2.0",
      "model_name": "LayoutModel",
      "state": {}
     },
     "53914ea15b1040c3935f91c892697d69": {
      "model_module": "@jupyter-widgets/base",
      "model_module_version": "1.2.0",
      "model_name": "LayoutModel",
      "state": {}
     },
     "53fccf54e983411aa50c9b9fd6906fb6": {
      "model_module": "@jupyter-widgets/base",
      "model_module_version": "1.2.0",
      "model_name": "LayoutModel",
      "state": {}
     },
     "54942c359c474f77bcbc1964da5c606b": {
      "model_module": "jupyter-vuetify",
      "model_module_version": "^0.1.11",
      "model_name": "BtnModel",
      "state": {
       "_events": [],
       "children": [
        "flat"
       ],
       "color": "primary",
       "flat": true,
       "href": null,
       "layout": "IPY_MODEL_f27302d4f3be4a2e991d0c3c6f755105",
       "ripple": null,
       "to": null
      }
     },
     "55bc50a743e1422fb6963dd99fe0aa89": {
      "model_module": "jupyter-vuetify",
      "model_module_version": "^0.1.11",
      "model_name": "ListTileModel",
      "state": {
       "_events": [
        "click"
       ],
       "children": [
        "IPY_MODEL_cea255bb8af74198b8709939b4074147"
       ],
       "href": null,
       "layout": "IPY_MODEL_5e606c321cd44daf81e358d4cc63d48c",
       "ripple": null,
       "to": null
      }
     },
     "55dc9e64356b44cfb3c2d7310b0c5bb8": {
      "model_module": "jupyter-vuetify",
      "model_module_version": "^0.1.11",
      "model_name": "ContainerModel",
      "state": {
       "_events": [],
       "children": [
        "IPY_MODEL_7891b17954454b4dbe00bbb920c501ac",
        "IPY_MODEL_ba1476cfd5274ca1937b3ae1ce3ec1be"
       ],
       "layout": "IPY_MODEL_1cb03d45d29a4f72901304107985eeb1"
      }
     },
     "5714e353d89a4e279fb2ef3384fb3519": {
      "model_module": "jupyter-vuetify",
      "model_module_version": "^0.1.11",
      "model_name": "ListTileTitleModel",
      "state": {
       "_events": [],
       "children": [
        "Item 4"
       ],
       "layout": "IPY_MODEL_e10cfbb24b8d4541945c3c4f8c5ae82f"
      }
     },
     "57193ee0717c466f9f3a99a3f33a559c": {
      "model_module": "jupyter-vuetify",
      "model_module_version": "^0.1.11",
      "model_name": "BtnModel",
      "state": {
       "_events": [],
       "children": [
        "IPY_MODEL_cea83876dca442b7918ed5ef8ab94093"
       ],
       "flat": true,
       "href": null,
       "layout": "IPY_MODEL_ca5771a4e4c3481d95154ee2176dd4d9",
       "ripple": null,
       "to": null
      }
     },
     "586babf0cd5544fb94514b3c72394c6e": {
      "model_module": "jupyter-vuetify",
      "model_module_version": "^0.1.11",
      "model_name": "BtnModel",
      "state": {
       "_events": [],
       "children": [
        "IPY_MODEL_c1d885940bca4b819647628bacc4c7b4"
       ],
       "flat": true,
       "href": null,
       "layout": "IPY_MODEL_2779b3586a8740d5837fb8c90ec90f69",
       "ripple": null,
       "to": null
      }
     },
     "5992f27cbe6f487e93188e830251873b": {
      "model_module": "@jupyter-widgets/base",
      "model_module_version": "1.2.0",
      "model_name": "LayoutModel",
      "state": {}
     },
     "59ab6f6b811643fdb96623885218673e": {
      "model_module": "@jupyter-widgets/base",
      "model_module_version": "1.2.0",
      "model_name": "LayoutModel",
      "state": {}
     },
     "5a5e757956504de28722acaa54bb74ad": {
      "model_module": "jupyter-vuetify",
      "model_module_version": "^0.1.11",
      "model_name": "BtnModel",
      "state": {
       "_events": [],
       "children": [
        "IPY_MODEL_617107d70f1e42c4b367f742c5fd680f"
       ],
       "flat": true,
       "href": null,
       "layout": "IPY_MODEL_363e7593ba5240c4a91b29fffade2246",
       "ripple": null,
       "to": null
      }
     },
     "5a95d6c225a642d8b27dd1add6fc3c4c": {
      "model_module": "jupyter-vuetify",
      "model_module_version": "^0.1.11",
      "model_name": "BtnModel",
      "state": {
       "_events": [],
       "children": [
        "IPY_MODEL_db70c21f55c545c2a63102e7a9570d2e"
       ],
       "flat": true,
       "href": null,
       "layout": "IPY_MODEL_94d1c93cc77746688acbc3d4d8659a7a",
       "ripple": null,
       "to": null
      }
     },
     "5acfa48eb50145f0a8ed2d82f9bdcad6": {
      "model_module": "jupyter-vuetify",
      "model_module_version": "^0.1.11",
      "model_name": "LayoutModel",
      "state": {
       "_events": [],
       "children": [
        "IPY_MODEL_36d9b51116ac4bc7a8eecbb529e67622"
       ],
       "layout": "IPY_MODEL_9c0423c3deea4bf08d64c7d71f8a034f"
      }
     },
     "5ba969e9829840298886d7c738a74609": {
      "model_module": "@jupyter-widgets/base",
      "model_module_version": "1.2.0",
      "model_name": "LayoutModel",
      "state": {}
     },
     "5c09fcdd972e429f8d124cedf53a79e1": {
      "model_module": "jupyter-vuetify",
      "model_module_version": "^0.1.11",
      "model_name": "ListTileTitleModel",
      "state": {
       "_events": [],
       "children": [
        "Item 3"
       ],
       "layout": "IPY_MODEL_e4b3a87f30aa485fbfb80270a56de852"
      }
     },
     "5c41139475a6413dbee7e3d9fdb582d7": {
      "model_module": "jupyter-vuetify",
      "model_module_version": "^0.1.11",
      "model_name": "BtnModel",
      "state": {
       "_events": [],
       "children": [
        "reset"
       ],
       "href": null,
       "layout": "IPY_MODEL_b4a28d4aa775497ba4f3bde2e4274a05",
       "ripple": null,
       "to": null
      }
     },
     "5c48614cab2e4ec49da2d21fbefef087": {
      "model_module": "@jupyter-widgets/base",
      "model_module_version": "1.2.0",
      "model_name": "LayoutModel",
      "state": {}
     },
     "5c6f1e5d98204bac8e3bd866d89ea662": {
      "model_module": "@jupyter-widgets/base",
      "model_module_version": "1.2.0",
      "model_name": "LayoutModel",
      "state": {}
     },
     "5cd6b32cb672434f82d9b3e9b5003ea5": {
      "model_module": "@jupyter-widgets/base",
      "model_module_version": "1.2.0",
      "model_name": "LayoutModel",
      "state": {}
     },
     "5d362e35520b4c9aa6529aa6a89a1bd8": {
      "model_module": "jupyter-vuetify",
      "model_module_version": "^0.1.11",
      "model_name": "LayoutModel",
      "state": {
       "_events": [],
       "children": [
        "IPY_MODEL_0174bb6217c448e18814e6f7731ec2b7"
       ],
       "layout": "IPY_MODEL_23cd8671bbef41198ba8af8779462d72"
      }
     },
     "5d699172d463459b81949adbb99062f2": {
      "model_module": "@jupyter-widgets/base",
      "model_module_version": "1.2.0",
      "model_name": "LayoutModel",
      "state": {}
     },
     "5e606c321cd44daf81e358d4cc63d48c": {
      "model_module": "@jupyter-widgets/base",
      "model_module_version": "1.2.0",
      "model_name": "LayoutModel",
      "state": {}
     },
     "5e92fe05493947918c9a2902413f6f73": {
      "model_module": "jupyter-vuetify",
      "model_module_version": "^0.1.11",
      "model_name": "BtnModel",
      "state": {
       "_events": [
        "click"
       ],
       "children": [
        "loader"
       ],
       "href": null,
       "layout": "IPY_MODEL_b6e57a6209f04438ad0b9c5e0abf3428",
       "loading": false,
       "ripple": null,
       "to": null
      }
     },
     "5eeed90bad66400c86cb8b20e5a70b91": {
      "model_module": "jupyter-vuetify",
      "model_module_version": "^0.1.11",
      "model_name": "BtnToggleModel",
      "state": {
       "_events": [],
       "children": [
        "IPY_MODEL_586babf0cd5544fb94514b3c72394c6e",
        "IPY_MODEL_3d1aeef259e6424393d789a47484915f",
        "IPY_MODEL_c111d780807a4660b5738e4000d529c0",
        "IPY_MODEL_5a95d6c225a642d8b27dd1add6fc3c4c"
       ],
       "class_": "mr-3",
       "layout": "IPY_MODEL_e2d2e73ea5714ef7bd3e25fe204066fd",
       "max": null,
       "v_model": 2
      }
     },
     "604f558e609a42b5bfc5e2621a2b33b0": {
      "model_module": "@jupyter-widgets/base",
      "model_module_version": "1.2.0",
      "model_name": "LayoutModel",
      "state": {}
     },
     "605c04d91c404a79b2b65159fe0f3d60": {
      "model_module": "@jupyter-widgets/base",
      "model_module_version": "1.2.0",
      "model_name": "LayoutModel",
      "state": {}
     },
     "616c64b280be461aa6927660e6b62dd8": {
      "model_module": "@jupyter-widgets/base",
      "model_module_version": "1.2.0",
      "model_name": "LayoutModel",
      "state": {}
     },
     "617107d70f1e42c4b367f742c5fd680f": {
      "model_module": "jupyter-vuetify",
      "model_module_version": "^0.1.11",
      "model_name": "IconModel",
      "state": {
       "_events": [],
       "children": [
        "format_align_right"
       ],
       "layout": "IPY_MODEL_672b318e4b6040eea9051d99d9163ee7",
       "size": null
      }
     },
     "62faabfc3f8f42dba6e1d9877d1f017a": {
      "model_module": "@jupyter-widgets/base",
      "model_module_version": "1.2.0",
      "model_name": "LayoutModel",
      "state": {}
     },
     "64cc0339416847f58a94fd6b686db1f5": {
      "model_module": "@jupyter-widgets/base",
      "model_module_version": "1.2.0",
      "model_name": "LayoutModel",
      "state": {}
     },
     "65a5317de7c64ae680f98300e61aa02d": {
      "model_module": "jupyter-vuetify",
      "model_module_version": "^0.1.11",
      "model_name": "BtnModel",
      "state": {
       "_events": [],
       "children": [
        "IPY_MODEL_3ff71f18acb24764a1d99f207d93a609"
       ],
       "color": "primary",
       "flat": true,
       "href": null,
       "icon": true,
       "layout": "IPY_MODEL_95e6c8dad5184f7e82cb8dd08fa34ee9",
       "ripple": null,
       "to": null
      }
     },
     "65bb0c53a9034c9f91d8c8c010bdc482": {
      "model_module": "@jupyter-widgets/base",
      "model_module_version": "1.2.0",
      "model_name": "LayoutModel",
      "state": {}
     },
     "666582669b134967971770907fcc145c": {
      "model_module": "jupyter-vuetify",
      "model_module_version": "^0.1.11",
      "model_name": "BtnModel",
      "state": {
       "_events": [],
       "children": [
        "disabled"
       ],
       "disabled": true,
       "href": null,
       "layout": "IPY_MODEL_f2daad67551648afa0a52f140f352790",
       "ripple": null,
       "to": null
      }
     },
     "672b318e4b6040eea9051d99d9163ee7": {
      "model_module": "@jupyter-widgets/base",
      "model_module_version": "1.2.0",
      "model_name": "LayoutModel",
      "state": {}
     },
     "68ca2b6349894d998b45c11f1f4a8079": {
      "model_module": "jupyter-vuetify",
      "model_module_version": "^0.1.11",
      "model_name": "BtnModel",
      "state": {
       "_events": [],
       "children": [
        "disabled"
       ],
       "disabled": true,
       "href": null,
       "layout": "IPY_MODEL_c9cfad79645545b388b2f591c25e90a2",
       "ripple": null,
       "to": null
      }
     },
     "68da013a50654c9c87aa96537b83f9d9": {
      "model_module": "@jupyter-widgets/base",
      "model_module_version": "1.2.0",
      "model_name": "LayoutModel",
      "state": {}
     },
     "6989d89496eb43e7a5c63955bb77d28d": {
      "model_module": "@jupyter-widgets/base",
      "model_module_version": "1.2.0",
      "model_name": "LayoutModel",
      "state": {}
     },
     "6b2b860ff45f42658fb2273eadfec995": {
      "model_module": "jupyter-vuetify",
      "model_module_version": "^0.1.11",
      "model_name": "IconModel",
      "state": {
       "_events": [],
       "children": [
        "format_underline"
       ],
       "layout": "IPY_MODEL_01b58fd7e3ad41f2a523f958be47f3be",
       "size": null
      }
     },
     "6d2bcafd940a4d46a4d34d71bb44642a": {
      "model_module": "jupyter-vuetify",
      "model_module_version": "^0.1.11",
      "model_name": "BtnModel",
      "state": {
       "_events": [],
       "children": [
        "flat"
       ],
       "color": "primary",
       "flat": true,
       "href": null,
       "layout": "IPY_MODEL_af6972cfe45f44808199f0888ef65ffc",
       "ripple": null,
       "to": null
      }
     },
     "6e07c322db244e3a9402420e2d99ed89": {
      "model_module": "@jupyter-widgets/base",
      "model_module_version": "1.2.0",
      "model_name": "LayoutModel",
      "state": {}
     },
     "6f17c6544e5d4275a5939397bdb38678": {
      "model_module": "jupyter-vuetify",
      "model_module_version": "^0.1.11",
      "model_name": "ExpansionPanelContentModel",
      "state": {
       "_events": [],
       "children": [
        "IPY_MODEL_f0e80413d3904f02be864113b0b75332",
        "IPY_MODEL_3f090e7469144d60a28b61aaa54dd5c1"
       ],
       "layout": "IPY_MODEL_71df16e864d84e41a0bad47e03c2ddbc",
       "ripple": null
      }
     },
     "70638c7043c54b03989667b7b318cec4": {
      "model_module": "jupyter-vuetify",
      "model_module_version": "^0.1.11",
      "model_name": "BtnModel",
      "state": {
       "_events": [],
       "children": [
        "outline"
       ],
       "color": "primary",
       "href": null,
       "layout": "IPY_MODEL_f43b007fd04a4bccb13bfb1354057d39",
       "outline": true,
       "ripple": null,
       "to": null
      }
     },
     "7176d27c2f5f428399e4988e30a6e06d": {
      "model_module": "jupyter-vuetify",
      "model_module_version": "^0.1.11",
      "model_name": "IconModel",
      "state": {
       "_events": [],
       "children": [
        "edit"
       ],
       "layout": "IPY_MODEL_9371d5f07dd54e9a8f65d91e156f158e",
       "size": null
      }
     },
     "71a29ecf18de489182c5265805d651a1": {
      "model_module": "@jupyter-widgets/base",
      "model_module_version": "1.2.0",
      "model_name": "LayoutModel",
      "state": {}
     },
     "71df16e864d84e41a0bad47e03c2ddbc": {
      "model_module": "@jupyter-widgets/base",
      "model_module_version": "1.2.0",
      "model_name": "LayoutModel",
      "state": {}
     },
     "731bc264b1b1447d8e926b6d133338e0": {
      "model_module": "jupyter-vuetify",
      "model_module_version": "^0.1.11",
      "model_name": "IconModel",
      "state": {
       "_events": [],
       "children": [
        "format_align_justify"
       ],
       "layout": "IPY_MODEL_30c436ca6f9344a9a8a1db0b6bf54fff",
       "size": null
      }
     },
     "737adbc7119342268d02feb718731b77": {
      "model_module": "jupyter-vuetify",
      "model_module_version": "^0.1.11",
      "model_name": "ExpansionPanelModel",
      "state": {
       "_events": [],
       "children": [
        "IPY_MODEL_d5ea99ef853d4e27854dd37986bacc7a",
        "IPY_MODEL_6f17c6544e5d4275a5939397bdb38678"
       ],
       "layout": "IPY_MODEL_f6a5a4f11b534e448da17b1e8350e26e",
       "value": null
      }
     },
     "74a2d152da5a493899db590bffee6258": {
      "model_module": "@jupyter-widgets/base",
      "model_module_version": "1.2.0",
      "model_name": "LayoutModel",
      "state": {}
     },
     "7589b73da76941f0b66708c1b00e2447": {
      "model_module": "jupyter-vuetify",
      "model_module_version": "^0.1.11",
      "model_name": "BtnModel",
      "state": {
       "_events": [],
       "children": [
        "tooltip"
       ],
       "color": "primary",
       "href": null,
       "layout": "IPY_MODEL_ab46577179ee4c0880fe4dc66c159573",
       "ripple": null,
       "slot": "activator",
       "to": null
      }
     },
     "759400f6fd4f49e3b9d878d57f0c48f4": {
      "model_module": "@jupyter-widgets/base",
      "model_module_version": "1.2.0",
      "model_name": "LayoutModel",
      "state": {}
     },
     "7680a1d61e914a05beafadf301e6bcf9": {
      "model_module": "jupyter-vuetify",
      "model_module_version": "^0.1.11",
      "model_name": "ChipModel",
      "state": {
       "_events": [],
       "children": [],
       "layout": "IPY_MODEL_c24a09882a6243ee82907f4b1e87f344"
      }
     },
     "76d83d4c4f5a4462a5c1d25b166f90eb": {
      "model_module": "@jupyter-widgets/base",
      "model_module_version": "1.2.0",
      "model_name": "LayoutModel",
      "state": {}
     },
     "772953993f3343bd92c31f0a1171eb40": {
      "model_module": "jupyter-vuetify",
      "model_module_version": "^0.1.11",
      "model_name": "CardModel",
      "state": {
       "_events": [],
       "children": [
        "IPY_MODEL_19eb9d82c58040ef9a8c2e9283c50e10",
        "IPY_MODEL_7d4a4a145aff45ecbbdff917bb11a449"
       ],
       "elevation": null,
       "height": null,
       "href": null,
       "layout": "IPY_MODEL_bf147518a9854e70ba8a062e7117d4d0",
       "max_height": null,
       "max_width": null,
       "min_height": null,
       "min_width": null,
       "ripple": null,
       "to": null,
       "width": null
      }
     },
     "78242c9dee494d6fb2690da6ae4822a0": {
      "model_module": "jupyter-vuetify",
      "model_module_version": "^0.1.11",
      "model_name": "BtnModel",
      "state": {
       "_events": [],
       "children": [
        "IPY_MODEL_3e9a1164bfb2464c98ad90b2094de397"
       ],
       "flat": true,
       "href": null,
       "layout": "IPY_MODEL_fb968001de23465fad8fab03b63a34a2",
       "ripple": null,
       "to": null
      }
     },
     "7843a197017b40ff8db7392404f3d4f1": {
      "model_module": "jupyter-vuetify",
      "model_module_version": "^0.1.11",
      "model_name": "TabItemModel",
      "state": {
       "_events": [],
       "children": [
        "Lorem ipsum dolor sit amet, consectetur adipiscing elit, sed do eiusmod tempor incididunt ut labore et dolore magna aliqua."
       ],
       "layout": "IPY_MODEL_f66690270d6d41bea7378fb140726d5a",
       "reverse_transition": null,
       "transition": null
      }
     },
     "785c6857dcdf4fcb85bb4e5c97f264f4": {
      "model_module": "@jupyter-widgets/base",
      "model_module_version": "1.2.0",
      "model_name": "LayoutModel",
      "state": {}
     },
     "7891b17954454b4dbe00bbb920c501ac": {
      "model_module": "jupyter-vuetify",
      "model_module_version": "^0.1.11",
      "model_name": "SliderModel",
      "state": {
       "_events": [],
       "children": [],
       "error_count": null,
       "error_messages": null,
       "height": null,
       "layout": "IPY_MODEL_10f9863ffec44248a34069d6974c8a15",
       "loading": null,
       "max": null,
       "messages": null,
       "min": null,
       "rules": [],
       "step": null,
       "success_messages": null,
       "thumb_label": null,
       "thumb_size": null,
       "tick_labels": [],
       "tick_size": null,
       "ticks": null,
       "v_model": 25,
       "value": null
      }
     },
     "7922c29b79ce4e88925fb50a70ff9a5c": {
      "model_module": "jupyter-vuetify",
      "model_module_version": "^0.1.11",
      "model_name": "TabItemModel",
      "state": {
       "_events": [],
       "children": [
        "Lorem ipsum dolor sit amet, consectetur adipiscing elit, sed do eiusmod tempor incididunt ut labore et dolore magna aliqua."
       ],
       "layout": "IPY_MODEL_dd1737d265a8467e8236b12797b15ac5",
       "reverse_transition": null,
       "transition": null
      }
     },
     "79b4fd33cc4e440696ddfd4904fe609c": {
      "model_module": "@jupyter-widgets/base",
      "model_module_version": "1.2.0",
      "model_name": "LayoutModel",
      "state": {}
     },
     "7b39c7ea91014da7ba09f05008511b37": {
      "model_module": "@jupyter-widgets/base",
      "model_module_version": "1.2.0",
      "model_name": "LayoutModel",
      "state": {}
     },
     "7ce3a0c27e2745c88799e893217177da": {
      "model_module": "@jupyter-widgets/base",
      "model_module_version": "1.2.0",
      "model_name": "LayoutModel",
      "state": {}
     },
     "7d43482f1bf745f88c8ded93b4de7558": {
      "model_module": "@jupyter-widgets/base",
      "model_module_version": "1.2.0",
      "model_name": "LayoutModel",
      "state": {}
     },
     "7d4a4a145aff45ecbbdff917bb11a449": {
      "model_module": "jupyter-vuetify",
      "model_module_version": "^0.1.11",
      "model_name": "CardTextModel",
      "state": {
       "_events": [],
       "children": [
        "Lorem ipsum dolor sit amet, consectetur adipiscing elit, sed do eiusmod tempor incididunt ut labore et dolore magna aliqua."
       ],
       "layout": "IPY_MODEL_d1967796f2d840399112637268089906"
      }
     },
     "7dd7401d065a44c7811f32443998edb5": {
      "model_module": "@jupyter-widgets/base",
      "model_module_version": "1.2.0",
      "model_name": "LayoutModel",
      "state": {}
     },
     "7de8b2eed1c944849c231c82198dc0dd": {
      "model_module": "jupyter-vuetify",
      "model_module_version": "^0.1.11",
      "model_name": "ListTileModel",
      "state": {
       "_events": [
        "click"
       ],
       "children": [
        "IPY_MODEL_5714e353d89a4e279fb2ef3384fb3519"
       ],
       "href": null,
       "layout": "IPY_MODEL_95da1eb4a50c4f259e090ea3428480f1",
       "ripple": null,
       "to": null
      }
     },
     "7eb22409cbdd405993683589050e8bfe": {
      "model_module": "jupyter-vuetify",
      "model_module_version": "^0.1.11",
      "model_name": "IconModel",
      "state": {
       "_events": [],
       "children": [
        "edit"
       ],
       "layout": "IPY_MODEL_ba088839275a4d5ea9baf9324fa88a1b",
       "size": null
      }
     },
     "7efe97f35fce4803a1363de901d471b7": {
      "model_module": "@jupyter-widgets/base",
      "model_module_version": "1.2.0",
      "model_name": "LayoutModel",
      "state": {}
     },
     "7fbae291ca0049279706a4e3bc54b99a": {
      "model_module": "@jupyter-widgets/base",
      "model_module_version": "1.2.0",
      "model_name": "LayoutModel",
      "state": {}
     },
     "808e1d04f58144c3bb3bfc0c164c8e2c": {
      "model_module": "@jupyter-widgets/base",
      "model_module_version": "1.2.0",
      "model_name": "LayoutModel",
      "state": {}
     },
     "80b9af4a7f5a4d65ae9cfbc61a096dc7": {
      "model_module": "@jupyter-widgets/base",
      "model_module_version": "1.2.0",
      "model_name": "LayoutModel",
      "state": {}
     },
     "80d1e12c642a49788a797b5d8dbf525b": {
      "model_module": "@jupyter-widgets/base",
      "model_module_version": "1.2.0",
      "model_name": "LayoutModel",
      "state": {}
     },
     "81444fbad6b8431cbde4dfe9e19996d3": {
      "model_module": "@jupyter-widgets/base",
      "model_module_version": "1.2.0",
      "model_name": "LayoutModel",
      "state": {}
     },
     "815a63db94664ac99ef174e45bcdfed1": {
      "model_module": "@jupyter-widgets/base",
      "model_module_version": "1.2.0",
      "model_name": "LayoutModel",
      "state": {}
     },
     "8253cd0523054153b8bcd74007c0b4d0": {
      "model_module": "jupyter-vuetify",
      "model_module_version": "^0.1.11",
      "model_name": "TabItemModel",
      "state": {
       "_events": [],
       "children": [
        "Lorem ipsum dolor sit amet, consectetur adipiscing elit, sed do eiusmod tempor incididunt ut labore et dolore magna aliqua."
       ],
       "layout": "IPY_MODEL_3fd4a81efae14628a36a0a502b726c29",
       "reverse_transition": null,
       "transition": null
      }
     },
     "827c6ea663f04d17ab9ff09fd7526c1a": {
      "model_module": "@jupyter-widgets/base",
      "model_module_version": "1.2.0",
      "model_name": "LayoutModel",
      "state": {}
     },
     "840b7131b4744f068356b49906751ad1": {
      "model_module": "jupyter-vuetify",
      "model_module_version": "^0.1.11",
      "model_name": "LayoutModel",
      "state": {
       "_events": [],
       "children": [
        "IPY_MODEL_3e440ef282334f9fa9dd1bc42d99549b",
        "IPY_MODEL_d78aabf2752541cabf1eb04e1e95a7b4",
        "IPY_MODEL_f2725324e9b24b1c962c83a9765a7e27",
        "IPY_MODEL_5c41139475a6413dbee7e3d9fdb582d7"
       ],
       "layout": "IPY_MODEL_991cf6efd357455397595d671f2537cb"
      }
     },
     "85f5a2f9c9a546f3bdad1ce8fa70cd6f": {
      "model_module": "@jupyter-widgets/base",
      "model_module_version": "1.2.0",
      "model_name": "LayoutModel",
      "state": {}
     },
     "870f9ec2b89e4a2080123128531c8c8d": {
      "model_module": "@jupyter-widgets/base",
      "model_module_version": "1.2.0",
      "model_name": "LayoutModel",
      "state": {}
     },
     "8812024a34ae4040a319264c0007991f": {
      "model_module": "jupyter-vuetify",
      "model_module_version": "^0.1.11",
      "model_name": "ExpansionPanelContentModel",
      "state": {
       "_events": [],
       "children": [
        "IPY_MODEL_8986561f8e19400f8ef7905c792fc932",
        "IPY_MODEL_a53ab01330364ff38b77bd71011e3e3b"
       ],
       "layout": "IPY_MODEL_2fd9c834dc9f43c3996e87395f07921d",
       "ripple": null
      }
     },
     "884af4a04aa443cfa9e2a4673ad11b52": {
      "model_module": "jupyter-vuetify",
      "model_module_version": "^0.1.11",
      "model_name": "ExpansionPanelContentModel",
      "state": {
       "_events": [],
       "children": [
        "IPY_MODEL_c04196fea32f49869a365d977666bbea",
        "IPY_MODEL_cf4ae35ff2e043eb972e29a1e1a465a4"
       ],
       "layout": "IPY_MODEL_b89e3c97daea433bacb0e2d2abcc629d",
       "ripple": null
      }
     },
     "8986561f8e19400f8ef7905c792fc932": {
      "model_module": "jupyter-vuetify",
      "model_module_version": "^0.1.11",
      "model_name": "HtmlModel",
      "state": {
       "_events": [],
       "children": [
        "item1"
       ],
       "layout": "IPY_MODEL_160ccb8b03ac4e849f5286016f265fc1",
       "slot": "header",
       "tag": "div"
      }
     },
     "89db00abccda473ab179bf3c40ed3fd9": {
      "model_module": "jupyter-vuetify",
      "model_module_version": "^0.1.11",
      "model_name": "ExpansionPanelModel",
      "state": {
       "_events": [],
       "children": [
        "IPY_MODEL_8812024a34ae4040a319264c0007991f",
        "IPY_MODEL_884af4a04aa443cfa9e2a4673ad11b52"
       ],
       "layout": "IPY_MODEL_b8187134300b4119a734fe8c2c498479",
       "value": null
      }
     },
     "8ad93ca0da6f45cba36bee86bc1c1b0b": {
      "model_module": "@jupyter-widgets/base",
      "model_module_version": "1.2.0",
      "model_name": "LayoutModel",
      "state": {}
     },
     "8b1dbfdddbd54035b0cd50af479e6fb0": {
      "model_module": "jupyter-vuetify",
      "model_module_version": "^0.1.11",
      "model_name": "BtnModel",
      "state": {
       "_events": [],
       "children": [
        "error"
       ],
       "color": "error",
       "href": null,
       "layout": "IPY_MODEL_48f8343c011c463a8407880a44d666ea",
       "ripple": null,
       "to": null
      }
     },
     "8bbba4eeaac74474be45b2f6b1fe1406": {
      "model_module": "jupyter-vuetify",
      "model_module_version": "^0.1.11",
      "model_name": "LayoutModel",
      "state": {
       "_events": [],
       "children": [
        "IPY_MODEL_5e92fe05493947918c9a2902413f6f73"
       ],
       "layout": "IPY_MODEL_4f4adc6be9df41bea80024b1a026c424"
      }
     },
     "8c3c93d28b51469a84e90eccf941305f": {
      "model_module": "@jupyter-widgets/base",
      "model_module_version": "1.2.0",
      "model_name": "LayoutModel",
      "state": {}
     },
     "8c88ed5587944210b2bb7433898eede8": {
      "model_module": "jupyter-vuetify",
      "model_module_version": "^0.1.11",
      "model_name": "IconModel",
      "state": {
       "_events": [],
       "children": [
        "format_italic"
       ],
       "layout": "IPY_MODEL_5c6f1e5d98204bac8e3bd866d89ea662",
       "size": null
      }
     },
     "8d9a4dca573046c48039496870913f69": {
      "model_module": "@jupyter-widgets/base",
      "model_module_version": "1.2.0",
      "model_name": "LayoutModel",
      "state": {}
     },
     "8e208695ee9647dab133aa2465741a7f": {
      "model_module": "jupyter-vuetify",
      "model_module_version": "^0.1.11",
      "model_name": "TabModel",
      "state": {
       "_events": [],
       "children": [
        "Tab 1"
       ],
       "href": null,
       "layout": "IPY_MODEL_fdd08092363e48b58ea81fe1c74ffd10",
       "ripple": null,
       "to": null
      }
     },
     "8e45155ac7284f70ae3ffdb5d99e4b35": {
      "model_module": "jupyter-vuetify",
      "model_module_version": "^0.1.11",
      "model_name": "IconModel",
      "state": {
       "_events": [],
       "children": [
        "format_italic"
       ],
       "layout": "IPY_MODEL_5d699172d463459b81949adbb99062f2",
       "size": null
      }
     },
     "8f2b98bf08614db2aa5b15f093b24a65": {
      "model_module": "jupyter-vuetify",
      "model_module_version": "^0.1.11",
      "model_name": "BtnToggleModel",
      "state": {
       "_events": [],
       "children": [
        "IPY_MODEL_d91429f1102f4eb8b38e164a8dcb4929",
        "IPY_MODEL_911d63f56b9a4aa8bcc818ad00d7ae9a",
        "IPY_MODEL_5a5e757956504de28722acaa54bb74ad",
        "IPY_MODEL_2f286f39ec7643e7b05b7bb5498fdc2a"
       ],
       "class_": "mr-3",
       "layout": "IPY_MODEL_90d1260146084f23b7d5e1c840cb44d3",
       "max": null,
       "v_model": 2
      }
     },
     "8fcda67f4aff473c857d5f7f9b285b9f": {
      "model_module": "jupyter-vuetify",
      "model_module_version": "^0.1.11",
      "model_name": "BtnModel",
      "state": {
       "_events": [],
       "children": [
        "flat"
       ],
       "color": "primary",
       "flat": true,
       "href": null,
       "layout": "IPY_MODEL_fd558aa759ea4bb6be4fbedb6de8a044",
       "ripple": null,
       "to": null
      }
     },
     "90d1260146084f23b7d5e1c840cb44d3": {
      "model_module": "@jupyter-widgets/base",
      "model_module_version": "1.2.0",
      "model_name": "LayoutModel",
      "state": {}
     },
     "911d63f56b9a4aa8bcc818ad00d7ae9a": {
      "model_module": "jupyter-vuetify",
      "model_module_version": "^0.1.11",
      "model_name": "BtnModel",
      "state": {
       "_events": [],
       "children": [
        "IPY_MODEL_a02cdadf128a4d4da0857eb541f4927a"
       ],
       "flat": true,
       "href": null,
       "layout": "IPY_MODEL_b1e9211710cf4fbdabddfa3c7c39e52a",
       "ripple": null,
       "to": null
      }
     },
     "914ff3917d31455ba245cbea58c1b9b3": {
      "model_module": "@jupyter-widgets/base",
      "model_module_version": "1.2.0",
      "model_name": "LayoutModel",
      "state": {}
     },
     "91b14c1eab2a4915b8180b1123e5537e": {
      "model_module": "@jupyter-widgets/base",
      "model_module_version": "1.2.0",
      "model_name": "LayoutModel",
      "state": {}
     },
     "924fe9bbd11c490aac4fadcbfe33eae1": {
      "model_module": "jupyter-vuetify",
      "model_module_version": "^0.1.11",
      "model_name": "BtnModel",
      "state": {
       "_events": [],
       "children": [
        "primary"
       ],
       "color": "primary",
       "href": null,
       "layout": "IPY_MODEL_d7406bb80f68455c9468a5bd92bfc189",
       "ripple": null,
       "to": null
      }
     },
     "9371d5f07dd54e9a8f65d91e156f158e": {
      "model_module": "@jupyter-widgets/base",
      "model_module_version": "1.2.0",
      "model_name": "LayoutModel",
      "state": {}
     },
     "9416a24bb16c4d88a5778b789a848b91": {
      "model_module": "jupyter-vuetify",
      "model_module_version": "^0.1.11",
      "model_name": "IconModel",
      "state": {
       "_events": [],
       "children": [
        "thumb_up"
       ],
       "layout": "IPY_MODEL_2901acc2056547bcb13484fd2555707e",
       "size": null
      }
     },
     "9483c55b00a3441895c6d9fc776d9432": {
      "model_module": "jupyter-vuetify",
      "model_module_version": "^0.1.11",
      "model_name": "CardTextModel",
      "state": {
       "_events": [],
       "children": [
        "First Text"
       ],
       "layout": "IPY_MODEL_605c04d91c404a79b2b65159fe0f3d60"
      }
     },
     "94d1c93cc77746688acbc3d4d8659a7a": {
      "model_module": "@jupyter-widgets/base",
      "model_module_version": "1.2.0",
      "model_name": "LayoutModel",
      "state": {}
     },
     "9533f5772fed421280d3439384a1c90d": {
      "model_module": "jupyter-vuetify",
      "model_module_version": "^0.1.11",
      "model_name": "BtnModel",
      "state": {
       "_events": [],
       "children": [
        "IPY_MODEL_aadc718a4e6d4e418dcc5f0b9cf03f18",
        "Icon left"
       ],
       "color": "primary",
       "href": null,
       "layout": "IPY_MODEL_b1c27e04816c460a9100e585255965ab",
       "ripple": null,
       "to": null
      }
     },
     "9586fde0997547d5b35e34bdb0b814c0": {
      "model_module": "@jupyter-widgets/base",
      "model_module_version": "1.2.0",
      "model_name": "LayoutModel",
      "state": {}
     },
     "95da1eb4a50c4f259e090ea3428480f1": {
      "model_module": "@jupyter-widgets/base",
      "model_module_version": "1.2.0",
      "model_name": "LayoutModel",
      "state": {}
     },
     "95e6c8dad5184f7e82cb8dd08fa34ee9": {
      "model_module": "@jupyter-widgets/base",
      "model_module_version": "1.2.0",
      "model_name": "LayoutModel",
      "state": {}
     },
     "96d2e5fef9c24396b87829aeef895093": {
      "model_module": "@jupyter-widgets/base",
      "model_module_version": "1.2.0",
      "model_name": "LayoutModel",
      "state": {}
     },
     "96d7be2fdace4cc884d414898d3f636c": {
      "model_module": "@jupyter-widgets/base",
      "model_module_version": "1.2.0",
      "model_name": "LayoutModel",
      "state": {}
     },
     "983a64bcf4174ae69a7508cd997a3de8": {
      "model_module": "jupyter-vuetify",
      "model_module_version": "^0.1.11",
      "model_name": "TabModel",
      "state": {
       "_events": [],
       "children": [
        "Tab 3"
       ],
       "href": null,
       "layout": "IPY_MODEL_17ab562e0d3a4182b53b7ba642bead9d",
       "ripple": null,
       "to": null
      }
     },
     "98b851b61d9741778e29ec75184eeea0": {
      "model_module": "@jupyter-widgets/base",
      "model_module_version": "1.2.0",
      "model_name": "LayoutModel",
      "state": {}
     },
     "991cf6efd357455397595d671f2537cb": {
      "model_module": "@jupyter-widgets/base",
      "model_module_version": "1.2.0",
      "model_name": "LayoutModel",
      "state": {}
     },
     "99ddf7aca2454a22b407fc367ae597e9": {
      "model_module": "@jupyter-widgets/base",
      "model_module_version": "1.2.0",
      "model_name": "LayoutModel",
      "state": {}
     },
     "9a3564429e9b4c8ea040f01e2d4e43ad": {
      "model_module": "jupyter-vuetify",
      "model_module_version": "^0.1.11",
      "model_name": "BtnModel",
      "state": {
       "_events": [],
       "children": [
        "IPY_MODEL_7176d27c2f5f428399e4988e30a6e06d"
       ],
       "color": "primary",
       "fab": true,
       "href": null,
       "large": true,
       "layout": "IPY_MODEL_ec37ad987a104f63ac62ed5e0fc3f2df",
       "ripple": null,
       "to": null
      }
     },
     "9c0423c3deea4bf08d64c7d71f8a034f": {
      "model_module": "@jupyter-widgets/base",
      "model_module_version": "1.2.0",
      "model_name": "LayoutModel",
      "state": {}
     },
     "9cbdae80e99b4d89abd32beb704974cb": {
      "model_module": "jupyter-vuetify",
      "model_module_version": "^0.1.11",
      "model_name": "TabItemModel",
      "state": {
       "_events": [],
       "children": [
        "Lorem ipsum dolor sit amet, consectetur adipiscing elit, sed do eiusmod tempor incididunt ut labore et dolore magna aliqua."
       ],
       "layout": "IPY_MODEL_21a1aa45d4fb4a788613118ae5b0a388",
       "reverse_transition": null,
       "transition": null
      }
     },
     "9f12b3d75ee241f8ab71ac3aa81ee332": {
      "model_module": "@jupyter-widgets/base",
      "model_module_version": "1.2.0",
      "model_name": "LayoutModel",
      "state": {}
     },
     "9f9134bae86b4070aeff0836e515eb83": {
      "model_module": "@jupyter-widgets/base",
      "model_module_version": "1.2.0",
      "model_name": "LayoutModel",
      "state": {}
     },
     "a02cdadf128a4d4da0857eb541f4927a": {
      "model_module": "jupyter-vuetify",
      "model_module_version": "^0.1.11",
      "model_name": "IconModel",
      "state": {
       "_events": [],
       "children": [
        "format_align_center"
       ],
       "layout": "IPY_MODEL_2314ef14b73c4f1d919ad706ae27da2e",
       "size": null
      }
     },
     "a0e339898a5a41e9878b907c379c4b72": {
      "model_module": "@jupyter-widgets/base",
      "model_module_version": "1.2.0",
      "model_name": "LayoutModel",
      "state": {}
     },
     "a151b1e925344d8b843bbba102bc1c85": {
      "model_module": "jupyter-vuetify",
      "model_module_version": "^0.1.11",
      "model_name": "BtnModel",
      "state": {
       "_events": [],
       "children": [
        "IPY_MODEL_6b2b860ff45f42658fb2273eadfec995"
       ],
       "flat": true,
       "href": null,
       "layout": "IPY_MODEL_b9e26d524c2147bd84e14acbafc50cf1",
       "ripple": null,
       "to": null
      }
     },
     "a24074e52ab249e5ade116369324d8c6": {
      "model_module": "jupyter-vuetify",
      "model_module_version": "^0.1.11",
      "model_name": "ListModel",
      "state": {
       "_events": [],
       "children": [
        "IPY_MODEL_55bc50a743e1422fb6963dd99fe0aa89",
        "IPY_MODEL_4e522b4db9464a4da0b20ee3695bd04e",
        "IPY_MODEL_f2f3ac3b01214fb2ba3c372974feceef",
        "IPY_MODEL_7de8b2eed1c944849c231c82198dc0dd"
       ],
       "layout": "IPY_MODEL_5992f27cbe6f487e93188e830251873b"
      }
     },
     "a32434ea8e13469aa57273bea82faa50": {
      "model_module": "@jupyter-widgets/base",
      "model_module_version": "1.2.0",
      "model_name": "LayoutModel",
      "state": {}
     },
     "a3f4fd4f20c3462487ce06a516ea34ed": {
      "model_module": "@jupyter-widgets/base",
      "model_module_version": "1.2.0",
      "model_name": "LayoutModel",
      "state": {}
     },
     "a463a19b827b43399ac52ce68a2fce62": {
      "model_module": "jupyter-vuetify",
      "model_module_version": "^0.1.11",
      "model_name": "ListTileModel",
      "state": {
       "_events": [
        "click"
       ],
       "children": [
        "IPY_MODEL_39e22a9987394006bf30b4ee18724439"
       ],
       "href": null,
       "layout": "IPY_MODEL_53fccf54e983411aa50c9b9fd6906fb6",
       "ripple": null,
       "to": null
      }
     },
     "a49cbb2b424647b0aa449443a3d16d7c": {
      "model_module": "jupyter-vuetify",
      "model_module_version": "^0.1.11",
      "model_name": "BtnModel",
      "state": {
       "_events": [],
       "children": [
        "flat"
       ],
       "color": "primary",
       "flat": true,
       "href": null,
       "layout": "IPY_MODEL_e4c68c93c1194d329ade8837a5231cc4",
       "ripple": null,
       "to": null
      }
     },
     "a5120bd3c14548d58a7de2f5046fa170": {
      "model_module": "jupyter-vuetify",
      "model_module_version": "^0.1.11",
      "model_name": "BtnModel",
      "state": {
       "_events": [],
       "children": [
        "error"
       ],
       "color": "error",
       "href": null,
       "layout": "IPY_MODEL_c1f81f57026f4d35ad6d732771ad232c",
       "ripple": null,
       "to": null
      }
     },
     "a53a54b1f3e245ba98ce6846631309b3": {
      "model_module": "jupyter-vuetify",
      "model_module_version": "^0.1.11",
      "model_name": "BtnModel",
      "state": {
       "_events": [],
       "children": [
        "round"
       ],
       "color": "primary",
       "href": null,
       "layout": "IPY_MODEL_7ce3a0c27e2745c88799e893217177da",
       "ripple": null,
       "round": true,
       "to": null
      }
     },
     "a53ab01330364ff38b77bd71011e3e3b": {
      "model_module": "jupyter-vuetify",
      "model_module_version": "^0.1.11",
      "model_name": "CardModel",
      "state": {
       "_events": [],
       "children": [
        "IPY_MODEL_9483c55b00a3441895c6d9fc776d9432"
       ],
       "elevation": null,
       "height": null,
       "href": null,
       "layout": "IPY_MODEL_ec8835199c3f45d1b51732e71d1bb9ed",
       "max_height": null,
       "max_width": null,
       "min_height": null,
       "min_width": null,
       "ripple": null,
       "to": null,
       "width": null
      }
     },
     "a57784cc030f41cc818a9625ba589988": {
      "model_module": "@jupyter-widgets/base",
      "model_module_version": "1.2.0",
      "model_name": "LayoutModel",
      "state": {}
     },
     "a7601f7a0f9d4b22a1e5025628595cf0": {
      "model_module": "jupyter-vuetify",
      "model_module_version": "^0.1.11",
      "model_name": "ContainerModel",
      "state": {
       "_events": [],
       "children": [
        "IPY_MODEL_20b5632c2b2f43938d2895b0a7385d9a",
        "IPY_MODEL_e530f7b4ea2b464f97b45366779974bb"
       ],
       "layout": "IPY_MODEL_1c632b9a207f4ce0af160aac8c5b938c"
      }
     },
     "a7c070245e01491b8743244bea1285c6": {
      "model_module": "jupyter-vuetify",
      "model_module_version": "^0.1.11",
      "model_name": "BtnModel",
      "state": {
       "_events": [],
       "children": [
        "reset"
       ],
       "href": null,
       "layout": "IPY_MODEL_1e5766abf20b46c9b760d9333743bcd3",
       "ripple": null,
       "to": null
      }
     },
     "aadc718a4e6d4e418dcc5f0b9cf03f18": {
      "model_module": "jupyter-vuetify",
      "model_module_version": "^0.1.11",
      "model_name": "IconModel",
      "state": {
       "_events": [],
       "children": [
        "fingerprint"
       ],
       "layout": "IPY_MODEL_d8a954d3b2404a528faa773d42b42ab4",
       "left": true,
       "size": null
      }
     },
     "ab46577179ee4c0880fe4dc66c159573": {
      "model_module": "@jupyter-widgets/base",
      "model_module_version": "1.2.0",
      "model_name": "LayoutModel",
      "state": {}
     },
     "ab782c0df156436bacdca84e09068c2b": {
      "model_module": "@jupyter-widgets/base",
      "model_module_version": "1.2.0",
      "model_name": "LayoutModel",
      "state": {}
     },
     "ac730b7fe32648e4b25ffedf68648dd5": {
      "model_module": "@jupyter-widgets/base",
      "model_module_version": "1.2.0",
      "model_name": "LayoutModel",
      "state": {}
     },
     "acb6e1111a5d4065bbf25e18f1072c7f": {
      "model_module": "jupyter-vuetify",
      "model_module_version": "^0.1.11",
      "model_name": "IconModel",
      "state": {
       "_events": [],
       "children": [
        "format_align_right"
       ],
       "layout": "IPY_MODEL_c38dee2bdd474792bdb87015afaed775",
       "size": null
      }
     },
     "acf5ef593365422ebdbd8661793a9932": {
      "model_module": "jupyter-vuetify",
      "model_module_version": "^0.1.11",
      "model_name": "BtnModel",
      "state": {
       "_events": [],
       "children": [
        "error"
       ],
       "color": "error",
       "href": null,
       "layout": "IPY_MODEL_1f13af5cbce649d787484eee1f6712a8",
       "ripple": null,
       "to": null
      }
     },
     "ad5f2e40c82f4f948cd25a074a636fab": {
      "model_module": "jupyter-vuetify",
      "model_module_version": "^0.1.11",
      "model_name": "VuetifyTemplateModel",
      "state": {
       "_model_module_version": "^0.1.11",
       "_view_module_version": "^0.1.11",
       "_view_name": "VuetifyView",
       "components": null,
       "events": [],
       "headers": [
        {
         "align": "left",
         "sortable": true,
         "text": "index",
         "value": "index"
        },
        {
         "text": "sepal_length",
         "value": "sepal_length"
        },
        {
         "text": "sepal_width",
         "value": "sepal_width"
        },
        {
         "text": "petal_length",
         "value": "petal_length"
        },
        {
         "text": "petal_width",
         "value": "petal_width"
        },
        {
         "text": "species",
         "value": "species"
        }
       ],
       "index_col": "index",
       "items": [
        {
         "index": 0,
         "petal_length": 1.4,
         "petal_width": 0.2,
         "sepal_length": 5.1,
         "sepal_width": 3.5,
         "species": "setosa"
        },
        {
         "index": 1,
         "petal_length": 1.4,
         "petal_width": 0.2,
         "sepal_length": 4.9,
         "sepal_width": 3,
         "species": "setosa"
        },
        {
         "index": 2,
         "petal_length": 1.3,
         "petal_width": 0.2,
         "sepal_length": 4.7,
         "sepal_width": 3.2,
         "species": "setosa"
        },
        {
         "index": 3,
         "petal_length": 1.5,
         "petal_width": 0.2,
         "sepal_length": 4.6,
         "sepal_width": 3.1,
         "species": "setosa"
        },
        {
         "index": 4,
         "petal_length": 1.4,
         "petal_width": 0.2,
         "sepal_length": 5,
         "sepal_width": 3.6,
         "species": "setosa"
        },
        {
         "index": 5,
         "petal_length": 1.7,
         "petal_width": 0.4,
         "sepal_length": 5.4,
         "sepal_width": 3.9,
         "species": "setosa"
        },
        {
         "index": 6,
         "petal_length": 1.4,
         "petal_width": 0.3,
         "sepal_length": 4.6,
         "sepal_width": 3.4,
         "species": "setosa"
        },
        {
         "index": 7,
         "petal_length": 1.5,
         "petal_width": 0.2,
         "sepal_length": 5,
         "sepal_width": 3.4,
         "species": "setosa"
        },
        {
         "index": 8,
         "petal_length": 1.4,
         "petal_width": 0.2,
         "sepal_length": 4.4,
         "sepal_width": 2.9,
         "species": "setosa"
        },
        {
         "index": 9,
         "petal_length": 1.5,
         "petal_width": 0.1,
         "sepal_length": 4.9,
         "sepal_width": 3.1,
         "species": "setosa"
        },
        {
         "index": 10,
         "petal_length": 1.5,
         "petal_width": 0.2,
         "sepal_length": 5.4,
         "sepal_width": 3.7,
         "species": "setosa"
        },
        {
         "index": 11,
         "petal_length": 1.6,
         "petal_width": 0.2,
         "sepal_length": 4.8,
         "sepal_width": 3.4,
         "species": "setosa"
        },
        {
         "index": 12,
         "petal_length": 1.4,
         "petal_width": 0.1,
         "sepal_length": 4.8,
         "sepal_width": 3,
         "species": "setosa"
        },
        {
         "index": 13,
         "petal_length": 1.1,
         "petal_width": 0.1,
         "sepal_length": 4.3,
         "sepal_width": 3,
         "species": "setosa"
        },
        {
         "index": 14,
         "petal_length": 1.2,
         "petal_width": 0.2,
         "sepal_length": 5.8,
         "sepal_width": 4,
         "species": "setosa"
        },
        {
         "index": 15,
         "petal_length": 1.5,
         "petal_width": 0.4,
         "sepal_length": 5.7,
         "sepal_width": 4.4,
         "species": "setosa"
        },
        {
         "index": 16,
         "petal_length": 1.3,
         "petal_width": 0.4,
         "sepal_length": 5.4,
         "sepal_width": 3.9,
         "species": "setosa"
        },
        {
         "index": 17,
         "petal_length": 1.4,
         "petal_width": 0.3,
         "sepal_length": 5.1,
         "sepal_width": 3.5,
         "species": "setosa"
        },
        {
         "index": 18,
         "petal_length": 1.7,
         "petal_width": 0.3,
         "sepal_length": 5.7,
         "sepal_width": 3.8,
         "species": "setosa"
        },
        {
         "index": 19,
         "petal_length": 1.5,
         "petal_width": 0.3,
         "sepal_length": 5.1,
         "sepal_width": 3.8,
         "species": "setosa"
        },
        {
         "index": 20,
         "petal_length": 1.7,
         "petal_width": 0.2,
         "sepal_length": 5.4,
         "sepal_width": 3.4,
         "species": "setosa"
        },
        {
         "index": 21,
         "petal_length": 1.5,
         "petal_width": 0.4,
         "sepal_length": 5.1,
         "sepal_width": 3.7,
         "species": "setosa"
        },
        {
         "index": 22,
         "petal_length": 1,
         "petal_width": 0.2,
         "sepal_length": 4.6,
         "sepal_width": 3.6,
         "species": "setosa"
        },
        {
         "index": 23,
         "petal_length": 1.7,
         "petal_width": 0.5,
         "sepal_length": 5.1,
         "sepal_width": 3.3,
         "species": "setosa"
        },
        {
         "index": 24,
         "petal_length": 1.9,
         "petal_width": 0.2,
         "sepal_length": 4.8,
         "sepal_width": 3.4,
         "species": "setosa"
        },
        {
         "index": 25,
         "petal_length": 1.6,
         "petal_width": 0.2,
         "sepal_length": 5,
         "sepal_width": 3,
         "species": "setosa"
        },
        {
         "index": 26,
         "petal_length": 1.6,
         "petal_width": 0.4,
         "sepal_length": 5,
         "sepal_width": 3.4,
         "species": "setosa"
        },
        {
         "index": 27,
         "petal_length": 1.5,
         "petal_width": 0.2,
         "sepal_length": 5.2,
         "sepal_width": 3.5,
         "species": "setosa"
        },
        {
         "index": 28,
         "petal_length": 1.4,
         "petal_width": 0.2,
         "sepal_length": 5.2,
         "sepal_width": 3.4,
         "species": "setosa"
        },
        {
         "index": 29,
         "petal_length": 1.6,
         "petal_width": 0.2,
         "sepal_length": 4.7,
         "sepal_width": 3.2,
         "species": "setosa"
        },
        {
         "index": 30,
         "petal_length": 1.6,
         "petal_width": 0.2,
         "sepal_length": 4.8,
         "sepal_width": 3.1,
         "species": "setosa"
        },
        {
         "index": 31,
         "petal_length": 1.5,
         "petal_width": 0.4,
         "sepal_length": 5.4,
         "sepal_width": 3.4,
         "species": "setosa"
        },
        {
         "index": 32,
         "petal_length": 1.5,
         "petal_width": 0.1,
         "sepal_length": 5.2,
         "sepal_width": 4.1,
         "species": "setosa"
        },
        {
         "index": 33,
         "petal_length": 1.4,
         "petal_width": 0.2,
         "sepal_length": 5.5,
         "sepal_width": 4.2,
         "species": "setosa"
        },
        {
         "index": 34,
         "petal_length": 1.5,
         "petal_width": 0.2,
         "sepal_length": 4.9,
         "sepal_width": 3.1,
         "species": "setosa"
        },
        {
         "index": 35,
         "petal_length": 1.2,
         "petal_width": 0.2,
         "sepal_length": 5,
         "sepal_width": 3.2,
         "species": "setosa"
        },
        {
         "index": 36,
         "petal_length": 1.3,
         "petal_width": 0.2,
         "sepal_length": 5.5,
         "sepal_width": 3.5,
         "species": "setosa"
        },
        {
         "index": 37,
         "petal_length": 1.4,
         "petal_width": 0.1,
         "sepal_length": 4.9,
         "sepal_width": 3.6,
         "species": "setosa"
        },
        {
         "index": 38,
         "petal_length": 1.3,
         "petal_width": 0.2,
         "sepal_length": 4.4,
         "sepal_width": 3,
         "species": "setosa"
        },
        {
         "index": 39,
         "petal_length": 1.5,
         "petal_width": 0.2,
         "sepal_length": 5.1,
         "sepal_width": 3.4,
         "species": "setosa"
        },
        {
         "index": 40,
         "petal_length": 1.3,
         "petal_width": 0.3,
         "sepal_length": 5,
         "sepal_width": 3.5,
         "species": "setosa"
        },
        {
         "index": 41,
         "petal_length": 1.3,
         "petal_width": 0.3,
         "sepal_length": 4.5,
         "sepal_width": 2.3,
         "species": "setosa"
        },
        {
         "index": 42,
         "petal_length": 1.3,
         "petal_width": 0.2,
         "sepal_length": 4.4,
         "sepal_width": 3.2,
         "species": "setosa"
        },
        {
         "index": 43,
         "petal_length": 1.6,
         "petal_width": 0.6,
         "sepal_length": 5,
         "sepal_width": 3.5,
         "species": "setosa"
        },
        {
         "index": 44,
         "petal_length": 1.9,
         "petal_width": 0.4,
         "sepal_length": 5.1,
         "sepal_width": 3.8,
         "species": "setosa"
        },
        {
         "index": 45,
         "petal_length": 1.4,
         "petal_width": 0.3,
         "sepal_length": 4.8,
         "sepal_width": 3,
         "species": "setosa"
        },
        {
         "index": 46,
         "petal_length": 1.6,
         "petal_width": 0.2,
         "sepal_length": 5.1,
         "sepal_width": 3.8,
         "species": "setosa"
        },
        {
         "index": 47,
         "petal_length": 1.4,
         "petal_width": 0.2,
         "sepal_length": 4.6,
         "sepal_width": 3.2,
         "species": "setosa"
        },
        {
         "index": 48,
         "petal_length": 1.5,
         "petal_width": 0.2,
         "sepal_length": 5.3,
         "sepal_width": 3.7,
         "species": "setosa"
        },
        {
         "index": 49,
         "petal_length": 1.4,
         "petal_width": 0.2,
         "sepal_length": 5,
         "sepal_width": 3.3,
         "species": "setosa"
        },
        {
         "index": 50,
         "petal_length": 4.7,
         "petal_width": 1.4,
         "sepal_length": 7,
         "sepal_width": 3.2,
         "species": "versicolor"
        },
        {
         "index": 51,
         "petal_length": 4.5,
         "petal_width": 1.5,
         "sepal_length": 6.4,
         "sepal_width": 3.2,
         "species": "versicolor"
        },
        {
         "index": 52,
         "petal_length": 4.9,
         "petal_width": 1.5,
         "sepal_length": 6.9,
         "sepal_width": 3.1,
         "species": "versicolor"
        },
        {
         "index": 53,
         "petal_length": 4,
         "petal_width": 1.3,
         "sepal_length": 5.5,
         "sepal_width": 2.3,
         "species": "versicolor"
        },
        {
         "index": 54,
         "petal_length": 4.6,
         "petal_width": 1.5,
         "sepal_length": 6.5,
         "sepal_width": 2.8,
         "species": "versicolor"
        },
        {
         "index": 55,
         "petal_length": 4.5,
         "petal_width": 1.3,
         "sepal_length": 5.7,
         "sepal_width": 2.8,
         "species": "versicolor"
        },
        {
         "index": 56,
         "petal_length": 4.7,
         "petal_width": 1.6,
         "sepal_length": 6.3,
         "sepal_width": 3.3,
         "species": "versicolor"
        },
        {
         "index": 57,
         "petal_length": 3.3,
         "petal_width": 1,
         "sepal_length": 4.9,
         "sepal_width": 2.4,
         "species": "versicolor"
        },
        {
         "index": 58,
         "petal_length": 4.6,
         "petal_width": 1.3,
         "sepal_length": 6.6,
         "sepal_width": 2.9,
         "species": "versicolor"
        },
        {
         "index": 59,
         "petal_length": 3.9,
         "petal_width": 1.4,
         "sepal_length": 5.2,
         "sepal_width": 2.7,
         "species": "versicolor"
        },
        {
         "index": 60,
         "petal_length": 3.5,
         "petal_width": 1,
         "sepal_length": 5,
         "sepal_width": 2,
         "species": "versicolor"
        },
        {
         "index": 61,
         "petal_length": 4.2,
         "petal_width": 1.5,
         "sepal_length": 5.9,
         "sepal_width": 3,
         "species": "versicolor"
        },
        {
         "index": 62,
         "petal_length": 4,
         "petal_width": 1,
         "sepal_length": 6,
         "sepal_width": 2.2,
         "species": "versicolor"
        },
        {
         "index": 63,
         "petal_length": 4.7,
         "petal_width": 1.4,
         "sepal_length": 6.1,
         "sepal_width": 2.9,
         "species": "versicolor"
        },
        {
         "index": 64,
         "petal_length": 3.6,
         "petal_width": 1.3,
         "sepal_length": 5.6,
         "sepal_width": 2.9,
         "species": "versicolor"
        },
        {
         "index": 65,
         "petal_length": 4.4,
         "petal_width": 1.4,
         "sepal_length": 6.7,
         "sepal_width": 3.1,
         "species": "versicolor"
        },
        {
         "index": 66,
         "petal_length": 4.5,
         "petal_width": 1.5,
         "sepal_length": 5.6,
         "sepal_width": 3,
         "species": "versicolor"
        },
        {
         "index": 67,
         "petal_length": 4.1,
         "petal_width": 1,
         "sepal_length": 5.8,
         "sepal_width": 2.7,
         "species": "versicolor"
        },
        {
         "index": 68,
         "petal_length": 4.5,
         "petal_width": 1.5,
         "sepal_length": 6.2,
         "sepal_width": 2.2,
         "species": "versicolor"
        },
        {
         "index": 69,
         "petal_length": 3.9,
         "petal_width": 1.1,
         "sepal_length": 5.6,
         "sepal_width": 2.5,
         "species": "versicolor"
        },
        {
         "index": 70,
         "petal_length": 4.8,
         "petal_width": 1.8,
         "sepal_length": 5.9,
         "sepal_width": 3.2,
         "species": "versicolor"
        },
        {
         "index": 71,
         "petal_length": 4,
         "petal_width": 1.3,
         "sepal_length": 6.1,
         "sepal_width": 2.8,
         "species": "versicolor"
        },
        {
         "index": 72,
         "petal_length": 4.9,
         "petal_width": 1.5,
         "sepal_length": 6.3,
         "sepal_width": 2.5,
         "species": "versicolor"
        },
        {
         "index": 73,
         "petal_length": 4.7,
         "petal_width": 1.2,
         "sepal_length": 6.1,
         "sepal_width": 2.8,
         "species": "versicolor"
        },
        {
         "index": 74,
         "petal_length": 4.3,
         "petal_width": 1.3,
         "sepal_length": 6.4,
         "sepal_width": 2.9,
         "species": "versicolor"
        },
        {
         "index": 75,
         "petal_length": 4.4,
         "petal_width": 1.4,
         "sepal_length": 6.6,
         "sepal_width": 3,
         "species": "versicolor"
        },
        {
         "index": 76,
         "petal_length": 4.8,
         "petal_width": 1.4,
         "sepal_length": 6.8,
         "sepal_width": 2.8,
         "species": "versicolor"
        },
        {
         "index": 77,
         "petal_length": 5,
         "petal_width": 1.7,
         "sepal_length": 6.7,
         "sepal_width": 3,
         "species": "versicolor"
        },
        {
         "index": 78,
         "petal_length": 4.5,
         "petal_width": 1.5,
         "sepal_length": 6,
         "sepal_width": 2.9,
         "species": "versicolor"
        },
        {
         "index": 79,
         "petal_length": 3.5,
         "petal_width": 1,
         "sepal_length": 5.7,
         "sepal_width": 2.6,
         "species": "versicolor"
        },
        {
         "index": 80,
         "petal_length": 3.8,
         "petal_width": 1.1,
         "sepal_length": 5.5,
         "sepal_width": 2.4,
         "species": "versicolor"
        },
        {
         "index": 81,
         "petal_length": 3.7,
         "petal_width": 1,
         "sepal_length": 5.5,
         "sepal_width": 2.4,
         "species": "versicolor"
        },
        {
         "index": 82,
         "petal_length": 3.9,
         "petal_width": 1.2,
         "sepal_length": 5.8,
         "sepal_width": 2.7,
         "species": "versicolor"
        },
        {
         "index": 83,
         "petal_length": 5.1,
         "petal_width": 1.6,
         "sepal_length": 6,
         "sepal_width": 2.7,
         "species": "versicolor"
        },
        {
         "index": 84,
         "petal_length": 4.5,
         "petal_width": 1.5,
         "sepal_length": 5.4,
         "sepal_width": 3,
         "species": "versicolor"
        },
        {
         "index": 85,
         "petal_length": 4.5,
         "petal_width": 1.6,
         "sepal_length": 6,
         "sepal_width": 3.4,
         "species": "versicolor"
        },
        {
         "index": 86,
         "petal_length": 4.7,
         "petal_width": 1.5,
         "sepal_length": 6.7,
         "sepal_width": 3.1,
         "species": "versicolor"
        },
        {
         "index": 87,
         "petal_length": 4.4,
         "petal_width": 1.3,
         "sepal_length": 6.3,
         "sepal_width": 2.3,
         "species": "versicolor"
        },
        {
         "index": 88,
         "petal_length": 4.1,
         "petal_width": 1.3,
         "sepal_length": 5.6,
         "sepal_width": 3,
         "species": "versicolor"
        },
        {
         "index": 89,
         "petal_length": 4,
         "petal_width": 1.3,
         "sepal_length": 5.5,
         "sepal_width": 2.5,
         "species": "versicolor"
        },
        {
         "index": 90,
         "petal_length": 4.4,
         "petal_width": 1.2,
         "sepal_length": 5.5,
         "sepal_width": 2.6,
         "species": "versicolor"
        },
        {
         "index": 91,
         "petal_length": 4.6,
         "petal_width": 1.4,
         "sepal_length": 6.1,
         "sepal_width": 3,
         "species": "versicolor"
        },
        {
         "index": 92,
         "petal_length": 4,
         "petal_width": 1.2,
         "sepal_length": 5.8,
         "sepal_width": 2.6,
         "species": "versicolor"
        },
        {
         "index": 93,
         "petal_length": 3.3,
         "petal_width": 1,
         "sepal_length": 5,
         "sepal_width": 2.3,
         "species": "versicolor"
        },
        {
         "index": 94,
         "petal_length": 4.2,
         "petal_width": 1.3,
         "sepal_length": 5.6,
         "sepal_width": 2.7,
         "species": "versicolor"
        },
        {
         "index": 95,
         "petal_length": 4.2,
         "petal_width": 1.2,
         "sepal_length": 5.7,
         "sepal_width": 3,
         "species": "versicolor"
        },
        {
         "index": 96,
         "petal_length": 4.2,
         "petal_width": 1.3,
         "sepal_length": 5.7,
         "sepal_width": 2.9,
         "species": "versicolor"
        },
        {
         "index": 97,
         "petal_length": 4.3,
         "petal_width": 1.3,
         "sepal_length": 6.2,
         "sepal_width": 2.9,
         "species": "versicolor"
        },
        {
         "index": 98,
         "petal_length": 3,
         "petal_width": 1.1,
         "sepal_length": 5.1,
         "sepal_width": 2.5,
         "species": "versicolor"
        },
        {
         "index": 99,
         "petal_length": 4.1,
         "petal_width": 1.3,
         "sepal_length": 5.7,
         "sepal_width": 2.8,
         "species": "versicolor"
        },
        {
         "index": 100,
         "petal_length": 6,
         "petal_width": 2.5,
         "sepal_length": 6.3,
         "sepal_width": 3.3,
         "species": "virginica"
        },
        {
         "index": 101,
         "petal_length": 5.1,
         "petal_width": 1.9,
         "sepal_length": 5.8,
         "sepal_width": 2.7,
         "species": "virginica"
        },
        {
         "index": 102,
         "petal_length": 5.9,
         "petal_width": 2.1,
         "sepal_length": 7.1,
         "sepal_width": 3,
         "species": "virginica"
        },
        {
         "index": 103,
         "petal_length": 5.6,
         "petal_width": 1.8,
         "sepal_length": 6.3,
         "sepal_width": 2.9,
         "species": "virginica"
        },
        {
         "index": 104,
         "petal_length": 5.8,
         "petal_width": 2.2,
         "sepal_length": 6.5,
         "sepal_width": 3,
         "species": "virginica"
        },
        {
         "index": 105,
         "petal_length": 6.6,
         "petal_width": 2.1,
         "sepal_length": 7.6,
         "sepal_width": 3,
         "species": "virginica"
        },
        {
         "index": 106,
         "petal_length": 4.5,
         "petal_width": 1.7,
         "sepal_length": 4.9,
         "sepal_width": 2.5,
         "species": "virginica"
        },
        {
         "index": 107,
         "petal_length": 6.3,
         "petal_width": 1.8,
         "sepal_length": 7.3,
         "sepal_width": 2.9,
         "species": "virginica"
        },
        {
         "index": 108,
         "petal_length": 5.8,
         "petal_width": 1.8,
         "sepal_length": 6.7,
         "sepal_width": 2.5,
         "species": "virginica"
        },
        {
         "index": 109,
         "petal_length": 6.1,
         "petal_width": 2.5,
         "sepal_length": 7.2,
         "sepal_width": 3.6,
         "species": "virginica"
        },
        {
         "index": 110,
         "petal_length": 5.1,
         "petal_width": 2,
         "sepal_length": 6.5,
         "sepal_width": 3.2,
         "species": "virginica"
        },
        {
         "index": 111,
         "petal_length": 5.3,
         "petal_width": 1.9,
         "sepal_length": 6.4,
         "sepal_width": 2.7,
         "species": "virginica"
        },
        {
         "index": 112,
         "petal_length": 5.5,
         "petal_width": 2.1,
         "sepal_length": 6.8,
         "sepal_width": 3,
         "species": "virginica"
        },
        {
         "index": 113,
         "petal_length": 5,
         "petal_width": 2,
         "sepal_length": 5.7,
         "sepal_width": 2.5,
         "species": "virginica"
        },
        {
         "index": 114,
         "petal_length": 5.1,
         "petal_width": 2.4,
         "sepal_length": 5.8,
         "sepal_width": 2.8,
         "species": "virginica"
        },
        {
         "index": 115,
         "petal_length": 5.3,
         "petal_width": 2.3,
         "sepal_length": 6.4,
         "sepal_width": 3.2,
         "species": "virginica"
        },
        {
         "index": 116,
         "petal_length": 5.5,
         "petal_width": 1.8,
         "sepal_length": 6.5,
         "sepal_width": 3,
         "species": "virginica"
        },
        {
         "index": 117,
         "petal_length": 6.7,
         "petal_width": 2.2,
         "sepal_length": 7.7,
         "sepal_width": 3.8,
         "species": "virginica"
        },
        {
         "index": 118,
         "petal_length": 6.9,
         "petal_width": 2.3,
         "sepal_length": 7.7,
         "sepal_width": 2.6,
         "species": "virginica"
        },
        {
         "index": 119,
         "petal_length": 5,
         "petal_width": 1.5,
         "sepal_length": 6,
         "sepal_width": 2.2,
         "species": "virginica"
        },
        {
         "index": 120,
         "petal_length": 5.7,
         "petal_width": 2.3,
         "sepal_length": 6.9,
         "sepal_width": 3.2,
         "species": "virginica"
        },
        {
         "index": 121,
         "petal_length": 4.9,
         "petal_width": 2,
         "sepal_length": 5.6,
         "sepal_width": 2.8,
         "species": "virginica"
        },
        {
         "index": 122,
         "petal_length": 6.7,
         "petal_width": 2,
         "sepal_length": 7.7,
         "sepal_width": 2.8,
         "species": "virginica"
        },
        {
         "index": 123,
         "petal_length": 4.9,
         "petal_width": 1.8,
         "sepal_length": 6.3,
         "sepal_width": 2.7,
         "species": "virginica"
        },
        {
         "index": 124,
         "petal_length": 5.7,
         "petal_width": 2.1,
         "sepal_length": 6.7,
         "sepal_width": 3.3,
         "species": "virginica"
        },
        {
         "index": 125,
         "petal_length": 6,
         "petal_width": 1.8,
         "sepal_length": 7.2,
         "sepal_width": 3.2,
         "species": "virginica"
        },
        {
         "index": 126,
         "petal_length": 4.8,
         "petal_width": 1.8,
         "sepal_length": 6.2,
         "sepal_width": 2.8,
         "species": "virginica"
        },
        {
         "index": 127,
         "petal_length": 4.9,
         "petal_width": 1.8,
         "sepal_length": 6.1,
         "sepal_width": 3,
         "species": "virginica"
        },
        {
         "index": 128,
         "petal_length": 5.6,
         "petal_width": 2.1,
         "sepal_length": 6.4,
         "sepal_width": 2.8,
         "species": "virginica"
        },
        {
         "index": 129,
         "petal_length": 5.8,
         "petal_width": 1.6,
         "sepal_length": 7.2,
         "sepal_width": 3,
         "species": "virginica"
        },
        {
         "index": 130,
         "petal_length": 6.1,
         "petal_width": 1.9,
         "sepal_length": 7.4,
         "sepal_width": 2.8,
         "species": "virginica"
        },
        {
         "index": 131,
         "petal_length": 6.4,
         "petal_width": 2,
         "sepal_length": 7.9,
         "sepal_width": 3.8,
         "species": "virginica"
        },
        {
         "index": 132,
         "petal_length": 5.6,
         "petal_width": 2.2,
         "sepal_length": 6.4,
         "sepal_width": 2.8,
         "species": "virginica"
        },
        {
         "index": 133,
         "petal_length": 5.1,
         "petal_width": 1.5,
         "sepal_length": 6.3,
         "sepal_width": 2.8,
         "species": "virginica"
        },
        {
         "index": 134,
         "petal_length": 5.6,
         "petal_width": 1.4,
         "sepal_length": 6.1,
         "sepal_width": 2.6,
         "species": "virginica"
        },
        {
         "index": 135,
         "petal_length": 6.1,
         "petal_width": 2.3,
         "sepal_length": 7.7,
         "sepal_width": 3,
         "species": "virginica"
        },
        {
         "index": 136,
         "petal_length": 5.6,
         "petal_width": 2.4,
         "sepal_length": 6.3,
         "sepal_width": 3.4,
         "species": "virginica"
        },
        {
         "index": 137,
         "petal_length": 5.5,
         "petal_width": 1.8,
         "sepal_length": 6.4,
         "sepal_width": 3.1,
         "species": "virginica"
        },
        {
         "index": 138,
         "petal_length": 4.8,
         "petal_width": 1.8,
         "sepal_length": 6,
         "sepal_width": 3,
         "species": "virginica"
        },
        {
         "index": 139,
         "petal_length": 5.4,
         "petal_width": 2.1,
         "sepal_length": 6.9,
         "sepal_width": 3.1,
         "species": "virginica"
        },
        {
         "index": 140,
         "petal_length": 5.6,
         "petal_width": 2.4,
         "sepal_length": 6.7,
         "sepal_width": 3.1,
         "species": "virginica"
        },
        {
         "index": 141,
         "petal_length": 5.1,
         "petal_width": 2.3,
         "sepal_length": 6.9,
         "sepal_width": 3.1,
         "species": "virginica"
        },
        {
         "index": 142,
         "petal_length": 5.1,
         "petal_width": 1.9,
         "sepal_length": 5.8,
         "sepal_width": 2.7,
         "species": "virginica"
        },
        {
         "index": 143,
         "petal_length": 5.9,
         "petal_width": 2.3,
         "sepal_length": 6.8,
         "sepal_width": 3.2,
         "species": "virginica"
        },
        {
         "index": 144,
         "petal_length": 5.7,
         "petal_width": 2.5,
         "sepal_length": 6.7,
         "sepal_width": 3.3,
         "species": "virginica"
        },
        {
         "index": 145,
         "petal_length": 5.2,
         "petal_width": 2.3,
         "sepal_length": 6.7,
         "sepal_width": 3,
         "species": "virginica"
        },
        {
         "index": 146,
         "petal_length": 5,
         "petal_width": 1.9,
         "sepal_length": 6.3,
         "sepal_width": 2.5,
         "species": "virginica"
        },
        {
         "index": 147,
         "petal_length": 5.2,
         "petal_width": 2,
         "sepal_length": 6.5,
         "sepal_width": 3,
         "species": "virginica"
        },
        {
         "index": 148,
         "petal_length": 5.4,
         "petal_width": 2.3,
         "sepal_length": 6.2,
         "sepal_width": 3.4,
         "species": "virginica"
        },
        {
         "index": 149,
         "petal_length": 5.1,
         "petal_width": 1.8,
         "sepal_length": 5.9,
         "sepal_width": 3,
         "species": "virginica"
        }
       ],
       "layout": "IPY_MODEL_d5438ea9079c45a49ffbb7a061e7a4fe",
       "search": "",
       "template": "\n        <template>\n          <v-card>\n            <v-card-title>\n              <span class=\"title font-weight-bold\">{{ title }}</span>\n              <v-spacer></v-spacer>\n                <v-text-field\n                    v-model=\"search\"\n                    append-icon=\"search\"\n                    label=\"Search ...\"\n                    single-line\n                    hide-details\n                ></v-text-field>\n            </v-card-title>\n            <v-data-table\n                :headers=\"headers\"\n                :items=\"items\"\n                :search=\"search\"\n                :item-key=\"index_col\"\n                :rows-per-page-items=\"[25, 50, 250, 500]\"\n            >\n                <template v-slot:no-data>\n                  <v-alert :value=\"true\" color=\"error\" icon=\"warning\">\n                    Sorry, nothing to display here :(\n                  </v-alert>\n                </template>\n                <template v-slot:no-results>\n                    <v-alert :value=\"true\" color=\"error\" icon=\"warning\">\n                      Your search for \"{{ search }}\" found no results.\n                    </v-alert>\n                </template>\n                <template v-slot:items=\"rows\">\n                  <td v-for=\"(element, label, index) in rows.item\"\n                      @click=cell_click(element)\n                      >\n                    {{ element }}\n                  </td>\n                </template>\n            </v-data-table>\n          </v-card>\n        </template>\n        ",
       "title": "Iris"
      }
     },
     "addeec28a06b40eb90441859c2947f80": {
      "model_module": "jupyter-vuetify",
      "model_module_version": "^0.1.11",
      "model_name": "BtnModel",
      "state": {
       "_events": [],
       "children": [
        "primary"
       ],
       "color": "primary",
       "href": null,
       "layout": "IPY_MODEL_99ddf7aca2454a22b407fc367ae597e9",
       "ripple": null,
       "to": null
      }
     },
     "ae4c2bf0dacc403c86494868afec816f": {
      "model_module": "@jupyter-widgets/base",
      "model_module_version": "1.2.0",
      "model_name": "LayoutModel",
      "state": {}
     },
     "af6972cfe45f44808199f0888ef65ffc": {
      "model_module": "@jupyter-widgets/base",
      "model_module_version": "1.2.0",
      "model_name": "LayoutModel",
      "state": {}
     },
     "af88032e91124e83a4e0d76edda746f9": {
      "model_module": "@jupyter-widgets/base",
      "model_module_version": "1.2.0",
      "model_name": "LayoutModel",
      "state": {}
     },
     "b1862fd4ab614b56a83c752cb90ab81d": {
      "model_module": "jupyter-vuetify",
      "model_module_version": "^0.1.11",
      "model_name": "TabModel",
      "state": {
       "_events": [],
       "children": [
        "Tab 2"
       ],
       "href": null,
       "layout": "IPY_MODEL_221a294ec5e845528efd22b24a187338",
       "ripple": null,
       "to": null
      }
     },
     "b1c27e04816c460a9100e585255965ab": {
      "model_module": "@jupyter-widgets/base",
      "model_module_version": "1.2.0",
      "model_name": "LayoutModel",
      "state": {}
     },
     "b1e9211710cf4fbdabddfa3c7c39e52a": {
      "model_module": "@jupyter-widgets/base",
      "model_module_version": "1.2.0",
      "model_name": "LayoutModel",
      "state": {}
     },
     "b264077389f646b9be195b18ead08250": {
      "model_module": "jupyter-vuetify",
      "model_module_version": "^0.1.11",
      "model_name": "BtnModel",
      "state": {
       "_events": [],
       "children": [
        "outline"
       ],
       "color": "primary",
       "href": null,
       "layout": "IPY_MODEL_b51493f6f8b74232a6a4185d9d02fa9c",
       "outline": true,
       "ripple": null,
       "to": null
      }
     },
     "b4350952c6c0454c8aaba07517f03b9a": {
      "model_module": "@jupyter-widgets/base",
      "model_module_version": "1.2.0",
      "model_name": "LayoutModel",
      "state": {}
     },
     "b4a28d4aa775497ba4f3bde2e4274a05": {
      "model_module": "@jupyter-widgets/base",
      "model_module_version": "1.2.0",
      "model_name": "LayoutModel",
      "state": {}
     },
     "b4f3f0fd91374bd080b6300b599dc277": {
      "model_module": "@jupyter-widgets/base",
      "model_module_version": "1.2.0",
      "model_name": "LayoutModel",
      "state": {}
     },
     "b50d8a8f6f10408fb0a5cce5e5c84654": {
      "model_module": "@jupyter-widgets/base",
      "model_module_version": "1.2.0",
      "model_name": "LayoutModel",
      "state": {}
     },
     "b51493f6f8b74232a6a4185d9d02fa9c": {
      "model_module": "@jupyter-widgets/base",
      "model_module_version": "1.2.0",
      "model_name": "LayoutModel",
      "state": {}
     },
     "b59b13b8a921422bb6c6a468e09ae72d": {
      "model_module": "@jupyter-widgets/base",
      "model_module_version": "1.2.0",
      "model_name": "LayoutModel",
      "state": {}
     },
     "b5a293b52970425ba1706b5518dd2acd": {
      "model_module": "jupyter-vuetify",
      "model_module_version": "^0.1.11",
      "model_name": "ListTileModel",
      "state": {
       "_events": [
        "click"
       ],
       "children": [
        "IPY_MODEL_525d0a409b5c4020a35a2593f469205f"
       ],
       "href": null,
       "layout": "IPY_MODEL_46563508afd8453ea6a8561f9138e3c5",
       "ripple": null,
       "to": null
      }
     },
     "b5ba366a329e4798b72f4e55ca9f002f": {
      "model_module": "jupyter-vuetify",
      "model_module_version": "^0.1.11",
      "model_name": "BtnModel",
      "state": {
       "_events": [],
       "children": [
        "primary"
       ],
       "color": "primary",
       "href": null,
       "layout": "IPY_MODEL_3b7c2f175a444307995badcfa8456375",
       "ripple": null,
       "to": null
      }
     },
     "b5bdddcf362541e19f92d4e84b8adb99": {
      "model_module": "@jupyter-widgets/base",
      "model_module_version": "1.2.0",
      "model_name": "LayoutModel",
      "state": {}
     },
     "b624dd95381a458e8ca375cf506d2512": {
      "model_module": "jupyter-vuetify",
      "model_module_version": "^0.1.11",
      "model_name": "TooltipModel",
      "state": {
       "_events": [],
       "bottom": true,
       "children": [
        "IPY_MODEL_7589b73da76941f0b66708c1b00e2447",
        "Insert tooltip text here"
       ],
       "close_delay": null,
       "debounce": null,
       "layout": "IPY_MODEL_5c48614cab2e4ec49da2d21fbefef087",
       "max_width": null,
       "min_width": null,
       "nudge_bottom": null,
       "nudge_left": null,
       "nudge_right": null,
       "nudge_top": null,
       "nudge_width": null,
       "open_delay": null
      }
     },
     "b6e57a6209f04438ad0b9c5e0abf3428": {
      "model_module": "@jupyter-widgets/base",
      "model_module_version": "1.2.0",
      "model_name": "LayoutModel",
      "state": {}
     },
     "b6fc5a6da4954ce88199b86270f8f071": {
      "model_module": "@jupyter-widgets/base",
      "model_module_version": "1.2.0",
      "model_name": "LayoutModel",
      "state": {}
     },
     "b8187134300b4119a734fe8c2c498479": {
      "model_module": "@jupyter-widgets/base",
      "model_module_version": "1.2.0",
      "model_name": "LayoutModel",
      "state": {}
     },
     "b85ee2701945468ba21cbaced660ead9": {
      "model_module": "@jupyter-widgets/base",
      "model_module_version": "1.2.0",
      "model_name": "LayoutModel",
      "state": {}
     },
     "b89e3c97daea433bacb0e2d2abcc629d": {
      "model_module": "@jupyter-widgets/base",
      "model_module_version": "1.2.0",
      "model_name": "LayoutModel",
      "state": {}
     },
     "b9e26d524c2147bd84e14acbafc50cf1": {
      "model_module": "@jupyter-widgets/base",
      "model_module_version": "1.2.0",
      "model_name": "LayoutModel",
      "state": {}
     },
     "ba088839275a4d5ea9baf9324fa88a1b": {
      "model_module": "@jupyter-widgets/base",
      "model_module_version": "1.2.0",
      "model_name": "LayoutModel",
      "state": {}
     },
     "ba1476cfd5274ca1937b3ae1ce3ec1be": {
      "model_module": "jupyter-vuetify",
      "model_module_version": "^0.1.11",
      "model_name": "SliderModel",
      "state": {
       "_events": [],
       "children": [],
       "error_count": null,
       "error_messages": null,
       "height": null,
       "layout": "IPY_MODEL_ec86ad97016a435aa593f9e498a769e9",
       "loading": null,
       "max": null,
       "messages": null,
       "min": null,
       "rules": [],
       "step": null,
       "success_messages": null,
       "thumb_label": true,
       "thumb_size": null,
       "tick_labels": [],
       "tick_size": null,
       "ticks": null,
       "v_model": 25,
       "value": null
      }
     },
     "ba2ccd75a6304743b3023d96a303a60f": {
      "model_module": "jupyter-vuetify",
      "model_module_version": "^0.1.11",
      "model_name": "VuetifyTemplateModel",
      "state": {
       "_model_module_version": "^0.1.11",
       "_view_module_version": "^0.1.11",
       "_view_name": "VuetifyView",
       "components": null,
       "events": [],
       "headers": [
        {
         "align": "left",
         "sortable": true,
         "text": "index",
         "value": "index"
        },
        {
         "text": "sepal_length",
         "value": "sepal_length"
        },
        {
         "text": "sepal_width",
         "value": "sepal_width"
        },
        {
         "text": "petal_length",
         "value": "petal_length"
        },
        {
         "text": "petal_width",
         "value": "petal_width"
        },
        {
         "text": "species",
         "value": "species"
        }
       ],
       "index_col": "index",
       "items": [
        {
         "index": 0,
         "petal_length": 1.4,
         "petal_width": 0.2,
         "sepal_length": 5.1,
         "sepal_width": 3.5,
         "species": "setosa"
        },
        {
         "index": 1,
         "petal_length": 1.4,
         "petal_width": 0.2,
         "sepal_length": 4.9,
         "sepal_width": 3,
         "species": "setosa"
        },
        {
         "index": 2,
         "petal_length": 1.3,
         "petal_width": 0.2,
         "sepal_length": 4.7,
         "sepal_width": 3.2,
         "species": "setosa"
        },
        {
         "index": 3,
         "petal_length": 1.5,
         "petal_width": 0.2,
         "sepal_length": 4.6,
         "sepal_width": 3.1,
         "species": "setosa"
        },
        {
         "index": 4,
         "petal_length": 1.4,
         "petal_width": 0.2,
         "sepal_length": 5,
         "sepal_width": 3.6,
         "species": "setosa"
        },
        {
         "index": 5,
         "petal_length": 1.7,
         "petal_width": 0.4,
         "sepal_length": 5.4,
         "sepal_width": 3.9,
         "species": "setosa"
        },
        {
         "index": 6,
         "petal_length": 1.4,
         "petal_width": 0.3,
         "sepal_length": 4.6,
         "sepal_width": 3.4,
         "species": "setosa"
        },
        {
         "index": 7,
         "petal_length": 1.5,
         "petal_width": 0.2,
         "sepal_length": 5,
         "sepal_width": 3.4,
         "species": "setosa"
        },
        {
         "index": 8,
         "petal_length": 1.4,
         "petal_width": 0.2,
         "sepal_length": 4.4,
         "sepal_width": 2.9,
         "species": "setosa"
        },
        {
         "index": 9,
         "petal_length": 1.5,
         "petal_width": 0.1,
         "sepal_length": 4.9,
         "sepal_width": 3.1,
         "species": "setosa"
        },
        {
         "index": 10,
         "petal_length": 1.5,
         "petal_width": 0.2,
         "sepal_length": 5.4,
         "sepal_width": 3.7,
         "species": "setosa"
        },
        {
         "index": 11,
         "petal_length": 1.6,
         "petal_width": 0.2,
         "sepal_length": 4.8,
         "sepal_width": 3.4,
         "species": "setosa"
        },
        {
         "index": 12,
         "petal_length": 1.4,
         "petal_width": 0.1,
         "sepal_length": 4.8,
         "sepal_width": 3,
         "species": "setosa"
        },
        {
         "index": 13,
         "petal_length": 1.1,
         "petal_width": 0.1,
         "sepal_length": 4.3,
         "sepal_width": 3,
         "species": "setosa"
        },
        {
         "index": 14,
         "petal_length": 1.2,
         "petal_width": 0.2,
         "sepal_length": 5.8,
         "sepal_width": 4,
         "species": "setosa"
        },
        {
         "index": 15,
         "petal_length": 1.5,
         "petal_width": 0.4,
         "sepal_length": 5.7,
         "sepal_width": 4.4,
         "species": "setosa"
        },
        {
         "index": 16,
         "petal_length": 1.3,
         "petal_width": 0.4,
         "sepal_length": 5.4,
         "sepal_width": 3.9,
         "species": "setosa"
        },
        {
         "index": 17,
         "petal_length": 1.4,
         "petal_width": 0.3,
         "sepal_length": 5.1,
         "sepal_width": 3.5,
         "species": "setosa"
        },
        {
         "index": 18,
         "petal_length": 1.7,
         "petal_width": 0.3,
         "sepal_length": 5.7,
         "sepal_width": 3.8,
         "species": "setosa"
        },
        {
         "index": 19,
         "petal_length": 1.5,
         "petal_width": 0.3,
         "sepal_length": 5.1,
         "sepal_width": 3.8,
         "species": "setosa"
        },
        {
         "index": 20,
         "petal_length": 1.7,
         "petal_width": 0.2,
         "sepal_length": 5.4,
         "sepal_width": 3.4,
         "species": "setosa"
        },
        {
         "index": 21,
         "petal_length": 1.5,
         "petal_width": 0.4,
         "sepal_length": 5.1,
         "sepal_width": 3.7,
         "species": "setosa"
        },
        {
         "index": 22,
         "petal_length": 1,
         "petal_width": 0.2,
         "sepal_length": 4.6,
         "sepal_width": 3.6,
         "species": "setosa"
        },
        {
         "index": 23,
         "petal_length": 1.7,
         "petal_width": 0.5,
         "sepal_length": 5.1,
         "sepal_width": 3.3,
         "species": "setosa"
        },
        {
         "index": 24,
         "petal_length": 1.9,
         "petal_width": 0.2,
         "sepal_length": 4.8,
         "sepal_width": 3.4,
         "species": "setosa"
        },
        {
         "index": 25,
         "petal_length": 1.6,
         "petal_width": 0.2,
         "sepal_length": 5,
         "sepal_width": 3,
         "species": "setosa"
        },
        {
         "index": 26,
         "petal_length": 1.6,
         "petal_width": 0.4,
         "sepal_length": 5,
         "sepal_width": 3.4,
         "species": "setosa"
        },
        {
         "index": 27,
         "petal_length": 1.5,
         "petal_width": 0.2,
         "sepal_length": 5.2,
         "sepal_width": 3.5,
         "species": "setosa"
        },
        {
         "index": 28,
         "petal_length": 1.4,
         "petal_width": 0.2,
         "sepal_length": 5.2,
         "sepal_width": 3.4,
         "species": "setosa"
        },
        {
         "index": 29,
         "petal_length": 1.6,
         "petal_width": 0.2,
         "sepal_length": 4.7,
         "sepal_width": 3.2,
         "species": "setosa"
        },
        {
         "index": 30,
         "petal_length": 1.6,
         "petal_width": 0.2,
         "sepal_length": 4.8,
         "sepal_width": 3.1,
         "species": "setosa"
        },
        {
         "index": 31,
         "petal_length": 1.5,
         "petal_width": 0.4,
         "sepal_length": 5.4,
         "sepal_width": 3.4,
         "species": "setosa"
        },
        {
         "index": 32,
         "petal_length": 1.5,
         "petal_width": 0.1,
         "sepal_length": 5.2,
         "sepal_width": 4.1,
         "species": "setosa"
        },
        {
         "index": 33,
         "petal_length": 1.4,
         "petal_width": 0.2,
         "sepal_length": 5.5,
         "sepal_width": 4.2,
         "species": "setosa"
        },
        {
         "index": 34,
         "petal_length": 1.5,
         "petal_width": 0.2,
         "sepal_length": 4.9,
         "sepal_width": 3.1,
         "species": "setosa"
        },
        {
         "index": 35,
         "petal_length": 1.2,
         "petal_width": 0.2,
         "sepal_length": 5,
         "sepal_width": 3.2,
         "species": "setosa"
        },
        {
         "index": 36,
         "petal_length": 1.3,
         "petal_width": 0.2,
         "sepal_length": 5.5,
         "sepal_width": 3.5,
         "species": "setosa"
        },
        {
         "index": 37,
         "petal_length": 1.4,
         "petal_width": 0.1,
         "sepal_length": 4.9,
         "sepal_width": 3.6,
         "species": "setosa"
        },
        {
         "index": 38,
         "petal_length": 1.3,
         "petal_width": 0.2,
         "sepal_length": 4.4,
         "sepal_width": 3,
         "species": "setosa"
        },
        {
         "index": 39,
         "petal_length": 1.5,
         "petal_width": 0.2,
         "sepal_length": 5.1,
         "sepal_width": 3.4,
         "species": "setosa"
        },
        {
         "index": 40,
         "petal_length": 1.3,
         "petal_width": 0.3,
         "sepal_length": 5,
         "sepal_width": 3.5,
         "species": "setosa"
        },
        {
         "index": 41,
         "petal_length": 1.3,
         "petal_width": 0.3,
         "sepal_length": 4.5,
         "sepal_width": 2.3,
         "species": "setosa"
        },
        {
         "index": 42,
         "petal_length": 1.3,
         "petal_width": 0.2,
         "sepal_length": 4.4,
         "sepal_width": 3.2,
         "species": "setosa"
        },
        {
         "index": 43,
         "petal_length": 1.6,
         "petal_width": 0.6,
         "sepal_length": 5,
         "sepal_width": 3.5,
         "species": "setosa"
        },
        {
         "index": 44,
         "petal_length": 1.9,
         "petal_width": 0.4,
         "sepal_length": 5.1,
         "sepal_width": 3.8,
         "species": "setosa"
        },
        {
         "index": 45,
         "petal_length": 1.4,
         "petal_width": 0.3,
         "sepal_length": 4.8,
         "sepal_width": 3,
         "species": "setosa"
        },
        {
         "index": 46,
         "petal_length": 1.6,
         "petal_width": 0.2,
         "sepal_length": 5.1,
         "sepal_width": 3.8,
         "species": "setosa"
        },
        {
         "index": 47,
         "petal_length": 1.4,
         "petal_width": 0.2,
         "sepal_length": 4.6,
         "sepal_width": 3.2,
         "species": "setosa"
        },
        {
         "index": 48,
         "petal_length": 1.5,
         "petal_width": 0.2,
         "sepal_length": 5.3,
         "sepal_width": 3.7,
         "species": "setosa"
        },
        {
         "index": 49,
         "petal_length": 1.4,
         "petal_width": 0.2,
         "sepal_length": 5,
         "sepal_width": 3.3,
         "species": "setosa"
        },
        {
         "index": 50,
         "petal_length": 4.7,
         "petal_width": 1.4,
         "sepal_length": 7,
         "sepal_width": 3.2,
         "species": "versicolor"
        },
        {
         "index": 51,
         "petal_length": 4.5,
         "petal_width": 1.5,
         "sepal_length": 6.4,
         "sepal_width": 3.2,
         "species": "versicolor"
        },
        {
         "index": 52,
         "petal_length": 4.9,
         "petal_width": 1.5,
         "sepal_length": 6.9,
         "sepal_width": 3.1,
         "species": "versicolor"
        },
        {
         "index": 53,
         "petal_length": 4,
         "petal_width": 1.3,
         "sepal_length": 5.5,
         "sepal_width": 2.3,
         "species": "versicolor"
        },
        {
         "index": 54,
         "petal_length": 4.6,
         "petal_width": 1.5,
         "sepal_length": 6.5,
         "sepal_width": 2.8,
         "species": "versicolor"
        },
        {
         "index": 55,
         "petal_length": 4.5,
         "petal_width": 1.3,
         "sepal_length": 5.7,
         "sepal_width": 2.8,
         "species": "versicolor"
        },
        {
         "index": 56,
         "petal_length": 4.7,
         "petal_width": 1.6,
         "sepal_length": 6.3,
         "sepal_width": 3.3,
         "species": "versicolor"
        },
        {
         "index": 57,
         "petal_length": 3.3,
         "petal_width": 1,
         "sepal_length": 4.9,
         "sepal_width": 2.4,
         "species": "versicolor"
        },
        {
         "index": 58,
         "petal_length": 4.6,
         "petal_width": 1.3,
         "sepal_length": 6.6,
         "sepal_width": 2.9,
         "species": "versicolor"
        },
        {
         "index": 59,
         "petal_length": 3.9,
         "petal_width": 1.4,
         "sepal_length": 5.2,
         "sepal_width": 2.7,
         "species": "versicolor"
        },
        {
         "index": 60,
         "petal_length": 3.5,
         "petal_width": 1,
         "sepal_length": 5,
         "sepal_width": 2,
         "species": "versicolor"
        },
        {
         "index": 61,
         "petal_length": 4.2,
         "petal_width": 1.5,
         "sepal_length": 5.9,
         "sepal_width": 3,
         "species": "versicolor"
        },
        {
         "index": 62,
         "petal_length": 4,
         "petal_width": 1,
         "sepal_length": 6,
         "sepal_width": 2.2,
         "species": "versicolor"
        },
        {
         "index": 63,
         "petal_length": 4.7,
         "petal_width": 1.4,
         "sepal_length": 6.1,
         "sepal_width": 2.9,
         "species": "versicolor"
        },
        {
         "index": 64,
         "petal_length": 3.6,
         "petal_width": 1.3,
         "sepal_length": 5.6,
         "sepal_width": 2.9,
         "species": "versicolor"
        },
        {
         "index": 65,
         "petal_length": 4.4,
         "petal_width": 1.4,
         "sepal_length": 6.7,
         "sepal_width": 3.1,
         "species": "versicolor"
        },
        {
         "index": 66,
         "petal_length": 4.5,
         "petal_width": 1.5,
         "sepal_length": 5.6,
         "sepal_width": 3,
         "species": "versicolor"
        },
        {
         "index": 67,
         "petal_length": 4.1,
         "petal_width": 1,
         "sepal_length": 5.8,
         "sepal_width": 2.7,
         "species": "versicolor"
        },
        {
         "index": 68,
         "petal_length": 4.5,
         "petal_width": 1.5,
         "sepal_length": 6.2,
         "sepal_width": 2.2,
         "species": "versicolor"
        },
        {
         "index": 69,
         "petal_length": 3.9,
         "petal_width": 1.1,
         "sepal_length": 5.6,
         "sepal_width": 2.5,
         "species": "versicolor"
        },
        {
         "index": 70,
         "petal_length": 4.8,
         "petal_width": 1.8,
         "sepal_length": 5.9,
         "sepal_width": 3.2,
         "species": "versicolor"
        },
        {
         "index": 71,
         "petal_length": 4,
         "petal_width": 1.3,
         "sepal_length": 6.1,
         "sepal_width": 2.8,
         "species": "versicolor"
        },
        {
         "index": 72,
         "petal_length": 4.9,
         "petal_width": 1.5,
         "sepal_length": 6.3,
         "sepal_width": 2.5,
         "species": "versicolor"
        },
        {
         "index": 73,
         "petal_length": 4.7,
         "petal_width": 1.2,
         "sepal_length": 6.1,
         "sepal_width": 2.8,
         "species": "versicolor"
        },
        {
         "index": 74,
         "petal_length": 4.3,
         "petal_width": 1.3,
         "sepal_length": 6.4,
         "sepal_width": 2.9,
         "species": "versicolor"
        },
        {
         "index": 75,
         "petal_length": 4.4,
         "petal_width": 1.4,
         "sepal_length": 6.6,
         "sepal_width": 3,
         "species": "versicolor"
        },
        {
         "index": 76,
         "petal_length": 4.8,
         "petal_width": 1.4,
         "sepal_length": 6.8,
         "sepal_width": 2.8,
         "species": "versicolor"
        },
        {
         "index": 77,
         "petal_length": 5,
         "petal_width": 1.7,
         "sepal_length": 6.7,
         "sepal_width": 3,
         "species": "versicolor"
        },
        {
         "index": 78,
         "petal_length": 4.5,
         "petal_width": 1.5,
         "sepal_length": 6,
         "sepal_width": 2.9,
         "species": "versicolor"
        },
        {
         "index": 79,
         "petal_length": 3.5,
         "petal_width": 1,
         "sepal_length": 5.7,
         "sepal_width": 2.6,
         "species": "versicolor"
        },
        {
         "index": 80,
         "petal_length": 3.8,
         "petal_width": 1.1,
         "sepal_length": 5.5,
         "sepal_width": 2.4,
         "species": "versicolor"
        },
        {
         "index": 81,
         "petal_length": 3.7,
         "petal_width": 1,
         "sepal_length": 5.5,
         "sepal_width": 2.4,
         "species": "versicolor"
        },
        {
         "index": 82,
         "petal_length": 3.9,
         "petal_width": 1.2,
         "sepal_length": 5.8,
         "sepal_width": 2.7,
         "species": "versicolor"
        },
        {
         "index": 83,
         "petal_length": 5.1,
         "petal_width": 1.6,
         "sepal_length": 6,
         "sepal_width": 2.7,
         "species": "versicolor"
        },
        {
         "index": 84,
         "petal_length": 4.5,
         "petal_width": 1.5,
         "sepal_length": 5.4,
         "sepal_width": 3,
         "species": "versicolor"
        },
        {
         "index": 85,
         "petal_length": 4.5,
         "petal_width": 1.6,
         "sepal_length": 6,
         "sepal_width": 3.4,
         "species": "versicolor"
        },
        {
         "index": 86,
         "petal_length": 4.7,
         "petal_width": 1.5,
         "sepal_length": 6.7,
         "sepal_width": 3.1,
         "species": "versicolor"
        },
        {
         "index": 87,
         "petal_length": 4.4,
         "petal_width": 1.3,
         "sepal_length": 6.3,
         "sepal_width": 2.3,
         "species": "versicolor"
        },
        {
         "index": 88,
         "petal_length": 4.1,
         "petal_width": 1.3,
         "sepal_length": 5.6,
         "sepal_width": 3,
         "species": "versicolor"
        },
        {
         "index": 89,
         "petal_length": 4,
         "petal_width": 1.3,
         "sepal_length": 5.5,
         "sepal_width": 2.5,
         "species": "versicolor"
        },
        {
         "index": 90,
         "petal_length": 4.4,
         "petal_width": 1.2,
         "sepal_length": 5.5,
         "sepal_width": 2.6,
         "species": "versicolor"
        },
        {
         "index": 91,
         "petal_length": 4.6,
         "petal_width": 1.4,
         "sepal_length": 6.1,
         "sepal_width": 3,
         "species": "versicolor"
        },
        {
         "index": 92,
         "petal_length": 4,
         "petal_width": 1.2,
         "sepal_length": 5.8,
         "sepal_width": 2.6,
         "species": "versicolor"
        },
        {
         "index": 93,
         "petal_length": 3.3,
         "petal_width": 1,
         "sepal_length": 5,
         "sepal_width": 2.3,
         "species": "versicolor"
        },
        {
         "index": 94,
         "petal_length": 4.2,
         "petal_width": 1.3,
         "sepal_length": 5.6,
         "sepal_width": 2.7,
         "species": "versicolor"
        },
        {
         "index": 95,
         "petal_length": 4.2,
         "petal_width": 1.2,
         "sepal_length": 5.7,
         "sepal_width": 3,
         "species": "versicolor"
        },
        {
         "index": 96,
         "petal_length": 4.2,
         "petal_width": 1.3,
         "sepal_length": 5.7,
         "sepal_width": 2.9,
         "species": "versicolor"
        },
        {
         "index": 97,
         "petal_length": 4.3,
         "petal_width": 1.3,
         "sepal_length": 6.2,
         "sepal_width": 2.9,
         "species": "versicolor"
        },
        {
         "index": 98,
         "petal_length": 3,
         "petal_width": 1.1,
         "sepal_length": 5.1,
         "sepal_width": 2.5,
         "species": "versicolor"
        },
        {
         "index": 99,
         "petal_length": 4.1,
         "petal_width": 1.3,
         "sepal_length": 5.7,
         "sepal_width": 2.8,
         "species": "versicolor"
        },
        {
         "index": 100,
         "petal_length": 6,
         "petal_width": 2.5,
         "sepal_length": 6.3,
         "sepal_width": 3.3,
         "species": "virginica"
        },
        {
         "index": 101,
         "petal_length": 5.1,
         "petal_width": 1.9,
         "sepal_length": 5.8,
         "sepal_width": 2.7,
         "species": "virginica"
        },
        {
         "index": 102,
         "petal_length": 5.9,
         "petal_width": 2.1,
         "sepal_length": 7.1,
         "sepal_width": 3,
         "species": "virginica"
        },
        {
         "index": 103,
         "petal_length": 5.6,
         "petal_width": 1.8,
         "sepal_length": 6.3,
         "sepal_width": 2.9,
         "species": "virginica"
        },
        {
         "index": 104,
         "petal_length": 5.8,
         "petal_width": 2.2,
         "sepal_length": 6.5,
         "sepal_width": 3,
         "species": "virginica"
        },
        {
         "index": 105,
         "petal_length": 6.6,
         "petal_width": 2.1,
         "sepal_length": 7.6,
         "sepal_width": 3,
         "species": "virginica"
        },
        {
         "index": 106,
         "petal_length": 4.5,
         "petal_width": 1.7,
         "sepal_length": 4.9,
         "sepal_width": 2.5,
         "species": "virginica"
        },
        {
         "index": 107,
         "petal_length": 6.3,
         "petal_width": 1.8,
         "sepal_length": 7.3,
         "sepal_width": 2.9,
         "species": "virginica"
        },
        {
         "index": 108,
         "petal_length": 5.8,
         "petal_width": 1.8,
         "sepal_length": 6.7,
         "sepal_width": 2.5,
         "species": "virginica"
        },
        {
         "index": 109,
         "petal_length": 6.1,
         "petal_width": 2.5,
         "sepal_length": 7.2,
         "sepal_width": 3.6,
         "species": "virginica"
        },
        {
         "index": 110,
         "petal_length": 5.1,
         "petal_width": 2,
         "sepal_length": 6.5,
         "sepal_width": 3.2,
         "species": "virginica"
        },
        {
         "index": 111,
         "petal_length": 5.3,
         "petal_width": 1.9,
         "sepal_length": 6.4,
         "sepal_width": 2.7,
         "species": "virginica"
        },
        {
         "index": 112,
         "petal_length": 5.5,
         "petal_width": 2.1,
         "sepal_length": 6.8,
         "sepal_width": 3,
         "species": "virginica"
        },
        {
         "index": 113,
         "petal_length": 5,
         "petal_width": 2,
         "sepal_length": 5.7,
         "sepal_width": 2.5,
         "species": "virginica"
        },
        {
         "index": 114,
         "petal_length": 5.1,
         "petal_width": 2.4,
         "sepal_length": 5.8,
         "sepal_width": 2.8,
         "species": "virginica"
        },
        {
         "index": 115,
         "petal_length": 5.3,
         "petal_width": 2.3,
         "sepal_length": 6.4,
         "sepal_width": 3.2,
         "species": "virginica"
        },
        {
         "index": 116,
         "petal_length": 5.5,
         "petal_width": 1.8,
         "sepal_length": 6.5,
         "sepal_width": 3,
         "species": "virginica"
        },
        {
         "index": 117,
         "petal_length": 6.7,
         "petal_width": 2.2,
         "sepal_length": 7.7,
         "sepal_width": 3.8,
         "species": "virginica"
        },
        {
         "index": 118,
         "petal_length": 6.9,
         "petal_width": 2.3,
         "sepal_length": 7.7,
         "sepal_width": 2.6,
         "species": "virginica"
        },
        {
         "index": 119,
         "petal_length": 5,
         "petal_width": 1.5,
         "sepal_length": 6,
         "sepal_width": 2.2,
         "species": "virginica"
        },
        {
         "index": 120,
         "petal_length": 5.7,
         "petal_width": 2.3,
         "sepal_length": 6.9,
         "sepal_width": 3.2,
         "species": "virginica"
        },
        {
         "index": 121,
         "petal_length": 4.9,
         "petal_width": 2,
         "sepal_length": 5.6,
         "sepal_width": 2.8,
         "species": "virginica"
        },
        {
         "index": 122,
         "petal_length": 6.7,
         "petal_width": 2,
         "sepal_length": 7.7,
         "sepal_width": 2.8,
         "species": "virginica"
        },
        {
         "index": 123,
         "petal_length": 4.9,
         "petal_width": 1.8,
         "sepal_length": 6.3,
         "sepal_width": 2.7,
         "species": "virginica"
        },
        {
         "index": 124,
         "petal_length": 5.7,
         "petal_width": 2.1,
         "sepal_length": 6.7,
         "sepal_width": 3.3,
         "species": "virginica"
        },
        {
         "index": 125,
         "petal_length": 6,
         "petal_width": 1.8,
         "sepal_length": 7.2,
         "sepal_width": 3.2,
         "species": "virginica"
        },
        {
         "index": 126,
         "petal_length": 4.8,
         "petal_width": 1.8,
         "sepal_length": 6.2,
         "sepal_width": 2.8,
         "species": "virginica"
        },
        {
         "index": 127,
         "petal_length": 4.9,
         "petal_width": 1.8,
         "sepal_length": 6.1,
         "sepal_width": 3,
         "species": "virginica"
        },
        {
         "index": 128,
         "petal_length": 5.6,
         "petal_width": 2.1,
         "sepal_length": 6.4,
         "sepal_width": 2.8,
         "species": "virginica"
        },
        {
         "index": 129,
         "petal_length": 5.8,
         "petal_width": 1.6,
         "sepal_length": 7.2,
         "sepal_width": 3,
         "species": "virginica"
        },
        {
         "index": 130,
         "petal_length": 6.1,
         "petal_width": 1.9,
         "sepal_length": 7.4,
         "sepal_width": 2.8,
         "species": "virginica"
        },
        {
         "index": 131,
         "petal_length": 6.4,
         "petal_width": 2,
         "sepal_length": 7.9,
         "sepal_width": 3.8,
         "species": "virginica"
        },
        {
         "index": 132,
         "petal_length": 5.6,
         "petal_width": 2.2,
         "sepal_length": 6.4,
         "sepal_width": 2.8,
         "species": "virginica"
        },
        {
         "index": 133,
         "petal_length": 5.1,
         "petal_width": 1.5,
         "sepal_length": 6.3,
         "sepal_width": 2.8,
         "species": "virginica"
        },
        {
         "index": 134,
         "petal_length": 5.6,
         "petal_width": 1.4,
         "sepal_length": 6.1,
         "sepal_width": 2.6,
         "species": "virginica"
        },
        {
         "index": 135,
         "petal_length": 6.1,
         "petal_width": 2.3,
         "sepal_length": 7.7,
         "sepal_width": 3,
         "species": "virginica"
        },
        {
         "index": 136,
         "petal_length": 5.6,
         "petal_width": 2.4,
         "sepal_length": 6.3,
         "sepal_width": 3.4,
         "species": "virginica"
        },
        {
         "index": 137,
         "petal_length": 5.5,
         "petal_width": 1.8,
         "sepal_length": 6.4,
         "sepal_width": 3.1,
         "species": "virginica"
        },
        {
         "index": 138,
         "petal_length": 4.8,
         "petal_width": 1.8,
         "sepal_length": 6,
         "sepal_width": 3,
         "species": "virginica"
        },
        {
         "index": 139,
         "petal_length": 5.4,
         "petal_width": 2.1,
         "sepal_length": 6.9,
         "sepal_width": 3.1,
         "species": "virginica"
        },
        {
         "index": 140,
         "petal_length": 5.6,
         "petal_width": 2.4,
         "sepal_length": 6.7,
         "sepal_width": 3.1,
         "species": "virginica"
        },
        {
         "index": 141,
         "petal_length": 5.1,
         "petal_width": 2.3,
         "sepal_length": 6.9,
         "sepal_width": 3.1,
         "species": "virginica"
        },
        {
         "index": 142,
         "petal_length": 5.1,
         "petal_width": 1.9,
         "sepal_length": 5.8,
         "sepal_width": 2.7,
         "species": "virginica"
        },
        {
         "index": 143,
         "petal_length": 5.9,
         "petal_width": 2.3,
         "sepal_length": 6.8,
         "sepal_width": 3.2,
         "species": "virginica"
        },
        {
         "index": 144,
         "petal_length": 5.7,
         "petal_width": 2.5,
         "sepal_length": 6.7,
         "sepal_width": 3.3,
         "species": "virginica"
        },
        {
         "index": 145,
         "petal_length": 5.2,
         "petal_width": 2.3,
         "sepal_length": 6.7,
         "sepal_width": 3,
         "species": "virginica"
        },
        {
         "index": 146,
         "petal_length": 5,
         "petal_width": 1.9,
         "sepal_length": 6.3,
         "sepal_width": 2.5,
         "species": "virginica"
        },
        {
         "index": 147,
         "petal_length": 5.2,
         "petal_width": 2,
         "sepal_length": 6.5,
         "sepal_width": 3,
         "species": "virginica"
        },
        {
         "index": 148,
         "petal_length": 5.4,
         "petal_width": 2.3,
         "sepal_length": 6.2,
         "sepal_width": 3.4,
         "species": "virginica"
        },
        {
         "index": 149,
         "petal_length": 5.1,
         "petal_width": 1.8,
         "sepal_length": 5.9,
         "sepal_width": 3,
         "species": "virginica"
        }
       ],
       "layout": "IPY_MODEL_c56d87ee0e8e4eae8a00de9e225cb6e0",
       "search": "",
       "template": "\n        <template>\n          <v-card>\n            <v-card-title>\n              <span class=\"title font-weight-bold\">{{ title }}</span>\n              <v-spacer></v-spacer>\n                <v-text-field\n                    v-model=\"search\"\n                    append-icon=\"search\"\n                    label=\"Search ...\"\n                    single-line\n                    hide-details\n                ></v-text-field>\n            </v-card-title>\n            <v-data-table\n                :headers=\"headers\"\n                :items=\"items\"\n                :search=\"search\"\n                :item-key=\"index_col\"\n                :rows-per-page-items=\"[25, 50, 250, 500]\"\n            >\n                <template v-slot:no-data>\n                  <v-alert :value=\"true\" color=\"error\" icon=\"warning\">\n                    Sorry, nothing to display here :(\n                  </v-alert>\n                </template>\n                <template v-slot:no-results>\n                    <v-alert :value=\"true\" color=\"error\" icon=\"warning\">\n                      Your search for \"{{ search }}\" found no results.\n                    </v-alert>\n                </template>\n                <template v-slot:items=\"rows\">\n                  <td v-for=\"(element, label, index) in rows.item\"\n                      @click=cell_click(element)\n                      >\n                    {{ element }}\n                  </td>\n                </template>\n            </v-data-table>\n          </v-card>\n        </template>\n        ",
       "title": "Iris"
      }
     },
     "bb62d82f1eb545eb93b39405346e5d78": {
      "model_module": "jupyter-vuetify",
      "model_module_version": "^0.1.11",
      "model_name": "BtnModel",
      "state": {
       "_events": [],
       "children": [
        "outline"
       ],
       "color": "primary",
       "href": null,
       "layout": "IPY_MODEL_d0fd62ff9daf4e599f968432e0248cff",
       "outline": true,
       "ripple": null,
       "to": null
      }
     },
     "bc36673354f746018f3cff82caf2c45f": {
      "model_module": "jupyter-vuetify",
      "model_module_version": "^0.1.11",
      "model_name": "ChipModel",
      "state": {
       "_events": [],
       "children": [],
       "layout": "IPY_MODEL_3ced6ac9d5cf45fc9c4fff38f3f4f0b9"
      }
     },
     "bdddfa481db84e1f9eca935ce43e71ff": {
      "model_module": "@jupyter-widgets/base",
      "model_module_version": "1.2.0",
      "model_name": "LayoutModel",
      "state": {}
     },
     "bea808a6effc4517945ad36266146f3e": {
      "model_module": "jupyter-vuetify",
      "model_module_version": "^0.1.11",
      "model_name": "IconModel",
      "state": {
       "_events": [],
       "children": [
        "edit"
       ],
       "layout": "IPY_MODEL_ac730b7fe32648e4b25ffedf68648dd5",
       "size": null
      }
     },
     "bf147518a9854e70ba8a062e7117d4d0": {
      "model_module": "@jupyter-widgets/base",
      "model_module_version": "1.2.0",
      "model_name": "LayoutModel",
      "state": {}
     },
     "c01b5ca4ff544a98ae5e40b1c16e7adf": {
      "model_module": "@jupyter-widgets/base",
      "model_module_version": "1.2.0",
      "model_name": "LayoutModel",
      "state": {}
     },
     "c04196fea32f49869a365d977666bbea": {
      "model_module": "jupyter-vuetify",
      "model_module_version": "^0.1.11",
      "model_name": "HtmlModel",
      "state": {
       "_events": [],
       "children": [
        "item2"
       ],
       "layout": "IPY_MODEL_c8a5a82fbbe04209ada73da17803dcec",
       "slot": "header",
       "tag": "div"
      }
     },
     "c10ab29fbb2e4f3e83a60a2aff82b194": {
      "model_module": "jupyter-vuetify",
      "model_module_version": "^0.1.11",
      "model_name": "BtnModel",
      "state": {
       "_events": [],
       "children": [
        "IPY_MODEL_d8f15e42b04e4d2da3dfeb4fa3fca799"
       ],
       "color": "primary",
       "fab": true,
       "href": null,
       "large": true,
       "layout": "IPY_MODEL_91b14c1eab2a4915b8180b1123e5537e",
       "ripple": null,
       "to": null
      }
     },
     "c111d780807a4660b5738e4000d529c0": {
      "model_module": "jupyter-vuetify",
      "model_module_version": "^0.1.11",
      "model_name": "BtnModel",
      "state": {
       "_events": [],
       "children": [
        "IPY_MODEL_acb6e1111a5d4065bbf25e18f1072c7f"
       ],
       "flat": true,
       "href": null,
       "layout": "IPY_MODEL_c01b5ca4ff544a98ae5e40b1c16e7adf",
       "ripple": null,
       "to": null
      }
     },
     "c1876f07f79543888a6ca419b4f84741": {
      "model_module": "jupyter-vuetify",
      "model_module_version": "^0.1.11",
      "model_name": "TabsModel",
      "state": {
       "_events": [],
       "children": [
        "IPY_MODEL_8e208695ee9647dab133aa2465741a7f",
        "IPY_MODEL_e0d194bca3464780a020e9b2ae9669a9",
        "IPY_MODEL_e5365ef08d1e493fa8e4d067b8e2f7d8",
        "IPY_MODEL_9cbdae80e99b4d89abd32beb704974cb",
        "IPY_MODEL_f3a736188ece4f599d48e5ce16bb0606",
        "IPY_MODEL_0745dc7cf27b4c7fb6999fc14b51e396"
       ],
       "height": null,
       "layout": "IPY_MODEL_e4f90deedafe4a93b2a6464bf3122953",
       "max": null,
       "mobile_break_point": null,
       "v_model": 1,
       "value": null
      }
     },
     "c1d885940bca4b819647628bacc4c7b4": {
      "model_module": "jupyter-vuetify",
      "model_module_version": "^0.1.11",
      "model_name": "IconModel",
      "state": {
       "_events": [],
       "children": [
        "format_align_left"
       ],
       "layout": "IPY_MODEL_7dd7401d065a44c7811f32443998edb5",
       "size": null
      }
     },
     "c1f81f57026f4d35ad6d732771ad232c": {
      "model_module": "@jupyter-widgets/base",
      "model_module_version": "1.2.0",
      "model_name": "LayoutModel",
      "state": {}
     },
     "c24a09882a6243ee82907f4b1e87f344": {
      "model_module": "@jupyter-widgets/base",
      "model_module_version": "1.2.0",
      "model_name": "LayoutModel",
      "state": {}
     },
     "c337ff1b01c74d17bb44a76281a53aad": {
      "model_module": "jupyter-vuetify",
      "model_module_version": "^0.1.11",
      "model_name": "BtnModel",
      "state": {
       "_events": [],
       "children": [
        "IPY_MODEL_bea808a6effc4517945ad36266146f3e"
       ],
       "color": "primary",
       "fab": true,
       "href": null,
       "large": true,
       "layout": "IPY_MODEL_d1a2f471d2da4af49d6207af80be555c",
       "ripple": null,
       "to": null
      }
     },
     "c38dee2bdd474792bdb87015afaed775": {
      "model_module": "@jupyter-widgets/base",
      "model_module_version": "1.2.0",
      "model_name": "LayoutModel",
      "state": {}
     },
     "c56d87ee0e8e4eae8a00de9e225cb6e0": {
      "model_module": "@jupyter-widgets/base",
      "model_module_version": "1.2.0",
      "model_name": "LayoutModel",
      "state": {}
     },
     "c5a39cc2132f4428a54fb24c0a8c26db": {
      "model_module": "@jupyter-widgets/base",
      "model_module_version": "1.2.0",
      "model_name": "LayoutModel",
      "state": {}
     },
     "c8a5a82fbbe04209ada73da17803dcec": {
      "model_module": "@jupyter-widgets/base",
      "model_module_version": "1.2.0",
      "model_name": "LayoutModel",
      "state": {}
     },
     "c8b270f628c84f35860455851d6b1616": {
      "model_module": "jupyter-vuetify",
      "model_module_version": "^0.1.11",
      "model_name": "TabModel",
      "state": {
       "_events": [],
       "children": [
        "Tab 1"
       ],
       "href": null,
       "layout": "IPY_MODEL_98b851b61d9741778e29ec75184eeea0",
       "ripple": null,
       "to": null
      }
     },
     "c9cfad79645545b388b2f591c25e90a2": {
      "model_module": "@jupyter-widgets/base",
      "model_module_version": "1.2.0",
      "model_name": "LayoutModel",
      "state": {}
     },
     "ca5771a4e4c3481d95154ee2176dd4d9": {
      "model_module": "@jupyter-widgets/base",
      "model_module_version": "1.2.0",
      "model_name": "LayoutModel",
      "state": {}
     },
     "ca791fec831a433fb8c540b66dcd61df": {
      "model_module": "@jupyter-widgets/base",
      "model_module_version": "1.2.0",
      "model_name": "LayoutModel",
      "state": {}
     },
     "cb41247f719841c18468c0cbc3ff12f1": {
      "model_module": "@jupyter-widgets/base",
      "model_module_version": "1.2.0",
      "model_name": "LayoutModel",
      "state": {}
     },
     "cc0a11ab1e9f421ba587b720df9f7cfc": {
      "model_module": "@jupyter-widgets/base",
      "model_module_version": "1.2.0",
      "model_name": "LayoutModel",
      "state": {}
     },
     "cd0b4beb87d64724b4cf308956cafdc5": {
      "model_module": "jupyter-vuetify",
      "model_module_version": "^0.1.11",
      "model_name": "LayoutModel",
      "state": {
       "_events": [],
       "children": [
        "IPY_MODEL_737adbc7119342268d02feb718731b77"
       ],
       "layout": "IPY_MODEL_85f5a2f9c9a546f3bdad1ce8fa70cd6f"
      }
     },
     "cdf84a122ec349a6a172e9826aae5a90": {
      "model_module": "jupyter-vuetify",
      "model_module_version": "^0.1.11",
      "model_name": "CardTextModel",
      "state": {
       "_events": [],
       "children": [
        "Second Text"
       ],
       "layout": "IPY_MODEL_3317cd45f5e245a1b247380f41bbe5d0"
      }
     },
     "cdfea1eaae0a4eada33c65369e9dc3b3": {
      "model_module": "jupyter-vuetify",
      "model_module_version": "^0.1.11",
      "model_name": "IconModel",
      "state": {
       "_events": [],
       "children": [
        "format_underline"
       ],
       "layout": "IPY_MODEL_28a29ad1270c4986b7d00c6f8ba8ec30",
       "size": null
      }
     },
     "ce595b9002ec43f4bc30763763396c24": {
      "model_module": "@jupyter-widgets/base",
      "model_module_version": "1.2.0",
      "model_name": "LayoutModel",
      "state": {}
     },
     "cea255bb8af74198b8709939b4074147": {
      "model_module": "jupyter-vuetify",
      "model_module_version": "^0.1.11",
      "model_name": "ListTileTitleModel",
      "state": {
       "_events": [],
       "children": [
        "Item 1"
       ],
       "layout": "IPY_MODEL_808e1d04f58144c3bb3bfc0c164c8e2c"
      }
     },
     "cea83876dca442b7918ed5ef8ab94093": {
      "model_module": "jupyter-vuetify",
      "model_module_version": "^0.1.11",
      "model_name": "IconModel",
      "state": {
       "_events": [],
       "children": [
        "format_color_fill"
       ],
       "layout": "IPY_MODEL_a3f4fd4f20c3462487ce06a516ea34ed",
       "size": null
      }
     },
     "cf1c750e352242b4bd8bf5023f1400de": {
      "model_module": "@jupyter-widgets/base",
      "model_module_version": "1.2.0",
      "model_name": "LayoutModel",
      "state": {}
     },
     "cf4ae35ff2e043eb972e29a1e1a465a4": {
      "model_module": "jupyter-vuetify",
      "model_module_version": "^0.1.11",
      "model_name": "CardModel",
      "state": {
       "_events": [],
       "children": [
        "IPY_MODEL_cdf84a122ec349a6a172e9826aae5a90"
       ],
       "elevation": null,
       "height": null,
       "href": null,
       "layout": "IPY_MODEL_870f9ec2b89e4a2080123128531c8c8d",
       "max_height": null,
       "max_width": null,
       "min_height": null,
       "min_width": null,
       "ripple": null,
       "to": null,
       "width": null
      }
     },
     "d0fd62ff9daf4e599f968432e0248cff": {
      "model_module": "@jupyter-widgets/base",
      "model_module_version": "1.2.0",
      "model_name": "LayoutModel",
      "state": {}
     },
     "d13fa07123674f6ab8acb6510f395845": {
      "model_module": "@jupyter-widgets/base",
      "model_module_version": "1.2.0",
      "model_name": "LayoutModel",
      "state": {}
     },
     "d1967796f2d840399112637268089906": {
      "model_module": "@jupyter-widgets/base",
      "model_module_version": "1.2.0",
      "model_name": "LayoutModel",
      "state": {}
     },
     "d1a2f471d2da4af49d6207af80be555c": {
      "model_module": "@jupyter-widgets/base",
      "model_module_version": "1.2.0",
      "model_name": "LayoutModel",
      "state": {}
     },
     "d22fb4e2fd9140eebb077d69febb91ab": {
      "model_module": "jupyter-vuetify",
      "model_module_version": "^0.1.11",
      "model_name": "IconModel",
      "state": {
       "_events": [],
       "children": [
        "format_bold"
       ],
       "layout": "IPY_MODEL_8d9a4dca573046c48039496870913f69",
       "size": null
      }
     },
     "d34c0f186b184c4c88c20315b9acc0f7": {
      "model_module": "@jupyter-widgets/base",
      "model_module_version": "1.2.0",
      "model_name": "LayoutModel",
      "state": {}
     },
     "d3df357adddf4798a08fb02a7a1df3d3": {
      "model_module": "jupyter-vuetify",
      "model_module_version": "^0.1.11",
      "model_name": "LayoutModel",
      "state": {
       "_events": [],
       "children": [
        "IPY_MODEL_addeec28a06b40eb90441859c2947f80",
        "IPY_MODEL_8b1dbfdddbd54035b0cd50af479e6fb0",
        "IPY_MODEL_68ca2b6349894d998b45c11f1f4a8079",
        "IPY_MODEL_327111263be64ff286adf552b92c0770"
       ],
       "layout": "IPY_MODEL_74a2d152da5a493899db590bffee6258"
      }
     },
     "d3fb72afd2c84df6b936479763b2b439": {
      "model_module": "jupyter-vuetify",
      "model_module_version": "^0.1.11",
      "model_name": "CardTextModel",
      "state": {
       "_events": [],
       "children": [
        "Lorem ipsum dolor sit amet, consectetur adipiscing elit, sed do eiusmod tempor incididunt ut labore et dolore magna aliqua."
       ],
       "layout": "IPY_MODEL_4a8d31d534b74509a4a23b58a360e911"
      }
     },
     "d5438ea9079c45a49ffbb7a061e7a4fe": {
      "model_module": "@jupyter-widgets/base",
      "model_module_version": "1.2.0",
      "model_name": "LayoutModel",
      "state": {}
     },
     "d5ddc8c279fe4cd2bd433d8db04dcae3": {
      "model_module": "jupyter-vuetify",
      "model_module_version": "^0.1.11",
      "model_name": "BtnModel",
      "state": {
       "_events": [],
       "children": [
        "IPY_MODEL_8e45155ac7284f70ae3ffdb5d99e4b35"
       ],
       "flat": true,
       "href": null,
       "layout": "IPY_MODEL_22e10f8b769e4afc9766e6002e443e6e",
       "ripple": null,
       "to": null
      }
     },
     "d5ea99ef853d4e27854dd37986bacc7a": {
      "model_module": "jupyter-vuetify",
      "model_module_version": "^0.1.11",
      "model_name": "ExpansionPanelContentModel",
      "state": {
       "_events": [],
       "children": [
        "IPY_MODEL_ed7f50b6b8564614bed19ba4d2a0ab88",
        "IPY_MODEL_230dd17f712c4f6691b0fb3426af1abd"
       ],
       "layout": "IPY_MODEL_b4350952c6c0454c8aaba07517f03b9a",
       "ripple": null
      }
     },
     "d7406bb80f68455c9468a5bd92bfc189": {
      "model_module": "@jupyter-widgets/base",
      "model_module_version": "1.2.0",
      "model_name": "LayoutModel",
      "state": {}
     },
     "d75d7533ada2405195108323229949d1": {
      "model_module": "jupyter-vuetify",
      "model_module_version": "^0.1.11",
      "model_name": "SliderModel",
      "state": {
       "_events": [],
       "children": [],
       "error_count": null,
       "error_messages": null,
       "height": null,
       "layout": "IPY_MODEL_604f558e609a42b5bfc5e2621a2b33b0",
       "loading": null,
       "max": null,
       "messages": null,
       "min": null,
       "rules": [],
       "step": null,
       "success_messages": null,
       "thumb_label": "always",
       "thumb_size": null,
       "tick_labels": [],
       "tick_size": null,
       "ticks": null,
       "v_model": 25,
       "value": null
      }
     },
     "d78aabf2752541cabf1eb04e1e95a7b4": {
      "model_module": "jupyter-vuetify",
      "model_module_version": "^0.1.11",
      "model_name": "BtnModel",
      "state": {
       "_events": [],
       "children": [
        "error"
       ],
       "color": "error",
       "href": null,
       "layout": "IPY_MODEL_a57784cc030f41cc818a9625ba589988",
       "ripple": null,
       "to": null
      }
     },
     "d8a954d3b2404a528faa773d42b42ab4": {
      "model_module": "@jupyter-widgets/base",
      "model_module_version": "1.2.0",
      "model_name": "LayoutModel",
      "state": {}
     },
     "d8f15e42b04e4d2da3dfeb4fa3fca799": {
      "model_module": "jupyter-vuetify",
      "model_module_version": "^0.1.11",
      "model_name": "IconModel",
      "state": {
       "_events": [],
       "children": [
        "edit"
       ],
       "layout": "IPY_MODEL_80d1e12c642a49788a797b5d8dbf525b",
       "size": null
      }
     },
     "d91429f1102f4eb8b38e164a8dcb4929": {
      "model_module": "jupyter-vuetify",
      "model_module_version": "^0.1.11",
      "model_name": "BtnModel",
      "state": {
       "_events": [],
       "children": [
        "IPY_MODEL_db7380869c1d45f18af7eb3d4ac04707"
       ],
       "flat": true,
       "href": null,
       "layout": "IPY_MODEL_ce595b9002ec43f4bc30763763396c24",
       "ripple": null,
       "to": null
      }
     },
     "daf877ef9ef44ecda84c1bca1f81aa52": {
      "model_module": "jupyter-vuetify",
      "model_module_version": "^0.1.11",
      "model_name": "SliderModel",
      "state": {
       "_events": [],
       "children": [],
       "error_count": null,
       "error_messages": null,
       "height": null,
       "layout": "IPY_MODEL_23a99727e92f4c8b8b880060284f8d27",
       "loading": null,
       "max": null,
       "messages": null,
       "min": null,
       "rules": [],
       "step": null,
       "success_messages": null,
       "thumb_label": "always",
       "thumb_size": null,
       "tick_labels": [],
       "tick_size": null,
       "ticks": null,
       "v_model": 25,
       "value": null
      }
     },
     "db70c21f55c545c2a63102e7a9570d2e": {
      "model_module": "jupyter-vuetify",
      "model_module_version": "^0.1.11",
      "model_name": "IconModel",
      "state": {
       "_events": [],
       "children": [
        "format_align_justify"
       ],
       "layout": "IPY_MODEL_dbe9ba81099c401d97b81499435f0ffa",
       "size": null
      }
     },
     "db7380869c1d45f18af7eb3d4ac04707": {
      "model_module": "jupyter-vuetify",
      "model_module_version": "^0.1.11",
      "model_name": "IconModel",
      "state": {
       "_events": [],
       "children": [
        "format_align_left"
       ],
       "layout": "IPY_MODEL_62faabfc3f8f42dba6e1d9877d1f017a",
       "size": null
      }
     },
     "dbe9ba81099c401d97b81499435f0ffa": {
      "model_module": "@jupyter-widgets/base",
      "model_module_version": "1.2.0",
      "model_name": "LayoutModel",
      "state": {}
     },
     "dc014e8db53941078768f771d0056880": {
      "model_module": "jupyter-vuetify",
      "model_module_version": "^0.1.11",
      "model_name": "BtnModel",
      "state": {
       "_events": [],
       "children": [
        "IPY_MODEL_8c88ed5587944210b2bb7433898eede8"
       ],
       "flat": true,
       "href": null,
       "layout": "IPY_MODEL_71a29ecf18de489182c5265805d651a1",
       "ripple": null,
       "to": null
      }
     },
     "dd1737d265a8467e8236b12797b15ac5": {
      "model_module": "@jupyter-widgets/base",
      "model_module_version": "1.2.0",
      "model_name": "LayoutModel",
      "state": {}
     },
     "dee5a55b76674a999a6ec1ea0050aee2": {
      "model_module": "@jupyter-widgets/base",
      "model_module_version": "1.2.0",
      "model_name": "LayoutModel",
      "state": {}
     },
     "e0c7ce2d4fd64d66af6ca0da0cc5677e": {
      "model_module": "@jupyter-widgets/base",
      "model_module_version": "1.2.0",
      "model_name": "LayoutModel",
      "state": {}
     },
     "e0d194bca3464780a020e9b2ae9669a9": {
      "model_module": "jupyter-vuetify",
      "model_module_version": "^0.1.11",
      "model_name": "TabModel",
      "state": {
       "_events": [],
       "children": [
        "Tab 2"
       ],
       "href": null,
       "layout": "IPY_MODEL_1f60a05b1a424502b8c46d619424e4d2",
       "ripple": null,
       "to": null
      }
     },
     "e10cfbb24b8d4541945c3c4f8c5ae82f": {
      "model_module": "@jupyter-widgets/base",
      "model_module_version": "1.2.0",
      "model_name": "LayoutModel",
      "state": {}
     },
     "e173f3d4e40e46cc93f8655978fa64c0": {
      "model_module": "jupyter-vuetify",
      "model_module_version": "^0.1.11",
      "model_name": "ListTileTitleModel",
      "state": {
       "_events": [],
       "children": [
        "Item 1"
       ],
       "layout": "IPY_MODEL_6989d89496eb43e7a5c63955bb77d28d"
      }
     },
     "e2d2e73ea5714ef7bd3e25fe204066fd": {
      "model_module": "@jupyter-widgets/base",
      "model_module_version": "1.2.0",
      "model_name": "LayoutModel",
      "state": {}
     },
     "e3f115c7ac844cf1b038db98a50890e1": {
      "model_module": "@jupyter-widgets/base",
      "model_module_version": "1.2.0",
      "model_name": "LayoutModel",
      "state": {}
     },
     "e45f3441b6c043dfbf28e13087d1869f": {
      "model_module": "jupyter-vuetify",
      "model_module_version": "^0.1.11",
      "model_name": "BtnModel",
      "state": {
       "_events": [],
       "children": [
        "disabled"
       ],
       "disabled": true,
       "href": null,
       "layout": "IPY_MODEL_59ab6f6b811643fdb96623885218673e",
       "ripple": null,
       "to": null
      }
     },
     "e4b3a87f30aa485fbfb80270a56de852": {
      "model_module": "@jupyter-widgets/base",
      "model_module_version": "1.2.0",
      "model_name": "LayoutModel",
      "state": {}
     },
     "e4c68c93c1194d329ade8837a5231cc4": {
      "model_module": "@jupyter-widgets/base",
      "model_module_version": "1.2.0",
      "model_name": "LayoutModel",
      "state": {}
     },
     "e4f90deedafe4a93b2a6464bf3122953": {
      "model_module": "@jupyter-widgets/base",
      "model_module_version": "1.2.0",
      "model_name": "LayoutModel",
      "state": {}
     },
     "e530f7b4ea2b464f97b45366779974bb": {
      "model_module": "jupyter-vuetify",
      "model_module_version": "^0.1.11",
      "model_name": "SliderModel",
      "state": {
       "_events": [],
       "children": [],
       "error_count": null,
       "error_messages": null,
       "height": null,
       "layout": "IPY_MODEL_7efe97f35fce4803a1363de901d471b7",
       "loading": null,
       "max": null,
       "messages": null,
       "min": null,
       "rules": [],
       "step": null,
       "success_messages": null,
       "thumb_label": true,
       "thumb_size": null,
       "tick_labels": [],
       "tick_size": null,
       "ticks": null,
       "v_model": 25,
       "value": null
      }
     },
     "e5365ef08d1e493fa8e4d067b8e2f7d8": {
      "model_module": "jupyter-vuetify",
      "model_module_version": "^0.1.11",
      "model_name": "TabModel",
      "state": {
       "_events": [],
       "children": [
        "Tab 3"
       ],
       "href": null,
       "layout": "IPY_MODEL_b50d8a8f6f10408fb0a5cce5e5c84654",
       "ripple": null,
       "to": null
      }
     },
     "e55731c3daf8420c9ed914a22ae07710": {
      "model_module": "jupyter-vuetify",
      "model_module_version": "^0.1.11",
      "model_name": "IconModel",
      "state": {
       "_events": [],
       "children": [
        "format_align_center"
       ],
       "layout": "IPY_MODEL_96d7be2fdace4cc884d414898d3f636c",
       "size": null
      }
     },
     "e563b84934554a2b97ccff30748f7976": {
      "model_module": "jupyter-vuetify",
      "model_module_version": "^0.1.11",
      "model_name": "IconModel",
      "state": {
       "_events": [],
       "children": [
        "thumb_up"
       ],
       "layout": "IPY_MODEL_b5bdddcf362541e19f92d4e84b8adb99",
       "size": null
      }
     },
     "e5681967f5464f41b9207e52b6abc56f": {
      "model_module": "@jupyter-widgets/base",
      "model_module_version": "1.2.0",
      "model_name": "LayoutModel",
      "state": {}
     },
     "e5bbfc8c0fb142a5badfb43e0b0b10d7": {
      "model_module": "jupyter-vuetify",
      "model_module_version": "^0.1.11",
      "model_name": "CardTitleModel",
      "state": {
       "_events": [],
       "children": [
        "Lorem ipsum"
       ],
       "class_": "headline gray lighten-2",
       "layout": "IPY_MODEL_2c47f40aa9224f3ab014f8a9d6e48f92",
       "primary_title": true
      }
     },
     "e96bf74c169f4510bd0469d5c192c132": {
      "model_module": "jupyter-vuetify",
      "model_module_version": "^0.1.11",
      "model_name": "CardModel",
      "state": {
       "_events": [],
       "children": [
        "IPY_MODEL_e5bbfc8c0fb142a5badfb43e0b0b10d7",
        "IPY_MODEL_d3fb72afd2c84df6b936479763b2b439"
       ],
       "elevation": null,
       "height": null,
       "href": null,
       "layout": "IPY_MODEL_fd4d7085df6a44de9c30d448fa181bf7",
       "max_height": null,
       "max_width": null,
       "min_height": null,
       "min_width": null,
       "ripple": null,
       "to": null,
       "width": null
      }
     },
     "ea65bfa4d1284433aa7ca69978b012a9": {
      "model_module": "jupyter-vuetify",
      "model_module_version": "^0.1.11",
      "model_name": "ListTileTitleModel",
      "state": {
       "_events": [],
       "children": [
        "Item 4"
       ],
       "layout": "IPY_MODEL_7d43482f1bf745f88c8ded93b4de7558"
      }
     },
     "ead3838e4f6d461cb841ce8d31cfbe17": {
      "model_module": "jupyter-vuetify",
      "model_module_version": "^0.1.11",
      "model_name": "BtnToggleModel",
      "state": {
       "_events": [],
       "children": [
        "IPY_MODEL_43d6683a1a544479802bb084ce872abb",
        "IPY_MODEL_d5ddc8c279fe4cd2bd433d8db04dcae3",
        "IPY_MODEL_460db57dd2f14964bead0e84004f2e9a",
        "IPY_MODEL_57193ee0717c466f9f3a99a3f33a559c"
       ],
       "layout": "IPY_MODEL_41da6204c2f04681a830646b9a57e2ee",
       "max": null,
       "multiple": true,
       "v_model": [
        0,
        2
       ]
      }
     },
     "eb03b0ddbbc5428b94a96c6fa1bd0786": {
      "model_module": "jupyter-vuetify",
      "model_module_version": "^0.1.11",
      "model_name": "CardTextModel",
      "state": {
       "_events": [],
       "children": [
        "First Text"
       ],
       "layout": "IPY_MODEL_76d83d4c4f5a4462a5c1d25b166f90eb"
      }
     },
     "eb26fff7783c47f0a5e1d5daecd8bf69": {
      "model_module": "@jupyter-widgets/base",
      "model_module_version": "1.2.0",
      "model_name": "LayoutModel",
      "state": {}
     },
     "ec37ad987a104f63ac62ed5e0fc3f2df": {
      "model_module": "@jupyter-widgets/base",
      "model_module_version": "1.2.0",
      "model_name": "LayoutModel",
      "state": {}
     },
     "ec86ad97016a435aa593f9e498a769e9": {
      "model_module": "@jupyter-widgets/base",
      "model_module_version": "1.2.0",
      "model_name": "LayoutModel",
      "state": {}
     },
     "ec8835199c3f45d1b51732e71d1bb9ed": {
      "model_module": "@jupyter-widgets/base",
      "model_module_version": "1.2.0",
      "model_name": "LayoutModel",
      "state": {}
     },
     "ed7f50b6b8564614bed19ba4d2a0ab88": {
      "model_module": "jupyter-vuetify",
      "model_module_version": "^0.1.11",
      "model_name": "HtmlModel",
      "state": {
       "_events": [],
       "children": [
        "item1"
       ],
       "layout": "IPY_MODEL_33c9a7d0c92242bd8941ec57089ff869",
       "slot": "header",
       "tag": "div"
      }
     },
     "ee538f92fb4442b88164e1dfef24dad3": {
      "model_module": "jupyter-vuetify",
      "model_module_version": "^0.1.11",
      "model_name": "DialogModel",
      "state": {
       "_events": [],
       "children": [
        "IPY_MODEL_200b333770c942d5af2d7c24af837ae2",
        "IPY_MODEL_772953993f3343bd92c31f0a1171eb40"
       ],
       "layout": "IPY_MODEL_436098fa7bb846269f194b771f93c4ff",
       "max_width": null,
       "transition": null,
       "v_model": false,
       "width": "500"
      }
     },
     "ee819f45b2e949518c1017189d87dc45": {
      "model_module": "jupyter-vuetify",
      "model_module_version": "^0.1.11",
      "model_name": "BtnModel",
      "state": {
       "_events": [],
       "children": [
        "tooltip"
       ],
       "color": "primary",
       "href": null,
       "layout": "IPY_MODEL_a32434ea8e13469aa57273bea82faa50",
       "ripple": null,
       "slot": "activator",
       "to": null
      }
     },
     "eea4e091a39d44d18f1d4d25751a7a51": {
      "model_module": "jupyter-vuetify",
      "model_module_version": "^0.1.11",
      "model_name": "LayoutModel",
      "state": {
       "_events": [],
       "children": [
        "IPY_MODEL_f29431e4a17d42daa1966bc82028cba5",
        "IPY_MODEL_4b971f60a9544b61ad8f7d1c454357da",
        "IPY_MODEL_1cf615241f564a95be132b15451e01c9",
        "IPY_MODEL_3af3a003f797468899a0201f2e9b881b"
       ],
       "layout": "IPY_MODEL_68da013a50654c9c87aa96537b83f9d9"
      }
     },
     "ef775c47c7c341cabf2cd4efd50a8257": {
      "model_module": "jupyter-vuetify",
      "model_module_version": "^0.1.11",
      "model_name": "LayoutModel",
      "state": {
       "_events": [],
       "children": [
        "IPY_MODEL_9533f5772fed421280d3439384a1c90d",
        "IPY_MODEL_082c0c58721c4254b23487d74aa2442e",
        "IPY_MODEL_b624dd95381a458e8ca375cf506d2512"
       ],
       "layout": "IPY_MODEL_616c64b280be461aa6927660e6b62dd8"
      }
     },
     "f0b008390b814f3f8fddddff97010d20": {
      "model_module": "jupyter-vuetify",
      "model_module_version": "^0.1.11",
      "model_name": "IconModel",
      "state": {
       "_events": [],
       "children": [
        "format_color_fill"
       ],
       "layout": "IPY_MODEL_2a7af6e2765249cb965e734660c67b33",
       "size": null
      }
     },
     "f0e80413d3904f02be864113b0b75332": {
      "model_module": "jupyter-vuetify",
      "model_module_version": "^0.1.11",
      "model_name": "HtmlModel",
      "state": {
       "_events": [],
       "children": [
        "item2"
       ],
       "layout": "IPY_MODEL_914ff3917d31455ba245cbea58c1b9b3",
       "slot": "header",
       "tag": "div"
      }
     },
     "f0eb4f7dcce94f8cb792d8ad96311888": {
      "model_module": "@jupyter-widgets/base",
      "model_module_version": "1.2.0",
      "model_name": "LayoutModel",
      "state": {}
     },
     "f1d59baffd174df196513e29a51d2649": {
      "model_module": "@jupyter-widgets/controls",
      "model_module_version": "1.5.0",
      "model_name": "LinkModel",
      "state": {
       "source": [
        "IPY_MODEL_7891b17954454b4dbe00bbb920c501ac",
        "v_model"
       ],
       "target": [
        "IPY_MODEL_ba1476cfd5274ca1937b3ae1ce3ec1be",
        "v_model"
       ]
      }
     },
     "f1ee59fcdc9743b69829deca3924fba3": {
      "model_module": "@jupyter-widgets/base",
      "model_module_version": "1.2.0",
      "model_name": "LayoutModel",
      "state": {}
     },
     "f2725324e9b24b1c962c83a9765a7e27": {
      "model_module": "jupyter-vuetify",
      "model_module_version": "^0.1.11",
      "model_name": "BtnModel",
      "state": {
       "_events": [],
       "children": [
        "disabled"
       ],
       "disabled": true,
       "href": null,
       "layout": "IPY_MODEL_53914ea15b1040c3935f91c892697d69",
       "ripple": null,
       "to": null
      }
     },
     "f27302d4f3be4a2e991d0c3c6f755105": {
      "model_module": "@jupyter-widgets/base",
      "model_module_version": "1.2.0",
      "model_name": "LayoutModel",
      "state": {}
     },
     "f29431e4a17d42daa1966bc82028cba5": {
      "model_module": "jupyter-vuetify",
      "model_module_version": "^0.1.11",
      "model_name": "BtnModel",
      "state": {
       "_events": [],
       "children": [
        "primary"
       ],
       "color": "primary",
       "href": null,
       "layout": "IPY_MODEL_79b4fd33cc4e440696ddfd4904fe609c",
       "ripple": null,
       "to": null
      }
     },
     "f2daad67551648afa0a52f140f352790": {
      "model_module": "@jupyter-widgets/base",
      "model_module_version": "1.2.0",
      "model_name": "LayoutModel",
      "state": {}
     },
     "f2f3ac3b01214fb2ba3c372974feceef": {
      "model_module": "jupyter-vuetify",
      "model_module_version": "^0.1.11",
      "model_name": "ListTileModel",
      "state": {
       "_events": [
        "click"
       ],
       "children": [
        "IPY_MODEL_5c09fcdd972e429f8d124cedf53a79e1"
       ],
       "href": null,
       "layout": "IPY_MODEL_f1ee59fcdc9743b69829deca3924fba3",
       "ripple": null,
       "to": null
      }
     },
     "f3a736188ece4f599d48e5ce16bb0606": {
      "model_module": "jupyter-vuetify",
      "model_module_version": "^0.1.11",
      "model_name": "TabItemModel",
      "state": {
       "_events": [],
       "children": [
        "Lorem ipsum dolor sit amet, consectetur adipiscing elit, sed do eiusmod tempor incididunt ut labore et dolore magna aliqua."
       ],
       "layout": "IPY_MODEL_4c7a585f974d47b39363a75a836f59b3",
       "reverse_transition": null,
       "transition": null
      }
     },
     "f3d182f1ab8147b6beb924b8dc73f277": {
      "model_module": "@jupyter-widgets/base",
      "model_module_version": "1.2.0",
      "model_name": "LayoutModel",
      "state": {}
     },
     "f43b007fd04a4bccb13bfb1354057d39": {
      "model_module": "@jupyter-widgets/base",
      "model_module_version": "1.2.0",
      "model_name": "LayoutModel",
      "state": {}
     },
     "f4d4efc3a4e248798fb521693dd6286c": {
      "model_module": "jupyter-vuetify",
      "model_module_version": "^0.1.11",
      "model_name": "TabsModel",
      "state": {
       "_events": [],
       "children": [
        "IPY_MODEL_c8b270f628c84f35860455851d6b1616",
        "IPY_MODEL_b1862fd4ab614b56a83c752cb90ab81d",
        "IPY_MODEL_983a64bcf4174ae69a7508cd997a3de8",
        "IPY_MODEL_7843a197017b40ff8db7392404f3d4f1",
        "IPY_MODEL_7922c29b79ce4e88925fb50a70ff9a5c",
        "IPY_MODEL_8253cd0523054153b8bcd74007c0b4d0"
       ],
       "height": null,
       "layout": "IPY_MODEL_d13fa07123674f6ab8acb6510f395845",
       "max": null,
       "mobile_break_point": null,
       "v_model": 1,
       "value": null
      }
     },
     "f66690270d6d41bea7378fb140726d5a": {
      "model_module": "@jupyter-widgets/base",
      "model_module_version": "1.2.0",
      "model_name": "LayoutModel",
      "state": {}
     },
     "f6a5a4f11b534e448da17b1e8350e26e": {
      "model_module": "@jupyter-widgets/base",
      "model_module_version": "1.2.0",
      "model_name": "LayoutModel",
      "state": {}
     },
     "f6b8d4bf7ec04f02a16c560fc8e9e0d3": {
      "model_module": "@jupyter-widgets/base",
      "model_module_version": "1.2.0",
      "model_name": "LayoutModel",
      "state": {}
     },
     "f7699e619aa04dabb424546cd04816f5": {
      "model_module": "jupyter-vuetify",
      "model_module_version": "^0.1.11",
      "model_name": "BtnModel",
      "state": {
       "_events": [],
       "children": [
        "IPY_MODEL_7eb22409cbdd405993683589050e8bfe"
       ],
       "color": "primary",
       "fab": true,
       "href": null,
       "large": true,
       "layout": "IPY_MODEL_96d2e5fef9c24396b87829aeef895093",
       "ripple": null,
       "to": null
      }
     },
     "f7fccbf94d9541b8a20daadac039866b": {
      "model_module": "@jupyter-widgets/base",
      "model_module_version": "1.2.0",
      "model_name": "LayoutModel",
      "state": {}
     },
     "f82033c0736447e4b4d48c57227dec3f": {
      "model_module": "jupyter-vuetify",
      "model_module_version": "^0.1.11",
      "model_name": "IconModel",
      "state": {
       "_events": [],
       "children": [
        "fingerprint"
       ],
       "layout": "IPY_MODEL_cc0a11ab1e9f421ba587b720df9f7cfc",
       "right": true,
       "size": null
      }
     },
     "f9aaf396313c4c9ca61c6fd7f89937ad": {
      "model_module": "jupyter-vuetify",
      "model_module_version": "^0.1.11",
      "model_name": "IconModel",
      "state": {
       "_events": [],
       "children": [
        "fingerprint"
       ],
       "layout": "IPY_MODEL_22c6c34df184404dbc94b818bd35e7e2",
       "left": true,
       "size": null
      }
     },
     "faa10caa9d2c4b0ab150b85805890f3c": {
      "model_module": "jupyter-vuetify",
      "model_module_version": "^0.1.11",
      "model_name": "IconModel",
      "state": {
       "_events": [],
       "children": [
        "arrow_drop_down"
       ],
       "layout": "IPY_MODEL_9586fde0997547d5b35e34bdb0b814c0",
       "right": true,
       "size": null
      }
     },
     "fb968001de23465fad8fab03b63a34a2": {
      "model_module": "@jupyter-widgets/base",
      "model_module_version": "1.2.0",
      "model_name": "LayoutModel",
      "state": {}
     },
     "fbaf0e128ee64a4ab06e79a108bbac99": {
      "model_module": "@jupyter-widgets/base",
      "model_module_version": "1.2.0",
      "model_name": "LayoutModel",
      "state": {}
     },
     "fc5ba749903749f0baa79db940fc0d86": {
      "model_module": "jupyter-vuetify",
      "model_module_version": "^0.1.11",
      "model_name": "BtnToggleModel",
      "state": {
       "_events": [],
       "children": [
        "IPY_MODEL_78242c9dee494d6fb2690da6ae4822a0",
        "IPY_MODEL_dc014e8db53941078768f771d0056880",
        "IPY_MODEL_a151b1e925344d8b843bbba102bc1c85",
        "IPY_MODEL_27683cc20dd54d1a97bf5cd5f2406d15"
       ],
       "layout": "IPY_MODEL_b59b13b8a921422bb6c6a468e09ae72d",
       "max": null,
       "multiple": true,
       "v_model": [
        0,
        2
       ]
      }
     },
     "fd4d7085df6a44de9c30d448fa181bf7": {
      "model_module": "@jupyter-widgets/base",
      "model_module_version": "1.2.0",
      "model_name": "LayoutModel",
      "state": {}
     },
     "fd558aa759ea4bb6be4fbedb6de8a044": {
      "model_module": "@jupyter-widgets/base",
      "model_module_version": "1.2.0",
      "model_name": "LayoutModel",
      "state": {}
     },
     "fdd08092363e48b58ea81fe1c74ffd10": {
      "model_module": "@jupyter-widgets/base",
      "model_module_version": "1.2.0",
      "model_name": "LayoutModel",
      "state": {}
     },
     "fdd70cfdf27d492595283121ab6aee09": {
      "model_module": "@jupyter-widgets/base",
      "model_module_version": "1.2.0",
      "model_name": "LayoutModel",
      "state": {}
     },
     "fe25933200ef4785af9ca732923e72f9": {
      "model_module": "jupyter-vuetify",
      "model_module_version": "^0.1.11",
      "model_name": "TooltipModel",
      "state": {
       "_events": [],
       "bottom": true,
       "children": [
        "IPY_MODEL_ee819f45b2e949518c1017189d87dc45",
        "Insert tooltip text here"
       ],
       "close_delay": null,
       "debounce": null,
       "layout": "IPY_MODEL_5268bfc86e1b4853bd3fe1e32f4dd8a2",
       "max_width": null,
       "min_width": null,
       "nudge_bottom": null,
       "nudge_left": null,
       "nudge_right": null,
       "nudge_top": null,
       "nudge_width": null,
       "open_delay": null
      }
     },
     "feb64ec8028549bba9a211cbe5e52124": {
      "model_module": "@jupyter-widgets/base",
      "model_module_version": "1.2.0",
      "model_name": "LayoutModel",
      "state": {}
     }
    },
    "version_major": 2,
    "version_minor": 0
   }
  }
 },
 "nbformat": 4,
 "nbformat_minor": 2
}
