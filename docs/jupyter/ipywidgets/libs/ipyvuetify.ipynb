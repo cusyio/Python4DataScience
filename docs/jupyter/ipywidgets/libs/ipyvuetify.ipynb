{
 "cells": [
  {
   "cell_type": "markdown",
   "metadata": {},
   "source": [
    "# `ipyvuetify`\n",
    "\n",
    "[ipyvuetify](https://github.com/mariobuikhuizen/ipyvuetify) liefert Jupyter-Widgets, die auf [vuetify](https://v15.vuetifyjs.com/en/)-UI-Komponenten basieren und das [Material Design](https://material.io/) von Google mit dem [Vue.js-Framework](https://v15.vuetifyjs.com/en/) implementieren."
   ]
  },
  {
   "cell_type": "markdown",
   "metadata": {},
   "source": [
    "## Installation\n",
    "\n",
    "```\n",
    "$ pipenv install ipyvuetify\n",
    "Installing ipyvuetify…\n",
    "…\n",
    "$ pipenv run jupyter nbextension enable --py --sys-prefix ipyvuetify\n",
    "Enabling notebook extension jupyter-vuetify/extension...\n",
    "      - Validating: OK\n",
    "```"
   ]
  },
  {
   "cell_type": "markdown",
   "metadata": {},
   "source": [
    "## Beispiele"
   ]
  },
  {
   "cell_type": "markdown",
   "metadata": {},
   "source": [
    "### Importe"
   ]
  },
  {
   "cell_type": "code",
   "execution_count": 1,
   "metadata": {},
   "outputs": [],
   "source": [
    "import ipywidgets\n",
    "import ipyvuetify as v\n",
    "\n",
    "from traitlets import (Any, Unicode, List)"
   ]
  },
  {
   "cell_type": "markdown",
   "metadata": {},
   "source": [
    "### Menü"
   ]
  },
  {
   "cell_type": "code",
   "execution_count": 2,
   "metadata": {},
   "outputs": [
    {
     "data": {
      "application/vnd.jupyter.widget-view+json": {
       "model_id": "5d362e35520b4c9aa6529aa6a89a1bd8",
       "version_major": 2,
       "version_minor": 0
      },
      "text/plain": [
       "Layout(children=[Menu(children=[Btn(children=['menu', Icon(children=['arrow_drop_down'], right=True)], color='…"
      ]
     },
     "metadata": {},
     "output_type": "display_data"
    }
   ],
   "source": [
    "def on_menu_click(widget, event, data):\n",
    "    if len(layout.children) == 1:\n",
    "        layout.children = layout.children + [info]\n",
    "    info.children=[f'Item {items.index(widget)+1} clicked']\n",
    "    \n",
    "\n",
    "items = [v.ListTile(children=[\n",
    "    v.ListTileTitle(children=[\n",
    "        f'Item {i}'])]) \n",
    "         for i in range(1, 5)]\n",
    "\n",
    "for item in items:\n",
    "    item.on_event('click', on_menu_click)\n",
    "\n",
    "menu = v.Menu(offset_y=True, children=[\n",
    "    v.Btn(slot='activator', color='primary', children=[\n",
    "        'menu', \n",
    "        v.Icon(right=True, children=[\n",
    "            'arrow_drop_down'\n",
    "        ])\n",
    "    ]),\n",
    "    v.List(children=items)\n",
    "])\n",
    "\n",
    "info = v.Chip()\n",
    "\n",
    "layout = v.Layout(children=[\n",
    "    menu\n",
    "])\n",
    "layout"
   ]
  },
  {
   "cell_type": "markdown",
   "metadata": {},
   "source": [
    "### Buttons"
   ]
  },
  {
   "cell_type": "code",
   "execution_count": 3,
   "metadata": {},
   "outputs": [
    {
     "data": {
      "application/vnd.jupyter.widget-view+json": {
       "model_id": "1f36b682aa5842ff82a5ce3674ce9f42",
       "version_major": 2,
       "version_minor": 0
      },
      "text/plain": [
       "Layout(children=[Btn(children=['primary'], color='primary'), Btn(children=['error'], color='error'), Btn(child…"
      ]
     },
     "metadata": {},
     "output_type": "display_data"
    }
   ],
   "source": [
    "v.Layout(children=[\n",
    "    v.Btn(color='primary', children=['primary']),\n",
    "    v.Btn(color='error', children=['error']),\n",
    "    v.Btn(disabled=True, children=['disabled']),\n",
    "    v.Btn(children=['reset']),\n",
    "    v.Btn(color='primary', flat=True, children=['flat']),\n",
    "    v.Btn(color='primary', round=True, children=['round']),\n",
    "    v.Btn(color='primary', flat=True, icon=True, children=[v.Icon(children=['thumb_up'])]),\n",
    "    v.Btn(color='primary', outline=True, children=['outline']),\n",
    "    v.Btn(color='primary', fab=True, large=True, children=[v.Icon(children=['edit'])]),\n",
    "])"
   ]
  },
  {
   "cell_type": "code",
   "execution_count": 4,
   "metadata": {},
   "outputs": [
    {
     "data": {
      "application/vnd.jupyter.widget-view+json": {
       "model_id": "05078ea18a3c4abb9bcb24c7f02b8143",
       "version_major": 2,
       "version_minor": 0
      },
      "text/plain": [
       "Layout(children=[Btn(children=['loader'], loading=False)])"
      ]
     },
     "metadata": {},
     "output_type": "display_data"
    }
   ],
   "source": [
    "def toggleLoading():\n",
    "    button2.loading = not button2.loading\n",
    "    button2.disabled = button2.loading\n",
    "\n",
    "def on_loader_click(*args):\n",
    "    toggleLoading()\n",
    "    Timer(2.0, toggleLoading).start()\n",
    "    \n",
    "button2 = v.Btn(loading=False, children=['loader'])\n",
    "button2.on_event('click', on_loader_click)\n",
    "\n",
    "v.Layout(children=[button2])"
   ]
  },
  {
   "cell_type": "code",
   "execution_count": 5,
   "metadata": {},
   "outputs": [
    {
     "data": {
      "application/vnd.jupyter.widget-view+json": {
       "model_id": "0676f032e3d0436ea37ea7dc01aa09fb",
       "version_major": 2,
       "version_minor": 0
      },
      "text/plain": [
       "Layout(children=[BtnToggle(children=[Btn(children=[Icon(children=['format_align_left'])], flat=True), Btn(chil…"
      ]
     },
     "metadata": {},
     "output_type": "display_data"
    }
   ],
   "source": [
    "toggle_single = v.BtnToggle(v_model=2, class_='mr-3', children=[\n",
    "    v.Btn(flat=True, children=[v.Icon(children=['format_align_left'])]),\n",
    "    v.Btn(flat=True, children=[v.Icon(children=['format_align_center'])]),\n",
    "    v.Btn(flat=True, children=[v.Icon(children=['format_align_right'])]),\n",
    "    v.Btn(flat=True, children=[v.Icon(children=['format_align_justify'])]),\n",
    "])\n",
    "\n",
    "toggle_multi = v.BtnToggle(v_model=[0,2], multiple=True, children=[\n",
    "    v.Btn(flat=True, children=[v.Icon(children=['format_bold'])]),\n",
    "    v.Btn(flat=True, children=[v.Icon(children=['format_italic'])]),\n",
    "    v.Btn(flat=True, children=[v.Icon(children=['format_underline'])]),\n",
    "    v.Btn(flat=True, children=[v.Icon(children=['format_color_fill'])]),\n",
    "])\n",
    "\n",
    "v.Layout(children=[\n",
    "    toggle_single,\n",
    "    toggle_multi,\n",
    "])"
   ]
  },
  {
   "cell_type": "code",
   "execution_count": 6,
   "metadata": {},
   "outputs": [
    {
     "data": {
      "application/vnd.jupyter.widget-view+json": {
       "model_id": "0bd0537a5506488d8ada54a85319230d",
       "version_major": 2,
       "version_minor": 0
      },
      "text/plain": [
       "Layout(children=[Btn(children=[Icon(children=['fingerprint'], left=True), 'Icon left'], color='primary'), Btn(…"
      ]
     },
     "metadata": {},
     "output_type": "display_data"
    }
   ],
   "source": [
    "v.Layout(children=[\n",
    "    v.Btn(color='primary', children=[\n",
    "        v.Icon(left=True, children=['fingerprint']),\n",
    "        'Icon left'\n",
    "    ]),\n",
    "    v.Btn(color='primary', children=[\n",
    "        'Icon right',\n",
    "        v.Icon(right=True, children=['fingerprint']),\n",
    "    ]),\n",
    "    v.Tooltip(bottom=True, children=[\n",
    "        v.Btn(slot='activator', color='primary', children=[\n",
    "           'tooltip' \n",
    "        ]),\n",
    "        'Insert tooltip text here'\n",
    "    ])    \n",
    "])"
   ]
  },
  {
   "cell_type": "code",
   "execution_count": 7,
   "metadata": {},
   "outputs": [
    {
     "data": {
      "application/vnd.jupyter.widget-view+json": {
       "model_id": "3a2b7bf777ee467fa9d4616a45d2ec69",
       "version_major": 2,
       "version_minor": 0
      },
      "text/plain": [
       "Dialog(children=[Btn(children=['Open dialog'], color='success', dark=True, slot='activator'), Card(children=[C…"
      ]
     },
     "metadata": {},
     "output_type": "display_data"
    }
   ],
   "source": [
    "lorum_ipsum = 'Lorem ipsum dolor sit amet, consectetur adipiscing elit, sed do eiusmod tempor incididunt ut labore et dolore magna aliqua.'\n",
    "\n",
    "v.Dialog(v_model=False, width='500', children=[\n",
    "        v.Btn(slot=\"activator\", color='success', dark=True, children=[\n",
    "            \"Open dialog\"\n",
    "        ]),\n",
    "        v.Card(children=[\n",
    "            v.CardTitle(class_='headline gray lighten-2', primary_title=True, children=[\n",
    "                \"Lorem ipsum\"]),\n",
    "            v.CardText(children=[\n",
    "                lorum_ipsum])\n",
    "        ])\n",
    "    ])"
   ]
  },
  {
   "cell_type": "markdown",
   "metadata": {},
   "source": [
    "### Slider"
   ]
  },
  {
   "cell_type": "code",
   "execution_count": 8,
   "metadata": {},
   "outputs": [
    {
     "data": {
      "application/vnd.jupyter.widget-view+json": {
       "model_id": "55dc9e64356b44cfb3c2d7310b0c5bb8",
       "version_major": 2,
       "version_minor": 0
      },
      "text/plain": [
       "Container(children=[Slider(v_model=25), Slider(thumb_label=True, v_model=25)])"
      ]
     },
     "metadata": {},
     "output_type": "display_data"
    }
   ],
   "source": [
    "slider = v.Slider(v_model=25)\n",
    "slider2 = v.Slider(thumb_label=True, v_model=25)\n",
    "slider3 = v.Slider(thumb_label='always', v_model=25)\n",
    "\n",
    "ipywidgets.jslink((slider, 'v_model'), (slider2, 'v_model'))\n",
    "\n",
    "v.Container(children=[\n",
    "    slider,\n",
    "    slider2,\n",
    "])"
   ]
  },
  {
   "cell_type": "markdown",
   "metadata": {},
   "source": [
    "### Reiter"
   ]
  },
  {
   "cell_type": "code",
   "execution_count": 9,
   "metadata": {},
   "outputs": [
    {
     "data": {
      "application/vnd.jupyter.widget-view+json": {
       "model_id": "c1876f07f79543888a6ca419b4f84741",
       "version_major": 2,
       "version_minor": 0
      },
      "text/plain": [
       "Tabs(children=[Tab(children=['Tab 1']), Tab(children=['Tab 2']), Tab(children=['Tab 3']), TabItem(children=['L…"
      ]
     },
     "metadata": {},
     "output_type": "display_data"
    }
   ],
   "source": [
    "tab_list = [v.Tab(children=['Tab ' + str(i)]) for i in range(1,4)]\n",
    "content_list = [v.TabItem(children=[lorum_ipsum]) for i in range(1,4)] \n",
    "tabs = v.Tabs(\n",
    "    v_model=1, \n",
    "    children=tab_list + content_list)\n",
    "tabs"
   ]
  },
  {
   "cell_type": "markdown",
   "metadata": {},
   "source": [
    "### Akkordeon"
   ]
  },
  {
   "cell_type": "code",
   "execution_count": 10,
   "metadata": {},
   "outputs": [
    {
     "data": {
      "application/vnd.jupyter.widget-view+json": {
       "model_id": "cd0b4beb87d64724b4cf308956cafdc5",
       "version_major": 2,
       "version_minor": 0
      },
      "text/plain": [
       "Layout(children=[ExpansionPanel(children=[ExpansionPanelContent(children=[Html(children=['item1'], slot='heade…"
      ]
     },
     "metadata": {},
     "output_type": "display_data"
    }
   ],
   "source": [
    "vepc1 = v.ExpansionPanelContent(children=[\n",
    "    v.Html(tag='div', slot='header', children=['item1']),\n",
    "    v.Card(children=[\n",
    "        v.CardText(children=['First Text'])])])\n",
    "\n",
    "vepc2 = v.ExpansionPanelContent(children=[\n",
    "    v.Html(tag='div', slot='header', children=['item2']),\n",
    "    v.Card(children=[\n",
    "        v.CardText(children=['Second Text'])])])\n",
    "\n",
    "vep = v.ExpansionPanel(children=[vepc1, vepc2])\n",
    "vl = v.Layout(children=[vep])\n",
    "vl"
   ]
  },
  {
   "cell_type": "markdown",
   "metadata": {},
   "source": [
    "In der [Vuetify-Dokumentation](https://v15.vuetifyjs.com/en/components/buttons#buttons) könnt ihr nach allen verfügbaren Komponenten und Attributen suchen. Dabei orientiert sich Ipyvuetify an  der Syntax von Vue.js- und Vuetify, aber es gibt auch einige Unterschiede:\n",
    "\n",
    "| Beschreibung | Vuetify | ipyvuetify |\n",
    "| ------------- | --------- | ------------ |\n",
    "| Komponentennamen werden in CamelCase geschrieben und der `v`-Präfix entfernt | `<v-list-tile …/>` | `ListTile(…)` |\n",
    "| Untergeordnete Komponenten und Text werden im Traitlet für untergeordnete Elemente definiert | `<v-btn>text <v-icon …/></v-btn>` | `Btn(children=['text', Icon(…)])` |\n",
    "| Flag-Attribute erfordern einen booleschen Wert | `<v-btn round …` | `Btn(round=True …` |\n",
    "| Attribute sind snake_case | `<v-menu offset-y …` | `Menu(offset_y=True …` |\n",
    "| Das Attribut `v_model` (Wert in ipywidgets) erhält den Wert direkt | `<v-slider v-model=\"some_property\" …` | `Slider(v_model=25…` |\n",
    "| Der Geltungsbereich von `slot` kann aktuell noch nicht angegeben werden | `<v-menu><template slot:activator=\"{ on }\"><v-btn v-on=on>` | `Menu(children=[Btn(slot='activator',…), …]`\n",
    "| Event-Listener werden mit `on_event` definiert | `<v-btn @click='someMethod()' …` | `def some_method (widget, event, data):` mit `button.on_event('click', some_method)` |\n",
    "| Reguläre HTML-Tags können mit der Klasse `Html` erstellt werden | `<div>…</div>` | `Html(tag='div', children=[…])` |\n",
    "| Den Attributen `class` und `style` muss ein Unterstrich angefügt werden | `<v-btn class=\"mr-3\" style=\"…\" >` | `Btn(class_='mr-3', style_='…')` |"
   ]
  },
  {
   "cell_type": "markdown",
   "metadata": {},
   "source": [
    "## `VuetifyTemplate`\n",
    "\n",
    "Eine engere Übereinstimmung mit der Vue/Vuetify-API erhaltet ihr mit `VuetifyTemplate`. Hierfür erstellt ihr eine Unterklasse von `VuetifyTemplate` und definiert eigene Traitlets. Auf die Traitlets kann über das Template zugegriffen werden, so als befänden sie sich in einem Vue-Modell. Methoden können mit dem Präfix `vue_` definiert werden, z.B. `def vue_button_click(self, data)`, das dann mit `@click=\"button_click(e)\"` aufgerufen werden kann. Im Folgenden eine Tabelle mit Suche, Sortierung und Zeilenanzahl:"
   ]
  },
  {
   "cell_type": "code",
   "execution_count": 11,
   "metadata": {},
   "outputs": [
    {
     "data": {
      "application/vnd.jupyter.widget-view+json": {
       "model_id": "ba2ccd75a6304743b3023d96a303a60f",
       "version_major": 2,
       "version_minor": 0
      },
      "text/plain": [
       "PandasDataFrame(headers=[{'text': 'index', 'value': 'index', 'align': 'left', 'sortable': True}, {'text': 'sep…"
      ]
     },
     "metadata": {},
     "output_type": "display_data"
    }
   ],
   "source": [
    "import pandas as pd\n",
    "import traitlets\n",
    "import ipyvuetify as v\n",
    "import json\n",
    "\n",
    "class PandasDataFrame(v.VuetifyTemplate):\n",
    "    \"\"\"\n",
    "    Vuetify DataTable rendering of a pandas DataFrame\n",
    "    \n",
    "    Args:\n",
    "        data (DataFrame) - the data to render\n",
    "        title (str) - optional title\n",
    "    \"\"\"\n",
    "    \n",
    "    headers = traitlets.List([]).tag(sync=True, allow_null=True)\n",
    "    items = traitlets.List([]).tag(sync=True, allow_null=True)\n",
    "    search = traitlets.Unicode('').tag(sync=True)\n",
    "    title = traitlets.Unicode('DataFrame').tag(sync=True)\n",
    "    index_col = traitlets.Unicode('').tag(sync=True)\n",
    "    template = traitlets.Unicode('''\n",
    "        <template>\n",
    "          <v-card>\n",
    "            <v-card-title>\n",
    "              <span class=\"title font-weight-bold\">{{ title }}</span>\n",
    "              <v-spacer></v-spacer>\n",
    "                <v-text-field\n",
    "                    v-model=\"search\"\n",
    "                    append-icon=\"search\"\n",
    "                    label=\"Search ...\"\n",
    "                    single-line\n",
    "                    hide-details\n",
    "                ></v-text-field>\n",
    "            </v-card-title>\n",
    "            <v-data-table\n",
    "                :headers=\"headers\"\n",
    "                :items=\"items\"\n",
    "                :search=\"search\"\n",
    "                :item-key=\"index_col\"\n",
    "                :rows-per-page-items=\"[25, 50, 250, 500]\"\n",
    "            >\n",
    "                <template v-slot:no-data>\n",
    "                  <v-alert :value=\"true\" color=\"error\" icon=\"warning\">\n",
    "                    Sorry, nothing to display here :(\n",
    "                  </v-alert>\n",
    "                </template>\n",
    "                <template v-slot:no-results>\n",
    "                    <v-alert :value=\"true\" color=\"error\" icon=\"warning\">\n",
    "                      Your search for \"{{ search }}\" found no results.\n",
    "                    </v-alert>\n",
    "                </template>\n",
    "                <template v-slot:items=\"rows\">\n",
    "                  <td v-for=\"(element, label, index) in rows.item\"\n",
    "                      @click=cell_click(element)\n",
    "                      >\n",
    "                    {{ element }}\n",
    "                  </td>\n",
    "                </template>\n",
    "            </v-data-table>\n",
    "          </v-card>\n",
    "        </template>\n",
    "        ''').tag(sync=True)\n",
    "    \n",
    "    def __init__(self, *args, \n",
    "                 data=pd.DataFrame(), \n",
    "                 title=None,\n",
    "                 **kwargs):\n",
    "        super().__init__(*args, **kwargs)\n",
    "        data = data.reset_index()\n",
    "        self.index_col = data.columns[0]\n",
    "        headers = [{\n",
    "              \"text\": col,\n",
    "              \"value\": col\n",
    "            } for col in data.columns]\n",
    "        headers[0].update({'align': 'left', 'sortable': True})\n",
    "        self.headers = headers\n",
    "        self.items = json.loads(\n",
    "            data.to_json(orient='records'))\n",
    "        if title is not None:\n",
    "            self.title = title\n",
    "\n",
    "iris = pd.read_csv('https://raw.githubusercontent.com/mwaskom/seaborn-data/master/iris.csv')\n",
    "test = PandasDataFrame(data = iris, title='Iris')\n",
    "test"
   ]
  }
 ],
 "metadata": {
  "kernelspec": {
   "display_name": "Python 3.7.4",
   "language": "python",
   "name": "python3"
  },
  "language_info": {
   "codemirror_mode": {
    "name": "ipython",
    "version": 3
   },
   "file_extension": ".py",
   "mimetype": "text/x-python",
   "name": "python",
   "nbconvert_exporter": "python",
   "pygments_lexer": "ipython3",
   "version": "3.7.4"
  },
  "latex_envs": {
   "LaTeX_envs_menu_present": true,
   "autoclose": false,
   "autocomplete": true,
   "bibliofile": "biblio.bib",
   "cite_by": "apalike",
   "current_citInitial": 1,
   "eqLabelWithNumbers": true,
   "eqNumInitial": 1,
   "hotkeys": {
    "equation": "Ctrl-E",
    "itemize": "Ctrl-I"
   },
   "labels_anchors": false,
   "latex_user_defs": false,
   "report_style_numbering": false,
   "user_envs_cfg": false
  },
  "varInspector": {
   "cols": {
    "lenName": 16,
    "lenType": 16,
    "lenVar": 40
   },
   "kernels_config": {
    "python": {
     "delete_cmd_postfix": "",
     "delete_cmd_prefix": "del ",
     "library": "var_list.py",
     "varRefreshCmd": "print(var_dic_list())"
    },
    "r": {
     "delete_cmd_postfix": ") ",
     "delete_cmd_prefix": "rm(",
     "library": "var_list.r",
     "varRefreshCmd": "cat(var_dic_list()) "
    }
   },
   "types_to_exclude": [
    "module",
    "function",
    "builtin_function_or_method",
    "instance",
    "_Feature"
   ],
   "window_display": false
  },
  "widgets": {
   "application/vnd.jupyter.widget-state+json": {
    "state": {
     "0174bb6217c448e18814e6f7731ec2b7": {
      "model_module": "jupyter-vuetify",
      "model_module_version": "^0.1.11",
      "model_name": "MenuModel",
      "state": {
       "_events": [],
       "children": [
        "IPY_MODEL_11dcdad4169b4426a7225a5d15e76136",
        "IPY_MODEL_34c9cc6b52504a56a751fb4328f34543"
       ],
       "close_delay": null,
       "layout": "IPY_MODEL_e0c7ce2d4fd64d66af6ca0da0cc5677e",
       "max_width": null,
       "min_width": null,
       "nudge_bottom": null,
       "nudge_left": null,
       "nudge_right": null,
       "nudge_top": null,
       "nudge_width": null,
       "offset_y": true,
       "open_delay": null,
       "transition": null,
       "z_index": null
      }
     },
     "05078ea18a3c4abb9bcb24c7f02b8143": {
      "model_module": "jupyter-vuetify",
      "model_module_version": "^0.1.11",
      "model_name": "LayoutModel",
      "state": {
       "_events": [],
       "children": [
        "IPY_MODEL_4b7db65e8df04715811c0045f4dd9b1c"
       ],
       "layout": "IPY_MODEL_2d2f7462ed9c47b78887154eac993b07"
      }
     },
     "05aa1322be35479b9bd39c4792b46ae9": {
      "model_module": "@jupyter-widgets/base",
      "model_module_version": "1.2.0",
      "model_name": "LayoutModel",
      "state": {}
     },
     "0676f032e3d0436ea37ea7dc01aa09fb": {
      "model_module": "jupyter-vuetify",
      "model_module_version": "^0.1.11",
      "model_name": "LayoutModel",
      "state": {
       "_events": [],
       "children": [
        "IPY_MODEL_8f2b98bf08614db2aa5b15f093b24a65",
        "IPY_MODEL_ead3838e4f6d461cb841ce8d31cfbe17"
       ],
       "layout": "IPY_MODEL_05aa1322be35479b9bd39c4792b46ae9"
      }
     },
     "0745dc7cf27b4c7fb6999fc14b51e396": {
      "model_module": "jupyter-vuetify",
      "model_module_version": "^0.1.11",
      "model_name": "TabItemModel",
      "state": {
       "_events": [],
       "children": [
        "Lorem ipsum dolor sit amet, consectetur adipiscing elit, sed do eiusmod tempor incididunt ut labore et dolore magna aliqua."
       ],
       "layout": "IPY_MODEL_b6fc5a6da4954ce88199b86270f8f071",
       "reverse_transition": null,
       "transition": null
      }
     },
     "0bd0537a5506488d8ada54a85319230d": {
      "model_module": "jupyter-vuetify",
      "model_module_version": "^0.1.11",
      "model_name": "LayoutModel",
      "state": {
       "_events": [],
       "children": [
        "IPY_MODEL_4da3972a00dc4faf9898d7d6508f92e0",
        "IPY_MODEL_25827dfdae7546069810c0e5548fd297",
        "IPY_MODEL_fe25933200ef4785af9ca732923e72f9"
       ],
       "layout": "IPY_MODEL_81444fbad6b8431cbde4dfe9e19996d3"
      }
     },
     "0d5648393b3445c79ae6de295af778e7": {
      "model_module": "jupyter-vuetify",
      "model_module_version": "^0.1.11",
      "model_name": "ListTileModel",
      "state": {
       "_events": [
        "click"
       ],
       "children": [
        "IPY_MODEL_e173f3d4e40e46cc93f8655978fa64c0"
       ],
       "href": null,
       "layout": "IPY_MODEL_827c6ea663f04d17ab9ff09fd7526c1a",
       "ripple": null,
       "to": null
      }
     },
     "10f9863ffec44248a34069d6974c8a15": {
      "model_module": "@jupyter-widgets/base",
      "model_module_version": "1.2.0",
      "model_name": "LayoutModel",
      "state": {}
     },
     "11b576d2df8d4637ab7fa10868a704e4": {
      "model_module": "jupyter-vuetify",
      "model_module_version": "^0.1.11",
      "model_name": "BtnModel",
      "state": {
       "_events": [],
       "children": [
        "Open dialog"
       ],
       "color": "success",
       "dark": true,
       "href": null,
       "layout": "IPY_MODEL_3c7a6120964442c988fffa09089e7808",
       "ripple": null,
       "slot": "activator",
       "to": null
      }
     },
     "11dcdad4169b4426a7225a5d15e76136": {
      "model_module": "jupyter-vuetify",
      "model_module_version": "^0.1.11",
      "model_name": "BtnModel",
      "state": {
       "_events": [],
       "children": [
        "menu",
        "IPY_MODEL_faa10caa9d2c4b0ab150b85805890f3c"
       ],
       "color": "primary",
       "href": null,
       "layout": "IPY_MODEL_f0eb4f7dcce94f8cb792d8ad96311888",
       "ripple": null,
       "slot": "activator",
       "to": null
      }
     },
     "18906cacfebf4e49bbfeb277060a1eb3": {
      "model_module": "jupyter-vuetify",
      "model_module_version": "^0.1.11",
      "model_name": "BtnModel",
      "state": {
       "_events": [],
       "children": [
        "reset"
       ],
       "href": null,
       "layout": "IPY_MODEL_cf1c750e352242b4bd8bf5023f1400de",
       "ripple": null,
       "to": null
      }
     },
     "1c3633a905204c2f8fab69ca272bd1d6": {
      "model_module": "jupyter-vuetify",
      "model_module_version": "^0.1.11",
      "model_name": "ListTileModel",
      "state": {
       "_events": [
        "click"
       ],
       "children": [
        "IPY_MODEL_ea65bfa4d1284433aa7ca69978b012a9"
       ],
       "href": null,
       "layout": "IPY_MODEL_8ad93ca0da6f45cba36bee86bc1c1b0b",
       "ripple": null,
       "to": null
      }
     },
     "1cb03d45d29a4f72901304107985eeb1": {
      "model_module": "@jupyter-widgets/base",
      "model_module_version": "1.2.0",
      "model_name": "LayoutModel",
      "state": {}
     },
     "1f36b682aa5842ff82a5ce3674ce9f42": {
      "model_module": "jupyter-vuetify",
      "model_module_version": "^0.1.11",
      "model_name": "LayoutModel",
      "state": {
       "_events": [],
       "children": [
        "IPY_MODEL_924fe9bbd11c490aac4fadcbfe33eae1",
        "IPY_MODEL_a5120bd3c14548d58a7de2f5046fa170",
        "IPY_MODEL_e45f3441b6c043dfbf28e13087d1869f",
        "IPY_MODEL_18906cacfebf4e49bbfeb277060a1eb3",
        "IPY_MODEL_6d2bcafd940a4d46a4d34d71bb44642a",
        "IPY_MODEL_4a188cb975014022bb670d937dbbd705",
        "IPY_MODEL_3d107916b4814168b62de60a91191dcc",
        "IPY_MODEL_2bc2831ed7b747cda619614d8b71140d",
        "IPY_MODEL_c10ab29fbb2e4f3e83a60a2aff82b194"
       ],
       "layout": "IPY_MODEL_c5a39cc2132f4428a54fb24c0a8c26db"
      }
     },
     "1f60a05b1a424502b8c46d619424e4d2": {
      "model_module": "@jupyter-widgets/base",
      "model_module_version": "1.2.0",
      "model_name": "LayoutModel",
      "state": {}
     },
     "21a1aa45d4fb4a788613118ae5b0a388": {
      "model_module": "@jupyter-widgets/base",
      "model_module_version": "1.2.0",
      "model_name": "LayoutModel",
      "state": {}
     },
     "22c6c34df184404dbc94b818bd35e7e2": {
      "model_module": "@jupyter-widgets/base",
      "model_module_version": "1.2.0",
      "model_name": "LayoutModel",
      "state": {}
     },
     "22e10f8b769e4afc9766e6002e443e6e": {
      "model_module": "@jupyter-widgets/base",
      "model_module_version": "1.2.0",
      "model_name": "LayoutModel",
      "state": {}
     },
     "230dd17f712c4f6691b0fb3426af1abd": {
      "model_module": "jupyter-vuetify",
      "model_module_version": "^0.1.11",
      "model_name": "CardModel",
      "state": {
       "_events": [],
       "children": [
        "IPY_MODEL_eb03b0ddbbc5428b94a96c6fa1bd0786"
       ],
       "elevation": null,
       "height": null,
       "href": null,
       "layout": "IPY_MODEL_429f4182cacb4681a8821772ed452503",
       "max_height": null,
       "max_width": null,
       "min_height": null,
       "min_width": null,
       "ripple": null,
       "to": null,
       "width": null
      }
     },
     "2314ef14b73c4f1d919ad706ae27da2e": {
      "model_module": "@jupyter-widgets/base",
      "model_module_version": "1.2.0",
      "model_name": "LayoutModel",
      "state": {}
     },
     "239907ce24f244b78b4aee6f9438474f": {
      "model_module": "@jupyter-widgets/base",
      "model_module_version": "1.2.0",
      "model_name": "LayoutModel",
      "state": {}
     },
     "23cd8671bbef41198ba8af8779462d72": {
      "model_module": "@jupyter-widgets/base",
      "model_module_version": "1.2.0",
      "model_name": "LayoutModel",
      "state": {}
     },
     "25827dfdae7546069810c0e5548fd297": {
      "model_module": "jupyter-vuetify",
      "model_module_version": "^0.1.11",
      "model_name": "BtnModel",
      "state": {
       "_events": [],
       "children": [
        "Icon right",
        "IPY_MODEL_f82033c0736447e4b4d48c57227dec3f"
       ],
       "color": "primary",
       "href": null,
       "layout": "IPY_MODEL_af88032e91124e83a4e0d76edda746f9",
       "ripple": null,
       "to": null
      }
     },
     "28a29ad1270c4986b7d00c6f8ba8ec30": {
      "model_module": "@jupyter-widgets/base",
      "model_module_version": "1.2.0",
      "model_name": "LayoutModel",
      "state": {}
     },
     "2bc2831ed7b747cda619614d8b71140d": {
      "model_module": "jupyter-vuetify",
      "model_module_version": "^0.1.11",
      "model_name": "BtnModel",
      "state": {
       "_events": [],
       "children": [
        "outline"
       ],
       "color": "primary",
       "href": null,
       "layout": "IPY_MODEL_d34c0f186b184c4c88c20315b9acc0f7",
       "outline": true,
       "ripple": null,
       "to": null
      }
     },
     "2c47f40aa9224f3ab014f8a9d6e48f92": {
      "model_module": "@jupyter-widgets/base",
      "model_module_version": "1.2.0",
      "model_name": "LayoutModel",
      "state": {}
     },
     "2d2f7462ed9c47b78887154eac993b07": {
      "model_module": "@jupyter-widgets/base",
      "model_module_version": "1.2.0",
      "model_name": "LayoutModel",
      "state": {}
     },
     "2f286f39ec7643e7b05b7bb5498fdc2a": {
      "model_module": "jupyter-vuetify",
      "model_module_version": "^0.1.11",
      "model_name": "BtnModel",
      "state": {
       "_events": [],
       "children": [
        "IPY_MODEL_731bc264b1b1447d8e926b6d133338e0"
       ],
       "flat": true,
       "href": null,
       "layout": "IPY_MODEL_feb64ec8028549bba9a211cbe5e52124",
       "ripple": null,
       "to": null
      }
     },
     "30c436ca6f9344a9a8a1db0b6bf54fff": {
      "model_module": "@jupyter-widgets/base",
      "model_module_version": "1.2.0",
      "model_name": "LayoutModel",
      "state": {}
     },
     "33c9a7d0c92242bd8941ec57089ff869": {
      "model_module": "@jupyter-widgets/base",
      "model_module_version": "1.2.0",
      "model_name": "LayoutModel",
      "state": {}
     },
     "34c9cc6b52504a56a751fb4328f34543": {
      "model_module": "jupyter-vuetify",
      "model_module_version": "^0.1.11",
      "model_name": "ListModel",
      "state": {
       "_events": [],
       "children": [
        "IPY_MODEL_0d5648393b3445c79ae6de295af778e7",
        "IPY_MODEL_b5a293b52970425ba1706b5518dd2acd",
        "IPY_MODEL_a463a19b827b43399ac52ce68a2fce62",
        "IPY_MODEL_1c3633a905204c2f8fab69ca272bd1d6"
       ],
       "layout": "IPY_MODEL_fdd70cfdf27d492595283121ab6aee09"
      }
     },
     "363e7593ba5240c4a91b29fffade2246": {
      "model_module": "@jupyter-widgets/base",
      "model_module_version": "1.2.0",
      "model_name": "LayoutModel",
      "state": {}
     },
     "39e22a9987394006bf30b4ee18724439": {
      "model_module": "jupyter-vuetify",
      "model_module_version": "^0.1.11",
      "model_name": "ListTileTitleModel",
      "state": {
       "_events": [],
       "children": [
        "Item 3"
       ],
       "layout": "IPY_MODEL_446dfbffbc8844d39b8d32c849439214"
      }
     },
     "3a2b7bf777ee467fa9d4616a45d2ec69": {
      "model_module": "jupyter-vuetify",
      "model_module_version": "^0.1.11",
      "model_name": "DialogModel",
      "state": {
       "_events": [],
       "children": [
        "IPY_MODEL_11b576d2df8d4637ab7fa10868a704e4",
        "IPY_MODEL_e96bf74c169f4510bd0469d5c192c132"
       ],
       "layout": "IPY_MODEL_759400f6fd4f49e3b9d878d57f0c48f4",
       "max_width": null,
       "transition": null,
       "v_model": false,
       "width": "500"
      }
     },
     "3c7a6120964442c988fffa09089e7808": {
      "model_module": "@jupyter-widgets/base",
      "model_module_version": "1.2.0",
      "model_name": "LayoutModel",
      "state": {}
     },
     "3d107916b4814168b62de60a91191dcc": {
      "model_module": "jupyter-vuetify",
      "model_module_version": "^0.1.11",
      "model_name": "BtnModel",
      "state": {
       "_events": [],
       "children": [
        "IPY_MODEL_e563b84934554a2b97ccff30748f7976"
       ],
       "color": "primary",
       "flat": true,
       "href": null,
       "icon": true,
       "layout": "IPY_MODEL_ab782c0df156436bacdca84e09068c2b",
       "ripple": null,
       "to": null
      }
     },
     "3f090e7469144d60a28b61aaa54dd5c1": {
      "model_module": "jupyter-vuetify",
      "model_module_version": "^0.1.11",
      "model_name": "CardModel",
      "state": {
       "_events": [],
       "children": [
        "IPY_MODEL_3f8f1258a325460eb3e5910fe8dbd3ed"
       ],
       "elevation": null,
       "height": null,
       "href": null,
       "layout": "IPY_MODEL_80b9af4a7f5a4d65ae9cfbc61a096dc7",
       "max_height": null,
       "max_width": null,
       "min_height": null,
       "min_width": null,
       "ripple": null,
       "to": null,
       "width": null
      }
     },
     "3f8f1258a325460eb3e5910fe8dbd3ed": {
      "model_module": "jupyter-vuetify",
      "model_module_version": "^0.1.11",
      "model_name": "CardTextModel",
      "state": {
       "_events": [],
       "children": [
        "Second Text"
       ],
       "layout": "IPY_MODEL_5ba969e9829840298886d7c738a74609"
      }
     },
     "41da6204c2f04681a830646b9a57e2ee": {
      "model_module": "@jupyter-widgets/base",
      "model_module_version": "1.2.0",
      "model_name": "LayoutModel",
      "state": {}
     },
     "429f4182cacb4681a8821772ed452503": {
      "model_module": "@jupyter-widgets/base",
      "model_module_version": "1.2.0",
      "model_name": "LayoutModel",
      "state": {}
     },
     "43d6683a1a544479802bb084ce872abb": {
      "model_module": "jupyter-vuetify",
      "model_module_version": "^0.1.11",
      "model_name": "BtnModel",
      "state": {
       "_events": [],
       "children": [
        "IPY_MODEL_d22fb4e2fd9140eebb077d69febb91ab"
       ],
       "flat": true,
       "href": null,
       "layout": "IPY_MODEL_6e07c322db244e3a9402420e2d99ed89",
       "ripple": null,
       "to": null
      }
     },
     "446dfbffbc8844d39b8d32c849439214": {
      "model_module": "@jupyter-widgets/base",
      "model_module_version": "1.2.0",
      "model_name": "LayoutModel",
      "state": {}
     },
     "460db57dd2f14964bead0e84004f2e9a": {
      "model_module": "jupyter-vuetify",
      "model_module_version": "^0.1.11",
      "model_name": "BtnModel",
      "state": {
       "_events": [],
       "children": [
        "IPY_MODEL_cdfea1eaae0a4eada33c65369e9dc3b3"
       ],
       "flat": true,
       "href": null,
       "layout": "IPY_MODEL_785c6857dcdf4fcb85bb4e5c97f264f4",
       "ripple": null,
       "to": null
      }
     },
     "46563508afd8453ea6a8561f9138e3c5": {
      "model_module": "@jupyter-widgets/base",
      "model_module_version": "1.2.0",
      "model_name": "LayoutModel",
      "state": {}
     },
     "46d305e3df7843fb9075b851d2855196": {
      "model_module": "@jupyter-widgets/base",
      "model_module_version": "1.2.0",
      "model_name": "LayoutModel",
      "state": {}
     },
     "4a188cb975014022bb670d937dbbd705": {
      "model_module": "jupyter-vuetify",
      "model_module_version": "^0.1.11",
      "model_name": "BtnModel",
      "state": {
       "_events": [],
       "children": [
        "round"
       ],
       "color": "primary",
       "href": null,
       "layout": "IPY_MODEL_239907ce24f244b78b4aee6f9438474f",
       "ripple": null,
       "round": true,
       "to": null
      }
     },
     "4a8d31d534b74509a4a23b58a360e911": {
      "model_module": "@jupyter-widgets/base",
      "model_module_version": "1.2.0",
      "model_name": "LayoutModel",
      "state": {}
     },
     "4b7db65e8df04715811c0045f4dd9b1c": {
      "model_module": "jupyter-vuetify",
      "model_module_version": "^0.1.11",
      "model_name": "BtnModel",
      "state": {
       "_events": [
        "click"
       ],
       "children": [
        "loader"
       ],
       "href": null,
       "layout": "IPY_MODEL_46d305e3df7843fb9075b851d2855196",
       "loading": false,
       "ripple": null,
       "to": null
      }
     },
     "4c7a585f974d47b39363a75a836f59b3": {
      "model_module": "@jupyter-widgets/base",
      "model_module_version": "1.2.0",
      "model_name": "LayoutModel",
      "state": {}
     },
     "4da3972a00dc4faf9898d7d6508f92e0": {
      "model_module": "jupyter-vuetify",
      "model_module_version": "^0.1.11",
      "model_name": "BtnModel",
      "state": {
       "_events": [],
       "children": [
        "IPY_MODEL_f9aaf396313c4c9ca61c6fd7f89937ad",
        "Icon left"
       ],
       "color": "primary",
       "href": null,
       "layout": "IPY_MODEL_5cd6b32cb672434f82d9b3e9b5003ea5",
       "ripple": null,
       "to": null
      }
     },
     "525d0a409b5c4020a35a2593f469205f": {
      "model_module": "jupyter-vuetify",
      "model_module_version": "^0.1.11",
      "model_name": "ListTileTitleModel",
      "state": {
       "_events": [],
       "children": [
        "Item 2"
       ],
       "layout": "IPY_MODEL_815a63db94664ac99ef174e45bcdfed1"
      }
     },
     "5268bfc86e1b4853bd3fe1e32f4dd8a2": {
      "model_module": "@jupyter-widgets/base",
      "model_module_version": "1.2.0",
      "model_name": "LayoutModel",
      "state": {}
     },
     "53fccf54e983411aa50c9b9fd6906fb6": {
      "model_module": "@jupyter-widgets/base",
      "model_module_version": "1.2.0",
      "model_name": "LayoutModel",
      "state": {}
     },
     "55dc9e64356b44cfb3c2d7310b0c5bb8": {
      "model_module": "jupyter-vuetify",
      "model_module_version": "^0.1.11",
      "model_name": "ContainerModel",
      "state": {
       "_events": [],
       "children": [
        "IPY_MODEL_7891b17954454b4dbe00bbb920c501ac",
        "IPY_MODEL_ba1476cfd5274ca1937b3ae1ce3ec1be"
       ],
       "layout": "IPY_MODEL_1cb03d45d29a4f72901304107985eeb1"
      }
     },
     "57193ee0717c466f9f3a99a3f33a559c": {
      "model_module": "jupyter-vuetify",
      "model_module_version": "^0.1.11",
      "model_name": "BtnModel",
      "state": {
       "_events": [],
       "children": [
        "IPY_MODEL_cea83876dca442b7918ed5ef8ab94093"
       ],
       "flat": true,
       "href": null,
       "layout": "IPY_MODEL_ca5771a4e4c3481d95154ee2176dd4d9",
       "ripple": null,
       "to": null
      }
     },
     "59ab6f6b811643fdb96623885218673e": {
      "model_module": "@jupyter-widgets/base",
      "model_module_version": "1.2.0",
      "model_name": "LayoutModel",
      "state": {}
     },
     "5a5e757956504de28722acaa54bb74ad": {
      "model_module": "jupyter-vuetify",
      "model_module_version": "^0.1.11",
      "model_name": "BtnModel",
      "state": {
       "_events": [],
       "children": [
        "IPY_MODEL_617107d70f1e42c4b367f742c5fd680f"
       ],
       "flat": true,
       "href": null,
       "layout": "IPY_MODEL_363e7593ba5240c4a91b29fffade2246",
       "ripple": null,
       "to": null
      }
     },
     "5ba969e9829840298886d7c738a74609": {
      "model_module": "@jupyter-widgets/base",
      "model_module_version": "1.2.0",
      "model_name": "LayoutModel",
      "state": {}
     },
     "5cd6b32cb672434f82d9b3e9b5003ea5": {
      "model_module": "@jupyter-widgets/base",
      "model_module_version": "1.2.0",
      "model_name": "LayoutModel",
      "state": {}
     },
     "5d362e35520b4c9aa6529aa6a89a1bd8": {
      "model_module": "jupyter-vuetify",
      "model_module_version": "^0.1.11",
      "model_name": "LayoutModel",
      "state": {
       "_events": [],
       "children": [
        "IPY_MODEL_0174bb6217c448e18814e6f7731ec2b7"
       ],
       "layout": "IPY_MODEL_23cd8671bbef41198ba8af8779462d72"
      }
     },
     "5d699172d463459b81949adbb99062f2": {
      "model_module": "@jupyter-widgets/base",
      "model_module_version": "1.2.0",
      "model_name": "LayoutModel",
      "state": {}
     },
     "604f558e609a42b5bfc5e2621a2b33b0": {
      "model_module": "@jupyter-widgets/base",
      "model_module_version": "1.2.0",
      "model_name": "LayoutModel",
      "state": {}
     },
     "617107d70f1e42c4b367f742c5fd680f": {
      "model_module": "jupyter-vuetify",
      "model_module_version": "^0.1.11",
      "model_name": "IconModel",
      "state": {
       "_events": [],
       "children": [
        "format_align_right"
       ],
       "layout": "IPY_MODEL_672b318e4b6040eea9051d99d9163ee7",
       "size": null
      }
     },
     "62faabfc3f8f42dba6e1d9877d1f017a": {
      "model_module": "@jupyter-widgets/base",
      "model_module_version": "1.2.0",
      "model_name": "LayoutModel",
      "state": {}
     },
     "672b318e4b6040eea9051d99d9163ee7": {
      "model_module": "@jupyter-widgets/base",
      "model_module_version": "1.2.0",
      "model_name": "LayoutModel",
      "state": {}
     },
     "6989d89496eb43e7a5c63955bb77d28d": {
      "model_module": "@jupyter-widgets/base",
      "model_module_version": "1.2.0",
      "model_name": "LayoutModel",
      "state": {}
     },
     "6d2bcafd940a4d46a4d34d71bb44642a": {
      "model_module": "jupyter-vuetify",
      "model_module_version": "^0.1.11",
      "model_name": "BtnModel",
      "state": {
       "_events": [],
       "children": [
        "flat"
       ],
       "color": "primary",
       "flat": true,
       "href": null,
       "layout": "IPY_MODEL_af6972cfe45f44808199f0888ef65ffc",
       "ripple": null,
       "to": null
      }
     },
     "6e07c322db244e3a9402420e2d99ed89": {
      "model_module": "@jupyter-widgets/base",
      "model_module_version": "1.2.0",
      "model_name": "LayoutModel",
      "state": {}
     },
     "6f17c6544e5d4275a5939397bdb38678": {
      "model_module": "jupyter-vuetify",
      "model_module_version": "^0.1.11",
      "model_name": "ExpansionPanelContentModel",
      "state": {
       "_events": [],
       "children": [
        "IPY_MODEL_f0e80413d3904f02be864113b0b75332",
        "IPY_MODEL_3f090e7469144d60a28b61aaa54dd5c1"
       ],
       "layout": "IPY_MODEL_71df16e864d84e41a0bad47e03c2ddbc",
       "ripple": null
      }
     },
     "71df16e864d84e41a0bad47e03c2ddbc": {
      "model_module": "@jupyter-widgets/base",
      "model_module_version": "1.2.0",
      "model_name": "LayoutModel",
      "state": {}
     },
     "731bc264b1b1447d8e926b6d133338e0": {
      "model_module": "jupyter-vuetify",
      "model_module_version": "^0.1.11",
      "model_name": "IconModel",
      "state": {
       "_events": [],
       "children": [
        "format_align_justify"
       ],
       "layout": "IPY_MODEL_30c436ca6f9344a9a8a1db0b6bf54fff",
       "size": null
      }
     },
     "737adbc7119342268d02feb718731b77": {
      "model_module": "jupyter-vuetify",
      "model_module_version": "^0.1.11",
      "model_name": "ExpansionPanelModel",
      "state": {
       "_events": [],
       "children": [
        "IPY_MODEL_d5ea99ef853d4e27854dd37986bacc7a",
        "IPY_MODEL_6f17c6544e5d4275a5939397bdb38678"
       ],
       "layout": "IPY_MODEL_f6a5a4f11b534e448da17b1e8350e26e",
       "value": null
      }
     },
     "759400f6fd4f49e3b9d878d57f0c48f4": {
      "model_module": "@jupyter-widgets/base",
      "model_module_version": "1.2.0",
      "model_name": "LayoutModel",
      "state": {}
     },
     "7680a1d61e914a05beafadf301e6bcf9": {
      "model_module": "jupyter-vuetify",
      "model_module_version": "^0.1.11",
      "model_name": "ChipModel",
      "state": {
       "_events": [],
       "children": [],
       "layout": "IPY_MODEL_c24a09882a6243ee82907f4b1e87f344"
      }
     },
     "76d83d4c4f5a4462a5c1d25b166f90eb": {
      "model_module": "@jupyter-widgets/base",
      "model_module_version": "1.2.0",
      "model_name": "LayoutModel",
      "state": {}
     },
     "785c6857dcdf4fcb85bb4e5c97f264f4": {
      "model_module": "@jupyter-widgets/base",
      "model_module_version": "1.2.0",
      "model_name": "LayoutModel",
      "state": {}
     },
     "7891b17954454b4dbe00bbb920c501ac": {
      "model_module": "jupyter-vuetify",
      "model_module_version": "^0.1.11",
      "model_name": "SliderModel",
      "state": {
       "_events": [],
       "children": [],
       "error_count": null,
       "error_messages": null,
       "height": null,
       "layout": "IPY_MODEL_10f9863ffec44248a34069d6974c8a15",
       "loading": null,
       "max": null,
       "messages": null,
       "min": null,
       "rules": [],
       "step": null,
       "success_messages": null,
       "thumb_label": null,
       "thumb_size": null,
       "tick_labels": [],
       "tick_size": null,
       "ticks": null,
       "v_model": 25,
       "value": null
      }
     },
     "7d43482f1bf745f88c8ded93b4de7558": {
      "model_module": "@jupyter-widgets/base",
      "model_module_version": "1.2.0",
      "model_name": "LayoutModel",
      "state": {}
     },
     "80b9af4a7f5a4d65ae9cfbc61a096dc7": {
      "model_module": "@jupyter-widgets/base",
      "model_module_version": "1.2.0",
      "model_name": "LayoutModel",
      "state": {}
     },
     "80d1e12c642a49788a797b5d8dbf525b": {
      "model_module": "@jupyter-widgets/base",
      "model_module_version": "1.2.0",
      "model_name": "LayoutModel",
      "state": {}
     },
     "81444fbad6b8431cbde4dfe9e19996d3": {
      "model_module": "@jupyter-widgets/base",
      "model_module_version": "1.2.0",
      "model_name": "LayoutModel",
      "state": {}
     },
     "815a63db94664ac99ef174e45bcdfed1": {
      "model_module": "@jupyter-widgets/base",
      "model_module_version": "1.2.0",
      "model_name": "LayoutModel",
      "state": {}
     },
     "827c6ea663f04d17ab9ff09fd7526c1a": {
      "model_module": "@jupyter-widgets/base",
      "model_module_version": "1.2.0",
      "model_name": "LayoutModel",
      "state": {}
     },
     "85f5a2f9c9a546f3bdad1ce8fa70cd6f": {
      "model_module": "@jupyter-widgets/base",
      "model_module_version": "1.2.0",
      "model_name": "LayoutModel",
      "state": {}
     },
     "8ad93ca0da6f45cba36bee86bc1c1b0b": {
      "model_module": "@jupyter-widgets/base",
      "model_module_version": "1.2.0",
      "model_name": "LayoutModel",
      "state": {}
     },
     "8d9a4dca573046c48039496870913f69": {
      "model_module": "@jupyter-widgets/base",
      "model_module_version": "1.2.0",
      "model_name": "LayoutModel",
      "state": {}
     },
     "8e208695ee9647dab133aa2465741a7f": {
      "model_module": "jupyter-vuetify",
      "model_module_version": "^0.1.11",
      "model_name": "TabModel",
      "state": {
       "_events": [],
       "children": [
        "Tab 1"
       ],
       "href": null,
       "layout": "IPY_MODEL_fdd08092363e48b58ea81fe1c74ffd10",
       "ripple": null,
       "to": null
      }
     },
     "8e45155ac7284f70ae3ffdb5d99e4b35": {
      "model_module": "jupyter-vuetify",
      "model_module_version": "^0.1.11",
      "model_name": "IconModel",
      "state": {
       "_events": [],
       "children": [
        "format_italic"
       ],
       "layout": "IPY_MODEL_5d699172d463459b81949adbb99062f2",
       "size": null
      }
     },
     "8f2b98bf08614db2aa5b15f093b24a65": {
      "model_module": "jupyter-vuetify",
      "model_module_version": "^0.1.11",
      "model_name": "BtnToggleModel",
      "state": {
       "_events": [],
       "children": [
        "IPY_MODEL_d91429f1102f4eb8b38e164a8dcb4929",
        "IPY_MODEL_911d63f56b9a4aa8bcc818ad00d7ae9a",
        "IPY_MODEL_5a5e757956504de28722acaa54bb74ad",
        "IPY_MODEL_2f286f39ec7643e7b05b7bb5498fdc2a"
       ],
       "class_": "mr-3",
       "layout": "IPY_MODEL_90d1260146084f23b7d5e1c840cb44d3",
       "max": null,
       "v_model": 2
      }
     },
     "90d1260146084f23b7d5e1c840cb44d3": {
      "model_module": "@jupyter-widgets/base",
      "model_module_version": "1.2.0",
      "model_name": "LayoutModel",
      "state": {}
     },
     "911d63f56b9a4aa8bcc818ad00d7ae9a": {
      "model_module": "jupyter-vuetify",
      "model_module_version": "^0.1.11",
      "model_name": "BtnModel",
      "state": {
       "_events": [],
       "children": [
        "IPY_MODEL_a02cdadf128a4d4da0857eb541f4927a"
       ],
       "flat": true,
       "href": null,
       "layout": "IPY_MODEL_b1e9211710cf4fbdabddfa3c7c39e52a",
       "ripple": null,
       "to": null
      }
     },
     "914ff3917d31455ba245cbea58c1b9b3": {
      "model_module": "@jupyter-widgets/base",
      "model_module_version": "1.2.0",
      "model_name": "LayoutModel",
      "state": {}
     },
     "91b14c1eab2a4915b8180b1123e5537e": {
      "model_module": "@jupyter-widgets/base",
      "model_module_version": "1.2.0",
      "model_name": "LayoutModel",
      "state": {}
     },
     "924fe9bbd11c490aac4fadcbfe33eae1": {
      "model_module": "jupyter-vuetify",
      "model_module_version": "^0.1.11",
      "model_name": "BtnModel",
      "state": {
       "_events": [],
       "children": [
        "primary"
       ],
       "color": "primary",
       "href": null,
       "layout": "IPY_MODEL_d7406bb80f68455c9468a5bd92bfc189",
       "ripple": null,
       "to": null
      }
     },
     "9586fde0997547d5b35e34bdb0b814c0": {
      "model_module": "@jupyter-widgets/base",
      "model_module_version": "1.2.0",
      "model_name": "LayoutModel",
      "state": {}
     },
     "9cbdae80e99b4d89abd32beb704974cb": {
      "model_module": "jupyter-vuetify",
      "model_module_version": "^0.1.11",
      "model_name": "TabItemModel",
      "state": {
       "_events": [],
       "children": [
        "Lorem ipsum dolor sit amet, consectetur adipiscing elit, sed do eiusmod tempor incididunt ut labore et dolore magna aliqua."
       ],
       "layout": "IPY_MODEL_21a1aa45d4fb4a788613118ae5b0a388",
       "reverse_transition": null,
       "transition": null
      }
     },
     "a02cdadf128a4d4da0857eb541f4927a": {
      "model_module": "jupyter-vuetify",
      "model_module_version": "^0.1.11",
      "model_name": "IconModel",
      "state": {
       "_events": [],
       "children": [
        "format_align_center"
       ],
       "layout": "IPY_MODEL_2314ef14b73c4f1d919ad706ae27da2e",
       "size": null
      }
     },
     "a32434ea8e13469aa57273bea82faa50": {
      "model_module": "@jupyter-widgets/base",
      "model_module_version": "1.2.0",
      "model_name": "LayoutModel",
      "state": {}
     },
     "a3f4fd4f20c3462487ce06a516ea34ed": {
      "model_module": "@jupyter-widgets/base",
      "model_module_version": "1.2.0",
      "model_name": "LayoutModel",
      "state": {}
     },
     "a463a19b827b43399ac52ce68a2fce62": {
      "model_module": "jupyter-vuetify",
      "model_module_version": "^0.1.11",
      "model_name": "ListTileModel",
      "state": {
       "_events": [
        "click"
       ],
       "children": [
        "IPY_MODEL_39e22a9987394006bf30b4ee18724439"
       ],
       "href": null,
       "layout": "IPY_MODEL_53fccf54e983411aa50c9b9fd6906fb6",
       "ripple": null,
       "to": null
      }
     },
     "a5120bd3c14548d58a7de2f5046fa170": {
      "model_module": "jupyter-vuetify",
      "model_module_version": "^0.1.11",
      "model_name": "BtnModel",
      "state": {
       "_events": [],
       "children": [
        "error"
       ],
       "color": "error",
       "href": null,
       "layout": "IPY_MODEL_c1f81f57026f4d35ad6d732771ad232c",
       "ripple": null,
       "to": null
      }
     },
     "ab782c0df156436bacdca84e09068c2b": {
      "model_module": "@jupyter-widgets/base",
      "model_module_version": "1.2.0",
      "model_name": "LayoutModel",
      "state": {}
     },
     "af6972cfe45f44808199f0888ef65ffc": {
      "model_module": "@jupyter-widgets/base",
      "model_module_version": "1.2.0",
      "model_name": "LayoutModel",
      "state": {}
     },
     "af88032e91124e83a4e0d76edda746f9": {
      "model_module": "@jupyter-widgets/base",
      "model_module_version": "1.2.0",
      "model_name": "LayoutModel",
      "state": {}
     },
     "b1e9211710cf4fbdabddfa3c7c39e52a": {
      "model_module": "@jupyter-widgets/base",
      "model_module_version": "1.2.0",
      "model_name": "LayoutModel",
      "state": {}
     },
     "b4350952c6c0454c8aaba07517f03b9a": {
      "model_module": "@jupyter-widgets/base",
      "model_module_version": "1.2.0",
      "model_name": "LayoutModel",
      "state": {}
     },
     "b50d8a8f6f10408fb0a5cce5e5c84654": {
      "model_module": "@jupyter-widgets/base",
      "model_module_version": "1.2.0",
      "model_name": "LayoutModel",
      "state": {}
     },
     "b5a293b52970425ba1706b5518dd2acd": {
      "model_module": "jupyter-vuetify",
      "model_module_version": "^0.1.11",
      "model_name": "ListTileModel",
      "state": {
       "_events": [
        "click"
       ],
       "children": [
        "IPY_MODEL_525d0a409b5c4020a35a2593f469205f"
       ],
       "href": null,
       "layout": "IPY_MODEL_46563508afd8453ea6a8561f9138e3c5",
       "ripple": null,
       "to": null
      }
     },
     "b5bdddcf362541e19f92d4e84b8adb99": {
      "model_module": "@jupyter-widgets/base",
      "model_module_version": "1.2.0",
      "model_name": "LayoutModel",
      "state": {}
     },
     "b6fc5a6da4954ce88199b86270f8f071": {
      "model_module": "@jupyter-widgets/base",
      "model_module_version": "1.2.0",
      "model_name": "LayoutModel",
      "state": {}
     },
     "ba1476cfd5274ca1937b3ae1ce3ec1be": {
      "model_module": "jupyter-vuetify",
      "model_module_version": "^0.1.11",
      "model_name": "SliderModel",
      "state": {
       "_events": [],
       "children": [],
       "error_count": null,
       "error_messages": null,
       "height": null,
       "layout": "IPY_MODEL_ec86ad97016a435aa593f9e498a769e9",
       "loading": null,
       "max": null,
       "messages": null,
       "min": null,
       "rules": [],
       "step": null,
       "success_messages": null,
       "thumb_label": true,
       "thumb_size": null,
       "tick_labels": [],
       "tick_size": null,
       "ticks": null,
       "v_model": 25,
       "value": null
      }
     },
     "ba2ccd75a6304743b3023d96a303a60f": {
      "model_module": "jupyter-vuetify",
      "model_module_version": "^0.1.11",
      "model_name": "VuetifyTemplateModel",
      "state": {
       "_model_module_version": "^0.1.11",
       "_view_module_version": "^0.1.11",
       "_view_name": "VuetifyView",
       "components": null,
       "events": [],
       "headers": [
        {
         "align": "left",
         "sortable": true,
         "text": "index",
         "value": "index"
        },
        {
         "text": "sepal_length",
         "value": "sepal_length"
        },
        {
         "text": "sepal_width",
         "value": "sepal_width"
        },
        {
         "text": "petal_length",
         "value": "petal_length"
        },
        {
         "text": "petal_width",
         "value": "petal_width"
        },
        {
         "text": "species",
         "value": "species"
        }
       ],
       "index_col": "index",
       "items": [
        {
         "index": 0,
         "petal_length": 1.4,
         "petal_width": 0.2,
         "sepal_length": 5.1,
         "sepal_width": 3.5,
         "species": "setosa"
        },
        {
         "index": 1,
         "petal_length": 1.4,
         "petal_width": 0.2,
         "sepal_length": 4.9,
         "sepal_width": 3,
         "species": "setosa"
        },
        {
         "index": 2,
         "petal_length": 1.3,
         "petal_width": 0.2,
         "sepal_length": 4.7,
         "sepal_width": 3.2,
         "species": "setosa"
        },
        {
         "index": 3,
         "petal_length": 1.5,
         "petal_width": 0.2,
         "sepal_length": 4.6,
         "sepal_width": 3.1,
         "species": "setosa"
        },
        {
         "index": 4,
         "petal_length": 1.4,
         "petal_width": 0.2,
         "sepal_length": 5,
         "sepal_width": 3.6,
         "species": "setosa"
        },
        {
         "index": 5,
         "petal_length": 1.7,
         "petal_width": 0.4,
         "sepal_length": 5.4,
         "sepal_width": 3.9,
         "species": "setosa"
        },
        {
         "index": 6,
         "petal_length": 1.4,
         "petal_width": 0.3,
         "sepal_length": 4.6,
         "sepal_width": 3.4,
         "species": "setosa"
        },
        {
         "index": 7,
         "petal_length": 1.5,
         "petal_width": 0.2,
         "sepal_length": 5,
         "sepal_width": 3.4,
         "species": "setosa"
        },
        {
         "index": 8,
         "petal_length": 1.4,
         "petal_width": 0.2,
         "sepal_length": 4.4,
         "sepal_width": 2.9,
         "species": "setosa"
        },
        {
         "index": 9,
         "petal_length": 1.5,
         "petal_width": 0.1,
         "sepal_length": 4.9,
         "sepal_width": 3.1,
         "species": "setosa"
        },
        {
         "index": 10,
         "petal_length": 1.5,
         "petal_width": 0.2,
         "sepal_length": 5.4,
         "sepal_width": 3.7,
         "species": "setosa"
        },
        {
         "index": 11,
         "petal_length": 1.6,
         "petal_width": 0.2,
         "sepal_length": 4.8,
         "sepal_width": 3.4,
         "species": "setosa"
        },
        {
         "index": 12,
         "petal_length": 1.4,
         "petal_width": 0.1,
         "sepal_length": 4.8,
         "sepal_width": 3,
         "species": "setosa"
        },
        {
         "index": 13,
         "petal_length": 1.1,
         "petal_width": 0.1,
         "sepal_length": 4.3,
         "sepal_width": 3,
         "species": "setosa"
        },
        {
         "index": 14,
         "petal_length": 1.2,
         "petal_width": 0.2,
         "sepal_length": 5.8,
         "sepal_width": 4,
         "species": "setosa"
        },
        {
         "index": 15,
         "petal_length": 1.5,
         "petal_width": 0.4,
         "sepal_length": 5.7,
         "sepal_width": 4.4,
         "species": "setosa"
        },
        {
         "index": 16,
         "petal_length": 1.3,
         "petal_width": 0.4,
         "sepal_length": 5.4,
         "sepal_width": 3.9,
         "species": "setosa"
        },
        {
         "index": 17,
         "petal_length": 1.4,
         "petal_width": 0.3,
         "sepal_length": 5.1,
         "sepal_width": 3.5,
         "species": "setosa"
        },
        {
         "index": 18,
         "petal_length": 1.7,
         "petal_width": 0.3,
         "sepal_length": 5.7,
         "sepal_width": 3.8,
         "species": "setosa"
        },
        {
         "index": 19,
         "petal_length": 1.5,
         "petal_width": 0.3,
         "sepal_length": 5.1,
         "sepal_width": 3.8,
         "species": "setosa"
        },
        {
         "index": 20,
         "petal_length": 1.7,
         "petal_width": 0.2,
         "sepal_length": 5.4,
         "sepal_width": 3.4,
         "species": "setosa"
        },
        {
         "index": 21,
         "petal_length": 1.5,
         "petal_width": 0.4,
         "sepal_length": 5.1,
         "sepal_width": 3.7,
         "species": "setosa"
        },
        {
         "index": 22,
         "petal_length": 1,
         "petal_width": 0.2,
         "sepal_length": 4.6,
         "sepal_width": 3.6,
         "species": "setosa"
        },
        {
         "index": 23,
         "petal_length": 1.7,
         "petal_width": 0.5,
         "sepal_length": 5.1,
         "sepal_width": 3.3,
         "species": "setosa"
        },
        {
         "index": 24,
         "petal_length": 1.9,
         "petal_width": 0.2,
         "sepal_length": 4.8,
         "sepal_width": 3.4,
         "species": "setosa"
        },
        {
         "index": 25,
         "petal_length": 1.6,
         "petal_width": 0.2,
         "sepal_length": 5,
         "sepal_width": 3,
         "species": "setosa"
        },
        {
         "index": 26,
         "petal_length": 1.6,
         "petal_width": 0.4,
         "sepal_length": 5,
         "sepal_width": 3.4,
         "species": "setosa"
        },
        {
         "index": 27,
         "petal_length": 1.5,
         "petal_width": 0.2,
         "sepal_length": 5.2,
         "sepal_width": 3.5,
         "species": "setosa"
        },
        {
         "index": 28,
         "petal_length": 1.4,
         "petal_width": 0.2,
         "sepal_length": 5.2,
         "sepal_width": 3.4,
         "species": "setosa"
        },
        {
         "index": 29,
         "petal_length": 1.6,
         "petal_width": 0.2,
         "sepal_length": 4.7,
         "sepal_width": 3.2,
         "species": "setosa"
        },
        {
         "index": 30,
         "petal_length": 1.6,
         "petal_width": 0.2,
         "sepal_length": 4.8,
         "sepal_width": 3.1,
         "species": "setosa"
        },
        {
         "index": 31,
         "petal_length": 1.5,
         "petal_width": 0.4,
         "sepal_length": 5.4,
         "sepal_width": 3.4,
         "species": "setosa"
        },
        {
         "index": 32,
         "petal_length": 1.5,
         "petal_width": 0.1,
         "sepal_length": 5.2,
         "sepal_width": 4.1,
         "species": "setosa"
        },
        {
         "index": 33,
         "petal_length": 1.4,
         "petal_width": 0.2,
         "sepal_length": 5.5,
         "sepal_width": 4.2,
         "species": "setosa"
        },
        {
         "index": 34,
         "petal_length": 1.5,
         "petal_width": 0.2,
         "sepal_length": 4.9,
         "sepal_width": 3.1,
         "species": "setosa"
        },
        {
         "index": 35,
         "petal_length": 1.2,
         "petal_width": 0.2,
         "sepal_length": 5,
         "sepal_width": 3.2,
         "species": "setosa"
        },
        {
         "index": 36,
         "petal_length": 1.3,
         "petal_width": 0.2,
         "sepal_length": 5.5,
         "sepal_width": 3.5,
         "species": "setosa"
        },
        {
         "index": 37,
         "petal_length": 1.4,
         "petal_width": 0.1,
         "sepal_length": 4.9,
         "sepal_width": 3.6,
         "species": "setosa"
        },
        {
         "index": 38,
         "petal_length": 1.3,
         "petal_width": 0.2,
         "sepal_length": 4.4,
         "sepal_width": 3,
         "species": "setosa"
        },
        {
         "index": 39,
         "petal_length": 1.5,
         "petal_width": 0.2,
         "sepal_length": 5.1,
         "sepal_width": 3.4,
         "species": "setosa"
        },
        {
         "index": 40,
         "petal_length": 1.3,
         "petal_width": 0.3,
         "sepal_length": 5,
         "sepal_width": 3.5,
         "species": "setosa"
        },
        {
         "index": 41,
         "petal_length": 1.3,
         "petal_width": 0.3,
         "sepal_length": 4.5,
         "sepal_width": 2.3,
         "species": "setosa"
        },
        {
         "index": 42,
         "petal_length": 1.3,
         "petal_width": 0.2,
         "sepal_length": 4.4,
         "sepal_width": 3.2,
         "species": "setosa"
        },
        {
         "index": 43,
         "petal_length": 1.6,
         "petal_width": 0.6,
         "sepal_length": 5,
         "sepal_width": 3.5,
         "species": "setosa"
        },
        {
         "index": 44,
         "petal_length": 1.9,
         "petal_width": 0.4,
         "sepal_length": 5.1,
         "sepal_width": 3.8,
         "species": "setosa"
        },
        {
         "index": 45,
         "petal_length": 1.4,
         "petal_width": 0.3,
         "sepal_length": 4.8,
         "sepal_width": 3,
         "species": "setosa"
        },
        {
         "index": 46,
         "petal_length": 1.6,
         "petal_width": 0.2,
         "sepal_length": 5.1,
         "sepal_width": 3.8,
         "species": "setosa"
        },
        {
         "index": 47,
         "petal_length": 1.4,
         "petal_width": 0.2,
         "sepal_length": 4.6,
         "sepal_width": 3.2,
         "species": "setosa"
        },
        {
         "index": 48,
         "petal_length": 1.5,
         "petal_width": 0.2,
         "sepal_length": 5.3,
         "sepal_width": 3.7,
         "species": "setosa"
        },
        {
         "index": 49,
         "petal_length": 1.4,
         "petal_width": 0.2,
         "sepal_length": 5,
         "sepal_width": 3.3,
         "species": "setosa"
        },
        {
         "index": 50,
         "petal_length": 4.7,
         "petal_width": 1.4,
         "sepal_length": 7,
         "sepal_width": 3.2,
         "species": "versicolor"
        },
        {
         "index": 51,
         "petal_length": 4.5,
         "petal_width": 1.5,
         "sepal_length": 6.4,
         "sepal_width": 3.2,
         "species": "versicolor"
        },
        {
         "index": 52,
         "petal_length": 4.9,
         "petal_width": 1.5,
         "sepal_length": 6.9,
         "sepal_width": 3.1,
         "species": "versicolor"
        },
        {
         "index": 53,
         "petal_length": 4,
         "petal_width": 1.3,
         "sepal_length": 5.5,
         "sepal_width": 2.3,
         "species": "versicolor"
        },
        {
         "index": 54,
         "petal_length": 4.6,
         "petal_width": 1.5,
         "sepal_length": 6.5,
         "sepal_width": 2.8,
         "species": "versicolor"
        },
        {
         "index": 55,
         "petal_length": 4.5,
         "petal_width": 1.3,
         "sepal_length": 5.7,
         "sepal_width": 2.8,
         "species": "versicolor"
        },
        {
         "index": 56,
         "petal_length": 4.7,
         "petal_width": 1.6,
         "sepal_length": 6.3,
         "sepal_width": 3.3,
         "species": "versicolor"
        },
        {
         "index": 57,
         "petal_length": 3.3,
         "petal_width": 1,
         "sepal_length": 4.9,
         "sepal_width": 2.4,
         "species": "versicolor"
        },
        {
         "index": 58,
         "petal_length": 4.6,
         "petal_width": 1.3,
         "sepal_length": 6.6,
         "sepal_width": 2.9,
         "species": "versicolor"
        },
        {
         "index": 59,
         "petal_length": 3.9,
         "petal_width": 1.4,
         "sepal_length": 5.2,
         "sepal_width": 2.7,
         "species": "versicolor"
        },
        {
         "index": 60,
         "petal_length": 3.5,
         "petal_width": 1,
         "sepal_length": 5,
         "sepal_width": 2,
         "species": "versicolor"
        },
        {
         "index": 61,
         "petal_length": 4.2,
         "petal_width": 1.5,
         "sepal_length": 5.9,
         "sepal_width": 3,
         "species": "versicolor"
        },
        {
         "index": 62,
         "petal_length": 4,
         "petal_width": 1,
         "sepal_length": 6,
         "sepal_width": 2.2,
         "species": "versicolor"
        },
        {
         "index": 63,
         "petal_length": 4.7,
         "petal_width": 1.4,
         "sepal_length": 6.1,
         "sepal_width": 2.9,
         "species": "versicolor"
        },
        {
         "index": 64,
         "petal_length": 3.6,
         "petal_width": 1.3,
         "sepal_length": 5.6,
         "sepal_width": 2.9,
         "species": "versicolor"
        },
        {
         "index": 65,
         "petal_length": 4.4,
         "petal_width": 1.4,
         "sepal_length": 6.7,
         "sepal_width": 3.1,
         "species": "versicolor"
        },
        {
         "index": 66,
         "petal_length": 4.5,
         "petal_width": 1.5,
         "sepal_length": 5.6,
         "sepal_width": 3,
         "species": "versicolor"
        },
        {
         "index": 67,
         "petal_length": 4.1,
         "petal_width": 1,
         "sepal_length": 5.8,
         "sepal_width": 2.7,
         "species": "versicolor"
        },
        {
         "index": 68,
         "petal_length": 4.5,
         "petal_width": 1.5,
         "sepal_length": 6.2,
         "sepal_width": 2.2,
         "species": "versicolor"
        },
        {
         "index": 69,
         "petal_length": 3.9,
         "petal_width": 1.1,
         "sepal_length": 5.6,
         "sepal_width": 2.5,
         "species": "versicolor"
        },
        {
         "index": 70,
         "petal_length": 4.8,
         "petal_width": 1.8,
         "sepal_length": 5.9,
         "sepal_width": 3.2,
         "species": "versicolor"
        },
        {
         "index": 71,
         "petal_length": 4,
         "petal_width": 1.3,
         "sepal_length": 6.1,
         "sepal_width": 2.8,
         "species": "versicolor"
        },
        {
         "index": 72,
         "petal_length": 4.9,
         "petal_width": 1.5,
         "sepal_length": 6.3,
         "sepal_width": 2.5,
         "species": "versicolor"
        },
        {
         "index": 73,
         "petal_length": 4.7,
         "petal_width": 1.2,
         "sepal_length": 6.1,
         "sepal_width": 2.8,
         "species": "versicolor"
        },
        {
         "index": 74,
         "petal_length": 4.3,
         "petal_width": 1.3,
         "sepal_length": 6.4,
         "sepal_width": 2.9,
         "species": "versicolor"
        },
        {
         "index": 75,
         "petal_length": 4.4,
         "petal_width": 1.4,
         "sepal_length": 6.6,
         "sepal_width": 3,
         "species": "versicolor"
        },
        {
         "index": 76,
         "petal_length": 4.8,
         "petal_width": 1.4,
         "sepal_length": 6.8,
         "sepal_width": 2.8,
         "species": "versicolor"
        },
        {
         "index": 77,
         "petal_length": 5,
         "petal_width": 1.7,
         "sepal_length": 6.7,
         "sepal_width": 3,
         "species": "versicolor"
        },
        {
         "index": 78,
         "petal_length": 4.5,
         "petal_width": 1.5,
         "sepal_length": 6,
         "sepal_width": 2.9,
         "species": "versicolor"
        },
        {
         "index": 79,
         "petal_length": 3.5,
         "petal_width": 1,
         "sepal_length": 5.7,
         "sepal_width": 2.6,
         "species": "versicolor"
        },
        {
         "index": 80,
         "petal_length": 3.8,
         "petal_width": 1.1,
         "sepal_length": 5.5,
         "sepal_width": 2.4,
         "species": "versicolor"
        },
        {
         "index": 81,
         "petal_length": 3.7,
         "petal_width": 1,
         "sepal_length": 5.5,
         "sepal_width": 2.4,
         "species": "versicolor"
        },
        {
         "index": 82,
         "petal_length": 3.9,
         "petal_width": 1.2,
         "sepal_length": 5.8,
         "sepal_width": 2.7,
         "species": "versicolor"
        },
        {
         "index": 83,
         "petal_length": 5.1,
         "petal_width": 1.6,
         "sepal_length": 6,
         "sepal_width": 2.7,
         "species": "versicolor"
        },
        {
         "index": 84,
         "petal_length": 4.5,
         "petal_width": 1.5,
         "sepal_length": 5.4,
         "sepal_width": 3,
         "species": "versicolor"
        },
        {
         "index": 85,
         "petal_length": 4.5,
         "petal_width": 1.6,
         "sepal_length": 6,
         "sepal_width": 3.4,
         "species": "versicolor"
        },
        {
         "index": 86,
         "petal_length": 4.7,
         "petal_width": 1.5,
         "sepal_length": 6.7,
         "sepal_width": 3.1,
         "species": "versicolor"
        },
        {
         "index": 87,
         "petal_length": 4.4,
         "petal_width": 1.3,
         "sepal_length": 6.3,
         "sepal_width": 2.3,
         "species": "versicolor"
        },
        {
         "index": 88,
         "petal_length": 4.1,
         "petal_width": 1.3,
         "sepal_length": 5.6,
         "sepal_width": 3,
         "species": "versicolor"
        },
        {
         "index": 89,
         "petal_length": 4,
         "petal_width": 1.3,
         "sepal_length": 5.5,
         "sepal_width": 2.5,
         "species": "versicolor"
        },
        {
         "index": 90,
         "petal_length": 4.4,
         "petal_width": 1.2,
         "sepal_length": 5.5,
         "sepal_width": 2.6,
         "species": "versicolor"
        },
        {
         "index": 91,
         "petal_length": 4.6,
         "petal_width": 1.4,
         "sepal_length": 6.1,
         "sepal_width": 3,
         "species": "versicolor"
        },
        {
         "index": 92,
         "petal_length": 4,
         "petal_width": 1.2,
         "sepal_length": 5.8,
         "sepal_width": 2.6,
         "species": "versicolor"
        },
        {
         "index": 93,
         "petal_length": 3.3,
         "petal_width": 1,
         "sepal_length": 5,
         "sepal_width": 2.3,
         "species": "versicolor"
        },
        {
         "index": 94,
         "petal_length": 4.2,
         "petal_width": 1.3,
         "sepal_length": 5.6,
         "sepal_width": 2.7,
         "species": "versicolor"
        },
        {
         "index": 95,
         "petal_length": 4.2,
         "petal_width": 1.2,
         "sepal_length": 5.7,
         "sepal_width": 3,
         "species": "versicolor"
        },
        {
         "index": 96,
         "petal_length": 4.2,
         "petal_width": 1.3,
         "sepal_length": 5.7,
         "sepal_width": 2.9,
         "species": "versicolor"
        },
        {
         "index": 97,
         "petal_length": 4.3,
         "petal_width": 1.3,
         "sepal_length": 6.2,
         "sepal_width": 2.9,
         "species": "versicolor"
        },
        {
         "index": 98,
         "petal_length": 3,
         "petal_width": 1.1,
         "sepal_length": 5.1,
         "sepal_width": 2.5,
         "species": "versicolor"
        },
        {
         "index": 99,
         "petal_length": 4.1,
         "petal_width": 1.3,
         "sepal_length": 5.7,
         "sepal_width": 2.8,
         "species": "versicolor"
        },
        {
         "index": 100,
         "petal_length": 6,
         "petal_width": 2.5,
         "sepal_length": 6.3,
         "sepal_width": 3.3,
         "species": "virginica"
        },
        {
         "index": 101,
         "petal_length": 5.1,
         "petal_width": 1.9,
         "sepal_length": 5.8,
         "sepal_width": 2.7,
         "species": "virginica"
        },
        {
         "index": 102,
         "petal_length": 5.9,
         "petal_width": 2.1,
         "sepal_length": 7.1,
         "sepal_width": 3,
         "species": "virginica"
        },
        {
         "index": 103,
         "petal_length": 5.6,
         "petal_width": 1.8,
         "sepal_length": 6.3,
         "sepal_width": 2.9,
         "species": "virginica"
        },
        {
         "index": 104,
         "petal_length": 5.8,
         "petal_width": 2.2,
         "sepal_length": 6.5,
         "sepal_width": 3,
         "species": "virginica"
        },
        {
         "index": 105,
         "petal_length": 6.6,
         "petal_width": 2.1,
         "sepal_length": 7.6,
         "sepal_width": 3,
         "species": "virginica"
        },
        {
         "index": 106,
         "petal_length": 4.5,
         "petal_width": 1.7,
         "sepal_length": 4.9,
         "sepal_width": 2.5,
         "species": "virginica"
        },
        {
         "index": 107,
         "petal_length": 6.3,
         "petal_width": 1.8,
         "sepal_length": 7.3,
         "sepal_width": 2.9,
         "species": "virginica"
        },
        {
         "index": 108,
         "petal_length": 5.8,
         "petal_width": 1.8,
         "sepal_length": 6.7,
         "sepal_width": 2.5,
         "species": "virginica"
        },
        {
         "index": 109,
         "petal_length": 6.1,
         "petal_width": 2.5,
         "sepal_length": 7.2,
         "sepal_width": 3.6,
         "species": "virginica"
        },
        {
         "index": 110,
         "petal_length": 5.1,
         "petal_width": 2,
         "sepal_length": 6.5,
         "sepal_width": 3.2,
         "species": "virginica"
        },
        {
         "index": 111,
         "petal_length": 5.3,
         "petal_width": 1.9,
         "sepal_length": 6.4,
         "sepal_width": 2.7,
         "species": "virginica"
        },
        {
         "index": 112,
         "petal_length": 5.5,
         "petal_width": 2.1,
         "sepal_length": 6.8,
         "sepal_width": 3,
         "species": "virginica"
        },
        {
         "index": 113,
         "petal_length": 5,
         "petal_width": 2,
         "sepal_length": 5.7,
         "sepal_width": 2.5,
         "species": "virginica"
        },
        {
         "index": 114,
         "petal_length": 5.1,
         "petal_width": 2.4,
         "sepal_length": 5.8,
         "sepal_width": 2.8,
         "species": "virginica"
        },
        {
         "index": 115,
         "petal_length": 5.3,
         "petal_width": 2.3,
         "sepal_length": 6.4,
         "sepal_width": 3.2,
         "species": "virginica"
        },
        {
         "index": 116,
         "petal_length": 5.5,
         "petal_width": 1.8,
         "sepal_length": 6.5,
         "sepal_width": 3,
         "species": "virginica"
        },
        {
         "index": 117,
         "petal_length": 6.7,
         "petal_width": 2.2,
         "sepal_length": 7.7,
         "sepal_width": 3.8,
         "species": "virginica"
        },
        {
         "index": 118,
         "petal_length": 6.9,
         "petal_width": 2.3,
         "sepal_length": 7.7,
         "sepal_width": 2.6,
         "species": "virginica"
        },
        {
         "index": 119,
         "petal_length": 5,
         "petal_width": 1.5,
         "sepal_length": 6,
         "sepal_width": 2.2,
         "species": "virginica"
        },
        {
         "index": 120,
         "petal_length": 5.7,
         "petal_width": 2.3,
         "sepal_length": 6.9,
         "sepal_width": 3.2,
         "species": "virginica"
        },
        {
         "index": 121,
         "petal_length": 4.9,
         "petal_width": 2,
         "sepal_length": 5.6,
         "sepal_width": 2.8,
         "species": "virginica"
        },
        {
         "index": 122,
         "petal_length": 6.7,
         "petal_width": 2,
         "sepal_length": 7.7,
         "sepal_width": 2.8,
         "species": "virginica"
        },
        {
         "index": 123,
         "petal_length": 4.9,
         "petal_width": 1.8,
         "sepal_length": 6.3,
         "sepal_width": 2.7,
         "species": "virginica"
        },
        {
         "index": 124,
         "petal_length": 5.7,
         "petal_width": 2.1,
         "sepal_length": 6.7,
         "sepal_width": 3.3,
         "species": "virginica"
        },
        {
         "index": 125,
         "petal_length": 6,
         "petal_width": 1.8,
         "sepal_length": 7.2,
         "sepal_width": 3.2,
         "species": "virginica"
        },
        {
         "index": 126,
         "petal_length": 4.8,
         "petal_width": 1.8,
         "sepal_length": 6.2,
         "sepal_width": 2.8,
         "species": "virginica"
        },
        {
         "index": 127,
         "petal_length": 4.9,
         "petal_width": 1.8,
         "sepal_length": 6.1,
         "sepal_width": 3,
         "species": "virginica"
        },
        {
         "index": 128,
         "petal_length": 5.6,
         "petal_width": 2.1,
         "sepal_length": 6.4,
         "sepal_width": 2.8,
         "species": "virginica"
        },
        {
         "index": 129,
         "petal_length": 5.8,
         "petal_width": 1.6,
         "sepal_length": 7.2,
         "sepal_width": 3,
         "species": "virginica"
        },
        {
         "index": 130,
         "petal_length": 6.1,
         "petal_width": 1.9,
         "sepal_length": 7.4,
         "sepal_width": 2.8,
         "species": "virginica"
        },
        {
         "index": 131,
         "petal_length": 6.4,
         "petal_width": 2,
         "sepal_length": 7.9,
         "sepal_width": 3.8,
         "species": "virginica"
        },
        {
         "index": 132,
         "petal_length": 5.6,
         "petal_width": 2.2,
         "sepal_length": 6.4,
         "sepal_width": 2.8,
         "species": "virginica"
        },
        {
         "index": 133,
         "petal_length": 5.1,
         "petal_width": 1.5,
         "sepal_length": 6.3,
         "sepal_width": 2.8,
         "species": "virginica"
        },
        {
         "index": 134,
         "petal_length": 5.6,
         "petal_width": 1.4,
         "sepal_length": 6.1,
         "sepal_width": 2.6,
         "species": "virginica"
        },
        {
         "index": 135,
         "petal_length": 6.1,
         "petal_width": 2.3,
         "sepal_length": 7.7,
         "sepal_width": 3,
         "species": "virginica"
        },
        {
         "index": 136,
         "petal_length": 5.6,
         "petal_width": 2.4,
         "sepal_length": 6.3,
         "sepal_width": 3.4,
         "species": "virginica"
        },
        {
         "index": 137,
         "petal_length": 5.5,
         "petal_width": 1.8,
         "sepal_length": 6.4,
         "sepal_width": 3.1,
         "species": "virginica"
        },
        {
         "index": 138,
         "petal_length": 4.8,
         "petal_width": 1.8,
         "sepal_length": 6,
         "sepal_width": 3,
         "species": "virginica"
        },
        {
         "index": 139,
         "petal_length": 5.4,
         "petal_width": 2.1,
         "sepal_length": 6.9,
         "sepal_width": 3.1,
         "species": "virginica"
        },
        {
         "index": 140,
         "petal_length": 5.6,
         "petal_width": 2.4,
         "sepal_length": 6.7,
         "sepal_width": 3.1,
         "species": "virginica"
        },
        {
         "index": 141,
         "petal_length": 5.1,
         "petal_width": 2.3,
         "sepal_length": 6.9,
         "sepal_width": 3.1,
         "species": "virginica"
        },
        {
         "index": 142,
         "petal_length": 5.1,
         "petal_width": 1.9,
         "sepal_length": 5.8,
         "sepal_width": 2.7,
         "species": "virginica"
        },
        {
         "index": 143,
         "petal_length": 5.9,
         "petal_width": 2.3,
         "sepal_length": 6.8,
         "sepal_width": 3.2,
         "species": "virginica"
        },
        {
         "index": 144,
         "petal_length": 5.7,
         "petal_width": 2.5,
         "sepal_length": 6.7,
         "sepal_width": 3.3,
         "species": "virginica"
        },
        {
         "index": 145,
         "petal_length": 5.2,
         "petal_width": 2.3,
         "sepal_length": 6.7,
         "sepal_width": 3,
         "species": "virginica"
        },
        {
         "index": 146,
         "petal_length": 5,
         "petal_width": 1.9,
         "sepal_length": 6.3,
         "sepal_width": 2.5,
         "species": "virginica"
        },
        {
         "index": 147,
         "petal_length": 5.2,
         "petal_width": 2,
         "sepal_length": 6.5,
         "sepal_width": 3,
         "species": "virginica"
        },
        {
         "index": 148,
         "petal_length": 5.4,
         "petal_width": 2.3,
         "sepal_length": 6.2,
         "sepal_width": 3.4,
         "species": "virginica"
        },
        {
         "index": 149,
         "petal_length": 5.1,
         "petal_width": 1.8,
         "sepal_length": 5.9,
         "sepal_width": 3,
         "species": "virginica"
        }
       ],
       "layout": "IPY_MODEL_c56d87ee0e8e4eae8a00de9e225cb6e0",
       "search": "",
       "template": "\n        <template>\n          <v-card>\n            <v-card-title>\n              <span class=\"title font-weight-bold\">{{ title }}</span>\n              <v-spacer></v-spacer>\n                <v-text-field\n                    v-model=\"search\"\n                    append-icon=\"search\"\n                    label=\"Search ...\"\n                    single-line\n                    hide-details\n                ></v-text-field>\n            </v-card-title>\n            <v-data-table\n                :headers=\"headers\"\n                :items=\"items\"\n                :search=\"search\"\n                :item-key=\"index_col\"\n                :rows-per-page-items=\"[25, 50, 250, 500]\"\n            >\n                <template v-slot:no-data>\n                  <v-alert :value=\"true\" color=\"error\" icon=\"warning\">\n                    Sorry, nothing to display here :(\n                  </v-alert>\n                </template>\n                <template v-slot:no-results>\n                    <v-alert :value=\"true\" color=\"error\" icon=\"warning\">\n                      Your search for \"{{ search }}\" found no results.\n                    </v-alert>\n                </template>\n                <template v-slot:items=\"rows\">\n                  <td v-for=\"(element, label, index) in rows.item\"\n                      @click=cell_click(element)\n                      >\n                    {{ element }}\n                  </td>\n                </template>\n            </v-data-table>\n          </v-card>\n        </template>\n        ",
       "title": "Iris"
      }
     },
     "c10ab29fbb2e4f3e83a60a2aff82b194": {
      "model_module": "jupyter-vuetify",
      "model_module_version": "^0.1.11",
      "model_name": "BtnModel",
      "state": {
       "_events": [],
       "children": [
        "IPY_MODEL_d8f15e42b04e4d2da3dfeb4fa3fca799"
       ],
       "color": "primary",
       "fab": true,
       "href": null,
       "large": true,
       "layout": "IPY_MODEL_91b14c1eab2a4915b8180b1123e5537e",
       "ripple": null,
       "to": null
      }
     },
     "c1876f07f79543888a6ca419b4f84741": {
      "model_module": "jupyter-vuetify",
      "model_module_version": "^0.1.11",
      "model_name": "TabsModel",
      "state": {
       "_events": [],
       "children": [
        "IPY_MODEL_8e208695ee9647dab133aa2465741a7f",
        "IPY_MODEL_e0d194bca3464780a020e9b2ae9669a9",
        "IPY_MODEL_e5365ef08d1e493fa8e4d067b8e2f7d8",
        "IPY_MODEL_9cbdae80e99b4d89abd32beb704974cb",
        "IPY_MODEL_f3a736188ece4f599d48e5ce16bb0606",
        "IPY_MODEL_0745dc7cf27b4c7fb6999fc14b51e396"
       ],
       "height": null,
       "layout": "IPY_MODEL_e4f90deedafe4a93b2a6464bf3122953",
       "max": null,
       "mobile_break_point": null,
       "v_model": 1,
       "value": null
      }
     },
     "c1f81f57026f4d35ad6d732771ad232c": {
      "model_module": "@jupyter-widgets/base",
      "model_module_version": "1.2.0",
      "model_name": "LayoutModel",
      "state": {}
     },
     "c24a09882a6243ee82907f4b1e87f344": {
      "model_module": "@jupyter-widgets/base",
      "model_module_version": "1.2.0",
      "model_name": "LayoutModel",
      "state": {}
     },
     "c56d87ee0e8e4eae8a00de9e225cb6e0": {
      "model_module": "@jupyter-widgets/base",
      "model_module_version": "1.2.0",
      "model_name": "LayoutModel",
      "state": {}
     },
     "c5a39cc2132f4428a54fb24c0a8c26db": {
      "model_module": "@jupyter-widgets/base",
      "model_module_version": "1.2.0",
      "model_name": "LayoutModel",
      "state": {}
     },
     "ca5771a4e4c3481d95154ee2176dd4d9": {
      "model_module": "@jupyter-widgets/base",
      "model_module_version": "1.2.0",
      "model_name": "LayoutModel",
      "state": {}
     },
     "cc0a11ab1e9f421ba587b720df9f7cfc": {
      "model_module": "@jupyter-widgets/base",
      "model_module_version": "1.2.0",
      "model_name": "LayoutModel",
      "state": {}
     },
     "cd0b4beb87d64724b4cf308956cafdc5": {
      "model_module": "jupyter-vuetify",
      "model_module_version": "^0.1.11",
      "model_name": "LayoutModel",
      "state": {
       "_events": [],
       "children": [
        "IPY_MODEL_737adbc7119342268d02feb718731b77"
       ],
       "layout": "IPY_MODEL_85f5a2f9c9a546f3bdad1ce8fa70cd6f"
      }
     },
     "cdfea1eaae0a4eada33c65369e9dc3b3": {
      "model_module": "jupyter-vuetify",
      "model_module_version": "^0.1.11",
      "model_name": "IconModel",
      "state": {
       "_events": [],
       "children": [
        "format_underline"
       ],
       "layout": "IPY_MODEL_28a29ad1270c4986b7d00c6f8ba8ec30",
       "size": null
      }
     },
     "ce595b9002ec43f4bc30763763396c24": {
      "model_module": "@jupyter-widgets/base",
      "model_module_version": "1.2.0",
      "model_name": "LayoutModel",
      "state": {}
     },
     "cea83876dca442b7918ed5ef8ab94093": {
      "model_module": "jupyter-vuetify",
      "model_module_version": "^0.1.11",
      "model_name": "IconModel",
      "state": {
       "_events": [],
       "children": [
        "format_color_fill"
       ],
       "layout": "IPY_MODEL_a3f4fd4f20c3462487ce06a516ea34ed",
       "size": null
      }
     },
     "cf1c750e352242b4bd8bf5023f1400de": {
      "model_module": "@jupyter-widgets/base",
      "model_module_version": "1.2.0",
      "model_name": "LayoutModel",
      "state": {}
     },
     "d22fb4e2fd9140eebb077d69febb91ab": {
      "model_module": "jupyter-vuetify",
      "model_module_version": "^0.1.11",
      "model_name": "IconModel",
      "state": {
       "_events": [],
       "children": [
        "format_bold"
       ],
       "layout": "IPY_MODEL_8d9a4dca573046c48039496870913f69",
       "size": null
      }
     },
     "d34c0f186b184c4c88c20315b9acc0f7": {
      "model_module": "@jupyter-widgets/base",
      "model_module_version": "1.2.0",
      "model_name": "LayoutModel",
      "state": {}
     },
     "d3fb72afd2c84df6b936479763b2b439": {
      "model_module": "jupyter-vuetify",
      "model_module_version": "^0.1.11",
      "model_name": "CardTextModel",
      "state": {
       "_events": [],
       "children": [
        "Lorem ipsum dolor sit amet, consectetur adipiscing elit, sed do eiusmod tempor incididunt ut labore et dolore magna aliqua."
       ],
       "layout": "IPY_MODEL_4a8d31d534b74509a4a23b58a360e911"
      }
     },
     "d5ddc8c279fe4cd2bd433d8db04dcae3": {
      "model_module": "jupyter-vuetify",
      "model_module_version": "^0.1.11",
      "model_name": "BtnModel",
      "state": {
       "_events": [],
       "children": [
        "IPY_MODEL_8e45155ac7284f70ae3ffdb5d99e4b35"
       ],
       "flat": true,
       "href": null,
       "layout": "IPY_MODEL_22e10f8b769e4afc9766e6002e443e6e",
       "ripple": null,
       "to": null
      }
     },
     "d5ea99ef853d4e27854dd37986bacc7a": {
      "model_module": "jupyter-vuetify",
      "model_module_version": "^0.1.11",
      "model_name": "ExpansionPanelContentModel",
      "state": {
       "_events": [],
       "children": [
        "IPY_MODEL_ed7f50b6b8564614bed19ba4d2a0ab88",
        "IPY_MODEL_230dd17f712c4f6691b0fb3426af1abd"
       ],
       "layout": "IPY_MODEL_b4350952c6c0454c8aaba07517f03b9a",
       "ripple": null
      }
     },
     "d7406bb80f68455c9468a5bd92bfc189": {
      "model_module": "@jupyter-widgets/base",
      "model_module_version": "1.2.0",
      "model_name": "LayoutModel",
      "state": {}
     },
     "d75d7533ada2405195108323229949d1": {
      "model_module": "jupyter-vuetify",
      "model_module_version": "^0.1.11",
      "model_name": "SliderModel",
      "state": {
       "_events": [],
       "children": [],
       "error_count": null,
       "error_messages": null,
       "height": null,
       "layout": "IPY_MODEL_604f558e609a42b5bfc5e2621a2b33b0",
       "loading": null,
       "max": null,
       "messages": null,
       "min": null,
       "rules": [],
       "step": null,
       "success_messages": null,
       "thumb_label": "always",
       "thumb_size": null,
       "tick_labels": [],
       "tick_size": null,
       "ticks": null,
       "v_model": 25,
       "value": null
      }
     },
     "d8f15e42b04e4d2da3dfeb4fa3fca799": {
      "model_module": "jupyter-vuetify",
      "model_module_version": "^0.1.11",
      "model_name": "IconModel",
      "state": {
       "_events": [],
       "children": [
        "edit"
       ],
       "layout": "IPY_MODEL_80d1e12c642a49788a797b5d8dbf525b",
       "size": null
      }
     },
     "d91429f1102f4eb8b38e164a8dcb4929": {
      "model_module": "jupyter-vuetify",
      "model_module_version": "^0.1.11",
      "model_name": "BtnModel",
      "state": {
       "_events": [],
       "children": [
        "IPY_MODEL_db7380869c1d45f18af7eb3d4ac04707"
       ],
       "flat": true,
       "href": null,
       "layout": "IPY_MODEL_ce595b9002ec43f4bc30763763396c24",
       "ripple": null,
       "to": null
      }
     },
     "db7380869c1d45f18af7eb3d4ac04707": {
      "model_module": "jupyter-vuetify",
      "model_module_version": "^0.1.11",
      "model_name": "IconModel",
      "state": {
       "_events": [],
       "children": [
        "format_align_left"
       ],
       "layout": "IPY_MODEL_62faabfc3f8f42dba6e1d9877d1f017a",
       "size": null
      }
     },
     "e0c7ce2d4fd64d66af6ca0da0cc5677e": {
      "model_module": "@jupyter-widgets/base",
      "model_module_version": "1.2.0",
      "model_name": "LayoutModel",
      "state": {}
     },
     "e0d194bca3464780a020e9b2ae9669a9": {
      "model_module": "jupyter-vuetify",
      "model_module_version": "^0.1.11",
      "model_name": "TabModel",
      "state": {
       "_events": [],
       "children": [
        "Tab 2"
       ],
       "href": null,
       "layout": "IPY_MODEL_1f60a05b1a424502b8c46d619424e4d2",
       "ripple": null,
       "to": null
      }
     },
     "e173f3d4e40e46cc93f8655978fa64c0": {
      "model_module": "jupyter-vuetify",
      "model_module_version": "^0.1.11",
      "model_name": "ListTileTitleModel",
      "state": {
       "_events": [],
       "children": [
        "Item 1"
       ],
       "layout": "IPY_MODEL_6989d89496eb43e7a5c63955bb77d28d"
      }
     },
     "e45f3441b6c043dfbf28e13087d1869f": {
      "model_module": "jupyter-vuetify",
      "model_module_version": "^0.1.11",
      "model_name": "BtnModel",
      "state": {
       "_events": [],
       "children": [
        "disabled"
       ],
       "disabled": true,
       "href": null,
       "layout": "IPY_MODEL_59ab6f6b811643fdb96623885218673e",
       "ripple": null,
       "to": null
      }
     },
     "e4f90deedafe4a93b2a6464bf3122953": {
      "model_module": "@jupyter-widgets/base",
      "model_module_version": "1.2.0",
      "model_name": "LayoutModel",
      "state": {}
     },
     "e5365ef08d1e493fa8e4d067b8e2f7d8": {
      "model_module": "jupyter-vuetify",
      "model_module_version": "^0.1.11",
      "model_name": "TabModel",
      "state": {
       "_events": [],
       "children": [
        "Tab 3"
       ],
       "href": null,
       "layout": "IPY_MODEL_b50d8a8f6f10408fb0a5cce5e5c84654",
       "ripple": null,
       "to": null
      }
     },
     "e563b84934554a2b97ccff30748f7976": {
      "model_module": "jupyter-vuetify",
      "model_module_version": "^0.1.11",
      "model_name": "IconModel",
      "state": {
       "_events": [],
       "children": [
        "thumb_up"
       ],
       "layout": "IPY_MODEL_b5bdddcf362541e19f92d4e84b8adb99",
       "size": null
      }
     },
     "e5bbfc8c0fb142a5badfb43e0b0b10d7": {
      "model_module": "jupyter-vuetify",
      "model_module_version": "^0.1.11",
      "model_name": "CardTitleModel",
      "state": {
       "_events": [],
       "children": [
        "Lorem ipsum"
       ],
       "class_": "headline gray lighten-2",
       "layout": "IPY_MODEL_2c47f40aa9224f3ab014f8a9d6e48f92",
       "primary_title": true
      }
     },
     "e96bf74c169f4510bd0469d5c192c132": {
      "model_module": "jupyter-vuetify",
      "model_module_version": "^0.1.11",
      "model_name": "CardModel",
      "state": {
       "_events": [],
       "children": [
        "IPY_MODEL_e5bbfc8c0fb142a5badfb43e0b0b10d7",
        "IPY_MODEL_d3fb72afd2c84df6b936479763b2b439"
       ],
       "elevation": null,
       "height": null,
       "href": null,
       "layout": "IPY_MODEL_fd4d7085df6a44de9c30d448fa181bf7",
       "max_height": null,
       "max_width": null,
       "min_height": null,
       "min_width": null,
       "ripple": null,
       "to": null,
       "width": null
      }
     },
     "ea65bfa4d1284433aa7ca69978b012a9": {
      "model_module": "jupyter-vuetify",
      "model_module_version": "^0.1.11",
      "model_name": "ListTileTitleModel",
      "state": {
       "_events": [],
       "children": [
        "Item 4"
       ],
       "layout": "IPY_MODEL_7d43482f1bf745f88c8ded93b4de7558"
      }
     },
     "ead3838e4f6d461cb841ce8d31cfbe17": {
      "model_module": "jupyter-vuetify",
      "model_module_version": "^0.1.11",
      "model_name": "BtnToggleModel",
      "state": {
       "_events": [],
       "children": [
        "IPY_MODEL_43d6683a1a544479802bb084ce872abb",
        "IPY_MODEL_d5ddc8c279fe4cd2bd433d8db04dcae3",
        "IPY_MODEL_460db57dd2f14964bead0e84004f2e9a",
        "IPY_MODEL_57193ee0717c466f9f3a99a3f33a559c"
       ],
       "layout": "IPY_MODEL_41da6204c2f04681a830646b9a57e2ee",
       "max": null,
       "multiple": true,
       "v_model": [
        0,
        2
       ]
      }
     },
     "eb03b0ddbbc5428b94a96c6fa1bd0786": {
      "model_module": "jupyter-vuetify",
      "model_module_version": "^0.1.11",
      "model_name": "CardTextModel",
      "state": {
       "_events": [],
       "children": [
        "First Text"
       ],
       "layout": "IPY_MODEL_76d83d4c4f5a4462a5c1d25b166f90eb"
      }
     },
     "ec86ad97016a435aa593f9e498a769e9": {
      "model_module": "@jupyter-widgets/base",
      "model_module_version": "1.2.0",
      "model_name": "LayoutModel",
      "state": {}
     },
     "ed7f50b6b8564614bed19ba4d2a0ab88": {
      "model_module": "jupyter-vuetify",
      "model_module_version": "^0.1.11",
      "model_name": "HtmlModel",
      "state": {
       "_events": [],
       "children": [
        "item1"
       ],
       "layout": "IPY_MODEL_33c9a7d0c92242bd8941ec57089ff869",
       "slot": "header",
       "tag": "div"
      }
     },
     "ee819f45b2e949518c1017189d87dc45": {
      "model_module": "jupyter-vuetify",
      "model_module_version": "^0.1.11",
      "model_name": "BtnModel",
      "state": {
       "_events": [],
       "children": [
        "tooltip"
       ],
       "color": "primary",
       "href": null,
       "layout": "IPY_MODEL_a32434ea8e13469aa57273bea82faa50",
       "ripple": null,
       "slot": "activator",
       "to": null
      }
     },
     "f0e80413d3904f02be864113b0b75332": {
      "model_module": "jupyter-vuetify",
      "model_module_version": "^0.1.11",
      "model_name": "HtmlModel",
      "state": {
       "_events": [],
       "children": [
        "item2"
       ],
       "layout": "IPY_MODEL_914ff3917d31455ba245cbea58c1b9b3",
       "slot": "header",
       "tag": "div"
      }
     },
     "f0eb4f7dcce94f8cb792d8ad96311888": {
      "model_module": "@jupyter-widgets/base",
      "model_module_version": "1.2.0",
      "model_name": "LayoutModel",
      "state": {}
     },
     "f1d59baffd174df196513e29a51d2649": {
      "model_module": "@jupyter-widgets/controls",
      "model_module_version": "1.5.0",
      "model_name": "LinkModel",
      "state": {
       "source": [
        "IPY_MODEL_7891b17954454b4dbe00bbb920c501ac",
        "v_model"
       ],
       "target": [
        "IPY_MODEL_ba1476cfd5274ca1937b3ae1ce3ec1be",
        "v_model"
       ]
      }
     },
     "f3a736188ece4f599d48e5ce16bb0606": {
      "model_module": "jupyter-vuetify",
      "model_module_version": "^0.1.11",
      "model_name": "TabItemModel",
      "state": {
       "_events": [],
       "children": [
        "Lorem ipsum dolor sit amet, consectetur adipiscing elit, sed do eiusmod tempor incididunt ut labore et dolore magna aliqua."
       ],
       "layout": "IPY_MODEL_4c7a585f974d47b39363a75a836f59b3",
       "reverse_transition": null,
       "transition": null
      }
     },
     "f6a5a4f11b534e448da17b1e8350e26e": {
      "model_module": "@jupyter-widgets/base",
      "model_module_version": "1.2.0",
      "model_name": "LayoutModel",
      "state": {}
     },
     "f82033c0736447e4b4d48c57227dec3f": {
      "model_module": "jupyter-vuetify",
      "model_module_version": "^0.1.11",
      "model_name": "IconModel",
      "state": {
       "_events": [],
       "children": [
        "fingerprint"
       ],
       "layout": "IPY_MODEL_cc0a11ab1e9f421ba587b720df9f7cfc",
       "right": true,
       "size": null
      }
     },
     "f9aaf396313c4c9ca61c6fd7f89937ad": {
      "model_module": "jupyter-vuetify",
      "model_module_version": "^0.1.11",
      "model_name": "IconModel",
      "state": {
       "_events": [],
       "children": [
        "fingerprint"
       ],
       "layout": "IPY_MODEL_22c6c34df184404dbc94b818bd35e7e2",
       "left": true,
       "size": null
      }
     },
     "faa10caa9d2c4b0ab150b85805890f3c": {
      "model_module": "jupyter-vuetify",
      "model_module_version": "^0.1.11",
      "model_name": "IconModel",
      "state": {
       "_events": [],
       "children": [
        "arrow_drop_down"
       ],
       "layout": "IPY_MODEL_9586fde0997547d5b35e34bdb0b814c0",
       "right": true,
       "size": null
      }
     },
     "fd4d7085df6a44de9c30d448fa181bf7": {
      "model_module": "@jupyter-widgets/base",
      "model_module_version": "1.2.0",
      "model_name": "LayoutModel",
      "state": {}
     },
     "fdd08092363e48b58ea81fe1c74ffd10": {
      "model_module": "@jupyter-widgets/base",
      "model_module_version": "1.2.0",
      "model_name": "LayoutModel",
      "state": {}
     },
     "fdd70cfdf27d492595283121ab6aee09": {
      "model_module": "@jupyter-widgets/base",
      "model_module_version": "1.2.0",
      "model_name": "LayoutModel",
      "state": {}
     },
     "fe25933200ef4785af9ca732923e72f9": {
      "model_module": "jupyter-vuetify",
      "model_module_version": "^0.1.11",
      "model_name": "TooltipModel",
      "state": {
       "_events": [],
       "bottom": true,
       "children": [
        "IPY_MODEL_ee819f45b2e949518c1017189d87dc45",
        "Insert tooltip text here"
       ],
       "close_delay": null,
       "debounce": null,
       "layout": "IPY_MODEL_5268bfc86e1b4853bd3fe1e32f4dd8a2",
       "max_width": null,
       "min_width": null,
       "nudge_bottom": null,
       "nudge_left": null,
       "nudge_right": null,
       "nudge_top": null,
       "nudge_width": null,
       "open_delay": null
      }
     },
     "feb64ec8028549bba9a211cbe5e52124": {
      "model_module": "@jupyter-widgets/base",
      "model_module_version": "1.2.0",
      "model_name": "LayoutModel",
      "state": {}
     }
    },
    "version_major": 2,
    "version_minor": 0
   }
  }
 },
 "nbformat": 4,
 "nbformat_minor": 2
}
