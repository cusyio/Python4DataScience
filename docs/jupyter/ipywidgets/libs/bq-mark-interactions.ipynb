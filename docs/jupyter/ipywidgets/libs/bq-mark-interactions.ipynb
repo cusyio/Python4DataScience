{
 "cells": [
  {
   "cell_type": "markdown",
   "metadata": {},
   "source": [
    "# Mark Interactions"
   ]
  },
  {
   "cell_type": "code",
   "execution_count": 1,
   "metadata": {},
   "outputs": [],
   "source": [
    "from __future__ import print_function\n",
    "from bqplot import *\n",
    "import numpy as np\n",
    "import pandas as pd\n",
    "from ipywidgets import Layout"
   ]
  },
  {
   "cell_type": "markdown",
   "metadata": {},
   "source": [
    "## Scatter Chart"
   ]
  },
  {
   "cell_type": "markdown",
   "metadata": {},
   "source": [
    "#### Scatter Chart Selections\n",
    "\n",
    "Click a point on the `Scatter` plot to select it. Now, run the cell below to check the selection. After you've done this, try holding the `ctrl` (or `command` key on Mac) and clicking another point. Clicking the background will reset the selection."
   ]
  },
  {
   "cell_type": "code",
   "execution_count": 2,
   "metadata": {},
   "outputs": [
    {
     "data": {
      "application/vnd.jupyter.widget-view+json": {
       "model_id": "562584fdfeb645d3b216c805e400d7aa",
       "version_major": 2,
       "version_minor": 0
      },
      "text/plain": [
       "Figure(axes=[Axis(scale=LinearScale()), Axis(orientation='vertical', scale=LinearScale(), tick_format='0.2f')]…"
      ]
     },
     "metadata": {},
     "output_type": "display_data"
    }
   ],
   "source": [
    "x_sc = LinearScale()\n",
    "y_sc = LinearScale()\n",
    "\n",
    "x_data = np.arange(20)\n",
    "y_data = np.random.randn(20)\n",
    "\n",
    "scatter_chart = Scatter(x=x_data, y=y_data, scales= {'x': x_sc, 'y': y_sc}, colors=['dodgerblue'],\n",
    "                       interactions={'click': 'select'},\n",
    "                        selected_style={'opacity': 1.0, 'fill': 'DarkOrange', 'stroke': 'Red'},\n",
    "                       unselected_style={'opacity': 0.5})\n",
    "\n",
    "ax_x = Axis(scale=x_sc)\n",
    "ax_y = Axis(scale=y_sc, orientation='vertical', tick_format='0.2f')\n",
    "\n",
    "Figure(marks=[scatter_chart], axes=[ax_x, ax_y])"
   ]
  },
  {
   "cell_type": "code",
   "execution_count": 4,
   "metadata": {},
   "outputs": [
    {
     "data": {
      "text/plain": [
       "[]"
      ]
     },
     "execution_count": 4,
     "metadata": {},
     "output_type": "execute_result"
    }
   ],
   "source": [
    "scatter_chart.selected"
   ]
  },
  {
   "cell_type": "markdown",
   "metadata": {},
   "source": [
    "Alternately, the `selected` attribute can be directly set on the Python side (try running the cell below):"
   ]
  },
  {
   "cell_type": "code",
   "execution_count": 5,
   "metadata": {},
   "outputs": [],
   "source": [
    "scatter_chart.selected = [1, 2, 3]"
   ]
  },
  {
   "cell_type": "markdown",
   "metadata": {},
   "source": [
    "#### Scatter Chart Interactions and Tooltips"
   ]
  },
  {
   "cell_type": "code",
   "execution_count": 6,
   "metadata": {},
   "outputs": [],
   "source": [
    "from ipywidgets import *"
   ]
  },
  {
   "cell_type": "code",
   "execution_count": 7,
   "metadata": {},
   "outputs": [
    {
     "data": {
      "application/vnd.jupyter.widget-view+json": {
       "model_id": "1eb8ed2c925d453e8024f1a2d5b7a060",
       "version_major": 2,
       "version_minor": 0
      },
      "text/plain": [
       "Figure(axes=[Axis(scale=LinearScale()), Axis(orientation='vertical', scale=LinearScale(), tick_format='0.2f')]…"
      ]
     },
     "metadata": {},
     "output_type": "display_data"
    },
    {
     "name": "stdout",
     "output_type": "stream",
     "text": [
      "{'data': {'y': -0.29639427327690554, 'x': 15, 'unique_id': 15, 'name': 115, 'index': 15}, 'event': 'hover'}\n",
      "{'data': {'y': -0.6027843543755587, 'x': 16, 'unique_id': 16, 'name': 116, 'index': 16}, 'event': 'hover'}\n",
      "{'data': {'y': -1.1326726224143204, 'x': 17, 'unique_id': 17, 'name': 117, 'index': 17}, 'event': 'hover'}\n",
      "{'data': {'y': -1.1326726224143204, 'x': 17, 'unique_id': 17, 'name': 117, 'index': 17}, 'event': 'hover'}\n",
      "{'data': {'y': -0.9072284681338981, 'x': 18, 'unique_id': 18, 'name': 118, 'index': 18}, 'event': 'hover'}\n"
     ]
    }
   ],
   "source": [
    "x_sc = LinearScale()\n",
    "y_sc = LinearScale()\n",
    "\n",
    "x_data = np.arange(20)\n",
    "y_data = np.random.randn(20)\n",
    "\n",
    "dd = Dropdown(options=['First', 'Second', 'Third', 'Fourth'])\n",
    "scatter_chart = Scatter(x=x_data, y=y_data, scales= {'x': x_sc, 'y': y_sc}, colors=['dodgerblue'],\n",
    "                       names=np.arange(100, 200), names_unique=False, display_names=False, display_legend=True,\n",
    "                       labels=['Blue'])\n",
    "ins = Button(icon='fa-legal')\n",
    "scatter_chart.tooltip = ins\n",
    "\n",
    "scatter_chart2 = Scatter(x=x_data, y=np.random.randn(20), \n",
    "                         scales= {'x': x_sc, 'y': y_sc}, colors=['orangered'],\n",
    "                         tooltip=dd, names=np.arange(100, 200), names_unique=False, display_names=False, \n",
    "                         display_legend=True, labels=['Red'])\n",
    "\n",
    "ax_x = Axis(scale=x_sc)\n",
    "ax_y = Axis(scale=y_sc, orientation='vertical', tick_format='0.2f')\n",
    "\n",
    "Figure(marks=[scatter_chart, scatter_chart2], axes=[ax_x, ax_y])"
   ]
  },
  {
   "cell_type": "code",
   "execution_count": 8,
   "metadata": {},
   "outputs": [],
   "source": [
    "def print_event(self, target):\n",
    "    print(target)\n",
    "\n",
    "# Adding call back to scatter events\n",
    "# print custom mssg on hover and background click of Blue Scatter\n",
    "scatter_chart.on_hover(print_event)\n",
    "scatter_chart.on_background_click(print_event)\n",
    "\n",
    "# print custom mssg on click of an element or legend of Red Scatter\n",
    "scatter_chart2.on_element_click(print_event)\n",
    "scatter_chart2.on_legend_click(print_event)"
   ]
  },
  {
   "cell_type": "code",
   "execution_count": 9,
   "metadata": {},
   "outputs": [],
   "source": [
    "# Adding figure as tooltip\n",
    "x_sc = LinearScale()\n",
    "y_sc = LinearScale()\n",
    "\n",
    "x_data = np.arange(10)\n",
    "y_data = np.random.randn(10)\n",
    "\n",
    "lc = Lines(x=x_data, y=y_data, scales={'x': x_sc, 'y':y_sc})\n",
    "ax_x = Axis(scale=x_sc)\n",
    "ax_y = Axis(scale=y_sc, orientation='vertical', tick_format='0.2f')\n",
    "tooltip_fig = Figure(marks=[lc], axes=[ax_x, ax_y], layout=Layout(min_width='600px'))\n",
    "\n",
    "scatter_chart.tooltip = tooltip_fig"
   ]
  },
  {
   "cell_type": "code",
   "execution_count": 10,
   "metadata": {},
   "outputs": [],
   "source": [
    "# Changing interaction from hover to click for tooltip\n",
    "scatter_chart.interactions = {'click': 'tooltip'}"
   ]
  },
  {
   "cell_type": "markdown",
   "metadata": {},
   "source": [
    "## Line Chart"
   ]
  },
  {
   "cell_type": "code",
   "execution_count": 11,
   "metadata": {},
   "outputs": [
    {
     "data": {
      "application/vnd.jupyter.widget-view+json": {
       "model_id": "1661e4738f4a4fba85d7d37c72279635",
       "version_major": 2,
       "version_minor": 0
      },
      "text/plain": [
       "Figure(axes=[Axis(scale=LinearScale()), Axis(orientation='vertical', scale=LinearScale(), tick_format='0.2f')]…"
      ]
     },
     "metadata": {},
     "output_type": "display_data"
    }
   ],
   "source": [
    "# Adding default tooltip to Line Chart\n",
    "x_sc = LinearScale()\n",
    "y_sc = LinearScale()\n",
    "\n",
    "x_data = np.arange(100)\n",
    "y_data = np.random.randn(3, 100)\n",
    "\n",
    "def_tt = Tooltip(fields=['name', 'index'], formats=['', '.2f'], labels=['id', 'line_num'])\n",
    "line_chart = Lines(x=x_data, y=y_data, scales= {'x': x_sc, 'y': y_sc}, \n",
    "                       tooltip=def_tt, display_legend=True, labels=[\"line 1\", \"line 2\", \"line 3\"] )\n",
    "\n",
    "ax_x = Axis(scale=x_sc)\n",
    "ax_y = Axis(scale=y_sc, orientation='vertical', tick_format='0.2f')\n",
    "\n",
    "Figure(marks=[line_chart], axes=[ax_x, ax_y])"
   ]
  },
  {
   "cell_type": "code",
   "execution_count": 12,
   "metadata": {},
   "outputs": [],
   "source": [
    "# Adding call back to print event when legend or the line is clicked\n",
    "line_chart.on_legend_click(print_event)\n",
    "line_chart.on_element_click(print_event)"
   ]
  },
  {
   "cell_type": "markdown",
   "metadata": {},
   "source": [
    "## Bar Chart"
   ]
  },
  {
   "cell_type": "code",
   "execution_count": 13,
   "metadata": {},
   "outputs": [
    {
     "data": {
      "application/vnd.jupyter.widget-view+json": {
       "model_id": "a615a5aa35784474a4491f21ec48f526",
       "version_major": 2,
       "version_minor": 0
      },
      "text/plain": [
       "Figure(axes=[Axis(scale=OrdinalScale()), Axis(orientation='vertical', scale=LinearScale(), tick_format='0.2f')…"
      ]
     },
     "metadata": {},
     "output_type": "display_data"
    }
   ],
   "source": [
    "# Adding interaction to select bar on click for Bar Chart\n",
    "x_sc = OrdinalScale()\n",
    "y_sc = LinearScale()\n",
    "\n",
    "x_data = np.arange(10)\n",
    "y_data = np.random.randn(2, 10)\n",
    "\n",
    "bar_chart = Bars(x=x_data, y=[y_data[0, :].tolist(), y_data[1, :].tolist()], scales= {'x': x_sc, 'y': y_sc},\n",
    "                 interactions={'click': 'select'},\n",
    "                 selected_style={'stroke': 'orange', 'fill': 'red'},\n",
    "                 labels=['Level 1', 'Level 2'],\n",
    "                 display_legend=True)\n",
    "ax_x = Axis(scale=x_sc)\n",
    "ax_y = Axis(scale=y_sc, orientation='vertical', tick_format='0.2f')\n",
    "\n",
    "Figure(marks=[bar_chart], axes=[ax_x, ax_y])"
   ]
  },
  {
   "cell_type": "code",
   "execution_count": 14,
   "metadata": {},
   "outputs": [],
   "source": [
    "# Adding a tooltip on hover in addition to select on click\n",
    "def_tt = Tooltip(fields=['x', 'y'], formats=['', '.2f'])\n",
    "bar_chart.tooltip=def_tt\n",
    "bar_chart.interactions = {\n",
    "    'legend_hover': 'highlight_axes',\n",
    "    'hover': 'tooltip', \n",
    "    'click': 'select',\n",
    "}"
   ]
  },
  {
   "cell_type": "code",
   "execution_count": 15,
   "metadata": {},
   "outputs": [],
   "source": [
    "# Changing tooltip to be on click\n",
    "bar_chart.interactions = {'click': 'tooltip'}"
   ]
  },
  {
   "cell_type": "code",
   "execution_count": 16,
   "metadata": {},
   "outputs": [],
   "source": [
    "# Call back on legend being clicked\n",
    "bar_chart.type='grouped'\n",
    "bar_chart.on_legend_click(print_event)"
   ]
  },
  {
   "cell_type": "markdown",
   "metadata": {},
   "source": [
    "## Histogram"
   ]
  },
  {
   "cell_type": "code",
   "execution_count": 17,
   "metadata": {},
   "outputs": [
    {
     "data": {
      "application/vnd.jupyter.widget-view+json": {
       "model_id": "8d0e2e997fad47abbe3fcb85661c5f8e",
       "version_major": 2,
       "version_minor": 0
      },
      "text/plain": [
       "Figure(axes=[Axis(scale=LinearScale(), tick_format='0.2f'), Axis(orientation='vertical', scale=LinearScale(), …"
      ]
     },
     "metadata": {},
     "output_type": "display_data"
    }
   ],
   "source": [
    "# Adding tooltip for Histogram\n",
    "x_sc = LinearScale()\n",
    "y_sc = LinearScale()\n",
    "\n",
    "sample_data = np.random.randn(100)\n",
    "\n",
    "def_tt = Tooltip(formats=['', '.2f'], fields=['count', 'midpoint'])\n",
    "hist = Hist(sample=sample_data, scales= {'sample': x_sc, 'count': y_sc},\n",
    "                       tooltip=def_tt, display_legend=True, labels=['Test Hist'], select_bars=True)\n",
    "ax_x = Axis(scale=x_sc, tick_format='0.2f')\n",
    "ax_y = Axis(scale=y_sc, orientation='vertical', tick_format='0.2f')\n",
    "\n",
    "Figure(marks=[hist], axes=[ax_x, ax_y])"
   ]
  },
  {
   "cell_type": "code",
   "execution_count": 18,
   "metadata": {},
   "outputs": [],
   "source": [
    "# Changing tooltip to be displayed on click\n",
    "hist.interactions = {'click': 'tooltip'}"
   ]
  },
  {
   "cell_type": "code",
   "execution_count": 19,
   "metadata": {},
   "outputs": [],
   "source": [
    "# Changing tooltip to be on click of legend\n",
    "hist.interactions = {'legend_click': 'tooltip'}"
   ]
  },
  {
   "cell_type": "markdown",
   "metadata": {
    "collapsed": true
   },
   "source": [
    "## Pie Chart"
   ]
  },
  {
   "cell_type": "code",
   "execution_count": 20,
   "metadata": {},
   "outputs": [
    {
     "data": {
      "application/vnd.jupyter.widget-view+json": {
       "model_id": "17e5a88dd84341eebf80f9fdd8bc41d0",
       "version_major": 2,
       "version_minor": 0
      },
      "text/plain": [
       "Figure(fig_margin={'top': 60, 'bottom': 60, 'left': 60, 'right': 60}, layout=Layout(min_width='125px'), marks=…"
      ]
     },
     "metadata": {},
     "output_type": "display_data"
    }
   ],
   "source": [
    "pie_data = np.abs(np.random.randn(10))\n",
    "\n",
    "sc = ColorScale(scheme='Reds')\n",
    "tooltip_widget = Tooltip(fields=['size', 'index', 'color'], formats=['0.2f', '', '0.2f'])\n",
    "pie = Pie(sizes=pie_data, scales={'color': sc}, color=np.random.randn(10), \n",
    "          tooltip=tooltip_widget, interactions = {'click': 'tooltip'}, selected_style={'fill': 'red'})\n",
    "\n",
    "pie.selected_style = {\"opacity\": \"1\", \"stroke\": \"white\", \"stroke-width\": \"2\"}\n",
    "pie.unselected_style = {\"opacity\": \"0.2\"}\n",
    "\n",
    "Figure(marks=[pie])"
   ]
  },
  {
   "cell_type": "code",
   "execution_count": 21,
   "metadata": {},
   "outputs": [],
   "source": [
    "# Changing interaction to select on click and tooltip on hover\n",
    "pie.interactions = {'click': 'select', 'hover': 'tooltip'}"
   ]
  }
 ],
 "metadata": {
  "anaconda-cloud": {},
  "kernelspec": {
   "display_name": "Python 3",
   "language": "python",
   "name": "python3"
  },
  "language_info": {
   "codemirror_mode": {
    "name": "ipython",
    "version": 3
   },
   "file_extension": ".py",
   "mimetype": "text/x-python",
   "name": "python",
   "nbconvert_exporter": "python",
   "pygments_lexer": "ipython3",
   "version": "3.7.0"
  },
  "latex_envs": {
   "LaTeX_envs_menu_present": true,
   "autoclose": false,
   "autocomplete": true,
   "bibliofile": "biblio.bib",
   "cite_by": "apalike",
   "current_citInitial": 1,
   "eqLabelWithNumbers": true,
   "eqNumInitial": 1,
   "hotkeys": {
    "equation": "Ctrl-E",
    "itemize": "Ctrl-I"
   },
   "labels_anchors": false,
   "latex_user_defs": false,
   "report_style_numbering": false,
   "user_envs_cfg": false
  },
  "widgets": {
   "application/vnd.jupyter.widget-state+json": {
    "state": {
     "036f02d0b4574dbaa32f7a4f0554f5ff": {
      "model_module": "@jupyter-widgets/base",
      "model_module_version": "1.1.0",
      "model_name": "LayoutModel",
      "state": {}
     },
     "042a9798567c44a2bc82528e5676fd78": {
      "model_module": "bqplot",
      "model_module_version": "^0.4.4",
      "model_name": "LinearScaleModel",
      "state": {
       "allow_padding": false,
       "max": 1,
       "min": 0,
       "stabilized": false
      }
     },
     "0674df2ca71046549d1bb6a292ce986d": {
      "model_module": "bqplot",
      "model_module_version": "^0.4.4",
      "model_name": "ColorScaleModel",
      "state": {
       "_model_name": "ColorScaleModel",
       "_view_name": "ColorScale",
       "colors": [],
       "extrapolation": "constant",
       "mid": null,
       "scale_type": "linear",
       "scheme": "Reds"
      }
     },
     "0fe37012ee954b879ce9c8da59eb721b": {
      "model_module": "bqplot",
      "model_module_version": "^0.4.4",
      "model_name": "LinearScaleModel",
      "state": {
       "allow_padding": false,
       "max": 1,
       "min": 0,
       "stabilized": false
      }
     },
     "11959759dcba4d4894fe6b2ddef88f9b": {
      "model_module": "bqplot",
      "model_module_version": "^0.4.4",
      "model_name": "LinearScaleModel",
      "state": {
       "stabilized": false
      }
     },
     "11d53552c3694941819f9445604597ad": {
      "model_module": "bqplot",
      "model_module_version": "^0.4.4",
      "model_name": "LinearScaleModel",
      "state": {
       "allow_padding": false,
       "max": 1,
       "min": 0,
       "stabilized": false
      }
     },
     "165efea8fb064c21ae5f0d116bc09c0f": {
      "model_module": "@jupyter-widgets/base",
      "model_module_version": "1.1.0",
      "model_name": "LayoutModel",
      "state": {}
     },
     "1661e4738f4a4fba85d7d37c72279635": {
      "model_module": "bqplot",
      "model_module_version": "^0.4.4",
      "model_name": "FigureModel",
      "state": {
       "_dom_classes": [],
       "axes": [
        "IPY_MODEL_b222704ff36a43abb0e2e3a729cd157b",
        "IPY_MODEL_a90dcf8b0923451f8010b5254ecf052a"
       ],
       "layout": "IPY_MODEL_c0cbe444df7c44cc99b31d80599c1a23",
       "marks": [
        "IPY_MODEL_2f123113efe04306bbc023b4920e0027"
       ],
       "scale_x": "IPY_MODEL_9d3c23c2409245b4ac4d14bf2bc39b13",
       "scale_y": "IPY_MODEL_9cf83ceb94f047b582ef3f5e70deab97"
      }
     },
     "1791ffb66bc146d9bae8b06236f865ec": {
      "model_module": "@jupyter-widgets/base",
      "model_module_version": "1.1.0",
      "model_name": "LayoutModel",
      "state": {}
     },
     "17e5a88dd84341eebf80f9fdd8bc41d0": {
      "model_module": "bqplot",
      "model_module_version": "^0.4.4",
      "model_name": "FigureModel",
      "state": {
       "_dom_classes": [],
       "layout": "IPY_MODEL_87e747687ca543f49c7136bddcc255b8",
       "marks": [
        "IPY_MODEL_d5479523632e4756bfb9864390fe072f"
       ],
       "scale_x": "IPY_MODEL_042a9798567c44a2bc82528e5676fd78",
       "scale_y": "IPY_MODEL_c2f55ef354e845eeafb11573b7039a77"
      }
     },
     "18bc5ceb7ac841d09634f68fa1a40c5a": {
      "model_module": "bqplot",
      "model_module_version": "^0.4.4",
      "model_name": "LinearScaleModel",
      "state": {
       "allow_padding": false,
       "max": 1,
       "min": 0,
       "stabilized": false
      }
     },
     "1eb8ed2c925d453e8024f1a2d5b7a060": {
      "model_module": "bqplot",
      "model_module_version": "^0.4.4",
      "model_name": "FigureModel",
      "state": {
       "_dom_classes": [],
       "axes": [
        "IPY_MODEL_54a21144ae8842e78771109b245d1603",
        "IPY_MODEL_d07dcd51c4da4755b700123e6f9b22b8"
       ],
       "layout": "IPY_MODEL_4f18446911de4e1db95cabe25c45bb72",
       "marks": [
        "IPY_MODEL_52d268a6e2104409ad0f57ec4fa015be",
        "IPY_MODEL_8626a726802d494e9d898da2b1fab5cb"
       ],
       "scale_x": "IPY_MODEL_0fe37012ee954b879ce9c8da59eb721b",
       "scale_y": "IPY_MODEL_11d53552c3694941819f9445604597ad"
      }
     },
     "2367c7984c8d4e8e9ead0458fe8ae62d": {
      "model_module": "bqplot",
      "model_module_version": "^0.4.4",
      "model_name": "HistModel",
      "state": {
       "count": {
        "type": "float",
        "values": [
         3,
         3,
         18,
         21,
         20,
         19,
         7,
         8,
         0,
         1
        ]
       },
       "interactions": {
        "legend_click": "tooltip"
       },
       "labels": [
        "Test Hist"
       ],
       "midpoints": [
        -2.3414617481502114,
        -1.708292573278849,
        -1.075123398407487,
        -0.4419542235361247,
        0.1912149513352377,
        0.8243841262065998,
        1.457553301077962,
        2.0907224759493244,
        2.7238916508206867,
        3.357060825692049
       ],
       "sample": {
        "type": "float",
        "values": [
         -1.0255187602380869,
         1.560241130680725,
         0.07171705095973158,
         2.323028896736068,
         1.0857609518879168,
         -0.423240515349401,
         0.5522290089414774,
         0.43952790306148565,
         0.6880442862361951,
         -0.766409934252697,
         -0.1876569372133055,
         1.6403210683197955,
         -0.019881659796467152,
         -0.8328602290179845,
         -1.239987913092507,
         -0.9970841625601209,
         0.5745961077187558,
         -0.04224963399320913,
         -0.5230954720847231,
         -1.252368351259913,
         -0.37914995375087085,
         -1.0665105194001365,
         0.6752549522283371,
         1.9748230616692048,
         1.0254958598998662,
         1.3863916942111691,
         -0.6692392884366458,
         0.13202656500434246,
         0.8305524749389874,
         -0.027838766843141776,
         -0.3364030841874395,
         -0.16057824914158342,
         -1.0057878278716619,
         0.7416392778001429,
         -0.28408881656841517,
         0.4960074719259253,
         0.9505131287746229,
         0.45376415704677325,
         -1.3709240387835349,
         -0.18052601903986082,
         1.7909073679011747,
         0.044401390740471426,
         -1.2192804086343187,
         -0.4293199765406015,
         -0.32803461068052353,
         0.2926770530957764,
         1.6209960897101996,
         -0.7961468589439337,
         0.2649739947772408,
         3.6736454131277303,
         -1.35149717729643,
         -1.7991492501838806,
         -0.9862206373708818,
         -0.8109467274338142,
         -0.3703019139066699,
         0.07579222612323609,
         -0.7484185285743369,
         0.5293771704793263,
         2.3932976440609304,
         -0.8455216556706525,
         0.2847527627447186,
         -2.1095001215955116,
         0.7336241064264659,
         -0.30499243263662135,
         0.08988587266909275,
         1.1676094541020405,
         2.204700762686226,
         2.2905147396220253,
         -1.4018764028820143,
         -0.21357274528676345,
         1.9682486277524807,
         -2.6580463355858925,
         -0.7476229272121507,
         -0.09281400506787978,
         -0.4522828501779084,
         1.268862083696169,
         0.5765144088696363,
         0.1574106027302828,
         -2.260428623844603,
         1.1651836700989042,
         1.012136346499069,
         1.0161184096185463,
         -0.432389466289997,
         -0.46914101540762887,
         1.9423253843159942,
         0.8822520043821133,
         0.9488853261930251,
         -0.5373796895719813,
         -0.06655914331018259,
         -1.1768868079138113,
         -0.675694851688029,
         1.079710791649509,
         0.10687777356848106,
         -1.3496951916616815,
         -1.0392071086617996,
         0.10163391302638305,
         -1.6088378404088948,
         0.5780070907727035,
         0.12123999002181972,
         0.5334583349231595
        ]
       },
       "scales": {
        "count": "IPY_MODEL_acd60b91c49540c69bd5e95e37e27baf",
        "sample": "IPY_MODEL_34ed5f1c9af24cc78154a6a43e1c4e27"
       },
       "selected": [],
       "tooltip": "IPY_MODEL_689b1d85e27a4afd911892ec001f6c76"
      }
     },
     "295a27498c60424abe6bbd9f3ecfa2ec": {
      "model_module": "@jupyter-widgets/base",
      "model_module_version": "1.1.0",
      "model_name": "LayoutModel",
      "state": {}
     },
     "2f123113efe04306bbc023b4920e0027": {
      "model_module": "bqplot",
      "model_module_version": "^0.4.4",
      "model_name": "LinesModel",
      "state": {
       "color": {
        "type": null,
        "values": null
       },
       "fill_colors": [],
       "labels": [
        "line 1",
        "line 2",
        "line 3"
       ],
       "scales": {
        "x": "IPY_MODEL_dd4facacb8fb46ea9e62d0a568d387d0",
        "y": "IPY_MODEL_81c6ac16c8d64831b4960249fc40deac"
       },
       "selected": [],
       "tooltip": "IPY_MODEL_3fcd3cfa166941da9fc2fa3ff08a246d",
       "x": {
        "type": "float",
        "values": [
         0,
         1,
         2,
         3,
         4,
         5,
         6,
         7,
         8,
         9,
         10,
         11,
         12,
         13,
         14,
         15,
         16,
         17,
         18,
         19,
         20,
         21,
         22,
         23,
         24,
         25,
         26,
         27,
         28,
         29,
         30,
         31,
         32,
         33,
         34,
         35,
         36,
         37,
         38,
         39,
         40,
         41,
         42,
         43,
         44,
         45,
         46,
         47,
         48,
         49,
         50,
         51,
         52,
         53,
         54,
         55,
         56,
         57,
         58,
         59,
         60,
         61,
         62,
         63,
         64,
         65,
         66,
         67,
         68,
         69,
         70,
         71,
         72,
         73,
         74,
         75,
         76,
         77,
         78,
         79,
         80,
         81,
         82,
         83,
         84,
         85,
         86,
         87,
         88,
         89,
         90,
         91,
         92,
         93,
         94,
         95,
         96,
         97,
         98,
         99
        ]
       },
       "y": {
        "type": "float",
        "values": [
         [
          -0.7109041954497254,
          0.8139722331539547,
          0.005254847817768457,
          0.529673321819917,
          -0.015936430715957503,
          -0.32587236941800307,
          -1.1848797821418544,
          0.25304997765112863,
          0.3791807801976556,
          -0.6752704847514709,
          1.1958048508589083,
          -0.5228461403165876,
          0.10297116107439097,
          1.1970677560226246,
          -0.44388660008542646,
          -0.9121893116100248,
          -0.9335096735254852,
          -0.5317594593131306,
          0.5114261894179053,
          -0.36069832874485264,
          -0.212477526898714,
          -0.9166430452995494,
          1.4686970646481952,
          -0.049034474146622126,
          0.10191567460990322,
          1.2061854528640197,
          -0.4446249209194238,
          -0.033418408743775316,
          1.8901350126149101,
          0.679979818670021,
          -2.270054921314879,
          -0.34193609121577184,
          0.7212937751453632,
          -1.4922145077962417,
          0.7508068694013166,
          0.0636733241440424,
          -1.1923946371875762,
          -0.8765570971042909,
          1.6187073912100884,
          1.1373943722962214,
          0.814609189913539,
          0.3128830485643798,
          -0.9634573611769929,
          0.19850476000010206,
          -0.4769850816636674,
          -0.8915555852128527,
          -1.7000191335920463,
          -0.43390477860520993,
          2.1187719950859574,
          -0.5871604879570101,
          0.4059120761412135,
          0.39580315596148313,
          -0.8495414271472961,
          -2.422074933569392,
          -0.8441140321571239,
          -0.8213594469050369,
          -0.4535993488181836,
          -1.2316440218737197,
          -1.6653868771879958,
          -1.0042211646149206,
          0.47516165396146975,
          0.05566369854176422,
          0.6013424316596254,
          1.3991437970052152,
          -0.44706875409540786,
          -0.5119259304905422,
          1.6478630354439734,
          0.9352227206778048,
          -0.4128936559016821,
          -0.025299590950108388,
          -0.5893566872986419,
          1.731437998976396,
          0.5084268642709284,
          -0.9136477232707723,
          -0.7024841907739522,
          -0.060342224507378986,
          2.0471214185685955,
          0.13169689026809167,
          1.2055714278699055,
          0.012188685393743164,
          1.1449975996768178,
          -0.08815946460059977,
          0.055274635140253686,
          -0.4070809833056336,
          0.32112257660370835,
          0.13095542577666755,
          -0.005114424078646121,
          -1.3596467870928162,
          1.48590317399691,
          0.5923480710965305,
          0.41587889027969466,
          0.9019842212217869,
          -0.9117153709451616,
          -0.4936798953662686,
          -0.3600452530687418,
          1.5887618514139292,
          -0.4696602539477036,
          0.2978188525573562,
          -1.2560980636454386,
          -0.09356422090916637
         ],
         [
          0.8512374248669088,
          0.12234940646238825,
          -0.015010226859071392,
          0.7976389106861381,
          0.13968506855760193,
          1.6329705974455635,
          1.0025415799314443,
          -1.1029429468726704,
          0.7091277479025794,
          0.3492269160531612,
          0.8589362640669633,
          0.9385065369792069,
          -1.5516573197526848,
          0.057129634150756246,
          -0.24724307056792977,
          1.5729299142334572,
          0.3509114605124037,
          -0.006163166573502294,
          -1.1467224627854296,
          -0.6633316378631986,
          0.24843237205425525,
          0.8504413252234861,
          1.243542444753021,
          -1.1490641010116478,
          -0.0640845653613694,
          0.128837479803417,
          -0.6375350220594418,
          -0.30785632697798504,
          -0.7241576617679817,
          -0.6091415374936464,
          1.610438871972845,
          -0.37481893622330814,
          -1.1587767607034714,
          -0.1302056714454156,
          -0.1371643208294977,
          0.28791572000950366,
          -1.2566618261304456,
          0.2360262248985628,
          0.2997783407591676,
          0.8136759465478787,
          0.6756492690971172,
          0.6567782585078074,
          0.3232708204495755,
          -0.259848892265163,
          0.2704600205831869,
          -0.40168988982783727,
          0.37552470062831395,
          -1.008470980392606,
          -1.1326221216688708,
          -0.5620153927610303,
          -1.1044119769508698,
          1.6558205920863163,
          -0.7011433155289732,
          0.32153218554593854,
          -0.474900423092418,
          0.9546196220318267,
          0.04766542735414264,
          0.913869656056216,
          -1.2362569027148385,
          -0.1437435922318437,
          1.0686291323075414,
          -0.2155938199377342,
          -0.6079869558175914,
          0.5366817953958224,
          0.17531772136271648,
          -0.46791043832300483,
          -1.0040470504281385,
          -2.48704849497513,
          0.40905214246972715,
          -1.3239535075102535,
          0.20516481722848942,
          0.3404622666209757,
          -1.1491074808643726,
          0.9280616693240326,
          -0.22110245280241073,
          0.5022442659227208,
          0.752704692379952,
          -0.41836613981414994,
          0.29617255897061556,
          -0.08427156080992648,
          -0.23060238976855407,
          0.16986153038880503,
          -0.8550656698008509,
          0.34553205312424506,
          1.573045918963367,
          0.0251332209314124,
          -0.5547641662624008,
          0.07455114234082716,
          -1.0207711183074333,
          0.6893625850190337,
          0.7752022563803312,
          -0.5098602200194506,
          0.9088157815132819,
          0.9679325545196615,
          0.11991099937678822,
          -0.5714225305647542,
          1.6957613062358547,
          0.6850063593958254,
          0.024492562514274376,
          0.12568841927355787
         ],
         [
          1.7127699098276117,
          2.33375960100878,
          -0.3186232885733007,
          -0.46914244407112293,
          1.0028024472130261,
          -0.13938026605511092,
          -1.1741724383833319,
          0.3943243084690225,
          0.9657270321391457,
          -0.5442567841708709,
          0.49566426698252397,
          0.775094776910285,
          -0.28640548577651287,
          0.22967705003339517,
          -1.616006806998298,
          -0.4303743734170504,
          -0.8483884643080813,
          0.6511509603812632,
          -0.7537917772640712,
          0.6874501278099402,
          -0.23312133708511112,
          0.1987550575611251,
          -0.09495343468077513,
          1.3539284902796158,
          0.3330512498535205,
          -0.25866653783187643,
          -0.3796360506311169,
          0.10037399796709852,
          -2.9419391821895404,
          -1.0728299218206043,
          -0.9233848980709582,
          -1.1829993377047254,
          -2.6067872607344538,
          -1.3360283387353036,
          -0.7736081681847388,
          1.8455797064699944,
          0.9145470740788292,
          -0.5181009351574107,
          0.941952073148053,
          -1.2687417284371274,
          -0.2619735577977973,
          -1.9113268097039444,
          -0.8126113029977687,
          -0.6493451601962615,
          -1.1655592091941431,
          -0.9608539213535334,
          0.8530303492625914,
          0.40511724555450834,
          -0.9731388045665504,
          -0.34751042394759024,
          2.1889690206993637,
          -0.893546425053192,
          1.5450358826730444,
          0.3028858420594737,
          1.376909237317319,
          0.6939697305068683,
          -0.7044158452625668,
          -1.509704919429593,
          -0.8962235028682631,
          0.1352118985120887,
          -0.6412162516077577,
          -1.9789418095125668,
          -0.521320485786049,
          -1.6070262772466375,
          1.4346787191268193,
          0.13985546264642165,
          -1.2455140022979978,
          0.4319830414592474,
          0.24822018015579153,
          -0.3270779741957739,
          -0.13455609697325754,
          -1.20852851231832,
          -2.118284547473232,
          -0.03560965058889389,
          -0.670051985912279,
          0.07570656729432018,
          2.313198206278273,
          -1.0544920289251856,
          2.3667202162690932,
          -0.48089825918607565,
          1.3570999414925278,
          -0.12194141190839826,
          -0.2739448043844072,
          0.16976051567428124,
          -0.012744648901388603,
          -1.3694079898703664,
          -0.07813405785788165,
          -0.9315136767804769,
          1.2706531495053848,
          0.18789515097268858,
          0.23219487271869113,
          1.9852021237421595,
          0.7275999037322924,
          0.3171655103111313,
          0.3579264650190659,
          -0.7574536739213844,
          -1.986752073643956,
          -1.664496026886803,
          0.374172544765972,
          -1.2831076904023389
         ]
        ]
       }
      }
     },
     "34e6478684284c24ab63fb8446047fff": {
      "model_module": "@jupyter-widgets/controls",
      "model_module_version": "1.4.0",
      "model_name": "DropdownModel",
      "state": {
       "_options_labels": [
        "First",
        "Second",
        "Third",
        "Fourth"
       ],
       "index": 0,
       "layout": "IPY_MODEL_63c112c3382b4e8f90d3630b44bbe116",
       "style": "IPY_MODEL_a7d0aae7aae14226862f686d4622cb45"
      }
     },
     "34ed5f1c9af24cc78154a6a43e1c4e27": {
      "model_module": "bqplot",
      "model_module_version": "^0.4.4",
      "model_name": "LinearScaleModel",
      "state": {
       "stabilized": false
      }
     },
     "37b3b855cb0c4ceb8e412f4c5db6a43b": {
      "model_module": "bqplot",
      "model_module_version": "^0.4.4",
      "model_name": "LinearScaleModel",
      "state": {
       "allow_padding": false,
       "max": 1,
       "min": 0,
       "stabilized": false
      }
     },
     "3fcd3cfa166941da9fc2fa3ff08a246d": {
      "model_module": "bqplot",
      "model_module_version": "^0.4.4",
      "model_name": "TooltipModel",
      "state": {
       "fields": [
        "name",
        "index"
       ],
       "formats": [
        "",
        ".2f"
       ],
       "labels": [
        "id",
        "line_num"
       ],
       "layout": "IPY_MODEL_295a27498c60424abe6bbd9f3ecfa2ec"
      }
     },
     "43726fca84ac41f984e5f5a2d808428e": {
      "model_module": "bqplot",
      "model_module_version": "^0.4.4",
      "model_name": "OrdinalScaleModel",
      "state": {
       "domain": []
      }
     },
     "4f18446911de4e1db95cabe25c45bb72": {
      "model_module": "@jupyter-widgets/base",
      "model_module_version": "1.1.0",
      "model_name": "LayoutModel",
      "state": {
       "min_width": "125px"
      }
     },
     "52d268a6e2104409ad0f57ec4fa015be": {
      "model_module": "bqplot",
      "model_module_version": "^0.4.4",
      "model_name": "ScatterModel",
      "state": {
       "color": {
        "type": null,
        "values": null
       },
       "colors": [
        "dodgerblue"
       ],
       "display_names": false,
       "interactions": {
        "click": "tooltip"
       },
       "labels": [
        "Blue"
       ],
       "names": {
        "type": "float",
        "values": [
         100,
         101,
         102,
         103,
         104,
         105,
         106,
         107,
         108,
         109,
         110,
         111,
         112,
         113,
         114,
         115,
         116,
         117,
         118,
         119,
         120,
         121,
         122,
         123,
         124,
         125,
         126,
         127,
         128,
         129,
         130,
         131,
         132,
         133,
         134,
         135,
         136,
         137,
         138,
         139,
         140,
         141,
         142,
         143,
         144,
         145,
         146,
         147,
         148,
         149,
         150,
         151,
         152,
         153,
         154,
         155,
         156,
         157,
         158,
         159,
         160,
         161,
         162,
         163,
         164,
         165,
         166,
         167,
         168,
         169,
         170,
         171,
         172,
         173,
         174,
         175,
         176,
         177,
         178,
         179,
         180,
         181,
         182,
         183,
         184,
         185,
         186,
         187,
         188,
         189,
         190,
         191,
         192,
         193,
         194,
         195,
         196,
         197,
         198,
         199
        ]
       },
       "names_unique": false,
       "opacity": {
        "type": null,
        "values": null
       },
       "rotation": {
        "type": null,
        "values": null
       },
       "scales": {
        "x": "IPY_MODEL_ea9f8d7bf0264db4a4584b77a488aa31",
        "y": "IPY_MODEL_8180ad59d7554a97a44d36e8e2850421"
       },
       "scales_metadata": {
        "color": {
         "dimension": "color"
        },
        "opacity": {
         "dimension": "opacity"
        },
        "rotation": {
         "dimension": "rotation"
        },
        "size": {
         "dimension": "size"
        },
        "skew": {
         "dimension": "skew"
        },
        "x": {
         "dimension": "x",
         "orientation": "horizontal"
        },
        "y": {
         "dimension": "y",
         "orientation": "vertical"
        }
       },
       "selected": [],
       "size": {
        "type": null,
        "values": null
       },
       "skew": {
        "type": null,
        "values": null
       },
       "tooltip": "IPY_MODEL_93a9ba5e838342ed92c175c0e2e1ea77",
       "x": {
        "type": "float",
        "values": [
         0,
         1,
         2,
         3,
         4,
         5,
         6,
         7,
         8,
         9,
         10,
         11,
         12,
         13,
         14,
         15,
         16,
         17,
         18,
         19
        ]
       },
       "y": {
        "type": "float",
        "values": [
         -0.19864842719839063,
         0.6156058063618466,
         -0.5839638544156593,
         -0.08233128968434117,
         -0.2995544946571314,
         -0.34398699063223026,
         0.06819752566969634,
         -1.21849221204435,
         0.10511440607120631,
         2.151054621711635,
         -0.2518036795218688,
         0.07670863658138434,
         -0.19805315934366063,
         -0.8963861763932981,
         -0.08959431521595251,
         -0.29639427327690554,
         -0.6027843543755587,
         -1.1326726224143204,
         -0.9072284681338981,
         -0.4654420686613403
        ]
       }
      }
     },
     "54a21144ae8842e78771109b245d1603": {
      "model_module": "bqplot",
      "model_module_version": "^0.4.4",
      "model_name": "AxisModel",
      "state": {
       "scale": "IPY_MODEL_ea9f8d7bf0264db4a4584b77a488aa31",
       "side": "bottom",
       "tick_values": {
        "type": null,
        "values": null
       }
      }
     },
     "562584fdfeb645d3b216c805e400d7aa": {
      "model_module": "bqplot",
      "model_module_version": "^0.4.4",
      "model_name": "FigureModel",
      "state": {
       "_dom_classes": [],
       "axes": [
        "IPY_MODEL_e2d784b7203349ee8d0204ff9399364d",
        "IPY_MODEL_db9033bdbd5847bdb32254a22a620dc0"
       ],
       "layout": "IPY_MODEL_9d0a2dc1d2264e999747fd3d043f184c",
       "marks": [
        "IPY_MODEL_9bf667c491b14356892433e11b74ec25"
       ],
       "scale_x": "IPY_MODEL_7e14337f3f434dab958f410ad32b6db8",
       "scale_y": "IPY_MODEL_ede885ea33e44cd5a3091bb078238323"
      }
     },
     "566ef715c1664016abed4f8dc0680a64": {
      "model_module": "bqplot",
      "model_module_version": "^0.4.4",
      "model_name": "LinesModel",
      "state": {
       "color": {
        "type": null,
        "values": null
       },
       "display_legend": false,
       "fill_colors": [],
       "labels": [
        "C1"
       ],
       "scales": {
        "x": "IPY_MODEL_a265f2210f584db9917b22373cadccd1",
        "y": "IPY_MODEL_7b2047c1c017480c8a755ffb96506010"
       },
       "selected": [],
       "x": {
        "type": "float",
        "values": [
         0,
         1,
         2,
         3,
         4,
         5,
         6,
         7,
         8,
         9
        ]
       },
       "y": {
        "type": "float",
        "values": [
         -0.13288950744461492,
         1.8486128605015746,
         0.9263517398215874,
         0.7640695719301843,
         -0.2912365603614252,
         -0.13618739721060588,
         0.14134920195712355,
         1.0981816342932325,
         0.11048033152079455,
         -0.06873895188366229
        ]
       }
      }
     },
     "589d553b753f47509730343ebd3c5708": {
      "model_module": "bqplot",
      "model_module_version": "^0.4.4",
      "model_name": "LinearScaleModel",
      "state": {
       "stabilized": false
      }
     },
     "5eb76cfc19cb46898b69854e4a0e0e60": {
      "model_module": "bqplot",
      "model_module_version": "^0.4.4",
      "model_name": "AxisModel",
      "state": {
       "orientation": "vertical",
       "scale": "IPY_MODEL_7b2047c1c017480c8a755ffb96506010",
       "side": "left",
       "tick_format": "0.2f",
       "tick_values": {
        "type": null,
        "values": null
       }
      }
     },
     "639dc32f98ea49f4852614e0a55e4917": {
      "model_module": "bqplot",
      "model_module_version": "^0.4.4",
      "model_name": "LinearScaleModel",
      "state": {
       "allow_padding": false,
       "max": 1,
       "min": 0,
       "stabilized": false
      }
     },
     "63c112c3382b4e8f90d3630b44bbe116": {
      "model_module": "@jupyter-widgets/base",
      "model_module_version": "1.1.0",
      "model_name": "LayoutModel",
      "state": {}
     },
     "689b1d85e27a4afd911892ec001f6c76": {
      "model_module": "bqplot",
      "model_module_version": "^0.4.4",
      "model_name": "TooltipModel",
      "state": {
       "fields": [
        "count",
        "midpoint"
       ],
       "formats": [
        "",
        ".2f"
       ],
       "layout": "IPY_MODEL_165efea8fb064c21ae5f0d116bc09c0f"
      }
     },
     "6a2826e8660046d3a0758e822a187e73": {
      "model_module": "@jupyter-widgets/base",
      "model_module_version": "1.1.0",
      "model_name": "LayoutModel",
      "state": {
       "min_width": "125px"
      }
     },
     "7b2047c1c017480c8a755ffb96506010": {
      "model_module": "bqplot",
      "model_module_version": "^0.4.4",
      "model_name": "LinearScaleModel",
      "state": {
       "stabilized": false
      }
     },
     "7e14337f3f434dab958f410ad32b6db8": {
      "model_module": "bqplot",
      "model_module_version": "^0.4.4",
      "model_name": "LinearScaleModel",
      "state": {
       "allow_padding": false,
       "max": 1,
       "min": 0,
       "stabilized": false
      }
     },
     "8180ad59d7554a97a44d36e8e2850421": {
      "model_module": "bqplot",
      "model_module_version": "^0.4.4",
      "model_name": "LinearScaleModel",
      "state": {
       "stabilized": false
      }
     },
     "81c6ac16c8d64831b4960249fc40deac": {
      "model_module": "bqplot",
      "model_module_version": "^0.4.4",
      "model_name": "LinearScaleModel",
      "state": {
       "stabilized": false
      }
     },
     "8626a726802d494e9d898da2b1fab5cb": {
      "model_module": "bqplot",
      "model_module_version": "^0.4.4",
      "model_name": "ScatterModel",
      "state": {
       "color": {
        "type": null,
        "values": null
       },
       "colors": [
        "orangered"
       ],
       "display_names": false,
       "labels": [
        "Red"
       ],
       "names": {
        "type": "float",
        "values": [
         100,
         101,
         102,
         103,
         104,
         105,
         106,
         107,
         108,
         109,
         110,
         111,
         112,
         113,
         114,
         115,
         116,
         117,
         118,
         119,
         120,
         121,
         122,
         123,
         124,
         125,
         126,
         127,
         128,
         129,
         130,
         131,
         132,
         133,
         134,
         135,
         136,
         137,
         138,
         139,
         140,
         141,
         142,
         143,
         144,
         145,
         146,
         147,
         148,
         149,
         150,
         151,
         152,
         153,
         154,
         155,
         156,
         157,
         158,
         159,
         160,
         161,
         162,
         163,
         164,
         165,
         166,
         167,
         168,
         169,
         170,
         171,
         172,
         173,
         174,
         175,
         176,
         177,
         178,
         179,
         180,
         181,
         182,
         183,
         184,
         185,
         186,
         187,
         188,
         189,
         190,
         191,
         192,
         193,
         194,
         195,
         196,
         197,
         198,
         199
        ]
       },
       "names_unique": false,
       "opacity": {
        "type": null,
        "values": null
       },
       "rotation": {
        "type": null,
        "values": null
       },
       "scales": {
        "x": "IPY_MODEL_ea9f8d7bf0264db4a4584b77a488aa31",
        "y": "IPY_MODEL_8180ad59d7554a97a44d36e8e2850421"
       },
       "scales_metadata": {
        "color": {
         "dimension": "color"
        },
        "opacity": {
         "dimension": "opacity"
        },
        "rotation": {
         "dimension": "rotation"
        },
        "size": {
         "dimension": "size"
        },
        "skew": {
         "dimension": "skew"
        },
        "x": {
         "dimension": "x",
         "orientation": "horizontal"
        },
        "y": {
         "dimension": "y",
         "orientation": "vertical"
        }
       },
       "selected": [],
       "size": {
        "type": null,
        "values": null
       },
       "skew": {
        "type": null,
        "values": null
       },
       "tooltip": "IPY_MODEL_34e6478684284c24ab63fb8446047fff",
       "x": {
        "type": "float",
        "values": [
         0,
         1,
         2,
         3,
         4,
         5,
         6,
         7,
         8,
         9,
         10,
         11,
         12,
         13,
         14,
         15,
         16,
         17,
         18,
         19
        ]
       },
       "y": {
        "type": "float",
        "values": [
         -0.47367306983549134,
         -1.2072434900368567,
         1.1150027465137187,
         -0.8251434876812495,
         -0.9394813106986104,
         0.9597209400978662,
         -0.13533015247820918,
         0.6344135987152347,
         -1.2863374002371186,
         -1.1968810907718213,
         0.8105320329389817,
         1.6023584216717754,
         1.3213114416948308,
         -0.4555652124673565,
         -0.600896480659953,
         1.1622205231101173,
         0.19885047661099753,
         -0.9322859745510435,
         1.9782001117500077,
         -1.9044104551077154
        ]
       }
      }
     },
     "87e747687ca543f49c7136bddcc255b8": {
      "model_module": "@jupyter-widgets/base",
      "model_module_version": "1.1.0",
      "model_name": "LayoutModel",
      "state": {
       "min_width": "125px"
      }
     },
     "8b0bbd0578504cb2b3c1b1eb0a182bb2": {
      "model_module": "bqplot",
      "model_module_version": "^0.4.4",
      "model_name": "AxisModel",
      "state": {
       "scale": "IPY_MODEL_43726fca84ac41f984e5f5a2d808428e",
       "side": "bottom",
       "tick_values": {
        "type": null,
        "values": null
       }
      }
     },
     "8d0e2e997fad47abbe3fcb85661c5f8e": {
      "model_module": "bqplot",
      "model_module_version": "^0.4.4",
      "model_name": "FigureModel",
      "state": {
       "_dom_classes": [],
       "axes": [
        "IPY_MODEL_f317b84ffbd54b44a9fd96c6eea9e9da",
        "IPY_MODEL_e1d4429c8eb846368077cb14dd9e465a"
       ],
       "layout": "IPY_MODEL_6a2826e8660046d3a0758e822a187e73",
       "marks": [
        "IPY_MODEL_2367c7984c8d4e8e9ead0458fe8ae62d"
       ],
       "scale_x": "IPY_MODEL_dffc0c40376d49959a32b50defb2d969",
       "scale_y": "IPY_MODEL_639dc32f98ea49f4852614e0a55e4917"
      }
     },
     "8f53f238912344a39ede3ef35e39220d": {
      "model_module": "@jupyter-widgets/controls",
      "model_module_version": "1.4.0",
      "model_name": "ButtonStyleModel",
      "state": {}
     },
     "93a9ba5e838342ed92c175c0e2e1ea77": {
      "model_module": "bqplot",
      "model_module_version": "^0.4.4",
      "model_name": "FigureModel",
      "state": {
       "_dom_classes": [],
       "axes": [
        "IPY_MODEL_edd34af4e8e74d0a9850f74d3d9eff42",
        "IPY_MODEL_5eb76cfc19cb46898b69854e4a0e0e60"
       ],
       "layout": "IPY_MODEL_e2231e88c5cd48039cac81bebc075045",
       "marks": [
        "IPY_MODEL_566ef715c1664016abed4f8dc0680a64"
       ],
       "scale_x": "IPY_MODEL_37b3b855cb0c4ceb8e412f4c5db6a43b",
       "scale_y": "IPY_MODEL_cdaca2048a68445e974cf3a5b00b8c78"
      }
     },
     "944f26ac4b7f4995978381708ddd05d5": {
      "model_module": "@jupyter-widgets/controls",
      "model_module_version": "1.4.0",
      "model_name": "ButtonModel",
      "state": {
       "icon": "legal",
       "layout": "IPY_MODEL_036f02d0b4574dbaa32f7a4f0554f5ff",
       "style": "IPY_MODEL_8f53f238912344a39ede3ef35e39220d"
      }
     },
     "95bf13699b8f41a6bd8a8f4f247b8e75": {
      "model_module": "bqplot",
      "model_module_version": "^0.4.4",
      "model_name": "LinearScaleModel",
      "state": {
       "stabilized": false
      }
     },
     "975281586ed840bd941ea2a9aa887013": {
      "model_module": "bqplot",
      "model_module_version": "^0.4.4",
      "model_name": "TooltipModel",
      "state": {
       "fields": [
        "x",
        "y"
       ],
       "formats": [
        "",
        ".2f"
       ],
       "layout": "IPY_MODEL_1791ffb66bc146d9bae8b06236f865ec"
      }
     },
     "9bf667c491b14356892433e11b74ec25": {
      "model_module": "bqplot",
      "model_module_version": "^0.4.4",
      "model_name": "ScatterModel",
      "state": {
       "color": {
        "type": null,
        "values": null
       },
       "colors": [
        "dodgerblue"
       ],
       "display_legend": false,
       "interactions": {
        "click": "select"
       },
       "names": {
        "type": null,
        "values": null
       },
       "opacity": {
        "type": null,
        "values": null
       },
       "rotation": {
        "type": null,
        "values": null
       },
       "scales": {
        "x": "IPY_MODEL_11959759dcba4d4894fe6b2ddef88f9b",
        "y": "IPY_MODEL_95bf13699b8f41a6bd8a8f4f247b8e75"
       },
       "scales_metadata": {
        "color": {
         "dimension": "color"
        },
        "opacity": {
         "dimension": "opacity"
        },
        "rotation": {
         "dimension": "rotation"
        },
        "size": {
         "dimension": "size"
        },
        "skew": {
         "dimension": "skew"
        },
        "x": {
         "dimension": "x",
         "orientation": "horizontal"
        },
        "y": {
         "dimension": "y",
         "orientation": "vertical"
        }
       },
       "selected": [
        1,
        2,
        3
       ],
       "selected_style": {
        "fill": "DarkOrange",
        "opacity": 1,
        "stroke": "Red"
       },
       "size": {
        "type": null,
        "values": null
       },
       "skew": {
        "type": null,
        "values": null
       },
       "unselected_style": {
        "opacity": 0.5
       },
       "x": {
        "type": "float",
        "values": [
         0,
         1,
         2,
         3,
         4,
         5,
         6,
         7,
         8,
         9,
         10,
         11,
         12,
         13,
         14,
         15,
         16,
         17,
         18,
         19
        ]
       },
       "y": {
        "type": "float",
        "values": [
         -0.5007731659046646,
         -0.6717074010963514,
         1.5003219911221501,
         -0.019818646781297022,
         0.745914366784358,
         -0.2570278523208815,
         0.361482050044142,
         -0.367796644679641,
         1.0835243366110023,
         2.157406354327347,
         0.3872212450098745,
         -0.7110267767571494,
         -0.9154345742664649,
         -0.14006925942930185,
         -0.016036249152839965,
         1.9413850462942943,
         -0.25816910327180587,
         -0.46517436326171213,
         -0.6282297730062194,
         0.16753362669357846
        ]
       }
      }
     },
     "9cf83ceb94f047b582ef3f5e70deab97": {
      "model_module": "bqplot",
      "model_module_version": "^0.4.4",
      "model_name": "LinearScaleModel",
      "state": {
       "allow_padding": false,
       "max": 1,
       "min": 0,
       "stabilized": false
      }
     },
     "9d0a2dc1d2264e999747fd3d043f184c": {
      "model_module": "@jupyter-widgets/base",
      "model_module_version": "1.1.0",
      "model_name": "LayoutModel",
      "state": {
       "min_width": "125px"
      }
     },
     "9d3c23c2409245b4ac4d14bf2bc39b13": {
      "model_module": "bqplot",
      "model_module_version": "^0.4.4",
      "model_name": "LinearScaleModel",
      "state": {
       "allow_padding": false,
       "max": 1,
       "min": 0,
       "stabilized": false
      }
     },
     "a265f2210f584db9917b22373cadccd1": {
      "model_module": "bqplot",
      "model_module_version": "^0.4.4",
      "model_name": "LinearScaleModel",
      "state": {
       "stabilized": false
      }
     },
     "a615a5aa35784474a4491f21ec48f526": {
      "model_module": "bqplot",
      "model_module_version": "^0.4.4",
      "model_name": "FigureModel",
      "state": {
       "_dom_classes": [],
       "axes": [
        "IPY_MODEL_8b0bbd0578504cb2b3c1b1eb0a182bb2",
        "IPY_MODEL_e1ffd980f4d240a3a760727623f68adf"
       ],
       "layout": "IPY_MODEL_e4efee6a9e234b0b81cbd1c417437681",
       "marks": [
        "IPY_MODEL_f4023159bb83447caaef9c84e8725b3c"
       ],
       "scale_x": "IPY_MODEL_b7aa19e93207425b8952fc08d4809a49",
       "scale_y": "IPY_MODEL_18bc5ceb7ac841d09634f68fa1a40c5a"
      }
     },
     "a7d0aae7aae14226862f686d4622cb45": {
      "model_module": "@jupyter-widgets/controls",
      "model_module_version": "1.4.0",
      "model_name": "DescriptionStyleModel",
      "state": {
       "description_width": ""
      }
     },
     "a90dcf8b0923451f8010b5254ecf052a": {
      "model_module": "bqplot",
      "model_module_version": "^0.4.4",
      "model_name": "AxisModel",
      "state": {
       "orientation": "vertical",
       "scale": "IPY_MODEL_81c6ac16c8d64831b4960249fc40deac",
       "side": "left",
       "tick_format": "0.2f",
       "tick_values": {
        "type": null,
        "values": null
       }
      }
     },
     "acacccd7bad54da6983746a12a43da6f": {
      "model_module": "@jupyter-widgets/base",
      "model_module_version": "1.1.0",
      "model_name": "LayoutModel",
      "state": {}
     },
     "acd60b91c49540c69bd5e95e37e27baf": {
      "model_module": "bqplot",
      "model_module_version": "^0.4.4",
      "model_name": "LinearScaleModel",
      "state": {
       "stabilized": false
      }
     },
     "b222704ff36a43abb0e2e3a729cd157b": {
      "model_module": "bqplot",
      "model_module_version": "^0.4.4",
      "model_name": "AxisModel",
      "state": {
       "scale": "IPY_MODEL_dd4facacb8fb46ea9e62d0a568d387d0",
       "side": "bottom",
       "tick_values": {
        "type": null,
        "values": null
       }
      }
     },
     "b7aa19e93207425b8952fc08d4809a49": {
      "model_module": "bqplot",
      "model_module_version": "^0.4.4",
      "model_name": "LinearScaleModel",
      "state": {
       "allow_padding": false,
       "max": 1,
       "min": 0,
       "stabilized": false
      }
     },
     "c0cbe444df7c44cc99b31d80599c1a23": {
      "model_module": "@jupyter-widgets/base",
      "model_module_version": "1.1.0",
      "model_name": "LayoutModel",
      "state": {
       "min_width": "125px"
      }
     },
     "c2f55ef354e845eeafb11573b7039a77": {
      "model_module": "bqplot",
      "model_module_version": "^0.4.4",
      "model_name": "LinearScaleModel",
      "state": {
       "allow_padding": false,
       "max": 1,
       "min": 0,
       "stabilized": false
      }
     },
     "cdaca2048a68445e974cf3a5b00b8c78": {
      "model_module": "bqplot",
      "model_module_version": "^0.4.4",
      "model_name": "LinearScaleModel",
      "state": {
       "allow_padding": false,
       "max": 1,
       "min": 0,
       "stabilized": false
      }
     },
     "d07dcd51c4da4755b700123e6f9b22b8": {
      "model_module": "bqplot",
      "model_module_version": "^0.4.4",
      "model_name": "AxisModel",
      "state": {
       "orientation": "vertical",
       "scale": "IPY_MODEL_8180ad59d7554a97a44d36e8e2850421",
       "side": "left",
       "tick_format": "0.2f",
       "tick_values": {
        "type": null,
        "values": null
       }
      }
     },
     "d5479523632e4756bfb9864390fe072f": {
      "model_module": "bqplot",
      "model_module_version": "^0.4.4",
      "model_name": "PieModel",
      "state": {
       "color": {
        "type": "float",
        "values": [
         0.4155866390740365,
         -0.7839797929296222,
         0.7787988357781358,
         -0.44366857469696147,
         -0.05194350651588531,
         2.521408460938767,
         1.175117825539896,
         -0.9203884238404583,
         -0.8001603473236732,
         1.011008941199934
        ]
       },
       "display_labels": "inside",
       "display_legend": false,
       "display_values": false,
       "font_size": "12px",
       "font_weight": "normal",
       "interactions": {
        "click": "select",
        "hover": "tooltip"
       },
       "label_color": null,
       "scales": {
        "color": "IPY_MODEL_0674df2ca71046549d1bb6a292ce986d"
       },
       "selected": [],
       "selected_style": {
        "opacity": "1",
        "stroke": "white",
        "stroke-width": "2"
       },
       "sizes": {
        "type": "float",
        "values": [
         0.06258056277432729,
         0.6422517659653404,
         2.501833922420176,
         0.6122786535078999,
         0.1275592541005143,
         0.8604605536864295,
         0.6991167345372015,
         1.5576100900759164,
         0.12712079099830667,
         1.3546222078272054
        ]
       },
       "tooltip": "IPY_MODEL_ddd4fed1e52942f7b54ecf40072989dd",
       "unselected_style": {
        "opacity": "0.2"
       },
       "values_format": ".1f"
      }
     },
     "db9033bdbd5847bdb32254a22a620dc0": {
      "model_module": "bqplot",
      "model_module_version": "^0.4.4",
      "model_name": "AxisModel",
      "state": {
       "orientation": "vertical",
       "scale": "IPY_MODEL_95bf13699b8f41a6bd8a8f4f247b8e75",
       "side": "left",
       "tick_format": "0.2f",
       "tick_values": {
        "type": null,
        "values": null
       }
      }
     },
     "dd4facacb8fb46ea9e62d0a568d387d0": {
      "model_module": "bqplot",
      "model_module_version": "^0.4.4",
      "model_name": "LinearScaleModel",
      "state": {
       "stabilized": false
      }
     },
     "ddd4fed1e52942f7b54ecf40072989dd": {
      "model_module": "bqplot",
      "model_module_version": "^0.4.4",
      "model_name": "TooltipModel",
      "state": {
       "fields": [
        "size",
        "index",
        "color"
       ],
       "formats": [
        "0.2f",
        "",
        "0.2f"
       ],
       "layout": "IPY_MODEL_acacccd7bad54da6983746a12a43da6f"
      }
     },
     "dffc0c40376d49959a32b50defb2d969": {
      "model_module": "bqplot",
      "model_module_version": "^0.4.4",
      "model_name": "LinearScaleModel",
      "state": {
       "allow_padding": false,
       "max": 1,
       "min": 0,
       "stabilized": false
      }
     },
     "e1d4429c8eb846368077cb14dd9e465a": {
      "model_module": "bqplot",
      "model_module_version": "^0.4.4",
      "model_name": "AxisModel",
      "state": {
       "orientation": "vertical",
       "scale": "IPY_MODEL_acd60b91c49540c69bd5e95e37e27baf",
       "side": "left",
       "tick_format": "0.2f",
       "tick_values": {
        "type": null,
        "values": null
       }
      }
     },
     "e1ffd980f4d240a3a760727623f68adf": {
      "model_module": "bqplot",
      "model_module_version": "^0.4.4",
      "model_name": "AxisModel",
      "state": {
       "orientation": "vertical",
       "scale": "IPY_MODEL_589d553b753f47509730343ebd3c5708",
       "side": "left",
       "tick_format": "0.2f",
       "tick_values": {
        "type": null,
        "values": null
       }
      }
     },
     "e2231e88c5cd48039cac81bebc075045": {
      "model_module": "@jupyter-widgets/base",
      "model_module_version": "1.1.0",
      "model_name": "LayoutModel",
      "state": {
       "min_width": "600px"
      }
     },
     "e2d784b7203349ee8d0204ff9399364d": {
      "model_module": "bqplot",
      "model_module_version": "^0.4.4",
      "model_name": "AxisModel",
      "state": {
       "scale": "IPY_MODEL_11959759dcba4d4894fe6b2ddef88f9b",
       "side": "bottom",
       "tick_values": {
        "type": null,
        "values": null
       }
      }
     },
     "e4efee6a9e234b0b81cbd1c417437681": {
      "model_module": "@jupyter-widgets/base",
      "model_module_version": "1.1.0",
      "model_name": "LayoutModel",
      "state": {
       "min_width": "125px"
      }
     },
     "ea9f8d7bf0264db4a4584b77a488aa31": {
      "model_module": "bqplot",
      "model_module_version": "^0.4.4",
      "model_name": "LinearScaleModel",
      "state": {
       "stabilized": false
      }
     },
     "edd34af4e8e74d0a9850f74d3d9eff42": {
      "model_module": "bqplot",
      "model_module_version": "^0.4.4",
      "model_name": "AxisModel",
      "state": {
       "scale": "IPY_MODEL_a265f2210f584db9917b22373cadccd1",
       "side": "bottom",
       "tick_values": {
        "type": null,
        "values": null
       }
      }
     },
     "ede885ea33e44cd5a3091bb078238323": {
      "model_module": "bqplot",
      "model_module_version": "^0.4.4",
      "model_name": "LinearScaleModel",
      "state": {
       "allow_padding": false,
       "max": 1,
       "min": 0,
       "stabilized": false
      }
     },
     "f317b84ffbd54b44a9fd96c6eea9e9da": {
      "model_module": "bqplot",
      "model_module_version": "^0.4.4",
      "model_name": "AxisModel",
      "state": {
       "scale": "IPY_MODEL_34ed5f1c9af24cc78154a6a43e1c4e27",
       "side": "bottom",
       "tick_format": "0.2f",
       "tick_values": {
        "type": null,
        "values": null
       }
      }
     },
     "f4023159bb83447caaef9c84e8725b3c": {
      "model_module": "bqplot",
      "model_module_version": "^0.4.4",
      "model_name": "BarsModel",
      "state": {
       "color": {
        "type": null,
        "values": null
       },
       "colors": [
        "steelblue"
       ],
       "interactions": {
        "click": "tooltip"
       },
       "labels": [
        "Level 1",
        "Level 2"
       ],
       "scales": {
        "x": "IPY_MODEL_43726fca84ac41f984e5f5a2d808428e",
        "y": "IPY_MODEL_589d553b753f47509730343ebd3c5708"
       },
       "selected": [],
       "selected_style": {
        "fill": "red",
        "stroke": "orange"
       },
       "tooltip": "IPY_MODEL_975281586ed840bd941ea2a9aa887013",
       "type": "grouped",
       "x": {
        "type": "float",
        "values": [
         0,
         1,
         2,
         3,
         4,
         5,
         6,
         7,
         8,
         9
        ]
       },
       "y": {
        "type": "float",
        "values": [
         [
          0.13986201550525573,
          0.05260254899898304,
          0.3107517587474027,
          0.06187930597005198,
          0.08261634608874042,
          -1.0138809304678902,
          -1.4156671768447804,
          -0.5861731662311056,
          0.5204967242827111,
          1.284481344956466
         ],
         [
          -0.6751361161756203,
          -0.077654748335282,
          1.013630491077872,
          -1.1990761281094353,
          0.28669992399036126,
          -0.11176573567781964,
          -0.25467917291563674,
          0.8910299477507755,
          0.21412421249044664,
          1.3872886257292854
         ]
        ]
       }
      }
     }
    },
    "version_major": 2,
    "version_minor": 0
   }
  }
 },
 "nbformat": 4,
 "nbformat_minor": 1
}
