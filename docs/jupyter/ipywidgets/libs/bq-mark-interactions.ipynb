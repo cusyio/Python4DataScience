{
 "cells": [
  {
   "cell_type": "markdown",
   "metadata": {},
   "source": [
    "# Markieren-Interaktionen"
   ]
  },
  {
   "cell_type": "code",
   "execution_count": 1,
   "metadata": {},
   "outputs": [],
   "source": [
    "from __future__ import print_function\n",
    "from bqplot import *\n",
    "import numpy as np\n",
    "import pandas as pd\n",
    "from ipywidgets import Layout"
   ]
  },
  {
   "cell_type": "markdown",
   "metadata": {},
   "source": [
    "## Streudiagramm"
   ]
  },
  {
   "cell_type": "markdown",
   "metadata": {},
   "source": [
    "#### Auswahl in Streudiagrammen\n",
    "\n",
    "Klickt auf einen Punkt im Streudiagramm, um ihn auszuwählen und führt anschließend die Zelle unten aus, um die Auswahl zu überprüfen. Versucht schließlich, die `Strg`-Taste (oder `⌘` auf dem Mac) gedrückt zu halten und auf einen anderen Punkt zu klicken. Durch Klicken auf den Hintergrund wird die Auswahl zurückgesetzt."
   ]
  },
  {
   "cell_type": "code",
   "execution_count": 2,
   "metadata": {},
   "outputs": [
    {
     "data": {
      "application/vnd.jupyter.widget-view+json": {
       "model_id": "724b71d62d9d4ad3bbf8851267c01e98",
       "version_major": 2,
       "version_minor": 0
      },
      "text/plain": [
       "Figure(axes=[Axis(scale=LinearScale()), Axis(orientation='vertical', scale=LinearScale(), tick_format='0.2f')]…"
      ]
     },
     "metadata": {},
     "output_type": "display_data"
    }
   ],
   "source": [
    "x_sc = LinearScale()\n",
    "y_sc = LinearScale()\n",
    "\n",
    "x_data = np.arange(20)\n",
    "y_data = np.random.randn(20)\n",
    "\n",
    "scatter_chart = Scatter(x=x_data, y=y_data, scales= {'x': x_sc, 'y': y_sc}, colors=['dodgerblue'],\n",
    "                       interactions={'click': 'select'},\n",
    "                        selected_style={'opacity': 1.0, 'fill': 'DarkOrange', 'stroke': 'Red'},\n",
    "                       unselected_style={'opacity': 0.5})\n",
    "\n",
    "ax_x = Axis(scale=x_sc)\n",
    "ax_y = Axis(scale=y_sc, orientation='vertical', tick_format='0.2f')\n",
    "\n",
    "Figure(marks=[scatter_chart], axes=[ax_x, ax_y])"
   ]
  },
  {
   "cell_type": "code",
   "execution_count": 3,
   "metadata": {},
   "outputs": [
    {
     "data": {
      "text/plain": [
       "[]"
      ]
     },
     "execution_count": 3,
     "metadata": {},
     "output_type": "execute_result"
    }
   ],
   "source": [
    "scatter_chart.selected"
   ]
  },
  {
   "cell_type": "markdown",
   "metadata": {},
   "source": [
    "Alternativ kann das Attribut `selected` direkt in Python festgelegt werden, z.B. mit der folgenden Zeile:"
   ]
  },
  {
   "cell_type": "code",
   "execution_count": 4,
   "metadata": {},
   "outputs": [],
   "source": [
    "scatter_chart.selected = [1, 2, 3]"
   ]
  },
  {
   "cell_type": "markdown",
   "metadata": {},
   "source": [
    "#### Streudiagramm-Interaktionen und -Tooltips"
   ]
  },
  {
   "cell_type": "code",
   "execution_count": 5,
   "metadata": {},
   "outputs": [],
   "source": [
    "from ipywidgets import *"
   ]
  },
  {
   "cell_type": "code",
   "execution_count": 6,
   "metadata": {},
   "outputs": [
    {
     "data": {
      "application/vnd.jupyter.widget-view+json": {
       "model_id": "fc2f4c9d686e4c3ca8598e6c4c442cca",
       "version_major": 2,
       "version_minor": 0
      },
      "text/plain": [
       "Figure(axes=[Axis(scale=LinearScale()), Axis(orientation='vertical', scale=LinearScale(), tick_format='0.2f')]…"
      ]
     },
     "metadata": {},
     "output_type": "display_data"
    }
   ],
   "source": [
    "x_sc = LinearScale()\n",
    "y_sc = LinearScale()\n",
    "\n",
    "x_data = np.arange(20)\n",
    "y_data = np.random.randn(20)\n",
    "\n",
    "dd = Dropdown(options=['First', 'Second', 'Third', 'Fourth'])\n",
    "scatter_chart = Scatter(x=x_data, y=y_data, scales= {'x': x_sc, 'y': y_sc}, colors=['dodgerblue'],\n",
    "                       names=np.arange(100, 200), names_unique=False, display_names=False, display_legend=True,\n",
    "                       labels=['Blue'])\n",
    "ins = Button(icon='fa-legal')\n",
    "scatter_chart.tooltip = ins\n",
    "\n",
    "scatter_chart2 = Scatter(x=x_data, y=np.random.randn(20), \n",
    "                         scales= {'x': x_sc, 'y': y_sc}, colors=['orangered'],\n",
    "                         tooltip=dd, names=np.arange(100, 200), names_unique=False, display_names=False, \n",
    "                         display_legend=True, labels=['Red'])\n",
    "\n",
    "ax_x = Axis(scale=x_sc)\n",
    "ax_y = Axis(scale=y_sc, orientation='vertical', tick_format='0.2f')\n",
    "\n",
    "Figure(marks=[scatter_chart, scatter_chart2], axes=[ax_x, ax_y])"
   ]
  },
  {
   "cell_type": "markdown",
   "metadata": {},
   "source": [
    "Call backs und benutzerdefinierte Nachrichten definieren:"
   ]
  },
  {
   "cell_type": "code",
   "execution_count": 7,
   "metadata": {},
   "outputs": [],
   "source": [
    "def print_event(self, target):\n",
    "    print(target)\n",
    "\n",
    "# Adding call back to scatter events\n",
    "# print custom mssg on hover and background click of Blue Scatter\n",
    "scatter_chart.on_hover(print_event)\n",
    "scatter_chart.on_background_click(print_event)\n",
    "\n",
    "# print custom mssg on click of an element or legend of Red Scatter\n",
    "scatter_chart2.on_element_click(print_event)\n",
    "scatter_chart2.on_legend_click(print_event)"
   ]
  },
  {
   "cell_type": "markdown",
   "metadata": {},
   "source": [
    "`figure` als Tooltip definieren:"
   ]
  },
  {
   "cell_type": "code",
   "execution_count": 8,
   "metadata": {},
   "outputs": [],
   "source": [
    "# Adding figure as tooltip\n",
    "x_sc = LinearScale()\n",
    "y_sc = LinearScale()\n",
    "\n",
    "x_data = np.arange(10)\n",
    "y_data = np.random.randn(10)\n",
    "\n",
    "lc = Lines(x=x_data, y=y_data, scales={'x': x_sc, 'y':y_sc})\n",
    "ax_x = Axis(scale=x_sc)\n",
    "ax_y = Axis(scale=y_sc, orientation='vertical', tick_format='0.2f')\n",
    "tooltip_fig = Figure(marks=[lc], axes=[ax_x, ax_y], layout=Layout(min_width='600px'))\n",
    "\n",
    "scatter_chart.tooltip = tooltip_fig"
   ]
  },
  {
   "cell_type": "code",
   "execution_count": 9,
   "metadata": {},
   "outputs": [],
   "source": [
    "# Changing interaction from hover to click for tooltip\n",
    "scatter_chart.interactions = {'click': 'tooltip'}"
   ]
  },
  {
   "cell_type": "markdown",
   "metadata": {},
   "source": [
    "## Liniendiagramm"
   ]
  },
  {
   "cell_type": "code",
   "execution_count": 10,
   "metadata": {},
   "outputs": [
    {
     "data": {
      "application/vnd.jupyter.widget-view+json": {
       "model_id": "10651087206d46edb13e8623f139c8a2",
       "version_major": 2,
       "version_minor": 0
      },
      "text/plain": [
       "Figure(axes=[Axis(scale=LinearScale()), Axis(orientation='vertical', scale=LinearScale(), tick_format='0.2f')]…"
      ]
     },
     "metadata": {},
     "output_type": "display_data"
    }
   ],
   "source": [
    "# Adding default tooltip to Line Chart\n",
    "x_sc = LinearScale()\n",
    "y_sc = LinearScale()\n",
    "\n",
    "x_data = np.arange(100)\n",
    "y_data = np.random.randn(3, 100)\n",
    "\n",
    "def_tt = Tooltip(fields=['name', 'index'], formats=['', '.2f'], labels=['id', 'line_num'])\n",
    "line_chart = Lines(x=x_data, y=y_data, scales= {'x': x_sc, 'y': y_sc}, \n",
    "                       tooltip=def_tt, display_legend=True, labels=[\"line 1\", \"line 2\", \"line 3\"] )\n",
    "\n",
    "ax_x = Axis(scale=x_sc)\n",
    "ax_y = Axis(scale=y_sc, orientation='vertical', tick_format='0.2f')\n",
    "\n",
    "Figure(marks=[line_chart], axes=[ax_x, ax_y])"
   ]
  },
  {
   "cell_type": "code",
   "execution_count": 11,
   "metadata": {},
   "outputs": [],
   "source": [
    "# Adding call back to print event when legend or the line is clicked\n",
    "line_chart.on_legend_click(print_event)\n",
    "line_chart.on_element_click(print_event)"
   ]
  },
  {
   "cell_type": "markdown",
   "metadata": {},
   "source": [
    "## Balkendiagramm"
   ]
  },
  {
   "cell_type": "code",
   "execution_count": 12,
   "metadata": {},
   "outputs": [
    {
     "data": {
      "application/vnd.jupyter.widget-view+json": {
       "model_id": "8aece11650294777907ee00996588c86",
       "version_major": 2,
       "version_minor": 0
      },
      "text/plain": [
       "Figure(axes=[Axis(scale=OrdinalScale()), Axis(orientation='vertical', scale=LinearScale(), tick_format='0.2f')…"
      ]
     },
     "metadata": {},
     "output_type": "display_data"
    }
   ],
   "source": [
    "# Adding interaction to select bar on click for Bar Chart\n",
    "x_sc = OrdinalScale()\n",
    "y_sc = LinearScale()\n",
    "\n",
    "x_data = np.arange(10)\n",
    "y_data = np.random.randn(2, 10)\n",
    "\n",
    "bar_chart = Bars(x=x_data, y=[y_data[0, :].tolist(), y_data[1, :].tolist()], scales= {'x': x_sc, 'y': y_sc},\n",
    "                 interactions={'click': 'select'},\n",
    "                 selected_style={'stroke': 'orange', 'fill': 'red'},\n",
    "                 labels=['Level 1', 'Level 2'],\n",
    "                 display_legend=True)\n",
    "ax_x = Axis(scale=x_sc)\n",
    "ax_y = Axis(scale=y_sc, orientation='vertical', tick_format='0.2f')\n",
    "\n",
    "Figure(marks=[bar_chart], axes=[ax_x, ax_y])"
   ]
  },
  {
   "cell_type": "code",
   "execution_count": 13,
   "metadata": {},
   "outputs": [],
   "source": [
    "# Adding a tooltip on hover in addition to select on click\n",
    "def_tt = Tooltip(fields=['x', 'y'], formats=['', '.2f'])\n",
    "bar_chart.tooltip=def_tt\n",
    "bar_chart.interactions = {\n",
    "    'legend_hover': 'highlight_axes',\n",
    "    'hover': 'tooltip', \n",
    "    'click': 'select',\n",
    "}"
   ]
  },
  {
   "cell_type": "code",
   "execution_count": 14,
   "metadata": {},
   "outputs": [],
   "source": [
    "# Changing tooltip to be on click\n",
    "bar_chart.interactions = {'click': 'tooltip'}"
   ]
  },
  {
   "cell_type": "code",
   "execution_count": 15,
   "metadata": {},
   "outputs": [],
   "source": [
    "# Call back on legend being clicked\n",
    "bar_chart.type='grouped'\n",
    "bar_chart.on_legend_click(print_event)"
   ]
  },
  {
   "cell_type": "markdown",
   "metadata": {},
   "source": [
    "## Histogramm"
   ]
  },
  {
   "cell_type": "code",
   "execution_count": 16,
   "metadata": {},
   "outputs": [
    {
     "data": {
      "application/vnd.jupyter.widget-view+json": {
       "model_id": "9942dc9af3fe48ef8471d558ae999879",
       "version_major": 2,
       "version_minor": 0
      },
      "text/plain": [
       "Figure(axes=[Axis(scale=LinearScale(), tick_format='0.2f'), Axis(orientation='vertical', scale=LinearScale(), …"
      ]
     },
     "metadata": {},
     "output_type": "display_data"
    }
   ],
   "source": [
    "# Adding tooltip for Histogram\n",
    "x_sc = LinearScale()\n",
    "y_sc = LinearScale()\n",
    "\n",
    "sample_data = np.random.randn(100)\n",
    "\n",
    "def_tt = Tooltip(formats=['', '.2f'], fields=['count', 'midpoint'])\n",
    "hist = Hist(sample=sample_data, scales= {'sample': x_sc, 'count': y_sc},\n",
    "                       tooltip=def_tt, display_legend=True, labels=['Test Hist'], select_bars=True)\n",
    "ax_x = Axis(scale=x_sc, tick_format='0.2f')\n",
    "ax_y = Axis(scale=y_sc, orientation='vertical', tick_format='0.2f')\n",
    "\n",
    "Figure(marks=[hist], axes=[ax_x, ax_y])"
   ]
  },
  {
   "cell_type": "code",
   "execution_count": 17,
   "metadata": {},
   "outputs": [],
   "source": [
    "# Changing tooltip to be displayed on click\n",
    "hist.interactions = {'click': 'tooltip'}"
   ]
  },
  {
   "cell_type": "code",
   "execution_count": 18,
   "metadata": {},
   "outputs": [],
   "source": [
    "# Changing tooltip to be on click of legend\n",
    "hist.interactions = {'legend_click': 'tooltip'}"
   ]
  },
  {
   "cell_type": "markdown",
   "metadata": {
    "collapsed": true
   },
   "source": [
    "## Tortendiagramm"
   ]
  },
  {
   "cell_type": "code",
   "execution_count": 19,
   "metadata": {},
   "outputs": [
    {
     "data": {
      "application/vnd.jupyter.widget-view+json": {
       "model_id": "9d30afdd6cb74a4fa341fdab70bccf65",
       "version_major": 2,
       "version_minor": 0
      },
      "text/plain": [
       "Figure(fig_margin={'top': 60, 'bottom': 60, 'left': 60, 'right': 60}, marks=[Pie(color=array([ 0.16652675, -0.…"
      ]
     },
     "metadata": {},
     "output_type": "display_data"
    }
   ],
   "source": [
    "pie_data = np.abs(np.random.randn(10))\n",
    "\n",
    "sc = ColorScale(scheme='Reds')\n",
    "tooltip_widget = Tooltip(fields=['size', 'index', 'color'], formats=['0.2f', '', '0.2f'])\n",
    "pie = Pie(sizes=pie_data, scales={'color': sc}, color=np.random.randn(10), \n",
    "          tooltip=tooltip_widget, interactions = {'click': 'tooltip'}, selected_style={'fill': 'red'})\n",
    "\n",
    "pie.selected_style = {\"opacity\": \"1\", \"stroke\": \"white\", \"stroke-width\": \"2\"}\n",
    "pie.unselected_style = {\"opacity\": \"0.2\"}\n",
    "\n",
    "Figure(marks=[pie])"
   ]
  },
  {
   "cell_type": "code",
   "execution_count": 20,
   "metadata": {},
   "outputs": [],
   "source": [
    "# Changing interaction to select on click and tooltip on hover\n",
    "pie.interactions = {'click': 'select', 'hover': 'tooltip'}"
   ]
  }
 ],
 "metadata": {
  "anaconda-cloud": {},
  "kernelspec": {
   "display_name": "Python 3.7.4",
   "language": "python",
   "name": "python3"
  },
  "language_info": {
   "codemirror_mode": {
    "name": "ipython",
    "version": 3
   },
   "file_extension": ".py",
   "mimetype": "text/x-python",
   "name": "python",
   "nbconvert_exporter": "python",
   "pygments_lexer": "ipython3",
   "version": "3.7.4"
  },
  "latex_envs": {
   "LaTeX_envs_menu_present": true,
   "autoclose": false,
   "autocomplete": true,
   "bibliofile": "biblio.bib",
   "cite_by": "apalike",
   "current_citInitial": 1,
   "eqLabelWithNumbers": true,
   "eqNumInitial": 1,
   "hotkeys": {
    "equation": "Ctrl-E",
    "itemize": "Ctrl-I"
   },
   "labels_anchors": false,
   "latex_user_defs": false,
   "report_style_numbering": false,
   "user_envs_cfg": false
  },
  "varInspector": {
   "cols": {
    "lenName": 16,
    "lenType": 16,
    "lenVar": 40
   },
   "kernels_config": {
    "python": {
     "delete_cmd_postfix": "",
     "delete_cmd_prefix": "del ",
     "library": "var_list.py",
     "varRefreshCmd": "print(var_dic_list())"
    },
    "r": {
     "delete_cmd_postfix": ") ",
     "delete_cmd_prefix": "rm(",
     "library": "var_list.r",
     "varRefreshCmd": "cat(var_dic_list()) "
    }
   },
   "types_to_exclude": [
    "module",
    "function",
    "builtin_function_or_method",
    "instance",
    "_Feature"
   ],
   "window_display": false
  },
  "widgets": {
   "application/vnd.jupyter.widget-state+json": {
    "state": {
     "0282c25a388644a7bad88ad7291f983e": {
      "model_module": "bqplot",
      "model_module_version": "^0.4.8",
      "model_name": "AxisModel",
      "state": {
       "orientation": "vertical",
       "scale": "IPY_MODEL_bcad71299bd44a87983b2cca4665ff4c",
       "side": "left",
       "tick_format": "0.2f",
       "tick_values": {
        "type": null,
        "values": null
       }
      }
     },
     "0297603576c7425fab18796c75a91fcd": {
      "model_module": "@jupyter-widgets/controls",
      "model_module_version": "1.5.0",
      "model_name": "ButtonStyleModel",
      "state": {}
     },
     "033ce3213076471ca6e34541f9fa2316": {
      "model_module": "bqplot",
      "model_module_version": "^0.4.8",
      "model_name": "AxisModel",
      "state": {
       "scale": "IPY_MODEL_42608b51d38240c592865f783da726eb",
       "side": "bottom",
       "tick_values": {
        "type": null,
        "values": null
       }
      }
     },
     "036f02d0b4574dbaa32f7a4f0554f5ff": {
      "model_module": "@jupyter-widgets/base",
      "model_module_version": "1.2.0",
      "model_name": "LayoutModel",
      "state": {}
     },
     "03b1407c843c4d5e9493ddce20a230e8": {
      "model_module": "@jupyter-widgets/base",
      "model_module_version": "1.2.0",
      "model_name": "LayoutModel",
      "state": {}
     },
     "042a9798567c44a2bc82528e5676fd78": {
      "model_module": "bqplot",
      "model_module_version": "^0.4.8",
      "model_name": "LinearScaleModel",
      "state": {
       "allow_padding": false,
       "max": 1,
       "min": 0,
       "stabilized": false
      }
     },
     "064ebf85b44a40bfb11cad00bae035bf": {
      "model_module": "bqplot",
      "model_module_version": "^0.4.8",
      "model_name": "LinearScaleModel",
      "state": {
       "stabilized": false
      }
     },
     "0674df2ca71046549d1bb6a292ce986d": {
      "model_module": "bqplot",
      "model_module_version": "^0.4.8",
      "model_name": "ColorScaleModel",
      "state": {
       "_model_name": "ColorScaleModel",
       "_view_name": "ColorScale",
       "colors": [],
       "extrapolation": "constant",
       "mid": null,
       "scale_type": "linear",
       "scheme": "Reds"
      }
     },
     "0741c878ae75460eb842150df30e79e2": {
      "model_module": "bqplot",
      "model_module_version": "^0.4.8",
      "model_name": "LinearScaleModel",
      "state": {
       "allow_padding": false,
       "max": 1,
       "min": 0,
       "stabilized": false
      }
     },
     "07c1b483e7204d59a4a3ae47b5d7adb9": {
      "model_module": "@jupyter-widgets/base",
      "model_module_version": "1.2.0",
      "model_name": "LayoutModel",
      "state": {}
     },
     "08788b9ca04948fc82da921dc98983cf": {
      "model_module": "@jupyter-widgets/base",
      "model_module_version": "1.2.0",
      "model_name": "LayoutModel",
      "state": {}
     },
     "08e2437e42ec460f85a5def428c97119": {
      "model_module": "bqplot",
      "model_module_version": "^0.4.8",
      "model_name": "LinearScaleModel",
      "state": {
       "allow_padding": false,
       "max": 1,
       "min": 0,
       "stabilized": false
      }
     },
     "095408be04dd4b50a76991f732af9388": {
      "model_module": "bqplot",
      "model_module_version": "^0.4.8",
      "model_name": "LinearScaleModel",
      "state": {
       "stabilized": false
      }
     },
     "0aebd05546b74a5bb14cbcf377f44c06": {
      "model_module": "@jupyter-widgets/base",
      "model_module_version": "1.2.0",
      "model_name": "LayoutModel",
      "state": {}
     },
     "0bd1e702762f46ca9297145a2bfec146": {
      "model_module": "bqplot",
      "model_module_version": "^0.4.8",
      "model_name": "LinearScaleModel",
      "state": {
       "stabilized": false
      }
     },
     "0c5066d528fe45899b7675bbcd73193d": {
      "model_module": "bqplot",
      "model_module_version": "^0.4.8",
      "model_name": "OrdinalScaleModel",
      "state": {
       "domain": []
      }
     },
     "0c5a79c8ddc4448b82aa2772b23d03ee": {
      "model_module": "bqplot",
      "model_module_version": "^0.4.8",
      "model_name": "LinearScaleModel",
      "state": {
       "allow_padding": false,
       "max": 1,
       "min": 0,
       "stabilized": false
      }
     },
     "0ca4b634cc4e49f89add70390712c874": {
      "model_module": "bqplot",
      "model_module_version": "^0.4.8",
      "model_name": "LinearScaleModel",
      "state": {
       "allow_padding": false,
       "max": 1,
       "min": 0,
       "stabilized": false
      }
     },
     "0e3ed847a7bb484f805b9844728a1820": {
      "model_module": "bqplot",
      "model_module_version": "^0.4.8",
      "model_name": "AxisModel",
      "state": {
       "scale": "IPY_MODEL_1e75ab286366416ea5702626031fc2b3",
       "side": "bottom",
       "tick_values": {
        "type": null,
        "values": null
       }
      }
     },
     "0fe37012ee954b879ce9c8da59eb721b": {
      "model_module": "bqplot",
      "model_module_version": "^0.4.8",
      "model_name": "LinearScaleModel",
      "state": {
       "allow_padding": false,
       "max": 1,
       "min": 0,
       "stabilized": false
      }
     },
     "10630252819a496ba5f366a5f16cf4e4": {
      "model_module": "@jupyter-widgets/base",
      "model_module_version": "1.2.0",
      "model_name": "LayoutModel",
      "state": {
       "min_width": "600px"
      }
     },
     "10651087206d46edb13e8623f139c8a2": {
      "model_module": "bqplot",
      "model_module_version": "^0.4.8",
      "model_name": "FigureModel",
      "state": {
       "_dom_classes": [],
       "axes": [
        "IPY_MODEL_3200386bc2f141698d39174940889746",
        "IPY_MODEL_8246d6c0309143cd9a13a9b57ffbec79"
       ],
       "layout": "IPY_MODEL_b4d3560ffb74463db593ddd284904e9e",
       "marks": [
        "IPY_MODEL_a1b84d21f9224bcbae4e17583f2e3efc"
       ],
       "scale_x": "IPY_MODEL_9ebd8232449840fba652f93bf4a3d41d",
       "scale_y": "IPY_MODEL_d9928961b0bc4abfa1dde4fbceed688a"
      }
     },
     "118aa865e5ff4f2b8d9ca5e6f1a0d935": {
      "model_module": "bqplot",
      "model_module_version": "^0.4.8",
      "model_name": "FigureModel",
      "state": {
       "_dom_classes": [],
       "axes": [
        "IPY_MODEL_b30eceb0d9c84943adf0cb65c9e349e5",
        "IPY_MODEL_4aee4e33cd2d46489df466773de1ba9b"
       ],
       "layout": "IPY_MODEL_939aa7f99a1f465ca81b8c99d04fd242",
       "marks": [
        "IPY_MODEL_dd2617b99218402bbfff53e1a7579562"
       ],
       "scale_x": "IPY_MODEL_e489ca3871924ca08b1107aed137a7ea",
       "scale_y": "IPY_MODEL_ccbfa7036dd44581b2b8d250d605781f"
      }
     },
     "11959759dcba4d4894fe6b2ddef88f9b": {
      "model_module": "bqplot",
      "model_module_version": "^0.4.8",
      "model_name": "LinearScaleModel",
      "state": {
       "stabilized": false
      }
     },
     "11d53552c3694941819f9445604597ad": {
      "model_module": "bqplot",
      "model_module_version": "^0.4.8",
      "model_name": "LinearScaleModel",
      "state": {
       "allow_padding": false,
       "max": 1,
       "min": 0,
       "stabilized": false
      }
     },
     "12a07ac2eaae47d6b8760db16086f7a8": {
      "model_module": "bqplot",
      "model_module_version": "^0.4.8",
      "model_name": "ColorScaleModel",
      "state": {
       "_model_name": "ColorScaleModel",
       "_view_name": "ColorScale",
       "colors": [],
       "extrapolation": "constant",
       "mid": null,
       "scale_type": "linear",
       "scheme": "Reds"
      }
     },
     "13db86216bba4c3984a74d9977b44d8b": {
      "model_module": "@jupyter-widgets/base",
      "model_module_version": "1.2.0",
      "model_name": "LayoutModel",
      "state": {}
     },
     "1608848dc001450895655900667d661a": {
      "model_module": "bqplot",
      "model_module_version": "^0.4.8",
      "model_name": "FigureModel",
      "state": {
       "_dom_classes": [],
       "axes": [
        "IPY_MODEL_2b8b32394fa541ad98652c161c77774b",
        "IPY_MODEL_5127b4f8287b414eb3dff524b1c48a30"
       ],
       "layout": "IPY_MODEL_b0b49d8c547d4e608f47b03b35ff93ef",
       "marks": [
        "IPY_MODEL_549e60d2a6b5461ca9f5c61b18333f71"
       ],
       "scale_x": "IPY_MODEL_d9b86d8b818346b1a9fb22da915ded27",
       "scale_y": "IPY_MODEL_612b810a950f46fb93bee91f66b67ffe"
      }
     },
     "165efea8fb064c21ae5f0d116bc09c0f": {
      "model_module": "@jupyter-widgets/base",
      "model_module_version": "1.2.0",
      "model_name": "LayoutModel",
      "state": {}
     },
     "1661e4738f4a4fba85d7d37c72279635": {
      "model_module": "bqplot",
      "model_module_version": "^0.4.8",
      "model_name": "FigureModel",
      "state": {
       "_dom_classes": [],
       "axes": [
        "IPY_MODEL_b222704ff36a43abb0e2e3a729cd157b",
        "IPY_MODEL_a90dcf8b0923451f8010b5254ecf052a"
       ],
       "layout": "IPY_MODEL_c0cbe444df7c44cc99b31d80599c1a23",
       "marks": [
        "IPY_MODEL_2f123113efe04306bbc023b4920e0027"
       ],
       "scale_x": "IPY_MODEL_9d3c23c2409245b4ac4d14bf2bc39b13",
       "scale_y": "IPY_MODEL_9cf83ceb94f047b582ef3f5e70deab97"
      }
     },
     "169b5c9c143343898a5a990305624704": {
      "model_module": "bqplot",
      "model_module_version": "^0.4.8",
      "model_name": "TooltipModel",
      "state": {
       "fields": [
        "size",
        "index",
        "color"
       ],
       "formats": [
        "0.2f",
        "",
        "0.2f"
       ],
       "layout": "IPY_MODEL_43f6c9570ccb4faaa118eb9f8a1b54e1"
      }
     },
     "174a77d1c32b441f8625a42206123591": {
      "model_module": "@jupyter-widgets/base",
      "model_module_version": "1.2.0",
      "model_name": "LayoutModel",
      "state": {}
     },
     "1791ffb66bc146d9bae8b06236f865ec": {
      "model_module": "@jupyter-widgets/base",
      "model_module_version": "1.2.0",
      "model_name": "LayoutModel",
      "state": {}
     },
     "17a9cd8884a74610a28353c2ef3aa041": {
      "model_module": "@jupyter-widgets/base",
      "model_module_version": "1.2.0",
      "model_name": "LayoutModel",
      "state": {}
     },
     "17e5a88dd84341eebf80f9fdd8bc41d0": {
      "model_module": "bqplot",
      "model_module_version": "^0.4.8",
      "model_name": "FigureModel",
      "state": {
       "_dom_classes": [],
       "layout": "IPY_MODEL_87e747687ca543f49c7136bddcc255b8",
       "marks": [
        "IPY_MODEL_d5479523632e4756bfb9864390fe072f"
       ],
       "scale_x": "IPY_MODEL_042a9798567c44a2bc82528e5676fd78",
       "scale_y": "IPY_MODEL_c2f55ef354e845eeafb11573b7039a77"
      }
     },
     "18bc5ceb7ac841d09634f68fa1a40c5a": {
      "model_module": "bqplot",
      "model_module_version": "^0.4.8",
      "model_name": "LinearScaleModel",
      "state": {
       "allow_padding": false,
       "max": 1,
       "min": 0,
       "stabilized": false
      }
     },
     "191d0e5408f5458ea424b18164bfbbab": {
      "model_module": "bqplot",
      "model_module_version": "^0.4.8",
      "model_name": "TooltipModel",
      "state": {
       "fields": [
        "count",
        "midpoint"
       ],
       "formats": [
        "",
        ".2f"
       ],
       "layout": "IPY_MODEL_07c1b483e7204d59a4a3ae47b5d7adb9"
      }
     },
     "1aef3921d62d4c059fb84aa28375d28f": {
      "model_module": "@jupyter-widgets/controls",
      "model_module_version": "1.5.0",
      "model_name": "ButtonStyleModel",
      "state": {}
     },
     "1e75ab286366416ea5702626031fc2b3": {
      "model_module": "bqplot",
      "model_module_version": "^0.4.8",
      "model_name": "LinearScaleModel",
      "state": {
       "stabilized": false
      }
     },
     "1eb8ed2c925d453e8024f1a2d5b7a060": {
      "model_module": "bqplot",
      "model_module_version": "^0.4.8",
      "model_name": "FigureModel",
      "state": {
       "_dom_classes": [],
       "axes": [
        "IPY_MODEL_54a21144ae8842e78771109b245d1603",
        "IPY_MODEL_d07dcd51c4da4755b700123e6f9b22b8"
       ],
       "layout": "IPY_MODEL_4f18446911de4e1db95cabe25c45bb72",
       "marks": [
        "IPY_MODEL_52d268a6e2104409ad0f57ec4fa015be",
        "IPY_MODEL_8626a726802d494e9d898da2b1fab5cb"
       ],
       "scale_x": "IPY_MODEL_0fe37012ee954b879ce9c8da59eb721b",
       "scale_y": "IPY_MODEL_11d53552c3694941819f9445604597ad"
      }
     },
     "233a163fd2414206b21d53b9466e9e80": {
      "model_module": "@jupyter-widgets/base",
      "model_module_version": "1.2.0",
      "model_name": "LayoutModel",
      "state": {}
     },
     "2367c7984c8d4e8e9ead0458fe8ae62d": {
      "model_module": "bqplot",
      "model_module_version": "^0.4.8",
      "model_name": "HistModel",
      "state": {
       "count": {
        "type": "float",
        "values": [
         3,
         3,
         18,
         21,
         20,
         19,
         7,
         8,
         0,
         1
        ]
       },
       "interactions": {
        "legend_click": "tooltip"
       },
       "labels": [
        "Test Hist"
       ],
       "midpoints": [
        -2.3414617481502114,
        -1.708292573278849,
        -1.075123398407487,
        -0.4419542235361247,
        0.1912149513352377,
        0.8243841262065998,
        1.457553301077962,
        2.0907224759493244,
        2.7238916508206867,
        3.357060825692049
       ],
       "sample": {
        "type": "float",
        "values": [
         -1.0255187602380869,
         1.560241130680725,
         0.07171705095973158,
         2.323028896736068,
         1.0857609518879168,
         -0.423240515349401,
         0.5522290089414774,
         0.43952790306148565,
         0.6880442862361951,
         -0.766409934252697,
         -0.1876569372133055,
         1.6403210683197955,
         -0.019881659796467152,
         -0.8328602290179845,
         -1.239987913092507,
         -0.9970841625601209,
         0.5745961077187558,
         -0.04224963399320913,
         -0.5230954720847231,
         -1.252368351259913,
         -0.37914995375087085,
         -1.0665105194001365,
         0.6752549522283371,
         1.9748230616692048,
         1.0254958598998662,
         1.3863916942111691,
         -0.6692392884366458,
         0.13202656500434246,
         0.8305524749389874,
         -0.027838766843141776,
         -0.3364030841874395,
         -0.16057824914158342,
         -1.0057878278716619,
         0.7416392778001429,
         -0.28408881656841517,
         0.4960074719259253,
         0.9505131287746229,
         0.45376415704677325,
         -1.3709240387835349,
         -0.18052601903986082,
         1.7909073679011747,
         0.044401390740471426,
         -1.2192804086343187,
         -0.4293199765406015,
         -0.32803461068052353,
         0.2926770530957764,
         1.6209960897101996,
         -0.7961468589439337,
         0.2649739947772408,
         3.6736454131277303,
         -1.35149717729643,
         -1.7991492501838806,
         -0.9862206373708818,
         -0.8109467274338142,
         -0.3703019139066699,
         0.07579222612323609,
         -0.7484185285743369,
         0.5293771704793263,
         2.3932976440609304,
         -0.8455216556706525,
         0.2847527627447186,
         -2.1095001215955116,
         0.7336241064264659,
         -0.30499243263662135,
         0.08988587266909275,
         1.1676094541020405,
         2.204700762686226,
         2.2905147396220253,
         -1.4018764028820143,
         -0.21357274528676345,
         1.9682486277524807,
         -2.6580463355858925,
         -0.7476229272121507,
         -0.09281400506787978,
         -0.4522828501779084,
         1.268862083696169,
         0.5765144088696363,
         0.1574106027302828,
         -2.260428623844603,
         1.1651836700989042,
         1.012136346499069,
         1.0161184096185463,
         -0.432389466289997,
         -0.46914101540762887,
         1.9423253843159942,
         0.8822520043821133,
         0.9488853261930251,
         -0.5373796895719813,
         -0.06655914331018259,
         -1.1768868079138113,
         -0.675694851688029,
         1.079710791649509,
         0.10687777356848106,
         -1.3496951916616815,
         -1.0392071086617996,
         0.10163391302638305,
         -1.6088378404088948,
         0.5780070907727035,
         0.12123999002181972,
         0.5334583349231595
        ]
       },
       "scales": {
        "count": "IPY_MODEL_acd60b91c49540c69bd5e95e37e27baf",
        "sample": "IPY_MODEL_34ed5f1c9af24cc78154a6a43e1c4e27"
       },
       "selected": [],
       "tooltip": "IPY_MODEL_689b1d85e27a4afd911892ec001f6c76"
      }
     },
     "24be4e9e6c3a4550a23b91d7236caed9": {
      "model_module": "bqplot",
      "model_module_version": "^0.4.8",
      "model_name": "LinesModel",
      "state": {
       "color": {
        "type": null,
        "values": null
       },
       "fill_colors": [],
       "labels": [
        "line 1",
        "line 2",
        "line 3"
       ],
       "scales": {
        "x": "IPY_MODEL_899ad56bc48641b7b409a73b89759e4c",
        "y": "IPY_MODEL_095408be04dd4b50a76991f732af9388"
       },
       "selected": [],
       "tooltip": "IPY_MODEL_2c75cd8c05ba41a1ac6f358c1618ca56",
       "x": {
        "type": "float",
        "values": [
         0,
         1,
         2,
         3,
         4,
         5,
         6,
         7,
         8,
         9,
         10,
         11,
         12,
         13,
         14,
         15,
         16,
         17,
         18,
         19,
         20,
         21,
         22,
         23,
         24,
         25,
         26,
         27,
         28,
         29,
         30,
         31,
         32,
         33,
         34,
         35,
         36,
         37,
         38,
         39,
         40,
         41,
         42,
         43,
         44,
         45,
         46,
         47,
         48,
         49,
         50,
         51,
         52,
         53,
         54,
         55,
         56,
         57,
         58,
         59,
         60,
         61,
         62,
         63,
         64,
         65,
         66,
         67,
         68,
         69,
         70,
         71,
         72,
         73,
         74,
         75,
         76,
         77,
         78,
         79,
         80,
         81,
         82,
         83,
         84,
         85,
         86,
         87,
         88,
         89,
         90,
         91,
         92,
         93,
         94,
         95,
         96,
         97,
         98,
         99
        ]
       },
       "y": {
        "type": "float",
        "values": [
         [
          1.2167571925711447,
          0.20314967485938643,
          0.9787141483909917,
          0.390867077653935,
          0.22372167845401683,
          -0.6313695373745919,
          -0.4276934146924764,
          -0.8758939714414488,
          0.21201540257063625,
          -2.2533416778883604,
          0.552637454305919,
          -0.8480580876378554,
          0.33484075718067,
          0.06674577719937307,
          0.438355134714959,
          -0.4229269110198978,
          -1.095297460667239,
          -0.3498138943964349,
          0.5897797466463728,
          -0.8952601732994709,
          -0.09922678025105487,
          1.7492366539321655,
          -0.7614755816037196,
          -0.08761276722850064,
          0.48081808804013326,
          -0.09785740831146163,
          -0.0024582994442951655,
          0.30458507247634475,
          0.5255686549413502,
          -1.1267246181274422,
          -0.029833512165620208,
          -0.015536705253034362,
          2.018433509612138,
          1.5732223715062148,
          -0.43100433184424825,
          0.9269867662199948,
          2.3173744826571774,
          0.20222216277301872,
          0.027870739603815694,
          -0.7336011637470322,
          -0.010813508010769276,
          -0.5009035484753551,
          0.6070911061016121,
          0.18992247698503545,
          -1.4560143356848587,
          -0.40770126678905366,
          0.2974648525530135,
          0.6900410239882093,
          0.6002472250366011,
          -1.8938162920182597,
          -2.529789107278394,
          -1.9390494194400547,
          1.1606484953645437,
          1.5647039223073373,
          1.4984973508706017,
          0.8076840473567075,
          -0.03550706695167524,
          -0.46458396791563095,
          0.19761253702212664,
          -1.9739564989726808,
          1.8296579281949246,
          -0.9698695851501075,
          0.19579479078283962,
          1.3113615866114852,
          -0.9358176111187011,
          -0.011553364999623833,
          1.0213548749281585,
          -0.6524447315064509,
          -0.13669715424559853,
          -0.7987682221838172,
          2.265951630408195,
          -0.11577089450613556,
          -0.2454306187171571,
          0.5503928669152102,
          -1.5434982191938753,
          -0.1378177693755614,
          1.4114867272349931,
          0.4274011893695723,
          0.22685089178860776,
          2.317468264257862,
          -1.3895128056828072,
          -0.12095886809951817,
          -0.4102822395343038,
          -0.9613665702574964,
          -0.397388947307942,
          0.18012212762197635,
          -0.8575287554247736,
          0.6915644907457185,
          0.9374794343127971,
          -0.9484580758805964,
          -0.049931981129736944,
          -1.2066184265825735,
          -0.18048052163979228,
          -1.5910669503601036,
          0.8327255286249146,
          2.8772279580564804,
          -0.21239670637310915,
          1.811298011572859,
          0.5288103262967278,
          0.52009789439515
         ],
         [
          -0.6535672144440023,
          -0.2464881440117717,
          0.41035053188024095,
          1.2484833317448674,
          1.275893050820353,
          -0.5396860744404821,
          -0.5392275176403356,
          1.9184166911670288,
          -0.2470043956233956,
          -0.23386139523495444,
          1.5458018370185098,
          -1.6906106552050422,
          0.4113027850901657,
          -0.447797273537758,
          0.39104098967989925,
          2.405961179556505,
          0.08349193723847588,
          -1.3741218368128587,
          1.0192562464200943,
          0.6683018152382212,
          0.1317220757267393,
          -1.6644295071966857,
          0.04131916489859349,
          1.2902379885675583,
          -1.937659999804811,
          0.617575915213355,
          -1.1386870132265694,
          0.6114466162905455,
          -0.15484275172570805,
          0.8560867877241304,
          0.31883665209748396,
          -0.9112364059757103,
          0.6226019613314447,
          1.1131394269445756,
          -0.5267622188063306,
          -1.1656376618043032,
          -0.09399359093019712,
          2.0261673122710855,
          -1.0106228081888113,
          -0.033900605853975044,
          -0.6378076176431268,
          0.07640231521169888,
          -0.4757633024791264,
          0.13132308402967857,
          -0.2558191576630114,
          0.14965965389669988,
          0.09855025362205501,
          1.7254421884097055,
          1.474123854487383,
          0.4988450293453981,
          -0.38288246730210457,
          0.5852454774711877,
          -0.2957352388966831,
          1.396600548938957,
          0.21018427107933935,
          0.536111764010206,
          0.5578351701473343,
          1.01090441579493,
          1.2313708571754747,
          -0.7775704013626237,
          -0.3969224102175703,
          0.36523515332170914,
          -1.0116493167948388,
          -0.2625096505786137,
          -0.32228049666912334,
          1.0444355916103922,
          0.19732786426004384,
          0.5654028294775532,
          0.9032551297926512,
          -0.36408001734944767,
          -1.043273314547504,
          0.01081583027681547,
          -1.9412657810067488,
          -0.9015555509976564,
          0.757980510413848,
          -0.17742505616144355,
          -0.3841885247940996,
          -0.9680524030842892,
          1.4769687567754424,
          1.4919308206369049,
          -1.2212805179455817,
          0.10653559366690099,
          -0.25525555122841526,
          0.6069709022086266,
          1.3609554826259322,
          -1.207481143247369,
          -0.42105941413976383,
          -0.6478885765356988,
          -1.1688209042792708,
          -1.740612528249311,
          -0.24320711638476122,
          -0.5637389618648307,
          1.934933261659432,
          -0.583859776368482,
          -0.8013889699308786,
          -0.3187722387146367,
          1.2807719280615353,
          0.24389998643419658,
          -0.843188417826923,
          2.0877840500729516
         ],
         [
          0.32346111561012175,
          0.6098236461512107,
          1.2545795944268943,
          0.4175884320109518,
          -1.1618948534595916,
          -0.934907971706244,
          0.322398151959762,
          -0.8470421027127265,
          0.26932001271600564,
          -0.43807718832527587,
          0.24482457003387328,
          -0.42949357158125495,
          1.159067684376546,
          -0.7689604497070316,
          0.883768428031366,
          0.129147464995754,
          -1.6633193024651673,
          -0.6106938374127404,
          -1.5110319106033974,
          0.6961276798774909,
          0.49200095016651246,
          1.9086502361524098,
          0.8172265960263576,
          -1.224911975386031,
          -0.1820608368124205,
          -0.8843085126055588,
          0.46405701819516926,
          -0.14607276708958272,
          1.227414418517459,
          1.288796019209915,
          0.16453444476794787,
          -0.8676930802577717,
          -0.7044934014953689,
          0.4921665762125805,
          0.44330890658866806,
          0.47941595412547944,
          -0.7233182985740484,
          0.32216384800426,
          0.9379416670938052,
          -0.4569016382040127,
          -0.1110273504996871,
          1.0002515642182552,
          0.6160122489846495,
          -0.2066422061958263,
          1.6833298095091236,
          1.5296007204785818,
          -1.8621668331514196,
          -0.46103152357725097,
          -1.9089043963288579,
          -1.8583357282237607,
          -0.9895830506794187,
          -1.5000860976549633,
          -0.37458497267550994,
          -1.0827369843104047,
          1.2793190690734824,
          -1.1507931090135377,
          -1.7826506159499074,
          0.5144597707842564,
          -0.96128582338109,
          -0.05520947593815209,
          0.4110851387640157,
          1.4700696719264574,
          -0.9924720120287285,
          0.274971774461558,
          1.3864279729315914,
          -0.7244860436729467,
          1.0039632130273821,
          0.4740416838377481,
          -0.36365610546059424,
          1.7183637767302722,
          -0.7115847016137068,
          -2.1185969995268885,
          2.4394930729446314,
          0.059511506873064286,
          0.32920208540778223,
          -0.2034088687146198,
          -0.1236441641292201,
          0.4574399544547189,
          -2.7842466254788296,
          -1.735098607864381,
          -0.5427168796776448,
          1.7075193568130511,
          -1.6632541676092447,
          -1.4137506092101155,
          1.121645571387775,
          -1.4178690942546486,
          -0.23221834028906244,
          0.7929964073059813,
          -0.7021979724835632,
          -1.497556589672409,
          -0.229432614841759,
          -1.5289026956556118,
          -0.35357629991837364,
          -1.3196125284642175,
          1.5901102023081168,
          0.31641057014880125,
          1.275569518844683,
          -0.23337502782224104,
          1.5393797086254493,
          0.33421910166845925
         ]
        ]
       }
      }
     },
     "25c27ebb66274a0d9b002c30c4b43a44": {
      "model_module": "bqplot",
      "model_module_version": "^0.4.8",
      "model_name": "HistModel",
      "state": {
       "count": {
        "type": "float",
        "values": [
         2,
         3,
         14,
         14,
         15,
         31,
         10,
         5,
         4,
         2
        ]
       },
       "interactions": {
        "legend_click": "tooltip"
       },
       "labels": [
        "Test Hist"
       ],
       "midpoints": [
        -2.446320964910729,
        -1.8708723712740145,
        -1.2954237776372994,
        -0.7199751840005846,
        -0.1445265903638695,
        0.43092200327284536,
        1.0063705969095604,
        1.5818191905462755,
        2.15726778418299,
        2.7327163778197052
       ],
       "sample": {
        "type": "float",
        "values": [
         -0.11088549922212955,
         0.05755840971009376,
         -0.6186891873612803,
         0.6417909050008596,
         1.2748945417688753,
         1.84417577772024,
         1.0518979789779799,
         -0.08721137968870211,
         -2.734045261729087,
         -0.7997586656450136,
         -0.18760129930144415,
         0.10576089312324884,
         0.3096904960077183,
         -0.2124029380909185,
         -0.3541802602479459,
         0.15151774167712706,
         0.6434816380510414,
         0.2693379249579825,
         1.1590808890393007,
         0.7026999528829907,
         0.26621957011410075,
         -1.1507599515472862,
         0.3720340680134157,
         0.6716909128828376,
         1.93848037009635,
         0.40962735549829843,
         -1.2533582697131156,
         -1.1694250718342007,
         0.7053925992383862,
         0.7181196975470736,
         -1.818941240975235,
         -0.2031903597388396,
         -1.19556978661517,
         0.19992835090328812,
         0.6356774943842848,
         0.22757711423960142,
         2.9914315337413906,
         -1.7155647668127665,
         0.5305523599048276,
         1.162964655142658,
         0.14863040287264362,
         0.2766065308218758,
         -0.5846672312118927,
         0.15931154322918484,
         -0.9656054233972237,
         -0.6676555202404988,
         1.175217139495919,
         0.1378167860630944,
         -0.036804150861664046,
         -1.3551639631992825,
         0.20187193563220568,
         1.1028752958971253,
         0.7770259414841236,
         2.095086546642274,
         -0.20742209327666714,
         0.16999419339844565,
         0.1886709289373257,
         -1.1613130865238734,
         -2.002382935851052,
         -0.7201557412288581,
         -0.20424548346880791,
         -0.9984503002850545,
         3.0204406746380625,
         -1.2568307132659313,
         -1.2118970317170576,
         -1.421493481681521,
         -0.22300535847280892,
         1.1707149676300788,
         1.2973947715513183,
         -0.9711763661277708,
         -1.3468644768761973,
         1.5797250674496002,
         0.6395902441934832,
         0.2921258476251144,
         -2.5214524571601675,
         -0.643782667780832,
         -0.2676577001725215,
         0.29273379616731837,
         -0.9336286851156044,
         1.8976106009303437,
         -0.6277775575034751,
         -1.4132113888732594,
         0.17029227994609364,
         -0.665068255439635,
         1.9246731803582688,
         -1.2704350531740352,
         0.7016033838279258,
         1.1408953556104628,
         0.37351204264296795,
         0.3572412294945881,
         -1.3944061059798927,
         1.498775316599871,
         0.5018551686264645,
         -1.2599594270634646,
         -0.25420160291730837,
         1.5092647717919603,
         0.4459249350373871,
         -0.4798713577449861,
         1.0089467760396633,
         -0.6179900112659649
        ]
       },
       "scales": {
        "count": "IPY_MODEL_a2c9ae5391154253a52201555bd0628f",
        "sample": "IPY_MODEL_7e3673fb984d4aefbe8ada7c13c8b3bf"
       },
       "selected": [],
       "tooltip": "IPY_MODEL_53b61bb1cb0a4f51ab6ed9f5d21254b3"
      }
     },
     "272dd4bbff264aa7a1d825d10303b489": {
      "model_module": "bqplot",
      "model_module_version": "^0.4.8",
      "model_name": "LinearScaleModel",
      "state": {
       "stabilized": false
      }
     },
     "295a27498c60424abe6bbd9f3ecfa2ec": {
      "model_module": "@jupyter-widgets/base",
      "model_module_version": "1.2.0",
      "model_name": "LayoutModel",
      "state": {}
     },
     "2b8b32394fa541ad98652c161c77774b": {
      "model_module": "bqplot",
      "model_module_version": "^0.4.8",
      "model_name": "AxisModel",
      "state": {
       "scale": "IPY_MODEL_8e0167c744234c488d5b3eda24e0acfa",
       "side": "bottom",
       "tick_values": {
        "type": null,
        "values": null
       }
      }
     },
     "2c75cd8c05ba41a1ac6f358c1618ca56": {
      "model_module": "bqplot",
      "model_module_version": "^0.4.8",
      "model_name": "TooltipModel",
      "state": {
       "fields": [
        "name",
        "index"
       ],
       "formats": [
        "",
        ".2f"
       ],
       "labels": [
        "id",
        "line_num"
       ],
       "layout": "IPY_MODEL_a70af824a98c4ebb8985f469c406e2df"
      }
     },
     "2c89c442e2cd486ab0a581d115d25b5d": {
      "model_module": "bqplot",
      "model_module_version": "^0.4.8",
      "model_name": "AxisModel",
      "state": {
       "scale": "IPY_MODEL_68f3b5fa608b42ba9a9f7607b490a477",
       "side": "bottom",
       "tick_values": {
        "type": null,
        "values": null
       }
      }
     },
     "2dd5afc23277427ea470a438d3a06057": {
      "model_module": "@jupyter-widgets/controls",
      "model_module_version": "1.5.0",
      "model_name": "DropdownModel",
      "state": {
       "_options_labels": [
        "First",
        "Second",
        "Third",
        "Fourth"
       ],
       "index": 0,
       "layout": "IPY_MODEL_c74a11d8eb884a2c8b148085ba58a95d",
       "style": "IPY_MODEL_30f1c385d247466fa7157aed23c3bbe0"
      }
     },
     "2dfba0ff10cf42a1b4aece8a0423307f": {
      "model_module": "bqplot",
      "model_module_version": "^0.4.8",
      "model_name": "ColorScaleModel",
      "state": {
       "_model_name": "ColorScaleModel",
       "_view_name": "ColorScale",
       "colors": [],
       "extrapolation": "constant",
       "mid": null,
       "scale_type": "linear",
       "scheme": "Reds"
      }
     },
     "2e29cfa11f584a44bfc30c25f01921c6": {
      "model_module": "@jupyter-widgets/base",
      "model_module_version": "1.2.0",
      "model_name": "LayoutModel",
      "state": {}
     },
     "2f123113efe04306bbc023b4920e0027": {
      "model_module": "bqplot",
      "model_module_version": "^0.4.8",
      "model_name": "LinesModel",
      "state": {
       "color": {
        "type": null,
        "values": null
       },
       "fill_colors": [],
       "labels": [
        "line 1",
        "line 2",
        "line 3"
       ],
       "scales": {
        "x": "IPY_MODEL_dd4facacb8fb46ea9e62d0a568d387d0",
        "y": "IPY_MODEL_81c6ac16c8d64831b4960249fc40deac"
       },
       "selected": [],
       "tooltip": "IPY_MODEL_3fcd3cfa166941da9fc2fa3ff08a246d",
       "x": {
        "type": "float",
        "values": [
         0,
         1,
         2,
         3,
         4,
         5,
         6,
         7,
         8,
         9,
         10,
         11,
         12,
         13,
         14,
         15,
         16,
         17,
         18,
         19,
         20,
         21,
         22,
         23,
         24,
         25,
         26,
         27,
         28,
         29,
         30,
         31,
         32,
         33,
         34,
         35,
         36,
         37,
         38,
         39,
         40,
         41,
         42,
         43,
         44,
         45,
         46,
         47,
         48,
         49,
         50,
         51,
         52,
         53,
         54,
         55,
         56,
         57,
         58,
         59,
         60,
         61,
         62,
         63,
         64,
         65,
         66,
         67,
         68,
         69,
         70,
         71,
         72,
         73,
         74,
         75,
         76,
         77,
         78,
         79,
         80,
         81,
         82,
         83,
         84,
         85,
         86,
         87,
         88,
         89,
         90,
         91,
         92,
         93,
         94,
         95,
         96,
         97,
         98,
         99
        ]
       },
       "y": {
        "type": "float",
        "values": [
         [
          -0.7109041954497254,
          0.8139722331539547,
          0.005254847817768457,
          0.529673321819917,
          -0.015936430715957503,
          -0.32587236941800307,
          -1.1848797821418544,
          0.25304997765112863,
          0.3791807801976556,
          -0.6752704847514709,
          1.1958048508589083,
          -0.5228461403165876,
          0.10297116107439097,
          1.1970677560226246,
          -0.44388660008542646,
          -0.9121893116100248,
          -0.9335096735254852,
          -0.5317594593131306,
          0.5114261894179053,
          -0.36069832874485264,
          -0.212477526898714,
          -0.9166430452995494,
          1.4686970646481952,
          -0.049034474146622126,
          0.10191567460990322,
          1.2061854528640197,
          -0.4446249209194238,
          -0.033418408743775316,
          1.8901350126149101,
          0.679979818670021,
          -2.270054921314879,
          -0.34193609121577184,
          0.7212937751453632,
          -1.4922145077962417,
          0.7508068694013166,
          0.0636733241440424,
          -1.1923946371875762,
          -0.8765570971042909,
          1.6187073912100884,
          1.1373943722962214,
          0.814609189913539,
          0.3128830485643798,
          -0.9634573611769929,
          0.19850476000010206,
          -0.4769850816636674,
          -0.8915555852128527,
          -1.7000191335920463,
          -0.43390477860520993,
          2.1187719950859574,
          -0.5871604879570101,
          0.4059120761412135,
          0.39580315596148313,
          -0.8495414271472961,
          -2.422074933569392,
          -0.8441140321571239,
          -0.8213594469050369,
          -0.4535993488181836,
          -1.2316440218737197,
          -1.6653868771879958,
          -1.0042211646149206,
          0.47516165396146975,
          0.05566369854176422,
          0.6013424316596254,
          1.3991437970052152,
          -0.44706875409540786,
          -0.5119259304905422,
          1.6478630354439734,
          0.9352227206778048,
          -0.4128936559016821,
          -0.025299590950108388,
          -0.5893566872986419,
          1.731437998976396,
          0.5084268642709284,
          -0.9136477232707723,
          -0.7024841907739522,
          -0.060342224507378986,
          2.0471214185685955,
          0.13169689026809167,
          1.2055714278699055,
          0.012188685393743164,
          1.1449975996768178,
          -0.08815946460059977,
          0.055274635140253686,
          -0.4070809833056336,
          0.32112257660370835,
          0.13095542577666755,
          -0.005114424078646121,
          -1.3596467870928162,
          1.48590317399691,
          0.5923480710965305,
          0.41587889027969466,
          0.9019842212217869,
          -0.9117153709451616,
          -0.4936798953662686,
          -0.3600452530687418,
          1.5887618514139292,
          -0.4696602539477036,
          0.2978188525573562,
          -1.2560980636454386,
          -0.09356422090916637
         ],
         [
          0.8512374248669088,
          0.12234940646238825,
          -0.015010226859071392,
          0.7976389106861381,
          0.13968506855760193,
          1.6329705974455635,
          1.0025415799314443,
          -1.1029429468726704,
          0.7091277479025794,
          0.3492269160531612,
          0.8589362640669633,
          0.9385065369792069,
          -1.5516573197526848,
          0.057129634150756246,
          -0.24724307056792977,
          1.5729299142334572,
          0.3509114605124037,
          -0.006163166573502294,
          -1.1467224627854296,
          -0.6633316378631986,
          0.24843237205425525,
          0.8504413252234861,
          1.243542444753021,
          -1.1490641010116478,
          -0.0640845653613694,
          0.128837479803417,
          -0.6375350220594418,
          -0.30785632697798504,
          -0.7241576617679817,
          -0.6091415374936464,
          1.610438871972845,
          -0.37481893622330814,
          -1.1587767607034714,
          -0.1302056714454156,
          -0.1371643208294977,
          0.28791572000950366,
          -1.2566618261304456,
          0.2360262248985628,
          0.2997783407591676,
          0.8136759465478787,
          0.6756492690971172,
          0.6567782585078074,
          0.3232708204495755,
          -0.259848892265163,
          0.2704600205831869,
          -0.40168988982783727,
          0.37552470062831395,
          -1.008470980392606,
          -1.1326221216688708,
          -0.5620153927610303,
          -1.1044119769508698,
          1.6558205920863163,
          -0.7011433155289732,
          0.32153218554593854,
          -0.474900423092418,
          0.9546196220318267,
          0.04766542735414264,
          0.913869656056216,
          -1.2362569027148385,
          -0.1437435922318437,
          1.0686291323075414,
          -0.2155938199377342,
          -0.6079869558175914,
          0.5366817953958224,
          0.17531772136271648,
          -0.46791043832300483,
          -1.0040470504281385,
          -2.48704849497513,
          0.40905214246972715,
          -1.3239535075102535,
          0.20516481722848942,
          0.3404622666209757,
          -1.1491074808643726,
          0.9280616693240326,
          -0.22110245280241073,
          0.5022442659227208,
          0.752704692379952,
          -0.41836613981414994,
          0.29617255897061556,
          -0.08427156080992648,
          -0.23060238976855407,
          0.16986153038880503,
          -0.8550656698008509,
          0.34553205312424506,
          1.573045918963367,
          0.0251332209314124,
          -0.5547641662624008,
          0.07455114234082716,
          -1.0207711183074333,
          0.6893625850190337,
          0.7752022563803312,
          -0.5098602200194506,
          0.9088157815132819,
          0.9679325545196615,
          0.11991099937678822,
          -0.5714225305647542,
          1.6957613062358547,
          0.6850063593958254,
          0.024492562514274376,
          0.12568841927355787
         ],
         [
          1.7127699098276117,
          2.33375960100878,
          -0.3186232885733007,
          -0.46914244407112293,
          1.0028024472130261,
          -0.13938026605511092,
          -1.1741724383833319,
          0.3943243084690225,
          0.9657270321391457,
          -0.5442567841708709,
          0.49566426698252397,
          0.775094776910285,
          -0.28640548577651287,
          0.22967705003339517,
          -1.616006806998298,
          -0.4303743734170504,
          -0.8483884643080813,
          0.6511509603812632,
          -0.7537917772640712,
          0.6874501278099402,
          -0.23312133708511112,
          0.1987550575611251,
          -0.09495343468077513,
          1.3539284902796158,
          0.3330512498535205,
          -0.25866653783187643,
          -0.3796360506311169,
          0.10037399796709852,
          -2.9419391821895404,
          -1.0728299218206043,
          -0.9233848980709582,
          -1.1829993377047254,
          -2.6067872607344538,
          -1.3360283387353036,
          -0.7736081681847388,
          1.8455797064699944,
          0.9145470740788292,
          -0.5181009351574107,
          0.941952073148053,
          -1.2687417284371274,
          -0.2619735577977973,
          -1.9113268097039444,
          -0.8126113029977687,
          -0.6493451601962615,
          -1.1655592091941431,
          -0.9608539213535334,
          0.8530303492625914,
          0.40511724555450834,
          -0.9731388045665504,
          -0.34751042394759024,
          2.1889690206993637,
          -0.893546425053192,
          1.5450358826730444,
          0.3028858420594737,
          1.376909237317319,
          0.6939697305068683,
          -0.7044158452625668,
          -1.509704919429593,
          -0.8962235028682631,
          0.1352118985120887,
          -0.6412162516077577,
          -1.9789418095125668,
          -0.521320485786049,
          -1.6070262772466375,
          1.4346787191268193,
          0.13985546264642165,
          -1.2455140022979978,
          0.4319830414592474,
          0.24822018015579153,
          -0.3270779741957739,
          -0.13455609697325754,
          -1.20852851231832,
          -2.118284547473232,
          -0.03560965058889389,
          -0.670051985912279,
          0.07570656729432018,
          2.313198206278273,
          -1.0544920289251856,
          2.3667202162690932,
          -0.48089825918607565,
          1.3570999414925278,
          -0.12194141190839826,
          -0.2739448043844072,
          0.16976051567428124,
          -0.012744648901388603,
          -1.3694079898703664,
          -0.07813405785788165,
          -0.9315136767804769,
          1.2706531495053848,
          0.18789515097268858,
          0.23219487271869113,
          1.9852021237421595,
          0.7275999037322924,
          0.3171655103111313,
          0.3579264650190659,
          -0.7574536739213844,
          -1.986752073643956,
          -1.664496026886803,
          0.374172544765972,
          -1.2831076904023389
         ]
        ]
       }
      }
     },
     "2f9549b15c5d4962a388a2009f50b88d": {
      "model_module": "bqplot",
      "model_module_version": "^0.4.8",
      "model_name": "FigureModel",
      "state": {
       "_dom_classes": [],
       "axes": [
        "IPY_MODEL_50a0669e01d844c5913ad0022c87ea76",
        "IPY_MODEL_a4a8675434af4c59861c8e4cf2ce4bc9"
       ],
       "layout": "IPY_MODEL_03b1407c843c4d5e9493ddce20a230e8",
       "marks": [
        "IPY_MODEL_e5361b3b0b484041b276f8536c7bd2f9",
        "IPY_MODEL_6b20ee1bfac646d5a196c25fd41ca008"
       ],
       "scale_x": "IPY_MODEL_6431b815ddfc42afa3448e9b1375b9e6",
       "scale_y": "IPY_MODEL_bca1947c1f2c425f8bf27624414e83ef"
      }
     },
     "30d9c9d775e14bdf8e8c245a62d9d820": {
      "model_module": "bqplot",
      "model_module_version": "^0.4.8",
      "model_name": "TooltipModel",
      "state": {
       "fields": [
        "size",
        "index",
        "color"
       ],
       "formats": [
        "0.2f",
        "",
        "0.2f"
       ],
       "layout": "IPY_MODEL_f146abb9714d41c4bf58faea28346408"
      }
     },
     "30f1c385d247466fa7157aed23c3bbe0": {
      "model_module": "@jupyter-widgets/controls",
      "model_module_version": "1.5.0",
      "model_name": "DescriptionStyleModel",
      "state": {
       "description_width": ""
      }
     },
     "31b6859b4e3b49f6bf1343c345893a21": {
      "model_module": "bqplot",
      "model_module_version": "^0.4.8",
      "model_name": "LinearScaleModel",
      "state": {
       "allow_padding": false,
       "max": 1,
       "min": 0,
       "stabilized": false
      }
     },
     "3200386bc2f141698d39174940889746": {
      "model_module": "bqplot",
      "model_module_version": "^0.4.8",
      "model_name": "AxisModel",
      "state": {
       "scale": "IPY_MODEL_0bd1e702762f46ca9297145a2bfec146",
       "side": "bottom",
       "tick_values": {
        "type": null,
        "values": null
       }
      }
     },
     "34e6478684284c24ab63fb8446047fff": {
      "model_module": "@jupyter-widgets/controls",
      "model_module_version": "1.5.0",
      "model_name": "DropdownModel",
      "state": {
       "_options_labels": [
        "First",
        "Second",
        "Third",
        "Fourth"
       ],
       "index": 0,
       "layout": "IPY_MODEL_63c112c3382b4e8f90d3630b44bbe116",
       "style": "IPY_MODEL_a7d0aae7aae14226862f686d4622cb45"
      }
     },
     "34ed5f1c9af24cc78154a6a43e1c4e27": {
      "model_module": "bqplot",
      "model_module_version": "^0.4.8",
      "model_name": "LinearScaleModel",
      "state": {
       "stabilized": false
      }
     },
     "35137400e4174fe68eecb426ac423754": {
      "model_module": "bqplot",
      "model_module_version": "^0.4.8",
      "model_name": "TooltipModel",
      "state": {
       "fields": [
        "name",
        "index"
       ],
       "formats": [
        "",
        ".2f"
       ],
       "labels": [
        "id",
        "line_num"
       ],
       "layout": "IPY_MODEL_83d2a58f4b3b4e2c991b60cae87b48fe"
      }
     },
     "35747cab3ee845afade8ccb318c414b7": {
      "model_module": "bqplot",
      "model_module_version": "^0.4.8",
      "model_name": "PieModel",
      "state": {
       "color": {
        "type": "float",
        "values": [
         1.211562688762719,
         -1.4791177031603129,
         0.6430593790034173,
         0.6297488753913517,
         -0.28156339834197874,
         0.2968764437629617,
         0.20660374252455072,
         -0.26503046018867327,
         -0.2964747500735583,
         1.8662071305769465
        ]
       },
       "display_labels": "inside",
       "display_legend": false,
       "display_values": false,
       "font_size": "12px",
       "font_weight": "normal",
       "interactions": {
        "click": "select",
        "hover": "tooltip"
       },
       "label_color": null,
       "scales": {
        "color": "IPY_MODEL_2dfba0ff10cf42a1b4aece8a0423307f"
       },
       "selected": [],
       "selected_style": {
        "opacity": "1",
        "stroke": "white",
        "stroke-width": "2"
       },
       "sizes": {
        "type": "float",
        "values": [
         1.9059808000778518,
         0.3750429622524371,
         0.30247318710524523,
         0.8663380390110507,
         1.3632683316100007,
         1.1139340361351766,
         0.8188694670126416,
         0.2648907721120165,
         1.2427565202631585,
         1.3628464204201676
        ]
       },
       "tooltip": "IPY_MODEL_30d9c9d775e14bdf8e8c245a62d9d820",
       "unselected_style": {
        "opacity": "0.2"
       },
       "values_format": ".1f"
      }
     },
     "35c5eff831224b04adbd9a26c186d77f": {
      "model_module": "@jupyter-widgets/base",
      "model_module_version": "1.2.0",
      "model_name": "LayoutModel",
      "state": {}
     },
     "36167b1a71184de49a4dd713077de8ad": {
      "model_module": "bqplot",
      "model_module_version": "^0.4.8",
      "model_name": "LinearScaleModel",
      "state": {
       "stabilized": false
      }
     },
     "37b3b855cb0c4ceb8e412f4c5db6a43b": {
      "model_module": "bqplot",
      "model_module_version": "^0.4.8",
      "model_name": "LinearScaleModel",
      "state": {
       "allow_padding": false,
       "max": 1,
       "min": 0,
       "stabilized": false
      }
     },
     "38797e204d82453b8ff42d81286d5375": {
      "model_module": "@jupyter-widgets/base",
      "model_module_version": "1.2.0",
      "model_name": "LayoutModel",
      "state": {}
     },
     "3b8c9e16d67e453c8a52cbf80702e6a7": {
      "model_module": "@jupyter-widgets/controls",
      "model_module_version": "1.5.0",
      "model_name": "ButtonStyleModel",
      "state": {}
     },
     "3ba4e88d65554538ba5998e43f9b11ff": {
      "model_module": "bqplot",
      "model_module_version": "^0.4.8",
      "model_name": "FigureModel",
      "state": {
       "_dom_classes": [],
       "axes": [
        "IPY_MODEL_7657837662b3436e941517b0ecff9d70",
        "IPY_MODEL_732482998165413d8a227995de4db0b1"
       ],
       "layout": "IPY_MODEL_35c5eff831224b04adbd9a26c186d77f",
       "marks": [
        "IPY_MODEL_a62a63a8f130401981b6880b438bb72b"
       ],
       "scale_x": "IPY_MODEL_55dd832965994facaf27722952366323",
       "scale_y": "IPY_MODEL_898dfe1ca5434b97a4749f1273ac873a"
      }
     },
     "3bcfdcf4da6b48ea88b84c7e0ce51cb4": {
      "model_module": "@jupyter-widgets/base",
      "model_module_version": "1.2.0",
      "model_name": "LayoutModel",
      "state": {}
     },
     "3c43d3a99aa246cc94169d67bcab0685": {
      "model_module": "bqplot",
      "model_module_version": "^0.4.8",
      "model_name": "LinearScaleModel",
      "state": {
       "stabilized": false
      }
     },
     "3e24987273564d9badd1c610ebb50214": {
      "model_module": "bqplot",
      "model_module_version": "^0.4.8",
      "model_name": "FigureModel",
      "state": {
       "_dom_classes": [],
       "axes": [
        "IPY_MODEL_7641a60fd2c644eb908659d406966d31",
        "IPY_MODEL_d33d47a238574e0e8c51e75f55543194"
       ],
       "layout": "IPY_MODEL_10630252819a496ba5f366a5f16cf4e4",
       "marks": [
        "IPY_MODEL_5041e37928564416a63f0424e7ef2453"
       ],
       "scale_x": "IPY_MODEL_a2049c622ba34a8f901b69020ea1b1d3",
       "scale_y": "IPY_MODEL_d2bfb51853e345ab96e546299ad92cb1"
      }
     },
     "3f523c19206049b0acc99fa9ee41a6ae": {
      "model_module": "bqplot",
      "model_module_version": "^0.4.8",
      "model_name": "LinearScaleModel",
      "state": {
       "allow_padding": false,
       "max": 1,
       "min": 0,
       "stabilized": false
      }
     },
     "3fcd3cfa166941da9fc2fa3ff08a246d": {
      "model_module": "bqplot",
      "model_module_version": "^0.4.8",
      "model_name": "TooltipModel",
      "state": {
       "fields": [
        "name",
        "index"
       ],
       "formats": [
        "",
        ".2f"
       ],
       "labels": [
        "id",
        "line_num"
       ],
       "layout": "IPY_MODEL_295a27498c60424abe6bbd9f3ecfa2ec"
      }
     },
     "3ff8dfb9c10142858f743ce82fef0426": {
      "model_module": "bqplot",
      "model_module_version": "^0.4.8",
      "model_name": "LinearScaleModel",
      "state": {
       "stabilized": false
      }
     },
     "411db4baf020454e999f9f15a8238840": {
      "model_module": "bqplot",
      "model_module_version": "^0.4.8",
      "model_name": "LinearScaleModel",
      "state": {
       "allow_padding": false,
       "max": 1,
       "min": 0,
       "stabilized": false
      }
     },
     "42608b51d38240c592865f783da726eb": {
      "model_module": "bqplot",
      "model_module_version": "^0.4.8",
      "model_name": "OrdinalScaleModel",
      "state": {
       "domain": []
      }
     },
     "43726fca84ac41f984e5f5a2d808428e": {
      "model_module": "bqplot",
      "model_module_version": "^0.4.8",
      "model_name": "OrdinalScaleModel",
      "state": {
       "domain": []
      }
     },
     "43f6c9570ccb4faaa118eb9f8a1b54e1": {
      "model_module": "@jupyter-widgets/base",
      "model_module_version": "1.2.0",
      "model_name": "LayoutModel",
      "state": {}
     },
     "45b5de5f98024ab9b8dc5c63c4d67074": {
      "model_module": "@jupyter-widgets/base",
      "model_module_version": "1.2.0",
      "model_name": "LayoutModel",
      "state": {}
     },
     "47699acb02534960b3e5826778f56bdc": {
      "model_module": "bqplot",
      "model_module_version": "^0.4.8",
      "model_name": "LinearScaleModel",
      "state": {
       "allow_padding": false,
       "max": 1,
       "min": 0,
       "stabilized": false
      }
     },
     "48ecb98470a5483bb4240b814f91b32a": {
      "model_module": "bqplot",
      "model_module_version": "^0.4.8",
      "model_name": "LinearScaleModel",
      "state": {
       "stabilized": false
      }
     },
     "4a7e9296f55b4b14b79056c95eeba9db": {
      "model_module": "bqplot",
      "model_module_version": "^0.4.8",
      "model_name": "LinesModel",
      "state": {
       "color": {
        "type": null,
        "values": null
       },
       "display_legend": false,
       "fill_colors": [],
       "labels": [
        "C1"
       ],
       "scales": {
        "x": "IPY_MODEL_1e75ab286366416ea5702626031fc2b3",
        "y": "IPY_MODEL_631808180a7342079e312bcb18aeadf7"
       },
       "selected": [],
       "x": {
        "type": "float",
        "values": [
         0,
         1,
         2,
         3,
         4,
         5,
         6,
         7,
         8,
         9
        ]
       },
       "y": {
        "type": "float",
        "values": [
         1.7076103129367173,
         -0.32695307781710764,
         2.02315026967631,
         -0.6146448275095217,
         -0.22258260016547035,
         -1.2347627135468178,
         0.9294444246855382,
         0.6359032724269489,
         -0.31397879558749586,
         0.3858481156332432
        ]
       }
      }
     },
     "4aee4e33cd2d46489df466773de1ba9b": {
      "model_module": "bqplot",
      "model_module_version": "^0.4.8",
      "model_name": "AxisModel",
      "state": {
       "orientation": "vertical",
       "scale": "IPY_MODEL_9a3d537cee594ec187dc571e2aa73633",
       "side": "left",
       "tick_format": "0.2f",
       "tick_values": {
        "type": null,
        "values": null
       }
      }
     },
     "4b9f4c1b386a41d48569f0201b0ef1aa": {
      "model_module": "bqplot",
      "model_module_version": "^0.4.8",
      "model_name": "HistModel",
      "state": {
       "count": {
        "type": "float",
        "values": [
         7,
         6,
         14,
         20,
         21,
         19,
         8,
         3,
         1,
         1
        ]
       },
       "interactions": {
        "legend_click": "tooltip"
       },
       "labels": [
        "Test Hist"
       ],
       "midpoints": [
        -1.871336772216253,
        -1.33745761020108,
        -0.8035784481859073,
        -0.26969928617073446,
        0.26417987584443825,
        0.7980590378596111,
        1.3319381998747841,
        1.865817361889957,
        2.3996965239051296,
        2.933575685920302
       ],
       "sample": {
        "type": "float",
        "values": [
         1.1282169796214752,
         -0.24857104545633682,
         -2.1382763532238394,
         -0.0860417088270683,
         -0.5748921833868842,
         -1.3430780256000368,
         1.5462963680886983,
         0.9438265566448066,
         1.8090003610050673,
         0.6755456821970759,
         0.13059259595646192,
         0.1262531085252444,
         0.9282136954355051,
         -0.012178887587023787,
         -0.23366507017354865,
         -0.07894079501138324,
         0.9231632701934286,
         -1.799709118735071,
         -0.7938300992645567,
         1.0560756465679395,
         1.9699038908163229,
         1.3518272173438202,
         -0.07922450670756562,
         0.27082459725651964,
         -0.6618066685774965,
         2.469812162644898,
         -0.38775226493660153,
         0.5283276616279299,
         0.04951355967291443,
         0.3927460776262355,
         0.6467181963026701,
         1.0874540101131525,
         -0.25824797442721625,
         0.5273965229824512,
         -0.7466624260901867,
         -0.24439504327965753,
         -0.43608749018574916,
         -0.3188614606711112,
         -1.499865033126954,
         0.3831874097666281,
         -0.7574116442166032,
         0.5913868597752069,
         -0.4581078934832957,
         0.023176827126795658,
         -0.12630238694328444,
         0.5779182703072102,
         0.9967199558525727,
         0.26806081051004954,
         0.2762797211654982,
         1.0225669926658678,
         -0.6835199611541185,
         0.7151633608503559,
         1.33712280374854,
         1.036432903141398,
         0.301568636177399,
         -1.983717182892753,
         -1.1733502119439088,
         0.3774884158052773,
         -1.6288706753373272,
         -0.8877340617131579,
         -0.8050158836254111,
         0.4470271794822946,
         -1.3478046562465762,
         -0.2488346156682825,
         -0.5004298916276018,
         0.037545959306991096,
         -1.0883845834771786,
         0.5829451143151538,
         -0.5382738257177827,
         1.9056868170340489,
         1.0889301706955576,
         -0.30873215684670274,
         -1.273680025998607,
         0.14740480892733684,
         -1.703387414688336,
         1.0401042265769047,
         -0.9871433812027692,
         -0.2636450343716196,
         -1.6405045806079854,
         1.1228496962537056,
         -0.9298706497520782,
         3.2005152669278885,
         -0.4461922812588439,
         0.16479387309289756,
         -0.718972233094167,
         0.9705221284717876,
         1.1623282832540434,
         -0.7043691518650101,
         0.6558071803166673,
         -0.41926257376395387,
         0.3100790470706575,
         -0.5644801844098014,
         0.9495735282123533,
         0.8707029305767972,
         0.9460777150150871,
         0.46094271320002794,
         0.10167474351901383,
         0.16190042268095461,
         -0.364215785621245,
         -1.888597390009121
        ]
       },
       "scales": {
        "count": "IPY_MODEL_a8412a92ba3046c4ab529a69031845a8",
        "sample": "IPY_MODEL_cc3ab8aa044845949a2c220def890d57"
       },
       "selected": [],
       "tooltip": "IPY_MODEL_191d0e5408f5458ea424b18164bfbbab"
      }
     },
     "4be007e66a1a4329a946d8e59af9a928": {
      "model_module": "bqplot",
      "model_module_version": "^0.4.8",
      "model_name": "TooltipModel",
      "state": {
       "fields": [
        "x",
        "y"
       ],
       "formats": [
        "",
        ".2f"
       ],
       "layout": "IPY_MODEL_174a77d1c32b441f8625a42206123591"
      }
     },
     "4c29029a1d4a46a4ae99924324cde9d8": {
      "model_module": "bqplot",
      "model_module_version": "^0.4.8",
      "model_name": "LinearScaleModel",
      "state": {
       "stabilized": false
      }
     },
     "4f18446911de4e1db95cabe25c45bb72": {
      "model_module": "@jupyter-widgets/base",
      "model_module_version": "1.2.0",
      "model_name": "LayoutModel",
      "state": {
       "min_width": "125px"
      }
     },
     "5041e37928564416a63f0424e7ef2453": {
      "model_module": "bqplot",
      "model_module_version": "^0.4.8",
      "model_name": "LinesModel",
      "state": {
       "color": {
        "type": null,
        "values": null
       },
       "display_legend": false,
       "fill_colors": [],
       "labels": [
        "C1"
       ],
       "scales": {
        "x": "IPY_MODEL_48ecb98470a5483bb4240b814f91b32a",
        "y": "IPY_MODEL_74d6dec8ec3348d38d8497c07af68731"
       },
       "selected": [],
       "x": {
        "type": "float",
        "values": [
         0,
         1,
         2,
         3,
         4,
         5,
         6,
         7,
         8,
         9
        ]
       },
       "y": {
        "type": "float",
        "values": [
         -0.4212140050527112,
         1.3796575954663342,
         -0.13849273912116575,
         -0.2796213259440306,
         -0.6432750754657055,
         -0.31125115271946596,
         -0.01911711023685018,
         -0.2730016243843548,
         -0.43748498944064407,
         0.022701848926567236
        ]
       }
      }
     },
     "50a0669e01d844c5913ad0022c87ea76": {
      "model_module": "bqplot",
      "model_module_version": "^0.4.8",
      "model_name": "AxisModel",
      "state": {
       "scale": "IPY_MODEL_bb264edd45b544ec8534f9f3c83a6e93",
       "side": "bottom",
       "tick_values": {
        "type": null,
        "values": null
       }
      }
     },
     "5127b4f8287b414eb3dff524b1c48a30": {
      "model_module": "bqplot",
      "model_module_version": "^0.4.8",
      "model_name": "AxisModel",
      "state": {
       "orientation": "vertical",
       "scale": "IPY_MODEL_36167b1a71184de49a4dd713077de8ad",
       "side": "left",
       "tick_format": "0.2f",
       "tick_values": {
        "type": null,
        "values": null
       }
      }
     },
     "51c4328466ea49c993007bc66abeb692": {
      "model_module": "@jupyter-widgets/base",
      "model_module_version": "1.2.0",
      "model_name": "LayoutModel",
      "state": {}
     },
     "52d268a6e2104409ad0f57ec4fa015be": {
      "model_module": "bqplot",
      "model_module_version": "^0.4.8",
      "model_name": "ScatterModel",
      "state": {
       "color": {
        "type": null,
        "values": null
       },
       "colors": [
        "dodgerblue"
       ],
       "display_names": false,
       "interactions": {
        "click": "tooltip"
       },
       "labels": [
        "Blue"
       ],
       "names": {
        "type": "float",
        "values": [
         100,
         101,
         102,
         103,
         104,
         105,
         106,
         107,
         108,
         109,
         110,
         111,
         112,
         113,
         114,
         115,
         116,
         117,
         118,
         119,
         120,
         121,
         122,
         123,
         124,
         125,
         126,
         127,
         128,
         129,
         130,
         131,
         132,
         133,
         134,
         135,
         136,
         137,
         138,
         139,
         140,
         141,
         142,
         143,
         144,
         145,
         146,
         147,
         148,
         149,
         150,
         151,
         152,
         153,
         154,
         155,
         156,
         157,
         158,
         159,
         160,
         161,
         162,
         163,
         164,
         165,
         166,
         167,
         168,
         169,
         170,
         171,
         172,
         173,
         174,
         175,
         176,
         177,
         178,
         179,
         180,
         181,
         182,
         183,
         184,
         185,
         186,
         187,
         188,
         189,
         190,
         191,
         192,
         193,
         194,
         195,
         196,
         197,
         198,
         199
        ]
       },
       "names_unique": false,
       "opacity": {
        "type": null,
        "values": null
       },
       "rotation": {
        "type": null,
        "values": null
       },
       "scales": {
        "x": "IPY_MODEL_ea9f8d7bf0264db4a4584b77a488aa31",
        "y": "IPY_MODEL_8180ad59d7554a97a44d36e8e2850421"
       },
       "scales_metadata": {
        "color": {
         "dimension": "color"
        },
        "opacity": {
         "dimension": "opacity"
        },
        "rotation": {
         "dimension": "rotation"
        },
        "size": {
         "dimension": "size"
        },
        "skew": {
         "dimension": "skew"
        },
        "x": {
         "dimension": "x",
         "orientation": "horizontal"
        },
        "y": {
         "dimension": "y",
         "orientation": "vertical"
        }
       },
       "selected": [],
       "size": {
        "type": null,
        "values": null
       },
       "skew": {
        "type": null,
        "values": null
       },
       "tooltip": "IPY_MODEL_93a9ba5e838342ed92c175c0e2e1ea77",
       "x": {
        "type": "float",
        "values": [
         0,
         1,
         2,
         3,
         4,
         5,
         6,
         7,
         8,
         9,
         10,
         11,
         12,
         13,
         14,
         15,
         16,
         17,
         18,
         19
        ]
       },
       "y": {
        "type": "float",
        "values": [
         -0.19864842719839063,
         0.6156058063618466,
         -0.5839638544156593,
         -0.08233128968434117,
         -0.2995544946571314,
         -0.34398699063223026,
         0.06819752566969634,
         -1.21849221204435,
         0.10511440607120631,
         2.151054621711635,
         -0.2518036795218688,
         0.07670863658138434,
         -0.19805315934366063,
         -0.8963861763932981,
         -0.08959431521595251,
         -0.29639427327690554,
         -0.6027843543755587,
         -1.1326726224143204,
         -0.9072284681338981,
         -0.4654420686613403
        ]
       }
      }
     },
     "53b61bb1cb0a4f51ab6ed9f5d21254b3": {
      "model_module": "bqplot",
      "model_module_version": "^0.4.8",
      "model_name": "TooltipModel",
      "state": {
       "fields": [
        "count",
        "midpoint"
       ],
       "formats": [
        "",
        ".2f"
       ],
       "layout": "IPY_MODEL_cdde5019bb7c4a92837339e3273b99e4"
      }
     },
     "549e60d2a6b5461ca9f5c61b18333f71": {
      "model_module": "bqplot",
      "model_module_version": "^0.4.8",
      "model_name": "BarsModel",
      "state": {
       "color": {
        "type": null,
        "values": null
       },
       "colors": [
        "steelblue"
       ],
       "interactions": {
        "click": "tooltip"
       },
       "labels": [
        "Level 1",
        "Level 2"
       ],
       "scales": {
        "x": "IPY_MODEL_8e0167c744234c488d5b3eda24e0acfa",
        "y": "IPY_MODEL_36167b1a71184de49a4dd713077de8ad"
       },
       "selected": [],
       "selected_style": {
        "fill": "red",
        "stroke": "orange"
       },
       "tooltip": "IPY_MODEL_4be007e66a1a4329a946d8e59af9a928",
       "type": "grouped",
       "x": {
        "type": "float",
        "values": [
         0,
         1,
         2,
         3,
         4,
         5,
         6,
         7,
         8,
         9
        ]
       },
       "y": {
        "type": "float",
        "values": [
         [
          0.5446792165746994,
          0.5613247668071818,
          0.8827497819333129,
          1.2873578668193637,
          0.8157560259932736,
          -0.3862669136958814,
          0.39513052629977113,
          0.383363211073755,
          0.9617141289680572,
          0.7742024410075956
         ],
         [
          -1.121432720985471,
          0.41456346910318137,
          -0.3988633291613856,
          -0.7869062473425215,
          0.5540311026201237,
          1.0453703368735903,
          0.7030782402524559,
          -1.298850896074599,
          0.3362506493460718,
          -1.0734534231959618
         ]
        ]
       }
      }
     },
     "54a21144ae8842e78771109b245d1603": {
      "model_module": "bqplot",
      "model_module_version": "^0.4.8",
      "model_name": "AxisModel",
      "state": {
       "scale": "IPY_MODEL_ea9f8d7bf0264db4a4584b77a488aa31",
       "side": "bottom",
       "tick_values": {
        "type": null,
        "values": null
       }
      }
     },
     "55dd832965994facaf27722952366323": {
      "model_module": "bqplot",
      "model_module_version": "^0.4.8",
      "model_name": "LinearScaleModel",
      "state": {
       "allow_padding": false,
       "max": 1,
       "min": 0,
       "stabilized": false
      }
     },
     "562584fdfeb645d3b216c805e400d7aa": {
      "model_module": "bqplot",
      "model_module_version": "^0.4.8",
      "model_name": "FigureModel",
      "state": {
       "_dom_classes": [],
       "axes": [
        "IPY_MODEL_e2d784b7203349ee8d0204ff9399364d",
        "IPY_MODEL_db9033bdbd5847bdb32254a22a620dc0"
       ],
       "layout": "IPY_MODEL_9d0a2dc1d2264e999747fd3d043f184c",
       "marks": [
        "IPY_MODEL_9bf667c491b14356892433e11b74ec25"
       ],
       "scale_x": "IPY_MODEL_7e14337f3f434dab958f410ad32b6db8",
       "scale_y": "IPY_MODEL_ede885ea33e44cd5a3091bb078238323"
      }
     },
     "566ef715c1664016abed4f8dc0680a64": {
      "model_module": "bqplot",
      "model_module_version": "^0.4.8",
      "model_name": "LinesModel",
      "state": {
       "color": {
        "type": null,
        "values": null
       },
       "display_legend": false,
       "fill_colors": [],
       "labels": [
        "C1"
       ],
       "scales": {
        "x": "IPY_MODEL_a265f2210f584db9917b22373cadccd1",
        "y": "IPY_MODEL_7b2047c1c017480c8a755ffb96506010"
       },
       "selected": [],
       "x": {
        "type": "float",
        "values": [
         0,
         1,
         2,
         3,
         4,
         5,
         6,
         7,
         8,
         9
        ]
       },
       "y": {
        "type": "float",
        "values": [
         -0.13288950744461492,
         1.8486128605015746,
         0.9263517398215874,
         0.7640695719301843,
         -0.2912365603614252,
         -0.13618739721060588,
         0.14134920195712355,
         1.0981816342932325,
         0.11048033152079455,
         -0.06873895188366229
        ]
       }
      }
     },
     "589d553b753f47509730343ebd3c5708": {
      "model_module": "bqplot",
      "model_module_version": "^0.4.8",
      "model_name": "LinearScaleModel",
      "state": {
       "stabilized": false
      }
     },
     "5a90b41905274b30bf12318dc4f2ab56": {
      "model_module": "bqplot",
      "model_module_version": "^0.4.8",
      "model_name": "LinearScaleModel",
      "state": {
       "allow_padding": false,
       "max": 1,
       "min": 0,
       "stabilized": false
      }
     },
     "5aa4dd7765864f83b7619b883d85a957": {
      "model_module": "bqplot",
      "model_module_version": "^0.4.8",
      "model_name": "AxisModel",
      "state": {
       "scale": "IPY_MODEL_c090dafc93c643d2be53f9b12c0bf8cd",
       "side": "bottom",
       "tick_values": {
        "type": null,
        "values": null
       }
      }
     },
     "5b90ac2e91324d1c929b6e3856187730": {
      "model_module": "bqplot",
      "model_module_version": "^0.4.8",
      "model_name": "LinearScaleModel",
      "state": {
       "allow_padding": false,
       "max": 1,
       "min": 0,
       "stabilized": false
      }
     },
     "5c2cd25304a54ad59cc4090f6aed5ae0": {
      "model_module": "bqplot",
      "model_module_version": "^0.4.8",
      "model_name": "AxisModel",
      "state": {
       "orientation": "vertical",
       "scale": "IPY_MODEL_064ebf85b44a40bfb11cad00bae035bf",
       "side": "left",
       "tick_format": "0.2f",
       "tick_values": {
        "type": null,
        "values": null
       }
      }
     },
     "5cdea543d3854dca8c87f9e546f159cb": {
      "model_module": "bqplot",
      "model_module_version": "^0.4.8",
      "model_name": "LinearScaleModel",
      "state": {
       "allow_padding": false,
       "max": 1,
       "min": 0,
       "stabilized": false
      }
     },
     "5d846709577848a4b647d998b29b7e3e": {
      "model_module": "bqplot",
      "model_module_version": "^0.4.8",
      "model_name": "AxisModel",
      "state": {
       "orientation": "vertical",
       "scale": "IPY_MODEL_df6591962b1c4ccca89b6b5463b29d2d",
       "side": "left",
       "tick_format": "0.2f",
       "tick_values": {
        "type": null,
        "values": null
       }
      }
     },
     "5eb76cfc19cb46898b69854e4a0e0e60": {
      "model_module": "bqplot",
      "model_module_version": "^0.4.8",
      "model_name": "AxisModel",
      "state": {
       "orientation": "vertical",
       "scale": "IPY_MODEL_7b2047c1c017480c8a755ffb96506010",
       "side": "left",
       "tick_format": "0.2f",
       "tick_values": {
        "type": null,
        "values": null
       }
      }
     },
     "612b810a950f46fb93bee91f66b67ffe": {
      "model_module": "bqplot",
      "model_module_version": "^0.4.8",
      "model_name": "LinearScaleModel",
      "state": {
       "allow_padding": false,
       "max": 1,
       "min": 0,
       "stabilized": false
      }
     },
     "620357de01b1417bbf973511b0bb25dc": {
      "model_module": "bqplot",
      "model_module_version": "^0.4.8",
      "model_name": "LinearScaleModel",
      "state": {
       "allow_padding": false,
       "max": 1,
       "min": 0,
       "stabilized": false
      }
     },
     "620f939c1a6e4364a6ccf6dd72bb4d17": {
      "model_module": "bqplot",
      "model_module_version": "^0.4.8",
      "model_name": "AxisModel",
      "state": {
       "scale": "IPY_MODEL_272dd4bbff264aa7a1d825d10303b489",
       "side": "bottom",
       "tick_values": {
        "type": null,
        "values": null
       }
      }
     },
     "631808180a7342079e312bcb18aeadf7": {
      "model_module": "bqplot",
      "model_module_version": "^0.4.8",
      "model_name": "LinearScaleModel",
      "state": {
       "stabilized": false
      }
     },
     "639dc32f98ea49f4852614e0a55e4917": {
      "model_module": "bqplot",
      "model_module_version": "^0.4.8",
      "model_name": "LinearScaleModel",
      "state": {
       "allow_padding": false,
       "max": 1,
       "min": 0,
       "stabilized": false
      }
     },
     "63c112c3382b4e8f90d3630b44bbe116": {
      "model_module": "@jupyter-widgets/base",
      "model_module_version": "1.2.0",
      "model_name": "LayoutModel",
      "state": {}
     },
     "63c56ae1f4214a1ca54eadbb348d07f4": {
      "model_module": "bqplot",
      "model_module_version": "^0.4.8",
      "model_name": "LinearScaleModel",
      "state": {
       "stabilized": false
      }
     },
     "6431b815ddfc42afa3448e9b1375b9e6": {
      "model_module": "bqplot",
      "model_module_version": "^0.4.8",
      "model_name": "LinearScaleModel",
      "state": {
       "allow_padding": false,
       "max": 1,
       "min": 0,
       "stabilized": false
      }
     },
     "64d580fb6a784a74bc0092c1b031e4ab": {
      "model_module": "@jupyter-widgets/controls",
      "model_module_version": "1.5.0",
      "model_name": "ButtonModel",
      "state": {
       "icon": "legal",
       "layout": "IPY_MODEL_bb0a75c0885e4537a1993fb40a0247d6",
       "style": "IPY_MODEL_3b8c9e16d67e453c8a52cbf80702e6a7"
      }
     },
     "64d97bd82ecc43628481c4439c5a2228": {
      "model_module": "@jupyter-widgets/base",
      "model_module_version": "1.2.0",
      "model_name": "LayoutModel",
      "state": {}
     },
     "6590a2295ddc48a69a027d6509a4784f": {
      "model_module": "bqplot",
      "model_module_version": "^0.4.8",
      "model_name": "LinearScaleModel",
      "state": {
       "stabilized": false
      }
     },
     "682d669fda4049b6888345974e756b07": {
      "model_module": "bqplot",
      "model_module_version": "^0.4.8",
      "model_name": "AxisModel",
      "state": {
       "scale": "IPY_MODEL_63c56ae1f4214a1ca54eadbb348d07f4",
       "side": "bottom",
       "tick_values": {
        "type": null,
        "values": null
       }
      }
     },
     "689b1d85e27a4afd911892ec001f6c76": {
      "model_module": "bqplot",
      "model_module_version": "^0.4.8",
      "model_name": "TooltipModel",
      "state": {
       "fields": [
        "count",
        "midpoint"
       ],
       "formats": [
        "",
        ".2f"
       ],
       "layout": "IPY_MODEL_165efea8fb064c21ae5f0d116bc09c0f"
      }
     },
     "68f3b5fa608b42ba9a9f7607b490a477": {
      "model_module": "bqplot",
      "model_module_version": "^0.4.8",
      "model_name": "LinearScaleModel",
      "state": {
       "stabilized": false
      }
     },
     "69bc69ac338d4fff8e1c4ffb18212b2b": {
      "model_module": "bqplot",
      "model_module_version": "^0.4.8",
      "model_name": "LinearScaleModel",
      "state": {
       "allow_padding": false,
       "max": 1,
       "min": 0,
       "stabilized": false
      }
     },
     "6a2826e8660046d3a0758e822a187e73": {
      "model_module": "@jupyter-widgets/base",
      "model_module_version": "1.2.0",
      "model_name": "LayoutModel",
      "state": {
       "min_width": "125px"
      }
     },
     "6a41c5d6806249b380ebf38579b7b24c": {
      "model_module": "bqplot",
      "model_module_version": "^0.4.8",
      "model_name": "LinearScaleModel",
      "state": {
       "stabilized": false
      }
     },
     "6b20ee1bfac646d5a196c25fd41ca008": {
      "model_module": "bqplot",
      "model_module_version": "^0.4.8",
      "model_name": "ScatterModel",
      "state": {
       "color": {
        "type": null,
        "values": null
       },
       "colors": [
        "orangered"
       ],
       "display_names": false,
       "labels": [
        "Red"
       ],
       "names": {
        "type": "float",
        "values": [
         100,
         101,
         102,
         103,
         104,
         105,
         106,
         107,
         108,
         109,
         110,
         111,
         112,
         113,
         114,
         115,
         116,
         117,
         118,
         119,
         120,
         121,
         122,
         123,
         124,
         125,
         126,
         127,
         128,
         129,
         130,
         131,
         132,
         133,
         134,
         135,
         136,
         137,
         138,
         139,
         140,
         141,
         142,
         143,
         144,
         145,
         146,
         147,
         148,
         149,
         150,
         151,
         152,
         153,
         154,
         155,
         156,
         157,
         158,
         159,
         160,
         161,
         162,
         163,
         164,
         165,
         166,
         167,
         168,
         169,
         170,
         171,
         172,
         173,
         174,
         175,
         176,
         177,
         178,
         179,
         180,
         181,
         182,
         183,
         184,
         185,
         186,
         187,
         188,
         189,
         190,
         191,
         192,
         193,
         194,
         195,
         196,
         197,
         198,
         199
        ]
       },
       "names_unique": false,
       "opacity": {
        "type": null,
        "values": null
       },
       "rotation": {
        "type": null,
        "values": null
       },
       "scales": {
        "x": "IPY_MODEL_bb264edd45b544ec8534f9f3c83a6e93",
        "y": "IPY_MODEL_cececd9a76684538b41716493146a7b7"
       },
       "scales_metadata": {
        "color": {
         "dimension": "color"
        },
        "opacity": {
         "dimension": "opacity"
        },
        "rotation": {
         "dimension": "rotation"
        },
        "size": {
         "dimension": "size"
        },
        "skew": {
         "dimension": "skew"
        },
        "x": {
         "dimension": "x",
         "orientation": "horizontal"
        },
        "y": {
         "dimension": "y",
         "orientation": "vertical"
        }
       },
       "selected": [],
       "size": {
        "type": null,
        "values": null
       },
       "skew": {
        "type": null,
        "values": null
       },
       "tooltip": "IPY_MODEL_c529a32ae3bc40f58e2171956ba4d863",
       "x": {
        "type": "float",
        "values": [
         0,
         1,
         2,
         3,
         4,
         5,
         6,
         7,
         8,
         9,
         10,
         11,
         12,
         13,
         14,
         15,
         16,
         17,
         18,
         19
        ]
       },
       "y": {
        "type": "float",
        "values": [
         -0.2697878853863554,
         0.25959765475230834,
         -0.4378288294078322,
         0.6498838638571257,
         0.5552705360437518,
         -1.0081662164357656,
         1.412210471624181,
         -0.6392040715457139,
         -0.18280893257858014,
         0.28346838815477826,
         0.8872849528213197,
         -0.6164609644263943,
         -0.35795307011816657,
         -0.5059626289870023,
         0.40367938037826984,
         -0.4925523915471816,
         -1.298050597824481,
         -0.056557485041950746,
         0.44626953814012565,
         0.36731520177102395
        ]
       }
      }
     },
     "6d439ffa5bba43b6b01dbb1b13f3ec94": {
      "model_module": "bqplot",
      "model_module_version": "^0.4.8",
      "model_name": "LinearScaleModel",
      "state": {
       "stabilized": false
      }
     },
     "6e51fa377ac1453989b4f561d4af0d8c": {
      "model_module": "bqplot",
      "model_module_version": "^0.4.8",
      "model_name": "LinearScaleModel",
      "state": {
       "stabilized": false
      }
     },
     "6fe5ddbb61fd4072bfcc49467eb287b6": {
      "model_module": "@jupyter-widgets/controls",
      "model_module_version": "1.5.0",
      "model_name": "DescriptionStyleModel",
      "state": {
       "description_width": ""
      }
     },
     "708cc1826c234bc5a5512a7796ebe6c3": {
      "model_module": "@jupyter-widgets/controls",
      "model_module_version": "1.5.0",
      "model_name": "DescriptionStyleModel",
      "state": {
       "description_width": ""
      }
     },
     "724b71d62d9d4ad3bbf8851267c01e98": {
      "model_module": "bqplot",
      "model_module_version": "^0.4.8",
      "model_name": "FigureModel",
      "state": {
       "_dom_classes": [],
       "axes": [
        "IPY_MODEL_620f939c1a6e4364a6ccf6dd72bb4d17",
        "IPY_MODEL_d7c0adf8b7e74c18b8e06d3dcd03d051"
       ],
       "layout": "IPY_MODEL_64d97bd82ecc43628481c4439c5a2228",
       "marks": [
        "IPY_MODEL_b90b31eabba64dd0897428ce489cca60"
       ],
       "scale_x": "IPY_MODEL_47699acb02534960b3e5826778f56bdc",
       "scale_y": "IPY_MODEL_0ca4b634cc4e49f89add70390712c874"
      }
     },
     "732482998165413d8a227995de4db0b1": {
      "model_module": "bqplot",
      "model_module_version": "^0.4.8",
      "model_name": "AxisModel",
      "state": {
       "orientation": "vertical",
       "scale": "IPY_MODEL_6d439ffa5bba43b6b01dbb1b13f3ec94",
       "side": "left",
       "tick_format": "0.2f",
       "tick_values": {
        "type": null,
        "values": null
       }
      }
     },
     "74d6dec8ec3348d38d8497c07af68731": {
      "model_module": "bqplot",
      "model_module_version": "^0.4.8",
      "model_name": "LinearScaleModel",
      "state": {
       "stabilized": false
      }
     },
     "75aaa71652f74ffebcf356b7860df4dd": {
      "model_module": "bqplot",
      "model_module_version": "^0.4.8",
      "model_name": "HistModel",
      "state": {
       "count": {
        "type": "float",
        "values": [
         8,
         11,
         12,
         17,
         18,
         18,
         7,
         5,
         3,
         1
        ]
       },
       "interactions": {
        "legend_click": "tooltip"
       },
       "labels": [
        "Test Hist"
       ],
       "midpoints": [
        -1.7600906461260393,
        -1.2646331976965923,
        -0.7691757492671458,
        -0.2737183008376992,
        0.2217391475917475,
        0.7171965960211941,
        1.2126540444506408,
        1.7081114928800876,
        2.203568941309534,
        2.699026389738981
       ],
       "sample": {
        "type": "float",
        "values": [
         -1.2492160640598486,
         0.8172926662076244,
         1.3033226730300456,
         0.10568780390825724,
         -0.43661083085764163,
         -1.7363516838503463,
         -0.5734958721600498,
         -1.1980728048131697,
         2.1671989251787704,
         0.48242500488382345,
         -0.6477908459869166,
         -0.1242902101739597,
         0.828122482165926,
         -0.17251270826646575,
         0.859416440006906,
         -0.39440183538081414,
         -0.06873695893758712,
         0.44245982496359126,
         -0.3596637836876848,
         -0.36851938998016404,
         0.25395625035517905,
         0.2153479410448349,
         -1.7869306352873524,
         -0.051892484578196174,
         2.9467551139537043,
         0.2938674257620064,
         1.0314566640827292,
         -1.0390470670385794,
         -1.8878854956463096,
         -1.0068876249565095,
         1.1055769535884303,
         -1.4573464595141203,
         -0.552547408730612,
         -0.5457115738342567,
         0.04088420214799542,
         -0.2684502217077526,
         1.473107613001289,
         -0.41652589050172395,
         0.6936940901238718,
         -0.1550097017102799,
         -0.8123365916679879,
         -1.0115749822423836,
         -2.0078193703407625,
         -0.489501354505632,
         2.169019157276346,
         -0.4425897247227634,
         0.13957197148006725,
         0.07266499167273423,
         0.2877017923900888,
         1.0483018194879008,
         0.11653572867692619,
         0.5508146481924129,
         -0.13797716730403292,
         -0.10383656644465802,
         0.2829502668972707,
         -0.5585723398455957,
         1.0799968069167305,
         0.3705725189400135,
         0.7821240068374764,
         0.45337113146941516,
         0.9271435563635079,
         -1.74292382227431,
         0.01213172414772508,
         0.12178622625809563,
         -0.8239369171569786,
         -1.0353771272103496,
         0.47303767285501575,
         -0.21550133677648617,
         -1.7627023765539678,
         1.9515409953046314,
         0.4821757056627696,
         0.4116455043506866,
         -1.3867067770397763,
         -1.1566329578235373,
         -0.8889648684712186,
         -0.3791966636837062,
         1.0674947863009343,
         1.49753072460355,
         2.060777901007511,
         -1.2495708589272634,
         0.5905228567982277,
         -1.2027866927142132,
         1.9434547779072884,
         0.07047920967978812,
         -1.9097458847644329,
         -1.3008013140469832,
         -1.4974428575578538,
         0.9329052120599078,
         0.9535799125761735,
         0.9421660646579352,
         -0.858789285336866,
         0.7312076196820032,
         0.7643288751290374,
         1.7029429116776316,
         -1.6852166704012292,
         1.277282170326307,
         -0.9307131952518991,
         0.09486200134613171,
         0.6786110586252945,
         0.7108787311095273
        ]
       },
       "scales": {
        "count": "IPY_MODEL_3c43d3a99aa246cc94169d67bcab0685",
        "sample": "IPY_MODEL_db88dad7f00d4fa6bdb09bbbcaae8dd2"
       },
       "selected": [],
       "tooltip": "IPY_MODEL_7808e587c12e4de8b270bad7cfb5343e"
      }
     },
     "7609378139aa448cbfc597be0a7ad74b": {
      "model_module": "bqplot",
      "model_module_version": "^0.4.8",
      "model_name": "LinearScaleModel",
      "state": {
       "allow_padding": false,
       "max": 1,
       "min": 0,
       "stabilized": false
      }
     },
     "7612c960950c4784a5b484e691b1a714": {
      "model_module": "bqplot",
      "model_module_version": "^0.4.8",
      "model_name": "FigureModel",
      "state": {
       "_dom_classes": [],
       "axes": [
        "IPY_MODEL_2c89c442e2cd486ab0a581d115d25b5d",
        "IPY_MODEL_5c2cd25304a54ad59cc4090f6aed5ae0"
       ],
       "layout": "IPY_MODEL_a2ff1b4f5f2945619af62eca94e3a7cf",
       "marks": [
        "IPY_MODEL_aea2c19be0904a72a12579a8163ec98a"
       ],
       "scale_x": "IPY_MODEL_9746b44b77344be1a9d6399ac72f6e13",
       "scale_y": "IPY_MODEL_31b6859b4e3b49f6bf1343c345893a21"
      }
     },
     "7641a60fd2c644eb908659d406966d31": {
      "model_module": "bqplot",
      "model_module_version": "^0.4.8",
      "model_name": "AxisModel",
      "state": {
       "scale": "IPY_MODEL_48ecb98470a5483bb4240b814f91b32a",
       "side": "bottom",
       "tick_values": {
        "type": null,
        "values": null
       }
      }
     },
     "7657837662b3436e941517b0ecff9d70": {
      "model_module": "bqplot",
      "model_module_version": "^0.4.8",
      "model_name": "AxisModel",
      "state": {
       "scale": "IPY_MODEL_6e51fa377ac1453989b4f561d4af0d8c",
       "side": "bottom",
       "tick_values": {
        "type": null,
        "values": null
       }
      }
     },
     "76cb86d1df7f40019bc34a7691717e3f": {
      "model_module": "@jupyter-widgets/base",
      "model_module_version": "1.2.0",
      "model_name": "LayoutModel",
      "state": {}
     },
     "77946c179b714c04ad67a3738e8d9bdc": {
      "model_module": "bqplot",
      "model_module_version": "^0.4.8",
      "model_name": "FigureModel",
      "state": {
       "_dom_classes": [],
       "axes": [
        "IPY_MODEL_682d669fda4049b6888345974e756b07",
        "IPY_MODEL_f828550cf7304631812e469d6c1569d4"
       ],
       "layout": "IPY_MODEL_3bcfdcf4da6b48ea88b84c7e0ce51cb4",
       "marks": [
        "IPY_MODEL_86af3a264faa451d9967dabf8bdf1734",
        "IPY_MODEL_b9f37aa2bf774869a2775e9c68616df0"
       ],
       "scale_x": "IPY_MODEL_ef5e1c3635d04a74a86057d50102215f",
       "scale_y": "IPY_MODEL_08e2437e42ec460f85a5def428c97119"
      }
     },
     "7808e587c12e4de8b270bad7cfb5343e": {
      "model_module": "bqplot",
      "model_module_version": "^0.4.8",
      "model_name": "TooltipModel",
      "state": {
       "fields": [
        "count",
        "midpoint"
       ],
       "formats": [
        "",
        ".2f"
       ],
       "layout": "IPY_MODEL_38797e204d82453b8ff42d81286d5375"
      }
     },
     "7887cb20ef8549b8bac308a8494f1ddb": {
      "model_module": "bqplot",
      "model_module_version": "^0.4.8",
      "model_name": "LinearScaleModel",
      "state": {
       "allow_padding": false,
       "max": 1,
       "min": 0,
       "stabilized": false
      }
     },
     "7ad16cd49d754f209be9b747dcf55922": {
      "model_module": "@jupyter-widgets/base",
      "model_module_version": "1.2.0",
      "model_name": "LayoutModel",
      "state": {}
     },
     "7b2047c1c017480c8a755ffb96506010": {
      "model_module": "bqplot",
      "model_module_version": "^0.4.8",
      "model_name": "LinearScaleModel",
      "state": {
       "stabilized": false
      }
     },
     "7b9a10a13aea4e3c81ffcb935a350991": {
      "model_module": "bqplot",
      "model_module_version": "^0.4.8",
      "model_name": "ScatterModel",
      "state": {
       "color": {
        "type": null,
        "values": null
       },
       "colors": [
        "orangered"
       ],
       "display_names": false,
       "labels": [
        "Red"
       ],
       "names": {
        "type": "float",
        "values": [
         100,
         101,
         102,
         103,
         104,
         105,
         106,
         107,
         108,
         109,
         110,
         111,
         112,
         113,
         114,
         115,
         116,
         117,
         118,
         119,
         120,
         121,
         122,
         123,
         124,
         125,
         126,
         127,
         128,
         129,
         130,
         131,
         132,
         133,
         134,
         135,
         136,
         137,
         138,
         139,
         140,
         141,
         142,
         143,
         144,
         145,
         146,
         147,
         148,
         149,
         150,
         151,
         152,
         153,
         154,
         155,
         156,
         157,
         158,
         159,
         160,
         161,
         162,
         163,
         164,
         165,
         166,
         167,
         168,
         169,
         170,
         171,
         172,
         173,
         174,
         175,
         176,
         177,
         178,
         179,
         180,
         181,
         182,
         183,
         184,
         185,
         186,
         187,
         188,
         189,
         190,
         191,
         192,
         193,
         194,
         195,
         196,
         197,
         198,
         199
        ]
       },
       "names_unique": false,
       "opacity": {
        "type": null,
        "values": null
       },
       "rotation": {
        "type": null,
        "values": null
       },
       "scales": {
        "x": "IPY_MODEL_c3afd09727bd4dfda019453709471a05",
        "y": "IPY_MODEL_d350271e08bd482ab993a3ad2f0298bd"
       },
       "scales_metadata": {
        "color": {
         "dimension": "color"
        },
        "opacity": {
         "dimension": "opacity"
        },
        "rotation": {
         "dimension": "rotation"
        },
        "size": {
         "dimension": "size"
        },
        "skew": {
         "dimension": "skew"
        },
        "x": {
         "dimension": "x",
         "orientation": "horizontal"
        },
        "y": {
         "dimension": "y",
         "orientation": "vertical"
        }
       },
       "selected": [],
       "size": {
        "type": null,
        "values": null
       },
       "skew": {
        "type": null,
        "values": null
       },
       "tooltip": "IPY_MODEL_8158801ccf47441ca242dedcca3ad4fa",
       "x": {
        "type": "float",
        "values": [
         0,
         1,
         2,
         3,
         4,
         5,
         6,
         7,
         8,
         9,
         10,
         11,
         12,
         13,
         14,
         15,
         16,
         17,
         18,
         19
        ]
       },
       "y": {
        "type": "float",
        "values": [
         -0.5376050244504224,
         -0.395929661456438,
         0.6571873520663818,
         -2.210652012043249,
         0.4386212029781633,
         -0.4017238050109604,
         -0.2712874804375642,
         -1.4088114579419833,
         0.781567773981874,
         -0.5463778752858109,
         -0.5257979543451248,
         -1.6760348863392625,
         -0.751318556638076,
         0.42195231193851956,
         -0.8460225025991753,
         0.22461135068971894,
         -0.7012192644781444,
         1.0129043176495083,
         -0.33797834518054787,
         -0.2925295470791483
        ]
       }
      }
     },
     "7e14337f3f434dab958f410ad32b6db8": {
      "model_module": "bqplot",
      "model_module_version": "^0.4.8",
      "model_name": "LinearScaleModel",
      "state": {
       "allow_padding": false,
       "max": 1,
       "min": 0,
       "stabilized": false
      }
     },
     "7e3673fb984d4aefbe8ada7c13c8b3bf": {
      "model_module": "bqplot",
      "model_module_version": "^0.4.8",
      "model_name": "LinearScaleModel",
      "state": {
       "stabilized": false
      }
     },
     "8158801ccf47441ca242dedcca3ad4fa": {
      "model_module": "@jupyter-widgets/controls",
      "model_module_version": "1.5.0",
      "model_name": "DropdownModel",
      "state": {
       "_options_labels": [
        "First",
        "Second",
        "Third",
        "Fourth"
       ],
       "index": 0,
       "layout": "IPY_MODEL_7ad16cd49d754f209be9b747dcf55922",
       "style": "IPY_MODEL_708cc1826c234bc5a5512a7796ebe6c3"
      }
     },
     "8180ad59d7554a97a44d36e8e2850421": {
      "model_module": "bqplot",
      "model_module_version": "^0.4.8",
      "model_name": "LinearScaleModel",
      "state": {
       "stabilized": false
      }
     },
     "81c6ac16c8d64831b4960249fc40deac": {
      "model_module": "bqplot",
      "model_module_version": "^0.4.8",
      "model_name": "LinearScaleModel",
      "state": {
       "stabilized": false
      }
     },
     "8246d6c0309143cd9a13a9b57ffbec79": {
      "model_module": "bqplot",
      "model_module_version": "^0.4.8",
      "model_name": "AxisModel",
      "state": {
       "orientation": "vertical",
       "scale": "IPY_MODEL_e2292efac0ad4aa78d1974f3cea905c4",
       "side": "left",
       "tick_format": "0.2f",
       "tick_values": {
        "type": null,
        "values": null
       }
      }
     },
     "83d2a58f4b3b4e2c991b60cae87b48fe": {
      "model_module": "@jupyter-widgets/base",
      "model_module_version": "1.2.0",
      "model_name": "LayoutModel",
      "state": {}
     },
     "85361e06712c41dbb27aedc0f8ca3e58": {
      "model_module": "bqplot",
      "model_module_version": "^0.4.8",
      "model_name": "FigureModel",
      "state": {
       "_dom_classes": [],
       "axes": [
        "IPY_MODEL_dee98483bba343c2a5252d271cbaaf36",
        "IPY_MODEL_f1061c720ad74a79bb063fc0e763d35d"
       ],
       "layout": "IPY_MODEL_2e29cfa11f584a44bfc30c25f01921c6",
       "marks": [
        "IPY_MODEL_4b9f4c1b386a41d48569f0201b0ef1aa"
       ],
       "scale_x": "IPY_MODEL_5b90ac2e91324d1c929b6e3856187730",
       "scale_y": "IPY_MODEL_a0f83c8e24434700ad79a55239c7da71"
      }
     },
     "8626a726802d494e9d898da2b1fab5cb": {
      "model_module": "bqplot",
      "model_module_version": "^0.4.8",
      "model_name": "ScatterModel",
      "state": {
       "color": {
        "type": null,
        "values": null
       },
       "colors": [
        "orangered"
       ],
       "display_names": false,
       "labels": [
        "Red"
       ],
       "names": {
        "type": "float",
        "values": [
         100,
         101,
         102,
         103,
         104,
         105,
         106,
         107,
         108,
         109,
         110,
         111,
         112,
         113,
         114,
         115,
         116,
         117,
         118,
         119,
         120,
         121,
         122,
         123,
         124,
         125,
         126,
         127,
         128,
         129,
         130,
         131,
         132,
         133,
         134,
         135,
         136,
         137,
         138,
         139,
         140,
         141,
         142,
         143,
         144,
         145,
         146,
         147,
         148,
         149,
         150,
         151,
         152,
         153,
         154,
         155,
         156,
         157,
         158,
         159,
         160,
         161,
         162,
         163,
         164,
         165,
         166,
         167,
         168,
         169,
         170,
         171,
         172,
         173,
         174,
         175,
         176,
         177,
         178,
         179,
         180,
         181,
         182,
         183,
         184,
         185,
         186,
         187,
         188,
         189,
         190,
         191,
         192,
         193,
         194,
         195,
         196,
         197,
         198,
         199
        ]
       },
       "names_unique": false,
       "opacity": {
        "type": null,
        "values": null
       },
       "rotation": {
        "type": null,
        "values": null
       },
       "scales": {
        "x": "IPY_MODEL_ea9f8d7bf0264db4a4584b77a488aa31",
        "y": "IPY_MODEL_8180ad59d7554a97a44d36e8e2850421"
       },
       "scales_metadata": {
        "color": {
         "dimension": "color"
        },
        "opacity": {
         "dimension": "opacity"
        },
        "rotation": {
         "dimension": "rotation"
        },
        "size": {
         "dimension": "size"
        },
        "skew": {
         "dimension": "skew"
        },
        "x": {
         "dimension": "x",
         "orientation": "horizontal"
        },
        "y": {
         "dimension": "y",
         "orientation": "vertical"
        }
       },
       "selected": [],
       "size": {
        "type": null,
        "values": null
       },
       "skew": {
        "type": null,
        "values": null
       },
       "tooltip": "IPY_MODEL_34e6478684284c24ab63fb8446047fff",
       "x": {
        "type": "float",
        "values": [
         0,
         1,
         2,
         3,
         4,
         5,
         6,
         7,
         8,
         9,
         10,
         11,
         12,
         13,
         14,
         15,
         16,
         17,
         18,
         19
        ]
       },
       "y": {
        "type": "float",
        "values": [
         -0.47367306983549134,
         -1.2072434900368567,
         1.1150027465137187,
         -0.8251434876812495,
         -0.9394813106986104,
         0.9597209400978662,
         -0.13533015247820918,
         0.6344135987152347,
         -1.2863374002371186,
         -1.1968810907718213,
         0.8105320329389817,
         1.6023584216717754,
         1.3213114416948308,
         -0.4555652124673565,
         -0.600896480659953,
         1.1622205231101173,
         0.19885047661099753,
         -0.9322859745510435,
         1.9782001117500077,
         -1.9044104551077154
        ]
       }
      }
     },
     "86af3a264faa451d9967dabf8bdf1734": {
      "model_module": "bqplot",
      "model_module_version": "^0.4.8",
      "model_name": "ScatterModel",
      "state": {
       "color": {
        "type": null,
        "values": null
       },
       "colors": [
        "dodgerblue"
       ],
       "display_names": false,
       "interactions": {
        "click": "tooltip"
       },
       "labels": [
        "Blue"
       ],
       "names": {
        "type": "float",
        "values": [
         100,
         101,
         102,
         103,
         104,
         105,
         106,
         107,
         108,
         109,
         110,
         111,
         112,
         113,
         114,
         115,
         116,
         117,
         118,
         119,
         120,
         121,
         122,
         123,
         124,
         125,
         126,
         127,
         128,
         129,
         130,
         131,
         132,
         133,
         134,
         135,
         136,
         137,
         138,
         139,
         140,
         141,
         142,
         143,
         144,
         145,
         146,
         147,
         148,
         149,
         150,
         151,
         152,
         153,
         154,
         155,
         156,
         157,
         158,
         159,
         160,
         161,
         162,
         163,
         164,
         165,
         166,
         167,
         168,
         169,
         170,
         171,
         172,
         173,
         174,
         175,
         176,
         177,
         178,
         179,
         180,
         181,
         182,
         183,
         184,
         185,
         186,
         187,
         188,
         189,
         190,
         191,
         192,
         193,
         194,
         195,
         196,
         197,
         198,
         199
        ]
       },
       "names_unique": false,
       "opacity": {
        "type": null,
        "values": null
       },
       "rotation": {
        "type": null,
        "values": null
       },
       "scales": {
        "x": "IPY_MODEL_63c56ae1f4214a1ca54eadbb348d07f4",
        "y": "IPY_MODEL_3ff8dfb9c10142858f743ce82fef0426"
       },
       "scales_metadata": {
        "color": {
         "dimension": "color"
        },
        "opacity": {
         "dimension": "opacity"
        },
        "rotation": {
         "dimension": "rotation"
        },
        "size": {
         "dimension": "size"
        },
        "skew": {
         "dimension": "skew"
        },
        "x": {
         "dimension": "x",
         "orientation": "horizontal"
        },
        "y": {
         "dimension": "y",
         "orientation": "vertical"
        }
       },
       "selected": [
        1,
        2,
        3
       ],
       "size": {
        "type": null,
        "values": null
       },
       "skew": {
        "type": null,
        "values": null
       },
       "tooltip": "IPY_MODEL_7612c960950c4784a5b484e691b1a714",
       "x": {
        "type": "float",
        "values": [
         0,
         1,
         2,
         3,
         4,
         5,
         6,
         7,
         8,
         9,
         10,
         11,
         12,
         13,
         14,
         15,
         16,
         17,
         18,
         19
        ]
       },
       "y": {
        "type": "float",
        "values": [
         0.3797684073688268,
         1.1088402101321153,
         0.18557935269369016,
         -0.4690789033186926,
         0.3250791101587227,
         0.6361878888592768,
         0.8476480190593587,
         -0.49323852480911445,
         -1.360634889032836,
         -1.9011776594018392,
         -0.06428607954811838,
         0.8341194549020181,
         0.15223356700934318,
         -0.5367922784048068,
         0.1057947072182003,
         0.693392831802096,
         -1.3986816745697472,
         0.296874554842291,
         -0.12291001225975336,
         -0.3953015893983406
        ]
       }
      }
     },
     "87e747687ca543f49c7136bddcc255b8": {
      "model_module": "@jupyter-widgets/base",
      "model_module_version": "1.2.0",
      "model_name": "LayoutModel",
      "state": {
       "min_width": "125px"
      }
     },
     "88713d54acad4b36a86de79a371f8207": {
      "model_module": "@jupyter-widgets/base",
      "model_module_version": "1.2.0",
      "model_name": "LayoutModel",
      "state": {}
     },
     "898dfe1ca5434b97a4749f1273ac873a": {
      "model_module": "bqplot",
      "model_module_version": "^0.4.8",
      "model_name": "LinearScaleModel",
      "state": {
       "allow_padding": false,
       "max": 1,
       "min": 0,
       "stabilized": false
      }
     },
     "899ad56bc48641b7b409a73b89759e4c": {
      "model_module": "bqplot",
      "model_module_version": "^0.4.8",
      "model_name": "LinearScaleModel",
      "state": {
       "stabilized": false
      }
     },
     "8a5db2288472482f8ff3ffabebdf0017": {
      "model_module": "bqplot",
      "model_module_version": "^0.4.8",
      "model_name": "LinesModel",
      "state": {
       "color": {
        "type": null,
        "values": null
       },
       "fill_colors": [],
       "labels": [
        "line 1",
        "line 2",
        "line 3"
       ],
       "scales": {
        "x": "IPY_MODEL_c090dafc93c643d2be53f9b12c0bf8cd",
        "y": "IPY_MODEL_df6591962b1c4ccca89b6b5463b29d2d"
       },
       "selected": [],
       "tooltip": "IPY_MODEL_e62964ae84cd40c190f2d15cea110254",
       "x": {
        "type": "float",
        "values": [
         0,
         1,
         2,
         3,
         4,
         5,
         6,
         7,
         8,
         9,
         10,
         11,
         12,
         13,
         14,
         15,
         16,
         17,
         18,
         19,
         20,
         21,
         22,
         23,
         24,
         25,
         26,
         27,
         28,
         29,
         30,
         31,
         32,
         33,
         34,
         35,
         36,
         37,
         38,
         39,
         40,
         41,
         42,
         43,
         44,
         45,
         46,
         47,
         48,
         49,
         50,
         51,
         52,
         53,
         54,
         55,
         56,
         57,
         58,
         59,
         60,
         61,
         62,
         63,
         64,
         65,
         66,
         67,
         68,
         69,
         70,
         71,
         72,
         73,
         74,
         75,
         76,
         77,
         78,
         79,
         80,
         81,
         82,
         83,
         84,
         85,
         86,
         87,
         88,
         89,
         90,
         91,
         92,
         93,
         94,
         95,
         96,
         97,
         98,
         99
        ]
       },
       "y": {
        "type": "float",
        "values": [
         [
          1.3156665911529235,
          -0.3269962424304914,
          1.3476695039140123,
          -1.6522033970987309,
          0.6887935685090464,
          -0.9699868429548695,
          -0.7640561011488279,
          -1.7709479490011053,
          -0.056584918746228154,
          0.36200257385963286,
          -1.2887797058000932,
          -0.5854278427870021,
          -0.020932916374713277,
          -0.3759346714478347,
          0.5138576961850632,
          1.1012200993058812,
          0.3666728805243414,
          1.1454840102161634,
          -0.18618645570673312,
          0.18710067033878697,
          1.4361749213389858,
          -0.9017223241090222,
          0.11680589455542942,
          0.9795569114451554,
          0.049324117543297755,
          0.041777540640949413,
          1.6316361153928893,
          -0.8520323042583018,
          0.9827874577524555,
          0.8126886661957867,
          0.9671067880793355,
          -0.7445620519287081,
          -0.6487284553714888,
          0.722007709521798,
          0.9631976067470879,
          -0.27974272220840884,
          0.9725500437067164,
          -1.8618445114958273,
          1.5332376294692205,
          0.11647763565302434,
          -1.9066642475742144,
          0.6999884531399247,
          0.11581846778419912,
          0.7078091114126006,
          -0.7891793428888905,
          1.0569711552060042,
          -0.30121468626711906,
          -1.5837289308523004,
          0.04355601888868182,
          -1.50602582231786,
          -0.10894834558192265,
          0.0756494787726465,
          -1.1350555715039168,
          0.9004081163088746,
          0.13148742533655744,
          0.9251254823991262,
          -0.15173799714894462,
          -0.2948276695671012,
          -0.30502317067558965,
          -1.577652157804409,
          -0.6263702998514981,
          0.7376676437862647,
          -0.3644055730429075,
          0.6437750609326268,
          1.0799321143992933,
          0.4555431426056823,
          0.3044603427716076,
          -1.6654452227202123,
          0.028036627965098846,
          0.5736105402905621,
          0.41275419953902637,
          1.6963676817686093,
          -0.4635627964284047,
          0.611452770962915,
          1.6210370160349334,
          -0.027902217239637695,
          0.5952211707808774,
          0.48396623892663354,
          1.2565961233766934,
          -1.030962187501798,
          1.431526115201495,
          -1.3477733231396707,
          -0.21152331013432527,
          1.2964976863165092,
          -0.7624427100258944,
          0.03529624129589204,
          0.28491037823834475,
          0.08354613556516356,
          -1.0121952076776666,
          -1.0835339796376369,
          1.0182352254223936,
          -1.0216268191335935,
          -1.605348362940021,
          -1.4247120166229426,
          -0.11865577473458011,
          0.40515529218029706,
          0.09876537731669985,
          -1.2777196245407532,
          0.9377439270153057,
          0.11692184904295932
         ],
         [
          1.513301150982363,
          0.22835578201690362,
          2.409043518207786,
          0.7566399659706454,
          -0.9050294318324902,
          -0.09029471752942117,
          -0.3836945134647624,
          -1.5605976217567932,
          0.0942571997948168,
          0.12002166662219829,
          0.4073612725532741,
          0.005598508025492306,
          -0.45149728462544797,
          0.4271638511508303,
          -1.270412049972511,
          -0.9802895674039458,
          0.8213341095161577,
          -0.7176560872769374,
          1.3323284739331693,
          -0.3622298157427953,
          -1.1045606542425006,
          1.6823937756728073,
          -2.0495470282772033,
          2.0324109862705937,
          0.0012305321073275586,
          -1.4181239028581472,
          0.00545054596198232,
          1.0037970541738748,
          1.5177368701694016,
          -0.5611453968909725,
          0.024361788722484977,
          1.2610429106883652,
          0.020681013386413802,
          -0.09100206414402906,
          0.21187550968165725,
          1.1011175653938217,
          -0.028643146101076683,
          -0.4727205228424255,
          -0.27236334146923663,
          -0.786463325423973,
          -0.8676569071835016,
          -0.03422470407307418,
          -0.8724853379737127,
          -0.1499329695989858,
          0.13757752137716783,
          -0.3900893539834537,
          1.7877968632211512,
          -0.6798165619674025,
          -0.2374914023379674,
          -0.03518991566425201,
          -0.0859748724894127,
          -0.35497567681270664,
          -2.2547781552112083,
          0.9874876279012194,
          0.626956959345691,
          -2.309384670557104,
          -0.4572777061829662,
          -0.5131816074548781,
          -0.08332046591903926,
          1.3928625435277957,
          -1.758795703411769,
          0.20228518916956947,
          0.7287054384565156,
          -1.7641195319656302,
          -0.2357430373648141,
          -0.9336988292187186,
          -1.1601367138077254,
          0.7018261200890239,
          -0.7352695727592151,
          1.8099134774460026,
          -0.17736712596726376,
          1.9677045658595043,
          0.2668225153533346,
          1.3230254075644798,
          1.4473241469026128,
          -0.9218366641963669,
          -0.47012803395880015,
          -0.35808237253790903,
          -0.1332860785457049,
          -0.20592618701794516,
          -0.0829928080239727,
          -1.1331354034002104,
          1.4969556940895679,
          -1.4115816979077396,
          -0.4078800176852196,
          0.7302724758569777,
          -1.0103431220445156,
          -1.042260837936269,
          -0.16355346066323634,
          -0.18976917229182813,
          0.213194046528355,
          -1.72416906961433,
          0.8215346567294295,
          -1.9041006274338135,
          -1.319157015069636,
          -0.20620834714950556,
          -0.27860495474343555,
          1.3148892878003162,
          1.5024250575884812,
          -2.684771145936218
         ],
         [
          -1.1856655661454005,
          -0.9682335974958457,
          0.32762017050178993,
          0.704347382365285,
          0.36481340076831265,
          1.6099421353540957,
          -0.39995525780843455,
          0.3495304341293383,
          -0.7737817604975197,
          0.7841283468810771,
          -0.44586097614924985,
          -0.1999985417571386,
          0.15503231399533574,
          1.4107742076449516,
          1.9166073343742605,
          0.3800155924042973,
          0.4095185507785079,
          0.6629151066467571,
          -0.715576102938937,
          1.2970365622001208,
          0.6147910544899048,
          0.8100403961150382,
          -0.5474752892715188,
          -0.1551349136215395,
          0.28959146502503674,
          0.712478232892719,
          -1.2107240751216428,
          0.035311603603926725,
          -2.3421556999033872,
          0.17135397855484566,
          -0.3014179640839355,
          -0.6519694741582607,
          -0.4718081508485413,
          0.0012791026059058893,
          -1.4218715336757346,
          0.8596267167084685,
          0.5395281046874951,
          -0.48470604820306046,
          0.7516485684105508,
          0.4714785976397688,
          0.9919626260098432,
          -0.4237694282451899,
          1.2063978859569489,
          0.25611781589870897,
          -0.6442331558993504,
          -0.25852033508512734,
          0.6251727178117381,
          -2.397889208106226,
          -0.5459044823271139,
          1.7919271117078552,
          -0.9459354912131044,
          0.7319033013118271,
          -0.3908072405895522,
          -1.024836975602874,
          -0.7146091085001886,
          0.37528281743199243,
          -0.767157479749023,
          -0.11828892658391425,
          -1.3840531694542373,
          0.6788948975854229,
          0.9781329291767432,
          0.045526552516223825,
          -0.06768878833436705,
          0.7419011902519965,
          -0.2230973387130037,
          0.15094957386788815,
          0.4292338575491447,
          0.10295448168010529,
          1.6135341493833348,
          0.4257474580560106,
          -0.7809806036261369,
          0.9887255761847334,
          0.35988105803891407,
          -0.5751588643221467,
          -0.3916359371899403,
          -0.9399648068182066,
          0.07520214815478359,
          0.6993418309164299,
          -0.4959182511628163,
          -0.49063815081720835,
          -0.38567103205215303,
          0.6251713655616469,
          1.6623298277101428,
          0.32045489530114857,
          1.285236704149218,
          1.3358535014183142,
          0.04382333502201039,
          -1.7282891945861312,
          0.8819423018153199,
          1.075142140921638,
          0.8732998614506844,
          -0.14846525825803364,
          -0.3542433181553477,
          -0.9083553414470465,
          -0.9210152209554019,
          0.42151216479924525,
          -0.29514577404641906,
          -0.4951865728749496,
          -1.473795109471266,
          1.8735895789267505
         ]
        ]
       }
      }
     },
     "8aece11650294777907ee00996588c86": {
      "model_module": "bqplot",
      "model_module_version": "^0.4.8",
      "model_name": "FigureModel",
      "state": {
       "_dom_classes": [],
       "axes": [
        "IPY_MODEL_de0340f54f124d0ab980df8031d839a0",
        "IPY_MODEL_d7040cd3084f492f981f0afb450faba1"
       ],
       "layout": "IPY_MODEL_13db86216bba4c3984a74d9977b44d8b",
       "marks": [
        "IPY_MODEL_ac0dade07c2c4dc5b93e81826bdfddae"
       ],
       "scale_x": "IPY_MODEL_a9c6ccc8bad5493db482bfccbd975113",
       "scale_y": "IPY_MODEL_8c1d13bf31f34530bd47e1535eb0a519"
      }
     },
     "8b0bbd0578504cb2b3c1b1eb0a182bb2": {
      "model_module": "bqplot",
      "model_module_version": "^0.4.8",
      "model_name": "AxisModel",
      "state": {
       "scale": "IPY_MODEL_43726fca84ac41f984e5f5a2d808428e",
       "side": "bottom",
       "tick_values": {
        "type": null,
        "values": null
       }
      }
     },
     "8c1d13bf31f34530bd47e1535eb0a519": {
      "model_module": "bqplot",
      "model_module_version": "^0.4.8",
      "model_name": "LinearScaleModel",
      "state": {
       "allow_padding": false,
       "max": 1,
       "min": 0,
       "stabilized": false
      }
     },
     "8cc83348a3854b49a5ab4c933c1820cd": {
      "model_module": "@jupyter-widgets/base",
      "model_module_version": "1.2.0",
      "model_name": "LayoutModel",
      "state": {}
     },
     "8d0e2e997fad47abbe3fcb85661c5f8e": {
      "model_module": "bqplot",
      "model_module_version": "^0.4.8",
      "model_name": "FigureModel",
      "state": {
       "_dom_classes": [],
       "axes": [
        "IPY_MODEL_f317b84ffbd54b44a9fd96c6eea9e9da",
        "IPY_MODEL_e1d4429c8eb846368077cb14dd9e465a"
       ],
       "layout": "IPY_MODEL_6a2826e8660046d3a0758e822a187e73",
       "marks": [
        "IPY_MODEL_2367c7984c8d4e8e9ead0458fe8ae62d"
       ],
       "scale_x": "IPY_MODEL_dffc0c40376d49959a32b50defb2d969",
       "scale_y": "IPY_MODEL_639dc32f98ea49f4852614e0a55e4917"
      }
     },
     "8e0167c744234c488d5b3eda24e0acfa": {
      "model_module": "bqplot",
      "model_module_version": "^0.4.8",
      "model_name": "OrdinalScaleModel",
      "state": {
       "domain": []
      }
     },
     "8f2a8679ccb94e25b1a28ea30746640b": {
      "model_module": "bqplot",
      "model_module_version": "^0.4.8",
      "model_name": "FigureModel",
      "state": {
       "_dom_classes": [],
       "axes": [
        "IPY_MODEL_e4eefefe1cf241bd8ebe0486629685ac",
        "IPY_MODEL_b46efe48027e4d0daa2850b65572eca6"
       ],
       "layout": "IPY_MODEL_a3dcd7f378964aabaa70581acb5595b4",
       "marks": [
        "IPY_MODEL_24be4e9e6c3a4550a23b91d7236caed9"
       ],
       "scale_x": "IPY_MODEL_7887cb20ef8549b8bac308a8494f1ddb",
       "scale_y": "IPY_MODEL_9dac720a3c7c4465baa2a16453a317d8"
      }
     },
     "8f53f238912344a39ede3ef35e39220d": {
      "model_module": "@jupyter-widgets/controls",
      "model_module_version": "1.5.0",
      "model_name": "ButtonStyleModel",
      "state": {}
     },
     "91465afbfaca4eab8addf89e89579726": {
      "model_module": "bqplot",
      "model_module_version": "^0.4.8",
      "model_name": "FigureModel",
      "state": {
       "_dom_classes": [],
       "axes": [
        "IPY_MODEL_0e3ed847a7bb484f805b9844728a1820",
        "IPY_MODEL_cc31790d4a1844439f385df0a733e794"
       ],
       "layout": "IPY_MODEL_d9b847f463c4483e90ca1fd837bfccf5",
       "marks": [
        "IPY_MODEL_4a7e9296f55b4b14b79056c95eeba9db"
       ],
       "scale_x": "IPY_MODEL_5a90b41905274b30bf12318dc4f2ab56",
       "scale_y": "IPY_MODEL_0741c878ae75460eb842150df30e79e2"
      }
     },
     "936330a5e7264e8d8a179df17d3e2459": {
      "model_module": "@jupyter-widgets/base",
      "model_module_version": "1.2.0",
      "model_name": "LayoutModel",
      "state": {}
     },
     "939aa7f99a1f465ca81b8c99d04fd242": {
      "model_module": "@jupyter-widgets/base",
      "model_module_version": "1.2.0",
      "model_name": "LayoutModel",
      "state": {}
     },
     "93a9ba5e838342ed92c175c0e2e1ea77": {
      "model_module": "bqplot",
      "model_module_version": "^0.4.8",
      "model_name": "FigureModel",
      "state": {
       "_dom_classes": [],
       "axes": [
        "IPY_MODEL_edd34af4e8e74d0a9850f74d3d9eff42",
        "IPY_MODEL_5eb76cfc19cb46898b69854e4a0e0e60"
       ],
       "layout": "IPY_MODEL_e2231e88c5cd48039cac81bebc075045",
       "marks": [
        "IPY_MODEL_566ef715c1664016abed4f8dc0680a64"
       ],
       "scale_x": "IPY_MODEL_37b3b855cb0c4ceb8e412f4c5db6a43b",
       "scale_y": "IPY_MODEL_cdaca2048a68445e974cf3a5b00b8c78"
      }
     },
     "93e162b74e4f4910be9f3b13b1a6b948": {
      "model_module": "bqplot",
      "model_module_version": "^0.4.8",
      "model_name": "PieModel",
      "state": {
       "color": {
        "type": "float",
        "values": [
         0.16652674949858298,
         -0.24095887990660375,
         -1.9580635055754678,
         3.223718487129944,
         0.8086499408632579,
         0.4097314232754736,
         -1.26025366514401,
         -1.558911945427747,
         -0.08150122346998405,
         -1.1273228502301595
        ]
       },
       "display_labels": "inside",
       "display_legend": false,
       "display_values": false,
       "font_size": "12px",
       "font_weight": "normal",
       "interactions": {
        "click": "select",
        "hover": "tooltip"
       },
       "label_color": null,
       "scales": {
        "color": "IPY_MODEL_fb7f63a0592649f09a3d4fd6881adaee"
       },
       "selected": [],
       "selected_style": {
        "opacity": "1",
        "stroke": "white",
        "stroke-width": "2"
       },
       "sizes": {
        "type": "float",
        "values": [
         0.620502983782767,
         0.6148273473646877,
         0.6052398663075629,
         1.7470408135037137,
         0.4922612392530018,
         0.7489651380323538,
         0.697054002177247,
         1.513974080005876,
         0.14429323542089068,
         1.1871936118027955
        ]
       },
       "tooltip": "IPY_MODEL_169b5c9c143343898a5a990305624704",
       "unselected_style": {
        "opacity": "0.2"
       },
       "values_format": ".1f"
      }
     },
     "93f61cac38d2415c88bc10df0378f7b6": {
      "model_module": "bqplot",
      "model_module_version": "^0.4.8",
      "model_name": "TooltipModel",
      "state": {
       "fields": [
        "size",
        "index",
        "color"
       ],
       "formats": [
        "0.2f",
        "",
        "0.2f"
       ],
       "layout": "IPY_MODEL_08788b9ca04948fc82da921dc98983cf"
      }
     },
     "944f26ac4b7f4995978381708ddd05d5": {
      "model_module": "@jupyter-widgets/controls",
      "model_module_version": "1.5.0",
      "model_name": "ButtonModel",
      "state": {
       "icon": "legal",
       "layout": "IPY_MODEL_036f02d0b4574dbaa32f7a4f0554f5ff",
       "style": "IPY_MODEL_8f53f238912344a39ede3ef35e39220d"
      }
     },
     "95bf13699b8f41a6bd8a8f4f247b8e75": {
      "model_module": "bqplot",
      "model_module_version": "^0.4.8",
      "model_name": "LinearScaleModel",
      "state": {
       "stabilized": false
      }
     },
     "9746b44b77344be1a9d6399ac72f6e13": {
      "model_module": "bqplot",
      "model_module_version": "^0.4.8",
      "model_name": "LinearScaleModel",
      "state": {
       "allow_padding": false,
       "max": 1,
       "min": 0,
       "stabilized": false
      }
     },
     "9750edfff6514b7a89683f4e940145d1": {
      "model_module": "bqplot",
      "model_module_version": "^0.4.8",
      "model_name": "FigureModel",
      "state": {
       "_dom_classes": [],
       "layout": "IPY_MODEL_9d9767a7dcdb4d48be5800b992451b09",
       "marks": [
        "IPY_MODEL_35747cab3ee845afade8ccb318c414b7"
       ],
       "scale_x": "IPY_MODEL_7609378139aa448cbfc597be0a7ad74b",
       "scale_y": "IPY_MODEL_c5bfc4db112a4d1d8348ccd7c958cdd9"
      }
     },
     "975281586ed840bd941ea2a9aa887013": {
      "model_module": "bqplot",
      "model_module_version": "^0.4.8",
      "model_name": "TooltipModel",
      "state": {
       "fields": [
        "x",
        "y"
       ],
       "formats": [
        "",
        ".2f"
       ],
       "layout": "IPY_MODEL_1791ffb66bc146d9bae8b06236f865ec"
      }
     },
     "9942dc9af3fe48ef8471d558ae999879": {
      "model_module": "bqplot",
      "model_module_version": "^0.4.8",
      "model_name": "FigureModel",
      "state": {
       "_dom_classes": [],
       "axes": [
        "IPY_MODEL_a7906222a1414742add5c29c80efbf71",
        "IPY_MODEL_a7ada39fb4d64f2ab7898904ae148d46"
       ],
       "layout": "IPY_MODEL_88713d54acad4b36a86de79a371f8207",
       "marks": [
        "IPY_MODEL_75aaa71652f74ffebcf356b7860df4dd"
       ],
       "scale_x": "IPY_MODEL_c6393e5fcd1e49ff9ab00d7df43b8688",
       "scale_y": "IPY_MODEL_a72781ed931f4b8cbe741600e708a0d5"
      }
     },
     "9a3d537cee594ec187dc571e2aa73633": {
      "model_module": "bqplot",
      "model_module_version": "^0.4.8",
      "model_name": "LinearScaleModel",
      "state": {
       "stabilized": false
      }
     },
     "9bf667c491b14356892433e11b74ec25": {
      "model_module": "bqplot",
      "model_module_version": "^0.4.8",
      "model_name": "ScatterModel",
      "state": {
       "color": {
        "type": null,
        "values": null
       },
       "colors": [
        "dodgerblue"
       ],
       "display_legend": false,
       "interactions": {
        "click": "select"
       },
       "names": {
        "type": null,
        "values": null
       },
       "opacity": {
        "type": null,
        "values": null
       },
       "rotation": {
        "type": null,
        "values": null
       },
       "scales": {
        "x": "IPY_MODEL_11959759dcba4d4894fe6b2ddef88f9b",
        "y": "IPY_MODEL_95bf13699b8f41a6bd8a8f4f247b8e75"
       },
       "scales_metadata": {
        "color": {
         "dimension": "color"
        },
        "opacity": {
         "dimension": "opacity"
        },
        "rotation": {
         "dimension": "rotation"
        },
        "size": {
         "dimension": "size"
        },
        "skew": {
         "dimension": "skew"
        },
        "x": {
         "dimension": "x",
         "orientation": "horizontal"
        },
        "y": {
         "dimension": "y",
         "orientation": "vertical"
        }
       },
       "selected": [
        1,
        2,
        3
       ],
       "selected_style": {
        "fill": "DarkOrange",
        "opacity": 1,
        "stroke": "Red"
       },
       "size": {
        "type": null,
        "values": null
       },
       "skew": {
        "type": null,
        "values": null
       },
       "unselected_style": {
        "opacity": 0.5
       },
       "x": {
        "type": "float",
        "values": [
         0,
         1,
         2,
         3,
         4,
         5,
         6,
         7,
         8,
         9,
         10,
         11,
         12,
         13,
         14,
         15,
         16,
         17,
         18,
         19
        ]
       },
       "y": {
        "type": "float",
        "values": [
         -0.5007731659046646,
         -0.6717074010963514,
         1.5003219911221501,
         -0.019818646781297022,
         0.745914366784358,
         -0.2570278523208815,
         0.361482050044142,
         -0.367796644679641,
         1.0835243366110023,
         2.157406354327347,
         0.3872212450098745,
         -0.7110267767571494,
         -0.9154345742664649,
         -0.14006925942930185,
         -0.016036249152839965,
         1.9413850462942943,
         -0.25816910327180587,
         -0.46517436326171213,
         -0.6282297730062194,
         0.16753362669357846
        ]
       }
      }
     },
     "9cf83ceb94f047b582ef3f5e70deab97": {
      "model_module": "bqplot",
      "model_module_version": "^0.4.8",
      "model_name": "LinearScaleModel",
      "state": {
       "allow_padding": false,
       "max": 1,
       "min": 0,
       "stabilized": false
      }
     },
     "9d0a2dc1d2264e999747fd3d043f184c": {
      "model_module": "@jupyter-widgets/base",
      "model_module_version": "1.2.0",
      "model_name": "LayoutModel",
      "state": {
       "min_width": "125px"
      }
     },
     "9d30afdd6cb74a4fa341fdab70bccf65": {
      "model_module": "bqplot",
      "model_module_version": "^0.4.8",
      "model_name": "FigureModel",
      "state": {
       "_dom_classes": [],
       "layout": "IPY_MODEL_51c4328466ea49c993007bc66abeb692",
       "marks": [
        "IPY_MODEL_93e162b74e4f4910be9f3b13b1a6b948"
       ],
       "scale_x": "IPY_MODEL_620357de01b1417bbf973511b0bb25dc",
       "scale_y": "IPY_MODEL_5cdea543d3854dca8c87f9e546f159cb"
      }
     },
     "9d3c23c2409245b4ac4d14bf2bc39b13": {
      "model_module": "bqplot",
      "model_module_version": "^0.4.8",
      "model_name": "LinearScaleModel",
      "state": {
       "allow_padding": false,
       "max": 1,
       "min": 0,
       "stabilized": false
      }
     },
     "9d9767a7dcdb4d48be5800b992451b09": {
      "model_module": "@jupyter-widgets/base",
      "model_module_version": "1.2.0",
      "model_name": "LayoutModel",
      "state": {}
     },
     "9dac720a3c7c4465baa2a16453a317d8": {
      "model_module": "bqplot",
      "model_module_version": "^0.4.8",
      "model_name": "LinearScaleModel",
      "state": {
       "allow_padding": false,
       "max": 1,
       "min": 0,
       "stabilized": false
      }
     },
     "9ebd8232449840fba652f93bf4a3d41d": {
      "model_module": "bqplot",
      "model_module_version": "^0.4.8",
      "model_name": "LinearScaleModel",
      "state": {
       "allow_padding": false,
       "max": 1,
       "min": 0,
       "stabilized": false
      }
     },
     "a0f83c8e24434700ad79a55239c7da71": {
      "model_module": "bqplot",
      "model_module_version": "^0.4.8",
      "model_name": "LinearScaleModel",
      "state": {
       "allow_padding": false,
       "max": 1,
       "min": 0,
       "stabilized": false
      }
     },
     "a1b84d21f9224bcbae4e17583f2e3efc": {
      "model_module": "bqplot",
      "model_module_version": "^0.4.8",
      "model_name": "LinesModel",
      "state": {
       "color": {
        "type": null,
        "values": null
       },
       "fill_colors": [],
       "labels": [
        "line 1",
        "line 2",
        "line 3"
       ],
       "scales": {
        "x": "IPY_MODEL_0bd1e702762f46ca9297145a2bfec146",
        "y": "IPY_MODEL_e2292efac0ad4aa78d1974f3cea905c4"
       },
       "selected": [],
       "tooltip": "IPY_MODEL_35137400e4174fe68eecb426ac423754",
       "x": {
        "type": "float",
        "values": [
         0,
         1,
         2,
         3,
         4,
         5,
         6,
         7,
         8,
         9,
         10,
         11,
         12,
         13,
         14,
         15,
         16,
         17,
         18,
         19,
         20,
         21,
         22,
         23,
         24,
         25,
         26,
         27,
         28,
         29,
         30,
         31,
         32,
         33,
         34,
         35,
         36,
         37,
         38,
         39,
         40,
         41,
         42,
         43,
         44,
         45,
         46,
         47,
         48,
         49,
         50,
         51,
         52,
         53,
         54,
         55,
         56,
         57,
         58,
         59,
         60,
         61,
         62,
         63,
         64,
         65,
         66,
         67,
         68,
         69,
         70,
         71,
         72,
         73,
         74,
         75,
         76,
         77,
         78,
         79,
         80,
         81,
         82,
         83,
         84,
         85,
         86,
         87,
         88,
         89,
         90,
         91,
         92,
         93,
         94,
         95,
         96,
         97,
         98,
         99
        ]
       },
       "y": {
        "type": "float",
        "values": [
         [
          -0.23345123892574154,
          0.8369502446111869,
          -1.4637438012728583,
          1.1002691061731613,
          -0.6328607694456382,
          -0.08558431903595516,
          1.1054553123709905,
          -0.18156677764978682,
          -0.642139716086876,
          0.8585257243552846,
          0.654440986229933,
          0.02857707833911441,
          -0.4617119423078585,
          -0.893524740282429,
          0.29690342963699135,
          -0.7094301776323382,
          -0.4716258888708927,
          -0.2019472041850514,
          0.3100697233496192,
          0.1464933490178326,
          1.0685304743189432,
          1.3989380147643127,
          0.4675290136603339,
          -0.6855207671535429,
          -0.0005882671471103288,
          0.11374171378676155,
          1.5898334652587425,
          -0.24251050950938943,
          -0.5727566437373188,
          -1.4460224884807469,
          0.13982900286427546,
          1.8304510827687572,
          -1.6277661933452467,
          1.0515954841078647,
          -0.6048858954234753,
          0.5626804506744486,
          1.046777496256524,
          -0.3476753352789139,
          0.4055179915975695,
          -0.9643539362794528,
          -0.14000082405146308,
          -1.0100201848475365,
          -0.6462754120053165,
          -0.5211798110915289,
          -0.7842216524667847,
          0.6975298560881682,
          -2.2331873783858627,
          -0.0982079254255204,
          0.06682725963427656,
          0.8129180466987213,
          0.5059190878043954,
          -1.3921074053919589,
          0.2964653786585105,
          -1.426248863775504,
          -0.40998014496250246,
          0.9966596400266293,
          -0.1899557844743615,
          0.6090092732213654,
          0.8312387607285416,
          0.365137974322087,
          0.2814291176178504,
          -0.2771063267065986,
          -0.6307678767132008,
          0.5625984319243641,
          0.796405162265043,
          -0.3831306056625406,
          0.5758506779325031,
          1.4913651789602298,
          1.5244318869552957,
          1.4353440396099162,
          0.4103181025706015,
          -0.39289203829906993,
          -0.21326042766472822,
          0.44102907861975915,
          -1.9410149659487168,
          0.17849087945892314,
          -0.22603252502258653,
          -0.6384354828737573,
          1.401041918838102,
          2.545837097055718,
          0.49444587028738013,
          -1.4215197386153495,
          -0.22399328242248348,
          -1.46391322993363,
          -0.01899599108189235,
          1.8736451692790717,
          1.4509872629701268,
          0.8206844069083981,
          -1.8403208224462482,
          0.38901867392666817,
          -0.7255293860956081,
          -0.09869188414984252,
          2.152574138101466,
          -1.5818044316606534,
          0.29291752586399417,
          0.6192470867337311,
          -1.4808530925793622,
          0.2928473399751142,
          -1.0180401467177662,
          0.2985687461215663
         ],
         [
          1.4242890909314434,
          0.7756188460302602,
          0.5880528888309766,
          0.05520408572000853,
          -0.22741684458660844,
          -0.5064920360922558,
          -0.1840653886278774,
          -1.884546023928271,
          0.6704186517061738,
          -0.37282356994205257,
          -0.18687488897757804,
          -0.27279054021145455,
          -0.783898201452177,
          1.2361766775659049,
          -0.23519493704275315,
          0.818103531617035,
          0.5995504972726019,
          -1.7517002396510946,
          0.22677689230144935,
          0.46967978134891314,
          0.30710891551530833,
          0.32416949574066684,
          1.5447827371566631,
          0.42418230963239256,
          0.3577580240258892,
          0.16113046919925267,
          -0.011472377867966458,
          -0.6075447578668581,
          0.862792441964681,
          0.027620674756130673,
          -1.5424893245637024,
          0.11248530225641575,
          1.3445443558050911,
          0.9504226643784981,
          1.0920656125096833,
          0.23308848632085882,
          -0.8230007509928233,
          2.3454527375187824,
          0.4181896848286544,
          0.07422708434793113,
          -0.29725895527936536,
          -0.3089566884297453,
          0.8486611496472893,
          1.0046390310146762,
          1.1898551001491942,
          0.641671427308095,
          -0.30420157016100463,
          -0.5129768266016497,
          -1.6436762233889055,
          -1.1345999734710583,
          -1.3991347863712118,
          -1.017258270734383,
          0.661922922436341,
          0.6382877387107391,
          0.1210830859540815,
          1.5136478716046757,
          -0.2077244722395998,
          1.2395825189243088,
          1.269584101345739,
          0.8638477935139348,
          -0.7355060704968464,
          0.6682942960953839,
          0.6799505319223709,
          1.3596872960975799,
          -2.489481950309473,
          0.3525140016688503,
          -1.2735577682849515,
          -0.12005904158987363,
          -0.37093484429481555,
          -1.3196104131080064,
          0.7084673473533645,
          -0.4809996346044177,
          -0.38797058428966275,
          -0.1030716672805654,
          0.3428332694299377,
          -0.1431131983281573,
          -0.06323397460633357,
          0.8371459340014583,
          0.23270070195886375,
          0.10279512579076568,
          1.0766449935105895,
          -0.5578055593233238,
          0.3417517846760748,
          1.2692297966457378,
          -0.3154408579267072,
          1.2691736501676918,
          0.5389709075226663,
          -0.022665042941894482,
          -2.2996016672391755,
          -0.7485151309658622,
          0.8196688980028775,
          0.14962232520931912,
          0.3928666942667475,
          1.548199737113082,
          -0.06263833855462617,
          -0.29474302554830994,
          0.21151808529721824,
          -0.8799912828187134,
          -0.09576096965877146,
          1.5396129160438388
         ],
         [
          -0.14877771380980473,
          0.1150278797852363,
          -0.26013540963037274,
          -1.8962735737975847,
          1.3286643446763544,
          -1.4624121646853165,
          1.0089443648633059,
          -0.8344263530552101,
          0.6914063857962023,
          -1.6778703070260537,
          -0.8879647888189907,
          1.6434548488962755,
          -1.4335072395555315,
          0.19075652045249702,
          -1.0167079178399139,
          -0.5710001041784486,
          -0.57926187707609,
          -0.5376089074502249,
          0.5089174897041888,
          -1.1484278035583813,
          0.8944055299209576,
          -1.1733401083135098,
          -0.6984795717508309,
          0.7732623292294377,
          -1.0150830054885136,
          0.6219110845459376,
          1.0634101331438257,
          0.5411178391675333,
          1.722905828523474,
          -0.11612478511885363,
          -0.21553634837579155,
          -0.40907593441354656,
          -0.699207266812579,
          -0.21998339934733396,
          0.048653957164581096,
          -1.3506618694587107,
          -1.1462997784577829,
          -1.215749706862021,
          -0.3644195945106621,
          -0.7234937458453289,
          0.4758200770506157,
          0.3641447744400958,
          -2.726384181501524,
          -1.0051045302939894,
          0.606228466253455,
          0.042629343151229744,
          0.11379839711417994,
          -0.68553900467519,
          2.3735394989347247,
          -1.101491895219269,
          0.8387254312745859,
          0.15594279897892727,
          -0.5489373383729605,
          1.6088206409188517,
          2.737088956959562,
          -0.16186613561582344,
          0.9548714523682256,
          0.13773468184556514,
          0.5009887356661676,
          -0.6373565055002433,
          2.366307608070975,
          -0.2624160036048006,
          -0.33053691773333177,
          0.01582667312746638,
          -1.2976500507273463,
          -0.9876604481579014,
          0.6604664718236405,
          -0.9531493819901139,
          0.12993014075251805,
          0.9301097691641348,
          -0.5014092629420798,
          1.1111768758723666,
          -0.6510918108453294,
          0.9224165995294261,
          0.525975669404588,
          1.43130977703081,
          -1.089420492824294,
          0.001571772535830624,
          -0.2133825751518645,
          -0.28886991187992594,
          -0.9178205449702446,
          1.4972717761394505,
          1.0268023877070325,
          -2.252268674523302,
          0.650043764834008,
          -0.38389598347801673,
          -0.6078415760523117,
          -0.9173998808744783,
          -0.5805652308444891,
          1.4380640349121443,
          -1.7637937496968303,
          0.4381260991513937,
          -1.4568800763181649,
          0.7329879916217814,
          1.4447523756314433,
          -1.2466439284787436,
          0.012148099336846147,
          0.9748954916587701,
          0.9027962608722168,
          1.8272950388361975
         ]
        ]
       }
      }
     },
     "a2049c622ba34a8f901b69020ea1b1d3": {
      "model_module": "bqplot",
      "model_module_version": "^0.4.8",
      "model_name": "LinearScaleModel",
      "state": {
       "allow_padding": false,
       "max": 1,
       "min": 0,
       "stabilized": false
      }
     },
     "a258ac83027048b289e8d253408913ca": {
      "model_module": "@jupyter-widgets/controls",
      "model_module_version": "1.5.0",
      "model_name": "ButtonModel",
      "state": {
       "icon": "legal",
       "layout": "IPY_MODEL_76cb86d1df7f40019bc34a7691717e3f",
       "style": "IPY_MODEL_0297603576c7425fab18796c75a91fcd"
      }
     },
     "a265f2210f584db9917b22373cadccd1": {
      "model_module": "bqplot",
      "model_module_version": "^0.4.8",
      "model_name": "LinearScaleModel",
      "state": {
       "stabilized": false
      }
     },
     "a2c9ae5391154253a52201555bd0628f": {
      "model_module": "bqplot",
      "model_module_version": "^0.4.8",
      "model_name": "LinearScaleModel",
      "state": {
       "stabilized": false
      }
     },
     "a2ff1b4f5f2945619af62eca94e3a7cf": {
      "model_module": "@jupyter-widgets/base",
      "model_module_version": "1.2.0",
      "model_name": "LayoutModel",
      "state": {
       "min_width": "600px"
      }
     },
     "a31967775a994cc4a95d1fb89e5ddf59": {
      "model_module": "bqplot",
      "model_module_version": "^0.4.8",
      "model_name": "FigureModel",
      "state": {
       "_dom_classes": [],
       "axes": [
        "IPY_MODEL_5aa4dd7765864f83b7619b883d85a957",
        "IPY_MODEL_5d846709577848a4b647d998b29b7e3e"
       ],
       "layout": "IPY_MODEL_a54bf228d96c49bab2df12ad292fbc4b",
       "marks": [
        "IPY_MODEL_8a5db2288472482f8ff3ffabebdf0017"
       ],
       "scale_x": "IPY_MODEL_411db4baf020454e999f9f15a8238840",
       "scale_y": "IPY_MODEL_d3416e314657456cb833b3c687f4ee72"
      }
     },
     "a3dcd7f378964aabaa70581acb5595b4": {
      "model_module": "@jupyter-widgets/base",
      "model_module_version": "1.2.0",
      "model_name": "LayoutModel",
      "state": {}
     },
     "a4a8675434af4c59861c8e4cf2ce4bc9": {
      "model_module": "bqplot",
      "model_module_version": "^0.4.8",
      "model_name": "AxisModel",
      "state": {
       "orientation": "vertical",
       "scale": "IPY_MODEL_cececd9a76684538b41716493146a7b7",
       "side": "left",
       "tick_format": "0.2f",
       "tick_values": {
        "type": null,
        "values": null
       }
      }
     },
     "a54bf228d96c49bab2df12ad292fbc4b": {
      "model_module": "@jupyter-widgets/base",
      "model_module_version": "1.2.0",
      "model_name": "LayoutModel",
      "state": {}
     },
     "a615a5aa35784474a4491f21ec48f526": {
      "model_module": "bqplot",
      "model_module_version": "^0.4.8",
      "model_name": "FigureModel",
      "state": {
       "_dom_classes": [],
       "axes": [
        "IPY_MODEL_8b0bbd0578504cb2b3c1b1eb0a182bb2",
        "IPY_MODEL_e1ffd980f4d240a3a760727623f68adf"
       ],
       "layout": "IPY_MODEL_e4efee6a9e234b0b81cbd1c417437681",
       "marks": [
        "IPY_MODEL_f4023159bb83447caaef9c84e8725b3c"
       ],
       "scale_x": "IPY_MODEL_b7aa19e93207425b8952fc08d4809a49",
       "scale_y": "IPY_MODEL_18bc5ceb7ac841d09634f68fa1a40c5a"
      }
     },
     "a62a63a8f130401981b6880b438bb72b": {
      "model_module": "bqplot",
      "model_module_version": "^0.4.8",
      "model_name": "ScatterModel",
      "state": {
       "color": {
        "type": null,
        "values": null
       },
       "colors": [
        "dodgerblue"
       ],
       "display_legend": false,
       "interactions": {
        "click": "select"
       },
       "names": {
        "type": null,
        "values": null
       },
       "opacity": {
        "type": null,
        "values": null
       },
       "rotation": {
        "type": null,
        "values": null
       },
       "scales": {
        "x": "IPY_MODEL_6e51fa377ac1453989b4f561d4af0d8c",
        "y": "IPY_MODEL_6d439ffa5bba43b6b01dbb1b13f3ec94"
       },
       "scales_metadata": {
        "color": {
         "dimension": "color"
        },
        "opacity": {
         "dimension": "opacity"
        },
        "rotation": {
         "dimension": "rotation"
        },
        "size": {
         "dimension": "size"
        },
        "skew": {
         "dimension": "skew"
        },
        "x": {
         "dimension": "x",
         "orientation": "horizontal"
        },
        "y": {
         "dimension": "y",
         "orientation": "vertical"
        }
       },
       "selected": [
        1,
        2,
        3
       ],
       "selected_style": {
        "fill": "DarkOrange",
        "opacity": 1,
        "stroke": "Red"
       },
       "size": {
        "type": null,
        "values": null
       },
       "skew": {
        "type": null,
        "values": null
       },
       "unselected_style": {
        "opacity": 0.5
       },
       "x": {
        "type": "float",
        "values": [
         0,
         1,
         2,
         3,
         4,
         5,
         6,
         7,
         8,
         9,
         10,
         11,
         12,
         13,
         14,
         15,
         16,
         17,
         18,
         19
        ]
       },
       "y": {
        "type": "float",
        "values": [
         -1.1318713637595827,
         -1.44030573945756,
         -1.1583738497670186,
         -0.8113403499546636,
         -0.6482599798638137,
         1.4253698372521262,
         1.2867886169654588,
         0.23614805721859705,
         -0.6452842855164417,
         0.11835329659381655,
         -0.12143102387660422,
         0.4502446393083581,
         0.04140586727898503,
         1.5695079805454069,
         -1.1867002347433016,
         -0.3511768909026726,
         -0.3057196393302171,
         -0.579359742284317,
         -1.612318489748346,
         -1.3864543431995413
        ]
       }
      }
     },
     "a70af824a98c4ebb8985f469c406e2df": {
      "model_module": "@jupyter-widgets/base",
      "model_module_version": "1.2.0",
      "model_name": "LayoutModel",
      "state": {}
     },
     "a72781ed931f4b8cbe741600e708a0d5": {
      "model_module": "bqplot",
      "model_module_version": "^0.4.8",
      "model_name": "LinearScaleModel",
      "state": {
       "allow_padding": false,
       "max": 1,
       "min": 0,
       "stabilized": false
      }
     },
     "a7906222a1414742add5c29c80efbf71": {
      "model_module": "bqplot",
      "model_module_version": "^0.4.8",
      "model_name": "AxisModel",
      "state": {
       "scale": "IPY_MODEL_db88dad7f00d4fa6bdb09bbbcaae8dd2",
       "side": "bottom",
       "tick_format": "0.2f",
       "tick_values": {
        "type": null,
        "values": null
       }
      }
     },
     "a7ada39fb4d64f2ab7898904ae148d46": {
      "model_module": "bqplot",
      "model_module_version": "^0.4.8",
      "model_name": "AxisModel",
      "state": {
       "orientation": "vertical",
       "scale": "IPY_MODEL_3c43d3a99aa246cc94169d67bcab0685",
       "side": "left",
       "tick_format": "0.2f",
       "tick_values": {
        "type": null,
        "values": null
       }
      }
     },
     "a7d0aae7aae14226862f686d4622cb45": {
      "model_module": "@jupyter-widgets/controls",
      "model_module_version": "1.5.0",
      "model_name": "DescriptionStyleModel",
      "state": {
       "description_width": ""
      }
     },
     "a8412a92ba3046c4ab529a69031845a8": {
      "model_module": "bqplot",
      "model_module_version": "^0.4.8",
      "model_name": "LinearScaleModel",
      "state": {
       "stabilized": false
      }
     },
     "a90dcf8b0923451f8010b5254ecf052a": {
      "model_module": "bqplot",
      "model_module_version": "^0.4.8",
      "model_name": "AxisModel",
      "state": {
       "orientation": "vertical",
       "scale": "IPY_MODEL_81c6ac16c8d64831b4960249fc40deac",
       "side": "left",
       "tick_format": "0.2f",
       "tick_values": {
        "type": null,
        "values": null
       }
      }
     },
     "a9c6ccc8bad5493db482bfccbd975113": {
      "model_module": "bqplot",
      "model_module_version": "^0.4.8",
      "model_name": "LinearScaleModel",
      "state": {
       "allow_padding": false,
       "max": 1,
       "min": 0,
       "stabilized": false
      }
     },
     "ac0dade07c2c4dc5b93e81826bdfddae": {
      "model_module": "bqplot",
      "model_module_version": "^0.4.8",
      "model_name": "BarsModel",
      "state": {
       "color": {
        "type": null,
        "values": null
       },
       "colors": [
        "steelblue"
       ],
       "interactions": {
        "click": "tooltip"
       },
       "labels": [
        "Level 1",
        "Level 2"
       ],
       "scales": {
        "x": "IPY_MODEL_0c5066d528fe45899b7675bbcd73193d",
        "y": "IPY_MODEL_4c29029a1d4a46a4ae99924324cde9d8"
       },
       "selected": [],
       "selected_style": {
        "fill": "red",
        "stroke": "orange"
       },
       "tooltip": "IPY_MODEL_ea9ef11b19b94813bb322876934913b9",
       "type": "grouped",
       "x": {
        "type": "float",
        "values": [
         0,
         1,
         2,
         3,
         4,
         5,
         6,
         7,
         8,
         9
        ]
       },
       "y": {
        "type": "float",
        "values": [
         [
          -2.1141921374855936,
          0.03681688699621734,
          1.5521294381615836,
          1.280220978097949,
          -0.1236809112279244,
          -2.6591279361123195,
          0.33655583934351435,
          -0.1301328823630926,
          0.07162439267300233,
          0.7359754876412068
         ],
         [
          0.38540150610530005,
          -1.8008777061157384,
          0.7235341650150354,
          -0.010486936604368537,
          -2.208588495765802,
          -1.2329123472826615,
          -0.3590303367803635,
          0.3614445874235547,
          -1.2055462710727947,
          -0.9856711857435858
         ]
        ]
       }
      }
     },
     "ac224db5891d49ccb3b4f75d9a02bba9": {
      "model_module": "bqplot",
      "model_module_version": "^0.4.8",
      "model_name": "PieModel",
      "state": {
       "color": {
        "type": "float",
        "values": [
         -1.3164821799806958,
         0.4648585430954507,
         -0.5195375962345743,
         -0.980970300336094,
         0.6461221456224189,
         0.25497154591963117,
         -0.6487306884758373,
         0.876548248264849,
         -2.2567692245148336,
         0.3193859741666042
        ]
       },
       "display_labels": "inside",
       "display_legend": false,
       "display_values": false,
       "font_size": "12px",
       "font_weight": "normal",
       "interactions": {
        "click": "select",
        "hover": "tooltip"
       },
       "label_color": null,
       "scales": {
        "color": "IPY_MODEL_12a07ac2eaae47d6b8760db16086f7a8"
       },
       "selected": [],
       "selected_style": {
        "opacity": "1",
        "stroke": "white",
        "stroke-width": "2"
       },
       "sizes": {
        "type": "float",
        "values": [
         1.757102018974404,
         0.39757433104693246,
         0.4479420875379694,
         0.4423385763261612,
         1.9079552785856178,
         0.7642486720599395,
         0.686289855138183,
         0.30242941627295106,
         0.21266554767551965,
         0.20643293396384607
        ]
       },
       "tooltip": "IPY_MODEL_93f61cac38d2415c88bc10df0378f7b6",
       "unselected_style": {
        "opacity": "0.2"
       },
       "values_format": ".1f"
      }
     },
     "acacccd7bad54da6983746a12a43da6f": {
      "model_module": "@jupyter-widgets/base",
      "model_module_version": "1.2.0",
      "model_name": "LayoutModel",
      "state": {}
     },
     "acd60b91c49540c69bd5e95e37e27baf": {
      "model_module": "bqplot",
      "model_module_version": "^0.4.8",
      "model_name": "LinearScaleModel",
      "state": {
       "stabilized": false
      }
     },
     "aea2c19be0904a72a12579a8163ec98a": {
      "model_module": "bqplot",
      "model_module_version": "^0.4.8",
      "model_name": "LinesModel",
      "state": {
       "color": {
        "type": null,
        "values": null
       },
       "display_legend": false,
       "fill_colors": [],
       "labels": [
        "C1"
       ],
       "scales": {
        "x": "IPY_MODEL_68f3b5fa608b42ba9a9f7607b490a477",
        "y": "IPY_MODEL_064ebf85b44a40bfb11cad00bae035bf"
       },
       "selected": [],
       "x": {
        "type": "float",
        "values": [
         0,
         1,
         2,
         3,
         4,
         5,
         6,
         7,
         8,
         9
        ]
       },
       "y": {
        "type": "float",
        "values": [
         0.605648520948693,
         1.6977106336373082,
         -0.06506447352859429,
         -0.4088492164847946,
         -1.2021441097446388,
         -1.208657330081865,
         1.6960221681923204,
         0.6777936621718195,
         1.075543499839501,
         -1.0487646934528945
        ]
       }
      }
     },
     "b0b49d8c547d4e608f47b03b35ff93ef": {
      "model_module": "@jupyter-widgets/base",
      "model_module_version": "1.2.0",
      "model_name": "LayoutModel",
      "state": {}
     },
     "b13ed09e5a004074abe19fd363469b6c": {
      "model_module": "@jupyter-widgets/controls",
      "model_module_version": "1.5.0",
      "model_name": "ButtonModel",
      "state": {
       "icon": "legal",
       "layout": "IPY_MODEL_8cc83348a3854b49a5ab4c933c1820cd",
       "style": "IPY_MODEL_1aef3921d62d4c059fb84aa28375d28f"
      }
     },
     "b222704ff36a43abb0e2e3a729cd157b": {
      "model_module": "bqplot",
      "model_module_version": "^0.4.8",
      "model_name": "AxisModel",
      "state": {
       "scale": "IPY_MODEL_dd4facacb8fb46ea9e62d0a568d387d0",
       "side": "bottom",
       "tick_values": {
        "type": null,
        "values": null
       }
      }
     },
     "b30eceb0d9c84943adf0cb65c9e349e5": {
      "model_module": "bqplot",
      "model_module_version": "^0.4.8",
      "model_name": "AxisModel",
      "state": {
       "scale": "IPY_MODEL_6590a2295ddc48a69a027d6509a4784f",
       "side": "bottom",
       "tick_values": {
        "type": null,
        "values": null
       }
      }
     },
     "b43f30ed1d7347d4a44261cf0256dd89": {
      "model_module": "bqplot",
      "model_module_version": "^0.4.8",
      "model_name": "LinearScaleModel",
      "state": {
       "allow_padding": false,
       "max": 1,
       "min": 0,
       "stabilized": false
      }
     },
     "b46efe48027e4d0daa2850b65572eca6": {
      "model_module": "bqplot",
      "model_module_version": "^0.4.8",
      "model_name": "AxisModel",
      "state": {
       "orientation": "vertical",
       "scale": "IPY_MODEL_095408be04dd4b50a76991f732af9388",
       "side": "left",
       "tick_format": "0.2f",
       "tick_values": {
        "type": null,
        "values": null
       }
      }
     },
     "b4d3560ffb74463db593ddd284904e9e": {
      "model_module": "@jupyter-widgets/base",
      "model_module_version": "1.2.0",
      "model_name": "LayoutModel",
      "state": {}
     },
     "b5e23e46868140b6b71e93347b1c8497": {
      "model_module": "bqplot",
      "model_module_version": "^0.4.8",
      "model_name": "FigureModel",
      "state": {
       "_dom_classes": [],
       "layout": "IPY_MODEL_0aebd05546b74a5bb14cbcf377f44c06",
       "marks": [
        "IPY_MODEL_ac224db5891d49ccb3b4f75d9a02bba9"
       ],
       "scale_x": "IPY_MODEL_69bc69ac338d4fff8e1c4ffb18212b2b",
       "scale_y": "IPY_MODEL_bfba329d814842a4b90be70d48eeb4f3"
      }
     },
     "b7aa19e93207425b8952fc08d4809a49": {
      "model_module": "bqplot",
      "model_module_version": "^0.4.8",
      "model_name": "LinearScaleModel",
      "state": {
       "allow_padding": false,
       "max": 1,
       "min": 0,
       "stabilized": false
      }
     },
     "b90b31eabba64dd0897428ce489cca60": {
      "model_module": "bqplot",
      "model_module_version": "^0.4.8",
      "model_name": "ScatterModel",
      "state": {
       "color": {
        "type": null,
        "values": null
       },
       "colors": [
        "dodgerblue"
       ],
       "display_legend": false,
       "interactions": {
        "click": "select"
       },
       "names": {
        "type": null,
        "values": null
       },
       "opacity": {
        "type": null,
        "values": null
       },
       "rotation": {
        "type": null,
        "values": null
       },
       "scales": {
        "x": "IPY_MODEL_272dd4bbff264aa7a1d825d10303b489",
        "y": "IPY_MODEL_6a41c5d6806249b380ebf38579b7b24c"
       },
       "scales_metadata": {
        "color": {
         "dimension": "color"
        },
        "opacity": {
         "dimension": "opacity"
        },
        "rotation": {
         "dimension": "rotation"
        },
        "size": {
         "dimension": "size"
        },
        "skew": {
         "dimension": "skew"
        },
        "x": {
         "dimension": "x",
         "orientation": "horizontal"
        },
        "y": {
         "dimension": "y",
         "orientation": "vertical"
        }
       },
       "selected": [
        1,
        2,
        3
       ],
       "selected_style": {
        "fill": "DarkOrange",
        "opacity": 1,
        "stroke": "Red"
       },
       "size": {
        "type": null,
        "values": null
       },
       "skew": {
        "type": null,
        "values": null
       },
       "unselected_style": {
        "opacity": 0.5
       },
       "x": {
        "type": "float",
        "values": [
         0,
         1,
         2,
         3,
         4,
         5,
         6,
         7,
         8,
         9,
         10,
         11,
         12,
         13,
         14,
         15,
         16,
         17,
         18,
         19
        ]
       },
       "y": {
        "type": "float",
        "values": [
         -0.7651674137818275,
         -0.32970486621104117,
         0.18432806804696872,
         -0.9710181349508774,
         0.1687466240193875,
         -0.5185294903839961,
         0.29031116774525184,
         -0.324634324608792,
         -1.213861994111486,
         0.140649702803294,
         0.9549300654056152,
         -1.8777337841452,
         -1.2774089356815796,
         1.0244529495788217,
         0.30316532080607606,
         0.5489732576337389,
         0.37696463235003996,
         0.6248277583635974,
         0.15149029006989273,
         -1.4345713517489755
        ]
       }
      }
     },
     "b9f37aa2bf774869a2775e9c68616df0": {
      "model_module": "bqplot",
      "model_module_version": "^0.4.8",
      "model_name": "ScatterModel",
      "state": {
       "color": {
        "type": null,
        "values": null
       },
       "colors": [
        "orangered"
       ],
       "display_names": false,
       "labels": [
        "Red"
       ],
       "names": {
        "type": "float",
        "values": [
         100,
         101,
         102,
         103,
         104,
         105,
         106,
         107,
         108,
         109,
         110,
         111,
         112,
         113,
         114,
         115,
         116,
         117,
         118,
         119,
         120,
         121,
         122,
         123,
         124,
         125,
         126,
         127,
         128,
         129,
         130,
         131,
         132,
         133,
         134,
         135,
         136,
         137,
         138,
         139,
         140,
         141,
         142,
         143,
         144,
         145,
         146,
         147,
         148,
         149,
         150,
         151,
         152,
         153,
         154,
         155,
         156,
         157,
         158,
         159,
         160,
         161,
         162,
         163,
         164,
         165,
         166,
         167,
         168,
         169,
         170,
         171,
         172,
         173,
         174,
         175,
         176,
         177,
         178,
         179,
         180,
         181,
         182,
         183,
         184,
         185,
         186,
         187,
         188,
         189,
         190,
         191,
         192,
         193,
         194,
         195,
         196,
         197,
         198,
         199
        ]
       },
       "names_unique": false,
       "opacity": {
        "type": null,
        "values": null
       },
       "rotation": {
        "type": null,
        "values": null
       },
       "scales": {
        "x": "IPY_MODEL_63c56ae1f4214a1ca54eadbb348d07f4",
        "y": "IPY_MODEL_3ff8dfb9c10142858f743ce82fef0426"
       },
       "scales_metadata": {
        "color": {
         "dimension": "color"
        },
        "opacity": {
         "dimension": "opacity"
        },
        "rotation": {
         "dimension": "rotation"
        },
        "size": {
         "dimension": "size"
        },
        "skew": {
         "dimension": "skew"
        },
        "x": {
         "dimension": "x",
         "orientation": "horizontal"
        },
        "y": {
         "dimension": "y",
         "orientation": "vertical"
        }
       },
       "selected": [],
       "size": {
        "type": null,
        "values": null
       },
       "skew": {
        "type": null,
        "values": null
       },
       "tooltip": "IPY_MODEL_2dd5afc23277427ea470a438d3a06057",
       "x": {
        "type": "float",
        "values": [
         0,
         1,
         2,
         3,
         4,
         5,
         6,
         7,
         8,
         9,
         10,
         11,
         12,
         13,
         14,
         15,
         16,
         17,
         18,
         19
        ]
       },
       "y": {
        "type": "float",
        "values": [
         1.0643523583695067,
         -1.4198581661805938,
         1.3561929138165865,
         -1.344647320327166,
         0.5625567586750709,
         -1.8008559414696277,
         1.1961178146993268,
         -1.128174952421375,
         0.9888501161943029,
         2.0462276534793746,
         0.5832837245258093,
         1.297997910666572,
         0.33104299213581834,
         0.030852346544312875,
         1.0653074410144359,
         -1.769554369803948,
         -0.6126574988647482,
         0.4849301593132973,
         1.1331809231156325,
         0.11788324897636616
        ]
       }
      }
     },
     "bb0a75c0885e4537a1993fb40a0247d6": {
      "model_module": "@jupyter-widgets/base",
      "model_module_version": "1.2.0",
      "model_name": "LayoutModel",
      "state": {}
     },
     "bb264edd45b544ec8534f9f3c83a6e93": {
      "model_module": "bqplot",
      "model_module_version": "^0.4.8",
      "model_name": "LinearScaleModel",
      "state": {
       "stabilized": false
      }
     },
     "bca1947c1f2c425f8bf27624414e83ef": {
      "model_module": "bqplot",
      "model_module_version": "^0.4.8",
      "model_name": "LinearScaleModel",
      "state": {
       "allow_padding": false,
       "max": 1,
       "min": 0,
       "stabilized": false
      }
     },
     "bcad71299bd44a87983b2cca4665ff4c": {
      "model_module": "bqplot",
      "model_module_version": "^0.4.8",
      "model_name": "LinearScaleModel",
      "state": {
       "stabilized": false
      }
     },
     "bdba8f99ef4e49b38159a51d6ea8c914": {
      "model_module": "bqplot",
      "model_module_version": "^0.4.8",
      "model_name": "LinearScaleModel",
      "state": {
       "allow_padding": false,
       "max": 1,
       "min": 0,
       "stabilized": false
      }
     },
     "bf1a51a7275f46b5aebb5b2daabddec7": {
      "model_module": "bqplot",
      "model_module_version": "^0.4.8",
      "model_name": "FigureModel",
      "state": {
       "_dom_classes": [],
       "axes": [
        "IPY_MODEL_c6ead6f883544dc59ab2be464c720203",
        "IPY_MODEL_d7933ddcba0846e0bd9a24be43e7250d"
       ],
       "layout": "IPY_MODEL_233a163fd2414206b21d53b9466e9e80",
       "marks": [
        "IPY_MODEL_25c27ebb66274a0d9b002c30c4b43a44"
       ],
       "scale_x": "IPY_MODEL_b43f30ed1d7347d4a44261cf0256dd89",
       "scale_y": "IPY_MODEL_3f523c19206049b0acc99fa9ee41a6ae"
      }
     },
     "bfba329d814842a4b90be70d48eeb4f3": {
      "model_module": "bqplot",
      "model_module_version": "^0.4.8",
      "model_name": "LinearScaleModel",
      "state": {
       "allow_padding": false,
       "max": 1,
       "min": 0,
       "stabilized": false
      }
     },
     "c090dafc93c643d2be53f9b12c0bf8cd": {
      "model_module": "bqplot",
      "model_module_version": "^0.4.8",
      "model_name": "LinearScaleModel",
      "state": {
       "stabilized": false
      }
     },
     "c0cbe444df7c44cc99b31d80599c1a23": {
      "model_module": "@jupyter-widgets/base",
      "model_module_version": "1.2.0",
      "model_name": "LayoutModel",
      "state": {
       "min_width": "125px"
      }
     },
     "c2f55ef354e845eeafb11573b7039a77": {
      "model_module": "bqplot",
      "model_module_version": "^0.4.8",
      "model_name": "LinearScaleModel",
      "state": {
       "allow_padding": false,
       "max": 1,
       "min": 0,
       "stabilized": false
      }
     },
     "c3afd09727bd4dfda019453709471a05": {
      "model_module": "bqplot",
      "model_module_version": "^0.4.8",
      "model_name": "LinearScaleModel",
      "state": {
       "stabilized": false
      }
     },
     "c51e85fffc7f42ada566ce22fc41a6f7": {
      "model_module": "bqplot",
      "model_module_version": "^0.4.8",
      "model_name": "FigureModel",
      "state": {
       "_dom_classes": [],
       "axes": [
        "IPY_MODEL_033ce3213076471ca6e34541f9fa2316",
        "IPY_MODEL_0282c25a388644a7bad88ad7291f983e"
       ],
       "layout": "IPY_MODEL_45b5de5f98024ab9b8dc5c63c4d67074",
       "marks": [
        "IPY_MODEL_d754a0cde3d648cdbf1a5e25411ce054"
       ],
       "scale_x": "IPY_MODEL_bdba8f99ef4e49b38159a51d6ea8c914",
       "scale_y": "IPY_MODEL_f50e75d67bbc47b49f3679cecc2355d2"
      }
     },
     "c529a32ae3bc40f58e2171956ba4d863": {
      "model_module": "@jupyter-widgets/controls",
      "model_module_version": "1.5.0",
      "model_name": "DropdownModel",
      "state": {
       "_options_labels": [
        "First",
        "Second",
        "Third",
        "Fourth"
       ],
       "index": 0,
       "layout": "IPY_MODEL_e0269886936b490bb450f9ae781e2dbb",
       "style": "IPY_MODEL_6fe5ddbb61fd4072bfcc49467eb287b6"
      }
     },
     "c5bfc4db112a4d1d8348ccd7c958cdd9": {
      "model_module": "bqplot",
      "model_module_version": "^0.4.8",
      "model_name": "LinearScaleModel",
      "state": {
       "allow_padding": false,
       "max": 1,
       "min": 0,
       "stabilized": false
      }
     },
     "c6393e5fcd1e49ff9ab00d7df43b8688": {
      "model_module": "bqplot",
      "model_module_version": "^0.4.8",
      "model_name": "LinearScaleModel",
      "state": {
       "allow_padding": false,
       "max": 1,
       "min": 0,
       "stabilized": false
      }
     },
     "c6ead6f883544dc59ab2be464c720203": {
      "model_module": "bqplot",
      "model_module_version": "^0.4.8",
      "model_name": "AxisModel",
      "state": {
       "scale": "IPY_MODEL_7e3673fb984d4aefbe8ada7c13c8b3bf",
       "side": "bottom",
       "tick_format": "0.2f",
       "tick_values": {
        "type": null,
        "values": null
       }
      }
     },
     "c70502fc1c204f71b892d8d843581fe2": {
      "model_module": "bqplot",
      "model_module_version": "^0.4.8",
      "model_name": "TooltipModel",
      "state": {
       "fields": [
        "x",
        "y"
       ],
       "formats": [
        "",
        ".2f"
       ],
       "layout": "IPY_MODEL_17a9cd8884a74610a28353c2ef3aa041"
      }
     },
     "c74a11d8eb884a2c8b148085ba58a95d": {
      "model_module": "@jupyter-widgets/base",
      "model_module_version": "1.2.0",
      "model_name": "LayoutModel",
      "state": {}
     },
     "cb28fde119e54c13ad0b10f37ba4b8f8": {
      "model_module": "@jupyter-widgets/base",
      "model_module_version": "1.2.0",
      "model_name": "LayoutModel",
      "state": {}
     },
     "cc31790d4a1844439f385df0a733e794": {
      "model_module": "bqplot",
      "model_module_version": "^0.4.8",
      "model_name": "AxisModel",
      "state": {
       "orientation": "vertical",
       "scale": "IPY_MODEL_631808180a7342079e312bcb18aeadf7",
       "side": "left",
       "tick_format": "0.2f",
       "tick_values": {
        "type": null,
        "values": null
       }
      }
     },
     "cc3ab8aa044845949a2c220def890d57": {
      "model_module": "bqplot",
      "model_module_version": "^0.4.8",
      "model_name": "LinearScaleModel",
      "state": {
       "stabilized": false
      }
     },
     "ccbfa7036dd44581b2b8d250d605781f": {
      "model_module": "bqplot",
      "model_module_version": "^0.4.8",
      "model_name": "LinearScaleModel",
      "state": {
       "allow_padding": false,
       "max": 1,
       "min": 0,
       "stabilized": false
      }
     },
     "cdaca2048a68445e974cf3a5b00b8c78": {
      "model_module": "bqplot",
      "model_module_version": "^0.4.8",
      "model_name": "LinearScaleModel",
      "state": {
       "allow_padding": false,
       "max": 1,
       "min": 0,
       "stabilized": false
      }
     },
     "cdde5019bb7c4a92837339e3273b99e4": {
      "model_module": "@jupyter-widgets/base",
      "model_module_version": "1.2.0",
      "model_name": "LayoutModel",
      "state": {}
     },
     "cececd9a76684538b41716493146a7b7": {
      "model_module": "bqplot",
      "model_module_version": "^0.4.8",
      "model_name": "LinearScaleModel",
      "state": {
       "stabilized": false
      }
     },
     "cf1a1685208b45be8a7b512432eb18b7": {
      "model_module": "bqplot",
      "model_module_version": "^0.4.8",
      "model_name": "LinearScaleModel",
      "state": {
       "allow_padding": false,
       "max": 1,
       "min": 0,
       "stabilized": false
      }
     },
     "cfeb1334f268450f82bd548d1431f227": {
      "model_module": "bqplot",
      "model_module_version": "^0.4.8",
      "model_name": "AxisModel",
      "state": {
       "orientation": "vertical",
       "scale": "IPY_MODEL_d350271e08bd482ab993a3ad2f0298bd",
       "side": "left",
       "tick_format": "0.2f",
       "tick_values": {
        "type": null,
        "values": null
       }
      }
     },
     "d07dcd51c4da4755b700123e6f9b22b8": {
      "model_module": "bqplot",
      "model_module_version": "^0.4.8",
      "model_name": "AxisModel",
      "state": {
       "orientation": "vertical",
       "scale": "IPY_MODEL_8180ad59d7554a97a44d36e8e2850421",
       "side": "left",
       "tick_format": "0.2f",
       "tick_values": {
        "type": null,
        "values": null
       }
      }
     },
     "d2bfb51853e345ab96e546299ad92cb1": {
      "model_module": "bqplot",
      "model_module_version": "^0.4.8",
      "model_name": "LinearScaleModel",
      "state": {
       "allow_padding": false,
       "max": 1,
       "min": 0,
       "stabilized": false
      }
     },
     "d33d47a238574e0e8c51e75f55543194": {
      "model_module": "bqplot",
      "model_module_version": "^0.4.8",
      "model_name": "AxisModel",
      "state": {
       "orientation": "vertical",
       "scale": "IPY_MODEL_74d6dec8ec3348d38d8497c07af68731",
       "side": "left",
       "tick_format": "0.2f",
       "tick_values": {
        "type": null,
        "values": null
       }
      }
     },
     "d3416e314657456cb833b3c687f4ee72": {
      "model_module": "bqplot",
      "model_module_version": "^0.4.8",
      "model_name": "LinearScaleModel",
      "state": {
       "allow_padding": false,
       "max": 1,
       "min": 0,
       "stabilized": false
      }
     },
     "d350271e08bd482ab993a3ad2f0298bd": {
      "model_module": "bqplot",
      "model_module_version": "^0.4.8",
      "model_name": "LinearScaleModel",
      "state": {
       "stabilized": false
      }
     },
     "d5479523632e4756bfb9864390fe072f": {
      "model_module": "bqplot",
      "model_module_version": "^0.4.8",
      "model_name": "PieModel",
      "state": {
       "color": {
        "type": "float",
        "values": [
         0.4155866390740365,
         -0.7839797929296222,
         0.7787988357781358,
         -0.44366857469696147,
         -0.05194350651588531,
         2.521408460938767,
         1.175117825539896,
         -0.9203884238404583,
         -0.8001603473236732,
         1.011008941199934
        ]
       },
       "display_labels": "inside",
       "display_legend": false,
       "display_values": false,
       "font_size": "12px",
       "font_weight": "normal",
       "interactions": {
        "click": "select",
        "hover": "tooltip"
       },
       "label_color": null,
       "scales": {
        "color": "IPY_MODEL_0674df2ca71046549d1bb6a292ce986d"
       },
       "selected": [],
       "selected_style": {
        "opacity": "1",
        "stroke": "white",
        "stroke-width": "2"
       },
       "sizes": {
        "type": "float",
        "values": [
         0.06258056277432729,
         0.6422517659653404,
         2.501833922420176,
         0.6122786535078999,
         0.1275592541005143,
         0.8604605536864295,
         0.6991167345372015,
         1.5576100900759164,
         0.12712079099830667,
         1.3546222078272054
        ]
       },
       "tooltip": "IPY_MODEL_ddd4fed1e52942f7b54ecf40072989dd",
       "unselected_style": {
        "opacity": "0.2"
       },
       "values_format": ".1f"
      }
     },
     "d7040cd3084f492f981f0afb450faba1": {
      "model_module": "bqplot",
      "model_module_version": "^0.4.8",
      "model_name": "AxisModel",
      "state": {
       "orientation": "vertical",
       "scale": "IPY_MODEL_4c29029a1d4a46a4ae99924324cde9d8",
       "side": "left",
       "tick_format": "0.2f",
       "tick_values": {
        "type": null,
        "values": null
       }
      }
     },
     "d754a0cde3d648cdbf1a5e25411ce054": {
      "model_module": "bqplot",
      "model_module_version": "^0.4.8",
      "model_name": "BarsModel",
      "state": {
       "color": {
        "type": null,
        "values": null
       },
       "colors": [
        "steelblue"
       ],
       "interactions": {
        "click": "tooltip"
       },
       "labels": [
        "Level 1",
        "Level 2"
       ],
       "scales": {
        "x": "IPY_MODEL_42608b51d38240c592865f783da726eb",
        "y": "IPY_MODEL_bcad71299bd44a87983b2cca4665ff4c"
       },
       "selected": [],
       "selected_style": {
        "fill": "red",
        "stroke": "orange"
       },
       "tooltip": "IPY_MODEL_c70502fc1c204f71b892d8d843581fe2",
       "type": "grouped",
       "x": {
        "type": "float",
        "values": [
         0,
         1,
         2,
         3,
         4,
         5,
         6,
         7,
         8,
         9
        ]
       },
       "y": {
        "type": "float",
        "values": [
         [
          1.6147535354958227,
          -1.6345898771925873,
          1.6010927747972683,
          -1.980040597916553,
          2.1148354246633985,
          0.08430898236548066,
          -0.0020939114479227006,
          1.3203244736717152,
          0.26454824309443437,
          0.29238842335902854
         ],
         [
          0.11222162821945927,
          0.2893127023145144,
          -1.1164184307208593,
          0.267600888111082,
          -0.281132450329847,
          -0.819335573886993,
          0.43392888806024543,
          0.7903064428123248,
          0.2734841881734143,
          -0.8807825923672971
         ]
        ]
       }
      }
     },
     "d7933ddcba0846e0bd9a24be43e7250d": {
      "model_module": "bqplot",
      "model_module_version": "^0.4.8",
      "model_name": "AxisModel",
      "state": {
       "orientation": "vertical",
       "scale": "IPY_MODEL_a2c9ae5391154253a52201555bd0628f",
       "side": "left",
       "tick_format": "0.2f",
       "tick_values": {
        "type": null,
        "values": null
       }
      }
     },
     "d7c0adf8b7e74c18b8e06d3dcd03d051": {
      "model_module": "bqplot",
      "model_module_version": "^0.4.8",
      "model_name": "AxisModel",
      "state": {
       "orientation": "vertical",
       "scale": "IPY_MODEL_6a41c5d6806249b380ebf38579b7b24c",
       "side": "left",
       "tick_format": "0.2f",
       "tick_values": {
        "type": null,
        "values": null
       }
      }
     },
     "d9928961b0bc4abfa1dde4fbceed688a": {
      "model_module": "bqplot",
      "model_module_version": "^0.4.8",
      "model_name": "LinearScaleModel",
      "state": {
       "allow_padding": false,
       "max": 1,
       "min": 0,
       "stabilized": false
      }
     },
     "d9b847f463c4483e90ca1fd837bfccf5": {
      "model_module": "@jupyter-widgets/base",
      "model_module_version": "1.2.0",
      "model_name": "LayoutModel",
      "state": {
       "min_width": "600px"
      }
     },
     "d9b86d8b818346b1a9fb22da915ded27": {
      "model_module": "bqplot",
      "model_module_version": "^0.4.8",
      "model_name": "LinearScaleModel",
      "state": {
       "allow_padding": false,
       "max": 1,
       "min": 0,
       "stabilized": false
      }
     },
     "db88dad7f00d4fa6bdb09bbbcaae8dd2": {
      "model_module": "bqplot",
      "model_module_version": "^0.4.8",
      "model_name": "LinearScaleModel",
      "state": {
       "stabilized": false
      }
     },
     "db9033bdbd5847bdb32254a22a620dc0": {
      "model_module": "bqplot",
      "model_module_version": "^0.4.8",
      "model_name": "AxisModel",
      "state": {
       "orientation": "vertical",
       "scale": "IPY_MODEL_95bf13699b8f41a6bd8a8f4f247b8e75",
       "side": "left",
       "tick_format": "0.2f",
       "tick_values": {
        "type": null,
        "values": null
       }
      }
     },
     "dd2617b99218402bbfff53e1a7579562": {
      "model_module": "bqplot",
      "model_module_version": "^0.4.8",
      "model_name": "ScatterModel",
      "state": {
       "color": {
        "type": null,
        "values": null
       },
       "colors": [
        "dodgerblue"
       ],
       "display_legend": false,
       "interactions": {
        "click": "select"
       },
       "names": {
        "type": null,
        "values": null
       },
       "opacity": {
        "type": null,
        "values": null
       },
       "rotation": {
        "type": null,
        "values": null
       },
       "scales": {
        "x": "IPY_MODEL_6590a2295ddc48a69a027d6509a4784f",
        "y": "IPY_MODEL_9a3d537cee594ec187dc571e2aa73633"
       },
       "scales_metadata": {
        "color": {
         "dimension": "color"
        },
        "opacity": {
         "dimension": "opacity"
        },
        "rotation": {
         "dimension": "rotation"
        },
        "size": {
         "dimension": "size"
        },
        "skew": {
         "dimension": "skew"
        },
        "x": {
         "dimension": "x",
         "orientation": "horizontal"
        },
        "y": {
         "dimension": "y",
         "orientation": "vertical"
        }
       },
       "selected": [
        3,
        5
       ],
       "selected_style": {
        "fill": "DarkOrange",
        "opacity": 1,
        "stroke": "Red"
       },
       "size": {
        "type": null,
        "values": null
       },
       "skew": {
        "type": null,
        "values": null
       },
       "unselected_style": {
        "opacity": 0.5
       },
       "x": {
        "type": "float",
        "values": [
         0,
         1,
         2,
         3,
         4,
         5,
         6,
         7,
         8,
         9,
         10,
         11,
         12,
         13,
         14,
         15,
         16,
         17,
         18,
         19
        ]
       },
       "y": {
        "type": "float",
        "values": [
         -0.018982432460434726,
         -0.28674593724396524,
         0.038002535520408616,
         0.8018121992393443,
         -0.2546246388866956,
         0.5399735630172721,
         -0.24359584002141046,
         -1.2015043586795093,
         1.0554861895885885,
         0.03422818021033171,
         0.6802107627860686,
         -0.4929737695134977,
         0.4937543237897577,
         -0.8506993504381399,
         -0.04618519646627608,
         0.3182444388692857,
         1.8904209468276165,
         0.9260247950319916,
         -0.7965665429687218,
         1.0546422538464768
        ]
       }
      }
     },
     "dd4facacb8fb46ea9e62d0a568d387d0": {
      "model_module": "bqplot",
      "model_module_version": "^0.4.8",
      "model_name": "LinearScaleModel",
      "state": {
       "stabilized": false
      }
     },
     "ddd4fed1e52942f7b54ecf40072989dd": {
      "model_module": "bqplot",
      "model_module_version": "^0.4.8",
      "model_name": "TooltipModel",
      "state": {
       "fields": [
        "size",
        "index",
        "color"
       ],
       "formats": [
        "0.2f",
        "",
        "0.2f"
       ],
       "layout": "IPY_MODEL_acacccd7bad54da6983746a12a43da6f"
      }
     },
     "de0340f54f124d0ab980df8031d839a0": {
      "model_module": "bqplot",
      "model_module_version": "^0.4.8",
      "model_name": "AxisModel",
      "state": {
       "scale": "IPY_MODEL_0c5066d528fe45899b7675bbcd73193d",
       "side": "bottom",
       "tick_values": {
        "type": null,
        "values": null
       }
      }
     },
     "dee98483bba343c2a5252d271cbaaf36": {
      "model_module": "bqplot",
      "model_module_version": "^0.4.8",
      "model_name": "AxisModel",
      "state": {
       "scale": "IPY_MODEL_cc3ab8aa044845949a2c220def890d57",
       "side": "bottom",
       "tick_format": "0.2f",
       "tick_values": {
        "type": null,
        "values": null
       }
      }
     },
     "df6591962b1c4ccca89b6b5463b29d2d": {
      "model_module": "bqplot",
      "model_module_version": "^0.4.8",
      "model_name": "LinearScaleModel",
      "state": {
       "stabilized": false
      }
     },
     "dffc0c40376d49959a32b50defb2d969": {
      "model_module": "bqplot",
      "model_module_version": "^0.4.8",
      "model_name": "LinearScaleModel",
      "state": {
       "allow_padding": false,
       "max": 1,
       "min": 0,
       "stabilized": false
      }
     },
     "e0269886936b490bb450f9ae781e2dbb": {
      "model_module": "@jupyter-widgets/base",
      "model_module_version": "1.2.0",
      "model_name": "LayoutModel",
      "state": {}
     },
     "e1d4429c8eb846368077cb14dd9e465a": {
      "model_module": "bqplot",
      "model_module_version": "^0.4.8",
      "model_name": "AxisModel",
      "state": {
       "orientation": "vertical",
       "scale": "IPY_MODEL_acd60b91c49540c69bd5e95e37e27baf",
       "side": "left",
       "tick_format": "0.2f",
       "tick_values": {
        "type": null,
        "values": null
       }
      }
     },
     "e1ffd980f4d240a3a760727623f68adf": {
      "model_module": "bqplot",
      "model_module_version": "^0.4.8",
      "model_name": "AxisModel",
      "state": {
       "orientation": "vertical",
       "scale": "IPY_MODEL_589d553b753f47509730343ebd3c5708",
       "side": "left",
       "tick_format": "0.2f",
       "tick_values": {
        "type": null,
        "values": null
       }
      }
     },
     "e2231e88c5cd48039cac81bebc075045": {
      "model_module": "@jupyter-widgets/base",
      "model_module_version": "1.2.0",
      "model_name": "LayoutModel",
      "state": {
       "min_width": "600px"
      }
     },
     "e2292efac0ad4aa78d1974f3cea905c4": {
      "model_module": "bqplot",
      "model_module_version": "^0.4.8",
      "model_name": "LinearScaleModel",
      "state": {
       "stabilized": false
      }
     },
     "e2917767ab15487c91c76786b46a89fd": {
      "model_module": "bqplot",
      "model_module_version": "^0.4.8",
      "model_name": "AxisModel",
      "state": {
       "scale": "IPY_MODEL_c3afd09727bd4dfda019453709471a05",
       "side": "bottom",
       "tick_values": {
        "type": null,
        "values": null
       }
      }
     },
     "e2d784b7203349ee8d0204ff9399364d": {
      "model_module": "bqplot",
      "model_module_version": "^0.4.8",
      "model_name": "AxisModel",
      "state": {
       "scale": "IPY_MODEL_11959759dcba4d4894fe6b2ddef88f9b",
       "side": "bottom",
       "tick_values": {
        "type": null,
        "values": null
       }
      }
     },
     "e489ca3871924ca08b1107aed137a7ea": {
      "model_module": "bqplot",
      "model_module_version": "^0.4.8",
      "model_name": "LinearScaleModel",
      "state": {
       "allow_padding": false,
       "max": 1,
       "min": 0,
       "stabilized": false
      }
     },
     "e4eefefe1cf241bd8ebe0486629685ac": {
      "model_module": "bqplot",
      "model_module_version": "^0.4.8",
      "model_name": "AxisModel",
      "state": {
       "scale": "IPY_MODEL_899ad56bc48641b7b409a73b89759e4c",
       "side": "bottom",
       "tick_values": {
        "type": null,
        "values": null
       }
      }
     },
     "e4efee6a9e234b0b81cbd1c417437681": {
      "model_module": "@jupyter-widgets/base",
      "model_module_version": "1.2.0",
      "model_name": "LayoutModel",
      "state": {
       "min_width": "125px"
      }
     },
     "e5361b3b0b484041b276f8536c7bd2f9": {
      "model_module": "bqplot",
      "model_module_version": "^0.4.8",
      "model_name": "ScatterModel",
      "state": {
       "color": {
        "type": null,
        "values": null
       },
       "colors": [
        "dodgerblue"
       ],
       "display_names": false,
       "interactions": {
        "click": "tooltip"
       },
       "labels": [
        "Blue"
       ],
       "names": {
        "type": "float",
        "values": [
         100,
         101,
         102,
         103,
         104,
         105,
         106,
         107,
         108,
         109,
         110,
         111,
         112,
         113,
         114,
         115,
         116,
         117,
         118,
         119,
         120,
         121,
         122,
         123,
         124,
         125,
         126,
         127,
         128,
         129,
         130,
         131,
         132,
         133,
         134,
         135,
         136,
         137,
         138,
         139,
         140,
         141,
         142,
         143,
         144,
         145,
         146,
         147,
         148,
         149,
         150,
         151,
         152,
         153,
         154,
         155,
         156,
         157,
         158,
         159,
         160,
         161,
         162,
         163,
         164,
         165,
         166,
         167,
         168,
         169,
         170,
         171,
         172,
         173,
         174,
         175,
         176,
         177,
         178,
         179,
         180,
         181,
         182,
         183,
         184,
         185,
         186,
         187,
         188,
         189,
         190,
         191,
         192,
         193,
         194,
         195,
         196,
         197,
         198,
         199
        ]
       },
       "names_unique": false,
       "opacity": {
        "type": null,
        "values": null
       },
       "rotation": {
        "type": null,
        "values": null
       },
       "scales": {
        "x": "IPY_MODEL_bb264edd45b544ec8534f9f3c83a6e93",
        "y": "IPY_MODEL_cececd9a76684538b41716493146a7b7"
       },
       "scales_metadata": {
        "color": {
         "dimension": "color"
        },
        "opacity": {
         "dimension": "opacity"
        },
        "rotation": {
         "dimension": "rotation"
        },
        "size": {
         "dimension": "size"
        },
        "skew": {
         "dimension": "skew"
        },
        "x": {
         "dimension": "x",
         "orientation": "horizontal"
        },
        "y": {
         "dimension": "y",
         "orientation": "vertical"
        }
       },
       "selected": [],
       "size": {
        "type": null,
        "values": null
       },
       "skew": {
        "type": null,
        "values": null
       },
       "tooltip": "IPY_MODEL_3e24987273564d9badd1c610ebb50214",
       "x": {
        "type": "float",
        "values": [
         0,
         1,
         2,
         3,
         4,
         5,
         6,
         7,
         8,
         9,
         10,
         11,
         12,
         13,
         14,
         15,
         16,
         17,
         18,
         19
        ]
       },
       "y": {
        "type": "float",
        "values": [
         0.24771184693741036,
         0.26747021044660463,
         -2.6421791074063106,
         -1.8262970748559233,
         0.9552201138926382,
         -0.17231262713685813,
         -1.0637383853280595,
         1.2826628799940012,
         -0.8266605467364175,
         0.39914939207034866,
         -1.2580671206618637,
         -0.08877874848793917,
         0.29167041337920213,
         1.1029181257750102,
         0.11142794463501274,
         -1.5001670508431053,
         -0.6708345639391545,
         1.8047338457189352,
         1.2997248186036081,
         -1.6591376831117035
        ]
       }
      }
     },
     "e62964ae84cd40c190f2d15cea110254": {
      "model_module": "bqplot",
      "model_module_version": "^0.4.8",
      "model_name": "TooltipModel",
      "state": {
       "fields": [
        "name",
        "index"
       ],
       "formats": [
        "",
        ".2f"
       ],
       "labels": [
        "id",
        "line_num"
       ],
       "layout": "IPY_MODEL_936330a5e7264e8d8a179df17d3e2459"
      }
     },
     "ea9ef11b19b94813bb322876934913b9": {
      "model_module": "bqplot",
      "model_module_version": "^0.4.8",
      "model_name": "TooltipModel",
      "state": {
       "fields": [
        "x",
        "y"
       ],
       "formats": [
        "",
        ".2f"
       ],
       "layout": "IPY_MODEL_f672046b04854cea913cd4936eda5443"
      }
     },
     "ea9f8d7bf0264db4a4584b77a488aa31": {
      "model_module": "bqplot",
      "model_module_version": "^0.4.8",
      "model_name": "LinearScaleModel",
      "state": {
       "stabilized": false
      }
     },
     "edd34af4e8e74d0a9850f74d3d9eff42": {
      "model_module": "bqplot",
      "model_module_version": "^0.4.8",
      "model_name": "AxisModel",
      "state": {
       "scale": "IPY_MODEL_a265f2210f584db9917b22373cadccd1",
       "side": "bottom",
       "tick_values": {
        "type": null,
        "values": null
       }
      }
     },
     "ede885ea33e44cd5a3091bb078238323": {
      "model_module": "bqplot",
      "model_module_version": "^0.4.8",
      "model_name": "LinearScaleModel",
      "state": {
       "allow_padding": false,
       "max": 1,
       "min": 0,
       "stabilized": false
      }
     },
     "ef5e1c3635d04a74a86057d50102215f": {
      "model_module": "bqplot",
      "model_module_version": "^0.4.8",
      "model_name": "LinearScaleModel",
      "state": {
       "allow_padding": false,
       "max": 1,
       "min": 0,
       "stabilized": false
      }
     },
     "f1061c720ad74a79bb063fc0e763d35d": {
      "model_module": "bqplot",
      "model_module_version": "^0.4.8",
      "model_name": "AxisModel",
      "state": {
       "orientation": "vertical",
       "scale": "IPY_MODEL_a8412a92ba3046c4ab529a69031845a8",
       "side": "left",
       "tick_format": "0.2f",
       "tick_values": {
        "type": null,
        "values": null
       }
      }
     },
     "f146abb9714d41c4bf58faea28346408": {
      "model_module": "@jupyter-widgets/base",
      "model_module_version": "1.2.0",
      "model_name": "LayoutModel",
      "state": {}
     },
     "f317b84ffbd54b44a9fd96c6eea9e9da": {
      "model_module": "bqplot",
      "model_module_version": "^0.4.8",
      "model_name": "AxisModel",
      "state": {
       "scale": "IPY_MODEL_34ed5f1c9af24cc78154a6a43e1c4e27",
       "side": "bottom",
       "tick_format": "0.2f",
       "tick_values": {
        "type": null,
        "values": null
       }
      }
     },
     "f4023159bb83447caaef9c84e8725b3c": {
      "model_module": "bqplot",
      "model_module_version": "^0.4.8",
      "model_name": "BarsModel",
      "state": {
       "color": {
        "type": null,
        "values": null
       },
       "colors": [
        "steelblue"
       ],
       "interactions": {
        "click": "tooltip"
       },
       "labels": [
        "Level 1",
        "Level 2"
       ],
       "scales": {
        "x": "IPY_MODEL_43726fca84ac41f984e5f5a2d808428e",
        "y": "IPY_MODEL_589d553b753f47509730343ebd3c5708"
       },
       "selected": [],
       "selected_style": {
        "fill": "red",
        "stroke": "orange"
       },
       "tooltip": "IPY_MODEL_975281586ed840bd941ea2a9aa887013",
       "type": "grouped",
       "x": {
        "type": "float",
        "values": [
         0,
         1,
         2,
         3,
         4,
         5,
         6,
         7,
         8,
         9
        ]
       },
       "y": {
        "type": "float",
        "values": [
         [
          0.13986201550525573,
          0.05260254899898304,
          0.3107517587474027,
          0.06187930597005198,
          0.08261634608874042,
          -1.0138809304678902,
          -1.4156671768447804,
          -0.5861731662311056,
          0.5204967242827111,
          1.284481344956466
         ],
         [
          -0.6751361161756203,
          -0.077654748335282,
          1.013630491077872,
          -1.1990761281094353,
          0.28669992399036126,
          -0.11176573567781964,
          -0.25467917291563674,
          0.8910299477507755,
          0.21412421249044664,
          1.3872886257292854
         ]
        ]
       }
      }
     },
     "f50e75d67bbc47b49f3679cecc2355d2": {
      "model_module": "bqplot",
      "model_module_version": "^0.4.8",
      "model_name": "LinearScaleModel",
      "state": {
       "allow_padding": false,
       "max": 1,
       "min": 0,
       "stabilized": false
      }
     },
     "f672046b04854cea913cd4936eda5443": {
      "model_module": "@jupyter-widgets/base",
      "model_module_version": "1.2.0",
      "model_name": "LayoutModel",
      "state": {}
     },
     "f828550cf7304631812e469d6c1569d4": {
      "model_module": "bqplot",
      "model_module_version": "^0.4.8",
      "model_name": "AxisModel",
      "state": {
       "orientation": "vertical",
       "scale": "IPY_MODEL_3ff8dfb9c10142858f743ce82fef0426",
       "side": "left",
       "tick_format": "0.2f",
       "tick_values": {
        "type": null,
        "values": null
       }
      }
     },
     "f8789f30367d49c88f17a973ec7d5872": {
      "model_module": "bqplot",
      "model_module_version": "^0.4.8",
      "model_name": "ScatterModel",
      "state": {
       "color": {
        "type": null,
        "values": null
       },
       "colors": [
        "dodgerblue"
       ],
       "display_names": false,
       "interactions": {
        "click": "tooltip"
       },
       "labels": [
        "Blue"
       ],
       "names": {
        "type": "float",
        "values": [
         100,
         101,
         102,
         103,
         104,
         105,
         106,
         107,
         108,
         109,
         110,
         111,
         112,
         113,
         114,
         115,
         116,
         117,
         118,
         119,
         120,
         121,
         122,
         123,
         124,
         125,
         126,
         127,
         128,
         129,
         130,
         131,
         132,
         133,
         134,
         135,
         136,
         137,
         138,
         139,
         140,
         141,
         142,
         143,
         144,
         145,
         146,
         147,
         148,
         149,
         150,
         151,
         152,
         153,
         154,
         155,
         156,
         157,
         158,
         159,
         160,
         161,
         162,
         163,
         164,
         165,
         166,
         167,
         168,
         169,
         170,
         171,
         172,
         173,
         174,
         175,
         176,
         177,
         178,
         179,
         180,
         181,
         182,
         183,
         184,
         185,
         186,
         187,
         188,
         189,
         190,
         191,
         192,
         193,
         194,
         195,
         196,
         197,
         198,
         199
        ]
       },
       "names_unique": false,
       "opacity": {
        "type": null,
        "values": null
       },
       "rotation": {
        "type": null,
        "values": null
       },
       "scales": {
        "x": "IPY_MODEL_c3afd09727bd4dfda019453709471a05",
        "y": "IPY_MODEL_d350271e08bd482ab993a3ad2f0298bd"
       },
       "scales_metadata": {
        "color": {
         "dimension": "color"
        },
        "opacity": {
         "dimension": "opacity"
        },
        "rotation": {
         "dimension": "rotation"
        },
        "size": {
         "dimension": "size"
        },
        "skew": {
         "dimension": "skew"
        },
        "x": {
         "dimension": "x",
         "orientation": "horizontal"
        },
        "y": {
         "dimension": "y",
         "orientation": "vertical"
        }
       },
       "selected": [],
       "size": {
        "type": null,
        "values": null
       },
       "skew": {
        "type": null,
        "values": null
       },
       "tooltip": "IPY_MODEL_91465afbfaca4eab8addf89e89579726",
       "x": {
        "type": "float",
        "values": [
         0,
         1,
         2,
         3,
         4,
         5,
         6,
         7,
         8,
         9,
         10,
         11,
         12,
         13,
         14,
         15,
         16,
         17,
         18,
         19
        ]
       },
       "y": {
        "type": "float",
        "values": [
         -0.8947307866960628,
         0.044256389487655284,
         -0.6339522526783854,
         -0.5788583393737342,
         -0.01514244353518556,
         -1.2985296126120403,
         -0.8990321059815395,
         0.5989682378208493,
         0.04360563074200838,
         -0.7596696343973824,
         -0.746173980771683,
         -0.6415608721069054,
         1.1064075897617343,
         -0.691448359165125,
         0.24089589574615278,
         0.3483080614348637,
         0.4302825875869545,
         0.8673379401929451,
         -1.0777657397816585,
         0.2941323680927959
        ]
       }
      }
     },
     "fb7f63a0592649f09a3d4fd6881adaee": {
      "model_module": "bqplot",
      "model_module_version": "^0.4.8",
      "model_name": "ColorScaleModel",
      "state": {
       "_model_name": "ColorScaleModel",
       "_view_name": "ColorScale",
       "colors": [],
       "extrapolation": "constant",
       "mid": null,
       "scale_type": "linear",
       "scheme": "Reds"
      }
     },
     "fc2f4c9d686e4c3ca8598e6c4c442cca": {
      "model_module": "bqplot",
      "model_module_version": "^0.4.8",
      "model_name": "FigureModel",
      "state": {
       "_dom_classes": [],
       "axes": [
        "IPY_MODEL_e2917767ab15487c91c76786b46a89fd",
        "IPY_MODEL_cfeb1334f268450f82bd548d1431f227"
       ],
       "layout": "IPY_MODEL_cb28fde119e54c13ad0b10f37ba4b8f8",
       "marks": [
        "IPY_MODEL_f8789f30367d49c88f17a973ec7d5872",
        "IPY_MODEL_7b9a10a13aea4e3c81ffcb935a350991"
       ],
       "scale_x": "IPY_MODEL_cf1a1685208b45be8a7b512432eb18b7",
       "scale_y": "IPY_MODEL_0c5a79c8ddc4448b82aa2772b23d03ee"
      }
     }
    },
    "version_major": 2,
    "version_minor": 0
   }
  }
 },
 "nbformat": 4,
 "nbformat_minor": 1
}
