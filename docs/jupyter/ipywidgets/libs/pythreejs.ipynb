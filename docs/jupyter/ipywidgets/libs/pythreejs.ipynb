{
 "cells": [
  {
   "cell_type": "markdown",
   "metadata": {},
   "source": [
    "# pythreejs\n",
    "\n",
    "Eine Python/[ThreeJS](https://threejs.org/)-Bridge, die die Jupyter-Widget-Infrastruktur verwendet."
   ]
  },
  {
   "cell_type": "markdown",
   "metadata": {},
   "source": [
    "## Beispiele"
   ]
  },
  {
   "cell_type": "markdown",
   "metadata": {},
   "source": [
    "### Animation"
   ]
  },
  {
   "cell_type": "code",
   "execution_count": 1,
   "metadata": {},
   "outputs": [],
   "source": [
    "from pythreejs import *\n",
    "import ipywidgets\n",
    "from IPython.display import display"
   ]
  },
  {
   "cell_type": "code",
   "execution_count": 2,
   "metadata": {},
   "outputs": [],
   "source": [
    "view_width = 600\n",
    "view_height = 400"
   ]
  },
  {
   "cell_type": "code",
   "execution_count": 3,
   "metadata": {},
   "outputs": [],
   "source": [
    "sphere = Mesh(\n",
    "    SphereBufferGeometry(1, 32, 16),\n",
    "    MeshStandardMaterial(color='red')\n",
    ")"
   ]
  },
  {
   "cell_type": "code",
   "execution_count": 4,
   "metadata": {},
   "outputs": [],
   "source": [
    "cube = Mesh(\n",
    "    BoxBufferGeometry(1, 1, 1),\n",
    "    MeshPhysicalMaterial(color='green'),\n",
    "    position=[2, 0, 4]\n",
    ")"
   ]
  },
  {
   "cell_type": "code",
   "execution_count": 5,
   "metadata": {},
   "outputs": [],
   "source": [
    "camera = PerspectiveCamera( position=[10, 6, 10], aspect=view_width/view_height)\n",
    "key_light = DirectionalLight(position=[0, 10, 10])\n",
    "ambient_light = AmbientLight()"
   ]
  },
  {
   "cell_type": "code",
   "execution_count": 6,
   "metadata": {},
   "outputs": [],
   "source": [
    "positon_track = VectorKeyframeTrack(name='.position',\n",
    "    times=[0, 2, 5],\n",
    "    values=[10, 6, 10,\n",
    "            6.3, 3.78, 6.3,\n",
    "            -2.98, 0.84, 9.2,\n",
    "           ])\n",
    "rotation_track = QuaternionKeyframeTrack(name='.quaternion',\n",
    "    times=[0, 2, 5],\n",
    "    values=[-0.184, 0.375, 0.0762, 0.905,\n",
    "            -0.184, 0.375, 0.0762, 0.905,\n",
    "            -0.0430, -0.156, -0.00681, 0.987,\n",
    "           ])"
   ]
  },
  {
   "cell_type": "code",
   "execution_count": 7,
   "metadata": {},
   "outputs": [],
   "source": [
    "camera_clip = AnimationClip(tracks=[positon_track, rotation_track])\n",
    "camera_action = AnimationAction(AnimationMixer(camera), camera_clip, camera)"
   ]
  },
  {
   "cell_type": "code",
   "execution_count": 8,
   "metadata": {},
   "outputs": [],
   "source": [
    "scene = Scene(children=[sphere, cube, camera, key_light, ambient_light])\n",
    "controller = OrbitControls(controlling=camera)\n",
    "renderer = Renderer(camera=camera, scene=scene, controls=[controller],\n",
    "                    width=view_width, height=view_height)"
   ]
  },
  {
   "cell_type": "code",
   "execution_count": 9,
   "metadata": {},
   "outputs": [
    {
     "data": {
      "application/vnd.jupyter.widget-view+json": {
       "model_id": "85631f162b444a42b08913b64ff89154",
       "version_major": 2,
       "version_minor": 0
      },
      "text/plain": [
       "Renderer(camera=PerspectiveCamera(aspect=1.5, position=(10.0, 6.0, 10.0), projectionMatrix=(1.4296712803397054…"
      ]
     },
     "metadata": {},
     "output_type": "display_data"
    }
   ],
   "source": [
    "renderer"
   ]
  },
  {
   "cell_type": "code",
   "execution_count": 10,
   "metadata": {},
   "outputs": [
    {
     "data": {
      "application/vnd.jupyter.widget-view+json": {
       "model_id": "e1af173acb6a47bd98766b54b85fe3a7",
       "version_major": 2,
       "version_minor": 0
      },
      "text/plain": [
       "AnimationAction(clip=AnimationClip(duration=5.0, tracks=(VectorKeyframeTrack(name='.position', times=array([0,…"
      ]
     },
     "metadata": {},
     "output_type": "display_data"
    }
   ],
   "source": [
    "camera_action"
   ]
  }
 ],
 "metadata": {
  "kernelspec": {
   "display_name": "Python 3",
   "language": "python",
   "name": "python3"
  },
  "language_info": {
   "codemirror_mode": {
    "name": "ipython",
    "version": 3
   },
   "file_extension": ".py",
   "mimetype": "text/x-python",
   "name": "python",
   "nbconvert_exporter": "python",
   "pygments_lexer": "ipython3",
   "version": "3.7.0"
  },
  "latex_envs": {
   "LaTeX_envs_menu_present": true,
   "autoclose": false,
   "autocomplete": true,
   "bibliofile": "biblio.bib",
   "cite_by": "apalike",
   "current_citInitial": 1,
   "eqLabelWithNumbers": true,
   "eqNumInitial": 1,
   "hotkeys": {
    "equation": "Ctrl-E",
    "itemize": "Ctrl-I"
   },
   "labels_anchors": false,
   "latex_user_defs": false,
   "report_style_numbering": false,
   "user_envs_cfg": false
  },
  "widgets": {
   "application/vnd.jupyter.widget-state+json": {
    "state": {
     "00e873a3ca6e46ae8c39fe8d02b8bc6e": {
      "model_module": "jupyter-threejs",
      "model_module_version": "^2.0.3",
      "model_name": "RendererModel",
      "state": {
       "camera": "IPY_MODEL_0d3a5517635f4048adf449bd4f878c52",
       "controls": [
        "IPY_MODEL_fa693833cc6743ddacb59c67e646515c"
       ],
       "layout": "IPY_MODEL_bc80ee7b4b1142c080b5580c0a449de0",
       "scene": "IPY_MODEL_15f0640997c849dab9679cf1d59eaaf2",
       "shadowMap": "IPY_MODEL_a525911ad7834afcaa59d9eb91ad6e15"
      }
     },
     "02bfb30cf374447d93d683d4f3d4286d": {
      "model_module": "jupyter-threejs",
      "model_module_version": "^2.0.3",
      "model_name": "PerspectiveCameraModel",
      "state": {
       "_view_module": null,
       "_view_module_version": "",
       "children": [
        "IPY_MODEL_653e884ab98242998d91b2224ad05873"
       ],
       "matrix": [
        1,
        0,
        0,
        0,
        0,
        1,
        0,
        0,
        0,
        0,
        1,
        0,
        0,
        5,
        5,
        1
       ],
       "position": [
        0,
        5,
        5
       ],
       "projectionMatrix": [
        2.1445069205095586,
        0,
        0,
        0,
        0,
        2.1445069205095586,
        0,
        0,
        0,
        0,
        -1.00010000500025,
        -1,
        0,
        0,
        -0.200010000500025,
        0
       ]
      }
     },
     "02db62f7-3875-499e-92e2-13c1f906ab42": {
      "model_module": "jupyter-threejs",
      "model_module_version": "^2.0.3",
      "model_name": "Object3DModel",
      "state": {}
     },
     "039a3b9dc0c8474abbab202f92685131": {
      "model_module": "jupyter-threejs",
      "model_module_version": "^2.0.3",
      "model_name": "WebGLShadowMapModel",
      "state": {
       "_view_module": null,
       "_view_module_version": ""
      }
     },
     "03c2cd4c58694051ac551fb95413389a": {
      "model_module": "jupyter-threejs",
      "model_module_version": "^2.0.3",
      "model_name": "MeshModel",
      "state": {
       "_view_module": null,
       "_view_module_version": "",
       "geometry": "IPY_MODEL_9b27ca2511644b0baabfe9cbfc9204ab",
       "material": "IPY_MODEL_54c7255372f64966971d5dd5ffc6f7a9",
       "matrix": [
        1,
        0,
        0,
        0,
        0,
        1,
        0,
        0,
        0,
        0,
        1,
        0,
        2,
        1,
        0,
        1
       ],
       "morphTargetInfluences": [],
       "position": [
        2,
        1,
        0
       ]
      }
     },
     "04b3f4cc7e62448f909d392992ed8846": {
      "model_module": "jupyter-threejs",
      "model_module_version": "^2.0.3",
      "model_name": "PerspectiveCameraModel",
      "state": {
       "_view_module": null,
       "_view_module_version": "",
       "children": [
        "IPY_MODEL_2653dc1304914a1488face780256f9bd"
       ],
       "matrix": [
        1,
        0,
        0,
        0,
        0,
        1,
        0,
        0,
        0,
        0,
        1,
        0,
        0,
        5,
        5,
        1
       ],
       "position": [
        0,
        5.263157894736781,
        5.263157894736775
       ],
       "projectionMatrix": [
        2.1445069205095586,
        0,
        0,
        0,
        0,
        2.1445069205095586,
        0,
        0,
        0,
        0,
        -1.00010000500025,
        -1,
        0,
        0,
        -0.200010000500025,
        0
       ],
       "quaternion": [
        -0.38268343236509,
        0,
        0,
        0.9238795325112867
       ],
       "rotation": [
        -0.7853981633974487,
        0,
        0,
        "XYZ"
       ]
      }
     },
     "05d20267d58c4346be773d48135ae722": {
      "model_module": "jupyter-threejs",
      "model_module_version": "^2.0.3",
      "model_name": "WebGLShadowMapModel",
      "state": {
       "_view_module": null,
       "_view_module_version": ""
      }
     },
     "07d3be51-7936-4755-bf20-5d8c4a068d47": {
      "model_module": "jupyter-threejs",
      "model_module_version": "^2.0.3",
      "model_name": "OrthographicCameraModel",
      "state": {
       "bottom": -5,
       "far": 500,
       "left": -5,
       "near": 0.5,
       "projectionMatrix": [
        0.2,
        0,
        0,
        0,
        0,
        0.2,
        0,
        0,
        0,
        0,
        -0.004004004004004004,
        0,
        0,
        0,
        -1.002002002002002,
        1
       ],
       "right": 5,
       "top": 5
      }
     },
     "0ca08578ba3d42198a4771a3e32835a3": {
      "model_module": "jupyter-threejs",
      "model_module_version": "^2.0.3",
      "model_name": "SceneModel",
      "state": {
       "_view_module": null,
       "_view_module_version": "",
       "children": [
        "IPY_MODEL_219b33795ad44adaaca0cfdb938e759b",
        "IPY_MODEL_0e216c2bc03a495c8e47d3004cdd2f9d",
        "IPY_MODEL_ce2dc26ff0b34a3bb8fede4dd66ee0d0",
        "IPY_MODEL_feebcad614424307be0a323c3c979d72",
        "IPY_MODEL_0f265ab072a145deb8b391ceac02f949"
       ]
      }
     },
     "0d3a5517635f4048adf449bd4f878c52": {
      "model_module": "jupyter-threejs",
      "model_module_version": "^2.0.3",
      "model_name": "PerspectiveCameraModel",
      "state": {
       "_view_module": null,
       "_view_module_version": "",
       "children": [
        "IPY_MODEL_d88bd3d5874842a8b1c8956b6efde3d2"
       ],
       "matrix": [
        1,
        0,
        0,
        0,
        0,
        1,
        0,
        0,
        0,
        0,
        1,
        0,
        0,
        5,
        5,
        1
       ],
       "position": [
        5.113941142299837,
        0.8862397936135633,
        4.802310383691254
       ],
       "projectionMatrix": [
        2.1445069205095586,
        0,
        0,
        0,
        0,
        2.1445069205095586,
        0,
        0,
        0,
        0,
        -1.00010000500025,
        -1,
        0,
        0,
        -0.200010000500025,
        0
       ],
       "quaternion": [
        -0.05762628974712731,
        0.3963642099924191,
        0.024937122382928632,
        0.9159436465712967
       ],
       "rotation": [
        -0.18249126873020494,
        0.8084542134458603,
        0.1326822112086251,
        "XYZ"
       ]
      }
     },
     "0dcdfd1fa84c4685aad2037a1504375a": {
      "model_module": "jupyter-threejs",
      "model_module_version": "^2.0.3",
      "model_name": "PerspectiveCameraModel",
      "state": {
       "_view_module": null,
       "_view_module_version": "",
       "children": [
        "IPY_MODEL_ee9a17b933de4536b5fed5779d25531f"
       ],
       "matrix": [
        1,
        0,
        0,
        0,
        0,
        1,
        0,
        0,
        0,
        0,
        1,
        0,
        0,
        5,
        5,
        1
       ],
       "position": [
        0,
        5,
        5
       ],
       "projectionMatrix": [
        2.1445069205095586,
        0,
        0,
        0,
        0,
        2.1445069205095586,
        0,
        0,
        0,
        0,
        -1.00010000500025,
        -1,
        0,
        0,
        -0.200010000500025,
        0
       ]
      }
     },
     "0e216c2bc03a495c8e47d3004cdd2f9d": {
      "model_module": "jupyter-threejs",
      "model_module_version": "^2.0.3",
      "model_name": "MeshModel",
      "state": {
       "_view_module": null,
       "_view_module_version": "",
       "geometry": "IPY_MODEL_9b9b9433a2db4c56b2334edfae7420fb",
       "material": "IPY_MODEL_806cbda66a094784973583db0d17334f",
       "matrix": [
        1,
        0,
        0,
        0,
        0,
        1,
        0,
        0,
        0,
        0,
        1,
        0,
        2,
        0,
        4,
        1
       ],
       "morphTargetInfluences": [],
       "position": [
        2,
        0,
        4
       ]
      }
     },
     "0f265ab072a145deb8b391ceac02f949": {
      "model_module": "jupyter-threejs",
      "model_module_version": "^2.0.3",
      "model_name": "AmbientLightModel",
      "state": {
       "_view_module": null,
       "_view_module_version": ""
      }
     },
     "0f444923-0224-4b1c-beea-79781fee7001": {
      "model_module": "jupyter-threejs",
      "model_module_version": "^2.0.3",
      "model_name": "Object3DModel",
      "state": {}
     },
     "10be5fea51ce459796a5b997628ddd64": {
      "model_module": "jupyter-threejs",
      "model_module_version": "^2.0.3",
      "model_name": "AnimationClipModel",
      "state": {
       "_view_module": null,
       "_view_module_version": "",
       "duration": 5,
       "tracks": [
        "IPY_MODEL_4e51bf5b8e9f45ffb86d007bf4b51149",
        "IPY_MODEL_c2bd8d1476934be396ac215bcd9276fd"
       ]
      }
     },
     "15efb3edeeb842adb1d2f24fbfe8cee5": {
      "model_module": "jupyter-threejs",
      "model_module_version": "^2.0.3",
      "model_name": "SphereGeometryModel",
      "state": {
       "_view_module": null,
       "_view_module_version": "",
       "heightSegments": 24,
       "widthSegments": 32
      }
     },
     "15f0640997c849dab9679cf1d59eaaf2": {
      "model_module": "jupyter-threejs",
      "model_module_version": "^2.0.3",
      "model_name": "SceneModel",
      "state": {
       "_view_module": null,
       "_view_module_version": "",
       "children": [
        "IPY_MODEL_593e34f5a87b47c583ce60fc2c918fe0",
        "IPY_MODEL_0d3a5517635f4048adf449bd4f878c52",
        "IPY_MODEL_27d9594ddc214c10b8d9b28056475255"
       ]
      }
     },
     "1a299399919b4b98922d85a7d2ce3e1e": {
      "model_module": "jupyter-threejs",
      "model_module_version": "^2.0.3",
      "model_name": "MeshStandardMaterialModel",
      "state": {
       "_view_module": null,
       "_view_module_version": "",
       "color": "red"
      }
     },
     "1a790b8fbb3a4793b4660ebceca426a5": {
      "model_module": "jupyter-threejs",
      "model_module_version": "^2.0.3",
      "model_name": "MeshModel",
      "state": {
       "_view_module": null,
       "_view_module_version": "",
       "geometry": "IPY_MODEL_4c96d657266e44e08f839ca7472b3247",
       "material": "IPY_MODEL_1fb9573710e14dab923c2668af2933db",
       "matrix": [
        1,
        0,
        0,
        0,
        0,
        1,
        0,
        0,
        0,
        0,
        1,
        0,
        2,
        1,
        0,
        1
       ],
       "morphTargetInfluences": [],
       "position": [
        2,
        1,
        0
       ]
      }
     },
     "1d9a9c4d39074acd9b576a9e12fb135a": {
      "model_module": "jupyter-threejs",
      "model_module_version": "^2.0.3",
      "model_name": "MeshModel",
      "state": {
       "_view_module": null,
       "_view_module_version": "",
       "geometry": "IPY_MODEL_ea4ea84e2fe04dd09f8f3524bb761843",
       "material": "IPY_MODEL_6f00ec74765a4cee8751fa302d986216",
       "matrix": [
        1.49,
        0,
        0,
        0,
        0,
        1.49,
        0,
        0,
        0,
        0,
        1.49,
        0,
        -0.6909721807191258,
        0.16089031496745576,
        1.49,
        1
       ],
       "morphTargetInfluences": [],
       "position": [
        -0.6909721807191258,
        0.16089031496745576,
        1.49
       ],
       "scale": [
        1.49,
        1.49,
        1.49
       ]
      }
     },
     "1f35434e-b1a4-4afd-ad62-1404f319a587": {
      "model_module": "jupyter-threejs",
      "model_module_version": "^2.0.3",
      "model_name": "OrthographicCameraModel",
      "state": {
       "bottom": -5,
       "far": 500,
       "left": -5,
       "near": 0.5,
       "projectionMatrix": [
        0.2,
        0,
        0,
        0,
        0,
        0.2,
        0,
        0,
        0,
        0,
        -0.004004004004004004,
        0,
        0,
        0,
        -1.002002002002002,
        1
       ],
       "right": 5,
       "top": 5
      }
     },
     "1fb9573710e14dab923c2668af2933db": {
      "model_module": "jupyter-threejs",
      "model_module_version": "^2.0.3",
      "model_name": "MeshLambertMaterialModel",
      "state": {
       "_view_module": null,
       "_view_module_version": "",
       "color": "red"
      }
     },
     "20b161093601410bac64f1d53fafa757": {
      "model_module": "jupyter-threejs",
      "model_module_version": "^2.0.3",
      "model_name": "OrbitControlsModel",
      "state": {
       "_view_module": null,
       "_view_module_version": "",
       "controlling": "IPY_MODEL_ce2dc26ff0b34a3bb8fede4dd66ee0d0",
       "maxAzimuthAngle": "inf",
       "maxDistance": "inf",
       "maxZoom": "inf",
       "minAzimuthAngle": "-inf"
      }
     },
     "20b42d98bf1442919b774e23add29d60": {
      "model_module": "jupyter-threejs",
      "model_module_version": "^2.0.3",
      "model_name": "SceneModel",
      "state": {
       "_view_module": null,
       "_view_module_version": "",
       "children": [
        "IPY_MODEL_a3ad7db0e155478089837948e30b2fdc",
        "IPY_MODEL_c830771d1ebd4ce1817eaaef4b7e39cd",
        "IPY_MODEL_5485ba69cb1a4762be10ad9448d65193"
       ]
      }
     },
     "219b33795ad44adaaca0cfdb938e759b": {
      "model_module": "jupyter-threejs",
      "model_module_version": "^2.0.3",
      "model_name": "MeshModel",
      "state": {
       "_view_module": null,
       "_view_module_version": "",
       "geometry": "IPY_MODEL_d58446ae25874e5d8bcb00e169224907",
       "material": "IPY_MODEL_1a299399919b4b98922d85a7d2ce3e1e",
       "morphTargetInfluences": []
      }
     },
     "23cca6f8e18e4c99bf7bd6e7da71a5e8": {
      "model_module": "jupyter-threejs",
      "model_module_version": "^2.0.3",
      "model_name": "RendererModel",
      "state": {
       "camera": "IPY_MODEL_c830771d1ebd4ce1817eaaef4b7e39cd",
       "controls": [
        "IPY_MODEL_8b0ab24a92004f6cb3acf2850c7b8700"
       ],
       "layout": "IPY_MODEL_a3a11fb61d3f492bb4dbdf094dbecd21",
       "scene": "IPY_MODEL_20b42d98bf1442919b774e23add29d60",
       "shadowMap": "IPY_MODEL_d1bd1cf6fa2649bc9f5f22973d071257"
      }
     },
     "23fa5faa0d994ba9a5606d898aeb5383": {
      "model_module": "jupyter-threejs",
      "model_module_version": "^2.0.3",
      "model_name": "DirectionalLightModel",
      "state": {
       "_view_module": null,
       "_view_module_version": "",
       "color": "white",
       "intensity": 0.5,
       "matrixWorldNeedsUpdate": true,
       "position": [
        3,
        5,
        1
       ],
       "shadow": "IPY_MODEL_f0548df8-1162-4bfd-88b6-f2a7d5a95ecd",
       "target": "IPY_MODEL_6f80b5a6-1819-4fd3-b700-9cbc6e187d18"
      }
     },
     "2653dc1304914a1488face780256f9bd": {
      "model_module": "jupyter-threejs",
      "model_module_version": "^2.0.3",
      "model_name": "DirectionalLightModel",
      "state": {
       "_view_module": null,
       "_view_module_version": "",
       "color": "white",
       "intensity": 0.5,
       "matrixWorldNeedsUpdate": true,
       "position": [
        3,
        5,
        1
       ],
       "shadow": "IPY_MODEL_8539b2c3-81bc-4cc8-8b67-703440698774",
       "target": "IPY_MODEL_f777caf7-a326-4348-9263-23a24452f8b7"
      }
     },
     "27d9594ddc214c10b8d9b28056475255": {
      "model_module": "jupyter-threejs",
      "model_module_version": "^2.0.3",
      "model_name": "AmbientLightModel",
      "state": {
       "_view_module": null,
       "_view_module_version": "",
       "color": "#777777"
      }
     },
     "281bce35d4e649f6a101d7931add0332": {
      "model_module": "jupyter-threejs",
      "model_module_version": "^2.0.3",
      "model_name": "AmbientLightModel",
      "state": {
       "_view_module": null,
       "_view_module_version": "",
       "color": "#777777"
      }
     },
     "295a799303d046dfab0b433366adf664": {
      "model_module": "jupyter-threejs",
      "model_module_version": "^2.0.3",
      "model_name": "MeshLambertMaterialModel",
      "state": {
       "_view_module": null,
       "_view_module_version": "",
       "color": "red"
      }
     },
     "2c04c693bbcd4d46a07d27e323f558dd": {
      "model_module": "jupyter-threejs",
      "model_module_version": "^2.0.3",
      "model_name": "MeshModel",
      "state": {
       "_view_module": null,
       "_view_module_version": "",
       "geometry": "IPY_MODEL_8c82c373850d41139c2bf41f8699a8a3",
       "material": "IPY_MODEL_7515d23d43aa4e0c8b3437cbd9f25d6f",
       "matrix": [
        1.49,
        0,
        0,
        0,
        0,
        1.49,
        0,
        0,
        0,
        0,
        1.49,
        0,
        -0.6909721807191258,
        0.16089031496745576,
        1.49,
        1
       ],
       "morphTargetInfluences": [],
       "position": [
        -0.6909721807191258,
        0.16089031496745576,
        1.49
       ],
       "scale": [
        1.49,
        1.49,
        1.49
       ]
      }
     },
     "3852bb2b1f8448c6a5d4dfc747c07ff6": {
      "model_module": "jupyter-threejs",
      "model_module_version": "^2.0.3",
      "model_name": "MeshModel",
      "state": {
       "_view_module": null,
       "_view_module_version": "",
       "geometry": "IPY_MODEL_aab75b2335e04b808b60d6de23ac553c",
       "material": "IPY_MODEL_295a799303d046dfab0b433366adf664",
       "matrix": [
        1,
        0,
        0,
        0,
        0,
        1,
        0,
        0,
        0,
        0,
        1,
        0,
        2,
        1,
        0,
        1
       ],
       "morphTargetInfluences": [],
       "position": [
        2,
        1,
        0
       ]
      }
     },
     "39bca86cece348b8a45ff79b28bf0fea": {
      "model_module": "@jupyter-widgets/base",
      "model_module_version": "1.1.0",
      "model_name": "LayoutModel",
      "state": {}
     },
     "39e07374-154c-46e8-89e3-0a7999661470": {
      "model_module": "jupyter-threejs",
      "model_module_version": "^2.0.3",
      "model_name": "DirectionalLightShadowModel",
      "state": {
       "camera": "IPY_MODEL_1f35434e-b1a4-4afd-ad62-1404f319a587"
      }
     },
     "3b6af5b8-a73c-42b2-a0fe-6c532bb1c8e9": {
      "model_module": "jupyter-threejs",
      "model_module_version": "^2.0.3",
      "model_name": "DirectionalLightShadowModel",
      "state": {
       "camera": "IPY_MODEL_dd4bf115-ebdd-4796-8326-4d92849f5dfb"
      }
     },
     "447a328a-97f4-4dbb-8503-833b39e57546": {
      "model_module": "jupyter-threejs",
      "model_module_version": "^2.0.3",
      "model_name": "DirectionalLightShadowModel",
      "state": {
       "camera": "IPY_MODEL_83288d1b-1f8e-4881-b342-627331139c82"
      }
     },
     "462608a7-b071-4eb4-ae19-30bf42a64aa9": {
      "model_module": "jupyter-threejs",
      "model_module_version": "^2.0.3",
      "model_name": "OrthographicCameraModel",
      "state": {
       "bottom": -5,
       "far": 500,
       "left": -5,
       "near": 0.5,
       "projectionMatrix": [
        0.2,
        0,
        0,
        0,
        0,
        0.2,
        0,
        0,
        0,
        0,
        -0.004004004004004004,
        0,
        0,
        0,
        -1.002002002002002,
        1
       ],
       "right": 5,
       "top": 5
      }
     },
     "49aea4c4361d4e68ac05cb86bc9f4d56": {
      "model_module": "jupyter-threejs",
      "model_module_version": "^2.0.3",
      "model_name": "OrbitControlsModel",
      "state": {
       "_view_module": null,
       "_view_module_version": "",
       "controlling": "IPY_MODEL_0dcdfd1fa84c4685aad2037a1504375a",
       "maxAzimuthAngle": "inf",
       "maxDistance": "inf",
       "maxZoom": "inf",
       "minAzimuthAngle": "-inf"
      }
     },
     "4c96d657266e44e08f839ca7472b3247": {
      "model_module": "jupyter-threejs",
      "model_module_version": "^2.0.3",
      "model_name": "SphereGeometryModel",
      "state": {
       "_view_module": null,
       "_view_module_version": "",
       "heightSegments": 24,
       "widthSegments": 32
      }
     },
     "4d3142098ced43bf840a90b4f71eefe3": {
      "model_module": "jupyter-threejs",
      "model_module_version": "^2.0.3",
      "model_name": "DirectionalLightModel",
      "state": {
       "_view_module": null,
       "_view_module_version": "",
       "color": "white",
       "intensity": 0.5,
       "matrixWorldNeedsUpdate": true,
       "position": [
        3,
        5,
        1
       ],
       "shadow": "IPY_MODEL_9e37f4ac-ae90-44a1-ab07-4b9475ff5fc1",
       "target": "IPY_MODEL_0f444923-0224-4b1c-beea-79781fee7001"
      }
     },
     "4e51bf5b8e9f45ffb86d007bf4b51149": {
      "buffers": [
       {
        "data": "AAAAAAIAAAAFAAAA",
        "encoding": "base64",
        "path": [
         "times",
         "buffer"
        ]
       },
       {
        "data": "AAAgQQAAwEAAACBBmpnJQIXrcUCamclAUrg+wD0KVz8zMxNB",
        "encoding": "base64",
        "path": [
         "values",
         "buffer"
        ]
       }
      ],
      "model_module": "jupyter-threejs",
      "model_module_version": "^2.0.3",
      "model_name": "VectorKeyframeTrackModel",
      "state": {
       "_view_module": null,
       "_view_module_version": "",
       "name": ".position",
       "times": {
        "buffer": {},
        "dtype": "int32",
        "shape": [
         3
        ]
       },
       "values": {
        "buffer": {},
        "dtype": "float32",
        "shape": [
         9
        ]
       }
      }
     },
     "4f70a3feea464304a0ce6f665ddbd596": {
      "model_module": "jupyter-threejs",
      "model_module_version": "^2.0.3",
      "model_name": "PerspectiveCameraModel",
      "state": {
       "_view_module": null,
       "_view_module_version": "",
       "children": [
        "IPY_MODEL_85d90fbb8b4241eabe289675c89822b8"
       ],
       "matrix": [
        1,
        0,
        0,
        0,
        0,
        1,
        0,
        0,
        0,
        0,
        1,
        0,
        0,
        5,
        5,
        1
       ],
       "position": [
        5.2101362901091495,
        1.324985982112153,
        4.593353022106404
       ],
       "projectionMatrix": [
        2.1445069205095586,
        0,
        0,
        0,
        0,
        2.1445069205095586,
        0,
        0,
        0,
        0,
        -1.00010000500025,
        -1,
        0,
        0,
        -0.200010000500025,
        0
       ],
       "quaternion": [
        -0.08577062511712882,
        0.4096880433152781,
        0.038726922194676876,
        0.9073584366328685
       ],
       "rotation": [
        -0.2808337658025833,
        0.8283614160045171,
        0.20942594233841297,
        "XYZ"
       ]
      }
     },
     "52e980999dc846f0901b3c288d2c8573": {
      "model_module": "jupyter-threejs",
      "model_module_version": "^2.0.3",
      "model_name": "RendererModel",
      "state": {
       "camera": "IPY_MODEL_02bfb30cf374447d93d683d4f3d4286d",
       "controls": [
        "IPY_MODEL_71911e86abb14de3ac645e116a4d5f79"
       ],
       "layout": "IPY_MODEL_7796261b7f85492a939a759a72b5859e",
       "scene": "IPY_MODEL_ed06e7aac9f74a798fbc783c59f80b78",
       "shadowMap": "IPY_MODEL_039a3b9dc0c8474abbab202f92685131"
      }
     },
     "535c43d8-b7db-4405-82c3-5c847dff8386": {
      "model_module": "jupyter-threejs",
      "model_module_version": "^2.0.3",
      "model_name": "Object3DModel",
      "state": {}
     },
     "5485ba69cb1a4762be10ad9448d65193": {
      "model_module": "jupyter-threejs",
      "model_module_version": "^2.0.3",
      "model_name": "AmbientLightModel",
      "state": {
       "_view_module": null,
       "_view_module_version": "",
       "color": "#777777"
      }
     },
     "54c7255372f64966971d5dd5ffc6f7a9": {
      "model_module": "jupyter-threejs",
      "model_module_version": "^2.0.3",
      "model_name": "MeshLambertMaterialModel",
      "state": {
       "_view_module": null,
       "_view_module_version": "",
       "color": "red"
      }
     },
     "593e34f5a87b47c583ce60fc2c918fe0": {
      "model_module": "jupyter-threejs",
      "model_module_version": "^2.0.3",
      "model_name": "MeshModel",
      "state": {
       "_view_module": null,
       "_view_module_version": "",
       "geometry": "IPY_MODEL_15efb3edeeb842adb1d2f24fbfe8cee5",
       "material": "IPY_MODEL_8b5a749136834e8c83bfc415eb96d648",
       "matrix": [
        1,
        0,
        0,
        0,
        0,
        1,
        0,
        0,
        0,
        0,
        1,
        0,
        2,
        1,
        0,
        1
       ],
       "morphTargetInfluences": [],
       "position": [
        2,
        1,
        0
       ]
      }
     },
     "625c5131abd3468ea3a952329506be9f": {
      "model_module": "jupyter-threejs",
      "model_module_version": "^2.0.3",
      "model_name": "WebGLShadowMapModel",
      "state": {
       "_view_module": null,
       "_view_module_version": ""
      }
     },
     "629c629e04ca4176899108fac7ca39cb": {
      "model_module": "jupyter-threejs",
      "model_module_version": "^2.0.3",
      "model_name": "PerspectiveCameraModel",
      "state": {
       "_view_module": null,
       "_view_module_version": "",
       "children": [
        "IPY_MODEL_c5c0ba0714ff4017aaa1975ebd3664aa"
       ],
       "matrix": [
        1,
        0,
        0,
        0,
        0,
        1,
        0,
        0,
        0,
        0,
        1,
        0,
        0,
        5,
        5,
        1
       ],
       "position": [
        0,
        5,
        5
       ],
       "projectionMatrix": [
        2.1445069205095586,
        0,
        0,
        0,
        0,
        2.1445069205095586,
        0,
        0,
        0,
        0,
        -1.00010000500025,
        -1,
        0,
        0,
        -0.200010000500025,
        0
       ]
      }
     },
     "631062026fbe491f85462f195ac17445": {
      "model_module": "jupyter-threejs",
      "model_module_version": "^2.0.3",
      "model_name": "WebGLShadowMapModel",
      "state": {
       "_view_module": null,
       "_view_module_version": ""
      }
     },
     "653e884ab98242998d91b2224ad05873": {
      "model_module": "jupyter-threejs",
      "model_module_version": "^2.0.3",
      "model_name": "DirectionalLightModel",
      "state": {
       "_view_module": null,
       "_view_module_version": "",
       "color": "white",
       "intensity": 0.5,
       "matrixWorldNeedsUpdate": true,
       "position": [
        3,
        5,
        1
       ],
       "shadow": "IPY_MODEL_39e07374-154c-46e8-89e3-0a7999661470",
       "target": "IPY_MODEL_65accb31-c050-4d49-8544-40929a1f158e"
      }
     },
     "65accb31-c050-4d49-8544-40929a1f158e": {
      "model_module": "jupyter-threejs",
      "model_module_version": "^2.0.3",
      "model_name": "Object3DModel",
      "state": {}
     },
     "6649efd5d0c04088b4967b54d78545ca": {
      "model_module": "jupyter-threejs",
      "model_module_version": "^2.0.3",
      "model_name": "SphereGeometryModel",
      "state": {
       "_view_module": null,
       "_view_module_version": "",
       "heightSegments": 24,
       "widthSegments": 32
      }
     },
     "6a02d37b483144a18fa59bb8644772d3": {
      "model_module": "jupyter-threejs",
      "model_module_version": "^2.0.3",
      "model_name": "SceneModel",
      "state": {
       "_view_module": null,
       "_view_module_version": "",
       "children": [
        "IPY_MODEL_6b06e1e59be54ab88dbc40c8c9f7c640",
        "IPY_MODEL_629c629e04ca4176899108fac7ca39cb",
        "IPY_MODEL_281bce35d4e649f6a101d7931add0332"
       ]
      }
     },
     "6a9f8c70c25042d2bf03958b06f598e6": {
      "model_module": "jupyter-threejs",
      "model_module_version": "^2.0.3",
      "model_name": "RendererModel",
      "state": {
       "camera": "IPY_MODEL_0dcdfd1fa84c4685aad2037a1504375a",
       "controls": [
        "IPY_MODEL_49aea4c4361d4e68ac05cb86bc9f4d56"
       ],
       "layout": "IPY_MODEL_719da465f64646e1a678863490064049",
       "scene": "IPY_MODEL_d25e34951b3343518220f8157e7f3736",
       "shadowMap": "IPY_MODEL_05d20267d58c4346be773d48135ae722"
      }
     },
     "6b06e1e59be54ab88dbc40c8c9f7c640": {
      "model_module": "jupyter-threejs",
      "model_module_version": "^2.0.3",
      "model_name": "MeshModel",
      "state": {
       "_view_module": null,
       "_view_module_version": "",
       "geometry": "IPY_MODEL_6649efd5d0c04088b4967b54d78545ca",
       "material": "IPY_MODEL_81c57f9ea7ef4829953d1f56171d8594",
       "matrix": [
        1,
        0,
        0,
        0,
        0,
        1,
        0,
        0,
        0,
        0,
        1,
        0,
        2,
        1,
        0,
        1
       ],
       "morphTargetInfluences": [],
       "position": [
        2,
        1,
        0
       ]
      }
     },
     "6f00ec74765a4cee8751fa302d986216": {
      "model_module": "jupyter-threejs",
      "model_module_version": "^2.0.3",
      "model_name": "MeshLambertMaterialModel",
      "state": {
       "_view_module": null,
       "_view_module_version": "",
       "color": "#4400dd"
      }
     },
     "6f80b5a6-1819-4fd3-b700-9cbc6e187d18": {
      "model_module": "jupyter-threejs",
      "model_module_version": "^2.0.3",
      "model_name": "Object3DModel",
      "state": {}
     },
     "709d3403e9fa4ff2a91bb28aabb8bbab": {
      "model_module": "jupyter-threejs",
      "model_module_version": "^2.0.3",
      "model_name": "SphereGeometryModel",
      "state": {
       "_view_module": null,
       "_view_module_version": "",
       "heightSegments": 24,
       "widthSegments": 32
      }
     },
     "71911e86abb14de3ac645e116a4d5f79": {
      "model_module": "jupyter-threejs",
      "model_module_version": "^2.0.3",
      "model_name": "OrbitControlsModel",
      "state": {
       "_view_module": null,
       "_view_module_version": "",
       "controlling": "IPY_MODEL_02bfb30cf374447d93d683d4f3d4286d",
       "maxAzimuthAngle": "inf",
       "maxDistance": "inf",
       "maxZoom": "inf",
       "minAzimuthAngle": "-inf"
      }
     },
     "719da465f64646e1a678863490064049": {
      "model_module": "@jupyter-widgets/base",
      "model_module_version": "1.1.0",
      "model_name": "LayoutModel",
      "state": {}
     },
     "7515d23d43aa4e0c8b3437cbd9f25d6f": {
      "model_module": "jupyter-threejs",
      "model_module_version": "^2.0.3",
      "model_name": "MeshLambertMaterialModel",
      "state": {
       "_view_module": null,
       "_view_module_version": "",
       "color": "#4400dd"
      }
     },
     "7796261b7f85492a939a759a72b5859e": {
      "model_module": "@jupyter-widgets/base",
      "model_module_version": "1.1.0",
      "model_name": "LayoutModel",
      "state": {}
     },
     "806cbda66a094784973583db0d17334f": {
      "model_module": "jupyter-threejs",
      "model_module_version": "^2.0.3",
      "model_name": "MeshPhysicalMaterialModel",
      "state": {
       "_view_module": null,
       "_view_module_version": "",
       "color": "green"
      }
     },
     "80bef488a82a4efbb1ce6526a97ace07": {
      "model_module": "jupyter-threejs",
      "model_module_version": "^2.0.3",
      "model_name": "WebGLShadowMapModel",
      "state": {
       "_view_module": null,
       "_view_module_version": ""
      }
     },
     "81c57f9ea7ef4829953d1f56171d8594": {
      "model_module": "jupyter-threejs",
      "model_module_version": "^2.0.3",
      "model_name": "MeshLambertMaterialModel",
      "state": {
       "_view_module": null,
       "_view_module_version": "",
       "color": "red"
      }
     },
     "83288d1b-1f8e-4881-b342-627331139c82": {
      "model_module": "jupyter-threejs",
      "model_module_version": "^2.0.3",
      "model_name": "OrthographicCameraModel",
      "state": {
       "bottom": -5,
       "far": 500,
       "left": -5,
       "near": 0.5,
       "projectionMatrix": [
        0.2,
        0,
        0,
        0,
        0,
        0.2,
        0,
        0,
        0,
        0,
        -0.004004004004004004,
        0,
        0,
        0,
        -1.002002002002002,
        1
       ],
       "right": 5,
       "top": 5
      }
     },
     "8539b2c3-81bc-4cc8-8b67-703440698774": {
      "model_module": "jupyter-threejs",
      "model_module_version": "^2.0.3",
      "model_name": "DirectionalLightShadowModel",
      "state": {
       "camera": "IPY_MODEL_f70e308b-3c01-4ba8-a820-fb934d9f339d"
      }
     },
     "85631f162b444a42b08913b64ff89154": {
      "model_module": "jupyter-threejs",
      "model_module_version": "^2.0.3",
      "model_name": "RendererModel",
      "state": {
       "_height": 400,
       "_width": 600,
       "camera": "IPY_MODEL_ce2dc26ff0b34a3bb8fede4dd66ee0d0",
       "controls": [
        "IPY_MODEL_20b161093601410bac64f1d53fafa757"
       ],
       "layout": "IPY_MODEL_aec513c9f5194671b57f68e6c48deb1a",
       "scene": "IPY_MODEL_0ca08578ba3d42198a4771a3e32835a3",
       "shadowMap": "IPY_MODEL_fd650f61c7e34ce8b527b1206dc8d6cc"
      }
     },
     "85d90fbb8b4241eabe289675c89822b8": {
      "model_module": "jupyter-threejs",
      "model_module_version": "^2.0.3",
      "model_name": "DirectionalLightModel",
      "state": {
       "_view_module": null,
       "_view_module_version": "",
       "color": "white",
       "intensity": 0.5,
       "matrixWorldNeedsUpdate": true,
       "position": [
        3,
        5,
        1
       ],
       "shadow": "IPY_MODEL_3b6af5b8-a73c-42b2-a0fe-6c532bb1c8e9",
       "target": "IPY_MODEL_c75979ba-1d52-46dc-8f48-8a5336fb2f04"
      }
     },
     "8b0ab24a92004f6cb3acf2850c7b8700": {
      "model_module": "jupyter-threejs",
      "model_module_version": "^2.0.3",
      "model_name": "OrbitControlsModel",
      "state": {
       "_view_module": null,
       "_view_module_version": "",
       "controlling": "IPY_MODEL_c830771d1ebd4ce1817eaaef4b7e39cd",
       "maxAzimuthAngle": "inf",
       "maxDistance": "inf",
       "maxZoom": "inf",
       "minAzimuthAngle": "-inf"
      }
     },
     "8b5a749136834e8c83bfc415eb96d648": {
      "model_module": "jupyter-threejs",
      "model_module_version": "^2.0.3",
      "model_name": "MeshLambertMaterialModel",
      "state": {
       "_view_module": null,
       "_view_module_version": "",
       "color": "red"
      }
     },
     "8b6f6f23-f036-4962-b288-44e05d01b0bc": {
      "model_module": "jupyter-threejs",
      "model_module_version": "^2.0.3",
      "model_name": "DirectionalLightShadowModel",
      "state": {
       "camera": "IPY_MODEL_a556ef70-e6e6-492d-a46f-0110c0549c74"
      }
     },
     "8c82c373850d41139c2bf41f8699a8a3": {
      "model_module": "jupyter-threejs",
      "model_module_version": "^2.0.3",
      "model_name": "SphereGeometryModel",
      "state": {
       "_view_module": null,
       "_view_module_version": "",
       "heightSegments": 24,
       "widthSegments": 32
      }
     },
     "97d282137fca4fffa29a84433022265f": {
      "model_module": "jupyter-threejs",
      "model_module_version": "^2.0.3",
      "model_name": "AmbientLightModel",
      "state": {
       "_view_module": null,
       "_view_module_version": "",
       "color": "#777777"
      }
     },
     "994d36ec-5b3d-4a10-abe6-73b93f324dfa": {
      "model_module": "jupyter-threejs",
      "model_module_version": "^2.0.3",
      "model_name": "OrthographicCameraModel",
      "state": {
       "bottom": -5,
       "far": 500,
       "left": -5,
       "near": 0.5,
       "projectionMatrix": [
        0.2,
        0,
        0,
        0,
        0,
        0.2,
        0,
        0,
        0,
        0,
        -0.004004004004004004,
        0,
        0,
        0,
        -1.002002002002002,
        1
       ],
       "right": 5,
       "top": 5
      }
     },
     "9a27fe78d0854be387400d885bfa9be3": {
      "model_module": "jupyter-threejs",
      "model_module_version": "^2.0.3",
      "model_name": "AmbientLightModel",
      "state": {
       "_view_module": null,
       "_view_module_version": "",
       "color": "#777777"
      }
     },
     "9b27ca2511644b0baabfe9cbfc9204ab": {
      "model_module": "jupyter-threejs",
      "model_module_version": "^2.0.3",
      "model_name": "SphereGeometryModel",
      "state": {
       "_view_module": null,
       "_view_module_version": "",
       "heightSegments": 24,
       "widthSegments": 32
      }
     },
     "9b9b9433a2db4c56b2334edfae7420fb": {
      "model_module": "jupyter-threejs",
      "model_module_version": "^2.0.3",
      "model_name": "BoxBufferGeometryModel",
      "state": {
       "_view_module": null,
       "_view_module_version": ""
      }
     },
     "9ccb1e1b244b41d480d364ea5a7867cb": {
      "model_module": "@jupyter-widgets/base",
      "model_module_version": "1.1.0",
      "model_name": "LayoutModel",
      "state": {}
     },
     "9e37f4ac-ae90-44a1-ab07-4b9475ff5fc1": {
      "model_module": "jupyter-threejs",
      "model_module_version": "^2.0.3",
      "model_name": "DirectionalLightShadowModel",
      "state": {
       "camera": "IPY_MODEL_07d3be51-7936-4755-bf20-5d8c4a068d47"
      }
     },
     "a0c0426e-b991-4798-941f-bb1de565165a": {
      "model_module": "jupyter-threejs",
      "model_module_version": "^2.0.3",
      "model_name": "Object3DModel",
      "state": {}
     },
     "a3a11fb61d3f492bb4dbdf094dbecd21": {
      "model_module": "@jupyter-widgets/base",
      "model_module_version": "1.1.0",
      "model_name": "LayoutModel",
      "state": {}
     },
     "a3ad7db0e155478089837948e30b2fdc": {
      "model_module": "jupyter-threejs",
      "model_module_version": "^2.0.3",
      "model_name": "MeshModel",
      "state": {
       "_view_module": null,
       "_view_module_version": "",
       "geometry": "IPY_MODEL_709d3403e9fa4ff2a91bb28aabb8bbab",
       "material": "IPY_MODEL_d89bcb58473748a1a795e1b27bf52178",
       "matrix": [
        1,
        0,
        0,
        0,
        0,
        1,
        0,
        0,
        0,
        0,
        1,
        0,
        2,
        1,
        0,
        1
       ],
       "morphTargetInfluences": [],
       "position": [
        2,
        1,
        0
       ]
      }
     },
     "a4fffd888750428891ba473398c03e37": {
      "model_module": "jupyter-threejs",
      "model_module_version": "^2.0.3",
      "model_name": "OrbitControlsModel",
      "state": {
       "_view_module": null,
       "_view_module_version": "",
       "controlling": "IPY_MODEL_b73c1ddc6603460aa46e80d7bc2ae14d",
       "maxAzimuthAngle": "inf",
       "maxDistance": "inf",
       "maxZoom": "inf",
       "minAzimuthAngle": "-inf"
      }
     },
     "a525911ad7834afcaa59d9eb91ad6e15": {
      "model_module": "jupyter-threejs",
      "model_module_version": "^2.0.3",
      "model_name": "WebGLShadowMapModel",
      "state": {
       "_view_module": null,
       "_view_module_version": ""
      }
     },
     "a556ef70-e6e6-492d-a46f-0110c0549c74": {
      "model_module": "jupyter-threejs",
      "model_module_version": "^2.0.3",
      "model_name": "OrthographicCameraModel",
      "state": {
       "bottom": -5,
       "far": 500,
       "left": -5,
       "near": 0.5,
       "projectionMatrix": [
        0.2,
        0,
        0,
        0,
        0,
        0.2,
        0,
        0,
        0,
        0,
        -0.004004004004004004,
        0,
        0,
        0,
        -1.002002002002002,
        1
       ],
       "right": 5,
       "top": 5
      }
     },
     "a6f1a709898d48d7b6d44aacdba6f2d2": {
      "model_module": "jupyter-threejs",
      "model_module_version": "^2.0.3",
      "model_name": "WebGLShadowMapModel",
      "state": {
       "_view_module": null,
       "_view_module_version": ""
      }
     },
     "a8547ddc2e004c3b9df29b86604e0308": {
      "model_module": "jupyter-threejs",
      "model_module_version": "^2.0.3",
      "model_name": "AmbientLightModel",
      "state": {
       "_view_module": null,
       "_view_module_version": "",
       "color": "#777777"
      }
     },
     "aaaa0216-286c-4088-89f8-2163d59c87a6": {
      "model_module": "jupyter-threejs",
      "model_module_version": "^2.0.3",
      "model_name": "OrthographicCameraModel",
      "state": {
       "bottom": -5,
       "far": 500,
       "left": -5,
       "near": 0.5,
       "projectionMatrix": [
        0.2,
        0,
        0,
        0,
        0,
        0.2,
        0,
        0,
        0,
        0,
        -0.004004004004004004,
        0,
        0,
        0,
        -1.002002002002002,
        1
       ],
       "right": 5,
       "top": 5
      }
     },
     "aab75b2335e04b808b60d6de23ac553c": {
      "model_module": "jupyter-threejs",
      "model_module_version": "^2.0.3",
      "model_name": "SphereGeometryModel",
      "state": {
       "_view_module": null,
       "_view_module_version": "",
       "heightSegments": 24,
       "widthSegments": 32
      }
     },
     "ab88194be2cc43929aaf7b1325a72f01": {
      "model_module": "jupyter-threejs",
      "model_module_version": "^2.0.3",
      "model_name": "RendererModel",
      "state": {
       "camera": "IPY_MODEL_629c629e04ca4176899108fac7ca39cb",
       "controls": [
        "IPY_MODEL_db30faba47704b4fbb2586289d5d5ed8"
       ],
       "layout": "IPY_MODEL_39bca86cece348b8a45ff79b28bf0fea",
       "scene": "IPY_MODEL_6a02d37b483144a18fa59bb8644772d3",
       "shadowMap": "IPY_MODEL_80bef488a82a4efbb1ce6526a97ace07"
      }
     },
     "aec513c9f5194671b57f68e6c48deb1a": {
      "model_module": "@jupyter-widgets/base",
      "model_module_version": "1.1.0",
      "model_name": "LayoutModel",
      "state": {}
     },
     "b47370ea41a441ceb9488cd251cf4385": {
      "model_module": "jupyter-threejs",
      "model_module_version": "^2.0.3",
      "model_name": "SceneModel",
      "state": {
       "_view_module": null,
       "_view_module_version": "",
       "children": [
        "IPY_MODEL_2c04c693bbcd4d46a07d27e323f558dd",
        "IPY_MODEL_4f70a3feea464304a0ce6f665ddbd596",
        "IPY_MODEL_fa9017b1f8f3455aaa9d904fa053e281"
       ]
      }
     },
     "b73c1ddc6603460aa46e80d7bc2ae14d": {
      "model_module": "jupyter-threejs",
      "model_module_version": "^2.0.3",
      "model_name": "PerspectiveCameraModel",
      "state": {
       "_view_module": null,
       "_view_module_version": "",
       "children": [
        "IPY_MODEL_4d3142098ced43bf840a90b4f71eefe3"
       ],
       "matrix": [
        1,
        0,
        0,
        0,
        0,
        1,
        0,
        0,
        0,
        0,
        1,
        0,
        0,
        5,
        5,
        1
       ],
       "position": [
        0,
        5,
        5
       ],
       "projectionMatrix": [
        2.1445069205095586,
        0,
        0,
        0,
        0,
        2.1445069205095586,
        0,
        0,
        0,
        0,
        -1.00010000500025,
        -1,
        0,
        0,
        -0.200010000500025,
        0
       ]
      }
     },
     "b9a8b42ef8d8446f91ef5f79da3e3688": {
      "model_module": "@jupyter-widgets/base",
      "model_module_version": "1.1.0",
      "model_name": "LayoutModel",
      "state": {}
     },
     "bc80ee7b4b1142c080b5580c0a449de0": {
      "model_module": "@jupyter-widgets/base",
      "model_module_version": "1.1.0",
      "model_name": "LayoutModel",
      "state": {}
     },
     "c0b44a0fc54144a89f08fbbc19cc6db7": {
      "model_module": "jupyter-threejs",
      "model_module_version": "^2.0.3",
      "model_name": "AmbientLightModel",
      "state": {
       "_view_module": null,
       "_view_module_version": "",
       "color": "#777777"
      }
     },
     "c2bd8d1476934be396ac215bcd9276fd": {
      "buffers": [
       {
        "data": "AAAAAAIAAAAFAAAA",
        "encoding": "base64",
        "path": [
         "times",
         "buffer"
        ]
       },
       {
        "data": "f2o8vgAAwD6/Dpw9FK5nP39qPL4AAMA+vw6cPRSuZz/FIDC9d74fvmwm37sIrHw/",
        "encoding": "base64",
        "path": [
         "values",
         "buffer"
        ]
       }
      ],
      "model_module": "jupyter-threejs",
      "model_module_version": "^2.0.3",
      "model_name": "QuaternionKeyframeTrackModel",
      "state": {
       "_view_module": null,
       "_view_module_version": "",
       "name": ".quaternion",
       "times": {
        "buffer": {},
        "dtype": "int32",
        "shape": [
         3
        ]
       },
       "values": {
        "buffer": {},
        "dtype": "float32",
        "shape": [
         12
        ]
       }
      }
     },
     "c5c0ba0714ff4017aaa1975ebd3664aa": {
      "model_module": "jupyter-threejs",
      "model_module_version": "^2.0.3",
      "model_name": "DirectionalLightModel",
      "state": {
       "_view_module": null,
       "_view_module_version": "",
       "color": "white",
       "intensity": 0.5,
       "matrixWorldNeedsUpdate": true,
       "position": [
        3,
        5,
        1
       ],
       "shadow": "IPY_MODEL_d3f9d85f-170b-4bf6-9f0c-9703fe74305d",
       "target": "IPY_MODEL_f90441de-67da-49d0-9ea2-2c2260f25805"
      }
     },
     "c75979ba-1d52-46dc-8f48-8a5336fb2f04": {
      "model_module": "jupyter-threejs",
      "model_module_version": "^2.0.3",
      "model_name": "Object3DModel",
      "state": {}
     },
     "c80676f9a8ea4cae8a1558d08bfcbe66": {
      "model_module": "jupyter-threejs",
      "model_module_version": "^2.0.3",
      "model_name": "AnimationMixerModel",
      "state": {
       "_view_module": null,
       "_view_module_version": "",
       "rootObject": "IPY_MODEL_ce2dc26ff0b34a3bb8fede4dd66ee0d0"
      }
     },
     "c830771d1ebd4ce1817eaaef4b7e39cd": {
      "model_module": "jupyter-threejs",
      "model_module_version": "^2.0.3",
      "model_name": "PerspectiveCameraModel",
      "state": {
       "_view_module": null,
       "_view_module_version": "",
       "children": [
        "IPY_MODEL_23fa5faa0d994ba9a5606d898aeb5383"
       ],
       "matrix": [
        1,
        0,
        0,
        0,
        0,
        1,
        0,
        0,
        0,
        0,
        1,
        0,
        0,
        5,
        5,
        1
       ],
       "position": [
        0,
        5,
        5
       ],
       "projectionMatrix": [
        2.1445069205095586,
        0,
        0,
        0,
        0,
        2.1445069205095586,
        0,
        0,
        0,
        0,
        -1.00010000500025,
        -1,
        0,
        0,
        -0.200010000500025,
        0
       ]
      }
     },
     "c8fb6190952543b8b0bdf8218a39023b": {
      "model_module": "jupyter-threejs",
      "model_module_version": "^2.0.3",
      "model_name": "OrbitControlsModel",
      "state": {
       "_view_module": null,
       "_view_module_version": "",
       "controlling": "IPY_MODEL_04b3f4cc7e62448f909d392992ed8846",
       "maxAzimuthAngle": "inf",
       "maxDistance": "inf",
       "maxZoom": "inf",
       "minAzimuthAngle": "-inf"
      }
     },
     "c99451f8-8b4e-4a38-b46a-4f36219d4fea": {
      "model_module": "jupyter-threejs",
      "model_module_version": "^2.0.3",
      "model_name": "DirectionalLightShadowModel",
      "state": {
       "camera": "IPY_MODEL_462608a7-b071-4eb4-ae19-30bf42a64aa9"
      }
     },
     "cc902eef7c6d42819c7b23f59bee7156": {
      "model_module": "jupyter-threejs",
      "model_module_version": "^2.0.3",
      "model_name": "SceneModel",
      "state": {
       "_view_module": null,
       "_view_module_version": "",
       "children": [
        "IPY_MODEL_3852bb2b1f8448c6a5d4dfc747c07ff6",
        "IPY_MODEL_b73c1ddc6603460aa46e80d7bc2ae14d",
        "IPY_MODEL_97d282137fca4fffa29a84433022265f"
       ]
      }
     },
     "ce2dc26ff0b34a3bb8fede4dd66ee0d0": {
      "model_module": "jupyter-threejs",
      "model_module_version": "^2.0.3",
      "model_name": "PerspectiveCameraModel",
      "state": {
       "_view_module": null,
       "_view_module_version": "",
       "aspect": 1.5,
       "matrix": [
        1,
        0,
        0,
        0,
        0,
        1,
        0,
        0,
        0,
        0,
        1,
        0,
        10,
        6,
        10,
        1
       ],
       "position": [
        10,
        6,
        10
       ],
       "projectionMatrix": [
        1.4296712803397054,
        0,
        0,
        0,
        0,
        2.1445069205095586,
        0,
        0,
        0,
        0,
        -1.00010000500025,
        -1,
        0,
        0,
        -0.200010000500025,
        0
       ]
      }
     },
     "cf5e234f28bc48778d2568c5a78b0490": {
      "model_module": "jupyter-threejs",
      "model_module_version": "^2.0.3",
      "model_name": "RendererModel",
      "state": {
       "camera": "IPY_MODEL_b73c1ddc6603460aa46e80d7bc2ae14d",
       "controls": [
        "IPY_MODEL_a4fffd888750428891ba473398c03e37"
       ],
       "layout": "IPY_MODEL_9ccb1e1b244b41d480d364ea5a7867cb",
       "scene": "IPY_MODEL_cc902eef7c6d42819c7b23f59bee7156",
       "shadowMap": "IPY_MODEL_a6f1a709898d48d7b6d44aacdba6f2d2"
      }
     },
     "cfab0100c3474a93a670e00f760f4e61": {
      "model_module": "jupyter-threejs",
      "model_module_version": "^2.0.3",
      "model_name": "OrbitControlsModel",
      "state": {
       "_view_module": null,
       "_view_module_version": "",
       "controlling": "IPY_MODEL_4f70a3feea464304a0ce6f665ddbd596",
       "maxAzimuthAngle": "inf",
       "maxDistance": "inf",
       "maxZoom": "inf",
       "minAzimuthAngle": "-inf"
      }
     },
     "d1bd1cf6fa2649bc9f5f22973d071257": {
      "model_module": "jupyter-threejs",
      "model_module_version": "^2.0.3",
      "model_name": "WebGLShadowMapModel",
      "state": {
       "_view_module": null,
       "_view_module_version": ""
      }
     },
     "d233f477c3fe417f94f286d8dd1e82c8": {
      "model_module": "@jupyter-widgets/base",
      "model_module_version": "1.1.0",
      "model_name": "LayoutModel",
      "state": {}
     },
     "d25e34951b3343518220f8157e7f3736": {
      "model_module": "jupyter-threejs",
      "model_module_version": "^2.0.3",
      "model_name": "SceneModel",
      "state": {
       "_view_module": null,
       "_view_module_version": "",
       "children": [
        "IPY_MODEL_1d9a9c4d39074acd9b576a9e12fb135a",
        "IPY_MODEL_0dcdfd1fa84c4685aad2037a1504375a",
        "IPY_MODEL_9a27fe78d0854be387400d885bfa9be3"
       ]
      }
     },
     "d3f9d85f-170b-4bf6-9f0c-9703fe74305d": {
      "model_module": "jupyter-threejs",
      "model_module_version": "^2.0.3",
      "model_name": "DirectionalLightShadowModel",
      "state": {
       "camera": "IPY_MODEL_994d36ec-5b3d-4a10-abe6-73b93f324dfa"
      }
     },
     "d58446ae25874e5d8bcb00e169224907": {
      "model_module": "jupyter-threejs",
      "model_module_version": "^2.0.3",
      "model_name": "SphereBufferGeometryModel",
      "state": {
       "_view_module": null,
       "_view_module_version": "",
       "heightSegments": 16,
       "widthSegments": 32
      }
     },
     "d7aec9b770e8419a9a3738ede8a2c74a": {
      "model_module": "jupyter-threejs",
      "model_module_version": "^2.0.3",
      "model_name": "SceneModel",
      "state": {
       "_view_module": null,
       "_view_module_version": "",
       "children": [
        "IPY_MODEL_03c2cd4c58694051ac551fb95413389a",
        "IPY_MODEL_04b3f4cc7e62448f909d392992ed8846",
        "IPY_MODEL_c0b44a0fc54144a89f08fbbc19cc6db7"
       ]
      }
     },
     "d88bd3d5874842a8b1c8956b6efde3d2": {
      "model_module": "jupyter-threejs",
      "model_module_version": "^2.0.3",
      "model_name": "DirectionalLightModel",
      "state": {
       "_view_module": null,
       "_view_module_version": "",
       "color": "white",
       "intensity": 0.5,
       "matrixWorldNeedsUpdate": true,
       "position": [
        3,
        5,
        1
       ],
       "shadow": "IPY_MODEL_c99451f8-8b4e-4a38-b46a-4f36219d4fea",
       "target": "IPY_MODEL_02db62f7-3875-499e-92e2-13c1f906ab42"
      }
     },
     "d89bcb58473748a1a795e1b27bf52178": {
      "model_module": "jupyter-threejs",
      "model_module_version": "^2.0.3",
      "model_name": "MeshLambertMaterialModel",
      "state": {
       "_view_module": null,
       "_view_module_version": "",
       "color": "red"
      }
     },
     "db30faba47704b4fbb2586289d5d5ed8": {
      "model_module": "jupyter-threejs",
      "model_module_version": "^2.0.3",
      "model_name": "OrbitControlsModel",
      "state": {
       "_view_module": null,
       "_view_module_version": "",
       "controlling": "IPY_MODEL_629c629e04ca4176899108fac7ca39cb",
       "maxAzimuthAngle": "inf",
       "maxDistance": "inf",
       "maxZoom": "inf",
       "minAzimuthAngle": "-inf"
      }
     },
     "dba0ffffb19542cab297216fa6a7f696": {
      "model_module": "@jupyter-widgets/base",
      "model_module_version": "1.1.0",
      "model_name": "LayoutModel",
      "state": {}
     },
     "dd4bf115-ebdd-4796-8326-4d92849f5dfb": {
      "model_module": "jupyter-threejs",
      "model_module_version": "^2.0.3",
      "model_name": "OrthographicCameraModel",
      "state": {
       "bottom": -5,
       "far": 500,
       "left": -5,
       "near": 0.5,
       "projectionMatrix": [
        0.2,
        0,
        0,
        0,
        0,
        0.2,
        0,
        0,
        0,
        0,
        -0.004004004004004004,
        0,
        0,
        0,
        -1.002002002002002,
        1
       ],
       "right": 5,
       "top": 5
      }
     },
     "e1af173acb6a47bd98766b54b85fe3a7": {
      "model_module": "jupyter-threejs",
      "model_module_version": "^2.0.3",
      "model_name": "AnimationActionModel",
      "state": {
       "_model_module": "jupyter-threejs",
       "_model_module_version": "^2.0.3",
       "_model_name": "AnimationActionModel",
       "_view_module_version": "^2.0.3",
       "clip": "IPY_MODEL_10be5fea51ce459796a5b997628ddd64",
       "layout": "IPY_MODEL_d233f477c3fe417f94f286d8dd1e82c8",
       "localRoot": "IPY_MODEL_ce2dc26ff0b34a3bb8fede4dd66ee0d0",
       "mixer": "IPY_MODEL_c80676f9a8ea4cae8a1558d08bfcbe66",
       "repititions": "inf"
      }
     },
     "ea4ea84e2fe04dd09f8f3524bb761843": {
      "model_module": "jupyter-threejs",
      "model_module_version": "^2.0.3",
      "model_name": "SphereGeometryModel",
      "state": {
       "_view_module": null,
       "_view_module_version": "",
       "heightSegments": 24,
       "widthSegments": 32
      }
     },
     "ed06e7aac9f74a798fbc783c59f80b78": {
      "model_module": "jupyter-threejs",
      "model_module_version": "^2.0.3",
      "model_name": "SceneModel",
      "state": {
       "_view_module": null,
       "_view_module_version": "",
       "children": [
        "IPY_MODEL_1a790b8fbb3a4793b4660ebceca426a5",
        "IPY_MODEL_02bfb30cf374447d93d683d4f3d4286d",
        "IPY_MODEL_a8547ddc2e004c3b9df29b86604e0308"
       ]
      }
     },
     "ee9a17b933de4536b5fed5779d25531f": {
      "model_module": "jupyter-threejs",
      "model_module_version": "^2.0.3",
      "model_name": "DirectionalLightModel",
      "state": {
       "_view_module": null,
       "_view_module_version": "",
       "color": "white",
       "intensity": 0.5,
       "matrixWorldNeedsUpdate": true,
       "position": [
        3,
        5,
        1
       ],
       "shadow": "IPY_MODEL_8b6f6f23-f036-4962-b288-44e05d01b0bc",
       "target": "IPY_MODEL_535c43d8-b7db-4405-82c3-5c847dff8386"
      }
     },
     "f0548df8-1162-4bfd-88b6-f2a7d5a95ecd": {
      "model_module": "jupyter-threejs",
      "model_module_version": "^2.0.3",
      "model_name": "DirectionalLightShadowModel",
      "state": {
       "camera": "IPY_MODEL_aaaa0216-286c-4088-89f8-2163d59c87a6"
      }
     },
     "f3c9425b08444fbbaf59f68e58c7fe8d": {
      "model_module": "jupyter-threejs",
      "model_module_version": "^2.0.3",
      "model_name": "RendererModel",
      "state": {
       "camera": "IPY_MODEL_04b3f4cc7e62448f909d392992ed8846",
       "controls": [
        "IPY_MODEL_c8fb6190952543b8b0bdf8218a39023b"
       ],
       "layout": "IPY_MODEL_b9a8b42ef8d8446f91ef5f79da3e3688",
       "scene": "IPY_MODEL_d7aec9b770e8419a9a3738ede8a2c74a",
       "shadowMap": "IPY_MODEL_631062026fbe491f85462f195ac17445"
      }
     },
     "f70e308b-3c01-4ba8-a820-fb934d9f339d": {
      "model_module": "jupyter-threejs",
      "model_module_version": "^2.0.3",
      "model_name": "OrthographicCameraModel",
      "state": {
       "bottom": -5,
       "far": 500,
       "left": -5,
       "near": 0.5,
       "projectionMatrix": [
        0.2,
        0,
        0,
        0,
        0,
        0.2,
        0,
        0,
        0,
        0,
        -0.004004004004004004,
        0,
        0,
        0,
        -1.002002002002002,
        1
       ],
       "right": 5,
       "top": 5
      }
     },
     "f777caf7-a326-4348-9263-23a24452f8b7": {
      "model_module": "jupyter-threejs",
      "model_module_version": "^2.0.3",
      "model_name": "Object3DModel",
      "state": {}
     },
     "f90441de-67da-49d0-9ea2-2c2260f25805": {
      "model_module": "jupyter-threejs",
      "model_module_version": "^2.0.3",
      "model_name": "Object3DModel",
      "state": {}
     },
     "fa693833cc6743ddacb59c67e646515c": {
      "model_module": "jupyter-threejs",
      "model_module_version": "^2.0.3",
      "model_name": "OrbitControlsModel",
      "state": {
       "_view_module": null,
       "_view_module_version": "",
       "controlling": "IPY_MODEL_0d3a5517635f4048adf449bd4f878c52",
       "maxAzimuthAngle": "inf",
       "maxDistance": "inf",
       "maxZoom": "inf",
       "minAzimuthAngle": "-inf"
      }
     },
     "fa9017b1f8f3455aaa9d904fa053e281": {
      "model_module": "jupyter-threejs",
      "model_module_version": "^2.0.3",
      "model_name": "AmbientLightModel",
      "state": {
       "_view_module": null,
       "_view_module_version": "",
       "color": "#777777"
      }
     },
     "fb45f1766f5745bc84cb11ab01132ce8": {
      "model_module": "jupyter-threejs",
      "model_module_version": "^2.0.3",
      "model_name": "RendererModel",
      "state": {
       "camera": "IPY_MODEL_4f70a3feea464304a0ce6f665ddbd596",
       "controls": [
        "IPY_MODEL_cfab0100c3474a93a670e00f760f4e61"
       ],
       "layout": "IPY_MODEL_dba0ffffb19542cab297216fa6a7f696",
       "scene": "IPY_MODEL_b47370ea41a441ceb9488cd251cf4385",
       "shadowMap": "IPY_MODEL_625c5131abd3468ea3a952329506be9f"
      }
     },
     "fd650f61c7e34ce8b527b1206dc8d6cc": {
      "model_module": "jupyter-threejs",
      "model_module_version": "^2.0.3",
      "model_name": "WebGLShadowMapModel",
      "state": {
       "_view_module": null,
       "_view_module_version": ""
      }
     },
     "feebcad614424307be0a323c3c979d72": {
      "model_module": "jupyter-threejs",
      "model_module_version": "^2.0.3",
      "model_name": "DirectionalLightModel",
      "state": {
       "_view_module": null,
       "_view_module_version": "",
       "matrixWorldNeedsUpdate": true,
       "position": [
        0,
        10,
        10
       ],
       "shadow": "IPY_MODEL_447a328a-97f4-4dbb-8503-833b39e57546",
       "target": "IPY_MODEL_a0c0426e-b991-4798-941f-bb1de565165a"
      }
     }
    },
    "version_major": 2,
    "version_minor": 0
   }
  }
 },
 "nbformat": 4,
 "nbformat_minor": 2
}
