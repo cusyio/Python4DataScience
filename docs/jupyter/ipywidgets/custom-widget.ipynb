{
 "cells": [
  {
   "cell_type": "markdown",
   "metadata": {},
   "source": [
    "# Benutzerdefiniertes Widget"
   ]
  },
  {
   "cell_type": "markdown",
   "metadata": {},
   "source": [
    "Das Widget-Framework basiert auf dem [Comms](https://jupyter-notebook.readthedocs.io/en/stable/comms.html)-Framework, das dem Kernel ermöglicht, JSON an das Frontend zu senden und zu empfangen. Um nun ein benutzerdefiniertes Widget zu erstellen, muss das Widget sowohl im Browser als auch im Python-Kernel definiert werden.\n",
    "\n",
    "Weitere Informatinen zum Comms-Framework erhaltet ihr im [Low Level Widget Tutorial](https://ipywidgets.readthedocs.io/en/stable/examples/Widget%20Low%20Level.html)."
   ]
  },
  {
   "cell_type": "markdown",
   "metadata": {},
   "source": [
    "## Python-Kernel"
   ]
  },
  {
   "cell_type": "markdown",
   "metadata": {},
   "source": [
    "### DOMWidget\n",
    "\n",
    "Um ein Widget zu definieren, muss es von der Basisklasse `Widget` oder `DOMWidget` erben. Wenn das Widget im Jupyter-Notebook angezeigt werden soll, sollte euer Widget von `DOMWidget` erben. Dabei erbt Die `DOMWidget`-Klasse selbst von der `Widget`-Klasse. "
   ]
  },
  {
   "cell_type": "markdown",
   "metadata": {},
   "source": [
    "### `_view_name`\n",
    "\n",
    "Durch die Übernahme von `DOMWidget` wird dem Widget-Framework **nicht** mitgeteilt, welches Frontend-Widget mit dem Backend-Widget verknüpft werden soll.\n",
    "\n",
    "Stattdessen müsst ihr dies selbst angeben durch eines der folgenden Attribute:\n",
    "\n",
    "* `_view_name`\n",
    "* `_view_module`\n",
    "* `_view_module_version`\n",
    "\n",
    "und gegebenenfalls\n",
    "\n",
    "* `_model_name`\n",
    "* `_model_module`"
   ]
  },
  {
   "cell_type": "code",
   "execution_count": 1,
   "metadata": {},
   "outputs": [],
   "source": [
    "import ipywidgets as widgets\n",
    "from traitlets import Unicode, validate\n",
    "\n",
    "class HelloWidget(widgets.DOMWidget):\n",
    "    _view_name = Unicode('HelloView').tag(sync=True)\n",
    "    _view_module = Unicode('hello').tag(sync=True)\n",
    "    _view_module_version = Unicode('0.1.0').tag(sync=True)"
   ]
  },
  {
   "cell_type": "markdown",
   "metadata": {},
   "source": [
    "### `sync=True`-Traitlets\n",
    "\n",
    "[Traitlets](https://traitlets.readthedocs.io/en/stable/) ist ein Framework, mit dem Python-Klassen Attribute mit Typprüfung, dynamisch berechneten Standardwerten und Callbacks bei Änderung haben können. Das `sync=True`- Keyword-Argument weist das Widget-Framework an, den Wert mit dem Browser zu synchronisieren; ohne würde der Browser nichts von `_view_name` oder `_view_module` erfahren."
   ]
  },
  {
   "cell_type": "markdown",
   "metadata": {},
   "source": [
    "## Frontend (JavaScript)"
   ]
  },
  {
   "cell_type": "markdown",
   "metadata": {},
   "source": [
    "### *Models* und *Views*\n",
    "\n",
    "Das Frontend des IPython-Widget-Frameworks hängt stark von [Backbone.js](http://backbonejs.org/) ab. *Backbone.js* ist ein MVC-Framework ([Model View Controller](https://de.wikipedia.org/wiki/Model_View_Controller)), das im Backend definierte Widgets automatisch mit generischen *Backbone.js*-Modellen im Frontend synchronisiert: das vorher  definierte `_view_name`-Merkmal wird vom Widget-Framework verwendet, um die entsprechende *Backbone.js*-*View* zu erstellen und diese mit dem *Model* zu verknüpfen."
   ]
  },
  {
   "cell_type": "markdown",
   "metadata": {},
   "source": [
    "### `@jupyter-widgets/base` importieren\n",
    "\n",
    "Ihr müsst zuerst das `@jupyter-widgets/base`-Modul mit der `define`-Methode von [requir.js](https://requirejs.org/)."
   ]
  },
  {
   "cell_type": "code",
   "execution_count": 2,
   "metadata": {},
   "outputs": [
    {
     "data": {
      "application/javascript": [
       "define('hello', [\"@jupyter-widgets/base\"], function(widgets) {\n",
       "\n",
       "});\n"
      ],
      "text/plain": [
       "<IPython.core.display.Javascript object>"
      ]
     },
     "metadata": {},
     "output_type": "display_data"
    }
   ],
   "source": [
    "%%javascript\n",
    "define('hello', [\"@jupyter-widgets/base\"], function(widgets) {\n",
    "\n",
    "});"
   ]
  },
  {
   "cell_type": "markdown",
   "metadata": {},
   "source": [
    "### View definieren\n",
    "\n",
    "Als nächstes definieren wir die Widget-*View*-Klasse wobei wir von `DOMWidgetView` mit der `.extend`-Methode erben."
   ]
  },
  {
   "cell_type": "code",
   "execution_count": 3,
   "metadata": {},
   "outputs": [
    {
     "data": {
      "application/javascript": [
       "require.undef('hello');\n",
       "\n",
       "define('hello', [\"@jupyter-widgets/base\"], function(widgets) {\n",
       "    // Define the HelloView\n",
       "    var HelloView = widgets.DOMWidgetView.extend({\n",
       "    });\n",
       "    return {\n",
       "        HelloView: HelloView\n",
       "    }\n",
       "});\n"
      ],
      "text/plain": [
       "<IPython.core.display.Javascript object>"
      ]
     },
     "metadata": {},
     "output_type": "display_data"
    }
   ],
   "source": [
    "%%javascript\n",
    "require.undef('hello');\n",
    "\n",
    "define('hello', [\"@jupyter-widgets/base\"], function(widgets) {\n",
    "    // Define the HelloView\n",
    "    var HelloView = widgets.DOMWidgetView.extend({\n",
    "    });\n",
    "    return {\n",
    "        HelloView: HelloView\n",
    "    }\n",
    "});"
   ]
  },
  {
   "cell_type": "markdown",
   "metadata": {},
   "source": [
    "### `render`-Methode\n",
    "\n",
    "Zum Schluss müssen wir noch die Basismethode `render` überschreiben um eine benutzerdefinierte Rendering-Logik zu definieren. Ein Handle auf das Standard-DOM-Element des Widgets kann mit `this.el` aufgerufen werden. Die `el`-Eigenschaft ist das DOM-Element, das der Ansicht zugeordnet ist."
   ]
  },
  {
   "cell_type": "code",
   "execution_count": 4,
   "metadata": {},
   "outputs": [
    {
     "data": {
      "application/javascript": [
       "require.undef('hello');\n",
       "\n",
       "define('hello', [\"@jupyter-widgets/base\"], function(widgets) {\n",
       "    var HelloView = widgets.DOMWidgetView.extend({\n",
       "        // Render the view.\n",
       "        render: function() {\n",
       "            this.el.textContent = 'Hello World!';\n",
       "        },\n",
       "    });\n",
       "    return {\n",
       "        HelloView: HelloView\n",
       "    };\n",
       "});\n"
      ],
      "text/plain": [
       "<IPython.core.display.Javascript object>"
      ]
     },
     "metadata": {},
     "output_type": "display_data"
    }
   ],
   "source": [
    "%%javascript\n",
    "require.undef('hello');\n",
    "\n",
    "define('hello', [\"@jupyter-widgets/base\"], function(widgets) {\n",
    "    var HelloView = widgets.DOMWidgetView.extend({\n",
    "        // Render the view.\n",
    "        render: function() {\n",
    "            this.el.textContent = 'Hello World!';\n",
    "        },\n",
    "    });\n",
    "    return {\n",
    "        HelloView: HelloView\n",
    "    };\n",
    "});"
   ]
  },
  {
   "cell_type": "markdown",
   "metadata": {},
   "source": [
    "## Test\n",
    "\n",
    "Das Widget lässt sich jetzt wie jedes andere Widget anzeigen mit"
   ]
  },
  {
   "cell_type": "code",
   "execution_count": 5,
   "metadata": {},
   "outputs": [
    {
     "data": {
      "application/vnd.jupyter.widget-view+json": {
       "model_id": "7c702b32e7754a058e63cc85c384404f",
       "version_major": 2,
       "version_minor": 0
      },
      "text/plain": [
       "HelloWidget()"
      ]
     },
     "metadata": {},
     "output_type": "display_data"
    }
   ],
   "source": [
    "HelloWidget()"
   ]
  },
  {
   "cell_type": "markdown",
   "metadata": {},
   "source": [
    "## Stateful Widget\n",
    "\n",
    "Mit dem obigen Beispiel könnt ihr noch nicht viel tun. Um dies zu ändern, müsst ihr das Widget *stateful* machen. Anstelle einer statischen *Hello World!*-Meldung soll eine vom Backend festgelegter *String* angezeigt werden. Hierzu wird zunächst ein neues Traitlet hinzugefügt. Verwendet hierbei den Namen von `value`, um mit dem Rest des Widget-Frameworks konsistent zu bleiben und die Verwendung eures Widgets mit Interaktion zu ermöglichen."
   ]
  },
  {
   "cell_type": "markdown",
   "metadata": {},
   "source": [
    "## Jupyter Widgets aus einem Template erstellen\n",
    "\n",
    "Mit [widget-cookiecutter](https://github.com/jupyter/widget-cookiecutter) ist ein [Cookiecutter](https://github.com/audreyr/cookiecutter)-Template verfügbar. Es enthält eine Implementierung für ein Platzhalter-Widget *Hello World*. Darüberhinaus erleichtert es euch das Packen und Verteilen eurer Jupyter Widgets."
   ]
  }
 ],
 "metadata": {
  "kernelspec": {
   "display_name": "Python 3",
   "language": "python",
   "name": "python3"
  },
  "language_info": {
   "codemirror_mode": {
    "name": "ipython",
    "version": 3
   },
   "file_extension": ".py",
   "mimetype": "text/x-python",
   "name": "python",
   "nbconvert_exporter": "python",
   "pygments_lexer": "ipython3",
   "version": "3.7.0"
  },
  "latex_envs": {
   "LaTeX_envs_menu_present": true,
   "autoclose": false,
   "autocomplete": true,
   "bibliofile": "biblio.bib",
   "cite_by": "apalike",
   "current_citInitial": 1,
   "eqLabelWithNumbers": true,
   "eqNumInitial": 1,
   "hotkeys": {
    "equation": "Ctrl-E",
    "itemize": "Ctrl-I"
   },
   "labels_anchors": false,
   "latex_user_defs": false,
   "report_style_numbering": false,
   "user_envs_cfg": false
  },
  "widgets": {
   "application/vnd.jupyter.widget-state+json": {
    "state": {
     "0a63069e58bd4439908f2006e9da635f": {
      "model_module": "@jupyter-widgets/base",
      "model_module_version": "1.1.0",
      "model_name": "LayoutModel",
      "state": {}
     },
     "5d55ae92d0ab42abb80918f61c9bea3a": {
      "model_module": "@jupyter-widgets/base",
      "model_module_version": "1.1.0",
      "model_name": "DOMWidgetModel",
      "state": {
       "_model_name": "DOMWidgetModel",
       "_view_module": "hello",
       "_view_module_version": "0.1.0",
       "_view_name": "HelloView",
       "layout": "IPY_MODEL_b84a31a28dc6401c91e3e3b058bbe0c8",
       "value": "test"
      }
     },
     "6297df03db5f498d83ce8dfba64d719b": {
      "model_module": "@jupyter-widgets/base",
      "model_module_version": "1.1.0",
      "model_name": "DOMWidgetModel",
      "state": {
       "_model_name": "DOMWidgetModel",
       "_view_module": "hello",
       "_view_module_version": "0.1.0",
       "_view_name": "HelloView",
       "layout": "IPY_MODEL_c50dc56431b74c25a0bde499e906a7ea",
       "value": "test"
      }
     },
     "7c702b32e7754a058e63cc85c384404f": {
      "model_module": "@jupyter-widgets/base",
      "model_module_version": "1.1.0",
      "model_name": "DOMWidgetModel",
      "state": {
       "_model_name": "DOMWidgetModel",
       "_view_module": "hello",
       "_view_module_version": "0.1.0",
       "_view_name": "HelloView",
       "layout": "IPY_MODEL_a898063a886e43a6826be42f1eac9e5d"
      }
     },
     "8049e8fcb4454ae4ba43c6d6d66c9c5f": {
      "model_module": "@jupyter-widgets/base",
      "model_module_version": "1.1.0",
      "model_name": "DOMWidgetModel",
      "state": {
       "_model_name": "DOMWidgetModel",
       "_view_module": "hello",
       "_view_module_version": "0.1.0",
       "_view_name": "HelloView",
       "layout": "IPY_MODEL_0a63069e58bd4439908f2006e9da635f"
      }
     },
     "a898063a886e43a6826be42f1eac9e5d": {
      "model_module": "@jupyter-widgets/base",
      "model_module_version": "1.1.0",
      "model_name": "LayoutModel",
      "state": {}
     },
     "b84a31a28dc6401c91e3e3b058bbe0c8": {
      "model_module": "@jupyter-widgets/base",
      "model_module_version": "1.1.0",
      "model_name": "LayoutModel",
      "state": {}
     },
     "c50dc56431b74c25a0bde499e906a7ea": {
      "model_module": "@jupyter-widgets/base",
      "model_module_version": "1.1.0",
      "model_name": "LayoutModel",
      "state": {}
     }
    },
    "version_major": 2,
    "version_minor": 0
   }
  }
 },
 "nbformat": 4,
 "nbformat_minor": 2
}
