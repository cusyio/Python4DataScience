{
 "cells": [
  {
   "cell_type": "markdown",
   "metadata": {},
   "source": [
    "# Widget-Liste"
   ]
  },
  {
   "cell_type": "code",
   "execution_count": 1,
   "metadata": {},
   "outputs": [],
   "source": [
    "import ipywidgets as widgets"
   ]
  },
  {
   "cell_type": "markdown",
   "metadata": {
    "slideshow": {
     "slide_type": "slide"
    }
   },
   "source": [
    "## Numerische Widgets"
   ]
  },
  {
   "cell_type": "markdown",
   "metadata": {},
   "source": [
    "Es gibt eine Vielzahl von IPython-Widgets, die numerische Werte anzeigen sollen. Dabei haben die Ganzzahl-Widgets ein ähnliches Benennungsschema wie ihre Gegenstücke mit Gleitkommazahlen. Durch Ersetzen von `Float` durch `Int` im Widget-Namen könnt ihr das jeweilige Integer-Äquivalent finden."
   ]
  },
  {
   "cell_type": "markdown",
   "metadata": {},
   "source": [
    "### IntSlider"
   ]
  },
  {
   "cell_type": "code",
   "execution_count": 2,
   "metadata": {},
   "outputs": [
    {
     "data": {
      "application/vnd.jupyter.widget-view+json": {
       "model_id": "deeab09aba824cb8918b3b7ba93104ed",
       "version_major": 2,
       "version_minor": 0
      },
      "text/plain": [
       "IntSlider(value=7, continuous_update=False, description='Test:', max=10)"
      ]
     },
     "metadata": {},
     "output_type": "display_data"
    }
   ],
   "source": [
    "widgets.IntSlider(\n",
    "    value=7,\n",
    "    min=0,\n",
    "    max=10,\n",
    "    step=1,\n",
    "    description='Test:',\n",
    "    disabled=False,\n",
    "    continuous_update=False,\n",
    "    orientation='horizontal',\n",
    "    readout=True,\n",
    "    readout_format='d'\n",
    ")"
   ]
  },
  {
   "cell_type": "markdown",
   "metadata": {
    "slideshow": {
     "slide_type": "slide"
    }
   },
   "source": [
    "### FloatSlider"
   ]
  },
  {
   "cell_type": "code",
   "execution_count": 3,
   "metadata": {},
   "outputs": [
    {
     "data": {
      "application/vnd.jupyter.widget-view+json": {
       "model_id": "e9ac06911bc74ef089c9557355e7d937",
       "version_major": 2,
       "version_minor": 0
      },
      "text/plain": [
       "FloatSlider(value=7.5, continuous_update=False, description='Test:', max=10.0, readout_format='.1f')"
      ]
     },
     "metadata": {},
     "output_type": "display_data"
    }
   ],
   "source": [
    "widgets.FloatSlider(\n",
    "    value=7.5,\n",
    "    min=0,\n",
    "    max=10.0,\n",
    "    step=0.1,\n",
    "    description='Test:',\n",
    "    disabled=False,\n",
    "    continuous_update=False,\n",
    "    orientation='horizontal',\n",
    "    readout=True,\n",
    "    readout_format='.1f',\n",
    ")"
   ]
  },
  {
   "cell_type": "markdown",
   "metadata": {},
   "source": [
    "Sliders can also be **displayed vertically**."
   ]
  },
  {
   "cell_type": "code",
   "execution_count": 4,
   "metadata": {},
   "outputs": [
    {
     "data": {
      "application/vnd.jupyter.widget-view+json": {
       "model_id": "1cf6614a1f664199a9908894134d9e81",
       "version_major": 2,
       "version_minor": 0
      },
      "text/plain": [
       "FloatSlider(value=7.5, continuous_update=False, description='Test:', max=10.0, orientation='vertical', readout…"
      ]
     },
     "metadata": {},
     "output_type": "display_data"
    }
   ],
   "source": [
    "widgets.FloatSlider(\n",
    "    value=7.5,\n",
    "    min=0,\n",
    "    max=10.0,\n",
    "    step=0.1,\n",
    "    description='Test:',\n",
    "    disabled=False,\n",
    "    continuous_update=False,\n",
    "    orientation='vertical',\n",
    "    readout=True,\n",
    "    readout_format='.1f',\n",
    ")"
   ]
  },
  {
   "cell_type": "markdown",
   "metadata": {},
   "source": [
    "### FloatLogSlider"
   ]
  },
  {
   "cell_type": "markdown",
   "metadata": {},
   "source": [
    "Der `FloatLogSlider` verfügt über eine Skala, die es einfach macht, einen Schieberegler für einen großen Bereich positiver Zahlen zu verwenden. `min` und `max` beziehen sich auf die minimalen und maximalen Exponenten der Basis und der `value` bezieht sich auf den tatsächlichen Wert des Schiebereglers."
   ]
  },
  {
   "cell_type": "code",
   "execution_count": 5,
   "metadata": {},
   "outputs": [
    {
     "data": {
      "application/vnd.jupyter.widget-view+json": {
       "model_id": "41fb3a24fdf7445d8782bde8660daceb",
       "version_major": 2,
       "version_minor": 0
      },
      "text/plain": [
       "FloatLogSlider(value=10.0, description='Log Slider', max=10.0, min=-10.0, step=0.2)"
      ]
     },
     "metadata": {},
     "output_type": "display_data"
    }
   ],
   "source": [
    "widgets.FloatLogSlider(\n",
    "    value=10,\n",
    "    base=10,\n",
    "    min=-10, # max exponent of base\n",
    "    max=10, # min exponent of base\n",
    "    step=0.2, # exponent step\n",
    "    description='Log Slider'\n",
    ")"
   ]
  },
  {
   "cell_type": "markdown",
   "metadata": {},
   "source": [
    "### IntRangeSlider"
   ]
  },
  {
   "cell_type": "code",
   "execution_count": 6,
   "metadata": {},
   "outputs": [
    {
     "data": {
      "application/vnd.jupyter.widget-view+json": {
       "model_id": "d3f16c15420f40ba8cfce15b9d09a070",
       "version_major": 2,
       "version_minor": 0
      },
      "text/plain": [
       "IntRangeSlider(value=(5, 7), continuous_update=False, description='Test:', max=10)"
      ]
     },
     "metadata": {},
     "output_type": "display_data"
    }
   ],
   "source": [
    "widgets.IntRangeSlider(\n",
    "    value=[5, 7],\n",
    "    min=0,\n",
    "    max=10,\n",
    "    step=1,\n",
    "    description='Test:',\n",
    "    disabled=False,\n",
    "    continuous_update=False,\n",
    "    orientation='horizontal',\n",
    "    readout=True,\n",
    "    readout_format='d',\n",
    ")"
   ]
  },
  {
   "cell_type": "markdown",
   "metadata": {},
   "source": [
    "### FloatRangeSlider"
   ]
  },
  {
   "cell_type": "code",
   "execution_count": 7,
   "metadata": {},
   "outputs": [
    {
     "data": {
      "application/vnd.jupyter.widget-view+json": {
       "model_id": "3e02c02a731740ca9cd97d17f551559c",
       "version_major": 2,
       "version_minor": 0
      },
      "text/plain": [
       "FloatRangeSlider(value=(5.0, 7.5), continuous_update=False, description='Test:', max=10.0, readout_format='.1f…"
      ]
     },
     "metadata": {},
     "output_type": "display_data"
    }
   ],
   "source": [
    "widgets.FloatRangeSlider(\n",
    "    value=[5, 7.5],\n",
    "    min=0,\n",
    "    max=10.0,\n",
    "    step=0.1,\n",
    "    description='Test:',\n",
    "    disabled=False,\n",
    "    continuous_update=False,\n",
    "    orientation='horizontal',\n",
    "    readout=True,\n",
    "    readout_format='.1f',\n",
    ")"
   ]
  },
  {
   "cell_type": "markdown",
   "metadata": {},
   "source": [
    "### IntProgress"
   ]
  },
  {
   "cell_type": "code",
   "execution_count": 8,
   "metadata": {},
   "outputs": [
    {
     "data": {
      "application/vnd.jupyter.widget-view+json": {
       "model_id": "7b3fa54479044aa88bbb225c5d50753e",
       "version_major": 2,
       "version_minor": 0
      },
      "text/plain": [
       "IntProgress(value=7, description='Loading:', max=10)"
      ]
     },
     "metadata": {},
     "output_type": "display_data"
    }
   ],
   "source": [
    "widgets.IntProgress(\n",
    "    value=7,\n",
    "    min=0,\n",
    "    max=10,\n",
    "    step=1,\n",
    "    description='Loading:',\n",
    "    bar_style='', # 'success', 'info', 'warning', 'danger' or ''\n",
    "    orientation='horizontal'\n",
    ")"
   ]
  },
  {
   "cell_type": "markdown",
   "metadata": {
    "slideshow": {
     "slide_type": "slide"
    }
   },
   "source": [
    "### FloatProgress"
   ]
  },
  {
   "cell_type": "code",
   "execution_count": 9,
   "metadata": {},
   "outputs": [
    {
     "data": {
      "application/vnd.jupyter.widget-view+json": {
       "model_id": "9747046ae6ab492583329d3705b36219",
       "version_major": 2,
       "version_minor": 0
      },
      "text/plain": [
       "FloatProgress(value=7.5, bar_style='info', description='Loading:', max=10.0)"
      ]
     },
     "metadata": {},
     "output_type": "display_data"
    }
   ],
   "source": [
    "widgets.FloatProgress(\n",
    "    value=7.5,\n",
    "    min=0,\n",
    "    max=10.0,\n",
    "    step=0.1,\n",
    "    description='Loading:',\n",
    "    bar_style='info',\n",
    "    orientation='horizontal'\n",
    ")"
   ]
  },
  {
   "cell_type": "markdown",
   "metadata": {},
   "source": [
    "The numerical text boxes that impose some limit on the data (range, integer-only) impose that restriction when the user presses enter.\n",
    "\n",
    "### BoundedIntText"
   ]
  },
  {
   "cell_type": "code",
   "execution_count": 10,
   "metadata": {},
   "outputs": [
    {
     "data": {
      "application/vnd.jupyter.widget-view+json": {
       "model_id": "2a4a751fbace4da28bae0bf6dc460083",
       "version_major": 2,
       "version_minor": 0
      },
      "text/plain": [
       "BoundedIntText(value=7, description='Text:', max=10)"
      ]
     },
     "metadata": {},
     "output_type": "display_data"
    }
   ],
   "source": [
    "widgets.BoundedIntText(\n",
    "    value=7,\n",
    "    min=0,\n",
    "    max=10,\n",
    "    step=1,\n",
    "    description='Text:',\n",
    "    disabled=False\n",
    ")"
   ]
  },
  {
   "cell_type": "markdown",
   "metadata": {
    "slideshow": {
     "slide_type": "slide"
    }
   },
   "source": [
    "### BoundedFloatText"
   ]
  },
  {
   "cell_type": "code",
   "execution_count": 11,
   "metadata": {},
   "outputs": [
    {
     "data": {
      "application/vnd.jupyter.widget-view+json": {
       "model_id": "ee02373e559b4374b90d463405ecc9a1",
       "version_major": 2,
       "version_minor": 0
      },
      "text/plain": [
       "BoundedFloatText(value=7.5, description='Text:', max=10.0, step=0.1)"
      ]
     },
     "metadata": {},
     "output_type": "display_data"
    }
   ],
   "source": [
    "widgets.BoundedFloatText(\n",
    "    value=7.5,\n",
    "    min=0,\n",
    "    max=10.0,\n",
    "    step=0.1,\n",
    "    description='Text:',\n",
    "    disabled=False\n",
    ")"
   ]
  },
  {
   "cell_type": "markdown",
   "metadata": {},
   "source": [
    "### IntText"
   ]
  },
  {
   "cell_type": "code",
   "execution_count": 12,
   "metadata": {},
   "outputs": [
    {
     "data": {
      "application/vnd.jupyter.widget-view+json": {
       "model_id": "446947b7c801417ea4f7c082a6d7db3b",
       "version_major": 2,
       "version_minor": 0
      },
      "text/plain": [
       "IntText(value=7, description='Any:')"
      ]
     },
     "metadata": {},
     "output_type": "display_data"
    }
   ],
   "source": [
    "widgets.IntText(\n",
    "    value=7,\n",
    "    description='Any:',\n",
    "    disabled=False\n",
    ")"
   ]
  },
  {
   "cell_type": "markdown",
   "metadata": {
    "slideshow": {
     "slide_type": "slide"
    }
   },
   "source": [
    "### FloatText"
   ]
  },
  {
   "cell_type": "code",
   "execution_count": 13,
   "metadata": {},
   "outputs": [
    {
     "data": {
      "application/vnd.jupyter.widget-view+json": {
       "model_id": "459245a7b8df4e70bc4e7734461a814b",
       "version_major": 2,
       "version_minor": 0
      },
      "text/plain": [
       "FloatText(value=7.5, description='Any:')"
      ]
     },
     "metadata": {},
     "output_type": "display_data"
    }
   ],
   "source": [
    "widgets.FloatText(\n",
    "    value=7.5,\n",
    "    description='Any:',\n",
    "    disabled=False\n",
    ")"
   ]
  },
  {
   "cell_type": "markdown",
   "metadata": {
    "slideshow": {
     "slide_type": "slide"
    }
   },
   "source": [
    "## Boolesche Widgets"
   ]
  },
  {
   "cell_type": "markdown",
   "metadata": {},
   "source": [
    "Es gibt drei Widgets, die boolesche Wert anzeigen sollen."
   ]
  },
  {
   "cell_type": "markdown",
   "metadata": {},
   "source": [
    "### ToggleButton"
   ]
  },
  {
   "cell_type": "code",
   "execution_count": 14,
   "metadata": {},
   "outputs": [
    {
     "data": {
      "application/vnd.jupyter.widget-view+json": {
       "model_id": "1282b15e12ef4826942334dab7e3921d",
       "version_major": 2,
       "version_minor": 0
      },
      "text/plain": [
       "ToggleButton(value=False, description='Click me', icon='check', tooltip='Description')"
      ]
     },
     "metadata": {},
     "output_type": "display_data"
    }
   ],
   "source": [
    "widgets.ToggleButton(\n",
    "    value=False,\n",
    "    description='Click me',\n",
    "    disabled=False,\n",
    "    button_style='', # 'success', 'info', 'warning', 'danger' or ''\n",
    "    tooltip='Description',\n",
    "    icon='check'\n",
    ")"
   ]
  },
  {
   "cell_type": "markdown",
   "metadata": {
    "slideshow": {
     "slide_type": "slide"
    }
   },
   "source": [
    "### Checkbox"
   ]
  },
  {
   "cell_type": "code",
   "execution_count": 15,
   "metadata": {},
   "outputs": [
    {
     "data": {
      "application/vnd.jupyter.widget-view+json": {
       "model_id": "8fc73a13add0416aacad4d4dbee2f43c",
       "version_major": 2,
       "version_minor": 0
      },
      "text/plain": [
       "Checkbox(value=False, description='Check me')"
      ]
     },
     "metadata": {},
     "output_type": "display_data"
    }
   ],
   "source": [
    "widgets.Checkbox(\n",
    "    value=False,\n",
    "    description='Check me',\n",
    "    disabled=False\n",
    ")"
   ]
  },
  {
   "cell_type": "markdown",
   "metadata": {},
   "source": [
    "### Valid\n",
    "\n",
    "Das `Valid`-Widget bietet eine read-only-Anzeige."
   ]
  },
  {
   "cell_type": "code",
   "execution_count": 16,
   "metadata": {},
   "outputs": [
    {
     "data": {
      "application/vnd.jupyter.widget-view+json": {
       "model_id": "109deb07983248cebe8a7f73dd04410d",
       "version_major": 2,
       "version_minor": 0
      },
      "text/plain": [
       "Valid(value=False, description='Valid!')"
      ]
     },
     "metadata": {},
     "output_type": "display_data"
    }
   ],
   "source": [
    "widgets.Valid(\n",
    "    value=False,\n",
    "    description='Valid!',\n",
    ")"
   ]
  },
  {
   "cell_type": "markdown",
   "metadata": {
    "slideshow": {
     "slide_type": "slide"
    }
   },
   "source": [
    "## Auswahl-Widgets"
   ]
  },
  {
   "cell_type": "markdown",
   "metadata": {},
   "source": [
    "Es gibt mehrere Widgets zum Auswählen einzelner Werte und zwei für mehrere Werte. Alle erben von derselben Basisklasse."
   ]
  },
  {
   "cell_type": "markdown",
   "metadata": {
    "slideshow": {
     "slide_type": "slide"
    }
   },
   "source": [
    "### Dropdown"
   ]
  },
  {
   "cell_type": "code",
   "execution_count": 17,
   "metadata": {},
   "outputs": [
    {
     "data": {
      "application/vnd.jupyter.widget-view+json": {
       "model_id": "bbdb3195d49849679cc1305df028dd27",
       "version_major": 2,
       "version_minor": 0
      },
      "text/plain": [
       "Dropdown(description='Number:', index=1, options=('1', '2', '3'), value='2')"
      ]
     },
     "metadata": {},
     "output_type": "display_data"
    }
   ],
   "source": [
    "widgets.Dropdown(\n",
    "    options=['1', '2', '3'],\n",
    "    value='2',\n",
    "    description='Number:',\n",
    "    disabled=False,\n",
    ")"
   ]
  },
  {
   "cell_type": "markdown",
   "metadata": {
    "slideshow": {
     "slide_type": "slide"
    }
   },
   "source": [
    "### RadioButtons"
   ]
  },
  {
   "cell_type": "code",
   "execution_count": 18,
   "metadata": {},
   "outputs": [
    {
     "data": {
      "application/vnd.jupyter.widget-view+json": {
       "model_id": "6b4d486befd0453092b00528ef994ee9",
       "version_major": 2,
       "version_minor": 0
      },
      "text/plain": [
       "RadioButtons(description='Pizza topping:', options=('pepperoni', 'pineapple', 'anchovies'), value='pepperoni')"
      ]
     },
     "metadata": {},
     "output_type": "display_data"
    }
   ],
   "source": [
    "widgets.RadioButtons(\n",
    "    options=['pepperoni', 'pineapple', 'anchovies'],\n",
    "#     value='pineapple',\n",
    "    description='Pizza topping:',\n",
    "    disabled=False\n",
    ")"
   ]
  },
  {
   "cell_type": "markdown",
   "metadata": {
    "slideshow": {
     "slide_type": "slide"
    }
   },
   "source": [
    "### Select"
   ]
  },
  {
   "cell_type": "code",
   "execution_count": 19,
   "metadata": {},
   "outputs": [
    {
     "data": {
      "application/vnd.jupyter.widget-view+json": {
       "model_id": "82f8e6e147fc44cc985357da0dd4fac5",
       "version_major": 2,
       "version_minor": 0
      },
      "text/plain": [
       "Select(description='OS:', index=2, options=('Linux', 'Windows', 'OSX'), value='OSX')"
      ]
     },
     "metadata": {},
     "output_type": "display_data"
    }
   ],
   "source": [
    "widgets.Select(\n",
    "    options=['Linux', 'Windows', 'OSX'],\n",
    "    value='OSX',\n",
    "    # rows=10,\n",
    "    description='OS:',\n",
    "    disabled=False\n",
    ")"
   ]
  },
  {
   "cell_type": "markdown",
   "metadata": {},
   "source": [
    "### SelectionSlider"
   ]
  },
  {
   "cell_type": "code",
   "execution_count": 20,
   "metadata": {},
   "outputs": [
    {
     "data": {
      "application/vnd.jupyter.widget-view+json": {
       "model_id": "d7d726bfaf1e4c5598122e3045621735",
       "version_major": 2,
       "version_minor": 0
      },
      "text/plain": [
       "SelectionSlider(continuous_update=False, description='I like my eggs …', index=1, options=('scrambled', 'sunny…"
      ]
     },
     "metadata": {},
     "output_type": "display_data"
    }
   ],
   "source": [
    "widgets.SelectionSlider(\n",
    "    options=['scrambled', 'sunny side up', 'poached', 'over easy'],\n",
    "    value='sunny side up',\n",
    "    description='I like my eggs …',\n",
    "    disabled=False,\n",
    "    continuous_update=False,\n",
    "    orientation='horizontal',\n",
    "    readout=True\n",
    ")"
   ]
  },
  {
   "cell_type": "markdown",
   "metadata": {},
   "source": [
    "### SelectionRangeSlider\n",
    "\n",
    "`index` ist ein Tupel der Mindest- und Höchstwerte."
   ]
  },
  {
   "cell_type": "code",
   "execution_count": 21,
   "metadata": {},
   "outputs": [
    {
     "data": {
      "application/vnd.jupyter.widget-view+json": {
       "model_id": "5f9be13baaf34da890cf31bc017818b5",
       "version_major": 2,
       "version_minor": 0
      },
      "text/plain": [
       "SelectionRangeSlider(description='Months (2015)', index=(0, 11), options=(('Jan', datetime.date(2015, 1, 1)), …"
      ]
     },
     "metadata": {},
     "output_type": "display_data"
    }
   ],
   "source": [
    "import datetime\n",
    "dates = [datetime.date(2015,i,1) for i in range(1,13)]\n",
    "options = [(i.strftime('%b'), i) for i in dates]\n",
    "widgets.SelectionRangeSlider(\n",
    "    options=options,\n",
    "    index=(0,11),\n",
    "    description='Months (2015)',\n",
    "    disabled=False\n",
    ")"
   ]
  },
  {
   "cell_type": "markdown",
   "metadata": {
    "slideshow": {
     "slide_type": "slide"
    }
   },
   "source": [
    "### ToggleButtons"
   ]
  },
  {
   "cell_type": "code",
   "execution_count": 22,
   "metadata": {},
   "outputs": [
    {
     "data": {
      "application/vnd.jupyter.widget-view+json": {
       "model_id": "a3b92555dadd49c99d1a6cd977252d78",
       "version_major": 2,
       "version_minor": 0
      },
      "text/plain": [
       "ToggleButtons(description='Speed:', options=('Slow', 'Regular', 'Fast'), tooltips=('Description of slow', 'Des…"
      ]
     },
     "metadata": {},
     "output_type": "display_data"
    }
   ],
   "source": [
    "widgets.ToggleButtons(\n",
    "    options=['Slow', 'Regular', 'Fast'],\n",
    "    description='Speed:',\n",
    "    disabled=False,\n",
    "    button_style='', # 'success', 'info', 'warning', 'danger' or ''\n",
    "    tooltips=['Description of slow', 'Description of regular', 'Description of fast'],\n",
    "#     icons=['check'] * 3\n",
    ")"
   ]
  },
  {
   "cell_type": "markdown",
   "metadata": {},
   "source": [
    "### SelectMultiple\n",
    "Mehrere Werte können ausgewählt werden bei den gedrückten Tasten <kbd>shift</kbd> und/oder <kbd>ctrl</kbd> (oder <kbd>command</kbd>) und Mausklicks oder Pfeiltasten."
   ]
  },
  {
   "cell_type": "code",
   "execution_count": 23,
   "metadata": {},
   "outputs": [
    {
     "data": {
      "application/vnd.jupyter.widget-view+json": {
       "model_id": "097b9ff070284a389bcfcc5e23b3581a",
       "version_major": 2,
       "version_minor": 0
      },
      "text/plain": [
       "SelectMultiple(description='Fruits', index=(1,), options=('Apples', 'Oranges', 'Pears'), value=('Oranges',))"
      ]
     },
     "metadata": {},
     "output_type": "display_data"
    }
   ],
   "source": [
    "widgets.SelectMultiple(\n",
    "    options=['Apples', 'Oranges', 'Pears'],\n",
    "    value=['Oranges'],\n",
    "    #rows=10,\n",
    "    description='Fruits',\n",
    "    disabled=False\n",
    ")"
   ]
  },
  {
   "cell_type": "markdown",
   "metadata": {
    "slideshow": {
     "slide_type": "slide"
    }
   },
   "source": [
    "## String-Widgets"
   ]
  },
  {
   "cell_type": "markdown",
   "metadata": {},
   "source": [
    "Es gibt mehrere Widgets, die zum Anzeigen von Strings verwendet werden können. Die Widgets `Text` und `Textarea` akzeptieren Eingaben; die Widgets `HTML` und `HTMLMath` zeigen einen String als HTML an (`HTMLMath` rendert auch mathematische Formeln)."
   ]
  },
  {
   "cell_type": "markdown",
   "metadata": {
    "slideshow": {
     "slide_type": "slide"
    }
   },
   "source": [
    "### Text"
   ]
  },
  {
   "cell_type": "code",
   "execution_count": 24,
   "metadata": {},
   "outputs": [
    {
     "data": {
      "application/vnd.jupyter.widget-view+json": {
       "model_id": "61bc7b08261d40eb93ec6351250dffbb",
       "version_major": 2,
       "version_minor": 0
      },
      "text/plain": [
       "Text(value='Hello World', description='String:', placeholder='Type something')"
      ]
     },
     "metadata": {},
     "output_type": "display_data"
    }
   ],
   "source": [
    "widgets.Text(\n",
    "    value='Hello World',\n",
    "    placeholder='Type something',\n",
    "    description='String:',\n",
    "    disabled=False   \n",
    ")"
   ]
  },
  {
   "cell_type": "markdown",
   "metadata": {},
   "source": [
    "### Textarea"
   ]
  },
  {
   "cell_type": "code",
   "execution_count": 25,
   "metadata": {},
   "outputs": [
    {
     "data": {
      "application/vnd.jupyter.widget-view+json": {
       "model_id": "6eaff922387d49ba89d61106022ad621",
       "version_major": 2,
       "version_minor": 0
      },
      "text/plain": [
       "Textarea(value='Hello World', description='String:', placeholder='Type something')"
      ]
     },
     "metadata": {},
     "output_type": "display_data"
    }
   ],
   "source": [
    "widgets.Textarea(\n",
    "    value='Hello World',\n",
    "    placeholder='Type something',\n",
    "    description='String:',\n",
    "    disabled=False\n",
    ")"
   ]
  },
  {
   "cell_type": "markdown",
   "metadata": {
    "slideshow": {
     "slide_type": "slide"
    }
   },
   "source": [
    "### Label\n",
    "\n",
    "Das `Label`-Widget ist nützlich für benutzerdefinierte Beschreibungen, die einen ähnlichen Stil wie die integrierten Beschreibungen haben."
   ]
  },
  {
   "cell_type": "code",
   "execution_count": 26,
   "metadata": {},
   "outputs": [
    {
     "data": {
      "application/vnd.jupyter.widget-view+json": {
       "model_id": "d810c15c70b640b2b5a0582e6a566df0",
       "version_major": 2,
       "version_minor": 0
      },
      "text/plain": [
       "HBox(children=(Label(value='The $m$ in $E=mc^2$:'), FloatSlider(value=0.0)))"
      ]
     },
     "metadata": {},
     "output_type": "display_data"
    }
   ],
   "source": [
    "widgets.HBox([widgets.Label(value=\"The $m$ in $E=mc^2$:\"), widgets.FloatSlider()])"
   ]
  },
  {
   "cell_type": "markdown",
   "metadata": {},
   "source": [
    "### HTML"
   ]
  },
  {
   "cell_type": "code",
   "execution_count": 27,
   "metadata": {},
   "outputs": [
    {
     "data": {
      "application/vnd.jupyter.widget-view+json": {
       "model_id": "c8ff2b72f8ed4cb68d778c5d9758ce34",
       "version_major": 2,
       "version_minor": 0
      },
      "text/plain": [
       "HTML(value='Hello <b>World</b>', description='Some HTML', placeholder='Some HTML')"
      ]
     },
     "metadata": {},
     "output_type": "display_data"
    }
   ],
   "source": [
    "widgets.HTML(\n",
    "    value=\"Hello <b>World</b>\",\n",
    "    placeholder='Some HTML',\n",
    "    description='Some HTML',\n",
    ")"
   ]
  },
  {
   "cell_type": "markdown",
   "metadata": {},
   "source": [
    "### HTML Math"
   ]
  },
  {
   "cell_type": "code",
   "execution_count": 28,
   "metadata": {},
   "outputs": [
    {
     "data": {
      "application/vnd.jupyter.widget-view+json": {
       "model_id": "772827ba6e804b9bb49ec3b3faa715b9",
       "version_major": 2,
       "version_minor": 0
      },
      "text/plain": [
       "HTMLMath(value='Some math and <i>HTML</i>: \\\\(x^2\\\\) and $$\\\\frac{x+1}{x-1}$$', description='Some HTML', place…"
      ]
     },
     "metadata": {},
     "output_type": "display_data"
    }
   ],
   "source": [
    "widgets.HTMLMath(\n",
    "    value=r\"Some math and <i>HTML</i>: \\(x^2\\) and $$\\frac{x+1}{x-1}$$\",\n",
    "    placeholder='Some HTML',\n",
    "    description='Some HTML',\n",
    ")"
   ]
  },
  {
   "cell_type": "markdown",
   "metadata": {},
   "source": [
    "## Image"
   ]
  },
  {
   "cell_type": "code",
   "execution_count": 29,
   "metadata": {
    "scrolled": true
   },
   "outputs": [
    {
     "data": {
      "application/vnd.jupyter.widget-view+json": {
       "model_id": "09a27da15a4f423ebecd20353e11cc21",
       "version_major": 2,
       "version_minor": 0
      },
      "text/plain": [
       "Image(value=b'GIF89a\\x1e\\x01\\x1e\\x01\\xc4\\x1f\\x00c\\x8d\\xff\\xea\\xea\\xea\\xc7\\xc7\\xc7\\x00\\x00\\x00\\xa0H\\x00\\xa6\\xa6…"
      ]
     },
     "metadata": {},
     "output_type": "display_data"
    }
   ],
   "source": [
    "file = open(\"smiley.gif\", \"rb\")\n",
    "image = file.read()\n",
    "widgets.Image(\n",
    "    value=image,\n",
    "    format='gif',\n",
    "    width=128,\n",
    "    height=128,\n",
    ")"
   ]
  },
  {
   "cell_type": "markdown",
   "metadata": {
    "slideshow": {
     "slide_type": "slide"
    }
   },
   "source": [
    "## Button"
   ]
  },
  {
   "cell_type": "code",
   "execution_count": 30,
   "metadata": {},
   "outputs": [
    {
     "data": {
      "application/vnd.jupyter.widget-view+json": {
       "model_id": "a0f59552d4dc4f58bb56a05bcb0e07c5",
       "version_major": 2,
       "version_minor": 0
      },
      "text/plain": [
       "Button(description='Click me', icon='check', style=ButtonStyle(), tooltip='Click me')"
      ]
     },
     "metadata": {},
     "output_type": "display_data"
    }
   ],
   "source": [
    "widgets.Button(\n",
    "    description='Click me',\n",
    "    disabled=False,\n",
    "    button_style='', # 'success', 'info', 'warning', 'danger' or ''\n",
    "    tooltip='Click me',\n",
    "    icon='check'\n",
    ")"
   ]
  },
  {
   "cell_type": "markdown",
   "metadata": {},
   "source": [
    "## Output\n",
    "\n",
    "Das `Output`-Widget kann `stdout`, `stderr` und [IPython.display](https://ipython.readthedocs.io/en/stable/api/generated/IPython.display.html#module-IPython.display) erfassen und anzeigen. \n",
    "\n",
    "Ihr könnt die Ausgabe sowohl an ein Output-Widget anhängen oder programmatisch löschen."
   ]
  },
  {
   "cell_type": "code",
   "execution_count": 31,
   "metadata": {},
   "outputs": [],
   "source": [
    "out = widgets.Output(layout={'border': '1px solid black'})"
   ]
  },
  {
   "cell_type": "code",
   "execution_count": 32,
   "metadata": {},
   "outputs": [],
   "source": [
    "with out:\n",
    "    for i in range(5):\n",
    "        print(i, 'Hello world!')"
   ]
  },
  {
   "cell_type": "code",
   "execution_count": null,
   "metadata": {
    "scrolled": true
   },
   "outputs": [],
   "source": []
  },
  {
   "cell_type": "code",
   "execution_count": 33,
   "metadata": {},
   "outputs": [],
   "source": [
    "from IPython.display import YouTubeVideo\n",
    "with out:\n",
    "    display(YouTubeVideo('eWzY2nGfkXk'))"
   ]
  },
  {
   "cell_type": "code",
   "execution_count": 34,
   "metadata": {},
   "outputs": [
    {
     "data": {
      "application/vnd.jupyter.widget-view+json": {
       "model_id": "16ed1f77849c49eab48eed7e39883bcc",
       "version_major": 2,
       "version_minor": 0
      },
      "text/plain": [
       "Output(layout=Layout(border='1px solid black'))"
      ]
     },
     "metadata": {},
     "output_type": "display_data"
    }
   ],
   "source": [
    "out"
   ]
  },
  {
   "cell_type": "code",
   "execution_count": 35,
   "metadata": {},
   "outputs": [],
   "source": [
    "out.clear_output()"
   ]
  },
  {
   "cell_type": "markdown",
   "metadata": {},
   "source": [
    "Wir können Ausgaben auch direkt anhängen mit den Methoden `append_stdout`, `append_stderr` oder `append_display_data`."
   ]
  },
  {
   "cell_type": "code",
   "execution_count": 36,
   "metadata": {},
   "outputs": [
    {
     "data": {
      "application/vnd.jupyter.widget-view+json": {
       "model_id": "e52075e6689f424f94eb1aa1a7a07319",
       "version_major": 2,
       "version_minor": 0
      },
      "text/plain": [
       "Output(layout=Layout(border='1px solid black'), outputs=({'output_type': 'stream', 'name': 'stdout', 'text': '…"
      ]
     },
     "metadata": {},
     "output_type": "display_data"
    }
   ],
   "source": [
    "out = widgets.Output(layout={'border': '1px solid black'})\n",
    "out.append_stdout('Output appended with append_stdout')\n",
    "out.append_display_data(YouTubeVideo('eWzY2nGfkXk'))\n",
    "out"
   ]
  },
  {
   "cell_type": "markdown",
   "metadata": {},
   "source": [
    "Eine ausführliche Dokumentation findet ihr in [Output widgets](https://ipywidgets.readthedocs.io/en/stable/examples/Output%20Widget.html)."
   ]
  },
  {
   "cell_type": "markdown",
   "metadata": {},
   "source": [
    "## Play/Animation-Widget"
   ]
  },
  {
   "cell_type": "markdown",
   "metadata": {},
   "source": [
    "Das `Play`-Widget ist nützlich, um Animationen auszuführen, die in einer bestimmten Geschwindigkeit durchlaufen werden sollen. Im folgenden Beispiel ist ein Slider mit dem Player verknüpft."
   ]
  },
  {
   "cell_type": "code",
   "execution_count": 37,
   "metadata": {},
   "outputs": [
    {
     "data": {
      "application/vnd.jupyter.widget-view+json": {
       "model_id": "d91e6868d6614def98786c47863297fc",
       "version_major": 2,
       "version_minor": 0
      },
      "text/plain": [
       "HBox(children=(Play(value=50, description='Press play'), IntSlider(value=0)))"
      ]
     },
     "metadata": {},
     "output_type": "display_data"
    }
   ],
   "source": [
    "play = widgets.Play(\n",
    "#     interval=10,\n",
    "    value=50,\n",
    "    min=0,\n",
    "    max=100,\n",
    "    step=1,\n",
    "    description=\"Press play\",\n",
    "    disabled=False\n",
    ")\n",
    "slider = widgets.IntSlider()\n",
    "widgets.jslink((play, 'value'), (slider, 'value'))\n",
    "widgets.HBox([play, slider])"
   ]
  },
  {
   "cell_type": "markdown",
   "metadata": {},
   "source": [
    "## DatePicker\n",
    "\n",
    "Das Datumsauswahl-Widget funktioniert in Chrome, Firefox und IE Edge, derzeit jedoch nicht in Safari, da dieser `input type="date"` nicht unterstützt."
   ]
  },
  {
   "cell_type": "code",
   "execution_count": 38,
   "metadata": {},
   "outputs": [
    {
     "data": {
      "application/vnd.jupyter.widget-view+json": {
       "model_id": "ada41a2707dc4111876e56a3da0a8731",
       "version_major": 2,
       "version_minor": 0
      },
      "text/plain": [
       "DatePicker(value=None, description='Pick a Date')"
      ]
     },
     "metadata": {},
     "output_type": "display_data"
    }
   ],
   "source": [
    "widgets.DatePicker(\n",
    "    description='Pick a Date',\n",
    "    disabled=False\n",
    ")"
   ]
  },
  {
   "cell_type": "markdown",
   "metadata": {},
   "source": [
    "## Color picker"
   ]
  },
  {
   "cell_type": "code",
   "execution_count": 39,
   "metadata": {},
   "outputs": [
    {
     "data": {
      "application/vnd.jupyter.widget-view+json": {
       "model_id": "db37c4480a7c4fe589e081dac06c7473",
       "version_major": 2,
       "version_minor": 0
      },
      "text/plain": [
       "ColorPicker(value='blue', description='Pick a color')"
      ]
     },
     "metadata": {},
     "output_type": "display_data"
    }
   ],
   "source": [
    "widgets.ColorPicker(\n",
    "    concise=False,\n",
    "    description='Pick a color',\n",
    "    value='blue',\n",
    "    disabled=False\n",
    ")"
   ]
  },
  {
   "cell_type": "markdown",
   "metadata": {},
   "source": [
    "## Controller\n",
    "\n",
    "`Controller` ermöglicht die Verwendung eines Game-Controller als Eingabegerät."
   ]
  },
  {
   "cell_type": "code",
   "execution_count": 40,
   "metadata": {},
   "outputs": [
    {
     "data": {
      "application/vnd.jupyter.widget-view+json": {
       "model_id": "72ef13ec41ec4b139f61844c2a633e2d",
       "version_major": 2,
       "version_minor": 0
      },
      "text/plain": [
       "Controller()"
      ]
     },
     "metadata": {},
     "output_type": "display_data"
    }
   ],
   "source": [
    "widgets.Controller(\n",
    "    index=0,\n",
    ")"
   ]
  },
  {
   "cell_type": "markdown",
   "metadata": {},
   "source": [
    "## Container/Layout-Widgets\n",
    "\n",
    "Diese Widgets werden zum Speichern anderer Widgets verwendet, die als `children` bezeichnet werden."
   ]
  },
  {
   "cell_type": "markdown",
   "metadata": {},
   "source": [
    "### Box"
   ]
  },
  {
   "cell_type": "code",
   "execution_count": 41,
   "metadata": {},
   "outputs": [
    {
     "data": {
      "application/vnd.jupyter.widget-view+json": {
       "model_id": "f57519db1adc4ebab1e9ef1f2919ff35",
       "version_major": 2,
       "version_minor": 0
      },
      "text/plain": [
       "Box(children=(Label(value='0'), Label(value='1'), Label(value='2'), Label(value='3')))"
      ]
     },
     "metadata": {},
     "output_type": "display_data"
    }
   ],
   "source": [
    "items = [widgets.Label(str(i)) for i in range(4)]\n",
    "widgets.Box(items)"
   ]
  },
  {
   "cell_type": "markdown",
   "metadata": {},
   "source": [
    "### HBox"
   ]
  },
  {
   "cell_type": "code",
   "execution_count": 42,
   "metadata": {},
   "outputs": [
    {
     "data": {
      "application/vnd.jupyter.widget-view+json": {
       "model_id": "12f7e37bfc8a4944b03b7b0558aa57cd",
       "version_major": 2,
       "version_minor": 0
      },
      "text/plain": [
       "HBox(children=(Label(value='0'), Label(value='1'), Label(value='2'), Label(value='3')))"
      ]
     },
     "metadata": {},
     "output_type": "display_data"
    }
   ],
   "source": [
    "items = [widgets.Label(str(i)) for i in range(4)]\n",
    "widgets.HBox(items)"
   ]
  },
  {
   "cell_type": "markdown",
   "metadata": {},
   "source": [
    "### VBox"
   ]
  },
  {
   "cell_type": "code",
   "execution_count": 43,
   "metadata": {},
   "outputs": [
    {
     "data": {
      "application/vnd.jupyter.widget-view+json": {
       "model_id": "6ad94e38b11e46ebbb0ce79c78b02109",
       "version_major": 2,
       "version_minor": 0
      },
      "text/plain": [
       "HBox(children=(VBox(children=(Label(value='0'), Label(value='1'))), VBox(children=(Label(value='2'), Label(val…"
      ]
     },
     "metadata": {},
     "output_type": "display_data"
    }
   ],
   "source": [
    "items = [widgets.Label(str(i)) for i in range(4)]\n",
    "left_box = widgets.VBox([items[0], items[1]])\n",
    "right_box = widgets.VBox([items[2], items[3]])\n",
    "widgets.HBox([left_box, right_box])"
   ]
  },
  {
   "cell_type": "markdown",
   "metadata": {},
   "source": [
    "### Accordion"
   ]
  },
  {
   "cell_type": "code",
   "execution_count": 44,
   "metadata": {},
   "outputs": [
    {
     "data": {
      "application/vnd.jupyter.widget-view+json": {
       "model_id": "82e4adafa6204276b77429d84394474a",
       "version_major": 2,
       "version_minor": 0
      },
      "text/plain": [
       "Accordion(children=(IntSlider(value=0), Text(value='')), _titles={'0': 'Slider', '1': 'Text'})"
      ]
     },
     "metadata": {},
     "output_type": "display_data"
    }
   ],
   "source": [
    "accordion = widgets.Accordion(children=[widgets.IntSlider(), widgets.Text()])\n",
    "accordion.set_title(0, 'Slider')\n",
    "accordion.set_title(1, 'Text')\n",
    "accordion"
   ]
  },
  {
   "cell_type": "markdown",
   "metadata": {},
   "source": [
    "### Tabs\n",
    "\n",
    "In this example the children are set after the tab is created. Titles for the tabes are set in the same way they are for `Accordion`."
   ]
  },
  {
   "cell_type": "code",
   "execution_count": 45,
   "metadata": {},
   "outputs": [
    {
     "data": {
      "application/vnd.jupyter.widget-view+json": {
       "model_id": "86c09fc773af421492323f23e56bfe38",
       "version_major": 2,
       "version_minor": 0
      },
      "text/plain": [
       "Tab(children=(Text(value='', description='P0'), Text(value='', description='P1'), Text(value='', description='…"
      ]
     },
     "metadata": {},
     "output_type": "display_data"
    }
   ],
   "source": [
    "tab_contents = ['P0', 'P1', 'P2', 'P3', 'P4']\n",
    "children = [widgets.Text(description=name) for name in tab_contents]\n",
    "tab = widgets.Tab()\n",
    "tab.children = children\n",
    "for i in range(len(children)):\n",
    "    tab.set_title(i, str(i))\n",
    "tab"
   ]
  },
  {
   "cell_type": "markdown",
   "metadata": {},
   "source": [
    "### `Accordion` und `Tab`\n",
    "\n",
    "Im Gegensatz zu den anderen Widgets, die zuvor beschrieben wurden, aktualisieren die Container-Widgets `Accordion` und `Tab` ihr Attribut `selected_index`, wenn der Benutzer das Akkordeon oder den Tab ändert; neben der Nutzereingabe kann der `selected_index`  auch programmatisch festgelegt werden.\n",
    "\n",
    "Wenn `selected_index = None` gewählt wird, werden alle Akkordeons geschlossen oder die Auswahl aller Tabs aufgehoben."
   ]
  },
  {
   "cell_type": "markdown",
   "metadata": {},
   "source": [
    "In den folgenden *Notebook Cells* wird der Wert von `selected_index\" des Tab und/oder Akkordeon angezeigt."
   ]
  },
  {
   "cell_type": "code",
   "execution_count": 46,
   "metadata": {},
   "outputs": [],
   "source": [
    "tab.selected_index = 3"
   ]
  },
  {
   "cell_type": "code",
   "execution_count": 47,
   "metadata": {},
   "outputs": [],
   "source": [
    "accordion.selected_index = None"
   ]
  },
  {
   "cell_type": "markdown",
   "metadata": {},
   "source": [
    "### Verschachtelung von Tabs und Akkordeons\n",
    "\n",
    "Tabs und Akkordeons können so tief verschachtelt werden, wie ihr möchtet. Das folgende Beispiel zeigt einige Tabs mit einem Akkordeon als `children`."
   ]
  },
  {
   "cell_type": "code",
   "execution_count": 48,
   "metadata": {},
   "outputs": [
    {
     "data": {
      "application/vnd.jupyter.widget-view+json": {
       "model_id": "cfa733e730834af2ad237a8a670055b5",
       "version_major": 2,
       "version_minor": 0
      },
      "text/plain": [
       "Tab(children=(Accordion(children=(IntSlider(value=0), Text(value='')), selected_index=None, _titles={'0': 'Sli…"
      ]
     },
     "metadata": {},
     "output_type": "display_data"
    }
   ],
   "source": [
    "tab_nest = widgets.Tab()\n",
    "tab_nest.children = [accordion, accordion]\n",
    "tab_nest.set_title(0, 'An accordion')\n",
    "tab_nest.set_title(1, 'Copy of the accordion')\n",
    "tab_nest"
   ]
  }
 ],
 "metadata": {
  "kernelspec": {
   "display_name": "Python 3.7.4",
   "language": "python",
   "name": "python3"
  },
  "language_info": {
   "codemirror_mode": {
    "name": "ipython",
    "version": 3
   },
   "file_extension": ".py",
   "mimetype": "text/x-python",
   "name": "python",
   "nbconvert_exporter": "python",
   "pygments_lexer": "ipython3",
   "version": "3.7.4"
  },
  "latex_envs": {
   "LaTeX_envs_menu_present": true,
   "autoclose": false,
   "autocomplete": true,
   "bibliofile": "biblio.bib",
   "cite_by": "apalike",
   "current_citInitial": 1,
   "eqLabelWithNumbers": true,
   "eqNumInitial": 1,
   "hotkeys": {
    "equation": "Ctrl-E",
    "itemize": "Ctrl-I"
   },
   "labels_anchors": false,
   "latex_user_defs": false,
   "report_style_numbering": false,
   "user_envs_cfg": false
  },
  "varInspector": {
   "cols": {
    "lenName": 16,
    "lenType": 16,
    "lenVar": 40
   },
   "kernels_config": {
    "python": {
     "delete_cmd_postfix": "",
     "delete_cmd_prefix": "del ",
     "library": "var_list.py",
     "varRefreshCmd": "print(var_dic_list())"
    },
    "r": {
     "delete_cmd_postfix": ") ",
     "delete_cmd_prefix": "rm(",
     "library": "var_list.r",
     "varRefreshCmd": "cat(var_dic_list()) "
    }
   },
   "types_to_exclude": [
    "module",
    "function",
    "builtin_function_or_method",
    "instance",
    "_Feature"
   ],
   "window_display": false
  },
  "widgets": {
   "application/vnd.jupyter.widget-state+json": {
    "state": {
     "001145965ed94b0f954e7cf2c6aeadae": {
      "model_module": "@jupyter-widgets/controls",
      "model_module_version": "1.5.0",
      "model_name": "LinkModel",
      "state": {
       "source": [
        "IPY_MODEL_f0684572a4844a4981b2e2fa0dd948fd",
        "value"
       ],
       "target": [
        "IPY_MODEL_9b7beef0056c435898c76a5be40f8147",
        "value"
       ]
      }
     },
     "00a2a225ab24407ab131429e07e461f1": {
      "model_module": "@jupyter-widgets/controls",
      "model_module_version": "1.5.0",
      "model_name": "LabelModel",
      "state": {
       "layout": "IPY_MODEL_c8bb322d5f7846b9bf52a31ee865a421",
       "style": "IPY_MODEL_97984c60db55452fa77e975ec190ced3",
       "value": "3"
      }
     },
     "00c0e514228446bd88f40d2460932331": {
      "model_module": "@jupyter-widgets/controls",
      "model_module_version": "1.5.0",
      "model_name": "ButtonModel",
      "state": {
       "description": "Click me",
       "icon": "check",
       "layout": "IPY_MODEL_55904d19a1d149f6a6d41c973b8ed28b",
       "style": "IPY_MODEL_8165cef524794487a2490a73ac920e64",
       "tooltip": "Click me"
      }
     },
     "00f12b3cfbf94d8a89aa53909bf7f1bb": {
      "model_module": "@jupyter-widgets/controls",
      "model_module_version": "1.5.0",
      "model_name": "SliderStyleModel",
      "state": {
       "description_width": ""
      }
     },
     "010cc28806d0474b8a0605e060747827": {
      "model_module": "@jupyter-widgets/controls",
      "model_module_version": "1.5.0",
      "model_name": "IntRangeSliderModel",
      "state": {
       "_model_name": "IntRangeSliderModel",
       "_view_name": "IntRangeSliderView",
       "continuous_update": false,
       "description": "Test:",
       "layout": "IPY_MODEL_dfefefe32f2c4c13a94b14768b79adaa",
       "max": 10,
       "style": "IPY_MODEL_b8d34acac38f4753b5f6a961bcace13b",
       "value": [
        5,
        7
       ]
      }
     },
     "0114d20971824d14a5a792829f82c5ac": {
      "model_module": "@jupyter-widgets/base",
      "model_module_version": "1.2.0",
      "model_name": "LayoutModel",
      "state": {}
     },
     "015a92fd44bc451e900c89b332cb060d": {
      "model_module": "@jupyter-widgets/controls",
      "model_module_version": "1.5.0",
      "model_name": "DescriptionStyleModel",
      "state": {
       "description_width": ""
      }
     },
     "0164c1db3bc14e14a831fb5fa33502d4": {
      "model_module": "@jupyter-widgets/base",
      "model_module_version": "1.2.0",
      "model_name": "LayoutModel",
      "state": {}
     },
     "0180b717e38d4040aa7955e37d29c252": {
      "model_module": "@jupyter-widgets/controls",
      "model_module_version": "1.5.0",
      "model_name": "DescriptionStyleModel",
      "state": {
       "description_width": ""
      }
     },
     "01cac0a9c59f454e8b750ec14a23ffdf": {
      "model_module": "@jupyter-widgets/controls",
      "model_module_version": "1.5.0",
      "model_name": "SliderStyleModel",
      "state": {
       "description_width": ""
      }
     },
     "027244668ae646199daa9f6fad6a034f": {
      "model_module": "@jupyter-widgets/controls",
      "model_module_version": "1.5.0",
      "model_name": "DescriptionStyleModel",
      "state": {
       "description_width": ""
      }
     },
     "02bf9c9559d84beaa4a98cbaff30919f": {
      "model_module": "@jupyter-widgets/base",
      "model_module_version": "1.2.0",
      "model_name": "LayoutModel",
      "state": {}
     },
     "02ffd969f9ac4934b16a13a8041de240": {
      "model_module": "@jupyter-widgets/controls",
      "model_module_version": "1.5.0",
      "model_name": "DescriptionStyleModel",
      "state": {
       "description_width": ""
      }
     },
     "0318095344c44e6c8756747fd224dea8": {
      "model_module": "@jupyter-widgets/base",
      "model_module_version": "1.2.0",
      "model_name": "LayoutModel",
      "state": {}
     },
     "03572edb44ea4afea75e092461ba74c8": {
      "model_module": "@jupyter-widgets/base",
      "model_module_version": "1.2.0",
      "model_name": "LayoutModel",
      "state": {}
     },
     "03873a931cc14af0bb4044193bcc299f": {
      "model_module": "@jupyter-widgets/controls",
      "model_module_version": "1.5.0",
      "model_name": "DescriptionStyleModel",
      "state": {
       "description_width": ""
      }
     },
     "038d03f9eb32434fba0c45fdedea6f2f": {
      "model_module": "@jupyter-widgets/base",
      "model_module_version": "1.2.0",
      "model_name": "LayoutModel",
      "state": {}
     },
     "03bec9e0d1c341beaa4d523a538c0dd2": {
      "model_module": "@jupyter-widgets/base",
      "model_module_version": "1.2.0",
      "model_name": "LayoutModel",
      "state": {}
     },
     "04062bdf7b474ab99f738ffc22f7dd5e": {
      "model_module": "@jupyter-widgets/controls",
      "model_module_version": "1.5.0",
      "model_name": "FloatSliderModel",
      "state": {
       "continuous_update": false,
       "description": "Test:",
       "layout": "IPY_MODEL_5419d4e9133e43feb3023fc15fb4157c",
       "max": 10,
       "orientation": "vertical",
       "readout_format": ".1f",
       "step": 0.1,
       "style": "IPY_MODEL_fa0479dfa5294f8d94d927aa270c07b7",
       "value": 7.5
      }
     },
     "04426a36991c46798857bd8efa5b625a": {
      "model_module": "@jupyter-widgets/base",
      "model_module_version": "1.2.0",
      "model_name": "LayoutModel",
      "state": {}
     },
     "04536ccf6e2b471fa73040135abbadf2": {
      "model_module": "@jupyter-widgets/controls",
      "model_module_version": "1.5.0",
      "model_name": "DescriptionStyleModel",
      "state": {
       "description_width": ""
      }
     },
     "0467ace347f840ac97684e0c1360b16b": {
      "model_module": "@jupyter-widgets/controls",
      "model_module_version": "1.5.0",
      "model_name": "FloatRangeSliderModel",
      "state": {
       "_model_name": "FloatRangeSliderModel",
       "_view_name": "FloatRangeSliderView",
       "continuous_update": false,
       "description": "Test:",
       "layout": "IPY_MODEL_06cd859768e845ea98d2d989e1be9727",
       "max": 10,
       "readout_format": ".1f",
       "step": 0.1,
       "style": "IPY_MODEL_6964dfbe16db4b97a23a7db389af2905",
       "value": [
        5,
        7.5
       ]
      }
     },
     "0478f0a6303e49639ef0b0245e63a084": {
      "model_module": "@jupyter-widgets/controls",
      "model_module_version": "1.5.0",
      "model_name": "FloatRangeSliderModel",
      "state": {
       "_model_name": "FloatRangeSliderModel",
       "_view_name": "FloatRangeSliderView",
       "continuous_update": false,
       "description": "Test:",
       "layout": "IPY_MODEL_a02b22cc20654733b0dbb8fd191b73d7",
       "max": 10,
       "readout_format": ".1f",
       "step": 0.1,
       "style": "IPY_MODEL_bf7352b77c5140e2b7148ad42120a3cf",
       "value": [
        5,
        7.5
       ]
      }
     },
     "048554c6a3b0437fbc9ec49c568fcee4": {
      "model_module": "@jupyter-widgets/controls",
      "model_module_version": "1.5.0",
      "model_name": "DescriptionStyleModel",
      "state": {
       "description_width": ""
      }
     },
     "04b03f832fba462eac4cf92de00e2a22": {
      "model_module": "@jupyter-widgets/controls",
      "model_module_version": "1.5.0",
      "model_name": "SliderStyleModel",
      "state": {
       "description_width": ""
      }
     },
     "04cdb1ba17794522a346a152b2e4ba56": {
      "model_module": "@jupyter-widgets/base",
      "model_module_version": "1.2.0",
      "model_name": "LayoutModel",
      "state": {}
     },
     "0522328715034490854a3617819b859c": {
      "model_module": "@jupyter-widgets/controls",
      "model_module_version": "1.5.0",
      "model_name": "SelectMultipleModel",
      "state": {
       "_options_labels": [
        "Apples",
        "Oranges",
        "Pears"
       ],
       "description": "Fruits",
       "index": [
        1
       ],
       "layout": "IPY_MODEL_3e2ec765a471481cb5e3ec0ed92cd8ba",
       "rows": 5,
       "style": "IPY_MODEL_417712aca65a4fc190753c8d61abeae7"
      }
     },
     "061d400df80847e8a5211810ddfd37b6": {
      "model_module": "@jupyter-widgets/base",
      "model_module_version": "1.2.0",
      "model_name": "LayoutModel",
      "state": {}
     },
     "068592fc4eb94134a8f37659e85080bd": {
      "model_module": "@jupyter-widgets/controls",
      "model_module_version": "1.5.0",
      "model_name": "ButtonStyleModel",
      "state": {}
     },
     "069a4b41b99c4a98a7f6eac3c8c2b656": {
      "model_module": "@jupyter-widgets/controls",
      "model_module_version": "1.5.0",
      "model_name": "TextModel",
      "state": {
       "description": "P4",
       "layout": "IPY_MODEL_b026ae18523a4c389d24a49773a4922e",
       "style": "IPY_MODEL_1497be4b5e2f4089985a33517a1a6b33"
      }
     },
     "06bbd57ab9744d9db23ca392470c2d58": {
      "model_module": "@jupyter-widgets/base",
      "model_module_version": "1.2.0",
      "model_name": "LayoutModel",
      "state": {}
     },
     "06bbdb920e89473380a2421a54d72918": {
      "model_module": "@jupyter-widgets/controls",
      "model_module_version": "1.5.0",
      "model_name": "DescriptionStyleModel",
      "state": {
       "description_width": ""
      }
     },
     "06cd859768e845ea98d2d989e1be9727": {
      "model_module": "@jupyter-widgets/base",
      "model_module_version": "1.2.0",
      "model_name": "LayoutModel",
      "state": {}
     },
     "0723aa09e91d41659991dc25c91407cb": {
      "model_module": "@jupyter-widgets/base",
      "model_module_version": "1.2.0",
      "model_name": "LayoutModel",
      "state": {}
     },
     "072b1fef55d74bb7bd2045929ab1fb45": {
      "model_module": "@jupyter-widgets/controls",
      "model_module_version": "1.5.0",
      "model_name": "ToggleButtonModel",
      "state": {
       "description": "Click me",
       "icon": "check",
       "layout": "IPY_MODEL_dce1c28e308d435cae557f6c9e600a47",
       "style": "IPY_MODEL_de956b5078d74bb7acdbb97ecd4396a4",
       "tooltip": "Description"
      }
     },
     "0755f415a2d642ca8abadb8133e75db6": {
      "model_module": "@jupyter-widgets/base",
      "model_module_version": "1.2.0",
      "model_name": "LayoutModel",
      "state": {}
     },
     "07962ae2a54b498d97be185df0a91eea": {
      "model_module": "@jupyter-widgets/controls",
      "model_module_version": "1.5.0",
      "model_name": "DescriptionStyleModel",
      "state": {
       "description_width": ""
      }
     },
     "07a452b8d83e4cf28c89cc2e4cc6e46f": {
      "model_module": "@jupyter-widgets/base",
      "model_module_version": "1.2.0",
      "model_name": "LayoutModel",
      "state": {}
     },
     "08038d2c0bbf4b05be11e07971649c7a": {
      "model_module": "@jupyter-widgets/controls",
      "model_module_version": "1.5.0",
      "model_name": "SliderStyleModel",
      "state": {
       "description_width": ""
      }
     },
     "08753f463654451c9c4be8bf1dddd8b0": {
      "model_module": "@jupyter-widgets/controls",
      "model_module_version": "1.5.0",
      "model_name": "ControllerModel",
      "state": {
       "layout": "IPY_MODEL_4c4bc1e53b284d6ea5d2b38fa579ebaa"
      }
     },
     "088cc24009094ec28d7238552eda44c8": {
      "model_module": "@jupyter-widgets/base",
      "model_module_version": "1.2.0",
      "model_name": "LayoutModel",
      "state": {}
     },
     "08f24f05f94c4cc59e3376d9e575f531": {
      "model_module": "@jupyter-widgets/base",
      "model_module_version": "1.2.0",
      "model_name": "LayoutModel",
      "state": {}
     },
     "0927ec0799074a9eadb60dd0614fa9b6": {
      "model_module": "@jupyter-widgets/base",
      "model_module_version": "1.2.0",
      "model_name": "LayoutModel",
      "state": {}
     },
     "09419070fa9d47bdbc1c4bb14f8b7f62": {
      "model_module": "@jupyter-widgets/controls",
      "model_module_version": "1.5.0",
      "model_name": "DescriptionStyleModel",
      "state": {
       "description_width": ""
      }
     },
     "0967a6f05fb74a95b4633962cc58fa8a": {
      "model_module": "@jupyter-widgets/controls",
      "model_module_version": "1.5.0",
      "model_name": "ToggleButtonsModel",
      "state": {
       "_options_labels": [
        "Slow",
        "Regular",
        "Fast"
       ],
       "button_style": "",
       "description": "Speed:",
       "icons": [],
       "index": 0,
       "layout": "IPY_MODEL_2c157511509f47bdb20a150bc6d7f33c",
       "style": "IPY_MODEL_3d79340690d5462e85a7eca9278b7e49",
       "tooltips": [
        "Description of slow",
        "Description of regular",
        "Description of fast"
       ]
      }
     },
     "097b9ff070284a389bcfcc5e23b3581a": {
      "model_module": "@jupyter-widgets/controls",
      "model_module_version": "1.5.0",
      "model_name": "SelectMultipleModel",
      "state": {
       "_options_labels": [
        "Apples",
        "Oranges",
        "Pears"
       ],
       "description": "Fruits",
       "index": [
        1
       ],
       "layout": "IPY_MODEL_3e303554386d41cc909efbee90baab62",
       "rows": 5,
       "style": "IPY_MODEL_dff5fe1005bf4e8b93aba89842ffe5b1"
      }
     },
     "098db764767c4369abaed3266cc5077b": {
      "model_module": "@jupyter-widgets/base",
      "model_module_version": "1.2.0",
      "model_name": "LayoutModel",
      "state": {}
     },
     "09a27da15a4f423ebecd20353e11cc21": {
      "buffers": [
       {
        "data": "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",
        "encoding": "base64",
        "path": [
         "value"
        ]
       }
      ],
      "model_module": "@jupyter-widgets/controls",
      "model_module_version": "1.5.0",
      "model_name": "ImageModel",
      "state": {
       "format": "gif",
       "height": "128",
       "layout": "IPY_MODEL_f913efc5d5b84985becad4c823e19c53",
       "width": "128"
      }
     },
     "09c0795d55e34e4a96e0193c3179216a": {
      "model_module": "@jupyter-widgets/controls",
      "model_module_version": "1.5.0",
      "model_name": "ProgressStyleModel",
      "state": {
       "description_width": ""
      }
     },
     "0a24cb07ce704b08b821caa0ccb95ffb": {
      "model_module": "@jupyter-widgets/controls",
      "model_module_version": "1.5.0",
      "model_name": "DescriptionStyleModel",
      "state": {
       "description_width": ""
      }
     },
     "0a3e8fbb189c486994c437bb8b276272": {
      "model_module": "@jupyter-widgets/base",
      "model_module_version": "1.2.0",
      "model_name": "LayoutModel",
      "state": {}
     },
     "0a5dbbb85abe43d6930acd67fc83aa4a": {
      "model_module": "@jupyter-widgets/controls",
      "model_module_version": "1.5.0",
      "model_name": "DescriptionStyleModel",
      "state": {
       "description_width": ""
      }
     },
     "0a72125f14264006aa1beb2b9758a89e": {
      "model_module": "@jupyter-widgets/controls",
      "model_module_version": "1.5.0",
      "model_name": "FloatSliderModel",
      "state": {
       "layout": "IPY_MODEL_447182ac2d4042a999c9adc5f643efc2",
       "step": 0.1,
       "style": "IPY_MODEL_41832c0639ae424e85347b240a5a218c"
      }
     },
     "0b5d5eb3b1c9481fb78bb1c74018f095": {
      "model_module": "@jupyter-widgets/base",
      "model_module_version": "1.2.0",
      "model_name": "LayoutModel",
      "state": {}
     },
     "0bbe816e391b41dc989088783eada168": {
      "model_module": "@jupyter-widgets/controls",
      "model_module_version": "1.5.0",
      "model_name": "FloatLogSliderModel",
      "state": {
       "description": "Log Slider",
       "layout": "IPY_MODEL_0f46545bd1304cb6bedfd89c6a009493",
       "max": 10,
       "min": -10,
       "step": 0.2,
       "style": "IPY_MODEL_16a13d3a1a9747868d151d5c0a135bea",
       "value": 10
      }
     },
     "0c80a9c68ce84f4caa2320579ccdf2ff": {
      "model_module": "@jupyter-widgets/controls",
      "model_module_version": "1.5.0",
      "model_name": "IntSliderModel",
      "state": {
       "continuous_update": false,
       "description": "Test:",
       "layout": "IPY_MODEL_c882a38a25f9477ea9facdbeb5951be1",
       "max": 10,
       "style": "IPY_MODEL_f73844433317492cbb09f708f0462b04",
       "value": 7
      }
     },
     "0c86dda72f3849e9965b364fd3bd80c3": {
      "model_module": "@jupyter-widgets/controls",
      "model_module_version": "1.5.0",
      "model_name": "DropdownModel",
      "state": {
       "_options_labels": [
        "1",
        "2",
        "3"
       ],
       "description": "Number:",
       "index": 1,
       "layout": "IPY_MODEL_37f06d7a45d54eaaa2dafbe75ab06ce3",
       "style": "IPY_MODEL_1089afe95e7845a99bb652f463196a9a"
      }
     },
     "0ce582f323c2434196556a936f0f1f64": {
      "model_module": "@jupyter-widgets/base",
      "model_module_version": "1.2.0",
      "model_name": "LayoutModel",
      "state": {}
     },
     "0d54cfd206f242759d7b195edd43a1f8": {
      "model_module": "@jupyter-widgets/controls",
      "model_module_version": "1.5.0",
      "model_name": "HTMLModel",
      "state": {
       "description": "Some HTML",
       "layout": "IPY_MODEL_6b7b27c1edd6448e9afbe1ed508a9c24",
       "placeholder": "Some HTML",
       "style": "IPY_MODEL_aeb5c3f668434382ae291f8c92eee291",
       "value": "Hello <b>World</b>"
      }
     },
     "0d992e62a02c463aadbd10a4a9a713e9": {
      "model_module": "@jupyter-widgets/controls",
      "model_module_version": "1.5.0",
      "model_name": "IntProgressModel",
      "state": {
       "description": "Loading:",
       "layout": "IPY_MODEL_54c75ee69b1d45318b579553671b56a4",
       "max": 10,
       "style": "IPY_MODEL_b41870818d854cb5a1e54361cffe3e79",
       "value": 7
      }
     },
     "0da2f37c70914c8fb4c0372268e7a757": {
      "model_module": "@jupyter-widgets/controls",
      "model_module_version": "1.5.0",
      "model_name": "DescriptionStyleModel",
      "state": {
       "description_width": ""
      }
     },
     "0e398dde6e6b45abb656e5c4e737aae9": {
      "model_module": "@jupyter-widgets/controls",
      "model_module_version": "1.5.0",
      "model_name": "FloatSliderModel",
      "state": {
       "continuous_update": false,
       "description": "Test:",
       "layout": "IPY_MODEL_d96e41b68c89477b83db8d61992a26f2",
       "max": 10,
       "readout_format": ".1f",
       "step": 0.1,
       "style": "IPY_MODEL_d451d3ad4abb49409a681c71a30c76c7",
       "value": 7.5
      }
     },
     "0e45d24ce48347f68dbb6912fb2bba4f": {
      "model_module": "@jupyter-widgets/controls",
      "model_module_version": "1.5.0",
      "model_name": "LabelModel",
      "state": {
       "layout": "IPY_MODEL_97074dc656104f65a8a4bb1264f90156",
       "style": "IPY_MODEL_0fa83812e0d6412d829c45095a304eea",
       "value": "The $m$ in $E=mc^2$:"
      }
     },
     "0e9e7c4b1a234646a4d9dfd50d584531": {
      "model_module": "@jupyter-widgets/controls",
      "model_module_version": "1.5.0",
      "model_name": "DescriptionStyleModel",
      "state": {
       "description_width": ""
      }
     },
     "0ecb1eee62364d3da0669ad98f1b7196": {
      "model_module": "@jupyter-widgets/controls",
      "model_module_version": "1.5.0",
      "model_name": "SelectModel",
      "state": {
       "_options_labels": [
        "Linux",
        "Windows",
        "OSX"
       ],
       "description": "OS:",
       "index": 2,
       "layout": "IPY_MODEL_732a7ba55e634bebaaf5f76097bc2670",
       "style": "IPY_MODEL_6eb65d788f994b34b8e90a85f78d83d8"
      }
     },
     "0edf7b828fb64c2b8f79d2c4a4d46cf6": {
      "model_module": "@jupyter-widgets/base",
      "model_module_version": "1.2.0",
      "model_name": "LayoutModel",
      "state": {}
     },
     "0ee6f281c5ee49b6be83c967035f7e24": {
      "model_module": "@jupyter-widgets/controls",
      "model_module_version": "1.5.0",
      "model_name": "BoxModel",
      "state": {
       "children": [
        "IPY_MODEL_4de031698a46489ea9b0d06dc6d56b88",
        "IPY_MODEL_67c21cea3e384446bca8f9ce73e6dc62",
        "IPY_MODEL_9b08dbb3cf3c482ab709e00e035abfb5",
        "IPY_MODEL_3539cfb7042f48509841d15e1c30fefd"
       ],
       "layout": "IPY_MODEL_9d8e4617067746e9a3c715fca1e7dea6"
      }
     },
     "0efa2834c35a409388f3179c23b4b3a9": {
      "model_module": "@jupyter-widgets/controls",
      "model_module_version": "1.5.0",
      "model_name": "SliderStyleModel",
      "state": {
       "description_width": ""
      }
     },
     "0f010d2603be4827bed0a78b31cdcfac": {
      "model_module": "@jupyter-widgets/base",
      "model_module_version": "1.2.0",
      "model_name": "LayoutModel",
      "state": {}
     },
     "0f3635b32b5241d0ad04c314c3a08178": {
      "model_module": "@jupyter-widgets/controls",
      "model_module_version": "1.5.0",
      "model_name": "DescriptionStyleModel",
      "state": {
       "description_width": ""
      }
     },
     "0f46545bd1304cb6bedfd89c6a009493": {
      "model_module": "@jupyter-widgets/base",
      "model_module_version": "1.2.0",
      "model_name": "LayoutModel",
      "state": {}
     },
     "0f7f3075efca448fb844a0356d6736ac": {
      "model_module": "@jupyter-widgets/controls",
      "model_module_version": "1.5.0",
      "model_name": "HBoxModel",
      "state": {
       "children": [
        "IPY_MODEL_3f8f0672490349fb898abddf94248dd9",
        "IPY_MODEL_2c01aaa249904e128973a1edc745abdc"
       ],
       "layout": "IPY_MODEL_cff40b65eceb4257814d6b166e5babfb"
      }
     },
     "0f8778049fa4450e85a15a829aa8b9d5": {
      "model_module": "@jupyter-widgets/controls",
      "model_module_version": "1.5.0",
      "model_name": "TextModel",
      "state": {
       "description": "P4",
       "layout": "IPY_MODEL_7ffa905060ca4caa87bc0ae660393941",
       "style": "IPY_MODEL_cdcbb26d1a4e4fa2b4616d493f8d3114"
      }
     },
     "0f8bac6f36974b4c9a52c17bd0fe2ded": {
      "model_module": "@jupyter-widgets/controls",
      "model_module_version": "1.5.0",
      "model_name": "ValidModel",
      "state": {
       "description": "Valid!",
       "layout": "IPY_MODEL_840c243a18354447bced0da924753e0b",
       "style": "IPY_MODEL_9c6d22201b674e3d90d50c4227df50a5"
      }
     },
     "0f90d3aa412c4561ad08bb32ff3e0cfb": {
      "model_module": "@jupyter-widgets/controls",
      "model_module_version": "1.5.0",
      "model_name": "SelectMultipleModel",
      "state": {
       "_options_labels": [
        "Apples",
        "Oranges",
        "Pears"
       ],
       "description": "Fruits",
       "index": [
        1
       ],
       "layout": "IPY_MODEL_4fdd7683c07d4ebaa888d9139d70ab05",
       "rows": 5,
       "style": "IPY_MODEL_015a92fd44bc451e900c89b332cb060d"
      }
     },
     "0fa83812e0d6412d829c45095a304eea": {
      "model_module": "@jupyter-widgets/controls",
      "model_module_version": "1.5.0",
      "model_name": "DescriptionStyleModel",
      "state": {
       "description_width": ""
      }
     },
     "0fb25db8b20e419fb9391ed01180670a": {
      "model_module": "@jupyter-widgets/controls",
      "model_module_version": "1.5.0",
      "model_name": "TextModel",
      "state": {
       "description": "P2",
       "layout": "IPY_MODEL_28df4a87bc7a44fa82df17c52c978e7e",
       "style": "IPY_MODEL_3db12febc66a4613ba5737d3a83429ae"
      }
     },
     "100992258d5b4c858b3ddfeb0c2219f4": {
      "model_module": "@jupyter-widgets/controls",
      "model_module_version": "1.5.0",
      "model_name": "DescriptionStyleModel",
      "state": {
       "description_width": ""
      }
     },
     "1038dbd219c44abea949d36471172c00": {
      "model_module": "@jupyter-widgets/controls",
      "model_module_version": "1.5.0",
      "model_name": "DescriptionStyleModel",
      "state": {
       "description_width": ""
      }
     },
     "1087b2c874874135a48367fe52a4a8d0": {
      "model_module": "@jupyter-widgets/controls",
      "model_module_version": "1.5.0",
      "model_name": "SliderStyleModel",
      "state": {
       "description_width": ""
      }
     },
     "1089afe95e7845a99bb652f463196a9a": {
      "model_module": "@jupyter-widgets/controls",
      "model_module_version": "1.5.0",
      "model_name": "DescriptionStyleModel",
      "state": {
       "description_width": ""
      }
     },
     "109deb07983248cebe8a7f73dd04410d": {
      "model_module": "@jupyter-widgets/controls",
      "model_module_version": "1.5.0",
      "model_name": "ValidModel",
      "state": {
       "description": "Valid!",
       "layout": "IPY_MODEL_f0a26522b92e4134921e6baa61ee01ca",
       "style": "IPY_MODEL_5528f64393e3448ba20ab4844267f27e"
      }
     },
     "10ae62a079a94cd585bdc3efeee43e66": {
      "model_module": "@jupyter-widgets/base",
      "model_module_version": "1.2.0",
      "model_name": "LayoutModel",
      "state": {}
     },
     "1145d60b5a3a4ddd8d710deb409f2430": {
      "model_module": "@jupyter-widgets/controls",
      "model_module_version": "1.5.0",
      "model_name": "TabModel",
      "state": {
       "_titles": {
        "0": "0",
        "1": "1",
        "2": "2",
        "3": "3",
        "4": "4"
       },
       "children": [
        "IPY_MODEL_736254731cc448f79523b477542ea5b3",
        "IPY_MODEL_a89791c42c5f460b91417b12f2ac9b89",
        "IPY_MODEL_0fb25db8b20e419fb9391ed01180670a",
        "IPY_MODEL_c46e37c25c324527afdef32c2e38d668",
        "IPY_MODEL_c310a5b2dc4b45f2bbb74f2ce25eadf1"
       ],
       "layout": "IPY_MODEL_75ea312a507f4688b8ae36d4a821baec",
       "selected_index": 3
      }
     },
     "1166694f90f84a82b0453776ff1cbf34": {
      "model_module": "@jupyter-widgets/controls",
      "model_module_version": "1.5.0",
      "model_name": "LabelModel",
      "state": {
       "layout": "IPY_MODEL_1cf0c75274ea47f7a756267693144b37",
       "style": "IPY_MODEL_46d9729f80a549489134f828307ad1c5",
       "value": "3"
      }
     },
     "1168390673e04c929feead21bf6a6874": {
      "model_module": "@jupyter-widgets/controls",
      "model_module_version": "1.5.0",
      "model_name": "FloatSliderModel",
      "state": {
       "continuous_update": false,
       "description": "Test:",
       "layout": "IPY_MODEL_1b33b4ef4c6941cfbbac20ac899c9c82",
       "max": 10,
       "readout_format": ".1f",
       "step": 0.1,
       "style": "IPY_MODEL_ce6d1070c9e44a32967c060ce7cae6bd",
       "value": 7.5
      }
     },
     "11731741e8a747d6985fd095bbd334eb": {
      "model_module": "@jupyter-widgets/base",
      "model_module_version": "1.2.0",
      "model_name": "LayoutModel",
      "state": {}
     },
     "11878d55ba3640c5a6dabe79b1c8b81c": {
      "model_module": "@jupyter-widgets/base",
      "model_module_version": "1.2.0",
      "model_name": "LayoutModel",
      "state": {}
     },
     "11ad3ade944d485c9b5ab990ca6c0659": {
      "model_module": "@jupyter-widgets/controls",
      "model_module_version": "1.5.0",
      "model_name": "HBoxModel",
      "state": {
       "children": [
        "IPY_MODEL_b856f97ac3bf42ae98fbc356ff1cee3c",
        "IPY_MODEL_9f9fee0272f2460e9d233b0ab1a9a6e0"
       ],
       "layout": "IPY_MODEL_9f95b44eaeb44422a4ec473c4bb95d99"
      }
     },
     "126bf43fc782455e877d1d52c14b661e": {
      "model_module": "@jupyter-widgets/base",
      "model_module_version": "1.2.0",
      "model_name": "LayoutModel",
      "state": {}
     },
     "1282b15e12ef4826942334dab7e3921d": {
      "model_module": "@jupyter-widgets/controls",
      "model_module_version": "1.5.0",
      "model_name": "ToggleButtonModel",
      "state": {
       "description": "Click me",
       "icon": "check",
       "layout": "IPY_MODEL_4138175617dc47998794581973568f9a",
       "style": "IPY_MODEL_a06e85d9eb7b4d03bae1995cde9c3d15",
       "tooltip": "Description"
      }
     },
     "12ab54ec9f9540d3958b4aac92bb18b2": {
      "model_module": "@jupyter-widgets/base",
      "model_module_version": "1.2.0",
      "model_name": "LayoutModel",
      "state": {}
     },
     "12beea5f25ec44d6b7c09f8948dadea4": {
      "model_module": "@jupyter-widgets/controls",
      "model_module_version": "1.5.0",
      "model_name": "HBoxModel",
      "state": {
       "children": [
        "IPY_MODEL_60def6ca892c443e92cbe86104dfaaa8",
        "IPY_MODEL_0a72125f14264006aa1beb2b9758a89e"
       ],
       "layout": "IPY_MODEL_fb34b711f90b4f90b6e9ef641ebca7b7"
      }
     },
     "12d8b6a73ff74073996a4be3dfd1ad24": {
      "model_module": "@jupyter-widgets/base",
      "model_module_version": "1.2.0",
      "model_name": "LayoutModel",
      "state": {}
     },
     "12ebcb6c0da643b0a2001af72ac0e83a": {
      "model_module": "@jupyter-widgets/controls",
      "model_module_version": "1.5.0",
      "model_name": "IntRangeSliderModel",
      "state": {
       "_model_name": "IntRangeSliderModel",
       "_view_name": "IntRangeSliderView",
       "continuous_update": false,
       "description": "Test:",
       "layout": "IPY_MODEL_c2b671acc8984070a74ae6b719c8baec",
       "max": 10,
       "style": "IPY_MODEL_0efa2834c35a409388f3179c23b4b3a9",
       "value": [
        5,
        7
       ]
      }
     },
     "12f7e37bfc8a4944b03b7b0558aa57cd": {
      "model_module": "@jupyter-widgets/controls",
      "model_module_version": "1.5.0",
      "model_name": "HBoxModel",
      "state": {
       "children": [
        "IPY_MODEL_26ea353d0d544eef9bfe6856c30b9171",
        "IPY_MODEL_37eca88ae3904116a3b66ee08f0bd19b",
        "IPY_MODEL_3a8da7b4c5c348e58d3a0e345cc17378",
        "IPY_MODEL_2932a9c59e924cefbbe5bf00b4ca0ce7"
       ],
       "layout": "IPY_MODEL_58dc9fcb917f45e28e00bcfec024b0b1"
      }
     },
     "130da478927d4c96a3016a034ead1859": {
      "model_module": "@jupyter-widgets/base",
      "model_module_version": "1.2.0",
      "model_name": "LayoutModel",
      "state": {}
     },
     "13186495611c4936b30b4df022459638": {
      "model_module": "@jupyter-widgets/controls",
      "model_module_version": "1.5.0",
      "model_name": "DescriptionStyleModel",
      "state": {
       "description_width": ""
      }
     },
     "1339adc878e34171b06d3846be002cfd": {
      "model_module": "@jupyter-widgets/base",
      "model_module_version": "1.2.0",
      "model_name": "LayoutModel",
      "state": {}
     },
     "134b4df5890945769d11eab9f8338dde": {
      "model_module": "@jupyter-widgets/controls",
      "model_module_version": "1.5.0",
      "model_name": "DescriptionStyleModel",
      "state": {
       "description_width": ""
      }
     },
     "13a0b61c942a45a9aa4d532e624a95f9": {
      "model_module": "@jupyter-widgets/controls",
      "model_module_version": "1.5.0",
      "model_name": "LabelModel",
      "state": {
       "layout": "IPY_MODEL_1bda3b9567874905bd82585df8293e4d",
       "style": "IPY_MODEL_07962ae2a54b498d97be185df0a91eea",
       "value": "The $m$ in $E=mc^2$:"
      }
     },
     "140925dbccb64dfe89cd84ea7ea2ab1f": {
      "model_module": "@jupyter-widgets/controls",
      "model_module_version": "1.5.0",
      "model_name": "LabelModel",
      "state": {
       "layout": "IPY_MODEL_3e73c8068eeb4ab2b4142748807cc819",
       "style": "IPY_MODEL_66137bb6613641f59f377af51ff58871",
       "value": "0"
      }
     },
     "1437e0caca434eec9e4dca987f23dd16": {
      "model_module": "@jupyter-widgets/controls",
      "model_module_version": "1.5.0",
      "model_name": "BoundedFloatTextModel",
      "state": {
       "description": "Text:",
       "layout": "IPY_MODEL_b9e9215d9e9847f485eaefd0f1cb3721",
       "max": 10,
       "style": "IPY_MODEL_b2ddfdb552cb4fc187f89605bd2f967d",
       "value": 7.5
      }
     },
     "143d691c59b444249c7a26fc952fa3dc": {
      "model_module": "@jupyter-widgets/controls",
      "model_module_version": "1.5.0",
      "model_name": "ProgressStyleModel",
      "state": {
       "description_width": ""
      }
     },
     "144332b6f2fb4382b16d277b3d0db16c": {
      "model_module": "@jupyter-widgets/base",
      "model_module_version": "1.2.0",
      "model_name": "LayoutModel",
      "state": {}
     },
     "146278c129f34fa1b132a02c1907826d": {
      "model_module": "@jupyter-widgets/controls",
      "model_module_version": "1.5.0",
      "model_name": "DescriptionStyleModel",
      "state": {
       "description_width": ""
      }
     },
     "1497be4b5e2f4089985a33517a1a6b33": {
      "model_module": "@jupyter-widgets/controls",
      "model_module_version": "1.5.0",
      "model_name": "DescriptionStyleModel",
      "state": {
       "description_width": ""
      }
     },
     "14fd9928d070428f97a91acd9bc5fc27": {
      "model_module": "@jupyter-widgets/controls",
      "model_module_version": "1.5.0",
      "model_name": "ValidModel",
      "state": {
       "description": "Valid!",
       "layout": "IPY_MODEL_11878d55ba3640c5a6dabe79b1c8b81c",
       "style": "IPY_MODEL_213074bb1bbf42dabdb259c85b0aa918"
      }
     },
     "157f6d9ce9a54c7a813d244a172a1872": {
      "model_module": "@jupyter-widgets/base",
      "model_module_version": "1.2.0",
      "model_name": "LayoutModel",
      "state": {}
     },
     "15acf569ccbc4d14a1089acc31867973": {
      "model_module": "@jupyter-widgets/controls",
      "model_module_version": "1.5.0",
      "model_name": "DescriptionStyleModel",
      "state": {
       "description_width": ""
      }
     },
     "162fad2051db45f181dfed14f2ba518a": {
      "model_module": "@jupyter-widgets/controls",
      "model_module_version": "1.5.0",
      "model_name": "SliderStyleModel",
      "state": {
       "description_width": ""
      }
     },
     "16940940e6aa4d93a489429450bd26a4": {
      "model_module": "@jupyter-widgets/base",
      "model_module_version": "1.2.0",
      "model_name": "LayoutModel",
      "state": {}
     },
     "16a13d3a1a9747868d151d5c0a135bea": {
      "model_module": "@jupyter-widgets/controls",
      "model_module_version": "1.5.0",
      "model_name": "SliderStyleModel",
      "state": {
       "description_width": ""
      }
     },
     "16b2bfdba16a48d99fab07bde7faa021": {
      "model_module": "@jupyter-widgets/base",
      "model_module_version": "1.2.0",
      "model_name": "LayoutModel",
      "state": {}
     },
     "16ed1f77849c49eab48eed7e39883bcc": {
      "model_module": "@jupyter-widgets/output",
      "model_module_version": "1.0.0",
      "model_name": "OutputModel",
      "state": {
       "layout": "IPY_MODEL_2550a46d452d4d1b926f03fc8f48c17b"
      }
     },
     "1728ab30bb404535bc285dbf8b228bbd": {
      "model_module": "@jupyter-widgets/output",
      "model_module_version": "1.0.0",
      "model_name": "OutputModel",
      "state": {
       "layout": "IPY_MODEL_6cf8ff552017400985c4b2617bc31d61"
      }
     },
     "175eea869c9a496d8944b887a55654ba": {
      "model_module": "@jupyter-widgets/controls",
      "model_module_version": "1.5.0",
      "model_name": "HBoxModel",
      "state": {
       "children": [
        "IPY_MODEL_9505f5010e6845f6bf5548e78ba03de0",
        "IPY_MODEL_3de1c975afb641299a61b93acdbbbdae"
       ],
       "layout": "IPY_MODEL_f0068f2d559c4384a7d3131bb69d049a"
      }
     },
     "17602ae1d7224492918c6dbe2e68a289": {
      "model_module": "@jupyter-widgets/controls",
      "model_module_version": "1.5.0",
      "model_name": "LabelModel",
      "state": {
       "layout": "IPY_MODEL_0318095344c44e6c8756747fd224dea8",
       "style": "IPY_MODEL_97fb2e1251994f068172258ac04adf3a",
       "value": "2"
      }
     },
     "17cf2072ec6549738aaf8e6bbcdb9a68": {
      "model_module": "@jupyter-widgets/base",
      "model_module_version": "1.2.0",
      "model_name": "LayoutModel",
      "state": {}
     },
     "183562426ef24fbab21e94478ebd0169": {
      "model_module": "@jupyter-widgets/controls",
      "model_module_version": "1.5.0",
      "model_name": "AccordionModel",
      "state": {
       "_titles": {
        "0": "Slider",
        "1": "Text"
       },
       "children": [
        "IPY_MODEL_b4119a9b31d2405bb1df08255fd1a1c3",
        "IPY_MODEL_1c7c38189b654b91b0743852c0ace674"
       ],
       "layout": "IPY_MODEL_6cec1fe73cbc48ddb3b4d732f8a7fd17",
       "selected_index": null
      }
     },
     "185e3ddfe5e247e080284e75b3466c3e": {
      "model_module": "@jupyter-widgets/controls",
      "model_module_version": "1.5.0",
      "model_name": "DescriptionStyleModel",
      "state": {
       "description_width": ""
      }
     },
     "18835cb04cc54ad48f65631a091f03fc": {
      "model_module": "@jupyter-widgets/controls",
      "model_module_version": "1.5.0",
      "model_name": "DescriptionStyleModel",
      "state": {
       "description_width": ""
      }
     },
     "18da7b7e4b4d4e418cc828e227b27ded": {
      "model_module": "@jupyter-widgets/base",
      "model_module_version": "1.2.0",
      "model_name": "LayoutModel",
      "state": {}
     },
     "1904987687e64f70ada2b990a5e9ba6b": {
      "model_module": "@jupyter-widgets/controls",
      "model_module_version": "1.5.0",
      "model_name": "FloatTextModel",
      "state": {
       "description": "Any:",
       "layout": "IPY_MODEL_bd2a76e63846430bb615741b760811ee",
       "step": null,
       "style": "IPY_MODEL_b0ba453763654f00817ba9b8429f6508",
       "value": 7.5
      }
     },
     "19b5b20d07b049bda98b342ed3ddf7da": {
      "model_module": "@jupyter-widgets/controls",
      "model_module_version": "1.5.0",
      "model_name": "DescriptionStyleModel",
      "state": {
       "description_width": ""
      }
     },
     "19c40f1da1da4f01ae80997e188dd6a8": {
      "buffers": [
       {
        "data": "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",
        "encoding": "base64",
        "path": [
         "value"
        ]
       }
      ],
      "model_module": "@jupyter-widgets/controls",
      "model_module_version": "1.5.0",
      "model_name": "ImageModel",
      "state": {
       "format": "svg",
       "height": "128",
       "layout": "IPY_MODEL_5d5a10785ab34549a5a3c698b2d92199",
       "width": "128"
      }
     },
     "19de180842b5413497d493457a9cb88b": {
      "model_module": "@jupyter-widgets/base",
      "model_module_version": "1.2.0",
      "model_name": "LayoutModel",
      "state": {}
     },
     "19e980e3b6cd4dae843551b01e167133": {
      "model_module": "@jupyter-widgets/base",
      "model_module_version": "1.2.0",
      "model_name": "LayoutModel",
      "state": {}
     },
     "19ffbc0f1786456587ceda2793d2780c": {
      "model_module": "@jupyter-widgets/controls",
      "model_module_version": "1.5.0",
      "model_name": "FloatTextModel",
      "state": {
       "description": "Any:",
       "layout": "IPY_MODEL_490ca963f63e4477bba84e398a846194",
       "step": null,
       "style": "IPY_MODEL_13186495611c4936b30b4df022459638",
       "value": 7.5
      }
     },
     "1a45ca0070694e06a318716f4cfb177d": {
      "model_module": "@jupyter-widgets/base",
      "model_module_version": "1.2.0",
      "model_name": "LayoutModel",
      "state": {}
     },
     "1a6c6dad47304ea3b7b26137172c94ba": {
      "model_module": "@jupyter-widgets/controls",
      "model_module_version": "1.5.0",
      "model_name": "DescriptionStyleModel",
      "state": {
       "description_width": ""
      }
     },
     "1a72671889d348fd82faf9de3cce0f06": {
      "model_module": "@jupyter-widgets/base",
      "model_module_version": "1.2.0",
      "model_name": "LayoutModel",
      "state": {}
     },
     "1ad104ccf38e4660b444198037680251": {
      "model_module": "@jupyter-widgets/base",
      "model_module_version": "1.2.0",
      "model_name": "LayoutModel",
      "state": {}
     },
     "1ae8976735fb43339db1821c371972a1": {
      "model_module": "@jupyter-widgets/controls",
      "model_module_version": "1.5.0",
      "model_name": "DescriptionStyleModel",
      "state": {
       "description_width": ""
      }
     },
     "1b33b4ef4c6941cfbbac20ac899c9c82": {
      "model_module": "@jupyter-widgets/base",
      "model_module_version": "1.2.0",
      "model_name": "LayoutModel",
      "state": {}
     },
     "1b49be4ad8144939b9229d48afa478cd": {
      "model_module": "@jupyter-widgets/base",
      "model_module_version": "1.2.0",
      "model_name": "LayoutModel",
      "state": {}
     },
     "1b7d635537534d3ba93f20640a640e70": {
      "model_module": "@jupyter-widgets/controls",
      "model_module_version": "1.5.0",
      "model_name": "DescriptionStyleModel",
      "state": {
       "description_width": ""
      }
     },
     "1bda3b9567874905bd82585df8293e4d": {
      "model_module": "@jupyter-widgets/base",
      "model_module_version": "1.2.0",
      "model_name": "LayoutModel",
      "state": {}
     },
     "1be35580002e4911937251634103ccad": {
      "model_module": "@jupyter-widgets/controls",
      "model_module_version": "1.5.0",
      "model_name": "DescriptionStyleModel",
      "state": {
       "description_width": ""
      }
     },
     "1c0281199be14e43a7d08c0e49621911": {
      "model_module": "@jupyter-widgets/base",
      "model_module_version": "1.2.0",
      "model_name": "LayoutModel",
      "state": {}
     },
     "1c12f7b79abd4039a0958fed26263125": {
      "model_module": "@jupyter-widgets/controls",
      "model_module_version": "1.5.0",
      "model_name": "SliderStyleModel",
      "state": {
       "description_width": ""
      }
     },
     "1c7c38189b654b91b0743852c0ace674": {
      "model_module": "@jupyter-widgets/controls",
      "model_module_version": "1.5.0",
      "model_name": "TextModel",
      "state": {
       "layout": "IPY_MODEL_3b498e735d1b49b2b48ddaed3d143f88",
       "style": "IPY_MODEL_d7d3478e32e94695b41dd78cb1c07dfd"
      }
     },
     "1cb695714d344051b0401ec9a30132e6": {
      "model_module": "@jupyter-widgets/controls",
      "model_module_version": "1.5.0",
      "model_name": "LabelModel",
      "state": {
       "layout": "IPY_MODEL_8086237a17b144fda19015ee1cfa7f57",
       "style": "IPY_MODEL_7e4cc27321b746fbb06f54826d41498b",
       "value": "3"
      }
     },
     "1cf0c75274ea47f7a756267693144b37": {
      "model_module": "@jupyter-widgets/base",
      "model_module_version": "1.2.0",
      "model_name": "LayoutModel",
      "state": {}
     },
     "1cf6614a1f664199a9908894134d9e81": {
      "model_module": "@jupyter-widgets/controls",
      "model_module_version": "1.5.0",
      "model_name": "FloatSliderModel",
      "state": {
       "continuous_update": false,
       "description": "Test:",
       "layout": "IPY_MODEL_4c225ec67bed4dc89839db609f3b4244",
       "max": 10,
       "orientation": "vertical",
       "readout_format": ".1f",
       "step": 0.1,
       "style": "IPY_MODEL_d707a4c7dab445659aec31fbd0832a53",
       "value": 7.5
      }
     },
     "1d18d8276c5b422c8e5a9ff83b9e67b3": {
      "model_module": "@jupyter-widgets/base",
      "model_module_version": "1.2.0",
      "model_name": "LayoutModel",
      "state": {}
     },
     "1d31c01b218a4ae19bd89bd2ca751211": {
      "model_module": "@jupyter-widgets/controls",
      "model_module_version": "1.5.0",
      "model_name": "IntSliderModel",
      "state": {
       "continuous_update": false,
       "description": "Test:",
       "layout": "IPY_MODEL_17cf2072ec6549738aaf8e6bbcdb9a68",
       "max": 10,
       "style": "IPY_MODEL_b18921573f5e4d269a1f9cc210baaf35",
       "value": 7
      }
     },
     "1d4ae2e0a52b46598c2bfcb92a7e9ca6": {
      "model_module": "@jupyter-widgets/controls",
      "model_module_version": "1.5.0",
      "model_name": "DescriptionStyleModel",
      "state": {
       "description_width": ""
      }
     },
     "1d5483db682f4afa92647fd25a0e6605": {
      "model_module": "@jupyter-widgets/controls",
      "model_module_version": "1.5.0",
      "model_name": "DescriptionStyleModel",
      "state": {
       "description_width": ""
      }
     },
     "1d65ac2a92f64df39e6cecc86bae05d6": {
      "model_module": "@jupyter-widgets/base",
      "model_module_version": "1.2.0",
      "model_name": "LayoutModel",
      "state": {}
     },
     "1d691181540a4aca85af06171ea4543d": {
      "model_module": "@jupyter-widgets/base",
      "model_module_version": "1.2.0",
      "model_name": "LayoutModel",
      "state": {}
     },
     "1d786bad5fb34aa28eebe4d9fe53a2ad": {
      "model_module": "@jupyter-widgets/base",
      "model_module_version": "1.2.0",
      "model_name": "LayoutModel",
      "state": {}
     },
     "1d96004183d845db95cec79b43701811": {
      "model_module": "@jupyter-widgets/controls",
      "model_module_version": "1.5.0",
      "model_name": "TabModel",
      "state": {
       "_titles": {
        "0": "0",
        "1": "1",
        "2": "2",
        "3": "3",
        "4": "4"
       },
       "children": [
        "IPY_MODEL_4eddc23f58bc43219ae55409b2659198",
        "IPY_MODEL_943a83f9019b41d1a2c6d69114436a8d",
        "IPY_MODEL_610d4c6a815e475485ef17869f4a004f",
        "IPY_MODEL_a99efa9e2e6e49c09ae6262b9f46fffe",
        "IPY_MODEL_0f8778049fa4450e85a15a829aa8b9d5"
       ],
       "layout": "IPY_MODEL_76ef01f6c73949d2b719308dd9695384",
       "selected_index": 3
      }
     },
     "1e056280971d4be48560196a2bdd7d84": {
      "model_module": "@jupyter-widgets/base",
      "model_module_version": "1.2.0",
      "model_name": "LayoutModel",
      "state": {}
     },
     "1e0c369744bc420e8735c7f047e19ee9": {
      "model_module": "@jupyter-widgets/controls",
      "model_module_version": "1.5.0",
      "model_name": "DescriptionStyleModel",
      "state": {
       "description_width": ""
      }
     },
     "1e6ec96ec5804ebda77730bd860b27a6": {
      "model_module": "@jupyter-widgets/controls",
      "model_module_version": "1.5.0",
      "model_name": "BoundedFloatTextModel",
      "state": {
       "description": "Text:",
       "layout": "IPY_MODEL_de2f3973f6fe4fe1a185c2fc873406c6",
       "max": 10,
       "style": "IPY_MODEL_2ddbdb55b7124804a9b325a76b9d8f3a",
       "value": 7.5
      }
     },
     "1ea7da5778b049558850a5d8ef4cf3cf": {
      "model_module": "@jupyter-widgets/base",
      "model_module_version": "1.2.0",
      "model_name": "LayoutModel",
      "state": {}
     },
     "1ecae4d61e7d4cf486f721fce70c2586": {
      "model_module": "@jupyter-widgets/base",
      "model_module_version": "1.2.0",
      "model_name": "LayoutModel",
      "state": {}
     },
     "1f1a920ff68348cfb45f6017f8a23d72": {
      "model_module": "@jupyter-widgets/controls",
      "model_module_version": "1.5.0",
      "model_name": "HBoxModel",
      "state": {
       "children": [
        "IPY_MODEL_7c63441fa7fd4379a80a7a60e1fea3ff",
        "IPY_MODEL_c5ea0da036eb4e9088393b95d5ff6f6f"
       ],
       "layout": "IPY_MODEL_6d1bbb1a19fd486aa087c1d77ea726ad"
      }
     },
     "1f2242f0713c4714aad3e2cff66a5e07": {
      "model_module": "@jupyter-widgets/controls",
      "model_module_version": "1.5.0",
      "model_name": "DescriptionStyleModel",
      "state": {
       "description_width": ""
      }
     },
     "1f4e703f8eef413082798a265a90436e": {
      "model_module": "@jupyter-widgets/controls",
      "model_module_version": "1.5.0",
      "model_name": "DescriptionStyleModel",
      "state": {
       "description_width": ""
      }
     },
     "1f4e9f67a9b347e38ed0aabfc7e76264": {
      "model_module": "@jupyter-widgets/base",
      "model_module_version": "1.2.0",
      "model_name": "LayoutModel",
      "state": {}
     },
     "1fdd1f2071d5448b86c87eb28ee99e1b": {
      "model_module": "@jupyter-widgets/base",
      "model_module_version": "1.2.0",
      "model_name": "LayoutModel",
      "state": {}
     },
     "1ffa37d19e2246f9a5ab864d29aabc11": {
      "model_module": "@jupyter-widgets/controls",
      "model_module_version": "1.5.0",
      "model_name": "FloatRangeSliderModel",
      "state": {
       "_model_name": "FloatRangeSliderModel",
       "_view_name": "FloatRangeSliderView",
       "continuous_update": false,
       "description": "Test:",
       "layout": "IPY_MODEL_984dcde971ed4663802a919e53ea2428",
       "max": 10,
       "readout_format": ".1f",
       "step": 0.1,
       "style": "IPY_MODEL_92330d4a07b84779a8951f283de2c3c2",
       "value": [
        5,
        7.5
       ]
      }
     },
     "2061fde8fe2542b7a4aa54ecdd6ab2fa": {
      "model_module": "@jupyter-widgets/base",
      "model_module_version": "1.2.0",
      "model_name": "LayoutModel",
      "state": {}
     },
     "2066b49061d6488c92bc80e9f8038043": {
      "model_module": "@jupyter-widgets/controls",
      "model_module_version": "1.5.0",
      "model_name": "DescriptionStyleModel",
      "state": {
       "description_width": ""
      }
     },
     "208383b4f471463c842d8f184d04793b": {
      "model_module": "@jupyter-widgets/controls",
      "model_module_version": "1.5.0",
      "model_name": "TextModel",
      "state": {
       "description": "String:",
       "layout": "IPY_MODEL_728e966a68654d9fbec7f130685438f1",
       "placeholder": "Type something",
       "style": "IPY_MODEL_89871f5ef1714acf9e1de562c2cd26c7",
       "value": "Hello World"
      }
     },
     "208fca5eb38e46649d6ad1d973aacd44": {
      "model_module": "@jupyter-widgets/base",
      "model_module_version": "1.2.0",
      "model_name": "LayoutModel",
      "state": {}
     },
     "20bd55ab72254665a0cbc5796977657a": {
      "model_module": "@jupyter-widgets/controls",
      "model_module_version": "1.5.0",
      "model_name": "FloatSliderModel",
      "state": {
       "continuous_update": false,
       "description": "Test:",
       "layout": "IPY_MODEL_b4fcde747bf14601bcedb661510e5295",
       "max": 10,
       "orientation": "vertical",
       "readout_format": ".1f",
       "step": 0.1,
       "style": "IPY_MODEL_da4bdd0cdb8b4107a1635e461d8caec6",
       "value": 7.5
      }
     },
     "2112a8fd490c445e9eac2986b97ddf7d": {
      "buffers": [
       {
        "data": "R0lGODlhHgEeAcQfAGON/+rq6sfHxwAAAKBIAKampgBE/4aGhm4yAGVlZUZGRk5bfmJznycpLgAifz8cADRq/3md/w0PEhdV/09+//9zAJ64/36Sy8daAO9rAJOt9N9kAB8OADZAWYqh3////yH5BAEAAB8ALAAAAAAeAR4BAAX/4CeOZGmeaKqubOu+qCAXR30oeK4n9lHIAZhwSCwaj8ikclkU0BKKxmBKrVqvWCquJmN6v+CweMx03qTZtHp9bSh8QbJ8Tq/bTYEClM3v+6cSbwVxd4WGh4glAmd/jY59DQmDiZSVlkh5CWiPnJ1rkQWXoqOkHwE3nqmqa4GTpa+wY6ebq7W2Vwqusbu8QrO3wMG4ur3FxiIFCsLLzIAJAsfRsAEJEs3XzQ0HhNLdh8nY4djP3uV0v+Lp17nm7V+n1ury1w2h7vdF1PP74RLb+ABZ6ONHEJs/bgETDizI8Jq/hAoPxGtIMZs9iO0KTKzIkVkDaBi7CaDVseQyBQhD/8ZaaLLlsocqd0lsyeEBAgQEMGyo8ODRAgsXLjBY0KHBRo4fY5YSoIyjzZwVokqV2tPRTwtYs2IVuoAkwwQplR46QPHpzqlop1ZtdFWr26xCizaUcFGsoZEFbWJIyzft2j9t3wrGqmHoUXko7RYiyw9nhr6Q0f71E3iwZQseGHTgR1fxuabqOOCMTFqyz8uotRbePA+s5zEa5Y0uTZvq6dS4CWuWl/S1F5bYHhCoTdy21dzIdR9m1tm3kgBemSE4W7z45D6Vk+O+wDqca+dGYgcfXr08z9vatWtYsDxYb/BCGF97sNe8+et8sqdHzqD9rebwtRAAaNJRZ195+LGh3/9+yF0QHTAHBCjQg7ZMd+CFCa6xIIMNUlhLAhKmIIB/q1h4IYboccihg9mEFaB4wtB34owZqrGhisn15xFIIX5QADMckDfjiTWmcSOOybH3Eo8ByhcMAkNGWWQWRyKJnAbdASMBk84lsMwDBkaJ4nFWlnkBiZ7U9ZqXwggpJo0plonkAsuoaRebwCDw2JtSxiknjiwGY2dMeN5SH599kvmnnAwIMyhGhdbywJ6IJsrWoosGesujAUW6ipuVDjklFlVimh6dwHB6j6epyBjqm6NeUaqp2um4aUisegLlq3zGasWstCbngYePqOqNk5/yiqivVQAbbHJZqrJlQD/awsH/ocqKySwVzj7L339cliPALZNmu6yf3lp5pi0SuHjMiBWaW+m2U3Sbbm7D2tKAu70EgOYfu8rbK7r3IqkBsX8oUA50toAqsKWAFUxrtJ6A2E2ujzj8sKgES4wkxZ0YWwqynmC7sbYde4xjo7WEG8u4tZh8MsSUqUwry9LyK4q/Mc88b8o2q4hzKgr3gnAfMvvMsaJBLzq0JxHugnEjSSsNJ9NN//l0Jy5fArMqVVtNJNBZc7j1I+2+wjPYYv+Mddlyokr0KwR2onHbV18Kt6kgOxK1KCRnjLfbeu+Nad+NdG3I2roOTnjEhmN6sCoNiFL3IwE7DivZke83eSp/JxJ4/yPlaj7w252r+y8bip+z+hqUmo4y6qkjeXYjlSdyuSNhy34gvQPYWztut/8R+h3VenK372MWPvyfiPeRdiGMc5I58zRj97zkr6dR9B1T81E69rM7v72ZqrQORgBsk7857ecLnUrudez+x/Lu2we88PGjFj0fxxvD1zjxgPydznz9M1j3sDA9ORxNDbEzYN4gl0BGpcJiZEgeJ/AnQQRxroJJSoXOMPHALBSwg+WjIAitpIEF4oIMo/NDBFHYPBWu0HapUJ8RqucIDtLQOh+8YW7+t4bvfSGG4vthCmsmxDK10BM6HAIPqabE7OWniRbshBGXgEQ2XK+KvwsiFlNTQv8sRPEFU/zDDMF4HzGO8TIX8MQWkaDBHrJxaQh8I4OIqIYRvqCMVuDAHfFoQz0yyAMVW0IdqTjIscHPkCHshB9ZYL8kNtKReYSkelxYhQAOYYC8uyQmC6nJU3VCAkkInxpOKMowPrKUuHkiJ0SmAvZ1onetLM3+YIkjuTlijjDo4ipzWUMm8pJBsnzEGU8AyCrgkpiR2eUxOeTLRmBQCKD8AyuZh4GbePOb4Ayn/tw4Ta0gkhOoJIIq0+BDsSGAE+N85WAiYIB62vOe+MRnBPrHxyzQ0gScnIIg3ffOR8Qzk6ihZz4Xms99xu+cjwDmChbphy/KrqCOOCgpU6NQhnr/1AAOjV8zqTDJEVSSDWs0HUYboVFjJqejH11oSM9XPDb8UwS2xJwBV/qHlmovPTCNqT4rGNAB0K8FFEXaTuHZRnkKJqhCtedMz1fNP5T0pGoYaP546gefXhGoUZVpBSHqtxfYTYJc7YNXFbQfqIZ1qucb6QAkaoKk8iFM2EsrH9aqobaGtaEgrOka/LhOLGyToEz1oFPf4taownV7GghZC+TazsHplQ18tZFf/3rPx26vn1e4Zgw6kVLfXXYNmTXSZjlbT88+T7BpSKcKhGlCFJ5WDaml0mpZ69rnFVV9WGWnbRNbHWlqp7FC7e3wQGsFT5KAtMM1aFMRehnkxlS5/7WDbRbo+oFs9uGwWyUuEBfrFut+FLupiywnZms9Gt42Dbkl1W45i97UyVVxwc3CM1UqXuIY96WslaoQtYsF536gEz98bxbiK6v5/rW+nYtjREf7CPDmjwAPyLCGN8xhDjP4V+X8U0BlWwLaYqGy0KzNf0OMI+ZWISyFvcJ+U6xicrJ4MAS+wqDkSuMl/vTGgOKEaEVAwB5bka1ARhIn5uhdPljUyIqlbpJzM1ISI4MTM4ZyNG08Za1UtQ8IMfEVSqvlGpO3y4LJsRW4lN8raLXMH24WmjlEVuOVYKQWhrN/uTxnCwi5BO3Vc5y51WcGjdSITWYDigVtmjMXOisuBv8ECRK9hiwzWi18nvOX+UACMVvh0tPd6KPhyAkeeboKoI6yqEc9GAk7gkdttkKeUw2ZFbM6NZz4W6yrMGta88XWt75MQP820if7+teZnvNIMRjoY+sy2Wg+9Aiw7GzaADvYg9l0Eaf9CEvT+trYfou21fA9alebNOAOt1bUXAVuZ/Tc6IZ2l13dCHezFN5bdjSr6f0He/cU37WW95T57Qd/dxXgfUm3urfCiThUGOEJF/iUS01kR/Qa38CTwAUWjhqKH9jiEEc22jbO8cF4/OEhb/TISy6Yk4M85Zg+JclZnhWXkw7mMZc5zWuuzIrfHOdRAZ4VNL5zP/f84z8HutD/hz7zkttcm0APei2IzvKn++Hi8Faw9Jqubqv34c041zofqK5ugvcBJP2FudjZQHZsm53TPr931KOydlZwfd/rjfu/5053dt390W9ng8H7gFeg110NbR81u6kweD54+9yHj+3fNf0I+pmb71KJfBYS3+dxe6/xisY8WjTPwMlPOdJzHUGxRT96v4962SbVKeunQvorcH7Kw479y2efedf3OdcjOLVAed/6qZu+nHX2g6nTPvvaMx3NgV8Dj+xaaeIXfxW3L+fipzDpy1u/78afsufTAGjZf7/34QeytEkQUGPz3vlVyD4sA7rFXVMB66yHPxXkD0n1lpUEMfZp55cW//oHCMenR9GnBmoifFPweFFXgAPAf280flnAJZSmBouGeRAogViEegOAB802gNcnLQfYRAF1VKr3CGAnguiHfSW4QsnXB0P2AfZHBYXHghv4ghW0fQPgSQw4ABmYf75nSB7oMheYBu4ngjkISUWVApywgixIe0OIRTHIB3QlVzcYhRWwhGPEgzMoAgFYBUH4flN4Qx7IKdQ3TFoIGVwoREXlLjn1bmuYFhuwdKU3YJyAgiZAWXM4FRsAgfung51DgVjwhSMQhlSQhNbXTcLAgcNTVMaShrilhd3EAS8hiBHWCS1wVue3AQSAAJbIHJg4iEvWAjU4BYoIahiwiqzYiv+r+IkIkGHi4Ii+BXwsIIlpQGapZoeNOIqdw4MD4Edx2AhjCGW8qCW+2DkeqIcpIFf4x2jHWIY3lEzW9AI/OABZuIsVQYvbA4zLNIwAA3DRSDkaYEhyxYwqIFcDII4N0QDliICdYIgocI3FSGPj2An8UzseOADLhFOd8Ixwdo+OIAEMoEn+5wjouAKn2IDwJpB/0ADJ+DyEWGBEgItZkIqhAhWa45A/ViYAAGGYUlTBWAQimY2vQgAM6Tgc+QkRaRkA0FpBA4zctQKImIgng5JU4IChspKbV5CL8pICpjIieVMg2AkmySc46UyDw5Oy8o5/ApSd5THAmJAusJADgJH/Q5KUVqCTB8QMHeABpgKVQ1UwImlgLmCRWXCUWakGXOlj7LIAYBmW53UvwDiSSKCOWHkgWqlfYrOSBOmUmCKWDAWSDCKS8miNnqCWeqlUSiOQErAALZkbgulRhFkrUPQcIgmQ5bGX1ecz0dgAkHkvkzmXpkKNjTCTMFCTOVkpnMkGbVlMD7kADACY3jKa12UqE4kFRLkC4Ah1SLlBM6NwtAIBAQaTf+IBIkmV6qQ8b9KaflCPriRlkkOcxWmcZbKPA7CbApEKukgczhmODyOcf6IBE1CdUakunqCcRaCaqLiWqzA+2SKeZWJe9GUl6pidYdCbf/CaGAAMr7ln+sYg/7ZpnrRpSp2gnkbAngOgmX0BiEBoLvKpIhpAneaZTwCAI8iZJrKQCnnZoMAAn4/jUqYSAeVZoRaKJPeJoEegoAPwnw76oK8SoftBASa6UBe6Mqmgnb4gkgs6JC8KJjspceVVojV6TzeqIhmqRXRwje05Iy8Ko10poixEoUVqT0eqIvfJj3WQpf+5hcJwLVHakVZCo1WKT1dKTRdkB2iZBRzQnbTxpAuqmNYmcQBApGVaT2fKIAnIdiWlBFY5BQzKhgVCSFLaVlR6pwaQp57Doz1IPaoAnVIoHa8po4IBAIeKqIq6H9hpVGPRPk46H/VIqVmhAXWKqCdqJXU5Bf3IBP8M4wltGiXfaS0mMl7SyViXaqoghT5zgwhHyAaBChmxSi4E4KZSR14aQAF2iqtBiSRJekp9CgZ/2qRD0p/pIBzdKZzHmqzKWk8TUKDIlKX4SQlpRIxiggFMaUIIEDbXRqrIuq0MBQHeukeqgJp0sKbCFSUZcK6rhBPY8l8RYKna6q73RAF/kpub96xjwKIpGSVwqk02EYqN0AEUAAEBK7CAlUU5OgqtmgpyShvU6hJs4AAWG1XdqjWrQK930Ku+Sqy1ka8guwYiO7IfRbB/si7zg7BzwKT3x7K1EawuEbMym08TUJmoYbM5FAvRCqg8Sxt1+LJYALRBa08UEK8rwqj/U2CWlTCupLO0tOGzHQG1QTu0mGK0ctQLKruyiNK0TjsFYDuyUzu2VhuBOLsYksK1HguxINu27gqvpkK2l2kMSau0Gem0eourYtu3cduox7CxrWK3tJEBDasKhXunE5CpqvMhIpG4YBoqf9gSk1ulb3sz+jK3lHC2jscrnfu1yjoBoSu6U0e6lWCvawCppQG5HPG51Vm56bKp8beqpaCwVdCh9oFhDYG7rAUBRKsevFsFOvq7t6An5sKIBGG8JNu6z5IvttC8dEMuHXshGUC880C9H4W8EuO3oKMQ4GoFtFsc36uvViC++QQBlksrBssGh+kNjFsiJ/O9oIgN8GsA/6ybvBKavlVwvwtDwPfXveUKvsJgvBMgv1TrLeabpjGRv8liNZ4Yi7egtw9MAREQwfdSv/ZrFxasCiCqNBmAAZ8oi5wgshAAARTwkRGGwFRgwPhQwo/KPKJaMCI8wq+Bw40rOzsswTRcw+ABxKmwvu9TqxKzHstgwxiBxJ7gKngzxKZiK8EAxSEBHM/ruGH6VXCjKcGAtZ4BvEjYNlbsRMubBtqLETq7BkFiNWmMI+uRuAzku2IBI1+qxKpWqOlSx9mAx3YBL80Qxxszx+kByC3SI7VUxFhgyPKCyFeiJNegxRJixl7kxbS6anLiAWtsU4z8AnrcDOmqLJJ8GQzgyP9Z8B6h3AJ4IQ7WGqQBihseQMnhkBitDANcfA2zscScnMipLA9knMsoMMrh0MsT5MfA/Ml+wMrE7Auq7GTDOkrKjC+7sQ/f8cxG8MZTrJF9LKb80RUEASDafASvnBfePKfGOhTRnDCwW84lZsetwq/x9kgaEBfynJ5tDM8nMCAmURP82q8pEhQL0BX5vArZzM9eYMwmwcID2QDtbAsKIMgKLSDcvLYgS84VLQb+jNEe7Qf/sNF0cM4fXdJWkNAiXa8RbdInQdEpTUcrzdK1MNEvHbsxLdNL5tI1vdA3jdN9QNM7TQrg4NMEQQ5BDQsCgMlEPXYhfdS7gA5LfRL77NR1haAHUf0fKE3Vi1sAPQ2y7KDV9wDVV22FxADWN3wAXc0PufDOZs0LmXDQBAEKbe0cixC4+9AKbD3X7lDXaV15kpDXeg0RecAI7cgDOh3YdE0DOADXVeAGPPADiK3XM1ADUIADR7MDXCAAgB3ZnN3Znv3ZdhACADs=",
        "encoding": "base64",
        "path": [
         "value"
        ]
       }
      ],
      "model_module": "@jupyter-widgets/controls",
      "model_module_version": "1.5.0",
      "model_name": "ImageModel",
      "state": {
       "format": "gif",
       "height": "128",
       "layout": "IPY_MODEL_cb58ff0e28074bd8b342cf4904fb9d65",
       "width": "128"
      }
     },
     "21214b730a7245fe98adb687ff62c9d6": {
      "model_module": "@jupyter-widgets/base",
      "model_module_version": "1.2.0",
      "model_name": "LayoutModel",
      "state": {}
     },
     "213074bb1bbf42dabdb259c85b0aa918": {
      "model_module": "@jupyter-widgets/controls",
      "model_module_version": "1.5.0",
      "model_name": "DescriptionStyleModel",
      "state": {
       "description_width": ""
      }
     },
     "21619a62deb345ce8bb2594a81e217ca": {
      "model_module": "@jupyter-widgets/controls",
      "model_module_version": "1.5.0",
      "model_name": "SliderStyleModel",
      "state": {
       "description_width": ""
      }
     },
     "2168ea44d9e94a4a889403d6c798ee78": {
      "model_module": "@jupyter-widgets/controls",
      "model_module_version": "1.5.0",
      "model_name": "HBoxModel",
      "state": {
       "children": [
        "IPY_MODEL_7e14d563ddc04232a57c214c04e74478",
        "IPY_MODEL_b8c9638d85cc46a8afba53bea0303cd1"
       ],
       "layout": "IPY_MODEL_d96f9fe8f40e493490d77d79b926c2ae"
      }
     },
     "218f9b0e55db498aa076accebd007bab": {
      "model_module": "@jupyter-widgets/base",
      "model_module_version": "1.2.0",
      "model_name": "LayoutModel",
      "state": {}
     },
     "21aa42a8fca048cba231748189bb220b": {
      "model_module": "@jupyter-widgets/base",
      "model_module_version": "1.2.0",
      "model_name": "LayoutModel",
      "state": {}
     },
     "21c6f5b2fca64c0dab9bcbb6f1b36831": {
      "model_module": "@jupyter-widgets/controls",
      "model_module_version": "1.5.0",
      "model_name": "DescriptionStyleModel",
      "state": {
       "description_width": ""
      }
     },
     "2222c43e32a94a99bfd586c5175e9ce8": {
      "model_module": "@jupyter-widgets/base",
      "model_module_version": "1.2.0",
      "model_name": "LayoutModel",
      "state": {}
     },
     "2227d98383f44b5982030b985766bbb1": {
      "model_module": "@jupyter-widgets/controls",
      "model_module_version": "1.5.0",
      "model_name": "HTMLMathModel",
      "state": {
       "description": "Some HTML",
       "layout": "IPY_MODEL_9f47c3ddc96e4da38da2f416791ec060",
       "placeholder": "Some HTML",
       "style": "IPY_MODEL_6a3b02bd4ea44d0385dfe7b2e203837c",
       "value": "Some math and <i>HTML</i>: \\(x^2\\) and $$\\frac{x+1}{x-1}$$"
      }
     },
     "22496ecf7f544970be5a14de3db2afd0": {
      "model_module": "@jupyter-widgets/controls",
      "model_module_version": "1.5.0",
      "model_name": "FloatLogSliderModel",
      "state": {
       "description": "Log Slider",
       "layout": "IPY_MODEL_ba55c0cdadcf455bb40ba197d68e72f5",
       "max": 10,
       "min": -10,
       "step": 0.2,
       "style": "IPY_MODEL_ec9093bb394e4f188fb7fa9566c97dfa",
       "value": 10
      }
     },
     "22801ee4b1604f728f83dd6131d68311": {
      "model_module": "@jupyter-widgets/output",
      "model_module_version": "1.0.0",
      "model_name": "OutputModel",
      "state": {
       "layout": "IPY_MODEL_b9de4987354f4792b4536719e73760b5"
      }
     },
     "2280ce8624c943a6b46c283f6f3e54c3": {
      "model_module": "@jupyter-widgets/base",
      "model_module_version": "1.2.0",
      "model_name": "LayoutModel",
      "state": {}
     },
     "22c22294b7f748f28aaab375c3182870": {
      "model_module": "@jupyter-widgets/base",
      "model_module_version": "1.2.0",
      "model_name": "LayoutModel",
      "state": {}
     },
     "2357d552f726458c97a48667db8e5cf1": {
      "model_module": "@jupyter-widgets/base",
      "model_module_version": "1.2.0",
      "model_name": "LayoutModel",
      "state": {}
     },
     "23b98caf250d46d7bf3ded0879a2b284": {
      "model_module": "@jupyter-widgets/base",
      "model_module_version": "1.2.0",
      "model_name": "LayoutModel",
      "state": {}
     },
     "23bb61c568e7410096889568a7b990c1": {
      "model_module": "@jupyter-widgets/controls",
      "model_module_version": "1.5.0",
      "model_name": "BoundedFloatTextModel",
      "state": {
       "description": "Text:",
       "layout": "IPY_MODEL_2483f6955cdb4da1b27ab5c32869a5b7",
       "max": 10,
       "style": "IPY_MODEL_83476d617bf1451a8def2bb7547e26df",
       "value": 7.5
      }
     },
     "23c5733b8dba4a5ba5166aab9dcc6e56": {
      "model_module": "@jupyter-widgets/base",
      "model_module_version": "1.2.0",
      "model_name": "LayoutModel",
      "state": {}
     },
     "23f24bbe467e4092888227b31dabf499": {
      "model_module": "@jupyter-widgets/base",
      "model_module_version": "1.2.0",
      "model_name": "LayoutModel",
      "state": {}
     },
     "23fb085a3c2b4dfe9dcb1fd2ab53ca0d": {
      "model_module": "@jupyter-widgets/base",
      "model_module_version": "1.2.0",
      "model_name": "LayoutModel",
      "state": {}
     },
     "2403b89f65784b36b1c6a518717d70cb": {
      "model_module": "@jupyter-widgets/base",
      "model_module_version": "1.2.0",
      "model_name": "LayoutModel",
      "state": {}
     },
     "2483f6955cdb4da1b27ab5c32869a5b7": {
      "model_module": "@jupyter-widgets/base",
      "model_module_version": "1.2.0",
      "model_name": "LayoutModel",
      "state": {}
     },
     "24c74884c05d42e59039f522eb78ca97": {
      "model_module": "@jupyter-widgets/base",
      "model_module_version": "1.2.0",
      "model_name": "LayoutModel",
      "state": {
       "border": "1px solid black"
      }
     },
     "24cfeb63c11f4842af69dee09122f96e": {
      "model_module": "@jupyter-widgets/base",
      "model_module_version": "1.2.0",
      "model_name": "LayoutModel",
      "state": {}
     },
     "24da0d3fa7604e26a73758a4f138f052": {
      "model_module": "@jupyter-widgets/controls",
      "model_module_version": "1.5.0",
      "model_name": "DropdownModel",
      "state": {
       "_options_labels": [
        "1",
        "2",
        "3"
       ],
       "description": "Number:",
       "index": 1,
       "layout": "IPY_MODEL_3c30d5828cca41569ec3c867dc88febf",
       "style": "IPY_MODEL_5eb5ff82498f4d0cab09a7a88173d627"
      }
     },
     "2501f97be42a447b8feb6d7dfa38bf1e": {
      "model_module": "@jupyter-widgets/controls",
      "model_module_version": "1.5.0",
      "model_name": "IntProgressModel",
      "state": {
       "description": "Loading:",
       "layout": "IPY_MODEL_7cafd6fb335e4a218b91623c4dbfefac",
       "max": 10,
       "style": "IPY_MODEL_52ac4aec6dd94ad7b7b4444b88a68948",
       "value": 7
      }
     },
     "2550a46d452d4d1b926f03fc8f48c17b": {
      "model_module": "@jupyter-widgets/base",
      "model_module_version": "1.2.0",
      "model_name": "LayoutModel",
      "state": {
       "border": "1px solid black"
      }
     },
     "25762b4240174b9997848755db7d2fc7": {
      "model_module": "@jupyter-widgets/base",
      "model_module_version": "1.2.0",
      "model_name": "LayoutModel",
      "state": {}
     },
     "25b5920ddda44cbaa0bf9ccb4fcf6170": {
      "model_module": "@jupyter-widgets/controls",
      "model_module_version": "1.5.0",
      "model_name": "BoundedIntTextModel",
      "state": {
       "description": "Text:",
       "layout": "IPY_MODEL_da95b20cfda84807b9f5724daeb5ffcb",
       "max": 10,
       "style": "IPY_MODEL_b826b61682cd4276b4f531f899f8b8e5",
       "value": 7
      }
     },
     "25d682e286b540408bf7e745029b281c": {
      "model_module": "@jupyter-widgets/controls",
      "model_module_version": "1.5.0",
      "model_name": "CheckboxModel",
      "state": {
       "description": "Check me",
       "disabled": false,
       "layout": "IPY_MODEL_25762b4240174b9997848755db7d2fc7",
       "style": "IPY_MODEL_a00fa875024349e6bef46e9328083eaa",
       "value": false
      }
     },
     "2690cf938258423b81a8d2d02ae2c8ec": {
      "model_module": "@jupyter-widgets/base",
      "model_module_version": "1.2.0",
      "model_name": "LayoutModel",
      "state": {}
     },
     "269aefd890ed4086a391958e56639cde": {
      "model_module": "@jupyter-widgets/controls",
      "model_module_version": "1.5.0",
      "model_name": "DescriptionStyleModel",
      "state": {
       "description_width": ""
      }
     },
     "26c0dadc47e249a193a6b861265ac170": {
      "model_module": "@jupyter-widgets/controls",
      "model_module_version": "1.5.0",
      "model_name": "DescriptionStyleModel",
      "state": {
       "description_width": ""
      }
     },
     "26dab9e09a4b4e00bc2efacefb7966c6": {
      "model_module": "@jupyter-widgets/controls",
      "model_module_version": "1.5.0",
      "model_name": "DescriptionStyleModel",
      "state": {
       "description_width": ""
      }
     },
     "26ea353d0d544eef9bfe6856c30b9171": {
      "model_module": "@jupyter-widgets/controls",
      "model_module_version": "1.5.0",
      "model_name": "LabelModel",
      "state": {
       "layout": "IPY_MODEL_d82551e19d75422dbe8bbe7eef68d339",
       "style": "IPY_MODEL_825ccb63ce50473091cdc2f881d1044e",
       "value": "0"
      }
     },
     "27046562ba624fd6aef6868ff186910d": {
      "model_module": "@jupyter-widgets/controls",
      "model_module_version": "1.5.0",
      "model_name": "DescriptionStyleModel",
      "state": {
       "description_width": ""
      }
     },
     "2720f8a52f714111a327267f8a76234a": {
      "model_module": "@jupyter-widgets/base",
      "model_module_version": "1.2.0",
      "model_name": "LayoutModel",
      "state": {}
     },
     "2742d4e0be394ce8b8cf27c9cf4ff26f": {
      "model_module": "@jupyter-widgets/base",
      "model_module_version": "1.2.0",
      "model_name": "LayoutModel",
      "state": {}
     },
     "27750db280fe4df89e43e674b4aa0536": {
      "model_module": "@jupyter-widgets/controls",
      "model_module_version": "1.5.0",
      "model_name": "DescriptionStyleModel",
      "state": {
       "description_width": ""
      }
     },
     "27c266b52215440a9653d61c516f207c": {
      "model_module": "@jupyter-widgets/controls",
      "model_module_version": "1.5.0",
      "model_name": "FloatSliderModel",
      "state": {
       "continuous_update": false,
       "description": "Test:",
       "layout": "IPY_MODEL_40b07dacced9435194f93824361fffd8",
       "max": 10,
       "orientation": "vertical",
       "readout_format": ".1f",
       "step": 0.1,
       "style": "IPY_MODEL_01cac0a9c59f454e8b750ec14a23ffdf",
       "value": 7.5
      }
     },
     "27eec19d7f7a4e7abab1981333fca476": {
      "model_module": "@jupyter-widgets/controls",
      "model_module_version": "1.5.0",
      "model_name": "HBoxModel",
      "state": {
       "children": [
        "IPY_MODEL_fa3f1da6ffc4428b8545a93f67fcd4ac",
        "IPY_MODEL_42f766ecfedf4faf9a44f1d2511e67ce",
        "IPY_MODEL_fae56c3efe7c44caaea628d8c1dba3ce",
        "IPY_MODEL_2d46de6a241d4e69981f1f4ff9db560f"
       ],
       "layout": "IPY_MODEL_f03e38c088db483587a570869b956b11"
      }
     },
     "2840399b188c4acaa04066b3e97d571a": {
      "model_module": "@jupyter-widgets/base",
      "model_module_version": "1.2.0",
      "model_name": "LayoutModel",
      "state": {}
     },
     "285a3de7d088470d807bdb9545709027": {
      "model_module": "@jupyter-widgets/controls",
      "model_module_version": "1.5.0",
      "model_name": "DescriptionStyleModel",
      "state": {
       "description_width": ""
      }
     },
     "28a26a0f529c42078ccbb170c0334135": {
      "model_module": "@jupyter-widgets/controls",
      "model_module_version": "1.5.0",
      "model_name": "DescriptionStyleModel",
      "state": {
       "description_width": ""
      }
     },
     "28c19084c39b43fd992ec5cdca481944": {
      "model_module": "@jupyter-widgets/base",
      "model_module_version": "1.2.0",
      "model_name": "LayoutModel",
      "state": {}
     },
     "28df4a87bc7a44fa82df17c52c978e7e": {
      "model_module": "@jupyter-widgets/base",
      "model_module_version": "1.2.0",
      "model_name": "LayoutModel",
      "state": {}
     },
     "28dfd48446f7458abf9061be9036bb5b": {
      "model_module": "@jupyter-widgets/base",
      "model_module_version": "1.2.0",
      "model_name": "LayoutModel",
      "state": {}
     },
     "28fec13e8273430fa06b45b43f7373c0": {
      "model_module": "@jupyter-widgets/controls",
      "model_module_version": "1.5.0",
      "model_name": "SliderStyleModel",
      "state": {
       "description_width": ""
      }
     },
     "2932a9c59e924cefbbe5bf00b4ca0ce7": {
      "model_module": "@jupyter-widgets/controls",
      "model_module_version": "1.5.0",
      "model_name": "LabelModel",
      "state": {
       "layout": "IPY_MODEL_b8cffe2c79a3413699f54fc1241fb37e",
       "style": "IPY_MODEL_7a6e38ba91d84f8fb0b056c53509fbbd",
       "value": "3"
      }
     },
     "29485eb7bdc04eceb4e74b9935b46a05": {
      "model_module": "@jupyter-widgets/base",
      "model_module_version": "1.2.0",
      "model_name": "LayoutModel",
      "state": {}
     },
     "2a06ac0ed71d4ceda73313971bc6720d": {
      "model_module": "@jupyter-widgets/base",
      "model_module_version": "1.2.0",
      "model_name": "LayoutModel",
      "state": {}
     },
     "2a0bba9a52d4456095061dd7dd2a6bc3": {
      "model_module": "@jupyter-widgets/base",
      "model_module_version": "1.2.0",
      "model_name": "LayoutModel",
      "state": {}
     },
     "2a4a751fbace4da28bae0bf6dc460083": {
      "model_module": "@jupyter-widgets/controls",
      "model_module_version": "1.5.0",
      "model_name": "BoundedIntTextModel",
      "state": {
       "description": "Text:",
       "layout": "IPY_MODEL_c6184a06b1ad4212a86d46f8fddec533",
       "max": 10,
       "style": "IPY_MODEL_02ffd969f9ac4934b16a13a8041de240",
       "value": 7
      }
     },
     "2a5d372ea3894c56a4d4c76663de4f54": {
      "model_module": "@jupyter-widgets/base",
      "model_module_version": "1.2.0",
      "model_name": "LayoutModel",
      "state": {}
     },
     "2a681da993a4438eb78280ebe2e13451": {
      "model_module": "@jupyter-widgets/controls",
      "model_module_version": "1.5.0",
      "model_name": "IntSliderModel",
      "state": {
       "continuous_update": false,
       "description": "Test:",
       "layout": "IPY_MODEL_2a06ac0ed71d4ceda73313971bc6720d",
       "max": 10,
       "style": "IPY_MODEL_4f34ad35ed964c1f86b73936a4f48795",
       "value": 7
      }
     },
     "2a76b3a28aa5401db5fcdfee44fe716e": {
      "model_module": "@jupyter-widgets/controls",
      "model_module_version": "1.5.0",
      "model_name": "TabModel",
      "state": {
       "_titles": {
        "0": "An accordion",
        "1": "Copy of the accordion"
       },
       "children": [
        "IPY_MODEL_183562426ef24fbab21e94478ebd0169",
        "IPY_MODEL_183562426ef24fbab21e94478ebd0169"
       ],
       "layout": "IPY_MODEL_1fdd1f2071d5448b86c87eb28ee99e1b"
      }
     },
     "2aaf6934a868432bb6f84fc939c8496d": {
      "model_module": "@jupyter-widgets/controls",
      "model_module_version": "1.5.0",
      "model_name": "LabelModel",
      "state": {
       "layout": "IPY_MODEL_b461501d13d5416dba7c4312ede37ea9",
       "style": "IPY_MODEL_1ae8976735fb43339db1821c371972a1",
       "value": "1"
      }
     },
     "2afe13a008064d90acb4b08a14e49899": {
      "model_module": "@jupyter-widgets/base",
      "model_module_version": "1.2.0",
      "model_name": "LayoutModel",
      "state": {}
     },
     "2b53aaf6b28448bcaf7f723e22369dd4": {
      "model_module": "@jupyter-widgets/controls",
      "model_module_version": "1.5.0",
      "model_name": "AccordionModel",
      "state": {
       "_titles": {
        "0": "Slider",
        "1": "Text"
       },
       "children": [
        "IPY_MODEL_e0bd89507f664f128d4c87181af4a05e",
        "IPY_MODEL_f2acb17e4d77405aa646fd3dfa1868df"
       ],
       "layout": "IPY_MODEL_e18503c349464d4f80043c14aa61d3cd",
       "selected_index": null
      }
     },
     "2c01aaa249904e128973a1edc745abdc": {
      "model_module": "@jupyter-widgets/controls",
      "model_module_version": "1.5.0",
      "model_name": "VBoxModel",
      "state": {
       "children": [
        "IPY_MODEL_ab91593ee1cb4c028f739e64e64dae67",
        "IPY_MODEL_85cc84ee2d214c08a59f8edd374d2205"
       ],
       "layout": "IPY_MODEL_c6811ffef69f4ce2884467669742b6d1"
      }
     },
     "2c157511509f47bdb20a150bc6d7f33c": {
      "model_module": "@jupyter-widgets/base",
      "model_module_version": "1.2.0",
      "model_name": "LayoutModel",
      "state": {}
     },
     "2c66ee2a6db348a196d9eb468756c4d1": {
      "model_module": "@jupyter-widgets/controls",
      "model_module_version": "1.5.0",
      "model_name": "DescriptionStyleModel",
      "state": {
       "description_width": ""
      }
     },
     "2c8379e62a59492fac496645ca7c20a1": {
      "model_module": "@jupyter-widgets/controls",
      "model_module_version": "1.5.0",
      "model_name": "DescriptionStyleModel",
      "state": {
       "description_width": ""
      }
     },
     "2c99a19326424d2885bdec2583a7194e": {
      "model_module": "@jupyter-widgets/base",
      "model_module_version": "1.2.0",
      "model_name": "LayoutModel",
      "state": {}
     },
     "2cb264cc96d344d3824e4f0ce1717a55": {
      "model_module": "@jupyter-widgets/base",
      "model_module_version": "1.2.0",
      "model_name": "LayoutModel",
      "state": {}
     },
     "2d28cec3405045dc8c837863a34e34ec": {
      "model_module": "@jupyter-widgets/base",
      "model_module_version": "1.2.0",
      "model_name": "LayoutModel",
      "state": {}
     },
     "2d404150e7e544bbbfa14ac607bfa2f3": {
      "model_module": "@jupyter-widgets/controls",
      "model_module_version": "1.5.0",
      "model_name": "LinkModel",
      "state": {
       "source": [
        "IPY_MODEL_6fe61f7d45cf4efdb9109f426d12a505",
        "value"
       ],
       "target": [
        "IPY_MODEL_2efd9dfb7ed74bbc8121c6d56a5e638f",
        "value"
       ]
      }
     },
     "2d46de6a241d4e69981f1f4ff9db560f": {
      "model_module": "@jupyter-widgets/controls",
      "model_module_version": "1.5.0",
      "model_name": "LabelModel",
      "state": {
       "layout": "IPY_MODEL_c3599ec7b3dc46b4812858ca509ccabf",
       "style": "IPY_MODEL_69e2a02fcd6e445e9eddea4cd0065057",
       "value": "3"
      }
     },
     "2d95f83f083e4a9baad255e79baf77d4": {
      "model_module": "@jupyter-widgets/base",
      "model_module_version": "1.2.0",
      "model_name": "LayoutModel",
      "state": {}
     },
     "2ddbdb55b7124804a9b325a76b9d8f3a": {
      "model_module": "@jupyter-widgets/controls",
      "model_module_version": "1.5.0",
      "model_name": "DescriptionStyleModel",
      "state": {
       "description_width": ""
      }
     },
     "2e0541f3a84e48998d3a3ab55134d136": {
      "model_module": "@jupyter-widgets/controls",
      "model_module_version": "1.5.0",
      "model_name": "DropdownModel",
      "state": {
       "_options_labels": [
        "1",
        "2",
        "3"
       ],
       "description": "Number:",
       "index": 1,
       "layout": "IPY_MODEL_ab2dd4827bcd421f8e427344b3b68c7b",
       "style": "IPY_MODEL_e917f86c1d754176bc1a9b110d288e36"
      }
     },
     "2e09b03ab4354939844e703f8e64dc48": {
      "model_module": "@jupyter-widgets/controls",
      "model_module_version": "1.5.0",
      "model_name": "DescriptionStyleModel",
      "state": {
       "description_width": ""
      }
     },
     "2e31ca188cc4429da85cdb9d87f0a3aa": {
      "model_module": "@jupyter-widgets/controls",
      "model_module_version": "1.5.0",
      "model_name": "DescriptionStyleModel",
      "state": {
       "description_width": ""
      }
     },
     "2e9f0c5fe33346a0b58771ea900fff5d": {
      "model_module": "@jupyter-widgets/controls",
      "model_module_version": "1.5.0",
      "model_name": "SliderStyleModel",
      "state": {
       "description_width": ""
      }
     },
     "2eb65c5469554cd59ead6cb1454d8762": {
      "model_module": "@jupyter-widgets/output",
      "model_module_version": "1.0.0",
      "model_name": "OutputModel",
      "state": {
       "layout": "IPY_MODEL_3e5be519011f46afa149ecd7647fe289",
       "outputs": [
        {
         "name": "stdout",
         "output_type": "stream",
         "text": "Output appended with append_stdout"
        },
        {
         "data": {
          "text/html": "\n        <iframe\n            width=\"400\"\n            height=\"300\"\n            src=\"https://www.youtube.com/embed/eWzY2nGfkXk\"\n            frameborder=\"0\"\n            allowfullscreen\n        ></iframe>\n        ",
          "text/plain": "<IPython.lib.display.YouTubeVideo at 0x7fb4f420e358>"
         },
         "metadata": {},
         "output_type": "display_data"
        }
       ]
      }
     },
     "2eeedeffa80a41109023176b86a32b3f": {
      "model_module": "@jupyter-widgets/base",
      "model_module_version": "1.2.0",
      "model_name": "LayoutModel",
      "state": {}
     },
     "2efd9dfb7ed74bbc8121c6d56a5e638f": {
      "model_module": "@jupyter-widgets/controls",
      "model_module_version": "1.5.0",
      "model_name": "IntSliderModel",
      "state": {
       "layout": "IPY_MODEL_3fde4d52f18442a7b58b71401faf2563",
       "style": "IPY_MODEL_2e9f0c5fe33346a0b58771ea900fff5d",
       "value": 50
      }
     },
     "2f04f625aa0c4830ae8a5b88decc57b6": {
      "model_module": "@jupyter-widgets/base",
      "model_module_version": "1.2.0",
      "model_name": "LayoutModel",
      "state": {}
     },
     "2f059bd7b3a44edc98073f5f8b275ca1": {
      "model_module": "@jupyter-widgets/controls",
      "model_module_version": "1.5.0",
      "model_name": "DescriptionStyleModel",
      "state": {
       "description_width": ""
      }
     },
     "2f60677e8bc748598feca1027aebc0a5": {
      "model_module": "@jupyter-widgets/controls",
      "model_module_version": "1.5.0",
      "model_name": "SliderStyleModel",
      "state": {
       "description_width": ""
      }
     },
     "2fa1aba851f7404681c1c7de7892cab0": {
      "model_module": "@jupyter-widgets/base",
      "model_module_version": "1.2.0",
      "model_name": "LayoutModel",
      "state": {}
     },
     "2fa5e6412bc4448bb96f8400c21374d0": {
      "model_module": "@jupyter-widgets/controls",
      "model_module_version": "1.5.0",
      "model_name": "IntSliderModel",
      "state": {
       "continuous_update": false,
       "description": "Test:",
       "layout": "IPY_MODEL_2280ce8624c943a6b46c283f6f3e54c3",
       "max": 10,
       "style": "IPY_MODEL_21619a62deb345ce8bb2594a81e217ca",
       "value": 7
      }
     },
     "305cb2ce748b41faa4e0add56f37a0de": {
      "model_module": "@jupyter-widgets/controls",
      "model_module_version": "1.5.0",
      "model_name": "ValidModel",
      "state": {
       "description": "Valid!",
       "layout": "IPY_MODEL_acbb6dcf335541b5a815206864a042d2",
       "style": "IPY_MODEL_553041441c4c4db98ed25c9253a9c03a"
      }
     },
     "30923b99d3dd4b8a88a56fb7f1df16bd": {
      "model_module": "@jupyter-widgets/controls",
      "model_module_version": "1.5.0",
      "model_name": "DescriptionStyleModel",
      "state": {
       "description_width": ""
      }
     },
     "30f12c4f694f47f0ae19cb0c2836fc2f": {
      "model_module": "@jupyter-widgets/controls",
      "model_module_version": "1.5.0",
      "model_name": "DescriptionStyleModel",
      "state": {
       "description_width": ""
      }
     },
     "30f8eeeade4e465f9490c700ab982c4b": {
      "model_module": "@jupyter-widgets/base",
      "model_module_version": "1.2.0",
      "model_name": "LayoutModel",
      "state": {}
     },
     "31120563871f402f997710da2729a0db": {
      "model_module": "@jupyter-widgets/controls",
      "model_module_version": "1.5.0",
      "model_name": "DatePickerModel",
      "state": {
       "description": "Pick a Date",
       "disabled": false,
       "layout": "IPY_MODEL_81273e9a4e4741a3a4418ff95b68de5f",
       "style": "IPY_MODEL_31be749dcf1f4addbfb38f9e1f0706f6"
      }
     },
     "31401435427b460c93e9aee953568f40": {
      "model_module": "@jupyter-widgets/controls",
      "model_module_version": "1.5.0",
      "model_name": "SliderStyleModel",
      "state": {
       "description_width": ""
      }
     },
     "3157ece976a647d3aa9f8d4cd8fde6bc": {
      "model_module": "@jupyter-widgets/controls",
      "model_module_version": "1.5.0",
      "model_name": "DescriptionStyleModel",
      "state": {
       "description_width": ""
      }
     },
     "318023cc3ace4b65b7895fc2cd1a4e66": {
      "model_module": "@jupyter-widgets/controls",
      "model_module_version": "1.5.0",
      "model_name": "ToggleButtonsModel",
      "state": {
       "_options_labels": [
        "Slow",
        "Regular",
        "Fast"
       ],
       "button_style": "",
       "description": "Speed:",
       "icons": [],
       "index": 0,
       "layout": "IPY_MODEL_2840399b188c4acaa04066b3e97d571a",
       "style": "IPY_MODEL_e96bc0bee4274dfe8dd57907c56d94b4",
       "tooltips": [
        "Description of slow",
        "Description of regular",
        "Description of fast"
       ]
      }
     },
     "318811d1979945dba762a8c2e2e01829": {
      "model_module": "@jupyter-widgets/base",
      "model_module_version": "1.2.0",
      "model_name": "LayoutModel",
      "state": {}
     },
     "3195378565da4c5d8ded642c48949504": {
      "model_module": "@jupyter-widgets/controls",
      "model_module_version": "1.5.0",
      "model_name": "IntTextModel",
      "state": {
       "description": "Any:",
       "layout": "IPY_MODEL_eeabb760fe544a5dad333559df21df0c",
       "step": 1,
       "style": "IPY_MODEL_e8684e3b852a4163a34b6514c7d83fce",
       "value": 7
      }
     },
     "31be749dcf1f4addbfb38f9e1f0706f6": {
      "model_module": "@jupyter-widgets/controls",
      "model_module_version": "1.5.0",
      "model_name": "DescriptionStyleModel",
      "state": {
       "description_width": ""
      }
     },
     "3238b200bd6c4d9ebffbb51ee794b972": {
      "model_module": "@jupyter-widgets/base",
      "model_module_version": "1.2.0",
      "model_name": "LayoutModel",
      "state": {
       "border": "1px solid black"
      }
     },
     "32c4b9eda2dd4bf0b25641ed7c4654ba": {
      "model_module": "@jupyter-widgets/controls",
      "model_module_version": "1.5.0",
      "model_name": "DescriptionStyleModel",
      "state": {
       "description_width": ""
      }
     },
     "3389e73002e440b9a98eebeda4cbf5d3": {
      "model_module": "@jupyter-widgets/controls",
      "model_module_version": "1.5.0",
      "model_name": "HBoxModel",
      "state": {
       "children": [
        "IPY_MODEL_4523bc6cd2d34333bf7eaf2ce04b3e1b",
        "IPY_MODEL_a8616e2bf9684ebd8a5e4acd577cf221"
       ],
       "layout": "IPY_MODEL_fa46721cb5d241a3ad31ac9e077edfca"
      }
     },
     "34393fdb7a3f4058a95b224dcec520ec": {
      "model_module": "@jupyter-widgets/controls",
      "model_module_version": "1.5.0",
      "model_name": "TextareaModel",
      "state": {
       "description": "String:",
       "layout": "IPY_MODEL_1a72671889d348fd82faf9de3cce0f06",
       "placeholder": "Type something",
       "style": "IPY_MODEL_a0f45e0278b849b68b221292cafe6496",
       "value": "Hello World"
      }
     },
     "3539cfb7042f48509841d15e1c30fefd": {
      "model_module": "@jupyter-widgets/controls",
      "model_module_version": "1.5.0",
      "model_name": "LabelModel",
      "state": {
       "layout": "IPY_MODEL_0164c1db3bc14e14a831fb5fa33502d4",
       "style": "IPY_MODEL_0180b717e38d4040aa7955e37d29c252",
       "value": "3"
      }
     },
     "361cfeee53df44e192d6f75e8b0d3b57": {
      "model_module": "@jupyter-widgets/base",
      "model_module_version": "1.2.0",
      "model_name": "LayoutModel",
      "state": {}
     },
     "3650ece58c5f47b4bd91957b179dc308": {
      "model_module": "@jupyter-widgets/controls",
      "model_module_version": "1.5.0",
      "model_name": "ButtonModel",
      "state": {
       "description": "Click me",
       "icon": "check",
       "layout": "IPY_MODEL_23fb085a3c2b4dfe9dcb1fd2ab53ca0d",
       "style": "IPY_MODEL_3ca7dc64bb3f4d71bda9ea1409071184",
       "tooltip": "Click me"
      }
     },
     "366aca2b1dd24b969735cca497bf8159": {
      "model_module": "@jupyter-widgets/controls",
      "model_module_version": "1.5.0",
      "model_name": "SelectionSliderModel",
      "state": {
       "_options_labels": [
        "scrambled",
        "sunny side up",
        "poached",
        "over easy"
       ],
       "continuous_update": false,
       "description": "I like my eggs …",
       "index": 1,
       "layout": "IPY_MODEL_1d691181540a4aca85af06171ea4543d",
       "style": "IPY_MODEL_6dda3ea9f27f4a718ab9b69309f11efb"
      }
     },
     "36b7439263aa41d685952e136c482488": {
      "model_module": "@jupyter-widgets/base",
      "model_module_version": "1.2.0",
      "model_name": "LayoutModel",
      "state": {}
     },
     "3725e7de26e54fa0b21e9f6fd4b7db18": {
      "model_module": "@jupyter-widgets/controls",
      "model_module_version": "1.5.0",
      "model_name": "DescriptionStyleModel",
      "state": {
       "description_width": ""
      }
     },
     "3773c03f81904ab58e16a78f7b383cf9": {
      "model_module": "@jupyter-widgets/controls",
      "model_module_version": "1.5.0",
      "model_name": "DescriptionStyleModel",
      "state": {
       "description_width": ""
      }
     },
     "37eca88ae3904116a3b66ee08f0bd19b": {
      "model_module": "@jupyter-widgets/controls",
      "model_module_version": "1.5.0",
      "model_name": "LabelModel",
      "state": {
       "layout": "IPY_MODEL_8f018ae70514455b989e30e9c492fdb3",
       "style": "IPY_MODEL_2e09b03ab4354939844e703f8e64dc48",
       "value": "1"
      }
     },
     "37f06d7a45d54eaaa2dafbe75ab06ce3": {
      "model_module": "@jupyter-widgets/base",
      "model_module_version": "1.2.0",
      "model_name": "LayoutModel",
      "state": {}
     },
     "3804f92b7c8d4d7fada8c927b5607886": {
      "model_module": "@jupyter-widgets/controls",
      "model_module_version": "1.5.0",
      "model_name": "HBoxModel",
      "state": {
       "children": [
        "IPY_MODEL_64b5d6645dc64fb98fab2544754f30d7",
        "IPY_MODEL_e60e2182494a4a0585897e96de0c2bb6"
       ],
       "layout": "IPY_MODEL_a944b6ec88b64ff2b6f5c4197c9ae47b"
      }
     },
     "3868629228d64a9b8ce673d8973a3183": {
      "model_module": "@jupyter-widgets/base",
      "model_module_version": "1.2.0",
      "model_name": "LayoutModel",
      "state": {}
     },
     "388f29f55ed94020a407d72f6ace0302": {
      "model_module": "@jupyter-widgets/controls",
      "model_module_version": "1.5.0",
      "model_name": "FloatLogSliderModel",
      "state": {
       "description": "Log Slider",
       "layout": "IPY_MODEL_67b28a62f2624dcf8bf514d8a318415e",
       "max": 10,
       "min": -10,
       "step": 0.2,
       "style": "IPY_MODEL_469a8ccd0ae74a66b44853814f509e23",
       "value": 10
      }
     },
     "38dd7cd6572746428e807093e27de25b": {
      "model_module": "@jupyter-widgets/base",
      "model_module_version": "1.2.0",
      "model_name": "LayoutModel",
      "state": {}
     },
     "38f6c8e891bc455eb419e6293c0c3dab": {
      "model_module": "@jupyter-widgets/base",
      "model_module_version": "1.2.0",
      "model_name": "LayoutModel",
      "state": {}
     },
     "3915eef972ee46eaad657931fe35fea9": {
      "model_module": "@jupyter-widgets/controls",
      "model_module_version": "1.5.0",
      "model_name": "SliderStyleModel",
      "state": {
       "description_width": ""
      }
     },
     "39192f09d6d04593b84feed2f78a63b2": {
      "model_module": "@jupyter-widgets/base",
      "model_module_version": "1.2.0",
      "model_name": "LayoutModel",
      "state": {}
     },
     "394e16978a0b4bf3b17ac90375b0c2e6": {
      "model_module": "@jupyter-widgets/controls",
      "model_module_version": "1.5.0",
      "model_name": "LabelModel",
      "state": {
       "layout": "IPY_MODEL_47c20c0a3143416c966971080f30b04d",
       "style": "IPY_MODEL_558fd37faa22431880508c0b8e7f338e",
       "value": "2"
      }
     },
     "397746b8d2a94795a45ccbb814929192": {
      "model_module": "@jupyter-widgets/controls",
      "model_module_version": "1.5.0",
      "model_name": "DescriptionStyleModel",
      "state": {
       "description_width": ""
      }
     },
     "39f0d72b30904635aa346c328bd904d3": {
      "model_module": "@jupyter-widgets/controls",
      "model_module_version": "1.5.0",
      "model_name": "IntTextModel",
      "state": {
       "description": "Any:",
       "layout": "IPY_MODEL_1d786bad5fb34aa28eebe4d9fe53a2ad",
       "step": 1,
       "style": "IPY_MODEL_0a5dbbb85abe43d6930acd67fc83aa4a",
       "value": 7
      }
     },
     "3a1f0ab958ec49dab3c154fbc845edc5": {
      "model_module": "@jupyter-widgets/base",
      "model_module_version": "1.2.0",
      "model_name": "LayoutModel",
      "state": {}
     },
     "3a3bcd168db14a33ba421e00dc83d60a": {
      "model_module": "@jupyter-widgets/controls",
      "model_module_version": "1.5.0",
      "model_name": "DescriptionStyleModel",
      "state": {
       "description_width": ""
      }
     },
     "3a89e4476979473bba9ca9768645e97a": {
      "model_module": "@jupyter-widgets/controls",
      "model_module_version": "1.5.0",
      "model_name": "DescriptionStyleModel",
      "state": {
       "description_width": ""
      }
     },
     "3a8da7b4c5c348e58d3a0e345cc17378": {
      "model_module": "@jupyter-widgets/controls",
      "model_module_version": "1.5.0",
      "model_name": "LabelModel",
      "state": {
       "layout": "IPY_MODEL_bcfec95ac428429baf7a7067e3a83309",
       "style": "IPY_MODEL_1038dbd219c44abea949d36471172c00",
       "value": "2"
      }
     },
     "3aa214d5f5ac462c9b2a3ce8809c1a2f": {
      "model_module": "@jupyter-widgets/base",
      "model_module_version": "1.2.0",
      "model_name": "LayoutModel",
      "state": {
       "border": "1px solid black"
      }
     },
     "3afb2cf9b18244ad8782044697ba9617": {
      "model_module": "@jupyter-widgets/controls",
      "model_module_version": "1.5.0",
      "model_name": "DescriptionStyleModel",
      "state": {
       "description_width": ""
      }
     },
     "3b498e735d1b49b2b48ddaed3d143f88": {
      "model_module": "@jupyter-widgets/base",
      "model_module_version": "1.2.0",
      "model_name": "LayoutModel",
      "state": {}
     },
     "3b667b3babd341d48806f235af06e8b2": {
      "model_module": "@jupyter-widgets/controls",
      "model_module_version": "1.5.0",
      "model_name": "DescriptionStyleModel",
      "state": {
       "description_width": ""
      }
     },
     "3b83d9b1c6bc4d49a69bb9ce0d0c29ff": {
      "model_module": "@jupyter-widgets/controls",
      "model_module_version": "1.5.0",
      "model_name": "DropdownModel",
      "state": {
       "_options_labels": [
        "1",
        "2",
        "3"
       ],
       "description": "Number:",
       "index": 1,
       "layout": "IPY_MODEL_9dd61a4469ff49f69c8cd6cc9c7e7a90",
       "style": "IPY_MODEL_cea2f01371f84d4e9e7262b9cb56a46f"
      }
     },
     "3b9df787f69e474392de7fbfe7c8510f": {
      "model_module": "@jupyter-widgets/base",
      "model_module_version": "1.2.0",
      "model_name": "LayoutModel",
      "state": {
       "border": "1px solid black"
      }
     },
     "3bca907962d24b92a3a403c462f6daa0": {
      "model_module": "@jupyter-widgets/controls",
      "model_module_version": "1.5.0",
      "model_name": "DescriptionStyleModel",
      "state": {
       "description_width": ""
      }
     },
     "3c30d5828cca41569ec3c867dc88febf": {
      "model_module": "@jupyter-widgets/base",
      "model_module_version": "1.2.0",
      "model_name": "LayoutModel",
      "state": {}
     },
     "3c49cf37c91540c2ba1296264a305e85": {
      "model_module": "@jupyter-widgets/base",
      "model_module_version": "1.2.0",
      "model_name": "LayoutModel",
      "state": {}
     },
     "3ca7dc64bb3f4d71bda9ea1409071184": {
      "model_module": "@jupyter-widgets/controls",
      "model_module_version": "1.5.0",
      "model_name": "ButtonStyleModel",
      "state": {}
     },
     "3d4e688b2fc4447888317d5bdf4e95ac": {
      "model_module": "@jupyter-widgets/controls",
      "model_module_version": "1.5.0",
      "model_name": "IntTextModel",
      "state": {
       "description": "Any:",
       "layout": "IPY_MODEL_c98f17542f2042ab81e8d30b623075df",
       "step": 1,
       "style": "IPY_MODEL_d78cf4c0791146ca85800e413d232a9b",
       "value": 7
      }
     },
     "3d79340690d5462e85a7eca9278b7e49": {
      "model_module": "@jupyter-widgets/controls",
      "model_module_version": "1.5.0",
      "model_name": "ToggleButtonsStyleModel",
      "state": {
       "button_width": "",
       "description_width": ""
      }
     },
     "3d94fefd856b4696a6979de6b6449c60": {
      "model_module": "@jupyter-widgets/base",
      "model_module_version": "1.2.0",
      "model_name": "LayoutModel",
      "state": {}
     },
     "3db12febc66a4613ba5737d3a83429ae": {
      "model_module": "@jupyter-widgets/controls",
      "model_module_version": "1.5.0",
      "model_name": "DescriptionStyleModel",
      "state": {
       "description_width": ""
      }
     },
     "3dcb35c0745c499ab764ad6c083f9c2e": {
      "model_module": "@jupyter-widgets/controls",
      "model_module_version": "1.5.0",
      "model_name": "DescriptionStyleModel",
      "state": {
       "description_width": ""
      }
     },
     "3de1c975afb641299a61b93acdbbbdae": {
      "model_module": "@jupyter-widgets/controls",
      "model_module_version": "1.5.0",
      "model_name": "IntSliderModel",
      "state": {
       "layout": "IPY_MODEL_44c40fe3c007419ebe9f88ef3564ac98",
       "style": "IPY_MODEL_ba5d17daf25c428d94eba102c27a87e8",
       "value": 50
      }
     },
     "3e02c02a731740ca9cd97d17f551559c": {
      "model_module": "@jupyter-widgets/controls",
      "model_module_version": "1.5.0",
      "model_name": "FloatRangeSliderModel",
      "state": {
       "_model_name": "FloatRangeSliderModel",
       "_view_name": "FloatRangeSliderView",
       "continuous_update": false,
       "description": "Test:",
       "layout": "IPY_MODEL_887bad15d94c43c4a2d52d8fb31cb57d",
       "max": 10,
       "readout_format": ".1f",
       "step": 0.1,
       "style": "IPY_MODEL_31401435427b460c93e9aee953568f40",
       "value": [
        5,
        7.5
       ]
      }
     },
     "3e2ec765a471481cb5e3ec0ed92cd8ba": {
      "model_module": "@jupyter-widgets/base",
      "model_module_version": "1.2.0",
      "model_name": "LayoutModel",
      "state": {}
     },
     "3e303554386d41cc909efbee90baab62": {
      "model_module": "@jupyter-widgets/base",
      "model_module_version": "1.2.0",
      "model_name": "LayoutModel",
      "state": {}
     },
     "3e37ad3d948049eea7540f523184d561": {
      "model_module": "@jupyter-widgets/controls",
      "model_module_version": "1.5.0",
      "model_name": "SliderStyleModel",
      "state": {
       "description_width": ""
      }
     },
     "3e5be519011f46afa149ecd7647fe289": {
      "model_module": "@jupyter-widgets/base",
      "model_module_version": "1.2.0",
      "model_name": "LayoutModel",
      "state": {
       "border": "1px solid black"
      }
     },
     "3e62dce09f33480e85fb2b419ba96d05": {
      "model_module": "@jupyter-widgets/controls",
      "model_module_version": "1.5.0",
      "model_name": "LabelModel",
      "state": {
       "layout": "IPY_MODEL_130da478927d4c96a3016a034ead1859",
       "style": "IPY_MODEL_e69ca916bfeb426bb451476ad8906bb1",
       "value": "The $m$ in $E=mc^2$:"
      }
     },
     "3e73c8068eeb4ab2b4142748807cc819": {
      "model_module": "@jupyter-widgets/base",
      "model_module_version": "1.2.0",
      "model_name": "LayoutModel",
      "state": {}
     },
     "3ef2d150ab06457b9dade2f9254e2f0b": {
      "model_module": "@jupyter-widgets/controls",
      "model_module_version": "1.5.0",
      "model_name": "DescriptionStyleModel",
      "state": {
       "description_width": ""
      }
     },
     "3f1792e0781640bbbdac2ad5c2bf9d39": {
      "model_module": "@jupyter-widgets/base",
      "model_module_version": "1.2.0",
      "model_name": "LayoutModel",
      "state": {}
     },
     "3f3a8c7241c443a39e5a9010ed5e46f4": {
      "model_module": "@jupyter-widgets/base",
      "model_module_version": "1.2.0",
      "model_name": "LayoutModel",
      "state": {}
     },
     "3f4dedde7fce4d9baa4e817fb31c0210": {
      "model_module": "@jupyter-widgets/base",
      "model_module_version": "1.2.0",
      "model_name": "LayoutModel",
      "state": {}
     },
     "3f8f0672490349fb898abddf94248dd9": {
      "model_module": "@jupyter-widgets/controls",
      "model_module_version": "1.5.0",
      "model_name": "VBoxModel",
      "state": {
       "children": [
        "IPY_MODEL_fa1653c8d0e3455ba60d0b0a63ac0ed6",
        "IPY_MODEL_e4c43820de1049b3b14d2388b4ddf50c"
       ],
       "layout": "IPY_MODEL_e40ee223c9624f7194c8ed06b0a8a7a2"
      }
     },
     "3f9763da72264681a3aafa91df219b5e": {
      "model_module": "@jupyter-widgets/controls",
      "model_module_version": "1.5.0",
      "model_name": "ToggleButtonsStyleModel",
      "state": {
       "button_width": "",
       "description_width": ""
      }
     },
     "3fde4d52f18442a7b58b71401faf2563": {
      "model_module": "@jupyter-widgets/base",
      "model_module_version": "1.2.0",
      "model_name": "LayoutModel",
      "state": {}
     },
     "3ff0b7eda1bb490485d20f758791fe75": {
      "model_module": "@jupyter-widgets/base",
      "model_module_version": "1.2.0",
      "model_name": "LayoutModel",
      "state": {}
     },
     "40008b376c1a43f6ab53ddec4dfb6adb": {
      "model_module": "@jupyter-widgets/controls",
      "model_module_version": "1.5.0",
      "model_name": "DropdownModel",
      "state": {
       "_options_labels": [
        "1",
        "2",
        "3"
       ],
       "description": "Number:",
       "index": 1,
       "layout": "IPY_MODEL_83833b1c51674e7583eb527d529c35ac",
       "style": "IPY_MODEL_f61c2151a573457a8875eb65ec693c98"
      }
     },
     "404f486c8e91413bb35916a04436a521": {
      "model_module": "@jupyter-widgets/base",
      "model_module_version": "1.2.0",
      "model_name": "LayoutModel",
      "state": {}
     },
     "4086f9cabac34bbd9dcdf28b4bc51e3e": {
      "model_module": "@jupyter-widgets/base",
      "model_module_version": "1.2.0",
      "model_name": "LayoutModel",
      "state": {}
     },
     "40b07dacced9435194f93824361fffd8": {
      "model_module": "@jupyter-widgets/base",
      "model_module_version": "1.2.0",
      "model_name": "LayoutModel",
      "state": {}
     },
     "4138175617dc47998794581973568f9a": {
      "model_module": "@jupyter-widgets/base",
      "model_module_version": "1.2.0",
      "model_name": "LayoutModel",
      "state": {}
     },
     "4165859363674916b20b144a71aedd17": {
      "model_module": "@jupyter-widgets/base",
      "model_module_version": "1.2.0",
      "model_name": "LayoutModel",
      "state": {}
     },
     "417712aca65a4fc190753c8d61abeae7": {
      "model_module": "@jupyter-widgets/controls",
      "model_module_version": "1.5.0",
      "model_name": "DescriptionStyleModel",
      "state": {
       "description_width": ""
      }
     },
     "417e295fa01c4df8a283c032fd366450": {
      "model_module": "@jupyter-widgets/controls",
      "model_module_version": "1.5.0",
      "model_name": "TabModel",
      "state": {
       "_titles": {
        "0": "0",
        "1": "1",
        "2": "2",
        "3": "3",
        "4": "4"
       },
       "children": [
        "IPY_MODEL_85fd413afc1a4425bf66bafe2ca12180",
        "IPY_MODEL_959c3ce64b5345a8a38963852960d4af",
        "IPY_MODEL_b886c4ace38749b3b56f939e94c4cd17",
        "IPY_MODEL_6ab85e6a363547b796c20c54edaedded",
        "IPY_MODEL_069a4b41b99c4a98a7f6eac3c8c2b656"
       ],
       "layout": "IPY_MODEL_94f605c3bdcb438d87339506c6d57e62",
       "selected_index": 3
      }
     },
     "4180c0c930b745b1a6d2c5bc5c2d92f2": {
      "model_module": "@jupyter-widgets/controls",
      "model_module_version": "1.5.0",
      "model_name": "LabelModel",
      "state": {
       "layout": "IPY_MODEL_9bd05f26d90d4984bbc09c74a99c2496",
       "style": "IPY_MODEL_9a2ddcabb2d2413680c9ceed2a7f7f68",
       "value": "2"
      }
     },
     "41832c0639ae424e85347b240a5a218c": {
      "model_module": "@jupyter-widgets/controls",
      "model_module_version": "1.5.0",
      "model_name": "SliderStyleModel",
      "state": {
       "description_width": ""
      }
     },
     "41a8e32edbfe4dce8f7857ae9934446c": {
      "model_module": "@jupyter-widgets/base",
      "model_module_version": "1.2.0",
      "model_name": "LayoutModel",
      "state": {}
     },
     "41b669c85a2f4ab3bdfb21335771eec0": {
      "model_module": "@jupyter-widgets/controls",
      "model_module_version": "1.5.0",
      "model_name": "DescriptionStyleModel",
      "state": {
       "description_width": ""
      }
     },
     "41fb3a24fdf7445d8782bde8660daceb": {
      "model_module": "@jupyter-widgets/controls",
      "model_module_version": "1.5.0",
      "model_name": "FloatLogSliderModel",
      "state": {
       "description": "Log Slider",
       "layout": "IPY_MODEL_9dd98d1d21bf4a38b8e727335d0e28ea",
       "max": 10,
       "min": -10,
       "step": 0.2,
       "style": "IPY_MODEL_513aab6f129f46cba7c5659a23094021",
       "value": 10
      }
     },
     "421c9a2d5a244ebdbb8b3b2df01030ed": {
      "model_module": "@jupyter-widgets/controls",
      "model_module_version": "1.5.0",
      "model_name": "RadioButtonsModel",
      "state": {
       "_options_labels": [
        "pepperoni",
        "pineapple",
        "anchovies"
       ],
       "description": "Pizza topping:",
       "index": 0,
       "layout": "IPY_MODEL_d2a3bcee611445c395d5c17aceec501e",
       "style": "IPY_MODEL_3157ece976a647d3aa9f8d4cd8fde6bc"
      }
     },
     "4271e62e45774dccaf81756c20c034d2": {
      "model_module": "@jupyter-widgets/base",
      "model_module_version": "1.2.0",
      "model_name": "LayoutModel",
      "state": {}
     },
     "42f766ecfedf4faf9a44f1d2511e67ce": {
      "model_module": "@jupyter-widgets/controls",
      "model_module_version": "1.5.0",
      "model_name": "LabelModel",
      "state": {
       "layout": "IPY_MODEL_e1e6ff4bc3e54b009d1e3813ab889a4b",
       "style": "IPY_MODEL_b263fe75436442318dfd7a1ea9a53f49",
       "value": "1"
      }
     },
     "432321b942234f04898bf89c04cd5fcf": {
      "model_module": "@jupyter-widgets/controls",
      "model_module_version": "1.5.0",
      "model_name": "DescriptionStyleModel",
      "state": {
       "description_width": ""
      }
     },
     "4359836e31b94b7cb920ddb637a7e3e1": {
      "model_module": "@jupyter-widgets/controls",
      "model_module_version": "1.5.0",
      "model_name": "DescriptionStyleModel",
      "state": {
       "description_width": ""
      }
     },
     "436dabf2255a46e3866ebe36a1ebaf33": {
      "model_module": "@jupyter-widgets/base",
      "model_module_version": "1.2.0",
      "model_name": "LayoutModel",
      "state": {}
     },
     "43712cf975fd4d969e1625add2f1324f": {
      "model_module": "@jupyter-widgets/controls",
      "model_module_version": "1.5.0",
      "model_name": "HTMLModel",
      "state": {
       "description": "Some HTML",
       "layout": "IPY_MODEL_9e452e41b5e848faa88fab93726a37b0",
       "placeholder": "Some HTML",
       "style": "IPY_MODEL_506040b0cb3b4366b49145634a8cc6fe",
       "value": "Hello <b>World</b>"
      }
     },
     "446947b7c801417ea4f7c082a6d7db3b": {
      "model_module": "@jupyter-widgets/controls",
      "model_module_version": "1.5.0",
      "model_name": "IntTextModel",
      "state": {
       "description": "Any:",
       "layout": "IPY_MODEL_f03228ab3720419c90b56fc66834f050",
       "step": 1,
       "style": "IPY_MODEL_fcdf49d5b8d64fdba262ff9fdde500aa",
       "value": 7
      }
     },
     "447182ac2d4042a999c9adc5f643efc2": {
      "model_module": "@jupyter-widgets/base",
      "model_module_version": "1.2.0",
      "model_name": "LayoutModel",
      "state": {}
     },
     "44a6721e9bc0496cbac08602f48d1829": {
      "model_module": "@jupyter-widgets/controls",
      "model_module_version": "1.5.0",
      "model_name": "DescriptionStyleModel",
      "state": {
       "description_width": ""
      }
     },
     "44b603d2ed2e476fa36e20edb650334f": {
      "model_module": "@jupyter-widgets/controls",
      "model_module_version": "1.5.0",
      "model_name": "ColorPickerModel",
      "state": {
       "description": "Pick a color",
       "disabled": false,
       "layout": "IPY_MODEL_f9df0150e2364c7da5bd1daf6a0a2fa9",
       "style": "IPY_MODEL_09419070fa9d47bdbc1c4bb14f8b7f62",
       "value": "blue"
      }
     },
     "44c40fe3c007419ebe9f88ef3564ac98": {
      "model_module": "@jupyter-widgets/base",
      "model_module_version": "1.2.0",
      "model_name": "LayoutModel",
      "state": {}
     },
     "4523bc6cd2d34333bf7eaf2ce04b3e1b": {
      "model_module": "@jupyter-widgets/controls",
      "model_module_version": "1.5.0",
      "model_name": "LabelModel",
      "state": {
       "layout": "IPY_MODEL_bd6dbc31c6854470ad1e3e105fceb1a5",
       "style": "IPY_MODEL_8ffb21ee4f41497e8886763c91833062",
       "value": "The $m$ in $E=mc^2$:"
      }
     },
     "454f6576db7e4242a05ad04a878915c0": {
      "model_module": "@jupyter-widgets/controls",
      "model_module_version": "1.5.0",
      "model_name": "DescriptionStyleModel",
      "state": {
       "description_width": ""
      }
     },
     "45701ed9308a41b189f87093a0b9e7b8": {
      "model_module": "@jupyter-widgets/controls",
      "model_module_version": "1.5.0",
      "model_name": "SelectMultipleModel",
      "state": {
       "_options_labels": [
        "Apples",
        "Oranges",
        "Pears"
       ],
       "description": "Fruits",
       "index": [
        1
       ],
       "layout": "IPY_MODEL_470ca03d936b474db3bc25fc7815d690",
       "rows": 5,
       "style": "IPY_MODEL_b8c663cebb5c4d2ea3405b15587846f9"
      }
     },
     "459245a7b8df4e70bc4e7734461a814b": {
      "model_module": "@jupyter-widgets/controls",
      "model_module_version": "1.5.0",
      "model_name": "FloatTextModel",
      "state": {
       "description": "Any:",
       "layout": "IPY_MODEL_c30d7450f23e42c1b637ed5c3e75289b",
       "step": null,
       "style": "IPY_MODEL_027244668ae646199daa9f6fad6a034f",
       "value": 7.5
      }
     },
     "45d0e0187d2644ab9abb903441b20294": {
      "model_module": "@jupyter-widgets/controls",
      "model_module_version": "1.5.0",
      "model_name": "SliderStyleModel",
      "state": {
       "description_width": ""
      }
     },
     "45ffdc2725de4c5d9d38295d20faf0e1": {
      "model_module": "@jupyter-widgets/controls",
      "model_module_version": "1.5.0",
      "model_name": "SelectionRangeSliderModel",
      "state": {
       "_model_name": "SelectionRangeSliderModel",
       "_options_labels": [
        "Jan",
        "Feb",
        "Mar",
        "Apr",
        "May",
        "Jun",
        "Jul",
        "Aug",
        "Sep",
        "Oct",
        "Nov",
        "Dec"
       ],
       "_view_name": "SelectionRangeSliderView",
       "description": "Months (2015)",
       "index": [
        0,
        11
       ],
       "layout": "IPY_MODEL_e302ca159dc54b90931cc2d1866f8eeb",
       "style": "IPY_MODEL_d9731d16a84d47db916b416228d0de39"
      }
     },
     "462b8bbda80243e4b95f748bcea14845": {
      "model_module": "@jupyter-widgets/base",
      "model_module_version": "1.2.0",
      "model_name": "LayoutModel",
      "state": {}
     },
     "469a8ccd0ae74a66b44853814f509e23": {
      "model_module": "@jupyter-widgets/controls",
      "model_module_version": "1.5.0",
      "model_name": "SliderStyleModel",
      "state": {
       "description_width": ""
      }
     },
     "46d9729f80a549489134f828307ad1c5": {
      "model_module": "@jupyter-widgets/controls",
      "model_module_version": "1.5.0",
      "model_name": "DescriptionStyleModel",
      "state": {
       "description_width": ""
      }
     },
     "470ca03d936b474db3bc25fc7815d690": {
      "model_module": "@jupyter-widgets/base",
      "model_module_version": "1.2.0",
      "model_name": "LayoutModel",
      "state": {}
     },
     "477387759902465cad7b6fcc8a1f781e": {
      "model_module": "@jupyter-widgets/controls",
      "model_module_version": "1.5.0",
      "model_name": "LabelModel",
      "state": {
       "layout": "IPY_MODEL_5d481286097b4ab08dfa4a1b081e59fe",
       "style": "IPY_MODEL_6d39d6bccf4643e18a2f029b89b01ac0",
       "value": "The $m$ in $E=mc^2$:"
      }
     },
     "47c20c0a3143416c966971080f30b04d": {
      "model_module": "@jupyter-widgets/base",
      "model_module_version": "1.2.0",
      "model_name": "LayoutModel",
      "state": {}
     },
     "488b83ce6a4446468c5698debc9f6588": {
      "model_module": "@jupyter-widgets/base",
      "model_module_version": "1.2.0",
      "model_name": "LayoutModel",
      "state": {}
     },
     "48e8600a35c74ecba133a84bf90f5c1f": {
      "model_module": "@jupyter-widgets/output",
      "model_module_version": "1.0.0",
      "model_name": "OutputModel",
      "state": {
       "layout": "IPY_MODEL_78df5a4fc9e545478baed814e2908b5d",
       "outputs": [
        {
         "name": "stdout",
         "output_type": "stream",
         "text": "Output appended with append_stdout"
        },
        {
         "data": {
          "text/html": "\n        <iframe\n            width=\"400\"\n            height=\"300\"\n            src=\"https://www.youtube.com/embed/eWzY2nGfkXk\"\n            frameborder=\"0\"\n            allowfullscreen\n        ></iframe>\n        ",
          "text/plain": "<IPython.lib.display.YouTubeVideo at 0x7f7294169ba8>"
         },
         "metadata": {},
         "output_type": "display_data"
        },
        {
         "name": "stdout",
         "output_type": "stream",
         "text": "0 Hello world!\n1 Hello world!\n2 Hello world!\n3 Hello world!\n4 Hello world!\n5 Hello world!\n6 Hello world!\n7 Hello world!\n8 Hello world!\n9 Hello world!\n0 Hello world!\n1 Hello world!\n2 Hello world!\n3 Hello world!\n4 Hello world!\n5 Hello world!\n6 Hello world!\n7 Hello world!\n8 Hello world!\n9 Hello world!\n0 Hello world!\n1 Hello world!\n2 Hello world!\n3 Hello world!\n4 Hello world!\n5 Hello world!\n6 Hello world!\n7 Hello world!\n8 Hello world!\n9 Hello world!\n"
        }
       ]
      }
     },
     "490ca963f63e4477bba84e398a846194": {
      "model_module": "@jupyter-widgets/base",
      "model_module_version": "1.2.0",
      "model_name": "LayoutModel",
      "state": {}
     },
     "4a3c5fa0ef5a4bf889a0051bb60c8f6f": {
      "model_module": "@jupyter-widgets/output",
      "model_module_version": "1.0.0",
      "model_name": "OutputModel",
      "state": {
       "layout": "IPY_MODEL_3b9df787f69e474392de7fbfe7c8510f"
      }
     },
     "4a7d8e7b576a403987a4832a40e2381f": {
      "model_module": "@jupyter-widgets/controls",
      "model_module_version": "1.5.0",
      "model_name": "IntRangeSliderModel",
      "state": {
       "_model_name": "IntRangeSliderModel",
       "_view_name": "IntRangeSliderView",
       "continuous_update": false,
       "description": "Test:",
       "layout": "IPY_MODEL_098db764767c4369abaed3266cc5077b",
       "max": 10,
       "style": "IPY_MODEL_9bc5a565c2a644bf9d4cf24f4b65d228",
       "value": [
        5,
        7
       ]
      }
     },
     "4ad57f7a9e6d49eab9166d9eba7d2848": {
      "model_module": "@jupyter-widgets/controls",
      "model_module_version": "1.5.0",
      "model_name": "DescriptionStyleModel",
      "state": {
       "description_width": ""
      }
     },
     "4b6c161f2ad44bf9948bccae6076a4ee": {
      "model_module": "@jupyter-widgets/base",
      "model_module_version": "1.2.0",
      "model_name": "LayoutModel",
      "state": {}
     },
     "4b7aa86ab2c2433b92c6ea6415e3366e": {
      "model_module": "@jupyter-widgets/base",
      "model_module_version": "1.2.0",
      "model_name": "LayoutModel",
      "state": {}
     },
     "4b809b974d414de9bc81111dab9e0f2b": {
      "model_module": "@jupyter-widgets/controls",
      "model_module_version": "1.5.0",
      "model_name": "IntProgressModel",
      "state": {
       "description": "Loading:",
       "layout": "IPY_MODEL_9642952bdbf74f17861579564e50fa3b",
       "max": 10,
       "style": "IPY_MODEL_7b33f8a0077d443a9a8a65455a63716d",
       "value": 7
      }
     },
     "4bc74f8edf4c49cb95dd55c162d07c4a": {
      "model_module": "@jupyter-widgets/base",
      "model_module_version": "1.2.0",
      "model_name": "LayoutModel",
      "state": {}
     },
     "4c225ec67bed4dc89839db609f3b4244": {
      "model_module": "@jupyter-widgets/base",
      "model_module_version": "1.2.0",
      "model_name": "LayoutModel",
      "state": {}
     },
     "4c4bc1e53b284d6ea5d2b38fa579ebaa": {
      "model_module": "@jupyter-widgets/base",
      "model_module_version": "1.2.0",
      "model_name": "LayoutModel",
      "state": {}
     },
     "4c874da2e1494d73aac7d388d70ebf4c": {
      "model_module": "@jupyter-widgets/controls",
      "model_module_version": "1.5.0",
      "model_name": "SliderStyleModel",
      "state": {
       "description_width": ""
      }
     },
     "4d84bd24d81e471c9a3c918c1a7c465f": {
      "model_module": "@jupyter-widgets/controls",
      "model_module_version": "1.5.0",
      "model_name": "SliderStyleModel",
      "state": {
       "description_width": ""
      }
     },
     "4dd4cabd0790417f85faa832314c6a4f": {
      "model_module": "@jupyter-widgets/base",
      "model_module_version": "1.2.0",
      "model_name": "LayoutModel",
      "state": {}
     },
     "4de031698a46489ea9b0d06dc6d56b88": {
      "model_module": "@jupyter-widgets/controls",
      "model_module_version": "1.5.0",
      "model_name": "LabelModel",
      "state": {
       "layout": "IPY_MODEL_f978176df8fc4940a615b385a99e0bc1",
       "style": "IPY_MODEL_7b53a76f13984d668186cd1be13d0270",
       "value": "0"
      }
     },
     "4eb22eddda3e49eabaa1573e30bde19d": {
      "model_module": "@jupyter-widgets/controls",
      "model_module_version": "1.5.0",
      "model_name": "DescriptionStyleModel",
      "state": {
       "description_width": ""
      }
     },
     "4eddc23f58bc43219ae55409b2659198": {
      "model_module": "@jupyter-widgets/controls",
      "model_module_version": "1.5.0",
      "model_name": "TextModel",
      "state": {
       "description": "P0",
       "layout": "IPY_MODEL_bc0feb92025648e68986b36a664701ab",
       "style": "IPY_MODEL_e747e187d1604d12a7377894ea29e85d"
      }
     },
     "4ee20d992a50493ca0fb58f59f335a59": {
      "model_module": "@jupyter-widgets/base",
      "model_module_version": "1.2.0",
      "model_name": "LayoutModel",
      "state": {}
     },
     "4f0637f02e664b93b4a68d5396c89f1d": {
      "model_module": "@jupyter-widgets/controls",
      "model_module_version": "1.5.0",
      "model_name": "DescriptionStyleModel",
      "state": {
       "description_width": ""
      }
     },
     "4f28e5e7ddf54d31bdc562be16042711": {
      "model_module": "@jupyter-widgets/base",
      "model_module_version": "1.2.0",
      "model_name": "LayoutModel",
      "state": {}
     },
     "4f34ad35ed964c1f86b73936a4f48795": {
      "model_module": "@jupyter-widgets/controls",
      "model_module_version": "1.5.0",
      "model_name": "SliderStyleModel",
      "state": {
       "description_width": ""
      }
     },
     "4f4f91fc49944696a323c4f11684ce09": {
      "model_module": "@jupyter-widgets/base",
      "model_module_version": "1.2.0",
      "model_name": "LayoutModel",
      "state": {}
     },
     "4fdd7683c07d4ebaa888d9139d70ab05": {
      "model_module": "@jupyter-widgets/base",
      "model_module_version": "1.2.0",
      "model_name": "LayoutModel",
      "state": {}
     },
     "500342c2cdda4232a9bbe15e68d826eb": {
      "model_module": "@jupyter-widgets/controls",
      "model_module_version": "1.5.0",
      "model_name": "DescriptionStyleModel",
      "state": {
       "description_width": ""
      }
     },
     "506040b0cb3b4366b49145634a8cc6fe": {
      "model_module": "@jupyter-widgets/controls",
      "model_module_version": "1.5.0",
      "model_name": "DescriptionStyleModel",
      "state": {
       "description_width": ""
      }
     },
     "50ca8a5bb1aa4ae496d2e94c439fc895": {
      "model_module": "@jupyter-widgets/base",
      "model_module_version": "1.2.0",
      "model_name": "LayoutModel",
      "state": {}
     },
     "511ba8c8795d4ec18afaaf819fb4603e": {
      "model_module": "@jupyter-widgets/base",
      "model_module_version": "1.2.0",
      "model_name": "LayoutModel",
      "state": {}
     },
     "51355ed7779044a59cd36d807b5b8942": {
      "model_module": "@jupyter-widgets/controls",
      "model_module_version": "1.5.0",
      "model_name": "DescriptionStyleModel",
      "state": {
       "description_width": ""
      }
     },
     "513aab6f129f46cba7c5659a23094021": {
      "model_module": "@jupyter-widgets/controls",
      "model_module_version": "1.5.0",
      "model_name": "SliderStyleModel",
      "state": {
       "description_width": ""
      }
     },
     "51c3f33494724fffb11006fbf7d4e9a0": {
      "model_module": "@jupyter-widgets/controls",
      "model_module_version": "1.5.0",
      "model_name": "LabelModel",
      "state": {
       "layout": "IPY_MODEL_631d2cee03104c3ebcf63601bb599880",
       "style": "IPY_MODEL_dfea6ee68e5c4f60af50f5856dbb3e41",
       "value": "0"
      }
     },
     "52a526ae59084263ad90639ccfb6bd74": {
      "model_module": "@jupyter-widgets/base",
      "model_module_version": "1.2.0",
      "model_name": "LayoutModel",
      "state": {}
     },
     "52ac4aec6dd94ad7b7b4444b88a68948": {
      "model_module": "@jupyter-widgets/controls",
      "model_module_version": "1.5.0",
      "model_name": "ProgressStyleModel",
      "state": {
       "description_width": ""
      }
     },
     "52cb9574731c48619641cee1b3bfbccd": {
      "model_module": "@jupyter-widgets/controls",
      "model_module_version": "1.5.0",
      "model_name": "FloatProgressModel",
      "state": {
       "bar_style": "info",
       "description": "Loading:",
       "layout": "IPY_MODEL_e73f6bebb249456b8655adec88bf65c8",
       "max": 10,
       "style": "IPY_MODEL_da403a2a081f4b8b8abb9acc5eb65f15",
       "value": 7.5
      }
     },
     "52f0a4f17a114f16b5384e9d57943026": {
      "model_module": "@jupyter-widgets/controls",
      "model_module_version": "1.5.0",
      "model_name": "ValidModel",
      "state": {
       "description": "Valid!",
       "layout": "IPY_MODEL_f8539d5c6fbc42ecb6ffa65abd3ec9cf",
       "style": "IPY_MODEL_d9f210f83bf84fc7ad0307eaaf085db4"
      }
     },
     "52fdeae05a79405fbb9c61a3e0b93787": {
      "model_module": "@jupyter-widgets/controls",
      "model_module_version": "1.5.0",
      "model_name": "DescriptionStyleModel",
      "state": {
       "description_width": ""
      }
     },
     "530ea61802fe46a1bda85d45ddcc055a": {
      "model_module": "@jupyter-widgets/controls",
      "model_module_version": "1.5.0",
      "model_name": "DescriptionStyleModel",
      "state": {
       "description_width": ""
      }
     },
     "531293981f1644b8826d90c8693c04b3": {
      "model_module": "@jupyter-widgets/controls",
      "model_module_version": "1.5.0",
      "model_name": "DescriptionStyleModel",
      "state": {
       "description_width": ""
      }
     },
     "534a3ffd5d7c4876aab5435e694446f3": {
      "model_module": "@jupyter-widgets/base",
      "model_module_version": "1.2.0",
      "model_name": "LayoutModel",
      "state": {}
     },
     "53ed985181c24f018fd5ad64abcecf05": {
      "model_module": "@jupyter-widgets/controls",
      "model_module_version": "1.5.0",
      "model_name": "DescriptionStyleModel",
      "state": {
       "description_width": ""
      }
     },
     "53fc4a9c375e4fd584edae10e8a66c05": {
      "model_module": "@jupyter-widgets/controls",
      "model_module_version": "1.5.0",
      "model_name": "ToggleButtonsModel",
      "state": {
       "_options_labels": [
        "Slow",
        "Regular",
        "Fast"
       ],
       "button_style": "",
       "description": "Speed:",
       "icons": [],
       "index": 0,
       "layout": "IPY_MODEL_0b5d5eb3b1c9481fb78bb1c74018f095",
       "style": "IPY_MODEL_3f9763da72264681a3aafa91df219b5e",
       "tooltips": [
        "Description of slow",
        "Description of regular",
        "Description of fast"
       ]
      }
     },
     "54002b1fd64349fb813a66c8622a47e8": {
      "model_module": "@jupyter-widgets/base",
      "model_module_version": "1.2.0",
      "model_name": "LayoutModel",
      "state": {}
     },
     "5419bd9d029641249b0c4470afa2ea4d": {
      "model_module": "@jupyter-widgets/base",
      "model_module_version": "1.2.0",
      "model_name": "LayoutModel",
      "state": {}
     },
     "5419d4e9133e43feb3023fc15fb4157c": {
      "model_module": "@jupyter-widgets/base",
      "model_module_version": "1.2.0",
      "model_name": "LayoutModel",
      "state": {}
     },
     "547c4c0e3fcb4f52a7bd7a436fe64b1c": {
      "model_module": "@jupyter-widgets/controls",
      "model_module_version": "1.5.0",
      "model_name": "LabelModel",
      "state": {
       "layout": "IPY_MODEL_74a759838bf34015b5b7b8ea55b8be22",
       "style": "IPY_MODEL_53ed985181c24f018fd5ad64abcecf05",
       "value": "1"
      }
     },
     "548cc944bd2446d0a775d41103c235ad": {
      "model_module": "@jupyter-widgets/base",
      "model_module_version": "1.2.0",
      "model_name": "LayoutModel",
      "state": {}
     },
     "54967ff60bb8415eb68936aece6e3573": {
      "model_module": "@jupyter-widgets/base",
      "model_module_version": "1.2.0",
      "model_name": "LayoutModel",
      "state": {}
     },
     "54c75ee69b1d45318b579553671b56a4": {
      "model_module": "@jupyter-widgets/base",
      "model_module_version": "1.2.0",
      "model_name": "LayoutModel",
      "state": {}
     },
     "54f1658a5e33449a81b23e61b3a56a40": {
      "model_module": "@jupyter-widgets/base",
      "model_module_version": "1.2.0",
      "model_name": "LayoutModel",
      "state": {}
     },
     "5528f64393e3448ba20ab4844267f27e": {
      "model_module": "@jupyter-widgets/controls",
      "model_module_version": "1.5.0",
      "model_name": "DescriptionStyleModel",
      "state": {
       "description_width": ""
      }
     },
     "553041441c4c4db98ed25c9253a9c03a": {
      "model_module": "@jupyter-widgets/controls",
      "model_module_version": "1.5.0",
      "model_name": "DescriptionStyleModel",
      "state": {
       "description_width": ""
      }
     },
     "553362b3aed143dcade175c2c75bab42": {
      "model_module": "@jupyter-widgets/controls",
      "model_module_version": "1.5.0",
      "model_name": "SliderStyleModel",
      "state": {
       "description_width": ""
      }
     },
     "557366ebc4044bd2a79b99f4fdd181b3": {
      "model_module": "@jupyter-widgets/controls",
      "model_module_version": "1.5.0",
      "model_name": "TextModel",
      "state": {
       "description": "P3",
       "layout": "IPY_MODEL_fc84fe255fe74288aa763fb99964a791",
       "style": "IPY_MODEL_4ad57f7a9e6d49eab9166d9eba7d2848"
      }
     },
     "558fd37faa22431880508c0b8e7f338e": {
      "model_module": "@jupyter-widgets/controls",
      "model_module_version": "1.5.0",
      "model_name": "DescriptionStyleModel",
      "state": {
       "description_width": ""
      }
     },
     "55904d19a1d149f6a6d41c973b8ed28b": {
      "model_module": "@jupyter-widgets/base",
      "model_module_version": "1.2.0",
      "model_name": "LayoutModel",
      "state": {}
     },
     "55e53ab9d27145fbb84ca9ba9cccdf29": {
      "model_module": "@jupyter-widgets/base",
      "model_module_version": "1.2.0",
      "model_name": "LayoutModel",
      "state": {}
     },
     "55e802d01b554e61b6dcc12df493d744": {
      "model_module": "@jupyter-widgets/base",
      "model_module_version": "1.2.0",
      "model_name": "LayoutModel",
      "state": {
       "border": "1px solid black"
      }
     },
     "561917a5c0544d518fddf1ba9601a8ee": {
      "model_module": "@jupyter-widgets/controls",
      "model_module_version": "1.5.0",
      "model_name": "FloatSliderModel",
      "state": {
       "continuous_update": false,
       "description": "Test:",
       "layout": "IPY_MODEL_fd24efa48a5944a09674f26c47018d20",
       "max": 10,
       "orientation": "vertical",
       "readout_format": ".1f",
       "step": 0.1,
       "style": "IPY_MODEL_b97efbb9d6d6433b8fd16130743e89d4",
       "value": 7.5
      }
     },
     "56c183302b0a4ebca538bc559cca8c59": {
      "model_module": "@jupyter-widgets/controls",
      "model_module_version": "1.5.0",
      "model_name": "AccordionModel",
      "state": {
       "_titles": {
        "0": "Slider",
        "1": "Text"
       },
       "children": [
        "IPY_MODEL_7be42ad666a14430b69c7ab87fa9e31d",
        "IPY_MODEL_f39bdb57993b49078af3247dbafbd2c3"
       ],
       "layout": "IPY_MODEL_f35c5f96577e4731b2548b30883186e3",
       "selected_index": null
      }
     },
     "56ca0b9c72d6400bab1ad1c0d751f8c6": {
      "model_module": "@jupyter-widgets/controls",
      "model_module_version": "1.5.0",
      "model_name": "SliderStyleModel",
      "state": {
       "description_width": ""
      }
     },
     "57314866c9e349a780e15c62cf4d3722": {
      "model_module": "@jupyter-widgets/controls",
      "model_module_version": "1.5.0",
      "model_name": "TextModel",
      "state": {
       "description": "P3",
       "layout": "IPY_MODEL_b4c640771475424f919e2e55dbf79df2",
       "style": "IPY_MODEL_3ef2d150ab06457b9dade2f9254e2f0b"
      }
     },
     "574d012ee88b4c7a9f56102a378c1e20": {
      "model_module": "@jupyter-widgets/controls",
      "model_module_version": "1.5.0",
      "model_name": "IntRangeSliderModel",
      "state": {
       "_model_name": "IntRangeSliderModel",
       "_view_name": "IntRangeSliderView",
       "continuous_update": false,
       "description": "Test:",
       "layout": "IPY_MODEL_2cb264cc96d344d3824e4f0ce1717a55",
       "max": 10,
       "style": "IPY_MODEL_e0923355b8dc401a894b11e6663941fa",
       "value": [
        5,
        7
       ]
      }
     },
     "5784b71da9434a279bc7bf66297fa20b": {
      "model_module": "@jupyter-widgets/controls",
      "model_module_version": "1.5.0",
      "model_name": "SliderStyleModel",
      "state": {
       "description_width": ""
      }
     },
     "57a8eec1969a49e8b40f3c9a9e5a81f6": {
      "model_module": "@jupyter-widgets/controls",
      "model_module_version": "1.5.0",
      "model_name": "TextModel",
      "state": {
       "description": "P2",
       "layout": "IPY_MODEL_126bf43fc782455e877d1d52c14b661e",
       "style": "IPY_MODEL_1f4e703f8eef413082798a265a90436e"
      }
     },
     "57b4b1f945bd47299248233853517f6b": {
      "model_module": "@jupyter-widgets/controls",
      "model_module_version": "1.5.0",
      "model_name": "DescriptionStyleModel",
      "state": {
       "description_width": ""
      }
     },
     "57b4cd8645c746b5a85c302074b392c0": {
      "model_module": "@jupyter-widgets/base",
      "model_module_version": "1.2.0",
      "model_name": "LayoutModel",
      "state": {}
     },
     "57feaba8913e4e06ae1daf43a301d129": {
      "model_module": "@jupyter-widgets/base",
      "model_module_version": "1.2.0",
      "model_name": "LayoutModel",
      "state": {}
     },
     "58095a0d5b5c4658967fcd9af7afeef1": {
      "model_module": "@jupyter-widgets/controls",
      "model_module_version": "1.5.0",
      "model_name": "TextareaModel",
      "state": {
       "description": "String:",
       "layout": "IPY_MODEL_d5b68e4d3c5d4ffc95e8afc18e34b743",
       "placeholder": "Type something",
       "style": "IPY_MODEL_0f3635b32b5241d0ad04c314c3a08178",
       "value": "Hello World"
      }
     },
     "58997351102449c4add3e5bf44961b13": {
      "model_module": "@jupyter-widgets/output",
      "model_module_version": "1.0.0",
      "model_name": "OutputModel",
      "state": {
       "layout": "IPY_MODEL_68d150ca2bb441cb9633d0d62013c0a3"
      }
     },
     "58aab2eca9ee47acafdf8c2cd0f5b2bc": {
      "model_module": "@jupyter-widgets/controls",
      "model_module_version": "1.5.0",
      "model_name": "DescriptionStyleModel",
      "state": {
       "description_width": ""
      }
     },
     "58af0d8a099748768dddbf4d70a4bb0e": {
      "model_module": "@jupyter-widgets/controls",
      "model_module_version": "1.5.0",
      "model_name": "DescriptionStyleModel",
      "state": {
       "description_width": ""
      }
     },
     "58dc9fcb917f45e28e00bcfec024b0b1": {
      "model_module": "@jupyter-widgets/base",
      "model_module_version": "1.2.0",
      "model_name": "LayoutModel",
      "state": {}
     },
     "58df2fefc5b44f57a4db2b5d95f9ae84": {
      "model_module": "@jupyter-widgets/base",
      "model_module_version": "1.2.0",
      "model_name": "LayoutModel",
      "state": {}
     },
     "5913dbcb810a4d3092a8d52e328300e7": {
      "model_module": "@jupyter-widgets/base",
      "model_module_version": "1.2.0",
      "model_name": "LayoutModel",
      "state": {}
     },
     "59aef2d32ed84030899380499f898077": {
      "model_module": "@jupyter-widgets/controls",
      "model_module_version": "1.5.0",
      "model_name": "SliderStyleModel",
      "state": {
       "description_width": ""
      }
     },
     "59d859c6910a44c1a0389dbaeb118423": {
      "model_module": "@jupyter-widgets/base",
      "model_module_version": "1.2.0",
      "model_name": "LayoutModel",
      "state": {}
     },
     "59ffaf3c5def4d319b62fa579a74861e": {
      "model_module": "@jupyter-widgets/controls",
      "model_module_version": "1.5.0",
      "model_name": "ToggleButtonsModel",
      "state": {
       "_options_labels": [
        "Slow",
        "Regular",
        "Fast"
       ],
       "button_style": "",
       "description": "Speed:",
       "icons": [],
       "index": 0,
       "layout": "IPY_MODEL_b7df85f263464cfb8ad71c4722b11d18",
       "style": "IPY_MODEL_7c138e8721d44334b252e1e6783de0f6",
       "tooltips": [
        "Description of slow",
        "Description of regular",
        "Description of fast"
       ]
      }
     },
     "5aa16f6b36d0468db820b3d1048cc8fa": {
      "model_module": "@jupyter-widgets/controls",
      "model_module_version": "1.5.0",
      "model_name": "LinkModel",
      "state": {
       "source": [
        "IPY_MODEL_7e14d563ddc04232a57c214c04e74478",
        "value"
       ],
       "target": [
        "IPY_MODEL_b8c9638d85cc46a8afba53bea0303cd1",
        "value"
       ]
      }
     },
     "5adac09766eb49b9a51148f7deb2fbb8": {
      "model_module": "@jupyter-widgets/controls",
      "model_module_version": "1.5.0",
      "model_name": "LabelModel",
      "state": {
       "layout": "IPY_MODEL_b9720f8593f746f0b5b8acaa4141528d",
       "style": "IPY_MODEL_41b669c85a2f4ab3bdfb21335771eec0",
       "value": "1"
      }
     },
     "5b929c4a4a744c51a7249eff7ecae5df": {
      "model_module": "@jupyter-widgets/controls",
      "model_module_version": "1.5.0",
      "model_name": "ColorPickerModel",
      "state": {
       "description": "Pick a color",
       "disabled": false,
       "layout": "IPY_MODEL_1d18d8276c5b422c8e5a9ff83b9e67b3",
       "style": "IPY_MODEL_bb02d1c2beb5421aaf209369f44af67b",
       "value": "blue"
      }
     },
     "5bd7278050674badbdf5b60bf5c5afc6": {
      "model_module": "@jupyter-widgets/controls",
      "model_module_version": "1.5.0",
      "model_name": "FloatProgressModel",
      "state": {
       "bar_style": "info",
       "description": "Loading:",
       "layout": "IPY_MODEL_361cfeee53df44e192d6f75e8b0d3b57",
       "max": 10,
       "style": "IPY_MODEL_09c0795d55e34e4a96e0193c3179216a",
       "value": 7.5
      }
     },
     "5bed77931a69458496a23de63db7df26": {
      "model_module": "@jupyter-widgets/controls",
      "model_module_version": "1.5.0",
      "model_name": "DescriptionStyleModel",
      "state": {
       "description_width": ""
      }
     },
     "5c33fc6ff4b84ab59b726f2f591309d1": {
      "model_module": "@jupyter-widgets/output",
      "model_module_version": "1.0.0",
      "model_name": "OutputModel",
      "state": {
       "layout": "IPY_MODEL_3aa214d5f5ac462c9b2a3ce8809c1a2f",
       "outputs": [
        {
         "name": "stdout",
         "output_type": "stream",
         "text": "Output appended with append_stdout"
        },
        {
         "data": {
          "image/jpeg": {},
          "text/html": "\n        <iframe\n            width=\"400\"\n            height=\"300\"\n            src=\"https://www.youtube.com/embed/eWzY2nGfkXk\"\n            frameborder=\"0\"\n            allowfullscreen\n        ></iframe>\n        ",
          "text/plain": "<IPython.lib.display.YouTubeVideo at 0x1131b0b38>"
         },
         "metadata": {},
         "output_type": "display_data"
        }
       ]
      }
     },
     "5c59f5cd5b5645aa9784386b254db299": {
      "model_module": "@jupyter-widgets/controls",
      "model_module_version": "1.5.0",
      "model_name": "LabelModel",
      "state": {
       "layout": "IPY_MODEL_87a51af2bfc44bb7b542ab117a2aca55",
       "style": "IPY_MODEL_146278c129f34fa1b132a02c1907826d",
       "value": "2"
      }
     },
     "5c9969e6942f4bd8b73562f60e11fa58": {
      "model_module": "@jupyter-widgets/controls",
      "model_module_version": "1.5.0",
      "model_name": "DescriptionStyleModel",
      "state": {
       "description_width": ""
      }
     },
     "5cb11d960df8466ab1c59a274605a931": {
      "model_module": "@jupyter-widgets/base",
      "model_module_version": "1.2.0",
      "model_name": "LayoutModel",
      "state": {}
     },
     "5cbdc924e00644dcb0edfadafc75e6c7": {
      "model_module": "@jupyter-widgets/controls",
      "model_module_version": "1.5.0",
      "model_name": "DescriptionStyleModel",
      "state": {
       "description_width": ""
      }
     },
     "5d481286097b4ab08dfa4a1b081e59fe": {
      "model_module": "@jupyter-widgets/base",
      "model_module_version": "1.2.0",
      "model_name": "LayoutModel",
      "state": {}
     },
     "5d5a10785ab34549a5a3c698b2d92199": {
      "model_module": "@jupyter-widgets/base",
      "model_module_version": "1.2.0",
      "model_name": "LayoutModel",
      "state": {}
     },
     "5da1c20d2c644478939a42e7ebe821c3": {
      "model_module": "@jupyter-widgets/controls",
      "model_module_version": "1.5.0",
      "model_name": "LabelModel",
      "state": {
       "layout": "IPY_MODEL_6224499dc120492895cb54e5f71b3b6f",
       "style": "IPY_MODEL_3a89e4476979473bba9ca9768645e97a",
       "value": "1"
      }
     },
     "5dacf6bf9eb348fa91c70266124569fe": {
      "model_module": "@jupyter-widgets/controls",
      "model_module_version": "1.5.0",
      "model_name": "SliderStyleModel",
      "state": {
       "description_width": ""
      }
     },
     "5db9afd87cee4985ba63cc95edad8028": {
      "model_module": "@jupyter-widgets/controls",
      "model_module_version": "1.5.0",
      "model_name": "DescriptionStyleModel",
      "state": {
       "description_width": ""
      }
     },
     "5eb5ff82498f4d0cab09a7a88173d627": {
      "model_module": "@jupyter-widgets/controls",
      "model_module_version": "1.5.0",
      "model_name": "DescriptionStyleModel",
      "state": {
       "description_width": ""
      }
     },
     "5ee210147c5f4eaa8b79f2bc175081e8": {
      "model_module": "@jupyter-widgets/controls",
      "model_module_version": "1.5.0",
      "model_name": "FloatRangeSliderModel",
      "state": {
       "_model_name": "FloatRangeSliderModel",
       "_view_name": "FloatRangeSliderView",
       "continuous_update": false,
       "description": "Test:",
       "layout": "IPY_MODEL_8b3cd94a832d47ba9be2bb6af674f583",
       "max": 10,
       "readout_format": ".1f",
       "step": 0.1,
       "style": "IPY_MODEL_08038d2c0bbf4b05be11e07971649c7a",
       "value": [
        5,
        7.5
       ]
      }
     },
     "5ef419f41ae646ea95cbb992156e02d9": {
      "model_module": "@jupyter-widgets/controls",
      "model_module_version": "1.5.0",
      "model_name": "DescriptionStyleModel",
      "state": {
       "description_width": ""
      }
     },
     "5f9be13baaf34da890cf31bc017818b5": {
      "model_module": "@jupyter-widgets/controls",
      "model_module_version": "1.5.0",
      "model_name": "SelectionRangeSliderModel",
      "state": {
       "_model_name": "SelectionRangeSliderModel",
       "_options_labels": [
        "Jan",
        "Feb",
        "Mar",
        "Apr",
        "May",
        "Jun",
        "Jul",
        "Aug",
        "Sep",
        "Oct",
        "Nov",
        "Dec"
       ],
       "_view_name": "SelectionRangeSliderView",
       "description": "Months (2015)",
       "index": [
        0,
        11
       ],
       "layout": "IPY_MODEL_880d4c8b9a3749868ea3c7f080975e44",
       "style": "IPY_MODEL_06bbdb920e89473380a2421a54d72918"
      }
     },
     "5fbbc42716304e58acc4192e7619e260": {
      "model_module": "@jupyter-widgets/controls",
      "model_module_version": "1.5.0",
      "model_name": "ToggleButtonsStyleModel",
      "state": {
       "button_width": "",
       "description_width": ""
      }
     },
     "608b0feae81f4cbeac36ffc184cdab63": {
      "model_module": "@jupyter-widgets/base",
      "model_module_version": "1.2.0",
      "model_name": "LayoutModel",
      "state": {}
     },
     "60c0ecc173e04a688db923d263756539": {
      "model_module": "@jupyter-widgets/controls",
      "model_module_version": "1.5.0",
      "model_name": "LabelModel",
      "state": {
       "layout": "IPY_MODEL_9c872add51fb4ac2a620fd5d612aa255",
       "style": "IPY_MODEL_28a26a0f529c42078ccbb170c0334135",
       "value": "2"
      }
     },
     "60def6ca892c443e92cbe86104dfaaa8": {
      "model_module": "@jupyter-widgets/controls",
      "model_module_version": "1.5.0",
      "model_name": "LabelModel",
      "state": {
       "layout": "IPY_MODEL_4165859363674916b20b144a71aedd17",
       "style": "IPY_MODEL_21c6f5b2fca64c0dab9bcbb6f1b36831",
       "value": "The $m$ in $E=mc^2$:"
      }
     },
     "610d4c6a815e475485ef17869f4a004f": {
      "model_module": "@jupyter-widgets/controls",
      "model_module_version": "1.5.0",
      "model_name": "TextModel",
      "state": {
       "description": "P2",
       "layout": "IPY_MODEL_6b4f1218c7c248ea9746beafeaf1a0f2",
       "style": "IPY_MODEL_0a24cb07ce704b08b821caa0ccb95ffb"
      }
     },
     "61a332cc41bb4e01b880ddf8888eeb3d": {
      "model_module": "@jupyter-widgets/controls",
      "model_module_version": "1.5.0",
      "model_name": "LinkModel",
      "state": {
       "source": [
        "IPY_MODEL_9505f5010e6845f6bf5548e78ba03de0",
        "value"
       ],
       "target": [
        "IPY_MODEL_3de1c975afb641299a61b93acdbbbdae",
        "value"
       ]
      }
     },
     "61bc7b08261d40eb93ec6351250dffbb": {
      "model_module": "@jupyter-widgets/controls",
      "model_module_version": "1.5.0",
      "model_name": "TextModel",
      "state": {
       "description": "String:",
       "layout": "IPY_MODEL_2720f8a52f714111a327267f8a76234a",
       "placeholder": "Type something",
       "style": "IPY_MODEL_3b667b3babd341d48806f235af06e8b2",
       "value": "Hello World"
      }
     },
     "6224499dc120492895cb54e5f71b3b6f": {
      "model_module": "@jupyter-widgets/base",
      "model_module_version": "1.2.0",
      "model_name": "LayoutModel",
      "state": {}
     },
     "62b85f47be904d50b973613175aaa1b4": {
      "model_module": "@jupyter-widgets/controls",
      "model_module_version": "1.5.0",
      "model_name": "FloatSliderModel",
      "state": {
       "continuous_update": false,
       "description": "Test:",
       "layout": "IPY_MODEL_9ebf311fa6844bd8a06662989b9c56b0",
       "max": 10,
       "readout_format": ".1f",
       "step": 0.1,
       "style": "IPY_MODEL_9cf09a529c2e46199a1c3d9050c4c3d2",
       "value": 7.5
      }
     },
     "631d2cee03104c3ebcf63601bb599880": {
      "model_module": "@jupyter-widgets/base",
      "model_module_version": "1.2.0",
      "model_name": "LayoutModel",
      "state": {}
     },
     "63990b777289423c8be798a45c3dc9f0": {
      "model_module": "@jupyter-widgets/controls",
      "model_module_version": "1.5.0",
      "model_name": "DescriptionStyleModel",
      "state": {
       "description_width": ""
      }
     },
     "63c9ea74bd5647c48173172d7fc2384d": {
      "model_module": "@jupyter-widgets/output",
      "model_module_version": "1.0.0",
      "model_name": "OutputModel",
      "state": {
       "layout": "IPY_MODEL_8cabdd9ea75a455baa620ec1dc69cce3",
       "outputs": [
        {
         "name": "stdout",
         "output_type": "stream",
         "text": "Output appended with append_stdout"
        },
        {
         "data": {
          "image/jpeg": {},
          "text/html": "\n        <iframe\n            width=\"400\"\n            height=\"300\"\n            src=\"https://www.youtube.com/embed/eWzY2nGfkXk\"\n            frameborder=\"0\"\n            allowfullscreen\n        ></iframe>\n        ",
          "text/plain": "<IPython.lib.display.YouTubeVideo at 0x115b1ead0>"
         },
         "metadata": {},
         "output_type": "display_data"
        }
       ]
      }
     },
     "63d97826ef024280b30de94fc9518219": {
      "model_module": "@jupyter-widgets/controls",
      "model_module_version": "1.5.0",
      "model_name": "DescriptionStyleModel",
      "state": {
       "description_width": ""
      }
     },
     "63ddff8e994a4aea997b01f173eb9201": {
      "model_module": "@jupyter-widgets/controls",
      "model_module_version": "1.5.0",
      "model_name": "FloatProgressModel",
      "state": {
       "bar_style": "info",
       "description": "Loading:",
       "layout": "IPY_MODEL_06bbd57ab9744d9db23ca392470c2d58",
       "max": 10,
       "style": "IPY_MODEL_e04f05d7cfe446cba76b0160869aa555",
       "value": 7.5
      }
     },
     "63fb5c6997ec42f18a9409aa7a3cd3d7": {
      "model_module": "@jupyter-widgets/controls",
      "model_module_version": "1.5.0",
      "model_name": "LabelModel",
      "state": {
       "layout": "IPY_MODEL_58df2fefc5b44f57a4db2b5d95f9ae84",
       "style": "IPY_MODEL_2f059bd7b3a44edc98073f5f8b275ca1",
       "value": "0"
      }
     },
     "64070e7d8cff45d3a8804f344aea9f21": {
      "model_module": "@jupyter-widgets/controls",
      "model_module_version": "1.5.0",
      "model_name": "DescriptionStyleModel",
      "state": {
       "description_width": ""
      }
     },
     "6467dd444ab34c6f844c7f2fea4bd05c": {
      "model_module": "@jupyter-widgets/base",
      "model_module_version": "1.2.0",
      "model_name": "LayoutModel",
      "state": {}
     },
     "646cb4179c154dab9b01619f4c73681f": {
      "model_module": "@jupyter-widgets/controls",
      "model_module_version": "1.5.0",
      "model_name": "SelectionSliderModel",
      "state": {
       "_options_labels": [
        "scrambled",
        "sunny side up",
        "poached",
        "over easy"
       ],
       "continuous_update": false,
       "description": "I like my eggs …",
       "index": 1,
       "layout": "IPY_MODEL_fe714c5f83c141f1a4508845a16fa742",
       "style": "IPY_MODEL_1d5483db682f4afa92647fd25a0e6605"
      }
     },
     "64b5d6645dc64fb98fab2544754f30d7": {
      "model_module": "@jupyter-widgets/controls",
      "model_module_version": "1.5.0",
      "model_name": "PlayModel",
      "state": {
       "description": "Press play",
       "layout": "IPY_MODEL_85c8e327bbca41b6b97cd9f9c0a5dd5a",
       "style": "IPY_MODEL_8705b94db0774f65854abb321d575ea5",
       "value": 50
      }
     },
     "64fe04e502fb4b919cf2a2b767a5c1d3": {
      "model_module": "@jupyter-widgets/controls",
      "model_module_version": "1.5.0",
      "model_name": "LabelModel",
      "state": {
       "layout": "IPY_MODEL_436dabf2255a46e3866ebe36a1ebaf33",
       "style": "IPY_MODEL_a5f7d7d7dbc848bcb721697db610cf47",
       "value": "0"
      }
     },
     "651225c5946a46c88e34035cd6887eb0": {
      "model_module": "@jupyter-widgets/controls",
      "model_module_version": "1.5.0",
      "model_name": "TextareaModel",
      "state": {
       "description": "String:",
       "layout": "IPY_MODEL_0755f415a2d642ca8abadb8133e75db6",
       "placeholder": "Type something",
       "style": "IPY_MODEL_7dbf0c22beb94f96a562db0024f29bd2",
       "value": "Hello World"
      }
     },
     "6561ccf3bc4f4c5e89d769c920e84fab": {
      "model_module": "@jupyter-widgets/base",
      "model_module_version": "1.2.0",
      "model_name": "LayoutModel",
      "state": {}
     },
     "659aa78703bd4969a28aecc736f69a4b": {
      "model_module": "@jupyter-widgets/controls",
      "model_module_version": "1.5.0",
      "model_name": "DescriptionStyleModel",
      "state": {
       "description_width": ""
      }
     },
     "65ba2c8174774331b15a4e08e02ac2cb": {
      "model_module": "@jupyter-widgets/controls",
      "model_module_version": "1.5.0",
      "model_name": "TextareaModel",
      "state": {
       "description": "String:",
       "layout": "IPY_MODEL_aac5085a8fb44eccb81274a2326de379",
       "placeholder": "Type something",
       "style": "IPY_MODEL_30923b99d3dd4b8a88a56fb7f1df16bd",
       "value": "Hello World"
      }
     },
     "65d5e0cece874284b1524d8880cd9aac": {
      "model_module": "@jupyter-widgets/controls",
      "model_module_version": "1.5.0",
      "model_name": "ProgressStyleModel",
      "state": {
       "description_width": ""
      }
     },
     "66137bb6613641f59f377af51ff58871": {
      "model_module": "@jupyter-widgets/controls",
      "model_module_version": "1.5.0",
      "model_name": "DescriptionStyleModel",
      "state": {
       "description_width": ""
      }
     },
     "662a284e5b3545cfb85f11ea91c771f1": {
      "model_module": "@jupyter-widgets/base",
      "model_module_version": "1.2.0",
      "model_name": "LayoutModel",
      "state": {}
     },
     "667705c8cf334a02847a7b565e898976": {
      "model_module": "@jupyter-widgets/controls",
      "model_module_version": "1.5.0",
      "model_name": "ColorPickerModel",
      "state": {
       "description": "Pick a color",
       "disabled": false,
       "layout": "IPY_MODEL_57b4cd8645c746b5a85c302074b392c0",
       "style": "IPY_MODEL_454f6576db7e4242a05ad04a878915c0",
       "value": "blue"
      }
     },
     "66c9cdb8849645fe80d0903f51572f04": {
      "model_module": "@jupyter-widgets/base",
      "model_module_version": "1.2.0",
      "model_name": "LayoutModel",
      "state": {}
     },
     "66f9e634ba6a4a73965a8a0ff35f4d85": {
      "model_module": "@jupyter-widgets/base",
      "model_module_version": "1.2.0",
      "model_name": "LayoutModel",
      "state": {}
     },
     "671a115617dc44c5a348acd8bd4affec": {
      "model_module": "@jupyter-widgets/base",
      "model_module_version": "1.2.0",
      "model_name": "LayoutModel",
      "state": {}
     },
     "6729c0339fee442d9500de171a6d66ae": {
      "model_module": "@jupyter-widgets/controls",
      "model_module_version": "1.5.0",
      "model_name": "DescriptionStyleModel",
      "state": {
       "description_width": ""
      }
     },
     "6746b129948049d494c792bd981b6111": {
      "model_module": "@jupyter-widgets/base",
      "model_module_version": "1.2.0",
      "model_name": "LayoutModel",
      "state": {}
     },
     "675c790c9d9844028d2fe7a850898e4e": {
      "model_module": "@jupyter-widgets/output",
      "model_module_version": "1.0.0",
      "model_name": "OutputModel",
      "state": {
       "layout": "IPY_MODEL_55e802d01b554e61b6dcc12df493d744"
      }
     },
     "67828c0b8a8c4726b588bc7ce38e945a": {
      "model_module": "@jupyter-widgets/base",
      "model_module_version": "1.2.0",
      "model_name": "LayoutModel",
      "state": {}
     },
     "67b28a62f2624dcf8bf514d8a318415e": {
      "model_module": "@jupyter-widgets/base",
      "model_module_version": "1.2.0",
      "model_name": "LayoutModel",
      "state": {}
     },
     "67c21cea3e384446bca8f9ce73e6dc62": {
      "model_module": "@jupyter-widgets/controls",
      "model_module_version": "1.5.0",
      "model_name": "LabelModel",
      "state": {
       "layout": "IPY_MODEL_fd87f665e2b749099479cfe9d5fd2718",
       "style": "IPY_MODEL_f354bf243c364d029ddb7293d1a93392",
       "value": "1"
      }
     },
     "67f84c51de884d588278b578fd248616": {
      "buffers": [
       {
        "data": "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",
        "encoding": "base64",
        "path": [
         "value"
        ]
       }
      ],
      "model_module": "@jupyter-widgets/controls",
      "model_module_version": "1.5.0",
      "model_name": "ImageModel",
      "state": {
       "format": "gif",
       "height": "200",
       "layout": "IPY_MODEL_deee1a95874c4dd4af51ca82a14613dd",
       "width": "200"
      }
     },
     "68d150ca2bb441cb9633d0d62013c0a3": {
      "model_module": "@jupyter-widgets/base",
      "model_module_version": "1.2.0",
      "model_name": "LayoutModel",
      "state": {
       "border": "1px solid black"
      }
     },
     "68de1d6b24c545059aa84e64d50a4e85": {
      "model_module": "@jupyter-widgets/controls",
      "model_module_version": "1.5.0",
      "model_name": "DescriptionStyleModel",
      "state": {
       "description_width": ""
      }
     },
     "68ec2da410a2464aa55c9bbe40f20d0c": {
      "model_module": "@jupyter-widgets/controls",
      "model_module_version": "1.5.0",
      "model_name": "BoundedFloatTextModel",
      "state": {
       "description": "Text:",
       "layout": "IPY_MODEL_38f6c8e891bc455eb419e6293c0c3dab",
       "max": 10,
       "style": "IPY_MODEL_ebd084bdaa084a6cacf63b60fcfbb6ef",
       "value": 7.5
      }
     },
     "6901eb86b9bb44bc890f37c41161a2df": {
      "model_module": "@jupyter-widgets/controls",
      "model_module_version": "1.5.0",
      "model_name": "DescriptionStyleModel",
      "state": {
       "description_width": ""
      }
     },
     "6964dfbe16db4b97a23a7db389af2905": {
      "model_module": "@jupyter-widgets/controls",
      "model_module_version": "1.5.0",
      "model_name": "SliderStyleModel",
      "state": {
       "description_width": ""
      }
     },
     "69e2a02fcd6e445e9eddea4cd0065057": {
      "model_module": "@jupyter-widgets/controls",
      "model_module_version": "1.5.0",
      "model_name": "DescriptionStyleModel",
      "state": {
       "description_width": ""
      }
     },
     "6a2576f257964b959f6e296e6015a8e9": {
      "model_module": "@jupyter-widgets/base",
      "model_module_version": "1.2.0",
      "model_name": "LayoutModel",
      "state": {
       "border": "1px solid black"
      }
     },
     "6a3b02bd4ea44d0385dfe7b2e203837c": {
      "model_module": "@jupyter-widgets/controls",
      "model_module_version": "1.5.0",
      "model_name": "DescriptionStyleModel",
      "state": {
       "description_width": ""
      }
     },
     "6ab85e6a363547b796c20c54edaedded": {
      "model_module": "@jupyter-widgets/controls",
      "model_module_version": "1.5.0",
      "model_name": "TextModel",
      "state": {
       "description": "P3",
       "layout": "IPY_MODEL_534a3ffd5d7c4876aab5435e694446f3",
       "style": "IPY_MODEL_dc1c2c3807664dd08e69c82f64252f81"
      }
     },
     "6ad5d45311d64fb5b25a7330e0be6c0f": {
      "model_module": "@jupyter-widgets/controls",
      "model_module_version": "1.5.0",
      "model_name": "FloatRangeSliderModel",
      "state": {
       "_model_name": "FloatRangeSliderModel",
       "_view_name": "FloatRangeSliderView",
       "continuous_update": false,
       "description": "Test:",
       "layout": "IPY_MODEL_16b2bfdba16a48d99fab07bde7faa021",
       "max": 10,
       "readout_format": ".1f",
       "step": 0.1,
       "style": "IPY_MODEL_fabdea297b3347fd98ab3417a3e5dcc3",
       "value": [
        5,
        7.5
       ]
      }
     },
     "6ad94e38b11e46ebbb0ce79c78b02109": {
      "model_module": "@jupyter-widgets/controls",
      "model_module_version": "1.5.0",
      "model_name": "HBoxModel",
      "state": {
       "children": [
        "IPY_MODEL_6b8ec3b420944614bb445aa65cf991eb",
        "IPY_MODEL_90dedf651b50478d9273fa8eb3ba2eb9"
       ],
       "layout": "IPY_MODEL_e357f0c42f9e41ddb21167e412dcc46e"
      }
     },
     "6b4d486befd0453092b00528ef994ee9": {
      "model_module": "@jupyter-widgets/controls",
      "model_module_version": "1.5.0",
      "model_name": "RadioButtonsModel",
      "state": {
       "_options_labels": [
        "pepperoni",
        "pineapple",
        "anchovies"
       ],
       "description": "Pizza topping:",
       "index": 0,
       "layout": "IPY_MODEL_bb1781f8788746cb8c48579b69cb8ab8",
       "style": "IPY_MODEL_0e9e7c4b1a234646a4d9dfd50d584531"
      }
     },
     "6b4f1218c7c248ea9746beafeaf1a0f2": {
      "model_module": "@jupyter-widgets/base",
      "model_module_version": "1.2.0",
      "model_name": "LayoutModel",
      "state": {}
     },
     "6b7b27c1edd6448e9afbe1ed508a9c24": {
      "model_module": "@jupyter-widgets/base",
      "model_module_version": "1.2.0",
      "model_name": "LayoutModel",
      "state": {}
     },
     "6b8ec3b420944614bb445aa65cf991eb": {
      "model_module": "@jupyter-widgets/controls",
      "model_module_version": "1.5.0",
      "model_name": "VBoxModel",
      "state": {
       "children": [
        "IPY_MODEL_ab549cc3bee947fe8d6e336426133ff1",
        "IPY_MODEL_b1f86f84e9584997a8e24120f7978ae7"
       ],
       "layout": "IPY_MODEL_7cb1efe05c4f44f4a6528fa60fff5ba5"
      }
     },
     "6bda4da0b9014fe89265c9f4f2f3de70": {
      "model_module": "@jupyter-widgets/controls",
      "model_module_version": "1.5.0",
      "model_name": "BoundedFloatTextModel",
      "state": {
       "description": "Text:",
       "layout": "IPY_MODEL_662a284e5b3545cfb85f11ea91c771f1",
       "max": 10,
       "style": "IPY_MODEL_9c2b5a6353494e4fac76d0fb61bed4ac",
       "value": 7.5
      }
     },
     "6c1c90cd15084e0082b4ece72a699cd0": {
      "model_module": "@jupyter-widgets/controls",
      "model_module_version": "1.5.0",
      "model_name": "FloatTextModel",
      "state": {
       "description": "Any:",
       "layout": "IPY_MODEL_4b6c161f2ad44bf9948bccae6076a4ee",
       "step": null,
       "style": "IPY_MODEL_269aefd890ed4086a391958e56639cde",
       "value": 7.5
      }
     },
     "6c7a7c7720c24f7fa079ce16ce693866": {
      "model_module": "@jupyter-widgets/controls",
      "model_module_version": "1.5.0",
      "model_name": "BoxModel",
      "state": {
       "children": [
        "IPY_MODEL_64fe04e502fb4b919cf2a2b767a5c1d3",
        "IPY_MODEL_5adac09766eb49b9a51148f7deb2fbb8",
        "IPY_MODEL_60c0ecc173e04a688db923d263756539",
        "IPY_MODEL_bebb7318674b4c58a8c4e76655d0fcea"
       ],
       "layout": "IPY_MODEL_23b98caf250d46d7bf3ded0879a2b284"
      }
     },
     "6c93012858b747ee967cdb6878ea6fae": {
      "model_module": "@jupyter-widgets/controls",
      "model_module_version": "1.5.0",
      "model_name": "DescriptionStyleModel",
      "state": {
       "description_width": ""
      }
     },
     "6cec1fe73cbc48ddb3b4d732f8a7fd17": {
      "model_module": "@jupyter-widgets/base",
      "model_module_version": "1.2.0",
      "model_name": "LayoutModel",
      "state": {}
     },
     "6cf8ff552017400985c4b2617bc31d61": {
      "model_module": "@jupyter-widgets/base",
      "model_module_version": "1.2.0",
      "model_name": "LayoutModel",
      "state": {
       "border": "1px solid black"
      }
     },
     "6d1a82c653634710b23d35d54053ac14": {
      "model_module": "@jupyter-widgets/controls",
      "model_module_version": "1.5.0",
      "model_name": "HBoxModel",
      "state": {
       "children": [
        "IPY_MODEL_477387759902465cad7b6fcc8a1f781e",
        "IPY_MODEL_9cb7597d896d43b6917067c10731ccd2"
       ],
       "layout": "IPY_MODEL_deb6bf5342b941d099fcf0744e58dfb2"
      }
     },
     "6d1bbb1a19fd486aa087c1d77ea726ad": {
      "model_module": "@jupyter-widgets/base",
      "model_module_version": "1.2.0",
      "model_name": "LayoutModel",
      "state": {}
     },
     "6d370278c5594bb6b493c14f07c38c81": {
      "model_module": "@jupyter-widgets/base",
      "model_module_version": "1.2.0",
      "model_name": "LayoutModel",
      "state": {}
     },
     "6d39d6bccf4643e18a2f029b89b01ac0": {
      "model_module": "@jupyter-widgets/controls",
      "model_module_version": "1.5.0",
      "model_name": "DescriptionStyleModel",
      "state": {
       "description_width": ""
      }
     },
     "6d8556c0367f45e1b802da81285a9783": {
      "model_module": "@jupyter-widgets/base",
      "model_module_version": "1.2.0",
      "model_name": "LayoutModel",
      "state": {
       "border": "1px solid black"
      }
     },
     "6d85fc8ea59b47b98522cb649210fb2a": {
      "model_module": "@jupyter-widgets/base",
      "model_module_version": "1.2.0",
      "model_name": "LayoutModel",
      "state": {}
     },
     "6da096127d7a4a35bd819a8d18b74a59": {
      "model_module": "@jupyter-widgets/base",
      "model_module_version": "1.2.0",
      "model_name": "LayoutModel",
      "state": {}
     },
     "6dda3ea9f27f4a718ab9b69309f11efb": {
      "model_module": "@jupyter-widgets/controls",
      "model_module_version": "1.5.0",
      "model_name": "DescriptionStyleModel",
      "state": {
       "description_width": ""
      }
     },
     "6e0ba56834474a7eb6684fccb8ea8300": {
      "model_module": "@jupyter-widgets/controls",
      "model_module_version": "1.5.0",
      "model_name": "ToggleButtonsStyleModel",
      "state": {
       "button_width": "",
       "description_width": ""
      }
     },
     "6e0c56b902994fb7864f270753bd142d": {
      "model_module": "@jupyter-widgets/controls",
      "model_module_version": "1.5.0",
      "model_name": "DescriptionStyleModel",
      "state": {
       "description_width": ""
      }
     },
     "6e1ee68b55ac4d7ebebc63fa132a9599": {
      "model_module": "@jupyter-widgets/base",
      "model_module_version": "1.2.0",
      "model_name": "LayoutModel",
      "state": {}
     },
     "6e259bace8b64019a1601b792eb55423": {
      "model_module": "@jupyter-widgets/base",
      "model_module_version": "1.2.0",
      "model_name": "LayoutModel",
      "state": {}
     },
     "6eaff922387d49ba89d61106022ad621": {
      "model_module": "@jupyter-widgets/controls",
      "model_module_version": "1.5.0",
      "model_name": "TextareaModel",
      "state": {
       "description": "String:",
       "layout": "IPY_MODEL_cc94eca6b02b4a81893194f05d0b4cf1",
       "placeholder": "Type something",
       "style": "IPY_MODEL_ea9d04e53ffb4e1ab502dabdb1a09ad7",
       "value": "Hello World"
      }
     },
     "6eb65d788f994b34b8e90a85f78d83d8": {
      "model_module": "@jupyter-widgets/controls",
      "model_module_version": "1.5.0",
      "model_name": "DescriptionStyleModel",
      "state": {
       "description_width": ""
      }
     },
     "6eb9b884599640519f709ccbfbb7bebe": {
      "model_module": "@jupyter-widgets/controls",
      "model_module_version": "1.5.0",
      "model_name": "SelectionSliderModel",
      "state": {
       "_options_labels": [
        "scrambled",
        "sunny side up",
        "poached",
        "over easy"
       ],
       "continuous_update": false,
       "description": "I like my eggs …",
       "index": 1,
       "layout": "IPY_MODEL_23c5733b8dba4a5ba5166aab9dcc6e56",
       "style": "IPY_MODEL_64070e7d8cff45d3a8804f344aea9f21"
      }
     },
     "6ed266be750042a9bbd3bb30b506ff58": {
      "model_module": "@jupyter-widgets/controls",
      "model_module_version": "1.5.0",
      "model_name": "LabelModel",
      "state": {
       "layout": "IPY_MODEL_8e0245e4885440aeb7518df7a955f956",
       "style": "IPY_MODEL_58aab2eca9ee47acafdf8c2cd0f5b2bc",
       "value": "0"
      }
     },
     "6facd0a3a0a94a27b584560fe82cb02f": {
      "model_module": "@jupyter-widgets/controls",
      "model_module_version": "1.5.0",
      "model_name": "ToggleButtonModel",
      "state": {
       "description": "Click me",
       "icon": "check",
       "layout": "IPY_MODEL_b424f850771146c9889ba1fe66694f4b",
       "style": "IPY_MODEL_100992258d5b4c858b3ddfeb0c2219f4",
       "tooltip": "Description"
      }
     },
     "6fd44845767f4358ab3d6b62e461bf19": {
      "model_module": "@jupyter-widgets/base",
      "model_module_version": "1.2.0",
      "model_name": "LayoutModel",
      "state": {}
     },
     "6fe61f7d45cf4efdb9109f426d12a505": {
      "model_module": "@jupyter-widgets/controls",
      "model_module_version": "1.5.0",
      "model_name": "PlayModel",
      "state": {
       "description": "Press play",
       "layout": "IPY_MODEL_28dfd48446f7458abf9061be9036bb5b",
       "style": "IPY_MODEL_63990b777289423c8be798a45c3dc9f0",
       "value": 50
      }
     },
     "7046ce82fb35429bbb2fef496b226ca6": {
      "model_module": "@jupyter-widgets/controls",
      "model_module_version": "1.5.0",
      "model_name": "DescriptionStyleModel",
      "state": {
       "description_width": ""
      }
     },
     "706506865d9d4ee5b1ca571f46695046": {
      "model_module": "@jupyter-widgets/base",
      "model_module_version": "1.2.0",
      "model_name": "LayoutModel",
      "state": {}
     },
     "7075c1dce1fc43a1b9e227218bc4c7af": {
      "model_module": "@jupyter-widgets/controls",
      "model_module_version": "1.5.0",
      "model_name": "FloatLogSliderModel",
      "state": {
       "description": "Log Slider",
       "layout": "IPY_MODEL_6d370278c5594bb6b493c14f07c38c81",
       "max": 10,
       "min": -10,
       "step": 0.2,
       "style": "IPY_MODEL_ed36dc8137e843cd8169b83d37f4106b",
       "value": 10
      }
     },
     "70f024bb31d646568f8001996343c9ae": {
      "model_module": "@jupyter-widgets/base",
      "model_module_version": "1.2.0",
      "model_name": "LayoutModel",
      "state": {}
     },
     "71578850261b41d3b409733a3060f6d5": {
      "model_module": "@jupyter-widgets/controls",
      "model_module_version": "1.5.0",
      "model_name": "IntProgressModel",
      "state": {
       "description": "Loading:",
       "layout": "IPY_MODEL_aedfeeff56004804a881db38beda7c1f",
       "max": 10,
       "style": "IPY_MODEL_b5165e736ac94de9a54276860d20696f",
       "value": 7
      }
     },
     "718d002ea85f4ae58b69d9f581ffa7ba": {
      "model_module": "@jupyter-widgets/controls",
      "model_module_version": "1.5.0",
      "model_name": "DescriptionStyleModel",
      "state": {
       "description_width": ""
      }
     },
     "71abe68359884c38aa86dac5907be63f": {
      "model_module": "@jupyter-widgets/controls",
      "model_module_version": "1.5.0",
      "model_name": "DescriptionStyleModel",
      "state": {
       "description_width": ""
      }
     },
     "728e966a68654d9fbec7f130685438f1": {
      "model_module": "@jupyter-widgets/base",
      "model_module_version": "1.2.0",
      "model_name": "LayoutModel",
      "state": {}
     },
     "729d47e422b048a795550868cda546ba": {
      "model_module": "@jupyter-widgets/controls",
      "model_module_version": "1.5.0",
      "model_name": "TabModel",
      "state": {
       "_titles": {
        "0": "An accordion",
        "1": "Copy of the accordion"
       },
       "children": [
        "IPY_MODEL_be6a94094a6947e5ac17b179aa8178a3",
        "IPY_MODEL_be6a94094a6947e5ac17b179aa8178a3"
       ],
       "layout": "IPY_MODEL_07a452b8d83e4cf28c89cc2e4cc6e46f"
      }
     },
     "72d73eeca2e940b2a3f651a074aff2c3": {
      "model_module": "@jupyter-widgets/base",
      "model_module_version": "1.2.0",
      "model_name": "LayoutModel",
      "state": {}
     },
     "72ef13ec41ec4b139f61844c2a633e2d": {
      "model_module": "@jupyter-widgets/controls",
      "model_module_version": "1.5.0",
      "model_name": "ControllerModel",
      "state": {
       "layout": "IPY_MODEL_73d5ff9cbb9b4adba69fd77d6ef9bc1a"
      }
     },
     "732a7ba55e634bebaaf5f76097bc2670": {
      "model_module": "@jupyter-widgets/base",
      "model_module_version": "1.2.0",
      "model_name": "LayoutModel",
      "state": {}
     },
     "736254731cc448f79523b477542ea5b3": {
      "model_module": "@jupyter-widgets/controls",
      "model_module_version": "1.5.0",
      "model_name": "TextModel",
      "state": {
       "description": "P0",
       "layout": "IPY_MODEL_8d4079b48d9443b6b6e57e7abf8802cf",
       "style": "IPY_MODEL_8fe5fc528d59401f9669bec66ef1a280"
      }
     },
     "737b0c3e66c74d61b3445d7c1d62cf79": {
      "model_module": "@jupyter-widgets/controls",
      "model_module_version": "1.5.0",
      "model_name": "LabelModel",
      "state": {
       "layout": "IPY_MODEL_8c59044714c34766aa2420562ef2ea48",
       "style": "IPY_MODEL_4eb22eddda3e49eabaa1573e30bde19d",
       "value": "2"
      }
     },
     "73d5ff9cbb9b4adba69fd77d6ef9bc1a": {
      "model_module": "@jupyter-widgets/base",
      "model_module_version": "1.2.0",
      "model_name": "LayoutModel",
      "state": {}
     },
     "73e5904f69ff49ba8cadbbde22c67e83": {
      "model_module": "@jupyter-widgets/base",
      "model_module_version": "1.2.0",
      "model_name": "LayoutModel",
      "state": {}
     },
     "740385346f0a4ecfb4c9d4e7072f46bb": {
      "model_module": "@jupyter-widgets/base",
      "model_module_version": "1.2.0",
      "model_name": "LayoutModel",
      "state": {}
     },
     "740f5646ccd54773a9e640db23ba5d27": {
      "model_module": "@jupyter-widgets/controls",
      "model_module_version": "1.5.0",
      "model_name": "DescriptionStyleModel",
      "state": {
       "description_width": ""
      }
     },
     "74a759838bf34015b5b7b8ea55b8be22": {
      "model_module": "@jupyter-widgets/base",
      "model_module_version": "1.2.0",
      "model_name": "LayoutModel",
      "state": {}
     },
     "74fadb7147b641599d17715a90cf2a56": {
      "model_module": "@jupyter-widgets/controls",
      "model_module_version": "1.5.0",
      "model_name": "LabelModel",
      "state": {
       "layout": "IPY_MODEL_1339adc878e34171b06d3846be002cfd",
       "style": "IPY_MODEL_18835cb04cc54ad48f65631a091f03fc",
       "value": "2"
      }
     },
     "756654d1af6b443f979fe86ac49b67fc": {
      "model_module": "@jupyter-widgets/base",
      "model_module_version": "1.2.0",
      "model_name": "LayoutModel",
      "state": {}
     },
     "75c431a193854862a774859f5b8d5dfd": {
      "model_module": "@jupyter-widgets/controls",
      "model_module_version": "1.5.0",
      "model_name": "SelectModel",
      "state": {
       "_options_labels": [
        "Linux",
        "Windows",
        "OSX"
       ],
       "description": "OS:",
       "index": 2,
       "layout": "IPY_MODEL_e1af2a8522d34be38b2003fddf28acd9",
       "style": "IPY_MODEL_ea1bf647bcf24c4b88d55365f436db22"
      }
     },
     "75d74406554d4cb586163211658533b2": {
      "model_module": "@jupyter-widgets/base",
      "model_module_version": "1.2.0",
      "model_name": "LayoutModel",
      "state": {}
     },
     "75ea312a507f4688b8ae36d4a821baec": {
      "model_module": "@jupyter-widgets/base",
      "model_module_version": "1.2.0",
      "model_name": "LayoutModel",
      "state": {}
     },
     "760b3178bcb047379119a7e3036ed9ec": {
      "model_module": "@jupyter-widgets/controls",
      "model_module_version": "1.5.0",
      "model_name": "SliderStyleModel",
      "state": {
       "description_width": ""
      }
     },
     "768b27ff637d4e3ea0303f4f905dbc78": {
      "model_module": "@jupyter-widgets/controls",
      "model_module_version": "1.5.0",
      "model_name": "TextModel",
      "state": {
       "description": "P4",
       "layout": "IPY_MODEL_1a45ca0070694e06a318716f4cfb177d",
       "style": "IPY_MODEL_76a5506b80894d3ea189f0ca5c9b84bb"
      }
     },
     "76a5506b80894d3ea189f0ca5c9b84bb": {
      "model_module": "@jupyter-widgets/controls",
      "model_module_version": "1.5.0",
      "model_name": "DescriptionStyleModel",
      "state": {
       "description_width": ""
      }
     },
     "76ef01f6c73949d2b719308dd9695384": {
      "model_module": "@jupyter-widgets/base",
      "model_module_version": "1.2.0",
      "model_name": "LayoutModel",
      "state": {}
     },
     "770d1a37ea5e4532926fea608ac86752": {
      "model_module": "@jupyter-widgets/base",
      "model_module_version": "1.2.0",
      "model_name": "LayoutModel",
      "state": {}
     },
     "772827ba6e804b9bb49ec3b3faa715b9": {
      "model_module": "@jupyter-widgets/controls",
      "model_module_version": "1.5.0",
      "model_name": "HTMLMathModel",
      "state": {
       "description": "Some HTML",
       "layout": "IPY_MODEL_671a115617dc44c5a348acd8bd4affec",
       "placeholder": "Some HTML",
       "style": "IPY_MODEL_b0656bcb525d43968e0ec50ef0f29ce7",
       "value": "Some math and <i>HTML</i>: \\(x^2\\) and $$\\frac{x+1}{x-1}$$"
      }
     },
     "772e3717936c46fb83c25f1acc103c67": {
      "model_module": "@jupyter-widgets/base",
      "model_module_version": "1.2.0",
      "model_name": "LayoutModel",
      "state": {}
     },
     "772f99bd9b6e403cb60564c91a805524": {
      "model_module": "@jupyter-widgets/base",
      "model_module_version": "1.2.0",
      "model_name": "LayoutModel",
      "state": {}
     },
     "7735e2e33f7c4d5992e800561908078b": {
      "model_module": "@jupyter-widgets/controls",
      "model_module_version": "1.5.0",
      "model_name": "ButtonModel",
      "state": {
       "description": "Click me",
       "icon": "check",
       "layout": "IPY_MODEL_ed0ed43f83b84afabc4f2d2a0497e1ac",
       "style": "IPY_MODEL_068592fc4eb94134a8f37659e85080bd",
       "tooltip": "Click me"
      }
     },
     "77466eb46bbe449db481bb1a5400484e": {
      "model_module": "@jupyter-widgets/controls",
      "model_module_version": "1.5.0",
      "model_name": "TabModel",
      "state": {
       "_titles": {
        "0": "An accordion",
        "1": "Copy of the accordion"
       },
       "children": [
        "IPY_MODEL_2b53aaf6b28448bcaf7f723e22369dd4",
        "IPY_MODEL_2b53aaf6b28448bcaf7f723e22369dd4"
       ],
       "layout": "IPY_MODEL_2d95f83f083e4a9baad255e79baf77d4"
      }
     },
     "77d130a379ae49509c9a962cfaeb4dc4": {
      "model_module": "@jupyter-widgets/controls",
      "model_module_version": "1.5.0",
      "model_name": "HTMLModel",
      "state": {
       "description": "Some HTML",
       "layout": "IPY_MODEL_756654d1af6b443f979fe86ac49b67fc",
       "placeholder": "Some HTML",
       "style": "IPY_MODEL_048554c6a3b0437fbc9ec49c568fcee4",
       "value": "Hello <b>World</b>"
      }
     },
     "78407b9a8f3044eb8d8991bbadd1ebc9": {
      "model_module": "@jupyter-widgets/base",
      "model_module_version": "1.2.0",
      "model_name": "LayoutModel",
      "state": {
       "border": "1px solid black"
      }
     },
     "78df5a4fc9e545478baed814e2908b5d": {
      "model_module": "@jupyter-widgets/base",
      "model_module_version": "1.2.0",
      "model_name": "LayoutModel",
      "state": {
       "border": "1px solid black"
      }
     },
     "79056e72003b41c59a425ebad84e8514": {
      "model_module": "@jupyter-widgets/controls",
      "model_module_version": "1.5.0",
      "model_name": "HTMLMathModel",
      "state": {
       "description": "Some HTML",
       "layout": "IPY_MODEL_af3371713dcc4ed6a47f046119bfb55b",
       "placeholder": "Some HTML",
       "style": "IPY_MODEL_9077029efbb2441da176dde83cb42398",
       "value": "Some math and <i>HTML</i>: \\(x^2\\) and $$\\frac{x+1}{x-1}$$"
      }
     },
     "7907dafc20ee4476818f1a18f1bcfb74": {
      "model_module": "@jupyter-widgets/controls",
      "model_module_version": "1.5.0",
      "model_name": "SelectionSliderModel",
      "state": {
       "_options_labels": [
        "scrambled",
        "sunny side up",
        "poached",
        "over easy"
       ],
       "continuous_update": false,
       "description": "I like my eggs …",
       "index": 1,
       "layout": "IPY_MODEL_eb4212cced0d468b991569c099daef1b",
       "style": "IPY_MODEL_d378f3b3f5f54c209927b397b5f6434a"
      }
     },
     "79c7fa30c8764ad7bca71b3e74a76ad3": {
      "model_module": "@jupyter-widgets/controls",
      "model_module_version": "1.5.0",
      "model_name": "ToggleButtonsModel",
      "state": {
       "_options_labels": [
        "Slow",
        "Regular",
        "Fast"
       ],
       "button_style": "",
       "description": "Speed:",
       "icons": [],
       "index": 0,
       "layout": "IPY_MODEL_7d76af22b7a14d6ea1e192e709328fb7",
       "style": "IPY_MODEL_ed4a3a48f6f647f8be3c43a92506382c",
       "tooltips": [
        "Description of slow",
        "Description of regular",
        "Description of fast"
       ]
      }
     },
     "7a6e38ba91d84f8fb0b056c53509fbbd": {
      "model_module": "@jupyter-widgets/controls",
      "model_module_version": "1.5.0",
      "model_name": "DescriptionStyleModel",
      "state": {
       "description_width": ""
      }
     },
     "7ab6d2c07b654380b96989569fa08739": {
      "model_module": "@jupyter-widgets/controls",
      "model_module_version": "1.5.0",
      "model_name": "SelectModel",
      "state": {
       "_options_labels": [
        "Linux",
        "Windows",
        "OSX"
       ],
       "description": "OS:",
       "index": 2,
       "layout": "IPY_MODEL_ebfa698098844400a724c95429b69f44",
       "style": "IPY_MODEL_718d002ea85f4ae58b69d9f581ffa7ba"
      }
     },
     "7ac271ca07fb41588bf0d042a35ee970": {
      "model_module": "@jupyter-widgets/controls",
      "model_module_version": "1.5.0",
      "model_name": "RadioButtonsModel",
      "state": {
       "_options_labels": [
        "pepperoni",
        "pineapple",
        "anchovies"
       ],
       "description": "Pizza topping:",
       "index": 0,
       "layout": "IPY_MODEL_4dd4cabd0790417f85faa832314c6a4f",
       "style": "IPY_MODEL_e2f541f278f84c7dadf3277926b08c62"
      }
     },
     "7b1c7f27f72248658a524cd6d47202aa": {
      "model_module": "@jupyter-widgets/controls",
      "model_module_version": "1.5.0",
      "model_name": "LabelModel",
      "state": {
       "layout": "IPY_MODEL_9d903a000eef47d6863f022bc6f16ef2",
       "style": "IPY_MODEL_cd23e97927d14be49c3effadd729704f",
       "value": "0"
      }
     },
     "7b33f8a0077d443a9a8a65455a63716d": {
      "model_module": "@jupyter-widgets/controls",
      "model_module_version": "1.5.0",
      "model_name": "ProgressStyleModel",
      "state": {
       "description_width": ""
      }
     },
     "7b3fa54479044aa88bbb225c5d50753e": {
      "model_module": "@jupyter-widgets/controls",
      "model_module_version": "1.5.0",
      "model_name": "IntProgressModel",
      "state": {
       "description": "Loading:",
       "layout": "IPY_MODEL_18da7b7e4b4d4e418cc828e227b27ded",
       "max": 10,
       "style": "IPY_MODEL_ac58f66728de451da0cb43c346a46513",
       "value": 7
      }
     },
     "7b53a76f13984d668186cd1be13d0270": {
      "model_module": "@jupyter-widgets/controls",
      "model_module_version": "1.5.0",
      "model_name": "DescriptionStyleModel",
      "state": {
       "description_width": ""
      }
     },
     "7b7f96526b894ad9ba378b815d19a909": {
      "model_module": "@jupyter-widgets/controls",
      "model_module_version": "1.5.0",
      "model_name": "FloatSliderModel",
      "state": {
       "layout": "IPY_MODEL_99e2f2395e134803b993931be84509a0",
       "step": 0.1,
       "style": "IPY_MODEL_59aef2d32ed84030899380499f898077"
      }
     },
     "7b93969a3a1d489d8609299475db7ec5": {
      "model_module": "@jupyter-widgets/base",
      "model_module_version": "1.2.0",
      "model_name": "LayoutModel",
      "state": {}
     },
     "7ba77fc4d02645dc860d485602dc7462": {
      "model_module": "@jupyter-widgets/controls",
      "model_module_version": "1.5.0",
      "model_name": "SliderStyleModel",
      "state": {
       "description_width": ""
      }
     },
     "7bb78c9be44a4b0fa0365cdc26065f8a": {
      "model_module": "@jupyter-widgets/base",
      "model_module_version": "1.2.0",
      "model_name": "LayoutModel",
      "state": {}
     },
     "7be42ad666a14430b69c7ab87fa9e31d": {
      "model_module": "@jupyter-widgets/controls",
      "model_module_version": "1.5.0",
      "model_name": "IntSliderModel",
      "state": {
       "layout": "IPY_MODEL_4ee20d992a50493ca0fb58f59f335a59",
       "style": "IPY_MODEL_fcdc7f2e4bb54cdfb7b700661a950dcb"
      }
     },
     "7c138e8721d44334b252e1e6783de0f6": {
      "model_module": "@jupyter-widgets/controls",
      "model_module_version": "1.5.0",
      "model_name": "ToggleButtonsStyleModel",
      "state": {
       "button_width": "",
       "description_width": ""
      }
     },
     "7c2e935e1b574302a264f4821fa1f318": {
      "model_module": "@jupyter-widgets/base",
      "model_module_version": "1.2.0",
      "model_name": "LayoutModel",
      "state": {}
     },
     "7c63441fa7fd4379a80a7a60e1fea3ff": {
      "model_module": "@jupyter-widgets/controls",
      "model_module_version": "1.5.0",
      "model_name": "VBoxModel",
      "state": {
       "children": [
        "IPY_MODEL_b60b735061854bbb9c43b7d61b34c3ad",
        "IPY_MODEL_ff276c10ca4f466b9d33b3f37ec28e7a"
       ],
       "layout": "IPY_MODEL_ddbe3e7c4b4d4fe199f5c24d9a5d23f5"
      }
     },
     "7cafd6fb335e4a218b91623c4dbfefac": {
      "model_module": "@jupyter-widgets/base",
      "model_module_version": "1.2.0",
      "model_name": "LayoutModel",
      "state": {}
     },
     "7cb1efe05c4f44f4a6528fa60fff5ba5": {
      "model_module": "@jupyter-widgets/base",
      "model_module_version": "1.2.0",
      "model_name": "LayoutModel",
      "state": {}
     },
     "7d095bbf8ff24bb68e5b651f63d122e4": {
      "model_module": "@jupyter-widgets/controls",
      "model_module_version": "1.5.0",
      "model_name": "TextModel",
      "state": {
       "description": "String:",
       "layout": "IPY_MODEL_b346ece6102e4eff9bc43ef5f6a17763",
       "placeholder": "Type something",
       "style": "IPY_MODEL_d3828b4e55ab48208067cf2fb87e9e19",
       "value": "Hello World"
      }
     },
     "7d2cc894fd524919aefc9ac39d67a32f": {
      "model_module": "@jupyter-widgets/controls",
      "model_module_version": "1.5.0",
      "model_name": "ToggleButtonsModel",
      "state": {
       "_options_labels": [
        "Slow",
        "Regular",
        "Fast"
       ],
       "button_style": "",
       "description": "Speed:",
       "icons": [],
       "index": 0,
       "layout": "IPY_MODEL_4f4f91fc49944696a323c4f11684ce09",
       "style": "IPY_MODEL_d7ab6c6295234d8eb514e630c8142b88",
       "tooltips": [
        "Description of slow",
        "Description of regular",
        "Description of fast"
       ]
      }
     },
     "7d76af22b7a14d6ea1e192e709328fb7": {
      "model_module": "@jupyter-widgets/base",
      "model_module_version": "1.2.0",
      "model_name": "LayoutModel",
      "state": {}
     },
     "7dbf0c22beb94f96a562db0024f29bd2": {
      "model_module": "@jupyter-widgets/controls",
      "model_module_version": "1.5.0",
      "model_name": "DescriptionStyleModel",
      "state": {
       "description_width": ""
      }
     },
     "7dc27646d719412b9727bfbdd988b9fb": {
      "model_module": "@jupyter-widgets/controls",
      "model_module_version": "1.5.0",
      "model_name": "DescriptionStyleModel",
      "state": {
       "description_width": ""
      }
     },
     "7df4e43cd7f849fc97a358ceeb87b6ae": {
      "model_module": "@jupyter-widgets/controls",
      "model_module_version": "1.5.0",
      "model_name": "DescriptionStyleModel",
      "state": {
       "description_width": ""
      }
     },
     "7e14d563ddc04232a57c214c04e74478": {
      "model_module": "@jupyter-widgets/controls",
      "model_module_version": "1.5.0",
      "model_name": "PlayModel",
      "state": {
       "description": "Press play",
       "layout": "IPY_MODEL_0723aa09e91d41659991dc25c91407cb",
       "style": "IPY_MODEL_5bed77931a69458496a23de63db7df26",
       "value": 50
      }
     },
     "7e4cc27321b746fbb06f54826d41498b": {
      "model_module": "@jupyter-widgets/controls",
      "model_module_version": "1.5.0",
      "model_name": "DescriptionStyleModel",
      "state": {
       "description_width": ""
      }
     },
     "7e631b7decf74bda873e60f6aeed5aba": {
      "model_module": "@jupyter-widgets/controls",
      "model_module_version": "1.5.0",
      "model_name": "DescriptionStyleModel",
      "state": {
       "description_width": ""
      }
     },
     "7ef5939aee544a3c96caac9a78ac6c3c": {
      "model_module": "@jupyter-widgets/controls",
      "model_module_version": "1.5.0",
      "model_name": "DescriptionStyleModel",
      "state": {
       "description_width": ""
      }
     },
     "7f53719fd13f47bdaad9000066aaf58d": {
      "model_module": "@jupyter-widgets/base",
      "model_module_version": "1.2.0",
      "model_name": "LayoutModel",
      "state": {}
     },
     "7ffa905060ca4caa87bc0ae660393941": {
      "model_module": "@jupyter-widgets/base",
      "model_module_version": "1.2.0",
      "model_name": "LayoutModel",
      "state": {}
     },
     "8086237a17b144fda19015ee1cfa7f57": {
      "model_module": "@jupyter-widgets/base",
      "model_module_version": "1.2.0",
      "model_name": "LayoutModel",
      "state": {}
     },
     "81273e9a4e4741a3a4418ff95b68de5f": {
      "model_module": "@jupyter-widgets/base",
      "model_module_version": "1.2.0",
      "model_name": "LayoutModel",
      "state": {}
     },
     "8165cef524794487a2490a73ac920e64": {
      "model_module": "@jupyter-widgets/controls",
      "model_module_version": "1.5.0",
      "model_name": "ButtonStyleModel",
      "state": {}
     },
     "8175efc247af47ddbf743d841414ccc8": {
      "model_module": "@jupyter-widgets/controls",
      "model_module_version": "1.5.0",
      "model_name": "CheckboxModel",
      "state": {
       "description": "Check me",
       "disabled": false,
       "layout": "IPY_MODEL_03bec9e0d1c341beaa4d523a538c0dd2",
       "style": "IPY_MODEL_a1513a052f4b4eb9b350ba2b5e414363",
       "value": false
      }
     },
     "8209614f010f4efb9edb7ebe6fc22f08": {
      "model_module": "@jupyter-widgets/controls",
      "model_module_version": "1.5.0",
      "model_name": "SelectionSliderModel",
      "state": {
       "_options_labels": [
        "scrambled",
        "sunny side up",
        "poached",
        "over easy"
       ],
       "continuous_update": false,
       "description": "I like my eggs …",
       "index": 1,
       "layout": "IPY_MODEL_c5f63d987fcd43d48800789b86f714ba",
       "style": "IPY_MODEL_afa5f3b4cd4d4355954a89388956c240"
      }
     },
     "822f2f86a2514333a3588ebbfa72a276": {
      "model_module": "@jupyter-widgets/controls",
      "model_module_version": "1.5.0",
      "model_name": "DescriptionStyleModel",
      "state": {
       "description_width": ""
      }
     },
     "825ccb63ce50473091cdc2f881d1044e": {
      "model_module": "@jupyter-widgets/controls",
      "model_module_version": "1.5.0",
      "model_name": "DescriptionStyleModel",
      "state": {
       "description_width": ""
      }
     },
     "8298c492644141b896b7bcf7ae32844e": {
      "model_module": "@jupyter-widgets/base",
      "model_module_version": "1.2.0",
      "model_name": "LayoutModel",
      "state": {}
     },
     "829b512f0b0d4510a0d3dc7bf5cb1df6": {
      "model_module": "@jupyter-widgets/controls",
      "model_module_version": "1.5.0",
      "model_name": "DescriptionStyleModel",
      "state": {
       "description_width": ""
      }
     },
     "82e4adafa6204276b77429d84394474a": {
      "model_module": "@jupyter-widgets/controls",
      "model_module_version": "1.5.0",
      "model_name": "AccordionModel",
      "state": {
       "_titles": {
        "0": "Slider",
        "1": "Text"
       },
       "children": [
        "IPY_MODEL_90ad7b31c5de4c25aa911eb7efb24802",
        "IPY_MODEL_c134a0ebe2bc44a78906c22caf9f8481"
       ],
       "layout": "IPY_MODEL_772e3717936c46fb83c25f1acc103c67",
       "selected_index": null
      }
     },
     "82f8e6e147fc44cc985357da0dd4fac5": {
      "model_module": "@jupyter-widgets/controls",
      "model_module_version": "1.5.0",
      "model_name": "SelectModel",
      "state": {
       "_options_labels": [
        "Linux",
        "Windows",
        "OSX"
       ],
       "description": "OS:",
       "index": 2,
       "layout": "IPY_MODEL_67828c0b8a8c4726b588bc7ce38e945a",
       "style": "IPY_MODEL_58af0d8a099748768dddbf4d70a4bb0e"
      }
     },
     "83476d617bf1451a8def2bb7547e26df": {
      "model_module": "@jupyter-widgets/controls",
      "model_module_version": "1.5.0",
      "model_name": "DescriptionStyleModel",
      "state": {
       "description_width": ""
      }
     },
     "83833b1c51674e7583eb527d529c35ac": {
      "model_module": "@jupyter-widgets/base",
      "model_module_version": "1.2.0",
      "model_name": "LayoutModel",
      "state": {}
     },
     "83e0f3581e3841bd87e52db8ded5fc0b": {
      "model_module": "@jupyter-widgets/controls",
      "model_module_version": "1.5.0",
      "model_name": "ControllerModel",
      "state": {
       "layout": "IPY_MODEL_c157b9a19dbe4f4b8524aa2de365a88d"
      }
     },
     "84058363b2cf4a659a3681b3a662ee20": {
      "model_module": "@jupyter-widgets/controls",
      "model_module_version": "1.5.0",
      "model_name": "DescriptionStyleModel",
      "state": {
       "description_width": ""
      }
     },
     "840c243a18354447bced0da924753e0b": {
      "model_module": "@jupyter-widgets/base",
      "model_module_version": "1.2.0",
      "model_name": "LayoutModel",
      "state": {}
     },
     "845bcde0f9344337a321f44b17e78f24": {
      "model_module": "@jupyter-widgets/controls",
      "model_module_version": "1.5.0",
      "model_name": "DescriptionStyleModel",
      "state": {
       "description_width": ""
      }
     },
     "84b8048c55ae417c82042e2148d0d264": {
      "model_module": "@jupyter-widgets/base",
      "model_module_version": "1.2.0",
      "model_name": "LayoutModel",
      "state": {}
     },
     "84cf7da951284c43b3fed92ba00886f2": {
      "model_module": "@jupyter-widgets/base",
      "model_module_version": "1.2.0",
      "model_name": "LayoutModel",
      "state": {}
     },
     "8510f5a2dde0416e81e51a5a5f23df5d": {
      "model_module": "@jupyter-widgets/base",
      "model_module_version": "1.2.0",
      "model_name": "LayoutModel",
      "state": {}
     },
     "85c8e327bbca41b6b97cd9f9c0a5dd5a": {
      "model_module": "@jupyter-widgets/base",
      "model_module_version": "1.2.0",
      "model_name": "LayoutModel",
      "state": {}
     },
     "85cafb8a2c4b445680395a6fd1f59eae": {
      "model_module": "@jupyter-widgets/controls",
      "model_module_version": "1.5.0",
      "model_name": "DescriptionStyleModel",
      "state": {
       "description_width": ""
      }
     },
     "85cc84ee2d214c08a59f8edd374d2205": {
      "model_module": "@jupyter-widgets/controls",
      "model_module_version": "1.5.0",
      "model_name": "LabelModel",
      "state": {
       "layout": "IPY_MODEL_1ad104ccf38e4660b444198037680251",
       "style": "IPY_MODEL_822f2f86a2514333a3588ebbfa72a276",
       "value": "3"
      }
     },
     "85dc0683217f496f9c20d3b012502545": {
      "model_module": "@jupyter-widgets/base",
      "model_module_version": "1.2.0",
      "model_name": "LayoutModel",
      "state": {}
     },
     "85f493d6ae8142feb47c958c0e4f93e0": {
      "model_module": "@jupyter-widgets/controls",
      "model_module_version": "1.5.0",
      "model_name": "HBoxModel",
      "state": {
       "children": [
        "IPY_MODEL_cd59d70a8ed644a6a7f7f9b23edbd8b5",
        "IPY_MODEL_aa98c747248e4896bce6a3063fa67a8d"
       ],
       "layout": "IPY_MODEL_2f04f625aa0c4830ae8a5b88decc57b6"
      }
     },
     "85fd413afc1a4425bf66bafe2ca12180": {
      "model_module": "@jupyter-widgets/controls",
      "model_module_version": "1.5.0",
      "model_name": "TextModel",
      "state": {
       "description": "P0",
       "layout": "IPY_MODEL_8510f5a2dde0416e81e51a5a5f23df5d",
       "style": "IPY_MODEL_b20efa1121eb46389a048f6540a9fc61"
      }
     },
     "86689e18897c401e9e5e481eb1066cdc": {
      "model_module": "@jupyter-widgets/controls",
      "model_module_version": "1.5.0",
      "model_name": "DropdownModel",
      "state": {
       "_options_labels": [
        "1",
        "2",
        "3"
       ],
       "description": "Number:",
       "index": 1,
       "layout": "IPY_MODEL_73e5904f69ff49ba8cadbbde22c67e83",
       "style": "IPY_MODEL_872cdffee85743d8bf2367ca60107e86"
      }
     },
     "86c09fc773af421492323f23e56bfe38": {
      "model_module": "@jupyter-widgets/controls",
      "model_module_version": "1.5.0",
      "model_name": "TabModel",
      "state": {
       "_titles": {
        "0": "0",
        "1": "1",
        "2": "2",
        "3": "3",
        "4": "4"
       },
       "children": [
        "IPY_MODEL_f968c646ab1d489898887865f9c0d641",
        "IPY_MODEL_dfc48a476d434ed48e0e7967edf3d7cb",
        "IPY_MODEL_9643009711134edf88120825da6c8c67",
        "IPY_MODEL_557366ebc4044bd2a79b99f4fdd181b3",
        "IPY_MODEL_9456568c43704887909e8c17281b3264"
       ],
       "layout": "IPY_MODEL_9113db19dd574764a29b5b2c56746f9a",
       "selected_index": 3
      }
     },
     "8705b94db0774f65854abb321d575ea5": {
      "model_module": "@jupyter-widgets/controls",
      "model_module_version": "1.5.0",
      "model_name": "DescriptionStyleModel",
      "state": {
       "description_width": ""
      }
     },
     "872cdffee85743d8bf2367ca60107e86": {
      "model_module": "@jupyter-widgets/controls",
      "model_module_version": "1.5.0",
      "model_name": "DescriptionStyleModel",
      "state": {
       "description_width": ""
      }
     },
     "87a51af2bfc44bb7b542ab117a2aca55": {
      "model_module": "@jupyter-widgets/base",
      "model_module_version": "1.2.0",
      "model_name": "LayoutModel",
      "state": {}
     },
     "87e6c70df55b443186eb1f9834c91b9d": {
      "model_module": "@jupyter-widgets/controls",
      "model_module_version": "1.5.0",
      "model_name": "RadioButtonsModel",
      "state": {
       "_options_labels": [
        "pepperoni",
        "pineapple",
        "anchovies"
       ],
       "description": "Pizza topping:",
       "index": 0,
       "layout": "IPY_MODEL_39192f09d6d04593b84feed2f78a63b2",
       "style": "IPY_MODEL_aa474109f51f4124be3c58124215b4bc"
      }
     },
     "880d4c8b9a3749868ea3c7f080975e44": {
      "model_module": "@jupyter-widgets/base",
      "model_module_version": "1.2.0",
      "model_name": "LayoutModel",
      "state": {}
     },
     "885be146f1a546999ee9ea54ce54843e": {
      "model_module": "@jupyter-widgets/controls",
      "model_module_version": "1.5.0",
      "model_name": "DescriptionStyleModel",
      "state": {
       "description_width": ""
      }
     },
     "887bad15d94c43c4a2d52d8fb31cb57d": {
      "model_module": "@jupyter-widgets/base",
      "model_module_version": "1.2.0",
      "model_name": "LayoutModel",
      "state": {}
     },
     "89332fb15c8949e8a7822517ca35e0c4": {
      "buffers": [
       {
        "data": "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",
        "encoding": "base64",
        "path": [
         "value"
        ]
       }
      ],
      "model_module": "@jupyter-widgets/controls",
      "model_module_version": "1.5.0",
      "model_name": "ImageModel",
      "state": {
       "height": "400",
       "layout": "IPY_MODEL_4b7aa86ab2c2433b92c6ea6415e3366e",
       "width": "300"
      }
     },
     "8963f47ff7944cb7a716ce98b1ad570f": {
      "model_module": "@jupyter-widgets/controls",
      "model_module_version": "1.5.0",
      "model_name": "LabelModel",
      "state": {
       "layout": "IPY_MODEL_2a0bba9a52d4456095061dd7dd2a6bc3",
       "style": "IPY_MODEL_9b4928e6d7ae485596ade8174ab335e3",
       "value": "3"
      }
     },
     "89871f5ef1714acf9e1de562c2cd26c7": {
      "model_module": "@jupyter-widgets/controls",
      "model_module_version": "1.5.0",
      "model_name": "DescriptionStyleModel",
      "state": {
       "description_width": ""
      }
     },
     "8a07a34cc1bd41a3ae5fad11f83cce35": {
      "model_module": "@jupyter-widgets/controls",
      "model_module_version": "1.5.0",
      "model_name": "TabModel",
      "state": {
       "_titles": {
        "0": "0",
        "1": "1",
        "2": "2",
        "3": "3",
        "4": "4"
       },
       "children": [
        "IPY_MODEL_9795c04789af4a1f8c20e2338a4f0890",
        "IPY_MODEL_b31923febce744f68b84f65af7e20b8e",
        "IPY_MODEL_57a8eec1969a49e8b40f3c9a9e5a81f6",
        "IPY_MODEL_57314866c9e349a780e15c62cf4d3722",
        "IPY_MODEL_768b27ff637d4e3ea0303f4f905dbc78"
       ],
       "layout": "IPY_MODEL_f8b362aa63644de79ef16d55ccfcea51",
       "selected_index": 3
      }
     },
     "8a1642a61aef402fb29ff225a76fced5": {
      "model_module": "@jupyter-widgets/base",
      "model_module_version": "1.2.0",
      "model_name": "LayoutModel",
      "state": {}
     },
     "8a31738d44f4487ca439f2b235274ec7": {
      "model_module": "@jupyter-widgets/controls",
      "model_module_version": "1.5.0",
      "model_name": "ButtonStyleModel",
      "state": {}
     },
     "8af85760a61449dcb09747e9f3709196": {
      "model_module": "@jupyter-widgets/controls",
      "model_module_version": "1.5.0",
      "model_name": "DatePickerModel",
      "state": {
       "description": "Pick a Date",
       "disabled": false,
       "layout": "IPY_MODEL_f1eda5a6dada4c2b8bd1eb334b99e597",
       "style": "IPY_MODEL_92a722893aad4234a74cf116b2c3062a"
      }
     },
     "8b3cd94a832d47ba9be2bb6af674f583": {
      "model_module": "@jupyter-widgets/base",
      "model_module_version": "1.2.0",
      "model_name": "LayoutModel",
      "state": {}
     },
     "8b9936dbb8c54bfc9962f576a681de59": {
      "model_module": "@jupyter-widgets/controls",
      "model_module_version": "1.5.0",
      "model_name": "BoundedIntTextModel",
      "state": {
       "description": "Text:",
       "layout": "IPY_MODEL_d0dabe17ca464dcbaf77da5340e49c86",
       "max": 10,
       "style": "IPY_MODEL_134b4df5890945769d11eab9f8338dde",
       "value": 7
      }
     },
     "8c0b588480194b7890a8cf40b8a72438": {
      "model_module": "@jupyter-widgets/controls",
      "model_module_version": "1.5.0",
      "model_name": "DescriptionStyleModel",
      "state": {
       "description_width": ""
      }
     },
     "8c49df443daf41c795c82ecee1533248": {
      "model_module": "@jupyter-widgets/base",
      "model_module_version": "1.2.0",
      "model_name": "LayoutModel",
      "state": {}
     },
     "8c59044714c34766aa2420562ef2ea48": {
      "model_module": "@jupyter-widgets/base",
      "model_module_version": "1.2.0",
      "model_name": "LayoutModel",
      "state": {}
     },
     "8cabdd9ea75a455baa620ec1dc69cce3": {
      "model_module": "@jupyter-widgets/base",
      "model_module_version": "1.2.0",
      "model_name": "LayoutModel",
      "state": {
       "border": "1px solid black"
      }
     },
     "8d0089a7daf34f3eb6e4fe0162b3fb81": {
      "model_module": "@jupyter-widgets/controls",
      "model_module_version": "1.5.0",
      "model_name": "DescriptionStyleModel",
      "state": {
       "description_width": ""
      }
     },
     "8d4079b48d9443b6b6e57e7abf8802cf": {
      "model_module": "@jupyter-widgets/base",
      "model_module_version": "1.2.0",
      "model_name": "LayoutModel",
      "state": {}
     },
     "8d6f4de8c3464cbf9ba43a102f9ee070": {
      "model_module": "@jupyter-widgets/base",
      "model_module_version": "1.2.0",
      "model_name": "LayoutModel",
      "state": {}
     },
     "8d8e49a54f0e4c71a157cbb1b3a1a809": {
      "model_module": "@jupyter-widgets/controls",
      "model_module_version": "1.5.0",
      "model_name": "LabelModel",
      "state": {
       "layout": "IPY_MODEL_772f99bd9b6e403cb60564c91a805524",
       "style": "IPY_MODEL_ba44a06c176a41b0b4bb3613f58f4482",
       "value": "3"
      }
     },
     "8da1c9244a1640f99173817acac726d0": {
      "model_module": "@jupyter-widgets/controls",
      "model_module_version": "1.5.0",
      "model_name": "BoundedIntTextModel",
      "state": {
       "description": "Text:",
       "layout": "IPY_MODEL_f45cb407d27b433e87063971fab58354",
       "max": 10,
       "style": "IPY_MODEL_1a6c6dad47304ea3b7b26137172c94ba",
       "value": 7
      }
     },
     "8e0245e4885440aeb7518df7a955f956": {
      "model_module": "@jupyter-widgets/base",
      "model_module_version": "1.2.0",
      "model_name": "LayoutModel",
      "state": {}
     },
     "8e043f259426425f99a56b3dc6672d6b": {
      "model_module": "@jupyter-widgets/controls",
      "model_module_version": "1.5.0",
      "model_name": "SelectionRangeSliderModel",
      "state": {
       "_model_name": "SelectionRangeSliderModel",
       "_options_labels": [
        "Jan",
        "Feb",
        "Mar",
        "Apr",
        "May",
        "Jun",
        "Jul",
        "Aug",
        "Sep",
        "Oct",
        "Nov",
        "Dec"
       ],
       "_view_name": "SelectionRangeSliderView",
       "description": "Months (2015)",
       "index": [
        0,
        11
       ],
       "layout": "IPY_MODEL_318811d1979945dba762a8c2e2e01829",
       "style": "IPY_MODEL_4f0637f02e664b93b4a68d5396c89f1d"
      }
     },
     "8e165a5c463e4bc1b084a09740d41c95": {
      "model_module": "@jupyter-widgets/controls",
      "model_module_version": "1.5.0",
      "model_name": "HTMLModel",
      "state": {
       "description": "Some HTML",
       "layout": "IPY_MODEL_a826aded281c429fbcd8c270b2745eb6",
       "placeholder": "Some HTML",
       "style": "IPY_MODEL_99fb9cfb84894b0c9ffa8fcb4ffddbbe",
       "value": "Hello <b>World</b>"
      }
     },
     "8ead03a4cc5e4898ab00e4c3addc824a": {
      "model_module": "@jupyter-widgets/controls",
      "model_module_version": "1.5.0",
      "model_name": "SliderStyleModel",
      "state": {
       "description_width": ""
      }
     },
     "8ebb02122e8c4c67be3103f6ef1793b8": {
      "model_module": "@jupyter-widgets/controls",
      "model_module_version": "1.5.0",
      "model_name": "FloatTextModel",
      "state": {
       "description": "Any:",
       "layout": "IPY_MODEL_4086f9cabac34bbd9dcdf28b4bc51e3e",
       "step": null,
       "style": "IPY_MODEL_26dab9e09a4b4e00bc2efacefb7966c6",
       "value": 7.5
      }
     },
     "8f018ae70514455b989e30e9c492fdb3": {
      "model_module": "@jupyter-widgets/base",
      "model_module_version": "1.2.0",
      "model_name": "LayoutModel",
      "state": {}
     },
     "8f0e0f1e56c0454195afab370a679c4d": {
      "model_module": "@jupyter-widgets/controls",
      "model_module_version": "1.5.0",
      "model_name": "SliderStyleModel",
      "state": {
       "description_width": ""
      }
     },
     "8fc73a13add0416aacad4d4dbee2f43c": {
      "model_module": "@jupyter-widgets/controls",
      "model_module_version": "1.5.0",
      "model_name": "CheckboxModel",
      "state": {
       "description": "Check me",
       "disabled": false,
       "layout": "IPY_MODEL_b3c84b491fb94685bee50f59268d5c83",
       "style": "IPY_MODEL_a5bd0d89debe49e981af0d466958816c",
       "value": false
      }
     },
     "8fc9dbb38ff14c749a2ce10303f8a98d": {
      "model_module": "@jupyter-widgets/base",
      "model_module_version": "1.2.0",
      "model_name": "LayoutModel",
      "state": {}
     },
     "8fe5fc528d59401f9669bec66ef1a280": {
      "model_module": "@jupyter-widgets/controls",
      "model_module_version": "1.5.0",
      "model_name": "DescriptionStyleModel",
      "state": {
       "description_width": ""
      }
     },
     "8ffb21ee4f41497e8886763c91833062": {
      "model_module": "@jupyter-widgets/controls",
      "model_module_version": "1.5.0",
      "model_name": "DescriptionStyleModel",
      "state": {
       "description_width": ""
      }
     },
     "902073e36faf4bdc99450a63d503bd18": {
      "model_module": "@jupyter-widgets/controls",
      "model_module_version": "1.5.0",
      "model_name": "ProgressStyleModel",
      "state": {
       "description_width": ""
      }
     },
     "907374a9b5d34e1ea677a457ff247544": {
      "model_module": "@jupyter-widgets/base",
      "model_module_version": "1.2.0",
      "model_name": "LayoutModel",
      "state": {}
     },
     "9077029efbb2441da176dde83cb42398": {
      "model_module": "@jupyter-widgets/controls",
      "model_module_version": "1.5.0",
      "model_name": "DescriptionStyleModel",
      "state": {
       "description_width": ""
      }
     },
     "90ad7b31c5de4c25aa911eb7efb24802": {
      "model_module": "@jupyter-widgets/controls",
      "model_module_version": "1.5.0",
      "model_name": "IntSliderModel",
      "state": {
       "layout": "IPY_MODEL_0927ec0799074a9eadb60dd0614fa9b6",
       "style": "IPY_MODEL_553362b3aed143dcade175c2c75bab42"
      }
     },
     "90dedf651b50478d9273fa8eb3ba2eb9": {
      "model_module": "@jupyter-widgets/controls",
      "model_module_version": "1.5.0",
      "model_name": "VBoxModel",
      "state": {
       "children": [
        "IPY_MODEL_74fadb7147b641599d17715a90cf2a56",
        "IPY_MODEL_8963f47ff7944cb7a716ce98b1ad570f"
       ],
       "layout": "IPY_MODEL_c25a123ff8cc4364a9b89c3278f845ad"
      }
     },
     "9113db19dd574764a29b5b2c56746f9a": {
      "model_module": "@jupyter-widgets/base",
      "model_module_version": "1.2.0",
      "model_name": "LayoutModel",
      "state": {}
     },
     "9186182c32314540bc46193e7734b862": {
      "model_module": "@jupyter-widgets/base",
      "model_module_version": "1.2.0",
      "model_name": "LayoutModel",
      "state": {}
     },
     "92330d4a07b84779a8951f283de2c3c2": {
      "model_module": "@jupyter-widgets/controls",
      "model_module_version": "1.5.0",
      "model_name": "SliderStyleModel",
      "state": {
       "description_width": ""
      }
     },
     "923ac5d9508240038597358548f54af8": {
      "model_module": "@jupyter-widgets/base",
      "model_module_version": "1.2.0",
      "model_name": "LayoutModel",
      "state": {}
     },
     "92a722893aad4234a74cf116b2c3062a": {
      "model_module": "@jupyter-widgets/controls",
      "model_module_version": "1.5.0",
      "model_name": "DescriptionStyleModel",
      "state": {
       "description_width": ""
      }
     },
     "92b998740282419f8749e6d280a785ce": {
      "model_module": "@jupyter-widgets/controls",
      "model_module_version": "1.5.0",
      "model_name": "IntProgressModel",
      "state": {
       "description": "Loading:",
       "layout": "IPY_MODEL_b55a3b81c7e64cfcb1fa610d3cd4e4d2",
       "max": 10,
       "style": "IPY_MODEL_ffb265492e0a49a9a9e60a92ad43a1ee",
       "value": 7
      }
     },
     "92d49fa312b64cd7aea6ce97eb654edc": {
      "model_module": "@jupyter-widgets/controls",
      "model_module_version": "1.5.0",
      "model_name": "DescriptionStyleModel",
      "state": {
       "description_width": ""
      }
     },
     "932b0799cf344723a0d16ad1f7431d48": {
      "model_module": "@jupyter-widgets/base",
      "model_module_version": "1.2.0",
      "model_name": "LayoutModel",
      "state": {}
     },
     "9387fe81dfd54305b3ebbb971ae67f5d": {
      "model_module": "@jupyter-widgets/controls",
      "model_module_version": "1.5.0",
      "model_name": "DescriptionStyleModel",
      "state": {
       "description_width": ""
      }
     },
     "9398c165131146c5900eff252021dee7": {
      "model_module": "@jupyter-widgets/controls",
      "model_module_version": "1.5.0",
      "model_name": "DescriptionStyleModel",
      "state": {
       "description_width": ""
      }
     },
     "94339c1fbf4b4e80b6399daf434e4681": {
      "model_module": "@jupyter-widgets/controls",
      "model_module_version": "1.5.0",
      "model_name": "DescriptionStyleModel",
      "state": {
       "description_width": ""
      }
     },
     "943a83f9019b41d1a2c6d69114436a8d": {
      "model_module": "@jupyter-widgets/controls",
      "model_module_version": "1.5.0",
      "model_name": "TextModel",
      "state": {
       "description": "P1",
       "layout": "IPY_MODEL_2403b89f65784b36b1c6a518717d70cb",
       "style": "IPY_MODEL_e2086a296f0c4d1caeaaacaf92f7a386"
      }
     },
     "9444e033e3f64706aee0d8dbd9a416a7": {
      "model_module": "@jupyter-widgets/controls",
      "model_module_version": "1.5.0",
      "model_name": "DescriptionStyleModel",
      "state": {
       "description_width": ""
      }
     },
     "9456568c43704887909e8c17281b3264": {
      "model_module": "@jupyter-widgets/controls",
      "model_module_version": "1.5.0",
      "model_name": "TextModel",
      "state": {
       "description": "P4",
       "layout": "IPY_MODEL_d2807c31256f499a85d15d7a51df2522",
       "style": "IPY_MODEL_9f185a192ac0479883cdd890e38ff9a8"
      }
     },
     "94adbf04e66b45efb9d610fa69dbb82c": {
      "model_module": "@jupyter-widgets/controls",
      "model_module_version": "1.5.0",
      "model_name": "SliderStyleModel",
      "state": {
       "description_width": ""
      }
     },
     "94d78bf25e0341569263ff4c5e364d11": {
      "model_module": "@jupyter-widgets/controls",
      "model_module_version": "1.5.0",
      "model_name": "ToggleButtonModel",
      "state": {
       "description": "Click me",
       "icon": "check",
       "layout": "IPY_MODEL_baf9b0e3aac24d4da368e0a956010481",
       "style": "IPY_MODEL_a3f2d527f318410cb194059e7eba782c",
       "tooltip": "Description"
      }
     },
     "94e5a36b11d04e6e9e58ddc620795f01": {
      "model_module": "@jupyter-widgets/base",
      "model_module_version": "1.2.0",
      "model_name": "LayoutModel",
      "state": {}
     },
     "94e7a028ae51458ca733b16059555ba0": {
      "model_module": "@jupyter-widgets/controls",
      "model_module_version": "1.5.0",
      "model_name": "LabelModel",
      "state": {
       "layout": "IPY_MODEL_c69c920ca0cd4d67a78889b8d39815e0",
       "style": "IPY_MODEL_84058363b2cf4a659a3681b3a662ee20",
       "value": "1"
      }
     },
     "94f605c3bdcb438d87339506c6d57e62": {
      "model_module": "@jupyter-widgets/base",
      "model_module_version": "1.2.0",
      "model_name": "LayoutModel",
      "state": {}
     },
     "9505f5010e6845f6bf5548e78ba03de0": {
      "model_module": "@jupyter-widgets/controls",
      "model_module_version": "1.5.0",
      "model_name": "PlayModel",
      "state": {
       "description": "Press play",
       "layout": "IPY_MODEL_1b49be4ad8144939b9229d48afa478cd",
       "style": "IPY_MODEL_432321b942234f04898bf89c04cd5fcf",
       "value": 50
      }
     },
     "959c3ce64b5345a8a38963852960d4af": {
      "model_module": "@jupyter-widgets/controls",
      "model_module_version": "1.5.0",
      "model_name": "TextModel",
      "state": {
       "description": "P1",
       "layout": "IPY_MODEL_8d6f4de8c3464cbf9ba43a102f9ee070",
       "style": "IPY_MODEL_ea8a4c1f61d74df39cf6b63a20e2d3d8"
      }
     },
     "959e8ca34f7e4633a7213f6b6306fb18": {
      "model_module": "@jupyter-widgets/base",
      "model_module_version": "1.2.0",
      "model_name": "LayoutModel",
      "state": {}
     },
     "9642952bdbf74f17861579564e50fa3b": {
      "model_module": "@jupyter-widgets/base",
      "model_module_version": "1.2.0",
      "model_name": "LayoutModel",
      "state": {}
     },
     "9643009711134edf88120825da6c8c67": {
      "model_module": "@jupyter-widgets/controls",
      "model_module_version": "1.5.0",
      "model_name": "TextModel",
      "state": {
       "description": "P2",
       "layout": "IPY_MODEL_e314fc9d07fa4fe9a817f1270f44e614",
       "style": "IPY_MODEL_2e31ca188cc4429da85cdb9d87f0a3aa"
      }
     },
     "9662c855f0ba42288ec1cdc0a6dd5d2f": {
      "model_module": "@jupyter-widgets/controls",
      "model_module_version": "1.5.0",
      "model_name": "DescriptionStyleModel",
      "state": {
       "description_width": ""
      }
     },
     "96b7e336dee54f9a9874a1982135c342": {
      "model_module": "@jupyter-widgets/controls",
      "model_module_version": "1.5.0",
      "model_name": "DescriptionStyleModel",
      "state": {
       "description_width": ""
      }
     },
     "96bd392512d6449fba38a96b15fc0584": {
      "model_module": "@jupyter-widgets/controls",
      "model_module_version": "1.5.0",
      "model_name": "FloatSliderModel",
      "state": {
       "layout": "IPY_MODEL_72d73eeca2e940b2a3f651a074aff2c3",
       "step": 0.1,
       "style": "IPY_MODEL_a4efe41dfe5d4a0f8dfb25bc52eed7b6"
      }
     },
     "97074dc656104f65a8a4bb1264f90156": {
      "model_module": "@jupyter-widgets/base",
      "model_module_version": "1.2.0",
      "model_name": "LayoutModel",
      "state": {}
     },
     "970cb6b132944ef09bdfa8ba02b67d41": {
      "model_module": "@jupyter-widgets/controls",
      "model_module_version": "1.5.0",
      "model_name": "DescriptionStyleModel",
      "state": {
       "description_width": ""
      }
     },
     "9747046ae6ab492583329d3705b36219": {
      "model_module": "@jupyter-widgets/controls",
      "model_module_version": "1.5.0",
      "model_name": "FloatProgressModel",
      "state": {
       "bar_style": "info",
       "description": "Loading:",
       "layout": "IPY_MODEL_157f6d9ce9a54c7a813d244a172a1872",
       "max": 10,
       "style": "IPY_MODEL_9d65b4838c7e42dd95ac8b7e172857be",
       "value": 7.5
      }
     },
     "9763791ea15d45e2b814c57beb19fccd": {
      "model_module": "@jupyter-widgets/controls",
      "model_module_version": "1.5.0",
      "model_name": "DescriptionStyleModel",
      "state": {
       "description_width": ""
      }
     },
     "9795c04789af4a1f8c20e2338a4f0890": {
      "model_module": "@jupyter-widgets/controls",
      "model_module_version": "1.5.0",
      "model_name": "TextModel",
      "state": {
       "description": "P0",
       "layout": "IPY_MODEL_061d400df80847e8a5211810ddfd37b6",
       "style": "IPY_MODEL_cafb5227d293480e9f228efb8db980b8"
      }
     },
     "97984c60db55452fa77e975ec190ced3": {
      "model_module": "@jupyter-widgets/controls",
      "model_module_version": "1.5.0",
      "model_name": "DescriptionStyleModel",
      "state": {
       "description_width": ""
      }
     },
     "97fb2e1251994f068172258ac04adf3a": {
      "model_module": "@jupyter-widgets/controls",
      "model_module_version": "1.5.0",
      "model_name": "DescriptionStyleModel",
      "state": {
       "description_width": ""
      }
     },
     "9815d00f47e9419bbe792946fb733960": {
      "model_module": "@jupyter-widgets/base",
      "model_module_version": "1.2.0",
      "model_name": "LayoutModel",
      "state": {
       "border": "1px solid black"
      }
     },
     "984dcde971ed4663802a919e53ea2428": {
      "model_module": "@jupyter-widgets/base",
      "model_module_version": "1.2.0",
      "model_name": "LayoutModel",
      "state": {}
     },
     "98d05721459c4362848927c645faf52a": {
      "model_module": "@jupyter-widgets/controls",
      "model_module_version": "1.5.0",
      "model_name": "SliderStyleModel",
      "state": {
       "description_width": ""
      }
     },
     "993ccb3b9115441a8891fe06a5026367": {
      "model_module": "@jupyter-widgets/base",
      "model_module_version": "1.2.0",
      "model_name": "LayoutModel",
      "state": {}
     },
     "99c417fdedd04969b7cf1173e0d62942": {
      "model_module": "@jupyter-widgets/controls",
      "model_module_version": "1.5.0",
      "model_name": "CheckboxModel",
      "state": {
       "description": "Check me",
       "disabled": false,
       "layout": "IPY_MODEL_144332b6f2fb4382b16d277b3d0db16c",
       "style": "IPY_MODEL_6729c0339fee442d9500de171a6d66ae",
       "value": false
      }
     },
     "99e2f2395e134803b993931be84509a0": {
      "model_module": "@jupyter-widgets/base",
      "model_module_version": "1.2.0",
      "model_name": "LayoutModel",
      "state": {}
     },
     "99ece097def54c2ebf23c80fba3b1957": {
      "model_module": "@jupyter-widgets/controls",
      "model_module_version": "1.5.0",
      "model_name": "HTMLModel",
      "state": {
       "description": "Some HTML",
       "layout": "IPY_MODEL_fcd1ad72e2a348cdb063e4d2bca1d9c3",
       "placeholder": "Some HTML",
       "style": "IPY_MODEL_30f12c4f694f47f0ae19cb0c2836fc2f",
       "value": "Hello <b>World</b>"
      }
     },
     "99fb9cfb84894b0c9ffa8fcb4ffddbbe": {
      "model_module": "@jupyter-widgets/controls",
      "model_module_version": "1.5.0",
      "model_name": "DescriptionStyleModel",
      "state": {
       "description_width": ""
      }
     },
     "9a2ddcabb2d2413680c9ceed2a7f7f68": {
      "model_module": "@jupyter-widgets/controls",
      "model_module_version": "1.5.0",
      "model_name": "DescriptionStyleModel",
      "state": {
       "description_width": ""
      }
     },
     "9a788310fa7e49ae9b11656a60453a5e": {
      "model_module": "@jupyter-widgets/base",
      "model_module_version": "1.2.0",
      "model_name": "LayoutModel",
      "state": {}
     },
     "9a9cd162abb9495886a01ab0a8000344": {
      "model_module": "@jupyter-widgets/base",
      "model_module_version": "1.2.0",
      "model_name": "LayoutModel",
      "state": {}
     },
     "9b08dbb3cf3c482ab709e00e035abfb5": {
      "model_module": "@jupyter-widgets/controls",
      "model_module_version": "1.5.0",
      "model_name": "LabelModel",
      "state": {
       "layout": "IPY_MODEL_57feaba8913e4e06ae1daf43a301d129",
       "style": "IPY_MODEL_fa09b1f0f6df4fcdaac3d629c5e93eac",
       "value": "2"
      }
     },
     "9b4928e6d7ae485596ade8174ab335e3": {
      "model_module": "@jupyter-widgets/controls",
      "model_module_version": "1.5.0",
      "model_name": "DescriptionStyleModel",
      "state": {
       "description_width": ""
      }
     },
     "9b7beef0056c435898c76a5be40f8147": {
      "model_module": "@jupyter-widgets/controls",
      "model_module_version": "1.5.0",
      "model_name": "IntSliderModel",
      "state": {
       "layout": "IPY_MODEL_70f024bb31d646568f8001996343c9ae",
       "style": "IPY_MODEL_28fec13e8273430fa06b45b43f7373c0",
       "value": 50
      }
     },
     "9ba95920bc9d48d585a0962f23ef4e8d": {
      "model_module": "@jupyter-widgets/base",
      "model_module_version": "1.2.0",
      "model_name": "LayoutModel",
      "state": {}
     },
     "9bc5a565c2a644bf9d4cf24f4b65d228": {
      "model_module": "@jupyter-widgets/controls",
      "model_module_version": "1.5.0",
      "model_name": "SliderStyleModel",
      "state": {
       "description_width": ""
      }
     },
     "9bd05f26d90d4984bbc09c74a99c2496": {
      "model_module": "@jupyter-widgets/base",
      "model_module_version": "1.2.0",
      "model_name": "LayoutModel",
      "state": {}
     },
     "9bea19f1355a44f9b35c860230241122": {
      "model_module": "@jupyter-widgets/controls",
      "model_module_version": "1.5.0",
      "model_name": "DescriptionStyleModel",
      "state": {
       "description_width": ""
      }
     },
     "9c2b5a6353494e4fac76d0fb61bed4ac": {
      "model_module": "@jupyter-widgets/controls",
      "model_module_version": "1.5.0",
      "model_name": "DescriptionStyleModel",
      "state": {
       "description_width": ""
      }
     },
     "9c4c36a0f3ea45a7bd899833474f4e4e": {
      "model_module": "@jupyter-widgets/controls",
      "model_module_version": "1.5.0",
      "model_name": "DescriptionStyleModel",
      "state": {
       "description_width": ""
      }
     },
     "9c6d22201b674e3d90d50c4227df50a5": {
      "model_module": "@jupyter-widgets/controls",
      "model_module_version": "1.5.0",
      "model_name": "DescriptionStyleModel",
      "state": {
       "description_width": ""
      }
     },
     "9c872add51fb4ac2a620fd5d612aa255": {
      "model_module": "@jupyter-widgets/base",
      "model_module_version": "1.2.0",
      "model_name": "LayoutModel",
      "state": {}
     },
     "9cb7597d896d43b6917067c10731ccd2": {
      "model_module": "@jupyter-widgets/controls",
      "model_module_version": "1.5.0",
      "model_name": "FloatSliderModel",
      "state": {
       "layout": "IPY_MODEL_adc7d861d4024c4aafd89c9e5da909e0",
       "step": 0.1,
       "style": "IPY_MODEL_4d84bd24d81e471c9a3c918c1a7c465f"
      }
     },
     "9cb8b459ca4b4cf5b95bc1c70e2c0bf8": {
      "model_module": "@jupyter-widgets/controls",
      "model_module_version": "1.5.0",
      "model_name": "DescriptionStyleModel",
      "state": {
       "description_width": ""
      }
     },
     "9cf09a529c2e46199a1c3d9050c4c3d2": {
      "model_module": "@jupyter-widgets/controls",
      "model_module_version": "1.5.0",
      "model_name": "SliderStyleModel",
      "state": {
       "description_width": ""
      }
     },
     "9d161540f65340b096acff5257a1529c": {
      "model_module": "@jupyter-widgets/controls",
      "model_module_version": "1.5.0",
      "model_name": "DatePickerModel",
      "state": {
       "description": "Pick a Date",
       "disabled": false,
       "layout": "IPY_MODEL_6fd44845767f4358ab3d6b62e461bf19",
       "style": "IPY_MODEL_d6c66acfdd5c4c15807704207d9da341"
      }
     },
     "9d4a0e5aa9124811b834f15e749a3cd0": {
      "model_module": "@jupyter-widgets/controls",
      "model_module_version": "1.5.0",
      "model_name": "ProgressStyleModel",
      "state": {
       "description_width": ""
      }
     },
     "9d65b4838c7e42dd95ac8b7e172857be": {
      "model_module": "@jupyter-widgets/controls",
      "model_module_version": "1.5.0",
      "model_name": "ProgressStyleModel",
      "state": {
       "description_width": ""
      }
     },
     "9d687a763ed7436aa0de2df6b4873698": {
      "model_module": "@jupyter-widgets/base",
      "model_module_version": "1.2.0",
      "model_name": "LayoutModel",
      "state": {}
     },
     "9d8e4617067746e9a3c715fca1e7dea6": {
      "model_module": "@jupyter-widgets/base",
      "model_module_version": "1.2.0",
      "model_name": "LayoutModel",
      "state": {}
     },
     "9d903a000eef47d6863f022bc6f16ef2": {
      "model_module": "@jupyter-widgets/base",
      "model_module_version": "1.2.0",
      "model_name": "LayoutModel",
      "state": {}
     },
     "9d9762f96e9c400e93adbfcffa1d0662": {
      "model_module": "@jupyter-widgets/controls",
      "model_module_version": "1.5.0",
      "model_name": "HTMLMathModel",
      "state": {
       "description": "Some HTML",
       "layout": "IPY_MODEL_2222c43e32a94a99bfd586c5175e9ce8",
       "placeholder": "Some HTML",
       "style": "IPY_MODEL_fef6662e971c43839907c7345452f577",
       "value": "Some math and <i>HTML</i>: \\(x^2\\) and $$\\frac{x+1}{x-1}$$"
      }
     },
     "9dc71adb03dc4c73a7514521cd40b4bd": {
      "model_module": "@jupyter-widgets/controls",
      "model_module_version": "1.5.0",
      "model_name": "ToggleButtonModel",
      "state": {
       "description": "Click me",
       "icon": "check",
       "layout": "IPY_MODEL_bd3ee3dbf70b4bca8c76601ddb274121",
       "style": "IPY_MODEL_d8fdbf429f2949fe9a58773a634896ae",
       "tooltip": "Description"
      }
     },
     "9dd61a4469ff49f69c8cd6cc9c7e7a90": {
      "model_module": "@jupyter-widgets/base",
      "model_module_version": "1.2.0",
      "model_name": "LayoutModel",
      "state": {}
     },
     "9dd98d1d21bf4a38b8e727335d0e28ea": {
      "model_module": "@jupyter-widgets/base",
      "model_module_version": "1.2.0",
      "model_name": "LayoutModel",
      "state": {}
     },
     "9e452e41b5e848faa88fab93726a37b0": {
      "model_module": "@jupyter-widgets/base",
      "model_module_version": "1.2.0",
      "model_name": "LayoutModel",
      "state": {}
     },
     "9e9eeb4cc6b647128e8f16affec76807": {
      "model_module": "@jupyter-widgets/controls",
      "model_module_version": "1.5.0",
      "model_name": "TextModel",
      "state": {
       "description": "String:",
       "layout": "IPY_MODEL_da6ed31102f8462fa6818c589ef1990c",
       "placeholder": "Type something",
       "style": "IPY_MODEL_d39dd364dbb948f3bbb5fa57f6cba68c",
       "value": "Hello World"
      }
     },
     "9eb13f790be74b8b8a69289e6630e5dd": {
      "model_module": "@jupyter-widgets/base",
      "model_module_version": "1.2.0",
      "model_name": "LayoutModel",
      "state": {}
     },
     "9ebf311fa6844bd8a06662989b9c56b0": {
      "model_module": "@jupyter-widgets/base",
      "model_module_version": "1.2.0",
      "model_name": "LayoutModel",
      "state": {}
     },
     "9edc16fb3cab4005adfabb8642483947": {
      "model_module": "@jupyter-widgets/controls",
      "model_module_version": "1.5.0",
      "model_name": "SelectionSliderModel",
      "state": {
       "_options_labels": [
        "scrambled",
        "sunny side up",
        "poached",
        "over easy"
       ],
       "continuous_update": false,
       "description": "I like my eggs …",
       "index": 1,
       "layout": "IPY_MODEL_8a1642a61aef402fb29ff225a76fced5",
       "style": "IPY_MODEL_c2a6ae29cf094da49dc1c44b9f8ae206"
      }
     },
     "9f185a192ac0479883cdd890e38ff9a8": {
      "model_module": "@jupyter-widgets/controls",
      "model_module_version": "1.5.0",
      "model_name": "DescriptionStyleModel",
      "state": {
       "description_width": ""
      }
     },
     "9f47c3ddc96e4da38da2f416791ec060": {
      "model_module": "@jupyter-widgets/base",
      "model_module_version": "1.2.0",
      "model_name": "LayoutModel",
      "state": {}
     },
     "9f71b63d33244ceda2dd7ff069766b79": {
      "model_module": "@jupyter-widgets/controls",
      "model_module_version": "1.5.0",
      "model_name": "ButtonStyleModel",
      "state": {}
     },
     "9f95b44eaeb44422a4ec473c4bb95d99": {
      "model_module": "@jupyter-widgets/base",
      "model_module_version": "1.2.0",
      "model_name": "LayoutModel",
      "state": {}
     },
     "9f9fee0272f2460e9d233b0ab1a9a6e0": {
      "model_module": "@jupyter-widgets/controls",
      "model_module_version": "1.5.0",
      "model_name": "VBoxModel",
      "state": {
       "children": [
        "IPY_MODEL_bef434b0effb4d7d8411f4e3e0264e03",
        "IPY_MODEL_ccb51838a4724b8f9a1439b3f7ce73f7"
       ],
       "layout": "IPY_MODEL_c25f1b0c33dc439a80ea319940169b25"
      }
     },
     "9ff1493a0ae148cdb7af5072a18e52fe": {
      "model_module": "@jupyter-widgets/base",
      "model_module_version": "1.2.0",
      "model_name": "LayoutModel",
      "state": {}
     },
     "a00fa875024349e6bef46e9328083eaa": {
      "model_module": "@jupyter-widgets/controls",
      "model_module_version": "1.5.0",
      "model_name": "DescriptionStyleModel",
      "state": {
       "description_width": ""
      }
     },
     "a02b22cc20654733b0dbb8fd191b73d7": {
      "model_module": "@jupyter-widgets/base",
      "model_module_version": "1.2.0",
      "model_name": "LayoutModel",
      "state": {}
     },
     "a06e85d9eb7b4d03bae1995cde9c3d15": {
      "model_module": "@jupyter-widgets/controls",
      "model_module_version": "1.5.0",
      "model_name": "DescriptionStyleModel",
      "state": {
       "description_width": ""
      }
     },
     "a0f45e0278b849b68b221292cafe6496": {
      "model_module": "@jupyter-widgets/controls",
      "model_module_version": "1.5.0",
      "model_name": "DescriptionStyleModel",
      "state": {
       "description_width": ""
      }
     },
     "a0f4a057807a4227ad312ba58b7bbe30": {
      "model_module": "@jupyter-widgets/controls",
      "model_module_version": "1.5.0",
      "model_name": "FloatLogSliderModel",
      "state": {
       "description": "Log Slider",
       "layout": "IPY_MODEL_a1b9a17c2d9441f5b09c78572b295d29",
       "max": 10,
       "min": -10,
       "step": 0.2,
       "style": "IPY_MODEL_00f12b3cfbf94d8a89aa53909bf7f1bb",
       "value": 10
      }
     },
     "a0f59552d4dc4f58bb56a05bcb0e07c5": {
      "model_module": "@jupyter-widgets/controls",
      "model_module_version": "1.5.0",
      "model_name": "ButtonModel",
      "state": {
       "description": "Click me",
       "icon": "check",
       "layout": "IPY_MODEL_d3a4ea24e5ec4c57a9c85526dc71ea58",
       "style": "IPY_MODEL_9f71b63d33244ceda2dd7ff069766b79",
       "tooltip": "Click me"
      }
     },
     "a130accadf634883a672c6da7f303ec4": {
      "model_module": "@jupyter-widgets/controls",
      "model_module_version": "1.5.0",
      "model_name": "LabelModel",
      "state": {
       "layout": "IPY_MODEL_0ce582f323c2434196556a936f0f1f64",
       "style": "IPY_MODEL_6901eb86b9bb44bc890f37c41161a2df",
       "value": "3"
      }
     },
     "a1513a052f4b4eb9b350ba2b5e414363": {
      "model_module": "@jupyter-widgets/controls",
      "model_module_version": "1.5.0",
      "model_name": "DescriptionStyleModel",
      "state": {
       "description_width": ""
      }
     },
     "a1644f898b9245928913b8e577520398": {
      "model_module": "@jupyter-widgets/controls",
      "model_module_version": "1.5.0",
      "model_name": "ControllerModel",
      "state": {
       "layout": "IPY_MODEL_9ba95920bc9d48d585a0962f23ef4e8d"
      }
     },
     "a1a1257eb5a9475a8ba76b48bad0e5f7": {
      "model_module": "@jupyter-widgets/base",
      "model_module_version": "1.2.0",
      "model_name": "LayoutModel",
      "state": {}
     },
     "a1a5e409e2544b6b9eb18b25c0132e37": {
      "model_module": "@jupyter-widgets/controls",
      "model_module_version": "1.5.0",
      "model_name": "BoxModel",
      "state": {
       "children": [
        "IPY_MODEL_140925dbccb64dfe89cd84ea7ea2ab1f",
        "IPY_MODEL_94e7a028ae51458ca733b16059555ba0",
        "IPY_MODEL_fe4fd920acf84b1cbe94919f105929f1",
        "IPY_MODEL_1166694f90f84a82b0453776ff1cbf34"
       ],
       "layout": "IPY_MODEL_f206c884366b4d3c8cd66b5e2c1e1099"
      }
     },
     "a1b9a17c2d9441f5b09c78572b295d29": {
      "model_module": "@jupyter-widgets/base",
      "model_module_version": "1.2.0",
      "model_name": "LayoutModel",
      "state": {}
     },
     "a27370f0e32842d396c552662b9950d7": {
      "model_module": "@jupyter-widgets/controls",
      "model_module_version": "1.5.0",
      "model_name": "LabelModel",
      "state": {
       "layout": "IPY_MODEL_e140dc7d9670437c8e15e1b796ef926e",
       "style": "IPY_MODEL_44a6721e9bc0496cbac08602f48d1829",
       "value": "1"
      }
     },
     "a38dd040d66247dd94a9d92a10b849db": {
      "model_module": "@jupyter-widgets/base",
      "model_module_version": "1.2.0",
      "model_name": "LayoutModel",
      "state": {}
     },
     "a3b92555dadd49c99d1a6cd977252d78": {
      "model_module": "@jupyter-widgets/controls",
      "model_module_version": "1.5.0",
      "model_name": "ToggleButtonsModel",
      "state": {
       "_options_labels": [
        "Slow",
        "Regular",
        "Fast"
       ],
       "button_style": "",
       "description": "Speed:",
       "icons": [],
       "index": 0,
       "layout": "IPY_MODEL_d6e3da44808d4ced9d2628ee630329a5",
       "style": "IPY_MODEL_6e0ba56834474a7eb6684fccb8ea8300",
       "tooltips": [
        "Description of slow",
        "Description of regular",
        "Description of fast"
       ]
      }
     },
     "a3f2d527f318410cb194059e7eba782c": {
      "model_module": "@jupyter-widgets/controls",
      "model_module_version": "1.5.0",
      "model_name": "DescriptionStyleModel",
      "state": {
       "description_width": ""
      }
     },
     "a41678aa00944a3897e5f0a2d0f16763": {
      "model_module": "@jupyter-widgets/base",
      "model_module_version": "1.2.0",
      "model_name": "LayoutModel",
      "state": {}
     },
     "a4efe41dfe5d4a0f8dfb25bc52eed7b6": {
      "model_module": "@jupyter-widgets/controls",
      "model_module_version": "1.5.0",
      "model_name": "SliderStyleModel",
      "state": {
       "description_width": ""
      }
     },
     "a507152358ff45a6a1c79721a6383257": {
      "buffers": [
       {
        "data": "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",
        "encoding": "base64",
        "path": [
         "value"
        ]
       }
      ],
      "model_module": "@jupyter-widgets/controls",
      "model_module_version": "1.5.0",
      "model_name": "ImageModel",
      "state": {
       "format": "gif",
       "height": "128",
       "layout": "IPY_MODEL_ffc27080251b4f598db41c86bd1ae022",
       "width": "128"
      }
     },
     "a530c8418f1749cdb71151f300125858": {
      "model_module": "@jupyter-widgets/controls",
      "model_module_version": "1.5.0",
      "model_name": "IntProgressModel",
      "state": {
       "description": "Loading:",
       "layout": "IPY_MODEL_eff76e4f6d76416184c765f2e32a4553",
       "max": 10,
       "style": "IPY_MODEL_902073e36faf4bdc99450a63d503bd18",
       "value": 7
      }
     },
     "a5359198a852475bb48bf5a0e3edde5b": {
      "model_module": "@jupyter-widgets/controls",
      "model_module_version": "1.5.0",
      "model_name": "SliderStyleModel",
      "state": {
       "description_width": ""
      }
     },
     "a54b79b31f1a4b3ba7072b45dba54288": {
      "model_module": "@jupyter-widgets/controls",
      "model_module_version": "1.5.0",
      "model_name": "DescriptionStyleModel",
      "state": {
       "description_width": ""
      }
     },
     "a59aae7f7d7f4373a03b49f2270ccdf8": {
      "model_module": "@jupyter-widgets/controls",
      "model_module_version": "1.5.0",
      "model_name": "ButtonModel",
      "state": {
       "description": "Click me",
       "icon": "check",
       "layout": "IPY_MODEL_f6c60069dd1c44f38c59005c529b9c05",
       "style": "IPY_MODEL_8a31738d44f4487ca439f2b235274ec7",
       "tooltip": "Click me"
      }
     },
     "a5b30af07dfc47f19fce420cedd19fdc": {
      "model_module": "@jupyter-widgets/controls",
      "model_module_version": "1.5.0",
      "model_name": "ColorPickerModel",
      "state": {
       "description": "Pick a color",
       "disabled": false,
       "layout": "IPY_MODEL_b139b839c7fa4c18a6b7644fe857db9d",
       "style": "IPY_MODEL_9c4c36a0f3ea45a7bd899833474f4e4e",
       "value": "blue"
      }
     },
     "a5bd0d89debe49e981af0d466958816c": {
      "model_module": "@jupyter-widgets/controls",
      "model_module_version": "1.5.0",
      "model_name": "DescriptionStyleModel",
      "state": {
       "description_width": ""
      }
     },
     "a5f7d7d7dbc848bcb721697db610cf47": {
      "model_module": "@jupyter-widgets/controls",
      "model_module_version": "1.5.0",
      "model_name": "DescriptionStyleModel",
      "state": {
       "description_width": ""
      }
     },
     "a6090589d0fe41e284344ea0db6ff1de": {
      "model_module": "@jupyter-widgets/controls",
      "model_module_version": "1.5.0",
      "model_name": "TextModel",
      "state": {
       "description": "String:",
       "layout": "IPY_MODEL_3c49cf37c91540c2ba1296264a305e85",
       "placeholder": "Type something",
       "style": "IPY_MODEL_fc579a550a794598b2dd1db6a491de77",
       "value": "Hello World"
      }
     },
     "a61e5b685b4b47cf8c71c2ef69eb3e5c": {
      "model_module": "@jupyter-widgets/base",
      "model_module_version": "1.2.0",
      "model_name": "LayoutModel",
      "state": {}
     },
     "a6cd890eb9da45a5817fb735932f9832": {
      "model_module": "@jupyter-widgets/controls",
      "model_module_version": "1.5.0",
      "model_name": "DescriptionStyleModel",
      "state": {
       "description_width": ""
      }
     },
     "a6f0847524ec459aadcda8fc9dd2f8bf": {
      "model_module": "@jupyter-widgets/controls",
      "model_module_version": "1.5.0",
      "model_name": "LabelModel",
      "state": {
       "layout": "IPY_MODEL_8fc9dbb38ff14c749a2ce10303f8a98d",
       "style": "IPY_MODEL_ade679ae998b43d09f7b413da2cb47f6",
       "value": "0"
      }
     },
     "a701e82b7122469695221521f477f64a": {
      "model_module": "@jupyter-widgets/controls",
      "model_module_version": "1.5.0",
      "model_name": "ToggleButtonModel",
      "state": {
       "description": "Click me",
       "icon": "check",
       "layout": "IPY_MODEL_932b0799cf344723a0d16ad1f7431d48",
       "style": "IPY_MODEL_ea748537fe5445ac820d9a21530f7b79",
       "tooltip": "Description"
      }
     },
     "a7e0396343c543dc9aba6b3b3a728f47": {
      "model_module": "@jupyter-widgets/controls",
      "model_module_version": "1.5.0",
      "model_name": "LabelModel",
      "state": {
       "layout": "IPY_MODEL_c3c1b4e923964f4cad9516d785a9887b",
       "style": "IPY_MODEL_96b7e336dee54f9a9874a1982135c342",
       "value": "The $m$ in $E=mc^2$:"
      }
     },
     "a826aded281c429fbcd8c270b2745eb6": {
      "model_module": "@jupyter-widgets/base",
      "model_module_version": "1.2.0",
      "model_name": "LayoutModel",
      "state": {}
     },
     "a8616e2bf9684ebd8a5e4acd577cf221": {
      "model_module": "@jupyter-widgets/controls",
      "model_module_version": "1.5.0",
      "model_name": "FloatSliderModel",
      "state": {
       "layout": "IPY_MODEL_b6ed21882187472ca3964b85014d4a0a",
       "step": 0.1,
       "style": "IPY_MODEL_fe2a24583bbc4dd88e8c120557a9d5f0"
      }
     },
     "a89791c42c5f460b91417b12f2ac9b89": {
      "model_module": "@jupyter-widgets/controls",
      "model_module_version": "1.5.0",
      "model_name": "TextModel",
      "state": {
       "description": "P1",
       "layout": "IPY_MODEL_b02bc7ad693d4e0e869109fe6a25cdb6",
       "style": "IPY_MODEL_1e0c369744bc420e8735c7f047e19ee9"
      }
     },
     "a8de234d968c4928aa823ff2977c7f62": {
      "model_module": "@jupyter-widgets/base",
      "model_module_version": "1.2.0",
      "model_name": "LayoutModel",
      "state": {}
     },
     "a944b6ec88b64ff2b6f5c4197c9ae47b": {
      "model_module": "@jupyter-widgets/base",
      "model_module_version": "1.2.0",
      "model_name": "LayoutModel",
      "state": {}
     },
     "a9592a2a20c346d59aebcdce9fb9c4bb": {
      "model_module": "@jupyter-widgets/controls",
      "model_module_version": "1.5.0",
      "model_name": "HBoxModel",
      "state": {
       "children": [
        "IPY_MODEL_0e45d24ce48347f68dbb6912fb2bba4f",
        "IPY_MODEL_eae20f1775744dc5933c9dffd584b108"
       ],
       "layout": "IPY_MODEL_0edf7b828fb64c2b8f79d2c4a4d46cf6"
      }
     },
     "a99efa9e2e6e49c09ae6262b9f46fffe": {
      "model_module": "@jupyter-widgets/controls",
      "model_module_version": "1.5.0",
      "model_name": "TextModel",
      "state": {
       "description": "P3",
       "layout": "IPY_MODEL_b84d0d096e014b0e82142ca20762fdab",
       "style": "IPY_MODEL_5cbdc924e00644dcb0edfadafc75e6c7"
      }
     },
     "aa474109f51f4124be3c58124215b4bc": {
      "model_module": "@jupyter-widgets/controls",
      "model_module_version": "1.5.0",
      "model_name": "DescriptionStyleModel",
      "state": {
       "description_width": ""
      }
     },
     "aa8e70d1ceeb493b8c8a3c141e042970": {
      "model_module": "@jupyter-widgets/controls",
      "model_module_version": "1.5.0",
      "model_name": "RadioButtonsModel",
      "state": {
       "_options_labels": [
        "pepperoni",
        "pineapple",
        "anchovies"
       ],
       "description": "Pizza topping:",
       "index": 0,
       "layout": "IPY_MODEL_03572edb44ea4afea75e092461ba74c8",
       "style": "IPY_MODEL_8d0089a7daf34f3eb6e4fe0162b3fb81"
      }
     },
     "aa98c747248e4896bce6a3063fa67a8d": {
      "model_module": "@jupyter-widgets/controls",
      "model_module_version": "1.5.0",
      "model_name": "VBoxModel",
      "state": {
       "children": [
        "IPY_MODEL_17602ae1d7224492918c6dbe2e68a289",
        "IPY_MODEL_1cb695714d344051b0401ec9a30132e6"
       ],
       "layout": "IPY_MODEL_9eb13f790be74b8b8a69289e6630e5dd"
      }
     },
     "aabe770c6d8d4df28894d2f375babba5": {
      "model_module": "@jupyter-widgets/controls",
      "model_module_version": "1.5.0",
      "model_name": "FloatLogSliderModel",
      "state": {
       "description": "Log Slider",
       "layout": "IPY_MODEL_dad3c16d2155474d93f68950e55859fb",
       "max": 10,
       "min": -10,
       "step": 0.2,
       "style": "IPY_MODEL_efe1dfad76ba40bf86685c8680405fd4",
       "value": 10
      }
     },
     "aac5085a8fb44eccb81274a2326de379": {
      "model_module": "@jupyter-widgets/base",
      "model_module_version": "1.2.0",
      "model_name": "LayoutModel",
      "state": {}
     },
     "ab0b6019acb44c92823d5efc7ee42788": {
      "model_module": "@jupyter-widgets/controls",
      "model_module_version": "1.5.0",
      "model_name": "SliderStyleModel",
      "state": {
       "description_width": ""
      }
     },
     "ab2dd4827bcd421f8e427344b3b68c7b": {
      "model_module": "@jupyter-widgets/base",
      "model_module_version": "1.2.0",
      "model_name": "LayoutModel",
      "state": {}
     },
     "ab3e9e7b99bd436099f8668a44dea754": {
      "model_module": "@jupyter-widgets/base",
      "model_module_version": "1.2.0",
      "model_name": "LayoutModel",
      "state": {}
     },
     "ab549cc3bee947fe8d6e336426133ff1": {
      "model_module": "@jupyter-widgets/controls",
      "model_module_version": "1.5.0",
      "model_name": "LabelModel",
      "state": {
       "layout": "IPY_MODEL_6746b129948049d494c792bd981b6111",
       "style": "IPY_MODEL_7046ce82fb35429bbb2fef496b226ca6",
       "value": "0"
      }
     },
     "ab812035dfbc4611b1b90eb0005b2dfd": {
      "model_module": "@jupyter-widgets/controls",
      "model_module_version": "1.5.0",
      "model_name": "DescriptionStyleModel",
      "state": {
       "description_width": ""
      }
     },
     "ab814c0614ed4d509237bafa153d591d": {
      "model_module": "@jupyter-widgets/controls",
      "model_module_version": "1.5.0",
      "model_name": "DescriptionStyleModel",
      "state": {
       "description_width": ""
      }
     },
     "ab889013d3b24ce5a1b87a97d03f895e": {
      "model_module": "@jupyter-widgets/controls",
      "model_module_version": "1.5.0",
      "model_name": "DescriptionStyleModel",
      "state": {
       "description_width": ""
      }
     },
     "ab91593ee1cb4c028f739e64e64dae67": {
      "model_module": "@jupyter-widgets/controls",
      "model_module_version": "1.5.0",
      "model_name": "LabelModel",
      "state": {
       "layout": "IPY_MODEL_6e1ee68b55ac4d7ebebc63fa132a9599",
       "style": "IPY_MODEL_db69a73347784cc5b0f3f32d1dc857cb",
       "value": "2"
      }
     },
     "abd835ddd0a54df69d73ee191f134e0c": {
      "model_module": "@jupyter-widgets/controls",
      "model_module_version": "1.5.0",
      "model_name": "RadioButtonsModel",
      "state": {
       "_options_labels": [
        "pepperoni",
        "pineapple",
        "anchovies"
       ],
       "description": "Pizza topping:",
       "index": 0,
       "layout": "IPY_MODEL_c6aef0823b994357b6f6b5e82a4d7743",
       "style": "IPY_MODEL_68de1d6b24c545059aa84e64d50a4e85"
      }
     },
     "ac0a57853ed44719a9e427cba360d8a6": {
      "model_module": "@jupyter-widgets/base",
      "model_module_version": "1.2.0",
      "model_name": "LayoutModel",
      "state": {}
     },
     "ac11177275524e749bcb486b6c3ed89f": {
      "model_module": "@jupyter-widgets/controls",
      "model_module_version": "1.5.0",
      "model_name": "LabelModel",
      "state": {
       "layout": "IPY_MODEL_52a526ae59084263ad90639ccfb6bd74",
       "style": "IPY_MODEL_3773c03f81904ab58e16a78f7b383cf9",
       "value": "3"
      }
     },
     "ac2ef42d17e34a719da5843a77410777": {
      "model_module": "@jupyter-widgets/controls",
      "model_module_version": "1.5.0",
      "model_name": "IntTextModel",
      "state": {
       "description": "Any:",
       "layout": "IPY_MODEL_959e8ca34f7e4633a7213f6b6306fb18",
       "step": 1,
       "style": "IPY_MODEL_b964afe45b8441a39dfee9a01ae3c58a",
       "value": 7
      }
     },
     "ac4727646c224d9fb684e09782c9e41a": {
      "model_module": "@jupyter-widgets/base",
      "model_module_version": "1.2.0",
      "model_name": "LayoutModel",
      "state": {}
     },
     "ac58f66728de451da0cb43c346a46513": {
      "model_module": "@jupyter-widgets/controls",
      "model_module_version": "1.5.0",
      "model_name": "ProgressStyleModel",
      "state": {
       "description_width": ""
      }
     },
     "acbb6dcf335541b5a815206864a042d2": {
      "model_module": "@jupyter-widgets/base",
      "model_module_version": "1.2.0",
      "model_name": "LayoutModel",
      "state": {}
     },
     "ada41a2707dc4111876e56a3da0a8731": {
      "model_module": "@jupyter-widgets/controls",
      "model_module_version": "1.5.0",
      "model_name": "DatePickerModel",
      "state": {
       "description": "Pick a Date",
       "disabled": false,
       "layout": "IPY_MODEL_462b8bbda80243e4b95f748bcea14845",
       "style": "IPY_MODEL_b1ce0cdc37de4277ad76757bd776f498"
      }
     },
     "adc7d861d4024c4aafd89c9e5da909e0": {
      "model_module": "@jupyter-widgets/base",
      "model_module_version": "1.2.0",
      "model_name": "LayoutModel",
      "state": {}
     },
     "ade679ae998b43d09f7b413da2cb47f6": {
      "model_module": "@jupyter-widgets/controls",
      "model_module_version": "1.5.0",
      "model_name": "DescriptionStyleModel",
      "state": {
       "description_width": ""
      }
     },
     "ae1439e990d54167ba2f2e0ff6521435": {
      "model_module": "@jupyter-widgets/base",
      "model_module_version": "1.2.0",
      "model_name": "LayoutModel",
      "state": {}
     },
     "aeb5c3f668434382ae291f8c92eee291": {
      "model_module": "@jupyter-widgets/controls",
      "model_module_version": "1.5.0",
      "model_name": "DescriptionStyleModel",
      "state": {
       "description_width": ""
      }
     },
     "aedfeeff56004804a881db38beda7c1f": {
      "model_module": "@jupyter-widgets/base",
      "model_module_version": "1.2.0",
      "model_name": "LayoutModel",
      "state": {}
     },
     "af3371713dcc4ed6a47f046119bfb55b": {
      "model_module": "@jupyter-widgets/base",
      "model_module_version": "1.2.0",
      "model_name": "LayoutModel",
      "state": {}
     },
     "afa12aa940af4bc591d00f34071c050d": {
      "model_module": "@jupyter-widgets/controls",
      "model_module_version": "1.5.0",
      "model_name": "ValidModel",
      "state": {
       "description": "Valid!",
       "layout": "IPY_MODEL_22c22294b7f748f28aaab375c3182870",
       "style": "IPY_MODEL_32c4b9eda2dd4bf0b25641ed7c4654ba"
      }
     },
     "afa5f3b4cd4d4355954a89388956c240": {
      "model_module": "@jupyter-widgets/controls",
      "model_module_version": "1.5.0",
      "model_name": "DescriptionStyleModel",
      "state": {
       "description_width": ""
      }
     },
     "b026ae18523a4c389d24a49773a4922e": {
      "model_module": "@jupyter-widgets/base",
      "model_module_version": "1.2.0",
      "model_name": "LayoutModel",
      "state": {}
     },
     "b02bc7ad693d4e0e869109fe6a25cdb6": {
      "model_module": "@jupyter-widgets/base",
      "model_module_version": "1.2.0",
      "model_name": "LayoutModel",
      "state": {}
     },
     "b0656bcb525d43968e0ec50ef0f29ce7": {
      "model_module": "@jupyter-widgets/controls",
      "model_module_version": "1.5.0",
      "model_name": "DescriptionStyleModel",
      "state": {
       "description_width": ""
      }
     },
     "b0ba453763654f00817ba9b8429f6508": {
      "model_module": "@jupyter-widgets/controls",
      "model_module_version": "1.5.0",
      "model_name": "DescriptionStyleModel",
      "state": {
       "description_width": ""
      }
     },
     "b139b839c7fa4c18a6b7644fe857db9d": {
      "model_module": "@jupyter-widgets/base",
      "model_module_version": "1.2.0",
      "model_name": "LayoutModel",
      "state": {}
     },
     "b18921573f5e4d269a1f9cc210baaf35": {
      "model_module": "@jupyter-widgets/controls",
      "model_module_version": "1.5.0",
      "model_name": "SliderStyleModel",
      "state": {
       "description_width": ""
      }
     },
     "b1ce0cdc37de4277ad76757bd776f498": {
      "model_module": "@jupyter-widgets/controls",
      "model_module_version": "1.5.0",
      "model_name": "DescriptionStyleModel",
      "state": {
       "description_width": ""
      }
     },
     "b1f86f84e9584997a8e24120f7978ae7": {
      "model_module": "@jupyter-widgets/controls",
      "model_module_version": "1.5.0",
      "model_name": "LabelModel",
      "state": {
       "layout": "IPY_MODEL_548cc944bd2446d0a775d41103c235ad",
       "style": "IPY_MODEL_fca3a4362ae841ccb7c052ce36d05cc7",
       "value": "1"
      }
     },
     "b20efa1121eb46389a048f6540a9fc61": {
      "model_module": "@jupyter-widgets/controls",
      "model_module_version": "1.5.0",
      "model_name": "DescriptionStyleModel",
      "state": {
       "description_width": ""
      }
     },
     "b247bd181c5b4c5fa3306b3776094d40": {
      "model_module": "@jupyter-widgets/controls",
      "model_module_version": "1.5.0",
      "model_name": "HBoxModel",
      "state": {
       "children": [
        "IPY_MODEL_6fe61f7d45cf4efdb9109f426d12a505",
        "IPY_MODEL_2efd9dfb7ed74bbc8121c6d56a5e638f"
       ],
       "layout": "IPY_MODEL_d13abd4c50f54d39b81a31d9706b0287"
      }
     },
     "b263fe75436442318dfd7a1ea9a53f49": {
      "model_module": "@jupyter-widgets/controls",
      "model_module_version": "1.5.0",
      "model_name": "DescriptionStyleModel",
      "state": {
       "description_width": ""
      }
     },
     "b2ddfdb552cb4fc187f89605bd2f967d": {
      "model_module": "@jupyter-widgets/controls",
      "model_module_version": "1.5.0",
      "model_name": "DescriptionStyleModel",
      "state": {
       "description_width": ""
      }
     },
     "b31923febce744f68b84f65af7e20b8e": {
      "model_module": "@jupyter-widgets/controls",
      "model_module_version": "1.5.0",
      "model_name": "TextModel",
      "state": {
       "description": "P1",
       "layout": "IPY_MODEL_907374a9b5d34e1ea677a457ff247544",
       "style": "IPY_MODEL_7dc27646d719412b9727bfbdd988b9fb"
      }
     },
     "b32a785750674650b30df7ddb53b0237": {
      "model_module": "@jupyter-widgets/controls",
      "model_module_version": "1.5.0",
      "model_name": "DescriptionStyleModel",
      "state": {
       "description_width": ""
      }
     },
     "b346ece6102e4eff9bc43ef5f6a17763": {
      "model_module": "@jupyter-widgets/base",
      "model_module_version": "1.2.0",
      "model_name": "LayoutModel",
      "state": {}
     },
     "b387a2c3a31240448c4761e36223ff5b": {
      "model_module": "@jupyter-widgets/output",
      "model_module_version": "1.0.0",
      "model_name": "OutputModel",
      "state": {
       "layout": "IPY_MODEL_9815d00f47e9419bbe792946fb733960",
       "outputs": [
        {
         "name": "stdout",
         "output_type": "stream",
         "text": "0 Hello world!\n1 Hello world!\n2 Hello world!\n3 Hello world!\n4 Hello world!\n5 Hello world!\n6 Hello world!\n7 Hello world!\n8 Hello world!\n9 Hello world!\n"
        }
       ]
      }
     },
     "b3c84b491fb94685bee50f59268d5c83": {
      "model_module": "@jupyter-widgets/base",
      "model_module_version": "1.2.0",
      "model_name": "LayoutModel",
      "state": {}
     },
     "b4119a9b31d2405bb1df08255fd1a1c3": {
      "model_module": "@jupyter-widgets/controls",
      "model_module_version": "1.5.0",
      "model_name": "IntSliderModel",
      "state": {
       "layout": "IPY_MODEL_b9d82fa3b0bc487cad5f865438e5b4fb",
       "style": "IPY_MODEL_98d05721459c4362848927c645faf52a"
      }
     },
     "b41870818d854cb5a1e54361cffe3e79": {
      "model_module": "@jupyter-widgets/controls",
      "model_module_version": "1.5.0",
      "model_name": "ProgressStyleModel",
      "state": {
       "description_width": ""
      }
     },
     "b424f850771146c9889ba1fe66694f4b": {
      "model_module": "@jupyter-widgets/base",
      "model_module_version": "1.2.0",
      "model_name": "LayoutModel",
      "state": {}
     },
     "b461501d13d5416dba7c4312ede37ea9": {
      "model_module": "@jupyter-widgets/base",
      "model_module_version": "1.2.0",
      "model_name": "LayoutModel",
      "state": {}
     },
     "b497903805fa478fb7fbbf87f80355b0": {
      "model_module": "@jupyter-widgets/controls",
      "model_module_version": "1.5.0",
      "model_name": "TextareaModel",
      "state": {
       "description": "String:",
       "layout": "IPY_MODEL_23f24bbe467e4092888227b31dabf499",
       "placeholder": "Type something",
       "style": "IPY_MODEL_8c0b588480194b7890a8cf40b8a72438",
       "value": "Hello World"
      }
     },
     "b4c640771475424f919e2e55dbf79df2": {
      "model_module": "@jupyter-widgets/base",
      "model_module_version": "1.2.0",
      "model_name": "LayoutModel",
      "state": {}
     },
     "b4f65706723f480a8949a932869accc8": {
      "model_module": "@jupyter-widgets/controls",
      "model_module_version": "1.5.0",
      "model_name": "IntTextModel",
      "state": {
       "description": "Any:",
       "layout": "IPY_MODEL_29485eb7bdc04eceb4e74b9935b46a05",
       "step": 1,
       "style": "IPY_MODEL_9662c855f0ba42288ec1cdc0a6dd5d2f",
       "value": 7
      }
     },
     "b4fcde747bf14601bcedb661510e5295": {
      "model_module": "@jupyter-widgets/base",
      "model_module_version": "1.2.0",
      "model_name": "LayoutModel",
      "state": {}
     },
     "b5165e736ac94de9a54276860d20696f": {
      "model_module": "@jupyter-widgets/controls",
      "model_module_version": "1.5.0",
      "model_name": "ProgressStyleModel",
      "state": {
       "description_width": ""
      }
     },
     "b55a3b81c7e64cfcb1fa610d3cd4e4d2": {
      "model_module": "@jupyter-widgets/base",
      "model_module_version": "1.2.0",
      "model_name": "LayoutModel",
      "state": {}
     },
     "b55f3477023f4b058e976bdf23e6fa2c": {
      "model_module": "@jupyter-widgets/controls",
      "model_module_version": "1.5.0",
      "model_name": "FloatTextModel",
      "state": {
       "description": "Any:",
       "layout": "IPY_MODEL_54002b1fd64349fb813a66c8622a47e8",
       "step": null,
       "style": "IPY_MODEL_27046562ba624fd6aef6868ff186910d",
       "value": 7.5
      }
     },
     "b58bca3650174e17838f333b81d2c468": {
      "model_module": "@jupyter-widgets/controls",
      "model_module_version": "1.5.0",
      "model_name": "FloatSliderModel",
      "state": {
       "continuous_update": false,
       "description": "Test:",
       "layout": "IPY_MODEL_02bf9c9559d84beaa4a98cbaff30919f",
       "max": 10,
       "readout_format": ".1f",
       "step": 0.1,
       "style": "IPY_MODEL_8ead03a4cc5e4898ab00e4c3addc824a",
       "value": 7.5
      }
     },
     "b5ab60b1c8d745d28cd450f684dd14c6": {
      "model_module": "@jupyter-widgets/controls",
      "model_module_version": "1.5.0",
      "model_name": "FloatRangeSliderModel",
      "state": {
       "_model_name": "FloatRangeSliderModel",
       "_view_name": "FloatRangeSliderView",
       "continuous_update": false,
       "description": "Test:",
       "layout": "IPY_MODEL_e4ebc760e6464edf8efc2717774645f9",
       "max": 10,
       "readout_format": ".1f",
       "step": 0.1,
       "style": "IPY_MODEL_e831012e2ece4521a47a19e8a8a8c64e",
       "value": [
        5,
        7.5
       ]
      }
     },
     "b5d3a04ebaee4e009ed9f56967d16ee8": {
      "model_module": "@jupyter-widgets/base",
      "model_module_version": "1.2.0",
      "model_name": "LayoutModel",
      "state": {}
     },
     "b5eb39202b8b42e2a9b56bc6d81d8ff3": {
      "model_module": "@jupyter-widgets/controls",
      "model_module_version": "1.5.0",
      "model_name": "FloatProgressModel",
      "state": {
       "bar_style": "info",
       "description": "Loading:",
       "layout": "IPY_MODEL_4bc74f8edf4c49cb95dd55c162d07c4a",
       "max": 10,
       "style": "IPY_MODEL_65d5e0cece874284b1524d8880cd9aac",
       "value": 7.5
      }
     },
     "b60b735061854bbb9c43b7d61b34c3ad": {
      "model_module": "@jupyter-widgets/controls",
      "model_module_version": "1.5.0",
      "model_name": "LabelModel",
      "state": {
       "layout": "IPY_MODEL_de06f052ba094ae9b45779f94c6743a9",
       "style": "IPY_MODEL_71abe68359884c38aa86dac5907be63f",
       "value": "0"
      }
     },
     "b6ed21882187472ca3964b85014d4a0a": {
      "model_module": "@jupyter-widgets/base",
      "model_module_version": "1.2.0",
      "model_name": "LayoutModel",
      "state": {}
     },
     "b71e1fe239aa47f98d182cd20daeb7b9": {
      "model_module": "@jupyter-widgets/base",
      "model_module_version": "1.2.0",
      "model_name": "LayoutModel",
      "state": {}
     },
     "b79a9b999791417a8f76c519e67288a0": {
      "model_module": "@jupyter-widgets/controls",
      "model_module_version": "1.5.0",
      "model_name": "LabelModel",
      "state": {
       "layout": "IPY_MODEL_7f53719fd13f47bdaad9000066aaf58d",
       "style": "IPY_MODEL_3725e7de26e54fa0b21e9f6fd4b7db18",
       "value": "2"
      }
     },
     "b79d4716bfa14bdfb275a52c52bfbdf3": {
      "model_module": "@jupyter-widgets/base",
      "model_module_version": "1.2.0",
      "model_name": "LayoutModel",
      "state": {}
     },
     "b7a1931fbf024ae1a625a92c75a66795": {
      "model_module": "@jupyter-widgets/controls",
      "model_module_version": "1.5.0",
      "model_name": "ProgressStyleModel",
      "state": {
       "description_width": ""
      }
     },
     "b7df85f263464cfb8ad71c4722b11d18": {
      "model_module": "@jupyter-widgets/base",
      "model_module_version": "1.2.0",
      "model_name": "LayoutModel",
      "state": {}
     },
     "b826b61682cd4276b4f531f899f8b8e5": {
      "model_module": "@jupyter-widgets/controls",
      "model_module_version": "1.5.0",
      "model_name": "DescriptionStyleModel",
      "state": {
       "description_width": ""
      }
     },
     "b8490d07b8094c959a5fcedeac6b1abf": {
      "buffers": [
       {
        "data": "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",
        "encoding": "base64",
        "path": [
         "value"
        ]
       }
      ],
      "model_module": "@jupyter-widgets/controls",
      "model_module_version": "1.5.0",
      "model_name": "ImageModel",
      "state": {
       "format": "gif",
       "height": "128",
       "layout": "IPY_MODEL_ab3e9e7b99bd436099f8668a44dea754",
       "width": "128"
      }
     },
     "b84d0d096e014b0e82142ca20762fdab": {
      "model_module": "@jupyter-widgets/base",
      "model_module_version": "1.2.0",
      "model_name": "LayoutModel",
      "state": {}
     },
     "b856f97ac3bf42ae98fbc356ff1cee3c": {
      "model_module": "@jupyter-widgets/controls",
      "model_module_version": "1.5.0",
      "model_name": "VBoxModel",
      "state": {
       "children": [
        "IPY_MODEL_6ed266be750042a9bbd3bb30b506ff58",
        "IPY_MODEL_547c4c0e3fcb4f52a7bd7a436fe64b1c"
       ],
       "layout": "IPY_MODEL_c71643e19ef34dcbb89c516b8f6601c8"
      }
     },
     "b87a778f0a12492e9e7ab92eede747fe": {
      "model_module": "@jupyter-widgets/controls",
      "model_module_version": "1.5.0",
      "model_name": "DescriptionStyleModel",
      "state": {
       "description_width": ""
      }
     },
     "b886c4ace38749b3b56f939e94c4cd17": {
      "model_module": "@jupyter-widgets/controls",
      "model_module_version": "1.5.0",
      "model_name": "TextModel",
      "state": {
       "description": "P2",
       "layout": "IPY_MODEL_8298c492644141b896b7bcf7ae32844e",
       "style": "IPY_MODEL_a54b79b31f1a4b3ba7072b45dba54288"
      }
     },
     "b891968d245d4063b282a6721acc95f7": {
      "model_module": "@jupyter-widgets/controls",
      "model_module_version": "1.5.0",
      "model_name": "HBoxModel",
      "state": {
       "children": [
        "IPY_MODEL_fa013ae23fdb4581ba53df6e0bda91e2",
        "IPY_MODEL_d6b751c3ea0b4dd1bc1c34b3b15ee6d4",
        "IPY_MODEL_4180c0c930b745b1a6d2c5bc5c2d92f2",
        "IPY_MODEL_ac11177275524e749bcb486b6c3ed89f"
       ],
       "layout": "IPY_MODEL_3f3a8c7241c443a39e5a9010ed5e46f4"
      }
     },
     "b8c663cebb5c4d2ea3405b15587846f9": {
      "model_module": "@jupyter-widgets/controls",
      "model_module_version": "1.5.0",
      "model_name": "DescriptionStyleModel",
      "state": {
       "description_width": ""
      }
     },
     "b8c9638d85cc46a8afba53bea0303cd1": {
      "model_module": "@jupyter-widgets/controls",
      "model_module_version": "1.5.0",
      "model_name": "IntSliderModel",
      "state": {
       "layout": "IPY_MODEL_04cdb1ba17794522a346a152b2e4ba56",
       "style": "IPY_MODEL_dda38b9448314d0fb844bdad5e16db90",
       "value": 50
      }
     },
     "b8cffe2c79a3413699f54fc1241fb37e": {
      "model_module": "@jupyter-widgets/base",
      "model_module_version": "1.2.0",
      "model_name": "LayoutModel",
      "state": {}
     },
     "b8d34acac38f4753b5f6a961bcace13b": {
      "model_module": "@jupyter-widgets/controls",
      "model_module_version": "1.5.0",
      "model_name": "SliderStyleModel",
      "state": {
       "description_width": ""
      }
     },
     "b912d8bbc3304c598c433ae3e4daae4f": {
      "model_module": "@jupyter-widgets/controls",
      "model_module_version": "1.5.0",
      "model_name": "TextModel",
      "state": {
       "description": "String:",
       "layout": "IPY_MODEL_a61e5b685b4b47cf8c71c2ef69eb3e5c",
       "placeholder": "Type something",
       "style": "IPY_MODEL_52fdeae05a79405fbb9c61a3e0b93787",
       "value": "Hello World"
      }
     },
     "b964afe45b8441a39dfee9a01ae3c58a": {
      "model_module": "@jupyter-widgets/controls",
      "model_module_version": "1.5.0",
      "model_name": "DescriptionStyleModel",
      "state": {
       "description_width": ""
      }
     },
     "b9720f8593f746f0b5b8acaa4141528d": {
      "model_module": "@jupyter-widgets/base",
      "model_module_version": "1.2.0",
      "model_name": "LayoutModel",
      "state": {}
     },
     "b97efbb9d6d6433b8fd16130743e89d4": {
      "model_module": "@jupyter-widgets/controls",
      "model_module_version": "1.5.0",
      "model_name": "SliderStyleModel",
      "state": {
       "description_width": ""
      }
     },
     "b9d82fa3b0bc487cad5f865438e5b4fb": {
      "model_module": "@jupyter-widgets/base",
      "model_module_version": "1.2.0",
      "model_name": "LayoutModel",
      "state": {}
     },
     "b9de4987354f4792b4536719e73760b5": {
      "model_module": "@jupyter-widgets/base",
      "model_module_version": "1.2.0",
      "model_name": "LayoutModel",
      "state": {
       "border": "1px solid black"
      }
     },
     "b9e9215d9e9847f485eaefd0f1cb3721": {
      "model_module": "@jupyter-widgets/base",
      "model_module_version": "1.2.0",
      "model_name": "LayoutModel",
      "state": {}
     },
     "ba41c9581a814ba89f844fb9347e4d32": {
      "model_module": "@jupyter-widgets/controls",
      "model_module_version": "1.5.0",
      "model_name": "FloatProgressModel",
      "state": {
       "bar_style": "info",
       "description": "Loading:",
       "layout": "IPY_MODEL_d3570ee067354e9c898085a17b543c1d",
       "max": 10,
       "style": "IPY_MODEL_b7a1931fbf024ae1a625a92c75a66795",
       "value": 7.5
      }
     },
     "ba44a06c176a41b0b4bb3613f58f4482": {
      "model_module": "@jupyter-widgets/controls",
      "model_module_version": "1.5.0",
      "model_name": "DescriptionStyleModel",
      "state": {
       "description_width": ""
      }
     },
     "ba55c0cdadcf455bb40ba197d68e72f5": {
      "model_module": "@jupyter-widgets/base",
      "model_module_version": "1.2.0",
      "model_name": "LayoutModel",
      "state": {}
     },
     "ba5d17daf25c428d94eba102c27a87e8": {
      "model_module": "@jupyter-widgets/controls",
      "model_module_version": "1.5.0",
      "model_name": "SliderStyleModel",
      "state": {
       "description_width": ""
      }
     },
     "ba81594d31524ae9835437af04aa1f29": {
      "model_module": "@jupyter-widgets/controls",
      "model_module_version": "1.5.0",
      "model_name": "SelectModel",
      "state": {
       "_options_labels": [
        "Linux",
        "Windows",
        "OSX"
       ],
       "description": "OS:",
       "index": 2,
       "layout": "IPY_MODEL_2fa1aba851f7404681c1c7de7892cab0",
       "style": "IPY_MODEL_7ef5939aee544a3c96caac9a78ac6c3c"
      }
     },
     "baaf0cf20d5643a4bea62dd2f64909e9": {
      "model_module": "@jupyter-widgets/controls",
      "model_module_version": "1.5.0",
      "model_name": "IntSliderModel",
      "state": {
       "layout": "IPY_MODEL_3868629228d64a9b8ce673d8973a3183",
       "style": "IPY_MODEL_7ba77fc4d02645dc860d485602dc7462",
       "value": 33
      }
     },
     "baf6dc7d5cc84c5788152369288b4463": {
      "model_module": "@jupyter-widgets/controls",
      "model_module_version": "1.5.0",
      "model_name": "TabModel",
      "state": {
       "_titles": {
        "0": "An accordion",
        "1": "Copy of the accordion"
       },
       "children": [
        "IPY_MODEL_56c183302b0a4ebca538bc559cca8c59",
        "IPY_MODEL_56c183302b0a4ebca538bc559cca8c59"
       ],
       "layout": "IPY_MODEL_f1fc6e56f73c4f7191cc748582bdaeb0"
      }
     },
     "baf9b0e3aac24d4da368e0a956010481": {
      "model_module": "@jupyter-widgets/base",
      "model_module_version": "1.2.0",
      "model_name": "LayoutModel",
      "state": {}
     },
     "bb02d1c2beb5421aaf209369f44af67b": {
      "model_module": "@jupyter-widgets/controls",
      "model_module_version": "1.5.0",
      "model_name": "DescriptionStyleModel",
      "state": {
       "description_width": ""
      }
     },
     "bb1781f8788746cb8c48579b69cb8ab8": {
      "model_module": "@jupyter-widgets/base",
      "model_module_version": "1.2.0",
      "model_name": "LayoutModel",
      "state": {}
     },
     "bb475d71b1f84840b325a7cfc28759c6": {
      "model_module": "@jupyter-widgets/controls",
      "model_module_version": "1.5.0",
      "model_name": "LinkModel",
      "state": {
       "source": [
        "IPY_MODEL_64b5d6645dc64fb98fab2544754f30d7",
        "value"
       ],
       "target": [
        "IPY_MODEL_e60e2182494a4a0585897e96de0c2bb6",
        "value"
       ]
      }
     },
     "bb5909de6a5f4f07bc9ead84d4bede64": {
      "model_module": "@jupyter-widgets/controls",
      "model_module_version": "1.5.0",
      "model_name": "BoundedIntTextModel",
      "state": {
       "description": "Text:",
       "layout": "IPY_MODEL_2742d4e0be394ce8b8cf27c9cf4ff26f",
       "max": 10,
       "style": "IPY_MODEL_c30c4103997647ffbd26ada507724fe0",
       "value": 7
      }
     },
     "bbdb3195d49849679cc1305df028dd27": {
      "model_module": "@jupyter-widgets/controls",
      "model_module_version": "1.5.0",
      "model_name": "DropdownModel",
      "state": {
       "_options_labels": [
        "1",
        "2",
        "3"
       ],
       "description": "Number:",
       "index": 1,
       "layout": "IPY_MODEL_f2006b2f61044d8cb1a9efd902eca260",
       "style": "IPY_MODEL_9398c165131146c5900eff252021dee7"
      }
     },
     "bbed48b4a5dd4a5d9831d4cd880e445c": {
      "model_module": "@jupyter-widgets/controls",
      "model_module_version": "1.5.0",
      "model_name": "BoundedFloatTextModel",
      "state": {
       "description": "Text:",
       "layout": "IPY_MODEL_dc2e6ed23d4943219ea90458025bfbdc",
       "max": 10,
       "style": "IPY_MODEL_03873a931cc14af0bb4044193bcc299f",
       "value": 7.5
      }
     },
     "bc0feb92025648e68986b36a664701ab": {
      "model_module": "@jupyter-widgets/base",
      "model_module_version": "1.2.0",
      "model_name": "LayoutModel",
      "state": {}
     },
     "bc27e7b6e59c4936914850079765832e": {
      "model_module": "@jupyter-widgets/controls",
      "model_module_version": "1.5.0",
      "model_name": "LabelModel",
      "state": {
       "layout": "IPY_MODEL_cf96a1abde5a46ac9533d22ba495014b",
       "style": "IPY_MODEL_5c9969e6942f4bd8b73562f60e11fa58",
       "value": "0"
      }
     },
     "bc3f9b22f1ca4bcbbe66c3fc46fb324d": {
      "model_module": "@jupyter-widgets/controls",
      "model_module_version": "1.5.0",
      "model_name": "DescriptionStyleModel",
      "state": {
       "description_width": ""
      }
     },
     "bcbcee8ed3624fb8b94cf14e62d4e701": {
      "model_module": "@jupyter-widgets/controls",
      "model_module_version": "1.5.0",
      "model_name": "SelectionRangeSliderModel",
      "state": {
       "_model_name": "SelectionRangeSliderModel",
       "_options_labels": [
        "Jan",
        "Feb",
        "Mar",
        "Apr",
        "May",
        "Jun",
        "Jul",
        "Aug",
        "Sep",
        "Oct",
        "Nov",
        "Dec"
       ],
       "_view_name": "SelectionRangeSliderView",
       "description": "Months (2015)",
       "index": [
        0,
        11
       ],
       "layout": "IPY_MODEL_3a1f0ab958ec49dab3c154fbc845edc5",
       "style": "IPY_MODEL_b87a778f0a12492e9e7ab92eede747fe"
      }
     },
     "bccf8e37776b461ea7e005df1111bfa1": {
      "model_module": "@jupyter-widgets/controls",
      "model_module_version": "1.5.0",
      "model_name": "HBoxModel",
      "state": {
       "children": [
        "IPY_MODEL_51c3f33494724fffb11006fbf7d4e9a0",
        "IPY_MODEL_f4ec040916174fe886df33c1a38f61b3",
        "IPY_MODEL_d29575486f504bce8cc9aba43db40c5a",
        "IPY_MODEL_d81e33b041744c5a81e583d8c14dd233"
       ],
       "layout": "IPY_MODEL_6467dd444ab34c6f844c7f2fea4bd05c"
      }
     },
     "bcfec95ac428429baf7a7067e3a83309": {
      "model_module": "@jupyter-widgets/base",
      "model_module_version": "1.2.0",
      "model_name": "LayoutModel",
      "state": {}
     },
     "bd2a76e63846430bb615741b760811ee": {
      "model_module": "@jupyter-widgets/base",
      "model_module_version": "1.2.0",
      "model_name": "LayoutModel",
      "state": {}
     },
     "bd3ee3dbf70b4bca8c76601ddb274121": {
      "model_module": "@jupyter-widgets/base",
      "model_module_version": "1.2.0",
      "model_name": "LayoutModel",
      "state": {}
     },
     "bd6dbc31c6854470ad1e3e105fceb1a5": {
      "model_module": "@jupyter-widgets/base",
      "model_module_version": "1.2.0",
      "model_name": "LayoutModel",
      "state": {}
     },
     "bd9d9cd2132b4da284255571238eea8a": {
      "model_module": "@jupyter-widgets/controls",
      "model_module_version": "1.5.0",
      "model_name": "FloatLogSliderModel",
      "state": {
       "description": "Log Slider",
       "layout": "IPY_MODEL_038d03f9eb32434fba0c45fdedea6f2f",
       "max": 10,
       "min": -10,
       "step": 0.2,
       "style": "IPY_MODEL_45d0e0187d2644ab9abb903441b20294",
       "value": 10
      }
     },
     "bdcee63eaec5440f91b7f6fad5f327b9": {
      "model_module": "@jupyter-widgets/base",
      "model_module_version": "1.2.0",
      "model_name": "LayoutModel",
      "state": {}
     },
     "be6a94094a6947e5ac17b179aa8178a3": {
      "model_module": "@jupyter-widgets/controls",
      "model_module_version": "1.5.0",
      "model_name": "AccordionModel",
      "state": {
       "_titles": {
        "0": "Slider",
        "1": "Text"
       },
       "children": [
        "IPY_MODEL_e4cae7064efd43528e7c22f4c29e330b",
        "IPY_MODEL_ec592743f41349dbaf412623c5640079"
       ],
       "layout": "IPY_MODEL_a1a1257eb5a9475a8ba76b48bad0e5f7",
       "selected_index": null
      }
     },
     "be7ccbe24fab4040897e1504b30f14a1": {
      "model_module": "@jupyter-widgets/controls",
      "model_module_version": "1.5.0",
      "model_name": "IntTextModel",
      "state": {
       "description": "Any:",
       "layout": "IPY_MODEL_84b8048c55ae417c82042e2148d0d264",
       "step": 1,
       "style": "IPY_MODEL_fc2c0ef27c8d4801a30659b042c91c06",
       "value": 7
      }
     },
     "bebb7318674b4c58a8c4e76655d0fcea": {
      "model_module": "@jupyter-widgets/controls",
      "model_module_version": "1.5.0",
      "model_name": "LabelModel",
      "state": {
       "layout": "IPY_MODEL_d17d57a886c4448189238ef64fe45231",
       "style": "IPY_MODEL_e1955b91c61e43eea80315ee7494503d",
       "value": "3"
      }
     },
     "bec93d736dd04dd9a413bc30aa8b8c2a": {
      "model_module": "@jupyter-widgets/controls",
      "model_module_version": "1.5.0",
      "model_name": "DescriptionStyleModel",
      "state": {
       "description_width": ""
      }
     },
     "bee4b5b38ef94626af768ac708c61708": {
      "model_module": "@jupyter-widgets/controls",
      "model_module_version": "1.5.0",
      "model_name": "ControllerModel",
      "state": {
       "layout": "IPY_MODEL_1d65ac2a92f64df39e6cecc86bae05d6"
      }
     },
     "bef434b0effb4d7d8411f4e3e0264e03": {
      "model_module": "@jupyter-widgets/controls",
      "model_module_version": "1.5.0",
      "model_name": "LabelModel",
      "state": {
       "layout": "IPY_MODEL_2061fde8fe2542b7a4aa54ecdd6ab2fa",
       "style": "IPY_MODEL_1f2242f0713c4714aad3e2cff66a5e07",
       "value": "2"
      }
     },
     "bf7352b77c5140e2b7148ad42120a3cf": {
      "model_module": "@jupyter-widgets/controls",
      "model_module_version": "1.5.0",
      "model_name": "SliderStyleModel",
      "state": {
       "description_width": ""
      }
     },
     "bfed71ac05bf4a5ca6bc2291d5e8cb4c": {
      "model_module": "@jupyter-widgets/controls",
      "model_module_version": "1.5.0",
      "model_name": "HTMLMathModel",
      "state": {
       "description": "Some HTML",
       "layout": "IPY_MODEL_f4812cd6278d4cf8a7c2f630f3c44714",
       "placeholder": "Some HTML",
       "style": "IPY_MODEL_a6cd890eb9da45a5817fb735932f9832",
       "value": "Some math and <i>HTML</i>: \\(x^2\\) and $$\\frac{x+1}{x-1}$$"
      }
     },
     "bfeed09c446c41c39ead0eaf36171769": {
      "model_module": "@jupyter-widgets/controls",
      "model_module_version": "1.5.0",
      "model_name": "SliderStyleModel",
      "state": {
       "description_width": ""
      }
     },
     "bff171db28b441558265df4f3aa91d7d": {
      "model_module": "@jupyter-widgets/controls",
      "model_module_version": "1.5.0",
      "model_name": "HBoxModel",
      "state": {
       "children": [
        "IPY_MODEL_63fb5c6997ec42f18a9409aa7a3cd3d7",
        "IPY_MODEL_a27370f0e32842d396c552662b9950d7",
        "IPY_MODEL_5c59f5cd5b5645aa9784386b254db299",
        "IPY_MODEL_00a2a225ab24407ab131429e07e461f1"
       ],
       "layout": "IPY_MODEL_85dc0683217f496f9c20d3b012502545"
      }
     },
     "c05acffd03d346efa368c1fd968a3575": {
      "model_module": "@jupyter-widgets/controls",
      "model_module_version": "1.5.0",
      "model_name": "DescriptionStyleModel",
      "state": {
       "description_width": ""
      }
     },
     "c1234562a24b48b3b689c180808018cf": {
      "model_module": "@jupyter-widgets/base",
      "model_module_version": "1.2.0",
      "model_name": "LayoutModel",
      "state": {}
     },
     "c134a0ebe2bc44a78906c22caf9f8481": {
      "model_module": "@jupyter-widgets/controls",
      "model_module_version": "1.5.0",
      "model_name": "TextModel",
      "state": {
       "layout": "IPY_MODEL_3ff0b7eda1bb490485d20f758791fe75",
       "style": "IPY_MODEL_bec93d736dd04dd9a413bc30aa8b8c2a"
      }
     },
     "c157b9a19dbe4f4b8524aa2de365a88d": {
      "model_module": "@jupyter-widgets/base",
      "model_module_version": "1.2.0",
      "model_name": "LayoutModel",
      "state": {}
     },
     "c1f589833f9644a98c63bad1aede5333": {
      "model_module": "@jupyter-widgets/output",
      "model_module_version": "1.0.0",
      "model_name": "OutputModel",
      "state": {
       "layout": "IPY_MODEL_6a2576f257964b959f6e296e6015a8e9"
      }
     },
     "c25a123ff8cc4364a9b89c3278f845ad": {
      "model_module": "@jupyter-widgets/base",
      "model_module_version": "1.2.0",
      "model_name": "LayoutModel",
      "state": {}
     },
     "c25f1b0c33dc439a80ea319940169b25": {
      "model_module": "@jupyter-widgets/base",
      "model_module_version": "1.2.0",
      "model_name": "LayoutModel",
      "state": {}
     },
     "c2a295d6d4434075870481ecdaa7c84d": {
      "model_module": "@jupyter-widgets/controls",
      "model_module_version": "1.5.0",
      "model_name": "BoundedIntTextModel",
      "state": {
       "description": "Text:",
       "layout": "IPY_MODEL_706506865d9d4ee5b1ca571f46695046",
       "max": 10,
       "style": "IPY_MODEL_285a3de7d088470d807bdb9545709027",
       "value": 7
      }
     },
     "c2a6ae29cf094da49dc1c44b9f8ae206": {
      "model_module": "@jupyter-widgets/controls",
      "model_module_version": "1.5.0",
      "model_name": "DescriptionStyleModel",
      "state": {
       "description_width": ""
      }
     },
     "c2b671acc8984070a74ae6b719c8baec": {
      "model_module": "@jupyter-widgets/base",
      "model_module_version": "1.2.0",
      "model_name": "LayoutModel",
      "state": {}
     },
     "c2fc5b4544624287bfb031e8f7fb34cb": {
      "model_module": "@jupyter-widgets/controls",
      "model_module_version": "1.5.0",
      "model_name": "HTMLMathModel",
      "state": {
       "description": "Some HTML",
       "layout": "IPY_MODEL_c4a096e2c7ca4e6f9c9527aa357dca67",
       "placeholder": "Some HTML",
       "style": "IPY_MODEL_9cb8b459ca4b4cf5b95bc1c70e2c0bf8",
       "value": "Some math and <i>HTML</i>: \\(x^2\\) and $$\\frac{x+1}{x-1}$$"
      }
     },
     "c30c4103997647ffbd26ada507724fe0": {
      "model_module": "@jupyter-widgets/controls",
      "model_module_version": "1.5.0",
      "model_name": "DescriptionStyleModel",
      "state": {
       "description_width": ""
      }
     },
     "c30d7450f23e42c1b637ed5c3e75289b": {
      "model_module": "@jupyter-widgets/base",
      "model_module_version": "1.2.0",
      "model_name": "LayoutModel",
      "state": {}
     },
     "c310a5b2dc4b45f2bbb74f2ce25eadf1": {
      "model_module": "@jupyter-widgets/controls",
      "model_module_version": "1.5.0",
      "model_name": "TextModel",
      "state": {
       "description": "P4",
       "layout": "IPY_MODEL_ddc024ce613445029a899fa65974ee3d",
       "style": "IPY_MODEL_845bcde0f9344337a321f44b17e78f24"
      }
     },
     "c3599ec7b3dc46b4812858ca509ccabf": {
      "model_module": "@jupyter-widgets/base",
      "model_module_version": "1.2.0",
      "model_name": "LayoutModel",
      "state": {}
     },
     "c3c1b4e923964f4cad9516d785a9887b": {
      "model_module": "@jupyter-widgets/base",
      "model_module_version": "1.2.0",
      "model_name": "LayoutModel",
      "state": {}
     },
     "c43fd48f33684e288bff5a3a16fa39b2": {
      "model_module": "@jupyter-widgets/base",
      "model_module_version": "1.2.0",
      "model_name": "LayoutModel",
      "state": {}
     },
     "c46e37c25c324527afdef32c2e38d668": {
      "model_module": "@jupyter-widgets/controls",
      "model_module_version": "1.5.0",
      "model_name": "TextModel",
      "state": {
       "description": "P3",
       "layout": "IPY_MODEL_ae1439e990d54167ba2f2e0ff6521435",
       "style": "IPY_MODEL_51355ed7779044a59cd36d807b5b8942"
      }
     },
     "c4a096e2c7ca4e6f9c9527aa357dca67": {
      "model_module": "@jupyter-widgets/base",
      "model_module_version": "1.2.0",
      "model_name": "LayoutModel",
      "state": {}
     },
     "c58a5dca25dc4b278fd83db2b94dae1c": {
      "model_module": "@jupyter-widgets/controls",
      "model_module_version": "1.5.0",
      "model_name": "DescriptionStyleModel",
      "state": {
       "description_width": ""
      }
     },
     "c5cb6face0634caca7b3cddd924583a2": {
      "model_module": "@jupyter-widgets/controls",
      "model_module_version": "1.5.0",
      "model_name": "BoundedIntTextModel",
      "state": {
       "description": "Text:",
       "layout": "IPY_MODEL_2c99a19326424d2885bdec2583a7194e",
       "max": 10,
       "style": "IPY_MODEL_ab812035dfbc4611b1b90eb0005b2dfd",
       "value": 7
      }
     },
     "c5ea0da036eb4e9088393b95d5ff6f6f": {
      "model_module": "@jupyter-widgets/controls",
      "model_module_version": "1.5.0",
      "model_name": "VBoxModel",
      "state": {
       "children": [
        "IPY_MODEL_b79a9b999791417a8f76c519e67288a0",
        "IPY_MODEL_8d8e49a54f0e4c71a157cbb1b3a1a809"
       ],
       "layout": "IPY_MODEL_993ccb3b9115441a8891fe06a5026367"
      }
     },
     "c5f63d987fcd43d48800789b86f714ba": {
      "model_module": "@jupyter-widgets/base",
      "model_module_version": "1.2.0",
      "model_name": "LayoutModel",
      "state": {}
     },
     "c6184a06b1ad4212a86d46f8fddec533": {
      "model_module": "@jupyter-widgets/base",
      "model_module_version": "1.2.0",
      "model_name": "LayoutModel",
      "state": {}
     },
     "c67425b760624ba48a29e45e422a0c60": {
      "model_module": "@jupyter-widgets/controls",
      "model_module_version": "1.5.0",
      "model_name": "TextModel",
      "state": {
       "description": "String:",
       "layout": "IPY_MODEL_b71e1fe239aa47f98d182cd20daeb7b9",
       "placeholder": "Type something",
       "style": "IPY_MODEL_2066b49061d6488c92bc80e9f8038043",
       "value": "Hello World"
      }
     },
     "c6811ffef69f4ce2884467669742b6d1": {
      "model_module": "@jupyter-widgets/base",
      "model_module_version": "1.2.0",
      "model_name": "LayoutModel",
      "state": {}
     },
     "c69c920ca0cd4d67a78889b8d39815e0": {
      "model_module": "@jupyter-widgets/base",
      "model_module_version": "1.2.0",
      "model_name": "LayoutModel",
      "state": {}
     },
     "c69f070487c84f7fbf906da9548b3753": {
      "model_module": "@jupyter-widgets/controls",
      "model_module_version": "1.5.0",
      "model_name": "ValidModel",
      "state": {
       "description": "Valid!",
       "layout": "IPY_MODEL_5cb11d960df8466ab1c59a274605a931",
       "style": "IPY_MODEL_ddd8f750c4ca4eea917edb7c51b67477"
      }
     },
     "c6aef0823b994357b6f6b5e82a4d7743": {
      "model_module": "@jupyter-widgets/base",
      "model_module_version": "1.2.0",
      "model_name": "LayoutModel",
      "state": {}
     },
     "c6e5950f6d664b7daea326961354a518": {
      "model_module": "@jupyter-widgets/controls",
      "model_module_version": "1.5.0",
      "model_name": "DescriptionStyleModel",
      "state": {
       "description_width": ""
      }
     },
     "c71643e19ef34dcbb89c516b8f6601c8": {
      "model_module": "@jupyter-widgets/base",
      "model_module_version": "1.2.0",
      "model_name": "LayoutModel",
      "state": {}
     },
     "c780eecc1f554b88ac6e55c9f065ff0a": {
      "model_module": "@jupyter-widgets/base",
      "model_module_version": "1.2.0",
      "model_name": "LayoutModel",
      "state": {}
     },
     "c81b7c24a0c345369b4f8eadd0bdb32f": {
      "model_module": "@jupyter-widgets/controls",
      "model_module_version": "1.5.0",
      "model_name": "FloatSliderModel",
      "state": {
       "continuous_update": false,
       "description": "Test:",
       "layout": "IPY_MODEL_bdcee63eaec5440f91b7f6fad5f327b9",
       "max": 10,
       "readout_format": ".1f",
       "step": 0.1,
       "style": "IPY_MODEL_bfeed09c446c41c39ead0eaf36171769",
       "value": 7.5
      }
     },
     "c882a38a25f9477ea9facdbeb5951be1": {
      "model_module": "@jupyter-widgets/base",
      "model_module_version": "1.2.0",
      "model_name": "LayoutModel",
      "state": {}
     },
     "c8bb322d5f7846b9bf52a31ee865a421": {
      "model_module": "@jupyter-widgets/base",
      "model_module_version": "1.2.0",
      "model_name": "LayoutModel",
      "state": {}
     },
     "c8f3bb622c334fa78a71e3abcf30e58c": {
      "model_module": "@jupyter-widgets/base",
      "model_module_version": "1.2.0",
      "model_name": "LayoutModel",
      "state": {}
     },
     "c8ff2b72f8ed4cb68d778c5d9758ce34": {
      "model_module": "@jupyter-widgets/controls",
      "model_module_version": "1.5.0",
      "model_name": "HTMLModel",
      "state": {
       "description": "Some HTML",
       "layout": "IPY_MODEL_1e056280971d4be48560196a2bdd7d84",
       "placeholder": "Some HTML",
       "style": "IPY_MODEL_fdd25e34d7a546d7923d7d0f7c2a906f",
       "value": "Hello <b>World</b>"
      }
     },
     "c98f17542f2042ab81e8d30b623075df": {
      "model_module": "@jupyter-widgets/base",
      "model_module_version": "1.2.0",
      "model_name": "LayoutModel",
      "state": {}
     },
     "ca6b6783fddd4d1490208f342825c85c": {
      "model_module": "@jupyter-widgets/controls",
      "model_module_version": "1.5.0",
      "model_name": "LabelModel",
      "state": {
       "layout": "IPY_MODEL_fc121fbf24564e81a71ca8942f6e5508",
       "style": "IPY_MODEL_970cb6b132944ef09bdfa8ba02b67d41",
       "value": "The $m$ in $E=mc^2$:"
      }
     },
     "cafb5227d293480e9f228efb8db980b8": {
      "model_module": "@jupyter-widgets/controls",
      "model_module_version": "1.5.0",
      "model_name": "DescriptionStyleModel",
      "state": {
       "description_width": ""
      }
     },
     "cb2f2900959c4006b9ac015497b1cc79": {
      "model_module": "@jupyter-widgets/controls",
      "model_module_version": "1.5.0",
      "model_name": "FloatSliderModel",
      "state": {
       "continuous_update": false,
       "description": "Test:",
       "layout": "IPY_MODEL_21aa42a8fca048cba231748189bb220b",
       "max": 10,
       "orientation": "vertical",
       "readout_format": ".1f",
       "step": 0.1,
       "style": "IPY_MODEL_8f0e0f1e56c0454195afab370a679c4d",
       "value": 7.5
      }
     },
     "cb58ff0e28074bd8b342cf4904fb9d65": {
      "model_module": "@jupyter-widgets/base",
      "model_module_version": "1.2.0",
      "model_name": "LayoutModel",
      "state": {}
     },
     "cc1bc4d043a24139807eef53d51b530b": {
      "model_module": "@jupyter-widgets/base",
      "model_module_version": "1.2.0",
      "model_name": "LayoutModel",
      "state": {}
     },
     "cc94eca6b02b4a81893194f05d0b4cf1": {
      "model_module": "@jupyter-widgets/base",
      "model_module_version": "1.2.0",
      "model_name": "LayoutModel",
      "state": {}
     },
     "cc96de99e12b47a080eda10e8227bf56": {
      "model_module": "@jupyter-widgets/controls",
      "model_module_version": "1.5.0",
      "model_name": "IntSliderModel",
      "state": {
       "continuous_update": false,
       "description": "Test:",
       "layout": "IPY_MODEL_30f8eeeade4e465f9490c700ab982c4b",
       "max": 10,
       "style": "IPY_MODEL_f08434d673824a0aa1eccaa34402d653",
       "value": 7
      }
     },
     "cca6cacb3d3c499da989a4ce770ac0ba": {
      "model_module": "@jupyter-widgets/controls",
      "model_module_version": "1.5.0",
      "model_name": "SelectionRangeSliderModel",
      "state": {
       "_model_name": "SelectionRangeSliderModel",
       "_options_labels": [
        "Jan",
        "Feb",
        "Mar",
        "Apr",
        "May",
        "Jun",
        "Jul",
        "Aug",
        "Sep",
        "Oct",
        "Nov",
        "Dec"
       ],
       "_view_name": "SelectionRangeSliderView",
       "description": "Months (2015)",
       "index": [
        0,
        11
       ],
       "layout": "IPY_MODEL_19de180842b5413497d493457a9cb88b",
       "style": "IPY_MODEL_04536ccf6e2b471fa73040135abbadf2"
      }
     },
     "ccb51838a4724b8f9a1439b3f7ce73f7": {
      "model_module": "@jupyter-widgets/controls",
      "model_module_version": "1.5.0",
      "model_name": "LabelModel",
      "state": {
       "layout": "IPY_MODEL_12d8b6a73ff74073996a4be3dfd1ad24",
       "style": "IPY_MODEL_26c0dadc47e249a193a6b861265ac170",
       "value": "3"
      }
     },
     "ccc2b9d587e244a8b069fe5911ccfdbf": {
      "model_module": "@jupyter-widgets/controls",
      "model_module_version": "1.5.0",
      "model_name": "IntTextModel",
      "state": {
       "description": "Any:",
       "layout": "IPY_MODEL_2d28cec3405045dc8c837863a34e34ec",
       "step": 1,
       "style": "IPY_MODEL_9444e033e3f64706aee0d8dbd9a416a7",
       "value": 7
      }
     },
     "cd23e97927d14be49c3effadd729704f": {
      "model_module": "@jupyter-widgets/controls",
      "model_module_version": "1.5.0",
      "model_name": "DescriptionStyleModel",
      "state": {
       "description_width": ""
      }
     },
     "cd5780a4bf1c47bda203e322810cf4d2": {
      "model_module": "@jupyter-widgets/controls",
      "model_module_version": "1.5.0",
      "model_name": "FloatSliderModel",
      "state": {
       "continuous_update": false,
       "description": "Test:",
       "layout": "IPY_MODEL_8c49df443daf41c795c82ecee1533248",
       "max": 10,
       "readout_format": ".1f",
       "step": 0.1,
       "style": "IPY_MODEL_162fad2051db45f181dfed14f2ba518a",
       "value": 7.5
      }
     },
     "cd59d70a8ed644a6a7f7f9b23edbd8b5": {
      "model_module": "@jupyter-widgets/controls",
      "model_module_version": "1.5.0",
      "model_name": "VBoxModel",
      "state": {
       "children": [
        "IPY_MODEL_bc27e7b6e59c4936914850079765832e",
        "IPY_MODEL_2aaf6934a868432bb6f84fc939c8496d"
       ],
       "layout": "IPY_MODEL_0114d20971824d14a5a792829f82c5ac"
      }
     },
     "cdcbb26d1a4e4fa2b4616d493f8d3114": {
      "model_module": "@jupyter-widgets/controls",
      "model_module_version": "1.5.0",
      "model_name": "DescriptionStyleModel",
      "state": {
       "description_width": ""
      }
     },
     "ce235d300aa84b86b47b477604aaaf46": {
      "model_module": "@jupyter-widgets/controls",
      "model_module_version": "1.5.0",
      "model_name": "SelectModel",
      "state": {
       "_options_labels": [
        "Linux",
        "Windows",
        "OSX"
       ],
       "description": "OS:",
       "index": 2,
       "layout": "IPY_MODEL_3f1792e0781640bbbdac2ad5c2bf9d39",
       "style": "IPY_MODEL_fcff632160864ff6be80a9c07619d716"
      }
     },
     "ce6d1070c9e44a32967c060ce7cae6bd": {
      "model_module": "@jupyter-widgets/controls",
      "model_module_version": "1.5.0",
      "model_name": "SliderStyleModel",
      "state": {
       "description_width": ""
      }
     },
     "cea2f01371f84d4e9e7262b9cb56a46f": {
      "model_module": "@jupyter-widgets/controls",
      "model_module_version": "1.5.0",
      "model_name": "DescriptionStyleModel",
      "state": {
       "description_width": ""
      }
     },
     "cf3d91636f1a4c2b877c76ebf64f0de2": {
      "model_module": "@jupyter-widgets/base",
      "model_module_version": "1.2.0",
      "model_name": "LayoutModel",
      "state": {}
     },
     "cf96a1abde5a46ac9533d22ba495014b": {
      "model_module": "@jupyter-widgets/base",
      "model_module_version": "1.2.0",
      "model_name": "LayoutModel",
      "state": {}
     },
     "cfa733e730834af2ad237a8a670055b5": {
      "model_module": "@jupyter-widgets/controls",
      "model_module_version": "1.5.0",
      "model_name": "TabModel",
      "state": {
       "_titles": {
        "0": "An accordion",
        "1": "Copy of the accordion"
       },
       "children": [
        "IPY_MODEL_82e4adafa6204276b77429d84394474a",
        "IPY_MODEL_82e4adafa6204276b77429d84394474a"
       ],
       "layout": "IPY_MODEL_5913dbcb810a4d3092a8d52e328300e7"
      }
     },
     "cfc8d8a86a954b5ba20c28f6864f02dd": {
      "model_module": "@jupyter-widgets/controls",
      "model_module_version": "1.5.0",
      "model_name": "FloatProgressModel",
      "state": {
       "bar_style": "info",
       "description": "Loading:",
       "layout": "IPY_MODEL_7b93969a3a1d489d8609299475db7ec5",
       "max": 10,
       "style": "IPY_MODEL_143d691c59b444249c7a26fc952fa3dc",
       "value": 7.5
      }
     },
     "cff40b65eceb4257814d6b166e5babfb": {
      "model_module": "@jupyter-widgets/base",
      "model_module_version": "1.2.0",
      "model_name": "LayoutModel",
      "state": {}
     },
     "d01a3f3a326a4a238a5a90cd6de0b09f": {
      "model_module": "@jupyter-widgets/controls",
      "model_module_version": "1.5.0",
      "model_name": "IntSliderModel",
      "state": {
       "continuous_update": false,
       "description": "Test:",
       "layout": "IPY_MODEL_9a9cd162abb9495886a01ab0a8000344",
       "max": 10,
       "style": "IPY_MODEL_2f60677e8bc748598feca1027aebc0a5",
       "value": 7
      }
     },
     "d09c4879aceb44e89b321f297132ee3d": {
      "buffers": [
       {
        "data": "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",
        "encoding": "base64",
        "path": [
         "value"
        ]
       }
      ],
      "model_module": "@jupyter-widgets/controls",
      "model_module_version": "1.5.0",
      "model_name": "ImageModel",
      "state": {
       "format": "gif",
       "height": "128",
       "layout": "IPY_MODEL_66c9cdb8849645fe80d0903f51572f04",
       "width": "128"
      }
     },
     "d0dabe17ca464dcbaf77da5340e49c86": {
      "model_module": "@jupyter-widgets/base",
      "model_module_version": "1.2.0",
      "model_name": "LayoutModel",
      "state": {}
     },
     "d13abd4c50f54d39b81a31d9706b0287": {
      "model_module": "@jupyter-widgets/base",
      "model_module_version": "1.2.0",
      "model_name": "LayoutModel",
      "state": {}
     },
     "d17d57a886c4448189238ef64fe45231": {
      "model_module": "@jupyter-widgets/base",
      "model_module_version": "1.2.0",
      "model_name": "LayoutModel",
      "state": {}
     },
     "d189f4203bae4bd38ad9d4f3c8b80e4f": {
      "model_module": "@jupyter-widgets/controls",
      "model_module_version": "1.5.0",
      "model_name": "CheckboxModel",
      "state": {
       "description": "Check me",
       "disabled": false,
       "layout": "IPY_MODEL_55e53ab9d27145fbb84ca9ba9cccdf29",
       "style": "IPY_MODEL_6e0c56b902994fb7864f270753bd142d",
       "value": false
      }
     },
     "d1d3e957b37f447da97f1a1cbc15c1f7": {
      "model_module": "@jupyter-widgets/base",
      "model_module_version": "1.2.0",
      "model_name": "LayoutModel",
      "state": {}
     },
     "d2807c31256f499a85d15d7a51df2522": {
      "model_module": "@jupyter-widgets/base",
      "model_module_version": "1.2.0",
      "model_name": "LayoutModel",
      "state": {}
     },
     "d29575486f504bce8cc9aba43db40c5a": {
      "model_module": "@jupyter-widgets/controls",
      "model_module_version": "1.5.0",
      "model_name": "LabelModel",
      "state": {
       "layout": "IPY_MODEL_19e980e3b6cd4dae843551b01e167133",
       "style": "IPY_MODEL_2c66ee2a6db348a196d9eb468756c4d1",
       "value": "2"
      }
     },
     "d2a3bcee611445c395d5c17aceec501e": {
      "model_module": "@jupyter-widgets/base",
      "model_module_version": "1.2.0",
      "model_name": "LayoutModel",
      "state": {}
     },
     "d3570ee067354e9c898085a17b543c1d": {
      "model_module": "@jupyter-widgets/base",
      "model_module_version": "1.2.0",
      "model_name": "LayoutModel",
      "state": {}
     },
     "d359a3b9a2fd47dc8ca4b39b09cd1d0a": {
      "model_module": "@jupyter-widgets/controls",
      "model_module_version": "1.5.0",
      "model_name": "SliderStyleModel",
      "state": {
       "description_width": ""
      }
     },
     "d378f3b3f5f54c209927b397b5f6434a": {
      "model_module": "@jupyter-widgets/controls",
      "model_module_version": "1.5.0",
      "model_name": "DescriptionStyleModel",
      "state": {
       "description_width": ""
      }
     },
     "d3828b4e55ab48208067cf2fb87e9e19": {
      "model_module": "@jupyter-widgets/controls",
      "model_module_version": "1.5.0",
      "model_name": "DescriptionStyleModel",
      "state": {
       "description_width": ""
      }
     },
     "d39dd364dbb948f3bbb5fa57f6cba68c": {
      "model_module": "@jupyter-widgets/controls",
      "model_module_version": "1.5.0",
      "model_name": "DescriptionStyleModel",
      "state": {
       "description_width": ""
      }
     },
     "d3a4ea24e5ec4c57a9c85526dc71ea58": {
      "model_module": "@jupyter-widgets/base",
      "model_module_version": "1.2.0",
      "model_name": "LayoutModel",
      "state": {}
     },
     "d3a79d605d864e9089d48bfb0778431e": {
      "model_module": "@jupyter-widgets/controls",
      "model_module_version": "1.5.0",
      "model_name": "BoundedIntTextModel",
      "state": {
       "description": "Text:",
       "layout": "IPY_MODEL_b5d3a04ebaee4e009ed9f56967d16ee8",
       "max": 10,
       "style": "IPY_MODEL_ecbc2267913449e180939180ae7e5a8f",
       "value": 7
      }
     },
     "d3f16c15420f40ba8cfce15b9d09a070": {
      "model_module": "@jupyter-widgets/controls",
      "model_module_version": "1.5.0",
      "model_name": "IntRangeSliderModel",
      "state": {
       "_model_name": "IntRangeSliderModel",
       "_view_name": "IntRangeSliderView",
       "continuous_update": false,
       "description": "Test:",
       "layout": "IPY_MODEL_fd68b7fc91c24c589e5b2e884ea851a5",
       "max": 10,
       "style": "IPY_MODEL_d359a3b9a2fd47dc8ca4b39b09cd1d0a",
       "value": [
        5,
        7
       ]
      }
     },
     "d3f431507535407384fd3a76c497f360": {
      "model_module": "@jupyter-widgets/controls",
      "model_module_version": "1.5.0",
      "model_name": "DescriptionStyleModel",
      "state": {
       "description_width": ""
      }
     },
     "d408cc9c3409437b9edad048d9c3dd1e": {
      "model_module": "@jupyter-widgets/controls",
      "model_module_version": "1.5.0",
      "model_name": "FloatSliderModel",
      "state": {
       "continuous_update": false,
       "description": "Test:",
       "layout": "IPY_MODEL_de23397f0e374bb88492ae5776603566",
       "max": 10,
       "orientation": "vertical",
       "readout_format": ".1f",
       "step": 0.1,
       "style": "IPY_MODEL_4c874da2e1494d73aac7d388d70ebf4c",
       "value": 7.5
      }
     },
     "d451d3ad4abb49409a681c71a30c76c7": {
      "model_module": "@jupyter-widgets/controls",
      "model_module_version": "1.5.0",
      "model_name": "SliderStyleModel",
      "state": {
       "description_width": ""
      }
     },
     "d504cacc59c04078b4f0e99d211412a1": {
      "model_module": "@jupyter-widgets/controls",
      "model_module_version": "1.5.0",
      "model_name": "SelectMultipleModel",
      "state": {
       "_options_labels": [
        "Apples",
        "Oranges",
        "Pears"
       ],
       "description": "Fruits",
       "index": [
        1
       ],
       "layout": "IPY_MODEL_6e259bace8b64019a1601b792eb55423",
       "rows": 5,
       "style": "IPY_MODEL_c58a5dca25dc4b278fd83db2b94dae1c"
      }
     },
     "d5093eee03624922ac659e35254f0821": {
      "model_module": "@jupyter-widgets/controls",
      "model_module_version": "1.5.0",
      "model_name": "DescriptionStyleModel",
      "state": {
       "description_width": ""
      }
     },
     "d55bdc1cb8e24a7ab805dde71f061349": {
      "model_module": "@jupyter-widgets/controls",
      "model_module_version": "1.5.0",
      "model_name": "ProgressStyleModel",
      "state": {
       "description_width": ""
      }
     },
     "d5b68e4d3c5d4ffc95e8afc18e34b743": {
      "model_module": "@jupyter-widgets/base",
      "model_module_version": "1.2.0",
      "model_name": "LayoutModel",
      "state": {}
     },
     "d6b751c3ea0b4dd1bc1c34b3b15ee6d4": {
      "model_module": "@jupyter-widgets/controls",
      "model_module_version": "1.5.0",
      "model_name": "LabelModel",
      "state": {
       "layout": "IPY_MODEL_66f9e634ba6a4a73965a8a0ff35f4d85",
       "style": "IPY_MODEL_397746b8d2a94795a45ccbb814929192",
       "value": "1"
      }
     },
     "d6c66acfdd5c4c15807704207d9da341": {
      "model_module": "@jupyter-widgets/controls",
      "model_module_version": "1.5.0",
      "model_name": "DescriptionStyleModel",
      "state": {
       "description_width": ""
      }
     },
     "d6d8f33281da40ac8c31890cd79f21e0": {
      "model_module": "@jupyter-widgets/controls",
      "model_module_version": "1.5.0",
      "model_name": "CheckboxModel",
      "state": {
       "description": "Check me",
       "disabled": false,
       "layout": "IPY_MODEL_9ff1493a0ae148cdb7af5072a18e52fe",
       "style": "IPY_MODEL_bc3f9b22f1ca4bcbbe66c3fc46fb324d",
       "value": false
      }
     },
     "d6e3da44808d4ced9d2628ee630329a5": {
      "model_module": "@jupyter-widgets/base",
      "model_module_version": "1.2.0",
      "model_name": "LayoutModel",
      "state": {}
     },
     "d707a4c7dab445659aec31fbd0832a53": {
      "model_module": "@jupyter-widgets/controls",
      "model_module_version": "1.5.0",
      "model_name": "SliderStyleModel",
      "state": {
       "description_width": ""
      }
     },
     "d711c485f03e4e8484bea55cd94a65cf": {
      "model_module": "@jupyter-widgets/base",
      "model_module_version": "1.2.0",
      "model_name": "LayoutModel",
      "state": {}
     },
     "d723193b83fc47eda55a81e6f247fb03": {
      "model_module": "@jupyter-widgets/controls",
      "model_module_version": "1.5.0",
      "model_name": "ToggleButtonModel",
      "state": {
       "description": "Click me",
       "icon": "check",
       "layout": "IPY_MODEL_21214b730a7245fe98adb687ff62c9d6",
       "style": "IPY_MODEL_740f5646ccd54773a9e640db23ba5d27",
       "tooltip": "Description"
      }
     },
     "d758f35a624f465c9485ae9b9c8d3268": {
      "model_module": "@jupyter-widgets/controls",
      "model_module_version": "1.5.0",
      "model_name": "HTMLModel",
      "state": {
       "description": "Some HTML",
       "layout": "IPY_MODEL_511ba8c8795d4ec18afaaf819fb4603e",
       "placeholder": "Some HTML",
       "style": "IPY_MODEL_4359836e31b94b7cb920ddb637a7e3e1",
       "value": "Hello <b>World</b>"
      }
     },
     "d78cf4c0791146ca85800e413d232a9b": {
      "model_module": "@jupyter-widgets/controls",
      "model_module_version": "1.5.0",
      "model_name": "DescriptionStyleModel",
      "state": {
       "description_width": ""
      }
     },
     "d7ab6c6295234d8eb514e630c8142b88": {
      "model_module": "@jupyter-widgets/controls",
      "model_module_version": "1.5.0",
      "model_name": "ToggleButtonsStyleModel",
      "state": {
       "button_width": "",
       "description_width": ""
      }
     },
     "d7d3478e32e94695b41dd78cb1c07dfd": {
      "model_module": "@jupyter-widgets/controls",
      "model_module_version": "1.5.0",
      "model_name": "DescriptionStyleModel",
      "state": {
       "description_width": ""
      }
     },
     "d7d726bfaf1e4c5598122e3045621735": {
      "model_module": "@jupyter-widgets/controls",
      "model_module_version": "1.5.0",
      "model_name": "SelectionSliderModel",
      "state": {
       "_options_labels": [
        "scrambled",
        "sunny side up",
        "poached",
        "over easy"
       ],
       "continuous_update": false,
       "description": "I like my eggs …",
       "index": 1,
       "layout": "IPY_MODEL_d1d3e957b37f447da97f1a1cbc15c1f7",
       "style": "IPY_MODEL_2c8379e62a59492fac496645ca7c20a1"
      }
     },
     "d810c15c70b640b2b5a0582e6a566df0": {
      "model_module": "@jupyter-widgets/controls",
      "model_module_version": "1.5.0",
      "model_name": "HBoxModel",
      "state": {
       "children": [
        "IPY_MODEL_3e62dce09f33480e85fb2b419ba96d05",
        "IPY_MODEL_7b7f96526b894ad9ba378b815d19a909"
       ],
       "layout": "IPY_MODEL_59d859c6910a44c1a0389dbaeb118423"
      }
     },
     "d81e33b041744c5a81e583d8c14dd233": {
      "model_module": "@jupyter-widgets/controls",
      "model_module_version": "1.5.0",
      "model_name": "LabelModel",
      "state": {
       "layout": "IPY_MODEL_488b83ce6a4446468c5698debc9f6588",
       "style": "IPY_MODEL_b32a785750674650b30df7ddb53b0237",
       "value": "3"
      }
     },
     "d82551e19d75422dbe8bbe7eef68d339": {
      "model_module": "@jupyter-widgets/base",
      "model_module_version": "1.2.0",
      "model_name": "LayoutModel",
      "state": {}
     },
     "d84c2e1b07e44bd29482f2acb9bb0a9b": {
      "model_module": "@jupyter-widgets/base",
      "model_module_version": "1.2.0",
      "model_name": "LayoutModel",
      "state": {}
     },
     "d8fdbf429f2949fe9a58773a634896ae": {
      "model_module": "@jupyter-widgets/controls",
      "model_module_version": "1.5.0",
      "model_name": "DescriptionStyleModel",
      "state": {
       "description_width": ""
      }
     },
     "d91e6868d6614def98786c47863297fc": {
      "model_module": "@jupyter-widgets/controls",
      "model_module_version": "1.5.0",
      "model_name": "HBoxModel",
      "state": {
       "children": [
        "IPY_MODEL_f0684572a4844a4981b2e2fa0dd948fd",
        "IPY_MODEL_9b7beef0056c435898c76a5be40f8147"
       ],
       "layout": "IPY_MODEL_c780eecc1f554b88ac6e55c9f065ff0a"
      }
     },
     "d96e41b68c89477b83db8d61992a26f2": {
      "model_module": "@jupyter-widgets/base",
      "model_module_version": "1.2.0",
      "model_name": "LayoutModel",
      "state": {}
     },
     "d96f9fe8f40e493490d77d79b926c2ae": {
      "model_module": "@jupyter-widgets/base",
      "model_module_version": "1.2.0",
      "model_name": "LayoutModel",
      "state": {}
     },
     "d9731d16a84d47db916b416228d0de39": {
      "model_module": "@jupyter-widgets/controls",
      "model_module_version": "1.5.0",
      "model_name": "DescriptionStyleModel",
      "state": {
       "description_width": ""
      }
     },
     "d97fc621b914485284d78b0e84941e89": {
      "model_module": "@jupyter-widgets/controls",
      "model_module_version": "1.5.0",
      "model_name": "SelectMultipleModel",
      "state": {
       "_options_labels": [
        "Apples",
        "Oranges",
        "Pears"
       ],
       "description": "Fruits",
       "index": [
        1
       ],
       "layout": "IPY_MODEL_16940940e6aa4d93a489429450bd26a4",
       "rows": 5,
       "style": "IPY_MODEL_d5093eee03624922ac659e35254f0821"
      }
     },
     "d9f210f83bf84fc7ad0307eaaf085db4": {
      "model_module": "@jupyter-widgets/controls",
      "model_module_version": "1.5.0",
      "model_name": "DescriptionStyleModel",
      "state": {
       "description_width": ""
      }
     },
     "da403a2a081f4b8b8abb9acc5eb65f15": {
      "model_module": "@jupyter-widgets/controls",
      "model_module_version": "1.5.0",
      "model_name": "ProgressStyleModel",
      "state": {
       "description_width": ""
      }
     },
     "da4bdd0cdb8b4107a1635e461d8caec6": {
      "model_module": "@jupyter-widgets/controls",
      "model_module_version": "1.5.0",
      "model_name": "SliderStyleModel",
      "state": {
       "description_width": ""
      }
     },
     "da6ed31102f8462fa6818c589ef1990c": {
      "model_module": "@jupyter-widgets/base",
      "model_module_version": "1.2.0",
      "model_name": "LayoutModel",
      "state": {}
     },
     "da95b20cfda84807b9f5724daeb5ffcb": {
      "model_module": "@jupyter-widgets/base",
      "model_module_version": "1.2.0",
      "model_name": "LayoutModel",
      "state": {}
     },
     "daa7231916c74b22b959172eb9dbcc44": {
      "model_module": "@jupyter-widgets/controls",
      "model_module_version": "1.5.0",
      "model_name": "IntProgressModel",
      "state": {
       "description": "Loading:",
       "layout": "IPY_MODEL_41a8e32edbfe4dce8f7857ae9934446c",
       "max": 10,
       "style": "IPY_MODEL_d55bdc1cb8e24a7ab805dde71f061349",
       "value": 7
      }
     },
     "dad3c16d2155474d93f68950e55859fb": {
      "model_module": "@jupyter-widgets/base",
      "model_module_version": "1.2.0",
      "model_name": "LayoutModel",
      "state": {}
     },
     "db37c4480a7c4fe589e081dac06c7473": {
      "model_module": "@jupyter-widgets/controls",
      "model_module_version": "1.5.0",
      "model_name": "ColorPickerModel",
      "state": {
       "description": "Pick a color",
       "disabled": false,
       "layout": "IPY_MODEL_54967ff60bb8415eb68936aece6e3573",
       "style": "IPY_MODEL_f5351f56b11b47918712f4e6f268e580",
       "value": "blue"
      }
     },
     "db69a73347784cc5b0f3f32d1dc857cb": {
      "model_module": "@jupyter-widgets/controls",
      "model_module_version": "1.5.0",
      "model_name": "DescriptionStyleModel",
      "state": {
       "description_width": ""
      }
     },
     "db7b77f520a14f88bd012d6e875cc4f5": {
      "model_module": "@jupyter-widgets/controls",
      "model_module_version": "1.5.0",
      "model_name": "HBoxModel",
      "state": {
       "children": [
        "IPY_MODEL_ca6b6783fddd4d1490208f342825c85c",
        "IPY_MODEL_ff4ea5b6468b4d43bf84cfaa497df559"
       ],
       "layout": "IPY_MODEL_36b7439263aa41d685952e136c482488"
      }
     },
     "dbb9a2d3f18545519e9d5d706da4a9a4": {
      "model_module": "@jupyter-widgets/controls",
      "model_module_version": "1.5.0",
      "model_name": "BoxModel",
      "state": {
       "children": [
        "IPY_MODEL_7b1c7f27f72248658a524cd6d47202aa",
        "IPY_MODEL_f07641b969f740f4a841fe3b049eaf3a",
        "IPY_MODEL_737b0c3e66c74d61b3445d7c1d62cf79",
        "IPY_MODEL_e6868ef509a243908633ccad8031f4a5"
       ],
       "layout": "IPY_MODEL_0f010d2603be4827bed0a78b31cdcfac"
      }
     },
     "dc1c2c3807664dd08e69c82f64252f81": {
      "model_module": "@jupyter-widgets/controls",
      "model_module_version": "1.5.0",
      "model_name": "DescriptionStyleModel",
      "state": {
       "description_width": ""
      }
     },
     "dc265eff554f4d428f981135b4a437fd": {
      "model_module": "@jupyter-widgets/controls",
      "model_module_version": "1.5.0",
      "model_name": "SelectMultipleModel",
      "state": {
       "_options_labels": [
        "Apples",
        "Oranges",
        "Pears"
       ],
       "description": "Fruits",
       "index": [
        1
       ],
       "layout": "IPY_MODEL_1ecae4d61e7d4cf486f721fce70c2586",
       "rows": 5,
       "style": "IPY_MODEL_3dcb35c0745c499ab764ad6c083f9c2e"
      }
     },
     "dc2e6ed23d4943219ea90458025bfbdc": {
      "model_module": "@jupyter-widgets/base",
      "model_module_version": "1.2.0",
      "model_name": "LayoutModel",
      "state": {}
     },
     "dc81cb19b61b41abbf83a72702a66ba1": {
      "model_module": "@jupyter-widgets/base",
      "model_module_version": "1.2.0",
      "model_name": "LayoutModel",
      "state": {}
     },
     "dce1c28e308d435cae557f6c9e600a47": {
      "model_module": "@jupyter-widgets/base",
      "model_module_version": "1.2.0",
      "model_name": "LayoutModel",
      "state": {}
     },
     "dd091aa765ce4d4e8f8d8d65a125ec87": {
      "model_module": "@jupyter-widgets/controls",
      "model_module_version": "1.5.0",
      "model_name": "SelectionRangeSliderModel",
      "state": {
       "_model_name": "SelectionRangeSliderModel",
       "_options_labels": [
        "Jan",
        "Feb",
        "Mar",
        "Apr",
        "May",
        "Jun",
        "Jul",
        "Aug",
        "Sep",
        "Oct",
        "Nov",
        "Dec"
       ],
       "_view_name": "SelectionRangeSliderView",
       "description": "Months (2015)",
       "index": [
        0,
        11
       ],
       "layout": "IPY_MODEL_923ac5d9508240038597358548f54af8",
       "style": "IPY_MODEL_fdbbaaf3c2764d41861573094fb7a166"
      }
     },
     "dd101264d8c54a0682375b35a90caf49": {
      "model_module": "@jupyter-widgets/controls",
      "model_module_version": "1.5.0",
      "model_name": "FloatRangeSliderModel",
      "state": {
       "_model_name": "FloatRangeSliderModel",
       "_view_name": "FloatRangeSliderView",
       "continuous_update": false,
       "description": "Test:",
       "layout": "IPY_MODEL_75d74406554d4cb586163211658533b2",
       "max": 10,
       "readout_format": ".1f",
       "step": 0.1,
       "style": "IPY_MODEL_5784b71da9434a279bc7bf66297fa20b",
       "value": [
        5,
        7.5
       ]
      }
     },
     "dd264046a37849b685c9dbe64ab61057": {
      "model_module": "@jupyter-widgets/controls",
      "model_module_version": "1.5.0",
      "model_name": "RadioButtonsModel",
      "state": {
       "_options_labels": [
        "pepperoni",
        "pineapple",
        "anchovies"
       ],
       "description": "Pizza topping:",
       "index": 0,
       "layout": "IPY_MODEL_24cfeb63c11f4842af69dee09122f96e",
       "style": "IPY_MODEL_7df4e43cd7f849fc97a358ceeb87b6ae"
      }
     },
     "dd4da940422340c2b2dc25199a2b1442": {
      "model_module": "@jupyter-widgets/controls",
      "model_module_version": "1.5.0",
      "model_name": "IntRangeSliderModel",
      "state": {
       "_model_name": "IntRangeSliderModel",
       "_view_name": "IntRangeSliderView",
       "continuous_update": false,
       "description": "Test:",
       "layout": "IPY_MODEL_2afe13a008064d90acb4b08a14e49899",
       "max": 10,
       "style": "IPY_MODEL_e71d96abbe6c4f63b283871cfeb615e2",
       "value": [
        5,
        7
       ]
      }
     },
     "dda38b9448314d0fb844bdad5e16db90": {
      "model_module": "@jupyter-widgets/controls",
      "model_module_version": "1.5.0",
      "model_name": "SliderStyleModel",
      "state": {
       "description_width": ""
      }
     },
     "ddaee884bc9e47bcb3c4a760ca3c0be8": {
      "model_module": "@jupyter-widgets/controls",
      "model_module_version": "1.5.0",
      "model_name": "TextareaModel",
      "state": {
       "description": "String:",
       "layout": "IPY_MODEL_218f9b0e55db498aa076accebd007bab",
       "placeholder": "Type something",
       "style": "IPY_MODEL_500342c2cdda4232a9bbe15e68d826eb",
       "value": "Hello World"
      }
     },
     "ddbe3e7c4b4d4fe199f5c24d9a5d23f5": {
      "model_module": "@jupyter-widgets/base",
      "model_module_version": "1.2.0",
      "model_name": "LayoutModel",
      "state": {}
     },
     "ddc024ce613445029a899fa65974ee3d": {
      "model_module": "@jupyter-widgets/base",
      "model_module_version": "1.2.0",
      "model_name": "LayoutModel",
      "state": {}
     },
     "ddd8f750c4ca4eea917edb7c51b67477": {
      "model_module": "@jupyter-widgets/controls",
      "model_module_version": "1.5.0",
      "model_name": "DescriptionStyleModel",
      "state": {
       "description_width": ""
      }
     },
     "ddf88db7d2d84943b422b394687b85e2": {
      "model_module": "@jupyter-widgets/base",
      "model_module_version": "1.2.0",
      "model_name": "LayoutModel",
      "state": {}
     },
     "de06f052ba094ae9b45779f94c6743a9": {
      "model_module": "@jupyter-widgets/base",
      "model_module_version": "1.2.0",
      "model_name": "LayoutModel",
      "state": {}
     },
     "de23397f0e374bb88492ae5776603566": {
      "model_module": "@jupyter-widgets/base",
      "model_module_version": "1.2.0",
      "model_name": "LayoutModel",
      "state": {}
     },
     "de2f3973f6fe4fe1a185c2fc873406c6": {
      "model_module": "@jupyter-widgets/base",
      "model_module_version": "1.2.0",
      "model_name": "LayoutModel",
      "state": {}
     },
     "de956b5078d74bb7acdbb97ecd4396a4": {
      "model_module": "@jupyter-widgets/controls",
      "model_module_version": "1.5.0",
      "model_name": "DescriptionStyleModel",
      "state": {
       "description_width": ""
      }
     },
     "dea9eacb25034aa5a395a75bc9e0aa4a": {
      "model_module": "@jupyter-widgets/controls",
      "model_module_version": "1.5.0",
      "model_name": "FloatTextModel",
      "state": {
       "description": "Any:",
       "layout": "IPY_MODEL_1f4e9f67a9b347e38ed0aabfc7e76264",
       "step": null,
       "style": "IPY_MODEL_531293981f1644b8826d90c8693c04b3",
       "value": 7.5
      }
     },
     "deb6bf5342b941d099fcf0744e58dfb2": {
      "model_module": "@jupyter-widgets/base",
      "model_module_version": "1.2.0",
      "model_name": "LayoutModel",
      "state": {}
     },
     "deb90ba650f14c6398eae4ae5151a816": {
      "model_module": "@jupyter-widgets/controls",
      "model_module_version": "1.5.0",
      "model_name": "ValidModel",
      "state": {
       "description": "Valid!",
       "layout": "IPY_MODEL_0a3e8fbb189c486994c437bb8b276272",
       "style": "IPY_MODEL_f3c78d9b3f30462c8d2e32255a7d54d3"
      }
     },
     "deeab09aba824cb8918b3b7ba93104ed": {
      "model_module": "@jupyter-widgets/controls",
      "model_module_version": "1.5.0",
      "model_name": "IntSliderModel",
      "state": {
       "continuous_update": false,
       "description": "Test:",
       "layout": "IPY_MODEL_3d94fefd856b4696a6979de6b6449c60",
       "max": 10,
       "style": "IPY_MODEL_1087b2c874874135a48367fe52a4a8d0",
       "value": 7
      }
     },
     "deee1a95874c4dd4af51ca82a14613dd": {
      "model_module": "@jupyter-widgets/base",
      "model_module_version": "1.2.0",
      "model_name": "LayoutModel",
      "state": {}
     },
     "dfc48a476d434ed48e0e7967edf3d7cb": {
      "model_module": "@jupyter-widgets/controls",
      "model_module_version": "1.5.0",
      "model_name": "TextModel",
      "state": {
       "description": "P1",
       "layout": "IPY_MODEL_d711c485f03e4e8484bea55cd94a65cf",
       "style": "IPY_MODEL_3bca907962d24b92a3a403c462f6daa0"
      }
     },
     "dfea6ee68e5c4f60af50f5856dbb3e41": {
      "model_module": "@jupyter-widgets/controls",
      "model_module_version": "1.5.0",
      "model_name": "DescriptionStyleModel",
      "state": {
       "description_width": ""
      }
     },
     "dfefefe32f2c4c13a94b14768b79adaa": {
      "model_module": "@jupyter-widgets/base",
      "model_module_version": "1.2.0",
      "model_name": "LayoutModel",
      "state": {}
     },
     "dff5fe1005bf4e8b93aba89842ffe5b1": {
      "model_module": "@jupyter-widgets/controls",
      "model_module_version": "1.5.0",
      "model_name": "DescriptionStyleModel",
      "state": {
       "description_width": ""
      }
     },
     "e04f05d7cfe446cba76b0160869aa555": {
      "model_module": "@jupyter-widgets/controls",
      "model_module_version": "1.5.0",
      "model_name": "ProgressStyleModel",
      "state": {
       "description_width": ""
      }
     },
     "e0646b84f4464212ba13996ad1f8134e": {
      "model_module": "@jupyter-widgets/controls",
      "model_module_version": "1.5.0",
      "model_name": "SelectMultipleModel",
      "state": {
       "_options_labels": [
        "Apples",
        "Oranges",
        "Pears"
       ],
       "description": "Fruits",
       "index": [
        1
       ],
       "layout": "IPY_MODEL_50ca8a5bb1aa4ae496d2e94c439fc895",
       "rows": 5,
       "style": "IPY_MODEL_1d4ae2e0a52b46598c2bfcb92a7e9ca6"
      }
     },
     "e0923355b8dc401a894b11e6663941fa": {
      "model_module": "@jupyter-widgets/controls",
      "model_module_version": "1.5.0",
      "model_name": "SliderStyleModel",
      "state": {
       "description_width": ""
      }
     },
     "e09a5fbc76114dbabe47448904fa88ff": {
      "model_module": "@jupyter-widgets/controls",
      "model_module_version": "1.5.0",
      "model_name": "IntRangeSliderModel",
      "state": {
       "_model_name": "IntRangeSliderModel",
       "_view_name": "IntRangeSliderView",
       "continuous_update": false,
       "description": "Test:",
       "layout": "IPY_MODEL_ac0a57853ed44719a9e427cba360d8a6",
       "max": 10,
       "style": "IPY_MODEL_760b3178bcb047379119a7e3036ed9ec",
       "value": [
        5,
        7
       ]
      }
     },
     "e0bd89507f664f128d4c87181af4a05e": {
      "model_module": "@jupyter-widgets/controls",
      "model_module_version": "1.5.0",
      "model_name": "IntSliderModel",
      "state": {
       "layout": "IPY_MODEL_088cc24009094ec28d7238552eda44c8",
       "style": "IPY_MODEL_3915eef972ee46eaad657931fe35fea9"
      }
     },
     "e140dc7d9670437c8e15e1b796ef926e": {
      "model_module": "@jupyter-widgets/base",
      "model_module_version": "1.2.0",
      "model_name": "LayoutModel",
      "state": {}
     },
     "e18503c349464d4f80043c14aa61d3cd": {
      "model_module": "@jupyter-widgets/base",
      "model_module_version": "1.2.0",
      "model_name": "LayoutModel",
      "state": {}
     },
     "e1955b91c61e43eea80315ee7494503d": {
      "model_module": "@jupyter-widgets/controls",
      "model_module_version": "1.5.0",
      "model_name": "DescriptionStyleModel",
      "state": {
       "description_width": ""
      }
     },
     "e1af2a8522d34be38b2003fddf28acd9": {
      "model_module": "@jupyter-widgets/base",
      "model_module_version": "1.2.0",
      "model_name": "LayoutModel",
      "state": {}
     },
     "e1e6ff4bc3e54b009d1e3813ab889a4b": {
      "model_module": "@jupyter-widgets/base",
      "model_module_version": "1.2.0",
      "model_name": "LayoutModel",
      "state": {}
     },
     "e2086a296f0c4d1caeaaacaf92f7a386": {
      "model_module": "@jupyter-widgets/controls",
      "model_module_version": "1.5.0",
      "model_name": "DescriptionStyleModel",
      "state": {
       "description_width": ""
      }
     },
     "e2f541f278f84c7dadf3277926b08c62": {
      "model_module": "@jupyter-widgets/controls",
      "model_module_version": "1.5.0",
      "model_name": "DescriptionStyleModel",
      "state": {
       "description_width": ""
      }
     },
     "e302ca159dc54b90931cc2d1866f8eeb": {
      "model_module": "@jupyter-widgets/base",
      "model_module_version": "1.2.0",
      "model_name": "LayoutModel",
      "state": {}
     },
     "e314fc9d07fa4fe9a817f1270f44e614": {
      "model_module": "@jupyter-widgets/base",
      "model_module_version": "1.2.0",
      "model_name": "LayoutModel",
      "state": {}
     },
     "e32bbad8548c4124bc574145faa038af": {
      "model_module": "@jupyter-widgets/controls",
      "model_module_version": "1.5.0",
      "model_name": "TextareaModel",
      "state": {
       "description": "String:",
       "layout": "IPY_MODEL_6da096127d7a4a35bd819a8d18b74a59",
       "placeholder": "Type something",
       "style": "IPY_MODEL_885be146f1a546999ee9ea54ce54843e",
       "value": "Hello World"
      }
     },
     "e357f0c42f9e41ddb21167e412dcc46e": {
      "model_module": "@jupyter-widgets/base",
      "model_module_version": "1.2.0",
      "model_name": "LayoutModel",
      "state": {}
     },
     "e3c8a50ca3444bf8b78da18307259cf5": {
      "model_module": "@jupyter-widgets/base",
      "model_module_version": "1.2.0",
      "model_name": "LayoutModel",
      "state": {}
     },
     "e40ee223c9624f7194c8ed06b0a8a7a2": {
      "model_module": "@jupyter-widgets/base",
      "model_module_version": "1.2.0",
      "model_name": "LayoutModel",
      "state": {}
     },
     "e4c43820de1049b3b14d2388b4ddf50c": {
      "model_module": "@jupyter-widgets/controls",
      "model_module_version": "1.5.0",
      "model_name": "LabelModel",
      "state": {
       "layout": "IPY_MODEL_54f1658a5e33449a81b23e61b3a56a40",
       "style": "IPY_MODEL_1be35580002e4911937251634103ccad",
       "value": "1"
      }
     },
     "e4cae7064efd43528e7c22f4c29e330b": {
      "model_module": "@jupyter-widgets/controls",
      "model_module_version": "1.5.0",
      "model_name": "IntSliderModel",
      "state": {
       "layout": "IPY_MODEL_a38dd040d66247dd94a9d92a10b849db",
       "style": "IPY_MODEL_e51f1f1e08924d359e18c8125a42bc04"
      }
     },
     "e4e5eb75e250487ea64a060fdb9828e3": {
      "model_module": "@jupyter-widgets/controls",
      "model_module_version": "1.5.0",
      "model_name": "CheckboxModel",
      "state": {
       "description": "Check me",
       "disabled": false,
       "layout": "IPY_MODEL_a41678aa00944a3897e5f0a2d0f16763",
       "style": "IPY_MODEL_15acf569ccbc4d14a1089acc31867973",
       "value": false
      }
     },
     "e4ebc760e6464edf8efc2717774645f9": {
      "model_module": "@jupyter-widgets/base",
      "model_module_version": "1.2.0",
      "model_name": "LayoutModel",
      "state": {}
     },
     "e51f1f1e08924d359e18c8125a42bc04": {
      "model_module": "@jupyter-widgets/controls",
      "model_module_version": "1.5.0",
      "model_name": "SliderStyleModel",
      "state": {
       "description_width": ""
      }
     },
     "e52075e6689f424f94eb1aa1a7a07319": {
      "model_module": "@jupyter-widgets/output",
      "model_module_version": "1.0.0",
      "model_name": "OutputModel",
      "state": {
       "layout": "IPY_MODEL_24c74884c05d42e59039f522eb78ca97",
       "outputs": [
        {
         "name": "stdout",
         "output_type": "stream",
         "text": "Output appended with append_stdout"
        },
        {
         "data": {
          "image/jpeg": {},
          "text/html": "\n        <iframe\n            width=\"400\"\n            height=\"300\"\n            src=\"https://www.youtube.com/embed/eWzY2nGfkXk\"\n            frameborder=\"0\"\n            allowfullscreen\n        ></iframe>\n        ",
          "text/plain": "<IPython.lib.display.YouTubeVideo at 0x10fa4c790>"
         },
         "metadata": {},
         "output_type": "display_data"
        }
       ]
      }
     },
     "e53daa80874648618e13e5e955036edc": {
      "model_module": "@jupyter-widgets/controls",
      "model_module_version": "1.5.0",
      "model_name": "DescriptionStyleModel",
      "state": {
       "description_width": ""
      }
     },
     "e570c57941c54e6b9ec0e1eea2752569": {
      "model_module": "@jupyter-widgets/controls",
      "model_module_version": "1.5.0",
      "model_name": "RadioButtonsModel",
      "state": {
       "_options_labels": [
        "pepperoni",
        "pineapple",
        "anchovies"
       ],
       "description": "Pizza topping:",
       "index": 0,
       "layout": "IPY_MODEL_6561ccf3bc4f4c5e89d769c920e84fab",
       "style": "IPY_MODEL_9763791ea15d45e2b814c57beb19fccd"
      }
     },
     "e587feb8420549799a79f6edeffa7921": {
      "model_module": "@jupyter-widgets/controls",
      "model_module_version": "1.5.0",
      "model_name": "FloatSliderModel",
      "state": {
       "continuous_update": false,
       "description": "Test:",
       "layout": "IPY_MODEL_6d85fc8ea59b47b98522cb649210fb2a",
       "max": 10,
       "readout_format": ".1f",
       "step": 0.1,
       "style": "IPY_MODEL_ab0b6019acb44c92823d5efc7ee42788",
       "value": 7.5
      }
     },
     "e60e2182494a4a0585897e96de0c2bb6": {
      "model_module": "@jupyter-widgets/controls",
      "model_module_version": "1.5.0",
      "model_name": "IntSliderModel",
      "state": {
       "layout": "IPY_MODEL_d84c2e1b07e44bd29482f2acb9bb0a9b",
       "style": "IPY_MODEL_3e37ad3d948049eea7540f523184d561",
       "value": 50
      }
     },
     "e6868ef509a243908633ccad8031f4a5": {
      "model_module": "@jupyter-widgets/controls",
      "model_module_version": "1.5.0",
      "model_name": "LabelModel",
      "state": {
       "layout": "IPY_MODEL_5419bd9d029641249b0c4470afa2ea4d",
       "style": "IPY_MODEL_659aa78703bd4969a28aecc736f69a4b",
       "value": "3"
      }
     },
     "e69ca916bfeb426bb451476ad8906bb1": {
      "model_module": "@jupyter-widgets/controls",
      "model_module_version": "1.5.0",
      "model_name": "DescriptionStyleModel",
      "state": {
       "description_width": ""
      }
     },
     "e71ce93c636541f9970c1ecccbb17b3e": {
      "model_module": "@jupyter-widgets/controls",
      "model_module_version": "1.5.0",
      "model_name": "DescriptionStyleModel",
      "state": {
       "description_width": ""
      }
     },
     "e71d96abbe6c4f63b283871cfeb615e2": {
      "model_module": "@jupyter-widgets/controls",
      "model_module_version": "1.5.0",
      "model_name": "SliderStyleModel",
      "state": {
       "description_width": ""
      }
     },
     "e73f6bebb249456b8655adec88bf65c8": {
      "model_module": "@jupyter-widgets/base",
      "model_module_version": "1.2.0",
      "model_name": "LayoutModel",
      "state": {}
     },
     "e747e187d1604d12a7377894ea29e85d": {
      "model_module": "@jupyter-widgets/controls",
      "model_module_version": "1.5.0",
      "model_name": "DescriptionStyleModel",
      "state": {
       "description_width": ""
      }
     },
     "e74b520f39894d7fa55f82983819379d": {
      "model_module": "@jupyter-widgets/base",
      "model_module_version": "1.2.0",
      "model_name": "LayoutModel",
      "state": {}
     },
     "e78f0f48cc0f442ba54079ee54feffb2": {
      "model_module": "@jupyter-widgets/controls",
      "model_module_version": "1.5.0",
      "model_name": "FloatTextModel",
      "state": {
       "description": "Any:",
       "layout": "IPY_MODEL_ddf88db7d2d84943b422b394687b85e2",
       "step": null,
       "style": "IPY_MODEL_f25836e744dc4fdd88525690d1e16d5e",
       "value": 7.5
      }
     },
     "e79d343c8add4402bf5ce50d0a47f2e0": {
      "model_module": "@jupyter-widgets/controls",
      "model_module_version": "1.5.0",
      "model_name": "HTMLMathModel",
      "state": {
       "description": "Some HTML",
       "layout": "IPY_MODEL_3f4dedde7fce4d9baa4e817fb31c0210",
       "placeholder": "Some HTML",
       "style": "IPY_MODEL_9bea19f1355a44f9b35c860230241122",
       "value": "Some math and <i>HTML</i>: \\(x^2\\) and $$\\frac{x+1}{x-1}$$"
      }
     },
     "e831012e2ece4521a47a19e8a8a8c64e": {
      "model_module": "@jupyter-widgets/controls",
      "model_module_version": "1.5.0",
      "model_name": "SliderStyleModel",
      "state": {
       "description_width": ""
      }
     },
     "e8684e3b852a4163a34b6514c7d83fce": {
      "model_module": "@jupyter-widgets/controls",
      "model_module_version": "1.5.0",
      "model_name": "DescriptionStyleModel",
      "state": {
       "description_width": ""
      }
     },
     "e8e8c2991427451097522d77d3eb15d2": {
      "model_module": "@jupyter-widgets/controls",
      "model_module_version": "1.5.0",
      "model_name": "DatePickerModel",
      "state": {
       "description": "Pick a Date",
       "disabled": false,
       "layout": "IPY_MODEL_94e5a36b11d04e6e9e58ddc620795f01",
       "style": "IPY_MODEL_85cafb8a2c4b445680395a6fd1f59eae"
      }
     },
     "e917f86c1d754176bc1a9b110d288e36": {
      "model_module": "@jupyter-widgets/controls",
      "model_module_version": "1.5.0",
      "model_name": "DescriptionStyleModel",
      "state": {
       "description_width": ""
      }
     },
     "e96bc0bee4274dfe8dd57907c56d94b4": {
      "model_module": "@jupyter-widgets/controls",
      "model_module_version": "1.5.0",
      "model_name": "ToggleButtonsStyleModel",
      "state": {
       "button_width": "",
       "description_width": ""
      }
     },
     "e9ac06911bc74ef089c9557355e7d937": {
      "model_module": "@jupyter-widgets/controls",
      "model_module_version": "1.5.0",
      "model_name": "FloatSliderModel",
      "state": {
       "continuous_update": false,
       "description": "Test:",
       "layout": "IPY_MODEL_7c2e935e1b574302a264f4821fa1f318",
       "max": 10,
       "readout_format": ".1f",
       "step": 0.1,
       "style": "IPY_MODEL_5dacf6bf9eb348fa91c70266124569fe",
       "value": 7.5
      }
     },
     "ea1bf647bcf24c4b88d55365f436db22": {
      "model_module": "@jupyter-widgets/controls",
      "model_module_version": "1.5.0",
      "model_name": "DescriptionStyleModel",
      "state": {
       "description_width": ""
      }
     },
     "ea4b89cde95f41b286dc9cc6dcdbcd0a": {
      "model_module": "@jupyter-widgets/controls",
      "model_module_version": "1.5.0",
      "model_name": "HTMLModel",
      "state": {
       "description": "Some HTML",
       "layout": "IPY_MODEL_08f24f05f94c4cc59e3376d9e575f531",
       "placeholder": "Some HTML",
       "style": "IPY_MODEL_63d97826ef024280b30de94fc9518219",
       "value": "Hello <b>World</b>"
      }
     },
     "ea748537fe5445ac820d9a21530f7b79": {
      "model_module": "@jupyter-widgets/controls",
      "model_module_version": "1.5.0",
      "model_name": "DescriptionStyleModel",
      "state": {
       "description_width": ""
      }
     },
     "ea8a4c1f61d74df39cf6b63a20e2d3d8": {
      "model_module": "@jupyter-widgets/controls",
      "model_module_version": "1.5.0",
      "model_name": "DescriptionStyleModel",
      "state": {
       "description_width": ""
      }
     },
     "ea9d04e53ffb4e1ab502dabdb1a09ad7": {
      "model_module": "@jupyter-widgets/controls",
      "model_module_version": "1.5.0",
      "model_name": "DescriptionStyleModel",
      "state": {
       "description_width": ""
      }
     },
     "eae20f1775744dc5933c9dffd584b108": {
      "model_module": "@jupyter-widgets/controls",
      "model_module_version": "1.5.0",
      "model_name": "FloatSliderModel",
      "state": {
       "layout": "IPY_MODEL_2357d552f726458c97a48667db8e5cf1",
       "step": 0.1,
       "style": "IPY_MODEL_04b03f832fba462eac4cf92de00e2a22"
      }
     },
     "eb4212cced0d468b991569c099daef1b": {
      "model_module": "@jupyter-widgets/base",
      "model_module_version": "1.2.0",
      "model_name": "LayoutModel",
      "state": {}
     },
     "ebd084bdaa084a6cacf63b60fcfbb6ef": {
      "model_module": "@jupyter-widgets/controls",
      "model_module_version": "1.5.0",
      "model_name": "DescriptionStyleModel",
      "state": {
       "description_width": ""
      }
     },
     "ebfa698098844400a724c95429b69f44": {
      "model_module": "@jupyter-widgets/base",
      "model_module_version": "1.2.0",
      "model_name": "LayoutModel",
      "state": {}
     },
     "ec592743f41349dbaf412623c5640079": {
      "model_module": "@jupyter-widgets/controls",
      "model_module_version": "1.5.0",
      "model_name": "TextModel",
      "state": {
       "layout": "IPY_MODEL_c43fd48f33684e288bff5a3a16fa39b2",
       "style": "IPY_MODEL_e71ce93c636541f9970c1ecccbb17b3e"
      }
     },
     "ec7973004d9347a8a6f4f538ab786b08": {
      "model_module": "@jupyter-widgets/controls",
      "model_module_version": "1.5.0",
      "model_name": "SelectionRangeSliderModel",
      "state": {
       "_model_name": "SelectionRangeSliderModel",
       "_options_labels": [
        "Jan",
        "Feb",
        "Mar",
        "Apr",
        "May",
        "Jun",
        "Jul",
        "Aug",
        "Sep",
        "Oct",
        "Nov",
        "Dec"
       ],
       "_view_name": "SelectionRangeSliderView",
       "description": "Months (2015)",
       "index": [
        0,
        11
       ],
       "layout": "IPY_MODEL_e3c8a50ca3444bf8b78da18307259cf5",
       "style": "IPY_MODEL_94339c1fbf4b4e80b6399daf434e4681"
      }
     },
     "ec9093bb394e4f188fb7fa9566c97dfa": {
      "model_module": "@jupyter-widgets/controls",
      "model_module_version": "1.5.0",
      "model_name": "SliderStyleModel",
      "state": {
       "description_width": ""
      }
     },
     "ecbc2267913449e180939180ae7e5a8f": {
      "model_module": "@jupyter-widgets/controls",
      "model_module_version": "1.5.0",
      "model_name": "DescriptionStyleModel",
      "state": {
       "description_width": ""
      }
     },
     "ed0ed43f83b84afabc4f2d2a0497e1ac": {
      "model_module": "@jupyter-widgets/base",
      "model_module_version": "1.2.0",
      "model_name": "LayoutModel",
      "state": {}
     },
     "ed36dc8137e843cd8169b83d37f4106b": {
      "model_module": "@jupyter-widgets/controls",
      "model_module_version": "1.5.0",
      "model_name": "SliderStyleModel",
      "state": {
       "description_width": ""
      }
     },
     "ed4a3a48f6f647f8be3c43a92506382c": {
      "model_module": "@jupyter-widgets/controls",
      "model_module_version": "1.5.0",
      "model_name": "ToggleButtonsStyleModel",
      "state": {
       "button_width": "",
       "description_width": ""
      }
     },
     "ee02373e559b4374b90d463405ecc9a1": {
      "model_module": "@jupyter-widgets/controls",
      "model_module_version": "1.5.0",
      "model_name": "BoundedFloatTextModel",
      "state": {
       "description": "Text:",
       "layout": "IPY_MODEL_cc1bc4d043a24139807eef53d51b530b",
       "max": 10,
       "style": "IPY_MODEL_ee77d6530799458d8285597df76d9e01",
       "value": 7.5
      }
     },
     "ee77d6530799458d8285597df76d9e01": {
      "model_module": "@jupyter-widgets/controls",
      "model_module_version": "1.5.0",
      "model_name": "DescriptionStyleModel",
      "state": {
       "description_width": ""
      }
     },
     "eeabb760fe544a5dad333559df21df0c": {
      "model_module": "@jupyter-widgets/base",
      "model_module_version": "1.2.0",
      "model_name": "LayoutModel",
      "state": {}
     },
     "efe1dfad76ba40bf86685c8680405fd4": {
      "model_module": "@jupyter-widgets/controls",
      "model_module_version": "1.5.0",
      "model_name": "SliderStyleModel",
      "state": {
       "description_width": ""
      }
     },
     "eff76e4f6d76416184c765f2e32a4553": {
      "model_module": "@jupyter-widgets/base",
      "model_module_version": "1.2.0",
      "model_name": "LayoutModel",
      "state": {}
     },
     "f0068f2d559c4384a7d3131bb69d049a": {
      "model_module": "@jupyter-widgets/base",
      "model_module_version": "1.2.0",
      "model_name": "LayoutModel",
      "state": {}
     },
     "f03228ab3720419c90b56fc66834f050": {
      "model_module": "@jupyter-widgets/base",
      "model_module_version": "1.2.0",
      "model_name": "LayoutModel",
      "state": {}
     },
     "f03e38c088db483587a570869b956b11": {
      "model_module": "@jupyter-widgets/base",
      "model_module_version": "1.2.0",
      "model_name": "LayoutModel",
      "state": {}
     },
     "f0684572a4844a4981b2e2fa0dd948fd": {
      "model_module": "@jupyter-widgets/controls",
      "model_module_version": "1.5.0",
      "model_name": "PlayModel",
      "state": {
       "description": "Press play",
       "layout": "IPY_MODEL_2a5d372ea3894c56a4d4c76663de4f54",
       "style": "IPY_MODEL_829b512f0b0d4510a0d3dc7bf5cb1df6",
       "value": 50
      }
     },
     "f07641b969f740f4a841fe3b049eaf3a": {
      "model_module": "@jupyter-widgets/controls",
      "model_module_version": "1.5.0",
      "model_name": "LabelModel",
      "state": {
       "layout": "IPY_MODEL_a8de234d968c4928aa823ff2977c7f62",
       "style": "IPY_MODEL_57b4b1f945bd47299248233853517f6b",
       "value": "1"
      }
     },
     "f08434d673824a0aa1eccaa34402d653": {
      "model_module": "@jupyter-widgets/controls",
      "model_module_version": "1.5.0",
      "model_name": "SliderStyleModel",
      "state": {
       "description_width": ""
      }
     },
     "f0a26522b92e4134921e6baa61ee01ca": {
      "model_module": "@jupyter-widgets/base",
      "model_module_version": "1.2.0",
      "model_name": "LayoutModel",
      "state": {}
     },
     "f173d96fa7e54393a6dec3fde3397853": {
      "buffers": [
       {
        "data": "R0lGODlhHgEeAcQfAGON/+rq6sfHxwAAAKBIAKampgBE/4aGhm4yAGVlZUZGRk5bfmJznycpLgAifz8cADRq/3md/w0PEhdV/09+//9zAJ64/36Sy8daAO9rAJOt9N9kAB8OADZAWYqh3////yH5BAEAAB8ALAAAAAAeAR4BAAX/4CeOZGmeaKqubOu+qCAXR30oeK4n9lHIAZhwSCwaj8ikclkU0BKKxmBKrVqvWCquJmN6v+CweMx03qTZtHp9bSh8QbJ8Tq/bTYEClM3v+6cSbwVxd4WGh4glAmd/jY59DQmDiZSVlkh5CWiPnJ1rkQWXoqOkHwE3nqmqa4GTpa+wY6ebq7W2Vwqusbu8QrO3wMG4ur3FxiIFCsLLzIAJAsfRsAEJEs3XzQ0HhNLdh8nY4djP3uV0v+Lp17nm7V+n1ury1w2h7vdF1PP74RLb+ABZ6ONHEJs/bgETDizI8Jq/hAoPxGtIMZs9iO0KTKzIkVkDaBi7CaDVseQyBQhD/8ZaaLLlsocqd0lsyeEBAgQEMGyo8ODRAgsXLjBY0KHBRo4fY5YSoIyjzZwVokqV2tPRTwtYs2IVuoAkwwQplR46QPHpzqlop1ZtdFWr26xCizaUcFGsoZEFbWJIyzft2j9t3wrGqmHoUXko7RYiyw9nhr6Q0f71E3iwZQseGHTgR1fxuabqOOCMTFqyz8uotRbePA+s5zEa5Y0uTZvq6dS4CWuWl/S1F5bYHhCoTdy21dzIdR9m1tm3kgBemSE4W7z45D6Vk+O+wDqca+dGYgcfXr08z9vatWtYsDxYb/BCGF97sNe8+et8sqdHzqD9rebwtRAAaNJRZ195+LGh3/9+yF0QHTAHBCjQg7ZMd+CFCa6xIIMNUlhLAhKmIIB/q1h4IYboccihg9mEFaB4wtB34owZqrGhisn15xFIIX5QADMckDfjiTWmcSOOybH3Eo8ByhcMAkNGWWQWRyKJnAbdASMBk84lsMwDBkaJ4nFWlnkBiZ7U9ZqXwggpJo0plonkAsuoaRebwCDw2JtSxiknjiwGY2dMeN5SH599kvmnnAwIMyhGhdbywJ6IJsrWoosGesujAUW6ipuVDjklFlVimh6dwHB6j6epyBjqm6NeUaqp2um4aUisegLlq3zGasWstCbngYePqOqNk5/yiqivVQAbbHJZqrJlQD/awsH/ocqKySwVzj7L339cliPALZNmu6yf3lp5pi0SuHjMiBWaW+m2U3Sbbm7D2tKAu70EgOYfu8rbK7r3IqkBsX8oUA50toAqsKWAFUxrtJ6A2E2ujzj8sKgES4wkxZ0YWwqynmC7sbYde4xjo7WEG8u4tZh8MsSUqUwry9LyK4q/Mc88b8o2q4hzKgr3gnAfMvvMsaJBLzq0JxHugnEjSSsNJ9NN//l0Jy5fArMqVVtNJNBZc7j1I+2+wjPYYv+Mddlyokr0KwR2onHbV18Kt6kgOxK1KCRnjLfbeu+Nad+NdG3I2roOTnjEhmN6sCoNiFL3IwE7DivZke83eSp/JxJ4/yPlaj7w252r+y8bip+z+hqUmo4y6qkjeXYjlSdyuSNhy34gvQPYWztut/8R+h3VenK372MWPvyfiPeRdiGMc5I58zRj97zkr6dR9B1T81E69rM7v72ZqrQORgBsk7857ecLnUrudez+x/Lu2we88PGjFj0fxxvD1zjxgPydznz9M1j3sDA9ORxNDbEzYN4gl0BGpcJiZEgeJ/AnQQRxroJJSoXOMPHALBSwg+WjIAitpIEF4oIMo/NDBFHYPBWu0HapUJ8RqucIDtLQOh+8YW7+t4bvfSGG4vthCmsmxDK10BM6HAIPqabE7OWniRbshBGXgEQ2XK+KvwsiFlNTQv8sRPEFU/zDDMF4HzGO8TIX8MQWkaDBHrJxaQh8I4OIqIYRvqCMVuDAHfFoQz0yyAMVW0IdqTjIscHPkCHshB9ZYL8kNtKReYSkelxYhQAOYYC8uyQmC6nJU3VCAkkInxpOKMowPrKUuHkiJ0SmAvZ1onetLM3+YIkjuTlijjDo4ipzWUMm8pJBsnzEGU8AyCrgkpiR2eUxOeTLRmBQCKD8AyuZh4GbePOb4Ayn/tw4Ta0gkhOoJIIq0+BDsSGAE+N85WAiYIB62vOe+MRnBPrHxyzQ0gScnIIg3ffOR8Qzk6ihZz4Xms99xu+cjwDmChbphy/KrqCOOCgpU6NQhnr/1AAOjV8zqTDJEVSSDWs0HUYboVFjJqejH11oSM9XPDb8UwS2xJwBV/qHlmovPTCNqT4rGNAB0K8FFEXaTuHZRnkKJqhCtedMz1fNP5T0pGoYaP546gefXhGoUZVpBSHqtxfYTYJc7YNXFbQfqIZ1qucb6QAkaoKk8iFM2EsrH9aqobaGtaEgrOka/LhOLGyToEz1oFPf4taownV7GghZC+TazsHplQ18tZFf/3rPx26vn1e4Zgw6kVLfXXYNmTXSZjlbT88+T7BpSKcKhGlCFJ5WDaml0mpZ69rnFVV9WGWnbRNbHWlqp7FC7e3wQGsFT5KAtMM1aFMRehnkxlS5/7WDbRbo+oFs9uGwWyUuEBfrFut+FLupiywnZms9Gt42Dbkl1W45i97UyVVxwc3CM1UqXuIY96WslaoQtYsF536gEz98bxbiK6v5/rW+nYtjREf7CPDmjwAPyLCGN8xhDjP4V+X8U0BlWwLaYqGy0KzNf0OMI+ZWISyFvcJ+U6xicrJ4MAS+wqDkSuMl/vTGgOKEaEVAwB5bka1ARhIn5uhdPljUyIqlbpJzM1ISI4MTM4ZyNG08Za1UtQ8IMfEVSqvlGpO3y4LJsRW4lN8raLXMH24WmjlEVuOVYKQWhrN/uTxnCwi5BO3Vc5y51WcGjdSITWYDigVtmjMXOisuBv8ECRK9hiwzWi18nvOX+UACMVvh0tPd6KPhyAkeeboKoI6yqEc9GAk7gkdttkKeUw2ZFbM6NZz4W6yrMGta88XWt75MQP820if7+teZnvNIMRjoY+sy2Wg+9Aiw7GzaADvYg9l0Eaf9CEvT+trYfou21fA9alebNOAOt1bUXAVuZ/Tc6IZ2l13dCHezFN5bdjSr6f0He/cU37WW95T57Qd/dxXgfUm3urfCiThUGOEJF/iUS01kR/Qa38CTwAUWjhqKH9jiEEc22jbO8cF4/OEhb/TISy6Yk4M85Zg+JclZnhWXkw7mMZc5zWuuzIrfHOdRAZ4VNL5zP/f84z8HutD/hz7zkttcm0APei2IzvKn++Hi8Faw9Jqubqv34c041zofqK5ugvcBJP2FudjZQHZsm53TPr931KOydlZwfd/rjfu/5053dt390W9ng8H7gFeg110NbR81u6kweD54+9yHj+3fNf0I+pmb71KJfBYS3+dxe6/xisY8WjTPwMlPOdJzHUGxRT96v4962SbVKeunQvorcH7Kw479y2efedf3OdcjOLVAed/6qZu+nHX2g6nTPvvaMx3NgV8Dj+xaaeIXfxW3L+fipzDpy1u/78afsufTAGjZf7/34QeytEkQUGPz3vlVyD4sA7rFXVMB66yHPxXkD0n1lpUEMfZp55cW//oHCMenR9GnBmoifFPweFFXgAPAf280flnAJZSmBouGeRAogViEegOAB802gNcnLQfYRAF1VKr3CGAnguiHfSW4QsnXB0P2AfZHBYXHghv4ghW0fQPgSQw4ABmYf75nSB7oMheYBu4ngjkISUWVApywgixIe0OIRTHIB3QlVzcYhRWwhGPEgzMoAgFYBUH4flN4Qx7IKdQ3TFoIGVwoREXlLjn1bmuYFhuwdKU3YJyAgiZAWXM4FRsAgfung51DgVjwhSMQhlSQhNbXTcLAgcNTVMaShrilhd3EAS8hiBHWCS1wVue3AQSAAJbIHJg4iEvWAjU4BYoIahiwiqzYiv+r+IkIkGHi4Ii+BXwsIIlpQGapZoeNOIqdw4MD4Edx2AhjCGW8qCW+2DkeqIcpIFf4x2jHWIY3lEzW9AI/OABZuIsVQYvbA4zLNIwAA3DRSDkaYEhyxYwqIFcDII4N0QDliICdYIgocI3FSGPj2An8UzseOADLhFOd8Ixwdo+OIAEMoEn+5wjouAKn2IDwJpB/0ADJ+DyEWGBEgItZkIqhAhWa45A/ViYAAGGYUlTBWAQimY2vQgAM6Tgc+QkRaRkA0FpBA4zctQKImIgng5JU4IChspKbV5CL8pICpjIieVMg2AkmySc46UyDw5Oy8o5/ApSd5THAmJAusJADgJH/Q5KUVqCTB8QMHeABpgKVQ1UwImlgLmCRWXCUWakGXOlj7LIAYBmW53UvwDiSSKCOWHkgWqlfYrOSBOmUmCKWDAWSDCKS8miNnqCWeqlUSiOQErAALZkbgulRhFkrUPQcIgmQ5bGX1ecz0dgAkHkvkzmXpkKNjTCTMFCTOVkpnMkGbVlMD7kADACY3jKa12UqE4kFRLkC4Ah1SLlBM6NwtAIBAQaTf+IBIkmV6qQ8b9KaflCPriRlkkOcxWmcZbKPA7CbApEKukgczhmODyOcf6IBE1CdUakunqCcRaCaqLiWqzA+2SKeZWJe9GUl6pidYdCbf/CaGAAMr7ln+sYg/7ZpnrRpSp2gnkbAngOgmX0BiEBoLvKpIhpAneaZTwCAI8iZJrKQCnnZoMAAn4/jUqYSAeVZoRaKJPeJoEegoAPwnw76oK8SoftBASa6UBe6Mqmgnb4gkgs6JC8KJjspceVVojV6TzeqIhmqRXRwje05Iy8Ko10poixEoUVqT0eqIvfJj3WQpf+5hcJwLVHakVZCo1WKT1dKTRdkB2iZBRzQnbTxpAuqmNYmcQBApGVaT2fKIAnIdiWlBFY5BQzKhgVCSFLaVlR6pwaQp57Doz1IPaoAnVIoHa8po4IBAIeKqIq6H9hpVGPRPk46H/VIqVmhAXWKqCdqJXU5Bf3IBP8M4wltGiXfaS0mMl7SyViXaqoghT5zgwhHyAaBChmxSi4E4KZSR14aQAF2iqtBiSRJekp9CgZ/2qRD0p/pIBzdKZzHmqzKWk8TUKDIlKX4SQlpRIxiggFMaUIIEDbXRqrIuq0MBQHeukeqgJp0sKbCFSUZcK6rhBPY8l8RYKna6q73RAF/kpub96xjwKIpGSVwqk02EYqN0AEUAAEBK7CAlUU5OgqtmgpyShvU6hJs4AAWG1XdqjWrQK930Ku+Sqy1ka8guwYiO7IfRbB/si7zg7BzwKT3x7K1EawuEbMym08TUJmoYbM5FAvRCqg8Sxt1+LJYALRBa08UEK8rwqj/U2CWlTCupLO0tOGzHQG1QTu0mGK0ctQLKruyiNK0TjsFYDuyUzu2VhuBOLsYksK1HguxINu27gqvpkK2l2kMSau0Gem0eourYtu3cduox7CxrWK3tJEBDasKhXunE5CpqvMhIpG4YBoqf9gSk1ulb3sz+jK3lHC2jscrnfu1yjoBoSu6U0e6lWCvawCppQG5HPG51Vm56bKp8beqpaCwVdCh9oFhDYG7rAUBRKsevFsFOvq7t6An5sKIBGG8JNu6z5IvttC8dEMuHXshGUC880C9H4W8EuO3oKMQ4GoFtFsc36uvViC++QQBlksrBssGh+kNjFsiJ/O9oIgN8GsA/6ybvBKavlVwvwtDwPfXveUKvsJgvBMgv1TrLeabpjGRv8liNZ4Yi7egtw9MAREQwfdSv/ZrFxasCiCqNBmAAZ8oi5wgshAAARTwkRGGwFRgwPhQwo/KPKJaMCI8wq+Bw40rOzsswTRcw+ABxKmwvu9TqxKzHstgwxiBxJ7gKngzxKZiK8EAxSEBHM/ruGH6VXCjKcGAtZ4BvEjYNlbsRMubBtqLETq7BkFiNWmMI+uRuAzku2IBI1+qxKpWqOlSx9mAx3YBL80Qxxszx+kByC3SI7VUxFhgyPKCyFeiJNegxRJixl7kxbS6anLiAWtsU4z8AnrcDOmqLJJ8GQzgyP9Z8B6h3AJ4IQ7WGqQBihseQMnhkBitDANcfA2zscScnMipLA9knMsoMMrh0MsT5MfA/Ml+wMrE7Auq7GTDOkrKjC+7sQ/f8cxG8MZTrJF9LKb80RUEASDafASvnBfePKfGOhTRnDCwW84lZsetwq/x9kgaEBfynJ5tDM8nMCAmURP82q8pEhQL0BX5vArZzM9eYMwmwcID2QDtbAsKIMgKLSDcvLYgS84VLQb+jNEe7Qf/sNF0cM4fXdJWkNAiXa8RbdInQdEpTUcrzdK1MNEvHbsxLdNL5tI1vdA3jdN9QNM7TQrg4NMEQQ5BDQsCgMlEPXYhfdS7gA5LfRL77NR1haAHUf0fKE3Vi1sAPQ2y7KDV9wDVV22FxADWN3wAXc0PufDOZs0LmXDQBAEKbe0cixC4+9AKbD3X7lDXaV15kpDXeg0RecAI7cgDOh3YdE0DOADXVeAGPPADiK3XM1ADUIADR7MDXCAAgB3ZnN3Znv3ZdhACADs=",
        "encoding": "base64",
        "path": [
         "value"
        ]
       }
      ],
      "model_module": "@jupyter-widgets/controls",
      "model_module_version": "1.5.0",
      "model_name": "ImageModel",
      "state": {
       "format": "gif",
       "height": "128",
       "layout": "IPY_MODEL_770d1a37ea5e4532926fea608ac86752",
       "width": "128"
      }
     },
     "f1938d9b970e448f90ec6c83e0d52772": {
      "model_module": "@jupyter-widgets/controls",
      "model_module_version": "1.5.0",
      "model_name": "IntRangeSliderModel",
      "state": {
       "_model_name": "IntRangeSliderModel",
       "_view_name": "IntRangeSliderView",
       "continuous_update": false,
       "description": "Test:",
       "layout": "IPY_MODEL_608b0feae81f4cbeac36ffc184cdab63",
       "max": 10,
       "style": "IPY_MODEL_1c12f7b79abd4039a0958fed26263125",
       "value": [
        5,
        7
       ]
      }
     },
     "f1eda5a6dada4c2b8bd1eb334b99e597": {
      "model_module": "@jupyter-widgets/base",
      "model_module_version": "1.2.0",
      "model_name": "LayoutModel",
      "state": {}
     },
     "f1fc6e56f73c4f7191cc748582bdaeb0": {
      "model_module": "@jupyter-widgets/base",
      "model_module_version": "1.2.0",
      "model_name": "LayoutModel",
      "state": {}
     },
     "f2006b2f61044d8cb1a9efd902eca260": {
      "model_module": "@jupyter-widgets/base",
      "model_module_version": "1.2.0",
      "model_name": "LayoutModel",
      "state": {}
     },
     "f206c884366b4d3c8cd66b5e2c1e1099": {
      "model_module": "@jupyter-widgets/base",
      "model_module_version": "1.2.0",
      "model_name": "LayoutModel",
      "state": {}
     },
     "f25836e744dc4fdd88525690d1e16d5e": {
      "model_module": "@jupyter-widgets/controls",
      "model_module_version": "1.5.0",
      "model_name": "DescriptionStyleModel",
      "state": {
       "description_width": ""
      }
     },
     "f2acb17e4d77405aa646fd3dfa1868df": {
      "model_module": "@jupyter-widgets/controls",
      "model_module_version": "1.5.0",
      "model_name": "TextModel",
      "state": {
       "layout": "IPY_MODEL_9a788310fa7e49ae9b11656a60453a5e",
       "style": "IPY_MODEL_92d49fa312b64cd7aea6ce97eb654edc"
      }
     },
     "f2cd886a5c084caca56e54f861a311f2": {
      "model_module": "@jupyter-widgets/controls",
      "model_module_version": "1.5.0",
      "model_name": "CheckboxModel",
      "state": {
       "description": "Check me",
       "disabled": false,
       "layout": "IPY_MODEL_208fca5eb38e46649d6ad1d973aacd44",
       "style": "IPY_MODEL_d3f431507535407384fd3a76c497f360",
       "value": false
      }
     },
     "f354bf243c364d029ddb7293d1a93392": {
      "model_module": "@jupyter-widgets/controls",
      "model_module_version": "1.5.0",
      "model_name": "DescriptionStyleModel",
      "state": {
       "description_width": ""
      }
     },
     "f35c5f96577e4731b2548b30883186e3": {
      "model_module": "@jupyter-widgets/base",
      "model_module_version": "1.2.0",
      "model_name": "LayoutModel",
      "state": {}
     },
     "f39bdb57993b49078af3247dbafbd2c3": {
      "model_module": "@jupyter-widgets/controls",
      "model_module_version": "1.5.0",
      "model_name": "TextModel",
      "state": {
       "layout": "IPY_MODEL_10ae62a079a94cd585bdc3efeee43e66",
       "style": "IPY_MODEL_c6e5950f6d664b7daea326961354a518"
      }
     },
     "f3b561da27f44a53bc55a712682c12fc": {
      "model_module": "@jupyter-widgets/controls",
      "model_module_version": "1.5.0",
      "model_name": "IntSliderModel",
      "state": {
       "continuous_update": false,
       "description": "Test:",
       "layout": "IPY_MODEL_9186182c32314540bc46193e7734b862",
       "max": 10,
       "style": "IPY_MODEL_94adbf04e66b45efb9d610fa69dbb82c",
       "value": 7
      }
     },
     "f3c78d9b3f30462c8d2e32255a7d54d3": {
      "model_module": "@jupyter-widgets/controls",
      "model_module_version": "1.5.0",
      "model_name": "DescriptionStyleModel",
      "state": {
       "description_width": ""
      }
     },
     "f3d444be481d420aa330b111b3c68ed0": {
      "model_module": "@jupyter-widgets/controls",
      "model_module_version": "1.5.0",
      "model_name": "HBoxModel",
      "state": {
       "children": [
        "IPY_MODEL_a7e0396343c543dc9aba6b3b3a728f47",
        "IPY_MODEL_fdb2ddbfcec24ad59bce105529790073"
       ],
       "layout": "IPY_MODEL_7bb78c9be44a4b0fa0365cdc26065f8a"
      }
     },
     "f42ce20ec25646158314aee090e703f5": {
      "model_module": "@jupyter-widgets/output",
      "model_module_version": "1.0.0",
      "model_name": "OutputModel",
      "state": {
       "layout": "IPY_MODEL_3238b200bd6c4d9ebffbb51ee794b972"
      }
     },
     "f4451bf8ff664a3ab595f5f448e4bc9f": {
      "model_module": "@jupyter-widgets/controls",
      "model_module_version": "1.5.0",
      "model_name": "SelectModel",
      "state": {
       "_options_labels": [
        "Linux",
        "Windows",
        "OSX"
       ],
       "description": "OS:",
       "index": 2,
       "layout": "IPY_MODEL_2eeedeffa80a41109023176b86a32b3f",
       "style": "IPY_MODEL_7e631b7decf74bda873e60f6aeed5aba"
      }
     },
     "f45cb407d27b433e87063971fab58354": {
      "model_module": "@jupyter-widgets/base",
      "model_module_version": "1.2.0",
      "model_name": "LayoutModel",
      "state": {}
     },
     "f4812cd6278d4cf8a7c2f630f3c44714": {
      "model_module": "@jupyter-widgets/base",
      "model_module_version": "1.2.0",
      "model_name": "LayoutModel",
      "state": {}
     },
     "f4ec040916174fe886df33c1a38f61b3": {
      "model_module": "@jupyter-widgets/controls",
      "model_module_version": "1.5.0",
      "model_name": "LabelModel",
      "state": {
       "layout": "IPY_MODEL_1c0281199be14e43a7d08c0e49621911",
       "style": "IPY_MODEL_3afb2cf9b18244ad8782044697ba9617",
       "value": "1"
      }
     },
     "f5351f56b11b47918712f4e6f268e580": {
      "model_module": "@jupyter-widgets/controls",
      "model_module_version": "1.5.0",
      "model_name": "DescriptionStyleModel",
      "state": {
       "description_width": ""
      }
     },
     "f57519db1adc4ebab1e9ef1f2919ff35": {
      "model_module": "@jupyter-widgets/controls",
      "model_module_version": "1.5.0",
      "model_name": "BoxModel",
      "state": {
       "children": [
        "IPY_MODEL_a6f0847524ec459aadcda8fc9dd2f8bf",
        "IPY_MODEL_5da1c20d2c644478939a42e7ebe821c3",
        "IPY_MODEL_394e16978a0b4bf3b17ac90375b0c2e6",
        "IPY_MODEL_a130accadf634883a672c6da7f303ec4"
       ],
       "layout": "IPY_MODEL_1ea7da5778b049558850a5d8ef4cf3cf"
      }
     },
     "f59edcf7d8e046609d5e548d31bebaa8": {
      "model_module": "@jupyter-widgets/base",
      "model_module_version": "1.2.0",
      "model_name": "LayoutModel",
      "state": {}
     },
     "f5db8ead6a32447ba44327d2a9591938": {
      "model_module": "@jupyter-widgets/controls",
      "model_module_version": "1.5.0",
      "model_name": "DropdownModel",
      "state": {
       "_options_labels": [
        "1",
        "2",
        "3"
       ],
       "description": "Number:",
       "index": 1,
       "layout": "IPY_MODEL_2690cf938258423b81a8d2d02ae2c8ec",
       "style": "IPY_MODEL_3a3bcd168db14a33ba421e00dc83d60a"
      }
     },
     "f61c2151a573457a8875eb65ec693c98": {
      "model_module": "@jupyter-widgets/controls",
      "model_module_version": "1.5.0",
      "model_name": "DescriptionStyleModel",
      "state": {
       "description_width": ""
      }
     },
     "f688ffaf6d7c400f9e60a89a58bdc032": {
      "model_module": "@jupyter-widgets/controls",
      "model_module_version": "1.5.0",
      "model_name": "TextModel",
      "state": {
       "description": "String:",
       "layout": "IPY_MODEL_84cf7da951284c43b3fed92ba00886f2",
       "placeholder": "Type something",
       "style": "IPY_MODEL_1b7d635537534d3ba93f20640a640e70",
       "value": "Hello World"
      }
     },
     "f6c60069dd1c44f38c59005c529b9c05": {
      "model_module": "@jupyter-widgets/base",
      "model_module_version": "1.2.0",
      "model_name": "LayoutModel",
      "state": {}
     },
     "f6f2174fa5914d47839742802c591848": {
      "model_module": "@jupyter-widgets/controls",
      "model_module_version": "1.5.0",
      "model_name": "HTMLMathModel",
      "state": {
       "description": "Some HTML",
       "layout": "IPY_MODEL_740385346f0a4ecfb4c9d4e7072f46bb",
       "placeholder": "Some HTML",
       "style": "IPY_MODEL_6c93012858b747ee967cdb6878ea6fae",
       "value": "Some math and <i>HTML</i>: \\(x^2\\) and $$\\frac{x+1}{x-1}$$"
      }
     },
     "f71f62ba0b5a43e29e67d14a6565496e": {
      "model_module": "@jupyter-widgets/controls",
      "model_module_version": "1.5.0",
      "model_name": "BoundedFloatTextModel",
      "state": {
       "description": "Text:",
       "layout": "IPY_MODEL_04426a36991c46798857bd8efa5b625a",
       "max": 10,
       "style": "IPY_MODEL_c05acffd03d346efa368c1fd968a3575",
       "value": 7.5
      }
     },
     "f73844433317492cbb09f708f0462b04": {
      "model_module": "@jupyter-widgets/controls",
      "model_module_version": "1.5.0",
      "model_name": "SliderStyleModel",
      "state": {
       "description_width": ""
      }
     },
     "f81ce44c03d246f79ff8d22cd3b2c1dc": {
      "model_module": "@jupyter-widgets/controls",
      "model_module_version": "1.5.0",
      "model_name": "SliderStyleModel",
      "state": {
       "description_width": ""
      }
     },
     "f8539d5c6fbc42ecb6ffa65abd3ec9cf": {
      "model_module": "@jupyter-widgets/base",
      "model_module_version": "1.2.0",
      "model_name": "LayoutModel",
      "state": {}
     },
     "f8b362aa63644de79ef16d55ccfcea51": {
      "model_module": "@jupyter-widgets/base",
      "model_module_version": "1.2.0",
      "model_name": "LayoutModel",
      "state": {}
     },
     "f913efc5d5b84985becad4c823e19c53": {
      "model_module": "@jupyter-widgets/base",
      "model_module_version": "1.2.0",
      "model_name": "LayoutModel",
      "state": {}
     },
     "f968c646ab1d489898887865f9c0d641": {
      "model_module": "@jupyter-widgets/controls",
      "model_module_version": "1.5.0",
      "model_name": "TextModel",
      "state": {
       "description": "P0",
       "layout": "IPY_MODEL_28c19084c39b43fd992ec5cdca481944",
       "style": "IPY_MODEL_185e3ddfe5e247e080284e75b3466c3e"
      }
     },
     "f978176df8fc4940a615b385a99e0bc1": {
      "model_module": "@jupyter-widgets/base",
      "model_module_version": "1.2.0",
      "model_name": "LayoutModel",
      "state": {}
     },
     "f9df0150e2364c7da5bd1daf6a0a2fa9": {
      "model_module": "@jupyter-widgets/base",
      "model_module_version": "1.2.0",
      "model_name": "LayoutModel",
      "state": {}
     },
     "f9ed46374ecf4e8bb1be17f574493988": {
      "model_module": "@jupyter-widgets/controls",
      "model_module_version": "1.5.0",
      "model_name": "HBoxModel",
      "state": {
       "children": [
        "IPY_MODEL_13a0b61c942a45a9aa4d532e624a95f9",
        "IPY_MODEL_96bd392512d6449fba38a96b15fc0584"
       ],
       "layout": "IPY_MODEL_c1234562a24b48b3b689c180808018cf"
      }
     },
     "f9fbb7aa16a34bc481b09909f11b73f4": {
      "model_module": "@jupyter-widgets/output",
      "model_module_version": "1.0.0",
      "model_name": "OutputModel",
      "state": {
       "layout": "IPY_MODEL_6d8556c0367f45e1b802da81285a9783"
      }
     },
     "f9fe9e339c5741fcbeafd3394998951d": {
      "model_module": "@jupyter-widgets/base",
      "model_module_version": "1.2.0",
      "model_name": "LayoutModel",
      "state": {}
     },
     "fa013ae23fdb4581ba53df6e0bda91e2": {
      "model_module": "@jupyter-widgets/controls",
      "model_module_version": "1.5.0",
      "model_name": "LabelModel",
      "state": {
       "layout": "IPY_MODEL_4271e62e45774dccaf81756c20c034d2",
       "style": "IPY_MODEL_27750db280fe4df89e43e674b4aa0536",
       "value": "0"
      }
     },
     "fa0479dfa5294f8d94d927aa270c07b7": {
      "model_module": "@jupyter-widgets/controls",
      "model_module_version": "1.5.0",
      "model_name": "SliderStyleModel",
      "state": {
       "description_width": ""
      }
     },
     "fa09b1f0f6df4fcdaac3d629c5e93eac": {
      "model_module": "@jupyter-widgets/controls",
      "model_module_version": "1.5.0",
      "model_name": "DescriptionStyleModel",
      "state": {
       "description_width": ""
      }
     },
     "fa1653c8d0e3455ba60d0b0a63ac0ed6": {
      "model_module": "@jupyter-widgets/controls",
      "model_module_version": "1.5.0",
      "model_name": "LabelModel",
      "state": {
       "layout": "IPY_MODEL_9d687a763ed7436aa0de2df6b4873698",
       "style": "IPY_MODEL_5ef419f41ae646ea95cbb992156e02d9",
       "value": "0"
      }
     },
     "fa3f1da6ffc4428b8545a93f67fcd4ac": {
      "model_module": "@jupyter-widgets/controls",
      "model_module_version": "1.5.0",
      "model_name": "LabelModel",
      "state": {
       "layout": "IPY_MODEL_404f486c8e91413bb35916a04436a521",
       "style": "IPY_MODEL_9387fe81dfd54305b3ebbb971ae67f5d",
       "value": "0"
      }
     },
     "fa46721cb5d241a3ad31ac9e077edfca": {
      "model_module": "@jupyter-widgets/base",
      "model_module_version": "1.2.0",
      "model_name": "LayoutModel",
      "state": {}
     },
     "fabdea297b3347fd98ab3417a3e5dcc3": {
      "model_module": "@jupyter-widgets/controls",
      "model_module_version": "1.5.0",
      "model_name": "SliderStyleModel",
      "state": {
       "description_width": ""
      }
     },
     "fae56c3efe7c44caaea628d8c1dba3ce": {
      "model_module": "@jupyter-widgets/controls",
      "model_module_version": "1.5.0",
      "model_name": "LabelModel",
      "state": {
       "layout": "IPY_MODEL_dc81cb19b61b41abbf83a72702a66ba1",
       "style": "IPY_MODEL_e53daa80874648618e13e5e955036edc",
       "value": "2"
      }
     },
     "fafd4bcc02ea4eb9b6f44f464c29d158": {
      "model_module": "@jupyter-widgets/controls",
      "model_module_version": "1.5.0",
      "model_name": "ToggleButtonsModel",
      "state": {
       "_options_labels": [
        "Slow",
        "Regular",
        "Fast"
       ],
       "button_style": "",
       "description": "Speed:",
       "icons": [],
       "index": 0,
       "layout": "IPY_MODEL_11731741e8a747d6985fd095bbd334eb",
       "style": "IPY_MODEL_5fbbc42716304e58acc4192e7619e260",
       "tooltips": [
        "Description of slow",
        "Description of regular",
        "Description of fast"
       ]
      }
     },
     "fb34b711f90b4f90b6e9ef641ebca7b7": {
      "model_module": "@jupyter-widgets/base",
      "model_module_version": "1.2.0",
      "model_name": "LayoutModel",
      "state": {}
     },
     "fba2542689534d53a47a9d046bbc3055": {
      "model_module": "@jupyter-widgets/controls",
      "model_module_version": "1.5.0",
      "model_name": "FloatProgressModel",
      "state": {
       "bar_style": "info",
       "description": "Loading:",
       "layout": "IPY_MODEL_e74b520f39894d7fa55f82983819379d",
       "max": 10,
       "style": "IPY_MODEL_9d4a0e5aa9124811b834f15e749a3cd0",
       "value": 7.5
      }
     },
     "fc121fbf24564e81a71ca8942f6e5508": {
      "model_module": "@jupyter-widgets/base",
      "model_module_version": "1.2.0",
      "model_name": "LayoutModel",
      "state": {}
     },
     "fc2c0ef27c8d4801a30659b042c91c06": {
      "model_module": "@jupyter-widgets/controls",
      "model_module_version": "1.5.0",
      "model_name": "DescriptionStyleModel",
      "state": {
       "description_width": ""
      }
     },
     "fc579a550a794598b2dd1db6a491de77": {
      "model_module": "@jupyter-widgets/controls",
      "model_module_version": "1.5.0",
      "model_name": "DescriptionStyleModel",
      "state": {
       "description_width": ""
      }
     },
     "fc84fe255fe74288aa763fb99964a791": {
      "model_module": "@jupyter-widgets/base",
      "model_module_version": "1.2.0",
      "model_name": "LayoutModel",
      "state": {}
     },
     "fca3a4362ae841ccb7c052ce36d05cc7": {
      "model_module": "@jupyter-widgets/controls",
      "model_module_version": "1.5.0",
      "model_name": "DescriptionStyleModel",
      "state": {
       "description_width": ""
      }
     },
     "fcd1ad72e2a348cdb063e4d2bca1d9c3": {
      "model_module": "@jupyter-widgets/base",
      "model_module_version": "1.2.0",
      "model_name": "LayoutModel",
      "state": {}
     },
     "fcdc003bb9da4ef78e034b9f83581523": {
      "model_module": "@jupyter-widgets/controls",
      "model_module_version": "1.5.0",
      "model_name": "SelectionSliderModel",
      "state": {
       "_options_labels": [
        "scrambled",
        "sunny side up",
        "poached",
        "over easy"
       ],
       "continuous_update": false,
       "description": "I like my eggs …",
       "index": 1,
       "layout": "IPY_MODEL_b79d4716bfa14bdfb275a52c52bfbdf3",
       "style": "IPY_MODEL_5db9afd87cee4985ba63cc95edad8028"
      }
     },
     "fcdc7f2e4bb54cdfb7b700661a950dcb": {
      "model_module": "@jupyter-widgets/controls",
      "model_module_version": "1.5.0",
      "model_name": "SliderStyleModel",
      "state": {
       "description_width": ""
      }
     },
     "fcdf49d5b8d64fdba262ff9fdde500aa": {
      "model_module": "@jupyter-widgets/controls",
      "model_module_version": "1.5.0",
      "model_name": "DescriptionStyleModel",
      "state": {
       "description_width": ""
      }
     },
     "fcff632160864ff6be80a9c07619d716": {
      "model_module": "@jupyter-widgets/controls",
      "model_module_version": "1.5.0",
      "model_name": "DescriptionStyleModel",
      "state": {
       "description_width": ""
      }
     },
     "fd048b6eb12047bbb8f2083121ec4e90": {
      "model_module": "@jupyter-widgets/output",
      "model_module_version": "1.0.0",
      "model_name": "OutputModel",
      "state": {
       "layout": "IPY_MODEL_78407b9a8f3044eb8d8991bbadd1ebc9",
       "outputs": [
        {
         "name": "stdout",
         "output_type": "stream",
         "text": "Output appended with append_stdout"
        },
        {
         "data": {
          "image/jpeg": {},
          "text/html": "\n        <iframe\n            width=\"400\"\n            height=\"300\"\n            src=\"https://www.youtube.com/embed/eWzY2nGfkXk\"\n            frameborder=\"0\"\n            allowfullscreen\n        ></iframe>\n        ",
          "text/plain": "<IPython.lib.display.YouTubeVideo at 0x10b723e50>"
         },
         "metadata": {},
         "output_type": "display_data"
        }
       ]
      }
     },
     "fd24efa48a5944a09674f26c47018d20": {
      "model_module": "@jupyter-widgets/base",
      "model_module_version": "1.2.0",
      "model_name": "LayoutModel",
      "state": {}
     },
     "fd3a8383329e469fafdfab7bfcb2e161": {
      "model_module": "@jupyter-widgets/controls",
      "model_module_version": "1.5.0",
      "model_name": "ToggleButtonModel",
      "state": {
       "description": "Click me",
       "icon": "check",
       "layout": "IPY_MODEL_c8f3bb622c334fa78a71e3abcf30e58c",
       "style": "IPY_MODEL_19b5b20d07b049bda98b342ed3ddf7da",
       "tooltip": "Description"
      }
     },
     "fd68b7fc91c24c589e5b2e884ea851a5": {
      "model_module": "@jupyter-widgets/base",
      "model_module_version": "1.2.0",
      "model_name": "LayoutModel",
      "state": {}
     },
     "fd87f665e2b749099479cfe9d5fd2718": {
      "model_module": "@jupyter-widgets/base",
      "model_module_version": "1.2.0",
      "model_name": "LayoutModel",
      "state": {}
     },
     "fdb2ddbfcec24ad59bce105529790073": {
      "model_module": "@jupyter-widgets/controls",
      "model_module_version": "1.5.0",
      "model_name": "FloatSliderModel",
      "state": {
       "layout": "IPY_MODEL_f59edcf7d8e046609d5e548d31bebaa8",
       "step": 0.1,
       "style": "IPY_MODEL_a5359198a852475bb48bf5a0e3edde5b"
      }
     },
     "fdbbaaf3c2764d41861573094fb7a166": {
      "model_module": "@jupyter-widgets/controls",
      "model_module_version": "1.5.0",
      "model_name": "DescriptionStyleModel",
      "state": {
       "description_width": ""
      }
     },
     "fdd25e34d7a546d7923d7d0f7c2a906f": {
      "model_module": "@jupyter-widgets/controls",
      "model_module_version": "1.5.0",
      "model_name": "DescriptionStyleModel",
      "state": {
       "description_width": ""
      }
     },
     "fe2a24583bbc4dd88e8c120557a9d5f0": {
      "model_module": "@jupyter-widgets/controls",
      "model_module_version": "1.5.0",
      "model_name": "SliderStyleModel",
      "state": {
       "description_width": ""
      }
     },
     "fe4fd920acf84b1cbe94919f105929f1": {
      "model_module": "@jupyter-widgets/controls",
      "model_module_version": "1.5.0",
      "model_name": "LabelModel",
      "state": {
       "layout": "IPY_MODEL_cf3d91636f1a4c2b877c76ebf64f0de2",
       "style": "IPY_MODEL_ab814c0614ed4d509237bafa153d591d",
       "value": "2"
      }
     },
     "fe6f28533f77400fa643222f40eeaebf": {
      "model_module": "@jupyter-widgets/controls",
      "model_module_version": "1.5.0",
      "model_name": "SelectModel",
      "state": {
       "_options_labels": [
        "Linux",
        "Windows",
        "OSX"
       ],
       "description": "OS:",
       "index": 2,
       "layout": "IPY_MODEL_f9fe9e339c5741fcbeafd3394998951d",
       "style": "IPY_MODEL_ab889013d3b24ce5a1b87a97d03f895e"
      }
     },
     "fe714c5f83c141f1a4508845a16fa742": {
      "model_module": "@jupyter-widgets/base",
      "model_module_version": "1.2.0",
      "model_name": "LayoutModel",
      "state": {}
     },
     "fef6662e971c43839907c7345452f577": {
      "model_module": "@jupyter-widgets/controls",
      "model_module_version": "1.5.0",
      "model_name": "DescriptionStyleModel",
      "state": {
       "description_width": ""
      }
     },
     "ff276c10ca4f466b9d33b3f37ec28e7a": {
      "model_module": "@jupyter-widgets/controls",
      "model_module_version": "1.5.0",
      "model_name": "LabelModel",
      "state": {
       "layout": "IPY_MODEL_ac4727646c224d9fb684e09782c9e41a",
       "style": "IPY_MODEL_530ea61802fe46a1bda85d45ddcc055a",
       "value": "1"
      }
     },
     "ff4ea5b6468b4d43bf84cfaa497df559": {
      "model_module": "@jupyter-widgets/controls",
      "model_module_version": "1.5.0",
      "model_name": "FloatSliderModel",
      "state": {
       "layout": "IPY_MODEL_4f28e5e7ddf54d31bdc562be16042711",
       "step": 0.1,
       "style": "IPY_MODEL_f81ce44c03d246f79ff8d22cd3b2c1dc"
      }
     },
     "ffb265492e0a49a9a9e60a92ad43a1ee": {
      "model_module": "@jupyter-widgets/controls",
      "model_module_version": "1.5.0",
      "model_name": "ProgressStyleModel",
      "state": {
       "description_width": ""
      }
     },
     "ffb9918b94e044ccbbe15f65d24a17f8": {
      "model_module": "@jupyter-widgets/controls",
      "model_module_version": "1.5.0",
      "model_name": "SelectionRangeSliderModel",
      "state": {
       "_model_name": "SelectionRangeSliderModel",
       "_options_labels": [
        "Jan",
        "Feb",
        "Mar",
        "Apr",
        "May",
        "Jun",
        "Jul",
        "Aug",
        "Sep",
        "Oct",
        "Nov",
        "Dec"
       ],
       "_view_name": "SelectionRangeSliderView",
       "description": "Months (2015)",
       "index": [
        0,
        11
       ],
       "layout": "IPY_MODEL_12ab54ec9f9540d3958b4aac92bb18b2",
       "style": "IPY_MODEL_0da2f37c70914c8fb4c0372268e7a757"
      }
     },
     "ffc27080251b4f598db41c86bd1ae022": {
      "model_module": "@jupyter-widgets/base",
      "model_module_version": "1.2.0",
      "model_name": "LayoutModel",
      "state": {}
     },
     "ffd3e80b541148c08a51cb30bf83a2f0": {
      "model_module": "@jupyter-widgets/controls",
      "model_module_version": "1.5.0",
      "model_name": "FloatSliderModel",
      "state": {
       "continuous_update": false,
       "description": "Test:",
       "layout": "IPY_MODEL_38dd7cd6572746428e807093e27de25b",
       "max": 10,
       "orientation": "vertical",
       "readout_format": ".1f",
       "step": 0.1,
       "style": "IPY_MODEL_56ca0b9c72d6400bab1ad1c0d751f8c6",
       "value": 7.5
      }
     }
    },
    "version_major": 2,
    "version_minor": 0
   }
  }
 },
 "nbformat": 4,
 "nbformat_minor": 2
}
