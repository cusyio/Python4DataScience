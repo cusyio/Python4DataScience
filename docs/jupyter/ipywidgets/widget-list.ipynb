{
 "cells": [
  {
   "cell_type": "markdown",
   "metadata": {},
   "source": [
    "# Widget-Liste"
   ]
  },
  {
   "cell_type": "code",
   "execution_count": 1,
   "metadata": {},
   "outputs": [],
   "source": [
    "import ipywidgets as widgets"
   ]
  },
  {
   "cell_type": "markdown",
   "metadata": {
    "slideshow": {
     "slide_type": "slide"
    }
   },
   "source": [
    "## Numerische Widgets"
   ]
  },
  {
   "cell_type": "markdown",
   "metadata": {},
   "source": [
    "Es gibt eine Vielzahl von IPython-Widgets, die numerische Werte anzeigen sollen. Dabei haben die Ganzzahl-Widgets ein ähnliches Benennungsschema wie ihre Gegenstücke mit Gleitkommazahlen. Durch Ersetzen von `Float` durch `Int` im Widget-Namen könnt ihr das jeweilige Integer-Äquivalent finden."
   ]
  },
  {
   "cell_type": "markdown",
   "metadata": {},
   "source": [
    "### IntSlider"
   ]
  },
  {
   "cell_type": "code",
   "execution_count": 2,
   "metadata": {},
   "outputs": [
    {
     "data": {
      "application/vnd.jupyter.widget-view+json": {
       "model_id": "b152647f7bcc488189736eba9a6365e9",
       "version_major": 2,
       "version_minor": 0
      },
      "text/plain": [
       "IntSlider(value=7, continuous_update=False, description='Test:', max=10)"
      ]
     },
     "metadata": {},
     "output_type": "display_data"
    }
   ],
   "source": [
    "widgets.IntSlider(\n",
    "    value=7,\n",
    "    min=0,\n",
    "    max=10,\n",
    "    step=1,\n",
    "    description='Test:',\n",
    "    disabled=False,\n",
    "    continuous_update=False,\n",
    "    orientation='horizontal',\n",
    "    readout=True,\n",
    "    readout_format='d'\n",
    ")"
   ]
  },
  {
   "cell_type": "markdown",
   "metadata": {
    "slideshow": {
     "slide_type": "slide"
    }
   },
   "source": [
    "### FloatSlider"
   ]
  },
  {
   "cell_type": "code",
   "execution_count": 3,
   "metadata": {},
   "outputs": [
    {
     "data": {
      "application/vnd.jupyter.widget-view+json": {
       "model_id": "8427877544d74355833d5c5b18ea20b2",
       "version_major": 2,
       "version_minor": 0
      },
      "text/plain": [
       "FloatSlider(value=7.5, continuous_update=False, description='Test:', max=10.0, readout_format='.1f')"
      ]
     },
     "metadata": {},
     "output_type": "display_data"
    }
   ],
   "source": [
    "widgets.FloatSlider(\n",
    "    value=7.5,\n",
    "    min=0,\n",
    "    max=10.0,\n",
    "    step=0.1,\n",
    "    description='Test:',\n",
    "    disabled=False,\n",
    "    continuous_update=False,\n",
    "    orientation='horizontal',\n",
    "    readout=True,\n",
    "    readout_format='.1f',\n",
    ")"
   ]
  },
  {
   "cell_type": "markdown",
   "metadata": {},
   "source": [
    "Sliders can also be **displayed vertically**."
   ]
  },
  {
   "cell_type": "code",
   "execution_count": 4,
   "metadata": {},
   "outputs": [
    {
     "data": {
      "application/vnd.jupyter.widget-view+json": {
       "model_id": "2e527b7474ea466a9c5ad97ef9ccd6eb",
       "version_major": 2,
       "version_minor": 0
      },
      "text/plain": [
       "FloatSlider(value=7.5, continuous_update=False, description='Test:', max=10.0, orientation='vertical', readout…"
      ]
     },
     "metadata": {},
     "output_type": "display_data"
    }
   ],
   "source": [
    "widgets.FloatSlider(\n",
    "    value=7.5,\n",
    "    min=0,\n",
    "    max=10.0,\n",
    "    step=0.1,\n",
    "    description='Test:',\n",
    "    disabled=False,\n",
    "    continuous_update=False,\n",
    "    orientation='vertical',\n",
    "    readout=True,\n",
    "    readout_format='.1f',\n",
    ")"
   ]
  },
  {
   "cell_type": "markdown",
   "metadata": {},
   "source": [
    "### FloatLogSlider"
   ]
  },
  {
   "cell_type": "markdown",
   "metadata": {},
   "source": [
    "Der `FloatLogSlider` verfügt über eine Skala, die es einfach macht, einen Schieberegler für einen großen Bereich positiver Zahlen zu verwenden. `min` und `max` beziehen sich auf die minimalen und maximalen Exponenten der Basis und der `value` bezieht sich auf den tatsächlichen Wert des Schiebereglers."
   ]
  },
  {
   "cell_type": "code",
   "execution_count": 5,
   "metadata": {},
   "outputs": [
    {
     "data": {
      "application/vnd.jupyter.widget-view+json": {
       "model_id": "ccd586b764464c32ae79741babdc705c",
       "version_major": 2,
       "version_minor": 0
      },
      "text/plain": [
       "FloatLogSlider(value=10.0, description='Log Slider', max=10.0, min=-10.0, step=0.2)"
      ]
     },
     "metadata": {},
     "output_type": "display_data"
    }
   ],
   "source": [
    "widgets.FloatLogSlider(\n",
    "    value=10,\n",
    "    base=10,\n",
    "    min=-10, # max exponent of base\n",
    "    max=10, # min exponent of base\n",
    "    step=0.2, # exponent step\n",
    "    description='Log Slider'\n",
    ")"
   ]
  },
  {
   "cell_type": "markdown",
   "metadata": {},
   "source": [
    "### IntRangeSlider"
   ]
  },
  {
   "cell_type": "code",
   "execution_count": 6,
   "metadata": {},
   "outputs": [
    {
     "data": {
      "application/vnd.jupyter.widget-view+json": {
       "model_id": "1330ff30be76422885e09af0760acb84",
       "version_major": 2,
       "version_minor": 0
      },
      "text/plain": [
       "IntRangeSlider(value=(5, 7), continuous_update=False, description='Test:', max=10)"
      ]
     },
     "metadata": {},
     "output_type": "display_data"
    }
   ],
   "source": [
    "widgets.IntRangeSlider(\n",
    "    value=[5, 7],\n",
    "    min=0,\n",
    "    max=10,\n",
    "    step=1,\n",
    "    description='Test:',\n",
    "    disabled=False,\n",
    "    continuous_update=False,\n",
    "    orientation='horizontal',\n",
    "    readout=True,\n",
    "    readout_format='d',\n",
    ")"
   ]
  },
  {
   "cell_type": "markdown",
   "metadata": {},
   "source": [
    "### FloatRangeSlider"
   ]
  },
  {
   "cell_type": "code",
   "execution_count": 7,
   "metadata": {},
   "outputs": [
    {
     "data": {
      "application/vnd.jupyter.widget-view+json": {
       "model_id": "6524d95b710243448a41b14241649e04",
       "version_major": 2,
       "version_minor": 0
      },
      "text/plain": [
       "FloatRangeSlider(value=(5.0, 7.5), continuous_update=False, description='Test:', max=10.0, readout_format='.1f…"
      ]
     },
     "metadata": {},
     "output_type": "display_data"
    }
   ],
   "source": [
    "widgets.FloatRangeSlider(\n",
    "    value=[5, 7.5],\n",
    "    min=0,\n",
    "    max=10.0,\n",
    "    step=0.1,\n",
    "    description='Test:',\n",
    "    disabled=False,\n",
    "    continuous_update=False,\n",
    "    orientation='horizontal',\n",
    "    readout=True,\n",
    "    readout_format='.1f',\n",
    ")"
   ]
  },
  {
   "cell_type": "markdown",
   "metadata": {},
   "source": [
    "### IntProgress"
   ]
  },
  {
   "cell_type": "code",
   "execution_count": 8,
   "metadata": {},
   "outputs": [
    {
     "data": {
      "application/vnd.jupyter.widget-view+json": {
       "model_id": "f1299d92695a43f2994c1174dd538e38",
       "version_major": 2,
       "version_minor": 0
      },
      "text/plain": [
       "IntProgress(value=7, description='Loading:', max=10)"
      ]
     },
     "metadata": {},
     "output_type": "display_data"
    }
   ],
   "source": [
    "widgets.IntProgress(\n",
    "    value=7,\n",
    "    min=0,\n",
    "    max=10,\n",
    "    step=1,\n",
    "    description='Loading:',\n",
    "    bar_style='', # 'success', 'info', 'warning', 'danger' or ''\n",
    "    orientation='horizontal'\n",
    ")"
   ]
  },
  {
   "cell_type": "markdown",
   "metadata": {
    "slideshow": {
     "slide_type": "slide"
    }
   },
   "source": [
    "### FloatProgress"
   ]
  },
  {
   "cell_type": "code",
   "execution_count": 9,
   "metadata": {},
   "outputs": [
    {
     "data": {
      "application/vnd.jupyter.widget-view+json": {
       "model_id": "15c2ebae318548a3940ef7db11953682",
       "version_major": 2,
       "version_minor": 0
      },
      "text/plain": [
       "FloatProgress(value=7.5, bar_style='info', description='Loading:', max=10.0)"
      ]
     },
     "metadata": {},
     "output_type": "display_data"
    }
   ],
   "source": [
    "widgets.FloatProgress(\n",
    "    value=7.5,\n",
    "    min=0,\n",
    "    max=10.0,\n",
    "    step=0.1,\n",
    "    description='Loading:',\n",
    "    bar_style='info',\n",
    "    orientation='horizontal'\n",
    ")"
   ]
  },
  {
   "cell_type": "markdown",
   "metadata": {},
   "source": [
    "The numerical text boxes that impose some limit on the data (range, integer-only) impose that restriction when the user presses enter.\n",
    "\n",
    "### BoundedIntText"
   ]
  },
  {
   "cell_type": "code",
   "execution_count": 10,
   "metadata": {},
   "outputs": [
    {
     "data": {
      "application/vnd.jupyter.widget-view+json": {
       "model_id": "4e26ae99955341ac819487798f6fa1dc",
       "version_major": 2,
       "version_minor": 0
      },
      "text/plain": [
       "BoundedIntText(value=7, description='Text:', max=10)"
      ]
     },
     "metadata": {},
     "output_type": "display_data"
    }
   ],
   "source": [
    "widgets.BoundedIntText(\n",
    "    value=7,\n",
    "    min=0,\n",
    "    max=10,\n",
    "    step=1,\n",
    "    description='Text:',\n",
    "    disabled=False\n",
    ")"
   ]
  },
  {
   "cell_type": "markdown",
   "metadata": {
    "slideshow": {
     "slide_type": "slide"
    }
   },
   "source": [
    "### BoundedFloatText"
   ]
  },
  {
   "cell_type": "code",
   "execution_count": 11,
   "metadata": {},
   "outputs": [
    {
     "data": {
      "application/vnd.jupyter.widget-view+json": {
       "model_id": "b0bf3e2326384a18a3ac5df6b72ab26a",
       "version_major": 2,
       "version_minor": 0
      },
      "text/plain": [
       "BoundedFloatText(value=7.5, description='Text:', max=10.0, step=0.1)"
      ]
     },
     "metadata": {},
     "output_type": "display_data"
    }
   ],
   "source": [
    "widgets.BoundedFloatText(\n",
    "    value=7.5,\n",
    "    min=0,\n",
    "    max=10.0,\n",
    "    step=0.1,\n",
    "    description='Text:',\n",
    "    disabled=False\n",
    ")"
   ]
  },
  {
   "cell_type": "markdown",
   "metadata": {},
   "source": [
    "### IntText"
   ]
  },
  {
   "cell_type": "code",
   "execution_count": 12,
   "metadata": {},
   "outputs": [
    {
     "data": {
      "application/vnd.jupyter.widget-view+json": {
       "model_id": "2666d3d21a1b47aebd1cf6007a4f03df",
       "version_major": 2,
       "version_minor": 0
      },
      "text/plain": [
       "IntText(value=7, description='Any:')"
      ]
     },
     "metadata": {},
     "output_type": "display_data"
    }
   ],
   "source": [
    "widgets.IntText(\n",
    "    value=7,\n",
    "    description='Any:',\n",
    "    disabled=False\n",
    ")"
   ]
  },
  {
   "cell_type": "markdown",
   "metadata": {
    "slideshow": {
     "slide_type": "slide"
    }
   },
   "source": [
    "### FloatText"
   ]
  },
  {
   "cell_type": "code",
   "execution_count": 13,
   "metadata": {},
   "outputs": [
    {
     "data": {
      "application/vnd.jupyter.widget-view+json": {
       "model_id": "575207ac4227429bbabe3cea3239c14a",
       "version_major": 2,
       "version_minor": 0
      },
      "text/plain": [
       "FloatText(value=7.5, description='Any:')"
      ]
     },
     "metadata": {},
     "output_type": "display_data"
    }
   ],
   "source": [
    "widgets.FloatText(\n",
    "    value=7.5,\n",
    "    description='Any:',\n",
    "    disabled=False\n",
    ")"
   ]
  },
  {
   "cell_type": "markdown",
   "metadata": {
    "slideshow": {
     "slide_type": "slide"
    }
   },
   "source": [
    "## Boolesche Widgets"
   ]
  },
  {
   "cell_type": "markdown",
   "metadata": {},
   "source": [
    "Es gibt drei Widgets, die boolesche Wert anzeigen sollen."
   ]
  },
  {
   "cell_type": "markdown",
   "metadata": {},
   "source": [
    "### ToggleButton"
   ]
  },
  {
   "cell_type": "code",
   "execution_count": 14,
   "metadata": {},
   "outputs": [
    {
     "data": {
      "application/vnd.jupyter.widget-view+json": {
       "model_id": "939e6ae34a244b78b268bd3d196f5e61",
       "version_major": 2,
       "version_minor": 0
      },
      "text/plain": [
       "ToggleButton(value=False, description='Click me', icon='check', tooltip='Description')"
      ]
     },
     "metadata": {},
     "output_type": "display_data"
    }
   ],
   "source": [
    "widgets.ToggleButton(\n",
    "    value=False,\n",
    "    description='Click me',\n",
    "    disabled=False,\n",
    "    button_style='', # 'success', 'info', 'warning', 'danger' or ''\n",
    "    tooltip='Description',\n",
    "    icon='check'\n",
    ")"
   ]
  },
  {
   "cell_type": "markdown",
   "metadata": {
    "slideshow": {
     "slide_type": "slide"
    }
   },
   "source": [
    "### Checkbox"
   ]
  },
  {
   "cell_type": "code",
   "execution_count": 15,
   "metadata": {},
   "outputs": [
    {
     "data": {
      "application/vnd.jupyter.widget-view+json": {
       "model_id": "378a4cb6fe3d4cf78a86669f4a1438ad",
       "version_major": 2,
       "version_minor": 0
      },
      "text/plain": [
       "Checkbox(value=False, description='Check me')"
      ]
     },
     "metadata": {},
     "output_type": "display_data"
    }
   ],
   "source": [
    "widgets.Checkbox(\n",
    "    value=False,\n",
    "    description='Check me',\n",
    "    disabled=False\n",
    ")"
   ]
  },
  {
   "cell_type": "markdown",
   "metadata": {},
   "source": [
    "### Valid\n",
    "\n",
    "Das `Valid`-Widget bietet eine read-only-Anzeige."
   ]
  },
  {
   "cell_type": "code",
   "execution_count": 16,
   "metadata": {},
   "outputs": [
    {
     "data": {
      "application/vnd.jupyter.widget-view+json": {
       "model_id": "4b35fd78523845a4bbcff0f90dfff9d4",
       "version_major": 2,
       "version_minor": 0
      },
      "text/plain": [
       "Valid(value=False, description='Valid!')"
      ]
     },
     "metadata": {},
     "output_type": "display_data"
    }
   ],
   "source": [
    "widgets.Valid(\n",
    "    value=False,\n",
    "    description='Valid!',\n",
    ")"
   ]
  },
  {
   "cell_type": "markdown",
   "metadata": {
    "slideshow": {
     "slide_type": "slide"
    }
   },
   "source": [
    "## Auswahl-Widgets"
   ]
  },
  {
   "cell_type": "markdown",
   "metadata": {},
   "source": [
    "Es gibt mehrere Widgets zum Auswählen einzelner Werte und zwei für mehrere Werte. Alle erben von derselben Basisklasse."
   ]
  },
  {
   "cell_type": "markdown",
   "metadata": {
    "slideshow": {
     "slide_type": "slide"
    }
   },
   "source": [
    "### Dropdown"
   ]
  },
  {
   "cell_type": "code",
   "execution_count": 17,
   "metadata": {},
   "outputs": [
    {
     "data": {
      "application/vnd.jupyter.widget-view+json": {
       "model_id": "208c4ee4bb4e4c22bbef1791d1f51462",
       "version_major": 2,
       "version_minor": 0
      },
      "text/plain": [
       "Dropdown(description='Number:', index=1, options=('1', '2', '3'), value='2')"
      ]
     },
     "metadata": {},
     "output_type": "display_data"
    }
   ],
   "source": [
    "widgets.Dropdown(\n",
    "    options=['1', '2', '3'],\n",
    "    value='2',\n",
    "    description='Number:',\n",
    "    disabled=False,\n",
    ")"
   ]
  },
  {
   "cell_type": "markdown",
   "metadata": {
    "slideshow": {
     "slide_type": "slide"
    }
   },
   "source": [
    "### RadioButtons"
   ]
  },
  {
   "cell_type": "code",
   "execution_count": 18,
   "metadata": {},
   "outputs": [
    {
     "data": {
      "application/vnd.jupyter.widget-view+json": {
       "model_id": "0a18d3f3d1004181b2e6cc853161b7bc",
       "version_major": 2,
       "version_minor": 0
      },
      "text/plain": [
       "RadioButtons(description='Pizza topping:', options=('pepperoni', 'pineapple', 'anchovies'), value='pepperoni')"
      ]
     },
     "metadata": {},
     "output_type": "display_data"
    }
   ],
   "source": [
    "widgets.RadioButtons(\n",
    "    options=['pepperoni', 'pineapple', 'anchovies'],\n",
    "#     value='pineapple',\n",
    "    description='Pizza topping:',\n",
    "    disabled=False\n",
    ")"
   ]
  },
  {
   "cell_type": "markdown",
   "metadata": {
    "slideshow": {
     "slide_type": "slide"
    }
   },
   "source": [
    "### Select"
   ]
  },
  {
   "cell_type": "code",
   "execution_count": 19,
   "metadata": {},
   "outputs": [
    {
     "data": {
      "application/vnd.jupyter.widget-view+json": {
       "model_id": "52cb53afd0d4490e9be38a9cbfea1b6f",
       "version_major": 2,
       "version_minor": 0
      },
      "text/plain": [
       "Select(description='OS:', index=2, options=('Linux', 'Windows', 'OSX'), value='OSX')"
      ]
     },
     "metadata": {},
     "output_type": "display_data"
    }
   ],
   "source": [
    "widgets.Select(\n",
    "    options=['Linux', 'Windows', 'OSX'],\n",
    "    value='OSX',\n",
    "    # rows=10,\n",
    "    description='OS:',\n",
    "    disabled=False\n",
    ")"
   ]
  },
  {
   "cell_type": "markdown",
   "metadata": {},
   "source": [
    "### SelectionSlider"
   ]
  },
  {
   "cell_type": "code",
   "execution_count": 20,
   "metadata": {},
   "outputs": [
    {
     "data": {
      "application/vnd.jupyter.widget-view+json": {
       "model_id": "720376c01d7d4c03af8a4a5a893c6691",
       "version_major": 2,
       "version_minor": 0
      },
      "text/plain": [
       "SelectionSlider(continuous_update=False, description='I like my eggs …', index=1, options=('scrambled', 'sunny…"
      ]
     },
     "metadata": {},
     "output_type": "display_data"
    }
   ],
   "source": [
    "widgets.SelectionSlider(\n",
    "    options=['scrambled', 'sunny side up', 'poached', 'over easy'],\n",
    "    value='sunny side up',\n",
    "    description='I like my eggs …',\n",
    "    disabled=False,\n",
    "    continuous_update=False,\n",
    "    orientation='horizontal',\n",
    "    readout=True\n",
    ")"
   ]
  },
  {
   "cell_type": "markdown",
   "metadata": {},
   "source": [
    "### SelectionRangeSlider\n",
    "\n",
    "`index` ist ein Tupel der Mindest- und Höchstwerte."
   ]
  },
  {
   "cell_type": "code",
   "execution_count": 21,
   "metadata": {},
   "outputs": [
    {
     "data": {
      "application/vnd.jupyter.widget-view+json": {
       "model_id": "118e1569ccbf481aa7cb4738affbeaea",
       "version_major": 2,
       "version_minor": 0
      },
      "text/plain": [
       "SelectionRangeSlider(description='Months (2015)', index=(0, 11), options=(('Jan', datetime.date(2015, 1, 1)), …"
      ]
     },
     "metadata": {},
     "output_type": "display_data"
    }
   ],
   "source": [
    "import datetime\n",
    "dates = [datetime.date(2015,i,1) for i in range(1,13)]\n",
    "options = [(i.strftime('%b'), i) for i in dates]\n",
    "widgets.SelectionRangeSlider(\n",
    "    options=options,\n",
    "    index=(0,11),\n",
    "    description='Months (2015)',\n",
    "    disabled=False\n",
    ")"
   ]
  },
  {
   "cell_type": "markdown",
   "metadata": {
    "slideshow": {
     "slide_type": "slide"
    }
   },
   "source": [
    "### ToggleButtons"
   ]
  },
  {
   "cell_type": "code",
   "execution_count": 22,
   "metadata": {},
   "outputs": [
    {
     "data": {
      "application/vnd.jupyter.widget-view+json": {
       "model_id": "be533f331b744e2092da3f205d6f9879",
       "version_major": 2,
       "version_minor": 0
      },
      "text/plain": [
       "ToggleButtons(description='Speed:', options=('Slow', 'Regular', 'Fast'), tooltips=('Description of slow', 'Des…"
      ]
     },
     "metadata": {},
     "output_type": "display_data"
    }
   ],
   "source": [
    "widgets.ToggleButtons(\n",
    "    options=['Slow', 'Regular', 'Fast'],\n",
    "    description='Speed:',\n",
    "    disabled=False,\n",
    "    button_style='', # 'success', 'info', 'warning', 'danger' or ''\n",
    "    tooltips=['Description of slow', 'Description of regular', 'Description of fast'],\n",
    "#     icons=['check'] * 3\n",
    ")"
   ]
  },
  {
   "cell_type": "markdown",
   "metadata": {},
   "source": [
    "### SelectMultiple\n",
    "Mehrere Werte können ausgewählt werden bei den gedrückten Tasten <kbd>shift</kbd> und/oder <kbd>ctrl</kbd> (oder <kbd>command</kbd>) und Mausklicks oder Pfeiltasten."
   ]
  },
  {
   "cell_type": "code",
   "execution_count": 23,
   "metadata": {},
   "outputs": [
    {
     "data": {
      "application/vnd.jupyter.widget-view+json": {
       "model_id": "1c19b40f81104aeb83cf1982be8cd277",
       "version_major": 2,
       "version_minor": 0
      },
      "text/plain": [
       "SelectMultiple(description='Fruits', index=(1,), options=('Apples', 'Oranges', 'Pears'), value=('Oranges',))"
      ]
     },
     "metadata": {},
     "output_type": "display_data"
    }
   ],
   "source": [
    "widgets.SelectMultiple(\n",
    "    options=['Apples', 'Oranges', 'Pears'],\n",
    "    value=['Oranges'],\n",
    "    #rows=10,\n",
    "    description='Fruits',\n",
    "    disabled=False\n",
    ")"
   ]
  },
  {
   "cell_type": "markdown",
   "metadata": {
    "slideshow": {
     "slide_type": "slide"
    }
   },
   "source": [
    "## String-Widgets"
   ]
  },
  {
   "cell_type": "markdown",
   "metadata": {},
   "source": [
    "Es gibt mehrere Widgets, die zum Anzeigen von Strings verwendet werden können. Die Widgets `Text` und `Textarea` akzeptieren Eingaben; die Widgets `HTML` und `HTMLMath` zeigen einen String als HTML an (`HTMLMath` rendert auch mathematische Formeln)."
   ]
  },
  {
   "cell_type": "markdown",
   "metadata": {
    "slideshow": {
     "slide_type": "slide"
    }
   },
   "source": [
    "### Text"
   ]
  },
  {
   "cell_type": "code",
   "execution_count": 24,
   "metadata": {},
   "outputs": [
    {
     "data": {
      "application/vnd.jupyter.widget-view+json": {
       "model_id": "87149998e08c48478f2a83427d8cdb5e",
       "version_major": 2,
       "version_minor": 0
      },
      "text/plain": [
       "Text(value='Hello World', description='String:', placeholder='Type something')"
      ]
     },
     "metadata": {},
     "output_type": "display_data"
    }
   ],
   "source": [
    "widgets.Text(\n",
    "    value='Hello World',\n",
    "    placeholder='Type something',\n",
    "    description='String:',\n",
    "    disabled=False   \n",
    ")"
   ]
  },
  {
   "cell_type": "markdown",
   "metadata": {},
   "source": [
    "### Textarea"
   ]
  },
  {
   "cell_type": "code",
   "execution_count": 25,
   "metadata": {},
   "outputs": [
    {
     "data": {
      "application/vnd.jupyter.widget-view+json": {
       "model_id": "40a59dd46b0c4d32ba9185942a0914c9",
       "version_major": 2,
       "version_minor": 0
      },
      "text/plain": [
       "Textarea(value='Hello World', description='String:', placeholder='Type something')"
      ]
     },
     "metadata": {},
     "output_type": "display_data"
    }
   ],
   "source": [
    "widgets.Textarea(\n",
    "    value='Hello World',\n",
    "    placeholder='Type something',\n",
    "    description='String:',\n",
    "    disabled=False\n",
    ")"
   ]
  },
  {
   "cell_type": "markdown",
   "metadata": {
    "slideshow": {
     "slide_type": "slide"
    }
   },
   "source": [
    "### Label\n",
    "\n",
    "Das `Label`-Widget ist nützlich für benutzerdefinierte Beschreibungen, die einen ähnlichen Stil wie die integrierten Beschreibungen haben."
   ]
  },
  {
   "cell_type": "code",
   "execution_count": 26,
   "metadata": {},
   "outputs": [
    {
     "data": {
      "application/vnd.jupyter.widget-view+json": {
       "model_id": "08b3b176d0e7440389cb1a82d9c1ba94",
       "version_major": 2,
       "version_minor": 0
      },
      "text/plain": [
       "HBox(children=(Label(value='The $m$ in $E=mc^2$:'), FloatSlider(value=0.0)))"
      ]
     },
     "metadata": {},
     "output_type": "display_data"
    }
   ],
   "source": [
    "widgets.HBox([widgets.Label(value=\"The $m$ in $E=mc^2$:\"), widgets.FloatSlider()])"
   ]
  },
  {
   "cell_type": "markdown",
   "metadata": {},
   "source": [
    "### HTML"
   ]
  },
  {
   "cell_type": "code",
   "execution_count": 27,
   "metadata": {},
   "outputs": [
    {
     "data": {
      "application/vnd.jupyter.widget-view+json": {
       "model_id": "992c5bc5f17c4629ad9ffa7ce5ee64f0",
       "version_major": 2,
       "version_minor": 0
      },
      "text/plain": [
       "HTML(value='Hello <b>World</b>', description='Some HTML', placeholder='Some HTML')"
      ]
     },
     "metadata": {},
     "output_type": "display_data"
    }
   ],
   "source": [
    "widgets.HTML(\n",
    "    value=\"Hello <b>World</b>\",\n",
    "    placeholder='Some HTML',\n",
    "    description='Some HTML',\n",
    ")"
   ]
  },
  {
   "cell_type": "markdown",
   "metadata": {},
   "source": [
    "### HTML Math"
   ]
  },
  {
   "cell_type": "code",
   "execution_count": 28,
   "metadata": {},
   "outputs": [
    {
     "data": {
      "application/vnd.jupyter.widget-view+json": {
       "model_id": "185ab061923143e1b58188037fec0ecb",
       "version_major": 2,
       "version_minor": 0
      },
      "text/plain": [
       "HTMLMath(value='Some math and <i>HTML</i>: \\\\(x^2\\\\) and $$\\\\frac{x+1}{x-1}$$', description='Some HTML', place…"
      ]
     },
     "metadata": {},
     "output_type": "display_data"
    }
   ],
   "source": [
    "widgets.HTMLMath(\n",
    "    value=r\"Some math and <i>HTML</i>: \\(x^2\\) and $$\\frac{x+1}{x-1}$$\",\n",
    "    placeholder='Some HTML',\n",
    "    description='Some HTML',\n",
    ")"
   ]
  },
  {
   "cell_type": "markdown",
   "metadata": {},
   "source": [
    "## Image"
   ]
  },
  {
   "cell_type": "code",
   "execution_count": 29,
   "metadata": {
    "scrolled": true
   },
   "outputs": [
    {
     "data": {
      "application/vnd.jupyter.widget-view+json": {
       "model_id": "4363630bd39540e7bb20aee2c0b6cfcb",
       "version_major": 2,
       "version_minor": 0
      },
      "text/plain": [
       "Image(value=b'GIF89a\\x1e\\x01\\x1e\\x01\\xc4\\x1f\\x00c\\x8d\\xff\\xea\\xea\\xea\\xc7\\xc7\\xc7\\x00\\x00\\x00\\xa0H\\x00\\xa6\\xa6…"
      ]
     },
     "metadata": {},
     "output_type": "display_data"
    }
   ],
   "source": [
    "file = open(\"smiley.gif\", \"rb\")\n",
    "image = file.read()\n",
    "widgets.Image(\n",
    "    value=image,\n",
    "    format='gif',\n",
    "    width=128,\n",
    "    height=128,\n",
    ")"
   ]
  },
  {
   "cell_type": "markdown",
   "metadata": {
    "slideshow": {
     "slide_type": "slide"
    }
   },
   "source": [
    "## Button"
   ]
  },
  {
   "cell_type": "code",
   "execution_count": 30,
   "metadata": {},
   "outputs": [
    {
     "data": {
      "application/vnd.jupyter.widget-view+json": {
       "model_id": "245a9074ee9140a9b383937f1179c12e",
       "version_major": 2,
       "version_minor": 0
      },
      "text/plain": [
       "Button(description='Click me', icon='check', style=ButtonStyle(), tooltip='Click me')"
      ]
     },
     "metadata": {},
     "output_type": "display_data"
    }
   ],
   "source": [
    "widgets.Button(\n",
    "    description='Click me',\n",
    "    disabled=False,\n",
    "    button_style='', # 'success', 'info', 'warning', 'danger' or ''\n",
    "    tooltip='Click me',\n",
    "    icon='check'\n",
    ")"
   ]
  },
  {
   "cell_type": "markdown",
   "metadata": {},
   "source": [
    "## Output\n",
    "\n",
    "Das `Output`-Widget kann `stdout`, `stderr` und [IPython.display](https://ipython.readthedocs.io/en/stable/api/generated/IPython.display.html#module-IPython.display) erfassen und anzeigen. \n",
    "\n",
    "Ihr könnt die Ausgabe sowohl an ein Output-Widget anhängen oder programmatisch löschen."
   ]
  },
  {
   "cell_type": "code",
   "execution_count": 31,
   "metadata": {},
   "outputs": [],
   "source": [
    "out = widgets.Output(layout={'border': '1px solid black'})"
   ]
  },
  {
   "cell_type": "code",
   "execution_count": 32,
   "metadata": {},
   "outputs": [],
   "source": [
    "with out:\n",
    "    for i in range(5):\n",
    "        print(i, 'Hello world!')"
   ]
  },
  {
   "cell_type": "code",
   "execution_count": null,
   "metadata": {
    "scrolled": true
   },
   "outputs": [],
   "source": []
  },
  {
   "cell_type": "code",
   "execution_count": 33,
   "metadata": {},
   "outputs": [],
   "source": [
    "from IPython.display import YouTubeVideo\n",
    "with out:\n",
    "    display(YouTubeVideo('eWzY2nGfkXk'))"
   ]
  },
  {
   "cell_type": "code",
   "execution_count": 34,
   "metadata": {},
   "outputs": [
    {
     "data": {
      "application/vnd.jupyter.widget-view+json": {
       "model_id": "43424b366aad444ea52136ed08920961",
       "version_major": 2,
       "version_minor": 0
      },
      "text/plain": [
       "Output(layout=Layout(border='1px solid black'))"
      ]
     },
     "metadata": {},
     "output_type": "display_data"
    }
   ],
   "source": [
    "out"
   ]
  },
  {
   "cell_type": "code",
   "execution_count": 35,
   "metadata": {},
   "outputs": [],
   "source": [
    "out.clear_output()"
   ]
  },
  {
   "cell_type": "markdown",
   "metadata": {},
   "source": [
    "Wir können Ausgaben auch direkt anhängen mit den Methoden `append_stdout`, `append_stderr` oder `append_display_data`."
   ]
  },
  {
   "cell_type": "code",
   "execution_count": 36,
   "metadata": {},
   "outputs": [
    {
     "data": {
      "application/vnd.jupyter.widget-view+json": {
       "model_id": "8c592b3388bc4f2e977b8b6a0a63f95b",
       "version_major": 2,
       "version_minor": 0
      },
      "text/plain": [
       "Output(layout=Layout(border='1px solid black'), outputs=({'output_type': 'stream', 'name': 'stdout', 'text': '…"
      ]
     },
     "metadata": {},
     "output_type": "display_data"
    }
   ],
   "source": [
    "out = widgets.Output(layout={'border': '1px solid black'})\n",
    "out.append_stdout('Output appended with append_stdout')\n",
    "out.append_display_data(YouTubeVideo('eWzY2nGfkXk'))\n",
    "out"
   ]
  },
  {
   "cell_type": "markdown",
   "metadata": {},
   "source": [
    "Eine ausführliche Dokumentation findet ihr in [Output widgets](https://ipywidgets.readthedocs.io/en/stable/examples/Output%20Widget.html)."
   ]
  },
  {
   "cell_type": "markdown",
   "metadata": {},
   "source": [
    "## Play/Animation-Widget"
   ]
  },
  {
   "cell_type": "markdown",
   "metadata": {},
   "source": [
    "Das `Play`-Widget ist nützlich, um Animationen auszuführen, die in einer bestimmten Geschwindigkeit durchlaufen werden sollen. Im folgenden Beispiel ist ein Slider mit dem Player verknüpft."
   ]
  },
  {
   "cell_type": "code",
   "execution_count": 37,
   "metadata": {},
   "outputs": [
    {
     "data": {
      "application/vnd.jupyter.widget-view+json": {
       "model_id": "db737c5e91f14dc88af54dccb0c49ff2",
       "version_major": 2,
       "version_minor": 0
      },
      "text/plain": [
       "HBox(children=(Play(value=50, description='Press play'), IntSlider(value=0)))"
      ]
     },
     "metadata": {},
     "output_type": "display_data"
    }
   ],
   "source": [
    "play = widgets.Play(\n",
    "#     interval=10,\n",
    "    value=50,\n",
    "    min=0,\n",
    "    max=100,\n",
    "    step=1,\n",
    "    description=\"Press play\",\n",
    "    disabled=False\n",
    ")\n",
    "slider = widgets.IntSlider()\n",
    "widgets.jslink((play, 'value'), (slider, 'value'))\n",
    "widgets.HBox([play, slider])"
   ]
  },
  {
   "cell_type": "markdown",
   "metadata": {},
   "source": [
    "## DatePicker\n",
    "\n",
    "Das Datumsauswahl-Widget funktioniert in Chrome, Firefox und IE Edge, derzeit jedoch nicht in Safari, da dieser `input type=\"date\"` nicht unterstützt."
   ]
  },
  {
   "cell_type": "code",
   "execution_count": 38,
   "metadata": {},
   "outputs": [
    {
     "data": {
      "application/vnd.jupyter.widget-view+json": {
       "model_id": "392ade698d474fcfb82a22efbccd77cc",
       "version_major": 2,
       "version_minor": 0
      },
      "text/plain": [
       "DatePicker(value=None, description='Pick a Date')"
      ]
     },
     "metadata": {},
     "output_type": "display_data"
    }
   ],
   "source": [
    "widgets.DatePicker(\n",
    "    description='Pick a Date',\n",
    "    disabled=False\n",
    ")"
   ]
  },
  {
   "cell_type": "markdown",
   "metadata": {},
   "source": [
    "## Color picker"
   ]
  },
  {
   "cell_type": "code",
   "execution_count": 39,
   "metadata": {},
   "outputs": [
    {
     "data": {
      "application/vnd.jupyter.widget-view+json": {
       "model_id": "e60e2e7b9f604dc8b242e7a96179e78d",
       "version_major": 2,
       "version_minor": 0
      },
      "text/plain": [
       "ColorPicker(value='blue', description='Pick a color')"
      ]
     },
     "metadata": {},
     "output_type": "display_data"
    }
   ],
   "source": [
    "widgets.ColorPicker(\n",
    "    concise=False,\n",
    "    description='Pick a color',\n",
    "    value='blue',\n",
    "    disabled=False\n",
    ")"
   ]
  },
  {
   "cell_type": "markdown",
   "metadata": {},
   "source": [
    "## Controller\n",
    "\n",
    "`Controller` ermöglicht die Verwendung eines Game-Controller als Eingabegerät."
   ]
  },
  {
   "cell_type": "code",
   "execution_count": 40,
   "metadata": {},
   "outputs": [
    {
     "data": {
      "application/vnd.jupyter.widget-view+json": {
       "model_id": "9d1434f3897040ef93dc66da0a923f6c",
       "version_major": 2,
       "version_minor": 0
      },
      "text/plain": [
       "Controller()"
      ]
     },
     "metadata": {},
     "output_type": "display_data"
    }
   ],
   "source": [
    "widgets.Controller(\n",
    "    index=0,\n",
    ")"
   ]
  },
  {
   "cell_type": "markdown",
   "metadata": {},
   "source": [
    "## Container/Layout-Widgets\n",
    "\n",
    "Diese Widgets werden zum Speichern anderer Widgets verwendet, die als `children` bezeichnet werden."
   ]
  },
  {
   "cell_type": "markdown",
   "metadata": {},
   "source": [
    "### Box"
   ]
  },
  {
   "cell_type": "code",
   "execution_count": 41,
   "metadata": {},
   "outputs": [
    {
     "data": {
      "application/vnd.jupyter.widget-view+json": {
       "model_id": "203c347cee804daeb7ada0792a504476",
       "version_major": 2,
       "version_minor": 0
      },
      "text/plain": [
       "Box(children=(Label(value='0'), Label(value='1'), Label(value='2'), Label(value='3')))"
      ]
     },
     "metadata": {},
     "output_type": "display_data"
    }
   ],
   "source": [
    "items = [widgets.Label(str(i)) for i in range(4)]\n",
    "widgets.Box(items)"
   ]
  },
  {
   "cell_type": "markdown",
   "metadata": {},
   "source": [
    "### HBox"
   ]
  },
  {
   "cell_type": "code",
   "execution_count": 42,
   "metadata": {},
   "outputs": [
    {
     "data": {
      "application/vnd.jupyter.widget-view+json": {
       "model_id": "d9ea1dd6dbf64e6b84361391642ca2f2",
       "version_major": 2,
       "version_minor": 0
      },
      "text/plain": [
       "HBox(children=(Label(value='0'), Label(value='1'), Label(value='2'), Label(value='3')))"
      ]
     },
     "metadata": {},
     "output_type": "display_data"
    }
   ],
   "source": [
    "items = [widgets.Label(str(i)) for i in range(4)]\n",
    "widgets.HBox(items)"
   ]
  },
  {
   "cell_type": "markdown",
   "metadata": {},
   "source": [
    "### VBox"
   ]
  },
  {
   "cell_type": "code",
   "execution_count": 43,
   "metadata": {},
   "outputs": [
    {
     "data": {
      "application/vnd.jupyter.widget-view+json": {
       "model_id": "d3719ec0c0084002a0bb745e47aeb4be",
       "version_major": 2,
       "version_minor": 0
      },
      "text/plain": [
       "HBox(children=(VBox(children=(Label(value='0'), Label(value='1'))), VBox(children=(Label(value='2'), Label(val…"
      ]
     },
     "metadata": {},
     "output_type": "display_data"
    }
   ],
   "source": [
    "items = [widgets.Label(str(i)) for i in range(4)]\n",
    "left_box = widgets.VBox([items[0], items[1]])\n",
    "right_box = widgets.VBox([items[2], items[3]])\n",
    "widgets.HBox([left_box, right_box])"
   ]
  },
  {
   "cell_type": "markdown",
   "metadata": {},
   "source": [
    "### Accordion"
   ]
  },
  {
   "cell_type": "code",
   "execution_count": 44,
   "metadata": {},
   "outputs": [
    {
     "data": {
      "application/vnd.jupyter.widget-view+json": {
       "model_id": "0dcf7529abce4b75b2a2fce3f34f7817",
       "version_major": 2,
       "version_minor": 0
      },
      "text/plain": [
       "Accordion(children=(IntSlider(value=0), Text(value='')), _titles={'0': 'Slider', '1': 'Text'})"
      ]
     },
     "metadata": {},
     "output_type": "display_data"
    }
   ],
   "source": [
    "accordion = widgets.Accordion(children=[widgets.IntSlider(), widgets.Text()])\n",
    "accordion.set_title(0, 'Slider')\n",
    "accordion.set_title(1, 'Text')\n",
    "accordion"
   ]
  },
  {
   "cell_type": "markdown",
   "metadata": {},
   "source": [
    "### Tabs\n",
    "\n",
    "In this example the children are set after the tab is created. Titles for the tabes are set in the same way they are for `Accordion`."
   ]
  },
  {
   "cell_type": "code",
   "execution_count": 45,
   "metadata": {},
   "outputs": [
    {
     "data": {
      "application/vnd.jupyter.widget-view+json": {
       "model_id": "1e7cefc3e618459a99cdf9ffa435783f",
       "version_major": 2,
       "version_minor": 0
      },
      "text/plain": [
       "Tab(children=(Text(value='', description='P0'), Text(value='', description='P1'), Text(value='', description='…"
      ]
     },
     "metadata": {},
     "output_type": "display_data"
    }
   ],
   "source": [
    "tab_contents = ['P0', 'P1', 'P2', 'P3', 'P4']\n",
    "children = [widgets.Text(description=name) for name in tab_contents]\n",
    "tab = widgets.Tab()\n",
    "tab.children = children\n",
    "for i in range(len(children)):\n",
    "    tab.set_title(i, str(i))\n",
    "tab"
   ]
  },
  {
   "cell_type": "markdown",
   "metadata": {},
   "source": [
    "### `Accordion` und `Tab`\n",
    "\n",
    "Im Gegensatz zu den anderen Widgets, die zuvor beschrieben wurden, aktualisieren die Container-Widgets `Accordion` und `Tab` ihr Attribut `selected_index`, wenn der Benutzer das Akkordeon oder den Tab ändert; neben der Nutzereingabe kann der `selected_index`  auch programmatisch festgelegt werden.\n",
    "\n",
    "Wenn `selected_index = None` gewählt wird, werden alle Akkordeons geschlossen oder die Auswahl aller Tabs aufgehoben."
   ]
  },
  {
   "cell_type": "markdown",
   "metadata": {},
   "source": [
    "In den folgenden *Notebook Cells* wird der Wert von `selected_index\" des Tab und/oder Akkordeon angezeigt."
   ]
  },
  {
   "cell_type": "code",
   "execution_count": 46,
   "metadata": {},
   "outputs": [],
   "source": [
    "tab.selected_index = 3"
   ]
  },
  {
   "cell_type": "code",
   "execution_count": 47,
   "metadata": {},
   "outputs": [],
   "source": [
    "accordion.selected_index = None"
   ]
  },
  {
   "cell_type": "markdown",
   "metadata": {},
   "source": [
    "### Verschachtelung von Tabs und Akkordeons\n",
    "\n",
    "Tabs und Akkordeons können so tief verschachtelt werden, wie ihr möchtet. Das folgende Beispiel zeigt einige Tabs mit einem Akkordeon als `children`."
   ]
  },
  {
   "cell_type": "code",
   "execution_count": 48,
   "metadata": {},
   "outputs": [
    {
     "data": {
      "application/vnd.jupyter.widget-view+json": {
       "model_id": "5eec1aacb2dd4535a388681ec1093f37",
       "version_major": 2,
       "version_minor": 0
      },
      "text/plain": [
       "Tab(children=(Accordion(children=(IntSlider(value=0), Text(value='')), selected_index=None, _titles={'0': 'Sli…"
      ]
     },
     "metadata": {},
     "output_type": "display_data"
    }
   ],
   "source": [
    "tab_nest = widgets.Tab()\n",
    "tab_nest.children = [accordion, accordion]\n",
    "tab_nest.set_title(0, 'An accordion')\n",
    "tab_nest.set_title(1, 'Copy of the accordion')\n",
    "tab_nest"
   ]
  }
 ],
 "metadata": {
  "kernelspec": {
   "display_name": "Python 3.7.4",
   "language": "python",
   "name": "python3"
  },
  "language_info": {
   "codemirror_mode": {
    "name": "ipython",
    "version": 3
   },
   "file_extension": ".py",
   "mimetype": "text/x-python",
   "name": "python",
   "nbconvert_exporter": "python",
   "pygments_lexer": "ipython3",
   "version": "3.7.4"
  },
  "latex_envs": {
   "LaTeX_envs_menu_present": true,
   "autoclose": false,
   "autocomplete": true,
   "bibliofile": "biblio.bib",
   "cite_by": "apalike",
   "current_citInitial": 1,
   "eqLabelWithNumbers": true,
   "eqNumInitial": 1,
   "hotkeys": {
    "equation": "Ctrl-E",
    "itemize": "Ctrl-I"
   },
   "labels_anchors": false,
   "latex_user_defs": false,
   "report_style_numbering": false,
   "user_envs_cfg": false
  },
  "varInspector": {
   "cols": {
    "lenName": 16,
    "lenType": 16,
    "lenVar": 40
   },
   "kernels_config": {
    "python": {
     "delete_cmd_postfix": "",
     "delete_cmd_prefix": "del ",
     "library": "var_list.py",
     "varRefreshCmd": "print(var_dic_list())"
    },
    "r": {
     "delete_cmd_postfix": ") ",
     "delete_cmd_prefix": "rm(",
     "library": "var_list.r",
     "varRefreshCmd": "cat(var_dic_list()) "
    }
   },
   "types_to_exclude": [
    "module",
    "function",
    "builtin_function_or_method",
    "instance",
    "_Feature"
   ],
   "window_display": false
  },
  "widgets": {
   "application/vnd.jupyter.widget-state+json": {
    "state": {
     "00a2a225ab24407ab131429e07e461f1": {
      "model_module": "@jupyter-widgets/controls",
      "model_module_version": "1.5.0",
      "model_name": "LabelModel",
      "state": {
       "layout": "IPY_MODEL_c8bb322d5f7846b9bf52a31ee865a421",
       "style": "IPY_MODEL_97984c60db55452fa77e975ec190ced3",
       "value": "3"
      }
     },
     "00b407d924be4b3d8caf84605caf278d": {
      "model_module": "@jupyter-widgets/base",
      "model_module_version": "1.2.0",
      "model_name": "LayoutModel",
      "state": {}
     },
     "00c0e514228446bd88f40d2460932331": {
      "model_module": "@jupyter-widgets/controls",
      "model_module_version": "1.5.0",
      "model_name": "ButtonModel",
      "state": {
       "description": "Click me",
       "icon": "check",
       "layout": "IPY_MODEL_55904d19a1d149f6a6d41c973b8ed28b",
       "style": "IPY_MODEL_8165cef524794487a2490a73ac920e64",
       "tooltip": "Click me"
      }
     },
     "010cc28806d0474b8a0605e060747827": {
      "model_module": "@jupyter-widgets/controls",
      "model_module_version": "1.5.0",
      "model_name": "IntRangeSliderModel",
      "state": {
       "_model_name": "IntRangeSliderModel",
       "_view_name": "IntRangeSliderView",
       "continuous_update": false,
       "description": "Test:",
       "layout": "IPY_MODEL_dfefefe32f2c4c13a94b14768b79adaa",
       "max": 10,
       "style": "IPY_MODEL_b8d34acac38f4753b5f6a961bcace13b",
       "value": [
        5,
        7
       ]
      }
     },
     "01209ec3fcb64f39beb9a2fc63d37d7d": {
      "model_module": "@jupyter-widgets/controls",
      "model_module_version": "1.5.0",
      "model_name": "IntSliderModel",
      "state": {
       "layout": "IPY_MODEL_908903d126434ef0b0e772156f7d31cd",
       "style": "IPY_MODEL_57a064f5bf724e758e5b04e7e277e799",
       "value": 50
      }
     },
     "012e465a2e3e4103b1a196017261304a": {
      "model_module": "@jupyter-widgets/base",
      "model_module_version": "1.2.0",
      "model_name": "LayoutModel",
      "state": {}
     },
     "0164c1db3bc14e14a831fb5fa33502d4": {
      "model_module": "@jupyter-widgets/base",
      "model_module_version": "1.2.0",
      "model_name": "LayoutModel",
      "state": {}
     },
     "0180b717e38d4040aa7955e37d29c252": {
      "model_module": "@jupyter-widgets/controls",
      "model_module_version": "1.5.0",
      "model_name": "DescriptionStyleModel",
      "state": {
       "description_width": ""
      }
     },
     "02760b3333034c0eaf1f65de063f77a9": {
      "model_module": "@jupyter-widgets/controls",
      "model_module_version": "1.5.0",
      "model_name": "DescriptionStyleModel",
      "state": {
       "description_width": ""
      }
     },
     "02bf9c9559d84beaa4a98cbaff30919f": {
      "model_module": "@jupyter-widgets/base",
      "model_module_version": "1.2.0",
      "model_name": "LayoutModel",
      "state": {}
     },
     "03873a931cc14af0bb4044193bcc299f": {
      "model_module": "@jupyter-widgets/controls",
      "model_module_version": "1.5.0",
      "model_name": "DescriptionStyleModel",
      "state": {
       "description_width": ""
      }
     },
     "038d03f9eb32434fba0c45fdedea6f2f": {
      "model_module": "@jupyter-widgets/base",
      "model_module_version": "1.2.0",
      "model_name": "LayoutModel",
      "state": {}
     },
     "04062bdf7b474ab99f738ffc22f7dd5e": {
      "model_module": "@jupyter-widgets/controls",
      "model_module_version": "1.5.0",
      "model_name": "FloatSliderModel",
      "state": {
       "continuous_update": false,
       "description": "Test:",
       "layout": "IPY_MODEL_5419d4e9133e43feb3023fc15fb4157c",
       "max": 10,
       "orientation": "vertical",
       "readout_format": ".1f",
       "step": 0.1,
       "style": "IPY_MODEL_fa0479dfa5294f8d94d927aa270c07b7",
       "value": 7.5
      }
     },
     "04b03f832fba462eac4cf92de00e2a22": {
      "model_module": "@jupyter-widgets/controls",
      "model_module_version": "1.5.0",
      "model_name": "SliderStyleModel",
      "state": {
       "description_width": ""
      }
     },
     "04cdb1ba17794522a346a152b2e4ba56": {
      "model_module": "@jupyter-widgets/base",
      "model_module_version": "1.2.0",
      "model_name": "LayoutModel",
      "state": {}
     },
     "06bbd57ab9744d9db23ca392470c2d58": {
      "model_module": "@jupyter-widgets/base",
      "model_module_version": "1.2.0",
      "model_name": "LayoutModel",
      "state": {}
     },
     "0723aa09e91d41659991dc25c91407cb": {
      "model_module": "@jupyter-widgets/base",
      "model_module_version": "1.2.0",
      "model_name": "LayoutModel",
      "state": {}
     },
     "0755f415a2d642ca8abadb8133e75db6": {
      "model_module": "@jupyter-widgets/base",
      "model_module_version": "1.2.0",
      "model_name": "LayoutModel",
      "state": {}
     },
     "07962ae2a54b498d97be185df0a91eea": {
      "model_module": "@jupyter-widgets/controls",
      "model_module_version": "1.5.0",
      "model_name": "DescriptionStyleModel",
      "state": {
       "description_width": ""
      }
     },
     "07d7cb73bb7b4d0dba486c656c91ec78": {
      "model_module": "@jupyter-widgets/base",
      "model_module_version": "1.2.0",
      "model_name": "LayoutModel",
      "state": {}
     },
     "08038d2c0bbf4b05be11e07971649c7a": {
      "model_module": "@jupyter-widgets/controls",
      "model_module_version": "1.5.0",
      "model_name": "SliderStyleModel",
      "state": {
       "description_width": ""
      }
     },
     "08753f463654451c9c4be8bf1dddd8b0": {
      "model_module": "@jupyter-widgets/controls",
      "model_module_version": "1.5.0",
      "model_name": "ControllerModel",
      "state": {
       "layout": "IPY_MODEL_4c4bc1e53b284d6ea5d2b38fa579ebaa"
      }
     },
     "088cc24009094ec28d7238552eda44c8": {
      "model_module": "@jupyter-widgets/base",
      "model_module_version": "1.2.0",
      "model_name": "LayoutModel",
      "state": {}
     },
     "08b3b176d0e7440389cb1a82d9c1ba94": {
      "model_module": "@jupyter-widgets/controls",
      "model_module_version": "1.5.0",
      "model_name": "HBoxModel",
      "state": {
       "children": [
        "IPY_MODEL_98000a12a1aa4213860b1b2469d46bd5",
        "IPY_MODEL_5c3ccf49d5614628929c6890be197c60"
       ],
       "layout": "IPY_MODEL_7673e110a7ec4dd6b56af01d3a50ba12"
      }
     },
     "0935b6d2628e414d9abc9b646521c759": {
      "model_module": "@jupyter-widgets/base",
      "model_module_version": "1.2.0",
      "model_name": "LayoutModel",
      "state": {}
     },
     "09419070fa9d47bdbc1c4bb14f8b7f62": {
      "model_module": "@jupyter-widgets/controls",
      "model_module_version": "1.5.0",
      "model_name": "DescriptionStyleModel",
      "state": {
       "description_width": ""
      }
     },
     "098db764767c4369abaed3266cc5077b": {
      "model_module": "@jupyter-widgets/base",
      "model_module_version": "1.2.0",
      "model_name": "LayoutModel",
      "state": {}
     },
     "0a18d3f3d1004181b2e6cc853161b7bc": {
      "model_module": "@jupyter-widgets/controls",
      "model_module_version": "1.5.0",
      "model_name": "RadioButtonsModel",
      "state": {
       "_options_labels": [
        "pepperoni",
        "pineapple",
        "anchovies"
       ],
       "description": "Pizza topping:",
       "index": 0,
       "layout": "IPY_MODEL_32c34f77042b4b34ba697a8536650478",
       "style": "IPY_MODEL_71071844670041cbb013b1a6454bd659"
      }
     },
     "0afda8c4b1574156893e3619cc325384": {
      "model_module": "@jupyter-widgets/controls",
      "model_module_version": "1.5.0",
      "model_name": "SliderStyleModel",
      "state": {
       "description_width": ""
      }
     },
     "0bd8dfafba0d4f7c94ba172ce49545f7": {
      "model_module": "@jupyter-widgets/controls",
      "model_module_version": "1.5.0",
      "model_name": "SliderStyleModel",
      "state": {
       "description_width": ""
      }
     },
     "0c5ab31b2c8145e7b7fee5e64ce505fd": {
      "model_module": "@jupyter-widgets/base",
      "model_module_version": "1.2.0",
      "model_name": "LayoutModel",
      "state": {}
     },
     "0d54cfd206f242759d7b195edd43a1f8": {
      "model_module": "@jupyter-widgets/controls",
      "model_module_version": "1.5.0",
      "model_name": "HTMLModel",
      "state": {
       "description": "Some HTML",
       "layout": "IPY_MODEL_6b7b27c1edd6448e9afbe1ed508a9c24",
       "placeholder": "Some HTML",
       "style": "IPY_MODEL_aeb5c3f668434382ae291f8c92eee291",
       "value": "Hello <b>World</b>"
      }
     },
     "0da2f37c70914c8fb4c0372268e7a757": {
      "model_module": "@jupyter-widgets/controls",
      "model_module_version": "1.5.0",
      "model_name": "DescriptionStyleModel",
      "state": {
       "description_width": ""
      }
     },
     "0dcf7529abce4b75b2a2fce3f34f7817": {
      "model_module": "@jupyter-widgets/controls",
      "model_module_version": "1.5.0",
      "model_name": "AccordionModel",
      "state": {
       "_titles": {
        "0": "Slider",
        "1": "Text"
       },
       "children": [
        "IPY_MODEL_841bbfeb63ef4d68be3f0533a52bc572",
        "IPY_MODEL_e33dad72a9ec485fa6650b3cb8e715ae"
       ],
       "layout": "IPY_MODEL_ff251a4634074fc885bf747408e19c81",
       "selected_index": null
      }
     },
     "0e398dde6e6b45abb656e5c4e737aae9": {
      "model_module": "@jupyter-widgets/controls",
      "model_module_version": "1.5.0",
      "model_name": "FloatSliderModel",
      "state": {
       "continuous_update": false,
       "description": "Test:",
       "layout": "IPY_MODEL_d96e41b68c89477b83db8d61992a26f2",
       "max": 10,
       "readout_format": ".1f",
       "step": 0.1,
       "style": "IPY_MODEL_d451d3ad4abb49409a681c71a30c76c7",
       "value": 7.5
      }
     },
     "0e45d24ce48347f68dbb6912fb2bba4f": {
      "model_module": "@jupyter-widgets/controls",
      "model_module_version": "1.5.0",
      "model_name": "LabelModel",
      "state": {
       "layout": "IPY_MODEL_97074dc656104f65a8a4bb1264f90156",
       "style": "IPY_MODEL_0fa83812e0d6412d829c45095a304eea",
       "value": "The $m$ in $E=mc^2$:"
      }
     },
     "0edf7b828fb64c2b8f79d2c4a4d46cf6": {
      "model_module": "@jupyter-widgets/base",
      "model_module_version": "1.2.0",
      "model_name": "LayoutModel",
      "state": {}
     },
     "0ee6f281c5ee49b6be83c967035f7e24": {
      "model_module": "@jupyter-widgets/controls",
      "model_module_version": "1.5.0",
      "model_name": "BoxModel",
      "state": {
       "children": [
        "IPY_MODEL_4de031698a46489ea9b0d06dc6d56b88",
        "IPY_MODEL_67c21cea3e384446bca8f9ce73e6dc62",
        "IPY_MODEL_9b08dbb3cf3c482ab709e00e035abfb5",
        "IPY_MODEL_3539cfb7042f48509841d15e1c30fefd"
       ],
       "layout": "IPY_MODEL_9d8e4617067746e9a3c715fca1e7dea6"
      }
     },
     "0eff6e7dc8ed4ba9bf1e33cccf2f8a9d": {
      "model_module": "@jupyter-widgets/controls",
      "model_module_version": "1.5.0",
      "model_name": "DescriptionStyleModel",
      "state": {
       "description_width": ""
      }
     },
     "0fa83812e0d6412d829c45095a304eea": {
      "model_module": "@jupyter-widgets/controls",
      "model_module_version": "1.5.0",
      "model_name": "DescriptionStyleModel",
      "state": {
       "description_width": ""
      }
     },
     "0fb25db8b20e419fb9391ed01180670a": {
      "model_module": "@jupyter-widgets/controls",
      "model_module_version": "1.5.0",
      "model_name": "TextModel",
      "state": {
       "description": "P2",
       "layout": "IPY_MODEL_28df4a87bc7a44fa82df17c52c978e7e",
       "style": "IPY_MODEL_3db12febc66a4613ba5737d3a83429ae"
      }
     },
     "100992258d5b4c858b3ddfeb0c2219f4": {
      "model_module": "@jupyter-widgets/controls",
      "model_module_version": "1.5.0",
      "model_name": "DescriptionStyleModel",
      "state": {
       "description_width": ""
      }
     },
     "105d57bfb7a04f5c881aa29be7562a56": {
      "model_module": "@jupyter-widgets/base",
      "model_module_version": "1.2.0",
      "model_name": "LayoutModel",
      "state": {}
     },
     "1145d60b5a3a4ddd8d710deb409f2430": {
      "model_module": "@jupyter-widgets/controls",
      "model_module_version": "1.5.0",
      "model_name": "TabModel",
      "state": {
       "_titles": {
        "0": "0",
        "1": "1",
        "2": "2",
        "3": "3",
        "4": "4"
       },
       "children": [
        "IPY_MODEL_736254731cc448f79523b477542ea5b3",
        "IPY_MODEL_a89791c42c5f460b91417b12f2ac9b89",
        "IPY_MODEL_0fb25db8b20e419fb9391ed01180670a",
        "IPY_MODEL_c46e37c25c324527afdef32c2e38d668",
        "IPY_MODEL_c310a5b2dc4b45f2bbb74f2ce25eadf1"
       ],
       "layout": "IPY_MODEL_75ea312a507f4688b8ae36d4a821baec",
       "selected_index": 3
      }
     },
     "11731741e8a747d6985fd095bbd334eb": {
      "model_module": "@jupyter-widgets/base",
      "model_module_version": "1.2.0",
      "model_name": "LayoutModel",
      "state": {}
     },
     "11878d55ba3640c5a6dabe79b1c8b81c": {
      "model_module": "@jupyter-widgets/base",
      "model_module_version": "1.2.0",
      "model_name": "LayoutModel",
      "state": {}
     },
     "118e1569ccbf481aa7cb4738affbeaea": {
      "model_module": "@jupyter-widgets/controls",
      "model_module_version": "1.5.0",
      "model_name": "SelectionRangeSliderModel",
      "state": {
       "_model_name": "SelectionRangeSliderModel",
       "_options_labels": [
        "Jan",
        "Feb",
        "Mar",
        "Apr",
        "May",
        "Jun",
        "Jul",
        "Aug",
        "Sep",
        "Oct",
        "Nov",
        "Dec"
       ],
       "_view_name": "SelectionRangeSliderView",
       "description": "Months (2015)",
       "index": [
        0,
        11
       ],
       "layout": "IPY_MODEL_e9573092a3b148ea9de0b297917c4826",
       "style": "IPY_MODEL_aa2028feca5045a2a9497a3f56abf933"
      }
     },
     "11ad3ade944d485c9b5ab990ca6c0659": {
      "model_module": "@jupyter-widgets/controls",
      "model_module_version": "1.5.0",
      "model_name": "HBoxModel",
      "state": {
       "children": [
        "IPY_MODEL_b856f97ac3bf42ae98fbc356ff1cee3c",
        "IPY_MODEL_9f9fee0272f2460e9d233b0ab1a9a6e0"
       ],
       "layout": "IPY_MODEL_9f95b44eaeb44422a4ec473c4bb95d99"
      }
     },
     "11d589e75af34b6081b584ab43cc94f6": {
      "model_module": "@jupyter-widgets/base",
      "model_module_version": "1.2.0",
      "model_name": "LayoutModel",
      "state": {}
     },
     "12671d7db2d34c76b36d0c75bf3fe48f": {
      "model_module": "@jupyter-widgets/controls",
      "model_module_version": "1.5.0",
      "model_name": "PlayModel",
      "state": {
       "description": "Press play",
       "layout": "IPY_MODEL_63d77e3e193e42d7a4de02e12737f7db",
       "style": "IPY_MODEL_f9ca545f09ce4ecc80a7dfcda5ec0f82",
       "value": 50
      }
     },
     "12ab54ec9f9540d3958b4aac92bb18b2": {
      "model_module": "@jupyter-widgets/base",
      "model_module_version": "1.2.0",
      "model_name": "LayoutModel",
      "state": {}
     },
     "12d8b6a73ff74073996a4be3dfd1ad24": {
      "model_module": "@jupyter-widgets/base",
      "model_module_version": "1.2.0",
      "model_name": "LayoutModel",
      "state": {}
     },
     "13186495611c4936b30b4df022459638": {
      "model_module": "@jupyter-widgets/controls",
      "model_module_version": "1.5.0",
      "model_name": "DescriptionStyleModel",
      "state": {
       "description_width": ""
      }
     },
     "1330ff30be76422885e09af0760acb84": {
      "model_module": "@jupyter-widgets/controls",
      "model_module_version": "1.5.0",
      "model_name": "IntRangeSliderModel",
      "state": {
       "_model_name": "IntRangeSliderModel",
       "_view_name": "IntRangeSliderView",
       "continuous_update": false,
       "description": "Test:",
       "layout": "IPY_MODEL_269bb7c513e84af092ad6722c9e45a0e",
       "max": 10,
       "style": "IPY_MODEL_0afda8c4b1574156893e3619cc325384",
       "value": [
        5,
        7
       ]
      }
     },
     "13a0b61c942a45a9aa4d532e624a95f9": {
      "model_module": "@jupyter-widgets/controls",
      "model_module_version": "1.5.0",
      "model_name": "LabelModel",
      "state": {
       "layout": "IPY_MODEL_1bda3b9567874905bd82585df8293e4d",
       "style": "IPY_MODEL_07962ae2a54b498d97be185df0a91eea",
       "value": "The $m$ in $E=mc^2$:"
      }
     },
     "146278c129f34fa1b132a02c1907826d": {
      "model_module": "@jupyter-widgets/controls",
      "model_module_version": "1.5.0",
      "model_name": "DescriptionStyleModel",
      "state": {
       "description_width": ""
      }
     },
     "14fd9928d070428f97a91acd9bc5fc27": {
      "model_module": "@jupyter-widgets/controls",
      "model_module_version": "1.5.0",
      "model_name": "ValidModel",
      "state": {
       "description": "Valid!",
       "layout": "IPY_MODEL_11878d55ba3640c5a6dabe79b1c8b81c",
       "style": "IPY_MODEL_213074bb1bbf42dabdb259c85b0aa918"
      }
     },
     "15c2ebae318548a3940ef7db11953682": {
      "model_module": "@jupyter-widgets/controls",
      "model_module_version": "1.5.0",
      "model_name": "FloatProgressModel",
      "state": {
       "bar_style": "info",
       "description": "Loading:",
       "layout": "IPY_MODEL_40ba1eea57e6404499c18840ae06c514",
       "max": 10,
       "style": "IPY_MODEL_52729538ba554571a7b9aebcd43e17c3",
       "value": 7.5
      }
     },
     "17cf2072ec6549738aaf8e6bbcdb9a68": {
      "model_module": "@jupyter-widgets/base",
      "model_module_version": "1.2.0",
      "model_name": "LayoutModel",
      "state": {}
     },
     "185ab061923143e1b58188037fec0ecb": {
      "model_module": "@jupyter-widgets/controls",
      "model_module_version": "1.5.0",
      "model_name": "HTMLMathModel",
      "state": {
       "description": "Some HTML",
       "layout": "IPY_MODEL_e1debd1cfbfb48258ecfd3cd32d583c6",
       "placeholder": "Some HTML",
       "style": "IPY_MODEL_cff420500dd4469cbefe5d69091f1dbf",
       "value": "Some math and <i>HTML</i>: \\(x^2\\) and $$\\frac{x+1}{x-1}$$"
      }
     },
     "19b5b20d07b049bda98b342ed3ddf7da": {
      "model_module": "@jupyter-widgets/controls",
      "model_module_version": "1.5.0",
      "model_name": "DescriptionStyleModel",
      "state": {
       "description_width": ""
      }
     },
     "19ffbc0f1786456587ceda2793d2780c": {
      "model_module": "@jupyter-widgets/controls",
      "model_module_version": "1.5.0",
      "model_name": "FloatTextModel",
      "state": {
       "description": "Any:",
       "layout": "IPY_MODEL_490ca963f63e4477bba84e398a846194",
       "step": null,
       "style": "IPY_MODEL_13186495611c4936b30b4df022459638",
       "value": 7.5
      }
     },
     "1a6c6dad47304ea3b7b26137172c94ba": {
      "model_module": "@jupyter-widgets/controls",
      "model_module_version": "1.5.0",
      "model_name": "DescriptionStyleModel",
      "state": {
       "description_width": ""
      }
     },
     "1a7ef0e2a65a4ac19f4dcf5d48fd363b": {
      "model_module": "@jupyter-widgets/controls",
      "model_module_version": "1.5.0",
      "model_name": "DescriptionStyleModel",
      "state": {
       "description_width": ""
      }
     },
     "1aa0797348e54a1089c2c7178c90270a": {
      "model_module": "@jupyter-widgets/base",
      "model_module_version": "1.2.0",
      "model_name": "LayoutModel",
      "state": {}
     },
     "1bda3b9567874905bd82585df8293e4d": {
      "model_module": "@jupyter-widgets/base",
      "model_module_version": "1.2.0",
      "model_name": "LayoutModel",
      "state": {}
     },
     "1bf7b762a56c4b00a486c273dfda4f7e": {
      "model_module": "@jupyter-widgets/controls",
      "model_module_version": "1.5.0",
      "model_name": "SliderStyleModel",
      "state": {
       "description_width": ""
      }
     },
     "1c19b40f81104aeb83cf1982be8cd277": {
      "model_module": "@jupyter-widgets/controls",
      "model_module_version": "1.5.0",
      "model_name": "SelectMultipleModel",
      "state": {
       "_options_labels": [
        "Apples",
        "Oranges",
        "Pears"
       ],
       "description": "Fruits",
       "index": [
        1
       ],
       "layout": "IPY_MODEL_af2d97b277194e0cbc0b1a7c418fd877",
       "rows": 5,
       "style": "IPY_MODEL_d4026bf70a7f4430bd0164c6a12801ee"
      }
     },
     "1d31c01b218a4ae19bd89bd2ca751211": {
      "model_module": "@jupyter-widgets/controls",
      "model_module_version": "1.5.0",
      "model_name": "IntSliderModel",
      "state": {
       "continuous_update": false,
       "description": "Test:",
       "layout": "IPY_MODEL_17cf2072ec6549738aaf8e6bbcdb9a68",
       "max": 10,
       "style": "IPY_MODEL_b18921573f5e4d269a1f9cc210baaf35",
       "value": 7
      }
     },
     "1d4ae2e0a52b46598c2bfcb92a7e9ca6": {
      "model_module": "@jupyter-widgets/controls",
      "model_module_version": "1.5.0",
      "model_name": "DescriptionStyleModel",
      "state": {
       "description_width": ""
      }
     },
     "1dbf19e4c3b14067a86492645e64b889": {
      "model_module": "@jupyter-widgets/base",
      "model_module_version": "1.2.0",
      "model_name": "LayoutModel",
      "state": {}
     },
     "1e0c369744bc420e8735c7f047e19ee9": {
      "model_module": "@jupyter-widgets/controls",
      "model_module_version": "1.5.0",
      "model_name": "DescriptionStyleModel",
      "state": {
       "description_width": ""
      }
     },
     "1e7cefc3e618459a99cdf9ffa435783f": {
      "model_module": "@jupyter-widgets/controls",
      "model_module_version": "1.5.0",
      "model_name": "TabModel",
      "state": {
       "_titles": {
        "0": "0",
        "1": "1",
        "2": "2",
        "3": "3",
        "4": "4"
       },
       "children": [
        "IPY_MODEL_e72c16eac0814572a1ed61fa598c1e1f",
        "IPY_MODEL_c84b4bc55b3f44efb1683cf00701ee21",
        "IPY_MODEL_cd7caa30b72e4a10a6eeac02ad548a2a",
        "IPY_MODEL_84ec52af8c484529b8876aa91805854d",
        "IPY_MODEL_cfc06d0134d74df9bca64a0d1c1d317a"
       ],
       "layout": "IPY_MODEL_012e465a2e3e4103b1a196017261304a",
       "selected_index": 3
      }
     },
     "1ecae4d61e7d4cf486f721fce70c2586": {
      "model_module": "@jupyter-widgets/base",
      "model_module_version": "1.2.0",
      "model_name": "LayoutModel",
      "state": {}
     },
     "1f2242f0713c4714aad3e2cff66a5e07": {
      "model_module": "@jupyter-widgets/controls",
      "model_module_version": "1.5.0",
      "model_name": "DescriptionStyleModel",
      "state": {
       "description_width": ""
      }
     },
     "1f4e9f67a9b347e38ed0aabfc7e76264": {
      "model_module": "@jupyter-widgets/base",
      "model_module_version": "1.2.0",
      "model_name": "LayoutModel",
      "state": {}
     },
     "1f9aa012338e409685bafde50909d712": {
      "model_module": "@jupyter-widgets/controls",
      "model_module_version": "1.5.0",
      "model_name": "DescriptionStyleModel",
      "state": {
       "description_width": ""
      }
     },
     "203c347cee804daeb7ada0792a504476": {
      "model_module": "@jupyter-widgets/controls",
      "model_module_version": "1.5.0",
      "model_name": "BoxModel",
      "state": {
       "children": [
        "IPY_MODEL_77a561e258964e39aa0bc468b777790e",
        "IPY_MODEL_eaa57a83d6784654a40598a4eab16a07",
        "IPY_MODEL_ae0ce4a5052f4e119c55804de987098c",
        "IPY_MODEL_ebca891d27a843d6adc363df31a734c3"
       ],
       "layout": "IPY_MODEL_baa01178bb384cf69ad6ef53c079152b"
      }
     },
     "2061fde8fe2542b7a4aa54ecdd6ab2fa": {
      "model_module": "@jupyter-widgets/base",
      "model_module_version": "1.2.0",
      "model_name": "LayoutModel",
      "state": {}
     },
     "208c4ee4bb4e4c22bbef1791d1f51462": {
      "model_module": "@jupyter-widgets/controls",
      "model_module_version": "1.5.0",
      "model_name": "DropdownModel",
      "state": {
       "_options_labels": [
        "1",
        "2",
        "3"
       ],
       "description": "Number:",
       "index": 1,
       "layout": "IPY_MODEL_e069e1c4d84e44b59cf51a1fa364cac7",
       "style": "IPY_MODEL_bde115de358d449896e19ab9bf174a8a"
      }
     },
     "208fca5eb38e46649d6ad1d973aacd44": {
      "model_module": "@jupyter-widgets/base",
      "model_module_version": "1.2.0",
      "model_name": "LayoutModel",
      "state": {}
     },
     "20bd55ab72254665a0cbc5796977657a": {
      "model_module": "@jupyter-widgets/controls",
      "model_module_version": "1.5.0",
      "model_name": "FloatSliderModel",
      "state": {
       "continuous_update": false,
       "description": "Test:",
       "layout": "IPY_MODEL_b4fcde747bf14601bcedb661510e5295",
       "max": 10,
       "orientation": "vertical",
       "readout_format": ".1f",
       "step": 0.1,
       "style": "IPY_MODEL_da4bdd0cdb8b4107a1635e461d8caec6",
       "value": 7.5
      }
     },
     "2112a8fd490c445e9eac2986b97ddf7d": {
      "buffers": [
       {
        "data": "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",
        "encoding": "base64",
        "path": [
         "value"
        ]
       }
      ],
      "model_module": "@jupyter-widgets/controls",
      "model_module_version": "1.5.0",
      "model_name": "ImageModel",
      "state": {
       "format": "gif",
       "height": "128",
       "layout": "IPY_MODEL_cb58ff0e28074bd8b342cf4904fb9d65",
       "width": "128"
      }
     },
     "213074bb1bbf42dabdb259c85b0aa918": {
      "model_module": "@jupyter-widgets/controls",
      "model_module_version": "1.5.0",
      "model_name": "DescriptionStyleModel",
      "state": {
       "description_width": ""
      }
     },
     "2168ea44d9e94a4a889403d6c798ee78": {
      "model_module": "@jupyter-widgets/controls",
      "model_module_version": "1.5.0",
      "model_name": "HBoxModel",
      "state": {
       "children": [
        "IPY_MODEL_7e14d563ddc04232a57c214c04e74478",
        "IPY_MODEL_b8c9638d85cc46a8afba53bea0303cd1"
       ],
       "layout": "IPY_MODEL_d96f9fe8f40e493490d77d79b926c2ae"
      }
     },
     "219e66449ce44efcad98cbea38591811": {
      "model_module": "@jupyter-widgets/controls",
      "model_module_version": "1.5.0",
      "model_name": "SliderStyleModel",
      "state": {
       "description_width": ""
      }
     },
     "21bad7923fe640df8745ab1eb60d1ef1": {
      "model_module": "@jupyter-widgets/controls",
      "model_module_version": "1.5.0",
      "model_name": "LabelModel",
      "state": {
       "layout": "IPY_MODEL_79722b88b73f44cd918ff046d30f8811",
       "style": "IPY_MODEL_b434f78a477b4334becbf35975bc0d51",
       "value": "0"
      }
     },
     "221d8d4f40f440a786d28befeea11883": {
      "model_module": "@jupyter-widgets/controls",
      "model_module_version": "1.5.0",
      "model_name": "DescriptionStyleModel",
      "state": {
       "description_width": ""
      }
     },
     "22801ee4b1604f728f83dd6131d68311": {
      "model_module": "@jupyter-widgets/output",
      "model_module_version": "1.0.0",
      "model_name": "OutputModel",
      "state": {
       "layout": "IPY_MODEL_b9de4987354f4792b4536719e73760b5"
      }
     },
     "2357d552f726458c97a48667db8e5cf1": {
      "model_module": "@jupyter-widgets/base",
      "model_module_version": "1.2.0",
      "model_name": "LayoutModel",
      "state": {}
     },
     "23c5733b8dba4a5ba5166aab9dcc6e56": {
      "model_module": "@jupyter-widgets/base",
      "model_module_version": "1.2.0",
      "model_name": "LayoutModel",
      "state": {}
     },
     "23dd4f2e7f084f668c00d2c4407811e0": {
      "model_module": "@jupyter-widgets/controls",
      "model_module_version": "1.5.0",
      "model_name": "LabelModel",
      "state": {
       "layout": "IPY_MODEL_cdcd0ed79e7e44bcbac518bd7d6caeeb",
       "style": "IPY_MODEL_e9c1dcae82e948a19b036e0b4046bf60",
       "value": "3"
      }
     },
     "23e7196bd511416b94516ddab4fb2ab6": {
      "model_module": "@jupyter-widgets/controls",
      "model_module_version": "1.5.0",
      "model_name": "DescriptionStyleModel",
      "state": {
       "description_width": ""
      }
     },
     "245a9074ee9140a9b383937f1179c12e": {
      "model_module": "@jupyter-widgets/controls",
      "model_module_version": "1.5.0",
      "model_name": "ButtonModel",
      "state": {
       "description": "Click me",
       "icon": "check",
       "layout": "IPY_MODEL_37558a7f682a4122bed6950b25cc1b49",
       "style": "IPY_MODEL_81bb56244731402ea6ce6464af66e05f",
       "tooltip": "Click me"
      }
     },
     "24753765ec82456a94239ec09f955299": {
      "model_module": "@jupyter-widgets/base",
      "model_module_version": "1.2.0",
      "model_name": "LayoutModel",
      "state": {}
     },
     "24cfeb63c11f4842af69dee09122f96e": {
      "model_module": "@jupyter-widgets/base",
      "model_module_version": "1.2.0",
      "model_name": "LayoutModel",
      "state": {}
     },
     "2501f97be42a447b8feb6d7dfa38bf1e": {
      "model_module": "@jupyter-widgets/controls",
      "model_module_version": "1.5.0",
      "model_name": "IntProgressModel",
      "state": {
       "description": "Loading:",
       "layout": "IPY_MODEL_7cafd6fb335e4a218b91623c4dbfefac",
       "max": 10,
       "style": "IPY_MODEL_52ac4aec6dd94ad7b7b4444b88a68948",
       "value": 7
      }
     },
     "25762b4240174b9997848755db7d2fc7": {
      "model_module": "@jupyter-widgets/base",
      "model_module_version": "1.2.0",
      "model_name": "LayoutModel",
      "state": {}
     },
     "25d682e286b540408bf7e745029b281c": {
      "model_module": "@jupyter-widgets/controls",
      "model_module_version": "1.5.0",
      "model_name": "CheckboxModel",
      "state": {
       "description": "Check me",
       "disabled": false,
       "layout": "IPY_MODEL_25762b4240174b9997848755db7d2fc7",
       "style": "IPY_MODEL_a00fa875024349e6bef46e9328083eaa",
       "value": false
      }
     },
     "2666d3d21a1b47aebd1cf6007a4f03df": {
      "model_module": "@jupyter-widgets/controls",
      "model_module_version": "1.5.0",
      "model_name": "IntTextModel",
      "state": {
       "description": "Any:",
       "layout": "IPY_MODEL_de47aa88ae3b4710960cef6500b11781",
       "step": 1,
       "style": "IPY_MODEL_7fa66c024a754a6397c03debee6fecf4",
       "value": 7
      }
     },
     "269bb7c513e84af092ad6722c9e45a0e": {
      "model_module": "@jupyter-widgets/base",
      "model_module_version": "1.2.0",
      "model_name": "LayoutModel",
      "state": {}
     },
     "26c0dadc47e249a193a6b861265ac170": {
      "model_module": "@jupyter-widgets/controls",
      "model_module_version": "1.5.0",
      "model_name": "DescriptionStyleModel",
      "state": {
       "description_width": ""
      }
     },
     "2840399b188c4acaa04066b3e97d571a": {
      "model_module": "@jupyter-widgets/base",
      "model_module_version": "1.2.0",
      "model_name": "LayoutModel",
      "state": {}
     },
     "289f62a26fa6437d832509e6e3c90807": {
      "model_module": "@jupyter-widgets/controls",
      "model_module_version": "1.5.0",
      "model_name": "ProgressStyleModel",
      "state": {
       "description_width": ""
      }
     },
     "28df4a87bc7a44fa82df17c52c978e7e": {
      "model_module": "@jupyter-widgets/base",
      "model_module_version": "1.2.0",
      "model_name": "LayoutModel",
      "state": {}
     },
     "29485eb7bdc04eceb4e74b9935b46a05": {
      "model_module": "@jupyter-widgets/base",
      "model_module_version": "1.2.0",
      "model_name": "LayoutModel",
      "state": {}
     },
     "29f56f3a254e41faa3ea012cbfa38bcf": {
      "model_module": "@jupyter-widgets/controls",
      "model_module_version": "1.5.0",
      "model_name": "DescriptionStyleModel",
      "state": {
       "description_width": ""
      }
     },
     "2b53aaf6b28448bcaf7f723e22369dd4": {
      "model_module": "@jupyter-widgets/controls",
      "model_module_version": "1.5.0",
      "model_name": "AccordionModel",
      "state": {
       "_titles": {
        "0": "Slider",
        "1": "Text"
       },
       "children": [
        "IPY_MODEL_e0bd89507f664f128d4c87181af4a05e",
        "IPY_MODEL_f2acb17e4d77405aa646fd3dfa1868df"
       ],
       "layout": "IPY_MODEL_e18503c349464d4f80043c14aa61d3cd",
       "selected_index": null
      }
     },
     "2c99a19326424d2885bdec2583a7194e": {
      "model_module": "@jupyter-widgets/base",
      "model_module_version": "1.2.0",
      "model_name": "LayoutModel",
      "state": {}
     },
     "2d95f83f083e4a9baad255e79baf77d4": {
      "model_module": "@jupyter-widgets/base",
      "model_module_version": "1.2.0",
      "model_name": "LayoutModel",
      "state": {}
     },
     "2e527b7474ea466a9c5ad97ef9ccd6eb": {
      "model_module": "@jupyter-widgets/controls",
      "model_module_version": "1.5.0",
      "model_name": "FloatSliderModel",
      "state": {
       "continuous_update": false,
       "description": "Test:",
       "layout": "IPY_MODEL_9edd9c0048474360b0b2694f934cb6e1",
       "max": 10,
       "orientation": "vertical",
       "readout_format": ".1f",
       "step": 0.1,
       "style": "IPY_MODEL_0bd8dfafba0d4f7c94ba172ce49545f7",
       "value": 7.5
      }
     },
     "2eb65c5469554cd59ead6cb1454d8762": {
      "model_module": "@jupyter-widgets/output",
      "model_module_version": "1.0.0",
      "model_name": "OutputModel",
      "state": {
       "layout": "IPY_MODEL_3e5be519011f46afa149ecd7647fe289",
       "outputs": [
        {
         "name": "stdout",
         "output_type": "stream",
         "text": "Output appended with append_stdout"
        },
        {
         "data": {
          "text/html": "\n        <iframe\n            width=\"400\"\n            height=\"300\"\n            src=\"https://www.youtube.com/embed/eWzY2nGfkXk\"\n            frameborder=\"0\"\n            allowfullscreen\n        ></iframe>\n        ",
          "text/plain": "<IPython.lib.display.YouTubeVideo at 0x7fb4f420e358>"
         },
         "metadata": {},
         "output_type": "display_data"
        }
       ]
      }
     },
     "2eeedeffa80a41109023176b86a32b3f": {
      "model_module": "@jupyter-widgets/base",
      "model_module_version": "1.2.0",
      "model_name": "LayoutModel",
      "state": {}
     },
     "2f059bd7b3a44edc98073f5f8b275ca1": {
      "model_module": "@jupyter-widgets/controls",
      "model_module_version": "1.5.0",
      "model_name": "DescriptionStyleModel",
      "state": {
       "description_width": ""
      }
     },
     "2f60677e8bc748598feca1027aebc0a5": {
      "model_module": "@jupyter-widgets/controls",
      "model_module_version": "1.5.0",
      "model_name": "SliderStyleModel",
      "state": {
       "description_width": ""
      }
     },
     "30923b99d3dd4b8a88a56fb7f1df16bd": {
      "model_module": "@jupyter-widgets/controls",
      "model_module_version": "1.5.0",
      "model_name": "DescriptionStyleModel",
      "state": {
       "description_width": ""
      }
     },
     "3157ece976a647d3aa9f8d4cd8fde6bc": {
      "model_module": "@jupyter-widgets/controls",
      "model_module_version": "1.5.0",
      "model_name": "DescriptionStyleModel",
      "state": {
       "description_width": ""
      }
     },
     "318023cc3ace4b65b7895fc2cd1a4e66": {
      "model_module": "@jupyter-widgets/controls",
      "model_module_version": "1.5.0",
      "model_name": "ToggleButtonsModel",
      "state": {
       "_options_labels": [
        "Slow",
        "Regular",
        "Fast"
       ],
       "button_style": "",
       "description": "Speed:",
       "icons": [],
       "index": 0,
       "layout": "IPY_MODEL_2840399b188c4acaa04066b3e97d571a",
       "style": "IPY_MODEL_e96bc0bee4274dfe8dd57907c56d94b4",
       "tooltips": [
        "Description of slow",
        "Description of regular",
        "Description of fast"
       ]
      }
     },
     "318811d1979945dba762a8c2e2e01829": {
      "model_module": "@jupyter-widgets/base",
      "model_module_version": "1.2.0",
      "model_name": "LayoutModel",
      "state": {}
     },
     "32100633b94b438b83c1165ef598cfb9": {
      "model_module": "@jupyter-widgets/base",
      "model_module_version": "1.2.0",
      "model_name": "LayoutModel",
      "state": {}
     },
     "3238b200bd6c4d9ebffbb51ee794b972": {
      "model_module": "@jupyter-widgets/base",
      "model_module_version": "1.2.0",
      "model_name": "LayoutModel",
      "state": {
       "border": "1px solid black"
      }
     },
     "32c34f77042b4b34ba697a8536650478": {
      "model_module": "@jupyter-widgets/base",
      "model_module_version": "1.2.0",
      "model_name": "LayoutModel",
      "state": {}
     },
     "3539cfb7042f48509841d15e1c30fefd": {
      "model_module": "@jupyter-widgets/controls",
      "model_module_version": "1.5.0",
      "model_name": "LabelModel",
      "state": {
       "layout": "IPY_MODEL_0164c1db3bc14e14a831fb5fa33502d4",
       "style": "IPY_MODEL_0180b717e38d4040aa7955e37d29c252",
       "value": "3"
      }
     },
     "3666bde02bb84495b84cddb4af04ab3c": {
      "model_module": "@jupyter-widgets/controls",
      "model_module_version": "1.5.0",
      "model_name": "LabelModel",
      "state": {
       "layout": "IPY_MODEL_7bc916bc45b7472c98e883333686234e",
       "style": "IPY_MODEL_dcefb51532d7460eb484f4924eedf70f",
       "value": "3"
      }
     },
     "37558a7f682a4122bed6950b25cc1b49": {
      "model_module": "@jupyter-widgets/base",
      "model_module_version": "1.2.0",
      "model_name": "LayoutModel",
      "state": {}
     },
     "378a4cb6fe3d4cf78a86669f4a1438ad": {
      "model_module": "@jupyter-widgets/controls",
      "model_module_version": "1.5.0",
      "model_name": "CheckboxModel",
      "state": {
       "description": "Check me",
       "disabled": false,
       "layout": "IPY_MODEL_1dbf19e4c3b14067a86492645e64b889",
       "style": "IPY_MODEL_9babd111bf6f452ca737160131fca7c2",
       "value": false
      }
     },
     "3868629228d64a9b8ce673d8973a3183": {
      "model_module": "@jupyter-widgets/base",
      "model_module_version": "1.2.0",
      "model_name": "LayoutModel",
      "state": {}
     },
     "388f29f55ed94020a407d72f6ace0302": {
      "model_module": "@jupyter-widgets/controls",
      "model_module_version": "1.5.0",
      "model_name": "FloatLogSliderModel",
      "state": {
       "description": "Log Slider",
       "layout": "IPY_MODEL_67b28a62f2624dcf8bf514d8a318415e",
       "max": 10,
       "min": -10,
       "step": 0.2,
       "style": "IPY_MODEL_469a8ccd0ae74a66b44853814f509e23",
       "value": 10
      }
     },
     "38f6c8e891bc455eb419e6293c0c3dab": {
      "model_module": "@jupyter-widgets/base",
      "model_module_version": "1.2.0",
      "model_name": "LayoutModel",
      "state": {}
     },
     "3915eef972ee46eaad657931fe35fea9": {
      "model_module": "@jupyter-widgets/controls",
      "model_module_version": "1.5.0",
      "model_name": "SliderStyleModel",
      "state": {
       "description_width": ""
      }
     },
     "392ade698d474fcfb82a22efbccd77cc": {
      "model_module": "@jupyter-widgets/controls",
      "model_module_version": "1.5.0",
      "model_name": "DatePickerModel",
      "state": {
       "description": "Pick a Date",
       "disabled": false,
       "layout": "IPY_MODEL_6572fe6ad11343308e5f8449d34cfe0b",
       "style": "IPY_MODEL_d91e8d3bb7984f529a8a57e08c0884b9"
      }
     },
     "3b83d9b1c6bc4d49a69bb9ce0d0c29ff": {
      "model_module": "@jupyter-widgets/controls",
      "model_module_version": "1.5.0",
      "model_name": "DropdownModel",
      "state": {
       "_options_labels": [
        "1",
        "2",
        "3"
       ],
       "description": "Number:",
       "index": 1,
       "layout": "IPY_MODEL_9dd61a4469ff49f69c8cd6cc9c7e7a90",
       "style": "IPY_MODEL_cea2f01371f84d4e9e7262b9cb56a46f"
      }
     },
     "3db12febc66a4613ba5737d3a83429ae": {
      "model_module": "@jupyter-widgets/controls",
      "model_module_version": "1.5.0",
      "model_name": "DescriptionStyleModel",
      "state": {
       "description_width": ""
      }
     },
     "3dcb35c0745c499ab764ad6c083f9c2e": {
      "model_module": "@jupyter-widgets/controls",
      "model_module_version": "1.5.0",
      "model_name": "DescriptionStyleModel",
      "state": {
       "description_width": ""
      }
     },
     "3e512e614afc49b6a49e9aacd4c116b7": {
      "model_module": "@jupyter-widgets/base",
      "model_module_version": "1.2.0",
      "model_name": "LayoutModel",
      "state": {}
     },
     "3e5be519011f46afa149ecd7647fe289": {
      "model_module": "@jupyter-widgets/base",
      "model_module_version": "1.2.0",
      "model_name": "LayoutModel",
      "state": {
       "border": "1px solid black"
      }
     },
     "3f1792e0781640bbbdac2ad5c2bf9d39": {
      "model_module": "@jupyter-widgets/base",
      "model_module_version": "1.2.0",
      "model_name": "LayoutModel",
      "state": {}
     },
     "40008b376c1a43f6ab53ddec4dfb6adb": {
      "model_module": "@jupyter-widgets/controls",
      "model_module_version": "1.5.0",
      "model_name": "DropdownModel",
      "state": {
       "_options_labels": [
        "1",
        "2",
        "3"
       ],
       "description": "Number:",
       "index": 1,
       "layout": "IPY_MODEL_83833b1c51674e7583eb527d529c35ac",
       "style": "IPY_MODEL_f61c2151a573457a8875eb65ec693c98"
      }
     },
     "40698fd64f0f4baab4531f23a5f118b4": {
      "model_module": "@jupyter-widgets/controls",
      "model_module_version": "1.5.0",
      "model_name": "DescriptionStyleModel",
      "state": {
       "description_width": ""
      }
     },
     "40a59dd46b0c4d32ba9185942a0914c9": {
      "model_module": "@jupyter-widgets/controls",
      "model_module_version": "1.5.0",
      "model_name": "TextareaModel",
      "state": {
       "description": "String:",
       "layout": "IPY_MODEL_e8499f80e745416ab7d5212d3458a9ab",
       "placeholder": "Type something",
       "style": "IPY_MODEL_d57144f7a98c4e54b174920ab2c45ed9",
       "value": "Hello World"
      }
     },
     "40ba1eea57e6404499c18840ae06c514": {
      "model_module": "@jupyter-widgets/base",
      "model_module_version": "1.2.0",
      "model_name": "LayoutModel",
      "state": {}
     },
     "413b6fc97079450694a6bdcdd28458aa": {
      "model_module": "@jupyter-widgets/controls",
      "model_module_version": "1.5.0",
      "model_name": "LabelModel",
      "state": {
       "layout": "IPY_MODEL_fde3367e63d74762829beba8176f2882",
       "style": "IPY_MODEL_96148630873b466fb406720933b53c62",
       "value": "1"
      }
     },
     "41532ee89d374d2886e665a441496efa": {
      "model_module": "@jupyter-widgets/controls",
      "model_module_version": "1.5.0",
      "model_name": "LabelModel",
      "state": {
       "layout": "IPY_MODEL_de911c619d924589b8f5b8596b8671ba",
       "style": "IPY_MODEL_8896b60c8ee749409382adbe92330671",
       "value": "0"
      }
     },
     "421c9a2d5a244ebdbb8b3b2df01030ed": {
      "model_module": "@jupyter-widgets/controls",
      "model_module_version": "1.5.0",
      "model_name": "RadioButtonsModel",
      "state": {
       "_options_labels": [
        "pepperoni",
        "pineapple",
        "anchovies"
       ],
       "description": "Pizza topping:",
       "index": 0,
       "layout": "IPY_MODEL_d2a3bcee611445c395d5c17aceec501e",
       "style": "IPY_MODEL_3157ece976a647d3aa9f8d4cd8fde6bc"
      }
     },
     "42f30b9fddc04b308f546ddc9a73806f": {
      "model_module": "@jupyter-widgets/controls",
      "model_module_version": "1.5.0",
      "model_name": "SliderStyleModel",
      "state": {
       "description_width": ""
      }
     },
     "43424b366aad444ea52136ed08920961": {
      "model_module": "@jupyter-widgets/output",
      "model_module_version": "1.0.0",
      "model_name": "OutputModel",
      "state": {
       "layout": "IPY_MODEL_8cb9b7f8cd9a46cf86fb468a13fbefa6"
      }
     },
     "4359836e31b94b7cb920ddb637a7e3e1": {
      "model_module": "@jupyter-widgets/controls",
      "model_module_version": "1.5.0",
      "model_name": "DescriptionStyleModel",
      "state": {
       "description_width": ""
      }
     },
     "4363630bd39540e7bb20aee2c0b6cfcb": {
      "buffers": [
       {
        "data": "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",
        "encoding": "base64",
        "path": [
         "value"
        ]
       }
      ],
      "model_module": "@jupyter-widgets/controls",
      "model_module_version": "1.5.0",
      "model_name": "ImageModel",
      "state": {
       "format": "gif",
       "height": "128",
       "layout": "IPY_MODEL_c8203133b371443d999a2bd1bd59f3cb",
       "width": "128"
      }
     },
     "44a6721e9bc0496cbac08602f48d1829": {
      "model_module": "@jupyter-widgets/controls",
      "model_module_version": "1.5.0",
      "model_name": "DescriptionStyleModel",
      "state": {
       "description_width": ""
      }
     },
     "44acfc1dfb404758a08ff1681c91e741": {
      "model_module": "@jupyter-widgets/controls",
      "model_module_version": "1.5.0",
      "model_name": "LabelModel",
      "state": {
       "layout": "IPY_MODEL_6c0666e2469b42949bface9fd9de99d4",
       "style": "IPY_MODEL_a73be4a8c3284560aa0bf6d5549cfd37",
       "value": "2"
      }
     },
     "44b603d2ed2e476fa36e20edb650334f": {
      "model_module": "@jupyter-widgets/controls",
      "model_module_version": "1.5.0",
      "model_name": "ColorPickerModel",
      "state": {
       "description": "Pick a color",
       "disabled": false,
       "layout": "IPY_MODEL_f9df0150e2364c7da5bd1daf6a0a2fa9",
       "style": "IPY_MODEL_09419070fa9d47bdbc1c4bb14f8b7f62",
       "value": "blue"
      }
     },
     "4593602f3b2b433c8524e37f111a59dc": {
      "model_module": "@jupyter-widgets/base",
      "model_module_version": "1.2.0",
      "model_name": "LayoutModel",
      "state": {}
     },
     "45d0e0187d2644ab9abb903441b20294": {
      "model_module": "@jupyter-widgets/controls",
      "model_module_version": "1.5.0",
      "model_name": "SliderStyleModel",
      "state": {
       "description_width": ""
      }
     },
     "469a8ccd0ae74a66b44853814f509e23": {
      "model_module": "@jupyter-widgets/controls",
      "model_module_version": "1.5.0",
      "model_name": "SliderStyleModel",
      "state": {
       "description_width": ""
      }
     },
     "489d91339ff040a4ac031dd89c6742c5": {
      "model_module": "@jupyter-widgets/controls",
      "model_module_version": "1.5.0",
      "model_name": "LinkModel",
      "state": {
       "source": [
        "IPY_MODEL_12671d7db2d34c76b36d0c75bf3fe48f",
        "value"
       ],
       "target": [
        "IPY_MODEL_01209ec3fcb64f39beb9a2fc63d37d7d",
        "value"
       ]
      }
     },
     "48d403d6b9dd4e43a4ba527e74808726": {
      "model_module": "@jupyter-widgets/base",
      "model_module_version": "1.2.0",
      "model_name": "LayoutModel",
      "state": {}
     },
     "48e8600a35c74ecba133a84bf90f5c1f": {
      "model_module": "@jupyter-widgets/output",
      "model_module_version": "1.0.0",
      "model_name": "OutputModel",
      "state": {
       "layout": "IPY_MODEL_78df5a4fc9e545478baed814e2908b5d",
       "outputs": [
        {
         "name": "stdout",
         "output_type": "stream",
         "text": "Output appended with append_stdout"
        },
        {
         "data": {
          "text/html": "\n        <iframe\n            width=\"400\"\n            height=\"300\"\n            src=\"https://www.youtube.com/embed/eWzY2nGfkXk\"\n            frameborder=\"0\"\n            allowfullscreen\n        ></iframe>\n        ",
          "text/plain": "<IPython.lib.display.YouTubeVideo at 0x7f7294169ba8>"
         },
         "metadata": {},
         "output_type": "display_data"
        },
        {
         "name": "stdout",
         "output_type": "stream",
         "text": "0 Hello world!\n1 Hello world!\n2 Hello world!\n3 Hello world!\n4 Hello world!\n5 Hello world!\n6 Hello world!\n7 Hello world!\n8 Hello world!\n9 Hello world!\n0 Hello world!\n1 Hello world!\n2 Hello world!\n3 Hello world!\n4 Hello world!\n5 Hello world!\n6 Hello world!\n7 Hello world!\n8 Hello world!\n9 Hello world!\n0 Hello world!\n1 Hello world!\n2 Hello world!\n3 Hello world!\n4 Hello world!\n5 Hello world!\n6 Hello world!\n7 Hello world!\n8 Hello world!\n9 Hello world!\n"
        }
       ]
      }
     },
     "490ca963f63e4477bba84e398a846194": {
      "model_module": "@jupyter-widgets/base",
      "model_module_version": "1.2.0",
      "model_name": "LayoutModel",
      "state": {}
     },
     "49603029fdb94604bfb0d94601a09b35": {
      "model_module": "@jupyter-widgets/controls",
      "model_module_version": "1.5.0",
      "model_name": "DescriptionStyleModel",
      "state": {
       "description_width": ""
      }
     },
     "4a7d8e7b576a403987a4832a40e2381f": {
      "model_module": "@jupyter-widgets/controls",
      "model_module_version": "1.5.0",
      "model_name": "IntRangeSliderModel",
      "state": {
       "_model_name": "IntRangeSliderModel",
       "_view_name": "IntRangeSliderView",
       "continuous_update": false,
       "description": "Test:",
       "layout": "IPY_MODEL_098db764767c4369abaed3266cc5077b",
       "max": 10,
       "style": "IPY_MODEL_9bc5a565c2a644bf9d4cf24f4b65d228",
       "value": [
        5,
        7
       ]
      }
     },
     "4b35fd78523845a4bbcff0f90dfff9d4": {
      "model_module": "@jupyter-widgets/controls",
      "model_module_version": "1.5.0",
      "model_name": "ValidModel",
      "state": {
       "description": "Valid!",
       "layout": "IPY_MODEL_acbcb4d6dfa74b7fbcaa3fc17810c425",
       "style": "IPY_MODEL_f625fcfcce5c4ccc976b5d8b6c0f5410"
      }
     },
     "4b3b6f4109554948b5b14fdc7f72d526": {
      "model_module": "@jupyter-widgets/base",
      "model_module_version": "1.2.0",
      "model_name": "LayoutModel",
      "state": {}
     },
     "4b7aa86ab2c2433b92c6ea6415e3366e": {
      "model_module": "@jupyter-widgets/base",
      "model_module_version": "1.2.0",
      "model_name": "LayoutModel",
      "state": {}
     },
     "4c2f3943bf2745ea9a8f64b04f7163c7": {
      "model_module": "@jupyter-widgets/controls",
      "model_module_version": "1.5.0",
      "model_name": "SliderStyleModel",
      "state": {
       "description_width": ""
      }
     },
     "4c4bc1e53b284d6ea5d2b38fa579ebaa": {
      "model_module": "@jupyter-widgets/base",
      "model_module_version": "1.2.0",
      "model_name": "LayoutModel",
      "state": {}
     },
     "4de031698a46489ea9b0d06dc6d56b88": {
      "model_module": "@jupyter-widgets/controls",
      "model_module_version": "1.5.0",
      "model_name": "LabelModel",
      "state": {
       "layout": "IPY_MODEL_f978176df8fc4940a615b385a99e0bc1",
       "style": "IPY_MODEL_7b53a76f13984d668186cd1be13d0270",
       "value": "0"
      }
     },
     "4e26ae99955341ac819487798f6fa1dc": {
      "model_module": "@jupyter-widgets/controls",
      "model_module_version": "1.5.0",
      "model_name": "BoundedIntTextModel",
      "state": {
       "description": "Text:",
       "layout": "IPY_MODEL_1aa0797348e54a1089c2c7178c90270a",
       "max": 10,
       "style": "IPY_MODEL_896e1b69746e49c38ff18b95c8c27aca",
       "value": 7
      }
     },
     "4f0637f02e664b93b4a68d5396c89f1d": {
      "model_module": "@jupyter-widgets/controls",
      "model_module_version": "1.5.0",
      "model_name": "DescriptionStyleModel",
      "state": {
       "description_width": ""
      }
     },
     "50ca8a5bb1aa4ae496d2e94c439fc895": {
      "model_module": "@jupyter-widgets/base",
      "model_module_version": "1.2.0",
      "model_name": "LayoutModel",
      "state": {}
     },
     "511ba8c8795d4ec18afaaf819fb4603e": {
      "model_module": "@jupyter-widgets/base",
      "model_module_version": "1.2.0",
      "model_name": "LayoutModel",
      "state": {}
     },
     "51355ed7779044a59cd36d807b5b8942": {
      "model_module": "@jupyter-widgets/controls",
      "model_module_version": "1.5.0",
      "model_name": "DescriptionStyleModel",
      "state": {
       "description_width": ""
      }
     },
     "5245d281cbde4325b18946c18bd5b3b2": {
      "model_module": "@jupyter-widgets/controls",
      "model_module_version": "1.5.0",
      "model_name": "DescriptionStyleModel",
      "state": {
       "description_width": ""
      }
     },
     "52729538ba554571a7b9aebcd43e17c3": {
      "model_module": "@jupyter-widgets/controls",
      "model_module_version": "1.5.0",
      "model_name": "ProgressStyleModel",
      "state": {
       "description_width": ""
      }
     },
     "52ac4aec6dd94ad7b7b4444b88a68948": {
      "model_module": "@jupyter-widgets/controls",
      "model_module_version": "1.5.0",
      "model_name": "ProgressStyleModel",
      "state": {
       "description_width": ""
      }
     },
     "52cb53afd0d4490e9be38a9cbfea1b6f": {
      "model_module": "@jupyter-widgets/controls",
      "model_module_version": "1.5.0",
      "model_name": "SelectModel",
      "state": {
       "_options_labels": [
        "Linux",
        "Windows",
        "OSX"
       ],
       "description": "OS:",
       "index": 2,
       "layout": "IPY_MODEL_7ffc7400d2b94ae9a2255d6523ffe127",
       "style": "IPY_MODEL_49603029fdb94604bfb0d94601a09b35"
      }
     },
     "531293981f1644b8826d90c8693c04b3": {
      "model_module": "@jupyter-widgets/controls",
      "model_module_version": "1.5.0",
      "model_name": "DescriptionStyleModel",
      "state": {
       "description_width": ""
      }
     },
     "534ab4c354804c02b608bf5887e91f72": {
      "model_module": "@jupyter-widgets/base",
      "model_module_version": "1.2.0",
      "model_name": "LayoutModel",
      "state": {}
     },
     "53ed985181c24f018fd5ad64abcecf05": {
      "model_module": "@jupyter-widgets/controls",
      "model_module_version": "1.5.0",
      "model_name": "DescriptionStyleModel",
      "state": {
       "description_width": ""
      }
     },
     "5419d4e9133e43feb3023fc15fb4157c": {
      "model_module": "@jupyter-widgets/base",
      "model_module_version": "1.2.0",
      "model_name": "LayoutModel",
      "state": {}
     },
     "547c4c0e3fcb4f52a7bd7a436fe64b1c": {
      "model_module": "@jupyter-widgets/controls",
      "model_module_version": "1.5.0",
      "model_name": "LabelModel",
      "state": {
       "layout": "IPY_MODEL_74a759838bf34015b5b7b8ea55b8be22",
       "style": "IPY_MODEL_53ed985181c24f018fd5ad64abcecf05",
       "value": "1"
      }
     },
     "55904d19a1d149f6a6d41c973b8ed28b": {
      "model_module": "@jupyter-widgets/base",
      "model_module_version": "1.2.0",
      "model_name": "LayoutModel",
      "state": {}
     },
     "55e802d01b554e61b6dcc12df493d744": {
      "model_module": "@jupyter-widgets/base",
      "model_module_version": "1.2.0",
      "model_name": "LayoutModel",
      "state": {
       "border": "1px solid black"
      }
     },
     "575207ac4227429bbabe3cea3239c14a": {
      "model_module": "@jupyter-widgets/controls",
      "model_module_version": "1.5.0",
      "model_name": "FloatTextModel",
      "state": {
       "description": "Any:",
       "layout": "IPY_MODEL_86c3daa971be48d7a23afb697b30abad",
       "step": null,
       "style": "IPY_MODEL_9fbb92cb985d422da2da88a7852e876e",
       "value": 7.5
      }
     },
     "57a064f5bf724e758e5b04e7e277e799": {
      "model_module": "@jupyter-widgets/controls",
      "model_module_version": "1.5.0",
      "model_name": "SliderStyleModel",
      "state": {
       "description_width": ""
      }
     },
     "57feaba8913e4e06ae1daf43a301d129": {
      "model_module": "@jupyter-widgets/base",
      "model_module_version": "1.2.0",
      "model_name": "LayoutModel",
      "state": {}
     },
     "58997351102449c4add3e5bf44961b13": {
      "model_module": "@jupyter-widgets/output",
      "model_module_version": "1.0.0",
      "model_name": "OutputModel",
      "state": {
       "layout": "IPY_MODEL_68d150ca2bb441cb9633d0d62013c0a3"
      }
     },
     "58aab2eca9ee47acafdf8c2cd0f5b2bc": {
      "model_module": "@jupyter-widgets/controls",
      "model_module_version": "1.5.0",
      "model_name": "DescriptionStyleModel",
      "state": {
       "description_width": ""
      }
     },
     "58df2fefc5b44f57a4db2b5d95f9ae84": {
      "model_module": "@jupyter-widgets/base",
      "model_module_version": "1.2.0",
      "model_name": "LayoutModel",
      "state": {}
     },
     "5a5675e9053d4cfb92ff65677a5db755": {
      "model_module": "@jupyter-widgets/base",
      "model_module_version": "1.2.0",
      "model_name": "LayoutModel",
      "state": {}
     },
     "5aa16f6b36d0468db820b3d1048cc8fa": {
      "model_module": "@jupyter-widgets/controls",
      "model_module_version": "1.5.0",
      "model_name": "LinkModel",
      "state": {
       "source": [
        "IPY_MODEL_7e14d563ddc04232a57c214c04e74478",
        "value"
       ],
       "target": [
        "IPY_MODEL_b8c9638d85cc46a8afba53bea0303cd1",
        "value"
       ]
      }
     },
     "5bed77931a69458496a23de63db7df26": {
      "model_module": "@jupyter-widgets/controls",
      "model_module_version": "1.5.0",
      "model_name": "DescriptionStyleModel",
      "state": {
       "description_width": ""
      }
     },
     "5c18d80ba48e497385fa4f10c9214ab3": {
      "model_module": "@jupyter-widgets/base",
      "model_module_version": "1.2.0",
      "model_name": "LayoutModel",
      "state": {}
     },
     "5c3ccf49d5614628929c6890be197c60": {
      "model_module": "@jupyter-widgets/controls",
      "model_module_version": "1.5.0",
      "model_name": "FloatSliderModel",
      "state": {
       "layout": "IPY_MODEL_caf008d5b005490cad77aaba7b7ee9b4",
       "step": 0.1,
       "style": "IPY_MODEL_b6abab1db9314eceb42dd98b21fad21c"
      }
     },
     "5c59f5cd5b5645aa9784386b254db299": {
      "model_module": "@jupyter-widgets/controls",
      "model_module_version": "1.5.0",
      "model_name": "LabelModel",
      "state": {
       "layout": "IPY_MODEL_87a51af2bfc44bb7b542ab117a2aca55",
       "style": "IPY_MODEL_146278c129f34fa1b132a02c1907826d",
       "value": "2"
      }
     },
     "5cb11d960df8466ab1c59a274605a931": {
      "model_module": "@jupyter-widgets/base",
      "model_module_version": "1.2.0",
      "model_name": "LayoutModel",
      "state": {}
     },
     "5ee210147c5f4eaa8b79f2bc175081e8": {
      "model_module": "@jupyter-widgets/controls",
      "model_module_version": "1.5.0",
      "model_name": "FloatRangeSliderModel",
      "state": {
       "_model_name": "FloatRangeSliderModel",
       "_view_name": "FloatRangeSliderView",
       "continuous_update": false,
       "description": "Test:",
       "layout": "IPY_MODEL_8b3cd94a832d47ba9be2bb6af674f583",
       "max": 10,
       "readout_format": ".1f",
       "step": 0.1,
       "style": "IPY_MODEL_08038d2c0bbf4b05be11e07971649c7a",
       "value": [
        5,
        7.5
       ]
      }
     },
     "5eec1aacb2dd4535a388681ec1093f37": {
      "model_module": "@jupyter-widgets/controls",
      "model_module_version": "1.5.0",
      "model_name": "TabModel",
      "state": {
       "_titles": {
        "0": "An accordion",
        "1": "Copy of the accordion"
       },
       "children": [
        "IPY_MODEL_0dcf7529abce4b75b2a2fce3f34f7817",
        "IPY_MODEL_0dcf7529abce4b75b2a2fce3f34f7817"
       ],
       "layout": "IPY_MODEL_4b3b6f4109554948b5b14fdc7f72d526"
      }
     },
     "5fbbc42716304e58acc4192e7619e260": {
      "model_module": "@jupyter-widgets/controls",
      "model_module_version": "1.5.0",
      "model_name": "ToggleButtonsStyleModel",
      "state": {
       "button_width": "",
       "description_width": ""
      }
     },
     "637324967bc04c4d92d37995e462ed83": {
      "model_module": "@jupyter-widgets/base",
      "model_module_version": "1.2.0",
      "model_name": "LayoutModel",
      "state": {}
     },
     "63d77e3e193e42d7a4de02e12737f7db": {
      "model_module": "@jupyter-widgets/base",
      "model_module_version": "1.2.0",
      "model_name": "LayoutModel",
      "state": {}
     },
     "63ddff8e994a4aea997b01f173eb9201": {
      "model_module": "@jupyter-widgets/controls",
      "model_module_version": "1.5.0",
      "model_name": "FloatProgressModel",
      "state": {
       "bar_style": "info",
       "description": "Loading:",
       "layout": "IPY_MODEL_06bbd57ab9744d9db23ca392470c2d58",
       "max": 10,
       "style": "IPY_MODEL_e04f05d7cfe446cba76b0160869aa555",
       "value": 7.5
      }
     },
     "63fb5c6997ec42f18a9409aa7a3cd3d7": {
      "model_module": "@jupyter-widgets/controls",
      "model_module_version": "1.5.0",
      "model_name": "LabelModel",
      "state": {
       "layout": "IPY_MODEL_58df2fefc5b44f57a4db2b5d95f9ae84",
       "style": "IPY_MODEL_2f059bd7b3a44edc98073f5f8b275ca1",
       "value": "0"
      }
     },
     "64070e7d8cff45d3a8804f344aea9f21": {
      "model_module": "@jupyter-widgets/controls",
      "model_module_version": "1.5.0",
      "model_name": "DescriptionStyleModel",
      "state": {
       "description_width": ""
      }
     },
     "6448c40c06904dacb5d5525263dd2d55": {
      "model_module": "@jupyter-widgets/controls",
      "model_module_version": "1.5.0",
      "model_name": "DescriptionStyleModel",
      "state": {
       "description_width": ""
      }
     },
     "651225c5946a46c88e34035cd6887eb0": {
      "model_module": "@jupyter-widgets/controls",
      "model_module_version": "1.5.0",
      "model_name": "TextareaModel",
      "state": {
       "description": "String:",
       "layout": "IPY_MODEL_0755f415a2d642ca8abadb8133e75db6",
       "placeholder": "Type something",
       "style": "IPY_MODEL_7dbf0c22beb94f96a562db0024f29bd2",
       "value": "Hello World"
      }
     },
     "6524d95b710243448a41b14241649e04": {
      "model_module": "@jupyter-widgets/controls",
      "model_module_version": "1.5.0",
      "model_name": "FloatRangeSliderModel",
      "state": {
       "_model_name": "FloatRangeSliderModel",
       "_view_name": "FloatRangeSliderView",
       "continuous_update": false,
       "description": "Test:",
       "layout": "IPY_MODEL_637324967bc04c4d92d37995e462ed83",
       "max": 10,
       "readout_format": ".1f",
       "step": 0.1,
       "style": "IPY_MODEL_42f30b9fddc04b308f546ddc9a73806f",
       "value": [
        5,
        7.5
       ]
      }
     },
     "6572fe6ad11343308e5f8449d34cfe0b": {
      "model_module": "@jupyter-widgets/base",
      "model_module_version": "1.2.0",
      "model_name": "LayoutModel",
      "state": {}
     },
     "65ba2c8174774331b15a4e08e02ac2cb": {
      "model_module": "@jupyter-widgets/controls",
      "model_module_version": "1.5.0",
      "model_name": "TextareaModel",
      "state": {
       "description": "String:",
       "layout": "IPY_MODEL_aac5085a8fb44eccb81274a2326de379",
       "placeholder": "Type something",
       "style": "IPY_MODEL_30923b99d3dd4b8a88a56fb7f1df16bd",
       "value": "Hello World"
      }
     },
     "675c790c9d9844028d2fe7a850898e4e": {
      "model_module": "@jupyter-widgets/output",
      "model_module_version": "1.0.0",
      "model_name": "OutputModel",
      "state": {
       "layout": "IPY_MODEL_55e802d01b554e61b6dcc12df493d744"
      }
     },
     "67b28a62f2624dcf8bf514d8a318415e": {
      "model_module": "@jupyter-widgets/base",
      "model_module_version": "1.2.0",
      "model_name": "LayoutModel",
      "state": {}
     },
     "67c21cea3e384446bca8f9ce73e6dc62": {
      "model_module": "@jupyter-widgets/controls",
      "model_module_version": "1.5.0",
      "model_name": "LabelModel",
      "state": {
       "layout": "IPY_MODEL_fd87f665e2b749099479cfe9d5fd2718",
       "style": "IPY_MODEL_f354bf243c364d029ddb7293d1a93392",
       "value": "1"
      }
     },
     "67f84c51de884d588278b578fd248616": {
      "buffers": [
       {
        "data": "R0lGODlhHgEeAcQfAGON/+rq6sfHxwAAAKBIAKampgBE/4aGhm4yAGVlZUZGRk5bfmJznycpLgAifz8cADRq/3md/w0PEhdV/09+//9zAJ64/36Sy8daAO9rAJOt9N9kAB8OADZAWYqh3////yH5BAEAAB8ALAAAAAAeAR4BAAX/4CeOZGmeaKqubOu+qCAXR30oeK4n9lHIAZhwSCwaj8ikclkU0BKKxmBKrVqvWCquJmN6v+CweMx03qTZtHp9bSh8QbJ8Tq/bTYEClM3v+6cSbwVxd4WGh4glAmd/jY59DQmDiZSVlkh5CWiPnJ1rkQWXoqOkHwE3nqmqa4GTpa+wY6ebq7W2Vwqusbu8QrO3wMG4ur3FxiIFCsLLzIAJAsfRsAEJEs3XzQ0HhNLdh8nY4djP3uV0v+Lp17nm7V+n1ury1w2h7vdF1PP74RLb+ABZ6ONHEJs/bgETDizI8Jq/hAoPxGtIMZs9iO0KTKzIkVkDaBi7CaDVseQyBQhD/8ZaaLLlsocqd0lsyeEBAgQEMGyo8ODRAgsXLjBY0KHBRo4fY5YSoIyjzZwVokqV2tPRTwtYs2IVuoAkwwQplR46QPHpzqlop1ZtdFWr26xCizaUcFGsoZEFbWJIyzft2j9t3wrGqmHoUXko7RYiyw9nhr6Q0f71E3iwZQseGHTgR1fxuabqOOCMTFqyz8uotRbePA+s5zEa5Y0uTZvq6dS4CWuWl/S1F5bYHhCoTdy21dzIdR9m1tm3kgBemSE4W7z45D6Vk+O+wDqca+dGYgcfXr08z9vatWtYsDxYb/BCGF97sNe8+et8sqdHzqD9rebwtRAAaNJRZ195+LGh3/9+yF0QHTAHBCjQg7ZMd+CFCa6xIIMNUlhLAhKmIIB/q1h4IYboccihg9mEFaB4wtB34owZqrGhisn15xFIIX5QADMckDfjiTWmcSOOybH3Eo8ByhcMAkNGWWQWRyKJnAbdASMBk84lsMwDBkaJ4nFWlnkBiZ7U9ZqXwggpJo0plonkAsuoaRebwCDw2JtSxiknjiwGY2dMeN5SH599kvmnnAwIMyhGhdbywJ6IJsrWoosGesujAUW6ipuVDjklFlVimh6dwHB6j6epyBjqm6NeUaqp2um4aUisegLlq3zGasWstCbngYePqOqNk5/yiqivVQAbbHJZqrJlQD/awsH/ocqKySwVzj7L339cliPALZNmu6yf3lp5pi0SuHjMiBWaW+m2U3Sbbm7D2tKAu70EgOYfu8rbK7r3IqkBsX8oUA50toAqsKWAFUxrtJ6A2E2ujzj8sKgES4wkxZ0YWwqynmC7sbYde4xjo7WEG8u4tZh8MsSUqUwry9LyK4q/Mc88b8o2q4hzKgr3gnAfMvvMsaJBLzq0JxHugnEjSSsNJ9NN//l0Jy5fArMqVVtNJNBZc7j1I+2+wjPYYv+Mddlyokr0KwR2onHbV18Kt6kgOxK1KCRnjLfbeu+Nad+NdG3I2roOTnjEhmN6sCoNiFL3IwE7DivZke83eSp/JxJ4/yPlaj7w252r+y8bip+z+hqUmo4y6qkjeXYjlSdyuSNhy34gvQPYWztut/8R+h3VenK372MWPvyfiPeRdiGMc5I58zRj97zkr6dR9B1T81E69rM7v72ZqrQORgBsk7857ecLnUrudez+x/Lu2we88PGjFj0fxxvD1zjxgPydznz9M1j3sDA9ORxNDbEzYN4gl0BGpcJiZEgeJ/AnQQRxroJJSoXOMPHALBSwg+WjIAitpIEF4oIMo/NDBFHYPBWu0HapUJ8RqucIDtLQOh+8YW7+t4bvfSGG4vthCmsmxDK10BM6HAIPqabE7OWniRbshBGXgEQ2XK+KvwsiFlNTQv8sRPEFU/zDDMF4HzGO8TIX8MQWkaDBHrJxaQh8I4OIqIYRvqCMVuDAHfFoQz0yyAMVW0IdqTjIscHPkCHshB9ZYL8kNtKReYSkelxYhQAOYYC8uyQmC6nJU3VCAkkInxpOKMowPrKUuHkiJ0SmAvZ1onetLM3+YIkjuTlijjDo4ipzWUMm8pJBsnzEGU8AyCrgkpiR2eUxOeTLRmBQCKD8AyuZh4GbePOb4Ayn/tw4Ta0gkhOoJIIq0+BDsSGAE+N85WAiYIB62vOe+MRnBPrHxyzQ0gScnIIg3ffOR8Qzk6ihZz4Xms99xu+cjwDmChbphy/KrqCOOCgpU6NQhnr/1AAOjV8zqTDJEVSSDWs0HUYboVFjJqejH11oSM9XPDb8UwS2xJwBV/qHlmovPTCNqT4rGNAB0K8FFEXaTuHZRnkKJqhCtedMz1fNP5T0pGoYaP546gefXhGoUZVpBSHqtxfYTYJc7YNXFbQfqIZ1qucb6QAkaoKk8iFM2EsrH9aqobaGtaEgrOka/LhOLGyToEz1oFPf4taownV7GghZC+TazsHplQ18tZFf/3rPx26vn1e4Zgw6kVLfXXYNmTXSZjlbT88+T7BpSKcKhGlCFJ5WDaml0mpZ69rnFVV9WGWnbRNbHWlqp7FC7e3wQGsFT5KAtMM1aFMRehnkxlS5/7WDbRbo+oFs9uGwWyUuEBfrFut+FLupiywnZms9Gt42Dbkl1W45i97UyVVxwc3CM1UqXuIY96WslaoQtYsF536gEz98bxbiK6v5/rW+nYtjREf7CPDmjwAPyLCGN8xhDjP4V+X8U0BlWwLaYqGy0KzNf0OMI+ZWISyFvcJ+U6xicrJ4MAS+wqDkSuMl/vTGgOKEaEVAwB5bka1ARhIn5uhdPljUyIqlbpJzM1ISI4MTM4ZyNG08Za1UtQ8IMfEVSqvlGpO3y4LJsRW4lN8raLXMH24WmjlEVuOVYKQWhrN/uTxnCwi5BO3Vc5y51WcGjdSITWYDigVtmjMXOisuBv8ECRK9hiwzWi18nvOX+UACMVvh0tPd6KPhyAkeeboKoI6yqEc9GAk7gkdttkKeUw2ZFbM6NZz4W6yrMGta88XWt75MQP820if7+teZnvNIMRjoY+sy2Wg+9Aiw7GzaADvYg9l0Eaf9CEvT+trYfou21fA9alebNOAOt1bUXAVuZ/Tc6IZ2l13dCHezFN5bdjSr6f0He/cU37WW95T57Qd/dxXgfUm3urfCiThUGOEJF/iUS01kR/Qa38CTwAUWjhqKH9jiEEc22jbO8cF4/OEhb/TISy6Yk4M85Zg+JclZnhWXkw7mMZc5zWuuzIrfHOdRAZ4VNL5zP/f84z8HutD/hz7zkttcm0APei2IzvKn++Hi8Faw9Jqubqv34c041zofqK5ugvcBJP2FudjZQHZsm53TPr931KOydlZwfd/rjfu/5053dt390W9ng8H7gFeg110NbR81u6kweD54+9yHj+3fNf0I+pmb71KJfBYS3+dxe6/xisY8WjTPwMlPOdJzHUGxRT96v4962SbVKeunQvorcH7Kw479y2efedf3OdcjOLVAed/6qZu+nHX2g6nTPvvaMx3NgV8Dj+xaaeIXfxW3L+fipzDpy1u/78afsufTAGjZf7/34QeytEkQUGPz3vlVyD4sA7rFXVMB66yHPxXkD0n1lpUEMfZp55cW//oHCMenR9GnBmoifFPweFFXgAPAf280flnAJZSmBouGeRAogViEegOAB802gNcnLQfYRAF1VKr3CGAnguiHfSW4QsnXB0P2AfZHBYXHghv4ghW0fQPgSQw4ABmYf75nSB7oMheYBu4ngjkISUWVApywgixIe0OIRTHIB3QlVzcYhRWwhGPEgzMoAgFYBUH4flN4Qx7IKdQ3TFoIGVwoREXlLjn1bmuYFhuwdKU3YJyAgiZAWXM4FRsAgfung51DgVjwhSMQhlSQhNbXTcLAgcNTVMaShrilhd3EAS8hiBHWCS1wVue3AQSAAJbIHJg4iEvWAjU4BYoIahiwiqzYiv+r+IkIkGHi4Ii+BXwsIIlpQGapZoeNOIqdw4MD4Edx2AhjCGW8qCW+2DkeqIcpIFf4x2jHWIY3lEzW9AI/OABZuIsVQYvbA4zLNIwAA3DRSDkaYEhyxYwqIFcDII4N0QDliICdYIgocI3FSGPj2An8UzseOADLhFOd8Ixwdo+OIAEMoEn+5wjouAKn2IDwJpB/0ADJ+DyEWGBEgItZkIqhAhWa45A/ViYAAGGYUlTBWAQimY2vQgAM6Tgc+QkRaRkA0FpBA4zctQKImIgng5JU4IChspKbV5CL8pICpjIieVMg2AkmySc46UyDw5Oy8o5/ApSd5THAmJAusJADgJH/Q5KUVqCTB8QMHeABpgKVQ1UwImlgLmCRWXCUWakGXOlj7LIAYBmW53UvwDiSSKCOWHkgWqlfYrOSBOmUmCKWDAWSDCKS8miNnqCWeqlUSiOQErAALZkbgulRhFkrUPQcIgmQ5bGX1ecz0dgAkHkvkzmXpkKNjTCTMFCTOVkpnMkGbVlMD7kADACY3jKa12UqE4kFRLkC4Ah1SLlBM6NwtAIBAQaTf+IBIkmV6qQ8b9KaflCPriRlkkOcxWmcZbKPA7CbApEKukgczhmODyOcf6IBE1CdUakunqCcRaCaqLiWqzA+2SKeZWJe9GUl6pidYdCbf/CaGAAMr7ln+sYg/7ZpnrRpSp2gnkbAngOgmX0BiEBoLvKpIhpAneaZTwCAI8iZJrKQCnnZoMAAn4/jUqYSAeVZoRaKJPeJoEegoAPwnw76oK8SoftBASa6UBe6Mqmgnb4gkgs6JC8KJjspceVVojV6TzeqIhmqRXRwje05Iy8Ko10poixEoUVqT0eqIvfJj3WQpf+5hcJwLVHakVZCo1WKT1dKTRdkB2iZBRzQnbTxpAuqmNYmcQBApGVaT2fKIAnIdiWlBFY5BQzKhgVCSFLaVlR6pwaQp57Doz1IPaoAnVIoHa8po4IBAIeKqIq6H9hpVGPRPk46H/VIqVmhAXWKqCdqJXU5Bf3IBP8M4wltGiXfaS0mMl7SyViXaqoghT5zgwhHyAaBChmxSi4E4KZSR14aQAF2iqtBiSRJekp9CgZ/2qRD0p/pIBzdKZzHmqzKWk8TUKDIlKX4SQlpRIxiggFMaUIIEDbXRqrIuq0MBQHeukeqgJp0sKbCFSUZcK6rhBPY8l8RYKna6q73RAF/kpub96xjwKIpGSVwqk02EYqN0AEUAAEBK7CAlUU5OgqtmgpyShvU6hJs4AAWG1XdqjWrQK930Ku+Sqy1ka8guwYiO7IfRbB/si7zg7BzwKT3x7K1EawuEbMym08TUJmoYbM5FAvRCqg8Sxt1+LJYALRBa08UEK8rwqj/U2CWlTCupLO0tOGzHQG1QTu0mGK0ctQLKruyiNK0TjsFYDuyUzu2VhuBOLsYksK1HguxINu27gqvpkK2l2kMSau0Gem0eourYtu3cduox7CxrWK3tJEBDasKhXunE5CpqvMhIpG4YBoqf9gSk1ulb3sz+jK3lHC2jscrnfu1yjoBoSu6U0e6lWCvawCppQG5HPG51Vm56bKp8beqpaCwVdCh9oFhDYG7rAUBRKsevFsFOvq7t6An5sKIBGG8JNu6z5IvttC8dEMuHXshGUC880C9H4W8EuO3oKMQ4GoFtFsc36uvViC++QQBlksrBssGh+kNjFsiJ/O9oIgN8GsA/6ybvBKavlVwvwtDwPfXveUKvsJgvBMgv1TrLeabpjGRv8liNZ4Yi7egtw9MAREQwfdSv/ZrFxasCiCqNBmAAZ8oi5wgshAAARTwkRGGwFRgwPhQwo/KPKJaMCI8wq+Bw40rOzsswTRcw+ABxKmwvu9TqxKzHstgwxiBxJ7gKngzxKZiK8EAxSEBHM/ruGH6VXCjKcGAtZ4BvEjYNlbsRMubBtqLETq7BkFiNWmMI+uRuAzku2IBI1+qxKpWqOlSx9mAx3YBL80Qxxszx+kByC3SI7VUxFhgyPKCyFeiJNegxRJixl7kxbS6anLiAWtsU4z8AnrcDOmqLJJ8GQzgyP9Z8B6h3AJ4IQ7WGqQBihseQMnhkBitDANcfA2zscScnMipLA9knMsoMMrh0MsT5MfA/Ml+wMrE7Auq7GTDOkrKjC+7sQ/f8cxG8MZTrJF9LKb80RUEASDafASvnBfePKfGOhTRnDCwW84lZsetwq/x9kgaEBfynJ5tDM8nMCAmURP82q8pEhQL0BX5vArZzM9eYMwmwcID2QDtbAsKIMgKLSDcvLYgS84VLQb+jNEe7Qf/sNF0cM4fXdJWkNAiXa8RbdInQdEpTUcrzdK1MNEvHbsxLdNL5tI1vdA3jdN9QNM7TQrg4NMEQQ5BDQsCgMlEPXYhfdS7gA5LfRL77NR1haAHUf0fKE3Vi1sAPQ2y7KDV9wDVV22FxADWN3wAXc0PufDOZs0LmXDQBAEKbe0cixC4+9AKbD3X7lDXaV15kpDXeg0RecAI7cgDOh3YdE0DOADXVeAGPPADiK3XM1ADUIADR7MDXCAAgB3ZnN3Znv3ZdhACADs=",
        "encoding": "base64",
        "path": [
         "value"
        ]
       }
      ],
      "model_module": "@jupyter-widgets/controls",
      "model_module_version": "1.5.0",
      "model_name": "ImageModel",
      "state": {
       "format": "gif",
       "height": "200",
       "layout": "IPY_MODEL_deee1a95874c4dd4af51ca82a14613dd",
       "width": "200"
      }
     },
     "68d150ca2bb441cb9633d0d62013c0a3": {
      "model_module": "@jupyter-widgets/base",
      "model_module_version": "1.2.0",
      "model_name": "LayoutModel",
      "state": {
       "border": "1px solid black"
      }
     },
     "68ec2da410a2464aa55c9bbe40f20d0c": {
      "model_module": "@jupyter-widgets/controls",
      "model_module_version": "1.5.0",
      "model_name": "BoundedFloatTextModel",
      "state": {
       "description": "Text:",
       "layout": "IPY_MODEL_38f6c8e891bc455eb419e6293c0c3dab",
       "max": 10,
       "style": "IPY_MODEL_ebd084bdaa084a6cacf63b60fcfbb6ef",
       "value": 7.5
      }
     },
     "6b7b27c1edd6448e9afbe1ed508a9c24": {
      "model_module": "@jupyter-widgets/base",
      "model_module_version": "1.2.0",
      "model_name": "LayoutModel",
      "state": {}
     },
     "6c0666e2469b42949bface9fd9de99d4": {
      "model_module": "@jupyter-widgets/base",
      "model_module_version": "1.2.0",
      "model_name": "LayoutModel",
      "state": {}
     },
     "6c93012858b747ee967cdb6878ea6fae": {
      "model_module": "@jupyter-widgets/controls",
      "model_module_version": "1.5.0",
      "model_name": "DescriptionStyleModel",
      "state": {
       "description_width": ""
      }
     },
     "6d0c780b23824050b64fe044de32d948": {
      "model_module": "@jupyter-widgets/controls",
      "model_module_version": "1.5.0",
      "model_name": "VBoxModel",
      "state": {
       "children": [
        "IPY_MODEL_d8eb198c4ae84a058e147353f54aa37b",
        "IPY_MODEL_3666bde02bb84495b84cddb4af04ab3c"
       ],
       "layout": "IPY_MODEL_24753765ec82456a94239ec09f955299"
      }
     },
     "6d8556c0367f45e1b802da81285a9783": {
      "model_module": "@jupyter-widgets/base",
      "model_module_version": "1.2.0",
      "model_name": "LayoutModel",
      "state": {
       "border": "1px solid black"
      }
     },
     "6eb9b884599640519f709ccbfbb7bebe": {
      "model_module": "@jupyter-widgets/controls",
      "model_module_version": "1.5.0",
      "model_name": "SelectionSliderModel",
      "state": {
       "_options_labels": [
        "scrambled",
        "sunny side up",
        "poached",
        "over easy"
       ],
       "continuous_update": false,
       "description": "I like my eggs …",
       "index": 1,
       "layout": "IPY_MODEL_23c5733b8dba4a5ba5166aab9dcc6e56",
       "style": "IPY_MODEL_64070e7d8cff45d3a8804f344aea9f21"
      }
     },
     "6ed266be750042a9bbd3bb30b506ff58": {
      "model_module": "@jupyter-widgets/controls",
      "model_module_version": "1.5.0",
      "model_name": "LabelModel",
      "state": {
       "layout": "IPY_MODEL_8e0245e4885440aeb7518df7a955f956",
       "style": "IPY_MODEL_58aab2eca9ee47acafdf8c2cd0f5b2bc",
       "value": "0"
      }
     },
     "6facd0a3a0a94a27b584560fe82cb02f": {
      "model_module": "@jupyter-widgets/controls",
      "model_module_version": "1.5.0",
      "model_name": "ToggleButtonModel",
      "state": {
       "description": "Click me",
       "icon": "check",
       "layout": "IPY_MODEL_b424f850771146c9889ba1fe66694f4b",
       "style": "IPY_MODEL_100992258d5b4c858b3ddfeb0c2219f4",
       "tooltip": "Description"
      }
     },
     "71071844670041cbb013b1a6454bd659": {
      "model_module": "@jupyter-widgets/controls",
      "model_module_version": "1.5.0",
      "model_name": "DescriptionStyleModel",
      "state": {
       "description_width": ""
      }
     },
     "720376c01d7d4c03af8a4a5a893c6691": {
      "model_module": "@jupyter-widgets/controls",
      "model_module_version": "1.5.0",
      "model_name": "SelectionSliderModel",
      "state": {
       "_options_labels": [
        "scrambled",
        "sunny side up",
        "poached",
        "over easy"
       ],
       "continuous_update": false,
       "description": "I like my eggs …",
       "index": 1,
       "layout": "IPY_MODEL_a6ba59cadeb0495d98cafd0446591e56",
       "style": "IPY_MODEL_d1e436beb7e148de9a0a6c32a5bf4550"
      }
     },
     "72d73eeca2e940b2a3f651a074aff2c3": {
      "model_module": "@jupyter-widgets/base",
      "model_module_version": "1.2.0",
      "model_name": "LayoutModel",
      "state": {}
     },
     "736254731cc448f79523b477542ea5b3": {
      "model_module": "@jupyter-widgets/controls",
      "model_module_version": "1.5.0",
      "model_name": "TextModel",
      "state": {
       "description": "P0",
       "layout": "IPY_MODEL_8d4079b48d9443b6b6e57e7abf8802cf",
       "style": "IPY_MODEL_8fe5fc528d59401f9669bec66ef1a280"
      }
     },
     "740385346f0a4ecfb4c9d4e7072f46bb": {
      "model_module": "@jupyter-widgets/base",
      "model_module_version": "1.2.0",
      "model_name": "LayoutModel",
      "state": {}
     },
     "74a759838bf34015b5b7b8ea55b8be22": {
      "model_module": "@jupyter-widgets/base",
      "model_module_version": "1.2.0",
      "model_name": "LayoutModel",
      "state": {}
     },
     "75ea312a507f4688b8ae36d4a821baec": {
      "model_module": "@jupyter-widgets/base",
      "model_module_version": "1.2.0",
      "model_name": "LayoutModel",
      "state": {}
     },
     "7673e110a7ec4dd6b56af01d3a50ba12": {
      "model_module": "@jupyter-widgets/base",
      "model_module_version": "1.2.0",
      "model_name": "LayoutModel",
      "state": {}
     },
     "770d1a37ea5e4532926fea608ac86752": {
      "model_module": "@jupyter-widgets/base",
      "model_module_version": "1.2.0",
      "model_name": "LayoutModel",
      "state": {}
     },
     "77466eb46bbe449db481bb1a5400484e": {
      "model_module": "@jupyter-widgets/controls",
      "model_module_version": "1.5.0",
      "model_name": "TabModel",
      "state": {
       "_titles": {
        "0": "An accordion",
        "1": "Copy of the accordion"
       },
       "children": [
        "IPY_MODEL_2b53aaf6b28448bcaf7f723e22369dd4",
        "IPY_MODEL_2b53aaf6b28448bcaf7f723e22369dd4"
       ],
       "layout": "IPY_MODEL_2d95f83f083e4a9baad255e79baf77d4"
      }
     },
     "77a561e258964e39aa0bc468b777790e": {
      "model_module": "@jupyter-widgets/controls",
      "model_module_version": "1.5.0",
      "model_name": "LabelModel",
      "state": {
       "layout": "IPY_MODEL_eaad72415ca3496190b1445b2a165799",
       "style": "IPY_MODEL_40698fd64f0f4baab4531f23a5f118b4",
       "value": "0"
      }
     },
     "78df5a4fc9e545478baed814e2908b5d": {
      "model_module": "@jupyter-widgets/base",
      "model_module_version": "1.2.0",
      "model_name": "LayoutModel",
      "state": {
       "border": "1px solid black"
      }
     },
     "79722b88b73f44cd918ff046d30f8811": {
      "model_module": "@jupyter-widgets/base",
      "model_module_version": "1.2.0",
      "model_name": "LayoutModel",
      "state": {}
     },
     "7b53a76f13984d668186cd1be13d0270": {
      "model_module": "@jupyter-widgets/controls",
      "model_module_version": "1.5.0",
      "model_name": "DescriptionStyleModel",
      "state": {
       "description_width": ""
      }
     },
     "7ba77fc4d02645dc860d485602dc7462": {
      "model_module": "@jupyter-widgets/controls",
      "model_module_version": "1.5.0",
      "model_name": "SliderStyleModel",
      "state": {
       "description_width": ""
      }
     },
     "7bc916bc45b7472c98e883333686234e": {
      "model_module": "@jupyter-widgets/base",
      "model_module_version": "1.2.0",
      "model_name": "LayoutModel",
      "state": {}
     },
     "7cafd6fb335e4a218b91623c4dbfefac": {
      "model_module": "@jupyter-widgets/base",
      "model_module_version": "1.2.0",
      "model_name": "LayoutModel",
      "state": {}
     },
     "7d095bbf8ff24bb68e5b651f63d122e4": {
      "model_module": "@jupyter-widgets/controls",
      "model_module_version": "1.5.0",
      "model_name": "TextModel",
      "state": {
       "description": "String:",
       "layout": "IPY_MODEL_b346ece6102e4eff9bc43ef5f6a17763",
       "placeholder": "Type something",
       "style": "IPY_MODEL_d3828b4e55ab48208067cf2fb87e9e19",
       "value": "Hello World"
      }
     },
     "7dbf0c22beb94f96a562db0024f29bd2": {
      "model_module": "@jupyter-widgets/controls",
      "model_module_version": "1.5.0",
      "model_name": "DescriptionStyleModel",
      "state": {
       "description_width": ""
      }
     },
     "7df4e43cd7f849fc97a358ceeb87b6ae": {
      "model_module": "@jupyter-widgets/controls",
      "model_module_version": "1.5.0",
      "model_name": "DescriptionStyleModel",
      "state": {
       "description_width": ""
      }
     },
     "7e14d563ddc04232a57c214c04e74478": {
      "model_module": "@jupyter-widgets/controls",
      "model_module_version": "1.5.0",
      "model_name": "PlayModel",
      "state": {
       "description": "Press play",
       "layout": "IPY_MODEL_0723aa09e91d41659991dc25c91407cb",
       "style": "IPY_MODEL_5bed77931a69458496a23de63db7df26",
       "value": 50
      }
     },
     "7e631b7decf74bda873e60f6aeed5aba": {
      "model_module": "@jupyter-widgets/controls",
      "model_module_version": "1.5.0",
      "model_name": "DescriptionStyleModel",
      "state": {
       "description_width": ""
      }
     },
     "7fa66c024a754a6397c03debee6fecf4": {
      "model_module": "@jupyter-widgets/controls",
      "model_module_version": "1.5.0",
      "model_name": "DescriptionStyleModel",
      "state": {
       "description_width": ""
      }
     },
     "7ffc7400d2b94ae9a2255d6523ffe127": {
      "model_module": "@jupyter-widgets/base",
      "model_module_version": "1.2.0",
      "model_name": "LayoutModel",
      "state": {}
     },
     "8165cef524794487a2490a73ac920e64": {
      "model_module": "@jupyter-widgets/controls",
      "model_module_version": "1.5.0",
      "model_name": "ButtonStyleModel",
      "state": {}
     },
     "81bb56244731402ea6ce6464af66e05f": {
      "model_module": "@jupyter-widgets/controls",
      "model_module_version": "1.5.0",
      "model_name": "ButtonStyleModel",
      "state": {}
     },
     "8209614f010f4efb9edb7ebe6fc22f08": {
      "model_module": "@jupyter-widgets/controls",
      "model_module_version": "1.5.0",
      "model_name": "SelectionSliderModel",
      "state": {
       "_options_labels": [
        "scrambled",
        "sunny side up",
        "poached",
        "over easy"
       ],
       "continuous_update": false,
       "description": "I like my eggs …",
       "index": 1,
       "layout": "IPY_MODEL_c5f63d987fcd43d48800789b86f714ba",
       "style": "IPY_MODEL_afa5f3b4cd4d4355954a89388956c240"
      }
     },
     "83833b1c51674e7583eb527d529c35ac": {
      "model_module": "@jupyter-widgets/base",
      "model_module_version": "1.2.0",
      "model_name": "LayoutModel",
      "state": {}
     },
     "841bbfeb63ef4d68be3f0533a52bc572": {
      "model_module": "@jupyter-widgets/controls",
      "model_module_version": "1.5.0",
      "model_name": "IntSliderModel",
      "state": {
       "layout": "IPY_MODEL_d3ab4ab7305d423788a6675412611854",
       "style": "IPY_MODEL_219e66449ce44efcad98cbea38591811"
      }
     },
     "8427877544d74355833d5c5b18ea20b2": {
      "model_module": "@jupyter-widgets/controls",
      "model_module_version": "1.5.0",
      "model_name": "FloatSliderModel",
      "state": {
       "continuous_update": false,
       "description": "Test:",
       "layout": "IPY_MODEL_9840f4ccacad4e7baccc4ec4170eec7f",
       "max": 10,
       "readout_format": ".1f",
       "step": 0.1,
       "style": "IPY_MODEL_1bf7b762a56c4b00a486c273dfda4f7e",
       "value": 7.5
      }
     },
     "845bcde0f9344337a321f44b17e78f24": {
      "model_module": "@jupyter-widgets/controls",
      "model_module_version": "1.5.0",
      "model_name": "DescriptionStyleModel",
      "state": {
       "description_width": ""
      }
     },
     "84b8048c55ae417c82042e2148d0d264": {
      "model_module": "@jupyter-widgets/base",
      "model_module_version": "1.2.0",
      "model_name": "LayoutModel",
      "state": {}
     },
     "84ec52af8c484529b8876aa91805854d": {
      "model_module": "@jupyter-widgets/controls",
      "model_module_version": "1.5.0",
      "model_name": "TextModel",
      "state": {
       "description": "P3",
       "layout": "IPY_MODEL_48d403d6b9dd4e43a4ba527e74808726",
       "style": "IPY_MODEL_1a7ef0e2a65a4ac19f4dcf5d48fd363b"
      }
     },
     "85dc0683217f496f9c20d3b012502545": {
      "model_module": "@jupyter-widgets/base",
      "model_module_version": "1.2.0",
      "model_name": "LayoutModel",
      "state": {}
     },
     "86c3daa971be48d7a23afb697b30abad": {
      "model_module": "@jupyter-widgets/base",
      "model_module_version": "1.2.0",
      "model_name": "LayoutModel",
      "state": {}
     },
     "86fa6d7278dd4358b35f51f1c914cadd": {
      "model_module": "@jupyter-widgets/base",
      "model_module_version": "1.2.0",
      "model_name": "LayoutModel",
      "state": {}
     },
     "87149998e08c48478f2a83427d8cdb5e": {
      "model_module": "@jupyter-widgets/controls",
      "model_module_version": "1.5.0",
      "model_name": "TextModel",
      "state": {
       "description": "String:",
       "layout": "IPY_MODEL_32100633b94b438b83c1165ef598cfb9",
       "placeholder": "Type something",
       "style": "IPY_MODEL_c0f8543e4dea4d00b1e18f92369f7661",
       "value": "Hello World"
      }
     },
     "87a51af2bfc44bb7b542ab117a2aca55": {
      "model_module": "@jupyter-widgets/base",
      "model_module_version": "1.2.0",
      "model_name": "LayoutModel",
      "state": {}
     },
     "8896b60c8ee749409382adbe92330671": {
      "model_module": "@jupyter-widgets/controls",
      "model_module_version": "1.5.0",
      "model_name": "DescriptionStyleModel",
      "state": {
       "description_width": ""
      }
     },
     "89332fb15c8949e8a7822517ca35e0c4": {
      "buffers": [
       {
        "data": "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",
        "encoding": "base64",
        "path": [
         "value"
        ]
       }
      ],
      "model_module": "@jupyter-widgets/controls",
      "model_module_version": "1.5.0",
      "model_name": "ImageModel",
      "state": {
       "height": "400",
       "layout": "IPY_MODEL_4b7aa86ab2c2433b92c6ea6415e3366e",
       "width": "300"
      }
     },
     "896e1b69746e49c38ff18b95c8c27aca": {
      "model_module": "@jupyter-widgets/controls",
      "model_module_version": "1.5.0",
      "model_name": "DescriptionStyleModel",
      "state": {
       "description_width": ""
      }
     },
     "8af85760a61449dcb09747e9f3709196": {
      "model_module": "@jupyter-widgets/controls",
      "model_module_version": "1.5.0",
      "model_name": "DatePickerModel",
      "state": {
       "description": "Pick a Date",
       "disabled": false,
       "layout": "IPY_MODEL_f1eda5a6dada4c2b8bd1eb334b99e597",
       "style": "IPY_MODEL_92a722893aad4234a74cf116b2c3062a"
      }
     },
     "8b3cd94a832d47ba9be2bb6af674f583": {
      "model_module": "@jupyter-widgets/base",
      "model_module_version": "1.2.0",
      "model_name": "LayoutModel",
      "state": {}
     },
     "8b78c09a0a4f4a7aa9b8238cb5f13a50": {
      "model_module": "@jupyter-widgets/controls",
      "model_module_version": "1.5.0",
      "model_name": "LabelModel",
      "state": {
       "layout": "IPY_MODEL_e1c6d630c3a9477a9b798a39753b80e2",
       "style": "IPY_MODEL_9953107262594c559abd225fd35b92b7",
       "value": "1"
      }
     },
     "8c3be5b6b5ec4a918bd8b674bfef501b": {
      "model_module": "@jupyter-widgets/controls",
      "model_module_version": "1.5.0",
      "model_name": "VBoxModel",
      "state": {
       "children": [
        "IPY_MODEL_21bad7923fe640df8745ab1eb60d1ef1",
        "IPY_MODEL_413b6fc97079450694a6bdcdd28458aa"
       ],
       "layout": "IPY_MODEL_ebd66356a4bd41bcb08bbb71c6778c33"
      }
     },
     "8c592b3388bc4f2e977b8b6a0a63f95b": {
      "model_module": "@jupyter-widgets/output",
      "model_module_version": "1.0.0",
      "model_name": "OutputModel",
      "state": {
       "layout": "IPY_MODEL_c78d6504e9f9436eb61bbabf60f54d59",
       "outputs": [
        {
         "name": "stdout",
         "output_type": "stream",
         "text": "Output appended with append_stdout"
        },
        {
         "data": {
          "image/jpeg": {},
          "text/html": "\n        <iframe\n            width=\"400\"\n            height=\"300\"\n            src=\"https://www.youtube.com/embed/eWzY2nGfkXk\"\n            frameborder=\"0\"\n            allowfullscreen\n        ></iframe>\n        ",
          "text/plain": "<IPython.lib.display.YouTubeVideo at 0x11025f510>"
         },
         "metadata": {},
         "output_type": "display_data"
        }
       ]
      }
     },
     "8cb9b7f8cd9a46cf86fb468a13fbefa6": {
      "model_module": "@jupyter-widgets/base",
      "model_module_version": "1.2.0",
      "model_name": "LayoutModel",
      "state": {
       "border": "1px solid black"
      }
     },
     "8d4079b48d9443b6b6e57e7abf8802cf": {
      "model_module": "@jupyter-widgets/base",
      "model_module_version": "1.2.0",
      "model_name": "LayoutModel",
      "state": {}
     },
     "8d6ab17122854500a28fb0cf2a7165b7": {
      "model_module": "@jupyter-widgets/controls",
      "model_module_version": "1.5.0",
      "model_name": "DescriptionStyleModel",
      "state": {
       "description_width": ""
      }
     },
     "8da1c9244a1640f99173817acac726d0": {
      "model_module": "@jupyter-widgets/controls",
      "model_module_version": "1.5.0",
      "model_name": "BoundedIntTextModel",
      "state": {
       "description": "Text:",
       "layout": "IPY_MODEL_f45cb407d27b433e87063971fab58354",
       "max": 10,
       "style": "IPY_MODEL_1a6c6dad47304ea3b7b26137172c94ba",
       "value": 7
      }
     },
     "8e0245e4885440aeb7518df7a955f956": {
      "model_module": "@jupyter-widgets/base",
      "model_module_version": "1.2.0",
      "model_name": "LayoutModel",
      "state": {}
     },
     "8e043f259426425f99a56b3dc6672d6b": {
      "model_module": "@jupyter-widgets/controls",
      "model_module_version": "1.5.0",
      "model_name": "SelectionRangeSliderModel",
      "state": {
       "_model_name": "SelectionRangeSliderModel",
       "_options_labels": [
        "Jan",
        "Feb",
        "Mar",
        "Apr",
        "May",
        "Jun",
        "Jul",
        "Aug",
        "Sep",
        "Oct",
        "Nov",
        "Dec"
       ],
       "_view_name": "SelectionRangeSliderView",
       "description": "Months (2015)",
       "index": [
        0,
        11
       ],
       "layout": "IPY_MODEL_318811d1979945dba762a8c2e2e01829",
       "style": "IPY_MODEL_4f0637f02e664b93b4a68d5396c89f1d"
      }
     },
     "8ead03a4cc5e4898ab00e4c3addc824a": {
      "model_module": "@jupyter-widgets/controls",
      "model_module_version": "1.5.0",
      "model_name": "SliderStyleModel",
      "state": {
       "description_width": ""
      }
     },
     "8fe5fc528d59401f9669bec66ef1a280": {
      "model_module": "@jupyter-widgets/controls",
      "model_module_version": "1.5.0",
      "model_name": "DescriptionStyleModel",
      "state": {
       "description_width": ""
      }
     },
     "902073e36faf4bdc99450a63d503bd18": {
      "model_module": "@jupyter-widgets/controls",
      "model_module_version": "1.5.0",
      "model_name": "ProgressStyleModel",
      "state": {
       "description_width": ""
      }
     },
     "9082e1d2ea864c5fb754e6234b9a7e41": {
      "model_module": "@jupyter-widgets/base",
      "model_module_version": "1.2.0",
      "model_name": "LayoutModel",
      "state": {}
     },
     "908903d126434ef0b0e772156f7d31cd": {
      "model_module": "@jupyter-widgets/base",
      "model_module_version": "1.2.0",
      "model_name": "LayoutModel",
      "state": {}
     },
     "92a722893aad4234a74cf116b2c3062a": {
      "model_module": "@jupyter-widgets/controls",
      "model_module_version": "1.5.0",
      "model_name": "DescriptionStyleModel",
      "state": {
       "description_width": ""
      }
     },
     "92d49fa312b64cd7aea6ce97eb654edc": {
      "model_module": "@jupyter-widgets/controls",
      "model_module_version": "1.5.0",
      "model_name": "DescriptionStyleModel",
      "state": {
       "description_width": ""
      }
     },
     "939e6ae34a244b78b268bd3d196f5e61": {
      "model_module": "@jupyter-widgets/controls",
      "model_module_version": "1.5.0",
      "model_name": "ToggleButtonModel",
      "state": {
       "description": "Click me",
       "icon": "check",
       "layout": "IPY_MODEL_e6403ebe03d142ba83d7bb93f44084ed",
       "style": "IPY_MODEL_23e7196bd511416b94516ddab4fb2ab6",
       "tooltip": "Description"
      }
     },
     "96148630873b466fb406720933b53c62": {
      "model_module": "@jupyter-widgets/controls",
      "model_module_version": "1.5.0",
      "model_name": "DescriptionStyleModel",
      "state": {
       "description_width": ""
      }
     },
     "965f80dfa03b4bd5bc53f641a55dfe21": {
      "model_module": "@jupyter-widgets/controls",
      "model_module_version": "1.5.0",
      "model_name": "DescriptionStyleModel",
      "state": {
       "description_width": ""
      }
     },
     "9662c855f0ba42288ec1cdc0a6dd5d2f": {
      "model_module": "@jupyter-widgets/controls",
      "model_module_version": "1.5.0",
      "model_name": "DescriptionStyleModel",
      "state": {
       "description_width": ""
      }
     },
     "96bd392512d6449fba38a96b15fc0584": {
      "model_module": "@jupyter-widgets/controls",
      "model_module_version": "1.5.0",
      "model_name": "FloatSliderModel",
      "state": {
       "layout": "IPY_MODEL_72d73eeca2e940b2a3f651a074aff2c3",
       "step": 0.1,
       "style": "IPY_MODEL_a4efe41dfe5d4a0f8dfb25bc52eed7b6"
      }
     },
     "97074dc656104f65a8a4bb1264f90156": {
      "model_module": "@jupyter-widgets/base",
      "model_module_version": "1.2.0",
      "model_name": "LayoutModel",
      "state": {}
     },
     "97984c60db55452fa77e975ec190ced3": {
      "model_module": "@jupyter-widgets/controls",
      "model_module_version": "1.5.0",
      "model_name": "DescriptionStyleModel",
      "state": {
       "description_width": ""
      }
     },
     "98000a12a1aa4213860b1b2469d46bd5": {
      "model_module": "@jupyter-widgets/controls",
      "model_module_version": "1.5.0",
      "model_name": "LabelModel",
      "state": {
       "layout": "IPY_MODEL_534ab4c354804c02b608bf5887e91f72",
       "style": "IPY_MODEL_6448c40c06904dacb5d5525263dd2d55",
       "value": "The $m$ in $E=mc^2$:"
      }
     },
     "9815d00f47e9419bbe792946fb733960": {
      "model_module": "@jupyter-widgets/base",
      "model_module_version": "1.2.0",
      "model_name": "LayoutModel",
      "state": {
       "border": "1px solid black"
      }
     },
     "9840f4ccacad4e7baccc4ec4170eec7f": {
      "model_module": "@jupyter-widgets/base",
      "model_module_version": "1.2.0",
      "model_name": "LayoutModel",
      "state": {}
     },
     "992c5bc5f17c4629ad9ffa7ce5ee64f0": {
      "model_module": "@jupyter-widgets/controls",
      "model_module_version": "1.5.0",
      "model_name": "HTMLModel",
      "state": {
       "description": "Some HTML",
       "layout": "IPY_MODEL_ea02b15e97b044f085521788a6765e1f",
       "placeholder": "Some HTML",
       "style": "IPY_MODEL_ad5f82dfb87e47dcaf35b46cc7e13104",
       "value": "Hello <b>World</b>"
      }
     },
     "9953107262594c559abd225fd35b92b7": {
      "model_module": "@jupyter-widgets/controls",
      "model_module_version": "1.5.0",
      "model_name": "DescriptionStyleModel",
      "state": {
       "description_width": ""
      }
     },
     "9a788310fa7e49ae9b11656a60453a5e": {
      "model_module": "@jupyter-widgets/base",
      "model_module_version": "1.2.0",
      "model_name": "LayoutModel",
      "state": {}
     },
     "9a9cd162abb9495886a01ab0a8000344": {
      "model_module": "@jupyter-widgets/base",
      "model_module_version": "1.2.0",
      "model_name": "LayoutModel",
      "state": {}
     },
     "9b08dbb3cf3c482ab709e00e035abfb5": {
      "model_module": "@jupyter-widgets/controls",
      "model_module_version": "1.5.0",
      "model_name": "LabelModel",
      "state": {
       "layout": "IPY_MODEL_57feaba8913e4e06ae1daf43a301d129",
       "style": "IPY_MODEL_fa09b1f0f6df4fcdaac3d629c5e93eac",
       "value": "2"
      }
     },
     "9babd111bf6f452ca737160131fca7c2": {
      "model_module": "@jupyter-widgets/controls",
      "model_module_version": "1.5.0",
      "model_name": "DescriptionStyleModel",
      "state": {
       "description_width": ""
      }
     },
     "9bc5a565c2a644bf9d4cf24f4b65d228": {
      "model_module": "@jupyter-widgets/controls",
      "model_module_version": "1.5.0",
      "model_name": "SliderStyleModel",
      "state": {
       "description_width": ""
      }
     },
     "9d1434f3897040ef93dc66da0a923f6c": {
      "model_module": "@jupyter-widgets/controls",
      "model_module_version": "1.5.0",
      "model_name": "ControllerModel",
      "state": {
       "layout": "IPY_MODEL_5a5675e9053d4cfb92ff65677a5db755"
      }
     },
     "9d8e4617067746e9a3c715fca1e7dea6": {
      "model_module": "@jupyter-widgets/base",
      "model_module_version": "1.2.0",
      "model_name": "LayoutModel",
      "state": {}
     },
     "9dd61a4469ff49f69c8cd6cc9c7e7a90": {
      "model_module": "@jupyter-widgets/base",
      "model_module_version": "1.2.0",
      "model_name": "LayoutModel",
      "state": {}
     },
     "9e9eeb4cc6b647128e8f16affec76807": {
      "model_module": "@jupyter-widgets/controls",
      "model_module_version": "1.5.0",
      "model_name": "TextModel",
      "state": {
       "description": "String:",
       "layout": "IPY_MODEL_da6ed31102f8462fa6818c589ef1990c",
       "placeholder": "Type something",
       "style": "IPY_MODEL_d39dd364dbb948f3bbb5fa57f6cba68c",
       "value": "Hello World"
      }
     },
     "9edd9c0048474360b0b2694f934cb6e1": {
      "model_module": "@jupyter-widgets/base",
      "model_module_version": "1.2.0",
      "model_name": "LayoutModel",
      "state": {}
     },
     "9f95b44eaeb44422a4ec473c4bb95d99": {
      "model_module": "@jupyter-widgets/base",
      "model_module_version": "1.2.0",
      "model_name": "LayoutModel",
      "state": {}
     },
     "9f9fee0272f2460e9d233b0ab1a9a6e0": {
      "model_module": "@jupyter-widgets/controls",
      "model_module_version": "1.5.0",
      "model_name": "VBoxModel",
      "state": {
       "children": [
        "IPY_MODEL_bef434b0effb4d7d8411f4e3e0264e03",
        "IPY_MODEL_ccb51838a4724b8f9a1439b3f7ce73f7"
       ],
       "layout": "IPY_MODEL_c25f1b0c33dc439a80ea319940169b25"
      }
     },
     "9fbb92cb985d422da2da88a7852e876e": {
      "model_module": "@jupyter-widgets/controls",
      "model_module_version": "1.5.0",
      "model_name": "DescriptionStyleModel",
      "state": {
       "description_width": ""
      }
     },
     "a00fa875024349e6bef46e9328083eaa": {
      "model_module": "@jupyter-widgets/controls",
      "model_module_version": "1.5.0",
      "model_name": "DescriptionStyleModel",
      "state": {
       "description_width": ""
      }
     },
     "a27370f0e32842d396c552662b9950d7": {
      "model_module": "@jupyter-widgets/controls",
      "model_module_version": "1.5.0",
      "model_name": "LabelModel",
      "state": {
       "layout": "IPY_MODEL_e140dc7d9670437c8e15e1b796ef926e",
       "style": "IPY_MODEL_44a6721e9bc0496cbac08602f48d1829",
       "value": "1"
      }
     },
     "a306e7b798e4435eae99ece41e943390": {
      "model_module": "@jupyter-widgets/base",
      "model_module_version": "1.2.0",
      "model_name": "LayoutModel",
      "state": {}
     },
     "a4efe41dfe5d4a0f8dfb25bc52eed7b6": {
      "model_module": "@jupyter-widgets/controls",
      "model_module_version": "1.5.0",
      "model_name": "SliderStyleModel",
      "state": {
       "description_width": ""
      }
     },
     "a530c8418f1749cdb71151f300125858": {
      "model_module": "@jupyter-widgets/controls",
      "model_module_version": "1.5.0",
      "model_name": "IntProgressModel",
      "state": {
       "description": "Loading:",
       "layout": "IPY_MODEL_eff76e4f6d76416184c765f2e32a4553",
       "max": 10,
       "style": "IPY_MODEL_902073e36faf4bdc99450a63d503bd18",
       "value": 7
      }
     },
     "a6ba59cadeb0495d98cafd0446591e56": {
      "model_module": "@jupyter-widgets/base",
      "model_module_version": "1.2.0",
      "model_name": "LayoutModel",
      "state": {}
     },
     "a6cd890eb9da45a5817fb735932f9832": {
      "model_module": "@jupyter-widgets/controls",
      "model_module_version": "1.5.0",
      "model_name": "DescriptionStyleModel",
      "state": {
       "description_width": ""
      }
     },
     "a73be4a8c3284560aa0bf6d5549cfd37": {
      "model_module": "@jupyter-widgets/controls",
      "model_module_version": "1.5.0",
      "model_name": "DescriptionStyleModel",
      "state": {
       "description_width": ""
      }
     },
     "a89791c42c5f460b91417b12f2ac9b89": {
      "model_module": "@jupyter-widgets/controls",
      "model_module_version": "1.5.0",
      "model_name": "TextModel",
      "state": {
       "description": "P1",
       "layout": "IPY_MODEL_b02bc7ad693d4e0e869109fe6a25cdb6",
       "style": "IPY_MODEL_1e0c369744bc420e8735c7f047e19ee9"
      }
     },
     "a9592a2a20c346d59aebcdce9fb9c4bb": {
      "model_module": "@jupyter-widgets/controls",
      "model_module_version": "1.5.0",
      "model_name": "HBoxModel",
      "state": {
       "children": [
        "IPY_MODEL_0e45d24ce48347f68dbb6912fb2bba4f",
        "IPY_MODEL_eae20f1775744dc5933c9dffd584b108"
       ],
       "layout": "IPY_MODEL_0edf7b828fb64c2b8f79d2c4a4d46cf6"
      }
     },
     "aa2028feca5045a2a9497a3f56abf933": {
      "model_module": "@jupyter-widgets/controls",
      "model_module_version": "1.5.0",
      "model_name": "DescriptionStyleModel",
      "state": {
       "description_width": ""
      }
     },
     "aac5085a8fb44eccb81274a2326de379": {
      "model_module": "@jupyter-widgets/base",
      "model_module_version": "1.2.0",
      "model_name": "LayoutModel",
      "state": {}
     },
     "ab3e9e7b99bd436099f8668a44dea754": {
      "model_module": "@jupyter-widgets/base",
      "model_module_version": "1.2.0",
      "model_name": "LayoutModel",
      "state": {}
     },
     "ab812035dfbc4611b1b90eb0005b2dfd": {
      "model_module": "@jupyter-widgets/controls",
      "model_module_version": "1.5.0",
      "model_name": "DescriptionStyleModel",
      "state": {
       "description_width": ""
      }
     },
     "acbcb4d6dfa74b7fbcaa3fc17810c425": {
      "model_module": "@jupyter-widgets/base",
      "model_module_version": "1.2.0",
      "model_name": "LayoutModel",
      "state": {}
     },
     "ad5f82dfb87e47dcaf35b46cc7e13104": {
      "model_module": "@jupyter-widgets/controls",
      "model_module_version": "1.5.0",
      "model_name": "DescriptionStyleModel",
      "state": {
       "description_width": ""
      }
     },
     "ae0ce4a5052f4e119c55804de987098c": {
      "model_module": "@jupyter-widgets/controls",
      "model_module_version": "1.5.0",
      "model_name": "LabelModel",
      "state": {
       "layout": "IPY_MODEL_4593602f3b2b433c8524e37f111a59dc",
       "style": "IPY_MODEL_02760b3333034c0eaf1f65de063f77a9",
       "value": "2"
      }
     },
     "ae1439e990d54167ba2f2e0ff6521435": {
      "model_module": "@jupyter-widgets/base",
      "model_module_version": "1.2.0",
      "model_name": "LayoutModel",
      "state": {}
     },
     "aeb5c3f668434382ae291f8c92eee291": {
      "model_module": "@jupyter-widgets/controls",
      "model_module_version": "1.5.0",
      "model_name": "DescriptionStyleModel",
      "state": {
       "description_width": ""
      }
     },
     "af2d97b277194e0cbc0b1a7c418fd877": {
      "model_module": "@jupyter-widgets/base",
      "model_module_version": "1.2.0",
      "model_name": "LayoutModel",
      "state": {}
     },
     "afa5f3b4cd4d4355954a89388956c240": {
      "model_module": "@jupyter-widgets/controls",
      "model_module_version": "1.5.0",
      "model_name": "DescriptionStyleModel",
      "state": {
       "description_width": ""
      }
     },
     "b02bc7ad693d4e0e869109fe6a25cdb6": {
      "model_module": "@jupyter-widgets/base",
      "model_module_version": "1.2.0",
      "model_name": "LayoutModel",
      "state": {}
     },
     "b0bf3e2326384a18a3ac5df6b72ab26a": {
      "model_module": "@jupyter-widgets/controls",
      "model_module_version": "1.5.0",
      "model_name": "BoundedFloatTextModel",
      "state": {
       "description": "Text:",
       "layout": "IPY_MODEL_5c18d80ba48e497385fa4f10c9214ab3",
       "max": 10,
       "style": "IPY_MODEL_965f80dfa03b4bd5bc53f641a55dfe21",
       "value": 7.5
      }
     },
     "b152647f7bcc488189736eba9a6365e9": {
      "model_module": "@jupyter-widgets/controls",
      "model_module_version": "1.5.0",
      "model_name": "IntSliderModel",
      "state": {
       "continuous_update": false,
       "description": "Test:",
       "layout": "IPY_MODEL_105d57bfb7a04f5c881aa29be7562a56",
       "max": 10,
       "style": "IPY_MODEL_d75860cf6d074b81af891fabc094076d",
       "value": 7
      }
     },
     "b18921573f5e4d269a1f9cc210baaf35": {
      "model_module": "@jupyter-widgets/controls",
      "model_module_version": "1.5.0",
      "model_name": "SliderStyleModel",
      "state": {
       "description_width": ""
      }
     },
     "b211bf87402a424d8908fb83c601a62c": {
      "model_module": "@jupyter-widgets/controls",
      "model_module_version": "1.5.0",
      "model_name": "ToggleButtonsStyleModel",
      "state": {
       "button_width": "",
       "description_width": ""
      }
     },
     "b346ece6102e4eff9bc43ef5f6a17763": {
      "model_module": "@jupyter-widgets/base",
      "model_module_version": "1.2.0",
      "model_name": "LayoutModel",
      "state": {}
     },
     "b387a2c3a31240448c4761e36223ff5b": {
      "model_module": "@jupyter-widgets/output",
      "model_module_version": "1.0.0",
      "model_name": "OutputModel",
      "state": {
       "layout": "IPY_MODEL_9815d00f47e9419bbe792946fb733960",
       "outputs": [
        {
         "name": "stdout",
         "output_type": "stream",
         "text": "0 Hello world!\n1 Hello world!\n2 Hello world!\n3 Hello world!\n4 Hello world!\n5 Hello world!\n6 Hello world!\n7 Hello world!\n8 Hello world!\n9 Hello world!\n"
        }
       ]
      }
     },
     "b424f850771146c9889ba1fe66694f4b": {
      "model_module": "@jupyter-widgets/base",
      "model_module_version": "1.2.0",
      "model_name": "LayoutModel",
      "state": {}
     },
     "b434f78a477b4334becbf35975bc0d51": {
      "model_module": "@jupyter-widgets/controls",
      "model_module_version": "1.5.0",
      "model_name": "DescriptionStyleModel",
      "state": {
       "description_width": ""
      }
     },
     "b4f65706723f480a8949a932869accc8": {
      "model_module": "@jupyter-widgets/controls",
      "model_module_version": "1.5.0",
      "model_name": "IntTextModel",
      "state": {
       "description": "Any:",
       "layout": "IPY_MODEL_29485eb7bdc04eceb4e74b9935b46a05",
       "step": 1,
       "style": "IPY_MODEL_9662c855f0ba42288ec1cdc0a6dd5d2f",
       "value": 7
      }
     },
     "b4fcde747bf14601bcedb661510e5295": {
      "model_module": "@jupyter-widgets/base",
      "model_module_version": "1.2.0",
      "model_name": "LayoutModel",
      "state": {}
     },
     "b58bca3650174e17838f333b81d2c468": {
      "model_module": "@jupyter-widgets/controls",
      "model_module_version": "1.5.0",
      "model_name": "FloatSliderModel",
      "state": {
       "continuous_update": false,
       "description": "Test:",
       "layout": "IPY_MODEL_02bf9c9559d84beaa4a98cbaff30919f",
       "max": 10,
       "readout_format": ".1f",
       "step": 0.1,
       "style": "IPY_MODEL_8ead03a4cc5e4898ab00e4c3addc824a",
       "value": 7.5
      }
     },
     "b5ab60b1c8d745d28cd450f684dd14c6": {
      "model_module": "@jupyter-widgets/controls",
      "model_module_version": "1.5.0",
      "model_name": "FloatRangeSliderModel",
      "state": {
       "_model_name": "FloatRangeSliderModel",
       "_view_name": "FloatRangeSliderView",
       "continuous_update": false,
       "description": "Test:",
       "layout": "IPY_MODEL_e4ebc760e6464edf8efc2717774645f9",
       "max": 10,
       "readout_format": ".1f",
       "step": 0.1,
       "style": "IPY_MODEL_e831012e2ece4521a47a19e8a8a8c64e",
       "value": [
        5,
        7.5
       ]
      }
     },
     "b6abab1db9314eceb42dd98b21fad21c": {
      "model_module": "@jupyter-widgets/controls",
      "model_module_version": "1.5.0",
      "model_name": "SliderStyleModel",
      "state": {
       "description_width": ""
      }
     },
     "b7a1931fbf024ae1a625a92c75a66795": {
      "model_module": "@jupyter-widgets/controls",
      "model_module_version": "1.5.0",
      "model_name": "ProgressStyleModel",
      "state": {
       "description_width": ""
      }
     },
     "b8490d07b8094c959a5fcedeac6b1abf": {
      "buffers": [
       {
        "data": "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",
        "encoding": "base64",
        "path": [
         "value"
        ]
       }
      ],
      "model_module": "@jupyter-widgets/controls",
      "model_module_version": "1.5.0",
      "model_name": "ImageModel",
      "state": {
       "format": "gif",
       "height": "128",
       "layout": "IPY_MODEL_ab3e9e7b99bd436099f8668a44dea754",
       "width": "128"
      }
     },
     "b856f97ac3bf42ae98fbc356ff1cee3c": {
      "model_module": "@jupyter-widgets/controls",
      "model_module_version": "1.5.0",
      "model_name": "VBoxModel",
      "state": {
       "children": [
        "IPY_MODEL_6ed266be750042a9bbd3bb30b506ff58",
        "IPY_MODEL_547c4c0e3fcb4f52a7bd7a436fe64b1c"
       ],
       "layout": "IPY_MODEL_c71643e19ef34dcbb89c516b8f6601c8"
      }
     },
     "b8c9638d85cc46a8afba53bea0303cd1": {
      "model_module": "@jupyter-widgets/controls",
      "model_module_version": "1.5.0",
      "model_name": "IntSliderModel",
      "state": {
       "layout": "IPY_MODEL_04cdb1ba17794522a346a152b2e4ba56",
       "style": "IPY_MODEL_dda38b9448314d0fb844bdad5e16db90",
       "value": 50
      }
     },
     "b8d34acac38f4753b5f6a961bcace13b": {
      "model_module": "@jupyter-widgets/controls",
      "model_module_version": "1.5.0",
      "model_name": "SliderStyleModel",
      "state": {
       "description_width": ""
      }
     },
     "b9de4987354f4792b4536719e73760b5": {
      "model_module": "@jupyter-widgets/base",
      "model_module_version": "1.2.0",
      "model_name": "LayoutModel",
      "state": {
       "border": "1px solid black"
      }
     },
     "ba41c9581a814ba89f844fb9347e4d32": {
      "model_module": "@jupyter-widgets/controls",
      "model_module_version": "1.5.0",
      "model_name": "FloatProgressModel",
      "state": {
       "bar_style": "info",
       "description": "Loading:",
       "layout": "IPY_MODEL_d3570ee067354e9c898085a17b543c1d",
       "max": 10,
       "style": "IPY_MODEL_b7a1931fbf024ae1a625a92c75a66795",
       "value": 7.5
      }
     },
     "baa01178bb384cf69ad6ef53c079152b": {
      "model_module": "@jupyter-widgets/base",
      "model_module_version": "1.2.0",
      "model_name": "LayoutModel",
      "state": {}
     },
     "baaf0cf20d5643a4bea62dd2f64909e9": {
      "model_module": "@jupyter-widgets/controls",
      "model_module_version": "1.5.0",
      "model_name": "IntSliderModel",
      "state": {
       "layout": "IPY_MODEL_3868629228d64a9b8ce673d8973a3183",
       "style": "IPY_MODEL_7ba77fc4d02645dc860d485602dc7462",
       "value": 33
      }
     },
     "bbb95213bb7640a3b3142c6b0841262b": {
      "model_module": "@jupyter-widgets/controls",
      "model_module_version": "1.5.0",
      "model_name": "DescriptionStyleModel",
      "state": {
       "description_width": ""
      }
     },
     "bbed48b4a5dd4a5d9831d4cd880e445c": {
      "model_module": "@jupyter-widgets/controls",
      "model_module_version": "1.5.0",
      "model_name": "BoundedFloatTextModel",
      "state": {
       "description": "Text:",
       "layout": "IPY_MODEL_dc2e6ed23d4943219ea90458025bfbdc",
       "max": 10,
       "style": "IPY_MODEL_03873a931cc14af0bb4044193bcc299f",
       "value": 7.5
      }
     },
     "bc0ecaa89e1b4dfd867711bf5ac7ed3d": {
      "model_module": "@jupyter-widgets/base",
      "model_module_version": "1.2.0",
      "model_name": "LayoutModel",
      "state": {}
     },
     "bd9d9cd2132b4da284255571238eea8a": {
      "model_module": "@jupyter-widgets/controls",
      "model_module_version": "1.5.0",
      "model_name": "FloatLogSliderModel",
      "state": {
       "description": "Log Slider",
       "layout": "IPY_MODEL_038d03f9eb32434fba0c45fdedea6f2f",
       "max": 10,
       "min": -10,
       "step": 0.2,
       "style": "IPY_MODEL_45d0e0187d2644ab9abb903441b20294",
       "value": 10
      }
     },
     "bde115de358d449896e19ab9bf174a8a": {
      "model_module": "@jupyter-widgets/controls",
      "model_module_version": "1.5.0",
      "model_name": "DescriptionStyleModel",
      "state": {
       "description_width": ""
      }
     },
     "be533f331b744e2092da3f205d6f9879": {
      "model_module": "@jupyter-widgets/controls",
      "model_module_version": "1.5.0",
      "model_name": "ToggleButtonsModel",
      "state": {
       "_options_labels": [
        "Slow",
        "Regular",
        "Fast"
       ],
       "button_style": "",
       "description": "Speed:",
       "icons": [],
       "index": 0,
       "layout": "IPY_MODEL_bc0ecaa89e1b4dfd867711bf5ac7ed3d",
       "style": "IPY_MODEL_b211bf87402a424d8908fb83c601a62c",
       "tooltips": [
        "Description of slow",
        "Description of regular",
        "Description of fast"
       ]
      }
     },
     "be7ccbe24fab4040897e1504b30f14a1": {
      "model_module": "@jupyter-widgets/controls",
      "model_module_version": "1.5.0",
      "model_name": "IntTextModel",
      "state": {
       "description": "Any:",
       "layout": "IPY_MODEL_84b8048c55ae417c82042e2148d0d264",
       "step": 1,
       "style": "IPY_MODEL_fc2c0ef27c8d4801a30659b042c91c06",
       "value": 7
      }
     },
     "bef434b0effb4d7d8411f4e3e0264e03": {
      "model_module": "@jupyter-widgets/controls",
      "model_module_version": "1.5.0",
      "model_name": "LabelModel",
      "state": {
       "layout": "IPY_MODEL_2061fde8fe2542b7a4aa54ecdd6ab2fa",
       "style": "IPY_MODEL_1f2242f0713c4714aad3e2cff66a5e07",
       "value": "2"
      }
     },
     "bfed71ac05bf4a5ca6bc2291d5e8cb4c": {
      "model_module": "@jupyter-widgets/controls",
      "model_module_version": "1.5.0",
      "model_name": "HTMLMathModel",
      "state": {
       "description": "Some HTML",
       "layout": "IPY_MODEL_f4812cd6278d4cf8a7c2f630f3c44714",
       "placeholder": "Some HTML",
       "style": "IPY_MODEL_a6cd890eb9da45a5817fb735932f9832",
       "value": "Some math and <i>HTML</i>: \\(x^2\\) and $$\\frac{x+1}{x-1}$$"
      }
     },
     "bff171db28b441558265df4f3aa91d7d": {
      "model_module": "@jupyter-widgets/controls",
      "model_module_version": "1.5.0",
      "model_name": "HBoxModel",
      "state": {
       "children": [
        "IPY_MODEL_63fb5c6997ec42f18a9409aa7a3cd3d7",
        "IPY_MODEL_a27370f0e32842d396c552662b9950d7",
        "IPY_MODEL_5c59f5cd5b5645aa9784386b254db299",
        "IPY_MODEL_00a2a225ab24407ab131429e07e461f1"
       ],
       "layout": "IPY_MODEL_85dc0683217f496f9c20d3b012502545"
      }
     },
     "c0f8543e4dea4d00b1e18f92369f7661": {
      "model_module": "@jupyter-widgets/controls",
      "model_module_version": "1.5.0",
      "model_name": "DescriptionStyleModel",
      "state": {
       "description_width": ""
      }
     },
     "c1234562a24b48b3b689c180808018cf": {
      "model_module": "@jupyter-widgets/base",
      "model_module_version": "1.2.0",
      "model_name": "LayoutModel",
      "state": {}
     },
     "c25f1b0c33dc439a80ea319940169b25": {
      "model_module": "@jupyter-widgets/base",
      "model_module_version": "1.2.0",
      "model_name": "LayoutModel",
      "state": {}
     },
     "c310a5b2dc4b45f2bbb74f2ce25eadf1": {
      "model_module": "@jupyter-widgets/controls",
      "model_module_version": "1.5.0",
      "model_name": "TextModel",
      "state": {
       "description": "P4",
       "layout": "IPY_MODEL_ddc024ce613445029a899fa65974ee3d",
       "style": "IPY_MODEL_845bcde0f9344337a321f44b17e78f24"
      }
     },
     "c46e37c25c324527afdef32c2e38d668": {
      "model_module": "@jupyter-widgets/controls",
      "model_module_version": "1.5.0",
      "model_name": "TextModel",
      "state": {
       "description": "P3",
       "layout": "IPY_MODEL_ae1439e990d54167ba2f2e0ff6521435",
       "style": "IPY_MODEL_51355ed7779044a59cd36d807b5b8942"
      }
     },
     "c5cb6face0634caca7b3cddd924583a2": {
      "model_module": "@jupyter-widgets/controls",
      "model_module_version": "1.5.0",
      "model_name": "BoundedIntTextModel",
      "state": {
       "description": "Text:",
       "layout": "IPY_MODEL_2c99a19326424d2885bdec2583a7194e",
       "max": 10,
       "style": "IPY_MODEL_ab812035dfbc4611b1b90eb0005b2dfd",
       "value": 7
      }
     },
     "c5f63d987fcd43d48800789b86f714ba": {
      "model_module": "@jupyter-widgets/base",
      "model_module_version": "1.2.0",
      "model_name": "LayoutModel",
      "state": {}
     },
     "c69f070487c84f7fbf906da9548b3753": {
      "model_module": "@jupyter-widgets/controls",
      "model_module_version": "1.5.0",
      "model_name": "ValidModel",
      "state": {
       "description": "Valid!",
       "layout": "IPY_MODEL_5cb11d960df8466ab1c59a274605a931",
       "style": "IPY_MODEL_ddd8f750c4ca4eea917edb7c51b67477"
      }
     },
     "c71643e19ef34dcbb89c516b8f6601c8": {
      "model_module": "@jupyter-widgets/base",
      "model_module_version": "1.2.0",
      "model_name": "LayoutModel",
      "state": {}
     },
     "c78d6504e9f9436eb61bbabf60f54d59": {
      "model_module": "@jupyter-widgets/base",
      "model_module_version": "1.2.0",
      "model_name": "LayoutModel",
      "state": {
       "border": "1px solid black"
      }
     },
     "c8203133b371443d999a2bd1bd59f3cb": {
      "model_module": "@jupyter-widgets/base",
      "model_module_version": "1.2.0",
      "model_name": "LayoutModel",
      "state": {}
     },
     "c84b4bc55b3f44efb1683cf00701ee21": {
      "model_module": "@jupyter-widgets/controls",
      "model_module_version": "1.5.0",
      "model_name": "TextModel",
      "state": {
       "description": "P1",
       "layout": "IPY_MODEL_c8e3987b2f88457b868615f1c077dab8",
       "style": "IPY_MODEL_221d8d4f40f440a786d28befeea11883"
      }
     },
     "c8bb322d5f7846b9bf52a31ee865a421": {
      "model_module": "@jupyter-widgets/base",
      "model_module_version": "1.2.0",
      "model_name": "LayoutModel",
      "state": {}
     },
     "c8e3987b2f88457b868615f1c077dab8": {
      "model_module": "@jupyter-widgets/base",
      "model_module_version": "1.2.0",
      "model_name": "LayoutModel",
      "state": {}
     },
     "c8f3bb622c334fa78a71e3abcf30e58c": {
      "model_module": "@jupyter-widgets/base",
      "model_module_version": "1.2.0",
      "model_name": "LayoutModel",
      "state": {}
     },
     "caf008d5b005490cad77aaba7b7ee9b4": {
      "model_module": "@jupyter-widgets/base",
      "model_module_version": "1.2.0",
      "model_name": "LayoutModel",
      "state": {}
     },
     "cb58ff0e28074bd8b342cf4904fb9d65": {
      "model_module": "@jupyter-widgets/base",
      "model_module_version": "1.2.0",
      "model_name": "LayoutModel",
      "state": {}
     },
     "ccb51838a4724b8f9a1439b3f7ce73f7": {
      "model_module": "@jupyter-widgets/controls",
      "model_module_version": "1.5.0",
      "model_name": "LabelModel",
      "state": {
       "layout": "IPY_MODEL_12d8b6a73ff74073996a4be3dfd1ad24",
       "style": "IPY_MODEL_26c0dadc47e249a193a6b861265ac170",
       "value": "3"
      }
     },
     "ccd586b764464c32ae79741babdc705c": {
      "model_module": "@jupyter-widgets/controls",
      "model_module_version": "1.5.0",
      "model_name": "FloatLogSliderModel",
      "state": {
       "description": "Log Slider",
       "layout": "IPY_MODEL_0935b6d2628e414d9abc9b646521c759",
       "max": 10,
       "min": -10,
       "step": 0.2,
       "style": "IPY_MODEL_4c2f3943bf2745ea9a8f64b04f7163c7",
       "value": 10
      }
     },
     "cd7caa30b72e4a10a6eeac02ad548a2a": {
      "model_module": "@jupyter-widgets/controls",
      "model_module_version": "1.5.0",
      "model_name": "TextModel",
      "state": {
       "description": "P2",
       "layout": "IPY_MODEL_3e512e614afc49b6a49e9aacd4c116b7",
       "style": "IPY_MODEL_5245d281cbde4325b18946c18bd5b3b2"
      }
     },
     "cdcd0ed79e7e44bcbac518bd7d6caeeb": {
      "model_module": "@jupyter-widgets/base",
      "model_module_version": "1.2.0",
      "model_name": "LayoutModel",
      "state": {}
     },
     "ce235d300aa84b86b47b477604aaaf46": {
      "model_module": "@jupyter-widgets/controls",
      "model_module_version": "1.5.0",
      "model_name": "SelectModel",
      "state": {
       "_options_labels": [
        "Linux",
        "Windows",
        "OSX"
       ],
       "description": "OS:",
       "index": 2,
       "layout": "IPY_MODEL_3f1792e0781640bbbdac2ad5c2bf9d39",
       "style": "IPY_MODEL_fcff632160864ff6be80a9c07619d716"
      }
     },
     "cea2f01371f84d4e9e7262b9cb56a46f": {
      "model_module": "@jupyter-widgets/controls",
      "model_module_version": "1.5.0",
      "model_name": "DescriptionStyleModel",
      "state": {
       "description_width": ""
      }
     },
     "cfc06d0134d74df9bca64a0d1c1d317a": {
      "model_module": "@jupyter-widgets/controls",
      "model_module_version": "1.5.0",
      "model_name": "TextModel",
      "state": {
       "description": "P4",
       "layout": "IPY_MODEL_07d7cb73bb7b4d0dba486c656c91ec78",
       "style": "IPY_MODEL_d8ef0dfa51964f469efa9589a7ba7526"
      }
     },
     "cff420500dd4469cbefe5d69091f1dbf": {
      "model_module": "@jupyter-widgets/controls",
      "model_module_version": "1.5.0",
      "model_name": "DescriptionStyleModel",
      "state": {
       "description_width": ""
      }
     },
     "d01a3f3a326a4a238a5a90cd6de0b09f": {
      "model_module": "@jupyter-widgets/controls",
      "model_module_version": "1.5.0",
      "model_name": "IntSliderModel",
      "state": {
       "continuous_update": false,
       "description": "Test:",
       "layout": "IPY_MODEL_9a9cd162abb9495886a01ab0a8000344",
       "max": 10,
       "style": "IPY_MODEL_2f60677e8bc748598feca1027aebc0a5",
       "value": 7
      }
     },
     "d1e436beb7e148de9a0a6c32a5bf4550": {
      "model_module": "@jupyter-widgets/controls",
      "model_module_version": "1.5.0",
      "model_name": "DescriptionStyleModel",
      "state": {
       "description_width": ""
      }
     },
     "d2a3bcee611445c395d5c17aceec501e": {
      "model_module": "@jupyter-widgets/base",
      "model_module_version": "1.2.0",
      "model_name": "LayoutModel",
      "state": {}
     },
     "d3570ee067354e9c898085a17b543c1d": {
      "model_module": "@jupyter-widgets/base",
      "model_module_version": "1.2.0",
      "model_name": "LayoutModel",
      "state": {}
     },
     "d3719ec0c0084002a0bb745e47aeb4be": {
      "model_module": "@jupyter-widgets/controls",
      "model_module_version": "1.5.0",
      "model_name": "HBoxModel",
      "state": {
       "children": [
        "IPY_MODEL_8c3be5b6b5ec4a918bd8b674bfef501b",
        "IPY_MODEL_6d0c780b23824050b64fe044de32d948"
       ],
       "layout": "IPY_MODEL_11d589e75af34b6081b584ab43cc94f6"
      }
     },
     "d3828b4e55ab48208067cf2fb87e9e19": {
      "model_module": "@jupyter-widgets/controls",
      "model_module_version": "1.5.0",
      "model_name": "DescriptionStyleModel",
      "state": {
       "description_width": ""
      }
     },
     "d39dd364dbb948f3bbb5fa57f6cba68c": {
      "model_module": "@jupyter-widgets/controls",
      "model_module_version": "1.5.0",
      "model_name": "DescriptionStyleModel",
      "state": {
       "description_width": ""
      }
     },
     "d3ab4ab7305d423788a6675412611854": {
      "model_module": "@jupyter-widgets/base",
      "model_module_version": "1.2.0",
      "model_name": "LayoutModel",
      "state": {}
     },
     "d3f431507535407384fd3a76c497f360": {
      "model_module": "@jupyter-widgets/controls",
      "model_module_version": "1.5.0",
      "model_name": "DescriptionStyleModel",
      "state": {
       "description_width": ""
      }
     },
     "d4026bf70a7f4430bd0164c6a12801ee": {
      "model_module": "@jupyter-widgets/controls",
      "model_module_version": "1.5.0",
      "model_name": "DescriptionStyleModel",
      "state": {
       "description_width": ""
      }
     },
     "d451d3ad4abb49409a681c71a30c76c7": {
      "model_module": "@jupyter-widgets/controls",
      "model_module_version": "1.5.0",
      "model_name": "SliderStyleModel",
      "state": {
       "description_width": ""
      }
     },
     "d57144f7a98c4e54b174920ab2c45ed9": {
      "model_module": "@jupyter-widgets/controls",
      "model_module_version": "1.5.0",
      "model_name": "DescriptionStyleModel",
      "state": {
       "description_width": ""
      }
     },
     "d75860cf6d074b81af891fabc094076d": {
      "model_module": "@jupyter-widgets/controls",
      "model_module_version": "1.5.0",
      "model_name": "SliderStyleModel",
      "state": {
       "description_width": ""
      }
     },
     "d758f35a624f465c9485ae9b9c8d3268": {
      "model_module": "@jupyter-widgets/controls",
      "model_module_version": "1.5.0",
      "model_name": "HTMLModel",
      "state": {
       "description": "Some HTML",
       "layout": "IPY_MODEL_511ba8c8795d4ec18afaaf819fb4603e",
       "placeholder": "Some HTML",
       "style": "IPY_MODEL_4359836e31b94b7cb920ddb637a7e3e1",
       "value": "Hello <b>World</b>"
      }
     },
     "d8eb198c4ae84a058e147353f54aa37b": {
      "model_module": "@jupyter-widgets/controls",
      "model_module_version": "1.5.0",
      "model_name": "LabelModel",
      "state": {
       "layout": "IPY_MODEL_faf5917ac55d4d35a0e393f3d566fe34",
       "style": "IPY_MODEL_e140eb9232fe49df87d2a46f1048a84d",
       "value": "2"
      }
     },
     "d8ef0dfa51964f469efa9589a7ba7526": {
      "model_module": "@jupyter-widgets/controls",
      "model_module_version": "1.5.0",
      "model_name": "DescriptionStyleModel",
      "state": {
       "description_width": ""
      }
     },
     "d91e8d3bb7984f529a8a57e08c0884b9": {
      "model_module": "@jupyter-widgets/controls",
      "model_module_version": "1.5.0",
      "model_name": "DescriptionStyleModel",
      "state": {
       "description_width": ""
      }
     },
     "d96e41b68c89477b83db8d61992a26f2": {
      "model_module": "@jupyter-widgets/base",
      "model_module_version": "1.2.0",
      "model_name": "LayoutModel",
      "state": {}
     },
     "d96f9fe8f40e493490d77d79b926c2ae": {
      "model_module": "@jupyter-widgets/base",
      "model_module_version": "1.2.0",
      "model_name": "LayoutModel",
      "state": {}
     },
     "d9ea1dd6dbf64e6b84361391642ca2f2": {
      "model_module": "@jupyter-widgets/controls",
      "model_module_version": "1.5.0",
      "model_name": "HBoxModel",
      "state": {
       "children": [
        "IPY_MODEL_41532ee89d374d2886e665a441496efa",
        "IPY_MODEL_8b78c09a0a4f4a7aa9b8238cb5f13a50",
        "IPY_MODEL_44acfc1dfb404758a08ff1681c91e741",
        "IPY_MODEL_23dd4f2e7f084f668c00d2c4407811e0"
       ],
       "layout": "IPY_MODEL_9082e1d2ea864c5fb754e6234b9a7e41"
      }
     },
     "da4bdd0cdb8b4107a1635e461d8caec6": {
      "model_module": "@jupyter-widgets/controls",
      "model_module_version": "1.5.0",
      "model_name": "SliderStyleModel",
      "state": {
       "description_width": ""
      }
     },
     "da6ed31102f8462fa6818c589ef1990c": {
      "model_module": "@jupyter-widgets/base",
      "model_module_version": "1.2.0",
      "model_name": "LayoutModel",
      "state": {}
     },
     "db737c5e91f14dc88af54dccb0c49ff2": {
      "model_module": "@jupyter-widgets/controls",
      "model_module_version": "1.5.0",
      "model_name": "HBoxModel",
      "state": {
       "children": [
        "IPY_MODEL_12671d7db2d34c76b36d0c75bf3fe48f",
        "IPY_MODEL_01209ec3fcb64f39beb9a2fc63d37d7d"
       ],
       "layout": "IPY_MODEL_e0349491df994fa7903f66128ab71a64"
      }
     },
     "dc265eff554f4d428f981135b4a437fd": {
      "model_module": "@jupyter-widgets/controls",
      "model_module_version": "1.5.0",
      "model_name": "SelectMultipleModel",
      "state": {
       "_options_labels": [
        "Apples",
        "Oranges",
        "Pears"
       ],
       "description": "Fruits",
       "index": [
        1
       ],
       "layout": "IPY_MODEL_1ecae4d61e7d4cf486f721fce70c2586",
       "rows": 5,
       "style": "IPY_MODEL_3dcb35c0745c499ab764ad6c083f9c2e"
      }
     },
     "dc2e6ed23d4943219ea90458025bfbdc": {
      "model_module": "@jupyter-widgets/base",
      "model_module_version": "1.2.0",
      "model_name": "LayoutModel",
      "state": {}
     },
     "dcefb51532d7460eb484f4924eedf70f": {
      "model_module": "@jupyter-widgets/controls",
      "model_module_version": "1.5.0",
      "model_name": "DescriptionStyleModel",
      "state": {
       "description_width": ""
      }
     },
     "dd264046a37849b685c9dbe64ab61057": {
      "model_module": "@jupyter-widgets/controls",
      "model_module_version": "1.5.0",
      "model_name": "RadioButtonsModel",
      "state": {
       "_options_labels": [
        "pepperoni",
        "pineapple",
        "anchovies"
       ],
       "description": "Pizza topping:",
       "index": 0,
       "layout": "IPY_MODEL_24cfeb63c11f4842af69dee09122f96e",
       "style": "IPY_MODEL_7df4e43cd7f849fc97a358ceeb87b6ae"
      }
     },
     "dda38b9448314d0fb844bdad5e16db90": {
      "model_module": "@jupyter-widgets/controls",
      "model_module_version": "1.5.0",
      "model_name": "SliderStyleModel",
      "state": {
       "description_width": ""
      }
     },
     "ddc024ce613445029a899fa65974ee3d": {
      "model_module": "@jupyter-widgets/base",
      "model_module_version": "1.2.0",
      "model_name": "LayoutModel",
      "state": {}
     },
     "ddd8f750c4ca4eea917edb7c51b67477": {
      "model_module": "@jupyter-widgets/controls",
      "model_module_version": "1.5.0",
      "model_name": "DescriptionStyleModel",
      "state": {
       "description_width": ""
      }
     },
     "de47aa88ae3b4710960cef6500b11781": {
      "model_module": "@jupyter-widgets/base",
      "model_module_version": "1.2.0",
      "model_name": "LayoutModel",
      "state": {}
     },
     "de911c619d924589b8f5b8596b8671ba": {
      "model_module": "@jupyter-widgets/base",
      "model_module_version": "1.2.0",
      "model_name": "LayoutModel",
      "state": {}
     },
     "dea9eacb25034aa5a395a75bc9e0aa4a": {
      "model_module": "@jupyter-widgets/controls",
      "model_module_version": "1.5.0",
      "model_name": "FloatTextModel",
      "state": {
       "description": "Any:",
       "layout": "IPY_MODEL_1f4e9f67a9b347e38ed0aabfc7e76264",
       "step": null,
       "style": "IPY_MODEL_531293981f1644b8826d90c8693c04b3",
       "value": 7.5
      }
     },
     "deee1a95874c4dd4af51ca82a14613dd": {
      "model_module": "@jupyter-widgets/base",
      "model_module_version": "1.2.0",
      "model_name": "LayoutModel",
      "state": {}
     },
     "dfefefe32f2c4c13a94b14768b79adaa": {
      "model_module": "@jupyter-widgets/base",
      "model_module_version": "1.2.0",
      "model_name": "LayoutModel",
      "state": {}
     },
     "e0349491df994fa7903f66128ab71a64": {
      "model_module": "@jupyter-widgets/base",
      "model_module_version": "1.2.0",
      "model_name": "LayoutModel",
      "state": {}
     },
     "e04f05d7cfe446cba76b0160869aa555": {
      "model_module": "@jupyter-widgets/controls",
      "model_module_version": "1.5.0",
      "model_name": "ProgressStyleModel",
      "state": {
       "description_width": ""
      }
     },
     "e0646b84f4464212ba13996ad1f8134e": {
      "model_module": "@jupyter-widgets/controls",
      "model_module_version": "1.5.0",
      "model_name": "SelectMultipleModel",
      "state": {
       "_options_labels": [
        "Apples",
        "Oranges",
        "Pears"
       ],
       "description": "Fruits",
       "index": [
        1
       ],
       "layout": "IPY_MODEL_50ca8a5bb1aa4ae496d2e94c439fc895",
       "rows": 5,
       "style": "IPY_MODEL_1d4ae2e0a52b46598c2bfcb92a7e9ca6"
      }
     },
     "e069e1c4d84e44b59cf51a1fa364cac7": {
      "model_module": "@jupyter-widgets/base",
      "model_module_version": "1.2.0",
      "model_name": "LayoutModel",
      "state": {}
     },
     "e0bd89507f664f128d4c87181af4a05e": {
      "model_module": "@jupyter-widgets/controls",
      "model_module_version": "1.5.0",
      "model_name": "IntSliderModel",
      "state": {
       "layout": "IPY_MODEL_088cc24009094ec28d7238552eda44c8",
       "style": "IPY_MODEL_3915eef972ee46eaad657931fe35fea9"
      }
     },
     "e140dc7d9670437c8e15e1b796ef926e": {
      "model_module": "@jupyter-widgets/base",
      "model_module_version": "1.2.0",
      "model_name": "LayoutModel",
      "state": {}
     },
     "e140eb9232fe49df87d2a46f1048a84d": {
      "model_module": "@jupyter-widgets/controls",
      "model_module_version": "1.5.0",
      "model_name": "DescriptionStyleModel",
      "state": {
       "description_width": ""
      }
     },
     "e18503c349464d4f80043c14aa61d3cd": {
      "model_module": "@jupyter-widgets/base",
      "model_module_version": "1.2.0",
      "model_name": "LayoutModel",
      "state": {}
     },
     "e1c6d630c3a9477a9b798a39753b80e2": {
      "model_module": "@jupyter-widgets/base",
      "model_module_version": "1.2.0",
      "model_name": "LayoutModel",
      "state": {}
     },
     "e1debd1cfbfb48258ecfd3cd32d583c6": {
      "model_module": "@jupyter-widgets/base",
      "model_module_version": "1.2.0",
      "model_name": "LayoutModel",
      "state": {}
     },
     "e33dad72a9ec485fa6650b3cb8e715ae": {
      "model_module": "@jupyter-widgets/controls",
      "model_module_version": "1.5.0",
      "model_name": "TextModel",
      "state": {
       "layout": "IPY_MODEL_0c5ab31b2c8145e7b7fee5e64ce505fd",
       "style": "IPY_MODEL_0eff6e7dc8ed4ba9bf1e33cccf2f8a9d"
      }
     },
     "e4ebc760e6464edf8efc2717774645f9": {
      "model_module": "@jupyter-widgets/base",
      "model_module_version": "1.2.0",
      "model_name": "LayoutModel",
      "state": {}
     },
     "e60e2e7b9f604dc8b242e7a96179e78d": {
      "model_module": "@jupyter-widgets/controls",
      "model_module_version": "1.5.0",
      "model_name": "ColorPickerModel",
      "state": {
       "description": "Pick a color",
       "disabled": false,
       "layout": "IPY_MODEL_00b407d924be4b3d8caf84605caf278d",
       "style": "IPY_MODEL_1f9aa012338e409685bafde50909d712",
       "value": "blue"
      }
     },
     "e6403ebe03d142ba83d7bb93f44084ed": {
      "model_module": "@jupyter-widgets/base",
      "model_module_version": "1.2.0",
      "model_name": "LayoutModel",
      "state": {}
     },
     "e72c16eac0814572a1ed61fa598c1e1f": {
      "model_module": "@jupyter-widgets/controls",
      "model_module_version": "1.5.0",
      "model_name": "TextModel",
      "state": {
       "description": "P0",
       "layout": "IPY_MODEL_ef75aac0736c4349aae0a939a9008db7",
       "style": "IPY_MODEL_29f56f3a254e41faa3ea012cbfa38bcf"
      }
     },
     "e831012e2ece4521a47a19e8a8a8c64e": {
      "model_module": "@jupyter-widgets/controls",
      "model_module_version": "1.5.0",
      "model_name": "SliderStyleModel",
      "state": {
       "description_width": ""
      }
     },
     "e8499f80e745416ab7d5212d3458a9ab": {
      "model_module": "@jupyter-widgets/base",
      "model_module_version": "1.2.0",
      "model_name": "LayoutModel",
      "state": {}
     },
     "e9573092a3b148ea9de0b297917c4826": {
      "model_module": "@jupyter-widgets/base",
      "model_module_version": "1.2.0",
      "model_name": "LayoutModel",
      "state": {}
     },
     "e96bc0bee4274dfe8dd57907c56d94b4": {
      "model_module": "@jupyter-widgets/controls",
      "model_module_version": "1.5.0",
      "model_name": "ToggleButtonsStyleModel",
      "state": {
       "button_width": "",
       "description_width": ""
      }
     },
     "e9c1dcae82e948a19b036e0b4046bf60": {
      "model_module": "@jupyter-widgets/controls",
      "model_module_version": "1.5.0",
      "model_name": "DescriptionStyleModel",
      "state": {
       "description_width": ""
      }
     },
     "ea02b15e97b044f085521788a6765e1f": {
      "model_module": "@jupyter-widgets/base",
      "model_module_version": "1.2.0",
      "model_name": "LayoutModel",
      "state": {}
     },
     "eaa57a83d6784654a40598a4eab16a07": {
      "model_module": "@jupyter-widgets/controls",
      "model_module_version": "1.5.0",
      "model_name": "LabelModel",
      "state": {
       "layout": "IPY_MODEL_a306e7b798e4435eae99ece41e943390",
       "style": "IPY_MODEL_8d6ab17122854500a28fb0cf2a7165b7",
       "value": "1"
      }
     },
     "eaad72415ca3496190b1445b2a165799": {
      "model_module": "@jupyter-widgets/base",
      "model_module_version": "1.2.0",
      "model_name": "LayoutModel",
      "state": {}
     },
     "eae20f1775744dc5933c9dffd584b108": {
      "model_module": "@jupyter-widgets/controls",
      "model_module_version": "1.5.0",
      "model_name": "FloatSliderModel",
      "state": {
       "layout": "IPY_MODEL_2357d552f726458c97a48667db8e5cf1",
       "step": 0.1,
       "style": "IPY_MODEL_04b03f832fba462eac4cf92de00e2a22"
      }
     },
     "ebca891d27a843d6adc363df31a734c3": {
      "model_module": "@jupyter-widgets/controls",
      "model_module_version": "1.5.0",
      "model_name": "LabelModel",
      "state": {
       "layout": "IPY_MODEL_86fa6d7278dd4358b35f51f1c914cadd",
       "style": "IPY_MODEL_bbb95213bb7640a3b3142c6b0841262b",
       "value": "3"
      }
     },
     "ebd084bdaa084a6cacf63b60fcfbb6ef": {
      "model_module": "@jupyter-widgets/controls",
      "model_module_version": "1.5.0",
      "model_name": "DescriptionStyleModel",
      "state": {
       "description_width": ""
      }
     },
     "ebd66356a4bd41bcb08bbb71c6778c33": {
      "model_module": "@jupyter-widgets/base",
      "model_module_version": "1.2.0",
      "model_name": "LayoutModel",
      "state": {}
     },
     "ef75aac0736c4349aae0a939a9008db7": {
      "model_module": "@jupyter-widgets/base",
      "model_module_version": "1.2.0",
      "model_name": "LayoutModel",
      "state": {}
     },
     "eff76e4f6d76416184c765f2e32a4553": {
      "model_module": "@jupyter-widgets/base",
      "model_module_version": "1.2.0",
      "model_name": "LayoutModel",
      "state": {}
     },
     "f1299d92695a43f2994c1174dd538e38": {
      "model_module": "@jupyter-widgets/controls",
      "model_module_version": "1.5.0",
      "model_name": "IntProgressModel",
      "state": {
       "description": "Loading:",
       "layout": "IPY_MODEL_fb1640b4ada04c0ea17be40d0a540ccb",
       "max": 10,
       "style": "IPY_MODEL_289f62a26fa6437d832509e6e3c90807",
       "value": 7
      }
     },
     "f173d96fa7e54393a6dec3fde3397853": {
      "buffers": [
       {
        "data": "R0lGODlhHgEeAcQfAGON/+rq6sfHxwAAAKBIAKampgBE/4aGhm4yAGVlZUZGRk5bfmJznycpLgAifz8cADRq/3md/w0PEhdV/09+//9zAJ64/36Sy8daAO9rAJOt9N9kAB8OADZAWYqh3////yH5BAEAAB8ALAAAAAAeAR4BAAX/4CeOZGmeaKqubOu+qCAXR30oeK4n9lHIAZhwSCwaj8ikclkU0BKKxmBKrVqvWCquJmN6v+CweMx03qTZtHp9bSh8QbJ8Tq/bTYEClM3v+6cSbwVxd4WGh4glAmd/jY59DQmDiZSVlkh5CWiPnJ1rkQWXoqOkHwE3nqmqa4GTpa+wY6ebq7W2Vwqusbu8QrO3wMG4ur3FxiIFCsLLzIAJAsfRsAEJEs3XzQ0HhNLdh8nY4djP3uV0v+Lp17nm7V+n1ury1w2h7vdF1PP74RLb+ABZ6ONHEJs/bgETDizI8Jq/hAoPxGtIMZs9iO0KTKzIkVkDaBi7CaDVseQyBQhD/8ZaaLLlsocqd0lsyeEBAgQEMGyo8ODRAgsXLjBY0KHBRo4fY5YSoIyjzZwVokqV2tPRTwtYs2IVuoAkwwQplR46QPHpzqlop1ZtdFWr26xCizaUcFGsoZEFbWJIyzft2j9t3wrGqmHoUXko7RYiyw9nhr6Q0f71E3iwZQseGHTgR1fxuabqOOCMTFqyz8uotRbePA+s5zEa5Y0uTZvq6dS4CWuWl/S1F5bYHhCoTdy21dzIdR9m1tm3kgBemSE4W7z45D6Vk+O+wDqca+dGYgcfXr08z9vatWtYsDxYb/BCGF97sNe8+et8sqdHzqD9rebwtRAAaNJRZ195+LGh3/9+yF0QHTAHBCjQg7ZMd+CFCa6xIIMNUlhLAhKmIIB/q1h4IYboccihg9mEFaB4wtB34owZqrGhisn15xFIIX5QADMckDfjiTWmcSOOybH3Eo8ByhcMAkNGWWQWRyKJnAbdASMBk84lsMwDBkaJ4nFWlnkBiZ7U9ZqXwggpJo0plonkAsuoaRebwCDw2JtSxiknjiwGY2dMeN5SH599kvmnnAwIMyhGhdbywJ6IJsrWoosGesujAUW6ipuVDjklFlVimh6dwHB6j6epyBjqm6NeUaqp2um4aUisegLlq3zGasWstCbngYePqOqNk5/yiqivVQAbbHJZqrJlQD/awsH/ocqKySwVzj7L339cliPALZNmu6yf3lp5pi0SuHjMiBWaW+m2U3Sbbm7D2tKAu70EgOYfu8rbK7r3IqkBsX8oUA50toAqsKWAFUxrtJ6A2E2ujzj8sKgES4wkxZ0YWwqynmC7sbYde4xjo7WEG8u4tZh8MsSUqUwry9LyK4q/Mc88b8o2q4hzKgr3gnAfMvvMsaJBLzq0JxHugnEjSSsNJ9NN//l0Jy5fArMqVVtNJNBZc7j1I+2+wjPYYv+Mddlyokr0KwR2onHbV18Kt6kgOxK1KCRnjLfbeu+Nad+NdG3I2roOTnjEhmN6sCoNiFL3IwE7DivZke83eSp/JxJ4/yPlaj7w252r+y8bip+z+hqUmo4y6qkjeXYjlSdyuSNhy34gvQPYWztut/8R+h3VenK372MWPvyfiPeRdiGMc5I58zRj97zkr6dR9B1T81E69rM7v72ZqrQORgBsk7857ecLnUrudez+x/Lu2we88PGjFj0fxxvD1zjxgPydznz9M1j3sDA9ORxNDbEzYN4gl0BGpcJiZEgeJ/AnQQRxroJJSoXOMPHALBSwg+WjIAitpIEF4oIMo/NDBFHYPBWu0HapUJ8RqucIDtLQOh+8YW7+t4bvfSGG4vthCmsmxDK10BM6HAIPqabE7OWniRbshBGXgEQ2XK+KvwsiFlNTQv8sRPEFU/zDDMF4HzGO8TIX8MQWkaDBHrJxaQh8I4OIqIYRvqCMVuDAHfFoQz0yyAMVW0IdqTjIscHPkCHshB9ZYL8kNtKReYSkelxYhQAOYYC8uyQmC6nJU3VCAkkInxpOKMowPrKUuHkiJ0SmAvZ1onetLM3+YIkjuTlijjDo4ipzWUMm8pJBsnzEGU8AyCrgkpiR2eUxOeTLRmBQCKD8AyuZh4GbePOb4Ayn/tw4Ta0gkhOoJIIq0+BDsSGAE+N85WAiYIB62vOe+MRnBPrHxyzQ0gScnIIg3ffOR8Qzk6ihZz4Xms99xu+cjwDmChbphy/KrqCOOCgpU6NQhnr/1AAOjV8zqTDJEVSSDWs0HUYboVFjJqejH11oSM9XPDb8UwS2xJwBV/qHlmovPTCNqT4rGNAB0K8FFEXaTuHZRnkKJqhCtedMz1fNP5T0pGoYaP546gefXhGoUZVpBSHqtxfYTYJc7YNXFbQfqIZ1qucb6QAkaoKk8iFM2EsrH9aqobaGtaEgrOka/LhOLGyToEz1oFPf4taownV7GghZC+TazsHplQ18tZFf/3rPx26vn1e4Zgw6kVLfXXYNmTXSZjlbT88+T7BpSKcKhGlCFJ5WDaml0mpZ69rnFVV9WGWnbRNbHWlqp7FC7e3wQGsFT5KAtMM1aFMRehnkxlS5/7WDbRbo+oFs9uGwWyUuEBfrFut+FLupiywnZms9Gt42Dbkl1W45i97UyVVxwc3CM1UqXuIY96WslaoQtYsF536gEz98bxbiK6v5/rW+nYtjREf7CPDmjwAPyLCGN8xhDjP4V+X8U0BlWwLaYqGy0KzNf0OMI+ZWISyFvcJ+U6xicrJ4MAS+wqDkSuMl/vTGgOKEaEVAwB5bka1ARhIn5uhdPljUyIqlbpJzM1ISI4MTM4ZyNG08Za1UtQ8IMfEVSqvlGpO3y4LJsRW4lN8raLXMH24WmjlEVuOVYKQWhrN/uTxnCwi5BO3Vc5y51WcGjdSITWYDigVtmjMXOisuBv8ECRK9hiwzWi18nvOX+UACMVvh0tPd6KPhyAkeeboKoI6yqEc9GAk7gkdttkKeUw2ZFbM6NZz4W6yrMGta88XWt75MQP820if7+teZnvNIMRjoY+sy2Wg+9Aiw7GzaADvYg9l0Eaf9CEvT+trYfou21fA9alebNOAOt1bUXAVuZ/Tc6IZ2l13dCHezFN5bdjSr6f0He/cU37WW95T57Qd/dxXgfUm3urfCiThUGOEJF/iUS01kR/Qa38CTwAUWjhqKH9jiEEc22jbO8cF4/OEhb/TISy6Yk4M85Zg+JclZnhWXkw7mMZc5zWuuzIrfHOdRAZ4VNL5zP/f84z8HutD/hz7zkttcm0APei2IzvKn++Hi8Faw9Jqubqv34c041zofqK5ugvcBJP2FudjZQHZsm53TPr931KOydlZwfd/rjfu/5053dt390W9ng8H7gFeg110NbR81u6kweD54+9yHj+3fNf0I+pmb71KJfBYS3+dxe6/xisY8WjTPwMlPOdJzHUGxRT96v4962SbVKeunQvorcH7Kw479y2efedf3OdcjOLVAed/6qZu+nHX2g6nTPvvaMx3NgV8Dj+xaaeIXfxW3L+fipzDpy1u/78afsufTAGjZf7/34QeytEkQUGPz3vlVyD4sA7rFXVMB66yHPxXkD0n1lpUEMfZp55cW//oHCMenR9GnBmoifFPweFFXgAPAf280flnAJZSmBouGeRAogViEegOAB802gNcnLQfYRAF1VKr3CGAnguiHfSW4QsnXB0P2AfZHBYXHghv4ghW0fQPgSQw4ABmYf75nSB7oMheYBu4ngjkISUWVApywgixIe0OIRTHIB3QlVzcYhRWwhGPEgzMoAgFYBUH4flN4Qx7IKdQ3TFoIGVwoREXlLjn1bmuYFhuwdKU3YJyAgiZAWXM4FRsAgfung51DgVjwhSMQhlSQhNbXTcLAgcNTVMaShrilhd3EAS8hiBHWCS1wVue3AQSAAJbIHJg4iEvWAjU4BYoIahiwiqzYiv+r+IkIkGHi4Ii+BXwsIIlpQGapZoeNOIqdw4MD4Edx2AhjCGW8qCW+2DkeqIcpIFf4x2jHWIY3lEzW9AI/OABZuIsVQYvbA4zLNIwAA3DRSDkaYEhyxYwqIFcDII4N0QDliICdYIgocI3FSGPj2An8UzseOADLhFOd8Ixwdo+OIAEMoEn+5wjouAKn2IDwJpB/0ADJ+DyEWGBEgItZkIqhAhWa45A/ViYAAGGYUlTBWAQimY2vQgAM6Tgc+QkRaRkA0FpBA4zctQKImIgng5JU4IChspKbV5CL8pICpjIieVMg2AkmySc46UyDw5Oy8o5/ApSd5THAmJAusJADgJH/Q5KUVqCTB8QMHeABpgKVQ1UwImlgLmCRWXCUWakGXOlj7LIAYBmW53UvwDiSSKCOWHkgWqlfYrOSBOmUmCKWDAWSDCKS8miNnqCWeqlUSiOQErAALZkbgulRhFkrUPQcIgmQ5bGX1ecz0dgAkHkvkzmXpkKNjTCTMFCTOVkpnMkGbVlMD7kADACY3jKa12UqE4kFRLkC4Ah1SLlBM6NwtAIBAQaTf+IBIkmV6qQ8b9KaflCPriRlkkOcxWmcZbKPA7CbApEKukgczhmODyOcf6IBE1CdUakunqCcRaCaqLiWqzA+2SKeZWJe9GUl6pidYdCbf/CaGAAMr7ln+sYg/7ZpnrRpSp2gnkbAngOgmX0BiEBoLvKpIhpAneaZTwCAI8iZJrKQCnnZoMAAn4/jUqYSAeVZoRaKJPeJoEegoAPwnw76oK8SoftBASa6UBe6Mqmgnb4gkgs6JC8KJjspceVVojV6TzeqIhmqRXRwje05Iy8Ko10poixEoUVqT0eqIvfJj3WQpf+5hcJwLVHakVZCo1WKT1dKTRdkB2iZBRzQnbTxpAuqmNYmcQBApGVaT2fKIAnIdiWlBFY5BQzKhgVCSFLaVlR6pwaQp57Doz1IPaoAnVIoHa8po4IBAIeKqIq6H9hpVGPRPk46H/VIqVmhAXWKqCdqJXU5Bf3IBP8M4wltGiXfaS0mMl7SyViXaqoghT5zgwhHyAaBChmxSi4E4KZSR14aQAF2iqtBiSRJekp9CgZ/2qRD0p/pIBzdKZzHmqzKWk8TUKDIlKX4SQlpRIxiggFMaUIIEDbXRqrIuq0MBQHeukeqgJp0sKbCFSUZcK6rhBPY8l8RYKna6q73RAF/kpub96xjwKIpGSVwqk02EYqN0AEUAAEBK7CAlUU5OgqtmgpyShvU6hJs4AAWG1XdqjWrQK930Ku+Sqy1ka8guwYiO7IfRbB/si7zg7BzwKT3x7K1EawuEbMym08TUJmoYbM5FAvRCqg8Sxt1+LJYALRBa08UEK8rwqj/U2CWlTCupLO0tOGzHQG1QTu0mGK0ctQLKruyiNK0TjsFYDuyUzu2VhuBOLsYksK1HguxINu27gqvpkK2l2kMSau0Gem0eourYtu3cduox7CxrWK3tJEBDasKhXunE5CpqvMhIpG4YBoqf9gSk1ulb3sz+jK3lHC2jscrnfu1yjoBoSu6U0e6lWCvawCppQG5HPG51Vm56bKp8beqpaCwVdCh9oFhDYG7rAUBRKsevFsFOvq7t6An5sKIBGG8JNu6z5IvttC8dEMuHXshGUC880C9H4W8EuO3oKMQ4GoFtFsc36uvViC++QQBlksrBssGh+kNjFsiJ/O9oIgN8GsA/6ybvBKavlVwvwtDwPfXveUKvsJgvBMgv1TrLeabpjGRv8liNZ4Yi7egtw9MAREQwfdSv/ZrFxasCiCqNBmAAZ8oi5wgshAAARTwkRGGwFRgwPhQwo/KPKJaMCI8wq+Bw40rOzsswTRcw+ABxKmwvu9TqxKzHstgwxiBxJ7gKngzxKZiK8EAxSEBHM/ruGH6VXCjKcGAtZ4BvEjYNlbsRMubBtqLETq7BkFiNWmMI+uRuAzku2IBI1+qxKpWqOlSx9mAx3YBL80Qxxszx+kByC3SI7VUxFhgyPKCyFeiJNegxRJixl7kxbS6anLiAWtsU4z8AnrcDOmqLJJ8GQzgyP9Z8B6h3AJ4IQ7WGqQBihseQMnhkBitDANcfA2zscScnMipLA9knMsoMMrh0MsT5MfA/Ml+wMrE7Auq7GTDOkrKjC+7sQ/f8cxG8MZTrJF9LKb80RUEASDafASvnBfePKfGOhTRnDCwW84lZsetwq/x9kgaEBfynJ5tDM8nMCAmURP82q8pEhQL0BX5vArZzM9eYMwmwcID2QDtbAsKIMgKLSDcvLYgS84VLQb+jNEe7Qf/sNF0cM4fXdJWkNAiXa8RbdInQdEpTUcrzdK1MNEvHbsxLdNL5tI1vdA3jdN9QNM7TQrg4NMEQQ5BDQsCgMlEPXYhfdS7gA5LfRL77NR1haAHUf0fKE3Vi1sAPQ2y7KDV9wDVV22FxADWN3wAXc0PufDOZs0LmXDQBAEKbe0cixC4+9AKbD3X7lDXaV15kpDXeg0RecAI7cgDOh3YdE0DOADXVeAGPPADiK3XM1ADUIADR7MDXCAAgB3ZnN3Znv3ZdhACADs=",
        "encoding": "base64",
        "path": [
         "value"
        ]
       }
      ],
      "model_module": "@jupyter-widgets/controls",
      "model_module_version": "1.5.0",
      "model_name": "ImageModel",
      "state": {
       "format": "gif",
       "height": "128",
       "layout": "IPY_MODEL_770d1a37ea5e4532926fea608ac86752",
       "width": "128"
      }
     },
     "f1eda5a6dada4c2b8bd1eb334b99e597": {
      "model_module": "@jupyter-widgets/base",
      "model_module_version": "1.2.0",
      "model_name": "LayoutModel",
      "state": {}
     },
     "f2acb17e4d77405aa646fd3dfa1868df": {
      "model_module": "@jupyter-widgets/controls",
      "model_module_version": "1.5.0",
      "model_name": "TextModel",
      "state": {
       "layout": "IPY_MODEL_9a788310fa7e49ae9b11656a60453a5e",
       "style": "IPY_MODEL_92d49fa312b64cd7aea6ce97eb654edc"
      }
     },
     "f2cd886a5c084caca56e54f861a311f2": {
      "model_module": "@jupyter-widgets/controls",
      "model_module_version": "1.5.0",
      "model_name": "CheckboxModel",
      "state": {
       "description": "Check me",
       "disabled": false,
       "layout": "IPY_MODEL_208fca5eb38e46649d6ad1d973aacd44",
       "style": "IPY_MODEL_d3f431507535407384fd3a76c497f360",
       "value": false
      }
     },
     "f354bf243c364d029ddb7293d1a93392": {
      "model_module": "@jupyter-widgets/controls",
      "model_module_version": "1.5.0",
      "model_name": "DescriptionStyleModel",
      "state": {
       "description_width": ""
      }
     },
     "f42ce20ec25646158314aee090e703f5": {
      "model_module": "@jupyter-widgets/output",
      "model_module_version": "1.0.0",
      "model_name": "OutputModel",
      "state": {
       "layout": "IPY_MODEL_3238b200bd6c4d9ebffbb51ee794b972"
      }
     },
     "f4451bf8ff664a3ab595f5f448e4bc9f": {
      "model_module": "@jupyter-widgets/controls",
      "model_module_version": "1.5.0",
      "model_name": "SelectModel",
      "state": {
       "_options_labels": [
        "Linux",
        "Windows",
        "OSX"
       ],
       "description": "OS:",
       "index": 2,
       "layout": "IPY_MODEL_2eeedeffa80a41109023176b86a32b3f",
       "style": "IPY_MODEL_7e631b7decf74bda873e60f6aeed5aba"
      }
     },
     "f45cb407d27b433e87063971fab58354": {
      "model_module": "@jupyter-widgets/base",
      "model_module_version": "1.2.0",
      "model_name": "LayoutModel",
      "state": {}
     },
     "f4812cd6278d4cf8a7c2f630f3c44714": {
      "model_module": "@jupyter-widgets/base",
      "model_module_version": "1.2.0",
      "model_name": "LayoutModel",
      "state": {}
     },
     "f61c2151a573457a8875eb65ec693c98": {
      "model_module": "@jupyter-widgets/controls",
      "model_module_version": "1.5.0",
      "model_name": "DescriptionStyleModel",
      "state": {
       "description_width": ""
      }
     },
     "f625fcfcce5c4ccc976b5d8b6c0f5410": {
      "model_module": "@jupyter-widgets/controls",
      "model_module_version": "1.5.0",
      "model_name": "DescriptionStyleModel",
      "state": {
       "description_width": ""
      }
     },
     "f6f2174fa5914d47839742802c591848": {
      "model_module": "@jupyter-widgets/controls",
      "model_module_version": "1.5.0",
      "model_name": "HTMLMathModel",
      "state": {
       "description": "Some HTML",
       "layout": "IPY_MODEL_740385346f0a4ecfb4c9d4e7072f46bb",
       "placeholder": "Some HTML",
       "style": "IPY_MODEL_6c93012858b747ee967cdb6878ea6fae",
       "value": "Some math and <i>HTML</i>: \\(x^2\\) and $$\\frac{x+1}{x-1}$$"
      }
     },
     "f978176df8fc4940a615b385a99e0bc1": {
      "model_module": "@jupyter-widgets/base",
      "model_module_version": "1.2.0",
      "model_name": "LayoutModel",
      "state": {}
     },
     "f9ca545f09ce4ecc80a7dfcda5ec0f82": {
      "model_module": "@jupyter-widgets/controls",
      "model_module_version": "1.5.0",
      "model_name": "DescriptionStyleModel",
      "state": {
       "description_width": ""
      }
     },
     "f9df0150e2364c7da5bd1daf6a0a2fa9": {
      "model_module": "@jupyter-widgets/base",
      "model_module_version": "1.2.0",
      "model_name": "LayoutModel",
      "state": {}
     },
     "f9ed46374ecf4e8bb1be17f574493988": {
      "model_module": "@jupyter-widgets/controls",
      "model_module_version": "1.5.0",
      "model_name": "HBoxModel",
      "state": {
       "children": [
        "IPY_MODEL_13a0b61c942a45a9aa4d532e624a95f9",
        "IPY_MODEL_96bd392512d6449fba38a96b15fc0584"
       ],
       "layout": "IPY_MODEL_c1234562a24b48b3b689c180808018cf"
      }
     },
     "f9fbb7aa16a34bc481b09909f11b73f4": {
      "model_module": "@jupyter-widgets/output",
      "model_module_version": "1.0.0",
      "model_name": "OutputModel",
      "state": {
       "layout": "IPY_MODEL_6d8556c0367f45e1b802da81285a9783"
      }
     },
     "fa0479dfa5294f8d94d927aa270c07b7": {
      "model_module": "@jupyter-widgets/controls",
      "model_module_version": "1.5.0",
      "model_name": "SliderStyleModel",
      "state": {
       "description_width": ""
      }
     },
     "fa09b1f0f6df4fcdaac3d629c5e93eac": {
      "model_module": "@jupyter-widgets/controls",
      "model_module_version": "1.5.0",
      "model_name": "DescriptionStyleModel",
      "state": {
       "description_width": ""
      }
     },
     "faf5917ac55d4d35a0e393f3d566fe34": {
      "model_module": "@jupyter-widgets/base",
      "model_module_version": "1.2.0",
      "model_name": "LayoutModel",
      "state": {}
     },
     "fafd4bcc02ea4eb9b6f44f464c29d158": {
      "model_module": "@jupyter-widgets/controls",
      "model_module_version": "1.5.0",
      "model_name": "ToggleButtonsModel",
      "state": {
       "_options_labels": [
        "Slow",
        "Regular",
        "Fast"
       ],
       "button_style": "",
       "description": "Speed:",
       "icons": [],
       "index": 0,
       "layout": "IPY_MODEL_11731741e8a747d6985fd095bbd334eb",
       "style": "IPY_MODEL_5fbbc42716304e58acc4192e7619e260",
       "tooltips": [
        "Description of slow",
        "Description of regular",
        "Description of fast"
       ]
      }
     },
     "fb1640b4ada04c0ea17be40d0a540ccb": {
      "model_module": "@jupyter-widgets/base",
      "model_module_version": "1.2.0",
      "model_name": "LayoutModel",
      "state": {}
     },
     "fc2c0ef27c8d4801a30659b042c91c06": {
      "model_module": "@jupyter-widgets/controls",
      "model_module_version": "1.5.0",
      "model_name": "DescriptionStyleModel",
      "state": {
       "description_width": ""
      }
     },
     "fcff632160864ff6be80a9c07619d716": {
      "model_module": "@jupyter-widgets/controls",
      "model_module_version": "1.5.0",
      "model_name": "DescriptionStyleModel",
      "state": {
       "description_width": ""
      }
     },
     "fd3a8383329e469fafdfab7bfcb2e161": {
      "model_module": "@jupyter-widgets/controls",
      "model_module_version": "1.5.0",
      "model_name": "ToggleButtonModel",
      "state": {
       "description": "Click me",
       "icon": "check",
       "layout": "IPY_MODEL_c8f3bb622c334fa78a71e3abcf30e58c",
       "style": "IPY_MODEL_19b5b20d07b049bda98b342ed3ddf7da",
       "tooltip": "Description"
      }
     },
     "fd87f665e2b749099479cfe9d5fd2718": {
      "model_module": "@jupyter-widgets/base",
      "model_module_version": "1.2.0",
      "model_name": "LayoutModel",
      "state": {}
     },
     "fde3367e63d74762829beba8176f2882": {
      "model_module": "@jupyter-widgets/base",
      "model_module_version": "1.2.0",
      "model_name": "LayoutModel",
      "state": {}
     },
     "ff251a4634074fc885bf747408e19c81": {
      "model_module": "@jupyter-widgets/base",
      "model_module_version": "1.2.0",
      "model_name": "LayoutModel",
      "state": {}
     },
     "ffb9918b94e044ccbbe15f65d24a17f8": {
      "model_module": "@jupyter-widgets/controls",
      "model_module_version": "1.5.0",
      "model_name": "SelectionRangeSliderModel",
      "state": {
       "_model_name": "SelectionRangeSliderModel",
       "_options_labels": [
        "Jan",
        "Feb",
        "Mar",
        "Apr",
        "May",
        "Jun",
        "Jul",
        "Aug",
        "Sep",
        "Oct",
        "Nov",
        "Dec"
       ],
       "_view_name": "SelectionRangeSliderView",
       "description": "Months (2015)",
       "index": [
        0,
        11
       ],
       "layout": "IPY_MODEL_12ab54ec9f9540d3958b4aac92bb18b2",
       "style": "IPY_MODEL_0da2f37c70914c8fb4c0372268e7a757"
      }
     }
    },
    "version_major": 2,
    "version_minor": 0
   }
  }
 },
 "nbformat": 4,
 "nbformat_minor": 2
}
