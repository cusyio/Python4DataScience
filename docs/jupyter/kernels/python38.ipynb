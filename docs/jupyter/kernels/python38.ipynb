{
 "cells": [
  {
   "cell_type": "markdown",
   "metadata": {},
   "source": [
    "# Was ist neu in Python 3.8?\n",
    "\n",
    "In Python 3.8 vereinfacht sich die Syntax und auch die Unterstützung für C-Bibliotheken verbessert sich. Im Folgenden erhaltet ihr ein kurzer Überblick über einige der neuen Features. Einen vollständigen Überblick erhaltet ihr in [What’s New In Python 3.8](https://docs.python.org/3/whatsnew/3.8.html)."
   ]
  },
  {
   "cell_type": "markdown",
   "metadata": {},
   "source": [
    "## Installation\n",
    "\n",
    "### Überprüfen"
   ]
  },
  {
   "cell_type": "code",
   "execution_count": 1,
   "metadata": {},
   "outputs": [
    {
     "name": "stdout",
     "output_type": "stream",
     "text": [
      "Python 3.8.0\r\n"
     ]
    }
   ],
   "source": [
    "!python3 -V"
   ]
  },
  {
   "cell_type": "markdown",
   "metadata": {},
   "source": [
    "## Assignment Expressions: Walrus operator `:=`\n",
    "\n",
    "Bisher wurde z.B. von pip `env_base` folgendermaßen ermittelt:"
   ]
  },
  {
   "cell_type": "code",
   "execution_count": 3,
   "metadata": {},
   "outputs": [],
   "source": [
    "import os"
   ]
  },
  {
   "cell_type": "code",
   "execution_count": 4,
   "metadata": {},
   "outputs": [],
   "source": [
    "def _getuserbase():\n",
    "    env_base = os.environ.get(\"PYTHONUSERBASE\", None)\n",
    "    if env_base:\n",
    "        return env_base"
   ]
  },
  {
   "cell_type": "markdown",
   "metadata": {},
   "source": [
    "Dies kann nun vereinfacht werden mit:"
   ]
  },
  {
   "cell_type": "code",
   "execution_count": 5,
   "metadata": {},
   "outputs": [],
   "source": [
    "def _getuserbase():\n",
    "    if env_base := os.environ.get(\"PYTHONUSERBASE\", None):\n",
    "        return env_base"
   ]
  },
  {
   "cell_type": "markdown",
   "metadata": {},
   "source": [
    "Auch lassen sich mehrfach verschachtelte `if` vermeiden, wie z.B. in [cpython/Lib/copy.py](https://github.com/python/cpython/blob/master/Lib/copy.py). Aus"
   ]
  },
  {
   "cell_type": "code",
   "execution_count": 6,
   "metadata": {},
   "outputs": [],
   "source": [
    "from copyreg import dispatch_table"
   ]
  },
  {
   "cell_type": "code",
   "execution_count": 7,
   "metadata": {},
   "outputs": [],
   "source": [
    "def copy(x):\n",
    "    cls = type(x)\n",
    "    reductor = dispatch_table.get(cls)\n",
    "    if reductor:\n",
    "        rv = reductor(x)\n",
    "    else:\n",
    "        reductor = getattr(x, \"__reduce_ex__\", None)\n",
    "        if reductor:\n",
    "            rv = reductor(4)\n",
    "        else:\n",
    "            reductor = getattr(x, \"__reduce__\", None)\n",
    "            if reductor:\n",
    "                rv = reductor()\n",
    "            else:\n",
    "                raise Error(\n",
    "                    \"un(deep)copyable object of type %s\" % cls)"
   ]
  },
  {
   "cell_type": "markdown",
   "metadata": {},
   "source": [
    "wird dann:"
   ]
  },
  {
   "cell_type": "code",
   "execution_count": 8,
   "metadata": {},
   "outputs": [],
   "source": [
    "def copy(x):\n",
    "    cls = type(x)\n",
    "    reductor = dispatch_table.get(cls)\n",
    "    if reductor := dispatch_table.get(cls):\n",
    "        rv = reductor(x)\n",
    "    elif reductor := getattr(x, \"__reduce_ex__\", None):\n",
    "        rv = reductor(4)\n",
    "    elif reductor := getattr(x, \"__reduce__\", None):\n",
    "        rv = reductor()\n",
    "    else:\n",
    "        raise Error(\"un(deep)copyable object of type %s\" % cls)"
   ]
  },
  {
   "cell_type": "markdown",
   "metadata": {},
   "source": [
    "## *Positional-only*-Parameter\n",
    "\n",
    "In Python 3.8 kann mit `/` ein Funktionsparameter positionsbezogen angegeben werden. Etliche Python-Funktionen, die in C implementiert sind, erlauben keine Keyword-Argumente. Dieses Verhalten kann nun in Python selbst emuliert werden, z.B. für die [pow()](https://docs.python.org/3/library/functions.html#pow)-Funktion:"
   ]
  },
  {
   "cell_type": "code",
   "execution_count": 9,
   "metadata": {},
   "outputs": [],
   "source": [
    "def pow(x, y, z=None, /):\n",
    "    \"Emulate the built in pow() function\"\n",
    "    r = x ** y\n",
    "    return r if z is None else r%z"
   ]
  },
  {
   "cell_type": "markdown",
   "metadata": {},
   "source": [
    "## `f-strings` unterstützen `=` für  sich selbst dokumentierende Ausdrücke und Debugging"
   ]
  },
  {
   "cell_type": "code",
   "execution_count": 9,
   "metadata": {},
   "outputs": [
    {
     "name": "stdout",
     "output_type": "stream",
     "text": [
      "user='veit' member_since=datetime.date(2012, 1, 30)"
     ]
    }
   ],
   "source": [
    "user = 'veit'\n",
    "member_since = date(2012, 1, 30)\n",
    "f'{user=} {member_since=}'"
   ]
  },
  {
   "cell_type": "markdown",
   "metadata": {},
   "source": [
    "## Debug- und Release-Build verwenden dasselbe ABI\n",
    "\n",
    "Bisher sollte durch [Spack](../../reproduce/spack/) ein konsistentes Application Binary Interface (ABI) gewährleistet werden. Dies schloss jedoch nicht die Verwendung von Python im Debug-Build ein. Python 3.8 unterstützt nun auch für Debug Builds die ABI-Kompatibilität. Das `Py_TRACE_REFS`-Makro kann nun gesetzt werden mit der `./configure --with-trace-refs`-Build-Option."
   ]
  },
  {
   "cell_type": "markdown",
   "metadata": {},
   "source": [
    "## Neue C-API\n",
    "\n",
    "Mit [PEP 587](https://www.python.org/dev/peps/pep-0587/) kommt eine neue C-API zum Konfigurieren der Python-Initialisierung hinzu, die eine genauere Steuerung der gesamten Konfiguration und bessere Fehlerreports bietet."
   ]
  },
  {
   "cell_type": "markdown",
   "metadata": {},
   "source": [
    "## Vectorcall – ein schnelles Protokoll für CPython\n",
    "\n",
    "Momentan ist das Protokoll noch nicht vollständig implementiert; dies wird wohl erst mit Python 3.9 kommen. EIne vollständige Beschreibung erhaltet ihr jedoch jetzt bereits in [PEP 590](https://www.python.org/dev/peps/pep-0590)."
   ]
  },
  {
   "cell_type": "markdown",
   "metadata": {},
   "source": [
    "## Update – oder nicht?\n",
    "\n",
    "Im Folgenden findet ihr eine kurze Übersicht über Probleme, die beim Wechsel zu Python 3.8 auftreten können:\n",
    "\n",
    "### Fehlende Pakete\n",
    "\n",
    "* [opencv-python](https://pypi.org/project/opencv-python/#files)\n",
    "  \n",
    "### Bugs\n",
    "\n",
    "* Python 3.7.1 wurde 4 Monate nach dem ersten Major Release mit einer [langen Liste von Bugfixes](https://docs.python.org/3.7/whatsnew/changelog.html#python-3-7-1-final) veröffentlicht. Ähnliches ist auch bei Python 3.8 zu erwarten.\n",
    "  \n",
    "### Syntax\n",
    "\n",
    "* Die wenigsten Code-Analyse-Werkzeuge und Autoformatter können bereits die Syntax-Änderungen von Python 3.8\n",
    "\n",
    "### Warum dennoch updaten?\n",
    "\n",
    "Da das Upgrade einige Zeit in Anspruch nehmen wird, kann es verlockend sein, den Wechsel auf unbestimmte Zeit zu verschieben. Warum sollten Sie sich mit Inkompatibilitäten neuer Versionen beschäftigen, wenn eure aktuelle Version zuverlässig funktioniert?\n",
    "\n",
    "Das Problem ist, dass eure Python nicht auf unbestimmte Zeit unterstützt wird und auch die von euch verwendeten Bibliotheken nicht alle älteren Python-Versionen auf unbestimmte Zeit unterstützen wird. Und je länger ihr ein Update hinauszögert, umso größer und risikoreicher wird es. Daher empfiehlt sich das Update auf die neue Major Version von Python üblicherweise einige Monate nach dem ersten Release."
   ]
  },
  {
   "cell_type": "markdown",
   "metadata": {},
   "source": [
    "## Portierung\n",
    "\n",
    "> Siehe [Porting to Python 3.8](https://docs.python.org/3.8/whatsnew/3.8.html#porting-to-python-3-8)"
   ]
  }
 ],
 "metadata": {
  "kernelspec": {
   "display_name": "Python 3.8.0",
   "language": "python",
   "name": "python3"
  },
  "language_info": {
   "codemirror_mode": {
    "name": "ipython",
    "version": 3
   },
   "file_extension": ".py",
   "mimetype": "text/x-python",
   "name": "python",
   "nbconvert_exporter": "python",
   "pygments_lexer": "ipython3",
   "version": "3.8.0"
  },
  "latex_envs": {
   "LaTeX_envs_menu_present": true,
   "autoclose": false,
   "autocomplete": true,
   "bibliofile": "biblio.bib",
   "cite_by": "apalike",
   "current_citInitial": 1,
   "eqLabelWithNumbers": true,
   "eqNumInitial": 1,
   "hotkeys": {
    "equation": "Ctrl-E",
    "itemize": "Ctrl-I"
   },
   "labels_anchors": false,
   "latex_user_defs": false,
   "report_style_numbering": false,
   "user_envs_cfg": false
  },
  "varInspector": {
   "cols": {
    "lenName": 16,
    "lenType": 16,
    "lenVar": 40
   },
   "kernels_config": {
    "python": {
     "delete_cmd_postfix": "",
     "delete_cmd_prefix": "del ",
     "library": "var_list.py",
     "varRefreshCmd": "print(var_dic_list())"
    },
    "r": {
     "delete_cmd_postfix": ") ",
     "delete_cmd_prefix": "rm(",
     "library": "var_list.r",
     "varRefreshCmd": "cat(var_dic_list()) "
    }
   },
   "types_to_exclude": [
    "module",
    "function",
    "builtin_function_or_method",
    "instance",
    "_Feature"
   ],
   "window_display": false
  },
  "widgets": {
   "application/vnd.jupyter.widget-state+json": {
    "state": {},
    "version_major": 2,
    "version_minor": 0
   }
  }
 },
 "nbformat": 4,
 "nbformat_minor": 2
}
