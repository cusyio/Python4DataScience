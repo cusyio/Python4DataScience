{
 "cells": [
  {
   "cell_type": "markdown",
   "metadata": {},
   "source": [
    "# Objekte anzeigen mit `display`\n",
    "\n",
    "IPython kann Objekte anzeigen wie z.B. `HTML`, `JSON`, `PNG`, `JPEG`, `SVG` und `Latex`. "
   ]
  },
  {
   "cell_type": "markdown",
   "metadata": {},
   "source": [
    "## Bilder\n",
    "\n",
    "Um Bilder (`JPEG`, `PNG`) in IPython und Notebooks anzuzeigen, könnt ihr die `Image`-Klasse verwenden:"
   ]
  },
  {
   "cell_type": "code",
   "execution_count": 1,
   "metadata": {},
   "outputs": [
    {
     "data": {
      "image/gif": "[encoded data removed]",
      "text/plain": [
       "<IPython.core.display.Image object>"
      ]
     },
     "execution_count": 1,
     "metadata": {},
     "output_type": "execute_result"
    }
   ],
   "source": [
    "from IPython.display import Image\n",
    "Image('https://www.python.org/images/python-logo.gif')"
   ]
  },
  {
   "cell_type": "code",
   "execution_count": 2,
   "metadata": {},
   "outputs": [
    {
     "data": {
      "image/svg+xml": [
       "<svg height=\"109.8461\" id=\"svg2169\" inkscape:output_extension=\"org.inkscape.output.svg.inkscape\" inkscape:version=\"0.45.1\" sodipodi:docbase=\"/home/bene/Desktop\" sodipodi:docname=\"dessin-1.svg\" sodipodi:version=\"0.32\" version=\"1.0\" width=\"110.4211\" xmlns=\"http://www.w3.org/2000/svg\" xmlns:cc=\"http://web.resource.org/cc/\" xmlns:dc=\"http://purl.org/dc/elements/1.1/\" xmlns:inkscape=\"http://www.inkscape.org/namespaces/inkscape\" xmlns:rdf=\"http://www.w3.org/1999/02/22-rdf-syntax-ns#\" xmlns:sodipodi=\"http://sodipodi.sourceforge.net/DTD/sodipodi-0.dtd\" xmlns:svg=\"http://www.w3.org/2000/svg\" xmlns:xlink=\"http://www.w3.org/1999/xlink\">\n",
       "  <defs id=\"defs2171\">\n",
       "    <linearGradient id=\"linearGradient11301\" inkscape:collect=\"always\">\n",
       "      <stop id=\"stop11303\" offset=\"0\" style=\"stop-color:#ffe052;stop-opacity:1\"/>\n",
       "      <stop id=\"stop11305\" offset=\"1\" style=\"stop-color:#ffc331;stop-opacity:1\"/>\n",
       "    </linearGradient>\n",
       "    <linearGradient gradientUnits=\"userSpaceOnUse\" id=\"linearGradient11307\" inkscape:collect=\"always\" x1=\"89.136749\" x2=\"147.77737\" xlink:href=\"#linearGradient11301\" y1=\"111.92053\" y2=\"168.1012\"/>\n",
       "    <linearGradient id=\"linearGradient9515\" inkscape:collect=\"always\">\n",
       "      <stop id=\"stop9517\" offset=\"0\" style=\"stop-color:#387eb8;stop-opacity:1\"/>\n",
       "      <stop id=\"stop9519\" offset=\"1\" style=\"stop-color:#366994;stop-opacity:1\"/>\n",
       "    </linearGradient>\n",
       "    <linearGradient gradientUnits=\"userSpaceOnUse\" id=\"linearGradient9521\" inkscape:collect=\"always\" x1=\"55.549179\" x2=\"110.14919\" xlink:href=\"#linearGradient9515\" y1=\"77.070274\" y2=\"131.85291\"/>\n",
       "  </defs>\n",
       "  <sodipodi:namedview bordercolor=\"#666666\" borderopacity=\"1.0\" height=\"184.25197px\" id=\"base\" inkscape:current-layer=\"layer1\" inkscape:cx=\"-260.46312\" inkscape:cy=\"316.02744\" inkscape:document-units=\"px\" inkscape:pageopacity=\"0.0\" inkscape:pageshadow=\"2\" inkscape:window-height=\"624\" inkscape:window-width=\"872\" inkscape:window-x=\"5\" inkscape:window-y=\"48\" inkscape:zoom=\"0.24748737\" pagecolor=\"#ffffff\" width=\"131.10236px\"/>\n",
       "  <metadata id=\"metadata2174\">\n",
       "    <rdf:RDF>\n",
       "      <cc:Work rdf:about=\"\">\n",
       "        <dc:format>image/svg+xml</dc:format>\n",
       "        <dc:type rdf:resource=\"http://purl.org/dc/dcmitype/StillImage\"/>\n",
       "      </cc:Work>\n",
       "    </rdf:RDF>\n",
       "  </metadata>\n",
       "  <g id=\"layer1\" inkscape:groupmode=\"layer\" inkscape:label=\"Calque 1\" transform=\"translate(-473.36088,-251.72485)\">\n",
       "    <g id=\"g1894\" transform=\"translate(428.42338,184.2561)\">\n",
       "      <path d=\"M 99.75,67.46875 C 71.718268,67.468752 73.46875,79.625 73.46875,79.625 L 73.5,92.21875 L 100.25,92.21875 L 100.25,96 L 62.875,96 C 62.875,96 44.9375,93.965724 44.9375,122.25 C 44.937498,150.53427 60.59375,149.53125 60.59375,149.53125 L 69.9375,149.53125 L 69.9375,136.40625 C 69.9375,136.40625 69.433848,120.75 85.34375,120.75 C 101.25365,120.75 111.875,120.75 111.875,120.75 C 111.875,120.75 126.78125,120.99096 126.78125,106.34375 C 126.78125,91.696544 126.78125,82.125 126.78125,82.125 C 126.78125,82.124998 129.04443,67.46875 99.75,67.46875 z M 85,75.9375 C 87.661429,75.937498 89.8125,78.088571 89.8125,80.75 C 89.812502,83.411429 87.661429,85.5625 85,85.5625 C 82.338571,85.562502 80.1875,83.411429 80.1875,80.75 C 80.187498,78.088571 82.338571,75.9375 85,75.9375 z \" id=\"path8615\" style=\"opacity:1;color:#000000;fill:url(#linearGradient9521);fill-opacity:1;fill-rule:nonzero;stroke:none;stroke-width:1;stroke-linecap:butt;stroke-linejoin:miter;marker:none;marker-start:none;marker-mid:none;marker-end:none;stroke-miterlimit:4;stroke-dasharray:none;stroke-dashoffset:0;stroke-opacity:1;visibility:visible;display:inline;overflow:visible\"/>\n",
       "      <path d=\"M 100.5461,177.31485 C 128.57784,177.31485 126.82735,165.1586 126.82735,165.1586 L 126.7961,152.56485 L 100.0461,152.56485 L 100.0461,148.7836 L 137.4211,148.7836 C 137.4211,148.7836 155.3586,150.81787 155.3586,122.53359 C 155.35861,94.249323 139.70235,95.252343 139.70235,95.252343 L 130.3586,95.252343 L 130.3586,108.37734 C 130.3586,108.37734 130.86226,124.03359 114.95235,124.03359 C 99.042448,124.03359 88.421098,124.03359 88.421098,124.03359 C 88.421098,124.03359 73.514848,123.79263 73.514848,138.43985 C 73.514848,153.08705 73.514848,162.6586 73.514848,162.6586 C 73.514848,162.6586 71.251668,177.31485 100.5461,177.31485 z M 115.2961,168.8461 C 112.63467,168.8461 110.4836,166.69503 110.4836,164.0336 C 110.4836,161.37217 112.63467,159.2211 115.2961,159.2211 C 117.95753,159.2211 120.1086,161.37217 120.1086,164.0336 C 120.10861,166.69503 117.95753,168.8461 115.2961,168.8461 z \" id=\"path8620\" style=\"opacity:1;color:#000000;fill:url(#linearGradient11307);fill-opacity:1;fill-rule:nonzero;stroke:none;stroke-width:1;stroke-linecap:butt;stroke-linejoin:miter;marker:none;marker-start:none;marker-mid:none;marker-end:none;stroke-miterlimit:4;stroke-dasharray:none;stroke-dashoffset:0;stroke-opacity:1;visibility:visible;display:inline;overflow:visible\"/>\n",
       "    </g>\n",
       "  </g>\n",
       "</svg>"
      ],
      "text/plain": [
       "<IPython.core.display.SVG object>"
      ]
     },
     "execution_count": 2,
     "metadata": {},
     "output_type": "execute_result"
    }
   ],
   "source": [
    "from IPython.display import SVG\n",
    "SVG('https://upload.wikimedia.org/wikipedia/commons/c/c3/Python-logo-notext.svg')"
   ]
  },
  {
   "cell_type": "markdown",
   "metadata": {},
   "source": [
    "### Nicht-eingebettete Bilder\n",
    "\n",
    "* Standardmäßig sind Bilddaten eingebettet:\n",
    "\n",
    "  ```\n",
    "  Image ('img_url')\n",
    "  ```\n",
    "\n",
    "* Wenn jedoch `url` als `kwarg` angegeben ist, wird dies als *Softlink* interpretiert:\n",
    "\n",
    "  ```\n",
    "  Image (url='img_url')\n",
    "  ```\n",
    "\n",
    "* `embed` kann jedoch auch explizit angegeben werden: \n",
    "\n",
    "  ```\n",
    "  Image (url='img_url', embed = True)\n",
    "  ```"
   ]
  },
  {
   "cell_type": "markdown",
   "metadata": {},
   "source": [
    "## HTML\n",
    "\n",
    "Python-Objekte können HTML-Repräsentationen deklarieren, die in einem Notebook angezeigt werden:"
   ]
  },
  {
   "cell_type": "code",
   "execution_count": 3,
   "metadata": {},
   "outputs": [],
   "source": [
    "from IPython.display import HTML"
   ]
  },
  {
   "cell_type": "code",
   "execution_count": 4,
   "metadata": {},
   "outputs": [
    {
     "data": {
      "text/html": [
       "<ul>\n",
       "    <li>foo</li>\n",
       "    <li>bar</li>\n",
       "</ul>\n"
      ],
      "text/plain": [
       "<IPython.core.display.HTML object>"
      ]
     },
     "metadata": {},
     "output_type": "display_data"
    }
   ],
   "source": [
    "%%html\n",
    "<ul>\n",
    "    <li>foo</li>\n",
    "    <li>bar</li>\n",
    "</ul>"
   ]
  },
  {
   "cell_type": "markdown",
   "metadata": {},
   "source": [
    "## Javascript\n",
    "\n",
    "Mit Notebooks können Objekte auch eine JavaScript-Darstellung deklarieren. Dies ermöglicht dann z.B. Datenvisualisierungen mit Javascript-Bibliotheken wie [d3.js](https://d3js.org/)."
   ]
  },
  {
   "cell_type": "code",
   "execution_count": 5,
   "metadata": {},
   "outputs": [
    {
     "data": {
      "application/javascript": [
       "alert(\"Dies ist ein Beispiel für eine durch IPython angezeigte Javascript-Warnung.\")"
      ],
      "text/plain": [
       "<IPython.core.display.Javascript object>"
      ]
     },
     "metadata": {},
     "output_type": "display_data"
    }
   ],
   "source": [
    "from IPython.display import Javascript\n",
    "welcome = Javascript('alert(\"Dies ist ein Beispiel für eine durch IPython angezeigte Javascript-Warnung.\")');\n",
    "display(welcome)"
   ]
  },
  {
   "cell_type": "markdown",
   "metadata": {},
   "source": [
    "Für umfangreicheres Javascript könnt ihr auch die `%%javascript`-Syntax verwenden."
   ]
  },
  {
   "cell_type": "markdown",
   "metadata": {},
   "source": [
    "## LaTeX\n",
    "\n",
    "`IPython.display` verfügt außerdem über eine integrierte Unterstützung für die Anzeige von mathematischen Ausdrücken, die in LaTeX gesetzt sind und im Browser mit [MathJax](http://mathjax.org/) gerendert werden:"
   ]
  },
  {
   "cell_type": "code",
   "execution_count": 6,
   "metadata": {},
   "outputs": [
    {
     "data": {
      "text/latex": [
       "$\\displaystyle F(k) = \\int_{-\\infty}^{\\infty} f(x) e^{2\\pi i k} dx$"
      ],
      "text/plain": [
       "<IPython.core.display.Math object>"
      ]
     },
     "execution_count": 6,
     "metadata": {},
     "output_type": "execute_result"
    }
   ],
   "source": [
    "from IPython.display import Math\n",
    "Math(r'F(k) = \\int_{-\\infty}^{\\infty} f(x) e^{2\\pi i k} dx')"
   ]
  },
  {
   "cell_type": "markdown",
   "metadata": {},
   "source": [
    "Bei der `Latex`-Klasse müsst ihr die Begrenzungen selbst angeben. Auf diese Weise könnt ihr jedoch auch andere LaTeX-Modi verwenden, wie z.B. `eqnarray`:"
   ]
  },
  {
   "cell_type": "code",
   "execution_count": 7,
   "metadata": {},
   "outputs": [
    {
     "data": {
      "text/latex": [
       "\\begin{eqnarray}\n",
       "\\nabla \\times \\vec{\\mathbf{B}} -\\, \\frac1c\\, \\frac{\\partial\\vec{\\mathbf{E}}}{\\partial t} & = \\frac{4\\pi}{c}\\vec{\\mathbf{j}} \\\\\n",
       "\\end{eqnarray}"
      ],
      "text/plain": [
       "<IPython.core.display.Latex object>"
      ]
     },
     "execution_count": 7,
     "metadata": {},
     "output_type": "execute_result"
    }
   ],
   "source": [
    "from IPython.display import Latex\n",
    "Latex(r\"\"\"\\begin{eqnarray}\n",
    "\\nabla \\times \\vec{\\mathbf{B}} -\\, \\frac1c\\, \\frac{\\partial\\vec{\\mathbf{E}}}{\\partial t} & = \\frac{4\\pi}{c}\\vec{\\mathbf{j}} \\\\\n",
    "\\end{eqnarray}\"\"\")"
   ]
  },
  {
   "cell_type": "markdown",
   "metadata": {},
   "source": [
    "## Audio\n",
    "\n",
    "IPython ermöglicht auch das interaktive Arbeiten mit Sounds. Mit der `display.Audio`-Klasse könnt ihr ein Audio-Control erstellen, das in das Notebook eingebettet ist. Die Schnittstelle ist analog zu denjenigen der `Image`-Klasse. Alle vom Browser unterstützten Audioformate können verwendet werden."
   ]
  },
  {
   "cell_type": "code",
   "execution_count": 8,
   "metadata": {},
   "outputs": [],
   "source": [
    "from IPython.display import Audio"
   ]
  },
  {
   "cell_type": "markdown",
   "metadata": {},
   "source": [
    "Im folgenden werden wir die Sinusfunktion eines NumPy-Array als Audiosignal ausgeben. Dabei normalisiert und codiert die `Audio`-Klasse die Daten und bettet das resultierende Audio in das Notebook ein."
   ]
  },
  {
   "cell_type": "code",
   "execution_count": 9,
   "metadata": {},
   "outputs": [
    {
     "data": {
      "text/html": [
       "\n",
       "                <audio  controls=\"controls\" >\n",
       "                    <source src=\"data:audio/wav;base64,UklGRqS7AABXQVZFZm10IBAAAAABAAEAQB8AAIA+AAACABAAZGF0YYC7AAAAAP4H9Q/cF6sfWifiLjs2XT1DRORKOlFAV+1cPmItZ7Vr0W99c7V2d3nAe4193H6tf/1/zn8ff/F9RXwdent3YXTTcNRsaWiVY11ex1jYUpdMCUY1PyE41jBaKbQh7RkMEhgKGwIc+iPyN+ph4qnaFtOwy37EiL3UtmmwTqqJpB+fFppylTqRcI0YijeHzoTggnCBfoALgBmApoCzgT6DRYXIh8KKMo4TkmOWHJs6oLelj6u8sTa4+L78xTnNqdRF3ATk3+vO88r7yQPEC7UTkRtSI+8qYjKiOalAb0fuTR5U+1l9X6BkX2m0bZxxEnUSeJt6qnw7fk9/43/3f4t/oH42fU977XgSdsFy/W7Kai1mKWHEWwNW7E+GSdZC4zu0NFEtwCUJHjUWSg5RBlP+VfZh7n/mtt4O15DPQcgrwVO6wbN7rYin7aGwnNeXZZNhj82LrIgEhtWDIoLugDiAAoBMgBaBXoIkhGaGIolUjPqPEJSSmHudx6JwqHGuw7Rgu0LCYsm40D7Y69+5557vlPeT/5EHiA9wF0Af8SZ8Ltc1/TzmQ4tK5lDvVqJc+GHsZnlrm29Nc4x2VXmke3d9zX6lf/x/1H8sfwV+YHw+eqJ3j3QHcQ5tqGjZY6deFlksU+9MZEaUP4Q4OzHBKR4iWBp4EoYKiQKK+pDyo+rM4hLbfdMUzN/E5r0ut7+woKrWpGefWJqvlXGRoY1DiluH7IT4goGBiIAOgBWAm4ChgSWDJoWih5aKAI7bkSWW2Zrxn2qlPatlsdu3mr6axdXMQtTb25njc+th81z7WwNXC0gTJhvoIogq/TFAOUpAFEeWTctTrVk0X11kIWl8bWlx5XTsd3x6kXwpfkN/3n/5f5R/sH5NfW17EXk8dvFyNG8Ga25mcGEQXFRWQlDgSTNDRDwYNbctKSZ0HqEWtw6/BsD+wvbO7urmIN921/XPpMiKwa+6GbTPrdenOKL2nBeYoJOVj/uL1IglhvCDNoL7gD6AAoBFgAeBSYIJhESG+YgljMWP1ZNSmDadfKIhqB2uarQEu+LB/8hT0NbXgd9N5zLvJ/cl/yMHGw8EF9YeiSYVLnQ1nTyJQzJKkFCfVlZcsWGrZj5rZW8ec2N2MnmHe2F9vn6cf/t/2X84fxh+eXxeesl3vHQ6cUdt52geZPFeZVl/U0ZNwEbzP+Y4oDEpKociwxrlEvMK9gL4+v3yD+s343vb5NN4zEHFRL6Itxax8qojpa+fm5rtlaiR0o1uioCHCoUPg5GBkoASgBGAkYCQgQ2DCIV9h2uKzo2kkeiVlZqpnxyl66oOsYG3PL45xXDM29Ny2y7jB+v08u/67QLqCtwSuxp/IiEqmDHeOOs/uUY/TXhTXlnrXhhk4mhDbTZxuHTGd1x6d3wWfjd/2X/7f51/v35jfYp7NHlmdiFzam9Ca7Bmt2FcXKVWl1A5SpFDpDx8NR4ukSbeHg0XJA8sBy7/MPc671bnit/e11vQB8nqwQy7crQjrieogqI7nVeY2pPKjymM/YhHhguES4IJgUWAAoA+gPqANYLugyKG0Yj3i5GPm5MSmPCcMqLRp8itErSouoPBnMjtz27XF9/h5sXuuva3/rYGrg6YFmseICavLRA1PDwsQ9hJO1BOVgpcamFpZgJrL2/tcjl2Dnlqe0t9r36Uf/l/3n9Efyp+k3x+eu936XRtcYBtJmliZDpfs1nSU55NG0dSQEg5BTKQKvEiLxtRE2ALZANl+2rzfOui4+TbS9TdzKLFor7jt2yxRKtwpfef3poqluCRBI6aiqWHKYUng6OBnIAVgA6Ah4B/gfaC6oRYh0CKnY1skaqVU5phn8+kmaq4sCe33r3XxAzMdNMJ28PimuqH8oH6gAJ9Cm8STxoVIrkpMzF8OIw/XUboTCVTEFmhXtRjo2gJbQNxi3Sfdzt6XXwDfit/1H/8f6V/z355faZ7WHmQdlFzn29+a/Fm/mGoXPZW7FCSSu5DBT3fNYQu+iZJH3kXkQ+aB5z/nfen78Hn9N9G2MHQaslKwmi7yrR4rneozaKBnZeYFZT+j1iMJYlphiaEYIIXgUyAAoA3gO2AIYLTgwGGqYjJi1yPYZPSl6uc56GCp3SturNMuiPBOciHzwbXrd525ljuTPZK/kgGQQ4sFgEetyVILaw02zvOQn9J5k/9Vb5bI2EnZsVq+W69cg926nhNezV9n36Lf/d/439Qfz1+rHyeehZ4FXWgcbltZGmmZINfAVolVPVNdkexQKo5ajL4Klojmhu9E80L0QPT+9fz6OsN5E3cstRBzQTGAL8+uMOxlqu+pUCgIZtolhiSNo7GisuHSIVAg7SBp4AZgAuAfYBvgd+CzIQ0hxWKbI01kW2VEJoZn4KkSKpisM22gL12xKjLDtOg2ljiLuoa8hP6EgIPCgMS5BmrIVEpzjAZOC0/AUaQTNJSwVhXXo9jZGjQbM9wXnR4dxt6Q3zwfR5/zn/9f61/3X6PfcJ7enm5doFz1W+6azJnRGL0XEZXQVHrSkpEZT1DNuouYiezH+QX/g8HCAgAC/gU8C3oXuCv2CfRzcmqwsW7I7XNrseoGaPHndiYUJQ0kIeMTomLhkKEdYIlgVSAA4AxgOCADYK4g+CFgoibiymPJ5OSl2acnaEypyGtYrPwucTA18ciz57WQ94K5uzt3/Xc/dsF1A3AFZYdTyXiLEg0ejtxQiVJkE+rVXFb22DlZYlqwm6McuR1xngvex59j36Bf/R/539bf09+xHy9ejt4QXXScfFtomnqZMxfT1p3VExO0UcPQQw6zzJfK8QjBRwqFDsMPwRA/ET0VOx45LfcGdWmzWbGX7+YuBqy6asMpomgZZumllCSaI7yivGHZ4VYg8aBsoAegAmAdIBegciCroQQh+qJO43+kDGVzpnRnjak9qkNsHO2I70VxETLp9I32u7hwumt8ab5pAGiCZYReRlCIekoaDC3N80+pUU4TH5SclgNXkpjJGiWbJtwMHRQd/p5KXzcfRF/yH/+f7V/7H6kfd57nXnidrBzCnD1a3NnimI/XZZXllFES6dExT2mNlAvyycdIFAYaxB1CHYAePiB8JnoyOAX2Y3RMcoLwyK8fLUhrxepZKMOnhmZjJRpkLeMd4muhl+EioI0gVyABIAsgNOA+oGeg7+FW4hui/WO7ZJTlyGcU6Hkps2sCrOUuWTAdMe9zjbW2t2f5X/tcfVu/W0FZw1UFSsd5iR7LOQzGTsTQstIOk9aVSRblGCiZUxqi25bcrl1ongSewZ9fn53f/F/639lf2B+3XzcemF4bXUEcilu4GktZRVgnVrKVKJOLEhuQW46NDPGKy0kcByWFKgMrQSu/LL0wezj5CDdgNULzsjGvr/0uHGyO6xaptKgqZvllomSm44fixeIh4Vyg9mBvoAigAeAa4BPgbGCkYTshsCJC43IkPWUjJmKnuqjpam3rxm2xby0w+DKQNLP2YPhVulA8Tj5NwE1CSkRDRnYIIEoAzBUN24+SUXgSypSIljCXQVj5GdcbGdwAnQod9h5DnzIfQR/wX/+f7x/+n64ffl7v3kKd95zP3AvbLRn0GKKXeZX6lGdSwRFJT4JN7YvMyiIILwY1xDiCOQA5vju8AXpM+GA2fPRlMprw3+81rV3r2ipsKNVnluZx5SfkOaMoYnRhnuEoIJDgWSABYAmgMeA54GFg5+FNIhAi8KOtJIUl9ybCaGVpnqss7I5uQXAEsdXzs/VcN005RPtBPUB/f8E+gzoFMAcfCQULH8ztzq1QXBI404IVddaS2BgZQ5qU24qco51fXjzeu98bX5tf+5/739wf3F+9Hz7eoZ4mXU2cmFuHWpwZV1g6locVflOhkjMQc86mDMtLJYk2xwCFRUNGgUc/R/1Le1O5Yrd6NVwzirHHMBPuciyjqyophuh7Zsjl8KSzo5Liz2Ip4WLg+uByoAngAWAYoA/gZuCdITJhpaJ24ySkLmUS5lDnp6jVKlir8C1aLxUw3zK2tFm2Rnh6ujT8Mv4yQDHCL0QoRhuIBkonS/xNg4+7USHS9ZR0ld3Xb9ipGchbDJw03MAd7Z583uzffZ+un/+f8N/B3/NfRV84Hkydw10dHBqbPRnFmPVXTZYPlL1S2BFhT5sNxswmyjyICcZRBFPCVEBU/lb8XHpneHo2VrS+MrMw9y8L7bMr7mp/KOcnpyZA5XVkBeNy4n1hpiEt4JTgW2AB4AhgLuA1IFrg3+FDYgUi4+Oe5LVlpibwKBHpiesW7LduKa/sMbyzWfVBt3J5Kbsl/ST/JIEjQx8FFYcEyStKxszVjpWQRZIjU62VIpaA2AcZdFpG274cWJ1WHjVetd8XH5jf+p/8n96f4J+DH0Ze6t4xHVncphuW2qzZaVgN1tuVU9P4UgqQjE7/DOULP8kRR1uFYINiAWJ/Yz1mu255fPdUNbVzozHfMCquSCz4qz3pmWhMpxil/uSAo95i2SIx4Wlg/6B1oAtgAOAWoAwgYWCWISmhm2Jq4xckH2UCZn9nVKjBKkNr2a1C7zzwhnKdNH+2K7gf+hm8F34WwBaCFAQNhgDILEnNy+ONq49kEQuS4FRg1csXXliY2fma/1vpHPYdpR513uffeh+s3/+f8l/FX/hfS98Anpadzt0qHCkbDRoW2MfXoVYklJNTLxF5T7PN4EwAylbIZMZsRG9Cb8BwfnI8d3pCOJR2sDSXMstxDm9ibYhsAqqSaTjnt6ZQJUMkUeN9YkZh7WEzYJigXaACYAdgLCAwoFSg2CF54fnilyOQ5KXllSbd6D5pdSrBLKCuEi/TsaNzQDVndxe5DrsKvQm/CQEIAwPFOsbqiNGK7Yy9Dn4QLtHNk5jVDxaul/ZZJNp423GcTd1Mni2er58Sn5Yf+Z/9X+Ef5N+I303e89473WYcs9ul2r1Ze1ghFu/VaVPO0mIQpI7YTT7LGglsB3bFe8N9QX3/fr1Bu4l5l3et9Y7z+/H28AGunezNa1Gp6+hd5yilzWTNY+mi4uI6IW/gxKC44AzgAKAUoAigXCCO4SDhkSJfIwnkEKUyJi2nQajs6i4rg21rruTwrXJDtGV2ETgE+j57/D37//sB+MPyheZH0kn0S4qNk49NETWSi1RMlfhXDNiI2era8hvdXOvdnJ5u3uJfdp+q3/9f89/IX/1fUp8I3qBd2l03HDebHNooGNpXtRY5lKlTBhGRD8xOOYwaynFIf4ZHRIqCi0CLvo18knqc+K62ifTwMuOxJe947Z3sFuqlaQqnyGafJVDkXiNH4o9h9OE5IJzgYCADIAYgKSAsIE6g0CFwoe7iiqOCpJZlhGbLqCrpYKrrbEnuOm+7MUpzZjUNNzy483rvfO4+7cDswujE4AbQSPfKlIykjmZQGBH300RVO5ZcV+VZFVpq22TcQp1DHiWeqZ8OH5Nf+J/93+Nf6N+On1Ue/N4GXbJcgZv1Go3ZjRh0FsQVvpPlUnlQvM7xTRhLdElGx5HFlwOYwZl/mf2c+6Q5sfeH9egz1HIOsFius+zia2Vp/mhvJzhl2+TaY/Ui7OICYbZgyaC8IA5gAKAS4ATgVuCIIRhhhuJTIzxjweUiJhwnbuiY6hjrrW0UbszwlLJqNAt2Nrfp+eN74L3gf9/B3YPXhcvH+Amay7HNe0810N8SthQ4laVXOxh4WZwa5JvRnOFdk95n3t0fct+o3/8f9V/Ln8IfmR8Q3qpd5Z0D3EXbbJo5WOzXiNZOlP9THNGoz+UOEwx0ikvImoaihKXCpoCnPqi8rXq3eIj243TJMzvxPW9PbfNsK2q4qRyn2OauZV6kamNSophh/GE/IKDgYmAD4AUgJqAnoEhgyGFnIePiviN0pEbls6a5Z9dpTCrV7HNt4u+isXEzDHUytuH42HrT/NK+0kDRQs2ExQb1yJ3Ku0xMDk7QAVHiE2+U6BZKF9RZBZpcm1hcd505nd2eox8Jn5Bf91/+n+Wf7N+UX1xexd5Q3b5cjxvEGt5ZnxhHVxhVlBQ7klDQ1Q8KDXILTomhR6zFskO0QbS/tT23+785jHfh9cG0LTImsG+uii03a3kp0SiAZ0hmKmTno8CjNuIK4b0gzqC/YA/gAKARIAFgUaCBIQ/hvOIHoy9j8yTR5gqnXCiE6gPrly09brTwe/IQtDF13DfO+cg7xX3E/8RBwkP8hbEHngmBS5jNY08ekMjSoJQkVZKXKZhoGY0a1xvFnNcdix5g3tefbx+m3/7f9p/On8bfn18ZHrPd8N0Q3FRbfFoKWT9XnFZjVNUTc9GA0D2OLExOiqZItUa9hIFCwgDCfsP8yHrSOOM2/TTicxRxVO+l7cksf+qL6W6n6aa95WxkdqNdoqGhw+FE4OUgZSAEoARgI+AjYEKgwOFd4dkisaNm5HelYuanZ8Qpd6qALFyty2+KcVgzMrTYdsd4/Xq4vLd+tsC2ArKEqkabiIQKogxzjjcP6pGMU1rU1FZ314NZNhoOW0ucbF0wHdWenN8E341f9h/+3+ef8J+Z32Oezp5bXYpc3JvTGu7ZsNhaVyyVqVQSEqgQ7Q8jDUuLqIm8B4eFzYPPgdA/0L3TO9n55vf79dr0BfJ+sEbu4C0Ma40qI+iR51hmOST0o8xjAOJTIYPhE6CC4FGgAKAPYD4gDKC6YMdhsuI74uIj5GTB5jlnCWixKe7rQS0mbpzwYzI3M9d1wbf0Oaz7qj2pv6kBpwOhhZaHg8mni0ANSw8HEPKSS1QQFb9W19hXmb4aiZv5nIydgh5ZntIfax+kn/5f99/Rn8tfpd8g3r2d/B0dXGJbTBpbWRGX8BZ4FOsTSpHYUBYORYyoSoCI0AbYxNyC3YDd/t8843rs+P121vU7cyyxbG+8rd6sVGrfaUDoOmaNJbpkQyOoYqrhy6FK4OmgZ6AFoAOgIWAfIHyguWEUoc5ipWNY5GglUiaVZ/DpIyqqrAYt8+9x8T7y2PT+Nqy4onqdfJv+m4CawpdEj4aBCKoKSIxbDh9P05G2UwXUwNZlV7JY5loAG36cIR0mXc2ell8AH4pf9N//X+nf9F+fX2re115lnZZc6hviGv8ZglitFwDV/pQoUr9QxU98DWVLgsnWh+KF6MPrAeu/6/3ue/T5wXgV9jR0HrJWsJ3u9m0hq6EqNqijZ2imB+UB5BgjCyJb4YrhGOCGYFOgAKANoDqgB6Cz4P8haOIwYtUj1eTx5efnNuhdadnrayzPboTwSnId8/11pzeZOZG7jr2OP42Bi8OGhbvHaYlOC2cNMs7v0JwSdhP71WxWxdhHGa7avButXIIduR4SHsxfZx+iX/2f+R/UX9AfrB8o3oceBx1qHHCbW5psWSPXw5aMlQDToVHwEC6OXsyCStsI6sbzxPfC+MD5fvp8/rrHuRf3MPUUs0UxhC/TLjRsaOryqVMoCybcpYhkj6OzYrRh02FRIO3gamAGoALgHyAbIHbgseELocOimSNLJFklQWaDZ92pDqqVLC+tnG9ZsSXy/3Sj9pH4h3qCPIC+gAC/QnxEdIZmiFAKb0wCTgdP/JFgUzEUrRYS16EY1loxmzHcFZ0cXcVej987X0cf81//n+uf+B+kn3He4B5v3aIc95vw2s9Z1BiAF1TV09R+kpaRHU9Uzb7LnMnxR/2FxAQGQgaAB34JvA/6HDgwNg30d7JusLUuzK12q7UqCWj053jmFqUPJCPjFWJkYZHhHiCJ4FVgAOAMIDegAqCtIPbhXuIlIsgjx2TiJdanJGhJqcTrVSz4bm0wMfHEc+N1jLe+eXa7c31yv3JBcINrhWFHT0l0Sw4NGo7YUIWSYJPnlVkW9Bg2mV/arluhHLddcB4K3safYx+gH/0f+h/XH9Sfsh8wnpCeEl12nH6baxp9WTYX1xahVRaTuBHH0EcOt8ycCvVIxYcOxRMDFEEUvxW9GbsieTI3CrVt812xm6/p7gosvarGKaVoHCbsJZaknGO+Yr3h2yFXYPJgbSAHoAIgHKAXIHEgqmECofkiTON9pAnlcOZxp4ppOmp/69kthO9BcQzy5bSJtrc4bHpm/GU+ZIBkAmEEWcZMCHYKFgwpze+PpZFKUxwUmVYAV4/YxpojGyTcCh0Snf0eSR82X0Pf8d//n+2f+5+p33je6J56Ha3cxNw/mt+Z5ZiS12jV6RRU0u2RNU9tjZhL9wnLyBiGHwQhgiIAIr4k/Cr6NrgKNme0UHKG8MxvIu1L68lqXGjGZ4kmZWUcpC+jH6JtIZjhI6CNoFdgASAK4DRgPeBmoO6hVSIZovtjuSSSZcWnEeh16bArPyyhblVwGTHrM4l1sjdjuVt7WD1Xf1bBVUNQhUaHdQkaizTMwk7A0K8SCxPTFUYW4hgmGVCaoJuU3KydZx4DXsCfXt+dn/xf+x/Z39jfuB84XpneHR1DHIybuppOGUhYKla11SwTjtIfUF+OkQz1ys+JIEcqBS6DL8EwPzE9NLs9OQx3ZHVHM7Yxs2/A7l/skmsZ6beoLSb75aSkqOOJosdiIyFdoPcgcCAI4AGgGmATIGugoyE5oa5iQONv5DrlIGZf57do5ipqa8Ktra8pMPPyjDSvtly4UXpLvEn+SUBIwkYEfsYxiBwKPIvRDdePjpF0UscUhVYtl35YtpnUmxecPpzInfTeQp8xX0Cf8B//n+9f/x+vH3+e8R5EXfmc0hwOWy+Z9till3zV/hRq0sTRTU+GTfGL0QomSDNGOkQ9Aj2APj4APEW6UThkdkE0qXKe8OOvOS1hK91qb2jYJ5lmdGUqJDujKeJ14aAhKSCRoFmgAaAJYDFgOSBgYOahS6IOYu5jquSCpfRm/2giKZsrKSyKrn2vwLHR86+1V/dIuUB7fL07/zuBOgM1hSvHGskAyxvM6g6pUFiSNVO+lTKWkBgVWUEakpuInKHdXd47nrrfGp+bH/uf+9/cn90fvh8AHuMeKB1PnJqbidqe2VpYPZaKVUHT5VI20HfOqgzPiynJOwcFBUnDSwFLv0x9T/tYOWb3fnVgc46xyzAXrnWspystaYnofibLpfLkteOU4tEiKyFj4PugcyAKIAFgGGAPYGXgm+Ew4aQidOMiZCvlECZOJ6Ro0epVK+xtVm8RMNsysnRVdkH4dnowfC5+LcAtQirEJAYXCAIKIwv4Tb+Pd5EeUvIUcVXa120YplnF2wqcMtz+naxee57sH30frl//n/Efwl/0H0ZfOZ5OXcUdHxwc2z+ZyFj4V1DWExSBExvRZU+fDcsMKwoAyE5GVYRYQljAWX5bPGC6a/h+tlq0gnL3MPrvD622q/GqQmkp56nmQ2V3pAejdGJ+4adhLqCVYFvgAeAIIC5gNGBZ4N6hQeIDIuGjnKSy5aNm7SgOqYarE2yzriXv6DG4s1W1fXct+SU7IX0gfyABHsMahREHAIknCsLM0Y6R0EHSH9OqFR9WvdfEWXHaRJu8HFbdVJ40HrTfFl+YX/qf/N/e3+FfhB9HnuxeMt1b3KhbmVqvmWxYERbe1VdT+9IOUJBOw00pSwQJVcdgBWUDZoFm/2e9avty+UF3mDW5s6cx4vAubkus++sBKdxoT2cbZcFkwqPgItriM2FqYMCgtiALoADgFmALoGCglOEoIZmiaOMU5BzlP+Y8Z1Fo/eo/65Ytfy748IIymPR7did4G3oVPBM+EkASAg+ECQY8h+gJyYvfjaePYFEIEtzUXVXIF1uYlln3Wv1b51z0XaPedN7m33mfrJ//n/Kfxd/5H00fAd6YHdCdLBwrWw+aGZjK16SWKBSXEzLRfQ+3zeSMBQpbSGkGcIRzwnRAdP52fHu6RniYtrR0mzLPcRJvZe2L7AXqlWk757pmUqVFZFPjfyJHoe6hNGCZYF4gAqAHICugL+BToNaheGH4IpUjjmSjZZJm2ug7KXHq/axc7g4vz7Gfc3v1IzcTOQo7Bj0FPwSBA4M/hPZG5kjNSumMuQ56UCsRyhOVlQvWq5fzmSJadptvnEvdSx4sHq6fEd+Vn/mf/V/hX+Vfid9PHvVePZ1oHLYbqFqAGb5YJBbzFWzT0lJl0KiO3E0DC15JcId7BUBDgcGCf4L9hjuNuZv3sjWS8//x+rAFbqGs0OtU6e7oYKcrJc+kz6ProuSiO2Fw4MVguWANIACgFGAH4FsgjeEfYY9iXSMHpA4lL6Yq536oqaoqq7/tJ+7g8Klyf3QhNgz4AHo6O/e993/2gfRD7gXiB84J8AuGjY+PSVEx0ofUSVX1VwnYhhnoWu/b21zqHZsebd7hn3Xfqp//X/QfyR/+H1OfCh6iHdwdORw52x9aKtjdV7hWPRStEwnRlQ/Qjj3MHwp1yEQGi8SPAo/AkD6RvJa6oTiy9o309HLnsSmvfG2hbBpqqKkNp8rmoaVTJGAjSaKQ4fYhOiCdYGBgAyAGICjgK2BNoM7hbuHtIoijgGST5YGmyKgnqV0q5+xGLjavtzFGM2I1CLc4eO866vzpvulA6ELkRNuGy8jzipBMoI5ikBRR9FNA1ThWWVfimRLaaJti3EDdQZ4kXqhfDV+S3/hf/h/jn+lfj59WXv5eCB20XIPb95qQmZAYd1bHlYIUKNJ9EIDPNU0ci3iJSweWBZuDnUGd/559oXuoubY3jDXsc9iyErBcbres5etoqcFosec7Jd4k3KP3Iu5iA+G3oMpgvKAOoACgEmAEYFXghuEW4YUiUWM6Y/9k32YZZ2volaoVa6mtEK7I8JCyZfQHNjJ35Xne+9x92//bQdkD00XHR/PJloutzXePMhDbkrKUNVWiVzhYddmZmuKbz5zf3ZJeZp7cH3IfqJ//H/WfzB/C35ofEl6r3eedBhxIW29aPBjv14wWUdTC02CRrM/pDhcMeMpQCJ7GpwSqQqsAq76tPLH6u/iNNue0zXM/8QEvky327C6qu+kfp9umsOVg5GxjVGKZ4f2hP+ChoGLgA+AFICYgJyBHoMchZaHiIrwjcmREZbDmtmfUKUiq0mxvrd7vnrFtMwh1LnbduNP6z7zOPs3AzQLJRMDG8YiZircMSA5K0D2RnpNsFOTWRxfRmQMaWltWHHWdOB3cXqIfCN+P3/cf/p/l3+1flR9dnsdeUp2AXNFbxprhGaHYSlcb1ZeUP1JUkNjPDk12S1LJpcexBbbDuIG5P7m9vHuDedC35jXFtDEyKrBzbo2tOut8adQogydLJizk6aPCozhiDCG+YM9gv+AQYACgEKAA4FDggCEOYbsiBaMtI/Ckz2YH51kogaoAa5OtOa6w8HfyDHQtNde3yrnDu8D9wH//wb4DuEWsx5nJvQtUzV9PGpDFUp1UIRWPVyaYZVmKmtUbw5zVXYmeX57Wn25fpp/+n/bfzx/Hn6CfGl61nfLdEtxWm38aDRkCV9+WZpTY03eRhJABjnBMUsqqiLmGggTFwsaAxv7IfMz61rjndsF1JnMYMVivqa3MrEMqzylxp+xmgGWupHijX2KjIcUhReDl4GVgBOAEICOgIqBBoP+hHGHXYq+jZKR1JWAmpGfA6XQqvKwY7cdvhnFT8y601DbC+Pj6tDyy/rJAsYKuBKYGlwi/yl3Mb44zD+bRiJNXVNFWdNeAmTNaDBtJXGqdLl3UXpvfBB+M3/Xf/t/oH/Efmp9k3tAeXR2MXN7b1ZrxWbOYXVcv1azUFZKr0PEPJw1Py6zJgEfMBdID1AHUv9U917veees3wDYfNAnyQrCKruPtD+uQaibolKdbJjtk9uPOIwKiVKGFIRSgg2BSIACgDyA9YAuguWDF4bEiOiLgI+Ik/2X2ZwZorenra31s4q6Y8F8yMzPTNf03r7moe6W9pT+kgaLDnUWSR7+JY0t7zQcPA1Du0kfUDNW8VtTYVRm7modb95yK3YCeWF7RH2qfpF/+H/gf0h/MH6bfIl6/Hf3dH5xk206aXhkUl/NWe1Tuk05R3FAaDkmMrIqEyNSG3QThAuIA4n7jvOf68XjBtxs1P7MwsXBvgC4iLFfq4mlD6D0mj6W8pEUjqiKsYczhS+DqIGggBeADYCEgHqB7oLghEyHMoqNjVqRlpU9mkmftqR+qpywCbe/vbjE68tT0+faoOJ36mPyXfpcAlkKTBIsGvMhlykSMVw4bT8/RstMClP2WIlevWOOaPds8nB8dJJ3MXpVfP19J3/Sf/1/qH/TfoB9r3tjeZ12YXOxb5JrB2cVYsFcEFcIUa9KDEQkPQA2pS4cJ2wfnBe0D70HwP/B98vv5ecX4GnY4tCLyWrChrvntJOukajmopidrZgolBCQZ4wyiXSGMIRnghuBT4ACgDWA6IAagsqD9oWciLqLS49Ok72XlJzPoWinWa2dsy66BMEZyGbP5NaL3lPmNe4o9ib+JAYeDgkW3h2VJSctizS7O7BCYUnKT+JVpVsMYRJmsWrnbq1yAXbfeEN7LX2afoh/9n/lf1N/Q360fKh6IngkdbBxy214abxkm18bWkBUEU6UR9BAyjmLMhorfSO9G+ET8Qv1A/f7+/ML7DDkcNzT1GLNJMYfv1u437Gxq9elV6A3m3yWKpJGjtSK14dShUiDuoGrgBuACoB6gGmB14LChCiHB4pcjSORWpX7mQKfaaQtqkawr7ZivVbEh8vs0n7aNuIL6vbx8PnuAewJ3xHBGYkhLymtMPk3Dj/jRXNMtlKnWD9eeWNPaL1svnBPdGt3EHo7fOl9Gn/Mf/5/sH/ifpV9y3uGecZ2kHPmb81rSGdbYgxdYFddUQhLaUSFPWM2Cy+EJ9YfCBghECsILAAv+DjwUOiB4NHYSNHuycrC47tAteiu4agxo96d7ZhklEWQl4xbiZeGTIR8giqBV4ADgC+A24AHgrCD1YV1iIyLGI8Uk32XT5yFoRmnBa1Fs9K5pMC2xwHPfNYh3uflyO279bj9twWxDZ0Vcx0sJcAsJzRaO1JCB0l0T5FVWFvEYM9ldWqwbnxy1nW6eCZ7Fn2Jfn5/83/pf15/VH7MfMd6SHhQdeNxA262aQBl5F9oWpJUaE7vRy5BLDrwMoEr5iMoHE0UXgxjBGT8aPR47Jvk2dw71cfNhsZ+v7a4NrIErCWmoKB7m7qWY5J5jgGL/YdyhWGDzIG2gB+ACIBxgFmBwIKlhASH3Ykrje2QHZW5mbqeHaTcqfGvVbYEvfXDI8uF0hXay+Gf6YnxgvmAAX4JcxFVGR8hxyhHMJY3rj6HRRtMYlJYWPRdM2MPaINsinAhdEN373kgfNV9DX/Gf/5/t3/wfqp953uoee92v3MbcAhsiGehYlddsFeyUWFLxUTlPcY2cS/tJ0AgcxiOEJgImgCc+KTwvOjr4DnZrtFRyirDQLyZtT2vMql9oyWeL5mflHuQxoyFibqGaISSgjmBX4AEgCqAz4DzgZaDtYVOiF+L5I7bkj6XC5w7ocqmsqzusna5RcBUx5vOFNa33XzlXO1O9Uv9SQVEDTEVCB3DJFkswzP5OvRBrUgeTz9VC1t8YI1lOGp5bktyq3WWeAh7/3x5fnR/8H/tf2l/Zn7kfOZ6bXh7dRRyO270aUNlLGC2WuVUvk5KSIxBjjpUM+grTySTHLkUywzRBNL81fTk7AblQ92i1SzO6MbdvxG5jbJWrHOm6qC/m/mWnJKsji2LI4iRhXqD34HCgCSABoBogEqBqoKHhOCGs4n7jLaQ4ZR3mXOe0aOLqZuv/LWnvJXDv8of0q3ZYOEz6RzxFfkTAREJBhHqGLUgXyjhLzQ3Tj4rRcNLDlIIWKpd7mLPZ0hsVnDycxt3zXkFfMF9AH+/f/5/vn/+fr99AnzKeRd37nNQcENsyWfnYqJdAFgGUrpLIkVFPik31y9VKKog3xj7EAYJCAEJ+RHxKOlW4aLZFdK1yovDnbzztZKvgqnJo2yecJnblLGQ9oyuid2GhYSogkiBZ4AGgCSAw4DhgXyDlYUniDKLsY6hkv+WxpvxoHumX6yWshu55r/yxjbOrdVN3RHl7+zh9N383ATWDMQUnhxaJPIrXzOYOpZBU0jHTu1Uvlo0YEpl+mlBbhlygHVxeOl653xofmp/7X/wf3N/d378fAV7knindUZyc24xaoZldWADWzdVFU+kSOpB7zq5M08suST+HCYVOA0+BUD9Q/VR7XHlrN0K1pHOSsc8wG255bKqrMKmM6EEnDiX1ZLfjlqLSoiyhZOD8oHOgCmABIBggDqBlIJrhL2GiYnLjICQpZQ1mSyehaM6qUavorVJvDTDXMq50UTZ9uDH6K/wp/ilAKMImRB+GEsg9yd8L9A27z3PRGpLulG4V19dqGKPZw5sIXDEc/N2q3nqe6198n64f/5/xX8Mf9N9HXzreT93HHSFcH1sCWgsY+1dUFhaUhJMfkWkPow3PTC9KBQhShloEXMJdQF3+X7xlOnA4Qvae9IZy+zD+rxMtuiv06kVpLOespkXleeQJo3YiQCHooS+gliBcIAIgCCAt4DOgWODdYUBiAWLfo5pksGWgpuooC2mDKw/sr+4h7+QxtHNRdXk3Kbkg+xz9G/8bgRpDFgUMxzxI4sr+jI2OjhB+EdxTptUcFrrXwdlvWkJbuhxVHVLeMp6z3xWfl9/6X/zf31/iH4UfSN7t3jSdXdyqm5vashlvWBQW4hVa0/+SEhCUDsdNLYsIiVoHZIVpg2sBa39sPW97dzlFt5x1vbOrMebwMi5PLP9rBGnfaFInHeXDpMSj4eLcYjSha2DBYLagC+AA4BXgCuBfoJOhJqGYImbjEuQapT0mOadOaPpqPGuSbXsu9TC+MlS0dvYjOBb6EPwOvg3ADYILBATGOEfjycWL202jz1yRBFLZlFoVxRdYmJOZ9Nr7G+Vc8p2iXnOe5h9436wf/5/y38Zf+d9OHwMemd3SnS5cLdsSGhyYzden1iuUmpM2kUEP+83ojAlKX4hthnUEeAJ4wHl+evxAOor4nPa4tJ9y03EWL2mtj6wJapipPqe9JlTlR6RV40DiiSHv4TVgmiBeYAKgBuArIC8gUqDVYXbh9mKTI4wkoOWPptfoN+luavosWS4Kb8uxm3N3tR63DvkFuwG9AL8AAT8C+wTyBuIIyQrlTLUOdlAnUcaTkhUIlqjX8Nkf2nRbbVxKHUmeKt6tnxEflR/5X/2f4d/mH4rfUB723j8dahy4W6ragtmBGGdW9pVwU9YSaZCsjuBNBwtiiXTHf4VEw4ZBhv+HfYq7kjmgN7Z1lzPD8j6wCS6lLNRrWCnx6GNnLaXSJNGj7WLmIjzhceDGILngDWAAoBQgB2BaYIyhHiGN4lsjBWQLpSzmJ+d7qKZqJyu8LSQu3PClcns0HPYIeDw59bvzPfL/8kHwA+nF3YfJyewLgo2Lj0VRLhKEVEYV8hcHGINZ5hrtm9mc6F2Znmye4J91X6pf/1/0X8mf/t9Unwteo53eHTtcPFsiGi2Y4Fe7lgBU8JMNkZjP1I4CDGMKeghIRpBEk4KUQJS+ljybOqW4tzaSNPhy67Etr0At5OwdqqupEKfNpqQlVWRiI0tikmH3YTsgniBg4ANgBeAoYCqgTKDNoW1h62KGY74kUWW+5oWoJGlZ6uRsQq4yr7MxQjNd9QR3NDjquuZ85T7kwOPC38TXRseI70qMTJyOXtAQkfDTfZT1FlaX39kQGmYbYNx/HQAeIx6nXwyfkl/4H/4f5B/qH5CfV57/3gndtlyGG/oak1mTGHpWytWFlCySQRDEjzlNIMt8yU+HmoWgA6HBoj+i/aW7rPm6t5B18HPcshawYC67LOkra+nEqLSnPaXgpN6j+OLwIgUhuKDLIL0gDuAAoBIgA+BVIIXhFWGDok9jOCP85NzmFmdo6JJqEiumLQzuxPCMsmG0AvYt9+E52nvX/dd/1sHUw87FwwfviZJLqY1zjy4Q19KvFDIVn1c1WHMZlxrgW82c3h2RHmWe219xn6hf/x/138yfw5+bHxOerV3pXQgcSptx2j7Y8tePVlVUxpNkUbDP7Q4bTH0KVIijRqtErsKvgLA+sXy2OoA40Xbr9NFzA/FFL5at+qwyKr7pIqfeZrNlYyRuY1Yim2H+4QDg4mBjYAQgBOAloCZgRqDF4WQh4GK6I3AkQeWuJrOn0SlFas7sa+3bL5qxaPMENSo22XjPuss8yf7JQMiCxMT8Rq1IlUqzDEQORxA50ZsTaNThlkQXztkAmlgbVBxz3Tad2x6hHwgfj1/3H/6f5l/uH5YfXt7InlRdglzTm8ka49mk2E1XHxWbFALSmFDczxJNektXCaoHtYW7A70Bvb++PYD7x/nVN+p1yfQ1ci5wdy6RbT4rf6nXKIYnTaYvJOvjxGM6Ig2hv2DQIICgUKAAoBBgAGBP4L7gzSG5ogPjKuPuZMymBOdWKL5p/OtP7TXurPBzsgh0KPXTd8Y5/zu8fbv/u4G5g7PFqIeVibjLUM1bTxbQwZKZ1B3VjFcjmGLZiBrS28Gc052IHl5e1d9t36Yf/p/3H8+fyF+hnxuetx30nRTcWNtBmk/ZBVfi1moU3FN7UYiQBY50jFcKrsi+BoaEygLLAMt+zLzROtr467bFtSqzHDFcr61t0CxGqtJpdKfvJoLlsSR642EipKHGYUbg5qBl4ATgBCAjICIgQKD+YRrh1aKto2JkcqVdZqFn/ekw6rksFW3Dr4JxT/MqdM/2/ri0uq/8rn6uAK0CqcShhpLIu4pZzGuOL0/jEYUTVBTOFnHXvdjw2gnbR1xonSzd0x6a3wNfjF/1n/8f6F/x35ufZh7Rnl7djlzhG9ga9Bm2mGBXM1WwVBlSr5D1DytNVAuxSYTH0IXWQ9iB2T/Zfdw74vnvt8R2I3QOMkZwjm7nbRNrk6op6JenXaY95Pjj0CMEIlYhhiEVYIPgUmAAoA7gPOAK4LggxKGvojgi3ePfpPyl86cDaKqp5+t57N7ulTBbMi7zzvX496t5pDuhPaC/oAGeQ5jFjce7SV9Ld80DDz+QqxJEVAmVuVbR2FJZuRqFG/WciR2/Xhce0B9p36Pf/h/4X9KfzN+n3yOegJ4/3SGcZxtRGmDZF5f2Vn7U8hNSEeAQHg5NzLDKiUjYxuGE5YLmgOb+6DzsevW4xjcfdQOzdLF0L4PuJaxbKuWpRug/5pIlvuRHI6viriHOIUzg6uBooAXgA2AgoB3geqC24RGhyuKhY1RkYyVMpo+n6qkcaqOsPu2sL2oxNvLQtPW2o/iZepS8kv6SgJHCjoSGxrhIYYpATFMOF4/MEa9TPxS6Vh9XrJjhGjtbOlwdXSMdyt6UXz6fSV/0X/9f6l/1n6EfbR7aXmkdmhzum+baxFnIGLNXB1XFlG+ShtEND0QNrYuLSd9H60Xxg/PB9L/0/fd7/bnKOB62PPQm8l5wpW79rShrp6o8qKknbeYMpQZkG+MOYl6hjSEaoIegVCAAoA0gOaAF4LGg/GFloiyi0OPRJOyl4mcw6Fbp0utj7MfuvTACchWz9PWed5B5iPuF/YU/hIGDA73FcwdhCUWLXs0rDugQlNJu0/VVZhbAGEHZqhq3m6lcvp12Xg/eyl9l36Gf/Z/5X9Vf0Z+uHyteih4K3W5cdRtg2nHZKdfJ1pNVB9Oo0ffQNo5nDIqK44jzhvzEwMMBwQJ/A30HexB5IHc5NRzzTTGL79quO2xvqvkpWOgQ5uGljSST47bit2HV4VMg72BrYAbgAqAeYBngdOCvYQihwCKVI0akVCV8Jn2nl2kIKo4sKG2Ur1HxHfL29Jt2iTi+enl8d753AHaCc0Rrxl4IR4pnDDpN/4+1EVlTKlSmlgzXm1jRGizbLZwR3Rkdwp6NnzmfRh/y3/+f7F/5H6ZfdB7i3nNdphz72/Xa1JnZ2IYXW1Xa1EXS3hElD1zNhwvlSfnHxkYMxA9CD4AQPhJ8GLokuDi2FnR/snawvK7T7X2ru6oPqPqnfiYbZROkJ6MYomchlCEf4IsgViAA4AugNmABIKsg9CFb4iFiw+PC5Nzl0SceaEMp/isN7PDuZXApsfwzmvWD97W5bbtqfWm/aUFnw2LFWIdGyWvLBc0SjtDQvlIZk+DVUtbuGDEZWtqp250cs91tHghexJ9h358f/N/6X9gf1d+0HzMek54V3XrcQ1uwGkLZfBfdVqgVHZO/kc9QTw6ADOSK/cjORxfFHAMdQR2/Hr0ieys5OrcTNXYzZbGjb/FuESyEawypqyghpvFlmySgY4IiwOId4Vlg8+BuIAggAiAb4BXgb2CoIT+htaJI43kkBOVrpmunhGkzqnjr0e29bzmwxPLddIE2rrhjel48XD5bwFsCWERRBkOIbYoNjCGN58+eEUNTFVSS1joXShjBWh5bIFwGXQ9d+l5HHzSfQt/xH/+f7h/836ufex7rXn1dsdzJHARbJNnrGJkXb1Xv1FwS9RE9D3XNoIv/idRIIUYoBCqCKwArvi28M7o/eBK2b/RYso6w0+8qLVLrz+piaMwnjmZqZSEkM6Mi4m/hmyElYI7gWCABIApgM2A8IGSg7CFSIhXi9yO0ZI0l/+bL6G9pqSs37JnuTbARMeLzgPWpt1r5UrtPPU5/TcFMg0fFfccsiRJLLMz6TrlQZ5ID08xVf5acGCCZS5qcG5DcqR1kHgDe/t8dn5zf/B/7X9rf2l+6HzrenN4g3UdckRu/mlOZThgwlryVM1OWEicQZ46ZTP5K2EkpBzLFN0M4gTk/Of09uwX5VTds9U9zvjG7L8guZuyZKyApvagypsDl6WStI40iyqIl4V+g+KBxIAlgAaAZ4BHgaaCg4TbhqyJ84ytkNeUbJlnnsSjfamNr+21l7yFw6/KDtKb2U/hIekL8QP5AQH/CPQQ2BikIE4o0S8jNz8+HEW0SwFS+1eeXeNixWc/bE1w63MVd8h5AXy+ff1+vn/+f79/AH/CfQd8z3ked/VzWXBMbNNn8mKuXQ1YFFLISzFFVD46N+gvZii7IPEYDREYCRoBG/kj8TrpZ+Gz2SXSxcqbw6y8Abagr5Cp1aN3nnuZ5ZS6kP6MtYnjhomEq4JLgWmABoAkgMGA3oF4g4+FIYgqi6mOmJL1lrub5aBvplGsiLIMude/4sYmzpzVPN3/5N3sz/TL/MoExQyzFIwcSSTiK04ziDqHQURIuU7gVLFaKGA/ZfBpOG4Rcnl1a3jkeuN8ZX5of+x/8X91f3p+AH0Ke5h4rnVOcnxuO2qRZYBgEFtEVSNPs0j6Qf86yTNgLMokDx03FUoNUAVR/VX1Yu2D5b7dG9aizlrHS8B8ufOyt6zPpj+hD5xCl96S545ii1CIt4WYg/WB0IAqgASAXoA4gZCCZoS3hoKJw4x4kJuUK5khnnijLak4r5S1Orwkw0vKqNEz2eXgtuie8JX4kwCSCIcQbRg6IOYnay/ANt89wERcS6xRq1dTXZ1ihGcEbBhwvHPsdqZ55Xupfe9+t3/+f8Z/Dn/XfSJ88XlGdyR0jXCGbBNoOGP5XV1YaFIgTI1FtD6cN00wziglIVwZeRGFCYcBifmQ8abp0uEc2ozSKcv7wwq9W7b2r+GpIqS/nr2ZIZXwkC6N34kGh6aEwoJagXGACIAfgLWAy4Ffg3CF+4f+inaOX5K3lnebnKAgpv6rMbKxuHi/gMbBzTTV09yU5HHsYfRd/FwEVwxGFCEc4CN6K+oyJjooQelHYk6NVGRa31/7ZLNpAG7fcU11RXjFest8U35ef+h/9H9/f4p+F30oe7142XV/crNueGrTZchgXVuWVXlPDUlYQmA7LTTGLDMleh2jFbcNvgW//cL1z+3u5SfegtYHz7zHqsDXuUuzC60dp4mhU5yBlxiTG4+Pi3eI14WxgwiC3IAwgAOAVoApgXuCSoSVhlmJlIxCkGCU6ZjanS2j3Kjjrju13bvEwujJQtHK2HrgSugx8Cj4JgAkCBsQARjPH34nBS9dNn89Y0QDS1hRW1cIXVdiRGfJa+NvjXPEdoN5ynuUfeF+r3/+f8x/G3/rfTx8Enptd1F0wXDAbFNofWNDXqxYu1J4TOlFFD//N7MwNimPIcgZ5hHyCfUB9vn98RLqPOKF2vLSjctcxGe9tbZMsDKqbqQGn/+ZXZUnkV+NCooqh8SE2IJqgXuAC4AagKqAuYFGg1CF1YfRikOOJ5J4ljObU6DSpayr2rFWuBm/HsZczc3Uadwp5AXs9PPw++8D6gvaE7YbdiMTK4UyxDnKQI5HDE47VBZal1+4ZHVpyG2tcSF1IHimerJ8QX5Tf+R/9n+If5t+L31Fe+F4A3awcuputWoWZhBhqVvnVc9PZ0m1QsE7kjQtLZwl5B0PFiQOKwYt/i/2O+5Z5pHe6tZszx/ICsEzuqOzXq1tp9OhmJzBl1GTT4+9i5+I+IXMgxyC6YA2gAKAToAagWWCLoRyhjCJZIwNkCWUqZiUneGijKiOruK0gbtkwoTJ3NBi2BDg3ufE77r3uf+3B64PlRdlHxYnny76NR89BkSqSgNRC1e8XBBiA2eOa65vXnObdmF5rnt/fdJ+p3/9f9J/KH/+fVd8M3qVd3909XD6bJJowmONXvtYD1PQTEVGcz9iOBgxnSn5ITMaUhJgCmMCZPpq8n7qp+Lt2lnT8cu+xMW9D7ehsIOqu6ROn0GampVekZCNNIpPh+KE8IJ7gYSADYAWgJ+Ap4EugzGFr4emihGO75E6lvCaCqCFpVmrg7H7t7u+vMX3zGbUANy+45jrh/OC+4EDfQtuE0sbDSOsKiAyYjlrQDNHtU3oU8hZTl90ZDZpj217cfV0+neHepl8L35Hf+B/+H+Rf6t+RX1jewV5LnbhciFv8mpYZldh9ls4ViRQwUkTQyI89TSULQQmTx57FpEOmQaa/p32qO7F5vveUtfSz4LIacGPuvuzsq28px6i3pwBmIuTg4/ri8aIGobmgy+C9oA8gAKAR4AMgVCCEoRQhgeJNozYj+qTaJhOnZaiPKg6rom0JLsEwiHJdtD616bfcudX7033S/9JB0EPKRf7Hq0mOS6WNb48qUNRSq5QulZwXMphwWZSa3hvLnNxdj55kXtpfcR+n3/7f9h/NH8RfnB8U3q8d6x0KHEzbdFoBmTXXklZYlMoTaBG0j/EOH0xBSpjIp4avxLNCtAC0vrX8urqEuNW28DTVswfxSO+abf4sNWqCKWWn4Sa15WVkcGNX4pzhwCFB4OMgY6AEIATgJWAloEWgxKFiod6it+Nt5H9la2awp83pQerLLGgt12+WsWTzP/Tl9tT4yzrGvMV+xMDEAsBE+AaoyJEKrsxADkMQNhGXU2VU3lZBF8wZPhoVm1Icch003dneoB8HX47f9t/+n+af7p+XH2Aeyh5WHYRc1dvLmuZZp5hQlyJVnpQGkpwQ4M8WTX6LW0muh7nFv4OBgcI/wr3Fe8w52Xfutc40OXIycHrulO0Bq4LqGiiI51BmMaTt48ZjO+IO4YChESCBIFDgAKAQID/gDyC94Muht+IB4yjj6+TKJgInUui7KfmrTG0yLqkwb7IENCS1zzfB+fr7t/23v7cBtQOvRaQHkQm0i0zNV08TEP3SVlQalYkXINhgGYWa0Jv/nJHdhp5dHtTfbR+l3/6f91/QH8kfop8c3rid9l0XHFsbRBpS2QhX5hZtVN/TfxGMUAmOeIxbSrMIgkbKxM6Cz4DP/tE81brfePA2yfUusyAxYG+w7dOsSerVaXen8eaFZbNkfONi4qYhx6FH4OdgZmAFIAPgIqAhYH+gvSEZYdPiq6NgJHAlWqaep/qpLWq1rBGt/69+cQvzJjTLtvo4sDqrfKn+qYCowqVEnUaOiLdKVYxnjitP31GBk1CUytZu17sY7loHW0VcZt0rHdHemZ8Cn4vf9V//H+if8l+cn2ce0t5gXZBc41vamvbZuVhjlzaVs9Qc0rNQ+Q8vTVgLtYmJB9TF2sPdAd2/3f3ge+c58/fItid0EjJKcJIu6y0W65bqLOiaZ2BmAGU7I9IjBeJXYYdhFmCEoFKgAKAOoDxgCiC3IMNhreI2Ytvj3WT6JfDnAGinaeSrdiza7pEwVvIqs8q19Lem+Z+7nL2cP5uBmcOUhYmHtwlbC3PNP0770KeSQNQGVbYWzxhPmbaagxvznIddvd4V3s8faR+jn/4f+J/TH82fqN8k3oIeAZ1jnGlbU5pj2RqX+ZZCFTWTVdHkECIOUcy1Co2I3UbmBOnC6sDrfux88Lr6OMp3I7UH83ixd++HrilsXmro6UmoAqbUpYFkiWOt4q+hz2FN4OugaOAGIAMgIGAdIHngtaEQIckin2NSJGDlSeaMp+dpGSqgLDstqG9mMTKyzHTxdp94lTqQPI5+jgCNQooEgka0CF1KfEwOzhOPyFGrkzvUtxYcV6nY3po5GzhcG10hXcmekx8930jf9B//X+qf9h+h325e255q3Zwc8JvpWscZyxi2VwqVyRRzEoqREQ9IDbHLj4njh+/F9gP4Qfj/+X37u8I6Dngi9gD0avJicKluwS1r66rqP+ir53CmDyUIZB3jECJf4Y5hG6CIIFRgAKAM4DkgBSCwoPrhY+Iq4s6jzuTqJd+nLehTqc+rYCzELrlwPnHRc/C1mjeMOYR7gX2Av4BBvoN5RW7HXMlBS1rNJw7kUJESa1Px1WMW/Rg/GWeatVunXLzddN4OnsmfZR+hX/1f+Z/V39Ifrx8snoueDJ1wXHebY1p0mSzXzRaW1QtTrJH7kDqOawyOyufI+AbBBQVDBkEGvwf9C/sU+SS3PXUg81Exj6/ebj7scyr8aVvoE6bkJY9kleO44rjh1yFUIPAga6AHIAKgHeAZIHQgriEHIf5iUyNEZFGleWZ6p5QpBKqKrCStkO9N8Rmy8rSXNoT4ujp0/HM+coByAm8EZ4ZZiENKYsw2TfvPsVFVkybUo1YJ15iYzpoqmytcEB0XncFejJ8430Wf8p//n+yf+d+nH3Ue5F503afc/hv4GtdZ3JiJV16V3lRJUuHRKQ9hDYtL6Yn+R8rGEUQTwhQAFL4W/B06KTg89hp0Q7K6cIBvF21BK/8qEqj9Z0DmXeUV5CmjGmJooZVhIOCL4FZgAOALYDXgACCp4PLhWiIfYsHjwGTaZc5nG2h/6bqrCmztLmFwJbH4M5a1v7dxOWl7Zf1lf2TBY0NeRVQHQolnywHNDs7M0LqSFhPdlU/W6xguWVhap5ubHLIda54HHsOfYR+e3/yf+p/Yn9aftR80XpUeF5183EWbstpFmX8X4JarVSETg1ITUFMOhEzoysJJEsccBSCDIcEiPyM9JvsvuT83F3V6M2mxp2/1LhSsh+sP6a4oJGbz5Z1koqOD4sKiHyFaYPSgbqAIYAHgG6AVIG5gpuE+IbPiRuN25AJlaOZo54EpMGp1a84tuW81sMCy2TS89mo4XzpZvFe+V0BWwlPETIZ/CClKCYwdjePPmlF/ktHUj5Y3F0dY/pncGx5cBJ0NnfkeRd8z30Jf8N//n+5f/V+sX3we7N5/HbOcy1wG2ydZ7hicF3KV81RfkvkRAQ+5zaSLw8oYyCWGLIQvAi+AMD4yPDf6A7hW9nQ0XLKSsNevLe1Wa9MqZajPJ5EmbOUjJDWjJKJxYZxhJmCPoFhgAWAKIDLgO2BjoOqhUGIUIvTjsiSKpf0myOhsKaXrNGyWLkmwDTHes7y1ZXdWeU47Sr1J/0lBSANDRXmHKEkOCyiM9k61UGQSAFPJFXyWmRgd2UkamZuO3KddYp4/nr3fHN+cX/vf+5/bH9rfux88Hp5eIp1JXJObghqWWVEYM9a/1TbTmdIq0GuOnUzCixyJLYc3RTvDPQE9vz59AjtKeVl3cTVTc4Ix/y/L7mqsnKsjaYCodabDZeukryOPIswiJyFgoPlgcaAJoAFgGWARYGjgn6E1YalieuMpZDNlGGZXJ64o3Cpf6/ftYi8dcOfyv7Ritk+4RDp+fDx+O8A7QjiEMcYkiA9KMAvEzcvPg1FpkvzUe5XkV3XYrpnNWxEcONzDnfCefx7u337fr1//n/AfwN/xn0LfNV5JHf9c2FwVmzeZ/5iu10aWCFS10tARWQ+Sjf4L3cozSACGR4RKQkrAS35NfFL6XjhxNk20tbKqsO8vBC2rq+dqeKjg56Fme6Uw5AGjbyJ6IaOhK+CTYFqgAaAI4C/gNuBdIOKhRuII4ugjo+S65awm9mgYqZErHqy/bjHv9LGFc6L1Svd7uTM7L30ufy4BLMMoRR7HDgk0Ss+M3g6d0E1SKtO0lSkWhxgNGXmaS9uCXJydWV433rffGJ+Z3/sf/F/dn98fgR9DnueeLV1VnKFbkVqnGWMYBxbUVUxT8FICUIPO9ozcCzbJCAdSRVcDWIFY/1m9XTtlOXP3SzWss5qx1vAi7kBs8Ws3KZLoRqcTJfokvCOaYtXiLyFnIP4gdKAK4AEgF2ANYGNgmGEsoZ7ibuMb5CSlCCZFZ5soyCpKq+FtSu8FcM7ypfRItnT4KTojPCD+IEAgAh2EFsYKCDVJ1ovsDbPPbFETUufUZ5XRl2RYnpn+2sQcLRz5nageeF7pn3tfrV//n/HfxB/2n0mfPZ5THcrdJZwkGwdaENjBV5pWHVSL0ycRcQ+rTdeMN8oNyFuGYsRlwmZAZv5ovG36ePhLdqc0jnLC8QZvWq2BLDuqS6kyp7HmSuV+ZA2jeaJDIerhMWCXYFzgAmAHoCzgMiBW4NqhfSH94pujlaSrJZsm5CgFKbxqyKyorhov3DGsM0k1cHcg+Rf7FD0TPxKBEYMNRQQHM8jaivZMhY6GUHbR1ROgFRXWtRf8GSoafdt13FGdT94wHrHfFB+XH/of/R/gH+Nfht9LHvCeOB1h3K8boJq3mXUYGlbo1WHTxxJZ0JwOz401yxEJYsdtRXJDc8F0f3U9eHtAOY53pPWF8/Nx7rA5rlZsxitKqeVoV+cjJchkyOPlot+iN2FtoMLgt6AMYADgFWAJ4F3gkWEj4ZSiYyMOZBWlN+Yz50go8+o1a4stc67tMLYyTHRudhp4DjoH/AW+BQAEggJEO8Xvh9tJ/QuTTZvPVRE9EpKUU5X+1xLYjlnwGvab4VzvXZ+ecV7kX3ffq5//n/Nfx1/7n1BfBd6dHdZdMpwymxdaIhjT165WMlSh0z4RSM/DzjDMEcpoSHZGfgRBAoHAgj6D/Ij6k7iltoD053LbMR3vcO2WrA/qnukEp8KmmeVMJFnjRGKMIfJhNyCbYF8gAuAGoCogLaBQoNLhc+Hyoo7jh6SbpYom0egxqWeq8yxR7gKvw7GTM281FjcGOTz6+Lz3vvdA9gLyBOlG2UjAit1MrQ5ukCAR/1NLVQJWotfrWRqab9tpXEadRl4oXqufD9+UX/kf/d/in+dfjJ9SnvneAp2uHLzbr9qIGYcYbZb9FXdT3VJxULRO6I0Pi2tJfYdIRY2Dj0GP/5B9k3ua+ai3vvWfc8vyBnBQrqxs2yteafgoaScy5dbk1ePxIuliP6F0IMfguuAN4ACgE2AGIFigimEbIYpiV2MBJAblJ6YiJ3Von+ogK7TtHG7VMJ0ycvQUdj/38znsu+o96f/pQecD4QXVB8EJ44u6TUPPfdDm0r1UP5WsFwFYvhmhGulb1ZzlHZbeal7e33QfqZ//X/Tfyp/AX5bfDh6m3eGdP1wA22caM1jml4IWR1T30xURoI/cjgpMa4pCiJEGmQScgp0Anb6fPKP6rji/9pq0wLMzcTUvR63r7CRqsekWZ9MmqSVZ5GYjTuKVYfmhPOCfYGGgA6AFoCdgKSBKoMshamHnooJjuaRMJblmv6feKVMq3Wx7LervqzF58xV1O/breOH63XzcPtvA2sLXBM6G/wimyoQMlI5XEAlR6ZN21O7WUJfaWQsaYZtcnHtdPN3gXqVfCx+RX/ff/l/k3+tfkl9Z3sKeTV26XIqb/tqYmZjYQJcRVYyUM9JIkMyPAY1pC0VJmAejRajDqsGrP6u9rru1uYM32PX4s+SyHnBnroJtMCtyacqoumcC5iVk4uP8ovNiB+G64MzgviAPYACgEaACoFNgg6ESoYBiS6Mz4/gk12YQp2Koi+oLK57tBW79MERyWXQ6deV32HnRu879zn/NwcvDxgX6R6cJiguhjWuPJpDQkqgUK1WZFy+YbdmSWtvbyZzanY4eYx7ZX3Bfp5/+3/YfzZ/FH51fFh6wne0dDFxPW3baBFk415WWXBTNk2vRuI/1DiOMRYqdCKwGtES3wriAuP66fL86iPjaNvR02bML8Uyvni3BrHjqhWloZ+PmuGVnpHJjWaKeYcFhQuDjoGQgBGAEoCTgJOBEoMNhYSHc4rXja6R85WimrafK6X6qh6xkrdNvkvFg8zu04bbQuMa6wjzA/sBA/4K8BLOGpIiNCqrMfA4/T/JRk9NiFNtWfheJWTtaE1tP3HBdM13Ynp8fBp+OX/af/t/m3+9fl99hHsueV52GXNgbzhrpGaqYU5cllaIUClKf0OTPGo1Cy5+Jsse+RYQDxgHGv8c9yfvQud238vXSND1yNnB+7phtBSuGKh1oi+dS5jPk8CPIYz1iEGGBoRHggaBRIACgD+A/IA5gvODKYbYiP+Lmo+mkx2Y/Zw/ot+n2K0itLm6lMGuyP/Pgdcr3/Xm2e7O9sz+ygbCDqwWfx4zJsItIjVOPD1D6UlLUFxWGFx3YXVmDWs5b/ZyQXYVeXB7T32yfpV/+X/ef0J/J36OfHh66HfhdGRxdm0aaVZkLV+lWcNTjk0LR0FANjnzMX4q3iIbGz0TTAtQA1H7VvNo647j0ds41MrMkMWRvtK3XLE1q2Kl6p/Smh+W1pH7jZKKnocjhSODn4GagBWAD4CJgIKB+oLvhF+HSIqmjXaRtpVfmm6f3aSoqsiwN7fvvenEHsyH0x3b1+Ku6pvylfqUApEKgxJjGikizClGMY44nj9uRvhMNFMeWa9e4GOuaBRtDHGTdKZ3QXpifAd+LX/Vf/x/pH/MfnV9oXtReYh2SHOWb3Nr5WbxYZpc51bdUIJK3UPzPM01cS7nJjUfZRd9D4YHiP+J95Pvrufg3zPYrtBYyTnCV7u6tGiuaKjAonSdjJgKlPWPT4weiWOGIYRcghSBS4ACgDmA74AkgtiDB4axiNGLZo9rk92Xt5z1oZCnhK3Ks1y6NcFLyJrPGdfB3ormbO5g9l7+XAZVDkAWFB7LJVstvjTtO99Cj0n1TwtWzFswYTNm0GoDb8ZyFnbxeFJ7OX2ifox/93/if01/OX6nfJh6D3gNdZdxrm1ZaZpkdl/zWRZU5U1mR59AmDlYMuUqRyOGG6oTuQu9A7/7w/PU6/njOtyf1C/N8sXvvi24s7GHq6+lMqAVm12WDpItjr6KxIdChTuDsYGlgBiADIB/gHKB44LRhDuHHYp1jT+ReZUcmiafkaRWqnKw3baRvYjEussg07TabOJC6i7yKPomAiMKFxL4Gb8hZCngMCs4Pj8SRqBM4VLPWGVenGNvaNps2XBmdH93IXpIfPN9IX/Pf/1/rH/bfot9vXt0ebF2eHPLb69rJ2c3YuZcN1cyUdtKOURUPTE21y5PJ6Af0RfqD/MH9f/39wDwGehL4JzYFNG7yZnCtLsTtb2uuKgLo7qdzJhFlCqQfoxGiYWGPYRxgiKBU4ADgDKA4oARgr2D5oWJiKOLMo8xk56XcpyqoUGnMK1yswG61cDpxzTPsdZX3h7mAO7z9fD97wXoDdQVqh1iJfUsWjSMO4JCNUmfT7pVf1vpYPFllGrMbpVy7HXNeDV7In2SfoN/9X/nf1l/S37AfLd6NHg5dclx522Xad1kv19BWmhUPE7BR/5A+jm9MkwrsSPxGxYUJwwrBCz8MPRA7GTko9wG1ZTNVMZNv4i4CrLZq/2le6BZm5uWRpJfjuqK6odhhVSDw4GwgB2ACYB2gGGBzIKzhBaH8olEjQmRPJXamd+eRKQFqhywg7Y0vSfEVsu60kvaAeLW6cHxuvm4AbYJqhGMGVUh/Ch7MMk33z62RUhMjVKAWBpeV2MwaKBspXA4dFh3AHoufOB9FH/Jf/5/s3/pfqB92XuWedp2p3MAcOprZ2d9YjFdh1eGUTRLlkS0PZQ2PS+3JwogPBhXEGEIYgBk+G3whei14ATZetEfyvnCEbxstRKvCalWowGeDZmBlF+QroxwiaiGWYSHgjGBW4AEgC2A1YD9gaODxYViiHaL/o74kl6XLpxgofKm3awas6W5dsCGx8/OSdbt3bPlk+2G9YP9gQV7DWgVPx35JI4s9jMrOyRC20hJT2lVMluhYK9lV2qVbmRywXWoeBd7C32Bfnl/8n/rf2N/XX7YfNZ6WnhldftxH27VaSFlB2COWrtUkk4bSFxBXDohM7MrGiRcHIIUlAyZBJr8nvSt7M/kDd1t1fnNtsasv+O4YbIsrEumxKCdm9mWf5KSjhaLEIiBhW2D1YG8gCGAB4BtgFKBtYKWhPOGyIkUjdKQAJWYmZee+KO0qcevKrbWvMbD8spT0uLZl+Fq6VTxTPlLAUkJPREhGesglCgVMGY3fz5aRfBLOVIxWNBdEWPwZ2ZscHAKdDB33nkTfMx9Bn/Cf/5/u3/3frV99Hu4eQN31nM1cCVsqGfDYnxd11fbUY1L80QUPvc2oy8gKHQgqBjDEM4I0ADS+Nrw8egf4W3Z4NGCylrDbrzFtWevWamio0ieT5m8lJWQ3oyZicuGdoScgkCBY4AFgCeAyYDqgYmDpYU7iEmLy46/kh+X6ZsXoaOmiazDskm5F8Akx2rO4tWD3UjlJu0Y9RX9FAUODfwU1ByQJCcskjPJOsZBgUjzThdV5VpZYGxlGmpdbjNylnWEePl683xwfm9/73/uf25/bn7wfPV6f3iRdS1yV24SamRlUGDcWg1V6U52SLtBvTqGMxosgyTHHO4UAQ0GBQj9C/UZ7Trldt3V1V7OGMcLwD65uLJ/rJqmDqHhmxiXuJLFjkOLNoihhYaD6IHIgCaABYBkgEKBn4J5hM+GnonjjJyQxJRXmVCerKNjqXGv0LV5vGXDjsrt0XnZLOH+6Ofw3/jdANsI0RC1GIEgLCiwLwM3ID7+RJdL5VHhV4VdzGKwZyxsPHDccwh3vXn4e7d9+X67f/5/wX8Ff8l9EHzaeSt3BHRqcF9s6GcJY8ddJ1gvUuVLT0V0Plo3CTCIKN4gFBkwETsJPQE/+UfxXemK4dXZR9LmyrrDy7wftryvqqnuo4+ekJn4lMuQDo3Die6Gk4SzglCBa4AHgCKAvYDXgXCDhYUUiByLmI6GkuGWpZvNoFWmNqxrsu64uL/CxgXOetUa3dzkuuyr9Kf8pgShDI8UaRwnJMArLTNoOmhBJkidTsVUmFoQYCll3GkmbgFyanVfeNp623xffmV/63/yf3h/f34IfRN7pHi8dV5yjm5PaqdlmGApW19VP0/QSBlCHzvqM4Es7CQyHVsVbg10BXX9ePWG7abl4N091sPOesdqwJq5ELPSrOimV6ElnFeX8ZL4jnCLXYjBhaCD+4HUgCyABIBcgDOBiYJdhKyGdYm0jGaQiJQVmQmeYKMSqRyvd7UcvAXDK8qH0RHZwuCS6HrwcfhvAG4IZBBKGBcgxCdKL6A2wD2hRD9LkVGRVzpdhmJvZ/FrB3Ctc992m3nce6J96360f/5/yH8Sf919Knz8eVN3M3SecJlsKGhOYxFedliDUj1Mq0XTPr03bjDwKEghfxmdEakJqwGt+bTxyen04T7ardJKyxvEKL14thKw+6k7pNae0pk1lQKRPo3tiRKHsITJgl+BdIAJgB2AsoDFgVeDZYXuh++KZY5NkqKWYZuEoAem46sUspO4Wb9gxqDNE9Ww3HHkTuw+9Dr8OAQ0DCMU/hu9I1kryTIGOglBzEdGTnJUSlrIX+Vknmnubc9xP3U5eLt6w3xOflp/53/0f4J/kH4ffTF7yHjndY9yxW6Maull4GB2W7BVlU8qSXZCgDtONOgsVSWdHccV2w3hBeP95vXy7RHmSt6k1ijP3cfJwPW5Z7MmrTenoaFqnJaXKpMsj56LhIjihbqDDoLggDKAA4BUgCSBdIJBhImGS4mEjDCQTJTUmMOdFKPCqMeuHrW/u6TCx8kg0ajYWOAn6A3wBPgCAAAI9w/eF60fXCfkLj02Xz1FROZKPFFBV+9cQGIuZ7Zr0m9+c7Z2eHnBe4193H6tf/1/zn8ff/F9RXwdenp3YHTScNNsZ2iTY1xexljXUpVMB0YzPx841DBYKbIh6xkJEhYKGQIa+iHyNepf4qfaFNOuy3zEhr3StmiwTaqHpB2fFJpxlTmRb40YijaHzYTggnCBfoALgBmApoCzgT6DRoXIh8OKM44VkmSWHZs7oLmlkau9sTi4+r7+xTvNq9RH3Abk4evR88z7ywPHC7cTkxtUI/IqZDKkOatAcUfvTSBU/Fl/X6JkYGm1bZ1xE3UTeJx6qnw8fk9/43/3f4t/oH42fU977XgRdsBy/G7JaitmJ2HCWwJW60+ESdRC4TuyNE8tviUHHjMWSA5PBlH+U/Zf7n3mtN4M143PP8gpwVG6v7N6rYan7KGvnNaXZJNgj8yLrIgDhtSDIoLtgDiAAoBMgBaBXoIlhGeGI4lVjPuPEZSTmH2dyaJyqHOuxbRiu0TCZMm60EDY7d+756Dvl/eV/5MHig9yF0If8yZ+Ltk1/zzoQ41K51DxVqNc+WHtZntrnG9Oc412VXmke3h9zn6lf/x/1H8sfwR+X3w9eqF3jnQGcQ1tp2jYY6ZeFFkqU+1MY0aSP4I4OTG/KRwiVhp2EoMKhgKI+o7yoerK4hDbe9MSzN3E5L0st76wnqrUpGWfV5qulXCRoI1CiluH64T3goCBiIAOgBWAnICigSaDJ4Wjh5eKAY7dkSaW2przn2ulP6tnsd23nL6cxdfMRNTe25vjdetj8177XQNZC0oTKBvrIooq/zFCOUxAFkeYTc1Trlk2X15kIml9bWpx5nTtd3x6kXwpfkN/3n/5f5R/sH5NfWx7EHk7dvByMm8Fa21mb2EPXFNWQFDeSTFDQjwWNbUtJyZyHp8WtQ68Br7+wPbM7ujmHt901/PPosiJwa26GLTOrdanNqL0nBWYn5OUj/qL1Igkhu+DNoL7gD6AAoBFgAiBSoIJhEWG+ogmjMaP15NTmDedfqIiqB6ubLQGu+TBAclV0NjXg99P5zTvKfcn/yUHHQ8GF9geiyYXLnY1nzyLQzRKklCgVlhcs2GsZj9rZm8ec2R2MnmIe2J9v36cf/t/2X84fxd+eXxeesh3u3Q5cUZt5mgdZO9eY1l9U0RNvkbxP+Q4njEnKoUiwRriEvEK9AL1+vvyDes143nb4tN2zD/FQr6HtxSx8Kohpa2fmprrlaeR0Y1uin+HCoUPg5GBkoASgBGAkYCQgQ6DCIV+h2yKz42lkemVl5qqnx6l7aoQsYO3Pr47xXLM3dN02zDjCev28vH67wLsCt4SvRqBIiMqmjHgOO0/ukZBTXpTYFnsXhpk42hEbTdxuXTHd1x6eHwXfjd/2X/7f51/v35jfYl7NHlldiBzaW9Ba69mtmFbXKNWllA3So9Dozx6NRwujybcHgsXIg8qByz/Lvc471TniN/c11nQBcnowQq7cLQiriWogaI6nVaY2ZPJjyiM/IhGhgqES4IIgUWAAoA+gPqANYLugyOG0oj4i5KPnJMTmPGcM6LSp8qtFLSquoXBnsjvz3DXGd/k5sfuvPa6/rgGsA6aFm0eIiaxLRI1PjwuQ9pJPVBPVgtcbGFqZgNrMG/ucjp2D3lre0x9r36Uf/l/3n9Efyp+knx+eu936HRscX9tJGlhZDlfsVnRU5xNGUdQQEY5AzKOKu8iLBtPE14LYgNj+2jzeeug4+LbSdTbzKDFoL7ht2qxQqtvpfaf3Zoplt+RA46ZiqWHKIUng6KBnIAVgA6Ah4B/gfaC6oRZh0GKno1tkayVVJpin9Gkm6q6sCi34L3ZxA7MdtML28XineqJ8oP6ggJ/CnESURoXIrspNTF+OI4/X0bpTCdTEVmjXtVjpGgKbQRxjHSgdzx6XnwEfit/1H/8f6V/zn55faZ7V3mPdlBznm99a/Bm/GGmXPRW61CRSuxDAz3dNYIu+CZHH3YXjw+XB5r/m/el77/n8t9E2L/QaMlIwma7ybR2rnWozKKAnZaYFJT9j1eMJIlohiaEX4IWgUyAAoA3gO2AIYLTgwKGqojKi12PYpPTl6yc6aGDp3atvLNNuiXBO8iJzwjXr9545lruTvZM/koGQw4uFgMeuSVKLa403TvQQoBJ50/+Vb9bJGEoZsZq+m6+chB263hOezV9n36Lf/d/439Pfzx+q3ydehV4FHWfcbhtY2mlZIJfAFojVPNNdUevQKg5aDL2KlgjmBu7E8sLzwPR+9Xz5usL5EvcsNQ/zQLG/r48uMGxlKu8pT6gIJtnlheSNY7FisqHR4U/g7SBp4AZgAuAfYBvgd+CzIQ1hxaKbY02kW+VEpoan4SkSapksM62gr14xKrLENOi2lviMOoc8hb6FAISCgUS5hmuIVMp0DAbOC8/A0aRTNNSwlhZXpBjZWjRbNBwXnR5dxt6RHzwfR9/zn/9f61/3X6OfcJ7enm4doBz1G+4azFnQ2LyXERXQFHqSklEYz1BNuguYCexH+IX/A8FCAYACfgS8CvoXOCt2CXRy8mowsO7IbXLrsWoF6PGndeYT5QzkIaMTYmLhkKEdYIlgVSAA4AxgOCADYK5g+GFg4iciyqPKJOTl2ecnqE0pyKtZLPyucXA2cckz6DWRd4N5u7t4fXe/d0F1g3CFZgdUSXkLEo0fDtyQidJkU+tVXNb3WDmZYpqw26NcuV1x3gwex59j36Bf/R/539af05+xHy9ejt4QHXRcfBtoWnoZMtfTVp2VEpOz0cNQQo6zTJdK8IjAxwoFDgMPQQ+/EL0Uux25LXcF9WkzWTGXb+XuBiy56sKpoegZJullk+SZ47xivCHZ4VYg8aBsoAegAmAdIBfgciCr4QRh+uJPI0AkTKVz5nTnjek+KkOsHW2JL0XxEbLqdI62vDhxOmv8aj5pgGkCZgRexlEIesoajC5N88+p0U5TIBSc1gOXktjJWiXbJxwMXRRd/p5KXzcfRJ/yH/+f7V/636jfd17nHnhdq9zCXDza3JniWI9XZVXlFFCS6VExD2kNk4vyCcbIE4YaBByCHQAdvh/8JfoxuAV2YvRL8oJwyC8erUgrxapY6MMnhiZipRokLaMdomthl6EioI0gVyABIAsgNOA+oGfg8CFW4hui/aO7pJUlyKcVKHlps+sDLOWuWbAdse/zjjW3N2h5YHtdPVx/W8FaQ1WFS0d6CR9LOYzGzsVQsxIO09bVSZblWCkZU1qjG5ccrp1ongSewd9fn54f/F/639lf2B+3HzbemB4bHUDcihu32ksZRNgm1rIVKBOKkhsQWw6MjPEKyskbhyUFKYMqwSs/LD0v+zh5B7dftUJzsbGvL/yuG+yOqxYptCgqJvjloiSmo4eixaIhoVxg9iBvoAigAeAa4BPgbKCkYTthsGJDI3JkPaUjZmMnuujp6m5rxu2x7y2w+LKQtLR2YXhWOlC8Tv5OQE3CSwRDxnaIIMoBTBWN3A+S0XhSyxSJFjEXQZj5WddbGhwAnQpd9l5D3zIfQR/wX/+f7x/+X64ffl7vnkJd95zPnAubLJnz2KIXeRX6VGbSwJFIz4HN7QvMSiFILoY1RDgCOIA5Pjs8APpMeF+2fHRksppw3281LV1r2apr6NTnlmZxpSekOWMoInRhnuEoIJDgWSABYAmgMeA54GFg6CFNYhBi8OOtZIVl96bC6GXpnystLI6uQfAFMdZztHVct025RXtBvUD/QIF/AzqFMMcfyQWLIEzuTq3QXJI5U4JVdlaTWBhZRBqVG4rco91fnj0eu98bn5uf+5/739wf3F+9Hz6eoV4mHU1cmBuHGpvZVxg6FoaVfdOhUjKQc06ljMrLJQk2RwAFRMNGAUZ/R31K+1M5Yjd5tVuzijHG8BNucayjaynphqh7Jsil8GSzY5Liz2IpoWKg+uByoAngAWAYoBAgZuCdYTJhpeJ3IyTkLqUTJlFnp+jVqljr8G1arxWw37K3NFo2Rvh7ejV8M34ywDJCL8QpBhwIBsony/zNhA+70SJS9dR1Fd5XcBipWcibDNw1HMBd7d583u0ffd+un/+f8N/B3/MfRR84Hkxdwx0c3BpbPJnFGPTXTRYPVLzS15Fgz5qNxkwmSjvICUZQhFNCU8BUflY8W/pm+Hm2VfS9srKw9q8LbbKr7ep+6OanpuZApXUkBaNyon0hpeEtoJSgW2AB4AhgLuA1IFsg4CFDogUi5COfJLWlpqbwaBIpimsXbLfuKi/ssb0zWnVCN3L5KjsmfSV/JQEjwx+FFgcFSSvKx0zWDpYQRhIj063VItaBGAeZdJpHW75cWN1WHjVetd8XH5jf+p/8n96f4J+DH0Ye6p4w3VmcpduWWqxZaRgNVtsVU1P30goQi87+jOSLP0kQx1sFYANhgWH/Yr1l+235fHdTdbTzorHesCpuR6z4Kz1pmShMJxhl/qSAI94i2OIx4Wkg/6B1oAtgASAWoAxgYaCWISmhm6JrIxdkH6UC5n+nVOjBakOr2i1Dbz1whvKdtEA2bHggeho8GD4XQBcCFIQOBgGILMnOS+QNrA9kkQwS4NRhFcuXXpiZWfna/5vpXPYdpV52Huffeh+s3/+f8l/FH/gfS98AXpZdzp0p3CjbDJoWmMeXoNYkVJMTLpF4z7NN38wASlZIZEZrhG7Cb0Bv/nF8dvpBuJP2r7SWssrxDi9h7YgsAiqR6Thnt2ZPpULkUaN9IkYh7WEzYJigXaACYAdgLCAwoFTg2CF6Ifoil2ORJKYllabeKD6pdarBrKEuEm/UMaPzQLVn9xg5DzsLPQo/CYEIgwRFO0brCNIK7gy9jn6QL1HOE5lVD1avF/aZJRp5G3HcTd1M3i2er98S35Yf+Z/9X+Df5J+I302e8547nWXcs5ulmr0Zetgglu9VaNPOUmGQpA7XzT5LGYlrh3YFe0N8wX1/ff1BO4j5lvetdY5z+3H2cAEunazNK1Ep66hdZyglzSTNI+li4uI54W+gxGC4oAzgAKAUoAigXCCPISEhkWJfIwokEOUypi4nQijtai5rg+1sLuVwrfJENGX2EbgFej87/L38f/vB+UPzBebH0sn0y4sNlA9NkTXSi5RNFfjXDRiJGesa8lvdnOwdnJ5vHuKfdp+q3/9f89/IX/0fUl8InqBd2h023DdbHJon2NoXtJY5FKjTBZGQj8vOOQwaSnDIfwZGxIoCisCLPoy8kfqceK42iXTvsuMxJW94bZ2sFqqlKQpnx+ae5VCkXeNH4o8h9KE5IJygX+ADIAYgKWAsIE6g0GFwoe8iiuOC5JalhKbL6CspYOrr7EpuOu+7sUrzZvUNtz149Drv/O6+7kDtQulE4IbQyPhKlQylDmbQGJH4U0SVPBZc1+XZFZprG2UcQt1DXiXeqZ8OX5Nf+J/93+Nf6J+On1Ue/J4GHbIcgVv02o2ZjNhz1sPVvlPk0njQvE7wzRfLc8lGR5EFloOYQZi/mX2ce6O5sXeHdeez0/IOMFgus6zh62Tp/ihupzgl26TaI/Ti7KICYbZgyWC8IA5gAKAS4ATgVuCIIRhhhyJTYzzjwiUiZhxnb2iZahlrra0U7s1wlTJqtAv2NzfqeeP74X3g/+BB3gPYBcxH+ImbS7JNe882UN+StlQ5FaXXO5h42Zxa5NvRnOGdlB5oHt0fct+o3/8f9V/Ln8HfmN8Q3qod5V0DnEWbbFo42OyXiFZOFP7THJGoj+SOEox0CktImcaiBKVCpgCmvqg8rPq2+Ih24vTIsztxPO9O7fMsKuq4aRxn2KauJV5kaiNSYphh/CE+4KDgYmAD4AUgJqAn4EigyKFnYeQivmN05Ecls+a559fpTGrWbHOt42+jMXGzDPUzNuK42PrUvNN+0sDSAs5Excb2SJ5Ku8xMjk9QAdHik3AU6FZKl9TZBhpc21icd9053d3eo18Jn5Bf91/+X+Wf7J+UH1xexZ5Qnb4cjtvD2t4ZnphG1xgVk5Q7ElBQ1I8JjXGLTgmgx6wFscOzgbQ/tL23e765i/fhdcE0LLImMG8uia0263jp0KiAJ0gmKiTnI8BjNqIKob0gzmC/YA/gAKARIAGgUaCBYQ/hvOIH4y+j82TSJgsnXKiFagQrl6097rVwfHIRNDH13LfPuci7xf3Ff8UBwwP9RbHHnomBy5lNY88fEMlSoRQk1ZLXKdhoWY1a15vF3Nddi15g3tefbx+m3/7f9p/On8afn18Y3rPd8J0QnFPbfBoKGT7XnBZi1NTTc1GAUD0OK8xOCqXItMa9BIDCwYDB/sN8x/rRuOK2/LTh8xPxVG+lbcisf2qLqW5n6Wa9ZWwkdmNdYqFhw+FE4OUgZOAEoARgJCAjoEKgwOFeIdliseNnJHflYyanp8Rpd+qArF0ty6+K8VizMzTY9sf4/fq5PLf+t4C2grMEqsacCISKoox0DjeP6tGM01sU1NZ4F4PZNloOm0vcbJ0wHdXenN8E341f9h/+3+ef8J+Zn2Oezl5bHYoc3FvS2u5ZsFhZ1yxVqRQRkqeQ7I8ijUsLqAm7h4cFzQPPAc+/0D3Su9l55nf7ddp0BXJ+MEZu360MK4yqI2iRZ1gmOOT0Y8wjAKJTIYPhE6CC4FGgAKAPYD4gDKC6oMehsuI8IuJj5OTCJjmnCeixae8rQW0mrp1wY7I3s9f1wjf0ua17qr2qP6mBp8OiRZcHhEmoC0CNS48HkPLSS9QQlb/W2BhYGb5aidv53Izdgl5ZntIfax+kn/5f99/Rn8tfpZ8g3r1d+90dHGIbS9pbGRFX75Z3lOqTShHYEBWORQynyoAIz4bYRNwC3QDdft684vrsePz21nU68ywxa++8Ld4sU+re6UBoOiaM5bokQuOoIqrhy2FK4OlgZ6AFoAOgIaAfYHyguWEU4c6ipaNZJGilUmaVp/EpI2qrLAat9C9ycT9y2bT+tq04ovqd/Jx+nACbQpgEkAaBiKqKSQxbjh/P1BG20wZUwRZll7KY5poAW37cIV0mXc3elp8AH4pf9N//X+mf9F+fH2qe115lnZYc6dvh2v7Zghis1wBV/lQn0r7QxM97jWSLgknWB+IF6EPqQer/633t+/R5wPgVdjP0HjJWMJ1u9e0hK6CqNiii52hmB2UBpBfjCuJboYqhGOCGYFOgAKANoDrgB6Cz4P8haSIwotVj1iTyZehnNyhdqdora2zProVwSvIec/31p7eZ+ZJ7jz2Ov44BjIOHRbxHaglOi2eNM07wUJySdlP8VWzWxlhHma9avFutnIJduV4SXsxfZ1+iX/2f+R/UX8/fq98onobeBx1p3HBbW1psGSOXwxaMVQBToNHvkC4OXkyBytqI6kbzRPdC+ED4/vn8/frHORc3MHUUM0Sxg6/S7jPsaKryaVKoCubcZYgkj2OzIrQh0yFQ4O3gamAGoALgHyAbIHbgseEL4cPimWNLZFllQeaD594pDyqVrDAtnO9aMSZy//SkdpJ4h/qCvIE+gICAArzEdUZnCFCKb8wCzgfP/RFg0zGUrVYTF6FY1pox2zIcFd0cncWekB87X0cf81//n+uf99+kn3Ge395v3aHc91vwms8Z05i/lxSV01R+EpYRHM9UTb5LnEnwh/0Fw0QFwgYABr4JPA96G3gvtg10dzJuMLSuzC12a7TqCSj0Z3hmFmUO5COjFSJkIZGhHiCJ4FVgAOAMIDegAqCtYPbhXyIlIshjx+TiZdcnJKhJ6cVrVWz47m2wMjHE8+P1jTe++Xc7c/1zP3LBcUNsRWHHUAl0yw6NGw7Y0IYSYNPn1VmW9Fg22WAarpuhXLedcF4K3safYx+gH/0f+h/XH9Rfsh8wnpBeEh12XH5batp82TXX1pag1RYTt5HHUEaOt0ybivTIxQcORRKDE8EUPxU9GTsh+TG3CjVtc10xmy/prgmsvSrF6aToG+br5ZZknCO+Ir2h2yFXIPJgbSAHoAIgHOAXIHEgqqEC4fkiTSN95AolcWZx54rpOupALBmthW9B8Q1y5jSKNrf4bPpnfGW+ZUBkgmGEWkZMiHaKFowqDfAPphFK0xyUmZYAl5AYxtojWyUcCl0S3f1eSV82X0Pf8d//n+2f+5+p33ie6J553a2cxJw/Wt8Z5RiSl2iV6JRUUu0RNM9tDZfL9knLSBgGHoQhAiGAIj4kPCo6NjgJtmb0T/KGcMvvIm1Lq8jqW+jGJ4jmZSUcZC9jH2Js4ZjhI6CNoFdgASAK4DRgPeBm4O7hVWIZ4vujuWSSpcXnEih2KbBrP6yh7lXwGbHrs4n1srdkOVw7WL1X/1dBVgNRBUcHdckbCzVMws7BUK+SC1PTlUZW4lgmWVDaoNuVHKzdZx4DXsDfXx+dn/xf+x/Z39jfuB84XpmeHN1C3IxbulpN2UfYKha1lSvTjlIe0F8OkIz1Ss8JH8cphS3DLwEvvzB9NDs8uQv3Y/VGs7Wxsu/Abl9skesZabcoLOb7ZaRkqKOJYsciIyFdYPbgcCAI4AGgGqATIGugo2E54a6iQSNwJDslIOZgJ7fo5qpq68Mtri8psPRyjLSwNl04UfpMPEp+ScBJQkaEf4YyCByKPQvRjdgPjxF00seUhdYuF37YttnU2xfcPtzI3fTeQp8xX0Cf8B//n+9f/x+u339e8N5EHflc0dwOGy9Z9pilV3xV/ZRqUsRRTM+FzfEL0IolyDLGOcQ8gj0APX4/fAU6ULhj9kC0qPKecOMvOK1g690qbujX55kmdCUp5DtjKeJ1oZ/hKSCRYFmgAaAJYDFgOSBgYOahS6IOou6jqySC5fTm/+giqZurKayK7n4vwTHSc7A1WHdJOUD7fX08fzwBOoM2BSxHG0kBSxxM6k6p0FjSNdO/FTMWkFgVmUGaktuI3KIdXh473rrfGt+bH/uf+9/cX90fvh8/3qLeJ91PXJpbiZqemVnYPVaKFUFT5NI2UHdOqYzPCylJOocEhUkDSoFK/0v9T3tXeWZ3ffVf844xyrAXLnVspqss6YmofebLJfKktaOUotDiKyFj4PugcyAKIAFgGGAPYGYgnCExIaRidSMipCwlEGZOZ6To0mpVa+ztVu8RsNuysvRV9kK4dvow/C7+LkAuAitEJIYXiAKKI4v4zYAPuBEekvKUcdXbV21YptnGWwrcMxz+naxee97sH30frl//n/Efwl/0H0YfOV5OHcUdHtwcmz9ZyBj311BWEtSAkxtRZM+ejcqMKooASE3GVQRXwlhAWP5avGA6a3h99lo0gfL2sPpvDy22K/FqQekpp6mmQyV3ZAdjdGJ+oachLqCVYFugAeAIIC5gNGBaIN7hQiIDYuHjnOSzJaPm7WgO6YbrE+y0LiZv6LG5M1Y1ffcueSX7If0g/yCBH0MbBRGHAQknisNM0g6SUEJSIFOqlR+WvlfE2XIaRNu8XFcdVJ40HrTfFl+YX/qf/N/e3+Ffg99HXuweMp1bnKgbmNqvGWvYEJbeVVbT+5IN0I/Ows0oywOJVUdfhWSDZgFmf2c9antyeUD3l7W5M6ax4nAuLkss+6sAqdwoTyca5cEkwmPf4tqiMyFqIMBgtiALoADgFmALoGCglSEoYZniaSMVJB0lACZ8p1Ho/ioAK9atf675cIKymXR79if4G/oV/BO+EwASghAECYY9B+iJygvfzagPYNEIkt1UXdXIl1vYlpn3mv2b51z0naPedN7m33mfrJ//n/KfxZ/5H0zfAZ6YHdCdK9wrGw9aGVjKl6QWJ5SWkzJRfI+3TeQMBIpayGiGcARzAnPAdD51/Hs6RfiYNrP0mrLO8RHvZa2LrAWqlSk7Z7omUiVFJFOjfuJHoe6hNGCZYF3gAqAHICugL+BT4NbheKH4YpVjjqSjpZLm2yg7aXIq/ixdbg6v0DGf83x1I7cTuQq7Br0FvwVBBAMABTbG5sjNyuoMuY560CuRypOV1QxWrBfz2SKadttv3EwdS14sXq7fEh+Vn/mf/V/hX+Vfid9O3vUePV1n3LXbqBq/2X3YI9by1WxT0hJlUKgO280Ci13Jb8d6hX/DQUGB/4J9hbuNOZs3sbWSc/9x+nAE7qEs0GtUae6oYCcq5c9kz2PrYuRiO2Fw4MVguWANIACgFGAH4FtgjeEfoY+iXWMH5A5lL+YrJ38oqiorK4BtaG7hcKnyf/Qhtg14APo6u/g99//3QfUD7sXih86J8IuHDZAPSZEyUogUSdX1lwpYhlno2vAb25zqXZtebd7hn3Yfqp//X/QfyN/931NfCd6h3dvdONw5mx8aKpjdF7fWPJSskwlRlI/QDj1MHkp1CEOGi0SOgo9Aj76RPJY6oLiydo108/LnMSlvfC2hLBnqqCkNZ8qmoWVS5F/jSWKQofXhOiCdYGBgAyAGICjgK2BNoM8hbyHtYojjgKSUJYHmyOgoKV2q6GxGrjcvt7FGs2K1CTc4+O+663zqPunA6MLkxNwGzIj0CpDMoQ5jEBTR9NNBVTjWWdfjGRMaaNtjHEEdQd4knqifDZ+S3/hf/h/jn+lfj19WHv4eB920HIOb91qQWY/YdtbHFYHUKFJ80IBPNM0cC3gJSoeVhZsDnMGdP539oLuoObW3i7Xr89gyEjBb7rcs5WtoKcEosac6pd3k3GP24u5iA6G3YMpgvKAOoACgEqAEYFYghyEXIYViUaM6o/+k36YZp2wolioV66otES7JcJEyZnQHtjL35jnfe9z93H/bwdnD08XIB/RJlwuuTXgPMlDcErLUNZWi1ziYdhmZ2uLbz9zgHZKeZt7cX3JfqJ//H/WfzB/C35nfEh6rneddBdxIG27aO5jvl4uWUVTCk2BRrE/ojhaMeEpPiJ5GpkSpwqqAqz6sfLE6u3iMtuc0zPM/cQCvkq32rC5qu2kfZ9tmsKVgpGwjVCKZ4f1hP+ChoGLgA+AFICYgJyBHoMdhZeHiYrxjcqREpbEmtufUqUkq0qxwLd9vnzFtswj1LvbeONS60DzO/s5AzYLJxMFG8giaCreMSI5LUD4RnxNslOVWR5fSGQNaWptWXHXdOF3cnqJfCN+P3/df/p/l3+1flR9dnsceUl2AHNEbxlrg2aGYShcbVZcUPtJUENhPDc11y1JJpUewhbZDuAG4v7k9u/uC+dA35bXFNDCyKjBy7o0tOmt8KdPogudKpiyk6WPCYzhiC+G+IM9gv+AQIACgEOAA4FDggCEOobtiBeMtY/Dkz6YIJ1logioA65PtOi6xcHhyDPQttdh3yznEO8F9wT/Agf6DuMWtR5pJvYtVTV/PGxDFkp2UIZWP1ybYZdmK2tVbw9zVnYneX57W326fpp/+n/bfzx/HX6BfGh61XfKdEpxWW36aDNkB199WZlTYU3cRhBABDm/MUkqqCLkGgYTFAsYAxn7HvMx61jjm9sD1JfMXsVgvqS3MLELqzqlxZ+vmv+VuZHhjXyKi4cUhReDl4GVgBOAEICOgIuBBoP+hHKHXoq/jZOR1ZWBmpOfBaXSqvSwZbcfvhvFUcy801LbDePl6tPyzfrMAsgKuhKaGl4iASp5McA4zj+cRiRNX1NGWdReA2TPaDFtJnGqdLp3UnpvfBB+M3/Xf/t/oH/Efmp9kns/eXN2MHN6b1VrxGbNYXNcvlaxUFRKrUPCPJo1PS6xJv8eLhdFD04HUP9R91zvd+eq3/7XetAlyQjCKLuNtD2uP6iZolGda5jsk9qPN4wJiVGGE4RRgg2BR4ACgDyA9oAvguWDGIbFiOmLgY+Jk/6X25wbormnr633s4u6ZcF+yM7PTtf33sDmpO6Y9pb+lAaNDncWSx4AJo8t8TQePA9DvUkhUDVW81tUYVVm72oeb99yLHYDeWF7RH2qfpF/+H/gf0h/MH6afIh6+3f2dH1xkm05aXdkUV/LWexTuE03R29AZjkkMrAqESNPG3ITgguFA4f7jPOd68LjBNxq1PzMwMW/vv+3h7Fdq4ilDaDzmj2W8ZETjqeKsYcyhS+DqIGggBaADYCEgHqB74LghE2HM4qOjVuRmJU+mkufuKSAqp6wC7fBvbnE7ctV0+nao+J56mbyX/peAlsKThIuGvUhmSkUMV44bz9BRs1MDFP3WIpev2OPaPhs83B9dJN3MXpVfP19J3/Sf/1/qH/TfoB9r3tieZx2YHOwb5BrBWcTYr9cDlcHUa5KCkQjPf41oy4aJ2kfmheyD7sHvf+/98nv4ucU4GbY4NCJyWjChLvmtJKuj6jlopedq5gnlA+QZowyiXOGL4RmghuBT4ACgDWA6YAbgsuD94WdiLuLTI9Pk76XlpzQoWmnW62fsy+6BsEbyGjP5taN3lXmN+4r9ij+JwYgDgsW4B2XJSktjTS9O7JCY0nLT+RVplsNYRNms2robq5yAnbfeER7Ln2afoh/9n/kf1N/Qn6zfKh6IXgjda9xym13abtkml8ZWj5UD06SR85AyDmJMhgreyO7G98T7wvzA/T7+fMJ7C3kbtzR1GDNIsYdv1m43bGvq9alVqA2m3uWKZJFjtOK1odRhUeDuoGrgBuACoB6gGqB2ILDhCmHCIpdjSSRW5X8mQOfa6QvqkiwsbZjvVjEicvu0oDaOOIN6vnx8vnwAe4J4RHDGYshMSmvMPs3ED/lRXVMuFKoWEBeemNQaL5sv3BQdGx3EHo7fOp9Gn/Mf/5/sH/ifpV9y3uFecV2j3Plb8xrRmdaYgtdX1dbUQdLZ0SDPWE2CS+CJ9QfBRgfECkIKgAs+DXwTuh/4M/YRtHsycjC4bs+teeu4Kgwo92d7JhilESQloxbiZaGS4R8giqBVoADgC+A3IAHgrCD1oV2iI2LGY8Vk3+XUZyGoRqnB61Hs9S5psC4xwPPftYj3urlyu299bv9uQWzDZ8VdR0uJcIsKTRcO1RCCUl1T5JVWVvFYNFldmqxbn1y13W7eCZ7F32Kfn5/83/pf15/VH7MfMd6R3hPdeJxAm61af5k4l9nWpFUZk7tRyxBKjruMn8r5CMmHEsUXAxhBGL8ZvR27Jnk19w51cXNhMZ8v7S4NLICrCSmn6B6m7mWYpJ4jgCL/IdxhWCDzIG2gB+ACIBxgFqBwYKlhAWH3Yksje6QHpW6mbyeH6TdqfKvV7YGvffDJcuH0hfazeGh6YzxhPmDAYAJdRFYGSEhyShJMJg3sD6JRR1MZFJZWPZdNWMQaIRsi3AidER373khfNZ9DX/Gf/5/t3/wfqp953unee52vnMacAdsh2egYlZdr1ewUV9Lw0TjPcQ2by/rJz4gcRiMEJYImACa+KLwuujp4DfZrNFPyijDPryYtTuvMKl8oySeLZmelHqQxYyEibmGZ4SRgjiBX4AEgCqAz4D0gZaDtYVPiGCL5Y7ckj+XDJw8ocumtKzvsni5R8BWx53OFta53X7lXu1Q9U39SwVGDTMVCx3FJFssxTP7OvZBr0gfT0BVDFt9YI5lOWp6bkxyrHWWeAh7/3x5fnR/8H/sf2l/ZX7kfOZ6bHh7dRNyOm7zaUJlK2C0WuNUvU5ISIpBjDpSM+YrTSSRHLcUyQzOBND80/Ti7ATlQd2g1SrO5sbbvxC5i7JVrHKm6KC+m/iWm5KrjiyLI4iRhXmD3oHBgCSABoBogEqBqoKIhOGGs4n8jLeQ4pR4mXSe0qOMqZ2v/rWovJfDwcoh0q/ZY+E16R/xF/kVARMJCBHsGLcgYSjjLzU3UD4tRcRLEFIKWKtd72LQZ0psV3Dzcxx3znkGfMJ9AH+/f/5/vn/+fr99AnzJeRZ37XNPcEFsx2flYqFd/lcEUrhLIEVDPic31S9TKKgg3Rj5EAQJBQEH+Q/xJulU4aDZEtKzyonDm7zxtZGvganHo2qeb5nalLCQ9YytidyGhISngkiBZ4AGgCWAw4DhgX2DlYUoiDOLso6jkgGXyJvzoH2mYayYsh256L/0xjjOr9VQ3RPl8ezj9N/83gTZDMcUoBxcJPQrYTOaOphBVUjJTu9Uv1o1YEtl/GlCbhpygXVxeOp653xofmp/7X/wf3N/d378fAR7kXimdUVycm4waoRlc2ACWzVVE0+iSOlB7Tq3M00stiT7HCMVNg08BT39QPVO7W/lqt0I1o/OSMc6wGu547KorMCmMqECnDeX1JLejlmLSYixhZOD8YHOgCmABIBggDuBlIJrhL6GionMjIGQppQ3mS6ehqM8qUivpLVLvDbDXsq70UbZ+ODJ6LLwqfinAKYImxCAGE0g+Sd+L9I28D3RRGxLvFG6V2BdqmKQZw9sInDFc/R2rHnqe6198n64f/5/xX8Lf9N9HXzreT53G3SEcHxsB2grY+tdTlhYUhBMfEWjPoo3OzC7KBIhSBllEXEJcwF1+Xzxkum+4QnaedIXy+rD+bxLtuav0qkUpLGesJkWleaQJY3XiQCHoYS+gleBcIAIgCCAt4DOgWSDdYUCiAaLf45qksKWg5upoC+mDqxBssG4ib+SxtPNR9Xm3Kjkhex19HL8cARrDFoUNRzzI40r/DI4OjpB+kdyTpxUclrtXwhlvmkKbulxVXVMeMt6z3xXfmB/6X/zf31/h34TfSJ7tnjRdXZyqW5tasdlu2BPW4dVaU/8SEdCTjsbNLQsHyVmHZAVow2pBav9rvW77drlFN5v1vTOqseZwMe5O7P7rA+nfKFHnHaXDZMRj4eLcIjRha2DBILagC+AA4BYgCyBf4JPhJuGYImcjEyQa5T1mOedO6PrqPOuS7Xuu9bC+slU0d7YjuBd6EXwPPg6ADgILxAVGOMfkScYL282kD10RBNLZ1FqVxVdZGJPZ9Rr7W+Wc8t2innPe5h95H6xf/5/y38Zf+d9N3wMemZ3SXS4cLZsR2hwYzZenVisUmhM2EUCP+03oDAjKXwhtBnSEd4J4QHi+enx/ukp4nHa39J7y0vEVr2ktjywI6pgpPme85lSlR2RVo0CiiSHvoTUgmeBeYAKgBuArIC8gUuDVoXch9qKTY4xkoSWQJtgoOGlu6vqsWa4K78wxm/N4NR93D3kGewI9AT8AwT+C+4TyhuKIyYrlzLWOdtAn0ccTkpUJFqkX8RkgGnSbbZxKXUneKx6t3xFflV/5X/2f4Z/mH4qfUB72nj8dady4G6qaglmA2GbW9hVv09WSaRCsDt/NBotiCXRHfwVEA4XBhn+G/Yo7kbmft7X1lrPDcj4wCK6krNPrV6nxqGMnLWXR5NFj7SLmIjyhceDGILngDWAAoBQgB2BaYIzhHiGN4ltjBaQL5S0mKGd76KbqJ6u8rSSu3XCl8nu0HXYJODy59jvzvfN/8sHwg+pF3kfKSeyLgw2MD0XRLpKE1EaV8pcHWIPZ5lruG9nc6J2Z3mze4N91X6pf/1/0X8lf/p9Unwteo13d3TscO9sh2i1Y4Be7FgAU8BMNEZhP1A4BjGKKeYhHxo/EkwKTgJQ+lbyauqT4traRtPfy6zEtL3+tpKwdKqtpECfNZqPlVSRh40sikiH3ITrgniBg4ANgBeAoYCrgTKDN4W2h66KGo75kUaW/JoYoJOlaauTsQy4zL7OxQrNedQT3NLjrOub85b7lQORC4ITXxsgI78qMzJ0OXxAREfFTfdT1llbX4FkQmmabYRx/XQBeIx6nnwzfkl/4X/4f5B/qH5BfV17/ngmdthyF2/nakxmSmHoWylWFVCwSQJDEDzjNIEt8SU8HmgWfQ6FBob+iPaU7rHm6N4/17/PcMhYwX6667Ojra2nEKLRnPWXgZN5j+KLv4gThuKDLIL0gDuAAoBIgA+BVIIXhFaGD4k+jOGP9ZN0mFudpKJLqEmumbQ1uxXCM8mJ0A3Yud+G52vvYfdf/10HVQ89Fw4fwCZLLqg10Dy6Q2FKvlDJVn5c12HNZl1rgm83c3l2RHmWe219xn6hf/x/138yfw5+bHxNerR3pHQfcSltxmj6Y8peO1lTUxhNkEbBP7I4azHyKU8iixqrErkKvAK9+sPy1ur+4kPbrdNDzA3FEr5Yt+iwxqr6pIifeJrMlYuRuI1Xim2H+oQDg4iBjIAQgBOAloCZgRqDGIWRh4KK6Y3BkQiWuZrPn0WlFqs8sbG3br5sxaXMEtSq22fjQOsu8yn7JwMkCxUT8xq3IlcqzjESOR5A6UZtTaRTiFkSXz1kA2lhbVFx0HTad216hXwgfj5/3H/6f5h/t35XfXp7InlQdghzTW8ja41mkWE0XHpWalAKSl9DcTxHNectWiamHtQW6g7yBvT+9vYB7x3nUt+n1yXQ08i3wdu6Q7T3rf2nW6IWnTWYu5OujxCM54g1hv2DQIIBgUKAAYBBgAGBQIL8gzSG5ogPjK2PupMzmBWdWaL7p/WtQbTZurXB0Mgj0KXXT98a5/7u9Pby/vAG6A7RFqQeWCblLUU1bzxdQwhKaFB5VjJckGGMZiFrTG8Hc092IXl6e1d9t36Yf/p/3H8+fyF+hXxtett30XRScWJtBWk+ZBNfiVmmU29N60YgQBQ50DFaKrki9hoYEyYLKgMr+zDzQutp46zbFNSozG7FcL6ztz6xGKtHpdGfupoJlsKR6o2DipKHGYUbg5mBl4ATgBCAjICIgQKD+oRsh1eKt42KkcuVdpqHn/ikxKrmsFe3EL4LxUHMq9NB2/zi1OrB8rv6ugK3CqkSiBpNIvApaTGwOL8/jkYWTVFTOVnIXvhjxGgobR5xo3S0d0x6a3wNfjF/1n/8f6F/x35ufZd7RXl6djhzg29fa89m2GGAXMtWv1BjSrxD0jyrNU4uwiYRHz8XVw9gB2L/Y/du74jnvN8P2IvQNskXwje7m7RLrk2opqJcnXWY9pPijz+MEIlXhhiEVYIPgUmAAoA7gPSAK4LhgxOGvojhi3iPgJPzl8+cD6Ksp6Gt6bN8ulbBbsi9zz3X5d6v5pLuhvaE/oIGew5lFjke7yV/LeE0DjwAQ65JE1AoVuZbSWFKZuVqFm/XciV2/Xhde0F9p36Pf/h/4X9JfzN+nnyNegF4/nSFcZttQ2mCZF1f2Fn5U8ZNRkd+QHY5NTLBKiMjYRuEE5MLlwOZ+53zr+vU4xbce9QMzdDFzr4NuJWxaquVpRmg/ppHlvqRG46vireHN4Uzg6uBoYAXgA2AgoB3geuC24RHhyyKho1SkY6VM5o/n6ukc6qQsPy2sr2qxN3LRNPY2pHiaOpU8k76TAJJCjwSHRrjIYgpAzFOOF8/Mka+TP5S61h+XrRjhWjubOpwdnSNdyx6UXz6fSV/0X/9f6l/1n6DfbN7aHmjdmhzuW+aaxBnH2LMXBtXFFG8ShlEMj0ONrQuKyd7H6sXxA/NB8//0ffa7/TnJuB32PHQmcl3wpS79LSgrp2o8aKinbaYMZQXkG6MOIl5hjSEaoIdgVCAAoA0gOaAF4LGg/KFl4izi0SPRpO0l4qcxKFcp02tkbMguvbAC8hYz9XWe95D5iXuGfYW/hUGDg75Fc8dhiUYLX00rTuiQlRJvU/WVZpbAWEIZqlq326mcvt12Xg/eyp9l36Gf/Z/5X9Vf0V+t3yteid4KnW4cdNtgWnGZKZfJlpMVB1OoUfdQNg5mjIoK4wjzBvwEwEMBQQG/Av0G+w/5H/c4tRxzTLGLb9ouOuxvavipWKgQZuFljOSTo7bit2HV4VLg72BrIAbgAqAeYBngdSCvoQjhwGKVY0bkVGV8Zn3nl6kIao6sKK2VL1JxHnL3dJv2ibi/Onn8eD53gHcCdARsRl6ISApnjDrNwA/1kVmTKpSnFg0Xm9jRmi1bLdwSHRldwt6N3zmfRh/y3/+f7F/5H6Yfc97innMdpdz7m/Va1FnZWIXXWxXaVEVS3ZEkj1xNhovkyflHxcYMRA7CDwAPvhH8GDokODg2FfR/MnYwvC7TbX0ru2oPKPonfeYbJRNkJ2MYYmchlCEf4IsgViAA4AvgNqABIKsg9GFb4iGixCPDJN0l0WceqENp/msObPFuZfAqMfyzm3WEt7Y5bntq/Wp/acFoQ2NFWQdHSWxLBk0TDtEQvpIZ0+FVU1bumDGZWxqqG51ctB1tXghexN9h359f/N/6X9gf1d+0HzMek14VnXqcQtuv2kJZe5fc1qeVHRO/Ec8QTo6/jKQK/UjNxxdFG4McwR0/Hj0h+yq5OjcStXWzZTGi7/DuEOyD6wwpqughZvDlmuSgI4HiwOIdoVkg8+BuIAggAiAcIBXgb2CoIT/hteJJI3lkBWVr5mwnhKk0Knkr0m297zowxXLd9IG2rzhkOl68XL5cQFvCWMRRhkQIbgoODCIN6A+ekUOTFZSTFjqXSljBmh6bINwGnQ+d+p5HHzTfQt/xX/+f7h/8n6tfet7rXn1dsZzI3AQbJFnq2JiXbxXvlFuS9NE8z3VNoAv/CdPIIMYnhCoCKoArPi08Mzo+uBI2b3RYMo4w028prVJrz2piKMvnjiZqJSDkM2Mi4m/hmyElYI7gWCABIApgM2A8YGSg7CFSIhYi92O0pI1lwGcMKG/pqas4bJpuTjARseNzgXWqN1t5UztPvU7/ToFNA0hFfkctCRLLLUz6zrnQaBIEU8zVQBbcmCDZS9qcW5EcqV1kHgDe/t8dn5zf/B/7X9qf2h+6HzrenJ4gnUcckNu/WlMZTdgwVrwVMtOVkiaQZw6YzP3K18kohzJFNsM4ATi/OX09OwV5VLdsdU7zvbG6r8euZqyYqx/pvSgyZsCl6SSs440iymIloV9g+GBw4AlgAaAZ4BHgaeCg4Tbhq2J9IyvkNiUbZlpnsajf6mPr++1mbyHw7HKENKe2VHhJOkN8QX5AwEBCfYQ2himIFAo0y8lN0E+HkW2SwJS/VefXeRixmdAbE5w7HMWd8h5AXy+ff5+vn/+f79/AH/CfQZ8z3kdd/RzWHBLbNJn8WKtXQtYElLGSy9FUj44N+YvZCi5IO4YChEVCRcBGfkh8TjpZeGx2SPSw8qZw6q8ALafr46p1KN2nnmZ45S5kP2MtInihomEq4JKgWiABoAkgMGA3oF5g5CFIogri6qOmZL2lryb56BwplOsirIOudm/5MYozp7VPt0B5eDs0fTN/MwExwy1FI4cSyTkK1AzijqIQUZIu07hVLNaKWBAZfJpOW4Scnp1a3jleuN8ZX5of+x/8H91f3l+AH0Je5d4rXVNcntuOmqPZX9gDltCVSFPsUj4Qf06xzNeLMgkDR01FUgNTgVP/VL1YO2B5bvdGdagzljHScB6ufGytqzNpj6hDZxBl92S5o5hi1CItoWXg/SB0IAqgASAXoA4gZGCZ4S4hoOJxIx5kJ2ULJkinnqjLqk6r5a1PLwmw03KqtE12efguOig8Jf4lQCUCIoQbxg8IOgnbS/CNuE9wURdS65RrVdUXZ5ihmcFbBlwvXPtdqZ55nuqffB+t3/+f8Z/Dn/WfSF88HlFdyN0jHCFbBJoNmP4XVtYZlIfTItFsj6aN0swzCgjIVoZdxGDCYUBh/mO8aPpz+Ea2orSJ8v6wwi9Wbb0r9+pIKS9nruZIJXvkC2N3okGh6aEwYJagXGACIAfgLaAy4Fgg3CF+4f/ineOYZK4lnibnaAipgCsMrKyuHq/gsbDzTbV1dyW5HPsZPRg/F4EWgxJFCMc4iN9K+wyKDoqQetHZE6PVGVa4V/9ZLRpAW7gcU51RnjGest8VH5ef+l/839+f4p+F30ne7x42HV+crJud2rSZcdgW1uUVXdPC0lWQl47KzTELDEleB2hFbUNuwW9/cD1ze3s5SXegNYFz7vHqMDWuUmzCa0cp4ihUpyAlxaTGo+Oi3eI14WxgwiC3IAwgAOAVoApgXuCSoSVhlqJlYxDkGGU65jbnS6j3qjlrj2137vGwurJRNHN2HzgTOgz8Cr4KAAmCB0QAxjRH4AnBy9fNoE9ZUQFS1lRXVcJXVhiRWfKa+RvjnPEdoR5ynuVfeF+r3/+f8x/G3/qfTx8EXptd1F0wHC/bFFoe2NCXqpYulJ3TOdFEj/9N7EwNCmNIcUZ5BHwCfMB9Pn78RDqOuKC2vDSi8taxGW9s7ZKsDCqbaQFn/2ZXJUmkV6NCYoqh8OE2IJqgXuAC4AagKqAuYFHg1GF1ofSikSOKJJ6ljWbVKDUpa6r27FXuBu/IMZezc/Ua9wr5Afs9vPy+/ED7AvcE7gbeSMVK4cyxjnMQJBHDU48VBdamF+5ZHZpyW2ucSJ1IHinerN8Qn5Tf+R/9n+If5p+Ln1Fe+B4A3avculutGoUZg9hqFvlVc1PZUm0Qr87kDQrLZol4h0NFiIOKQYr/i32Oe5X5o/e6NZqzx3ICMExuqGzXa1rp9Khl5y/l1CTTo+8i56I+IXLgxuC6YA2gAKAT4AbgWaCLoRzhjGJZYwOkCaUqpiVneOijqiQruS0grtmwobJ3tBk2BLg4OfG77z3u/+5B7APlxdnHxgnoS78NSA9CESsSgVRDVe+XBJiBGePa69vX3ObdmF5rnt/fdN+qH/9f9J/J3/+fVZ8MnqUd3509HD5bJFowGOMXvlYDVPPTENGcT9gOBYxmyn3ITEaUBJdCmACYvpo8nzqpeLr2lfT78u8xMO9DbegsIKquaRMn0CamZVdkY+NM4pOh+GE74J6gYSADYAWgJ+AqIEugzKFsIemihKO8JE8lvGaDKCGpVurhbH9t72+vsX5zGjUAtzA45vrifOE+4MDfwtwE00bDyOuKiIyZDltQDVHtk3qU8lZT192ZDhpkG18cfV0+neHepp8MH5Hf+B/+H+Rf6p+RX1iewR5LXbgciBv8GpWZlZh9Fs3ViNQv0kRQyA88zSSLQImTR55Fo8OlgaY/pr2pu7D5vneUNfQz4DIZ8GNuvmzsK26pxyi3Jz/l4qTgo/qi8aIGYbmgy+C9oA8gAKAR4ANgVGCE4RRhgiJNozZj+uTaZhPnZiiPqg7rou0JrsGwiPJeND816jfdOdZ70/3Tf9LB0MPLBf9Hq8mOy6YNcA8q0NTSrBQvFZyXMthw2ZUa3lvL3Nydj55kntpfcR+n3/7f9d/NH8RfnB8Unq7d6t0J3EybdBoBWTWXkhZYVMmTZ5G0D/COHsxAyphIpwavRLLCs4Cz/rV8ujqEONU277TVMwdxSG+Z7f2sNSqBqWUn4Ka1pWUkcCNX4pzh/+EB4OLgY6AEIATgJWAloEWgxOFi4d7iuCNuJH+la6aw585pQmrLrGit16+XMWVzAHUmdtV4y7rHPMX+xUDEgsEE+IapiJHKr0xAjkOQNpGX02XU3tZBl8xZPloV21Jccl01HdneoB8HX48f9t/+n+af7p+W31/eyd5V3YQc1ZvLWuYZp1hQFyHVnhQGEpuQ4E8VzX4LWsmtx7lFvwOBAcG/wj3E+8u52PfuNc20OPIx8HqulG0Ba4KqGeiIp0/mMWTto8YjO6IOoYBhEOCBIFDgAKAQID/gDyC+IMvhuCICIykj7CTKZgKnU2i7qfnrTK0yrqmwcDIEtCU1z7fCeft7uL24P7eBtYOwBaSHkcm1C01NV88TkP5SVpQa1YmXIRhgWYYa0Nv/3JIdht5dXtTfbR+l3/6f91/QH8kfol8c3rhd9h0W3FrbQ9pSWQfX5ZZtFN+TfpGL0AkOeAxayrKIgcbKRM4CzwDPftC81TreuO+2yXUuMx+xX++wrdMsSarVKXcn8WaFJbMkfKNioqYhx6FH4OcgZiAFIAPgIuAhYH+gvWEZodQiq+NgZHBlWuae5/spLeq2LBItwC++8QxzJrTMNvq4sLqr/Kp+qgCpQqXEncaPCLfKVgxoDivP39GCE1EUyxZvF7tY7poHm0WcZx0rXdHemd8Cn4vf9Z//H+if8l+cX2ce0t5gHZAc4xvaGvZZuRhjFzYVs1QckrLQ+I8uzVeLtQmIh9RF2kPcgd0/3X3f++a583fINib0EbJJ8JGu6q0Wa5aqLKiaJ2AmP+T649HjBaJXIYchFiCEYFKgAKAOoDxgCiC3YMNhriI2otwj3aT6ZfEnAKin6eTrdqzbbpGwV3IrM8s19TeneaA7nT2cv5wBmkOVBYoHt4lbi3RNP878UKgSQVQGlbaWz1hP2bbag1vz3Iedvd4WHs9faV+jn/4f+F/S382fqJ8knoIeAV1jXGkbU1pjWRpX+RZB1TVTVVHjkCGOUUy0io0I3IblhOlC6kDq/uv88Dr5eMn3IzUHM3gxd6+HLijsXiroaUloAmbUZYDkiSOtoq9hz2FN4OugaOAGIAMgIGAdYHngteEQYclin6NSZGElSmaM5+fpGWqgrDutqO9msTMyzPTx9qA4lbqQvI8+joCNwoqEgsa0iF3KfMwPThQPyNGsEzwUt5Ycl6oY3to5WzicG50hncnek18930jf9B//X+qf9h+h324e255qnZvc8FvpGsbZypi2FwpVyJRy0ooREI9HjbFLjwnjB+9F9YP3wfh/+P37O8G6DfgidgB0anJh8KjuwO1ra6qqP2irp3AmDqUIJB2jD+Jf4Y4hG2CIIFRgAKAM4DkgBSCwoPshZCIrIs8jzyTqZd/nLihT6c/rYKzEbrnwPvHR8/E1mreMuYT7gf2BP4DBvwN6BW9HXUlBy1tNJ47k0JGSa9PyVWNW/Zg/WWfatZunnL0ddN4OnsmfZV+hX/1f+Z/V39Ifrt8snoueDF1wHHdbYtp0WSxXzJaWVQsTrBH7UDoOaoyOSudI94bAhQTDBcEGPwc9C3sUOSQ3PPUgc1Cxjy/d7j6scqr76VuoEybj5Y8klaO4orjh1yFT4PAga6AHIAKgHeAZIHQgrmEHYf6iU2NE5FHleaZ7J5SpBSqLLCUtkW9OcRoy83SXtoV4urp1fHO+c0Bygm+EaAZaCEPKY0w2zfwPsdFWEydUo9YKF5jYztoq2yucEF0X3cGejN8430Wf8p//n+yf+Z+nH3Ue5B503aec/dv32tbZ3FiI115V3dRJEuFRKI9gjYrL6Qn9h8pGEMQTAhOAFD4WfBx6KHg8dhn0QzK58L/u1y1Aq/6qEmj9J0BmXaUVpCljGiJoYZUhIOCLoFZgAOALoDYgAGCqIPLhWmIfosIjwKTapc6nG6hAKfsrCqztrmHwJjH4s5c1gDexuWn7Zr1l/2VBY8NfBVSHQwloSwJNDw7NULsSFlPeFVAW65gu2Viap9ubXLJda94HXsPfYR+e3/yf+p/Yn9aftR80XpTeF118nEVbslpFGX6X4BarFSCTgtIS0FKOg8zoCsHJEkcbhSADIUEhvyK9JnsvOT63FrV5s2kxpu/0rhRsh2sPaa3oJCbzpZ0komODosJiHuFaIPSgbqAIYAHgG6AVIG5gpyE+YbQiRyN3JALlaSZpJ4GpMOp1q86tue82MMEy2bS9dmq4X7paPFh+V8BXQlRETQZ/iCnKCgweDeRPmtFAExJUj9Y3l0eY/xncWx6cBN0N3fkeRh8z30Jf8R//n+5f/V+sX3ve7J5+3bNcyxwGmycZ7dibl3JV8tRfEviRAI+5TaQLw0oYSCUGK8Qugi8AL74xvDd6AzhWdnO0XDKSMNdvLW1V69KqZSjO55DmbGUi5DVjJGJxIZxhJiCPYFhgAWAKIDLgO6BjoOrhUKIUYvUjsmSK5f2myShsqaZrNOyWrkowDbHfM711ZfdW+U67Sz1Kf0oBSINDxXoHKMkOiykM9s610GRSANPJlXzWmZgeGUlamhuPHKedYp4/nr3fHN+cX/vf+5/bH9rfux88Hp4eIl1JHJMbgdqV2VDYM5a/lTZTmVIqUGsOnMzByxwJLMc2xTtDPIE8/z39AXtJ+Vj3cLVS84Gx/q/LbmosnCsi6YAodSbDJetkruOO4sviJuFgoPkgcWAJoAFgGWARYGjgn+E1oamieyMppDPlGOZXZ65o3Kpga/gtYq8d8OhygDSjNlA4RLp+/Dz+PEA7wjlEMkYlCA/KMIvFTcxPg9FqEv1UfBXk13ZYrtnN2xFcORzD3fDef17u337fr1//n/AfwJ/xX0LfNR5JHf8c2BwVGzcZ/xiuV0YWCBS1Us+RWI+SDf2L3UoyyAAGRwRJwkpASv5M/FJ6Xbhwtk00tTKqcO6vA62ra+bqeCjgp6Eme2UwZAFjbuJ6IaNhK6CTYFqgAaAI4C/gNuBdYOLhRuIJIuhjpCS7Jaxm9ugY6ZFrHuy/7jJv9TGF86N1S3d8OTO7L/0u/y6BLUMoxR9HDok0ytAM3o6eUE3SK1O1FSmWh5gNWXnaTBuCnJydWV44HrffGJ+Z3/sf/F/dn98fgN9DnudeLR1VXKEbkRqmmWLYBtbUFUvT8BIB0INO9gzbizZJB4dRxVaDWAFYf1k9XLtkuXN3SrWsM5ox1nAibkAs8Os2qZKoRmcS5fmku+OaItWiLuFm4P3gdKAK4AEgF2ANoGNgmKEsoZ8ibyMcJCTlCGZFp5uoyGpLK+HtS28F8M9ypnRJNnV4KbojvCG+IMAggh4EF0YKiDXJ1wvsjbRPbJET0ugUaBXSF2TYntn/GsRcLVz53aheeF7pn3tfrZ//n/HfxB/2n0mfPV5S3cqdJVwj2wcaEJjBF5oWHRSLUyaRcI+qzdcMN0oNSFrGYkRlQmXAZn5oPG16eHhK9qa0jfLCcQXvWi2ArDsqS2kyZ7GmSqV+JA1jeWJC4erhMWCXYFzgAiAHoC0gMiBW4NrhfWH94pvjleSrpZtm5KgFabzqySypLhqv3LGss0m1cTcheRh7FL0TvxMBEgMNxQSHNEjbCvbMhg6G0HcR1ZOgVRYWtVf8mSqafht2HFHdUB4wXrHfFF+XH/of/R/gH+Nfht9LHvCeN91hnK7boFq3WXTYGhboVWFTxpJZUJuOzw01SxCJYkdsxXHDc0Fz/3R9d7t/eU23pHWFc/Lx7jA5blXsxetKaeUoV2cipcgkyKPlYt9iNyFtYMLgt6AMYADgFWAJ4F4gkaEkIZTiY2MOpBXlOCY0J0io9Go164utdC7tsLayTPRu9hr4DroIfAY+BYAFAgLEPIXwB9vJ/YuTzZxPVZE9kpMUVBX/VxNYjpnwWvbb4ZzvnZ+ecZ7kX3ffq5//n/Nfx1/7X1AfBd6c3dYdMlwyWxcaIdjTl63WMdShUz2RSE/DTjBMEUpnyHXGfURAgoFAgb6DfIh6kzilNoB05vLasR1vcK2WLA+qnmkEJ8ImmaVL5FmjRCKL4fIhNyCbYF8gAuAGoCogLaBQ4NMhc+Hy4o8jh+Sb5Yqm0mgx6Wgq82xSbgMvxDGTs2+1FrcGuT16+Xz4PvfA9sLyxOnG2cjBCt3MrY5vECBR/9NL1QLWoxfrmRsacBtpnEbdRp4onqvfD9+UX/kf/d/in+dfjJ9SnvmeAp2t3Lybr5qH2YaYbRb81XbT3RJw0LPO6A0PC2rJfQdHxY0DjsGPP4/9kvuaeag3vnWe88tyBfBQLqvs2qteKfeoaKcypdak1aPw4ukiP2F0IMeguuAN4ACgE2AGIFigiqEbYYqiV6MBZAclJ+Yip3XooGogq7VtHO7VsJ2yc3QU9gB4M/ntO+r96n/pweeD4YXVh8HJ5Au6zURPflDnUr3UABXsVwGYvlmhWumb1dzlXZceap7fH3QfqZ//X/Tfyl/AX5afDd6mneGdPxwAm2baMtjmF4GWRtT3UxSRoE/cDgnMawpCCJCGmISbwpyAnT6evKN6rbi/Npo0wDMy8TSvRy3rrCPqsakWJ9LmqOVZpGXjTqKVIfmhPOCfYGGgA6AFoCegKWBKoMthaqHn4oKjueRMpbmmgCgeqVOq3ex7retvq7F6cxX1PHbr+OJ63fzc/txA20LXhM8G/4inSoSMlQ5XkAmR6hN3FO9WUNfamQtaYdtc3HudPR3gnqWfC1+RX/ff/l/k3+tfkh9Z3sKeTR26HIob/pqYWZiYQFcRFYxUM1JIEMwPAQ1oi0TJl4eixahDqgGqv6s9rju1OYK32HX4M+QyHfBnLoHtL6tx6coouicCpiUk4qP8YvMiB6G6oMygviAPYACgEaACoFNgg6ES4YBiS+M0I/hk1+YRJ2MojGoLq58tBe79sETyWfQ69eX32PnSO899zv/OQcxDxoX6x6eJiouiDWwPJxDREqiUK9WZVzAYbhmSmtwbydza3Y5eY17Zn3Bfp5/+3/YfzZ/FH50fFh6wXezdDBxPG3aaBBk4l5VWW5TNE2tRuA/0jiMMRQqciKuGs8S3QrgAuH65/L56iHjZtvP02TMLcUwvna3BLHhqhOloJ+NmuCVnZHIjWaKeYcEhQuDjoGQgBGAEoCTgJOBEoMOhYWHdIrYja+R9JWjmrefLKX8qiCxk7dPvkzFhczw04jbROMd6wrzBfsEAwAL8hLQGpQiNiqtMfI4/z/LRlFNiVNuWfpeJmTvaE5tQHHBdM53Ynp8fBp+On/af/t/m3+8fl99hHsteV52GHNfbzZro2apYU1clVaGUCdKfkORPGg1CS58Jske9xYODxYHGP8a9yTvQOd038nXRtDzyNfB+bpgtBKuF6hzoi2dSpjOk7+PIIz0iECGBYRHggaBRIACgD+A/YA5gvODKYbZiACMm4+nkx+Y/pxBouGn2a0ktLq6lsGwyALQg9ct3/fm2+7Q9s7+zAbEDq4WgR41JsQtJDVQPD9D60lMUF5WGVx5YXZmDms6b/dyQXYVeXB7UH2yfpV/+X/df0J/J36NfHh66HfgdGNxdW0ZaVRkK1+jWcFTjE0JRz9ANDnxMXsq3CIZGzsTSgtOA0/7VPNm64zjz9s21MjMjsWPvtC3WrEzq2Cl6J/Qmh6W1ZH6jZGKnocjhSKDn4GagBSAD4CJgIOB+4LwhGCHSIqnjXiRt5Vgmm+f36SqqsqwObfxvevEIMyJ0x/b2eKw6p3yl/qWApMKhRJlGisizilIMZA4oD9wRvlMNlMgWbBe4mOwaBVtDXGUdKd3QnpjfAd+LX/Vf/x/pH/MfnV9oHtQeYd2SHOVb3Jr5GbvYZlc5VbbUIBK20PxPMs1by7lJjMfYxd7D4MHhf+H95HvrOfe3zHYrNBWyTfCVbu4tGeuZ6i+onOdipgJlPSPTowdiWKGIYRcghSBS4ACgDmA74AlgtiDCIaxiNKLZ49tk9+XuZz2oZKnha3Ms166NsFNyJzPG9fD3ozmbu5i9mD+XgZXDkIWFh7NJV0twDTvO+FCkUn3Tw1WzVsxYTVm0moEb8dyF3byeFN7OX2ifox/93/if01/OX6nfJd6DngMdZZxrW1XaZhkdF/xWRRU401kR51AljlWMuMqRSOEG6cTtwu7A7z7wfPS6/fjONyd1C3N8MXtviu4sbGFq66lMaAUm1uWDZIsjr2Kw4dChTuDsYGlgBiADIB/gHKB44LShDuHHop2jUCRepUemiifkqRYqnSw37aTvYrEvMsi07babuJE6jDyKvooAiYKGRL6GcEhZiniMC04QD8URqJM41LRWGZenWNwaNts2nBndIB3IXpJfPR9IX/Pf/1/rH/afop9vXtzebB2d3PKb61rJWc2YuRcNlcwUdlKOERSPS821S5NJ54fzxfoD/EH8//09/7vF+hJ4JrYEtG5yZfCsrsRtbuut6gJo7mdy5hElCmQfYxGiYSGPYRxgiKBUoADgDKA4oARgr6D54WKiKSLM48zk5+XdJysoUKnMq10swK618DrxzbPs9ZZ3iDmAu719fL98QXqDdYVrB1kJfcsXDSOO4RCN0mhT7xVgVvqYPJllWrNbpZy7XXOeDZ7In2SfoN/9X/nf1h/S36/fLd6NHg4dchx5m2WadxkvV8/WmdUOk6/R/xA+Dm7MkorriPvGxQUJAwpBCr8LvQ+7GLkodwE1ZLNUsZMv4a4CLLYq/yleqBXm5mWRZJejumK6YdhhVODw4GwgB2ACYB2gGKBzIK0hBeH84lFjQqRPZXcmeCeRaQHqh6whbY2vSnEWMu80k3aBOLY6cPxvPm7AbgJrBGOGVch/ih9MMs34T64RUpMj1KCWBxeWGMxaKJspnA5dFh3AHoufOB9FH/Jf/5/s3/pfp992HuWedl2pnP/b+lrZmd8YjBdhleFUTJLlESyPZI2Oy+1JwggOhhUEF4IYABi+Gvwg+iz4ALZeNEdyvfCD7xqtRCvB6lVo/+dDJl/lF6QrYxviaeGWYSGgjGBWoAEgC2A1oD+gaSDxoVjiHeL/475kmCXL5xiofSm3qwcs6e5eMCIx9HOS9bv3bXlle2I9YX9gwV9DWoVQR37JJAs+DMtOyZC3UhLT2pVNFuiYLBlWGqWbmVywnWpeBh7C32Cfnl/8n/rf2N/XX7YfNZ6WXhkdfpxHm7TaR9lBmCNWrlUkU4aSFpBWjofM7ErGCRaHIAUkQyWBJj8m/Sr7M3kC91r1ffNtMaqv+G4X7IrrEqmw6Cbm9iWfpKRjhWLD4iAhWyD1YG7gCGAB4BtgFKBtoKXhPOGyYkVjdOQAZWamZme+aO2qcivK7bYvMjD9MpV0uTZmeFs6VbxT/lNAUsJPxEjGe0gligXMGg3gT5cRfFLO1IyWNFdE2PxZ2dscXALdDF333kTfMx9B3/Cf/5/un/3frR99Hu4eQJ31XM0cCNspmfCYntd1lfZUYtL8UQSPvU2oS8eKHIgphjBEMwIzQDP+Njw7+gd4WrZ3tGAyljDbLzDtWWvWKmho0aeTZm7lJSQ3YyYicqGdYScgkCBY4AFgCeAyYDrgYqDpoU8iEqLzI7AkiGX6psYoaWmi6zEsku5GcAmx2zO5NWF3UrlKe0a9Rf9FgUQDf4U1hySJCkslDPLOshBg0j1ThhV51paYG1lG2pfbjRyl3WEePl69Hxxfm9/73/uf25/bn7wfPR6fniQdSxyVm4RamJlTmDaWgtV5050SLlBuzqEMxgsgSTFHOwU/wwEBQX9CfUX7TjldN3T1VzOFscJwDy5trJ+rJimDKHfmxaXtpLEjkKLNYighYaD6IHHgCaABYBkgEKBn4J6hNCGn4nkjJ2QxZRYmVKeraNlqXOv0rV7vGfDkMrv0XvZLuEA6enw4fjfAN0I0xC3GIMgLiiyLwU3IT4ARZlL51HjV4ddzWKxZy1sPXDdcwh3vXn4e7h9+X68f/5/wX8Ff8l9D3zZeSp3A3RpcF5s52cIY8VdJVgtUuNLTUVyPlg3BzCGKNwgERkuETkJOwE9+UXxW+mI4dPZRdLkyrjDybwdtruvqKnto42ej5n3lMqQDY3Cie6GkoSygk+Ba4AHgCKAvYDYgXCDhoUViB2LmY6HkuKWppvPoFemOKxtsvC4ur/ExgfOfNUc3d7kvOyt9Kn8qASjDJIUaxwpJMIrLzNqOmpBKEifTsZUmVoSYCpl3WknbgJya3VfeNt63HxffmV/63/xf3h/f34HfRN7o3i7dV1yjW5OaqVll2AnW11VPU/OSBdCHTvoM38s6iQwHVgVbA1yBXP9dvWE7aTl3t061sHOeMdowJi5DrPRrOemVqEknFWX8JL3jm+LXIjBhZ+D+4HUgCyABIBcgDOBioJdhK2GdYm1jGeQiZQXmQueYaMUqR6vebUevAfDLcqJ0RPZxOCU6HzwdPhyAHAIZhBMGBkgxidML6I2wT2jREBLklGTVzxdh2JwZ/JrCHCuc+B2m3nde6N96360f/5/yH8Sf919Knz7eVJ3MnSdcJhsJ2hNYxBedViBUjtMqUXRPrs3bDDuKEYhfRmbEacJqQGq+bHxx+ny4Tzaq9JIyxnEJr12thCw+qk5pNSe0ZkzlQGRPY3siRGHr4TJgl+BdIAJgB2AsoDGgVeDZoXvh/CKZo5OkqOWYpuGoAim5asWspW4W79ixqLNFdWy3HPkUOxA9Dz8OwQ2DCUUABy/I1sryzIIOgtBzUdITnRUTFrJX+dkoGnvbdBxQHU6eLx6w3xOflp/53/0f4J/j34ffTF7yHjmdY5yxG6Lauhl3mB0W69Vk08oSXRCfjtMNOYsUyWbHcUV2Q3fBeH94/Xw7Q/mSN6i1ibP28fIwPS5ZrMkrTanoKFpnJWXKZMrj52Lg4jhhbqDDoLggDKAA4BUgCSBdIJBhIqGTImFjDKQTpTVmMSdFqPEqMmuH7XBu6bCycki0arYWuAp6A/wBvgEAAMI+Q/gF68fXifmLj82YT1HROhKPlFDV/BcQWIwZ7dr029/c7d2eXnBe4593X6tf/1/zn8ff/F9RHwcenl3X3TRcNJsZmiSY1pexFjVUpNMBUYxPx040jBVKbAh6BkHEhQKFwIY+h7yM+pd4qXaEtOsy3rEhL3QtmawS6qGpByfE5pwlTiRbo0XijWHzYTggm+BfoALgBmAp4C0gT+DR4XJh8SKNI4WkmWWH5s9oLulk6u/sTq4/L4Axj3NrdRJ3Ajk4+vT8877zQPJC7kTlRtWI/QqZjKmOa1Ac0fxTSFU/lmAX6NkYmm2bZ5xE3UUeJ16q3w8fk9/43/3f4t/oH42fU577HgQdr9y+27IaipmJmHBWwBW6U+CSdJC3zuwNE0tvCUFHjEWRg5NBk7+UfZd7nrmst4K14vPPcgnwU+6vrN4rYWn6qGunNSXY5Nfj8uLq4gChtSDIoLtgDiAAoBMgBaBX4IlhGiGI4lWjPyPE5SVmH6dyqJ0qHSux7Rku0bCZsm80ELY8N+956PvmfeX/5UHjA90F0Qf9iaALts1AT3qQ49K6VDyVqVc+2HvZnxrnW9Pc452Vnmle3h9zn6lf/x/1H8rfwR+Xnw9eqF3jXQFcQxtpWjXY6ReE1kpU+tMYUaQP4A4NzG9KRoiVBp0EoEKhAKG+ozyn+rI4g7bedMQzNvE4r0qt7ywnKrTpGSfVZqtlW+Rn41CilqH64T3goCBh4AOgBWAnICigSaDKIWkh5iKAo7ekSiW25r0n22lQKtosd+3nr6exdnMRtTg253jd+tm82H7XwNcC00TKhvtIowqATJEOU5AGEeaTc9TsFk3X19kI2l+bWtx53Tud316knwqfkR/3n/5f5R/r35MfWx7EHk7du9yMW8Ea2xmbWENXFFWP1DcSTBDQDwUNbMtJCZwHp0Wsw66Brz+vvbJ7ubmHN9y1/HPoMiHway6FrTMrdSnNaLznBSYnZOTj/mL04gkhu+DNoL6gD6AAoBFgAiBSoIKhEWG+4gnjMeP2JNUmDidf6IkqCCubrQIu+bBA8lX0NrXhd9R5zbvK/cq/ygHIA8IF9oejSYZLng1oDyNQzVKlFCiVllctGGtZkBrZ28fc2R2M3mIe2J9v36df/t/2X84fxd+eHxdesd3unQ4cUVt5GgbZO5eYVl8U0NNvEbvP+I4nDElKoMivxrgEu4K8gLz+vnyC+sy43fb39N0zD3FQL6FtxKx7qogpayfmJrqlaaR0I1tin+HCYUOg5GBkYASgBGAkYCRgQ6DCYV/h22K0I2mkeqVmJqsnyCl7qoSsYW3QL49xXTM39N32zLjC+v48vP68gLuCuASvxqDIiUqnDHiOO8/vEZDTXxTYVnuXhtk5GhFbThxunTHd116eHwXfjh/2X/7f51/v35ifYh7M3lkdiBzZ29Aa61mtGFZXKJWlFA1So1DoTx4NRoujSbaHggXIA8oByr/K/c271Hnht/a11fQA8nmwQi7brQgriSof6I5nVSY2JPHjyeM+4hGhgqESoIIgUWAAoA+gPqANoLvgySG04j5i5OPnZMUmPOcNaLUp8ytFrSruobBoMjxz3LXG9/m5snuvva8/roGsw6cFnAeJCazLRQ1QDwvQ9xJP1BRVg1cbWFsZgRrMW/vcjt2EHlse0x9r36Uf/l/3n9Efyp+knx9eu5353RrcX5tI2lfZDdfsFnPU5pNGEdOQEQ5ATKMKu0iKhtNE1wLXwNh+2bzd+ud4+DbRtTZzJ7Fnr7ft2mxQKttpfSf25oolt6RAo6YiqSHKIUmg6KBnIAVgA6Ah4CAgfeC64Rah0GKn41vka2VVZpkn9KknKq8sCq34r3bxBDMeNMN28jin+qL8oX6hAKBCnQSVBoZIr0pNzGAOJA/YUbrTChTE1mkXtdjpWgMbQVxjXShdz16XnwEfit/1H/8f6V/zn54faV7VnmOdk9znW98a+9m+2GlXPJW6VCPSupDAT3bNYAu9iZFH3QXjQ+VB5f/mfej773n8N9C2L3QZslGwmS7x7R0rnSoyqJ+nZWYE5T8j1aMI4lohiWEX4IWgUyAAoA4gO2AIoLUgwKGq4jLi1+PY5PUl62c6qGFp3itvbNPuifBPciLzwrXsd565l3uUfZO/k0GRg4wFgUevCVMLbA03zvSQoJJ6U8AVsFbJmEqZshq+26/chB27HhOezV9oH6Lf/d/439Pfzx+q3ydehR4E3WecbdtYmmjZIBf/lkiVPFNc0etQKY5ZjL0KlYjlRu5E8kLzQPO+9Pz5OsI5EncrtQ9zQDG/L46uL+xk6u7pT2gH5tllhaSNI7EismHR4U/g7SBp4AZgAuAfoBvgeCCzYQ1hxeKbo03kXCVE5ocn4akS6pmsNC2hL16xKzLEtOl2l3iM+oe8hj6FgIUCgcS6BmwIVUp0jAdODE/BUaTTNVSxFhaXpJjZmjSbNFwX3R5dxx6RHzxfR9/zn/9f61/3X6OfcF7eXm3dn9z02+3azBnQWLxXENXPlHoSkdEYT0/NuYuXievH+AX+Q8DCAQABvgQ8CnoWuCr2CPRycmnwsG7ILXJrsSoFqPFndaYTpQykIWMTImKhkGEdIIlgVSAA4AxgOCADoK5g+GFg4idiyuPKZOVl2icoKE2pyStZbPzucfA28cmz6LWSN4P5vDt4/Xh/d8F2Q3EFZodUyXmLEw0fjt0QihJk0+uVXRb3mDoZYtqxG6OcuZ1yHgxex99j36Cf/R/539af05+w3y8ejp4QHXQce9toGnnZMlfTFp0VEhOzkcLQQg6yzJbK8AjARwlFDYMOwQ8/ED0UOxz5LPcFdWizWLGW7+VuBay5asIpoagYpuklk6SZo7wiu+HZoVXg8aBsoAdgAmAdIBfgcmCr4QRh+yJPY0BkTOV0ZnUnjmk+akQsHa2Jr0ZxEjLq9I82vLhx+mx8ar5qQGmCZoRfRlGIe0obDC7N9E+qUU7TIFSdVgQXk1jJ2iYbJ1wMnRSd/t5KnzdfRJ/yH/+f7R/636jfd17m3ngdq5zCHDya3Fnh2I8XZNXk1FBS6NEwj2iNkwvxicZIEwYZhBwCHIAdPh88JXoxOAT2YnRLcoHwx68ebUerxSpYaMLnheZiZRnkLWMdYmthl2EioIzgVyABIAsgNSA+oGfg8GFXIhvi/eO8JJVlyScVqHnptGsDrOYuWjAeMfBzjrW3t2j5YPtdvVz/XEFbA1YFTAd6iR/LOgzHTsXQs5IPU9dVSdblmClZU5qjW5dcrt1o3gTewd9f354f/F/639lf19+3Hzbel94a3UCcidu3WkqZRJgmVrGVJ9OKEhqQWo6MDPCKykkaxySFKMMqASq/K30vOzf5BzdfNUHzsTGur/wuG2yOKxXps+gppviloeSmY4dixWIhoVxg9iBvYAigAeAa4BPgbKCkoTthsKJDY3KkPeUj5mNnu2jqKm6rx22yby4w+TKRdLT2YjhW+lE8T35OwE5CS4RERncIIYoBzBYN3I+TUXjSy1SJVjFXQdj52debGlwA3Qqd9l5D3zJfQR/wX/+f7x/+X64ffh7vXkId91zPXAtbLFnzWKHXeNX51GZSwBFIj4FN7IvLyiDILcY0xDeCN8A4fjp8ADpL+F82e/Rkcpnw3u80rVzr2WpraNSnliZxZSdkOSMn4nQhnqEoIJCgWSABYAmgMeA54GGg6CFNYhCi8SOtpIWl9+bDKGYpn2strI8uQnAFsdbztPVdN045RftCfUF/QQF/gzsFMUcgSQYLIQzuzq4QXRI504LVdpaTmBiZRFqVW4scpB1fnj0evB8bn5uf+5/739vf3F+9Hz5eoR4l3U0cl9uG2ptZVpg51oYVfVOg0jIQcs6lDMpLJIk1hz+FBANFgUX/Rv1Ke1K5Ybd5NVszibHGcBLucWyi6ylphih6pshl8CSzI5KizyIpoWKg+uByYA=\" type=\"audio/wav\" />\n",
       "                    Your browser does not support the audio element.\n",
       "                </audio>\n",
       "              "
      ],
      "text/plain": [
       "<IPython.lib.display.Audio object>"
      ]
     },
     "execution_count": 9,
     "metadata": {},
     "output_type": "execute_result"
    }
   ],
   "source": [
    "import numpy as np\n",
    "f = 500.0\n",
    "rate = 8000.0\n",
    "L = 3\n",
    "times = np.linspace(0,L,rate*L)\n",
    "signal = np.sin(f*times)\n",
    "\n",
    "Audio(data=signal, rate=rate)"
   ]
  },
  {
   "cell_type": "markdown",
   "metadata": {},
   "source": [
    "## Links zu lokalen Dateien\n",
    "\n",
    "IPython bietet integrierte Klassen zum Generieren von Links zu lokalen Dateien. Erstellt hierz eine Verknüpfung zu einer einzelnen Datei mit dem `FileLink`-Objekt:"
   ]
  },
  {
   "cell_type": "code",
   "execution_count": 10,
   "metadata": {},
   "outputs": [
    {
     "data": {
      "text/html": [
       "<a href='magics.ipynb' target='_blank'>magics.ipynb</a><br>"
      ],
      "text/plain": [
       "/Users/veit/jupyter-tutorial/docs/basics/ipython/magics.ipynb"
      ]
     },
     "execution_count": 10,
     "metadata": {},
     "output_type": "execute_result"
    }
   ],
   "source": [
    "from IPython.display import FileLink, FileLinks\n",
    "FileLink('magics.ipynb')"
   ]
  },
  {
   "cell_type": "markdown",
   "metadata": {},
   "source": [
    "Alternativ könnt ihr auch eine Liste mit Links zu allen Dateien in einem Verzeichnis generieren, z.B.:"
   ]
  },
  {
   "cell_type": "code",
   "execution_count": 11,
   "metadata": {},
   "outputs": [
    {
     "data": {
      "text/html": [
       "./<br>\n",
       "&nbsp;&nbsp;<a href='./index.rst' target='_blank'>index.rst</a><br>\n",
       "&nbsp;&nbsp;<a href='./profiling.ipynb' target='_blank'>profiling.ipynb</a><br>\n",
       "&nbsp;&nbsp;<a href='./debugging.ipynb' target='_blank'>debugging.ipynb</a><br>\n",
       "&nbsp;&nbsp;<a href='./mprun_demo.py' target='_blank'>mprun_demo.py</a><br>\n",
       "&nbsp;&nbsp;<a href='./magics.ipynb' target='_blank'>magics.ipynb</a><br>\n",
       "&nbsp;&nbsp;<a href='./shell.ipynb' target='_blank'>shell.ipynb</a><br>\n",
       "&nbsp;&nbsp;<a href='./display.ipynb' target='_blank'>display.ipynb</a><br>\n",
       "&nbsp;&nbsp;<a href='./myscript.py' target='_blank'>myscript.py</a><br>\n",
       "&nbsp;&nbsp;<a href='./start.rst' target='_blank'>start.rst</a><br>\n"
      ],
      "text/plain": [
       "./\n",
       "  index.rst\n",
       "  profiling.ipynb\n",
       "  debugging.ipynb\n",
       "  mprun_demo.py\n",
       "  magics.ipynb\n",
       "  shell.ipynb\n",
       "  display.ipynb\n",
       "  myscript.py\n",
       "  start.rst\n"
      ]
     },
     "execution_count": 11,
     "metadata": {},
     "output_type": "execute_result"
    }
   ],
   "source": [
    "FileLinks ('.')"
   ]
  }
 ],
 "metadata": {
  "kernelspec": {
   "display_name": "Python 3",
   "language": "python",
   "name": "python3"
  },
  "language_info": {
   "codemirror_mode": {
    "name": "ipython",
    "version": 3
   },
   "file_extension": ".py",
   "mimetype": "text/x-python",
   "name": "python",
   "nbconvert_exporter": "python",
   "pygments_lexer": "ipython3",
   "version": "3.7.0"
  }
 },
 "nbformat": 4,
 "nbformat_minor": 2
}
