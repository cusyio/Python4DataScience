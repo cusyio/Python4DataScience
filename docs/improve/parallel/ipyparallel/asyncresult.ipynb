{
 "cells": [
  {
   "cell_type": "markdown",
   "metadata": {},
   "source": [
    "# `AsyncResult`-Objekt\n",
    "\n",
    "`apply()` gibt im `noblock`-Modus ein `AsyncResult`-Objekt zurück. Dieses erlaubt zu einem späteren Zeitpunkt Anfragen mit der `get()`-Methode zu den Ergebnissen. Überdies werden in diesem Objekt auch bei der Ausführung anfallende Metadaten gesammelt.\n",
    "\n",
    "Das [AsyncResult](https://ipyparallel.readthedocs.io/en/latest/details.html#AsyncResult)-Objekt bietet eine Reihe praktischer Funktionen für die Parallelisierung, die über Pythons [multiprocessing.pool.AsyncResult](https://docs.python.org/3/library/multiprocessing.html#multiprocessing.pool.AsyncResult). hinausgehen:"
   ]
  },
  {
   "cell_type": "markdown",
   "metadata": {},
   "source": [
    "## `get_dict`\n",
    "\n",
    "`AsyncResult.get_dict()`"
   ]
  },
  {
   "cell_type": "code",
   "execution_count": 1,
   "metadata": {},
   "outputs": [],
   "source": [
    "import os\n",
    "import ipyparallel as ipp\n",
    "\n",
    "rc = ipp.Client()\n",
    "ar = rc[:].apply_async(os.getpid)\n",
    "pids = ar.get_dict()\n",
    "rc[:]['pid_map'] = pids"
   ]
  },
  {
   "cell_type": "markdown",
   "metadata": {},
   "source": [
    "## Metadaten\n",
    "\n",
    "`Client.metadata`"
   ]
  },
  {
   "cell_type": "markdown",
   "metadata": {},
   "source": [
    "### Timing"
   ]
  },
  {
   "cell_type": "markdown",
   "metadata": {},
   "source": [
    "## Iterierbare Map-Ergebnisse"
   ]
  },
  {
   "cell_type": "code",
   "execution_count": 2,
   "metadata": {},
   "outputs": [
    {
     "name": "stdout",
     "output_type": "stream",
     "text": [
      "Engine IDs:  [0, 1, 2]\n",
      "sleeping for `id` seconds on each engine\n",
      "0: 0.027\n",
      "1: 1.022\n",
      "2: 2.024\n",
      "running with one call per task\n",
      "task 0 on engine 2: 0.000\n",
      "task 1 on engine 1: 0.001\n",
      "task 2 on engine 0: 0.001\n",
      "task 3 on engine 2: 0.001\n",
      "task 4 on engine 1: 0.001\n",
      "…\n",
      "slept 0.12s on engine 2: 16.868\n",
      "slept 0.11s on engine 2: 16.868\n",
      "slept 0.14s on engine 0: 16.873\n",
      "slept 0.13s on engine 0: 16.873\n",
      "slept 0.16s on engine 1: 16.893\n",
      "…\n"
     ]
    }
   ],
   "source": [
    "from __future__ import print_function\n",
    "\n",
    "import time\n",
    "\n",
    "import ipyparallel as ipp\n",
    "\n",
    "# create client & view\n",
    "rc = ipp.Client()\n",
    "dv = rc[:]\n",
    "v = rc.load_balanced_view()\n",
    "\n",
    "# scatter 'id', so id=0,1,2 on engines 0,1,2\n",
    "dv.scatter('id', rc.ids, flatten=True)\n",
    "print(\"Engine IDs: \", dv['id'])\n",
    "\n",
    "# create a Reference to `id`. This will be a different value on each engine\n",
    "ref = ipp.Reference('id')\n",
    "print(\"sleeping for `id` seconds on each engine\")\n",
    "tic = time.time()\n",
    "ar = dv.apply(time.sleep, ref)\n",
    "for i,r in enumerate(ar):\n",
    "    print(\"%i: %.3f\"%(i, time.time()-tic))\n",
    "\n",
    "def sleep_here(t):\n",
    "    import time\n",
    "    time.sleep(t)\n",
    "    return id,t\n",
    "\n",
    "# one call per task\n",
    "print(\"running with one call per task\")\n",
    "amr = v.map(sleep_here, [.01*t for t in range(100)])\n",
    "tic = time.time()\n",
    "for i,r in enumerate(amr):\n",
    "    print(\"task %i on engine %i: %.3f\" % (i, r[0], time.time()-tic))\n",
    "\n",
    "print(\"running with four calls per task\")\n",
    "# with chunksize, we can have four calls per task\n",
    "amr = v.map(sleep_here, [.01*t for t in range(100)], chunksize=4)\n",
    "tic = time.time()\n",
    "for i,r in enumerate(amr):\n",
    "    print(\"task %i on engine %i: %.3f\" % (i, r[0], time.time()-tic))\n",
    "\n",
    "print(\"running with two calls per task, with unordered results\")\n",
    "# We can even iterate through faster results first, with ordered=False\n",
    "amr = v.map(sleep_here, [.01*t for t in range(100,0,-1)], ordered=False, chunksize=2)\n",
    "tic = time.time()\n",
    "for i,r in enumerate(amr):\n",
    "    print(\"slept %.2fs on engine %i: %.3f\" % (r[1], r[0], time.time()-tic))\n"
   ]
  },
  {
   "cell_type": "code",
   "execution_count": 4,
   "metadata": {},
   "outputs": [
    {
     "data": {
      "text/plain": [
       "58.028845747399714"
      ]
     },
     "execution_count": 4,
     "metadata": {},
     "output_type": "execute_result"
    }
   ],
   "source": [
    "from functools import reduce\n",
    "from math import sqrt\n",
    "import numpy as np\n",
    "\n",
    "X = np.linspace(0,100)\n",
    "add = lambda a,b: a+b\n",
    "sq = lambda x: x*x\n",
    "sqrt(reduce(add, map(sq, X)) / len(X))"
   ]
  },
  {
   "cell_type": "markdown",
   "metadata": {},
   "source": [
    "1. `map(sq, X)` berechnet das Quadrat jedes Elements in der Liste.\n",
    "2. `reduce(add, sqX) / len(X)` berechnet den Mittelwert indem die Liste von `AsyncMapResult` summiert und durch die Anzahl dividiert wird.\n",
    "3. Quadratwurzel der resultierenden Zahl.\n",
    "\n",
    "> **Siehe auch:** Wenn ihr die Ergebnisse von `AsyncResult` oder `AsyncMapResult` noch erweitern wollt, könnt ihr dies mit dem `msg_ids`-Attribut. Ein Beispiel hierfür findet ihr unter [ipyparallel/examples/customresults.py](https://github.com/ipython/ipyparallel/blob/master/examples/customresults.py)."
   ]
  }
 ],
 "metadata": {
  "kernelspec": {
   "display_name": "Python 3.7.4",
   "language": "python",
   "name": "python-374"
  },
  "language_info": {
   "codemirror_mode": {
    "name": "ipython",
    "version": 3
   },
   "file_extension": ".py",
   "mimetype": "text/x-python",
   "name": "python",
   "nbconvert_exporter": "python",
   "pygments_lexer": "ipython3",
   "version": "3.7.4"
  },
  "latex_envs": {
   "LaTeX_envs_menu_present": true,
   "autoclose": false,
   "autocomplete": true,
   "bibliofile": "biblio.bib",
   "cite_by": "apalike",
   "current_citInitial": 1,
   "eqLabelWithNumbers": true,
   "eqNumInitial": 1,
   "hotkeys": {
    "equation": "Ctrl-E",
    "itemize": "Ctrl-I"
   },
   "labels_anchors": false,
   "latex_user_defs": false,
   "report_style_numbering": false,
   "user_envs_cfg": false
  },
  "varInspector": {
   "cols": {
    "lenName": 16,
    "lenType": 16,
    "lenVar": 40
   },
   "kernels_config": {
    "python": {
     "delete_cmd_postfix": "",
     "delete_cmd_prefix": "del ",
     "library": "var_list.py",
     "varRefreshCmd": "print(var_dic_list())"
    },
    "r": {
     "delete_cmd_postfix": ") ",
     "delete_cmd_prefix": "rm(",
     "library": "var_list.r",
     "varRefreshCmd": "cat(var_dic_list()) "
    }
   },
   "types_to_exclude": [
    "module",
    "function",
    "builtin_function_or_method",
    "instance",
    "_Feature"
   ],
   "window_display": false
  },
  "widgets": {
   "application/vnd.jupyter.widget-state+json": {
    "state": {},
    "version_major": 2,
    "version_minor": 0
   }
  }
 },
 "nbformat": 4,
 "nbformat_minor": 2
}
