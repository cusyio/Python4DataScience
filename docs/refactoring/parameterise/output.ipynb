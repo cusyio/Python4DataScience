{
 "cells": [
  {
   "cell_type": "markdown",
   "id": "92cf2d67",
   "metadata": {
    "papermill": {
     "duration": 0.010695,
     "end_time": "2021-09-12T23:34:43.722502",
     "exception": false,
     "start_time": "2021-09-12T23:34:43.711807",
     "status": "completed"
    },
    "tags": []
   },
   "source": [
    "# Notebook with parameters"
   ]
  },
  {
   "cell_type": "code",
   "execution_count": 1,
   "id": "d8eeb505",
   "metadata": {
    "execution": {
     "iopub.execute_input": "2021-09-12T23:34:43.752860Z",
     "iopub.status.busy": "2021-09-12T23:34:43.750922Z",
     "iopub.status.idle": "2021-09-12T23:34:43.756854Z",
     "shell.execute_reply": "2021-09-12T23:34:43.758308Z"
    },
    "papermill": {
     "duration": 0.028801,
     "end_time": "2021-09-12T23:34:43.758846",
     "exception": false,
     "start_time": "2021-09-12T23:34:43.730045",
     "status": "completed"
    },
    "tags": [
     "parameters"
    ]
   },
   "outputs": [],
   "source": [
    "salutation = None\n",
    "name = None"
   ]
  },
  {
   "cell_type": "code",
   "execution_count": 2,
   "id": "34145326",
   "metadata": {
    "execution": {
     "iopub.execute_input": "2021-09-12T23:34:43.778651Z",
     "iopub.status.busy": "2021-09-12T23:34:43.777196Z",
     "iopub.status.idle": "2021-09-12T23:34:43.779828Z",
     "shell.execute_reply": "2021-09-12T23:34:43.780823Z"
    },
    "papermill": {
     "duration": 0.015965,
     "end_time": "2021-09-12T23:34:43.781097",
     "exception": false,
     "start_time": "2021-09-12T23:34:43.765132",
     "status": "completed"
    },
    "tags": [
     "injected-parameters"
    ]
   },
   "outputs": [],
   "source": [
    "# Parameters\n",
    "salutation = \"Hello\"\n",
    "name = \"Pythonistas\"\n"
   ]
  },
  {
   "cell_type": "code",
   "execution_count": 3,
   "id": "f66d966f",
   "metadata": {
    "execution": {
     "iopub.execute_input": "2021-09-12T23:34:43.797028Z",
     "iopub.status.busy": "2021-09-12T23:34:43.796129Z",
     "iopub.status.idle": "2021-09-12T23:34:43.799482Z",
     "shell.execute_reply": "2021-09-12T23:34:43.800125Z"
    },
    "papermill": {
     "duration": 0.013774,
     "end_time": "2021-09-12T23:34:43.800561",
     "exception": false,
     "start_time": "2021-09-12T23:34:43.786787",
     "status": "completed"
    },
    "tags": []
   },
   "outputs": [
    {
     "name": "stdout",
     "output_type": "stream",
     "text": [
      "Hello Pythonistas\n"
     ]
    }
   ],
   "source": [
    "print(salutation, name)"
   ]
  }
 ],
 "metadata": {
  "kernelspec": {
   "display_name": "Python 3.7.4",
   "language": "python",
   "name": "python-374"
  },
  "language_info": {
   "codemirror_mode": {
    "name": "ipython",
    "version": 3
   },
   "file_extension": ".py",
   "mimetype": "text/x-python",
   "name": "python",
   "nbconvert_exporter": "python",
   "pygments_lexer": "ipython3",
   "version": "3.7.4"
  },
  "latex_envs": {
   "LaTeX_envs_menu_present": true,
   "autoclose": false,
   "autocomplete": true,
   "bibliofile": "biblio.bib",
   "cite_by": "apalike",
   "current_citInitial": 1,
   "eqLabelWithNumbers": true,
   "eqNumInitial": 1,
   "hotkeys": {
    "equation": "Ctrl-E",
    "itemize": "Ctrl-I"
   },
   "labels_anchors": false,
   "latex_user_defs": false,
   "report_style_numbering": false,
   "user_envs_cfg": false
  },
  "papermill": {
   "default_parameters": {},
   "duration": 2.49436,
   "end_time": "2021-09-12T23:34:43.917179",
   "environment_variables": {},
   "exception": null,
   "input_path": "docs/productive/parameterise/input.ipynb",
   "output_path": "docs/productive/parameterise/output.ipynb",
   "parameters": {
    "name": "Pythonistas",
    "salutation": "Hello"
   },
   "start_time": "2021-09-12T23:34:41.422819",
   "version": "2.3.3"
  }
 },
 "nbformat": 4,
 "nbformat_minor": 5
}
