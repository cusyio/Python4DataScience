{
 "cells": [
  {
   "cell_type": "markdown",
   "id": "77487f8d",
   "metadata": {
    "papermill": {
     "duration": 0.010352,
     "end_time": "2021-09-13T08:42:38.495270",
     "exception": false,
     "start_time": "2021-09-13T08:42:38.484918",
     "status": "completed"
    },
    "tags": []
   },
   "source": [
    "# Notebook with parameters"
   ]
  },
  {
   "cell_type": "code",
   "execution_count": 1,
   "id": "5ff2a94a",
   "metadata": {
    "execution": {
     "iopub.execute_input": "2021-09-13T08:42:38.527458Z",
     "iopub.status.busy": "2021-09-13T08:42:38.526141Z",
     "iopub.status.idle": "2021-09-13T08:42:38.532293Z",
     "shell.execute_reply": "2021-09-13T08:42:38.533071Z"
    },
    "papermill": {
     "duration": 0.029402,
     "end_time": "2021-09-13T08:42:38.533478",
     "exception": false,
     "start_time": "2021-09-13T08:42:38.504076",
     "status": "completed"
    },
    "tags": [
     "parameters"
    ]
   },
   "outputs": [],
   "source": [
    "salutation = None\n",
    "name = None"
   ]
  },
  {
   "cell_type": "code",
   "execution_count": 2,
   "id": "71e802dd",
   "metadata": {
    "execution": {
     "iopub.execute_input": "2021-09-13T08:42:38.553126Z",
     "iopub.status.busy": "2021-09-13T08:42:38.551814Z",
     "iopub.status.idle": "2021-09-13T08:42:38.554218Z",
     "shell.execute_reply": "2021-09-13T08:42:38.554751Z"
    },
    "papermill": {
     "duration": 0.013999,
     "end_time": "2021-09-13T08:42:38.555226",
     "exception": false,
     "start_time": "2021-09-13T08:42:38.541227",
     "status": "completed"
    },
    "tags": [
     "injected-parameters"
    ]
   },
   "outputs": [],
   "source": [
    "# Parameters\n",
    "salutation = \"Hello\"\n",
    "name = \"Pythonistas\"\n"
   ]
  },
  {
   "cell_type": "code",
   "execution_count": 3,
   "id": "ef853d4a",
   "metadata": {
    "execution": {
     "iopub.execute_input": "2021-09-13T08:42:38.569137Z",
     "iopub.status.busy": "2021-09-13T08:42:38.568495Z",
     "iopub.status.idle": "2021-09-13T08:42:38.570295Z",
     "shell.execute_reply": "2021-09-13T08:42:38.570897Z"
    },
    "papermill": {
     "duration": 0.011214,
     "end_time": "2021-09-13T08:42:38.571083",
     "exception": false,
     "start_time": "2021-09-13T08:42:38.559869",
     "status": "completed"
    },
    "tags": []
   },
   "outputs": [],
   "source": [
    "from datetime import date\n",
    "today = date.today()"
   ]
  },
  {
   "cell_type": "code",
   "execution_count": 4,
   "id": "c023d477",
   "metadata": {
    "execution": {
     "iopub.execute_input": "2021-09-13T08:42:38.584679Z",
     "iopub.status.busy": "2021-09-13T08:42:38.583990Z",
     "iopub.status.idle": "2021-09-13T08:42:38.587238Z",
     "shell.execute_reply": "2021-09-13T08:42:38.587909Z"
    },
    "papermill": {
     "duration": 0.012967,
     "end_time": "2021-09-13T08:42:38.588113",
     "exception": false,
     "start_time": "2021-09-13T08:42:38.575146",
     "status": "completed"
    },
    "tags": []
   },
   "outputs": [
    {
     "name": "stdout",
     "output_type": "stream",
     "text": [
      "Hello Pythonistas – welcome to our event on this Monday, 13 September 2021\n"
     ]
    }
   ],
   "source": [
    "print(salutation, name, \"– welcome to our event on this \" + today.strftime(\"%A, %d %B %Y\"))"
   ]
  }
 ],
 "metadata": {
  "kernelspec": {
   "display_name": "Python 3.7.4",
   "language": "python",
   "name": "python-374"
  },
  "language_info": {
   "codemirror_mode": {
    "name": "ipython",
    "version": 3
   },
   "file_extension": ".py",
   "mimetype": "text/x-python",
   "name": "python",
   "nbconvert_exporter": "python",
   "pygments_lexer": "ipython3",
   "version": "3.7.4"
  },
  "latex_envs": {
   "LaTeX_envs_menu_present": true,
   "autoclose": false,
   "autocomplete": true,
   "bibliofile": "biblio.bib",
   "cite_by": "apalike",
   "current_citInitial": 1,
   "eqLabelWithNumbers": true,
   "eqNumInitial": 1,
   "hotkeys": {
    "equation": "Ctrl-E",
    "itemize": "Ctrl-I"
   },
   "labels_anchors": false,
   "latex_user_defs": false,
   "report_style_numbering": false,
   "user_envs_cfg": false
  },
  "papermill": {
   "default_parameters": {},
   "duration": 2.635495,
   "end_time": "2021-09-13T08:42:38.705856",
   "environment_variables": {},
   "exception": null,
   "input_path": "docs/refactoring/parameterise/input.ipynb",
   "output_path": "docs/refactoring/parameterise/output_2021-09-13_10:42:33.ipynb",
   "parameters": {
    "name": "Pythonistas",
    "salutation": "Hello"
   },
   "start_time": "2021-09-13T08:42:36.070361",
   "version": "2.3.3"
  }
 },
 "nbformat": 4,
 "nbformat_minor": 5
}
