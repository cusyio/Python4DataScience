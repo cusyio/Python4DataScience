{
 "cells": [
  {
   "cell_type": "markdown",
   "metadata": {},
   "source": [
    "# Create module\n",
    "\n",
    "It is not very practical to start Jupyter every time and go through all the cells of the [request notebook](requests.rst) just to be able to use the functions. Instead, we should store our functions in a separate module, like in [nominatim.py](nominatim.py):\n",
    "\n",
    "1. For this I have created a new text file in Jupyter in the same place as these notebooks, and named it `nominatim.py`.\n",
    "2. Then I copied the imports, the method `nominatim_search` and its decorator `lru_cache` and saved the file.\n",
    "3. Now we can go back to our notebook and import the code from this file and do our searches:"
   ]
  },
  {
   "cell_type": "code",
   "execution_count": 1,
   "metadata": {},
   "outputs": [],
   "source": [
    "from nominatim import nominatim_search"
   ]
  },
  {
   "cell_type": "code",
   "execution_count": 2,
   "metadata": {},
   "outputs": [
    {
     "data": {
      "text/plain": [
       "[{'place_id': 234847916,\n",
       "  'licence': 'Data © OpenStreetMap contributors, ODbL 1.0. https://osm.org/copyright',\n",
       "  'osm_type': 'relation',\n",
       "  'osm_id': 131761,\n",
       "  'boundingbox': ['52.5200695', '52.5232601', '13.4103097', '13.4160798'],\n",
       "  'lat': '52.521670650000004',\n",
       "  'lon': '13.413278026558228',\n",
       "  'display_name': 'Alexanderplatz, Mitte, Berlin, 10178, Deutschland',\n",
       "  'class': 'highway',\n",
       "  'type': 'pedestrian',\n",
       "  'importance': 0.6914982526373583}]"
      ]
     },
     "execution_count": 2,
     "metadata": {},
     "output_type": "execute_result"
    }
   ],
   "source": [
    "nominatim_search('Alexanderplatz, Berlin, Germany')"
   ]
  },
  {
   "cell_type": "code",
   "execution_count": 3,
   "metadata": {},
   "outputs": [
    {
     "data": {
      "text/plain": [
       "[{'place_id': 22277694,\n",
       "  'licence': 'Data © OpenStreetMap contributors, ODbL 1.0. https://osm.org/copyright',\n",
       "  'osm_type': 'node',\n",
       "  'osm_id': 2270572699,\n",
       "  'boundingbox': ['52.5346778', '52.5347778', '13.4241714', '13.4242714'],\n",
       "  'lat': '52.5347278',\n",
       "  'lon': '13.4242214',\n",
       "  'display_name': '8, Marienburger Straße, Kollwitzkiez, Prenzlauer Berg, Pankow, Berlin, 10405, Deutschland',\n",
       "  'class': 'place',\n",
       "  'type': 'house',\n",
       "  'importance': 0.42099999999999993}]"
      ]
     },
     "execution_count": 3,
     "metadata": {},
     "output_type": "execute_result"
    }
   ],
   "source": [
    "nominatim_search(address=None, street='8, Marienburger Straße', city='Berlin',\n",
    "    country='Germany')"
   ]
  },
  {
   "cell_type": "markdown",
   "metadata": {},
   "source": [
    "The outsourcing of the notebook’s code to modules makes it easier to reuse it, and also makes the notebooks more readable.\n",
    "\n",
    "However, for the code to work, geocode.py needs to be in the same folder as a Jupyter notebook. If you want to call this module from another location, the path specification in the import would have to be changed. In this case it is better to create your own package, as described in [Packing](../../productive/packaging/index.rst)."
   ]
  }
 ],
 "metadata": {
  "kernelspec": {
   "display_name": "Python 3.7.4",
   "language": "python",
   "name": "python-374"
  },
  "language_info": {
   "codemirror_mode": {
    "name": "ipython",
    "version": 3
   },
   "file_extension": ".py",
   "mimetype": "text/x-python",
   "name": "python",
   "nbconvert_exporter": "python",
   "pygments_lexer": "ipython3",
   "version": "3.7.4"
  },
  "latex_envs": {
   "LaTeX_envs_menu_present": true,
   "autoclose": false,
   "autocomplete": true,
   "bibliofile": "biblio.bib",
   "cite_by": "apalike",
   "current_citInitial": 1,
   "eqLabelWithNumbers": true,
   "eqNumInitial": 1,
   "hotkeys": {
    "equation": "Ctrl-E",
    "itemize": "Ctrl-I"
   },
   "labels_anchors": false,
   "latex_user_defs": false,
   "report_style_numbering": false,
   "user_envs_cfg": false
  },
  "widgets": {
   "application/vnd.jupyter.widget-state+json": {
    "state": {},
    "version_major": 2,
    "version_minor": 0
   }
  }
 },
 "nbformat": 4,
 "nbformat_minor": 4
}
