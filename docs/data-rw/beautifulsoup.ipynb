{
 "cells": [
  {
   "cell_type": "markdown",
   "metadata": {},
   "source": [
    "# BeautifulSoup"
   ]
  },
  {
   "cell_type": "code",
   "execution_count": 1,
   "metadata": {},
   "outputs": [],
   "source": [
    "import requests\n",
    "    \n",
    "url = 'https://de.wikipedia.org/wiki/Liste_der_Stra%C3%9Fen_und_Pl%C3%A4tze_in_Berlin-Mitte'\n",
    "\n",
    "r = requests.get(url)"
   ]
  },
  {
   "cell_type": "markdown",
   "metadata": {},
   "source": [
    "1. Install:\n",
    "\n",
    "    With [Spack](../productive/envs/spack/index.rst) you can provide BeautifulSoup in your kernel:\n",
    "\n",
    "    ``` bash\n",
    "$ spack env activate python-374\n",
    "$ spack install py-beautifulsoup4 ^python@3.7.4%gcc@9.1.0\n",
    "    ```\n",
    "\n",
    "    Alternatively, you can install BeautifulSoup with other package managers, e.g.\n",
    "\n",
    "    ``` bash\n",
    "$ pipenv install beautifulsoup4\n",
    "    ```"
   ]
  },
  {
   "cell_type": "markdown",
   "metadata": {},
   "source": [
    "2. With `r.content` we can display the HTML of the page."
   ]
  },
  {
   "cell_type": "markdown",
   "metadata": {},
   "source": [
    "3. Next we need to decompose this string into a Python representation of the page using BeautifulSoup:"
   ]
  },
  {
   "cell_type": "code",
   "execution_count": 3,
   "metadata": {},
   "outputs": [],
   "source": [
    "from bs4 import BeautifulSoup\n",
    "soup = BeautifulSoup(r.content, 'html.parser')"
   ]
  },
  {
   "cell_type": "markdown",
   "metadata": {},
   "source": [
    "4. To structure the code, let’s create a new function `get_dom` (**D**ocument **O**bject **M**odel) that includes all of the preceding code:"
   ]
  },
  {
   "cell_type": "code",
   "execution_count": 4,
   "metadata": {},
   "outputs": [],
   "source": [
    "def get_dom(url):\n",
    "   r = request.get(url)\n",
    "   r.raise_for_status()\n",
    "   return BeautifulSoup(r.content, 'html.parser')"
   ]
  },
  {
   "cell_type": "markdown",
   "metadata": {},
   "source": [
    "The filtering out of individual elements can be done e.g. via CSS selectors. These can be determined in a website by e.g. Firefox, right-click on one of the table cells in the first column of the table. In the *Inspector* that opens you can click the element again with the right mouse button and then select *Copy → CSS Selector*. The clipboard then contains e.g. `table.wikitable:nth-child(13) > tbody:nth-child(2) > tr:nth-child(1)`. We are now cleaning up this *CSS-Selector* because we do not want to filter for the 13th child element of table `table.wikitable` or the 2nd child element in `tbody`, but only for the 1st column within `tbody`.\n",
    "\n",
    "Finally, with `limit=3` in this notebook, we can only display the first three results as an example:"
   ]
  },
  {
   "cell_type": "code",
   "execution_count": 5,
   "metadata": {},
   "outputs": [
    {
     "name": "stdout",
     "output_type": "stream",
     "text": [
      "[<a href=\"/wiki/Ackerstra%C3%9Fe\" title=\"Ackerstraße\">Ackerstraße</a>, <a href=\"/wiki/Alexanderplatz\" title=\"Alexanderplatz\">Alexanderplatz</a>, <a href=\"/wiki/Almstadtstra%C3%9Fe\" title=\"Almstadtstraße\">Almstadtstraße</a>]\n"
     ]
    }
   ],
   "source": [
    "links = soup.select('table.wikitable > tbody > tr > td:nth-child(1) > a', limit=3)\n",
    "print(links)"
   ]
  },
  {
   "cell_type": "markdown",
   "metadata": {},
   "source": [
    "However, we don’t want the entire HTML link, just its text content:"
   ]
  },
  {
   "cell_type": "code",
   "execution_count": 6,
   "metadata": {},
   "outputs": [
    {
     "name": "stdout",
     "output_type": "stream",
     "text": [
      "Ackerstraße\n",
      "Alexanderplatz\n",
      "Almstadtstraße\n"
     ]
    }
   ],
   "source": [
    "for content in links:\n",
    "    print(content.text)"
   ]
  },
  {
   "cell_type": "markdown",
   "metadata": {},
   "source": [
    "## See also:\n",
    "\n",
    "* [Beautiful Soup Documentation](https://www.crummy.com/software/BeautifulSoup/bs4/doc/)"
   ]
  }
 ],
 "metadata": {
  "kernelspec": {
   "display_name": "Python 3.7.4",
   "language": "python",
   "name": "python-374"
  },
  "language_info": {
   "codemirror_mode": {
    "name": "ipython",
    "version": 3
   },
   "file_extension": ".py",
   "mimetype": "text/x-python",
   "name": "python",
   "nbconvert_exporter": "python",
   "pygments_lexer": "ipython3",
   "version": "3.7.4"
  },
  "latex_envs": {
   "LaTeX_envs_menu_present": true,
   "autoclose": false,
   "autocomplete": true,
   "bibliofile": "biblio.bib",
   "cite_by": "apalike",
   "current_citInitial": 1,
   "eqLabelWithNumbers": true,
   "eqNumInitial": 1,
   "hotkeys": {
    "equation": "Ctrl-E",
    "itemize": "Ctrl-I"
   },
   "labels_anchors": false,
   "latex_user_defs": false,
   "report_style_numbering": false,
   "user_envs_cfg": false
  },
  "widgets": {
   "application/vnd.jupyter.widget-state+json": {
    "state": {},
    "version_major": 2,
    "version_minor": 0
   }
  }
 },
 "nbformat": 4,
 "nbformat_minor": 4
}
