{
 "cells": [
  {
   "cell_type": "markdown",
   "metadata": {},
   "source": [
    "# Threading-Beispiel"
   ]
  },
  {
   "cell_type": "markdown",
   "metadata": {},
   "source": [
    "## Aktualisieren und Ausgeben eines Counters:"
   ]
  },
  {
   "cell_type": "code",
   "execution_count": 1,
   "metadata": {},
   "outputs": [
    {
     "name": "stdout",
     "output_type": "stream",
     "text": [
      "Starting up\n",
      "The count is 1\n",
      "The count is 2\n",
      "The count is 3\n",
      "The count is 4\n",
      "The count is 5\n",
      "The count is 6\n",
      "The count is 7\n",
      "The count is 8\n",
      "The count is 9\n",
      "The count is 10\n",
      "Finishing up\n"
     ]
    }
   ],
   "source": [
    "counter = 0\n",
    "\n",
    "print('Starting up')\n",
    "for i in range(10):\n",
    "    counter += 1\n",
    "    print('The count is %d' % counter)\n",
    "print('Finishing up')"
   ]
  },
  {
   "cell_type": "markdown",
   "metadata": {},
   "source": [
    "Beginnt mit Code, der klar und einfach ist und von oben nach unten ausgeführt wird. Er ist einfach zu entwickeln und inkrementell zu testen.\n",
    "\n",
    "> **Hinweis:** Testet und debuggt eure Anwendung bevor ihr mit Threading beginnt. Threading macht das Debugggen niemals einfacher."
   ]
  },
  {
   "cell_type": "markdown",
   "metadata": {},
   "source": [
    "## Umwandeln in Funktionen\n",
    "\n",
    "Im nächsten Schritt wird dann wiederverwendbarer Code als Funktion erstellt:"
   ]
  },
  {
   "cell_type": "code",
   "execution_count": 2,
   "metadata": {},
   "outputs": [
    {
     "name": "stdout",
     "output_type": "stream",
     "text": [
      "Starting up\n",
      "The count is 1\n",
      "The count is 2\n",
      "The count is 3\n",
      "The count is 4\n",
      "The count is 5\n",
      "The count is 6\n",
      "The count is 7\n",
      "The count is 8\n",
      "The count is 9\n",
      "The count is 10\n",
      "Finishing up\n"
     ]
    }
   ],
   "source": [
    "counter = 0\n",
    "\n",
    "def worker():\n",
    "    'My job is to increment the counter and print the current count'\n",
    "    global counter\n",
    "\n",
    "    counter += 1\n",
    "    print('The count is %d' % counter)\n",
    "\n",
    "print('Starting up')\n",
    "for i in range(10):\n",
    "    worker()\n",
    "print('Finishing up')"
   ]
  },
  {
   "cell_type": "markdown",
   "metadata": {},
   "source": [
    "## Multi-Threading\n",
    "\n",
    "Jetzt können einige Worker-Threads gestartet werden:"
   ]
  },
  {
   "cell_type": "code",
   "execution_count": 3,
   "metadata": {},
   "outputs": [
    {
     "name": "stdout",
     "output_type": "stream",
     "text": [
      "Starting up\n",
      "The count is 1\n",
      "The count is 2\n",
      "The count is 3\n",
      "The count is 4\n",
      "The count is 5\n",
      "The count is 6\n",
      "The count is 7\n",
      "The count is 8\n",
      "The count is 9\n",
      "The count is 10\n",
      "Finishing up\n"
     ]
    }
   ],
   "source": [
    "import threading\n",
    "\n",
    "counter = 0\n",
    "\n",
    "def worker():\n",
    "    'My job is to increment the counter and print the current count'\n",
    "    global counter\n",
    "\n",
    "    counter += 1\n",
    "    print('The count is %d' % counter)\n",
    "\n",
    "print('Starting up')\n",
    "for i in range(10):\n",
    "    threading.Thread(target=worker).start()\n",
    "print('Finishing up')"
   ]
  },
  {
   "cell_type": "markdown",
   "metadata": {},
   "source": [
    "## Test\n",
    "\n",
    "Ein einfacher Testlauf gleicht perfekt der ursprünglichen Ausgabe.\n",
    "\n",
    "### Erkennen von Race Conditions\n",
    "\n",
    "> **Hinweis:** Tests können nicht die Abwesenheit von Fehlern beweisen. Viele interessante Race Conditions zeigen sich nicht in Testumgebungen.\n",
    "\n",
    "### Fuzzing\n",
    "\n",
    "Fuzzing ist eine Technik um das Erkennen von Race Conditions zu verbessern:"
   ]
  },
  {
   "cell_type": "code",
   "execution_count": 4,
   "metadata": {},
   "outputs": [
    {
     "name": "stdout",
     "output_type": "stream",
     "text": [
      "Starting up\n",
      "The count is 1The count is 2The count is 2The count is 3The count is 4The count is 4The count is 4The count is 4Finishing up\n"
     ]
    }
   ],
   "source": [
    "import threading, time, random\n",
    "\n",
    "FUZZ = True\n",
    "\n",
    "def fuzz():\n",
    "    if FUZZ:\n",
    "        time.sleep(random.random())\n",
    "\n",
    "counter = 0\n",
    "\n",
    "def worker():\n",
    "    'My job is to increment the counter and print the current count'\n",
    "    global counter\n",
    "\n",
    "    fuzz()\n",
    "    oldcnt = counter\n",
    "    fuzz()\n",
    "    counter = oldcnt + 1\n",
    "    fuzz()\n",
    "    print('The count is %d' % counter, end='')\n",
    "    fuzz()\n",
    "\n",
    "print('Starting up')\n",
    "fuzz()\n",
    "for i in range(10):\n",
    "    threading.Thread(target=worker).start()\n",
    "    fuzz()\n",
    "print('Finishing up')\n",
    "fuzz()"
   ]
  },
  {
   "cell_type": "markdown",
   "metadata": {},
   "source": [
    "Diese Technik ist auf relativ kleine Blöcke von Code beschränkt und ist insofern unvollkommen, als sie weiterhin nicht die Abwesenheit von Fehlern beweisen kann. Dennoch können Fuzzed Tests ggf. Race Conditions aufdecken."
   ]
  },
  {
   "cell_type": "markdown",
   "metadata": {},
   "source": [
    "## Sorgfältiges Threading mit Queues\n",
    "\n",
    "Dabei sind folgende Regeln zu beachten:\n",
    "\n",
    "1. Alle gemeinsamen Ressourcen sollten in genau einem Thread ausgeführt werden. Alle Kommunikation mit diesem Thread sollte mit nur einer atomaren Message Queue erfolgen – in der Regel mit dem [Queue-Modul](https://docs.python.org/3/library/queue.html), E-Mail oder Message Queues wie [RabbitMQ](https://www.rabbitmq.com/) oder [ZeroMQ](http://zeromq.org/).\n",
    "\n",
    "   Ressourcen, die diese Technik benötigen sind z.B. globale Variablen, Benutzereingaben, Ausgabegeräte, Dateien, Sockets usw.\n",
    "\n",
    "2. Eine Kategorie von Sequenzierungsproblemen besteht im Ssicherzustellen, dass Schritt A vor Schritt B ausgeführt wird. Die Lösung besteht darin, beide im selben Thread auszuführen, in dem alle Aktionen nacheinander ablaufen.\n",
    "\n",
    "3. Um eine *Barriere* zu implementieren, die darauf wartet, dass alle parallelen Threads abgeschlossen sind, müssen nur alle Threads mit <code>join()</code> verbunden werden.\n",
    "\n",
    "4. Ihr könnt nicht darauf warten, dass Daemon-Threads abgeschlossen werden (sie sind Endlosschleifen); stattdessen solltet ihr <code>join()</code> auf der Queue selbst ausführen, so dass die Aufgaben erst zusammengefügt werden wenn alle Aufgaben in der Queue erledigt sind.\n",
    "\n",
    "5. Ihr könnt globale Variablen verwenden um zwischen Funktionen zu kommunizieren, allerdings nur innerhalb eines single-threaded Programm. In einem multi-thread-Programm könnt ihr globale Variablen jedoch nicht verwenden da sie mutable sind. Dann ist die bessere Lösung threading.local(), da sie in einem Thread zwar global ist, jedoch nicht darüber hinaus.\n",
    "\n",
    "6. Versucht niemals, einen Thread von außen zu beenden: ihr wisst nie, ob dieser Thread ein Lock einthält. Daher bietet Python auch keinen direkten Mechanismus zum beenden von Threads. Falls ihr dies jedoch mit ctypes versucht, ist dies ein Rezept für einen Deadlocks.\n",
    "\n",
    "Wenn wir nun diese Regeln anwenden, sieht unser Code so aus:"
   ]
  },
  {
   "cell_type": "code",
   "execution_count": 5,
   "metadata": {},
   "outputs": [
    {
     "name": "stdout",
     "output_type": "stream",
     "text": [
      "Starting up\n",
      "The count is 1\n",
      "The count is 2\n",
      "The count is 3\n",
      "The count is 4\n",
      "The count is 5\n",
      "The count is 6\n",
      "The count is 7\n",
      "The count is 8The count is 8\n",
      "The count is 9\n",
      "The count is 10\n",
      "Finishing up\n"
     ]
    }
   ],
   "source": [
    "import threading, queue\n",
    "\n",
    "counter = 0\n",
    "\n",
    "counter_queue = queue.Queue()\n",
    "\n",
    "def counter_manager():\n",
    "    'I have EXCLUSIVE rights to update the counter variable'\n",
    "    global counter\n",
    "\n",
    "    while True:\n",
    "        increment = counter_queue.get()\n",
    "        counter += increment\n",
    "        print_queue.put([\n",
    "            'The count is %d' % counter,\n",
    "            ])\n",
    "        counter_queue.task_done()\n",
    "\n",
    "t = threading.Thread(target=counter_manager)\n",
    "t.daemon = True\n",
    "t.start()\n",
    "del t\n",
    "\n",
    "print_queue = queue.Queue()\n",
    "\n",
    "def print_manager():\n",
    "    while True:\n",
    "        job = print_queue.get()\n",
    "        for line in job:\n",
    "            print(line)\n",
    "        print_queue.task_done()\n",
    "\n",
    "t = threading.Thread(target=print_manager)\n",
    "t.daemon = True\n",
    "t.start()\n",
    "del t\n",
    "\n",
    "def worker():\n",
    "    'My job is to increment the counter and print the current count'\n",
    "    counter_queue.put(1)\n",
    "\n",
    "print_queue.put(['Starting up'])\n",
    "worker_threads = []\n",
    "for i in range(10):\n",
    "    t = threading.Thread(target=worker)\n",
    "    worker_threads.append(t)\n",
    "    t.start()\n",
    "for t in worker_threads:\n",
    "    t.join()\n",
    "\n",
    "counter_queue.join()\n",
    "print_queue.put(['Finishing up'])\n",
    "print_queue.join()"
   ]
  },
  {
   "cell_type": "markdown",
   "metadata": {},
   "source": [
    "## Sorgfältiges Threading mit Locks\n",
    "\n",
    "Wenn wir Threading mit Locks statt mit Queues machen, wirkt der Code noch aufgeräumter:"
   ]
  },
  {
   "cell_type": "code",
   "execution_count": 6,
   "metadata": {},
   "outputs": [
    {
     "name": "stdout",
     "output_type": "stream",
     "text": [
      "Starting up\n",
      "The count is 1\n",
      "The count is 2\n",
      "The count is 3\n",
      "The count is 4\n",
      "The count is 5\n",
      "The count is 6\n",
      "The count is 7\n",
      "The count is 8\n",
      "The count is 9\n",
      "The count is 10\n",
      "Finishing up\n"
     ]
    }
   ],
   "source": [
    "import threading, time, random\n",
    "\n",
    "counter_lock = threading.Lock()\n",
    "printer_lock = threading.Lock()\n",
    "\n",
    "counter = 0\n",
    "\n",
    "def worker():\n",
    "    global counter\n",
    "    with counter_lock:\n",
    "        counter += 1\n",
    "        with printer_lock:\n",
    "            print('The count is %d' % counter)\n",
    "\n",
    "with printer_lock:\n",
    "    print('Starting up')\n",
    "\n",
    "worker_threads = []\n",
    "for i in range(10):\n",
    "    t = threading.Thread(target=worker)\n",
    "    worker_threads.append(t)\n",
    "    t.start()\n",
    "for t in worker_threads:\n",
    "    t.join()\n",
    "\n",
    "with printer_lock:\n",
    "    print('Finishing up')"
   ]
  },
  {
   "cell_type": "markdown",
   "metadata": {},
   "source": [
    "Schließlich noch einige Hinweise zu Locks:\n",
    "\n",
    "1. Locks sind nur sog. *Flags*, sie verhindern nicht wirklich zuverlässig.\n",
    "2. Im Allgemeinen sollten Locks als primitives Hilfsmittel betrachtet werden, das in nicht-trivialen Beispielen schwierig zu verstehen ist. Bei komplexeren Anwendungen sollten also besser atomare Message Queues verwendet werden.\n",
    "3. Je mehr Locks gleichzeitig gesetzt sind, desto geringer werden die Vorteile gleichzeitiger Verarbeitung."
   ]
  }
 ],
 "metadata": {
  "kernelspec": {
   "display_name": "Python 3.7.4",
   "language": "python",
   "name": "python3"
  },
  "language_info": {
   "codemirror_mode": {
    "name": "ipython",
    "version": 3
   },
   "file_extension": ".py",
   "mimetype": "text/x-python",
   "name": "python",
   "nbconvert_exporter": "python",
   "pygments_lexer": "ipython3",
   "version": "3.7.4"
  },
  "latex_envs": {
   "LaTeX_envs_menu_present": true,
   "autoclose": false,
   "autocomplete": true,
   "bibliofile": "biblio.bib",
   "cite_by": "apalike",
   "current_citInitial": 1,
   "eqLabelWithNumbers": true,
   "eqNumInitial": 1,
   "hotkeys": {
    "equation": "Ctrl-E",
    "itemize": "Ctrl-I"
   },
   "labels_anchors": false,
   "latex_user_defs": false,
   "report_style_numbering": false,
   "user_envs_cfg": false
  },
  "varInspector": {
   "cols": {
    "lenName": 16,
    "lenType": 16,
    "lenVar": 40
   },
   "kernels_config": {
    "python": {
     "delete_cmd_postfix": "",
     "delete_cmd_prefix": "del ",
     "library": "var_list.py",
     "varRefreshCmd": "print(var_dic_list())"
    },
    "r": {
     "delete_cmd_postfix": ") ",
     "delete_cmd_prefix": "rm(",
     "library": "var_list.r",
     "varRefreshCmd": "cat(var_dic_list()) "
    }
   },
   "types_to_exclude": [
    "module",
    "function",
    "builtin_function_or_method",
    "instance",
    "_Feature"
   ],
   "window_display": false
  },
  "widgets": {
   "application/vnd.jupyter.widget-state+json": {
    "state": {},
    "version_major": 2,
    "version_minor": 0
   }
  }
 },
 "nbformat": 4,
 "nbformat_minor": 2
}
