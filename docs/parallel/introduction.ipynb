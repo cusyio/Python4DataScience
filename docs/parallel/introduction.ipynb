{
 "cells": [
  {
   "cell_type": "markdown",
   "metadata": {},
   "source": [
    "# Einführung in die Parallelisierung"
   ]
  },
  {
   "cell_type": "markdown",
   "metadata": {},
   "source": [
    "## Martelli’s Modell der Skalierbarkeit\n",
    "\n",
    "| Anzahl Kerne | Beschreibung                           |\n",
    "| ------------ | -------------------------------------- |\n",
    "| 1            | Einzelner Thread und einzelner Prozess |\n",
    "| 2–8          | Mehrere Threads und mehrere Prozesse   |\n",
    "| ≥9           | Verteilte Verarbeitung                 |\n",
    "\n",
    "Martelli’s Beobachtung: Im Laufe der Zeit wird die zweite Kategorie immer unbedeutender: Einzelne Kerne werden immer leistungsfähiger und große Datensätze immer größer."
   ]
  },
  {
   "cell_type": "markdown",
   "metadata": {},
   "source": [
    "## Global Interpreter Lock (GIL)\n",
    "\n",
    "CPython verfügt über eine Sperre für seinen intern geteilten globalen Status. Dies hat zur Folge, dass nicht mehr als ein Thread gleichzeitig laufen kann.\n",
    "\n",
    "Für I/O-lastige Anwendungen ist das GIL kein großes Problem; bei CPU-lastigen Anwendungen führt die Verwendung von Threading jedoch zu einer Verlangsamung. Dementsprechend ist Multi-Processing für uns spannend um mehr CPU-Zyklen zu erhalten."
   ]
  },
  {
   "cell_type": "markdown",
   "metadata": {},
   "source": [
    "## Threads vs. Prozesse vs. Async\n",
    "\n",
    "### Threads\n",
    "\n",
    "#### Pros\n",
    "\n",
    "* Threads haben den Vorteil, einen gemeinsamen Status zu teilen. Allerdings kann dies auch zu *Race Conditions* führen, d.h., die Ergebnisse einer Operation können vom zeitlichen Verhalten bestimmter Einzeloperationen abhängen.\n",
    "\n",
    "* Threads wechseln präemptiv, s. [Präemptives Multitasking](https://de.wikipedia.org/wiki/Multitasking#Pr%C3%A4emptives_Multitasking). Dies ist praktisch, da Ihr keinen expliziten Code hinzufügen müsst, um einen Wechsel der Tasks zu verursachen.\n",
    "\n",
    "* Threading funktioniert normalerweise mit vorhandenem Code und Werkzeugen, solange Locks für kritische Abschnitte hinzugefügt werden.\n",
    "\n",
    "* Threads erfordern sehr wenig Tooling: [Lock](https://docs.python.org/3/library/threading.html#threading.Lock) und [Queues](https://docs.python.org/3/library/queue.html).\n",
    "\n",
    "#### Cons\n",
    "\n",
    "* Die Kosten für diese Bequemlichkeit sind, dass ihr davon ausgehen müsst, dass ein solcher Wechsel jederzeit möglich ist. Dementsprechend müssen kritische Bereiche mit Locks geschützt werden.\n",
    "\n",
    "* Die Leistungsgrenze für Threads ist eine CPU abzüglich der Kosten für Task-Switches und Synchronisationsaufwände."
   ]
  },
  {
   "cell_type": "markdown",
   "metadata": {},
   "source": [
    "### Prozesse\n",
    "\n",
    "#### Pros\n",
    "\n",
    "* Die Stärke von Prozessen ist, unabhängig voneinander zu sein.\n",
    "\n",
    "#### Cons\n",
    "\n",
    "* Allerdings kommunizieren sie auch nicht miteinander. Daher werden [Interprocess Communication (IPC)](https://docs.python.org/3/library/ipc.html), [object pickling](https://docs.python.org/3/library/pickle.html) und anderer Overhead notwendig."
   ]
  },
  {
   "cell_type": "markdown",
   "metadata": {},
   "source": [
    "### Async\n",
    "\n",
    "#### Pros\n",
    "\n",
    "* Async schaltet kooperativ um, daher müsst ihr explizit [yield](https://docs.python.org/3/reference/simple_stmts.html#yield) oder [await](https://docs.python.org/3/reference/expressions.html#await) hinzufügen, um einen Task-Switch herbeizuführen. Damit könnt ihr kontrollieren, wann diese Task-Switches und ggf. Locks und Synchronisationen stattfinden sollen. Ihr könnt daher die Aufwände für Task-Switches sehr niedrig halten. Zudem hat der Aufruf einer reinen Python-Funktion mehr Overhead als die erneute Anfrage eines *generator* oder *awaitable* – d.h., Async ist sehr billig.\n",
    "\n",
    "* Async kann die CPU-Auslastung verbessern, da es die üblichen Aufwände reduzieren kann.\n",
    "* Bei komplexen Systemen kommt man mit async viel einfacher zum Ziel als mit Threads mit Locks.\n",
    "\n",
    "#### Cons\n",
    "\n",
    "* Async benötigt eine große Menge an Werkzeugen: [futures](https://docs.python.org/3/library/asyncio-task.html#future), [Event Loops](https://docs.python.org/3/library/asyncio-eventloops.html) und nicht-blockierende Versionen von fast allem."
   ]
  }
 ],
 "metadata": {
  "kernelspec": {
   "display_name": "Python 3.7.4",
   "language": "python",
   "name": "python3"
  },
  "language_info": {
   "codemirror_mode": {
    "name": "ipython",
    "version": 3
   },
   "file_extension": ".py",
   "mimetype": "text/x-python",
   "name": "python",
   "nbconvert_exporter": "python",
   "pygments_lexer": "ipython3",
   "version": "3.7.4"
  },
  "latex_envs": {
   "LaTeX_envs_menu_present": true,
   "autoclose": false,
   "autocomplete": true,
   "bibliofile": "biblio.bib",
   "cite_by": "apalike",
   "current_citInitial": 1,
   "eqLabelWithNumbers": true,
   "eqNumInitial": 1,
   "hotkeys": {
    "equation": "Ctrl-E",
    "itemize": "Ctrl-I"
   },
   "labels_anchors": false,
   "latex_user_defs": false,
   "report_style_numbering": false,
   "user_envs_cfg": false
  },
  "varInspector": {
   "cols": {
    "lenName": 16,
    "lenType": 16,
    "lenVar": 40
   },
   "kernels_config": {
    "python": {
     "delete_cmd_postfix": "",
     "delete_cmd_prefix": "del ",
     "library": "var_list.py",
     "varRefreshCmd": "print(var_dic_list())"
    },
    "r": {
     "delete_cmd_postfix": ") ",
     "delete_cmd_prefix": "rm(",
     "library": "var_list.r",
     "varRefreshCmd": "cat(var_dic_list()) "
    }
   },
   "types_to_exclude": [
    "module",
    "function",
    "builtin_function_or_method",
    "instance",
    "_Feature"
   ],
   "window_display": false
  },
  "widgets": {
   "application/vnd.jupyter.widget-state+json": {
    "state": {},
    "version_major": 2,
    "version_minor": 0
   }
  }
 },
 "nbformat": 4,
 "nbformat_minor": 2
}
