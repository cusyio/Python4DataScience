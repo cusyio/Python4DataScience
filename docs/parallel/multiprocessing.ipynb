{
 "cells": [
  {
   "cell_type": "markdown",
   "metadata": {},
   "source": [
    "# Multi-Processing-Beispiel\n",
    "\n",
    "Wir beginnen hier mit Code, der klar und einfach ist und von oben nach unten ausgeführt wird. Er ist einfach zu entwickeln und inkrementell zu testen:"
   ]
  },
  {
   "cell_type": "code",
   "execution_count": 1,
   "metadata": {},
   "outputs": [
    {
     "name": "stdout",
     "output_type": "stream",
     "text": [
      "('https://www.cusy.io/de', 15655)\n",
      "('https://jupyter-tutorial.readthedocs.io/de/latest/', 12630)\n",
      "('https://github.com/veit/jupyter-tutorial/', 98527)\n"
     ]
    }
   ],
   "source": [
    "import urllib.request\n",
    "from multiprocessing.pool import ThreadPool as Pool\n",
    "\n",
    "sites = [\n",
    "    'https://jupyter-tutorial.readthedocs.io/de/latest/',\n",
    "    'https://github.com/veit/jupyter-tutorial/',\n",
    "    'https://www.cusy.io/de',\n",
    "]\n",
    "\n",
    "def sitesize(url):\n",
    "    ''' Determine the size of a website '''\n",
    "    with urllib.request.urlopen(url) as u:\n",
    "        page = u.read()\n",
    "        return url, len(page)\n",
    "\n",
    "pool = Pool(10)\n",
    "for result in pool.imap_unordered(sitesize, sites):\n",
    "    print(result)"
   ]
  },
  {
   "cell_type": "markdown",
   "metadata": {},
   "source": [
    "> **Hinweis 1:** Eine gute Entwicklungsstrategie ist die Verwendung von [map](https://docs.python.org/3/library/functions.html#map), um den Code in einem einzelnen Prozess und einem einzelnen Thread zu testen, bevor zu Multi-Processing gewechselt wird.\n",
    "\n",
    "> **Hinweis 2:** Um besser einschätzen zu können, wann `ThreadPool` und wann Prozess-`Pool` verwendet werden sollte, hier einige Faustregeln:\n",
    "> \n",
    "> * `multiprocessing.pool.ThreadPool` sollte für IO-lastige Jobs verwendet werden.\n",
    "> * `multiprocessing.Pool` sollte für CPU-lastige Jobs verwendet werden.\n",
    "> * Für CPU- und IO-lastige Jobs bevorzuge ich üblicherweise `multiprocessing.Pool`, da hierdurch eine bessere Prozessisolierung erreicht wird.\n",
    "> * Bei Python 3 schaut euch auch die Pool-Implementierung von [concurrent.future.Executor](https://docs.python.org/3/library/concurrent.futures.html?highlight=concurrent%20futures#concurrent.futures.Executor) an."
   ]
  },
  {
   "cell_type": "code",
   "execution_count": 2,
   "metadata": {},
   "outputs": [
    {
     "name": "stdout",
     "output_type": "stream",
     "text": [
      "('https://jupyter-tutorial.readthedocs.io/de/latest/', 12630)\n",
      "('https://github.com/veit/jupyter-tutorial/', 98651)\n",
      "('https://www.cusy.io/de', 15655)\n"
     ]
    }
   ],
   "source": [
    "import urllib.request\n",
    "from multiprocessing.pool import ThreadPool as Pool\n",
    "\n",
    "sites = [\n",
    "    'https://jupyter-tutorial.readthedocs.io/de/latest/',\n",
    "    'https://github.com/veit/jupyter-tutorial/',\n",
    "    'https://www.cusy.io/de',\n",
    "]\n",
    "\n",
    "def sitesize(url):\n",
    "    ''' Determine the size of a website '''\n",
    "    with urllib.request.urlopen(url) as u:\n",
    "        page = u.read()\n",
    "        return url, len(page)\n",
    "\n",
    "for result in map(sitesize, sites):\n",
    "    print(result)"
   ]
  },
  {
   "cell_type": "markdown",
   "metadata": {},
   "source": [
    "## Was ist parallelisierbar?\n",
    "\n",
    "### Amdahlsche Gesetz\n",
    "\n",
    "> Der Geschwindigkeitszuwachs vor allem durch den sequentiellen Anteil des Problems beschränkt, da sich dessen Ausführungszeit durch Parallelisierung nicht verringern lässt. Zudem entstehen durch Parallelisierung zusätzliche Kosten wie etwa für die Kommunikation und die Synchronisierung der Prozesse.\n",
    "\n",
    "In unserem Beispiel können die folgenden Aufgaben nur seriell abgearbeitet werden:\n",
    "\n",
    "* UDP DNS request für die URL\n",
    "* UDP DNS response\n",
    "* Socket vom OS\n",
    "* TCP-Connection\n",
    "* Senden des HTTP Request für die Root-Ressource\n",
    "* Warten auf die TCP Response\n",
    "* Zählen der Zeichen auf der Website"
   ]
  },
  {
   "cell_type": "code",
   "execution_count": 3,
   "metadata": {},
   "outputs": [
    {
     "name": "stdout",
     "output_type": "stream",
     "text": [
      "('https://www.cusy.io/de', 15655)\n",
      "('https://jupyter-tutorial.readthedocs.io/de/latest/', 12630)\n",
      "('https://github.com/veit/jupyter-tutorial/', 98526)\n"
     ]
    }
   ],
   "source": [
    "import urllib.request\n",
    "from multiprocessing.pool import ThreadPool as Pool\n",
    "\n",
    "sites = [\n",
    "    'https://jupyter-tutorial.readthedocs.io/de/latest/',\n",
    "    'https://github.com/veit/jupyter-tutorial/',\n",
    "    'https://www.cusy.io/de',\n",
    "]\n",
    "\n",
    "def sitesize(url):\n",
    "    ''' Determine the size of a website '''\n",
    "    with urllib.request.urlopen(url) as u:\n",
    "        page = u.read()\n",
    "        return url, len(page)\n",
    "\n",
    "pool = Pool(10)\n",
    "for result in pool.imap_unordered(sitesize, sites):\n",
    "    print(result)"
   ]
  },
  {
   "cell_type": "markdown",
   "metadata": {},
   "source": [
    "> **Hinweis:** [imap_unordered](https://docs.python.org/3/library/multiprocessing.html#multiprocessing.pool.Pool.imap_unordered) wird verwendet, um die Reaktionsfähigkeit zu verbessern. Dies ist jedoch nur möglich, da die Funktion das Argument und das Ergebnis als Tuple zurückgibt."
   ]
  },
  {
   "cell_type": "markdown",
   "metadata": {},
   "source": [
    "## Tipps\n",
    "\n",
    "* Macht nicht zu viele Trips hin und her\n",
    "\n",
    "   Erhaltet ihr zu viele iterierbare Ergebnisse, ist dies ein guter Indikator für zu viele Trips, wie z.B. in\n",
    "\n",
    "        def sitesize(url, start):\n",
    "            req = urllib.request.Request()\n",
    "            req.add_header('Range:%d-%d' % (start, start+1000))\n",
    "            u = urllib.request.urlopen(url, req)\n",
    "            block = u.read()\n",
    "            return url, len(block)\n",
    "\n",
    "* Macht auf jedem Trip relevante Fortschritte\n",
    "\n",
    "   Sobald ihr den Prozess erhaltet, solltet ihr deutliche Fortschritte erzielen und euch nicht verzetteln. Das folgende Beispiel verdeutlicht zu kleine Zwischenschritte:\n",
    "\n",
    "        def sitesize(url, results):\n",
    "            with urllib.request.urlopen(url) as u:\n",
    "                while True:\n",
    "                    line = u.readline()\n",
    "                    results.put((url, len(line)))\n",
    "\n",
    "* Sendet und empfangt nicht zu viele Daten\n",
    "\n",
    "   Das folgende Beispiel erhöht unnötig die Datenmenge:\n",
    "\n",
    "        def sitesize(url):\n",
    "            u = urllib.request.urlopen(url)\n",
    "            page = u.read()\n",
    "            return url, page"
   ]
  }
 ],
 "metadata": {
  "kernelspec": {
   "display_name": "Python 3.7.4",
   "language": "python",
   "name": "python3"
  },
  "language_info": {
   "codemirror_mode": {
    "name": "ipython",
    "version": 3
   },
   "file_extension": ".py",
   "mimetype": "text/x-python",
   "name": "python",
   "nbconvert_exporter": "python",
   "pygments_lexer": "ipython3",
   "version": "3.7.4"
  },
  "latex_envs": {
   "LaTeX_envs_menu_present": true,
   "autoclose": false,
   "autocomplete": true,
   "bibliofile": "biblio.bib",
   "cite_by": "apalike",
   "current_citInitial": 1,
   "eqLabelWithNumbers": true,
   "eqNumInitial": 1,
   "hotkeys": {
    "equation": "Ctrl-E",
    "itemize": "Ctrl-I"
   },
   "labels_anchors": false,
   "latex_user_defs": false,
   "report_style_numbering": false,
   "user_envs_cfg": false
  },
  "varInspector": {
   "cols": {
    "lenName": 16,
    "lenType": 16,
    "lenVar": 40
   },
   "kernels_config": {
    "python": {
     "delete_cmd_postfix": "",
     "delete_cmd_prefix": "del ",
     "library": "var_list.py",
     "varRefreshCmd": "print(var_dic_list())"
    },
    "r": {
     "delete_cmd_postfix": ") ",
     "delete_cmd_prefix": "rm(",
     "library": "var_list.r",
     "varRefreshCmd": "cat(var_dic_list()) "
    }
   },
   "types_to_exclude": [
    "module",
    "function",
    "builtin_function_or_method",
    "instance",
    "_Feature"
   ],
   "window_display": false
  },
  "widgets": {
   "application/vnd.jupyter.widget-state+json": {
    "state": {},
    "version_major": 2,
    "version_minor": 0
   }
  }
 },
 "nbformat": 4,
 "nbformat_minor": 2
}
