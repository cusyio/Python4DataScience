{
 "cells": [
  {
   "cell_type": "markdown",
   "metadata": {},
   "source": [
    "# Task-Interface\n",
    "\n",
    "Die *Task*-Interface zum Cluster präsentiert die *Engines* als fehlertolerantes, dynamisches LoadBalancing für von *Workers*. Im Gegensatz zur *Direct*-Interface gibt es bei der *Task*-Interface keinen direkten Zugriff auf einzelne *Engines*. Indem der IPython-Scheduler die *Worker* zuzuweist, wird die Schnittstelle einfacher und zugleich leistungsfähiger.\n",
    "\n",
    "Das Beste ist jedoch, dass beide Schnittstellen gleichzeitig verwendet werden können, um die jeweiligen Stärken zu nutzen. Wenn Berechnungen nicht von früheren Ergebnissen abhängen, ist, ist das *Task*-Interface ideal:"
   ]
  },
  {
   "cell_type": "markdown",
   "metadata": {},
   "source": [
    "## Erstellen einer `LoadBalancedView`-Instanz\n",
    "\n"
   ]
  },
  {
   "cell_type": "code",
   "execution_count": 1,
   "metadata": {},
   "outputs": [],
   "source": [
    "import ipyparallel as ipp"
   ]
  },
  {
   "cell_type": "code",
   "execution_count": 2,
   "metadata": {},
   "outputs": [],
   "source": [
    "rc = ipp.Client()"
   ]
  },
  {
   "cell_type": "code",
   "execution_count": 3,
   "metadata": {},
   "outputs": [],
   "source": [
    "rc = ipp.Client(url_file='/Users/veit/.ipython/profile_mpi/security/ipcontroller-client.json')"
   ]
  },
  {
   "cell_type": "code",
   "execution_count": 4,
   "metadata": {},
   "outputs": [],
   "source": [
    "rc = ipp.Client(profile='mpi')"
   ]
  },
  {
   "cell_type": "code",
   "execution_count": 5,
   "metadata": {},
   "outputs": [],
   "source": [
    "lview = rc.load_balanced_view()"
   ]
  },
  {
   "cell_type": "markdown",
   "metadata": {},
   "source": [
    "`load_balanced_view` ist die Standardansicht.\n",
    "\n",
    "> **Siehe auch**: [Views](https://ipyparallel.readthedocs.io/en/latest/details.html#parallel-details)."
   ]
  },
  {
   "cell_type": "markdown",
   "metadata": {},
   "source": [
    "## Schnelle und einfache Parallelität\n",
    "\n"
   ]
  },
  {
   "cell_type": "markdown",
   "metadata": {},
   "source": [
    "### `map()`-LoadBalancedView"
   ]
  },
  {
   "cell_type": "code",
   "execution_count": 6,
   "metadata": {},
   "outputs": [
    {
     "data": {
      "text/plain": [
       "True"
      ]
     },
     "execution_count": 6,
     "metadata": {},
     "output_type": "execute_result"
    }
   ],
   "source": [
    "lview.block = True\n",
    "serial_result = map(lambda x:x**10, range(32))\n",
    "parallel_result = lview.map(lambda x:x**10, range(32))\n",
    "serial_result==parallel_result"
   ]
  },
  {
   "cell_type": "markdown",
   "metadata": {},
   "source": [
    "### `@lview.parallel()`-Decorator"
   ]
  },
  {
   "cell_type": "code",
   "execution_count": 7,
   "metadata": {},
   "outputs": [
    {
     "data": {
      "text/plain": [
       "[0.0,10.0,160.0,…]"
      ]
     },
     "execution_count": 6,
     "metadata": {},
     "output_type": "execute_result"
    }
   ],
   "source": [
    "@lview.parallel()\n",
    "def f(x):\n",
    "    return 10.0*x**4\n",
    "\n",
    "f.map(range(32))"
   ]
  },
  {
   "cell_type": "markdown",
   "metadata": {},
   "source": [
    "## Abhängigkeiten\n",
    "\n",
    "> **Hinweis**: Beachtet bitte, dass der reine ZeroMQ-Scheduler keine Abhängigkeiten unterstützt."
   ]
  },
  {
   "cell_type": "markdown",
   "metadata": {},
   "source": [
    "### Funktionsabhängigkeiten\n",
    "\n",
    "`UnmetDependency`"
   ]
  },
  {
   "cell_type": "markdown",
   "metadata": {},
   "source": [
    "#### `@ipp.require`-Decorator"
   ]
  },
  {
   "cell_type": "markdown",
   "metadata": {},
   "source": [
    "#### `@ipp.depend`-Decorator"
   ]
  },
  {
   "cell_type": "markdown",
   "metadata": {},
   "source": [
    "#### `dependent`-Objekt\n",
    "\n"
   ]
  },
  {
   "cell_type": "markdown",
   "metadata": {},
   "source": [
    "### `Dependency`"
   ]
  },
  {
   "cell_type": "code",
   "execution_count": null,
   "metadata": {},
   "outputs": [],
   "source": [
    "client.block=False\n",
    "\n",
    "ar = lview.apply(f, args, kwargs)\n",
    "ar2 = lview.apply(f2)\n",
    "\n",
    "with lview.temp_flags(after=[ar,ar2]):\n",
    "    ar3 = lview.apply(f3)\n",
    "\n",
    "with lview.temp_flags(follow=[ar], timeout=2.5)\n",
    "    ar4 = lview.apply(f3)"
   ]
  },
  {
   "cell_type": "markdown",
   "metadata": {},
   "source": [
    "> **Siehe auch:** Manche parallele Workloads können als [Directed acyclic graph](https://en.wikipedia.org/wiki/Directed_acyclic_graph) (DAG) beschrieben werden. In [DAG Dependencies](https://ipyparallel.readthedocs.io/en/latest/dag_dependencies.html#dag-dependencies) wird anhand eines Beispiels beschrieben, wie [NetworkX](../../jupyter/ipywidgets/networkx.html) zur Darstellung der Task-Abhängigkeiten als DAGs dargestellt werden."
   ]
  },
  {
   "cell_type": "markdown",
   "metadata": {},
   "source": [
    "### `ImpossibleDependency`"
   ]
  },
  {
   "cell_type": "markdown",
   "metadata": {},
   "source": [
    "`retries` und `resubmit`"
   ]
  },
  {
   "cell_type": "markdown",
   "metadata": {},
   "source": [
    "## Schedulers"
   ]
  },
  {
   "cell_type": "code",
   "execution_count": null,
   "metadata": {},
   "outputs": [],
   "source": [
    "ipcontroller --scheme=lru"
   ]
  },
  {
   "cell_type": "markdown",
   "metadata": {},
   "source": [
    "| Schema        | Beschreibung |\n",
    "| ------------- | ------------ |\n",
    "| `lru`         | ***Least Recently Used***: Weist die Worker immer der zuletzt verwendeten *Engine* zu. Ähnlich *Round-Robin* berücksichtigt es jedoch nicht die Laufzeit jeder einzelnen Aufgabe. |\n",
    "| `plainrandom` | ***Plain Random***: Wählt zufällig die *Engine* aus, die ausgeführt werden soll. |\n",
    "| `twobin`      | ***Two-Bin Random***: Benötigt `numpy`. Wählt zwei *Engines* zufällig aus und verwendt die `lru` der beiden. Dies ist häufig besser als die rein zufällige Verteilung, erfordert jedoch einen höheren Rechenaufwand. |\n",
    "| `leastload`   | ***Least Load***: Standardschema, das die *Engine* immer Aufgaben mit den wenigsten ausstehenden Aufgaben zuweist. |\n",
    "| `weighted`    | ***Weighted Two-Bin Random***: Gewichtetes ***Two-Bin Random***-Schema. |\n"
   ]
  }
 ],
 "metadata": {
  "kernelspec": {
   "display_name": "Python 3.7.4",
   "language": "python",
   "name": "python3"
  },
  "language_info": {
   "codemirror_mode": {
    "name": "ipython",
    "version": 3
   },
   "file_extension": ".py",
   "mimetype": "text/x-python",
   "name": "python",
   "nbconvert_exporter": "python",
   "pygments_lexer": "ipython 3",
   "version": "3.7.4"
  },
  "latex_envs": {
   "LaTeX_envs_menu_present": true,
   "autoclose": false,
   "autocomplete": true,
   "bibliofile": "biblio.bib",
   "cite_by": "apalike",
   "current_citInitial": 1,
   "eqLabelWithNumbers": true,
   "eqNumInitial": 1,
   "hotkeys": {
    "equation": "Ctrl-E",
    "itemize": "Ctrl-I"
   },
   "labels_anchors": false,
   "latex_user_defs": false,
   "report_style_numbering": false,
   "user_envs_cfg": false
  },
  "varInspector": {
   "cols": {
    "lenName": 16,
    "lenType": 16,
    "lenVar": 40
   },
   "kernels_config": {
    "python": {
     "delete_cmd_postfix": "",
     "delete_cmd_prefix": "del ",
     "library": "var_list.py",
     "varRefreshCmd": "print(var_dic_list())"
    },
    "r": {
     "delete_cmd_postfix": ") ",
     "delete_cmd_prefix": "rm(",
     "library": "var_list.r",
     "varRefreshCmd": "cat(var_dic_list()) "
    }
   },
   "types_to_exclude": [
    "module",
    "function",
    "builtin_function_or_method",
    "instance",
    "_Feature"
   ],
   "window_display": false
  },
  "widgets": {
   "application/vnd.jupyter.widget-state+json": {
    "state": {},
    "version_major": 2,
    "version_minor": 0
   }
  }
 },
 "nbformat": 4,
 "nbformat_minor": 2
}
