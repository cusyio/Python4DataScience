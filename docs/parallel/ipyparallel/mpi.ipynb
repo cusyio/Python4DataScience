{
 "cells": [
  {
   "cell_type": "markdown",
   "metadata": {},
   "source": [
    "# MPI\n",
    "\n",
    "Oft erfordert ein paralleler Algorithmus das Verschieben von Daten zwischen den *Engines*. Eine Möglichkeit besteht darin, Push und Pull über die `DirectView`. Dies ist jedoch langsam, da alle Daten über den *Controller* zum *Client* und dann wieder zurück zum endgültigen Ziel gelangen müssen.\n",
    "\n",
    "Eine viel bessere Möglichkeit ist die Verwendung des [Message Passing Interface (MPI)](https://de.wikipedia.org/wiki/Message_Passing_Interface). Die Parallel-Computing-Architektur von IPython wurde von Grund auf für die Integration mit MPI entwickelt. Dieses Notebook gibt eine kurze Einführung in die Verwendung von MPI mit IPython."
   ]
  },
  {
   "cell_type": "markdown",
   "metadata": {},
   "source": [
    "## Anforderungen\n",
    "\n",
    "* Eine Standard-MPI-Implementierung wie [OpenMPI](http://www.open-mpi.org/) oder [MPICH](MPICH). \n",
    "\n",
    "    Für Debian/Ubuntu können diese installiert werden mit\n",
    "    \n",
    "    ```\n",
    "    $ sudo apt install openmpi-bin\n",
    "    ```\n",
    "    \n",
    "    oder\n",
    "    \n",
    "    ```\n",
    "    $ sudo apt install mpich\n",
    "    ```\n",
    "\n",
    "    Alternativ können OpenMPI oder MPICH auch mit [Spack](../../reproduce/spack/use.html) installiert werden: die Pakete sind `openmpi` oder `mpich`.  \n",
    "\n",
    "\n",
    "* [mpi4py](https://mpi4py.readthedocs.io/)"
   ]
  },
  {
   "cell_type": "markdown",
   "metadata": {},
   "source": [
    "## Starten der Engines bei aktiviertem MPI\n",
    "\n",
    "### Automatisches Starten mit `mpiexec` und `ipcluster`\n",
    "\n",
    "Dies kann z.B. erfolgen mit\n",
    "\n",
    "```\n",
    "$ pipenv run ipcluster start -n 4 --profile=mpi\n",
    "```\n",
    "\n",
    "Hierfür muss jedoch zuvor ein entsprechendes Profil angelegt werden; siehe hierfür [Konfiguration](config.html).\n",
    "\n",
    "### Automatisches Starten mit PBS und `ipcluster`\n",
    "\n",
    "Der `ipcluster`-Befehl bietet auch eine Integration in [PBS](https://www.pbspro.org/). Weitere Informationen hierzu erhaltet ihr in [Using ipcluster in PBS mode](https://ipyparallel.readthedocs.io/en/latest/process.html#using-ipcluster-in-pbs-mode)."
   ]
  },
  {
   "cell_type": "markdown",
   "metadata": {},
   "source": [
    "## Beispiel\n",
    "\n",
    "Die folgende Notebook-Zelle ruft `psum.py` mit folgendem Inhalt auf:\n",
    "\n",
    "```\n",
    "from mpi4py import MPI\n",
    "import numpy as np\n",
    "\n",
    "def psum(a):\n",
    "    locsum = np.sum(a)\n",
    "    rcvBuf = np.array(0.0,'d')\n",
    "    MPI.COMM_WORLD.Allreduce([locsum, MPI.DOUBLE],\n",
    "        [rcvBuf, MPI.DOUBLE],\n",
    "        op=MPI.SUM)\n",
    "    return rcvBuf\n",
    "```"
   ]
  },
  {
   "cell_type": "code",
   "execution_count": 1,
   "metadata": {},
   "outputs": [
    {
     "data": {
      "text/plain": [
       "[array([0., 1., 2., 3.]),\n",
       " array([4., 5., 6., 7.]),\n",
       " array([ 8.,  9., 10., 11.]),\n",
       " array([12., 13., 14., 15.])]"
      ]
     },
     "execution_count": 1,
     "metadata": {},
     "output_type": "execute_result"
    }
   ],
   "source": [
    "import ipyparallel as ipp\n",
    "\n",
    "c = ipp.Client(profile='mpi')\n",
    "view = c[:]\n",
    "view.activate()\n",
    "view.run('psum.py')\n",
    "view.scatter('a',np.arange(16,dtype='float'))\n",
    "view['a']"
   ]
  },
  {
   "cell_type": "code",
   "execution_count": 2,
   "metadata": {},
   "outputs": [
    {
     "data": {
      "text/plain": [
       "Parallel execution on engines: [0,1,2,3]"
      ]
     },
     "execution_count": 2,
     "metadata": {},
     "output_type": "execute_result"
    }
   ],
   "source": [
    "%px totalsum = psum(a)"
   ]
  },
  {
   "cell_type": "code",
   "execution_count": 3,
   "metadata": {},
   "outputs": [
    {
     "data": {
      "text/plain": [
       "[120.0, 120.0, 120.0, 120.0]"
      ]
     },
     "execution_count": 3,
     "metadata": {},
     "output_type": "execute_result"
    }
   ],
   "source": [
    "view['totalsum']"
   ]
  }
 ],
 "metadata": {
  "kernelspec": {
   "display_name": "Python 3.7.4",
   "language": "python",
   "name": "python3"
  },
  "language_info": {
   "codemirror_mode": {
    "name": "ipython",
    "version": 3
   },
   "file_extension": ".py",
   "mimetype": "text/x-python",
   "name": "python",
   "nbconvert_exporter": "python",
   "pygments_lexer": "ipython3",
   "version": "3.7.4"
  },
  "latex_envs": {
   "LaTeX_envs_menu_present": true,
   "autoclose": false,
   "autocomplete": true,
   "bibliofile": "biblio.bib",
   "cite_by": "apalike",
   "current_citInitial": 1,
   "eqLabelWithNumbers": true,
   "eqNumInitial": 1,
   "hotkeys": {
    "equation": "Ctrl-E",
    "itemize": "Ctrl-I"
   },
   "labels_anchors": false,
   "latex_user_defs": false,
   "report_style_numbering": false,
   "user_envs_cfg": false
  },
  "varInspector": {
   "cols": {
    "lenName": 16,
    "lenType": 16,
    "lenVar": 40
   },
   "kernels_config": {
    "python": {
     "delete_cmd_postfix": "",
     "delete_cmd_prefix": "del ",
     "library": "var_list.py",
     "varRefreshCmd": "print(var_dic_list())"
    },
    "r": {
     "delete_cmd_postfix": ") ",
     "delete_cmd_prefix": "rm(",
     "library": "var_list.r",
     "varRefreshCmd": "cat(var_dic_list()) "
    }
   },
   "types_to_exclude": [
    "module",
    "function",
    "builtin_function_or_method",
    "instance",
    "_Feature"
   ],
   "window_display": false
  },
  "widgets": {
   "application/vnd.jupyter.widget-state+json": {
    "state": {},
    "version_major": 2,
    "version_minor": 0
   }
  }
 },
 "nbformat": 4,
 "nbformat_minor": 2
}
