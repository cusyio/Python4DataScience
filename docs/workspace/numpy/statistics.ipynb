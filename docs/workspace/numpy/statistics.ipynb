{
 "cells": [
  {
   "cell_type": "markdown",
   "id": "42a41581",
   "metadata": {},
   "source": [
    "# Mathematical and statistical methods\n",
    "\n",
    "A number of mathematical functions that calculate statistics over an entire array or over the data along an axis are accessible as methods of the array class. So you can use aggregations such as sum, mean and standard deviation by either calling the array instance method or using the top-level NumPy function."
   ]
  },
  {
   "cell_type": "markdown",
   "id": "24456b2b",
   "metadata": {},
   "source": [
    "Below I generate some random data and calculate some aggregated statistics:"
   ]
  },
  {
   "cell_type": "code",
   "execution_count": 1,
   "id": "ac1f14e1",
   "metadata": {},
   "outputs": [
    {
     "data": {
      "text/plain": [
       "array([[ 0.52892401, -0.82705139, -0.13426779],\n",
       "       [-0.43476595,  0.15431376, -0.15927356],\n",
       "       [ 0.5437757 , -0.27273503, -0.74511308],\n",
       "       [ 0.41921053,  0.78804831, -1.39898524],\n",
       "       [-0.08745354,  0.24346498,  0.5995653 ],\n",
       "       [ 2.18987033,  0.07709088,  0.81486999],\n",
       "       [ 0.42570339,  1.23702332,  1.12807273]])"
      ]
     },
     "execution_count": 1,
     "metadata": {},
     "output_type": "execute_result"
    }
   ],
   "source": [
    "import numpy as np\n",
    "\n",
    "\n",
    "data = np.random.randn(7, 3)\n",
    "\n",
    "data"
   ]
  },
  {
   "cell_type": "code",
   "execution_count": 2,
   "id": "c694d0ed",
   "metadata": {},
   "outputs": [
    {
     "data": {
      "text/plain": [
       "0.24239465071821545"
      ]
     },
     "execution_count": 2,
     "metadata": {},
     "output_type": "execute_result"
    }
   ],
   "source": [
    "data.mean()"
   ]
  },
  {
   "cell_type": "code",
   "execution_count": 3,
   "id": "338392bf",
   "metadata": {},
   "outputs": [
    {
     "data": {
      "text/plain": [
       "0.24239465071821545"
      ]
     },
     "execution_count": 3,
     "metadata": {},
     "output_type": "execute_result"
    }
   ],
   "source": [
    "np.mean(data)"
   ]
  },
  {
   "cell_type": "code",
   "execution_count": 4,
   "id": "fd18c5b6",
   "metadata": {},
   "outputs": [
    {
     "data": {
      "text/plain": [
       "5.090287665082524"
      ]
     },
     "execution_count": 4,
     "metadata": {},
     "output_type": "execute_result"
    }
   ],
   "source": [
    "data.sum()"
   ]
  },
  {
   "cell_type": "markdown",
   "id": "fc22e335",
   "metadata": {},
   "source": [
    "Functions like `mean` and `sum` require an optional axis argument that calculates the statistic over the specified axis, resulting in an array with one less dimension:"
   ]
  },
  {
   "cell_type": "code",
   "execution_count": 5,
   "id": "4bdb3b7a",
   "metadata": {},
   "outputs": [
    {
     "data": {
      "text/plain": [
       "array([0.51218064, 0.20002212, 0.01498119])"
      ]
     },
     "execution_count": 5,
     "metadata": {},
     "output_type": "execute_result"
    }
   ],
   "source": [
    "data.mean(axis=0)"
   ]
  },
  {
   "cell_type": "code",
   "execution_count": 6,
   "id": "1148aec6",
   "metadata": {},
   "outputs": [
    {
     "data": {
      "text/plain": [
       "array([3.58526448, 1.40015484, 0.10486835])"
      ]
     },
     "execution_count": 6,
     "metadata": {},
     "output_type": "execute_result"
    }
   ],
   "source": [
    "data.sum(axis=0)"
   ]
  },
  {
   "cell_type": "markdown",
   "id": "0aaeb897",
   "metadata": {},
   "source": [
    "With `data.mean(0)`, which is the same as `data.mean(axis=0)`, the mean is calculated over the rows, while `data.sum(0)` calculates the sum over the rows."
   ]
  },
  {
   "cell_type": "markdown",
   "id": "0c44ca98",
   "metadata": {},
   "source": [
    "Other methods like `cumsum` and `cumprod`, however, do not aggregate but create a new array with the intermediate results.\n",
    "\n",
    "In multidimensional arrays, accumulation functions such as `cumsum` and `cumprod` return an array of the same size but with the partial aggregates calculated along the specified axis:"
   ]
  },
  {
   "cell_type": "code",
   "execution_count": 7,
   "id": "ae7947c0",
   "metadata": {},
   "outputs": [
    {
     "data": {
      "text/plain": [
       "array([ 0.52892401, -0.29812737, -0.43239516, -0.86716111, -0.71284735,\n",
       "       -0.87212091, -0.32834522, -0.60108025, -1.34619332, -0.92698279,\n",
       "       -0.13893449, -1.53791972, -1.62537326, -1.38190829, -0.78234299,\n",
       "        1.40752735,  1.48461823,  2.29948822,  2.72519162,  3.96221494,\n",
       "        5.09028767])"
      ]
     },
     "execution_count": 7,
     "metadata": {},
     "output_type": "execute_result"
    }
   ],
   "source": [
    "data.cumsum()"
   ]
  },
  {
   "cell_type": "code",
   "execution_count": 8,
   "id": "b0e8af79",
   "metadata": {},
   "outputs": [
    {
     "data": {
      "text/plain": [
       "array([ 5.28924012e-01, -4.37447338e-01,  5.87350864e-02, -2.55360156e-02,\n",
       "       -3.94055863e-03,  6.27626816e-04,  3.41288209e-04, -9.30812494e-05,\n",
       "        6.93560562e-05,  2.90747892e-05,  2.29123384e-05, -3.20540232e-05,\n",
       "        2.80323775e-06,  6.82490215e-07,  4.09197451e-07,  8.96089358e-07,\n",
       "        6.90803200e-08,  5.62914796e-08,  2.39634740e-08,  2.96433762e-08,\n",
       "        3.34398842e-08])"
      ]
     },
     "execution_count": 8,
     "metadata": {},
     "output_type": "execute_result"
    }
   ],
   "source": [
    "data.cumprod()"
   ]
  },
  {
   "cell_type": "markdown",
   "id": "14560b69",
   "metadata": {},
   "source": [
    "Basic statistical methods for arrays are:\n",
    "\n",
    "Method | Description\n",
    ":----- | :----------\n",
    "`sum` | Sum of all elements in the array or along an axis.\n",
    "`mean` | Arithmetic mean; for arrays with length zero, `NaN` is returned.\n",
    "`std`, `var` | Standard deviation and variance respectively\n",
    "`min`, `max` | Minimum and maximum\n",
    "`argmin`, `argmax` | Indices of the minimum and maximum elements respectively\n",
    "`cumsum` | Cumulative sum of the elements, starting with `0`\n",
    "`cumprod` | Cumulative product of the elements, starting with `1`"
   ]
  }
 ],
 "metadata": {
  "kernelspec": {
   "display_name": "Python 3.11 Kernel",
   "language": "python",
   "name": "python311"
  },
  "language_info": {
   "codemirror_mode": {
    "name": "ipython",
    "version": 3
   },
   "file_extension": ".py",
   "mimetype": "text/x-python",
   "name": "python",
   "nbconvert_exporter": "python",
   "pygments_lexer": "ipython3",
   "version": "3.11.4"
  },
  "widgets": {
   "application/vnd.jupyter.widget-state+json": {
    "state": {},
    "version_major": 2,
    "version_minor": 0
   }
  }
 },
 "nbformat": 4,
 "nbformat_minor": 5
}
