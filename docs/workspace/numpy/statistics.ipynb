{
 "cells": [
  {
   "cell_type": "markdown",
   "id": "42a41581",
   "metadata": {},
   "source": [
    "# Mathematical and statistical methods\n",
    "\n",
    "A number of mathematical functions that calculate statistics over an entire array or over the data along an axis are accessible as methods of the array class. So you can use aggregations such as sum, mean and standard deviation by either calling the array instance method or using the top-level NumPy function."
   ]
  },
  {
   "cell_type": "markdown",
   "id": "24456b2b",
   "metadata": {},
   "source": [
    "Below I generate some random data and calculate some aggregated statistics:"
   ]
  },
  {
   "cell_type": "code",
   "execution_count": 1,
   "id": "ac1f14e1",
   "metadata": {},
   "outputs": [
    {
     "data": {
      "text/plain": [
       "array([[ 0.1636264 , -0.07479277, -0.20255074],\n",
       "       [-0.74231862,  1.09947779,  0.78135583],\n",
       "       [ 0.63855308,  0.32602387,  0.61464571],\n",
       "       [ 0.23415688, -0.91457139, -0.31875483],\n",
       "       [-0.02505313,  1.25184632,  1.4875972 ],\n",
       "       [-0.20283564,  3.13198588,  1.74734662],\n",
       "       [ 0.93549941, -1.0149449 , -0.44490236]])"
      ]
     },
     "execution_count": 1,
     "metadata": {},
     "output_type": "execute_result"
    }
   ],
   "source": [
    "import numpy as np\n",
    "\n",
    "data = np.random.randn(7, 3)\n",
    "\n",
    "data"
   ]
  },
  {
   "cell_type": "code",
   "execution_count": 2,
   "id": "c694d0ed",
   "metadata": {},
   "outputs": [
    {
     "data": {
      "text/plain": [
       "0.40339955359802476"
      ]
     },
     "execution_count": 2,
     "metadata": {},
     "output_type": "execute_result"
    }
   ],
   "source": [
    "data.mean()"
   ]
  },
  {
   "cell_type": "code",
   "execution_count": 3,
   "id": "338392bf",
   "metadata": {},
   "outputs": [
    {
     "data": {
      "text/plain": [
       "0.40339955359802476"
      ]
     },
     "execution_count": 3,
     "metadata": {},
     "output_type": "execute_result"
    }
   ],
   "source": [
    "np.mean(data)"
   ]
  },
  {
   "cell_type": "code",
   "execution_count": 4,
   "id": "fd18c5b6",
   "metadata": {},
   "outputs": [
    {
     "data": {
      "text/plain": [
       "8.47139062555852"
      ]
     },
     "execution_count": 4,
     "metadata": {},
     "output_type": "execute_result"
    }
   ],
   "source": [
    "data.sum()"
   ]
  },
  {
   "cell_type": "markdown",
   "id": "fc22e335",
   "metadata": {},
   "source": [
    "Functions like `mean` and `sum` require an optional axis argument that calculates the statistic over the specified axis, resulting in an array with one less dimension:"
   ]
  },
  {
   "cell_type": "code",
   "execution_count": 5,
   "id": "4bdb3b7a",
   "metadata": {},
   "outputs": [
    {
     "data": {
      "text/plain": [
       "array([0.14308977, 0.54357497, 0.52353392])"
      ]
     },
     "execution_count": 5,
     "metadata": {},
     "output_type": "execute_result"
    }
   ],
   "source": [
    "data.mean(axis=0)"
   ]
  },
  {
   "cell_type": "code",
   "execution_count": 6,
   "id": "1148aec6",
   "metadata": {},
   "outputs": [
    {
     "data": {
      "text/plain": [
       "array([1.00162838, 3.8050248 , 3.66473745])"
      ]
     },
     "execution_count": 6,
     "metadata": {},
     "output_type": "execute_result"
    }
   ],
   "source": [
    "data.sum(axis=0)"
   ]
  },
  {
   "cell_type": "markdown",
   "id": "0aaeb897",
   "metadata": {},
   "source": [
    "With `data.mean(0)`, which is the same as `data.mean(axis=0)`, the mean is calculated over the rows, while `data.sum(0)` calculates the sum over the rows."
   ]
  },
  {
   "cell_type": "markdown",
   "id": "0c44ca98",
   "metadata": {},
   "source": [
    "Other methods like `cumsum` and `cumprod`, however, do not aggregate but create a new array with the intermediate results.\n",
    "\n",
    "In multidimensional arrays, accumulation functions such as `cumsum` and `cumprod` return an array of the same size but with the partial aggregates calculated along the specified axis:"
   ]
  },
  {
   "cell_type": "code",
   "execution_count": 7,
   "id": "ae7947c0",
   "metadata": {},
   "outputs": [
    {
     "data": {
      "text/plain": [
       "array([ 0.1636264 ,  0.08883362, -0.11371711, -0.85603574,  0.24344206,\n",
       "        1.02479789,  1.66335097,  1.98937484,  2.60402055,  2.83817743,\n",
       "        1.92360604,  1.60485122,  1.57979809,  2.83164441,  4.31924161,\n",
       "        4.11640597,  7.24839184,  8.99573847,  9.93123788,  8.91629298,\n",
       "        8.47139063])"
      ]
     },
     "execution_count": 7,
     "metadata": {},
     "output_type": "execute_result"
    }
   ],
   "source": [
    "data.cumsum()"
   ]
  },
  {
   "cell_type": "code",
   "execution_count": 8,
   "id": "b0e8af79",
   "metadata": {},
   "outputs": [
    {
     "data": {
      "text/plain": [
       "array([ 1.63626397e-01, -1.22380721e-02,  2.47883053e-03, -1.84008206e-03,\n",
       "       -2.02312937e-03, -1.58078392e-03, -1.00941444e-03, -3.29093203e-04,\n",
       "       -2.02275727e-04, -4.73642533e-05,  4.33179909e-05, -1.38078186e-05,\n",
       "        3.45929093e-07,  4.33050061e-07,  6.44204058e-07, -1.30667543e-07,\n",
       "       -4.09248898e-07, -7.15099681e-07, -6.68975332e-07,  6.78973099e-07,\n",
       "       -3.02076731e-07])"
      ]
     },
     "execution_count": 8,
     "metadata": {},
     "output_type": "execute_result"
    }
   ],
   "source": [
    "data.cumprod()"
   ]
  },
  {
   "cell_type": "markdown",
   "id": "14560b69",
   "metadata": {},
   "source": [
    "Basic statistical methods for arrays are:\n",
    "\n",
    "Method | Description\n",
    ":----- | :----------\n",
    "`sum` | Sum of all elements in the array or along an axis.\n",
    "`mean` | Arithmetic mean; for arrays with length zero, `NaN` is returned.\n",
    "`std`, `var` | Standard deviation and variance respectively\n",
    "`min`, `max` | Minimum and maximum\n",
    "`argmin`, `argmax` | Indices of the minimum and maximum elements respectively\n",
    "`cumsum` | Cumulative sum of the elements, starting with `0`\n",
    "`cumprod` | Cumulative product of the elements, starting with `1`"
   ]
  }
 ],
 "metadata": {
  "kernelspec": {
   "display_name": "Python 3.8",
   "language": "python",
   "name": "python-38"
  },
  "language_info": {
   "codemirror_mode": {
    "name": "ipython",
    "version": 3
   },
   "file_extension": ".py",
   "mimetype": "text/x-python",
   "name": "python",
   "nbconvert_exporter": "python",
   "pygments_lexer": "ipython3",
   "version": "3.8.12"
  }
 },
 "nbformat": 4,
 "nbformat_minor": 5
}
