{
 "cells": [
  {
   "cell_type": "markdown",
   "id": "7584fbf6",
   "metadata": {},
   "source": [
    "# File input and output with arrays\n",
    "\n",
    "NumPy is able to store data in some text or binary formats on disk and load it from there. However, in this section I only discuss NumPy's own binary format, as mostly pandas or other tools are used to load text or table data (see [Read, persist and provide data](../../data-processing/index.rst).\n",
    "\n",
    "`np.save` and `np.load` are the two most important functions for efficiently saving and loading array data to disk. Arrays are saved by default in an uncompressed raw binary format with the file extension `.npy`:"
   ]
  },
  {
   "cell_type": "code",
   "execution_count": 1,
   "id": "d6c92106",
   "metadata": {},
   "outputs": [],
   "source": [
    "import numpy as np\n",
    "\n",
    "\n",
    "data = np.random.randn(7, 3)\n",
    "\n",
    "np.save(\"my_data\", data)"
   ]
  },
  {
   "cell_type": "markdown",
   "id": "f9b70227",
   "metadata": {},
   "source": [
    "If the file path does not already end in `.npy`, the extension is appended. The array on the hard disk can then be loaded with `np.load`:"
   ]
  },
  {
   "cell_type": "code",
   "execution_count": 2,
   "id": "ed098f7c",
   "metadata": {},
   "outputs": [
    {
     "data": {
      "text/plain": [
       "array([[ 1.71143962,  1.06249012,  0.40089528],\n",
       "       [-1.93836029,  0.60398033, -0.6708609 ],\n",
       "       [ 0.24042536, -0.86181626,  0.33594052],\n",
       "       [-1.41716277,  2.11203343, -0.09469748],\n",
       "       [-0.36027506,  0.53376748,  1.302226  ],\n",
       "       [ 0.24560584,  1.29705793,  0.49696571],\n",
       "       [ 0.04375581,  0.88412494, -2.22439157]])"
      ]
     },
     "execution_count": 2,
     "metadata": {},
     "output_type": "execute_result"
    }
   ],
   "source": [
    "np.load(\"my_data.npy\")"
   ]
  },
  {
   "cell_type": "markdown",
   "id": "467f7c50",
   "metadata": {},
   "source": [
    "You can save multiple arrays in an uncompressed archive by using `np.savez` and passing the arrays as keyword arguments:"
   ]
  },
  {
   "cell_type": "code",
   "execution_count": 3,
   "id": "3df6c190",
   "metadata": {},
   "outputs": [],
   "source": [
    "np.savez(\"data_archive.npz\", a=data, b=np.square(data))"
   ]
  },
  {
   "cell_type": "code",
   "execution_count": 4,
   "id": "14ea0da5",
   "metadata": {},
   "outputs": [
    {
     "data": {
      "text/plain": [
       "array([[2.92902558e+00, 1.12888526e+00, 1.60717029e-01],\n",
       "       [3.75724062e+00, 3.64792237e-01, 4.50054349e-01],\n",
       "       [5.78043555e-02, 7.42727271e-01, 1.12856032e-01],\n",
       "       [2.00835032e+00, 4.46068522e+00, 8.96761189e-03],\n",
       "       [1.29798116e-01, 2.84907727e-01, 1.69579255e+00],\n",
       "       [6.03222306e-02, 1.68235927e+00, 2.46974919e-01],\n",
       "       [1.91457098e-03, 7.81676918e-01, 4.94791787e+00]])"
      ]
     },
     "execution_count": 4,
     "metadata": {},
     "output_type": "execute_result"
    }
   ],
   "source": [
    "archive = np.load(\"data_archive.npz\")\n",
    "\n",
    "archive[\"b\"]"
   ]
  }
 ],
 "metadata": {
  "kernelspec": {
   "display_name": "Python 3.11 Kernel",
   "language": "python",
   "name": "python311"
  },
  "language_info": {
   "codemirror_mode": {
    "name": "ipython",
    "version": 3
   },
   "file_extension": ".py",
   "mimetype": "text/x-python",
   "name": "python",
   "nbconvert_exporter": "python",
   "pygments_lexer": "ipython3",
   "version": "3.11.4"
  },
  "widgets": {
   "application/vnd.jupyter.widget-state+json": {
    "state": {},
    "version_major": 2,
    "version_minor": 0
   }
  }
 },
 "nbformat": 4,
 "nbformat_minor": 5
}
