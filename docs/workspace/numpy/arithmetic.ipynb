{
 "cells": [
  {
   "cell_type": "markdown",
   "id": "942f3aba",
   "metadata": {},
   "source": [
    "# Arithmetic\n",
    "\n",
    "Arrays allow you to perform stack operations on data without having to use `for` loops. This is called *vectorisation* in NumPy. For all arithmetic operations between arrays of the same size, the operation is applied element by element:"
   ]
  },
  {
   "cell_type": "code",
   "execution_count": 1,
   "id": "cc82112f",
   "metadata": {},
   "outputs": [
    {
     "data": {
      "text/plain": [
       "array([[-0.53395033, -0.90655262, -1.47419874],\n",
       "       [-0.60691335,  0.12786859,  0.83478769],\n",
       "       [-0.24791073,  0.61712855, -1.36487227],\n",
       "       [-0.04708711, -1.45600876, -0.88333238],\n",
       "       [-0.60393798, -0.12695018,  1.17832759],\n",
       "       [-0.83320447, -0.30302264,  0.53249707],\n",
       "       [ 0.85006387,  0.83626062, -1.03637456]])"
      ]
     },
     "execution_count": 1,
     "metadata": {},
     "output_type": "execute_result"
    }
   ],
   "source": [
    "import numpy as np\n",
    "\n",
    "data = np.random.randn(7, 3)\n",
    "data"
   ]
  },
  {
   "cell_type": "code",
   "execution_count": 2,
   "id": "1d3fdcf6",
   "metadata": {},
   "outputs": [
    {
     "data": {
      "text/plain": [
       "array([[ -1.87283338,  -1.10307993,  -0.67833459],\n",
       "       [ -1.64768166,   7.82052869,   1.19790937],\n",
       "       [ -4.03370998,   1.62040794,  -0.73266929],\n",
       "       [-21.23723314,  -0.68680906,  -1.13207669],\n",
       "       [ -1.65579916,  -7.87710608,   0.84866043],\n",
       "       [ -1.2001856 ,  -3.30008343,   1.87794462],\n",
       "       [  1.17638219,   1.19579946,  -0.96490211]])"
      ]
     },
     "execution_count": 2,
     "metadata": {},
     "output_type": "execute_result"
    }
   ],
   "source": [
    "1 / data"
   ]
  },
  {
   "cell_type": "code",
   "execution_count": 3,
   "id": "3b409fac",
   "metadata": {},
   "outputs": [
    {
     "data": {
      "text/plain": [
       "array([[0.28510296, 0.82183765, 2.17326192],\n",
       "       [0.36834382, 0.01635038, 0.69687049],\n",
       "       [0.06145973, 0.38084765, 1.8628763 ],\n",
       "       [0.0022172 , 2.1199615 , 0.7802761 ],\n",
       "       [0.36474108, 0.01611635, 1.3884559 ],\n",
       "       [0.69422968, 0.09182272, 0.28355312],\n",
       "       [0.72260859, 0.69933183, 1.07407224]])"
      ]
     },
     "execution_count": 3,
     "metadata": {},
     "output_type": "execute_result"
    }
   ],
   "source": [
    "data ** 2"
   ]
  },
  {
   "cell_type": "markdown",
   "id": "8bb8388b",
   "metadata": {},
   "source": [
    "Comparison of two arrays:"
   ]
  },
  {
   "cell_type": "code",
   "execution_count": 4,
   "id": "248171de",
   "metadata": {},
   "outputs": [
    {
     "data": {
      "text/plain": [
       "array([[False,  True, False],\n",
       "       [False,  True,  True],\n",
       "       [False, False, False],\n",
       "       [ True, False, False],\n",
       "       [False,  True,  True],\n",
       "       [False, False,  True],\n",
       "       [False, False, False]])"
      ]
     },
     "execution_count": 4,
     "metadata": {},
     "output_type": "execute_result"
    }
   ],
   "source": [
    "data2 = np.random.randn(7, 3)\n",
    "data > data2"
   ]
  }
 ],
 "metadata": {
  "kernelspec": {
   "display_name": "Python 3.8",
   "language": "python",
   "name": "python-38"
  },
  "language_info": {
   "codemirror_mode": {
    "name": "ipython",
    "version": 3
   },
   "file_extension": ".py",
   "mimetype": "text/x-python",
   "name": "python",
   "nbconvert_exporter": "python",
   "pygments_lexer": "ipython3",
   "version": "3.8.12"
  }
 },
 "nbformat": 4,
 "nbformat_minor": 5
}
