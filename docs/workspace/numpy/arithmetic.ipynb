{
 "cells": [
  {
   "cell_type": "markdown",
   "id": "942f3aba",
   "metadata": {},
   "source": [
    "# Arithmetic\n",
    "\n",
    "Arrays allow you to perform stack operations on data without having to use `for` loops. This is called *vectorisation* in NumPy. For all arithmetic operations between arrays of the same size, the operation is applied element by element:"
   ]
  },
  {
   "cell_type": "code",
   "execution_count": 1,
   "id": "cc82112f",
   "metadata": {},
   "outputs": [
    {
     "data": {
      "text/plain": [
       "array([[-0.52169857, -0.06638825, -1.70235417],\n",
       "       [ 0.3540172 , -1.30560063, -1.0368024 ],\n",
       "       [-0.4163764 , -1.24874081, -1.85063163],\n",
       "       [-0.63982944, -0.47325691,  1.42545299],\n",
       "       [ 1.11960638,  1.49821503, -0.11843174],\n",
       "       [-0.59220784,  0.63391355,  1.21890647],\n",
       "       [-0.57770878,  1.05719525,  2.54019148]])"
      ]
     },
     "execution_count": 1,
     "metadata": {},
     "output_type": "execute_result"
    }
   ],
   "source": [
    "import numpy as np\n",
    "\n",
    "\n",
    "data = np.random.randn(7, 3)\n",
    "data"
   ]
  },
  {
   "cell_type": "code",
   "execution_count": 2,
   "id": "1d3fdcf6",
   "metadata": {},
   "outputs": [
    {
     "data": {
      "text/plain": [
       "array([[ -1.91681569, -15.06290747,  -0.58742183],\n",
       "       [  2.82472155,  -0.765931  ,  -0.96450394],\n",
       "       [ -2.40167311,  -0.8008067 ,  -0.54035605],\n",
       "       [ -1.56291653,  -2.11301722,   0.70153138],\n",
       "       [  0.89317104,   0.66746093,  -8.44368223],\n",
       "       [ -1.68859637,   1.57750217,   0.82040749],\n",
       "       [ -1.73097595,   0.94589907,   0.39367111]])"
      ]
     },
     "execution_count": 2,
     "metadata": {},
     "output_type": "execute_result"
    }
   ],
   "source": [
    "1 / data"
   ]
  },
  {
   "cell_type": "code",
   "execution_count": 3,
   "id": "3b409fac",
   "metadata": {},
   "outputs": [
    {
     "data": {
      "text/plain": [
       "array([[2.72169395e-01, 4.40739915e-03, 2.89800972e+00],\n",
       "       [1.25328175e-01, 1.70459301e+00, 1.07495921e+00],\n",
       "       [1.73369306e-01, 1.55935360e+00, 3.42483742e+00],\n",
       "       [4.09381707e-01, 2.23972103e-01, 2.03191622e+00],\n",
       "       [1.25351846e+00, 2.24464828e+00, 1.40260776e-02],\n",
       "       [3.50710120e-01, 4.01846387e-01, 1.48573298e+00],\n",
       "       [3.33747430e-01, 1.11766179e+00, 6.45257275e+00]])"
      ]
     },
     "execution_count": 3,
     "metadata": {},
     "output_type": "execute_result"
    }
   ],
   "source": [
    "data**2"
   ]
  },
  {
   "cell_type": "markdown",
   "id": "8bb8388b",
   "metadata": {},
   "source": [
    "Comparison of two arrays:"
   ]
  },
  {
   "cell_type": "code",
   "execution_count": 4,
   "id": "248171de",
   "metadata": {},
   "outputs": [
    {
     "data": {
      "text/plain": [
       "array([[False, False, False],\n",
       "       [False, False, False],\n",
       "       [False, False, False],\n",
       "       [ True,  True,  True],\n",
       "       [ True,  True, False],\n",
       "       [False,  True,  True],\n",
       "       [False,  True,  True]])"
      ]
     },
     "execution_count": 4,
     "metadata": {},
     "output_type": "execute_result"
    }
   ],
   "source": [
    "data2 = np.random.randn(7, 3)\n",
    "data > data2"
   ]
  }
 ],
 "metadata": {
  "kernelspec": {
   "display_name": "Python 3.11 Kernel",
   "language": "python",
   "name": "python311"
  },
  "language_info": {
   "codemirror_mode": {
    "name": "ipython",
    "version": 3
   },
   "file_extension": ".py",
   "mimetype": "text/x-python",
   "name": "python",
   "nbconvert_exporter": "python",
   "pygments_lexer": "ipython3",
   "version": "3.11.4"
  },
  "widgets": {
   "application/vnd.jupyter.widget-state+json": {
    "state": {},
    "version_major": 2,
    "version_minor": 0
   }
  }
 },
 "nbformat": 4,
 "nbformat_minor": 5
}
