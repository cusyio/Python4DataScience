{
 "cells": [
  {
   "cell_type": "markdown",
   "id": "b53d2b47",
   "metadata": {},
   "source": [
    "# Indexing and slicing\n",
    "\n",
    "Indexing is the selection of a subset of your data or individual elements. This is very easy in one-dimensional arrays; they behave similarly to Python lists:"
   ]
  },
  {
   "cell_type": "code",
   "execution_count": 1,
   "id": "be654c69",
   "metadata": {},
   "outputs": [],
   "source": [
    "import numpy as np"
   ]
  },
  {
   "cell_type": "code",
   "execution_count": 2,
   "id": "1981245f",
   "metadata": {},
   "outputs": [
    {
     "data": {
      "text/plain": [
       "array([[-1.10712504, -0.60473472,  0.71961573],\n",
       "       [ 0.66161012,  0.75139849,  0.19096721],\n",
       "       [ 0.37037092,  0.52287763, -0.12497468],\n",
       "       [-0.38862188,  0.96257794, -0.30217841],\n",
       "       [ 1.36113782,  0.59738272, -0.30496318],\n",
       "       [-0.11677632, -1.87508217, -0.29912067],\n",
       "       [ 0.73419997,  0.78876697,  2.24380827]])"
      ]
     },
     "execution_count": 2,
     "metadata": {},
     "output_type": "execute_result"
    }
   ],
   "source": [
    "data = np.random.randn(7, 3)\n",
    "data"
   ]
  },
  {
   "cell_type": "code",
   "execution_count": 3,
   "id": "e229b2a1",
   "metadata": {},
   "outputs": [
    {
     "data": {
      "text/plain": [
       "array([ 1.36113782,  0.59738272, -0.30496318])"
      ]
     },
     "execution_count": 3,
     "metadata": {},
     "output_type": "execute_result"
    }
   ],
   "source": [
    "data[4]"
   ]
  },
  {
   "cell_type": "code",
   "execution_count": 4,
   "id": "dc129602",
   "metadata": {},
   "outputs": [
    {
     "data": {
      "text/plain": [
       "array([[ 0.37037092,  0.52287763, -0.12497468],\n",
       "       [-0.38862188,  0.96257794, -0.30217841]])"
      ]
     },
     "execution_count": 4,
     "metadata": {},
     "output_type": "execute_result"
    }
   ],
   "source": [
    "data[2:4]"
   ]
  },
  {
   "cell_type": "code",
   "execution_count": 5,
   "id": "2e626d48",
   "metadata": {},
   "outputs": [],
   "source": [
    "data[2:4] = np.random.randn(2, 3)"
   ]
  },
  {
   "cell_type": "code",
   "execution_count": 6,
   "id": "53b7fa19",
   "metadata": {},
   "outputs": [
    {
     "data": {
      "text/plain": [
       "array([[-1.10712504, -0.60473472,  0.71961573],\n",
       "       [ 0.66161012,  0.75139849,  0.19096721],\n",
       "       [-0.76425117,  0.13522634,  0.3471234 ],\n",
       "       [-0.12183032, -0.91938001,  0.1812069 ],\n",
       "       [ 1.36113782,  0.59738272, -0.30496318],\n",
       "       [-0.11677632, -1.87508217, -0.29912067],\n",
       "       [ 0.73419997,  0.78876697,  2.24380827]])"
      ]
     },
     "execution_count": 6,
     "metadata": {},
     "output_type": "execute_result"
    }
   ],
   "source": [
    "data"
   ]
  },
  {
   "cell_type": "markdown",
   "id": "3031283f",
   "metadata": {},
   "source": [
    "<div class=\"alert alert-block alert-info\">\n",
    "<b>Note:</b>\n",
    "    <p>Array slices differ from Python lists in that they are views of the original array. This means that the data is not copied and that any changes to the view are reflected in the original array.</p>\n",
    "    <p>If you want to make a copy of a part of an <code>ndarray</code>, you can copy the array explicitly – for example with <code>data[2:5].copy()</code>.</p>\n",
    "</div>"
   ]
  },
  {
   "cell_type": "markdown",
   "id": "8afd2d87",
   "metadata": {},
   "source": [
    "_Slicing_ in this way always results in array views with the same number of dimensions. However, if you mix integer indices and slices, you get slices with lower dimensions. For example, we can select the second row but only the first two columns as follows:"
   ]
  },
  {
   "cell_type": "code",
   "execution_count": 7,
   "id": "7855c2c7",
   "metadata": {},
   "outputs": [
    {
     "data": {
      "text/plain": [
       "array([0.66161012, 0.75139849])"
      ]
     },
     "execution_count": 7,
     "metadata": {},
     "output_type": "execute_result"
    }
   ],
   "source": [
    "data[1, :2]"
   ]
  },
  {
   "cell_type": "markdown",
   "id": "32c9694c",
   "metadata": {},
   "source": [
    "A colon means that the whole axis is taken, so you can also select higher dimensional axes:"
   ]
  },
  {
   "cell_type": "code",
   "execution_count": 8,
   "id": "3dcbe2f2",
   "metadata": {},
   "outputs": [
    {
     "data": {
      "text/plain": [
       "array([[-1.10712504],\n",
       "       [ 0.66161012],\n",
       "       [-0.76425117],\n",
       "       [-0.12183032],\n",
       "       [ 1.36113782],\n",
       "       [-0.11677632],\n",
       "       [ 0.73419997]])"
      ]
     },
     "execution_count": 8,
     "metadata": {},
     "output_type": "execute_result"
    }
   ],
   "source": [
    "data[:, :1]"
   ]
  },
  {
   "cell_type": "markdown",
   "id": "2b8fc6e2",
   "metadata": {},
   "source": [
    "## Boolean indexing\n",
    "\n",
    "Let’s consider an example where we have some data in an array and an array of names with duplicates. I will use the `randn` function in `numpy.random` here to generate some random normally distributed data:"
   ]
  },
  {
   "cell_type": "code",
   "execution_count": 9,
   "id": "438c76a0",
   "metadata": {},
   "outputs": [],
   "source": [
    "names = np.array(['Liam', 'Olivia', 'Noah', 'Liam', 'Noah', 'Olivia', 'Liam', 'Emma', 'Oliver', 'Ava'])\n",
    "data = np.random.randn(10, 4)"
   ]
  },
  {
   "cell_type": "code",
   "execution_count": 10,
   "id": "0f4f4296",
   "metadata": {},
   "outputs": [
    {
     "data": {
      "text/plain": [
       "array(['Liam', 'Olivia', 'Noah', 'Liam', 'Noah', 'Olivia', 'Liam', 'Emma',\n",
       "       'Oliver', 'Ava'], dtype='<U6')"
      ]
     },
     "execution_count": 10,
     "metadata": {},
     "output_type": "execute_result"
    }
   ],
   "source": [
    "names"
   ]
  },
  {
   "cell_type": "code",
   "execution_count": 11,
   "id": "9e9f0d22",
   "metadata": {},
   "outputs": [
    {
     "data": {
      "text/plain": [
       "array([[ 0.35867089,  1.54040782, -0.17802212,  0.96938897],\n",
       "       [-1.01908575,  0.54822696, -2.05919441, -0.2672928 ],\n",
       "       [-2.39936438,  0.47425433, -1.23474455,  0.23779314],\n",
       "       [ 0.15202324,  0.12542864,  0.65341945,  1.19879063],\n",
       "       [-0.40538607,  0.05871589, -0.21042647,  0.94201355],\n",
       "       [-2.8102482 , -1.64395184,  0.54223449,  1.71858231],\n",
       "       [ 0.28221344,  0.16457021,  0.73805459, -1.3346101 ],\n",
       "       [-0.33565533, -0.10226983,  1.8015877 , -0.62330811],\n",
       "       [-0.19469216,  0.73504504, -0.35507636, -0.74534923],\n",
       "       [-0.45535431, -1.66129057,  0.13310822,  0.32116625]])"
      ]
     },
     "execution_count": 11,
     "metadata": {},
     "output_type": "execute_result"
    }
   ],
   "source": [
    "data"
   ]
  },
  {
   "cell_type": "markdown",
   "id": "95dce5bd",
   "metadata": {},
   "source": [
    "Suppose each name corresponds to a row in the data array and we want to select all rows with the corresponding name _Liam_. Like arithmetic operations, comparisons like `==` are vectorised with arrays. So comparing names with the string `Liam` results in a Boolean array:"
   ]
  },
  {
   "cell_type": "code",
   "execution_count": 12,
   "id": "af784872",
   "metadata": {},
   "outputs": [
    {
     "data": {
      "text/plain": [
       "array([ True, False, False,  True, False, False,  True, False, False,\n",
       "       False])"
      ]
     },
     "execution_count": 12,
     "metadata": {},
     "output_type": "execute_result"
    }
   ],
   "source": [
    "names == 'Liam'"
   ]
  },
  {
   "cell_type": "markdown",
   "id": "b6030cb5",
   "metadata": {},
   "source": [
    "This Boolean array can be passed when indexing the array:"
   ]
  },
  {
   "cell_type": "code",
   "execution_count": 13,
   "id": "360ec77d",
   "metadata": {},
   "outputs": [
    {
     "data": {
      "text/plain": [
       "array([[ 0.35867089,  1.54040782, -0.17802212,  0.96938897],\n",
       "       [ 0.15202324,  0.12542864,  0.65341945,  1.19879063],\n",
       "       [ 0.28221344,  0.16457021,  0.73805459, -1.3346101 ]])"
      ]
     },
     "execution_count": 13,
     "metadata": {},
     "output_type": "execute_result"
    }
   ],
   "source": [
    "data[names == 'Liam']"
   ]
  },
  {
   "cell_type": "markdown",
   "id": "5d116835",
   "metadata": {},
   "source": [
    "Here, the Boolean array must have the same length as the array axis it indexes."
   ]
  },
  {
   "cell_type": "markdown",
   "id": "7218120d",
   "metadata": {},
   "source": [
    "<div class=\"alert alert-block alert-info\">\n",
    "<b>Note:</b>\n",
    "    <p>Selecting data from an array by Boolean indexing and assigning the result to a new variable always creates a copy of the data, even if the returned array is unchanged.</p>\n",
    "</div>"
   ]
  },
  {
   "cell_type": "markdown",
   "id": "c68db947",
   "metadata": {},
   "source": [
    "In the following example, I select the rows where `names == 'Liam'` and also index the columns:"
   ]
  },
  {
   "cell_type": "code",
   "execution_count": 14,
   "id": "3650bf5c",
   "metadata": {},
   "outputs": [
    {
     "data": {
      "text/plain": [
       "array([[-0.17802212,  0.96938897],\n",
       "       [ 0.65341945,  1.19879063],\n",
       "       [ 0.73805459, -1.3346101 ]])"
      ]
     },
     "execution_count": 14,
     "metadata": {},
     "output_type": "execute_result"
    }
   ],
   "source": [
    "data[names == 'Liam', 2:]"
   ]
  },
  {
   "cell_type": "markdown",
   "id": "03b56fdb",
   "metadata": {},
   "source": [
    "To select everything except _Liam_, you can either use `!=` or negate the condition with `~`:"
   ]
  },
  {
   "cell_type": "code",
   "execution_count": 15,
   "id": "acf00c49",
   "metadata": {},
   "outputs": [
    {
     "data": {
      "text/plain": [
       "array([False,  True,  True, False,  True,  True, False,  True,  True,\n",
       "        True])"
      ]
     },
     "execution_count": 15,
     "metadata": {},
     "output_type": "execute_result"
    }
   ],
   "source": [
    "names != 'Liam'"
   ]
  },
  {
   "cell_type": "code",
   "execution_count": 16,
   "id": "b3f233b7",
   "metadata": {},
   "outputs": [
    {
     "data": {
      "text/plain": [
       "array([[-1.01908575,  0.54822696, -2.05919441, -0.2672928 ],\n",
       "       [-2.39936438,  0.47425433, -1.23474455,  0.23779314],\n",
       "       [-0.40538607,  0.05871589, -0.21042647,  0.94201355],\n",
       "       [-2.8102482 , -1.64395184,  0.54223449,  1.71858231],\n",
       "       [-0.33565533, -0.10226983,  1.8015877 , -0.62330811],\n",
       "       [-0.19469216,  0.73504504, -0.35507636, -0.74534923],\n",
       "       [-0.45535431, -1.66129057,  0.13310822,  0.32116625]])"
      ]
     },
     "execution_count": 16,
     "metadata": {},
     "output_type": "execute_result"
    }
   ],
   "source": [
    "cond = names == 'Liam'\n",
    "data[~cond]"
   ]
  },
  {
   "cell_type": "markdown",
   "id": "bb5b0d8d",
   "metadata": {},
   "source": [
    "If you select two of the three names to combine several Boolean conditions, you can use the Boolean arithmetic operators `&` (and) and `|` (or).\n",
    "\n",
    "<div class=\"alert alert-block alert-warning\">\n",
    "<b>Warning:</b>\n",
    "    <p>The Python keywords <code>and</code> and <code>or</code> do not work with Boolean arrays.</p>\n",
    "</div>"
   ]
  },
  {
   "cell_type": "code",
   "execution_count": 17,
   "id": "7b0b0d41",
   "metadata": {},
   "outputs": [],
   "source": [
    "mask = (names == 'Liam') | (names == 'Olivia')"
   ]
  },
  {
   "cell_type": "code",
   "execution_count": 18,
   "id": "d3d5530b",
   "metadata": {},
   "outputs": [
    {
     "data": {
      "text/plain": [
       "array([ True,  True, False,  True, False,  True,  True, False, False,\n",
       "       False])"
      ]
     },
     "execution_count": 18,
     "metadata": {},
     "output_type": "execute_result"
    }
   ],
   "source": [
    "mask"
   ]
  },
  {
   "cell_type": "code",
   "execution_count": 19,
   "id": "a92d1f96",
   "metadata": {},
   "outputs": [
    {
     "data": {
      "text/plain": [
       "array([[ 0.35867089,  1.54040782, -0.17802212,  0.96938897],\n",
       "       [-1.01908575,  0.54822696, -2.05919441, -0.2672928 ],\n",
       "       [ 0.15202324,  0.12542864,  0.65341945,  1.19879063],\n",
       "       [-2.8102482 , -1.64395184,  0.54223449,  1.71858231],\n",
       "       [ 0.28221344,  0.16457021,  0.73805459, -1.3346101 ]])"
      ]
     },
     "execution_count": 19,
     "metadata": {},
     "output_type": "execute_result"
    }
   ],
   "source": [
    "data[mask]"
   ]
  },
  {
   "cell_type": "markdown",
   "id": "24a3d3e1",
   "metadata": {},
   "source": [
    "## Integer Array Indexing\n",
    "\n",
    "Integer array indexing allows you to select any elements in the array based on your N-dimensional index. Each integer array represents a number of indices in that dimension.\n",
    "\n",
    "<div class=\"alert alert-block alert-info\">\n",
    "<b>See also:</b>\n",
    "    <ul>\n",
    "        <li><a href=\"https://numpy.org/doc/stable/user/basics.indexing.html#integer-array-indexing\">Integer array indexing</a></li>\n",
    "    </ul>\n",
    "</div>"
   ]
  }
 ],
 "metadata": {
  "kernelspec": {
   "display_name": "Python 3.8",
   "language": "python",
   "name": "python-38"
  },
  "language_info": {
   "codemirror_mode": {
    "name": "ipython",
    "version": 3
   },
   "file_extension": ".py",
   "mimetype": "text/x-python",
   "name": "python",
   "nbconvert_exporter": "python",
   "pygments_lexer": "ipython3",
   "version": "3.8.12"
  }
 },
 "nbformat": 4,
 "nbformat_minor": 5
}
