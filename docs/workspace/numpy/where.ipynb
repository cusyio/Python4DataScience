{
 "cells": [
  {
   "cell_type": "markdown",
   "id": "ae32f312",
   "metadata": {},
   "source": [
    "# Conditional logic as array operations – `where`\n",
    "\n",
    "The  [numpy.where](https://numpy.org/doc/stable/reference/generated/numpy.where.html) function is a vectorised version of `if` and `else`."
   ]
  },
  {
   "cell_type": "markdown",
   "id": "86aefffc",
   "metadata": {},
   "source": [
    "In the following example, we first create a Boolean array and two arrays with values:"
   ]
  },
  {
   "cell_type": "code",
   "execution_count": 1,
   "id": "94a0f898",
   "metadata": {},
   "outputs": [],
   "source": [
    "import numpy as np"
   ]
  },
  {
   "cell_type": "code",
   "execution_count": 2,
   "id": "fcbbf600",
   "metadata": {},
   "outputs": [],
   "source": [
    "cond = ([False,  True, False,  True, False, False, False])\n",
    "data1 = np.random.randn(1, 7)\n",
    "data2 = np.random.randn(1, 7)"
   ]
  },
  {
   "cell_type": "markdown",
   "id": "22e59173",
   "metadata": {},
   "source": [
    "Now we want to take the values from `data1` if the corresponding value in `cond` is `True` and otherwise take the value from `data2`. With Python’s `if-else`, this could look like this:"
   ]
  },
  {
   "cell_type": "code",
   "execution_count": 3,
   "id": "f3da08da",
   "metadata": {},
   "outputs": [
    {
     "data": {
      "text/plain": [
       "[array([ 0.0753595 ,  0.70598847,  1.36375888,  0.52613878,  1.58394917,\n",
       "        -0.67041886, -1.30890145])]"
      ]
     },
     "execution_count": 3,
     "metadata": {},
     "output_type": "execute_result"
    }
   ],
   "source": [
    "result = [(x if c else y) for x, y, c in zip(data1, data2, cond)]\n",
    "\n",
    "result"
   ]
  },
  {
   "cell_type": "markdown",
   "id": "8dd95e6b",
   "metadata": {},
   "source": [
    "However, this has the following two problems:\n",
    "\n",
    "* with large arrays the function will not be very fast\n",
    "* this will not work with multidimensional arrays"
   ]
  },
  {
   "cell_type": "markdown",
   "id": "7540d25f",
   "metadata": {},
   "source": [
    "With `np.where` you can work around these problems in a single function call:"
   ]
  },
  {
   "cell_type": "code",
   "execution_count": 4,
   "id": "62fd7e9d",
   "metadata": {},
   "outputs": [
    {
     "data": {
      "text/plain": [
       "array([[ 0.0753595 , -0.97727968,  1.36375888,  1.5042741 ,  1.58394917,\n",
       "        -0.67041886, -1.30890145]])"
      ]
     },
     "execution_count": 4,
     "metadata": {},
     "output_type": "execute_result"
    }
   ],
   "source": [
    "result = np.where(cond, data1, data2)\n",
    "\n",
    "result"
   ]
  },
  {
   "cell_type": "markdown",
   "id": "e00c5267",
   "metadata": {},
   "source": [
    "The second and third arguments of `np.where` do not have to be arrays; one or both can also be scalars. A typical use of `where` in data analysis is to create a new array of values based on another array. Suppose you have a matrix of randomly generated data and you want to make all the negative values positive values:"
   ]
  },
  {
   "cell_type": "code",
   "execution_count": 5,
   "id": "4fbe852d",
   "metadata": {},
   "outputs": [
    {
     "data": {
      "text/plain": [
       "array([[-2.13569944,  0.21406577, -0.44948598,  0.07841356],\n",
       "       [ 0.94045485, -0.47748714, -0.70057099, -1.92553004],\n",
       "       [-1.65814642,  0.44475682, -1.16289192,  0.96023582],\n",
       "       [ 0.45396769,  0.64944133, -0.08936879, -1.20179191]])"
      ]
     },
     "execution_count": 5,
     "metadata": {},
     "output_type": "execute_result"
    }
   ],
   "source": [
    "data = np.random.randn(4, 4)\n",
    "\n",
    "data"
   ]
  },
  {
   "cell_type": "code",
   "execution_count": 6,
   "id": "aacc3846",
   "metadata": {},
   "outputs": [
    {
     "data": {
      "text/plain": [
       "array([[ True, False,  True, False],\n",
       "       [False,  True,  True,  True],\n",
       "       [ True, False,  True, False],\n",
       "       [False, False,  True,  True]])"
      ]
     },
     "execution_count": 6,
     "metadata": {},
     "output_type": "execute_result"
    }
   ],
   "source": [
    "data < 0"
   ]
  },
  {
   "cell_type": "code",
   "execution_count": 7,
   "id": "429ea702",
   "metadata": {},
   "outputs": [
    {
     "data": {
      "text/plain": [
       "array([[2.13569944, 0.21406577, 0.44948598, 0.07841356],\n",
       "       [0.94045485, 0.47748714, 0.70057099, 1.92553004],\n",
       "       [1.65814642, 0.44475682, 1.16289192, 0.96023582],\n",
       "       [0.45396769, 0.64944133, 0.08936879, 1.20179191]])"
      ]
     },
     "execution_count": 7,
     "metadata": {},
     "output_type": "execute_result"
    }
   ],
   "source": [
    "np.where(data < 0, data * -1, data)"
   ]
  }
 ],
 "metadata": {
  "kernelspec": {
   "display_name": "Python 3.11 Kernel",
   "language": "python",
   "name": "python311"
  },
  "language_info": {
   "codemirror_mode": {
    "name": "ipython",
    "version": 3
   },
   "file_extension": ".py",
   "mimetype": "text/x-python",
   "name": "python",
   "nbconvert_exporter": "python",
   "pygments_lexer": "ipython3",
   "version": "3.11.4"
  },
  "widgets": {
   "application/vnd.jupyter.widget-state+json": {
    "state": {},
    "version_major": 2,
    "version_minor": 0
   }
  }
 },
 "nbformat": 4,
 "nbformat_minor": 5
}
