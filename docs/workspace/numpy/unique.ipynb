{
 "cells": [
  {
   "cell_type": "markdown",
   "id": "54d7b273",
   "metadata": {},
   "source": [
    "# `unique` and other set logic\n",
    "\n",
    "NumPy has some basic set operations for one-dimensional `ndarray`. A commonly used one is [numpy.unique](https://numpy.org/doc/stable/reference/generated/numpy.unique.html), which returns the sorted unique values in an array:"
   ]
  },
  {
   "cell_type": "code",
   "execution_count": 1,
   "id": "f2fb223a",
   "metadata": {},
   "outputs": [],
   "source": [
    "import numpy as np\n",
    "\n",
    "names = np.array(['Liam', 'Olivia', 'Noah', 'Liam', 'Noah', 'Olivia', 'Liam', 'Emma', 'Oliver', 'Ava'])"
   ]
  },
  {
   "cell_type": "code",
   "execution_count": 2,
   "id": "f746e765",
   "metadata": {},
   "outputs": [
    {
     "data": {
      "text/plain": [
       "array(['Ava', 'Emma', 'Liam', 'Noah', 'Oliver', 'Olivia'], dtype='<U6')"
      ]
     },
     "execution_count": 2,
     "metadata": {},
     "output_type": "execute_result"
    }
   ],
   "source": [
    "np.unique(names)"
   ]
  },
  {
   "cell_type": "markdown",
   "id": "b776c753",
   "metadata": {},
   "source": [
    "With [numpy.in1d](https://numpy.org/doc/stable/reference/generated/numpy.in1d.html) you can check the membership of the values in a one-dimensional array to another array and a boolean array is returned:"
   ]
  },
  {
   "cell_type": "code",
   "execution_count": 3,
   "id": "123c678f",
   "metadata": {},
   "outputs": [
    {
     "data": {
      "text/plain": [
       "array([False, False, False, False, False, False, False,  True, False,\n",
       "        True])"
      ]
     },
     "execution_count": 3,
     "metadata": {},
     "output_type": "execute_result"
    }
   ],
   "source": [
    "np.in1d(names, ['Emma', 'Ava', 'Charlotte'])"
   ]
  },
  {
   "cell_type": "markdown",
   "id": "81713a0d",
   "metadata": {},
   "source": [
    "Array set operations:\n",
    "    \n",
    "Method | Description\n",
    ":----- | :----------\n",
    "`unique(x)` | calculates the sorted, unique elements in `x`\n",
    "`intersect1d(x, y)` | calculates the sorted common elements `x` and `y`\n",
    "`union1d(x, y)` | calculates the sorted union of elements\n",
    "`in1d(x, y)` | computes a boolean array indicating whether each element of `x` is contained in `y`\n",
    "`setdiff1d(x, y)` | sets the difference of the elements in `x` that are not contained in `y`\n",
    "`setxor1d(x, y)` | sets symmetric differences; elements contained in one of the arrays but not in both"
   ]
  }
 ],
 "metadata": {
  "kernelspec": {
   "display_name": "Python 3.8",
   "language": "python",
   "name": "python-38"
  },
  "language_info": {
   "codemirror_mode": {
    "name": "ipython",
    "version": 3
   },
   "file_extension": ".py",
   "mimetype": "text/x-python",
   "name": "python",
   "nbconvert_exporter": "python",
   "pygments_lexer": "ipython3",
   "version": "3.8.12"
  }
 },
 "nbformat": 4,
 "nbformat_minor": 5
}
