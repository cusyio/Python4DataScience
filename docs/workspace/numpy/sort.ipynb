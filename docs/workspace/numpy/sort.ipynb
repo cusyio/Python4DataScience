{
 "cells": [
  {
   "cell_type": "markdown",
   "id": "06ac89df",
   "metadata": {},
   "source": [
    "# Sort\n",
    "\n",
    "As in Python’s `list`, NumPy arrays can be sorted in-place using the [numpy.sort](https://numpy.org/doc/stable/reference/generated/numpy.sort.html) method. You can sort any one-dimensional section of values in a multidimensional array in place along an axis by passing the axis number to sort:"
   ]
  },
  {
   "cell_type": "code",
   "execution_count": 4,
   "id": "a4099946",
   "metadata": {},
   "outputs": [
    {
     "data": {
      "text/plain": [
       "array([[ 0.01030144,  0.78524872,  0.42930263],\n",
       "       [-1.51182764,  0.16973497, -0.6294608 ],\n",
       "       [-1.63687566,  2.89978519, -1.12282476],\n",
       "       [-0.23121837,  0.40594707, -0.1667278 ],\n",
       "       [ 1.57718982, -0.4898681 , -0.38596701],\n",
       "       [ 0.92491973, -0.69984905, -1.66848346],\n",
       "       [-0.87552462, -0.04699234,  1.33797794]])"
      ]
     },
     "execution_count": 4,
     "metadata": {},
     "output_type": "execute_result"
    }
   ],
   "source": [
    "import numpy as np\n",
    "\n",
    "data = np.random.randn(7, 3)\n",
    "\n",
    "data"
   ]
  },
  {
   "cell_type": "code",
   "execution_count": 9,
   "id": "b2d7e426",
   "metadata": {},
   "outputs": [
    {
     "data": {
      "text/plain": [
       "array([[-1.63687566, -0.69984905, -1.66848346],\n",
       "       [-1.51182764, -0.4898681 , -1.12282476],\n",
       "       [-0.87552462, -0.04699234, -0.6294608 ],\n",
       "       [-0.23121837,  0.16973497, -0.38596701],\n",
       "       [ 0.01030144,  0.40594707, -0.1667278 ],\n",
       "       [ 0.92491973,  0.78524872,  0.42930263],\n",
       "       [ 1.57718982,  2.89978519,  1.33797794]])"
      ]
     },
     "execution_count": 9,
     "metadata": {},
     "output_type": "execute_result"
    }
   ],
   "source": [
    "data.sort(0)\n",
    "\n",
    "data"
   ]
  },
  {
   "cell_type": "markdown",
   "id": "bccf7aeb",
   "metadata": {},
   "source": [
    "`np.sort`, on the other hand, returns a sorted copy of an array instead of changing the array in place:"
   ]
  },
  {
   "cell_type": "code",
   "execution_count": 7,
   "id": "4d6e17da",
   "metadata": {},
   "outputs": [
    {
     "data": {
      "text/plain": [
       "array([[ 0.01030144,  0.42930263,  0.78524872],\n",
       "       [-1.51182764, -0.6294608 ,  0.16973497],\n",
       "       [-1.63687566, -1.12282476,  2.89978519],\n",
       "       [-0.23121837, -0.1667278 ,  0.40594707],\n",
       "       [-0.4898681 , -0.38596701,  1.57718982],\n",
       "       [-1.66848346, -0.69984905,  0.92491973],\n",
       "       [-0.87552462, -0.04699234,  1.33797794]])"
      ]
     },
     "execution_count": 7,
     "metadata": {},
     "output_type": "execute_result"
    }
   ],
   "source": [
    "np.sort(data, axis=1)"
   ]
  },
  {
   "cell_type": "code",
   "execution_count": 10,
   "id": "97af8303",
   "metadata": {},
   "outputs": [
    {
     "data": {
      "text/plain": [
       "array([[-1.63687566, -0.69984905, -1.66848346],\n",
       "       [-1.51182764, -0.4898681 , -1.12282476],\n",
       "       [-0.87552462, -0.04699234, -0.6294608 ],\n",
       "       [-0.23121837,  0.16973497, -0.38596701],\n",
       "       [ 0.01030144,  0.40594707, -0.1667278 ],\n",
       "       [ 0.92491973,  0.78524872,  0.42930263],\n",
       "       [ 1.57718982,  2.89978519,  1.33797794]])"
      ]
     },
     "execution_count": 10,
     "metadata": {},
     "output_type": "execute_result"
    }
   ],
   "source": [
    "data"
   ]
  }
 ],
 "metadata": {
  "kernelspec": {
   "display_name": "Python 3.8",
   "language": "python",
   "name": "python-38"
  },
  "language_info": {
   "codemirror_mode": {
    "name": "ipython",
    "version": 3
   },
   "file_extension": ".py",
   "mimetype": "text/x-python",
   "name": "python",
   "nbconvert_exporter": "python",
   "pygments_lexer": "ipython3",
   "version": "3.8.12"
  }
 },
 "nbformat": 4,
 "nbformat_minor": 5
}
