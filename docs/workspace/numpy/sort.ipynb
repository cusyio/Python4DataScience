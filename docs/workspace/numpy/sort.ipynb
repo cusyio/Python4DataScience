{
 "cells": [
  {
   "cell_type": "markdown",
   "id": "06ac89df",
   "metadata": {},
   "source": [
    "# Sort\n",
    "\n",
    "As in Python’s `list`, NumPy arrays can be sorted in-place using the [numpy.sort](https://numpy.org/doc/stable/reference/generated/numpy.sort.html) method. You can sort any one-dimensional section of values in a multidimensional array in place along an axis by passing the axis number to sort:"
   ]
  },
  {
   "cell_type": "code",
   "execution_count": 1,
   "id": "a4099946",
   "metadata": {},
   "outputs": [
    {
     "data": {
      "text/plain": [
       "array([[-0.50687148, -0.92123541, -1.33470444],\n",
       "       [-0.47316782, -0.05354427,  0.3144167 ],\n",
       "       [-0.51270165, -1.30401598, -0.9362869 ],\n",
       "       [-0.19429791,  1.12032183,  0.19184738],\n",
       "       [ 0.07609175,  1.75052865, -1.27389361],\n",
       "       [ 1.03374626, -0.29737004,  0.0944219 ],\n",
       "       [ 0.82837672, -0.29511481, -0.25849806]])"
      ]
     },
     "execution_count": 1,
     "metadata": {},
     "output_type": "execute_result"
    }
   ],
   "source": [
    "import numpy as np\n",
    "\n",
    "\n",
    "data = np.random.randn(7, 3)\n",
    "\n",
    "data"
   ]
  },
  {
   "cell_type": "code",
   "execution_count": 2,
   "id": "b2d7e426",
   "metadata": {},
   "outputs": [
    {
     "data": {
      "text/plain": [
       "array([[-0.51270165, -1.30401598, -1.33470444],\n",
       "       [-0.50687148, -0.92123541, -1.27389361],\n",
       "       [-0.47316782, -0.29737004, -0.9362869 ],\n",
       "       [-0.19429791, -0.29511481, -0.25849806],\n",
       "       [ 0.07609175, -0.05354427,  0.0944219 ],\n",
       "       [ 0.82837672,  1.12032183,  0.19184738],\n",
       "       [ 1.03374626,  1.75052865,  0.3144167 ]])"
      ]
     },
     "execution_count": 2,
     "metadata": {},
     "output_type": "execute_result"
    }
   ],
   "source": [
    "data.sort(0)\n",
    "\n",
    "data"
   ]
  },
  {
   "cell_type": "markdown",
   "id": "bccf7aeb",
   "metadata": {},
   "source": [
    "`np.sort`, on the other hand, returns a sorted copy of an array instead of changing the array in place:"
   ]
  },
  {
   "cell_type": "code",
   "execution_count": 3,
   "id": "4d6e17da",
   "metadata": {},
   "outputs": [
    {
     "data": {
      "text/plain": [
       "array([[-1.33470444, -1.30401598, -0.51270165],\n",
       "       [-1.27389361, -0.92123541, -0.50687148],\n",
       "       [-0.9362869 , -0.47316782, -0.29737004],\n",
       "       [-0.29511481, -0.25849806, -0.19429791],\n",
       "       [-0.05354427,  0.07609175,  0.0944219 ],\n",
       "       [ 0.19184738,  0.82837672,  1.12032183],\n",
       "       [ 0.3144167 ,  1.03374626,  1.75052865]])"
      ]
     },
     "execution_count": 3,
     "metadata": {},
     "output_type": "execute_result"
    }
   ],
   "source": [
    "np.sort(data, axis=1)"
   ]
  },
  {
   "cell_type": "code",
   "execution_count": 4,
   "id": "97af8303",
   "metadata": {},
   "outputs": [
    {
     "data": {
      "text/plain": [
       "array([[-0.51270165, -1.30401598, -1.33470444],\n",
       "       [-0.50687148, -0.92123541, -1.27389361],\n",
       "       [-0.47316782, -0.29737004, -0.9362869 ],\n",
       "       [-0.19429791, -0.29511481, -0.25849806],\n",
       "       [ 0.07609175, -0.05354427,  0.0944219 ],\n",
       "       [ 0.82837672,  1.12032183,  0.19184738],\n",
       "       [ 1.03374626,  1.75052865,  0.3144167 ]])"
      ]
     },
     "execution_count": 4,
     "metadata": {},
     "output_type": "execute_result"
    }
   ],
   "source": [
    "data"
   ]
  }
 ],
 "metadata": {
  "kernelspec": {
   "display_name": "Python 3.11 Kernel",
   "language": "python",
   "name": "python311"
  },
  "language_info": {
   "codemirror_mode": {
    "name": "ipython",
    "version": 3
   },
   "file_extension": ".py",
   "mimetype": "text/x-python",
   "name": "python",
   "nbconvert_exporter": "python",
   "pygments_lexer": "ipython3",
   "version": "3.11.4"
  },
  "widgets": {
   "application/vnd.jupyter.widget-state+json": {
    "state": {},
    "version_major": 2,
    "version_minor": 0
   }
  }
 },
 "nbformat": 4,
 "nbformat_minor": 5
}
