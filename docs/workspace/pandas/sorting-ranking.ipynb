{
 "cells": [
  {
   "cell_type": "markdown",
   "id": "233327ae",
   "metadata": {},
   "source": [
    "# Sorting and ranking\n",
    "\n",
    "Sorting a record by a criterion is another important built-in function. Sorting lexicographically by row or column index is already described in the section [Reordering and sorting from levels](indexing.ipynb#Rearranging-and-Sorting-Levels). In the following we look at sorting the values with [DataFrame.sort_values](https://pandas.pydata.org/docs/reference/api/pandas.DataFrame.sort_values.html) and [Series.sort_values](https://pandas.pydata.org/docs/reference/api/pandas.Series.sort_values.html):"
   ]
  },
  {
   "cell_type": "code",
   "execution_count": 1,
   "id": "0cedcd43",
   "metadata": {},
   "outputs": [
    {
     "data": {
      "text/plain": [
       "6    0.807524\n",
       "5   -0.045012\n",
       "4   -0.276246\n",
       "3    1.032609\n",
       "2    1.067726\n",
       "1    0.488613\n",
       "0    1.324534\n",
       "dtype: float64"
      ]
     },
     "execution_count": 1,
     "metadata": {},
     "output_type": "execute_result"
    }
   ],
   "source": [
    "import numpy as np\n",
    "import pandas as pd\n",
    "\n",
    "rng = np.random.default_rng()\n",
    "s = pd.Series(rng.normal(size=7))\n",
    "\n",
    "s.sort_index(ascending=False)"
   ]
  },
  {
   "cell_type": "markdown",
   "id": "18623a6d",
   "metadata": {},
   "source": [
    "All missing values are sorted to the end of the row by default:"
   ]
  },
  {
   "cell_type": "code",
   "execution_count": 2,
   "id": "6a93706c",
   "metadata": {},
   "outputs": [
    {
     "data": {
      "text/plain": [
       "5    0.186232\n",
       "1    0.826051\n",
       "6    1.649605\n",
       "0         NaN\n",
       "2         NaN\n",
       "3         NaN\n",
       "4         NaN\n",
       "dtype: float64"
      ]
     },
     "execution_count": 2,
     "metadata": {},
     "output_type": "execute_result"
    }
   ],
   "source": [
    "s = pd.Series(rng.normal(size=7))\n",
    "s[s < 0] = np.nan\n",
    "\n",
    "s.sort_values()"
   ]
  },
  {
   "cell_type": "markdown",
   "id": "45cf8b25",
   "metadata": {},
   "source": [
    "With a DataFrame you can sort on both axes. With `by` you specify which column or row is to be sorted:"
   ]
  },
  {
   "cell_type": "code",
   "execution_count": 3,
   "id": "a767ca78",
   "metadata": {},
   "outputs": [
    {
     "data": {
      "text/html": [
       "<div>\n",
       "<style scoped>\n",
       "    .dataframe tbody tr th:only-of-type {\n",
       "        vertical-align: middle;\n",
       "    }\n",
       "\n",
       "    .dataframe tbody tr th {\n",
       "        vertical-align: top;\n",
       "    }\n",
       "\n",
       "    .dataframe thead th {\n",
       "        text-align: right;\n",
       "    }\n",
       "</style>\n",
       "<table border=\"1\" class=\"dataframe\">\n",
       "  <thead>\n",
       "    <tr style=\"text-align: right;\">\n",
       "      <th></th>\n",
       "      <th>0</th>\n",
       "      <th>1</th>\n",
       "      <th>2</th>\n",
       "    </tr>\n",
       "  </thead>\n",
       "  <tbody>\n",
       "    <tr>\n",
       "      <th>1</th>\n",
       "      <td>-0.013109</td>\n",
       "      <td>0.060716</td>\n",
       "      <td>1.837680</td>\n",
       "    </tr>\n",
       "    <tr>\n",
       "      <th>0</th>\n",
       "      <td>0.095855</td>\n",
       "      <td>-0.804874</td>\n",
       "      <td>1.201810</td>\n",
       "    </tr>\n",
       "    <tr>\n",
       "      <th>2</th>\n",
       "      <td>0.278646</td>\n",
       "      <td>-0.608821</td>\n",
       "      <td>0.498333</td>\n",
       "    </tr>\n",
       "    <tr>\n",
       "      <th>5</th>\n",
       "      <td>-0.680013</td>\n",
       "      <td>0.314085</td>\n",
       "      <td>0.382935</td>\n",
       "    </tr>\n",
       "    <tr>\n",
       "      <th>3</th>\n",
       "      <td>-0.368188</td>\n",
       "      <td>1.192103</td>\n",
       "      <td>-0.944575</td>\n",
       "    </tr>\n",
       "    <tr>\n",
       "      <th>6</th>\n",
       "      <td>1.097941</td>\n",
       "      <td>-0.207889</td>\n",
       "      <td>-0.974132</td>\n",
       "    </tr>\n",
       "    <tr>\n",
       "      <th>4</th>\n",
       "      <td>0.684861</td>\n",
       "      <td>1.651951</td>\n",
       "      <td>-2.388397</td>\n",
       "    </tr>\n",
       "  </tbody>\n",
       "</table>\n",
       "</div>"
      ],
      "text/plain": [
       "          0         1         2\n",
       "1 -0.013109  0.060716  1.837680\n",
       "0  0.095855 -0.804874  1.201810\n",
       "2  0.278646 -0.608821  0.498333\n",
       "5 -0.680013  0.314085  0.382935\n",
       "3 -0.368188  1.192103 -0.944575\n",
       "6  1.097941 -0.207889 -0.974132\n",
       "4  0.684861  1.651951 -2.388397"
      ]
     },
     "execution_count": 3,
     "metadata": {},
     "output_type": "execute_result"
    }
   ],
   "source": [
    "df = pd.DataFrame(rng.normal(size=(7, 3)))\n",
    "\n",
    "df.sort_values(by=2, ascending=False)"
   ]
  },
  {
   "cell_type": "markdown",
   "id": "36902f51",
   "metadata": {},
   "source": [
    "You can also sort rows with `axis=1` and `by`:"
   ]
  },
  {
   "cell_type": "code",
   "execution_count": 4,
   "id": "ff545cff",
   "metadata": {},
   "outputs": [
    {
     "data": {
      "text/html": [
       "<div>\n",
       "<style scoped>\n",
       "    .dataframe tbody tr th:only-of-type {\n",
       "        vertical-align: middle;\n",
       "    }\n",
       "\n",
       "    .dataframe tbody tr th {\n",
       "        vertical-align: top;\n",
       "    }\n",
       "\n",
       "    .dataframe thead th {\n",
       "        text-align: right;\n",
       "    }\n",
       "</style>\n",
       "<table border=\"1\" class=\"dataframe\">\n",
       "  <thead>\n",
       "    <tr style=\"text-align: right;\">\n",
       "      <th></th>\n",
       "      <th>2</th>\n",
       "      <th>0</th>\n",
       "      <th>1</th>\n",
       "    </tr>\n",
       "  </thead>\n",
       "  <tbody>\n",
       "    <tr>\n",
       "      <th>0</th>\n",
       "      <td>1.201810</td>\n",
       "      <td>0.095855</td>\n",
       "      <td>-0.804874</td>\n",
       "    </tr>\n",
       "    <tr>\n",
       "      <th>1</th>\n",
       "      <td>1.837680</td>\n",
       "      <td>-0.013109</td>\n",
       "      <td>0.060716</td>\n",
       "    </tr>\n",
       "    <tr>\n",
       "      <th>2</th>\n",
       "      <td>0.498333</td>\n",
       "      <td>0.278646</td>\n",
       "      <td>-0.608821</td>\n",
       "    </tr>\n",
       "    <tr>\n",
       "      <th>3</th>\n",
       "      <td>-0.944575</td>\n",
       "      <td>-0.368188</td>\n",
       "      <td>1.192103</td>\n",
       "    </tr>\n",
       "    <tr>\n",
       "      <th>4</th>\n",
       "      <td>-2.388397</td>\n",
       "      <td>0.684861</td>\n",
       "      <td>1.651951</td>\n",
       "    </tr>\n",
       "    <tr>\n",
       "      <th>5</th>\n",
       "      <td>0.382935</td>\n",
       "      <td>-0.680013</td>\n",
       "      <td>0.314085</td>\n",
       "    </tr>\n",
       "    <tr>\n",
       "      <th>6</th>\n",
       "      <td>-0.974132</td>\n",
       "      <td>1.097941</td>\n",
       "      <td>-0.207889</td>\n",
       "    </tr>\n",
       "  </tbody>\n",
       "</table>\n",
       "</div>"
      ],
      "text/plain": [
       "          2         0         1\n",
       "0  1.201810  0.095855 -0.804874\n",
       "1  1.837680 -0.013109  0.060716\n",
       "2  0.498333  0.278646 -0.608821\n",
       "3 -0.944575 -0.368188  1.192103\n",
       "4 -2.388397  0.684861  1.651951\n",
       "5  0.382935 -0.680013  0.314085\n",
       "6 -0.974132  1.097941 -0.207889"
      ]
     },
     "execution_count": 4,
     "metadata": {},
     "output_type": "execute_result"
    }
   ],
   "source": [
    "df.sort_values(axis=1, by=[0,1], ascending=False)"
   ]
  },
  {
   "cell_type": "markdown",
   "id": "58281d1d",
   "metadata": {},
   "source": [
    "## Ranking\n",
    "\n",
    "[DataFrame.rank](https://pandas.pydata.org/docs/reference/api/pandas.DataFrame.rank.html) and [Series.rank](https://pandas.pydata.org/docs/reference/api/pandas.Series.rank.html) assign ranks from one to the number of valid data points in an array:"
   ]
  },
  {
   "cell_type": "code",
   "execution_count": 5,
   "id": "df8f2e42",
   "metadata": {},
   "outputs": [
    {
     "data": {
      "text/html": [
       "<div>\n",
       "<style scoped>\n",
       "    .dataframe tbody tr th:only-of-type {\n",
       "        vertical-align: middle;\n",
       "    }\n",
       "\n",
       "    .dataframe tbody tr th {\n",
       "        vertical-align: top;\n",
       "    }\n",
       "\n",
       "    .dataframe thead th {\n",
       "        text-align: right;\n",
       "    }\n",
       "</style>\n",
       "<table border=\"1\" class=\"dataframe\">\n",
       "  <thead>\n",
       "    <tr style=\"text-align: right;\">\n",
       "      <th></th>\n",
       "      <th>0</th>\n",
       "      <th>1</th>\n",
       "      <th>2</th>\n",
       "    </tr>\n",
       "  </thead>\n",
       "  <tbody>\n",
       "    <tr>\n",
       "      <th>0</th>\n",
       "      <td>4.0</td>\n",
       "      <td>1.0</td>\n",
       "      <td>6.0</td>\n",
       "    </tr>\n",
       "    <tr>\n",
       "      <th>1</th>\n",
       "      <td>3.0</td>\n",
       "      <td>4.0</td>\n",
       "      <td>7.0</td>\n",
       "    </tr>\n",
       "    <tr>\n",
       "      <th>2</th>\n",
       "      <td>5.0</td>\n",
       "      <td>2.0</td>\n",
       "      <td>5.0</td>\n",
       "    </tr>\n",
       "    <tr>\n",
       "      <th>3</th>\n",
       "      <td>2.0</td>\n",
       "      <td>6.0</td>\n",
       "      <td>3.0</td>\n",
       "    </tr>\n",
       "    <tr>\n",
       "      <th>4</th>\n",
       "      <td>6.0</td>\n",
       "      <td>7.0</td>\n",
       "      <td>1.0</td>\n",
       "    </tr>\n",
       "    <tr>\n",
       "      <th>5</th>\n",
       "      <td>1.0</td>\n",
       "      <td>5.0</td>\n",
       "      <td>4.0</td>\n",
       "    </tr>\n",
       "    <tr>\n",
       "      <th>6</th>\n",
       "      <td>7.0</td>\n",
       "      <td>3.0</td>\n",
       "      <td>2.0</td>\n",
       "    </tr>\n",
       "  </tbody>\n",
       "</table>\n",
       "</div>"
      ],
      "text/plain": [
       "     0    1    2\n",
       "0  4.0  1.0  6.0\n",
       "1  3.0  4.0  7.0\n",
       "2  5.0  2.0  5.0\n",
       "3  2.0  6.0  3.0\n",
       "4  6.0  7.0  1.0\n",
       "5  1.0  5.0  4.0\n",
       "6  7.0  3.0  2.0"
      ]
     },
     "execution_count": 5,
     "metadata": {},
     "output_type": "execute_result"
    }
   ],
   "source": [
    "df.rank()"
   ]
  },
  {
   "cell_type": "markdown",
   "id": "72195d0f",
   "metadata": {},
   "source": [
    "If ties occur in the ranking, the middle rank is usually assigned in each group."
   ]
  },
  {
   "cell_type": "code",
   "execution_count": 6,
   "id": "513bca91",
   "metadata": {},
   "outputs": [
    {
     "data": {
      "text/html": [
       "<div>\n",
       "<style scoped>\n",
       "    .dataframe tbody tr th:only-of-type {\n",
       "        vertical-align: middle;\n",
       "    }\n",
       "\n",
       "    .dataframe tbody tr th {\n",
       "        vertical-align: top;\n",
       "    }\n",
       "\n",
       "    .dataframe thead th {\n",
       "        text-align: right;\n",
       "    }\n",
       "</style>\n",
       "<table border=\"1\" class=\"dataframe\">\n",
       "  <thead>\n",
       "    <tr style=\"text-align: right;\">\n",
       "      <th></th>\n",
       "      <th>0</th>\n",
       "      <th>1</th>\n",
       "      <th>2</th>\n",
       "    </tr>\n",
       "  </thead>\n",
       "  <tbody>\n",
       "    <tr>\n",
       "      <th>0</th>\n",
       "      <td>5.0</td>\n",
       "      <td>1.0</td>\n",
       "      <td>8.0</td>\n",
       "    </tr>\n",
       "    <tr>\n",
       "      <th>1</th>\n",
       "      <td>4.0</td>\n",
       "      <td>5.0</td>\n",
       "      <td>9.0</td>\n",
       "    </tr>\n",
       "    <tr>\n",
       "      <th>2</th>\n",
       "      <td>6.0</td>\n",
       "      <td>2.0</td>\n",
       "      <td>7.0</td>\n",
       "    </tr>\n",
       "    <tr>\n",
       "      <th>3</th>\n",
       "      <td>3.0</td>\n",
       "      <td>8.0</td>\n",
       "      <td>4.0</td>\n",
       "    </tr>\n",
       "    <tr>\n",
       "      <th>4</th>\n",
       "      <td>7.0</td>\n",
       "      <td>9.0</td>\n",
       "      <td>1.0</td>\n",
       "    </tr>\n",
       "    <tr>\n",
       "      <th>5</th>\n",
       "      <td>1.5</td>\n",
       "      <td>6.5</td>\n",
       "      <td>5.5</td>\n",
       "    </tr>\n",
       "    <tr>\n",
       "      <th>6</th>\n",
       "      <td>8.5</td>\n",
       "      <td>3.5</td>\n",
       "      <td>2.5</td>\n",
       "    </tr>\n",
       "    <tr>\n",
       "      <th>5</th>\n",
       "      <td>1.5</td>\n",
       "      <td>6.5</td>\n",
       "      <td>5.5</td>\n",
       "    </tr>\n",
       "    <tr>\n",
       "      <th>6</th>\n",
       "      <td>8.5</td>\n",
       "      <td>3.5</td>\n",
       "      <td>2.5</td>\n",
       "    </tr>\n",
       "  </tbody>\n",
       "</table>\n",
       "</div>"
      ],
      "text/plain": [
       "     0    1    2\n",
       "0  5.0  1.0  8.0\n",
       "1  4.0  5.0  9.0\n",
       "2  6.0  2.0  7.0\n",
       "3  3.0  8.0  4.0\n",
       "4  7.0  9.0  1.0\n",
       "5  1.5  6.5  5.5\n",
       "6  8.5  3.5  2.5\n",
       "5  1.5  6.5  5.5\n",
       "6  8.5  3.5  2.5"
      ]
     },
     "execution_count": 6,
     "metadata": {},
     "output_type": "execute_result"
    }
   ],
   "source": [
    "df2 = df.append(df[5:])\n",
    "\n",
    "df2.rank()"
   ]
  },
  {
   "cell_type": "markdown",
   "id": "fbbb9fb2",
   "metadata": {},
   "source": [
    "The parameter `min`, on the other hand, assigns the smallest rank in the group:"
   ]
  },
  {
   "cell_type": "code",
   "execution_count": 7,
   "id": "808a1f0f",
   "metadata": {},
   "outputs": [
    {
     "data": {
      "text/html": [
       "<div>\n",
       "<style scoped>\n",
       "    .dataframe tbody tr th:only-of-type {\n",
       "        vertical-align: middle;\n",
       "    }\n",
       "\n",
       "    .dataframe tbody tr th {\n",
       "        vertical-align: top;\n",
       "    }\n",
       "\n",
       "    .dataframe thead th {\n",
       "        text-align: right;\n",
       "    }\n",
       "</style>\n",
       "<table border=\"1\" class=\"dataframe\">\n",
       "  <thead>\n",
       "    <tr style=\"text-align: right;\">\n",
       "      <th></th>\n",
       "      <th>0</th>\n",
       "      <th>1</th>\n",
       "      <th>2</th>\n",
       "    </tr>\n",
       "  </thead>\n",
       "  <tbody>\n",
       "    <tr>\n",
       "      <th>0</th>\n",
       "      <td>5.0</td>\n",
       "      <td>1.0</td>\n",
       "      <td>8.0</td>\n",
       "    </tr>\n",
       "    <tr>\n",
       "      <th>1</th>\n",
       "      <td>4.0</td>\n",
       "      <td>5.0</td>\n",
       "      <td>9.0</td>\n",
       "    </tr>\n",
       "    <tr>\n",
       "      <th>2</th>\n",
       "      <td>6.0</td>\n",
       "      <td>2.0</td>\n",
       "      <td>7.0</td>\n",
       "    </tr>\n",
       "    <tr>\n",
       "      <th>3</th>\n",
       "      <td>3.0</td>\n",
       "      <td>8.0</td>\n",
       "      <td>4.0</td>\n",
       "    </tr>\n",
       "    <tr>\n",
       "      <th>4</th>\n",
       "      <td>7.0</td>\n",
       "      <td>9.0</td>\n",
       "      <td>1.0</td>\n",
       "    </tr>\n",
       "    <tr>\n",
       "      <th>5</th>\n",
       "      <td>1.0</td>\n",
       "      <td>6.0</td>\n",
       "      <td>5.0</td>\n",
       "    </tr>\n",
       "    <tr>\n",
       "      <th>6</th>\n",
       "      <td>8.0</td>\n",
       "      <td>3.0</td>\n",
       "      <td>2.0</td>\n",
       "    </tr>\n",
       "    <tr>\n",
       "      <th>5</th>\n",
       "      <td>1.0</td>\n",
       "      <td>6.0</td>\n",
       "      <td>5.0</td>\n",
       "    </tr>\n",
       "    <tr>\n",
       "      <th>6</th>\n",
       "      <td>8.0</td>\n",
       "      <td>3.0</td>\n",
       "      <td>2.0</td>\n",
       "    </tr>\n",
       "  </tbody>\n",
       "</table>\n",
       "</div>"
      ],
      "text/plain": [
       "     0    1    2\n",
       "0  5.0  1.0  8.0\n",
       "1  4.0  5.0  9.0\n",
       "2  6.0  2.0  7.0\n",
       "3  3.0  8.0  4.0\n",
       "4  7.0  9.0  1.0\n",
       "5  1.0  6.0  5.0\n",
       "6  8.0  3.0  2.0\n",
       "5  1.0  6.0  5.0\n",
       "6  8.0  3.0  2.0"
      ]
     },
     "execution_count": 7,
     "metadata": {},
     "output_type": "execute_result"
    }
   ],
   "source": [
    "df2.rank(method='min')"
   ]
  },
  {
   "cell_type": "markdown",
   "id": "c285b40b",
   "metadata": {},
   "source": [
    "## Other methods with `rank`\n",
    "\n",
    "Method | Description\n",
    ":----- | :----------\n",
    "`average` | default: assign the average rank to each entry in the same group\n",
    "`min` | uses the minimum rank for the whole group\n",
    "`max` | uses the maximum rank for the whole group\n",
    "`first` | assigns the ranks in the order in which the values appear in the data\n",
    "`dense` | like `method='min'` but the ranks always increase by 1 between groups and not according to the number of same items in a group"
   ]
  }
 ],
 "metadata": {
  "kernelspec": {
   "display_name": "Python 3.8",
   "language": "python",
   "name": "python-38"
  },
  "language_info": {
   "codemirror_mode": {
    "name": "ipython",
    "version": 3
   },
   "file_extension": ".py",
   "mimetype": "text/x-python",
   "name": "python",
   "nbconvert_exporter": "python",
   "pygments_lexer": "ipython3",
   "version": "3.8.12"
  }
 },
 "nbformat": 4,
 "nbformat_minor": 5
}
