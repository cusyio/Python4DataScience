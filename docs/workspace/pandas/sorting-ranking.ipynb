{
 "cells": [
  {
   "cell_type": "markdown",
   "id": "aec92695",
   "metadata": {},
   "source": [
    "# Sorting and ranking\n",
    "\n",
    "Sorting a dataset by a criterion is another important built-in function. To sort lexicographically by row or column index, use the methods [pandas.Series.sort_index](https://pandas.pydata.org/docs/reference/api/pandas.Series.sort_index.html) or [pandas.DataFrame.sort_index](https://pandas.pydata.org/docs/reference/api/pandas.DataFrame.sort_index.html), which returns a new sorted object. With `ascending=False` the sort order is reversed:"
   ]
  },
  {
   "cell_type": "code",
   "execution_count": 1,
   "id": "b53195fb",
   "metadata": {},
   "outputs": [
    {
     "data": {
      "text/plain": [
       "6    1.276976\n",
       "5   -0.787146\n",
       "4    0.052761\n",
       "3    0.111477\n",
       "2   -0.431729\n",
       "1    1.321374\n",
       "0    1.376616\n",
       "dtype: float64"
      ]
     },
     "execution_count": 1,
     "metadata": {},
     "output_type": "execute_result"
    }
   ],
   "source": [
    "import numpy as np\n",
    "import pandas as pd\n",
    "\n",
    "rng = np.random.default_rng()\n",
    "s = pd.Series(rng.normal(size=7))\n",
    "\n",
    "s.sort_index(ascending=False)"
   ]
  },
  {
   "cell_type": "markdown",
   "id": "cb6b4b8a",
   "metadata": {},
   "source": [
    "To sort a series by its values, you can use the `sort_values` method:"
   ]
  },
  {
   "cell_type": "code",
   "execution_count": 2,
   "id": "dec3b238",
   "metadata": {},
   "outputs": [
    {
     "data": {
      "text/plain": [
       "5   -0.787146\n",
       "2   -0.431729\n",
       "4    0.052761\n",
       "3    0.111477\n",
       "6    1.276976\n",
       "1    1.321374\n",
       "0    1.376616\n",
       "dtype: float64"
      ]
     },
     "execution_count": 2,
     "metadata": {},
     "output_type": "execute_result"
    }
   ],
   "source": [
    "s.sort_values()"
   ]
  },
  {
   "cell_type": "markdown",
   "id": "2a7f20d1",
   "metadata": {},
   "source": [
    "All missing values are sorted to the end of the row by default:"
   ]
  },
  {
   "cell_type": "code",
   "execution_count": 3,
   "id": "b79745a4",
   "metadata": {},
   "outputs": [
    {
     "data": {
      "text/plain": [
       "0    0.645635\n",
       "3    0.875170\n",
       "6    1.369406\n",
       "5    1.554600\n",
       "4    1.975220\n",
       "1         NaN\n",
       "2         NaN\n",
       "dtype: float64"
      ]
     },
     "execution_count": 3,
     "metadata": {},
     "output_type": "execute_result"
    }
   ],
   "source": [
    "s = pd.Series(rng.normal(size=7))\n",
    "s[s < 0] = np.nan\n",
    "\n",
    "s.sort_values()"
   ]
  },
  {
   "cell_type": "markdown",
   "id": "ec7e9ff1",
   "metadata": {},
   "source": [
    "With a DataFrame you can sort by index on both axes:"
   ]
  },
  {
   "cell_type": "code",
   "execution_count": 4,
   "id": "719c0d72",
   "metadata": {},
   "outputs": [
    {
     "data": {
      "text/html": [
       "<div>\n",
       "<style scoped>\n",
       "    .dataframe tbody tr th:only-of-type {\n",
       "        vertical-align: middle;\n",
       "    }\n",
       "\n",
       "    .dataframe tbody tr th {\n",
       "        vertical-align: top;\n",
       "    }\n",
       "\n",
       "    .dataframe thead th {\n",
       "        text-align: right;\n",
       "    }\n",
       "</style>\n",
       "<table border=\"1\" class=\"dataframe\">\n",
       "  <thead>\n",
       "    <tr style=\"text-align: right;\">\n",
       "      <th></th>\n",
       "      <th>0</th>\n",
       "      <th>1</th>\n",
       "      <th>2</th>\n",
       "    </tr>\n",
       "  </thead>\n",
       "  <tbody>\n",
       "    <tr>\n",
       "      <th>0</th>\n",
       "      <td>1.675691</td>\n",
       "      <td>-0.875081</td>\n",
       "      <td>0.623822</td>\n",
       "    </tr>\n",
       "    <tr>\n",
       "      <th>1</th>\n",
       "      <td>-0.257640</td>\n",
       "      <td>-0.328030</td>\n",
       "      <td>1.334650</td>\n",
       "    </tr>\n",
       "    <tr>\n",
       "      <th>2</th>\n",
       "      <td>-0.167721</td>\n",
       "      <td>1.448707</td>\n",
       "      <td>-0.926976</td>\n",
       "    </tr>\n",
       "    <tr>\n",
       "      <th>3</th>\n",
       "      <td>-0.509818</td>\n",
       "      <td>1.438268</td>\n",
       "      <td>-0.559362</td>\n",
       "    </tr>\n",
       "    <tr>\n",
       "      <th>4</th>\n",
       "      <td>-0.247201</td>\n",
       "      <td>1.840276</td>\n",
       "      <td>-1.155154</td>\n",
       "    </tr>\n",
       "    <tr>\n",
       "      <th>5</th>\n",
       "      <td>-0.428365</td>\n",
       "      <td>0.341423</td>\n",
       "      <td>0.202372</td>\n",
       "    </tr>\n",
       "    <tr>\n",
       "      <th>6</th>\n",
       "      <td>-0.568956</td>\n",
       "      <td>1.686180</td>\n",
       "      <td>-0.871047</td>\n",
       "    </tr>\n",
       "  </tbody>\n",
       "</table>\n",
       "</div>"
      ],
      "text/plain": [
       "          0         1         2\n",
       "0  1.675691 -0.875081  0.623822\n",
       "1 -0.257640 -0.328030  1.334650\n",
       "2 -0.167721  1.448707 -0.926976\n",
       "3 -0.509818  1.438268 -0.559362\n",
       "4 -0.247201  1.840276 -1.155154\n",
       "5 -0.428365  0.341423  0.202372\n",
       "6 -0.568956  1.686180 -0.871047"
      ]
     },
     "execution_count": 4,
     "metadata": {},
     "output_type": "execute_result"
    }
   ],
   "source": [
    "df = pd.DataFrame(rng.normal(size=(7, 3)))\n",
    "\n",
    "df"
   ]
  },
  {
   "cell_type": "code",
   "execution_count": 5,
   "id": "76919dc1",
   "metadata": {},
   "outputs": [
    {
     "data": {
      "text/html": [
       "<div>\n",
       "<style scoped>\n",
       "    .dataframe tbody tr th:only-of-type {\n",
       "        vertical-align: middle;\n",
       "    }\n",
       "\n",
       "    .dataframe tbody tr th {\n",
       "        vertical-align: top;\n",
       "    }\n",
       "\n",
       "    .dataframe thead th {\n",
       "        text-align: right;\n",
       "    }\n",
       "</style>\n",
       "<table border=\"1\" class=\"dataframe\">\n",
       "  <thead>\n",
       "    <tr style=\"text-align: right;\">\n",
       "      <th></th>\n",
       "      <th>0</th>\n",
       "      <th>1</th>\n",
       "      <th>2</th>\n",
       "    </tr>\n",
       "  </thead>\n",
       "  <tbody>\n",
       "    <tr>\n",
       "      <th>6</th>\n",
       "      <td>-0.568956</td>\n",
       "      <td>1.686180</td>\n",
       "      <td>-0.871047</td>\n",
       "    </tr>\n",
       "    <tr>\n",
       "      <th>5</th>\n",
       "      <td>-0.428365</td>\n",
       "      <td>0.341423</td>\n",
       "      <td>0.202372</td>\n",
       "    </tr>\n",
       "    <tr>\n",
       "      <th>4</th>\n",
       "      <td>-0.247201</td>\n",
       "      <td>1.840276</td>\n",
       "      <td>-1.155154</td>\n",
       "    </tr>\n",
       "    <tr>\n",
       "      <th>3</th>\n",
       "      <td>-0.509818</td>\n",
       "      <td>1.438268</td>\n",
       "      <td>-0.559362</td>\n",
       "    </tr>\n",
       "    <tr>\n",
       "      <th>2</th>\n",
       "      <td>-0.167721</td>\n",
       "      <td>1.448707</td>\n",
       "      <td>-0.926976</td>\n",
       "    </tr>\n",
       "    <tr>\n",
       "      <th>1</th>\n",
       "      <td>-0.257640</td>\n",
       "      <td>-0.328030</td>\n",
       "      <td>1.334650</td>\n",
       "    </tr>\n",
       "    <tr>\n",
       "      <th>0</th>\n",
       "      <td>1.675691</td>\n",
       "      <td>-0.875081</td>\n",
       "      <td>0.623822</td>\n",
       "    </tr>\n",
       "  </tbody>\n",
       "</table>\n",
       "</div>"
      ],
      "text/plain": [
       "          0         1         2\n",
       "6 -0.568956  1.686180 -0.871047\n",
       "5 -0.428365  0.341423  0.202372\n",
       "4 -0.247201  1.840276 -1.155154\n",
       "3 -0.509818  1.438268 -0.559362\n",
       "2 -0.167721  1.448707 -0.926976\n",
       "1 -0.257640 -0.328030  1.334650\n",
       "0  1.675691 -0.875081  0.623822"
      ]
     },
     "execution_count": 5,
     "metadata": {},
     "output_type": "execute_result"
    }
   ],
   "source": [
    "df.sort_index(ascending=False)"
   ]
  },
  {
   "cell_type": "code",
   "execution_count": 6,
   "id": "43557141",
   "metadata": {},
   "outputs": [
    {
     "data": {
      "text/html": [
       "<div>\n",
       "<style scoped>\n",
       "    .dataframe tbody tr th:only-of-type {\n",
       "        vertical-align: middle;\n",
       "    }\n",
       "\n",
       "    .dataframe tbody tr th {\n",
       "        vertical-align: top;\n",
       "    }\n",
       "\n",
       "    .dataframe thead th {\n",
       "        text-align: right;\n",
       "    }\n",
       "</style>\n",
       "<table border=\"1\" class=\"dataframe\">\n",
       "  <thead>\n",
       "    <tr style=\"text-align: right;\">\n",
       "      <th></th>\n",
       "      <th>2</th>\n",
       "      <th>1</th>\n",
       "      <th>0</th>\n",
       "    </tr>\n",
       "  </thead>\n",
       "  <tbody>\n",
       "    <tr>\n",
       "      <th>0</th>\n",
       "      <td>0.623822</td>\n",
       "      <td>-0.875081</td>\n",
       "      <td>1.675691</td>\n",
       "    </tr>\n",
       "    <tr>\n",
       "      <th>1</th>\n",
       "      <td>1.334650</td>\n",
       "      <td>-0.328030</td>\n",
       "      <td>-0.257640</td>\n",
       "    </tr>\n",
       "    <tr>\n",
       "      <th>2</th>\n",
       "      <td>-0.926976</td>\n",
       "      <td>1.448707</td>\n",
       "      <td>-0.167721</td>\n",
       "    </tr>\n",
       "    <tr>\n",
       "      <th>3</th>\n",
       "      <td>-0.559362</td>\n",
       "      <td>1.438268</td>\n",
       "      <td>-0.509818</td>\n",
       "    </tr>\n",
       "    <tr>\n",
       "      <th>4</th>\n",
       "      <td>-1.155154</td>\n",
       "      <td>1.840276</td>\n",
       "      <td>-0.247201</td>\n",
       "    </tr>\n",
       "    <tr>\n",
       "      <th>5</th>\n",
       "      <td>0.202372</td>\n",
       "      <td>0.341423</td>\n",
       "      <td>-0.428365</td>\n",
       "    </tr>\n",
       "    <tr>\n",
       "      <th>6</th>\n",
       "      <td>-0.871047</td>\n",
       "      <td>1.686180</td>\n",
       "      <td>-0.568956</td>\n",
       "    </tr>\n",
       "  </tbody>\n",
       "</table>\n",
       "</div>"
      ],
      "text/plain": [
       "          2         1         0\n",
       "0  0.623822 -0.875081  1.675691\n",
       "1  1.334650 -0.328030 -0.257640\n",
       "2 -0.926976  1.448707 -0.167721\n",
       "3 -0.559362  1.438268 -0.509818\n",
       "4 -1.155154  1.840276 -0.247201\n",
       "5  0.202372  0.341423 -0.428365\n",
       "6 -0.871047  1.686180 -0.568956"
      ]
     },
     "execution_count": 6,
     "metadata": {},
     "output_type": "execute_result"
    }
   ],
   "source": [
    "df.sort_index(axis=1, ascending=False)"
   ]
  },
  {
   "cell_type": "markdown",
   "id": "b7d2ad58",
   "metadata": {},
   "source": [
    "When sorting a DataFrame, you can use the data in one or more columns as sort keys. To do this, you pass one or more column names to the `by` option of `sort_values`:"
   ]
  },
  {
   "cell_type": "code",
   "execution_count": 7,
   "id": "4434aab8",
   "metadata": {},
   "outputs": [
    {
     "data": {
      "text/html": [
       "<div>\n",
       "<style scoped>\n",
       "    .dataframe tbody tr th:only-of-type {\n",
       "        vertical-align: middle;\n",
       "    }\n",
       "\n",
       "    .dataframe tbody tr th {\n",
       "        vertical-align: top;\n",
       "    }\n",
       "\n",
       "    .dataframe thead th {\n",
       "        text-align: right;\n",
       "    }\n",
       "</style>\n",
       "<table border=\"1\" class=\"dataframe\">\n",
       "  <thead>\n",
       "    <tr style=\"text-align: right;\">\n",
       "      <th></th>\n",
       "      <th>0</th>\n",
       "      <th>1</th>\n",
       "      <th>2</th>\n",
       "    </tr>\n",
       "  </thead>\n",
       "  <tbody>\n",
       "    <tr>\n",
       "      <th>4</th>\n",
       "      <td>-0.247201</td>\n",
       "      <td>1.840276</td>\n",
       "      <td>-1.155154</td>\n",
       "    </tr>\n",
       "    <tr>\n",
       "      <th>2</th>\n",
       "      <td>-0.167721</td>\n",
       "      <td>1.448707</td>\n",
       "      <td>-0.926976</td>\n",
       "    </tr>\n",
       "    <tr>\n",
       "      <th>6</th>\n",
       "      <td>-0.568956</td>\n",
       "      <td>1.686180</td>\n",
       "      <td>-0.871047</td>\n",
       "    </tr>\n",
       "    <tr>\n",
       "      <th>3</th>\n",
       "      <td>-0.509818</td>\n",
       "      <td>1.438268</td>\n",
       "      <td>-0.559362</td>\n",
       "    </tr>\n",
       "    <tr>\n",
       "      <th>5</th>\n",
       "      <td>-0.428365</td>\n",
       "      <td>0.341423</td>\n",
       "      <td>0.202372</td>\n",
       "    </tr>\n",
       "    <tr>\n",
       "      <th>0</th>\n",
       "      <td>1.675691</td>\n",
       "      <td>-0.875081</td>\n",
       "      <td>0.623822</td>\n",
       "    </tr>\n",
       "    <tr>\n",
       "      <th>1</th>\n",
       "      <td>-0.257640</td>\n",
       "      <td>-0.328030</td>\n",
       "      <td>1.334650</td>\n",
       "    </tr>\n",
       "  </tbody>\n",
       "</table>\n",
       "</div>"
      ],
      "text/plain": [
       "          0         1         2\n",
       "4 -0.247201  1.840276 -1.155154\n",
       "2 -0.167721  1.448707 -0.926976\n",
       "6 -0.568956  1.686180 -0.871047\n",
       "3 -0.509818  1.438268 -0.559362\n",
       "5 -0.428365  0.341423  0.202372\n",
       "0  1.675691 -0.875081  0.623822\n",
       "1 -0.257640 -0.328030  1.334650"
      ]
     },
     "execution_count": 7,
     "metadata": {},
     "output_type": "execute_result"
    }
   ],
   "source": [
    "df.sort_values(by=2)"
   ]
  },
  {
   "cell_type": "markdown",
   "id": "87373ba3",
   "metadata": {},
   "source": [
    "To sort by several columns, you can pass a list of names."
   ]
  },
  {
   "cell_type": "markdown",
   "id": "44342ce6",
   "metadata": {},
   "source": [
    "Ranking assigns ranks from one to the number of valid data points in an array:"
   ]
  },
  {
   "cell_type": "code",
   "execution_count": 8,
   "id": "d268105f",
   "metadata": {},
   "outputs": [
    {
     "data": {
      "text/html": [
       "<div>\n",
       "<style scoped>\n",
       "    .dataframe tbody tr th:only-of-type {\n",
       "        vertical-align: middle;\n",
       "    }\n",
       "\n",
       "    .dataframe tbody tr th {\n",
       "        vertical-align: top;\n",
       "    }\n",
       "\n",
       "    .dataframe thead th {\n",
       "        text-align: right;\n",
       "    }\n",
       "</style>\n",
       "<table border=\"1\" class=\"dataframe\">\n",
       "  <thead>\n",
       "    <tr style=\"text-align: right;\">\n",
       "      <th></th>\n",
       "      <th>0</th>\n",
       "      <th>1</th>\n",
       "      <th>2</th>\n",
       "    </tr>\n",
       "  </thead>\n",
       "  <tbody>\n",
       "    <tr>\n",
       "      <th>0</th>\n",
       "      <td>7.0</td>\n",
       "      <td>1.0</td>\n",
       "      <td>6.0</td>\n",
       "    </tr>\n",
       "    <tr>\n",
       "      <th>1</th>\n",
       "      <td>4.0</td>\n",
       "      <td>2.0</td>\n",
       "      <td>7.0</td>\n",
       "    </tr>\n",
       "    <tr>\n",
       "      <th>2</th>\n",
       "      <td>6.0</td>\n",
       "      <td>5.0</td>\n",
       "      <td>2.0</td>\n",
       "    </tr>\n",
       "    <tr>\n",
       "      <th>3</th>\n",
       "      <td>2.0</td>\n",
       "      <td>4.0</td>\n",
       "      <td>4.0</td>\n",
       "    </tr>\n",
       "    <tr>\n",
       "      <th>4</th>\n",
       "      <td>5.0</td>\n",
       "      <td>7.0</td>\n",
       "      <td>1.0</td>\n",
       "    </tr>\n",
       "    <tr>\n",
       "      <th>5</th>\n",
       "      <td>3.0</td>\n",
       "      <td>3.0</td>\n",
       "      <td>5.0</td>\n",
       "    </tr>\n",
       "    <tr>\n",
       "      <th>6</th>\n",
       "      <td>1.0</td>\n",
       "      <td>6.0</td>\n",
       "      <td>3.0</td>\n",
       "    </tr>\n",
       "  </tbody>\n",
       "</table>\n",
       "</div>"
      ],
      "text/plain": [
       "     0    1    2\n",
       "0  7.0  1.0  6.0\n",
       "1  4.0  2.0  7.0\n",
       "2  6.0  5.0  2.0\n",
       "3  2.0  4.0  4.0\n",
       "4  5.0  7.0  1.0\n",
       "5  3.0  3.0  5.0\n",
       "6  1.0  6.0  3.0"
      ]
     },
     "execution_count": 8,
     "metadata": {},
     "output_type": "execute_result"
    }
   ],
   "source": [
    "df.rank()"
   ]
  },
  {
   "cell_type": "markdown",
   "id": "831112ef",
   "metadata": {},
   "source": [
    "If ties appear in the ranking, `rank` assigns the middle rank to each group."
   ]
  },
  {
   "cell_type": "code",
   "execution_count": 9,
   "id": "9ba211cb",
   "metadata": {},
   "outputs": [
    {
     "data": {
      "text/html": [
       "<div>\n",
       "<style scoped>\n",
       "    .dataframe tbody tr th:only-of-type {\n",
       "        vertical-align: middle;\n",
       "    }\n",
       "\n",
       "    .dataframe tbody tr th {\n",
       "        vertical-align: top;\n",
       "    }\n",
       "\n",
       "    .dataframe thead th {\n",
       "        text-align: right;\n",
       "    }\n",
       "</style>\n",
       "<table border=\"1\" class=\"dataframe\">\n",
       "  <thead>\n",
       "    <tr style=\"text-align: right;\">\n",
       "      <th></th>\n",
       "      <th>0</th>\n",
       "      <th>1</th>\n",
       "      <th>2</th>\n",
       "    </tr>\n",
       "  </thead>\n",
       "  <tbody>\n",
       "    <tr>\n",
       "      <th>0</th>\n",
       "      <td>7.0</td>\n",
       "      <td>1.0</td>\n",
       "      <td>6.0</td>\n",
       "    </tr>\n",
       "    <tr>\n",
       "      <th>1</th>\n",
       "      <td>4.0</td>\n",
       "      <td>2.0</td>\n",
       "      <td>7.0</td>\n",
       "    </tr>\n",
       "    <tr>\n",
       "      <th>2</th>\n",
       "      <td>6.0</td>\n",
       "      <td>5.0</td>\n",
       "      <td>2.0</td>\n",
       "    </tr>\n",
       "    <tr>\n",
       "      <th>3</th>\n",
       "      <td>2.0</td>\n",
       "      <td>4.0</td>\n",
       "      <td>4.0</td>\n",
       "    </tr>\n",
       "    <tr>\n",
       "      <th>4</th>\n",
       "      <td>5.0</td>\n",
       "      <td>7.0</td>\n",
       "      <td>1.0</td>\n",
       "    </tr>\n",
       "    <tr>\n",
       "      <th>5</th>\n",
       "      <td>3.0</td>\n",
       "      <td>3.0</td>\n",
       "      <td>5.0</td>\n",
       "    </tr>\n",
       "    <tr>\n",
       "      <th>6</th>\n",
       "      <td>1.0</td>\n",
       "      <td>6.0</td>\n",
       "      <td>3.0</td>\n",
       "    </tr>\n",
       "  </tbody>\n",
       "</table>\n",
       "</div>"
      ],
      "text/plain": [
       "     0    1    2\n",
       "0  7.0  1.0  6.0\n",
       "1  4.0  2.0  7.0\n",
       "2  6.0  5.0  2.0\n",
       "3  2.0  4.0  4.0\n",
       "4  5.0  7.0  1.0\n",
       "5  3.0  3.0  5.0\n",
       "6  1.0  6.0  3.0"
      ]
     },
     "execution_count": 9,
     "metadata": {},
     "output_type": "execute_result"
    }
   ],
   "source": [
    "df.rank(method='max')"
   ]
  },
  {
   "cell_type": "markdown",
   "id": "92587f56",
   "metadata": {},
   "source": [
    "## Other methods with `rank`\n",
    "\n",
    "Method | Description\n",
    ":----- | :----------\n",
    "`average` | default: assign the average rank to each entry in the same group\n",
    "`min` | uses the minimum rank for the whole group\n",
    "`max` | uses the maximum rank for the whole group\n",
    "`first` | assigns the ranks in the order in which the values appear in the data\n",
    "`dense` | like `method='min'` but the ranks always increase by 1 between groups and not according to the number of same items in a group"
   ]
  }
 ],
 "metadata": {
  "kernelspec": {
   "display_name": "Python 3.8",
   "language": "python",
   "name": "python-38"
  },
  "language_info": {
   "codemirror_mode": {
    "name": "ipython",
    "version": 3
   },
   "file_extension": ".py",
   "mimetype": "text/x-python",
   "name": "python",
   "nbconvert_exporter": "python",
   "pygments_lexer": "ipython3",
   "version": "3.8.12"
  }
 },
 "nbformat": 4,
 "nbformat_minor": 5
}
