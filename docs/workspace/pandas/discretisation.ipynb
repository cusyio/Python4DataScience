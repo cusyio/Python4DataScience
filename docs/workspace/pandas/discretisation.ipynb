{
 "cells": [
  {
   "cell_type": "markdown",
   "id": "3846df8f",
   "metadata": {},
   "source": [
    "# Discretisation and grouping\n",
    "\n",
    "Continuous data are often discretised or otherwise grouped into for analysis."
   ]
  },
  {
   "cell_type": "markdown",
   "id": "625f4a8b",
   "metadata": {},
   "source": [
    "Suppose you have data on a group of people in a study that you want to divide into discrete age groups. For this, we generate a dataframe with 250 entries between `0` and `99`:"
   ]
  },
  {
   "cell_type": "code",
   "execution_count": 1,
   "id": "fe17e156",
   "metadata": {},
   "outputs": [
    {
     "data": {
      "text/html": [
       "<div>\n",
       "<style scoped>\n",
       "    .dataframe tbody tr th:only-of-type {\n",
       "        vertical-align: middle;\n",
       "    }\n",
       "\n",
       "    .dataframe tbody tr th {\n",
       "        vertical-align: top;\n",
       "    }\n",
       "\n",
       "    .dataframe thead th {\n",
       "        text-align: right;\n",
       "    }\n",
       "</style>\n",
       "<table border=\"1\" class=\"dataframe\">\n",
       "  <thead>\n",
       "    <tr style=\"text-align: right;\">\n",
       "      <th></th>\n",
       "      <th>Age</th>\n",
       "    </tr>\n",
       "  </thead>\n",
       "  <tbody>\n",
       "    <tr>\n",
       "      <th>0</th>\n",
       "      <td>12</td>\n",
       "    </tr>\n",
       "    <tr>\n",
       "      <th>1</th>\n",
       "      <td>6</td>\n",
       "    </tr>\n",
       "    <tr>\n",
       "      <th>2</th>\n",
       "      <td>47</td>\n",
       "    </tr>\n",
       "    <tr>\n",
       "      <th>3</th>\n",
       "      <td>14</td>\n",
       "    </tr>\n",
       "    <tr>\n",
       "      <th>4</th>\n",
       "      <td>73</td>\n",
       "    </tr>\n",
       "    <tr>\n",
       "      <th>...</th>\n",
       "      <td>...</td>\n",
       "    </tr>\n",
       "    <tr>\n",
       "      <th>245</th>\n",
       "      <td>97</td>\n",
       "    </tr>\n",
       "    <tr>\n",
       "      <th>246</th>\n",
       "      <td>17</td>\n",
       "    </tr>\n",
       "    <tr>\n",
       "      <th>247</th>\n",
       "      <td>24</td>\n",
       "    </tr>\n",
       "    <tr>\n",
       "      <th>248</th>\n",
       "      <td>91</td>\n",
       "    </tr>\n",
       "    <tr>\n",
       "      <th>249</th>\n",
       "      <td>48</td>\n",
       "    </tr>\n",
       "  </tbody>\n",
       "</table>\n",
       "<p>250 rows × 1 columns</p>\n",
       "</div>"
      ],
      "text/plain": [
       "     Age\n",
       "0     12\n",
       "1      6\n",
       "2     47\n",
       "3     14\n",
       "4     73\n",
       "..   ...\n",
       "245   97\n",
       "246   17\n",
       "247   24\n",
       "248   91\n",
       "249   48\n",
       "\n",
       "[250 rows x 1 columns]"
      ]
     },
     "execution_count": 1,
     "metadata": {},
     "output_type": "execute_result"
    }
   ],
   "source": [
    "import pandas as pd\n",
    "import numpy as np\n",
    "\n",
    "ages = np.random.randint(0, 99, 250)\n",
    "df = pd.DataFrame({\"Age\": ages})\n",
    "\n",
    "df"
   ]
  },
  {
   "cell_type": "markdown",
   "id": "8717607a",
   "metadata": {},
   "source": [
    "Afterwards, pandas offers us a simple way to divide the results into ten ranges with [pandas.cut](https://pandas.pydata.org/pandas-docs/stable/reference/api/pandas.cut.html). To get only whole years, we additionally set `precision=0`:"
   ]
  },
  {
   "cell_type": "code",
   "execution_count": 2,
   "id": "2c89e759",
   "metadata": {
    "scrolled": true
   },
   "outputs": [
    {
     "data": {
      "text/plain": [
       "[(10.0, 20.0], (-0.1, 10.0], (39.0, 49.0], (10.0, 20.0], (69.0, 78.0], ..., (88.0, 98.0], (10.0, 20.0], (20.0, 29.0], (88.0, 98.0], (39.0, 49.0]]\n",
       "Length: 250\n",
       "Categories (10, interval[float64, right]): [(-0.1, 10.0] < (10.0, 20.0] < (20.0, 29.0] < (29.0, 39.0] ... (59.0, 69.0] < (69.0, 78.0] < (78.0, 88.0] < (88.0, 98.0]]"
      ]
     },
     "execution_count": 2,
     "metadata": {},
     "output_type": "execute_result"
    }
   ],
   "source": [
    "cats = pd.cut(ages, 10, precision=0)\n",
    "\n",
    "cats"
   ]
  },
  {
   "cell_type": "markdown",
   "id": "40135b6f",
   "metadata": {},
   "source": [
    "With [pandas.Categorical.categories](https://pandas.pydata.org/docs/reference/api/pandas.Categorical.categories.html) you can display the categories:"
   ]
  },
  {
   "cell_type": "code",
   "execution_count": 3,
   "id": "48c787f3",
   "metadata": {},
   "outputs": [
    {
     "data": {
      "text/plain": [
       "IntervalIndex([(-0.1, 10.0], (10.0, 20.0], (20.0, 29.0], (29.0, 39.0], (39.0, 49.0], (49.0, 59.0], (59.0, 69.0], (69.0, 78.0], (78.0, 88.0], (88.0, 98.0]], dtype='interval[float64, right]')"
      ]
     },
     "execution_count": 3,
     "metadata": {},
     "output_type": "execute_result"
    }
   ],
   "source": [
    "cats.categories"
   ]
  },
  {
   "cell_type": "markdown",
   "id": "02e317d1",
   "metadata": {},
   "source": [
    "…oder auch nur eine einzelne Kategorie:"
   ]
  },
  {
   "cell_type": "code",
   "execution_count": 4,
   "id": "59da3a5e",
   "metadata": {},
   "outputs": [
    {
     "data": {
      "text/plain": [
       "Interval(-0.1, 10.0, closed='right')"
      ]
     },
     "execution_count": 4,
     "metadata": {},
     "output_type": "execute_result"
    }
   ],
   "source": [
    "cats.categories[0]"
   ]
  },
  {
   "cell_type": "markdown",
   "id": "c0b5058e",
   "metadata": {},
   "source": [
    "Mit [pandas.Categorical.codes](https://pandas.pydata.org/pandas-docs/stable/reference/api/pandas.Categorical.codes.html) könnt ihr euch ein Array anzeigen lassen, in dem für jeden Wert die zugehörige Kategorie angezeigt wird:"
   ]
  },
  {
   "cell_type": "code",
   "execution_count": 5,
   "id": "ab1def14",
   "metadata": {},
   "outputs": [
    {
     "data": {
      "text/plain": [
       "array([1, 0, 4, 1, 7, 2, 7, 4, 0, 7, 7, 3, 0, 1, 0, 5, 9, 8, 8, 9, 8, 4,\n",
       "       6, 0, 1, 7, 0, 1, 4, 2, 2, 1, 6, 8, 6, 2, 9, 5, 5, 5, 4, 7, 0, 2,\n",
       "       2, 0, 8, 7, 7, 7, 6, 9, 8, 1, 9, 9, 1, 9, 8, 5, 8, 2, 4, 2, 8, 4,\n",
       "       5, 2, 2, 2, 3, 8, 4, 2, 5, 6, 3, 4, 8, 1, 2, 7, 8, 3, 7, 3, 9, 4,\n",
       "       0, 4, 9, 8, 9, 6, 2, 6, 9, 8, 4, 9, 7, 1, 4, 5, 9, 4, 9, 8, 5, 2,\n",
       "       2, 3, 5, 6, 9, 9, 5, 7, 7, 1, 3, 8, 0, 2, 7, 4, 2, 7, 5, 4, 5, 6,\n",
       "       7, 4, 8, 2, 2, 7, 1, 6, 3, 9, 4, 3, 1, 2, 0, 9, 3, 6, 2, 3, 6, 1,\n",
       "       2, 5, 3, 1, 6, 2, 3, 9, 5, 5, 6, 5, 9, 4, 9, 3, 8, 0, 7, 6, 3, 3,\n",
       "       7, 4, 8, 8, 9, 7, 2, 2, 9, 8, 0, 9, 3, 7, 0, 0, 8, 5, 9, 1, 9, 4,\n",
       "       6, 3, 7, 2, 7, 1, 0, 1, 7, 2, 3, 6, 6, 5, 4, 7, 9, 1, 7, 6, 3, 8,\n",
       "       8, 1, 1, 7, 6, 0, 9, 6, 6, 6, 4, 5, 5, 7, 0, 4, 8, 6, 3, 7, 7, 0,\n",
       "       8, 5, 4, 9, 1, 2, 9, 4], dtype=int8)"
      ]
     },
     "execution_count": 5,
     "metadata": {},
     "output_type": "execute_result"
    }
   ],
   "source": [
    "cats.codes"
   ]
  },
  {
   "cell_type": "markdown",
   "id": "f9ed71f2",
   "metadata": {},
   "source": [
    "Mit `value_counts` können wir uns nun anschauen, wie sich die Anzahl auf die einzelnen Bereiche verteilt:"
   ]
  },
  {
   "cell_type": "code",
   "execution_count": 6,
   "id": "927a5a3a",
   "metadata": {},
   "outputs": [
    {
     "data": {
      "text/plain": [
       "(69.0, 78.0]    31\n",
       "(88.0, 98.0]    30\n",
       "(20.0, 29.0]    29\n",
       "(39.0, 49.0]    26\n",
       "(78.0, 88.0]    26\n",
       "(59.0, 69.0]    24\n",
       "(10.0, 20.0]    22\n",
       "(49.0, 59.0]    22\n",
       "(29.0, 39.0]    21\n",
       "(-0.1, 10.0]    19\n",
       "dtype: int64"
      ]
     },
     "execution_count": 6,
     "metadata": {},
     "output_type": "execute_result"
    }
   ],
   "source": [
    "pd.value_counts(cats)"
   ]
  },
  {
   "cell_type": "markdown",
   "id": "0c99667e",
   "metadata": {},
   "source": [
    "Auffalend ist, dass die Altersbereiche nicht gleich viele Jahre enthalten, sondern mit `20.0, 29.0` und `69.0, 78.0` zwei Bereiche nur 9 Jahre umfassen. Dies hängt damit zusammen, dass der Altersumfang nur von `0`bis `98` reicht:"
   ]
  },
  {
   "cell_type": "code",
   "execution_count": 7,
   "id": "062036d8",
   "metadata": {},
   "outputs": [
    {
     "data": {
      "text/plain": [
       "Age    0\n",
       "dtype: int64"
      ]
     },
     "execution_count": 7,
     "metadata": {},
     "output_type": "execute_result"
    }
   ],
   "source": [
    "df.min()"
   ]
  },
  {
   "cell_type": "code",
   "execution_count": 8,
   "id": "9579e708",
   "metadata": {},
   "outputs": [
    {
     "data": {
      "text/plain": [
       "Age    98\n",
       "dtype: int64"
      ]
     },
     "execution_count": 8,
     "metadata": {},
     "output_type": "execute_result"
    }
   ],
   "source": [
    "df.max()"
   ]
  },
  {
   "cell_type": "markdown",
   "id": "d6f7be45",
   "metadata": {},
   "source": [
    "Mit [pandas.qcut](https://pandas.pydata.org/pandas-docs/stable/reference/api/pandas.qcut.html) wird die Menge hingegen in Bereiche unterteilt, die annähernd gleich groß sind:"
   ]
  },
  {
   "cell_type": "code",
   "execution_count": 9,
   "id": "fb4d41b1",
   "metadata": {},
   "outputs": [],
   "source": [
    "cats = pd.qcut(ages, 10, precision=0)"
   ]
  },
  {
   "cell_type": "code",
   "execution_count": 10,
   "id": "81882e78",
   "metadata": {},
   "outputs": [
    {
     "data": {
      "text/plain": [
       "(12.0, 23.0]    27\n",
       "(52.0, 64.0]    27\n",
       "(-1.0, 12.0]    26\n",
       "(64.0, 73.0]    26\n",
       "(91.0, 98.0]    25\n",
       "(23.0, 31.0]    24\n",
       "(31.0, 42.0]    24\n",
       "(42.0, 52.0]    24\n",
       "(81.0, 91.0]    24\n",
       "(73.0, 81.0]    23\n",
       "dtype: int64"
      ]
     },
     "execution_count": 10,
     "metadata": {},
     "output_type": "execute_result"
    }
   ],
   "source": [
    "pd.value_counts(cats)"
   ]
  },
  {
   "cell_type": "markdown",
   "id": "0bfddedf",
   "metadata": {},
   "source": [
    "Wollen wir gewährleisten, dass jede Altersgruppe tatsächlich genau zehn Jahre umfasst, können wir dies mit [pandas.Categorical](https://pandas.pydata.org/docs/reference/api/pandas.Categorical.html) direkt angeben:"
   ]
  },
  {
   "cell_type": "code",
   "execution_count": 11,
   "id": "454b2785",
   "metadata": {},
   "outputs": [
    {
     "data": {
      "text/plain": [
       "Index(['0 - 9', '10 - 19', '100 - 109', '20 - 29', '30 - 39', '40 - 49',\n",
       "       '50 - 59', '60 - 69', '70 - 79', '80 - 89', '90 - 99'],\n",
       "      dtype='object')"
      ]
     },
     "execution_count": 11,
     "metadata": {},
     "output_type": "execute_result"
    }
   ],
   "source": [
    "age_groups = [\"{0} - {1}\".format(i, i + 9) for i in range(0, 109, 10)]\n",
    "cats = pd.Categorical(age_groups)\n",
    "\n",
    "cats.categories"
   ]
  },
  {
   "cell_type": "markdown",
   "id": "827aa4b3",
   "metadata": {},
   "source": [
    "Für die Gruppierung wird nun [pandas.cut](https://pandas.pydata.org/docs/reference/api/pandas.cut.html) verwendet:"
   ]
  },
  {
   "cell_type": "code",
   "execution_count": 12,
   "id": "c6cdff44",
   "metadata": {},
   "outputs": [
    {
     "data": {
      "text/html": [
       "<div>\n",
       "<style scoped>\n",
       "    .dataframe tbody tr th:only-of-type {\n",
       "        vertical-align: middle;\n",
       "    }\n",
       "\n",
       "    .dataframe tbody tr th {\n",
       "        vertical-align: top;\n",
       "    }\n",
       "\n",
       "    .dataframe thead th {\n",
       "        text-align: right;\n",
       "    }\n",
       "</style>\n",
       "<table border=\"1\" class=\"dataframe\">\n",
       "  <thead>\n",
       "    <tr style=\"text-align: right;\">\n",
       "      <th></th>\n",
       "      <th>Age</th>\n",
       "      <th>Age group</th>\n",
       "    </tr>\n",
       "  </thead>\n",
       "  <tbody>\n",
       "    <tr>\n",
       "      <th>0</th>\n",
       "      <td>12</td>\n",
       "      <td>10 - 19</td>\n",
       "    </tr>\n",
       "    <tr>\n",
       "      <th>1</th>\n",
       "      <td>6</td>\n",
       "      <td>0 - 9</td>\n",
       "    </tr>\n",
       "    <tr>\n",
       "      <th>2</th>\n",
       "      <td>47</td>\n",
       "      <td>40 - 49</td>\n",
       "    </tr>\n",
       "    <tr>\n",
       "      <th>3</th>\n",
       "      <td>14</td>\n",
       "      <td>10 - 19</td>\n",
       "    </tr>\n",
       "    <tr>\n",
       "      <th>4</th>\n",
       "      <td>73</td>\n",
       "      <td>70 - 79</td>\n",
       "    </tr>\n",
       "    <tr>\n",
       "      <th>...</th>\n",
       "      <td>...</td>\n",
       "      <td>...</td>\n",
       "    </tr>\n",
       "    <tr>\n",
       "      <th>245</th>\n",
       "      <td>97</td>\n",
       "      <td>90 - 99</td>\n",
       "    </tr>\n",
       "    <tr>\n",
       "      <th>246</th>\n",
       "      <td>17</td>\n",
       "      <td>10 - 19</td>\n",
       "    </tr>\n",
       "    <tr>\n",
       "      <th>247</th>\n",
       "      <td>24</td>\n",
       "      <td>20 - 29</td>\n",
       "    </tr>\n",
       "    <tr>\n",
       "      <th>248</th>\n",
       "      <td>91</td>\n",
       "      <td>90 - 99</td>\n",
       "    </tr>\n",
       "    <tr>\n",
       "      <th>249</th>\n",
       "      <td>48</td>\n",
       "      <td>40 - 49</td>\n",
       "    </tr>\n",
       "  </tbody>\n",
       "</table>\n",
       "<p>250 rows × 2 columns</p>\n",
       "</div>"
      ],
      "text/plain": [
       "     Age Age group\n",
       "0     12   10 - 19\n",
       "1      6     0 - 9\n",
       "2     47   40 - 49\n",
       "3     14   10 - 19\n",
       "4     73   70 - 79\n",
       "..   ...       ...\n",
       "245   97   90 - 99\n",
       "246   17   10 - 19\n",
       "247   24   20 - 29\n",
       "248   91   90 - 99\n",
       "249   48   40 - 49\n",
       "\n",
       "[250 rows x 2 columns]"
      ]
     },
     "execution_count": 12,
     "metadata": {},
     "output_type": "execute_result"
    }
   ],
   "source": [
    "df[\"Age group\"] = pd.cut(df.Age, range(0, 111, 10), right=False, labels=cats)\n",
    "\n",
    "df"
   ]
  }
 ],
 "metadata": {
  "kernelspec": {
   "display_name": "Python 3.8",
   "language": "python",
   "name": "python-38"
  },
  "language_info": {
   "codemirror_mode": {
    "name": "ipython",
    "version": 3
   },
   "file_extension": ".py",
   "mimetype": "text/x-python",
   "name": "python",
   "nbconvert_exporter": "python",
   "pygments_lexer": "ipython3",
   "version": "3.8.12"
  }
 },
 "nbformat": 4,
 "nbformat_minor": 5
}
