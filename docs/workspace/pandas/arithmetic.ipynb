{
 "cells": [
  {
   "cell_type": "markdown",
   "id": "3190418c",
   "metadata": {},
   "source": [
    "# Arithmetic\n",
    "\n",
    "An important function of pandas is the arithmetic behaviour for objects with different indices. When adding objects, if the index pairs are not equal, the corresponding index in the result will be the union of the index pairs. For users with database experience, this is comparable to an automatic [outer join](https://en.wikipedia.org/wiki/Join_(SQL)#Outer_join) on the index labels. Let’s look at an example:"
   ]
  },
  {
   "cell_type": "code",
   "execution_count": 1,
   "id": "d0e54401",
   "metadata": {},
   "outputs": [],
   "source": [
    "import numpy as np\n",
    "import pandas as pd\n",
    "\n",
    "s1 = pd.Series(np.random.randn(5))\n",
    "s2 = pd.Series(np.random.randn(7))"
   ]
  },
  {
   "cell_type": "markdown",
   "id": "9e83be1d",
   "metadata": {},
   "source": [
    "If you add these values, you get:"
   ]
  },
  {
   "cell_type": "code",
   "execution_count": 2,
   "id": "b0354050",
   "metadata": {},
   "outputs": [
    {
     "data": {
      "text/plain": [
       "0   -0.117652\n",
       "1    1.843403\n",
       "2   -1.554283\n",
       "3   -0.052506\n",
       "4   -0.248629\n",
       "5         NaN\n",
       "6         NaN\n",
       "dtype: float64"
      ]
     },
     "execution_count": 2,
     "metadata": {},
     "output_type": "execute_result"
    }
   ],
   "source": [
    "s1 + s2"
   ]
  },
  {
   "cell_type": "markdown",
   "id": "e9de981e",
   "metadata": {},
   "source": [
    "The internal data matching leads to missing values at the points of the labels that do not overlap. Missing values are then passed on in further arithmetic calculations."
   ]
  },
  {
   "cell_type": "markdown",
   "id": "688e7aa0",
   "metadata": {},
   "source": [
    "For DataFrames, alignment is performed for both rows and columns:"
   ]
  },
  {
   "cell_type": "code",
   "execution_count": 3,
   "id": "c945c759",
   "metadata": {},
   "outputs": [],
   "source": [
    "df1 = pd.DataFrame(np.random.randn(5,3))\n",
    "df2 = pd.DataFrame(np.random.randn(7,2))"
   ]
  },
  {
   "cell_type": "markdown",
   "id": "b78acf5b",
   "metadata": {},
   "source": [
    "When the two DataFrames are added together, the result is a DataFrame whose index and columns are the unions of those in each of the DataFrames above:"
   ]
  },
  {
   "cell_type": "code",
   "execution_count": 4,
   "id": "bdf32451",
   "metadata": {},
   "outputs": [
    {
     "data": {
      "text/html": [
       "<div>\n",
       "<style scoped>\n",
       "    .dataframe tbody tr th:only-of-type {\n",
       "        vertical-align: middle;\n",
       "    }\n",
       "\n",
       "    .dataframe tbody tr th {\n",
       "        vertical-align: top;\n",
       "    }\n",
       "\n",
       "    .dataframe thead th {\n",
       "        text-align: right;\n",
       "    }\n",
       "</style>\n",
       "<table border=\"1\" class=\"dataframe\">\n",
       "  <thead>\n",
       "    <tr style=\"text-align: right;\">\n",
       "      <th></th>\n",
       "      <th>0</th>\n",
       "      <th>1</th>\n",
       "      <th>2</th>\n",
       "    </tr>\n",
       "  </thead>\n",
       "  <tbody>\n",
       "    <tr>\n",
       "      <th>0</th>\n",
       "      <td>-1.617414</td>\n",
       "      <td>1.480734</td>\n",
       "      <td>NaN</td>\n",
       "    </tr>\n",
       "    <tr>\n",
       "      <th>1</th>\n",
       "      <td>1.060217</td>\n",
       "      <td>2.245327</td>\n",
       "      <td>NaN</td>\n",
       "    </tr>\n",
       "    <tr>\n",
       "      <th>2</th>\n",
       "      <td>0.604860</td>\n",
       "      <td>-1.533916</td>\n",
       "      <td>NaN</td>\n",
       "    </tr>\n",
       "    <tr>\n",
       "      <th>3</th>\n",
       "      <td>-0.487990</td>\n",
       "      <td>-1.244289</td>\n",
       "      <td>NaN</td>\n",
       "    </tr>\n",
       "    <tr>\n",
       "      <th>4</th>\n",
       "      <td>-2.641149</td>\n",
       "      <td>-1.044312</td>\n",
       "      <td>NaN</td>\n",
       "    </tr>\n",
       "    <tr>\n",
       "      <th>5</th>\n",
       "      <td>NaN</td>\n",
       "      <td>NaN</td>\n",
       "      <td>NaN</td>\n",
       "    </tr>\n",
       "    <tr>\n",
       "      <th>6</th>\n",
       "      <td>NaN</td>\n",
       "      <td>NaN</td>\n",
       "      <td>NaN</td>\n",
       "    </tr>\n",
       "  </tbody>\n",
       "</table>\n",
       "</div>"
      ],
      "text/plain": [
       "          0         1   2\n",
       "0 -1.617414  1.480734 NaN\n",
       "1  1.060217  2.245327 NaN\n",
       "2  0.604860 -1.533916 NaN\n",
       "3 -0.487990 -1.244289 NaN\n",
       "4 -2.641149 -1.044312 NaN\n",
       "5       NaN       NaN NaN\n",
       "6       NaN       NaN NaN"
      ]
     },
     "execution_count": 4,
     "metadata": {},
     "output_type": "execute_result"
    }
   ],
   "source": [
    "df1 + df2"
   ]
  },
  {
   "cell_type": "markdown",
   "id": "f27bb97e",
   "metadata": {},
   "source": [
    "Since column 2 does not appear in both DataFrame objects, its values appear as missing in the result. The same applies to the rows whose labels do not appear in both objects."
   ]
  },
  {
   "cell_type": "markdown",
   "id": "c0e88200",
   "metadata": {},
   "source": [
    "## Arithmetic methods with fill values\n",
    "\n",
    "In arithmetic operations between differently indexed objects, a special value (e.g. `0`) can be useful if an axis label is found in one object but not in the other.  The `add` method can pass the `fill_value` argument:"
   ]
  },
  {
   "cell_type": "code",
   "execution_count": 5,
   "id": "6d82abcd",
   "metadata": {},
   "outputs": [
    {
     "data": {
      "text/html": [
       "<div>\n",
       "<style scoped>\n",
       "    .dataframe tbody tr th:only-of-type {\n",
       "        vertical-align: middle;\n",
       "    }\n",
       "\n",
       "    .dataframe tbody tr th {\n",
       "        vertical-align: top;\n",
       "    }\n",
       "\n",
       "    .dataframe thead th {\n",
       "        text-align: right;\n",
       "    }\n",
       "</style>\n",
       "<table border=\"1\" class=\"dataframe\">\n",
       "  <thead>\n",
       "    <tr style=\"text-align: right;\">\n",
       "      <th></th>\n",
       "      <th>0</th>\n",
       "      <th>1</th>\n",
       "      <th>2</th>\n",
       "    </tr>\n",
       "  </thead>\n",
       "  <tbody>\n",
       "    <tr>\n",
       "      <th>0</th>\n",
       "      <td>-1.617414</td>\n",
       "      <td>1.480734</td>\n",
       "      <td>-0.344406</td>\n",
       "    </tr>\n",
       "    <tr>\n",
       "      <th>1</th>\n",
       "      <td>1.060217</td>\n",
       "      <td>2.245327</td>\n",
       "      <td>-0.487406</td>\n",
       "    </tr>\n",
       "    <tr>\n",
       "      <th>2</th>\n",
       "      <td>0.604860</td>\n",
       "      <td>-1.533916</td>\n",
       "      <td>-0.624491</td>\n",
       "    </tr>\n",
       "    <tr>\n",
       "      <th>3</th>\n",
       "      <td>-0.487990</td>\n",
       "      <td>-1.244289</td>\n",
       "      <td>-1.204230</td>\n",
       "    </tr>\n",
       "    <tr>\n",
       "      <th>4</th>\n",
       "      <td>-2.641149</td>\n",
       "      <td>-1.044312</td>\n",
       "      <td>0.997933</td>\n",
       "    </tr>\n",
       "    <tr>\n",
       "      <th>5</th>\n",
       "      <td>-0.656236</td>\n",
       "      <td>-1.913285</td>\n",
       "      <td>NaN</td>\n",
       "    </tr>\n",
       "    <tr>\n",
       "      <th>6</th>\n",
       "      <td>1.864685</td>\n",
       "      <td>1.405582</td>\n",
       "      <td>NaN</td>\n",
       "    </tr>\n",
       "  </tbody>\n",
       "</table>\n",
       "</div>"
      ],
      "text/plain": [
       "          0         1         2\n",
       "0 -1.617414  1.480734 -0.344406\n",
       "1  1.060217  2.245327 -0.487406\n",
       "2  0.604860 -1.533916 -0.624491\n",
       "3 -0.487990 -1.244289 -1.204230\n",
       "4 -2.641149 -1.044312  0.997933\n",
       "5 -0.656236 -1.913285       NaN\n",
       "6  1.864685  1.405582       NaN"
      ]
     },
     "execution_count": 5,
     "metadata": {},
     "output_type": "execute_result"
    }
   ],
   "source": [
    "df12 = df1.add(df2, fill_value=0)\n",
    "\n",
    "df12"
   ]
  },
  {
   "cell_type": "markdown",
   "id": "b5f00f94",
   "metadata": {},
   "source": [
    "In the following example, we set the two remaining NaN values to `0`:"
   ]
  },
  {
   "cell_type": "code",
   "execution_count": 6,
   "id": "c190d94e",
   "metadata": {},
   "outputs": [],
   "source": [
    "df12.iloc[[5,6], [2]] = 0"
   ]
  },
  {
   "cell_type": "code",
   "execution_count": 7,
   "id": "d2074c38",
   "metadata": {},
   "outputs": [
    {
     "data": {
      "text/html": [
       "<div>\n",
       "<style scoped>\n",
       "    .dataframe tbody tr th:only-of-type {\n",
       "        vertical-align: middle;\n",
       "    }\n",
       "\n",
       "    .dataframe tbody tr th {\n",
       "        vertical-align: top;\n",
       "    }\n",
       "\n",
       "    .dataframe thead th {\n",
       "        text-align: right;\n",
       "    }\n",
       "</style>\n",
       "<table border=\"1\" class=\"dataframe\">\n",
       "  <thead>\n",
       "    <tr style=\"text-align: right;\">\n",
       "      <th></th>\n",
       "      <th>0</th>\n",
       "      <th>1</th>\n",
       "      <th>2</th>\n",
       "    </tr>\n",
       "  </thead>\n",
       "  <tbody>\n",
       "    <tr>\n",
       "      <th>0</th>\n",
       "      <td>-1.617414</td>\n",
       "      <td>1.480734</td>\n",
       "      <td>-0.344406</td>\n",
       "    </tr>\n",
       "    <tr>\n",
       "      <th>1</th>\n",
       "      <td>1.060217</td>\n",
       "      <td>2.245327</td>\n",
       "      <td>-0.487406</td>\n",
       "    </tr>\n",
       "    <tr>\n",
       "      <th>2</th>\n",
       "      <td>0.604860</td>\n",
       "      <td>-1.533916</td>\n",
       "      <td>-0.624491</td>\n",
       "    </tr>\n",
       "    <tr>\n",
       "      <th>3</th>\n",
       "      <td>-0.487990</td>\n",
       "      <td>-1.244289</td>\n",
       "      <td>-1.204230</td>\n",
       "    </tr>\n",
       "    <tr>\n",
       "      <th>4</th>\n",
       "      <td>-2.641149</td>\n",
       "      <td>-1.044312</td>\n",
       "      <td>0.997933</td>\n",
       "    </tr>\n",
       "    <tr>\n",
       "      <th>5</th>\n",
       "      <td>-0.656236</td>\n",
       "      <td>-1.913285</td>\n",
       "      <td>0.000000</td>\n",
       "    </tr>\n",
       "    <tr>\n",
       "      <th>6</th>\n",
       "      <td>1.864685</td>\n",
       "      <td>1.405582</td>\n",
       "      <td>0.000000</td>\n",
       "    </tr>\n",
       "  </tbody>\n",
       "</table>\n",
       "</div>"
      ],
      "text/plain": [
       "          0         1         2\n",
       "0 -1.617414  1.480734 -0.344406\n",
       "1  1.060217  2.245327 -0.487406\n",
       "2  0.604860 -1.533916 -0.624491\n",
       "3 -0.487990 -1.244289 -1.204230\n",
       "4 -2.641149 -1.044312  0.997933\n",
       "5 -0.656236 -1.913285  0.000000\n",
       "6  1.864685  1.405582  0.000000"
      ]
     },
     "execution_count": 7,
     "metadata": {},
     "output_type": "execute_result"
    }
   ],
   "source": [
    "df12"
   ]
  },
  {
   "cell_type": "markdown",
   "id": "7e2bd526",
   "metadata": {},
   "source": [
    "## Arithmetic methods\n",
    "\n",
    "Method | Description\n",
    ":----- | :----------\n",
    "`add`, `radd` | methods for addition (`+`)\n",
    "`sub`, `rsub` | methods for subtraction (`-`)\n",
    "`div`, `rdiv` | methods for division (`/`)\n",
    "`floordiv`, `rfloordiv` | methods for floor division (`//`)\n",
    "`mul`, `rmul` | methods for multiplication (`*`)\n",
    "`pow`, `rpow` | methods for exponentiation (`**`)\n",
    "\n",
    "`r` (English: _reverse_) reverses the method."
   ]
  },
  {
   "cell_type": "markdown",
   "id": "8aa72241",
   "metadata": {},
   "source": [
    "## Operations between DataFrame and Series\n",
    "\n",
    "As with NumPy arrays of different dimensions, the arithmetic between DataFrame and Series is also defined."
   ]
  },
  {
   "cell_type": "code",
   "execution_count": 8,
   "id": "d123165f",
   "metadata": {},
   "outputs": [
    {
     "data": {
      "text/html": [
       "<div>\n",
       "<style scoped>\n",
       "    .dataframe tbody tr th:only-of-type {\n",
       "        vertical-align: middle;\n",
       "    }\n",
       "\n",
       "    .dataframe tbody tr th {\n",
       "        vertical-align: top;\n",
       "    }\n",
       "\n",
       "    .dataframe thead th {\n",
       "        text-align: right;\n",
       "    }\n",
       "</style>\n",
       "<table border=\"1\" class=\"dataframe\">\n",
       "  <thead>\n",
       "    <tr style=\"text-align: right;\">\n",
       "      <th></th>\n",
       "      <th>0</th>\n",
       "      <th>1</th>\n",
       "      <th>2</th>\n",
       "      <th>3</th>\n",
       "      <th>4</th>\n",
       "    </tr>\n",
       "  </thead>\n",
       "  <tbody>\n",
       "    <tr>\n",
       "      <th>0</th>\n",
       "      <td>-3.413133</td>\n",
       "      <td>2.531767</td>\n",
       "      <td>-0.858270</td>\n",
       "      <td>NaN</td>\n",
       "      <td>NaN</td>\n",
       "    </tr>\n",
       "    <tr>\n",
       "      <th>1</th>\n",
       "      <td>-0.735503</td>\n",
       "      <td>3.296360</td>\n",
       "      <td>-1.001270</td>\n",
       "      <td>NaN</td>\n",
       "      <td>NaN</td>\n",
       "    </tr>\n",
       "    <tr>\n",
       "      <th>2</th>\n",
       "      <td>-1.190859</td>\n",
       "      <td>-0.482883</td>\n",
       "      <td>-1.138355</td>\n",
       "      <td>NaN</td>\n",
       "      <td>NaN</td>\n",
       "    </tr>\n",
       "    <tr>\n",
       "      <th>3</th>\n",
       "      <td>-2.283709</td>\n",
       "      <td>-0.193256</td>\n",
       "      <td>-1.718093</td>\n",
       "      <td>NaN</td>\n",
       "      <td>NaN</td>\n",
       "    </tr>\n",
       "    <tr>\n",
       "      <th>4</th>\n",
       "      <td>-4.436868</td>\n",
       "      <td>0.006721</td>\n",
       "      <td>0.484069</td>\n",
       "      <td>NaN</td>\n",
       "      <td>NaN</td>\n",
       "    </tr>\n",
       "    <tr>\n",
       "      <th>5</th>\n",
       "      <td>-2.451955</td>\n",
       "      <td>-0.862252</td>\n",
       "      <td>-0.513864</td>\n",
       "      <td>NaN</td>\n",
       "      <td>NaN</td>\n",
       "    </tr>\n",
       "    <tr>\n",
       "      <th>6</th>\n",
       "      <td>0.068966</td>\n",
       "      <td>2.456614</td>\n",
       "      <td>-0.513864</td>\n",
       "      <td>NaN</td>\n",
       "      <td>NaN</td>\n",
       "    </tr>\n",
       "  </tbody>\n",
       "</table>\n",
       "</div>"
      ],
      "text/plain": [
       "          0         1         2   3   4\n",
       "0 -3.413133  2.531767 -0.858270 NaN NaN\n",
       "1 -0.735503  3.296360 -1.001270 NaN NaN\n",
       "2 -1.190859 -0.482883 -1.138355 NaN NaN\n",
       "3 -2.283709 -0.193256 -1.718093 NaN NaN\n",
       "4 -4.436868  0.006721  0.484069 NaN NaN\n",
       "5 -2.451955 -0.862252 -0.513864 NaN NaN\n",
       "6  0.068966  2.456614 -0.513864 NaN NaN"
      ]
     },
     "execution_count": 8,
     "metadata": {},
     "output_type": "execute_result"
    }
   ],
   "source": [
    "s1 + df12"
   ]
  },
  {
   "cell_type": "markdown",
   "id": "5471b6ac",
   "metadata": {},
   "source": [
    "If we add `s1` with `df12`, the additon is done once for each line. This is called _broadcasting_. By default, the arithmetic between the DataFrame and the series corresponds to the index of the series in the columns of the DataFrame, with the rows being broadcast down."
   ]
  },
  {
   "cell_type": "markdown",
   "id": "d65352b0",
   "metadata": {},
   "source": [
    "If an index value is found neither in the columns of the DataFrame nor in the index of the series, the objects are re-indexed to form the union:"
   ]
  },
  {
   "cell_type": "markdown",
   "id": "a2e5f57f",
   "metadata": {},
   "source": [
    "If instead you want to transfer the columns and match the rows, you must use one of the arithmetic methods, for example:"
   ]
  },
  {
   "cell_type": "code",
   "execution_count": 9,
   "id": "ebde36c7",
   "metadata": {},
   "outputs": [
    {
     "data": {
      "text/html": [
       "<div>\n",
       "<style scoped>\n",
       "    .dataframe tbody tr th:only-of-type {\n",
       "        vertical-align: middle;\n",
       "    }\n",
       "\n",
       "    .dataframe tbody tr th {\n",
       "        vertical-align: top;\n",
       "    }\n",
       "\n",
       "    .dataframe thead th {\n",
       "        text-align: right;\n",
       "    }\n",
       "</style>\n",
       "<table border=\"1\" class=\"dataframe\">\n",
       "  <thead>\n",
       "    <tr style=\"text-align: right;\">\n",
       "      <th></th>\n",
       "      <th>0</th>\n",
       "      <th>1</th>\n",
       "      <th>2</th>\n",
       "    </tr>\n",
       "  </thead>\n",
       "  <tbody>\n",
       "    <tr>\n",
       "      <th>0</th>\n",
       "      <td>0.060653</td>\n",
       "      <td>3.158801</td>\n",
       "      <td>1.333661</td>\n",
       "    </tr>\n",
       "    <tr>\n",
       "      <th>1</th>\n",
       "      <td>1.852586</td>\n",
       "      <td>3.037697</td>\n",
       "      <td>0.304963</td>\n",
       "    </tr>\n",
       "    <tr>\n",
       "      <th>2</th>\n",
       "      <td>-0.435558</td>\n",
       "      <td>-2.574335</td>\n",
       "      <td>-1.664910</td>\n",
       "    </tr>\n",
       "    <tr>\n",
       "      <th>3</th>\n",
       "      <td>0.723141</td>\n",
       "      <td>-0.033158</td>\n",
       "      <td>0.006902</td>\n",
       "    </tr>\n",
       "    <tr>\n",
       "      <th>4</th>\n",
       "      <td>-2.536814</td>\n",
       "      <td>-0.939976</td>\n",
       "      <td>1.102269</td>\n",
       "    </tr>\n",
       "    <tr>\n",
       "      <th>5</th>\n",
       "      <td>-1.370872</td>\n",
       "      <td>-2.627920</td>\n",
       "      <td>-0.714636</td>\n",
       "    </tr>\n",
       "    <tr>\n",
       "      <th>6</th>\n",
       "      <td>0.512718</td>\n",
       "      <td>0.053615</td>\n",
       "      <td>-1.351967</td>\n",
       "    </tr>\n",
       "  </tbody>\n",
       "</table>\n",
       "</div>"
      ],
      "text/plain": [
       "          0         1         2\n",
       "0  0.060653  3.158801  1.333661\n",
       "1  1.852586  3.037697  0.304963\n",
       "2 -0.435558 -2.574335 -1.664910\n",
       "3  0.723141 -0.033158  0.006902\n",
       "4 -2.536814 -0.939976  1.102269\n",
       "5 -1.370872 -2.627920 -0.714636\n",
       "6  0.512718  0.053615 -1.351967"
      ]
     },
     "execution_count": 9,
     "metadata": {},
     "output_type": "execute_result"
    }
   ],
   "source": [
    "df12.add(s2, axis='index')"
   ]
  },
  {
   "cell_type": "markdown",
   "id": "31130935",
   "metadata": {},
   "source": [
    "The axis number you pass is the axis to be aligned to. In this case, the row index of the DataFrame (`axis='index'` or `axis=0`) is to be adjusted and transmitted."
   ]
  },
  {
   "cell_type": "markdown",
   "id": "bfda0502",
   "metadata": {},
   "source": [
    "## Function application and mapping\n",
    "\n",
    "`numpy.ufunc` (element-wise array methods) also work with pandas objects:"
   ]
  },
  {
   "cell_type": "code",
   "execution_count": 10,
   "id": "a5693878",
   "metadata": {},
   "outputs": [
    {
     "data": {
      "text/html": [
       "<div>\n",
       "<style scoped>\n",
       "    .dataframe tbody tr th:only-of-type {\n",
       "        vertical-align: middle;\n",
       "    }\n",
       "\n",
       "    .dataframe tbody tr th {\n",
       "        vertical-align: top;\n",
       "    }\n",
       "\n",
       "    .dataframe thead th {\n",
       "        text-align: right;\n",
       "    }\n",
       "</style>\n",
       "<table border=\"1\" class=\"dataframe\">\n",
       "  <thead>\n",
       "    <tr style=\"text-align: right;\">\n",
       "      <th></th>\n",
       "      <th>0</th>\n",
       "      <th>1</th>\n",
       "      <th>2</th>\n",
       "    </tr>\n",
       "  </thead>\n",
       "  <tbody>\n",
       "    <tr>\n",
       "      <th>0</th>\n",
       "      <td>1.617414</td>\n",
       "      <td>1.480734</td>\n",
       "      <td>0.344406</td>\n",
       "    </tr>\n",
       "    <tr>\n",
       "      <th>1</th>\n",
       "      <td>1.060217</td>\n",
       "      <td>2.245327</td>\n",
       "      <td>0.487406</td>\n",
       "    </tr>\n",
       "    <tr>\n",
       "      <th>2</th>\n",
       "      <td>0.604860</td>\n",
       "      <td>1.533916</td>\n",
       "      <td>0.624491</td>\n",
       "    </tr>\n",
       "    <tr>\n",
       "      <th>3</th>\n",
       "      <td>0.487990</td>\n",
       "      <td>1.244289</td>\n",
       "      <td>1.204230</td>\n",
       "    </tr>\n",
       "    <tr>\n",
       "      <th>4</th>\n",
       "      <td>2.641149</td>\n",
       "      <td>1.044312</td>\n",
       "      <td>0.997933</td>\n",
       "    </tr>\n",
       "    <tr>\n",
       "      <th>5</th>\n",
       "      <td>0.656236</td>\n",
       "      <td>1.913285</td>\n",
       "      <td>0.000000</td>\n",
       "    </tr>\n",
       "    <tr>\n",
       "      <th>6</th>\n",
       "      <td>1.864685</td>\n",
       "      <td>1.405582</td>\n",
       "      <td>0.000000</td>\n",
       "    </tr>\n",
       "  </tbody>\n",
       "</table>\n",
       "</div>"
      ],
      "text/plain": [
       "          0         1         2\n",
       "0  1.617414  1.480734  0.344406\n",
       "1  1.060217  2.245327  0.487406\n",
       "2  0.604860  1.533916  0.624491\n",
       "3  0.487990  1.244289  1.204230\n",
       "4  2.641149  1.044312  0.997933\n",
       "5  0.656236  1.913285  0.000000\n",
       "6  1.864685  1.405582  0.000000"
      ]
     },
     "execution_count": 10,
     "metadata": {},
     "output_type": "execute_result"
    }
   ],
   "source": [
    "np.abs(df12)"
   ]
  },
  {
   "cell_type": "markdown",
   "id": "620c1fb3",
   "metadata": {},
   "source": [
    "Another common operation is to apply a function to one-dimensional arrays on each column or row. The [pandas.DataFrame.apply](https://pandas.pydata.org/docs/reference/api/pandas.DataFrame.apply.html) method does just that:"
   ]
  },
  {
   "cell_type": "code",
   "execution_count": 11,
   "id": "bbf2c720",
   "metadata": {},
   "outputs": [
    {
     "data": {
      "text/html": [
       "<div>\n",
       "<style scoped>\n",
       "    .dataframe tbody tr th:only-of-type {\n",
       "        vertical-align: middle;\n",
       "    }\n",
       "\n",
       "    .dataframe tbody tr th {\n",
       "        vertical-align: top;\n",
       "    }\n",
       "\n",
       "    .dataframe thead th {\n",
       "        text-align: right;\n",
       "    }\n",
       "</style>\n",
       "<table border=\"1\" class=\"dataframe\">\n",
       "  <thead>\n",
       "    <tr style=\"text-align: right;\">\n",
       "      <th></th>\n",
       "      <th>0</th>\n",
       "      <th>1</th>\n",
       "      <th>2</th>\n",
       "    </tr>\n",
       "  </thead>\n",
       "  <tbody>\n",
       "    <tr>\n",
       "      <th>0</th>\n",
       "      <td>-1.617414</td>\n",
       "      <td>1.480734</td>\n",
       "      <td>-0.344406</td>\n",
       "    </tr>\n",
       "    <tr>\n",
       "      <th>1</th>\n",
       "      <td>1.060217</td>\n",
       "      <td>2.245327</td>\n",
       "      <td>-0.487406</td>\n",
       "    </tr>\n",
       "    <tr>\n",
       "      <th>2</th>\n",
       "      <td>0.604860</td>\n",
       "      <td>-1.533916</td>\n",
       "      <td>-0.624491</td>\n",
       "    </tr>\n",
       "    <tr>\n",
       "      <th>3</th>\n",
       "      <td>-0.487990</td>\n",
       "      <td>-1.244289</td>\n",
       "      <td>-1.204230</td>\n",
       "    </tr>\n",
       "    <tr>\n",
       "      <th>4</th>\n",
       "      <td>-2.641149</td>\n",
       "      <td>-1.044312</td>\n",
       "      <td>0.997933</td>\n",
       "    </tr>\n",
       "    <tr>\n",
       "      <th>5</th>\n",
       "      <td>-0.656236</td>\n",
       "      <td>-1.913285</td>\n",
       "      <td>0.000000</td>\n",
       "    </tr>\n",
       "    <tr>\n",
       "      <th>6</th>\n",
       "      <td>1.864685</td>\n",
       "      <td>1.405582</td>\n",
       "      <td>0.000000</td>\n",
       "    </tr>\n",
       "  </tbody>\n",
       "</table>\n",
       "</div>"
      ],
      "text/plain": [
       "          0         1         2\n",
       "0 -1.617414  1.480734 -0.344406\n",
       "1  1.060217  2.245327 -0.487406\n",
       "2  0.604860 -1.533916 -0.624491\n",
       "3 -0.487990 -1.244289 -1.204230\n",
       "4 -2.641149 -1.044312  0.997933\n",
       "5 -0.656236 -1.913285  0.000000\n",
       "6  1.864685  1.405582  0.000000"
      ]
     },
     "execution_count": 11,
     "metadata": {},
     "output_type": "execute_result"
    }
   ],
   "source": [
    "df12"
   ]
  },
  {
   "cell_type": "code",
   "execution_count": 12,
   "id": "606e2087",
   "metadata": {},
   "outputs": [
    {
     "data": {
      "text/plain": [
       "0    4.505834\n",
       "1    4.158612\n",
       "2    2.202163\n",
       "dtype: float64"
      ]
     },
     "execution_count": 12,
     "metadata": {},
     "output_type": "execute_result"
    }
   ],
   "source": [
    "f = lambda x: x.max() - x.min()\n",
    "\n",
    "df12.apply(f)"
   ]
  },
  {
   "cell_type": "markdown",
   "id": "297fcb93",
   "metadata": {},
   "source": [
    "Here the function `f`, which calculates the difference between the maximum and minimum of a row, is called once for each column of the frame. The result is a row with the columns of the frame as index."
   ]
  },
  {
   "cell_type": "markdown",
   "id": "e1e47c37",
   "metadata": {},
   "source": [
    "If you pass `axis='columns'` to `apply`, the function will be called once per line instead:"
   ]
  },
  {
   "cell_type": "code",
   "execution_count": 13,
   "id": "ac122cc8",
   "metadata": {},
   "outputs": [
    {
     "data": {
      "text/plain": [
       "0    3.098148\n",
       "1    2.732734\n",
       "2    2.138776\n",
       "3    0.756299\n",
       "4    3.639082\n",
       "5    1.913285\n",
       "6    1.864685\n",
       "dtype: float64"
      ]
     },
     "execution_count": 13,
     "metadata": {},
     "output_type": "execute_result"
    }
   ],
   "source": [
    "df12.apply(f, axis='columns')"
   ]
  },
  {
   "cell_type": "markdown",
   "id": "a9b8e891",
   "metadata": {},
   "source": [
    "Many of the most common array statistics (such as `sum` and `mean`) are DataFrame methods, so the use of `apply` is not necessary."
   ]
  },
  {
   "cell_type": "markdown",
   "id": "79e240d8",
   "metadata": {},
   "source": [
    "The function passed to apply does not have to return a single value; it can also return a series with multiple values:"
   ]
  },
  {
   "cell_type": "code",
   "execution_count": 14,
   "id": "e90ecbff",
   "metadata": {},
   "outputs": [
    {
     "data": {
      "text/html": [
       "<div>\n",
       "<style scoped>\n",
       "    .dataframe tbody tr th:only-of-type {\n",
       "        vertical-align: middle;\n",
       "    }\n",
       "\n",
       "    .dataframe tbody tr th {\n",
       "        vertical-align: top;\n",
       "    }\n",
       "\n",
       "    .dataframe thead th {\n",
       "        text-align: right;\n",
       "    }\n",
       "</style>\n",
       "<table border=\"1\" class=\"dataframe\">\n",
       "  <thead>\n",
       "    <tr style=\"text-align: right;\">\n",
       "      <th></th>\n",
       "      <th>0</th>\n",
       "      <th>1</th>\n",
       "      <th>2</th>\n",
       "    </tr>\n",
       "  </thead>\n",
       "  <tbody>\n",
       "    <tr>\n",
       "      <th>min</th>\n",
       "      <td>-2.641149</td>\n",
       "      <td>-1.913285</td>\n",
       "      <td>-1.204230</td>\n",
       "    </tr>\n",
       "    <tr>\n",
       "      <th>max</th>\n",
       "      <td>1.864685</td>\n",
       "      <td>2.245327</td>\n",
       "      <td>0.997933</td>\n",
       "    </tr>\n",
       "  </tbody>\n",
       "</table>\n",
       "</div>"
      ],
      "text/plain": [
       "            0         1         2\n",
       "min -2.641149 -1.913285 -1.204230\n",
       "max  1.864685  2.245327  0.997933"
      ]
     },
     "execution_count": 14,
     "metadata": {},
     "output_type": "execute_result"
    }
   ],
   "source": [
    "def f(x):\n",
    "    return pd.Series([x.min(), x.max()], index=['min', 'max'])\n",
    "\n",
    "df12.apply(f)"
   ]
  },
  {
   "cell_type": "markdown",
   "id": "5c51cb29",
   "metadata": {},
   "source": [
    "You can also use element-wise Python functions. Suppose you want to calculate a formatted string from each floating point value in `df12`. You can do this with [pandas.DataFrame.applymap](https://pandas.pydata.org/docs/reference/api/pandas.DataFrame.applymap.html):"
   ]
  },
  {
   "cell_type": "code",
   "execution_count": 15,
   "id": "92c4f3f8",
   "metadata": {},
   "outputs": [
    {
     "data": {
      "text/html": [
       "<div>\n",
       "<style scoped>\n",
       "    .dataframe tbody tr th:only-of-type {\n",
       "        vertical-align: middle;\n",
       "    }\n",
       "\n",
       "    .dataframe tbody tr th {\n",
       "        vertical-align: top;\n",
       "    }\n",
       "\n",
       "    .dataframe thead th {\n",
       "        text-align: right;\n",
       "    }\n",
       "</style>\n",
       "<table border=\"1\" class=\"dataframe\">\n",
       "  <thead>\n",
       "    <tr style=\"text-align: right;\">\n",
       "      <th></th>\n",
       "      <th>0</th>\n",
       "      <th>1</th>\n",
       "      <th>2</th>\n",
       "    </tr>\n",
       "  </thead>\n",
       "  <tbody>\n",
       "    <tr>\n",
       "      <th>0</th>\n",
       "      <td>-1.62</td>\n",
       "      <td>1.48</td>\n",
       "      <td>-0.34</td>\n",
       "    </tr>\n",
       "    <tr>\n",
       "      <th>1</th>\n",
       "      <td>1.06</td>\n",
       "      <td>2.25</td>\n",
       "      <td>-0.49</td>\n",
       "    </tr>\n",
       "    <tr>\n",
       "      <th>2</th>\n",
       "      <td>0.60</td>\n",
       "      <td>-1.53</td>\n",
       "      <td>-0.62</td>\n",
       "    </tr>\n",
       "    <tr>\n",
       "      <th>3</th>\n",
       "      <td>-0.49</td>\n",
       "      <td>-1.24</td>\n",
       "      <td>-1.20</td>\n",
       "    </tr>\n",
       "    <tr>\n",
       "      <th>4</th>\n",
       "      <td>-2.64</td>\n",
       "      <td>-1.04</td>\n",
       "      <td>1.00</td>\n",
       "    </tr>\n",
       "    <tr>\n",
       "      <th>5</th>\n",
       "      <td>-0.66</td>\n",
       "      <td>-1.91</td>\n",
       "      <td>0.00</td>\n",
       "    </tr>\n",
       "    <tr>\n",
       "      <th>6</th>\n",
       "      <td>1.86</td>\n",
       "      <td>1.41</td>\n",
       "      <td>0.00</td>\n",
       "    </tr>\n",
       "  </tbody>\n",
       "</table>\n",
       "</div>"
      ],
      "text/plain": [
       "       0      1      2\n",
       "0  -1.62   1.48  -0.34\n",
       "1   1.06   2.25  -0.49\n",
       "2   0.60  -1.53  -0.62\n",
       "3  -0.49  -1.24  -1.20\n",
       "4  -2.64  -1.04   1.00\n",
       "5  -0.66  -1.91   0.00\n",
       "6   1.86   1.41   0.00"
      ]
     },
     "execution_count": 15,
     "metadata": {},
     "output_type": "execute_result"
    }
   ],
   "source": [
    "f = lambda x: '%.2f' % x\n",
    "\n",
    "df12.applymap(f)"
   ]
  },
  {
   "cell_type": "markdown",
   "id": "6be84cc8",
   "metadata": {},
   "source": [
    "The reason for the name `applymap` is that Series has a `map` method for applying an element-wise function:"
   ]
  },
  {
   "cell_type": "code",
   "execution_count": 16,
   "id": "bbbc50d2",
   "metadata": {},
   "outputs": [
    {
     "data": {
      "text/plain": [
       "0    -0.34\n",
       "1    -0.49\n",
       "2    -0.62\n",
       "3    -1.20\n",
       "4     1.00\n",
       "5     0.00\n",
       "6     0.00\n",
       "Name: 2, dtype: object"
      ]
     },
     "execution_count": 16,
     "metadata": {},
     "output_type": "execute_result"
    }
   ],
   "source": [
    "df12[2].map(f)"
   ]
  }
 ],
 "metadata": {
  "kernelspec": {
   "display_name": "Python 3.8",
   "language": "python",
   "name": "python-38"
  },
  "language_info": {
   "codemirror_mode": {
    "name": "ipython",
    "version": 3
   },
   "file_extension": ".py",
   "mimetype": "text/x-python",
   "name": "python",
   "nbconvert_exporter": "python",
   "pygments_lexer": "ipython3",
   "version": "3.8.12"
  }
 },
 "nbformat": 4,
 "nbformat_minor": 5
}
