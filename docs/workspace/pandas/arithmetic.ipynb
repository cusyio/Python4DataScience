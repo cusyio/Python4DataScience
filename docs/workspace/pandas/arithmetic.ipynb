{
 "cells": [
  {
   "cell_type": "markdown",
   "id": "5b70dbe9",
   "metadata": {},
   "source": [
    "# Arithmetic\n",
    "\n",
    "An important function of pandas is the arithmetic behaviour for objects with different indices. When adding objects, if the index pairs are not equal, the corresponding index in the result will be the union of the index pairs. For users with database experience, this is comparable to an automatic [outer join](https://en.wikipedia.org/wiki/Join_(SQL)#Outer_join) on the index labels. Let’s look at an example:"
   ]
  },
  {
   "cell_type": "code",
   "execution_count": 1,
   "id": "93b775f5",
   "metadata": {},
   "outputs": [],
   "source": [
    "import numpy as np\n",
    "import pandas as pd\n",
    "\n",
    "\n",
    "rng = np.random.default_rng()\n",
    "s1 = pd.Series(rng.normal(size=5))\n",
    "s2 = pd.Series(rng.normal(size=7))"
   ]
  },
  {
   "cell_type": "markdown",
   "id": "b05a13ac",
   "metadata": {},
   "source": [
    "If you add these values, you get:"
   ]
  },
  {
   "cell_type": "code",
   "execution_count": 2,
   "id": "81c60161",
   "metadata": {},
   "outputs": [
    {
     "data": {
      "text/plain": [
       "0    2.596929\n",
       "1   -2.795545\n",
       "2   -0.119064\n",
       "3    0.849508\n",
       "4   -0.061194\n",
       "5         NaN\n",
       "6         NaN\n",
       "dtype: float64"
      ]
     },
     "execution_count": 2,
     "metadata": {},
     "output_type": "execute_result"
    }
   ],
   "source": [
    "s1 + s2"
   ]
  },
  {
   "cell_type": "markdown",
   "id": "d0b380ee",
   "metadata": {},
   "source": [
    "The internal data matching leads to missing values at the points of the labels that do not overlap. Missing values are then passed on in further arithmetic calculations."
   ]
  },
  {
   "cell_type": "markdown",
   "id": "bd4ef5fa",
   "metadata": {},
   "source": [
    "For DataFrames, alignment is performed for both rows and columns:"
   ]
  },
  {
   "cell_type": "code",
   "execution_count": 3,
   "id": "e16d0e94",
   "metadata": {},
   "outputs": [],
   "source": [
    "df1 = pd.DataFrame(rng.normal(size=(5,3)))\n",
    "df2 = pd.DataFrame(rng.normal(size=(7,2)))"
   ]
  },
  {
   "cell_type": "markdown",
   "id": "13ce8463",
   "metadata": {},
   "source": [
    "When the two DataFrames are added together, the result is a DataFrame whose index and columns are the unions of those in each of the DataFrames above:"
   ]
  },
  {
   "cell_type": "code",
   "execution_count": 4,
   "id": "932c7e62",
   "metadata": {},
   "outputs": [
    {
     "data": {
      "text/html": [
       "<div>\n",
       "<style scoped>\n",
       "    .dataframe tbody tr th:only-of-type {\n",
       "        vertical-align: middle;\n",
       "    }\n",
       "\n",
       "    .dataframe tbody tr th {\n",
       "        vertical-align: top;\n",
       "    }\n",
       "\n",
       "    .dataframe thead th {\n",
       "        text-align: right;\n",
       "    }\n",
       "</style>\n",
       "<table border=\"1\" class=\"dataframe\">\n",
       "  <thead>\n",
       "    <tr style=\"text-align: right;\">\n",
       "      <th></th>\n",
       "      <th>0</th>\n",
       "      <th>1</th>\n",
       "      <th>2</th>\n",
       "    </tr>\n",
       "  </thead>\n",
       "  <tbody>\n",
       "    <tr>\n",
       "      <th>0</th>\n",
       "      <td>-0.078026</td>\n",
       "      <td>0.643059</td>\n",
       "      <td>NaN</td>\n",
       "    </tr>\n",
       "    <tr>\n",
       "      <th>1</th>\n",
       "      <td>-0.383531</td>\n",
       "      <td>2.018909</td>\n",
       "      <td>NaN</td>\n",
       "    </tr>\n",
       "    <tr>\n",
       "      <th>2</th>\n",
       "      <td>-2.770130</td>\n",
       "      <td>-0.751184</td>\n",
       "      <td>NaN</td>\n",
       "    </tr>\n",
       "    <tr>\n",
       "      <th>3</th>\n",
       "      <td>-0.679346</td>\n",
       "      <td>0.926763</td>\n",
       "      <td>NaN</td>\n",
       "    </tr>\n",
       "    <tr>\n",
       "      <th>4</th>\n",
       "      <td>-1.093289</td>\n",
       "      <td>1.424987</td>\n",
       "      <td>NaN</td>\n",
       "    </tr>\n",
       "    <tr>\n",
       "      <th>5</th>\n",
       "      <td>NaN</td>\n",
       "      <td>NaN</td>\n",
       "      <td>NaN</td>\n",
       "    </tr>\n",
       "    <tr>\n",
       "      <th>6</th>\n",
       "      <td>NaN</td>\n",
       "      <td>NaN</td>\n",
       "      <td>NaN</td>\n",
       "    </tr>\n",
       "  </tbody>\n",
       "</table>\n",
       "</div>"
      ],
      "text/plain": [
       "          0         1   2\n",
       "0 -0.078026  0.643059 NaN\n",
       "1 -0.383531  2.018909 NaN\n",
       "2 -2.770130 -0.751184 NaN\n",
       "3 -0.679346  0.926763 NaN\n",
       "4 -1.093289  1.424987 NaN\n",
       "5       NaN       NaN NaN\n",
       "6       NaN       NaN NaN"
      ]
     },
     "execution_count": 4,
     "metadata": {},
     "output_type": "execute_result"
    }
   ],
   "source": [
    "df1 + df2"
   ]
  },
  {
   "cell_type": "markdown",
   "id": "5974e184",
   "metadata": {},
   "source": [
    "Since column 2 does not appear in both DataFrame objects, its values appear as missing in the result. The same applies to the rows whose labels do not appear in both objects."
   ]
  },
  {
   "cell_type": "markdown",
   "id": "1cd9fe13",
   "metadata": {},
   "source": [
    "## Arithmetic methods with fill values\n",
    "\n",
    "In arithmetic operations between differently indexed objects, a special value (e.g. `0`) can be useful if an axis label is found in one object but not in the other.  The `add` method can pass the `fill_value` argument:"
   ]
  },
  {
   "cell_type": "code",
   "execution_count": 5,
   "id": "35f89dfd",
   "metadata": {},
   "outputs": [
    {
     "data": {
      "text/html": [
       "<div>\n",
       "<style scoped>\n",
       "    .dataframe tbody tr th:only-of-type {\n",
       "        vertical-align: middle;\n",
       "    }\n",
       "\n",
       "    .dataframe tbody tr th {\n",
       "        vertical-align: top;\n",
       "    }\n",
       "\n",
       "    .dataframe thead th {\n",
       "        text-align: right;\n",
       "    }\n",
       "</style>\n",
       "<table border=\"1\" class=\"dataframe\">\n",
       "  <thead>\n",
       "    <tr style=\"text-align: right;\">\n",
       "      <th></th>\n",
       "      <th>0</th>\n",
       "      <th>1</th>\n",
       "      <th>2</th>\n",
       "    </tr>\n",
       "  </thead>\n",
       "  <tbody>\n",
       "    <tr>\n",
       "      <th>0</th>\n",
       "      <td>-0.078026</td>\n",
       "      <td>0.643059</td>\n",
       "      <td>0.136076</td>\n",
       "    </tr>\n",
       "    <tr>\n",
       "      <th>1</th>\n",
       "      <td>-0.383531</td>\n",
       "      <td>2.018909</td>\n",
       "      <td>-0.660599</td>\n",
       "    </tr>\n",
       "    <tr>\n",
       "      <th>2</th>\n",
       "      <td>-2.770130</td>\n",
       "      <td>-0.751184</td>\n",
       "      <td>-1.709924</td>\n",
       "    </tr>\n",
       "    <tr>\n",
       "      <th>3</th>\n",
       "      <td>-0.679346</td>\n",
       "      <td>0.926763</td>\n",
       "      <td>-1.403627</td>\n",
       "    </tr>\n",
       "    <tr>\n",
       "      <th>4</th>\n",
       "      <td>-1.093289</td>\n",
       "      <td>1.424987</td>\n",
       "      <td>-0.283248</td>\n",
       "    </tr>\n",
       "    <tr>\n",
       "      <th>5</th>\n",
       "      <td>0.030022</td>\n",
       "      <td>-1.465972</td>\n",
       "      <td>NaN</td>\n",
       "    </tr>\n",
       "    <tr>\n",
       "      <th>6</th>\n",
       "      <td>-0.508131</td>\n",
       "      <td>0.527970</td>\n",
       "      <td>NaN</td>\n",
       "    </tr>\n",
       "  </tbody>\n",
       "</table>\n",
       "</div>"
      ],
      "text/plain": [
       "          0         1         2\n",
       "0 -0.078026  0.643059  0.136076\n",
       "1 -0.383531  2.018909 -0.660599\n",
       "2 -2.770130 -0.751184 -1.709924\n",
       "3 -0.679346  0.926763 -1.403627\n",
       "4 -1.093289  1.424987 -0.283248\n",
       "5  0.030022 -1.465972       NaN\n",
       "6 -0.508131  0.527970       NaN"
      ]
     },
     "execution_count": 5,
     "metadata": {},
     "output_type": "execute_result"
    }
   ],
   "source": [
    "df12 = df1.add(df2, fill_value=0)\n",
    "\n",
    "df12"
   ]
  },
  {
   "cell_type": "markdown",
   "id": "686dc151",
   "metadata": {},
   "source": [
    "In the following example, we set the two remaining NaN values to `0`:"
   ]
  },
  {
   "cell_type": "code",
   "execution_count": 6,
   "id": "7dd4bbe1",
   "metadata": {},
   "outputs": [],
   "source": [
    "df12.iloc[[5, 6], [2]] = 0"
   ]
  },
  {
   "cell_type": "code",
   "execution_count": 7,
   "id": "a7f447ae",
   "metadata": {},
   "outputs": [
    {
     "data": {
      "text/html": [
       "<div>\n",
       "<style scoped>\n",
       "    .dataframe tbody tr th:only-of-type {\n",
       "        vertical-align: middle;\n",
       "    }\n",
       "\n",
       "    .dataframe tbody tr th {\n",
       "        vertical-align: top;\n",
       "    }\n",
       "\n",
       "    .dataframe thead th {\n",
       "        text-align: right;\n",
       "    }\n",
       "</style>\n",
       "<table border=\"1\" class=\"dataframe\">\n",
       "  <thead>\n",
       "    <tr style=\"text-align: right;\">\n",
       "      <th></th>\n",
       "      <th>0</th>\n",
       "      <th>1</th>\n",
       "      <th>2</th>\n",
       "    </tr>\n",
       "  </thead>\n",
       "  <tbody>\n",
       "    <tr>\n",
       "      <th>0</th>\n",
       "      <td>-0.078026</td>\n",
       "      <td>0.643059</td>\n",
       "      <td>0.136076</td>\n",
       "    </tr>\n",
       "    <tr>\n",
       "      <th>1</th>\n",
       "      <td>-0.383531</td>\n",
       "      <td>2.018909</td>\n",
       "      <td>-0.660599</td>\n",
       "    </tr>\n",
       "    <tr>\n",
       "      <th>2</th>\n",
       "      <td>-2.770130</td>\n",
       "      <td>-0.751184</td>\n",
       "      <td>-1.709924</td>\n",
       "    </tr>\n",
       "    <tr>\n",
       "      <th>3</th>\n",
       "      <td>-0.679346</td>\n",
       "      <td>0.926763</td>\n",
       "      <td>-1.403627</td>\n",
       "    </tr>\n",
       "    <tr>\n",
       "      <th>4</th>\n",
       "      <td>-1.093289</td>\n",
       "      <td>1.424987</td>\n",
       "      <td>-0.283248</td>\n",
       "    </tr>\n",
       "    <tr>\n",
       "      <th>5</th>\n",
       "      <td>0.030022</td>\n",
       "      <td>-1.465972</td>\n",
       "      <td>0.000000</td>\n",
       "    </tr>\n",
       "    <tr>\n",
       "      <th>6</th>\n",
       "      <td>-0.508131</td>\n",
       "      <td>0.527970</td>\n",
       "      <td>0.000000</td>\n",
       "    </tr>\n",
       "  </tbody>\n",
       "</table>\n",
       "</div>"
      ],
      "text/plain": [
       "          0         1         2\n",
       "0 -0.078026  0.643059  0.136076\n",
       "1 -0.383531  2.018909 -0.660599\n",
       "2 -2.770130 -0.751184 -1.709924\n",
       "3 -0.679346  0.926763 -1.403627\n",
       "4 -1.093289  1.424987 -0.283248\n",
       "5  0.030022 -1.465972  0.000000\n",
       "6 -0.508131  0.527970  0.000000"
      ]
     },
     "execution_count": 7,
     "metadata": {},
     "output_type": "execute_result"
    }
   ],
   "source": [
    "df12"
   ]
  },
  {
   "cell_type": "markdown",
   "id": "1dbbcce0",
   "metadata": {},
   "source": [
    "## Arithmetic methods\n",
    "\n",
    "Method | Description\n",
    ":----- | :----------\n",
    "`add`, `radd` | methods for addition (`+`)\n",
    "`sub`, `rsub` | methods for subtraction (`-`)\n",
    "`div`, `rdiv` | methods for division (`/`)\n",
    "`floordiv`, `rfloordiv` | methods for floor division (`//`)\n",
    "`mul`, `rmul` | methods for multiplication (`*`)\n",
    "`pow`, `rpow` | methods for exponentiation (`**`)\n",
    "\n",
    "`r` (English: _reverse_) reverses the method."
   ]
  },
  {
   "cell_type": "markdown",
   "id": "2e634696",
   "metadata": {},
   "source": [
    "## Operations between DataFrame and Series\n",
    "\n",
    "As with NumPy arrays of different dimensions, the arithmetic between DataFrame and Series is also defined."
   ]
  },
  {
   "cell_type": "code",
   "execution_count": 8,
   "id": "7920f4b7",
   "metadata": {},
   "outputs": [
    {
     "data": {
      "text/html": [
       "<div>\n",
       "<style scoped>\n",
       "    .dataframe tbody tr th:only-of-type {\n",
       "        vertical-align: middle;\n",
       "    }\n",
       "\n",
       "    .dataframe tbody tr th {\n",
       "        vertical-align: top;\n",
       "    }\n",
       "\n",
       "    .dataframe thead th {\n",
       "        text-align: right;\n",
       "    }\n",
       "</style>\n",
       "<table border=\"1\" class=\"dataframe\">\n",
       "  <thead>\n",
       "    <tr style=\"text-align: right;\">\n",
       "      <th></th>\n",
       "      <th>0</th>\n",
       "      <th>1</th>\n",
       "      <th>2</th>\n",
       "      <th>3</th>\n",
       "      <th>4</th>\n",
       "    </tr>\n",
       "  </thead>\n",
       "  <tbody>\n",
       "    <tr>\n",
       "      <th>0</th>\n",
       "      <td>0.583883</td>\n",
       "      <td>-1.140178</td>\n",
       "      <td>0.991236</td>\n",
       "      <td>NaN</td>\n",
       "      <td>NaN</td>\n",
       "    </tr>\n",
       "    <tr>\n",
       "      <th>1</th>\n",
       "      <td>0.278378</td>\n",
       "      <td>0.235672</td>\n",
       "      <td>0.194562</td>\n",
       "      <td>NaN</td>\n",
       "      <td>NaN</td>\n",
       "    </tr>\n",
       "    <tr>\n",
       "      <th>2</th>\n",
       "      <td>-2.108221</td>\n",
       "      <td>-2.534422</td>\n",
       "      <td>-0.854764</td>\n",
       "      <td>NaN</td>\n",
       "      <td>NaN</td>\n",
       "    </tr>\n",
       "    <tr>\n",
       "      <th>3</th>\n",
       "      <td>-0.017437</td>\n",
       "      <td>-0.856475</td>\n",
       "      <td>-0.548466</td>\n",
       "      <td>NaN</td>\n",
       "      <td>NaN</td>\n",
       "    </tr>\n",
       "    <tr>\n",
       "      <th>4</th>\n",
       "      <td>-0.431380</td>\n",
       "      <td>-0.358250</td>\n",
       "      <td>0.571912</td>\n",
       "      <td>NaN</td>\n",
       "      <td>NaN</td>\n",
       "    </tr>\n",
       "    <tr>\n",
       "      <th>5</th>\n",
       "      <td>0.691931</td>\n",
       "      <td>-3.249210</td>\n",
       "      <td>0.855161</td>\n",
       "      <td>NaN</td>\n",
       "      <td>NaN</td>\n",
       "    </tr>\n",
       "    <tr>\n",
       "      <th>6</th>\n",
       "      <td>0.153778</td>\n",
       "      <td>-1.255268</td>\n",
       "      <td>0.855161</td>\n",
       "      <td>NaN</td>\n",
       "      <td>NaN</td>\n",
       "    </tr>\n",
       "  </tbody>\n",
       "</table>\n",
       "</div>"
      ],
      "text/plain": [
       "          0         1         2   3   4\n",
       "0  0.583883 -1.140178  0.991236 NaN NaN\n",
       "1  0.278378  0.235672  0.194562 NaN NaN\n",
       "2 -2.108221 -2.534422 -0.854764 NaN NaN\n",
       "3 -0.017437 -0.856475 -0.548466 NaN NaN\n",
       "4 -0.431380 -0.358250  0.571912 NaN NaN\n",
       "5  0.691931 -3.249210  0.855161 NaN NaN\n",
       "6  0.153778 -1.255268  0.855161 NaN NaN"
      ]
     },
     "execution_count": 8,
     "metadata": {},
     "output_type": "execute_result"
    }
   ],
   "source": [
    "s1 + df12"
   ]
  },
  {
   "cell_type": "markdown",
   "id": "36005166",
   "metadata": {},
   "source": [
    "If we add `s1` with `df12`, the addition is done once for each line. This is called _broadcasting_. By default, the arithmetic between the DataFrame and the series corresponds to the index of the series in the columns of the DataFrame, with the rows being broadcast down."
   ]
  },
  {
   "cell_type": "markdown",
   "id": "4d57486f",
   "metadata": {},
   "source": [
    "If an index value is found neither in the columns of the DataFrame nor in the index of the series, the objects are re-indexed to form the union:"
   ]
  },
  {
   "cell_type": "markdown",
   "id": "0f0f79eb",
   "metadata": {},
   "source": [
    "If instead you want to transfer the columns and match the rows, you must use one of the arithmetic methods, for example:"
   ]
  },
  {
   "cell_type": "code",
   "execution_count": 9,
   "id": "cebe5864",
   "metadata": {},
   "outputs": [
    {
     "data": {
      "text/html": [
       "<div>\n",
       "<style scoped>\n",
       "    .dataframe tbody tr th:only-of-type {\n",
       "        vertical-align: middle;\n",
       "    }\n",
       "\n",
       "    .dataframe tbody tr th {\n",
       "        vertical-align: top;\n",
       "    }\n",
       "\n",
       "    .dataframe thead th {\n",
       "        text-align: right;\n",
       "    }\n",
       "</style>\n",
       "<table border=\"1\" class=\"dataframe\">\n",
       "  <thead>\n",
       "    <tr style=\"text-align: right;\">\n",
       "      <th></th>\n",
       "      <th>0</th>\n",
       "      <th>1</th>\n",
       "      <th>2</th>\n",
       "    </tr>\n",
       "  </thead>\n",
       "  <tbody>\n",
       "    <tr>\n",
       "      <th>0</th>\n",
       "      <td>1.856994</td>\n",
       "      <td>2.578079</td>\n",
       "      <td>2.071096</td>\n",
       "    </tr>\n",
       "    <tr>\n",
       "      <th>1</th>\n",
       "      <td>-1.395838</td>\n",
       "      <td>1.006602</td>\n",
       "      <td>-1.672906</td>\n",
       "    </tr>\n",
       "    <tr>\n",
       "      <th>2</th>\n",
       "      <td>-3.744354</td>\n",
       "      <td>-1.725408</td>\n",
       "      <td>-2.684148</td>\n",
       "    </tr>\n",
       "    <tr>\n",
       "      <th>3</th>\n",
       "      <td>-0.239294</td>\n",
       "      <td>1.366814</td>\n",
       "      <td>-0.963576</td>\n",
       "    </tr>\n",
       "    <tr>\n",
       "      <th>4</th>\n",
       "      <td>-1.067525</td>\n",
       "      <td>1.450751</td>\n",
       "      <td>-0.257484</td>\n",
       "    </tr>\n",
       "    <tr>\n",
       "      <th>5</th>\n",
       "      <td>0.005172</td>\n",
       "      <td>-1.490822</td>\n",
       "      <td>-0.024850</td>\n",
       "    </tr>\n",
       "    <tr>\n",
       "      <th>6</th>\n",
       "      <td>-0.612072</td>\n",
       "      <td>0.424029</td>\n",
       "      <td>-0.103941</td>\n",
       "    </tr>\n",
       "  </tbody>\n",
       "</table>\n",
       "</div>"
      ],
      "text/plain": [
       "          0         1         2\n",
       "0  1.856994  2.578079  2.071096\n",
       "1 -1.395838  1.006602 -1.672906\n",
       "2 -3.744354 -1.725408 -2.684148\n",
       "3 -0.239294  1.366814 -0.963576\n",
       "4 -1.067525  1.450751 -0.257484\n",
       "5  0.005172 -1.490822 -0.024850\n",
       "6 -0.612072  0.424029 -0.103941"
      ]
     },
     "execution_count": 9,
     "metadata": {},
     "output_type": "execute_result"
    }
   ],
   "source": [
    "df12.add(s2, axis=\"index\")"
   ]
  },
  {
   "cell_type": "markdown",
   "id": "21b63ef1",
   "metadata": {},
   "source": [
    "The axis number you pass is the axis to be aligned to. In this case, the row index of the DataFrame (`axis='index'` or `axis=0`) is to be adjusted and transmitted."
   ]
  },
  {
   "cell_type": "markdown",
   "id": "9ffae4f8",
   "metadata": {},
   "source": [
    "## Function application and mapping\n",
    "\n",
    "`numpy.ufunc` (element-wise array methods) also work with pandas objects:"
   ]
  },
  {
   "cell_type": "code",
   "execution_count": 10,
   "id": "0796f179",
   "metadata": {},
   "outputs": [
    {
     "data": {
      "text/html": [
       "<div>\n",
       "<style scoped>\n",
       "    .dataframe tbody tr th:only-of-type {\n",
       "        vertical-align: middle;\n",
       "    }\n",
       "\n",
       "    .dataframe tbody tr th {\n",
       "        vertical-align: top;\n",
       "    }\n",
       "\n",
       "    .dataframe thead th {\n",
       "        text-align: right;\n",
       "    }\n",
       "</style>\n",
       "<table border=\"1\" class=\"dataframe\">\n",
       "  <thead>\n",
       "    <tr style=\"text-align: right;\">\n",
       "      <th></th>\n",
       "      <th>0</th>\n",
       "      <th>1</th>\n",
       "      <th>2</th>\n",
       "    </tr>\n",
       "  </thead>\n",
       "  <tbody>\n",
       "    <tr>\n",
       "      <th>0</th>\n",
       "      <td>0.078026</td>\n",
       "      <td>0.643059</td>\n",
       "      <td>0.136076</td>\n",
       "    </tr>\n",
       "    <tr>\n",
       "      <th>1</th>\n",
       "      <td>0.383531</td>\n",
       "      <td>2.018909</td>\n",
       "      <td>0.660599</td>\n",
       "    </tr>\n",
       "    <tr>\n",
       "      <th>2</th>\n",
       "      <td>2.770130</td>\n",
       "      <td>0.751184</td>\n",
       "      <td>1.709924</td>\n",
       "    </tr>\n",
       "    <tr>\n",
       "      <th>3</th>\n",
       "      <td>0.679346</td>\n",
       "      <td>0.926763</td>\n",
       "      <td>1.403627</td>\n",
       "    </tr>\n",
       "    <tr>\n",
       "      <th>4</th>\n",
       "      <td>1.093289</td>\n",
       "      <td>1.424987</td>\n",
       "      <td>0.283248</td>\n",
       "    </tr>\n",
       "    <tr>\n",
       "      <th>5</th>\n",
       "      <td>0.030022</td>\n",
       "      <td>1.465972</td>\n",
       "      <td>0.000000</td>\n",
       "    </tr>\n",
       "    <tr>\n",
       "      <th>6</th>\n",
       "      <td>0.508131</td>\n",
       "      <td>0.527970</td>\n",
       "      <td>0.000000</td>\n",
       "    </tr>\n",
       "  </tbody>\n",
       "</table>\n",
       "</div>"
      ],
      "text/plain": [
       "          0         1         2\n",
       "0  0.078026  0.643059  0.136076\n",
       "1  0.383531  2.018909  0.660599\n",
       "2  2.770130  0.751184  1.709924\n",
       "3  0.679346  0.926763  1.403627\n",
       "4  1.093289  1.424987  0.283248\n",
       "5  0.030022  1.465972  0.000000\n",
       "6  0.508131  0.527970  0.000000"
      ]
     },
     "execution_count": 10,
     "metadata": {},
     "output_type": "execute_result"
    }
   ],
   "source": [
    "np.abs(df12)"
   ]
  },
  {
   "cell_type": "markdown",
   "id": "e00dcebb",
   "metadata": {},
   "source": [
    "Another common operation is to apply a function to one-dimensional arrays on each column or row. The [pandas.DataFrame.apply](https://pandas.pydata.org/docs/reference/api/pandas.DataFrame.apply.html) method does just that:"
   ]
  },
  {
   "cell_type": "code",
   "execution_count": 11,
   "id": "97d094c1",
   "metadata": {},
   "outputs": [
    {
     "data": {
      "text/html": [
       "<div>\n",
       "<style scoped>\n",
       "    .dataframe tbody tr th:only-of-type {\n",
       "        vertical-align: middle;\n",
       "    }\n",
       "\n",
       "    .dataframe tbody tr th {\n",
       "        vertical-align: top;\n",
       "    }\n",
       "\n",
       "    .dataframe thead th {\n",
       "        text-align: right;\n",
       "    }\n",
       "</style>\n",
       "<table border=\"1\" class=\"dataframe\">\n",
       "  <thead>\n",
       "    <tr style=\"text-align: right;\">\n",
       "      <th></th>\n",
       "      <th>0</th>\n",
       "      <th>1</th>\n",
       "      <th>2</th>\n",
       "    </tr>\n",
       "  </thead>\n",
       "  <tbody>\n",
       "    <tr>\n",
       "      <th>0</th>\n",
       "      <td>-0.078026</td>\n",
       "      <td>0.643059</td>\n",
       "      <td>0.136076</td>\n",
       "    </tr>\n",
       "    <tr>\n",
       "      <th>1</th>\n",
       "      <td>-0.383531</td>\n",
       "      <td>2.018909</td>\n",
       "      <td>-0.660599</td>\n",
       "    </tr>\n",
       "    <tr>\n",
       "      <th>2</th>\n",
       "      <td>-2.770130</td>\n",
       "      <td>-0.751184</td>\n",
       "      <td>-1.709924</td>\n",
       "    </tr>\n",
       "    <tr>\n",
       "      <th>3</th>\n",
       "      <td>-0.679346</td>\n",
       "      <td>0.926763</td>\n",
       "      <td>-1.403627</td>\n",
       "    </tr>\n",
       "    <tr>\n",
       "      <th>4</th>\n",
       "      <td>-1.093289</td>\n",
       "      <td>1.424987</td>\n",
       "      <td>-0.283248</td>\n",
       "    </tr>\n",
       "    <tr>\n",
       "      <th>5</th>\n",
       "      <td>0.030022</td>\n",
       "      <td>-1.465972</td>\n",
       "      <td>0.000000</td>\n",
       "    </tr>\n",
       "    <tr>\n",
       "      <th>6</th>\n",
       "      <td>-0.508131</td>\n",
       "      <td>0.527970</td>\n",
       "      <td>0.000000</td>\n",
       "    </tr>\n",
       "  </tbody>\n",
       "</table>\n",
       "</div>"
      ],
      "text/plain": [
       "          0         1         2\n",
       "0 -0.078026  0.643059  0.136076\n",
       "1 -0.383531  2.018909 -0.660599\n",
       "2 -2.770130 -0.751184 -1.709924\n",
       "3 -0.679346  0.926763 -1.403627\n",
       "4 -1.093289  1.424987 -0.283248\n",
       "5  0.030022 -1.465972  0.000000\n",
       "6 -0.508131  0.527970  0.000000"
      ]
     },
     "execution_count": 11,
     "metadata": {},
     "output_type": "execute_result"
    }
   ],
   "source": [
    "df12"
   ]
  },
  {
   "cell_type": "code",
   "execution_count": 12,
   "id": "0f11be9c",
   "metadata": {},
   "outputs": [
    {
     "data": {
      "text/plain": [
       "0    2.800152\n",
       "1    3.484882\n",
       "2    1.846000\n",
       "dtype: float64"
      ]
     },
     "execution_count": 12,
     "metadata": {},
     "output_type": "execute_result"
    }
   ],
   "source": [
    "f = lambda x: x.max() - x.min()\n",
    "\n",
    "df12.apply(f)"
   ]
  },
  {
   "cell_type": "markdown",
   "id": "6421662b",
   "metadata": {},
   "source": [
    "Here the function `f`, which calculates the difference between the maximum and minimum of a row, is called once for each column of the frame. The result is a row with the columns of the frame as index."
   ]
  },
  {
   "cell_type": "markdown",
   "id": "ecd6ad81",
   "metadata": {},
   "source": [
    "If you pass `axis='columns'` to `apply`, the function will be called once per line instead:"
   ]
  },
  {
   "cell_type": "code",
   "execution_count": 13,
   "id": "b54c6f89",
   "metadata": {},
   "outputs": [
    {
     "data": {
      "text/plain": [
       "0    0.721086\n",
       "1    2.679508\n",
       "2    2.018946\n",
       "3    2.330389\n",
       "4    2.518277\n",
       "5    1.495994\n",
       "6    1.036101\n",
       "dtype: float64"
      ]
     },
     "execution_count": 13,
     "metadata": {},
     "output_type": "execute_result"
    }
   ],
   "source": [
    "df12.apply(f, axis=\"columns\")"
   ]
  },
  {
   "cell_type": "markdown",
   "id": "677910f9",
   "metadata": {},
   "source": [
    "Many of the most common array statistics (such as `sum` and `mean`) are DataFrame methods, so the use of `apply` is not necessary."
   ]
  },
  {
   "cell_type": "markdown",
   "id": "ff49ea56",
   "metadata": {},
   "source": [
    "The function passed to apply does not have to return a single value; it can also return a series with multiple values:"
   ]
  },
  {
   "cell_type": "code",
   "execution_count": 14,
   "id": "4abc03d5",
   "metadata": {},
   "outputs": [
    {
     "data": {
      "text/html": [
       "<div>\n",
       "<style scoped>\n",
       "    .dataframe tbody tr th:only-of-type {\n",
       "        vertical-align: middle;\n",
       "    }\n",
       "\n",
       "    .dataframe tbody tr th {\n",
       "        vertical-align: top;\n",
       "    }\n",
       "\n",
       "    .dataframe thead th {\n",
       "        text-align: right;\n",
       "    }\n",
       "</style>\n",
       "<table border=\"1\" class=\"dataframe\">\n",
       "  <thead>\n",
       "    <tr style=\"text-align: right;\">\n",
       "      <th></th>\n",
       "      <th>0</th>\n",
       "      <th>1</th>\n",
       "      <th>2</th>\n",
       "    </tr>\n",
       "  </thead>\n",
       "  <tbody>\n",
       "    <tr>\n",
       "      <th>min</th>\n",
       "      <td>-2.770130</td>\n",
       "      <td>-1.465972</td>\n",
       "      <td>-1.709924</td>\n",
       "    </tr>\n",
       "    <tr>\n",
       "      <th>max</th>\n",
       "      <td>0.030022</td>\n",
       "      <td>2.018909</td>\n",
       "      <td>0.136076</td>\n",
       "    </tr>\n",
       "  </tbody>\n",
       "</table>\n",
       "</div>"
      ],
      "text/plain": [
       "            0         1         2\n",
       "min -2.770130 -1.465972 -1.709924\n",
       "max  0.030022  2.018909  0.136076"
      ]
     },
     "execution_count": 14,
     "metadata": {},
     "output_type": "execute_result"
    }
   ],
   "source": [
    "def f(x):\n",
    "    return pd.Series([x.min(), x.max()], index=[\"min\", \"max\"])\n",
    "\n",
    "df12.apply(f)"
   ]
  },
  {
   "cell_type": "markdown",
   "id": "06dc9053",
   "metadata": {},
   "source": [
    "You can also use element-wise Python functions. Suppose you want to round each floating point value in `df12` to two decimal places, you can do this with [pandas.DataFrame.applymap](https://pandas.pydata.org/docs/reference/api/pandas.DataFrame.applymap.html):"
   ]
  },
  {
   "cell_type": "code",
   "execution_count": 15,
   "id": "3b470cc7",
   "metadata": {},
   "outputs": [
    {
     "data": {
      "text/html": [
       "<div>\n",
       "<style scoped>\n",
       "    .dataframe tbody tr th:only-of-type {\n",
       "        vertical-align: middle;\n",
       "    }\n",
       "\n",
       "    .dataframe tbody tr th {\n",
       "        vertical-align: top;\n",
       "    }\n",
       "\n",
       "    .dataframe thead th {\n",
       "        text-align: right;\n",
       "    }\n",
       "</style>\n",
       "<table border=\"1\" class=\"dataframe\">\n",
       "  <thead>\n",
       "    <tr style=\"text-align: right;\">\n",
       "      <th></th>\n",
       "      <th>0</th>\n",
       "      <th>1</th>\n",
       "      <th>2</th>\n",
       "    </tr>\n",
       "  </thead>\n",
       "  <tbody>\n",
       "    <tr>\n",
       "      <th>0</th>\n",
       "      <td>-0.08</td>\n",
       "      <td>0.64</td>\n",
       "      <td>0.14</td>\n",
       "    </tr>\n",
       "    <tr>\n",
       "      <th>1</th>\n",
       "      <td>-0.38</td>\n",
       "      <td>2.02</td>\n",
       "      <td>-0.66</td>\n",
       "    </tr>\n",
       "    <tr>\n",
       "      <th>2</th>\n",
       "      <td>-2.77</td>\n",
       "      <td>-0.75</td>\n",
       "      <td>-1.71</td>\n",
       "    </tr>\n",
       "    <tr>\n",
       "      <th>3</th>\n",
       "      <td>-0.68</td>\n",
       "      <td>0.93</td>\n",
       "      <td>-1.40</td>\n",
       "    </tr>\n",
       "    <tr>\n",
       "      <th>4</th>\n",
       "      <td>-1.09</td>\n",
       "      <td>1.42</td>\n",
       "      <td>-0.28</td>\n",
       "    </tr>\n",
       "    <tr>\n",
       "      <th>5</th>\n",
       "      <td>0.03</td>\n",
       "      <td>-1.47</td>\n",
       "      <td>0.00</td>\n",
       "    </tr>\n",
       "    <tr>\n",
       "      <th>6</th>\n",
       "      <td>-0.51</td>\n",
       "      <td>0.53</td>\n",
       "      <td>0.00</td>\n",
       "    </tr>\n",
       "  </tbody>\n",
       "</table>\n",
       "</div>"
      ],
      "text/plain": [
       "      0     1     2\n",
       "0 -0.08  0.64  0.14\n",
       "1 -0.38  2.02 -0.66\n",
       "2 -2.77 -0.75 -1.71\n",
       "3 -0.68  0.93 -1.40\n",
       "4 -1.09  1.42 -0.28\n",
       "5  0.03 -1.47  0.00\n",
       "6 -0.51  0.53  0.00"
      ]
     },
     "execution_count": 15,
     "metadata": {},
     "output_type": "execute_result"
    }
   ],
   "source": [
    "f = lambda x: round(x, 2)\n",
    "\n",
    "df12.applymap(f)"
   ]
  },
  {
   "cell_type": "markdown",
   "id": "787b95cd",
   "metadata": {},
   "source": [
    "The reason for the name `applymap` is that Series has a `map` method for applying an element-wise function:"
   ]
  },
  {
   "cell_type": "code",
   "execution_count": 16,
   "id": "3aaaeef4",
   "metadata": {},
   "outputs": [
    {
     "data": {
      "text/plain": [
       "0    0.14\n",
       "1   -0.66\n",
       "2   -1.71\n",
       "3   -1.40\n",
       "4   -0.28\n",
       "5    0.00\n",
       "6    0.00\n",
       "Name: 2, dtype: float64"
      ]
     },
     "execution_count": 16,
     "metadata": {},
     "output_type": "execute_result"
    }
   ],
   "source": [
    "df12[2].map(f)"
   ]
  }
 ],
 "metadata": {
  "kernelspec": {
   "display_name": "Python 3.11 Kernel",
   "language": "python",
   "name": "python311"
  },
  "language_info": {
   "codemirror_mode": {
    "name": "ipython",
    "version": 3
   },
   "file_extension": ".py",
   "mimetype": "text/x-python",
   "name": "python",
   "nbconvert_exporter": "python",
   "pygments_lexer": "ipython3",
   "version": "3.11.4"
  },
  "widgets": {
   "application/vnd.jupyter.widget-state+json": {
    "state": {},
    "version_major": 2,
    "version_minor": 0
   }
  }
 },
 "nbformat": 4,
 "nbformat_minor": 5
}
