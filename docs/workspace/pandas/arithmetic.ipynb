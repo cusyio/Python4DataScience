{
 "cells": [
  {
   "cell_type": "markdown",
   "id": "5b70dbe9",
   "metadata": {},
   "source": [
    "# Arithmetic\n",
    "\n",
    "An important function of pandas is the arithmetic behaviour for objects with different indices. When adding objects, if the index pairs are not equal, the corresponding index in the result will be the union of the index pairs. For users with database experience, this is comparable to an automatic [outer join](https://en.wikipedia.org/wiki/Join_(SQL)#Outer_join) on the index labels. Let’s look at an example:"
   ]
  },
  {
   "cell_type": "code",
   "execution_count": 1,
   "id": "93b775f5",
   "metadata": {},
   "outputs": [],
   "source": [
    "import numpy as np\n",
    "import pandas as pd\n",
    "\n",
    "rng = np.random.default_rng()\n",
    "s1 = pd.Series(rng.normal(size=5))\n",
    "s2 = pd.Series(rng.normal(size=7))"
   ]
  },
  {
   "cell_type": "markdown",
   "id": "b05a13ac",
   "metadata": {},
   "source": [
    "If you add these values, you get:"
   ]
  },
  {
   "cell_type": "code",
   "execution_count": 2,
   "id": "81c60161",
   "metadata": {},
   "outputs": [
    {
     "data": {
      "text/plain": [
       "0    0.452985\n",
       "1   -2.751479\n",
       "2    1.170106\n",
       "3   -1.583008\n",
       "4   -0.507949\n",
       "5         NaN\n",
       "6         NaN\n",
       "dtype: float64"
      ]
     },
     "execution_count": 2,
     "metadata": {},
     "output_type": "execute_result"
    }
   ],
   "source": [
    "s1 + s2"
   ]
  },
  {
   "cell_type": "markdown",
   "id": "d0b380ee",
   "metadata": {},
   "source": [
    "The internal data matching leads to missing values at the points of the labels that do not overlap. Missing values are then passed on in further arithmetic calculations."
   ]
  },
  {
   "cell_type": "markdown",
   "id": "bd4ef5fa",
   "metadata": {},
   "source": [
    "For DataFrames, alignment is performed for both rows and columns:"
   ]
  },
  {
   "cell_type": "code",
   "execution_count": 3,
   "id": "e16d0e94",
   "metadata": {},
   "outputs": [],
   "source": [
    "df1 = pd.DataFrame(rng.normal(size=(5,3)))\n",
    "df2 = pd.DataFrame(rng.normal(size=(7,2)))"
   ]
  },
  {
   "cell_type": "markdown",
   "id": "13ce8463",
   "metadata": {},
   "source": [
    "When the two DataFrames are added together, the result is a DataFrame whose index and columns are the unions of those in each of the DataFrames above:"
   ]
  },
  {
   "cell_type": "code",
   "execution_count": 4,
   "id": "932c7e62",
   "metadata": {},
   "outputs": [
    {
     "data": {
      "text/html": [
       "<div>\n",
       "<style scoped>\n",
       "    .dataframe tbody tr th:only-of-type {\n",
       "        vertical-align: middle;\n",
       "    }\n",
       "\n",
       "    .dataframe tbody tr th {\n",
       "        vertical-align: top;\n",
       "    }\n",
       "\n",
       "    .dataframe thead th {\n",
       "        text-align: right;\n",
       "    }\n",
       "</style>\n",
       "<table border=\"1\" class=\"dataframe\">\n",
       "  <thead>\n",
       "    <tr style=\"text-align: right;\">\n",
       "      <th></th>\n",
       "      <th>0</th>\n",
       "      <th>1</th>\n",
       "      <th>2</th>\n",
       "    </tr>\n",
       "  </thead>\n",
       "  <tbody>\n",
       "    <tr>\n",
       "      <th>0</th>\n",
       "      <td>-1.740413</td>\n",
       "      <td>0.566677</td>\n",
       "      <td>NaN</td>\n",
       "    </tr>\n",
       "    <tr>\n",
       "      <th>1</th>\n",
       "      <td>1.992954</td>\n",
       "      <td>-2.637117</td>\n",
       "      <td>NaN</td>\n",
       "    </tr>\n",
       "    <tr>\n",
       "      <th>2</th>\n",
       "      <td>-0.111516</td>\n",
       "      <td>-0.340413</td>\n",
       "      <td>NaN</td>\n",
       "    </tr>\n",
       "    <tr>\n",
       "      <th>3</th>\n",
       "      <td>0.418716</td>\n",
       "      <td>-0.847758</td>\n",
       "      <td>NaN</td>\n",
       "    </tr>\n",
       "    <tr>\n",
       "      <th>4</th>\n",
       "      <td>0.625907</td>\n",
       "      <td>1.675521</td>\n",
       "      <td>NaN</td>\n",
       "    </tr>\n",
       "    <tr>\n",
       "      <th>5</th>\n",
       "      <td>NaN</td>\n",
       "      <td>NaN</td>\n",
       "      <td>NaN</td>\n",
       "    </tr>\n",
       "    <tr>\n",
       "      <th>6</th>\n",
       "      <td>NaN</td>\n",
       "      <td>NaN</td>\n",
       "      <td>NaN</td>\n",
       "    </tr>\n",
       "  </tbody>\n",
       "</table>\n",
       "</div>"
      ],
      "text/plain": [
       "          0         1   2\n",
       "0 -1.740413  0.566677 NaN\n",
       "1  1.992954 -2.637117 NaN\n",
       "2 -0.111516 -0.340413 NaN\n",
       "3  0.418716 -0.847758 NaN\n",
       "4  0.625907  1.675521 NaN\n",
       "5       NaN       NaN NaN\n",
       "6       NaN       NaN NaN"
      ]
     },
     "execution_count": 4,
     "metadata": {},
     "output_type": "execute_result"
    }
   ],
   "source": [
    "df1 + df2"
   ]
  },
  {
   "cell_type": "markdown",
   "id": "5974e184",
   "metadata": {},
   "source": [
    "Since column 2 does not appear in both DataFrame objects, its values appear as missing in the result. The same applies to the rows whose labels do not appear in both objects."
   ]
  },
  {
   "cell_type": "markdown",
   "id": "1cd9fe13",
   "metadata": {},
   "source": [
    "## Arithmetic methods with fill values\n",
    "\n",
    "In arithmetic operations between differently indexed objects, a special value (e.g. `0`) can be useful if an axis label is found in one object but not in the other.  The `add` method can pass the `fill_value` argument:"
   ]
  },
  {
   "cell_type": "code",
   "execution_count": 5,
   "id": "35f89dfd",
   "metadata": {},
   "outputs": [
    {
     "data": {
      "text/html": [
       "<div>\n",
       "<style scoped>\n",
       "    .dataframe tbody tr th:only-of-type {\n",
       "        vertical-align: middle;\n",
       "    }\n",
       "\n",
       "    .dataframe tbody tr th {\n",
       "        vertical-align: top;\n",
       "    }\n",
       "\n",
       "    .dataframe thead th {\n",
       "        text-align: right;\n",
       "    }\n",
       "</style>\n",
       "<table border=\"1\" class=\"dataframe\">\n",
       "  <thead>\n",
       "    <tr style=\"text-align: right;\">\n",
       "      <th></th>\n",
       "      <th>0</th>\n",
       "      <th>1</th>\n",
       "      <th>2</th>\n",
       "    </tr>\n",
       "  </thead>\n",
       "  <tbody>\n",
       "    <tr>\n",
       "      <th>0</th>\n",
       "      <td>-1.740413</td>\n",
       "      <td>0.566677</td>\n",
       "      <td>0.715587</td>\n",
       "    </tr>\n",
       "    <tr>\n",
       "      <th>1</th>\n",
       "      <td>1.992954</td>\n",
       "      <td>-2.637117</td>\n",
       "      <td>0.888983</td>\n",
       "    </tr>\n",
       "    <tr>\n",
       "      <th>2</th>\n",
       "      <td>-0.111516</td>\n",
       "      <td>-0.340413</td>\n",
       "      <td>0.811355</td>\n",
       "    </tr>\n",
       "    <tr>\n",
       "      <th>3</th>\n",
       "      <td>0.418716</td>\n",
       "      <td>-0.847758</td>\n",
       "      <td>-0.233179</td>\n",
       "    </tr>\n",
       "    <tr>\n",
       "      <th>4</th>\n",
       "      <td>0.625907</td>\n",
       "      <td>1.675521</td>\n",
       "      <td>0.494883</td>\n",
       "    </tr>\n",
       "    <tr>\n",
       "      <th>5</th>\n",
       "      <td>1.780402</td>\n",
       "      <td>-0.349901</td>\n",
       "      <td>NaN</td>\n",
       "    </tr>\n",
       "    <tr>\n",
       "      <th>6</th>\n",
       "      <td>0.922128</td>\n",
       "      <td>-0.487242</td>\n",
       "      <td>NaN</td>\n",
       "    </tr>\n",
       "  </tbody>\n",
       "</table>\n",
       "</div>"
      ],
      "text/plain": [
       "          0         1         2\n",
       "0 -1.740413  0.566677  0.715587\n",
       "1  1.992954 -2.637117  0.888983\n",
       "2 -0.111516 -0.340413  0.811355\n",
       "3  0.418716 -0.847758 -0.233179\n",
       "4  0.625907  1.675521  0.494883\n",
       "5  1.780402 -0.349901       NaN\n",
       "6  0.922128 -0.487242       NaN"
      ]
     },
     "execution_count": 5,
     "metadata": {},
     "output_type": "execute_result"
    }
   ],
   "source": [
    "df12 = df1.add(df2, fill_value=0)\n",
    "\n",
    "df12"
   ]
  },
  {
   "cell_type": "markdown",
   "id": "686dc151",
   "metadata": {},
   "source": [
    "In the following example, we set the two remaining NaN values to `0`:"
   ]
  },
  {
   "cell_type": "code",
   "execution_count": 6,
   "id": "7dd4bbe1",
   "metadata": {},
   "outputs": [],
   "source": [
    "df12.iloc[[5,6], [2]] = 0"
   ]
  },
  {
   "cell_type": "code",
   "execution_count": 7,
   "id": "a7f447ae",
   "metadata": {},
   "outputs": [
    {
     "data": {
      "text/html": [
       "<div>\n",
       "<style scoped>\n",
       "    .dataframe tbody tr th:only-of-type {\n",
       "        vertical-align: middle;\n",
       "    }\n",
       "\n",
       "    .dataframe tbody tr th {\n",
       "        vertical-align: top;\n",
       "    }\n",
       "\n",
       "    .dataframe thead th {\n",
       "        text-align: right;\n",
       "    }\n",
       "</style>\n",
       "<table border=\"1\" class=\"dataframe\">\n",
       "  <thead>\n",
       "    <tr style=\"text-align: right;\">\n",
       "      <th></th>\n",
       "      <th>0</th>\n",
       "      <th>1</th>\n",
       "      <th>2</th>\n",
       "    </tr>\n",
       "  </thead>\n",
       "  <tbody>\n",
       "    <tr>\n",
       "      <th>0</th>\n",
       "      <td>-1.740413</td>\n",
       "      <td>0.566677</td>\n",
       "      <td>0.715587</td>\n",
       "    </tr>\n",
       "    <tr>\n",
       "      <th>1</th>\n",
       "      <td>1.992954</td>\n",
       "      <td>-2.637117</td>\n",
       "      <td>0.888983</td>\n",
       "    </tr>\n",
       "    <tr>\n",
       "      <th>2</th>\n",
       "      <td>-0.111516</td>\n",
       "      <td>-0.340413</td>\n",
       "      <td>0.811355</td>\n",
       "    </tr>\n",
       "    <tr>\n",
       "      <th>3</th>\n",
       "      <td>0.418716</td>\n",
       "      <td>-0.847758</td>\n",
       "      <td>-0.233179</td>\n",
       "    </tr>\n",
       "    <tr>\n",
       "      <th>4</th>\n",
       "      <td>0.625907</td>\n",
       "      <td>1.675521</td>\n",
       "      <td>0.494883</td>\n",
       "    </tr>\n",
       "    <tr>\n",
       "      <th>5</th>\n",
       "      <td>1.780402</td>\n",
       "      <td>-0.349901</td>\n",
       "      <td>0.000000</td>\n",
       "    </tr>\n",
       "    <tr>\n",
       "      <th>6</th>\n",
       "      <td>0.922128</td>\n",
       "      <td>-0.487242</td>\n",
       "      <td>0.000000</td>\n",
       "    </tr>\n",
       "  </tbody>\n",
       "</table>\n",
       "</div>"
      ],
      "text/plain": [
       "          0         1         2\n",
       "0 -1.740413  0.566677  0.715587\n",
       "1  1.992954 -2.637117  0.888983\n",
       "2 -0.111516 -0.340413  0.811355\n",
       "3  0.418716 -0.847758 -0.233179\n",
       "4  0.625907  1.675521  0.494883\n",
       "5  1.780402 -0.349901  0.000000\n",
       "6  0.922128 -0.487242  0.000000"
      ]
     },
     "execution_count": 7,
     "metadata": {},
     "output_type": "execute_result"
    }
   ],
   "source": [
    "df12"
   ]
  },
  {
   "cell_type": "markdown",
   "id": "1dbbcce0",
   "metadata": {},
   "source": [
    "## Arithmetic methods\n",
    "\n",
    "Method | Description\n",
    ":----- | :----------\n",
    "`add`, `radd` | methods for addition (`+`)\n",
    "`sub`, `rsub` | methods for subtraction (`-`)\n",
    "`div`, `rdiv` | methods for division (`/`)\n",
    "`floordiv`, `rfloordiv` | methods for floor division (`//`)\n",
    "`mul`, `rmul` | methods for multiplication (`*`)\n",
    "`pow`, `rpow` | methods for exponentiation (`**`)\n",
    "\n",
    "`r` (English: _reverse_) reverses the method."
   ]
  },
  {
   "cell_type": "markdown",
   "id": "2e634696",
   "metadata": {},
   "source": [
    "## Operations between DataFrame and Series\n",
    "\n",
    "As with NumPy arrays of different dimensions, the arithmetic between DataFrame and Series is also defined."
   ]
  },
  {
   "cell_type": "code",
   "execution_count": 8,
   "id": "7920f4b7",
   "metadata": {},
   "outputs": [
    {
     "data": {
      "text/html": [
       "<div>\n",
       "<style scoped>\n",
       "    .dataframe tbody tr th:only-of-type {\n",
       "        vertical-align: middle;\n",
       "    }\n",
       "\n",
       "    .dataframe tbody tr th {\n",
       "        vertical-align: top;\n",
       "    }\n",
       "\n",
       "    .dataframe thead th {\n",
       "        text-align: right;\n",
       "    }\n",
       "</style>\n",
       "<table border=\"1\" class=\"dataframe\">\n",
       "  <thead>\n",
       "    <tr style=\"text-align: right;\">\n",
       "      <th></th>\n",
       "      <th>0</th>\n",
       "      <th>1</th>\n",
       "      <th>2</th>\n",
       "      <th>3</th>\n",
       "      <th>4</th>\n",
       "    </tr>\n",
       "  </thead>\n",
       "  <tbody>\n",
       "    <tr>\n",
       "      <th>0</th>\n",
       "      <td>-2.533022</td>\n",
       "      <td>-1.635689</td>\n",
       "      <td>2.219348</td>\n",
       "      <td>NaN</td>\n",
       "      <td>NaN</td>\n",
       "    </tr>\n",
       "    <tr>\n",
       "      <th>1</th>\n",
       "      <td>1.200346</td>\n",
       "      <td>-4.839483</td>\n",
       "      <td>2.392744</td>\n",
       "      <td>NaN</td>\n",
       "      <td>NaN</td>\n",
       "    </tr>\n",
       "    <tr>\n",
       "      <th>2</th>\n",
       "      <td>-0.904124</td>\n",
       "      <td>-2.542779</td>\n",
       "      <td>2.315117</td>\n",
       "      <td>NaN</td>\n",
       "      <td>NaN</td>\n",
       "    </tr>\n",
       "    <tr>\n",
       "      <th>3</th>\n",
       "      <td>-0.373892</td>\n",
       "      <td>-3.050124</td>\n",
       "      <td>1.270582</td>\n",
       "      <td>NaN</td>\n",
       "      <td>NaN</td>\n",
       "    </tr>\n",
       "    <tr>\n",
       "      <th>4</th>\n",
       "      <td>-0.166702</td>\n",
       "      <td>-0.526845</td>\n",
       "      <td>1.998644</td>\n",
       "      <td>NaN</td>\n",
       "      <td>NaN</td>\n",
       "    </tr>\n",
       "    <tr>\n",
       "      <th>5</th>\n",
       "      <td>0.987793</td>\n",
       "      <td>-2.552267</td>\n",
       "      <td>1.503761</td>\n",
       "      <td>NaN</td>\n",
       "      <td>NaN</td>\n",
       "    </tr>\n",
       "    <tr>\n",
       "      <th>6</th>\n",
       "      <td>0.129520</td>\n",
       "      <td>-2.689608</td>\n",
       "      <td>1.503761</td>\n",
       "      <td>NaN</td>\n",
       "      <td>NaN</td>\n",
       "    </tr>\n",
       "  </tbody>\n",
       "</table>\n",
       "</div>"
      ],
      "text/plain": [
       "          0         1         2   3   4\n",
       "0 -2.533022 -1.635689  2.219348 NaN NaN\n",
       "1  1.200346 -4.839483  2.392744 NaN NaN\n",
       "2 -0.904124 -2.542779  2.315117 NaN NaN\n",
       "3 -0.373892 -3.050124  1.270582 NaN NaN\n",
       "4 -0.166702 -0.526845  1.998644 NaN NaN\n",
       "5  0.987793 -2.552267  1.503761 NaN NaN\n",
       "6  0.129520 -2.689608  1.503761 NaN NaN"
      ]
     },
     "execution_count": 8,
     "metadata": {},
     "output_type": "execute_result"
    }
   ],
   "source": [
    "s1 + df12"
   ]
  },
  {
   "cell_type": "markdown",
   "id": "36005166",
   "metadata": {},
   "source": [
    "If we add `s1` with `df12`, the addition is done once for each line. This is called _broadcasting_. By default, the arithmetic between the DataFrame and the series corresponds to the index of the series in the columns of the DataFrame, with the rows being broadcast down."
   ]
  },
  {
   "cell_type": "markdown",
   "id": "4d57486f",
   "metadata": {},
   "source": [
    "If an index value is found neither in the columns of the DataFrame nor in the index of the series, the objects are re-indexed to form the union:"
   ]
  },
  {
   "cell_type": "markdown",
   "id": "0f0f79eb",
   "metadata": {},
   "source": [
    "If instead you want to transfer the columns and match the rows, you must use one of the arithmetic methods, for example:"
   ]
  },
  {
   "cell_type": "code",
   "execution_count": 9,
   "id": "cebe5864",
   "metadata": {},
   "outputs": [
    {
     "data": {
      "text/html": [
       "<div>\n",
       "<style scoped>\n",
       "    .dataframe tbody tr th:only-of-type {\n",
       "        vertical-align: middle;\n",
       "    }\n",
       "\n",
       "    .dataframe tbody tr th {\n",
       "        vertical-align: top;\n",
       "    }\n",
       "\n",
       "    .dataframe thead th {\n",
       "        text-align: right;\n",
       "    }\n",
       "</style>\n",
       "<table border=\"1\" class=\"dataframe\">\n",
       "  <thead>\n",
       "    <tr style=\"text-align: right;\">\n",
       "      <th></th>\n",
       "      <th>0</th>\n",
       "      <th>1</th>\n",
       "      <th>2</th>\n",
       "    </tr>\n",
       "  </thead>\n",
       "  <tbody>\n",
       "    <tr>\n",
       "      <th>0</th>\n",
       "      <td>-0.494820</td>\n",
       "      <td>1.812271</td>\n",
       "      <td>1.961180</td>\n",
       "    </tr>\n",
       "    <tr>\n",
       "      <th>1</th>\n",
       "      <td>1.443841</td>\n",
       "      <td>-3.186230</td>\n",
       "      <td>0.339870</td>\n",
       "    </tr>\n",
       "    <tr>\n",
       "      <th>2</th>\n",
       "      <td>-0.445171</td>\n",
       "      <td>-0.674068</td>\n",
       "      <td>0.477700</td>\n",
       "    </tr>\n",
       "    <tr>\n",
       "      <th>3</th>\n",
       "      <td>-0.380913</td>\n",
       "      <td>-1.647387</td>\n",
       "      <td>-1.032809</td>\n",
       "    </tr>\n",
       "    <tr>\n",
       "      <th>4</th>\n",
       "      <td>0.260930</td>\n",
       "      <td>1.310545</td>\n",
       "      <td>0.129906</td>\n",
       "    </tr>\n",
       "    <tr>\n",
       "      <th>5</th>\n",
       "      <td>2.116184</td>\n",
       "      <td>-0.014119</td>\n",
       "      <td>0.335782</td>\n",
       "    </tr>\n",
       "    <tr>\n",
       "      <th>6</th>\n",
       "      <td>1.471784</td>\n",
       "      <td>0.062413</td>\n",
       "      <td>0.549655</td>\n",
       "    </tr>\n",
       "  </tbody>\n",
       "</table>\n",
       "</div>"
      ],
      "text/plain": [
       "          0         1         2\n",
       "0 -0.494820  1.812271  1.961180\n",
       "1  1.443841 -3.186230  0.339870\n",
       "2 -0.445171 -0.674068  0.477700\n",
       "3 -0.380913 -1.647387 -1.032809\n",
       "4  0.260930  1.310545  0.129906\n",
       "5  2.116184 -0.014119  0.335782\n",
       "6  1.471784  0.062413  0.549655"
      ]
     },
     "execution_count": 9,
     "metadata": {},
     "output_type": "execute_result"
    }
   ],
   "source": [
    "df12.add(s2, axis='index')"
   ]
  },
  {
   "cell_type": "markdown",
   "id": "21b63ef1",
   "metadata": {},
   "source": [
    "The axis number you pass is the axis to be aligned to. In this case, the row index of the DataFrame (`axis='index'` or `axis=0`) is to be adjusted and transmitted."
   ]
  },
  {
   "cell_type": "markdown",
   "id": "9ffae4f8",
   "metadata": {},
   "source": [
    "## Function application and mapping\n",
    "\n",
    "`numpy.ufunc` (element-wise array methods) also work with pandas objects:"
   ]
  },
  {
   "cell_type": "code",
   "execution_count": 10,
   "id": "0796f179",
   "metadata": {},
   "outputs": [
    {
     "data": {
      "text/html": [
       "<div>\n",
       "<style scoped>\n",
       "    .dataframe tbody tr th:only-of-type {\n",
       "        vertical-align: middle;\n",
       "    }\n",
       "\n",
       "    .dataframe tbody tr th {\n",
       "        vertical-align: top;\n",
       "    }\n",
       "\n",
       "    .dataframe thead th {\n",
       "        text-align: right;\n",
       "    }\n",
       "</style>\n",
       "<table border=\"1\" class=\"dataframe\">\n",
       "  <thead>\n",
       "    <tr style=\"text-align: right;\">\n",
       "      <th></th>\n",
       "      <th>0</th>\n",
       "      <th>1</th>\n",
       "      <th>2</th>\n",
       "    </tr>\n",
       "  </thead>\n",
       "  <tbody>\n",
       "    <tr>\n",
       "      <th>0</th>\n",
       "      <td>1.740413</td>\n",
       "      <td>0.566677</td>\n",
       "      <td>0.715587</td>\n",
       "    </tr>\n",
       "    <tr>\n",
       "      <th>1</th>\n",
       "      <td>1.992954</td>\n",
       "      <td>2.637117</td>\n",
       "      <td>0.888983</td>\n",
       "    </tr>\n",
       "    <tr>\n",
       "      <th>2</th>\n",
       "      <td>0.111516</td>\n",
       "      <td>0.340413</td>\n",
       "      <td>0.811355</td>\n",
       "    </tr>\n",
       "    <tr>\n",
       "      <th>3</th>\n",
       "      <td>0.418716</td>\n",
       "      <td>0.847758</td>\n",
       "      <td>0.233179</td>\n",
       "    </tr>\n",
       "    <tr>\n",
       "      <th>4</th>\n",
       "      <td>0.625907</td>\n",
       "      <td>1.675521</td>\n",
       "      <td>0.494883</td>\n",
       "    </tr>\n",
       "    <tr>\n",
       "      <th>5</th>\n",
       "      <td>1.780402</td>\n",
       "      <td>0.349901</td>\n",
       "      <td>0.000000</td>\n",
       "    </tr>\n",
       "    <tr>\n",
       "      <th>6</th>\n",
       "      <td>0.922128</td>\n",
       "      <td>0.487242</td>\n",
       "      <td>0.000000</td>\n",
       "    </tr>\n",
       "  </tbody>\n",
       "</table>\n",
       "</div>"
      ],
      "text/plain": [
       "          0         1         2\n",
       "0  1.740413  0.566677  0.715587\n",
       "1  1.992954  2.637117  0.888983\n",
       "2  0.111516  0.340413  0.811355\n",
       "3  0.418716  0.847758  0.233179\n",
       "4  0.625907  1.675521  0.494883\n",
       "5  1.780402  0.349901  0.000000\n",
       "6  0.922128  0.487242  0.000000"
      ]
     },
     "execution_count": 10,
     "metadata": {},
     "output_type": "execute_result"
    }
   ],
   "source": [
    "np.abs(df12)"
   ]
  },
  {
   "cell_type": "markdown",
   "id": "e00dcebb",
   "metadata": {},
   "source": [
    "Another common operation is to apply a function to one-dimensional arrays on each column or row. The [pandas.DataFrame.apply](https://pandas.pydata.org/docs/reference/api/pandas.DataFrame.apply.html) method does just that:"
   ]
  },
  {
   "cell_type": "code",
   "execution_count": 11,
   "id": "97d094c1",
   "metadata": {},
   "outputs": [
    {
     "data": {
      "text/html": [
       "<div>\n",
       "<style scoped>\n",
       "    .dataframe tbody tr th:only-of-type {\n",
       "        vertical-align: middle;\n",
       "    }\n",
       "\n",
       "    .dataframe tbody tr th {\n",
       "        vertical-align: top;\n",
       "    }\n",
       "\n",
       "    .dataframe thead th {\n",
       "        text-align: right;\n",
       "    }\n",
       "</style>\n",
       "<table border=\"1\" class=\"dataframe\">\n",
       "  <thead>\n",
       "    <tr style=\"text-align: right;\">\n",
       "      <th></th>\n",
       "      <th>0</th>\n",
       "      <th>1</th>\n",
       "      <th>2</th>\n",
       "    </tr>\n",
       "  </thead>\n",
       "  <tbody>\n",
       "    <tr>\n",
       "      <th>0</th>\n",
       "      <td>-1.740413</td>\n",
       "      <td>0.566677</td>\n",
       "      <td>0.715587</td>\n",
       "    </tr>\n",
       "    <tr>\n",
       "      <th>1</th>\n",
       "      <td>1.992954</td>\n",
       "      <td>-2.637117</td>\n",
       "      <td>0.888983</td>\n",
       "    </tr>\n",
       "    <tr>\n",
       "      <th>2</th>\n",
       "      <td>-0.111516</td>\n",
       "      <td>-0.340413</td>\n",
       "      <td>0.811355</td>\n",
       "    </tr>\n",
       "    <tr>\n",
       "      <th>3</th>\n",
       "      <td>0.418716</td>\n",
       "      <td>-0.847758</td>\n",
       "      <td>-0.233179</td>\n",
       "    </tr>\n",
       "    <tr>\n",
       "      <th>4</th>\n",
       "      <td>0.625907</td>\n",
       "      <td>1.675521</td>\n",
       "      <td>0.494883</td>\n",
       "    </tr>\n",
       "    <tr>\n",
       "      <th>5</th>\n",
       "      <td>1.780402</td>\n",
       "      <td>-0.349901</td>\n",
       "      <td>0.000000</td>\n",
       "    </tr>\n",
       "    <tr>\n",
       "      <th>6</th>\n",
       "      <td>0.922128</td>\n",
       "      <td>-0.487242</td>\n",
       "      <td>0.000000</td>\n",
       "    </tr>\n",
       "  </tbody>\n",
       "</table>\n",
       "</div>"
      ],
      "text/plain": [
       "          0         1         2\n",
       "0 -1.740413  0.566677  0.715587\n",
       "1  1.992954 -2.637117  0.888983\n",
       "2 -0.111516 -0.340413  0.811355\n",
       "3  0.418716 -0.847758 -0.233179\n",
       "4  0.625907  1.675521  0.494883\n",
       "5  1.780402 -0.349901  0.000000\n",
       "6  0.922128 -0.487242  0.000000"
      ]
     },
     "execution_count": 11,
     "metadata": {},
     "output_type": "execute_result"
    }
   ],
   "source": [
    "df12"
   ]
  },
  {
   "cell_type": "code",
   "execution_count": 12,
   "id": "0f11be9c",
   "metadata": {},
   "outputs": [
    {
     "data": {
      "text/plain": [
       "0    3.733368\n",
       "1    4.312639\n",
       "2    1.122163\n",
       "dtype: float64"
      ]
     },
     "execution_count": 12,
     "metadata": {},
     "output_type": "execute_result"
    }
   ],
   "source": [
    "f = lambda x: x.max() - x.min()\n",
    "\n",
    "df12.apply(f)"
   ]
  },
  {
   "cell_type": "markdown",
   "id": "6421662b",
   "metadata": {},
   "source": [
    "Here the function `f`, which calculates the difference between the maximum and minimum of a row, is called once for each column of the frame. The result is a row with the columns of the frame as index."
   ]
  },
  {
   "cell_type": "markdown",
   "id": "ecd6ad81",
   "metadata": {},
   "source": [
    "If you pass `axis='columns'` to `apply`, the function will be called once per line instead:"
   ]
  },
  {
   "cell_type": "code",
   "execution_count": 13,
   "id": "b54c6f89",
   "metadata": {},
   "outputs": [
    {
     "data": {
      "text/plain": [
       "0    2.456000\n",
       "1    4.630072\n",
       "2    1.151768\n",
       "3    1.266474\n",
       "4    1.180639\n",
       "5    2.130302\n",
       "6    1.409370\n",
       "dtype: float64"
      ]
     },
     "execution_count": 13,
     "metadata": {},
     "output_type": "execute_result"
    }
   ],
   "source": [
    "df12.apply(f, axis='columns')"
   ]
  },
  {
   "cell_type": "markdown",
   "id": "677910f9",
   "metadata": {},
   "source": [
    "Many of the most common array statistics (such as `sum` and `mean`) are DataFrame methods, so the use of `apply` is not necessary."
   ]
  },
  {
   "cell_type": "markdown",
   "id": "ff49ea56",
   "metadata": {},
   "source": [
    "The function passed to apply does not have to return a single value; it can also return a series with multiple values:"
   ]
  },
  {
   "cell_type": "code",
   "execution_count": 14,
   "id": "4abc03d5",
   "metadata": {},
   "outputs": [
    {
     "data": {
      "text/html": [
       "<div>\n",
       "<style scoped>\n",
       "    .dataframe tbody tr th:only-of-type {\n",
       "        vertical-align: middle;\n",
       "    }\n",
       "\n",
       "    .dataframe tbody tr th {\n",
       "        vertical-align: top;\n",
       "    }\n",
       "\n",
       "    .dataframe thead th {\n",
       "        text-align: right;\n",
       "    }\n",
       "</style>\n",
       "<table border=\"1\" class=\"dataframe\">\n",
       "  <thead>\n",
       "    <tr style=\"text-align: right;\">\n",
       "      <th></th>\n",
       "      <th>0</th>\n",
       "      <th>1</th>\n",
       "      <th>2</th>\n",
       "    </tr>\n",
       "  </thead>\n",
       "  <tbody>\n",
       "    <tr>\n",
       "      <th>min</th>\n",
       "      <td>-1.740413</td>\n",
       "      <td>-2.637117</td>\n",
       "      <td>-0.233179</td>\n",
       "    </tr>\n",
       "    <tr>\n",
       "      <th>max</th>\n",
       "      <td>1.992954</td>\n",
       "      <td>1.675521</td>\n",
       "      <td>0.888983</td>\n",
       "    </tr>\n",
       "  </tbody>\n",
       "</table>\n",
       "</div>"
      ],
      "text/plain": [
       "            0         1         2\n",
       "min -1.740413 -2.637117 -0.233179\n",
       "max  1.992954  1.675521  0.888983"
      ]
     },
     "execution_count": 14,
     "metadata": {},
     "output_type": "execute_result"
    }
   ],
   "source": [
    "def f(x):\n",
    "    return pd.Series([x.min(), x.max()], index=['min', 'max'])\n",
    "\n",
    "df12.apply(f)"
   ]
  },
  {
   "cell_type": "markdown",
   "id": "06dc9053",
   "metadata": {},
   "source": [
    "You can also use element-wise Python functions. Suppose you want to round each floating point value in `df12` to two decimal places, you can do this with [pandas.DataFrame.applymap](https://pandas.pydata.org/docs/reference/api/pandas.DataFrame.applymap.html):"
   ]
  },
  {
   "cell_type": "code",
   "execution_count": 15,
   "id": "3b470cc7",
   "metadata": {},
   "outputs": [
    {
     "data": {
      "text/html": [
       "<div>\n",
       "<style scoped>\n",
       "    .dataframe tbody tr th:only-of-type {\n",
       "        vertical-align: middle;\n",
       "    }\n",
       "\n",
       "    .dataframe tbody tr th {\n",
       "        vertical-align: top;\n",
       "    }\n",
       "\n",
       "    .dataframe thead th {\n",
       "        text-align: right;\n",
       "    }\n",
       "</style>\n",
       "<table border=\"1\" class=\"dataframe\">\n",
       "  <thead>\n",
       "    <tr style=\"text-align: right;\">\n",
       "      <th></th>\n",
       "      <th>0</th>\n",
       "      <th>1</th>\n",
       "      <th>2</th>\n",
       "    </tr>\n",
       "  </thead>\n",
       "  <tbody>\n",
       "    <tr>\n",
       "      <th>0</th>\n",
       "      <td>-1.74</td>\n",
       "      <td>0.57</td>\n",
       "      <td>0.72</td>\n",
       "    </tr>\n",
       "    <tr>\n",
       "      <th>1</th>\n",
       "      <td>1.99</td>\n",
       "      <td>-2.64</td>\n",
       "      <td>0.89</td>\n",
       "    </tr>\n",
       "    <tr>\n",
       "      <th>2</th>\n",
       "      <td>-0.11</td>\n",
       "      <td>-0.34</td>\n",
       "      <td>0.81</td>\n",
       "    </tr>\n",
       "    <tr>\n",
       "      <th>3</th>\n",
       "      <td>0.42</td>\n",
       "      <td>-0.85</td>\n",
       "      <td>-0.23</td>\n",
       "    </tr>\n",
       "    <tr>\n",
       "      <th>4</th>\n",
       "      <td>0.63</td>\n",
       "      <td>1.68</td>\n",
       "      <td>0.49</td>\n",
       "    </tr>\n",
       "    <tr>\n",
       "      <th>5</th>\n",
       "      <td>1.78</td>\n",
       "      <td>-0.35</td>\n",
       "      <td>0.00</td>\n",
       "    </tr>\n",
       "    <tr>\n",
       "      <th>6</th>\n",
       "      <td>0.92</td>\n",
       "      <td>-0.49</td>\n",
       "      <td>0.00</td>\n",
       "    </tr>\n",
       "  </tbody>\n",
       "</table>\n",
       "</div>"
      ],
      "text/plain": [
       "      0     1     2\n",
       "0 -1.74  0.57  0.72\n",
       "1  1.99 -2.64  0.89\n",
       "2 -0.11 -0.34  0.81\n",
       "3  0.42 -0.85 -0.23\n",
       "4  0.63  1.68  0.49\n",
       "5  1.78 -0.35  0.00\n",
       "6  0.92 -0.49  0.00"
      ]
     },
     "execution_count": 15,
     "metadata": {},
     "output_type": "execute_result"
    }
   ],
   "source": [
    "f = lambda x: round(x, 2)\n",
    "\n",
    "df12.applymap(f)"
   ]
  },
  {
   "cell_type": "markdown",
   "id": "787b95cd",
   "metadata": {},
   "source": [
    "The reason for the name `applymap` is that Series has a `map` method for applying an element-wise function:"
   ]
  },
  {
   "cell_type": "code",
   "execution_count": 16,
   "id": "3aaaeef4",
   "metadata": {},
   "outputs": [
    {
     "data": {
      "text/plain": [
       "0    0.72\n",
       "1    0.89\n",
       "2    0.81\n",
       "3   -0.23\n",
       "4    0.49\n",
       "5    0.00\n",
       "6    0.00\n",
       "Name: 2, dtype: float64"
      ]
     },
     "execution_count": 16,
     "metadata": {},
     "output_type": "execute_result"
    }
   ],
   "source": [
    "df12[2].map(f)"
   ]
  }
 ],
 "metadata": {
  "kernelspec": {
   "display_name": "Python 3.8",
   "language": "python",
   "name": "python-38"
  },
  "language_info": {
   "codemirror_mode": {
    "name": "ipython",
    "version": 3
   },
   "file_extension": ".py",
   "mimetype": "text/x-python",
   "name": "python",
   "nbconvert_exporter": "python",
   "pygments_lexer": "ipython3",
   "version": "3.8.12"
  }
 },
 "nbformat": 4,
 "nbformat_minor": 5
}
