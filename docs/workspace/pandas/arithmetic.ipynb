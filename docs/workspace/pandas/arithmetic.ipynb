{
 "cells": [
  {
   "cell_type": "markdown",
   "id": "3190418c",
   "metadata": {},
   "source": [
    "# Arithmetic\n",
    "\n",
    "An important function of pandas is the arithmetic behaviour for objects with different indices. When adding objects, if the index pairs are not equal, the corresponding index in the result will be the union of the index pairs. For users with database experience, this is comparable to an automatic [outer join](https://en.wikipedia.org/wiki/Join_(SQL)#Outer_join) on the index labels. Let’s look at an example:"
   ]
  },
  {
   "cell_type": "code",
   "execution_count": 1,
   "id": "d0e54401",
   "metadata": {},
   "outputs": [],
   "source": [
    "import numpy as np\n",
    "import pandas as pd\n",
    "\n",
    "s1 = pd.Series(np.random.randn(5))\n",
    "s2 = pd.Series(np.random.randn(7))"
   ]
  },
  {
   "cell_type": "markdown",
   "id": "9e83be1d",
   "metadata": {},
   "source": [
    "If you add these values, you get:"
   ]
  },
  {
   "cell_type": "code",
   "execution_count": 2,
   "id": "f6463db7",
   "metadata": {},
   "outputs": [
    {
     "data": {
      "text/plain": [
       "0    0.207066\n",
       "1    0.264242\n",
       "2    0.102994\n",
       "3    0.700203\n",
       "4    0.708296\n",
       "5         NaN\n",
       "6         NaN\n",
       "dtype: float64"
      ]
     },
     "execution_count": 2,
     "metadata": {},
     "output_type": "execute_result"
    }
   ],
   "source": [
    "s1 + s2"
   ]
  },
  {
   "cell_type": "markdown",
   "id": "e9de981e",
   "metadata": {},
   "source": [
    "The internal data matching leads to missing values at the points of the labels that do not overlap. Missing values are then passed on in further arithmetic calculations."
   ]
  },
  {
   "cell_type": "markdown",
   "id": "688e7aa0",
   "metadata": {},
   "source": [
    "For DataFrames, alignment is performed for both rows and columns:"
   ]
  },
  {
   "cell_type": "code",
   "execution_count": 3,
   "id": "c945c759",
   "metadata": {},
   "outputs": [],
   "source": [
    "df1 = pd.DataFrame(np.random.randn(5,3))\n",
    "df2 = pd.DataFrame(np.random.randn(7,2))"
   ]
  },
  {
   "cell_type": "markdown",
   "id": "b78acf5b",
   "metadata": {},
   "source": [
    "When the two DataFrames are added together, the result is a DataFrame whose index and columns are the unions of those in each of the DataFrames above:"
   ]
  },
  {
   "cell_type": "code",
   "execution_count": 4,
   "id": "bdf32451",
   "metadata": {},
   "outputs": [
    {
     "data": {
      "text/html": [
       "<div>\n",
       "<style scoped>\n",
       "    .dataframe tbody tr th:only-of-type {\n",
       "        vertical-align: middle;\n",
       "    }\n",
       "\n",
       "    .dataframe tbody tr th {\n",
       "        vertical-align: top;\n",
       "    }\n",
       "\n",
       "    .dataframe thead th {\n",
       "        text-align: right;\n",
       "    }\n",
       "</style>\n",
       "<table border=\"1\" class=\"dataframe\">\n",
       "  <thead>\n",
       "    <tr style=\"text-align: right;\">\n",
       "      <th></th>\n",
       "      <th>0</th>\n",
       "      <th>1</th>\n",
       "      <th>2</th>\n",
       "    </tr>\n",
       "  </thead>\n",
       "  <tbody>\n",
       "    <tr>\n",
       "      <th>0</th>\n",
       "      <td>2.365608</td>\n",
       "      <td>0.016872</td>\n",
       "      <td>NaN</td>\n",
       "    </tr>\n",
       "    <tr>\n",
       "      <th>1</th>\n",
       "      <td>3.014176</td>\n",
       "      <td>0.158577</td>\n",
       "      <td>NaN</td>\n",
       "    </tr>\n",
       "    <tr>\n",
       "      <th>2</th>\n",
       "      <td>-1.253507</td>\n",
       "      <td>-0.069276</td>\n",
       "      <td>NaN</td>\n",
       "    </tr>\n",
       "    <tr>\n",
       "      <th>3</th>\n",
       "      <td>0.966925</td>\n",
       "      <td>1.856066</td>\n",
       "      <td>NaN</td>\n",
       "    </tr>\n",
       "    <tr>\n",
       "      <th>4</th>\n",
       "      <td>-2.636667</td>\n",
       "      <td>-1.296551</td>\n",
       "      <td>NaN</td>\n",
       "    </tr>\n",
       "    <tr>\n",
       "      <th>5</th>\n",
       "      <td>NaN</td>\n",
       "      <td>NaN</td>\n",
       "      <td>NaN</td>\n",
       "    </tr>\n",
       "    <tr>\n",
       "      <th>6</th>\n",
       "      <td>NaN</td>\n",
       "      <td>NaN</td>\n",
       "      <td>NaN</td>\n",
       "    </tr>\n",
       "  </tbody>\n",
       "</table>\n",
       "</div>"
      ],
      "text/plain": [
       "          0         1   2\n",
       "0  2.365608  0.016872 NaN\n",
       "1  3.014176  0.158577 NaN\n",
       "2 -1.253507 -0.069276 NaN\n",
       "3  0.966925  1.856066 NaN\n",
       "4 -2.636667 -1.296551 NaN\n",
       "5       NaN       NaN NaN\n",
       "6       NaN       NaN NaN"
      ]
     },
     "execution_count": 4,
     "metadata": {},
     "output_type": "execute_result"
    }
   ],
   "source": [
    "df1 + df2"
   ]
  },
  {
   "cell_type": "markdown",
   "id": "f27bb97e",
   "metadata": {},
   "source": [
    "Since column 2 does not appear in both DataFrame objects, its values appear as missing in the result. The same applies to the rows whose labels do not appear in both objects."
   ]
  },
  {
   "cell_type": "markdown",
   "id": "c0e88200",
   "metadata": {},
   "source": [
    "## Arithmetic methods with fill values\n",
    "\n",
    "In arithmetic operations between differently indexed objects, a special value (e.g. `0`) can be useful if an axis label is found in one object but not in the other.  The `add` method can pass the `fill_value` argument:"
   ]
  },
  {
   "cell_type": "code",
   "execution_count": 5,
   "id": "6d82abcd",
   "metadata": {},
   "outputs": [
    {
     "data": {
      "text/html": [
       "<div>\n",
       "<style scoped>\n",
       "    .dataframe tbody tr th:only-of-type {\n",
       "        vertical-align: middle;\n",
       "    }\n",
       "\n",
       "    .dataframe tbody tr th {\n",
       "        vertical-align: top;\n",
       "    }\n",
       "\n",
       "    .dataframe thead th {\n",
       "        text-align: right;\n",
       "    }\n",
       "</style>\n",
       "<table border=\"1\" class=\"dataframe\">\n",
       "  <thead>\n",
       "    <tr style=\"text-align: right;\">\n",
       "      <th></th>\n",
       "      <th>0</th>\n",
       "      <th>1</th>\n",
       "      <th>2</th>\n",
       "    </tr>\n",
       "  </thead>\n",
       "  <tbody>\n",
       "    <tr>\n",
       "      <th>0</th>\n",
       "      <td>2.365608</td>\n",
       "      <td>0.016872</td>\n",
       "      <td>-0.184961</td>\n",
       "    </tr>\n",
       "    <tr>\n",
       "      <th>1</th>\n",
       "      <td>3.014176</td>\n",
       "      <td>0.158577</td>\n",
       "      <td>-0.212261</td>\n",
       "    </tr>\n",
       "    <tr>\n",
       "      <th>2</th>\n",
       "      <td>-1.253507</td>\n",
       "      <td>-0.069276</td>\n",
       "      <td>-0.660886</td>\n",
       "    </tr>\n",
       "    <tr>\n",
       "      <th>3</th>\n",
       "      <td>0.966925</td>\n",
       "      <td>1.856066</td>\n",
       "      <td>-0.421662</td>\n",
       "    </tr>\n",
       "    <tr>\n",
       "      <th>4</th>\n",
       "      <td>-2.636667</td>\n",
       "      <td>-1.296551</td>\n",
       "      <td>1.059397</td>\n",
       "    </tr>\n",
       "    <tr>\n",
       "      <th>5</th>\n",
       "      <td>0.290635</td>\n",
       "      <td>-0.110048</td>\n",
       "      <td>NaN</td>\n",
       "    </tr>\n",
       "    <tr>\n",
       "      <th>6</th>\n",
       "      <td>0.134017</td>\n",
       "      <td>-0.301216</td>\n",
       "      <td>NaN</td>\n",
       "    </tr>\n",
       "  </tbody>\n",
       "</table>\n",
       "</div>"
      ],
      "text/plain": [
       "          0         1         2\n",
       "0  2.365608  0.016872 -0.184961\n",
       "1  3.014176  0.158577 -0.212261\n",
       "2 -1.253507 -0.069276 -0.660886\n",
       "3  0.966925  1.856066 -0.421662\n",
       "4 -2.636667 -1.296551  1.059397\n",
       "5  0.290635 -0.110048       NaN\n",
       "6  0.134017 -0.301216       NaN"
      ]
     },
     "execution_count": 5,
     "metadata": {},
     "output_type": "execute_result"
    }
   ],
   "source": [
    "df12 = df1.add(df2, fill_value=0)\n",
    "\n",
    "df12"
   ]
  },
  {
   "cell_type": "markdown",
   "id": "b5f00f94",
   "metadata": {},
   "source": [
    "In the following example, we set the two remaining NaN values to `0`:"
   ]
  },
  {
   "cell_type": "code",
   "execution_count": 6,
   "id": "c190d94e",
   "metadata": {},
   "outputs": [],
   "source": [
    "df12.iloc[[5,6], [2]] = 0"
   ]
  },
  {
   "cell_type": "code",
   "execution_count": 7,
   "id": "d2074c38",
   "metadata": {},
   "outputs": [
    {
     "data": {
      "text/html": [
       "<div>\n",
       "<style scoped>\n",
       "    .dataframe tbody tr th:only-of-type {\n",
       "        vertical-align: middle;\n",
       "    }\n",
       "\n",
       "    .dataframe tbody tr th {\n",
       "        vertical-align: top;\n",
       "    }\n",
       "\n",
       "    .dataframe thead th {\n",
       "        text-align: right;\n",
       "    }\n",
       "</style>\n",
       "<table border=\"1\" class=\"dataframe\">\n",
       "  <thead>\n",
       "    <tr style=\"text-align: right;\">\n",
       "      <th></th>\n",
       "      <th>0</th>\n",
       "      <th>1</th>\n",
       "      <th>2</th>\n",
       "    </tr>\n",
       "  </thead>\n",
       "  <tbody>\n",
       "    <tr>\n",
       "      <th>0</th>\n",
       "      <td>2.365608</td>\n",
       "      <td>0.016872</td>\n",
       "      <td>-0.184961</td>\n",
       "    </tr>\n",
       "    <tr>\n",
       "      <th>1</th>\n",
       "      <td>3.014176</td>\n",
       "      <td>0.158577</td>\n",
       "      <td>-0.212261</td>\n",
       "    </tr>\n",
       "    <tr>\n",
       "      <th>2</th>\n",
       "      <td>-1.253507</td>\n",
       "      <td>-0.069276</td>\n",
       "      <td>-0.660886</td>\n",
       "    </tr>\n",
       "    <tr>\n",
       "      <th>3</th>\n",
       "      <td>0.966925</td>\n",
       "      <td>1.856066</td>\n",
       "      <td>-0.421662</td>\n",
       "    </tr>\n",
       "    <tr>\n",
       "      <th>4</th>\n",
       "      <td>-2.636667</td>\n",
       "      <td>-1.296551</td>\n",
       "      <td>1.059397</td>\n",
       "    </tr>\n",
       "    <tr>\n",
       "      <th>5</th>\n",
       "      <td>0.290635</td>\n",
       "      <td>-0.110048</td>\n",
       "      <td>0.000000</td>\n",
       "    </tr>\n",
       "    <tr>\n",
       "      <th>6</th>\n",
       "      <td>0.134017</td>\n",
       "      <td>-0.301216</td>\n",
       "      <td>0.000000</td>\n",
       "    </tr>\n",
       "  </tbody>\n",
       "</table>\n",
       "</div>"
      ],
      "text/plain": [
       "          0         1         2\n",
       "0  2.365608  0.016872 -0.184961\n",
       "1  3.014176  0.158577 -0.212261\n",
       "2 -1.253507 -0.069276 -0.660886\n",
       "3  0.966925  1.856066 -0.421662\n",
       "4 -2.636667 -1.296551  1.059397\n",
       "5  0.290635 -0.110048  0.000000\n",
       "6  0.134017 -0.301216  0.000000"
      ]
     },
     "execution_count": 7,
     "metadata": {},
     "output_type": "execute_result"
    }
   ],
   "source": [
    "df12"
   ]
  },
  {
   "cell_type": "markdown",
   "id": "7e2bd526",
   "metadata": {},
   "source": [
    "## Arithmetic methods\n",
    "\n",
    "Method | Description\n",
    ":----- | :----------\n",
    "`add`, `radd` | methods for addition (`+`)\n",
    "`sub`, `rsub` | methods for subtraction (`-`)\n",
    "`div`, `rdiv` | methods for division (`/`)\n",
    "`floordiv`, `rfloordiv` | methods for floor division (`//`)\n",
    "`mul`, `rmul` | methods for multiplication (`*`)\n",
    "`pow`, `rpow` | methods for exponentiation (`**`)\n",
    "\n",
    "`r` (English: _reverse_) reverses the method."
   ]
  },
  {
   "cell_type": "markdown",
   "id": "8aa72241",
   "metadata": {},
   "source": [
    "## Operations between DataFrame and Series\n",
    "\n",
    "As with NumPy arrays of different dimensions, the arithmetic between DataFrame and Series is also defined."
   ]
  },
  {
   "cell_type": "code",
   "execution_count": 8,
   "id": "d123165f",
   "metadata": {},
   "outputs": [
    {
     "data": {
      "text/html": [
       "<div>\n",
       "<style scoped>\n",
       "    .dataframe tbody tr th:only-of-type {\n",
       "        vertical-align: middle;\n",
       "    }\n",
       "\n",
       "    .dataframe tbody tr th {\n",
       "        vertical-align: top;\n",
       "    }\n",
       "\n",
       "    .dataframe thead th {\n",
       "        text-align: right;\n",
       "    }\n",
       "</style>\n",
       "<table border=\"1\" class=\"dataframe\">\n",
       "  <thead>\n",
       "    <tr style=\"text-align: right;\">\n",
       "      <th></th>\n",
       "      <th>0</th>\n",
       "      <th>1</th>\n",
       "      <th>2</th>\n",
       "      <th>3</th>\n",
       "      <th>4</th>\n",
       "    </tr>\n",
       "  </thead>\n",
       "  <tbody>\n",
       "    <tr>\n",
       "      <th>0</th>\n",
       "      <td>1.550229</td>\n",
       "      <td>0.355749</td>\n",
       "      <td>-0.039186</td>\n",
       "      <td>NaN</td>\n",
       "      <td>NaN</td>\n",
       "    </tr>\n",
       "    <tr>\n",
       "      <th>1</th>\n",
       "      <td>2.198798</td>\n",
       "      <td>0.497454</td>\n",
       "      <td>-0.066486</td>\n",
       "      <td>NaN</td>\n",
       "      <td>NaN</td>\n",
       "    </tr>\n",
       "    <tr>\n",
       "      <th>2</th>\n",
       "      <td>-2.068886</td>\n",
       "      <td>0.269600</td>\n",
       "      <td>-0.515111</td>\n",
       "      <td>NaN</td>\n",
       "      <td>NaN</td>\n",
       "    </tr>\n",
       "    <tr>\n",
       "      <th>3</th>\n",
       "      <td>0.151546</td>\n",
       "      <td>2.194942</td>\n",
       "      <td>-0.275887</td>\n",
       "      <td>NaN</td>\n",
       "      <td>NaN</td>\n",
       "    </tr>\n",
       "    <tr>\n",
       "      <th>4</th>\n",
       "      <td>-3.452046</td>\n",
       "      <td>-0.957675</td>\n",
       "      <td>1.205172</td>\n",
       "      <td>NaN</td>\n",
       "      <td>NaN</td>\n",
       "    </tr>\n",
       "    <tr>\n",
       "      <th>5</th>\n",
       "      <td>-0.524743</td>\n",
       "      <td>0.228829</td>\n",
       "      <td>0.145775</td>\n",
       "      <td>NaN</td>\n",
       "      <td>NaN</td>\n",
       "    </tr>\n",
       "    <tr>\n",
       "      <th>6</th>\n",
       "      <td>-0.681361</td>\n",
       "      <td>0.037660</td>\n",
       "      <td>0.145775</td>\n",
       "      <td>NaN</td>\n",
       "      <td>NaN</td>\n",
       "    </tr>\n",
       "  </tbody>\n",
       "</table>\n",
       "</div>"
      ],
      "text/plain": [
       "          0         1         2   3   4\n",
       "0  1.550229  0.355749 -0.039186 NaN NaN\n",
       "1  2.198798  0.497454 -0.066486 NaN NaN\n",
       "2 -2.068886  0.269600 -0.515111 NaN NaN\n",
       "3  0.151546  2.194942 -0.275887 NaN NaN\n",
       "4 -3.452046 -0.957675  1.205172 NaN NaN\n",
       "5 -0.524743  0.228829  0.145775 NaN NaN\n",
       "6 -0.681361  0.037660  0.145775 NaN NaN"
      ]
     },
     "execution_count": 8,
     "metadata": {},
     "output_type": "execute_result"
    }
   ],
   "source": [
    "s1 + df12"
   ]
  },
  {
   "cell_type": "markdown",
   "id": "5471b6ac",
   "metadata": {},
   "source": [
    "If we add `s1` with `df12`, the additon is done once for each line. This is called _broadcasting_. By default, the arithmetic between the DataFrame and the series corresponds to the index of the series in the columns of the DataFrame, with the rows being broadcast down."
   ]
  },
  {
   "cell_type": "markdown",
   "id": "d65352b0",
   "metadata": {},
   "source": [
    "If an index value is found neither in the columns of the DataFrame nor in the index of the series, the objects are re-indexed to form the union:"
   ]
  },
  {
   "cell_type": "markdown",
   "id": "a2e5f57f",
   "metadata": {},
   "source": [
    "If instead you want to transfer the columns and match the rows, you must use one of the arithmetic methods, for example:"
   ]
  },
  {
   "cell_type": "code",
   "execution_count": 9,
   "id": "ebde36c7",
   "metadata": {},
   "outputs": [
    {
     "data": {
      "text/html": [
       "<div>\n",
       "<style scoped>\n",
       "    .dataframe tbody tr th:only-of-type {\n",
       "        vertical-align: middle;\n",
       "    }\n",
       "\n",
       "    .dataframe tbody tr th {\n",
       "        vertical-align: top;\n",
       "    }\n",
       "\n",
       "    .dataframe thead th {\n",
       "        text-align: right;\n",
       "    }\n",
       "</style>\n",
       "<table border=\"1\" class=\"dataframe\">\n",
       "  <thead>\n",
       "    <tr style=\"text-align: right;\">\n",
       "      <th></th>\n",
       "      <th>0</th>\n",
       "      <th>1</th>\n",
       "      <th>2</th>\n",
       "    </tr>\n",
       "  </thead>\n",
       "  <tbody>\n",
       "    <tr>\n",
       "      <th>0</th>\n",
       "      <td>3.388052</td>\n",
       "      <td>1.039317</td>\n",
       "      <td>0.837483</td>\n",
       "    </tr>\n",
       "    <tr>\n",
       "      <th>1</th>\n",
       "      <td>2.939542</td>\n",
       "      <td>0.083943</td>\n",
       "      <td>-0.286895</td>\n",
       "    </tr>\n",
       "    <tr>\n",
       "      <th>2</th>\n",
       "      <td>-1.296288</td>\n",
       "      <td>-0.112057</td>\n",
       "      <td>-0.703668</td>\n",
       "    </tr>\n",
       "    <tr>\n",
       "      <th>3</th>\n",
       "      <td>-0.905759</td>\n",
       "      <td>-0.016618</td>\n",
       "      <td>-2.294346</td>\n",
       "    </tr>\n",
       "    <tr>\n",
       "      <th>4</th>\n",
       "      <td>-2.579514</td>\n",
       "      <td>-1.239397</td>\n",
       "      <td>1.116551</td>\n",
       "    </tr>\n",
       "    <tr>\n",
       "      <th>5</th>\n",
       "      <td>-0.345143</td>\n",
       "      <td>-0.745827</td>\n",
       "      <td>-0.635779</td>\n",
       "    </tr>\n",
       "    <tr>\n",
       "      <th>6</th>\n",
       "      <td>0.198245</td>\n",
       "      <td>-0.236989</td>\n",
       "      <td>0.064228</td>\n",
       "    </tr>\n",
       "  </tbody>\n",
       "</table>\n",
       "</div>"
      ],
      "text/plain": [
       "          0         1         2\n",
       "0  3.388052  1.039317  0.837483\n",
       "1  2.939542  0.083943 -0.286895\n",
       "2 -1.296288 -0.112057 -0.703668\n",
       "3 -0.905759 -0.016618 -2.294346\n",
       "4 -2.579514 -1.239397  1.116551\n",
       "5 -0.345143 -0.745827 -0.635779\n",
       "6  0.198245 -0.236989  0.064228"
      ]
     },
     "execution_count": 9,
     "metadata": {},
     "output_type": "execute_result"
    }
   ],
   "source": [
    "df12.add(s2, axis='index')"
   ]
  },
  {
   "cell_type": "markdown",
   "id": "31130935",
   "metadata": {},
   "source": [
    "The axis number you pass is the axis to be aligned to. In this case, the row index of the DataFrame (`axis='index'` or `axis=0`) is to be adjusted and transmitted."
   ]
  },
  {
   "cell_type": "markdown",
   "id": "bfda0502",
   "metadata": {},
   "source": [
    "## Function application and mapping\n",
    "\n",
    "`numpy.ufunc` (element-wise array methods) also work with pandas objects:"
   ]
  },
  {
   "cell_type": "code",
   "execution_count": 10,
   "id": "a5693878",
   "metadata": {},
   "outputs": [
    {
     "data": {
      "text/html": [
       "<div>\n",
       "<style scoped>\n",
       "    .dataframe tbody tr th:only-of-type {\n",
       "        vertical-align: middle;\n",
       "    }\n",
       "\n",
       "    .dataframe tbody tr th {\n",
       "        vertical-align: top;\n",
       "    }\n",
       "\n",
       "    .dataframe thead th {\n",
       "        text-align: right;\n",
       "    }\n",
       "</style>\n",
       "<table border=\"1\" class=\"dataframe\">\n",
       "  <thead>\n",
       "    <tr style=\"text-align: right;\">\n",
       "      <th></th>\n",
       "      <th>0</th>\n",
       "      <th>1</th>\n",
       "      <th>2</th>\n",
       "    </tr>\n",
       "  </thead>\n",
       "  <tbody>\n",
       "    <tr>\n",
       "      <th>0</th>\n",
       "      <td>2.365608</td>\n",
       "      <td>0.016872</td>\n",
       "      <td>0.184961</td>\n",
       "    </tr>\n",
       "    <tr>\n",
       "      <th>1</th>\n",
       "      <td>3.014176</td>\n",
       "      <td>0.158577</td>\n",
       "      <td>0.212261</td>\n",
       "    </tr>\n",
       "    <tr>\n",
       "      <th>2</th>\n",
       "      <td>1.253507</td>\n",
       "      <td>0.069276</td>\n",
       "      <td>0.660886</td>\n",
       "    </tr>\n",
       "    <tr>\n",
       "      <th>3</th>\n",
       "      <td>0.966925</td>\n",
       "      <td>1.856066</td>\n",
       "      <td>0.421662</td>\n",
       "    </tr>\n",
       "    <tr>\n",
       "      <th>4</th>\n",
       "      <td>2.636667</td>\n",
       "      <td>1.296551</td>\n",
       "      <td>1.059397</td>\n",
       "    </tr>\n",
       "    <tr>\n",
       "      <th>5</th>\n",
       "      <td>0.290635</td>\n",
       "      <td>0.110048</td>\n",
       "      <td>0.000000</td>\n",
       "    </tr>\n",
       "    <tr>\n",
       "      <th>6</th>\n",
       "      <td>0.134017</td>\n",
       "      <td>0.301216</td>\n",
       "      <td>0.000000</td>\n",
       "    </tr>\n",
       "  </tbody>\n",
       "</table>\n",
       "</div>"
      ],
      "text/plain": [
       "          0         1         2\n",
       "0  2.365608  0.016872  0.184961\n",
       "1  3.014176  0.158577  0.212261\n",
       "2  1.253507  0.069276  0.660886\n",
       "3  0.966925  1.856066  0.421662\n",
       "4  2.636667  1.296551  1.059397\n",
       "5  0.290635  0.110048  0.000000\n",
       "6  0.134017  0.301216  0.000000"
      ]
     },
     "execution_count": 10,
     "metadata": {},
     "output_type": "execute_result"
    }
   ],
   "source": [
    "np.abs(df12)"
   ]
  },
  {
   "cell_type": "markdown",
   "id": "620c1fb3",
   "metadata": {},
   "source": [
    "Another common operation is to apply a function to one-dimensional arrays on each column or row. The [pandas.DataFrame.apply](https://pandas.pydata.org/docs/reference/api/pandas.DataFrame.apply.html) method does just that:"
   ]
  },
  {
   "cell_type": "code",
   "execution_count": 11,
   "id": "bbf2c720",
   "metadata": {},
   "outputs": [
    {
     "data": {
      "text/html": [
       "<div>\n",
       "<style scoped>\n",
       "    .dataframe tbody tr th:only-of-type {\n",
       "        vertical-align: middle;\n",
       "    }\n",
       "\n",
       "    .dataframe tbody tr th {\n",
       "        vertical-align: top;\n",
       "    }\n",
       "\n",
       "    .dataframe thead th {\n",
       "        text-align: right;\n",
       "    }\n",
       "</style>\n",
       "<table border=\"1\" class=\"dataframe\">\n",
       "  <thead>\n",
       "    <tr style=\"text-align: right;\">\n",
       "      <th></th>\n",
       "      <th>0</th>\n",
       "      <th>1</th>\n",
       "      <th>2</th>\n",
       "    </tr>\n",
       "  </thead>\n",
       "  <tbody>\n",
       "    <tr>\n",
       "      <th>0</th>\n",
       "      <td>2.365608</td>\n",
       "      <td>0.016872</td>\n",
       "      <td>-0.184961</td>\n",
       "    </tr>\n",
       "    <tr>\n",
       "      <th>1</th>\n",
       "      <td>3.014176</td>\n",
       "      <td>0.158577</td>\n",
       "      <td>-0.212261</td>\n",
       "    </tr>\n",
       "    <tr>\n",
       "      <th>2</th>\n",
       "      <td>-1.253507</td>\n",
       "      <td>-0.069276</td>\n",
       "      <td>-0.660886</td>\n",
       "    </tr>\n",
       "    <tr>\n",
       "      <th>3</th>\n",
       "      <td>0.966925</td>\n",
       "      <td>1.856066</td>\n",
       "      <td>-0.421662</td>\n",
       "    </tr>\n",
       "    <tr>\n",
       "      <th>4</th>\n",
       "      <td>-2.636667</td>\n",
       "      <td>-1.296551</td>\n",
       "      <td>1.059397</td>\n",
       "    </tr>\n",
       "    <tr>\n",
       "      <th>5</th>\n",
       "      <td>0.290635</td>\n",
       "      <td>-0.110048</td>\n",
       "      <td>0.000000</td>\n",
       "    </tr>\n",
       "    <tr>\n",
       "      <th>6</th>\n",
       "      <td>0.134017</td>\n",
       "      <td>-0.301216</td>\n",
       "      <td>0.000000</td>\n",
       "    </tr>\n",
       "  </tbody>\n",
       "</table>\n",
       "</div>"
      ],
      "text/plain": [
       "          0         1         2\n",
       "0  2.365608  0.016872 -0.184961\n",
       "1  3.014176  0.158577 -0.212261\n",
       "2 -1.253507 -0.069276 -0.660886\n",
       "3  0.966925  1.856066 -0.421662\n",
       "4 -2.636667 -1.296551  1.059397\n",
       "5  0.290635 -0.110048  0.000000\n",
       "6  0.134017 -0.301216  0.000000"
      ]
     },
     "execution_count": 11,
     "metadata": {},
     "output_type": "execute_result"
    }
   ],
   "source": [
    "df12"
   ]
  },
  {
   "cell_type": "code",
   "execution_count": 12,
   "id": "5a5d1353",
   "metadata": {},
   "outputs": [
    {
     "data": {
      "text/plain": [
       "0    5.650844\n",
       "1    3.152617\n",
       "2    1.720283\n",
       "dtype: float64"
      ]
     },
     "execution_count": 12,
     "metadata": {},
     "output_type": "execute_result"
    }
   ],
   "source": [
    "f = lambda x: x.max() - x.min()\n",
    "\n",
    "df12.apply(f)"
   ]
  },
  {
   "cell_type": "markdown",
   "id": "297fcb93",
   "metadata": {},
   "source": [
    "Here the function `f`, which calculates the difference between the maximum and minimum of a row, is called once for each column of the frame. The result is a row with the columns of the frame as index."
   ]
  },
  {
   "cell_type": "markdown",
   "id": "e1e47c37",
   "metadata": {},
   "source": [
    "If you pass `axis='columns'` to `apply`, the function will be called once per line instead:"
   ]
  },
  {
   "cell_type": "code",
   "execution_count": 13,
   "id": "4a9e44dd",
   "metadata": {},
   "outputs": [
    {
     "data": {
      "text/plain": [
       "0    2.550569\n",
       "1    3.226437\n",
       "2    1.184231\n",
       "3    2.277728\n",
       "4    3.696064\n",
       "5    0.400683\n",
       "6    0.435233\n",
       "dtype: float64"
      ]
     },
     "execution_count": 13,
     "metadata": {},
     "output_type": "execute_result"
    }
   ],
   "source": [
    "df12.apply(f, axis='columns')"
   ]
  },
  {
   "cell_type": "markdown",
   "id": "a9b8e891",
   "metadata": {},
   "source": [
    "Many of the most common array statistics (such as `sum` and `mean`) are DataFrame methods, so the use of `apply` is not necessary."
   ]
  },
  {
   "cell_type": "markdown",
   "id": "79e240d8",
   "metadata": {},
   "source": [
    "The function passed to apply does not have to return a single value; it can also return a series with multiple values:"
   ]
  },
  {
   "cell_type": "code",
   "execution_count": 14,
   "id": "e90ecbff",
   "metadata": {},
   "outputs": [
    {
     "data": {
      "text/html": [
       "<div>\n",
       "<style scoped>\n",
       "    .dataframe tbody tr th:only-of-type {\n",
       "        vertical-align: middle;\n",
       "    }\n",
       "\n",
       "    .dataframe tbody tr th {\n",
       "        vertical-align: top;\n",
       "    }\n",
       "\n",
       "    .dataframe thead th {\n",
       "        text-align: right;\n",
       "    }\n",
       "</style>\n",
       "<table border=\"1\" class=\"dataframe\">\n",
       "  <thead>\n",
       "    <tr style=\"text-align: right;\">\n",
       "      <th></th>\n",
       "      <th>0</th>\n",
       "      <th>1</th>\n",
       "      <th>2</th>\n",
       "    </tr>\n",
       "  </thead>\n",
       "  <tbody>\n",
       "    <tr>\n",
       "      <th>min</th>\n",
       "      <td>-2.636667</td>\n",
       "      <td>-1.296551</td>\n",
       "      <td>-0.660886</td>\n",
       "    </tr>\n",
       "    <tr>\n",
       "      <th>max</th>\n",
       "      <td>3.014176</td>\n",
       "      <td>1.856066</td>\n",
       "      <td>1.059397</td>\n",
       "    </tr>\n",
       "  </tbody>\n",
       "</table>\n",
       "</div>"
      ],
      "text/plain": [
       "            0         1         2\n",
       "min -2.636667 -1.296551 -0.660886\n",
       "max  3.014176  1.856066  1.059397"
      ]
     },
     "execution_count": 14,
     "metadata": {},
     "output_type": "execute_result"
    }
   ],
   "source": [
    "def f(x):\n",
    "    return pd.Series([x.min(), x.max()], index=['min', 'max'])\n",
    "\n",
    "df12.apply(f)"
   ]
  },
  {
   "cell_type": "markdown",
   "id": "46721dde",
   "metadata": {},
   "source": [
    "You can also use element-wise Python functions. Suppose you want to round each floating point value in `df12` to two decimal places, you can do this with [pandas.DataFrame.applymap](https://pandas.pydata.org/docs/reference/api/pandas.DataFrame.applymap.html):"
   ]
  },
  {
   "cell_type": "code",
   "execution_count": 15,
   "id": "92c4f3f8",
   "metadata": {},
   "outputs": [
    {
     "data": {
      "text/html": [
       "<div>\n",
       "<style scoped>\n",
       "    .dataframe tbody tr th:only-of-type {\n",
       "        vertical-align: middle;\n",
       "    }\n",
       "\n",
       "    .dataframe tbody tr th {\n",
       "        vertical-align: top;\n",
       "    }\n",
       "\n",
       "    .dataframe thead th {\n",
       "        text-align: right;\n",
       "    }\n",
       "</style>\n",
       "<table border=\"1\" class=\"dataframe\">\n",
       "  <thead>\n",
       "    <tr style=\"text-align: right;\">\n",
       "      <th></th>\n",
       "      <th>0</th>\n",
       "      <th>1</th>\n",
       "      <th>2</th>\n",
       "    </tr>\n",
       "  </thead>\n",
       "  <tbody>\n",
       "    <tr>\n",
       "      <th>0</th>\n",
       "      <td>2.37</td>\n",
       "      <td>0.02</td>\n",
       "      <td>-0.18</td>\n",
       "    </tr>\n",
       "    <tr>\n",
       "      <th>1</th>\n",
       "      <td>3.01</td>\n",
       "      <td>0.16</td>\n",
       "      <td>-0.21</td>\n",
       "    </tr>\n",
       "    <tr>\n",
       "      <th>2</th>\n",
       "      <td>-1.25</td>\n",
       "      <td>-0.07</td>\n",
       "      <td>-0.66</td>\n",
       "    </tr>\n",
       "    <tr>\n",
       "      <th>3</th>\n",
       "      <td>0.97</td>\n",
       "      <td>1.86</td>\n",
       "      <td>-0.42</td>\n",
       "    </tr>\n",
       "    <tr>\n",
       "      <th>4</th>\n",
       "      <td>-2.64</td>\n",
       "      <td>-1.30</td>\n",
       "      <td>1.06</td>\n",
       "    </tr>\n",
       "    <tr>\n",
       "      <th>5</th>\n",
       "      <td>0.29</td>\n",
       "      <td>-0.11</td>\n",
       "      <td>0.00</td>\n",
       "    </tr>\n",
       "    <tr>\n",
       "      <th>6</th>\n",
       "      <td>0.13</td>\n",
       "      <td>-0.30</td>\n",
       "      <td>0.00</td>\n",
       "    </tr>\n",
       "  </tbody>\n",
       "</table>\n",
       "</div>"
      ],
      "text/plain": [
       "      0     1     2\n",
       "0  2.37  0.02 -0.18\n",
       "1  3.01  0.16 -0.21\n",
       "2 -1.25 -0.07 -0.66\n",
       "3  0.97  1.86 -0.42\n",
       "4 -2.64 -1.30  1.06\n",
       "5  0.29 -0.11  0.00\n",
       "6  0.13 -0.30  0.00"
      ]
     },
     "execution_count": 15,
     "metadata": {},
     "output_type": "execute_result"
    }
   ],
   "source": [
    "f = lambda x: round(x, 2)\n",
    "\n",
    "df12.applymap(f)"
   ]
  },
  {
   "cell_type": "markdown",
   "id": "6be84cc8",
   "metadata": {},
   "source": [
    "The reason for the name `applymap` is that Series has a `map` method for applying an element-wise function:"
   ]
  },
  {
   "cell_type": "code",
   "execution_count": 16,
   "id": "a5a144ed",
   "metadata": {},
   "outputs": [
    {
     "data": {
      "text/plain": [
       "0   -0.18\n",
       "1   -0.21\n",
       "2   -0.66\n",
       "3   -0.42\n",
       "4    1.06\n",
       "5    0.00\n",
       "6    0.00\n",
       "Name: 2, dtype: float64"
      ]
     },
     "execution_count": 16,
     "metadata": {},
     "output_type": "execute_result"
    }
   ],
   "source": [
    "df12[2].map(f)"
   ]
  }
 ],
 "metadata": {
  "kernelspec": {
   "display_name": "Python 3.8",
   "language": "python",
   "name": "python-38"
  },
  "language_info": {
   "codemirror_mode": {
    "name": "ipython",
    "version": 3
   },
   "file_extension": ".py",
   "mimetype": "text/x-python",
   "name": "python",
   "nbconvert_exporter": "python",
   "pygments_lexer": "ipython3",
   "version": "3.8.12"
  }
 },
 "nbformat": 4,
 "nbformat_minor": 5
}
