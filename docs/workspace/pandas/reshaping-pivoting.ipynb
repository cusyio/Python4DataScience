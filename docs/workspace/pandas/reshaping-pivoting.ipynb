{
 "cells": [
  {
   "cell_type": "markdown",
   "id": "e37c4a6d",
   "metadata": {},
   "source": [
    "# Pivot tables and crosstabs\n",
    "\n",
    "A [pivot table](https://en.wikipedia.org/wiki/Pivot_table) is a data summary tool often found in spreadsheet and other data analysis software. It summarises a table of data by one or more keys and arranges the data in a rectangle, with some of the group keys along the rows and some along the columns. Pivot tables in Python with pandas are made possible by the [groupby](group-operations.ipynb) function in combination with reshaping operations using [hierarchical indexing](hierarchical-indexing.ipynb). `DataFrame` has a [pivot_table](https://pandas.pydata.org/docs/reference/api/pandas.DataFrame.pivot_table.html) method, and there is also a top-level function [pandas.pivot_table](https://pandas.pydata.org/docs/reference/api/pandas.pivot_table.html). `pivot_table` not only provides a convenient interface to `groupby`, but can also add partial sums (`margins`)."
   ]
  },
  {
   "cell_type": "markdown",
   "id": "05583e3d",
   "metadata": {},
   "source": [
    "Suppose we wanted to compute a table of group averages (the default aggregation type of `pivot_table`) ordered by title and language in the rows:"
   ]
  },
  {
   "cell_type": "code",
   "execution_count": 1,
   "id": "8194eb56",
   "metadata": {},
   "outputs": [],
   "source": [
    "import pandas as pd\n",
    "import numpy as np"
   ]
  },
  {
   "cell_type": "code",
   "execution_count": 2,
   "id": "0356a63a",
   "metadata": {},
   "outputs": [],
   "source": [
    "df = pd.DataFrame({'2021-12' : [30134,6073,4873,None,427,95],\n",
    "                   '2022-01' : [33295,7716,3930,None,276,226],\n",
    "                   '2022-02' : [19651,6547,2573,None,525,157]},\n",
    "                  index=[['Jupyter Tutorial',\n",
    "                          'Jupyter Tutorial',\n",
    "                          'PyViz Tutorial',\n",
    "                          'PyViz Tutorial',\n",
    "                          'Python Basics',\n",
    "                          'Python Basics'],\n",
    "                         ['de', 'en', 'de', None, 'de', 'en']])\n",
    "\n",
    "df.index.names = ['Title', 'Language']"
   ]
  },
  {
   "cell_type": "code",
   "execution_count": 3,
   "id": "cabf0dcd",
   "metadata": {},
   "outputs": [
    {
     "data": {
      "text/html": [
       "<div>\n",
       "<style scoped>\n",
       "    .dataframe tbody tr th:only-of-type {\n",
       "        vertical-align: middle;\n",
       "    }\n",
       "\n",
       "    .dataframe tbody tr th {\n",
       "        vertical-align: top;\n",
       "    }\n",
       "\n",
       "    .dataframe thead th {\n",
       "        text-align: right;\n",
       "    }\n",
       "</style>\n",
       "<table border=\"1\" class=\"dataframe\">\n",
       "  <thead>\n",
       "    <tr style=\"text-align: right;\">\n",
       "      <th></th>\n",
       "      <th></th>\n",
       "      <th>2021-12</th>\n",
       "      <th>2022-01</th>\n",
       "      <th>2022-02</th>\n",
       "    </tr>\n",
       "    <tr>\n",
       "      <th>Title</th>\n",
       "      <th>Language</th>\n",
       "      <th></th>\n",
       "      <th></th>\n",
       "      <th></th>\n",
       "    </tr>\n",
       "  </thead>\n",
       "  <tbody>\n",
       "    <tr>\n",
       "      <th rowspan=\"2\" valign=\"top\">Jupyter Tutorial</th>\n",
       "      <th>de</th>\n",
       "      <td>30134.0</td>\n",
       "      <td>33295.0</td>\n",
       "      <td>19651.0</td>\n",
       "    </tr>\n",
       "    <tr>\n",
       "      <th>en</th>\n",
       "      <td>6073.0</td>\n",
       "      <td>7716.0</td>\n",
       "      <td>6547.0</td>\n",
       "    </tr>\n",
       "    <tr>\n",
       "      <th>PyViz Tutorial</th>\n",
       "      <th>de</th>\n",
       "      <td>4873.0</td>\n",
       "      <td>3930.0</td>\n",
       "      <td>2573.0</td>\n",
       "    </tr>\n",
       "    <tr>\n",
       "      <th rowspan=\"2\" valign=\"top\">Python Basics</th>\n",
       "      <th>de</th>\n",
       "      <td>427.0</td>\n",
       "      <td>276.0</td>\n",
       "      <td>525.0</td>\n",
       "    </tr>\n",
       "    <tr>\n",
       "      <th>en</th>\n",
       "      <td>95.0</td>\n",
       "      <td>226.0</td>\n",
       "      <td>157.0</td>\n",
       "    </tr>\n",
       "  </tbody>\n",
       "</table>\n",
       "</div>"
      ],
      "text/plain": [
       "                           2021-12  2022-01  2022-02\n",
       "Title            Language                           \n",
       "Jupyter Tutorial de        30134.0  33295.0  19651.0\n",
       "                 en         6073.0   7716.0   6547.0\n",
       "PyViz Tutorial   de         4873.0   3930.0   2573.0\n",
       "Python Basics    de          427.0    276.0    525.0\n",
       "                 en           95.0    226.0    157.0"
      ]
     },
     "execution_count": 3,
     "metadata": {},
     "output_type": "execute_result"
    }
   ],
   "source": [
    "df.pivot_table(index=['Title', 'Language'])"
   ]
  },
  {
   "cell_type": "markdown",
   "id": "f902f560",
   "metadata": {},
   "source": [
    "This could also have been done directly with `groupby`."
   ]
  },
  {
   "cell_type": "markdown",
   "id": "bfd34002",
   "metadata": {},
   "source": [
    "Now let’s say we want to take the average of each month and also group by `Title`. I will put `Title` and `Language` in the table columns and the months in the rows:"
   ]
  },
  {
   "cell_type": "code",
   "execution_count": 4,
   "id": "f5441e57",
   "metadata": {},
   "outputs": [
    {
     "data": {
      "text/html": [
       "<div>\n",
       "<style scoped>\n",
       "    .dataframe tbody tr th:only-of-type {\n",
       "        vertical-align: middle;\n",
       "    }\n",
       "\n",
       "    .dataframe tbody tr th {\n",
       "        vertical-align: top;\n",
       "    }\n",
       "\n",
       "    .dataframe thead tr th {\n",
       "        text-align: left;\n",
       "    }\n",
       "</style>\n",
       "<table border=\"1\" class=\"dataframe\">\n",
       "  <thead>\n",
       "    <tr>\n",
       "      <th>Title</th>\n",
       "      <th colspan=\"2\" halign=\"left\">Jupyter Tutorial</th>\n",
       "      <th>PyViz Tutorial</th>\n",
       "      <th colspan=\"2\" halign=\"left\">Python Basics</th>\n",
       "    </tr>\n",
       "    <tr>\n",
       "      <th>Language</th>\n",
       "      <th>de</th>\n",
       "      <th>en</th>\n",
       "      <th>de</th>\n",
       "      <th>de</th>\n",
       "      <th>en</th>\n",
       "    </tr>\n",
       "  </thead>\n",
       "  <tbody>\n",
       "    <tr>\n",
       "      <th>2021-12</th>\n",
       "      <td>30134.0</td>\n",
       "      <td>6073.0</td>\n",
       "      <td>4873.0</td>\n",
       "      <td>427.0</td>\n",
       "      <td>95.0</td>\n",
       "    </tr>\n",
       "    <tr>\n",
       "      <th>2022-01</th>\n",
       "      <td>33295.0</td>\n",
       "      <td>7716.0</td>\n",
       "      <td>3930.0</td>\n",
       "      <td>276.0</td>\n",
       "      <td>226.0</td>\n",
       "    </tr>\n",
       "    <tr>\n",
       "      <th>2022-02</th>\n",
       "      <td>19651.0</td>\n",
       "      <td>6547.0</td>\n",
       "      <td>2573.0</td>\n",
       "      <td>525.0</td>\n",
       "      <td>157.0</td>\n",
       "    </tr>\n",
       "  </tbody>\n",
       "</table>\n",
       "</div>"
      ],
      "text/plain": [
       "Title    Jupyter Tutorial         PyViz Tutorial Python Basics       \n",
       "Language               de      en             de            de     en\n",
       "2021-12           30134.0  6073.0         4873.0         427.0   95.0\n",
       "2022-01           33295.0  7716.0         3930.0         276.0  226.0\n",
       "2022-02           19651.0  6547.0         2573.0         525.0  157.0"
      ]
     },
     "execution_count": 4,
     "metadata": {},
     "output_type": "execute_result"
    }
   ],
   "source": [
    "df.pivot_table(columns=['Title', 'Language'])"
   ]
  },
  {
   "cell_type": "markdown",
   "id": "b3966ce4",
   "metadata": {},
   "source": [
    "We can add subtotals to this table by passing `margins=True`. This has the effect of adding all row and column labels, with the corresponding values being the group statistics for all data within a single level:"
   ]
  },
  {
   "cell_type": "code",
   "execution_count": 5,
   "id": "84fc8fbf",
   "metadata": {},
   "outputs": [
    {
     "data": {
      "text/html": [
       "<div>\n",
       "<style scoped>\n",
       "    .dataframe tbody tr th:only-of-type {\n",
       "        vertical-align: middle;\n",
       "    }\n",
       "\n",
       "    .dataframe tbody tr th {\n",
       "        vertical-align: top;\n",
       "    }\n",
       "\n",
       "    .dataframe thead tr th {\n",
       "        text-align: left;\n",
       "    }\n",
       "</style>\n",
       "<table border=\"1\" class=\"dataframe\">\n",
       "  <thead>\n",
       "    <tr>\n",
       "      <th>Title</th>\n",
       "      <th colspan=\"3\" halign=\"left\">Jupyter Tutorial</th>\n",
       "      <th colspan=\"2\" halign=\"left\">PyViz Tutorial</th>\n",
       "      <th colspan=\"3\" halign=\"left\">Python Basics</th>\n",
       "    </tr>\n",
       "    <tr>\n",
       "      <th>Language</th>\n",
       "      <th>de</th>\n",
       "      <th>en</th>\n",
       "      <th>All</th>\n",
       "      <th>de</th>\n",
       "      <th>All</th>\n",
       "      <th>de</th>\n",
       "      <th>en</th>\n",
       "      <th>All</th>\n",
       "    </tr>\n",
       "  </thead>\n",
       "  <tbody>\n",
       "    <tr>\n",
       "      <th>2021-12</th>\n",
       "      <td>30134.0</td>\n",
       "      <td>6073.0</td>\n",
       "      <td>18103.5</td>\n",
       "      <td>4873.0</td>\n",
       "      <td>4873.0</td>\n",
       "      <td>427.0</td>\n",
       "      <td>95.0</td>\n",
       "      <td>261.0</td>\n",
       "    </tr>\n",
       "    <tr>\n",
       "      <th>2022-01</th>\n",
       "      <td>33295.0</td>\n",
       "      <td>7716.0</td>\n",
       "      <td>20505.5</td>\n",
       "      <td>3930.0</td>\n",
       "      <td>3930.0</td>\n",
       "      <td>276.0</td>\n",
       "      <td>226.0</td>\n",
       "      <td>251.0</td>\n",
       "    </tr>\n",
       "    <tr>\n",
       "      <th>2022-02</th>\n",
       "      <td>19651.0</td>\n",
       "      <td>6547.0</td>\n",
       "      <td>13099.0</td>\n",
       "      <td>2573.0</td>\n",
       "      <td>2573.0</td>\n",
       "      <td>525.0</td>\n",
       "      <td>157.0</td>\n",
       "      <td>341.0</td>\n",
       "    </tr>\n",
       "  </tbody>\n",
       "</table>\n",
       "</div>"
      ],
      "text/plain": [
       "Title    Jupyter Tutorial                  PyViz Tutorial          \\\n",
       "Language               de      en      All             de     All   \n",
       "2021-12           30134.0  6073.0  18103.5         4873.0  4873.0   \n",
       "2022-01           33295.0  7716.0  20505.5         3930.0  3930.0   \n",
       "2022-02           19651.0  6547.0  13099.0         2573.0  2573.0   \n",
       "\n",
       "Title    Python Basics                \n",
       "Language            de     en    All  \n",
       "2021-12          427.0   95.0  261.0  \n",
       "2022-01          276.0  226.0  251.0  \n",
       "2022-02          525.0  157.0  341.0  "
      ]
     },
     "execution_count": 5,
     "metadata": {},
     "output_type": "execute_result"
    }
   ],
   "source": [
    "df.pivot_table(columns=['Title', 'Language'], margins=True)"
   ]
  },
  {
   "cell_type": "markdown",
   "id": "4facae25",
   "metadata": {},
   "source": [
    "In this case, the values for `All` are the mean values."
   ]
  },
  {
   "cell_type": "markdown",
   "id": "da7fab6f",
   "metadata": {},
   "source": [
    "To use an aggregation function other than `mean`, pass it to the keyword argument `aggfunc`. With `sum`, for example, you get the sum:"
   ]
  },
  {
   "cell_type": "code",
   "execution_count": 6,
   "id": "9a74aa92",
   "metadata": {},
   "outputs": [
    {
     "data": {
      "text/html": [
       "<div>\n",
       "<style scoped>\n",
       "    .dataframe tbody tr th:only-of-type {\n",
       "        vertical-align: middle;\n",
       "    }\n",
       "\n",
       "    .dataframe tbody tr th {\n",
       "        vertical-align: top;\n",
       "    }\n",
       "\n",
       "    .dataframe thead tr th {\n",
       "        text-align: left;\n",
       "    }\n",
       "</style>\n",
       "<table border=\"1\" class=\"dataframe\">\n",
       "  <thead>\n",
       "    <tr>\n",
       "      <th>Title</th>\n",
       "      <th colspan=\"3\" halign=\"left\">Jupyter Tutorial</th>\n",
       "      <th colspan=\"2\" halign=\"left\">PyViz Tutorial</th>\n",
       "      <th colspan=\"3\" halign=\"left\">Python Basics</th>\n",
       "    </tr>\n",
       "    <tr>\n",
       "      <th>Language</th>\n",
       "      <th>de</th>\n",
       "      <th>en</th>\n",
       "      <th>All</th>\n",
       "      <th>de</th>\n",
       "      <th>All</th>\n",
       "      <th>de</th>\n",
       "      <th>en</th>\n",
       "      <th>All</th>\n",
       "    </tr>\n",
       "  </thead>\n",
       "  <tbody>\n",
       "    <tr>\n",
       "      <th>2021-12</th>\n",
       "      <td>30134.0</td>\n",
       "      <td>6073.0</td>\n",
       "      <td>36207.0</td>\n",
       "      <td>4873.0</td>\n",
       "      <td>4873.0</td>\n",
       "      <td>427.0</td>\n",
       "      <td>95.0</td>\n",
       "      <td>522.0</td>\n",
       "    </tr>\n",
       "    <tr>\n",
       "      <th>2022-01</th>\n",
       "      <td>33295.0</td>\n",
       "      <td>7716.0</td>\n",
       "      <td>41011.0</td>\n",
       "      <td>3930.0</td>\n",
       "      <td>3930.0</td>\n",
       "      <td>276.0</td>\n",
       "      <td>226.0</td>\n",
       "      <td>502.0</td>\n",
       "    </tr>\n",
       "    <tr>\n",
       "      <th>2022-02</th>\n",
       "      <td>19651.0</td>\n",
       "      <td>6547.0</td>\n",
       "      <td>26198.0</td>\n",
       "      <td>2573.0</td>\n",
       "      <td>2573.0</td>\n",
       "      <td>525.0</td>\n",
       "      <td>157.0</td>\n",
       "      <td>682.0</td>\n",
       "    </tr>\n",
       "  </tbody>\n",
       "</table>\n",
       "</div>"
      ],
      "text/plain": [
       "Title    Jupyter Tutorial                  PyViz Tutorial          \\\n",
       "Language               de      en      All             de     All   \n",
       "2021-12           30134.0  6073.0  36207.0         4873.0  4873.0   \n",
       "2022-01           33295.0  7716.0  41011.0         3930.0  3930.0   \n",
       "2022-02           19651.0  6547.0  26198.0         2573.0  2573.0   \n",
       "\n",
       "Title    Python Basics                \n",
       "Language            de     en    All  \n",
       "2021-12          427.0   95.0  522.0  \n",
       "2022-01          276.0  226.0  502.0  \n",
       "2022-02          525.0  157.0  682.0  "
      ]
     },
     "execution_count": 6,
     "metadata": {},
     "output_type": "execute_result"
    }
   ],
   "source": [
    "df.pivot_table(columns=['Title', 'Language'], aggfunc=sum, margins=True)"
   ]
  },
  {
   "cell_type": "markdown",
   "id": "04967683",
   "metadata": {},
   "source": [
    "If some combinations are empty (or otherwise `NA`), you can pass `fill_value`:"
   ]
  },
  {
   "cell_type": "code",
   "execution_count": 7,
   "id": "3c5d465f",
   "metadata": {},
   "outputs": [
    {
     "data": {
      "text/html": [
       "<div>\n",
       "<style scoped>\n",
       "    .dataframe tbody tr th:only-of-type {\n",
       "        vertical-align: middle;\n",
       "    }\n",
       "\n",
       "    .dataframe tbody tr th {\n",
       "        vertical-align: top;\n",
       "    }\n",
       "\n",
       "    .dataframe thead tr th {\n",
       "        text-align: left;\n",
       "    }\n",
       "</style>\n",
       "<table border=\"1\" class=\"dataframe\">\n",
       "  <thead>\n",
       "    <tr>\n",
       "      <th>Title</th>\n",
       "      <th colspan=\"3\" halign=\"left\">Jupyter Tutorial</th>\n",
       "      <th colspan=\"2\" halign=\"left\">PyViz Tutorial</th>\n",
       "      <th colspan=\"3\" halign=\"left\">Python Basics</th>\n",
       "    </tr>\n",
       "    <tr>\n",
       "      <th>Language</th>\n",
       "      <th>de</th>\n",
       "      <th>en</th>\n",
       "      <th>All</th>\n",
       "      <th>de</th>\n",
       "      <th>All</th>\n",
       "      <th>de</th>\n",
       "      <th>en</th>\n",
       "      <th>All</th>\n",
       "    </tr>\n",
       "  </thead>\n",
       "  <tbody>\n",
       "    <tr>\n",
       "      <th>2021-12</th>\n",
       "      <td>30134</td>\n",
       "      <td>6073</td>\n",
       "      <td>36207</td>\n",
       "      <td>4873</td>\n",
       "      <td>4873</td>\n",
       "      <td>427</td>\n",
       "      <td>95</td>\n",
       "      <td>522</td>\n",
       "    </tr>\n",
       "    <tr>\n",
       "      <th>2022-01</th>\n",
       "      <td>33295</td>\n",
       "      <td>7716</td>\n",
       "      <td>41011</td>\n",
       "      <td>3930</td>\n",
       "      <td>3930</td>\n",
       "      <td>276</td>\n",
       "      <td>226</td>\n",
       "      <td>502</td>\n",
       "    </tr>\n",
       "    <tr>\n",
       "      <th>2022-02</th>\n",
       "      <td>19651</td>\n",
       "      <td>6547</td>\n",
       "      <td>26198</td>\n",
       "      <td>2573</td>\n",
       "      <td>2573</td>\n",
       "      <td>525</td>\n",
       "      <td>157</td>\n",
       "      <td>682</td>\n",
       "    </tr>\n",
       "  </tbody>\n",
       "</table>\n",
       "</div>"
      ],
      "text/plain": [
       "Title    Jupyter Tutorial              PyViz Tutorial       Python Basics  \\\n",
       "Language               de    en    All             de   All            de   \n",
       "2021-12             30134  6073  36207           4873  4873           427   \n",
       "2022-01             33295  7716  41011           3930  3930           276   \n",
       "2022-02             19651  6547  26198           2573  2573           525   \n",
       "\n",
       "Title               \n",
       "Language   en  All  \n",
       "2021-12    95  522  \n",
       "2022-01   226  502  \n",
       "2022-02   157  682  "
      ]
     },
     "execution_count": 7,
     "metadata": {},
     "output_type": "execute_result"
    }
   ],
   "source": [
    "df.pivot_table(columns=['Title', 'Language'], aggfunc=sum, margins=True, fill_value=0)"
   ]
  },
  {
   "cell_type": "markdown",
   "id": "a914f784",
   "metadata": {},
   "source": [
    "`pivot_table` options:\n",
    "\n",
    "Function name | Description\n",
    ":------------ | :-----------\n",
    "`values` | column name(s) to aggregate; by default, all numeric columns are aggregated\n",
    "`index` | column names or other group keys to be grouped in the rows of the resulting pivot table\n",
    "`columns` | column names or other group keys to be grouped in the columns of the resulting pivot table\n",
    "`aggfunc` | aggregation function or list of functions (by default `mean`); can be any function valid in a `groupby` context\n",
    "`fill_value` | replaces missing values in the result table\n",
    "`dropna` | if `True`, columns whose entries are all `NA` are ignored\n",
    "`margins` | inserts row/column subtotals and grand totals (default: `False`)\n",
    "`margins_name` | name used for row/column labels if `margins=True` is passed, default is `All`.\n",
    "`observed` | For categorical group keys, if `True`, only the observed category values are displayed in the keys and not all categories"
   ]
  },
  {
   "cell_type": "markdown",
   "id": "4439584e",
   "metadata": {},
   "source": [
    "## Crosstabs\n",
    "\n",
    "A crosstab is a special case of a pivot table that calculates the frequency of groups. For example, in the context of an analysis of this data, we might want to determine which title was published in which language, so we could use `pivot_table` for this, but the function [pandas.crosstab](https://pandas.pydata.org/docs/reference/api/pandas.crosstab.html) is more convenient."
   ]
  },
  {
   "cell_type": "markdown",
   "id": "415c6403",
   "metadata": {},
   "source": [
    "To do this, we first reset the existing index:"
   ]
  },
  {
   "cell_type": "code",
   "execution_count": 8,
   "id": "f7d378cd",
   "metadata": {},
   "outputs": [],
   "source": [
    "df.reset_index(inplace=True)"
   ]
  },
  {
   "cell_type": "code",
   "execution_count": 9,
   "id": "d261dffa",
   "metadata": {},
   "outputs": [
    {
     "data": {
      "text/html": [
       "<div>\n",
       "<style scoped>\n",
       "    .dataframe tbody tr th:only-of-type {\n",
       "        vertical-align: middle;\n",
       "    }\n",
       "\n",
       "    .dataframe tbody tr th {\n",
       "        vertical-align: top;\n",
       "    }\n",
       "\n",
       "    .dataframe thead th {\n",
       "        text-align: right;\n",
       "    }\n",
       "</style>\n",
       "<table border=\"1\" class=\"dataframe\">\n",
       "  <thead>\n",
       "    <tr style=\"text-align: right;\">\n",
       "      <th>Language</th>\n",
       "      <th>de</th>\n",
       "      <th>en</th>\n",
       "    </tr>\n",
       "    <tr>\n",
       "      <th>Title</th>\n",
       "      <th></th>\n",
       "      <th></th>\n",
       "    </tr>\n",
       "  </thead>\n",
       "  <tbody>\n",
       "    <tr>\n",
       "      <th>Jupyter Tutorial</th>\n",
       "      <td>1</td>\n",
       "      <td>1</td>\n",
       "    </tr>\n",
       "    <tr>\n",
       "      <th>PyViz Tutorial</th>\n",
       "      <td>1</td>\n",
       "      <td>0</td>\n",
       "    </tr>\n",
       "    <tr>\n",
       "      <th>Python Basics</th>\n",
       "      <td>1</td>\n",
       "      <td>1</td>\n",
       "    </tr>\n",
       "  </tbody>\n",
       "</table>\n",
       "</div>"
      ],
      "text/plain": [
       "Language          de  en\n",
       "Title                   \n",
       "Jupyter Tutorial   1   1\n",
       "PyViz Tutorial     1   0\n",
       "Python Basics      1   1"
      ]
     },
     "execution_count": 9,
     "metadata": {},
     "output_type": "execute_result"
    }
   ],
   "source": [
    "pd.crosstab(df.Title, df.Language)"
   ]
  },
  {
   "cell_type": "markdown",
   "id": "3cb4d6d5",
   "metadata": {},
   "source": [
    "The first two arguments for `crosstab` can each be either an array or a series or a list of arrays."
   ]
  },
  {
   "cell_type": "markdown",
   "id": "36ae7954",
   "metadata": {},
   "source": [
    "With  `margins=True` we can also calculate the sums of the columns and rows as well as the total sum:"
   ]
  },
  {
   "cell_type": "code",
   "execution_count": 10,
   "id": "8f1847a9",
   "metadata": {},
   "outputs": [
    {
     "data": {
      "text/html": [
       "<div>\n",
       "<style scoped>\n",
       "    .dataframe tbody tr th:only-of-type {\n",
       "        vertical-align: middle;\n",
       "    }\n",
       "\n",
       "    .dataframe tbody tr th {\n",
       "        vertical-align: top;\n",
       "    }\n",
       "\n",
       "    .dataframe thead th {\n",
       "        text-align: right;\n",
       "    }\n",
       "</style>\n",
       "<table border=\"1\" class=\"dataframe\">\n",
       "  <thead>\n",
       "    <tr style=\"text-align: right;\">\n",
       "      <th>Language</th>\n",
       "      <th>de</th>\n",
       "      <th>en</th>\n",
       "      <th>All</th>\n",
       "    </tr>\n",
       "    <tr>\n",
       "      <th>Title</th>\n",
       "      <th></th>\n",
       "      <th></th>\n",
       "      <th></th>\n",
       "    </tr>\n",
       "  </thead>\n",
       "  <tbody>\n",
       "    <tr>\n",
       "      <th>Jupyter Tutorial</th>\n",
       "      <td>1</td>\n",
       "      <td>1</td>\n",
       "      <td>2</td>\n",
       "    </tr>\n",
       "    <tr>\n",
       "      <th>PyViz Tutorial</th>\n",
       "      <td>1</td>\n",
       "      <td>0</td>\n",
       "      <td>1</td>\n",
       "    </tr>\n",
       "    <tr>\n",
       "      <th>Python Basics</th>\n",
       "      <td>1</td>\n",
       "      <td>1</td>\n",
       "      <td>2</td>\n",
       "    </tr>\n",
       "    <tr>\n",
       "      <th>All</th>\n",
       "      <td>3</td>\n",
       "      <td>2</td>\n",
       "      <td>5</td>\n",
       "    </tr>\n",
       "  </tbody>\n",
       "</table>\n",
       "</div>"
      ],
      "text/plain": [
       "Language          de  en  All\n",
       "Title                        \n",
       "Jupyter Tutorial   1   1    2\n",
       "PyViz Tutorial     1   0    1\n",
       "Python Basics      1   1    2\n",
       "All                3   2    5"
      ]
     },
     "execution_count": 10,
     "metadata": {},
     "output_type": "execute_result"
    }
   ],
   "source": [
    "pd.crosstab(df.Title, df.Language, margins=True)"
   ]
  }
 ],
 "metadata": {
  "kernelspec": {
   "display_name": "Python 3.8",
   "language": "python",
   "name": "python-38"
  },
  "language_info": {
   "codemirror_mode": {
    "name": "ipython",
    "version": 3
   },
   "file_extension": ".py",
   "mimetype": "text/x-python",
   "name": "python",
   "nbconvert_exporter": "python",
   "pygments_lexer": "ipython3",
   "version": "3.8.12"
  }
 },
 "nbformat": 4,
 "nbformat_minor": 5
}
