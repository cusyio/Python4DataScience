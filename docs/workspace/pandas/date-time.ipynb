{
 "cells": [
  {
   "cell_type": "markdown",
   "id": "5be1a8c7",
   "metadata": {},
   "source": [
    "# Date and Time\n",
    "\n",
    "With pandas you can create `Series` with date and time information. In the following we will show common operations with date data.\n",
    "\n",
    "<div class=\"alert alert-block alert-info\">\n",
    "\n",
    "**Note:**\n",
    "\n",
    "pandas supports dates stored in [UTC](https://en.wikipedia.org/wiki/Coordinated_Universal_Time) values using the `datetime64[ns]` datatype. Local times from a single time zone are also supported. Multiple time zones are supported by a [pandas.Timestamp](https://pandas.pydata.org/pandas-docs/stable/reference/api/pandas.Timestamp.html) object. If you need to handle times from multiple time zones, I would probably split the data by time zone and use a separate DataFrame or Series for each time zone.\n",
    "</div>\n",
    "<div class=\"alert alert-block alert-info\">\n",
    "\n",
    "**See also:**\n",
    "\n",
    "* [Time series / date functionality](https://pandas.pydata.org/pandas-docs/stable/user_guide/timeseries.html)\n",
    "</div>"
   ]
  },
  {
   "cell_type": "markdown",
   "id": "a6f32e13",
   "metadata": {},
   "source": [
    "## Loading UTC time data"
   ]
  },
  {
   "cell_type": "code",
   "execution_count": 1,
   "id": "3c1f1337",
   "metadata": {},
   "outputs": [
    {
     "data": {
      "text/plain": [
       "DatetimeIndex(['2022-03-27 00:00:00', '2022-03-27 01:00:00',\n",
       "               '2022-03-27 02:00:00', '2022-03-27 03:00:00',\n",
       "               '2022-03-27 04:00:00', '2022-03-27 05:00:00'],\n",
       "              dtype='datetime64[ns]', freq='H')"
      ]
     },
     "execution_count": 1,
     "metadata": {},
     "output_type": "execute_result"
    }
   ],
   "source": [
    "import pandas as pd\n",
    "\n",
    "dt = pd.date_range(\"2022-03-27\", periods=6, freq=\"H\")\n",
    "\n",
    "dt"
   ]
  },
  {
   "cell_type": "code",
   "execution_count": 2,
   "id": "2f596835",
   "metadata": {},
   "outputs": [
    {
     "data": {
      "text/plain": [
       "DatetimeIndex(['2022-03-27 00:00:00+00:00', '2022-03-27 01:00:00+00:00',\n",
       "               '2022-03-27 02:00:00+00:00', '2022-03-27 03:00:00+00:00',\n",
       "               '2022-03-27 04:00:00+00:00', '2022-03-27 05:00:00+00:00'],\n",
       "              dtype='datetime64[ns, UTC]', freq='H')"
      ]
     },
     "execution_count": 2,
     "metadata": {},
     "output_type": "execute_result"
    }
   ],
   "source": [
    "utc = pd.to_datetime(dt, utc=True)\n",
    "\n",
    "utc"
   ]
  },
  {
   "cell_type": "markdown",
   "id": "6f7af8ef",
   "metadata": {},
   "source": [
    "<div class=\"alert alert-block alert-info\">\n",
    "\n",
    "**Note:**\n",
    "\n",
    "The type of the result `dtype='datetime64[ns, UTC]'` indicates that the data is stored as UTC.\n",
    "</div>"
   ]
  },
  {
   "cell_type": "markdown",
   "id": "6da836d1",
   "metadata": {},
   "source": [
    "Let’s convert this series to the time zone Europe/Berlin:"
   ]
  },
  {
   "cell_type": "code",
   "execution_count": 3,
   "id": "459fb1df",
   "metadata": {},
   "outputs": [
    {
     "data": {
      "text/plain": [
       "DatetimeIndex(['2022-03-27 01:00:00+01:00', '2022-03-27 03:00:00+02:00',\n",
       "               '2022-03-27 04:00:00+02:00', '2022-03-27 05:00:00+02:00',\n",
       "               '2022-03-27 06:00:00+02:00', '2022-03-27 07:00:00+02:00'],\n",
       "              dtype='datetime64[ns, Europe/Berlin]', freq='H')"
      ]
     },
     "execution_count": 3,
     "metadata": {},
     "output_type": "execute_result"
    }
   ],
   "source": [
    "utc.tz_convert('Europe/Berlin')"
   ]
  },
  {
   "cell_type": "markdown",
   "id": "c35aa1c0",
   "metadata": {},
   "source": [
    "## Conversion of local time to UTC"
   ]
  },
  {
   "cell_type": "code",
   "execution_count": 4,
   "id": "d4bfa601",
   "metadata": {},
   "outputs": [
    {
     "data": {
      "text/plain": [
       "DatetimeIndex(['2022-03-27 00:00:00+00:00', '2022-03-27 01:00:00+00:00',\n",
       "               '2022-03-27 02:00:00+00:00', '2022-03-27 03:00:00+00:00',\n",
       "               '2022-03-27 04:00:00+00:00', '2022-03-27 05:00:00+00:00'],\n",
       "              dtype='datetime64[ns, UTC]', freq='H')"
      ]
     },
     "execution_count": 4,
     "metadata": {},
     "output_type": "execute_result"
    }
   ],
   "source": [
    "local = utc.tz_convert('Europe/Berlin')\n",
    "\n",
    "local.tz_convert('UTC')"
   ]
  },
  {
   "cell_type": "markdown",
   "id": "55b524a3",
   "metadata": {},
   "source": [
    "## Conversion to Unix time\n",
    "\n",
    "If you have a `Series` with UTC or local time information, you can use this code to determine the seconds according to Unix time:"
   ]
  },
  {
   "cell_type": "code",
   "execution_count": 5,
   "id": "779c2d88",
   "metadata": {},
   "outputs": [
    {
     "data": {
      "text/plain": [
       "array([1.6483392e+09, 1.6483428e+09, 1.6483464e+09, 1.6483500e+09,\n",
       "       1.6483536e+09, 1.6483572e+09])"
      ]
     },
     "execution_count": 5,
     "metadata": {},
     "output_type": "execute_result"
    }
   ],
   "source": [
    "uts = pd.to_datetime(dt).view(int) / 10**9\n",
    "\n",
    "uts"
   ]
  },
  {
   "cell_type": "markdown",
   "id": "90428328",
   "metadata": {},
   "source": [
    "To load the Unix time in UTC, you can proceed as follows:"
   ]
  },
  {
   "cell_type": "code",
   "execution_count": 6,
   "id": "020c78c8",
   "metadata": {},
   "outputs": [
    {
     "data": {
      "text/plain": [
       "DatetimeIndex(['2022-03-27 00:00:00+00:00', '2022-03-27 01:00:00+00:00',\n",
       "               '2022-03-27 02:00:00+00:00', '2022-03-27 03:00:00+00:00',\n",
       "               '2022-03-27 04:00:00+00:00', '2022-03-27 05:00:00+00:00'],\n",
       "              dtype='datetime64[ns, UTC]', freq=None)"
      ]
     },
     "execution_count": 6,
     "metadata": {},
     "output_type": "execute_result"
    }
   ],
   "source": [
    "(pd.to_datetime(uts, unit='s').tz_localize('UTC'))"
   ]
  },
  {
   "cell_type": "markdown",
   "id": "da3c36e7",
   "metadata": {},
   "source": [
    "## Manipulation of dates"
   ]
  },
  {
   "cell_type": "markdown",
   "id": "3c55c25d",
   "metadata": {},
   "source": [
    "### Convert to strings"
   ]
  },
  {
   "cell_type": "markdown",
   "id": "9ef9982c",
   "metadata": {},
   "source": [
    "With [pandas.DatetimeIndex](https://pandas.pydata.org/pandas-docs/stable/reference/api/pandas.DatetimeIndex.html) you have some possibilities to convert date and time into strings, for example into the name of the weekday:"
   ]
  },
  {
   "cell_type": "code",
   "execution_count": 7,
   "id": "f506f0a6",
   "metadata": {},
   "outputs": [
    {
     "data": {
      "text/plain": [
       "Index(['Sunday', 'Sunday', 'Sunday', 'Sunday', 'Sunday', 'Sunday'], dtype='object')"
      ]
     },
     "execution_count": 7,
     "metadata": {},
     "output_type": "execute_result"
    }
   ],
   "source": [
    "local.day_name(locale='en_GB.utf8')"
   ]
  },
  {
   "cell_type": "markdown",
   "id": "575affb9",
   "metadata": {},
   "source": [
    "You can find out which `locale` is available to you with `locale -a`:"
   ]
  },
  {
   "cell_type": "code",
   "execution_count": 8,
   "id": "c361ce40",
   "metadata": {},
   "outputs": [
    {
     "name": "stdout",
     "output_type": "stream",
     "text": [
      "C\r\n",
      "C.UTF-8\r\n",
      "de_AT.utf8\r\n",
      "de_BE.utf8\r\n",
      "de_CH.utf8\r\n",
      "de_DE.utf8\r\n",
      "de_IT.utf8\r\n",
      "de_LI.utf8\r\n",
      "de_LU.utf8\r\n",
      "en_AG\r\n",
      "en_AG.utf8\r\n",
      "en_AU.utf8\r\n",
      "en_BW.utf8\r\n",
      "en_CA.utf8\r\n",
      "en_DK.utf8\r\n",
      "en_GB.utf8\r\n",
      "en_HK.utf8\r\n",
      "en_IE.utf8\r\n",
      "en_IL\r\n",
      "en_IL.utf8\r\n",
      "en_IN\r\n",
      "en_IN.utf8\r\n",
      "en_NG\r\n",
      "en_NG.utf8\r\n",
      "en_NZ.utf8\r\n",
      "en_PH.utf8\r\n",
      "en_SG.utf8\r\n",
      "en_US.utf8\r\n",
      "en_ZA.utf8\r\n",
      "en_ZM\r\n",
      "en_ZM.utf8\r\n",
      "en_ZW.utf8\r\n",
      "POSIX\r\n"
     ]
    }
   ],
   "source": [
    "!locale -a"
   ]
  },
  {
   "cell_type": "markdown",
   "id": "c6ffa209",
   "metadata": {},
   "source": [
    "Other attributes of `DatetimeIndex` that can be used to convert date and time into strings are:\n",
    "\n",
    "Attribute | Description\n",
    ":------- | :-----------\n",
    "`year` | the year as `datetime`.\n",
    "`month` | the month as January `1` and December `12`\n",
    "`day` | the day of the `datetime`\n",
    "`hour` | the hours of the `datetime`\n",
    "`minute` | the minutes of the `datetime`\n",
    "`seconds` | the seconds of the 'datetime\n",
    "`microsecond` | the microseconds of the `datetime`.\n",
    "`nanosecond` | the nanoseconds of `datetime`\n",
    "`date` | returns a NumPy array of Python `datetime.date` objects\n",
    "`time` | returns a NumPy array of `datetime.time` objects\n",
    "`timetz` | returns a NumPy array of `datetime.time` objects with timezone information\n",
    "`dayofyear`, `day_of_year` | the ordinal day of the year\n",
    "`dayofweek` | the day of the week with Monday (`0`) and Sunday (`6`)\n",
    "`day_of_week` | the day of the week with Monday (`0`) and Sunday (`6`)\n",
    "`weekday` | the day of the week with Monday (`0`) and Sunday (`6`)\n",
    "`quarter` | returns the quarter of the year\n",
    "`tz` | returns the time zone\n",
    "`freq` | returns the frequency object if it is set, otherwise `None`\n",
    "`freqstr` | returns the frequency object as a string if it is set, otherwise `None`\n",
    "`is_month_start` | indicates if the date is the first day of the month\n",
    "`is_month_end` | indicates whether the date is the last day of the month\n",
    "`is_quarter_start` | indicates whether the date is the first day of a quarter\n",
    "`is_quarter_end` | shows if the date is the last day of a quarter\n",
    "`is_year_start` | indicates whether the date is the first day of a year\n",
    "`is_year_end` | indicates whether the date is the last day of a year\n",
    "`is_leap_year` | Boolean indicator if the date falls in a leap year\n",
    "`inferred_freq` | tries to return a string representing a frequency determined by `infer_freq`"
   ]
  },
  {
   "cell_type": "markdown",
   "id": "22c92750",
   "metadata": {},
   "source": [
    "However, there are also some methods with which you can convert the `DatetimeIndex` into strings, for example `strftime`:"
   ]
  },
  {
   "cell_type": "code",
   "execution_count": 9,
   "id": "f36cfb67",
   "metadata": {},
   "outputs": [
    {
     "data": {
      "text/plain": [
       "Index(['27.03.2022', '27.03.2022', '27.03.2022', '27.03.2022', '27.03.2022',\n",
       "       '27.03.2022'],\n",
       "      dtype='object')"
      ]
     },
     "execution_count": 9,
     "metadata": {},
     "output_type": "execute_result"
    }
   ],
   "source": [
    "local.strftime('%d.%m.%Y')"
   ]
  },
  {
   "cell_type": "markdown",
   "id": "53ec4219",
   "metadata": {},
   "source": [
    "<div class=\"alert alert-block alert-info\">\n",
    "\n",
    "**Note:**\n",
    "\n",
    "In [strftime() and strptime() Format Codes](https://docs.python.org/3/library/datetime.html#strftime-and-strptime-format-codes) you get an overview of the different formatting possibilities of `strftime`.\n",
    "</div>\n",
    "\n",
    "Other methods are:\n",
    "\n",
    "Method | Description\n",
    ":----- | :-----------\n",
    "`normalize` | converts times to midnight\n",
    "`strftime` | converts to index using the specified date format\n",
    "`snap` | snaps the timestamp to the next occurring frequency\n",
    "`tz_convert` | convert a `tz` capable datetime array/index from one time zone to another\n",
    "`tz_localize` | localises `tz`-naive datetime array/index into `tz`-compatible datetime array/index\n",
    "`round` | rounds the data up to the nearest specified frequency\n",
    "`floor` | rounds the data sown to the specified frequency\n",
    "`ceil` | round the data to the specified frequency\n",
    "`to_period` | converts the data to a PeriodArray/Index at a given frequency\n",
    "`to_perioddelta` | calculates `TimedeltaArray` of the difference between the index values and the index converted to `PeriodArray` at the specified frequency\n",
    "`to_pydatetime` | returns `Datetime` array/index as `ndarray` object of `datetime.datetime` objects\n",
    "`to_series` | creates a `series` with index and values corresponding to index keys; useful with `map` for returning an indexer\n",
    "`to_frame` | creates a `DataFrame` with a column containing the index\n",
    "`month_name` | returns the month names of the `DateTimeIndex` with the specified `locale`\n",
    "`day_name` | returns the day names of the `DateTimeIndex` with the specified `locale`\n",
    "`mean` | returns the mean value of the array\n",
    "`std` | returns the standard deviation of the sample across the requested axis"
   ]
  }
 ],
 "metadata": {
  "kernelspec": {
   "display_name": "Python 3.8",
   "language": "python",
   "name": "python-38"
  },
  "language_info": {
   "codemirror_mode": {
    "name": "ipython",
    "version": 3
   },
   "file_extension": ".py",
   "mimetype": "text/x-python",
   "name": "python",
   "nbconvert_exporter": "python",
   "pygments_lexer": "ipython3",
   "version": "3.8.12"
  }
 },
 "nbformat": 4,
 "nbformat_minor": 5
}
