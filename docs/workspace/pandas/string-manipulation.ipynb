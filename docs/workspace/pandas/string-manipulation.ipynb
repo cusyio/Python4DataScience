{
 "cells": [
  {
   "cell_type": "markdown",
   "id": "86cd2067",
   "metadata": {},
   "source": [
    "# Manipulation of strings\n",
    "\n",
    "pandas provides the ability to succinctly apply string and regular expressions to entire arrays of data."
   ]
  },
  {
   "cell_type": "markdown",
   "id": "afdb5431",
   "metadata": {},
   "source": [
    "## String object methods\n",
    "\n",
    "In many string munging and scripting applications, the built-in string methods are sufficient. For example, a comma-separated string can be split into parts using [split](https://docs.python.org/3/library/stdtypes.html#str.split):"
   ]
  },
  {
   "cell_type": "code",
   "execution_count": 1,
   "id": "55cc01d7",
   "metadata": {},
   "outputs": [
    {
     "name": "stdout",
     "output_type": "stream",
     "text": [
      "['Jupyter tutorial', ' PyViz tutorial', ' Python basics', '\\nJupyter tutorial', ' Python basics']\n"
     ]
    }
   ],
   "source": [
    "str = \"\"\"Jupyter tutorial, PyViz tutorial, Python basics,\n",
    "Jupyter tutorial, Python basics\"\"\"\n",
    "\n",
    "chunks = str.split(',')\n",
    "\n",
    "print(chunks)"
   ]
  },
  {
   "cell_type": "markdown",
   "id": "183dc217",
   "metadata": {},
   "source": [
    "`split` is often combined with [str.strip](https://docs.python.org/3/library/stdtypes.html#str.strip) to remove spaces and line breaks:"
   ]
  },
  {
   "cell_type": "code",
   "execution_count": 2,
   "id": "77040678",
   "metadata": {},
   "outputs": [
    {
     "data": {
      "text/plain": [
       "['Jupyter tutorial',\n",
       " 'PyViz tutorial',\n",
       " 'Python basics',\n",
       " 'Jupyter tutorial',\n",
       " 'Python basics']"
      ]
     },
     "execution_count": 2,
     "metadata": {},
     "output_type": "execute_result"
    }
   ],
   "source": [
    "chunks = [x.strip() for x in str.split(',')]\n",
    "\n",
    "chunks"
   ]
  },
  {
   "cell_type": "markdown",
   "id": "0569b3c0",
   "metadata": {},
   "source": [
    "Eine schnelle Methode zur Übergabe einer Liste oder eines Tupels an eine Zeichenkette ist die [str.join](https://docs.python.org/3/library/stdtypes.html#str.join)-Methode:"
   ]
  },
  {
   "cell_type": "code",
   "execution_count": 3,
   "id": "bf180168",
   "metadata": {},
   "outputs": [
    {
     "data": {
      "text/plain": [
       "'Jupyter tutorial;PyViz tutorial;Python basics;Jupyter tutorial;Python basics'"
      ]
     },
     "execution_count": 3,
     "metadata": {},
     "output_type": "execute_result"
    }
   ],
   "source": [
    "';'.join(chunks)"
   ]
  },
  {
   "cell_type": "markdown",
   "id": "6c016912",
   "metadata": {},
   "source": [
    "By using the Python keyword `in`, it is easy to check whether a certain string is present:"
   ]
  },
  {
   "cell_type": "code",
   "execution_count": 4,
   "id": "4a0a7ed5",
   "metadata": {},
   "outputs": [
    {
     "data": {
      "text/plain": [
       "True"
      ]
     },
     "execution_count": 4,
     "metadata": {},
     "output_type": "execute_result"
    }
   ],
   "source": [
    "'Python basics' in chunks"
   ]
  },
  {
   "cell_type": "markdown",
   "id": "91625979",
   "metadata": {},
   "source": [
    "The number of strings can be determined with [str.count](https://docs.python.org/3/library/stdtypes.html#str.count):"
   ]
  },
  {
   "cell_type": "code",
   "execution_count": 5,
   "id": "f393b71f",
   "metadata": {},
   "outputs": [
    {
     "data": {
      "text/plain": [
       "2"
      ]
     },
     "execution_count": 5,
     "metadata": {},
     "output_type": "execute_result"
    }
   ],
   "source": [
    "str.count('Python basics')"
   ]
  },
  {
   "cell_type": "markdown",
   "id": "46d69896",
   "metadata": {},
   "source": [
    "The [str.replace](https://docs.python.org/3/library/stdtypes.html#str.replace) method can be used to replace the occurrence of one pattern with another. It is also often used to delete patterns by passing an empty string:"
   ]
  },
  {
   "cell_type": "code",
   "execution_count": 6,
   "id": "9f3d7926",
   "metadata": {},
   "outputs": [
    {
     "data": {
      "text/plain": [
       "'Jupyter tutorial;PyViz tutorial;Python basics,\\nJupyter tutorial;Python basics'"
      ]
     },
     "execution_count": 6,
     "metadata": {},
     "output_type": "execute_result"
    }
   ],
   "source": [
    "str.replace(', ', ';')"
   ]
  },
  {
   "cell_type": "code",
   "execution_count": 7,
   "id": "539c2fbe",
   "metadata": {},
   "outputs": [
    {
     "data": {
      "text/plain": [
       "'Jupyter tutorial, PyViz tutorial, Python basics,Jupyter tutorial, Python basics'"
      ]
     },
     "execution_count": 7,
     "metadata": {},
     "output_type": "execute_result"
    }
   ],
   "source": [
    "str.replace('\\n', '')"
   ]
  },
  {
   "cell_type": "markdown",
   "id": "48d3cff0",
   "metadata": {},
   "source": [
    "Python built-in string methods:\n",
    "\n",
    "Method | Description\n",
    ":----- | :----------\n",
    "`count` | returns the number of non-overlapping occurrences of the string\n",
    "`endswith` | returns `True` if the string ends with the suffix\n",
    "`startswith` | returns `True` if the string starts with the prefix\n",
    "`join` | uses the string as a delimiter for concatenating a sequence of other strings\n",
    "`index` | returns the position of the first character in the string if it is found in the string; raises a `ValueError` if it is not found\n",
    "`find` | returns the position of the first character of the first occurrence of the substring in the string; like `index`, but returns `-1` if nothing was found\n",
    "`rfind` | returns the position of the first character of the last occurrence of the substring in the string; returns `-1` if nothing was found\n",
    "`replace` | replaces occurrences of a string with another string\n",
    "`strip`, `rstrip`, `lstrip` | truncate spaces, including line breaks\n",
    "`split` | splits a string into a list of substrings using the passed separator character\n",
    "`lower` | converts alphabetic characters into lower case letters\n",
    "`upper` | converts alphabetic characters to uppercase letters\n",
    "`casefold` | converts characters to lower case and converts all region-specific variable character combinations to a common comparable form\n",
    "`ljust`, `rjust` | left-justified and right-justified respectively; fills the opposite side of the string with spaces (or another fill character) to obtain a string with a minimum width"
   ]
  },
  {
   "cell_type": "markdown",
   "id": "0273511c",
   "metadata": {},
   "source": [
    "## Regular expressions\n",
    "\n",
    "Regular expressions, also called *regex*, provide a flexible way to search or match (often more complex) string patterns in text. Python’s built-in [re](https://docs.python.org/3/library/re.html) module is responsible for applying regular expressions to strings. The functions of the `re` module fall into three categories: Pattern matching, substitution and splitting. These are all related, of course; a regex describes a pattern to be found in text, which can then be used for many purposes.\n",
    "\n",
    "> **See also:**\n",
    "> \n",
    "> [Regular expressions](../ipython/unix-shell/regex.ipynb)\n",
    "\n",
    "Consider a simple example: suppose we want to split a string with a variable number of spaces (tabs, spaces and newlines). The regex describing one or more spaces is `\\s+`:"
   ]
  },
  {
   "cell_type": "code",
   "execution_count": 8,
   "id": "2027b289",
   "metadata": {},
   "outputs": [
    {
     "data": {
      "text/plain": [
       "['Jupyter',\n",
       " 'tutorial,',\n",
       " 'PyViz',\n",
       " 'tutorial,',\n",
       " 'Python',\n",
       " 'basics,',\n",
       " 'Jupyter',\n",
       " 'tutorial,',\n",
       " 'Python',\n",
       " 'basics']"
      ]
     },
     "execution_count": 8,
     "metadata": {},
     "output_type": "execute_result"
    }
   ],
   "source": [
    "import re\n",
    "\n",
    "re.split('\\s+', str)"
   ]
  },
  {
   "cell_type": "markdown",
   "id": "9797c117",
   "metadata": {},
   "source": [
    "When you call `re.split('\\s+', str)`, the regular expression is first compiled and then its split method is called for the passed text. You can compile the regex itself with `re.compile` and thus form a reusable regex object:"
   ]
  },
  {
   "cell_type": "code",
   "execution_count": 9,
   "id": "56858059",
   "metadata": {},
   "outputs": [
    {
     "data": {
      "text/plain": [
       "['Jupyter',\n",
       " 'tutorial,',\n",
       " 'PyViz',\n",
       " 'tutorial,',\n",
       " 'Python',\n",
       " 'basics,',\n",
       " 'Jupyter',\n",
       " 'tutorial,',\n",
       " 'Python',\n",
       " 'basics']"
      ]
     },
     "execution_count": 9,
     "metadata": {},
     "output_type": "execute_result"
    }
   ],
   "source": [
    "regex = re.compile('\\s+')\n",
    "\n",
    "regex.split(str)"
   ]
  },
  {
   "cell_type": "markdown",
   "id": "23a74702",
   "metadata": {},
   "source": [
    "If instead you want to get a list of all patterns that match the regex, you can use the [re.findall](https://docs.python.org/3/library/re.html#re.findall) method:"
   ]
  },
  {
   "cell_type": "code",
   "execution_count": 10,
   "id": "c6da401b",
   "metadata": {},
   "outputs": [
    {
     "data": {
      "text/plain": [
       "[' ', ' ', ' ', ' ', ' ', '\\n', ' ', ' ', ' ']"
      ]
     },
     "execution_count": 10,
     "metadata": {},
     "output_type": "execute_result"
    }
   ],
   "source": [
    "regex.findall(str)"
   ]
  },
  {
   "cell_type": "markdown",
   "id": "fbf9b51a",
   "metadata": {},
   "source": [
    "> **Note:**\n",
    "> \n",
    "> To avoid unwanted escaping with `\\` in a regular expression, use raw string literals like `r'C:\\PATH\\TO\\FILE'` instead of the corresponding `'C:\\PATH\\TO\\FILE'`."
   ]
  },
  {
   "cell_type": "markdown",
   "id": "8a8ecdee",
   "metadata": {},
   "source": [
    "Creating a regex object with `re.compile` is highly recommended if you intend to apply the same expression to many strings; this also saves CPU cycles.\n",
    "\n",
    "`match` and `search` are closely related to `findall`. While `findall` returns all matches in a string, `search` returns only the first match and `match` returns only matches at the beginning of the string. As a less trivial example, consider a block of text and a regular expression that can identify most email addresses:"
   ]
  },
  {
   "cell_type": "code",
   "execution_count": 11,
   "id": "78ebbd09",
   "metadata": {},
   "outputs": [],
   "source": [
    "addresses = \"\"\"Veit <veit@cusy.io>\n",
    "Veit Schiele <veit.schiele@cusy.io>\n",
    "cusy GmbH <info@cusy.io>\n",
    "\"\"\""
   ]
  },
  {
   "cell_type": "code",
   "execution_count": 12,
   "id": "c20bafe6",
   "metadata": {},
   "outputs": [],
   "source": [
    "pattern = r'[A-Z0-9._%+-]+@[A-Z0-9.-]+\\.[A-Z]{2,4}'\n",
    "regex = re.compile(pattern, flags=re.IGNORECASE)"
   ]
  },
  {
   "cell_type": "markdown",
   "id": "efefd0f1",
   "metadata": {},
   "source": [
    "`re.IGNORECASE` ignores case sensitivity in the regex."
   ]
  },
  {
   "cell_type": "markdown",
   "id": "228c512e",
   "metadata": {},
   "source": [
    "Using `findall` for the text gives a list of email addresses:"
   ]
  },
  {
   "cell_type": "code",
   "execution_count": 13,
   "id": "7d032988",
   "metadata": {},
   "outputs": [
    {
     "data": {
      "text/plain": [
       "['veit@cusy.io', 'veit.schiele@cusy.io', 'info@cusy.io']"
      ]
     },
     "execution_count": 13,
     "metadata": {},
     "output_type": "execute_result"
    }
   ],
   "source": [
    "regex.findall(addresses)"
   ]
  },
  {
   "cell_type": "markdown",
   "id": "ac329557",
   "metadata": {},
   "source": [
    "`search` returns a special `match` object for the first email address in the text. For the preceding regex, the `match` object can only specify the start and end position of the pattern in the string:"
   ]
  },
  {
   "cell_type": "code",
   "execution_count": 14,
   "id": "c8e01d09",
   "metadata": {},
   "outputs": [
    {
     "data": {
      "text/plain": [
       "<re.Match object; span=(6, 18), match='veit@cusy.io'>"
      ]
     },
     "execution_count": 14,
     "metadata": {},
     "output_type": "execute_result"
    }
   ],
   "source": [
    "first = regex.search(addresses)\n",
    "\n",
    "first"
   ]
  },
  {
   "cell_type": "code",
   "execution_count": 15,
   "id": "0af4e29c",
   "metadata": {},
   "outputs": [
    {
     "data": {
      "text/plain": [
       "'veit@cusy.io'"
      ]
     },
     "execution_count": 15,
     "metadata": {},
     "output_type": "execute_result"
    }
   ],
   "source": [
    "addresses[first.start():first.end()]"
   ]
  },
  {
   "cell_type": "markdown",
   "id": "e2c2c6c9",
   "metadata": {},
   "source": [
    "`regex.match` returns `None` because the pattern only matches if it is at the beginning of the string:"
   ]
  },
  {
   "cell_type": "code",
   "execution_count": 16,
   "id": "8e53b52d",
   "metadata": {},
   "outputs": [
    {
     "name": "stdout",
     "output_type": "stream",
     "text": [
      "None\n"
     ]
    }
   ],
   "source": [
    "print(regex.match(addresses))"
   ]
  },
  {
   "cell_type": "markdown",
   "id": "42b3e7f9",
   "metadata": {},
   "source": [
    "Entsprechend gibt `sub` eine neue Zeichenkette zurück, in der alle Vorkommen des Musters durch die neue Zeichenkette ersetzt sind:"
   ]
  },
  {
   "cell_type": "code",
   "execution_count": 17,
   "id": "4b8cc054",
   "metadata": {},
   "outputs": [
    {
     "name": "stdout",
     "output_type": "stream",
     "text": [
      "Veit <…>\n",
      "Veit Schiele <…>\n",
      "cusy GmbH <…>\n",
      "\n"
     ]
    }
   ],
   "source": [
    "print(regex.sub('…', addresses))"
   ]
  },
  {
   "cell_type": "markdown",
   "id": "c15ae313",
   "metadata": {},
   "source": [
    "Accordingly, sub returns a new string in which all occurrences of the pattern are replaced by the new string:"
   ]
  },
  {
   "cell_type": "code",
   "execution_count": 18,
   "id": "daf681fb",
   "metadata": {},
   "outputs": [],
   "source": [
    "pattern = r'([A-Z0-9._%+-]+)@([A-Z0-9.-]+)\\.([A-Z]{2,4})'\n",
    "regex = re.compile(pattern, flags=re.IGNORECASE)"
   ]
  },
  {
   "cell_type": "code",
   "execution_count": 19,
   "id": "2b5a31ac",
   "metadata": {},
   "outputs": [
    {
     "data": {
      "text/plain": [
       "('veit', 'cusy', 'io')"
      ]
     },
     "execution_count": 19,
     "metadata": {},
     "output_type": "execute_result"
    }
   ],
   "source": [
    "match = regex.match('veit@cusy.io')\n",
    "\n",
    "match.groups()"
   ]
  },
  {
   "cell_type": "markdown",
   "id": "a74340b0",
   "metadata": {},
   "source": [
    "`findall` returns a list of tuples if the pattern contains groups:"
   ]
  },
  {
   "cell_type": "code",
   "execution_count": 20,
   "id": "0107ad1e",
   "metadata": {},
   "outputs": [
    {
     "data": {
      "text/plain": [
       "[('veit', 'cusy', 'io'),\n",
       " ('veit.schiele', 'cusy', 'io'),\n",
       " ('info', 'cusy', 'io')]"
      ]
     },
     "execution_count": 20,
     "metadata": {},
     "output_type": "execute_result"
    }
   ],
   "source": [
    "regex.findall(addresses)"
   ]
  },
  {
   "cell_type": "markdown",
   "id": "bd663e58",
   "metadata": {},
   "source": [
    "`sub` also has access to the groups in each match with special symbols. Thus `\\1` stands for the first matching group, `\\2` for the second and so on:"
   ]
  },
  {
   "cell_type": "code",
   "execution_count": 21,
   "id": "dbffee4d",
   "metadata": {},
   "outputs": [
    {
     "name": "stdout",
     "output_type": "stream",
     "text": [
      "Veit <Username: veit, Domain: cusy, Suffix: io>\n",
      "Veit Schiele <Username: veit.schiele, Domain: cusy, Suffix: io>\n",
      "cusy GmbH <Username: info, Domain: cusy, Suffix: io>\n",
      "\n"
     ]
    }
   ],
   "source": [
    "print(regex.sub(r'Username: \\1, Domain: \\2, Suffix: \\3', addresses))"
   ]
  },
  {
   "cell_type": "markdown",
   "id": "be238117",
   "metadata": {},
   "source": [
    "The following table contains a brief overview of methods for regular expressions:\n",
    "\n",
    "Method | Description\n",
    ":----- | :----------\n",
    "`findall` returns all non-overlapping matching patterns in a string as a list\n",
    "`finditer` like `findall`, but returns an iterator\n",
    "`match` matches the pattern at the beginning of the string and optionally segments the pattern components into groups; if the pattern matches, a `match` object is returned, otherwise none\n",
    "`search` searches the string for matches to the pattern; in this case, returns a `match` object; unlike `match`, the match can be anywhere in the string, not just at the beginning\n",
    "`split` splits the string into parts at each occurrence of the pattern\n",
    "`sub`, `subn` replaces all (`sub`) or the first n occurrences (`subn`) of the pattern in the `string` with a replacement expression; uses the symbols `\\1`, `\\2`, …, to refer to the elements of the match group in the replacement string"
   ]
  },
  {
   "cell_type": "markdown",
   "id": "07b04253",
   "metadata": {},
   "source": [
    "## Vectorised string functions in pandas\n",
    "\n",
    "Cleaning up a cluttered dataset for analysis often requires a lot of string manipulation. To make matters worse, a column containing strings sometimes has missing data:"
   ]
  },
  {
   "cell_type": "code",
   "execution_count": 22,
   "id": "b2c96d25",
   "metadata": {},
   "outputs": [
    {
     "data": {
      "text/plain": [
       "Veit                             NaN\n",
       "Veit Schiele    veit.schiele@cusy.io\n",
       "cusy GmbH               info@cusy.io\n",
       "dtype: object"
      ]
     },
     "execution_count": 22,
     "metadata": {},
     "output_type": "execute_result"
    }
   ],
   "source": [
    "import pandas as pd\n",
    "import numpy as np\n",
    "\n",
    "data = {'Veit': np.nan, 'Veit Schiele': 'veit.schiele@cusy.io',\n",
    "        'cusy GmbH': 'info@cusy.io'}\n",
    "data = pd.Series(data)\n",
    "\n",
    "data"
   ]
  },
  {
   "cell_type": "code",
   "execution_count": 23,
   "id": "84887d0e",
   "metadata": {},
   "outputs": [
    {
     "data": {
      "text/plain": [
       "Veit             True\n",
       "Veit Schiele    False\n",
       "cusy GmbH       False\n",
       "dtype: bool"
      ]
     },
     "execution_count": 23,
     "metadata": {},
     "output_type": "execute_result"
    }
   ],
   "source": [
    "data.isna()"
   ]
  },
  {
   "cell_type": "markdown",
   "id": "8bc40e3e",
   "metadata": {},
   "source": [
    "You can apply string and regular expression methods to any value (by passing a lambda or other function) using `data.map`, but this fails for `NA` values. To deal with this, `Series` has array-oriented methods for string operations that skip and pass `NA` values. These are accessed via Series’ `str` attribute; for example, we could use `str.contains` to check whether each email address contains `veit`:"
   ]
  },
  {
   "cell_type": "code",
   "execution_count": 24,
   "id": "9ac0aeac",
   "metadata": {},
   "outputs": [
    {
     "data": {
      "text/plain": [
       "Veit              NaN\n",
       "Veit Schiele     True\n",
       "cusy GmbH       False\n",
       "dtype: object"
      ]
     },
     "execution_count": 24,
     "metadata": {},
     "output_type": "execute_result"
    }
   ],
   "source": [
    "data.str.contains('veit')"
   ]
  },
  {
   "cell_type": "markdown",
   "id": "46f9250e",
   "metadata": {},
   "source": [
    "Regular expressions can also be used, along with options such as `IGNORECASE`:"
   ]
  },
  {
   "cell_type": "code",
   "execution_count": 25,
   "id": "957e37ae",
   "metadata": {},
   "outputs": [
    {
     "data": {
      "text/plain": [
       "Veit                                   NaN\n",
       "Veit Schiele    [(veit.schiele, cusy, io)]\n",
       "cusy GmbH               [(info, cusy, io)]\n",
       "dtype: object"
      ]
     },
     "execution_count": 25,
     "metadata": {},
     "output_type": "execute_result"
    }
   ],
   "source": [
    "pattern = r'([A-Z0-9._%+-]+)@([A-Z0-9.-]+)\\.([A-Z]{2,4})'\n",
    "\n",
    "data.str.findall(pattern, flags=re.IGNORECASE)"
   ]
  },
  {
   "cell_type": "markdown",
   "id": "1721a652",
   "metadata": {},
   "source": [
    "There are several ways to retrieve a vectorised element. Either use `str.get` or the index of `str`:"
   ]
  },
  {
   "cell_type": "code",
   "execution_count": 26,
   "id": "b6e624b9",
   "metadata": {},
   "outputs": [
    {
     "data": {
      "text/plain": [
       "Veit                                 NaN\n",
       "Veit Schiele    (veit.schiele, cusy, io)\n",
       "cusy GmbH               (info, cusy, io)\n",
       "dtype: object"
      ]
     },
     "execution_count": 26,
     "metadata": {},
     "output_type": "execute_result"
    }
   ],
   "source": [
    "matches = data.str.findall(pattern, flags=re.IGNORECASE).str[0]\n",
    "\n",
    "matches"
   ]
  },
  {
   "cell_type": "code",
   "execution_count": 27,
   "id": "e87fe805",
   "metadata": {},
   "outputs": [
    {
     "data": {
      "text/plain": [
       "Veit             NaN\n",
       "Veit Schiele    cusy\n",
       "cusy GmbH       cusy\n",
       "dtype: object"
      ]
     },
     "execution_count": 27,
     "metadata": {},
     "output_type": "execute_result"
    }
   ],
   "source": [
    "matches.str.get(1)"
   ]
  },
  {
   "cell_type": "markdown",
   "id": "0fac6ebe",
   "metadata": {},
   "source": [
    "Similarly, you can also cut strings with this syntax:"
   ]
  },
  {
   "cell_type": "code",
   "execution_count": 28,
   "id": "2586fcd1",
   "metadata": {},
   "outputs": [
    {
     "data": {
      "text/plain": [
       "Veit              NaN\n",
       "Veit Schiele    veit.\n",
       "cusy GmbH       info@\n",
       "dtype: object"
      ]
     },
     "execution_count": 28,
     "metadata": {},
     "output_type": "execute_result"
    }
   ],
   "source": [
    "data.str[:5]"
   ]
  },
  {
   "cell_type": "markdown",
   "id": "1d67e23a",
   "metadata": {},
   "source": [
    "The [pandas.Series.str.extract](https://pandas.pydata.org/docs/reference/api/pandas.Series.str.extract.html) method returns the captured groups of a regular expression as a DataFrame:"
   ]
  },
  {
   "cell_type": "code",
   "execution_count": 29,
   "id": "61afe165",
   "metadata": {},
   "outputs": [
    {
     "data": {
      "text/html": [
       "<div>\n",
       "<style scoped>\n",
       "    .dataframe tbody tr th:only-of-type {\n",
       "        vertical-align: middle;\n",
       "    }\n",
       "\n",
       "    .dataframe tbody tr th {\n",
       "        vertical-align: top;\n",
       "    }\n",
       "\n",
       "    .dataframe thead th {\n",
       "        text-align: right;\n",
       "    }\n",
       "</style>\n",
       "<table border=\"1\" class=\"dataframe\">\n",
       "  <thead>\n",
       "    <tr style=\"text-align: right;\">\n",
       "      <th></th>\n",
       "      <th>0</th>\n",
       "      <th>1</th>\n",
       "      <th>2</th>\n",
       "    </tr>\n",
       "  </thead>\n",
       "  <tbody>\n",
       "    <tr>\n",
       "      <th>Veit</th>\n",
       "      <td>NaN</td>\n",
       "      <td>NaN</td>\n",
       "      <td>NaN</td>\n",
       "    </tr>\n",
       "    <tr>\n",
       "      <th>Veit Schiele</th>\n",
       "      <td>veit.schiele</td>\n",
       "      <td>cusy</td>\n",
       "      <td>io</td>\n",
       "    </tr>\n",
       "    <tr>\n",
       "      <th>cusy GmbH</th>\n",
       "      <td>info</td>\n",
       "      <td>cusy</td>\n",
       "      <td>io</td>\n",
       "    </tr>\n",
       "  </tbody>\n",
       "</table>\n",
       "</div>"
      ],
      "text/plain": [
       "                         0     1    2\n",
       "Veit                   NaN   NaN  NaN\n",
       "Veit Schiele  veit.schiele  cusy   io\n",
       "cusy GmbH             info  cusy   io"
      ]
     },
     "execution_count": 29,
     "metadata": {},
     "output_type": "execute_result"
    }
   ],
   "source": [
    "data.str.extract(pattern, flags=re.IGNORECASE)"
   ]
  },
  {
   "cell_type": "markdown",
   "id": "e198e489",
   "metadata": {},
   "source": [
    "More vectorised pandas string methods:\n",
    "\n",
    "Method | Description\n",
    ":----- | :----------\n",
    "`cat` | concatenates strings element by element with optional delimiter\n",
    "`contains` | returns a boolean array if each string contains a pattern/gex\n",
    "`count` | counts occurrences of the pattern\n",
    "`extract` | uses a regular expression with groups to extract one or more strings from a set of strings; the result is a DataFrame with one column per group\n",
    "`endswith` | equivalent to `x.endswith(pattern)` for each element\n",
    "`startswith` | equivalent to `x.startswith(pattern)` for each element\n",
    "`findall` | computes list of all occurrences of pattern/regex for each string\n",
    "`get` | index in each element (get `i`-th element)\n",
    "`isalnum` | Equivalent to built-in `str.alnum`\n",
    "`isalpha` | Equivalent to built-in `str.isalpha`\n",
    "`isdecimal` | Equivalent to built-in `str.isdecimal`\n",
    "`isdigit` | Equivalent to built-in `str.isdigit`\n",
    "`islower` | Equivalent to built-in `str.islower`\n",
    "`isnumeric` | Equivalent to built-in `str.isnumeric`\n",
    "`isupper` | Equivalent to built-in `str.isupper`\n",
    "`join` | joins strings in each element of the series with the passed separator character\n",
    "`len` | calculates the length of each string\n",
    "`lower`, `upper` | converts case; equivalent to `x.lower()` or `x.upper()` for each element\n",
    "`match` | uses `re.match` with the passed regular expression for each element, returning `True` or `False` if matched.\n",
    "`extract` | captures group elements (if any) by index from each string\n",
    "`pad` | inserts spaces on the left, right or both sides of strings\n",
    "`centre` | Equivalent to `pad(side='both')`\n",
    "`repeat` | Duplicates values (for example `s.str.repeat(3)` equals `x * 3` for each string)\n",
    "`replace` | replaces pattern/rulex with another string\n",
    "`slice` | splits each string in the series\n",
    "`split` | splits strings using delimiters or regular expressions\n",
    "`strip` | truncates spaces on both sides, including line breaks\n",
    "`rstrip` | truncates spaces on the right side\n",
    "`lstrip` | truncates spaces on the left side"
   ]
  }
 ],
 "metadata": {
  "kernelspec": {
   "display_name": "Python 3.8",
   "language": "python",
   "name": "python-38"
  },
  "language_info": {
   "codemirror_mode": {
    "name": "ipython",
    "version": 3
   },
   "file_extension": ".py",
   "mimetype": "text/x-python",
   "name": "python",
   "nbconvert_exporter": "python",
   "pygments_lexer": "ipython3",
   "version": "3.8.12"
  }
 },
 "nbformat": 4,
 "nbformat_minor": 5
}
