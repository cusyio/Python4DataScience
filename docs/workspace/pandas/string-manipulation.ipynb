{
 "cells": [
  {
   "cell_type": "markdown",
   "id": "fbfdbb51",
   "metadata": {},
   "source": [
    "# Manipulation of strings\n",
    "\n",
    "pandas offers the possibility to concisely apply Python’s string methods and regular expressions to whole arrays of data.\n",
    "\n",
    "<div class=\"alert alert-block alert-info\">\n",
    "\n",
    "**See also:**\n",
    "\n",
    "* [string](https://python-basics-tutorial.readthedocs.io/en/latest/types/strings.html#string)\n",
    "* [re](https://python-basics-tutorial.readthedocs.io/en/latest/types/strings.html#re)\n",
    "</div>"
   ]
  },
  {
   "cell_type": "markdown",
   "id": "6e83e2cc",
   "metadata": {},
   "source": [
    "## Vectorised string functions in pandas\n",
    "\n",
    "Cleaning up a cluttered dataset for analysis often requires a lot of string manipulation. To make matters worse, a column containing strings sometimes has missing data:"
   ]
  },
  {
   "cell_type": "code",
   "execution_count": 22,
   "id": "b2c96d25",
   "metadata": {},
   "outputs": [
    {
     "data": {
      "text/plain": [
       "Veit                             NaN\n",
       "Veit Schiele    veit.schiele@cusy.io\n",
       "cusy GmbH               info@cusy.io\n",
       "dtype: object"
      ]
     },
     "execution_count": 22,
     "metadata": {},
     "output_type": "execute_result"
    }
   ],
   "source": [
    "import pandas as pd\n",
    "import numpy as np\n",
    "\n",
    "addresses = {'Veit': np.nan, 'Veit Schiele': 'veit.schiele@cusy.io',\n",
    "             'cusy GmbH': 'info@cusy.io'}\n",
    "addresses = pd.Series(addresses)\n",
    "\n",
    "addresses"
   ]
  },
  {
   "cell_type": "code",
   "execution_count": 23,
   "id": "84887d0e",
   "metadata": {},
   "outputs": [
    {
     "data": {
      "text/plain": [
       "Veit             True\n",
       "Veit Schiele    False\n",
       "cusy GmbH       False\n",
       "dtype: bool"
      ]
     },
     "execution_count": 23,
     "metadata": {},
     "output_type": "execute_result"
    }
   ],
   "source": [
    "addresses.isna()"
   ]
  },
  {
   "cell_type": "markdown",
   "id": "8bc40e3e",
   "metadata": {},
   "source": [
    "You can apply string and regular expression methods to any value (by passing a lambda or other function) using `data.map`, but this fails for `NA` values. To deal with this, `Series` has array-oriented methods for string operations that skip and pass `NA` values. These are accessed via Series’ `str` attribute; for example, we could use `str.contains` to check whether each email address contains `veit`:"
   ]
  },
  {
   "cell_type": "code",
   "execution_count": 24,
   "id": "9ac0aeac",
   "metadata": {},
   "outputs": [
    {
     "data": {
      "text/plain": [
       "Veit              NaN\n",
       "Veit Schiele     True\n",
       "cusy GmbH       False\n",
       "dtype: object"
      ]
     },
     "execution_count": 24,
     "metadata": {},
     "output_type": "execute_result"
    }
   ],
   "source": [
    "addresses.str.contains('veit')"
   ]
  },
  {
   "cell_type": "markdown",
   "id": "46f9250e",
   "metadata": {},
   "source": [
    "Regular expressions can also be used, along with options such as `IGNORECASE`:"
   ]
  },
  {
   "cell_type": "code",
   "execution_count": 25,
   "id": "957e37ae",
   "metadata": {},
   "outputs": [
    {
     "data": {
      "text/plain": [
       "Veit                                   NaN\n",
       "Veit Schiele    [(veit.schiele, cusy, io)]\n",
       "cusy GmbH               [(info, cusy, io)]\n",
       "dtype: object"
      ]
     },
     "execution_count": 25,
     "metadata": {},
     "output_type": "execute_result"
    }
   ],
   "source": [
    "pattern = r'([A-Z0-9._%+-]+)@([A-Z0-9.-]+)\\.([A-Z]{2,4})'\n",
    "\n",
    "addresses.str.findall(pattern, flags=re.IGNORECASE)"
   ]
  },
  {
   "cell_type": "markdown",
   "id": "1721a652",
   "metadata": {},
   "source": [
    "There are several ways to retrieve a vectorised element. Either use `str.get` or the index of `str`:"
   ]
  },
  {
   "cell_type": "code",
   "execution_count": 26,
   "id": "b6e624b9",
   "metadata": {},
   "outputs": [
    {
     "data": {
      "text/plain": [
       "Veit                                 NaN\n",
       "Veit Schiele    (veit.schiele, cusy, io)\n",
       "cusy GmbH               (info, cusy, io)\n",
       "dtype: object"
      ]
     },
     "execution_count": 26,
     "metadata": {},
     "output_type": "execute_result"
    }
   ],
   "source": [
    "matches = addresses.str.findall(pattern, flags=re.IGNORECASE).str[0]\n",
    "\n",
    "matches"
   ]
  },
  {
   "cell_type": "code",
   "execution_count": 27,
   "id": "e87fe805",
   "metadata": {},
   "outputs": [
    {
     "data": {
      "text/plain": [
       "Veit             NaN\n",
       "Veit Schiele    cusy\n",
       "cusy GmbH       cusy\n",
       "dtype: object"
      ]
     },
     "execution_count": 27,
     "metadata": {},
     "output_type": "execute_result"
    }
   ],
   "source": [
    "matches.str.get(1)"
   ]
  },
  {
   "cell_type": "markdown",
   "id": "0fac6ebe",
   "metadata": {},
   "source": [
    "Similarly, you can also cut strings with this syntax:"
   ]
  },
  {
   "cell_type": "code",
   "execution_count": 28,
   "id": "2586fcd1",
   "metadata": {},
   "outputs": [
    {
     "data": {
      "text/plain": [
       "Veit              NaN\n",
       "Veit Schiele    veit.\n",
       "cusy GmbH       info@\n",
       "dtype: object"
      ]
     },
     "execution_count": 28,
     "metadata": {},
     "output_type": "execute_result"
    }
   ],
   "source": [
    "addresses.str[:5]"
   ]
  },
  {
   "cell_type": "markdown",
   "id": "1d67e23a",
   "metadata": {},
   "source": [
    "The [pandas.Series.str.extract](https://pandas.pydata.org/docs/reference/api/pandas.Series.str.extract.html) method returns the captured groups of a regular expression as a DataFrame:"
   ]
  },
  {
   "cell_type": "code",
   "execution_count": 29,
   "id": "61afe165",
   "metadata": {},
   "outputs": [
    {
     "data": {
      "text/html": [
       "<div>\n",
       "<style scoped>\n",
       "    .dataframe tbody tr th:only-of-type {\n",
       "        vertical-align: middle;\n",
       "    }\n",
       "\n",
       "    .dataframe tbody tr th {\n",
       "        vertical-align: top;\n",
       "    }\n",
       "\n",
       "    .dataframe thead th {\n",
       "        text-align: right;\n",
       "    }\n",
       "</style>\n",
       "<table border=\"1\" class=\"dataframe\">\n",
       "  <thead>\n",
       "    <tr style=\"text-align: right;\">\n",
       "      <th></th>\n",
       "      <th>0</th>\n",
       "      <th>1</th>\n",
       "      <th>2</th>\n",
       "    </tr>\n",
       "  </thead>\n",
       "  <tbody>\n",
       "    <tr>\n",
       "      <th>Veit</th>\n",
       "      <td>NaN</td>\n",
       "      <td>NaN</td>\n",
       "      <td>NaN</td>\n",
       "    </tr>\n",
       "    <tr>\n",
       "      <th>Veit Schiele</th>\n",
       "      <td>veit.schiele</td>\n",
       "      <td>cusy</td>\n",
       "      <td>io</td>\n",
       "    </tr>\n",
       "    <tr>\n",
       "      <th>cusy GmbH</th>\n",
       "      <td>info</td>\n",
       "      <td>cusy</td>\n",
       "      <td>io</td>\n",
       "    </tr>\n",
       "  </tbody>\n",
       "</table>\n",
       "</div>"
      ],
      "text/plain": [
       "                         0     1    2\n",
       "Veit                   NaN   NaN  NaN\n",
       "Veit Schiele  veit.schiele  cusy   io\n",
       "cusy GmbH             info  cusy   io"
      ]
     },
     "execution_count": 29,
     "metadata": {},
     "output_type": "execute_result"
    }
   ],
   "source": [
    "addresses.str.extract(pattern, flags=re.IGNORECASE)"
   ]
  },
  {
   "cell_type": "markdown",
   "id": "e198e489",
   "metadata": {},
   "source": [
    "More vectorised pandas string methods:\n",
    "\n",
    "Method | Description\n",
    ":----- | :----------\n",
    "`cat` | concatenates strings element by element with optional delimiter\n",
    "`contains` | returns a boolean array if each string contains a pattern/gex\n",
    "`count` | counts occurrences of the pattern\n",
    "`extract` | uses a regular expression with groups to extract one or more strings from a set of strings; the result is a DataFrame with one column per group\n",
    "`endswith` | equivalent to `x.endswith(pattern)` for each element\n",
    "`startswith` | equivalent to `x.startswith(pattern)` for each element\n",
    "`findall` | computes list of all occurrences of pattern/regex for each string\n",
    "`get` | index in each element (get `i`-th element)\n",
    "`isalnum` | Equivalent to built-in `str.alnum`\n",
    "`isalpha` | Equivalent to built-in `str.isalpha`\n",
    "`isdecimal` | Equivalent to built-in `str.isdecimal`\n",
    "`isdigit` | Equivalent to built-in `str.isdigit`\n",
    "`islower` | Equivalent to built-in `str.islower`\n",
    "`isnumeric` | Equivalent to built-in `str.isnumeric`\n",
    "`isupper` | Equivalent to built-in `str.isupper`\n",
    "`join` | joins strings in each element of the series with the passed separator character\n",
    "`len` | calculates the length of each string\n",
    "`lower`, `upper` | converts case; equivalent to `x.lower()` or `x.upper()` for each element\n",
    "`match` | uses `re.match` with the passed regular expression for each element, returning `True` or `False` if matched.\n",
    "`extract` | captures group elements (if any) by index from each string\n",
    "`pad` | inserts spaces on the left, right or both sides of strings\n",
    "`centre` | Equivalent to `pad(side='both')`\n",
    "`repeat` | Duplicates values (for example `s.str.repeat(3)` equals `x * 3` for each string)\n",
    "`replace` | replaces pattern/rulex with another string\n",
    "`slice` | splits each string in the series\n",
    "`split` | splits strings using delimiters or regular expressions\n",
    "`strip` | truncates spaces on both sides, including line breaks\n",
    "`rstrip` | truncates spaces on the right side\n",
    "`lstrip` | truncates spaces on the left side"
   ]
  }
 ],
 "metadata": {
  "kernelspec": {
   "display_name": "Python 3.8",
   "language": "python",
   "name": "python-38"
  },
  "language_info": {
   "codemirror_mode": {
    "name": "ipython",
    "version": 3
   },
   "file_extension": ".py",
   "mimetype": "text/x-python",
   "name": "python",
   "nbconvert_exporter": "python",
   "pygments_lexer": "ipython3",
   "version": "3.8.12"
  }
 },
 "nbformat": 4,
 "nbformat_minor": 5
}
