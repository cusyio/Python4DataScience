{
 "cells": [
  {
   "cell_type": "markdown",
   "id": "49bfd8b9",
   "metadata": {},
   "source": [
    "# Descriptive statistics\n",
    "\n",
    "pandas objects are equipped with a number of common mathematical and statistical methods. Most of them fall into the category of reductions or summary statistics, methods that extract a single value (such as the sum or mean) from a series or set of values from the rows or columns of a DataFrame. Compared to similar methods found in NumPy arrays, they also handle missing data."
   ]
  },
  {
   "cell_type": "code",
   "execution_count": 1,
   "id": "014949bc",
   "metadata": {},
   "outputs": [
    {
     "data": {
      "text/html": [
       "<div>\n",
       "<style scoped>\n",
       "    .dataframe tbody tr th:only-of-type {\n",
       "        vertical-align: middle;\n",
       "    }\n",
       "\n",
       "    .dataframe tbody tr th {\n",
       "        vertical-align: top;\n",
       "    }\n",
       "\n",
       "    .dataframe thead th {\n",
       "        text-align: right;\n",
       "    }\n",
       "</style>\n",
       "<table border=\"1\" class=\"dataframe\">\n",
       "  <thead>\n",
       "    <tr style=\"text-align: right;\">\n",
       "      <th></th>\n",
       "      <th>0</th>\n",
       "      <th>1</th>\n",
       "      <th>2</th>\n",
       "    </tr>\n",
       "  </thead>\n",
       "  <tbody>\n",
       "    <tr>\n",
       "      <th>2022-02-03</th>\n",
       "      <td>-0.013938</td>\n",
       "      <td>-2.260412</td>\n",
       "      <td>2.315637</td>\n",
       "    </tr>\n",
       "    <tr>\n",
       "      <th>2022-02-04</th>\n",
       "      <td>-0.499093</td>\n",
       "      <td>1.407191</td>\n",
       "      <td>-0.361063</td>\n",
       "    </tr>\n",
       "    <tr>\n",
       "      <th>2022-02-05</th>\n",
       "      <td>-0.236897</td>\n",
       "      <td>-1.164700</td>\n",
       "      <td>0.785671</td>\n",
       "    </tr>\n",
       "    <tr>\n",
       "      <th>2022-02-06</th>\n",
       "      <td>-0.133355</td>\n",
       "      <td>-0.754735</td>\n",
       "      <td>-0.185206</td>\n",
       "    </tr>\n",
       "    <tr>\n",
       "      <th>2022-02-07</th>\n",
       "      <td>0.259555</td>\n",
       "      <td>-0.612450</td>\n",
       "      <td>0.133201</td>\n",
       "    </tr>\n",
       "    <tr>\n",
       "      <th>2022-02-08</th>\n",
       "      <td>-1.132296</td>\n",
       "      <td>0.513303</td>\n",
       "      <td>-1.023171</td>\n",
       "    </tr>\n",
       "    <tr>\n",
       "      <th>2022-02-09</th>\n",
       "      <td>NaN</td>\n",
       "      <td>NaN</td>\n",
       "      <td>NaN</td>\n",
       "    </tr>\n",
       "  </tbody>\n",
       "</table>\n",
       "</div>"
      ],
      "text/plain": [
       "                   0         1         2\n",
       "2022-02-03 -0.013938 -2.260412  2.315637\n",
       "2022-02-04 -0.499093  1.407191 -0.361063\n",
       "2022-02-05 -0.236897 -1.164700  0.785671\n",
       "2022-02-06 -0.133355 -0.754735 -0.185206\n",
       "2022-02-07  0.259555 -0.612450  0.133201\n",
       "2022-02-08 -1.132296  0.513303 -1.023171\n",
       "2022-02-09       NaN       NaN       NaN"
      ]
     },
     "execution_count": 1,
     "metadata": {},
     "output_type": "execute_result"
    }
   ],
   "source": [
    "import pandas as pd\n",
    "import numpy as np\n",
    "\n",
    "df = pd.DataFrame(np.random.randn(7, 3), index=pd.date_range(\"2022-02-02\", periods=7))\n",
    "new_index = pd.date_range(\"2022-02-03\", periods=7)\n",
    "df2 = df.reindex(new_index)\n",
    "\n",
    "df2"
   ]
  },
  {
   "cell_type": "markdown",
   "id": "d9550d2b",
   "metadata": {},
   "source": [
    "Calling the `pandas.DataFrame.sum` method returns a series containing column totals:"
   ]
  },
  {
   "cell_type": "code",
   "execution_count": 2,
   "id": "73b1ad1a",
   "metadata": {},
   "outputs": [
    {
     "data": {
      "text/plain": [
       "0   -1.756023\n",
       "1   -2.871803\n",
       "2    1.665069\n",
       "dtype: float64"
      ]
     },
     "execution_count": 2,
     "metadata": {},
     "output_type": "execute_result"
    }
   ],
   "source": [
    "df2.sum()"
   ]
  },
  {
   "cell_type": "markdown",
   "id": "721c0343",
   "metadata": {},
   "source": [
    "Passing `axis='columns'` or `axis=1` instead sums over the columns:"
   ]
  },
  {
   "cell_type": "code",
   "execution_count": 3,
   "id": "f78f16a4",
   "metadata": {},
   "outputs": [
    {
     "data": {
      "text/plain": [
       "2022-02-03    0.041287\n",
       "2022-02-04    0.547036\n",
       "2022-02-05   -0.615925\n",
       "2022-02-06   -1.073296\n",
       "2022-02-07   -0.219694\n",
       "2022-02-08   -1.642164\n",
       "2022-02-09    0.000000\n",
       "Freq: D, dtype: float64"
      ]
     },
     "execution_count": 3,
     "metadata": {},
     "output_type": "execute_result"
    }
   ],
   "source": [
    "df2.sum(axis='columns')"
   ]
  },
  {
   "cell_type": "markdown",
   "id": "91cd96a2",
   "metadata": {},
   "source": [
    "If an entire row or column contains all NA values, the sum is `0`. This can be disabled with the `skipna` option:"
   ]
  },
  {
   "cell_type": "code",
   "execution_count": 4,
   "id": "996bc683",
   "metadata": {},
   "outputs": [
    {
     "data": {
      "text/plain": [
       "2022-02-03    0.041287\n",
       "2022-02-04    0.547036\n",
       "2022-02-05   -0.615925\n",
       "2022-02-06   -1.073296\n",
       "2022-02-07   -0.219694\n",
       "2022-02-08   -1.642164\n",
       "2022-02-09         NaN\n",
       "Freq: D, dtype: float64"
      ]
     },
     "execution_count": 4,
     "metadata": {},
     "output_type": "execute_result"
    }
   ],
   "source": [
    "df2.sum(axis='columns', skipna=False)"
   ]
  },
  {
   "cell_type": "markdown",
   "id": "22d39442",
   "metadata": {},
   "source": [
    "Some aggregations, such as `mean`, require at least one non-`NaN` value to obtain a valuable result:"
   ]
  },
  {
   "cell_type": "code",
   "execution_count": 5,
   "id": "3299afe8",
   "metadata": {},
   "outputs": [
    {
     "data": {
      "text/plain": [
       "2022-02-03    0.013762\n",
       "2022-02-04    0.182345\n",
       "2022-02-05   -0.205308\n",
       "2022-02-06   -0.357765\n",
       "2022-02-07   -0.073231\n",
       "2022-02-08   -0.547388\n",
       "2022-02-09         NaN\n",
       "Freq: D, dtype: float64"
      ]
     },
     "execution_count": 5,
     "metadata": {},
     "output_type": "execute_result"
    }
   ],
   "source": [
    "df2.mean(axis='columns')"
   ]
  },
  {
   "cell_type": "markdown",
   "id": "605fd8db",
   "metadata": {},
   "source": [
    "## Options for reduction methods\n",
    "\n",
    "Method | Description\n",
    ":----- | :----------\n",
    "`axis` | the axis of values to reduce: `0` for the rows of the DataFrame and `1` for the columns\n",
    "`skipna` | exclude missing values; by default `True`.\n",
    "`level` | reduce grouped by level if the axis is hierarchically indexed (MultiIndex)\n",
    "\n",
    "Some methods, such as `idxmin` and `idxmax`, provide indirect statistics such as the index value at which the minimum or maximum value is reached:"
   ]
  },
  {
   "cell_type": "code",
   "execution_count": 6,
   "id": "c0e901b9",
   "metadata": {},
   "outputs": [
    {
     "data": {
      "text/plain": [
       "0   2022-02-07\n",
       "1   2022-02-04\n",
       "2   2022-02-03\n",
       "dtype: datetime64[ns]"
      ]
     },
     "execution_count": 6,
     "metadata": {},
     "output_type": "execute_result"
    }
   ],
   "source": [
    "df2.idxmax()"
   ]
  },
  {
   "cell_type": "markdown",
   "id": "cc70cc96",
   "metadata": {},
   "source": [
    "Other methods are accumulations:"
   ]
  },
  {
   "cell_type": "code",
   "execution_count": 7,
   "id": "95e537e3",
   "metadata": {},
   "outputs": [
    {
     "data": {
      "text/html": [
       "<div>\n",
       "<style scoped>\n",
       "    .dataframe tbody tr th:only-of-type {\n",
       "        vertical-align: middle;\n",
       "    }\n",
       "\n",
       "    .dataframe tbody tr th {\n",
       "        vertical-align: top;\n",
       "    }\n",
       "\n",
       "    .dataframe thead th {\n",
       "        text-align: right;\n",
       "    }\n",
       "</style>\n",
       "<table border=\"1\" class=\"dataframe\">\n",
       "  <thead>\n",
       "    <tr style=\"text-align: right;\">\n",
       "      <th></th>\n",
       "      <th>0</th>\n",
       "      <th>1</th>\n",
       "      <th>2</th>\n",
       "    </tr>\n",
       "  </thead>\n",
       "  <tbody>\n",
       "    <tr>\n",
       "      <th>2022-02-03</th>\n",
       "      <td>-0.013938</td>\n",
       "      <td>-2.260412</td>\n",
       "      <td>2.315637</td>\n",
       "    </tr>\n",
       "    <tr>\n",
       "      <th>2022-02-04</th>\n",
       "      <td>-0.513030</td>\n",
       "      <td>-0.853220</td>\n",
       "      <td>1.954574</td>\n",
       "    </tr>\n",
       "    <tr>\n",
       "      <th>2022-02-05</th>\n",
       "      <td>-0.749927</td>\n",
       "      <td>-2.017920</td>\n",
       "      <td>2.740245</td>\n",
       "    </tr>\n",
       "    <tr>\n",
       "      <th>2022-02-06</th>\n",
       "      <td>-0.883282</td>\n",
       "      <td>-2.772656</td>\n",
       "      <td>2.555039</td>\n",
       "    </tr>\n",
       "    <tr>\n",
       "      <th>2022-02-07</th>\n",
       "      <td>-0.623727</td>\n",
       "      <td>-3.385106</td>\n",
       "      <td>2.688240</td>\n",
       "    </tr>\n",
       "    <tr>\n",
       "      <th>2022-02-08</th>\n",
       "      <td>-1.756023</td>\n",
       "      <td>-2.871803</td>\n",
       "      <td>1.665069</td>\n",
       "    </tr>\n",
       "    <tr>\n",
       "      <th>2022-02-09</th>\n",
       "      <td>NaN</td>\n",
       "      <td>NaN</td>\n",
       "      <td>NaN</td>\n",
       "    </tr>\n",
       "  </tbody>\n",
       "</table>\n",
       "</div>"
      ],
      "text/plain": [
       "                   0         1         2\n",
       "2022-02-03 -0.013938 -2.260412  2.315637\n",
       "2022-02-04 -0.513030 -0.853220  1.954574\n",
       "2022-02-05 -0.749927 -2.017920  2.740245\n",
       "2022-02-06 -0.883282 -2.772656  2.555039\n",
       "2022-02-07 -0.623727 -3.385106  2.688240\n",
       "2022-02-08 -1.756023 -2.871803  1.665069\n",
       "2022-02-09       NaN       NaN       NaN"
      ]
     },
     "execution_count": 7,
     "metadata": {},
     "output_type": "execute_result"
    }
   ],
   "source": [
    "df2.cumsum()"
   ]
  },
  {
   "cell_type": "markdown",
   "id": "704aab99",
   "metadata": {},
   "source": [
    "Another type of method is neither reductions nor accumulations. `describe` is one such example that produces several summary statistics in one go:"
   ]
  },
  {
   "cell_type": "code",
   "execution_count": 8,
   "id": "19994f6a",
   "metadata": {},
   "outputs": [
    {
     "data": {
      "text/html": [
       "<div>\n",
       "<style scoped>\n",
       "    .dataframe tbody tr th:only-of-type {\n",
       "        vertical-align: middle;\n",
       "    }\n",
       "\n",
       "    .dataframe tbody tr th {\n",
       "        vertical-align: top;\n",
       "    }\n",
       "\n",
       "    .dataframe thead th {\n",
       "        text-align: right;\n",
       "    }\n",
       "</style>\n",
       "<table border=\"1\" class=\"dataframe\">\n",
       "  <thead>\n",
       "    <tr style=\"text-align: right;\">\n",
       "      <th></th>\n",
       "      <th>0</th>\n",
       "      <th>1</th>\n",
       "      <th>2</th>\n",
       "    </tr>\n",
       "  </thead>\n",
       "  <tbody>\n",
       "    <tr>\n",
       "      <th>count</th>\n",
       "      <td>6.000000</td>\n",
       "      <td>6.000000</td>\n",
       "      <td>6.000000</td>\n",
       "    </tr>\n",
       "    <tr>\n",
       "      <th>mean</th>\n",
       "      <td>-0.292671</td>\n",
       "      <td>-0.478634</td>\n",
       "      <td>0.277511</td>\n",
       "    </tr>\n",
       "    <tr>\n",
       "      <th>std</th>\n",
       "      <td>0.481398</td>\n",
       "      <td>1.286844</td>\n",
       "      <td>1.161608</td>\n",
       "    </tr>\n",
       "    <tr>\n",
       "      <th>min</th>\n",
       "      <td>-1.132296</td>\n",
       "      <td>-2.260412</td>\n",
       "      <td>-1.023171</td>\n",
       "    </tr>\n",
       "    <tr>\n",
       "      <th>25%</th>\n",
       "      <td>-0.433544</td>\n",
       "      <td>-1.062209</td>\n",
       "      <td>-0.317099</td>\n",
       "    </tr>\n",
       "    <tr>\n",
       "      <th>50%</th>\n",
       "      <td>-0.185126</td>\n",
       "      <td>-0.683593</td>\n",
       "      <td>-0.026003</td>\n",
       "    </tr>\n",
       "    <tr>\n",
       "      <th>75%</th>\n",
       "      <td>-0.043792</td>\n",
       "      <td>0.231865</td>\n",
       "      <td>0.622554</td>\n",
       "    </tr>\n",
       "    <tr>\n",
       "      <th>max</th>\n",
       "      <td>0.259555</td>\n",
       "      <td>1.407191</td>\n",
       "      <td>2.315637</td>\n",
       "    </tr>\n",
       "  </tbody>\n",
       "</table>\n",
       "</div>"
      ],
      "text/plain": [
       "              0         1         2\n",
       "count  6.000000  6.000000  6.000000\n",
       "mean  -0.292671 -0.478634  0.277511\n",
       "std    0.481398  1.286844  1.161608\n",
       "min   -1.132296 -2.260412 -1.023171\n",
       "25%   -0.433544 -1.062209 -0.317099\n",
       "50%   -0.185126 -0.683593 -0.026003\n",
       "75%   -0.043792  0.231865  0.622554\n",
       "max    0.259555  1.407191  2.315637"
      ]
     },
     "execution_count": 8,
     "metadata": {},
     "output_type": "execute_result"
    }
   ],
   "source": [
    "df2.describe()"
   ]
  },
  {
   "cell_type": "markdown",
   "id": "7e504c67",
   "metadata": {},
   "source": [
    "For non-numeric data, `describe` generates alternative summary statistics:"
   ]
  },
  {
   "cell_type": "code",
   "execution_count": 9,
   "id": "da534c2e",
   "metadata": {},
   "outputs": [
    {
     "data": {
      "text/html": [
       "<div>\n",
       "<style scoped>\n",
       "    .dataframe tbody tr th:only-of-type {\n",
       "        vertical-align: middle;\n",
       "    }\n",
       "\n",
       "    .dataframe tbody tr th {\n",
       "        vertical-align: top;\n",
       "    }\n",
       "\n",
       "    .dataframe thead th {\n",
       "        text-align: right;\n",
       "    }\n",
       "</style>\n",
       "<table border=\"1\" class=\"dataframe\">\n",
       "  <thead>\n",
       "    <tr style=\"text-align: right;\">\n",
       "      <th></th>\n",
       "      <th>Code</th>\n",
       "      <th>Octal</th>\n",
       "    </tr>\n",
       "  </thead>\n",
       "  <tbody>\n",
       "    <tr>\n",
       "      <th>count</th>\n",
       "      <td>6</td>\n",
       "      <td>6</td>\n",
       "    </tr>\n",
       "    <tr>\n",
       "      <th>unique</th>\n",
       "      <td>6</td>\n",
       "      <td>5</td>\n",
       "    </tr>\n",
       "    <tr>\n",
       "      <th>top</th>\n",
       "      <td>U+0000</td>\n",
       "      <td>004</td>\n",
       "    </tr>\n",
       "    <tr>\n",
       "      <th>freq</th>\n",
       "      <td>1</td>\n",
       "      <td>2</td>\n",
       "    </tr>\n",
       "  </tbody>\n",
       "</table>\n",
       "</div>"
      ],
      "text/plain": [
       "          Code Octal\n",
       "count        6     6\n",
       "unique       6     5\n",
       "top     U+0000   004\n",
       "freq         1     2"
      ]
     },
     "execution_count": 9,
     "metadata": {},
     "output_type": "execute_result"
    }
   ],
   "source": [
    "data = {'Code': ['U+0000', 'U+0001', 'U+0002', 'U+0003', 'U+0004', 'U+0005'],\n",
    "        'Octal': ['001', '002', '003', '004', '004', '005']}\n",
    "df3 = pd.DataFrame(data)\n",
    "\n",
    "df3.describe()"
   ]
  },
  {
   "cell_type": "markdown",
   "id": "75f7c634",
   "metadata": {},
   "source": [
    "Descriptive and summary statistics:\n",
    "\n",
    "Method | Description\n",
    ":----- | :----------\n",
    "`count` | number of non-NA values\n",
    "`describe` | calculation of a set of summary statistics for series or each DataFrame column\n",
    "`min`, `max` | calculation of minimum and maximum values\n",
    "`argmin`, `argmax` | calculation of the index points (integers) at which the minimum or maximum value was reached\n",
    "`idxmin`, `idxmax` | calculation of the index labels at which the minimum or maximum values were reached\n",
    "`quantile` | calculation of the sample quantile in the range from 0 to 1\n",
    "`sum` | sum of the values\n",
    "`mean` | arithmetic mean of the values\n",
    "`median` | arithmetic median (50% quantile) of the values\n",
    "`mad` | mean absolute deviation from the mean value\n",
    "`prod` | product of all values\n",
    "`var` | sample variance of the values\n",
    "`std` | sample standard deviation of the values\n",
    "`skew` | sample skewness (third moment) of the values\n",
    "`kurt` | sample kurtosis (fourth moment) of the values\n",
    "`cumsum` | cumulative sum of the values\n",
    "`cummin`, `cummax` | cumulated minimum and maximum of the values respectively\n",
    "`cumprod` | cumulated product of the values\n",
    "`diff` | calculation of the first arithmetic difference (useful for time series)\n",
    "`pct_change` | calculation of the percentage changes"
   ]
  }
 ],
 "metadata": {
  "kernelspec": {
   "display_name": "Python 3.8",
   "language": "python",
   "name": "python-38"
  },
  "language_info": {
   "codemirror_mode": {
    "name": "ipython",
    "version": 3
   },
   "file_extension": ".py",
   "mimetype": "text/x-python",
   "name": "python",
   "nbconvert_exporter": "python",
   "pygments_lexer": "ipython3",
   "version": "3.8.12"
  }
 },
 "nbformat": 4,
 "nbformat_minor": 5
}
