{
 "cells": [
  {
   "cell_type": "markdown",
   "id": "79cd8c04",
   "metadata": {},
   "source": [
    "# Descriptive statistics\n",
    "\n",
    "pandas objects are equipped with a number of common mathematical and statistical methods. Most of them fall into the category of reductions or summary statistics, methods that extract a single value (such as the sum or mean) from a series or set of values from the rows or columns of a DataFrame. Compared to similar methods found in NumPy arrays, they also handle missing data."
   ]
  },
  {
   "cell_type": "code",
   "execution_count": 1,
   "id": "1f4bf43c",
   "metadata": {},
   "outputs": [
    {
     "data": {
      "text/html": [
       "<div>\n",
       "<style scoped>\n",
       "    .dataframe tbody tr th:only-of-type {\n",
       "        vertical-align: middle;\n",
       "    }\n",
       "\n",
       "    .dataframe tbody tr th {\n",
       "        vertical-align: top;\n",
       "    }\n",
       "\n",
       "    .dataframe thead th {\n",
       "        text-align: right;\n",
       "    }\n",
       "</style>\n",
       "<table border=\"1\" class=\"dataframe\">\n",
       "  <thead>\n",
       "    <tr style=\"text-align: right;\">\n",
       "      <th></th>\n",
       "      <th>0</th>\n",
       "      <th>1</th>\n",
       "      <th>2</th>\n",
       "    </tr>\n",
       "  </thead>\n",
       "  <tbody>\n",
       "    <tr>\n",
       "      <th>2022-02-03</th>\n",
       "      <td>-1.394921</td>\n",
       "      <td>0.464538</td>\n",
       "      <td>0.428780</td>\n",
       "    </tr>\n",
       "    <tr>\n",
       "      <th>2022-02-04</th>\n",
       "      <td>0.050359</td>\n",
       "      <td>1.324827</td>\n",
       "      <td>0.688342</td>\n",
       "    </tr>\n",
       "    <tr>\n",
       "      <th>2022-02-05</th>\n",
       "      <td>-0.769438</td>\n",
       "      <td>1.764990</td>\n",
       "      <td>0.835642</td>\n",
       "    </tr>\n",
       "    <tr>\n",
       "      <th>2022-02-06</th>\n",
       "      <td>-0.637301</td>\n",
       "      <td>-0.974347</td>\n",
       "      <td>0.958251</td>\n",
       "    </tr>\n",
       "    <tr>\n",
       "      <th>2022-02-07</th>\n",
       "      <td>0.484021</td>\n",
       "      <td>-0.780501</td>\n",
       "      <td>-1.367992</td>\n",
       "    </tr>\n",
       "    <tr>\n",
       "      <th>2022-02-08</th>\n",
       "      <td>0.283652</td>\n",
       "      <td>-0.531962</td>\n",
       "      <td>-1.587233</td>\n",
       "    </tr>\n",
       "    <tr>\n",
       "      <th>2022-02-09</th>\n",
       "      <td>NaN</td>\n",
       "      <td>NaN</td>\n",
       "      <td>NaN</td>\n",
       "    </tr>\n",
       "  </tbody>\n",
       "</table>\n",
       "</div>"
      ],
      "text/plain": [
       "                   0         1         2\n",
       "2022-02-03 -1.394921  0.464538  0.428780\n",
       "2022-02-04  0.050359  1.324827  0.688342\n",
       "2022-02-05 -0.769438  1.764990  0.835642\n",
       "2022-02-06 -0.637301 -0.974347  0.958251\n",
       "2022-02-07  0.484021 -0.780501 -1.367992\n",
       "2022-02-08  0.283652 -0.531962 -1.587233\n",
       "2022-02-09       NaN       NaN       NaN"
      ]
     },
     "execution_count": 1,
     "metadata": {},
     "output_type": "execute_result"
    }
   ],
   "source": [
    "import pandas as pd\n",
    "import numpy as np\n",
    "\n",
    "rng = np.random.default_rng()\n",
    "df = pd.DataFrame(rng.normal(size=(7, 3)), index=pd.date_range(\"2022-02-02\", periods=7))\n",
    "new_index = pd.date_range(\"2022-02-03\", periods=7)\n",
    "df2 = df.reindex(new_index)\n",
    "\n",
    "df2"
   ]
  },
  {
   "cell_type": "markdown",
   "id": "b1cb2575",
   "metadata": {},
   "source": [
    "Calling the `pandas.DataFrame.sum` method returns a series containing column totals:"
   ]
  },
  {
   "cell_type": "code",
   "execution_count": 2,
   "id": "a55ae7bc",
   "metadata": {},
   "outputs": [
    {
     "data": {
      "text/plain": [
       "0   -1.983628\n",
       "1    1.267546\n",
       "2   -0.044210\n",
       "dtype: float64"
      ]
     },
     "execution_count": 2,
     "metadata": {},
     "output_type": "execute_result"
    }
   ],
   "source": [
    "df2.sum()"
   ]
  },
  {
   "cell_type": "markdown",
   "id": "b7884bef",
   "metadata": {},
   "source": [
    "Passing `axis='columns'` or `axis=1` instead sums over the columns:"
   ]
  },
  {
   "cell_type": "code",
   "execution_count": 3,
   "id": "27dc4630",
   "metadata": {},
   "outputs": [
    {
     "data": {
      "text/plain": [
       "2022-02-03   -0.501603\n",
       "2022-02-04    2.063528\n",
       "2022-02-05    1.831195\n",
       "2022-02-06   -0.653397\n",
       "2022-02-07   -1.664472\n",
       "2022-02-08   -1.835543\n",
       "2022-02-09    0.000000\n",
       "Freq: D, dtype: float64"
      ]
     },
     "execution_count": 3,
     "metadata": {},
     "output_type": "execute_result"
    }
   ],
   "source": [
    "df2.sum(axis='columns')"
   ]
  },
  {
   "cell_type": "markdown",
   "id": "ec346926",
   "metadata": {},
   "source": [
    "If an entire row or column contains all NA values, the sum is `0`. This can be disabled with the `skipna` option:"
   ]
  },
  {
   "cell_type": "code",
   "execution_count": 4,
   "id": "621f7f93",
   "metadata": {},
   "outputs": [
    {
     "data": {
      "text/plain": [
       "2022-02-03   -0.501603\n",
       "2022-02-04    2.063528\n",
       "2022-02-05    1.831195\n",
       "2022-02-06   -0.653397\n",
       "2022-02-07   -1.664472\n",
       "2022-02-08   -1.835543\n",
       "2022-02-09         NaN\n",
       "Freq: D, dtype: float64"
      ]
     },
     "execution_count": 4,
     "metadata": {},
     "output_type": "execute_result"
    }
   ],
   "source": [
    "df2.sum(axis='columns', skipna=False)"
   ]
  },
  {
   "cell_type": "markdown",
   "id": "644a61ca",
   "metadata": {},
   "source": [
    "Some aggregations, such as `mean`, require at least one non-`NaN` value to obtain a valuable result:"
   ]
  },
  {
   "cell_type": "code",
   "execution_count": 5,
   "id": "06f89464",
   "metadata": {},
   "outputs": [
    {
     "data": {
      "text/plain": [
       "2022-02-03   -0.167201\n",
       "2022-02-04    0.687843\n",
       "2022-02-05    0.610398\n",
       "2022-02-06   -0.217799\n",
       "2022-02-07   -0.554824\n",
       "2022-02-08   -0.611848\n",
       "2022-02-09         NaN\n",
       "Freq: D, dtype: float64"
      ]
     },
     "execution_count": 5,
     "metadata": {},
     "output_type": "execute_result"
    }
   ],
   "source": [
    "df2.mean(axis='columns')"
   ]
  },
  {
   "cell_type": "markdown",
   "id": "ce078db0",
   "metadata": {},
   "source": [
    "## Options for reduction methods\n",
    "\n",
    "Method | Description\n",
    ":----- | :----------\n",
    "`axis` | the axis of values to reduce: `0` for the rows of the DataFrame and `1` for the columns\n",
    "`skipna` | exclude missing values; by default `True`.\n",
    "`level` | reduce grouped by level if the axis is hierarchically indexed (MultiIndex)\n",
    "\n",
    "Some methods, such as `idxmin` and `idxmax`, provide indirect statistics such as the index value at which the minimum or maximum value is reached:"
   ]
  },
  {
   "cell_type": "code",
   "execution_count": 6,
   "id": "d5693225",
   "metadata": {},
   "outputs": [
    {
     "data": {
      "text/plain": [
       "0   2022-02-07\n",
       "1   2022-02-05\n",
       "2   2022-02-06\n",
       "dtype: datetime64[ns]"
      ]
     },
     "execution_count": 6,
     "metadata": {},
     "output_type": "execute_result"
    }
   ],
   "source": [
    "df2.idxmax()"
   ]
  },
  {
   "cell_type": "markdown",
   "id": "ad8181d8",
   "metadata": {},
   "source": [
    "Other methods are accumulations:"
   ]
  },
  {
   "cell_type": "code",
   "execution_count": 7,
   "id": "373b127a",
   "metadata": {},
   "outputs": [
    {
     "data": {
      "text/html": [
       "<div>\n",
       "<style scoped>\n",
       "    .dataframe tbody tr th:only-of-type {\n",
       "        vertical-align: middle;\n",
       "    }\n",
       "\n",
       "    .dataframe tbody tr th {\n",
       "        vertical-align: top;\n",
       "    }\n",
       "\n",
       "    .dataframe thead th {\n",
       "        text-align: right;\n",
       "    }\n",
       "</style>\n",
       "<table border=\"1\" class=\"dataframe\">\n",
       "  <thead>\n",
       "    <tr style=\"text-align: right;\">\n",
       "      <th></th>\n",
       "      <th>0</th>\n",
       "      <th>1</th>\n",
       "      <th>2</th>\n",
       "    </tr>\n",
       "  </thead>\n",
       "  <tbody>\n",
       "    <tr>\n",
       "      <th>2022-02-03</th>\n",
       "      <td>-1.394921</td>\n",
       "      <td>0.464538</td>\n",
       "      <td>0.428780</td>\n",
       "    </tr>\n",
       "    <tr>\n",
       "      <th>2022-02-04</th>\n",
       "      <td>-1.344563</td>\n",
       "      <td>1.789365</td>\n",
       "      <td>1.117123</td>\n",
       "    </tr>\n",
       "    <tr>\n",
       "      <th>2022-02-05</th>\n",
       "      <td>-2.114000</td>\n",
       "      <td>3.554356</td>\n",
       "      <td>1.952765</td>\n",
       "    </tr>\n",
       "    <tr>\n",
       "      <th>2022-02-06</th>\n",
       "      <td>-2.751301</td>\n",
       "      <td>2.580009</td>\n",
       "      <td>2.911016</td>\n",
       "    </tr>\n",
       "    <tr>\n",
       "      <th>2022-02-07</th>\n",
       "      <td>-2.267280</td>\n",
       "      <td>1.799508</td>\n",
       "      <td>1.543024</td>\n",
       "    </tr>\n",
       "    <tr>\n",
       "      <th>2022-02-08</th>\n",
       "      <td>-1.983628</td>\n",
       "      <td>1.267546</td>\n",
       "      <td>-0.044210</td>\n",
       "    </tr>\n",
       "    <tr>\n",
       "      <th>2022-02-09</th>\n",
       "      <td>NaN</td>\n",
       "      <td>NaN</td>\n",
       "      <td>NaN</td>\n",
       "    </tr>\n",
       "  </tbody>\n",
       "</table>\n",
       "</div>"
      ],
      "text/plain": [
       "                   0         1         2\n",
       "2022-02-03 -1.394921  0.464538  0.428780\n",
       "2022-02-04 -1.344563  1.789365  1.117123\n",
       "2022-02-05 -2.114000  3.554356  1.952765\n",
       "2022-02-06 -2.751301  2.580009  2.911016\n",
       "2022-02-07 -2.267280  1.799508  1.543024\n",
       "2022-02-08 -1.983628  1.267546 -0.044210\n",
       "2022-02-09       NaN       NaN       NaN"
      ]
     },
     "execution_count": 7,
     "metadata": {},
     "output_type": "execute_result"
    }
   ],
   "source": [
    "df2.cumsum()"
   ]
  },
  {
   "cell_type": "markdown",
   "id": "4603de28",
   "metadata": {},
   "source": [
    "Another type of method is neither reductions nor accumulations. `describe` is one such example that produces several summary statistics in one go:"
   ]
  },
  {
   "cell_type": "code",
   "execution_count": 8,
   "id": "010fb833",
   "metadata": {},
   "outputs": [
    {
     "data": {
      "text/html": [
       "<div>\n",
       "<style scoped>\n",
       "    .dataframe tbody tr th:only-of-type {\n",
       "        vertical-align: middle;\n",
       "    }\n",
       "\n",
       "    .dataframe tbody tr th {\n",
       "        vertical-align: top;\n",
       "    }\n",
       "\n",
       "    .dataframe thead th {\n",
       "        text-align: right;\n",
       "    }\n",
       "</style>\n",
       "<table border=\"1\" class=\"dataframe\">\n",
       "  <thead>\n",
       "    <tr style=\"text-align: right;\">\n",
       "      <th></th>\n",
       "      <th>0</th>\n",
       "      <th>1</th>\n",
       "      <th>2</th>\n",
       "    </tr>\n",
       "  </thead>\n",
       "  <tbody>\n",
       "    <tr>\n",
       "      <th>count</th>\n",
       "      <td>6.000000</td>\n",
       "      <td>6.000000</td>\n",
       "      <td>6.000000</td>\n",
       "    </tr>\n",
       "    <tr>\n",
       "      <th>mean</th>\n",
       "      <td>-0.330605</td>\n",
       "      <td>0.211258</td>\n",
       "      <td>-0.007368</td>\n",
       "    </tr>\n",
       "    <tr>\n",
       "      <th>std</th>\n",
       "      <td>0.721868</td>\n",
       "      <td>1.154114</td>\n",
       "      <td>1.154521</td>\n",
       "    </tr>\n",
       "    <tr>\n",
       "      <th>min</th>\n",
       "      <td>-1.394921</td>\n",
       "      <td>-0.974347</td>\n",
       "      <td>-1.587233</td>\n",
       "    </tr>\n",
       "    <tr>\n",
       "      <th>25%</th>\n",
       "      <td>-0.736403</td>\n",
       "      <td>-0.718366</td>\n",
       "      <td>-0.918799</td>\n",
       "    </tr>\n",
       "    <tr>\n",
       "      <th>50%</th>\n",
       "      <td>-0.293471</td>\n",
       "      <td>-0.033712</td>\n",
       "      <td>0.558561</td>\n",
       "    </tr>\n",
       "    <tr>\n",
       "      <th>75%</th>\n",
       "      <td>0.225329</td>\n",
       "      <td>1.109755</td>\n",
       "      <td>0.798817</td>\n",
       "    </tr>\n",
       "    <tr>\n",
       "      <th>max</th>\n",
       "      <td>0.484021</td>\n",
       "      <td>1.764990</td>\n",
       "      <td>0.958251</td>\n",
       "    </tr>\n",
       "  </tbody>\n",
       "</table>\n",
       "</div>"
      ],
      "text/plain": [
       "              0         1         2\n",
       "count  6.000000  6.000000  6.000000\n",
       "mean  -0.330605  0.211258 -0.007368\n",
       "std    0.721868  1.154114  1.154521\n",
       "min   -1.394921 -0.974347 -1.587233\n",
       "25%   -0.736403 -0.718366 -0.918799\n",
       "50%   -0.293471 -0.033712  0.558561\n",
       "75%    0.225329  1.109755  0.798817\n",
       "max    0.484021  1.764990  0.958251"
      ]
     },
     "execution_count": 8,
     "metadata": {},
     "output_type": "execute_result"
    }
   ],
   "source": [
    "df2.describe()"
   ]
  },
  {
   "cell_type": "markdown",
   "id": "5d1f2a90",
   "metadata": {},
   "source": [
    "For non-numeric data, `describe` generates alternative summary statistics:"
   ]
  },
  {
   "cell_type": "code",
   "execution_count": 9,
   "id": "4277fda3",
   "metadata": {},
   "outputs": [
    {
     "data": {
      "text/html": [
       "<div>\n",
       "<style scoped>\n",
       "    .dataframe tbody tr th:only-of-type {\n",
       "        vertical-align: middle;\n",
       "    }\n",
       "\n",
       "    .dataframe tbody tr th {\n",
       "        vertical-align: top;\n",
       "    }\n",
       "\n",
       "    .dataframe thead th {\n",
       "        text-align: right;\n",
       "    }\n",
       "</style>\n",
       "<table border=\"1\" class=\"dataframe\">\n",
       "  <thead>\n",
       "    <tr style=\"text-align: right;\">\n",
       "      <th></th>\n",
       "      <th>Code</th>\n",
       "      <th>Octal</th>\n",
       "    </tr>\n",
       "  </thead>\n",
       "  <tbody>\n",
       "    <tr>\n",
       "      <th>count</th>\n",
       "      <td>6</td>\n",
       "      <td>6</td>\n",
       "    </tr>\n",
       "    <tr>\n",
       "      <th>unique</th>\n",
       "      <td>6</td>\n",
       "      <td>5</td>\n",
       "    </tr>\n",
       "    <tr>\n",
       "      <th>top</th>\n",
       "      <td>U+0000</td>\n",
       "      <td>004</td>\n",
       "    </tr>\n",
       "    <tr>\n",
       "      <th>freq</th>\n",
       "      <td>1</td>\n",
       "      <td>2</td>\n",
       "    </tr>\n",
       "  </tbody>\n",
       "</table>\n",
       "</div>"
      ],
      "text/plain": [
       "          Code Octal\n",
       "count        6     6\n",
       "unique       6     5\n",
       "top     U+0000   004\n",
       "freq         1     2"
      ]
     },
     "execution_count": 9,
     "metadata": {},
     "output_type": "execute_result"
    }
   ],
   "source": [
    "data = {'Code': ['U+0000', 'U+0001', 'U+0002', 'U+0003', 'U+0004', 'U+0005'],\n",
    "        'Octal': ['001', '002', '003', '004', '004', '005']}\n",
    "df3 = pd.DataFrame(data)\n",
    "\n",
    "df3.describe()"
   ]
  },
  {
   "cell_type": "markdown",
   "id": "ce69eb28",
   "metadata": {},
   "source": [
    "Descriptive and summary statistics:\n",
    "\n",
    "Method | Description\n",
    ":----- | :----------\n",
    "`count` | number of non-NA values\n",
    "`describe` | calculation of a set of summary statistics for series or each DataFrame column\n",
    "`min`, `max` | calculation of minimum and maximum values\n",
    "`argmin`, `argmax` | calculation of the index points (integers) at which the minimum or maximum value was reached\n",
    "`idxmin`, `idxmax` | calculation of the index labels at which the minimum or maximum values were reached\n",
    "`quantile` | calculation of the sample quantile in the range from 0 to 1\n",
    "`sum` | sum of the values\n",
    "`mean` | arithmetic mean of the values\n",
    "`median` | arithmetic median (50% quantile) of the values\n",
    "`mad` | mean absolute deviation from the mean value\n",
    "`prod` | product of all values\n",
    "`var` | sample variance of the values\n",
    "`std` | sample standard deviation of the values\n",
    "`skew` | sample skewness (third moment) of the values\n",
    "`kurt` | sample kurtosis (fourth moment) of the values\n",
    "`cumsum` | cumulative sum of the values\n",
    "`cummin`, `cummax` | cumulated minimum and maximum of the values respectively\n",
    "`cumprod` | cumulated product of the values\n",
    "`diff` | calculation of the first arithmetic difference (useful for time series)\n",
    "`pct_change` | calculation of the percentage changes"
   ]
  }
 ],
 "metadata": {
  "kernelspec": {
   "display_name": "Python 3.8",
   "language": "python",
   "name": "python-38"
  },
  "language_info": {
   "codemirror_mode": {
    "name": "ipython",
    "version": 3
   },
   "file_extension": ".py",
   "mimetype": "text/x-python",
   "name": "python",
   "nbconvert_exporter": "python",
   "pygments_lexer": "ipython3",
   "version": "3.8.12"
  }
 },
 "nbformat": 4,
 "nbformat_minor": 5
}
