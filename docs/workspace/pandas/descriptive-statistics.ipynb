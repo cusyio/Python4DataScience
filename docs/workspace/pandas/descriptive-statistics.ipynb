{
 "cells": [
  {
   "cell_type": "markdown",
   "id": "79cd8c04",
   "metadata": {},
   "source": [
    "# Descriptive statistics\n",
    "\n",
    "pandas objects are equipped with a number of common mathematical and statistical methods. Most of them fall into the category of reductions or summary statistics, methods that extract a single value (such as the sum or mean) from a series or set of values from the rows or columns of a DataFrame. Compared to similar methods found in NumPy arrays, they also handle missing data."
   ]
  },
  {
   "cell_type": "code",
   "execution_count": 1,
   "id": "1f4bf43c",
   "metadata": {},
   "outputs": [
    {
     "data": {
      "text/html": [
       "<div>\n",
       "<style scoped>\n",
       "    .dataframe tbody tr th:only-of-type {\n",
       "        vertical-align: middle;\n",
       "    }\n",
       "\n",
       "    .dataframe tbody tr th {\n",
       "        vertical-align: top;\n",
       "    }\n",
       "\n",
       "    .dataframe thead th {\n",
       "        text-align: right;\n",
       "    }\n",
       "</style>\n",
       "<table border=\"1\" class=\"dataframe\">\n",
       "  <thead>\n",
       "    <tr style=\"text-align: right;\">\n",
       "      <th></th>\n",
       "      <th>0</th>\n",
       "      <th>1</th>\n",
       "      <th>2</th>\n",
       "    </tr>\n",
       "  </thead>\n",
       "  <tbody>\n",
       "    <tr>\n",
       "      <th>2022-02-03</th>\n",
       "      <td>0.264503</td>\n",
       "      <td>-0.345312</td>\n",
       "      <td>1.260343</td>\n",
       "    </tr>\n",
       "    <tr>\n",
       "      <th>2022-02-04</th>\n",
       "      <td>-1.286440</td>\n",
       "      <td>-1.107862</td>\n",
       "      <td>1.571945</td>\n",
       "    </tr>\n",
       "    <tr>\n",
       "      <th>2022-02-05</th>\n",
       "      <td>-0.027269</td>\n",
       "      <td>-0.138083</td>\n",
       "      <td>0.462049</td>\n",
       "    </tr>\n",
       "    <tr>\n",
       "      <th>2022-02-06</th>\n",
       "      <td>-1.090419</td>\n",
       "      <td>0.798509</td>\n",
       "      <td>0.795627</td>\n",
       "    </tr>\n",
       "    <tr>\n",
       "      <th>2022-02-07</th>\n",
       "      <td>1.571553</td>\n",
       "      <td>1.519501</td>\n",
       "      <td>1.566992</td>\n",
       "    </tr>\n",
       "    <tr>\n",
       "      <th>2022-02-08</th>\n",
       "      <td>0.975667</td>\n",
       "      <td>0.309376</td>\n",
       "      <td>0.512775</td>\n",
       "    </tr>\n",
       "    <tr>\n",
       "      <th>2022-02-09</th>\n",
       "      <td>NaN</td>\n",
       "      <td>NaN</td>\n",
       "      <td>NaN</td>\n",
       "    </tr>\n",
       "  </tbody>\n",
       "</table>\n",
       "</div>"
      ],
      "text/plain": [
       "                   0         1         2\n",
       "2022-02-03  0.264503 -0.345312  1.260343\n",
       "2022-02-04 -1.286440 -1.107862  1.571945\n",
       "2022-02-05 -0.027269 -0.138083  0.462049\n",
       "2022-02-06 -1.090419  0.798509  0.795627\n",
       "2022-02-07  1.571553  1.519501  1.566992\n",
       "2022-02-08  0.975667  0.309376  0.512775\n",
       "2022-02-09       NaN       NaN       NaN"
      ]
     },
     "execution_count": 1,
     "metadata": {},
     "output_type": "execute_result"
    }
   ],
   "source": [
    "import pandas as pd\n",
    "import numpy as np\n",
    "\n",
    "rng = np.random.default_rng()\n",
    "df = pd.DataFrame(rng.normal(size=(7, 3)), index=pd.date_range(\"2022-02-02\", periods=7))\n",
    "new_index = pd.date_range(\"2022-02-03\", periods=7)\n",
    "df2 = df.reindex(new_index)\n",
    "\n",
    "df2"
   ]
  },
  {
   "cell_type": "markdown",
   "id": "b1cb2575",
   "metadata": {},
   "source": [
    "Calling the `pandas.DataFrame.sum` method returns a series containing column totals:"
   ]
  },
  {
   "cell_type": "code",
   "execution_count": 2,
   "id": "a55ae7bc",
   "metadata": {},
   "outputs": [
    {
     "data": {
      "text/plain": [
       "0    0.407595\n",
       "1    1.036129\n",
       "2    6.169731\n",
       "dtype: float64"
      ]
     },
     "execution_count": 2,
     "metadata": {},
     "output_type": "execute_result"
    }
   ],
   "source": [
    "df2.sum()"
   ]
  },
  {
   "cell_type": "markdown",
   "id": "b7884bef",
   "metadata": {},
   "source": [
    "Passing `axis='columns'` or `axis=1` instead sums over the columns:"
   ]
  },
  {
   "cell_type": "code",
   "execution_count": 3,
   "id": "27dc4630",
   "metadata": {},
   "outputs": [
    {
     "data": {
      "text/plain": [
       "2022-02-03    1.179534\n",
       "2022-02-04   -0.822357\n",
       "2022-02-05    0.296697\n",
       "2022-02-06    0.503717\n",
       "2022-02-07    4.658046\n",
       "2022-02-08    1.797817\n",
       "2022-02-09    0.000000\n",
       "Freq: D, dtype: float64"
      ]
     },
     "execution_count": 3,
     "metadata": {},
     "output_type": "execute_result"
    }
   ],
   "source": [
    "df2.sum(axis='columns')"
   ]
  },
  {
   "cell_type": "markdown",
   "id": "ec346926",
   "metadata": {},
   "source": [
    "If an entire row or column contains all NA values, the sum is `0`. This can be disabled with the `skipna` option:"
   ]
  },
  {
   "cell_type": "code",
   "execution_count": 4,
   "id": "621f7f93",
   "metadata": {},
   "outputs": [
    {
     "data": {
      "text/plain": [
       "2022-02-03    1.179534\n",
       "2022-02-04   -0.822357\n",
       "2022-02-05    0.296697\n",
       "2022-02-06    0.503717\n",
       "2022-02-07    4.658046\n",
       "2022-02-08    1.797817\n",
       "2022-02-09         NaN\n",
       "Freq: D, dtype: float64"
      ]
     },
     "execution_count": 4,
     "metadata": {},
     "output_type": "execute_result"
    }
   ],
   "source": [
    "df2.sum(axis='columns', skipna=False)"
   ]
  },
  {
   "cell_type": "markdown",
   "id": "644a61ca",
   "metadata": {},
   "source": [
    "Some aggregations, such as `mean`, require at least one non-`NaN` value to obtain a valuable result:"
   ]
  },
  {
   "cell_type": "code",
   "execution_count": 5,
   "id": "06f89464",
   "metadata": {},
   "outputs": [
    {
     "data": {
      "text/plain": [
       "2022-02-03    0.393178\n",
       "2022-02-04   -0.274119\n",
       "2022-02-05    0.098899\n",
       "2022-02-06    0.167906\n",
       "2022-02-07    1.552682\n",
       "2022-02-08    0.599272\n",
       "2022-02-09         NaN\n",
       "Freq: D, dtype: float64"
      ]
     },
     "execution_count": 5,
     "metadata": {},
     "output_type": "execute_result"
    }
   ],
   "source": [
    "df2.mean(axis='columns')"
   ]
  },
  {
   "cell_type": "markdown",
   "id": "ce078db0",
   "metadata": {},
   "source": [
    "## Options for reduction methods\n",
    "\n",
    "Method | Description\n",
    ":----- | :----------\n",
    "`axis` | the axis of values to reduce: `0` for the rows of the DataFrame and `1` for the columns\n",
    "`skipna` | exclude missing values; by default `True`.\n",
    "`level` | reduce grouped by level if the axis is hierarchically indexed (MultiIndex)\n",
    "\n",
    "Some methods, such as `idxmin` and `idxmax`, provide indirect statistics such as the index value at which the minimum or maximum value is reached:"
   ]
  },
  {
   "cell_type": "code",
   "execution_count": 6,
   "id": "d5693225",
   "metadata": {},
   "outputs": [
    {
     "data": {
      "text/plain": [
       "0   2022-02-07\n",
       "1   2022-02-07\n",
       "2   2022-02-04\n",
       "dtype: datetime64[ns]"
      ]
     },
     "execution_count": 6,
     "metadata": {},
     "output_type": "execute_result"
    }
   ],
   "source": [
    "df2.idxmax()"
   ]
  },
  {
   "cell_type": "markdown",
   "id": "ad8181d8",
   "metadata": {},
   "source": [
    "Other methods are accumulations:"
   ]
  },
  {
   "cell_type": "code",
   "execution_count": 7,
   "id": "373b127a",
   "metadata": {},
   "outputs": [
    {
     "data": {
      "text/html": [
       "<div>\n",
       "<style scoped>\n",
       "    .dataframe tbody tr th:only-of-type {\n",
       "        vertical-align: middle;\n",
       "    }\n",
       "\n",
       "    .dataframe tbody tr th {\n",
       "        vertical-align: top;\n",
       "    }\n",
       "\n",
       "    .dataframe thead th {\n",
       "        text-align: right;\n",
       "    }\n",
       "</style>\n",
       "<table border=\"1\" class=\"dataframe\">\n",
       "  <thead>\n",
       "    <tr style=\"text-align: right;\">\n",
       "      <th></th>\n",
       "      <th>0</th>\n",
       "      <th>1</th>\n",
       "      <th>2</th>\n",
       "    </tr>\n",
       "  </thead>\n",
       "  <tbody>\n",
       "    <tr>\n",
       "      <th>2022-02-03</th>\n",
       "      <td>0.264503</td>\n",
       "      <td>-0.345312</td>\n",
       "      <td>1.260343</td>\n",
       "    </tr>\n",
       "    <tr>\n",
       "      <th>2022-02-04</th>\n",
       "      <td>-1.021937</td>\n",
       "      <td>-1.453174</td>\n",
       "      <td>2.832288</td>\n",
       "    </tr>\n",
       "    <tr>\n",
       "      <th>2022-02-05</th>\n",
       "      <td>-1.049206</td>\n",
       "      <td>-1.591257</td>\n",
       "      <td>3.294337</td>\n",
       "    </tr>\n",
       "    <tr>\n",
       "      <th>2022-02-06</th>\n",
       "      <td>-2.139625</td>\n",
       "      <td>-0.792748</td>\n",
       "      <td>4.089963</td>\n",
       "    </tr>\n",
       "    <tr>\n",
       "      <th>2022-02-07</th>\n",
       "      <td>-0.568072</td>\n",
       "      <td>0.726753</td>\n",
       "      <td>5.656955</td>\n",
       "    </tr>\n",
       "    <tr>\n",
       "      <th>2022-02-08</th>\n",
       "      <td>0.407595</td>\n",
       "      <td>1.036129</td>\n",
       "      <td>6.169731</td>\n",
       "    </tr>\n",
       "    <tr>\n",
       "      <th>2022-02-09</th>\n",
       "      <td>NaN</td>\n",
       "      <td>NaN</td>\n",
       "      <td>NaN</td>\n",
       "    </tr>\n",
       "  </tbody>\n",
       "</table>\n",
       "</div>"
      ],
      "text/plain": [
       "                   0         1         2\n",
       "2022-02-03  0.264503 -0.345312  1.260343\n",
       "2022-02-04 -1.021937 -1.453174  2.832288\n",
       "2022-02-05 -1.049206 -1.591257  3.294337\n",
       "2022-02-06 -2.139625 -0.792748  4.089963\n",
       "2022-02-07 -0.568072  0.726753  5.656955\n",
       "2022-02-08  0.407595  1.036129  6.169731\n",
       "2022-02-09       NaN       NaN       NaN"
      ]
     },
     "execution_count": 7,
     "metadata": {},
     "output_type": "execute_result"
    }
   ],
   "source": [
    "df2.cumsum()"
   ]
  },
  {
   "cell_type": "markdown",
   "id": "4603de28",
   "metadata": {},
   "source": [
    "Another type of method is neither reductions nor accumulations. `describe` is one such example that produces several summary statistics in one go:"
   ]
  },
  {
   "cell_type": "code",
   "execution_count": 8,
   "id": "010fb833",
   "metadata": {},
   "outputs": [
    {
     "data": {
      "text/html": [
       "<div>\n",
       "<style scoped>\n",
       "    .dataframe tbody tr th:only-of-type {\n",
       "        vertical-align: middle;\n",
       "    }\n",
       "\n",
       "    .dataframe tbody tr th {\n",
       "        vertical-align: top;\n",
       "    }\n",
       "\n",
       "    .dataframe thead th {\n",
       "        text-align: right;\n",
       "    }\n",
       "</style>\n",
       "<table border=\"1\" class=\"dataframe\">\n",
       "  <thead>\n",
       "    <tr style=\"text-align: right;\">\n",
       "      <th></th>\n",
       "      <th>0</th>\n",
       "      <th>1</th>\n",
       "      <th>2</th>\n",
       "    </tr>\n",
       "  </thead>\n",
       "  <tbody>\n",
       "    <tr>\n",
       "      <th>count</th>\n",
       "      <td>6.000000</td>\n",
       "      <td>6.000000</td>\n",
       "      <td>6.000000</td>\n",
       "    </tr>\n",
       "    <tr>\n",
       "      <th>mean</th>\n",
       "      <td>0.067932</td>\n",
       "      <td>0.172688</td>\n",
       "      <td>1.028288</td>\n",
       "    </tr>\n",
       "    <tr>\n",
       "      <th>std</th>\n",
       "      <td>1.123268</td>\n",
       "      <td>0.919669</td>\n",
       "      <td>0.505989</td>\n",
       "    </tr>\n",
       "    <tr>\n",
       "      <th>min</th>\n",
       "      <td>-1.286440</td>\n",
       "      <td>-1.107862</td>\n",
       "      <td>0.462049</td>\n",
       "    </tr>\n",
       "    <tr>\n",
       "      <th>25%</th>\n",
       "      <td>-0.824631</td>\n",
       "      <td>-0.293505</td>\n",
       "      <td>0.583488</td>\n",
       "    </tr>\n",
       "    <tr>\n",
       "      <th>50%</th>\n",
       "      <td>0.118617</td>\n",
       "      <td>0.085646</td>\n",
       "      <td>1.027985</td>\n",
       "    </tr>\n",
       "    <tr>\n",
       "      <th>75%</th>\n",
       "      <td>0.797876</td>\n",
       "      <td>0.676226</td>\n",
       "      <td>1.490330</td>\n",
       "    </tr>\n",
       "    <tr>\n",
       "      <th>max</th>\n",
       "      <td>1.571553</td>\n",
       "      <td>1.519501</td>\n",
       "      <td>1.571945</td>\n",
       "    </tr>\n",
       "  </tbody>\n",
       "</table>\n",
       "</div>"
      ],
      "text/plain": [
       "              0         1         2\n",
       "count  6.000000  6.000000  6.000000\n",
       "mean   0.067932  0.172688  1.028288\n",
       "std    1.123268  0.919669  0.505989\n",
       "min   -1.286440 -1.107862  0.462049\n",
       "25%   -0.824631 -0.293505  0.583488\n",
       "50%    0.118617  0.085646  1.027985\n",
       "75%    0.797876  0.676226  1.490330\n",
       "max    1.571553  1.519501  1.571945"
      ]
     },
     "execution_count": 8,
     "metadata": {},
     "output_type": "execute_result"
    }
   ],
   "source": [
    "df2.describe()"
   ]
  },
  {
   "cell_type": "markdown",
   "id": "5d1f2a90",
   "metadata": {},
   "source": [
    "For non-numeric data, `describe` generates alternative summary statistics:"
   ]
  },
  {
   "cell_type": "code",
   "execution_count": 9,
   "id": "4277fda3",
   "metadata": {},
   "outputs": [
    {
     "data": {
      "text/html": [
       "<div>\n",
       "<style scoped>\n",
       "    .dataframe tbody tr th:only-of-type {\n",
       "        vertical-align: middle;\n",
       "    }\n",
       "\n",
       "    .dataframe tbody tr th {\n",
       "        vertical-align: top;\n",
       "    }\n",
       "\n",
       "    .dataframe thead th {\n",
       "        text-align: right;\n",
       "    }\n",
       "</style>\n",
       "<table border=\"1\" class=\"dataframe\">\n",
       "  <thead>\n",
       "    <tr style=\"text-align: right;\">\n",
       "      <th></th>\n",
       "      <th>Code</th>\n",
       "      <th>Octal</th>\n",
       "    </tr>\n",
       "  </thead>\n",
       "  <tbody>\n",
       "    <tr>\n",
       "      <th>count</th>\n",
       "      <td>6</td>\n",
       "      <td>6</td>\n",
       "    </tr>\n",
       "    <tr>\n",
       "      <th>unique</th>\n",
       "      <td>6</td>\n",
       "      <td>5</td>\n",
       "    </tr>\n",
       "    <tr>\n",
       "      <th>top</th>\n",
       "      <td>U+0000</td>\n",
       "      <td>004</td>\n",
       "    </tr>\n",
       "    <tr>\n",
       "      <th>freq</th>\n",
       "      <td>1</td>\n",
       "      <td>2</td>\n",
       "    </tr>\n",
       "  </tbody>\n",
       "</table>\n",
       "</div>"
      ],
      "text/plain": [
       "          Code Octal\n",
       "count        6     6\n",
       "unique       6     5\n",
       "top     U+0000   004\n",
       "freq         1     2"
      ]
     },
     "execution_count": 9,
     "metadata": {},
     "output_type": "execute_result"
    }
   ],
   "source": [
    "data = {'Code': ['U+0000', 'U+0001', 'U+0002', 'U+0003', 'U+0004', 'U+0005'],\n",
    "        'Octal': ['001', '002', '003', '004', '004', '005']}\n",
    "df3 = pd.DataFrame(data)\n",
    "\n",
    "df3.describe()"
   ]
  },
  {
   "cell_type": "markdown",
   "id": "ce69eb28",
   "metadata": {},
   "source": [
    "Descriptive and summary statistics:\n",
    "\n",
    "Method | Description\n",
    ":----- | :----------\n",
    "`count` | number of non-NA values\n",
    "`describe` | calculation of a set of summary statistics for series or each DataFrame column\n",
    "`min`, `max` | calculation of minimum and maximum values\n",
    "`argmin`, `argmax` | calculation of the index points (integers) at which the minimum or maximum value was reached\n",
    "`idxmin`, `idxmax` | calculation of the index labels at which the minimum or maximum values were reached\n",
    "`quantile` | calculation of the sample quantile in the range from 0 to 1\n",
    "`sum` | sum of the values\n",
    "`mean` | arithmetic mean of the values\n",
    "`median` | arithmetic median (50% quantile) of the values\n",
    "`mad` | mean absolute deviation from the mean value\n",
    "`prod` | product of all values\n",
    "`var` | sample variance of the values\n",
    "`std` | sample standard deviation of the values\n",
    "`skew` | sample skewness (third moment) of the values\n",
    "`kurt` | sample kurtosis (fourth moment) of the values\n",
    "`cumsum` | cumulative sum of the values\n",
    "`cummin`, `cummax` | cumulated minimum and maximum of the values respectively\n",
    "`cumprod` | cumulated product of the values\n",
    "`diff` | calculation of the first arithmetic difference (useful for time series)\n",
    "`pct_change` | calculation of the percentage changes"
   ]
  },
  {
   "cell_type": "markdown",
   "id": "317bdb46",
   "metadata": {},
   "source": [
    "## `pandas_profiling`\n",
    "\n",
    "[pandas-profiling](https://pandas-profiling.ydata.ai/docs/master/index.html) generates profile reports from a pandas DataFrame. The pandas `df.describe()` function is handy, but a bit basic for exploratory data analysis. pandas-profiling extends pandas DataFrame with `df.profile_report()`, which automatically generates a standardised report for understanding the data."
   ]
  },
  {
   "cell_type": "markdown",
   "id": "5cde7e28",
   "metadata": {},
   "source": [
    "### Installation\n",
    "\n",
    "```bash\n",
    "$ pipenv install pandas_profiling[notebook]\n",
    "…\n",
    "✔ Success!\n",
    "Updated Pipfile.lock (cbc5f7)!\n",
    "Installing dependencies from Pipfile.lock (cbc5f7)...\n",
    "  🐍   ▉▉▉▉▉▉▉▉▉▉▉▉▉▉▉▉▉▉▉▉▉▉▉▉▉▉▉▉▉▉▉▉ 80/80 — 00:02:26\n",
    "…\n",
    "$ pipenv run jupyter nbextension enable --py widgetsnbextension\n",
    "Enabling notebook extension jupyter-js-widgets/extension...\n",
    "      - Validating: OK\n",
    "```"
   ]
  },
  {
   "cell_type": "markdown",
   "id": "9da36ef5",
   "metadata": {},
   "source": [
    "### Example"
   ]
  },
  {
   "cell_type": "code",
   "execution_count": 10,
   "id": "f91a24de",
   "metadata": {},
   "outputs": [
    {
     "data": {
      "application/vnd.jupyter.widget-view+json": {
       "model_id": "3fdc140343b04ae88b08bdbd4c0f390f",
       "version_major": 2,
       "version_minor": 0
      },
      "text/plain": [
       "Summarize dataset:   0%|          | 0/5 [00:00<?, ?it/s]"
      ]
     },
     "metadata": {},
     "output_type": "display_data"
    },
    {
     "data": {
      "application/vnd.jupyter.widget-view+json": {
       "model_id": "ab9b8dbf699144a888480de8ed52cf51",
       "version_major": 2,
       "version_minor": 0
      },
      "text/plain": [
       "Generate report structure:   0%|          | 0/1 [00:00<?, ?it/s]"
      ]
     },
     "metadata": {},
     "output_type": "display_data"
    },
    {
     "data": {
      "application/vnd.jupyter.widget-view+json": {
       "model_id": "",
       "version_major": 2,
       "version_minor": 0
      },
      "text/plain": [
       "Render widgets:   0%|          | 0/1 [00:00<?, ?it/s]"
      ]
     },
     "metadata": {},
     "output_type": "display_data"
    },
    {
     "data": {
      "application/vnd.jupyter.widget-view+json": {
       "model_id": "8165997138d34569a5f9d0035fe7d928",
       "version_major": 2,
       "version_minor": 0
      },
      "text/plain": [
       "VBox(children=(Tab(children=(Tab(children=(GridBox(children=(VBox(children=(GridspecLayout(children=(HTML(valu…"
      ]
     },
     "metadata": {},
     "output_type": "display_data"
    }
   ],
   "source": [
    "from pandas_profiling import ProfileReport\n",
    "\n",
    "profile = ProfileReport(df2, title=\"Pandas Profiling Report\")\n",
    "\n",
    "profile.to_widgets()"
   ]
  }
 ],
 "metadata": {
  "kernelspec": {
   "display_name": "Python 3.8",
   "language": "python",
   "name": "python-38"
  },
  "language_info": {
   "codemirror_mode": {
    "name": "ipython",
    "version": 3
   },
   "file_extension": ".py",
   "mimetype": "text/x-python",
   "name": "python",
   "nbconvert_exporter": "python",
   "pygments_lexer": "ipython3",
   "version": "3.8.12"
  },
  "widgets": {
   "application/vnd.jupyter.widget-state+json": {
    "state": {
     "001fb204f5c4466f965af16664e4c3cc": {
      "model_module": "@jupyter-widgets/controls",
      "model_module_version": "1.5.0",
      "model_name": "DescriptionStyleModel",
      "state": {
       "description_width": ""
      }
     },
     "004b6a429e714c219b0482e0afe69fd6": {
      "model_module": "@jupyter-widgets/controls",
      "model_module_version": "1.5.0",
      "model_name": "HTMLModel",
      "state": {
       "layout": "IPY_MODEL_223618587c26411cb3e4b2f55ba09f19",
       "style": "IPY_MODEL_4083af3c27ae4b0fa19e4079801307e7",
       "value": "Zeros (%)"
      }
     },
     "00501fe4c41f48d4a2c7dcdd45f69288": {
      "model_module": "@jupyter-widgets/controls",
      "model_module_version": "1.5.0",
      "model_name": "DescriptionStyleModel",
      "state": {
       "description_width": ""
      }
     },
     "0054d5d5636f44c5a5413520ee534725": {
      "model_module": "@jupyter-widgets/controls",
      "model_module_version": "1.5.0",
      "model_name": "DescriptionStyleModel",
      "state": {
       "description_width": ""
      }
     },
     "0060c06b6cf5434e8e96996476eb765d": {
      "model_module": "@jupyter-widgets/controls",
      "model_module_version": "1.5.0",
      "model_name": "HTMLModel",
      "state": {
       "layout": "IPY_MODEL_fa00d4b64f9143759e70d2b05fc77d72",
       "style": "IPY_MODEL_a1cd0aad32744155a49db1cb7caf5c1e",
       "value": "Sum"
      }
     },
     "00d11a953bb84cf39abd5f97d2f9d0c1": {
      "model_module": "@jupyter-widgets/controls",
      "model_module_version": "1.5.0",
      "model_name": "HTMLModel",
      "state": {
       "layout": "IPY_MODEL_4be9870cc70545959133ef2b64c09e67",
       "style": "IPY_MODEL_a51ad1c1829442faaa194a0fbc5c45be",
       "value": "1.571944733"
      }
     },
     "00edc6fc7d884574a91da68cc1b33c04": {
      "model_module": "@jupyter-widgets/controls",
      "model_module_version": "1.5.0",
      "model_name": "DescriptionStyleModel",
      "state": {
       "description_width": ""
      }
     },
     "00f3a17ccc4f4a54a4bdb606c3d50e11": {
      "model_module": "@jupyter-widgets/controls",
      "model_module_version": "1.5.0",
      "model_name": "GridBoxModel",
      "state": {
       "children": [
        "IPY_MODEL_589efdaf65d94b66a6f919e6c5158128",
        "IPY_MODEL_d1fab931f6a54e41be799f41411e6ceb",
        "IPY_MODEL_b0ef52b064dd4dbf85a8fa59e54902a4",
        "IPY_MODEL_3e8cf841e54244f49cb8652144344da7",
        "IPY_MODEL_5dc2665ead074c2ea767bf5f501e5f15",
        "IPY_MODEL_925a2d6eda454ca8ad0749df3fbd0260",
        "IPY_MODEL_7ac6e0770e6b4c4b8e5c1037af90ca29",
        "IPY_MODEL_94ecd3db00ff446c92d744154a2b99d2",
        "IPY_MODEL_31eb3e9c7ca24204bcaea17f5b2664c2",
        "IPY_MODEL_d138d66d464440feae9aa02c6eaabfc1",
        "IPY_MODEL_1532b428368b4ee38042e9ac7820494a",
        "IPY_MODEL_08da6bc6d14d43e8acb6fef5c16311c3",
        "IPY_MODEL_ed1e20dc81aa4c93bb682454beae8de8",
        "IPY_MODEL_4dacd42d190a4d558150149612846873",
        "IPY_MODEL_21fbb27e406e456fb2f0ff184cdfcd15",
        "IPY_MODEL_487d5cb75cf34b02a6553a592e4dfd97",
        "IPY_MODEL_1d321fb6d5d9406282601ed83ea5455a",
        "IPY_MODEL_241c5f6305ad4c1dbbeed55889ae76b3",
        "IPY_MODEL_48bc6e3397a74a4bb53a75d736536468",
        "IPY_MODEL_87a5832f711b4f4c89ffa5466e4647a8",
        "IPY_MODEL_c2233e3d7b1b4bb79eb8a07a5a215556"
       ],
       "layout": "IPY_MODEL_98626ce85cfa4f92be5087379e2558e2"
      }
     },
     "013415c42f234cafbc934b612694ec07": {
      "model_module": "@jupyter-widgets/controls",
      "model_module_version": "1.5.0",
      "model_name": "ProgressStyleModel",
      "state": {
       "description_width": ""
      }
     },
     "013ff648eb5c44d092a20cd6df10da43": {
      "model_module": "@jupyter-widgets/controls",
      "model_module_version": "1.5.0",
      "model_name": "DescriptionStyleModel",
      "state": {
       "description_width": ""
      }
     },
     "016ffe7625b143efbb933342530bfffa": {
      "model_module": "@jupyter-widgets/base",
      "model_module_version": "1.2.0",
      "model_name": "LayoutModel",
      "state": {}
     },
     "018cce7eba864b0e8f5b40722cbf5558": {
      "model_module": "@jupyter-widgets/controls",
      "model_module_version": "1.5.0",
      "model_name": "VBoxModel",
      "state": {
       "children": [
        "IPY_MODEL_29fc2c2b8f1f429181dbc6706470f34c"
       ],
       "layout": "IPY_MODEL_8db3ebbe20734162a0ad2507ac269bf8"
      }
     },
     "019654402b774364a3d4d418ff2651aa": {
      "model_module": "@jupyter-widgets/base",
      "model_module_version": "1.2.0",
      "model_name": "LayoutModel",
      "state": {
       "grid_area": "widget016"
      }
     },
     "019b003920724921bdc2a7f18c3549b2": {
      "model_module": "@jupyter-widgets/base",
      "model_module_version": "1.2.0",
      "model_name": "LayoutModel",
      "state": {
       "grid_area": "widget002"
      }
     },
     "01a87389d4784d2f8a784ad6a3ce6a01": {
      "model_module": "@jupyter-widgets/controls",
      "model_module_version": "1.5.0",
      "model_name": "DescriptionStyleModel",
      "state": {
       "description_width": ""
      }
     },
     "01fe903afd004ba786f1099d7c69d5f3": {
      "model_module": "@jupyter-widgets/controls",
      "model_module_version": "1.5.0",
      "model_name": "DescriptionStyleModel",
      "state": {
       "description_width": ""
      }
     },
     "02713963d3bd48b4b2c2fc37f6b86cce": {
      "model_module": "@jupyter-widgets/controls",
      "model_module_version": "1.5.0",
      "model_name": "HTMLModel",
      "state": {
       "layout": "IPY_MODEL_644e9678f5b14ba084cb767f4c88df6f",
       "style": "IPY_MODEL_30d39a4e80b14c1dadc5a8fc5ef6d5ea",
       "value": "Maximum"
      }
     },
     "027f1b9105174d128e46bf5e4f95ef57": {
      "model_module": "@jupyter-widgets/controls",
      "model_module_version": "1.5.0",
      "model_name": "HTMLModel",
      "state": {
       "layout": "IPY_MODEL_ef18e4c093234ac9bc434934ee9a59dc",
       "style": "IPY_MODEL_6e66727bc409456698a540ea2d76d0af",
       "value": "5-th percentile"
      }
     },
     "028fdaf6607b4396a5feaeccb3ec7f99": {
      "model_module": "@jupyter-widgets/controls",
      "model_module_version": "1.5.0",
      "model_name": "FloatProgressModel",
      "state": {
       "layout": "IPY_MODEL_b75e02e427c0444c9ad88c10ee74f583",
       "max": 7,
       "style": "IPY_MODEL_0bcb0d1bf6c847348f61d05b18eacd07",
       "value": 1
      }
     },
     "02aff68966bc47aca890eb7c42395580": {
      "model_module": "@jupyter-widgets/base",
      "model_module_version": "1.2.0",
      "model_name": "LayoutModel",
      "state": {
       "grid_area": "widget005"
      }
     },
     "02e946563a2340918d583bc80431fc46": {
      "model_module": "@jupyter-widgets/base",
      "model_module_version": "1.2.0",
      "model_name": "LayoutModel",
      "state": {
       "grid_area": "widget009"
      }
     },
     "030532021d864983bd17c3fd0e727574": {
      "model_module": "@jupyter-widgets/base",
      "model_module_version": "1.2.0",
      "model_name": "LayoutModel",
      "state": {
       "grid_area": "widget006"
      }
     },
     "0314f7e7164548ae8ee6c2dd9355bb6b": {
      "model_module": "@jupyter-widgets/controls",
      "model_module_version": "1.5.0",
      "model_name": "HTMLModel",
      "state": {
       "layout": "IPY_MODEL_39459e8acca048e69eaf38e6487067b5",
       "style": "IPY_MODEL_3a430bc38e9b427893b9f26696a079c0",
       "value": "<h4>First rows</h4>"
      }
     },
     "032945f5f1184eb8bf5e970762f9cf52": {
      "model_module": "@jupyter-widgets/base",
      "model_module_version": "1.2.0",
      "model_name": "LayoutModel",
      "state": {}
     },
     "036e02a1f3a44d14b463cabfe25fe55e": {
      "model_module": "@jupyter-widgets/controls",
      "model_module_version": "1.5.0",
      "model_name": "DescriptionStyleModel",
      "state": {
       "description_width": ""
      }
     },
     "036ef1daf6c64799b6997a77c5de1e1d": {
      "model_module": "@jupyter-widgets/controls",
      "model_module_version": "1.5.0",
      "model_name": "FloatProgressModel",
      "state": {
       "layout": "IPY_MODEL_ba07b3b63246496ea87d75ff3ebd1ddb",
       "max": 7,
       "style": "IPY_MODEL_f9698792b90d4ea7a54289789760e095",
       "value": 1
      }
     },
     "0394dcc36598479e85b21c2070897b45": {
      "model_module": "@jupyter-widgets/controls",
      "model_module_version": "1.5.0",
      "model_name": "DescriptionStyleModel",
      "state": {
       "description_width": ""
      }
     },
     "03efafed81344840a1692e8aac77d25f": {
      "model_module": "@jupyter-widgets/controls",
      "model_module_version": "1.5.0",
      "model_name": "HTMLModel",
      "state": {
       "layout": "IPY_MODEL_e3a963d678744c9c96af6d1c8cddbae4",
       "style": "IPY_MODEL_58da3a038f234cb88b55c3727ae19b6d",
       "value": "Interquartile range (IQR)"
      }
     },
     "04998a64cceb4fe1af8361e79719f5ba": {
      "model_module": "@jupyter-widgets/controls",
      "model_module_version": "1.5.0",
      "model_name": "HTMLModel",
      "state": {
       "layout": "IPY_MODEL_24d9b01a251240c28a1921ab2befe7e0",
       "style": "IPY_MODEL_0edf43fe9c3c47fa9980e02cb5ae4630",
       "value": "<a class=\"anchor\" href=\"#pp_var_-639204677666888740\"><code>0</code></a> has 1 (14.3%) missing values"
      }
     },
     "04cffcbf05774a83a5722a57625fd75f": {
      "model_module": "@jupyter-widgets/controls",
      "model_module_version": "1.5.0",
      "model_name": "DescriptionStyleModel",
      "state": {
       "description_width": ""
      }
     },
     "04e769934c7a4f0e820d8008bb8e38b4": {
      "model_module": "@jupyter-widgets/base",
      "model_module_version": "1.2.0",
      "model_name": "LayoutModel",
      "state": {
       "grid_area": "widget002"
      }
     },
     "0525d0caa477448ab641a74edeba73f9": {
      "model_module": "@jupyter-widgets/controls",
      "model_module_version": "1.5.0",
      "model_name": "DescriptionStyleModel",
      "state": {
       "description_width": ""
      }
     },
     "052c6e30cf814c2199bb91c47060bbfd": {
      "model_module": "@jupyter-widgets/controls",
      "model_module_version": "1.5.0",
      "model_name": "HTMLModel",
      "state": {
       "layout": "IPY_MODEL_507efcfa9baf4a369fd5e2a7da3eaa58",
       "style": "IPY_MODEL_4fdee4efba364fe49663316364b046b1",
       "value": "Maximum"
      }
     },
     "05af801293c845cd9d43934ce28edd6a": {
      "model_module": "@jupyter-widgets/base",
      "model_module_version": "1.2.0",
      "model_name": "LayoutModel",
      "state": {}
     },
     "05b7d81285f541dcaa99367785fa4039": {
      "model_module": "@jupyter-widgets/controls",
      "model_module_version": "1.5.0",
      "model_name": "DescriptionStyleModel",
      "state": {
       "description_width": ""
      }
     },
     "0659d6ace5914040954184bd3daaf1b5": {
      "model_module": "@jupyter-widgets/controls",
      "model_module_version": "1.5.0",
      "model_name": "DescriptionStyleModel",
      "state": {
       "description_width": ""
      }
     },
     "069379227e0347eb979f596fbedc8ef2": {
      "model_module": "@jupyter-widgets/controls",
      "model_module_version": "1.5.0",
      "model_name": "HTMLModel",
      "state": {
       "layout": "IPY_MODEL_784c6401b843487fa0d35b66e23422c0",
       "style": "IPY_MODEL_951ea5cfb25c401d91fab893695b70dd",
       "value": "Distinct (%)"
      }
     },
     "06d22f97ec3a4a0bb2ec45bca84add20": {
      "model_module": "@jupyter-widgets/base",
      "model_module_version": "1.2.0",
      "model_name": "LayoutModel",
      "state": {
       "grid_area": "widget011"
      }
     },
     "06ddbd19e2584a20926143d65ef23b68": {
      "model_module": "@jupyter-widgets/controls",
      "model_module_version": "1.5.0",
      "model_name": "DescriptionStyleModel",
      "state": {
       "description_width": ""
      }
     },
     "070280e265d24fa3b58b8caf63f87356": {
      "model_module": "@jupyter-widgets/base",
      "model_module_version": "1.2.0",
      "model_name": "LayoutModel",
      "state": {
       "grid_area": "widget002"
      }
     },
     "0736d94b09e14a769f2a7c6fad77fc1c": {
      "model_module": "@jupyter-widgets/controls",
      "model_module_version": "1.5.0",
      "model_name": "ButtonStyleModel",
      "state": {}
     },
     "0742af819f674a7eab07997e728ca616": {
      "model_module": "@jupyter-widgets/controls",
      "model_module_version": "1.5.0",
      "model_name": "DescriptionStyleModel",
      "state": {
       "description_width": ""
      }
     },
     "079a5f9a94324225a66d3ac402f8c2c3": {
      "model_module": "@jupyter-widgets/controls",
      "model_module_version": "1.5.0",
      "model_name": "DescriptionStyleModel",
      "state": {
       "description_width": ""
      }
     },
     "07a64ea599234a2b9ab31006ba176994": {
      "model_module": "@jupyter-widgets/controls",
      "model_module_version": "1.5.0",
      "model_name": "DescriptionStyleModel",
      "state": {
       "description_width": ""
      }
     },
     "07b57ae0853d49b4bc1d653ac797494d": {
      "model_module": "@jupyter-widgets/controls",
      "model_module_version": "1.5.0",
      "model_name": "HTMLModel",
      "state": {
       "layout": "IPY_MODEL_eac7332c60ca4c7c841e064aca109e3c",
       "style": "IPY_MODEL_e32511673cf5471fa597b61a26615079",
       "value": "<?xml version=\"1.0\" encoding=\"utf-8\" standalone=\"no\"?>\n<!DOCTYPE svg style=\"max-width: 100%\" PUBLIC \"-//W3C//DTD SVG 1.1//EN\"\n  \"http://www.w3.org/Graphics/SVG/1.1/DTD/svg11.dtd\">\n<svg style=\"max-width: 100%\"  version=\"1.1\" viewBox=\"0 0 216 162\" width=\"216pt\" xmlns=\"http://www.w3.org/2000/svg\" xmlns:xlink=\"http://www.w3.org/1999/xlink\">\n <metadata>\n  <rdf:RDF xmlns:cc=\"http://creativecommons.org/ns#\" xmlns:dc=\"http://purl.org/dc/elements/1.1/\" xmlns:rdf=\"http://www.w3.org/1999/02/22-rdf-syntax-ns#\">\n   <cc:Work>\n    <dc:type rdf:resource=\"http://purl.org/dc/dcmitype/StillImage\"/>\n    <dc:date>2022-10-01T17:17:58.366593</dc:date>\n    <dc:format>image/svg+xml</dc:format>\n    <dc:creator>\n     <cc:Agent>\n      <dc:title>Matplotlib v3.4.3, https://matplotlib.org/</dc:title>\n     </cc:Agent>\n    </dc:creator>\n   </cc:Work>\n  </rdf:RDF>\n </metadata>\n <defs>\n  <style type=\"text/css\">*{stroke-linecap:butt;stroke-linejoin:round;}</style>\n </defs>\n <g id=\"figure_1\">\n  <g id=\"patch_1\">\n   <path d=\"M 0 162 \nL 216 162 \nL 216 0 \nL 0 0 \nz\n\" style=\"fill:#ffffff;\"/>\n  </g>\n  <g id=\"axes_1\">\n   <g id=\"patch_2\">\n    <path d=\"M 10.8 76.325 \nL 205.2 76.325 \nL 205.2 10.8 \nL 10.8 10.8 \nz\n\" style=\"fill:#ffffff;\"/>\n   </g>\n   <g id=\"matplotlib.axis_1\">\n    <g id=\"xtick_1\">\n     <g id=\"text_1\">\n      <!-- 2022-02-03 15:53:20 -->\n      <g style=\"fill:#262626;\" transform=\"translate(39.564716 150.54875)rotate(-90)scale(0.06 -0.06)\">\n       <defs>\n        <path d=\"M 1228 531 \nL 3431 531 \nL 3431 0 \nL 469 0 \nL 469 531 \nQ 828 903 1448 1529 \nQ 2069 2156 2228 2338 \nQ 2531 2678 2651 2914 \nQ 2772 3150 2772 3378 \nQ 2772 3750 2511 3984 \nQ 2250 4219 1831 4219 \nQ 1534 4219 1204 4116 \nQ 875 4013 500 3803 \nL 500 4441 \nQ 881 4594 1212 4672 \nQ 1544 4750 1819 4750 \nQ 2544 4750 2975 4387 \nQ 3406 4025 3406 3419 \nQ 3406 3131 3298 2873 \nQ 3191 2616 2906 2266 \nQ 2828 2175 2409 1742 \nQ 1991 1309 1228 531 \nz\n\" id=\"DejaVuSans-32\" transform=\"scale(0.015625)\"/>\n        <path d=\"M 2034 4250 \nQ 1547 4250 1301 3770 \nQ 1056 3291 1056 2328 \nQ 1056 1369 1301 889 \nQ 1547 409 2034 409 \nQ 2525 409 2770 889 \nQ 3016 1369 3016 2328 \nQ 3016 3291 2770 3770 \nQ 2525 4250 2034 4250 \nz\nM 2034 4750 \nQ 2819 4750 3233 4129 \nQ 3647 3509 3647 2328 \nQ 3647 1150 3233 529 \nQ 2819 -91 2034 -91 \nQ 1250 -91 836 529 \nQ 422 1150 422 2328 \nQ 422 3509 836 4129 \nQ 1250 4750 2034 4750 \nz\n\" id=\"DejaVuSans-30\" transform=\"scale(0.015625)\"/>\n        <path d=\"M 313 2009 \nL 1997 2009 \nL 1997 1497 \nL 313 1497 \nL 313 2009 \nz\n\" id=\"DejaVuSans-2d\" transform=\"scale(0.015625)\"/>\n        <path d=\"M 2597 2516 \nQ 3050 2419 3304 2112 \nQ 3559 1806 3559 1356 \nQ 3559 666 3084 287 \nQ 2609 -91 1734 -91 \nQ 1441 -91 1130 -33 \nQ 819 25 488 141 \nL 488 750 \nQ 750 597 1062 519 \nQ 1375 441 1716 441 \nQ 2309 441 2620 675 \nQ 2931 909 2931 1356 \nQ 2931 1769 2642 2001 \nQ 2353 2234 1838 2234 \nL 1294 2234 \nL 1294 2753 \nL 1863 2753 \nQ 2328 2753 2575 2939 \nQ 2822 3125 2822 3475 \nQ 2822 3834 2567 4026 \nQ 2313 4219 1838 4219 \nQ 1578 4219 1281 4162 \nQ 984 4106 628 3988 \nL 628 4550 \nQ 988 4650 1302 4700 \nQ 1616 4750 1894 4750 \nQ 2613 4750 3031 4423 \nQ 3450 4097 3450 3541 \nQ 3450 3153 3228 2886 \nQ 3006 2619 2597 2516 \nz\n\" id=\"DejaVuSans-33\" transform=\"scale(0.015625)\"/>\n        <path id=\"DejaVuSans-20\" transform=\"scale(0.015625)\"/>\n        <path d=\"M 794 531 \nL 1825 531 \nL 1825 4091 \nL 703 3866 \nL 703 4441 \nL 1819 4666 \nL 2450 4666 \nL 2450 531 \nL 3481 531 \nL 3481 0 \nL 794 0 \nL 794 531 \nz\n\" id=\"DejaVuSans-31\" transform=\"scale(0.015625)\"/>\n        <path d=\"M 691 4666 \nL 3169 4666 \nL 3169 4134 \nL 1269 4134 \nL 1269 2991 \nQ 1406 3038 1543 3061 \nQ 1681 3084 1819 3084 \nQ 2600 3084 3056 2656 \nQ 3513 2228 3513 1497 \nQ 3513 744 3044 326 \nQ 2575 -91 1722 -91 \nQ 1428 -91 1123 -41 \nQ 819 9 494 109 \nL 494 744 \nQ 775 591 1075 516 \nQ 1375 441 1709 441 \nQ 2250 441 2565 725 \nQ 2881 1009 2881 1497 \nQ 2881 1984 2565 2268 \nQ 2250 2553 1709 2553 \nQ 1456 2553 1204 2497 \nQ 953 2441 691 2322 \nL 691 4666 \nz\n\" id=\"DejaVuSans-35\" transform=\"scale(0.015625)\"/>\n        <path d=\"M 750 794 \nL 1409 794 \nL 1409 0 \nL 750 0 \nL 750 794 \nz\nM 750 3309 \nL 1409 3309 \nL 1409 2516 \nL 750 2516 \nL 750 3309 \nz\n\" id=\"DejaVuSans-3a\" transform=\"scale(0.015625)\"/>\n       </defs>\n       <use xlink:href=\"#DejaVuSans-32\"/>\n       <use x=\"63.623047\" xlink:href=\"#DejaVuSans-30\"/>\n       <use x=\"127.246094\" xlink:href=\"#DejaVuSans-32\"/>\n       <use x=\"190.869141\" xlink:href=\"#DejaVuSans-32\"/>\n       <use x=\"254.492188\" xlink:href=\"#DejaVuSans-2d\"/>\n       <use x=\"290.576172\" xlink:href=\"#DejaVuSans-30\"/>\n       <use x=\"354.199219\" xlink:href=\"#DejaVuSans-32\"/>\n       <use x=\"417.822266\" xlink:href=\"#DejaVuSans-2d\"/>\n       <use x=\"453.90625\" xlink:href=\"#DejaVuSans-30\"/>\n       <use x=\"517.529297\" xlink:href=\"#DejaVuSans-33\"/>\n       <use x=\"581.152344\" xlink:href=\"#DejaVuSans-20\"/>\n       <use x=\"612.939453\" xlink:href=\"#DejaVuSans-31\"/>\n       <use x=\"676.5625\" xlink:href=\"#DejaVuSans-35\"/>\n       <use x=\"740.185547\" xlink:href=\"#DejaVuSans-3a\"/>\n       <use x=\"773.876953\" xlink:href=\"#DejaVuSans-35\"/>\n       <use x=\"837.5\" xlink:href=\"#DejaVuSans-33\"/>\n       <use x=\"901.123047\" xlink:href=\"#DejaVuSans-3a\"/>\n       <use x=\"934.814453\" xlink:href=\"#DejaVuSans-32\"/>\n       <use x=\"998.4375\" xlink:href=\"#DejaVuSans-30\"/>\n      </g>\n     </g>\n    </g>\n    <g id=\"xtick_2\">\n     <g id=\"text_2\">\n      <!-- 2022-02-04 19:40:00 -->\n      <g style=\"fill:#262626;\" transform=\"translate(73.655625 150.54875)rotate(-90)scale(0.06 -0.06)\">\n       <defs>\n        <path d=\"M 2419 4116 \nL 825 1625 \nL 2419 1625 \nL 2419 4116 \nz\nM 2253 4666 \nL 3047 4666 \nL 3047 1625 \nL 3713 1625 \nL 3713 1100 \nL 3047 1100 \nL 3047 0 \nL 2419 0 \nL 2419 1100 \nL 313 1100 \nL 313 1709 \nL 2253 4666 \nz\n\" id=\"DejaVuSans-34\" transform=\"scale(0.015625)\"/>\n        <path d=\"M 703 97 \nL 703 672 \nQ 941 559 1184 500 \nQ 1428 441 1663 441 \nQ 2288 441 2617 861 \nQ 2947 1281 2994 2138 \nQ 2813 1869 2534 1725 \nQ 2256 1581 1919 1581 \nQ 1219 1581 811 2004 \nQ 403 2428 403 3163 \nQ 403 3881 828 4315 \nQ 1253 4750 1959 4750 \nQ 2769 4750 3195 4129 \nQ 3622 3509 3622 2328 \nQ 3622 1225 3098 567 \nQ 2575 -91 1691 -91 \nQ 1453 -91 1209 -44 \nQ 966 3 703 97 \nz\nM 1959 2075 \nQ 2384 2075 2632 2365 \nQ 2881 2656 2881 3163 \nQ 2881 3666 2632 3958 \nQ 2384 4250 1959 4250 \nQ 1534 4250 1286 3958 \nQ 1038 3666 1038 3163 \nQ 1038 2656 1286 2365 \nQ 1534 2075 1959 2075 \nz\n\" id=\"DejaVuSans-39\" transform=\"scale(0.015625)\"/>\n       </defs>\n       <use xlink:href=\"#DejaVuSans-32\"/>\n       <use x=\"63.623047\" xlink:href=\"#DejaVuSans-30\"/>\n       <use x=\"127.246094\" xlink:href=\"#DejaVuSans-32\"/>\n       <use x=\"190.869141\" xlink:href=\"#DejaVuSans-32\"/>\n       <use x=\"254.492188\" xlink:href=\"#DejaVuSans-2d\"/>\n       <use x=\"290.576172\" xlink:href=\"#DejaVuSans-30\"/>\n       <use x=\"354.199219\" xlink:href=\"#DejaVuSans-32\"/>\n       <use x=\"417.822266\" xlink:href=\"#DejaVuSans-2d\"/>\n       <use x=\"453.90625\" xlink:href=\"#DejaVuSans-30\"/>\n       <use x=\"517.529297\" xlink:href=\"#DejaVuSans-34\"/>\n       <use x=\"581.152344\" xlink:href=\"#DejaVuSans-20\"/>\n       <use x=\"612.939453\" xlink:href=\"#DejaVuSans-31\"/>\n       <use x=\"676.5625\" xlink:href=\"#DejaVuSans-39\"/>\n       <use x=\"740.185547\" xlink:href=\"#DejaVuSans-3a\"/>\n       <use x=\"773.876953\" xlink:href=\"#DejaVuSans-34\"/>\n       <use x=\"837.5\" xlink:href=\"#DejaVuSans-30\"/>\n       <use x=\"901.123047\" xlink:href=\"#DejaVuSans-3a\"/>\n       <use x=\"934.814453\" xlink:href=\"#DejaVuSans-30\"/>\n       <use x=\"998.4375\" xlink:href=\"#DejaVuSans-30\"/>\n      </g>\n     </g>\n    </g>\n    <g id=\"xtick_3\">\n     <g id=\"text_3\">\n      <!-- 2022-02-05 23:26:40 -->\n      <g style=\"fill:#262626;\" transform=\"translate(107.746534 150.54875)rotate(-90)scale(0.06 -0.06)\">\n       <defs>\n        <path d=\"M 2113 2584 \nQ 1688 2584 1439 2293 \nQ 1191 2003 1191 1497 \nQ 1191 994 1439 701 \nQ 1688 409 2113 409 \nQ 2538 409 2786 701 \nQ 3034 994 3034 1497 \nQ 3034 2003 2786 2293 \nQ 2538 2584 2113 2584 \nz\nM 3366 4563 \nL 3366 3988 \nQ 3128 4100 2886 4159 \nQ 2644 4219 2406 4219 \nQ 1781 4219 1451 3797 \nQ 1122 3375 1075 2522 \nQ 1259 2794 1537 2939 \nQ 1816 3084 2150 3084 \nQ 2853 3084 3261 2657 \nQ 3669 2231 3669 1497 \nQ 3669 778 3244 343 \nQ 2819 -91 2113 -91 \nQ 1303 -91 875 529 \nQ 447 1150 447 2328 \nQ 447 3434 972 4092 \nQ 1497 4750 2381 4750 \nQ 2619 4750 2861 4703 \nQ 3103 4656 3366 4563 \nz\n\" id=\"DejaVuSans-36\" transform=\"scale(0.015625)\"/>\n       </defs>\n       <use xlink:href=\"#DejaVuSans-32\"/>\n       <use x=\"63.623047\" xlink:href=\"#DejaVuSans-30\"/>\n       <use x=\"127.246094\" xlink:href=\"#DejaVuSans-32\"/>\n       <use x=\"190.869141\" xlink:href=\"#DejaVuSans-32\"/>\n       <use x=\"254.492188\" xlink:href=\"#DejaVuSans-2d\"/>\n       <use x=\"290.576172\" xlink:href=\"#DejaVuSans-30\"/>\n       <use x=\"354.199219\" xlink:href=\"#DejaVuSans-32\"/>\n       <use x=\"417.822266\" xlink:href=\"#DejaVuSans-2d\"/>\n       <use x=\"453.90625\" xlink:href=\"#DejaVuSans-30\"/>\n       <use x=\"517.529297\" xlink:href=\"#DejaVuSans-35\"/>\n       <use x=\"581.152344\" xlink:href=\"#DejaVuSans-20\"/>\n       <use x=\"612.939453\" xlink:href=\"#DejaVuSans-32\"/>\n       <use x=\"676.5625\" xlink:href=\"#DejaVuSans-33\"/>\n       <use x=\"740.185547\" xlink:href=\"#DejaVuSans-3a\"/>\n       <use x=\"773.876953\" xlink:href=\"#DejaVuSans-32\"/>\n       <use x=\"837.5\" xlink:href=\"#DejaVuSans-36\"/>\n       <use x=\"901.123047\" xlink:href=\"#DejaVuSans-3a\"/>\n       <use x=\"934.814453\" xlink:href=\"#DejaVuSans-34\"/>\n       <use x=\"998.4375\" xlink:href=\"#DejaVuSans-30\"/>\n      </g>\n     </g>\n    </g>\n    <g id=\"xtick_4\">\n     <g id=\"text_4\">\n      <!-- 2022-02-07 03:13:20 -->\n      <g style=\"fill:#262626;\" transform=\"translate(141.837443 150.54875)rotate(-90)scale(0.06 -0.06)\">\n       <defs>\n        <path d=\"M 525 4666 \nL 3525 4666 \nL 3525 4397 \nL 1831 0 \nL 1172 0 \nL 2766 4134 \nL 525 4134 \nL 525 4666 \nz\n\" id=\"DejaVuSans-37\" transform=\"scale(0.015625)\"/>\n       </defs>\n       <use xlink:href=\"#DejaVuSans-32\"/>\n       <use x=\"63.623047\" xlink:href=\"#DejaVuSans-30\"/>\n       <use x=\"127.246094\" xlink:href=\"#DejaVuSans-32\"/>\n       <use x=\"190.869141\" xlink:href=\"#DejaVuSans-32\"/>\n       <use x=\"254.492188\" xlink:href=\"#DejaVuSans-2d\"/>\n       <use x=\"290.576172\" xlink:href=\"#DejaVuSans-30\"/>\n       <use x=\"354.199219\" xlink:href=\"#DejaVuSans-32\"/>\n       <use x=\"417.822266\" xlink:href=\"#DejaVuSans-2d\"/>\n       <use x=\"453.90625\" xlink:href=\"#DejaVuSans-30\"/>\n       <use x=\"517.529297\" xlink:href=\"#DejaVuSans-37\"/>\n       <use x=\"581.152344\" xlink:href=\"#DejaVuSans-20\"/>\n       <use x=\"612.939453\" xlink:href=\"#DejaVuSans-30\"/>\n       <use x=\"676.5625\" xlink:href=\"#DejaVuSans-33\"/>\n       <use x=\"740.185547\" xlink:href=\"#DejaVuSans-3a\"/>\n       <use x=\"773.876953\" xlink:href=\"#DejaVuSans-31\"/>\n       <use x=\"837.5\" xlink:href=\"#DejaVuSans-33\"/>\n       <use x=\"901.123047\" xlink:href=\"#DejaVuSans-3a\"/>\n       <use x=\"934.814453\" xlink:href=\"#DejaVuSans-32\"/>\n       <use x=\"998.4375\" xlink:href=\"#DejaVuSans-30\"/>\n      </g>\n     </g>\n    </g>\n    <g id=\"xtick_5\">\n     <g id=\"text_5\">\n      <!-- 2022-02-08 07:00:00 -->\n      <g style=\"fill:#262626;\" transform=\"translate(175.928352 150.54875)rotate(-90)scale(0.06 -0.06)\">\n       <defs>\n        <path d=\"M 2034 2216 \nQ 1584 2216 1326 1975 \nQ 1069 1734 1069 1313 \nQ 1069 891 1326 650 \nQ 1584 409 2034 409 \nQ 2484 409 2743 651 \nQ 3003 894 3003 1313 \nQ 3003 1734 2745 1975 \nQ 2488 2216 2034 2216 \nz\nM 1403 2484 \nQ 997 2584 770 2862 \nQ 544 3141 544 3541 \nQ 544 4100 942 4425 \nQ 1341 4750 2034 4750 \nQ 2731 4750 3128 4425 \nQ 3525 4100 3525 3541 \nQ 3525 3141 3298 2862 \nQ 3072 2584 2669 2484 \nQ 3125 2378 3379 2068 \nQ 3634 1759 3634 1313 \nQ 3634 634 3220 271 \nQ 2806 -91 2034 -91 \nQ 1263 -91 848 271 \nQ 434 634 434 1313 \nQ 434 1759 690 2068 \nQ 947 2378 1403 2484 \nz\nM 1172 3481 \nQ 1172 3119 1398 2916 \nQ 1625 2713 2034 2713 \nQ 2441 2713 2670 2916 \nQ 2900 3119 2900 3481 \nQ 2900 3844 2670 4047 \nQ 2441 4250 2034 4250 \nQ 1625 4250 1398 4047 \nQ 1172 3844 1172 3481 \nz\n\" id=\"DejaVuSans-38\" transform=\"scale(0.015625)\"/>\n       </defs>\n       <use xlink:href=\"#DejaVuSans-32\"/>\n       <use x=\"63.623047\" xlink:href=\"#DejaVuSans-30\"/>\n       <use x=\"127.246094\" xlink:href=\"#DejaVuSans-32\"/>\n       <use x=\"190.869141\" xlink:href=\"#DejaVuSans-32\"/>\n       <use x=\"254.492188\" xlink:href=\"#DejaVuSans-2d\"/>\n       <use x=\"290.576172\" xlink:href=\"#DejaVuSans-30\"/>\n       <use x=\"354.199219\" xlink:href=\"#DejaVuSans-32\"/>\n       <use x=\"417.822266\" xlink:href=\"#DejaVuSans-2d\"/>\n       <use x=\"453.90625\" xlink:href=\"#DejaVuSans-30\"/>\n       <use x=\"517.529297\" xlink:href=\"#DejaVuSans-38\"/>\n       <use x=\"581.152344\" xlink:href=\"#DejaVuSans-20\"/>\n       <use x=\"612.939453\" xlink:href=\"#DejaVuSans-30\"/>\n       <use x=\"676.5625\" xlink:href=\"#DejaVuSans-37\"/>\n       <use x=\"740.185547\" xlink:href=\"#DejaVuSans-3a\"/>\n       <use x=\"773.876953\" xlink:href=\"#DejaVuSans-30\"/>\n       <use x=\"837.5\" xlink:href=\"#DejaVuSans-30\"/>\n       <use x=\"901.123047\" xlink:href=\"#DejaVuSans-3a\"/>\n       <use x=\"934.814453\" xlink:href=\"#DejaVuSans-30\"/>\n       <use x=\"998.4375\" xlink:href=\"#DejaVuSans-30\"/>\n      </g>\n     </g>\n    </g>\n   </g>\n   <g id=\"patch_3\">\n    <path clip-path=\"url(#p68fd6ced6c)\" d=\"M 19.636364 76.325 \nL 44.883117 76.325 \nL 44.883117 13.920238 \nL 19.636364 13.920238 \nz\n\" style=\"fill:#337ab7;stroke:#ffffff;stroke-linejoin:miter;stroke-width:0.3;\"/>\n   </g>\n   <g id=\"patch_4\">\n    <path clip-path=\"url(#p68fd6ced6c)\" d=\"M 44.883117 76.325 \nL 70.12987 76.325 \nL 70.12987 13.920238 \nL 44.883117 13.920238 \nz\n\" style=\"fill:#337ab7;stroke:#ffffff;stroke-linejoin:miter;stroke-width:0.3;\"/>\n   </g>\n   <g id=\"patch_5\">\n    <path clip-path=\"url(#p68fd6ced6c)\" d=\"M 70.12987 76.325 \nL 95.376623 76.325 \nL 95.376623 13.920238 \nL 70.12987 13.920238 \nz\n\" style=\"fill:#337ab7;stroke:#ffffff;stroke-linejoin:miter;stroke-width:0.3;\"/>\n   </g>\n   <g id=\"patch_6\">\n    <path clip-path=\"url(#p68fd6ced6c)\" d=\"M 95.376623 76.325 \nL 120.623377 76.325 \nL 120.623377 13.920238 \nL 95.376623 13.920238 \nz\n\" style=\"fill:#337ab7;stroke:#ffffff;stroke-linejoin:miter;stroke-width:0.3;\"/>\n   </g>\n   <g id=\"patch_7\">\n    <path clip-path=\"url(#p68fd6ced6c)\" d=\"M 120.623377 76.325 \nL 145.87013 76.325 \nL 145.87013 13.920238 \nL 120.623377 13.920238 \nz\n\" style=\"fill:#337ab7;stroke:#ffffff;stroke-linejoin:miter;stroke-width:0.3;\"/>\n   </g>\n   <g id=\"patch_8\">\n    <path clip-path=\"url(#p68fd6ced6c)\" d=\"M 145.87013 76.325 \nL 171.116883 76.325 \nL 171.116883 13.920238 \nL 145.87013 13.920238 \nz\n\" style=\"fill:#337ab7;stroke:#ffffff;stroke-linejoin:miter;stroke-width:0.3;\"/>\n   </g>\n   <g id=\"patch_9\">\n    <path clip-path=\"url(#p68fd6ced6c)\" d=\"M 171.116883 76.325 \nL 196.363636 76.325 \nL 196.363636 13.920238 \nL 171.116883 13.920238 \nz\n\" style=\"fill:#337ab7;stroke:#ffffff;stroke-linejoin:miter;stroke-width:0.3;\"/>\n   </g>\n   <g id=\"patch_10\">\n    <path d=\"M 10.8 76.325 \nL 10.8 10.8 \n\" style=\"fill:none;\"/>\n   </g>\n   <g id=\"patch_11\">\n    <path d=\"M 205.2 76.325 \nL 205.2 10.8 \n\" style=\"fill:none;\"/>\n   </g>\n   <g id=\"patch_12\">\n    <path d=\"M 10.8 76.325 \nL 205.2 76.325 \n\" style=\"fill:none;\"/>\n   </g>\n   <g id=\"patch_13\">\n    <path d=\"M 10.8 10.8 \nL 205.2 10.8 \n\" style=\"fill:none;\"/>\n   </g>\n  </g>\n </g>\n <defs>\n  <clipPath id=\"p68fd6ced6c\">\n   <rect height=\"65.525\" width=\"194.4\" x=\"10.8\" y=\"10.8\"/>\n  </clipPath>\n </defs>\n</svg>\n"
      }
     },
     "07d05c0bdeac40babfd1b988a03077da": {
      "model_module": "@jupyter-widgets/controls",
      "model_module_version": "1.5.0",
      "model_name": "GridBoxModel",
      "state": {
       "children": [
        "IPY_MODEL_a315b1e0d8a34b53b1087881ff7f2131",
        "IPY_MODEL_1361d56b39254dc687aa8148b01a55b3",
        "IPY_MODEL_027f1b9105174d128e46bf5e4f95ef57",
        "IPY_MODEL_a6171bfe5b5d47f3bfc72cd0c6a7f42c",
        "IPY_MODEL_3c5d3ce3e73448bab395091f8e78f8cb",
        "IPY_MODEL_dae4b05caf114180b6bcfe6f9ea1b2c5",
        "IPY_MODEL_0cd7bc34034746948fadc709fc57401e",
        "IPY_MODEL_f9456609b7654eb4a000b6579133214a",
        "IPY_MODEL_1727835086b145779c25eb48025d979f",
        "IPY_MODEL_2fa1b27b13784135850a26d87c76a103",
        "IPY_MODEL_58505cd384f54ebbb94398600bf286ef",
        "IPY_MODEL_f6a5eec68f9c42d2b7f3f351379966d8",
        "IPY_MODEL_e15909d348d54a11a0dbe2f0cbaf3552",
        "IPY_MODEL_4a64ba894fa341a19929fd22a9b4aa8f",
        "IPY_MODEL_9ee442897cd1438c8fcc4b5eb2030b50",
        "IPY_MODEL_2134821572554ada935c30aaf8c1ba13",
        "IPY_MODEL_b1a5c59b2209489d9dd0286cdae52315",
        "IPY_MODEL_422c08b35dae4db6b16254910c684894"
       ],
       "layout": "IPY_MODEL_1801d024ffed4f99a88f2cac7ce19291"
      }
     },
     "07d712bb530b4711b8061ad19cc5521b": {
      "model_module": "@jupyter-widgets/base",
      "model_module_version": "1.2.0",
      "model_name": "LayoutModel",
      "state": {
       "grid_area": "widget007"
      }
     },
     "07da1638515c48d783fa24d41bdd59ca": {
      "model_module": "@jupyter-widgets/controls",
      "model_module_version": "1.5.0",
      "model_name": "DescriptionStyleModel",
      "state": {
       "description_width": ""
      }
     },
     "0843f8399d18464381d81040b10f8738": {
      "model_module": "@jupyter-widgets/controls",
      "model_module_version": "1.5.0",
      "model_name": "HTMLModel",
      "state": {
       "layout": "IPY_MODEL_14ee813f90a5470abaa8f64e74bb4132",
       "style": "IPY_MODEL_5d017abe54934e2dba8f6c89f2b94ea9",
       "value": "0.5271084442"
      }
     },
     "086977f4b4634e5181434b3842b71ede": {
      "model_module": "@jupyter-widgets/controls",
      "model_module_version": "1.5.0",
      "model_name": "DescriptionStyleModel",
      "state": {
       "description_width": ""
      }
     },
     "08c78837de524efcbf41c274bed311d6": {
      "model_module": "@jupyter-widgets/controls",
      "model_module_version": "1.5.0",
      "model_name": "HTMLModel",
      "state": {
       "layout": "IPY_MODEL_5b7296bc83bc4b31943c165cc1d4ebcc",
       "style": "IPY_MODEL_ff696c66b5ba47cfa1129e7635a2744b",
       "value": "0.1726881932"
      }
     },
     "08da6bc6d14d43e8acb6fef5c16311c3": {
      "model_module": "@jupyter-widgets/controls",
      "model_module_version": "1.5.0",
      "model_name": "LabelModel",
      "state": {
       "layout": "IPY_MODEL_edd7d70bc86b429e9a1fa4cedb9a5864",
       "style": "IPY_MODEL_2779fd1d2f4c4b228c437e71c12bbb73",
       "value": "1"
      }
     },
     "08e0ee78905542ca82a2e90f8b02ee24": {
      "model_module": "@jupyter-widgets/controls",
      "model_module_version": "1.5.0",
      "model_name": "DescriptionStyleModel",
      "state": {
       "description_width": ""
      }
     },
     "08fb49fe6efb452daa12d0c7972e069e": {
      "model_module": "@jupyter-widgets/controls",
      "model_module_version": "1.5.0",
      "model_name": "HTMLModel",
      "state": {
       "layout": "IPY_MODEL_8deb095b01394d89abf380dde7ebdbe8",
       "style": "IPY_MODEL_c13218bc946648978eff4efda65bb4c1",
       "value": "median"
      }
     },
     "08fc00c402c94989ae705e5cfee6bc58": {
      "model_module": "@jupyter-widgets/controls",
      "model_module_version": "1.5.0",
      "model_name": "DescriptionStyleModel",
      "state": {
       "description_width": ""
      }
     },
     "09480ecdb3b64ef4baf75a009940949c": {
      "model_module": "@jupyter-widgets/controls",
      "model_module_version": "1.5.0",
      "model_name": "ProgressStyleModel",
      "state": {
       "description_width": ""
      }
     },
     "0980b1db74e24c2bb1a67d3bb1b57a36": {
      "model_module": "@jupyter-widgets/controls",
      "model_module_version": "1.5.0",
      "model_name": "DescriptionStyleModel",
      "state": {
       "description_width": ""
      }
     },
     "0991c51ecebc436986ee0b25f31cb83b": {
      "model_module": "@jupyter-widgets/controls",
      "model_module_version": "1.5.0",
      "model_name": "ButtonModel",
      "state": {
       "button_style": "info",
       "description": "Missing",
       "disabled": true,
       "layout": "IPY_MODEL_2ee677f4ba5e40558026f25967d3420c",
       "style": "IPY_MODEL_10e6433025694afebfd3a3fbcba394ee"
      }
     },
     "09c30239f8be4ab0b28c2ca91f99770e": {
      "model_module": "@jupyter-widgets/controls",
      "model_module_version": "1.5.0",
      "model_name": "GridBoxModel",
      "state": {
       "children": [
        "IPY_MODEL_f9677d6e144241229a53c203c8ad4502",
        "IPY_MODEL_dd46bf2a77cb48bf8260bfabdc0bb6c0",
        "IPY_MODEL_74477cb83e1245d1873b9ad3ef3b8cee",
        "IPY_MODEL_1cf4bb387b0f45c4b69d41f56c4f3a19",
        "IPY_MODEL_36f7d67f50e14e57a31d4e0ce5e7cd02",
        "IPY_MODEL_58f997855ac34b5f833043e9f7c75f1e",
        "IPY_MODEL_f15c272cb53b4f0389bd768d4ee33ba1",
        "IPY_MODEL_f04c6ae1af054c7290b2fdafe2a4fda0",
        "IPY_MODEL_8417269ca68c49d887f8bb86e2f5f281",
        "IPY_MODEL_24cb300d91b04f959ade7250f97b627f",
        "IPY_MODEL_98e441114ab842249aa76da83aa1d414",
        "IPY_MODEL_852c94f0d04f4eb196ee11735b126ca3",
        "IPY_MODEL_a097b38afe6d48f19cad6f6f7a8ea777",
        "IPY_MODEL_7caf3fd59995449d8f149df6629c5102",
        "IPY_MODEL_dc5cc919259d40d3b2e735b590f67dee",
        "IPY_MODEL_1c3e4a52fb534495914d9240ab3aa1c2",
        "IPY_MODEL_e7615b4ab02442df87de8e522db3ca5b",
        "IPY_MODEL_4c19f957de464b38b854db9a3370036d"
       ],
       "layout": "IPY_MODEL_9658b6a3e03a4c328e00127e0c830c4b"
      }
     },
     "09c32e28215e474486baf900a87a876f": {
      "model_module": "@jupyter-widgets/controls",
      "model_module_version": "1.5.0",
      "model_name": "DescriptionStyleModel",
      "state": {
       "description_width": ""
      }
     },
     "0a192e26be404d7bbd009d9b4ab671ca": {
      "model_module": "@jupyter-widgets/base",
      "model_module_version": "1.2.0",
      "model_name": "LayoutModel",
      "state": {
       "grid_area": "widget004"
      }
     },
     "0a26403d06fb49caadf6a2e2de071456": {
      "model_module": "@jupyter-widgets/controls",
      "model_module_version": "1.5.0",
      "model_name": "LabelModel",
      "state": {
       "layout": "IPY_MODEL_9d1931890f2a4111bb57daa416933abb",
       "style": "IPY_MODEL_0742af819f674a7eab07997e728ca616",
       "value": "-1.2864397249060768"
      }
     },
     "0a3b499b96e8448fb41d290786def699": {
      "model_module": "@jupyter-widgets/controls",
      "model_module_version": "1.5.0",
      "model_name": "HTMLModel",
      "state": {
       "layout": "IPY_MODEL_ec610ea81d0542a9b9696ff39afdc813",
       "style": "IPY_MODEL_b9b85f47967b45feb78c78c0dc4b6e41",
       "value": "0.8457905848"
      }
     },
     "0a5cf96067b74c9bb4e29b68a2f151d7": {
      "model_module": "@jupyter-widgets/base",
      "model_module_version": "1.2.0",
      "model_name": "LayoutModel",
      "state": {}
     },
     "0a9b2c844920474ab4b9ed47b518d43c": {
      "model_module": "@jupyter-widgets/base",
      "model_module_version": "1.2.0",
      "model_name": "LayoutModel",
      "state": {
       "grid_area": "widget015"
      }
     },
     "0aa891d7c8034b6f94f6db611021e2bb": {
      "model_module": "@jupyter-widgets/controls",
      "model_module_version": "1.5.0",
      "model_name": "DescriptionStyleModel",
      "state": {
       "description_width": ""
      }
     },
     "0ab9309ec82544528b5fb0cffdd74de8": {
      "model_module": "@jupyter-widgets/controls",
      "model_module_version": "1.5.0",
      "model_name": "DescriptionStyleModel",
      "state": {
       "description_width": ""
      }
     },
     "0acf87c45cda492c88ce531a5a58440b": {
      "model_module": "@jupyter-widgets/base",
      "model_module_version": "1.2.0",
      "model_name": "LayoutModel",
      "state": {
       "grid_area": "widget001"
      }
     },
     "0ad706f8e6a74cada8ed4cdc4bad1211": {
      "model_module": "@jupyter-widgets/base",
      "model_module_version": "1.2.0",
      "model_name": "LayoutModel",
      "state": {
       "grid_area": "widget002"
      }
     },
     "0aebddd8053c4c87ac2e41797bf6266f": {
      "model_module": "@jupyter-widgets/controls",
      "model_module_version": "1.5.0",
      "model_name": "ProgressStyleModel",
      "state": {
       "description_width": ""
      }
     },
     "0b1a1378f7844169b4b996c6fe886608": {
      "model_module": "@jupyter-widgets/output",
      "model_module_version": "1.0.0",
      "model_name": "OutputModel",
      "state": {
       "layout": "IPY_MODEL_9ac8268f7b0746c8bd41380878fbad7d",
       "outputs": [
        {
         "data": {
          "text/html": "<div>\n<style scoped>\n    .dataframe tbody tr th:only-of-type {\n        vertical-align: middle;\n    }\n\n    .dataframe tbody tr th {\n        vertical-align: top;\n    }\n\n    .dataframe thead th {\n        text-align: right;\n    }\n</style>\n<table border=\"1\" class=\"dataframe\">\n  <thead>\n    <tr style=\"text-align: right;\">\n      <th></th>\n      <th>df_index</th>\n      <th>0</th>\n      <th>1</th>\n      <th>2</th>\n    </tr>\n  </thead>\n  <tbody>\n    <tr>\n      <th>0</th>\n      <td>2022-02-03</td>\n      <td>0.264503</td>\n      <td>-0.345312</td>\n      <td>1.260343</td>\n    </tr>\n    <tr>\n      <th>1</th>\n      <td>2022-02-04</td>\n      <td>-1.286440</td>\n      <td>-1.107862</td>\n      <td>1.571945</td>\n    </tr>\n    <tr>\n      <th>2</th>\n      <td>2022-02-05</td>\n      <td>-0.027269</td>\n      <td>-0.138083</td>\n      <td>0.462049</td>\n    </tr>\n    <tr>\n      <th>3</th>\n      <td>2022-02-06</td>\n      <td>-1.090419</td>\n      <td>0.798509</td>\n      <td>0.795627</td>\n    </tr>\n    <tr>\n      <th>4</th>\n      <td>2022-02-07</td>\n      <td>1.571553</td>\n      <td>1.519501</td>\n      <td>1.566992</td>\n    </tr>\n    <tr>\n      <th>5</th>\n      <td>2022-02-08</td>\n      <td>0.975667</td>\n      <td>0.309376</td>\n      <td>0.512775</td>\n    </tr>\n    <tr>\n      <th>6</th>\n      <td>2022-02-09</td>\n      <td>NaN</td>\n      <td>NaN</td>\n      <td>NaN</td>\n    </tr>\n  </tbody>\n</table>\n</div>",
          "text/plain": "    df_index         0         1         2\n0 2022-02-03  0.264503 -0.345312  1.260343\n1 2022-02-04 -1.286440 -1.107862  1.571945\n2 2022-02-05 -0.027269 -0.138083  0.462049\n3 2022-02-06 -1.090419  0.798509  0.795627\n4 2022-02-07  1.571553  1.519501  1.566992\n5 2022-02-08  0.975667  0.309376  0.512775\n6 2022-02-09       NaN       NaN       NaN"
         },
         "metadata": {},
         "output_type": "display_data"
        }
       ]
      }
     },
     "0b3843e5da7d4f6da4e9c45f95cb2ba0": {
      "model_module": "@jupyter-widgets/base",
      "model_module_version": "1.2.0",
      "model_name": "LayoutModel",
      "state": {
       "grid_area": "widget011"
      }
     },
     "0b63e057b68144d094a2b7500938aab3": {
      "model_module": "@jupyter-widgets/base",
      "model_module_version": "1.2.0",
      "model_name": "LayoutModel",
      "state": {
       "grid_area": "widget002"
      }
     },
     "0b6e3453f1e945af8f7cc2fcb1e9ccba": {
      "model_module": "@jupyter-widgets/base",
      "model_module_version": "1.2.0",
      "model_name": "LayoutModel",
      "state": {
       "grid_area": "widget001"
      }
     },
     "0b9efc9b65c74fb2944e703915f0e4ff": {
      "model_module": "@jupyter-widgets/controls",
      "model_module_version": "1.5.0",
      "model_name": "GridBoxModel",
      "state": {
       "children": [
        "IPY_MODEL_2427318665154df895fe3e4f434e29ad",
        "IPY_MODEL_510a71b8644c440ca471e6cdde47b064",
        "IPY_MODEL_f714db7611f441fab81b8cd878e7f213",
        "IPY_MODEL_19303781461243199416375455ffa989"
       ],
       "layout": "IPY_MODEL_9c2b20228a8b4a2fb056f750b1e6f022"
      }
     },
     "0ba7c88c7ae34122959effca8d28085d": {
      "model_module": "@jupyter-widgets/controls",
      "model_module_version": "1.5.0",
      "model_name": "HTMLModel",
      "state": {
       "layout": "IPY_MODEL_ae76c7933f6a49d3af69e903904b7d66",
       "style": "IPY_MODEL_fd589cc03f634d6aa1c42602f0bc9350",
       "value": "184.0 B"
      }
     },
     "0bc4089e97374927b09988c6b479fbbd": {
      "model_module": "@jupyter-widgets/controls",
      "model_module_version": "1.5.0",
      "model_name": "DescriptionStyleModel",
      "state": {
       "description_width": ""
      }
     },
     "0bcb0d1bf6c847348f61d05b18eacd07": {
      "model_module": "@jupyter-widgets/controls",
      "model_module_version": "1.5.0",
      "model_name": "ProgressStyleModel",
      "state": {
       "description_width": ""
      }
     },
     "0bdd93e12c2b4fdda9eca8048a84478b": {
      "model_module": "@jupyter-widgets/controls",
      "model_module_version": "1.5.0",
      "model_name": "HTMLModel",
      "state": {
       "layout": "IPY_MODEL_6914ea896e9d4342b533278de0613523",
       "style": "IPY_MODEL_d0d6eeabd424463aa0705cbbcb5b8c29",
       "value": "Negative (%)"
      }
     },
     "0bf937251a8a47d896643516b23f949d": {
      "model_module": "@jupyter-widgets/controls",
      "model_module_version": "1.5.0",
      "model_name": "LabelModel",
      "state": {
       "layout": "IPY_MODEL_c4a4f124ff2e404d87ca6d4976c9f86c",
       "style": "IPY_MODEL_51ce42991c044f7c8111a5d68b42854f",
       "value": "1"
      }
     },
     "0bfffb8c109a4d3690f68c1381d73250": {
      "model_module": "@jupyter-widgets/base",
      "model_module_version": "1.2.0",
      "model_name": "LayoutModel",
      "state": {
       "grid_area": "widget016"
      }
     },
     "0c06ee7ed2b0409eb4c89c3f2983ec30": {
      "model_module": "@jupyter-widgets/base",
      "model_module_version": "1.2.0",
      "model_name": "LayoutModel",
      "state": {}
     },
     "0c6e022c64504948b05586d41a94493c": {
      "model_module": "@jupyter-widgets/controls",
      "model_module_version": "1.5.0",
      "model_name": "DescriptionStyleModel",
      "state": {
       "description_width": ""
      }
     },
     "0cacdd85782a406c80d6fc878d02d662": {
      "model_module": "@jupyter-widgets/controls",
      "model_module_version": "1.5.0",
      "model_name": "LabelModel",
      "state": {
       "layout": "IPY_MODEL_862b52f4e5dc4c2dad088d9e1187efbb",
       "style": "IPY_MODEL_fcfcc25049944c389e43972b14405a24",
       "value": "1"
      }
     },
     "0cbe68b1810c4f5cab668acbb22b52f0": {
      "model_module": "@jupyter-widgets/base",
      "model_module_version": "1.2.0",
      "model_name": "LayoutModel",
      "state": {
       "grid_area": "widget007"
      }
     },
     "0cd7bc34034746948fadc709fc57401e": {
      "model_module": "@jupyter-widgets/controls",
      "model_module_version": "1.5.0",
      "model_name": "HTMLModel",
      "state": {
       "layout": "IPY_MODEL_0f6b22ce3fcc4a7a802bbb6923979303",
       "style": "IPY_MODEL_adf70ed21fb846c58257620bd8d916aa",
       "value": "median"
      }
     },
     "0cdd4e9f0f1044518c4521bf73c97221": {
      "model_module": "@jupyter-widgets/base",
      "model_module_version": "1.2.0",
      "model_name": "LayoutModel",
      "state": {
       "grid_area": "widget004"
      }
     },
     "0d28c986d5ba442ab585edb580698dcc": {
      "model_module": "@jupyter-widgets/controls",
      "model_module_version": "1.5.0",
      "model_name": "HTMLModel",
      "state": {
       "layout": "IPY_MODEL_2eea15be653f4c01be58f7eaec9b1eae",
       "style": "IPY_MODEL_982f7cc5273f4e1d9dcb5fb860db9a86",
       "value": "Minimum"
      }
     },
     "0d501381da864c9199a43cf4c5bd1131": {
      "model_module": "@jupyter-widgets/controls",
      "model_module_version": "1.5.0",
      "model_name": "DescriptionStyleModel",
      "state": {
       "description_width": ""
      }
     },
     "0dc2ba399fb74e4792c18e09238fdb23": {
      "model_module": "@jupyter-widgets/base",
      "model_module_version": "1.2.0",
      "model_name": "LayoutModel",
      "state": {
       "grid_area": "widget001"
      }
     },
     "0e2ec57217a24668a9a7f6982e8ef373": {
      "model_module": "@jupyter-widgets/base",
      "model_module_version": "1.2.0",
      "model_name": "LayoutModel",
      "state": {}
     },
     "0e34e610e5364c23bb039ae603f9afe2": {
      "model_module": "@jupyter-widgets/base",
      "model_module_version": "1.2.0",
      "model_name": "LayoutModel",
      "state": {}
     },
     "0e6340f7d2bb4ff4a16a753f1104c5a6": {
      "model_module": "@jupyter-widgets/controls",
      "model_module_version": "1.5.0",
      "model_name": "GridBoxModel",
      "state": {
       "children": [
        "IPY_MODEL_757047b5e405472aadf20f8db18a5dc6",
        "IPY_MODEL_e7d1b4bf3cfe49c49dfbbc7b1a30aad4",
        "IPY_MODEL_22c3737478b54f6fac831aa34156a0ba",
        "IPY_MODEL_584731a099e347279043cd5840b10038",
        "IPY_MODEL_a44b28615305477a86423293055e64bc",
        "IPY_MODEL_8e31bac28c7845bd98c61174f46ec8a0",
        "IPY_MODEL_433de6c1d5f04d0f9e4c056136d5edce",
        "IPY_MODEL_fe2c809b84b04775a1bb197ad9173290",
        "IPY_MODEL_872ef0d533da421082e4e048928fb05e",
        "IPY_MODEL_ae667fb2f8514377ae414c4d855d5367",
        "IPY_MODEL_d1236827e66f4584bc17ff52884bc3c1",
        "IPY_MODEL_7057f589694c482c9c52a7374b56f362",
        "IPY_MODEL_13edc4ed41f446c4a71f1d2d5c58f897",
        "IPY_MODEL_21b45d43dfcb41afa466ba666f539fea",
        "IPY_MODEL_52b2fe0189e745cebada61d87710b28c",
        "IPY_MODEL_1fe128d5a13b4b31a67da9c5125d4a82",
        "IPY_MODEL_9ba05c20430248eb954314c4d0fc9b95",
        "IPY_MODEL_a7344576d4654bb4b1b5f0c0974c1bf4"
       ],
       "layout": "IPY_MODEL_99bc8144538b445c903b2cfd41936975"
      }
     },
     "0e77d13bf0e34bac99a0100897ae831d": {
      "model_module": "@jupyter-widgets/controls",
      "model_module_version": "1.5.0",
      "model_name": "DescriptionStyleModel",
      "state": {
       "description_width": ""
      }
     },
     "0ed6398a591d4fe892f0a8ff04e01046": {
      "model_module": "@jupyter-widgets/base",
      "model_module_version": "1.2.0",
      "model_name": "LayoutModel",
      "state": {
       "grid_area": "widget005"
      }
     },
     "0edf43fe9c3c47fa9980e02cb5ae4630": {
      "model_module": "@jupyter-widgets/controls",
      "model_module_version": "1.5.0",
      "model_name": "DescriptionStyleModel",
      "state": {
       "description_width": ""
      }
     },
     "0f327fb412b84e61bc215e1af4965e8c": {
      "model_module": "@jupyter-widgets/controls",
      "model_module_version": "1.5.0",
      "model_name": "DescriptionStyleModel",
      "state": {
       "description_width": ""
      }
     },
     "0f48c9675cba4806a474990da1c9626f": {
      "model_module": "@jupyter-widgets/base",
      "model_module_version": "1.2.0",
      "model_name": "LayoutModel",
      "state": {}
     },
     "0f5446c2c5d446ad80897f1797688d58": {
      "model_module": "@jupyter-widgets/controls",
      "model_module_version": "1.5.0",
      "model_name": "FloatProgressModel",
      "state": {
       "layout": "IPY_MODEL_019b003920724921bdc2a7f18c3549b2",
       "max": 7,
       "style": "IPY_MODEL_2681c48735bc4bada774ca3467589dbc",
       "value": 1
      }
     },
     "0f6b22ce3fcc4a7a802bbb6923979303": {
      "model_module": "@jupyter-widgets/base",
      "model_module_version": "1.2.0",
      "model_name": "LayoutModel",
      "state": {
       "grid_area": "widget007"
      }
     },
     "0f75644b4c474d9790315403c563b504": {
      "model_module": "@jupyter-widgets/controls",
      "model_module_version": "1.5.0",
      "model_name": "DescriptionStyleModel",
      "state": {
       "description_width": ""
      }
     },
     "0f850d079f124989be5c98e519fd1ce5": {
      "model_module": "@jupyter-widgets/controls",
      "model_module_version": "1.5.0",
      "model_name": "ButtonModel",
      "state": {
       "description": "High correlation",
       "disabled": true,
       "layout": "IPY_MODEL_7f68992681a04526940df53bb383aa1b",
       "style": "IPY_MODEL_742405c7839842d4a55b37cffc82aefe"
      }
     },
     "1027d25cd28d486792732da40f8bc77c": {
      "model_module": "@jupyter-widgets/controls",
      "model_module_version": "1.5.0",
      "model_name": "DescriptionStyleModel",
      "state": {
       "description_width": ""
      }
     },
     "103dab6891974a78befcc082f544597d": {
      "model_module": "@jupyter-widgets/base",
      "model_module_version": "1.2.0",
      "model_name": "LayoutModel",
      "state": {
       "grid_area": "widget012"
      }
     },
     "107e4107f5b04701897d8b75753a85a1": {
      "model_module": "@jupyter-widgets/controls",
      "model_module_version": "1.5.0",
      "model_name": "HTMLModel",
      "state": {
       "layout": "IPY_MODEL_bdf19831f9494fa6ad29fc8c032ca9a3",
       "style": "IPY_MODEL_615e506958d349bfa2249b420dee2268",
       "value": "0"
      }
     },
     "108910bf3b9a41c4a6e09cb362731812": {
      "model_module": "@jupyter-widgets/base",
      "model_module_version": "1.2.0",
      "model_name": "LayoutModel",
      "state": {
       "align_items": "flex-end",
       "display": "flex",
       "flex_flow": "column",
       "width": "100%"
      }
     },
     "10e6433025694afebfd3a3fbcba394ee": {
      "model_module": "@jupyter-widgets/controls",
      "model_module_version": "1.5.0",
      "model_name": "ButtonStyleModel",
      "state": {}
     },
     "10f36bae06c34f04a88293731bc13ec2": {
      "model_module": "@jupyter-widgets/controls",
      "model_module_version": "1.5.0",
      "model_name": "DescriptionStyleModel",
      "state": {
       "description_width": ""
      }
     },
     "114f4e2d925e425cb723d4bacce46d56": {
      "model_module": "@jupyter-widgets/controls",
      "model_module_version": "1.5.0",
      "model_name": "DescriptionStyleModel",
      "state": {
       "description_width": ""
      }
     },
     "116c4c709d1d4c2ca6ef5bd523467cb8": {
      "model_module": "@jupyter-widgets/controls",
      "model_module_version": "1.5.0",
      "model_name": "DescriptionStyleModel",
      "state": {
       "description_width": ""
      }
     },
     "119b2f7c369947d4a5b304fd521c74c9": {
      "model_module": "@jupyter-widgets/base",
      "model_module_version": "1.2.0",
      "model_name": "LayoutModel",
      "state": {
       "grid_area": "widget007"
      }
     },
     "11a9c945e92e42299ec570e2fcc7fcd6": {
      "model_module": "@jupyter-widgets/base",
      "model_module_version": "1.2.0",
      "model_name": "LayoutModel",
      "state": {}
     },
     "11c0ead34a7247b6b2baa6dfdbda4cf6": {
      "model_module": "@jupyter-widgets/base",
      "model_module_version": "1.2.0",
      "model_name": "LayoutModel",
      "state": {
       "grid_area": "widget013"
      }
     },
     "1204c304363c45b9b97eb090d0da0239": {
      "model_module": "@jupyter-widgets/controls",
      "model_module_version": "1.5.0",
      "model_name": "GridBoxModel",
      "state": {
       "children": [
        "IPY_MODEL_4a76410e2aa147919c8e03ca388a83f2",
        "IPY_MODEL_c4d7a4a589ed4e7da89fb5b307aa61ce",
        "IPY_MODEL_7280538875ae40ea888825626dd3115e",
        "IPY_MODEL_dc4e348864754eb8b9e86658a0d35208",
        "IPY_MODEL_2d2404d080a245c69ad882f596661362",
        "IPY_MODEL_85f37bf3c8d1437ab888dff5075f9d45",
        "IPY_MODEL_21ea7ca03ccd42f48f7ce12b1746b53e",
        "IPY_MODEL_a08ba08b05884c63a3171e38caf64a2b",
        "IPY_MODEL_a5b2d81f321d477994f5d17b29daf1cb",
        "IPY_MODEL_0843f8399d18464381d81040b10f8738",
        "IPY_MODEL_392658c38a34438ab11a1b04f4945d62",
        "IPY_MODEL_20d8d0d20bc74d2d87a76348dd9d3066",
        "IPY_MODEL_c1abde66521e4ce69e1a1dab8874def8",
        "IPY_MODEL_ee4a55743dce4503b09adc41e0ccc242",
        "IPY_MODEL_93303065b3274cfb8111214cac26ba7c",
        "IPY_MODEL_8e6187a62fe746039ab562b578e5af2e",
        "IPY_MODEL_5d7e88ad89864189bcb2b0cc4754a7e9",
        "IPY_MODEL_b39d2afe8ec240cea375573f9d9bab63"
       ],
       "layout": "IPY_MODEL_8f84e557a5334a0182650e6fc1f5c474"
      }
     },
     "121e6e4c729e40898523bb776c612448": {
      "model_module": "@jupyter-widgets/base",
      "model_module_version": "1.2.0",
      "model_name": "LayoutModel",
      "state": {}
     },
     "1223236f8fcb48e78cd67220e8c59c5c": {
      "model_module": "@jupyter-widgets/controls",
      "model_module_version": "1.5.0",
      "model_name": "LabelModel",
      "state": {
       "layout": "IPY_MODEL_2d2ac2923de44baca6bbab0d3d5ac493",
       "style": "IPY_MODEL_a396167f0d944c83afd6f7576326d4c3",
       "value": "1"
      }
     },
     "1241d41752f34123a469a156b4873457": {
      "model_module": "@jupyter-widgets/controls",
      "model_module_version": "1.5.0",
      "model_name": "HTMLModel",
      "state": {
       "layout": "IPY_MODEL_e81cb33fc76943018cd3e555fcf41db6",
       "style": "IPY_MODEL_f0045f0205804bc4abe4f85d4f5d8953",
       "value": "<span style=\"color:var(--jp-error-color1)\">Missing</span>"
      }
     },
     "1246664fb0514045a588415328f6cb1d": {
      "model_module": "@jupyter-widgets/base",
      "model_module_version": "1.2.0",
      "model_name": "LayoutModel",
      "state": {
       "grid_area": "widget013"
      }
     },
     "126190b52b03475f8013719db3fb867a": {
      "model_module": "@jupyter-widgets/base",
      "model_module_version": "1.2.0",
      "model_name": "LayoutModel",
      "state": {
       "grid_area": "widget003"
      }
     },
     "127c89b8f64c4ee8b1795d0ef520ead3": {
      "model_module": "@jupyter-widgets/controls",
      "model_module_version": "1.5.0",
      "model_name": "DescriptionStyleModel",
      "state": {
       "description_width": ""
      }
     },
     "129d9609b2434906831fac4ce16cfca5": {
      "model_module": "@jupyter-widgets/controls",
      "model_module_version": "1.5.0",
      "model_name": "DescriptionStyleModel",
      "state": {
       "description_width": ""
      }
     },
     "129ee2f890f04060b01f6e5a7063ea0b": {
      "model_module": "@jupyter-widgets/controls",
      "model_module_version": "1.5.0",
      "model_name": "HTMLModel",
      "state": {
       "layout": "IPY_MODEL_513158dcdc0d495c95eed274269cbc7b",
       "style": "IPY_MODEL_1eedbab5e00448e9b54ae6ee5f3e4ebe",
       "value": "Distinct"
      }
     },
     "12ddfdcf496444fa93ef8d314200ed47": {
      "model_module": "@jupyter-widgets/controls",
      "model_module_version": "1.5.0",
      "model_name": "DescriptionStyleModel",
      "state": {
       "description_width": ""
      }
     },
     "1318cea1f262446d89064616260463c7": {
      "model_module": "@jupyter-widgets/base",
      "model_module_version": "1.2.0",
      "model_name": "LayoutModel",
      "state": {
       "grid_area": "widget005"
      }
     },
     "1351e50bf05f48759b66cd61df3a41dd": {
      "model_module": "@jupyter-widgets/base",
      "model_module_version": "1.2.0",
      "model_name": "LayoutModel",
      "state": {
       "grid_area": "widget015"
      }
     },
     "1361d56b39254dc687aa8148b01a55b3": {
      "model_module": "@jupyter-widgets/controls",
      "model_module_version": "1.5.0",
      "model_name": "HTMLModel",
      "state": {
       "layout": "IPY_MODEL_c282e6d1806f41dabdf0d338e4dd371e",
       "style": "IPY_MODEL_3819ec0595624b8e8f0ec58ecde6aadc",
       "value": "0.4620487811"
      }
     },
     "139c7a001ba74637ae537b6841102d20": {
      "model_module": "@jupyter-widgets/controls",
      "model_module_version": "1.5.0",
      "model_name": "HTMLModel",
      "state": {
       "layout": "IPY_MODEL_d3965ffc41f84077a7c0226edd205287",
       "style": "IPY_MODEL_6d0ee2cbb02643c686cad19f5971cbc0",
       "value": "0"
      }
     },
     "13e117e440bf42c6b4e9c822bafc8d0e": {
      "model_module": "@jupyter-widgets/controls",
      "model_module_version": "1.5.0",
      "model_name": "FloatProgressModel",
      "state": {
       "layout": "IPY_MODEL_1df3e66822244b35b6973dee2431c94c",
       "max": 7,
       "style": "IPY_MODEL_e11e309915324a948bcd52a457c769b2",
       "value": 1
      }
     },
     "13edc4ed41f446c4a71f1d2d5c58f897": {
      "model_module": "@jupyter-widgets/controls",
      "model_module_version": "1.5.0",
      "model_name": "HTMLModel",
      "state": {
       "layout": "IPY_MODEL_11c0ead34a7247b6b2baa6dfdbda4cf6",
       "style": "IPY_MODEL_0ab9309ec82544528b5fb0cffdd74de8",
       "value": "Maximum"
      }
     },
     "140baf7e4bd746fd8f0ec9445f94b0a2": {
      "model_module": "@jupyter-widgets/base",
      "model_module_version": "1.2.0",
      "model_name": "LayoutModel",
      "state": {
       "grid_area": "widget015"
      }
     },
     "141b823a746e4621970621bfe3e4ba24": {
      "model_module": "@jupyter-widgets/controls",
      "model_module_version": "1.5.0",
      "model_name": "LabelModel",
      "state": {
       "layout": "IPY_MODEL_bfe6b451441c486e9e08b7e526b65d84",
       "style": "IPY_MODEL_874358dcbd1848cdb45df107649744c7",
       "value": "0.7956267126438664"
      }
     },
     "14550ea038124ff8ad90ec811691a9cf": {
      "model_module": "@jupyter-widgets/controls",
      "model_module_version": "1.5.0",
      "model_name": "DescriptionStyleModel",
      "state": {
       "description_width": ""
      }
     },
     "14ac00a13a4e42cd9e14274355e6af38": {
      "model_module": "@jupyter-widgets/base",
      "model_module_version": "1.2.0",
      "model_name": "LayoutModel",
      "state": {
       "grid_area": "widget004"
      }
     },
     "14ee813f90a5470abaa8f64e74bb4132": {
      "model_module": "@jupyter-widgets/base",
      "model_module_version": "1.2.0",
      "model_name": "LayoutModel",
      "state": {
       "grid_area": "widget010"
      }
     },
     "1532b428368b4ee38042e9ac7820494a": {
      "model_module": "@jupyter-widgets/controls",
      "model_module_version": "1.5.0",
      "model_name": "FloatProgressModel",
      "state": {
       "layout": "IPY_MODEL_42667317a29845819131e85550feaa65",
       "max": 7,
       "style": "IPY_MODEL_648ad0e3876f46ab84b5c1666bc3b860",
       "value": 1
      }
     },
     "15461d8ce42542c1863b826c3fb80f93": {
      "model_module": "@jupyter-widgets/controls",
      "model_module_version": "1.5.0",
      "model_name": "HTMLModel",
      "state": {
       "layout": "IPY_MODEL_4345a96a1521449d9514e56e15cd0b19",
       "style": "IPY_MODEL_05b7d81285f541dcaa99367785fa4039",
       "value": "100.0%"
      }
     },
     "15b268adf70d457891896d7cc2bbcffb": {
      "model_module": "@jupyter-widgets/base",
      "model_module_version": "1.2.0",
      "model_name": "LayoutModel",
      "state": {
       "grid_area": "widget019"
      }
     },
     "15c3f9f3424f43d5a2fd13f79e62585b": {
      "model_module": "@jupyter-widgets/base",
      "model_module_version": "1.2.0",
      "model_name": "LayoutModel",
      "state": {
       "grid_area": "widget011"
      }
     },
     "15cc21de7d5d46deb9dc32f3ae4e3573": {
      "model_module": "@jupyter-widgets/base",
      "model_module_version": "1.2.0",
      "model_name": "LayoutModel",
      "state": {
       "grid_area": "widget011"
      }
     },
     "15e182c0fe2749f6bcc0ca178532a363": {
      "model_module": "@jupyter-widgets/controls",
      "model_module_version": "1.5.0",
      "model_name": "DescriptionStyleModel",
      "state": {
       "description_width": ""
      }
     },
     "16361126b6fe4dde869412b9c0bc9578": {
      "model_module": "@jupyter-widgets/base",
      "model_module_version": "1.2.0",
      "model_name": "LayoutModel",
      "state": {
       "grid_area": "widget012"
      }
     },
     "1639ef0db7c845e2b0838d1689ec49ad": {
      "model_module": "@jupyter-widgets/controls",
      "model_module_version": "1.5.0",
      "model_name": "HTMLModel",
      "state": {
       "layout": "IPY_MODEL_bd78839e60204486b70d96c14d0b599f",
       "style": "IPY_MODEL_0f327fb412b84e61bc215e1af4965e8c",
       "value": "<p style=\"color: #999\"><em><strong>Histogram with fixed size bins</strong> (bins=7)</em></p>"
      }
     },
     "166610f2e9f5450e846ab5f4ce294874": {
      "model_module": "@jupyter-widgets/base",
      "model_module_version": "1.2.0",
      "model_name": "LayoutModel",
      "state": {}
     },
     "16661bb695ea45159cdcd99df6df723a": {
      "model_module": "@jupyter-widgets/controls",
      "model_module_version": "1.5.0",
      "model_name": "ProgressStyleModel",
      "state": {
       "description_width": ""
      }
     },
     "1698eeb9305a40d0ad0dfd11555db8bd": {
      "model_module": "@jupyter-widgets/base",
      "model_module_version": "1.2.0",
      "model_name": "LayoutModel",
      "state": {}
     },
     "16c7dca83194430e9938a52156b38171": {
      "model_module": "@jupyter-widgets/controls",
      "model_module_version": "1.5.0",
      "model_name": "HTMLModel",
      "state": {
       "layout": "IPY_MODEL_efa72e8162d14c67ab1e2ce4545f1bf1",
       "style": "IPY_MODEL_9f2282e8304446408a7fd383c780c06f",
       "value": "16.53508552"
      }
     },
     "16ff124076234d9a9838c48d0af8d934": {
      "model_module": "@jupyter-widgets/base",
      "model_module_version": "1.2.0",
      "model_name": "LayoutModel",
      "state": {
       "grid_area": "widget008"
      }
     },
     "17223f20b0fe47f2993c619401e3a25c": {
      "model_module": "@jupyter-widgets/base",
      "model_module_version": "1.2.0",
      "model_name": "LayoutModel",
      "state": {
       "grid_area": "widget008"
      }
     },
     "1727835086b145779c25eb48025d979f": {
      "model_module": "@jupyter-widgets/controls",
      "model_module_version": "1.5.0",
      "model_name": "HTMLModel",
      "state": {
       "layout": "IPY_MODEL_345626f3bc4f403b929991dfadcd7a5e",
       "style": "IPY_MODEL_9c2284d849364b3ba052133f59c0378d",
       "value": "Q3"
      }
     },
     "17477363182145c5a039c2e848d1453f": {
      "model_module": "@jupyter-widgets/controls",
      "model_module_version": "1.5.0",
      "model_name": "HTMLModel",
      "state": {
       "layout": "IPY_MODEL_866cfbdc82064dd38db963c333c580de",
       "style": "IPY_MODEL_bbf63cae760d479bb0aac2b85804bca6",
       "value": "Summarize dataset: 100%"
      }
     },
     "177fd69bb5434743ae68b26c6634d56a": {
      "model_module": "@jupyter-widgets/base",
      "model_module_version": "1.2.0",
      "model_name": "LayoutModel",
      "state": {
       "grid_area": "widget004"
      }
     },
     "17cb6a7903874b45931f6fcbf336883f": {
      "model_module": "@jupyter-widgets/controls",
      "model_module_version": "1.5.0",
      "model_name": "DescriptionStyleModel",
      "state": {
       "description_width": ""
      }
     },
     "17e03c0c76b94dd9ba8dd005d28810e1": {
      "model_module": "@jupyter-widgets/base",
      "model_module_version": "1.2.0",
      "model_name": "LayoutModel",
      "state": {}
     },
     "17f310716eec4c1e910494bad9587b74": {
      "model_module": "@jupyter-widgets/base",
      "model_module_version": "1.2.0",
      "model_name": "LayoutModel",
      "state": {
       "grid_area": "widget005"
      }
     },
     "17f4bb044efa48759bf9fb257cc03530": {
      "model_module": "@jupyter-widgets/controls",
      "model_module_version": "1.5.0",
      "model_name": "HTMLModel",
      "state": {
       "layout": "IPY_MODEL_afaf4855296e4426a31c85d07403c8cb",
       "style": "IPY_MODEL_86e5e931d06a4605adcfc7392c68cc3f",
       "value": "<?xml version=\"1.0\" encoding=\"utf-8\" standalone=\"no\"?>\n<!DOCTYPE svg style=\"max-width: 100%\" PUBLIC \"-//W3C//DTD SVG 1.1//EN\"\n  \"http://www.w3.org/Graphics/SVG/1.1/DTD/svg11.dtd\">\n<svg style=\"max-width: 100%\"  version=\"1.1\" viewBox=\"0 0 432 288\" width=\"432pt\" xmlns=\"http://www.w3.org/2000/svg\" xmlns:xlink=\"http://www.w3.org/1999/xlink\">\n <metadata>\n  <rdf:RDF xmlns:cc=\"http://creativecommons.org/ns#\" xmlns:dc=\"http://purl.org/dc/elements/1.1/\" xmlns:rdf=\"http://www.w3.org/1999/02/22-rdf-syntax-ns#\">\n   <cc:Work>\n    <dc:type rdf:resource=\"http://purl.org/dc/dcmitype/StillImage\"/>\n    <dc:date>2022-10-01T17:17:59.439816</dc:date>\n    <dc:format>image/svg+xml</dc:format>\n    <dc:creator>\n     <cc:Agent>\n      <dc:title>Matplotlib v3.4.3, https://matplotlib.org/</dc:title>\n     </cc:Agent>\n    </dc:creator>\n   </cc:Work>\n  </rdf:RDF>\n </metadata>\n <defs>\n  <style type=\"text/css\">*{stroke-linecap:butt;stroke-linejoin:round;}</style>\n </defs>\n <g id=\"figure_1\">\n  <g id=\"patch_1\">\n   <path d=\"M 0 288 \nL 432 288 \nL 432 0 \nL 0 0 \nz\n\" style=\"fill:#ffffff;\"/>\n  </g>\n  <g id=\"axes_1\">\n   <g id=\"patch_2\">\n    <path d=\"M 57.675 248.315224 \nL 419.532277 248.315224 \nL 419.532277 10.8 \nL 57.675 10.8 \nz\n\" style=\"fill:#ffffff;\"/>\n   </g>\n   <g id=\"matplotlib.axis_1\">\n    <g id=\"xtick_1\">\n     <g id=\"text_1\">\n      <!-- 0.6 -->\n      <g style=\"fill:#262626;\" transform=\"translate(111.338877 275.433338)rotate(-45)scale(0.1 -0.1)\">\n       <defs>\n        <path d=\"M 2034 4250 \nQ 1547 4250 1301 3770 \nQ 1056 3291 1056 2328 \nQ 1056 1369 1301 889 \nQ 1547 409 2034 409 \nQ 2525 409 2770 889 \nQ 3016 1369 3016 2328 \nQ 3016 3291 2770 3770 \nQ 2525 4250 2034 4250 \nz\nM 2034 4750 \nQ 2819 4750 3233 4129 \nQ 3647 3509 3647 2328 \nQ 3647 1150 3233 529 \nQ 2819 -91 2034 -91 \nQ 1250 -91 836 529 \nQ 422 1150 422 2328 \nQ 422 3509 836 4129 \nQ 1250 4750 2034 4750 \nz\n\" id=\"DejaVuSans-30\" transform=\"scale(0.015625)\"/>\n        <path d=\"M 684 794 \nL 1344 794 \nL 1344 0 \nL 684 0 \nL 684 794 \nz\n\" id=\"DejaVuSans-2e\" transform=\"scale(0.015625)\"/>\n        <path d=\"M 2113 2584 \nQ 1688 2584 1439 2293 \nQ 1191 2003 1191 1497 \nQ 1191 994 1439 701 \nQ 1688 409 2113 409 \nQ 2538 409 2786 701 \nQ 3034 994 3034 1497 \nQ 3034 2003 2786 2293 \nQ 2538 2584 2113 2584 \nz\nM 3366 4563 \nL 3366 3988 \nQ 3128 4100 2886 4159 \nQ 2644 4219 2406 4219 \nQ 1781 4219 1451 3797 \nQ 1122 3375 1075 2522 \nQ 1259 2794 1537 2939 \nQ 1816 3084 2150 3084 \nQ 2853 3084 3261 2657 \nQ 3669 2231 3669 1497 \nQ 3669 778 3244 343 \nQ 2819 -91 2113 -91 \nQ 1303 -91 875 529 \nQ 447 1150 447 2328 \nQ 447 3434 972 4092 \nQ 1497 4750 2381 4750 \nQ 2619 4750 2861 4703 \nQ 3103 4656 3366 4563 \nz\n\" id=\"DejaVuSans-36\" transform=\"scale(0.015625)\"/>\n       </defs>\n       <use xlink:href=\"#DejaVuSans-30\"/>\n       <use x=\"63.623047\" xlink:href=\"#DejaVuSans-2e\"/>\n       <use x=\"95.410156\" xlink:href=\"#DejaVuSans-36\"/>\n      </g>\n     </g>\n    </g>\n    <g id=\"xtick_2\">\n     <g id=\"text_2\">\n      <!-- 0.8 -->\n      <g style=\"fill:#262626;\" transform=\"translate(170.616715 275.433338)rotate(-45)scale(0.1 -0.1)\">\n       <defs>\n        <path d=\"M 2034 2216 \nQ 1584 2216 1326 1975 \nQ 1069 1734 1069 1313 \nQ 1069 891 1326 650 \nQ 1584 409 2034 409 \nQ 2484 409 2743 651 \nQ 3003 894 3003 1313 \nQ 3003 1734 2745 1975 \nQ 2488 2216 2034 2216 \nz\nM 1403 2484 \nQ 997 2584 770 2862 \nQ 544 3141 544 3541 \nQ 544 4100 942 4425 \nQ 1341 4750 2034 4750 \nQ 2731 4750 3128 4425 \nQ 3525 4100 3525 3541 \nQ 3525 3141 3298 2862 \nQ 3072 2584 2669 2484 \nQ 3125 2378 3379 2068 \nQ 3634 1759 3634 1313 \nQ 3634 634 3220 271 \nQ 2806 -91 2034 -91 \nQ 1263 -91 848 271 \nQ 434 634 434 1313 \nQ 434 1759 690 2068 \nQ 947 2378 1403 2484 \nz\nM 1172 3481 \nQ 1172 3119 1398 2916 \nQ 1625 2713 2034 2713 \nQ 2441 2713 2670 2916 \nQ 2900 3119 2900 3481 \nQ 2900 3844 2670 4047 \nQ 2441 4250 2034 4250 \nQ 1625 4250 1398 4047 \nQ 1172 3844 1172 3481 \nz\n\" id=\"DejaVuSans-38\" transform=\"scale(0.015625)\"/>\n       </defs>\n       <use xlink:href=\"#DejaVuSans-30\"/>\n       <use x=\"63.623047\" xlink:href=\"#DejaVuSans-2e\"/>\n       <use x=\"95.410156\" xlink:href=\"#DejaVuSans-38\"/>\n      </g>\n     </g>\n    </g>\n    <g id=\"xtick_3\">\n     <g id=\"text_3\">\n      <!-- 1.0 -->\n      <g style=\"fill:#262626;\" transform=\"translate(229.894552 275.433338)rotate(-45)scale(0.1 -0.1)\">\n       <defs>\n        <path d=\"M 794 531 \nL 1825 531 \nL 1825 4091 \nL 703 3866 \nL 703 4441 \nL 1819 4666 \nL 2450 4666 \nL 2450 531 \nL 3481 531 \nL 3481 0 \nL 794 0 \nL 794 531 \nz\n\" id=\"DejaVuSans-31\" transform=\"scale(0.015625)\"/>\n       </defs>\n       <use xlink:href=\"#DejaVuSans-31\"/>\n       <use x=\"63.623047\" xlink:href=\"#DejaVuSans-2e\"/>\n       <use x=\"95.410156\" xlink:href=\"#DejaVuSans-30\"/>\n      </g>\n     </g>\n    </g>\n    <g id=\"xtick_4\">\n     <g id=\"text_4\">\n      <!-- 1.2 -->\n      <g style=\"fill:#262626;\" transform=\"translate(289.17239 275.433338)rotate(-45)scale(0.1 -0.1)\">\n       <defs>\n        <path d=\"M 1228 531 \nL 3431 531 \nL 3431 0 \nL 469 0 \nL 469 531 \nQ 828 903 1448 1529 \nQ 2069 2156 2228 2338 \nQ 2531 2678 2651 2914 \nQ 2772 3150 2772 3378 \nQ 2772 3750 2511 3984 \nQ 2250 4219 1831 4219 \nQ 1534 4219 1204 4116 \nQ 875 4013 500 3803 \nL 500 4441 \nQ 881 4594 1212 4672 \nQ 1544 4750 1819 4750 \nQ 2544 4750 2975 4387 \nQ 3406 4025 3406 3419 \nQ 3406 3131 3298 2873 \nQ 3191 2616 2906 2266 \nQ 2828 2175 2409 1742 \nQ 1991 1309 1228 531 \nz\n\" id=\"DejaVuSans-32\" transform=\"scale(0.015625)\"/>\n       </defs>\n       <use xlink:href=\"#DejaVuSans-31\"/>\n       <use x=\"63.623047\" xlink:href=\"#DejaVuSans-2e\"/>\n       <use x=\"95.410156\" xlink:href=\"#DejaVuSans-32\"/>\n      </g>\n     </g>\n    </g>\n    <g id=\"xtick_5\">\n     <g id=\"text_5\">\n      <!-- 1.4 -->\n      <g style=\"fill:#262626;\" transform=\"translate(348.450228 275.433338)rotate(-45)scale(0.1 -0.1)\">\n       <defs>\n        <path d=\"M 2419 4116 \nL 825 1625 \nL 2419 1625 \nL 2419 4116 \nz\nM 2253 4666 \nL 3047 4666 \nL 3047 1625 \nL 3713 1625 \nL 3713 1100 \nL 3047 1100 \nL 3047 0 \nL 2419 0 \nL 2419 1100 \nL 313 1100 \nL 313 1709 \nL 2253 4666 \nz\n\" id=\"DejaVuSans-34\" transform=\"scale(0.015625)\"/>\n       </defs>\n       <use xlink:href=\"#DejaVuSans-31\"/>\n       <use x=\"63.623047\" xlink:href=\"#DejaVuSans-2e\"/>\n       <use x=\"95.410156\" xlink:href=\"#DejaVuSans-34\"/>\n      </g>\n     </g>\n    </g>\n    <g id=\"xtick_6\">\n     <g id=\"text_6\">\n      <!-- 1.6 -->\n      <g style=\"fill:#262626;\" transform=\"translate(407.728066 275.433338)rotate(-45)scale(0.1 -0.1)\">\n       <use xlink:href=\"#DejaVuSans-31\"/>\n       <use x=\"63.623047\" xlink:href=\"#DejaVuSans-2e\"/>\n       <use x=\"95.410156\" xlink:href=\"#DejaVuSans-36\"/>\n      </g>\n     </g>\n    </g>\n   </g>\n   <g id=\"matplotlib.axis_2\">\n    <g id=\"ytick_1\">\n     <g id=\"text_7\">\n      <!-- 0.00 -->\n      <g style=\"fill:#262626;\" transform=\"translate(24.909375 252.114442)scale(0.1 -0.1)\">\n       <use xlink:href=\"#DejaVuSans-30\"/>\n       <use x=\"63.623047\" xlink:href=\"#DejaVuSans-2e\"/>\n       <use x=\"95.410156\" xlink:href=\"#DejaVuSans-30\"/>\n       <use x=\"159.033203\" xlink:href=\"#DejaVuSans-30\"/>\n      </g>\n     </g>\n    </g>\n    <g id=\"ytick_2\">\n     <g id=\"text_8\">\n      <!-- 0.25 -->\n      <g style=\"fill:#262626;\" transform=\"translate(24.909375 223.838821)scale(0.1 -0.1)\">\n       <defs>\n        <path d=\"M 691 4666 \nL 3169 4666 \nL 3169 4134 \nL 1269 4134 \nL 1269 2991 \nQ 1406 3038 1543 3061 \nQ 1681 3084 1819 3084 \nQ 2600 3084 3056 2656 \nQ 3513 2228 3513 1497 \nQ 3513 744 3044 326 \nQ 2575 -91 1722 -91 \nQ 1428 -91 1123 -41 \nQ 819 9 494 109 \nL 494 744 \nQ 775 591 1075 516 \nQ 1375 441 1709 441 \nQ 2250 441 2565 725 \nQ 2881 1009 2881 1497 \nQ 2881 1984 2565 2268 \nQ 2250 2553 1709 2553 \nQ 1456 2553 1204 2497 \nQ 953 2441 691 2322 \nL 691 4666 \nz\n\" id=\"DejaVuSans-35\" transform=\"scale(0.015625)\"/>\n       </defs>\n       <use xlink:href=\"#DejaVuSans-30\"/>\n       <use x=\"63.623047\" xlink:href=\"#DejaVuSans-2e\"/>\n       <use x=\"95.410156\" xlink:href=\"#DejaVuSans-32\"/>\n       <use x=\"159.033203\" xlink:href=\"#DejaVuSans-35\"/>\n      </g>\n     </g>\n    </g>\n    <g id=\"ytick_3\">\n     <g id=\"text_9\">\n      <!-- 0.50 -->\n      <g style=\"fill:#262626;\" transform=\"translate(24.909375 195.563199)scale(0.1 -0.1)\">\n       <use xlink:href=\"#DejaVuSans-30\"/>\n       <use x=\"63.623047\" xlink:href=\"#DejaVuSans-2e\"/>\n       <use x=\"95.410156\" xlink:href=\"#DejaVuSans-35\"/>\n       <use x=\"159.033203\" xlink:href=\"#DejaVuSans-30\"/>\n      </g>\n     </g>\n    </g>\n    <g id=\"ytick_4\">\n     <g id=\"text_10\">\n      <!-- 0.75 -->\n      <g style=\"fill:#262626;\" transform=\"translate(24.909375 167.287577)scale(0.1 -0.1)\">\n       <defs>\n        <path d=\"M 525 4666 \nL 3525 4666 \nL 3525 4397 \nL 1831 0 \nL 1172 0 \nL 2766 4134 \nL 525 4134 \nL 525 4666 \nz\n\" id=\"DejaVuSans-37\" transform=\"scale(0.015625)\"/>\n       </defs>\n       <use xlink:href=\"#DejaVuSans-30\"/>\n       <use x=\"63.623047\" xlink:href=\"#DejaVuSans-2e\"/>\n       <use x=\"95.410156\" xlink:href=\"#DejaVuSans-37\"/>\n       <use x=\"159.033203\" xlink:href=\"#DejaVuSans-35\"/>\n      </g>\n     </g>\n    </g>\n    <g id=\"ytick_5\">\n     <g id=\"text_11\">\n      <!-- 1.00 -->\n      <g style=\"fill:#262626;\" transform=\"translate(24.909375 139.011955)scale(0.1 -0.1)\">\n       <use xlink:href=\"#DejaVuSans-31\"/>\n       <use x=\"63.623047\" xlink:href=\"#DejaVuSans-2e\"/>\n       <use x=\"95.410156\" xlink:href=\"#DejaVuSans-30\"/>\n       <use x=\"159.033203\" xlink:href=\"#DejaVuSans-30\"/>\n      </g>\n     </g>\n    </g>\n    <g id=\"ytick_6\">\n     <g id=\"text_12\">\n      <!-- 1.25 -->\n      <g style=\"fill:#262626;\" transform=\"translate(24.909375 110.736333)scale(0.1 -0.1)\">\n       <use xlink:href=\"#DejaVuSans-31\"/>\n       <use x=\"63.623047\" xlink:href=\"#DejaVuSans-2e\"/>\n       <use x=\"95.410156\" xlink:href=\"#DejaVuSans-32\"/>\n       <use x=\"159.033203\" xlink:href=\"#DejaVuSans-35\"/>\n      </g>\n     </g>\n    </g>\n    <g id=\"ytick_7\">\n     <g id=\"text_13\">\n      <!-- 1.50 -->\n      <g style=\"fill:#262626;\" transform=\"translate(24.909375 82.460711)scale(0.1 -0.1)\">\n       <use xlink:href=\"#DejaVuSans-31\"/>\n       <use x=\"63.623047\" xlink:href=\"#DejaVuSans-2e\"/>\n       <use x=\"95.410156\" xlink:href=\"#DejaVuSans-35\"/>\n       <use x=\"159.033203\" xlink:href=\"#DejaVuSans-30\"/>\n      </g>\n     </g>\n    </g>\n    <g id=\"ytick_8\">\n     <g id=\"text_14\">\n      <!-- 1.75 -->\n      <g style=\"fill:#262626;\" transform=\"translate(24.909375 54.185089)scale(0.1 -0.1)\">\n       <use xlink:href=\"#DejaVuSans-31\"/>\n       <use x=\"63.623047\" xlink:href=\"#DejaVuSans-2e\"/>\n       <use x=\"95.410156\" xlink:href=\"#DejaVuSans-37\"/>\n       <use x=\"159.033203\" xlink:href=\"#DejaVuSans-35\"/>\n      </g>\n     </g>\n    </g>\n    <g id=\"ytick_9\">\n     <g id=\"text_15\">\n      <!-- 2.00 -->\n      <g style=\"fill:#262626;\" transform=\"translate(24.909375 25.909467)scale(0.1 -0.1)\">\n       <use xlink:href=\"#DejaVuSans-32\"/>\n       <use x=\"63.623047\" xlink:href=\"#DejaVuSans-2e\"/>\n       <use x=\"95.410156\" xlink:href=\"#DejaVuSans-30\"/>\n       <use x=\"159.033203\" xlink:href=\"#DejaVuSans-30\"/>\n      </g>\n     </g>\n    </g>\n    <g id=\"text_16\">\n     <!-- Frequency -->\n     <g style=\"fill:#262626;\" transform=\"translate(18.621719 157.970268)rotate(-90)scale(0.11 -0.11)\">\n      <defs>\n       <path d=\"M 628 4666 \nL 3309 4666 \nL 3309 4134 \nL 1259 4134 \nL 1259 2759 \nL 3109 2759 \nL 3109 2228 \nL 1259 2228 \nL 1259 0 \nL 628 0 \nL 628 4666 \nz\n\" id=\"DejaVuSans-46\" transform=\"scale(0.015625)\"/>\n       <path d=\"M 2631 2963 \nQ 2534 3019 2420 3045 \nQ 2306 3072 2169 3072 \nQ 1681 3072 1420 2755 \nQ 1159 2438 1159 1844 \nL 1159 0 \nL 581 0 \nL 581 3500 \nL 1159 3500 \nL 1159 2956 \nQ 1341 3275 1631 3429 \nQ 1922 3584 2338 3584 \nQ 2397 3584 2469 3576 \nQ 2541 3569 2628 3553 \nL 2631 2963 \nz\n\" id=\"DejaVuSans-72\" transform=\"scale(0.015625)\"/>\n       <path d=\"M 3597 1894 \nL 3597 1613 \nL 953 1613 \nQ 991 1019 1311 708 \nQ 1631 397 2203 397 \nQ 2534 397 2845 478 \nQ 3156 559 3463 722 \nL 3463 178 \nQ 3153 47 2828 -22 \nQ 2503 -91 2169 -91 \nQ 1331 -91 842 396 \nQ 353 884 353 1716 \nQ 353 2575 817 3079 \nQ 1281 3584 2069 3584 \nQ 2775 3584 3186 3129 \nQ 3597 2675 3597 1894 \nz\nM 3022 2063 \nQ 3016 2534 2758 2815 \nQ 2500 3097 2075 3097 \nQ 1594 3097 1305 2825 \nQ 1016 2553 972 2059 \nL 3022 2063 \nz\n\" id=\"DejaVuSans-65\" transform=\"scale(0.015625)\"/>\n       <path d=\"M 947 1747 \nQ 947 1113 1208 752 \nQ 1469 391 1925 391 \nQ 2381 391 2643 752 \nQ 2906 1113 2906 1747 \nQ 2906 2381 2643 2742 \nQ 2381 3103 1925 3103 \nQ 1469 3103 1208 2742 \nQ 947 2381 947 1747 \nz\nM 2906 525 \nQ 2725 213 2448 61 \nQ 2172 -91 1784 -91 \nQ 1150 -91 751 415 \nQ 353 922 353 1747 \nQ 353 2572 751 3078 \nQ 1150 3584 1784 3584 \nQ 2172 3584 2448 3432 \nQ 2725 3281 2906 2969 \nL 2906 3500 \nL 3481 3500 \nL 3481 -1331 \nL 2906 -1331 \nL 2906 525 \nz\n\" id=\"DejaVuSans-71\" transform=\"scale(0.015625)\"/>\n       <path d=\"M 544 1381 \nL 544 3500 \nL 1119 3500 \nL 1119 1403 \nQ 1119 906 1312 657 \nQ 1506 409 1894 409 \nQ 2359 409 2629 706 \nQ 2900 1003 2900 1516 \nL 2900 3500 \nL 3475 3500 \nL 3475 0 \nL 2900 0 \nL 2900 538 \nQ 2691 219 2414 64 \nQ 2138 -91 1772 -91 \nQ 1169 -91 856 284 \nQ 544 659 544 1381 \nz\nM 1991 3584 \nL 1991 3584 \nz\n\" id=\"DejaVuSans-75\" transform=\"scale(0.015625)\"/>\n       <path d=\"M 3513 2113 \nL 3513 0 \nL 2938 0 \nL 2938 2094 \nQ 2938 2591 2744 2837 \nQ 2550 3084 2163 3084 \nQ 1697 3084 1428 2787 \nQ 1159 2491 1159 1978 \nL 1159 0 \nL 581 0 \nL 581 3500 \nL 1159 3500 \nL 1159 2956 \nQ 1366 3272 1645 3428 \nQ 1925 3584 2291 3584 \nQ 2894 3584 3203 3211 \nQ 3513 2838 3513 2113 \nz\n\" id=\"DejaVuSans-6e\" transform=\"scale(0.015625)\"/>\n       <path d=\"M 3122 3366 \nL 3122 2828 \nQ 2878 2963 2633 3030 \nQ 2388 3097 2138 3097 \nQ 1578 3097 1268 2742 \nQ 959 2388 959 1747 \nQ 959 1106 1268 751 \nQ 1578 397 2138 397 \nQ 2388 397 2633 464 \nQ 2878 531 3122 666 \nL 3122 134 \nQ 2881 22 2623 -34 \nQ 2366 -91 2075 -91 \nQ 1284 -91 818 406 \nQ 353 903 353 1747 \nQ 353 2603 823 3093 \nQ 1294 3584 2113 3584 \nQ 2378 3584 2631 3529 \nQ 2884 3475 3122 3366 \nz\n\" id=\"DejaVuSans-63\" transform=\"scale(0.015625)\"/>\n       <path d=\"M 2059 -325 \nQ 1816 -950 1584 -1140 \nQ 1353 -1331 966 -1331 \nL 506 -1331 \nL 506 -850 \nL 844 -850 \nQ 1081 -850 1212 -737 \nQ 1344 -625 1503 -206 \nL 1606 56 \nL 191 3500 \nL 800 3500 \nL 1894 763 \nL 2988 3500 \nL 3597 3500 \nL 2059 -325 \nz\n\" id=\"DejaVuSans-79\" transform=\"scale(0.015625)\"/>\n      </defs>\n      <use xlink:href=\"#DejaVuSans-46\"/>\n      <use x=\"50.269531\" xlink:href=\"#DejaVuSans-72\"/>\n      <use x=\"89.132812\" xlink:href=\"#DejaVuSans-65\"/>\n      <use x=\"150.65625\" xlink:href=\"#DejaVuSans-71\"/>\n      <use x=\"214.132812\" xlink:href=\"#DejaVuSans-75\"/>\n      <use x=\"277.511719\" xlink:href=\"#DejaVuSans-65\"/>\n      <use x=\"339.035156\" xlink:href=\"#DejaVuSans-6e\"/>\n      <use x=\"402.414062\" xlink:href=\"#DejaVuSans-63\"/>\n      <use x=\"457.394531\" xlink:href=\"#DejaVuSans-79\"/>\n     </g>\n    </g>\n   </g>\n   <g id=\"patch_3\">\n    <path clip-path=\"url(#p1b62f89684)\" d=\"M 74.123058 248.315224 \nL 128.949918 248.315224 \nL 128.949918 22.110249 \nL 74.123058 22.110249 \nz\n\" style=\"fill:#337ab7;stroke:#ffffff;stroke-linejoin:miter;stroke-width:0.3;\"/>\n   </g>\n   <g id=\"patch_4\">\n    <path clip-path=\"url(#p1b62f89684)\" d=\"M 128.949918 248.315224 \nL 183.776778 248.315224 \nL 183.776778 135.212736 \nL 128.949918 135.212736 \nz\n\" style=\"fill:#337ab7;stroke:#ffffff;stroke-linejoin:miter;stroke-width:0.3;\"/>\n   </g>\n   <g id=\"patch_5\">\n    <path clip-path=\"url(#p1b62f89684)\" d=\"M 183.776778 248.315224 \nL 238.603639 248.315224 \nL 238.603639 248.315224 \nL 183.776778 248.315224 \nz\n\" style=\"fill:#337ab7;stroke:#ffffff;stroke-linejoin:miter;stroke-width:0.3;\"/>\n   </g>\n   <g id=\"patch_6\">\n    <path clip-path=\"url(#p1b62f89684)\" d=\"M 238.603639 248.315224 \nL 293.430499 248.315224 \nL 293.430499 248.315224 \nL 238.603639 248.315224 \nz\n\" style=\"fill:#337ab7;stroke:#ffffff;stroke-linejoin:miter;stroke-width:0.3;\"/>\n   </g>\n   <g id=\"patch_7\">\n    <path clip-path=\"url(#p1b62f89684)\" d=\"M 293.430499 248.315224 \nL 348.257359 248.315224 \nL 348.257359 135.212736 \nL 293.430499 135.212736 \nz\n\" style=\"fill:#337ab7;stroke:#ffffff;stroke-linejoin:miter;stroke-width:0.3;\"/>\n   </g>\n   <g id=\"patch_8\">\n    <path clip-path=\"url(#p1b62f89684)\" d=\"M 348.257359 248.315224 \nL 403.084219 248.315224 \nL 403.084219 22.110249 \nL 348.257359 22.110249 \nz\n\" style=\"fill:#337ab7;stroke:#ffffff;stroke-linejoin:miter;stroke-width:0.3;\"/>\n   </g>\n   <g id=\"patch_9\">\n    <path d=\"M 57.675 248.315224 \nL 57.675 10.8 \n\" style=\"fill:none;\"/>\n   </g>\n   <g id=\"patch_10\">\n    <path d=\"M 419.532277 248.315224 \nL 419.532277 10.8 \n\" style=\"fill:none;\"/>\n   </g>\n   <g id=\"patch_11\">\n    <path d=\"M 57.675 248.315224 \nL 419.532277 248.315224 \n\" style=\"fill:none;\"/>\n   </g>\n   <g id=\"patch_12\">\n    <path d=\"M 57.675 10.8 \nL 419.532277 10.8 \n\" style=\"fill:none;\"/>\n   </g>\n  </g>\n </g>\n <defs>\n  <clipPath id=\"p1b62f89684\">\n   <rect height=\"237.515224\" width=\"361.857277\" x=\"57.675\" y=\"10.8\"/>\n  </clipPath>\n </defs>\n</svg>\n"
      }
     },
     "1801d024ffed4f99a88f2cac7ce19291": {
      "model_module": "@jupyter-widgets/base",
      "model_module_version": "1.2.0",
      "model_name": "LayoutModel",
      "state": {
       "grid_template_areas": "\"widget001 widget002\"\n\"widget003 widget004\"\n\"widget005 widget006\"\n\"widget007 widget008\"\n\"widget009 widget010\"\n\"widget011 widget012\"\n\"widget013 widget014\"\n\"widget015 widget016\"\n\"widget017 widget018\"",
       "grid_template_columns": "repeat(2, 1fr)",
       "grid_template_rows": "repeat(9, 1fr)"
      }
     },
     "182a4b40ccbd48cf9a8ca8b9216b7d7f": {
      "model_module": "@jupyter-widgets/base",
      "model_module_version": "1.2.0",
      "model_name": "LayoutModel",
      "state": {
       "grid_area": "widget007"
      }
     },
     "185372e7a4b04a82ac460b8f89c47593": {
      "model_module": "@jupyter-widgets/base",
      "model_module_version": "1.2.0",
      "model_name": "LayoutModel",
      "state": {
       "grid_area": "widget004"
      }
     },
     "1862bf5a89ce47ea89abf53e9b5219d8": {
      "model_module": "@jupyter-widgets/controls",
      "model_module_version": "1.5.0",
      "model_name": "GridBoxModel",
      "state": {
       "children": [
        "IPY_MODEL_4c864ed89d834cb4b741bf17976ecf1c",
        "IPY_MODEL_58ae48a9899b452697dbb46a96c05d66",
        "IPY_MODEL_069379227e0347eb979f596fbedc8ef2",
        "IPY_MODEL_1fe99edb272149a49b9042960721e3d3",
        "IPY_MODEL_caf240911a4141699c332e5c93147444",
        "IPY_MODEL_216e2e46444f4e9c8f19920240ad9b6f",
        "IPY_MODEL_26129a0f6b34465c92754e93a9af9c4c",
        "IPY_MODEL_19a5352847fb46d0a78af8f7ae65eb6a",
        "IPY_MODEL_399500797b3841e285804faab9deaa75",
        "IPY_MODEL_107e4107f5b04701897d8b75753a85a1",
        "IPY_MODEL_a1244d26b8544e01aa7919220029b10c",
        "IPY_MODEL_ed2b9c83734c4b77a94e3df4e18c5a2f",
        "IPY_MODEL_db1f21b4c09741c8821b61b51844b86e",
        "IPY_MODEL_08c78837de524efcbf41c274bed311d6"
       ],
       "layout": "IPY_MODEL_245ccfd5e951436aa6ab33b639d623bb"
      }
     },
     "1879582525b24659869396f8d676b34c": {
      "model_module": "@jupyter-widgets/controls",
      "model_module_version": "1.5.0",
      "model_name": "GridBoxModel",
      "state": {
       "children": [
        "IPY_MODEL_7b9c25241bd04c21be6cdfd6c07e4eee",
        "IPY_MODEL_e172c956c14c45a8a3c536aba0eb14aa",
        "IPY_MODEL_827a19fc5af44a7892f41b2ab6e23b00",
        "IPY_MODEL_1dd081aa74b046b3bebb2f52ec07c2e3"
       ],
       "layout": "IPY_MODEL_62cc565fae43477d903b4f72f9f4e107"
      }
     },
     "19303781461243199416375455ffa989": {
      "model_module": "@jupyter-widgets/controls",
      "model_module_version": "1.5.0",
      "model_name": "HTMLModel",
      "state": {
       "layout": "IPY_MODEL_4120d992ceac4038bacfc24aa503a203",
       "style": "IPY_MODEL_781f83aedd53420581d2382a92f16776",
       "value": "<?xml version=\"1.0\" encoding=\"utf-8\" standalone=\"no\"?>\n<!DOCTYPE svg style=\"max-width: 100%\" PUBLIC \"-//W3C//DTD SVG 1.1//EN\"\n  \"http://www.w3.org/Graphics/SVG/1.1/DTD/svg11.dtd\">\n<svg style=\"max-width: 100%\"  version=\"1.1\" viewBox=\"0 0 216 162\" width=\"216pt\" xmlns=\"http://www.w3.org/2000/svg\" xmlns:xlink=\"http://www.w3.org/1999/xlink\">\n <metadata>\n  <rdf:RDF xmlns:cc=\"http://creativecommons.org/ns#\" xmlns:dc=\"http://purl.org/dc/elements/1.1/\" xmlns:rdf=\"http://www.w3.org/1999/02/22-rdf-syntax-ns#\">\n   <cc:Work>\n    <dc:type rdf:resource=\"http://purl.org/dc/dcmitype/StillImage\"/>\n    <dc:date>2022-10-01T17:17:59.009704</dc:date>\n    <dc:format>image/svg+xml</dc:format>\n    <dc:creator>\n     <cc:Agent>\n      <dc:title>Matplotlib v3.4.3, https://matplotlib.org/</dc:title>\n     </cc:Agent>\n    </dc:creator>\n   </cc:Work>\n  </rdf:RDF>\n </metadata>\n <defs>\n  <style type=\"text/css\">*{stroke-linecap:butt;stroke-linejoin:round;}</style>\n </defs>\n <g id=\"figure_1\">\n  <g id=\"patch_1\">\n   <path d=\"M 0 162 \nL 216 162 \nL 216 0 \nL 0 0 \nz\n\" style=\"fill:#ffffff;\"/>\n  </g>\n  <g id=\"axes_1\">\n   <g id=\"patch_2\">\n    <path d=\"M 10.8 125.939146 \nL 205.2 125.939146 \nL 205.2 10.8 \nL 10.8 10.8 \nz\n\" style=\"fill:#ffffff;\"/>\n   </g>\n   <g id=\"matplotlib.axis_1\">\n    <g id=\"xtick_1\">\n     <g id=\"text_1\">\n      <!-- −1.0 -->\n      <g style=\"fill:#262626;\" transform=\"translate(21.584336 154.473904)rotate(-45)scale(0.08 -0.08)\">\n       <defs>\n        <path d=\"M 678 2272 \nL 4684 2272 \nL 4684 1741 \nL 678 1741 \nL 678 2272 \nz\n\" id=\"DejaVuSans-2212\" transform=\"scale(0.015625)\"/>\n        <path d=\"M 794 531 \nL 1825 531 \nL 1825 4091 \nL 703 3866 \nL 703 4441 \nL 1819 4666 \nL 2450 4666 \nL 2450 531 \nL 3481 531 \nL 3481 0 \nL 794 0 \nL 794 531 \nz\n\" id=\"DejaVuSans-31\" transform=\"scale(0.015625)\"/>\n        <path d=\"M 684 794 \nL 1344 794 \nL 1344 0 \nL 684 0 \nL 684 794 \nz\n\" id=\"DejaVuSans-2e\" transform=\"scale(0.015625)\"/>\n        <path d=\"M 2034 4250 \nQ 1547 4250 1301 3770 \nQ 1056 3291 1056 2328 \nQ 1056 1369 1301 889 \nQ 1547 409 2034 409 \nQ 2525 409 2770 889 \nQ 3016 1369 3016 2328 \nQ 3016 3291 2770 3770 \nQ 2525 4250 2034 4250 \nz\nM 2034 4750 \nQ 2819 4750 3233 4129 \nQ 3647 3509 3647 2328 \nQ 3647 1150 3233 529 \nQ 2819 -91 2034 -91 \nQ 1250 -91 836 529 \nQ 422 1150 422 2328 \nQ 422 3509 836 4129 \nQ 1250 4750 2034 4750 \nz\n\" id=\"DejaVuSans-30\" transform=\"scale(0.015625)\"/>\n       </defs>\n       <use xlink:href=\"#DejaVuSans-2212\"/>\n       <use x=\"83.789062\" xlink:href=\"#DejaVuSans-31\"/>\n       <use x=\"147.412109\" xlink:href=\"#DejaVuSans-2e\"/>\n       <use x=\"179.199219\" xlink:href=\"#DejaVuSans-30\"/>\n      </g>\n     </g>\n    </g>\n    <g id=\"xtick_2\">\n     <g id=\"text_2\">\n      <!-- −0.5 -->\n      <g style=\"fill:#262626;\" transform=\"translate(55.216395 154.473904)rotate(-45)scale(0.08 -0.08)\">\n       <defs>\n        <path d=\"M 691 4666 \nL 3169 4666 \nL 3169 4134 \nL 1269 4134 \nL 1269 2991 \nQ 1406 3038 1543 3061 \nQ 1681 3084 1819 3084 \nQ 2600 3084 3056 2656 \nQ 3513 2228 3513 1497 \nQ 3513 744 3044 326 \nQ 2575 -91 1722 -91 \nQ 1428 -91 1123 -41 \nQ 819 9 494 109 \nL 494 744 \nQ 775 591 1075 516 \nQ 1375 441 1709 441 \nQ 2250 441 2565 725 \nQ 2881 1009 2881 1497 \nQ 2881 1984 2565 2268 \nQ 2250 2553 1709 2553 \nQ 1456 2553 1204 2497 \nQ 953 2441 691 2322 \nL 691 4666 \nz\n\" id=\"DejaVuSans-35\" transform=\"scale(0.015625)\"/>\n       </defs>\n       <use xlink:href=\"#DejaVuSans-2212\"/>\n       <use x=\"83.789062\" xlink:href=\"#DejaVuSans-30\"/>\n       <use x=\"147.412109\" xlink:href=\"#DejaVuSans-2e\"/>\n       <use x=\"179.199219\" xlink:href=\"#DejaVuSans-35\"/>\n      </g>\n     </g>\n    </g>\n    <g id=\"xtick_3\">\n     <g id=\"text_3\">\n      <!-- 0.0 -->\n      <g style=\"fill:#262626;\" transform=\"translate(91.218588 149.733637)rotate(-45)scale(0.08 -0.08)\">\n       <use xlink:href=\"#DejaVuSans-30\"/>\n       <use x=\"63.623047\" xlink:href=\"#DejaVuSans-2e\"/>\n       <use x=\"95.410156\" xlink:href=\"#DejaVuSans-30\"/>\n      </g>\n     </g>\n    </g>\n    <g id=\"xtick_4\">\n     <g id=\"text_4\">\n      <!-- 0.5 -->\n      <g style=\"fill:#262626;\" transform=\"translate(124.850647 149.733637)rotate(-45)scale(0.08 -0.08)\">\n       <use xlink:href=\"#DejaVuSans-30\"/>\n       <use x=\"63.623047\" xlink:href=\"#DejaVuSans-2e\"/>\n       <use x=\"95.410156\" xlink:href=\"#DejaVuSans-35\"/>\n      </g>\n     </g>\n    </g>\n    <g id=\"xtick_5\">\n     <g id=\"text_5\">\n      <!-- 1.0 -->\n      <g style=\"fill:#262626;\" transform=\"translate(158.482706 149.733637)rotate(-45)scale(0.08 -0.08)\">\n       <use xlink:href=\"#DejaVuSans-31\"/>\n       <use x=\"63.623047\" xlink:href=\"#DejaVuSans-2e\"/>\n       <use x=\"95.410156\" xlink:href=\"#DejaVuSans-30\"/>\n      </g>\n     </g>\n    </g>\n    <g id=\"xtick_6\">\n     <g id=\"text_6\">\n      <!-- 1.5 -->\n      <g style=\"fill:#262626;\" transform=\"translate(192.114765 149.733637)rotate(-45)scale(0.08 -0.08)\">\n       <use xlink:href=\"#DejaVuSans-31\"/>\n       <use x=\"63.623047\" xlink:href=\"#DejaVuSans-2e\"/>\n       <use x=\"95.410156\" xlink:href=\"#DejaVuSans-35\"/>\n      </g>\n     </g>\n    </g>\n   </g>\n   <g id=\"patch_3\">\n    <path clip-path=\"url(#p5ac70d19d0)\" d=\"M 19.636364 125.939146 \nL 49.090909 125.939146 \nL 49.090909 16.282816 \nL 19.636364 16.282816 \nz\n\" style=\"fill:#337ab7;stroke:#ffffff;stroke-linejoin:miter;stroke-width:0.3;\"/>\n   </g>\n   <g id=\"patch_4\">\n    <path clip-path=\"url(#p5ac70d19d0)\" d=\"M 49.090909 125.939146 \nL 78.545455 125.939146 \nL 78.545455 16.282816 \nL 49.090909 16.282816 \nz\n\" style=\"fill:#337ab7;stroke:#ffffff;stroke-linejoin:miter;stroke-width:0.3;\"/>\n   </g>\n   <g id=\"patch_5\">\n    <path clip-path=\"url(#p5ac70d19d0)\" d=\"M 78.545455 125.939146 \nL 108 125.939146 \nL 108 16.282816 \nL 78.545455 16.282816 \nz\n\" style=\"fill:#337ab7;stroke:#ffffff;stroke-linejoin:miter;stroke-width:0.3;\"/>\n   </g>\n   <g id=\"patch_6\">\n    <path clip-path=\"url(#p5ac70d19d0)\" d=\"M 108 125.939146 \nL 137.454545 125.939146 \nL 137.454545 16.282816 \nL 108 16.282816 \nz\n\" style=\"fill:#337ab7;stroke:#ffffff;stroke-linejoin:miter;stroke-width:0.3;\"/>\n   </g>\n   <g id=\"patch_7\">\n    <path clip-path=\"url(#p5ac70d19d0)\" d=\"M 137.454545 125.939146 \nL 166.909091 125.939146 \nL 166.909091 16.282816 \nL 137.454545 16.282816 \nz\n\" style=\"fill:#337ab7;stroke:#ffffff;stroke-linejoin:miter;stroke-width:0.3;\"/>\n   </g>\n   <g id=\"patch_8\">\n    <path clip-path=\"url(#p5ac70d19d0)\" d=\"M 166.909091 125.939146 \nL 196.363636 125.939146 \nL 196.363636 16.282816 \nL 166.909091 16.282816 \nz\n\" style=\"fill:#337ab7;stroke:#ffffff;stroke-linejoin:miter;stroke-width:0.3;\"/>\n   </g>\n   <g id=\"patch_9\">\n    <path d=\"M 10.8 125.939146 \nL 10.8 10.8 \n\" style=\"fill:none;\"/>\n   </g>\n   <g id=\"patch_10\">\n    <path d=\"M 205.2 125.939146 \nL 205.2 10.8 \n\" style=\"fill:none;\"/>\n   </g>\n   <g id=\"patch_11\">\n    <path d=\"M 10.8 125.939146 \nL 205.2 125.939146 \n\" style=\"fill:none;\"/>\n   </g>\n   <g id=\"patch_12\">\n    <path d=\"M 10.8 10.8 \nL 205.2 10.8 \n\" style=\"fill:none;\"/>\n   </g>\n  </g>\n </g>\n <defs>\n  <clipPath id=\"p5ac70d19d0\">\n   <rect height=\"115.139146\" width=\"194.4\" x=\"10.8\" y=\"10.8\"/>\n  </clipPath>\n </defs>\n</svg>\n"
      }
     },
     "196a2076ef9b4aa0924d0ff90ca89907": {
      "model_module": "@jupyter-widgets/controls",
      "model_module_version": "1.5.0",
      "model_name": "DescriptionStyleModel",
      "state": {
       "description_width": ""
      }
     },
     "199f81208949436da3846dcaa6202837": {
      "model_module": "@jupyter-widgets/controls",
      "model_module_version": "1.5.0",
      "model_name": "ButtonModel",
      "state": {
       "description": "High correlation",
       "disabled": true,
       "layout": "IPY_MODEL_c37b2e1f057d4d889dfcd6068c67b8ae",
       "style": "IPY_MODEL_a154881e60d649a3bffaef5a404b6aac"
      }
     },
     "19a5352847fb46d0a78af8f7ae65eb6a": {
      "model_module": "@jupyter-widgets/controls",
      "model_module_version": "1.5.0",
      "model_name": "HTMLModel",
      "state": {
       "layout": "IPY_MODEL_ae426450246c4cf48ced87a168a4fa44",
       "style": "IPY_MODEL_855d484dc6bb48c19135d777bcd4a623",
       "value": "<span style=\"color:var(--jp-error-color1)\">14.3%</span>"
      }
     },
     "19dc0e91609442769aa660a92195baf9": {
      "model_module": "@jupyter-widgets/controls",
      "model_module_version": "1.5.0",
      "model_name": "DescriptionStyleModel",
      "state": {
       "description_width": ""
      }
     },
     "1a4bcea1241142dbbd8170b5e0626a40": {
      "model_module": "@jupyter-widgets/controls",
      "model_module_version": "1.5.0",
      "model_name": "VBoxModel",
      "state": {
       "children": [
        "IPY_MODEL_3ccfc5c419e74b0ab116cda339b3506d",
        "IPY_MODEL_820a69eba75b46e9a9891ddd4b3a0ec4"
       ],
       "layout": "IPY_MODEL_50f9c4fcfcab4dac904ba251e4628d94"
      }
     },
     "1a6c9511efd94b81be1e859f491ed784": {
      "model_module": "@jupyter-widgets/controls",
      "model_module_version": "1.5.0",
      "model_name": "GridBoxModel",
      "state": {
       "children": [
        "IPY_MODEL_0d28c986d5ba442ab585edb580698dcc",
        "IPY_MODEL_d3273f08c5984549b963206333620655",
        "IPY_MODEL_f09e686902854ce89f41a2b469d49d92",
        "IPY_MODEL_20561c737da84f5faaa52db806a21b84",
        "IPY_MODEL_aa0bde8175734705b32aeacc01119a33",
        "IPY_MODEL_7e018362e6114c338dd8d8f30a82f04b",
        "IPY_MODEL_08fb49fe6efb452daa12d0c7972e069e",
        "IPY_MODEL_1f10bfb035674ea59a29ceaddd1596ab",
        "IPY_MODEL_eef6254dc14b4da6a5b6c22e084e142b",
        "IPY_MODEL_513ed89b724749c38743f24fb926cc0a",
        "IPY_MODEL_5ca28f7d271d4f0e879871116022b609",
        "IPY_MODEL_dd4d9d53c47643238efed7ed04cf33a3",
        "IPY_MODEL_d61c7ac405d14e19ba490bff10ddada7",
        "IPY_MODEL_28e93034042c4843ab43f4c702a51a6f",
        "IPY_MODEL_4da2ec05a6244c38be1a7217dea41a5c",
        "IPY_MODEL_57cc393ed8ad424e8d3df968b2c1eba9",
        "IPY_MODEL_03efafed81344840a1692e8aac77d25f",
        "IPY_MODEL_34cca3877cec4ec38f4bddfac44df688"
       ],
       "layout": "IPY_MODEL_30d70407e6424d9588db2c672c505b8b"
      }
     },
     "1a6f3aaef8b4448695be63794100bdcc": {
      "model_module": "@jupyter-widgets/controls",
      "model_module_version": "1.5.0",
      "model_name": "DescriptionStyleModel",
      "state": {
       "description_width": ""
      }
     },
     "1a9e7853f45846ddbff3b12c0116c851": {
      "model_module": "@jupyter-widgets/controls",
      "model_module_version": "1.5.0",
      "model_name": "DescriptionStyleModel",
      "state": {
       "description_width": ""
      }
     },
     "1aad7b63afe94b3b8f8950d13100a285": {
      "model_module": "@jupyter-widgets/controls",
      "model_module_version": "1.5.0",
      "model_name": "DescriptionStyleModel",
      "state": {
       "description_width": ""
      }
     },
     "1af6be07586e4942918556602874257d": {
      "model_module": "@jupyter-widgets/base",
      "model_module_version": "1.2.0",
      "model_name": "LayoutModel",
      "state": {}
     },
     "1b5d3252303548659de59f45c6569731": {
      "model_module": "@jupyter-widgets/base",
      "model_module_version": "1.2.0",
      "model_name": "LayoutModel",
      "state": {
       "grid_area": "widget014"
      }
     },
     "1b865cd942d449818d9ce3e361c17c38": {
      "model_module": "@jupyter-widgets/base",
      "model_module_version": "1.2.0",
      "model_name": "LayoutModel",
      "state": {
       "grid_area": "widget012"
      }
     },
     "1babeee859f24e67bf96761dbbbd1189": {
      "model_module": "@jupyter-widgets/base",
      "model_module_version": "1.2.0",
      "model_name": "LayoutModel",
      "state": {
       "grid_area": "widget007"
      }
     },
     "1bca635ba2ee49989566f644cd798ed5": {
      "model_module": "@jupyter-widgets/controls",
      "model_module_version": "1.5.0",
      "model_name": "DescriptionStyleModel",
      "state": {
       "description_width": ""
      }
     },
     "1bccd28863004a1fa33f9b3ecc0acf9d": {
      "model_module": "@jupyter-widgets/controls",
      "model_module_version": "1.5.0",
      "model_name": "DescriptionStyleModel",
      "state": {
       "description_width": ""
      }
     },
     "1c08924d47f1471a8e2bc754912f13d5": {
      "model_module": "@jupyter-widgets/controls",
      "model_module_version": "1.5.0",
      "model_name": "DescriptionStyleModel",
      "state": {
       "description_width": ""
      }
     },
     "1c1a946961254166b748451ab9dd03d6": {
      "model_module": "@jupyter-widgets/controls",
      "model_module_version": "1.5.0",
      "model_name": "DescriptionStyleModel",
      "state": {
       "description_width": ""
      }
     },
     "1c26ad0e491c421495c2a2f67e5abfc6": {
      "model_module": "@jupyter-widgets/base",
      "model_module_version": "1.2.0",
      "model_name": "LayoutModel",
      "state": {
       "grid_area": "widget002"
      }
     },
     "1c3e4a52fb534495914d9240ab3aa1c2": {
      "model_module": "@jupyter-widgets/controls",
      "model_module_version": "1.5.0",
      "model_name": "LabelModel",
      "state": {
       "layout": "IPY_MODEL_e9f5ecd676c346238af542d330b559e2",
       "style": "IPY_MODEL_30653345018344a19797379ab66e4f84",
       "value": "-1.2864397249060768"
      }
     },
     "1c66377d1fe94d64a3374f51bffda5d3": {
      "model_module": "@jupyter-widgets/controls",
      "model_module_version": "1.5.0",
      "model_name": "DescriptionStyleModel",
      "state": {
       "description_width": ""
      }
     },
     "1c78f923ee9e45b8ae97208beba947c6": {
      "model_module": "@jupyter-widgets/base",
      "model_module_version": "1.2.0",
      "model_name": "LayoutModel",
      "state": {
       "grid_area": "widget012"
      }
     },
     "1ca89315d54d475f9c6bcd343df28d9c": {
      "model_module": "@jupyter-widgets/base",
      "model_module_version": "1.2.0",
      "model_name": "LayoutModel",
      "state": {}
     },
     "1ce9ce895c0c4d288573c2f1880a6d6b": {
      "model_module": "@jupyter-widgets/controls",
      "model_module_version": "1.5.0",
      "model_name": "DescriptionStyleModel",
      "state": {
       "description_width": ""
      }
     },
     "1cf4bb387b0f45c4b69d41f56c4f3a19": {
      "model_module": "@jupyter-widgets/controls",
      "model_module_version": "1.5.0",
      "model_name": "LabelModel",
      "state": {
       "layout": "IPY_MODEL_6f62be8b97b34e59b005fea21f452f31",
       "style": "IPY_MODEL_1c08924d47f1471a8e2bc754912f13d5",
       "value": "0.9756665285884356"
      }
     },
     "1cfd374c41d24b6b8dd3ae540dd00e02": {
      "model_module": "@jupyter-widgets/controls",
      "model_module_version": "1.5.0",
      "model_name": "DescriptionStyleModel",
      "state": {
       "description_width": ""
      }
     },
     "1d2cd4dfd00f43edba8f66be59bd131f": {
      "model_module": "@jupyter-widgets/controls",
      "model_module_version": "1.5.0",
      "model_name": "DescriptionStyleModel",
      "state": {
       "description_width": ""
      }
     },
     "1d321fb6d5d9406282601ed83ea5455a": {
      "model_module": "@jupyter-widgets/controls",
      "model_module_version": "1.5.0",
      "model_name": "FloatProgressModel",
      "state": {
       "layout": "IPY_MODEL_efafad47dfbc47659d963569c306b084",
       "max": 7,
       "style": "IPY_MODEL_ba09ad33313d4448b9eb2677ba846aee",
       "value": 1
      }
     },
     "1dbb99a7aff846b88a1eff6584b6fcf6": {
      "model_module": "@jupyter-widgets/base",
      "model_module_version": "1.2.0",
      "model_name": "LayoutModel",
      "state": {
       "grid_area": "widget017"
      }
     },
     "1dbbe11975824d6983369c2479166bf0": {
      "model_module": "@jupyter-widgets/base",
      "model_module_version": "1.2.0",
      "model_name": "LayoutModel",
      "state": {
       "grid_area": "widget008"
      }
     },
     "1dc70ba59c334413ac515d43769a12f3": {
      "model_module": "@jupyter-widgets/base",
      "model_module_version": "1.2.0",
      "model_name": "LayoutModel",
      "state": {
       "display": "none"
      }
     },
     "1dd081aa74b046b3bebb2f52ec07c2e3": {
      "model_module": "@jupyter-widgets/controls",
      "model_module_version": "1.5.0",
      "model_name": "HTMLModel",
      "state": {
       "layout": "IPY_MODEL_bce0ca957f944c22aa4ca16b973fcebf",
       "style": "IPY_MODEL_a61cd25d139e40c9a61af25bb2f3c535",
       "value": "3"
      }
     },
     "1debe2bcdc5345b0b59a1122b0e86228": {
      "model_module": "@jupyter-widgets/controls",
      "model_module_version": "1.5.0",
      "model_name": "DescriptionStyleModel",
      "state": {
       "description_width": ""
      }
     },
     "1df3e66822244b35b6973dee2431c94c": {
      "model_module": "@jupyter-widgets/base",
      "model_module_version": "1.2.0",
      "model_name": "LayoutModel",
      "state": {
       "grid_area": "widget008"
      }
     },
     "1df71f864fdb42a6a5118d832f3e1594": {
      "model_module": "@jupyter-widgets/base",
      "model_module_version": "1.2.0",
      "model_name": "LayoutModel",
      "state": {
       "grid_area": "widget003"
      }
     },
     "1e029db54d664c7c9486cad8ffea071c": {
      "model_module": "@jupyter-widgets/base",
      "model_module_version": "1.2.0",
      "model_name": "LayoutModel",
      "state": {
       "grid_area": "widget017"
      }
     },
     "1e100f1235214de19303ba5aebd82d6e": {
      "model_module": "@jupyter-widgets/base",
      "model_module_version": "1.2.0",
      "model_name": "LayoutModel",
      "state": {
       "grid_area": "widget008"
      }
     },
     "1e2d3b198a3341418f2a00dacb0d4dfb": {
      "model_module": "@jupyter-widgets/controls",
      "model_module_version": "1.5.0",
      "model_name": "DescriptionStyleModel",
      "state": {
       "description_width": ""
      }
     },
     "1e4eb69b5979419587d922fa4ffbb6ba": {
      "model_module": "@jupyter-widgets/controls",
      "model_module_version": "1.5.0",
      "model_name": "ProgressStyleModel",
      "state": {
       "description_width": ""
      }
     },
     "1e52bb355a404d5eb3f8938ae31cde19": {
      "model_module": "@jupyter-widgets/controls",
      "model_module_version": "1.5.0",
      "model_name": "GridBoxModel",
      "state": {
       "children": [
        "IPY_MODEL_a48f16ba27d241fe8dfa19f57d2fad2f",
        "IPY_MODEL_91f331314e1d40a98fbbf177f6ed4874"
       ],
       "layout": "IPY_MODEL_3dfd7cf9d5ec4a3ea2ceaffdb9556865"
      }
     },
     "1e542887a03a4b21b2dd89bcf5217b67": {
      "model_module": "@jupyter-widgets/controls",
      "model_module_version": "1.5.0",
      "model_name": "TabModel",
      "state": {
       "_titles": {
        "0": "2",
        "1": "0",
        "2": "1"
       },
       "children": [
        "IPY_MODEL_5730bebe8d174340b9af7464c7162588",
        "IPY_MODEL_d2f6dec5d4384ea29ae1124a1f86c1d5",
        "IPY_MODEL_e7722dba3ab14af89a9ce068eb459c23"
       ],
       "layout": "IPY_MODEL_2c3538ce3774497780f0bbfa068567a7"
      }
     },
     "1e83c365232643148e28c9f93db2a6dc": {
      "model_module": "@jupyter-widgets/controls",
      "model_module_version": "1.5.0",
      "model_name": "LabelModel",
      "state": {
       "layout": "IPY_MODEL_a2bfa2e782404d579a0591b1405700ee",
       "style": "IPY_MODEL_a7bc8091b2c54cf094c4e3332144dfc5",
       "value": "1"
      }
     },
     "1ebb77c402844ffc9be623d178f7052d": {
      "model_module": "@jupyter-widgets/controls",
      "model_module_version": "1.5.0",
      "model_name": "VBoxModel",
      "state": {
       "children": [
        "IPY_MODEL_0b9efc9b65c74fb2944e703915f0e4ff",
        "IPY_MODEL_9480f0b5cf2e48b287a8e4a3eb37582f"
       ],
       "layout": "IPY_MODEL_1af6be07586e4942918556602874257d"
      }
     },
     "1ec9f5d00199450e85c303b156c317f6": {
      "model_module": "@jupyter-widgets/base",
      "model_module_version": "1.2.0",
      "model_name": "LayoutModel",
      "state": {
       "grid_area": "widget005"
      }
     },
     "1ecad595557f46cca909f9e09516a044": {
      "model_module": "@jupyter-widgets/controls",
      "model_module_version": "1.5.0",
      "model_name": "DescriptionStyleModel",
      "state": {
       "description_width": ""
      }
     },
     "1ee9aa40000d40d3b92ce273f07d5104": {
      "model_module": "@jupyter-widgets/controls",
      "model_module_version": "1.5.0",
      "model_name": "FloatProgressModel",
      "state": {
       "layout": "IPY_MODEL_f3d0082628354a7cace5af996faf25f0",
       "max": 1,
       "style": "IPY_MODEL_52a117ff5d934f5ab1b8d085218eced4",
       "value": 1
      }
     },
     "1eedbab5e00448e9b54ae6ee5f3e4ebe": {
      "model_module": "@jupyter-widgets/controls",
      "model_module_version": "1.5.0",
      "model_name": "DescriptionStyleModel",
      "state": {
       "description_width": ""
      }
     },
     "1f09d3386d0f41aa97316c7e03064a9f": {
      "model_module": "@jupyter-widgets/base",
      "model_module_version": "1.2.0",
      "model_name": "LayoutModel",
      "state": {
       "align_items": "flex-end",
       "display": "flex",
       "flex_flow": "column",
       "width": "100%"
      }
     },
     "1f10bfb035674ea59a29ceaddd1596ab": {
      "model_module": "@jupyter-widgets/controls",
      "model_module_version": "1.5.0",
      "model_name": "HTMLModel",
      "state": {
       "layout": "IPY_MODEL_d9698e291a78406c8e708972d0c92853",
       "style": "IPY_MODEL_df2f630649894ede941cb381cbd18926",
       "value": "0.08564649333"
      }
     },
     "1fc2ce69e6ee41fd908b77c469d2c43c": {
      "model_module": "@jupyter-widgets/controls",
      "model_module_version": "1.5.0",
      "model_name": "DescriptionStyleModel",
      "state": {
       "description_width": ""
      }
     },
     "1fe128d5a13b4b31a67da9c5125d4a82": {
      "model_module": "@jupyter-widgets/controls",
      "model_module_version": "1.5.0",
      "model_name": "HTMLModel",
      "state": {
       "layout": "IPY_MODEL_8c63999d441f481686a495f36696d257",
       "style": "IPY_MODEL_5cc79a0ee6ea4cdd85a2ca4832d510ba",
       "value": "2.857992477"
      }
     },
     "1fe99edb272149a49b9042960721e3d3": {
      "model_module": "@jupyter-widgets/controls",
      "model_module_version": "1.5.0",
      "model_name": "HTMLModel",
      "state": {
       "layout": "IPY_MODEL_df00280d675e4d71ad6fb2a1bee08fd1",
       "style": "IPY_MODEL_c1d3dc0450ae445b805a3d26c8563dbc",
       "value": "100.0%"
      }
     },
     "200e67acac0443168b2642a3036e0a5a": {
      "model_module": "@jupyter-widgets/base",
      "model_module_version": "1.2.0",
      "model_name": "LayoutModel",
      "state": {}
     },
     "20561c737da84f5faaa52db806a21b84": {
      "model_module": "@jupyter-widgets/controls",
      "model_module_version": "1.5.0",
      "model_name": "HTMLModel",
      "state": {
       "layout": "IPY_MODEL_0cdd4e9f0f1044518c4521bf73c97221",
       "style": "IPY_MODEL_8e12469b144741f497141d9b96ef538c",
       "value": "-0.9172246405"
      }
     },
     "2090220fecd04fe48abdea87593024b9": {
      "model_module": "@jupyter-widgets/controls",
      "model_module_version": "1.5.0",
      "model_name": "HTMLModel",
      "state": {
       "layout": "IPY_MODEL_5c278cd8565d45b19b0feb18aa5f013a",
       "style": "IPY_MODEL_a4b254f3415e4373a935f30e6e8ce4a4",
       "value": "Coefficient of variation (CV)"
      }
     },
     "20a6a9828fe84464aa0d20d570fd603d": {
      "model_module": "@jupyter-widgets/controls",
      "model_module_version": "1.5.0",
      "model_name": "DescriptionStyleModel",
      "state": {
       "description_width": ""
      }
     },
     "20be3c7b754345bbb3addce22929e931": {
      "model_module": "@jupyter-widgets/controls",
      "model_module_version": "1.5.0",
      "model_name": "VBoxModel",
      "state": {
       "children": [
        "IPY_MODEL_00f3a17ccc4f4a54a4bdb606c3d50e11"
       ],
       "layout": "IPY_MODEL_3aa046a5461c43959df698f03355c86d"
      }
     },
     "20d8d0d20bc74d2d87a76348dd9d3066": {
      "model_module": "@jupyter-widgets/controls",
      "model_module_version": "1.5.0",
      "model_name": "HTMLModel",
      "state": {
       "layout": "IPY_MODEL_b616963e20a841e2a8f42bb13376643d",
       "style": "IPY_MODEL_9ec50c36abac4dc3956f6091e11386d3",
       "value": "-0.003781915664"
      }
     },
     "2118b504eaa94b57b4f844aa2e1c84cf": {
      "model_module": "@jupyter-widgets/controls",
      "model_module_version": "1.5.0",
      "model_name": "DescriptionStyleModel",
      "state": {
       "description_width": ""
      }
     },
     "2134821572554ada935c30aaf8c1ba13": {
      "model_module": "@jupyter-widgets/controls",
      "model_module_version": "1.5.0",
      "model_name": "HTMLModel",
      "state": {
       "layout": "IPY_MODEL_7a3175822c034386ae158d59bec2a42a",
       "style": "IPY_MODEL_f0d6c6203f3b4f788928482960fcd45a",
       "value": "1.109895952"
      }
     },
     "213a03cdab0b48e5a73449f380d59ef5": {
      "model_module": "@jupyter-widgets/controls",
      "model_module_version": "1.5.0",
      "model_name": "HTMLModel",
      "state": {
       "layout": "IPY_MODEL_5c9d537f095849b6b07a8bad354db08c",
       "style": "IPY_MODEL_7649a4cb9fb4430ab078188fd79a56bb",
       "value": "Distinct (%)"
      }
     },
     "21548b0ff5f44c9cb8678401da9d6e7f": {
      "model_module": "@jupyter-widgets/controls",
      "model_module_version": "1.5.0",
      "model_name": "LabelModel",
      "state": {
       "layout": "IPY_MODEL_3b4d7d7f1e7e43079e792890b47b4835",
       "style": "IPY_MODEL_001fb204f5c4466f965af16664e4c3cc",
       "value": "0.26450258462504067"
      }
     },
     "216e2e46444f4e9c8f19920240ad9b6f": {
      "model_module": "@jupyter-widgets/controls",
      "model_module_version": "1.5.0",
      "model_name": "HTMLModel",
      "state": {
       "layout": "IPY_MODEL_8b7e8aa22daa434a9afd9a8c268e80fd",
       "style": "IPY_MODEL_e3960184de6d4736bb87f79e2eaad8bf",
       "value": "<span style=\"color:var(--jp-error-color1)\">1</span>"
      }
     },
     "21a56f4683854f16b0d3c1297fc9460d": {
      "model_module": "@jupyter-widgets/controls",
      "model_module_version": "1.5.0",
      "model_name": "ProgressStyleModel",
      "state": {
       "description_width": ""
      }
     },
     "21b45d43dfcb41afa466ba666f539fea": {
      "model_module": "@jupyter-widgets/controls",
      "model_module_version": "1.5.0",
      "model_name": "HTMLModel",
      "state": {
       "layout": "IPY_MODEL_6873323612774c058904ff5a0ee59000",
       "style": "IPY_MODEL_1ce9ce895c0c4d288573c2f1880a6d6b",
       "value": "1.571552752"
      }
     },
     "21dafa25a31b44d9b873fd15498b4856": {
      "model_module": "@jupyter-widgets/controls",
      "model_module_version": "1.5.0",
      "model_name": "DescriptionStyleModel",
      "state": {
       "description_width": ""
      }
     },
     "21ea7ca03ccd42f48f7ce12b1746b53e": {
      "model_module": "@jupyter-widgets/controls",
      "model_module_version": "1.5.0",
      "model_name": "HTMLModel",
      "state": {
       "layout": "IPY_MODEL_119b2f7c369947d4a5b304fd521c74c9",
       "style": "IPY_MODEL_6497f2fd04bb4b3a82fa7866b359d7a5",
       "value": "Mean"
      }
     },
     "21fbb27e406e456fb2f0ff184cdfcd15": {
      "model_module": "@jupyter-widgets/controls",
      "model_module_version": "1.5.0",
      "model_name": "LabelModel",
      "state": {
       "layout": "IPY_MODEL_bab963a833794129b73641c9862df581",
       "style": "IPY_MODEL_cb8bc4ff360a4bfaad6cbe815768f1ee",
       "value": "1"
      }
     },
     "223250ec244e44abbb019b736260ff6b": {
      "model_module": "@jupyter-widgets/controls",
      "model_module_version": "1.5.0",
      "model_name": "DescriptionStyleModel",
      "state": {
       "description_width": ""
      }
     },
     "223618587c26411cb3e4b2f55ba09f19": {
      "model_module": "@jupyter-widgets/base",
      "model_module_version": "1.2.0",
      "model_name": "LayoutModel",
      "state": {
       "grid_area": "widget007"
      }
     },
     "22c3737478b54f6fac831aa34156a0ba": {
      "model_module": "@jupyter-widgets/controls",
      "model_module_version": "1.5.0",
      "model_name": "HTMLModel",
      "state": {
       "layout": "IPY_MODEL_9b9f3b241e3a4f8ead407c7c4ea11a71",
       "style": "IPY_MODEL_7739a4447ad64800874b306d1766fa9a",
       "value": "5-th percentile"
      }
     },
     "22da50acf467494585d609ad72b7c676": {
      "model_module": "@jupyter-widgets/controls",
      "model_module_version": "1.5.0",
      "model_name": "ProgressStyleModel",
      "state": {
       "description_width": ""
      }
     },
     "22f1c851fbf24dc8bbc9f659a84cd62c": {
      "model_module": "@jupyter-widgets/controls",
      "model_module_version": "1.5.0",
      "model_name": "HTMLModel",
      "state": {
       "layout": "IPY_MODEL_67fd938251074dbf9825efa45f851c46",
       "style": "IPY_MODEL_791df1b37ea248c39cdf2366e4f8e5b6",
       "value": "0.1726881932"
      }
     },
     "230c22481ace43e9a598f2ae9396b8fe": {
      "model_module": "@jupyter-widgets/base",
      "model_module_version": "1.2.0",
      "model_name": "LayoutModel",
      "state": {
       "grid_area": "widget015"
      }
     },
     "23128cec650a484da330d4f03254a328": {
      "model_module": "@jupyter-widgets/controls",
      "model_module_version": "1.5.0",
      "model_name": "FloatProgressModel",
      "state": {
       "layout": "IPY_MODEL_15c3f9f3424f43d5a2fd13f79e62585b",
       "max": 7,
       "style": "IPY_MODEL_16661bb695ea45159cdcd99df6df723a",
       "value": 1
      }
     },
     "231ae15a2f4b435e8d55afa414c82096": {
      "model_module": "@jupyter-widgets/base",
      "model_module_version": "1.2.0",
      "model_name": "LayoutModel",
      "state": {
       "grid_area": "widget016"
      }
     },
     "236607562fb8419b82ff8940c2a962e7": {
      "model_module": "@jupyter-widgets/controls",
      "model_module_version": "1.5.0",
      "model_name": "LabelModel",
      "state": {
       "layout": "IPY_MODEL_e9c9a7ed944b4963828062a19b4101bb",
       "style": "IPY_MODEL_561cced2ba3540568c3afe30d0c3cdf6",
       "value": "1"
      }
     },
     "241c5f6305ad4c1dbbeed55889ae76b3": {
      "model_module": "@jupyter-widgets/controls",
      "model_module_version": "1.5.0",
      "model_name": "LabelModel",
      "state": {
       "layout": "IPY_MODEL_fdd4f17e736546de9b1e52ee69d63eb8",
       "style": "IPY_MODEL_ce9514fda2934606be59ef81247971fe",
       "value": "1"
      }
     },
     "2427318665154df895fe3e4f434e29ad": {
      "model_module": "@jupyter-widgets/controls",
      "model_module_version": "1.5.0",
      "model_name": "HTMLModel",
      "state": {
       "layout": "IPY_MODEL_441e2c3143e94ca1a456674c976b9fd0",
       "style": "IPY_MODEL_660c5b34a09b464aaaba1263404b8d5d",
       "value": "<p class=\"h4\" title=\"1\"><a\n        href=\"#pp_var_6762352942159435279\">1</a><br/>\n    <small>Real number (&Ropf;)</small>\n</p>\n    <code><abbr title=\"This variable has a high correlation with 3 fields: df_index, 0, 2\">HIGH CORRELATION</abbr></code><br />\n    <code>MISSING</code><br />\n<p class=\"variable-description\">\n    \n</p>"
      }
     },
     "24419615528247b38b42009257fb46ef": {
      "model_module": "@jupyter-widgets/controls",
      "model_module_version": "1.5.0",
      "model_name": "HTMLModel",
      "state": {
       "layout": "IPY_MODEL_4dcb6133f5da4f548e37b7949d619ea6",
       "style": "IPY_MODEL_fd77d5cfe2aa42bb9acfdff66418d573",
       "value": "3"
      }
     },
     "245ca071902648bda093faf2fb602fc7": {
      "model_module": "@jupyter-widgets/controls",
      "model_module_version": "1.5.0",
      "model_name": "HTMLModel",
      "state": {
       "layout": "IPY_MODEL_f63d4a26def74dbba3828a0a0bab2301",
       "style": "IPY_MODEL_079a5f9a94324225a66d3ac402f8c2c3",
       "value": "Download configuration"
      }
     },
     "245ccfd5e951436aa6ab33b639d623bb": {
      "model_module": "@jupyter-widgets/base",
      "model_module_version": "1.2.0",
      "model_name": "LayoutModel",
      "state": {
       "grid_template_areas": "\"widget001 widget002\"\n\"widget003 widget004\"\n\"widget005 widget006\"\n\"widget007 widget008\"\n\"widget009 widget010\"\n\"widget011 widget012\"\n\"widget013 widget014\"",
       "grid_template_columns": "repeat(2, 1fr)",
       "grid_template_rows": "repeat(7, 1fr)"
      }
     },
     "2478ab4f91034a14b7e0b2a787b88afe": {
      "model_module": "@jupyter-widgets/base",
      "model_module_version": "1.2.0",
      "model_name": "LayoutModel",
      "state": {}
     },
     "24bd309418304481b2febb50bfe6dd78": {
      "model_module": "@jupyter-widgets/controls",
      "model_module_version": "1.5.0",
      "model_name": "ButtonModel",
      "state": {
       "button_style": "info",
       "description": "Missing",
       "disabled": true,
       "layout": "IPY_MODEL_e29dd4b3c18b44d082026eefc9cd6dff",
       "style": "IPY_MODEL_f7b98bf1715f44658bc0ee5dd14ac3fb"
      }
     },
     "24cb300d91b04f959ade7250f97b627f": {
      "model_module": "@jupyter-widgets/controls",
      "model_module_version": "1.5.0",
      "model_name": "LabelModel",
      "state": {
       "layout": "IPY_MODEL_e2693a95ce2443f689cded12497ac7cf",
       "style": "IPY_MODEL_2118b504eaa94b57b4f844aa2e1c84cf",
       "value": "-0.0272687101379228"
      }
     },
     "24d9b01a251240c28a1921ab2befe7e0": {
      "model_module": "@jupyter-widgets/base",
      "model_module_version": "1.2.0",
      "model_name": "LayoutModel",
      "state": {}
     },
     "252546e30eb44f61b6aba647239383fc": {
      "model_module": "@jupyter-widgets/controls",
      "model_module_version": "1.5.0",
      "model_name": "DescriptionStyleModel",
      "state": {
       "description_width": ""
      }
     },
     "25500bd48af84e3799e1fccf389b88b5": {
      "model_module": "@jupyter-widgets/base",
      "model_module_version": "1.2.0",
      "model_name": "LayoutModel",
      "state": {
       "grid_area": "widget001"
      }
     },
     "2557894c3c3d4fc29f18173f4e80f921": {
      "model_module": "@jupyter-widgets/base",
      "model_module_version": "1.2.0",
      "model_name": "LayoutModel",
      "state": {
       "grid_area": "widget009"
      }
     },
     "256348d1812b4530bab9d35effae98e1": {
      "model_module": "@jupyter-widgets/controls",
      "model_module_version": "1.5.0",
      "model_name": "ProgressStyleModel",
      "state": {
       "description_width": ""
      }
     },
     "257d95e1f4ab4852a3fd67001f8048f2": {
      "model_module": "@jupyter-widgets/controls",
      "model_module_version": "1.5.0",
      "model_name": "TabModel",
      "state": {
       "_titles": {
        "0": "Statistics",
        "1": "Histogram",
        "2": "Common values",
        "3": "Extreme values"
       },
       "children": [
        "IPY_MODEL_1e52bb355a404d5eb3f8938ae31cde19",
        "IPY_MODEL_c4b788e873fd45eb879d763c95d2e83f",
        "IPY_MODEL_20be3c7b754345bbb3addce22929e931",
        "IPY_MODEL_d7362e58bdbf423587252f82c6bbe7e4"
       ],
       "layout": "IPY_MODEL_c8c14255a2504aca8110ab7a37b1076c"
      }
     },
     "259806a4a10c4d5688872be131c874e5": {
      "model_module": "@jupyter-widgets/controls",
      "model_module_version": "1.5.0",
      "model_name": "HTMLModel",
      "state": {
       "layout": "IPY_MODEL_654860fe8697459ebb779ce11228b2a1",
       "style": "IPY_MODEL_e94ab3d0787e4ee3b5707e1c9148d178",
       "value": "0"
      }
     },
     "25982539b7e34b40bf8404a071ddc530": {
      "model_module": "@jupyter-widgets/base",
      "model_module_version": "1.2.0",
      "model_name": "LayoutModel",
      "state": {
       "grid_area": "widget007"
      }
     },
     "25cb8fac25c540febd05c83c91e533a5": {
      "model_module": "@jupyter-widgets/controls",
      "model_module_version": "1.5.0",
      "model_name": "DescriptionStyleModel",
      "state": {
       "description_width": ""
      }
     },
     "26129a0f6b34465c92754e93a9af9c4c": {
      "model_module": "@jupyter-widgets/controls",
      "model_module_version": "1.5.0",
      "model_name": "HTMLModel",
      "state": {
       "layout": "IPY_MODEL_0cbe68b1810c4f5cab668acbb22b52f0",
       "style": "IPY_MODEL_d62333320553469db3e30117f0fd4277",
       "value": "<span style=\"color:var(--jp-error-color1)\">Missing (%)</span>"
      }
     },
     "265ffa1f87bc42a09497fd37552ed91e": {
      "model_module": "@jupyter-widgets/controls",
      "model_module_version": "1.5.0",
      "model_name": "DescriptionStyleModel",
      "state": {
       "description_width": ""
      }
     },
     "2681c48735bc4bada774ca3467589dbc": {
      "model_module": "@jupyter-widgets/controls",
      "model_module_version": "1.5.0",
      "model_name": "ProgressStyleModel",
      "state": {
       "description_width": ""
      }
     },
     "269adf4fe5504d4a8d1328eb6f57429f": {
      "model_module": "@jupyter-widgets/controls",
      "model_module_version": "1.5.0",
      "model_name": "HTMLModel",
      "state": {
       "layout": "IPY_MODEL_0b63e057b68144d094a2b7500938aab3",
       "style": "IPY_MODEL_99ec7d99dc03431da78441a8f98d327e",
       "value": "1.123268449"
      }
     },
     "26a6bb6940a6449f8753e8798c631945": {
      "model_module": "@jupyter-widgets/base",
      "model_module_version": "1.2.0",
      "model_name": "LayoutModel",
      "state": {
       "grid_area": "widget017"
      }
     },
     "26ac160e2e624921b13b23901ffca1cc": {
      "model_module": "@jupyter-widgets/base",
      "model_module_version": "1.2.0",
      "model_name": "LayoutModel",
      "state": {
       "grid_area": "widget005"
      }
     },
     "26ad8e0949604ec69fa4f3bae0586441": {
      "model_module": "@jupyter-widgets/controls",
      "model_module_version": "1.5.0",
      "model_name": "HTMLModel",
      "state": {
       "layout": "IPY_MODEL_7d298962e13041e9a472223dc22c64c6",
       "style": "IPY_MODEL_ef7742318c5c4a93b6f831307c34abe6",
       "value": "7"
      }
     },
     "26c0e0c8e87f4946a3262590f86087e6": {
      "model_module": "@jupyter-widgets/base",
      "model_module_version": "1.2.0",
      "model_name": "LayoutModel",
      "state": {
       "grid_area": "widget018"
      }
     },
     "26dc9442c46a436f921ae16adfb56eab": {
      "model_module": "@jupyter-widgets/controls",
      "model_module_version": "1.5.0",
      "model_name": "HTMLModel",
      "state": {
       "layout": "IPY_MODEL_6c0c31f134a443de96e42fa42d053e58",
       "style": "IPY_MODEL_8242d7ceb97a4734be5df26a5bb83379",
       "value": "<span style=\"color:var(--jp-error-color1)\">1</span>"
      }
     },
     "26ec803f0caf44e9b7bb540a557e2a9e": {
      "model_module": "@jupyter-widgets/controls",
      "model_module_version": "1.5.0",
      "model_name": "DescriptionStyleModel",
      "state": {
       "description_width": ""
      }
     },
     "26fa369911ce4acab33661b6a40a004b": {
      "model_module": "@jupyter-widgets/controls",
      "model_module_version": "1.5.0",
      "model_name": "TabModel",
      "state": {
       "_titles": {
        "0": "Minimum 10 values",
        "1": "Maximum 10 values"
       },
       "children": [
        "IPY_MODEL_389e08eedd5b4c3eadab40bf3d17724a",
        "IPY_MODEL_8406d3abbdb54370bcbf52d5832bc94a"
       ],
       "layout": "IPY_MODEL_f8959d2be862409cac829dfdb4563e02"
      }
     },
     "273922baded741ab9d921106b97cd2ec": {
      "model_module": "@jupyter-widgets/base",
      "model_module_version": "1.2.0",
      "model_name": "LayoutModel",
      "state": {
       "grid_area": "widget013"
      }
     },
     "2779fd1d2f4c4b228c437e71c12bbb73": {
      "model_module": "@jupyter-widgets/controls",
      "model_module_version": "1.5.0",
      "model_name": "DescriptionStyleModel",
      "state": {
       "description_width": ""
      }
     },
     "27991cd662514625984fdec2b6237399": {
      "model_module": "@jupyter-widgets/base",
      "model_module_version": "1.2.0",
      "model_name": "LayoutModel",
      "state": {
       "grid_template_columns": "25% 25% 25% 25%",
       "width": "100%"
      }
     },
     "27db61abdcfe4c03be19d2b10f304b19": {
      "model_module": "@jupyter-widgets/base",
      "model_module_version": "1.2.0",
      "model_name": "LayoutModel",
      "state": {
       "grid_template_columns": "50% 50%",
       "width": "100%"
      }
     },
     "28cb08a87b914d5eba4206ce03740eab": {
      "model_module": "@jupyter-widgets/controls",
      "model_module_version": "1.5.0",
      "model_name": "HTMLModel",
      "state": {
       "layout": "IPY_MODEL_93eac3c23f24445a97cac62daa119e1c",
       "style": "IPY_MODEL_116c4c709d1d4c2ca6ef5bd523467cb8",
       "value": "<a class=\"anchor\" href=\"#pp_var_6762352942159435279\">\n        <code>1</code>\n    </a> is highly correlated with <code>df_index</code> and <abbr title=\"df_index, 0, 2\">2 other fields</abbr>"
      }
     },
     "28cf75ef46c64153be6fc1c057e65f29": {
      "model_module": "@jupyter-widgets/controls",
      "model_module_version": "1.5.0",
      "model_name": "DescriptionStyleModel",
      "state": {
       "description_width": ""
      }
     },
     "28e93034042c4843ab43f4c702a51a6f": {
      "model_module": "@jupyter-widgets/controls",
      "model_module_version": "1.5.0",
      "model_name": "HTMLModel",
      "state": {
       "layout": "IPY_MODEL_d60e7dee9a95416c906f0ef80b447f2b",
       "style": "IPY_MODEL_f9a3e8cba8124c439cde25a6f83e94c6",
       "value": "1.519501131"
      }
     },
     "28f94048f8a74795bf86e852d595f592": {
      "model_module": "@jupyter-widgets/base",
      "model_module_version": "1.2.0",
      "model_name": "LayoutModel",
      "state": {
       "grid_area": "widget013"
      }
     },
     "291faa27d42549cb9841d0e1deeea456": {
      "model_module": "@jupyter-widgets/controls",
      "model_module_version": "1.5.0",
      "model_name": "DescriptionStyleModel",
      "state": {
       "description_width": ""
      }
     },
     "29237bf6581349cb924a54ea3f899d26": {
      "model_module": "@jupyter-widgets/controls",
      "model_module_version": "1.5.0",
      "model_name": "LabelModel",
      "state": {
       "layout": "IPY_MODEL_5266c12f81a2418c8b1f015a96f9c680",
       "style": "IPY_MODEL_ffa07b9d29894da39e9c3563f42a3a83",
       "value": "1.5715527518785666"
      }
     },
     "2988f72344d84649a950b4bd6996e915": {
      "model_module": "@jupyter-widgets/base",
      "model_module_version": "1.2.0",
      "model_name": "LayoutModel",
      "state": {
       "grid_area": "widget015"
      }
     },
     "29939b952f9241a7964f812013afd05c": {
      "model_module": "@jupyter-widgets/controls",
      "model_module_version": "1.5.0",
      "model_name": "DescriptionStyleModel",
      "state": {
       "description_width": ""
      }
     },
     "29c306851d0b4c04943c4febf265cefd": {
      "model_module": "@jupyter-widgets/base",
      "model_module_version": "1.2.0",
      "model_name": "LayoutModel",
      "state": {
       "grid_area": "widget013"
      }
     },
     "29fc2c2b8f1f429181dbc6706470f34c": {
      "model_module": "@jupyter-widgets/controls",
      "model_module_version": "1.5.0",
      "model_name": "GridBoxModel",
      "state": {
       "children": [
        "IPY_MODEL_5875bc934720442b8dcf9248d3f936b6",
        "IPY_MODEL_d38efa7ba6444b94a6a5f05751726a41",
        "IPY_MODEL_4d981cf3419a430786546e30baa4d793",
        "IPY_MODEL_e53260cde9d544ec9f0929596fd43eac",
        "IPY_MODEL_c64b47f7d34b4ac99d70671ffac00ee3",
        "IPY_MODEL_2ac06fe80c8440a9b22380752924bc31",
        "IPY_MODEL_6a7713395e9845e38c29bca2735d334e",
        "IPY_MODEL_2ddf58ed885e41db80b99dfcdc350204",
        "IPY_MODEL_cefc6ed7b5c04520b7ba0a7bc5e87674",
        "IPY_MODEL_746664ecc2c244d9adfa5192c883ca10",
        "IPY_MODEL_79e98080e68b4128b187053c7c54997d",
        "IPY_MODEL_c7fa5c00e55d4bfba2ef8931faf6a869",
        "IPY_MODEL_c916bd7901124ae2bef336a157731c2d",
        "IPY_MODEL_676f687d6c0740f095a26bad54502828",
        "IPY_MODEL_0bf937251a8a47d896643516b23f949d",
        "IPY_MODEL_54f29b6ad01540f9a84456307a373156",
        "IPY_MODEL_e65b338da47044959785a06f4cda0418",
        "IPY_MODEL_6c20f6d0d9304a15aed6c3b45ab29bf6",
        "IPY_MODEL_aafa7737a5a84b41902bf3b47b01f052",
        "IPY_MODEL_96390e6cb2c542b183dcfd1dcd9586e2",
        "IPY_MODEL_71d80be8903d473d92637bb9b8e853db"
       ],
       "layout": "IPY_MODEL_9cdc85ed51f343609318ebd3aff25de2"
      }
     },
     "2a007223318e46a685e2595a0a1f79ed": {
      "model_module": "@jupyter-widgets/controls",
      "model_module_version": "1.5.0",
      "model_name": "DescriptionStyleModel",
      "state": {
       "description_width": ""
      }
     },
     "2a406d411a5c4b5babcdff6f8dff19e9": {
      "model_module": "@jupyter-widgets/controls",
      "model_module_version": "1.5.0",
      "model_name": "DescriptionStyleModel",
      "state": {
       "description_width": ""
      }
     },
     "2a49720b87a542a4be03c2f294beac1b": {
      "model_module": "@jupyter-widgets/base",
      "model_module_version": "1.2.0",
      "model_name": "LayoutModel",
      "state": {
       "grid_area": "widget003"
      }
     },
     "2a74b2e0b5af4858bea4ffa110197e91": {
      "model_module": "@jupyter-widgets/base",
      "model_module_version": "1.2.0",
      "model_name": "LayoutModel",
      "state": {
       "grid_area": "widget010"
      }
     },
     "2a75dac62b5d4fd79d02b56de4e4afd4": {
      "model_module": "@jupyter-widgets/base",
      "model_module_version": "1.2.0",
      "model_name": "LayoutModel",
      "state": {
       "grid_area": "widget008"
      }
     },
     "2ac06fe80c8440a9b22380752924bc31": {
      "model_module": "@jupyter-widgets/controls",
      "model_module_version": "1.5.0",
      "model_name": "LabelModel",
      "state": {
       "layout": "IPY_MODEL_de1f20af9eb54a049fa4acc68bc25244",
       "style": "IPY_MODEL_541a6c0daecf4d5ca3bcc535a4793582",
       "value": "1"
      }
     },
     "2ace628ff73744408df29e5378eb47b2": {
      "model_module": "@jupyter-widgets/controls",
      "model_module_version": "1.5.0",
      "model_name": "DescriptionStyleModel",
      "state": {
       "description_width": ""
      }
     },
     "2ad488df87014c88b5f3d35043554438": {
      "model_module": "@jupyter-widgets/controls",
      "model_module_version": "1.5.0",
      "model_name": "DescriptionStyleModel",
      "state": {
       "description_width": ""
      }
     },
     "2ae1073e22884001b77b03c0ccc668db": {
      "model_module": "@jupyter-widgets/controls",
      "model_module_version": "1.5.0",
      "model_name": "ProgressStyleModel",
      "state": {
       "description_width": ""
      }
     },
     "2ae26ad489e149009f4c659a58606fb6": {
      "model_module": "@jupyter-widgets/controls",
      "model_module_version": "1.5.0",
      "model_name": "DescriptionStyleModel",
      "state": {
       "description_width": ""
      }
     },
     "2ae43343de7f4b538fe84571ce338f4f": {
      "model_module": "@jupyter-widgets/controls",
      "model_module_version": "1.5.0",
      "model_name": "HTMLModel",
      "state": {
       "layout": "IPY_MODEL_8788aea6924d4e46979f9790d185f507",
       "style": "IPY_MODEL_fbf97adda0a842d8b71a69d33cdab2b6",
       "value": "<?xml version=\"1.0\" encoding=\"utf-8\" standalone=\"no\"?>\n<!DOCTYPE svg style=\"max-width: 100%\" PUBLIC \"-//W3C//DTD SVG 1.1//EN\"\n  \"http://www.w3.org/Graphics/SVG/1.1/DTD/svg11.dtd\">\n<svg style=\"max-width: 100%\"  version=\"1.1\" viewBox=\"0 0 720 288\" width=\"720pt\" xmlns=\"http://www.w3.org/2000/svg\" xmlns:xlink=\"http://www.w3.org/1999/xlink\">\n <metadata>\n  <rdf:RDF xmlns:cc=\"http://creativecommons.org/ns#\" xmlns:dc=\"http://purl.org/dc/elements/1.1/\" xmlns:rdf=\"http://www.w3.org/1999/02/22-rdf-syntax-ns#\">\n   <cc:Work>\n    <dc:type rdf:resource=\"http://purl.org/dc/dcmitype/StillImage\"/>\n    <dc:date>2022-10-01T17:17:57.913394</dc:date>\n    <dc:format>image/svg+xml</dc:format>\n    <dc:creator>\n     <cc:Agent>\n      <dc:title>Matplotlib v3.4.3, https://matplotlib.org/</dc:title>\n     </cc:Agent>\n    </dc:creator>\n   </cc:Work>\n  </rdf:RDF>\n </metadata>\n <defs>\n  <style type=\"text/css\">*{stroke-linecap:butt;stroke-linejoin:round;}</style>\n </defs>\n <g id=\"figure_1\">\n  <g id=\"patch_1\">\n   <path d=\"M 0 288 \nL 720 288 \nL 720 0 \nL 0 0 \nz\n\" style=\"fill:#ffffff;\"/>\n  </g>\n  <g id=\"axes_1\">\n   <g id=\"matplotlib.axis_1\">\n    <g id=\"xtick_1\">\n     <g id=\"text_1\">\n      <!-- 0 -->\n      <g style=\"fill:#262626;\" transform=\"translate(203.439614 224.933436)rotate(-45)scale(0.13 -0.13)\">\n       <defs>\n        <path d=\"M 2034 4250 \nQ 1547 4250 1301 3770 \nQ 1056 3291 1056 2328 \nQ 1056 1369 1301 889 \nQ 1547 409 2034 409 \nQ 2525 409 2770 889 \nQ 3016 1369 3016 2328 \nQ 3016 3291 2770 3770 \nQ 2525 4250 2034 4250 \nz\nM 2034 4750 \nQ 2819 4750 3233 4129 \nQ 3647 3509 3647 2328 \nQ 3647 1150 3233 529 \nQ 2819 -91 2034 -91 \nQ 1250 -91 836 529 \nQ 422 1150 422 2328 \nQ 422 3509 836 4129 \nQ 1250 4750 2034 4750 \nz\n\" id=\"DejaVuSans-30\" transform=\"scale(0.015625)\"/>\n       </defs>\n       <use xlink:href=\"#DejaVuSans-30\"/>\n      </g>\n     </g>\n    </g>\n    <g id=\"xtick_2\">\n     <g id=\"text_2\">\n      <!-- 1 -->\n      <g style=\"fill:#262626;\" transform=\"translate(337.839614 224.933436)rotate(-45)scale(0.13 -0.13)\">\n       <defs>\n        <path d=\"M 794 531 \nL 1825 531 \nL 1825 4091 \nL 703 3866 \nL 703 4441 \nL 1819 4666 \nL 2450 4666 \nL 2450 531 \nL 3481 531 \nL 3481 0 \nL 794 0 \nL 794 531 \nz\n\" id=\"DejaVuSans-31\" transform=\"scale(0.015625)\"/>\n       </defs>\n       <use xlink:href=\"#DejaVuSans-31\"/>\n      </g>\n     </g>\n    </g>\n    <g id=\"xtick_3\">\n     <g id=\"text_3\">\n      <!-- 2 -->\n      <g style=\"fill:#262626;\" transform=\"translate(472.239614 224.933436)rotate(-45)scale(0.13 -0.13)\">\n       <defs>\n        <path d=\"M 1228 531 \nL 3431 531 \nL 3431 0 \nL 469 0 \nL 469 531 \nQ 828 903 1448 1529 \nQ 2069 2156 2228 2338 \nQ 2531 2678 2651 2914 \nQ 2772 3150 2772 3378 \nQ 2772 3750 2511 3984 \nQ 2250 4219 1831 4219 \nQ 1534 4219 1204 4116 \nQ 875 4013 500 3803 \nL 500 4441 \nQ 881 4594 1212 4672 \nQ 1544 4750 1819 4750 \nQ 2544 4750 2975 4387 \nQ 3406 4025 3406 3419 \nQ 3406 3131 3298 2873 \nQ 3191 2616 2906 2266 \nQ 2828 2175 2409 1742 \nQ 1991 1309 1228 531 \nz\n\" id=\"DejaVuSans-32\" transform=\"scale(0.015625)\"/>\n       </defs>\n       <use xlink:href=\"#DejaVuSans-32\"/>\n      </g>\n     </g>\n    </g>\n   </g>\n   <g id=\"matplotlib.axis_2\">\n    <g id=\"ytick_1\">\n     <g id=\"text_4\">\n      <!-- 0 -->\n      <g style=\"fill:#262626;\" transform=\"translate(125.22875 85.187187)scale(0.13 -0.13)\">\n       <use xlink:href=\"#DejaVuSans-30\"/>\n      </g>\n     </g>\n    </g>\n    <g id=\"ytick_2\">\n     <g id=\"text_5\">\n      <!-- 1 -->\n      <g style=\"fill:#262626;\" transform=\"translate(125.22875 133.187187)scale(0.13 -0.13)\">\n       <use xlink:href=\"#DejaVuSans-31\"/>\n      </g>\n     </g>\n    </g>\n    <g id=\"ytick_3\">\n     <g id=\"text_6\">\n      <!-- 2 -->\n      <g style=\"fill:#262626;\" transform=\"translate(125.22875 181.187187)scale(0.13 -0.13)\">\n       <use xlink:href=\"#DejaVuSans-32\"/>\n      </g>\n     </g>\n    </g>\n   </g>\n   <g id=\"QuadMesh_1\">\n    <path clip-path=\"url(#p9bb60315d3)\" d=\"M 144 57.6 \nL 278.4 57.6 \nL 278.4 105.6 \nL 144 105.6 \nL 144 57.6 \n\" style=\"fill:none;\"/>\n    <path clip-path=\"url(#p9bb60315d3)\" d=\"M 278.4 57.6 \nL 412.8 57.6 \nL 412.8 105.6 \nL 278.4 105.6 \nL 278.4 57.6 \n\" style=\"fill:none;\"/>\n    <path clip-path=\"url(#p9bb60315d3)\" d=\"M 412.8 57.6 \nL 547.2 57.6 \nL 547.2 105.6 \nL 412.8 105.6 \nL 412.8 57.6 \n\" style=\"fill:none;\"/>\n    <path clip-path=\"url(#p9bb60315d3)\" d=\"M 144 105.6 \nL 278.4 105.6 \nL 278.4 153.6 \nL 144 153.6 \nL 144 105.6 \n\" style=\"fill:#053061;\"/>\n    <path clip-path=\"url(#p9bb60315d3)\" d=\"M 278.4 105.6 \nL 412.8 105.6 \nL 412.8 153.6 \nL 278.4 153.6 \nL 278.4 105.6 \n\" style=\"fill:none;\"/>\n    <path clip-path=\"url(#p9bb60315d3)\" d=\"M 412.8 105.6 \nL 547.2 105.6 \nL 547.2 153.6 \nL 412.8 153.6 \nL 412.8 105.6 \n\" style=\"fill:none;\"/>\n    <path clip-path=\"url(#p9bb60315d3)\" d=\"M 144 153.6 \nL 278.4 153.6 \nL 278.4 201.6 \nL 144 201.6 \nL 144 153.6 \n\" style=\"fill:#053061;\"/>\n    <path clip-path=\"url(#p9bb60315d3)\" d=\"M 278.4 153.6 \nL 412.8 153.6 \nL 412.8 201.6 \nL 278.4 201.6 \nL 278.4 153.6 \n\" style=\"fill:#053061;\"/>\n    <path clip-path=\"url(#p9bb60315d3)\" d=\"M 412.8 153.6 \nL 547.2 153.6 \nL 547.2 201.6 \nL 412.8 201.6 \nL 412.8 153.6 \n\" style=\"fill:none;\"/>\n   </g>\n   <g id=\"text_7\">\n    <!-- 1 -->\n    <g style=\"fill:#ffffff;\" transform=\"translate(207.700625 132.635312)scale(0.11 -0.11)\">\n     <use xlink:href=\"#DejaVuSans-31\"/>\n    </g>\n   </g>\n   <g id=\"text_8\">\n    <!-- 1 -->\n    <g style=\"fill:#ffffff;\" transform=\"translate(207.700625 180.635312)scale(0.11 -0.11)\">\n     <use xlink:href=\"#DejaVuSans-31\"/>\n    </g>\n   </g>\n   <g id=\"text_9\">\n    <!-- 1 -->\n    <g style=\"fill:#ffffff;\" transform=\"translate(342.100625 180.635312)scale(0.11 -0.11)\">\n     <use xlink:href=\"#DejaVuSans-31\"/>\n    </g>\n   </g>\n  </g>\n  <g id=\"axes_2\">\n   <g id=\"patch_2\">\n    <path d=\"M 572.4 201.6 \nL 579.6 201.6 \nL 579.6 57.6 \nL 572.4 57.6 \nz\n\" style=\"fill:#ffffff;\"/>\n   </g>\n   <g id=\"patch_3\">\n    <path clip-path=\"url(#p760cf9e445)\" d=\"M 572.4 201.6 \nL 572.4 201.0375 \nL 572.4 58.1625 \nL 572.4 57.6 \nL 579.6 57.6 \nL 579.6 58.1625 \nL 579.6 201.0375 \nL 579.6 201.6 \nL 579.6 201.6 \nz\n\" style=\"fill:#ffffff;stroke:#ffffff;stroke-linejoin:miter;stroke-width:0.01;\"/>\n   </g>\n   <g id=\"matplotlib.axis_3\"/>\n   <g id=\"matplotlib.axis_4\">\n    <g id=\"ytick_4\">\n     <g id=\"line2d_1\">\n      <defs>\n       <path d=\"M 0 0 \nL 3.5 0 \n\" id=\"mdfee351164\" style=\"stroke:#262626;\"/>\n      </defs>\n      <g>\n       <use style=\"fill:#262626;stroke:#262626;\" x=\"579.6\" xlink:href=\"#mdfee351164\" y=\"201.6\"/>\n      </g>\n     </g>\n     <g id=\"text_10\">\n      <!-- −1.0 -->\n      <g style=\"fill:#262626;\" transform=\"translate(590.1 205.399219)scale(0.1 -0.1)\">\n       <defs>\n        <path d=\"M 678 2272 \nL 4684 2272 \nL 4684 1741 \nL 678 1741 \nL 678 2272 \nz\n\" id=\"DejaVuSans-2212\" transform=\"scale(0.015625)\"/>\n        <path d=\"M 684 794 \nL 1344 794 \nL 1344 0 \nL 684 0 \nL 684 794 \nz\n\" id=\"DejaVuSans-2e\" transform=\"scale(0.015625)\"/>\n       </defs>\n       <use xlink:href=\"#DejaVuSans-2212\"/>\n       <use x=\"83.789062\" xlink:href=\"#DejaVuSans-31\"/>\n       <use x=\"147.412109\" xlink:href=\"#DejaVuSans-2e\"/>\n       <use x=\"179.199219\" xlink:href=\"#DejaVuSans-30\"/>\n      </g>\n     </g>\n    </g>\n    <g id=\"ytick_5\">\n     <g id=\"line2d_2\">\n      <g>\n       <use style=\"fill:#262626;stroke:#262626;\" x=\"579.6\" xlink:href=\"#mdfee351164\" y=\"165.6\"/>\n      </g>\n     </g>\n     <g id=\"text_11\">\n      <!-- −0.5 -->\n      <g style=\"fill:#262626;\" transform=\"translate(590.1 169.399219)scale(0.1 -0.1)\">\n       <defs>\n        <path d=\"M 691 4666 \nL 3169 4666 \nL 3169 4134 \nL 1269 4134 \nL 1269 2991 \nQ 1406 3038 1543 3061 \nQ 1681 3084 1819 3084 \nQ 2600 3084 3056 2656 \nQ 3513 2228 3513 1497 \nQ 3513 744 3044 326 \nQ 2575 -91 1722 -91 \nQ 1428 -91 1123 -41 \nQ 819 9 494 109 \nL 494 744 \nQ 775 591 1075 516 \nQ 1375 441 1709 441 \nQ 2250 441 2565 725 \nQ 2881 1009 2881 1497 \nQ 2881 1984 2565 2268 \nQ 2250 2553 1709 2553 \nQ 1456 2553 1204 2497 \nQ 953 2441 691 2322 \nL 691 4666 \nz\n\" id=\"DejaVuSans-35\" transform=\"scale(0.015625)\"/>\n       </defs>\n       <use xlink:href=\"#DejaVuSans-2212\"/>\n       <use x=\"83.789062\" xlink:href=\"#DejaVuSans-30\"/>\n       <use x=\"147.412109\" xlink:href=\"#DejaVuSans-2e\"/>\n       <use x=\"179.199219\" xlink:href=\"#DejaVuSans-35\"/>\n      </g>\n     </g>\n    </g>\n    <g id=\"ytick_6\">\n     <g id=\"line2d_3\">\n      <g>\n       <use style=\"fill:#262626;stroke:#262626;\" x=\"579.6\" xlink:href=\"#mdfee351164\" y=\"129.6\"/>\n      </g>\n     </g>\n     <g id=\"text_12\">\n      <!-- 0.0 -->\n      <g style=\"fill:#262626;\" transform=\"translate(590.1 133.399219)scale(0.1 -0.1)\">\n       <use xlink:href=\"#DejaVuSans-30\"/>\n       <use x=\"63.623047\" xlink:href=\"#DejaVuSans-2e\"/>\n       <use x=\"95.410156\" xlink:href=\"#DejaVuSans-30\"/>\n      </g>\n     </g>\n    </g>\n    <g id=\"ytick_7\">\n     <g id=\"line2d_4\">\n      <g>\n       <use style=\"fill:#262626;stroke:#262626;\" x=\"579.6\" xlink:href=\"#mdfee351164\" y=\"93.6\"/>\n      </g>\n     </g>\n     <g id=\"text_13\">\n      <!-- 0.5 -->\n      <g style=\"fill:#262626;\" transform=\"translate(590.1 97.399219)scale(0.1 -0.1)\">\n       <use xlink:href=\"#DejaVuSans-30\"/>\n       <use x=\"63.623047\" xlink:href=\"#DejaVuSans-2e\"/>\n       <use x=\"95.410156\" xlink:href=\"#DejaVuSans-35\"/>\n      </g>\n     </g>\n    </g>\n    <g id=\"ytick_8\">\n     <g id=\"line2d_5\">\n      <g>\n       <use style=\"fill:#262626;stroke:#262626;\" x=\"579.6\" xlink:href=\"#mdfee351164\" y=\"57.6\"/>\n      </g>\n     </g>\n     <g id=\"text_14\">\n      <!-- 1.0 -->\n      <g style=\"fill:#262626;\" transform=\"translate(590.1 61.399219)scale(0.1 -0.1)\">\n       <use xlink:href=\"#DejaVuSans-31\"/>\n       <use x=\"63.623047\" xlink:href=\"#DejaVuSans-2e\"/>\n       <use x=\"95.410156\" xlink:href=\"#DejaVuSans-30\"/>\n      </g>\n     </g>\n    </g>\n   </g>\n   <image height=\"144\" id=\"image0bffc2d79a\" transform=\"scale(1 -1)translate(0 -144)\" width=\"8\" x=\"572\" xlink:href=\"data:image/png;base64,\niVBORw0KGgoAAAANSUhEUgAAAAgAAACQCAYAAAA1OiqlAAABHklEQVR4nNXWSW7DMBAF0eYgXSPHy/2XkUQyN+AzQClQvHXhd/VA2Ok7vkZMPrWk2dcRdc9z4gZgSwCKgD+QfMOgCGROcs9I2AsSNgAZk/qkBCQLEwQkSbJNTtIOPDkl5K0qAQATUuGyVOIGB4162aFs22JCynxZkqxwCAFcVtQdCSxhSZWw5KpDkkNoWWlbHVQUACPjHiJBMjRJlxAw6JCXHco/kBxMmP7NiqgNRG1dAEsooc8DojYQN3SBJu5xWE3oAk4so559LuEESn7gwARJ8qJeMCg6HGrzuB4H+C6Y8EMHtbnucFxtDljy+UE1AV2D6jx7Pl5K0oFdvEBy8DdreRftupBwHXNgNBwtEwg0OnQ5nKsO/TpXEx6X/AXN49bZs6+PZAAAAABJRU5ErkJggg==\" y=\"-58\"/>\n   <g id=\"LineCollection_1\"/>\n   <g id=\"patch_4\">\n    <path d=\"M 572.4 201.6 \nL 572.4 201.0375 \nL 572.4 58.1625 \nL 572.4 57.6 \nL 579.6 57.6 \nL 579.6 58.1625 \nL 579.6 201.0375 \nL 579.6 201.6 \nz\n\" style=\"fill:none;\"/>\n   </g>\n  </g>\n </g>\n <defs>\n  <clipPath id=\"p9bb60315d3\">\n   <rect height=\"144\" width=\"403.2\" x=\"144\" y=\"57.6\"/>\n  </clipPath>\n  <clipPath id=\"p760cf9e445\">\n   <rect height=\"144\" width=\"7.2\" x=\"572.4\" y=\"57.6\"/>\n  </clipPath>\n </defs>\n</svg>\n"
      }
     },
     "2af912b166774e97a6b29ea1730796d9": {
      "model_module": "@jupyter-widgets/base",
      "model_module_version": "1.2.0",
      "model_name": "LayoutModel",
      "state": {
       "grid_template_columns": "",
       "width": "100%"
      }
     },
     "2b247c535c454fe19a7e63e206dbd780": {
      "model_module": "@jupyter-widgets/controls",
      "model_module_version": "1.5.0",
      "model_name": "DescriptionStyleModel",
      "state": {
       "description_width": ""
      }
     },
     "2b53c7ece1cc4ed8bd4d18d47020d68c": {
      "model_module": "@jupyter-widgets/controls",
      "model_module_version": "1.5.0",
      "model_name": "HTMLModel",
      "state": {
       "layout": "IPY_MODEL_eb3297bf5ce74bc195c447da69f38f3d",
       "style": "IPY_MODEL_fe42d391696e4b37b6ed7e6b4bf0c7ff",
       "value": "Zeros (%)"
      }
     },
     "2b54151a2af34f8694fc108dd8bcc6ca": {
      "model_module": "@jupyter-widgets/controls",
      "model_module_version": "1.5.0",
      "model_name": "HTMLModel",
      "state": {
       "layout": "IPY_MODEL_0e34e610e5364c23bb039ae603f9afe2",
       "style": "IPY_MODEL_feb5db1e0409490bb517e5e16cb6f508",
       "value": "Generate report structure: 100%"
      }
     },
     "2b6be12b59524a69b5f174c70aea233c": {
      "model_module": "@jupyter-widgets/controls",
      "model_module_version": "1.5.0",
      "model_name": "DescriptionStyleModel",
      "state": {
       "description_width": ""
      }
     },
     "2b71f820bce642e9aedc6f0a3e7e59e3": {
      "model_module": "@jupyter-widgets/controls",
      "model_module_version": "1.5.0",
      "model_name": "DescriptionStyleModel",
      "state": {
       "description_width": ""
      }
     },
     "2bec813f67514323a71cdc466275aa2a": {
      "model_module": "@jupyter-widgets/controls",
      "model_module_version": "1.5.0",
      "model_name": "HTMLModel",
      "state": {
       "layout": "IPY_MODEL_6883390e98044eda91b5da183d31ec8d",
       "style": "IPY_MODEL_2ad488df87014c88b5f3d35043554438",
       "value": " 28/28 [00:08&lt;00:00,  4.62it/s, Completed]"
      }
     },
     "2bfafa5f912248e3ba9876429e7c766f": {
      "model_module": "@jupyter-widgets/base",
      "model_module_version": "1.2.0",
      "model_name": "LayoutModel",
      "state": {
       "grid_area": "widget003"
      }
     },
     "2c34ba3b41344346b9f6676dbad635e7": {
      "model_module": "@jupyter-widgets/controls",
      "model_module_version": "1.5.0",
      "model_name": "HTMLModel",
      "state": {
       "layout": "IPY_MODEL_bb8b8b043e1c47d584f122723601c2cd",
       "style": "IPY_MODEL_abc75a1043504ed382d07bf0212abb68",
       "value": "Missing cells (%)"
      }
     },
     "2c3538ce3774497780f0bbfa068567a7": {
      "model_module": "@jupyter-widgets/base",
      "model_module_version": "1.2.0",
      "model_name": "LayoutModel",
      "state": {}
     },
     "2c54410155584bb084a63f075d18a7e7": {
      "model_module": "@jupyter-widgets/base",
      "model_module_version": "1.2.0",
      "model_name": "LayoutModel",
      "state": {
       "grid_area": "widget009"
      }
     },
     "2cc55d6c4c14472bb4ad5611b3941c8e": {
      "model_module": "@jupyter-widgets/base",
      "model_module_version": "1.2.0",
      "model_name": "LayoutModel",
      "state": {}
     },
     "2ccb25b19b8947d88252c66b91f19907": {
      "model_module": "@jupyter-widgets/base",
      "model_module_version": "1.2.0",
      "model_name": "LayoutModel",
      "state": {
       "grid_area": "widget014"
      }
     },
     "2cda8d7088e24dc281cfa8793053e220": {
      "model_module": "@jupyter-widgets/base",
      "model_module_version": "1.2.0",
      "model_name": "LayoutModel",
      "state": {}
     },
     "2cdbbcff70de4f12bd6461c319cac382": {
      "model_module": "@jupyter-widgets/base",
      "model_module_version": "1.2.0",
      "model_name": "LayoutModel",
      "state": {
       "grid_area": "widget018"
      }
     },
     "2d03542bd65645599cc3d5c18f66524a": {
      "model_module": "@jupyter-widgets/controls",
      "model_module_version": "1.5.0",
      "model_name": "DescriptionStyleModel",
      "state": {
       "description_width": ""
      }
     },
     "2d2404d080a245c69ad882f596661362": {
      "model_module": "@jupyter-widgets/controls",
      "model_module_version": "1.5.0",
      "model_name": "HTMLModel",
      "state": {
       "layout": "IPY_MODEL_02aff68966bc47aca890eb7c42395580",
       "style": "IPY_MODEL_4622dd3e21b942119fa5849915d41eea",
       "value": "Kurtosis"
      }
     },
     "2d2ac2923de44baca6bbab0d3d5ac493": {
      "model_module": "@jupyter-widgets/base",
      "model_module_version": "1.2.0",
      "model_name": "LayoutModel",
      "state": {
       "grid_area": "widget018"
      }
     },
     "2d52d0bd32054497b66e32e80848fa06": {
      "model_module": "@jupyter-widgets/controls",
      "model_module_version": "1.5.0",
      "model_name": "DescriptionStyleModel",
      "state": {
       "description_width": ""
      }
     },
     "2d69db6f68ce4229be31b449454d71d2": {
      "model_module": "@jupyter-widgets/controls",
      "model_module_version": "1.5.0",
      "model_name": "ButtonModel",
      "state": {
       "description": "High correlation",
       "disabled": true,
       "layout": "IPY_MODEL_2cda8d7088e24dc281cfa8793053e220",
       "style": "IPY_MODEL_0736d94b09e14a769f2a7c6fad77fc1c"
      }
     },
     "2d71f6826ad4473ba1566e77b6fb5eec": {
      "model_module": "@jupyter-widgets/controls",
      "model_module_version": "1.5.0",
      "model_name": "DescriptionStyleModel",
      "state": {
       "description_width": ""
      }
     },
     "2daf90521e9743b4bb4ef00d78495239": {
      "model_module": "@jupyter-widgets/base",
      "model_module_version": "1.2.0",
      "model_name": "LayoutModel",
      "state": {
       "grid_area": "widget009"
      }
     },
     "2dd35fc399684a12836bfe13f364ab5d": {
      "model_module": "@jupyter-widgets/controls",
      "model_module_version": "1.5.0",
      "model_name": "GridBoxModel",
      "state": {
       "children": [
        "IPY_MODEL_6587b637c2e54f2f894388548d7cdfc1",
        "IPY_MODEL_7745ca52928247f985383bff084bb939",
        "IPY_MODEL_f1de64e6ccad4eddb293e5a3a9e53361",
        "IPY_MODEL_be4f7642f5a94725947dce1be2b0ea95",
        "IPY_MODEL_6af9b79de17d47d8b043fc97e10f64ea",
        "IPY_MODEL_cbf69b44f1984492922770397aa63920",
        "IPY_MODEL_c3c9276dc52b4bf893aecfc38f7388e0",
        "IPY_MODEL_6c3ebfa7942e4bca97de44ea86d0882c",
        "IPY_MODEL_245ca071902648bda093faf2fb602fc7",
        "IPY_MODEL_892f6f23b40342bc87c83608cb06f229"
       ],
       "layout": "IPY_MODEL_c32c34a6c1904dd8bd94181d770fd940"
      }
     },
     "2ddf58ed885e41db80b99dfcdc350204": {
      "model_module": "@jupyter-widgets/controls",
      "model_module_version": "1.5.0",
      "model_name": "FloatProgressModel",
      "state": {
       "layout": "IPY_MODEL_16ff124076234d9a9838c48d0af8d934",
       "max": 7,
       "style": "IPY_MODEL_e53041aff7d249aba399111f68f07ff6",
       "value": 1
      }
     },
     "2df8f6f5d0784d9495dc6701817853b1": {
      "model_module": "@jupyter-widgets/base",
      "model_module_version": "1.2.0",
      "model_name": "LayoutModel",
      "state": {
       "grid_area": "widget006"
      }
     },
     "2e0a69cfeaf64fa2be9e59588064f1c2": {
      "model_module": "@jupyter-widgets/controls",
      "model_module_version": "1.5.0",
      "model_name": "DescriptionStyleModel",
      "state": {
       "description_width": ""
      }
     },
     "2e45a1b1acc244ba95ba94189dcc69a2": {
      "model_module": "@jupyter-widgets/controls",
      "model_module_version": "1.5.0",
      "model_name": "LabelModel",
      "state": {
       "layout": "IPY_MODEL_60146de2aef448b894b2f3ac8f8adb7d",
       "style": "IPY_MODEL_803c2161bd0a46ad846a8407a4d93f8a",
       "value": "-0.13808287868031902"
      }
     },
     "2e4af74b34934af292fba39ac3bc0c86": {
      "model_module": "@jupyter-widgets/base",
      "model_module_version": "1.2.0",
      "model_name": "LayoutModel",
      "state": {
       "grid_area": "widget008"
      }
     },
     "2ecbd46b191a4b67ad95461aac345eb1": {
      "model_module": "@jupyter-widgets/base",
      "model_module_version": "1.2.0",
      "model_name": "LayoutModel",
      "state": {
       "grid_area": "widget017"
      }
     },
     "2ee677f4ba5e40558026f25967d3420c": {
      "model_module": "@jupyter-widgets/base",
      "model_module_version": "1.2.0",
      "model_name": "LayoutModel",
      "state": {}
     },
     "2eea15be653f4c01be58f7eaec9b1eae": {
      "model_module": "@jupyter-widgets/base",
      "model_module_version": "1.2.0",
      "model_name": "LayoutModel",
      "state": {
       "grid_area": "widget001"
      }
     },
     "2fa1b27b13784135850a26d87c76a103": {
      "model_module": "@jupyter-widgets/controls",
      "model_module_version": "1.5.0",
      "model_name": "HTMLModel",
      "state": {
       "layout": "IPY_MODEL_e94711c8ecad4bbbbf791cb898d92929",
       "style": "IPY_MODEL_c6db23355a33492fb9d7e52129d942f6",
       "value": "1.490329808"
      }
     },
     "2fa524b818114ff88df16646e8e24650": {
      "model_module": "@jupyter-widgets/base",
      "model_module_version": "1.2.0",
      "model_name": "LayoutModel",
      "state": {
       "width": "fit-content"
      }
     },
     "2fb1283df8454df0bdcd5d41364d421b": {
      "model_module": "@jupyter-widgets/controls",
      "model_module_version": "1.5.0",
      "model_name": "DescriptionStyleModel",
      "state": {
       "description_width": ""
      }
     },
     "2fe54160b0d54189a4d3ac3ca1f96732": {
      "model_module": "@jupyter-widgets/controls",
      "model_module_version": "1.5.0",
      "model_name": "HTMLModel",
      "state": {
       "layout": "IPY_MODEL_1ca89315d54d475f9c6bcd343df28d9c",
       "style": "IPY_MODEL_623017d7b0dc450da0dadc29d48432a8",
       "value": "<a class=\"anchor\" href=\"#pp_var_-639204677666888740\">\n        <code>0</code>\n    </a> is highly correlated with <code>df_index</code> and <abbr title=\"df_index, 1, 2\">2 other fields</abbr>"
      }
     },
     "2fed2d596aec4933ad7c202cab29c7c3": {
      "model_module": "@jupyter-widgets/base",
      "model_module_version": "1.2.0",
      "model_name": "LayoutModel",
      "state": {
       "grid_area": "widget005"
      }
     },
     "2ff8299cf071413086a709d2d6bd6201": {
      "model_module": "@jupyter-widgets/controls",
      "model_module_version": "1.5.0",
      "model_name": "HTMLModel",
      "state": {
       "layout": "IPY_MODEL_f42ffa7aca134c3d9b83115168550117",
       "style": "IPY_MODEL_8935d11cffcb41d7bc9ae4c7d0ed8ab2",
       "value": "<p style=\"color: #999\"><em><strong>Histogram with fixed size bins</strong> (bins=6)</em></p>"
      }
     },
     "3018655ad4c34c5786f422cf307780e1": {
      "model_module": "@jupyter-widgets/controls",
      "model_module_version": "1.5.0",
      "model_name": "DescriptionStyleModel",
      "state": {
       "description_width": ""
      }
     },
     "30653345018344a19797379ab66e4f84": {
      "model_module": "@jupyter-widgets/controls",
      "model_module_version": "1.5.0",
      "model_name": "DescriptionStyleModel",
      "state": {
       "description_width": ""
      }
     },
     "3068b88177f345a4812dee43146f88d1": {
      "model_module": "@jupyter-widgets/controls",
      "model_module_version": "1.5.0",
      "model_name": "DescriptionStyleModel",
      "state": {
       "description_width": ""
      }
     },
     "3090f31cf0cc4d64af10b9a0c4a9dc98": {
      "model_module": "@jupyter-widgets/base",
      "model_module_version": "1.2.0",
      "model_name": "LayoutModel",
      "state": {
       "grid_area": "widget009"
      }
     },
     "309c6d5ef387460b84b286e97736043a": {
      "model_module": "@jupyter-widgets/controls",
      "model_module_version": "1.5.0",
      "model_name": "DescriptionStyleModel",
      "state": {
       "description_width": ""
      }
     },
     "30c4704740294755a0b59ea9fa5ca62e": {
      "model_module": "@jupyter-widgets/controls",
      "model_module_version": "1.5.0",
      "model_name": "DescriptionStyleModel",
      "state": {
       "description_width": ""
      }
     },
     "30d39a4e80b14c1dadc5a8fc5ef6d5ea": {
      "model_module": "@jupyter-widgets/controls",
      "model_module_version": "1.5.0",
      "model_name": "DescriptionStyleModel",
      "state": {
       "description_width": ""
      }
     },
     "30d70407e6424d9588db2c672c505b8b": {
      "model_module": "@jupyter-widgets/base",
      "model_module_version": "1.2.0",
      "model_name": "LayoutModel",
      "state": {
       "grid_template_areas": "\"widget001 widget002\"\n\"widget003 widget004\"\n\"widget005 widget006\"\n\"widget007 widget008\"\n\"widget009 widget010\"\n\"widget011 widget012\"\n\"widget013 widget014\"\n\"widget015 widget016\"\n\"widget017 widget018\"",
       "grid_template_columns": "repeat(2, 1fr)",
       "grid_template_rows": "repeat(9, 1fr)"
      }
     },
     "30e10a8aff004eabbc69d8c505a5c3fc": {
      "model_module": "@jupyter-widgets/controls",
      "model_module_version": "1.5.0",
      "model_name": "ProgressStyleModel",
      "state": {
       "description_width": ""
      }
     },
     "30faf89242514c9790802263658dc879": {
      "model_module": "@jupyter-widgets/base",
      "model_module_version": "1.2.0",
      "model_name": "LayoutModel",
      "state": {
       "grid_area": "widget008"
      }
     },
     "31372a019e864ecfaee3516195e3ee73": {
      "model_module": "@jupyter-widgets/base",
      "model_module_version": "1.2.0",
      "model_name": "LayoutModel",
      "state": {
       "grid_area": "widget009"
      }
     },
     "314fc5457317418587e7f71bfa4c3123": {
      "model_module": "@jupyter-widgets/base",
      "model_module_version": "1.2.0",
      "model_name": "LayoutModel",
      "state": {
       "grid_area": "widget021"
      }
     },
     "3156bdd98ec84ae59ae33c62741f99c7": {
      "model_module": "@jupyter-widgets/base",
      "model_module_version": "1.2.0",
      "model_name": "LayoutModel",
      "state": {}
     },
     "3178bc496bc141908fc29672e7dedccf": {
      "model_module": "@jupyter-widgets/controls",
      "model_module_version": "1.5.0",
      "model_name": "HTMLModel",
      "state": {
       "layout": "IPY_MODEL_05af801293c845cd9d43934ce28edd6a",
       "style": "IPY_MODEL_90ced781224745d3bec71fec0e997a83",
       "value": " 1/1 [00:02&lt;00:00,  2.35s/it]"
      }
     },
     "3195c2e251334b5ab65499e098f4c13e": {
      "model_module": "@jupyter-widgets/base",
      "model_module_version": "1.2.0",
      "model_name": "LayoutModel",
      "state": {
       "grid_area": "widget011"
      }
     },
     "3197ba448d744df289d9b240b50fb14e": {
      "model_module": "@jupyter-widgets/base",
      "model_module_version": "1.2.0",
      "model_name": "LayoutModel",
      "state": {
       "grid_area": "widget001"
      }
     },
     "319a8a0c2e774c58958323628c5d41de": {
      "model_module": "@jupyter-widgets/base",
      "model_module_version": "1.2.0",
      "model_name": "LayoutModel",
      "state": {
       "grid_area": "widget010"
      }
     },
     "31a44e5ef256472094fb41b25f74b454": {
      "model_module": "@jupyter-widgets/controls",
      "model_module_version": "1.5.0",
      "model_name": "DescriptionStyleModel",
      "state": {
       "description_width": ""
      }
     },
     "31aea782f6324cbabd1a2e037aaad246": {
      "model_module": "@jupyter-widgets/controls",
      "model_module_version": "1.5.0",
      "model_name": "VBoxModel",
      "state": {
       "children": [
        "IPY_MODEL_df48de39c5a247b9aed039519de66215"
       ],
       "layout": "IPY_MODEL_0c06ee7ed2b0409eb4c89c3f2983ec30"
      }
     },
     "31e9fb84aa8843ff8ef9760544cc2317": {
      "model_module": "@jupyter-widgets/controls",
      "model_module_version": "1.5.0",
      "model_name": "ProgressStyleModel",
      "state": {
       "description_width": ""
      }
     },
     "31eb3e9c7ca24204bcaea17f5b2664c2": {
      "model_module": "@jupyter-widgets/controls",
      "model_module_version": "1.5.0",
      "model_name": "LabelModel",
      "state": {
       "layout": "IPY_MODEL_e088db41e07b4456a9ec112eb17cd8a7",
       "style": "IPY_MODEL_37cf3dda94ca485daaf8fa022738d394",
       "value": "1"
      }
     },
     "32f11532de94456ea2c244b6f30f4e62": {
      "model_module": "@jupyter-widgets/controls",
      "model_module_version": "1.5.0",
      "model_name": "HTMLModel",
      "state": {
       "layout": "IPY_MODEL_26a6bb6940a6449f8753e8798c631945",
       "style": "IPY_MODEL_78d900085bfd49239f5e2c44a7047a30",
       "value": "Monotonicity"
      }
     },
     "32fa99d6f5e741db8c6b049aa582b837": {
      "model_module": "@jupyter-widgets/base",
      "model_module_version": "1.2.0",
      "model_name": "LayoutModel",
      "state": {}
     },
     "331261236885492d813cd820ddc8276f": {
      "model_module": "@jupyter-widgets/controls",
      "model_module_version": "1.5.0",
      "model_name": "HTMLModel",
      "state": {
       "layout": "IPY_MODEL_103dab6891974a78befcc082f544597d",
       "style": "IPY_MODEL_5f11991f399140c9948bd43fdd8c308d",
       "value": "0.1626739077"
      }
     },
     "33162356eb954074b9510d6ff25fdab1": {
      "model_module": "@jupyter-widgets/base",
      "model_module_version": "1.2.0",
      "model_name": "LayoutModel",
      "state": {
       "grid_area": "widget010"
      }
     },
     "3357b43f4da44bd28853bbfc8f1e0baa": {
      "model_module": "@jupyter-widgets/base",
      "model_module_version": "1.2.0",
      "model_name": "LayoutModel",
      "state": {
       "grid_area": "widget011"
      }
     },
     "33c7e33178784208974ffb51f0db7e37": {
      "model_module": "@jupyter-widgets/controls",
      "model_module_version": "1.5.0",
      "model_name": "DescriptionStyleModel",
      "state": {
       "description_width": ""
      }
     },
     "345626f3bc4f403b929991dfadcd7a5e": {
      "model_module": "@jupyter-widgets/base",
      "model_module_version": "1.2.0",
      "model_name": "LayoutModel",
      "state": {
       "grid_area": "widget009"
      }
     },
     "3476e339096742e9b81b7fa6746da1ba": {
      "model_module": "@jupyter-widgets/controls",
      "model_module_version": "1.5.0",
      "model_name": "HTMLModel",
      "state": {
       "layout": "IPY_MODEL_84480a70c2bb403daa2ab7312c65df35",
       "style": "IPY_MODEL_d6a81078ab4746389082d50f58ffac39",
       "value": "<span style=\"color:var(--jp-error-color1)\">Missing (%)</span>"
      }
     },
     "34cca3877cec4ec38f4bddfac44df688": {
      "model_module": "@jupyter-widgets/controls",
      "model_module_version": "1.5.0",
      "model_name": "HTMLModel",
      "state": {
       "layout": "IPY_MODEL_fb575d67de2544648c0fbeeae03a5765",
       "style": "IPY_MODEL_89b0d8038b1e4856a607b8ec8d8e874a",
       "value": "0.9697308649"
      }
     },
     "3529156012a542ce84013ccb764bd4df": {
      "model_module": "@jupyter-widgets/base",
      "model_module_version": "1.2.0",
      "model_name": "LayoutModel",
      "state": {
       "grid_template_areas": "\"widget001 widget002\"\n\"widget003 widget004\"\n\"widget005 widget006\"\n\"widget007 widget008\"\n\"widget009 widget010\"",
       "grid_template_columns": "repeat(2, 1fr)",
       "grid_template_rows": "repeat(5, 1fr)"
      }
     },
     "35491259f37f463da14d736c493979bd": {
      "model_module": "@jupyter-widgets/controls",
      "model_module_version": "1.5.0",
      "model_name": "FloatProgressModel",
      "state": {
       "layout": "IPY_MODEL_3fb566b530034fd68c9fc30220710bb2",
       "max": 7,
       "style": "IPY_MODEL_c02e1aaa63c74cfeb32735d2e9a9c3bd",
       "value": 1
      }
     },
     "3555ab1916c44191b6c034a59ad24e59": {
      "model_module": "@jupyter-widgets/controls",
      "model_module_version": "1.5.0",
      "model_name": "DescriptionStyleModel",
      "state": {
       "description_width": ""
      }
     },
     "355d08b05deb4db8add57608c360e25f": {
      "model_module": "@jupyter-widgets/controls",
      "model_module_version": "1.5.0",
      "model_name": "HTMLModel",
      "state": {
       "layout": "IPY_MODEL_43ff1d9c9e0d4e23b8ce6f5296a8579b",
       "style": "IPY_MODEL_97a5aecc73f34aa7b12e22df991ac9eb",
       "value": "Variance"
      }
     },
     "35607ca698cb46d9869aa459a8debc25": {
      "model_module": "@jupyter-widgets/controls",
      "model_module_version": "1.5.0",
      "model_name": "LabelModel",
      "state": {
       "layout": "IPY_MODEL_caea91adc237439da337e5fc4de0b672",
       "style": "IPY_MODEL_0c6e022c64504948b05586d41a94493c",
       "value": "0.9756665285884356"
      }
     },
     "3604bb6e4a724bb58b79742483230164": {
      "model_module": "@jupyter-widgets/base",
      "model_module_version": "1.2.0",
      "model_name": "LayoutModel",
      "state": {
       "grid_area": "widget004"
      }
     },
     "36185f3f1fd7482e9d7b0dd6a405e75f": {
      "model_module": "@jupyter-widgets/base",
      "model_module_version": "1.2.0",
      "model_name": "LayoutModel",
      "state": {
       "grid_area": "widget014"
      }
     },
     "3633942102c949e09b44a15d34a524cd": {
      "model_module": "@jupyter-widgets/controls",
      "model_module_version": "1.5.0",
      "model_name": "HTMLModel",
      "state": {
       "layout": "IPY_MODEL_ebc00517f77347d6b54e29686bb92543",
       "style": "IPY_MODEL_3a8268be56604be5a0aa074f894df0ac",
       "value": "6"
      }
     },
     "36ef7308164b49cda17152f5b122eea6": {
      "model_module": "@jupyter-widgets/base",
      "model_module_version": "1.2.0",
      "model_name": "LayoutModel",
      "state": {
       "grid_area": "widget014"
      }
     },
     "36f7d67f50e14e57a31d4e0ce5e7cd02": {
      "model_module": "@jupyter-widgets/controls",
      "model_module_version": "1.5.0",
      "model_name": "FloatProgressModel",
      "state": {
       "layout": "IPY_MODEL_0ed6398a591d4fe892f0a8ff04e01046",
       "max": 7,
       "style": "IPY_MODEL_88451a50ee7d4e4b8a5cadc2fe5d3599",
       "value": 1
      }
     },
     "37111548006249c78bf508591929e46a": {
      "model_module": "@jupyter-widgets/controls",
      "model_module_version": "1.5.0",
      "model_name": "DescriptionStyleModel",
      "state": {
       "description_width": ""
      }
     },
     "37218bb93b6647aeab18022d797e839b": {
      "model_module": "@jupyter-widgets/controls",
      "model_module_version": "1.5.0",
      "model_name": "DescriptionStyleModel",
      "state": {
       "description_width": ""
      }
     },
     "37577913b20b4100852f408d43b7e599": {
      "model_module": "@jupyter-widgets/controls",
      "model_module_version": "1.5.0",
      "model_name": "DescriptionStyleModel",
      "state": {
       "description_width": ""
      }
     },
     "375d84128b2b4e22b16abb40029b07ee": {
      "model_module": "@jupyter-widgets/controls",
      "model_module_version": "1.5.0",
      "model_name": "DescriptionStyleModel",
      "state": {
       "description_width": ""
      }
     },
     "378d22ede89c40f19e6380419c8291b9": {
      "model_module": "@jupyter-widgets/controls",
      "model_module_version": "1.5.0",
      "model_name": "FloatProgressModel",
      "state": {
       "layout": "IPY_MODEL_b99f31e645fb4481bb409455bbd80178",
       "max": 7,
       "style": "IPY_MODEL_8780a160c72a4a23a9cbe49c00b2f603",
       "value": 1
      }
     },
     "37cf3dda94ca485daaf8fa022738d394": {
      "model_module": "@jupyter-widgets/controls",
      "model_module_version": "1.5.0",
      "model_name": "DescriptionStyleModel",
      "state": {
       "description_width": ""
      }
     },
     "37d4912cf79b4e4ca8613cd9c31f8143": {
      "model_module": "@jupyter-widgets/base",
      "model_module_version": "1.2.0",
      "model_name": "LayoutModel",
      "state": {}
     },
     "37e34fa7e31349c0903febb04ce0ac2e": {
      "model_module": "@jupyter-widgets/base",
      "model_module_version": "1.2.0",
      "model_name": "LayoutModel",
      "state": {
       "grid_area": "widget008"
      }
     },
     "3819ec0595624b8e8f0ec58ecde6aadc": {
      "model_module": "@jupyter-widgets/controls",
      "model_module_version": "1.5.0",
      "model_name": "DescriptionStyleModel",
      "state": {
       "description_width": ""
      }
     },
     "382f63f3952b43c88f316b1d97f2432f": {
      "model_module": "@jupyter-widgets/controls",
      "model_module_version": "1.5.0",
      "model_name": "HTMLModel",
      "state": {
       "layout": "IPY_MODEL_c3486b0563604506bac26ad1ae60a2de",
       "style": "IPY_MODEL_974a6b229fb945dc9911209bd9362fd0",
       "value": "Missing (%)"
      }
     },
     "385c9ede025b436c81910dcc05cd4705": {
      "model_module": "@jupyter-widgets/controls",
      "model_module_version": "1.5.0",
      "model_name": "HTMLModel",
      "state": {
       "layout": "IPY_MODEL_4e4ab3c2cbc34a32a0a558274b97a77a",
       "style": "IPY_MODEL_cb9075632444420da06a81bfdf138eb4",
       "value": "<span style=\"color:var(--jp-error-color1)\">Missing (%)</span>"
      }
     },
     "389e08eedd5b4c3eadab40bf3d17724a": {
      "model_module": "@jupyter-widgets/controls",
      "model_module_version": "1.5.0",
      "model_name": "VBoxModel",
      "state": {
       "children": [
        "IPY_MODEL_9095ea6e3d1b408b94b7cd081323f53f"
       ],
       "layout": "IPY_MODEL_a72448a819e842ee975c51158570b278"
      }
     },
     "38ae9b75cd9f48158396218b50edd924": {
      "model_module": "@jupyter-widgets/base",
      "model_module_version": "1.2.0",
      "model_name": "LayoutModel",
      "state": {
       "grid_area": "widget010"
      }
     },
     "38c14223088546b18e1ccc98a4912337": {
      "model_module": "@jupyter-widgets/controls",
      "model_module_version": "1.5.0",
      "model_name": "DescriptionStyleModel",
      "state": {
       "description_width": ""
      }
     },
     "392658c38a34438ab11a1b04f4945d62": {
      "model_module": "@jupyter-widgets/controls",
      "model_module_version": "1.5.0",
      "model_name": "HTMLModel",
      "state": {
       "layout": "IPY_MODEL_41f2afe7377b4ca8a57b8a6df237e2fa",
       "style": "IPY_MODEL_759f6efbebd4457d8dc8131a17abdfcb",
       "value": "Skewness"
      }
     },
     "3943be771c564fc3b611ce256a0f022f": {
      "model_module": "@jupyter-widgets/controls",
      "model_module_version": "1.5.0",
      "model_name": "LabelModel",
      "state": {
       "layout": "IPY_MODEL_a184569cab3e4bb68da5b0cf0231e177",
       "style": "IPY_MODEL_2a406d411a5c4b5babcdff6f8dff19e9",
       "value": "1"
      }
     },
     "39459e8acca048e69eaf38e6487067b5": {
      "model_module": "@jupyter-widgets/base",
      "model_module_version": "1.2.0",
      "model_name": "LayoutModel",
      "state": {}
     },
     "3947a2674aff477b97fb6e5e5c901a2e": {
      "model_module": "@jupyter-widgets/base",
      "model_module_version": "1.2.0",
      "model_name": "LayoutModel",
      "state": {
       "grid_area": "widget016"
      }
     },
     "399500797b3841e285804faab9deaa75": {
      "model_module": "@jupyter-widgets/controls",
      "model_module_version": "1.5.0",
      "model_name": "HTMLModel",
      "state": {
       "layout": "IPY_MODEL_a8d3e92d585b4e7f9ef2ad3d840f8d4c",
       "style": "IPY_MODEL_d66e0e218b944c8f8d92846b9952591d",
       "value": "Infinite"
      }
     },
     "39d93cfb80844623af68952acb225b0e": {
      "model_module": "@jupyter-widgets/controls",
      "model_module_version": "1.5.0",
      "model_name": "DescriptionStyleModel",
      "state": {
       "description_width": ""
      }
     },
     "3a336f493823469b88af22ff919c9904": {
      "model_module": "@jupyter-widgets/controls",
      "model_module_version": "1.5.0",
      "model_name": "FloatProgressModel",
      "state": {
       "bar_style": "success",
       "layout": "IPY_MODEL_166610f2e9f5450e846ab5f4ce294874",
       "max": 5,
       "style": "IPY_MODEL_4fa1bd8a7b6c48c082869f3b2bc3b090",
       "value": 5
      }
     },
     "3a430bc38e9b427893b9f26696a079c0": {
      "model_module": "@jupyter-widgets/controls",
      "model_module_version": "1.5.0",
      "model_name": "DescriptionStyleModel",
      "state": {
       "description_width": ""
      }
     },
     "3a6f5ed04da94baface76471fd50978e": {
      "model_module": "@jupyter-widgets/base",
      "model_module_version": "1.2.0",
      "model_name": "LayoutModel",
      "state": {}
     },
     "3a8268be56604be5a0aa074f894df0ac": {
      "model_module": "@jupyter-widgets/controls",
      "model_module_version": "1.5.0",
      "model_name": "DescriptionStyleModel",
      "state": {
       "description_width": ""
      }
     },
     "3a8d4f8eaaa748e2994f7579f52ec883": {
      "model_module": "@jupyter-widgets/base",
      "model_module_version": "1.2.0",
      "model_name": "LayoutModel",
      "state": {
       "grid_area": "widget016"
      }
     },
     "3aa046a5461c43959df698f03355c86d": {
      "model_module": "@jupyter-widgets/base",
      "model_module_version": "1.2.0",
      "model_name": "LayoutModel",
      "state": {}
     },
     "3aa06bebc0a8423883bb29b89642777b": {
      "model_module": "@jupyter-widgets/base",
      "model_module_version": "1.2.0",
      "model_name": "LayoutModel",
      "state": {
       "grid_area": "widget008"
      }
     },
     "3b2a76d7d4fe472883c7b211f808b42e": {
      "model_module": "@jupyter-widgets/controls",
      "model_module_version": "1.5.0",
      "model_name": "ProgressStyleModel",
      "state": {
       "description_width": ""
      }
     },
     "3b426375917b49239c2b02df2cfecb1b": {
      "model_module": "@jupyter-widgets/base",
      "model_module_version": "1.2.0",
      "model_name": "LayoutModel",
      "state": {
       "grid_template_areas": "\"widget001 widget002 widget003\"\n\"widget004 widget005 widget006\"\n\"widget007 widget008 widget009\"\n\"widget010 widget011 widget012\"\n\"widget013 widget014 widget015\"\n\"widget016 widget017 widget018\"",
       "grid_template_columns": "repeat(3, 1fr)",
       "grid_template_rows": "repeat(6, 1fr)"
      }
     },
     "3b4d7d7f1e7e43079e792890b47b4835": {
      "model_module": "@jupyter-widgets/base",
      "model_module_version": "1.2.0",
      "model_name": "LayoutModel",
      "state": {
       "grid_area": "widget001"
      }
     },
     "3b6f377569494d4da9ce0d96ef82755f": {
      "model_module": "@jupyter-widgets/controls",
      "model_module_version": "1.5.0",
      "model_name": "LabelModel",
      "state": {
       "layout": "IPY_MODEL_e23370b469c04f8c85bfd9b40cfcd7d1",
       "style": "IPY_MODEL_7a5aef34ac204b46b7e1c65550e93cc1",
       "value": "-0.0272687101379228"
      }
     },
     "3b9c23eea87c4aaf9a4ff2415bbaecb4": {
      "model_module": "@jupyter-widgets/controls",
      "model_module_version": "1.5.0",
      "model_name": "HTMLModel",
      "state": {
       "layout": "IPY_MODEL_cb851c39adb0485e900bd515269ea0d0",
       "style": "IPY_MODEL_67d7d073caff43ceb8d62eb01467bb7d",
       "value": "<p class=\"h4\" title=\"2\"><a\n        href=\"#pp_var_6827126652454450942\">2</a><br/>\n    <small>Real number (&Ropf;<sub>&ge;0</sub>)</small>\n</p>\n    <code><abbr title=\"This variable has a high correlation with 3 fields: df_index, 0, 1\">HIGH CORRELATION</abbr></code><br />\n    <code>MISSING</code><br />\n<p class=\"variable-description\">\n    \n</p>"
      }
     },
     "3bb6586f166d49d59c9c6b947b91a0cd": {
      "model_module": "@jupyter-widgets/controls",
      "model_module_version": "1.5.0",
      "model_name": "HTMLModel",
      "state": {
       "layout": "IPY_MODEL_8059d5a342bb4734be925ae0ab355b0d",
       "style": "IPY_MODEL_baf3b7fa2a6748008603a2165dcdfb65",
       "value": "0.06793242453"
      }
     },
     "3be399b3d884493cbbe46435546db396": {
      "model_module": "@jupyter-widgets/controls",
      "model_module_version": "1.5.0",
      "model_name": "DescriptionStyleModel",
      "state": {
       "description_width": ""
      }
     },
     "3c142342bae04467931665251021b2b5": {
      "model_module": "@jupyter-widgets/controls",
      "model_module_version": "1.5.0",
      "model_name": "DescriptionStyleModel",
      "state": {
       "description_width": ""
      }
     },
     "3c4fcac0263b42fc92f85a871abfd1bc": {
      "model_module": "@jupyter-widgets/base",
      "model_module_version": "1.2.0",
      "model_name": "LayoutModel",
      "state": {
       "grid_area": "widget001"
      }
     },
     "3c5d3ce3e73448bab395091f8e78f8cb": {
      "model_module": "@jupyter-widgets/controls",
      "model_module_version": "1.5.0",
      "model_name": "HTMLModel",
      "state": {
       "layout": "IPY_MODEL_c87f34be3f2141cda1d974c451c92e31",
       "style": "IPY_MODEL_9e6d7459313b4f5ab00a9e3032beb9d8",
       "value": "Q1"
      }
     },
     "3c7beff5753c46c3a10c22ba4848bbb1": {
      "model_module": "@jupyter-widgets/controls",
      "model_module_version": "1.5.0",
      "model_name": "DescriptionStyleModel",
      "state": {
       "description_width": ""
      }
     },
     "3ccfc5c419e74b0ab116cda339b3506d": {
      "model_module": "@jupyter-widgets/controls",
      "model_module_version": "1.5.0",
      "model_name": "VBoxModel",
      "state": {
       "children": [
        "IPY_MODEL_0314f7e7164548ae8ee6c2dd9355bb6b",
        "IPY_MODEL_9a7f28df86b44744890a3af550f2fc62"
       ],
       "layout": "IPY_MODEL_a965ee8008a3445cb9038a4b6baaf3e4"
      }
     },
     "3cea0e12aa6349cfb36666d7077e0a40": {
      "model_module": "@jupyter-widgets/controls",
      "model_module_version": "1.5.0",
      "model_name": "HTMLModel",
      "state": {
       "layout": "IPY_MODEL_51832888214d47bbb50e3961f00e0575",
       "style": "IPY_MODEL_14550ea038124ff8ad90ec811691a9cf",
       "value": "Distinct (%)"
      }
     },
     "3d2db126586e4b1ca3505bf66b84564e": {
      "model_module": "@jupyter-widgets/controls",
      "model_module_version": "1.5.0",
      "model_name": "DescriptionStyleModel",
      "state": {
       "description_width": ""
      }
     },
     "3d76c240246041e086ab86da7dc0df95": {
      "model_module": "@jupyter-widgets/controls",
      "model_module_version": "1.5.0",
      "model_name": "VBoxModel",
      "state": {
       "children": [
        "IPY_MODEL_e9130249a3ee4369bfc63eeb0f4132ba"
       ],
       "layout": "IPY_MODEL_0e2ec57217a24668a9a7f6982e8ef373"
      }
     },
     "3d92fc54433e43b895d56d1bd99232ec": {
      "model_module": "@jupyter-widgets/controls",
      "model_module_version": "1.5.0",
      "model_name": "LabelModel",
      "state": {
       "layout": "IPY_MODEL_730e24d3c92f4549ae24b64a00ae5d7f",
       "style": "IPY_MODEL_837522fc8f6448a7ae920e76e097b490",
       "value": "1"
      }
     },
     "3db360c4cfb343c6968b1985d985a07c": {
      "model_module": "@jupyter-widgets/controls",
      "model_module_version": "1.5.0",
      "model_name": "TabModel",
      "state": {
       "_titles": {
        "0": "Overview",
        "1": "Alerts (8)",
        "2": "Reproduction"
       },
       "children": [
        "IPY_MODEL_88a1812eac8b4bc28ada946314be8637",
        "IPY_MODEL_85336a21c26c4c50a96010ddd1c0f82f",
        "IPY_MODEL_fc0f70b553fa422aa4317f5909227bd2"
       ],
       "layout": "IPY_MODEL_c6479261b02446e2ae98327294a739d4"
      }
     },
     "3dce109d5e5c4cada8b4ed0c5868af9e": {
      "model_module": "@jupyter-widgets/controls",
      "model_module_version": "1.5.0",
      "model_name": "DescriptionStyleModel",
      "state": {
       "description_width": ""
      }
     },
     "3dfbebdb188c43f4865538609473fc73": {
      "model_module": "@jupyter-widgets/base",
      "model_module_version": "1.2.0",
      "model_name": "LayoutModel",
      "state": {
       "grid_area": "widget008"
      }
     },
     "3dfd7cf9d5ec4a3ea2ceaffdb9556865": {
      "model_module": "@jupyter-widgets/base",
      "model_module_version": "1.2.0",
      "model_name": "LayoutModel",
      "state": {
       "grid_template_columns": "50% 50%",
       "width": "100%"
      }
     },
     "3e064294b06a4170bd970725e2fe8297": {
      "model_module": "@jupyter-widgets/controls",
      "model_module_version": "1.5.0",
      "model_name": "DescriptionStyleModel",
      "state": {
       "description_width": ""
      }
     },
     "3e2b166629d248d78deb3cedcb5865a1": {
      "model_module": "@jupyter-widgets/base",
      "model_module_version": "1.2.0",
      "model_name": "LayoutModel",
      "state": {
       "grid_area": "widget013"
      }
     },
     "3e5c8c8052b54a75b7473579646e1bfb": {
      "model_module": "@jupyter-widgets/controls",
      "model_module_version": "1.5.0",
      "model_name": "DescriptionStyleModel",
      "state": {
       "description_width": ""
      }
     },
     "3e62ba691226437794e5203466c7e19b": {
      "model_module": "@jupyter-widgets/controls",
      "model_module_version": "1.5.0",
      "model_name": "VBoxModel",
      "state": {
       "children": [
        "IPY_MODEL_509b4b858d9c40aaa7c8a09247d38b83"
       ],
       "layout": "IPY_MODEL_200e67acac0443168b2642a3036e0a5a"
      }
     },
     "3e8cf841e54244f49cb8652144344da7": {
      "model_module": "@jupyter-widgets/controls",
      "model_module_version": "1.5.0",
      "model_name": "LabelModel",
      "state": {
       "layout": "IPY_MODEL_0a192e26be404d7bbd009d9b4ab671ca",
       "style": "IPY_MODEL_b6aadda657c84329a516a9df8be955da",
       "value": "1.5719447334092151"
      }
     },
     "3eaebb24baa1456f9a8c9f242499b06c": {
      "model_module": "@jupyter-widgets/base",
      "model_module_version": "1.2.0",
      "model_name": "LayoutModel",
      "state": {
       "grid_area": "widget013"
      }
     },
     "3f1e453ba6b24d09921d6a4e4447ea90": {
      "model_module": "@jupyter-widgets/controls",
      "model_module_version": "1.5.0",
      "model_name": "HTMLModel",
      "state": {
       "layout": "IPY_MODEL_56cbbb17e5024bc987ff408a2fc1db86",
       "style": "IPY_MODEL_c85accae888a463ebdb9ae7c05a1cae3",
       "value": "<a class=\"anchor\" href=\"#pp_var_6827126652454450942\">\n        <code>2</code>\n    </a> is highly correlated with <code>df_index</code> and <abbr title=\"df_index, 0, 1\">2 other fields</abbr>"
      }
     },
     "3f1f465190af4d2d8d38dfd372daab0c": {
      "model_module": "@jupyter-widgets/controls",
      "model_module_version": "1.5.0",
      "model_name": "HTMLModel",
      "state": {
       "layout": "IPY_MODEL_6c9bee2443c240e09387067e1608766f",
       "style": "IPY_MODEL_9937e78ce9ea4a2499b04ba985456165",
       "value": "Duplicate rows (%)"
      }
     },
     "3fa65b99449b491380b2268f19bfd9fd": {
      "model_module": "@jupyter-widgets/controls",
      "model_module_version": "1.5.0",
      "model_name": "FloatProgressModel",
      "state": {
       "layout": "IPY_MODEL_67ee9671d7f54f7c9c1640d6273150b5",
       "max": 7,
       "style": "IPY_MODEL_9cdbc428bba7482e856109822bd63cdb",
       "value": 1
      }
     },
     "3fb566b530034fd68c9fc30220710bb2": {
      "model_module": "@jupyter-widgets/base",
      "model_module_version": "1.2.0",
      "model_name": "LayoutModel",
      "state": {
       "grid_area": "widget008"
      }
     },
     "3fdc140343b04ae88b08bdbd4c0f390f": {
      "model_module": "@jupyter-widgets/controls",
      "model_module_version": "1.5.0",
      "model_name": "HBoxModel",
      "state": {
       "children": [
        "IPY_MODEL_17477363182145c5a039c2e848d1453f",
        "IPY_MODEL_3a336f493823469b88af22ff919c9904",
        "IPY_MODEL_2bec813f67514323a71cdc466275aa2a"
       ],
       "layout": "IPY_MODEL_6051b3dce02347e181023961d5fa677d"
      }
     },
     "3ff9559cecc8488a80c7dce7ac1dd61e": {
      "model_module": "@jupyter-widgets/controls",
      "model_module_version": "1.5.0",
      "model_name": "DescriptionStyleModel",
      "state": {
       "description_width": ""
      }
     },
     "4030f155b2724070b4eeb78922ec4ba1": {
      "model_module": "@jupyter-widgets/base",
      "model_module_version": "1.2.0",
      "model_name": "LayoutModel",
      "state": {
       "grid_area": "widget002"
      }
     },
     "407171418ffb4b358b9f300c8a64759f": {
      "model_module": "@jupyter-widgets/controls",
      "model_module_version": "1.5.0",
      "model_name": "VBoxModel",
      "state": {
       "children": [
        "IPY_MODEL_2ae43343de7f4b538fe84571ce338f4f",
        "IPY_MODEL_66360461ecb74b139afc41d93fa49d38"
       ],
       "layout": "IPY_MODEL_b68363e9ffdb440ba7215c32c1b98378"
      }
     },
     "4072edd550444f50874c45f6e19629f9": {
      "model_module": "@jupyter-widgets/controls",
      "model_module_version": "1.5.0",
      "model_name": "LabelModel",
      "state": {
       "layout": "IPY_MODEL_a1ff62c44355430fb33843ab56e5e535",
       "style": "IPY_MODEL_476dc932af564326a464a97752c6e621",
       "value": "1"
      }
     },
     "4083af3c27ae4b0fa19e4079801307e7": {
      "model_module": "@jupyter-widgets/controls",
      "model_module_version": "1.5.0",
      "model_name": "DescriptionStyleModel",
      "state": {
       "description_width": ""
      }
     },
     "4096149605e04953add057099db789a2": {
      "model_module": "@jupyter-widgets/base",
      "model_module_version": "1.2.0",
      "model_name": "LayoutModel",
      "state": {
       "grid_template_columns": "50% 50%",
       "width": "100%"
      }
     },
     "40bce4adaea84f62a81838d7e84d49d9": {
      "model_module": "@jupyter-widgets/controls",
      "model_module_version": "1.5.0",
      "model_name": "ProgressStyleModel",
      "state": {
       "description_width": ""
      }
     },
     "4101563e8098452db879a04d0ab92082": {
      "model_module": "@jupyter-widgets/controls",
      "model_module_version": "1.5.0",
      "model_name": "DescriptionStyleModel",
      "state": {
       "description_width": ""
      }
     },
     "41122406c08e4d9191c17568eb92afc8": {
      "model_module": "@jupyter-widgets/base",
      "model_module_version": "1.2.0",
      "model_name": "LayoutModel",
      "state": {
       "grid_area": "widget020"
      }
     },
     "411d7ba94d2341b48408c7579e758364": {
      "model_module": "@jupyter-widgets/controls",
      "model_module_version": "1.5.0",
      "model_name": "HTMLModel",
      "state": {
       "layout": "IPY_MODEL_f68e886aa5e84a0288a4e3c74639bd52",
       "style": "IPY_MODEL_21dafa25a31b44d9b873fd15498b4856",
       "value": "10.7%"
      }
     },
     "4120d992ceac4038bacfc24aa503a203": {
      "model_module": "@jupyter-widgets/base",
      "model_module_version": "1.2.0",
      "model_name": "LayoutModel",
      "state": {}
     },
     "413bbe2420ac4442a7109e5ed66df904": {
      "model_module": "@jupyter-widgets/base",
      "model_module_version": "1.2.0",
      "model_name": "LayoutModel",
      "state": {
       "grid_area": "widget018"
      }
     },
     "413d22fbef5448369027383135e2a0cf": {
      "model_module": "@jupyter-widgets/base",
      "model_module_version": "1.2.0",
      "model_name": "LayoutModel",
      "state": {}
     },
     "414869b6aa514a77817feb74b0250a23": {
      "model_module": "@jupyter-widgets/base",
      "model_module_version": "1.2.0",
      "model_name": "LayoutModel",
      "state": {
       "grid_area": "widget013"
      }
     },
     "4166b96ba9e945dd9470dae95f863265": {
      "model_module": "@jupyter-widgets/base",
      "model_module_version": "1.2.0",
      "model_name": "LayoutModel",
      "state": {
       "grid_area": "widget005"
      }
     },
     "416d62ba85004b7c80b7ad61e400b30b": {
      "model_module": "@jupyter-widgets/base",
      "model_module_version": "1.2.0",
      "model_name": "LayoutModel",
      "state": {
       "grid_area": "widget011"
      }
     },
     "41989a78dd8744edb1aaeb219e97db01": {
      "model_module": "@jupyter-widgets/base",
      "model_module_version": "1.2.0",
      "model_name": "LayoutModel",
      "state": {
       "grid_area": "widget014"
      }
     },
     "41f2afe7377b4ca8a57b8a6df237e2fa": {
      "model_module": "@jupyter-widgets/base",
      "model_module_version": "1.2.0",
      "model_name": "LayoutModel",
      "state": {
       "grid_area": "widget011"
      }
     },
     "422c08b35dae4db6b16254910c684894": {
      "model_module": "@jupyter-widgets/controls",
      "model_module_version": "1.5.0",
      "model_name": "HTMLModel",
      "state": {
       "layout": "IPY_MODEL_60308aac948c4102865bb46e5a0c1d1a",
       "style": "IPY_MODEL_9a223cb1b06640cbbacb8a61c91c75fb",
       "value": "0.9068418063"
      }
     },
     "422f966d80134cceba2e2a131d4ed3ab": {
      "model_module": "@jupyter-widgets/base",
      "model_module_version": "1.2.0",
      "model_name": "LayoutModel",
      "state": {}
     },
     "42420f45207c4514844d0da894c8763b": {
      "model_module": "@jupyter-widgets/controls",
      "model_module_version": "1.5.0",
      "model_name": "HTMLModel",
      "state": {
       "layout": "IPY_MODEL_5fda7c1cbb7b491080a1f38325e2271f",
       "style": "IPY_MODEL_ac50a7bdec1c4c98b74be5e9d7a347dd",
       "value": "<p style=\"color: #999\"><em><strong>Histogram with fixed size bins</strong> (bins=6)</em></p>"
      }
     },
     "42667317a29845819131e85550feaa65": {
      "model_module": "@jupyter-widgets/base",
      "model_module_version": "1.2.0",
      "model_name": "LayoutModel",
      "state": {
       "grid_area": "widget011"
      }
     },
     "4282be2da00c4a558b25c8f2d3291cc1": {
      "model_module": "@jupyter-widgets/controls",
      "model_module_version": "1.5.0",
      "model_name": "DescriptionStyleModel",
      "state": {
       "description_width": ""
      }
     },
     "42831e3633b5468381a409d1b1b83464": {
      "model_module": "@jupyter-widgets/controls",
      "model_module_version": "1.5.0",
      "model_name": "ProgressStyleModel",
      "state": {
       "description_width": ""
      }
     },
     "42856097b741440a8bd8a13290eafe0f": {
      "model_module": "@jupyter-widgets/controls",
      "model_module_version": "1.5.0",
      "model_name": "FloatProgressModel",
      "state": {
       "layout": "IPY_MODEL_cf5d417fff9e4c889f4f8dca58b3a63e",
       "max": 7,
       "style": "IPY_MODEL_52ee4ff4d2574ee89eca7b07b0a4fdb5",
       "value": 1
      }
     },
     "42b61d459a6245ef913718a056ef35c6": {
      "model_module": "@jupyter-widgets/base",
      "model_module_version": "1.2.0",
      "model_name": "LayoutModel",
      "state": {
       "display": "none"
      }
     },
     "42d738935107400abb0f2447417ec794": {
      "model_module": "@jupyter-widgets/base",
      "model_module_version": "1.2.0",
      "model_name": "LayoutModel",
      "state": {}
     },
     "4335efccdf804993bb1a027f83a8ea80": {
      "model_module": "@jupyter-widgets/base",
      "model_module_version": "1.2.0",
      "model_name": "LayoutModel",
      "state": {
       "grid_area": "widget006"
      }
     },
     "433944b846a04474b56b0bb859bd908d": {
      "model_module": "@jupyter-widgets/controls",
      "model_module_version": "1.5.0",
      "model_name": "VBoxModel",
      "state": {
       "children": [
        "IPY_MODEL_fbaafeeea2dd4f909187816275b2a7fa",
        "IPY_MODEL_acd7984181254ae7802527f399a0681e"
       ],
       "layout": "IPY_MODEL_8bb05c7a206244f3960c4dff22925288"
      }
     },
     "433de6c1d5f04d0f9e4c056136d5edce": {
      "model_module": "@jupyter-widgets/controls",
      "model_module_version": "1.5.0",
      "model_name": "HTMLModel",
      "state": {
       "layout": "IPY_MODEL_182a4b40ccbd48cf9a8ca8b9216b7d7f",
       "style": "IPY_MODEL_0aa891d7c8034b6f94f6db611021e2bb",
       "value": "median"
      }
     },
     "4344b2a52dff41c98cea6e96aba672ef": {
      "model_module": "@jupyter-widgets/controls",
      "model_module_version": "1.5.0",
      "model_name": "DescriptionStyleModel",
      "state": {
       "description_width": ""
      }
     },
     "4345a96a1521449d9514e56e15cd0b19": {
      "model_module": "@jupyter-widgets/base",
      "model_module_version": "1.2.0",
      "model_name": "LayoutModel",
      "state": {
       "grid_area": "widget004"
      }
     },
     "434eccee408a4bc79813755148154ab3": {
      "model_module": "@jupyter-widgets/controls",
      "model_module_version": "1.5.0",
      "model_name": "HTMLModel",
      "state": {
       "layout": "IPY_MODEL_d4c1b9649e604c4185147e8348896a1f",
       "style": "IPY_MODEL_33c7e33178784208974ffb51f0db7e37",
       "value": "Distinct"
      }
     },
     "436db8dd5f8b49efa352b31cacded4d9": {
      "model_module": "@jupyter-widgets/controls",
      "model_module_version": "1.5.0",
      "model_name": "VBoxModel",
      "state": {
       "children": [
        "IPY_MODEL_af2b9d2f532f4d3b95bac7283c872461"
       ],
       "layout": "IPY_MODEL_63c63ad25adc441fa7195725e221e0ac"
      }
     },
     "43c527e76bba4639b06597854b5b05c4": {
      "model_module": "@jupyter-widgets/base",
      "model_module_version": "1.2.0",
      "model_name": "LayoutModel",
      "state": {
       "grid_area": "widget009"
      }
     },
     "43ff1d9c9e0d4e23b8ce6f5296a8579b": {
      "model_module": "@jupyter-widgets/base",
      "model_module_version": "1.2.0",
      "model_name": "LayoutModel",
      "state": {
       "grid_area": "widget015"
      }
     },
     "441e2c3143e94ca1a456674c976b9fd0": {
      "model_module": "@jupyter-widgets/base",
      "model_module_version": "1.2.0",
      "model_name": "LayoutModel",
      "state": {}
     },
     "4457c99591634ac3bf43d7a706536a96": {
      "model_module": "@jupyter-widgets/base",
      "model_module_version": "1.2.0",
      "model_name": "LayoutModel",
      "state": {
       "grid_area": "widget005"
      }
     },
     "445fdef69e794a3e902b3a1c4fda98a2": {
      "model_module": "@jupyter-widgets/controls",
      "model_module_version": "1.5.0",
      "model_name": "DescriptionStyleModel",
      "state": {
       "description_width": ""
      }
     },
     "44b2baffde024672afa1962e77888a8b": {
      "model_module": "@jupyter-widgets/base",
      "model_module_version": "1.2.0",
      "model_name": "LayoutModel",
      "state": {
       "grid_area": "widget012"
      }
     },
     "45262af4c4e442bd9caf71864c097a34": {
      "model_module": "@jupyter-widgets/base",
      "model_module_version": "1.2.0",
      "model_name": "LayoutModel",
      "state": {
       "display": "none"
      }
     },
     "45b5bbd2a7d9403eb256596dcaac1f2c": {
      "model_module": "@jupyter-widgets/controls",
      "model_module_version": "1.5.0",
      "model_name": "LabelModel",
      "state": {
       "layout": "IPY_MODEL_86a570e1fbad4813be1e839d78b6fe1f",
       "style": "IPY_MODEL_07da1638515c48d783fa24d41bdd59ca",
       "value": "1"
      }
     },
     "45c4266732bd46b0bce89cfdb30eb211": {
      "model_module": "@jupyter-widgets/base",
      "model_module_version": "1.2.0",
      "model_name": "LayoutModel",
      "state": {
       "grid_template_columns": "",
       "width": "100%"
      }
     },
     "4612f85c53734df99cb7def35579c933": {
      "model_module": "@jupyter-widgets/controls",
      "model_module_version": "1.5.0",
      "model_name": "DescriptionStyleModel",
      "state": {
       "description_width": ""
      }
     },
     "4622dd3e21b942119fa5849915d41eea": {
      "model_module": "@jupyter-widgets/controls",
      "model_module_version": "1.5.0",
      "model_name": "DescriptionStyleModel",
      "state": {
       "description_width": ""
      }
     },
     "464760cd96ab4454b2cee053cce01753": {
      "model_module": "@jupyter-widgets/base",
      "model_module_version": "1.2.0",
      "model_name": "LayoutModel",
      "state": {
       "grid_area": "widget002"
      }
     },
     "4674fe10534a4f7ab7184e61fb3080de": {
      "model_module": "@jupyter-widgets/base",
      "model_module_version": "1.2.0",
      "model_name": "LayoutModel",
      "state": {
       "grid_area": "widget013"
      }
     },
     "471b055b52b747b486891aada37fba92": {
      "model_module": "@jupyter-widgets/controls",
      "model_module_version": "1.5.0",
      "model_name": "DescriptionStyleModel",
      "state": {
       "description_width": ""
      }
     },
     "475d1f0fdf8e4a70b53202fbee134356": {
      "model_module": "@jupyter-widgets/controls",
      "model_module_version": "1.5.0",
      "model_name": "DescriptionStyleModel",
      "state": {
       "description_width": ""
      }
     },
     "476dc932af564326a464a97752c6e621": {
      "model_module": "@jupyter-widgets/controls",
      "model_module_version": "1.5.0",
      "model_name": "DescriptionStyleModel",
      "state": {
       "description_width": ""
      }
     },
     "47b8fd8148f0420aa116cbb74f7dc5ac": {
      "model_module": "@jupyter-widgets/controls",
      "model_module_version": "1.5.0",
      "model_name": "DescriptionStyleModel",
      "state": {
       "description_width": ""
      }
     },
     "47e160dfccdc463db30f7066aa955a54": {
      "model_module": "@jupyter-widgets/controls",
      "model_module_version": "1.5.0",
      "model_name": "GridBoxModel",
      "state": {
       "children": [
        "IPY_MODEL_89a7ae3ec5bb474cbbd141c6a0eb7b82",
        "IPY_MODEL_fd02f2f385834ec3a273da0f65b4ff94"
       ],
       "layout": "IPY_MODEL_4096149605e04953add057099db789a2"
      }
     },
     "47fb8cb0d1ec42c8baa5637a46ef4bef": {
      "model_module": "@jupyter-widgets/controls",
      "model_module_version": "1.5.0",
      "model_name": "ProgressStyleModel",
      "state": {
       "description_width": ""
      }
     },
     "487d5cb75cf34b02a6553a592e4dfd97": {
      "model_module": "@jupyter-widgets/controls",
      "model_module_version": "1.5.0",
      "model_name": "LabelModel",
      "state": {
       "layout": "IPY_MODEL_cdb073ce5e8045859c1dc0c087399ec8",
       "style": "IPY_MODEL_3ff9559cecc8488a80c7dce7ac1dd61e",
       "value": "0.5127750981056414"
      }
     },
     "4886ef16c6d54174bced1cfa249bc856": {
      "model_module": "@jupyter-widgets/base",
      "model_module_version": "1.2.0",
      "model_name": "LayoutModel",
      "state": {
       "grid_area": "widget011"
      }
     },
     "48ad338e0ed44cb6b4d3775ac9f5a597": {
      "model_module": "@jupyter-widgets/controls",
      "model_module_version": "1.5.0",
      "model_name": "DescriptionStyleModel",
      "state": {
       "description_width": ""
      }
     },
     "48bc6e3397a74a4bb53a75d736536468": {
      "model_module": "@jupyter-widgets/controls",
      "model_module_version": "1.5.0",
      "model_name": "LabelModel",
      "state": {
       "layout": "IPY_MODEL_dcf5e61f6ad641bab4440f2b4b1e858a",
       "style": "IPY_MODEL_b859a9908aba483d9ca59465625f0706",
       "value": "(Missing)"
      }
     },
     "48ea918c5f7c4b49a9ca90da6ae33019": {
      "model_module": "@jupyter-widgets/base",
      "model_module_version": "1.2.0",
      "model_name": "LayoutModel",
      "state": {}
     },
     "4905515c0f6b49d88d17480700061743": {
      "model_module": "@jupyter-widgets/controls",
      "model_module_version": "1.5.0",
      "model_name": "DescriptionStyleModel",
      "state": {
       "description_width": ""
      }
     },
     "490c60eb2c154cd2a876690b06aa374e": {
      "model_module": "@jupyter-widgets/controls",
      "model_module_version": "1.5.0",
      "model_name": "ProgressStyleModel",
      "state": {
       "description_width": ""
      }
     },
     "499b76a0b636409095c2443d98e45379": {
      "model_module": "@jupyter-widgets/base",
      "model_module_version": "1.2.0",
      "model_name": "LayoutModel",
      "state": {
       "grid_area": "widget011"
      }
     },
     "4a64ba894fa341a19929fd22a9b4aa8f": {
      "model_module": "@jupyter-widgets/controls",
      "model_module_version": "1.5.0",
      "model_name": "HTMLModel",
      "state": {
       "layout": "IPY_MODEL_62cef7dac11d43d0ba04c442955ae875",
       "style": "IPY_MODEL_b58044b285b04cdc89c1fab4cd6b0eea",
       "value": "1.571944733"
      }
     },
     "4a76410e2aa147919c8e03ca388a83f2": {
      "model_module": "@jupyter-widgets/controls",
      "model_module_version": "1.5.0",
      "model_name": "HTMLModel",
      "state": {
       "layout": "IPY_MODEL_3197ba448d744df289d9b240b50fb14e",
       "style": "IPY_MODEL_37577913b20b4100852f408d43b7e599",
       "value": "Standard deviation"
      }
     },
     "4acd452547384cabb1a9cc7681edc6b5": {
      "model_module": "@jupyter-widgets/base",
      "model_module_version": "1.2.0",
      "model_name": "LayoutModel",
      "state": {
       "grid_area": "widget007"
      }
     },
     "4ae43a17b2ff4b8896011d76bf213b9c": {
      "model_module": "@jupyter-widgets/base",
      "model_module_version": "1.2.0",
      "model_name": "LayoutModel",
      "state": {
       "grid_template_areas": "\"widget001 widget002\"\n\"widget003 widget004\"\n\"widget005 widget006\"\n\"widget007 widget008\"\n\"widget009 widget010\"\n\"widget011 widget012\"\n\"widget013 widget014\"",
       "grid_template_columns": "repeat(2, 1fr)",
       "grid_template_rows": "repeat(7, 1fr)"
      }
     },
     "4b2f0f40b37247a9a8c116e14df849f8": {
      "model_module": "@jupyter-widgets/base",
      "model_module_version": "1.2.0",
      "model_name": "LayoutModel",
      "state": {}
     },
     "4b51ad24b9ee4791ae75eb99a1e1b357": {
      "model_module": "@jupyter-widgets/controls",
      "model_module_version": "1.5.0",
      "model_name": "DescriptionStyleModel",
      "state": {
       "description_width": ""
      }
     },
     "4bbae17cfca746628a7f07924553068c": {
      "model_module": "@jupyter-widgets/controls",
      "model_module_version": "1.5.0",
      "model_name": "HTMLModel",
      "state": {
       "layout": "IPY_MODEL_3604bb6e4a724bb58b79742483230164",
       "style": "IPY_MODEL_375d84128b2b4e22b16abb40029b07ee",
       "value": "2022-02-09 00:00:00"
      }
     },
     "4be9870cc70545959133ef2b64c09e67": {
      "model_module": "@jupyter-widgets/base",
      "model_module_version": "1.2.0",
      "model_name": "LayoutModel",
      "state": {
       "grid_area": "widget004"
      }
     },
     "4c01593a2c024651a385554b343fa05c": {
      "model_module": "@jupyter-widgets/controls",
      "model_module_version": "1.5.0",
      "model_name": "HTMLModel",
      "state": {
       "layout": "IPY_MODEL_3aa06bebc0a8423883bb29b89642777b",
       "style": "IPY_MODEL_a071b09a30474dabba3d4167b581a788",
       "value": "<span style=\"color:var(--jp-error-color1)\">14.3%</span>"
      }
     },
     "4c19f957de464b38b854db9a3370036d": {
      "model_module": "@jupyter-widgets/controls",
      "model_module_version": "1.5.0",
      "model_name": "LabelModel",
      "state": {
       "layout": "IPY_MODEL_ac059775d6544159b050e30b42868094",
       "style": "IPY_MODEL_ba97c06243d1486eaa5a8e61f713b6af",
       "value": "1"
      }
     },
     "4c42b11490524c4c8b178bf713dec37f": {
      "model_module": "@jupyter-widgets/controls",
      "model_module_version": "1.5.0",
      "model_name": "DescriptionStyleModel",
      "state": {
       "description_width": ""
      }
     },
     "4c6ed9b7763644e0b34f8da9fa847810": {
      "model_module": "@jupyter-widgets/controls",
      "model_module_version": "1.5.0",
      "model_name": "ToggleButtonModel",
      "state": {
       "description": "Toggle details",
       "layout": "IPY_MODEL_79b386bb88a4450ba70839698be65402",
       "style": "IPY_MODEL_00edc6fc7d884574a91da68cc1b33c04"
      }
     },
     "4c7159628b3e402fb4547ffaa1622464": {
      "model_module": "@jupyter-widgets/controls",
      "model_module_version": "1.5.0",
      "model_name": "HTMLModel",
      "state": {
       "layout": "IPY_MODEL_6b8e6c0da1f3483d8c6fb4382757fda2",
       "style": "IPY_MODEL_f808e2b6138e4064955217da7df12767",
       "value": "<div style=\"padding:20px\" class=\"text-muted\"><h3>Kendall's τ</h3>Similarly to Spearman's rank correlation coefficient, the Kendall rank correlation \n    coefficient (<em>τ</em>) measures ordinal association between two variables. It's value lies between -1 and +1, \n    -1 indicating total negative correlation, 0 indicating no correlation and 1 indicating total positive correlation.\n    <br /><br />To calculate <em>τ</em> for two variables <em>X</em> and <em>Y</em>, one determines the number of \n    concordant and discordant pairs of observations. <em>τ</em> is given by the number of concordant pairs minus the \n    discordant pairs divided by the total number of pairs.</div>"
      }
     },
     "4c779bf9ef034e2082add872d3e75037": {
      "model_module": "@jupyter-widgets/controls",
      "model_module_version": "1.5.0",
      "model_name": "DescriptionStyleModel",
      "state": {
       "description_width": ""
      }
     },
     "4c864ed89d834cb4b741bf17976ecf1c": {
      "model_module": "@jupyter-widgets/controls",
      "model_module_version": "1.5.0",
      "model_name": "HTMLModel",
      "state": {
       "layout": "IPY_MODEL_0acf87c45cda492c88ce531a5a58440b",
       "style": "IPY_MODEL_a0a63978a3fe43b88f6842054b4ca3f9",
       "value": "Distinct"
      }
     },
     "4ca78646b5654a4182bae11870439f53": {
      "model_module": "@jupyter-widgets/base",
      "model_module_version": "1.2.0",
      "model_name": "LayoutModel",
      "state": {
       "grid_area": "widget009"
      }
     },
     "4cd54c9b91244e5799293198ea3a8f15": {
      "model_module": "@jupyter-widgets/controls",
      "model_module_version": "1.5.0",
      "model_name": "FloatProgressModel",
      "state": {
       "layout": "IPY_MODEL_82cce939c90e427892a770da599939b3",
       "max": 7,
       "style": "IPY_MODEL_490c60eb2c154cd2a876690b06aa374e",
       "value": 1
      }
     },
     "4cf554c3583740e88a746ec4f1aea055": {
      "model_module": "@jupyter-widgets/controls",
      "model_module_version": "1.5.0",
      "model_name": "GridBoxModel",
      "state": {
       "children": [
        "IPY_MODEL_bfdb9af5b2a343e7984f68e02c9f2acb",
        "IPY_MODEL_0f5446c2c5d446ad80897f1797688d58",
        "IPY_MODEL_0cacdd85782a406c80d6fc878d02d662",
        "IPY_MODEL_8244bb98c480470bb46ae4536a7ed114",
        "IPY_MODEL_6aa06f86513947d38d3452fe61f11e0b",
        "IPY_MODEL_4072edd550444f50874c45f6e19629f9",
        "IPY_MODEL_8caf292654a54ab197530fc4f9b5e6d0",
        "IPY_MODEL_d49722d2981341398e1f399209592757",
        "IPY_MODEL_9b66899514e6481396c6b45d928e0096",
        "IPY_MODEL_141b823a746e4621970621bfe3e4ba24",
        "IPY_MODEL_378d22ede89c40f19e6380419c8291b9",
        "IPY_MODEL_71dfde99a08b453b980d01a5c4b699c3",
        "IPY_MODEL_b5674874a4ca46dfac57207d6525b45b",
        "IPY_MODEL_5613e3f3eea4436c93312ed55c5ac3cc",
        "IPY_MODEL_53863d65ccb24bac84edada40f219bd9",
        "IPY_MODEL_e565ad794faf43f5b618a6b2d5cc6670",
        "IPY_MODEL_f7518ad3a3a64aae854476dd31bca057",
        "IPY_MODEL_1223236f8fcb48e78cd67220e8c59c5c"
       ],
       "layout": "IPY_MODEL_970e4e4603764c47a739cbc7e3d13ff3"
      }
     },
     "4d35cb25e4ec46d68e03f3752c102a50": {
      "model_module": "@jupyter-widgets/base",
      "model_module_version": "1.2.0",
      "model_name": "LayoutModel",
      "state": {}
     },
     "4d42e98e826246558d31ed545781faf3": {
      "model_module": "@jupyter-widgets/controls",
      "model_module_version": "1.5.0",
      "model_name": "DescriptionStyleModel",
      "state": {
       "description_width": ""
      }
     },
     "4d751817184e4ca795b32b67b56f4a94": {
      "model_module": "@jupyter-widgets/base",
      "model_module_version": "1.2.0",
      "model_name": "LayoutModel",
      "state": {
       "grid_area": "widget001"
      }
     },
     "4d981cf3419a430786546e30baa4d793": {
      "model_module": "@jupyter-widgets/controls",
      "model_module_version": "1.5.0",
      "model_name": "LabelModel",
      "state": {
       "layout": "IPY_MODEL_75626d189ec34fa9bcbec6004c160070",
       "style": "IPY_MODEL_4612f85c53734df99cb7def35579c933",
       "value": "1"
      }
     },
     "4d9a46ed2beb4f2bbca97f90e7628b5d": {
      "model_module": "@jupyter-widgets/controls",
      "model_module_version": "1.5.0",
      "model_name": "LabelModel",
      "state": {
       "layout": "IPY_MODEL_f8dac92345de46bba85375acda19a1d6",
       "style": "IPY_MODEL_4282be2da00c4a558b25c8f2d3291cc1",
       "value": "1"
      }
     },
     "4da2ec05a6244c38be1a7217dea41a5c": {
      "model_module": "@jupyter-widgets/controls",
      "model_module_version": "1.5.0",
      "model_name": "HTMLModel",
      "state": {
       "layout": "IPY_MODEL_140baf7e4bd746fd8f0ec9445f94b0a2",
       "style": "IPY_MODEL_9a8eea78816a453199c77c7ef1448eb9",
       "value": "Range"
      }
     },
     "4da8ebd7f4564f4ca0131bd1a3acbc5d": {
      "model_module": "@jupyter-widgets/controls",
      "model_module_version": "1.5.0",
      "model_name": "LabelModel",
      "state": {
       "layout": "IPY_MODEL_92e8390962f34a36b1b3dce1e2146847",
       "style": "IPY_MODEL_2e0a69cfeaf64fa2be9e59588064f1c2",
       "value": "-1.0904188828735988"
      }
     },
     "4dacd42d190a4d558150149612846873": {
      "model_module": "@jupyter-widgets/controls",
      "model_module_version": "1.5.0",
      "model_name": "FloatProgressModel",
      "state": {
       "layout": "IPY_MODEL_bac326843251454192758bf9ba2d6ae5",
       "max": 7,
       "style": "IPY_MODEL_d8677f42ba3a4efc9697087ca319c316",
       "value": 1
      }
     },
     "4dcb6133f5da4f548e37b7949d619ea6": {
      "model_module": "@jupyter-widgets/base",
      "model_module_version": "1.2.0",
      "model_name": "LayoutModel",
      "state": {
       "grid_area": "widget010"
      }
     },
     "4dccde67a969410da03c30c771071ed8": {
      "model_module": "@jupyter-widgets/controls",
      "model_module_version": "1.5.0",
      "model_name": "ButtonStyleModel",
      "state": {}
     },
     "4e4ab3c2cbc34a32a0a558274b97a77a": {
      "model_module": "@jupyter-widgets/base",
      "model_module_version": "1.2.0",
      "model_name": "LayoutModel",
      "state": {
       "grid_area": "widget007"
      }
     },
     "4e8b70a065a249b9a7d1d5553f228bdb": {
      "model_module": "@jupyter-widgets/controls",
      "model_module_version": "1.5.0",
      "model_name": "ProgressStyleModel",
      "state": {
       "description_width": ""
      }
     },
     "4ede673d3b3f43ac80a6410a87bd3443": {
      "model_module": "@jupyter-widgets/controls",
      "model_module_version": "1.5.0",
      "model_name": "DescriptionStyleModel",
      "state": {
       "description_width": ""
      }
     },
     "4eec72a2eaeb4ecc8d3902b5ae2b1da5": {
      "model_module": "@jupyter-widgets/controls",
      "model_module_version": "1.5.0",
      "model_name": "GridBoxModel",
      "state": {
       "children": [
        "IPY_MODEL_129ee2f890f04060b01f6e5a7063ea0b",
        "IPY_MODEL_5434e0192666409db93089eba6186ea8",
        "IPY_MODEL_213a03cdab0b48e5a73449f380d59ef5",
        "IPY_MODEL_ae5bc55e75d74a978d30cfebb3527312",
        "IPY_MODEL_e09c1126fd954b948dcc9415fe6d37e8",
        "IPY_MODEL_26dc9442c46a436f921ae16adfb56eab",
        "IPY_MODEL_385c9ede025b436c81910dcc05cd4705",
        "IPY_MODEL_4c01593a2c024651a385554b343fa05c",
        "IPY_MODEL_611003ee10d640b7af69da17783e2b78",
        "IPY_MODEL_e8b9a47a387e4572b08652b50ad88cd3",
        "IPY_MODEL_673968bd658d4b4083d16d67168b868b",
        "IPY_MODEL_503a8d7bd0e5474da1b0dc423917c86f",
        "IPY_MODEL_60450f9d51ef403d875d06aa1df6092c",
        "IPY_MODEL_c903c676fe3e4473afb5e97fd28f3424"
       ],
       "layout": "IPY_MODEL_f548480e08184422b8a7c496bcb77c3c"
      }
     },
     "4f0d36ede1aa44178f7107bf8b62533b": {
      "model_module": "@jupyter-widgets/base",
      "model_module_version": "1.2.0",
      "model_name": "LayoutModel",
      "state": {}
     },
     "4fa1bd8a7b6c48c082869f3b2bc3b090": {
      "model_module": "@jupyter-widgets/controls",
      "model_module_version": "1.5.0",
      "model_name": "ProgressStyleModel",
      "state": {
       "description_width": ""
      }
     },
     "4fa9100f32fb4cf785fd76685bd87bb0": {
      "model_module": "@jupyter-widgets/controls",
      "model_module_version": "1.5.0",
      "model_name": "DescriptionStyleModel",
      "state": {
       "description_width": ""
      }
     },
     "4fd4476bb9fe49d4a16c798c716230e2": {
      "model_module": "@jupyter-widgets/base",
      "model_module_version": "1.2.0",
      "model_name": "LayoutModel",
      "state": {
       "grid_area": "widget001"
      }
     },
     "4fdee4efba364fe49663316364b046b1": {
      "model_module": "@jupyter-widgets/controls",
      "model_module_version": "1.5.0",
      "model_name": "DescriptionStyleModel",
      "state": {
       "description_width": ""
      }
     },
     "4fe6b710b94b48fc8aaff406ce377272": {
      "model_module": "@jupyter-widgets/base",
      "model_module_version": "1.2.0",
      "model_name": "LayoutModel",
      "state": {
       "grid_area": "widget013"
      }
     },
     "500591c28f804300a7c07ce93bae57bd": {
      "model_module": "@jupyter-widgets/base",
      "model_module_version": "1.2.0",
      "model_name": "LayoutModel",
      "state": {
       "grid_area": "widget002"
      }
     },
     "5022d426f49c4fcb8884d277102e8bc3": {
      "model_module": "@jupyter-widgets/base",
      "model_module_version": "1.2.0",
      "model_name": "LayoutModel",
      "state": {}
     },
     "5036e4a3fcc549d0bf53def363cf0897": {
      "model_module": "@jupyter-widgets/controls",
      "model_module_version": "1.5.0",
      "model_name": "TabModel",
      "state": {
       "_titles": {
        "0": "Overview",
        "1": "Variables",
        "2": "Interactions",
        "3": "Correlations",
        "4": "Missing values",
        "5": "Sample"
       },
       "children": [
        "IPY_MODEL_3db360c4cfb343c6968b1985d985a07c",
        "IPY_MODEL_f9e615f6d0274860a20e14c3790e9e24",
        "IPY_MODEL_dcdeb84b0b8d4ecda16a647dc1158dc3",
        "IPY_MODEL_fee2f5ca0d30465997588d362141b70a",
        "IPY_MODEL_fc5a88e874684614b3be9db878cafc4c",
        "IPY_MODEL_1a4bcea1241142dbbd8170b5e0626a40"
       ],
       "layout": "IPY_MODEL_75c2ca3bef384936886630b3b4778099"
      }
     },
     "503a8d7bd0e5474da1b0dc423917c86f": {
      "model_module": "@jupyter-widgets/controls",
      "model_module_version": "1.5.0",
      "model_name": "HTMLModel",
      "state": {
       "layout": "IPY_MODEL_1b865cd942d449818d9ce3e361c17c38",
       "style": "IPY_MODEL_5bcdaab34c504b69b725be8efdebe71c",
       "value": "0.0%"
      }
     },
     "503d6812fbd242349a9634acf95668de": {
      "model_module": "@jupyter-widgets/controls",
      "model_module_version": "1.5.0",
      "model_name": "ProgressStyleModel",
      "state": {
       "description_width": ""
      }
     },
     "507efcfa9baf4a369fd5e2a7da3eaa58": {
      "model_module": "@jupyter-widgets/base",
      "model_module_version": "1.2.0",
      "model_name": "LayoutModel",
      "state": {
       "grid_area": "widget003"
      }
     },
     "509b4b858d9c40aaa7c8a09247d38b83": {
      "model_module": "@jupyter-widgets/controls",
      "model_module_version": "1.5.0",
      "model_name": "GridBoxModel",
      "state": {
       "children": [
        "IPY_MODEL_85750b7b10494ec3a46f2bd1f57c0c2b",
        "IPY_MODEL_3633942102c949e09b44a15d34a524cd",
        "IPY_MODEL_3cea0e12aa6349cfb36666d7077e0a40",
        "IPY_MODEL_15461d8ce42542c1863b826c3fb80f93",
        "IPY_MODEL_1241d41752f34123a469a156b4873457",
        "IPY_MODEL_f70aff00d2a24fb29196dcc67e10ff4a",
        "IPY_MODEL_3476e339096742e9b81b7fa6746da1ba",
        "IPY_MODEL_976951971c4d4995996bf7029873a5da",
        "IPY_MODEL_68e3c737a8e84350b8b4b4de8a48a42f",
        "IPY_MODEL_139c7a001ba74637ae537b6841102d20",
        "IPY_MODEL_a24c2e55e1eb4db29b1a5369786a3a3d",
        "IPY_MODEL_80cc30f8b2a944deb70cc661bef350fc",
        "IPY_MODEL_90ad1301e28e41f19fca45fa60e82504",
        "IPY_MODEL_9e9d3dc8f80b4188ae78f64c66c3267b"
       ],
       "layout": "IPY_MODEL_834bffd1c34141c4b8077aec6e0226b8"
      }
     },
     "50e02f1a2f744454a72955bcfd326a0a": {
      "model_module": "@jupyter-widgets/controls",
      "model_module_version": "1.5.0",
      "model_name": "HTMLModel",
      "state": {
       "layout": "IPY_MODEL_8be0a61dee474038b5e30d2da0dfbd30",
       "style": "IPY_MODEL_78dbd91a65c7432dbaba52f8f980a0dc",
       "value": "<div style=\"padding:20px\" class=\"text-muted\"><h3>Pearson's r</h3>The Pearson's correlation coefficient (<em>r</em>) is a measure of linear correlation between two variables. It's value lies between -1 and +1, -1 indicating total negative linear correlation, 0 indicating no linear correlation and 1 indicating total positive linear correlation. Furthermore, <em>r</em> is invariant under separate changes in location and scale of the two variables, implying that for a linear function the angle to the x-axis does not affect <em>r</em>.<br /><br />To calculate <em>r</em> for two variables <em>X</em> and <em>Y</em>, one divides the covariance of <em>X</em> and <em>Y</em> by the product of their standard deviations. </div>"
      }
     },
     "50f9c4fcfcab4dac904ba251e4628d94": {
      "model_module": "@jupyter-widgets/base",
      "model_module_version": "1.2.0",
      "model_name": "LayoutModel",
      "state": {}
     },
     "510a71b8644c440ca471e6cdde47b064": {
      "model_module": "@jupyter-widgets/controls",
      "model_module_version": "1.5.0",
      "model_name": "VBoxModel",
      "state": {
       "children": [
        "IPY_MODEL_1862bf5a89ce47ea89abf53e9b5219d8"
       ],
       "layout": "IPY_MODEL_3156bdd98ec84ae59ae33c62741f99c7"
      }
     },
     "513158dcdc0d495c95eed274269cbc7b": {
      "model_module": "@jupyter-widgets/base",
      "model_module_version": "1.2.0",
      "model_name": "LayoutModel",
      "state": {
       "grid_area": "widget001"
      }
     },
     "513ed89b724749c38743f24fb926cc0a": {
      "model_module": "@jupyter-widgets/controls",
      "model_module_version": "1.5.0",
      "model_name": "HTMLModel",
      "state": {
       "layout": "IPY_MODEL_9fd3863cb3f549ab815c3dee358fab37",
       "style": "IPY_MODEL_cf82b79f31f5484c98ab5a13b2a0ca43",
       "value": "0.6762259907"
      }
     },
     "515a2a2b0bb84fdeb927dfa438257ebc": {
      "model_module": "@jupyter-widgets/controls",
      "model_module_version": "1.5.0",
      "model_name": "DescriptionStyleModel",
      "state": {
       "description_width": ""
      }
     },
     "51832888214d47bbb50e3961f00e0575": {
      "model_module": "@jupyter-widgets/base",
      "model_module_version": "1.2.0",
      "model_name": "LayoutModel",
      "state": {
       "grid_area": "widget003"
      }
     },
     "518b9032f67041508370fe2d3a987cda": {
      "model_module": "@jupyter-widgets/base",
      "model_module_version": "1.2.0",
      "model_name": "LayoutModel",
      "state": {}
     },
     "519419ddc6ed42828c0ede1581a1e07d": {
      "model_module": "@jupyter-widgets/base",
      "model_module_version": "1.2.0",
      "model_name": "LayoutModel",
      "state": {}
     },
     "51ce42991c044f7c8111a5d68b42854f": {
      "model_module": "@jupyter-widgets/controls",
      "model_module_version": "1.5.0",
      "model_name": "DescriptionStyleModel",
      "state": {
       "description_width": ""
      }
     },
     "5208b7adc2ae47c2aed8f4098c2e53b0": {
      "model_module": "@jupyter-widgets/base",
      "model_module_version": "1.2.0",
      "model_name": "LayoutModel",
      "state": {
       "grid_template_areas": "\"widget001 widget002\"\n\"widget003 widget004\"",
       "grid_template_columns": "repeat(2, 1fr)",
       "grid_template_rows": "repeat(2, 1fr)"
      }
     },
     "5257a2ff5f884fb7b7c5d41548365f0b": {
      "model_module": "@jupyter-widgets/base",
      "model_module_version": "1.2.0",
      "model_name": "LayoutModel",
      "state": {
       "grid_area": "widget012"
      }
     },
     "5266c12f81a2418c8b1f015a96f9c680": {
      "model_module": "@jupyter-widgets/base",
      "model_module_version": "1.2.0",
      "model_name": "LayoutModel",
      "state": {
       "grid_area": "widget016"
      }
     },
     "52a117ff5d934f5ab1b8d085218eced4": {
      "model_module": "@jupyter-widgets/controls",
      "model_module_version": "1.5.0",
      "model_name": "ProgressStyleModel",
      "state": {
       "description_width": ""
      }
     },
     "52b1264ce0084f318c1ae26700627d84": {
      "model_module": "@jupyter-widgets/controls",
      "model_module_version": "1.5.0",
      "model_name": "HTMLModel",
      "state": {
       "layout": "IPY_MODEL_4fd4476bb9fe49d4a16c798c716230e2",
       "style": "IPY_MODEL_e6834dde0bc24710ae3795b48e05f3b7",
       "value": "Minimum"
      }
     },
     "52b2fe0189e745cebada61d87710b28c": {
      "model_module": "@jupyter-widgets/controls",
      "model_module_version": "1.5.0",
      "model_name": "HTMLModel",
      "state": {
       "layout": "IPY_MODEL_dfac57d891454c8fa655c43146abc3d6",
       "style": "IPY_MODEL_66dd127abf8f46be8a8fc207170cc6f0",
       "value": "Range"
      }
     },
     "52b39cbd425344288dfe22ff9aa33e98": {
      "model_module": "@jupyter-widgets/controls",
      "model_module_version": "1.5.0",
      "model_name": "HTMLModel",
      "state": {
       "layout": "IPY_MODEL_bb41bda186a64e8386ec74ed779736da",
       "style": "IPY_MODEL_fdb2d8bdff7340dca497c4538eb8f2be",
       "value": "<?xml version=\"1.0\" encoding=\"utf-8\" standalone=\"no\"?>\n<!DOCTYPE svg style=\"max-width: 100%\" PUBLIC \"-//W3C//DTD SVG 1.1//EN\"\n  \"http://www.w3.org/Graphics/SVG/1.1/DTD/svg11.dtd\">\n<svg style=\"max-width: 100%\"  version=\"1.1\" viewBox=\"0 0 576 396\" width=\"576pt\" xmlns=\"http://www.w3.org/2000/svg\" xmlns:xlink=\"http://www.w3.org/1999/xlink\">\n <metadata>\n  <rdf:RDF xmlns:cc=\"http://creativecommons.org/ns#\" xmlns:dc=\"http://purl.org/dc/elements/1.1/\" xmlns:rdf=\"http://www.w3.org/1999/02/22-rdf-syntax-ns#\">\n   <cc:Work>\n    <dc:type rdf:resource=\"http://purl.org/dc/dcmitype/StillImage\"/>\n    <dc:date>2022-10-01T17:17:55.014690</dc:date>\n    <dc:format>image/svg+xml</dc:format>\n    <dc:creator>\n     <cc:Agent>\n      <dc:title>Matplotlib v3.4.3, https://matplotlib.org/</dc:title>\n     </cc:Agent>\n    </dc:creator>\n   </cc:Work>\n  </rdf:RDF>\n </metadata>\n <defs>\n  <style type=\"text/css\">*{stroke-linecap:butt;stroke-linejoin:round;}</style>\n </defs>\n <g id=\"figure_1\">\n  <g id=\"patch_1\">\n   <path d=\"M 0 396 \nL 576 396 \nL 576 0 \nL 0 0 \nz\n\" style=\"fill:#ffffff;\"/>\n  </g>\n  <g id=\"axes_1\">\n   <g id=\"patch_2\">\n    <path d=\"M 72 346.5 \nL 518.4 346.5 \nL 518.4 47.52 \nL 72 47.52 \nz\n\" style=\"fill:#ffffff;\"/>\n   </g>\n   <g id=\"matplotlib.axis_1\">\n    <g id=\"xtick_1\">\n     <g id=\"text_1\">\n      <!-- −1.0 -->\n      <g style=\"fill:#262626;\" transform=\"translate(120.822265 364.598437)scale(0.1 -0.1)\">\n       <defs>\n        <path d=\"M 678 2272 \nL 4684 2272 \nL 4684 1741 \nL 678 1741 \nL 678 2272 \nz\n\" id=\"DejaVuSans-2212\" transform=\"scale(0.015625)\"/>\n        <path d=\"M 794 531 \nL 1825 531 \nL 1825 4091 \nL 703 3866 \nL 703 4441 \nL 1819 4666 \nL 2450 4666 \nL 2450 531 \nL 3481 531 \nL 3481 0 \nL 794 0 \nL 794 531 \nz\n\" id=\"DejaVuSans-31\" transform=\"scale(0.015625)\"/>\n        <path d=\"M 684 794 \nL 1344 794 \nL 1344 0 \nL 684 0 \nL 684 794 \nz\n\" id=\"DejaVuSans-2e\" transform=\"scale(0.015625)\"/>\n        <path d=\"M 2034 4250 \nQ 1547 4250 1301 3770 \nQ 1056 3291 1056 2328 \nQ 1056 1369 1301 889 \nQ 1547 409 2034 409 \nQ 2525 409 2770 889 \nQ 3016 1369 3016 2328 \nQ 3016 3291 2770 3770 \nQ 2525 4250 2034 4250 \nz\nM 2034 4750 \nQ 2819 4750 3233 4129 \nQ 3647 3509 3647 2328 \nQ 3647 1150 3233 529 \nQ 2819 -91 2034 -91 \nQ 1250 -91 836 529 \nQ 422 1150 422 2328 \nQ 422 3509 836 4129 \nQ 1250 4750 2034 4750 \nz\n\" id=\"DejaVuSans-30\" transform=\"scale(0.015625)\"/>\n       </defs>\n       <use xlink:href=\"#DejaVuSans-2212\"/>\n       <use x=\"83.789062\" xlink:href=\"#DejaVuSans-31\"/>\n       <use x=\"147.412109\" xlink:href=\"#DejaVuSans-2e\"/>\n       <use x=\"179.199219\" xlink:href=\"#DejaVuSans-30\"/>\n      </g>\n     </g>\n    </g>\n    <g id=\"xtick_2\">\n     <g id=\"text_2\">\n      <!-- −0.5 -->\n      <g style=\"fill:#262626;\" transform=\"translate(191.819335 364.598437)scale(0.1 -0.1)\">\n       <defs>\n        <path d=\"M 691 4666 \nL 3169 4666 \nL 3169 4134 \nL 1269 4134 \nL 1269 2991 \nQ 1406 3038 1543 3061 \nQ 1681 3084 1819 3084 \nQ 2600 3084 3056 2656 \nQ 3513 2228 3513 1497 \nQ 3513 744 3044 326 \nQ 2575 -91 1722 -91 \nQ 1428 -91 1123 -41 \nQ 819 9 494 109 \nL 494 744 \nQ 775 591 1075 516 \nQ 1375 441 1709 441 \nQ 2250 441 2565 725 \nQ 2881 1009 2881 1497 \nQ 2881 1984 2565 2268 \nQ 2250 2553 1709 2553 \nQ 1456 2553 1204 2497 \nQ 953 2441 691 2322 \nL 691 4666 \nz\n\" id=\"DejaVuSans-35\" transform=\"scale(0.015625)\"/>\n       </defs>\n       <use xlink:href=\"#DejaVuSans-2212\"/>\n       <use x=\"83.789062\" xlink:href=\"#DejaVuSans-30\"/>\n       <use x=\"147.412109\" xlink:href=\"#DejaVuSans-2e\"/>\n       <use x=\"179.199219\" xlink:href=\"#DejaVuSans-35\"/>\n      </g>\n     </g>\n    </g>\n    <g id=\"xtick_3\">\n     <g id=\"text_3\">\n      <!-- 0.0 -->\n      <g style=\"fill:#262626;\" transform=\"translate(267.006248 364.598437)scale(0.1 -0.1)\">\n       <use xlink:href=\"#DejaVuSans-30\"/>\n       <use x=\"63.623047\" xlink:href=\"#DejaVuSans-2e\"/>\n       <use x=\"95.410156\" xlink:href=\"#DejaVuSans-30\"/>\n      </g>\n     </g>\n    </g>\n    <g id=\"xtick_4\">\n     <g id=\"text_4\">\n      <!-- 0.5 -->\n      <g style=\"fill:#262626;\" transform=\"translate(338.003318 364.598437)scale(0.1 -0.1)\">\n       <use xlink:href=\"#DejaVuSans-30\"/>\n       <use x=\"63.623047\" xlink:href=\"#DejaVuSans-2e\"/>\n       <use x=\"95.410156\" xlink:href=\"#DejaVuSans-35\"/>\n      </g>\n     </g>\n    </g>\n    <g id=\"xtick_5\">\n     <g id=\"text_5\">\n      <!-- 1.0 -->\n      <g style=\"fill:#262626;\" transform=\"translate(409.000387 364.598437)scale(0.1 -0.1)\">\n       <use xlink:href=\"#DejaVuSans-31\"/>\n       <use x=\"63.623047\" xlink:href=\"#DejaVuSans-2e\"/>\n       <use x=\"95.410156\" xlink:href=\"#DejaVuSans-30\"/>\n      </g>\n     </g>\n    </g>\n    <g id=\"xtick_6\">\n     <g id=\"text_6\">\n      <!-- 1.5 -->\n      <g style=\"fill:#262626;\" transform=\"translate(479.997457 364.598437)scale(0.1 -0.1)\">\n       <use xlink:href=\"#DejaVuSans-31\"/>\n       <use x=\"63.623047\" xlink:href=\"#DejaVuSans-2e\"/>\n       <use x=\"95.410156\" xlink:href=\"#DejaVuSans-35\"/>\n      </g>\n     </g>\n    </g>\n    <g id=\"text_7\">\n     <!-- 0 -->\n     <g style=\"fill:#262626;\" transform=\"translate(291.700625 379.036406)scale(0.11 -0.11)\">\n      <use xlink:href=\"#DejaVuSans-30\"/>\n     </g>\n    </g>\n   </g>\n   <g id=\"matplotlib.axis_2\">\n    <g id=\"ytick_1\">\n     <g id=\"text_8\">\n      <!-- −1.0 -->\n      <g style=\"fill:#262626;\" transform=\"translate(37.217187 309.468308)scale(0.1 -0.1)\">\n       <use xlink:href=\"#DejaVuSans-2212\"/>\n       <use x=\"83.789062\" xlink:href=\"#DejaVuSans-31\"/>\n       <use x=\"147.412109\" xlink:href=\"#DejaVuSans-2e\"/>\n       <use x=\"179.199219\" xlink:href=\"#DejaVuSans-30\"/>\n      </g>\n     </g>\n    </g>\n    <g id=\"ytick_2\">\n     <g id=\"text_9\">\n      <!-- −0.5 -->\n      <g style=\"fill:#262626;\" transform=\"translate(37.217187 261.917448)scale(0.1 -0.1)\">\n       <use xlink:href=\"#DejaVuSans-2212\"/>\n       <use x=\"83.789062\" xlink:href=\"#DejaVuSans-30\"/>\n       <use x=\"147.412109\" xlink:href=\"#DejaVuSans-2e\"/>\n       <use x=\"179.199219\" xlink:href=\"#DejaVuSans-35\"/>\n      </g>\n     </g>\n    </g>\n    <g id=\"ytick_3\">\n     <g id=\"text_10\">\n      <!-- 0.0 -->\n      <g style=\"fill:#262626;\" transform=\"translate(45.596875 214.366588)scale(0.1 -0.1)\">\n       <use xlink:href=\"#DejaVuSans-30\"/>\n       <use x=\"63.623047\" xlink:href=\"#DejaVuSans-2e\"/>\n       <use x=\"95.410156\" xlink:href=\"#DejaVuSans-30\"/>\n      </g>\n     </g>\n    </g>\n    <g id=\"ytick_4\">\n     <g id=\"text_11\">\n      <!-- 0.5 -->\n      <g style=\"fill:#262626;\" transform=\"translate(45.596875 166.815728)scale(0.1 -0.1)\">\n       <use xlink:href=\"#DejaVuSans-30\"/>\n       <use x=\"63.623047\" xlink:href=\"#DejaVuSans-2e\"/>\n       <use x=\"95.410156\" xlink:href=\"#DejaVuSans-35\"/>\n      </g>\n     </g>\n    </g>\n    <g id=\"ytick_5\">\n     <g id=\"text_12\">\n      <!-- 1.0 -->\n      <g style=\"fill:#262626;\" transform=\"translate(45.596875 119.264868)scale(0.1 -0.1)\">\n       <use xlink:href=\"#DejaVuSans-31\"/>\n       <use x=\"63.623047\" xlink:href=\"#DejaVuSans-2e\"/>\n       <use x=\"95.410156\" xlink:href=\"#DejaVuSans-30\"/>\n      </g>\n     </g>\n    </g>\n    <g id=\"ytick_6\">\n     <g id=\"text_13\">\n      <!-- 1.5 -->\n      <g style=\"fill:#262626;\" transform=\"translate(45.596875 71.714009)scale(0.1 -0.1)\">\n       <use xlink:href=\"#DejaVuSans-31\"/>\n       <use x=\"63.623047\" xlink:href=\"#DejaVuSans-2e\"/>\n       <use x=\"95.410156\" xlink:href=\"#DejaVuSans-35\"/>\n      </g>\n     </g>\n    </g>\n    <g id=\"text_14\">\n     <!-- 0 -->\n     <g style=\"fill:#262626;\" transform=\"translate(30.929531 200.509375)rotate(-90)scale(0.11 -0.11)\">\n      <use xlink:href=\"#DejaVuSans-30\"/>\n     </g>\n    </g>\n   </g>\n   <g id=\"PathCollection_1\">\n    <defs>\n     <path d=\"M 0 3.5 \nC 0.928211 3.5 1.81853 3.131218 2.474874 2.474874 \nC 3.131218 1.81853 3.5 0.928211 3.5 0 \nC 3.5 -0.928211 3.131218 -1.81853 2.474874 -2.474874 \nC 1.81853 -3.131218 0.928211 -3.5 0 -3.5 \nC -0.928211 -3.5 -1.81853 -3.131218 -2.474874 -2.474874 \nC -3.131218 -1.81853 -3.5 -0.928211 -3.5 0 \nC -3.5 0.928211 -3.131218 1.81853 -2.474874 2.474874 \nC -1.81853 3.131218 -0.928211 3.5 0 3.5 \nz\n\" id=\"mb06ff072eb\" style=\"stroke:#337ab7;stroke-width:0.3;\"/>\n    </defs>\n    <g clip-path=\"url(#pb557ee04dc)\">\n     <use style=\"fill:#337ab7;stroke:#337ab7;stroke-width:0.3;\" x=\"312.515627\" xlink:href=\"#mb06ff072eb\" y=\"185.412719\"/>\n     <use style=\"fill:#337ab7;stroke:#337ab7;stroke-width:0.3;\" x=\"92.290909\" xlink:href=\"#mb06ff072eb\" y=\"332.91\"/>\n     <use style=\"fill:#337ab7;stroke:#337ab7;stroke-width:0.3;\" x=\"271.085814\" xlink:href=\"#mb06ff072eb\" y=\"213.160671\"/>\n     <use style=\"fill:#337ab7;stroke:#337ab7;stroke-width:0.3;\" x=\"120.12472\" xlink:href=\"#mb06ff072eb\" y=\"314.268081\"/>\n     <use style=\"fill:#337ab7;stroke:#337ab7;stroke-width:0.3;\" x=\"498.109091\" xlink:href=\"#mb06ff072eb\" y=\"61.11\"/>\n     <use style=\"fill:#337ab7;stroke:#337ab7;stroke-width:0.3;\" x=\"413.49674\" xlink:href=\"#mb06ff072eb\" y=\"117.779805\"/>\n    </g>\n   </g>\n   <g id=\"patch_3\">\n    <path d=\"M 72 346.5 \nL 72 47.52 \n\" style=\"fill:none;\"/>\n   </g>\n   <g id=\"patch_4\">\n    <path d=\"M 518.4 346.5 \nL 518.4 47.52 \n\" style=\"fill:none;\"/>\n   </g>\n   <g id=\"patch_5\">\n    <path d=\"M 72 346.5 \nL 518.4 346.5 \n\" style=\"fill:none;\"/>\n   </g>\n   <g id=\"patch_6\">\n    <path d=\"M 72 47.52 \nL 518.4 47.52 \n\" style=\"fill:none;\"/>\n   </g>\n  </g>\n </g>\n <defs>\n  <clipPath id=\"pb557ee04dc\">\n   <rect height=\"298.98\" width=\"446.4\" x=\"72\" y=\"47.52\"/>\n  </clipPath>\n </defs>\n</svg>\n"
      }
     },
     "52ee4ff4d2574ee89eca7b07b0a4fdb5": {
      "model_module": "@jupyter-widgets/controls",
      "model_module_version": "1.5.0",
      "model_name": "ProgressStyleModel",
      "state": {
       "description_width": ""
      }
     },
     "52f66758ad484b8092ff8a487f7ebeff": {
      "model_module": "@jupyter-widgets/base",
      "model_module_version": "1.2.0",
      "model_name": "LayoutModel",
      "state": {}
     },
     "530765cd71e944b985b74ba16a8c68ef": {
      "model_module": "@jupyter-widgets/controls",
      "model_module_version": "1.5.0",
      "model_name": "DescriptionStyleModel",
      "state": {
       "description_width": ""
      }
     },
     "5326968f4b6a426ab3bdb66ceb882fe8": {
      "model_module": "@jupyter-widgets/controls",
      "model_module_version": "1.5.0",
      "model_name": "ProgressStyleModel",
      "state": {
       "description_width": ""
      }
     },
     "534a67e2b95d422e9f002a816c79d1cc": {
      "model_module": "@jupyter-widgets/controls",
      "model_module_version": "1.5.0",
      "model_name": "DescriptionStyleModel",
      "state": {
       "description_width": ""
      }
     },
     "53863d65ccb24bac84edada40f219bd9": {
      "model_module": "@jupyter-widgets/controls",
      "model_module_version": "1.5.0",
      "model_name": "LabelModel",
      "state": {
       "layout": "IPY_MODEL_1351e50bf05f48759b66cd61df3a41dd",
       "style": "IPY_MODEL_6783d2c919a3442bb3d93116e0f59a3a",
       "value": "1"
      }
     },
     "53e29b63ca7249e3bd948c54461a4b79": {
      "model_module": "@jupyter-widgets/base",
      "model_module_version": "1.2.0",
      "model_name": "LayoutModel",
      "state": {
       "grid_area": "widget011"
      }
     },
     "541a6c0daecf4d5ca3bcc535a4793582": {
      "model_module": "@jupyter-widgets/controls",
      "model_module_version": "1.5.0",
      "model_name": "DescriptionStyleModel",
      "state": {
       "description_width": ""
      }
     },
     "542da60cb21d41e09933d73db3b1ed0f": {
      "model_module": "@jupyter-widgets/base",
      "model_module_version": "1.2.0",
      "model_name": "LayoutModel",
      "state": {
       "grid_template_areas": "\"widget001 widget002\"\n\"widget003 widget004\"\n\"widget005 widget006\"\n\"widget007 widget008\"\n\"widget009 widget010\"\n\"widget011 widget012\"\n\"widget013 widget014\"\n\"widget015 widget016\"\n\"widget017 widget018\"",
       "grid_template_columns": "repeat(2, 1fr)",
       "grid_template_rows": "repeat(9, 1fr)"
      }
     },
     "5434e0192666409db93089eba6186ea8": {
      "model_module": "@jupyter-widgets/controls",
      "model_module_version": "1.5.0",
      "model_name": "HTMLModel",
      "state": {
       "layout": "IPY_MODEL_04e769934c7a4f0e820d8008bb8e38b4",
       "style": "IPY_MODEL_aad557bfa82d4446bf2d37eba6ef7995",
       "value": "6"
      }
     },
     "54461084c3744fa4ab6bb2e3c240edab": {
      "model_module": "@jupyter-widgets/controls",
      "model_module_version": "1.5.0",
      "model_name": "DescriptionStyleModel",
      "state": {
       "description_width": ""
      }
     },
     "54743e00e45a45039180742a9618faa9": {
      "model_module": "@jupyter-widgets/controls",
      "model_module_version": "1.5.0",
      "model_name": "DescriptionStyleModel",
      "state": {
       "description_width": ""
      }
     },
     "54f29b6ad01540f9a84456307a373156": {
      "model_module": "@jupyter-widgets/controls",
      "model_module_version": "1.5.0",
      "model_name": "LabelModel",
      "state": {
       "layout": "IPY_MODEL_231ae15a2f4b435e8d55afa414c82096",
       "style": "IPY_MODEL_f3e1b4cd330248b3a204d2b25448bd6b",
       "value": "0.30937586533192357"
      }
     },
     "55001048b4ae4fbdbbdc9c1c420eca87": {
      "model_module": "@jupyter-widgets/controls",
      "model_module_version": "1.5.0",
      "model_name": "HTMLModel",
      "state": {
       "layout": "IPY_MODEL_f2e35a68819a4b35bd460431ac9d8dd8",
       "style": "IPY_MODEL_7d45cf50e4d745ae8d56b0758486b053",
       "value": "<?xml version=\"1.0\" encoding=\"utf-8\" standalone=\"no\"?>\n<!DOCTYPE svg style=\"max-width: 100%\" PUBLIC \"-//W3C//DTD SVG 1.1//EN\"\n  \"http://www.w3.org/Graphics/SVG/1.1/DTD/svg11.dtd\">\n<svg style=\"max-width: 100%\"  version=\"1.1\" viewBox=\"0 0 576 396\" width=\"576pt\" xmlns=\"http://www.w3.org/2000/svg\" xmlns:xlink=\"http://www.w3.org/1999/xlink\">\n <metadata>\n  <rdf:RDF xmlns:cc=\"http://creativecommons.org/ns#\" xmlns:dc=\"http://purl.org/dc/elements/1.1/\" xmlns:rdf=\"http://www.w3.org/1999/02/22-rdf-syntax-ns#\">\n   <cc:Work>\n    <dc:type rdf:resource=\"http://purl.org/dc/dcmitype/StillImage\"/>\n    <dc:date>2022-10-01T17:17:55.480855</dc:date>\n    <dc:format>image/svg+xml</dc:format>\n    <dc:creator>\n     <cc:Agent>\n      <dc:title>Matplotlib v3.4.3, https://matplotlib.org/</dc:title>\n     </cc:Agent>\n    </dc:creator>\n   </cc:Work>\n  </rdf:RDF>\n </metadata>\n <defs>\n  <style type=\"text/css\">*{stroke-linecap:butt;stroke-linejoin:round;}</style>\n </defs>\n <g id=\"figure_1\">\n  <g id=\"patch_1\">\n   <path d=\"M 0 396 \nL 576 396 \nL 576 0 \nL 0 0 \nz\n\" style=\"fill:#ffffff;\"/>\n  </g>\n  <g id=\"axes_1\">\n   <g id=\"patch_2\">\n    <path d=\"M 72 346.5 \nL 518.4 346.5 \nL 518.4 47.52 \nL 72 47.52 \nz\n\" style=\"fill:#ffffff;\"/>\n   </g>\n   <g id=\"matplotlib.axis_1\">\n    <g id=\"xtick_1\">\n     <g id=\"text_1\">\n      <!-- 0.6 -->\n      <g style=\"fill:#262626;\" transform=\"translate(134.779311 364.598437)scale(0.1 -0.1)\">\n       <defs>\n        <path d=\"M 2034 4250 \nQ 1547 4250 1301 3770 \nQ 1056 3291 1056 2328 \nQ 1056 1369 1301 889 \nQ 1547 409 2034 409 \nQ 2525 409 2770 889 \nQ 3016 1369 3016 2328 \nQ 3016 3291 2770 3770 \nQ 2525 4250 2034 4250 \nz\nM 2034 4750 \nQ 2819 4750 3233 4129 \nQ 3647 3509 3647 2328 \nQ 3647 1150 3233 529 \nQ 2819 -91 2034 -91 \nQ 1250 -91 836 529 \nQ 422 1150 422 2328 \nQ 422 3509 836 4129 \nQ 1250 4750 2034 4750 \nz\n\" id=\"DejaVuSans-30\" transform=\"scale(0.015625)\"/>\n        <path d=\"M 684 794 \nL 1344 794 \nL 1344 0 \nL 684 0 \nL 684 794 \nz\n\" id=\"DejaVuSans-2e\" transform=\"scale(0.015625)\"/>\n        <path d=\"M 2113 2584 \nQ 1688 2584 1439 2293 \nQ 1191 2003 1191 1497 \nQ 1191 994 1439 701 \nQ 1688 409 2113 409 \nQ 2538 409 2786 701 \nQ 3034 994 3034 1497 \nQ 3034 2003 2786 2293 \nQ 2538 2584 2113 2584 \nz\nM 3366 4563 \nL 3366 3988 \nQ 3128 4100 2886 4159 \nQ 2644 4219 2406 4219 \nQ 1781 4219 1451 3797 \nQ 1122 3375 1075 2522 \nQ 1259 2794 1537 2939 \nQ 1816 3084 2150 3084 \nQ 2853 3084 3261 2657 \nQ 3669 2231 3669 1497 \nQ 3669 778 3244 343 \nQ 2819 -91 2113 -91 \nQ 1303 -91 875 529 \nQ 447 1150 447 2328 \nQ 447 3434 972 4092 \nQ 1497 4750 2381 4750 \nQ 2619 4750 2861 4703 \nQ 3103 4656 3366 4563 \nz\n\" id=\"DejaVuSans-36\" transform=\"scale(0.015625)\"/>\n       </defs>\n       <use xlink:href=\"#DejaVuSans-30\"/>\n       <use x=\"63.623047\" xlink:href=\"#DejaVuSans-2e\"/>\n       <use x=\"95.410156\" xlink:href=\"#DejaVuSans-36\"/>\n      </g>\n     </g>\n    </g>\n    <g id=\"xtick_2\">\n     <g id=\"text_2\">\n      <!-- 0.8 -->\n      <g style=\"fill:#262626;\" transform=\"translate(207.906559 364.598437)scale(0.1 -0.1)\">\n       <defs>\n        <path d=\"M 2034 2216 \nQ 1584 2216 1326 1975 \nQ 1069 1734 1069 1313 \nQ 1069 891 1326 650 \nQ 1584 409 2034 409 \nQ 2484 409 2743 651 \nQ 3003 894 3003 1313 \nQ 3003 1734 2745 1975 \nQ 2488 2216 2034 2216 \nz\nM 1403 2484 \nQ 997 2584 770 2862 \nQ 544 3141 544 3541 \nQ 544 4100 942 4425 \nQ 1341 4750 2034 4750 \nQ 2731 4750 3128 4425 \nQ 3525 4100 3525 3541 \nQ 3525 3141 3298 2862 \nQ 3072 2584 2669 2484 \nQ 3125 2378 3379 2068 \nQ 3634 1759 3634 1313 \nQ 3634 634 3220 271 \nQ 2806 -91 2034 -91 \nQ 1263 -91 848 271 \nQ 434 634 434 1313 \nQ 434 1759 690 2068 \nQ 947 2378 1403 2484 \nz\nM 1172 3481 \nQ 1172 3119 1398 2916 \nQ 1625 2713 2034 2713 \nQ 2441 2713 2670 2916 \nQ 2900 3119 2900 3481 \nQ 2900 3844 2670 4047 \nQ 2441 4250 2034 4250 \nQ 1625 4250 1398 4047 \nQ 1172 3844 1172 3481 \nz\n\" id=\"DejaVuSans-38\" transform=\"scale(0.015625)\"/>\n       </defs>\n       <use xlink:href=\"#DejaVuSans-30\"/>\n       <use x=\"63.623047\" xlink:href=\"#DejaVuSans-2e\"/>\n       <use x=\"95.410156\" xlink:href=\"#DejaVuSans-38\"/>\n      </g>\n     </g>\n    </g>\n    <g id=\"xtick_3\">\n     <g id=\"text_3\">\n      <!-- 1.0 -->\n      <g style=\"fill:#262626;\" transform=\"translate(281.033807 364.598437)scale(0.1 -0.1)\">\n       <defs>\n        <path d=\"M 794 531 \nL 1825 531 \nL 1825 4091 \nL 703 3866 \nL 703 4441 \nL 1819 4666 \nL 2450 4666 \nL 2450 531 \nL 3481 531 \nL 3481 0 \nL 794 0 \nL 794 531 \nz\n\" id=\"DejaVuSans-31\" transform=\"scale(0.015625)\"/>\n       </defs>\n       <use xlink:href=\"#DejaVuSans-31\"/>\n       <use x=\"63.623047\" xlink:href=\"#DejaVuSans-2e\"/>\n       <use x=\"95.410156\" xlink:href=\"#DejaVuSans-30\"/>\n      </g>\n     </g>\n    </g>\n    <g id=\"xtick_4\">\n     <g id=\"text_4\">\n      <!-- 1.2 -->\n      <g style=\"fill:#262626;\" transform=\"translate(354.161055 364.598437)scale(0.1 -0.1)\">\n       <defs>\n        <path d=\"M 1228 531 \nL 3431 531 \nL 3431 0 \nL 469 0 \nL 469 531 \nQ 828 903 1448 1529 \nQ 2069 2156 2228 2338 \nQ 2531 2678 2651 2914 \nQ 2772 3150 2772 3378 \nQ 2772 3750 2511 3984 \nQ 2250 4219 1831 4219 \nQ 1534 4219 1204 4116 \nQ 875 4013 500 3803 \nL 500 4441 \nQ 881 4594 1212 4672 \nQ 1544 4750 1819 4750 \nQ 2544 4750 2975 4387 \nQ 3406 4025 3406 3419 \nQ 3406 3131 3298 2873 \nQ 3191 2616 2906 2266 \nQ 2828 2175 2409 1742 \nQ 1991 1309 1228 531 \nz\n\" id=\"DejaVuSans-32\" transform=\"scale(0.015625)\"/>\n       </defs>\n       <use xlink:href=\"#DejaVuSans-31\"/>\n       <use x=\"63.623047\" xlink:href=\"#DejaVuSans-2e\"/>\n       <use x=\"95.410156\" xlink:href=\"#DejaVuSans-32\"/>\n      </g>\n     </g>\n    </g>\n    <g id=\"xtick_5\">\n     <g id=\"text_5\">\n      <!-- 1.4 -->\n      <g style=\"fill:#262626;\" transform=\"translate(427.288303 364.598437)scale(0.1 -0.1)\">\n       <defs>\n        <path d=\"M 2419 4116 \nL 825 1625 \nL 2419 1625 \nL 2419 4116 \nz\nM 2253 4666 \nL 3047 4666 \nL 3047 1625 \nL 3713 1625 \nL 3713 1100 \nL 3047 1100 \nL 3047 0 \nL 2419 0 \nL 2419 1100 \nL 313 1100 \nL 313 1709 \nL 2253 4666 \nz\n\" id=\"DejaVuSans-34\" transform=\"scale(0.015625)\"/>\n       </defs>\n       <use xlink:href=\"#DejaVuSans-31\"/>\n       <use x=\"63.623047\" xlink:href=\"#DejaVuSans-2e\"/>\n       <use x=\"95.410156\" xlink:href=\"#DejaVuSans-34\"/>\n      </g>\n     </g>\n    </g>\n    <g id=\"xtick_6\">\n     <g id=\"text_6\">\n      <!-- 1.6 -->\n      <g style=\"fill:#262626;\" transform=\"translate(500.415551 364.598437)scale(0.1 -0.1)\">\n       <use xlink:href=\"#DejaVuSans-31\"/>\n       <use x=\"63.623047\" xlink:href=\"#DejaVuSans-2e\"/>\n       <use x=\"95.410156\" xlink:href=\"#DejaVuSans-36\"/>\n      </g>\n     </g>\n    </g>\n    <g id=\"text_7\">\n     <!-- 2 -->\n     <g style=\"fill:#262626;\" transform=\"translate(291.700625 379.036406)scale(0.11 -0.11)\">\n      <use xlink:href=\"#DejaVuSans-32\"/>\n     </g>\n    </g>\n   </g>\n   <g id=\"matplotlib.axis_2\">\n    <g id=\"ytick_1\">\n     <g id=\"text_8\">\n      <!-- −1.0 -->\n      <g style=\"fill:#262626;\" transform=\"translate(37.217187 309.468308)scale(0.1 -0.1)\">\n       <defs>\n        <path d=\"M 678 2272 \nL 4684 2272 \nL 4684 1741 \nL 678 1741 \nL 678 2272 \nz\n\" id=\"DejaVuSans-2212\" transform=\"scale(0.015625)\"/>\n       </defs>\n       <use xlink:href=\"#DejaVuSans-2212\"/>\n       <use x=\"83.789062\" xlink:href=\"#DejaVuSans-31\"/>\n       <use x=\"147.412109\" xlink:href=\"#DejaVuSans-2e\"/>\n       <use x=\"179.199219\" xlink:href=\"#DejaVuSans-30\"/>\n      </g>\n     </g>\n    </g>\n    <g id=\"ytick_2\">\n     <g id=\"text_9\">\n      <!-- −0.5 -->\n      <g style=\"fill:#262626;\" transform=\"translate(37.217187 261.917448)scale(0.1 -0.1)\">\n       <defs>\n        <path d=\"M 691 4666 \nL 3169 4666 \nL 3169 4134 \nL 1269 4134 \nL 1269 2991 \nQ 1406 3038 1543 3061 \nQ 1681 3084 1819 3084 \nQ 2600 3084 3056 2656 \nQ 3513 2228 3513 1497 \nQ 3513 744 3044 326 \nQ 2575 -91 1722 -91 \nQ 1428 -91 1123 -41 \nQ 819 9 494 109 \nL 494 744 \nQ 775 591 1075 516 \nQ 1375 441 1709 441 \nQ 2250 441 2565 725 \nQ 2881 1009 2881 1497 \nQ 2881 1984 2565 2268 \nQ 2250 2553 1709 2553 \nQ 1456 2553 1204 2497 \nQ 953 2441 691 2322 \nL 691 4666 \nz\n\" id=\"DejaVuSans-35\" transform=\"scale(0.015625)\"/>\n       </defs>\n       <use xlink:href=\"#DejaVuSans-2212\"/>\n       <use x=\"83.789062\" xlink:href=\"#DejaVuSans-30\"/>\n       <use x=\"147.412109\" xlink:href=\"#DejaVuSans-2e\"/>\n       <use x=\"179.199219\" xlink:href=\"#DejaVuSans-35\"/>\n      </g>\n     </g>\n    </g>\n    <g id=\"ytick_3\">\n     <g id=\"text_10\">\n      <!-- 0.0 -->\n      <g style=\"fill:#262626;\" transform=\"translate(45.596875 214.366588)scale(0.1 -0.1)\">\n       <use xlink:href=\"#DejaVuSans-30\"/>\n       <use x=\"63.623047\" xlink:href=\"#DejaVuSans-2e\"/>\n       <use x=\"95.410156\" xlink:href=\"#DejaVuSans-30\"/>\n      </g>\n     </g>\n    </g>\n    <g id=\"ytick_4\">\n     <g id=\"text_11\">\n      <!-- 0.5 -->\n      <g style=\"fill:#262626;\" transform=\"translate(45.596875 166.815728)scale(0.1 -0.1)\">\n       <use xlink:href=\"#DejaVuSans-30\"/>\n       <use x=\"63.623047\" xlink:href=\"#DejaVuSans-2e\"/>\n       <use x=\"95.410156\" xlink:href=\"#DejaVuSans-35\"/>\n      </g>\n     </g>\n    </g>\n    <g id=\"ytick_5\">\n     <g id=\"text_12\">\n      <!-- 1.0 -->\n      <g style=\"fill:#262626;\" transform=\"translate(45.596875 119.264868)scale(0.1 -0.1)\">\n       <use xlink:href=\"#DejaVuSans-31\"/>\n       <use x=\"63.623047\" xlink:href=\"#DejaVuSans-2e\"/>\n       <use x=\"95.410156\" xlink:href=\"#DejaVuSans-30\"/>\n      </g>\n     </g>\n    </g>\n    <g id=\"ytick_6\">\n     <g id=\"text_13\">\n      <!-- 1.5 -->\n      <g style=\"fill:#262626;\" transform=\"translate(45.596875 71.714009)scale(0.1 -0.1)\">\n       <use xlink:href=\"#DejaVuSans-31\"/>\n       <use x=\"63.623047\" xlink:href=\"#DejaVuSans-2e\"/>\n       <use x=\"95.410156\" xlink:href=\"#DejaVuSans-35\"/>\n      </g>\n     </g>\n    </g>\n    <g id=\"text_14\">\n     <!-- 0 -->\n     <g style=\"fill:#262626;\" transform=\"translate(30.929531 200.509375)rotate(-90)scale(0.11 -0.11)\">\n      <use xlink:href=\"#DejaVuSans-30\"/>\n     </g>\n    </g>\n   </g>\n   <g id=\"PathCollection_1\">\n    <defs>\n     <path d=\"M 0 3.5 \nC 0.928211 3.5 1.81853 3.131218 2.474874 2.474874 \nC 3.131218 1.81853 3.5 0.928211 3.5 0 \nC 3.5 -0.928211 3.131218 -1.81853 2.474874 -2.474874 \nC 1.81853 -3.131218 0.928211 -3.5 0 -3.5 \nC -0.928211 -3.5 -1.81853 -3.131218 -2.474874 -2.474874 \nC -3.131218 -1.81853 -3.5 -0.928211 -3.5 0 \nC -3.5 0.928211 -3.131218 1.81853 -2.474874 2.474874 \nC -1.81853 3.131218 -0.928211 3.5 0 3.5 \nz\n\" id=\"m76e29b0182\" style=\"stroke:#337ab7;stroke-width:0.3;\"/>\n    </defs>\n    <g clip-path=\"url(#pabce4be30f)\">\n     <use style=\"fill:#337ab7;stroke:#337ab7;stroke-width:0.3;\" x=\"384.176305\" xlink:href=\"#m76e29b0182\" y=\"185.412719\"/>\n     <use style=\"fill:#337ab7;stroke:#337ab7;stroke-width:0.3;\" x=\"498.109091\" xlink:href=\"#m76e29b0182\" y=\"332.91\"/>\n     <use style=\"fill:#337ab7;stroke:#337ab7;stroke-width:0.3;\" x=\"92.290909\" xlink:href=\"#m76e29b0182\" y=\"213.160671\"/>\n     <use style=\"fill:#337ab7;stroke:#337ab7;stroke-width:0.3;\" x=\"214.259089\" xlink:href=\"#m76e29b0182\" y=\"314.268081\"/>\n     <use style=\"fill:#337ab7;stroke:#337ab7;stroke-width:0.3;\" x=\"496.298187\" xlink:href=\"#m76e29b0182\" y=\"61.11\"/>\n     <use style=\"fill:#337ab7;stroke:#337ab7;stroke-width:0.3;\" x=\"110.838289\" xlink:href=\"#m76e29b0182\" y=\"117.779805\"/>\n    </g>\n   </g>\n   <g id=\"patch_3\">\n    <path d=\"M 72 346.5 \nL 72 47.52 \n\" style=\"fill:none;\"/>\n   </g>\n   <g id=\"patch_4\">\n    <path d=\"M 518.4 346.5 \nL 518.4 47.52 \n\" style=\"fill:none;\"/>\n   </g>\n   <g id=\"patch_5\">\n    <path d=\"M 72 346.5 \nL 518.4 346.5 \n\" style=\"fill:none;\"/>\n   </g>\n   <g id=\"patch_6\">\n    <path d=\"M 72 47.52 \nL 518.4 47.52 \n\" style=\"fill:none;\"/>\n   </g>\n  </g>\n </g>\n <defs>\n  <clipPath id=\"pabce4be30f\">\n   <rect height=\"298.98\" width=\"446.4\" x=\"72\" y=\"47.52\"/>\n  </clipPath>\n </defs>\n</svg>\n"
      }
     },
     "550f7f83bfc141af864071c9e7d5f5fd": {
      "model_module": "@jupyter-widgets/controls",
      "model_module_version": "1.5.0",
      "model_name": "DescriptionStyleModel",
      "state": {
       "description_width": ""
      }
     },
     "551e3f575ed94ef0af48e4af96dbd2b8": {
      "model_module": "@jupyter-widgets/base",
      "model_module_version": "1.2.0",
      "model_name": "LayoutModel",
      "state": {
       "grid_area": "widget002"
      }
     },
     "555e84d4d22e46eb9f05eac9ab700e26": {
      "model_module": "@jupyter-widgets/controls",
      "model_module_version": "1.5.0",
      "model_name": "DescriptionStyleModel",
      "state": {
       "description_width": ""
      }
     },
     "556c459c96a04988923a441677ac10f2": {
      "model_module": "@jupyter-widgets/base",
      "model_module_version": "1.2.0",
      "model_name": "LayoutModel",
      "state": {
       "grid_area": "widget010"
      }
     },
     "55dd5ca2cea647d78f22108e3e82bc63": {
      "model_module": "@jupyter-widgets/controls",
      "model_module_version": "1.5.0",
      "model_name": "HTMLModel",
      "state": {
       "layout": "IPY_MODEL_7a4bc8f25f554e8fbda5ca7a85f63a94",
       "style": "IPY_MODEL_d4dd687598d047b99c3ac00a4b6a45ce",
       "value": "Negative"
      }
     },
     "5613e3f3eea4436c93312ed55c5ac3cc": {
      "model_module": "@jupyter-widgets/controls",
      "model_module_version": "1.5.0",
      "model_name": "FloatProgressModel",
      "state": {
       "layout": "IPY_MODEL_7864ecf851054603ad2b9146fdfe3264",
       "max": 7,
       "style": "IPY_MODEL_748af9cf2b634b9b8bace733b25b2ae6",
       "value": 1
      }
     },
     "561cced2ba3540568c3afe30d0c3cdf6": {
      "model_module": "@jupyter-widgets/controls",
      "model_module_version": "1.5.0",
      "model_name": "DescriptionStyleModel",
      "state": {
       "description_width": ""
      }
     },
     "5622386a76c44f9196ba3088c8241ff9": {
      "model_module": "@jupyter-widgets/controls",
      "model_module_version": "1.5.0",
      "model_name": "DescriptionStyleModel",
      "state": {
       "description_width": ""
      }
     },
     "563ee18f1fa5470c85881e2ed91c3133": {
      "model_module": "@jupyter-widgets/controls",
      "model_module_version": "1.5.0",
      "model_name": "DescriptionStyleModel",
      "state": {
       "description_width": ""
      }
     },
     "564f74db53394c3490d855bcc5e6419b": {
      "model_module": "@jupyter-widgets/base",
      "model_module_version": "1.2.0",
      "model_name": "LayoutModel",
      "state": {}
     },
     "566d262e43e949208977a54710115592": {
      "model_module": "@jupyter-widgets/controls",
      "model_module_version": "1.5.0",
      "model_name": "FloatProgressModel",
      "state": {
       "layout": "IPY_MODEL_4886ef16c6d54174bced1cfa249bc856",
       "max": 7,
       "style": "IPY_MODEL_22da50acf467494585d609ad72b7c676",
       "value": 1
      }
     },
     "569f6527dee645da8a5fe1a7e20c2879": {
      "model_module": "@jupyter-widgets/controls",
      "model_module_version": "1.5.0",
      "model_name": "HTMLModel",
      "state": {
       "layout": "IPY_MODEL_d719f6a4d5a245e69c1a64a40b2c50d9",
       "style": "IPY_MODEL_1d2cd4dfd00f43edba8f66be59bd131f",
       "value": "Negative"
      }
     },
     "56cbbb17e5024bc987ff408a2fc1db86": {
      "model_module": "@jupyter-widgets/base",
      "model_module_version": "1.2.0",
      "model_name": "LayoutModel",
      "state": {}
     },
     "56f950e5ad0a461b810ec0a03e0a21f7": {
      "model_module": "@jupyter-widgets/base",
      "model_module_version": "1.2.0",
      "model_name": "LayoutModel",
      "state": {
       "grid_area": "widget013"
      }
     },
     "5730bebe8d174340b9af7464c7162588": {
      "model_module": "@jupyter-widgets/controls",
      "model_module_version": "1.5.0",
      "model_name": "HTMLModel",
      "state": {
       "layout": "IPY_MODEL_016ffe7625b143efbb933342530bfffa",
       "style": "IPY_MODEL_555e84d4d22e46eb9f05eac9ab700e26",
       "value": "<?xml version=\"1.0\" encoding=\"utf-8\" standalone=\"no\"?>\n<!DOCTYPE svg style=\"max-width: 100%\" PUBLIC \"-//W3C//DTD SVG 1.1//EN\"\n  \"http://www.w3.org/Graphics/SVG/1.1/DTD/svg11.dtd\">\n<svg style=\"max-width: 100%\"  version=\"1.1\" viewBox=\"0 0 576 396\" width=\"576pt\" xmlns=\"http://www.w3.org/2000/svg\" xmlns:xlink=\"http://www.w3.org/1999/xlink\">\n <metadata>\n  <rdf:RDF xmlns:cc=\"http://creativecommons.org/ns#\" xmlns:dc=\"http://purl.org/dc/elements/1.1/\" xmlns:rdf=\"http://www.w3.org/1999/02/22-rdf-syntax-ns#\">\n   <cc:Work>\n    <dc:type rdf:resource=\"http://purl.org/dc/dcmitype/StillImage\"/>\n    <dc:date>2022-10-01T17:17:56.652484</dc:date>\n    <dc:format>image/svg+xml</dc:format>\n    <dc:creator>\n     <cc:Agent>\n      <dc:title>Matplotlib v3.4.3, https://matplotlib.org/</dc:title>\n     </cc:Agent>\n    </dc:creator>\n   </cc:Work>\n  </rdf:RDF>\n </metadata>\n <defs>\n  <style type=\"text/css\">*{stroke-linecap:butt;stroke-linejoin:round;}</style>\n </defs>\n <g id=\"figure_1\">\n  <g id=\"patch_1\">\n   <path d=\"M 0 396 \nL 576 396 \nL 576 0 \nL 0 0 \nz\n\" style=\"fill:#ffffff;\"/>\n  </g>\n  <g id=\"axes_1\">\n   <g id=\"patch_2\">\n    <path d=\"M 72 346.5 \nL 518.4 346.5 \nL 518.4 47.52 \nL 72 47.52 \nz\n\" style=\"fill:#ffffff;\"/>\n   </g>\n   <g id=\"matplotlib.axis_1\">\n    <g id=\"xtick_1\">\n     <g id=\"text_1\">\n      <!-- −1.0 -->\n      <g style=\"fill:#262626;\" transform=\"translate(96.809707 364.598437)scale(0.1 -0.1)\">\n       <defs>\n        <path d=\"M 678 2272 \nL 4684 2272 \nL 4684 1741 \nL 678 1741 \nL 678 2272 \nz\n\" id=\"DejaVuSans-2212\" transform=\"scale(0.015625)\"/>\n        <path d=\"M 794 531 \nL 1825 531 \nL 1825 4091 \nL 703 3866 \nL 703 4441 \nL 1819 4666 \nL 2450 4666 \nL 2450 531 \nL 3481 531 \nL 3481 0 \nL 794 0 \nL 794 531 \nz\n\" id=\"DejaVuSans-31\" transform=\"scale(0.015625)\"/>\n        <path d=\"M 684 794 \nL 1344 794 \nL 1344 0 \nL 684 0 \nL 684 794 \nz\n\" id=\"DejaVuSans-2e\" transform=\"scale(0.015625)\"/>\n        <path d=\"M 2034 4250 \nQ 1547 4250 1301 3770 \nQ 1056 3291 1056 2328 \nQ 1056 1369 1301 889 \nQ 1547 409 2034 409 \nQ 2525 409 2770 889 \nQ 3016 1369 3016 2328 \nQ 3016 3291 2770 3770 \nQ 2525 4250 2034 4250 \nz\nM 2034 4750 \nQ 2819 4750 3233 4129 \nQ 3647 3509 3647 2328 \nQ 3647 1150 3233 529 \nQ 2819 -91 2034 -91 \nQ 1250 -91 836 529 \nQ 422 1150 422 2328 \nQ 422 3509 836 4129 \nQ 1250 4750 2034 4750 \nz\n\" id=\"DejaVuSans-30\" transform=\"scale(0.015625)\"/>\n       </defs>\n       <use xlink:href=\"#DejaVuSans-2212\"/>\n       <use x=\"83.789062\" xlink:href=\"#DejaVuSans-31\"/>\n       <use x=\"147.412109\" xlink:href=\"#DejaVuSans-2e\"/>\n       <use x=\"179.199219\" xlink:href=\"#DejaVuSans-30\"/>\n      </g>\n     </g>\n    </g>\n    <g id=\"xtick_2\">\n     <g id=\"text_2\">\n      <!-- −0.5 -->\n      <g style=\"fill:#262626;\" transform=\"translate(174.03888 364.598437)scale(0.1 -0.1)\">\n       <defs>\n        <path d=\"M 691 4666 \nL 3169 4666 \nL 3169 4134 \nL 1269 4134 \nL 1269 2991 \nQ 1406 3038 1543 3061 \nQ 1681 3084 1819 3084 \nQ 2600 3084 3056 2656 \nQ 3513 2228 3513 1497 \nQ 3513 744 3044 326 \nQ 2575 -91 1722 -91 \nQ 1428 -91 1123 -41 \nQ 819 9 494 109 \nL 494 744 \nQ 775 591 1075 516 \nQ 1375 441 1709 441 \nQ 2250 441 2565 725 \nQ 2881 1009 2881 1497 \nQ 2881 1984 2565 2268 \nQ 2250 2553 1709 2553 \nQ 1456 2553 1204 2497 \nQ 953 2441 691 2322 \nL 691 4666 \nz\n\" id=\"DejaVuSans-35\" transform=\"scale(0.015625)\"/>\n       </defs>\n       <use xlink:href=\"#DejaVuSans-2212\"/>\n       <use x=\"83.789062\" xlink:href=\"#DejaVuSans-30\"/>\n       <use x=\"147.412109\" xlink:href=\"#DejaVuSans-2e\"/>\n       <use x=\"179.199219\" xlink:href=\"#DejaVuSans-35\"/>\n      </g>\n     </g>\n    </g>\n    <g id=\"xtick_3\">\n     <g id=\"text_3\">\n      <!-- 0.0 -->\n      <g style=\"fill:#262626;\" transform=\"translate(255.457897 364.598437)scale(0.1 -0.1)\">\n       <use xlink:href=\"#DejaVuSans-30\"/>\n       <use x=\"63.623047\" xlink:href=\"#DejaVuSans-2e\"/>\n       <use x=\"95.410156\" xlink:href=\"#DejaVuSans-30\"/>\n      </g>\n     </g>\n    </g>\n    <g id=\"xtick_4\">\n     <g id=\"text_4\">\n      <!-- 0.5 -->\n      <g style=\"fill:#262626;\" transform=\"translate(332.68707 364.598437)scale(0.1 -0.1)\">\n       <use xlink:href=\"#DejaVuSans-30\"/>\n       <use x=\"63.623047\" xlink:href=\"#DejaVuSans-2e\"/>\n       <use x=\"95.410156\" xlink:href=\"#DejaVuSans-35\"/>\n      </g>\n     </g>\n    </g>\n    <g id=\"xtick_5\">\n     <g id=\"text_5\">\n      <!-- 1.0 -->\n      <g style=\"fill:#262626;\" transform=\"translate(409.916243 364.598437)scale(0.1 -0.1)\">\n       <use xlink:href=\"#DejaVuSans-31\"/>\n       <use x=\"63.623047\" xlink:href=\"#DejaVuSans-2e\"/>\n       <use x=\"95.410156\" xlink:href=\"#DejaVuSans-30\"/>\n      </g>\n     </g>\n    </g>\n    <g id=\"xtick_6\">\n     <g id=\"text_6\">\n      <!-- 1.5 -->\n      <g style=\"fill:#262626;\" transform=\"translate(487.145416 364.598437)scale(0.1 -0.1)\">\n       <use xlink:href=\"#DejaVuSans-31\"/>\n       <use x=\"63.623047\" xlink:href=\"#DejaVuSans-2e\"/>\n       <use x=\"95.410156\" xlink:href=\"#DejaVuSans-35\"/>\n      </g>\n     </g>\n    </g>\n    <g id=\"text_7\">\n     <!-- 1 -->\n     <g style=\"fill:#262626;\" transform=\"translate(291.700625 379.036406)scale(0.11 -0.11)\">\n      <use xlink:href=\"#DejaVuSans-31\"/>\n     </g>\n    </g>\n   </g>\n   <g id=\"matplotlib.axis_2\">\n    <g id=\"ytick_1\">\n     <g id=\"text_8\">\n      <!-- 0.6 -->\n      <g style=\"fill:#262626;\" transform=\"translate(45.596875 302.926646)scale(0.1 -0.1)\">\n       <defs>\n        <path d=\"M 2113 2584 \nQ 1688 2584 1439 2293 \nQ 1191 2003 1191 1497 \nQ 1191 994 1439 701 \nQ 1688 409 2113 409 \nQ 2538 409 2786 701 \nQ 3034 994 3034 1497 \nQ 3034 2003 2786 2293 \nQ 2538 2584 2113 2584 \nz\nM 3366 4563 \nL 3366 3988 \nQ 3128 4100 2886 4159 \nQ 2644 4219 2406 4219 \nQ 1781 4219 1451 3797 \nQ 1122 3375 1075 2522 \nQ 1259 2794 1537 2939 \nQ 1816 3084 2150 3084 \nQ 2853 3084 3261 2657 \nQ 3669 2231 3669 1497 \nQ 3669 778 3244 343 \nQ 2819 -91 2113 -91 \nQ 1303 -91 875 529 \nQ 447 1150 447 2328 \nQ 447 3434 972 4092 \nQ 1497 4750 2381 4750 \nQ 2619 4750 2861 4703 \nQ 3103 4656 3366 4563 \nz\n\" id=\"DejaVuSans-36\" transform=\"scale(0.015625)\"/>\n       </defs>\n       <use xlink:href=\"#DejaVuSans-30\"/>\n       <use x=\"63.623047\" xlink:href=\"#DejaVuSans-2e\"/>\n       <use x=\"95.410156\" xlink:href=\"#DejaVuSans-36\"/>\n      </g>\n     </g>\n    </g>\n    <g id=\"ytick_2\">\n     <g id=\"text_9\">\n      <!-- 0.8 -->\n      <g style=\"fill:#262626;\" transform=\"translate(45.596875 253.949082)scale(0.1 -0.1)\">\n       <defs>\n        <path d=\"M 2034 2216 \nQ 1584 2216 1326 1975 \nQ 1069 1734 1069 1313 \nQ 1069 891 1326 650 \nQ 1584 409 2034 409 \nQ 2484 409 2743 651 \nQ 3003 894 3003 1313 \nQ 3003 1734 2745 1975 \nQ 2488 2216 2034 2216 \nz\nM 1403 2484 \nQ 997 2584 770 2862 \nQ 544 3141 544 3541 \nQ 544 4100 942 4425 \nQ 1341 4750 2034 4750 \nQ 2731 4750 3128 4425 \nQ 3525 4100 3525 3541 \nQ 3525 3141 3298 2862 \nQ 3072 2584 2669 2484 \nQ 3125 2378 3379 2068 \nQ 3634 1759 3634 1313 \nQ 3634 634 3220 271 \nQ 2806 -91 2034 -91 \nQ 1263 -91 848 271 \nQ 434 634 434 1313 \nQ 434 1759 690 2068 \nQ 947 2378 1403 2484 \nz\nM 1172 3481 \nQ 1172 3119 1398 2916 \nQ 1625 2713 2034 2713 \nQ 2441 2713 2670 2916 \nQ 2900 3119 2900 3481 \nQ 2900 3844 2670 4047 \nQ 2441 4250 2034 4250 \nQ 1625 4250 1398 4047 \nQ 1172 3844 1172 3481 \nz\n\" id=\"DejaVuSans-38\" transform=\"scale(0.015625)\"/>\n       </defs>\n       <use xlink:href=\"#DejaVuSans-30\"/>\n       <use x=\"63.623047\" xlink:href=\"#DejaVuSans-2e\"/>\n       <use x=\"95.410156\" xlink:href=\"#DejaVuSans-38\"/>\n      </g>\n     </g>\n    </g>\n    <g id=\"ytick_3\">\n     <g id=\"text_10\">\n      <!-- 1.0 -->\n      <g style=\"fill:#262626;\" transform=\"translate(45.596875 204.971518)scale(0.1 -0.1)\">\n       <use xlink:href=\"#DejaVuSans-31\"/>\n       <use x=\"63.623047\" xlink:href=\"#DejaVuSans-2e\"/>\n       <use x=\"95.410156\" xlink:href=\"#DejaVuSans-30\"/>\n      </g>\n     </g>\n    </g>\n    <g id=\"ytick_4\">\n     <g id=\"text_11\">\n      <!-- 1.2 -->\n      <g style=\"fill:#262626;\" transform=\"translate(45.596875 155.993954)scale(0.1 -0.1)\">\n       <defs>\n        <path d=\"M 1228 531 \nL 3431 531 \nL 3431 0 \nL 469 0 \nL 469 531 \nQ 828 903 1448 1529 \nQ 2069 2156 2228 2338 \nQ 2531 2678 2651 2914 \nQ 2772 3150 2772 3378 \nQ 2772 3750 2511 3984 \nQ 2250 4219 1831 4219 \nQ 1534 4219 1204 4116 \nQ 875 4013 500 3803 \nL 500 4441 \nQ 881 4594 1212 4672 \nQ 1544 4750 1819 4750 \nQ 2544 4750 2975 4387 \nQ 3406 4025 3406 3419 \nQ 3406 3131 3298 2873 \nQ 3191 2616 2906 2266 \nQ 2828 2175 2409 1742 \nQ 1991 1309 1228 531 \nz\n\" id=\"DejaVuSans-32\" transform=\"scale(0.015625)\"/>\n       </defs>\n       <use xlink:href=\"#DejaVuSans-31\"/>\n       <use x=\"63.623047\" xlink:href=\"#DejaVuSans-2e\"/>\n       <use x=\"95.410156\" xlink:href=\"#DejaVuSans-32\"/>\n      </g>\n     </g>\n    </g>\n    <g id=\"ytick_5\">\n     <g id=\"text_12\">\n      <!-- 1.4 -->\n      <g style=\"fill:#262626;\" transform=\"translate(45.596875 107.01639)scale(0.1 -0.1)\">\n       <defs>\n        <path d=\"M 2419 4116 \nL 825 1625 \nL 2419 1625 \nL 2419 4116 \nz\nM 2253 4666 \nL 3047 4666 \nL 3047 1625 \nL 3713 1625 \nL 3713 1100 \nL 3047 1100 \nL 3047 0 \nL 2419 0 \nL 2419 1100 \nL 313 1100 \nL 313 1709 \nL 2253 4666 \nz\n\" id=\"DejaVuSans-34\" transform=\"scale(0.015625)\"/>\n       </defs>\n       <use xlink:href=\"#DejaVuSans-31\"/>\n       <use x=\"63.623047\" xlink:href=\"#DejaVuSans-2e\"/>\n       <use x=\"95.410156\" xlink:href=\"#DejaVuSans-34\"/>\n      </g>\n     </g>\n    </g>\n    <g id=\"ytick_6\">\n     <g id=\"text_13\">\n      <!-- 1.6 -->\n      <g style=\"fill:#262626;\" transform=\"translate(45.596875 58.038826)scale(0.1 -0.1)\">\n       <use xlink:href=\"#DejaVuSans-31\"/>\n       <use x=\"63.623047\" xlink:href=\"#DejaVuSans-2e\"/>\n       <use x=\"95.410156\" xlink:href=\"#DejaVuSans-36\"/>\n      </g>\n     </g>\n    </g>\n    <g id=\"text_14\">\n     <!-- 2 -->\n     <g style=\"fill:#262626;\" transform=\"translate(39.309219 200.509375)rotate(-90)scale(0.11 -0.11)\">\n      <use xlink:href=\"#DejaVuSans-32\"/>\n     </g>\n    </g>\n   </g>\n   <g id=\"PathCollection_1\">\n    <defs>\n     <path d=\"M 0 3.5 \nC 0.928211 3.5 1.81853 3.131218 2.474874 2.474874 \nC 3.131218 1.81853 3.5 0.928211 3.5 0 \nC 3.5 -0.928211 3.131218 -1.81853 2.474874 -2.474874 \nC 1.81853 -3.131218 0.928211 -3.5 0 -3.5 \nC -0.928211 -3.5 -1.81853 -3.131218 -2.474874 -2.474874 \nC -3.131218 -1.81853 -3.5 -0.928211 -3.5 0 \nC -3.5 0.928211 -3.131218 1.81853 -2.474874 2.474874 \nC -1.81853 3.131218 -0.928211 3.5 0 3.5 \nz\n\" id=\"m7670da721c\" style=\"stroke:#337ab7;stroke-width:0.3;\"/>\n    </defs>\n    <g clip-path=\"url(#p4cd01dc3c1)\">\n     <use style=\"fill:#337ab7;stroke:#337ab7;stroke-width:0.3;\" x=\"210.073107\" xlink:href=\"#m7670da721c\" y=\"137.417402\"/>\n     <use style=\"fill:#337ab7;stroke:#337ab7;stroke-width:0.3;\" x=\"92.290909\" xlink:href=\"#m7670da721c\" y=\"61.11\"/>\n     <use style=\"fill:#337ab7;stroke:#337ab7;stroke-width:0.3;\" x=\"242.081406\" xlink:href=\"#m7670da721c\" y=\"332.91\"/>\n     <use style=\"fill:#337ab7;stroke:#337ab7;stroke-width:0.3;\" x=\"386.745895\" xlink:href=\"#m7670da721c\" y=\"251.220828\"/>\n     <use style=\"fill:#337ab7;stroke:#337ab7;stroke-width:0.3;\" x=\"498.109091\" xlink:href=\"#m7670da721c\" y=\"62.322867\"/>\n     <use style=\"fill:#337ab7;stroke:#337ab7;stroke-width:0.3;\" x=\"311.195144\" xlink:href=\"#m7670da721c\" y=\"320.487743\"/>\n    </g>\n   </g>\n   <g id=\"patch_3\">\n    <path d=\"M 72 346.5 \nL 72 47.52 \n\" style=\"fill:none;\"/>\n   </g>\n   <g id=\"patch_4\">\n    <path d=\"M 518.4 346.5 \nL 518.4 47.52 \n\" style=\"fill:none;\"/>\n   </g>\n   <g id=\"patch_5\">\n    <path d=\"M 72 346.5 \nL 518.4 346.5 \n\" style=\"fill:none;\"/>\n   </g>\n   <g id=\"patch_6\">\n    <path d=\"M 72 47.52 \nL 518.4 47.52 \n\" style=\"fill:none;\"/>\n   </g>\n  </g>\n </g>\n <defs>\n  <clipPath id=\"p4cd01dc3c1\">\n   <rect height=\"298.98\" width=\"446.4\" x=\"72\" y=\"47.52\"/>\n  </clipPath>\n </defs>\n</svg>\n"
      }
     },
     "575d12befd6e453481a116d17b81c328": {
      "model_module": "@jupyter-widgets/controls",
      "model_module_version": "1.5.0",
      "model_name": "DescriptionStyleModel",
      "state": {
       "description_width": ""
      }
     },
     "57cc393ed8ad424e8d3df968b2c1eba9": {
      "model_module": "@jupyter-widgets/controls",
      "model_module_version": "1.5.0",
      "model_name": "HTMLModel",
      "state": {
       "layout": "IPY_MODEL_3947a2674aff477b97fb6e5e5c901a2e",
       "style": "IPY_MODEL_8b4c946d38254cc988aaa77c2c14c227",
       "value": "2.62736325"
      }
     },
     "584731a099e347279043cd5840b10038": {
      "model_module": "@jupyter-widgets/controls",
      "model_module_version": "1.5.0",
      "model_name": "HTMLModel",
      "state": {
       "layout": "IPY_MODEL_ce3f985846cd45558db666df06cf6172",
       "style": "IPY_MODEL_2ae26ad489e149009f4c659a58606fb6",
       "value": "-1.237434514"
      }
     },
     "58505cd384f54ebbb94398600bf286ef": {
      "model_module": "@jupyter-widgets/controls",
      "model_module_version": "1.5.0",
      "model_name": "HTMLModel",
      "state": {
       "layout": "IPY_MODEL_5fa0cf16482046538446c988e1f49d8a",
       "style": "IPY_MODEL_bdb8d4ebed4c4e45b6c54bf7cd82c9aa",
       "value": "95-th percentile"
      }
     },
     "5875bc934720442b8dcf9248d3f936b6": {
      "model_module": "@jupyter-widgets/controls",
      "model_module_version": "1.5.0",
      "model_name": "LabelModel",
      "state": {
       "layout": "IPY_MODEL_0b6e3453f1e945af8f7cc2fcb1e9ccba",
       "style": "IPY_MODEL_4fa9100f32fb4cf785fd76685bd87bb0",
       "value": "-0.3453122060237242"
      }
     },
     "589efdaf65d94b66a6f919e6c5158128": {
      "model_module": "@jupyter-widgets/controls",
      "model_module_version": "1.5.0",
      "model_name": "LabelModel",
      "state": {
       "layout": "IPY_MODEL_9f700dc6bec84aeb8c4b4543bbfa10b4",
       "style": "IPY_MODEL_2b71f820bce642e9aedc6f0a3e7e59e3",
       "value": "1.260343272538416"
      }
     },
     "58ae48a9899b452697dbb46a96c05d66": {
      "model_module": "@jupyter-widgets/controls",
      "model_module_version": "1.5.0",
      "model_name": "HTMLModel",
      "state": {
       "layout": "IPY_MODEL_de0565870f874d91a3c140d0eead56f9",
       "style": "IPY_MODEL_3e064294b06a4170bd970725e2fe8297",
       "value": "6"
      }
     },
     "58b2812c51a04040b683466cc9ae88cd": {
      "model_module": "@jupyter-widgets/controls",
      "model_module_version": "1.5.0",
      "model_name": "DescriptionStyleModel",
      "state": {
       "description_width": ""
      }
     },
     "58bf3de91803480f9354bc069da24a31": {
      "model_module": "@jupyter-widgets/controls",
      "model_module_version": "1.5.0",
      "model_name": "HTMLModel",
      "state": {
       "layout": "IPY_MODEL_725182909fa34065a60583ba4ee84dd4",
       "style": "IPY_MODEL_530765cd71e944b985b74ba16a8c68ef",
       "value": "Minimum"
      }
     },
     "58da3a038f234cb88b55c3727ae19b6d": {
      "model_module": "@jupyter-widgets/controls",
      "model_module_version": "1.5.0",
      "model_name": "DescriptionStyleModel",
      "state": {
       "description_width": ""
      }
     },
     "58dfad78404b4c7a9d9afd68c3b11593": {
      "model_module": "@jupyter-widgets/controls",
      "model_module_version": "1.5.0",
      "model_name": "DescriptionStyleModel",
      "state": {
       "description_width": ""
      }
     },
     "58ee3737f46b4fd7ab0996c4b7adbfcb": {
      "model_module": "@jupyter-widgets/base",
      "model_module_version": "1.2.0",
      "model_name": "LayoutModel",
      "state": {
       "align_items": "flex-end",
       "display": "flex",
       "flex_flow": "column",
       "width": "100%"
      }
     },
     "58f997855ac34b5f833043e9f7c75f1e": {
      "model_module": "@jupyter-widgets/controls",
      "model_module_version": "1.5.0",
      "model_name": "LabelModel",
      "state": {
       "layout": "IPY_MODEL_d4ba95c4f79a4a44977082b604fe6487",
       "style": "IPY_MODEL_8d88feeba0b24730bd3ca5067720dc0e",
       "value": "1"
      }
     },
     "59c69179c070494780623331400a120f": {
      "model_module": "@jupyter-widgets/controls",
      "model_module_version": "1.5.0",
      "model_name": "DescriptionStyleModel",
      "state": {
       "description_width": ""
      }
     },
     "59f58edcd6464b2caf9573e6e1af592f": {
      "model_module": "@jupyter-widgets/controls",
      "model_module_version": "1.5.0",
      "model_name": "HTMLModel",
      "state": {
       "layout": "IPY_MODEL_4674fe10534a4f7ab7184e61fb3080de",
       "style": "IPY_MODEL_bcc1c7032017465bbf0c284b0af5969c",
       "value": "Memory size"
      }
     },
     "5a13f7a8e55b4dc2bfa91091a3647902": {
      "model_module": "@jupyter-widgets/controls",
      "model_module_version": "1.5.0",
      "model_name": "FloatProgressModel",
      "state": {
       "layout": "IPY_MODEL_0b3843e5da7d4f6da4e9c45f95cb2ba0",
       "max": 7,
       "style": "IPY_MODEL_9ad0148fb7bc43519f5ba8e78723f21a",
       "value": 1
      }
     },
     "5a4d91ffbaf6488899069177e8ec19ed": {
      "model_module": "@jupyter-widgets/base",
      "model_module_version": "1.2.0",
      "model_name": "LayoutModel",
      "state": {
       "grid_area": "widget009"
      }
     },
     "5a62790870984de0b27e4345769f9c0f": {
      "model_module": "@jupyter-widgets/base",
      "model_module_version": "1.2.0",
      "model_name": "LayoutModel",
      "state": {
       "grid_area": "widget002"
      }
     },
     "5a671f128642474590b59b76f781265b": {
      "model_module": "@jupyter-widgets/base",
      "model_module_version": "1.2.0",
      "model_name": "LayoutModel",
      "state": {
       "grid_area": "widget010"
      }
     },
     "5b24a34beae242e4a9418b911b10e83d": {
      "model_module": "@jupyter-widgets/base",
      "model_module_version": "1.2.0",
      "model_name": "LayoutModel",
      "state": {
       "grid_area": "widget004"
      }
     },
     "5b2bf0e277e047c2ac0cc5b6c2fd1190": {
      "model_module": "@jupyter-widgets/controls",
      "model_module_version": "1.5.0",
      "model_name": "HTMLModel",
      "state": {
       "layout": "IPY_MODEL_c6080a4bae8a42c8a43f4de58c8ffc6f",
       "style": "IPY_MODEL_01fe903afd004ba786f1099d7c69d5f3",
       "value": "Zeros"
      }
     },
     "5b355d9dd4724a89b0acb1f5be029900": {
      "model_module": "@jupyter-widgets/base",
      "model_module_version": "1.2.0",
      "model_name": "LayoutModel",
      "state": {
       "grid_area": "widget009"
      }
     },
     "5b6c22a68d9f4f96b0fba90fe4b22b68": {
      "model_module": "@jupyter-widgets/controls",
      "model_module_version": "1.5.0",
      "model_name": "HTMLModel",
      "state": {
       "layout": "IPY_MODEL_8ce56696a8204faa905b4026d561a9a3",
       "style": "IPY_MODEL_aa40254ac8d44b2099b81ac6863fa0cd",
       "value": "<a class=\"anchor\" href=\"#pp_var_6827126652454450942\"><code>2</code></a> has 1 (14.3%) missing values"
      }
     },
     "5b6fb7b0669b4048a6979a7c5e1df0f8": {
      "model_module": "@jupyter-widgets/base",
      "model_module_version": "1.2.0",
      "model_name": "LayoutModel",
      "state": {
       "grid_area": "widget001"
      }
     },
     "5b7296bc83bc4b31943c165cc1d4ebcc": {
      "model_module": "@jupyter-widgets/base",
      "model_module_version": "1.2.0",
      "model_name": "LayoutModel",
      "state": {
       "grid_area": "widget014"
      }
     },
     "5b80ea03403f478ca29886e9d51de222": {
      "model_module": "@jupyter-widgets/base",
      "model_module_version": "1.2.0",
      "model_name": "LayoutModel",
      "state": {
       "grid_area": "widget005"
      }
     },
     "5b8c45cfc35a4111b0acaf674a656667": {
      "model_module": "@jupyter-widgets/base",
      "model_module_version": "1.2.0",
      "model_name": "LayoutModel",
      "state": {
       "grid_area": "widget007"
      }
     },
     "5bcdaab34c504b69b725be8efdebe71c": {
      "model_module": "@jupyter-widgets/controls",
      "model_module_version": "1.5.0",
      "model_name": "DescriptionStyleModel",
      "state": {
       "description_width": ""
      }
     },
     "5c05f726c46640afb6fbeba23f0d0060": {
      "model_module": "@jupyter-widgets/base",
      "model_module_version": "1.2.0",
      "model_name": "LayoutModel",
      "state": {
       "grid_area": "widget006"
      }
     },
     "5c278cd8565d45b19b0feb18aa5f013a": {
      "model_module": "@jupyter-widgets/base",
      "model_module_version": "1.2.0",
      "model_name": "LayoutModel",
      "state": {
       "grid_area": "widget003"
      }
     },
     "5c68d42aad894e6ea9fd8359b92fce3e": {
      "model_module": "@jupyter-widgets/controls",
      "model_module_version": "1.5.0",
      "model_name": "GridBoxModel",
      "state": {
       "children": [
        "IPY_MODEL_21548b0ff5f44c9cb8678401da9d6e7f",
        "IPY_MODEL_ef3f4142550e445481da395ca2e55fd6",
        "IPY_MODEL_b7cb85ae504a48ef8fb9957aa13cd3e1",
        "IPY_MODEL_86ebdd527713429fb4c1a3027252aeb8",
        "IPY_MODEL_c0dbf1f27d1246ce9407b2661fa67e0b",
        "IPY_MODEL_cd4b0f8981e245c58b43749ea030f766",
        "IPY_MODEL_3b6f377569494d4da9ce0d96ef82755f",
        "IPY_MODEL_ba4753cd8ce049e19e72f955e6be3da5",
        "IPY_MODEL_61c29ed07af54c2fbd8144afad4d5e05",
        "IPY_MODEL_61d639d0c20c45fcaa23d2a9b0e9c74e",
        "IPY_MODEL_ec3614952a424fefa04d6f50ddc3729b",
        "IPY_MODEL_d8d6cefb92354eb787966a023f13fd22",
        "IPY_MODEL_e836dbd0170a42b097dafd349efc7ed7",
        "IPY_MODEL_924f7a51fad24637a1fe0d4f81f3d4dc",
        "IPY_MODEL_7c1aac3add1f4e18a70aafb87dd339bd",
        "IPY_MODEL_35607ca698cb46d9869aa459a8debc25",
        "IPY_MODEL_8cdc2d77eace4bab9db17e3739b108d9",
        "IPY_MODEL_3d92fc54433e43b895d56d1bd99232ec",
        "IPY_MODEL_771b454bbdea44aeb72d881989b3c55d",
        "IPY_MODEL_b3491cddc1a340a290c60e78b7c967ee",
        "IPY_MODEL_961f40a3f9b1496593ee8577476e4b60"
       ],
       "layout": "IPY_MODEL_914c1a548c2748da8af6be8805dc6896"
      }
     },
     "5c9d537f095849b6b07a8bad354db08c": {
      "model_module": "@jupyter-widgets/base",
      "model_module_version": "1.2.0",
      "model_name": "LayoutModel",
      "state": {
       "grid_area": "widget003"
      }
     },
     "5ca28f7d271d4f0e879871116022b609": {
      "model_module": "@jupyter-widgets/controls",
      "model_module_version": "1.5.0",
      "model_name": "HTMLModel",
      "state": {
       "layout": "IPY_MODEL_416d62ba85004b7c80b7ad61e400b30b",
       "style": "IPY_MODEL_d22ec3a1000f4551a00cad857bc20bc8",
       "value": "95-th percentile"
      }
     },
     "5cbef6e9324746259643509539e9628f": {
      "model_module": "@jupyter-widgets/base",
      "model_module_version": "1.2.0",
      "model_name": "LayoutModel",
      "state": {
       "grid_area": "widget002"
      }
     },
     "5cc4244134ac445daa308b81c24127ae": {
      "model_module": "@jupyter-widgets/base",
      "model_module_version": "1.2.0",
      "model_name": "LayoutModel",
      "state": {}
     },
     "5cc667f079304863b7281ea92f2339e3": {
      "model_module": "@jupyter-widgets/base",
      "model_module_version": "1.2.0",
      "model_name": "LayoutModel",
      "state": {}
     },
     "5cc79a0ee6ea4cdd85a2ca4832d510ba": {
      "model_module": "@jupyter-widgets/controls",
      "model_module_version": "1.5.0",
      "model_name": "DescriptionStyleModel",
      "state": {
       "description_width": ""
      }
     },
     "5ce0a5c09e44401bbf3bba069a26db97": {
      "model_module": "@jupyter-widgets/controls",
      "model_module_version": "1.5.0",
      "model_name": "HTMLModel",
      "state": {
       "layout": "IPY_MODEL_1df71f864fdb42a6a5118d832f3e1594",
       "style": "IPY_MODEL_3018655ad4c34c5786f422cf307780e1",
       "value": "Maximum"
      }
     },
     "5cf54a6ed5c04c2f800ce7844ad572b7": {
      "model_module": "@jupyter-widgets/base",
      "model_module_version": "1.2.0",
      "model_name": "LayoutModel",
      "state": {
       "grid_area": "widget012"
      }
     },
     "5cfdab20786a4980b7be58443a72e910": {
      "model_module": "@jupyter-widgets/base",
      "model_module_version": "1.2.0",
      "model_name": "LayoutModel",
      "state": {
       "grid_area": "widget005"
      }
     },
     "5d017abe54934e2dba8f6c89f2b94ea9": {
      "model_module": "@jupyter-widgets/controls",
      "model_module_version": "1.5.0",
      "model_name": "DescriptionStyleModel",
      "state": {
       "description_width": ""
      }
     },
     "5d7bb79640e7419596553c0a33567ad8": {
      "model_module": "@jupyter-widgets/controls",
      "model_module_version": "1.5.0",
      "model_name": "LabelModel",
      "state": {
       "layout": "IPY_MODEL_26c0e0c8e87f4946a3262590f86087e6",
       "style": "IPY_MODEL_ede83561cfe443328cf2bb099d64e617",
       "value": "1"
      }
     },
     "5d7e88ad89864189bcb2b0cc4754a7e9": {
      "model_module": "@jupyter-widgets/controls",
      "model_module_version": "1.5.0",
      "model_name": "HTMLModel",
      "state": {
       "layout": "IPY_MODEL_1dbb99a7aff846b88a1eff6584b6fcf6",
       "style": "IPY_MODEL_54743e00e45a45039180742a9618faa9",
       "value": "Monotonicity"
      }
     },
     "5d81d5c0ce3c4c4a87831584410792e2": {
      "model_module": "@jupyter-widgets/controls",
      "model_module_version": "1.5.0",
      "model_name": "ProgressStyleModel",
      "state": {
       "description_width": ""
      }
     },
     "5dc2665ead074c2ea767bf5f501e5f15": {
      "model_module": "@jupyter-widgets/controls",
      "model_module_version": "1.5.0",
      "model_name": "FloatProgressModel",
      "state": {
       "layout": "IPY_MODEL_17f310716eec4c1e910494bad9587b74",
       "max": 7,
       "style": "IPY_MODEL_5326968f4b6a426ab3bdb66ceb882fe8",
       "value": 1
      }
     },
     "5dca6d9cb44c438cba954f505cf0fc80": {
      "model_module": "@jupyter-widgets/controls",
      "model_module_version": "1.5.0",
      "model_name": "DescriptionStyleModel",
      "state": {
       "description_width": ""
      }
     },
     "5dd52e4070e64c3386c7d2cf8ae0a3b2": {
      "model_module": "@jupyter-widgets/controls",
      "model_module_version": "1.5.0",
      "model_name": "DescriptionStyleModel",
      "state": {
       "description_width": ""
      }
     },
     "5ea9f607e13f46ee9b2a4e836718c8a6": {
      "model_module": "@jupyter-widgets/controls",
      "model_module_version": "1.5.0",
      "model_name": "ProgressStyleModel",
      "state": {
       "description_width": ""
      }
     },
     "5ede4b599d1b4356a83ad09e69383741": {
      "model_module": "@jupyter-widgets/base",
      "model_module_version": "1.2.0",
      "model_name": "LayoutModel",
      "state": {}
     },
     "5efc87ee01de4511a3357baab948f7ba": {
      "model_module": "@jupyter-widgets/base",
      "model_module_version": "1.2.0",
      "model_name": "LayoutModel",
      "state": {}
     },
     "5f11991f399140c9948bd43fdd8c308d": {
      "model_module": "@jupyter-widgets/controls",
      "model_module_version": "1.5.0",
      "model_name": "DescriptionStyleModel",
      "state": {
       "description_width": ""
      }
     },
     "5f40d7d29d624b7caf7fd92aa740e7b4": {
      "model_module": "@jupyter-widgets/base",
      "model_module_version": "1.2.0",
      "model_name": "LayoutModel",
      "state": {
       "grid_area": "widget007"
      }
     },
     "5f8720f2117e42aa81cf9e13085a96b7": {
      "model_module": "@jupyter-widgets/controls",
      "model_module_version": "1.5.0",
      "model_name": "HTMLModel",
      "state": {
       "layout": "IPY_MODEL_1318cea1f262446d89064616260463c7",
       "style": "IPY_MODEL_f9cb7c95410242289a1fe7b9333b03dd",
       "value": "Zeros"
      }
     },
     "5fa0cf16482046538446c988e1f49d8a": {
      "model_module": "@jupyter-widgets/base",
      "model_module_version": "1.2.0",
      "model_name": "LayoutModel",
      "state": {
       "grid_area": "widget011"
      }
     },
     "5fae3c34930049de8f493ddb9c4459b8": {
      "model_module": "@jupyter-widgets/base",
      "model_module_version": "1.2.0",
      "model_name": "LayoutModel",
      "state": {}
     },
     "5fbfb26275334c9aaab8150e4f8c2674": {
      "model_module": "@jupyter-widgets/base",
      "model_module_version": "1.2.0",
      "model_name": "LayoutModel",
      "state": {
       "grid_area": "widget001"
      }
     },
     "5fc43174b3c0441a8a7f03de1e670957": {
      "model_module": "@jupyter-widgets/base",
      "model_module_version": "1.2.0",
      "model_name": "LayoutModel",
      "state": {
       "grid_area": "widget015"
      }
     },
     "5fda7c1cbb7b491080a1f38325e2271f": {
      "model_module": "@jupyter-widgets/base",
      "model_module_version": "1.2.0",
      "model_name": "LayoutModel",
      "state": {}
     },
     "60146de2aef448b894b2f3ac8f8adb7d": {
      "model_module": "@jupyter-widgets/base",
      "model_module_version": "1.2.0",
      "model_name": "LayoutModel",
      "state": {
       "grid_area": "widget007"
      }
     },
     "6019791a528a446592051752624adf76": {
      "model_module": "@jupyter-widgets/controls",
      "model_module_version": "1.5.0",
      "model_name": "DescriptionStyleModel",
      "state": {
       "description_width": ""
      }
     },
     "601fae2552ec419d88e9dde97f21f810": {
      "model_module": "@jupyter-widgets/controls",
      "model_module_version": "1.5.0",
      "model_name": "HTMLModel",
      "state": {
       "layout": "IPY_MODEL_8ef24a2548234be0b0775f9abf205956",
       "style": "IPY_MODEL_223250ec244e44abbb019b736260ff6b",
       "value": "Number of variables"
      }
     },
     "60308aac948c4102865bb46e5a0c1d1a": {
      "model_module": "@jupyter-widgets/base",
      "model_module_version": "1.2.0",
      "model_name": "LayoutModel",
      "state": {
       "grid_area": "widget018"
      }
     },
     "60450f9d51ef403d875d06aa1df6092c": {
      "model_module": "@jupyter-widgets/controls",
      "model_module_version": "1.5.0",
      "model_name": "HTMLModel",
      "state": {
       "layout": "IPY_MODEL_29c306851d0b4c04943c4febf265cefd",
       "style": "IPY_MODEL_00501fe4c41f48d4a2c7dcdd45f69288",
       "value": "Mean"
      }
     },
     "6051b3dce02347e181023961d5fa677d": {
      "model_module": "@jupyter-widgets/base",
      "model_module_version": "1.2.0",
      "model_name": "LayoutModel",
      "state": {}
     },
     "60e4d1ca7e73474f9c7608df9faa6c9b": {
      "model_module": "@jupyter-widgets/base",
      "model_module_version": "1.2.0",
      "model_name": "LayoutModel",
      "state": {
       "grid_area": "widget003"
      }
     },
     "60e5c176e57447cdb03aa8d3871bc457": {
      "model_module": "@jupyter-widgets/controls",
      "model_module_version": "1.5.0",
      "model_name": "DescriptionStyleModel",
      "state": {
       "description_width": ""
      }
     },
     "60fbbce29cdc4f73aee22f84ff00a926": {
      "model_module": "@jupyter-widgets/base",
      "model_module_version": "1.2.0",
      "model_name": "LayoutModel",
      "state": {
       "grid_area": "widget005"
      }
     },
     "611003ee10d640b7af69da17783e2b78": {
      "model_module": "@jupyter-widgets/controls",
      "model_module_version": "1.5.0",
      "model_name": "HTMLModel",
      "state": {
       "layout": "IPY_MODEL_c090c85e2a1d46d59af0bdbf43057bac",
       "style": "IPY_MODEL_a47e38b3a1ff4a6aa005e5259012b828",
       "value": "Infinite"
      }
     },
     "6130b7a460514e39af1953a0119c197d": {
      "model_module": "@jupyter-widgets/base",
      "model_module_version": "1.2.0",
      "model_name": "LayoutModel",
      "state": {
       "grid_template_columns": "",
       "width": "100%"
      }
     },
     "615e506958d349bfa2249b420dee2268": {
      "model_module": "@jupyter-widgets/controls",
      "model_module_version": "1.5.0",
      "model_name": "DescriptionStyleModel",
      "state": {
       "description_width": ""
      }
     },
     "61808880f0764576a513899869d53292": {
      "model_module": "@jupyter-widgets/controls",
      "model_module_version": "1.5.0",
      "model_name": "HTMLModel",
      "state": {
       "layout": "IPY_MODEL_8bacba0d52a546a8ad0704f127a89546",
       "style": "IPY_MODEL_d2dbf0d1e49c4920966475872ab1758f",
       "value": "42.9%"
      }
     },
     "618d31badee0417ba704927bc31aea0d": {
      "model_module": "@jupyter-widgets/base",
      "model_module_version": "1.2.0",
      "model_name": "LayoutModel",
      "state": {
       "grid_area": "widget005"
      }
     },
     "61c29ed07af54c2fbd8144afad4d5e05": {
      "model_module": "@jupyter-widgets/controls",
      "model_module_version": "1.5.0",
      "model_name": "LabelModel",
      "state": {
       "layout": "IPY_MODEL_2daf90521e9743b4bb4ef00d78495239",
       "style": "IPY_MODEL_1debe2bcdc5345b0b59a1122b0e86228",
       "value": "1"
      }
     },
     "61c412c7eaa648f78d5cb3634b047011": {
      "model_module": "@jupyter-widgets/controls",
      "model_module_version": "1.5.0",
      "model_name": "VBoxModel",
      "state": {
       "children": [
        "IPY_MODEL_e1167c7093474f57a330a94192cad2ce"
       ],
       "layout": "IPY_MODEL_e6448b6cd8a4495fbe44cdb937eccf89"
      }
     },
     "61d639d0c20c45fcaa23d2a9b0e9c74e": {
      "model_module": "@jupyter-widgets/controls",
      "model_module_version": "1.5.0",
      "model_name": "LabelModel",
      "state": {
       "layout": "IPY_MODEL_6883e05ee329429d872b747951ad90a6",
       "style": "IPY_MODEL_ccebb2a2cb4d4c8c82721e82a3e3734b",
       "value": "-1.0904188828735988"
      }
     },
     "623017d7b0dc450da0dadc29d48432a8": {
      "model_module": "@jupyter-widgets/controls",
      "model_module_version": "1.5.0",
      "model_name": "DescriptionStyleModel",
      "state": {
       "description_width": ""
      }
     },
     "62601a825d984454a46eff8f989a5657": {
      "model_module": "@jupyter-widgets/base",
      "model_module_version": "1.2.0",
      "model_name": "LayoutModel",
      "state": {}
     },
     "62cc565fae43477d903b4f72f9f4e107": {
      "model_module": "@jupyter-widgets/base",
      "model_module_version": "1.2.0",
      "model_name": "LayoutModel",
      "state": {
       "grid_template_areas": "\"widget001 widget002\"\n\"widget003 widget004\"",
       "grid_template_columns": "repeat(2, 1fr)",
       "grid_template_rows": "repeat(2, 1fr)"
      }
     },
     "62cef7dac11d43d0ba04c442955ae875": {
      "model_module": "@jupyter-widgets/base",
      "model_module_version": "1.2.0",
      "model_name": "LayoutModel",
      "state": {
       "grid_area": "widget014"
      }
     },
     "63436d55276e4931a82e95b708754afb": {
      "model_module": "@jupyter-widgets/base",
      "model_module_version": "1.2.0",
      "model_name": "LayoutModel",
      "state": {
       "grid_area": "widget016"
      }
     },
     "634afe931f614c908319d9052aeba6fc": {
      "model_module": "@jupyter-widgets/controls",
      "model_module_version": "1.5.0",
      "model_name": "VBoxModel",
      "state": {
       "children": [
        "IPY_MODEL_4eec72a2eaeb4ecc8d3902b5ae2b1da5"
       ],
       "layout": "IPY_MODEL_37d4912cf79b4e4ca8613cd9c31f8143"
      }
     },
     "63c63ad25adc441fa7195725e221e0ac": {
      "model_module": "@jupyter-widgets/base",
      "model_module_version": "1.2.0",
      "model_name": "LayoutModel",
      "state": {}
     },
     "63d41d81966a408b933a0524b9b91c4f": {
      "model_module": "@jupyter-widgets/controls",
      "model_module_version": "1.5.0",
      "model_name": "HTMLModel",
      "state": {
       "layout": "IPY_MODEL_5a4d91ffbaf6488899069177e8ec19ed",
       "style": "IPY_MODEL_e4b174e678084662bae06f1ce484b839",
       "value": "Duplicate rows"
      }
     },
     "63de53077aa84d31aba31d7e3942e713": {
      "model_module": "@jupyter-widgets/controls",
      "model_module_version": "1.5.0",
      "model_name": "DescriptionStyleModel",
      "state": {
       "description_width": ""
      }
     },
     "63e24d72b5a34631b7899b3514fa362f": {
      "model_module": "@jupyter-widgets/controls",
      "model_module_version": "1.5.0",
      "model_name": "DescriptionStyleModel",
      "state": {
       "description_width": ""
      }
     },
     "644e9678f5b14ba084cb767f4c88df6f": {
      "model_module": "@jupyter-widgets/base",
      "model_module_version": "1.2.0",
      "model_name": "LayoutModel",
      "state": {
       "grid_area": "widget003"
      }
     },
     "6459e3b557c24b4da27661f2b6bcd07e": {
      "model_module": "@jupyter-widgets/controls",
      "model_module_version": "1.5.0",
      "model_name": "DescriptionStyleModel",
      "state": {
       "description_width": ""
      }
     },
     "6479bf0280f24e4c8f47fc4089b462de": {
      "model_module": "@jupyter-widgets/controls",
      "model_module_version": "1.5.0",
      "model_name": "VBoxModel",
      "state": {
       "children": [
        "IPY_MODEL_657d8243d9bf455a8b6a7a1f404cdeb8"
       ],
       "layout": "IPY_MODEL_cb4add2ffa7e4057b2cd4de597d19233"
      }
     },
     "648ad0e3876f46ab84b5c1666bc3b860": {
      "model_module": "@jupyter-widgets/controls",
      "model_module_version": "1.5.0",
      "model_name": "ProgressStyleModel",
      "state": {
       "description_width": ""
      }
     },
     "648e8354e0654a7a95e31f4e954887c0": {
      "model_module": "@jupyter-widgets/base",
      "model_module_version": "1.2.0",
      "model_name": "LayoutModel",
      "state": {
       "grid_area": "widget003"
      }
     },
     "6497f2fd04bb4b3a82fa7866b359d7a5": {
      "model_module": "@jupyter-widgets/controls",
      "model_module_version": "1.5.0",
      "model_name": "DescriptionStyleModel",
      "state": {
       "description_width": ""
      }
     },
     "6505829cbb624108b407efc01970f1e3": {
      "model_module": "@jupyter-widgets/controls",
      "model_module_version": "1.5.0",
      "model_name": "DescriptionStyleModel",
      "state": {
       "description_width": ""
      }
     },
     "6515682913094208baf379805fce047d": {
      "model_module": "@jupyter-widgets/controls",
      "model_module_version": "1.5.0",
      "model_name": "HTMLModel",
      "state": {
       "layout": "IPY_MODEL_c887cd1e2ede4ee682244cafd4f0c18b",
       "style": "IPY_MODEL_a743736457ae4ae5ace14062c7e18f55",
       "value": "Not monotonic"
      }
     },
     "652198c648294ebcbc7865ea653532cf": {
      "model_module": "@jupyter-widgets/controls",
      "model_module_version": "1.5.0",
      "model_name": "HTMLModel",
      "state": {
       "layout": "IPY_MODEL_d497114170d44891a685d6cc552e907d",
       "style": "IPY_MODEL_2ace628ff73744408df29e5378eb47b2",
       "value": "Report generated by <a href=\"https://ydata.ai/?utm_source=opensource&utm_medium=pandasprofiling&utm_campaign=report\">YData</a>."
      }
     },
     "654860fe8697459ebb779ce11228b2a1": {
      "model_module": "@jupyter-widgets/base",
      "model_module_version": "1.2.0",
      "model_name": "LayoutModel",
      "state": {
       "grid_area": "widget006"
      }
     },
     "657d8243d9bf455a8b6a7a1f404cdeb8": {
      "model_module": "@jupyter-widgets/controls",
      "model_module_version": "1.5.0",
      "model_name": "GridBoxModel",
      "state": {
       "children": [
        "IPY_MODEL_f79f20264cd446148d3bbf8bb1f66b3e",
        "IPY_MODEL_eacbac56f86349aba42a9263d82543f3",
        "IPY_MODEL_052c6e30cf814c2199bb91c47060bbfd",
        "IPY_MODEL_4bbae17cfca746628a7f07924553068c"
       ],
       "layout": "IPY_MODEL_5208b7adc2ae47c2aed8f4098c2e53b0"
      }
     },
     "6587b637c2e54f2f894388548d7cdfc1": {
      "model_module": "@jupyter-widgets/controls",
      "model_module_version": "1.5.0",
      "model_name": "HTMLModel",
      "state": {
       "layout": "IPY_MODEL_25500bd48af84e3799e1fccf389b88b5",
       "style": "IPY_MODEL_d6a7ca16d874413988e961fcb39cf243",
       "value": "Analysis started"
      }
     },
     "6590a07a77e245bea6bf73cfaedff47c": {
      "model_module": "@jupyter-widgets/controls",
      "model_module_version": "1.5.0",
      "model_name": "DescriptionStyleModel",
      "state": {
       "description_width": ""
      }
     },
     "65b59378ab5c42ab8cf45a6edf3182cc": {
      "model_module": "@jupyter-widgets/base",
      "model_module_version": "1.2.0",
      "model_name": "LayoutModel",
      "state": {
       "grid_area": "widget009"
      }
     },
     "65c020326693446f985fad17ca2046fc": {
      "model_module": "@jupyter-widgets/base",
      "model_module_version": "1.2.0",
      "model_name": "LayoutModel",
      "state": {}
     },
     "65fd557c71f44e05a241dc65dfbfa736": {
      "model_module": "@jupyter-widgets/controls",
      "model_module_version": "1.5.0",
      "model_name": "FloatProgressModel",
      "state": {
       "layout": "IPY_MODEL_b02b8d7eed3e4373b2e01d0faac00a66",
       "max": 7,
       "style": "IPY_MODEL_31e9fb84aa8843ff8ef9760544cc2317",
       "value": 1
      }
     },
     "66052510f10c4011be1098f8ec53abbe": {
      "model_module": "@jupyter-widgets/controls",
      "model_module_version": "1.5.0",
      "model_name": "HTMLModel",
      "state": {
       "layout": "IPY_MODEL_030532021d864983bd17c3fd0e727574",
       "style": "IPY_MODEL_12ddfdcf496444fa93ef8d314200ed47",
       "value": "0"
      }
     },
     "660c5b34a09b464aaaba1263404b8d5d": {
      "model_module": "@jupyter-widgets/controls",
      "model_module_version": "1.5.0",
      "model_name": "DescriptionStyleModel",
      "state": {
       "description_width": ""
      }
     },
     "66360461ecb74b139afc41d93fa49d38": {
      "model_module": "@jupyter-widgets/controls",
      "model_module_version": "1.5.0",
      "model_name": "HTMLModel",
      "state": {
       "layout": "IPY_MODEL_564f74db53394c3490d855bcc5e6419b",
       "style": "IPY_MODEL_ebcdb34afa0140ce8411d6c740d4178e",
       "value": "<p style=\"color: #999\"><em>The correlation heatmap measures nullity correlation: how strongly the presence or absence of one variable affects the presence of another.</em></p>"
      }
     },
     "66c95f244c394280899886de838d3792": {
      "model_module": "@jupyter-widgets/base",
      "model_module_version": "1.2.0",
      "model_name": "LayoutModel",
      "state": {
       "grid_area": "widget002"
      }
     },
     "66dd127abf8f46be8a8fc207170cc6f0": {
      "model_module": "@jupyter-widgets/controls",
      "model_module_version": "1.5.0",
      "model_name": "DescriptionStyleModel",
      "state": {
       "description_width": ""
      }
     },
     "66e963c976794245a9f22b390771562d": {
      "model_module": "@jupyter-widgets/controls",
      "model_module_version": "1.5.0",
      "model_name": "GridBoxModel",
      "state": {
       "children": [
        "IPY_MODEL_7ccccd5b22bf427ca61d0e00afe76693",
        "IPY_MODEL_4c7159628b3e402fb4547ffaa1622464"
       ],
       "layout": "IPY_MODEL_6130b7a460514e39af1953a0119c197d"
      }
     },
     "67045bb8b92a46e386db65e337cd6946": {
      "model_module": "@jupyter-widgets/controls",
      "model_module_version": "1.5.0",
      "model_name": "LabelModel",
      "state": {
       "layout": "IPY_MODEL_185372e7a4b04a82ac460b8f89c47593",
       "style": "IPY_MODEL_d6d9d58ea88a46a69b24538c3023250b",
       "value": "0.7985093658305963"
      }
     },
     "673968bd658d4b4083d16d67168b868b": {
      "model_module": "@jupyter-widgets/controls",
      "model_module_version": "1.5.0",
      "model_name": "HTMLModel",
      "state": {
       "layout": "IPY_MODEL_905039aa428e40b79d0d7e05dd72195e",
       "style": "IPY_MODEL_dc1db9d0498643468229fad3b907dff2",
       "value": "Infinite (%)"
      }
     },
     "675586f0dad542eca0b245245cc4183b": {
      "model_module": "@jupyter-widgets/base",
      "model_module_version": "1.2.0",
      "model_name": "LayoutModel",
      "state": {
       "grid_area": "widget012"
      }
     },
     "676f687d6c0740f095a26bad54502828": {
      "model_module": "@jupyter-widgets/controls",
      "model_module_version": "1.5.0",
      "model_name": "FloatProgressModel",
      "state": {
       "layout": "IPY_MODEL_1b5d3252303548659de59f45c6569731",
       "max": 7,
       "style": "IPY_MODEL_fefe1fbfb02246659e2027215a8e764d",
       "value": 1
      }
     },
     "6783d2c919a3442bb3d93116e0f59a3a": {
      "model_module": "@jupyter-widgets/controls",
      "model_module_version": "1.5.0",
      "model_name": "DescriptionStyleModel",
      "state": {
       "description_width": ""
      }
     },
     "679c6d57422c44e5a50c98fcc84002e8": {
      "model_module": "@jupyter-widgets/controls",
      "model_module_version": "1.5.0",
      "model_name": "HTMLModel",
      "state": {
       "layout": "IPY_MODEL_2bfafa5f912248e3ba9876429e7c766f",
       "style": "IPY_MODEL_3d2db126586e4b1ca3505bf66b84564e",
       "value": "Coefficient of variation (CV)"
      }
     },
     "67d7d073caff43ceb8d62eb01467bb7d": {
      "model_module": "@jupyter-widgets/controls",
      "model_module_version": "1.5.0",
      "model_name": "DescriptionStyleModel",
      "state": {
       "description_width": ""
      }
     },
     "67dfac670eab44ba878d568f38b3cb5c": {
      "model_module": "@jupyter-widgets/controls",
      "model_module_version": "1.5.0",
      "model_name": "FloatProgressModel",
      "state": {
       "layout": "IPY_MODEL_c85a01d9e57046c9b51c8cbe991c0460",
       "max": 7,
       "style": "IPY_MODEL_30e10a8aff004eabbc69d8c505a5c3fc",
       "value": 1
      }
     },
     "67ee9671d7f54f7c9c1640d6273150b5": {
      "model_module": "@jupyter-widgets/base",
      "model_module_version": "1.2.0",
      "model_name": "LayoutModel",
      "state": {
       "grid_area": "widget005"
      }
     },
     "67fd938251074dbf9825efa45f851c46": {
      "model_module": "@jupyter-widgets/base",
      "model_module_version": "1.2.0",
      "model_name": "LayoutModel",
      "state": {
       "grid_area": "widget008"
      }
     },
     "6873323612774c058904ff5a0ee59000": {
      "model_module": "@jupyter-widgets/base",
      "model_module_version": "1.2.0",
      "model_name": "LayoutModel",
      "state": {
       "grid_area": "widget014"
      }
     },
     "6883390e98044eda91b5da183d31ec8d": {
      "model_module": "@jupyter-widgets/base",
      "model_module_version": "1.2.0",
      "model_name": "LayoutModel",
      "state": {}
     },
     "6883e05ee329429d872b747951ad90a6": {
      "model_module": "@jupyter-widgets/base",
      "model_module_version": "1.2.0",
      "model_name": "LayoutModel",
      "state": {
       "grid_area": "widget010"
      }
     },
     "689cc9dd888f4b70802060c0f21b9601": {
      "model_module": "@jupyter-widgets/controls",
      "model_module_version": "1.5.0",
      "model_name": "ProgressStyleModel",
      "state": {
       "description_width": ""
      }
     },
     "68a18f7cf3614446bb86f906b32da7ea": {
      "model_module": "@jupyter-widgets/base",
      "model_module_version": "1.2.0",
      "model_name": "LayoutModel",
      "state": {
       "align_items": "flex-end",
       "display": "flex",
       "flex_flow": "column",
       "width": "100%"
      }
     },
     "68a81261c8b34e48858f8c626aa6a1ae": {
      "model_module": "@jupyter-widgets/base",
      "model_module_version": "1.2.0",
      "model_name": "LayoutModel",
      "state": {
       "grid_area": "widget007"
      }
     },
     "68b7a2f832ee4a48b37f4564ff707da8": {
      "model_module": "@jupyter-widgets/base",
      "model_module_version": "1.2.0",
      "model_name": "LayoutModel",
      "state": {
       "grid_area": "widget014"
      }
     },
     "68e3c737a8e84350b8b4b4de8a48a42f": {
      "model_module": "@jupyter-widgets/controls",
      "model_module_version": "1.5.0",
      "model_name": "HTMLModel",
      "state": {
       "layout": "IPY_MODEL_65b59378ab5c42ab8cf45a6edf3182cc",
       "style": "IPY_MODEL_ba50c4c87b494e2b9b3c57f6dab94134",
       "value": "Infinite"
      }
     },
     "68ec923e5b28465f8ae5c0deaacd4ba7": {
      "model_module": "@jupyter-widgets/controls",
      "model_module_version": "1.5.0",
      "model_name": "DescriptionStyleModel",
      "state": {
       "description_width": ""
      }
     },
     "6914ea896e9d4342b533278de0613523": {
      "model_module": "@jupyter-widgets/base",
      "model_module_version": "1.2.0",
      "model_name": "LayoutModel",
      "state": {
       "grid_area": "widget011"
      }
     },
     "692959fbb2c64b86ad5fd6efc764bbf8": {
      "model_module": "@jupyter-widgets/controls",
      "model_module_version": "1.5.0",
      "model_name": "LabelModel",
      "state": {
       "layout": "IPY_MODEL_2cdbbcff70de4f12bd6461c319cac382",
       "style": "IPY_MODEL_129d9609b2434906831fac4ce16cfca5",
       "value": "1"
      }
     },
     "69791b94cd3b4efd980b08ad67f77f52": {
      "model_module": "@jupyter-widgets/controls",
      "model_module_version": "1.5.0",
      "model_name": "DescriptionStyleModel",
      "state": {
       "description_width": ""
      }
     },
     "6a5da827cc3445d2bf4a589c8af8dcba": {
      "model_module": "@jupyter-widgets/controls",
      "model_module_version": "1.5.0",
      "model_name": "HTMLModel",
      "state": {
       "layout": "IPY_MODEL_68b7a2f832ee4a48b37f4564ff707da8",
       "style": "IPY_MODEL_8992926742ba4993a0226d856f46bdba",
       "value": "0.4075945472"
      }
     },
     "6a628f876b044770ab264709fd540cce": {
      "model_module": "@jupyter-widgets/controls",
      "model_module_version": "1.5.0",
      "model_name": "DescriptionStyleModel",
      "state": {
       "description_width": ""
      }
     },
     "6a7713395e9845e38c29bca2735d334e": {
      "model_module": "@jupyter-widgets/controls",
      "model_module_version": "1.5.0",
      "model_name": "LabelModel",
      "state": {
       "layout": "IPY_MODEL_5f40d7d29d624b7caf7fd92aa740e7b4",
       "style": "IPY_MODEL_0054d5d5636f44c5a5413520ee534725",
       "value": "-0.13808287868031902"
      }
     },
     "6a8ab8d8b3144cbab63fe1071f83ea98": {
      "model_module": "@jupyter-widgets/controls",
      "model_module_version": "1.5.0",
      "model_name": "ProgressStyleModel",
      "state": {
       "description_width": ""
      }
     },
     "6aa06f86513947d38d3452fe61f11e0b": {
      "model_module": "@jupyter-widgets/controls",
      "model_module_version": "1.5.0",
      "model_name": "FloatProgressModel",
      "state": {
       "layout": "IPY_MODEL_1ec9f5d00199450e85c303b156c317f6",
       "max": 7,
       "style": "IPY_MODEL_8b9b404b34d244c7abec07ba2cb110ac",
       "value": 1
      }
     },
     "6ac0e2c29a5848558e36b2c73e2691fc": {
      "model_module": "@jupyter-widgets/controls",
      "model_module_version": "1.5.0",
      "model_name": "DescriptionStyleModel",
      "state": {
       "description_width": ""
      }
     },
     "6aefd13cb574463c98eb415d45ec3157": {
      "model_module": "@jupyter-widgets/base",
      "model_module_version": "1.2.0",
      "model_name": "LayoutModel",
      "state": {}
     },
     "6af9b79de17d47d8b043fc97e10f64ea": {
      "model_module": "@jupyter-widgets/controls",
      "model_module_version": "1.5.0",
      "model_name": "HTMLModel",
      "state": {
       "layout": "IPY_MODEL_5b80ea03403f478ca29886e9d51de222",
       "style": "IPY_MODEL_c2512a77e2b04ebda89cad07d848fca5",
       "value": "Duration"
      }
     },
     "6b189cd8382b43af840e0dcd451c97b9": {
      "model_module": "@jupyter-widgets/base",
      "model_module_version": "1.2.0",
      "model_name": "LayoutModel",
      "state": {
       "grid_area": "widget014"
      }
     },
     "6b728c5ba4a2487fa26849f7b54fe650": {
      "model_module": "@jupyter-widgets/controls",
      "model_module_version": "1.5.0",
      "model_name": "DescriptionStyleModel",
      "state": {
       "description_width": ""
      }
     },
     "6b8e6c0da1f3483d8c6fb4382757fda2": {
      "model_module": "@jupyter-widgets/base",
      "model_module_version": "1.2.0",
      "model_name": "LayoutModel",
      "state": {
       "display": "none"
      }
     },
     "6b91a654f58f4e14819d93cd4a4336b4": {
      "model_module": "@jupyter-widgets/controls",
      "model_module_version": "1.5.0",
      "model_name": "DescriptionStyleModel",
      "state": {
       "description_width": ""
      }
     },
     "6bd552eb97444330a141a6289e0fd1ee": {
      "model_module": "@jupyter-widgets/base",
      "model_module_version": "1.2.0",
      "model_name": "LayoutModel",
      "state": {
       "grid_area": "widget020"
      }
     },
     "6be2eb7a7ddc423fa9621bc2805df13c": {
      "model_module": "@jupyter-widgets/controls",
      "model_module_version": "1.5.0",
      "model_name": "ProgressStyleModel",
      "state": {
       "description_width": ""
      }
     },
     "6c09fac7efc64842aa8566f3382010f1": {
      "model_module": "@jupyter-widgets/controls",
      "model_module_version": "1.5.0",
      "model_name": "VBoxModel",
      "state": {
       "children": [
        "IPY_MODEL_a6c9e75a924c4934b9f531d306de8d58",
        "IPY_MODEL_ff1e8ec1eaf84bdbb06ac1a912ade761"
       ],
       "layout": "IPY_MODEL_2cc55d6c4c14472bb4ad5611b3941c8e"
      }
     },
     "6c0c31f134a443de96e42fa42d053e58": {
      "model_module": "@jupyter-widgets/base",
      "model_module_version": "1.2.0",
      "model_name": "LayoutModel",
      "state": {
       "grid_area": "widget006"
      }
     },
     "6c20f6d0d9304a15aed6c3b45ab29bf6": {
      "model_module": "@jupyter-widgets/controls",
      "model_module_version": "1.5.0",
      "model_name": "LabelModel",
      "state": {
       "layout": "IPY_MODEL_413bbe2420ac4442a7109e5ed66df904",
       "style": "IPY_MODEL_47b8fd8148f0420aa116cbb74f7dc5ac",
       "value": "1"
      }
     },
     "6c3ea9ed3d6d46b08b8e24e1a6600cac": {
      "model_module": "@jupyter-widgets/controls",
      "model_module_version": "1.5.0",
      "model_name": "HTMLModel",
      "state": {
       "layout": "IPY_MODEL_675586f0dad542eca0b245245cc4183b",
       "style": "IPY_MODEL_89b9fc6ec3fe40a086ab5add0cd1eba4",
       "value": "0.0244649113"
      }
     },
     "6c3ebfa7942e4bca97de44ea86d0882c": {
      "model_module": "@jupyter-widgets/controls",
      "model_module_version": "1.5.0",
      "model_name": "HTMLModel",
      "state": {
       "layout": "IPY_MODEL_1dbbe11975824d6983369c2479166bf0",
       "style": "IPY_MODEL_95f6804a1a514febae1eabb67808c23e",
       "value": "<a href=\"https://github.com/pandas-profiling/pandas-profiling\">pandas-profiling v3.3.0</a>"
      }
     },
     "6c581857500541deb8d43832ef8bd52d": {
      "model_module": "@jupyter-widgets/controls",
      "model_module_version": "1.5.0",
      "model_name": "ProgressStyleModel",
      "state": {
       "description_width": ""
      }
     },
     "6c589d06ea92473c8b42b7387011e029": {
      "model_module": "@jupyter-widgets/controls",
      "model_module_version": "1.5.0",
      "model_name": "DescriptionStyleModel",
      "state": {
       "description_width": ""
      }
     },
     "6c94d273030a49e68306558cafd36005": {
      "model_module": "@jupyter-widgets/controls",
      "model_module_version": "1.5.0",
      "model_name": "DescriptionStyleModel",
      "state": {
       "description_width": ""
      }
     },
     "6c9bee2443c240e09387067e1608766f": {
      "model_module": "@jupyter-widgets/base",
      "model_module_version": "1.2.0",
      "model_name": "LayoutModel",
      "state": {
       "grid_area": "widget011"
      }
     },
     "6cada20712cd413b8ab546cbc83d23fb": {
      "model_module": "@jupyter-widgets/controls",
      "model_module_version": "1.5.0",
      "model_name": "DescriptionStyleModel",
      "state": {
       "description_width": ""
      }
     },
     "6cd884a02cea49a7b884d8cc2ce1fba5": {
      "model_module": "@jupyter-widgets/controls",
      "model_module_version": "1.5.0",
      "model_name": "LabelModel",
      "state": {
       "layout": "IPY_MODEL_1babeee859f24e67bf96761dbbbd1189",
       "style": "IPY_MODEL_54461084c3744fa4ab6bb2e3c240edab",
       "value": "0.7956267126438664"
      }
     },
     "6d0ccc5a564842e3a78290c9fdb27025": {
      "model_module": "@jupyter-widgets/controls",
      "model_module_version": "1.5.0",
      "model_name": "DescriptionStyleModel",
      "state": {
       "description_width": ""
      }
     },
     "6d0ee2cbb02643c686cad19f5971cbc0": {
      "model_module": "@jupyter-widgets/controls",
      "model_module_version": "1.5.0",
      "model_name": "DescriptionStyleModel",
      "state": {
       "description_width": ""
      }
     },
     "6d21dcfdb94e4e24bf48fe32786bd39e": {
      "model_module": "@jupyter-widgets/base",
      "model_module_version": "1.2.0",
      "model_name": "LayoutModel",
      "state": {
       "grid_area": "widget004"
      }
     },
     "6d8a49d4d0d1409685cd41c51581b2f7": {
      "model_module": "@jupyter-widgets/controls",
      "model_module_version": "1.5.0",
      "model_name": "FloatProgressModel",
      "state": {
       "layout": "IPY_MODEL_d757d30223be471fabc531dc80bee750",
       "max": 7,
       "style": "IPY_MODEL_40bce4adaea84f62a81838d7e84d49d9",
       "value": 1
      }
     },
     "6e39469ef2d24186bcb8f9a6380af7ad": {
      "model_module": "@jupyter-widgets/controls",
      "model_module_version": "1.5.0",
      "model_name": "DescriptionStyleModel",
      "state": {
       "description_width": ""
      }
     },
     "6e66727bc409456698a540ea2d76d0af": {
      "model_module": "@jupyter-widgets/controls",
      "model_module_version": "1.5.0",
      "model_name": "DescriptionStyleModel",
      "state": {
       "description_width": ""
      }
     },
     "6e6cba5b72de4bda90ba080b67b52b5f": {
      "model_module": "@jupyter-widgets/base",
      "model_module_version": "1.2.0",
      "model_name": "LayoutModel",
      "state": {
       "grid_area": "widget013"
      }
     },
     "6e7b801df0e0441db24f48d83f6f5aa5": {
      "model_module": "@jupyter-widgets/base",
      "model_module_version": "1.2.0",
      "model_name": "LayoutModel",
      "state": {
       "grid_area": "widget001"
      }
     },
     "6ec81b3d22e04358916eadd18b1f707d": {
      "model_module": "@jupyter-widgets/controls",
      "model_module_version": "1.5.0",
      "model_name": "DescriptionStyleModel",
      "state": {
       "description_width": ""
      }
     },
     "6f16f6b791984ef6a78c5cd522e43485": {
      "model_module": "@jupyter-widgets/base",
      "model_module_version": "1.2.0",
      "model_name": "LayoutModel",
      "state": {
       "grid_area": "widget010"
      }
     },
     "6f1770f7f3e44e08a24092d3bf276fb3": {
      "model_module": "@jupyter-widgets/controls",
      "model_module_version": "1.5.0",
      "model_name": "DescriptionStyleModel",
      "state": {
       "description_width": ""
      }
     },
     "6f62be8b97b34e59b005fea21f452f31": {
      "model_module": "@jupyter-widgets/base",
      "model_module_version": "1.2.0",
      "model_name": "LayoutModel",
      "state": {
       "grid_area": "widget004"
      }
     },
     "6f8f77fff65d47409f016dc503fe9f3c": {
      "model_module": "@jupyter-widgets/base",
      "model_module_version": "1.2.0",
      "model_name": "LayoutModel",
      "state": {
       "grid_area": "widget011"
      }
     },
     "7042b64b78fd4ee1a447048f65e1a497": {
      "model_module": "@jupyter-widgets/controls",
      "model_module_version": "1.5.0",
      "model_name": "LabelModel",
      "state": {
       "layout": "IPY_MODEL_71c931a7449f499192ce0542cb127a3e",
       "style": "IPY_MODEL_8e22ee333bf245778b17b1ac752d3569",
       "value": "0.46204878108990594"
      }
     },
     "7057f589694c482c9c52a7374b56f362": {
      "model_module": "@jupyter-widgets/controls",
      "model_module_version": "1.5.0",
      "model_name": "HTMLModel",
      "state": {
       "layout": "IPY_MODEL_f3309480137f4558936a1e432b221b5a",
       "style": "IPY_MODEL_06ddbd19e2584a20926143d65ef23b68",
       "value": "1.422581196"
      }
     },
     "708cb0982c5f4514b79cb953b1f31c73": {
      "model_module": "@jupyter-widgets/controls",
      "model_module_version": "1.5.0",
      "model_name": "GridBoxModel",
      "state": {
       "children": [
        "IPY_MODEL_c2364e604e24409c81f5ff5a36b47007",
        "IPY_MODEL_adb821dfcf6a4cbf989c5b76a32e0a57",
        "IPY_MODEL_679c6d57422c44e5a50c98fcc84002e8",
        "IPY_MODEL_d7dde6cd2ec44252b5a7375109e0f80a",
        "IPY_MODEL_d0453034f9a84f72bb5e442ae83481af",
        "IPY_MODEL_7bc7d0af606f49fe809eee3bc96af42a",
        "IPY_MODEL_d3fdceb2a6bb418da241b99bd9fec9ca",
        "IPY_MODEL_22f1c851fbf24dc8bbc9f659a84cd62c",
        "IPY_MODEL_e8dbaf91958741f3bb2ebcb4234798db",
        "IPY_MODEL_da7be3fdf3d841baa8f469474ecaf689",
        "IPY_MODEL_b1d8577e49ed47aeabc476382bc2f962",
        "IPY_MODEL_331261236885492d813cd820ddc8276f",
        "IPY_MODEL_0060c06b6cf5434e8e96996476eb765d",
        "IPY_MODEL_a05d0d3d5be94c98956636f89524c82f",
        "IPY_MODEL_cc02527211b8418ab2b5559f50368f60",
        "IPY_MODEL_0a3b499b96e8448fb41d290786def699",
        "IPY_MODEL_b65cacfe988e413c9d3cd18c6b49d960",
        "IPY_MODEL_6515682913094208baf379805fce047d"
       ],
       "layout": "IPY_MODEL_9609f6037deb4b73a91232947fe14926"
      }
     },
     "70cf52db43b44bcfa54a3828eb3ca15d": {
      "model_module": "@jupyter-widgets/controls",
      "model_module_version": "1.5.0",
      "model_name": "HTMLModel",
      "state": {
       "layout": "IPY_MODEL_8e97fd977c1548d7b50df74a182b85cf",
       "style": "IPY_MODEL_b844e830a2fc4c99a2ab87cd1cbdf684",
       "value": "<p class=\"h4\" title=\"df_index\"><a\n        href=\"#pp_var_-76298984715415843\">df_index</a><br/>\n    <small>Date</small>\n</p>\n    <code><abbr title=\"This variable has a high correlation with 3 fields: 0, 1, 2\">HIGH CORRELATION</abbr></code><br />\n    <code>UNIQUE</code><br />\n<p class=\"variable-description\">\n    \n</p>"
      }
     },
     "70e3800db05549b2a69fc12613cc9ee8": {
      "model_module": "@jupyter-widgets/controls",
      "model_module_version": "1.5.0",
      "model_name": "TabModel",
      "state": {
       "_titles": {
        "0": "2",
        "1": "0",
        "2": "1"
       },
       "children": [
        "IPY_MODEL_ff2b1ced44344f62a59dc3f0a97c06df",
        "IPY_MODEL_52b39cbd425344288dfe22ff9aa33e98",
        "IPY_MODEL_c0bb7ee6ebb14ab79d866a18b0509dcc"
       ],
       "layout": "IPY_MODEL_65c020326693446f985fad17ca2046fc"
      }
     },
     "70f5f6b6b86c4e45aae4497b181c8511": {
      "model_module": "@jupyter-widgets/controls",
      "model_module_version": "1.5.0",
      "model_name": "DescriptionStyleModel",
      "state": {
       "description_width": ""
      }
     },
     "71698c764cc047579e03a5a62b10eb9f": {
      "model_module": "@jupyter-widgets/base",
      "model_module_version": "1.2.0",
      "model_name": "LayoutModel",
      "state": {
       "grid_area": "widget013"
      }
     },
     "71ab9502f7de44f98721eb0e4c11cd32": {
      "model_module": "@jupyter-widgets/controls",
      "model_module_version": "1.5.0",
      "model_name": "DescriptionStyleModel",
      "state": {
       "description_width": ""
      }
     },
     "71c931a7449f499192ce0542cb127a3e": {
      "model_module": "@jupyter-widgets/base",
      "model_module_version": "1.2.0",
      "model_name": "LayoutModel",
      "state": {
       "grid_area": "widget001"
      }
     },
     "71d80be8903d473d92637bb9b8e853db": {
      "model_module": "@jupyter-widgets/controls",
      "model_module_version": "1.5.0",
      "model_name": "LabelModel",
      "state": {
       "layout": "IPY_MODEL_930b342da09444d8bcf0dd73f65cffbf",
       "style": "IPY_MODEL_3be399b3d884493cbbe46435546db396",
       "value": "1"
      }
     },
     "71dfde99a08b453b980d01a5c4b699c3": {
      "model_module": "@jupyter-widgets/controls",
      "model_module_version": "1.5.0",
      "model_name": "LabelModel",
      "state": {
       "layout": "IPY_MODEL_ffda077ef8d84878b87895109aa1d8cd",
       "style": "IPY_MODEL_6505829cbb624108b407efc01970f1e3",
       "value": "1"
      }
     },
     "71eceadbee6c44cd8e6c03b1ec4889c4": {
      "model_module": "@jupyter-widgets/controls",
      "model_module_version": "1.5.0",
      "model_name": "DescriptionStyleModel",
      "state": {
       "description_width": ""
      }
     },
     "71eeab166cec4a44abdfde09fe567469": {
      "model_module": "@jupyter-widgets/base",
      "model_module_version": "1.2.0",
      "model_name": "LayoutModel",
      "state": {
       "grid_area": "widget006"
      }
     },
     "724f09bf427b432cb63cddc5bb95c6fe": {
      "model_module": "@jupyter-widgets/controls",
      "model_module_version": "1.5.0",
      "model_name": "DescriptionStyleModel",
      "state": {
       "description_width": ""
      }
     },
     "725182909fa34065a60583ba4ee84dd4": {
      "model_module": "@jupyter-widgets/base",
      "model_module_version": "1.2.0",
      "model_name": "LayoutModel",
      "state": {
       "grid_area": "widget001"
      }
     },
     "726de76a74574b3d92f8f655cb028170": {
      "model_module": "@jupyter-widgets/controls",
      "model_module_version": "1.5.0",
      "model_name": "LabelModel",
      "state": {
       "layout": "IPY_MODEL_f9f420c05e5042589d2cd39bf33fad81",
       "style": "IPY_MODEL_1a6f3aaef8b4448695be63794100bdcc",
       "value": "1"
      }
     },
     "7280538875ae40ea888825626dd3115e": {
      "model_module": "@jupyter-widgets/controls",
      "model_module_version": "1.5.0",
      "model_name": "HTMLModel",
      "state": {
       "layout": "IPY_MODEL_c25c3e8bf844488aa3ee99439dc94763",
       "style": "IPY_MODEL_265ffa1f87bc42a09497fd37552ed91e",
       "value": "Coefficient of variation (CV)"
      }
     },
     "72bfebc56f0a482f912fc02288d982e3": {
      "model_module": "@jupyter-widgets/base",
      "model_module_version": "1.2.0",
      "model_name": "LayoutModel",
      "state": {
       "grid_area": "widget018"
      }
     },
     "730e24d3c92f4549ae24b64a00ae5d7f": {
      "model_module": "@jupyter-widgets/base",
      "model_module_version": "1.2.0",
      "model_name": "LayoutModel",
      "state": {
       "grid_area": "widget018"
      }
     },
     "735f427eb75b40618e9f0a54e9bba627": {
      "model_module": "@jupyter-widgets/base",
      "model_module_version": "1.2.0",
      "model_name": "LayoutModel",
      "state": {}
     },
     "73e57538150e46b2817aab9a219cc131": {
      "model_module": "@jupyter-widgets/base",
      "model_module_version": "1.2.0",
      "model_name": "LayoutModel",
      "state": {
       "grid_area": "widget014"
      }
     },
     "742405c7839842d4a55b37cffc82aefe": {
      "model_module": "@jupyter-widgets/controls",
      "model_module_version": "1.5.0",
      "model_name": "ButtonStyleModel",
      "state": {}
     },
     "74477cb83e1245d1873b9ad3ef3b8cee": {
      "model_module": "@jupyter-widgets/controls",
      "model_module_version": "1.5.0",
      "model_name": "LabelModel",
      "state": {
       "layout": "IPY_MODEL_f435541c40ab40288e7f66e3a585fc94",
       "style": "IPY_MODEL_d05e9c18721841e3b107c469926ec100",
       "value": "1"
      }
     },
     "74594cf6c4e44429ac55518d87a8e3ea": {
      "model_module": "@jupyter-widgets/base",
      "model_module_version": "1.2.0",
      "model_name": "LayoutModel",
      "state": {}
     },
     "746664ecc2c244d9adfa5192c883ca10": {
      "model_module": "@jupyter-widgets/controls",
      "model_module_version": "1.5.0",
      "model_name": "LabelModel",
      "state": {
       "layout": "IPY_MODEL_e29a6364015e4e7194a151ad8f70b928",
       "style": "IPY_MODEL_2b6be12b59524a69b5f174c70aea233c",
       "value": "0.7985093658305963"
      }
     },
     "748af9cf2b634b9b8bace733b25b2ae6": {
      "model_module": "@jupyter-widgets/controls",
      "model_module_version": "1.5.0",
      "model_name": "ProgressStyleModel",
      "state": {
       "description_width": ""
      }
     },
     "75626d189ec34fa9bcbec6004c160070": {
      "model_module": "@jupyter-widgets/base",
      "model_module_version": "1.2.0",
      "model_name": "LayoutModel",
      "state": {
       "grid_area": "widget003"
      }
     },
     "756dd991b05842479b5d3ce2689a842a": {
      "model_module": "@jupyter-widgets/controls",
      "model_module_version": "1.5.0",
      "model_name": "GridBoxModel",
      "state": {
       "children": [
        "IPY_MODEL_58bf3de91803480f9354bc069da24a31",
        "IPY_MODEL_ec6cead330de49d4a605d209cb049262",
        "IPY_MODEL_f6b47cc037f14758a5ee702908235a0f",
        "IPY_MODEL_a388b5651c07485dae21331a6fb36418",
        "IPY_MODEL_5f8720f2117e42aa81cf9e13085a96b7",
        "IPY_MODEL_b345c668193148e1aba8f2f7760ee3e4",
        "IPY_MODEL_004b6a429e714c219b0482e0afe69fd6",
        "IPY_MODEL_f5088c458e7a4c0dba61203a647cd517",
        "IPY_MODEL_f4b6fffbb5424e45b8a1eadbbdf37f36",
        "IPY_MODEL_a360cc9728614ff081239dcc691595d5",
        "IPY_MODEL_0bdd93e12c2b4fdda9eca8048a84478b",
        "IPY_MODEL_c07c9294ff284865aa58e2b7b755bc8b",
        "IPY_MODEL_59f58edcd6464b2caf9573e6e1af592f",
        "IPY_MODEL_99b87563982e4bf9966f56432d7eb217"
       ],
       "layout": "IPY_MODEL_ac67f25212bd4bf9beae9f8d6f6c2074"
      }
     },
     "757047b5e405472aadf20f8db18a5dc6": {
      "model_module": "@jupyter-widgets/controls",
      "model_module_version": "1.5.0",
      "model_name": "HTMLModel",
      "state": {
       "layout": "IPY_MODEL_0dc2ba399fb74e4792c18e09238fdb23",
       "style": "IPY_MODEL_98e27bfd75454f8bae66586267b0c1b2",
       "value": "Minimum"
      }
     },
     "7592c27df1714608948111c797ba7d36": {
      "model_module": "@jupyter-widgets/base",
      "model_module_version": "1.2.0",
      "model_name": "LayoutModel",
      "state": {
       "grid_area": "widget015"
      }
     },
     "759f6efbebd4457d8dc8131a17abdfcb": {
      "model_module": "@jupyter-widgets/controls",
      "model_module_version": "1.5.0",
      "model_name": "DescriptionStyleModel",
      "state": {
       "description_width": ""
      }
     },
     "75c2ca3bef384936886630b3b4778099": {
      "model_module": "@jupyter-widgets/base",
      "model_module_version": "1.2.0",
      "model_name": "LayoutModel",
      "state": {}
     },
     "76258e208fa44b8993b850c1cf1b6813": {
      "model_module": "@jupyter-widgets/controls",
      "model_module_version": "1.5.0",
      "model_name": "LabelModel",
      "state": {
       "layout": "IPY_MODEL_230c22481ace43e9a598f2ae9396b8fe",
       "style": "IPY_MODEL_550f7f83bfc141af864071c9e7d5f5fd",
       "value": "1"
      }
     },
     "7649a4cb9fb4430ab078188fd79a56bb": {
      "model_module": "@jupyter-widgets/controls",
      "model_module_version": "1.5.0",
      "model_name": "DescriptionStyleModel",
      "state": {
       "description_width": ""
      }
     },
     "76ae17622998452da30b3e6e06c91989": {
      "model_module": "@jupyter-widgets/base",
      "model_module_version": "1.2.0",
      "model_name": "LayoutModel",
      "state": {
       "grid_area": "widget004"
      }
     },
     "76f6e0e90c65456b9b679e33470b3541": {
      "model_module": "@jupyter-widgets/base",
      "model_module_version": "1.2.0",
      "model_name": "LayoutModel",
      "state": {}
     },
     "771b454bbdea44aeb72d881989b3c55d": {
      "model_module": "@jupyter-widgets/controls",
      "model_module_version": "1.5.0",
      "model_name": "LabelModel",
      "state": {
       "layout": "IPY_MODEL_9076f843225f4c56a5a5739760c3473a",
       "style": "IPY_MODEL_b9e80c9a47b24b7dae2ffd699f2ad78d",
       "value": "(Missing)"
      }
     },
     "7735adca43cc484f9d1756e81282a85f": {
      "model_module": "@jupyter-widgets/controls",
      "model_module_version": "1.5.0",
      "model_name": "ProgressStyleModel",
      "state": {
       "description_width": ""
      }
     },
     "7739a4447ad64800874b306d1766fa9a": {
      "model_module": "@jupyter-widgets/controls",
      "model_module_version": "1.5.0",
      "model_name": "DescriptionStyleModel",
      "state": {
       "description_width": ""
      }
     },
     "7745ca52928247f985383bff084bb939": {
      "model_module": "@jupyter-widgets/controls",
      "model_module_version": "1.5.0",
      "model_name": "HTMLModel",
      "state": {
       "layout": "IPY_MODEL_1c26ad0e491c421495c2a2f67e5abfc6",
       "style": "IPY_MODEL_be1391eafeab4a5f962bf6449616d99a",
       "value": "2022-10-01 15:17:49.381684"
      }
     },
     "77a5dca309e94e4ab80b3c76eb781421": {
      "model_module": "@jupyter-widgets/controls",
      "model_module_version": "1.5.0",
      "model_name": "HTMLModel",
      "state": {
       "layout": "IPY_MODEL_b6039ec686f44da7bb1d8c0f15b4cc15",
       "style": "IPY_MODEL_d9429900583442608483ab543f997482",
       "value": "3"
      }
     },
     "77d1e33583df45739cf3e4def0a6f6de": {
      "model_module": "@jupyter-widgets/controls",
      "model_module_version": "1.5.0",
      "model_name": "HTMLModel",
      "state": {
       "layout": "IPY_MODEL_94a4ffb810f24a239ab677c755a09e0a",
       "style": "IPY_MODEL_0394dcc36598479e85b21c2070897b45",
       "value": "<p style=\"color: #999\"><em><strong>Histogram with fixed size bins</strong> (bins=6)</em></p>"
      }
     },
     "781f83aedd53420581d2382a92f16776": {
      "model_module": "@jupyter-widgets/controls",
      "model_module_version": "1.5.0",
      "model_name": "DescriptionStyleModel",
      "state": {
       "description_width": ""
      }
     },
     "784c6401b843487fa0d35b66e23422c0": {
      "model_module": "@jupyter-widgets/base",
      "model_module_version": "1.2.0",
      "model_name": "LayoutModel",
      "state": {
       "grid_area": "widget003"
      }
     },
     "785260ae42404724a53ea0806b7e2efd": {
      "model_module": "@jupyter-widgets/base",
      "model_module_version": "1.2.0",
      "model_name": "LayoutModel",
      "state": {
       "grid_area": "widget014"
      }
     },
     "7864ecf851054603ad2b9146fdfe3264": {
      "model_module": "@jupyter-widgets/base",
      "model_module_version": "1.2.0",
      "model_name": "LayoutModel",
      "state": {
       "grid_area": "widget014"
      }
     },
     "789631701adc4e088b54bbea481e73c3": {
      "model_module": "@jupyter-widgets/controls",
      "model_module_version": "1.5.0",
      "model_name": "HTMLModel",
      "state": {
       "layout": "IPY_MODEL_45262af4c4e442bd9caf71864c097a34",
       "style": "IPY_MODEL_196a2076ef9b4aa0924d0ff90ca89907",
       "value": "<div style=\"padding:20px\" class=\"text-muted\"><h3>Spearman's ρ</h3>The Spearman's rank correlation coefficient (<em>ρ</em>) is a measure of monotonic \n    correlation between two variables, and is therefore better in catching nonlinear monotonic correlations than \n    Pearson's <em>r</em>. It's value lies between -1 and +1, -1 indicating total negative monotonic correlation, \n    0 indicating no monotonic correlation and 1 indicating total positive monotonic correlation.<br /><br />To \n    calculate <em>ρ</em> for two variables <em>X</em> and <em>Y</em>, one divides the covariance of the rank \n    variables of <em>X</em> and <em>Y</em> by the product of their standard deviations. </div>"
      }
     },
     "7898980893954e6795d6e79f46e6f390": {
      "model_module": "@jupyter-widgets/base",
      "model_module_version": "1.2.0",
      "model_name": "LayoutModel",
      "state": {
       "grid_template_columns": "",
       "width": "100%"
      }
     },
     "78d900085bfd49239f5e2c44a7047a30": {
      "model_module": "@jupyter-widgets/controls",
      "model_module_version": "1.5.0",
      "model_name": "DescriptionStyleModel",
      "state": {
       "description_width": ""
      }
     },
     "78dbd91a65c7432dbaba52f8f980a0dc": {
      "model_module": "@jupyter-widgets/controls",
      "model_module_version": "1.5.0",
      "model_name": "DescriptionStyleModel",
      "state": {
       "description_width": ""
      }
     },
     "78e524e546464e32bfbe4a24cd258a9a": {
      "model_module": "@jupyter-widgets/controls",
      "model_module_version": "1.5.0",
      "model_name": "ButtonModel",
      "state": {
       "description": "High correlation",
       "disabled": true,
       "layout": "IPY_MODEL_de45f299d6f741faa64fd8f213bbcaba",
       "style": "IPY_MODEL_81833034e33543279f39bece78d4f8c6"
      }
     },
     "791df1b37ea248c39cdf2366e4f8e5b6": {
      "model_module": "@jupyter-widgets/controls",
      "model_module_version": "1.5.0",
      "model_name": "DescriptionStyleModel",
      "state": {
       "description_width": ""
      }
     },
     "795237c2fd03478b927b28944d7daee7": {
      "model_module": "@jupyter-widgets/controls",
      "model_module_version": "1.5.0",
      "model_name": "ProgressStyleModel",
      "state": {
       "description_width": ""
      }
     },
     "79964b61cfe940dca371079c1cfd9e0a": {
      "model_module": "@jupyter-widgets/base",
      "model_module_version": "1.2.0",
      "model_name": "LayoutModel",
      "state": {
       "grid_area": "widget002"
      }
     },
     "79b386bb88a4450ba70839698be65402": {
      "model_module": "@jupyter-widgets/base",
      "model_module_version": "1.2.0",
      "model_name": "LayoutModel",
      "state": {
       "width": "fit-content"
      }
     },
     "79e98080e68b4128b187053c7c54997d": {
      "model_module": "@jupyter-widgets/controls",
      "model_module_version": "1.5.0",
      "model_name": "FloatProgressModel",
      "state": {
       "layout": "IPY_MODEL_8565c04b3c2848c385c7056bb4a1f989",
       "max": 7,
       "style": "IPY_MODEL_795237c2fd03478b927b28944d7daee7",
       "value": 1
      }
     },
     "79ff45b172de48e3a7e76effbb65f3bb": {
      "model_module": "@jupyter-widgets/controls",
      "model_module_version": "1.5.0",
      "model_name": "DescriptionStyleModel",
      "state": {
       "description_width": ""
      }
     },
     "7a2a0125af5e4c0c83c1f882c63a52e4": {
      "model_module": "@jupyter-widgets/controls",
      "model_module_version": "1.5.0",
      "model_name": "VBoxModel",
      "state": {
       "children": [
        "IPY_MODEL_eb80d765f2b844c5a7de2d5c92362e89",
        "IPY_MODEL_77d1e33583df45739cf3e4def0a6f6de"
       ],
       "layout": "IPY_MODEL_74594cf6c4e44429ac55518d87a8e3ea"
      }
     },
     "7a3175822c034386ae158d59bec2a42a": {
      "model_module": "@jupyter-widgets/base",
      "model_module_version": "1.2.0",
      "model_name": "LayoutModel",
      "state": {
       "grid_area": "widget016"
      }
     },
     "7a38950f3f634370acb2f503a17e3370": {
      "model_module": "@jupyter-widgets/controls",
      "model_module_version": "1.5.0",
      "model_name": "DescriptionStyleModel",
      "state": {
       "description_width": ""
      }
     },
     "7a4bc8f25f554e8fbda5ca7a85f63a94": {
      "model_module": "@jupyter-widgets/base",
      "model_module_version": "1.2.0",
      "model_name": "LayoutModel",
      "state": {
       "grid_area": "widget009"
      }
     },
     "7a5a701f4407453e92dafd3cb92c93b2": {
      "model_module": "@jupyter-widgets/controls",
      "model_module_version": "1.5.0",
      "model_name": "HTMLModel",
      "state": {
       "layout": "IPY_MODEL_81a40ed557554ae1935b9f06e71d4e81",
       "style": "IPY_MODEL_95e21af5d4394db6973b6a70e6d37739",
       "value": "<p style=\"color: #999\"><em>The dendrogram allows you to more fully correlate variable completion, revealing trends deeper than the pairwise ones visible in the correlation heatmap.</em></p>"
      }
     },
     "7a5aef34ac204b46b7e1c65550e93cc1": {
      "model_module": "@jupyter-widgets/controls",
      "model_module_version": "1.5.0",
      "model_name": "DescriptionStyleModel",
      "state": {
       "description_width": ""
      }
     },
     "7aa61ebeaf414713aaf06abaf5260afd": {
      "model_module": "@jupyter-widgets/controls",
      "model_module_version": "1.5.0",
      "model_name": "VBoxModel",
      "state": {
       "children": [
        "IPY_MODEL_94be9e9f15c540ba8f601c459188c29f",
        "IPY_MODEL_96bf8d74223844b992f556ae632de5d0"
       ],
       "layout": "IPY_MODEL_032945f5f1184eb8bf5e970762f9cf52"
      }
     },
     "7ac6e0770e6b4c4b8e5c1037af90ca29": {
      "model_module": "@jupyter-widgets/controls",
      "model_module_version": "1.5.0",
      "model_name": "LabelModel",
      "state": {
       "layout": "IPY_MODEL_68a81261c8b34e48858f8c626aa6a1ae",
       "style": "IPY_MODEL_9bd50be991cc4e7c88ed7280d5313574",
       "value": "0.46204878108990594"
      }
     },
     "7ad2ae0423e94518a23fca77cf660323": {
      "model_module": "@jupyter-widgets/controls",
      "model_module_version": "1.5.0",
      "model_name": "TabModel",
      "state": {
       "_titles": {
        "0": "Statistics",
        "1": "Histogram",
        "2": "Common values",
        "3": "Extreme values"
       },
       "children": [
        "IPY_MODEL_47e160dfccdc463db30f7066aa955a54",
        "IPY_MODEL_f7ba8706726a478e9c4eff1da2d9fb8d",
        "IPY_MODEL_d92b0d04974c46bcb78720ab5ae47abb",
        "IPY_MODEL_26fa369911ce4acab33661b6a40a004b"
       ],
       "layout": "IPY_MODEL_42b61d459a6245ef913718a056ef35c6"
      }
     },
     "7ada13bc8a58453ca8b779cd2e6bb309": {
      "model_module": "@jupyter-widgets/controls",
      "model_module_version": "1.5.0",
      "model_name": "HTMLModel",
      "state": {
       "layout": "IPY_MODEL_31372a019e864ecfaee3516195e3ee73",
       "style": "IPY_MODEL_bf59a97c454f47edbed7294b64d2ea26",
       "value": "Median Absolute Deviation (MAD)"
      }
     },
     "7ae6f17e415d47039ba628275b9718d9": {
      "model_module": "@jupyter-widgets/base",
      "model_module_version": "1.2.0",
      "model_name": "LayoutModel",
      "state": {}
     },
     "7afb5a0448394e95ad06aa6159b09d07": {
      "model_module": "@jupyter-widgets/controls",
      "model_module_version": "1.5.0",
      "model_name": "DescriptionStyleModel",
      "state": {
       "description_width": ""
      }
     },
     "7b3d6cc12a6c4429aaddcc593e130875": {
      "model_module": "@jupyter-widgets/controls",
      "model_module_version": "1.5.0",
      "model_name": "HTMLModel",
      "state": {
       "layout": "IPY_MODEL_b2af4219125d4f6daaef354e6743833c",
       "style": "IPY_MODEL_2d52d0bd32054497b66e32e80848fa06",
       "value": "352.0 B"
      }
     },
     "7b67f841b31340169197ee5d34d54edf": {
      "model_module": "@jupyter-widgets/controls",
      "model_module_version": "1.5.0",
      "model_name": "FloatProgressModel",
      "state": {
       "layout": "IPY_MODEL_0ad706f8e6a74cada8ed4cdc4bad1211",
       "max": 7,
       "style": "IPY_MODEL_21a56f4683854f16b0d3c1297fc9460d",
       "value": 1
      }
     },
     "7b76d4731f0243fcaab35e8d166d3a88": {
      "model_module": "@jupyter-widgets/controls",
      "model_module_version": "1.5.0",
      "model_name": "LabelModel",
      "state": {
       "layout": "IPY_MODEL_abb17061caac4e579b5ff298570cecf2",
       "style": "IPY_MODEL_b01dfee556eb417496d2f3715de038d2",
       "value": "-1.1078621186901776"
      }
     },
     "7b7dca34f2ca4b619c2679ff6c143fee": {
      "model_module": "@jupyter-widgets/base",
      "model_module_version": "1.2.0",
      "model_name": "LayoutModel",
      "state": {
       "display": "none"
      }
     },
     "7b9c25241bd04c21be6cdfd6c07e4eee": {
      "model_module": "@jupyter-widgets/controls",
      "model_module_version": "1.5.0",
      "model_name": "HTMLModel",
      "state": {
       "layout": "IPY_MODEL_c74f5d6bf1e44f68a777c37cd52591e8",
       "style": "IPY_MODEL_0e77d13bf0e34bac99a0100897ae831d",
       "value": "DateTime"
      }
     },
     "7bc7d0af606f49fe809eee3bc96af42a": {
      "model_module": "@jupyter-widgets/controls",
      "model_module_version": "1.5.0",
      "model_name": "HTMLModel",
      "state": {
       "layout": "IPY_MODEL_71eeab166cec4a44abdfde09fe567469",
       "style": "IPY_MODEL_d511f3f9c92841b2bf03c22a1af78d6f",
       "value": "-0.169154541"
      }
     },
     "7c1aac3add1f4e18a70aafb87dd339bd": {
      "model_module": "@jupyter-widgets/controls",
      "model_module_version": "1.5.0",
      "model_name": "LabelModel",
      "state": {
       "layout": "IPY_MODEL_0a9b2c844920474ab4b9ed47b518d43c",
       "style": "IPY_MODEL_575d12befd6e453481a116d17b81c328",
       "value": "1"
      }
     },
     "7c2c3c864e784d2da47ac24f8cdb6af6": {
      "model_module": "@jupyter-widgets/controls",
      "model_module_version": "1.5.0",
      "model_name": "DescriptionStyleModel",
      "state": {
       "description_width": ""
      }
     },
     "7c7d70638efb4babb29bf0b5d19bb1ef": {
      "model_module": "@jupyter-widgets/controls",
      "model_module_version": "1.5.0",
      "model_name": "DescriptionStyleModel",
      "state": {
       "description_width": ""
      }
     },
     "7caf3fd59995449d8f149df6629c5102": {
      "model_module": "@jupyter-widgets/controls",
      "model_module_version": "1.5.0",
      "model_name": "FloatProgressModel",
      "state": {
       "layout": "IPY_MODEL_73e57538150e46b2817aab9a219cc131",
       "max": 7,
       "style": "IPY_MODEL_503d6812fbd242349a9634acf95668de",
       "value": 1
      }
     },
     "7cc2b83d6e3347b782b68d728ff1e5ea": {
      "model_module": "@jupyter-widgets/controls",
      "model_module_version": "1.5.0",
      "model_name": "GridBoxModel",
      "state": {
       "children": [
        "IPY_MODEL_d33b7965bce04bcca0680002a8176342",
        "IPY_MODEL_269adf4fe5504d4a8d1328eb6f57429f",
        "IPY_MODEL_2090220fecd04fe48abdea87593024b9",
        "IPY_MODEL_16c7dca83194430e9938a52156b38171",
        "IPY_MODEL_86f970ff0f1441e08f25dd76f9492335",
        "IPY_MODEL_f4c69462329d46cb9e9143931d266d0b",
        "IPY_MODEL_ca5138c68caf4b349b804a04413886a1",
        "IPY_MODEL_3bb6586f166d49d59c9c6b947b91a0cd",
        "IPY_MODEL_7ada13bc8a58453ca8b779cd2e6bb309",
        "IPY_MODEL_b3d1736fbf2f46e5a5687af5e2b8bd20",
        "IPY_MODEL_af137efa482b409f80feeae5f8ef53d1",
        "IPY_MODEL_6c3ea9ed3d6d46b08b8e24e1a6600cac",
        "IPY_MODEL_f10343d6f76a46bfbc8283e90a5db0e3",
        "IPY_MODEL_6a5da827cc3445d2bf4a589c8af8dcba",
        "IPY_MODEL_355d08b05deb4db8add57608c360e25f",
        "IPY_MODEL_a5e03fa44d9b49c1931919f457d587cf",
        "IPY_MODEL_32f11532de94456ea2c244b6f30f4e62",
        "IPY_MODEL_aaba6dedc4e54aaa8dc765e2b31928ab"
       ],
       "layout": "IPY_MODEL_542da60cb21d41e09933d73db3b1ed0f"
      }
     },
     "7ccccd5b22bf427ca61d0e00afe76693": {
      "model_module": "@jupyter-widgets/controls",
      "model_module_version": "1.5.0",
      "model_name": "HTMLModel",
      "state": {
       "layout": "IPY_MODEL_518b9032f67041508370fe2d3a987cda",
       "style": "IPY_MODEL_fbf9da34176b486ea2aaf291510db530",
       "value": "<?xml version=\"1.0\" encoding=\"utf-8\" standalone=\"no\"?>\n<!DOCTYPE svg style=\"max-width: 100%\" PUBLIC \"-//W3C//DTD SVG 1.1//EN\"\n  \"http://www.w3.org/Graphics/SVG/1.1/DTD/svg11.dtd\">\n<svg style=\"max-width: 100%\"  version=\"1.1\" viewBox=\"0 0 576 396\" width=\"576pt\" xmlns=\"http://www.w3.org/2000/svg\" xmlns:xlink=\"http://www.w3.org/1999/xlink\">\n <metadata>\n  <rdf:RDF xmlns:cc=\"http://creativecommons.org/ns#\" xmlns:dc=\"http://purl.org/dc/elements/1.1/\" xmlns:rdf=\"http://www.w3.org/1999/02/22-rdf-syntax-ns#\">\n   <cc:Work>\n    <dc:type rdf:resource=\"http://purl.org/dc/dcmitype/StillImage\"/>\n    <dc:date>2022-10-01T17:18:00.204783</dc:date>\n    <dc:format>image/svg+xml</dc:format>\n    <dc:creator>\n     <cc:Agent>\n      <dc:title>Matplotlib v3.4.3, https://matplotlib.org/</dc:title>\n     </cc:Agent>\n    </dc:creator>\n   </cc:Work>\n  </rdf:RDF>\n </metadata>\n <defs>\n  <style type=\"text/css\">*{stroke-linecap:butt;stroke-linejoin:round;}</style>\n </defs>\n <g id=\"figure_1\">\n  <g id=\"patch_1\">\n   <path d=\"M 0 396 \nL 576 396 \nL 576 0 \nL 0 0 \nz\n\" style=\"fill:#ffffff;\"/>\n  </g>\n  <g id=\"axes_1\">\n   <g id=\"patch_2\">\n    <path d=\"M 159.84 316.8 \nL 429.12 316.8 \nL 429.12 47.52 \nL 159.84 47.52 \nz\n\" style=\"fill:#ffffff;\"/>\n   </g>\n   <g clip-path=\"url(#pa65e25a288)\">\n    <image height=\"270\" id=\"image12aaa07cd8\" transform=\"scale(1 -1)translate(0 -270)\" width=\"270\" x=\"159.84\" xlink:href=\"data:image/png;base64,\niVBORw0KGgoAAAANSUhEUgAAAQ4AAAEOCAYAAAB4sfmlAAADkElEQVR4nO3WsU0CUABFUTHQWTkJLbWTsIKhMsbCECriRtSMQoUVjRXOcKsf/edM8Kqbt/i5Xu4P8E88vbyNnjCFx9EDgL9HOIBMOIBMOIBMOIBMOIBMOIBMOIBMOIBMOIBMOIBMOIBMOIBMOIBMOIBMOIBMOIBMOIBMOIBMOIBMOIBMOIBMOIBMOIBMOIBMOIBMOIBMOIBMOIBMOIBMOIBMOIBMOIBMOIBMOIBMOIBMOIBMOIBMOIBMOIBMOIBMOIBMOIBMOIBMOIBMOIBMOIBMOIBMOIBMOIBMOIBMOIBMOIBMOIBMOIBMOIBMOIBMOIBMOIBMOIBMOIBMOIBMOIBMOIBMOIBMOIBMOIBMOIBMOIBMOIBMOIBMOIBMOIBMOIBMOIBMOIBMOIBMOIBMOIBMOIBMOIBMOIBMOIBMOIBMOIBMOIBMOIBMOIBMOIBs+XH+Hr1hCl/vx9ETpnA7HUZPmILHAWTCAWTCAWTCAWTCAWTCAWTCAWTCAWTCAWTCAWTCAWTCAWTCAWTCAWTCAWTCAWTCAWTCAWTCAWTCAWTCAWTCAWTCAWTCAWTCAWTCAWTCAWTCAWTCAWTCAWTCAWTCAWTCAWTCAWTCAWTCAWTCAWTCAWTCAWTCAWTCAWTCAWTCAWTCAWTCAWTCAWTCAWTCAWTCAWTCAWTCAWTCAWTCAWTCAWTCAWTCAWTCAWTCAWTCAWTCAWTCAWTCAWTCAWTCAWTCAWTCAWTCAWTCAWTCAWTCAWTCAWTCAWTCAWTCAWTCAWTCAWTCAWTCAWTCAWTCAWTCAWTCAWTCAWTCAWTCAWTCAWTCAWTCAWTCAWSL1Xp7Hz1iBq/73egJU/jcPI+eMAWPA8iEA8iEA8iEA8iEA8iEA8iEA8iEA8iEA8iEA8iEA8iEA8iEA8iEA8iEA8iEA8iEA8iEA8iEA8iEA8iEA8iEA8iEA8iEA8iEA8iEA8iEA8iEA8iEA8iEA8iEA8iEA8iEA8iEA8iEA8iEA8iEA8iEA8iEA8iEA8iEA8iEA8iEA8iEA8iEA8iEA8iEA8iEA8iEA8iEA8iEA8iEA8iEA8iEA8iEA8iEA8iEA8iEA8iEA8iEA8iEA8iEA8iEA8iEA8iEA8iEA8iEA8iEA8iEA8iEA8iEA8iEA8iEA8iEA8iEA8iEA8iEA8iEA8iEA8iEA8iEA8iEA8iEA8iEA8iEA8iEA8iEA8iEA8iEA8h+AanMEH49BWczAAAAAElFTkSuQmCC\" y=\"-46.8\"/>\n   </g>\n   <g id=\"matplotlib.axis_1\">\n    <g id=\"xtick_1\">\n     <g id=\"text_1\">\n      <!-- 0 -->\n      <g style=\"fill:#262626;\" transform=\"translate(207.479375 333.6625)rotate(-90)scale(0.1 -0.1)\">\n       <defs>\n        <path d=\"M 2034 4250 \nQ 1547 4250 1301 3770 \nQ 1056 3291 1056 2328 \nQ 1056 1369 1301 889 \nQ 1547 409 2034 409 \nQ 2525 409 2770 889 \nQ 3016 1369 3016 2328 \nQ 3016 3291 2770 3770 \nQ 2525 4250 2034 4250 \nz\nM 2034 4750 \nQ 2819 4750 3233 4129 \nQ 3647 3509 3647 2328 \nQ 3647 1150 3233 529 \nQ 2819 -91 2034 -91 \nQ 1250 -91 836 529 \nQ 422 1150 422 2328 \nQ 422 3509 836 4129 \nQ 1250 4750 2034 4750 \nz\n\" id=\"DejaVuSans-30\" transform=\"scale(0.015625)\"/>\n       </defs>\n       <use xlink:href=\"#DejaVuSans-30\"/>\n      </g>\n     </g>\n    </g>\n    <g id=\"xtick_2\">\n     <g id=\"text_2\">\n      <!-- 1 -->\n      <g style=\"fill:#262626;\" transform=\"translate(297.239375 333.6625)rotate(-90)scale(0.1 -0.1)\">\n       <defs>\n        <path d=\"M 794 531 \nL 1825 531 \nL 1825 4091 \nL 703 3866 \nL 703 4441 \nL 1819 4666 \nL 2450 4666 \nL 2450 531 \nL 3481 531 \nL 3481 0 \nL 794 0 \nL 794 531 \nz\n\" id=\"DejaVuSans-31\" transform=\"scale(0.015625)\"/>\n       </defs>\n       <use xlink:href=\"#DejaVuSans-31\"/>\n      </g>\n     </g>\n    </g>\n    <g id=\"xtick_3\">\n     <g id=\"text_3\">\n      <!-- 2 -->\n      <g style=\"fill:#262626;\" transform=\"translate(386.999375 333.6625)rotate(-90)scale(0.1 -0.1)\">\n       <defs>\n        <path d=\"M 1228 531 \nL 3431 531 \nL 3431 0 \nL 469 0 \nL 469 531 \nQ 828 903 1448 1529 \nQ 2069 2156 2228 2338 \nQ 2531 2678 2651 2914 \nQ 2772 3150 2772 3378 \nQ 2772 3750 2511 3984 \nQ 2250 4219 1831 4219 \nQ 1534 4219 1204 4116 \nQ 875 4013 500 3803 \nL 500 4441 \nQ 881 4594 1212 4672 \nQ 1544 4750 1819 4750 \nQ 2544 4750 2975 4387 \nQ 3406 4025 3406 3419 \nQ 3406 3131 3298 2873 \nQ 3191 2616 2906 2266 \nQ 2828 2175 2409 1742 \nQ 1991 1309 1228 531 \nz\n\" id=\"DejaVuSans-32\" transform=\"scale(0.015625)\"/>\n       </defs>\n       <use xlink:href=\"#DejaVuSans-32\"/>\n      </g>\n     </g>\n    </g>\n   </g>\n   <g id=\"matplotlib.axis_2\">\n    <g id=\"ytick_1\">\n     <g id=\"text_4\">\n      <!-- 0 -->\n      <g style=\"fill:#262626;\" transform=\"translate(142.9775 96.199219)scale(0.1 -0.1)\">\n       <use xlink:href=\"#DejaVuSans-30\"/>\n      </g>\n     </g>\n    </g>\n    <g id=\"ytick_2\">\n     <g id=\"text_5\">\n      <!-- 1 -->\n      <g style=\"fill:#262626;\" transform=\"translate(142.9775 185.959219)scale(0.1 -0.1)\">\n       <use xlink:href=\"#DejaVuSans-31\"/>\n      </g>\n     </g>\n    </g>\n    <g id=\"ytick_3\">\n     <g id=\"text_6\">\n      <!-- 2 -->\n      <g style=\"fill:#262626;\" transform=\"translate(142.9775 275.719219)scale(0.1 -0.1)\">\n       <use xlink:href=\"#DejaVuSans-32\"/>\n      </g>\n     </g>\n    </g>\n   </g>\n   <g id=\"patch_3\">\n    <path d=\"M 159.84 316.8 \nL 159.84 47.52 \n\" style=\"fill:none;\"/>\n   </g>\n   <g id=\"patch_4\">\n    <path d=\"M 429.12 316.8 \nL 429.12 47.52 \n\" style=\"fill:none;\"/>\n   </g>\n   <g id=\"patch_5\">\n    <path d=\"M 159.84 316.8 \nL 429.12 316.8 \n\" style=\"fill:none;\"/>\n   </g>\n   <g id=\"patch_6\">\n    <path d=\"M 159.84 47.52 \nL 429.12 47.52 \n\" style=\"fill:none;\"/>\n   </g>\n  </g>\n  <g id=\"axes_2\">\n   <g id=\"patch_7\">\n    <path d=\"M 451.44 316.8 \nL 464.904 316.8 \nL 464.904 47.52 \nL 451.44 47.52 \nz\n\" style=\"fill:#ffffff;\"/>\n   </g>\n   <g id=\"patch_8\">\n    <path clip-path=\"url(#pe60f930b7f)\" d=\"M 451.44 316.8 \nL 451.44 315.748125 \nL 451.44 48.571875 \nL 451.44 47.52 \nL 464.904 47.52 \nL 464.904 48.571875 \nL 464.904 315.748125 \nL 464.904 316.8 \nL 464.904 316.8 \nz\n\" style=\"fill:#ffffff;stroke:#ffffff;stroke-linejoin:miter;stroke-width:0.01;\"/>\n   </g>\n   <g id=\"matplotlib.axis_3\"/>\n   <g id=\"matplotlib.axis_4\">\n    <g id=\"ytick_4\">\n     <g id=\"line2d_1\">\n      <defs>\n       <path d=\"M 0 0 \nL 3.5 0 \n\" id=\"mbf89faeaf4\" style=\"stroke:#262626;\"/>\n      </defs>\n      <g>\n       <use style=\"fill:#262626;stroke:#262626;\" x=\"464.904\" xlink:href=\"#mbf89faeaf4\" y=\"316.8\"/>\n      </g>\n     </g>\n     <g id=\"text_7\">\n      <!-- −1.00 -->\n      <g style=\"fill:#262626;\" transform=\"translate(475.404 320.599219)scale(0.1 -0.1)\">\n       <defs>\n        <path d=\"M 678 2272 \nL 4684 2272 \nL 4684 1741 \nL 678 1741 \nL 678 2272 \nz\n\" id=\"DejaVuSans-2212\" transform=\"scale(0.015625)\"/>\n        <path d=\"M 684 794 \nL 1344 794 \nL 1344 0 \nL 684 0 \nL 684 794 \nz\n\" id=\"DejaVuSans-2e\" transform=\"scale(0.015625)\"/>\n       </defs>\n       <use xlink:href=\"#DejaVuSans-2212\"/>\n       <use x=\"83.789062\" xlink:href=\"#DejaVuSans-31\"/>\n       <use x=\"147.412109\" xlink:href=\"#DejaVuSans-2e\"/>\n       <use x=\"179.199219\" xlink:href=\"#DejaVuSans-30\"/>\n       <use x=\"242.822266\" xlink:href=\"#DejaVuSans-30\"/>\n      </g>\n     </g>\n    </g>\n    <g id=\"ytick_5\">\n     <g id=\"line2d_2\">\n      <g>\n       <use style=\"fill:#262626;stroke:#262626;\" x=\"464.904\" xlink:href=\"#mbf89faeaf4\" y=\"283.14\"/>\n      </g>\n     </g>\n     <g id=\"text_8\">\n      <!-- −0.75 -->\n      <g style=\"fill:#262626;\" transform=\"translate(475.404 286.939219)scale(0.1 -0.1)\">\n       <defs>\n        <path d=\"M 525 4666 \nL 3525 4666 \nL 3525 4397 \nL 1831 0 \nL 1172 0 \nL 2766 4134 \nL 525 4134 \nL 525 4666 \nz\n\" id=\"DejaVuSans-37\" transform=\"scale(0.015625)\"/>\n        <path d=\"M 691 4666 \nL 3169 4666 \nL 3169 4134 \nL 1269 4134 \nL 1269 2991 \nQ 1406 3038 1543 3061 \nQ 1681 3084 1819 3084 \nQ 2600 3084 3056 2656 \nQ 3513 2228 3513 1497 \nQ 3513 744 3044 326 \nQ 2575 -91 1722 -91 \nQ 1428 -91 1123 -41 \nQ 819 9 494 109 \nL 494 744 \nQ 775 591 1075 516 \nQ 1375 441 1709 441 \nQ 2250 441 2565 725 \nQ 2881 1009 2881 1497 \nQ 2881 1984 2565 2268 \nQ 2250 2553 1709 2553 \nQ 1456 2553 1204 2497 \nQ 953 2441 691 2322 \nL 691 4666 \nz\n\" id=\"DejaVuSans-35\" transform=\"scale(0.015625)\"/>\n       </defs>\n       <use xlink:href=\"#DejaVuSans-2212\"/>\n       <use x=\"83.789062\" xlink:href=\"#DejaVuSans-30\"/>\n       <use x=\"147.412109\" xlink:href=\"#DejaVuSans-2e\"/>\n       <use x=\"179.199219\" xlink:href=\"#DejaVuSans-37\"/>\n       <use x=\"242.822266\" xlink:href=\"#DejaVuSans-35\"/>\n      </g>\n     </g>\n    </g>\n    <g id=\"ytick_6\">\n     <g id=\"line2d_3\">\n      <g>\n       <use style=\"fill:#262626;stroke:#262626;\" x=\"464.904\" xlink:href=\"#mbf89faeaf4\" y=\"249.48\"/>\n      </g>\n     </g>\n     <g id=\"text_9\">\n      <!-- −0.50 -->\n      <g style=\"fill:#262626;\" transform=\"translate(475.404 253.279219)scale(0.1 -0.1)\">\n       <use xlink:href=\"#DejaVuSans-2212\"/>\n       <use x=\"83.789062\" xlink:href=\"#DejaVuSans-30\"/>\n       <use x=\"147.412109\" xlink:href=\"#DejaVuSans-2e\"/>\n       <use x=\"179.199219\" xlink:href=\"#DejaVuSans-35\"/>\n       <use x=\"242.822266\" xlink:href=\"#DejaVuSans-30\"/>\n      </g>\n     </g>\n    </g>\n    <g id=\"ytick_7\">\n     <g id=\"line2d_4\">\n      <g>\n       <use style=\"fill:#262626;stroke:#262626;\" x=\"464.904\" xlink:href=\"#mbf89faeaf4\" y=\"215.82\"/>\n      </g>\n     </g>\n     <g id=\"text_10\">\n      <!-- −0.25 -->\n      <g style=\"fill:#262626;\" transform=\"translate(475.404 219.619219)scale(0.1 -0.1)\">\n       <use xlink:href=\"#DejaVuSans-2212\"/>\n       <use x=\"83.789062\" xlink:href=\"#DejaVuSans-30\"/>\n       <use x=\"147.412109\" xlink:href=\"#DejaVuSans-2e\"/>\n       <use x=\"179.199219\" xlink:href=\"#DejaVuSans-32\"/>\n       <use x=\"242.822266\" xlink:href=\"#DejaVuSans-35\"/>\n      </g>\n     </g>\n    </g>\n    <g id=\"ytick_8\">\n     <g id=\"line2d_5\">\n      <g>\n       <use style=\"fill:#262626;stroke:#262626;\" x=\"464.904\" xlink:href=\"#mbf89faeaf4\" y=\"182.16\"/>\n      </g>\n     </g>\n     <g id=\"text_11\">\n      <!-- 0.00 -->\n      <g style=\"fill:#262626;\" transform=\"translate(475.404 185.959219)scale(0.1 -0.1)\">\n       <use xlink:href=\"#DejaVuSans-30\"/>\n       <use x=\"63.623047\" xlink:href=\"#DejaVuSans-2e\"/>\n       <use x=\"95.410156\" xlink:href=\"#DejaVuSans-30\"/>\n       <use x=\"159.033203\" xlink:href=\"#DejaVuSans-30\"/>\n      </g>\n     </g>\n    </g>\n    <g id=\"ytick_9\">\n     <g id=\"line2d_6\">\n      <g>\n       <use style=\"fill:#262626;stroke:#262626;\" x=\"464.904\" xlink:href=\"#mbf89faeaf4\" y=\"148.5\"/>\n      </g>\n     </g>\n     <g id=\"text_12\">\n      <!-- 0.25 -->\n      <g style=\"fill:#262626;\" transform=\"translate(475.404 152.299219)scale(0.1 -0.1)\">\n       <use xlink:href=\"#DejaVuSans-30\"/>\n       <use x=\"63.623047\" xlink:href=\"#DejaVuSans-2e\"/>\n       <use x=\"95.410156\" xlink:href=\"#DejaVuSans-32\"/>\n       <use x=\"159.033203\" xlink:href=\"#DejaVuSans-35\"/>\n      </g>\n     </g>\n    </g>\n    <g id=\"ytick_10\">\n     <g id=\"line2d_7\">\n      <g>\n       <use style=\"fill:#262626;stroke:#262626;\" x=\"464.904\" xlink:href=\"#mbf89faeaf4\" y=\"114.84\"/>\n      </g>\n     </g>\n     <g id=\"text_13\">\n      <!-- 0.50 -->\n      <g style=\"fill:#262626;\" transform=\"translate(475.404 118.639219)scale(0.1 -0.1)\">\n       <use xlink:href=\"#DejaVuSans-30\"/>\n       <use x=\"63.623047\" xlink:href=\"#DejaVuSans-2e\"/>\n       <use x=\"95.410156\" xlink:href=\"#DejaVuSans-35\"/>\n       <use x=\"159.033203\" xlink:href=\"#DejaVuSans-30\"/>\n      </g>\n     </g>\n    </g>\n    <g id=\"ytick_11\">\n     <g id=\"line2d_8\">\n      <g>\n       <use style=\"fill:#262626;stroke:#262626;\" x=\"464.904\" xlink:href=\"#mbf89faeaf4\" y=\"81.18\"/>\n      </g>\n     </g>\n     <g id=\"text_14\">\n      <!-- 0.75 -->\n      <g style=\"fill:#262626;\" transform=\"translate(475.404 84.979219)scale(0.1 -0.1)\">\n       <use xlink:href=\"#DejaVuSans-30\"/>\n       <use x=\"63.623047\" xlink:href=\"#DejaVuSans-2e\"/>\n       <use x=\"95.410156\" xlink:href=\"#DejaVuSans-37\"/>\n       <use x=\"159.033203\" xlink:href=\"#DejaVuSans-35\"/>\n      </g>\n     </g>\n    </g>\n    <g id=\"ytick_12\">\n     <g id=\"line2d_9\">\n      <g>\n       <use style=\"fill:#262626;stroke:#262626;\" x=\"464.904\" xlink:href=\"#mbf89faeaf4\" y=\"47.52\"/>\n      </g>\n     </g>\n     <g id=\"text_15\">\n      <!-- 1.00 -->\n      <g style=\"fill:#262626;\" transform=\"translate(475.404 51.319219)scale(0.1 -0.1)\">\n       <use xlink:href=\"#DejaVuSans-31\"/>\n       <use x=\"63.623047\" xlink:href=\"#DejaVuSans-2e\"/>\n       <use x=\"95.410156\" xlink:href=\"#DejaVuSans-30\"/>\n       <use x=\"159.033203\" xlink:href=\"#DejaVuSans-30\"/>\n      </g>\n     </g>\n    </g>\n   </g>\n   <image height=\"269\" id=\"image66a2c4ce05\" transform=\"scale(1 -1)translate(0 -269)\" width=\"14\" x=\"451\" xlink:href=\"data:image/png;base64,\niVBORw0KGgoAAAANSUhEUgAAAA4AAAENCAYAAAA/q1TLAAABhklEQVR4nO2ZwbEDIQxDDbiPX97v/x4gHezhOSvGQO4aSbbQLKT829808PNWCMzMW2HIRIyVwXINh5rM5PEyvgM8YThZGHlZVeqxQJNeKbA0ZnOF1AqlBoajnmpgOHgd6gAEkiPPKp0qDUCgc27Inxj1IaeMvOWwRzmQeiytUSCdKpeaZaq8c/Qeecj336NX+elY0QB5pFa4DuNAda9Sqbxz8HDwHgPrOEAqT47aY+A83gZ4YNz+dATKqlCpFDjljEYfu3BWV3i8e/w9I/eIGyBNAHjn3OS8wwg9TvQvspkPiHRIaD6o1EmlckaGW+KREYaSw4CBzsk0nETHijIa9aiOXC6PkLHDlAcYeSGLPfLOWTEchDPvEBnxiHChAOzvcVCPC9ZxPT4AoUdeVvh0XOAewE8eqfJjtQTIvlf0UnnnZIpcHuDE3zmYEd9Y9VLpTYc/IMj3yKcq3yMFBi5lC0KOcDc57wDPaLmeBtjzSIXAwKu13ONIM9UTkuOT3gIyJeeIPTLgF+l5Z7yI8kSDAAAAAElFTkSuQmCC\" y=\"-48\"/>\n   <g id=\"LineCollection_1\"/>\n   <g id=\"patch_9\">\n    <path d=\"M 451.44 316.8 \nL 451.44 315.748125 \nL 451.44 48.571875 \nL 451.44 47.52 \nL 464.904 47.52 \nL 464.904 48.571875 \nL 464.904 315.748125 \nL 464.904 316.8 \nz\n\" style=\"fill:none;\"/>\n   </g>\n  </g>\n </g>\n <defs>\n  <clipPath id=\"pa65e25a288\">\n   <rect height=\"269.28\" width=\"269.28\" x=\"159.84\" y=\"47.52\"/>\n  </clipPath>\n  <clipPath id=\"pe60f930b7f\">\n   <rect height=\"269.28\" width=\"13.464\" x=\"451.44\" y=\"47.52\"/>\n  </clipPath>\n </defs>\n</svg>\n"
      }
     },
     "7d298962e13041e9a472223dc22c64c6": {
      "model_module": "@jupyter-widgets/base",
      "model_module_version": "1.2.0",
      "model_name": "LayoutModel",
      "state": {
       "grid_area": "widget002"
      }
     },
     "7d3365c9ffad4ce19bf6131d97d02af4": {
      "model_module": "@jupyter-widgets/controls",
      "model_module_version": "1.5.0",
      "model_name": "FloatProgressModel",
      "state": {
       "layout": "IPY_MODEL_2ccb25b19b8947d88252c66b91f19907",
       "max": 7,
       "style": "IPY_MODEL_5ea9f607e13f46ee9b2a4e836718c8a6",
       "value": 1
      }
     },
     "7d45cf50e4d745ae8d56b0758486b053": {
      "model_module": "@jupyter-widgets/controls",
      "model_module_version": "1.5.0",
      "model_name": "DescriptionStyleModel",
      "state": {
       "description_width": ""
      }
     },
     "7da4e392c8f64d4c92a67df00be11c0d": {
      "model_module": "@jupyter-widgets/base",
      "model_module_version": "1.2.0",
      "model_name": "LayoutModel",
      "state": {
       "grid_area": "widget006"
      }
     },
     "7db0ee479c2d4b8eaeed3056024d4c90": {
      "model_module": "@jupyter-widgets/controls",
      "model_module_version": "1.5.0",
      "model_name": "VBoxModel",
      "state": {
       "children": [
        "IPY_MODEL_d2e43b895320487e88ab284b7810e56a"
       ],
       "layout": "IPY_MODEL_4d35cb25e4ec46d68e03f3752c102a50"
      }
     },
     "7dcb4cebb9844564a5efc559a43fb291": {
      "model_module": "@jupyter-widgets/controls",
      "model_module_version": "1.5.0",
      "model_name": "HBoxModel",
      "state": {
       "children": [
        "IPY_MODEL_e9613e9a33044c41b476389c02e8b44b"
       ],
       "layout": "IPY_MODEL_1f09d3386d0f41aa97316c7e03064a9f"
      }
     },
     "7e018362e6114c338dd8d8f30a82f04b": {
      "model_module": "@jupyter-widgets/controls",
      "model_module_version": "1.5.0",
      "model_name": "HTMLModel",
      "state": {
       "layout": "IPY_MODEL_c3f3d83fd37940f7905c81f1cad512c0",
       "style": "IPY_MODEL_dc82846508cb43e38c49873e85d80cbc",
       "value": "-0.2935048742"
      }
     },
     "7e9278d56b7a4756a8c776d77cf64416": {
      "model_module": "@jupyter-widgets/controls",
      "model_module_version": "1.5.0",
      "model_name": "GridBoxModel",
      "state": {
       "children": [
        "IPY_MODEL_7042b64b78fd4ee1a447048f65e1a497",
        "IPY_MODEL_dac4cb8ee8fd4707922c8af326a7e5a0",
        "IPY_MODEL_d6510215e90043b995d55a2d42d3809b",
        "IPY_MODEL_dba33f78a695404586587d60b0d36837",
        "IPY_MODEL_6d8a49d4d0d1409685cd41c51581b2f7",
        "IPY_MODEL_4d9a46ed2beb4f2bbca97f90e7628b5d",
        "IPY_MODEL_6cd884a02cea49a7b884d8cc2ce1fba5",
        "IPY_MODEL_13e117e440bf42c6b4e9c822bafc8d0e",
        "IPY_MODEL_b84463b9e6bc409abee609cd58f46842",
        "IPY_MODEL_dc270e9b1dd34799af3ed61f8c32067e",
        "IPY_MODEL_23128cec650a484da330d4f03254a328",
        "IPY_MODEL_862b6050b0c64b9bbab08474ce230f1f",
        "IPY_MODEL_add07b5de9b0445190627441b786e69d",
        "IPY_MODEL_88dcd70985394e64a64f3b6d38c4cd78",
        "IPY_MODEL_f8863a571d3045db9e0d7d218b4dc7e0",
        "IPY_MODEL_a30d3c4693634bfbb526e7b11f3bf5dc",
        "IPY_MODEL_67dfac670eab44ba878d568f38b3cb5c",
        "IPY_MODEL_cab76f720f66440da0c48dbfa1c59a82"
       ],
       "layout": "IPY_MODEL_83142cef8def4006a885559f456826a2"
      }
     },
     "7f291b69182248c1b92be52bca39549c": {
      "model_module": "@jupyter-widgets/base",
      "model_module_version": "1.2.0",
      "model_name": "LayoutModel",
      "state": {}
     },
     "7f3f378650c84101b9e87803109ab4b1": {
      "model_module": "@jupyter-widgets/base",
      "model_module_version": "1.2.0",
      "model_name": "LayoutModel",
      "state": {
       "width": "fit-content"
      }
     },
     "7f581f95788f45919ebd5222e1987b56": {
      "model_module": "@jupyter-widgets/base",
      "model_module_version": "1.2.0",
      "model_name": "LayoutModel",
      "state": {
       "grid_area": "widget011"
      }
     },
     "7f68992681a04526940df53bb383aa1b": {
      "model_module": "@jupyter-widgets/base",
      "model_module_version": "1.2.0",
      "model_name": "LayoutModel",
      "state": {}
     },
     "7f6bfe5a319a420abc1e10eb98d764eb": {
      "model_module": "@jupyter-widgets/base",
      "model_module_version": "1.2.0",
      "model_name": "LayoutModel",
      "state": {
       "grid_area": "widget005"
      }
     },
     "7fdeab13e70e44b38c706affbb6b9d39": {
      "model_module": "@jupyter-widgets/base",
      "model_module_version": "1.2.0",
      "model_name": "LayoutModel",
      "state": {
       "grid_area": "widget004"
      }
     },
     "803c2161bd0a46ad846a8407a4d93f8a": {
      "model_module": "@jupyter-widgets/controls",
      "model_module_version": "1.5.0",
      "model_name": "DescriptionStyleModel",
      "state": {
       "description_width": ""
      }
     },
     "8059d5a342bb4734be925ae0ab355b0d": {
      "model_module": "@jupyter-widgets/base",
      "model_module_version": "1.2.0",
      "model_name": "LayoutModel",
      "state": {
       "grid_area": "widget008"
      }
     },
     "8077c4e945154b04a42dbc0dd48f1b85": {
      "model_module": "@jupyter-widgets/controls",
      "model_module_version": "1.5.0",
      "model_name": "DescriptionStyleModel",
      "state": {
       "description_width": ""
      }
     },
     "80cc30f8b2a944deb70cc661bef350fc": {
      "model_module": "@jupyter-widgets/controls",
      "model_module_version": "1.5.0",
      "model_name": "HTMLModel",
      "state": {
       "layout": "IPY_MODEL_44b2baffde024672afa1962e77888a8b",
       "style": "IPY_MODEL_70f5f6b6b86c4e45aae4497b181c8511",
       "value": "0.0%"
      }
     },
     "8165997138d34569a5f9d0035fe7d928": {
      "model_module": "@jupyter-widgets/controls",
      "model_module_version": "1.5.0",
      "model_name": "VBoxModel",
      "state": {
       "children": [
        "IPY_MODEL_5036e4a3fcc549d0bf53def363cf0897",
        "IPY_MODEL_652198c648294ebcbc7865ea653532cf"
       ],
       "layout": "IPY_MODEL_9ce279bb57fe4a008ea3de8062c91ed7"
      }
     },
     "81833034e33543279f39bece78d4f8c6": {
      "model_module": "@jupyter-widgets/controls",
      "model_module_version": "1.5.0",
      "model_name": "ButtonStyleModel",
      "state": {}
     },
     "818abd9edd4e416686aba42a5109db2b": {
      "model_module": "@jupyter-widgets/base",
      "model_module_version": "1.2.0",
      "model_name": "LayoutModel",
      "state": {
       "grid_area": "widget017"
      }
     },
     "81a40ed557554ae1935b9f06e71d4e81": {
      "model_module": "@jupyter-widgets/base",
      "model_module_version": "1.2.0",
      "model_name": "LayoutModel",
      "state": {}
     },
     "81bb1c6f8f3546348449fbc75194bdca": {
      "model_module": "@jupyter-widgets/controls",
      "model_module_version": "1.5.0",
      "model_name": "LabelModel",
      "state": {
       "layout": "IPY_MODEL_eccf2dfd5b32447e8ad89c5c164c6dc5",
       "style": "IPY_MODEL_af2b6c892c444a10b26ec73fd3604bc3",
       "value": "-0.0272687101379228"
      }
     },
     "81f4eebdc2ea4c56a09bda99335b6373": {
      "model_module": "@jupyter-widgets/base",
      "model_module_version": "1.2.0",
      "model_name": "LayoutModel",
      "state": {}
     },
     "820a69eba75b46e9a9891ddd4b3a0ec4": {
      "model_module": "@jupyter-widgets/controls",
      "model_module_version": "1.5.0",
      "model_name": "VBoxModel",
      "state": {
       "children": [
        "IPY_MODEL_9d8133649ef142f19c6933d1dc174148",
        "IPY_MODEL_0b1a1378f7844169b4b996c6fe886608"
       ],
       "layout": "IPY_MODEL_bfdfea4ff1004685891f3d546e619b8d"
      }
     },
     "8242d7ceb97a4734be5df26a5bb83379": {
      "model_module": "@jupyter-widgets/controls",
      "model_module_version": "1.5.0",
      "model_name": "DescriptionStyleModel",
      "state": {
       "description_width": ""
      }
     },
     "8244bb98c480470bb46ae4536a7ed114": {
      "model_module": "@jupyter-widgets/controls",
      "model_module_version": "1.5.0",
      "model_name": "LabelModel",
      "state": {
       "layout": "IPY_MODEL_c92ed5c665404d68a86004c495e81baa",
       "style": "IPY_MODEL_1aad7b63afe94b3b8f8950d13100a285",
       "value": "1.5669919865182924"
      }
     },
     "827a19fc5af44a7892f41b2ab6e23b00": {
      "model_module": "@jupyter-widgets/controls",
      "model_module_version": "1.5.0",
      "model_name": "HTMLModel",
      "state": {
       "layout": "IPY_MODEL_a8c3cbd1b380489bbb3af5bcb40d61e6",
       "style": "IPY_MODEL_aa530a00cfbb4ed9bb1787e50e17b840",
       "value": "Numeric"
      }
     },
     "82b933435bb642308c170c5205860b40": {
      "model_module": "@jupyter-widgets/base",
      "model_module_version": "1.2.0",
      "model_name": "LayoutModel",
      "state": {
       "grid_area": "widget006"
      }
     },
     "82bdda7497f6441cae014abe4c60896e": {
      "model_module": "@jupyter-widgets/controls",
      "model_module_version": "1.5.0",
      "model_name": "LabelModel",
      "state": {
       "layout": "IPY_MODEL_5c05f726c46640afb6fbeba23f0d0060",
       "style": "IPY_MODEL_f5221f854d1243ae88aff97ed96ee6d3",
       "value": "1"
      }
     },
     "82cce939c90e427892a770da599939b3": {
      "model_module": "@jupyter-widgets/base",
      "model_module_version": "1.2.0",
      "model_name": "LayoutModel",
      "state": {
       "grid_area": "widget017"
      }
     },
     "83142cef8def4006a885559f456826a2": {
      "model_module": "@jupyter-widgets/base",
      "model_module_version": "1.2.0",
      "model_name": "LayoutModel",
      "state": {
       "grid_template_areas": "\"widget001 widget002 widget003\"\n\"widget004 widget005 widget006\"\n\"widget007 widget008 widget009\"\n\"widget010 widget011 widget012\"\n\"widget013 widget014 widget015\"\n\"widget016 widget017 widget018\"",
       "grid_template_columns": "repeat(3, 1fr)",
       "grid_template_rows": "repeat(6, 1fr)"
      }
     },
     "831ae8a6e2fc47449c4b28d1585e9b91": {
      "model_module": "@jupyter-widgets/controls",
      "model_module_version": "1.5.0",
      "model_name": "HTMLModel",
      "state": {
       "layout": "IPY_MODEL_785260ae42404724a53ea0806b7e2efd",
       "style": "IPY_MODEL_e4bf02f08f6c494a8fcc68161ae34aac",
       "value": "184.0 B"
      }
     },
     "8335d5c1a9d949f884229acb5da3797a": {
      "model_module": "@jupyter-widgets/controls",
      "model_module_version": "1.5.0",
      "model_name": "VBoxModel",
      "state": {
       "children": [
        "IPY_MODEL_f3b415d8133842038168379b09fe84b6",
        "IPY_MODEL_b443326f72a948e5a84eb254f13c1aa6"
       ],
       "layout": "IPY_MODEL_7f291b69182248c1b92be52bca39549c"
      }
     },
     "834bffd1c34141c4b8077aec6e0226b8": {
      "model_module": "@jupyter-widgets/base",
      "model_module_version": "1.2.0",
      "model_name": "LayoutModel",
      "state": {
       "grid_template_areas": "\"widget001 widget002\"\n\"widget003 widget004\"\n\"widget005 widget006\"\n\"widget007 widget008\"\n\"widget009 widget010\"\n\"widget011 widget012\"\n\"widget013 widget014\"",
       "grid_template_columns": "repeat(2, 1fr)",
       "grid_template_rows": "repeat(7, 1fr)"
      }
     },
     "835ec2974789436a9b25181e50692af5": {
      "model_module": "@jupyter-widgets/controls",
      "model_module_version": "1.5.0",
      "model_name": "LabelModel",
      "state": {
       "layout": "IPY_MODEL_60e4d1ca7e73474f9c7608df9faa6c9b",
       "style": "IPY_MODEL_58dfad78404b4c7a9d9afd68c3b11593",
       "value": "1"
      }
     },
     "837522fc8f6448a7ae920e76e097b490": {
      "model_module": "@jupyter-widgets/controls",
      "model_module_version": "1.5.0",
      "model_name": "DescriptionStyleModel",
      "state": {
       "description_width": ""
      }
     },
     "837a39cff8b340e3a3a4602553bcb10f": {
      "model_module": "@jupyter-widgets/base",
      "model_module_version": "1.2.0",
      "model_name": "LayoutModel",
      "state": {
       "grid_template_areas": "\"widget001 widget002 widget003\"\n\"widget004 widget005 widget006\"\n\"widget007 widget008 widget009\"\n\"widget010 widget011 widget012\"\n\"widget013 widget014 widget015\"\n\"widget016 widget017 widget018\"",
       "grid_template_columns": "repeat(3, 1fr)",
       "grid_template_rows": "repeat(6, 1fr)"
      }
     },
     "8386ddde250e4d808eec17de60dc38d2": {
      "model_module": "@jupyter-widgets/controls",
      "model_module_version": "1.5.0",
      "model_name": "DescriptionStyleModel",
      "state": {
       "description_width": ""
      }
     },
     "83912b1c7d564bd6a517a45cb19a14f7": {
      "model_module": "@jupyter-widgets/controls",
      "model_module_version": "1.5.0",
      "model_name": "ButtonModel",
      "state": {
       "button_style": "danger",
       "description": "Unique",
       "disabled": true,
       "layout": "IPY_MODEL_ebae9aa11d0e4385b5bdeff6ef772a37",
       "style": "IPY_MODEL_d689796841e64530bc31cdadf6183e70"
      }
     },
     "8406d3abbdb54370bcbf52d5832bc94a": {
      "model_module": "@jupyter-widgets/controls",
      "model_module_version": "1.5.0",
      "model_name": "VBoxModel",
      "state": {
       "children": [
        "IPY_MODEL_09c30239f8be4ab0b28c2ca91f99770e"
       ],
       "layout": "IPY_MODEL_17e03c0c76b94dd9ba8dd005d28810e1"
      }
     },
     "8417269ca68c49d887f8bb86e2f5f281": {
      "model_module": "@jupyter-widgets/controls",
      "model_module_version": "1.5.0",
      "model_name": "LabelModel",
      "state": {
       "layout": "IPY_MODEL_dcaabb8f2b0d4f1abaa6eafb44510f53",
       "style": "IPY_MODEL_c9573155f967492d98468501488907df",
       "value": "1"
      }
     },
     "84480a70c2bb403daa2ab7312c65df35": {
      "model_module": "@jupyter-widgets/base",
      "model_module_version": "1.2.0",
      "model_name": "LayoutModel",
      "state": {
       "grid_area": "widget007"
      }
     },
     "849357ada10c413a88fed2710d436268": {
      "model_module": "@jupyter-widgets/base",
      "model_module_version": "1.2.0",
      "model_name": "LayoutModel",
      "state": {}
     },
     "84a4484ef4a64884b61ae64a1c341634": {
      "model_module": "@jupyter-widgets/controls",
      "model_module_version": "1.5.0",
      "model_name": "DescriptionStyleModel",
      "state": {
       "description_width": ""
      }
     },
     "84c1511957cd4aa2acd51a8dc23e47c3": {
      "model_module": "@jupyter-widgets/base",
      "model_module_version": "1.2.0",
      "model_name": "LayoutModel",
      "state": {}
     },
     "84d3583058fc4482b34dd6b211c36788": {
      "model_module": "@jupyter-widgets/base",
      "model_module_version": "1.2.0",
      "model_name": "LayoutModel",
      "state": {}
     },
     "850d2124dc794e5abe4815268cc97ef9": {
      "model_module": "@jupyter-widgets/base",
      "model_module_version": "1.2.0",
      "model_name": "LayoutModel",
      "state": {
       "grid_area": "widget008"
      }
     },
     "852c94f0d04f4eb196ee11735b126ca3": {
      "model_module": "@jupyter-widgets/controls",
      "model_module_version": "1.5.0",
      "model_name": "LabelModel",
      "state": {
       "layout": "IPY_MODEL_1c78f923ee9e45b8ae97208beba947c6",
       "style": "IPY_MODEL_c3c8dd0ac2bd4436b44e330f00244a20",
       "value": "1"
      }
     },
     "85336a21c26c4c50a96010ddd1c0f82f": {
      "model_module": "@jupyter-widgets/controls",
      "model_module_version": "1.5.0",
      "model_name": "GridBoxModel",
      "state": {
       "children": [
        "IPY_MODEL_2fe54160b0d54189a4d3ac3ca1f96732",
        "IPY_MODEL_2d69db6f68ce4229be31b449454d71d2",
        "IPY_MODEL_28cb08a87b914d5eba4206ce03740eab",
        "IPY_MODEL_0f850d079f124989be5c98e519fd1ce5",
        "IPY_MODEL_b09bf3feab70479b9efaeaac77efb5be",
        "IPY_MODEL_199f81208949436da3846dcaa6202837",
        "IPY_MODEL_3f1e453ba6b24d09921d6a4e4447ea90",
        "IPY_MODEL_78e524e546464e32bfbe4a24cd258a9a",
        "IPY_MODEL_04998a64cceb4fe1af8361e79719f5ba",
        "IPY_MODEL_a19d1b48098f4e069c1c56cc6f1007d0",
        "IPY_MODEL_d06a8058a10442e498b82c7cf6a9628e",
        "IPY_MODEL_24bd309418304481b2febb50bfe6dd78",
        "IPY_MODEL_5b6c22a68d9f4f96b0fba90fe4b22b68",
        "IPY_MODEL_0991c51ecebc436986ee0b25f31cb83b",
        "IPY_MODEL_b4e54f7c34f745d18f8b5b1886bfceb5",
        "IPY_MODEL_83912b1c7d564bd6a517a45cb19a14f7"
       ],
       "layout": "IPY_MODEL_95b825c9ea584d4eb76985637742db6f"
      }
     },
     "855069496a884804a721343de8308a2a": {
      "model_module": "@jupyter-widgets/base",
      "model_module_version": "1.2.0",
      "model_name": "LayoutModel",
      "state": {
       "grid_area": "widget014"
      }
     },
     "855d484dc6bb48c19135d777bcd4a623": {
      "model_module": "@jupyter-widgets/controls",
      "model_module_version": "1.5.0",
      "model_name": "DescriptionStyleModel",
      "state": {
       "description_width": ""
      }
     },
     "8565c04b3c2848c385c7056bb4a1f989": {
      "model_module": "@jupyter-widgets/base",
      "model_module_version": "1.2.0",
      "model_name": "LayoutModel",
      "state": {
       "grid_area": "widget011"
      }
     },
     "85750b7b10494ec3a46f2bd1f57c0c2b": {
      "model_module": "@jupyter-widgets/controls",
      "model_module_version": "1.5.0",
      "model_name": "HTMLModel",
      "state": {
       "layout": "IPY_MODEL_c709daff93f74cfea6228cee18862801",
       "style": "IPY_MODEL_8077c4e945154b04a42dbc0dd48f1b85",
       "value": "Distinct"
      }
     },
     "85859b5f7c9c4221bcb69cb5021a816a": {
      "model_module": "@jupyter-widgets/controls",
      "model_module_version": "1.5.0",
      "model_name": "DescriptionStyleModel",
      "state": {
       "description_width": ""
      }
     },
     "85f37bf3c8d1437ab888dff5075f9d45": {
      "model_module": "@jupyter-widgets/controls",
      "model_module_version": "1.5.0",
      "model_name": "HTMLModel",
      "state": {
       "layout": "IPY_MODEL_82b933435bb642308c170c5205860b40",
       "style": "IPY_MODEL_cb6e3fbedab14011b47627140c68cb3a",
       "value": "-2.503458244"
      }
     },
     "862b52f4e5dc4c2dad088d9e1187efbb": {
      "model_module": "@jupyter-widgets/base",
      "model_module_version": "1.2.0",
      "model_name": "LayoutModel",
      "state": {
       "grid_area": "widget003"
      }
     },
     "862b6050b0c64b9bbab08474ce230f1f": {
      "model_module": "@jupyter-widgets/controls",
      "model_module_version": "1.5.0",
      "model_name": "LabelModel",
      "state": {
       "layout": "IPY_MODEL_c00a4c4dd53041669f15c800498d0de9",
       "style": "IPY_MODEL_37218bb93b6647aeab18022d797e839b",
       "value": "1"
      }
     },
     "866cfbdc82064dd38db963c333c580de": {
      "model_module": "@jupyter-widgets/base",
      "model_module_version": "1.2.0",
      "model_name": "LayoutModel",
      "state": {}
     },
     "86a570e1fbad4813be1e839d78b6fe1f": {
      "model_module": "@jupyter-widgets/base",
      "model_module_version": "1.2.0",
      "model_name": "LayoutModel",
      "state": {
       "grid_area": "widget003"
      }
     },
     "86e5e931d06a4605adcfc7392c68cc3f": {
      "model_module": "@jupyter-widgets/controls",
      "model_module_version": "1.5.0",
      "model_name": "DescriptionStyleModel",
      "state": {
       "description_width": ""
      }
     },
     "86ebdd527713429fb4c1a3027252aeb8": {
      "model_module": "@jupyter-widgets/controls",
      "model_module_version": "1.5.0",
      "model_name": "LabelModel",
      "state": {
       "layout": "IPY_MODEL_b8accb2700e240edbbbb9be6da6ed2d9",
       "style": "IPY_MODEL_d6b07a1454694d3e9d0581ff0fb1010e",
       "value": "-1.2864397249060768"
      }
     },
     "86f970ff0f1441e08f25dd76f9492335": {
      "model_module": "@jupyter-widgets/controls",
      "model_module_version": "1.5.0",
      "model_name": "HTMLModel",
      "state": {
       "layout": "IPY_MODEL_89847cf0f5c248ed80d6f16c15025e4d",
       "style": "IPY_MODEL_4101563e8098452db879a04d0ab92082",
       "value": "Kurtosis"
      }
     },
     "871deb6597fa44cdb997882862a8bc96": {
      "model_module": "@jupyter-widgets/base",
      "model_module_version": "1.2.0",
      "model_name": "LayoutModel",
      "state": {
       "grid_area": "widget006"
      }
     },
     "872ef0d533da421082e4e048928fb05e": {
      "model_module": "@jupyter-widgets/controls",
      "model_module_version": "1.5.0",
      "model_name": "HTMLModel",
      "state": {
       "layout": "IPY_MODEL_02e946563a2340918d583bc80431fc46",
       "style": "IPY_MODEL_9500df6874c84c3c970e6ecffa084180",
       "value": "Q3"
      }
     },
     "873f5262e72649b2abef5e182bfb0693": {
      "model_module": "@jupyter-widgets/controls",
      "model_module_version": "1.5.0",
      "model_name": "DescriptionStyleModel",
      "state": {
       "description_width": ""
      }
     },
     "874358dcbd1848cdb45df107649744c7": {
      "model_module": "@jupyter-widgets/controls",
      "model_module_version": "1.5.0",
      "model_name": "DescriptionStyleModel",
      "state": {
       "description_width": ""
      }
     },
     "8780a160c72a4a23a9cbe49c00b2f603": {
      "model_module": "@jupyter-widgets/controls",
      "model_module_version": "1.5.0",
      "model_name": "ProgressStyleModel",
      "state": {
       "description_width": ""
      }
     },
     "8788aea6924d4e46979f9790d185f507": {
      "model_module": "@jupyter-widgets/base",
      "model_module_version": "1.2.0",
      "model_name": "LayoutModel",
      "state": {}
     },
     "87a5832f711b4f4c89ffa5466e4647a8": {
      "model_module": "@jupyter-widgets/controls",
      "model_module_version": "1.5.0",
      "model_name": "FloatProgressModel",
      "state": {
       "bar_style": "danger",
       "layout": "IPY_MODEL_6bd552eb97444330a141a6289e0fd1ee",
       "max": 7,
       "style": "IPY_MODEL_42831e3633b5468381a409d1b1b83464",
       "value": 1
      }
     },
     "87ed84ec669f4491be2a1c00cfa8536b": {
      "model_module": "@jupyter-widgets/base",
      "model_module_version": "1.2.0",
      "model_name": "LayoutModel",
      "state": {
       "grid_area": "widget004"
      }
     },
     "88451a50ee7d4e4b8a5cadc2fe5d3599": {
      "model_module": "@jupyter-widgets/controls",
      "model_module_version": "1.5.0",
      "model_name": "ProgressStyleModel",
      "state": {
       "description_width": ""
      }
     },
     "88a1812eac8b4bc28ada946314be8637": {
      "model_module": "@jupyter-widgets/controls",
      "model_module_version": "1.5.0",
      "model_name": "GridBoxModel",
      "state": {
       "children": [
        "IPY_MODEL_31aea782f6324cbabd1a2e037aaad246",
        "IPY_MODEL_d6cc03885ddf4f5f90c8974bac30d568"
       ],
       "layout": "IPY_MODEL_27db61abdcfe4c03be19d2b10f304b19"
      }
     },
     "88dcd70985394e64a64f3b6d38c4cd78": {
      "model_module": "@jupyter-widgets/controls",
      "model_module_version": "1.5.0",
      "model_name": "FloatProgressModel",
      "state": {
       "layout": "IPY_MODEL_d81bad86c165445dae772df6e4b4fde5",
       "max": 7,
       "style": "IPY_MODEL_2ae1073e22884001b77b03c0ccc668db",
       "value": 1
      }
     },
     "892f6f23b40342bc87c83608cb06f229": {
      "model_module": "@jupyter-widgets/controls",
      "model_module_version": "1.5.0",
      "model_name": "HTMLModel",
      "state": {
       "layout": "IPY_MODEL_cf0c03c5366146c386c6660d2648a1d0",
       "style": "IPY_MODEL_e7035a1d3b8c47cdb26c77fa9b15f724",
       "value": "<a download=\"config.json\" href=\"data:text/plain;charset=utf-8,%7B%22title%22%3A%20%22Pandas%20Profiling%20Report%22%2C%20%22dataset%22%3A%20%7B%22description%22%3A%20%22%22%2C%20%22creator%22%3A%20%22%22%2C%20%22author%22%3A%20%22%22%2C%20%22copyright_holder%22%3A%20%22%22%2C%20%22copyright_year%22%3A%20%22%22%2C%20%22url%22%3A%20%22%22%7D%2C%20%22variables%22%3A%20%7B%22descriptions%22%3A%20%7B%7D%7D%2C%20%22infer_dtypes%22%3A%20true%2C%20%22show_variable_description%22%3A%20true%2C%20%22pool_size%22%3A%200%2C%20%22progress_bar%22%3A%20true%2C%20%22vars%22%3A%20%7B%22num%22%3A%20%7B%22quantiles%22%3A%20%5B0.05%2C%200.25%2C%200.5%2C%200.75%2C%200.95%5D%2C%20%22skewness_threshold%22%3A%2020%2C%20%22low_categorical_threshold%22%3A%205%2C%20%22chi_squared_threshold%22%3A%200.999%7D%2C%20%22cat%22%3A%20%7B%22length%22%3A%20true%2C%20%22characters%22%3A%20true%2C%20%22words%22%3A%20true%2C%20%22cardinality_threshold%22%3A%2050%2C%20%22n_obs%22%3A%205%2C%20%22chi_squared_threshold%22%3A%200.999%2C%20%22coerce_str_to_date%22%3A%20false%2C%20%22redact%22%3A%20false%2C%20%22histogram_largest%22%3A%2050%2C%20%22stop_words%22%3A%20%5B%5D%7D%2C%20%22image%22%3A%20%7B%22active%22%3A%20false%2C%20%22exif%22%3A%20true%2C%20%22hash%22%3A%20true%7D%2C%20%22bool%22%3A%20%7B%22n_obs%22%3A%203%2C%20%22mappings%22%3A%20%7B%22t%22%3A%20true%2C%20%22f%22%3A%20false%2C%20%22yes%22%3A%20true%2C%20%22no%22%3A%20false%2C%20%22y%22%3A%20true%2C%20%22n%22%3A%20false%2C%20%22true%22%3A%20true%2C%20%22false%22%3A%20false%7D%7D%2C%20%22path%22%3A%20%7B%22active%22%3A%20false%7D%2C%20%22file%22%3A%20%7B%22active%22%3A%20false%7D%2C%20%22url%22%3A%20%7B%22active%22%3A%20false%7D%2C%20%22timeseries%22%3A%20%7B%22active%22%3A%20false%2C%20%22sortby%22%3A%20null%2C%20%22autocorrelation%22%3A%200.7%2C%20%22lags%22%3A%20%5B1%2C%207%2C%2012%2C%2024%2C%2030%5D%2C%20%22significance%22%3A%200.05%2C%20%22pacf_acf_lag%22%3A%20100%7D%7D%2C%20%22sort%22%3A%20null%2C%20%22missing_diagrams%22%3A%20%7B%22bar%22%3A%20true%2C%20%22matrix%22%3A%20true%2C%20%22dendrogram%22%3A%20true%2C%20%22heatmap%22%3A%20true%7D%2C%20%22correlations%22%3A%20%7B%22spearman%22%3A%20%7B%22key%22%3A%20%22spearman%22%2C%20%22calculate%22%3A%20true%2C%20%22warn_high_correlations%22%3A%2010%2C%20%22threshold%22%3A%200.5%7D%2C%20%22pearson%22%3A%20%7B%22key%22%3A%20%22pearson%22%2C%20%22calculate%22%3A%20true%2C%20%22warn_high_correlations%22%3A%2010%2C%20%22threshold%22%3A%200.5%7D%2C%20%22kendall%22%3A%20%7B%22key%22%3A%20%22kendall%22%2C%20%22calculate%22%3A%20true%2C%20%22warn_high_correlations%22%3A%2010%2C%20%22threshold%22%3A%200.5%7D%2C%20%22cramers%22%3A%20%7B%22key%22%3A%20%22cramers%22%2C%20%22calculate%22%3A%20true%2C%20%22warn_high_correlations%22%3A%2010%2C%20%22threshold%22%3A%200.5%7D%2C%20%22phi_k%22%3A%20%7B%22key%22%3A%20%22phi_k%22%2C%20%22calculate%22%3A%20true%2C%20%22warn_high_correlations%22%3A%2010%2C%20%22threshold%22%3A%200.5%7D%7D%2C%20%22interactions%22%3A%20%7B%22continuous%22%3A%20true%2C%20%22targets%22%3A%20%5B%5D%7D%2C%20%22categorical_maximum_correlation_distinct%22%3A%20100%2C%20%22memory_deep%22%3A%20false%2C%20%22plot%22%3A%20%7B%22missing%22%3A%20%7B%22force_labels%22%3A%20true%2C%20%22cmap%22%3A%20%22RdBu%22%7D%2C%20%22image_format%22%3A%20%22svg%22%2C%20%22correlation%22%3A%20%7B%22cmap%22%3A%20%22RdBu%22%2C%20%22bad%22%3A%20%22%23000000%22%7D%2C%20%22dpi%22%3A%20800%2C%20%22histogram%22%3A%20%7B%22bins%22%3A%2050%2C%20%22max_bins%22%3A%20250%2C%20%22x_axis_labels%22%3A%20true%7D%2C%20%22scatter_threshold%22%3A%201000%2C%20%22cat_freq%22%3A%20%7B%22show%22%3A%20true%2C%20%22type%22%3A%20%22bar%22%2C%20%22max_unique%22%3A%2010%2C%20%22colors%22%3A%20null%7D%7D%2C%20%22duplicates%22%3A%20%7B%22head%22%3A%2010%2C%20%22key%22%3A%20%22%23%20duplicates%22%7D%2C%20%22samples%22%3A%20%7B%22head%22%3A%2010%2C%20%22tail%22%3A%2010%2C%20%22random%22%3A%200%7D%2C%20%22reject_variables%22%3A%20true%2C%20%22n_obs_unique%22%3A%2010%2C%20%22n_freq_table_max%22%3A%2010%2C%20%22n_extreme_obs%22%3A%2010%2C%20%22report%22%3A%20%7B%22precision%22%3A%2010%7D%2C%20%22html%22%3A%20%7B%22style%22%3A%20%7B%22primary_color%22%3A%20%22%23337ab7%22%2C%20%22logo%22%3A%20%22%22%2C%20%22theme%22%3A%20null%7D%2C%20%22navbar_show%22%3A%20true%2C%20%22minify_html%22%3A%20true%2C%20%22use_local_assets%22%3A%20true%2C%20%22inline%22%3A%20true%2C%20%22assets_prefix%22%3A%20null%2C%20%22assets_path%22%3A%20null%2C%20%22full_width%22%3A%20false%7D%2C%20%22notebook%22%3A%20%7B%22iframe%22%3A%20%7B%22height%22%3A%20%22800px%22%2C%20%22width%22%3A%20%22100%25%22%2C%20%22attribute%22%3A%20%22srcdoc%22%7D%7D%7D\">config.json</a>"
      }
     },
     "8935d11cffcb41d7bc9ae4c7d0ed8ab2": {
      "model_module": "@jupyter-widgets/controls",
      "model_module_version": "1.5.0",
      "model_name": "DescriptionStyleModel",
      "state": {
       "description_width": ""
      }
     },
     "89847cf0f5c248ed80d6f16c15025e4d": {
      "model_module": "@jupyter-widgets/base",
      "model_module_version": "1.2.0",
      "model_name": "LayoutModel",
      "state": {
       "grid_area": "widget005"
      }
     },
     "8992926742ba4993a0226d856f46bdba": {
      "model_module": "@jupyter-widgets/controls",
      "model_module_version": "1.5.0",
      "model_name": "DescriptionStyleModel",
      "state": {
       "description_width": ""
      }
     },
     "89a7ae3ec5bb474cbbd141c6a0eb7b82": {
      "model_module": "@jupyter-widgets/controls",
      "model_module_version": "1.5.0",
      "model_name": "VBoxModel",
      "state": {
       "children": [
        "IPY_MODEL_0e6340f7d2bb4ff4a16a753f1104c5a6"
       ],
       "layout": "IPY_MODEL_e82a388b6adb40edb098020362ac11ab"
      }
     },
     "89b0d8038b1e4856a607b8ec8d8e874a": {
      "model_module": "@jupyter-widgets/controls",
      "model_module_version": "1.5.0",
      "model_name": "DescriptionStyleModel",
      "state": {
       "description_width": ""
      }
     },
     "89b9fc6ec3fe40a086ab5add0cd1eba4": {
      "model_module": "@jupyter-widgets/controls",
      "model_module_version": "1.5.0",
      "model_name": "DescriptionStyleModel",
      "state": {
       "description_width": ""
      }
     },
     "8a64e817c25d46c49ece1ebb9c2326d2": {
      "model_module": "@jupyter-widgets/base",
      "model_module_version": "1.2.0",
      "model_name": "LayoutModel",
      "state": {
       "grid_area": "widget011"
      }
     },
     "8ac67b26d9544a6c9d488a46b32cbfd6": {
      "model_module": "@jupyter-widgets/base",
      "model_module_version": "1.2.0",
      "model_name": "LayoutModel",
      "state": {
       "grid_area": "widget006"
      }
     },
     "8aec72d310ac48fbb3266e4890ef9ceb": {
      "model_module": "@jupyter-widgets/controls",
      "model_module_version": "1.5.0",
      "model_name": "HTMLModel",
      "state": {
       "layout": "IPY_MODEL_3357b43f4da44bd28853bbfc8f1e0baa",
       "style": "IPY_MODEL_471b055b52b747b486891aada37fba92",
       "value": "Negative (%)"
      }
     },
     "8b4c946d38254cc988aaa77c2c14c227": {
      "model_module": "@jupyter-widgets/controls",
      "model_module_version": "1.5.0",
      "model_name": "DescriptionStyleModel",
      "state": {
       "description_width": ""
      }
     },
     "8b7e8aa22daa434a9afd9a8c268e80fd": {
      "model_module": "@jupyter-widgets/base",
      "model_module_version": "1.2.0",
      "model_name": "LayoutModel",
      "state": {
       "grid_area": "widget006"
      }
     },
     "8b9b404b34d244c7abec07ba2cb110ac": {
      "model_module": "@jupyter-widgets/controls",
      "model_module_version": "1.5.0",
      "model_name": "ProgressStyleModel",
      "state": {
       "description_width": ""
      }
     },
     "8bacba0d52a546a8ad0704f127a89546": {
      "model_module": "@jupyter-widgets/base",
      "model_module_version": "1.2.0",
      "model_name": "LayoutModel",
      "state": {
       "grid_area": "widget012"
      }
     },
     "8bacd9d7da1f43899f5049d0e1686435": {
      "model_module": "@jupyter-widgets/controls",
      "model_module_version": "1.5.0",
      "model_name": "ToggleButtonModel",
      "state": {
       "description": "Toggle details",
       "layout": "IPY_MODEL_7f3f378650c84101b9e87803109ab4b1",
       "style": "IPY_MODEL_5dca6d9cb44c438cba954f505cf0fc80"
      }
     },
     "8bb05c7a206244f3960c4dff22925288": {
      "model_module": "@jupyter-widgets/base",
      "model_module_version": "1.2.0",
      "model_name": "LayoutModel",
      "state": {}
     },
     "8bc8d43a97ef4d1caf8c55b12098d9d3": {
      "model_module": "@jupyter-widgets/base",
      "model_module_version": "1.2.0",
      "model_name": "LayoutModel",
      "state": {}
     },
     "8be0a61dee474038b5e30d2da0dfbd30": {
      "model_module": "@jupyter-widgets/base",
      "model_module_version": "1.2.0",
      "model_name": "LayoutModel",
      "state": {
       "display": "none"
      }
     },
     "8c218d5625c141a1b144686177e271e6": {
      "model_module": "@jupyter-widgets/base",
      "model_module_version": "1.2.0",
      "model_name": "LayoutModel",
      "state": {
       "grid_area": "widget009"
      }
     },
     "8c273cc0522f43d88cbb2a609b6fca64": {
      "model_module": "@jupyter-widgets/controls",
      "model_module_version": "1.5.0",
      "model_name": "HTMLModel",
      "state": {
       "layout": "IPY_MODEL_62601a825d984454a46eff8f989a5657",
       "style": "IPY_MODEL_5622386a76c44f9196ba3088c8241ff9",
       "value": "<?xml version=\"1.0\" encoding=\"utf-8\" standalone=\"no\"?>\n<!DOCTYPE svg style=\"max-width: 100%\" PUBLIC \"-//W3C//DTD SVG 1.1//EN\"\n  \"http://www.w3.org/Graphics/SVG/1.1/DTD/svg11.dtd\">\n<svg style=\"max-width: 100%\"  version=\"1.1\" viewBox=\"0 0 216 162\" width=\"216pt\" xmlns=\"http://www.w3.org/2000/svg\" xmlns:xlink=\"http://www.w3.org/1999/xlink\">\n <metadata>\n  <rdf:RDF xmlns:cc=\"http://creativecommons.org/ns#\" xmlns:dc=\"http://purl.org/dc/elements/1.1/\" xmlns:rdf=\"http://www.w3.org/1999/02/22-rdf-syntax-ns#\">\n   <cc:Work>\n    <dc:type rdf:resource=\"http://purl.org/dc/dcmitype/StillImage\"/>\n    <dc:date>2022-10-01T17:17:59.295222</dc:date>\n    <dc:format>image/svg+xml</dc:format>\n    <dc:creator>\n     <cc:Agent>\n      <dc:title>Matplotlib v3.4.3, https://matplotlib.org/</dc:title>\n     </cc:Agent>\n    </dc:creator>\n   </cc:Work>\n  </rdf:RDF>\n </metadata>\n <defs>\n  <style type=\"text/css\">*{stroke-linecap:butt;stroke-linejoin:round;}</style>\n </defs>\n <g id=\"figure_1\">\n  <g id=\"patch_1\">\n   <path d=\"M 0 162 \nL 216 162 \nL 216 0 \nL 0 0 \nz\n\" style=\"fill:#ffffff;\"/>\n  </g>\n  <g id=\"axes_1\">\n   <g id=\"patch_2\">\n    <path d=\"M 10.8 121.696505 \nL 205.2 121.696505 \nL 205.2 10.8 \nL 10.8 10.8 \nz\n\" style=\"fill:#ffffff;\"/>\n   </g>\n   <g id=\"matplotlib.axis_1\">\n    <g id=\"xtick_1\">\n     <g id=\"text_1\">\n      <!-- 0.50 -->\n      <g style=\"fill:#262626;\" transform=\"translate(20.942555 149.09017)rotate(-45)scale(0.08 -0.08)\">\n       <defs>\n        <path d=\"M 2034 4250 \nQ 1547 4250 1301 3770 \nQ 1056 3291 1056 2328 \nQ 1056 1369 1301 889 \nQ 1547 409 2034 409 \nQ 2525 409 2770 889 \nQ 3016 1369 3016 2328 \nQ 3016 3291 2770 3770 \nQ 2525 4250 2034 4250 \nz\nM 2034 4750 \nQ 2819 4750 3233 4129 \nQ 3647 3509 3647 2328 \nQ 3647 1150 3233 529 \nQ 2819 -91 2034 -91 \nQ 1250 -91 836 529 \nQ 422 1150 422 2328 \nQ 422 3509 836 4129 \nQ 1250 4750 2034 4750 \nz\n\" id=\"DejaVuSans-30\" transform=\"scale(0.015625)\"/>\n        <path d=\"M 684 794 \nL 1344 794 \nL 1344 0 \nL 684 0 \nL 684 794 \nz\n\" id=\"DejaVuSans-2e\" transform=\"scale(0.015625)\"/>\n        <path d=\"M 691 4666 \nL 3169 4666 \nL 3169 4134 \nL 1269 4134 \nL 1269 2991 \nQ 1406 3038 1543 3061 \nQ 1681 3084 1819 3084 \nQ 2600 3084 3056 2656 \nQ 3513 2228 3513 1497 \nQ 3513 744 3044 326 \nQ 2575 -91 1722 -91 \nQ 1428 -91 1123 -41 \nQ 819 9 494 109 \nL 494 744 \nQ 775 591 1075 516 \nQ 1375 441 1709 441 \nQ 2250 441 2565 725 \nQ 2881 1009 2881 1497 \nQ 2881 1984 2565 2268 \nQ 2250 2553 1709 2553 \nQ 1456 2553 1204 2497 \nQ 953 2441 691 2322 \nL 691 4666 \nz\n\" id=\"DejaVuSans-35\" transform=\"scale(0.015625)\"/>\n       </defs>\n       <use xlink:href=\"#DejaVuSans-30\"/>\n       <use x=\"63.623047\" xlink:href=\"#DejaVuSans-2e\"/>\n       <use x=\"95.410156\" xlink:href=\"#DejaVuSans-35\"/>\n       <use x=\"159.033203\" xlink:href=\"#DejaVuSans-30\"/>\n      </g>\n     </g>\n    </g>\n    <g id=\"xtick_2\">\n     <g id=\"text_2\">\n      <!-- 0.75 -->\n      <g style=\"fill:#262626;\" transform=\"translate(60.749726 149.09017)rotate(-45)scale(0.08 -0.08)\">\n       <defs>\n        <path d=\"M 525 4666 \nL 3525 4666 \nL 3525 4397 \nL 1831 0 \nL 1172 0 \nL 2766 4134 \nL 525 4134 \nL 525 4666 \nz\n\" id=\"DejaVuSans-37\" transform=\"scale(0.015625)\"/>\n       </defs>\n       <use xlink:href=\"#DejaVuSans-30\"/>\n       <use x=\"63.623047\" xlink:href=\"#DejaVuSans-2e\"/>\n       <use x=\"95.410156\" xlink:href=\"#DejaVuSans-37\"/>\n       <use x=\"159.033203\" xlink:href=\"#DejaVuSans-35\"/>\n      </g>\n     </g>\n    </g>\n    <g id=\"xtick_3\">\n     <g id=\"text_3\">\n      <!-- 1.00 -->\n      <g style=\"fill:#262626;\" transform=\"translate(100.556897 149.09017)rotate(-45)scale(0.08 -0.08)\">\n       <defs>\n        <path d=\"M 794 531 \nL 1825 531 \nL 1825 4091 \nL 703 3866 \nL 703 4441 \nL 1819 4666 \nL 2450 4666 \nL 2450 531 \nL 3481 531 \nL 3481 0 \nL 794 0 \nL 794 531 \nz\n\" id=\"DejaVuSans-31\" transform=\"scale(0.015625)\"/>\n       </defs>\n       <use xlink:href=\"#DejaVuSans-31\"/>\n       <use x=\"63.623047\" xlink:href=\"#DejaVuSans-2e\"/>\n       <use x=\"95.410156\" xlink:href=\"#DejaVuSans-30\"/>\n       <use x=\"159.033203\" xlink:href=\"#DejaVuSans-30\"/>\n      </g>\n     </g>\n    </g>\n    <g id=\"xtick_4\">\n     <g id=\"text_4\">\n      <!-- 1.25 -->\n      <g style=\"fill:#262626;\" transform=\"translate(140.364068 149.09017)rotate(-45)scale(0.08 -0.08)\">\n       <defs>\n        <path d=\"M 1228 531 \nL 3431 531 \nL 3431 0 \nL 469 0 \nL 469 531 \nQ 828 903 1448 1529 \nQ 2069 2156 2228 2338 \nQ 2531 2678 2651 2914 \nQ 2772 3150 2772 3378 \nQ 2772 3750 2511 3984 \nQ 2250 4219 1831 4219 \nQ 1534 4219 1204 4116 \nQ 875 4013 500 3803 \nL 500 4441 \nQ 881 4594 1212 4672 \nQ 1544 4750 1819 4750 \nQ 2544 4750 2975 4387 \nQ 3406 4025 3406 3419 \nQ 3406 3131 3298 2873 \nQ 3191 2616 2906 2266 \nQ 2828 2175 2409 1742 \nQ 1991 1309 1228 531 \nz\n\" id=\"DejaVuSans-32\" transform=\"scale(0.015625)\"/>\n       </defs>\n       <use xlink:href=\"#DejaVuSans-31\"/>\n       <use x=\"63.623047\" xlink:href=\"#DejaVuSans-2e\"/>\n       <use x=\"95.410156\" xlink:href=\"#DejaVuSans-32\"/>\n       <use x=\"159.033203\" xlink:href=\"#DejaVuSans-35\"/>\n      </g>\n     </g>\n    </g>\n    <g id=\"xtick_5\">\n     <g id=\"text_5\">\n      <!-- 1.50 -->\n      <g style=\"fill:#262626;\" transform=\"translate(180.17124 149.09017)rotate(-45)scale(0.08 -0.08)\">\n       <use xlink:href=\"#DejaVuSans-31\"/>\n       <use x=\"63.623047\" xlink:href=\"#DejaVuSans-2e\"/>\n       <use x=\"95.410156\" xlink:href=\"#DejaVuSans-35\"/>\n       <use x=\"159.033203\" xlink:href=\"#DejaVuSans-30\"/>\n      </g>\n     </g>\n    </g>\n   </g>\n   <g id=\"patch_3\">\n    <path clip-path=\"url(#pbdae2bef7d)\" d=\"M 19.636364 121.696505 \nL 49.090909 121.696505 \nL 49.090909 16.080786 \nL 19.636364 16.080786 \nz\n\" style=\"fill:#337ab7;stroke:#ffffff;stroke-linejoin:miter;stroke-width:0.3;\"/>\n   </g>\n   <g id=\"patch_4\">\n    <path clip-path=\"url(#pbdae2bef7d)\" d=\"M 49.090909 121.696505 \nL 78.545455 121.696505 \nL 78.545455 68.888646 \nL 49.090909 68.888646 \nz\n\" style=\"fill:#337ab7;stroke:#ffffff;stroke-linejoin:miter;stroke-width:0.3;\"/>\n   </g>\n   <g id=\"patch_5\">\n    <path clip-path=\"url(#pbdae2bef7d)\" d=\"M 78.545455 121.696505 \nL 108 121.696505 \nL 108 121.696505 \nL 78.545455 121.696505 \nz\n\" style=\"fill:#337ab7;stroke:#ffffff;stroke-linejoin:miter;stroke-width:0.3;\"/>\n   </g>\n   <g id=\"patch_6\">\n    <path clip-path=\"url(#pbdae2bef7d)\" d=\"M 108 121.696505 \nL 137.454545 121.696505 \nL 137.454545 121.696505 \nL 108 121.696505 \nz\n\" style=\"fill:#337ab7;stroke:#ffffff;stroke-linejoin:miter;stroke-width:0.3;\"/>\n   </g>\n   <g id=\"patch_7\">\n    <path clip-path=\"url(#pbdae2bef7d)\" d=\"M 137.454545 121.696505 \nL 166.909091 121.696505 \nL 166.909091 68.888646 \nL 137.454545 68.888646 \nz\n\" style=\"fill:#337ab7;stroke:#ffffff;stroke-linejoin:miter;stroke-width:0.3;\"/>\n   </g>\n   <g id=\"patch_8\">\n    <path clip-path=\"url(#pbdae2bef7d)\" d=\"M 166.909091 121.696505 \nL 196.363636 121.696505 \nL 196.363636 16.080786 \nL 166.909091 16.080786 \nz\n\" style=\"fill:#337ab7;stroke:#ffffff;stroke-linejoin:miter;stroke-width:0.3;\"/>\n   </g>\n   <g id=\"patch_9\">\n    <path d=\"M 10.8 121.696505 \nL 10.8 10.8 \n\" style=\"fill:none;\"/>\n   </g>\n   <g id=\"patch_10\">\n    <path d=\"M 205.2 121.696505 \nL 205.2 10.8 \n\" style=\"fill:none;\"/>\n   </g>\n   <g id=\"patch_11\">\n    <path d=\"M 10.8 121.696505 \nL 205.2 121.696505 \n\" style=\"fill:none;\"/>\n   </g>\n   <g id=\"patch_12\">\n    <path d=\"M 10.8 10.8 \nL 205.2 10.8 \n\" style=\"fill:none;\"/>\n   </g>\n  </g>\n </g>\n <defs>\n  <clipPath id=\"pbdae2bef7d\">\n   <rect height=\"110.896505\" width=\"194.4\" x=\"10.8\" y=\"10.8\"/>\n  </clipPath>\n </defs>\n</svg>\n"
      }
     },
     "8c311907514f4c9c989667c0614fc4a1": {
      "model_module": "@jupyter-widgets/controls",
      "model_module_version": "1.5.0",
      "model_name": "HTMLModel",
      "state": {
       "layout": "IPY_MODEL_556c459c96a04988923a441677ac10f2",
       "style": "IPY_MODEL_e5cac6c896484801abe59873f6b605c6",
       "value": "184.0 B"
      }
     },
     "8c63999d441f481686a495f36696d257": {
      "model_module": "@jupyter-widgets/base",
      "model_module_version": "1.2.0",
      "model_name": "LayoutModel",
      "state": {
       "grid_area": "widget016"
      }
     },
     "8caf292654a54ab197530fc4f9b5e6d0": {
      "model_module": "@jupyter-widgets/controls",
      "model_module_version": "1.5.0",
      "model_name": "LabelModel",
      "state": {
       "layout": "IPY_MODEL_5b8c45cfc35a4111b0acaf674a656667",
       "style": "IPY_MODEL_1e2d3b198a3341418f2a00dacb0d4dfb",
       "value": "1.260343272538416"
      }
     },
     "8cdc2d77eace4bab9db17e3739b108d9": {
      "model_module": "@jupyter-widgets/controls",
      "model_module_version": "1.5.0",
      "model_name": "FloatProgressModel",
      "state": {
       "layout": "IPY_MODEL_da8727428a1c4cfdb4ef7e99893b7c31",
       "max": 7,
       "style": "IPY_MODEL_256348d1812b4530bab9d35effae98e1",
       "value": 1
      }
     },
     "8ce56696a8204faa905b4026d561a9a3": {
      "model_module": "@jupyter-widgets/base",
      "model_module_version": "1.2.0",
      "model_name": "LayoutModel",
      "state": {}
     },
     "8d0efc768c3e4b3894d158a1c7483a7f": {
      "model_module": "@jupyter-widgets/base",
      "model_module_version": "1.2.0",
      "model_name": "LayoutModel",
      "state": {
       "grid_area": "widget005"
      }
     },
     "8d1f8b0205304c6f98757dc11a81dfc5": {
      "model_module": "@jupyter-widgets/base",
      "model_module_version": "1.2.0",
      "model_name": "LayoutModel",
      "state": {}
     },
     "8d88feeba0b24730bd3ca5067720dc0e": {
      "model_module": "@jupyter-widgets/controls",
      "model_module_version": "1.5.0",
      "model_name": "DescriptionStyleModel",
      "state": {
       "description_width": ""
      }
     },
     "8d9876fe336e4dcaad61cec242e51a19": {
      "model_module": "@jupyter-widgets/base",
      "model_module_version": "1.2.0",
      "model_name": "LayoutModel",
      "state": {}
     },
     "8db3ebbe20734162a0ad2507ac269bf8": {
      "model_module": "@jupyter-widgets/base",
      "model_module_version": "1.2.0",
      "model_name": "LayoutModel",
      "state": {}
     },
     "8ddaaf67e8734d3da906f1dc41ff9f2d": {
      "model_module": "@jupyter-widgets/base",
      "model_module_version": "1.2.0",
      "model_name": "LayoutModel",
      "state": {}
     },
     "8deb095b01394d89abf380dde7ebdbe8": {
      "model_module": "@jupyter-widgets/base",
      "model_module_version": "1.2.0",
      "model_name": "LayoutModel",
      "state": {
       "grid_area": "widget007"
      }
     },
     "8e12469b144741f497141d9b96ef538c": {
      "model_module": "@jupyter-widgets/controls",
      "model_module_version": "1.5.0",
      "model_name": "DescriptionStyleModel",
      "state": {
       "description_width": ""
      }
     },
     "8e22ee333bf245778b17b1ac752d3569": {
      "model_module": "@jupyter-widgets/controls",
      "model_module_version": "1.5.0",
      "model_name": "DescriptionStyleModel",
      "state": {
       "description_width": ""
      }
     },
     "8e31bac28c7845bd98c61174f46ec8a0": {
      "model_module": "@jupyter-widgets/controls",
      "model_module_version": "1.5.0",
      "model_name": "HTMLModel",
      "state": {
       "layout": "IPY_MODEL_4335efccdf804993bb1a027f83a8ea80",
       "style": "IPY_MODEL_f0566532737a441184ef6cea594946ac",
       "value": "-0.8246313397"
      }
     },
     "8e6187a62fe746039ab562b578e5af2e": {
      "model_module": "@jupyter-widgets/controls",
      "model_module_version": "1.5.0",
      "model_name": "HTMLModel",
      "state": {
       "layout": "IPY_MODEL_cbe582a14a7849e3bec40aaac40d254d",
       "style": "IPY_MODEL_28cf75ef46c64153be6fc1c057e65f29",
       "value": "0.2560251916"
      }
     },
     "8e61a5d760eb457bb46dfcbfcaf33cc3": {
      "model_module": "@jupyter-widgets/controls",
      "model_module_version": "1.5.0",
      "model_name": "LabelModel",
      "state": {
       "layout": "IPY_MODEL_e3e2691fd391463292b34ce9d81e8ade",
       "style": "IPY_MODEL_9cca4c4bd2054bf78180ed2d837ed04f",
       "value": "1"
      }
     },
     "8e97fd977c1548d7b50df74a182b85cf": {
      "model_module": "@jupyter-widgets/base",
      "model_module_version": "1.2.0",
      "model_name": "LayoutModel",
      "state": {}
     },
     "8ef24a2548234be0b0775f9abf205956": {
      "model_module": "@jupyter-widgets/base",
      "model_module_version": "1.2.0",
      "model_name": "LayoutModel",
      "state": {
       "grid_area": "widget001"
      }
     },
     "8efc98e812064ee49310eb2ca983f3a9": {
      "model_module": "@jupyter-widgets/controls",
      "model_module_version": "1.5.0",
      "model_name": "DescriptionStyleModel",
      "state": {
       "description_width": ""
      }
     },
     "8f1d9119f9a34c60a82855bc82c472e0": {
      "model_module": "@jupyter-widgets/controls",
      "model_module_version": "1.5.0",
      "model_name": "VBoxModel",
      "state": {
       "children": [
        "IPY_MODEL_7e9278d56b7a4756a8c776d77cf64416"
       ],
       "layout": "IPY_MODEL_1698eeb9305a40d0ad0dfd11555db8bd"
      }
     },
     "8f435cb795b14de482dfd740da5540c7": {
      "model_module": "@jupyter-widgets/controls",
      "model_module_version": "1.5.0",
      "model_name": "HTMLModel",
      "state": {
       "layout": "IPY_MODEL_ed35a9c3c5004143aeab6e454a8ca9a9",
       "style": "IPY_MODEL_0f75644b4c474d9790315403c563b504",
       "value": "Average record size in memory"
      }
     },
     "8f84e557a5334a0182650e6fc1f5c474": {
      "model_module": "@jupyter-widgets/base",
      "model_module_version": "1.2.0",
      "model_name": "LayoutModel",
      "state": {
       "grid_template_areas": "\"widget001 widget002\"\n\"widget003 widget004\"\n\"widget005 widget006\"\n\"widget007 widget008\"\n\"widget009 widget010\"\n\"widget011 widget012\"\n\"widget013 widget014\"\n\"widget015 widget016\"\n\"widget017 widget018\"",
       "grid_template_columns": "repeat(2, 1fr)",
       "grid_template_rows": "repeat(9, 1fr)"
      }
     },
     "8fa03059366f4dcda600c45680492dbd": {
      "model_module": "@jupyter-widgets/controls",
      "model_module_version": "1.5.0",
      "model_name": "DescriptionStyleModel",
      "state": {
       "description_width": ""
      }
     },
     "902f73ad5933411dbd2370e2d8bbd929": {
      "model_module": "@jupyter-widgets/base",
      "model_module_version": "1.2.0",
      "model_name": "LayoutModel",
      "state": {
       "grid_area": "widget008"
      }
     },
     "904a584246894f2b95373db182165cd9": {
      "model_module": "@jupyter-widgets/controls",
      "model_module_version": "1.5.0",
      "model_name": "GridBoxModel",
      "state": {
       "children": [
        "IPY_MODEL_eb6e893c6d0a43568e66fb0b0537fe14",
        "IPY_MODEL_634afe931f614c908319d9052aeba6fc",
        "IPY_MODEL_7db0ee479c2d4b8eaeed3056024d4c90",
        "IPY_MODEL_f63994ddf6164c28b625fbb4b5d1b77a"
       ],
       "layout": "IPY_MODEL_ea8f105212884fde8892b2ebf78a96a7"
      }
     },
     "905039aa428e40b79d0d7e05dd72195e": {
      "model_module": "@jupyter-widgets/base",
      "model_module_version": "1.2.0",
      "model_name": "LayoutModel",
      "state": {
       "grid_area": "widget011"
      }
     },
     "9076f843225f4c56a5a5739760c3473a": {
      "model_module": "@jupyter-widgets/base",
      "model_module_version": "1.2.0",
      "model_name": "LayoutModel",
      "state": {
       "grid_area": "widget019"
      }
     },
     "9095ea6e3d1b408b94b7cd081323f53f": {
      "model_module": "@jupyter-widgets/controls",
      "model_module_version": "1.5.0",
      "model_name": "GridBoxModel",
      "state": {
       "children": [
        "IPY_MODEL_0a26403d06fb49caadf6a2e2de071456",
        "IPY_MODEL_9b2b6008176a4bfe80c4ca53a1cf31a0",
        "IPY_MODEL_c72dc9d0c7824067adfccf914425823f",
        "IPY_MODEL_4da8ebd7f4564f4ca0131bd1a3acbc5d",
        "IPY_MODEL_036ef1daf6c64799b6997a77c5de1e1d",
        "IPY_MODEL_1e83c365232643148e28c9f93db2a6dc",
        "IPY_MODEL_81bb1c6f8f3546348449fbc75194bdca",
        "IPY_MODEL_e431465cb50d453baa8f002a316cfc2d",
        "IPY_MODEL_ee6ba86397f84fe9bc0a5d1cc4171721",
        "IPY_MODEL_dd66a4b55a504ba684019e493caabe6d",
        "IPY_MODEL_566d262e43e949208977a54710115592",
        "IPY_MODEL_e35bd9f627504c2693249734d86cd911",
        "IPY_MODEL_dfb39c03526e401ab25fc8e38affa53e",
        "IPY_MODEL_7d3365c9ffad4ce19bf6131d97d02af4",
        "IPY_MODEL_3943be771c564fc3b611ce256a0f022f",
        "IPY_MODEL_29237bf6581349cb924a54ea3f899d26",
        "IPY_MODEL_d0c08f56d78046d3ad9c471d3fb64ce4",
        "IPY_MODEL_692959fbb2c64b86ad5fd6efc764bbf8"
       ],
       "layout": "IPY_MODEL_cc59cccf46a244c6bafe1ce62b9753bd"
      }
     },
     "90aa17f256a243beab572bc26a7bf7a3": {
      "model_module": "@jupyter-widgets/controls",
      "model_module_version": "1.5.0",
      "model_name": "FloatProgressModel",
      "state": {
       "layout": "IPY_MODEL_abaf6e7b133545a8a926f339036b8cab",
       "max": 7,
       "style": "IPY_MODEL_09480ecdb3b64ef4baf75a009940949c",
       "value": 1
      }
     },
     "90ad1301e28e41f19fca45fa60e82504": {
      "model_module": "@jupyter-widgets/controls",
      "model_module_version": "1.5.0",
      "model_name": "HTMLModel",
      "state": {
       "layout": "IPY_MODEL_28f94048f8a74795bf86e852d595f592",
       "style": "IPY_MODEL_4d42e98e826246558d31ed545781faf3",
       "value": "Mean"
      }
     },
     "90aeeafd227246edadeedf7fd19186b5": {
      "model_module": "@jupyter-widgets/base",
      "model_module_version": "1.2.0",
      "model_name": "LayoutModel",
      "state": {
       "grid_area": "widget018"
      }
     },
     "90ced781224745d3bec71fec0e997a83": {
      "model_module": "@jupyter-widgets/controls",
      "model_module_version": "1.5.0",
      "model_name": "DescriptionStyleModel",
      "state": {
       "description_width": ""
      }
     },
     "9121134e95f34645b1f8f75967cd38dd": {
      "model_module": "@jupyter-widgets/controls",
      "model_module_version": "1.5.0",
      "model_name": "DescriptionStyleModel",
      "state": {
       "description_width": ""
      }
     },
     "914c1a548c2748da8af6be8805dc6896": {
      "model_module": "@jupyter-widgets/base",
      "model_module_version": "1.2.0",
      "model_name": "LayoutModel",
      "state": {
       "grid_template_areas": "\"widget001 widget002 widget003\"\n\"widget004 widget005 widget006\"\n\"widget007 widget008 widget009\"\n\"widget010 widget011 widget012\"\n\"widget013 widget014 widget015\"\n\"widget016 widget017 widget018\"\n\"widget019 widget020 widget021\"",
       "grid_template_columns": "repeat(3, 1fr)",
       "grid_template_rows": "repeat(7, 1fr)"
      }
     },
     "91f331314e1d40a98fbbf177f6ed4874": {
      "model_module": "@jupyter-widgets/controls",
      "model_module_version": "1.5.0",
      "model_name": "VBoxModel",
      "state": {
       "children": [
        "IPY_MODEL_1204c304363c45b9b97eb090d0da0239"
       ],
       "layout": "IPY_MODEL_11a9c945e92e42299ec570e2fcc7fcd6"
      }
     },
     "923df79acddf46b3ab0bfa8bab3ca24f": {
      "model_module": "@jupyter-widgets/base",
      "model_module_version": "1.2.0",
      "model_name": "LayoutModel",
      "state": {
       "grid_area": "widget006"
      }
     },
     "924f7a51fad24637a1fe0d4f81f3d4dc": {
      "model_module": "@jupyter-widgets/controls",
      "model_module_version": "1.5.0",
      "model_name": "FloatProgressModel",
      "state": {
       "layout": "IPY_MODEL_f98f89f7393e4a969ca0731f8cc37aa8",
       "max": 7,
       "style": "IPY_MODEL_bc10827e4cb54f7fa5af00ca68ce2dff",
       "value": 1
      }
     },
     "925a2d6eda454ca8ad0749df3fbd0260": {
      "model_module": "@jupyter-widgets/controls",
      "model_module_version": "1.5.0",
      "model_name": "LabelModel",
      "state": {
       "layout": "IPY_MODEL_8ac67b26d9544a6c9d488a46b32cbfd6",
       "style": "IPY_MODEL_7c2c3c864e784d2da47ac24f8cdb6af6",
       "value": "1"
      }
     },
     "928c409256284273a87924dbcbbee019": {
      "model_module": "@jupyter-widgets/controls",
      "model_module_version": "1.5.0",
      "model_name": "DescriptionStyleModel",
      "state": {
       "description_width": ""
      }
     },
     "92e8390962f34a36b1b3dce1e2146847": {
      "model_module": "@jupyter-widgets/base",
      "model_module_version": "1.2.0",
      "model_name": "LayoutModel",
      "state": {
       "grid_area": "widget004"
      }
     },
     "930b342da09444d8bcf0dd73f65cffbf": {
      "model_module": "@jupyter-widgets/base",
      "model_module_version": "1.2.0",
      "model_name": "LayoutModel",
      "state": {
       "grid_area": "widget021"
      }
     },
     "93303065b3274cfb8111214cac26ba7c": {
      "model_module": "@jupyter-widgets/controls",
      "model_module_version": "1.5.0",
      "model_name": "HTMLModel",
      "state": {
       "layout": "IPY_MODEL_2988f72344d84649a950b4bd6996e915",
       "style": "IPY_MODEL_1bccd28863004a1fa33f9b3ecc0acf9d",
       "value": "Variance"
      }
     },
     "93455e87112a4a2786ad9b55638ad96f": {
      "model_module": "@jupyter-widgets/base",
      "model_module_version": "1.2.0",
      "model_name": "LayoutModel",
      "state": {
       "grid_area": "widget007"
      }
     },
     "93af577a41444e57bfbe7a184d8f35f1": {
      "model_module": "@jupyter-widgets/controls",
      "model_module_version": "1.5.0",
      "model_name": "DescriptionStyleModel",
      "state": {
       "description_width": ""
      }
     },
     "93eac3c23f24445a97cac62daa119e1c": {
      "model_module": "@jupyter-widgets/base",
      "model_module_version": "1.2.0",
      "model_name": "LayoutModel",
      "state": {}
     },
     "94291130d4b34f7fa29b3b3b921e456d": {
      "model_module": "@jupyter-widgets/base",
      "model_module_version": "1.2.0",
      "model_name": "LayoutModel",
      "state": {
       "grid_area": "widget012"
      }
     },
     "9458d8d72fb04121840f3c9af1d32a21": {
      "model_module": "@jupyter-widgets/base",
      "model_module_version": "1.2.0",
      "model_name": "LayoutModel",
      "state": {
       "grid_area": "widget017"
      }
     },
     "9480f0b5cf2e48b287a8e4a3eb37582f": {
      "model_module": "@jupyter-widgets/controls",
      "model_module_version": "1.5.0",
      "model_name": "VBoxModel",
      "state": {
       "children": [
        "IPY_MODEL_afd5bae8755241a18bed74157451574d",
        "IPY_MODEL_be27de051ee342889df4a60500866545"
       ],
       "layout": "IPY_MODEL_42d738935107400abb0f2447417ec794"
      }
     },
     "94a4ffb810f24a239ab677c755a09e0a": {
      "model_module": "@jupyter-widgets/base",
      "model_module_version": "1.2.0",
      "model_name": "LayoutModel",
      "state": {}
     },
     "94be9e9f15c540ba8f601c459188c29f": {
      "model_module": "@jupyter-widgets/controls",
      "model_module_version": "1.5.0",
      "model_name": "HTMLModel",
      "state": {
       "layout": "IPY_MODEL_413d22fbef5448369027383135e2a0cf",
       "style": "IPY_MODEL_6f1770f7f3e44e08a24092d3bf276fb3",
       "value": "<?xml version=\"1.0\" encoding=\"utf-8\" standalone=\"no\"?>\n<!DOCTYPE svg style=\"max-width: 100%\" PUBLIC \"-//W3C//DTD SVG 1.1//EN\"\n  \"http://www.w3.org/Graphics/SVG/1.1/DTD/svg11.dtd\">\n<svg style=\"max-width: 100%\"  version=\"1.1\" viewBox=\"0 0 720 360\" width=\"720pt\" xmlns=\"http://www.w3.org/2000/svg\" xmlns:xlink=\"http://www.w3.org/1999/xlink\">\n <metadata>\n  <rdf:RDF xmlns:cc=\"http://creativecommons.org/ns#\" xmlns:dc=\"http://purl.org/dc/elements/1.1/\" xmlns:rdf=\"http://www.w3.org/1999/02/22-rdf-syntax-ns#\">\n   <cc:Work>\n    <dc:type rdf:resource=\"http://purl.org/dc/dcmitype/StillImage\"/>\n    <dc:date>2022-10-01T17:17:57.395130</dc:date>\n    <dc:format>image/svg+xml</dc:format>\n    <dc:creator>\n     <cc:Agent>\n      <dc:title>Matplotlib v3.4.3, https://matplotlib.org/</dc:title>\n     </cc:Agent>\n    </dc:creator>\n   </cc:Work>\n  </rdf:RDF>\n </metadata>\n <defs>\n  <style type=\"text/css\">*{stroke-linecap:butt;stroke-linejoin:round;}</style>\n </defs>\n <g id=\"figure_1\">\n  <g id=\"patch_1\">\n   <path d=\"M 0 360 \nL 720 360 \nL 720 0 \nL 0 0 \nz\n\" style=\"fill:#ffffff;\"/>\n  </g>\n  <g id=\"axes_1\">\n   <g id=\"patch_2\">\n    <path d=\"M 72 252 \nL 648 252 \nL 648 72 \nL 72 72 \nz\n\" style=\"fill:#ffffff;\"/>\n   </g>\n   <g id=\"matplotlib.axis_1\">\n    <g id=\"xtick_1\">\n     <g id=\"text_1\">\n      <!-- df_index -->\n      <g style=\"fill:#262626;\" transform=\"translate(103.013439 308.303947)rotate(-45)scale(0.13 -0.13)\">\n       <defs>\n        <path d=\"M 2906 2969 \nL 2906 4863 \nL 3481 4863 \nL 3481 0 \nL 2906 0 \nL 2906 525 \nQ 2725 213 2448 61 \nQ 2172 -91 1784 -91 \nQ 1150 -91 751 415 \nQ 353 922 353 1747 \nQ 353 2572 751 3078 \nQ 1150 3584 1784 3584 \nQ 2172 3584 2448 3432 \nQ 2725 3281 2906 2969 \nz\nM 947 1747 \nQ 947 1113 1208 752 \nQ 1469 391 1925 391 \nQ 2381 391 2643 752 \nQ 2906 1113 2906 1747 \nQ 2906 2381 2643 2742 \nQ 2381 3103 1925 3103 \nQ 1469 3103 1208 2742 \nQ 947 2381 947 1747 \nz\n\" id=\"DejaVuSans-64\" transform=\"scale(0.015625)\"/>\n        <path d=\"M 2375 4863 \nL 2375 4384 \nL 1825 4384 \nQ 1516 4384 1395 4259 \nQ 1275 4134 1275 3809 \nL 1275 3500 \nL 2222 3500 \nL 2222 3053 \nL 1275 3053 \nL 1275 0 \nL 697 0 \nL 697 3053 \nL 147 3053 \nL 147 3500 \nL 697 3500 \nL 697 3744 \nQ 697 4328 969 4595 \nQ 1241 4863 1831 4863 \nL 2375 4863 \nz\n\" id=\"DejaVuSans-66\" transform=\"scale(0.015625)\"/>\n        <path d=\"M 3263 -1063 \nL 3263 -1509 \nL -63 -1509 \nL -63 -1063 \nL 3263 -1063 \nz\n\" id=\"DejaVuSans-5f\" transform=\"scale(0.015625)\"/>\n        <path d=\"M 603 3500 \nL 1178 3500 \nL 1178 0 \nL 603 0 \nL 603 3500 \nz\nM 603 4863 \nL 1178 4863 \nL 1178 4134 \nL 603 4134 \nL 603 4863 \nz\n\" id=\"DejaVuSans-69\" transform=\"scale(0.015625)\"/>\n        <path d=\"M 3513 2113 \nL 3513 0 \nL 2938 0 \nL 2938 2094 \nQ 2938 2591 2744 2837 \nQ 2550 3084 2163 3084 \nQ 1697 3084 1428 2787 \nQ 1159 2491 1159 1978 \nL 1159 0 \nL 581 0 \nL 581 3500 \nL 1159 3500 \nL 1159 2956 \nQ 1366 3272 1645 3428 \nQ 1925 3584 2291 3584 \nQ 2894 3584 3203 3211 \nQ 3513 2838 3513 2113 \nz\n\" id=\"DejaVuSans-6e\" transform=\"scale(0.015625)\"/>\n        <path d=\"M 3597 1894 \nL 3597 1613 \nL 953 1613 \nQ 991 1019 1311 708 \nQ 1631 397 2203 397 \nQ 2534 397 2845 478 \nQ 3156 559 3463 722 \nL 3463 178 \nQ 3153 47 2828 -22 \nQ 2503 -91 2169 -91 \nQ 1331 -91 842 396 \nQ 353 884 353 1716 \nQ 353 2575 817 3079 \nQ 1281 3584 2069 3584 \nQ 2775 3584 3186 3129 \nQ 3597 2675 3597 1894 \nz\nM 3022 2063 \nQ 3016 2534 2758 2815 \nQ 2500 3097 2075 3097 \nQ 1594 3097 1305 2825 \nQ 1016 2553 972 2059 \nL 3022 2063 \nz\n\" id=\"DejaVuSans-65\" transform=\"scale(0.015625)\"/>\n        <path d=\"M 3513 3500 \nL 2247 1797 \nL 3578 0 \nL 2900 0 \nL 1881 1375 \nL 863 0 \nL 184 0 \nL 1544 1831 \nL 300 3500 \nL 978 3500 \nL 1906 2253 \nL 2834 3500 \nL 3513 3500 \nz\n\" id=\"DejaVuSans-78\" transform=\"scale(0.015625)\"/>\n       </defs>\n       <use xlink:href=\"#DejaVuSans-64\"/>\n       <use x=\"63.476562\" xlink:href=\"#DejaVuSans-66\"/>\n       <use x=\"98.681641\" xlink:href=\"#DejaVuSans-5f\"/>\n       <use x=\"148.681641\" xlink:href=\"#DejaVuSans-69\"/>\n       <use x=\"176.464844\" xlink:href=\"#DejaVuSans-6e\"/>\n       <use x=\"239.84375\" xlink:href=\"#DejaVuSans-64\"/>\n       <use x=\"303.320312\" xlink:href=\"#DejaVuSans-65\"/>\n       <use x=\"363.09375\" xlink:href=\"#DejaVuSans-78\"/>\n      </g>\n     </g>\n    </g>\n    <g id=\"xtick_2\">\n     <g id=\"text_2\">\n      <!-- 0 -->\n      <g style=\"fill:#262626;\" transform=\"translate(280.239614 275.333436)rotate(-45)scale(0.13 -0.13)\">\n       <defs>\n        <path d=\"M 2034 4250 \nQ 1547 4250 1301 3770 \nQ 1056 3291 1056 2328 \nQ 1056 1369 1301 889 \nQ 1547 409 2034 409 \nQ 2525 409 2770 889 \nQ 3016 1369 3016 2328 \nQ 3016 3291 2770 3770 \nQ 2525 4250 2034 4250 \nz\nM 2034 4750 \nQ 2819 4750 3233 4129 \nQ 3647 3509 3647 2328 \nQ 3647 1150 3233 529 \nQ 2819 -91 2034 -91 \nQ 1250 -91 836 529 \nQ 422 1150 422 2328 \nQ 422 3509 836 4129 \nQ 1250 4750 2034 4750 \nz\n\" id=\"DejaVuSans-30\" transform=\"scale(0.015625)\"/>\n       </defs>\n       <use xlink:href=\"#DejaVuSans-30\"/>\n      </g>\n     </g>\n    </g>\n    <g id=\"xtick_3\">\n     <g id=\"text_3\">\n      <!-- 1 -->\n      <g style=\"fill:#262626;\" transform=\"translate(424.239614 275.333436)rotate(-45)scale(0.13 -0.13)\">\n       <defs>\n        <path d=\"M 794 531 \nL 1825 531 \nL 1825 4091 \nL 703 3866 \nL 703 4441 \nL 1819 4666 \nL 2450 4666 \nL 2450 531 \nL 3481 531 \nL 3481 0 \nL 794 0 \nL 794 531 \nz\n\" id=\"DejaVuSans-31\" transform=\"scale(0.015625)\"/>\n       </defs>\n       <use xlink:href=\"#DejaVuSans-31\"/>\n      </g>\n     </g>\n    </g>\n    <g id=\"xtick_4\">\n     <g id=\"text_4\">\n      <!-- 2 -->\n      <g style=\"fill:#262626;\" transform=\"translate(568.239614 275.333436)rotate(-45)scale(0.13 -0.13)\">\n       <defs>\n        <path d=\"M 1228 531 \nL 3431 531 \nL 3431 0 \nL 469 0 \nL 469 531 \nQ 828 903 1448 1529 \nQ 2069 2156 2228 2338 \nQ 2531 2678 2651 2914 \nQ 2772 3150 2772 3378 \nQ 2772 3750 2511 3984 \nQ 2250 4219 1831 4219 \nQ 1534 4219 1204 4116 \nQ 875 4013 500 3803 \nL 500 4441 \nQ 881 4594 1212 4672 \nQ 1544 4750 1819 4750 \nQ 2544 4750 2975 4387 \nQ 3406 4025 3406 3419 \nQ 3406 3131 3298 2873 \nQ 3191 2616 2906 2266 \nQ 2828 2175 2409 1742 \nQ 1991 1309 1228 531 \nz\n\" id=\"DejaVuSans-32\" transform=\"scale(0.015625)\"/>\n       </defs>\n       <use xlink:href=\"#DejaVuSans-32\"/>\n      </g>\n     </g>\n    </g>\n   </g>\n   <g id=\"matplotlib.axis_2\">\n    <g id=\"ytick_1\">\n     <g id=\"text_5\">\n      <!-- 0.0 -->\n      <g style=\"fill:#262626;\" transform=\"translate(40.825937 256.938984)scale(0.13 -0.13)\">\n       <defs>\n        <path d=\"M 684 794 \nL 1344 794 \nL 1344 0 \nL 684 0 \nL 684 794 \nz\n\" id=\"DejaVuSans-2e\" transform=\"scale(0.015625)\"/>\n       </defs>\n       <use xlink:href=\"#DejaVuSans-30\"/>\n       <use x=\"63.623047\" xlink:href=\"#DejaVuSans-2e\"/>\n       <use x=\"95.410156\" xlink:href=\"#DejaVuSans-30\"/>\n      </g>\n     </g>\n    </g>\n    <g id=\"ytick_2\">\n     <g id=\"text_6\">\n      <!-- 0.2 -->\n      <g style=\"fill:#262626;\" transform=\"translate(40.825937 220.938984)scale(0.13 -0.13)\">\n       <use xlink:href=\"#DejaVuSans-30\"/>\n       <use x=\"63.623047\" xlink:href=\"#DejaVuSans-2e\"/>\n       <use x=\"95.410156\" xlink:href=\"#DejaVuSans-32\"/>\n      </g>\n     </g>\n    </g>\n    <g id=\"ytick_3\">\n     <g id=\"text_7\">\n      <!-- 0.4 -->\n      <g style=\"fill:#262626;\" transform=\"translate(40.825937 184.938984)scale(0.13 -0.13)\">\n       <defs>\n        <path d=\"M 2419 4116 \nL 825 1625 \nL 2419 1625 \nL 2419 4116 \nz\nM 2253 4666 \nL 3047 4666 \nL 3047 1625 \nL 3713 1625 \nL 3713 1100 \nL 3047 1100 \nL 3047 0 \nL 2419 0 \nL 2419 1100 \nL 313 1100 \nL 313 1709 \nL 2253 4666 \nz\n\" id=\"DejaVuSans-34\" transform=\"scale(0.015625)\"/>\n       </defs>\n       <use xlink:href=\"#DejaVuSans-30\"/>\n       <use x=\"63.623047\" xlink:href=\"#DejaVuSans-2e\"/>\n       <use x=\"95.410156\" xlink:href=\"#DejaVuSans-34\"/>\n      </g>\n     </g>\n    </g>\n    <g id=\"ytick_4\">\n     <g id=\"text_8\">\n      <!-- 0.6 -->\n      <g style=\"fill:#262626;\" transform=\"translate(40.825937 148.938984)scale(0.13 -0.13)\">\n       <defs>\n        <path d=\"M 2113 2584 \nQ 1688 2584 1439 2293 \nQ 1191 2003 1191 1497 \nQ 1191 994 1439 701 \nQ 1688 409 2113 409 \nQ 2538 409 2786 701 \nQ 3034 994 3034 1497 \nQ 3034 2003 2786 2293 \nQ 2538 2584 2113 2584 \nz\nM 3366 4563 \nL 3366 3988 \nQ 3128 4100 2886 4159 \nQ 2644 4219 2406 4219 \nQ 1781 4219 1451 3797 \nQ 1122 3375 1075 2522 \nQ 1259 2794 1537 2939 \nQ 1816 3084 2150 3084 \nQ 2853 3084 3261 2657 \nQ 3669 2231 3669 1497 \nQ 3669 778 3244 343 \nQ 2819 -91 2113 -91 \nQ 1303 -91 875 529 \nQ 447 1150 447 2328 \nQ 447 3434 972 4092 \nQ 1497 4750 2381 4750 \nQ 2619 4750 2861 4703 \nQ 3103 4656 3366 4563 \nz\n\" id=\"DejaVuSans-36\" transform=\"scale(0.015625)\"/>\n       </defs>\n       <use xlink:href=\"#DejaVuSans-30\"/>\n       <use x=\"63.623047\" xlink:href=\"#DejaVuSans-2e\"/>\n       <use x=\"95.410156\" xlink:href=\"#DejaVuSans-36\"/>\n      </g>\n     </g>\n    </g>\n    <g id=\"ytick_5\">\n     <g id=\"text_9\">\n      <!-- 0.8 -->\n      <g style=\"fill:#262626;\" transform=\"translate(40.825937 112.938984)scale(0.13 -0.13)\">\n       <defs>\n        <path d=\"M 2034 2216 \nQ 1584 2216 1326 1975 \nQ 1069 1734 1069 1313 \nQ 1069 891 1326 650 \nQ 1584 409 2034 409 \nQ 2484 409 2743 651 \nQ 3003 894 3003 1313 \nQ 3003 1734 2745 1975 \nQ 2488 2216 2034 2216 \nz\nM 1403 2484 \nQ 997 2584 770 2862 \nQ 544 3141 544 3541 \nQ 544 4100 942 4425 \nQ 1341 4750 2034 4750 \nQ 2731 4750 3128 4425 \nQ 3525 4100 3525 3541 \nQ 3525 3141 3298 2862 \nQ 3072 2584 2669 2484 \nQ 3125 2378 3379 2068 \nQ 3634 1759 3634 1313 \nQ 3634 634 3220 271 \nQ 2806 -91 2034 -91 \nQ 1263 -91 848 271 \nQ 434 634 434 1313 \nQ 434 1759 690 2068 \nQ 947 2378 1403 2484 \nz\nM 1172 3481 \nQ 1172 3119 1398 2916 \nQ 1625 2713 2034 2713 \nQ 2441 2713 2670 2916 \nQ 2900 3119 2900 3481 \nQ 2900 3844 2670 4047 \nQ 2441 4250 2034 4250 \nQ 1625 4250 1398 4047 \nQ 1172 3844 1172 3481 \nz\n\" id=\"DejaVuSans-38\" transform=\"scale(0.015625)\"/>\n       </defs>\n       <use xlink:href=\"#DejaVuSans-30\"/>\n       <use x=\"63.623047\" xlink:href=\"#DejaVuSans-2e\"/>\n       <use x=\"95.410156\" xlink:href=\"#DejaVuSans-38\"/>\n      </g>\n     </g>\n    </g>\n    <g id=\"ytick_6\">\n     <g id=\"text_10\">\n      <!-- 1.0 -->\n      <g style=\"fill:#262626;\" transform=\"translate(40.825937 76.938984)scale(0.13 -0.13)\">\n       <use xlink:href=\"#DejaVuSans-31\"/>\n       <use x=\"63.623047\" xlink:href=\"#DejaVuSans-2e\"/>\n       <use x=\"95.410156\" xlink:href=\"#DejaVuSans-30\"/>\n      </g>\n     </g>\n    </g>\n   </g>\n   <g id=\"patch_3\">\n    <path clip-path=\"url(#p2de85b34ad)\" d=\"M 108 252 \nL 180 252 \nL 180 72 \nL 108 72 \nz\n\" style=\"fill:#337ab7;stroke:#ffffff;stroke-linejoin:miter;stroke-width:0.3;\"/>\n   </g>\n   <g id=\"patch_4\">\n    <path clip-path=\"url(#p2de85b34ad)\" d=\"M 252 252 \nL 324 252 \nL 324 97.714286 \nL 252 97.714286 \nz\n\" style=\"fill:#337ab7;stroke:#ffffff;stroke-linejoin:miter;stroke-width:0.3;\"/>\n   </g>\n   <g id=\"patch_5\">\n    <path clip-path=\"url(#p2de85b34ad)\" d=\"M 396 252 \nL 468 252 \nL 468 97.714286 \nL 396 97.714286 \nz\n\" style=\"fill:#337ab7;stroke:#ffffff;stroke-linejoin:miter;stroke-width:0.3;\"/>\n   </g>\n   <g id=\"patch_6\">\n    <path clip-path=\"url(#p2de85b34ad)\" d=\"M 540 252 \nL 612 252 \nL 612 97.714286 \nL 540 97.714286 \nz\n\" style=\"fill:#337ab7;stroke:#ffffff;stroke-linejoin:miter;stroke-width:0.3;\"/>\n   </g>\n  </g>\n  <g id=\"axes_2\">\n   <g id=\"matplotlib.axis_3\">\n    <g id=\"ytick_7\">\n     <g id=\"text_11\">\n      <!-- 0 -->\n      <g style=\"fill:#262626;\" transform=\"translate(658.5 256.938984)scale(0.13 -0.13)\">\n       <use xlink:href=\"#DejaVuSans-30\"/>\n      </g>\n     </g>\n    </g>\n    <g id=\"ytick_8\">\n     <g id=\"text_12\">\n      <!-- 1 -->\n      <g style=\"fill:#262626;\" transform=\"translate(658.5 220.938984)scale(0.13 -0.13)\">\n       <use xlink:href=\"#DejaVuSans-31\"/>\n      </g>\n     </g>\n    </g>\n    <g id=\"ytick_9\">\n     <g id=\"text_13\">\n      <!-- 2 -->\n      <g style=\"fill:#262626;\" transform=\"translate(658.5 184.938984)scale(0.13 -0.13)\">\n       <use xlink:href=\"#DejaVuSans-32\"/>\n      </g>\n     </g>\n    </g>\n    <g id=\"ytick_10\">\n     <g id=\"text_14\">\n      <!-- 4 -->\n      <g style=\"fill:#262626;\" transform=\"translate(658.5 148.938984)scale(0.13 -0.13)\">\n       <use xlink:href=\"#DejaVuSans-34\"/>\n      </g>\n     </g>\n    </g>\n    <g id=\"ytick_11\">\n     <g id=\"text_15\">\n      <!-- 5 -->\n      <g style=\"fill:#262626;\" transform=\"translate(658.5 112.938984)scale(0.13 -0.13)\">\n       <defs>\n        <path d=\"M 691 4666 \nL 3169 4666 \nL 3169 4134 \nL 1269 4134 \nL 1269 2991 \nQ 1406 3038 1543 3061 \nQ 1681 3084 1819 3084 \nQ 2600 3084 3056 2656 \nQ 3513 2228 3513 1497 \nQ 3513 744 3044 326 \nQ 2575 -91 1722 -91 \nQ 1428 -91 1123 -41 \nQ 819 9 494 109 \nL 494 744 \nQ 775 591 1075 516 \nQ 1375 441 1709 441 \nQ 2250 441 2565 725 \nQ 2881 1009 2881 1497 \nQ 2881 1984 2565 2268 \nQ 2250 2553 1709 2553 \nQ 1456 2553 1204 2497 \nQ 953 2441 691 2322 \nL 691 4666 \nz\n\" id=\"DejaVuSans-35\" transform=\"scale(0.015625)\"/>\n       </defs>\n       <use xlink:href=\"#DejaVuSans-35\"/>\n      </g>\n     </g>\n    </g>\n    <g id=\"ytick_12\">\n     <g id=\"text_16\">\n      <!-- 7 -->\n      <g style=\"fill:#262626;\" transform=\"translate(658.5 76.938984)scale(0.13 -0.13)\">\n       <defs>\n        <path d=\"M 525 4666 \nL 3525 4666 \nL 3525 4397 \nL 1831 0 \nL 1172 0 \nL 2766 4134 \nL 525 4134 \nL 525 4666 \nz\n\" id=\"DejaVuSans-37\" transform=\"scale(0.015625)\"/>\n       </defs>\n       <use xlink:href=\"#DejaVuSans-37\"/>\n      </g>\n     </g>\n    </g>\n   </g>\n  </g>\n  <g id=\"axes_3\">\n   <g id=\"matplotlib.axis_4\">\n    <g id=\"xtick_5\">\n     <g id=\"text_17\">\n      <!-- 7 -->\n      <g style=\"fill:#262626;\" transform=\"translate(150.984779 59.588271)rotate(-45)scale(0.13 -0.13)\">\n       <use xlink:href=\"#DejaVuSans-37\"/>\n      </g>\n     </g>\n    </g>\n    <g id=\"xtick_6\">\n     <g id=\"text_18\">\n      <!-- 6 -->\n      <g style=\"fill:#262626;\" transform=\"translate(294.984779 59.588271)rotate(-45)scale(0.13 -0.13)\">\n       <use xlink:href=\"#DejaVuSans-36\"/>\n      </g>\n     </g>\n    </g>\n    <g id=\"xtick_7\">\n     <g id=\"text_19\">\n      <!-- 6 -->\n      <g style=\"fill:#262626;\" transform=\"translate(438.984779 59.588271)rotate(-45)scale(0.13 -0.13)\">\n       <use xlink:href=\"#DejaVuSans-36\"/>\n      </g>\n     </g>\n    </g>\n    <g id=\"xtick_8\">\n     <g id=\"text_20\">\n      <!-- 6 -->\n      <g style=\"fill:#262626;\" transform=\"translate(582.984779 59.588271)rotate(-45)scale(0.13 -0.13)\">\n       <use xlink:href=\"#DejaVuSans-36\"/>\n      </g>\n     </g>\n    </g>\n   </g>\n  </g>\n </g>\n <defs>\n  <clipPath id=\"p2de85b34ad\">\n   <rect height=\"180\" width=\"576\" x=\"72\" y=\"72\"/>\n  </clipPath>\n </defs>\n</svg>\n"
      }
     },
     "94e72161cbb147f0afdcf255aeb6496b": {
      "model_module": "@jupyter-widgets/controls",
      "model_module_version": "1.5.0",
      "model_name": "VBoxModel",
      "state": {
       "children": [
        "IPY_MODEL_a45b3dce2526493fb90de771e0fd5700"
       ],
       "layout": "IPY_MODEL_f591578ed44e4166a73c55dd526851ae"
      }
     },
     "94ecd3db00ff446c92d744154a2b99d2": {
      "model_module": "@jupyter-widgets/controls",
      "model_module_version": "1.5.0",
      "model_name": "FloatProgressModel",
      "state": {
       "layout": "IPY_MODEL_850d2124dc794e5abe4815268cc97ef9",
       "max": 7,
       "style": "IPY_MODEL_af75364e724a4e61a9682f2a6d024d83",
       "value": 1
      }
     },
     "9500df6874c84c3c970e6ecffa084180": {
      "model_module": "@jupyter-widgets/controls",
      "model_module_version": "1.5.0",
      "model_name": "DescriptionStyleModel",
      "state": {
       "description_width": ""
      }
     },
     "951ea5cfb25c401d91fab893695b70dd": {
      "model_module": "@jupyter-widgets/controls",
      "model_module_version": "1.5.0",
      "model_name": "DescriptionStyleModel",
      "state": {
       "description_width": ""
      }
     },
     "95a05180c47b4864bfdbb6cac54570c6": {
      "model_module": "@jupyter-widgets/controls",
      "model_module_version": "1.5.0",
      "model_name": "DescriptionStyleModel",
      "state": {
       "description_width": ""
      }
     },
     "95b825c9ea584d4eb76985637742db6f": {
      "model_module": "@jupyter-widgets/base",
      "model_module_version": "1.2.0",
      "model_name": "LayoutModel",
      "state": {
       "grid_template_columns": "75% 25%",
       "width": "100%"
      }
     },
     "95d3cd24a7c947179496b2274cd948e2": {
      "model_module": "@jupyter-widgets/controls",
      "model_module_version": "1.5.0",
      "model_name": "DescriptionStyleModel",
      "state": {
       "description_width": ""
      }
     },
     "95e21af5d4394db6973b6a70e6d37739": {
      "model_module": "@jupyter-widgets/controls",
      "model_module_version": "1.5.0",
      "model_name": "DescriptionStyleModel",
      "state": {
       "description_width": ""
      }
     },
     "95e3cd67d359420ba4b466d622df911f": {
      "model_module": "@jupyter-widgets/base",
      "model_module_version": "1.2.0",
      "model_name": "LayoutModel",
      "state": {
       "grid_area": "widget008"
      }
     },
     "95f6804a1a514febae1eabb67808c23e": {
      "model_module": "@jupyter-widgets/controls",
      "model_module_version": "1.5.0",
      "model_name": "DescriptionStyleModel",
      "state": {
       "description_width": ""
      }
     },
     "9609f6037deb4b73a91232947fe14926": {
      "model_module": "@jupyter-widgets/base",
      "model_module_version": "1.2.0",
      "model_name": "LayoutModel",
      "state": {
       "grid_template_areas": "\"widget001 widget002\"\n\"widget003 widget004\"\n\"widget005 widget006\"\n\"widget007 widget008\"\n\"widget009 widget010\"\n\"widget011 widget012\"\n\"widget013 widget014\"\n\"widget015 widget016\"\n\"widget017 widget018\"",
       "grid_template_columns": "repeat(2, 1fr)",
       "grid_template_rows": "repeat(9, 1fr)"
      }
     },
     "961f40a3f9b1496593ee8577476e4b60": {
      "model_module": "@jupyter-widgets/controls",
      "model_module_version": "1.5.0",
      "model_name": "LabelModel",
      "state": {
       "layout": "IPY_MODEL_314fc5457317418587e7f71bfa4c3123",
       "style": "IPY_MODEL_cb2f3bbe23014559855937ad8de18721",
       "value": "1"
      }
     },
     "96390e6cb2c542b183dcfd1dcd9586e2": {
      "model_module": "@jupyter-widgets/controls",
      "model_module_version": "1.5.0",
      "model_name": "FloatProgressModel",
      "state": {
       "bar_style": "danger",
       "layout": "IPY_MODEL_41122406c08e4d9191c17568eb92afc8",
       "max": 7,
       "style": "IPY_MODEL_7735adca43cc484f9d1756e81282a85f",
       "value": 1
      }
     },
     "9658b6a3e03a4c328e00127e0c830c4b": {
      "model_module": "@jupyter-widgets/base",
      "model_module_version": "1.2.0",
      "model_name": "LayoutModel",
      "state": {
       "grid_template_areas": "\"widget001 widget002 widget003\"\n\"widget004 widget005 widget006\"\n\"widget007 widget008 widget009\"\n\"widget010 widget011 widget012\"\n\"widget013 widget014 widget015\"\n\"widget016 widget017 widget018\"",
       "grid_template_columns": "repeat(3, 1fr)",
       "grid_template_rows": "repeat(6, 1fr)"
      }
     },
     "96bf8d74223844b992f556ae632de5d0": {
      "model_module": "@jupyter-widgets/controls",
      "model_module_version": "1.5.0",
      "model_name": "HTMLModel",
      "state": {
       "layout": "IPY_MODEL_dcb6da39c0d54798a1e75c0e4b353403",
       "style": "IPY_MODEL_38c14223088546b18e1ccc98a4912337",
       "value": "<p style=\"color: #999\"><em>A simple visualization of nullity by column.</em></p>"
      }
     },
     "96de5045a90b4fb3bc4acc2d7b26b3d4": {
      "model_module": "@jupyter-widgets/controls",
      "model_module_version": "1.5.0",
      "model_name": "ProgressStyleModel",
      "state": {
       "description_width": ""
      }
     },
     "96f117bd4fcd4edb9cd3c6d7b1c4deb2": {
      "model_module": "@jupyter-widgets/base",
      "model_module_version": "1.2.0",
      "model_name": "LayoutModel",
      "state": {
       "grid_area": "widget003"
      }
     },
     "96f64a9083964749ab7863bf39a48cdc": {
      "model_module": "@jupyter-widgets/controls",
      "model_module_version": "1.5.0",
      "model_name": "TabModel",
      "state": {
       "_titles": {
        "0": "Histogram"
       },
       "children": [
        "IPY_MODEL_f402b5e3ac3f4b16b97be9f512f83b14"
       ],
       "layout": "IPY_MODEL_1dc70ba59c334413ac515d43769a12f3"
      }
     },
     "970e4e4603764c47a739cbc7e3d13ff3": {
      "model_module": "@jupyter-widgets/base",
      "model_module_version": "1.2.0",
      "model_name": "LayoutModel",
      "state": {
       "grid_template_areas": "\"widget001 widget002 widget003\"\n\"widget004 widget005 widget006\"\n\"widget007 widget008 widget009\"\n\"widget010 widget011 widget012\"\n\"widget013 widget014 widget015\"\n\"widget016 widget017 widget018\"",
       "grid_template_columns": "repeat(3, 1fr)",
       "grid_template_rows": "repeat(6, 1fr)"
      }
     },
     "970e94fd671049fca744d709f759dec1": {
      "model_module": "@jupyter-widgets/controls",
      "model_module_version": "1.5.0",
      "model_name": "HTMLModel",
      "state": {
       "layout": "IPY_MODEL_e0a5b7b578cc48b6ae7d69527280e7a6",
       "style": "IPY_MODEL_036e02a1f3a44d14b463cabfe25fe55e",
       "value": "0.0%"
      }
     },
     "971f547e84b94029b1c4650ef4661bf4": {
      "model_module": "@jupyter-widgets/controls",
      "model_module_version": "1.5.0",
      "model_name": "DescriptionStyleModel",
      "state": {
       "description_width": ""
      }
     },
     "973007764843463db39a4e280431b46d": {
      "model_module": "@jupyter-widgets/controls",
      "model_module_version": "1.5.0",
      "model_name": "GridBoxModel",
      "state": {
       "children": [
        "IPY_MODEL_dd026e20a12841c0a868442fd88cda0a",
        "IPY_MODEL_c858cc8f08af4b768422633661ad631d"
       ],
       "layout": "IPY_MODEL_b964f7497f1e4713baaa7228e93b7736"
      }
     },
     "974a6b229fb945dc9911209bd9362fd0": {
      "model_module": "@jupyter-widgets/controls",
      "model_module_version": "1.5.0",
      "model_name": "DescriptionStyleModel",
      "state": {
       "description_width": ""
      }
     },
     "976951971c4d4995996bf7029873a5da": {
      "model_module": "@jupyter-widgets/controls",
      "model_module_version": "1.5.0",
      "model_name": "HTMLModel",
      "state": {
       "layout": "IPY_MODEL_1e100f1235214de19303ba5aebd82d6e",
       "style": "IPY_MODEL_7c7d70638efb4babb29bf0b5d19bb1ef",
       "value": "<span style=\"color:var(--jp-error-color1)\">14.3%</span>"
      }
     },
     "97a5aecc73f34aa7b12e22df991ac9eb": {
      "model_module": "@jupyter-widgets/controls",
      "model_module_version": "1.5.0",
      "model_name": "DescriptionStyleModel",
      "state": {
       "description_width": ""
      }
     },
     "97bfcf4c69b146ba94c4faf865b26bc7": {
      "model_module": "@jupyter-widgets/controls",
      "model_module_version": "1.5.0",
      "model_name": "HTMLModel",
      "state": {
       "layout": "IPY_MODEL_b968a79431a340228ea4e2ef2a303a51",
       "style": "IPY_MODEL_b66042cc7b154961837a091362fe7de4",
       "value": "<?xml version=\"1.0\" encoding=\"utf-8\" standalone=\"no\"?>\n<!DOCTYPE svg style=\"max-width: 100%\" PUBLIC \"-//W3C//DTD SVG 1.1//EN\"\n  \"http://www.w3.org/Graphics/SVG/1.1/DTD/svg11.dtd\">\n<svg style=\"max-width: 100%\"  version=\"1.1\" viewBox=\"0 0 576 396\" width=\"576pt\" xmlns=\"http://www.w3.org/2000/svg\" xmlns:xlink=\"http://www.w3.org/1999/xlink\">\n <metadata>\n  <rdf:RDF xmlns:cc=\"http://creativecommons.org/ns#\" xmlns:dc=\"http://purl.org/dc/elements/1.1/\" xmlns:rdf=\"http://www.w3.org/1999/02/22-rdf-syntax-ns#\">\n   <cc:Work>\n    <dc:type rdf:resource=\"http://purl.org/dc/dcmitype/StillImage\"/>\n    <dc:date>2022-10-01T17:17:59.946123</dc:date>\n    <dc:format>image/svg+xml</dc:format>\n    <dc:creator>\n     <cc:Agent>\n      <dc:title>Matplotlib v3.4.3, https://matplotlib.org/</dc:title>\n     </cc:Agent>\n    </dc:creator>\n   </cc:Work>\n  </rdf:RDF>\n </metadata>\n <defs>\n  <style type=\"text/css\">*{stroke-linecap:butt;stroke-linejoin:round;}</style>\n </defs>\n <g id=\"figure_1\">\n  <g id=\"patch_1\">\n   <path d=\"M 0 396 \nL 576 396 \nL 576 0 \nL 0 0 \nz\n\" style=\"fill:#ffffff;\"/>\n  </g>\n  <g id=\"axes_1\">\n   <g id=\"patch_2\">\n    <path d=\"M 159.84 316.8 \nL 429.12 316.8 \nL 429.12 47.52 \nL 159.84 47.52 \nz\n\" style=\"fill:#ffffff;\"/>\n   </g>\n   <g clip-path=\"url(#p278ee2c872)\">\n    <image height=\"270\" id=\"image0f30a1306e\" transform=\"scale(1 -1)translate(0 -270)\" width=\"270\" x=\"159.84\" xlink:href=\"data:image/png;base64,\niVBORw0KGgoAAAANSUhEUgAAAQ4AAAEOCAYAAAB4sfmlAAADkklEQVR4nO3WMU2DYRiFUUqasIAlhs6oABUoQEV/KR1qADEtIUxFwzOQN+Q7R8Gdntzd99f1dsef2/1cpycs4enwPj1hCffTA4D/RziATDiATDiATDiATDiATDiATDiATDiATDiATDiATDiATDiATDiATDiATDiATDiATDiATDiATDiATDiATDiATDiATDiATDiATDiATDiATDiATDiATDiATDiATDiATDiATDiATDiATDiATDiATDiATDiATDiATDiATDiATDiATDiATDiATDiATDiATDiATDiATDiATDiATDiATDiATDiATDiATDiATDiATDiATDiATDiATDiATDiATDiATDiATDiATDiATDiATDiATDiATDiATDiATDiATDiATDiATDiATDiATDiATDiATDiATDiATDiATDiATDiATDiATDiATDiATDiATDiATDiAbP+yfU5vWML5uE1PWMLl9DE9YQkeB5AJB5AJB5AJB5AJB5AJB5AJB5AJB5AJB5AJB5AJB5AJB5AJB5AJB5AJB5AJB5AJB5AJB5AJB5AJB5AJB5AJB5AJB5AJB5AJB5AJB5AJB5AJB5AJB5AJB5AJB5AJB5AJB5AJB5AJB5AJB5AJB5AJB5AJB5AJB5AJB5AJB5AJB5AJB5AJB5AJB5AJB5AJB5AJB5AJB5AJB5AJB5AJB5AJB5AJB5AJB5AJB5AJB5AJB5AJB5AJB5AJB5AJB5AJB5AJB5AJB5AJB5AJB5AJB5AJB5AJB5AJB5AJB5AJB5AJB5AJB5AJB5AJB5AJB5AJB5AJB5AJB5AJB5AJB5AJB5AJB5AJB5AJB5AJB5Dtz8dtesMSnt9epycs4fbwOD1hCR4HkAkHkAkHkAkHkAkHkAkHkAkHkAkHkAkHkAkHkAkHkAkHkAkHkAkHkAkHkAkHkAkHkAkHkAkHkAkHkAkHkAkHkAkHkAkHkAkHkAkHkAkHkAkHkAkHkAkHkAkHkAkHkAkHkAkHkAkHkAkHkAkHkAkHkAkHkAkHkAkHkAkHkAkHkAkHkAkHkAkHkAkHkAkHkAkHkAkHkAkHkAkHkAkHkAkHkAkHkAkHkAkHkAkHkAkHkAkHkAkHkAkHkAkHkAkHkAkHkAkHkAkHkAkHkAkHkAkHkAkHkAkHkAkHkAkHkAkHkAkHkAkHkAkHkAkHkAkHkAkHkAkHkAkHkAkHkAkHkAkHkAkHkAkHkAkHkP0C4KYStdu/NqgAAAAASUVORK5CYII=\" y=\"-46.8\"/>\n   </g>\n   <g id=\"matplotlib.axis_1\">\n    <g id=\"xtick_1\">\n     <g id=\"text_1\">\n      <!-- 0 -->\n      <g style=\"fill:#262626;\" transform=\"translate(207.479375 333.6625)rotate(-90)scale(0.1 -0.1)\">\n       <defs>\n        <path d=\"M 2034 4250 \nQ 1547 4250 1301 3770 \nQ 1056 3291 1056 2328 \nQ 1056 1369 1301 889 \nQ 1547 409 2034 409 \nQ 2525 409 2770 889 \nQ 3016 1369 3016 2328 \nQ 3016 3291 2770 3770 \nQ 2525 4250 2034 4250 \nz\nM 2034 4750 \nQ 2819 4750 3233 4129 \nQ 3647 3509 3647 2328 \nQ 3647 1150 3233 529 \nQ 2819 -91 2034 -91 \nQ 1250 -91 836 529 \nQ 422 1150 422 2328 \nQ 422 3509 836 4129 \nQ 1250 4750 2034 4750 \nz\n\" id=\"DejaVuSans-30\" transform=\"scale(0.015625)\"/>\n       </defs>\n       <use xlink:href=\"#DejaVuSans-30\"/>\n      </g>\n     </g>\n    </g>\n    <g id=\"xtick_2\">\n     <g id=\"text_2\">\n      <!-- 1 -->\n      <g style=\"fill:#262626;\" transform=\"translate(297.239375 333.6625)rotate(-90)scale(0.1 -0.1)\">\n       <defs>\n        <path d=\"M 794 531 \nL 1825 531 \nL 1825 4091 \nL 703 3866 \nL 703 4441 \nL 1819 4666 \nL 2450 4666 \nL 2450 531 \nL 3481 531 \nL 3481 0 \nL 794 0 \nL 794 531 \nz\n\" id=\"DejaVuSans-31\" transform=\"scale(0.015625)\"/>\n       </defs>\n       <use xlink:href=\"#DejaVuSans-31\"/>\n      </g>\n     </g>\n    </g>\n    <g id=\"xtick_3\">\n     <g id=\"text_3\">\n      <!-- 2 -->\n      <g style=\"fill:#262626;\" transform=\"translate(386.999375 333.6625)rotate(-90)scale(0.1 -0.1)\">\n       <defs>\n        <path d=\"M 1228 531 \nL 3431 531 \nL 3431 0 \nL 469 0 \nL 469 531 \nQ 828 903 1448 1529 \nQ 2069 2156 2228 2338 \nQ 2531 2678 2651 2914 \nQ 2772 3150 2772 3378 \nQ 2772 3750 2511 3984 \nQ 2250 4219 1831 4219 \nQ 1534 4219 1204 4116 \nQ 875 4013 500 3803 \nL 500 4441 \nQ 881 4594 1212 4672 \nQ 1544 4750 1819 4750 \nQ 2544 4750 2975 4387 \nQ 3406 4025 3406 3419 \nQ 3406 3131 3298 2873 \nQ 3191 2616 2906 2266 \nQ 2828 2175 2409 1742 \nQ 1991 1309 1228 531 \nz\n\" id=\"DejaVuSans-32\" transform=\"scale(0.015625)\"/>\n       </defs>\n       <use xlink:href=\"#DejaVuSans-32\"/>\n      </g>\n     </g>\n    </g>\n   </g>\n   <g id=\"matplotlib.axis_2\">\n    <g id=\"ytick_1\">\n     <g id=\"text_4\">\n      <!-- 0 -->\n      <g style=\"fill:#262626;\" transform=\"translate(142.9775 96.199219)scale(0.1 -0.1)\">\n       <use xlink:href=\"#DejaVuSans-30\"/>\n      </g>\n     </g>\n    </g>\n    <g id=\"ytick_2\">\n     <g id=\"text_5\">\n      <!-- 1 -->\n      <g style=\"fill:#262626;\" transform=\"translate(142.9775 185.959219)scale(0.1 -0.1)\">\n       <use xlink:href=\"#DejaVuSans-31\"/>\n      </g>\n     </g>\n    </g>\n    <g id=\"ytick_3\">\n     <g id=\"text_6\">\n      <!-- 2 -->\n      <g style=\"fill:#262626;\" transform=\"translate(142.9775 275.719219)scale(0.1 -0.1)\">\n       <use xlink:href=\"#DejaVuSans-32\"/>\n      </g>\n     </g>\n    </g>\n   </g>\n   <g id=\"patch_3\">\n    <path d=\"M 159.84 316.8 \nL 159.84 47.52 \n\" style=\"fill:none;\"/>\n   </g>\n   <g id=\"patch_4\">\n    <path d=\"M 429.12 316.8 \nL 429.12 47.52 \n\" style=\"fill:none;\"/>\n   </g>\n   <g id=\"patch_5\">\n    <path d=\"M 159.84 316.8 \nL 429.12 316.8 \n\" style=\"fill:none;\"/>\n   </g>\n   <g id=\"patch_6\">\n    <path d=\"M 159.84 47.52 \nL 429.12 47.52 \n\" style=\"fill:none;\"/>\n   </g>\n  </g>\n  <g id=\"axes_2\">\n   <g id=\"patch_7\">\n    <path d=\"M 451.44 316.8 \nL 464.904 316.8 \nL 464.904 47.52 \nL 451.44 47.52 \nz\n\" style=\"fill:#ffffff;\"/>\n   </g>\n   <g id=\"patch_8\">\n    <path clip-path=\"url(#p5d8b9554f3)\" d=\"M 451.44 316.8 \nL 451.44 315.748125 \nL 451.44 48.571875 \nL 451.44 47.52 \nL 464.904 47.52 \nL 464.904 48.571875 \nL 464.904 315.748125 \nL 464.904 316.8 \nL 464.904 316.8 \nz\n\" style=\"fill:#ffffff;stroke:#ffffff;stroke-linejoin:miter;stroke-width:0.01;\"/>\n   </g>\n   <g id=\"matplotlib.axis_3\"/>\n   <g id=\"matplotlib.axis_4\">\n    <g id=\"ytick_4\">\n     <g id=\"line2d_1\">\n      <defs>\n       <path d=\"M 0 0 \nL 3.5 0 \n\" id=\"m8191505023\" style=\"stroke:#262626;\"/>\n      </defs>\n      <g>\n       <use style=\"fill:#262626;stroke:#262626;\" x=\"464.904\" xlink:href=\"#m8191505023\" y=\"316.8\"/>\n      </g>\n     </g>\n     <g id=\"text_7\">\n      <!-- −1.00 -->\n      <g style=\"fill:#262626;\" transform=\"translate(475.404 320.599219)scale(0.1 -0.1)\">\n       <defs>\n        <path d=\"M 678 2272 \nL 4684 2272 \nL 4684 1741 \nL 678 1741 \nL 678 2272 \nz\n\" id=\"DejaVuSans-2212\" transform=\"scale(0.015625)\"/>\n        <path d=\"M 684 794 \nL 1344 794 \nL 1344 0 \nL 684 0 \nL 684 794 \nz\n\" id=\"DejaVuSans-2e\" transform=\"scale(0.015625)\"/>\n       </defs>\n       <use xlink:href=\"#DejaVuSans-2212\"/>\n       <use x=\"83.789062\" xlink:href=\"#DejaVuSans-31\"/>\n       <use x=\"147.412109\" xlink:href=\"#DejaVuSans-2e\"/>\n       <use x=\"179.199219\" xlink:href=\"#DejaVuSans-30\"/>\n       <use x=\"242.822266\" xlink:href=\"#DejaVuSans-30\"/>\n      </g>\n     </g>\n    </g>\n    <g id=\"ytick_5\">\n     <g id=\"line2d_2\">\n      <g>\n       <use style=\"fill:#262626;stroke:#262626;\" x=\"464.904\" xlink:href=\"#m8191505023\" y=\"283.14\"/>\n      </g>\n     </g>\n     <g id=\"text_8\">\n      <!-- −0.75 -->\n      <g style=\"fill:#262626;\" transform=\"translate(475.404 286.939219)scale(0.1 -0.1)\">\n       <defs>\n        <path d=\"M 525 4666 \nL 3525 4666 \nL 3525 4397 \nL 1831 0 \nL 1172 0 \nL 2766 4134 \nL 525 4134 \nL 525 4666 \nz\n\" id=\"DejaVuSans-37\" transform=\"scale(0.015625)\"/>\n        <path d=\"M 691 4666 \nL 3169 4666 \nL 3169 4134 \nL 1269 4134 \nL 1269 2991 \nQ 1406 3038 1543 3061 \nQ 1681 3084 1819 3084 \nQ 2600 3084 3056 2656 \nQ 3513 2228 3513 1497 \nQ 3513 744 3044 326 \nQ 2575 -91 1722 -91 \nQ 1428 -91 1123 -41 \nQ 819 9 494 109 \nL 494 744 \nQ 775 591 1075 516 \nQ 1375 441 1709 441 \nQ 2250 441 2565 725 \nQ 2881 1009 2881 1497 \nQ 2881 1984 2565 2268 \nQ 2250 2553 1709 2553 \nQ 1456 2553 1204 2497 \nQ 953 2441 691 2322 \nL 691 4666 \nz\n\" id=\"DejaVuSans-35\" transform=\"scale(0.015625)\"/>\n       </defs>\n       <use xlink:href=\"#DejaVuSans-2212\"/>\n       <use x=\"83.789062\" xlink:href=\"#DejaVuSans-30\"/>\n       <use x=\"147.412109\" xlink:href=\"#DejaVuSans-2e\"/>\n       <use x=\"179.199219\" xlink:href=\"#DejaVuSans-37\"/>\n       <use x=\"242.822266\" xlink:href=\"#DejaVuSans-35\"/>\n      </g>\n     </g>\n    </g>\n    <g id=\"ytick_6\">\n     <g id=\"line2d_3\">\n      <g>\n       <use style=\"fill:#262626;stroke:#262626;\" x=\"464.904\" xlink:href=\"#m8191505023\" y=\"249.48\"/>\n      </g>\n     </g>\n     <g id=\"text_9\">\n      <!-- −0.50 -->\n      <g style=\"fill:#262626;\" transform=\"translate(475.404 253.279219)scale(0.1 -0.1)\">\n       <use xlink:href=\"#DejaVuSans-2212\"/>\n       <use x=\"83.789062\" xlink:href=\"#DejaVuSans-30\"/>\n       <use x=\"147.412109\" xlink:href=\"#DejaVuSans-2e\"/>\n       <use x=\"179.199219\" xlink:href=\"#DejaVuSans-35\"/>\n       <use x=\"242.822266\" xlink:href=\"#DejaVuSans-30\"/>\n      </g>\n     </g>\n    </g>\n    <g id=\"ytick_7\">\n     <g id=\"line2d_4\">\n      <g>\n       <use style=\"fill:#262626;stroke:#262626;\" x=\"464.904\" xlink:href=\"#m8191505023\" y=\"215.82\"/>\n      </g>\n     </g>\n     <g id=\"text_10\">\n      <!-- −0.25 -->\n      <g style=\"fill:#262626;\" transform=\"translate(475.404 219.619219)scale(0.1 -0.1)\">\n       <use xlink:href=\"#DejaVuSans-2212\"/>\n       <use x=\"83.789062\" xlink:href=\"#DejaVuSans-30\"/>\n       <use x=\"147.412109\" xlink:href=\"#DejaVuSans-2e\"/>\n       <use x=\"179.199219\" xlink:href=\"#DejaVuSans-32\"/>\n       <use x=\"242.822266\" xlink:href=\"#DejaVuSans-35\"/>\n      </g>\n     </g>\n    </g>\n    <g id=\"ytick_8\">\n     <g id=\"line2d_5\">\n      <g>\n       <use style=\"fill:#262626;stroke:#262626;\" x=\"464.904\" xlink:href=\"#m8191505023\" y=\"182.16\"/>\n      </g>\n     </g>\n     <g id=\"text_11\">\n      <!-- 0.00 -->\n      <g style=\"fill:#262626;\" transform=\"translate(475.404 185.959219)scale(0.1 -0.1)\">\n       <use xlink:href=\"#DejaVuSans-30\"/>\n       <use x=\"63.623047\" xlink:href=\"#DejaVuSans-2e\"/>\n       <use x=\"95.410156\" xlink:href=\"#DejaVuSans-30\"/>\n       <use x=\"159.033203\" xlink:href=\"#DejaVuSans-30\"/>\n      </g>\n     </g>\n    </g>\n    <g id=\"ytick_9\">\n     <g id=\"line2d_6\">\n      <g>\n       <use style=\"fill:#262626;stroke:#262626;\" x=\"464.904\" xlink:href=\"#m8191505023\" y=\"148.5\"/>\n      </g>\n     </g>\n     <g id=\"text_12\">\n      <!-- 0.25 -->\n      <g style=\"fill:#262626;\" transform=\"translate(475.404 152.299219)scale(0.1 -0.1)\">\n       <use xlink:href=\"#DejaVuSans-30\"/>\n       <use x=\"63.623047\" xlink:href=\"#DejaVuSans-2e\"/>\n       <use x=\"95.410156\" xlink:href=\"#DejaVuSans-32\"/>\n       <use x=\"159.033203\" xlink:href=\"#DejaVuSans-35\"/>\n      </g>\n     </g>\n    </g>\n    <g id=\"ytick_10\">\n     <g id=\"line2d_7\">\n      <g>\n       <use style=\"fill:#262626;stroke:#262626;\" x=\"464.904\" xlink:href=\"#m8191505023\" y=\"114.84\"/>\n      </g>\n     </g>\n     <g id=\"text_13\">\n      <!-- 0.50 -->\n      <g style=\"fill:#262626;\" transform=\"translate(475.404 118.639219)scale(0.1 -0.1)\">\n       <use xlink:href=\"#DejaVuSans-30\"/>\n       <use x=\"63.623047\" xlink:href=\"#DejaVuSans-2e\"/>\n       <use x=\"95.410156\" xlink:href=\"#DejaVuSans-35\"/>\n       <use x=\"159.033203\" xlink:href=\"#DejaVuSans-30\"/>\n      </g>\n     </g>\n    </g>\n    <g id=\"ytick_11\">\n     <g id=\"line2d_8\">\n      <g>\n       <use style=\"fill:#262626;stroke:#262626;\" x=\"464.904\" xlink:href=\"#m8191505023\" y=\"81.18\"/>\n      </g>\n     </g>\n     <g id=\"text_14\">\n      <!-- 0.75 -->\n      <g style=\"fill:#262626;\" transform=\"translate(475.404 84.979219)scale(0.1 -0.1)\">\n       <use xlink:href=\"#DejaVuSans-30\"/>\n       <use x=\"63.623047\" xlink:href=\"#DejaVuSans-2e\"/>\n       <use x=\"95.410156\" xlink:href=\"#DejaVuSans-37\"/>\n       <use x=\"159.033203\" xlink:href=\"#DejaVuSans-35\"/>\n      </g>\n     </g>\n    </g>\n    <g id=\"ytick_12\">\n     <g id=\"line2d_9\">\n      <g>\n       <use style=\"fill:#262626;stroke:#262626;\" x=\"464.904\" xlink:href=\"#m8191505023\" y=\"47.52\"/>\n      </g>\n     </g>\n     <g id=\"text_15\">\n      <!-- 1.00 -->\n      <g style=\"fill:#262626;\" transform=\"translate(475.404 51.319219)scale(0.1 -0.1)\">\n       <use xlink:href=\"#DejaVuSans-31\"/>\n       <use x=\"63.623047\" xlink:href=\"#DejaVuSans-2e\"/>\n       <use x=\"95.410156\" xlink:href=\"#DejaVuSans-30\"/>\n       <use x=\"159.033203\" xlink:href=\"#DejaVuSans-30\"/>\n      </g>\n     </g>\n    </g>\n   </g>\n   <image height=\"269\" id=\"image1b5a5c6a9b\" transform=\"scale(1 -1)translate(0 -269)\" width=\"14\" x=\"451\" xlink:href=\"data:image/png;base64,\niVBORw0KGgoAAAANSUhEUgAAAA4AAAENCAYAAAA/q1TLAAABhklEQVR4nO2ZwbEDIQxDDbiPX97v/x4gHezhOSvGQO4aSbbQLKT829808PNWCMzMW2HIRIyVwXINh5rM5PEyvgM8YThZGHlZVeqxQJNeKbA0ZnOF1AqlBoajnmpgOHgd6gAEkiPPKp0qDUCgc27Inxj1IaeMvOWwRzmQeiytUSCdKpeaZaq8c/Qeecj336NX+elY0QB5pFa4DuNAda9Sqbxz8HDwHgPrOEAqT47aY+A83gZ4YNz+dATKqlCpFDjljEYfu3BWV3i8e/w9I/eIGyBNAHjn3OS8wwg9TvQvspkPiHRIaD6o1EmlckaGW+KREYaSw4CBzsk0nETHijIa9aiOXC6PkLHDlAcYeSGLPfLOWTEchDPvEBnxiHChAOzvcVCPC9ZxPT4AoUdeVvh0XOAewE8eqfJjtQTIvlf0UnnnZIpcHuDE3zmYEd9Y9VLpTYc/IMj3yKcq3yMFBi5lC0KOcDc57wDPaLmeBtjzSIXAwKu13ONIM9UTkuOT3gIyJeeIPTLgF+l5Z7yI8kSDAAAAAElFTkSuQmCC\" y=\"-48\"/>\n   <g id=\"LineCollection_1\"/>\n   <g id=\"patch_9\">\n    <path d=\"M 451.44 316.8 \nL 451.44 315.748125 \nL 451.44 48.571875 \nL 451.44 47.52 \nL 464.904 47.52 \nL 464.904 48.571875 \nL 464.904 315.748125 \nL 464.904 316.8 \nz\n\" style=\"fill:none;\"/>\n   </g>\n  </g>\n </g>\n <defs>\n  <clipPath id=\"p278ee2c872\">\n   <rect height=\"269.28\" width=\"269.28\" x=\"159.84\" y=\"47.52\"/>\n  </clipPath>\n  <clipPath id=\"p5d8b9554f3\">\n   <rect height=\"269.28\" width=\"13.464\" x=\"451.44\" y=\"47.52\"/>\n  </clipPath>\n </defs>\n</svg>\n"
      }
     },
     "97cd7350cf6949a18f2ddab8e19e99cc": {
      "model_module": "@jupyter-widgets/base",
      "model_module_version": "1.2.0",
      "model_name": "LayoutModel",
      "state": {
       "grid_area": "widget010"
      }
     },
     "97fd69b30e9147da90121b9a48a8e9d5": {
      "model_module": "@jupyter-widgets/base",
      "model_module_version": "1.2.0",
      "model_name": "LayoutModel",
      "state": {}
     },
     "982f7cc5273f4e1d9dcb5fb860db9a86": {
      "model_module": "@jupyter-widgets/controls",
      "model_module_version": "1.5.0",
      "model_name": "DescriptionStyleModel",
      "state": {
       "description_width": ""
      }
     },
     "98626ce85cfa4f92be5087379e2558e2": {
      "model_module": "@jupyter-widgets/base",
      "model_module_version": "1.2.0",
      "model_name": "LayoutModel",
      "state": {
       "grid_template_areas": "\"widget001 widget002 widget003\"\n\"widget004 widget005 widget006\"\n\"widget007 widget008 widget009\"\n\"widget010 widget011 widget012\"\n\"widget013 widget014 widget015\"\n\"widget016 widget017 widget018\"\n\"widget019 widget020 widget021\"",
       "grid_template_columns": "repeat(3, 1fr)",
       "grid_template_rows": "repeat(7, 1fr)"
      }
     },
     "98984968766e44b584f6d491a49fc799": {
      "model_module": "@jupyter-widgets/controls",
      "model_module_version": "1.5.0",
      "model_name": "DescriptionStyleModel",
      "state": {
       "description_width": ""
      }
     },
     "98e27bfd75454f8bae66586267b0c1b2": {
      "model_module": "@jupyter-widgets/controls",
      "model_module_version": "1.5.0",
      "model_name": "DescriptionStyleModel",
      "state": {
       "description_width": ""
      }
     },
     "98e441114ab842249aa76da83aa1d414": {
      "model_module": "@jupyter-widgets/controls",
      "model_module_version": "1.5.0",
      "model_name": "FloatProgressModel",
      "state": {
       "layout": "IPY_MODEL_6f8f77fff65d47409f016dc503fe9f3c",
       "max": 7,
       "style": "IPY_MODEL_47fb8cb0d1ec42c8baa5637a46ef4bef",
       "value": 1
      }
     },
     "9937e78ce9ea4a2499b04ba985456165": {
      "model_module": "@jupyter-widgets/controls",
      "model_module_version": "1.5.0",
      "model_name": "DescriptionStyleModel",
      "state": {
       "description_width": ""
      }
     },
     "996c7f0e3391459c9bd85e011a9ccece": {
      "model_module": "@jupyter-widgets/controls",
      "model_module_version": "1.5.0",
      "model_name": "DescriptionStyleModel",
      "state": {
       "description_width": ""
      }
     },
     "998f5df8c7dc4dde97f8b957f64337b9": {
      "model_module": "@jupyter-widgets/controls",
      "model_module_version": "1.5.0",
      "model_name": "DescriptionStyleModel",
      "state": {
       "description_width": ""
      }
     },
     "99a181a1d4e245668e067d113c8bbceb": {
      "model_module": "@jupyter-widgets/base",
      "model_module_version": "1.2.0",
      "model_name": "LayoutModel",
      "state": {}
     },
     "99b87563982e4bf9966f56432d7eb217": {
      "model_module": "@jupyter-widgets/controls",
      "model_module_version": "1.5.0",
      "model_name": "HTMLModel",
      "state": {
       "layout": "IPY_MODEL_41989a78dd8744edb1aaeb219e97db01",
       "style": "IPY_MODEL_114f4e2d925e425cb723d4bacce46d56",
       "value": "184.0 B"
      }
     },
     "99bc8144538b445c903b2cfd41936975": {
      "model_module": "@jupyter-widgets/base",
      "model_module_version": "1.2.0",
      "model_name": "LayoutModel",
      "state": {
       "grid_template_areas": "\"widget001 widget002\"\n\"widget003 widget004\"\n\"widget005 widget006\"\n\"widget007 widget008\"\n\"widget009 widget010\"\n\"widget011 widget012\"\n\"widget013 widget014\"\n\"widget015 widget016\"\n\"widget017 widget018\"",
       "grid_template_columns": "repeat(2, 1fr)",
       "grid_template_rows": "repeat(9, 1fr)"
      }
     },
     "99cdee0d3414410197a39eb6c2b8f5c2": {
      "model_module": "@jupyter-widgets/base",
      "model_module_version": "1.2.0",
      "model_name": "LayoutModel",
      "state": {
       "grid_area": "widget011"
      }
     },
     "99ec7d99dc03431da78441a8f98d327e": {
      "model_module": "@jupyter-widgets/controls",
      "model_module_version": "1.5.0",
      "model_name": "DescriptionStyleModel",
      "state": {
       "description_width": ""
      }
     },
     "9a223cb1b06640cbbacb8a61c91c75fb": {
      "model_module": "@jupyter-widgets/controls",
      "model_module_version": "1.5.0",
      "model_name": "DescriptionStyleModel",
      "state": {
       "description_width": ""
      }
     },
     "9a7f28df86b44744890a3af550f2fc62": {
      "model_module": "@jupyter-widgets/output",
      "model_module_version": "1.0.0",
      "model_name": "OutputModel",
      "state": {
       "layout": "IPY_MODEL_cd0d1b5997d64846aff901d2f3d91c32",
       "outputs": [
        {
         "data": {
          "text/html": "<div>\n<style scoped>\n    .dataframe tbody tr th:only-of-type {\n        vertical-align: middle;\n    }\n\n    .dataframe tbody tr th {\n        vertical-align: top;\n    }\n\n    .dataframe thead th {\n        text-align: right;\n    }\n</style>\n<table border=\"1\" class=\"dataframe\">\n  <thead>\n    <tr style=\"text-align: right;\">\n      <th></th>\n      <th>df_index</th>\n      <th>0</th>\n      <th>1</th>\n      <th>2</th>\n    </tr>\n  </thead>\n  <tbody>\n    <tr>\n      <th>0</th>\n      <td>2022-02-03</td>\n      <td>0.264503</td>\n      <td>-0.345312</td>\n      <td>1.260343</td>\n    </tr>\n    <tr>\n      <th>1</th>\n      <td>2022-02-04</td>\n      <td>-1.286440</td>\n      <td>-1.107862</td>\n      <td>1.571945</td>\n    </tr>\n    <tr>\n      <th>2</th>\n      <td>2022-02-05</td>\n      <td>-0.027269</td>\n      <td>-0.138083</td>\n      <td>0.462049</td>\n    </tr>\n    <tr>\n      <th>3</th>\n      <td>2022-02-06</td>\n      <td>-1.090419</td>\n      <td>0.798509</td>\n      <td>0.795627</td>\n    </tr>\n    <tr>\n      <th>4</th>\n      <td>2022-02-07</td>\n      <td>1.571553</td>\n      <td>1.519501</td>\n      <td>1.566992</td>\n    </tr>\n    <tr>\n      <th>5</th>\n      <td>2022-02-08</td>\n      <td>0.975667</td>\n      <td>0.309376</td>\n      <td>0.512775</td>\n    </tr>\n    <tr>\n      <th>6</th>\n      <td>2022-02-09</td>\n      <td>NaN</td>\n      <td>NaN</td>\n      <td>NaN</td>\n    </tr>\n  </tbody>\n</table>\n</div>",
          "text/plain": "    df_index         0         1         2\n0 2022-02-03  0.264503 -0.345312  1.260343\n1 2022-02-04 -1.286440 -1.107862  1.571945\n2 2022-02-05 -0.027269 -0.138083  0.462049\n3 2022-02-06 -1.090419  0.798509  0.795627\n4 2022-02-07  1.571553  1.519501  1.566992\n5 2022-02-08  0.975667  0.309376  0.512775\n6 2022-02-09       NaN       NaN       NaN"
         },
         "metadata": {},
         "output_type": "display_data"
        }
       ]
      }
     },
     "9a81738cba0d419a9d9d74e8ebacd11f": {
      "model_module": "@jupyter-widgets/controls",
      "model_module_version": "1.5.0",
      "model_name": "HTMLModel",
      "state": {
       "layout": "IPY_MODEL_87ed84ec669f4491be2a1c00cfa8536b",
       "style": "IPY_MODEL_9e04fa4944cc4389a0cd9cc734b9bd08",
       "value": "7"
      }
     },
     "9a86bc306bf840f8a938d9abb55cc5b2": {
      "model_module": "@jupyter-widgets/base",
      "model_module_version": "1.2.0",
      "model_name": "LayoutModel",
      "state": {
       "display": "none"
      }
     },
     "9a8eea78816a453199c77c7ef1448eb9": {
      "model_module": "@jupyter-widgets/controls",
      "model_module_version": "1.5.0",
      "model_name": "DescriptionStyleModel",
      "state": {
       "description_width": ""
      }
     },
     "9ac8268f7b0746c8bd41380878fbad7d": {
      "model_module": "@jupyter-widgets/base",
      "model_module_version": "1.2.0",
      "model_name": "LayoutModel",
      "state": {}
     },
     "9ad0148fb7bc43519f5ba8e78723f21a": {
      "model_module": "@jupyter-widgets/controls",
      "model_module_version": "1.5.0",
      "model_name": "ProgressStyleModel",
      "state": {
       "description_width": ""
      }
     },
     "9b2b6008176a4bfe80c4ca53a1cf31a0": {
      "model_module": "@jupyter-widgets/controls",
      "model_module_version": "1.5.0",
      "model_name": "FloatProgressModel",
      "state": {
       "layout": "IPY_MODEL_aab24ce25ebf4837833cb52589a81c8c",
       "max": 7,
       "style": "IPY_MODEL_5d81d5c0ce3c4c4a87831584410792e2",
       "value": 1
      }
     },
     "9b66899514e6481396c6b45d928e0096": {
      "model_module": "@jupyter-widgets/controls",
      "model_module_version": "1.5.0",
      "model_name": "LabelModel",
      "state": {
       "layout": "IPY_MODEL_4ca78646b5654a4182bae11870439f53",
       "style": "IPY_MODEL_7afb5a0448394e95ad06aa6159b09d07",
       "value": "1"
      }
     },
     "9b8c25fb4f544abcb362c8a5bfee5e4f": {
      "model_module": "@jupyter-widgets/controls",
      "model_module_version": "1.5.0",
      "model_name": "HTMLModel",
      "state": {
       "layout": "IPY_MODEL_bc5348686b5642e5978a4c76c6d96e79",
       "style": "IPY_MODEL_98984968766e44b584f6d491a49fc799",
       "value": "Distinct (%)"
      }
     },
     "9b8f54369ab94e3681893bcc548c5975": {
      "model_module": "@jupyter-widgets/base",
      "model_module_version": "1.2.0",
      "model_name": "LayoutModel",
      "state": {
       "grid_area": "widget013"
      }
     },
     "9b9f3b241e3a4f8ead407c7c4ea11a71": {
      "model_module": "@jupyter-widgets/base",
      "model_module_version": "1.2.0",
      "model_name": "LayoutModel",
      "state": {
       "grid_area": "widget003"
      }
     },
     "9ba05c20430248eb954314c4d0fc9b95": {
      "model_module": "@jupyter-widgets/controls",
      "model_module_version": "1.5.0",
      "model_name": "HTMLModel",
      "state": {
       "layout": "IPY_MODEL_a397885d0ff34ec9ac4c0919a8f006c3",
       "style": "IPY_MODEL_5dd52e4070e64c3386c7d2cf8ae0a3b2",
       "value": "Interquartile range (IQR)"
      }
     },
     "9bd50be991cc4e7c88ed7280d5313574": {
      "model_module": "@jupyter-widgets/controls",
      "model_module_version": "1.5.0",
      "model_name": "DescriptionStyleModel",
      "state": {
       "description_width": ""
      }
     },
     "9c2284d849364b3ba052133f59c0378d": {
      "model_module": "@jupyter-widgets/controls",
      "model_module_version": "1.5.0",
      "model_name": "DescriptionStyleModel",
      "state": {
       "description_width": ""
      }
     },
     "9c2b20228a8b4a2fb056f750b1e6f022": {
      "model_module": "@jupyter-widgets/base",
      "model_module_version": "1.2.0",
      "model_name": "LayoutModel",
      "state": {
       "grid_template_columns": "25% 25% 25% 25%",
       "width": "100%"
      }
     },
     "9cab014b8a444bb2994122da64f9e608": {
      "model_module": "@jupyter-widgets/controls",
      "model_module_version": "1.5.0",
      "model_name": "DescriptionStyleModel",
      "state": {
       "description_width": ""
      }
     },
     "9cca4c4bd2054bf78180ed2d837ed04f": {
      "model_module": "@jupyter-widgets/controls",
      "model_module_version": "1.5.0",
      "model_name": "DescriptionStyleModel",
      "state": {
       "description_width": ""
      }
     },
     "9cd8137e77a240d88acb11ed66f2086a": {
      "model_module": "@jupyter-widgets/controls",
      "model_module_version": "1.5.0",
      "model_name": "HTMLModel",
      "state": {
       "layout": "IPY_MODEL_e321f99bfec34279813e045e2e75534f",
       "style": "IPY_MODEL_26ec803f0caf44e9b7bb540a557e2a9e",
       "value": "<?xml version=\"1.0\" encoding=\"utf-8\" standalone=\"no\"?>\n<!DOCTYPE svg style=\"max-width: 100%\" PUBLIC \"-//W3C//DTD SVG 1.1//EN\"\n  \"http://www.w3.org/Graphics/SVG/1.1/DTD/svg11.dtd\">\n<svg style=\"max-width: 100%\"  version=\"1.1\" viewBox=\"0 0 432 288\" width=\"432pt\" xmlns=\"http://www.w3.org/2000/svg\" xmlns:xlink=\"http://www.w3.org/1999/xlink\">\n <metadata>\n  <rdf:RDF xmlns:cc=\"http://creativecommons.org/ns#\" xmlns:dc=\"http://purl.org/dc/elements/1.1/\" xmlns:rdf=\"http://www.w3.org/1999/02/22-rdf-syntax-ns#\">\n   <cc:Work>\n    <dc:type rdf:resource=\"http://purl.org/dc/dcmitype/StillImage\"/>\n    <dc:date>2022-10-01T17:17:58.863693</dc:date>\n    <dc:format>image/svg+xml</dc:format>\n    <dc:creator>\n     <cc:Agent>\n      <dc:title>Matplotlib v3.4.3, https://matplotlib.org/</dc:title>\n     </cc:Agent>\n    </dc:creator>\n   </cc:Work>\n  </rdf:RDF>\n </metadata>\n <defs>\n  <style type=\"text/css\">*{stroke-linecap:butt;stroke-linejoin:round;}</style>\n </defs>\n <g id=\"figure_1\">\n  <g id=\"patch_1\">\n   <path d=\"M 0 288 \nL 432 288 \nL 432 0 \nL 0 0 \nz\n\" style=\"fill:#ffffff;\"/>\n  </g>\n  <g id=\"axes_1\">\n   <g id=\"patch_2\">\n    <path d=\"M 57.675 242.393204 \nL 421.2 242.393204 \nL 421.2 10.8 \nL 57.675 10.8 \nz\n\" style=\"fill:#ffffff;\"/>\n   </g>\n   <g id=\"matplotlib.axis_1\">\n    <g id=\"xtick_1\">\n     <g id=\"text_1\">\n      <!-- −1.0 -->\n      <g style=\"fill:#262626;\" transform=\"translate(100.686553 275.436652)rotate(-45)scale(0.1 -0.1)\">\n       <defs>\n        <path d=\"M 678 2272 \nL 4684 2272 \nL 4684 1741 \nL 678 1741 \nL 678 2272 \nz\n\" id=\"DejaVuSans-2212\" transform=\"scale(0.015625)\"/>\n        <path d=\"M 794 531 \nL 1825 531 \nL 1825 4091 \nL 703 3866 \nL 703 4441 \nL 1819 4666 \nL 2450 4666 \nL 2450 531 \nL 3481 531 \nL 3481 0 \nL 794 0 \nL 794 531 \nz\n\" id=\"DejaVuSans-31\" transform=\"scale(0.015625)\"/>\n        <path d=\"M 684 794 \nL 1344 794 \nL 1344 0 \nL 684 0 \nL 684 794 \nz\n\" id=\"DejaVuSans-2e\" transform=\"scale(0.015625)\"/>\n        <path d=\"M 2034 4250 \nQ 1547 4250 1301 3770 \nQ 1056 3291 1056 2328 \nQ 1056 1369 1301 889 \nQ 1547 409 2034 409 \nQ 2525 409 2770 889 \nQ 3016 1369 3016 2328 \nQ 3016 3291 2770 3770 \nQ 2525 4250 2034 4250 \nz\nM 2034 4750 \nQ 2819 4750 3233 4129 \nQ 3647 3509 3647 2328 \nQ 3647 1150 3233 529 \nQ 2819 -91 2034 -91 \nQ 1250 -91 836 529 \nQ 422 1150 422 2328 \nQ 422 3509 836 4129 \nQ 1250 4750 2034 4750 \nz\n\" id=\"DejaVuSans-30\" transform=\"scale(0.015625)\"/>\n       </defs>\n       <use xlink:href=\"#DejaVuSans-2212\"/>\n       <use x=\"83.789062\" xlink:href=\"#DejaVuSans-31\"/>\n       <use x=\"147.412109\" xlink:href=\"#DejaVuSans-2e\"/>\n       <use x=\"179.199219\" xlink:href=\"#DejaVuSans-30\"/>\n      </g>\n     </g>\n    </g>\n    <g id=\"xtick_2\">\n     <g id=\"text_2\">\n      <!-- −0.5 -->\n      <g style=\"fill:#262626;\" transform=\"translate(158.502883 275.436652)rotate(-45)scale(0.1 -0.1)\">\n       <defs>\n        <path d=\"M 691 4666 \nL 3169 4666 \nL 3169 4134 \nL 1269 4134 \nL 1269 2991 \nQ 1406 3038 1543 3061 \nQ 1681 3084 1819 3084 \nQ 2600 3084 3056 2656 \nQ 3513 2228 3513 1497 \nQ 3513 744 3044 326 \nQ 2575 -91 1722 -91 \nQ 1428 -91 1123 -41 \nQ 819 9 494 109 \nL 494 744 \nQ 775 591 1075 516 \nQ 1375 441 1709 441 \nQ 2250 441 2565 725 \nQ 2881 1009 2881 1497 \nQ 2881 1984 2565 2268 \nQ 2250 2553 1709 2553 \nQ 1456 2553 1204 2497 \nQ 953 2441 691 2322 \nL 691 4666 \nz\n\" id=\"DejaVuSans-35\" transform=\"scale(0.015625)\"/>\n       </defs>\n       <use xlink:href=\"#DejaVuSans-2212\"/>\n       <use x=\"83.789062\" xlink:href=\"#DejaVuSans-30\"/>\n       <use x=\"147.412109\" xlink:href=\"#DejaVuSans-2e\"/>\n       <use x=\"179.199219\" xlink:href=\"#DejaVuSans-35\"/>\n      </g>\n     </g>\n    </g>\n    <g id=\"xtick_3\">\n     <g id=\"text_3\">\n      <!-- 0.0 -->\n      <g style=\"fill:#262626;\" transform=\"translate(219.28188 269.511319)rotate(-45)scale(0.1 -0.1)\">\n       <use xlink:href=\"#DejaVuSans-30\"/>\n       <use x=\"63.623047\" xlink:href=\"#DejaVuSans-2e\"/>\n       <use x=\"95.410156\" xlink:href=\"#DejaVuSans-30\"/>\n      </g>\n     </g>\n    </g>\n    <g id=\"xtick_4\">\n     <g id=\"text_4\">\n      <!-- 0.5 -->\n      <g style=\"fill:#262626;\" transform=\"translate(277.09821 269.511319)rotate(-45)scale(0.1 -0.1)\">\n       <use xlink:href=\"#DejaVuSans-30\"/>\n       <use x=\"63.623047\" xlink:href=\"#DejaVuSans-2e\"/>\n       <use x=\"95.410156\" xlink:href=\"#DejaVuSans-35\"/>\n      </g>\n     </g>\n    </g>\n    <g id=\"xtick_5\">\n     <g id=\"text_5\">\n      <!-- 1.0 -->\n      <g style=\"fill:#262626;\" transform=\"translate(334.91454 269.511319)rotate(-45)scale(0.1 -0.1)\">\n       <use xlink:href=\"#DejaVuSans-31\"/>\n       <use x=\"63.623047\" xlink:href=\"#DejaVuSans-2e\"/>\n       <use x=\"95.410156\" xlink:href=\"#DejaVuSans-30\"/>\n      </g>\n     </g>\n    </g>\n    <g id=\"xtick_6\">\n     <g id=\"text_6\">\n      <!-- 1.5 -->\n      <g style=\"fill:#262626;\" transform=\"translate(392.73087 269.511319)rotate(-45)scale(0.1 -0.1)\">\n       <use xlink:href=\"#DejaVuSans-31\"/>\n       <use x=\"63.623047\" xlink:href=\"#DejaVuSans-2e\"/>\n       <use x=\"95.410156\" xlink:href=\"#DejaVuSans-35\"/>\n      </g>\n     </g>\n    </g>\n   </g>\n   <g id=\"matplotlib.axis_2\">\n    <g id=\"ytick_1\">\n     <g id=\"text_7\">\n      <!-- 0.00 -->\n      <g style=\"fill:#262626;\" transform=\"translate(24.909375 246.192423)scale(0.1 -0.1)\">\n       <use xlink:href=\"#DejaVuSans-30\"/>\n       <use x=\"63.623047\" xlink:href=\"#DejaVuSans-2e\"/>\n       <use x=\"95.410156\" xlink:href=\"#DejaVuSans-30\"/>\n       <use x=\"159.033203\" xlink:href=\"#DejaVuSans-30\"/>\n      </g>\n     </g>\n    </g>\n    <g id=\"ytick_2\">\n     <g id=\"text_8\">\n      <!-- 0.25 -->\n      <g style=\"fill:#262626;\" transform=\"translate(24.909375 218.621804)scale(0.1 -0.1)\">\n       <defs>\n        <path d=\"M 1228 531 \nL 3431 531 \nL 3431 0 \nL 469 0 \nL 469 531 \nQ 828 903 1448 1529 \nQ 2069 2156 2228 2338 \nQ 2531 2678 2651 2914 \nQ 2772 3150 2772 3378 \nQ 2772 3750 2511 3984 \nQ 2250 4219 1831 4219 \nQ 1534 4219 1204 4116 \nQ 875 4013 500 3803 \nL 500 4441 \nQ 881 4594 1212 4672 \nQ 1544 4750 1819 4750 \nQ 2544 4750 2975 4387 \nQ 3406 4025 3406 3419 \nQ 3406 3131 3298 2873 \nQ 3191 2616 2906 2266 \nQ 2828 2175 2409 1742 \nQ 1991 1309 1228 531 \nz\n\" id=\"DejaVuSans-32\" transform=\"scale(0.015625)\"/>\n       </defs>\n       <use xlink:href=\"#DejaVuSans-30\"/>\n       <use x=\"63.623047\" xlink:href=\"#DejaVuSans-2e\"/>\n       <use x=\"95.410156\" xlink:href=\"#DejaVuSans-32\"/>\n       <use x=\"159.033203\" xlink:href=\"#DejaVuSans-35\"/>\n      </g>\n     </g>\n    </g>\n    <g id=\"ytick_3\">\n     <g id=\"text_9\">\n      <!-- 0.50 -->\n      <g style=\"fill:#262626;\" transform=\"translate(24.909375 191.051184)scale(0.1 -0.1)\">\n       <use xlink:href=\"#DejaVuSans-30\"/>\n       <use x=\"63.623047\" xlink:href=\"#DejaVuSans-2e\"/>\n       <use x=\"95.410156\" xlink:href=\"#DejaVuSans-35\"/>\n       <use x=\"159.033203\" xlink:href=\"#DejaVuSans-30\"/>\n      </g>\n     </g>\n    </g>\n    <g id=\"ytick_4\">\n     <g id=\"text_10\">\n      <!-- 0.75 -->\n      <g style=\"fill:#262626;\" transform=\"translate(24.909375 163.480564)scale(0.1 -0.1)\">\n       <defs>\n        <path d=\"M 525 4666 \nL 3525 4666 \nL 3525 4397 \nL 1831 0 \nL 1172 0 \nL 2766 4134 \nL 525 4134 \nL 525 4666 \nz\n\" id=\"DejaVuSans-37\" transform=\"scale(0.015625)\"/>\n       </defs>\n       <use xlink:href=\"#DejaVuSans-30\"/>\n       <use x=\"63.623047\" xlink:href=\"#DejaVuSans-2e\"/>\n       <use x=\"95.410156\" xlink:href=\"#DejaVuSans-37\"/>\n       <use x=\"159.033203\" xlink:href=\"#DejaVuSans-35\"/>\n      </g>\n     </g>\n    </g>\n    <g id=\"ytick_5\">\n     <g id=\"text_11\">\n      <!-- 1.00 -->\n      <g style=\"fill:#262626;\" transform=\"translate(24.909375 135.909945)scale(0.1 -0.1)\">\n       <use xlink:href=\"#DejaVuSans-31\"/>\n       <use x=\"63.623047\" xlink:href=\"#DejaVuSans-2e\"/>\n       <use x=\"95.410156\" xlink:href=\"#DejaVuSans-30\"/>\n       <use x=\"159.033203\" xlink:href=\"#DejaVuSans-30\"/>\n      </g>\n     </g>\n    </g>\n    <g id=\"ytick_6\">\n     <g id=\"text_12\">\n      <!-- 1.25 -->\n      <g style=\"fill:#262626;\" transform=\"translate(24.909375 108.339325)scale(0.1 -0.1)\">\n       <use xlink:href=\"#DejaVuSans-31\"/>\n       <use x=\"63.623047\" xlink:href=\"#DejaVuSans-2e\"/>\n       <use x=\"95.410156\" xlink:href=\"#DejaVuSans-32\"/>\n       <use x=\"159.033203\" xlink:href=\"#DejaVuSans-35\"/>\n      </g>\n     </g>\n    </g>\n    <g id=\"ytick_7\">\n     <g id=\"text_13\">\n      <!-- 1.50 -->\n      <g style=\"fill:#262626;\" transform=\"translate(24.909375 80.768706)scale(0.1 -0.1)\">\n       <use xlink:href=\"#DejaVuSans-31\"/>\n       <use x=\"63.623047\" xlink:href=\"#DejaVuSans-2e\"/>\n       <use x=\"95.410156\" xlink:href=\"#DejaVuSans-35\"/>\n       <use x=\"159.033203\" xlink:href=\"#DejaVuSans-30\"/>\n      </g>\n     </g>\n    </g>\n    <g id=\"ytick_8\">\n     <g id=\"text_14\">\n      <!-- 1.75 -->\n      <g style=\"fill:#262626;\" transform=\"translate(24.909375 53.198086)scale(0.1 -0.1)\">\n       <use xlink:href=\"#DejaVuSans-31\"/>\n       <use x=\"63.623047\" xlink:href=\"#DejaVuSans-2e\"/>\n       <use x=\"95.410156\" xlink:href=\"#DejaVuSans-37\"/>\n       <use x=\"159.033203\" xlink:href=\"#DejaVuSans-35\"/>\n      </g>\n     </g>\n    </g>\n    <g id=\"ytick_9\">\n     <g id=\"text_15\">\n      <!-- 2.00 -->\n      <g style=\"fill:#262626;\" transform=\"translate(24.909375 25.627467)scale(0.1 -0.1)\">\n       <use xlink:href=\"#DejaVuSans-32\"/>\n       <use x=\"63.623047\" xlink:href=\"#DejaVuSans-2e\"/>\n       <use x=\"95.410156\" xlink:href=\"#DejaVuSans-30\"/>\n       <use x=\"159.033203\" xlink:href=\"#DejaVuSans-30\"/>\n      </g>\n     </g>\n    </g>\n    <g id=\"text_16\">\n     <!-- Frequency -->\n     <g style=\"fill:#262626;\" transform=\"translate(18.621719 155.009258)rotate(-90)scale(0.11 -0.11)\">\n      <defs>\n       <path d=\"M 628 4666 \nL 3309 4666 \nL 3309 4134 \nL 1259 4134 \nL 1259 2759 \nL 3109 2759 \nL 3109 2228 \nL 1259 2228 \nL 1259 0 \nL 628 0 \nL 628 4666 \nz\n\" id=\"DejaVuSans-46\" transform=\"scale(0.015625)\"/>\n       <path d=\"M 2631 2963 \nQ 2534 3019 2420 3045 \nQ 2306 3072 2169 3072 \nQ 1681 3072 1420 2755 \nQ 1159 2438 1159 1844 \nL 1159 0 \nL 581 0 \nL 581 3500 \nL 1159 3500 \nL 1159 2956 \nQ 1341 3275 1631 3429 \nQ 1922 3584 2338 3584 \nQ 2397 3584 2469 3576 \nQ 2541 3569 2628 3553 \nL 2631 2963 \nz\n\" id=\"DejaVuSans-72\" transform=\"scale(0.015625)\"/>\n       <path d=\"M 3597 1894 \nL 3597 1613 \nL 953 1613 \nQ 991 1019 1311 708 \nQ 1631 397 2203 397 \nQ 2534 397 2845 478 \nQ 3156 559 3463 722 \nL 3463 178 \nQ 3153 47 2828 -22 \nQ 2503 -91 2169 -91 \nQ 1331 -91 842 396 \nQ 353 884 353 1716 \nQ 353 2575 817 3079 \nQ 1281 3584 2069 3584 \nQ 2775 3584 3186 3129 \nQ 3597 2675 3597 1894 \nz\nM 3022 2063 \nQ 3016 2534 2758 2815 \nQ 2500 3097 2075 3097 \nQ 1594 3097 1305 2825 \nQ 1016 2553 972 2059 \nL 3022 2063 \nz\n\" id=\"DejaVuSans-65\" transform=\"scale(0.015625)\"/>\n       <path d=\"M 947 1747 \nQ 947 1113 1208 752 \nQ 1469 391 1925 391 \nQ 2381 391 2643 752 \nQ 2906 1113 2906 1747 \nQ 2906 2381 2643 2742 \nQ 2381 3103 1925 3103 \nQ 1469 3103 1208 2742 \nQ 947 2381 947 1747 \nz\nM 2906 525 \nQ 2725 213 2448 61 \nQ 2172 -91 1784 -91 \nQ 1150 -91 751 415 \nQ 353 922 353 1747 \nQ 353 2572 751 3078 \nQ 1150 3584 1784 3584 \nQ 2172 3584 2448 3432 \nQ 2725 3281 2906 2969 \nL 2906 3500 \nL 3481 3500 \nL 3481 -1331 \nL 2906 -1331 \nL 2906 525 \nz\n\" id=\"DejaVuSans-71\" transform=\"scale(0.015625)\"/>\n       <path d=\"M 544 1381 \nL 544 3500 \nL 1119 3500 \nL 1119 1403 \nQ 1119 906 1312 657 \nQ 1506 409 1894 409 \nQ 2359 409 2629 706 \nQ 2900 1003 2900 1516 \nL 2900 3500 \nL 3475 3500 \nL 3475 0 \nL 2900 0 \nL 2900 538 \nQ 2691 219 2414 64 \nQ 2138 -91 1772 -91 \nQ 1169 -91 856 284 \nQ 544 659 544 1381 \nz\nM 1991 3584 \nL 1991 3584 \nz\n\" id=\"DejaVuSans-75\" transform=\"scale(0.015625)\"/>\n       <path d=\"M 3513 2113 \nL 3513 0 \nL 2938 0 \nL 2938 2094 \nQ 2938 2591 2744 2837 \nQ 2550 3084 2163 3084 \nQ 1697 3084 1428 2787 \nQ 1159 2491 1159 1978 \nL 1159 0 \nL 581 0 \nL 581 3500 \nL 1159 3500 \nL 1159 2956 \nQ 1366 3272 1645 3428 \nQ 1925 3584 2291 3584 \nQ 2894 3584 3203 3211 \nQ 3513 2838 3513 2113 \nz\n\" id=\"DejaVuSans-6e\" transform=\"scale(0.015625)\"/>\n       <path d=\"M 3122 3366 \nL 3122 2828 \nQ 2878 2963 2633 3030 \nQ 2388 3097 2138 3097 \nQ 1578 3097 1268 2742 \nQ 959 2388 959 1747 \nQ 959 1106 1268 751 \nQ 1578 397 2138 397 \nQ 2388 397 2633 464 \nQ 2878 531 3122 666 \nL 3122 134 \nQ 2881 22 2623 -34 \nQ 2366 -91 2075 -91 \nQ 1284 -91 818 406 \nQ 353 903 353 1747 \nQ 353 2603 823 3093 \nQ 1294 3584 2113 3584 \nQ 2378 3584 2631 3529 \nQ 2884 3475 3122 3366 \nz\n\" id=\"DejaVuSans-63\" transform=\"scale(0.015625)\"/>\n       <path d=\"M 2059 -325 \nQ 1816 -950 1584 -1140 \nQ 1353 -1331 966 -1331 \nL 506 -1331 \nL 506 -850 \nL 844 -850 \nQ 1081 -850 1212 -737 \nQ 1344 -625 1503 -206 \nL 1606 56 \nL 191 3500 \nL 800 3500 \nL 1894 763 \nL 2988 3500 \nL 3597 3500 \nL 2059 -325 \nz\n\" id=\"DejaVuSans-79\" transform=\"scale(0.015625)\"/>\n      </defs>\n      <use xlink:href=\"#DejaVuSans-46\"/>\n      <use x=\"50.269531\" xlink:href=\"#DejaVuSans-72\"/>\n      <use x=\"89.132812\" xlink:href=\"#DejaVuSans-65\"/>\n      <use x=\"150.65625\" xlink:href=\"#DejaVuSans-71\"/>\n      <use x=\"214.132812\" xlink:href=\"#DejaVuSans-75\"/>\n      <use x=\"277.511719\" xlink:href=\"#DejaVuSans-65\"/>\n      <use x=\"339.035156\" xlink:href=\"#DejaVuSans-6e\"/>\n      <use x=\"402.414062\" xlink:href=\"#DejaVuSans-63\"/>\n      <use x=\"457.394531\" xlink:href=\"#DejaVuSans-79\"/>\n     </g>\n    </g>\n   </g>\n   <g id=\"patch_3\">\n    <path clip-path=\"url(#pabd0499e5d)\" d=\"M 74.198864 242.393204 \nL 129.278409 242.393204 \nL 129.278409 21.828248 \nL 74.198864 21.828248 \nz\n\" style=\"fill:#337ab7;stroke:#ffffff;stroke-linejoin:miter;stroke-width:0.3;\"/>\n   </g>\n   <g id=\"patch_4\">\n    <path clip-path=\"url(#pabd0499e5d)\" d=\"M 129.278409 242.393204 \nL 184.357955 242.393204 \nL 184.357955 242.393204 \nL 129.278409 242.393204 \nz\n\" style=\"fill:#337ab7;stroke:#ffffff;stroke-linejoin:miter;stroke-width:0.3;\"/>\n   </g>\n   <g id=\"patch_5\">\n    <path clip-path=\"url(#pabd0499e5d)\" d=\"M 184.357955 242.393204 \nL 239.4375 242.393204 \nL 239.4375 132.110726 \nL 184.357955 132.110726 \nz\n\" style=\"fill:#337ab7;stroke:#ffffff;stroke-linejoin:miter;stroke-width:0.3;\"/>\n   </g>\n   <g id=\"patch_6\">\n    <path clip-path=\"url(#pabd0499e5d)\" d=\"M 239.4375 242.393204 \nL 294.517045 242.393204 \nL 294.517045 132.110726 \nL 239.4375 132.110726 \nz\n\" style=\"fill:#337ab7;stroke:#ffffff;stroke-linejoin:miter;stroke-width:0.3;\"/>\n   </g>\n   <g id=\"patch_7\">\n    <path clip-path=\"url(#pabd0499e5d)\" d=\"M 294.517045 242.393204 \nL 349.596591 242.393204 \nL 349.596591 132.110726 \nL 294.517045 132.110726 \nz\n\" style=\"fill:#337ab7;stroke:#ffffff;stroke-linejoin:miter;stroke-width:0.3;\"/>\n   </g>\n   <g id=\"patch_8\">\n    <path clip-path=\"url(#pabd0499e5d)\" d=\"M 349.596591 242.393204 \nL 404.676136 242.393204 \nL 404.676136 132.110726 \nL 349.596591 132.110726 \nz\n\" style=\"fill:#337ab7;stroke:#ffffff;stroke-linejoin:miter;stroke-width:0.3;\"/>\n   </g>\n   <g id=\"patch_9\">\n    <path d=\"M 57.675 242.393204 \nL 57.675 10.8 \n\" style=\"fill:none;\"/>\n   </g>\n   <g id=\"patch_10\">\n    <path d=\"M 421.2 242.393204 \nL 421.2 10.8 \n\" style=\"fill:none;\"/>\n   </g>\n   <g id=\"patch_11\">\n    <path d=\"M 57.675 242.393204 \nL 421.2 242.393204 \n\" style=\"fill:none;\"/>\n   </g>\n   <g id=\"patch_12\">\n    <path d=\"M 57.675 10.8 \nL 421.2 10.8 \n\" style=\"fill:none;\"/>\n   </g>\n  </g>\n </g>\n <defs>\n  <clipPath id=\"pabd0499e5d\">\n   <rect height=\"231.593204\" width=\"363.525\" x=\"57.675\" y=\"10.8\"/>\n  </clipPath>\n </defs>\n</svg>\n"
      }
     },
     "9cdbc428bba7482e856109822bd63cdb": {
      "model_module": "@jupyter-widgets/controls",
      "model_module_version": "1.5.0",
      "model_name": "ProgressStyleModel",
      "state": {
       "description_width": ""
      }
     },
     "9cdc85ed51f343609318ebd3aff25de2": {
      "model_module": "@jupyter-widgets/base",
      "model_module_version": "1.2.0",
      "model_name": "LayoutModel",
      "state": {
       "grid_template_areas": "\"widget001 widget002 widget003\"\n\"widget004 widget005 widget006\"\n\"widget007 widget008 widget009\"\n\"widget010 widget011 widget012\"\n\"widget013 widget014 widget015\"\n\"widget016 widget017 widget018\"\n\"widget019 widget020 widget021\"",
       "grid_template_columns": "repeat(3, 1fr)",
       "grid_template_rows": "repeat(7, 1fr)"
      }
     },
     "9ce279bb57fe4a008ea3de8062c91ed7": {
      "model_module": "@jupyter-widgets/base",
      "model_module_version": "1.2.0",
      "model_name": "LayoutModel",
      "state": {}
     },
     "9d1931890f2a4111bb57daa416933abb": {
      "model_module": "@jupyter-widgets/base",
      "model_module_version": "1.2.0",
      "model_name": "LayoutModel",
      "state": {
       "grid_area": "widget001"
      }
     },
     "9d8133649ef142f19c6933d1dc174148": {
      "model_module": "@jupyter-widgets/controls",
      "model_module_version": "1.5.0",
      "model_name": "HTMLModel",
      "state": {
       "layout": "IPY_MODEL_0f48c9675cba4806a474990da1c9626f",
       "style": "IPY_MODEL_37111548006249c78bf508591929e46a",
       "value": "<h4>Last rows</h4>"
      }
     },
     "9e04fa4944cc4389a0cd9cc734b9bd08": {
      "model_module": "@jupyter-widgets/controls",
      "model_module_version": "1.5.0",
      "model_name": "DescriptionStyleModel",
      "state": {
       "description_width": ""
      }
     },
     "9e1bc8d6b35e4d288bec7408b0be0529": {
      "model_module": "@jupyter-widgets/base",
      "model_module_version": "1.2.0",
      "model_name": "LayoutModel",
      "state": {
       "grid_area": "widget002"
      }
     },
     "9e6d7459313b4f5ab00a9e3032beb9d8": {
      "model_module": "@jupyter-widgets/controls",
      "model_module_version": "1.5.0",
      "model_name": "DescriptionStyleModel",
      "state": {
       "description_width": ""
      }
     },
     "9e99b00061cf41f8ab765964f2e8811c": {
      "model_module": "@jupyter-widgets/controls",
      "model_module_version": "1.5.0",
      "model_name": "VBoxModel",
      "state": {
       "children": [
        "IPY_MODEL_ed87f00004064f679c140360e0eb9fde",
        "IPY_MODEL_7ad2ae0423e94518a23fca77cf660323"
       ],
       "layout": "IPY_MODEL_a937f1c571ce45a49a2d76c34e64f97b"
      }
     },
     "9e9d3dc8f80b4188ae78f64c66c3267b": {
      "model_module": "@jupyter-widgets/controls",
      "model_module_version": "1.5.0",
      "model_name": "HTMLModel",
      "state": {
       "layout": "IPY_MODEL_855069496a884804a721343de8308a2a",
       "style": "IPY_MODEL_f75ee49b8d104c3eafcccecb31c0ac8d",
       "value": "1.028288431"
      }
     },
     "9ec50c36abac4dc3956f6091e11386d3": {
      "model_module": "@jupyter-widgets/controls",
      "model_module_version": "1.5.0",
      "model_name": "DescriptionStyleModel",
      "state": {
       "description_width": ""
      }
     },
     "9ee442897cd1438c8fcc4b5eb2030b50": {
      "model_module": "@jupyter-widgets/controls",
      "model_module_version": "1.5.0",
      "model_name": "HTMLModel",
      "state": {
       "layout": "IPY_MODEL_7592c27df1714608948111c797ba7d36",
       "style": "IPY_MODEL_0525d0caa477448ab641a74edeba73f9",
       "value": "Range"
      }
     },
     "9f2282e8304446408a7fd383c780c06f": {
      "model_module": "@jupyter-widgets/controls",
      "model_module_version": "1.5.0",
      "model_name": "DescriptionStyleModel",
      "state": {
       "description_width": ""
      }
     },
     "9f700dc6bec84aeb8c4b4543bbfa10b4": {
      "model_module": "@jupyter-widgets/base",
      "model_module_version": "1.2.0",
      "model_name": "LayoutModel",
      "state": {
       "grid_area": "widget001"
      }
     },
     "9fd3863cb3f549ab815c3dee358fab37": {
      "model_module": "@jupyter-widgets/base",
      "model_module_version": "1.2.0",
      "model_name": "LayoutModel",
      "state": {
       "grid_area": "widget010"
      }
     },
     "a05d0d3d5be94c98956636f89524c82f": {
      "model_module": "@jupyter-widgets/controls",
      "model_module_version": "1.5.0",
      "model_name": "HTMLModel",
      "state": {
       "layout": "IPY_MODEL_6b189cd8382b43af840e0dcd451c97b9",
       "style": "IPY_MODEL_0659d6ace5914040954184bd3daaf1b5",
       "value": "1.036129159"
      }
     },
     "a0604c189a9f469b8c57dd1bec41d68d": {
      "model_module": "@jupyter-widgets/controls",
      "model_module_version": "1.5.0",
      "model_name": "DescriptionStyleModel",
      "state": {
       "description_width": ""
      }
     },
     "a06d918c893d4fc98058a56ec2af3d08": {
      "model_module": "@jupyter-widgets/base",
      "model_module_version": "1.2.0",
      "model_name": "LayoutModel",
      "state": {}
     },
     "a071b09a30474dabba3d4167b581a788": {
      "model_module": "@jupyter-widgets/controls",
      "model_module_version": "1.5.0",
      "model_name": "DescriptionStyleModel",
      "state": {
       "description_width": ""
      }
     },
     "a08ba08b05884c63a3171e38caf64a2b": {
      "model_module": "@jupyter-widgets/controls",
      "model_module_version": "1.5.0",
      "model_name": "HTMLModel",
      "state": {
       "layout": "IPY_MODEL_c13003b0c3444be7a087acaad7dc35cb",
       "style": "IPY_MODEL_d3e31150d076461c956693bb5c0b63d1",
       "value": "1.028288431"
      }
     },
     "a097b38afe6d48f19cad6f6f7a8ea777": {
      "model_module": "@jupyter-widgets/controls",
      "model_module_version": "1.5.0",
      "model_name": "LabelModel",
      "state": {
       "layout": "IPY_MODEL_b33b4cd7c5424e8b973373e05f45dd4f",
       "style": "IPY_MODEL_1fc2ce69e6ee41fd908b77c469d2c43c",
       "value": "-1.0904188828735988"
      }
     },
     "a0a63978a3fe43b88f6842054b4ca3f9": {
      "model_module": "@jupyter-widgets/controls",
      "model_module_version": "1.5.0",
      "model_name": "DescriptionStyleModel",
      "state": {
       "description_width": ""
      }
     },
     "a0a9f9c58e60470e806e9153b6b61691": {
      "model_module": "@jupyter-widgets/controls",
      "model_module_version": "1.5.0",
      "model_name": "LabelModel",
      "state": {
       "layout": "IPY_MODEL_ed5258b83b6d47da989960adbd1cb3c8",
       "style": "IPY_MODEL_534a67e2b95d422e9f002a816c79d1cc",
       "value": "1"
      }
     },
     "a0f97740a51b43cdb42d563b32c0684e": {
      "model_module": "@jupyter-widgets/base",
      "model_module_version": "1.2.0",
      "model_name": "LayoutModel",
      "state": {
       "grid_template_columns": "100%",
       "width": "100%"
      }
     },
     "a1244d26b8544e01aa7919220029b10c": {
      "model_module": "@jupyter-widgets/controls",
      "model_module_version": "1.5.0",
      "model_name": "HTMLModel",
      "state": {
       "layout": "IPY_MODEL_7f581f95788f45919ebd5222e1987b56",
       "style": "IPY_MODEL_eb1b1501c4ca4885a668b6e0086e46e6",
       "value": "Infinite (%)"
      }
     },
     "a154881e60d649a3bffaef5a404b6aac": {
      "model_module": "@jupyter-widgets/controls",
      "model_module_version": "1.5.0",
      "model_name": "ButtonStyleModel",
      "state": {}
     },
     "a184569cab3e4bb68da5b0cf0231e177": {
      "model_module": "@jupyter-widgets/base",
      "model_module_version": "1.2.0",
      "model_name": "LayoutModel",
      "state": {
       "grid_area": "widget015"
      }
     },
     "a18b000351c54c44a6152008b7d7d3f4": {
      "model_module": "@jupyter-widgets/controls",
      "model_module_version": "1.5.0",
      "model_name": "GridBoxModel",
      "state": {
       "children": [
        "IPY_MODEL_d6d2c42090c14ef38726e463e1348ad3",
        "IPY_MODEL_f918f28406f24106bf3b3547b22cfde5"
       ],
       "layout": "IPY_MODEL_2af912b166774e97a6b29ea1730796d9"
      }
     },
     "a19d1b48098f4e069c1c56cc6f1007d0": {
      "model_module": "@jupyter-widgets/controls",
      "model_module_version": "1.5.0",
      "model_name": "ButtonModel",
      "state": {
       "button_style": "info",
       "description": "Missing",
       "disabled": true,
       "layout": "IPY_MODEL_2478ab4f91034a14b7e0b2a787b88afe",
       "style": "IPY_MODEL_4dccde67a969410da03c30c771071ed8"
      }
     },
     "a1a743f43e1848b8bf2bfde1fc0cb963": {
      "model_module": "@jupyter-widgets/controls",
      "model_module_version": "1.5.0",
      "model_name": "LabelModel",
      "state": {
       "layout": "IPY_MODEL_dc643faa07744432835c8f52cbbffa68",
       "style": "IPY_MODEL_63de53077aa84d31aba31d7e3942e713",
       "value": "0.30937586533192357"
      }
     },
     "a1cd0aad32744155a49db1cb7caf5c1e": {
      "model_module": "@jupyter-widgets/controls",
      "model_module_version": "1.5.0",
      "model_name": "DescriptionStyleModel",
      "state": {
       "description_width": ""
      }
     },
     "a1f6dee6c7ff4562be2edda676400241": {
      "model_module": "@jupyter-widgets/controls",
      "model_module_version": "1.5.0",
      "model_name": "DescriptionStyleModel",
      "state": {
       "description_width": ""
      }
     },
     "a1ff62c44355430fb33843ab56e5e535": {
      "model_module": "@jupyter-widgets/base",
      "model_module_version": "1.2.0",
      "model_name": "LayoutModel",
      "state": {
       "grid_area": "widget006"
      }
     },
     "a24c2e55e1eb4db29b1a5369786a3a3d": {
      "model_module": "@jupyter-widgets/controls",
      "model_module_version": "1.5.0",
      "model_name": "HTMLModel",
      "state": {
       "layout": "IPY_MODEL_06d22f97ec3a4a0bb2ec45bca84add20",
       "style": "IPY_MODEL_60e5c176e57447cdb03aa8d3871bc457",
       "value": "Infinite (%)"
      }
     },
     "a2bfa2e782404d579a0591b1405700ee": {
      "model_module": "@jupyter-widgets/base",
      "model_module_version": "1.2.0",
      "model_name": "LayoutModel",
      "state": {
       "grid_area": "widget006"
      }
     },
     "a2e2f7981dc744afac24f969bd7f5644": {
      "model_module": "@jupyter-widgets/controls",
      "model_module_version": "1.5.0",
      "model_name": "LabelModel",
      "state": {
       "layout": "IPY_MODEL_af8259678f1343e39e880a4235929644",
       "style": "IPY_MODEL_dd242971ec984287ae1b9f7956bb974e",
       "value": "1"
      }
     },
     "a2f7225b939c455485c974d95b9d923a": {
      "model_module": "@jupyter-widgets/base",
      "model_module_version": "1.2.0",
      "model_name": "LayoutModel",
      "state": {
       "grid_area": "widget015"
      }
     },
     "a30d3c4693634bfbb526e7b11f3bf5dc": {
      "model_module": "@jupyter-widgets/controls",
      "model_module_version": "1.5.0",
      "model_name": "LabelModel",
      "state": {
       "layout": "IPY_MODEL_0bfffb8c109a4d3690f68c1381d73250",
       "style": "IPY_MODEL_4344b2a52dff41c98cea6e96aba672ef",
       "value": "1.5719447334092151"
      }
     },
     "a315b1e0d8a34b53b1087881ff7f2131": {
      "model_module": "@jupyter-widgets/controls",
      "model_module_version": "1.5.0",
      "model_name": "HTMLModel",
      "state": {
       "layout": "IPY_MODEL_6e7b801df0e0441db24f48d83f6f5aa5",
       "style": "IPY_MODEL_08fc00c402c94989ae705e5cfee6bc58",
       "value": "Minimum"
      }
     },
     "a360cc9728614ff081239dcc691595d5": {
      "model_module": "@jupyter-widgets/controls",
      "model_module_version": "1.5.0",
      "model_name": "HTMLModel",
      "state": {
       "layout": "IPY_MODEL_e580fdf2d3e34fe187444bce05b37082",
       "style": "IPY_MODEL_724f09bf427b432cb63cddc5bb95c6fe",
       "value": "3"
      }
     },
     "a37421c4ea804cc9b0d79a589feefd09": {
      "model_module": "@jupyter-widgets/controls",
      "model_module_version": "1.5.0",
      "model_name": "DescriptionStyleModel",
      "state": {
       "description_width": ""
      }
     },
     "a388b5651c07485dae21331a6fb36418": {
      "model_module": "@jupyter-widgets/controls",
      "model_module_version": "1.5.0",
      "model_name": "HTMLModel",
      "state": {
       "layout": "IPY_MODEL_a54210edc6674c30889340a102cb3e40",
       "style": "IPY_MODEL_ddc0b6068b9848cca7f5b6b17eb0ed75",
       "value": "1.519501131"
      }
     },
     "a396167f0d944c83afd6f7576326d4c3": {
      "model_module": "@jupyter-widgets/controls",
      "model_module_version": "1.5.0",
      "model_name": "DescriptionStyleModel",
      "state": {
       "description_width": ""
      }
     },
     "a397885d0ff34ec9ac4c0919a8f006c3": {
      "model_module": "@jupyter-widgets/base",
      "model_module_version": "1.2.0",
      "model_name": "LayoutModel",
      "state": {
       "grid_area": "widget017"
      }
     },
     "a3f68f31a8ab4f16a0e34efaa7f6d4e2": {
      "model_module": "@jupyter-widgets/controls",
      "model_module_version": "1.5.0",
      "model_name": "DescriptionStyleModel",
      "state": {
       "description_width": ""
      }
     },
     "a4479425caf649b69811a89330c3bcc7": {
      "model_module": "@jupyter-widgets/controls",
      "model_module_version": "1.5.0",
      "model_name": "DescriptionStyleModel",
      "state": {
       "description_width": ""
      }
     },
     "a44b28615305477a86423293055e64bc": {
      "model_module": "@jupyter-widgets/controls",
      "model_module_version": "1.5.0",
      "model_name": "HTMLModel",
      "state": {
       "layout": "IPY_MODEL_cc1495e74b754a05ab8658cc9b3903e9",
       "style": "IPY_MODEL_d7a812e84c0f4136b0cdf1e0475fef7a",
       "value": "Q1"
      }
     },
     "a45b3dce2526493fb90de771e0fd5700": {
      "model_module": "@jupyter-widgets/controls",
      "model_module_version": "1.5.0",
      "model_name": "GridBoxModel",
      "state": {
       "children": [
        "IPY_MODEL_7b76d4731f0243fcaab35e8d166d3a88",
        "IPY_MODEL_7b67f841b31340169197ee5d34d54edf",
        "IPY_MODEL_835ec2974789436a9b25181e50692af5",
        "IPY_MODEL_edb612f619ff4b77be73a7ab4b225968",
        "IPY_MODEL_028fdaf6607b4396a5feaeccb3ec7f99",
        "IPY_MODEL_8e61a5d760eb457bb46dfcbfcaf33cc3",
        "IPY_MODEL_2e45a1b1acc244ba95ba94189dcc69a2",
        "IPY_MODEL_35491259f37f463da14d736c493979bd",
        "IPY_MODEL_236607562fb8419b82ff8940c2a962e7",
        "IPY_MODEL_f1ded6f0a45449f2bd98bb76e4992ef7",
        "IPY_MODEL_e27c9be6fe304348a00a77d17cc45320",
        "IPY_MODEL_a0a9f9c58e60470e806e9153b6b61691",
        "IPY_MODEL_f7cc27cb24d74d99bfb544b2a65af916",
        "IPY_MODEL_e577e3cabf364b898637c05c47d7694d",
        "IPY_MODEL_76258e208fa44b8993b850c1cf1b6813",
        "IPY_MODEL_a974aef6c6b14cdcada282bc6d917318",
        "IPY_MODEL_4cd54c9b91244e5799293198ea3a8f15",
        "IPY_MODEL_a2e2f7981dc744afac24f969bd7f5644"
       ],
       "layout": "IPY_MODEL_3b426375917b49239c2b02df2cfecb1b"
      }
     },
     "a47e38b3a1ff4a6aa005e5259012b828": {
      "model_module": "@jupyter-widgets/controls",
      "model_module_version": "1.5.0",
      "model_name": "DescriptionStyleModel",
      "state": {
       "description_width": ""
      }
     },
     "a48f16ba27d241fe8dfa19f57d2fad2f": {
      "model_module": "@jupyter-widgets/controls",
      "model_module_version": "1.5.0",
      "model_name": "VBoxModel",
      "state": {
       "children": [
        "IPY_MODEL_07d05c0bdeac40babfd1b988a03077da"
       ],
       "layout": "IPY_MODEL_32fa99d6f5e741db8c6b049aa582b837"
      }
     },
     "a4b1a48730cc44ee840d78be77ce4912": {
      "model_module": "@jupyter-widgets/controls",
      "model_module_version": "1.5.0",
      "model_name": "DescriptionStyleModel",
      "state": {
       "description_width": ""
      }
     },
     "a4b254f3415e4373a935f30e6e8ce4a4": {
      "model_module": "@jupyter-widgets/controls",
      "model_module_version": "1.5.0",
      "model_name": "DescriptionStyleModel",
      "state": {
       "description_width": ""
      }
     },
     "a4eb94a7214c45198c24c0deed853e70": {
      "model_module": "@jupyter-widgets/base",
      "model_module_version": "1.2.0",
      "model_name": "LayoutModel",
      "state": {}
     },
     "a4f509e34a1c416b909f800eec1fef2d": {
      "model_module": "@jupyter-widgets/base",
      "model_module_version": "1.2.0",
      "model_name": "LayoutModel",
      "state": {}
     },
     "a51ad1c1829442faaa194a0fbc5c45be": {
      "model_module": "@jupyter-widgets/controls",
      "model_module_version": "1.5.0",
      "model_name": "DescriptionStyleModel",
      "state": {
       "description_width": ""
      }
     },
     "a54210edc6674c30889340a102cb3e40": {
      "model_module": "@jupyter-widgets/base",
      "model_module_version": "1.2.0",
      "model_name": "LayoutModel",
      "state": {
       "grid_area": "widget004"
      }
     },
     "a576e918dc144354a956f4ce233899cb": {
      "model_module": "@jupyter-widgets/controls",
      "model_module_version": "1.5.0",
      "model_name": "HTMLModel",
      "state": {
       "layout": "IPY_MODEL_d2eafbdb6e9e4a4998e4c6149975944c",
       "style": "IPY_MODEL_30c4704740294755a0b59ea9fa5ca62e",
       "value": " 1/1 [00:06&lt;00:00,  6.06s/it]"
      }
     },
     "a59d3fe2af5a48e688ff619fe350cb06": {
      "model_module": "@jupyter-widgets/controls",
      "model_module_version": "1.5.0",
      "model_name": "DescriptionStyleModel",
      "state": {
       "description_width": ""
      }
     },
     "a5b2d81f321d477994f5d17b29daf1cb": {
      "model_module": "@jupyter-widgets/controls",
      "model_module_version": "1.5.0",
      "model_name": "HTMLModel",
      "state": {
       "layout": "IPY_MODEL_8c218d5625c141a1b144686177e271e6",
       "style": "IPY_MODEL_6459e3b557c24b4da27661f2b6bcd07e",
       "value": "Median Absolute Deviation (MAD)"
      }
     },
     "a5dfb7a8d2cf4faba7b3a0cdcb18b62b": {
      "model_module": "@jupyter-widgets/base",
      "model_module_version": "1.2.0",
      "model_name": "LayoutModel",
      "state": {}
     },
     "a5e03fa44d9b49c1931919f457d587cf": {
      "model_module": "@jupyter-widgets/controls",
      "model_module_version": "1.5.0",
      "model_name": "HTMLModel",
      "state": {
       "layout": "IPY_MODEL_f2b51371002d414aa7e7044c1e876826",
       "style": "IPY_MODEL_475d1f0fdf8e4a70b53202fbee134356",
       "value": "1.261732009"
      }
     },
     "a6171bfe5b5d47f3bfc72cd0c6a7f42c": {
      "model_module": "@jupyter-widgets/controls",
      "model_module_version": "1.5.0",
      "model_name": "HTMLModel",
      "state": {
       "layout": "IPY_MODEL_76ae17622998452da30b3e6e06c91989",
       "style": "IPY_MODEL_4c779bf9ef034e2082add872d3e75037",
       "value": "0.4747303603"
      }
     },
     "a61cd25d139e40c9a61af25bb2f3c535": {
      "model_module": "@jupyter-widgets/controls",
      "model_module_version": "1.5.0",
      "model_name": "DescriptionStyleModel",
      "state": {
       "description_width": ""
      }
     },
     "a64260553f9248fa94e8df795df52c5b": {
      "model_module": "@jupyter-widgets/base",
      "model_module_version": "1.2.0",
      "model_name": "LayoutModel",
      "state": {
       "grid_area": "widget015"
      }
     },
     "a6c9e75a924c4934b9f531d306de8d58": {
      "model_module": "@jupyter-widgets/controls",
      "model_module_version": "1.5.0",
      "model_name": "GridBoxModel",
      "state": {
       "children": [
        "IPY_MODEL_70cf52db43b44bcfa54a3828eb3ca15d",
        "IPY_MODEL_3d76c240246041e086ab86da7dc0df95",
        "IPY_MODEL_6479bf0280f24e4c8f47fc4089b462de",
        "IPY_MODEL_07b57ae0853d49b4bc1d653ac797494d"
       ],
       "layout": "IPY_MODEL_27991cd662514625984fdec2b6237399"
      }
     },
     "a72448a819e842ee975c51158570b278": {
      "model_module": "@jupyter-widgets/base",
      "model_module_version": "1.2.0",
      "model_name": "LayoutModel",
      "state": {}
     },
     "a7344576d4654bb4b1b5f0c0974c1bf4": {
      "model_module": "@jupyter-widgets/controls",
      "model_module_version": "1.5.0",
      "model_name": "HTMLModel",
      "state": {
       "layout": "IPY_MODEL_d5be75ae0d134078882e09827de0c316",
       "style": "IPY_MODEL_08e0ee78905542ca82a2e90f8b02ee24",
       "value": "1.622506882"
      }
     },
     "a743736457ae4ae5ace14062c7e18f55": {
      "model_module": "@jupyter-widgets/controls",
      "model_module_version": "1.5.0",
      "model_name": "DescriptionStyleModel",
      "state": {
       "description_width": ""
      }
     },
     "a76a2cfcbeae464d9de24676fe373033": {
      "model_module": "@jupyter-widgets/base",
      "model_module_version": "1.2.0",
      "model_name": "LayoutModel",
      "state": {
       "grid_area": "widget004"
      }
     },
     "a78e1ba8914841a4b6bab3db60697878": {
      "model_module": "@jupyter-widgets/base",
      "model_module_version": "1.2.0",
      "model_name": "LayoutModel",
      "state": {
       "align_items": "flex-end",
       "display": "flex",
       "flex_flow": "column",
       "width": "100%"
      }
     },
     "a7bc8091b2c54cf094c4e3332144dfc5": {
      "model_module": "@jupyter-widgets/controls",
      "model_module_version": "1.5.0",
      "model_name": "DescriptionStyleModel",
      "state": {
       "description_width": ""
      }
     },
     "a7e7fc77b102421dbd1723ec1811e78d": {
      "model_module": "@jupyter-widgets/controls",
      "model_module_version": "1.5.0",
      "model_name": "DescriptionStyleModel",
      "state": {
       "description_width": ""
      }
     },
     "a7f7d0ecd671404c96353baa107e34fb": {
      "model_module": "@jupyter-widgets/controls",
      "model_module_version": "1.5.0",
      "model_name": "DescriptionStyleModel",
      "state": {
       "description_width": ""
      }
     },
     "a8a069f06c5b4c10bba319bb3b01bb73": {
      "model_module": "@jupyter-widgets/controls",
      "model_module_version": "1.5.0",
      "model_name": "DescriptionStyleModel",
      "state": {
       "description_width": ""
      }
     },
     "a8aefea70791468f945f1c00544d9dc1": {
      "model_module": "@jupyter-widgets/base",
      "model_module_version": "1.2.0",
      "model_name": "LayoutModel",
      "state": {
       "grid_area": "widget006"
      }
     },
     "a8c3cbd1b380489bbb3af5bcb40d61e6": {
      "model_module": "@jupyter-widgets/base",
      "model_module_version": "1.2.0",
      "model_name": "LayoutModel",
      "state": {
       "grid_area": "widget003"
      }
     },
     "a8d3e92d585b4e7f9ef2ad3d840f8d4c": {
      "model_module": "@jupyter-widgets/base",
      "model_module_version": "1.2.0",
      "model_name": "LayoutModel",
      "state": {
       "grid_area": "widget009"
      }
     },
     "a937f1c571ce45a49a2d76c34e64f97b": {
      "model_module": "@jupyter-widgets/base",
      "model_module_version": "1.2.0",
      "model_name": "LayoutModel",
      "state": {}
     },
     "a965ee8008a3445cb9038a4b6baaf3e4": {
      "model_module": "@jupyter-widgets/base",
      "model_module_version": "1.2.0",
      "model_name": "LayoutModel",
      "state": {}
     },
     "a974aef6c6b14cdcada282bc6d917318": {
      "model_module": "@jupyter-widgets/controls",
      "model_module_version": "1.5.0",
      "model_name": "LabelModel",
      "state": {
       "layout": "IPY_MODEL_63436d55276e4931a82e95b708754afb",
       "style": "IPY_MODEL_873f5262e72649b2abef5e182bfb0693",
       "value": "1.5195011312197735"
      }
     },
     "aa0bde8175734705b32aeacc01119a33": {
      "model_module": "@jupyter-widgets/controls",
      "model_module_version": "1.5.0",
      "model_name": "HTMLModel",
      "state": {
       "layout": "IPY_MODEL_26ac160e2e624921b13b23901ffca1cc",
       "style": "IPY_MODEL_d038acac845c4e71901b6c3dc8576ec5",
       "value": "Q1"
      }
     },
     "aa40254ac8d44b2099b81ac6863fa0cd": {
      "model_module": "@jupyter-widgets/controls",
      "model_module_version": "1.5.0",
      "model_name": "DescriptionStyleModel",
      "state": {
       "description_width": ""
      }
     },
     "aa530a00cfbb4ed9bb1787e50e17b840": {
      "model_module": "@jupyter-widgets/controls",
      "model_module_version": "1.5.0",
      "model_name": "DescriptionStyleModel",
      "state": {
       "description_width": ""
      }
     },
     "aab24ce25ebf4837833cb52589a81c8c": {
      "model_module": "@jupyter-widgets/base",
      "model_module_version": "1.2.0",
      "model_name": "LayoutModel",
      "state": {
       "grid_area": "widget002"
      }
     },
     "aaba6dedc4e54aaa8dc765e2b31928ab": {
      "model_module": "@jupyter-widgets/controls",
      "model_module_version": "1.5.0",
      "model_name": "HTMLModel",
      "state": {
       "layout": "IPY_MODEL_90aeeafd227246edadeedf7fd19186b5",
       "style": "IPY_MODEL_6c589d06ea92473c8b42b7387011e029",
       "value": "Not monotonic"
      }
     },
     "aad18b862fc94f828f545a5b203cb248": {
      "model_module": "@jupyter-widgets/controls",
      "model_module_version": "1.5.0",
      "model_name": "HTMLModel",
      "state": {
       "layout": "IPY_MODEL_2557894c3c3d4fc29f18173f4e80f921",
       "style": "IPY_MODEL_93af577a41444e57bfbe7a184d8f35f1",
       "value": "Memory size"
      }
     },
     "aad557bfa82d4446bf2d37eba6ef7995": {
      "model_module": "@jupyter-widgets/controls",
      "model_module_version": "1.5.0",
      "model_name": "DescriptionStyleModel",
      "state": {
       "description_width": ""
      }
     },
     "aafa7737a5a84b41902bf3b47b01f052": {
      "model_module": "@jupyter-widgets/controls",
      "model_module_version": "1.5.0",
      "model_name": "LabelModel",
      "state": {
       "layout": "IPY_MODEL_15b268adf70d457891896d7cc2bbcffb",
       "style": "IPY_MODEL_afe7bf882a854a72b098f5cf39cc8f32",
       "value": "(Missing)"
      }
     },
     "ab4b949d11e04b94957175ba062fe947": {
      "model_module": "@jupyter-widgets/controls",
      "model_module_version": "1.5.0",
      "model_name": "HTMLModel",
      "state": {
       "layout": "IPY_MODEL_b0cf696407ec4048b69384c038bf26c0",
       "style": "IPY_MODEL_07a64ea599234a2b9ab31006ba176994",
       "value": "0"
      }
     },
     "ab9b8dbf699144a888480de8ed52cf51": {
      "model_module": "@jupyter-widgets/controls",
      "model_module_version": "1.5.0",
      "model_name": "HBoxModel",
      "state": {
       "children": [
        "IPY_MODEL_2b54151a2af34f8694fc108dd8bcc6ca",
        "IPY_MODEL_d227c9a4b3e54218b1a3b1f498f39461",
        "IPY_MODEL_3178bc496bc141908fc29672e7dedccf"
       ],
       "layout": "IPY_MODEL_8bc8d43a97ef4d1caf8c55b12098d9d3"
      }
     },
     "ab9fcb07ccc242e4b95a5eaa3520c683": {
      "model_module": "@jupyter-widgets/base",
      "model_module_version": "1.2.0",
      "model_name": "LayoutModel",
      "state": {
       "grid_area": "widget017"
      }
     },
     "aba4cbdeb7aa49ed8a0e3c5f5f916c04": {
      "model_module": "@jupyter-widgets/controls",
      "model_module_version": "1.5.0",
      "model_name": "HTMLModel",
      "state": {
       "layout": "IPY_MODEL_8d9876fe336e4dcaad61cec242e51a19",
       "style": "IPY_MODEL_fe9cf672b71f4b5e8dc43f25e4b7b729",
       "value": "<?xml version=\"1.0\" encoding=\"utf-8\" standalone=\"no\"?>\n<!DOCTYPE svg style=\"max-width: 100%\" PUBLIC \"-//W3C//DTD SVG 1.1//EN\"\n  \"http://www.w3.org/Graphics/SVG/1.1/DTD/svg11.dtd\">\n<svg style=\"max-width: 100%\"  version=\"1.1\" viewBox=\"0 0 576 396\" width=\"576pt\" xmlns=\"http://www.w3.org/2000/svg\" xmlns:xlink=\"http://www.w3.org/1999/xlink\">\n <metadata>\n  <rdf:RDF xmlns:cc=\"http://creativecommons.org/ns#\" xmlns:dc=\"http://purl.org/dc/elements/1.1/\" xmlns:rdf=\"http://www.w3.org/1999/02/22-rdf-syntax-ns#\">\n   <cc:Work>\n    <dc:type rdf:resource=\"http://purl.org/dc/dcmitype/StillImage\"/>\n    <dc:date>2022-10-01T17:17:56.989325</dc:date>\n    <dc:format>image/svg+xml</dc:format>\n    <dc:creator>\n     <cc:Agent>\n      <dc:title>Matplotlib v3.4.3, https://matplotlib.org/</dc:title>\n     </cc:Agent>\n    </dc:creator>\n   </cc:Work>\n  </rdf:RDF>\n </metadata>\n <defs>\n  <style type=\"text/css\">*{stroke-linecap:butt;stroke-linejoin:round;}</style>\n </defs>\n <g id=\"figure_1\">\n  <g id=\"patch_1\">\n   <path d=\"M 0 396 \nL 576 396 \nL 576 0 \nL 0 0 \nz\n\" style=\"fill:#ffffff;\"/>\n  </g>\n  <g id=\"axes_1\">\n   <g id=\"patch_2\">\n    <path d=\"M 72 346.5 \nL 518.4 346.5 \nL 518.4 47.52 \nL 72 47.52 \nz\n\" style=\"fill:#ffffff;\"/>\n   </g>\n   <g id=\"matplotlib.axis_1\">\n    <g id=\"xtick_1\">\n     <g id=\"text_1\">\n      <!-- 0.6 -->\n      <g style=\"fill:#262626;\" transform=\"translate(134.779311 364.598437)scale(0.1 -0.1)\">\n       <defs>\n        <path d=\"M 2034 4250 \nQ 1547 4250 1301 3770 \nQ 1056 3291 1056 2328 \nQ 1056 1369 1301 889 \nQ 1547 409 2034 409 \nQ 2525 409 2770 889 \nQ 3016 1369 3016 2328 \nQ 3016 3291 2770 3770 \nQ 2525 4250 2034 4250 \nz\nM 2034 4750 \nQ 2819 4750 3233 4129 \nQ 3647 3509 3647 2328 \nQ 3647 1150 3233 529 \nQ 2819 -91 2034 -91 \nQ 1250 -91 836 529 \nQ 422 1150 422 2328 \nQ 422 3509 836 4129 \nQ 1250 4750 2034 4750 \nz\n\" id=\"DejaVuSans-30\" transform=\"scale(0.015625)\"/>\n        <path d=\"M 684 794 \nL 1344 794 \nL 1344 0 \nL 684 0 \nL 684 794 \nz\n\" id=\"DejaVuSans-2e\" transform=\"scale(0.015625)\"/>\n        <path d=\"M 2113 2584 \nQ 1688 2584 1439 2293 \nQ 1191 2003 1191 1497 \nQ 1191 994 1439 701 \nQ 1688 409 2113 409 \nQ 2538 409 2786 701 \nQ 3034 994 3034 1497 \nQ 3034 2003 2786 2293 \nQ 2538 2584 2113 2584 \nz\nM 3366 4563 \nL 3366 3988 \nQ 3128 4100 2886 4159 \nQ 2644 4219 2406 4219 \nQ 1781 4219 1451 3797 \nQ 1122 3375 1075 2522 \nQ 1259 2794 1537 2939 \nQ 1816 3084 2150 3084 \nQ 2853 3084 3261 2657 \nQ 3669 2231 3669 1497 \nQ 3669 778 3244 343 \nQ 2819 -91 2113 -91 \nQ 1303 -91 875 529 \nQ 447 1150 447 2328 \nQ 447 3434 972 4092 \nQ 1497 4750 2381 4750 \nQ 2619 4750 2861 4703 \nQ 3103 4656 3366 4563 \nz\n\" id=\"DejaVuSans-36\" transform=\"scale(0.015625)\"/>\n       </defs>\n       <use xlink:href=\"#DejaVuSans-30\"/>\n       <use x=\"63.623047\" xlink:href=\"#DejaVuSans-2e\"/>\n       <use x=\"95.410156\" xlink:href=\"#DejaVuSans-36\"/>\n      </g>\n     </g>\n    </g>\n    <g id=\"xtick_2\">\n     <g id=\"text_2\">\n      <!-- 0.8 -->\n      <g style=\"fill:#262626;\" transform=\"translate(207.906559 364.598437)scale(0.1 -0.1)\">\n       <defs>\n        <path d=\"M 2034 2216 \nQ 1584 2216 1326 1975 \nQ 1069 1734 1069 1313 \nQ 1069 891 1326 650 \nQ 1584 409 2034 409 \nQ 2484 409 2743 651 \nQ 3003 894 3003 1313 \nQ 3003 1734 2745 1975 \nQ 2488 2216 2034 2216 \nz\nM 1403 2484 \nQ 997 2584 770 2862 \nQ 544 3141 544 3541 \nQ 544 4100 942 4425 \nQ 1341 4750 2034 4750 \nQ 2731 4750 3128 4425 \nQ 3525 4100 3525 3541 \nQ 3525 3141 3298 2862 \nQ 3072 2584 2669 2484 \nQ 3125 2378 3379 2068 \nQ 3634 1759 3634 1313 \nQ 3634 634 3220 271 \nQ 2806 -91 2034 -91 \nQ 1263 -91 848 271 \nQ 434 634 434 1313 \nQ 434 1759 690 2068 \nQ 947 2378 1403 2484 \nz\nM 1172 3481 \nQ 1172 3119 1398 2916 \nQ 1625 2713 2034 2713 \nQ 2441 2713 2670 2916 \nQ 2900 3119 2900 3481 \nQ 2900 3844 2670 4047 \nQ 2441 4250 2034 4250 \nQ 1625 4250 1398 4047 \nQ 1172 3844 1172 3481 \nz\n\" id=\"DejaVuSans-38\" transform=\"scale(0.015625)\"/>\n       </defs>\n       <use xlink:href=\"#DejaVuSans-30\"/>\n       <use x=\"63.623047\" xlink:href=\"#DejaVuSans-2e\"/>\n       <use x=\"95.410156\" xlink:href=\"#DejaVuSans-38\"/>\n      </g>\n     </g>\n    </g>\n    <g id=\"xtick_3\">\n     <g id=\"text_3\">\n      <!-- 1.0 -->\n      <g style=\"fill:#262626;\" transform=\"translate(281.033807 364.598437)scale(0.1 -0.1)\">\n       <defs>\n        <path d=\"M 794 531 \nL 1825 531 \nL 1825 4091 \nL 703 3866 \nL 703 4441 \nL 1819 4666 \nL 2450 4666 \nL 2450 531 \nL 3481 531 \nL 3481 0 \nL 794 0 \nL 794 531 \nz\n\" id=\"DejaVuSans-31\" transform=\"scale(0.015625)\"/>\n       </defs>\n       <use xlink:href=\"#DejaVuSans-31\"/>\n       <use x=\"63.623047\" xlink:href=\"#DejaVuSans-2e\"/>\n       <use x=\"95.410156\" xlink:href=\"#DejaVuSans-30\"/>\n      </g>\n     </g>\n    </g>\n    <g id=\"xtick_4\">\n     <g id=\"text_4\">\n      <!-- 1.2 -->\n      <g style=\"fill:#262626;\" transform=\"translate(354.161055 364.598437)scale(0.1 -0.1)\">\n       <defs>\n        <path d=\"M 1228 531 \nL 3431 531 \nL 3431 0 \nL 469 0 \nL 469 531 \nQ 828 903 1448 1529 \nQ 2069 2156 2228 2338 \nQ 2531 2678 2651 2914 \nQ 2772 3150 2772 3378 \nQ 2772 3750 2511 3984 \nQ 2250 4219 1831 4219 \nQ 1534 4219 1204 4116 \nQ 875 4013 500 3803 \nL 500 4441 \nQ 881 4594 1212 4672 \nQ 1544 4750 1819 4750 \nQ 2544 4750 2975 4387 \nQ 3406 4025 3406 3419 \nQ 3406 3131 3298 2873 \nQ 3191 2616 2906 2266 \nQ 2828 2175 2409 1742 \nQ 1991 1309 1228 531 \nz\n\" id=\"DejaVuSans-32\" transform=\"scale(0.015625)\"/>\n       </defs>\n       <use xlink:href=\"#DejaVuSans-31\"/>\n       <use x=\"63.623047\" xlink:href=\"#DejaVuSans-2e\"/>\n       <use x=\"95.410156\" xlink:href=\"#DejaVuSans-32\"/>\n      </g>\n     </g>\n    </g>\n    <g id=\"xtick_5\">\n     <g id=\"text_5\">\n      <!-- 1.4 -->\n      <g style=\"fill:#262626;\" transform=\"translate(427.288303 364.598437)scale(0.1 -0.1)\">\n       <defs>\n        <path d=\"M 2419 4116 \nL 825 1625 \nL 2419 1625 \nL 2419 4116 \nz\nM 2253 4666 \nL 3047 4666 \nL 3047 1625 \nL 3713 1625 \nL 3713 1100 \nL 3047 1100 \nL 3047 0 \nL 2419 0 \nL 2419 1100 \nL 313 1100 \nL 313 1709 \nL 2253 4666 \nz\n\" id=\"DejaVuSans-34\" transform=\"scale(0.015625)\"/>\n       </defs>\n       <use xlink:href=\"#DejaVuSans-31\"/>\n       <use x=\"63.623047\" xlink:href=\"#DejaVuSans-2e\"/>\n       <use x=\"95.410156\" xlink:href=\"#DejaVuSans-34\"/>\n      </g>\n     </g>\n    </g>\n    <g id=\"xtick_6\">\n     <g id=\"text_6\">\n      <!-- 1.6 -->\n      <g style=\"fill:#262626;\" transform=\"translate(500.415551 364.598437)scale(0.1 -0.1)\">\n       <use xlink:href=\"#DejaVuSans-31\"/>\n       <use x=\"63.623047\" xlink:href=\"#DejaVuSans-2e\"/>\n       <use x=\"95.410156\" xlink:href=\"#DejaVuSans-36\"/>\n      </g>\n     </g>\n    </g>\n    <g id=\"text_7\">\n     <!-- 2 -->\n     <g style=\"fill:#262626;\" transform=\"translate(291.700625 379.036406)scale(0.11 -0.11)\">\n      <use xlink:href=\"#DejaVuSans-32\"/>\n     </g>\n    </g>\n   </g>\n   <g id=\"matplotlib.axis_2\">\n    <g id=\"ytick_1\">\n     <g id=\"text_8\">\n      <!-- 0.6 -->\n      <g style=\"fill:#262626;\" transform=\"translate(45.596875 302.926646)scale(0.1 -0.1)\">\n       <use xlink:href=\"#DejaVuSans-30\"/>\n       <use x=\"63.623047\" xlink:href=\"#DejaVuSans-2e\"/>\n       <use x=\"95.410156\" xlink:href=\"#DejaVuSans-36\"/>\n      </g>\n     </g>\n    </g>\n    <g id=\"ytick_2\">\n     <g id=\"text_9\">\n      <!-- 0.8 -->\n      <g style=\"fill:#262626;\" transform=\"translate(45.596875 253.949082)scale(0.1 -0.1)\">\n       <use xlink:href=\"#DejaVuSans-30\"/>\n       <use x=\"63.623047\" xlink:href=\"#DejaVuSans-2e\"/>\n       <use x=\"95.410156\" xlink:href=\"#DejaVuSans-38\"/>\n      </g>\n     </g>\n    </g>\n    <g id=\"ytick_3\">\n     <g id=\"text_10\">\n      <!-- 1.0 -->\n      <g style=\"fill:#262626;\" transform=\"translate(45.596875 204.971518)scale(0.1 -0.1)\">\n       <use xlink:href=\"#DejaVuSans-31\"/>\n       <use x=\"63.623047\" xlink:href=\"#DejaVuSans-2e\"/>\n       <use x=\"95.410156\" xlink:href=\"#DejaVuSans-30\"/>\n      </g>\n     </g>\n    </g>\n    <g id=\"ytick_4\">\n     <g id=\"text_11\">\n      <!-- 1.2 -->\n      <g style=\"fill:#262626;\" transform=\"translate(45.596875 155.993954)scale(0.1 -0.1)\">\n       <use xlink:href=\"#DejaVuSans-31\"/>\n       <use x=\"63.623047\" xlink:href=\"#DejaVuSans-2e\"/>\n       <use x=\"95.410156\" xlink:href=\"#DejaVuSans-32\"/>\n      </g>\n     </g>\n    </g>\n    <g id=\"ytick_5\">\n     <g id=\"text_12\">\n      <!-- 1.4 -->\n      <g style=\"fill:#262626;\" transform=\"translate(45.596875 107.01639)scale(0.1 -0.1)\">\n       <use xlink:href=\"#DejaVuSans-31\"/>\n       <use x=\"63.623047\" xlink:href=\"#DejaVuSans-2e\"/>\n       <use x=\"95.410156\" xlink:href=\"#DejaVuSans-34\"/>\n      </g>\n     </g>\n    </g>\n    <g id=\"ytick_6\">\n     <g id=\"text_13\">\n      <!-- 1.6 -->\n      <g style=\"fill:#262626;\" transform=\"translate(45.596875 58.038826)scale(0.1 -0.1)\">\n       <use xlink:href=\"#DejaVuSans-31\"/>\n       <use x=\"63.623047\" xlink:href=\"#DejaVuSans-2e\"/>\n       <use x=\"95.410156\" xlink:href=\"#DejaVuSans-36\"/>\n      </g>\n     </g>\n    </g>\n    <g id=\"text_14\">\n     <!-- 2 -->\n     <g style=\"fill:#262626;\" transform=\"translate(39.309219 200.509375)rotate(-90)scale(0.11 -0.11)\">\n      <use xlink:href=\"#DejaVuSans-32\"/>\n     </g>\n    </g>\n   </g>\n   <g id=\"PathCollection_1\">\n    <defs>\n     <path d=\"M 0 3.5 \nC 0.928211 3.5 1.81853 3.131218 2.474874 2.474874 \nC 3.131218 1.81853 3.5 0.928211 3.5 0 \nC 3.5 -0.928211 3.131218 -1.81853 2.474874 -2.474874 \nC 1.81853 -3.131218 0.928211 -3.5 0 -3.5 \nC -0.928211 -3.5 -1.81853 -3.131218 -2.474874 -2.474874 \nC -3.131218 -1.81853 -3.5 -0.928211 -3.5 0 \nC -3.5 0.928211 -3.131218 1.81853 -2.474874 2.474874 \nC -1.81853 3.131218 -0.928211 3.5 0 3.5 \nz\n\" id=\"m27f296906d\" style=\"stroke:#337ab7;stroke-width:0.3;\"/>\n    </defs>\n    <g clip-path=\"url(#p5099bc9a92)\">\n     <use style=\"fill:#337ab7;stroke:#337ab7;stroke-width:0.3;\" x=\"384.176305\" xlink:href=\"#m27f296906d\" y=\"137.417402\"/>\n     <use style=\"fill:#337ab7;stroke:#337ab7;stroke-width:0.3;\" x=\"498.109091\" xlink:href=\"#m27f296906d\" y=\"61.11\"/>\n     <use style=\"fill:#337ab7;stroke:#337ab7;stroke-width:0.3;\" x=\"92.290909\" xlink:href=\"#m27f296906d\" y=\"332.91\"/>\n     <use style=\"fill:#337ab7;stroke:#337ab7;stroke-width:0.3;\" x=\"214.259089\" xlink:href=\"#m27f296906d\" y=\"251.220828\"/>\n     <use style=\"fill:#337ab7;stroke:#337ab7;stroke-width:0.3;\" x=\"496.298187\" xlink:href=\"#m27f296906d\" y=\"62.322867\"/>\n     <use style=\"fill:#337ab7;stroke:#337ab7;stroke-width:0.3;\" x=\"110.838289\" xlink:href=\"#m27f296906d\" y=\"320.487743\"/>\n    </g>\n   </g>\n   <g id=\"patch_3\">\n    <path d=\"M 72 346.5 \nL 72 47.52 \n\" style=\"fill:none;\"/>\n   </g>\n   <g id=\"patch_4\">\n    <path d=\"M 518.4 346.5 \nL 518.4 47.52 \n\" style=\"fill:none;\"/>\n   </g>\n   <g id=\"patch_5\">\n    <path d=\"M 72 346.5 \nL 518.4 346.5 \n\" style=\"fill:none;\"/>\n   </g>\n   <g id=\"patch_6\">\n    <path d=\"M 72 47.52 \nL 518.4 47.52 \n\" style=\"fill:none;\"/>\n   </g>\n  </g>\n </g>\n <defs>\n  <clipPath id=\"p5099bc9a92\">\n   <rect height=\"298.98\" width=\"446.4\" x=\"72\" y=\"47.52\"/>\n  </clipPath>\n </defs>\n</svg>\n"
      }
     },
     "abaf6e7b133545a8a926f339036b8cab": {
      "model_module": "@jupyter-widgets/base",
      "model_module_version": "1.2.0",
      "model_name": "LayoutModel",
      "state": {
       "grid_area": "widget002"
      }
     },
     "abb17061caac4e579b5ff298570cecf2": {
      "model_module": "@jupyter-widgets/base",
      "model_module_version": "1.2.0",
      "model_name": "LayoutModel",
      "state": {
       "grid_area": "widget001"
      }
     },
     "abc75a1043504ed382d07bf0212abb68": {
      "model_module": "@jupyter-widgets/controls",
      "model_module_version": "1.5.0",
      "model_name": "DescriptionStyleModel",
      "state": {
       "description_width": ""
      }
     },
     "abdf350851e44615b1e44af43b8a30fe": {
      "model_module": "@jupyter-widgets/controls",
      "model_module_version": "1.5.0",
      "model_name": "HTMLModel",
      "state": {
       "layout": "IPY_MODEL_c09758a467994409b2b66c4a965a231c",
       "style": "IPY_MODEL_996c7f0e3391459c9bd85e011a9ccece",
       "value": "0"
      }
     },
     "abfa2a7b933b4f6d97ed4a5d16aa221d": {
      "model_module": "@jupyter-widgets/controls",
      "model_module_version": "1.5.0",
      "model_name": "DescriptionStyleModel",
      "state": {
       "description_width": ""
      }
     },
     "ac059775d6544159b050e30b42868094": {
      "model_module": "@jupyter-widgets/base",
      "model_module_version": "1.2.0",
      "model_name": "LayoutModel",
      "state": {
       "grid_area": "widget018"
      }
     },
     "ac50a7bdec1c4c98b74be5e9d7a347dd": {
      "model_module": "@jupyter-widgets/controls",
      "model_module_version": "1.5.0",
      "model_name": "DescriptionStyleModel",
      "state": {
       "description_width": ""
      }
     },
     "ac67f25212bd4bf9beae9f8d6f6c2074": {
      "model_module": "@jupyter-widgets/base",
      "model_module_version": "1.2.0",
      "model_name": "LayoutModel",
      "state": {
       "grid_template_areas": "\"widget001 widget002\"\n\"widget003 widget004\"\n\"widget005 widget006\"\n\"widget007 widget008\"\n\"widget009 widget010\"\n\"widget011 widget012\"\n\"widget013 widget014\"",
       "grid_template_columns": "repeat(2, 1fr)",
       "grid_template_rows": "repeat(7, 1fr)"
      }
     },
     "acd7984181254ae7802527f399a0681e": {
      "model_module": "@jupyter-widgets/controls",
      "model_module_version": "1.5.0",
      "model_name": "VBoxModel",
      "state": {
       "children": [
        "IPY_MODEL_c20440e149d548aca532f317ee6499c8",
        "IPY_MODEL_257d95e1f4ab4852a3fd67001f8048f2"
       ],
       "layout": "IPY_MODEL_4b2f0f40b37247a9a8c116e14df849f8"
      }
     },
     "acedceda740144b2bfce8869ec3253ab": {
      "model_module": "@jupyter-widgets/controls",
      "model_module_version": "1.5.0",
      "model_name": "ProgressStyleModel",
      "state": {
       "description_width": ""
      }
     },
     "ad37fc476132455586f4f5a8aa119534": {
      "model_module": "@jupyter-widgets/controls",
      "model_module_version": "1.5.0",
      "model_name": "DescriptionStyleModel",
      "state": {
       "description_width": ""
      }
     },
     "adb821dfcf6a4cbf989c5b76a32e0a57": {
      "model_module": "@jupyter-widgets/controls",
      "model_module_version": "1.5.0",
      "model_name": "HTMLModel",
      "state": {
       "layout": "IPY_MODEL_464760cd96ab4454b2cee053cce01753",
       "style": "IPY_MODEL_f2783a8a99374de99015feee4e9798f6",
       "value": "0.9196687364"
      }
     },
     "add07b5de9b0445190627441b786e69d": {
      "model_module": "@jupyter-widgets/controls",
      "model_module_version": "1.5.0",
      "model_name": "LabelModel",
      "state": {
       "layout": "IPY_MODEL_3eaebb24baa1456f9a8c9f242499b06c",
       "style": "IPY_MODEL_1bca635ba2ee49989566f644cd798ed5",
       "value": "1.5669919865182924"
      }
     },
     "adea26f73682477f8330a4aa8b0ec8a8": {
      "model_module": "@jupyter-widgets/base",
      "model_module_version": "1.2.0",
      "model_name": "LayoutModel",
      "state": {
       "grid_area": "widget012"
      }
     },
     "adf5fb423f064897bc10476cd3a8eff0": {
      "model_module": "@jupyter-widgets/controls",
      "model_module_version": "1.5.0",
      "model_name": "HTMLModel",
      "state": {
       "layout": "IPY_MODEL_2e4af74b34934af292fba39ac3bc0c86",
       "style": "IPY_MODEL_29939b952f9241a7964f812013afd05c",
       "value": "0.0%"
      }
     },
     "adf70ed21fb846c58257620bd8d916aa": {
      "model_module": "@jupyter-widgets/controls",
      "model_module_version": "1.5.0",
      "model_name": "DescriptionStyleModel",
      "state": {
       "description_width": ""
      }
     },
     "ae3b1c990848496380c6e81534c99809": {
      "model_module": "@jupyter-widgets/base",
      "model_module_version": "1.2.0",
      "model_name": "LayoutModel",
      "state": {}
     },
     "ae426450246c4cf48ced87a168a4fa44": {
      "model_module": "@jupyter-widgets/base",
      "model_module_version": "1.2.0",
      "model_name": "LayoutModel",
      "state": {
       "grid_area": "widget008"
      }
     },
     "ae4cd1db5b344ce1b07c99020a6f307e": {
      "model_module": "@jupyter-widgets/controls",
      "model_module_version": "1.5.0",
      "model_name": "DescriptionStyleModel",
      "state": {
       "description_width": ""
      }
     },
     "ae5bc55e75d74a978d30cfebb3527312": {
      "model_module": "@jupyter-widgets/controls",
      "model_module_version": "1.5.0",
      "model_name": "HTMLModel",
      "state": {
       "layout": "IPY_MODEL_a76a2cfcbeae464d9de24676fe373033",
       "style": "IPY_MODEL_c2c451acdbcf4158a5bced3d76bcab80",
       "value": "100.0%"
      }
     },
     "ae6262d83e16424a8df94d5ce168fd85": {
      "model_module": "@jupyter-widgets/base",
      "model_module_version": "1.2.0",
      "model_name": "LayoutModel",
      "state": {
       "grid_area": "widget015"
      }
     },
     "ae667fb2f8514377ae414c4d855d5367": {
      "model_module": "@jupyter-widgets/controls",
      "model_module_version": "1.5.0",
      "model_name": "HTMLModel",
      "state": {
       "layout": "IPY_MODEL_6f16f6b791984ef6a78c5cd522e43485",
       "style": "IPY_MODEL_e19b7e631b9348f1a740f43629c0f58c",
       "value": "0.7978755426"
      }
     },
     "ae76c7933f6a49d3af69e903904b7d66": {
      "model_module": "@jupyter-widgets/base",
      "model_module_version": "1.2.0",
      "model_name": "LayoutModel",
      "state": {
       "grid_area": "widget014"
      }
     },
     "af137efa482b409f80feeae5f8ef53d1": {
      "model_module": "@jupyter-widgets/controls",
      "model_module_version": "1.5.0",
      "model_name": "HTMLModel",
      "state": {
       "layout": "IPY_MODEL_15cc21de7d5d46deb9dc32f3ae4e3573",
       "style": "IPY_MODEL_fa7931b75346456f8a77a2854831d80e",
       "value": "Skewness"
      }
     },
     "af2b6c892c444a10b26ec73fd3604bc3": {
      "model_module": "@jupyter-widgets/controls",
      "model_module_version": "1.5.0",
      "model_name": "DescriptionStyleModel",
      "state": {
       "description_width": ""
      }
     },
     "af2b9d2f532f4d3b95bac7283c872461": {
      "model_module": "@jupyter-widgets/controls",
      "model_module_version": "1.5.0",
      "model_name": "GridBoxModel",
      "state": {
       "children": [
        "IPY_MODEL_c2c017abaa5d4f30aec69824ca583fd5",
        "IPY_MODEL_90aa17f256a243beab572bc26a7bf7a3",
        "IPY_MODEL_45b5bbd2a7d9403eb256596dcaac1f2c",
        "IPY_MODEL_67045bb8b92a46e386db65e337cd6946",
        "IPY_MODEL_3fa65b99449b491380b2268f19bfd9fd",
        "IPY_MODEL_82bdda7497f6441cae014abe4c60896e",
        "IPY_MODEL_a1a743f43e1848b8bf2bfde1fc0cb963",
        "IPY_MODEL_f52e05f3a3d84d928d34e97d6ddbf232",
        "IPY_MODEL_726de76a74574b3d92f8f655cb028170",
        "IPY_MODEL_cab7eaa1f5c2492eacb9686a260814ea",
        "IPY_MODEL_5a13f7a8e55b4dc2bfa91091a3647902",
        "IPY_MODEL_cdb848a1bdfe4425b5c9b28754a64e0d",
        "IPY_MODEL_d5c6e3a39c5642ddb22347b9f1f1c4cd",
        "IPY_MODEL_42856097b741440a8bd8a13290eafe0f",
        "IPY_MODEL_d8654359d1cd476d8184c1cfe7d530e4",
        "IPY_MODEL_ec94ac68e924423daf6db998601ddb1b",
        "IPY_MODEL_65fd557c71f44e05a241dc65dfbfa736",
        "IPY_MODEL_5d7bb79640e7419596553c0a33567ad8"
       ],
       "layout": "IPY_MODEL_837a39cff8b340e3a3a4602553bcb10f"
      }
     },
     "af75364e724a4e61a9682f2a6d024d83": {
      "model_module": "@jupyter-widgets/controls",
      "model_module_version": "1.5.0",
      "model_name": "ProgressStyleModel",
      "state": {
       "description_width": ""
      }
     },
     "af8259678f1343e39e880a4235929644": {
      "model_module": "@jupyter-widgets/base",
      "model_module_version": "1.2.0",
      "model_name": "LayoutModel",
      "state": {
       "grid_area": "widget018"
      }
     },
     "afaf4855296e4426a31c85d07403c8cb": {
      "model_module": "@jupyter-widgets/base",
      "model_module_version": "1.2.0",
      "model_name": "LayoutModel",
      "state": {}
     },
     "afd5bae8755241a18bed74157451574d": {
      "model_module": "@jupyter-widgets/controls",
      "model_module_version": "1.5.0",
      "model_name": "HBoxModel",
      "state": {
       "children": [
        "IPY_MODEL_8bacd9d7da1f43899f5049d0e1686435"
       ],
       "layout": "IPY_MODEL_108910bf3b9a41c4a6e09cb362731812"
      }
     },
     "afe7bf882a854a72b098f5cf39cc8f32": {
      "model_module": "@jupyter-widgets/controls",
      "model_module_version": "1.5.0",
      "model_name": "DescriptionStyleModel",
      "state": {
       "description_width": ""
      }
     },
     "b01dfee556eb417496d2f3715de038d2": {
      "model_module": "@jupyter-widgets/controls",
      "model_module_version": "1.5.0",
      "model_name": "DescriptionStyleModel",
      "state": {
       "description_width": ""
      }
     },
     "b02b8d7eed3e4373b2e01d0faac00a66": {
      "model_module": "@jupyter-widgets/base",
      "model_module_version": "1.2.0",
      "model_name": "LayoutModel",
      "state": {
       "grid_area": "widget017"
      }
     },
     "b09bf3feab70479b9efaeaac77efb5be": {
      "model_module": "@jupyter-widgets/controls",
      "model_module_version": "1.5.0",
      "model_name": "HTMLModel",
      "state": {
       "layout": "IPY_MODEL_5ede4b599d1b4356a83ad09e69383741",
       "style": "IPY_MODEL_f7e600f4d750465bb6bfb53b6d05f80a",
       "value": "<a class=\"anchor\" href=\"#pp_var_-76298984715415843\">\n        <code>df_index</code>\n    </a> is highly correlated with <code>0</code> and <abbr title=\"0, 1, 2\">2 other fields</abbr>"
      }
     },
     "b09d0d7705824ed1a628b3bb676502c9": {
      "model_module": "@jupyter-widgets/base",
      "model_module_version": "1.2.0",
      "model_name": "LayoutModel",
      "state": {}
     },
     "b0cf696407ec4048b69384c038bf26c0": {
      "model_module": "@jupyter-widgets/base",
      "model_module_version": "1.2.0",
      "model_name": "LayoutModel",
      "state": {
       "grid_area": "widget006"
      }
     },
     "b0ef52b064dd4dbf85a8fa59e54902a4": {
      "model_module": "@jupyter-widgets/controls",
      "model_module_version": "1.5.0",
      "model_name": "LabelModel",
      "state": {
       "layout": "IPY_MODEL_f050001e73d84d5bbf36493710f28ffd",
       "style": "IPY_MODEL_a3f68f31a8ab4f16a0e34efaa7f6d4e2",
       "value": "1"
      }
     },
     "b1a5c59b2209489d9dd0286cdae52315": {
      "model_module": "@jupyter-widgets/controls",
      "model_module_version": "1.5.0",
      "model_name": "HTMLModel",
      "state": {
       "layout": "IPY_MODEL_2ecbd46b191a4b67ad95461aac345eb1",
       "style": "IPY_MODEL_252546e30eb44f61b6aba647239383fc",
       "value": "Interquartile range (IQR)"
      }
     },
     "b1d8577e49ed47aeabc476382bc2f962": {
      "model_module": "@jupyter-widgets/controls",
      "model_module_version": "1.5.0",
      "model_name": "HTMLModel",
      "state": {
       "layout": "IPY_MODEL_99cdee0d3414410197a39eb6c2b8f5c2",
       "style": "IPY_MODEL_25cb8fac25c540febd05c83c91e533a5",
       "value": "Skewness"
      }
     },
     "b2860f60d68b4173ad4a3a2af2644ba7": {
      "model_module": "@jupyter-widgets/base",
      "model_module_version": "1.2.0",
      "model_name": "LayoutModel",
      "state": {
       "grid_area": "widget008"
      }
     },
     "b2af4219125d4f6daaef354e6743833c": {
      "model_module": "@jupyter-widgets/base",
      "model_module_version": "1.2.0",
      "model_name": "LayoutModel",
      "state": {
       "grid_area": "widget014"
      }
     },
     "b2e8a006a01c4cf585fb31081a6650a2": {
      "model_module": "@jupyter-widgets/controls",
      "model_module_version": "1.5.0",
      "model_name": "HTMLModel",
      "state": {
       "layout": "IPY_MODEL_f0d32f2b8ac54a108335a6cc97e59dde",
       "style": "IPY_MODEL_9cab014b8a444bb2994122da64f9e608",
       "value": "0"
      }
     },
     "b32300a9b13143a6a0387feb4be01ad8": {
      "model_module": "@jupyter-widgets/controls",
      "model_module_version": "1.5.0",
      "model_name": "GridBoxModel",
      "state": {
       "children": [
        "IPY_MODEL_97bfcf4c69b146ba94c4faf865b26bc7",
        "IPY_MODEL_50e02f1a2f744454a72955bcfd326a0a"
       ],
       "layout": "IPY_MODEL_45c4266732bd46b0bce89cfdb30eb211"
      }
     },
     "b33b4cd7c5424e8b973373e05f45dd4f": {
      "model_module": "@jupyter-widgets/base",
      "model_module_version": "1.2.0",
      "model_name": "LayoutModel",
      "state": {
       "grid_area": "widget013"
      }
     },
     "b345c668193148e1aba8f2f7760ee3e4": {
      "model_module": "@jupyter-widgets/controls",
      "model_module_version": "1.5.0",
      "model_name": "HTMLModel",
      "state": {
       "layout": "IPY_MODEL_7da4e392c8f64d4c92a67df00be11c0d",
       "style": "IPY_MODEL_e90d1b9a3a124523837883f1d1741ec9",
       "value": "0"
      }
     },
     "b3491cddc1a340a290c60e78b7c967ee": {
      "model_module": "@jupyter-widgets/controls",
      "model_module_version": "1.5.0",
      "model_name": "FloatProgressModel",
      "state": {
       "bar_style": "danger",
       "layout": "IPY_MODEL_bb0892401389457dbba54c36c4582152",
       "max": 7,
       "style": "IPY_MODEL_c750266286534d3cb7f6012d40a8dcc8",
       "value": 1
      }
     },
     "b381eeff7fec4ca9b95b215681285cdc": {
      "model_module": "@jupyter-widgets/base",
      "model_module_version": "1.2.0",
      "model_name": "LayoutModel",
      "state": {
       "grid_area": "widget004"
      }
     },
     "b39d2afe8ec240cea375573f9d9bab63": {
      "model_module": "@jupyter-widgets/controls",
      "model_module_version": "1.5.0",
      "model_name": "HTMLModel",
      "state": {
       "layout": "IPY_MODEL_72bfebc56f0a482f912fc02288d982e3",
       "style": "IPY_MODEL_2fb1283df8454df0bdcd5d41364d421b",
       "value": "Not monotonic"
      }
     },
     "b3b8f3eebf664515b0868ddbb88fd495": {
      "model_module": "@jupyter-widgets/controls",
      "model_module_version": "1.5.0",
      "model_name": "VBoxModel",
      "state": {
       "children": [
        "IPY_MODEL_4cf554c3583740e88a746ec4f1aea055"
       ],
       "layout": "IPY_MODEL_422f966d80134cceba2e2a131d4ed3ab"
      }
     },
     "b3d1736fbf2f46e5a5687af5e2b8bd20": {
      "model_module": "@jupyter-widgets/controls",
      "model_module_version": "1.5.0",
      "model_name": "HTMLModel",
      "state": {
       "layout": "IPY_MODEL_38ae9b75cd9f48158396218b50edd924",
       "style": "IPY_MODEL_2d03542bd65645599cc3d5c18f66524a",
       "value": "1.033042706"
      }
     },
     "b43ee16820aa4a5481120daef12800c8": {
      "model_module": "@jupyter-widgets/controls",
      "model_module_version": "1.5.0",
      "model_name": "DescriptionStyleModel",
      "state": {
       "description_width": ""
      }
     },
     "b443326f72a948e5a84eb254f13c1aa6": {
      "model_module": "@jupyter-widgets/controls",
      "model_module_version": "1.5.0",
      "model_name": "HTMLModel",
      "state": {
       "layout": "IPY_MODEL_ae3b1c990848496380c6e81534c99809",
       "style": "IPY_MODEL_48ad338e0ed44cb6b4d3775ac9f5a597",
       "value": "<p style=\"color: #999\"><em>Nullity matrix is a data-dense display which lets you quickly visually pick out patterns in data completion.</em></p>"
      }
     },
     "b4e54f7c34f745d18f8b5b1886bfceb5": {
      "model_module": "@jupyter-widgets/controls",
      "model_module_version": "1.5.0",
      "model_name": "HTMLModel",
      "state": {
       "layout": "IPY_MODEL_5022d426f49c4fcb8884d277102e8bc3",
       "style": "IPY_MODEL_c0450bd6d602414faf2d3fc499128e09",
       "value": "<a class=\"anchor\" href=\"#pp_var_-76298984715415843\"><code>df_index</code></a> has unique values"
      }
     },
     "b54105b4440e456cbf76cbf62be43b18": {
      "model_module": "@jupyter-widgets/controls",
      "model_module_version": "1.5.0",
      "model_name": "DescriptionStyleModel",
      "state": {
       "description_width": ""
      }
     },
     "b5674874a4ca46dfac57207d6525b45b": {
      "model_module": "@jupyter-widgets/controls",
      "model_module_version": "1.5.0",
      "model_name": "LabelModel",
      "state": {
       "layout": "IPY_MODEL_e6a260a5cfd24950a771dbee2e34e443",
       "style": "IPY_MODEL_abfa2a7b933b4f6d97ed4a5d16aa221d",
       "value": "0.5127750981056414"
      }
     },
     "b58044b285b04cdc89c1fab4cd6b0eea": {
      "model_module": "@jupyter-widgets/controls",
      "model_module_version": "1.5.0",
      "model_name": "DescriptionStyleModel",
      "state": {
       "description_width": ""
      }
     },
     "b6039ec686f44da7bb1d8c0f15b4cc15": {
      "model_module": "@jupyter-widgets/base",
      "model_module_version": "1.2.0",
      "model_name": "LayoutModel",
      "state": {
       "grid_area": "widget006"
      }
     },
     "b616963e20a841e2a8f42bb13376643d": {
      "model_module": "@jupyter-widgets/base",
      "model_module_version": "1.2.0",
      "model_name": "LayoutModel",
      "state": {
       "grid_area": "widget012"
      }
     },
     "b65cacfe988e413c9d3cd18c6b49d960": {
      "model_module": "@jupyter-widgets/controls",
      "model_module_version": "1.5.0",
      "model_name": "HTMLModel",
      "state": {
       "layout": "IPY_MODEL_b91915aea7e04d318ab9e3e3c95958f5",
       "style": "IPY_MODEL_0d501381da864c9199a43cf4c5bd1131",
       "value": "Monotonicity"
      }
     },
     "b66042cc7b154961837a091362fe7de4": {
      "model_module": "@jupyter-widgets/controls",
      "model_module_version": "1.5.0",
      "model_name": "DescriptionStyleModel",
      "state": {
       "description_width": ""
      }
     },
     "b68363e9ffdb440ba7215c32c1b98378": {
      "model_module": "@jupyter-widgets/base",
      "model_module_version": "1.2.0",
      "model_name": "LayoutModel",
      "state": {}
     },
     "b6aadda657c84329a516a9df8be955da": {
      "model_module": "@jupyter-widgets/controls",
      "model_module_version": "1.5.0",
      "model_name": "DescriptionStyleModel",
      "state": {
       "description_width": ""
      }
     },
     "b6b1fec700604d67b8b117bc6c824fdb": {
      "model_module": "@jupyter-widgets/controls",
      "model_module_version": "1.5.0",
      "model_name": "DescriptionStyleModel",
      "state": {
       "description_width": ""
      }
     },
     "b6c1333f757e4e3389cd2d945a1ce788": {
      "model_module": "@jupyter-widgets/controls",
      "model_module_version": "1.5.0",
      "model_name": "DescriptionStyleModel",
      "state": {
       "description_width": ""
      }
     },
     "b70e137b07b64b49bb05c42bf8114e29": {
      "model_module": "@jupyter-widgets/controls",
      "model_module_version": "1.5.0",
      "model_name": "DescriptionStyleModel",
      "state": {
       "description_width": ""
      }
     },
     "b75e02e427c0444c9ad88c10ee74f583": {
      "model_module": "@jupyter-widgets/base",
      "model_module_version": "1.2.0",
      "model_name": "LayoutModel",
      "state": {
       "grid_area": "widget005"
      }
     },
     "b7cb85ae504a48ef8fb9957aa13cd3e1": {
      "model_module": "@jupyter-widgets/controls",
      "model_module_version": "1.5.0",
      "model_name": "LabelModel",
      "state": {
       "layout": "IPY_MODEL_bf4b4dd0c0284e77958457a71c23a21e",
       "style": "IPY_MODEL_7a38950f3f634370acb2f503a17e3370",
       "value": "1"
      }
     },
     "b7fa27c592a84c288cc9ca00a369378e": {
      "model_module": "@jupyter-widgets/base",
      "model_module_version": "1.2.0",
      "model_name": "LayoutModel",
      "state": {
       "grid_area": "widget013"
      }
     },
     "b8138948961a47e3a80dab8a80961988": {
      "model_module": "@jupyter-widgets/base",
      "model_module_version": "1.2.0",
      "model_name": "LayoutModel",
      "state": {
       "grid_area": "widget012"
      }
     },
     "b84463b9e6bc409abee609cd58f46842": {
      "model_module": "@jupyter-widgets/controls",
      "model_module_version": "1.5.0",
      "model_name": "LabelModel",
      "state": {
       "layout": "IPY_MODEL_f9ddf3ac53c5493591e64361a05ecd97",
       "style": "IPY_MODEL_445fdef69e794a3e902b3a1c4fda98a2",
       "value": "1"
      }
     },
     "b844e830a2fc4c99a2ab87cd1cbdf684": {
      "model_module": "@jupyter-widgets/controls",
      "model_module_version": "1.5.0",
      "model_name": "DescriptionStyleModel",
      "state": {
       "description_width": ""
      }
     },
     "b859a9908aba483d9ca59465625f0706": {
      "model_module": "@jupyter-widgets/controls",
      "model_module_version": "1.5.0",
      "model_name": "DescriptionStyleModel",
      "state": {
       "description_width": ""
      }
     },
     "b8862e2075144750ba5c5755b39f9915": {
      "model_module": "@jupyter-widgets/controls",
      "model_module_version": "1.5.0",
      "model_name": "DescriptionStyleModel",
      "state": {
       "description_width": ""
      }
     },
     "b8accb2700e240edbbbb9be6da6ed2d9": {
      "model_module": "@jupyter-widgets/base",
      "model_module_version": "1.2.0",
      "model_name": "LayoutModel",
      "state": {
       "grid_area": "widget004"
      }
     },
     "b91915aea7e04d318ab9e3e3c95958f5": {
      "model_module": "@jupyter-widgets/base",
      "model_module_version": "1.2.0",
      "model_name": "LayoutModel",
      "state": {
       "grid_area": "widget017"
      }
     },
     "b964f7497f1e4713baaa7228e93b7736": {
      "model_module": "@jupyter-widgets/base",
      "model_module_version": "1.2.0",
      "model_name": "LayoutModel",
      "state": {
       "grid_template_columns": "50% 50%",
       "width": "100%"
      }
     },
     "b968a79431a340228ea4e2ef2a303a51": {
      "model_module": "@jupyter-widgets/base",
      "model_module_version": "1.2.0",
      "model_name": "LayoutModel",
      "state": {}
     },
     "b99f31e645fb4481bb409455bbd80178": {
      "model_module": "@jupyter-widgets/base",
      "model_module_version": "1.2.0",
      "model_name": "LayoutModel",
      "state": {
       "grid_area": "widget011"
      }
     },
     "b9b85f47967b45feb78c78c0dc4b6e41": {
      "model_module": "@jupyter-widgets/controls",
      "model_module_version": "1.5.0",
      "model_name": "DescriptionStyleModel",
      "state": {
       "description_width": ""
      }
     },
     "b9e67ccfc09c48cdae8b74db14bf64d7": {
      "model_module": "@jupyter-widgets/controls",
      "model_module_version": "1.5.0",
      "model_name": "HTMLModel",
      "state": {
       "layout": "IPY_MODEL_735f427eb75b40618e9f0a54e9bba627",
       "style": "IPY_MODEL_ba1f998824e042e9a64b0e9f669bac0a",
       "value": "<?xml version=\"1.0\" encoding=\"utf-8\" standalone=\"no\"?>\n<!DOCTYPE svg style=\"max-width: 100%\" PUBLIC \"-//W3C//DTD SVG 1.1//EN\"\n  \"http://www.w3.org/Graphics/SVG/1.1/DTD/svg11.dtd\">\n<svg style=\"max-width: 100%\"  version=\"1.1\" viewBox=\"0 0 576 396\" width=\"576pt\" xmlns=\"http://www.w3.org/2000/svg\" xmlns:xlink=\"http://www.w3.org/1999/xlink\">\n <metadata>\n  <rdf:RDF xmlns:cc=\"http://creativecommons.org/ns#\" xmlns:dc=\"http://purl.org/dc/elements/1.1/\" xmlns:rdf=\"http://www.w3.org/1999/02/22-rdf-syntax-ns#\">\n   <cc:Work>\n    <dc:type rdf:resource=\"http://purl.org/dc/dcmitype/StillImage\"/>\n    <dc:date>2022-10-01T17:17:56.182011</dc:date>\n    <dc:format>image/svg+xml</dc:format>\n    <dc:creator>\n     <cc:Agent>\n      <dc:title>Matplotlib v3.4.3, https://matplotlib.org/</dc:title>\n     </cc:Agent>\n    </dc:creator>\n   </cc:Work>\n  </rdf:RDF>\n </metadata>\n <defs>\n  <style type=\"text/css\">*{stroke-linecap:butt;stroke-linejoin:round;}</style>\n </defs>\n <g id=\"figure_1\">\n  <g id=\"patch_1\">\n   <path d=\"M 0 396 \nL 576 396 \nL 576 0 \nL 0 0 \nz\n\" style=\"fill:#ffffff;\"/>\n  </g>\n  <g id=\"axes_1\">\n   <g id=\"patch_2\">\n    <path d=\"M 72 346.5 \nL 518.4 346.5 \nL 518.4 47.52 \nL 72 47.52 \nz\n\" style=\"fill:#ffffff;\"/>\n   </g>\n   <g id=\"matplotlib.axis_1\">\n    <g id=\"xtick_1\">\n     <g id=\"text_1\">\n      <!-- 0.6 -->\n      <g style=\"fill:#262626;\" transform=\"translate(134.779311 364.598437)scale(0.1 -0.1)\">\n       <defs>\n        <path d=\"M 2034 4250 \nQ 1547 4250 1301 3770 \nQ 1056 3291 1056 2328 \nQ 1056 1369 1301 889 \nQ 1547 409 2034 409 \nQ 2525 409 2770 889 \nQ 3016 1369 3016 2328 \nQ 3016 3291 2770 3770 \nQ 2525 4250 2034 4250 \nz\nM 2034 4750 \nQ 2819 4750 3233 4129 \nQ 3647 3509 3647 2328 \nQ 3647 1150 3233 529 \nQ 2819 -91 2034 -91 \nQ 1250 -91 836 529 \nQ 422 1150 422 2328 \nQ 422 3509 836 4129 \nQ 1250 4750 2034 4750 \nz\n\" id=\"DejaVuSans-30\" transform=\"scale(0.015625)\"/>\n        <path d=\"M 684 794 \nL 1344 794 \nL 1344 0 \nL 684 0 \nL 684 794 \nz\n\" id=\"DejaVuSans-2e\" transform=\"scale(0.015625)\"/>\n        <path d=\"M 2113 2584 \nQ 1688 2584 1439 2293 \nQ 1191 2003 1191 1497 \nQ 1191 994 1439 701 \nQ 1688 409 2113 409 \nQ 2538 409 2786 701 \nQ 3034 994 3034 1497 \nQ 3034 2003 2786 2293 \nQ 2538 2584 2113 2584 \nz\nM 3366 4563 \nL 3366 3988 \nQ 3128 4100 2886 4159 \nQ 2644 4219 2406 4219 \nQ 1781 4219 1451 3797 \nQ 1122 3375 1075 2522 \nQ 1259 2794 1537 2939 \nQ 1816 3084 2150 3084 \nQ 2853 3084 3261 2657 \nQ 3669 2231 3669 1497 \nQ 3669 778 3244 343 \nQ 2819 -91 2113 -91 \nQ 1303 -91 875 529 \nQ 447 1150 447 2328 \nQ 447 3434 972 4092 \nQ 1497 4750 2381 4750 \nQ 2619 4750 2861 4703 \nQ 3103 4656 3366 4563 \nz\n\" id=\"DejaVuSans-36\" transform=\"scale(0.015625)\"/>\n       </defs>\n       <use xlink:href=\"#DejaVuSans-30\"/>\n       <use x=\"63.623047\" xlink:href=\"#DejaVuSans-2e\"/>\n       <use x=\"95.410156\" xlink:href=\"#DejaVuSans-36\"/>\n      </g>\n     </g>\n    </g>\n    <g id=\"xtick_2\">\n     <g id=\"text_2\">\n      <!-- 0.8 -->\n      <g style=\"fill:#262626;\" transform=\"translate(207.906559 364.598437)scale(0.1 -0.1)\">\n       <defs>\n        <path d=\"M 2034 2216 \nQ 1584 2216 1326 1975 \nQ 1069 1734 1069 1313 \nQ 1069 891 1326 650 \nQ 1584 409 2034 409 \nQ 2484 409 2743 651 \nQ 3003 894 3003 1313 \nQ 3003 1734 2745 1975 \nQ 2488 2216 2034 2216 \nz\nM 1403 2484 \nQ 997 2584 770 2862 \nQ 544 3141 544 3541 \nQ 544 4100 942 4425 \nQ 1341 4750 2034 4750 \nQ 2731 4750 3128 4425 \nQ 3525 4100 3525 3541 \nQ 3525 3141 3298 2862 \nQ 3072 2584 2669 2484 \nQ 3125 2378 3379 2068 \nQ 3634 1759 3634 1313 \nQ 3634 634 3220 271 \nQ 2806 -91 2034 -91 \nQ 1263 -91 848 271 \nQ 434 634 434 1313 \nQ 434 1759 690 2068 \nQ 947 2378 1403 2484 \nz\nM 1172 3481 \nQ 1172 3119 1398 2916 \nQ 1625 2713 2034 2713 \nQ 2441 2713 2670 2916 \nQ 2900 3119 2900 3481 \nQ 2900 3844 2670 4047 \nQ 2441 4250 2034 4250 \nQ 1625 4250 1398 4047 \nQ 1172 3844 1172 3481 \nz\n\" id=\"DejaVuSans-38\" transform=\"scale(0.015625)\"/>\n       </defs>\n       <use xlink:href=\"#DejaVuSans-30\"/>\n       <use x=\"63.623047\" xlink:href=\"#DejaVuSans-2e\"/>\n       <use x=\"95.410156\" xlink:href=\"#DejaVuSans-38\"/>\n      </g>\n     </g>\n    </g>\n    <g id=\"xtick_3\">\n     <g id=\"text_3\">\n      <!-- 1.0 -->\n      <g style=\"fill:#262626;\" transform=\"translate(281.033807 364.598437)scale(0.1 -0.1)\">\n       <defs>\n        <path d=\"M 794 531 \nL 1825 531 \nL 1825 4091 \nL 703 3866 \nL 703 4441 \nL 1819 4666 \nL 2450 4666 \nL 2450 531 \nL 3481 531 \nL 3481 0 \nL 794 0 \nL 794 531 \nz\n\" id=\"DejaVuSans-31\" transform=\"scale(0.015625)\"/>\n       </defs>\n       <use xlink:href=\"#DejaVuSans-31\"/>\n       <use x=\"63.623047\" xlink:href=\"#DejaVuSans-2e\"/>\n       <use x=\"95.410156\" xlink:href=\"#DejaVuSans-30\"/>\n      </g>\n     </g>\n    </g>\n    <g id=\"xtick_4\">\n     <g id=\"text_4\">\n      <!-- 1.2 -->\n      <g style=\"fill:#262626;\" transform=\"translate(354.161055 364.598437)scale(0.1 -0.1)\">\n       <defs>\n        <path d=\"M 1228 531 \nL 3431 531 \nL 3431 0 \nL 469 0 \nL 469 531 \nQ 828 903 1448 1529 \nQ 2069 2156 2228 2338 \nQ 2531 2678 2651 2914 \nQ 2772 3150 2772 3378 \nQ 2772 3750 2511 3984 \nQ 2250 4219 1831 4219 \nQ 1534 4219 1204 4116 \nQ 875 4013 500 3803 \nL 500 4441 \nQ 881 4594 1212 4672 \nQ 1544 4750 1819 4750 \nQ 2544 4750 2975 4387 \nQ 3406 4025 3406 3419 \nQ 3406 3131 3298 2873 \nQ 3191 2616 2906 2266 \nQ 2828 2175 2409 1742 \nQ 1991 1309 1228 531 \nz\n\" id=\"DejaVuSans-32\" transform=\"scale(0.015625)\"/>\n       </defs>\n       <use xlink:href=\"#DejaVuSans-31\"/>\n       <use x=\"63.623047\" xlink:href=\"#DejaVuSans-2e\"/>\n       <use x=\"95.410156\" xlink:href=\"#DejaVuSans-32\"/>\n      </g>\n     </g>\n    </g>\n    <g id=\"xtick_5\">\n     <g id=\"text_5\">\n      <!-- 1.4 -->\n      <g style=\"fill:#262626;\" transform=\"translate(427.288303 364.598437)scale(0.1 -0.1)\">\n       <defs>\n        <path d=\"M 2419 4116 \nL 825 1625 \nL 2419 1625 \nL 2419 4116 \nz\nM 2253 4666 \nL 3047 4666 \nL 3047 1625 \nL 3713 1625 \nL 3713 1100 \nL 3047 1100 \nL 3047 0 \nL 2419 0 \nL 2419 1100 \nL 313 1100 \nL 313 1709 \nL 2253 4666 \nz\n\" id=\"DejaVuSans-34\" transform=\"scale(0.015625)\"/>\n       </defs>\n       <use xlink:href=\"#DejaVuSans-31\"/>\n       <use x=\"63.623047\" xlink:href=\"#DejaVuSans-2e\"/>\n       <use x=\"95.410156\" xlink:href=\"#DejaVuSans-34\"/>\n      </g>\n     </g>\n    </g>\n    <g id=\"xtick_6\">\n     <g id=\"text_6\">\n      <!-- 1.6 -->\n      <g style=\"fill:#262626;\" transform=\"translate(500.415551 364.598437)scale(0.1 -0.1)\">\n       <use xlink:href=\"#DejaVuSans-31\"/>\n       <use x=\"63.623047\" xlink:href=\"#DejaVuSans-2e\"/>\n       <use x=\"95.410156\" xlink:href=\"#DejaVuSans-36\"/>\n      </g>\n     </g>\n    </g>\n    <g id=\"text_7\">\n     <!-- 2 -->\n     <g style=\"fill:#262626;\" transform=\"translate(291.700625 379.036406)scale(0.11 -0.11)\">\n      <use xlink:href=\"#DejaVuSans-32\"/>\n     </g>\n    </g>\n   </g>\n   <g id=\"matplotlib.axis_2\">\n    <g id=\"ytick_1\">\n     <g id=\"text_8\">\n      <!-- −1.0 -->\n      <g style=\"fill:#262626;\" transform=\"translate(37.217187 325.550912)scale(0.1 -0.1)\">\n       <defs>\n        <path d=\"M 678 2272 \nL 4684 2272 \nL 4684 1741 \nL 678 1741 \nL 678 2272 \nz\n\" id=\"DejaVuSans-2212\" transform=\"scale(0.015625)\"/>\n       </defs>\n       <use xlink:href=\"#DejaVuSans-2212\"/>\n       <use x=\"83.789062\" xlink:href=\"#DejaVuSans-31\"/>\n       <use x=\"147.412109\" xlink:href=\"#DejaVuSans-2e\"/>\n       <use x=\"179.199219\" xlink:href=\"#DejaVuSans-30\"/>\n      </g>\n     </g>\n    </g>\n    <g id=\"ytick_2\">\n     <g id=\"text_9\">\n      <!-- −0.5 -->\n      <g style=\"fill:#262626;\" transform=\"translate(37.217187 273.826051)scale(0.1 -0.1)\">\n       <defs>\n        <path d=\"M 691 4666 \nL 3169 4666 \nL 3169 4134 \nL 1269 4134 \nL 1269 2991 \nQ 1406 3038 1543 3061 \nQ 1681 3084 1819 3084 \nQ 2600 3084 3056 2656 \nQ 3513 2228 3513 1497 \nQ 3513 744 3044 326 \nQ 2575 -91 1722 -91 \nQ 1428 -91 1123 -41 \nQ 819 9 494 109 \nL 494 744 \nQ 775 591 1075 516 \nQ 1375 441 1709 441 \nQ 2250 441 2565 725 \nQ 2881 1009 2881 1497 \nQ 2881 1984 2565 2268 \nQ 2250 2553 1709 2553 \nQ 1456 2553 1204 2497 \nQ 953 2441 691 2322 \nL 691 4666 \nz\n\" id=\"DejaVuSans-35\" transform=\"scale(0.015625)\"/>\n       </defs>\n       <use xlink:href=\"#DejaVuSans-2212\"/>\n       <use x=\"83.789062\" xlink:href=\"#DejaVuSans-30\"/>\n       <use x=\"147.412109\" xlink:href=\"#DejaVuSans-2e\"/>\n       <use x=\"179.199219\" xlink:href=\"#DejaVuSans-35\"/>\n      </g>\n     </g>\n    </g>\n    <g id=\"ytick_3\">\n     <g id=\"text_10\">\n      <!-- 0.0 -->\n      <g style=\"fill:#262626;\" transform=\"translate(45.596875 222.10119)scale(0.1 -0.1)\">\n       <use xlink:href=\"#DejaVuSans-30\"/>\n       <use x=\"63.623047\" xlink:href=\"#DejaVuSans-2e\"/>\n       <use x=\"95.410156\" xlink:href=\"#DejaVuSans-30\"/>\n      </g>\n     </g>\n    </g>\n    <g id=\"ytick_4\">\n     <g id=\"text_11\">\n      <!-- 0.5 -->\n      <g style=\"fill:#262626;\" transform=\"translate(45.596875 170.376328)scale(0.1 -0.1)\">\n       <use xlink:href=\"#DejaVuSans-30\"/>\n       <use x=\"63.623047\" xlink:href=\"#DejaVuSans-2e\"/>\n       <use x=\"95.410156\" xlink:href=\"#DejaVuSans-35\"/>\n      </g>\n     </g>\n    </g>\n    <g id=\"ytick_5\">\n     <g id=\"text_12\">\n      <!-- 1.0 -->\n      <g style=\"fill:#262626;\" transform=\"translate(45.596875 118.651467)scale(0.1 -0.1)\">\n       <use xlink:href=\"#DejaVuSans-31\"/>\n       <use x=\"63.623047\" xlink:href=\"#DejaVuSans-2e\"/>\n       <use x=\"95.410156\" xlink:href=\"#DejaVuSans-30\"/>\n      </g>\n     </g>\n    </g>\n    <g id=\"ytick_6\">\n     <g id=\"text_13\">\n      <!-- 1.5 -->\n      <g style=\"fill:#262626;\" transform=\"translate(45.596875 66.926605)scale(0.1 -0.1)\">\n       <use xlink:href=\"#DejaVuSans-31\"/>\n       <use x=\"63.623047\" xlink:href=\"#DejaVuSans-2e\"/>\n       <use x=\"95.410156\" xlink:href=\"#DejaVuSans-35\"/>\n      </g>\n     </g>\n    </g>\n    <g id=\"text_14\">\n     <!-- 1 -->\n     <g style=\"fill:#262626;\" transform=\"translate(30.929531 200.509375)rotate(-90)scale(0.11 -0.11)\">\n      <use xlink:href=\"#DejaVuSans-31\"/>\n     </g>\n    </g>\n   </g>\n   <g id=\"PathCollection_1\">\n    <defs>\n     <path d=\"M 0 3.5 \nC 0.928211 3.5 1.81853 3.131218 2.474874 2.474874 \nC 3.131218 1.81853 3.5 0.928211 3.5 0 \nC 3.5 -0.928211 3.131218 -1.81853 2.474874 -2.474874 \nC 1.81853 -3.131218 0.928211 -3.5 0 -3.5 \nC -0.928211 -3.5 -1.81853 -3.131218 -2.474874 -2.474874 \nC -3.131218 -1.81853 -3.5 -0.928211 -3.5 0 \nC -3.5 0.928211 -3.131218 1.81853 -2.474874 2.474874 \nC -1.81853 3.131218 -0.928211 3.5 0 3.5 \nz\n\" id=\"m3c2907668d\" style=\"stroke:#337ab7;stroke-width:0.3;\"/>\n    </defs>\n    <g clip-path=\"url(#p6cb8247f23)\">\n     <use style=\"fill:#337ab7;stroke:#337ab7;stroke-width:0.3;\" x=\"384.176305\" xlink:href=\"#m3c2907668d\" y=\"254.024423\"/>\n     <use style=\"fill:#337ab7;stroke:#337ab7;stroke-width:0.3;\" x=\"498.109091\" xlink:href=\"#m3c2907668d\" y=\"332.91\"/>\n     <use style=\"fill:#337ab7;stroke:#337ab7;stroke-width:0.3;\" x=\"92.290909\" xlink:href=\"#m3c2907668d\" y=\"232.586606\"/>\n     <use style=\"fill:#337ab7;stroke:#337ab7;stroke-width:0.3;\" x=\"214.259089\" xlink:href=\"#m3c2907668d\" y=\"135.696398\"/>\n     <use style=\"fill:#337ab7;stroke:#337ab7;stroke-width:0.3;\" x=\"496.298187\" xlink:href=\"#m3c2907668d\" y=\"61.11\"/>\n     <use style=\"fill:#337ab7;stroke:#337ab7;stroke-width:0.3;\" x=\"110.838289\" xlink:href=\"#m3c2907668d\" y=\"186.297123\"/>\n    </g>\n   </g>\n   <g id=\"patch_3\">\n    <path d=\"M 72 346.5 \nL 72 47.52 \n\" style=\"fill:none;\"/>\n   </g>\n   <g id=\"patch_4\">\n    <path d=\"M 518.4 346.5 \nL 518.4 47.52 \n\" style=\"fill:none;\"/>\n   </g>\n   <g id=\"patch_5\">\n    <path d=\"M 72 346.5 \nL 518.4 346.5 \n\" style=\"fill:none;\"/>\n   </g>\n   <g id=\"patch_6\">\n    <path d=\"M 72 47.52 \nL 518.4 47.52 \n\" style=\"fill:none;\"/>\n   </g>\n  </g>\n </g>\n <defs>\n  <clipPath id=\"p6cb8247f23\">\n   <rect height=\"298.98\" width=\"446.4\" x=\"72\" y=\"47.52\"/>\n  </clipPath>\n </defs>\n</svg>\n"
      }
     },
     "b9e80c9a47b24b7dae2ffd699f2ad78d": {
      "model_module": "@jupyter-widgets/controls",
      "model_module_version": "1.5.0",
      "model_name": "DescriptionStyleModel",
      "state": {
       "description_width": ""
      }
     },
     "ba07b3b63246496ea87d75ff3ebd1ddb": {
      "model_module": "@jupyter-widgets/base",
      "model_module_version": "1.2.0",
      "model_name": "LayoutModel",
      "state": {
       "grid_area": "widget005"
      }
     },
     "ba09ad33313d4448b9eb2677ba846aee": {
      "model_module": "@jupyter-widgets/controls",
      "model_module_version": "1.5.0",
      "model_name": "ProgressStyleModel",
      "state": {
       "description_width": ""
      }
     },
     "ba1f998824e042e9a64b0e9f669bac0a": {
      "model_module": "@jupyter-widgets/controls",
      "model_module_version": "1.5.0",
      "model_name": "DescriptionStyleModel",
      "state": {
       "description_width": ""
      }
     },
     "ba4753cd8ce049e19e72f955e6be3da5": {
      "model_module": "@jupyter-widgets/controls",
      "model_module_version": "1.5.0",
      "model_name": "FloatProgressModel",
      "state": {
       "layout": "IPY_MODEL_902f73ad5933411dbd2370e2d8bbd929",
       "max": 7,
       "style": "IPY_MODEL_0aebddd8053c4c87ac2e41797bf6266f",
       "value": 1
      }
     },
     "ba50c4c87b494e2b9b3c57f6dab94134": {
      "model_module": "@jupyter-widgets/controls",
      "model_module_version": "1.5.0",
      "model_name": "DescriptionStyleModel",
      "state": {
       "description_width": ""
      }
     },
     "ba6c20b41ffb4ffcae873f11d9cd11f8": {
      "model_module": "@jupyter-widgets/controls",
      "model_module_version": "1.5.0",
      "model_name": "DescriptionStyleModel",
      "state": {
       "description_width": ""
      }
     },
     "ba97c06243d1486eaa5a8e61f713b6af": {
      "model_module": "@jupyter-widgets/controls",
      "model_module_version": "1.5.0",
      "model_name": "DescriptionStyleModel",
      "state": {
       "description_width": ""
      }
     },
     "bab963a833794129b73641c9862df581": {
      "model_module": "@jupyter-widgets/base",
      "model_module_version": "1.2.0",
      "model_name": "LayoutModel",
      "state": {
       "grid_area": "widget015"
      }
     },
     "bac326843251454192758bf9ba2d6ae5": {
      "model_module": "@jupyter-widgets/base",
      "model_module_version": "1.2.0",
      "model_name": "LayoutModel",
      "state": {
       "grid_area": "widget014"
      }
     },
     "baf3b7fa2a6748008603a2165dcdfb65": {
      "model_module": "@jupyter-widgets/controls",
      "model_module_version": "1.5.0",
      "model_name": "DescriptionStyleModel",
      "state": {
       "description_width": ""
      }
     },
     "bb0892401389457dbba54c36c4582152": {
      "model_module": "@jupyter-widgets/base",
      "model_module_version": "1.2.0",
      "model_name": "LayoutModel",
      "state": {
       "grid_area": "widget020"
      }
     },
     "bb41bda186a64e8386ec74ed779736da": {
      "model_module": "@jupyter-widgets/base",
      "model_module_version": "1.2.0",
      "model_name": "LayoutModel",
      "state": {}
     },
     "bb8b8b043e1c47d584f122723601c2cd": {
      "model_module": "@jupyter-widgets/base",
      "model_module_version": "1.2.0",
      "model_name": "LayoutModel",
      "state": {
       "grid_area": "widget007"
      }
     },
     "bbb1ea2efe814243a4b226e78e8e6390": {
      "model_module": "@jupyter-widgets/controls",
      "model_module_version": "1.5.0",
      "model_name": "HTMLModel",
      "state": {
       "layout": "IPY_MODEL_a06d918c893d4fc98058a56ec2af3d08",
       "style": "IPY_MODEL_3c142342bae04467931665251021b2b5",
       "value": "Render widgets: 100%"
      }
     },
     "bbf63cae760d479bb0aac2b85804bca6": {
      "model_module": "@jupyter-widgets/controls",
      "model_module_version": "1.5.0",
      "model_name": "DescriptionStyleModel",
      "state": {
       "description_width": ""
      }
     },
     "bc0d77507d774678aa976b0b014b6b55": {
      "model_module": "@jupyter-widgets/controls",
      "model_module_version": "1.5.0",
      "model_name": "TabModel",
      "state": {
       "_titles": {
        "0": "2",
        "1": "0",
        "2": "1"
       },
       "children": [
        "IPY_MODEL_aba4cbdeb7aa49ed8a0e3c5f5f916c04",
        "IPY_MODEL_55001048b4ae4fbdbbdc9c1c420eca87",
        "IPY_MODEL_b9e67ccfc09c48cdae8b74db14bf64d7"
       ],
       "layout": "IPY_MODEL_97fd69b30e9147da90121b9a48a8e9d5"
      }
     },
     "bc10827e4cb54f7fa5af00ca68ce2dff": {
      "model_module": "@jupyter-widgets/controls",
      "model_module_version": "1.5.0",
      "model_name": "ProgressStyleModel",
      "state": {
       "description_width": ""
      }
     },
     "bc5348686b5642e5978a4c76c6d96e79": {
      "model_module": "@jupyter-widgets/base",
      "model_module_version": "1.2.0",
      "model_name": "LayoutModel",
      "state": {
       "grid_area": "widget003"
      }
     },
     "bcc1c7032017465bbf0c284b0af5969c": {
      "model_module": "@jupyter-widgets/controls",
      "model_module_version": "1.5.0",
      "model_name": "DescriptionStyleModel",
      "state": {
       "description_width": ""
      }
     },
     "bcc64f12a047477eb2aa392af9aa4085": {
      "model_module": "@jupyter-widgets/controls",
      "model_module_version": "1.5.0",
      "model_name": "DescriptionStyleModel",
      "state": {
       "description_width": ""
      }
     },
     "bcd2e9be3c1b42eb9d7f2e582586dfe4": {
      "model_module": "@jupyter-widgets/controls",
      "model_module_version": "1.5.0",
      "model_name": "DescriptionStyleModel",
      "state": {
       "description_width": ""
      }
     },
     "bce0ca957f944c22aa4ca16b973fcebf": {
      "model_module": "@jupyter-widgets/base",
      "model_module_version": "1.2.0",
      "model_name": "LayoutModel",
      "state": {
       "grid_area": "widget004"
      }
     },
     "bce1ae92d56940c4867fc0627a5f87bb": {
      "model_module": "@jupyter-widgets/controls",
      "model_module_version": "1.5.0",
      "model_name": "HTMLModel",
      "state": {
       "layout": "IPY_MODEL_cc8143c77c9a42e6a1b65494dc175dec",
       "style": "IPY_MODEL_09c32e28215e474486baf900a87a876f",
       "value": "0.4620487811"
      }
     },
     "bcfb68710fdb46b48064086b3a41c62f": {
      "model_module": "@jupyter-widgets/base",
      "model_module_version": "1.2.0",
      "model_name": "LayoutModel",
      "state": {
       "grid_area": "widget010"
      }
     },
     "bd1fc4f17a7d400284b069ca42faaade": {
      "model_module": "@jupyter-widgets/base",
      "model_module_version": "1.2.0",
      "model_name": "LayoutModel",
      "state": {
       "width": "fit-content"
      }
     },
     "bd78839e60204486b70d96c14d0b599f": {
      "model_module": "@jupyter-widgets/base",
      "model_module_version": "1.2.0",
      "model_name": "LayoutModel",
      "state": {}
     },
     "bdb8d4ebed4c4e45b6c54bf7cd82c9aa": {
      "model_module": "@jupyter-widgets/controls",
      "model_module_version": "1.5.0",
      "model_name": "DescriptionStyleModel",
      "state": {
       "description_width": ""
      }
     },
     "bdf19831f9494fa6ad29fc8c032ca9a3": {
      "model_module": "@jupyter-widgets/base",
      "model_module_version": "1.2.0",
      "model_name": "LayoutModel",
      "state": {
       "grid_area": "widget010"
      }
     },
     "be1391eafeab4a5f962bf6449616d99a": {
      "model_module": "@jupyter-widgets/controls",
      "model_module_version": "1.5.0",
      "model_name": "DescriptionStyleModel",
      "state": {
       "description_width": ""
      }
     },
     "be27de051ee342889df4a60500866545": {
      "model_module": "@jupyter-widgets/controls",
      "model_module_version": "1.5.0",
      "model_name": "TabModel",
      "state": {
       "_titles": {
        "0": "Statistics",
        "1": "Histogram",
        "2": "Common values",
        "3": "Extreme values"
       },
       "children": [
        "IPY_MODEL_973007764843463db39a4e280431b46d",
        "IPY_MODEL_7a2a0125af5e4c0c83c1f882c63a52e4",
        "IPY_MODEL_018cce7eba864b0e8f5b40722cbf5558",
        "IPY_MODEL_cb80795beb4949f6bc874a9a49a84f50"
       ],
       "layout": "IPY_MODEL_9a86bc306bf840f8a938d9abb55cc5b2"
      }
     },
     "be4f7642f5a94725947dce1be2b0ea95": {
      "model_module": "@jupyter-widgets/controls",
      "model_module_version": "1.5.0",
      "model_name": "HTMLModel",
      "state": {
       "layout": "IPY_MODEL_b381eeff7fec4ca9b95b215681285cdc",
       "style": "IPY_MODEL_2b247c535c454fe19a7e63e206dbd780",
       "value": "2022-10-01 15:17:58.156260"
      }
     },
     "be88e14fa9ff4ef8b2b80d969907df6d": {
      "model_module": "@jupyter-widgets/controls",
      "model_module_version": "1.5.0",
      "model_name": "HTMLModel",
      "state": {
       "layout": "IPY_MODEL_618d31badee0417ba704927bc31aea0d",
       "style": "IPY_MODEL_6019791a528a446592051752624adf76",
       "value": "Zeros"
      }
     },
     "befd8e1544234cb5856e845545dc25c8": {
      "model_module": "@jupyter-widgets/controls",
      "model_module_version": "1.5.0",
      "model_name": "DescriptionStyleModel",
      "state": {
       "description_width": ""
      }
     },
     "bf4b4dd0c0284e77958457a71c23a21e": {
      "model_module": "@jupyter-widgets/base",
      "model_module_version": "1.2.0",
      "model_name": "LayoutModel",
      "state": {
       "grid_area": "widget003"
      }
     },
     "bf59a97c454f47edbed7294b64d2ea26": {
      "model_module": "@jupyter-widgets/controls",
      "model_module_version": "1.5.0",
      "model_name": "DescriptionStyleModel",
      "state": {
       "description_width": ""
      }
     },
     "bf6f165fc0e04276ace547c7b74f798a": {
      "model_module": "@jupyter-widgets/controls",
      "model_module_version": "1.5.0",
      "model_name": "DescriptionStyleModel",
      "state": {
       "description_width": ""
      }
     },
     "bfdb9af5b2a343e7984f68e02c9f2acb": {
      "model_module": "@jupyter-widgets/controls",
      "model_module_version": "1.5.0",
      "model_name": "LabelModel",
      "state": {
       "layout": "IPY_MODEL_5b6fb7b0669b4048a6979a7c5e1df0f8",
       "style": "IPY_MODEL_bcd2e9be3c1b42eb9d7f2e582586dfe4",
       "value": "1.5719447334092151"
      }
     },
     "bfdfea4ff1004685891f3d546e619b8d": {
      "model_module": "@jupyter-widgets/base",
      "model_module_version": "1.2.0",
      "model_name": "LayoutModel",
      "state": {}
     },
     "bfe6b451441c486e9e08b7e526b65d84": {
      "model_module": "@jupyter-widgets/base",
      "model_module_version": "1.2.0",
      "model_name": "LayoutModel",
      "state": {
       "grid_area": "widget010"
      }
     },
     "c00a4c4dd53041669f15c800498d0de9": {
      "model_module": "@jupyter-widgets/base",
      "model_module_version": "1.2.0",
      "model_name": "LayoutModel",
      "state": {
       "grid_area": "widget012"
      }
     },
     "c02e1aaa63c74cfeb32735d2e9a9c3bd": {
      "model_module": "@jupyter-widgets/controls",
      "model_module_version": "1.5.0",
      "model_name": "ProgressStyleModel",
      "state": {
       "description_width": ""
      }
     },
     "c03180be59d34fa5bfbdb24e080dc1dc": {
      "model_module": "@jupyter-widgets/base",
      "model_module_version": "1.2.0",
      "model_name": "LayoutModel",
      "state": {
       "grid_area": "widget013"
      }
     },
     "c0450bd6d602414faf2d3fc499128e09": {
      "model_module": "@jupyter-widgets/controls",
      "model_module_version": "1.5.0",
      "model_name": "DescriptionStyleModel",
      "state": {
       "description_width": ""
      }
     },
     "c07c9294ff284865aa58e2b7b755bc8b": {
      "model_module": "@jupyter-widgets/controls",
      "model_module_version": "1.5.0",
      "model_name": "HTMLModel",
      "state": {
       "layout": "IPY_MODEL_5257a2ff5f884fb7b7c5d41548365f0b",
       "style": "IPY_MODEL_e278159ef5024a8383ab60609fc27290",
       "value": "42.9%"
      }
     },
     "c090c85e2a1d46d59af0bdbf43057bac": {
      "model_module": "@jupyter-widgets/base",
      "model_module_version": "1.2.0",
      "model_name": "LayoutModel",
      "state": {
       "grid_area": "widget009"
      }
     },
     "c09758a467994409b2b66c4a965a231c": {
      "model_module": "@jupyter-widgets/base",
      "model_module_version": "1.2.0",
      "model_name": "LayoutModel",
      "state": {
       "grid_area": "widget010"
      }
     },
     "c0bb7ee6ebb14ab79d866a18b0509dcc": {
      "model_module": "@jupyter-widgets/controls",
      "model_module_version": "1.5.0",
      "model_name": "HTMLModel",
      "state": {
       "layout": "IPY_MODEL_b09d0d7705824ed1a628b3bb676502c9",
       "style": "IPY_MODEL_b6c1333f757e4e3389cd2d945a1ce788",
       "value": "<?xml version=\"1.0\" encoding=\"utf-8\" standalone=\"no\"?>\n<!DOCTYPE svg style=\"max-width: 100%\" PUBLIC \"-//W3C//DTD SVG 1.1//EN\"\n  \"http://www.w3.org/Graphics/SVG/1.1/DTD/svg11.dtd\">\n<svg style=\"max-width: 100%\"  version=\"1.1\" viewBox=\"0 0 576 396\" width=\"576pt\" xmlns=\"http://www.w3.org/2000/svg\" xmlns:xlink=\"http://www.w3.org/1999/xlink\">\n <metadata>\n  <rdf:RDF xmlns:cc=\"http://creativecommons.org/ns#\" xmlns:dc=\"http://purl.org/dc/elements/1.1/\" xmlns:rdf=\"http://www.w3.org/1999/02/22-rdf-syntax-ns#\">\n   <cc:Work>\n    <dc:type rdf:resource=\"http://purl.org/dc/dcmitype/StillImage\"/>\n    <dc:date>2022-10-01T17:17:55.718619</dc:date>\n    <dc:format>image/svg+xml</dc:format>\n    <dc:creator>\n     <cc:Agent>\n      <dc:title>Matplotlib v3.4.3, https://matplotlib.org/</dc:title>\n     </cc:Agent>\n    </dc:creator>\n   </cc:Work>\n  </rdf:RDF>\n </metadata>\n <defs>\n  <style type=\"text/css\">*{stroke-linecap:butt;stroke-linejoin:round;}</style>\n </defs>\n <g id=\"figure_1\">\n  <g id=\"patch_1\">\n   <path d=\"M 0 396 \nL 576 396 \nL 576 0 \nL 0 0 \nz\n\" style=\"fill:#ffffff;\"/>\n  </g>\n  <g id=\"axes_1\">\n   <g id=\"patch_2\">\n    <path d=\"M 72 346.5 \nL 518.4 346.5 \nL 518.4 47.52 \nL 72 47.52 \nz\n\" style=\"fill:#ffffff;\"/>\n   </g>\n   <g id=\"matplotlib.axis_1\">\n    <g id=\"xtick_1\">\n     <g id=\"text_1\">\n      <!-- −1.0 -->\n      <g style=\"fill:#262626;\" transform=\"translate(120.822265 364.598437)scale(0.1 -0.1)\">\n       <defs>\n        <path d=\"M 678 2272 \nL 4684 2272 \nL 4684 1741 \nL 678 1741 \nL 678 2272 \nz\n\" id=\"DejaVuSans-2212\" transform=\"scale(0.015625)\"/>\n        <path d=\"M 794 531 \nL 1825 531 \nL 1825 4091 \nL 703 3866 \nL 703 4441 \nL 1819 4666 \nL 2450 4666 \nL 2450 531 \nL 3481 531 \nL 3481 0 \nL 794 0 \nL 794 531 \nz\n\" id=\"DejaVuSans-31\" transform=\"scale(0.015625)\"/>\n        <path d=\"M 684 794 \nL 1344 794 \nL 1344 0 \nL 684 0 \nL 684 794 \nz\n\" id=\"DejaVuSans-2e\" transform=\"scale(0.015625)\"/>\n        <path d=\"M 2034 4250 \nQ 1547 4250 1301 3770 \nQ 1056 3291 1056 2328 \nQ 1056 1369 1301 889 \nQ 1547 409 2034 409 \nQ 2525 409 2770 889 \nQ 3016 1369 3016 2328 \nQ 3016 3291 2770 3770 \nQ 2525 4250 2034 4250 \nz\nM 2034 4750 \nQ 2819 4750 3233 4129 \nQ 3647 3509 3647 2328 \nQ 3647 1150 3233 529 \nQ 2819 -91 2034 -91 \nQ 1250 -91 836 529 \nQ 422 1150 422 2328 \nQ 422 3509 836 4129 \nQ 1250 4750 2034 4750 \nz\n\" id=\"DejaVuSans-30\" transform=\"scale(0.015625)\"/>\n       </defs>\n       <use xlink:href=\"#DejaVuSans-2212\"/>\n       <use x=\"83.789062\" xlink:href=\"#DejaVuSans-31\"/>\n       <use x=\"147.412109\" xlink:href=\"#DejaVuSans-2e\"/>\n       <use x=\"179.199219\" xlink:href=\"#DejaVuSans-30\"/>\n      </g>\n     </g>\n    </g>\n    <g id=\"xtick_2\">\n     <g id=\"text_2\">\n      <!-- −0.5 -->\n      <g style=\"fill:#262626;\" transform=\"translate(191.819335 364.598437)scale(0.1 -0.1)\">\n       <defs>\n        <path d=\"M 691 4666 \nL 3169 4666 \nL 3169 4134 \nL 1269 4134 \nL 1269 2991 \nQ 1406 3038 1543 3061 \nQ 1681 3084 1819 3084 \nQ 2600 3084 3056 2656 \nQ 3513 2228 3513 1497 \nQ 3513 744 3044 326 \nQ 2575 -91 1722 -91 \nQ 1428 -91 1123 -41 \nQ 819 9 494 109 \nL 494 744 \nQ 775 591 1075 516 \nQ 1375 441 1709 441 \nQ 2250 441 2565 725 \nQ 2881 1009 2881 1497 \nQ 2881 1984 2565 2268 \nQ 2250 2553 1709 2553 \nQ 1456 2553 1204 2497 \nQ 953 2441 691 2322 \nL 691 4666 \nz\n\" id=\"DejaVuSans-35\" transform=\"scale(0.015625)\"/>\n       </defs>\n       <use xlink:href=\"#DejaVuSans-2212\"/>\n       <use x=\"83.789062\" xlink:href=\"#DejaVuSans-30\"/>\n       <use x=\"147.412109\" xlink:href=\"#DejaVuSans-2e\"/>\n       <use x=\"179.199219\" xlink:href=\"#DejaVuSans-35\"/>\n      </g>\n     </g>\n    </g>\n    <g id=\"xtick_3\">\n     <g id=\"text_3\">\n      <!-- 0.0 -->\n      <g style=\"fill:#262626;\" transform=\"translate(267.006248 364.598437)scale(0.1 -0.1)\">\n       <use xlink:href=\"#DejaVuSans-30\"/>\n       <use x=\"63.623047\" xlink:href=\"#DejaVuSans-2e\"/>\n       <use x=\"95.410156\" xlink:href=\"#DejaVuSans-30\"/>\n      </g>\n     </g>\n    </g>\n    <g id=\"xtick_4\">\n     <g id=\"text_4\">\n      <!-- 0.5 -->\n      <g style=\"fill:#262626;\" transform=\"translate(338.003318 364.598437)scale(0.1 -0.1)\">\n       <use xlink:href=\"#DejaVuSans-30\"/>\n       <use x=\"63.623047\" xlink:href=\"#DejaVuSans-2e\"/>\n       <use x=\"95.410156\" xlink:href=\"#DejaVuSans-35\"/>\n      </g>\n     </g>\n    </g>\n    <g id=\"xtick_5\">\n     <g id=\"text_5\">\n      <!-- 1.0 -->\n      <g style=\"fill:#262626;\" transform=\"translate(409.000387 364.598437)scale(0.1 -0.1)\">\n       <use xlink:href=\"#DejaVuSans-31\"/>\n       <use x=\"63.623047\" xlink:href=\"#DejaVuSans-2e\"/>\n       <use x=\"95.410156\" xlink:href=\"#DejaVuSans-30\"/>\n      </g>\n     </g>\n    </g>\n    <g id=\"xtick_6\">\n     <g id=\"text_6\">\n      <!-- 1.5 -->\n      <g style=\"fill:#262626;\" transform=\"translate(479.997457 364.598437)scale(0.1 -0.1)\">\n       <use xlink:href=\"#DejaVuSans-31\"/>\n       <use x=\"63.623047\" xlink:href=\"#DejaVuSans-2e\"/>\n       <use x=\"95.410156\" xlink:href=\"#DejaVuSans-35\"/>\n      </g>\n     </g>\n    </g>\n    <g id=\"text_7\">\n     <!-- 0 -->\n     <g style=\"fill:#262626;\" transform=\"translate(291.700625 379.036406)scale(0.11 -0.11)\">\n      <use xlink:href=\"#DejaVuSans-30\"/>\n     </g>\n    </g>\n   </g>\n   <g id=\"matplotlib.axis_2\">\n    <g id=\"ytick_1\">\n     <g id=\"text_8\">\n      <!-- −1.0 -->\n      <g style=\"fill:#262626;\" transform=\"translate(37.217187 325.550912)scale(0.1 -0.1)\">\n       <use xlink:href=\"#DejaVuSans-2212\"/>\n       <use x=\"83.789062\" xlink:href=\"#DejaVuSans-31\"/>\n       <use x=\"147.412109\" xlink:href=\"#DejaVuSans-2e\"/>\n       <use x=\"179.199219\" xlink:href=\"#DejaVuSans-30\"/>\n      </g>\n     </g>\n    </g>\n    <g id=\"ytick_2\">\n     <g id=\"text_9\">\n      <!-- −0.5 -->\n      <g style=\"fill:#262626;\" transform=\"translate(37.217187 273.826051)scale(0.1 -0.1)\">\n       <use xlink:href=\"#DejaVuSans-2212\"/>\n       <use x=\"83.789062\" xlink:href=\"#DejaVuSans-30\"/>\n       <use x=\"147.412109\" xlink:href=\"#DejaVuSans-2e\"/>\n       <use x=\"179.199219\" xlink:href=\"#DejaVuSans-35\"/>\n      </g>\n     </g>\n    </g>\n    <g id=\"ytick_3\">\n     <g id=\"text_10\">\n      <!-- 0.0 -->\n      <g style=\"fill:#262626;\" transform=\"translate(45.596875 222.10119)scale(0.1 -0.1)\">\n       <use xlink:href=\"#DejaVuSans-30\"/>\n       <use x=\"63.623047\" xlink:href=\"#DejaVuSans-2e\"/>\n       <use x=\"95.410156\" xlink:href=\"#DejaVuSans-30\"/>\n      </g>\n     </g>\n    </g>\n    <g id=\"ytick_4\">\n     <g id=\"text_11\">\n      <!-- 0.5 -->\n      <g style=\"fill:#262626;\" transform=\"translate(45.596875 170.376328)scale(0.1 -0.1)\">\n       <use xlink:href=\"#DejaVuSans-30\"/>\n       <use x=\"63.623047\" xlink:href=\"#DejaVuSans-2e\"/>\n       <use x=\"95.410156\" xlink:href=\"#DejaVuSans-35\"/>\n      </g>\n     </g>\n    </g>\n    <g id=\"ytick_5\">\n     <g id=\"text_12\">\n      <!-- 1.0 -->\n      <g style=\"fill:#262626;\" transform=\"translate(45.596875 118.651467)scale(0.1 -0.1)\">\n       <use xlink:href=\"#DejaVuSans-31\"/>\n       <use x=\"63.623047\" xlink:href=\"#DejaVuSans-2e\"/>\n       <use x=\"95.410156\" xlink:href=\"#DejaVuSans-30\"/>\n      </g>\n     </g>\n    </g>\n    <g id=\"ytick_6\">\n     <g id=\"text_13\">\n      <!-- 1.5 -->\n      <g style=\"fill:#262626;\" transform=\"translate(45.596875 66.926605)scale(0.1 -0.1)\">\n       <use xlink:href=\"#DejaVuSans-31\"/>\n       <use x=\"63.623047\" xlink:href=\"#DejaVuSans-2e\"/>\n       <use x=\"95.410156\" xlink:href=\"#DejaVuSans-35\"/>\n      </g>\n     </g>\n    </g>\n    <g id=\"text_14\">\n     <!-- 1 -->\n     <g style=\"fill:#262626;\" transform=\"translate(30.929531 200.509375)rotate(-90)scale(0.11 -0.11)\">\n      <use xlink:href=\"#DejaVuSans-31\"/>\n     </g>\n    </g>\n   </g>\n   <g id=\"PathCollection_1\">\n    <defs>\n     <path d=\"M 0 3.5 \nC 0.928211 3.5 1.81853 3.131218 2.474874 2.474874 \nC 3.131218 1.81853 3.5 0.928211 3.5 0 \nC 3.5 -0.928211 3.131218 -1.81853 2.474874 -2.474874 \nC 1.81853 -3.131218 0.928211 -3.5 0 -3.5 \nC -0.928211 -3.5 -1.81853 -3.131218 -2.474874 -2.474874 \nC -3.131218 -1.81853 -3.5 -0.928211 -3.5 0 \nC -3.5 0.928211 -3.131218 1.81853 -2.474874 2.474874 \nC -1.81853 3.131218 -0.928211 3.5 0 3.5 \nz\n\" id=\"mc1462eb1fb\" style=\"stroke:#337ab7;stroke-width:0.3;\"/>\n    </defs>\n    <g clip-path=\"url(#p006c0a05e1)\">\n     <use style=\"fill:#337ab7;stroke:#337ab7;stroke-width:0.3;\" x=\"312.515627\" xlink:href=\"#mc1462eb1fb\" y=\"254.024423\"/>\n     <use style=\"fill:#337ab7;stroke:#337ab7;stroke-width:0.3;\" x=\"92.290909\" xlink:href=\"#mc1462eb1fb\" y=\"332.91\"/>\n     <use style=\"fill:#337ab7;stroke:#337ab7;stroke-width:0.3;\" x=\"271.085814\" xlink:href=\"#mc1462eb1fb\" y=\"232.586606\"/>\n     <use style=\"fill:#337ab7;stroke:#337ab7;stroke-width:0.3;\" x=\"120.12472\" xlink:href=\"#mc1462eb1fb\" y=\"135.696398\"/>\n     <use style=\"fill:#337ab7;stroke:#337ab7;stroke-width:0.3;\" x=\"498.109091\" xlink:href=\"#mc1462eb1fb\" y=\"61.11\"/>\n     <use style=\"fill:#337ab7;stroke:#337ab7;stroke-width:0.3;\" x=\"413.49674\" xlink:href=\"#mc1462eb1fb\" y=\"186.297123\"/>\n    </g>\n   </g>\n   <g id=\"patch_3\">\n    <path d=\"M 72 346.5 \nL 72 47.52 \n\" style=\"fill:none;\"/>\n   </g>\n   <g id=\"patch_4\">\n    <path d=\"M 518.4 346.5 \nL 518.4 47.52 \n\" style=\"fill:none;\"/>\n   </g>\n   <g id=\"patch_5\">\n    <path d=\"M 72 346.5 \nL 518.4 346.5 \n\" style=\"fill:none;\"/>\n   </g>\n   <g id=\"patch_6\">\n    <path d=\"M 72 47.52 \nL 518.4 47.52 \n\" style=\"fill:none;\"/>\n   </g>\n  </g>\n </g>\n <defs>\n  <clipPath id=\"p006c0a05e1\">\n   <rect height=\"298.98\" width=\"446.4\" x=\"72\" y=\"47.52\"/>\n  </clipPath>\n </defs>\n</svg>\n"
      }
     },
     "c0c06c60a6fe465aa46c8d472d535306": {
      "model_module": "@jupyter-widgets/controls",
      "model_module_version": "1.5.0",
      "model_name": "DescriptionStyleModel",
      "state": {
       "description_width": ""
      }
     },
     "c0c17df8b8d14020af60cb46ee12da5b": {
      "model_module": "@jupyter-widgets/controls",
      "model_module_version": "1.5.0",
      "model_name": "HTMLModel",
      "state": {
       "layout": "IPY_MODEL_60fbbce29cdc4f73aee22f84ff00a926",
       "style": "IPY_MODEL_e8fbfa25714e4f23b416c7403da531fb",
       "value": "Missing cells"
      }
     },
     "c0dbf1f27d1246ce9407b2661fa67e0b": {
      "model_module": "@jupyter-widgets/controls",
      "model_module_version": "1.5.0",
      "model_name": "FloatProgressModel",
      "state": {
       "layout": "IPY_MODEL_2fed2d596aec4933ad7c202cab29c7c3",
       "max": 7,
       "style": "IPY_MODEL_fdff370612dd46f8a5684cca589c116b",
       "value": 1
      }
     },
     "c13003b0c3444be7a087acaad7dc35cb": {
      "model_module": "@jupyter-widgets/base",
      "model_module_version": "1.2.0",
      "model_name": "LayoutModel",
      "state": {
       "grid_area": "widget008"
      }
     },
     "c13218bc946648978eff4efda65bb4c1": {
      "model_module": "@jupyter-widgets/controls",
      "model_module_version": "1.5.0",
      "model_name": "DescriptionStyleModel",
      "state": {
       "description_width": ""
      }
     },
     "c16d80166535464d940397dd72627ce3": {
      "model_module": "@jupyter-widgets/controls",
      "model_module_version": "1.5.0",
      "model_name": "HTMLModel",
      "state": {
       "layout": "IPY_MODEL_c03180be59d34fa5bfbdb24e080dc1dc",
       "style": "IPY_MODEL_6c94d273030a49e68306558cafd36005",
       "value": "Memory size"
      }
     },
     "c1abde66521e4ce69e1a1dab8874def8": {
      "model_module": "@jupyter-widgets/controls",
      "model_module_version": "1.5.0",
      "model_name": "HTMLModel",
      "state": {
       "layout": "IPY_MODEL_71698c764cc047579e03a5a62b10eb9f",
       "style": "IPY_MODEL_d3e9287433df4b0fbba93f9746a46d89",
       "value": "Sum"
      }
     },
     "c1d3dc0450ae445b805a3d26c8563dbc": {
      "model_module": "@jupyter-widgets/controls",
      "model_module_version": "1.5.0",
      "model_name": "DescriptionStyleModel",
      "state": {
       "description_width": ""
      }
     },
     "c20440e149d548aca532f317ee6499c8": {
      "model_module": "@jupyter-widgets/controls",
      "model_module_version": "1.5.0",
      "model_name": "HBoxModel",
      "state": {
       "children": [
        "IPY_MODEL_4c6ed9b7763644e0b34f8da9fa847810"
       ],
       "layout": "IPY_MODEL_58ee3737f46b4fd7ab0996c4b7adbfcb"
      }
     },
     "c2233e3d7b1b4bb79eb8a07a5a215556": {
      "model_module": "@jupyter-widgets/controls",
      "model_module_version": "1.5.0",
      "model_name": "LabelModel",
      "state": {
       "layout": "IPY_MODEL_d61bf7f695314e57908638656efbf21d",
       "style": "IPY_MODEL_e022b9cfdae5483dbeef0828358c6874",
       "value": "1"
      }
     },
     "c2364e604e24409c81f5ff5a36b47007": {
      "model_module": "@jupyter-widgets/controls",
      "model_module_version": "1.5.0",
      "model_name": "HTMLModel",
      "state": {
       "layout": "IPY_MODEL_ff03674a5aa94fb3a3bc071694dedbb9",
       "style": "IPY_MODEL_1c1a946961254166b748451ab9dd03d6",
       "value": "Standard deviation"
      }
     },
     "c2512a77e2b04ebda89cad07d848fca5": {
      "model_module": "@jupyter-widgets/controls",
      "model_module_version": "1.5.0",
      "model_name": "DescriptionStyleModel",
      "state": {
       "description_width": ""
      }
     },
     "c25c3e8bf844488aa3ee99439dc94763": {
      "model_module": "@jupyter-widgets/base",
      "model_module_version": "1.2.0",
      "model_name": "LayoutModel",
      "state": {
       "grid_area": "widget003"
      }
     },
     "c282e6d1806f41dabdf0d338e4dd371e": {
      "model_module": "@jupyter-widgets/base",
      "model_module_version": "1.2.0",
      "model_name": "LayoutModel",
      "state": {
       "grid_area": "widget002"
      }
     },
     "c2c017abaa5d4f30aec69824ca583fd5": {
      "model_module": "@jupyter-widgets/controls",
      "model_module_version": "1.5.0",
      "model_name": "LabelModel",
      "state": {
       "layout": "IPY_MODEL_3c4fcac0263b42fc92f85a871abfd1bc",
       "style": "IPY_MODEL_1c66377d1fe94d64a3374f51bffda5d3",
       "value": "1.5195011312197735"
      }
     },
     "c2c451acdbcf4158a5bced3d76bcab80": {
      "model_module": "@jupyter-widgets/controls",
      "model_module_version": "1.5.0",
      "model_name": "DescriptionStyleModel",
      "state": {
       "description_width": ""
      }
     },
     "c2db2e948cc34cc6964c680e98b261c7": {
      "model_module": "@jupyter-widgets/controls",
      "model_module_version": "1.5.0",
      "model_name": "ProgressStyleModel",
      "state": {
       "description_width": ""
      }
     },
     "c32c34a6c1904dd8bd94181d770fd940": {
      "model_module": "@jupyter-widgets/base",
      "model_module_version": "1.2.0",
      "model_name": "LayoutModel",
      "state": {
       "grid_template_areas": "\"widget001 widget002\"\n\"widget003 widget004\"\n\"widget005 widget006\"\n\"widget007 widget008\"\n\"widget009 widget010\"",
       "grid_template_columns": "repeat(2, 1fr)",
       "grid_template_rows": "repeat(5, 1fr)"
      }
     },
     "c3486b0563604506bac26ad1ae60a2de": {
      "model_module": "@jupyter-widgets/base",
      "model_module_version": "1.2.0",
      "model_name": "LayoutModel",
      "state": {
       "grid_area": "widget007"
      }
     },
     "c37b2e1f057d4d889dfcd6068c67b8ae": {
      "model_module": "@jupyter-widgets/base",
      "model_module_version": "1.2.0",
      "model_name": "LayoutModel",
      "state": {}
     },
     "c3c8dd0ac2bd4436b44e330f00244a20": {
      "model_module": "@jupyter-widgets/controls",
      "model_module_version": "1.5.0",
      "model_name": "DescriptionStyleModel",
      "state": {
       "description_width": ""
      }
     },
     "c3c9276dc52b4bf893aecfc38f7388e0": {
      "model_module": "@jupyter-widgets/controls",
      "model_module_version": "1.5.0",
      "model_name": "HTMLModel",
      "state": {
       "layout": "IPY_MODEL_07d712bb530b4711b8061ad19cc5521b",
       "style": "IPY_MODEL_b54105b4440e456cbf76cbf62be43b18",
       "value": "Software version"
      }
     },
     "c3f3d83fd37940f7905c81f1cad512c0": {
      "model_module": "@jupyter-widgets/base",
      "model_module_version": "1.2.0",
      "model_name": "LayoutModel",
      "state": {
       "grid_area": "widget006"
      }
     },
     "c41274040f814b60b80082cc5c65b0c2": {
      "model_module": "@jupyter-widgets/controls",
      "model_module_version": "1.5.0",
      "model_name": "DescriptionStyleModel",
      "state": {
       "description_width": ""
      }
     },
     "c4179f0dde574cdba0e45a5657fdb5a6": {
      "model_module": "@jupyter-widgets/base",
      "model_module_version": "1.2.0",
      "model_name": "LayoutModel",
      "state": {
       "grid_area": "widget004"
      }
     },
     "c4a4f124ff2e404d87ca6d4976c9f86c": {
      "model_module": "@jupyter-widgets/base",
      "model_module_version": "1.2.0",
      "model_name": "LayoutModel",
      "state": {
       "grid_area": "widget015"
      }
     },
     "c4b788e873fd45eb879d763c95d2e83f": {
      "model_module": "@jupyter-widgets/controls",
      "model_module_version": "1.5.0",
      "model_name": "VBoxModel",
      "state": {
       "children": [
        "IPY_MODEL_17f4bb044efa48759bf9fb257cc03530",
        "IPY_MODEL_2ff8299cf071413086a709d2d6bd6201"
       ],
       "layout": "IPY_MODEL_5fae3c34930049de8f493ddb9c4459b8"
      }
     },
     "c4d7a4a589ed4e7da89fb5b307aa61ce": {
      "model_module": "@jupyter-widgets/controls",
      "model_module_version": "1.5.0",
      "model_name": "HTMLModel",
      "state": {
       "layout": "IPY_MODEL_eb86b09ae5c14dc9b2fbea8746d06e5c",
       "style": "IPY_MODEL_68ec923e5b28465f8ae5c0deaacd4ba7",
       "value": "0.5059893197"
      }
     },
     "c4e5022477e14f3cac627bfccdfb72fa": {
      "model_module": "@jupyter-widgets/base",
      "model_module_version": "1.2.0",
      "model_name": "LayoutModel",
      "state": {
       "grid_area": "widget018"
      }
     },
     "c514bb1773b847d79d531315f5fd6b25": {
      "model_module": "@jupyter-widgets/base",
      "model_module_version": "1.2.0",
      "model_name": "LayoutModel",
      "state": {}
     },
     "c6080a4bae8a42c8a43f4de58c8ffc6f": {
      "model_module": "@jupyter-widgets/base",
      "model_module_version": "1.2.0",
      "model_name": "LayoutModel",
      "state": {
       "grid_area": "widget005"
      }
     },
     "c6479261b02446e2ae98327294a739d4": {
      "model_module": "@jupyter-widgets/base",
      "model_module_version": "1.2.0",
      "model_name": "LayoutModel",
      "state": {}
     },
     "c64b47f7d34b4ac99d70671ffac00ee3": {
      "model_module": "@jupyter-widgets/controls",
      "model_module_version": "1.5.0",
      "model_name": "FloatProgressModel",
      "state": {
       "layout": "IPY_MODEL_7f6bfe5a319a420abc1e10eb98d764eb",
       "max": 7,
       "style": "IPY_MODEL_c2db2e948cc34cc6964c680e98b261c7",
       "value": 1
      }
     },
     "c6cabf4ba793428986c1cc592eb2fd2e": {
      "model_module": "@jupyter-widgets/base",
      "model_module_version": "1.2.0",
      "model_name": "LayoutModel",
      "state": {
       "grid_area": "widget013"
      }
     },
     "c6db23355a33492fb9d7e52129d942f6": {
      "model_module": "@jupyter-widgets/controls",
      "model_module_version": "1.5.0",
      "model_name": "DescriptionStyleModel",
      "state": {
       "description_width": ""
      }
     },
     "c709daff93f74cfea6228cee18862801": {
      "model_module": "@jupyter-widgets/base",
      "model_module_version": "1.2.0",
      "model_name": "LayoutModel",
      "state": {
       "grid_area": "widget001"
      }
     },
     "c72dc9d0c7824067adfccf914425823f": {
      "model_module": "@jupyter-widgets/controls",
      "model_module_version": "1.5.0",
      "model_name": "LabelModel",
      "state": {
       "layout": "IPY_MODEL_2a49720b87a542a4be03c2f294beac1b",
       "style": "IPY_MODEL_a8a069f06c5b4c10bba319bb3b01bb73",
       "value": "1"
      }
     },
     "c74f5d6bf1e44f68a777c37cd52591e8": {
      "model_module": "@jupyter-widgets/base",
      "model_module_version": "1.2.0",
      "model_name": "LayoutModel",
      "state": {
       "grid_area": "widget001"
      }
     },
     "c750266286534d3cb7f6012d40a8dcc8": {
      "model_module": "@jupyter-widgets/controls",
      "model_module_version": "1.5.0",
      "model_name": "ProgressStyleModel",
      "state": {
       "description_width": ""
      }
     },
     "c79414ed58b74c119a51962649de01fd": {
      "model_module": "@jupyter-widgets/controls",
      "model_module_version": "1.5.0",
      "model_name": "DescriptionStyleModel",
      "state": {
       "description_width": ""
      }
     },
     "c795ef51fc95419697917427b7a578b7": {
      "model_module": "@jupyter-widgets/controls",
      "model_module_version": "1.5.0",
      "model_name": "HTMLModel",
      "state": {
       "layout": "IPY_MODEL_7fdeab13e70e44b38c706affbb6b9d39",
       "style": "IPY_MODEL_013ff648eb5c44d092a20cd6df10da43",
       "value": "1.571552752"
      }
     },
     "c7c90eded90647279930c231cfbfa2b1": {
      "model_module": "@jupyter-widgets/controls",
      "model_module_version": "1.5.0",
      "model_name": "HTMLModel",
      "state": {
       "layout": "IPY_MODEL_e2d24510654f4255abe3f68de8a7274d",
       "style": "IPY_MODEL_f5dfc07f870d4bc3b061aa0a7fde6e16",
       "value": "Minimum"
      }
     },
     "c7fa5c00e55d4bfba2ef8931faf6a869": {
      "model_module": "@jupyter-widgets/controls",
      "model_module_version": "1.5.0",
      "model_name": "LabelModel",
      "state": {
       "layout": "IPY_MODEL_fcb66f23093047c0a6143282e2085de5",
       "style": "IPY_MODEL_0bc4089e97374927b09988c6b479fbbd",
       "value": "1"
      }
     },
     "c858cc8f08af4b768422633661ad631d": {
      "model_module": "@jupyter-widgets/controls",
      "model_module_version": "1.5.0",
      "model_name": "VBoxModel",
      "state": {
       "children": [
        "IPY_MODEL_708cb0982c5f4514b79cb953b1f31c73"
       ],
       "layout": "IPY_MODEL_db795c014919403a99a9b4d947ad0d0b"
      }
     },
     "c85a01d9e57046c9b51c8cbe991c0460": {
      "model_module": "@jupyter-widgets/base",
      "model_module_version": "1.2.0",
      "model_name": "LayoutModel",
      "state": {
       "grid_area": "widget017"
      }
     },
     "c85accae888a463ebdb9ae7c05a1cae3": {
      "model_module": "@jupyter-widgets/controls",
      "model_module_version": "1.5.0",
      "model_name": "DescriptionStyleModel",
      "state": {
       "description_width": ""
      }
     },
     "c85d89c847124c33ae3c01055bcbee96": {
      "model_module": "@jupyter-widgets/base",
      "model_module_version": "1.2.0",
      "model_name": "LayoutModel",
      "state": {
       "grid_area": "widget009"
      }
     },
     "c87f34be3f2141cda1d974c451c92e31": {
      "model_module": "@jupyter-widgets/base",
      "model_module_version": "1.2.0",
      "model_name": "LayoutModel",
      "state": {
       "grid_area": "widget005"
      }
     },
     "c887cd1e2ede4ee682244cafd4f0c18b": {
      "model_module": "@jupyter-widgets/base",
      "model_module_version": "1.2.0",
      "model_name": "LayoutModel",
      "state": {
       "grid_area": "widget018"
      }
     },
     "c8c14255a2504aca8110ab7a37b1076c": {
      "model_module": "@jupyter-widgets/base",
      "model_module_version": "1.2.0",
      "model_name": "LayoutModel",
      "state": {
       "display": "none"
      }
     },
     "c903c676fe3e4473afb5e97fd28f3424": {
      "model_module": "@jupyter-widgets/controls",
      "model_module_version": "1.5.0",
      "model_name": "HTMLModel",
      "state": {
       "layout": "IPY_MODEL_d570b541c3944c2f80f7b17e53912ca1",
       "style": "IPY_MODEL_04cffcbf05774a83a5722a57625fd75f",
       "value": "0.06793242453"
      }
     },
     "c916bd7901124ae2bef336a157731c2d": {
      "model_module": "@jupyter-widgets/controls",
      "model_module_version": "1.5.0",
      "model_name": "LabelModel",
      "state": {
       "layout": "IPY_MODEL_1246664fb0514045a588415328f6cb1d",
       "style": "IPY_MODEL_4c42b11490524c4c8b178bf713dec37f",
       "value": "1.5195011312197735"
      }
     },
     "c92ed5c665404d68a86004c495e81baa": {
      "model_module": "@jupyter-widgets/base",
      "model_module_version": "1.2.0",
      "model_name": "LayoutModel",
      "state": {
       "grid_area": "widget004"
      }
     },
     "c9573155f967492d98468501488907df": {
      "model_module": "@jupyter-widgets/controls",
      "model_module_version": "1.5.0",
      "model_name": "DescriptionStyleModel",
      "state": {
       "description_width": ""
      }
     },
     "c967bc7d14c74f25aa819a3ec21e6a7b": {
      "model_module": "@jupyter-widgets/controls",
      "model_module_version": "1.5.0",
      "model_name": "ProgressStyleModel",
      "state": {
       "description_width": ""
      }
     },
     "c9e23641c90e4aebb63a4cc27b79ba96": {
      "model_module": "@jupyter-widgets/controls",
      "model_module_version": "1.5.0",
      "model_name": "DescriptionStyleModel",
      "state": {
       "description_width": ""
      }
     },
     "ca5138c68caf4b349b804a04413886a1": {
      "model_module": "@jupyter-widgets/controls",
      "model_module_version": "1.5.0",
      "model_name": "HTMLModel",
      "state": {
       "layout": "IPY_MODEL_25982539b7e34b40bf8404a071ddc530",
       "style": "IPY_MODEL_291faa27d42549cb9841d0e1deeea456",
       "value": "Mean"
      }
     },
     "ca87278c82fd48999309748ee0123de9": {
      "model_module": "@jupyter-widgets/controls",
      "model_module_version": "1.5.0",
      "model_name": "DescriptionStyleModel",
      "state": {
       "description_width": ""
      }
     },
     "cab76f720f66440da0c48dbfa1c59a82": {
      "model_module": "@jupyter-widgets/controls",
      "model_module_version": "1.5.0",
      "model_name": "LabelModel",
      "state": {
       "layout": "IPY_MODEL_c4e5022477e14f3cac627bfccdfb72fa",
       "style": "IPY_MODEL_6ec81b3d22e04358916eadd18b1f707d",
       "value": "1"
      }
     },
     "cab7eaa1f5c2492eacb9686a260814ea": {
      "model_module": "@jupyter-widgets/controls",
      "model_module_version": "1.5.0",
      "model_name": "LabelModel",
      "state": {
       "layout": "IPY_MODEL_2a74b2e0b5af4858bea4ffa110197e91",
       "style": "IPY_MODEL_59c69179c070494780623331400a120f",
       "value": "-0.13808287868031902"
      }
     },
     "caea91adc237439da337e5fc4de0b672": {
      "model_module": "@jupyter-widgets/base",
      "model_module_version": "1.2.0",
      "model_name": "LayoutModel",
      "state": {
       "grid_area": "widget016"
      }
     },
     "caf240911a4141699c332e5c93147444": {
      "model_module": "@jupyter-widgets/controls",
      "model_module_version": "1.5.0",
      "model_name": "HTMLModel",
      "state": {
       "layout": "IPY_MODEL_8d0efc768c3e4b3894d158a1c7483a7f",
       "style": "IPY_MODEL_2d71f6826ad4473ba1566e77b6fb5eec",
       "value": "<span style=\"color:var(--jp-error-color1)\">Missing</span>"
      }
     },
     "cb2f3bbe23014559855937ad8de18721": {
      "model_module": "@jupyter-widgets/controls",
      "model_module_version": "1.5.0",
      "model_name": "DescriptionStyleModel",
      "state": {
       "description_width": ""
      }
     },
     "cb4add2ffa7e4057b2cd4de597d19233": {
      "model_module": "@jupyter-widgets/base",
      "model_module_version": "1.2.0",
      "model_name": "LayoutModel",
      "state": {}
     },
     "cb6e3fbedab14011b47627140c68cb3a": {
      "model_module": "@jupyter-widgets/controls",
      "model_module_version": "1.5.0",
      "model_name": "DescriptionStyleModel",
      "state": {
       "description_width": ""
      }
     },
     "cb80795beb4949f6bc874a9a49a84f50": {
      "model_module": "@jupyter-widgets/controls",
      "model_module_version": "1.5.0",
      "model_name": "TabModel",
      "state": {
       "_titles": {
        "0": "Minimum 10 values",
        "1": "Maximum 10 values"
       },
       "children": [
        "IPY_MODEL_94e72161cbb147f0afdcf255aeb6496b",
        "IPY_MODEL_436db8dd5f8b49efa352b31cacded4d9"
       ],
       "layout": "IPY_MODEL_3a6f5ed04da94baface76471fd50978e"
      }
     },
     "cb851c39adb0485e900bd515269ea0d0": {
      "model_module": "@jupyter-widgets/base",
      "model_module_version": "1.2.0",
      "model_name": "LayoutModel",
      "state": {}
     },
     "cb8bc4ff360a4bfaad6cbe815768f1ee": {
      "model_module": "@jupyter-widgets/controls",
      "model_module_version": "1.5.0",
      "model_name": "DescriptionStyleModel",
      "state": {
       "description_width": ""
      }
     },
     "cb9075632444420da06a81bfdf138eb4": {
      "model_module": "@jupyter-widgets/controls",
      "model_module_version": "1.5.0",
      "model_name": "DescriptionStyleModel",
      "state": {
       "description_width": ""
      }
     },
     "cbe582a14a7849e3bec40aaac40d254d": {
      "model_module": "@jupyter-widgets/base",
      "model_module_version": "1.2.0",
      "model_name": "LayoutModel",
      "state": {
       "grid_area": "widget016"
      }
     },
     "cbf69b44f1984492922770397aa63920": {
      "model_module": "@jupyter-widgets/controls",
      "model_module_version": "1.5.0",
      "model_name": "HTMLModel",
      "state": {
       "layout": "IPY_MODEL_db06aa6159b246a2945bb27d1c282e8d",
       "style": "IPY_MODEL_c79414ed58b74c119a51962649de01fd",
       "value": "8.77 seconds"
      }
     },
     "cc02527211b8418ab2b5559f50368f60": {
      "model_module": "@jupyter-widgets/controls",
      "model_module_version": "1.5.0",
      "model_name": "HTMLModel",
      "state": {
       "layout": "IPY_MODEL_a2f7225b939c455485c974d95b9d923a",
       "style": "IPY_MODEL_31a44e5ef256472094fb41b25f74b454",
       "value": "Variance"
      }
     },
     "cc1495e74b754a05ab8658cc9b3903e9": {
      "model_module": "@jupyter-widgets/base",
      "model_module_version": "1.2.0",
      "model_name": "LayoutModel",
      "state": {
       "grid_area": "widget005"
      }
     },
     "cc59cccf46a244c6bafe1ce62b9753bd": {
      "model_module": "@jupyter-widgets/base",
      "model_module_version": "1.2.0",
      "model_name": "LayoutModel",
      "state": {
       "grid_template_areas": "\"widget001 widget002 widget003\"\n\"widget004 widget005 widget006\"\n\"widget007 widget008 widget009\"\n\"widget010 widget011 widget012\"\n\"widget013 widget014 widget015\"\n\"widget016 widget017 widget018\"",
       "grid_template_columns": "repeat(3, 1fr)",
       "grid_template_rows": "repeat(6, 1fr)"
      }
     },
     "cc8143c77c9a42e6a1b65494dc175dec": {
      "model_module": "@jupyter-widgets/base",
      "model_module_version": "1.2.0",
      "model_name": "LayoutModel",
      "state": {
       "grid_area": "widget002"
      }
     },
     "cc9840ffa77f4d6ab51dcf11e2d461db": {
      "model_module": "@jupyter-widgets/base",
      "model_module_version": "1.2.0",
      "model_name": "LayoutModel",
      "state": {}
     },
     "ccebb2a2cb4d4c8c82721e82a3e3734b": {
      "model_module": "@jupyter-widgets/controls",
      "model_module_version": "1.5.0",
      "model_name": "DescriptionStyleModel",
      "state": {
       "description_width": ""
      }
     },
     "cd0d1b5997d64846aff901d2f3d91c32": {
      "model_module": "@jupyter-widgets/base",
      "model_module_version": "1.2.0",
      "model_name": "LayoutModel",
      "state": {}
     },
     "cd4b0f8981e245c58b43749ea030f766": {
      "model_module": "@jupyter-widgets/controls",
      "model_module_version": "1.5.0",
      "model_name": "LabelModel",
      "state": {
       "layout": "IPY_MODEL_2df8f6f5d0784d9495dc6701817853b1",
       "style": "IPY_MODEL_6ac0e2c29a5848558e36b2c73e2691fc",
       "value": "1"
      }
     },
     "cdb073ce5e8045859c1dc0c087399ec8": {
      "model_module": "@jupyter-widgets/base",
      "model_module_version": "1.2.0",
      "model_name": "LayoutModel",
      "state": {
       "grid_area": "widget016"
      }
     },
     "cdb848a1bdfe4425b5c9b28754a64e0d": {
      "model_module": "@jupyter-widgets/controls",
      "model_module_version": "1.5.0",
      "model_name": "LabelModel",
      "state": {
       "layout": "IPY_MODEL_e68ceda9abcc4a3aa6f6d5c670f8eae2",
       "style": "IPY_MODEL_58b2812c51a04040b683466cc9ae88cd",
       "value": "1"
      }
     },
     "ce3f985846cd45558db666df06cf6172": {
      "model_module": "@jupyter-widgets/base",
      "model_module_version": "1.2.0",
      "model_name": "LayoutModel",
      "state": {
       "grid_area": "widget004"
      }
     },
     "ce9514fda2934606be59ef81247971fe": {
      "model_module": "@jupyter-widgets/controls",
      "model_module_version": "1.5.0",
      "model_name": "DescriptionStyleModel",
      "state": {
       "description_width": ""
      }
     },
     "cefc6ed7b5c04520b7ba0a7bc5e87674": {
      "model_module": "@jupyter-widgets/controls",
      "model_module_version": "1.5.0",
      "model_name": "LabelModel",
      "state": {
       "layout": "IPY_MODEL_c85d89c847124c33ae3c01055bcbee96",
       "style": "IPY_MODEL_4905515c0f6b49d88d17480700061743",
       "value": "1"
      }
     },
     "cf0c03c5366146c386c6660d2648a1d0": {
      "model_module": "@jupyter-widgets/base",
      "model_module_version": "1.2.0",
      "model_name": "LayoutModel",
      "state": {
       "grid_area": "widget010"
      }
     },
     "cf5d417fff9e4c889f4f8dca58b3a63e": {
      "model_module": "@jupyter-widgets/base",
      "model_module_version": "1.2.0",
      "model_name": "LayoutModel",
      "state": {
       "grid_area": "widget014"
      }
     },
     "cf82b79f31f5484c98ab5a13b2a0ca43": {
      "model_module": "@jupyter-widgets/controls",
      "model_module_version": "1.5.0",
      "model_name": "DescriptionStyleModel",
      "state": {
       "description_width": ""
      }
     },
     "cf9a21338f314cb5822408bff2be634c": {
      "model_module": "@jupyter-widgets/controls",
      "model_module_version": "1.5.0",
      "model_name": "DescriptionStyleModel",
      "state": {
       "description_width": ""
      }
     },
     "cfaf464502af430bb703f7771f75813f": {
      "model_module": "@jupyter-widgets/controls",
      "model_module_version": "1.5.0",
      "model_name": "HBoxModel",
      "state": {
       "children": [
        "IPY_MODEL_f5ea11a642484ffc9974efee608a97fb"
       ],
       "layout": "IPY_MODEL_68a18f7cf3614446bb86f906b32da7ea"
      }
     },
     "cfe6f2f755ff42e1ade0a9bb392af5e3": {
      "model_module": "@jupyter-widgets/base",
      "model_module_version": "1.2.0",
      "model_name": "LayoutModel",
      "state": {}
     },
     "d038acac845c4e71901b6c3dc8576ec5": {
      "model_module": "@jupyter-widgets/controls",
      "model_module_version": "1.5.0",
      "model_name": "DescriptionStyleModel",
      "state": {
       "description_width": ""
      }
     },
     "d0453034f9a84f72bb5e442ae83481af": {
      "model_module": "@jupyter-widgets/controls",
      "model_module_version": "1.5.0",
      "model_name": "HTMLModel",
      "state": {
       "layout": "IPY_MODEL_4457c99591634ac3bf43d7a706536a96",
       "style": "IPY_MODEL_b70e137b07b64b49bb05c42bf8114e29",
       "value": "Kurtosis"
      }
     },
     "d05e9c18721841e3b107c469926ec100": {
      "model_module": "@jupyter-widgets/controls",
      "model_module_version": "1.5.0",
      "model_name": "DescriptionStyleModel",
      "state": {
       "description_width": ""
      }
     },
     "d066817098fe4883aa93c45d37cdb291": {
      "model_module": "@jupyter-widgets/base",
      "model_module_version": "1.2.0",
      "model_name": "LayoutModel",
      "state": {}
     },
     "d06a8058a10442e498b82c7cf6a9628e": {
      "model_module": "@jupyter-widgets/controls",
      "model_module_version": "1.5.0",
      "model_name": "HTMLModel",
      "state": {
       "layout": "IPY_MODEL_84c1511957cd4aa2acd51a8dc23e47c3",
       "style": "IPY_MODEL_f5be9a3536fb49f5a77f621171e37446",
       "value": "<a class=\"anchor\" href=\"#pp_var_6762352942159435279\"><code>1</code></a> has 1 (14.3%) missing values"
      }
     },
     "d0c08f56d78046d3ad9c471d3fb64ce4": {
      "model_module": "@jupyter-widgets/controls",
      "model_module_version": "1.5.0",
      "model_name": "FloatProgressModel",
      "state": {
       "layout": "IPY_MODEL_9458d8d72fb04121840f3c9af1d32a21",
       "max": 7,
       "style": "IPY_MODEL_ef0719e5138c46ffbd46702278d3ea3e",
       "value": 1
      }
     },
     "d0d6eeabd424463aa0705cbbcb5b8c29": {
      "model_module": "@jupyter-widgets/controls",
      "model_module_version": "1.5.0",
      "model_name": "DescriptionStyleModel",
      "state": {
       "description_width": ""
      }
     },
     "d1236827e66f4584bc17ff52884bc3c1": {
      "model_module": "@jupyter-widgets/controls",
      "model_module_version": "1.5.0",
      "model_name": "HTMLModel",
      "state": {
       "layout": "IPY_MODEL_499b76a0b636409095c2443d98e45379",
       "style": "IPY_MODEL_3555ab1916c44191b6c034a59ad24e59",
       "value": "95-th percentile"
      }
     },
     "d138d66d464440feae9aa02c6eaabfc1": {
      "model_module": "@jupyter-widgets/controls",
      "model_module_version": "1.5.0",
      "model_name": "LabelModel",
      "state": {
       "layout": "IPY_MODEL_97cd7350cf6949a18f2ddab8e19e99cc",
       "style": "IPY_MODEL_309c6d5ef387460b84b286e97736043a",
       "value": "0.7956267126438664"
      }
     },
     "d1fab931f6a54e41be799f41411e6ceb": {
      "model_module": "@jupyter-widgets/controls",
      "model_module_version": "1.5.0",
      "model_name": "FloatProgressModel",
      "state": {
       "layout": "IPY_MODEL_ea151a1c906d42b5ae35ced5ef66ecd9",
       "max": 7,
       "style": "IPY_MODEL_689cc9dd888f4b70802060c0f21b9601",
       "value": 1
      }
     },
     "d211c85e400a47fbbcf6e1d6037b9234": {
      "model_module": "@jupyter-widgets/base",
      "model_module_version": "1.2.0",
      "model_name": "LayoutModel",
      "state": {}
     },
     "d227c9a4b3e54218b1a3b1f498f39461": {
      "model_module": "@jupyter-widgets/controls",
      "model_module_version": "1.5.0",
      "model_name": "FloatProgressModel",
      "state": {
       "bar_style": "success",
       "layout": "IPY_MODEL_5cc667f079304863b7281ea92f2339e3",
       "max": 1,
       "style": "IPY_MODEL_96de5045a90b4fb3bc4acc2d7b26b3d4",
       "value": 1
      }
     },
     "d22ec3a1000f4551a00cad857bc20bc8": {
      "model_module": "@jupyter-widgets/controls",
      "model_module_version": "1.5.0",
      "model_name": "DescriptionStyleModel",
      "state": {
       "description_width": ""
      }
     },
     "d2ad93cf2fad4b148874163584e4a0ea": {
      "model_module": "@jupyter-widgets/controls",
      "model_module_version": "1.5.0",
      "model_name": "ProgressStyleModel",
      "state": {
       "description_width": ""
      }
     },
     "d2dbf0d1e49c4920966475872ab1758f": {
      "model_module": "@jupyter-widgets/controls",
      "model_module_version": "1.5.0",
      "model_name": "DescriptionStyleModel",
      "state": {
       "description_width": ""
      }
     },
     "d2e43b895320487e88ab284b7810e56a": {
      "model_module": "@jupyter-widgets/controls",
      "model_module_version": "1.5.0",
      "model_name": "GridBoxModel",
      "state": {
       "children": [
        "IPY_MODEL_52b1264ce0084f318c1ae26700627d84",
        "IPY_MODEL_d8fe5380ad524c4faeecfa4d2f2d4553",
        "IPY_MODEL_02713963d3bd48b4b2c2fc37f6b86cce",
        "IPY_MODEL_c795ef51fc95419697917427b7a578b7",
        "IPY_MODEL_be88e14fa9ff4ef8b2b80d969907df6d",
        "IPY_MODEL_259806a4a10c4d5688872be131c874e5",
        "IPY_MODEL_fc293cf25a5c4cd98ea22863a0bf61d9",
        "IPY_MODEL_970e94fd671049fca744d709f759dec1",
        "IPY_MODEL_55dd5ca2cea647d78f22108e3e82bc63",
        "IPY_MODEL_24419615528247b38b42009257fb46ef",
        "IPY_MODEL_8aec72d310ac48fbb3266e4890ef9ceb",
        "IPY_MODEL_61808880f0764576a513899869d53292",
        "IPY_MODEL_c16d80166535464d940397dd72627ce3",
        "IPY_MODEL_831ae8a6e2fc47449c4b28d1585e9b91"
       ],
       "layout": "IPY_MODEL_4ae43a17b2ff4b8896011d76bf213b9c"
      }
     },
     "d2eafbdb6e9e4a4998e4c6149975944c": {
      "model_module": "@jupyter-widgets/base",
      "model_module_version": "1.2.0",
      "model_name": "LayoutModel",
      "state": {}
     },
     "d2f6dec5d4384ea29ae1124a1f86c1d5": {
      "model_module": "@jupyter-widgets/controls",
      "model_module_version": "1.5.0",
      "model_name": "HTMLModel",
      "state": {
       "layout": "IPY_MODEL_c514bb1773b847d79d531315f5fd6b25",
       "style": "IPY_MODEL_515a2a2b0bb84fdeb927dfa438257ebc",
       "value": "<?xml version=\"1.0\" encoding=\"utf-8\" standalone=\"no\"?>\n<!DOCTYPE svg style=\"max-width: 100%\" PUBLIC \"-//W3C//DTD SVG 1.1//EN\"\n  \"http://www.w3.org/Graphics/SVG/1.1/DTD/svg11.dtd\">\n<svg style=\"max-width: 100%\"  version=\"1.1\" viewBox=\"0 0 576 396\" width=\"576pt\" xmlns=\"http://www.w3.org/2000/svg\" xmlns:xlink=\"http://www.w3.org/1999/xlink\">\n <metadata>\n  <rdf:RDF xmlns:cc=\"http://creativecommons.org/ns#\" xmlns:dc=\"http://purl.org/dc/elements/1.1/\" xmlns:rdf=\"http://www.w3.org/1999/02/22-rdf-syntax-ns#\">\n   <cc:Work>\n    <dc:type rdf:resource=\"http://purl.org/dc/dcmitype/StillImage\"/>\n    <dc:date>2022-10-01T17:17:55.244433</dc:date>\n    <dc:format>image/svg+xml</dc:format>\n    <dc:creator>\n     <cc:Agent>\n      <dc:title>Matplotlib v3.4.3, https://matplotlib.org/</dc:title>\n     </cc:Agent>\n    </dc:creator>\n   </cc:Work>\n  </rdf:RDF>\n </metadata>\n <defs>\n  <style type=\"text/css\">*{stroke-linecap:butt;stroke-linejoin:round;}</style>\n </defs>\n <g id=\"figure_1\">\n  <g id=\"patch_1\">\n   <path d=\"M 0 396 \nL 576 396 \nL 576 0 \nL 0 0 \nz\n\" style=\"fill:#ffffff;\"/>\n  </g>\n  <g id=\"axes_1\">\n   <g id=\"patch_2\">\n    <path d=\"M 72 346.5 \nL 518.4 346.5 \nL 518.4 47.52 \nL 72 47.52 \nz\n\" style=\"fill:#ffffff;\"/>\n   </g>\n   <g id=\"matplotlib.axis_1\">\n    <g id=\"xtick_1\">\n     <g id=\"text_1\">\n      <!-- −1.0 -->\n      <g style=\"fill:#262626;\" transform=\"translate(96.809707 364.598437)scale(0.1 -0.1)\">\n       <defs>\n        <path d=\"M 678 2272 \nL 4684 2272 \nL 4684 1741 \nL 678 1741 \nL 678 2272 \nz\n\" id=\"DejaVuSans-2212\" transform=\"scale(0.015625)\"/>\n        <path d=\"M 794 531 \nL 1825 531 \nL 1825 4091 \nL 703 3866 \nL 703 4441 \nL 1819 4666 \nL 2450 4666 \nL 2450 531 \nL 3481 531 \nL 3481 0 \nL 794 0 \nL 794 531 \nz\n\" id=\"DejaVuSans-31\" transform=\"scale(0.015625)\"/>\n        <path d=\"M 684 794 \nL 1344 794 \nL 1344 0 \nL 684 0 \nL 684 794 \nz\n\" id=\"DejaVuSans-2e\" transform=\"scale(0.015625)\"/>\n        <path d=\"M 2034 4250 \nQ 1547 4250 1301 3770 \nQ 1056 3291 1056 2328 \nQ 1056 1369 1301 889 \nQ 1547 409 2034 409 \nQ 2525 409 2770 889 \nQ 3016 1369 3016 2328 \nQ 3016 3291 2770 3770 \nQ 2525 4250 2034 4250 \nz\nM 2034 4750 \nQ 2819 4750 3233 4129 \nQ 3647 3509 3647 2328 \nQ 3647 1150 3233 529 \nQ 2819 -91 2034 -91 \nQ 1250 -91 836 529 \nQ 422 1150 422 2328 \nQ 422 3509 836 4129 \nQ 1250 4750 2034 4750 \nz\n\" id=\"DejaVuSans-30\" transform=\"scale(0.015625)\"/>\n       </defs>\n       <use xlink:href=\"#DejaVuSans-2212\"/>\n       <use x=\"83.789062\" xlink:href=\"#DejaVuSans-31\"/>\n       <use x=\"147.412109\" xlink:href=\"#DejaVuSans-2e\"/>\n       <use x=\"179.199219\" xlink:href=\"#DejaVuSans-30\"/>\n      </g>\n     </g>\n    </g>\n    <g id=\"xtick_2\">\n     <g id=\"text_2\">\n      <!-- −0.5 -->\n      <g style=\"fill:#262626;\" transform=\"translate(174.03888 364.598437)scale(0.1 -0.1)\">\n       <defs>\n        <path d=\"M 691 4666 \nL 3169 4666 \nL 3169 4134 \nL 1269 4134 \nL 1269 2991 \nQ 1406 3038 1543 3061 \nQ 1681 3084 1819 3084 \nQ 2600 3084 3056 2656 \nQ 3513 2228 3513 1497 \nQ 3513 744 3044 326 \nQ 2575 -91 1722 -91 \nQ 1428 -91 1123 -41 \nQ 819 9 494 109 \nL 494 744 \nQ 775 591 1075 516 \nQ 1375 441 1709 441 \nQ 2250 441 2565 725 \nQ 2881 1009 2881 1497 \nQ 2881 1984 2565 2268 \nQ 2250 2553 1709 2553 \nQ 1456 2553 1204 2497 \nQ 953 2441 691 2322 \nL 691 4666 \nz\n\" id=\"DejaVuSans-35\" transform=\"scale(0.015625)\"/>\n       </defs>\n       <use xlink:href=\"#DejaVuSans-2212\"/>\n       <use x=\"83.789062\" xlink:href=\"#DejaVuSans-30\"/>\n       <use x=\"147.412109\" xlink:href=\"#DejaVuSans-2e\"/>\n       <use x=\"179.199219\" xlink:href=\"#DejaVuSans-35\"/>\n      </g>\n     </g>\n    </g>\n    <g id=\"xtick_3\">\n     <g id=\"text_3\">\n      <!-- 0.0 -->\n      <g style=\"fill:#262626;\" transform=\"translate(255.457897 364.598437)scale(0.1 -0.1)\">\n       <use xlink:href=\"#DejaVuSans-30\"/>\n       <use x=\"63.623047\" xlink:href=\"#DejaVuSans-2e\"/>\n       <use x=\"95.410156\" xlink:href=\"#DejaVuSans-30\"/>\n      </g>\n     </g>\n    </g>\n    <g id=\"xtick_4\">\n     <g id=\"text_4\">\n      <!-- 0.5 -->\n      <g style=\"fill:#262626;\" transform=\"translate(332.68707 364.598437)scale(0.1 -0.1)\">\n       <use xlink:href=\"#DejaVuSans-30\"/>\n       <use x=\"63.623047\" xlink:href=\"#DejaVuSans-2e\"/>\n       <use x=\"95.410156\" xlink:href=\"#DejaVuSans-35\"/>\n      </g>\n     </g>\n    </g>\n    <g id=\"xtick_5\">\n     <g id=\"text_5\">\n      <!-- 1.0 -->\n      <g style=\"fill:#262626;\" transform=\"translate(409.916243 364.598437)scale(0.1 -0.1)\">\n       <use xlink:href=\"#DejaVuSans-31\"/>\n       <use x=\"63.623047\" xlink:href=\"#DejaVuSans-2e\"/>\n       <use x=\"95.410156\" xlink:href=\"#DejaVuSans-30\"/>\n      </g>\n     </g>\n    </g>\n    <g id=\"xtick_6\">\n     <g id=\"text_6\">\n      <!-- 1.5 -->\n      <g style=\"fill:#262626;\" transform=\"translate(487.145416 364.598437)scale(0.1 -0.1)\">\n       <use xlink:href=\"#DejaVuSans-31\"/>\n       <use x=\"63.623047\" xlink:href=\"#DejaVuSans-2e\"/>\n       <use x=\"95.410156\" xlink:href=\"#DejaVuSans-35\"/>\n      </g>\n     </g>\n    </g>\n    <g id=\"text_7\">\n     <!-- 1 -->\n     <g style=\"fill:#262626;\" transform=\"translate(291.700625 379.036406)scale(0.11 -0.11)\">\n      <use xlink:href=\"#DejaVuSans-31\"/>\n     </g>\n    </g>\n   </g>\n   <g id=\"matplotlib.axis_2\">\n    <g id=\"ytick_1\">\n     <g id=\"text_8\">\n      <!-- −1.0 -->\n      <g style=\"fill:#262626;\" transform=\"translate(37.217187 309.468308)scale(0.1 -0.1)\">\n       <use xlink:href=\"#DejaVuSans-2212\"/>\n       <use x=\"83.789062\" xlink:href=\"#DejaVuSans-31\"/>\n       <use x=\"147.412109\" xlink:href=\"#DejaVuSans-2e\"/>\n       <use x=\"179.199219\" xlink:href=\"#DejaVuSans-30\"/>\n      </g>\n     </g>\n    </g>\n    <g id=\"ytick_2\">\n     <g id=\"text_9\">\n      <!-- −0.5 -->\n      <g style=\"fill:#262626;\" transform=\"translate(37.217187 261.917448)scale(0.1 -0.1)\">\n       <use xlink:href=\"#DejaVuSans-2212\"/>\n       <use x=\"83.789062\" xlink:href=\"#DejaVuSans-30\"/>\n       <use x=\"147.412109\" xlink:href=\"#DejaVuSans-2e\"/>\n       <use x=\"179.199219\" xlink:href=\"#DejaVuSans-35\"/>\n      </g>\n     </g>\n    </g>\n    <g id=\"ytick_3\">\n     <g id=\"text_10\">\n      <!-- 0.0 -->\n      <g style=\"fill:#262626;\" transform=\"translate(45.596875 214.366588)scale(0.1 -0.1)\">\n       <use xlink:href=\"#DejaVuSans-30\"/>\n       <use x=\"63.623047\" xlink:href=\"#DejaVuSans-2e\"/>\n       <use x=\"95.410156\" xlink:href=\"#DejaVuSans-30\"/>\n      </g>\n     </g>\n    </g>\n    <g id=\"ytick_4\">\n     <g id=\"text_11\">\n      <!-- 0.5 -->\n      <g style=\"fill:#262626;\" transform=\"translate(45.596875 166.815728)scale(0.1 -0.1)\">\n       <use xlink:href=\"#DejaVuSans-30\"/>\n       <use x=\"63.623047\" xlink:href=\"#DejaVuSans-2e\"/>\n       <use x=\"95.410156\" xlink:href=\"#DejaVuSans-35\"/>\n      </g>\n     </g>\n    </g>\n    <g id=\"ytick_5\">\n     <g id=\"text_12\">\n      <!-- 1.0 -->\n      <g style=\"fill:#262626;\" transform=\"translate(45.596875 119.264868)scale(0.1 -0.1)\">\n       <use xlink:href=\"#DejaVuSans-31\"/>\n       <use x=\"63.623047\" xlink:href=\"#DejaVuSans-2e\"/>\n       <use x=\"95.410156\" xlink:href=\"#DejaVuSans-30\"/>\n      </g>\n     </g>\n    </g>\n    <g id=\"ytick_6\">\n     <g id=\"text_13\">\n      <!-- 1.5 -->\n      <g style=\"fill:#262626;\" transform=\"translate(45.596875 71.714009)scale(0.1 -0.1)\">\n       <use xlink:href=\"#DejaVuSans-31\"/>\n       <use x=\"63.623047\" xlink:href=\"#DejaVuSans-2e\"/>\n       <use x=\"95.410156\" xlink:href=\"#DejaVuSans-35\"/>\n      </g>\n     </g>\n    </g>\n    <g id=\"text_14\">\n     <!-- 0 -->\n     <g style=\"fill:#262626;\" transform=\"translate(30.929531 200.509375)rotate(-90)scale(0.11 -0.11)\">\n      <use xlink:href=\"#DejaVuSans-30\"/>\n     </g>\n    </g>\n   </g>\n   <g id=\"PathCollection_1\">\n    <defs>\n     <path d=\"M 0 3.5 \nC 0.928211 3.5 1.81853 3.131218 2.474874 2.474874 \nC 3.131218 1.81853 3.5 0.928211 3.5 0 \nC 3.5 -0.928211 3.131218 -1.81853 2.474874 -2.474874 \nC 1.81853 -3.131218 0.928211 -3.5 0 -3.5 \nC -0.928211 -3.5 -1.81853 -3.131218 -2.474874 -2.474874 \nC -3.131218 -1.81853 -3.5 -0.928211 -3.5 0 \nC -3.5 0.928211 -3.131218 1.81853 -2.474874 2.474874 \nC -1.81853 3.131218 -0.928211 3.5 0 3.5 \nz\n\" id=\"m708a19a802\" style=\"stroke:#337ab7;stroke-width:0.3;\"/>\n    </defs>\n    <g clip-path=\"url(#pa769ef7dee)\">\n     <use style=\"fill:#337ab7;stroke:#337ab7;stroke-width:0.3;\" x=\"210.073107\" xlink:href=\"#m708a19a802\" y=\"185.412719\"/>\n     <use style=\"fill:#337ab7;stroke:#337ab7;stroke-width:0.3;\" x=\"92.290909\" xlink:href=\"#m708a19a802\" y=\"332.91\"/>\n     <use style=\"fill:#337ab7;stroke:#337ab7;stroke-width:0.3;\" x=\"242.081406\" xlink:href=\"#m708a19a802\" y=\"213.160671\"/>\n     <use style=\"fill:#337ab7;stroke:#337ab7;stroke-width:0.3;\" x=\"386.745895\" xlink:href=\"#m708a19a802\" y=\"314.268081\"/>\n     <use style=\"fill:#337ab7;stroke:#337ab7;stroke-width:0.3;\" x=\"498.109091\" xlink:href=\"#m708a19a802\" y=\"61.11\"/>\n     <use style=\"fill:#337ab7;stroke:#337ab7;stroke-width:0.3;\" x=\"311.195144\" xlink:href=\"#m708a19a802\" y=\"117.779805\"/>\n    </g>\n   </g>\n   <g id=\"patch_3\">\n    <path d=\"M 72 346.5 \nL 72 47.52 \n\" style=\"fill:none;\"/>\n   </g>\n   <g id=\"patch_4\">\n    <path d=\"M 518.4 346.5 \nL 518.4 47.52 \n\" style=\"fill:none;\"/>\n   </g>\n   <g id=\"patch_5\">\n    <path d=\"M 72 346.5 \nL 518.4 346.5 \n\" style=\"fill:none;\"/>\n   </g>\n   <g id=\"patch_6\">\n    <path d=\"M 72 47.52 \nL 518.4 47.52 \n\" style=\"fill:none;\"/>\n   </g>\n  </g>\n </g>\n <defs>\n  <clipPath id=\"pa769ef7dee\">\n   <rect height=\"298.98\" width=\"446.4\" x=\"72\" y=\"47.52\"/>\n  </clipPath>\n </defs>\n</svg>\n"
      }
     },
     "d3273f08c5984549b963206333620655": {
      "model_module": "@jupyter-widgets/controls",
      "model_module_version": "1.5.0",
      "model_name": "HTMLModel",
      "state": {
       "layout": "IPY_MODEL_e2ba3fb9f43f4175a201b7c137912903",
       "style": "IPY_MODEL_e24ae12051154e9488c79dd085c222b2",
       "value": "-1.107862119"
      }
     },
     "d33b7965bce04bcca0680002a8176342": {
      "model_module": "@jupyter-widgets/controls",
      "model_module_version": "1.5.0",
      "model_name": "HTMLModel",
      "state": {
       "layout": "IPY_MODEL_4d751817184e4ca795b32b67b56f4a94",
       "style": "IPY_MODEL_db56ed2987c7414ea996e2abd22eb6a2",
       "value": "Standard deviation"
      }
     },
     "d38efa7ba6444b94a6a5f05751726a41": {
      "model_module": "@jupyter-widgets/controls",
      "model_module_version": "1.5.0",
      "model_name": "FloatProgressModel",
      "state": {
       "layout": "IPY_MODEL_500591c28f804300a7c07ce93bae57bd",
       "max": 7,
       "style": "IPY_MODEL_e4b6ca3dfeca48f7b28dff3173701edb",
       "value": 1
      }
     },
     "d3965ffc41f84077a7c0226edd205287": {
      "model_module": "@jupyter-widgets/base",
      "model_module_version": "1.2.0",
      "model_name": "LayoutModel",
      "state": {
       "grid_area": "widget010"
      }
     },
     "d3e31150d076461c956693bb5c0b63d1": {
      "model_module": "@jupyter-widgets/controls",
      "model_module_version": "1.5.0",
      "model_name": "DescriptionStyleModel",
      "state": {
       "description_width": ""
      }
     },
     "d3e9287433df4b0fbba93f9746a46d89": {
      "model_module": "@jupyter-widgets/controls",
      "model_module_version": "1.5.0",
      "model_name": "DescriptionStyleModel",
      "state": {
       "description_width": ""
      }
     },
     "d3fdceb2a6bb418da241b99bd9fec9ca": {
      "model_module": "@jupyter-widgets/controls",
      "model_module_version": "1.5.0",
      "model_name": "HTMLModel",
      "state": {
       "layout": "IPY_MODEL_e42172332cef4b019911462e8764959f",
       "style": "IPY_MODEL_71eceadbee6c44cd8e6c03b1ec4889c4",
       "value": "Mean"
      }
     },
     "d4217ae6c9e541fca17bc4d061fc121e": {
      "model_module": "@jupyter-widgets/base",
      "model_module_version": "1.2.0",
      "model_name": "LayoutModel",
      "state": {
       "grid_area": "widget001"
      }
     },
     "d497114170d44891a685d6cc552e907d": {
      "model_module": "@jupyter-widgets/base",
      "model_module_version": "1.2.0",
      "model_name": "LayoutModel",
      "state": {}
     },
     "d49722d2981341398e1f399209592757": {
      "model_module": "@jupyter-widgets/controls",
      "model_module_version": "1.5.0",
      "model_name": "FloatProgressModel",
      "state": {
       "layout": "IPY_MODEL_17223f20b0fe47f2993c619401e3a25c",
       "max": 7,
       "style": "IPY_MODEL_d2ad93cf2fad4b148874163584e4a0ea",
       "value": 1
      }
     },
     "d4ba95c4f79a4a44977082b604fe6487": {
      "model_module": "@jupyter-widgets/base",
      "model_module_version": "1.2.0",
      "model_name": "LayoutModel",
      "state": {
       "grid_area": "widget006"
      }
     },
     "d4c1b9649e604c4185147e8348896a1f": {
      "model_module": "@jupyter-widgets/base",
      "model_module_version": "1.2.0",
      "model_name": "LayoutModel",
      "state": {
       "grid_area": "widget001"
      }
     },
     "d4dd687598d047b99c3ac00a4b6a45ce": {
      "model_module": "@jupyter-widgets/controls",
      "model_module_version": "1.5.0",
      "model_name": "DescriptionStyleModel",
      "state": {
       "description_width": ""
      }
     },
     "d511f3f9c92841b2bf03c22a1af78d6f": {
      "model_module": "@jupyter-widgets/controls",
      "model_module_version": "1.5.0",
      "model_name": "DescriptionStyleModel",
      "state": {
       "description_width": ""
      }
     },
     "d5288892617d4cb0984619f370ad60a8": {
      "model_module": "@jupyter-widgets/controls",
      "model_module_version": "1.5.0",
      "model_name": "HTMLModel",
      "state": {
       "layout": "IPY_MODEL_019654402b774364a3d4d418ff2651aa",
       "style": "IPY_MODEL_dd369a736a144b5a846791a1af97f3de",
       "value": "50.3 B"
      }
     },
     "d570b541c3944c2f80f7b17e53912ca1": {
      "model_module": "@jupyter-widgets/base",
      "model_module_version": "1.2.0",
      "model_name": "LayoutModel",
      "state": {
       "grid_area": "widget014"
      }
     },
     "d59fef410024402fbb38057813ba0f1b": {
      "model_module": "@jupyter-widgets/controls",
      "model_module_version": "1.5.0",
      "model_name": "VBoxModel",
      "state": {
       "children": [
        "IPY_MODEL_2dd35fc399684a12836bfe13f364ab5d"
       ],
       "layout": "IPY_MODEL_a4eb94a7214c45198c24c0deed853e70"
      }
     },
     "d5be75ae0d134078882e09827de0c316": {
      "model_module": "@jupyter-widgets/base",
      "model_module_version": "1.2.0",
      "model_name": "LayoutModel",
      "state": {
       "grid_area": "widget018"
      }
     },
     "d5c6e3a39c5642ddb22347b9f1f1c4cd": {
      "model_module": "@jupyter-widgets/controls",
      "model_module_version": "1.5.0",
      "model_name": "LabelModel",
      "state": {
       "layout": "IPY_MODEL_4fe6b710b94b48fc8aaff406ce377272",
       "style": "IPY_MODEL_1a9e7853f45846ddbff3b12c0116c851",
       "value": "-0.3453122060237242"
      }
     },
     "d60e7dee9a95416c906f0ef80b447f2b": {
      "model_module": "@jupyter-widgets/base",
      "model_module_version": "1.2.0",
      "model_name": "LayoutModel",
      "state": {
       "grid_area": "widget014"
      }
     },
     "d61bf7f695314e57908638656efbf21d": {
      "model_module": "@jupyter-widgets/base",
      "model_module_version": "1.2.0",
      "model_name": "LayoutModel",
      "state": {
       "grid_area": "widget021"
      }
     },
     "d61c7ac405d14e19ba490bff10ddada7": {
      "model_module": "@jupyter-widgets/controls",
      "model_module_version": "1.5.0",
      "model_name": "HTMLModel",
      "state": {
       "layout": "IPY_MODEL_c6cabf4ba793428986c1cc592eb2fd2e",
       "style": "IPY_MODEL_6b728c5ba4a2487fa26849f7b54fe650",
       "value": "Maximum"
      }
     },
     "d62333320553469db3e30117f0fd4277": {
      "model_module": "@jupyter-widgets/controls",
      "model_module_version": "1.5.0",
      "model_name": "DescriptionStyleModel",
      "state": {
       "description_width": ""
      }
     },
     "d6510215e90043b995d55a2d42d3809b": {
      "model_module": "@jupyter-widgets/controls",
      "model_module_version": "1.5.0",
      "model_name": "LabelModel",
      "state": {
       "layout": "IPY_MODEL_648e8354e0654a7a95e31f4e954887c0",
       "style": "IPY_MODEL_c9e23641c90e4aebb63a4cc27b79ba96",
       "value": "1"
      }
     },
     "d66e0e218b944c8f8d92846b9952591d": {
      "model_module": "@jupyter-widgets/controls",
      "model_module_version": "1.5.0",
      "model_name": "DescriptionStyleModel",
      "state": {
       "description_width": ""
      }
     },
     "d689796841e64530bc31cdadf6183e70": {
      "model_module": "@jupyter-widgets/controls",
      "model_module_version": "1.5.0",
      "model_name": "ButtonStyleModel",
      "state": {}
     },
     "d6a7ca16d874413988e961fcb39cf243": {
      "model_module": "@jupyter-widgets/controls",
      "model_module_version": "1.5.0",
      "model_name": "DescriptionStyleModel",
      "state": {
       "description_width": ""
      }
     },
     "d6a81078ab4746389082d50f58ffac39": {
      "model_module": "@jupyter-widgets/controls",
      "model_module_version": "1.5.0",
      "model_name": "DescriptionStyleModel",
      "state": {
       "description_width": ""
      }
     },
     "d6aee76b037d4bea896c34a6bb0ec3b2": {
      "model_module": "@jupyter-widgets/controls",
      "model_module_version": "1.5.0",
      "model_name": "DescriptionStyleModel",
      "state": {
       "description_width": ""
      }
     },
     "d6b07a1454694d3e9d0581ff0fb1010e": {
      "model_module": "@jupyter-widgets/controls",
      "model_module_version": "1.5.0",
      "model_name": "DescriptionStyleModel",
      "state": {
       "description_width": ""
      }
     },
     "d6cc03885ddf4f5f90c8974bac30d568": {
      "model_module": "@jupyter-widgets/controls",
      "model_module_version": "1.5.0",
      "model_name": "VBoxModel",
      "state": {
       "children": [
        "IPY_MODEL_1879582525b24659869396f8d676b34c"
       ],
       "layout": "IPY_MODEL_5efc87ee01de4511a3357baab948f7ba"
      }
     },
     "d6d2c42090c14ef38726e463e1348ad3": {
      "model_module": "@jupyter-widgets/controls",
      "model_module_version": "1.5.0",
      "model_name": "HTMLModel",
      "state": {
       "layout": "IPY_MODEL_a5dfb7a8d2cf4faba7b3a0cdcb18b62b",
       "style": "IPY_MODEL_71ab9502f7de44f98721eb0e4c11cd32",
       "value": "<?xml version=\"1.0\" encoding=\"utf-8\" standalone=\"no\"?>\n<!DOCTYPE svg style=\"max-width: 100%\" PUBLIC \"-//W3C//DTD SVG 1.1//EN\"\n  \"http://www.w3.org/Graphics/SVG/1.1/DTD/svg11.dtd\">\n<svg style=\"max-width: 100%\"  version=\"1.1\" viewBox=\"0 0 576 396\" width=\"576pt\" xmlns=\"http://www.w3.org/2000/svg\" xmlns:xlink=\"http://www.w3.org/1999/xlink\">\n <metadata>\n  <rdf:RDF xmlns:cc=\"http://creativecommons.org/ns#\" xmlns:dc=\"http://purl.org/dc/elements/1.1/\" xmlns:rdf=\"http://www.w3.org/1999/02/22-rdf-syntax-ns#\">\n   <cc:Work>\n    <dc:type rdf:resource=\"http://purl.org/dc/dcmitype/StillImage\"/>\n    <dc:date>2022-10-01T17:18:00.417134</dc:date>\n    <dc:format>image/svg+xml</dc:format>\n    <dc:creator>\n     <cc:Agent>\n      <dc:title>Matplotlib v3.4.3, https://matplotlib.org/</dc:title>\n     </cc:Agent>\n    </dc:creator>\n   </cc:Work>\n  </rdf:RDF>\n </metadata>\n <defs>\n  <style type=\"text/css\">*{stroke-linecap:butt;stroke-linejoin:round;}</style>\n </defs>\n <g id=\"figure_1\">\n  <g id=\"patch_1\">\n   <path d=\"M 0 396 \nL 576 396 \nL 576 0 \nL 0 0 \nz\n\" style=\"fill:#ffffff;\"/>\n  </g>\n  <g id=\"axes_1\">\n   <g id=\"patch_2\">\n    <path d=\"M 159.84 316.8 \nL 429.12 316.8 \nL 429.12 47.52 \nL 159.84 47.52 \nz\n\" style=\"fill:#ffffff;\"/>\n   </g>\n   <g clip-path=\"url(#p39f3c9b6de)\">\n    <image height=\"270\" id=\"image98fba8f9f4\" transform=\"scale(1 -1)translate(0 -270)\" width=\"270\" x=\"159.84\" xlink:href=\"data:image/png;base64,\niVBORw0KGgoAAAANSUhEUgAAAQ4AAAEOCAYAAAB4sfmlAAADeklEQVR4nO3WsQ2DQAAEwccy/VCG2yAgcEUO3Ii7wzVs9CDNVHDR6pZ128/BGGOM1/uYPeFSfp/v7Alc1GP2AOB+hAPIhAPIhAPIhAPIhAPIhAPIhAPIhAPIhAPIhAPIhAPIhAPIhAPIhAPIhAPIhAPIhAPIhAPIhAPIhAPIhAPIhAPIhAPIhAPIhAPIhAPIhAPIhAPIhAPIhAPIhAPIhAPIhAPIhAPIhAPIhAPIhAPIhAPIhAPIhAPIhAPIhAPIhAPIhAPIhAPIhAPIhAPIhAPIhAPIhAPIhAPIhAPIhAPIhAPIhAPIhAPIhAPIhAPIhAPIhAPIhAPIhAPIhAPIhAPIhAPIhAPIlnXbz9kjgHvxOIBMOIBMOIBMOIBMOIBMOIBMOIBMOIBMOIBMOIBMOIBMOIBMOIBMOIBMOIBMOIBMOIBMOIBMOIBMOIBMOIBMOIBMOIBMOIBMOIBMOIBMOIBMOIBMOIBMOIBMOIBMOIBMOIBMOIBMOIBMOIBMOIBMOIBMOIBMOIBMOIBMOIBMOIBMOIBMOIBMOIBMOIBMOIBMOIBMOIBMOIBMOIBMOIBMOIBMOIBMOIBMOIBMOIBMOIBMOIBMOIBMOIBMOIBMOIBMOIBMOIDsOXsA3MHrfcyecCkeB5AJB5AJB5AJB5AJB5AJB5AJB5AJB5AJB5AJB5AJB5AJB5AJB5AJB5AJB5AJB5AJB5AJB5AJB5AJB5AJB5AJB5AJB5AJB5AJB5AJB5AJB5AJB5AJB5AJB5AJB5AJB5AJB5AJB5AJB5AJB5AJB5AJB5AJB5AJB5AJB5AJB5AJB5AJB5AJB5AJB5AJB5AJB5AJB5AJB5AJB5AJB5AJB5AJB5AJB5AJB5AJB5AJB5AJB5AJB5AJB5AJB5AJB5AJB5AJB5AJB5AJB5At67afs0cA9+JxAJlwAJlwAJlwAJlwAJlwAJlwAJlwAJlwAJlwAJlwAJlwAJlwAJlwAJlwAJlwAJlwAJlwAJlwAJlwAJlwAJlwAJlwAJlwAJlwAJlwAJlwAJlwAJlwAJlwAJlwAJlwAJlwAJlwAJlwAJlwAJlwAJlwAJlwAJlwAJlwAJlwAJlwAJlwAJlwAJlwAJlwAJlwAJlwAJlwAJlwAJlwAJlwAJlwAJlwAJlwAJlwAJlwAJlwAJlwAJlwAJlwAJlwAJlwAJlwAJlwANkfYhcK8Tlpn40AAAAASUVORK5CYII=\" y=\"-46.8\"/>\n   </g>\n   <g id=\"matplotlib.axis_1\">\n    <g id=\"xtick_1\">\n     <g id=\"text_1\">\n      <!-- df_index -->\n      <g style=\"fill:#262626;\" transform=\"translate(196.120313 369.529687)rotate(-90)scale(0.1 -0.1)\">\n       <defs>\n        <path d=\"M 2906 2969 \nL 2906 4863 \nL 3481 4863 \nL 3481 0 \nL 2906 0 \nL 2906 525 \nQ 2725 213 2448 61 \nQ 2172 -91 1784 -91 \nQ 1150 -91 751 415 \nQ 353 922 353 1747 \nQ 353 2572 751 3078 \nQ 1150 3584 1784 3584 \nQ 2172 3584 2448 3432 \nQ 2725 3281 2906 2969 \nz\nM 947 1747 \nQ 947 1113 1208 752 \nQ 1469 391 1925 391 \nQ 2381 391 2643 752 \nQ 2906 1113 2906 1747 \nQ 2906 2381 2643 2742 \nQ 2381 3103 1925 3103 \nQ 1469 3103 1208 2742 \nQ 947 2381 947 1747 \nz\n\" id=\"DejaVuSans-64\" transform=\"scale(0.015625)\"/>\n        <path d=\"M 2375 4863 \nL 2375 4384 \nL 1825 4384 \nQ 1516 4384 1395 4259 \nQ 1275 4134 1275 3809 \nL 1275 3500 \nL 2222 3500 \nL 2222 3053 \nL 1275 3053 \nL 1275 0 \nL 697 0 \nL 697 3053 \nL 147 3053 \nL 147 3500 \nL 697 3500 \nL 697 3744 \nQ 697 4328 969 4595 \nQ 1241 4863 1831 4863 \nL 2375 4863 \nz\n\" id=\"DejaVuSans-66\" transform=\"scale(0.015625)\"/>\n        <path d=\"M 3263 -1063 \nL 3263 -1509 \nL -63 -1509 \nL -63 -1063 \nL 3263 -1063 \nz\n\" id=\"DejaVuSans-5f\" transform=\"scale(0.015625)\"/>\n        <path d=\"M 603 3500 \nL 1178 3500 \nL 1178 0 \nL 603 0 \nL 603 3500 \nz\nM 603 4863 \nL 1178 4863 \nL 1178 4134 \nL 603 4134 \nL 603 4863 \nz\n\" id=\"DejaVuSans-69\" transform=\"scale(0.015625)\"/>\n        <path d=\"M 3513 2113 \nL 3513 0 \nL 2938 0 \nL 2938 2094 \nQ 2938 2591 2744 2837 \nQ 2550 3084 2163 3084 \nQ 1697 3084 1428 2787 \nQ 1159 2491 1159 1978 \nL 1159 0 \nL 581 0 \nL 581 3500 \nL 1159 3500 \nL 1159 2956 \nQ 1366 3272 1645 3428 \nQ 1925 3584 2291 3584 \nQ 2894 3584 3203 3211 \nQ 3513 2838 3513 2113 \nz\n\" id=\"DejaVuSans-6e\" transform=\"scale(0.015625)\"/>\n        <path d=\"M 3597 1894 \nL 3597 1613 \nL 953 1613 \nQ 991 1019 1311 708 \nQ 1631 397 2203 397 \nQ 2534 397 2845 478 \nQ 3156 559 3463 722 \nL 3463 178 \nQ 3153 47 2828 -22 \nQ 2503 -91 2169 -91 \nQ 1331 -91 842 396 \nQ 353 884 353 1716 \nQ 353 2575 817 3079 \nQ 1281 3584 2069 3584 \nQ 2775 3584 3186 3129 \nQ 3597 2675 3597 1894 \nz\nM 3022 2063 \nQ 3016 2534 2758 2815 \nQ 2500 3097 2075 3097 \nQ 1594 3097 1305 2825 \nQ 1016 2553 972 2059 \nL 3022 2063 \nz\n\" id=\"DejaVuSans-65\" transform=\"scale(0.015625)\"/>\n        <path d=\"M 3513 3500 \nL 2247 1797 \nL 3578 0 \nL 2900 0 \nL 1881 1375 \nL 863 0 \nL 184 0 \nL 1544 1831 \nL 300 3500 \nL 978 3500 \nL 1906 2253 \nL 2834 3500 \nL 3513 3500 \nz\n\" id=\"DejaVuSans-78\" transform=\"scale(0.015625)\"/>\n       </defs>\n       <use xlink:href=\"#DejaVuSans-64\"/>\n       <use x=\"63.476562\" xlink:href=\"#DejaVuSans-66\"/>\n       <use x=\"98.681641\" xlink:href=\"#DejaVuSans-5f\"/>\n       <use x=\"148.681641\" xlink:href=\"#DejaVuSans-69\"/>\n       <use x=\"176.464844\" xlink:href=\"#DejaVuSans-6e\"/>\n       <use x=\"239.84375\" xlink:href=\"#DejaVuSans-64\"/>\n       <use x=\"303.320312\" xlink:href=\"#DejaVuSans-65\"/>\n       <use x=\"363.09375\" xlink:href=\"#DejaVuSans-78\"/>\n      </g>\n     </g>\n    </g>\n    <g id=\"xtick_2\">\n     <g id=\"text_2\">\n      <!-- 0 -->\n      <g style=\"fill:#262626;\" transform=\"translate(263.579375 333.6625)rotate(-90)scale(0.1 -0.1)\">\n       <defs>\n        <path d=\"M 2034 4250 \nQ 1547 4250 1301 3770 \nQ 1056 3291 1056 2328 \nQ 1056 1369 1301 889 \nQ 1547 409 2034 409 \nQ 2525 409 2770 889 \nQ 3016 1369 3016 2328 \nQ 3016 3291 2770 3770 \nQ 2525 4250 2034 4250 \nz\nM 2034 4750 \nQ 2819 4750 3233 4129 \nQ 3647 3509 3647 2328 \nQ 3647 1150 3233 529 \nQ 2819 -91 2034 -91 \nQ 1250 -91 836 529 \nQ 422 1150 422 2328 \nQ 422 3509 836 4129 \nQ 1250 4750 2034 4750 \nz\n\" id=\"DejaVuSans-30\" transform=\"scale(0.015625)\"/>\n       </defs>\n       <use xlink:href=\"#DejaVuSans-30\"/>\n      </g>\n     </g>\n    </g>\n    <g id=\"xtick_3\">\n     <g id=\"text_3\">\n      <!-- 1 -->\n      <g style=\"fill:#262626;\" transform=\"translate(330.899375 333.6625)rotate(-90)scale(0.1 -0.1)\">\n       <defs>\n        <path d=\"M 794 531 \nL 1825 531 \nL 1825 4091 \nL 703 3866 \nL 703 4441 \nL 1819 4666 \nL 2450 4666 \nL 2450 531 \nL 3481 531 \nL 3481 0 \nL 794 0 \nL 794 531 \nz\n\" id=\"DejaVuSans-31\" transform=\"scale(0.015625)\"/>\n       </defs>\n       <use xlink:href=\"#DejaVuSans-31\"/>\n      </g>\n     </g>\n    </g>\n    <g id=\"xtick_4\">\n     <g id=\"text_4\">\n      <!-- 2 -->\n      <g style=\"fill:#262626;\" transform=\"translate(398.219375 333.6625)rotate(-90)scale(0.1 -0.1)\">\n       <defs>\n        <path d=\"M 1228 531 \nL 3431 531 \nL 3431 0 \nL 469 0 \nL 469 531 \nQ 828 903 1448 1529 \nQ 2069 2156 2228 2338 \nQ 2531 2678 2651 2914 \nQ 2772 3150 2772 3378 \nQ 2772 3750 2511 3984 \nQ 2250 4219 1831 4219 \nQ 1534 4219 1204 4116 \nQ 875 4013 500 3803 \nL 500 4441 \nQ 881 4594 1212 4672 \nQ 1544 4750 1819 4750 \nQ 2544 4750 2975 4387 \nQ 3406 4025 3406 3419 \nQ 3406 3131 3298 2873 \nQ 3191 2616 2906 2266 \nQ 2828 2175 2409 1742 \nQ 1991 1309 1228 531 \nz\n\" id=\"DejaVuSans-32\" transform=\"scale(0.015625)\"/>\n       </defs>\n       <use xlink:href=\"#DejaVuSans-32\"/>\n      </g>\n     </g>\n    </g>\n   </g>\n   <g id=\"matplotlib.axis_2\">\n    <g id=\"ytick_1\">\n     <g id=\"text_5\">\n      <!-- df_index -->\n      <g style=\"fill:#262626;\" transform=\"translate(107.110313 84.979219)scale(0.1 -0.1)\">\n       <use xlink:href=\"#DejaVuSans-64\"/>\n       <use x=\"63.476562\" xlink:href=\"#DejaVuSans-66\"/>\n       <use x=\"98.681641\" xlink:href=\"#DejaVuSans-5f\"/>\n       <use x=\"148.681641\" xlink:href=\"#DejaVuSans-69\"/>\n       <use x=\"176.464844\" xlink:href=\"#DejaVuSans-6e\"/>\n       <use x=\"239.84375\" xlink:href=\"#DejaVuSans-64\"/>\n       <use x=\"303.320312\" xlink:href=\"#DejaVuSans-65\"/>\n       <use x=\"363.09375\" xlink:href=\"#DejaVuSans-78\"/>\n      </g>\n     </g>\n    </g>\n    <g id=\"ytick_2\">\n     <g id=\"text_6\">\n      <!-- 0 -->\n      <g style=\"fill:#262626;\" transform=\"translate(142.9775 152.299219)scale(0.1 -0.1)\">\n       <use xlink:href=\"#DejaVuSans-30\"/>\n      </g>\n     </g>\n    </g>\n    <g id=\"ytick_3\">\n     <g id=\"text_7\">\n      <!-- 1 -->\n      <g style=\"fill:#262626;\" transform=\"translate(142.9775 219.619219)scale(0.1 -0.1)\">\n       <use xlink:href=\"#DejaVuSans-31\"/>\n      </g>\n     </g>\n    </g>\n    <g id=\"ytick_4\">\n     <g id=\"text_8\">\n      <!-- 2 -->\n      <g style=\"fill:#262626;\" transform=\"translate(142.9775 286.939219)scale(0.1 -0.1)\">\n       <use xlink:href=\"#DejaVuSans-32\"/>\n      </g>\n     </g>\n    </g>\n   </g>\n   <g id=\"patch_3\">\n    <path d=\"M 159.84 316.8 \nL 159.84 47.52 \n\" style=\"fill:none;\"/>\n   </g>\n   <g id=\"patch_4\">\n    <path d=\"M 429.12 316.8 \nL 429.12 47.52 \n\" style=\"fill:none;\"/>\n   </g>\n   <g id=\"patch_5\">\n    <path d=\"M 159.84 316.8 \nL 429.12 316.8 \n\" style=\"fill:none;\"/>\n   </g>\n   <g id=\"patch_6\">\n    <path d=\"M 159.84 47.52 \nL 429.12 47.52 \n\" style=\"fill:none;\"/>\n   </g>\n  </g>\n  <g id=\"axes_2\">\n   <g id=\"patch_7\">\n    <path d=\"M 451.44 316.8 \nL 464.904 316.8 \nL 464.904 47.52 \nL 451.44 47.52 \nz\n\" style=\"fill:#ffffff;\"/>\n   </g>\n   <g id=\"patch_8\">\n    <path clip-path=\"url(#p3334fa5e47)\" d=\"M 451.44 316.8 \nL 451.44 315.748125 \nL 451.44 48.571875 \nL 451.44 47.52 \nL 464.904 47.52 \nL 464.904 48.571875 \nL 464.904 315.748125 \nL 464.904 316.8 \nL 464.904 316.8 \nz\n\" style=\"fill:#ffffff;stroke:#ffffff;stroke-linejoin:miter;stroke-width:0.01;\"/>\n   </g>\n   <g id=\"matplotlib.axis_3\"/>\n   <g id=\"matplotlib.axis_4\">\n    <g id=\"ytick_5\">\n     <g id=\"line2d_1\">\n      <defs>\n       <path d=\"M 0 0 \nL 3.5 0 \n\" id=\"m30d1b98e1d\" style=\"stroke:#262626;\"/>\n      </defs>\n      <g>\n       <use style=\"fill:#262626;stroke:#262626;\" x=\"464.904\" xlink:href=\"#m30d1b98e1d\" y=\"316.8\"/>\n      </g>\n     </g>\n     <g id=\"text_9\">\n      <!-- 0.0 -->\n      <g style=\"fill:#262626;\" transform=\"translate(475.404 320.599219)scale(0.1 -0.1)\">\n       <defs>\n        <path d=\"M 684 794 \nL 1344 794 \nL 1344 0 \nL 684 0 \nL 684 794 \nz\n\" id=\"DejaVuSans-2e\" transform=\"scale(0.015625)\"/>\n       </defs>\n       <use xlink:href=\"#DejaVuSans-30\"/>\n       <use x=\"63.623047\" xlink:href=\"#DejaVuSans-2e\"/>\n       <use x=\"95.410156\" xlink:href=\"#DejaVuSans-30\"/>\n      </g>\n     </g>\n    </g>\n    <g id=\"ytick_6\">\n     <g id=\"line2d_2\">\n      <g>\n       <use style=\"fill:#262626;stroke:#262626;\" x=\"464.904\" xlink:href=\"#m30d1b98e1d\" y=\"262.944\"/>\n      </g>\n     </g>\n     <g id=\"text_10\">\n      <!-- 0.2 -->\n      <g style=\"fill:#262626;\" transform=\"translate(475.404 266.743219)scale(0.1 -0.1)\">\n       <use xlink:href=\"#DejaVuSans-30\"/>\n       <use x=\"63.623047\" xlink:href=\"#DejaVuSans-2e\"/>\n       <use x=\"95.410156\" xlink:href=\"#DejaVuSans-32\"/>\n      </g>\n     </g>\n    </g>\n    <g id=\"ytick_7\">\n     <g id=\"line2d_3\">\n      <g>\n       <use style=\"fill:#262626;stroke:#262626;\" x=\"464.904\" xlink:href=\"#m30d1b98e1d\" y=\"209.088\"/>\n      </g>\n     </g>\n     <g id=\"text_11\">\n      <!-- 0.4 -->\n      <g style=\"fill:#262626;\" transform=\"translate(475.404 212.887219)scale(0.1 -0.1)\">\n       <defs>\n        <path d=\"M 2419 4116 \nL 825 1625 \nL 2419 1625 \nL 2419 4116 \nz\nM 2253 4666 \nL 3047 4666 \nL 3047 1625 \nL 3713 1625 \nL 3713 1100 \nL 3047 1100 \nL 3047 0 \nL 2419 0 \nL 2419 1100 \nL 313 1100 \nL 313 1709 \nL 2253 4666 \nz\n\" id=\"DejaVuSans-34\" transform=\"scale(0.015625)\"/>\n       </defs>\n       <use xlink:href=\"#DejaVuSans-30\"/>\n       <use x=\"63.623047\" xlink:href=\"#DejaVuSans-2e\"/>\n       <use x=\"95.410156\" xlink:href=\"#DejaVuSans-34\"/>\n      </g>\n     </g>\n    </g>\n    <g id=\"ytick_8\">\n     <g id=\"line2d_4\">\n      <g>\n       <use style=\"fill:#262626;stroke:#262626;\" x=\"464.904\" xlink:href=\"#m30d1b98e1d\" y=\"155.232\"/>\n      </g>\n     </g>\n     <g id=\"text_12\">\n      <!-- 0.6 -->\n      <g style=\"fill:#262626;\" transform=\"translate(475.404 159.031219)scale(0.1 -0.1)\">\n       <defs>\n        <path d=\"M 2113 2584 \nQ 1688 2584 1439 2293 \nQ 1191 2003 1191 1497 \nQ 1191 994 1439 701 \nQ 1688 409 2113 409 \nQ 2538 409 2786 701 \nQ 3034 994 3034 1497 \nQ 3034 2003 2786 2293 \nQ 2538 2584 2113 2584 \nz\nM 3366 4563 \nL 3366 3988 \nQ 3128 4100 2886 4159 \nQ 2644 4219 2406 4219 \nQ 1781 4219 1451 3797 \nQ 1122 3375 1075 2522 \nQ 1259 2794 1537 2939 \nQ 1816 3084 2150 3084 \nQ 2853 3084 3261 2657 \nQ 3669 2231 3669 1497 \nQ 3669 778 3244 343 \nQ 2819 -91 2113 -91 \nQ 1303 -91 875 529 \nQ 447 1150 447 2328 \nQ 447 3434 972 4092 \nQ 1497 4750 2381 4750 \nQ 2619 4750 2861 4703 \nQ 3103 4656 3366 4563 \nz\n\" id=\"DejaVuSans-36\" transform=\"scale(0.015625)\"/>\n       </defs>\n       <use xlink:href=\"#DejaVuSans-30\"/>\n       <use x=\"63.623047\" xlink:href=\"#DejaVuSans-2e\"/>\n       <use x=\"95.410156\" xlink:href=\"#DejaVuSans-36\"/>\n      </g>\n     </g>\n    </g>\n    <g id=\"ytick_9\">\n     <g id=\"line2d_5\">\n      <g>\n       <use style=\"fill:#262626;stroke:#262626;\" x=\"464.904\" xlink:href=\"#m30d1b98e1d\" y=\"101.376\"/>\n      </g>\n     </g>\n     <g id=\"text_13\">\n      <!-- 0.8 -->\n      <g style=\"fill:#262626;\" transform=\"translate(475.404 105.175219)scale(0.1 -0.1)\">\n       <defs>\n        <path d=\"M 2034 2216 \nQ 1584 2216 1326 1975 \nQ 1069 1734 1069 1313 \nQ 1069 891 1326 650 \nQ 1584 409 2034 409 \nQ 2484 409 2743 651 \nQ 3003 894 3003 1313 \nQ 3003 1734 2745 1975 \nQ 2488 2216 2034 2216 \nz\nM 1403 2484 \nQ 997 2584 770 2862 \nQ 544 3141 544 3541 \nQ 544 4100 942 4425 \nQ 1341 4750 2034 4750 \nQ 2731 4750 3128 4425 \nQ 3525 4100 3525 3541 \nQ 3525 3141 3298 2862 \nQ 3072 2584 2669 2484 \nQ 3125 2378 3379 2068 \nQ 3634 1759 3634 1313 \nQ 3634 634 3220 271 \nQ 2806 -91 2034 -91 \nQ 1263 -91 848 271 \nQ 434 634 434 1313 \nQ 434 1759 690 2068 \nQ 947 2378 1403 2484 \nz\nM 1172 3481 \nQ 1172 3119 1398 2916 \nQ 1625 2713 2034 2713 \nQ 2441 2713 2670 2916 \nQ 2900 3119 2900 3481 \nQ 2900 3844 2670 4047 \nQ 2441 4250 2034 4250 \nQ 1625 4250 1398 4047 \nQ 1172 3844 1172 3481 \nz\n\" id=\"DejaVuSans-38\" transform=\"scale(0.015625)\"/>\n       </defs>\n       <use xlink:href=\"#DejaVuSans-30\"/>\n       <use x=\"63.623047\" xlink:href=\"#DejaVuSans-2e\"/>\n       <use x=\"95.410156\" xlink:href=\"#DejaVuSans-38\"/>\n      </g>\n     </g>\n    </g>\n    <g id=\"ytick_10\">\n     <g id=\"line2d_6\">\n      <g>\n       <use style=\"fill:#262626;stroke:#262626;\" x=\"464.904\" xlink:href=\"#m30d1b98e1d\" y=\"47.52\"/>\n      </g>\n     </g>\n     <g id=\"text_14\">\n      <!-- 1.0 -->\n      <g style=\"fill:#262626;\" transform=\"translate(475.404 51.319219)scale(0.1 -0.1)\">\n       <use xlink:href=\"#DejaVuSans-31\"/>\n       <use x=\"63.623047\" xlink:href=\"#DejaVuSans-2e\"/>\n       <use x=\"95.410156\" xlink:href=\"#DejaVuSans-30\"/>\n      </g>\n     </g>\n    </g>\n   </g>\n   <image height=\"269\" id=\"imagef04b6900d4\" transform=\"scale(1 -1)translate(0 -269)\" width=\"14\" x=\"451\" xlink:href=\"data:image/png;base64,\niVBORw0KGgoAAAANSUhEUgAAAA4AAAENCAYAAAA/q1TLAAABUElEQVR4nO2ZQRKDMAwD3U7+/9xyg74ADuupVIG5a6TYiuKQ12fbjgLfKgSrWhBX64CU64CUbwZrABvFkbejYQDaR0ZoMEBQHxtrhFo7CQCBjrCiQCq14CKfYPIkA1TOtppcvQDS/WiQKt9WWQaQ56reAPpZjjLuDNcZV+Tt2HOk4qrK+5i1H2lVc6Q2dgcEGi4sOOVypBqOgBiphst1I1cpcAzwCyCVmnQEPGIIlPcxKKxyzkf9TN5g1Fvu/oxRBkhh5JnzgOJwxiCpwziMFMgYk+acKMYY5+iHQMM/qxxG/uIpv5VTqZafz7Cq/K18nHMONDzrU8YxwCUwJwHkUsc5V0BDIGPgRMcPGHNeH+TFMVzKDF5lhK12qIENqexVx8EIr3OWNQZJFTN2Muf2xeGMjeh4AGNSdMQwJhkAMloGJH1xxqunwNpTvDqMf8X4BYKOEr/hMVIrAAAAAElFTkSuQmCC\" y=\"-48\"/>\n   <g id=\"LineCollection_1\"/>\n   <g id=\"patch_9\">\n    <path d=\"M 451.44 316.8 \nL 451.44 315.748125 \nL 451.44 48.571875 \nL 451.44 47.52 \nL 464.904 47.52 \nL 464.904 48.571875 \nL 464.904 315.748125 \nL 464.904 316.8 \nz\n\" style=\"fill:none;\"/>\n   </g>\n  </g>\n </g>\n <defs>\n  <clipPath id=\"p39f3c9b6de\">\n   <rect height=\"269.28\" width=\"269.28\" x=\"159.84\" y=\"47.52\"/>\n  </clipPath>\n  <clipPath id=\"p3334fa5e47\">\n   <rect height=\"269.28\" width=\"13.464\" x=\"451.44\" y=\"47.52\"/>\n  </clipPath>\n </defs>\n</svg>\n"
      }
     },
     "d6d9d58ea88a46a69b24538c3023250b": {
      "model_module": "@jupyter-widgets/controls",
      "model_module_version": "1.5.0",
      "model_name": "DescriptionStyleModel",
      "state": {
       "description_width": ""
      }
     },
     "d6da9b6236544c1fa452f58945c0418f": {
      "model_module": "@jupyter-widgets/controls",
      "model_module_version": "1.5.0",
      "model_name": "HTMLModel",
      "state": {
       "layout": "IPY_MODEL_a4f509e34a1c416b909f800eec1fef2d",
       "style": "IPY_MODEL_9121134e95f34645b1f8f75967cd38dd",
       "value": "<?xml version=\"1.0\" encoding=\"utf-8\" standalone=\"no\"?>\n<!DOCTYPE svg style=\"max-width: 100%\" PUBLIC \"-//W3C//DTD SVG 1.1//EN\"\n  \"http://www.w3.org/Graphics/SVG/1.1/DTD/svg11.dtd\">\n<svg style=\"max-width: 100%\"  version=\"1.1\" viewBox=\"0 0 1800 720\" width=\"1800pt\" xmlns=\"http://www.w3.org/2000/svg\" xmlns:xlink=\"http://www.w3.org/1999/xlink\">\n <metadata>\n  <rdf:RDF xmlns:cc=\"http://creativecommons.org/ns#\" xmlns:dc=\"http://purl.org/dc/elements/1.1/\" xmlns:rdf=\"http://www.w3.org/1999/02/22-rdf-syntax-ns#\">\n   <cc:Work>\n    <dc:type rdf:resource=\"http://purl.org/dc/dcmitype/StillImage\"/>\n    <dc:date>2022-10-01T17:17:58.032044</dc:date>\n    <dc:format>image/svg+xml</dc:format>\n    <dc:creator>\n     <cc:Agent>\n      <dc:title>Matplotlib v3.4.3, https://matplotlib.org/</dc:title>\n     </cc:Agent>\n    </dc:creator>\n   </cc:Work>\n  </rdf:RDF>\n </metadata>\n <defs>\n  <style type=\"text/css\">*{stroke-linecap:butt;stroke-linejoin:round;}</style>\n </defs>\n <g id=\"figure_1\">\n  <g id=\"patch_1\">\n   <path d=\"M 0 720 \nL 1800 720 \nL 1800 0 \nL 0 0 \nz\n\" style=\"fill:#ffffff;\"/>\n  </g>\n  <g id=\"axes_1\">\n   <g id=\"matplotlib.axis_1\">\n    <g id=\"xtick_1\">\n     <g id=\"text_1\">\n      <!-- 1 -->\n      <g style=\"fill:#262626;\" transform=\"translate(373.969557 201.676541)rotate(-45)scale(0.26 -0.26)\">\n       <defs>\n        <path d=\"M 794 531 \nL 1825 531 \nL 1825 4091 \nL 703 3866 \nL 703 4441 \nL 1819 4666 \nL 2450 4666 \nL 2450 531 \nL 3481 531 \nL 3481 0 \nL 794 0 \nL 794 531 \nz\n\" id=\"DejaVuSans-31\" transform=\"scale(0.015625)\"/>\n       </defs>\n       <use xlink:href=\"#DejaVuSans-31\"/>\n      </g>\n     </g>\n    </g>\n    <g id=\"xtick_2\">\n     <g id=\"text_2\">\n      <!-- 0 -->\n      <g style=\"fill:#262626;\" transform=\"translate(733.969557 201.676541)rotate(-45)scale(0.26 -0.26)\">\n       <defs>\n        <path d=\"M 2034 4250 \nQ 1547 4250 1301 3770 \nQ 1056 3291 1056 2328 \nQ 1056 1369 1301 889 \nQ 1547 409 2034 409 \nQ 2525 409 2770 889 \nQ 3016 1369 3016 2328 \nQ 3016 3291 2770 3770 \nQ 2525 4250 2034 4250 \nz\nM 2034 4750 \nQ 2819 4750 3233 4129 \nQ 3647 3509 3647 2328 \nQ 3647 1150 3233 529 \nQ 2819 -91 2034 -91 \nQ 1250 -91 836 529 \nQ 422 1150 422 2328 \nQ 422 3509 836 4129 \nQ 1250 4750 2034 4750 \nz\n\" id=\"DejaVuSans-30\" transform=\"scale(0.015625)\"/>\n       </defs>\n       <use xlink:href=\"#DejaVuSans-30\"/>\n      </g>\n     </g>\n    </g>\n    <g id=\"xtick_3\">\n     <g id=\"text_3\">\n      <!-- 2 -->\n      <g style=\"fill:#262626;\" transform=\"translate(1093.969557 201.676541)rotate(-45)scale(0.26 -0.26)\">\n       <defs>\n        <path d=\"M 1228 531 \nL 3431 531 \nL 3431 0 \nL 469 0 \nL 469 531 \nQ 828 903 1448 1529 \nQ 2069 2156 2228 2338 \nQ 2531 2678 2651 2914 \nQ 2772 3150 2772 3378 \nQ 2772 3750 2511 3984 \nQ 2250 4219 1831 4219 \nQ 1534 4219 1204 4116 \nQ 875 4013 500 3803 \nL 500 4441 \nQ 881 4594 1212 4672 \nQ 1544 4750 1819 4750 \nQ 2544 4750 2975 4387 \nQ 3406 4025 3406 3419 \nQ 3406 3131 3298 2873 \nQ 3191 2616 2906 2266 \nQ 2828 2175 2409 1742 \nQ 1991 1309 1228 531 \nz\n\" id=\"DejaVuSans-32\" transform=\"scale(0.015625)\"/>\n       </defs>\n       <use xlink:href=\"#DejaVuSans-32\"/>\n      </g>\n     </g>\n    </g>\n    <g id=\"xtick_4\">\n     <g id=\"text_4\">\n      <!-- df_index -->\n      <g style=\"fill:#262626;\" transform=\"translate(1453.969557 201.165214)rotate(-45)scale(0.26 -0.26)\">\n       <defs>\n        <path d=\"M 2906 2969 \nL 2906 4863 \nL 3481 4863 \nL 3481 0 \nL 2906 0 \nL 2906 525 \nQ 2725 213 2448 61 \nQ 2172 -91 1784 -91 \nQ 1150 -91 751 415 \nQ 353 922 353 1747 \nQ 353 2572 751 3078 \nQ 1150 3584 1784 3584 \nQ 2172 3584 2448 3432 \nQ 2725 3281 2906 2969 \nz\nM 947 1747 \nQ 947 1113 1208 752 \nQ 1469 391 1925 391 \nQ 2381 391 2643 752 \nQ 2906 1113 2906 1747 \nQ 2906 2381 2643 2742 \nQ 2381 3103 1925 3103 \nQ 1469 3103 1208 2742 \nQ 947 2381 947 1747 \nz\n\" id=\"DejaVuSans-64\" transform=\"scale(0.015625)\"/>\n        <path d=\"M 2375 4863 \nL 2375 4384 \nL 1825 4384 \nQ 1516 4384 1395 4259 \nQ 1275 4134 1275 3809 \nL 1275 3500 \nL 2222 3500 \nL 2222 3053 \nL 1275 3053 \nL 1275 0 \nL 697 0 \nL 697 3053 \nL 147 3053 \nL 147 3500 \nL 697 3500 \nL 697 3744 \nQ 697 4328 969 4595 \nQ 1241 4863 1831 4863 \nL 2375 4863 \nz\n\" id=\"DejaVuSans-66\" transform=\"scale(0.015625)\"/>\n        <path d=\"M 3263 -1063 \nL 3263 -1509 \nL -63 -1509 \nL -63 -1063 \nL 3263 -1063 \nz\n\" id=\"DejaVuSans-5f\" transform=\"scale(0.015625)\"/>\n        <path d=\"M 603 3500 \nL 1178 3500 \nL 1178 0 \nL 603 0 \nL 603 3500 \nz\nM 603 4863 \nL 1178 4863 \nL 1178 4134 \nL 603 4134 \nL 603 4863 \nz\n\" id=\"DejaVuSans-69\" transform=\"scale(0.015625)\"/>\n        <path d=\"M 3513 2113 \nL 3513 0 \nL 2938 0 \nL 2938 2094 \nQ 2938 2591 2744 2837 \nQ 2550 3084 2163 3084 \nQ 1697 3084 1428 2787 \nQ 1159 2491 1159 1978 \nL 1159 0 \nL 581 0 \nL 581 3500 \nL 1159 3500 \nL 1159 2956 \nQ 1366 3272 1645 3428 \nQ 1925 3584 2291 3584 \nQ 2894 3584 3203 3211 \nQ 3513 2838 3513 2113 \nz\n\" id=\"DejaVuSans-6e\" transform=\"scale(0.015625)\"/>\n        <path d=\"M 3597 1894 \nL 3597 1613 \nL 953 1613 \nQ 991 1019 1311 708 \nQ 1631 397 2203 397 \nQ 2534 397 2845 478 \nQ 3156 559 3463 722 \nL 3463 178 \nQ 3153 47 2828 -22 \nQ 2503 -91 2169 -91 \nQ 1331 -91 842 396 \nQ 353 884 353 1716 \nQ 353 2575 817 3079 \nQ 1281 3584 2069 3584 \nQ 2775 3584 3186 3129 \nQ 3597 2675 3597 1894 \nz\nM 3022 2063 \nQ 3016 2534 2758 2815 \nQ 2500 3097 2075 3097 \nQ 1594 3097 1305 2825 \nQ 1016 2553 972 2059 \nL 3022 2063 \nz\n\" id=\"DejaVuSans-65\" transform=\"scale(0.015625)\"/>\n        <path d=\"M 3513 3500 \nL 2247 1797 \nL 3578 0 \nL 2900 0 \nL 1881 1375 \nL 863 0 \nL 184 0 \nL 1544 1831 \nL 300 3500 \nL 978 3500 \nL 1906 2253 \nL 2834 3500 \nL 3513 3500 \nz\n\" id=\"DejaVuSans-78\" transform=\"scale(0.015625)\"/>\n       </defs>\n       <use xlink:href=\"#DejaVuSans-64\"/>\n       <use x=\"63.476562\" xlink:href=\"#DejaVuSans-66\"/>\n       <use x=\"98.681641\" xlink:href=\"#DejaVuSans-5f\"/>\n       <use x=\"148.681641\" xlink:href=\"#DejaVuSans-69\"/>\n       <use x=\"176.464844\" xlink:href=\"#DejaVuSans-6e\"/>\n       <use x=\"239.84375\" xlink:href=\"#DejaVuSans-64\"/>\n       <use x=\"303.320312\" xlink:href=\"#DejaVuSans-65\"/>\n       <use x=\"363.09375\" xlink:href=\"#DejaVuSans-78\"/>\n      </g>\n     </g>\n    </g>\n   </g>\n   <g id=\"matplotlib.axis_2\">\n    <g id=\"ytick_1\">\n     <g id=\"text_5\">\n      <!-- 0.00 -->\n      <g style=\"fill:#262626;\" transform=\"translate(98.25 228.1575)scale(0.32 -0.32)\">\n       <defs>\n        <path d=\"M 684 794 \nL 1344 794 \nL 1344 0 \nL 684 0 \nL 684 794 \nz\n\" id=\"DejaVuSans-2e\" transform=\"scale(0.015625)\"/>\n       </defs>\n       <use xlink:href=\"#DejaVuSans-30\"/>\n       <use x=\"63.623047\" xlink:href=\"#DejaVuSans-2e\"/>\n       <use x=\"95.410156\" xlink:href=\"#DejaVuSans-30\"/>\n       <use x=\"159.033203\" xlink:href=\"#DejaVuSans-30\"/>\n      </g>\n     </g>\n    </g>\n    <g id=\"ytick_2\">\n     <g id=\"text_6\">\n      <!-- 0.25 -->\n      <g style=\"fill:#262626;\" transform=\"translate(98.25 313.871786)scale(0.32 -0.32)\">\n       <defs>\n        <path d=\"M 691 4666 \nL 3169 4666 \nL 3169 4134 \nL 1269 4134 \nL 1269 2991 \nQ 1406 3038 1543 3061 \nQ 1681 3084 1819 3084 \nQ 2600 3084 3056 2656 \nQ 3513 2228 3513 1497 \nQ 3513 744 3044 326 \nQ 2575 -91 1722 -91 \nQ 1428 -91 1123 -41 \nQ 819 9 494 109 \nL 494 744 \nQ 775 591 1075 516 \nQ 1375 441 1709 441 \nQ 2250 441 2565 725 \nQ 2881 1009 2881 1497 \nQ 2881 1984 2565 2268 \nQ 2250 2553 1709 2553 \nQ 1456 2553 1204 2497 \nQ 953 2441 691 2322 \nL 691 4666 \nz\n\" id=\"DejaVuSans-35\" transform=\"scale(0.015625)\"/>\n       </defs>\n       <use xlink:href=\"#DejaVuSans-30\"/>\n       <use x=\"63.623047\" xlink:href=\"#DejaVuSans-2e\"/>\n       <use x=\"95.410156\" xlink:href=\"#DejaVuSans-32\"/>\n       <use x=\"159.033203\" xlink:href=\"#DejaVuSans-35\"/>\n      </g>\n     </g>\n    </g>\n    <g id=\"ytick_3\">\n     <g id=\"text_7\">\n      <!-- 0.50 -->\n      <g style=\"fill:#262626;\" transform=\"translate(98.25 399.586071)scale(0.32 -0.32)\">\n       <use xlink:href=\"#DejaVuSans-30\"/>\n       <use x=\"63.623047\" xlink:href=\"#DejaVuSans-2e\"/>\n       <use x=\"95.410156\" xlink:href=\"#DejaVuSans-35\"/>\n       <use x=\"159.033203\" xlink:href=\"#DejaVuSans-30\"/>\n      </g>\n     </g>\n    </g>\n    <g id=\"ytick_4\">\n     <g id=\"text_8\">\n      <!-- 0.75 -->\n      <g style=\"fill:#262626;\" transform=\"translate(98.25 485.300357)scale(0.32 -0.32)\">\n       <defs>\n        <path d=\"M 525 4666 \nL 3525 4666 \nL 3525 4397 \nL 1831 0 \nL 1172 0 \nL 2766 4134 \nL 525 4134 \nL 525 4666 \nz\n\" id=\"DejaVuSans-37\" transform=\"scale(0.015625)\"/>\n       </defs>\n       <use xlink:href=\"#DejaVuSans-30\"/>\n       <use x=\"63.623047\" xlink:href=\"#DejaVuSans-2e\"/>\n       <use x=\"95.410156\" xlink:href=\"#DejaVuSans-37\"/>\n       <use x=\"159.033203\" xlink:href=\"#DejaVuSans-35\"/>\n      </g>\n     </g>\n    </g>\n    <g id=\"ytick_5\">\n     <g id=\"text_9\">\n      <!-- 1.00 -->\n      <g style=\"fill:#262626;\" transform=\"translate(98.25 571.014643)scale(0.32 -0.32)\">\n       <use xlink:href=\"#DejaVuSans-31\"/>\n       <use x=\"63.623047\" xlink:href=\"#DejaVuSans-2e\"/>\n       <use x=\"95.410156\" xlink:href=\"#DejaVuSans-30\"/>\n       <use x=\"159.033203\" xlink:href=\"#DejaVuSans-30\"/>\n      </g>\n     </g>\n    </g>\n   </g>\n   <g id=\"LineCollection_1\">\n    <path clip-path=\"url(#pac67fda547)\" d=\"M 360 216 \nL 360 216 \nL 720 216 \nL 720 216 \n\" style=\"fill:none;stroke:#000000;stroke-width:1.75;\"/>\n    <path clip-path=\"url(#pac67fda547)\" d=\"M 540 216 \nL 540 216 \nL 1080 216 \nL 1080 216 \n\" style=\"fill:none;stroke:#000000;stroke-width:1.75;\"/>\n    <path clip-path=\"url(#pac67fda547)\" d=\"M 810 216 \nL 810 558.857143 \nL 1440 558.857143 \nL 1440 216 \n\" style=\"fill:none;stroke:#000000;stroke-width:1.75;\"/>\n   </g>\n  </g>\n </g>\n <defs>\n  <clipPath id=\"pac67fda547\">\n   <rect height=\"360\" width=\"1440\" x=\"180\" y=\"216\"/>\n  </clipPath>\n </defs>\n</svg>\n"
      }
     },
     "d719f6a4d5a245e69c1a64a40b2c50d9": {
      "model_module": "@jupyter-widgets/base",
      "model_module_version": "1.2.0",
      "model_name": "LayoutModel",
      "state": {
       "grid_area": "widget009"
      }
     },
     "d7362e58bdbf423587252f82c6bbe7e4": {
      "model_module": "@jupyter-widgets/controls",
      "model_module_version": "1.5.0",
      "model_name": "TabModel",
      "state": {
       "_titles": {
        "0": "Minimum 10 values",
        "1": "Maximum 10 values"
       },
       "children": [
        "IPY_MODEL_8f1d9119f9a34c60a82855bc82c472e0",
        "IPY_MODEL_b3b8f3eebf664515b0868ddbb88fd495"
       ],
       "layout": "IPY_MODEL_8ddaaf67e8734d3da906f1dc41ff9f2d"
      }
     },
     "d757d30223be471fabc531dc80bee750": {
      "model_module": "@jupyter-widgets/base",
      "model_module_version": "1.2.0",
      "model_name": "LayoutModel",
      "state": {
       "grid_area": "widget005"
      }
     },
     "d77cc783cbae467bbebd502df4ac7295": {
      "model_module": "@jupyter-widgets/base",
      "model_module_version": "1.2.0",
      "model_name": "LayoutModel",
      "state": {
       "grid_area": "widget003"
      }
     },
     "d7a812e84c0f4136b0cdf1e0475fef7a": {
      "model_module": "@jupyter-widgets/controls",
      "model_module_version": "1.5.0",
      "model_name": "DescriptionStyleModel",
      "state": {
       "description_width": ""
      }
     },
     "d7dde6cd2ec44252b5a7375109e0f80a": {
      "model_module": "@jupyter-widgets/controls",
      "model_module_version": "1.5.0",
      "model_name": "HTMLModel",
      "state": {
       "layout": "IPY_MODEL_5b24a34beae242e4a9418b911b10e83d",
       "style": "IPY_MODEL_f032e8d4abd848e58c8e9c132aaf6d28",
       "value": "5.325602866"
      }
     },
     "d81bad86c165445dae772df6e4b4fde5": {
      "model_module": "@jupyter-widgets/base",
      "model_module_version": "1.2.0",
      "model_name": "LayoutModel",
      "state": {
       "grid_area": "widget014"
      }
     },
     "d8654359d1cd476d8184c1cfe7d530e4": {
      "model_module": "@jupyter-widgets/controls",
      "model_module_version": "1.5.0",
      "model_name": "LabelModel",
      "state": {
       "layout": "IPY_MODEL_a64260553f9248fa94e8df795df52c5b",
       "style": "IPY_MODEL_84a4484ef4a64884b61ae64a1c341634",
       "value": "1"
      }
     },
     "d8677f42ba3a4efc9697087ca319c316": {
      "model_module": "@jupyter-widgets/controls",
      "model_module_version": "1.5.0",
      "model_name": "ProgressStyleModel",
      "state": {
       "description_width": ""
      }
     },
     "d8d6cefb92354eb787966a023f13fd22": {
      "model_module": "@jupyter-widgets/controls",
      "model_module_version": "1.5.0",
      "model_name": "LabelModel",
      "state": {
       "layout": "IPY_MODEL_adea26f73682477f8330a4aa8b0ec8a8",
       "style": "IPY_MODEL_e614c182f03648bfb500bb5e9ab5de99",
       "value": "1"
      }
     },
     "d8fe5380ad524c4faeecfa4d2f2d4553": {
      "model_module": "@jupyter-widgets/controls",
      "model_module_version": "1.5.0",
      "model_name": "HTMLModel",
      "state": {
       "layout": "IPY_MODEL_551e3f575ed94ef0af48e4af96dbd2b8",
       "style": "IPY_MODEL_127c89b8f64c4ee8b1795d0ef520ead3",
       "value": "-1.286439725"
      }
     },
     "d92b0d04974c46bcb78720ab5ae47abb": {
      "model_module": "@jupyter-widgets/controls",
      "model_module_version": "1.5.0",
      "model_name": "VBoxModel",
      "state": {
       "children": [
        "IPY_MODEL_5c68d42aad894e6ea9fd8359b92fce3e"
       ],
       "layout": "IPY_MODEL_0a5cf96067b74c9bb4e29b68a2f151d7"
      }
     },
     "d9429900583442608483ab543f997482": {
      "model_module": "@jupyter-widgets/controls",
      "model_module_version": "1.5.0",
      "model_name": "DescriptionStyleModel",
      "state": {
       "description_width": ""
      }
     },
     "d9698e291a78406c8e708972d0c92853": {
      "model_module": "@jupyter-widgets/base",
      "model_module_version": "1.2.0",
      "model_name": "LayoutModel",
      "state": {
       "grid_area": "widget008"
      }
     },
     "da7be3fdf3d841baa8f469474ecaf689": {
      "model_module": "@jupyter-widgets/controls",
      "model_module_version": "1.5.0",
      "model_name": "HTMLModel",
      "state": {
       "layout": "IPY_MODEL_319a8a0c2e774c58958323628c5d41de",
       "style": "IPY_MODEL_8386ddde250e4d808eec17de60dc38d2",
       "value": "0.5719107859"
      }
     },
     "da8727428a1c4cfdb4ef7e99893b7c31": {
      "model_module": "@jupyter-widgets/base",
      "model_module_version": "1.2.0",
      "model_name": "LayoutModel",
      "state": {
       "grid_area": "widget017"
      }
     },
     "dac4cb8ee8fd4707922c8af326a7e5a0": {
      "model_module": "@jupyter-widgets/controls",
      "model_module_version": "1.5.0",
      "model_name": "FloatProgressModel",
      "state": {
       "layout": "IPY_MODEL_66c95f244c394280899886de838d3792",
       "max": 7,
       "style": "IPY_MODEL_e3faace128774d90906209ae4f49fa98",
       "value": 1
      }
     },
     "dae4b05caf114180b6bcfe6f9ea1b2c5": {
      "model_module": "@jupyter-widgets/controls",
      "model_module_version": "1.5.0",
      "model_name": "HTMLModel",
      "state": {
       "layout": "IPY_MODEL_923df79acddf46b3ab0bfa8bab3ca24f",
       "style": "IPY_MODEL_a4b1a48730cc44ee840d78be77ce4912",
       "value": "0.5834880017"
      }
     },
     "db06aa6159b246a2945bb27d1c282e8d": {
      "model_module": "@jupyter-widgets/base",
      "model_module_version": "1.2.0",
      "model_name": "LayoutModel",
      "state": {
       "grid_area": "widget006"
      }
     },
     "db1f21b4c09741c8821b61b51844b86e": {
      "model_module": "@jupyter-widgets/controls",
      "model_module_version": "1.5.0",
      "model_name": "HTMLModel",
      "state": {
       "layout": "IPY_MODEL_56f950e5ad0a461b810ec0a03e0a21f7",
       "style": "IPY_MODEL_ee569ccf158f4360b5b4e8b3ed40cd47",
       "value": "Mean"
      }
     },
     "db56ed2987c7414ea996e2abd22eb6a2": {
      "model_module": "@jupyter-widgets/controls",
      "model_module_version": "1.5.0",
      "model_name": "DescriptionStyleModel",
      "state": {
       "description_width": ""
      }
     },
     "db795c014919403a99a9b4d947ad0d0b": {
      "model_module": "@jupyter-widgets/base",
      "model_module_version": "1.2.0",
      "model_name": "LayoutModel",
      "state": {}
     },
     "dba33f78a695404586587d60b0d36837": {
      "model_module": "@jupyter-widgets/controls",
      "model_module_version": "1.5.0",
      "model_name": "LabelModel",
      "state": {
       "layout": "IPY_MODEL_177fd69bb5434743ae68b26c6634d56a",
       "style": "IPY_MODEL_b43ee16820aa4a5481120daef12800c8",
       "value": "0.5127750981056414"
      }
     },
     "dc1db9d0498643468229fad3b907dff2": {
      "model_module": "@jupyter-widgets/controls",
      "model_module_version": "1.5.0",
      "model_name": "DescriptionStyleModel",
      "state": {
       "description_width": ""
      }
     },
     "dc270e9b1dd34799af3ed61f8c32067e": {
      "model_module": "@jupyter-widgets/controls",
      "model_module_version": "1.5.0",
      "model_name": "LabelModel",
      "state": {
       "layout": "IPY_MODEL_5a671f128642474590b59b76f781265b",
       "style": "IPY_MODEL_63e24d72b5a34631b7899b3514fa362f",
       "value": "1.260343272538416"
      }
     },
     "dc4e348864754eb8b9e86658a0d35208": {
      "model_module": "@jupyter-widgets/controls",
      "model_module_version": "1.5.0",
      "model_name": "HTMLModel",
      "state": {
       "layout": "IPY_MODEL_6d21dcfdb94e4e24bf48fe32786bd39e",
       "style": "IPY_MODEL_1ecad595557f46cca909f9e09516a044",
       "value": "0.4920694472"
      }
     },
     "dc5cc919259d40d3b2e735b590f67dee": {
      "model_module": "@jupyter-widgets/controls",
      "model_module_version": "1.5.0",
      "model_name": "LabelModel",
      "state": {
       "layout": "IPY_MODEL_ae6262d83e16424a8df94d5ce168fd85",
       "style": "IPY_MODEL_a7e7fc77b102421dbd1723ec1811e78d",
       "value": "1"
      }
     },
     "dc643faa07744432835c8f52cbbffa68": {
      "model_module": "@jupyter-widgets/base",
      "model_module_version": "1.2.0",
      "model_name": "LayoutModel",
      "state": {
       "grid_area": "widget007"
      }
     },
     "dc82846508cb43e38c49873e85d80cbc": {
      "model_module": "@jupyter-widgets/controls",
      "model_module_version": "1.5.0",
      "model_name": "DescriptionStyleModel",
      "state": {
       "description_width": ""
      }
     },
     "dcaabb8f2b0d4f1abaa6eafb44510f53": {
      "model_module": "@jupyter-widgets/base",
      "model_module_version": "1.2.0",
      "model_name": "LayoutModel",
      "state": {
       "grid_area": "widget009"
      }
     },
     "dcb6da39c0d54798a1e75c0e4b353403": {
      "model_module": "@jupyter-widgets/base",
      "model_module_version": "1.2.0",
      "model_name": "LayoutModel",
      "state": {}
     },
     "dcdeb84b0b8d4ecda16a647dc1158dc3": {
      "model_module": "@jupyter-widgets/controls",
      "model_module_version": "1.5.0",
      "model_name": "TabModel",
      "state": {
       "_titles": {
        "0": "0",
        "1": "1",
        "2": "2"
       },
       "children": [
        "IPY_MODEL_70e3800db05549b2a69fc12613cc9ee8",
        "IPY_MODEL_1e542887a03a4b21b2dd89bcf5217b67",
        "IPY_MODEL_bc0d77507d774678aa976b0b014b6b55"
       ],
       "layout": "IPY_MODEL_4f0d36ede1aa44178f7107bf8b62533b"
      }
     },
     "dcf5e61f6ad641bab4440f2b4b1e858a": {
      "model_module": "@jupyter-widgets/base",
      "model_module_version": "1.2.0",
      "model_name": "LayoutModel",
      "state": {
       "grid_area": "widget019"
      }
     },
     "dd026e20a12841c0a868442fd88cda0a": {
      "model_module": "@jupyter-widgets/controls",
      "model_module_version": "1.5.0",
      "model_name": "VBoxModel",
      "state": {
       "children": [
        "IPY_MODEL_1a6c9511efd94b81be1e859f491ed784"
       ],
       "layout": "IPY_MODEL_cfe6f2f755ff42e1ade0a9bb392af5e3"
      }
     },
     "dd242971ec984287ae1b9f7956bb974e": {
      "model_module": "@jupyter-widgets/controls",
      "model_module_version": "1.5.0",
      "model_name": "DescriptionStyleModel",
      "state": {
       "description_width": ""
      }
     },
     "dd369a736a144b5a846791a1af97f3de": {
      "model_module": "@jupyter-widgets/controls",
      "model_module_version": "1.5.0",
      "model_name": "DescriptionStyleModel",
      "state": {
       "description_width": ""
      }
     },
     "dd46bf2a77cb48bf8260bfabdc0bb6c0": {
      "model_module": "@jupyter-widgets/controls",
      "model_module_version": "1.5.0",
      "model_name": "FloatProgressModel",
      "state": {
       "layout": "IPY_MODEL_79964b61cfe940dca371079c1cfd9e0a",
       "max": 7,
       "style": "IPY_MODEL_6a8ab8d8b3144cbab63fe1071f83ea98",
       "value": 1
      }
     },
     "dd4d9d53c47643238efed7ed04cf33a3": {
      "model_module": "@jupyter-widgets/controls",
      "model_module_version": "1.5.0",
      "model_name": "HTMLModel",
      "state": {
       "layout": "IPY_MODEL_94291130d4b34f7fa29b3b3b921e456d",
       "style": "IPY_MODEL_ae4cd1db5b344ce1b07c99020a6f307e",
       "value": "1.33925319"
      }
     },
     "dd66a4b55a504ba684019e493caabe6d": {
      "model_module": "@jupyter-widgets/controls",
      "model_module_version": "1.5.0",
      "model_name": "LabelModel",
      "state": {
       "layout": "IPY_MODEL_33162356eb954074b9510d6ff25fdab1",
       "style": "IPY_MODEL_6590a07a77e245bea6bf73cfaedff47c",
       "value": "0.26450258462504067"
      }
     },
     "ddc0b6068b9848cca7f5b6b17eb0ed75": {
      "model_module": "@jupyter-widgets/controls",
      "model_module_version": "1.5.0",
      "model_name": "DescriptionStyleModel",
      "state": {
       "description_width": ""
      }
     },
     "de0565870f874d91a3c140d0eead56f9": {
      "model_module": "@jupyter-widgets/base",
      "model_module_version": "1.2.0",
      "model_name": "LayoutModel",
      "state": {
       "grid_area": "widget002"
      }
     },
     "de1f20af9eb54a049fa4acc68bc25244": {
      "model_module": "@jupyter-widgets/base",
      "model_module_version": "1.2.0",
      "model_name": "LayoutModel",
      "state": {
       "grid_area": "widget006"
      }
     },
     "de45f299d6f741faa64fd8f213bbcaba": {
      "model_module": "@jupyter-widgets/base",
      "model_module_version": "1.2.0",
      "model_name": "LayoutModel",
      "state": {}
     },
     "dedd025e2675407aa3407cd6c9c5f7d8": {
      "model_module": "@jupyter-widgets/base",
      "model_module_version": "1.2.0",
      "model_name": "LayoutModel",
      "state": {
       "grid_area": "widget012"
      }
     },
     "df00280d675e4d71ad6fb2a1bee08fd1": {
      "model_module": "@jupyter-widgets/base",
      "model_module_version": "1.2.0",
      "model_name": "LayoutModel",
      "state": {
       "grid_area": "widget004"
      }
     },
     "df2f630649894ede941cb381cbd18926": {
      "model_module": "@jupyter-widgets/controls",
      "model_module_version": "1.5.0",
      "model_name": "DescriptionStyleModel",
      "state": {
       "description_width": ""
      }
     },
     "df48de39c5a247b9aed039519de66215": {
      "model_module": "@jupyter-widgets/controls",
      "model_module_version": "1.5.0",
      "model_name": "GridBoxModel",
      "state": {
       "children": [
        "IPY_MODEL_601fae2552ec419d88e9dde97f21f810",
        "IPY_MODEL_f648a01d02e540a8aa9f33615c5dab1f",
        "IPY_MODEL_e8780ba257954312b541064a0526c9cc",
        "IPY_MODEL_9a81738cba0d419a9d9d74e8ebacd11f",
        "IPY_MODEL_c0c17df8b8d14020af60cb46ee12da5b",
        "IPY_MODEL_77a5dca309e94e4ab80b3c76eb781421",
        "IPY_MODEL_2c34ba3b41344346b9f6676dbad635e7",
        "IPY_MODEL_411d7ba94d2341b48408c7579e758364",
        "IPY_MODEL_63d41d81966a408b933a0524b9b91c4f",
        "IPY_MODEL_abdf350851e44615b1e44af43b8a30fe",
        "IPY_MODEL_3f1f465190af4d2d8d38dfd372daab0c",
        "IPY_MODEL_e8c6aa8212af4f90aca13224a1ed9ea1",
        "IPY_MODEL_ecc4435ae05a4e34b6892f6732623900",
        "IPY_MODEL_7b3d6cc12a6c4429aaddcc593e130875",
        "IPY_MODEL_8f435cb795b14de482dfd740da5540c7",
        "IPY_MODEL_d5288892617d4cb0984619f370ad60a8"
       ],
       "layout": "IPY_MODEL_e5adc1bed8ec44fb8351e7beffc6e6e3"
      }
     },
     "df6b801bc1704c8ca5180b2940787761": {
      "model_module": "@jupyter-widgets/base",
      "model_module_version": "1.2.0",
      "model_name": "LayoutModel",
      "state": {
       "grid_area": "widget008"
      }
     },
     "dfac57d891454c8fa655c43146abc3d6": {
      "model_module": "@jupyter-widgets/base",
      "model_module_version": "1.2.0",
      "model_name": "LayoutModel",
      "state": {
       "grid_area": "widget015"
      }
     },
     "dfb39c03526e401ab25fc8e38affa53e": {
      "model_module": "@jupyter-widgets/controls",
      "model_module_version": "1.5.0",
      "model_name": "LabelModel",
      "state": {
       "layout": "IPY_MODEL_3e2b166629d248d78deb3cedcb5865a1",
       "style": "IPY_MODEL_20a6a9828fe84464aa0d20d570fd603d",
       "value": "0.9756665285884356"
      }
     },
     "e022b9cfdae5483dbeef0828358c6874": {
      "model_module": "@jupyter-widgets/controls",
      "model_module_version": "1.5.0",
      "model_name": "DescriptionStyleModel",
      "state": {
       "description_width": ""
      }
     },
     "e040728c7bc049f1b8cffd2915069f5e": {
      "model_module": "@jupyter-widgets/controls",
      "model_module_version": "1.5.0",
      "model_name": "HTMLModel",
      "state": {
       "layout": "IPY_MODEL_4166b96ba9e945dd9470dae95f863265",
       "style": "IPY_MODEL_01a87389d4784d2f8a784ad6a3ce6a01",
       "value": "Missing"
      }
     },
     "e088db41e07b4456a9ec112eb17cd8a7": {
      "model_module": "@jupyter-widgets/base",
      "model_module_version": "1.2.0",
      "model_name": "LayoutModel",
      "state": {
       "grid_area": "widget009"
      }
     },
     "e09c1126fd954b948dcc9415fe6d37e8": {
      "model_module": "@jupyter-widgets/controls",
      "model_module_version": "1.5.0",
      "model_name": "HTMLModel",
      "state": {
       "layout": "IPY_MODEL_5cfdab20786a4980b7be58443a72e910",
       "style": "IPY_MODEL_3068b88177f345a4812dee43146f88d1",
       "value": "<span style=\"color:var(--jp-error-color1)\">Missing</span>"
      }
     },
     "e0a5b7b578cc48b6ae7d69527280e7a6": {
      "model_module": "@jupyter-widgets/base",
      "model_module_version": "1.2.0",
      "model_name": "LayoutModel",
      "state": {
       "grid_area": "widget008"
      }
     },
     "e10c2733939f4b069ad4590f647d3797": {
      "model_module": "@jupyter-widgets/controls",
      "model_module_version": "1.5.0",
      "model_name": "DescriptionStyleModel",
      "state": {
       "description_width": ""
      }
     },
     "e1167c7093474f57a330a94192cad2ce": {
      "model_module": "@jupyter-widgets/controls",
      "model_module_version": "1.5.0",
      "model_name": "GridBoxModel",
      "state": {
       "children": [
        "IPY_MODEL_c7c90eded90647279930c231cfbfa2b1",
        "IPY_MODEL_bce1ae92d56940c4867fc0627a5f87bb",
        "IPY_MODEL_5ce0a5c09e44401bbf3bba069a26db97",
        "IPY_MODEL_00d11a953bb84cf39abd5f97d2f9d0c1",
        "IPY_MODEL_5b2bf0e277e047c2ac0cc5b6c2fd1190",
        "IPY_MODEL_66052510f10c4011be1098f8ec53abbe",
        "IPY_MODEL_2b53c7ece1cc4ed8bd4d18d47020d68c",
        "IPY_MODEL_adf5fb423f064897bc10476cd3a8eff0",
        "IPY_MODEL_569f6527dee645da8a5fe1a7e20c2879",
        "IPY_MODEL_b2e8a006a01c4cf585fb31081a6650a2",
        "IPY_MODEL_f1528a4b205a4979ab21e24d5b1a7255",
        "IPY_MODEL_fca642b8c89a41abafa0973ff14ecedd",
        "IPY_MODEL_fe82793e3d4f4ec883c1ea121fa3a25a",
        "IPY_MODEL_0ba7c88c7ae34122959effca8d28085d"
       ],
       "layout": "IPY_MODEL_ead2c6ee16d4480bae95e3c32fb44350"
      }
     },
     "e11e309915324a948bcd52a457c769b2": {
      "model_module": "@jupyter-widgets/controls",
      "model_module_version": "1.5.0",
      "model_name": "ProgressStyleModel",
      "state": {
       "description_width": ""
      }
     },
     "e15909d348d54a11a0dbe2f0cbaf3552": {
      "model_module": "@jupyter-widgets/controls",
      "model_module_version": "1.5.0",
      "model_name": "HTMLModel",
      "state": {
       "layout": "IPY_MODEL_b7fa27c592a84c288cc9ca00a369378e",
       "style": "IPY_MODEL_f7c827663c9a45f6a0835466abdb1c3f",
       "value": "Maximum"
      }
     },
     "e172c956c14c45a8a3c536aba0eb14aa": {
      "model_module": "@jupyter-widgets/controls",
      "model_module_version": "1.5.0",
      "model_name": "HTMLModel",
      "state": {
       "layout": "IPY_MODEL_5cbef6e9324746259643509539e9628f",
       "style": "IPY_MODEL_0980b1db74e24c2bb1a67d3bb1b57a36",
       "value": "1"
      }
     },
     "e19b7e631b9348f1a740f43629c0f58c": {
      "model_module": "@jupyter-widgets/controls",
      "model_module_version": "1.5.0",
      "model_name": "DescriptionStyleModel",
      "state": {
       "description_width": ""
      }
     },
     "e21bffd9ca004ffaa6259ce8e6a4796b": {
      "model_module": "@jupyter-widgets/controls",
      "model_module_version": "1.5.0",
      "model_name": "DescriptionStyleModel",
      "state": {
       "description_width": ""
      }
     },
     "e23370b469c04f8c85bfd9b40cfcd7d1": {
      "model_module": "@jupyter-widgets/base",
      "model_module_version": "1.2.0",
      "model_name": "LayoutModel",
      "state": {
       "grid_area": "widget007"
      }
     },
     "e24ae12051154e9488c79dd085c222b2": {
      "model_module": "@jupyter-widgets/controls",
      "model_module_version": "1.5.0",
      "model_name": "DescriptionStyleModel",
      "state": {
       "description_width": ""
      }
     },
     "e25888b0c4994966b957f5be7a93c162": {
      "model_module": "@jupyter-widgets/base",
      "model_module_version": "1.2.0",
      "model_name": "LayoutModel",
      "state": {
       "grid_area": "widget002"
      }
     },
     "e26479db97bb41d792d45c5a16aeb53b": {
      "model_module": "@jupyter-widgets/controls",
      "model_module_version": "1.5.0",
      "model_name": "DescriptionStyleModel",
      "state": {
       "description_width": ""
      }
     },
     "e2693a95ce2443f689cded12497ac7cf": {
      "model_module": "@jupyter-widgets/base",
      "model_module_version": "1.2.0",
      "model_name": "LayoutModel",
      "state": {
       "grid_area": "widget010"
      }
     },
     "e278159ef5024a8383ab60609fc27290": {
      "model_module": "@jupyter-widgets/controls",
      "model_module_version": "1.5.0",
      "model_name": "DescriptionStyleModel",
      "state": {
       "description_width": ""
      }
     },
     "e27c9be6fe304348a00a77d17cc45320": {
      "model_module": "@jupyter-widgets/controls",
      "model_module_version": "1.5.0",
      "model_name": "FloatProgressModel",
      "state": {
       "layout": "IPY_MODEL_3195c2e251334b5ab65499e098f4c13e",
       "max": 7,
       "style": "IPY_MODEL_4e8b70a065a249b9a7d1d5553f228bdb",
       "value": 1
      }
     },
     "e29a6364015e4e7194a151ad8f70b928": {
      "model_module": "@jupyter-widgets/base",
      "model_module_version": "1.2.0",
      "model_name": "LayoutModel",
      "state": {
       "grid_area": "widget010"
      }
     },
     "e29dd4b3c18b44d082026eefc9cd6dff": {
      "model_module": "@jupyter-widgets/base",
      "model_module_version": "1.2.0",
      "model_name": "LayoutModel",
      "state": {}
     },
     "e2ba3fb9f43f4175a201b7c137912903": {
      "model_module": "@jupyter-widgets/base",
      "model_module_version": "1.2.0",
      "model_name": "LayoutModel",
      "state": {
       "grid_area": "widget002"
      }
     },
     "e2d24510654f4255abe3f68de8a7274d": {
      "model_module": "@jupyter-widgets/base",
      "model_module_version": "1.2.0",
      "model_name": "LayoutModel",
      "state": {
       "grid_area": "widget001"
      }
     },
     "e321f99bfec34279813e045e2e75534f": {
      "model_module": "@jupyter-widgets/base",
      "model_module_version": "1.2.0",
      "model_name": "LayoutModel",
      "state": {}
     },
     "e32511673cf5471fa597b61a26615079": {
      "model_module": "@jupyter-widgets/controls",
      "model_module_version": "1.5.0",
      "model_name": "DescriptionStyleModel",
      "state": {
       "description_width": ""
      }
     },
     "e35bd9f627504c2693249734d86cd911": {
      "model_module": "@jupyter-widgets/controls",
      "model_module_version": "1.5.0",
      "model_name": "LabelModel",
      "state": {
       "layout": "IPY_MODEL_b8138948961a47e3a80dab8a80961988",
       "style": "IPY_MODEL_928c409256284273a87924dbcbbee019",
       "value": "1"
      }
     },
     "e3960184de6d4736bb87f79e2eaad8bf": {
      "model_module": "@jupyter-widgets/controls",
      "model_module_version": "1.5.0",
      "model_name": "DescriptionStyleModel",
      "state": {
       "description_width": ""
      }
     },
     "e399afc2e59543e3b3b75139fc06ce46": {
      "model_module": "@jupyter-widgets/base",
      "model_module_version": "1.2.0",
      "model_name": "LayoutModel",
      "state": {}
     },
     "e3a963d678744c9c96af6d1c8cddbae4": {
      "model_module": "@jupyter-widgets/base",
      "model_module_version": "1.2.0",
      "model_name": "LayoutModel",
      "state": {
       "grid_area": "widget017"
      }
     },
     "e3e2691fd391463292b34ce9d81e8ade": {
      "model_module": "@jupyter-widgets/base",
      "model_module_version": "1.2.0",
      "model_name": "LayoutModel",
      "state": {
       "grid_area": "widget006"
      }
     },
     "e3faace128774d90906209ae4f49fa98": {
      "model_module": "@jupyter-widgets/controls",
      "model_module_version": "1.5.0",
      "model_name": "ProgressStyleModel",
      "state": {
       "description_width": ""
      }
     },
     "e42172332cef4b019911462e8764959f": {
      "model_module": "@jupyter-widgets/base",
      "model_module_version": "1.2.0",
      "model_name": "LayoutModel",
      "state": {
       "grid_area": "widget007"
      }
     },
     "e431465cb50d453baa8f002a316cfc2d": {
      "model_module": "@jupyter-widgets/controls",
      "model_module_version": "1.5.0",
      "model_name": "FloatProgressModel",
      "state": {
       "layout": "IPY_MODEL_3dfbebdb188c43f4865538609473fc73",
       "max": 7,
       "style": "IPY_MODEL_1e4eb69b5979419587d922fa4ffbb6ba",
       "value": 1
      }
     },
     "e4b174e678084662bae06f1ce484b839": {
      "model_module": "@jupyter-widgets/controls",
      "model_module_version": "1.5.0",
      "model_name": "DescriptionStyleModel",
      "state": {
       "description_width": ""
      }
     },
     "e4b6ca3dfeca48f7b28dff3173701edb": {
      "model_module": "@jupyter-widgets/controls",
      "model_module_version": "1.5.0",
      "model_name": "ProgressStyleModel",
      "state": {
       "description_width": ""
      }
     },
     "e4bf02f08f6c494a8fcc68161ae34aac": {
      "model_module": "@jupyter-widgets/controls",
      "model_module_version": "1.5.0",
      "model_name": "DescriptionStyleModel",
      "state": {
       "description_width": ""
      }
     },
     "e5066343f85f479db36e3d8af39e351b": {
      "model_module": "@jupyter-widgets/controls",
      "model_module_version": "1.5.0",
      "model_name": "ProgressStyleModel",
      "state": {
       "description_width": ""
      }
     },
     "e53041aff7d249aba399111f68f07ff6": {
      "model_module": "@jupyter-widgets/controls",
      "model_module_version": "1.5.0",
      "model_name": "ProgressStyleModel",
      "state": {
       "description_width": ""
      }
     },
     "e53260cde9d544ec9f0929596fd43eac": {
      "model_module": "@jupyter-widgets/controls",
      "model_module_version": "1.5.0",
      "model_name": "LabelModel",
      "state": {
       "layout": "IPY_MODEL_c4179f0dde574cdba0e45a5657fdb5a6",
       "style": "IPY_MODEL_17cb6a7903874b45931f6fcbf336883f",
       "value": "-1.1078621186901776"
      }
     },
     "e565ad794faf43f5b618a6b2d5cc6670": {
      "model_module": "@jupyter-widgets/controls",
      "model_module_version": "1.5.0",
      "model_name": "LabelModel",
      "state": {
       "layout": "IPY_MODEL_fb8378a280b6471ca4d8fad0459d1565",
       "style": "IPY_MODEL_a1f6dee6c7ff4562be2edda676400241",
       "value": "0.46204878108990594"
      }
     },
     "e577e3cabf364b898637c05c47d7694d": {
      "model_module": "@jupyter-widgets/controls",
      "model_module_version": "1.5.0",
      "model_name": "FloatProgressModel",
      "state": {
       "layout": "IPY_MODEL_36185f3f1fd7482e9d7b0dd6a405e75f",
       "max": 7,
       "style": "IPY_MODEL_ed3f4fb0c26042aab039dc5d6c14f409",
       "value": 1
      }
     },
     "e580fdf2d3e34fe187444bce05b37082": {
      "model_module": "@jupyter-widgets/base",
      "model_module_version": "1.2.0",
      "model_name": "LayoutModel",
      "state": {
       "grid_area": "widget010"
      }
     },
     "e5adc1bed8ec44fb8351e7beffc6e6e3": {
      "model_module": "@jupyter-widgets/base",
      "model_module_version": "1.2.0",
      "model_name": "LayoutModel",
      "state": {
       "grid_template_areas": "\"widget001 widget002\"\n\"widget003 widget004\"\n\"widget005 widget006\"\n\"widget007 widget008\"\n\"widget009 widget010\"\n\"widget011 widget012\"\n\"widget013 widget014\"\n\"widget015 widget016\"",
       "grid_template_columns": "repeat(2, 1fr)",
       "grid_template_rows": "repeat(8, 1fr)"
      }
     },
     "e5c2266b6ed44566b84258b0cb124db6": {
      "model_module": "@jupyter-widgets/controls",
      "model_module_version": "1.5.0",
      "model_name": "DescriptionStyleModel",
      "state": {
       "description_width": ""
      }
     },
     "e5cac6c896484801abe59873f6b605c6": {
      "model_module": "@jupyter-widgets/controls",
      "model_module_version": "1.5.0",
      "model_name": "DescriptionStyleModel",
      "state": {
       "description_width": ""
      }
     },
     "e614c182f03648bfb500bb5e9ab5de99": {
      "model_module": "@jupyter-widgets/controls",
      "model_module_version": "1.5.0",
      "model_name": "DescriptionStyleModel",
      "state": {
       "description_width": ""
      }
     },
     "e6448b6cd8a4495fbe44cdb937eccf89": {
      "model_module": "@jupyter-widgets/base",
      "model_module_version": "1.2.0",
      "model_name": "LayoutModel",
      "state": {}
     },
     "e65b338da47044959785a06f4cda0418": {
      "model_module": "@jupyter-widgets/controls",
      "model_module_version": "1.5.0",
      "model_name": "FloatProgressModel",
      "state": {
       "layout": "IPY_MODEL_818abd9edd4e416686aba42a5109db2b",
       "max": 7,
       "style": "IPY_MODEL_6c581857500541deb8d43832ef8bd52d",
       "value": 1
      }
     },
     "e6834dde0bc24710ae3795b48e05f3b7": {
      "model_module": "@jupyter-widgets/controls",
      "model_module_version": "1.5.0",
      "model_name": "DescriptionStyleModel",
      "state": {
       "description_width": ""
      }
     },
     "e68ceda9abcc4a3aa6f6d5c670f8eae2": {
      "model_module": "@jupyter-widgets/base",
      "model_module_version": "1.2.0",
      "model_name": "LayoutModel",
      "state": {
       "grid_area": "widget012"
      }
     },
     "e6a260a5cfd24950a771dbee2e34e443": {
      "model_module": "@jupyter-widgets/base",
      "model_module_version": "1.2.0",
      "model_name": "LayoutModel",
      "state": {
       "grid_area": "widget013"
      }
     },
     "e70113e6ba5e41e5b66ab4a7e534799a": {
      "model_module": "@jupyter-widgets/controls",
      "model_module_version": "1.5.0",
      "model_name": "ToggleButtonModel",
      "state": {
       "description": "Toggle details",
       "layout": "IPY_MODEL_ea8f49e126a342e5817c525a68689790",
       "style": "IPY_MODEL_1027d25cd28d486792732da40f8bc77c"
      }
     },
     "e7035a1d3b8c47cdb26c77fa9b15f724": {
      "model_module": "@jupyter-widgets/controls",
      "model_module_version": "1.5.0",
      "model_name": "DescriptionStyleModel",
      "state": {
       "description_width": ""
      }
     },
     "e7615b4ab02442df87de8e522db3ca5b": {
      "model_module": "@jupyter-widgets/controls",
      "model_module_version": "1.5.0",
      "model_name": "FloatProgressModel",
      "state": {
       "layout": "IPY_MODEL_ab9fcb07ccc242e4b95a5eaa3520c683",
       "max": 7,
       "style": "IPY_MODEL_6be2eb7a7ddc423fa9621bc2805df13c",
       "value": 1
      }
     },
     "e7722dba3ab14af89a9ce068eb459c23": {
      "model_module": "@jupyter-widgets/controls",
      "model_module_version": "1.5.0",
      "model_name": "HTMLModel",
      "state": {
       "layout": "IPY_MODEL_8d1f8b0205304c6f98757dc11a81dfc5",
       "style": "IPY_MODEL_4b51ad24b9ee4791ae75eb99a1e1b357",
       "value": "<?xml version=\"1.0\" encoding=\"utf-8\" standalone=\"no\"?>\n<!DOCTYPE svg style=\"max-width: 100%\" PUBLIC \"-//W3C//DTD SVG 1.1//EN\"\n  \"http://www.w3.org/Graphics/SVG/1.1/DTD/svg11.dtd\">\n<svg style=\"max-width: 100%\"  version=\"1.1\" viewBox=\"0 0 576 396\" width=\"576pt\" xmlns=\"http://www.w3.org/2000/svg\" xmlns:xlink=\"http://www.w3.org/1999/xlink\">\n <metadata>\n  <rdf:RDF xmlns:cc=\"http://creativecommons.org/ns#\" xmlns:dc=\"http://purl.org/dc/elements/1.1/\" xmlns:rdf=\"http://www.w3.org/1999/02/22-rdf-syntax-ns#\">\n   <cc:Work>\n    <dc:type rdf:resource=\"http://purl.org/dc/dcmitype/StillImage\"/>\n    <dc:date>2022-10-01T17:17:55.960035</dc:date>\n    <dc:format>image/svg+xml</dc:format>\n    <dc:creator>\n     <cc:Agent>\n      <dc:title>Matplotlib v3.4.3, https://matplotlib.org/</dc:title>\n     </cc:Agent>\n    </dc:creator>\n   </cc:Work>\n  </rdf:RDF>\n </metadata>\n <defs>\n  <style type=\"text/css\">*{stroke-linecap:butt;stroke-linejoin:round;}</style>\n </defs>\n <g id=\"figure_1\">\n  <g id=\"patch_1\">\n   <path d=\"M 0 396 \nL 576 396 \nL 576 0 \nL 0 0 \nz\n\" style=\"fill:#ffffff;\"/>\n  </g>\n  <g id=\"axes_1\">\n   <g id=\"patch_2\">\n    <path d=\"M 72 346.5 \nL 518.4 346.5 \nL 518.4 47.52 \nL 72 47.52 \nz\n\" style=\"fill:#ffffff;\"/>\n   </g>\n   <g id=\"matplotlib.axis_1\">\n    <g id=\"xtick_1\">\n     <g id=\"text_1\">\n      <!-- −1.0 -->\n      <g style=\"fill:#262626;\" transform=\"translate(96.809707 364.598437)scale(0.1 -0.1)\">\n       <defs>\n        <path d=\"M 678 2272 \nL 4684 2272 \nL 4684 1741 \nL 678 1741 \nL 678 2272 \nz\n\" id=\"DejaVuSans-2212\" transform=\"scale(0.015625)\"/>\n        <path d=\"M 794 531 \nL 1825 531 \nL 1825 4091 \nL 703 3866 \nL 703 4441 \nL 1819 4666 \nL 2450 4666 \nL 2450 531 \nL 3481 531 \nL 3481 0 \nL 794 0 \nL 794 531 \nz\n\" id=\"DejaVuSans-31\" transform=\"scale(0.015625)\"/>\n        <path d=\"M 684 794 \nL 1344 794 \nL 1344 0 \nL 684 0 \nL 684 794 \nz\n\" id=\"DejaVuSans-2e\" transform=\"scale(0.015625)\"/>\n        <path d=\"M 2034 4250 \nQ 1547 4250 1301 3770 \nQ 1056 3291 1056 2328 \nQ 1056 1369 1301 889 \nQ 1547 409 2034 409 \nQ 2525 409 2770 889 \nQ 3016 1369 3016 2328 \nQ 3016 3291 2770 3770 \nQ 2525 4250 2034 4250 \nz\nM 2034 4750 \nQ 2819 4750 3233 4129 \nQ 3647 3509 3647 2328 \nQ 3647 1150 3233 529 \nQ 2819 -91 2034 -91 \nQ 1250 -91 836 529 \nQ 422 1150 422 2328 \nQ 422 3509 836 4129 \nQ 1250 4750 2034 4750 \nz\n\" id=\"DejaVuSans-30\" transform=\"scale(0.015625)\"/>\n       </defs>\n       <use xlink:href=\"#DejaVuSans-2212\"/>\n       <use x=\"83.789062\" xlink:href=\"#DejaVuSans-31\"/>\n       <use x=\"147.412109\" xlink:href=\"#DejaVuSans-2e\"/>\n       <use x=\"179.199219\" xlink:href=\"#DejaVuSans-30\"/>\n      </g>\n     </g>\n    </g>\n    <g id=\"xtick_2\">\n     <g id=\"text_2\">\n      <!-- −0.5 -->\n      <g style=\"fill:#262626;\" transform=\"translate(174.03888 364.598437)scale(0.1 -0.1)\">\n       <defs>\n        <path d=\"M 691 4666 \nL 3169 4666 \nL 3169 4134 \nL 1269 4134 \nL 1269 2991 \nQ 1406 3038 1543 3061 \nQ 1681 3084 1819 3084 \nQ 2600 3084 3056 2656 \nQ 3513 2228 3513 1497 \nQ 3513 744 3044 326 \nQ 2575 -91 1722 -91 \nQ 1428 -91 1123 -41 \nQ 819 9 494 109 \nL 494 744 \nQ 775 591 1075 516 \nQ 1375 441 1709 441 \nQ 2250 441 2565 725 \nQ 2881 1009 2881 1497 \nQ 2881 1984 2565 2268 \nQ 2250 2553 1709 2553 \nQ 1456 2553 1204 2497 \nQ 953 2441 691 2322 \nL 691 4666 \nz\n\" id=\"DejaVuSans-35\" transform=\"scale(0.015625)\"/>\n       </defs>\n       <use xlink:href=\"#DejaVuSans-2212\"/>\n       <use x=\"83.789062\" xlink:href=\"#DejaVuSans-30\"/>\n       <use x=\"147.412109\" xlink:href=\"#DejaVuSans-2e\"/>\n       <use x=\"179.199219\" xlink:href=\"#DejaVuSans-35\"/>\n      </g>\n     </g>\n    </g>\n    <g id=\"xtick_3\">\n     <g id=\"text_3\">\n      <!-- 0.0 -->\n      <g style=\"fill:#262626;\" transform=\"translate(255.457897 364.598437)scale(0.1 -0.1)\">\n       <use xlink:href=\"#DejaVuSans-30\"/>\n       <use x=\"63.623047\" xlink:href=\"#DejaVuSans-2e\"/>\n       <use x=\"95.410156\" xlink:href=\"#DejaVuSans-30\"/>\n      </g>\n     </g>\n    </g>\n    <g id=\"xtick_4\">\n     <g id=\"text_4\">\n      <!-- 0.5 -->\n      <g style=\"fill:#262626;\" transform=\"translate(332.68707 364.598437)scale(0.1 -0.1)\">\n       <use xlink:href=\"#DejaVuSans-30\"/>\n       <use x=\"63.623047\" xlink:href=\"#DejaVuSans-2e\"/>\n       <use x=\"95.410156\" xlink:href=\"#DejaVuSans-35\"/>\n      </g>\n     </g>\n    </g>\n    <g id=\"xtick_5\">\n     <g id=\"text_5\">\n      <!-- 1.0 -->\n      <g style=\"fill:#262626;\" transform=\"translate(409.916243 364.598437)scale(0.1 -0.1)\">\n       <use xlink:href=\"#DejaVuSans-31\"/>\n       <use x=\"63.623047\" xlink:href=\"#DejaVuSans-2e\"/>\n       <use x=\"95.410156\" xlink:href=\"#DejaVuSans-30\"/>\n      </g>\n     </g>\n    </g>\n    <g id=\"xtick_6\">\n     <g id=\"text_6\">\n      <!-- 1.5 -->\n      <g style=\"fill:#262626;\" transform=\"translate(487.145416 364.598437)scale(0.1 -0.1)\">\n       <use xlink:href=\"#DejaVuSans-31\"/>\n       <use x=\"63.623047\" xlink:href=\"#DejaVuSans-2e\"/>\n       <use x=\"95.410156\" xlink:href=\"#DejaVuSans-35\"/>\n      </g>\n     </g>\n    </g>\n    <g id=\"text_7\">\n     <!-- 1 -->\n     <g style=\"fill:#262626;\" transform=\"translate(291.700625 379.036406)scale(0.11 -0.11)\">\n      <use xlink:href=\"#DejaVuSans-31\"/>\n     </g>\n    </g>\n   </g>\n   <g id=\"matplotlib.axis_2\">\n    <g id=\"ytick_1\">\n     <g id=\"text_8\">\n      <!-- −1.0 -->\n      <g style=\"fill:#262626;\" transform=\"translate(37.217187 325.550912)scale(0.1 -0.1)\">\n       <use xlink:href=\"#DejaVuSans-2212\"/>\n       <use x=\"83.789062\" xlink:href=\"#DejaVuSans-31\"/>\n       <use x=\"147.412109\" xlink:href=\"#DejaVuSans-2e\"/>\n       <use x=\"179.199219\" xlink:href=\"#DejaVuSans-30\"/>\n      </g>\n     </g>\n    </g>\n    <g id=\"ytick_2\">\n     <g id=\"text_9\">\n      <!-- −0.5 -->\n      <g style=\"fill:#262626;\" transform=\"translate(37.217187 273.826051)scale(0.1 -0.1)\">\n       <use xlink:href=\"#DejaVuSans-2212\"/>\n       <use x=\"83.789062\" xlink:href=\"#DejaVuSans-30\"/>\n       <use x=\"147.412109\" xlink:href=\"#DejaVuSans-2e\"/>\n       <use x=\"179.199219\" xlink:href=\"#DejaVuSans-35\"/>\n      </g>\n     </g>\n    </g>\n    <g id=\"ytick_3\">\n     <g id=\"text_10\">\n      <!-- 0.0 -->\n      <g style=\"fill:#262626;\" transform=\"translate(45.596875 222.10119)scale(0.1 -0.1)\">\n       <use xlink:href=\"#DejaVuSans-30\"/>\n       <use x=\"63.623047\" xlink:href=\"#DejaVuSans-2e\"/>\n       <use x=\"95.410156\" xlink:href=\"#DejaVuSans-30\"/>\n      </g>\n     </g>\n    </g>\n    <g id=\"ytick_4\">\n     <g id=\"text_11\">\n      <!-- 0.5 -->\n      <g style=\"fill:#262626;\" transform=\"translate(45.596875 170.376328)scale(0.1 -0.1)\">\n       <use xlink:href=\"#DejaVuSans-30\"/>\n       <use x=\"63.623047\" xlink:href=\"#DejaVuSans-2e\"/>\n       <use x=\"95.410156\" xlink:href=\"#DejaVuSans-35\"/>\n      </g>\n     </g>\n    </g>\n    <g id=\"ytick_5\">\n     <g id=\"text_12\">\n      <!-- 1.0 -->\n      <g style=\"fill:#262626;\" transform=\"translate(45.596875 118.651467)scale(0.1 -0.1)\">\n       <use xlink:href=\"#DejaVuSans-31\"/>\n       <use x=\"63.623047\" xlink:href=\"#DejaVuSans-2e\"/>\n       <use x=\"95.410156\" xlink:href=\"#DejaVuSans-30\"/>\n      </g>\n     </g>\n    </g>\n    <g id=\"ytick_6\">\n     <g id=\"text_13\">\n      <!-- 1.5 -->\n      <g style=\"fill:#262626;\" transform=\"translate(45.596875 66.926605)scale(0.1 -0.1)\">\n       <use xlink:href=\"#DejaVuSans-31\"/>\n       <use x=\"63.623047\" xlink:href=\"#DejaVuSans-2e\"/>\n       <use x=\"95.410156\" xlink:href=\"#DejaVuSans-35\"/>\n      </g>\n     </g>\n    </g>\n    <g id=\"text_14\">\n     <!-- 1 -->\n     <g style=\"fill:#262626;\" transform=\"translate(30.929531 200.509375)rotate(-90)scale(0.11 -0.11)\">\n      <use xlink:href=\"#DejaVuSans-31\"/>\n     </g>\n    </g>\n   </g>\n   <g id=\"PathCollection_1\">\n    <defs>\n     <path d=\"M 0 3.5 \nC 0.928211 3.5 1.81853 3.131218 2.474874 2.474874 \nC 3.131218 1.81853 3.5 0.928211 3.5 0 \nC 3.5 -0.928211 3.131218 -1.81853 2.474874 -2.474874 \nC 1.81853 -3.131218 0.928211 -3.5 0 -3.5 \nC -0.928211 -3.5 -1.81853 -3.131218 -2.474874 -2.474874 \nC -3.131218 -1.81853 -3.5 -0.928211 -3.5 0 \nC -3.5 0.928211 -3.131218 1.81853 -2.474874 2.474874 \nC -1.81853 3.131218 -0.928211 3.5 0 3.5 \nz\n\" id=\"mec1ed510e7\" style=\"stroke:#337ab7;stroke-width:0.3;\"/>\n    </defs>\n    <g clip-path=\"url(#p7dfdc21581)\">\n     <use style=\"fill:#337ab7;stroke:#337ab7;stroke-width:0.3;\" x=\"210.073107\" xlink:href=\"#mec1ed510e7\" y=\"254.024423\"/>\n     <use style=\"fill:#337ab7;stroke:#337ab7;stroke-width:0.3;\" x=\"92.290909\" xlink:href=\"#mec1ed510e7\" y=\"332.91\"/>\n     <use style=\"fill:#337ab7;stroke:#337ab7;stroke-width:0.3;\" x=\"242.081406\" xlink:href=\"#mec1ed510e7\" y=\"232.586606\"/>\n     <use style=\"fill:#337ab7;stroke:#337ab7;stroke-width:0.3;\" x=\"386.745895\" xlink:href=\"#mec1ed510e7\" y=\"135.696398\"/>\n     <use style=\"fill:#337ab7;stroke:#337ab7;stroke-width:0.3;\" x=\"498.109091\" xlink:href=\"#mec1ed510e7\" y=\"61.11\"/>\n     <use style=\"fill:#337ab7;stroke:#337ab7;stroke-width:0.3;\" x=\"311.195144\" xlink:href=\"#mec1ed510e7\" y=\"186.297123\"/>\n    </g>\n   </g>\n   <g id=\"patch_3\">\n    <path d=\"M 72 346.5 \nL 72 47.52 \n\" style=\"fill:none;\"/>\n   </g>\n   <g id=\"patch_4\">\n    <path d=\"M 518.4 346.5 \nL 518.4 47.52 \n\" style=\"fill:none;\"/>\n   </g>\n   <g id=\"patch_5\">\n    <path d=\"M 72 346.5 \nL 518.4 346.5 \n\" style=\"fill:none;\"/>\n   </g>\n   <g id=\"patch_6\">\n    <path d=\"M 72 47.52 \nL 518.4 47.52 \n\" style=\"fill:none;\"/>\n   </g>\n  </g>\n </g>\n <defs>\n  <clipPath id=\"p7dfdc21581\">\n   <rect height=\"298.98\" width=\"446.4\" x=\"72\" y=\"47.52\"/>\n  </clipPath>\n </defs>\n</svg>\n"
      }
     },
     "e7d1b4bf3cfe49c49dfbbc7b1a30aad4": {
      "model_module": "@jupyter-widgets/controls",
      "model_module_version": "1.5.0",
      "model_name": "HTMLModel",
      "state": {
       "layout": "IPY_MODEL_4030f155b2724070b4eeb78922ec4ba1",
       "style": "IPY_MODEL_971f547e84b94029b1c4650ef4661bf4",
       "value": "-1.286439725"
      }
     },
     "e81cb33fc76943018cd3e555fcf41db6": {
      "model_module": "@jupyter-widgets/base",
      "model_module_version": "1.2.0",
      "model_name": "LayoutModel",
      "state": {
       "grid_area": "widget005"
      }
     },
     "e82a388b6adb40edb098020362ac11ab": {
      "model_module": "@jupyter-widgets/base",
      "model_module_version": "1.2.0",
      "model_name": "LayoutModel",
      "state": {}
     },
     "e836dbd0170a42b097dafd349efc7ed7": {
      "model_module": "@jupyter-widgets/controls",
      "model_module_version": "1.5.0",
      "model_name": "LabelModel",
      "state": {
       "layout": "IPY_MODEL_6e6cba5b72de4bda90ba080b67b52b5f",
       "style": "IPY_MODEL_bf6f165fc0e04276ace547c7b74f798a",
       "value": "1.5715527518785666"
      }
     },
     "e8780ba257954312b541064a0526c9cc": {
      "model_module": "@jupyter-widgets/controls",
      "model_module_version": "1.5.0",
      "model_name": "HTMLModel",
      "state": {
       "layout": "IPY_MODEL_f6779901d1b143ae9af5414ca1283521",
       "style": "IPY_MODEL_79ff45b172de48e3a7e76effbb65f3bb",
       "value": "Number of observations"
      }
     },
     "e8b9a47a387e4572b08652b50ad88cd3": {
      "model_module": "@jupyter-widgets/controls",
      "model_module_version": "1.5.0",
      "model_name": "HTMLModel",
      "state": {
       "layout": "IPY_MODEL_bcfb68710fdb46b48064086b3a41c62f",
       "style": "IPY_MODEL_6b91a654f58f4e14819d93cd4a4336b4",
       "value": "0"
      }
     },
     "e8c6aa8212af4f90aca13224a1ed9ea1": {
      "model_module": "@jupyter-widgets/controls",
      "model_module_version": "1.5.0",
      "model_name": "HTMLModel",
      "state": {
       "layout": "IPY_MODEL_16361126b6fe4dde869412b9c0bc9578",
       "style": "IPY_MODEL_c0c06c60a6fe465aa46c8d472d535306",
       "value": "0.0%"
      }
     },
     "e8dbaf91958741f3bb2ebcb4234798db": {
      "model_module": "@jupyter-widgets/controls",
      "model_module_version": "1.5.0",
      "model_name": "HTMLModel",
      "state": {
       "layout": "IPY_MODEL_2c54410155584bb084a63f075d18a7e7",
       "style": "IPY_MODEL_1cfd374c41d24b6b8dd3ae540dd00e02",
       "value": "Median Absolute Deviation (MAD)"
      }
     },
     "e8fbfa25714e4f23b416c7403da531fb": {
      "model_module": "@jupyter-widgets/controls",
      "model_module_version": "1.5.0",
      "model_name": "DescriptionStyleModel",
      "state": {
       "description_width": ""
      }
     },
     "e90d1b9a3a124523837883f1d1741ec9": {
      "model_module": "@jupyter-widgets/controls",
      "model_module_version": "1.5.0",
      "model_name": "DescriptionStyleModel",
      "state": {
       "description_width": ""
      }
     },
     "e9130249a3ee4369bfc63eeb0f4132ba": {
      "model_module": "@jupyter-widgets/controls",
      "model_module_version": "1.5.0",
      "model_name": "GridBoxModel",
      "state": {
       "children": [
        "IPY_MODEL_434eccee408a4bc79813755148154ab3",
        "IPY_MODEL_26ad8e0949604ec69fa4f3bae0586441",
        "IPY_MODEL_9b8c25fb4f544abcb362c8a5bfee5e4f",
        "IPY_MODEL_ff0003f7f18449adb89449531aacf839",
        "IPY_MODEL_e040728c7bc049f1b8cffd2915069f5e",
        "IPY_MODEL_ab4b949d11e04b94957175ba062fe947",
        "IPY_MODEL_382f63f3952b43c88f316b1d97f2432f",
        "IPY_MODEL_eb26168a8dac4b648033e85c4fdc0de5",
        "IPY_MODEL_aad18b862fc94f828f545a5b203cb248",
        "IPY_MODEL_8c311907514f4c9c989667c0614fc4a1"
       ],
       "layout": "IPY_MODEL_3529156012a542ce84013ccb764bd4df"
      }
     },
     "e94711c8ecad4bbbbf791cb898d92929": {
      "model_module": "@jupyter-widgets/base",
      "model_module_version": "1.2.0",
      "model_name": "LayoutModel",
      "state": {
       "grid_area": "widget010"
      }
     },
     "e94ab3d0787e4ee3b5707e1c9148d178": {
      "model_module": "@jupyter-widgets/controls",
      "model_module_version": "1.5.0",
      "model_name": "DescriptionStyleModel",
      "state": {
       "description_width": ""
      }
     },
     "e9613e9a33044c41b476389c02e8b44b": {
      "model_module": "@jupyter-widgets/controls",
      "model_module_version": "1.5.0",
      "model_name": "ToggleButtonModel",
      "state": {
       "description": "Toggle details",
       "layout": "IPY_MODEL_2fa524b818114ff88df16646e8e24650",
       "style": "IPY_MODEL_b6b1fec700604d67b8b117bc6c824fdb"
      }
     },
     "e9c9a7ed944b4963828062a19b4101bb": {
      "model_module": "@jupyter-widgets/base",
      "model_module_version": "1.2.0",
      "model_name": "LayoutModel",
      "state": {
       "grid_area": "widget009"
      }
     },
     "e9f5ecd676c346238af542d330b559e2": {
      "model_module": "@jupyter-widgets/base",
      "model_module_version": "1.2.0",
      "model_name": "LayoutModel",
      "state": {
       "grid_area": "widget016"
      }
     },
     "ea151a1c906d42b5ae35ced5ef66ecd9": {
      "model_module": "@jupyter-widgets/base",
      "model_module_version": "1.2.0",
      "model_name": "LayoutModel",
      "state": {
       "grid_area": "widget002"
      }
     },
     "ea8f105212884fde8892b2ebf78a96a7": {
      "model_module": "@jupyter-widgets/base",
      "model_module_version": "1.2.0",
      "model_name": "LayoutModel",
      "state": {
       "grid_template_columns": "25% 25% 25% 25%",
       "width": "100%"
      }
     },
     "ea8f49e126a342e5817c525a68689790": {
      "model_module": "@jupyter-widgets/base",
      "model_module_version": "1.2.0",
      "model_name": "LayoutModel",
      "state": {
       "width": "fit-content"
      }
     },
     "eac7332c60ca4c7c841e064aca109e3c": {
      "model_module": "@jupyter-widgets/base",
      "model_module_version": "1.2.0",
      "model_name": "LayoutModel",
      "state": {}
     },
     "eacbac56f86349aba42a9263d82543f3": {
      "model_module": "@jupyter-widgets/controls",
      "model_module_version": "1.5.0",
      "model_name": "HTMLModel",
      "state": {
       "layout": "IPY_MODEL_5a62790870984de0b27e4345769f9c0f",
       "style": "IPY_MODEL_95a05180c47b4864bfdbb6cac54570c6",
       "value": "2022-02-03 00:00:00"
      }
     },
     "ead2c6ee16d4480bae95e3c32fb44350": {
      "model_module": "@jupyter-widgets/base",
      "model_module_version": "1.2.0",
      "model_name": "LayoutModel",
      "state": {
       "grid_template_areas": "\"widget001 widget002\"\n\"widget003 widget004\"\n\"widget005 widget006\"\n\"widget007 widget008\"\n\"widget009 widget010\"\n\"widget011 widget012\"\n\"widget013 widget014\"",
       "grid_template_columns": "repeat(2, 1fr)",
       "grid_template_rows": "repeat(7, 1fr)"
      }
     },
     "eafea2cf67fb4342bee2df1feac179f2": {
      "model_module": "@jupyter-widgets/controls",
      "model_module_version": "1.5.0",
      "model_name": "TabModel",
      "state": {
       "_titles": {
        "0": "Spearman's ρ",
        "1": "Pearson's r",
        "2": "Kendall's τ",
        "3": "Phik (φk)"
       },
       "children": [
        "IPY_MODEL_fe8ca0d2ea674457a2a72314552a9125",
        "IPY_MODEL_b32300a9b13143a6a0387feb4be01ad8",
        "IPY_MODEL_66e963c976794245a9f22b390771562d",
        "IPY_MODEL_a18b000351c54c44a6152008b7d7d3f4"
       ],
       "layout": "IPY_MODEL_849357ada10c413a88fed2710d436268"
      }
     },
     "eb1b1501c4ca4885a668b6e0086e46e6": {
      "model_module": "@jupyter-widgets/controls",
      "model_module_version": "1.5.0",
      "model_name": "DescriptionStyleModel",
      "state": {
       "description_width": ""
      }
     },
     "eb26168a8dac4b648033e85c4fdc0de5": {
      "model_module": "@jupyter-widgets/controls",
      "model_module_version": "1.5.0",
      "model_name": "HTMLModel",
      "state": {
       "layout": "IPY_MODEL_df6b801bc1704c8ca5180b2940787761",
       "style": "IPY_MODEL_3e5c8c8052b54a75b7473579646e1bfb",
       "value": "0.0%"
      }
     },
     "eb3297bf5ce74bc195c447da69f38f3d": {
      "model_module": "@jupyter-widgets/base",
      "model_module_version": "1.2.0",
      "model_name": "LayoutModel",
      "state": {
       "grid_area": "widget007"
      }
     },
     "eb6e893c6d0a43568e66fb0b0537fe14": {
      "model_module": "@jupyter-widgets/controls",
      "model_module_version": "1.5.0",
      "model_name": "HTMLModel",
      "state": {
       "layout": "IPY_MODEL_5cc4244134ac445daa308b81c24127ae",
       "style": "IPY_MODEL_95d3cd24a7c947179496b2274cd948e2",
       "value": "<p class=\"h4\" title=\"0\"><a\n        href=\"#pp_var_-639204677666888740\">0</a><br/>\n    <small>Real number (&Ropf;)</small>\n</p>\n    <code><abbr title=\"This variable has a high correlation with 3 fields: df_index, 1, 2\">HIGH CORRELATION</abbr></code><br />\n    <code>MISSING</code><br />\n<p class=\"variable-description\">\n    \n</p>"
      }
     },
     "eb7cac2779cb4f31a53afc0c17d5f2e7": {
      "model_module": "@jupyter-widgets/base",
      "model_module_version": "1.2.0",
      "model_name": "LayoutModel",
      "state": {
       "grid_area": "widget013"
      }
     },
     "eb80d765f2b844c5a7de2d5c92362e89": {
      "model_module": "@jupyter-widgets/controls",
      "model_module_version": "1.5.0",
      "model_name": "HTMLModel",
      "state": {
       "layout": "IPY_MODEL_6aefd13cb574463c98eb415d45ec3157",
       "style": "IPY_MODEL_bcc64f12a047477eb2aa392af9aa4085",
       "value": "<?xml version=\"1.0\" encoding=\"utf-8\" standalone=\"no\"?>\n<!DOCTYPE svg style=\"max-width: 100%\" PUBLIC \"-//W3C//DTD SVG 1.1//EN\"\n  \"http://www.w3.org/Graphics/SVG/1.1/DTD/svg11.dtd\">\n<svg style=\"max-width: 100%\"  version=\"1.1\" viewBox=\"0 0 432 288\" width=\"432pt\" xmlns=\"http://www.w3.org/2000/svg\" xmlns:xlink=\"http://www.w3.org/1999/xlink\">\n <metadata>\n  <rdf:RDF xmlns:cc=\"http://creativecommons.org/ns#\" xmlns:dc=\"http://purl.org/dc/elements/1.1/\" xmlns:rdf=\"http://www.w3.org/1999/02/22-rdf-syntax-ns#\">\n   <cc:Work>\n    <dc:type rdf:resource=\"http://purl.org/dc/dcmitype/StillImage\"/>\n    <dc:date>2022-10-01T17:17:59.163433</dc:date>\n    <dc:format>image/svg+xml</dc:format>\n    <dc:creator>\n     <cc:Agent>\n      <dc:title>Matplotlib v3.4.3, https://matplotlib.org/</dc:title>\n     </cc:Agent>\n    </dc:creator>\n   </cc:Work>\n  </rdf:RDF>\n </metadata>\n <defs>\n  <style type=\"text/css\">*{stroke-linecap:butt;stroke-linejoin:round;}</style>\n </defs>\n <g id=\"figure_1\">\n  <g id=\"patch_1\">\n   <path d=\"M 0 288 \nL 432 288 \nL 432 0 \nL 0 0 \nz\n\" style=\"fill:#ffffff;\"/>\n  </g>\n  <g id=\"axes_1\">\n   <g id=\"patch_2\">\n    <path d=\"M 51.3 242.393204 \nL 421.2 242.393204 \nL 421.2 10.8 \nL 51.3 10.8 \nz\n\" style=\"fill:#ffffff;\"/>\n   </g>\n   <g id=\"matplotlib.axis_1\">\n    <g id=\"xtick_1\">\n     <g id=\"text_1\">\n      <!-- −1.0 -->\n      <g style=\"fill:#262626;\" transform=\"translate(75.284668 275.436652)rotate(-45)scale(0.1 -0.1)\">\n       <defs>\n        <path d=\"M 678 2272 \nL 4684 2272 \nL 4684 1741 \nL 678 1741 \nL 678 2272 \nz\n\" id=\"DejaVuSans-2212\" transform=\"scale(0.015625)\"/>\n        <path d=\"M 794 531 \nL 1825 531 \nL 1825 4091 \nL 703 3866 \nL 703 4441 \nL 1819 4666 \nL 2450 4666 \nL 2450 531 \nL 3481 531 \nL 3481 0 \nL 794 0 \nL 794 531 \nz\n\" id=\"DejaVuSans-31\" transform=\"scale(0.015625)\"/>\n        <path d=\"M 684 794 \nL 1344 794 \nL 1344 0 \nL 684 0 \nL 684 794 \nz\n\" id=\"DejaVuSans-2e\" transform=\"scale(0.015625)\"/>\n        <path d=\"M 2034 4250 \nQ 1547 4250 1301 3770 \nQ 1056 3291 1056 2328 \nQ 1056 1369 1301 889 \nQ 1547 409 2034 409 \nQ 2525 409 2770 889 \nQ 3016 1369 3016 2328 \nQ 3016 3291 2770 3770 \nQ 2525 4250 2034 4250 \nz\nM 2034 4750 \nQ 2819 4750 3233 4129 \nQ 3647 3509 3647 2328 \nQ 3647 1150 3233 529 \nQ 2819 -91 2034 -91 \nQ 1250 -91 836 529 \nQ 422 1150 422 2328 \nQ 422 3509 836 4129 \nQ 1250 4750 2034 4750 \nz\n\" id=\"DejaVuSans-30\" transform=\"scale(0.015625)\"/>\n       </defs>\n       <use xlink:href=\"#DejaVuSans-2212\"/>\n       <use x=\"83.789062\" xlink:href=\"#DejaVuSans-31\"/>\n       <use x=\"147.412109\" xlink:href=\"#DejaVuSans-2e\"/>\n       <use x=\"179.199219\" xlink:href=\"#DejaVuSans-30\"/>\n      </g>\n     </g>\n    </g>\n    <g id=\"xtick_2\">\n     <g id=\"text_2\">\n      <!-- −0.5 -->\n      <g style=\"fill:#262626;\" transform=\"translate(139.279002 275.436652)rotate(-45)scale(0.1 -0.1)\">\n       <defs>\n        <path d=\"M 691 4666 \nL 3169 4666 \nL 3169 4134 \nL 1269 4134 \nL 1269 2991 \nQ 1406 3038 1543 3061 \nQ 1681 3084 1819 3084 \nQ 2600 3084 3056 2656 \nQ 3513 2228 3513 1497 \nQ 3513 744 3044 326 \nQ 2575 -91 1722 -91 \nQ 1428 -91 1123 -41 \nQ 819 9 494 109 \nL 494 744 \nQ 775 591 1075 516 \nQ 1375 441 1709 441 \nQ 2250 441 2565 725 \nQ 2881 1009 2881 1497 \nQ 2881 1984 2565 2268 \nQ 2250 2553 1709 2553 \nQ 1456 2553 1204 2497 \nQ 953 2441 691 2322 \nL 691 4666 \nz\n\" id=\"DejaVuSans-35\" transform=\"scale(0.015625)\"/>\n       </defs>\n       <use xlink:href=\"#DejaVuSans-2212\"/>\n       <use x=\"83.789062\" xlink:href=\"#DejaVuSans-30\"/>\n       <use x=\"147.412109\" xlink:href=\"#DejaVuSans-2e\"/>\n       <use x=\"179.199219\" xlink:href=\"#DejaVuSans-35\"/>\n      </g>\n     </g>\n    </g>\n    <g id=\"xtick_3\">\n     <g id=\"text_3\">\n      <!-- 0.0 -->\n      <g style=\"fill:#262626;\" transform=\"translate(206.236004 269.511319)rotate(-45)scale(0.1 -0.1)\">\n       <use xlink:href=\"#DejaVuSans-30\"/>\n       <use x=\"63.623047\" xlink:href=\"#DejaVuSans-2e\"/>\n       <use x=\"95.410156\" xlink:href=\"#DejaVuSans-30\"/>\n      </g>\n     </g>\n    </g>\n    <g id=\"xtick_4\">\n     <g id=\"text_4\">\n      <!-- 0.5 -->\n      <g style=\"fill:#262626;\" transform=\"translate(270.230339 269.511319)rotate(-45)scale(0.1 -0.1)\">\n       <use xlink:href=\"#DejaVuSans-30\"/>\n       <use x=\"63.623047\" xlink:href=\"#DejaVuSans-2e\"/>\n       <use x=\"95.410156\" xlink:href=\"#DejaVuSans-35\"/>\n      </g>\n     </g>\n    </g>\n    <g id=\"xtick_5\">\n     <g id=\"text_5\">\n      <!-- 1.0 -->\n      <g style=\"fill:#262626;\" transform=\"translate(334.224674 269.511319)rotate(-45)scale(0.1 -0.1)\">\n       <use xlink:href=\"#DejaVuSans-31\"/>\n       <use x=\"63.623047\" xlink:href=\"#DejaVuSans-2e\"/>\n       <use x=\"95.410156\" xlink:href=\"#DejaVuSans-30\"/>\n      </g>\n     </g>\n    </g>\n    <g id=\"xtick_6\">\n     <g id=\"text_6\">\n      <!-- 1.5 -->\n      <g style=\"fill:#262626;\" transform=\"translate(398.219009 269.511319)rotate(-45)scale(0.1 -0.1)\">\n       <use xlink:href=\"#DejaVuSans-31\"/>\n       <use x=\"63.623047\" xlink:href=\"#DejaVuSans-2e\"/>\n       <use x=\"95.410156\" xlink:href=\"#DejaVuSans-35\"/>\n      </g>\n     </g>\n    </g>\n   </g>\n   <g id=\"matplotlib.axis_2\">\n    <g id=\"ytick_1\">\n     <g id=\"text_7\">\n      <!-- 0.0 -->\n      <g style=\"fill:#262626;\" transform=\"translate(24.896875 246.192423)scale(0.1 -0.1)\">\n       <use xlink:href=\"#DejaVuSans-30\"/>\n       <use x=\"63.623047\" xlink:href=\"#DejaVuSans-2e\"/>\n       <use x=\"95.410156\" xlink:href=\"#DejaVuSans-30\"/>\n      </g>\n     </g>\n    </g>\n    <g id=\"ytick_2\">\n     <g id=\"text_8\">\n      <!-- 0.2 -->\n      <g style=\"fill:#262626;\" transform=\"translate(24.896875 202.079432)scale(0.1 -0.1)\">\n       <defs>\n        <path d=\"M 1228 531 \nL 3431 531 \nL 3431 0 \nL 469 0 \nL 469 531 \nQ 828 903 1448 1529 \nQ 2069 2156 2228 2338 \nQ 2531 2678 2651 2914 \nQ 2772 3150 2772 3378 \nQ 2772 3750 2511 3984 \nQ 2250 4219 1831 4219 \nQ 1534 4219 1204 4116 \nQ 875 4013 500 3803 \nL 500 4441 \nQ 881 4594 1212 4672 \nQ 1544 4750 1819 4750 \nQ 2544 4750 2975 4387 \nQ 3406 4025 3406 3419 \nQ 3406 3131 3298 2873 \nQ 3191 2616 2906 2266 \nQ 2828 2175 2409 1742 \nQ 1991 1309 1228 531 \nz\n\" id=\"DejaVuSans-32\" transform=\"scale(0.015625)\"/>\n       </defs>\n       <use xlink:href=\"#DejaVuSans-30\"/>\n       <use x=\"63.623047\" xlink:href=\"#DejaVuSans-2e\"/>\n       <use x=\"95.410156\" xlink:href=\"#DejaVuSans-32\"/>\n      </g>\n     </g>\n    </g>\n    <g id=\"ytick_3\">\n     <g id=\"text_9\">\n      <!-- 0.4 -->\n      <g style=\"fill:#262626;\" transform=\"translate(24.896875 157.966441)scale(0.1 -0.1)\">\n       <defs>\n        <path d=\"M 2419 4116 \nL 825 1625 \nL 2419 1625 \nL 2419 4116 \nz\nM 2253 4666 \nL 3047 4666 \nL 3047 1625 \nL 3713 1625 \nL 3713 1100 \nL 3047 1100 \nL 3047 0 \nL 2419 0 \nL 2419 1100 \nL 313 1100 \nL 313 1709 \nL 2253 4666 \nz\n\" id=\"DejaVuSans-34\" transform=\"scale(0.015625)\"/>\n       </defs>\n       <use xlink:href=\"#DejaVuSans-30\"/>\n       <use x=\"63.623047\" xlink:href=\"#DejaVuSans-2e\"/>\n       <use x=\"95.410156\" xlink:href=\"#DejaVuSans-34\"/>\n      </g>\n     </g>\n    </g>\n    <g id=\"ytick_4\">\n     <g id=\"text_10\">\n      <!-- 0.6 -->\n      <g style=\"fill:#262626;\" transform=\"translate(24.896875 113.853449)scale(0.1 -0.1)\">\n       <defs>\n        <path d=\"M 2113 2584 \nQ 1688 2584 1439 2293 \nQ 1191 2003 1191 1497 \nQ 1191 994 1439 701 \nQ 1688 409 2113 409 \nQ 2538 409 2786 701 \nQ 3034 994 3034 1497 \nQ 3034 2003 2786 2293 \nQ 2538 2584 2113 2584 \nz\nM 3366 4563 \nL 3366 3988 \nQ 3128 4100 2886 4159 \nQ 2644 4219 2406 4219 \nQ 1781 4219 1451 3797 \nQ 1122 3375 1075 2522 \nQ 1259 2794 1537 2939 \nQ 1816 3084 2150 3084 \nQ 2853 3084 3261 2657 \nQ 3669 2231 3669 1497 \nQ 3669 778 3244 343 \nQ 2819 -91 2113 -91 \nQ 1303 -91 875 529 \nQ 447 1150 447 2328 \nQ 447 3434 972 4092 \nQ 1497 4750 2381 4750 \nQ 2619 4750 2861 4703 \nQ 3103 4656 3366 4563 \nz\n\" id=\"DejaVuSans-36\" transform=\"scale(0.015625)\"/>\n       </defs>\n       <use xlink:href=\"#DejaVuSans-30\"/>\n       <use x=\"63.623047\" xlink:href=\"#DejaVuSans-2e\"/>\n       <use x=\"95.410156\" xlink:href=\"#DejaVuSans-36\"/>\n      </g>\n     </g>\n    </g>\n    <g id=\"ytick_5\">\n     <g id=\"text_11\">\n      <!-- 0.8 -->\n      <g style=\"fill:#262626;\" transform=\"translate(24.896875 69.740458)scale(0.1 -0.1)\">\n       <defs>\n        <path d=\"M 2034 2216 \nQ 1584 2216 1326 1975 \nQ 1069 1734 1069 1313 \nQ 1069 891 1326 650 \nQ 1584 409 2034 409 \nQ 2484 409 2743 651 \nQ 3003 894 3003 1313 \nQ 3003 1734 2745 1975 \nQ 2488 2216 2034 2216 \nz\nM 1403 2484 \nQ 997 2584 770 2862 \nQ 544 3141 544 3541 \nQ 544 4100 942 4425 \nQ 1341 4750 2034 4750 \nQ 2731 4750 3128 4425 \nQ 3525 4100 3525 3541 \nQ 3525 3141 3298 2862 \nQ 3072 2584 2669 2484 \nQ 3125 2378 3379 2068 \nQ 3634 1759 3634 1313 \nQ 3634 634 3220 271 \nQ 2806 -91 2034 -91 \nQ 1263 -91 848 271 \nQ 434 634 434 1313 \nQ 434 1759 690 2068 \nQ 947 2378 1403 2484 \nz\nM 1172 3481 \nQ 1172 3119 1398 2916 \nQ 1625 2713 2034 2713 \nQ 2441 2713 2670 2916 \nQ 2900 3119 2900 3481 \nQ 2900 3844 2670 4047 \nQ 2441 4250 2034 4250 \nQ 1625 4250 1398 4047 \nQ 1172 3844 1172 3481 \nz\n\" id=\"DejaVuSans-38\" transform=\"scale(0.015625)\"/>\n       </defs>\n       <use xlink:href=\"#DejaVuSans-30\"/>\n       <use x=\"63.623047\" xlink:href=\"#DejaVuSans-2e\"/>\n       <use x=\"95.410156\" xlink:href=\"#DejaVuSans-38\"/>\n      </g>\n     </g>\n    </g>\n    <g id=\"ytick_6\">\n     <g id=\"text_12\">\n      <!-- 1.0 -->\n      <g style=\"fill:#262626;\" transform=\"translate(24.896875 25.627467)scale(0.1 -0.1)\">\n       <use xlink:href=\"#DejaVuSans-31\"/>\n       <use x=\"63.623047\" xlink:href=\"#DejaVuSans-2e\"/>\n       <use x=\"95.410156\" xlink:href=\"#DejaVuSans-30\"/>\n      </g>\n     </g>\n    </g>\n    <g id=\"text_13\">\n     <!-- Frequency -->\n     <g style=\"fill:#262626;\" transform=\"translate(18.609219 155.009258)rotate(-90)scale(0.11 -0.11)\">\n      <defs>\n       <path d=\"M 628 4666 \nL 3309 4666 \nL 3309 4134 \nL 1259 4134 \nL 1259 2759 \nL 3109 2759 \nL 3109 2228 \nL 1259 2228 \nL 1259 0 \nL 628 0 \nL 628 4666 \nz\n\" id=\"DejaVuSans-46\" transform=\"scale(0.015625)\"/>\n       <path d=\"M 2631 2963 \nQ 2534 3019 2420 3045 \nQ 2306 3072 2169 3072 \nQ 1681 3072 1420 2755 \nQ 1159 2438 1159 1844 \nL 1159 0 \nL 581 0 \nL 581 3500 \nL 1159 3500 \nL 1159 2956 \nQ 1341 3275 1631 3429 \nQ 1922 3584 2338 3584 \nQ 2397 3584 2469 3576 \nQ 2541 3569 2628 3553 \nL 2631 2963 \nz\n\" id=\"DejaVuSans-72\" transform=\"scale(0.015625)\"/>\n       <path d=\"M 3597 1894 \nL 3597 1613 \nL 953 1613 \nQ 991 1019 1311 708 \nQ 1631 397 2203 397 \nQ 2534 397 2845 478 \nQ 3156 559 3463 722 \nL 3463 178 \nQ 3153 47 2828 -22 \nQ 2503 -91 2169 -91 \nQ 1331 -91 842 396 \nQ 353 884 353 1716 \nQ 353 2575 817 3079 \nQ 1281 3584 2069 3584 \nQ 2775 3584 3186 3129 \nQ 3597 2675 3597 1894 \nz\nM 3022 2063 \nQ 3016 2534 2758 2815 \nQ 2500 3097 2075 3097 \nQ 1594 3097 1305 2825 \nQ 1016 2553 972 2059 \nL 3022 2063 \nz\n\" id=\"DejaVuSans-65\" transform=\"scale(0.015625)\"/>\n       <path d=\"M 947 1747 \nQ 947 1113 1208 752 \nQ 1469 391 1925 391 \nQ 2381 391 2643 752 \nQ 2906 1113 2906 1747 \nQ 2906 2381 2643 2742 \nQ 2381 3103 1925 3103 \nQ 1469 3103 1208 2742 \nQ 947 2381 947 1747 \nz\nM 2906 525 \nQ 2725 213 2448 61 \nQ 2172 -91 1784 -91 \nQ 1150 -91 751 415 \nQ 353 922 353 1747 \nQ 353 2572 751 3078 \nQ 1150 3584 1784 3584 \nQ 2172 3584 2448 3432 \nQ 2725 3281 2906 2969 \nL 2906 3500 \nL 3481 3500 \nL 3481 -1331 \nL 2906 -1331 \nL 2906 525 \nz\n\" id=\"DejaVuSans-71\" transform=\"scale(0.015625)\"/>\n       <path d=\"M 544 1381 \nL 544 3500 \nL 1119 3500 \nL 1119 1403 \nQ 1119 906 1312 657 \nQ 1506 409 1894 409 \nQ 2359 409 2629 706 \nQ 2900 1003 2900 1516 \nL 2900 3500 \nL 3475 3500 \nL 3475 0 \nL 2900 0 \nL 2900 538 \nQ 2691 219 2414 64 \nQ 2138 -91 1772 -91 \nQ 1169 -91 856 284 \nQ 544 659 544 1381 \nz\nM 1991 3584 \nL 1991 3584 \nz\n\" id=\"DejaVuSans-75\" transform=\"scale(0.015625)\"/>\n       <path d=\"M 3513 2113 \nL 3513 0 \nL 2938 0 \nL 2938 2094 \nQ 2938 2591 2744 2837 \nQ 2550 3084 2163 3084 \nQ 1697 3084 1428 2787 \nQ 1159 2491 1159 1978 \nL 1159 0 \nL 581 0 \nL 581 3500 \nL 1159 3500 \nL 1159 2956 \nQ 1366 3272 1645 3428 \nQ 1925 3584 2291 3584 \nQ 2894 3584 3203 3211 \nQ 3513 2838 3513 2113 \nz\n\" id=\"DejaVuSans-6e\" transform=\"scale(0.015625)\"/>\n       <path d=\"M 3122 3366 \nL 3122 2828 \nQ 2878 2963 2633 3030 \nQ 2388 3097 2138 3097 \nQ 1578 3097 1268 2742 \nQ 959 2388 959 1747 \nQ 959 1106 1268 751 \nQ 1578 397 2138 397 \nQ 2388 397 2633 464 \nQ 2878 531 3122 666 \nL 3122 134 \nQ 2881 22 2623 -34 \nQ 2366 -91 2075 -91 \nQ 1284 -91 818 406 \nQ 353 903 353 1747 \nQ 353 2603 823 3093 \nQ 1294 3584 2113 3584 \nQ 2378 3584 2631 3529 \nQ 2884 3475 3122 3366 \nz\n\" id=\"DejaVuSans-63\" transform=\"scale(0.015625)\"/>\n       <path d=\"M 2059 -325 \nQ 1816 -950 1584 -1140 \nQ 1353 -1331 966 -1331 \nL 506 -1331 \nL 506 -850 \nL 844 -850 \nQ 1081 -850 1212 -737 \nQ 1344 -625 1503 -206 \nL 1606 56 \nL 191 3500 \nL 800 3500 \nL 1894 763 \nL 2988 3500 \nL 3597 3500 \nL 2059 -325 \nz\n\" id=\"DejaVuSans-79\" transform=\"scale(0.015625)\"/>\n      </defs>\n      <use xlink:href=\"#DejaVuSans-46\"/>\n      <use x=\"50.269531\" xlink:href=\"#DejaVuSans-72\"/>\n      <use x=\"89.132812\" xlink:href=\"#DejaVuSans-65\"/>\n      <use x=\"150.65625\" xlink:href=\"#DejaVuSans-71\"/>\n      <use x=\"214.132812\" xlink:href=\"#DejaVuSans-75\"/>\n      <use x=\"277.511719\" xlink:href=\"#DejaVuSans-65\"/>\n      <use x=\"339.035156\" xlink:href=\"#DejaVuSans-6e\"/>\n      <use x=\"402.414062\" xlink:href=\"#DejaVuSans-63\"/>\n      <use x=\"457.394531\" xlink:href=\"#DejaVuSans-79\"/>\n     </g>\n    </g>\n   </g>\n   <g id=\"patch_3\">\n    <path clip-path=\"url(#pe2d927d857)\" d=\"M 68.113636 242.393204 \nL 124.159091 242.393204 \nL 124.159091 21.828248 \nL 68.113636 21.828248 \nz\n\" style=\"fill:#337ab7;stroke:#ffffff;stroke-linejoin:miter;stroke-width:0.3;\"/>\n   </g>\n   <g id=\"patch_4\">\n    <path clip-path=\"url(#pe2d927d857)\" d=\"M 124.159091 242.393204 \nL 180.204545 242.393204 \nL 180.204545 21.828248 \nL 124.159091 21.828248 \nz\n\" style=\"fill:#337ab7;stroke:#ffffff;stroke-linejoin:miter;stroke-width:0.3;\"/>\n   </g>\n   <g id=\"patch_5\">\n    <path clip-path=\"url(#pe2d927d857)\" d=\"M 180.204545 242.393204 \nL 236.25 242.393204 \nL 236.25 21.828248 \nL 180.204545 21.828248 \nz\n\" style=\"fill:#337ab7;stroke:#ffffff;stroke-linejoin:miter;stroke-width:0.3;\"/>\n   </g>\n   <g id=\"patch_6\">\n    <path clip-path=\"url(#pe2d927d857)\" d=\"M 236.25 242.393204 \nL 292.295455 242.393204 \nL 292.295455 21.828248 \nL 236.25 21.828248 \nz\n\" style=\"fill:#337ab7;stroke:#ffffff;stroke-linejoin:miter;stroke-width:0.3;\"/>\n   </g>\n   <g id=\"patch_7\">\n    <path clip-path=\"url(#pe2d927d857)\" d=\"M 292.295455 242.393204 \nL 348.340909 242.393204 \nL 348.340909 21.828248 \nL 292.295455 21.828248 \nz\n\" style=\"fill:#337ab7;stroke:#ffffff;stroke-linejoin:miter;stroke-width:0.3;\"/>\n   </g>\n   <g id=\"patch_8\">\n    <path clip-path=\"url(#pe2d927d857)\" d=\"M 348.340909 242.393204 \nL 404.386364 242.393204 \nL 404.386364 21.828248 \nL 348.340909 21.828248 \nz\n\" style=\"fill:#337ab7;stroke:#ffffff;stroke-linejoin:miter;stroke-width:0.3;\"/>\n   </g>\n   <g id=\"patch_9\">\n    <path d=\"M 51.3 242.393204 \nL 51.3 10.8 \n\" style=\"fill:none;\"/>\n   </g>\n   <g id=\"patch_10\">\n    <path d=\"M 421.2 242.393204 \nL 421.2 10.8 \n\" style=\"fill:none;\"/>\n   </g>\n   <g id=\"patch_11\">\n    <path d=\"M 51.3 242.393204 \nL 421.2 242.393204 \n\" style=\"fill:none;\"/>\n   </g>\n   <g id=\"patch_12\">\n    <path d=\"M 51.3 10.8 \nL 421.2 10.8 \n\" style=\"fill:none;\"/>\n   </g>\n  </g>\n </g>\n <defs>\n  <clipPath id=\"pe2d927d857\">\n   <rect height=\"231.593204\" width=\"369.9\" x=\"51.3\" y=\"10.8\"/>\n  </clipPath>\n </defs>\n</svg>\n"
      }
     },
     "eb86b09ae5c14dc9b2fbea8746d06e5c": {
      "model_module": "@jupyter-widgets/base",
      "model_module_version": "1.2.0",
      "model_name": "LayoutModel",
      "state": {
       "grid_area": "widget002"
      }
     },
     "eb932a5d1a7f43f8bc4015eaa28c4304": {
      "model_module": "@jupyter-widgets/controls",
      "model_module_version": "1.5.0",
      "model_name": "HTMLModel",
      "state": {
       "layout": "IPY_MODEL_48ea918c5f7c4b49a9ca90da6ae33019",
       "style": "IPY_MODEL_ba6c20b41ffb4ffcae873f11d9cd11f8",
       "value": "<?xml version=\"1.0\" encoding=\"utf-8\" standalone=\"no\"?>\n<!DOCTYPE svg style=\"max-width: 100%\" PUBLIC \"-//W3C//DTD SVG 1.1//EN\"\n  \"http://www.w3.org/Graphics/SVG/1.1/DTD/svg11.dtd\">\n<svg style=\"max-width: 100%\"  version=\"1.1\" viewBox=\"0 0 432 288\" width=\"432pt\" xmlns=\"http://www.w3.org/2000/svg\" xmlns:xlink=\"http://www.w3.org/1999/xlink\">\n <metadata>\n  <rdf:RDF xmlns:cc=\"http://creativecommons.org/ns#\" xmlns:dc=\"http://purl.org/dc/elements/1.1/\" xmlns:rdf=\"http://www.w3.org/1999/02/22-rdf-syntax-ns#\">\n   <cc:Work>\n    <dc:type rdf:resource=\"http://purl.org/dc/dcmitype/StillImage\"/>\n    <dc:date>2022-10-01T17:17:58.592376</dc:date>\n    <dc:format>image/svg+xml</dc:format>\n    <dc:creator>\n     <cc:Agent>\n      <dc:title>Matplotlib v3.4.3, https://matplotlib.org/</dc:title>\n     </cc:Agent>\n    </dc:creator>\n   </cc:Work>\n  </rdf:RDF>\n </metadata>\n <defs>\n  <style type=\"text/css\">*{stroke-linecap:butt;stroke-linejoin:round;}</style>\n </defs>\n <g id=\"figure_1\">\n  <g id=\"patch_1\">\n   <path d=\"M 0 288 \nL 432 288 \nL 432 0 \nL 0 0 \nz\n\" style=\"fill:#ffffff;\"/>\n  </g>\n  <g id=\"axes_1\">\n   <g id=\"patch_2\">\n    <path d=\"M 51.3 160.575 \nL 421.2 160.575 \nL 421.2 10.8 \nL 51.3 10.8 \nz\n\" style=\"fill:#ffffff;\"/>\n   </g>\n   <g id=\"matplotlib.axis_1\">\n    <g id=\"xtick_1\">\n     <g id=\"text_1\">\n      <!-- 2022-02-03 15:53:20 -->\n      <g style=\"fill:#262626;\" transform=\"translate(105.641951 277.28125)rotate(-90)scale(0.1 -0.1)\">\n       <defs>\n        <path d=\"M 1228 531 \nL 3431 531 \nL 3431 0 \nL 469 0 \nL 469 531 \nQ 828 903 1448 1529 \nQ 2069 2156 2228 2338 \nQ 2531 2678 2651 2914 \nQ 2772 3150 2772 3378 \nQ 2772 3750 2511 3984 \nQ 2250 4219 1831 4219 \nQ 1534 4219 1204 4116 \nQ 875 4013 500 3803 \nL 500 4441 \nQ 881 4594 1212 4672 \nQ 1544 4750 1819 4750 \nQ 2544 4750 2975 4387 \nQ 3406 4025 3406 3419 \nQ 3406 3131 3298 2873 \nQ 3191 2616 2906 2266 \nQ 2828 2175 2409 1742 \nQ 1991 1309 1228 531 \nz\n\" id=\"DejaVuSans-32\" transform=\"scale(0.015625)\"/>\n        <path d=\"M 2034 4250 \nQ 1547 4250 1301 3770 \nQ 1056 3291 1056 2328 \nQ 1056 1369 1301 889 \nQ 1547 409 2034 409 \nQ 2525 409 2770 889 \nQ 3016 1369 3016 2328 \nQ 3016 3291 2770 3770 \nQ 2525 4250 2034 4250 \nz\nM 2034 4750 \nQ 2819 4750 3233 4129 \nQ 3647 3509 3647 2328 \nQ 3647 1150 3233 529 \nQ 2819 -91 2034 -91 \nQ 1250 -91 836 529 \nQ 422 1150 422 2328 \nQ 422 3509 836 4129 \nQ 1250 4750 2034 4750 \nz\n\" id=\"DejaVuSans-30\" transform=\"scale(0.015625)\"/>\n        <path d=\"M 313 2009 \nL 1997 2009 \nL 1997 1497 \nL 313 1497 \nL 313 2009 \nz\n\" id=\"DejaVuSans-2d\" transform=\"scale(0.015625)\"/>\n        <path d=\"M 2597 2516 \nQ 3050 2419 3304 2112 \nQ 3559 1806 3559 1356 \nQ 3559 666 3084 287 \nQ 2609 -91 1734 -91 \nQ 1441 -91 1130 -33 \nQ 819 25 488 141 \nL 488 750 \nQ 750 597 1062 519 \nQ 1375 441 1716 441 \nQ 2309 441 2620 675 \nQ 2931 909 2931 1356 \nQ 2931 1769 2642 2001 \nQ 2353 2234 1838 2234 \nL 1294 2234 \nL 1294 2753 \nL 1863 2753 \nQ 2328 2753 2575 2939 \nQ 2822 3125 2822 3475 \nQ 2822 3834 2567 4026 \nQ 2313 4219 1838 4219 \nQ 1578 4219 1281 4162 \nQ 984 4106 628 3988 \nL 628 4550 \nQ 988 4650 1302 4700 \nQ 1616 4750 1894 4750 \nQ 2613 4750 3031 4423 \nQ 3450 4097 3450 3541 \nQ 3450 3153 3228 2886 \nQ 3006 2619 2597 2516 \nz\n\" id=\"DejaVuSans-33\" transform=\"scale(0.015625)\"/>\n        <path id=\"DejaVuSans-20\" transform=\"scale(0.015625)\"/>\n        <path d=\"M 794 531 \nL 1825 531 \nL 1825 4091 \nL 703 3866 \nL 703 4441 \nL 1819 4666 \nL 2450 4666 \nL 2450 531 \nL 3481 531 \nL 3481 0 \nL 794 0 \nL 794 531 \nz\n\" id=\"DejaVuSans-31\" transform=\"scale(0.015625)\"/>\n        <path d=\"M 691 4666 \nL 3169 4666 \nL 3169 4134 \nL 1269 4134 \nL 1269 2991 \nQ 1406 3038 1543 3061 \nQ 1681 3084 1819 3084 \nQ 2600 3084 3056 2656 \nQ 3513 2228 3513 1497 \nQ 3513 744 3044 326 \nQ 2575 -91 1722 -91 \nQ 1428 -91 1123 -41 \nQ 819 9 494 109 \nL 494 744 \nQ 775 591 1075 516 \nQ 1375 441 1709 441 \nQ 2250 441 2565 725 \nQ 2881 1009 2881 1497 \nQ 2881 1984 2565 2268 \nQ 2250 2553 1709 2553 \nQ 1456 2553 1204 2497 \nQ 953 2441 691 2322 \nL 691 4666 \nz\n\" id=\"DejaVuSans-35\" transform=\"scale(0.015625)\"/>\n        <path d=\"M 750 794 \nL 1409 794 \nL 1409 0 \nL 750 0 \nL 750 794 \nz\nM 750 3309 \nL 1409 3309 \nL 1409 2516 \nL 750 2516 \nL 750 3309 \nz\n\" id=\"DejaVuSans-3a\" transform=\"scale(0.015625)\"/>\n       </defs>\n       <use xlink:href=\"#DejaVuSans-32\"/>\n       <use x=\"63.623047\" xlink:href=\"#DejaVuSans-30\"/>\n       <use x=\"127.246094\" xlink:href=\"#DejaVuSans-32\"/>\n       <use x=\"190.869141\" xlink:href=\"#DejaVuSans-32\"/>\n       <use x=\"254.492188\" xlink:href=\"#DejaVuSans-2d\"/>\n       <use x=\"290.576172\" xlink:href=\"#DejaVuSans-30\"/>\n       <use x=\"354.199219\" xlink:href=\"#DejaVuSans-32\"/>\n       <use x=\"417.822266\" xlink:href=\"#DejaVuSans-2d\"/>\n       <use x=\"453.90625\" xlink:href=\"#DejaVuSans-30\"/>\n       <use x=\"517.529297\" xlink:href=\"#DejaVuSans-33\"/>\n       <use x=\"581.152344\" xlink:href=\"#DejaVuSans-20\"/>\n       <use x=\"612.939453\" xlink:href=\"#DejaVuSans-31\"/>\n       <use x=\"676.5625\" xlink:href=\"#DejaVuSans-35\"/>\n       <use x=\"740.185547\" xlink:href=\"#DejaVuSans-3a\"/>\n       <use x=\"773.876953\" xlink:href=\"#DejaVuSans-35\"/>\n       <use x=\"837.5\" xlink:href=\"#DejaVuSans-33\"/>\n       <use x=\"901.123047\" xlink:href=\"#DejaVuSans-3a\"/>\n       <use x=\"934.814453\" xlink:href=\"#DejaVuSans-32\"/>\n       <use x=\"998.4375\" xlink:href=\"#DejaVuSans-30\"/>\n      </g>\n     </g>\n    </g>\n    <g id=\"xtick_2\">\n     <g id=\"text_2\">\n      <!-- 2022-02-04 19:40:00 -->\n      <g style=\"fill:#262626;\" transform=\"translate(170.509375 277.28125)rotate(-90)scale(0.1 -0.1)\">\n       <defs>\n        <path d=\"M 2419 4116 \nL 825 1625 \nL 2419 1625 \nL 2419 4116 \nz\nM 2253 4666 \nL 3047 4666 \nL 3047 1625 \nL 3713 1625 \nL 3713 1100 \nL 3047 1100 \nL 3047 0 \nL 2419 0 \nL 2419 1100 \nL 313 1100 \nL 313 1709 \nL 2253 4666 \nz\n\" id=\"DejaVuSans-34\" transform=\"scale(0.015625)\"/>\n        <path d=\"M 703 97 \nL 703 672 \nQ 941 559 1184 500 \nQ 1428 441 1663 441 \nQ 2288 441 2617 861 \nQ 2947 1281 2994 2138 \nQ 2813 1869 2534 1725 \nQ 2256 1581 1919 1581 \nQ 1219 1581 811 2004 \nQ 403 2428 403 3163 \nQ 403 3881 828 4315 \nQ 1253 4750 1959 4750 \nQ 2769 4750 3195 4129 \nQ 3622 3509 3622 2328 \nQ 3622 1225 3098 567 \nQ 2575 -91 1691 -91 \nQ 1453 -91 1209 -44 \nQ 966 3 703 97 \nz\nM 1959 2075 \nQ 2384 2075 2632 2365 \nQ 2881 2656 2881 3163 \nQ 2881 3666 2632 3958 \nQ 2384 4250 1959 4250 \nQ 1534 4250 1286 3958 \nQ 1038 3666 1038 3163 \nQ 1038 2656 1286 2365 \nQ 1534 2075 1959 2075 \nz\n\" id=\"DejaVuSans-39\" transform=\"scale(0.015625)\"/>\n       </defs>\n       <use xlink:href=\"#DejaVuSans-32\"/>\n       <use x=\"63.623047\" xlink:href=\"#DejaVuSans-30\"/>\n       <use x=\"127.246094\" xlink:href=\"#DejaVuSans-32\"/>\n       <use x=\"190.869141\" xlink:href=\"#DejaVuSans-32\"/>\n       <use x=\"254.492188\" xlink:href=\"#DejaVuSans-2d\"/>\n       <use x=\"290.576172\" xlink:href=\"#DejaVuSans-30\"/>\n       <use x=\"354.199219\" xlink:href=\"#DejaVuSans-32\"/>\n       <use x=\"417.822266\" xlink:href=\"#DejaVuSans-2d\"/>\n       <use x=\"453.90625\" xlink:href=\"#DejaVuSans-30\"/>\n       <use x=\"517.529297\" xlink:href=\"#DejaVuSans-34\"/>\n       <use x=\"581.152344\" xlink:href=\"#DejaVuSans-20\"/>\n       <use x=\"612.939453\" xlink:href=\"#DejaVuSans-31\"/>\n       <use x=\"676.5625\" xlink:href=\"#DejaVuSans-39\"/>\n       <use x=\"740.185547\" xlink:href=\"#DejaVuSans-3a\"/>\n       <use x=\"773.876953\" xlink:href=\"#DejaVuSans-34\"/>\n       <use x=\"837.5\" xlink:href=\"#DejaVuSans-30\"/>\n       <use x=\"901.123047\" xlink:href=\"#DejaVuSans-3a\"/>\n       <use x=\"934.814453\" xlink:href=\"#DejaVuSans-30\"/>\n       <use x=\"998.4375\" xlink:href=\"#DejaVuSans-30\"/>\n      </g>\n     </g>\n    </g>\n    <g id=\"xtick_3\">\n     <g id=\"text_3\">\n      <!-- 2022-02-05 23:26:40 -->\n      <g style=\"fill:#262626;\" transform=\"translate(235.376799 277.28125)rotate(-90)scale(0.1 -0.1)\">\n       <defs>\n        <path d=\"M 2113 2584 \nQ 1688 2584 1439 2293 \nQ 1191 2003 1191 1497 \nQ 1191 994 1439 701 \nQ 1688 409 2113 409 \nQ 2538 409 2786 701 \nQ 3034 994 3034 1497 \nQ 3034 2003 2786 2293 \nQ 2538 2584 2113 2584 \nz\nM 3366 4563 \nL 3366 3988 \nQ 3128 4100 2886 4159 \nQ 2644 4219 2406 4219 \nQ 1781 4219 1451 3797 \nQ 1122 3375 1075 2522 \nQ 1259 2794 1537 2939 \nQ 1816 3084 2150 3084 \nQ 2853 3084 3261 2657 \nQ 3669 2231 3669 1497 \nQ 3669 778 3244 343 \nQ 2819 -91 2113 -91 \nQ 1303 -91 875 529 \nQ 447 1150 447 2328 \nQ 447 3434 972 4092 \nQ 1497 4750 2381 4750 \nQ 2619 4750 2861 4703 \nQ 3103 4656 3366 4563 \nz\n\" id=\"DejaVuSans-36\" transform=\"scale(0.015625)\"/>\n       </defs>\n       <use xlink:href=\"#DejaVuSans-32\"/>\n       <use x=\"63.623047\" xlink:href=\"#DejaVuSans-30\"/>\n       <use x=\"127.246094\" xlink:href=\"#DejaVuSans-32\"/>\n       <use x=\"190.869141\" xlink:href=\"#DejaVuSans-32\"/>\n       <use x=\"254.492188\" xlink:href=\"#DejaVuSans-2d\"/>\n       <use x=\"290.576172\" xlink:href=\"#DejaVuSans-30\"/>\n       <use x=\"354.199219\" xlink:href=\"#DejaVuSans-32\"/>\n       <use x=\"417.822266\" xlink:href=\"#DejaVuSans-2d\"/>\n       <use x=\"453.90625\" xlink:href=\"#DejaVuSans-30\"/>\n       <use x=\"517.529297\" xlink:href=\"#DejaVuSans-35\"/>\n       <use x=\"581.152344\" xlink:href=\"#DejaVuSans-20\"/>\n       <use x=\"612.939453\" xlink:href=\"#DejaVuSans-32\"/>\n       <use x=\"676.5625\" xlink:href=\"#DejaVuSans-33\"/>\n       <use x=\"740.185547\" xlink:href=\"#DejaVuSans-3a\"/>\n       <use x=\"773.876953\" xlink:href=\"#DejaVuSans-32\"/>\n       <use x=\"837.5\" xlink:href=\"#DejaVuSans-36\"/>\n       <use x=\"901.123047\" xlink:href=\"#DejaVuSans-3a\"/>\n       <use x=\"934.814453\" xlink:href=\"#DejaVuSans-34\"/>\n       <use x=\"998.4375\" xlink:href=\"#DejaVuSans-30\"/>\n      </g>\n     </g>\n    </g>\n    <g id=\"xtick_4\">\n     <g id=\"text_4\">\n      <!-- 2022-02-07 03:13:20 -->\n      <g style=\"fill:#262626;\" transform=\"translate(300.244223 277.28125)rotate(-90)scale(0.1 -0.1)\">\n       <defs>\n        <path d=\"M 525 4666 \nL 3525 4666 \nL 3525 4397 \nL 1831 0 \nL 1172 0 \nL 2766 4134 \nL 525 4134 \nL 525 4666 \nz\n\" id=\"DejaVuSans-37\" transform=\"scale(0.015625)\"/>\n       </defs>\n       <use xlink:href=\"#DejaVuSans-32\"/>\n       <use x=\"63.623047\" xlink:href=\"#DejaVuSans-30\"/>\n       <use x=\"127.246094\" xlink:href=\"#DejaVuSans-32\"/>\n       <use x=\"190.869141\" xlink:href=\"#DejaVuSans-32\"/>\n       <use x=\"254.492188\" xlink:href=\"#DejaVuSans-2d\"/>\n       <use x=\"290.576172\" xlink:href=\"#DejaVuSans-30\"/>\n       <use x=\"354.199219\" xlink:href=\"#DejaVuSans-32\"/>\n       <use x=\"417.822266\" xlink:href=\"#DejaVuSans-2d\"/>\n       <use x=\"453.90625\" xlink:href=\"#DejaVuSans-30\"/>\n       <use x=\"517.529297\" xlink:href=\"#DejaVuSans-37\"/>\n       <use x=\"581.152344\" xlink:href=\"#DejaVuSans-20\"/>\n       <use x=\"612.939453\" xlink:href=\"#DejaVuSans-30\"/>\n       <use x=\"676.5625\" xlink:href=\"#DejaVuSans-33\"/>\n       <use x=\"740.185547\" xlink:href=\"#DejaVuSans-3a\"/>\n       <use x=\"773.876953\" xlink:href=\"#DejaVuSans-31\"/>\n       <use x=\"837.5\" xlink:href=\"#DejaVuSans-33\"/>\n       <use x=\"901.123047\" xlink:href=\"#DejaVuSans-3a\"/>\n       <use x=\"934.814453\" xlink:href=\"#DejaVuSans-32\"/>\n       <use x=\"998.4375\" xlink:href=\"#DejaVuSans-30\"/>\n      </g>\n     </g>\n    </g>\n    <g id=\"xtick_5\">\n     <g id=\"text_5\">\n      <!-- 2022-02-08 07:00:00 -->\n      <g style=\"fill:#262626;\" transform=\"translate(365.111648 277.28125)rotate(-90)scale(0.1 -0.1)\">\n       <defs>\n        <path d=\"M 2034 2216 \nQ 1584 2216 1326 1975 \nQ 1069 1734 1069 1313 \nQ 1069 891 1326 650 \nQ 1584 409 2034 409 \nQ 2484 409 2743 651 \nQ 3003 894 3003 1313 \nQ 3003 1734 2745 1975 \nQ 2488 2216 2034 2216 \nz\nM 1403 2484 \nQ 997 2584 770 2862 \nQ 544 3141 544 3541 \nQ 544 4100 942 4425 \nQ 1341 4750 2034 4750 \nQ 2731 4750 3128 4425 \nQ 3525 4100 3525 3541 \nQ 3525 3141 3298 2862 \nQ 3072 2584 2669 2484 \nQ 3125 2378 3379 2068 \nQ 3634 1759 3634 1313 \nQ 3634 634 3220 271 \nQ 2806 -91 2034 -91 \nQ 1263 -91 848 271 \nQ 434 634 434 1313 \nQ 434 1759 690 2068 \nQ 947 2378 1403 2484 \nz\nM 1172 3481 \nQ 1172 3119 1398 2916 \nQ 1625 2713 2034 2713 \nQ 2441 2713 2670 2916 \nQ 2900 3119 2900 3481 \nQ 2900 3844 2670 4047 \nQ 2441 4250 2034 4250 \nQ 1625 4250 1398 4047 \nQ 1172 3844 1172 3481 \nz\n\" id=\"DejaVuSans-38\" transform=\"scale(0.015625)\"/>\n       </defs>\n       <use xlink:href=\"#DejaVuSans-32\"/>\n       <use x=\"63.623047\" xlink:href=\"#DejaVuSans-30\"/>\n       <use x=\"127.246094\" xlink:href=\"#DejaVuSans-32\"/>\n       <use x=\"190.869141\" xlink:href=\"#DejaVuSans-32\"/>\n       <use x=\"254.492188\" xlink:href=\"#DejaVuSans-2d\"/>\n       <use x=\"290.576172\" xlink:href=\"#DejaVuSans-30\"/>\n       <use x=\"354.199219\" xlink:href=\"#DejaVuSans-32\"/>\n       <use x=\"417.822266\" xlink:href=\"#DejaVuSans-2d\"/>\n       <use x=\"453.90625\" xlink:href=\"#DejaVuSans-30\"/>\n       <use x=\"517.529297\" xlink:href=\"#DejaVuSans-38\"/>\n       <use x=\"581.152344\" xlink:href=\"#DejaVuSans-20\"/>\n       <use x=\"612.939453\" xlink:href=\"#DejaVuSans-30\"/>\n       <use x=\"676.5625\" xlink:href=\"#DejaVuSans-37\"/>\n       <use x=\"740.185547\" xlink:href=\"#DejaVuSans-3a\"/>\n       <use x=\"773.876953\" xlink:href=\"#DejaVuSans-30\"/>\n       <use x=\"837.5\" xlink:href=\"#DejaVuSans-30\"/>\n       <use x=\"901.123047\" xlink:href=\"#DejaVuSans-3a\"/>\n       <use x=\"934.814453\" xlink:href=\"#DejaVuSans-30\"/>\n       <use x=\"998.4375\" xlink:href=\"#DejaVuSans-30\"/>\n      </g>\n     </g>\n    </g>\n   </g>\n   <g id=\"matplotlib.axis_2\">\n    <g id=\"ytick_1\">\n     <g id=\"text_6\">\n      <!-- 0.0 -->\n      <g style=\"fill:#262626;\" transform=\"translate(24.896875 164.374219)scale(0.1 -0.1)\">\n       <defs>\n        <path d=\"M 684 794 \nL 1344 794 \nL 1344 0 \nL 684 0 \nL 684 794 \nz\n\" id=\"DejaVuSans-2e\" transform=\"scale(0.015625)\"/>\n       </defs>\n       <use xlink:href=\"#DejaVuSans-30\"/>\n       <use x=\"63.623047\" xlink:href=\"#DejaVuSans-2e\"/>\n       <use x=\"95.410156\" xlink:href=\"#DejaVuSans-30\"/>\n      </g>\n     </g>\n    </g>\n    <g id=\"ytick_2\">\n     <g id=\"text_7\">\n      <!-- 0.2 -->\n      <g style=\"fill:#262626;\" transform=\"translate(24.896875 135.845647)scale(0.1 -0.1)\">\n       <use xlink:href=\"#DejaVuSans-30\"/>\n       <use x=\"63.623047\" xlink:href=\"#DejaVuSans-2e\"/>\n       <use x=\"95.410156\" xlink:href=\"#DejaVuSans-32\"/>\n      </g>\n     </g>\n    </g>\n    <g id=\"ytick_3\">\n     <g id=\"text_8\">\n      <!-- 0.4 -->\n      <g style=\"fill:#262626;\" transform=\"translate(24.896875 107.317076)scale(0.1 -0.1)\">\n       <use xlink:href=\"#DejaVuSans-30\"/>\n       <use x=\"63.623047\" xlink:href=\"#DejaVuSans-2e\"/>\n       <use x=\"95.410156\" xlink:href=\"#DejaVuSans-34\"/>\n      </g>\n     </g>\n    </g>\n    <g id=\"ytick_4\">\n     <g id=\"text_9\">\n      <!-- 0.6 -->\n      <g style=\"fill:#262626;\" transform=\"translate(24.896875 78.788504)scale(0.1 -0.1)\">\n       <use xlink:href=\"#DejaVuSans-30\"/>\n       <use x=\"63.623047\" xlink:href=\"#DejaVuSans-2e\"/>\n       <use x=\"95.410156\" xlink:href=\"#DejaVuSans-36\"/>\n      </g>\n     </g>\n    </g>\n    <g id=\"ytick_5\">\n     <g id=\"text_10\">\n      <!-- 0.8 -->\n      <g style=\"fill:#262626;\" transform=\"translate(24.896875 50.259933)scale(0.1 -0.1)\">\n       <use xlink:href=\"#DejaVuSans-30\"/>\n       <use x=\"63.623047\" xlink:href=\"#DejaVuSans-2e\"/>\n       <use x=\"95.410156\" xlink:href=\"#DejaVuSans-38\"/>\n      </g>\n     </g>\n    </g>\n    <g id=\"ytick_6\">\n     <g id=\"text_11\">\n      <!-- 1.0 -->\n      <g style=\"fill:#262626;\" transform=\"translate(24.896875 21.731362)scale(0.1 -0.1)\">\n       <use xlink:href=\"#DejaVuSans-31\"/>\n       <use x=\"63.623047\" xlink:href=\"#DejaVuSans-2e\"/>\n       <use x=\"95.410156\" xlink:href=\"#DejaVuSans-30\"/>\n      </g>\n     </g>\n    </g>\n    <g id=\"text_12\">\n     <!-- Frequency -->\n     <g style=\"fill:#262626;\" transform=\"translate(18.609219 114.100156)rotate(-90)scale(0.11 -0.11)\">\n      <defs>\n       <path d=\"M 628 4666 \nL 3309 4666 \nL 3309 4134 \nL 1259 4134 \nL 1259 2759 \nL 3109 2759 \nL 3109 2228 \nL 1259 2228 \nL 1259 0 \nL 628 0 \nL 628 4666 \nz\n\" id=\"DejaVuSans-46\" transform=\"scale(0.015625)\"/>\n       <path d=\"M 2631 2963 \nQ 2534 3019 2420 3045 \nQ 2306 3072 2169 3072 \nQ 1681 3072 1420 2755 \nQ 1159 2438 1159 1844 \nL 1159 0 \nL 581 0 \nL 581 3500 \nL 1159 3500 \nL 1159 2956 \nQ 1341 3275 1631 3429 \nQ 1922 3584 2338 3584 \nQ 2397 3584 2469 3576 \nQ 2541 3569 2628 3553 \nL 2631 2963 \nz\n\" id=\"DejaVuSans-72\" transform=\"scale(0.015625)\"/>\n       <path d=\"M 3597 1894 \nL 3597 1613 \nL 953 1613 \nQ 991 1019 1311 708 \nQ 1631 397 2203 397 \nQ 2534 397 2845 478 \nQ 3156 559 3463 722 \nL 3463 178 \nQ 3153 47 2828 -22 \nQ 2503 -91 2169 -91 \nQ 1331 -91 842 396 \nQ 353 884 353 1716 \nQ 353 2575 817 3079 \nQ 1281 3584 2069 3584 \nQ 2775 3584 3186 3129 \nQ 3597 2675 3597 1894 \nz\nM 3022 2063 \nQ 3016 2534 2758 2815 \nQ 2500 3097 2075 3097 \nQ 1594 3097 1305 2825 \nQ 1016 2553 972 2059 \nL 3022 2063 \nz\n\" id=\"DejaVuSans-65\" transform=\"scale(0.015625)\"/>\n       <path d=\"M 947 1747 \nQ 947 1113 1208 752 \nQ 1469 391 1925 391 \nQ 2381 391 2643 752 \nQ 2906 1113 2906 1747 \nQ 2906 2381 2643 2742 \nQ 2381 3103 1925 3103 \nQ 1469 3103 1208 2742 \nQ 947 2381 947 1747 \nz\nM 2906 525 \nQ 2725 213 2448 61 \nQ 2172 -91 1784 -91 \nQ 1150 -91 751 415 \nQ 353 922 353 1747 \nQ 353 2572 751 3078 \nQ 1150 3584 1784 3584 \nQ 2172 3584 2448 3432 \nQ 2725 3281 2906 2969 \nL 2906 3500 \nL 3481 3500 \nL 3481 -1331 \nL 2906 -1331 \nL 2906 525 \nz\n\" id=\"DejaVuSans-71\" transform=\"scale(0.015625)\"/>\n       <path d=\"M 544 1381 \nL 544 3500 \nL 1119 3500 \nL 1119 1403 \nQ 1119 906 1312 657 \nQ 1506 409 1894 409 \nQ 2359 409 2629 706 \nQ 2900 1003 2900 1516 \nL 2900 3500 \nL 3475 3500 \nL 3475 0 \nL 2900 0 \nL 2900 538 \nQ 2691 219 2414 64 \nQ 2138 -91 1772 -91 \nQ 1169 -91 856 284 \nQ 544 659 544 1381 \nz\nM 1991 3584 \nL 1991 3584 \nz\n\" id=\"DejaVuSans-75\" transform=\"scale(0.015625)\"/>\n       <path d=\"M 3513 2113 \nL 3513 0 \nL 2938 0 \nL 2938 2094 \nQ 2938 2591 2744 2837 \nQ 2550 3084 2163 3084 \nQ 1697 3084 1428 2787 \nQ 1159 2491 1159 1978 \nL 1159 0 \nL 581 0 \nL 581 3500 \nL 1159 3500 \nL 1159 2956 \nQ 1366 3272 1645 3428 \nQ 1925 3584 2291 3584 \nQ 2894 3584 3203 3211 \nQ 3513 2838 3513 2113 \nz\n\" id=\"DejaVuSans-6e\" transform=\"scale(0.015625)\"/>\n       <path d=\"M 3122 3366 \nL 3122 2828 \nQ 2878 2963 2633 3030 \nQ 2388 3097 2138 3097 \nQ 1578 3097 1268 2742 \nQ 959 2388 959 1747 \nQ 959 1106 1268 751 \nQ 1578 397 2138 397 \nQ 2388 397 2633 464 \nQ 2878 531 3122 666 \nL 3122 134 \nQ 2881 22 2623 -34 \nQ 2366 -91 2075 -91 \nQ 1284 -91 818 406 \nQ 353 903 353 1747 \nQ 353 2603 823 3093 \nQ 1294 3584 2113 3584 \nQ 2378 3584 2631 3529 \nQ 2884 3475 3122 3366 \nz\n\" id=\"DejaVuSans-63\" transform=\"scale(0.015625)\"/>\n       <path d=\"M 2059 -325 \nQ 1816 -950 1584 -1140 \nQ 1353 -1331 966 -1331 \nL 506 -1331 \nL 506 -850 \nL 844 -850 \nQ 1081 -850 1212 -737 \nQ 1344 -625 1503 -206 \nL 1606 56 \nL 191 3500 \nL 800 3500 \nL 1894 763 \nL 2988 3500 \nL 3597 3500 \nL 2059 -325 \nz\n\" id=\"DejaVuSans-79\" transform=\"scale(0.015625)\"/>\n      </defs>\n      <use xlink:href=\"#DejaVuSans-46\"/>\n      <use x=\"50.269531\" xlink:href=\"#DejaVuSans-72\"/>\n      <use x=\"89.132812\" xlink:href=\"#DejaVuSans-65\"/>\n      <use x=\"150.65625\" xlink:href=\"#DejaVuSans-71\"/>\n      <use x=\"214.132812\" xlink:href=\"#DejaVuSans-75\"/>\n      <use x=\"277.511719\" xlink:href=\"#DejaVuSans-65\"/>\n      <use x=\"339.035156\" xlink:href=\"#DejaVuSans-6e\"/>\n      <use x=\"402.414062\" xlink:href=\"#DejaVuSans-63\"/>\n      <use x=\"457.394531\" xlink:href=\"#DejaVuSans-79\"/>\n     </g>\n    </g>\n   </g>\n   <g id=\"patch_3\">\n    <path clip-path=\"url(#p82637db1ca)\" d=\"M 68.113636 160.575 \nL 116.152597 160.575 \nL 116.152597 17.932143 \nL 68.113636 17.932143 \nz\n\" style=\"fill:#337ab7;stroke:#ffffff;stroke-linejoin:miter;stroke-width:0.3;\"/>\n   </g>\n   <g id=\"patch_4\">\n    <path clip-path=\"url(#p82637db1ca)\" d=\"M 116.152597 160.575 \nL 164.191558 160.575 \nL 164.191558 17.932143 \nL 116.152597 17.932143 \nz\n\" style=\"fill:#337ab7;stroke:#ffffff;stroke-linejoin:miter;stroke-width:0.3;\"/>\n   </g>\n   <g id=\"patch_5\">\n    <path clip-path=\"url(#p82637db1ca)\" d=\"M 164.191558 160.575 \nL 212.230519 160.575 \nL 212.230519 17.932143 \nL 164.191558 17.932143 \nz\n\" style=\"fill:#337ab7;stroke:#ffffff;stroke-linejoin:miter;stroke-width:0.3;\"/>\n   </g>\n   <g id=\"patch_6\">\n    <path clip-path=\"url(#p82637db1ca)\" d=\"M 212.230519 160.575 \nL 260.269481 160.575 \nL 260.269481 17.932143 \nL 212.230519 17.932143 \nz\n\" style=\"fill:#337ab7;stroke:#ffffff;stroke-linejoin:miter;stroke-width:0.3;\"/>\n   </g>\n   <g id=\"patch_7\">\n    <path clip-path=\"url(#p82637db1ca)\" d=\"M 260.269481 160.575 \nL 308.308442 160.575 \nL 308.308442 17.932143 \nL 260.269481 17.932143 \nz\n\" style=\"fill:#337ab7;stroke:#ffffff;stroke-linejoin:miter;stroke-width:0.3;\"/>\n   </g>\n   <g id=\"patch_8\">\n    <path clip-path=\"url(#p82637db1ca)\" d=\"M 308.308442 160.575 \nL 356.347403 160.575 \nL 356.347403 17.932143 \nL 308.308442 17.932143 \nz\n\" style=\"fill:#337ab7;stroke:#ffffff;stroke-linejoin:miter;stroke-width:0.3;\"/>\n   </g>\n   <g id=\"patch_9\">\n    <path clip-path=\"url(#p82637db1ca)\" d=\"M 356.347403 160.575 \nL 404.386364 160.575 \nL 404.386364 17.932143 \nL 356.347403 17.932143 \nz\n\" style=\"fill:#337ab7;stroke:#ffffff;stroke-linejoin:miter;stroke-width:0.3;\"/>\n   </g>\n   <g id=\"patch_10\">\n    <path d=\"M 51.3 160.575 \nL 51.3 10.8 \n\" style=\"fill:none;\"/>\n   </g>\n   <g id=\"patch_11\">\n    <path d=\"M 421.2 160.575 \nL 421.2 10.8 \n\" style=\"fill:none;\"/>\n   </g>\n   <g id=\"patch_12\">\n    <path d=\"M 51.3 160.575 \nL 421.2 160.575 \n\" style=\"fill:none;\"/>\n   </g>\n   <g id=\"patch_13\">\n    <path d=\"M 51.3 10.8 \nL 421.2 10.8 \n\" style=\"fill:none;\"/>\n   </g>\n  </g>\n </g>\n <defs>\n  <clipPath id=\"p82637db1ca\">\n   <rect height=\"149.775\" width=\"369.9\" x=\"51.3\" y=\"10.8\"/>\n  </clipPath>\n </defs>\n</svg>\n"
      }
     },
     "ebae9aa11d0e4385b5bdeff6ef772a37": {
      "model_module": "@jupyter-widgets/base",
      "model_module_version": "1.2.0",
      "model_name": "LayoutModel",
      "state": {}
     },
     "ebc00517f77347d6b54e29686bb92543": {
      "model_module": "@jupyter-widgets/base",
      "model_module_version": "1.2.0",
      "model_name": "LayoutModel",
      "state": {
       "grid_area": "widget002"
      }
     },
     "ebcdb34afa0140ce8411d6c740d4178e": {
      "model_module": "@jupyter-widgets/controls",
      "model_module_version": "1.5.0",
      "model_name": "DescriptionStyleModel",
      "state": {
       "description_width": ""
      }
     },
     "ec1b2c0463894c089be61ac97040040d": {
      "model_module": "@jupyter-widgets/controls",
      "model_module_version": "1.5.0",
      "model_name": "DescriptionStyleModel",
      "state": {
       "description_width": ""
      }
     },
     "ec3614952a424fefa04d6f50ddc3729b": {
      "model_module": "@jupyter-widgets/controls",
      "model_module_version": "1.5.0",
      "model_name": "FloatProgressModel",
      "state": {
       "layout": "IPY_MODEL_8a64e817c25d46c49ece1ebb9c2326d2",
       "max": 7,
       "style": "IPY_MODEL_e5066343f85f479db36e3d8af39e351b",
       "value": 1
      }
     },
     "ec610ea81d0542a9b9696ff39afdc813": {
      "model_module": "@jupyter-widgets/base",
      "model_module_version": "1.2.0",
      "model_name": "LayoutModel",
      "state": {
       "grid_area": "widget016"
      }
     },
     "ec6cead330de49d4a605d209cb049262": {
      "model_module": "@jupyter-widgets/controls",
      "model_module_version": "1.5.0",
      "model_name": "HTMLModel",
      "state": {
       "layout": "IPY_MODEL_070280e265d24fa3b58b8caf63f87356",
       "style": "IPY_MODEL_a59d3fe2af5a48e688ff619fe350cb06",
       "value": "-1.107862119"
      }
     },
     "ec94ac68e924423daf6db998601ddb1b": {
      "model_module": "@jupyter-widgets/controls",
      "model_module_version": "1.5.0",
      "model_name": "LabelModel",
      "state": {
       "layout": "IPY_MODEL_3a8d4f8eaaa748e2994f7579f52ec883",
       "style": "IPY_MODEL_086977f4b4634e5181434b3842b71ede",
       "value": "-1.1078621186901776"
      }
     },
     "ecc4435ae05a4e34b6892f6732623900": {
      "model_module": "@jupyter-widgets/controls",
      "model_module_version": "1.5.0",
      "model_name": "HTMLModel",
      "state": {
       "layout": "IPY_MODEL_9b8f54369ab94e3681893bcc548c5975",
       "style": "IPY_MODEL_e21bffd9ca004ffaa6259ce8e6a4796b",
       "value": "Total size in memory"
      }
     },
     "eccf2dfd5b32447e8ad89c5c164c6dc5": {
      "model_module": "@jupyter-widgets/base",
      "model_module_version": "1.2.0",
      "model_name": "LayoutModel",
      "state": {
       "grid_area": "widget007"
      }
     },
     "ed1e20dc81aa4c93bb682454beae8de8": {
      "model_module": "@jupyter-widgets/controls",
      "model_module_version": "1.5.0",
      "model_name": "LabelModel",
      "state": {
       "layout": "IPY_MODEL_273922baded741ab9d921106b97cd2ec",
       "style": "IPY_MODEL_6a628f876b044770ab264709fd540cce",
       "value": "1.5669919865182924"
      }
     },
     "ed2b9c83734c4b77a94e3df4e18c5a2f": {
      "model_module": "@jupyter-widgets/controls",
      "model_module_version": "1.5.0",
      "model_name": "HTMLModel",
      "state": {
       "layout": "IPY_MODEL_dedd025e2675407aa3407cd6c9c5f7d8",
       "style": "IPY_MODEL_f52693b72a034153aa1333b938f7fc88",
       "value": "0.0%"
      }
     },
     "ed35a9c3c5004143aeab6e454a8ca9a9": {
      "model_module": "@jupyter-widgets/base",
      "model_module_version": "1.2.0",
      "model_name": "LayoutModel",
      "state": {
       "grid_area": "widget015"
      }
     },
     "ed3e010a409645f0b3356f740ba4d29f": {
      "model_module": "@jupyter-widgets/controls",
      "model_module_version": "1.5.0",
      "model_name": "DescriptionStyleModel",
      "state": {
       "description_width": ""
      }
     },
     "ed3f4fb0c26042aab039dc5d6c14f409": {
      "model_module": "@jupyter-widgets/controls",
      "model_module_version": "1.5.0",
      "model_name": "ProgressStyleModel",
      "state": {
       "description_width": ""
      }
     },
     "ed5258b83b6d47da989960adbd1cb3c8": {
      "model_module": "@jupyter-widgets/base",
      "model_module_version": "1.2.0",
      "model_name": "LayoutModel",
      "state": {
       "grid_area": "widget012"
      }
     },
     "ed87f00004064f679c140360e0eb9fde": {
      "model_module": "@jupyter-widgets/controls",
      "model_module_version": "1.5.0",
      "model_name": "HBoxModel",
      "state": {
       "children": [
        "IPY_MODEL_e70113e6ba5e41e5b66ab4a7e534799a"
       ],
       "layout": "IPY_MODEL_a78e1ba8914841a4b6bab3db60697878"
      }
     },
     "edb612f619ff4b77be73a7ab4b225968": {
      "model_module": "@jupyter-widgets/controls",
      "model_module_version": "1.5.0",
      "model_name": "LabelModel",
      "state": {
       "layout": "IPY_MODEL_14ac00a13a4e42cd9e14274355e6af38",
       "style": "IPY_MODEL_e26479db97bb41d792d45c5a16aeb53b",
       "value": "-0.3453122060237242"
      }
     },
     "edd7d70bc86b429e9a1fa4cedb9a5864": {
      "model_module": "@jupyter-widgets/base",
      "model_module_version": "1.2.0",
      "model_name": "LayoutModel",
      "state": {
       "grid_area": "widget012"
      }
     },
     "ede83561cfe443328cf2bb099d64e617": {
      "model_module": "@jupyter-widgets/controls",
      "model_module_version": "1.5.0",
      "model_name": "DescriptionStyleModel",
      "state": {
       "description_width": ""
      }
     },
     "ee4a55743dce4503b09adc41e0ccc242": {
      "model_module": "@jupyter-widgets/controls",
      "model_module_version": "1.5.0",
      "model_name": "HTMLModel",
      "state": {
       "layout": "IPY_MODEL_36ef7308164b49cda17152f5b122eea6",
       "style": "IPY_MODEL_998f5df8c7dc4dde97f8b957f64337b9",
       "value": "6.169730584"
      }
     },
     "ee569ccf158f4360b5b4e8b3ed40cd47": {
      "model_module": "@jupyter-widgets/controls",
      "model_module_version": "1.5.0",
      "model_name": "DescriptionStyleModel",
      "state": {
       "description_width": ""
      }
     },
     "ee6ba86397f84fe9bc0a5d1cc4171721": {
      "model_module": "@jupyter-widgets/controls",
      "model_module_version": "1.5.0",
      "model_name": "LabelModel",
      "state": {
       "layout": "IPY_MODEL_5b355d9dd4724a89b0acb1f5be029900",
       "style": "IPY_MODEL_e10c2733939f4b069ad4590f647d3797",
       "value": "1"
      }
     },
     "eef6254dc14b4da6a5b6c22e084e142b": {
      "model_module": "@jupyter-widgets/controls",
      "model_module_version": "1.5.0",
      "model_name": "HTMLModel",
      "state": {
       "layout": "IPY_MODEL_3090f31cf0cc4d64af10b9a0c4a9dc98",
       "style": "IPY_MODEL_a0604c189a9f469b8c57dd1bec41d68d",
       "value": "Q3"
      }
     },
     "ef0719e5138c46ffbd46702278d3ea3e": {
      "model_module": "@jupyter-widgets/controls",
      "model_module_version": "1.5.0",
      "model_name": "ProgressStyleModel",
      "state": {
       "description_width": ""
      }
     },
     "ef18e4c093234ac9bc434934ee9a59dc": {
      "model_module": "@jupyter-widgets/base",
      "model_module_version": "1.2.0",
      "model_name": "LayoutModel",
      "state": {
       "grid_area": "widget003"
      }
     },
     "ef3f4142550e445481da395ca2e55fd6": {
      "model_module": "@jupyter-widgets/controls",
      "model_module_version": "1.5.0",
      "model_name": "FloatProgressModel",
      "state": {
       "layout": "IPY_MODEL_9e1bc8d6b35e4d288bec7408b0be0529",
       "max": 7,
       "style": "IPY_MODEL_c967bc7d14c74f25aa819a3ec21e6a7b",
       "value": 1
      }
     },
     "ef7742318c5c4a93b6f831307c34abe6": {
      "model_module": "@jupyter-widgets/controls",
      "model_module_version": "1.5.0",
      "model_name": "DescriptionStyleModel",
      "state": {
       "description_width": ""
      }
     },
     "ef9f9b4d496246f1b6ad34dc29ed023d": {
      "model_module": "@jupyter-widgets/base",
      "model_module_version": "1.2.0",
      "model_name": "LayoutModel",
      "state": {
       "grid_template_columns": "25% 25% 25% 25%",
       "width": "100%"
      }
     },
     "efa72e8162d14c67ab1e2ce4545f1bf1": {
      "model_module": "@jupyter-widgets/base",
      "model_module_version": "1.2.0",
      "model_name": "LayoutModel",
      "state": {
       "grid_area": "widget004"
      }
     },
     "efafad47dfbc47659d963569c306b084": {
      "model_module": "@jupyter-widgets/base",
      "model_module_version": "1.2.0",
      "model_name": "LayoutModel",
      "state": {
       "grid_area": "widget017"
      }
     },
     "f0045f0205804bc4abe4f85d4f5d8953": {
      "model_module": "@jupyter-widgets/controls",
      "model_module_version": "1.5.0",
      "model_name": "DescriptionStyleModel",
      "state": {
       "description_width": ""
      }
     },
     "f032e8d4abd848e58c8e9c132aaf6d28": {
      "model_module": "@jupyter-widgets/controls",
      "model_module_version": "1.5.0",
      "model_name": "DescriptionStyleModel",
      "state": {
       "description_width": ""
      }
     },
     "f04c6ae1af054c7290b2fdafe2a4fda0": {
      "model_module": "@jupyter-widgets/controls",
      "model_module_version": "1.5.0",
      "model_name": "FloatProgressModel",
      "state": {
       "layout": "IPY_MODEL_2a75dac62b5d4fd79d02b56de4e4afd4",
       "max": 7,
       "style": "IPY_MODEL_acedceda740144b2bfce8869ec3253ab",
       "value": 1
      }
     },
     "f050001e73d84d5bbf36493710f28ffd": {
      "model_module": "@jupyter-widgets/base",
      "model_module_version": "1.2.0",
      "model_name": "LayoutModel",
      "state": {
       "grid_area": "widget003"
      }
     },
     "f0566532737a441184ef6cea594946ac": {
      "model_module": "@jupyter-widgets/controls",
      "model_module_version": "1.5.0",
      "model_name": "DescriptionStyleModel",
      "state": {
       "description_width": ""
      }
     },
     "f09e686902854ce89f41a2b469d49d92": {
      "model_module": "@jupyter-widgets/controls",
      "model_module_version": "1.5.0",
      "model_name": "HTMLModel",
      "state": {
       "layout": "IPY_MODEL_96f117bd4fcd4edb9cd3c6d7b1c4deb2",
       "style": "IPY_MODEL_ca87278c82fd48999309748ee0123de9",
       "value": "5-th percentile"
      }
     },
     "f0cb702fb6f84592a005b38a03ad5bc9": {
      "model_module": "@jupyter-widgets/base",
      "model_module_version": "1.2.0",
      "model_name": "LayoutModel",
      "state": {
       "grid_area": "widget004"
      }
     },
     "f0d32f2b8ac54a108335a6cc97e59dde": {
      "model_module": "@jupyter-widgets/base",
      "model_module_version": "1.2.0",
      "model_name": "LayoutModel",
      "state": {
       "grid_area": "widget010"
      }
     },
     "f0d6c6203f3b4f788928482960fcd45a": {
      "model_module": "@jupyter-widgets/controls",
      "model_module_version": "1.5.0",
      "model_name": "DescriptionStyleModel",
      "state": {
       "description_width": ""
      }
     },
     "f10343d6f76a46bfbc8283e90a5db0e3": {
      "model_module": "@jupyter-widgets/controls",
      "model_module_version": "1.5.0",
      "model_name": "HTMLModel",
      "state": {
       "layout": "IPY_MODEL_eb7cac2779cb4f31a53afc0c17d5f2e7",
       "style": "IPY_MODEL_8efc98e812064ee49310eb2ca983f3a9",
       "value": "Sum"
      }
     },
     "f1528a4b205a4979ab21e24d5b1a7255": {
      "model_module": "@jupyter-widgets/controls",
      "model_module_version": "1.5.0",
      "model_name": "HTMLModel",
      "state": {
       "layout": "IPY_MODEL_53e29b63ca7249e3bd948c54461a4b79",
       "style": "IPY_MODEL_6cada20712cd413b8ab546cbc83d23fb",
       "value": "Negative (%)"
      }
     },
     "f15c272cb53b4f0389bd768d4ee33ba1": {
      "model_module": "@jupyter-widgets/controls",
      "model_module_version": "1.5.0",
      "model_name": "LabelModel",
      "state": {
       "layout": "IPY_MODEL_4acd452547384cabb1a9cc7681edc6b5",
       "style": "IPY_MODEL_e5c2266b6ed44566b84258b0cb124db6",
       "value": "0.26450258462504067"
      }
     },
     "f1de64e6ccad4eddb293e5a3a9e53361": {
      "model_module": "@jupyter-widgets/controls",
      "model_module_version": "1.5.0",
      "model_name": "HTMLModel",
      "state": {
       "layout": "IPY_MODEL_d77cc783cbae467bbebd502df4ac7295",
       "style": "IPY_MODEL_8fa03059366f4dcda600c45680492dbd",
       "value": "Analysis finished"
      }
     },
     "f1ded6f0a45449f2bd98bb76e4992ef7": {
      "model_module": "@jupyter-widgets/controls",
      "model_module_version": "1.5.0",
      "model_name": "LabelModel",
      "state": {
       "layout": "IPY_MODEL_f3a1095f31c04bbf9189223a964f1474",
       "style": "IPY_MODEL_ad37fc476132455586f4f5a8aa119534",
       "value": "0.30937586533192357"
      }
     },
     "f27286b8d62542fe9f65513fbdea5860": {
      "model_module": "@jupyter-widgets/base",
      "model_module_version": "1.2.0",
      "model_name": "LayoutModel",
      "state": {
       "grid_area": "widget012"
      }
     },
     "f2783a8a99374de99015feee4e9798f6": {
      "model_module": "@jupyter-widgets/controls",
      "model_module_version": "1.5.0",
      "model_name": "DescriptionStyleModel",
      "state": {
       "description_width": ""
      }
     },
     "f2b51371002d414aa7e7044c1e876826": {
      "model_module": "@jupyter-widgets/base",
      "model_module_version": "1.2.0",
      "model_name": "LayoutModel",
      "state": {
       "grid_area": "widget016"
      }
     },
     "f2e35a68819a4b35bd460431ac9d8dd8": {
      "model_module": "@jupyter-widgets/base",
      "model_module_version": "1.2.0",
      "model_name": "LayoutModel",
      "state": {}
     },
     "f3309480137f4558936a1e432b221b5a": {
      "model_module": "@jupyter-widgets/base",
      "model_module_version": "1.2.0",
      "model_name": "LayoutModel",
      "state": {
       "grid_area": "widget012"
      }
     },
     "f3a1095f31c04bbf9189223a964f1474": {
      "model_module": "@jupyter-widgets/base",
      "model_module_version": "1.2.0",
      "model_name": "LayoutModel",
      "state": {
       "grid_area": "widget010"
      }
     },
     "f3b415d8133842038168379b09fe84b6": {
      "model_module": "@jupyter-widgets/controls",
      "model_module_version": "1.5.0",
      "model_name": "HTMLModel",
      "state": {
       "layout": "IPY_MODEL_84d3583058fc4482b34dd6b211c36788",
       "style": "IPY_MODEL_a37421c4ea804cc9b0d79a589feefd09",
       "value": "<?xml version=\"1.0\" encoding=\"utf-8\" standalone=\"no\"?>\n<!DOCTYPE svg style=\"max-width: 100%\" PUBLIC \"-//W3C//DTD SVG 1.1//EN\"\n  \"http://www.w3.org/Graphics/SVG/1.1/DTD/svg11.dtd\">\n<svg style=\"max-width: 100%\"  version=\"1.1\" viewBox=\"0 0 720 288\" width=\"720pt\" xmlns=\"http://www.w3.org/2000/svg\" xmlns:xlink=\"http://www.w3.org/1999/xlink\">\n <metadata>\n  <rdf:RDF xmlns:cc=\"http://creativecommons.org/ns#\" xmlns:dc=\"http://purl.org/dc/elements/1.1/\" xmlns:rdf=\"http://www.w3.org/1999/02/22-rdf-syntax-ns#\">\n   <cc:Work>\n    <dc:type rdf:resource=\"http://purl.org/dc/dcmitype/StillImage\"/>\n    <dc:date>2022-10-01T17:17:57.606544</dc:date>\n    <dc:format>image/svg+xml</dc:format>\n    <dc:creator>\n     <cc:Agent>\n      <dc:title>Matplotlib v3.4.3, https://matplotlib.org/</dc:title>\n     </cc:Agent>\n    </dc:creator>\n   </cc:Work>\n  </rdf:RDF>\n </metadata>\n <defs>\n  <style type=\"text/css\">*{stroke-linecap:butt;stroke-linejoin:round;}</style>\n </defs>\n <g id=\"figure_1\">\n  <g id=\"patch_1\">\n   <path d=\"M 0 288 \nL 720 288 \nL 720 0 \nL 0 0 \nz\n\" style=\"fill:#ffffff;\"/>\n  </g>\n  <g id=\"axes_1\">\n   <g id=\"patch_2\">\n    <path d=\"M 72 230.4 \nL 648 230.4 \nL 648 86.4 \nL 72 86.4 \nz\n\" style=\"fill:#ffffff;\"/>\n   </g>\n   <g clip-path=\"url(#p890831739e)\">\n    <image height=\"7\" id=\"imagedb33fe7455\" style=\"image-rendering:crisp-edges;image-rendering:pixelated\" transform=\"matrix(144 0 0 20.571429 72 86.4)\" width=\"4\" xlink:href=\"data:image/png;base64,\niVBORw0KGgoAAAANSUhEUgAAAAQAAAAHCAYAAAAvZezQAAAAIElEQVR4nGM0rtr+nwEJMDGgAWoIsDAwMDCcafWACwAAKr0EDFnJ/HMAAAAASUVORK5CYII=\"/>\n   </g>\n   <g id=\"matplotlib.axis_1\">\n    <g id=\"xtick_1\">\n     <g id=\"text_1\">\n      <!-- df_index -->\n      <g style=\"fill:#262626;\" transform=\"translate(149.587823 74.166086)rotate(-45)scale(0.104 -0.104)\">\n       <defs>\n        <path d=\"M 2906 2969 \nL 2906 4863 \nL 3481 4863 \nL 3481 0 \nL 2906 0 \nL 2906 525 \nQ 2725 213 2448 61 \nQ 2172 -91 1784 -91 \nQ 1150 -91 751 415 \nQ 353 922 353 1747 \nQ 353 2572 751 3078 \nQ 1150 3584 1784 3584 \nQ 2172 3584 2448 3432 \nQ 2725 3281 2906 2969 \nz\nM 947 1747 \nQ 947 1113 1208 752 \nQ 1469 391 1925 391 \nQ 2381 391 2643 752 \nQ 2906 1113 2906 1747 \nQ 2906 2381 2643 2742 \nQ 2381 3103 1925 3103 \nQ 1469 3103 1208 2742 \nQ 947 2381 947 1747 \nz\n\" id=\"DejaVuSans-64\" transform=\"scale(0.015625)\"/>\n        <path d=\"M 2375 4863 \nL 2375 4384 \nL 1825 4384 \nQ 1516 4384 1395 4259 \nQ 1275 4134 1275 3809 \nL 1275 3500 \nL 2222 3500 \nL 2222 3053 \nL 1275 3053 \nL 1275 0 \nL 697 0 \nL 697 3053 \nL 147 3053 \nL 147 3500 \nL 697 3500 \nL 697 3744 \nQ 697 4328 969 4595 \nQ 1241 4863 1831 4863 \nL 2375 4863 \nz\n\" id=\"DejaVuSans-66\" transform=\"scale(0.015625)\"/>\n        <path d=\"M 3263 -1063 \nL 3263 -1509 \nL -63 -1509 \nL -63 -1063 \nL 3263 -1063 \nz\n\" id=\"DejaVuSans-5f\" transform=\"scale(0.015625)\"/>\n        <path d=\"M 603 3500 \nL 1178 3500 \nL 1178 0 \nL 603 0 \nL 603 3500 \nz\nM 603 4863 \nL 1178 4863 \nL 1178 4134 \nL 603 4134 \nL 603 4863 \nz\n\" id=\"DejaVuSans-69\" transform=\"scale(0.015625)\"/>\n        <path d=\"M 3513 2113 \nL 3513 0 \nL 2938 0 \nL 2938 2094 \nQ 2938 2591 2744 2837 \nQ 2550 3084 2163 3084 \nQ 1697 3084 1428 2787 \nQ 1159 2491 1159 1978 \nL 1159 0 \nL 581 0 \nL 581 3500 \nL 1159 3500 \nL 1159 2956 \nQ 1366 3272 1645 3428 \nQ 1925 3584 2291 3584 \nQ 2894 3584 3203 3211 \nQ 3513 2838 3513 2113 \nz\n\" id=\"DejaVuSans-6e\" transform=\"scale(0.015625)\"/>\n        <path d=\"M 3597 1894 \nL 3597 1613 \nL 953 1613 \nQ 991 1019 1311 708 \nQ 1631 397 2203 397 \nQ 2534 397 2845 478 \nQ 3156 559 3463 722 \nL 3463 178 \nQ 3153 47 2828 -22 \nQ 2503 -91 2169 -91 \nQ 1331 -91 842 396 \nQ 353 884 353 1716 \nQ 353 2575 817 3079 \nQ 1281 3584 2069 3584 \nQ 2775 3584 3186 3129 \nQ 3597 2675 3597 1894 \nz\nM 3022 2063 \nQ 3016 2534 2758 2815 \nQ 2500 3097 2075 3097 \nQ 1594 3097 1305 2825 \nQ 1016 2553 972 2059 \nL 3022 2063 \nz\n\" id=\"DejaVuSans-65\" transform=\"scale(0.015625)\"/>\n        <path d=\"M 3513 3500 \nL 2247 1797 \nL 3578 0 \nL 2900 0 \nL 1881 1375 \nL 863 0 \nL 184 0 \nL 1544 1831 \nL 300 3500 \nL 978 3500 \nL 1906 2253 \nL 2834 3500 \nL 3513 3500 \nz\n\" id=\"DejaVuSans-78\" transform=\"scale(0.015625)\"/>\n       </defs>\n       <use xlink:href=\"#DejaVuSans-64\"/>\n       <use x=\"63.476562\" xlink:href=\"#DejaVuSans-66\"/>\n       <use x=\"98.681641\" xlink:href=\"#DejaVuSans-5f\"/>\n       <use x=\"148.681641\" xlink:href=\"#DejaVuSans-69\"/>\n       <use x=\"176.464844\" xlink:href=\"#DejaVuSans-6e\"/>\n       <use x=\"239.84375\" xlink:href=\"#DejaVuSans-64\"/>\n       <use x=\"303.320312\" xlink:href=\"#DejaVuSans-65\"/>\n       <use x=\"363.09375\" xlink:href=\"#DejaVuSans-78\"/>\n      </g>\n     </g>\n    </g>\n    <g id=\"xtick_2\">\n     <g id=\"text_2\">\n      <!-- 0 -->\n      <g style=\"fill:#262626;\" transform=\"translate(293.587823 74.370616)rotate(-45)scale(0.104 -0.104)\">\n       <defs>\n        <path d=\"M 2034 4250 \nQ 1547 4250 1301 3770 \nQ 1056 3291 1056 2328 \nQ 1056 1369 1301 889 \nQ 1547 409 2034 409 \nQ 2525 409 2770 889 \nQ 3016 1369 3016 2328 \nQ 3016 3291 2770 3770 \nQ 2525 4250 2034 4250 \nz\nM 2034 4750 \nQ 2819 4750 3233 4129 \nQ 3647 3509 3647 2328 \nQ 3647 1150 3233 529 \nQ 2819 -91 2034 -91 \nQ 1250 -91 836 529 \nQ 422 1150 422 2328 \nQ 422 3509 836 4129 \nQ 1250 4750 2034 4750 \nz\n\" id=\"DejaVuSans-30\" transform=\"scale(0.015625)\"/>\n       </defs>\n       <use xlink:href=\"#DejaVuSans-30\"/>\n      </g>\n     </g>\n    </g>\n    <g id=\"xtick_3\">\n     <g id=\"text_3\">\n      <!-- 1 -->\n      <g style=\"fill:#262626;\" transform=\"translate(437.587823 74.370616)rotate(-45)scale(0.104 -0.104)\">\n       <defs>\n        <path d=\"M 794 531 \nL 1825 531 \nL 1825 4091 \nL 703 3866 \nL 703 4441 \nL 1819 4666 \nL 2450 4666 \nL 2450 531 \nL 3481 531 \nL 3481 0 \nL 794 0 \nL 794 531 \nz\n\" id=\"DejaVuSans-31\" transform=\"scale(0.015625)\"/>\n       </defs>\n       <use xlink:href=\"#DejaVuSans-31\"/>\n      </g>\n     </g>\n    </g>\n    <g id=\"xtick_4\">\n     <g id=\"text_4\">\n      <!-- 2 -->\n      <g style=\"fill:#262626;\" transform=\"translate(581.587823 74.370616)rotate(-45)scale(0.104 -0.104)\">\n       <defs>\n        <path d=\"M 1228 531 \nL 3431 531 \nL 3431 0 \nL 469 0 \nL 469 531 \nQ 828 903 1448 1529 \nQ 2069 2156 2228 2338 \nQ 2531 2678 2651 2914 \nQ 2772 3150 2772 3378 \nQ 2772 3750 2511 3984 \nQ 2250 4219 1831 4219 \nQ 1534 4219 1204 4116 \nQ 875 4013 500 3803 \nL 500 4441 \nQ 881 4594 1212 4672 \nQ 1544 4750 1819 4750 \nQ 2544 4750 2975 4387 \nQ 3406 4025 3406 3419 \nQ 3406 3131 3298 2873 \nQ 3191 2616 2906 2266 \nQ 2828 2175 2409 1742 \nQ 1991 1309 1228 531 \nz\n\" id=\"DejaVuSans-32\" transform=\"scale(0.015625)\"/>\n       </defs>\n       <use xlink:href=\"#DejaVuSans-32\"/>\n      </g>\n     </g>\n    </g>\n   </g>\n   <g id=\"matplotlib.axis_2\">\n    <g id=\"ytick_1\">\n     <g id=\"text_5\">\n      <!-- 1 -->\n      <g style=\"fill:#262626;\" transform=\"translate(53.22875 101.624699)scale(0.13 -0.13)\">\n       <use xlink:href=\"#DejaVuSans-31\"/>\n      </g>\n     </g>\n    </g>\n    <g id=\"ytick_2\">\n     <g id=\"text_6\">\n      <!-- 7 -->\n      <g style=\"fill:#262626;\" transform=\"translate(53.22875 225.05327)scale(0.13 -0.13)\">\n       <defs>\n        <path d=\"M 525 4666 \nL 3525 4666 \nL 3525 4397 \nL 1831 0 \nL 1172 0 \nL 2766 4134 \nL 525 4134 \nL 525 4666 \nz\n\" id=\"DejaVuSans-37\" transform=\"scale(0.015625)\"/>\n       </defs>\n       <use xlink:href=\"#DejaVuSans-37\"/>\n      </g>\n     </g>\n    </g>\n   </g>\n   <g id=\"line2d_1\">\n    <path clip-path=\"url(#p890831739e)\" d=\"M 216 230.4 \nL 216 86.4 \n\" style=\"fill:none;stroke:#ffffff;stroke-linecap:round;stroke-width:1.75;\"/>\n   </g>\n   <g id=\"line2d_2\">\n    <path clip-path=\"url(#p890831739e)\" d=\"M 360 230.4 \nL 360 86.4 \n\" style=\"fill:none;stroke:#ffffff;stroke-linecap:round;stroke-width:1.75;\"/>\n   </g>\n   <g id=\"line2d_3\">\n    <path clip-path=\"url(#p890831739e)\" d=\"M 504 230.4 \nL 504 86.4 \n\" style=\"fill:none;stroke:#ffffff;stroke-linecap:round;stroke-width:1.75;\"/>\n   </g>\n  </g>\n </g>\n <defs>\n  <clipPath id=\"p890831739e\">\n   <rect height=\"144\" width=\"576\" x=\"72\" y=\"86.4\"/>\n  </clipPath>\n </defs>\n</svg>\n"
      }
     },
     "f3d0082628354a7cace5af996faf25f0": {
      "model_module": "@jupyter-widgets/base",
      "model_module_version": "1.2.0",
      "model_name": "LayoutModel",
      "state": {}
     },
     "f3e1b4cd330248b3a204d2b25448bd6b": {
      "model_module": "@jupyter-widgets/controls",
      "model_module_version": "1.5.0",
      "model_name": "DescriptionStyleModel",
      "state": {
       "description_width": ""
      }
     },
     "f402b5e3ac3f4b16b97be9f512f83b14": {
      "model_module": "@jupyter-widgets/controls",
      "model_module_version": "1.5.0",
      "model_name": "VBoxModel",
      "state": {
       "children": [
        "IPY_MODEL_eb932a5d1a7f43f8bc4015eaa28c4304",
        "IPY_MODEL_1639ef0db7c845e2b0838d1689ec49ad"
       ],
       "layout": "IPY_MODEL_fd53158e0139401a8715626072979191"
      }
     },
     "f42ffa7aca134c3d9b83115168550117": {
      "model_module": "@jupyter-widgets/base",
      "model_module_version": "1.2.0",
      "model_name": "LayoutModel",
      "state": {}
     },
     "f435541c40ab40288e7f66e3a585fc94": {
      "model_module": "@jupyter-widgets/base",
      "model_module_version": "1.2.0",
      "model_name": "LayoutModel",
      "state": {
       "grid_area": "widget003"
      }
     },
     "f4b6fffbb5424e45b8a1eadbbdf37f36": {
      "model_module": "@jupyter-widgets/controls",
      "model_module_version": "1.5.0",
      "model_name": "HTMLModel",
      "state": {
       "layout": "IPY_MODEL_43c527e76bba4639b06597854b5b05c4",
       "style": "IPY_MODEL_4ede673d3b3f43ac80a6410a87bd3443",
       "value": "Negative"
      }
     },
     "f4c69462329d46cb9e9143931d266d0b": {
      "model_module": "@jupyter-widgets/controls",
      "model_module_version": "1.5.0",
      "model_name": "HTMLModel",
      "state": {
       "layout": "IPY_MODEL_a8aefea70791468f945f1c00544d9dc1",
       "style": "IPY_MODEL_cf9a21338f314cb5822408bff2be634c",
       "value": "-1.432045018"
      }
     },
     "f5088c458e7a4c0dba61203a647cd517": {
      "model_module": "@jupyter-widgets/controls",
      "model_module_version": "1.5.0",
      "model_name": "HTMLModel",
      "state": {
       "layout": "IPY_MODEL_30faf89242514c9790802263658dc879",
       "style": "IPY_MODEL_19dc0e91609442769aa660a92195baf9",
       "value": "0.0%"
      }
     },
     "f5221f854d1243ae88aff97ed96ee6d3": {
      "model_module": "@jupyter-widgets/controls",
      "model_module_version": "1.5.0",
      "model_name": "DescriptionStyleModel",
      "state": {
       "description_width": ""
      }
     },
     "f52693b72a034153aa1333b938f7fc88": {
      "model_module": "@jupyter-widgets/controls",
      "model_module_version": "1.5.0",
      "model_name": "DescriptionStyleModel",
      "state": {
       "description_width": ""
      }
     },
     "f52e05f3a3d84d928d34e97d6ddbf232": {
      "model_module": "@jupyter-widgets/controls",
      "model_module_version": "1.5.0",
      "model_name": "FloatProgressModel",
      "state": {
       "layout": "IPY_MODEL_95e3cd67d359420ba4b466d622df911f",
       "max": 7,
       "style": "IPY_MODEL_013415c42f234cafbc934b612694ec07",
       "value": 1
      }
     },
     "f548480e08184422b8a7c496bcb77c3c": {
      "model_module": "@jupyter-widgets/base",
      "model_module_version": "1.2.0",
      "model_name": "LayoutModel",
      "state": {
       "grid_template_areas": "\"widget001 widget002\"\n\"widget003 widget004\"\n\"widget005 widget006\"\n\"widget007 widget008\"\n\"widget009 widget010\"\n\"widget011 widget012\"\n\"widget013 widget014\"",
       "grid_template_columns": "repeat(2, 1fr)",
       "grid_template_rows": "repeat(7, 1fr)"
      }
     },
     "f591578ed44e4166a73c55dd526851ae": {
      "model_module": "@jupyter-widgets/base",
      "model_module_version": "1.2.0",
      "model_name": "LayoutModel",
      "state": {}
     },
     "f5be9a3536fb49f5a77f621171e37446": {
      "model_module": "@jupyter-widgets/controls",
      "model_module_version": "1.5.0",
      "model_name": "DescriptionStyleModel",
      "state": {
       "description_width": ""
      }
     },
     "f5dfc07f870d4bc3b061aa0a7fde6e16": {
      "model_module": "@jupyter-widgets/controls",
      "model_module_version": "1.5.0",
      "model_name": "DescriptionStyleModel",
      "state": {
       "description_width": ""
      }
     },
     "f5ea11a642484ffc9974efee608a97fb": {
      "model_module": "@jupyter-widgets/controls",
      "model_module_version": "1.5.0",
      "model_name": "ToggleButtonModel",
      "state": {
       "description": "Toggle correlation descriptions",
       "layout": "IPY_MODEL_bd1fc4f17a7d400284b069ca42faaade",
       "style": "IPY_MODEL_b8862e2075144750ba5c5755b39f9915"
      }
     },
     "f617bc494dcd41a3b1de36f6d51fafb8": {
      "model_module": "@jupyter-widgets/base",
      "model_module_version": "1.2.0",
      "model_name": "LayoutModel",
      "state": {}
     },
     "f63994ddf6164c28b625fbb4b5d1b77a": {
      "model_module": "@jupyter-widgets/controls",
      "model_module_version": "1.5.0",
      "model_name": "HTMLModel",
      "state": {
       "layout": "IPY_MODEL_76f6e0e90c65456b9b679e33470b3541",
       "style": "IPY_MODEL_6d0ccc5a564842e3a78290c9fdb27025",
       "value": "<?xml version=\"1.0\" encoding=\"utf-8\" standalone=\"no\"?>\n<!DOCTYPE svg style=\"max-width: 100%\" PUBLIC \"-//W3C//DTD SVG 1.1//EN\"\n  \"http://www.w3.org/Graphics/SVG/1.1/DTD/svg11.dtd\">\n<svg style=\"max-width: 100%\"  version=\"1.1\" viewBox=\"0 0 216 162\" width=\"216pt\" xmlns=\"http://www.w3.org/2000/svg\" xmlns:xlink=\"http://www.w3.org/1999/xlink\">\n <metadata>\n  <rdf:RDF xmlns:cc=\"http://creativecommons.org/ns#\" xmlns:dc=\"http://purl.org/dc/elements/1.1/\" xmlns:rdf=\"http://www.w3.org/1999/02/22-rdf-syntax-ns#\">\n   <cc:Work>\n    <dc:type rdf:resource=\"http://purl.org/dc/dcmitype/StillImage\"/>\n    <dc:date>2022-10-01T17:17:58.722323</dc:date>\n    <dc:format>image/svg+xml</dc:format>\n    <dc:creator>\n     <cc:Agent>\n      <dc:title>Matplotlib v3.4.3, https://matplotlib.org/</dc:title>\n     </cc:Agent>\n    </dc:creator>\n   </cc:Work>\n  </rdf:RDF>\n </metadata>\n <defs>\n  <style type=\"text/css\">*{stroke-linecap:butt;stroke-linejoin:round;}</style>\n </defs>\n <g id=\"figure_1\">\n  <g id=\"patch_1\">\n   <path d=\"M 0 162 \nL 216 162 \nL 216 0 \nL 0 0 \nz\n\" style=\"fill:#ffffff;\"/>\n  </g>\n  <g id=\"axes_1\">\n   <g id=\"patch_2\">\n    <path d=\"M 10.8 125.939146 \nL 205.2 125.939146 \nL 205.2 10.8 \nL 10.8 10.8 \nz\n\" style=\"fill:#ffffff;\"/>\n   </g>\n   <g id=\"matplotlib.axis_1\">\n    <g id=\"xtick_1\">\n     <g id=\"text_1\">\n      <!-- −1 -->\n      <g style=\"fill:#262626;\" transform=\"translate(34.739913 149.076912)rotate(-45)scale(0.08 -0.08)\">\n       <defs>\n        <path d=\"M 678 2272 \nL 4684 2272 \nL 4684 1741 \nL 678 1741 \nL 678 2272 \nz\n\" id=\"DejaVuSans-2212\" transform=\"scale(0.015625)\"/>\n        <path d=\"M 794 531 \nL 1825 531 \nL 1825 4091 \nL 703 3866 \nL 703 4441 \nL 1819 4666 \nL 2450 4666 \nL 2450 531 \nL 3481 531 \nL 3481 0 \nL 794 0 \nL 794 531 \nz\n\" id=\"DejaVuSans-31\" transform=\"scale(0.015625)\"/>\n       </defs>\n       <use xlink:href=\"#DejaVuSans-2212\"/>\n       <use x=\"83.789062\" xlink:href=\"#DejaVuSans-31\"/>\n      </g>\n     </g>\n    </g>\n    <g id=\"xtick_2\">\n     <g id=\"text_2\">\n      <!-- 0 -->\n      <g style=\"fill:#262626;\" transform=\"translate(98.946204 144.336645)rotate(-45)scale(0.08 -0.08)\">\n       <defs>\n        <path d=\"M 2034 4250 \nQ 1547 4250 1301 3770 \nQ 1056 3291 1056 2328 \nQ 1056 1369 1301 889 \nQ 1547 409 2034 409 \nQ 2525 409 2770 889 \nQ 3016 1369 3016 2328 \nQ 3016 3291 2770 3770 \nQ 2525 4250 2034 4250 \nz\nM 2034 4750 \nQ 2819 4750 3233 4129 \nQ 3647 3509 3647 2328 \nQ 3647 1150 3233 529 \nQ 2819 -91 2034 -91 \nQ 1250 -91 836 529 \nQ 422 1150 422 2328 \nQ 422 3509 836 4129 \nQ 1250 4750 2034 4750 \nz\n\" id=\"DejaVuSans-30\" transform=\"scale(0.015625)\"/>\n       </defs>\n       <use xlink:href=\"#DejaVuSans-30\"/>\n      </g>\n     </g>\n    </g>\n    <g id=\"xtick_3\">\n     <g id=\"text_3\">\n      <!-- 1 -->\n      <g style=\"fill:#262626;\" transform=\"translate(160.782362 144.336645)rotate(-45)scale(0.08 -0.08)\">\n       <use xlink:href=\"#DejaVuSans-31\"/>\n      </g>\n     </g>\n    </g>\n   </g>\n   <g id=\"patch_3\">\n    <path clip-path=\"url(#pb0d296dc7b)\" d=\"M 19.636364 125.939146 \nL 49.090909 125.939146 \nL 49.090909 16.282816 \nL 19.636364 16.282816 \nz\n\" style=\"fill:#337ab7;stroke:#ffffff;stroke-linejoin:miter;stroke-width:0.3;\"/>\n   </g>\n   <g id=\"patch_4\">\n    <path clip-path=\"url(#pb0d296dc7b)\" d=\"M 49.090909 125.939146 \nL 78.545455 125.939146 \nL 78.545455 125.939146 \nL 49.090909 125.939146 \nz\n\" style=\"fill:#337ab7;stroke:#ffffff;stroke-linejoin:miter;stroke-width:0.3;\"/>\n   </g>\n   <g id=\"patch_5\">\n    <path clip-path=\"url(#pb0d296dc7b)\" d=\"M 78.545455 125.939146 \nL 108 125.939146 \nL 108 71.110981 \nL 78.545455 71.110981 \nz\n\" style=\"fill:#337ab7;stroke:#ffffff;stroke-linejoin:miter;stroke-width:0.3;\"/>\n   </g>\n   <g id=\"patch_6\">\n    <path clip-path=\"url(#pb0d296dc7b)\" d=\"M 108 125.939146 \nL 137.454545 125.939146 \nL 137.454545 71.110981 \nL 108 71.110981 \nz\n\" style=\"fill:#337ab7;stroke:#ffffff;stroke-linejoin:miter;stroke-width:0.3;\"/>\n   </g>\n   <g id=\"patch_7\">\n    <path clip-path=\"url(#pb0d296dc7b)\" d=\"M 137.454545 125.939146 \nL 166.909091 125.939146 \nL 166.909091 71.110981 \nL 137.454545 71.110981 \nz\n\" style=\"fill:#337ab7;stroke:#ffffff;stroke-linejoin:miter;stroke-width:0.3;\"/>\n   </g>\n   <g id=\"patch_8\">\n    <path clip-path=\"url(#pb0d296dc7b)\" d=\"M 166.909091 125.939146 \nL 196.363636 125.939146 \nL 196.363636 71.110981 \nL 166.909091 71.110981 \nz\n\" style=\"fill:#337ab7;stroke:#ffffff;stroke-linejoin:miter;stroke-width:0.3;\"/>\n   </g>\n   <g id=\"patch_9\">\n    <path d=\"M 10.8 125.939146 \nL 10.8 10.8 \n\" style=\"fill:none;\"/>\n   </g>\n   <g id=\"patch_10\">\n    <path d=\"M 205.2 125.939146 \nL 205.2 10.8 \n\" style=\"fill:none;\"/>\n   </g>\n   <g id=\"patch_11\">\n    <path d=\"M 10.8 125.939146 \nL 205.2 125.939146 \n\" style=\"fill:none;\"/>\n   </g>\n   <g id=\"patch_12\">\n    <path d=\"M 10.8 10.8 \nL 205.2 10.8 \n\" style=\"fill:none;\"/>\n   </g>\n  </g>\n </g>\n <defs>\n  <clipPath id=\"pb0d296dc7b\">\n   <rect height=\"115.139146\" width=\"194.4\" x=\"10.8\" y=\"10.8\"/>\n  </clipPath>\n </defs>\n</svg>\n"
      }
     },
     "f63d4a26def74dbba3828a0a0bab2301": {
      "model_module": "@jupyter-widgets/base",
      "model_module_version": "1.2.0",
      "model_name": "LayoutModel",
      "state": {
       "grid_area": "widget009"
      }
     },
     "f648a01d02e540a8aa9f33615c5dab1f": {
      "model_module": "@jupyter-widgets/controls",
      "model_module_version": "1.5.0",
      "model_name": "HTMLModel",
      "state": {
       "layout": "IPY_MODEL_e25888b0c4994966b957f5be7a93c162",
       "style": "IPY_MODEL_a7f7d0ecd671404c96353baa107e34fb",
       "value": "4"
      }
     },
     "f6779901d1b143ae9af5414ca1283521": {
      "model_module": "@jupyter-widgets/base",
      "model_module_version": "1.2.0",
      "model_name": "LayoutModel",
      "state": {
       "grid_area": "widget003"
      }
     },
     "f68e886aa5e84a0288a4e3c74639bd52": {
      "model_module": "@jupyter-widgets/base",
      "model_module_version": "1.2.0",
      "model_name": "LayoutModel",
      "state": {
       "grid_area": "widget008"
      }
     },
     "f6a5eec68f9c42d2b7f3f351379966d8": {
      "model_module": "@jupyter-widgets/controls",
      "model_module_version": "1.5.0",
      "model_name": "HTMLModel",
      "state": {
       "layout": "IPY_MODEL_f27286b8d62542fe9f65513fbdea5860",
       "style": "IPY_MODEL_2a007223318e46a685e2595a0a1f79ed",
       "value": "1.570706547"
      }
     },
     "f6b47cc037f14758a5ee702908235a0f": {
      "model_module": "@jupyter-widgets/controls",
      "model_module_version": "1.5.0",
      "model_name": "HTMLModel",
      "state": {
       "layout": "IPY_MODEL_126190b52b03475f8013719db3fb867a",
       "style": "IPY_MODEL_3dce109d5e5c4cada8b4ed0c5868af9e",
       "value": "Maximum"
      }
     },
     "f70aff00d2a24fb29196dcc67e10ff4a": {
      "model_module": "@jupyter-widgets/controls",
      "model_module_version": "1.5.0",
      "model_name": "HTMLModel",
      "state": {
       "layout": "IPY_MODEL_871deb6597fa44cdb997882862a8bc96",
       "style": "IPY_MODEL_ed3e010a409645f0b3356f740ba4d29f",
       "value": "<span style=\"color:var(--jp-error-color1)\">1</span>"
      }
     },
     "f714db7611f441fab81b8cd878e7f213": {
      "model_module": "@jupyter-widgets/controls",
      "model_module_version": "1.5.0",
      "model_name": "VBoxModel",
      "state": {
       "children": [
        "IPY_MODEL_756dd991b05842479b5d3ce2689a842a"
       ],
       "layout": "IPY_MODEL_f617bc494dcd41a3b1de36f6d51fafb8"
      }
     },
     "f7518ad3a3a64aae854476dd31bca057": {
      "model_module": "@jupyter-widgets/controls",
      "model_module_version": "1.5.0",
      "model_name": "FloatProgressModel",
      "state": {
       "layout": "IPY_MODEL_1e029db54d664c7c9486cad8ffea071c",
       "max": 7,
       "style": "IPY_MODEL_3b2a76d7d4fe472883c7b211f808b42e",
       "value": 1
      }
     },
     "f75ee49b8d104c3eafcccecb31c0ac8d": {
      "model_module": "@jupyter-widgets/controls",
      "model_module_version": "1.5.0",
      "model_name": "DescriptionStyleModel",
      "state": {
       "description_width": ""
      }
     },
     "f79f20264cd446148d3bbf8bb1f66b3e": {
      "model_module": "@jupyter-widgets/controls",
      "model_module_version": "1.5.0",
      "model_name": "HTMLModel",
      "state": {
       "layout": "IPY_MODEL_d4217ae6c9e541fca17bc4d061fc121e",
       "style": "IPY_MODEL_39d93cfb80844623af68952acb225b0e",
       "value": "Minimum"
      }
     },
     "f7b98bf1715f44658bc0ee5dd14ac3fb": {
      "model_module": "@jupyter-widgets/controls",
      "model_module_version": "1.5.0",
      "model_name": "ButtonStyleModel",
      "state": {}
     },
     "f7ba8706726a478e9c4eff1da2d9fb8d": {
      "model_module": "@jupyter-widgets/controls",
      "model_module_version": "1.5.0",
      "model_name": "VBoxModel",
      "state": {
       "children": [
        "IPY_MODEL_9cd8137e77a240d88acb11ed66f2086a",
        "IPY_MODEL_42420f45207c4514844d0da894c8763b"
       ],
       "layout": "IPY_MODEL_519419ddc6ed42828c0ede1581a1e07d"
      }
     },
     "f7c827663c9a45f6a0835466abdb1c3f": {
      "model_module": "@jupyter-widgets/controls",
      "model_module_version": "1.5.0",
      "model_name": "DescriptionStyleModel",
      "state": {
       "description_width": ""
      }
     },
     "f7cc27cb24d74d99bfb544b2a65af916": {
      "model_module": "@jupyter-widgets/controls",
      "model_module_version": "1.5.0",
      "model_name": "LabelModel",
      "state": {
       "layout": "IPY_MODEL_414869b6aa514a77817feb74b0250a23",
       "style": "IPY_MODEL_c41274040f814b60b80082cc5c65b0c2",
       "value": "0.7985093658305963"
      }
     },
     "f7e600f4d750465bb6bfb53b6d05f80a": {
      "model_module": "@jupyter-widgets/controls",
      "model_module_version": "1.5.0",
      "model_name": "DescriptionStyleModel",
      "state": {
       "description_width": ""
      }
     },
     "f7fa0c433dd847e2be36491f3ef65a3c": {
      "model_module": "@jupyter-widgets/controls",
      "model_module_version": "1.5.0",
      "model_name": "VBoxModel",
      "state": {
       "children": [
        "IPY_MODEL_d6da9b6236544c1fa452f58945c0418f",
        "IPY_MODEL_7a5a701f4407453e92dafd3cb92c93b2"
       ],
       "layout": "IPY_MODEL_99a181a1d4e245668e067d113c8bbceb"
      }
     },
     "f808e2b6138e4064955217da7df12767": {
      "model_module": "@jupyter-widgets/controls",
      "model_module_version": "1.5.0",
      "model_name": "DescriptionStyleModel",
      "state": {
       "description_width": ""
      }
     },
     "f82a0442bb814c26bcf6bba739e58f9b": {
      "model_module": "@jupyter-widgets/controls",
      "model_module_version": "1.5.0",
      "model_name": "HTMLModel",
      "state": {
       "layout": "IPY_MODEL_d066817098fe4883aa93c45d37cdb291",
       "style": "IPY_MODEL_3c7beff5753c46c3a10c22ba4848bbb1",
       "value": "<?xml version=\"1.0\" encoding=\"utf-8\" standalone=\"no\"?>\n<!DOCTYPE svg style=\"max-width: 100%\" PUBLIC \"-//W3C//DTD SVG 1.1//EN\"\n  \"http://www.w3.org/Graphics/SVG/1.1/DTD/svg11.dtd\">\n<svg style=\"max-width: 100%\"  version=\"1.1\" viewBox=\"0 0 576 396\" width=\"576pt\" xmlns=\"http://www.w3.org/2000/svg\" xmlns:xlink=\"http://www.w3.org/1999/xlink\">\n <metadata>\n  <rdf:RDF xmlns:cc=\"http://creativecommons.org/ns#\" xmlns:dc=\"http://purl.org/dc/elements/1.1/\" xmlns:rdf=\"http://www.w3.org/1999/02/22-rdf-syntax-ns#\">\n   <cc:Work>\n    <dc:type rdf:resource=\"http://purl.org/dc/dcmitype/StillImage\"/>\n    <dc:date>2022-10-01T17:17:59.709912</dc:date>\n    <dc:format>image/svg+xml</dc:format>\n    <dc:creator>\n     <cc:Agent>\n      <dc:title>Matplotlib v3.4.3, https://matplotlib.org/</dc:title>\n     </cc:Agent>\n    </dc:creator>\n   </cc:Work>\n  </rdf:RDF>\n </metadata>\n <defs>\n  <style type=\"text/css\">*{stroke-linecap:butt;stroke-linejoin:round;}</style>\n </defs>\n <g id=\"figure_1\">\n  <g id=\"patch_1\">\n   <path d=\"M 0 396 \nL 576 396 \nL 576 0 \nL 0 0 \nz\n\" style=\"fill:#ffffff;\"/>\n  </g>\n  <g id=\"axes_1\">\n   <g id=\"patch_2\">\n    <path d=\"M 159.84 316.8 \nL 429.12 316.8 \nL 429.12 47.52 \nL 159.84 47.52 \nz\n\" style=\"fill:#ffffff;\"/>\n   </g>\n   <g clip-path=\"url(#p92010625fa)\">\n    <image height=\"270\" id=\"image649164fd19\" transform=\"scale(1 -1)translate(0 -270)\" width=\"270\" x=\"159.84\" xlink:href=\"data:image/png;base64,\niVBORw0KGgoAAAANSUhEUgAAAQ4AAAEOCAYAAAB4sfmlAAADlklEQVR4nO3WsUmDYRiFUQ0/aONK1i7gAgoOJSQLpHKFzOAELmBhowjqDE8hL+E7Z4JbPdzL77fX3wv+3e7rY3rCEq7vn6cnLGE3PQA4P8IBZMIBZMIBZMIBZMIBZMIBZMIBZMIBZMIBZMIBZMIBZMIBZMIBZMIBZMIBZMIBZMIBZMIBZMIBZMIBZMIBZMIBZMIBZMIBZMIBZMIBZMIBZMIBZMIBZMIBZMIBZMIBZMIBZMIBZMIBZMIBZMIBZMIBZMIBZMIBZMIBZMIBZMIBZMIBZMIBZMIBZMIBZMIBZMIBZMIBZMIBZMIBZMIBZMIBZMIBZMIBZMIBZMIBZMIBZMIBZMIBZMIBZMIBZMIBZMIBZMIBZMIBZMIBZMIBZMIBZMIBZMIBZMIBZMIBZMIBZMIBZMIBZMIBZMIBZMIBZMIBZMIBZMIBZMIBZMIBZMIBZMIBZMIBZNvdy/v0hiWc9ofpCUv4PD5NT1iCxwFkwgFkwgFkwgFkwgFkwgFkwgFkwgFkwgFkwgFkwgFkwgFkwgFkwgFkwgFkwgFkwgFkwgFkwgFkwgFkwgFkwgFkwgFkwgFkwgFkwgFkwgFkwgFkwgFkwgFkwgFkwgFkwgFkwgFkwgFkwgFkwgFkwgFkwgFkwgFkwgFkwgFkwgFkwgFkwgFkwgFkwgFkwgFkwgFkwgFkwgFkwgFkwgFkwgFkwgFkwgFkwgFkwgFkwgFkwgFkwgFkwgFkwgFkwgFkwgFkwgFkwgFkwgFkwgFkwgFkwgFkwgFkwgFkwgFkwgFkwgFkwgFkwgFkwgFkwgFkwgFkwgFkwgFkwgFkwgFkwgFkwgFkwgFkwgFk22l/mN6whNvHh+kJS/i5upmesASPA8iEA8iEA8iEA8iEA8iEA8iEA8iEA8iEA8iEA8iEA8iEA8iEA8iEA8iEA8iEA8iEA8iEA8iEA8iEA8iEA8iEA8iEA8iEA8iEA8iEA8iEA8iEA8iEA8iEA8iEA8iEA8iEA8iEA8iEA8iEA8iEA8iEA8iEA8iEA8iEA8iEA8iEA8iEA8iEA8iEA8iEA8iEA8iEA8iEA8iEA8iEA8iEA8iEA8iEA8iEA8iEA8iEA8iEA8iEA8iEA8iEA8iEA8iEA8iEA8iEA8iEA8iEA8iEA8iEA8iEA8iEA8iEA8iEA8iEA8iEA8iEA8iEA8iEA8iEA8iEA8iEA8iEA8iEA8iEA8iEA8iEA8iEA8iEA8j+AOCmErU5I41hAAAAAElFTkSuQmCC\" y=\"-46.8\"/>\n   </g>\n   <g id=\"matplotlib.axis_1\">\n    <g id=\"xtick_1\">\n     <g id=\"text_1\">\n      <!-- 0 -->\n      <g style=\"fill:#262626;\" transform=\"translate(207.479375 333.6625)rotate(-90)scale(0.1 -0.1)\">\n       <defs>\n        <path d=\"M 2034 4250 \nQ 1547 4250 1301 3770 \nQ 1056 3291 1056 2328 \nQ 1056 1369 1301 889 \nQ 1547 409 2034 409 \nQ 2525 409 2770 889 \nQ 3016 1369 3016 2328 \nQ 3016 3291 2770 3770 \nQ 2525 4250 2034 4250 \nz\nM 2034 4750 \nQ 2819 4750 3233 4129 \nQ 3647 3509 3647 2328 \nQ 3647 1150 3233 529 \nQ 2819 -91 2034 -91 \nQ 1250 -91 836 529 \nQ 422 1150 422 2328 \nQ 422 3509 836 4129 \nQ 1250 4750 2034 4750 \nz\n\" id=\"DejaVuSans-30\" transform=\"scale(0.015625)\"/>\n       </defs>\n       <use xlink:href=\"#DejaVuSans-30\"/>\n      </g>\n     </g>\n    </g>\n    <g id=\"xtick_2\">\n     <g id=\"text_2\">\n      <!-- 1 -->\n      <g style=\"fill:#262626;\" transform=\"translate(297.239375 333.6625)rotate(-90)scale(0.1 -0.1)\">\n       <defs>\n        <path d=\"M 794 531 \nL 1825 531 \nL 1825 4091 \nL 703 3866 \nL 703 4441 \nL 1819 4666 \nL 2450 4666 \nL 2450 531 \nL 3481 531 \nL 3481 0 \nL 794 0 \nL 794 531 \nz\n\" id=\"DejaVuSans-31\" transform=\"scale(0.015625)\"/>\n       </defs>\n       <use xlink:href=\"#DejaVuSans-31\"/>\n      </g>\n     </g>\n    </g>\n    <g id=\"xtick_3\">\n     <g id=\"text_3\">\n      <!-- 2 -->\n      <g style=\"fill:#262626;\" transform=\"translate(386.999375 333.6625)rotate(-90)scale(0.1 -0.1)\">\n       <defs>\n        <path d=\"M 1228 531 \nL 3431 531 \nL 3431 0 \nL 469 0 \nL 469 531 \nQ 828 903 1448 1529 \nQ 2069 2156 2228 2338 \nQ 2531 2678 2651 2914 \nQ 2772 3150 2772 3378 \nQ 2772 3750 2511 3984 \nQ 2250 4219 1831 4219 \nQ 1534 4219 1204 4116 \nQ 875 4013 500 3803 \nL 500 4441 \nQ 881 4594 1212 4672 \nQ 1544 4750 1819 4750 \nQ 2544 4750 2975 4387 \nQ 3406 4025 3406 3419 \nQ 3406 3131 3298 2873 \nQ 3191 2616 2906 2266 \nQ 2828 2175 2409 1742 \nQ 1991 1309 1228 531 \nz\n\" id=\"DejaVuSans-32\" transform=\"scale(0.015625)\"/>\n       </defs>\n       <use xlink:href=\"#DejaVuSans-32\"/>\n      </g>\n     </g>\n    </g>\n   </g>\n   <g id=\"matplotlib.axis_2\">\n    <g id=\"ytick_1\">\n     <g id=\"text_4\">\n      <!-- 0 -->\n      <g style=\"fill:#262626;\" transform=\"translate(142.9775 96.199219)scale(0.1 -0.1)\">\n       <use xlink:href=\"#DejaVuSans-30\"/>\n      </g>\n     </g>\n    </g>\n    <g id=\"ytick_2\">\n     <g id=\"text_5\">\n      <!-- 1 -->\n      <g style=\"fill:#262626;\" transform=\"translate(142.9775 185.959219)scale(0.1 -0.1)\">\n       <use xlink:href=\"#DejaVuSans-31\"/>\n      </g>\n     </g>\n    </g>\n    <g id=\"ytick_3\">\n     <g id=\"text_6\">\n      <!-- 2 -->\n      <g style=\"fill:#262626;\" transform=\"translate(142.9775 275.719219)scale(0.1 -0.1)\">\n       <use xlink:href=\"#DejaVuSans-32\"/>\n      </g>\n     </g>\n    </g>\n   </g>\n   <g id=\"patch_3\">\n    <path d=\"M 159.84 316.8 \nL 159.84 47.52 \n\" style=\"fill:none;\"/>\n   </g>\n   <g id=\"patch_4\">\n    <path d=\"M 429.12 316.8 \nL 429.12 47.52 \n\" style=\"fill:none;\"/>\n   </g>\n   <g id=\"patch_5\">\n    <path d=\"M 159.84 316.8 \nL 429.12 316.8 \n\" style=\"fill:none;\"/>\n   </g>\n   <g id=\"patch_6\">\n    <path d=\"M 159.84 47.52 \nL 429.12 47.52 \n\" style=\"fill:none;\"/>\n   </g>\n  </g>\n  <g id=\"axes_2\">\n   <g id=\"patch_7\">\n    <path d=\"M 451.44 316.8 \nL 464.904 316.8 \nL 464.904 47.52 \nL 451.44 47.52 \nz\n\" style=\"fill:#ffffff;\"/>\n   </g>\n   <g id=\"patch_8\">\n    <path clip-path=\"url(#p8e34cabe67)\" d=\"M 451.44 316.8 \nL 451.44 315.748125 \nL 451.44 48.571875 \nL 451.44 47.52 \nL 464.904 47.52 \nL 464.904 48.571875 \nL 464.904 315.748125 \nL 464.904 316.8 \nL 464.904 316.8 \nz\n\" style=\"fill:#ffffff;stroke:#ffffff;stroke-linejoin:miter;stroke-width:0.01;\"/>\n   </g>\n   <g id=\"matplotlib.axis_3\"/>\n   <g id=\"matplotlib.axis_4\">\n    <g id=\"ytick_4\">\n     <g id=\"line2d_1\">\n      <defs>\n       <path d=\"M 0 0 \nL 3.5 0 \n\" id=\"m90820dd2ff\" style=\"stroke:#262626;\"/>\n      </defs>\n      <g>\n       <use style=\"fill:#262626;stroke:#262626;\" x=\"464.904\" xlink:href=\"#m90820dd2ff\" y=\"316.8\"/>\n      </g>\n     </g>\n     <g id=\"text_7\">\n      <!-- −1.00 -->\n      <g style=\"fill:#262626;\" transform=\"translate(475.404 320.599219)scale(0.1 -0.1)\">\n       <defs>\n        <path d=\"M 678 2272 \nL 4684 2272 \nL 4684 1741 \nL 678 1741 \nL 678 2272 \nz\n\" id=\"DejaVuSans-2212\" transform=\"scale(0.015625)\"/>\n        <path d=\"M 684 794 \nL 1344 794 \nL 1344 0 \nL 684 0 \nL 684 794 \nz\n\" id=\"DejaVuSans-2e\" transform=\"scale(0.015625)\"/>\n       </defs>\n       <use xlink:href=\"#DejaVuSans-2212\"/>\n       <use x=\"83.789062\" xlink:href=\"#DejaVuSans-31\"/>\n       <use x=\"147.412109\" xlink:href=\"#DejaVuSans-2e\"/>\n       <use x=\"179.199219\" xlink:href=\"#DejaVuSans-30\"/>\n       <use x=\"242.822266\" xlink:href=\"#DejaVuSans-30\"/>\n      </g>\n     </g>\n    </g>\n    <g id=\"ytick_5\">\n     <g id=\"line2d_2\">\n      <g>\n       <use style=\"fill:#262626;stroke:#262626;\" x=\"464.904\" xlink:href=\"#m90820dd2ff\" y=\"283.14\"/>\n      </g>\n     </g>\n     <g id=\"text_8\">\n      <!-- −0.75 -->\n      <g style=\"fill:#262626;\" transform=\"translate(475.404 286.939219)scale(0.1 -0.1)\">\n       <defs>\n        <path d=\"M 525 4666 \nL 3525 4666 \nL 3525 4397 \nL 1831 0 \nL 1172 0 \nL 2766 4134 \nL 525 4134 \nL 525 4666 \nz\n\" id=\"DejaVuSans-37\" transform=\"scale(0.015625)\"/>\n        <path d=\"M 691 4666 \nL 3169 4666 \nL 3169 4134 \nL 1269 4134 \nL 1269 2991 \nQ 1406 3038 1543 3061 \nQ 1681 3084 1819 3084 \nQ 2600 3084 3056 2656 \nQ 3513 2228 3513 1497 \nQ 3513 744 3044 326 \nQ 2575 -91 1722 -91 \nQ 1428 -91 1123 -41 \nQ 819 9 494 109 \nL 494 744 \nQ 775 591 1075 516 \nQ 1375 441 1709 441 \nQ 2250 441 2565 725 \nQ 2881 1009 2881 1497 \nQ 2881 1984 2565 2268 \nQ 2250 2553 1709 2553 \nQ 1456 2553 1204 2497 \nQ 953 2441 691 2322 \nL 691 4666 \nz\n\" id=\"DejaVuSans-35\" transform=\"scale(0.015625)\"/>\n       </defs>\n       <use xlink:href=\"#DejaVuSans-2212\"/>\n       <use x=\"83.789062\" xlink:href=\"#DejaVuSans-30\"/>\n       <use x=\"147.412109\" xlink:href=\"#DejaVuSans-2e\"/>\n       <use x=\"179.199219\" xlink:href=\"#DejaVuSans-37\"/>\n       <use x=\"242.822266\" xlink:href=\"#DejaVuSans-35\"/>\n      </g>\n     </g>\n    </g>\n    <g id=\"ytick_6\">\n     <g id=\"line2d_3\">\n      <g>\n       <use style=\"fill:#262626;stroke:#262626;\" x=\"464.904\" xlink:href=\"#m90820dd2ff\" y=\"249.48\"/>\n      </g>\n     </g>\n     <g id=\"text_9\">\n      <!-- −0.50 -->\n      <g style=\"fill:#262626;\" transform=\"translate(475.404 253.279219)scale(0.1 -0.1)\">\n       <use xlink:href=\"#DejaVuSans-2212\"/>\n       <use x=\"83.789062\" xlink:href=\"#DejaVuSans-30\"/>\n       <use x=\"147.412109\" xlink:href=\"#DejaVuSans-2e\"/>\n       <use x=\"179.199219\" xlink:href=\"#DejaVuSans-35\"/>\n       <use x=\"242.822266\" xlink:href=\"#DejaVuSans-30\"/>\n      </g>\n     </g>\n    </g>\n    <g id=\"ytick_7\">\n     <g id=\"line2d_4\">\n      <g>\n       <use style=\"fill:#262626;stroke:#262626;\" x=\"464.904\" xlink:href=\"#m90820dd2ff\" y=\"215.82\"/>\n      </g>\n     </g>\n     <g id=\"text_10\">\n      <!-- −0.25 -->\n      <g style=\"fill:#262626;\" transform=\"translate(475.404 219.619219)scale(0.1 -0.1)\">\n       <use xlink:href=\"#DejaVuSans-2212\"/>\n       <use x=\"83.789062\" xlink:href=\"#DejaVuSans-30\"/>\n       <use x=\"147.412109\" xlink:href=\"#DejaVuSans-2e\"/>\n       <use x=\"179.199219\" xlink:href=\"#DejaVuSans-32\"/>\n       <use x=\"242.822266\" xlink:href=\"#DejaVuSans-35\"/>\n      </g>\n     </g>\n    </g>\n    <g id=\"ytick_8\">\n     <g id=\"line2d_5\">\n      <g>\n       <use style=\"fill:#262626;stroke:#262626;\" x=\"464.904\" xlink:href=\"#m90820dd2ff\" y=\"182.16\"/>\n      </g>\n     </g>\n     <g id=\"text_11\">\n      <!-- 0.00 -->\n      <g style=\"fill:#262626;\" transform=\"translate(475.404 185.959219)scale(0.1 -0.1)\">\n       <use xlink:href=\"#DejaVuSans-30\"/>\n       <use x=\"63.623047\" xlink:href=\"#DejaVuSans-2e\"/>\n       <use x=\"95.410156\" xlink:href=\"#DejaVuSans-30\"/>\n       <use x=\"159.033203\" xlink:href=\"#DejaVuSans-30\"/>\n      </g>\n     </g>\n    </g>\n    <g id=\"ytick_9\">\n     <g id=\"line2d_6\">\n      <g>\n       <use style=\"fill:#262626;stroke:#262626;\" x=\"464.904\" xlink:href=\"#m90820dd2ff\" y=\"148.5\"/>\n      </g>\n     </g>\n     <g id=\"text_12\">\n      <!-- 0.25 -->\n      <g style=\"fill:#262626;\" transform=\"translate(475.404 152.299219)scale(0.1 -0.1)\">\n       <use xlink:href=\"#DejaVuSans-30\"/>\n       <use x=\"63.623047\" xlink:href=\"#DejaVuSans-2e\"/>\n       <use x=\"95.410156\" xlink:href=\"#DejaVuSans-32\"/>\n       <use x=\"159.033203\" xlink:href=\"#DejaVuSans-35\"/>\n      </g>\n     </g>\n    </g>\n    <g id=\"ytick_10\">\n     <g id=\"line2d_7\">\n      <g>\n       <use style=\"fill:#262626;stroke:#262626;\" x=\"464.904\" xlink:href=\"#m90820dd2ff\" y=\"114.84\"/>\n      </g>\n     </g>\n     <g id=\"text_13\">\n      <!-- 0.50 -->\n      <g style=\"fill:#262626;\" transform=\"translate(475.404 118.639219)scale(0.1 -0.1)\">\n       <use xlink:href=\"#DejaVuSans-30\"/>\n       <use x=\"63.623047\" xlink:href=\"#DejaVuSans-2e\"/>\n       <use x=\"95.410156\" xlink:href=\"#DejaVuSans-35\"/>\n       <use x=\"159.033203\" xlink:href=\"#DejaVuSans-30\"/>\n      </g>\n     </g>\n    </g>\n    <g id=\"ytick_11\">\n     <g id=\"line2d_8\">\n      <g>\n       <use style=\"fill:#262626;stroke:#262626;\" x=\"464.904\" xlink:href=\"#m90820dd2ff\" y=\"81.18\"/>\n      </g>\n     </g>\n     <g id=\"text_14\">\n      <!-- 0.75 -->\n      <g style=\"fill:#262626;\" transform=\"translate(475.404 84.979219)scale(0.1 -0.1)\">\n       <use xlink:href=\"#DejaVuSans-30\"/>\n       <use x=\"63.623047\" xlink:href=\"#DejaVuSans-2e\"/>\n       <use x=\"95.410156\" xlink:href=\"#DejaVuSans-37\"/>\n       <use x=\"159.033203\" xlink:href=\"#DejaVuSans-35\"/>\n      </g>\n     </g>\n    </g>\n    <g id=\"ytick_12\">\n     <g id=\"line2d_9\">\n      <g>\n       <use style=\"fill:#262626;stroke:#262626;\" x=\"464.904\" xlink:href=\"#m90820dd2ff\" y=\"47.52\"/>\n      </g>\n     </g>\n     <g id=\"text_15\">\n      <!-- 1.00 -->\n      <g style=\"fill:#262626;\" transform=\"translate(475.404 51.319219)scale(0.1 -0.1)\">\n       <use xlink:href=\"#DejaVuSans-31\"/>\n       <use x=\"63.623047\" xlink:href=\"#DejaVuSans-2e\"/>\n       <use x=\"95.410156\" xlink:href=\"#DejaVuSans-30\"/>\n       <use x=\"159.033203\" xlink:href=\"#DejaVuSans-30\"/>\n      </g>\n     </g>\n    </g>\n   </g>\n   <image height=\"269\" id=\"imagec0558f7f1a\" transform=\"scale(1 -1)translate(0 -269)\" width=\"14\" x=\"451\" xlink:href=\"data:image/png;base64,\niVBORw0KGgoAAAANSUhEUgAAAA4AAAENCAYAAAA/q1TLAAABhklEQVR4nO2ZwbEDIQxDDbiPX97v/x4gHezhOSvGQO4aSbbQLKT829808PNWCMzMW2HIRIyVwXINh5rM5PEyvgM8YThZGHlZVeqxQJNeKbA0ZnOF1AqlBoajnmpgOHgd6gAEkiPPKp0qDUCgc27Inxj1IaeMvOWwRzmQeiytUSCdKpeaZaq8c/Qeecj336NX+elY0QB5pFa4DuNAda9Sqbxz8HDwHgPrOEAqT47aY+A83gZ4YNz+dATKqlCpFDjljEYfu3BWV3i8e/w9I/eIGyBNAHjn3OS8wwg9TvQvspkPiHRIaD6o1EmlckaGW+KREYaSw4CBzsk0nETHijIa9aiOXC6PkLHDlAcYeSGLPfLOWTEchDPvEBnxiHChAOzvcVCPC9ZxPT4AoUdeVvh0XOAewE8eqfJjtQTIvlf0UnnnZIpcHuDE3zmYEd9Y9VLpTYc/IMj3yKcq3yMFBi5lC0KOcDc57wDPaLmeBtjzSIXAwKu13ONIM9UTkuOT3gIyJeeIPTLgF+l5Z7yI8kSDAAAAAElFTkSuQmCC\" y=\"-48\"/>\n   <g id=\"LineCollection_1\"/>\n   <g id=\"patch_9\">\n    <path d=\"M 451.44 316.8 \nL 451.44 315.748125 \nL 451.44 48.571875 \nL 451.44 47.52 \nL 464.904 47.52 \nL 464.904 48.571875 \nL 464.904 315.748125 \nL 464.904 316.8 \nz\n\" style=\"fill:none;\"/>\n   </g>\n  </g>\n </g>\n <defs>\n  <clipPath id=\"p92010625fa\">\n   <rect height=\"269.28\" width=\"269.28\" x=\"159.84\" y=\"47.52\"/>\n  </clipPath>\n  <clipPath id=\"p8e34cabe67\">\n   <rect height=\"269.28\" width=\"13.464\" x=\"451.44\" y=\"47.52\"/>\n  </clipPath>\n </defs>\n</svg>\n"
      }
     },
     "f8863a571d3045db9e0d7d218b4dc7e0": {
      "model_module": "@jupyter-widgets/controls",
      "model_module_version": "1.5.0",
      "model_name": "LabelModel",
      "state": {
       "layout": "IPY_MODEL_5fc43174b3c0441a8a7f03de1e670957",
       "style": "IPY_MODEL_69791b94cd3b4efd980b08ad67f77f52",
       "value": "1"
      }
     },
     "f8959d2be862409cac829dfdb4563e02": {
      "model_module": "@jupyter-widgets/base",
      "model_module_version": "1.2.0",
      "model_name": "LayoutModel",
      "state": {}
     },
     "f8dac92345de46bba85375acda19a1d6": {
      "model_module": "@jupyter-widgets/base",
      "model_module_version": "1.2.0",
      "model_name": "LayoutModel",
      "state": {
       "grid_area": "widget006"
      }
     },
     "f918f28406f24106bf3b3547b22cfde5": {
      "model_module": "@jupyter-widgets/controls",
      "model_module_version": "1.5.0",
      "model_name": "HTMLModel",
      "state": {
       "layout": "IPY_MODEL_7b7dca34f2ca4b619c2679ff6c143fee",
       "style": "IPY_MODEL_85859b5f7c9c4221bcb69cb5021a816a",
       "value": "<div style=\"padding:20px\" class=\"text-muted\"><h3>Phik (φk)</h3>Phik (φk) is a new and practical correlation coefficient that works consistently between categorical, ordinal and interval variables, captures non-linear dependency and reverts to the Pearson correlation coefficient in case\n    of a bivariate normal input distribution. There is extensive documentation available <a href='https://phik.readthedocs.io/en/latest/index.html'>here</a>.</div>"
      }
     },
     "f9456609b7654eb4a000b6579133214a": {
      "model_module": "@jupyter-widgets/controls",
      "model_module_version": "1.5.0",
      "model_name": "HTMLModel",
      "state": {
       "layout": "IPY_MODEL_37e34fa7e31349c0903febb04ce0ac2e",
       "style": "IPY_MODEL_d6aee76b037d4bea896c34a6bb0ec3b2",
       "value": "1.027984993"
      }
     },
     "f9677d6e144241229a53c203c8ad4502": {
      "model_module": "@jupyter-widgets/controls",
      "model_module_version": "1.5.0",
      "model_name": "LabelModel",
      "state": {
       "layout": "IPY_MODEL_5fbfb26275334c9aaab8150e4f8c2674",
       "style": "IPY_MODEL_6e39469ef2d24186bcb8f9a6380af7ad",
       "value": "1.5715527518785666"
      }
     },
     "f9698792b90d4ea7a54289789760e095": {
      "model_module": "@jupyter-widgets/controls",
      "model_module_version": "1.5.0",
      "model_name": "ProgressStyleModel",
      "state": {
       "description_width": ""
      }
     },
     "f98f89f7393e4a969ca0731f8cc37aa8": {
      "model_module": "@jupyter-widgets/base",
      "model_module_version": "1.2.0",
      "model_name": "LayoutModel",
      "state": {
       "grid_area": "widget014"
      }
     },
     "f99ceab82104416984b674dd19c26cca": {
      "model_module": "@jupyter-widgets/controls",
      "model_module_version": "1.5.0",
      "model_name": "VBoxModel",
      "state": {
       "children": [
        "IPY_MODEL_904a584246894f2b95373db182165cd9",
        "IPY_MODEL_9e99b00061cf41f8ab765964f2e8811c"
       ],
       "layout": "IPY_MODEL_81f4eebdc2ea4c56a09bda99335b6373"
      }
     },
     "f9a3e8cba8124c439cde25a6f83e94c6": {
      "model_module": "@jupyter-widgets/controls",
      "model_module_version": "1.5.0",
      "model_name": "DescriptionStyleModel",
      "state": {
       "description_width": ""
      }
     },
     "f9cb7c95410242289a1fe7b9333b03dd": {
      "model_module": "@jupyter-widgets/controls",
      "model_module_version": "1.5.0",
      "model_name": "DescriptionStyleModel",
      "state": {
       "description_width": ""
      }
     },
     "f9ddf3ac53c5493591e64361a05ecd97": {
      "model_module": "@jupyter-widgets/base",
      "model_module_version": "1.2.0",
      "model_name": "LayoutModel",
      "state": {
       "grid_area": "widget009"
      }
     },
     "f9e615f6d0274860a20e14c3790e9e24": {
      "model_module": "@jupyter-widgets/controls",
      "model_module_version": "1.5.0",
      "model_name": "AccordionModel",
      "state": {
       "_titles": {
        "0": "df_index",
        "1": "0",
        "2": "1",
        "3": "2"
       },
       "children": [
        "IPY_MODEL_6c09fac7efc64842aa8566f3382010f1",
        "IPY_MODEL_f99ceab82104416984b674dd19c26cca",
        "IPY_MODEL_1ebb77c402844ffc9be623d178f7052d",
        "IPY_MODEL_433944b846a04474b56b0bb859bd908d"
       ],
       "layout": "IPY_MODEL_ffa0b5028f994665b4a217c485518087"
      }
     },
     "f9f420c05e5042589d2cd39bf33fad81": {
      "model_module": "@jupyter-widgets/base",
      "model_module_version": "1.2.0",
      "model_name": "LayoutModel",
      "state": {
       "grid_area": "widget009"
      }
     },
     "fa00d4b64f9143759e70d2b05fc77d72": {
      "model_module": "@jupyter-widgets/base",
      "model_module_version": "1.2.0",
      "model_name": "LayoutModel",
      "state": {
       "grid_area": "widget013"
      }
     },
     "fa7931b75346456f8a77a2854831d80e": {
      "model_module": "@jupyter-widgets/controls",
      "model_module_version": "1.5.0",
      "model_name": "DescriptionStyleModel",
      "state": {
       "description_width": ""
      }
     },
     "fb575d67de2544648c0fbeeae03a5765": {
      "model_module": "@jupyter-widgets/base",
      "model_module_version": "1.2.0",
      "model_name": "LayoutModel",
      "state": {
       "grid_area": "widget018"
      }
     },
     "fb8378a280b6471ca4d8fad0459d1565": {
      "model_module": "@jupyter-widgets/base",
      "model_module_version": "1.2.0",
      "model_name": "LayoutModel",
      "state": {
       "grid_area": "widget016"
      }
     },
     "fbaafeeea2dd4f909187816275b2a7fa": {
      "model_module": "@jupyter-widgets/controls",
      "model_module_version": "1.5.0",
      "model_name": "GridBoxModel",
      "state": {
       "children": [
        "IPY_MODEL_3b9c23eea87c4aaf9a4ff2415bbaecb4",
        "IPY_MODEL_3e62ba691226437794e5203466c7e19b",
        "IPY_MODEL_61c412c7eaa648f78d5cb3634b047011",
        "IPY_MODEL_8c273cc0522f43d88cbb2a609b6fca64"
       ],
       "layout": "IPY_MODEL_ef9f9b4d496246f1b6ad34dc29ed023d"
      }
     },
     "fbf97adda0a842d8b71a69d33cdab2b6": {
      "model_module": "@jupyter-widgets/controls",
      "model_module_version": "1.5.0",
      "model_name": "DescriptionStyleModel",
      "state": {
       "description_width": ""
      }
     },
     "fbf9da34176b486ea2aaf291510db530": {
      "model_module": "@jupyter-widgets/controls",
      "model_module_version": "1.5.0",
      "model_name": "DescriptionStyleModel",
      "state": {
       "description_width": ""
      }
     },
     "fc0f70b553fa422aa4317f5909227bd2": {
      "model_module": "@jupyter-widgets/controls",
      "model_module_version": "1.5.0",
      "model_name": "GridBoxModel",
      "state": {
       "children": [
        "IPY_MODEL_d59fef410024402fbb38057813ba0f1b"
       ],
       "layout": "IPY_MODEL_a0f97740a51b43cdb42d563b32c0684e"
      }
     },
     "fc293cf25a5c4cd98ea22863a0bf61d9": {
      "model_module": "@jupyter-widgets/controls",
      "model_module_version": "1.5.0",
      "model_name": "HTMLModel",
      "state": {
       "layout": "IPY_MODEL_93455e87112a4a2786ad9b55638ad96f",
       "style": "IPY_MODEL_befd8e1544234cb5856e845545dc25c8",
       "value": "Zeros (%)"
      }
     },
     "fc5a88e874684614b3be9db878cafc4c": {
      "model_module": "@jupyter-widgets/controls",
      "model_module_version": "1.5.0",
      "model_name": "TabModel",
      "state": {
       "_titles": {
        "0": "Count",
        "1": "Matrix",
        "2": "Heatmap",
        "3": "Dendrogram"
       },
       "children": [
        "IPY_MODEL_7aa61ebeaf414713aaf06abaf5260afd",
        "IPY_MODEL_8335d5c1a9d949f884229acb5da3797a",
        "IPY_MODEL_407171418ffb4b358b9f300c8a64759f",
        "IPY_MODEL_f7fa0c433dd847e2be36491f3ef65a3c"
       ],
       "layout": "IPY_MODEL_d211c85e400a47fbbcf6e1d6037b9234"
      }
     },
     "fca642b8c89a41abafa0973ff14ecedd": {
      "model_module": "@jupyter-widgets/controls",
      "model_module_version": "1.5.0",
      "model_name": "HTMLModel",
      "state": {
       "layout": "IPY_MODEL_5cf54a6ed5c04c2f800ce7844ad572b7",
       "style": "IPY_MODEL_10f36bae06c34f04a88293731bc13ec2",
       "value": "0.0%"
      }
     },
     "fcb66f23093047c0a6143282e2085de5": {
      "model_module": "@jupyter-widgets/base",
      "model_module_version": "1.2.0",
      "model_name": "LayoutModel",
      "state": {
       "grid_area": "widget012"
      }
     },
     "fcfcc25049944c389e43972b14405a24": {
      "model_module": "@jupyter-widgets/controls",
      "model_module_version": "1.5.0",
      "model_name": "DescriptionStyleModel",
      "state": {
       "description_width": ""
      }
     },
     "fd02f2f385834ec3a273da0f65b4ff94": {
      "model_module": "@jupyter-widgets/controls",
      "model_module_version": "1.5.0",
      "model_name": "VBoxModel",
      "state": {
       "children": [
        "IPY_MODEL_7cc2b83d6e3347b782b68d728ff1e5ea"
       ],
       "layout": "IPY_MODEL_e399afc2e59543e3b3b75139fc06ce46"
      }
     },
     "fd53158e0139401a8715626072979191": {
      "model_module": "@jupyter-widgets/base",
      "model_module_version": "1.2.0",
      "model_name": "LayoutModel",
      "state": {}
     },
     "fd589cc03f634d6aa1c42602f0bc9350": {
      "model_module": "@jupyter-widgets/controls",
      "model_module_version": "1.5.0",
      "model_name": "DescriptionStyleModel",
      "state": {
       "description_width": ""
      }
     },
     "fd77d5cfe2aa42bb9acfdff66418d573": {
      "model_module": "@jupyter-widgets/controls",
      "model_module_version": "1.5.0",
      "model_name": "DescriptionStyleModel",
      "state": {
       "description_width": ""
      }
     },
     "fdb2d8bdff7340dca497c4538eb8f2be": {
      "model_module": "@jupyter-widgets/controls",
      "model_module_version": "1.5.0",
      "model_name": "DescriptionStyleModel",
      "state": {
       "description_width": ""
      }
     },
     "fdd4f17e736546de9b1e52ee69d63eb8": {
      "model_module": "@jupyter-widgets/base",
      "model_module_version": "1.2.0",
      "model_name": "LayoutModel",
      "state": {
       "grid_area": "widget018"
      }
     },
     "fdff370612dd46f8a5684cca589c116b": {
      "model_module": "@jupyter-widgets/controls",
      "model_module_version": "1.5.0",
      "model_name": "ProgressStyleModel",
      "state": {
       "description_width": ""
      }
     },
     "fe2c809b84b04775a1bb197ad9173290": {
      "model_module": "@jupyter-widgets/controls",
      "model_module_version": "1.5.0",
      "model_name": "HTMLModel",
      "state": {
       "layout": "IPY_MODEL_b2860f60d68b4173ad4a3a2af2644ba7",
       "style": "IPY_MODEL_ec1b2c0463894c089be61ac97040040d",
       "value": "0.1186169372"
      }
     },
     "fe42d391696e4b37b6ed7e6b4bf0c7ff": {
      "model_module": "@jupyter-widgets/controls",
      "model_module_version": "1.5.0",
      "model_name": "DescriptionStyleModel",
      "state": {
       "description_width": ""
      }
     },
     "fe82793e3d4f4ec883c1ea121fa3a25a": {
      "model_module": "@jupyter-widgets/controls",
      "model_module_version": "1.5.0",
      "model_name": "HTMLModel",
      "state": {
       "layout": "IPY_MODEL_ff961d6187f8462f802fbfa6ee457173",
       "style": "IPY_MODEL_a4479425caf649b69811a89330c3bcc7",
       "value": "Memory size"
      }
     },
     "fe8ca0d2ea674457a2a72314552a9125": {
      "model_module": "@jupyter-widgets/controls",
      "model_module_version": "1.5.0",
      "model_name": "GridBoxModel",
      "state": {
       "children": [
        "IPY_MODEL_f82a0442bb814c26bcf6bba739e58f9b",
        "IPY_MODEL_789631701adc4e088b54bbea481e73c3"
       ],
       "layout": "IPY_MODEL_7898980893954e6795d6e79f46e6f390"
      }
     },
     "fe9cf672b71f4b5e8dc43f25e4b7b729": {
      "model_module": "@jupyter-widgets/controls",
      "model_module_version": "1.5.0",
      "model_name": "DescriptionStyleModel",
      "state": {
       "description_width": ""
      }
     },
     "feb5db1e0409490bb517e5e16cb6f508": {
      "model_module": "@jupyter-widgets/controls",
      "model_module_version": "1.5.0",
      "model_name": "DescriptionStyleModel",
      "state": {
       "description_width": ""
      }
     },
     "fee2f5ca0d30465997588d362141b70a": {
      "model_module": "@jupyter-widgets/controls",
      "model_module_version": "1.5.0",
      "model_name": "VBoxModel",
      "state": {
       "children": [
        "IPY_MODEL_cfaf464502af430bb703f7771f75813f",
        "IPY_MODEL_eafea2cf67fb4342bee2df1feac179f2"
       ],
       "layout": "IPY_MODEL_52f66758ad484b8092ff8a487f7ebeff"
      }
     },
     "fefe1fbfb02246659e2027215a8e764d": {
      "model_module": "@jupyter-widgets/controls",
      "model_module_version": "1.5.0",
      "model_name": "ProgressStyleModel",
      "state": {
       "description_width": ""
      }
     },
     "ff0003f7f18449adb89449531aacf839": {
      "model_module": "@jupyter-widgets/controls",
      "model_module_version": "1.5.0",
      "model_name": "HTMLModel",
      "state": {
       "layout": "IPY_MODEL_f0cb702fb6f84592a005b38a03ad5bc9",
       "style": "IPY_MODEL_15e182c0fe2749f6bcc0ca178532a363",
       "value": "100.0%"
      }
     },
     "ff03674a5aa94fb3a3bc071694dedbb9": {
      "model_module": "@jupyter-widgets/base",
      "model_module_version": "1.2.0",
      "model_name": "LayoutModel",
      "state": {
       "grid_area": "widget001"
      }
     },
     "ff1e8ec1eaf84bdbb06ac1a912ade761": {
      "model_module": "@jupyter-widgets/controls",
      "model_module_version": "1.5.0",
      "model_name": "VBoxModel",
      "state": {
       "children": [
        "IPY_MODEL_7dcb4cebb9844564a5efc559a43fb291",
        "IPY_MODEL_96f64a9083964749ab7863bf39a48cdc"
       ],
       "layout": "IPY_MODEL_7ae6f17e415d47039ba628275b9718d9"
      }
     },
     "ff2b1ced44344f62a59dc3f0a97c06df": {
      "model_module": "@jupyter-widgets/controls",
      "model_module_version": "1.5.0",
      "model_name": "HTMLModel",
      "state": {
       "layout": "IPY_MODEL_cc9840ffa77f4d6ab51dcf11e2d461db",
       "style": "IPY_MODEL_563ee18f1fa5470c85881e2ed91c3133",
       "value": "<?xml version=\"1.0\" encoding=\"utf-8\" standalone=\"no\"?>\n<!DOCTYPE svg style=\"max-width: 100%\" PUBLIC \"-//W3C//DTD SVG 1.1//EN\"\n  \"http://www.w3.org/Graphics/SVG/1.1/DTD/svg11.dtd\">\n<svg style=\"max-width: 100%\"  version=\"1.1\" viewBox=\"0 0 576 396\" width=\"576pt\" xmlns=\"http://www.w3.org/2000/svg\" xmlns:xlink=\"http://www.w3.org/1999/xlink\">\n <metadata>\n  <rdf:RDF xmlns:cc=\"http://creativecommons.org/ns#\" xmlns:dc=\"http://purl.org/dc/elements/1.1/\" xmlns:rdf=\"http://www.w3.org/1999/02/22-rdf-syntax-ns#\">\n   <cc:Work>\n    <dc:type rdf:resource=\"http://purl.org/dc/dcmitype/StillImage\"/>\n    <dc:date>2022-10-01T17:17:56.428459</dc:date>\n    <dc:format>image/svg+xml</dc:format>\n    <dc:creator>\n     <cc:Agent>\n      <dc:title>Matplotlib v3.4.3, https://matplotlib.org/</dc:title>\n     </cc:Agent>\n    </dc:creator>\n   </cc:Work>\n  </rdf:RDF>\n </metadata>\n <defs>\n  <style type=\"text/css\">*{stroke-linecap:butt;stroke-linejoin:round;}</style>\n </defs>\n <g id=\"figure_1\">\n  <g id=\"patch_1\">\n   <path d=\"M 0 396 \nL 576 396 \nL 576 0 \nL 0 0 \nz\n\" style=\"fill:#ffffff;\"/>\n  </g>\n  <g id=\"axes_1\">\n   <g id=\"patch_2\">\n    <path d=\"M 72 346.5 \nL 518.4 346.5 \nL 518.4 47.52 \nL 72 47.52 \nz\n\" style=\"fill:#ffffff;\"/>\n   </g>\n   <g id=\"matplotlib.axis_1\">\n    <g id=\"xtick_1\">\n     <g id=\"text_1\">\n      <!-- −1.0 -->\n      <g style=\"fill:#262626;\" transform=\"translate(120.822265 364.598437)scale(0.1 -0.1)\">\n       <defs>\n        <path d=\"M 678 2272 \nL 4684 2272 \nL 4684 1741 \nL 678 1741 \nL 678 2272 \nz\n\" id=\"DejaVuSans-2212\" transform=\"scale(0.015625)\"/>\n        <path d=\"M 794 531 \nL 1825 531 \nL 1825 4091 \nL 703 3866 \nL 703 4441 \nL 1819 4666 \nL 2450 4666 \nL 2450 531 \nL 3481 531 \nL 3481 0 \nL 794 0 \nL 794 531 \nz\n\" id=\"DejaVuSans-31\" transform=\"scale(0.015625)\"/>\n        <path d=\"M 684 794 \nL 1344 794 \nL 1344 0 \nL 684 0 \nL 684 794 \nz\n\" id=\"DejaVuSans-2e\" transform=\"scale(0.015625)\"/>\n        <path d=\"M 2034 4250 \nQ 1547 4250 1301 3770 \nQ 1056 3291 1056 2328 \nQ 1056 1369 1301 889 \nQ 1547 409 2034 409 \nQ 2525 409 2770 889 \nQ 3016 1369 3016 2328 \nQ 3016 3291 2770 3770 \nQ 2525 4250 2034 4250 \nz\nM 2034 4750 \nQ 2819 4750 3233 4129 \nQ 3647 3509 3647 2328 \nQ 3647 1150 3233 529 \nQ 2819 -91 2034 -91 \nQ 1250 -91 836 529 \nQ 422 1150 422 2328 \nQ 422 3509 836 4129 \nQ 1250 4750 2034 4750 \nz\n\" id=\"DejaVuSans-30\" transform=\"scale(0.015625)\"/>\n       </defs>\n       <use xlink:href=\"#DejaVuSans-2212\"/>\n       <use x=\"83.789062\" xlink:href=\"#DejaVuSans-31\"/>\n       <use x=\"147.412109\" xlink:href=\"#DejaVuSans-2e\"/>\n       <use x=\"179.199219\" xlink:href=\"#DejaVuSans-30\"/>\n      </g>\n     </g>\n    </g>\n    <g id=\"xtick_2\">\n     <g id=\"text_2\">\n      <!-- −0.5 -->\n      <g style=\"fill:#262626;\" transform=\"translate(191.819335 364.598437)scale(0.1 -0.1)\">\n       <defs>\n        <path d=\"M 691 4666 \nL 3169 4666 \nL 3169 4134 \nL 1269 4134 \nL 1269 2991 \nQ 1406 3038 1543 3061 \nQ 1681 3084 1819 3084 \nQ 2600 3084 3056 2656 \nQ 3513 2228 3513 1497 \nQ 3513 744 3044 326 \nQ 2575 -91 1722 -91 \nQ 1428 -91 1123 -41 \nQ 819 9 494 109 \nL 494 744 \nQ 775 591 1075 516 \nQ 1375 441 1709 441 \nQ 2250 441 2565 725 \nQ 2881 1009 2881 1497 \nQ 2881 1984 2565 2268 \nQ 2250 2553 1709 2553 \nQ 1456 2553 1204 2497 \nQ 953 2441 691 2322 \nL 691 4666 \nz\n\" id=\"DejaVuSans-35\" transform=\"scale(0.015625)\"/>\n       </defs>\n       <use xlink:href=\"#DejaVuSans-2212\"/>\n       <use x=\"83.789062\" xlink:href=\"#DejaVuSans-30\"/>\n       <use x=\"147.412109\" xlink:href=\"#DejaVuSans-2e\"/>\n       <use x=\"179.199219\" xlink:href=\"#DejaVuSans-35\"/>\n      </g>\n     </g>\n    </g>\n    <g id=\"xtick_3\">\n     <g id=\"text_3\">\n      <!-- 0.0 -->\n      <g style=\"fill:#262626;\" transform=\"translate(267.006248 364.598437)scale(0.1 -0.1)\">\n       <use xlink:href=\"#DejaVuSans-30\"/>\n       <use x=\"63.623047\" xlink:href=\"#DejaVuSans-2e\"/>\n       <use x=\"95.410156\" xlink:href=\"#DejaVuSans-30\"/>\n      </g>\n     </g>\n    </g>\n    <g id=\"xtick_4\">\n     <g id=\"text_4\">\n      <!-- 0.5 -->\n      <g style=\"fill:#262626;\" transform=\"translate(338.003318 364.598437)scale(0.1 -0.1)\">\n       <use xlink:href=\"#DejaVuSans-30\"/>\n       <use x=\"63.623047\" xlink:href=\"#DejaVuSans-2e\"/>\n       <use x=\"95.410156\" xlink:href=\"#DejaVuSans-35\"/>\n      </g>\n     </g>\n    </g>\n    <g id=\"xtick_5\">\n     <g id=\"text_5\">\n      <!-- 1.0 -->\n      <g style=\"fill:#262626;\" transform=\"translate(409.000387 364.598437)scale(0.1 -0.1)\">\n       <use xlink:href=\"#DejaVuSans-31\"/>\n       <use x=\"63.623047\" xlink:href=\"#DejaVuSans-2e\"/>\n       <use x=\"95.410156\" xlink:href=\"#DejaVuSans-30\"/>\n      </g>\n     </g>\n    </g>\n    <g id=\"xtick_6\">\n     <g id=\"text_6\">\n      <!-- 1.5 -->\n      <g style=\"fill:#262626;\" transform=\"translate(479.997457 364.598437)scale(0.1 -0.1)\">\n       <use xlink:href=\"#DejaVuSans-31\"/>\n       <use x=\"63.623047\" xlink:href=\"#DejaVuSans-2e\"/>\n       <use x=\"95.410156\" xlink:href=\"#DejaVuSans-35\"/>\n      </g>\n     </g>\n    </g>\n    <g id=\"text_7\">\n     <!-- 0 -->\n     <g style=\"fill:#262626;\" transform=\"translate(291.700625 379.036406)scale(0.11 -0.11)\">\n      <use xlink:href=\"#DejaVuSans-30\"/>\n     </g>\n    </g>\n   </g>\n   <g id=\"matplotlib.axis_2\">\n    <g id=\"ytick_1\">\n     <g id=\"text_8\">\n      <!-- 0.6 -->\n      <g style=\"fill:#262626;\" transform=\"translate(45.596875 302.926646)scale(0.1 -0.1)\">\n       <defs>\n        <path d=\"M 2113 2584 \nQ 1688 2584 1439 2293 \nQ 1191 2003 1191 1497 \nQ 1191 994 1439 701 \nQ 1688 409 2113 409 \nQ 2538 409 2786 701 \nQ 3034 994 3034 1497 \nQ 3034 2003 2786 2293 \nQ 2538 2584 2113 2584 \nz\nM 3366 4563 \nL 3366 3988 \nQ 3128 4100 2886 4159 \nQ 2644 4219 2406 4219 \nQ 1781 4219 1451 3797 \nQ 1122 3375 1075 2522 \nQ 1259 2794 1537 2939 \nQ 1816 3084 2150 3084 \nQ 2853 3084 3261 2657 \nQ 3669 2231 3669 1497 \nQ 3669 778 3244 343 \nQ 2819 -91 2113 -91 \nQ 1303 -91 875 529 \nQ 447 1150 447 2328 \nQ 447 3434 972 4092 \nQ 1497 4750 2381 4750 \nQ 2619 4750 2861 4703 \nQ 3103 4656 3366 4563 \nz\n\" id=\"DejaVuSans-36\" transform=\"scale(0.015625)\"/>\n       </defs>\n       <use xlink:href=\"#DejaVuSans-30\"/>\n       <use x=\"63.623047\" xlink:href=\"#DejaVuSans-2e\"/>\n       <use x=\"95.410156\" xlink:href=\"#DejaVuSans-36\"/>\n      </g>\n     </g>\n    </g>\n    <g id=\"ytick_2\">\n     <g id=\"text_9\">\n      <!-- 0.8 -->\n      <g style=\"fill:#262626;\" transform=\"translate(45.596875 253.949082)scale(0.1 -0.1)\">\n       <defs>\n        <path d=\"M 2034 2216 \nQ 1584 2216 1326 1975 \nQ 1069 1734 1069 1313 \nQ 1069 891 1326 650 \nQ 1584 409 2034 409 \nQ 2484 409 2743 651 \nQ 3003 894 3003 1313 \nQ 3003 1734 2745 1975 \nQ 2488 2216 2034 2216 \nz\nM 1403 2484 \nQ 997 2584 770 2862 \nQ 544 3141 544 3541 \nQ 544 4100 942 4425 \nQ 1341 4750 2034 4750 \nQ 2731 4750 3128 4425 \nQ 3525 4100 3525 3541 \nQ 3525 3141 3298 2862 \nQ 3072 2584 2669 2484 \nQ 3125 2378 3379 2068 \nQ 3634 1759 3634 1313 \nQ 3634 634 3220 271 \nQ 2806 -91 2034 -91 \nQ 1263 -91 848 271 \nQ 434 634 434 1313 \nQ 434 1759 690 2068 \nQ 947 2378 1403 2484 \nz\nM 1172 3481 \nQ 1172 3119 1398 2916 \nQ 1625 2713 2034 2713 \nQ 2441 2713 2670 2916 \nQ 2900 3119 2900 3481 \nQ 2900 3844 2670 4047 \nQ 2441 4250 2034 4250 \nQ 1625 4250 1398 4047 \nQ 1172 3844 1172 3481 \nz\n\" id=\"DejaVuSans-38\" transform=\"scale(0.015625)\"/>\n       </defs>\n       <use xlink:href=\"#DejaVuSans-30\"/>\n       <use x=\"63.623047\" xlink:href=\"#DejaVuSans-2e\"/>\n       <use x=\"95.410156\" xlink:href=\"#DejaVuSans-38\"/>\n      </g>\n     </g>\n    </g>\n    <g id=\"ytick_3\">\n     <g id=\"text_10\">\n      <!-- 1.0 -->\n      <g style=\"fill:#262626;\" transform=\"translate(45.596875 204.971518)scale(0.1 -0.1)\">\n       <use xlink:href=\"#DejaVuSans-31\"/>\n       <use x=\"63.623047\" xlink:href=\"#DejaVuSans-2e\"/>\n       <use x=\"95.410156\" xlink:href=\"#DejaVuSans-30\"/>\n      </g>\n     </g>\n    </g>\n    <g id=\"ytick_4\">\n     <g id=\"text_11\">\n      <!-- 1.2 -->\n      <g style=\"fill:#262626;\" transform=\"translate(45.596875 155.993954)scale(0.1 -0.1)\">\n       <defs>\n        <path d=\"M 1228 531 \nL 3431 531 \nL 3431 0 \nL 469 0 \nL 469 531 \nQ 828 903 1448 1529 \nQ 2069 2156 2228 2338 \nQ 2531 2678 2651 2914 \nQ 2772 3150 2772 3378 \nQ 2772 3750 2511 3984 \nQ 2250 4219 1831 4219 \nQ 1534 4219 1204 4116 \nQ 875 4013 500 3803 \nL 500 4441 \nQ 881 4594 1212 4672 \nQ 1544 4750 1819 4750 \nQ 2544 4750 2975 4387 \nQ 3406 4025 3406 3419 \nQ 3406 3131 3298 2873 \nQ 3191 2616 2906 2266 \nQ 2828 2175 2409 1742 \nQ 1991 1309 1228 531 \nz\n\" id=\"DejaVuSans-32\" transform=\"scale(0.015625)\"/>\n       </defs>\n       <use xlink:href=\"#DejaVuSans-31\"/>\n       <use x=\"63.623047\" xlink:href=\"#DejaVuSans-2e\"/>\n       <use x=\"95.410156\" xlink:href=\"#DejaVuSans-32\"/>\n      </g>\n     </g>\n    </g>\n    <g id=\"ytick_5\">\n     <g id=\"text_12\">\n      <!-- 1.4 -->\n      <g style=\"fill:#262626;\" transform=\"translate(45.596875 107.01639)scale(0.1 -0.1)\">\n       <defs>\n        <path d=\"M 2419 4116 \nL 825 1625 \nL 2419 1625 \nL 2419 4116 \nz\nM 2253 4666 \nL 3047 4666 \nL 3047 1625 \nL 3713 1625 \nL 3713 1100 \nL 3047 1100 \nL 3047 0 \nL 2419 0 \nL 2419 1100 \nL 313 1100 \nL 313 1709 \nL 2253 4666 \nz\n\" id=\"DejaVuSans-34\" transform=\"scale(0.015625)\"/>\n       </defs>\n       <use xlink:href=\"#DejaVuSans-31\"/>\n       <use x=\"63.623047\" xlink:href=\"#DejaVuSans-2e\"/>\n       <use x=\"95.410156\" xlink:href=\"#DejaVuSans-34\"/>\n      </g>\n     </g>\n    </g>\n    <g id=\"ytick_6\">\n     <g id=\"text_13\">\n      <!-- 1.6 -->\n      <g style=\"fill:#262626;\" transform=\"translate(45.596875 58.038826)scale(0.1 -0.1)\">\n       <use xlink:href=\"#DejaVuSans-31\"/>\n       <use x=\"63.623047\" xlink:href=\"#DejaVuSans-2e\"/>\n       <use x=\"95.410156\" xlink:href=\"#DejaVuSans-36\"/>\n      </g>\n     </g>\n    </g>\n    <g id=\"text_14\">\n     <!-- 2 -->\n     <g style=\"fill:#262626;\" transform=\"translate(39.309219 200.509375)rotate(-90)scale(0.11 -0.11)\">\n      <use xlink:href=\"#DejaVuSans-32\"/>\n     </g>\n    </g>\n   </g>\n   <g id=\"PathCollection_1\">\n    <defs>\n     <path d=\"M 0 3.5 \nC 0.928211 3.5 1.81853 3.131218 2.474874 2.474874 \nC 3.131218 1.81853 3.5 0.928211 3.5 0 \nC 3.5 -0.928211 3.131218 -1.81853 2.474874 -2.474874 \nC 1.81853 -3.131218 0.928211 -3.5 0 -3.5 \nC -0.928211 -3.5 -1.81853 -3.131218 -2.474874 -2.474874 \nC -3.131218 -1.81853 -3.5 -0.928211 -3.5 0 \nC -3.5 0.928211 -3.131218 1.81853 -2.474874 2.474874 \nC -1.81853 3.131218 -0.928211 3.5 0 3.5 \nz\n\" id=\"mdc7e021c36\" style=\"stroke:#337ab7;stroke-width:0.3;\"/>\n    </defs>\n    <g clip-path=\"url(#pc3cf254d3d)\">\n     <use style=\"fill:#337ab7;stroke:#337ab7;stroke-width:0.3;\" x=\"312.515627\" xlink:href=\"#mdc7e021c36\" y=\"137.417402\"/>\n     <use style=\"fill:#337ab7;stroke:#337ab7;stroke-width:0.3;\" x=\"92.290909\" xlink:href=\"#mdc7e021c36\" y=\"61.11\"/>\n     <use style=\"fill:#337ab7;stroke:#337ab7;stroke-width:0.3;\" x=\"271.085814\" xlink:href=\"#mdc7e021c36\" y=\"332.91\"/>\n     <use style=\"fill:#337ab7;stroke:#337ab7;stroke-width:0.3;\" x=\"120.12472\" xlink:href=\"#mdc7e021c36\" y=\"251.220828\"/>\n     <use style=\"fill:#337ab7;stroke:#337ab7;stroke-width:0.3;\" x=\"498.109091\" xlink:href=\"#mdc7e021c36\" y=\"62.322867\"/>\n     <use style=\"fill:#337ab7;stroke:#337ab7;stroke-width:0.3;\" x=\"413.49674\" xlink:href=\"#mdc7e021c36\" y=\"320.487743\"/>\n    </g>\n   </g>\n   <g id=\"patch_3\">\n    <path d=\"M 72 346.5 \nL 72 47.52 \n\" style=\"fill:none;\"/>\n   </g>\n   <g id=\"patch_4\">\n    <path d=\"M 518.4 346.5 \nL 518.4 47.52 \n\" style=\"fill:none;\"/>\n   </g>\n   <g id=\"patch_5\">\n    <path d=\"M 72 346.5 \nL 518.4 346.5 \n\" style=\"fill:none;\"/>\n   </g>\n   <g id=\"patch_6\">\n    <path d=\"M 72 47.52 \nL 518.4 47.52 \n\" style=\"fill:none;\"/>\n   </g>\n  </g>\n </g>\n <defs>\n  <clipPath id=\"pc3cf254d3d\">\n   <rect height=\"298.98\" width=\"446.4\" x=\"72\" y=\"47.52\"/>\n  </clipPath>\n </defs>\n</svg>\n"
      }
     },
     "ff696c66b5ba47cfa1129e7635a2744b": {
      "model_module": "@jupyter-widgets/controls",
      "model_module_version": "1.5.0",
      "model_name": "DescriptionStyleModel",
      "state": {
       "description_width": ""
      }
     },
     "ff961d6187f8462f802fbfa6ee457173": {
      "model_module": "@jupyter-widgets/base",
      "model_module_version": "1.2.0",
      "model_name": "LayoutModel",
      "state": {
       "grid_area": "widget013"
      }
     },
     "ffa07b9d29894da39e9c3563f42a3a83": {
      "model_module": "@jupyter-widgets/controls",
      "model_module_version": "1.5.0",
      "model_name": "DescriptionStyleModel",
      "state": {
       "description_width": ""
      }
     },
     "ffa0b5028f994665b4a217c485518087": {
      "model_module": "@jupyter-widgets/base",
      "model_module_version": "1.2.0",
      "model_name": "LayoutModel",
      "state": {}
     },
     "ffda077ef8d84878b87895109aa1d8cd": {
      "model_module": "@jupyter-widgets/base",
      "model_module_version": "1.2.0",
      "model_name": "LayoutModel",
      "state": {
       "grid_area": "widget012"
      }
     }
    },
    "version_major": 2,
    "version_minor": 0
   }
  }
 },
 "nbformat": 4,
 "nbformat_minor": 5
}
