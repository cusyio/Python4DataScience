{
 "cells": [
  {
   "cell_type": "markdown",
   "id": "detected-assault",
   "metadata": {},
   "source": [
    "# Shell variables"
   ]
  },
  {
   "cell_type": "markdown",
   "id": "b7bce137",
   "metadata": {},
   "source": [
    "## Display of all shell variables"
   ]
  },
  {
   "cell_type": "code",
   "execution_count": 1,
   "id": "civic-porcelain",
   "metadata": {},
   "outputs": [
    {
     "name": "stdout",
     "output_type": "stream",
     "text": [
      "…\r\n",
      "HOME=/Users/veit\r\n",
      "…\r\n",
      "PATH=/Users/veit/.local/share/virtualenvs/python-311-6zxVKbDJ/bin:/opt/homebrew/Cellar/pipenv/2023.6.18/libexec/tools:/Users/veit/spack/bin:/opt/homebrew/bin:/opt/homebrew/sbin:/usr/local/bin:/System/Cryptexes/App/usr/bin:/usr/bin:/bin:/usr/sbin:/sbin:/Library/TeX/texbin:/usr/local/MacGPG2/bin:/Library/Apple/usr/bin:/var/run/com.apple.security.cryptexd/codex.system/bootstrap/usr/local/bin:/var/run/com.apple.security.cryptexd/codex.system/bootstrap/usr/bin:/var/run/com.apple.security.cryptexd/codex.system/bootstrap/usr/appleinternal/bin\r\n",
      "…\r\n"
     ]
    }
   ],
   "source": [
    "!set"
   ]
  },
  {
   "cell_type": "markdown",
   "id": "modified-eagle",
   "metadata": {},
   "source": [
    "## Showing the value of a variable"
   ]
  },
  {
   "cell_type": "code",
   "execution_count": 2,
   "id": "focused-pastor",
   "metadata": {},
   "outputs": [
    {
     "name": "stdout",
     "output_type": "stream",
     "text": [
      "/Users/veit\r\n"
     ]
    }
   ],
   "source": [
    "!echo $HOME"
   ]
  },
  {
   "cell_type": "markdown",
   "id": "valued-coach",
   "metadata": {},
   "source": [
    "## The `path` variable\n",
    "\n",
    "It defines the shell’s search path, i.e., the list of directories that the shell looks in for runnable programs."
   ]
  },
  {
   "cell_type": "code",
   "execution_count": 3,
   "id": "victorian-consensus",
   "metadata": {},
   "outputs": [
    {
     "name": "stdout",
     "output_type": "stream",
     "text": [
      "/Users/veit/.local/share/virtualenvs/python-311-6zxVKbDJ/bin:/opt/homebrew/Cellar/pipenv/2023.6.18/libexec/tools:/Users/veit/spack/bin:/opt/homebrew/bin:/opt/homebrew/sbin:/usr/local/bin:/System/Cryptexes/App/usr/bin:/usr/bin:/bin:/usr/sbin:/sbin:/Library/TeX/texbin:/usr/local/MacGPG2/bin:/Library/Apple/usr/bin:/var/run/com.apple.security.cryptexd/codex.system/bootstrap/usr/local/bin:/var/run/com.apple.security.cryptexd/codex.system/bootstrap/usr/bin:/var/run/com.apple.security.cryptexd/codex.system/bootstrap/usr/appleinternal/bin\r\n"
     ]
    }
   ],
   "source": [
    "!echo $PATH"
   ]
  },
  {
   "cell_type": "markdown",
   "id": "personal-stream",
   "metadata": {},
   "source": [
    "## Creating and changing variables"
   ]
  },
  {
   "cell_type": "markdown",
   "id": "sweet-function",
   "metadata": {},
   "source": [
    "### Creating or overwriting variables"
   ]
  },
  {
   "cell_type": "code",
   "execution_count": 4,
   "id": "abandoned-reservation",
   "metadata": {},
   "outputs": [],
   "source": [
    "!export SPACK_ROOT=~/spack"
   ]
  },
  {
   "cell_type": "markdown",
   "id": "varying-muscle",
   "metadata": {},
   "source": [
    "### Append additional specifications"
   ]
  },
  {
   "cell_type": "code",
   "execution_count": 5,
   "id": "premier-career",
   "metadata": {},
   "outputs": [],
   "source": [
    "!export PATH=/usr/local/opt/python@3.7/bin:$PATH"
   ]
  }
 ],
 "metadata": {
  "kernelspec": {
   "display_name": "Python 3.11 Kernel",
   "language": "python",
   "name": "python311"
  },
  "language_info": {
   "codemirror_mode": {
    "name": "ipython",
    "version": 3
   },
   "file_extension": ".py",
   "mimetype": "text/x-python",
   "name": "python",
   "nbconvert_exporter": "python",
   "pygments_lexer": "ipython3",
   "version": "3.11.4"
  },
  "latex_envs": {
   "LaTeX_envs_menu_present": true,
   "autoclose": false,
   "autocomplete": true,
   "bibliofile": "biblio.bib",
   "cite_by": "apalike",
   "current_citInitial": 1,
   "eqLabelWithNumbers": true,
   "eqNumInitial": 1,
   "hotkeys": {
    "equation": "Ctrl-E",
    "itemize": "Ctrl-I"
   },
   "labels_anchors": false,
   "latex_user_defs": false,
   "report_style_numbering": false,
   "user_envs_cfg": false
  },
  "widgets": {
   "application/vnd.jupyter.widget-state+json": {
    "state": {},
    "version_major": 2,
    "version_minor": 0
   }
  }
 },
 "nbformat": 4,
 "nbformat_minor": 5
}
