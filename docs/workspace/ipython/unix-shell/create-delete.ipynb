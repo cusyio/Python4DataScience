{
 "cells": [
  {
   "cell_type": "markdown",
   "id": "adjustable-sphere",
   "metadata": {},
   "source": [
    "# Create, update and delete files and directories"
   ]
  },
  {
   "cell_type": "markdown",
   "id": "continental-feelings",
   "metadata": {},
   "source": [
    "Creates a new directory `test` and then checks this with `ls`:"
   ]
  },
  {
   "cell_type": "code",
   "execution_count": 1,
   "id": "powered-lesbian",
   "metadata": {},
   "outputs": [],
   "source": [
    "!mkdir tests"
   ]
  },
  {
   "cell_type": "code",
   "execution_count": 2,
   "id": "bigger-check",
   "metadata": {},
   "outputs": [
    {
     "name": "stdout",
     "output_type": "stream",
     "text": [
      "create-delete.ipynb   importing.ipynb       shell-variables.ipynb\r\n",
      "debugging.ipynb       index.rst             shell.ipynb\r\n",
      "display.ipynb         length.txt            sorted-length.txt\r\n",
      "dvc.list              magics.ipynb          start.rst\r\n",
      "extensions.rst        \u001b[34mmypackage\u001b[m\u001b[m             \u001b[34mtests\u001b[m\u001b[m\r\n",
      "file-system.ipynb     pipes-filters.ipynb\r\n",
      "grep-find.ipynb       regex.ipynb\r\n"
     ]
    }
   ],
   "source": [
    "!ls"
   ]
  },
  {
   "cell_type": "markdown",
   "id": "baking-nebraska",
   "metadata": {},
   "source": [
    "Then we create the file `test_file.txt` in this directory."
   ]
  },
  {
   "cell_type": "code",
   "execution_count": 3,
   "id": "white-render",
   "metadata": {},
   "outputs": [],
   "source": [
    "!touch tests/test_file.py"
   ]
  },
  {
   "cell_type": "code",
   "execution_count": 4,
   "id": "leading-malpractice",
   "metadata": {},
   "outputs": [
    {
     "name": "stdout",
     "output_type": "stream",
     "text": [
      "test_file.py\r\n"
     ]
    }
   ],
   "source": [
    "!ls tests"
   ]
  },
  {
   "cell_type": "markdown",
   "id": "intelligent-richardson",
   "metadata": {},
   "source": [
    "Now we change the suffix of the file:"
   ]
  },
  {
   "cell_type": "code",
   "execution_count": 5,
   "id": "mature-country",
   "metadata": {},
   "outputs": [
    {
     "name": "stdout",
     "output_type": "stream",
     "text": [
      "mv: tests/test_file.txt: No such file or directory\r\n"
     ]
    }
   ],
   "source": [
    "!mv tests/test_file.txt tests/test_file.py"
   ]
  },
  {
   "cell_type": "code",
   "execution_count": 6,
   "id": "joined-notebook",
   "metadata": {},
   "outputs": [
    {
     "name": "stdout",
     "output_type": "stream",
     "text": [
      "test_file.py\r\n"
     ]
    }
   ],
   "source": [
    "!ls tests"
   ]
  },
  {
   "cell_type": "markdown",
   "id": "conscious-peace",
   "metadata": {},
   "source": [
    "Now we make a copy of this file:"
   ]
  },
  {
   "cell_type": "code",
   "execution_count": 7,
   "id": "figured-value",
   "metadata": {},
   "outputs": [],
   "source": [
    "!cp tests/test_file.py tests/test_file2.py"
   ]
  },
  {
   "cell_type": "code",
   "execution_count": 8,
   "id": "lined-moldova",
   "metadata": {},
   "outputs": [
    {
     "name": "stdout",
     "output_type": "stream",
     "text": [
      "test_file.py  test_file2.py\r\n"
     ]
    }
   ],
   "source": [
    "!ls tests"
   ]
  },
  {
   "cell_type": "markdown",
   "id": "announced-patch",
   "metadata": {},
   "source": [
    "A directory with all the files it contains is also possible recursively with the `-r` option:"
   ]
  },
  {
   "cell_type": "code",
   "execution_count": 9,
   "id": "persistent-funds",
   "metadata": {},
   "outputs": [],
   "source": [
    "!cp -r tests tests.bak"
   ]
  },
  {
   "cell_type": "code",
   "execution_count": 10,
   "id": "subject-samuel",
   "metadata": {},
   "outputs": [
    {
     "name": "stdout",
     "output_type": "stream",
     "text": [
      "test_file.py  test_file2.py\r\n"
     ]
    }
   ],
   "source": [
    "!ls tests.bak"
   ]
  },
  {
   "cell_type": "markdown",
   "id": "eight-rainbow",
   "metadata": {},
   "source": [
    "Finally, we delete the directories `tests` and `tests.bak` again:"
   ]
  },
  {
   "cell_type": "code",
   "execution_count": 11,
   "id": "broke-mouth",
   "metadata": {},
   "outputs": [],
   "source": [
    "!rm -r tests tests.bak"
   ]
  },
  {
   "cell_type": "code",
   "execution_count": 12,
   "id": "fatty-spelling",
   "metadata": {},
   "outputs": [
    {
     "name": "stdout",
     "output_type": "stream",
     "text": [
      "create-delete.ipynb   grep-find.ipynb       pipes-filters.ipynb\r\n",
      "debugging.ipynb       importing.ipynb       regex.ipynb\r\n",
      "display.ipynb         index.rst             shell-variables.ipynb\r\n",
      "dvc.list              length.txt            shell.ipynb\r\n",
      "extensions.rst        magics.ipynb          sorted-length.txt\r\n",
      "file-system.ipynb     \u001b[34mmypackage\u001b[m\u001b[m             start.rst\r\n"
     ]
    }
   ],
   "source": [
    "!ls"
   ]
  },
  {
   "cell_type": "markdown",
   "id": "peripheral-timer",
   "metadata": {},
   "source": [
    "## Transfering files"
   ]
  },
  {
   "cell_type": "markdown",
   "id": "brazilian-floating",
   "metadata": {},
   "source": [
    "### `wget`"
   ]
  },
  {
   "cell_type": "code",
   "execution_count": 13,
   "id": "thousand-glenn",
   "metadata": {},
   "outputs": [
    {
     "name": "stdout",
     "output_type": "stream",
     "text": [
      "--2021-05-14 20:35:44--  https://dvc.org/deb/dvc.list\n",
      "Auflösen des Hostnamens dvc.org (dvc.org)… 2606:4700:3036::6815:51cd, 2606:4700:3033::ac43:a44c, 172.67.164.76, ...\n",
      "Verbindungsaufbau zu dvc.org (dvc.org)|2606:4700:3036::6815:51cd|:443 … verbunden.\n",
      "HTTP-Anforderung gesendet, auf Antwort wird gewartet … 303 See Other\n",
      "Platz: https://s3-us-east-2.amazonaws.com/dvc-s3-repo/deb/dvc.list [folgend]\n",
      "--2021-05-14 20:35:45--  https://s3-us-east-2.amazonaws.com/dvc-s3-repo/deb/dvc.list\n",
      "Auflösen des Hostnamens s3-us-east-2.amazonaws.com (s3-us-east-2.amazonaws.com)… 52.219.97.209\n",
      "Verbindungsaufbau zu s3-us-east-2.amazonaws.com (s3-us-east-2.amazonaws.com)|52.219.97.209|:443 … verbunden.\n",
      "HTTP-Anforderung gesendet, auf Antwort wird gewartet … 200 OK\n",
      "Länge: 51 [binary/octet-stream]\n",
      "Wird in »dvc.list.3« gespeichert.\n",
      "\n",
      "dvc.list.3          100%[===================>]      51  --.-KB/s    in 0s      \n",
      "\n",
      "2021-05-14 20:35:45 (1,68 MB/s) - »dvc.list.3« gespeichert [51/51]\n",
      "\n"
     ]
    }
   ],
   "source": [
    "!wget https://dvc.org/deb/dvc.list"
   ]
  },
  {
   "cell_type": "markdown",
   "id": "subjective-bandwidth",
   "metadata": {},
   "source": [
    "* `-r` recursively crawls other files and directories\n",
    "* `-np` avoids crawling to parent directories\n",
    "* `-D` targets only the following domain name\n",
    "* `-nH` avoids creating a subdirectory for the websites content\n",
    "* `-m` mirrors with time stamping, time stamping, infinite recursion depth, and preservation of FTP directory settings\n",
    "* `-q` supresses the output to the screen"
   ]
  },
  {
   "cell_type": "markdown",
   "id": "pursuant-stephen",
   "metadata": {},
   "source": [
    "### `cURL`\n",
    "\n",
    "Alternatively, you can use cURL, which supports a much larger range of protocols."
   ]
  },
  {
   "cell_type": "code",
   "execution_count": 14,
   "id": "royal-wilderness",
   "metadata": {},
   "outputs": [
    {
     "name": "stdout",
     "output_type": "stream",
     "text": [
      "  % Total    % Received % Xferd  Average Speed   Time    Time     Time  Current\n",
      "                                 Dload  Upload   Total   Spent    Left  Speed\n",
      "100    85  100    85    0     0    159      0 --:--:-- --:--:-- --:--:--   159\n"
     ]
    }
   ],
   "source": [
    "!curl -o dvc.list https://dvc.org/deb/dvc.list"
   ]
  }
 ],
 "metadata": {
  "kernelspec": {
   "display_name": "Python 3.7.4",
   "language": "python",
   "name": "python-373"
  },
  "language_info": {
   "codemirror_mode": {
    "name": "ipython",
    "version": 3
   },
   "file_extension": ".py",
   "mimetype": "text/x-python",
   "name": "python",
   "nbconvert_exporter": "python",
   "pygments_lexer": "ipython3",
   "version": "3.7.4"
  },
  "latex_envs": {
   "LaTeX_envs_menu_present": true,
   "autoclose": false,
   "autocomplete": true,
   "bibliofile": "biblio.bib",
   "cite_by": "apalike",
   "current_citInitial": 1,
   "eqLabelWithNumbers": true,
   "eqNumInitial": 1,
   "hotkeys": {
    "equation": "Ctrl-E",
    "itemize": "Ctrl-I"
   },
   "labels_anchors": false,
   "latex_user_defs": false,
   "report_style_numbering": false,
   "user_envs_cfg": false
  }
 },
 "nbformat": 4,
 "nbformat_minor": 5
}
