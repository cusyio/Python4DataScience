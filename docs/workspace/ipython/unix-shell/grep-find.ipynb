{
 "cells": [
  {
   "cell_type": "markdown",
   "id": "89151575",
   "metadata": {},
   "source": [
    "# `grep` and `find`"
   ]
  },
  {
   "cell_type": "markdown",
   "id": "875e0caf",
   "metadata": {},
   "source": [
    "## `grep`\n",
    "\n",
    "`grep` finds and prints lines in files that match a [regular expression](https://python-basics-tutorial.readthedocs.io/en/latest/appendix/regex.html). In the following example, we search for the string `Python`:"
   ]
  },
  {
   "cell_type": "code",
   "execution_count": 1,
   "id": "a851f685",
   "metadata": {},
   "outputs": [
    {
     "name": "stdout",
     "output_type": "stream",
     "text": [
      "IPython\r\n",
      "`IPython <https://ipython.org/>`_, or *Interactive Python*, was initially an\r\n",
      "advanced Python interpreter that has now grown into an extensive project\r\n",
      "Today, IPython is not only an interactive interface to Python, but also offers a\r\n",
      "number of useful syntactic additions for the language. In addition, IPython is\r\n",
      "    * `Miki Tebeka - IPython: The Productivity Booster\r\n"
     ]
    }
   ],
   "source": [
    "!grep Python ../index.rst"
   ]
  },
  {
   "cell_type": "markdown",
   "id": "abcef71d",
   "metadata": {},
   "source": [
    "The option `-w` limits the matches to the word boundaries so that `IPython` is ignored:"
   ]
  },
  {
   "cell_type": "code",
   "execution_count": 2,
   "id": "971e4687",
   "metadata": {},
   "outputs": [
    {
     "name": "stdout",
     "output_type": "stream",
     "text": [
      "`IPython <https://ipython.org/>`_, or *Interactive Python*, was initially an\r\n",
      "advanced Python interpreter that has now grown into an extensive project\r\n",
      "Today, IPython is not only an interactive interface to Python, but also offers a\r\n"
     ]
    }
   ],
   "source": [
    "!grep  -w Python ../index.rst"
   ]
  },
  {
   "cell_type": "markdown",
   "id": "c26ef503",
   "metadata": {},
   "source": [
    "`-n` shows the line numbers that match:"
   ]
  },
  {
   "cell_type": "code",
   "execution_count": 3,
   "id": "a6c50f5e",
   "metadata": {},
   "outputs": [
    {
     "name": "stdout",
     "output_type": "stream",
     "text": [
      "4:`IPython <https://ipython.org/>`_, or *Interactive Python*, was initially an\r\n",
      "5:advanced Python interpreter that has now grown into an extensive project\r\n",
      "7:Today, IPython is not only an interactive interface to Python, but also offers a\r\n"
     ]
    }
   ],
   "source": [
    "!grep  -n -w Python ../index.rst"
   ]
  },
  {
   "cell_type": "markdown",
   "id": "7765ec9b",
   "metadata": {},
   "source": [
    "`-v` inverts our search"
   ]
  },
  {
   "cell_type": "code",
   "execution_count": 4,
   "id": "ee50ed37",
   "metadata": {},
   "outputs": [
    {
     "name": "stdout",
     "output_type": "stream",
     "text": [
      "1:IPython\r\n",
      "2:=======\r\n",
      "3:\r\n",
      "4:`IPython <https://ipython.org/>`_, or *Interactive Python*, was initially an\r\n",
      "5:advanced Python interpreter that has now grown into an extensive project\r\n",
      "6:designed to provide tools for the entire life cycle of research computing.\r\n",
      "7:Today, IPython is not only an interactive interface to Python, but also offers a\r\n",
      "8:number of useful syntactic additions for the language. In addition, IPython is\r\n",
      "9:closely related to the `Jupyter project <https://jupyter.org/>`_.\r\n",
      "10:\r\n",
      "11:.. seealso::\r\n",
      "14:\r\n",
      "15:.. toctree::\r\n",
      "19:\r\n"
     ]
    }
   ],
   "source": [
    "!grep  -n -v \"^ \" ../index.rst"
   ]
  },
  {
   "cell_type": "markdown",
   "id": "8650231d",
   "metadata": {},
   "source": [
    "`grep` has lots of other options. To find out what they are, you can type:"
   ]
  },
  {
   "cell_type": "code",
   "execution_count": 5,
   "id": "e8716f88",
   "metadata": {},
   "outputs": [
    {
     "name": "stdout",
     "output_type": "stream",
     "text": [
      "usage: grep [-abcDEFGHhIiJLlmnOoqRSsUVvwxZ] [-A num] [-B num] [-C[num]]\r\n",
      "\t[-e pattern] [-f file] [--binary-files=value] [--color=when]\r\n",
      "\t[--context[=num]] [--directories=action] [--label] [--line-buffered]\r\n",
      "\t[--null] [pattern] [file ...]\r\n"
     ]
    }
   ],
   "source": [
    "!grep --help"
   ]
  },
  {
   "cell_type": "markdown",
   "id": "8f7f4935",
   "metadata": {},
   "source": [
    "In the following example we use the `-E` option and put the pattern in quotes to prevent the shell from trying to interpret it. The `^` in the pattern anchors the match to the start of the line and the `.` matches a single character."
   ]
  },
  {
   "cell_type": "code",
   "execution_count": 6,
   "id": "b3557f33",
   "metadata": {},
   "outputs": [
    {
     "name": "stdout",
     "output_type": "stream",
     "text": [
      "1:IPython\r\n"
     ]
    }
   ],
   "source": [
    "!grep -n -E \"^.Python\" ../index.rst"
   ]
  },
  {
   "cell_type": "markdown",
   "id": "ac12ed53",
   "metadata": {},
   "source": [
    "## `find`\n",
    "\n",
    "`find .` searches in this directory whereby the search is restricted to directories with `-type d`."
   ]
  },
  {
   "cell_type": "code",
   "execution_count": 7,
   "id": "a9490066",
   "metadata": {},
   "outputs": [
    {
     "name": "stdout",
     "output_type": "stream",
     "text": [
      "..\r\n",
      "../mypackage\r\n",
      "../.ipynb_checkpoints\r\n",
      "../unix-shell\r\n",
      "../unix-shell/.ipynb_checkpoints\r\n"
     ]
    }
   ],
   "source": [
    "!find .. -type d"
   ]
  },
  {
   "cell_type": "markdown",
   "id": "e17d432c",
   "metadata": {},
   "source": [
    "With `-type f` the search ist restricted to files."
   ]
  },
  {
   "cell_type": "code",
   "execution_count": 8,
   "id": "486e9b52",
   "metadata": {},
   "outputs": [
    {
     "name": "stdout",
     "output_type": "stream",
     "text": [
      "./regex.ipynb\r\n",
      "./index.rst\r\n",
      "./create-delete.ipynb\r\n",
      "./file-system.ipynb\r\n",
      "./shell-variables.ipynb\r\n",
      "./grep-find.ipynb\r\n",
      "./pipes-filters.ipynb\r\n"
     ]
    }
   ],
   "source": [
    "!find . -type f"
   ]
  },
  {
   "cell_type": "markdown",
   "id": "d4a18766",
   "metadata": {},
   "source": [
    "With `-mtime` the search is limited to the last `X` days, in our example to the last day:"
   ]
  },
  {
   "cell_type": "code",
   "execution_count": 9,
   "id": "fcd814cd",
   "metadata": {},
   "outputs": [
    {
     "name": "stdout",
     "output_type": "stream",
     "text": [
      ".\r\n",
      "./regex.ipynb\r\n",
      "./.ipynb_checkpoints\r\n",
      "./.ipynb_checkpoints/grep-find-checkpoint.ipynb\r\n",
      "./grep-find.ipynb\r\n",
      "./pipes-filters.ipynb\r\n"
     ]
    }
   ],
   "source": [
    "!find . -mtime -1"
   ]
  },
  {
   "cell_type": "markdown",
   "id": "5367a566",
   "metadata": {},
   "source": [
    "With `-name` you can filter the search by name."
   ]
  },
  {
   "cell_type": "code",
   "execution_count": 10,
   "id": "5730e75a",
   "metadata": {},
   "outputs": [
    {
     "name": "stdout",
     "output_type": "stream",
     "text": [
      "../index.rst\r\n",
      "../extensions.rst\r\n",
      "../unix-shell/index.rst\r\n",
      "../start.rst\r\n"
     ]
    }
   ],
   "source": [
    "!find .. -name \"*.rst\""
   ]
  },
  {
   "cell_type": "markdown",
   "id": "01e677f7",
   "metadata": {},
   "source": [
    "Now we count the characters in the files with the suffix `.rst`:"
   ]
  },
  {
   "cell_type": "code",
   "execution_count": 11,
   "id": "e4e869f3",
   "metadata": {},
   "outputs": [
    {
     "name": "stdout",
     "output_type": "stream",
     "text": [
      " 833 ../index.rst\r\n",
      "2097 ../extensions.rst\r\n",
      " 466 ../unix-shell/index.rst\r\n",
      "1138 ../start.rst\r\n",
      "4534 insgesamt\r\n"
     ]
    }
   ],
   "source": [
    "!wc -c $(find .. -name \"*.rst\")"
   ]
  },
  {
   "cell_type": "markdown",
   "id": "86ddb15f",
   "metadata": {},
   "source": [
    "It is also possible to search for a regular expression in these files:"
   ]
  },
  {
   "cell_type": "code",
   "execution_count": 12,
   "id": "2cb7faf2",
   "metadata": {},
   "outputs": [
    {
     "name": "stdout",
     "output_type": "stream",
     "text": [
      "../index.rst:`IPython <https://ipython.org/>`_, or *Interactive Python*, was initially an\r\n"
     ]
    }
   ],
   "source": [
    "!grep \"ipython.org\" $(find .. -name \"*.rst\")"
   ]
  },
  {
   "cell_type": "markdown",
   "id": "a141f23a",
   "metadata": {},
   "source": [
    "Finally, we filter out all results whose path contains `ipynb_checkpoints`:"
   ]
  },
  {
   "cell_type": "code",
   "execution_count": 13,
   "id": "af943d5f",
   "metadata": {},
   "outputs": [
    {
     "name": "stdout",
     "output_type": "stream",
     "text": [
      "./regex.ipynb\r\n",
      "./create-delete.ipynb\r\n",
      "./file-system.ipynb\r\n",
      "./shell-variables.ipynb\r\n",
      "./grep-find.ipynb\r\n",
      "./pipes-filters.ipynb\r\n"
     ]
    }
   ],
   "source": [
    "!find . -name \"*.ipynb\" | grep -v ipynb_checkpoints"
   ]
  }
 ],
 "metadata": {
  "kernelspec": {
   "display_name": "Python 3.8",
   "language": "python",
   "name": "python-38"
  },
  "language_info": {
   "codemirror_mode": {
    "name": "ipython",
    "version": 3
   },
   "file_extension": ".py",
   "mimetype": "text/x-python",
   "name": "python",
   "nbconvert_exporter": "python",
   "pygments_lexer": "ipython3",
   "version": "3.8.12"
  },
  "latex_envs": {
   "LaTeX_envs_menu_present": true,
   "autoclose": false,
   "autocomplete": true,
   "bibliofile": "biblio.bib",
   "cite_by": "apalike",
   "current_citInitial": 1,
   "eqLabelWithNumbers": true,
   "eqNumInitial": 1,
   "hotkeys": {
    "equation": "Ctrl-E",
    "itemize": "Ctrl-I"
   },
   "labels_anchors": false,
   "latex_user_defs": false,
   "report_style_numbering": false,
   "user_envs_cfg": false
  }
 },
 "nbformat": 4,
 "nbformat_minor": 5
}
