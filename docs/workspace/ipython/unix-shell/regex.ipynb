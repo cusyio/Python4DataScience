{
 "cells": [
  {
   "cell_type": "markdown",
   "id": "acoustic-return",
   "metadata": {},
   "source": [
    "# Regular expressions"
   ]
  },
  {
   "cell_type": "markdown",
   "id": "through-survivor",
   "metadata": {},
   "source": [
    "## Common regex metacharacters\n",
    "\n",
    "Square brackets define a list or range of characters to be found:\n",
    "\n",
    "* `[abc]` matches `a`, `b` or `c`\n",
    "* `[a-z]` matches any lower case letter\n",
    "* `[A-Za-z]` matches any letter\n",
    "* `[A-Za-z0-9]` matches any letter or any digit\n",
    "\n",
    "Useful special characters:\n",
    "\n",
    "* `.` matches any character\n",
    "* `*` matches the preceding element zero or more times, e.g.  `ab*c` matches `ac`, `abc`, `abbc`, etc.\n",
    "* `+` matches the preceding element one or more times, e.g. `ab+c` matches `abc`, `abbc` but not `ac`\n",
    "* `?` matches when the preceding character appears zero or one time\n",
    "* `{VALUE}` matches the preceding character the number of times defined by `VALUE`\n",
    "* `\\` used to escape the following character when that character is a special character e.g. to find `.org` you have to use the regular expression `\\.org` because `-` is the special character that matches any character\n",
    "* `^` asserts the position at the start of the line\n",
    "* `$` asserts the position at the end of the line\n",
    "* `|` means **or**\n",
    "\n",
    "And then there are:\n",
    "\n",
    "* `\\d` matches any single digit\n",
    "* `\\w` matches any part of word character and is equivalent to `[A-Za-z0-9]`\n",
    "* `\\s` matches any space, tab, or newline\n",
    "* `\\b` asserts that the pattern must match at a word boundary\n",
    "* `/i` renders an expression case-insensitive equivalent to `[A-Za-z]`"
   ]
  },
  {
   "cell_type": "markdown",
   "id": "united-messenger",
   "metadata": {},
   "source": [
    "## Examples\n",
    "\n",
    "* the whole words `colour` and `color` case insensitive with `\\b[Cc]olou?r\\b|\\bCOLOU?R\\b` or `/colou?r/i` \n",
    "* Date formats like `dd-MM-yyyy` with `\\b\\d{2}-\\d{2}-\\d{4}\\b`\n",
    "* `dd-MM-yyyy` or `dd-MM-yy` at the beginning of a line with `^\\d{2}-\\d{2}-\\d{2,4}`"
   ]
  },
  {
   "cell_type": "markdown",
   "id": "olympic-worth",
   "metadata": {},
   "source": [
    "> **See also:**\n",
    "> \n",
    "> * [www.regular-expressions.info](https://www.regular-expressions.info/)\n",
    "> * [Python Regular Expression HOWTO](https://docs.python.org/3/howto/regex.html)\n",
    "> * [Python re](https://docs.python.org/3/library/re.html)"
   ]
  }
 ],
 "metadata": {
  "kernelspec": {
   "display_name": "Python 3.7.4",
   "language": "python",
   "name": "python-373"
  },
  "language_info": {
   "codemirror_mode": {
    "name": "ipython",
    "version": 3
   },
   "file_extension": ".py",
   "mimetype": "text/x-python",
   "name": "python",
   "nbconvert_exporter": "python",
   "pygments_lexer": "ipython3",
   "version": "3.7.4"
  },
  "latex_envs": {
   "LaTeX_envs_menu_present": true,
   "autoclose": false,
   "autocomplete": true,
   "bibliofile": "biblio.bib",
   "cite_by": "apalike",
   "current_citInitial": 1,
   "eqLabelWithNumbers": true,
   "eqNumInitial": 1,
   "hotkeys": {
    "equation": "Ctrl-E",
    "itemize": "Ctrl-I"
   },
   "labels_anchors": false,
   "latex_user_defs": false,
   "report_style_numbering": false,
   "user_envs_cfg": false
  }
 },
 "nbformat": 4,
 "nbformat_minor": 5
}
