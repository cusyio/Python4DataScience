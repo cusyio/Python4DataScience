{
 "cells": [
  {
   "cell_type": "markdown",
   "id": "still-rehabilitation",
   "metadata": {},
   "source": [
    "# Navigate through files and directories"
   ]
  },
  {
   "cell_type": "markdown",
   "id": "honey-proof",
   "metadata": {},
   "source": [
    "First let us find out where we are by running a command called `pwd`:"
   ]
  },
  {
   "cell_type": "code",
   "execution_count": 1,
   "id": "revolutionary-bulletin",
   "metadata": {},
   "outputs": [
    {
     "name": "stdout",
     "output_type": "stream",
     "text": [
      "/Users/veit/cusy/trn/Python4DataScience/docs/workspace/ipython/unix-shell\r\n"
     ]
    }
   ],
   "source": [
    "!pwd"
   ]
  },
  {
   "cell_type": "markdown",
   "id": "rotary-married",
   "metadata": {},
   "source": [
    "Here, the response is the iPython chapter of the Jupyter tutorial in my home directory `/Users/veit`.\n",
    "\n",
    "On Windows the home directory will look like `C:\\Documents and Settings\\veit` or `C:\\Users\\veit` and on Linux like `/home/veit`."
   ]
  },
  {
   "cell_type": "markdown",
   "id": "cleared-china",
   "metadata": {},
   "source": [
    "To see the contents of our directory, we can use `ls`:"
   ]
  },
  {
   "cell_type": "code",
   "execution_count": 2,
   "id": "perfect-courtesy",
   "metadata": {},
   "outputs": [
    {
     "name": "stdout",
     "output_type": "stream",
     "text": [
      "create-delete.ipynb   grep-find.ipynb       pipes-filters.ipynb\r\n",
      "file-system.ipynb     index.rst             shell-variables.ipynb\r\n"
     ]
    }
   ],
   "source": [
    "!ls"
   ]
  },
  {
   "cell_type": "markdown",
   "id": "efficient-arkansas",
   "metadata": {},
   "source": [
    "* a trailing `/` indicates a directory\n",
    "* `@` indicates a link\n",
    "* `*` indicates an executable\n",
    "\n",
    "Depending on your default options, the shell might also use colors to indicate whether an entry is a file or a directory."
   ]
  },
  {
   "cell_type": "markdown",
   "id": "polish-thursday",
   "metadata": {},
   "source": [
    "## `ls` options and arguments"
   ]
  },
  {
   "cell_type": "code",
   "execution_count": 3,
   "id": "major-spell",
   "metadata": {},
   "outputs": [
    {
     "name": "stdout",
     "output_type": "stream",
     "text": [
      "debugging.ipynb                  myscript.py\r\n",
      "display.ipynb                    shell.ipynb\r\n",
      "examples.ipynb                   start.rst\r\n",
      "extensions.rst                   \u001b[31mtab-completion-for-anything.png\u001b[m\u001b[m*\r\n",
      "importing.ipynb                  \u001b[31mtab-completion-for-modules.png\u001b[m\u001b[m*\r\n",
      "index.rst                        \u001b[31mtab-completion-for-objects.png\u001b[m\u001b[m*\r\n",
      "magics.ipynb                     \u001b[34munix-shell\u001b[m\u001b[m/\r\n",
      "\u001b[34mmypackage\u001b[m\u001b[m/\r\n"
     ]
    }
   ],
   "source": [
    "!ls -F ../"
   ]
  },
  {
   "cell_type": "markdown",
   "id": "numeric-arena",
   "metadata": {},
   "source": [
    "`ls` is the command, with the option `-F` and the argument `../`. \n",
    "\n",
    "* Options either start with a single dash (`-`) or two dashes (`--`), and they change the behavior of a command.\n",
    "* Arguments tell the command what to operate on.\n",
    "* Options and arguments are sometimes also referred as parameters.\n",
    "* Each part is separated by spaces.\n",
    "* Also, capitalisation is important, for example \n",
    "\n",
    "  * `ls -s` will display the size of files and directories alongside the names,\n",
    "  * while `ls -S` will sort the files and directories by size."
   ]
  },
  {
   "cell_type": "code",
   "execution_count": 4,
   "id": "imperial-reflection",
   "metadata": {},
   "outputs": [
    {
     "name": "stdout",
     "output_type": "stream",
     "text": [
      "total 184\r\n",
      "24 create-delete.ipynb   24 grep-find.ipynb       16 pipes-filters.ipynb\r\n",
      "96 file-system.ipynb      8 index.rst             16 shell-variables.ipynb\r\n"
     ]
    }
   ],
   "source": [
    "!ls -s"
   ]
  },
  {
   "cell_type": "code",
   "execution_count": 5,
   "id": "neutral-invite",
   "metadata": {},
   "outputs": [
    {
     "name": "stdout",
     "output_type": "stream",
     "text": [
      "file-system.ipynb     create-delete.ipynb   shell-variables.ipynb\r\n",
      "grep-find.ipynb       pipes-filters.ipynb   index.rst\r\n"
     ]
    }
   ],
   "source": [
    "!ls -S"
   ]
  },
  {
   "cell_type": "markdown",
   "id": "cognitive-award",
   "metadata": {},
   "source": [
    "### Show all options and arguments\n",
    "\n",
    "`ls` comes with a lot of other useful options. Using `man` you can print out the built-in manual page for the desired UNIX/Linux-command:"
   ]
  },
  {
   "cell_type": "code",
   "execution_count": 6,
   "id": "artificial-aspect",
   "metadata": {},
   "outputs": [
    {
     "name": "stdout",
     "output_type": "stream",
     "text": [
      "LS(1)                       General Commands Manual                      LS(1)\r\n",
      "\r\n",
      "NAME\r\n",
      "     ls – list directory contents\r\n",
      "\r\n",
      "SYNOPSIS\r\n",
      "     ls [-@ABCFGHILOPRSTUWabcdefghiklmnopqrstuvwxy1%,] [--color=____]\r\n",
      "        [-D ______] [____ ___]\r\n",
      "\r\n",
      "DESCRIPTION\r\n",
      "     For each operand that names a ____ of a type other than directory, ls\r\n",
      "     displays its name as well as any requested, associated information.  For\r\n",
      "     each operand that names a ____ of type directory, ls displays the names\r\n",
      "     of files contained within that directory, as well as any requested,\r\n",
      "     associated information.\r\n",
      "\r\n",
      "     If no operands are given, the contents of the current directory are\r\n",
      "     displayed.  If more than one operand is given, non-directory operands are\r\n",
      "     displayed first; directory and non-directory operands are sorted\r\n",
      "     separately and in lexicographical order.\r\n",
      "\r\n",
      "     The following options are available:\r\n",
      "\r\n",
      "     -@      Display extended attribute keys and sizes in long (-l) output.\r\n",
      "\r\n",
      "…\r\n",
      "\r\n",
      "macOS 13.4                      August 31, 2020                     macOS 13.4\r\n"
     ]
    }
   ],
   "source": [
    "!man ls"
   ]
  },
  {
   "cell_type": "markdown",
   "id": "manufactured-momentum",
   "metadata": {},
   "source": [
    "### Illegal options\n",
    "\n",
    "If you try to use an option that isn’t supported, the commands will usually print an error message, for example for:"
   ]
  },
  {
   "cell_type": "code",
   "execution_count": 7,
   "id": "fuzzy-secondary",
   "metadata": {},
   "outputs": [
    {
     "name": "stdout",
     "output_type": "stream",
     "text": [
      "ls: invalid option -- z\r\n",
      "usage: ls [-@ABCFGHILOPRSTUWabcdefghiklmnopqrstuvwxy1%,] [--color=when] [-D format] [file ...]\r\n"
     ]
    }
   ],
   "source": [
    "!ls -z"
   ]
  },
  {
   "cell_type": "markdown",
   "id": "unavailable-giving",
   "metadata": {},
   "source": [
    "### Hidden Files\n",
    "\n",
    "With the `-a` option you can display all files:"
   ]
  },
  {
   "cell_type": "code",
   "execution_count": 8,
   "id": "intellectual-sense",
   "metadata": {},
   "outputs": [
    {
     "name": "stdout",
     "output_type": "stream",
     "text": [
      "\u001b[34m.\u001b[m\u001b[m                     create-delete.ipynb   index.rst\r\n",
      "\u001b[34m..\u001b[m\u001b[m                    file-system.ipynb     pipes-filters.ipynb\r\n",
      "\u001b[34m.ipynb_checkpoints\u001b[m\u001b[m    grep-find.ipynb       shell-variables.ipynb\r\n"
     ]
    }
   ],
   "source": [
    "!ls -a"
   ]
  },
  {
   "cell_type": "markdown",
   "id": "cultural-ghana",
   "metadata": {},
   "source": [
    "In addition to the hidden directories `..` and `.`, you may also see a directory called `.ipynb_checkpoints`. This file usually contains snapshots of the Jupyter notebooks."
   ]
  },
  {
   "cell_type": "markdown",
   "id": "latin-exclusive",
   "metadata": {},
   "source": [
    "## Show directory treeThe command `tree` lists contents of directories in a tree-like format."
   ]
  },
  {
   "cell_type": "code",
   "execution_count": 9,
   "id": "middle-stomach",
   "metadata": {},
   "outputs": [
    {
     "name": "stdout",
     "output_type": "stream",
     "text": [
      "\u001b[01;34m.\u001b[0m\r\n",
      "├── \u001b[00mcreate-delete.ipynb\u001b[0m\r\n",
      "├── \u001b[00mfile-system.ipynb\u001b[0m\r\n",
      "├── \u001b[00mgrep-find.ipynb\u001b[0m\r\n",
      "├── \u001b[00mindex.rst\u001b[0m\r\n",
      "├── \u001b[00mpipes-filters.ipynb\u001b[0m\r\n",
      "└── \u001b[00mshell-variables.ipynb\u001b[0m\r\n",
      "\r\n",
      "1 directory, 6 files\r\n"
     ]
    }
   ],
   "source": [
    "!tree"
   ]
  },
  {
   "cell_type": "markdown",
   "id": "divided-leone",
   "metadata": {},
   "source": [
    "## Change directory\n",
    "\n",
    "At first it may seem irritating to some that they cannot use `!cd` to change to another directory."
   ]
  },
  {
   "cell_type": "code",
   "execution_count": 10,
   "id": "moved-neutral",
   "metadata": {},
   "outputs": [
    {
     "name": "stdout",
     "output_type": "stream",
     "text": [
      "/Users/veit/cusy/trn/Python4DataScience/docs/workspace/ipython/unix-shell\r\n"
     ]
    }
   ],
   "source": [
    "!pwd"
   ]
  },
  {
   "cell_type": "code",
   "execution_count": 11,
   "id": "crude-toronto",
   "metadata": {},
   "outputs": [],
   "source": [
    "!cd .."
   ]
  },
  {
   "cell_type": "code",
   "execution_count": 12,
   "id": "detailed-canyon",
   "metadata": {},
   "outputs": [
    {
     "name": "stdout",
     "output_type": "stream",
     "text": [
      "/Users/veit/cusy/trn/Python4DataScience/docs/workspace/ipython/unix-shell\r\n"
     ]
    }
   ],
   "source": [
    "!pwd"
   ]
  },
  {
   "cell_type": "markdown",
   "id": "textile-eugene",
   "metadata": {},
   "source": [
    "The reason for this is that Jupyter uses a temporary subshell. If you want to change to another directory permanently, you have to use the [magic command](../magics.ipynb) `%cd`."
   ]
  },
  {
   "cell_type": "code",
   "execution_count": 13,
   "id": "liable-afghanistan",
   "metadata": {},
   "outputs": [
    {
     "name": "stdout",
     "output_type": "stream",
     "text": [
      "/Users/veit/cusy/trn/Python4DataScience/docs/workspace/ipython\n"
     ]
    }
   ],
   "source": [
    "%cd .."
   ]
  },
  {
   "cell_type": "code",
   "execution_count": 14,
   "id": "written-camping",
   "metadata": {},
   "outputs": [
    {
     "name": "stdout",
     "output_type": "stream",
     "text": [
      "/Users/veit/cusy/trn/Python4DataScience/docs/workspace/ipython\r\n"
     ]
    }
   ],
   "source": [
    "!pwd"
   ]
  },
  {
   "cell_type": "markdown",
   "id": "divine-garbage",
   "metadata": {},
   "source": [
    "With the `%automagic` function, these can also be used without the preceding `%` character:"
   ]
  },
  {
   "cell_type": "code",
   "execution_count": 16,
   "id": "lonely-illness",
   "metadata": {},
   "outputs": [
    {
     "name": "stdout",
     "output_type": "stream",
     "text": [
      "\n",
      "Automagic is ON, % prefix IS NOT needed for line magics.\n"
     ]
    }
   ],
   "source": [
    "%automagic"
   ]
  },
  {
   "cell_type": "code",
   "execution_count": 17,
   "id": "mobile-cologne",
   "metadata": {},
   "outputs": [
    {
     "name": "stdout",
     "output_type": "stream",
     "text": [
      "/Users/veit/cusy/trn/Python4DataScience/docs/workspace\n"
     ]
    }
   ],
   "source": [
    "cd .."
   ]
  },
  {
   "cell_type": "markdown",
   "id": "ed4e7d06",
   "metadata": {},
   "source": [
    "### Absolute and relative Paths"
   ]
  },
  {
   "cell_type": "code",
   "execution_count": 18,
   "id": "younger-pulse",
   "metadata": {},
   "outputs": [
    {
     "name": "stdout",
     "output_type": "stream",
     "text": [
      "/Users/veit/cusy/trn/Python4DataScience/docs/workspace\n"
     ]
    }
   ],
   "source": [
    "cd ."
   ]
  },
  {
   "cell_type": "code",
   "execution_count": 19,
   "id": "black-thursday",
   "metadata": {},
   "outputs": [
    {
     "name": "stdout",
     "output_type": "stream",
     "text": [
      "/Users/veit/cusy/trn/Python4DataScience\n"
     ]
    }
   ],
   "source": [
    "cd ../.."
   ]
  },
  {
   "cell_type": "code",
   "execution_count": 20,
   "id": "protective-plastic",
   "metadata": {},
   "outputs": [
    {
     "name": "stdout",
     "output_type": "stream",
     "text": [
      "/Users/veit/cusy/trn\n"
     ]
    }
   ],
   "source": [
    "cd .."
   ]
  },
  {
   "cell_type": "code",
   "execution_count": 21,
   "id": "expired-enough",
   "metadata": {},
   "outputs": [
    {
     "name": "stdout",
     "output_type": "stream",
     "text": [
      "/\n"
     ]
    }
   ],
   "source": [
    "cd /"
   ]
  },
  {
   "cell_type": "code",
   "execution_count": 22,
   "id": "tough-anchor",
   "metadata": {},
   "outputs": [
    {
     "name": "stdout",
     "output_type": "stream",
     "text": [
      "/Users/veit\n"
     ]
    }
   ],
   "source": [
    "cd"
   ]
  },
  {
   "cell_type": "code",
   "execution_count": 23,
   "id": "positive-orchestra",
   "metadata": {},
   "outputs": [
    {
     "name": "stdout",
     "output_type": "stream",
     "text": [
      "/Users/veit\n"
     ]
    }
   ],
   "source": [
    "cd ~"
   ]
  },
  {
   "cell_type": "code",
   "execution_count": 24,
   "id": "aggressive-hardware",
   "metadata": {},
   "outputs": [
    {
     "name": "stdout",
     "output_type": "stream",
     "text": [
      "/Users/veit\n"
     ]
    }
   ],
   "source": [
    "cd /Users/veit"
   ]
  }
 ],
 "metadata": {
  "kernelspec": {
   "display_name": "Python 3.11 Kernel",
   "language": "python",
   "name": "python311"
  },
  "language_info": {
   "codemirror_mode": {
    "name": "ipython",
    "version": 3
   },
   "file_extension": ".py",
   "mimetype": "text/x-python",
   "name": "python",
   "nbconvert_exporter": "python",
   "pygments_lexer": "ipython3",
   "version": "3.11.4"
  },
  "latex_envs": {
   "LaTeX_envs_menu_present": true,
   "autoclose": false,
   "autocomplete": true,
   "bibliofile": "biblio.bib",
   "cite_by": "apalike",
   "current_citInitial": 1,
   "eqLabelWithNumbers": true,
   "eqNumInitial": 1,
   "hotkeys": {
    "equation": "Ctrl-E",
    "itemize": "Ctrl-I"
   },
   "labels_anchors": false,
   "latex_user_defs": false,
   "report_style_numbering": false,
   "user_envs_cfg": false
  },
  "widgets": {
   "application/vnd.jupyter.widget-state+json": {
    "state": {},
    "version_major": 2,
    "version_minor": 0
   }
  }
 },
 "nbformat": 4,
 "nbformat_minor": 5
}
