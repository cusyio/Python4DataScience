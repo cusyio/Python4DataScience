{
 "cells": [
  {
   "cell_type": "markdown",
   "id": "coral-investigator",
   "metadata": {},
   "source": [
    "# Pipes and filters"
   ]
  },
  {
   "cell_type": "markdown",
   "id": "coral-investigator",
   "metadata": {},
   "source": [
    "`ls` shows all files and directories at this point."
   ]
  },
  {
   "cell_type": "code",
   "execution_count": 1,
   "id": "original-stuart",
   "metadata": {},
   "outputs": [
    {
     "name": "stdout",
     "output_type": "stream",
     "text": [
      "create-delete.ipynb   importing.ipynb       regex.ipynb\r\n",
      "debugging.ipynb       index.rst             shell-variables.ipynb\r\n",
      "display.ipynb         length.txt            shell.ipynb\r\n",
      "extensions.rst        magics.ipynb          sorted-length.txt\r\n",
      "file-system.ipynb     \u001b[34mmypackage\u001b[m\u001b[m             start.rst\r\n",
      "grep-find.ipynb       pipes-filters.ipynb\r\n"
     ]
    }
   ],
   "source": [
    "!ls"
   ]
  },
  {
   "cell_type": "markdown",
   "id": "nearby-complement",
   "metadata": {},
   "source": [
    "With `*.rst` we restrict the results to all files with the suffix `.rst`:"
   ]
  },
  {
   "cell_type": "code",
   "execution_count": 2,
   "id": "analyzed-attraction",
   "metadata": {},
   "outputs": [
    {
     "name": "stdout",
     "output_type": "stream",
     "text": [
      "extensions.rst index.rst      start.rst\r\n"
     ]
    }
   ],
   "source": [
    "!ls *.rst"
   ]
  },
  {
   "cell_type": "markdown",
   "id": "marked-palestine",
   "metadata": {},
   "source": [
    "We can also output only the number of lines, words and characters in these documents:"
   ]
  },
  {
   "cell_type": "code",
   "execution_count": 3,
   "id": "dynamic-prescription",
   "metadata": {},
   "outputs": [
    {
     "name": "stdout",
     "output_type": "stream",
     "text": [
      "      64     249    2096 extensions.rst\r\n",
      "      33      97     924 index.rst\r\n",
      "      30     146    1138 start.rst\r\n",
      "     127     492    4158 total\r\n"
     ]
    }
   ],
   "source": [
    "!wc *.rst"
   ]
  },
  {
   "cell_type": "markdown",
   "id": "adaptive-penetration",
   "metadata": {},
   "source": [
    "Now we write the number of characters in the file `length.txt` and then output the text with `cat`:"
   ]
  },
  {
   "cell_type": "code",
   "execution_count": 4,
   "id": "ordinary-sullivan",
   "metadata": {},
   "outputs": [],
   "source": [
    "!wc -m *.rst > length.txt"
   ]
  },
  {
   "cell_type": "code",
   "execution_count": 5,
   "id": "outstanding-desktop",
   "metadata": {},
   "outputs": [
    {
     "name": "stdout",
     "output_type": "stream",
     "text": [
      "    2094 extensions.rst\r\n",
      "     924 index.rst\r\n",
      "    1138 start.rst\r\n",
      "    4156 total\r\n"
     ]
    }
   ],
   "source": [
    "!cat length.txt"
   ]
  },
  {
   "cell_type": "markdown",
   "id": "colonial-definition",
   "metadata": {},
   "source": [
    "We can also have the files sorted by the number of characters:"
   ]
  },
  {
   "cell_type": "code",
   "execution_count": 6,
   "id": "middle-million",
   "metadata": {},
   "outputs": [
    {
     "name": "stdout",
     "output_type": "stream",
     "text": [
      "     924 index.rst\r\n",
      "    1138 start.rst\r\n",
      "    2094 extensions.rst\r\n",
      "    4156 total\r\n"
     ]
    }
   ],
   "source": [
    "!sort -n length.txt"
   ]
  },
  {
   "cell_type": "code",
   "execution_count": 7,
   "id": "intensive-testament",
   "metadata": {},
   "outputs": [],
   "source": [
    "!sort -n length.txt > sorted-length.txt"
   ]
  },
  {
   "cell_type": "markdown",
   "id": "about-consensus",
   "metadata": {},
   "source": [
    "We can also overwrite the existing file:"
   ]
  },
  {
   "cell_type": "code",
   "execution_count": 8,
   "id": "collectible-poison",
   "metadata": {},
   "outputs": [],
   "source": [
    "!sort -n length.txt > length.txt"
   ]
  },
  {
   "cell_type": "markdown",
   "id": "surrounded-tribune",
   "metadata": {},
   "source": [
    "If we only want to know the total number of characters, i.e. only output the last line, we can do this with `tail`:"
   ]
  },
  {
   "cell_type": "code",
   "execution_count": 9,
   "id": "absolute-steel",
   "metadata": {},
   "outputs": [],
   "source": [
    "!tail -n 1 length.txt"
   ]
  },
  {
   "cell_type": "markdown",
   "id": "turkish-collect",
   "metadata": {},
   "source": [
    "`>`  is used to overwrite a file while `>>` is used to append to a file."
   ]
  },
  {
   "cell_type": "code",
   "execution_count": 10,
   "id": "perfect-identifier",
   "metadata": {},
   "outputs": [],
   "source": [
    "!echo amount of characters >> length.txt"
   ]
  },
  {
   "cell_type": "code",
   "execution_count": 11,
   "id": "waiting-tours",
   "metadata": {},
   "outputs": [
    {
     "name": "stdout",
     "output_type": "stream",
     "text": [
      "amount of characters\r\n"
     ]
    }
   ],
   "source": [
    "!cat length.txt"
   ]
  },
  {
   "cell_type": "markdown",
   "id": "enhanced-rates",
   "metadata": {},
   "source": [
    "### Pipe `|`\n",
    "\n",
    "You can connect commands with a pipe (`|`). In the following one-liner, we want to display the number of characters for the shortest file:"
   ]
  },
  {
   "cell_type": "code",
   "execution_count": 12,
   "id": "proprietary-center",
   "metadata": {},
   "outputs": [
    {
     "name": "stdout",
     "output_type": "stream",
     "text": [
      "      28 index.rst\r\n",
     ]
    }
   ],
   "source": [
    "!wc -l *.rst | sort -n | head"
   ]
  },
  {
   "cell_type": "markdown",
   "id": "handmade-leisure",
   "metadata": {},
   "source": [
    "Wenn wir uns die ersten Zeilen des Haupttextes anzeigen lassen "
   ]
  },
  {
   "cell_type": "code",
   "execution_count": 13,
   "id": "willing-average",
   "metadata": {},
   "outputs": [
    {
     "name": "stdout",
     "output_type": "stream",
     "text": [
      "`IPython <http://ipython.org/>`_, or *Interactive Python*, was initially an\r\n",
      "advanced Python interpreter that has now grown into an extensive project\r\n"
     ]
    }
   ],
   "source": [
    "!cat index.rst | head -n 5 | tail -n 2"
   ]
  }
 ],
 "metadata": {
  "kernelspec": {
   "display_name": "Python 3.7.4",
   "language": "python",
   "name": "python-373"
  },
  "language_info": {
   "codemirror_mode": {
    "name": "ipython",
    "version": 3
   },
   "file_extension": ".py",
   "mimetype": "text/x-python",
   "name": "python",
   "nbconvert_exporter": "python",
   "pygments_lexer": "ipython3",
   "version": "3.7.4"
  },
  "latex_envs": {
   "LaTeX_envs_menu_present": true,
   "autoclose": false,
   "autocomplete": true,
   "bibliofile": "biblio.bib",
   "cite_by": "apalike",
   "current_citInitial": 1,
   "eqLabelWithNumbers": true,
   "eqNumInitial": 1,
   "hotkeys": {
    "equation": "Ctrl-E",
    "itemize": "Ctrl-I"
   },
   "labels_anchors": false,
   "latex_user_defs": false,
   "report_style_numbering": false,
   "user_envs_cfg": false
  }
 },
 "nbformat": 4,
 "nbformat_minor": 5
}
