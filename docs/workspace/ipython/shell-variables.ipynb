{
 "cells": [
  {
   "cell_type": "markdown",
   "id": "detected-assault",
   "metadata": {},
   "source": [
    "# Shell variables"
   ]
  },
  {
   "cell_type": "code",
   "execution_count": 1,
   "id": "civic-porcelain",
   "metadata": {},
   "outputs": [
    {
     "name": "stdout",
     "output_type": "stream",
     "text": [
      "BASH=/usr/local/bin/bash\r\n",
      "BASHOPTS=checkwinsize:cmdhist:complete_fullquote:extquote:force_fignore:globasciiranges:hostcomplete:interactive_comments:progcomp:promptvars:sourcepath\r\n",
      "BASH_ALIASES=()\r\n",
      "BASH_ARGC=()\r\n",
      "BASH_ARGV=()\r\n",
      "BASH_CMDS=()\r\n",
      "BASH_EXECUTION_STRING=set\r\n",
      "BASH_LINENO=()\r\n",
      "BASH_SOURCE=()\r\n",
      "BASH_VERSINFO=([0]=\"5\" [1]=\"0\" [2]=\"16\" [3]=\"1\" [4]=\"release\" [5]=\"x86_64-apple-darwin19.3.0\")\r\n",
      "BASH_VERSION='5.0.16(1)-release'\r\n",
      "CLICOLOR=1\r\n",
      "CPPFLAGS=-I/usr/local/opt/openblas/include\r\n",
      "DIRSTACK=()\r\n",
      "DISPLAY=/private/tmp/com.apple.launchd.WfrReZHn7e/org.macosforge.xquartz:0\r\n",
      "…\r\n"
     ]
    }
   ],
   "source": [
    "!set"
   ]
  },
  {
   "cell_type": "code",
   "execution_count": 2,
   "id": "focused-pastor",
   "metadata": {},
   "outputs": [
    {
     "name": "stdout",
     "output_type": "stream",
     "text": [
      "/Users/veit\r\n"
     ]
    }
   ],
   "source": [
    "!echo $HOME"
   ]
  },
  {
   "cell_type": "code",
   "execution_count": 3,
   "id": "abandoned-reservation",
   "metadata": {},
   "outputs": [],
   "source": [
    "!export SPACK_ROOT=~/spack"
   ]
  }
 ],
 "metadata": {
  "kernelspec": {
   "display_name": "Python 3.7.4",
   "language": "python",
   "name": "python-373"
  },
  "language_info": {
   "codemirror_mode": {
    "name": "ipython",
    "version": 3
   },
   "file_extension": ".py",
   "mimetype": "text/x-python",
   "name": "python",
   "nbconvert_exporter": "python",
   "pygments_lexer": "ipython3",
   "version": "3.7.4"
  },
  "latex_envs": {
   "LaTeX_envs_menu_present": true,
   "autoclose": false,
   "autocomplete": true,
   "bibliofile": "biblio.bib",
   "cite_by": "apalike",
   "current_citInitial": 1,
   "eqLabelWithNumbers": true,
   "eqNumInitial": 1,
   "hotkeys": {
    "equation": "Ctrl-E",
    "itemize": "Ctrl-I"
   },
   "labels_anchors": false,
   "latex_user_defs": false,
   "report_style_numbering": false,
   "user_envs_cfg": false
  }
 },
 "nbformat": 4,
 "nbformat_minor": 5
}
