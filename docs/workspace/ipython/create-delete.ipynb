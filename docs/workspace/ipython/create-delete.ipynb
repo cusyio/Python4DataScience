{
 "cells": [
  {
   "cell_type": "markdown",
   "id": "continental-feelings",
   "metadata": {},
   "source": [
    "# Create, update and delete files and directories"
   ]
  },
  {
   "cell_type": "code",
   "execution_count": 1,
   "id": "powered-lesbian",
   "metadata": {},
   "outputs": [],
   "source": [
    "!mkdir tests"
   ]
  },
  {
   "cell_type": "code",
   "execution_count": 2,
   "id": "bigger-check",
   "metadata": {},
   "outputs": [
    {
     "name": "stdout",
     "output_type": "stream",
     "text": [
      "cud.ipynb           file-system.ipynb   length.txt          shell.ipynb\r\n",
      "debugging.ipynb     hello.txt           magics.ipynb        sorted-length.txt\r\n",
      "display.ipynb       importing.ipynb     \u001b[34mmypackage\u001b[m\u001b[m           start.rst\r\n",
      "extensions.rst      index.rst           pipes-filters.ipynb \u001b[34mtests\u001b[m\u001b[m\r\n"
     ]
    }
   ],
   "source": [
    "!ls"
   ]
  },
  {
   "cell_type": "code",
   "execution_count": 3,
   "id": "white-render",
   "metadata": {},
   "outputs": [],
   "source": [
    "!touch tests/test_file.txt"
   ]
  },
  {
   "cell_type": "code",
   "execution_count": 4,
   "id": "leading-malpractice",
   "metadata": {},
   "outputs": [
    {
     "name": "stdout",
     "output_type": "stream",
     "text": [
      "test_file.txt\r\n"
     ]
    }
   ],
   "source": [
    "!ls tests"
   ]
  },
  {
   "cell_type": "code",
   "execution_count": 5,
   "id": "mature-country",
   "metadata": {},
   "outputs": [],
   "source": [
    "!mv tests/test_file.txt tests/test_file.rst"
   ]
  },
  {
   "cell_type": "code",
   "execution_count": 6,
   "id": "joined-notebook",
   "metadata": {},
   "outputs": [
    {
     "name": "stdout",
     "output_type": "stream",
     "text": [
      "test_file.rst\r\n"
     ]
    }
   ],
   "source": [
    "!ls tests"
   ]
  },
  {
   "cell_type": "code",
   "execution_count": 7,
   "id": "figured-value",
   "metadata": {},
   "outputs": [],
   "source": [
    "!cp tests/test_file.rst tests/test_file2.rst"
   ]
  },
  {
   "cell_type": "code",
   "execution_count": 8,
   "id": "lined-moldova",
   "metadata": {},
   "outputs": [
    {
     "name": "stdout",
     "output_type": "stream",
     "text": [
      "test_file.rst  test_file2.rst\r\n"
     ]
    }
   ],
   "source": [
    "!ls tests"
   ]
  },
  {
   "cell_type": "code",
   "execution_count": 9,
   "id": "persistent-funds",
   "metadata": {},
   "outputs": [],
   "source": [
    "!cp -r tests tests.bak"
   ]
  },
  {
   "cell_type": "code",
   "execution_count": 10,
   "id": "subject-samuel",
   "metadata": {},
   "outputs": [
    {
     "name": "stdout",
     "output_type": "stream",
     "text": [
      "test_file.rst  test_file2.rst\r\n"
     ]
    }
   ],
   "source": [
    "!ls tests.bak"
   ]
  },
  {
   "cell_type": "code",
   "execution_count": 11,
   "id": "broke-mouth",
   "metadata": {},
   "outputs": [],
   "source": [
    "!rm -r tests tests.bak"
   ]
  },
  {
   "cell_type": "code",
   "execution_count": 12,
   "id": "fatty-spelling",
   "metadata": {},
   "outputs": [
    {
     "name": "stdout",
     "output_type": "stream",
     "text": [
      "cud.ipynb           file-system.ipynb   length.txt          shell.ipynb\r\n",
      "debugging.ipynb     hello.txt           magics.ipynb        sorted-length.txt\r\n",
      "display.ipynb       importing.ipynb     \u001b[34mmypackage\u001b[m\u001b[m           start.rst\r\n",
      "extensions.rst      index.rst           pipes-filters.ipynb\r\n"
     ]
    }
   ],
   "source": [
    "!ls"
   ]
  }
 ],
 "metadata": {
  "kernelspec": {
   "display_name": "Python 3.7.4",
   "language": "python",
   "name": "python-373"
  },
  "language_info": {
   "codemirror_mode": {
    "name": "ipython",
    "version": 3
   },
   "file_extension": ".py",
   "mimetype": "text/x-python",
   "name": "python",
   "nbconvert_exporter": "python",
   "pygments_lexer": "ipython3",
   "version": "3.7.4"
  },
  "latex_envs": {
   "LaTeX_envs_menu_present": true,
   "autoclose": false,
   "autocomplete": true,
   "bibliofile": "biblio.bib",
   "cite_by": "apalike",
   "current_citInitial": 1,
   "eqLabelWithNumbers": true,
   "eqNumInitial": 1,
   "hotkeys": {
    "equation": "Ctrl-E",
    "itemize": "Ctrl-I"
   },
   "labels_anchors": false,
   "latex_user_defs": false,
   "report_style_numbering": false,
   "user_envs_cfg": false
  }
 },
 "nbformat": 4,
 "nbformat_minor": 5
}
