{
 "cells": [
  {
   "cell_type": "markdown",
   "id": "continental-feelings",
   "metadata": {},
   "source": [
    "# Create, update and delete files and directories"
   ]
  },
  {
   "cell_type": "code",
   "execution_count": 1,
   "id": "powered-lesbian",
   "metadata": {},
   "outputs": [],
   "source": [
    "!mkdir tests"
   ]
  },
  {
   "cell_type": "code",
   "execution_count": 2,
   "id": "bigger-check",
   "metadata": {},
   "outputs": [
    {
     "name": "stdout",
     "output_type": "stream",
     "text": [
      "cud.ipynb           file-system.ipynb   length.txt          shell.ipynb\r\n",
      "debugging.ipynb     hello.txt           magics.ipynb        sorted-length.txt\r\n",
      "display.ipynb       importing.ipynb     \u001b[34mmypackage\u001b[m\u001b[m           start.rst\r\n",
      "extensions.rst      index.rst           pipes-filters.ipynb \u001b[34mtests\u001b[m\u001b[m\r\n"
     ]
    }
   ],
   "source": [
    "!ls"
   ]
  },
  {
   "cell_type": "code",
   "execution_count": 3,
   "id": "white-render",
   "metadata": {},
   "outputs": [],
   "source": [
    "!touch tests/test_file.txt"
   ]
  },
  {
   "cell_type": "code",
   "execution_count": 4,
   "id": "leading-malpractice",
   "metadata": {},
   "outputs": [
    {
     "name": "stdout",
     "output_type": "stream",
     "text": [
      "test_file.txt\r\n"
     ]
    }
   ],
   "source": [
    "!ls tests"
   ]
  },
  {
   "cell_type": "code",
   "execution_count": 5,
   "id": "mature-country",
   "metadata": {},
   "outputs": [],
   "source": [
    "!mv tests/test_file.txt tests/test_file.rst"
   ]
  },
  {
   "cell_type": "code",
   "execution_count": 6,
   "id": "joined-notebook",
   "metadata": {},
   "outputs": [
    {
     "name": "stdout",
     "output_type": "stream",
     "text": [
      "test_file.rst\r\n"
     ]
    }
   ],
   "source": [
    "!ls tests"
   ]
  },
  {
   "cell_type": "code",
   "execution_count": 7,
   "id": "figured-value",
   "metadata": {},
   "outputs": [],
   "source": [
    "!cp tests/test_file.rst tests/test_file2.rst"
   ]
  },
  {
   "cell_type": "code",
   "execution_count": 8,
   "id": "lined-moldova",
   "metadata": {},
   "outputs": [
    {
     "name": "stdout",
     "output_type": "stream",
     "text": [
      "test_file.rst  test_file2.rst\r\n"
     ]
    }
   ],
   "source": [
    "!ls tests"
   ]
  },
  {
   "cell_type": "code",
   "execution_count": 9,
   "id": "persistent-funds",
   "metadata": {},
   "outputs": [],
   "source": [
    "!cp -r tests tests.bak"
   ]
  },
  {
   "cell_type": "code",
   "execution_count": 10,
   "id": "subject-samuel",
   "metadata": {},
   "outputs": [
    {
     "name": "stdout",
     "output_type": "stream",
     "text": [
      "test_file.rst  test_file2.rst\r\n"
     ]
    }
   ],
   "source": [
    "!ls tests.bak"
   ]
  },
  {
   "cell_type": "code",
   "execution_count": 11,
   "id": "broke-mouth",
   "metadata": {},
   "outputs": [],
   "source": [
    "!rm -r tests tests.bak"
   ]
  },
  {
   "cell_type": "code",
   "execution_count": 12,
   "id": "fatty-spelling",
   "metadata": {},
   "outputs": [
    {
     "name": "stdout",
     "output_type": "stream",
     "text": [
      "cud.ipynb           file-system.ipynb   length.txt          shell.ipynb\r\n",
      "debugging.ipynb     hello.txt           magics.ipynb        sorted-length.txt\r\n",
      "display.ipynb       importing.ipynb     \u001b[34mmypackage\u001b[m\u001b[m           start.rst\r\n",
      "extensions.rst      index.rst           pipes-filters.ipynb\r\n"
     ]
    }
   ],
   "source": [
    "!ls"
   ]
  },
  {
   "cell_type": "markdown",
   "id": "peripheral-timer",
   "metadata": {},
   "source": [
    "## Transfering files"
   ]
  },
  {
   "cell_type": "markdown",
   "id": "brazilian-floating",
   "metadata": {},
   "source": [
    "### `wget`"
   ]
  },
  {
   "cell_type": "code",
   "execution_count": 5,
   "id": "thousand-glenn",
   "metadata": {},
   "outputs": [
    {
     "name": "stdout",
     "output_type": "stream",
     "text": [
      "--2021-05-14 20:35:44--  https://dvc.org/deb/dvc.list\n",
      "Auflösen des Hostnamens dvc.org (dvc.org)… 2606:4700:3036::6815:51cd, 2606:4700:3033::ac43:a44c, 172.67.164.76, ...\n",
      "Verbindungsaufbau zu dvc.org (dvc.org)|2606:4700:3036::6815:51cd|:443 … verbunden.\n",
      "HTTP-Anforderung gesendet, auf Antwort wird gewartet … 303 See Other\n",
      "Platz: https://s3-us-east-2.amazonaws.com/dvc-s3-repo/deb/dvc.list [folgend]\n",
      "--2021-05-14 20:35:45--  https://s3-us-east-2.amazonaws.com/dvc-s3-repo/deb/dvc.list\n",
      "Auflösen des Hostnamens s3-us-east-2.amazonaws.com (s3-us-east-2.amazonaws.com)… 52.219.97.209\n",
      "Verbindungsaufbau zu s3-us-east-2.amazonaws.com (s3-us-east-2.amazonaws.com)|52.219.97.209|:443 … verbunden.\n",
      "HTTP-Anforderung gesendet, auf Antwort wird gewartet … 200 OK\n",
      "Länge: 51 [binary/octet-stream]\n",
      "Wird in »dvc.list.3« gespeichert.\n",
      "\n",
      "dvc.list.3          100%[===================>]      51  --.-KB/s    in 0s      \n",
      "\n",
      "2021-05-14 20:35:45 (1,68 MB/s) - »dvc.list.3« gespeichert [51/51]\n",
      "\n"
     ]
    }
   ],
   "source": [
    "!wget https://dvc.org/deb/dvc.list"
   ]
  },
  {
   "cell_type": "markdown",
   "id": "subjective-bandwidth",
   "metadata": {},
   "source": [
    "* `-r` recursively crawls other files and directories\n",
    "* `-np` avoids crawling to parent directories\n",
    "* `-D` targets only the following domain name\n",
    "* `-nH` avoids creating a subdirectory for the websites content\n",
    "* `-m` mirrors with time stamping, time stamping, infinite recursion depth, and preservation of FTP directory settings\n",
    "* `-q` supresses the output to the screen"
   ]
  },
  {
   "cell_type": "markdown",
   "id": "pursuant-stephen",
   "metadata": {},
   "source": [
    "### `cURL`\n",
    "\n",
    "Alternatively, you can use cURL, which supports a much larger range of protocols."
   ]
  },
  {
   "cell_type": "code",
   "execution_count": 6,
   "id": "royal-wilderness",
   "metadata": {},
   "outputs": [
    {
     "name": "stdout",
     "output_type": "stream",
     "text": [
      "  % Total    % Received % Xferd  Average Speed   Time    Time     Time  Current\n",
      "                                 Dload  Upload   Total   Spent    Left  Speed\n",
      "100    85  100    85    0     0    159      0 --:--:-- --:--:-- --:--:--   159\n"
     ]
    }
   ],
   "source": [
    "!curl -o dvc.list https://dvc.org/deb/dvc.list"
   ]
  },
  {
   "cell_type": "code",
   "execution_count": null,
   "id": "turkish-threshold",
   "metadata": {},
   "outputs": [],
   "source": []
  }
 ],
 "metadata": {
  "kernelspec": {
   "display_name": "Python 3.7.4",
   "language": "python",
   "name": "python-373"
  },
  "language_info": {
   "codemirror_mode": {
    "name": "ipython",
    "version": 3
   },
   "file_extension": ".py",
   "mimetype": "text/x-python",
   "name": "python",
   "nbconvert_exporter": "python",
   "pygments_lexer": "ipython3",
   "version": "3.7.4"
  },
  "latex_envs": {
   "LaTeX_envs_menu_present": true,
   "autoclose": false,
   "autocomplete": true,
   "bibliofile": "biblio.bib",
   "cite_by": "apalike",
   "current_citInitial": 1,
   "eqLabelWithNumbers": true,
   "eqNumInitial": 1,
   "hotkeys": {
    "equation": "Ctrl-E",
    "itemize": "Ctrl-I"
   },
   "labels_anchors": false,
   "latex_user_defs": false,
   "report_style_numbering": false,
   "user_envs_cfg": false
  }
 },
 "nbformat": 4,
 "nbformat_minor": 5
}
