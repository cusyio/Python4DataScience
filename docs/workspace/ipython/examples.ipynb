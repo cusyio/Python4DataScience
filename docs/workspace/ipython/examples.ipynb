{
 "cells": [
  {
   "cell_type": "markdown",
   "id": "052d5df9",
   "metadata": {},
   "source": [
    "# IPython examples"
   ]
  },
  {
   "cell_type": "markdown",
   "id": "ddab5ceb",
   "metadata": {},
   "source": [
    "## Running Python code"
   ]
  },
  {
   "cell_type": "markdown",
   "id": "bf1366c2",
   "metadata": {},
   "source": [
    "### Show Python version"
   ]
  },
  {
   "cell_type": "code",
   "execution_count": 1,
   "id": "350b0b1f",
   "metadata": {},
   "outputs": [],
   "source": [
    "import sys\n",
    "\n",
    "sys.version_info"
   ]
  },
  {
   "cell_type": "markdown",
   "id": "85985c4b",
   "metadata": {},
   "source": [
    "### Show versions of Python packages\n",
    "\n",
    "Most Python packages provide a `__version__` method for this:"
   ]
  },
  {
   "cell_type": "code",
   "execution_count": 2,
   "id": "07dbedd0",
   "metadata": {},
   "outputs": [
    {
     "data": {
      "text/plain": [
       "'1.3.4'"
      ]
     },
     "execution_count": 2,
     "metadata": {},
     "output_type": "execute_result"
    }
   ],
   "source": [
    "import pandas as pd\n",
    "\n",
    "pd.__version__"
   ]
  },
  {
   "cell_type": "markdown",
   "id": "f8603063",
   "metadata": {},
   "source": [
    "Alternatively, you can use `version` from `importlib_metadata`:"
   ]
  },
  {
   "cell_type": "code",
   "execution_count": 3,
   "id": "59e1742e",
   "metadata": {},
   "outputs": [
    {
     "name": "stdout",
     "output_type": "stream",
     "text": [
      "1.3.4\n"
     ]
    }
   ],
   "source": [
    "from importlib_metadata import version\n",
    "\n",
    "print(version('pandas'))"
   ]
  },
  {
   "cell_type": "markdown",
   "id": "190d253a",
   "metadata": {},
   "source": [
    "### Information about the host operating system and the versions of installed Python packages"
   ]
  },
  {
   "cell_type": "code",
   "execution_count": 4,
   "id": "65edc94b",
   "metadata": {},
   "outputs": [
    {
     "name": "stdout",
     "output_type": "stream",
     "text": [
      "\n",
      "INSTALLED VERSIONS\n",
      "------------------\n",
      "commit           : 945c9ed766a61c7d2c0a7cbb251b6edebf9cb7d5\n",
      "python           : 3.8.12.final.0\n",
      "python-bits      : 64\n",
      "OS               : Linux\n",
      "OS-release       : 5.13.0-30-generic\n",
      "Version          : #33~20.04.1-Ubuntu SMP Mon Feb 7 14:25:10 UTC 2022\n",
      "machine          : x86_64\n",
      "processor        : x86_64\n",
      "byteorder        : little\n",
      "LC_ALL           : None\n",
      "LANG             : de_DE.UTF-8\n",
      "LOCALE           : de_DE.UTF-8\n",
      "\n",
      "pandas           : 1.3.4\n",
      "numpy            : 1.21.3\n",
      "pytz             : 2021.1\n",
      "dateutil         : 2.8.2\n",
      "pip              : None\n",
      "setuptools       : 57.4.0\n",
      "Cython           : 0.29.24\n",
      "pytest           : 6.2.4\n",
      "hypothesis       : None\n",
      "sphinx           : 4.1.2\n",
      "blosc            : None\n",
      "feather          : None\n",
      "xlsxwriter       : None\n",
      "lxml.etree       : 4.6.3\n",
      "html5lib         : 1.1\n",
      "pymysql          : None\n",
      "psycopg2         : None\n",
      "jinja2           : 3.0.1\n",
      "IPython          : 7.28.0\n",
      "pandas_datareader: None\n",
      "bs4              : 4.10.0\n",
      "bottleneck       : 1.3.2\n",
      "fsspec           : 0.9.0\n",
      "fastparquet      : None\n",
      "gcsfs            : None\n",
      "matplotlib       : 3.4.3\n",
      "numexpr          : 2.7.3\n",
      "odfpy            : None\n",
      "openpyxl         : 3.0.3\n",
      "pandas_gbq       : None\n",
      "pyarrow          : None\n",
      "pyxlsb           : None\n",
      "s3fs             : None\n",
      "scipy            : 1.7.1\n",
      "sqlalchemy       : None\n",
      "tables           : None\n",
      "tabulate         : 0.8.9\n",
      "xarray           : 0.18.2\n",
      "xlrd             : 2.0.1\n",
      "xlwt             : None\n",
      "numba            : None\n"
     ]
    }
   ],
   "source": [
    "pd.show_versions()"
   ]
  },
  {
   "cell_type": "markdown",
   "id": "cf1ad941",
   "metadata": {},
   "source": [
    "### Only use Python versions ≥ 3.8"
   ]
  },
  {
   "cell_type": "code",
   "execution_count": 5,
   "id": "9525b5f6",
   "metadata": {},
   "outputs": [],
   "source": [
    "import sys\n",
    "assert sys.version_info[:2] >= (3, 8)"
   ]
  },
  {
   "cell_type": "markdown",
   "id": "c01a8834",
   "metadata": {},
   "source": [
    "## Shell commands"
   ]
  },
  {
   "cell_type": "code",
   "execution_count": 6,
   "id": "64f57ba2",
   "metadata": {},
   "outputs": [
    {
     "name": "stdout",
     "output_type": "stream",
     "text": [
      "Python 3.8.12\r\n"
     ]
    }
   ],
   "source": [
    "!python3 -V"
   ]
  },
  {
   "cell_type": "code",
   "execution_count": 7,
   "id": "d6988b1d",
   "metadata": {},
   "outputs": [
    {
     "name": "stdout",
     "output_type": "stream",
     "text": [
      "/srv/jupyter/spack/var/spack/environments/python-38/.spack-env/view/bin/python3: No module named pip\r\n"
     ]
    }
   ],
   "source": [
    "!python3 -m pip --version"
   ]
  },
  {
   "cell_type": "markdown",
   "id": "e3a8bd57",
   "metadata": {},
   "source": [
    "## Tab completion"
   ]
  },
  {
   "cell_type": "markdown",
   "id": "bd5fee20",
   "metadata": {},
   "source": [
    "… for objects with methods and attributes:\n",
    "\n",
    "![Tab completion for objects](tab-completion-for-objects.png)"
   ]
  },
  {
   "cell_type": "markdown",
   "id": "ede967a8",
   "metadata": {},
   "source": [
    "… and also for modules:\n",
    "\n",
    "![Tab completion for modules](tab-completion-for-modules.png)"
   ]
  },
  {
   "cell_type": "markdown",
   "id": "bfcd22fb",
   "metadata": {},
   "source": [
    "<div class=\"alert alert-block alert-info\">\n",
    "<b>Note:</b>\n",
    "    <p>As you may have noticed in surprise, the <code>__version__</code> method used above is not offered in the selection. IPython initially hides these private methods and attributes that begin with underscores. However, they can also be completed with a tabulator if you first enter an underscore. Alternatively, you can change this setting in the IPython configuration.</p>\n",
    "</div>"
   ]
  },
  {
   "cell_type": "markdown",
   "id": "8303578e",
   "metadata": {},
   "source": [
    "… for almost everything:\n",
    "\n",
    "![Tab completion for almost everything](tab-completion-for-anything.png)"
   ]
  },
  {
   "cell_type": "markdown",
   "id": "7259a471",
   "metadata": {},
   "source": [
    "## Displaying information about an object\n",
    "\n",
    "With a question mark (`?`) you can display information about an object if, for example, there is a method `multiply` with the following docstring:"
   ]
  },
  {
   "cell_type": "code",
   "execution_count": 8,
   "id": "61159a4f",
   "metadata": {},
   "outputs": [],
   "source": [
    "import numpy as np"
   ]
  },
  {
   "cell_type": "code",
   "execution_count": 9,
   "id": "0234c59b",
   "metadata": {},
   "outputs": [],
   "source": [
    "np.mean?"
   ]
  },
  {
   "cell_type": "markdown",
   "id": "e133a850",
   "metadata": {},
   "source": [
    "```rst\n",
    "Signature:\n",
    "np.mean(\n",
    "    a,\n",
    "    axis=None,\n",
    "    dtype=None,\n",
    "    out=None,\n",
    "    keepdims=<no value>,\n",
    "    *,\n",
    "    where=<no value>,\n",
    ")\n",
    "Docstring:\n",
    "Compute the arithmetic mean along the specified axis.\n",
    "\n",
    "Returns the average of the array elements.  The average is taken over\n",
    "the flattened array by default, otherwise over the specified axis.\n",
    "`float64` intermediate and return values are used for integer inputs.\n",
    "\n",
    "Parameters\n",
    "----------\n",
    "a : array_like\n",
    "    Array containing numbers whose mean is desired. If `a` is not an\n",
    "    array, a conversion is attempted.\n",
    "axis : None or int or tuple of ints, optional\n",
    "    Axis or axes along which the means are computed. The default is to\n",
    "    compute the mean of the flattened array.\n",
    "\n",
    "    .. versionadded:: 1.7.0\n",
    "\n",
    "    If this is a tuple of ints, a mean is performed over multiple axes,\n",
    "    instead of a single axis or all the axes as before.\n",
    "dtype : data-type, optional\n",
    "    Type to use in computing the mean.  For integer inputs, the default\n",
    "    is `float64`; for floating point inputs, it is the same as the\n",
    "    input dtype.\n",
    "out : ndarray, optional\n",
    "    Alternate output array in which to place the result.  The default\n",
    "    is ``None``; if provided, it must have the same shape as the\n",
    "    expected output, but the type will be cast if necessary.\n",
    "    See :ref:`ufuncs-output-type` for more details.\n",
    "\n",
    "keepdims : bool, optional\n",
    "    If this is set to True, the axes which are reduced are left\n",
    "    in the result as dimensions with size one. With this option,\n",
    "    the result will broadcast correctly against the input array.\n",
    "\n",
    "    If the default value is passed, then `keepdims` will not be\n",
    "    passed through to the `mean` method of sub-classes of\n",
    "    `ndarray`, however any non-default value will be.  If the\n",
    "    sub-class' method does not implement `keepdims` any\n",
    "    exceptions will be raised.\n",
    "\n",
    "where : array_like of bool, optional\n",
    "    Elements to include in the mean. See `~numpy.ufunc.reduce` for details.\n",
    "\n",
    "    .. versionadded:: 1.20.0\n",
    "\n",
    "Returns\n",
    "-------\n",
    "m : ndarray, see dtype parameter above\n",
    "    If `out=None`, returns a new array containing the mean values,\n",
    "    otherwise a reference to the output array is returned.\n",
    "\n",
    "See Also\n",
    "--------\n",
    "average : Weighted average\n",
    "std, var, nanmean, nanstd, nanvar\n",
    "\n",
    "Notes\n",
    "-----\n",
    "The arithmetic mean is the sum of the elements along the axis divided\n",
    "by the number of elements.\n",
    "\n",
    "Note that for floating-point input, the mean is computed using the\n",
    "same precision the input has.  Depending on the input data, this can\n",
    "cause the results to be inaccurate, especially for `float32` (see\n",
    "example below).  Specifying a higher-precision accumulator using the\n",
    "`dtype` keyword can alleviate this issue.\n",
    "\n",
    "By default, `float16` results are computed using `float32` intermediates\n",
    "for extra precision.\n",
    "\n",
    "Examples\n",
    "--------\n",
    ">>> a = np.array([[1, 2], [3, 4]])\n",
    ">>> np.mean(a)\n",
    "2.5\n",
    ">>> np.mean(a, axis=0)\n",
    "array([2., 3.])\n",
    ">>> np.mean(a, axis=1)\n",
    "array([1.5, 3.5])\n",
    "\n",
    "In single precision, `mean` can be inaccurate:\n",
    "\n",
    ">>> a = np.zeros((2, 512*512), dtype=np.float32)\n",
    ">>> a[0, :] = 1.0\n",
    ">>> a[1, :] = 0.1\n",
    ">>> np.mean(a)\n",
    "0.54999924\n",
    "\n",
    "Computing the mean in float64 is more accurate:\n",
    "\n",
    ">>> np.mean(a, dtype=np.float64)\n",
    "0.55000000074505806 # may vary\n",
    "\n",
    "Specifying a where argument:\n",
    ">>> a = np.array([[5, 9, 13], [14, 10, 12], [11, 15, 19]])\n",
    ">>> np.mean(a)\n",
    "12.0\n",
    ">>> np.mean(a, where=[[True], [False], [False]])\n",
    "9.0\n",
    "File:      ~/spack/var/spack/environments/python-38/.spack-env/view/lib/python3.8/site-packages/numpy/core/fromnumeric.py\n",
    "Type:      function\n",
    "```"
   ]
  },
  {
   "cell_type": "markdown",
   "id": "0361df51",
   "metadata": {},
   "source": [
    "By using `??` the source code of the function is also displayed, if this is possible:"
   ]
  },
  {
   "cell_type": "code",
   "execution_count": 10,
   "id": "87e12669",
   "metadata": {},
   "outputs": [],
   "source": [
    "np.mean??"
   ]
  },
  {
   "cell_type": "markdown",
   "id": "93e9e896",
   "metadata": {},
   "source": [
    "```rst\n",
    "Signature:\n",
    "np.mean(\n",
    "    a,\n",
    "    axis=None,\n",
    "    dtype=None,\n",
    "    out=None,\n",
    "    keepdims=<no value>,\n",
    "    *,\n",
    "    where=<no value>,\n",
    ")\n",
    "Source:   \n",
    "@array_function_dispatch(_mean_dispatcher)\n",
    "def mean(a, axis=None, dtype=None, out=None, keepdims=np._NoValue, *,\n",
    "         where=np._NoValue):\n",
    "    \"\"\"\n",
    "    Compute the arithmetic mean along the specified axis.\n",
    "\n",
    "    Returns the average of the array elements.  The average is taken over\n",
    "    the flattened array by default, otherwise over the specified axis.\n",
    "    `float64` intermediate and return values are used for integer inputs.\n",
    "\n",
    "    Parameters\n",
    "    ----------\n",
    "    a : array_like\n",
    "        Array containing numbers whose mean is desired. If `a` is not an\n",
    "        array, a conversion is attempted.\n",
    "    axis : None or int or tuple of ints, optional\n",
    "        Axis or axes along which the means are computed. The default is to\n",
    "        compute the mean of the flattened array.\n",
    "\n",
    "        .. versionadded:: 1.7.0\n",
    "\n",
    "        If this is a tuple of ints, a mean is performed over multiple axes,\n",
    "        instead of a single axis or all the axes as before.\n",
    "    dtype : data-type, optional\n",
    "        Type to use in computing the mean.  For integer inputs, the default\n",
    "        is `float64`; for floating point inputs, it is the same as the\n",
    "        input dtype.\n",
    "    out : ndarray, optional\n",
    "        Alternate output array in which to place the result.  The default\n",
    "        is ``None``; if provided, it must have the same shape as the\n",
    "        expected output, but the type will be cast if necessary.\n",
    "        See :ref:`ufuncs-output-type` for more details.\n",
    "\n",
    "    keepdims : bool, optional\n",
    "        If this is set to True, the axes which are reduced are left\n",
    "        in the result as dimensions with size one. With this option,\n",
    "        the result will broadcast correctly against the input array.\n",
    "\n",
    "        If the default value is passed, then `keepdims` will not be\n",
    "        passed through to the `mean` method of sub-classes of\n",
    "        `ndarray`, however any non-default value will be.  If the\n",
    "        sub-class' method does not implement `keepdims` any\n",
    "        exceptions will be raised.\n",
    "\n",
    "    where : array_like of bool, optional\n",
    "        Elements to include in the mean. See `~numpy.ufunc.reduce` for details.\n",
    "\n",
    "        .. versionadded:: 1.20.0\n",
    "\n",
    "    Returns\n",
    "    -------\n",
    "    m : ndarray, see dtype parameter above\n",
    "        If `out=None`, returns a new array containing the mean values,\n",
    "        otherwise a reference to the output array is returned.\n",
    "\n",
    "    See Also\n",
    "    --------\n",
    "    average : Weighted average\n",
    "    std, var, nanmean, nanstd, nanvar\n",
    "\n",
    "    Notes\n",
    "    -----\n",
    "    The arithmetic mean is the sum of the elements along the axis divided\n",
    "    by the number of elements.\n",
    "\n",
    "    Note that for floating-point input, the mean is computed using the\n",
    "    same precision the input has.  Depending on the input data, this can\n",
    "    cause the results to be inaccurate, especially for `float32` (see\n",
    "    example below).  Specifying a higher-precision accumulator using the\n",
    "    `dtype` keyword can alleviate this issue.\n",
    "\n",
    "    By default, `float16` results are computed using `float32` intermediates\n",
    "    for extra precision.\n",
    "\n",
    "    Examples\n",
    "    --------\n",
    "    >>> a = np.array([[1, 2], [3, 4]])\n",
    "    >>> np.mean(a)\n",
    "    2.5\n",
    "    >>> np.mean(a, axis=0)\n",
    "    array([2., 3.])\n",
    "    >>> np.mean(a, axis=1)\n",
    "    array([1.5, 3.5])\n",
    "\n",
    "    In single precision, `mean` can be inaccurate:\n",
    "\n",
    "    >>> a = np.zeros((2, 512*512), dtype=np.float32)\n",
    "    >>> a[0, :] = 1.0\n",
    "    >>> a[1, :] = 0.1\n",
    "    >>> np.mean(a)\n",
    "    0.54999924\n",
    "\n",
    "    Computing the mean in float64 is more accurate:\n",
    "\n",
    "    >>> np.mean(a, dtype=np.float64)\n",
    "    0.55000000074505806 # may vary\n",
    "\n",
    "    Specifying a where argument:\n",
    "    >>> a = np.array([[5, 9, 13], [14, 10, 12], [11, 15, 19]])\n",
    "    >>> np.mean(a)\n",
    "    12.0\n",
    "    >>> np.mean(a, where=[[True], [False], [False]])\n",
    "    9.0\n",
    "\n",
    "    \"\"\"\n",
    "    kwargs = {}\n",
    "    if keepdims is not np._NoValue:\n",
    "        kwargs['keepdims'] = keepdims\n",
    "    if where is not np._NoValue:\n",
    "        kwargs['where'] = where\n",
    "    if type(a) is not mu.ndarray:\n",
    "        try:\n",
    "            mean = a.mean\n",
    "        except AttributeError:\n",
    "            pass\n",
    "        else:\n",
    "            return mean(axis=axis, dtype=dtype, out=out, **kwargs)\n",
    "\n",
    "    return _methods._mean(a, axis=axis, dtype=dtype,\n",
    "                          out=out, **kwargs)\n",
    "File:      ~/spack/var/spack/environments/python-38/.spack-env/view/lib/python3.8/site-packages/numpy/core/fromnumeric.py\n",
    "Type:      function\n",
    "```"
   ]
  },
  {
   "cell_type": "markdown",
   "id": "52223f5b",
   "metadata": {},
   "source": [
    "`?` can also be used to search in the IPython namespace. In doing so, a series of characters can be represented with the wildcard (`*`). For example, to get a list of all functions in the top-level NumPy namespace that contain `mean`:"
   ]
  },
  {
   "cell_type": "code",
   "execution_count": 11,
   "id": "60d493b2",
   "metadata": {},
   "outputs": [],
   "source": [
    "np.*mean*?"
   ]
  },
  {
   "cell_type": "markdown",
   "id": "4757ac65",
   "metadata": {},
   "source": [
    "```rst\n",
    "np.mean\n",
    "np.nanmean\n",
    "```"
   ]
  }
 ],
 "metadata": {
  "kernelspec": {
   "display_name": "Python 3.8",
   "language": "python",
   "name": "python-38"
  },
  "language_info": {
   "codemirror_mode": {
    "name": "ipython",
    "version": 3
   },
   "file_extension": ".py",
   "mimetype": "text/x-python",
   "name": "python",
   "nbconvert_exporter": "python",
   "pygments_lexer": "ipython3",
   "version": "3.8.12"
  }
 },
 "nbformat": 4,
 "nbformat_minor": 5
}
