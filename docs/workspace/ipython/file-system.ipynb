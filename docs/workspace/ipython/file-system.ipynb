{
 "cells": [
  {
   "cell_type": "markdown",
   "id": "still-rehabilitation",
   "metadata": {},
   "source": [
    "# Navigate through files and directories"
   ]
  },
  {
   "cell_type": "markdown",
   "id": "honey-proof",
   "metadata": {},
   "source": [
    "First let us find out where we are by running a command called `pwd`:"
   ]
  },
  {
   "cell_type": "code",
   "execution_count": 1,
   "id": "revolutionary-bulletin",
   "metadata": {},
   "outputs": [
    {
     "name": "stdout",
     "output_type": "stream",
     "text": [
      "/Users/veit/cusy/trn/jupyter-tutorial/docs/workspace/ipython\r\n"
     ]
    }
   ],
   "source": [
    "!pwd"
   ]
  },
  {
   "cell_type": "markdown",
   "id": "rotary-married",
   "metadata": {},
   "source": [
    "Here, the response is the the iPython chapter of the Jupyter tutorial in my home directory `/Users/veit`.\n",
    "\n",
    "On Windows the home directory will look like `C:\\Documents and Settings\\veit` or `C:\\Users\\veit` and on Linux like `/home/veit`."
   ]
  },
  {
   "cell_type": "markdown",
   "id": "cleared-china",
   "metadata": {},
   "source": [
    "To see the contents of our this directory, we can use `ls`:"
   ]
  },
  {
   "cell_type": "code",
   "execution_count": 2,
   "id": "perfect-courtesy",
   "metadata": {},
   "outputs": [
    {
     "name": "stdout",
     "output_type": "stream",
     "text": [
      "debugging.ipynb   file-system.ipynb magics.ipynb      start.rst\r\n",
      "display.ipynb     importing.ipynb   \u001b[34mmypackage\u001b[m\u001b[m\r\n",
      "extensions.rst    index.rst         shell.ipynb\r\n"
     ]
    }
   ],
   "source": [
    "!ls"
   ]
  },
  {
   "cell_type": "markdown",
   "id": "efficient-arkansas",
   "metadata": {},
   "source": [
    "* a trailing `/` indicates a directory\n",
    "* `@` indicates a link\n",
    "* `*` indicates an executable\n",
    "\n",
    "Depending on your default options, the shell might also use colors to indicate whether an entry is a file or a directory."
   ]
  },
  {
   "cell_type": "markdown",
   "id": "polish-thursday",
   "metadata": {},
   "source": [
    "## `ls` options and arguments"
   ]
  },
  {
   "cell_type": "code",
   "execution_count": 3,
   "id": "major-spell",
   "metadata": {},
   "outputs": [
    {
     "name": "stdout",
     "output_type": "stream",
     "text": [
      "index.rst  \u001b[34mipython\u001b[m\u001b[m/   \u001b[34mjupyter\u001b[m\u001b[m/\r\n"
     ]
    }
   ],
   "source": [
    "!ls -F ../"
   ]
  },
  {
   "cell_type": "markdown",
   "id": "numeric-arena",
   "metadata": {},
   "source": [
    "`ls` is the command, with the option `-F` and the argument `../`. \n",
    "\n",
    "* Options either start with a single dash (`-`) or two dashes (`--`), and they change the behavior of a command.\n",
    "* Arguments tell the command what to operate on.\n",
    "* Options and arguments are sometimes also referred as parameters.\n",
    "* Each part is separated by spaces.\n",
    "* Also, capitalisation is important, e.g. \n",
    "\n",
    "  * `ls -s` will display the size of files and directories alongside the names,\n",
    "  * while `ls -S` will sort the files and directories by size."
   ]
  },
  {
   "cell_type": "code",
   "execution_count": 4,
   "id": "imperial-reflection",
   "metadata": {},
   "outputs": [
    {
     "name": "stdout",
     "output_type": "stream",
     "text": [
      "total 392\r\n",
      " 48 debugging.ipynb    24 importing.ipynb    16 shell.ipynb\r\n",
      "184 display.ipynb       8 index.rst           8 start.rst\r\n",
      "  8 extensions.rst     32 magics.ipynb\r\n",
      " 64 file-system.ipynb   0 \u001b[34mmypackage\u001b[m\u001b[m\r\n"
     ]
    }
   ],
   "source": [
    "!ls -s"
   ]
  },
  {
   "cell_type": "code",
   "execution_count": 5,
   "id": "neutral-invite",
   "metadata": {},
   "outputs": [
    {
     "name": "stdout",
     "output_type": "stream",
     "text": [
      "display.ipynb     magics.ipynb      extensions.rst    \u001b[34mmypackage\u001b[m\u001b[m\r\n",
      "file-system.ipynb importing.ipynb   start.rst\r\n",
      "debugging.ipynb   shell.ipynb       index.rst\r\n"
     ]
    }
   ],
   "source": [
    "!ls -S"
   ]
  },
  {
   "cell_type": "markdown",
   "id": "cognitive-award",
   "metadata": {},
   "source": [
    "### Show al options and arguments\n",
    "\n",
    "`ls` has lots of other options, and with `man` you can print out the manual:"
   ]
  },
  {
   "cell_type": "code",
   "execution_count": 6,
   "id": "artificial-aspect",
   "metadata": {},
   "outputs": [
    {
     "name": "stdout",
     "output_type": "stream",
     "text": [
      "\r\n",
      "LS(1)                     BSD General Commands Manual                    LS(1)\r\n",
      "\r\n",
      "N\bNA\bAM\bME\bE\r\n",
      "     l\bls\bs -- list directory contents\r\n",
      "\r\n",
      "S\bSY\bYN\bNO\bOP\bPS\bSI\bIS\bS\r\n",
      "     l\bls\bs [-\b-A\bAB\bBC\bCF\bFG\bGH\bHL\bLO\bOP\bPR\bRS\bST\bTU\bUW\bW@\b@a\bab\bbc\bcd\bde\bef\bfg\bgh\bhi\bik\bkl\blm\bmn\bno\bop\bpq\bqr\brs\bst\btu\buw\bwx\bx1\b1%\b%] [_\bf_\bi_\bl_\be _\b._\b._\b.]\r\n",
      "\r\n",
      "D\bDE\bES\bSC\bCR\bRI\bIP\bPT\bTI\bIO\bON\bN\r\n",
      "     For each operand that names a _\bf_\bi_\bl_\be of a type other than directory, l\bls\bs\r\n",
      "     displays its name as well as any requested, associated information.  For\r\n",
      "     each operand that names a _\bf_\bi_\bl_\be of type directory, l\bls\bs displays the names\r\n",
      "     of files contained within that directory, as well as any requested, asso-\r\n",
      "     ciated information.\r\n",
      "\r\n",
      "     If no operands are given, the contents of the current directory are dis-\r\n",
      "     played.  If more than one operand is given, non-directory operands are\r\n",
      "     displayed first; directory and non-directory operands are sorted sepa-\r\n",
      "     rately and in lexicographical order.\r\n",
      "\r\n",
      "     The following options are available:\r\n",
      "\r\n",
      "     -\b-@\b@      Display extended attribute keys and sizes in long (-\b-l\bl) output.\r\n",
      "\r\n",
      "     -\b-1\b1      (The numeric digit ``one''.)  Force output to be one entry per\r\n",
      "             line.  This is the default when output is not to a terminal.\r\n",
      "\r\n",
      "     -\b-A\bA      List all entries except for _\b. and _\b._\b..  Always set for the super-\r\n",
      "             user.\r\n",
      "\r\n",
      "     -\b-a\ba      Include directory entries whose names begin with a dot (_\b.).\r\n",
      "\r\n",
      "     -\b-B\bB      Force printing of non-printable characters (as defined by\r\n",
      "             ctype(3) and current locale settings) in file names as \\_\bx_\bx_\bx,\r\n",
      "             where _\bx_\bx_\bx is the numeric value of the character in octal.\r\n",
      "\r\n",
      "     -\b-b\bb      As -\b-B\bB, but use C escape codes whenever possible.\r\n",
      "\r\n",
      "     -\b-C\bC      Force multi-column output; this is the default when output is to\r\n",
      "             a terminal.\r\n",
      "\r\n",
      "     -\b-c\bc      Use time when file status was last changed for sorting (-\b-t\bt) or\r\n",
      "             long printing (-\b-l\bl).\r\n",
      "\r\n",
      "     -\b-d\bd      Directories are listed as plain files (not searched recursively).\r\n",
      "\r\n",
      "     -\b-e\be      Print the Access Control List (ACL) associated with the file, if\r\n",
      "             present, in long (-\b-l\bl) output.\r\n",
      "\r\n",
      "     -\b-F\bF      Display a slash (`/') immediately after each pathname that is a\r\n",
      "             directory, an asterisk (`*') after each that is executable, an at\r\n",
      "             sign (`@') after each symbolic link, an equals sign (`=') after\r\n",
      "             each socket, a percent sign (`%') after each whiteout, and a ver-\r\n",
      "             tical bar (`|') after each that is a FIFO.\r\n",
      "\r\n",
      "     -\b-f\bf      Output is not sorted.  This option turns on the -\b-a\ba option.\r\n",
      "\r\n",
      "     -\b-G\bG      Enable colorized output.  This option is equivalent to defining\r\n",
      "             CLICOLOR in the environment.  (See below.)\r\n",
      "\r\n",
      "     -\b-g\bg      This option is only available for compatibility with POSIX; it is\r\n",
      "             used to display the group name in the long (-\b-l\bl) format output\r\n",
      "             (the owner name is suppressed).\r\n",
      "\r\n",
      "     -\b-H\bH      Symbolic links on the command line are followed.  This option is\r\n",
      "             assumed if none of the -\b-F\bF, -\b-d\bd, or -\b-l\bl options are specified.\r\n",
      "\r\n",
      "     -\b-h\bh      When used with the -\b-l\bl option, use unit suffixes: Byte, Kilobyte,\r\n",
      "             Megabyte, Gigabyte, Terabyte and Petabyte in order to reduce the\r\n",
      "             number of digits to three or less using base 2 for sizes.\r\n",
      "\r\n",
      "     -\b-i\bi      For each file, print the file's file serial number (inode num-\r\n",
      "             ber).\r\n",
      "\r\n",
      "     -\b-k\bk      If the -\b-s\bs option is specified, print the file size allocation in\r\n",
      "             kilobytes, not blocks.  This option overrides the environment\r\n",
      "             variable BLOCKSIZE.\r\n",
      "\r\n",
      "     -\b-L\bL      Follow all symbolic links to final target and list the file or\r\n",
      "             directory the link references rather than the link itself.  This\r\n",
      "             option cancels the -\b-P\bP option.\r\n",
      "\r\n",
      "     -\b-l\bl      (The lowercase letter ``ell''.)  List in long format.  (See\r\n",
      "             below.)  A total sum for all the file sizes is output on a line\r\n",
      "             before the long listing.\r\n",
      "\r\n",
      "     -\b-m\bm      Stream output format; list files across the page, separated by\r\n",
      "             commas.\r\n",
      "\r\n",
      "     -\b-n\bn      Display user and group IDs numerically, rather than converting to\r\n",
      "             a user or group name in a long (-\b-l\bl) output.  This option turns on\r\n",
      "             the -\b-l\bl option.\r\n",
      "\r\n",
      "     -\b-O\bO      Include the file flags in a long (-\b-l\bl) output.\r\n",
      "\r\n",
      "     -\b-o\bo      List in long format, but omit the group id.\r\n",
      "\r\n",
      "     -\b-P\bP      If argument is a symbolic link, list the link itself rather than\r\n",
      "             the object the link references.  This option cancels the -\b-H\bH and\r\n",
      "             -\b-L\bL options.\r\n",
      "\r\n",
      "     -\b-p\bp      Write a slash (`/') after each filename if that file is a direc-\r\n",
      "             tory.\r\n",
      "\r\n",
      "     -\b-q\bq      Force printing of non-graphic characters in file names as the\r\n",
      "             character `?'; this is the default when output is to a terminal.\r\n",
      "\r\n",
      "     -\b-R\bR      Recursively list subdirectories encountered.\r\n",
      "\r\n",
      "     -\b-r\br      Reverse the order of the sort to get reverse lexicographical\r\n",
      "             order or the oldest entries first (or largest files last, if com-\r\n",
      "             bined with sort by size\r\n",
      "\r\n",
      "     -\b-S\bS      Sort files by size\r\n",
      "\r\n",
      "     -\b-s\bs      Display the number of file system blocks actually used by each\r\n",
      "             file, in units of 512 bytes, where partial units are rounded up\r\n",
      "             to the next integer value.  If the output is to a terminal, a\r\n",
      "             total sum for all the file sizes is output on a line before the\r\n",
      "             listing.  The environment variable BLOCKSIZE overrides the unit\r\n",
      "             size of 512 bytes.\r\n",
      "\r\n",
      "     -\b-T\bT      When used with the -\b-l\bl (lowercase letter ``ell'') option, display\r\n",
      "             complete time information for the file, including month, day,\r\n",
      "             hour, minute, second, and year.\r\n",
      "\r\n",
      "     -\b-t\bt      Sort by time modified (most recently modified first) before sort-\r\n",
      "             ing the operands by lexicographical order.\r\n",
      "\r\n",
      "     -\b-u\bu      Use time of last access, instead of last modification of the file\r\n",
      "             for sorting (-\b-t\bt) or long printing (-\b-l\bl).\r\n",
      "\r\n",
      "     -\b-U\bU      Use time of file creation, instead of last modification for sort-\r\n",
      "             ing (-\b-t\bt) or long output (-\b-l\bl).\r\n",
      "\r\n",
      "     -\b-v\bv      Force unedited printing of non-graphic characters; this is the\r\n",
      "             default when output is not to a terminal.\r\n",
      "\r\n",
      "     -\b-W\bW      Display whiteouts when scanning directories.  (-\b-S\bS) flag).\r\n",
      "\r\n",
      "     -\b-w\bw      Force raw printing of non-printable characters.  This is the\r\n",
      "             default when output is not to a terminal.\r\n",
      "\r\n",
      "     -\b-x\bx      The same as -\b-C\bC, except that the multi-column output is produced\r\n",
      "             with entries sorted across, rather than down, the columns.\r\n",
      "\r\n",
      "     -\b-%\b%      Distinguish dataless files and directories with a '%' character\r\n",
      "             in long (-\b-l\bl) output, and don't materialize dataless directories\r\n",
      "             when listing them.\r\n",
      "\r\n",
      "     The -\b-1\b1, -\b-C\bC, -\b-x\bx, and -\b-l\bl options all override each other; the last one\r\n",
      "     specified determines the format used.\r\n",
      "\r\n",
      "     The -\b-c\bc and -\b-u\bu options override each other; the last one specified deter-\r\n",
      "     mines the file time used.\r\n",
      "\r\n",
      "     The -\b-B\bB, -\b-b\bb, -\b-w\bw, and -\b-q\bq options all override each other; the last one\r\n",
      "     specified determines the format used for non-printable characters.\r\n",
      "\r\n",
      "     The -\b-H\bH, -\b-L\bL and -\b-P\bP options all override each other (either partially or\r\n",
      "     fully); they are applied in the order specified.\r\n",
      "\r\n",
      "     By default, l\bls\bs lists one entry per line to standard output; the excep-\r\n",
      "     tions are to terminals or when the -\b-C\bC or -\b-x\bx options are specified.\r\n",
      "\r\n",
      "     File information is displayed with one or more <blank>s separating the\r\n",
      "     information associated with the -\b-i\bi, -\b-s\bs, and -\b-l\bl options.\r\n",
      "\r\n",
      "   T\bTh\bhe\be L\bLo\bon\bng\bg F\bFo\bor\brm\bma\bat\bt\r\n",
      "     If the -\b-l\bl option is given, the following information is displayed for\r\n",
      "     each file: file mode, number of links, owner name, group name, number of\r\n",
      "     bytes in the file, abbreviated month, day-of-month file was last modi-\r\n",
      "     fied, hour file last modified, minute file last modified, and the path-\r\n",
      "     name.  In addition, for each directory whose contents are displayed, the\r\n",
      "     total number of 512-byte blocks used by the files in the directory is\r\n",
      "     displayed on a line by itself, immediately before the information for the\r\n",
      "     files in the directory.  If the file or directory has extended\r\n",
      "     attributes, the permissions field printed by the -\b-l\bl option is followed by\r\n",
      "     a '@' character.  Otherwise, if the file or directory has extended secu-\r\n",
      "     rity information (such as an access control list), the permissions field\r\n",
      "     printed by the -\b-l\bl option is followed by a '+' character.  If the -\b-%\b%\r\n",
      "     option is given, a '%' character follows the permissions field for data-\r\n",
      "     less files and directories, possibly replacing the '@' or '+' character.\r\n",
      "\r\n",
      "     If the modification time of the file is more than 6 months in the past or\r\n",
      "     future, then the year of the last modification is displayed in place of\r\n",
      "     the hour and minute fields.\r\n",
      "\r\n",
      "     If the owner or group names are not a known user or group name, or the -\b-n\bn\r\n",
      "     option is given, the numeric ID's are displayed.\r\n",
      "\r\n",
      "     If the file is a character special or block special file, the major and\r\n",
      "     minor device numbers for the file are displayed in the size field.  If\r\n",
      "     the file is a symbolic link, the pathname of the linked-to file is pre-\r\n",
      "     ceded by ``->''.\r\n",
      "\r\n",
      "     The file mode printed under the -\b-l\bl option consists of the entry type,\r\n",
      "     owner permissions, and group permissions.  The entry type character\r\n",
      "     describes the type of file, as follows:\r\n",
      "\r\n",
      "           b\bb     Block special file.\r\n",
      "           c\bc     Character special file.\r\n",
      "           d\bd     Directory.\r\n",
      "           l\bl     Symbolic link.\r\n",
      "           s\bs     Socket link.\r\n",
      "           p\bp     FIFO.\r\n",
      "           -\b-     Regular file.\r\n",
      "\r\n",
      "     The next three fields are three characters each: owner permissions, group\r\n",
      "     permissions, and other permissions.  Each field has three character posi-\r\n",
      "     tions:\r\n",
      "\r\n",
      "           1.   If r\br, the file is readable; if -\b-, it is not readable.\r\n",
      "\r\n",
      "           2.   If w\bw, the file is writable; if -\b-, it is not writable.\r\n",
      "\r\n",
      "           3.   The first of the following that applies:\r\n",
      "\r\n",
      "                      S\bS     If in the owner permissions, the file is not exe-\r\n",
      "                            cutable and set-user-ID mode is set.  If in the\r\n",
      "                            group permissions, the file is not executable and\r\n",
      "                            set-group-ID mode is set.\r\n",
      "\r\n",
      "                      s\bs     If in the owner permissions, the file is exe-\r\n",
      "                            cutable and set-user-ID mode is set.  If in the\r\n",
      "                            group permissions, the file is executable and set-\r\n",
      "                            group-ID mode is set.\r\n",
      "\r\n",
      "                      x\bx     The file is executable or the directory is search-\r\n",
      "                            able.\r\n",
      "\r\n",
      "                      -\b-     The file is neither readable, writable, exe-\r\n",
      "                            cutable, nor set-user-ID nor set-group-ID mode,\r\n",
      "                            nor sticky.  (See below.)\r\n",
      "\r\n",
      "                These next two apply only to the third character in the last\r\n",
      "                group (other permissions).\r\n",
      "\r\n",
      "                      T\bT     The sticky bit is set (mode 1000), but not execute\r\n",
      "                            or search permission.  (See chmod(1) or\r\n",
      "                            sticky(8).)\r\n",
      "\r\n",
      "                      t\bt     The sticky bit is set (mode 1000), and is search-\r\n",
      "                            able or executable.  (See chmod(1) or sticky(8).)\r\n",
      "\r\n",
      "E\bEX\bXA\bAM\bMP\bPL\bLE\bES\bS\r\n",
      "     The following is how to do an l\bls\bs listing sorted by increasing size\r\n",
      "\r\n",
      "           ls -lrS\r\n",
      "\r\n",
      "D\bDI\bIA\bAG\bGN\bNO\bOS\bST\bTI\bIC\bCS\bS\r\n",
      "     The l\bls\bs utility exits 0 on success, and >0 if an error occurs.\r\n",
      "\r\n",
      "E\bEN\bNV\bVI\bIR\bRO\bON\bNM\bME\bEN\bNT\bT\r\n",
      "     The following environment variables affect the execution of l\bls\bs:\r\n",
      "\r\n",
      "     BLOCKSIZE       If the environment variable BLOCKSIZE is set, the block\r\n",
      "                     counts (see -\b-s\bs) will be displayed in units of that size\r\n",
      "                     block.\r\n",
      "\r\n",
      "     CLICOLOR        Use ANSI color sequences to distinguish file types.  See\r\n",
      "                     LSCOLORS below.  In addition to the file types mentioned\r\n",
      "                     in the -\b-F\bF option some extra attributes (setuid bit set,\r\n",
      "                     etc.) are also displayed.  The colorization is dependent\r\n",
      "                     on a terminal type with the proper termcap(5) capabili-\r\n",
      "                     ties.  The default ``cons25'' console has the proper\r\n",
      "                     capabilities, but to display the colors in an xterm(1),\r\n",
      "                     for example, the TERM variable must be set to\r\n",
      "                     ``xterm-color''.  Other terminal types may require simi-\r\n",
      "                     lar adjustments.  Colorization is silently disabled if\r\n",
      "                     the output isn't directed to a terminal unless the\r\n",
      "                     CLICOLOR_FORCE variable is defined.\r\n",
      "\r\n",
      "     CLICOLOR_FORCE  Color sequences are normally disabled if the output isn't\r\n",
      "                     directed to a terminal.  This can be overridden by set-\r\n",
      "                     ting this flag.  The TERM variable still needs to refer-\r\n",
      "                     ence a color capable terminal however otherwise it is not\r\n",
      "                     possible to determine which color sequences to use.\r\n",
      "\r\n",
      "     COLUMNS         If this variable contains a string representing a decimal\r\n",
      "                     integer, it is used as the column position width for dis-\r\n",
      "                     playing multiple-text-column output.  The l\bls\bs utility cal-\r\n",
      "                     culates how many pathname text columns to display based\r\n",
      "                     on the width provided.  (See -\b-C\bC and -\b-x\bx.)\r\n",
      "\r\n",
      "     LANG            The locale to use when determining the order of day and\r\n",
      "                     month in the long -\b-l\bl format output.  See environ(7) for\r\n",
      "                     more information.\r\n",
      "\r\n",
      "     LSCOLORS        The value of this variable describes what color to use\r\n",
      "                     for which attribute when colors are enabled with\r\n",
      "                     CLICOLOR.  This string is a concatenation of pairs of the\r\n",
      "                     format _\bf_\bb, where _\bf is the foreground color and _\bb is the\r\n",
      "                     background color.\r\n",
      "\r\n",
      "                     The color designators are as follows:\r\n",
      "\r\n",
      "                           a\ba     black\r\n",
      "                           b\bb     red\r\n",
      "                           c\bc     green\r\n",
      "                           d\bd     brown\r\n",
      "                           e\be     blue\r\n",
      "                           f\bf     magenta\r\n",
      "                           g\bg     cyan\r\n",
      "                           h\bh     light grey\r\n",
      "                           A\bA     bold black, usually shows up as dark grey\r\n",
      "                           B\bB     bold red\r\n",
      "                           C\bC     bold green\r\n",
      "                           D\bD     bold brown, usually shows up as yellow\r\n",
      "                           E\bE     bold blue\r\n",
      "                           F\bF     bold magenta\r\n",
      "                           G\bG     bold cyan\r\n",
      "                           H\bH     bold light grey; looks like bright white\r\n",
      "                           x\bx     default foreground or background\r\n",
      "\r\n",
      "                     Note that the above are standard ANSI colors.  The actual\r\n",
      "                     display may differ depending on the color capabilities of\r\n",
      "                     the terminal in use.\r\n",
      "\r\n",
      "                     The order of the attributes are as follows:\r\n",
      "\r\n",
      "                           1.   directory\r\n",
      "                           2.   symbolic link\r\n",
      "                           3.   socket\r\n",
      "                           4.   pipe\r\n",
      "                           5.   executable\r\n",
      "                           6.   block special\r\n",
      "                           7.   character special\r\n",
      "                           8.   executable with setuid bit set\r\n",
      "                           9.   executable with setgid bit set\r\n",
      "                           10.  directory writable to others, with sticky bit\r\n",
      "                           11.  directory writable to others, without sticky\r\n",
      "                                bit\r\n",
      "\r\n",
      "                     The default is \"exfxcxdxbxegedabagacad\", i.e. blue fore-\r\n",
      "                     ground and default background for regular directories,\r\n",
      "                     black foreground and red background for setuid executa-\r\n",
      "                     bles, etc.\r\n",
      "\r\n",
      "     LS_COLWIDTHS    If this variable is set, it is considered to be a colon-\r\n",
      "                     delimited list of minimum column widths.  Unreasonable\r\n",
      "                     and insufficient widths are ignored (thus zero signifies\r\n",
      "                     a dynamically sized column).  Not all columns have\r\n",
      "                     changeable widths.  The fields are, in order: inode,\r\n",
      "                     block count, number of links, user name, group name,\r\n",
      "                     flags, file size, file name.\r\n",
      "\r\n",
      "     TERM            The CLICOLOR functionality depends on a terminal type\r\n",
      "                     with color capabilities.\r\n",
      "\r\n",
      "     TZ              The timezone to use when displaying dates.  See\r\n",
      "                     environ(7) for more information.\r\n",
      "\r\n",
      "C\bCO\bOM\bMP\bPA\bAT\bTI\bIB\bBI\bIL\bLI\bIT\bTY\bY\r\n",
      "     The group field is now automatically included in the long listing for\r\n",
      "     files in order to be compatible with the IEEE Std 1003.2 (``POSIX.2'')\r\n",
      "     specification.\r\n",
      "\r\n",
      "L\bLE\bEG\bGA\bAC\bCY\bY D\bDE\bES\bSC\bCR\bRI\bIP\bPT\bTI\bIO\bON\bN\r\n",
      "     In legacy mode, the -\b-f\bf option does not turn on the -\b-a\ba option and the -\b-g\bg,\r\n",
      "     -\b-n\bn, and -\b-o\bo options do not turn on the -\b-l\bl option.\r\n",
      "\r\n",
      "     Also, the -\b-o\bo option causes the file flags to be included in a long (-l)\r\n",
      "     output; there is no -\b-O\bO option.\r\n",
      "\r\n",
      "     When -\b-H\bH is specified (and not overridden by -\b-L\bL or -\b-P\bP) and a file argument\r\n",
      "     is a symlink that resolves to a non-directory file, the output will\r\n",
      "     reflect the nature of the link, rather than that of the file.  In legacy\r\n",
      "     operation, the output will describe the file.\r\n",
      "\r\n",
      "     For more information about legacy mode, see compat(5).\r\n",
      "\r\n",
      "S\bSE\bEE\bE A\bAL\bLS\bSO\bO\r\n",
      "     chflags(1), chmod(1), sort(1), xterm(1), compat(5), termcap(5),\r\n",
      "     symlink(7), sticky(8)\r\n",
      "\r\n",
      "S\bST\bTA\bAN\bND\bDA\bAR\bRD\bDS\bS\r\n",
      "     The l\bls\bs utility conforms to IEEE Std 1003.1-2001 (``POSIX.1'').\r\n",
      "\r\n",
      "H\bHI\bIS\bST\bTO\bOR\bRY\bY\r\n",
      "     An l\bls\bs command appeared in Version 1 AT&T UNIX.\r\n",
      "\r\n",
      "B\bBU\bUG\bGS\bS\r\n",
      "     To maintain backward compatibility, the relationships between the many\r\n",
      "     options are quite complex.\r\n",
      "\r\n",
      "BSD                              May 19, 2002                              BSD\r\n"
     ]
    }
   ],
   "source": [
    "!man ls"
   ]
  },
  {
   "cell_type": "markdown",
   "id": "manufactured-momentum",
   "metadata": {},
   "source": [
    "### Illegal options\n",
    "\n",
    "If you try to use an option that isn’t supported, the commands will usually print an error message, e.g. for:"
   ]
  },
  {
   "cell_type": "code",
   "execution_count": 7,
   "id": "fuzzy-secondary",
   "metadata": {},
   "outputs": [
    {
     "name": "stdout",
     "output_type": "stream",
     "text": [
      "ls: illegal option -- z\r\n",
      "usage: ls [-@ABCFGHLOPRSTUWabcdefghiklmnopqrstuwx1%] [file ...]\r\n"
     ]
    }
   ],
   "source": [
    "!ls -z"
   ]
  },
  {
   "cell_type": "markdown",
   "id": "unavailable-giving",
   "metadata": {},
   "source": [
    "### Hidden Files\n",
    "\n",
    "With the `-a` option you can display all files:"
   ]
  },
  {
   "cell_type": "code",
   "execution_count": 8,
   "id": "intellectual-sense",
   "metadata": {},
   "outputs": [
    {
     "name": "stdout",
     "output_type": "stream",
     "text": [
      "\u001b[34m.\u001b[m\u001b[m                  display.ipynb      index.rst          start.rst\r\n",
      "\u001b[34m..\u001b[m\u001b[m                 extensions.rst     magics.ipynb\r\n",
      "\u001b[34m.ipynb_checkpoints\u001b[m\u001b[m file-system.ipynb  \u001b[34mmypackage\u001b[m\u001b[m\r\n",
      "debugging.ipynb    importing.ipynb    shell.ipynb\r\n"
     ]
    }
   ],
   "source": [
    "!ls -a"
   ]
  },
  {
   "cell_type": "markdown",
   "id": "cultural-ghana",
   "metadata": {},
   "source": [
    "In addition to the hidden directories `..` and `.`, you may also see a directory called `.ipynb_checkpoints`. This file usually contains snapshots of the Jupyter notebooks."
   ]
  },
  {
   "cell_type": "markdown",
   "id": "divine-garbage",
   "metadata": {},
   "source": [
    "### Absolute and relative Paths\n",
    "\n",
    "* `cd .`\n",
    "* `cd ../..`\n",
    "* `cd ..`\n",
    "* `cd /`\n",
    "* `cd /Users/veit`\n",
    "* `cd ~`\n",
    "* `cd`"
   ]
  },
  {
   "cell_type": "markdown",
   "id": "latin-exclusive",
   "metadata": {},
   "source": [
    "## Show directory tree"
   ]
  },
  {
   "cell_type": "code",
   "execution_count": 1,
   "id": "ambient-happiness",
   "metadata": {},
   "outputs": [
    {
     "name": "stdout",
     "output_type": "stream",
     "text": [
      "\u001b[01;34m.\u001b[00m\r\n",
      "├── create-delete.ipynb\r\n",
      "├── debugging.ipynb\r\n",
      "├── display.ipynb\r\n",
      "├── extensions.rst\r\n",
      "├── file-system.ipynb\r\n",
      "├── grep-find.ipynb\r\n",
      "├── importing.ipynb\r\n",
      "├── index.rst\r\n",
      "├── length.txt\r\n",
      "├── magics.ipynb\r\n",
      "├── \u001b[01;34mmypackage\u001b[00m\r\n",
      "│   ├── __init__.py\r\n",
      "│   └── foo.ipynb\r\n",
      "├── pipes-filters.ipynb\r\n",
      "├── regex.ipynb\r\n",
      "├── shell.ipynb\r\n",
      "├── sorted-length.txt\r\n",
      "└── start.rst\r\n",
      "\r\n",
      "1 directory, 17 files\r\n"
     ]
    }
   ],
   "source": [
    "!tree"
   ]
  }
 ],
 "metadata": {
  "kernelspec": {
   "display_name": "Python 3.7.4",
   "language": "python",
   "name": "python-373"
  },
  "language_info": {
   "codemirror_mode": {
    "name": "ipython",
    "version": 3
   },
   "file_extension": ".py",
   "mimetype": "text/x-python",
   "name": "python",
   "nbconvert_exporter": "python",
   "pygments_lexer": "ipython3",
   "version": "3.7.4"
  },
  "latex_envs": {
   "LaTeX_envs_menu_present": true,
   "autoclose": false,
   "autocomplete": true,
   "bibliofile": "biblio.bib",
   "cite_by": "apalike",
   "current_citInitial": 1,
   "eqLabelWithNumbers": true,
   "eqNumInitial": 1,
   "hotkeys": {
    "equation": "Ctrl-E",
    "itemize": "Ctrl-I"
   },
   "labels_anchors": false,
   "latex_user_defs": false,
   "report_style_numbering": false,
   "user_envs_cfg": false
  }
 },
 "nbformat": 4,
 "nbformat_minor": 5
}
