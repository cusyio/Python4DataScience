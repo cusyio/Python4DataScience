{
 "cells": [
  {
   "cell_type": "markdown",
   "id": "still-rehabilitation",
   "metadata": {},
   "source": [
    "# Navigate through files and directories"
   ]
  },
  {
   "cell_type": "markdown",
   "id": "honey-proof",
   "metadata": {},
   "source": [
    "First let us find out where we are by running a command called `pwd`:"
   ]
  },
  {
   "cell_type": "code",
   "execution_count": 1,
   "id": "revolutionary-bulletin",
   "metadata": {},
   "outputs": [
    {
     "name": "stdout",
     "output_type": "stream",
     "text": [
      "/Users/veit/cusy/trn/jupyter-tutorial/docs/workspace/ipython\r\n"
     ]
    }
   ],
   "source": [
    "!pwd"
   ]
  },
  {
   "cell_type": "markdown",
   "id": "rotary-married",
   "metadata": {},
   "source": [
    "Here, the response is the the iPython chapter of the Jupyter tutorial in my home directory `/Users/veit`.\n",
    "\n",
    "On Windows the home directory will look like `C:\\Documents and Settings\\veit` or `C:\\Users\\veit` and on Linux like `/home/veit`."
   ]
  },
  {
   "cell_type": "markdown",
   "id": "cleared-china",
   "metadata": {},
   "source": [
    "To see the contents of our this directory, we can use `ls`:"
   ]
  },
  {
   "cell_type": "code",
   "execution_count": 2,
   "id": "perfect-courtesy",
   "metadata": {},
   "outputs": [
    {
     "name": "stdout",
     "output_type": "stream",
     "text": [
      "create-delete.ipynb file-system.ipynb   length.txt          regex.ipynb\r\n",
      "debugging.ipynb     grep-find.ipynb     magics.ipynb        shell.ipynb\r\n",
      "display.ipynb       importing.ipynb     \u001b[34mmypackage\u001b[m\u001b[m           sorted-length.txt\r\n",
      "extensions.rst      index.rst           pipes-filters.ipynb start.rst\r\n"
     ]
    }
   ],
   "source": [
    "!ls"
   ]
  },
  {
   "cell_type": "markdown",
   "id": "efficient-arkansas",
   "metadata": {},
   "source": [
    "* a trailing `/` indicates a directory\n",
    "* `@` indicates a link\n",
    "* `*` indicates an executable\n",
    "\n",
    "Depending on your default options, the shell might also use colors to indicate whether an entry is a file or a directory."
   ]
  },
  {
   "cell_type": "markdown",
   "id": "polish-thursday",
   "metadata": {},
   "source": [
    "## `ls` options and arguments"
   ]
  },
  {
   "cell_type": "code",
   "execution_count": 3,
   "id": "major-spell",
   "metadata": {},
   "outputs": [
    {
     "name": "stdout",
     "output_type": "stream",
     "text": [
      "index.rst  \u001b[34mipython\u001b[m\u001b[m/   \u001b[34mjupyter\u001b[m\u001b[m/\r\n"
     ]
    }
   ],
   "source": [
    "!ls -F ../"
   ]
  },
  {
   "cell_type": "markdown",
   "id": "numeric-arena",
   "metadata": {},
   "source": [
    "`ls` is the command, with the option `-F` and the argument `../`. \n",
    "\n",
    "* Options either start with a single dash (`-`) or two dashes (`--`), and they change the behavior of a command.\n",
    "* Arguments tell the command what to operate on.\n",
    "* Options and arguments are sometimes also referred as parameters.\n",
    "* Each part is separated by spaces.\n",
    "* Also, capitalisation is important, e.g. \n",
    "\n",
    "  * `ls -s` will display the size of files and directories alongside the names,\n",
    "  * while `ls -S` will sort the files and directories by size."
   ]
  },
  {
   "cell_type": "code",
   "execution_count": 4,
   "id": "imperial-reflection",
   "metadata": {},
   "outputs": [
    {
     "name": "stdout",
     "output_type": "stream",
     "text": [
      "total 496\r\n",
      " 16 create-delete.ipynb  24 importing.ipynb       8 regex.ipynb\r\n",
      " 48 debugging.ipynb       8 index.rst            16 shell.ipynb\r\n",
      "184 display.ipynb         8 length.txt            8 sorted-length.txt\r\n",
      "  8 extensions.rst       32 magics.ipynb          8 start.rst\r\n",
      " 88 file-system.ipynb     0 \u001b[34mmypackage\u001b[m\u001b[m\r\n",
      " 24 grep-find.ipynb      16 pipes-filters.ipynb\r\n"
     ]
    }
   ],
   "source": [
    "!ls -s"
   ]
  },
  {
   "cell_type": "code",
   "execution_count": 5,
   "id": "neutral-invite",
   "metadata": {},
   "outputs": [
    {
     "name": "stdout",
     "output_type": "stream",
     "text": [
      "display.ipynb       importing.ipynb     shell.ipynb         index.rst\r\n",
      "file-system.ipynb   grep-find.ipynb     regex.ipynb         \u001b[34mmypackage\u001b[m\u001b[m\r\n",
      "debugging.ipynb     create-delete.ipynb extensions.rst      sorted-length.txt\r\n",
      "magics.ipynb        pipes-filters.ipynb start.rst           length.txt\r\n"
     ]
    }
   ],
   "source": [
    "!ls -S"
   ]
  },
  {
   "cell_type": "markdown",
   "id": "cognitive-award",
   "metadata": {},
   "source": [
    "### Show al options and arguments\n",
    "\n",
    "`ls` has lots of other options, and with `man` you can print out the manual:"
   ]
  },
  {
   "cell_type": "code",
   "execution_count": 6,
   "id": "artificial-aspect",
   "metadata": {},
   "outputs": [
    {
     "name": "stdout",
     "output_type": "stream",
     "text": [
      "\r\n",
      "LS(1)                     BSD General Commands Manual                    LS(1)\r\n",
      "\r\n",
      "N\bNA\bAM\bME\bE\r\n",
      "     l\bls\bs -- list directory contents\r\n",
      "\r\n",
      "S\bSY\bYN\bNO\bOP\bPS\bSI\bIS\bS\r\n",
      "     l\bls\bs [-\b-A\bAB\bBC\bCF\bFG\bGH\bHL\bLO\bOP\bPR\bRS\bST\bTU\bUW\bW@\b@a\bab\bbc\bcd\bde\bef\bfg\bgh\bhi\bik\bkl\blm\bmn\bno\bop\bpq\bqr\brs\bst\btu\buw\bwx\bx1\b1%\b%] [_\bf_\bi_\bl_\be _\b._\b._\b.]\r\n",
      "\r\n",
      "D\bDE\bES\bSC\bCR\bRI\bIP\bPT\bTI\bIO\bON\bN\r\n",
      "     For each operand that names a _\bf_\bi_\bl_\be of a type other than directory, l\bls\bs\r\n",
      "     displays its name as well as any requested, associated information.  For\r\n",
      "     each operand that names a _\bf_\bi_\bl_\be of type directory, l\bls\bs displays the names\r\n",
      "     of files contained within that directory, as well as any requested, asso-\r\n",
      "     ciated information.\r\n",
      "\r\n",
      "     If no operands are given, the contents of the current directory are dis-\r\n",
      "     played.  If more than one operand is given, non-directory operands are\r\n",
      "     displayed first; directory and non-directory operands are sorted sepa-\r\n",
      "     rately and in lexicographical order.\r\n",
      "\r\n",
      "     The following options are available:\r\n",
      "\r\n",
      "     -\b-@\b@      Display extended attribute keys and sizes in long (-\b-l\bl) output.\r\n",
      "\r\n",
      "     -\b-1\b1      (The numeric digit ``one''.)  Force output to be one entry per\r\n",
      "             line.  This is the default when output is not to a terminal.\r\n",
      "\r\n",
      "     …\r\n",
      "BSD                              May 19, 2002                              BSD\r\n"
     ]
    }
   ],
   "source": [
    "!man ls"
   ]
  },
  {
   "cell_type": "markdown",
   "id": "manufactured-momentum",
   "metadata": {},
   "source": [
    "### Illegal options\n",
    "\n",
    "If you try to use an option that isn’t supported, the commands will usually print an error message, e.g. for:"
   ]
  },
  {
   "cell_type": "code",
   "execution_count": 7,
   "id": "fuzzy-secondary",
   "metadata": {},
   "outputs": [
    {
     "name": "stdout",
     "output_type": "stream",
     "text": [
      "ls: illegal option -- z\r\n",
      "usage: ls [-@ABCFGHLOPRSTUWabcdefghiklmnopqrstuwx1%] [file ...]\r\n"
     ]
    }
   ],
   "source": [
    "!ls -z"
   ]
  },
  {
   "cell_type": "markdown",
   "id": "unavailable-giving",
   "metadata": {},
   "source": [
    "### Hidden Files\n",
    "\n",
    "With the `-a` option you can display all files:"
   ]
  },
  {
   "cell_type": "code",
   "execution_count": 8,
   "id": "intellectual-sense",
   "metadata": {},
   "outputs": [
    {
     "name": "stdout",
     "output_type": "stream",
     "text": [
      "\u001b[34m.\u001b[m\u001b[m                   display.ipynb       index.rst           regex.ipynb\r\n",
      "\u001b[34m..\u001b[m\u001b[m                  extensions.rst      length.txt          shell.ipynb\r\n",
      "\u001b[34m.ipynb_checkpoints\u001b[m\u001b[m  file-system.ipynb   magics.ipynb        sorted-length.txt\r\n",
      "create-delete.ipynb grep-find.ipynb     \u001b[34mmypackage\u001b[m\u001b[m           start.rst\r\n",
      "debugging.ipynb     importing.ipynb     pipes-filters.ipynb\r\n"
     ]
    }
   ],
   "source": [
    "!ls -a"
   ]
  },
  {
   "cell_type": "markdown",
   "id": "cultural-ghana",
   "metadata": {},
   "source": [
    "In addition to the hidden directories `..` and `.`, you may also see a directory called `.ipynb_checkpoints`. This file usually contains snapshots of the Jupyter notebooks."
   ]
  },
  {
   "cell_type": "markdown",
   "id": "divine-garbage",
   "metadata": {},
   "source": [
    "### Absolute and relative Paths\n",
    "\n",
    "* `cd .`\n",
    "* `cd ../..`\n",
    "* `cd ..`\n",
    "* `cd /`\n",
    "* `cd /Users/veit`\n",
    "* `cd ~`\n",
    "* `cd`"
   ]
  },
  {
   "cell_type": "markdown",
   "id": "latin-exclusive",
   "metadata": {},
   "source": [
    "## Show directory tree"
   ]
  },
  {
   "cell_type": "code",
   "execution_count": 9,
   "id": "middle-stomach",
   "metadata": {},
   "outputs": [
    {
     "name": "stdout",
     "output_type": "stream",
     "text": [
      "\u001b[01;34m.\u001b[00m\r\n",
      "├── create-delete.ipynb\r\n",
      "├── debugging.ipynb\r\n",
      "├── display.ipynb\r\n",
      "├── extensions.rst\r\n",
      "├── file-system.ipynb\r\n",
      "├── grep-find.ipynb\r\n",
      "├── importing.ipynb\r\n",
      "├── index.rst\r\n",
      "├── length.txt\r\n",
      "├── magics.ipynb\r\n",
      "├── \u001b[01;34mmypackage\u001b[00m\r\n",
      "│   ├── __init__.py\r\n",
      "│   └── foo.ipynb\r\n",
      "├── pipes-filters.ipynb\r\n",
      "├── regex.ipynb\r\n",
      "├── shell.ipynb\r\n",
      "├── sorted-length.txt\r\n",
      "└── start.rst\r\n",
      "\r\n",
      "1 directory, 17 files\r\n"
     ]
    }
   ],
   "source": [
    "!tree"
   ]
  }
 ],
 "metadata": {
  "kernelspec": {
   "display_name": "Python 3.7.4",
   "language": "python",
   "name": "python-373"
  },
  "language_info": {
   "codemirror_mode": {
    "name": "ipython",
    "version": 3
   },
   "file_extension": ".py",
   "mimetype": "text/x-python",
   "name": "python",
   "nbconvert_exporter": "python",
   "pygments_lexer": "ipython3",
   "version": "3.7.4"
  },
  "latex_envs": {
   "LaTeX_envs_menu_present": true,
   "autoclose": false,
   "autocomplete": true,
   "bibliofile": "biblio.bib",
   "cite_by": "apalike",
   "current_citInitial": 1,
   "eqLabelWithNumbers": true,
   "eqNumInitial": 1,
   "hotkeys": {
    "equation": "Ctrl-E",
    "itemize": "Ctrl-I"
   },
   "labels_anchors": false,
   "latex_user_defs": false,
   "report_style_numbering": false,
   "user_envs_cfg": false
  }
 },
 "nbformat": 4,
 "nbformat_minor": 5
}
