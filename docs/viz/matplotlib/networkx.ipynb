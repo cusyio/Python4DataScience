{
 "cells": [
  {
   "cell_type": "markdown",
   "metadata": {},
   "source": [
    "# NetworkX"
   ]
  },
  {
   "cell_type": "markdown",
   "metadata": {},
   "source": [
    "## Beispiel\n",
    "\n",
    "Im folgenden Beispiel erstellen wir eine einfache Benutzeroberfläche zum Erkunden von Zufallsgraphen mit [NetworkX](https://networkx.github.io/documentation/)."
   ]
  },
  {
   "cell_type": "code",
   "execution_count": 1,
   "metadata": {},
   "outputs": [],
   "source": [
    "from ipywidgets import interact"
   ]
  },
  {
   "cell_type": "code",
   "execution_count": 2,
   "metadata": {},
   "outputs": [],
   "source": [
    "%matplotlib inline\n",
    "import matplotlib.pyplot as plt"
   ]
  },
  {
   "cell_type": "code",
   "execution_count": 3,
   "metadata": {},
   "outputs": [],
   "source": [
    "import networkx as nx"
   ]
  },
  {
   "cell_type": "code",
   "execution_count": 4,
   "metadata": {},
   "outputs": [],
   "source": [
    "# wrap a few graph generation functions so they have the same signature\n",
    "\n",
    "def random_lobster(n, m, k, p):\n",
    "    return nx.random_lobster(n, p, p / m)\n",
    "\n",
    "def powerlaw_cluster(n, m, k, p):\n",
    "    return nx.powerlaw_cluster_graph(n, m, p)\n",
    "\n",
    "def erdos_renyi(n, m, k, p):\n",
    "    return nx.erdos_renyi_graph(n, p)\n",
    "\n",
    "def newman_watts_strogatz(n, m, k, p):\n",
    "    return nx.newman_watts_strogatz_graph(n, k, p)\n",
    "\n",
    "def plot_random_graph(n, m, k, p, generator):\n",
    "    g = generator(n, m, k, p)\n",
    "    nx.draw(g)\n",
    "    plt.show()"
   ]
  },
  {
   "cell_type": "code",
   "execution_count": 5,
   "metadata": {},
   "outputs": [
    {
     "data": {
      "application/vnd.jupyter.widget-view+json": {
       "model_id": "539c10b0758645cd8921890914d6cd07",
       "version_major": 2,
       "version_minor": 0
      },
      "text/plain": [
       "interactive(children=(IntSlider(value=16, description='n', max=30, min=2), IntSlider(value=5, description='m',…"
      ]
     },
     "metadata": {},
     "output_type": "display_data"
    }
   ],
   "source": [
    "interact(plot_random_graph, n=(2,30), m=(1,10), k=(1,10), p=(0.0, 1.0, 0.001),\n",
    "         generator={\n",
    "             'lobster': random_lobster,\n",
    "             'power law': powerlaw_cluster,\n",
    "             'Newman-Watts-Strogatz': newman_watts_strogatz,\n",
    "             u'Erdős-Rényi': erdos_renyi,\n",
    "         });"
   ]
  },
  {
   "cell_type": "markdown",
   "metadata": {},
   "source": [
    "## Graphviz\n",
    "\n",
    "Graphviz kann auf zweierlei Arten verwendet werden:\n",
    "\n",
    "* zusammen mit Matplotlib und [pygraphviz](http://pygraphviz.github.io/), siehe [Drawing NetworkX with Matplotlib](https://networkx.github.io/documentation/stable/reference/drawing.html#module-networkx.drawing.nx_pylab)\n",
    "* zusammen mit Graphviz AGraph, siehe [Drawing NetworkX with Graphviz AGraph](https://networkx.github.io/documentation/stable/reference/drawing.html#module-networkx.drawing.nx_agraph)"
   ]
  }
 ],
 "metadata": {
  "kernelspec": {
   "display_name": "Python 3",
   "language": "python",
   "name": "python3"
  },
  "language_info": {
   "codemirror_mode": {
    "name": "ipython",
    "version": 3
   },
   "file_extension": ".py",
   "mimetype": "text/x-python",
   "name": "python",
   "nbconvert_exporter": "python",
   "pygments_lexer": "ipython3",
   "version": "3.7.4"
  },
  "latex_envs": {
   "LaTeX_envs_menu_present": true,
   "autoclose": false,
   "autocomplete": true,
   "bibliofile": "biblio.bib",
   "cite_by": "apalike",
   "current_citInitial": 1,
   "eqLabelWithNumbers": true,
   "eqNumInitial": 1,
   "hotkeys": {
    "equation": "Ctrl-E",
    "itemize": "Ctrl-I"
   },
   "labels_anchors": false,
   "latex_user_defs": false,
   "report_style_numbering": false,
   "user_envs_cfg": false
  },
  "widgets": {
   "application/vnd.jupyter.widget-state+json": {
    "state": {
     "04d909b101f546f5977df1c125e87c98": {
      "model_module": "@jupyter-widgets/base",
      "model_module_version": "1.2.0",
      "model_name": "LayoutModel",
      "state": {}
     },
     "0f066206d04447e8b9c436f090398ac4": {
      "model_module": "@jupyter-widgets/controls",
      "model_module_version": "1.5.0",
      "model_name": "VBoxModel",
      "state": {
       "_dom_classes": [
        "widget-interact"
       ],
       "children": [
        "IPY_MODEL_f884d25cc6454b7d99839a71b2c6d852",
        "IPY_MODEL_23372f352cdd4a7b96061d64c75f8117",
        "IPY_MODEL_f60dc7f9d3ad4fcf8de01de142f6150b",
        "IPY_MODEL_47a145b88e4c4489b350edb05b192e68",
        "IPY_MODEL_0ff07ae8384244d98d4c32fedcf819a2",
        "IPY_MODEL_9bd840ab72f54a9d838b97541ad0cfc8"
       ],
       "layout": "IPY_MODEL_c341359396f34042b75e4212b958ad67"
      }
     },
     "0f78833aef0044efba2669ee5300706c": {
      "model_module": "@jupyter-widgets/controls",
      "model_module_version": "1.5.0",
      "model_name": "IntSliderModel",
      "state": {
       "description": "k",
       "layout": "IPY_MODEL_19741486ec804fe1a464fe7ce81cfd13",
       "max": 10,
       "min": 1,
       "style": "IPY_MODEL_39ddb9bb57a948d6a72a7fcc444ca356",
       "value": 5
      }
     },
     "0ff07ae8384244d98d4c32fedcf819a2": {
      "model_module": "@jupyter-widgets/controls",
      "model_module_version": "1.5.0",
      "model_name": "DropdownModel",
      "state": {
       "_options_labels": [
        "lobster",
        "power law",
        "Newman-Watts-Strogatz",
        "Erdős-Rényi"
       ],
       "description": "generator",
       "index": 0,
       "layout": "IPY_MODEL_95c2a609ee97414d846eccd8865d1af0",
       "style": "IPY_MODEL_30934c54a256474b9a8f0f5e05122e76"
      }
     },
     "120e36e54bcf4736b98e9f55567b4bf7": {
      "model_module": "@jupyter-widgets/base",
      "model_module_version": "1.2.0",
      "model_name": "LayoutModel",
      "state": {}
     },
     "19741486ec804fe1a464fe7ce81cfd13": {
      "model_module": "@jupyter-widgets/base",
      "model_module_version": "1.2.0",
      "model_name": "LayoutModel",
      "state": {}
     },
     "23372f352cdd4a7b96061d64c75f8117": {
      "model_module": "@jupyter-widgets/controls",
      "model_module_version": "1.5.0",
      "model_name": "IntSliderModel",
      "state": {
       "description": "m",
       "layout": "IPY_MODEL_5eecd592acca46ce84c750626aae7101",
       "max": 10,
       "min": 1,
       "style": "IPY_MODEL_475274ebc2904d9caeb35e5d5eeb8e2a",
       "value": 5
      }
     },
     "2b7f8c54e4304718ba650fb4a954c705": {
      "model_module": "@jupyter-widgets/base",
      "model_module_version": "1.2.0",
      "model_name": "LayoutModel",
      "state": {}
     },
     "30934c54a256474b9a8f0f5e05122e76": {
      "model_module": "@jupyter-widgets/controls",
      "model_module_version": "1.5.0",
      "model_name": "DescriptionStyleModel",
      "state": {
       "description_width": ""
      }
     },
     "33b85ab62cb24c7b899b2a066bf4927e": {
      "model_module": "@jupyter-widgets/output",
      "model_module_version": "1.0.0",
      "model_name": "OutputModel",
      "state": {
       "layout": "IPY_MODEL_2b7f8c54e4304718ba650fb4a954c705",
       "outputs": [
        {
         "data": {
          "image/png": "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\n",
          "text/plain": "<Figure size 432x288 with 1 Axes>"
         },
         "metadata": {},
         "output_type": "display_data"
        }
       ]
      }
     },
     "39ddb9bb57a948d6a72a7fcc444ca356": {
      "model_module": "@jupyter-widgets/controls",
      "model_module_version": "1.5.0",
      "model_name": "SliderStyleModel",
      "state": {
       "description_width": ""
      }
     },
     "3de3f658ee0c463ab28c2e881d1a2be2": {
      "model_module": "@jupyter-widgets/base",
      "model_module_version": "1.2.0",
      "model_name": "LayoutModel",
      "state": {}
     },
     "440aaca2972d40149c237f3d56e4ac6f": {
      "model_module": "@jupyter-widgets/base",
      "model_module_version": "1.2.0",
      "model_name": "LayoutModel",
      "state": {}
     },
     "446a0820466d4ff28f607b87ed2dd7b4": {
      "model_module": "@jupyter-widgets/controls",
      "model_module_version": "1.5.0",
      "model_name": "SliderStyleModel",
      "state": {
       "description_width": ""
      }
     },
     "475274ebc2904d9caeb35e5d5eeb8e2a": {
      "model_module": "@jupyter-widgets/controls",
      "model_module_version": "1.5.0",
      "model_name": "SliderStyleModel",
      "state": {
       "description_width": ""
      }
     },
     "47a145b88e4c4489b350edb05b192e68": {
      "model_module": "@jupyter-widgets/controls",
      "model_module_version": "1.5.0",
      "model_name": "FloatSliderModel",
      "state": {
       "description": "p",
       "layout": "IPY_MODEL_e97cac85c23641aa9216273331924d66",
       "max": 1,
       "step": 0.001,
       "style": "IPY_MODEL_54e935a7e863417a82096e92f6a06eff",
       "value": 0.5
      }
     },
     "4d971f720ca14ad2bb28beaa38dc8c8a": {
      "model_module": "@jupyter-widgets/base",
      "model_module_version": "1.2.0",
      "model_name": "LayoutModel",
      "state": {}
     },
     "501d8873caa14b58b9a78f19caa91ea3": {
      "model_module": "@jupyter-widgets/controls",
      "model_module_version": "1.5.0",
      "model_name": "FloatSliderModel",
      "state": {
       "description": "p",
       "layout": "IPY_MODEL_8ce6ae3e5b1d458f9e55fc56249b2f1a",
       "max": 1,
       "step": 0.001,
       "style": "IPY_MODEL_a8b5867e8ac44cc7a5d371b01ccffba8",
       "value": 0.5
      }
     },
     "539c10b0758645cd8921890914d6cd07": {
      "model_module": "@jupyter-widgets/controls",
      "model_module_version": "1.5.0",
      "model_name": "VBoxModel",
      "state": {
       "_dom_classes": [
        "widget-interact"
       ],
       "children": [
        "IPY_MODEL_8a580de400e740e4bd675679142f54d4",
        "IPY_MODEL_a4174f70a69d4ebaa10542bd68d748d5",
        "IPY_MODEL_0f78833aef0044efba2669ee5300706c",
        "IPY_MODEL_f87ac3d7b39449758cc5d103ecde0c3b",
        "IPY_MODEL_c031416690234f2cb2da5c59db18e4cd",
        "IPY_MODEL_33b85ab62cb24c7b899b2a066bf4927e"
       ],
       "layout": "IPY_MODEL_5c0db4c616bc44e79614363bada8181a"
      }
     },
     "54e935a7e863417a82096e92f6a06eff": {
      "model_module": "@jupyter-widgets/controls",
      "model_module_version": "1.5.0",
      "model_name": "SliderStyleModel",
      "state": {
       "description_width": ""
      }
     },
     "5c0db4c616bc44e79614363bada8181a": {
      "model_module": "@jupyter-widgets/base",
      "model_module_version": "1.2.0",
      "model_name": "LayoutModel",
      "state": {}
     },
     "5eecd592acca46ce84c750626aae7101": {
      "model_module": "@jupyter-widgets/base",
      "model_module_version": "1.2.0",
      "model_name": "LayoutModel",
      "state": {}
     },
     "5ef4077299a5402bbe5d39e5237ccb6c": {
      "model_module": "@jupyter-widgets/base",
      "model_module_version": "1.2.0",
      "model_name": "LayoutModel",
      "state": {}
     },
     "62b96c1445874d2f9c87e8e5d8f92c2c": {
      "model_module": "@jupyter-widgets/controls",
      "model_module_version": "1.5.0",
      "model_name": "IntSliderModel",
      "state": {
       "description": "k",
       "layout": "IPY_MODEL_7bf8ea55b40642faa56ce38f2ce5eb17",
       "max": 10,
       "min": 1,
       "style": "IPY_MODEL_753ad73a3f634135ba81050ece69982b",
       "value": 5
      }
     },
     "6a5fec8845cf4558a316bec56be9ebce": {
      "model_module": "@jupyter-widgets/base",
      "model_module_version": "1.2.0",
      "model_name": "LayoutModel",
      "state": {}
     },
     "746648e4353846f59bb07c2943dc78c8": {
      "model_module": "@jupyter-widgets/base",
      "model_module_version": "1.2.0",
      "model_name": "LayoutModel",
      "state": {}
     },
     "753ad73a3f634135ba81050ece69982b": {
      "model_module": "@jupyter-widgets/controls",
      "model_module_version": "1.5.0",
      "model_name": "SliderStyleModel",
      "state": {
       "description_width": ""
      }
     },
     "7bf8ea55b40642faa56ce38f2ce5eb17": {
      "model_module": "@jupyter-widgets/base",
      "model_module_version": "1.2.0",
      "model_name": "LayoutModel",
      "state": {}
     },
     "8216b691237a4f85b6ad0285831b3d8b": {
      "model_module": "@jupyter-widgets/output",
      "model_module_version": "1.0.0",
      "model_name": "OutputModel",
      "state": {
       "layout": "IPY_MODEL_440aaca2972d40149c237f3d56e4ac6f",
       "outputs": [
        {
         "data": {
          "image/png": "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\n",
          "text/plain": "<Figure size 432x288 with 1 Axes>"
         },
         "metadata": {},
         "output_type": "display_data"
        }
       ]
      }
     },
     "89a9b6dd242b48ababb091ecd6061eb0": {
      "model_module": "@jupyter-widgets/controls",
      "model_module_version": "1.5.0",
      "model_name": "SliderStyleModel",
      "state": {
       "description_width": ""
      }
     },
     "8a0bace9abe44d32b63da39fe76fa1d2": {
      "model_module": "@jupyter-widgets/controls",
      "model_module_version": "1.5.0",
      "model_name": "SliderStyleModel",
      "state": {
       "description_width": ""
      }
     },
     "8a580de400e740e4bd675679142f54d4": {
      "model_module": "@jupyter-widgets/controls",
      "model_module_version": "1.5.0",
      "model_name": "IntSliderModel",
      "state": {
       "description": "n",
       "layout": "IPY_MODEL_ca3a66ae15c74401a881b56bc5734df5",
       "max": 30,
       "min": 2,
       "style": "IPY_MODEL_c607c6a3803c4493870b86de47cb06a1",
       "value": 16
      }
     },
     "8ce1d22d80e74ad68a5131aa5843fe3b": {
      "model_module": "@jupyter-widgets/controls",
      "model_module_version": "1.5.0",
      "model_name": "VBoxModel",
      "state": {
       "_dom_classes": [
        "widget-interact"
       ],
       "children": [
        "IPY_MODEL_ef6b5e48e00f4271a7aea3a8a5e80a27",
        "IPY_MODEL_e80f16accc1d401c83915ee9cf9cd9b5",
        "IPY_MODEL_62b96c1445874d2f9c87e8e5d8f92c2c",
        "IPY_MODEL_501d8873caa14b58b9a78f19caa91ea3",
        "IPY_MODEL_b874fb3951864bbdb0c650d7dea303ad",
        "IPY_MODEL_8216b691237a4f85b6ad0285831b3d8b"
       ],
       "layout": "IPY_MODEL_120e36e54bcf4736b98e9f55567b4bf7"
      }
     },
     "8ce6ae3e5b1d458f9e55fc56249b2f1a": {
      "model_module": "@jupyter-widgets/base",
      "model_module_version": "1.2.0",
      "model_name": "LayoutModel",
      "state": {}
     },
     "95c2a609ee97414d846eccd8865d1af0": {
      "model_module": "@jupyter-widgets/base",
      "model_module_version": "1.2.0",
      "model_name": "LayoutModel",
      "state": {}
     },
     "97e5f1ec640d49358504cec30c125634": {
      "model_module": "@jupyter-widgets/controls",
      "model_module_version": "1.5.0",
      "model_name": "DescriptionStyleModel",
      "state": {
       "description_width": ""
      }
     },
     "9ba9246ce3b44e0a927b4ef30a943092": {
      "model_module": "@jupyter-widgets/controls",
      "model_module_version": "1.5.0",
      "model_name": "SliderStyleModel",
      "state": {
       "description_width": ""
      }
     },
     "9bd840ab72f54a9d838b97541ad0cfc8": {
      "model_module": "@jupyter-widgets/output",
      "model_module_version": "1.0.0",
      "model_name": "OutputModel",
      "state": {
       "layout": "IPY_MODEL_4d971f720ca14ad2bb28beaa38dc8c8a",
       "outputs": [
        {
         "data": {
          "image/png": "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\n",
          "text/plain": "<Figure size 432x288 with 1 Axes>"
         },
         "metadata": {},
         "output_type": "display_data"
        }
       ]
      }
     },
     "a291b030fc594d99930d2ce60a02c385": {
      "model_module": "@jupyter-widgets/controls",
      "model_module_version": "1.5.0",
      "model_name": "SliderStyleModel",
      "state": {
       "description_width": ""
      }
     },
     "a4174f70a69d4ebaa10542bd68d748d5": {
      "model_module": "@jupyter-widgets/controls",
      "model_module_version": "1.5.0",
      "model_name": "IntSliderModel",
      "state": {
       "description": "m",
       "layout": "IPY_MODEL_746648e4353846f59bb07c2943dc78c8",
       "max": 10,
       "min": 1,
       "style": "IPY_MODEL_a291b030fc594d99930d2ce60a02c385",
       "value": 5
      }
     },
     "a8b5867e8ac44cc7a5d371b01ccffba8": {
      "model_module": "@jupyter-widgets/controls",
      "model_module_version": "1.5.0",
      "model_name": "SliderStyleModel",
      "state": {
       "description_width": ""
      }
     },
     "aa894911d1de425faf02fd673b7fda4b": {
      "model_module": "@jupyter-widgets/base",
      "model_module_version": "1.2.0",
      "model_name": "LayoutModel",
      "state": {}
     },
     "b874fb3951864bbdb0c650d7dea303ad": {
      "model_module": "@jupyter-widgets/controls",
      "model_module_version": "1.5.0",
      "model_name": "DropdownModel",
      "state": {
       "_options_labels": [
        "lobster",
        "power law",
        "Newman-Watts-Strogatz",
        "Erdős-Rényi"
       ],
       "description": "generator",
       "index": 0,
       "layout": "IPY_MODEL_3de3f658ee0c463ab28c2e881d1a2be2",
       "style": "IPY_MODEL_fc76310a36ea4b25b8d3c7f878a7e4b7"
      }
     },
     "bd8c68f973994f1fb24d322ac389db2a": {
      "model_module": "@jupyter-widgets/base",
      "model_module_version": "1.2.0",
      "model_name": "LayoutModel",
      "state": {}
     },
     "bf52d4664f534475a14b8b4907f26664": {
      "model_module": "@jupyter-widgets/controls",
      "model_module_version": "1.5.0",
      "model_name": "SliderStyleModel",
      "state": {
       "description_width": ""
      }
     },
     "c031416690234f2cb2da5c59db18e4cd": {
      "model_module": "@jupyter-widgets/controls",
      "model_module_version": "1.5.0",
      "model_name": "DropdownModel",
      "state": {
       "_options_labels": [
        "lobster",
        "power law",
        "Newman-Watts-Strogatz",
        "Erdős-Rényi"
       ],
       "description": "generator",
       "index": 0,
       "layout": "IPY_MODEL_bd8c68f973994f1fb24d322ac389db2a",
       "style": "IPY_MODEL_97e5f1ec640d49358504cec30c125634"
      }
     },
     "c341359396f34042b75e4212b958ad67": {
      "model_module": "@jupyter-widgets/base",
      "model_module_version": "1.2.0",
      "model_name": "LayoutModel",
      "state": {}
     },
     "c607c6a3803c4493870b86de47cb06a1": {
      "model_module": "@jupyter-widgets/controls",
      "model_module_version": "1.5.0",
      "model_name": "SliderStyleModel",
      "state": {
       "description_width": ""
      }
     },
     "ca3a66ae15c74401a881b56bc5734df5": {
      "model_module": "@jupyter-widgets/base",
      "model_module_version": "1.2.0",
      "model_name": "LayoutModel",
      "state": {}
     },
     "e80f16accc1d401c83915ee9cf9cd9b5": {
      "model_module": "@jupyter-widgets/controls",
      "model_module_version": "1.5.0",
      "model_name": "IntSliderModel",
      "state": {
       "description": "m",
       "layout": "IPY_MODEL_6a5fec8845cf4558a316bec56be9ebce",
       "max": 10,
       "min": 1,
       "style": "IPY_MODEL_89a9b6dd242b48ababb091ecd6061eb0",
       "value": 5
      }
     },
     "e97cac85c23641aa9216273331924d66": {
      "model_module": "@jupyter-widgets/base",
      "model_module_version": "1.2.0",
      "model_name": "LayoutModel",
      "state": {}
     },
     "ef6b5e48e00f4271a7aea3a8a5e80a27": {
      "model_module": "@jupyter-widgets/controls",
      "model_module_version": "1.5.0",
      "model_name": "IntSliderModel",
      "state": {
       "description": "n",
       "layout": "IPY_MODEL_aa894911d1de425faf02fd673b7fda4b",
       "max": 30,
       "min": 2,
       "style": "IPY_MODEL_446a0820466d4ff28f607b87ed2dd7b4",
       "value": 16
      }
     },
     "f03a4a42281f4675bb1a763eb25ad050": {
      "model_module": "@jupyter-widgets/base",
      "model_module_version": "1.2.0",
      "model_name": "LayoutModel",
      "state": {}
     },
     "f60dc7f9d3ad4fcf8de01de142f6150b": {
      "model_module": "@jupyter-widgets/controls",
      "model_module_version": "1.5.0",
      "model_name": "IntSliderModel",
      "state": {
       "description": "k",
       "layout": "IPY_MODEL_f03a4a42281f4675bb1a763eb25ad050",
       "max": 10,
       "min": 1,
       "style": "IPY_MODEL_bf52d4664f534475a14b8b4907f26664",
       "value": 5
      }
     },
     "f87ac3d7b39449758cc5d103ecde0c3b": {
      "model_module": "@jupyter-widgets/controls",
      "model_module_version": "1.5.0",
      "model_name": "FloatSliderModel",
      "state": {
       "description": "p",
       "layout": "IPY_MODEL_5ef4077299a5402bbe5d39e5237ccb6c",
       "max": 1,
       "step": 0.001,
       "style": "IPY_MODEL_9ba9246ce3b44e0a927b4ef30a943092",
       "value": 0.5
      }
     },
     "f884d25cc6454b7d99839a71b2c6d852": {
      "model_module": "@jupyter-widgets/controls",
      "model_module_version": "1.5.0",
      "model_name": "IntSliderModel",
      "state": {
       "description": "n",
       "layout": "IPY_MODEL_04d909b101f546f5977df1c125e87c98",
       "max": 30,
       "min": 2,
       "style": "IPY_MODEL_8a0bace9abe44d32b63da39fe76fa1d2",
       "value": 16
      }
     },
     "fc76310a36ea4b25b8d3c7f878a7e4b7": {
      "model_module": "@jupyter-widgets/controls",
      "model_module_version": "1.5.0",
      "model_name": "DescriptionStyleModel",
      "state": {
       "description_width": ""
      }
     }
    },
    "version_major": 2,
    "version_minor": 0
   }
  }
 },
 "nbformat": 4,
 "nbformat_minor": 1
}
