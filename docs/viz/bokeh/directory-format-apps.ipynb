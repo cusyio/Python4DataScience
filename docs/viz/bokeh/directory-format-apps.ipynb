{
 "cells": [
  {
   "cell_type": "markdown",
   "metadata": {},
   "source": [
    "# Directory Format Apps and Templates\n",
    "\n",
    "Bokeh-Apps können auch mit einem Verzeichnisformat definiert werden. Dieses Format ermöglicht die Verwendung zusätzlicher Module, Daten, Vorlagen, Themes und anderer Funktionen. Das Verzeichnis sollte eine `main.py`-Datei enthalten, das der *Einstiegspunkt* für die App ist, es können jedoch weitere Teile enthalten sein:\n",
    "```\n",
    ".\n",
    "└── myapp\n",
    "    ├── main.py\n",
    "    ├── server_lifecycle.py\n",
    "    ├── static\n",
    "    ├── templates\n",
    "    │   └── index.html\n",
    "    └── theme.yaml\n",
    "```\n",
    "\n",
    "Ein komplettes Beispiel findet ihr unter: https://github.com/bokeh/bokeh/tree/master/examples/app/dash.\n",
    "\n",
    "Nachdem ihr den `dash`-Ordner heruntergeladen habt, könnt ihr den Bokeh-Server starten mit\n",
    "```\n",
    "$ pipenv run bokeh serve --show dash/\n",
    "\n",
    "$ pipenv run bokeh serve --show examples/app/dash/\n",
    "2019-02-08 19:02:42,829 Starting Bokeh server version 1.0.4 (running on Tornado 5.1.1)\n",
    "2019-02-08 19:02:42,835 Bokeh app running at: http://localhost:5006/dash\n",
    "…\n",
    "```\n",
    "![Bokeh dashboard](bokeh-dashboard.png)"
   ]
  }
 ],
 "metadata": {
  "kernelspec": {
   "display_name": "Python 3",
   "language": "python",
   "name": "python3"
  },
  "language_info": {
   "codemirror_mode": {
    "name": "ipython",
    "version": 3
   },
   "file_extension": ".py",
   "mimetype": "text/x-python",
   "name": "python",
   "nbconvert_exporter": "python",
   "pygments_lexer": "ipython3",
   "version": "3.7.4"
  },
  "latex_envs": {
   "LaTeX_envs_menu_present": true,
   "autoclose": false,
   "autocomplete": true,
   "bibliofile": "biblio.bib",
   "cite_by": "apalike",
   "current_citInitial": 1,
   "eqLabelWithNumbers": true,
   "eqNumInitial": 1,
   "hotkeys": {
    "equation": "Ctrl-E",
    "itemize": "Ctrl-I"
   },
   "labels_anchors": false,
   "latex_user_defs": false,
   "report_style_numbering": false,
   "user_envs_cfg": false
  },
  "widgets": {
   "application/vnd.jupyter.widget-state+json": {
    "state": {},
    "version_major": 2,
    "version_minor": 0
   }
  }
 },
 "nbformat": 4,
 "nbformat_minor": 2
}
