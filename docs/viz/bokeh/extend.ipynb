{
 "cells": [
  {
   "cell_type": "markdown",
   "metadata": {},
   "source": [
    "# Bokeh erweitern\n",
    "\n",
    "Bokeh verfügt über eine Vielzahl von integrierten Typen, mit denen interaktive Visualisierungen und Datenanwendungen im Browser erstellt werden können. Es gibt jedoch spezifische Funktionen, die nicht in die Kernbibliothek aufgenommen wurden. Es gibt jedoch die Möglichkeit, Bokeh zu erweitern\n",
    "\n",
    "- um das Verhalten vorhandener Bokeh-Modelle zu verändern\n",
    "- um neue Modelle hinzuzufügen, die JavaScript-Bibliotheken von Drittanbietern mit Python verbinden\n",
    "- um spezialisierte Modelle für bestimmte Fachdomänen zu erstellen\n",
    "\n",
    "Solche benutzerdefinierten Erweiterungen können mit Standard-Releases erstellt und verwendet werden. Dabei ist es nicht erforderlich, eine Entwicklungsumgebung einzurichten oder etwas aus den Sourcen zu erstellen. "
   ]
  },
  {
   "cell_type": "markdown",
   "metadata": {},
   "source": [
    "## Struktur von Bokeh-Modellen"
   ]
  },
  {
   "cell_type": "markdown",
   "metadata": {},
   "source": [
    "### Python-Modelle\n",
    "\n"
   ]
  },
  {
   "cell_type": "markdown",
   "metadata": {},
   "source": [
    "### JavaScript-Modelle und Ansichten\n",
    "\n",
    "Während die Python-Seite meistens deklarativ ist, ohne viel oder echten Code, erfordert die JavaScript-Seite Code um das Modell zu implementieren. Gegebenenfalls muss auch Code für eine entsprechende Ansicht bereitgestellt werden.\n",
    "\n",
    "Nachfolgend findet ihr eine kommentierte TypeScript-Implementierung für `Custom` und `CustomView`. Bei integrierten Modellen ist dieser Code direkt in den endgültigen BokehJS-Skripts enthalten. Im nächsten Abschnitt wird gezeigt, wie ihr diesen Code mit benutzerdefinierten Erweiterungen verknüpfen könnt.\n",
    "\n",
    "> **Hinweis:** BokehJS wurde ursprünglich in [CoffeeScript](http://coffeescript.org/) geschrieben, wird jedoch nach [TypeScript](https://www.typescriptlang.org/) portiert. Dementsprechend ist die Anleitung hier in TypeScript. Benutzerdefinierte Erweiterungen können jedoch auch in CoffeeScript oder in reinem JavaScript geschrieben werden.\n",
    "\n",
    "```javascript\n",
    "import {div, empty} from \"core/dom\"\n",
    "import * as p from \"core/properties\"\n",
    "import {LayoutDOM, LayoutDOMView} from \"models/layouts/layout_dom\"\n",
    "\n",
    "export class CustomView extends LayoutDOMView {\n",
    "\n",
    "  initialize(options) {\n",
    "    super.initialize(options)\n",
    "\n",
    "    this.render()\n",
    "\n",
    "    // Set BokehJS listener so that when the Bokeh slider has a change\n",
    "    // event, we can process the new data\n",
    "    this.connect(this.model.slider.change, () => this.render())\n",
    "  }\n",
    "\n",
    "  render() {\n",
    "    // BokehjS Views create <div> elements by default, accessible as\n",
    "    // ``this.el``. Many Bokeh views ignore this default <div>, and instead\n",
    "    // do things like draw to the HTML canvas. In this case though, we change\n",
    "    // the contents of the <div>, based on the current slider value.\n",
    "    empty(this.el)\n",
    "    this.el.appendChild(div({\n",
    "      style: {\n",
    "        'padding': '2px',\n",
    "        'color': '#b88d8e',\n",
    "        'background-color': '#2a3153',\n",
    "      },\n",
    "    }, `${this.model.text}: ${this.model.slider.value}`))\n",
    "  }\n",
    "}\n",
    "\n",
    "export class Custom extends LayoutDOM {\n",
    "\n",
    "  // If there is an associated view, this is typically boilerplate.\n",
    "  default_view = CustomView\n",
    "\n",
    "  // The ``type`` class attribute should generally match exactly the name\n",
    "  // of the corresponding Python class.\n",
    "  type = \"Custom\"\n",
    "}\n",
    "\n",
    "// The @define block adds corresponding \"properties\" to the JS model. These\n",
    "// should normally line up 1-1 with the Python model class. Most property\n",
    "// types have counterparts, e.g. bokeh.core.properties.String will be\n",
    "// ``p.String`` in the JS implementation. Any time the JS type system is not\n",
    "// yet as complete, you can use ``p.Any`` as a \"wildcard\" property type.\n",
    "Custom.define({\n",
    "  text:   [ p.String ],\n",
    "  slider: [ p.Any    ],\n",
    "})\n",
    "```"
   ]
  },
  {
   "cell_type": "markdown",
   "metadata": {},
   "source": [
    "### Zusammenfügen\n",
    "\n",
    "Bei integrierten Bokeh-Modellen wird die Implementierung in BokehJS vom Build-Prozess automatisch mit dem entsprechenden Python-Modell abgeglichen. Um JavaScript-Implementierungen mit Python-Modellen zu verbinden, ist ein zusätzlicher Schritt erforderlich. Die Python-Klasse sollte über ein Klassenattribut `__implementation__` verfügen, dessen Name der TypeScript-Code (oder JavaScript- oder CoffeeScript-Code) ist, der das clientseitige Modell sowie optionale Ansichten definiert.\n",
    "\n",
    "Vorausgesetzt, der obige TypeScript-Code wurde in einer Datei `custom.ts` gespeichert, könnte die vollständige Python-Klasse folgendermaßen aussehen:"
   ]
  },
  {
   "cell_type": "code",
   "execution_count": 1,
   "metadata": {},
   "outputs": [],
   "source": [
    "from bokeh.core.properties import String, Instance\n",
    "from bokeh.models import LayoutDOM, Slider\n",
    "\n",
    "class Custom(LayoutDOM):\n",
    "\n",
    "    __implementation__ = \"custom.ts\"\n",
    "\n",
    "    text = String(default=\"Custom text\")\n",
    "\n",
    "    slider = Instance(Slider)"
   ]
  },
  {
   "cell_type": "markdown",
   "metadata": {},
   "source": [
    "Wenn diese Klasse dann in einem Python-Modul `custom.py` definiert ist, kann die benutzerdefinierte Erweiterung jetzt genau wie jedes integrierte Bokeh-Modell verwendet werden:"
   ]
  },
  {
   "cell_type": "code",
   "execution_count": 2,
   "metadata": {},
   "outputs": [],
   "source": [
    "from bokeh.io import show, output_file\n",
    "from bokeh.layouts import column\n",
    "from bokeh.models import Slider\n",
    "\n",
    "slider = Slider(start=0, end=10, step=0.1, value=0, title=\"value\")\n",
    "\n",
    "custom = Custom(text=\"Special Slider Display\", slider=slider)\n",
    "\n",
    "layout = column(slider, custom)\n",
    "\n",
    "show(layout)"
   ]
  },
  {
   "cell_type": "markdown",
   "metadata": {},
   "source": [
    "## Integration in Bokeh Server\n",
    "\n",
    "Es sind keine besonderen Arbeiten oder Modifikationen erforderlich, um benutzerdefinierte Erweiterungen in den Bokeh-Server zu integrieren. Wie bei Standalone-Dokumenten ist die JavaScript-Implementierung automatisch in der gerenderten Anwendung enthalten. Zusätzlich erfolgt die Standardsynchronisation der Bokeh-Modelleigenschaften, die für alle integrierten Modelle gilt, auch transparent für benutzerdefinierte Erweiterungen."
   ]
  },
  {
   "cell_type": "markdown",
   "metadata": {},
   "source": [
    "## Beispiele\n",
    "\n",
    "In der Bokeh-Dokumentation stehen einige vollständige Beispiele zur Verfügung, die als Referenz dienen sollen. In vielen Fällen ist es erforderlich, den Quellcode der Basisklassen in [bokehjs/src/lib/models](https://github.com/bokeh/bokeh/tree/1.0.4/bokehjs/src/lib/models) zu studieren.\n",
    "\n",
    "* [Specialized Axis Ticking](https://bokeh.pydata.org/en/latest/docs/user_guide/extensions_gallery/ticking.html#userguide-extensions-examples-ticking)\n",
    "* [A New Custom Tool](https://bokeh.pydata.org/en/latest/docs/user_guide/extensions_gallery/tool.html#userguide-extensions-examples-tool)\n",
    "* [Wrapping A JavaScript Library](https://bokeh.pydata.org/en/latest/docs/user_guide/extensions_gallery/wrapping.html#userguide-extensions-examples-wrapping)\n",
    "* [Creating Latex Labels](https://bokeh.pydata.org/en/latest/docs/user_guide/extensions_gallery/latex.html#userguide-extensions-examples-latex)\n",
    "* [Adding A Custom Widget](https://bokeh.pydata.org/en/latest/docs/user_guide/extensions_gallery/widget.html#userguide-extensions-examples-widget)"
   ]
  }
 ],
 "metadata": {
  "kernelspec": {
   "display_name": "Python 3.7.4",
   "language": "python",
   "name": "python-374"
  },
  "language_info": {
   "codemirror_mode": {
    "name": "ipython",
    "version": 3
   },
   "file_extension": ".py",
   "mimetype": "text/x-python",
   "name": "python",
   "nbconvert_exporter": "python",
   "pygments_lexer": "ipython3",
   "version": "3.7.4"
  },
  "latex_envs": {
   "LaTeX_envs_menu_present": true,
   "autoclose": false,
   "autocomplete": true,
   "bibliofile": "biblio.bib",
   "cite_by": "apalike",
   "current_citInitial": 1,
   "eqLabelWithNumbers": true,
   "eqNumInitial": 1,
   "hotkeys": {
    "equation": "Ctrl-E",
    "itemize": "Ctrl-I"
   },
   "labels_anchors": false,
   "latex_user_defs": false,
   "report_style_numbering": false,
   "user_envs_cfg": false
  },
  "widgets": {
   "application/vnd.jupyter.widget-state+json": {
    "state": {},
    "version_major": 2,
    "version_minor": 0
   }
  }
 },
 "nbformat": 4,
 "nbformat_minor": 2
}
