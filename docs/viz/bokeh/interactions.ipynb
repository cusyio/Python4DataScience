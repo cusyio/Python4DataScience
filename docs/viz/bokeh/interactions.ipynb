{
 "cells": [
  {
   "cell_type": "markdown",
   "metadata": {},
   "source": [
    "# Interactions"
   ]
  },
  {
   "cell_type": "code",
   "execution_count": 1,
   "metadata": {
    "hide_input": true
   },
   "outputs": [
    {
     "data": {
      "text/html": [
       "\n",
       "    <div class=\"bk-root\">\n",
       "        <a href=\"https://bokeh.org\" target=\"_blank\" class=\"bk-logo bk-logo-small bk-logo-notebook\"></a>\n",
       "        <span id=\"1001\">Loading BokehJS ...</span>\n",
       "    </div>"
      ]
     },
     "metadata": {},
     "output_type": "display_data"
    },
    {
     "data": {
      "application/javascript": [
       "\n",
       "(function(root) {\n",
       "  function now() {\n",
       "    return new Date();\n",
       "  }\n",
       "\n",
       "  var force = true;\n",
       "\n",
       "  if (typeof root._bokeh_onload_callbacks === \"undefined\" || force === true) {\n",
       "    root._bokeh_onload_callbacks = [];\n",
       "    root._bokeh_is_loading = undefined;\n",
       "  }\n",
       "\n",
       "  var JS_MIME_TYPE = 'application/javascript';\n",
       "  var HTML_MIME_TYPE = 'text/html';\n",
       "  var EXEC_MIME_TYPE = 'application/vnd.bokehjs_exec.v0+json';\n",
       "  var CLASS_NAME = 'output_bokeh rendered_html';\n",
       "\n",
       "  /**\n",
       "   * Render data to the DOM node\n",
       "   */\n",
       "  function render(props, node) {\n",
       "    var script = document.createElement(\"script\");\n",
       "    node.appendChild(script);\n",
       "  }\n",
       "\n",
       "  /**\n",
       "   * Handle when an output is cleared or removed\n",
       "   */\n",
       "  function handleClearOutput(event, handle) {\n",
       "    var cell = handle.cell;\n",
       "\n",
       "    var id = cell.output_area._bokeh_element_id;\n",
       "    var server_id = cell.output_area._bokeh_server_id;\n",
       "    // Clean up Bokeh references\n",
       "    if (id != null && id in Bokeh.index) {\n",
       "      Bokeh.index[id].model.document.clear();\n",
       "      delete Bokeh.index[id];\n",
       "    }\n",
       "\n",
       "    if (server_id !== undefined) {\n",
       "      // Clean up Bokeh references\n",
       "      var cmd = \"from bokeh.io.state import curstate; print(curstate().uuid_to_server['\" + server_id + \"'].get_sessions()[0].document.roots[0]._id)\";\n",
       "      cell.notebook.kernel.execute(cmd, {\n",
       "        iopub: {\n",
       "          output: function(msg) {\n",
       "            var id = msg.content.text.trim();\n",
       "            if (id in Bokeh.index) {\n",
       "              Bokeh.index[id].model.document.clear();\n",
       "              delete Bokeh.index[id];\n",
       "            }\n",
       "          }\n",
       "        }\n",
       "      });\n",
       "      // Destroy server and session\n",
       "      var cmd = \"import bokeh.io.notebook as ion; ion.destroy_server('\" + server_id + \"')\";\n",
       "      cell.notebook.kernel.execute(cmd);\n",
       "    }\n",
       "  }\n",
       "\n",
       "  /**\n",
       "   * Handle when a new output is added\n",
       "   */\n",
       "  function handleAddOutput(event, handle) {\n",
       "    var output_area = handle.output_area;\n",
       "    var output = handle.output;\n",
       "\n",
       "    // limit handleAddOutput to display_data with EXEC_MIME_TYPE content only\n",
       "    if ((output.output_type != \"display_data\") || (!output.data.hasOwnProperty(EXEC_MIME_TYPE))) {\n",
       "      return\n",
       "    }\n",
       "\n",
       "    var toinsert = output_area.element.find(\".\" + CLASS_NAME.split(' ')[0]);\n",
       "\n",
       "    if (output.metadata[EXEC_MIME_TYPE][\"id\"] !== undefined) {\n",
       "      toinsert[toinsert.length - 1].firstChild.textContent = output.data[JS_MIME_TYPE];\n",
       "      // store reference to embed id on output_area\n",
       "      output_area._bokeh_element_id = output.metadata[EXEC_MIME_TYPE][\"id\"];\n",
       "    }\n",
       "    if (output.metadata[EXEC_MIME_TYPE][\"server_id\"] !== undefined) {\n",
       "      var bk_div = document.createElement(\"div\");\n",
       "      bk_div.innerHTML = output.data[HTML_MIME_TYPE];\n",
       "      var script_attrs = bk_div.children[0].attributes;\n",
       "      for (var i = 0; i < script_attrs.length; i++) {\n",
       "        toinsert[toinsert.length - 1].firstChild.setAttribute(script_attrs[i].name, script_attrs[i].value);\n",
       "      }\n",
       "      // store reference to server id on output_area\n",
       "      output_area._bokeh_server_id = output.metadata[EXEC_MIME_TYPE][\"server_id\"];\n",
       "    }\n",
       "  }\n",
       "\n",
       "  function register_renderer(events, OutputArea) {\n",
       "\n",
       "    function append_mime(data, metadata, element) {\n",
       "      // create a DOM node to render to\n",
       "      var toinsert = this.create_output_subarea(\n",
       "        metadata,\n",
       "        CLASS_NAME,\n",
       "        EXEC_MIME_TYPE\n",
       "      );\n",
       "      this.keyboard_manager.register_events(toinsert);\n",
       "      // Render to node\n",
       "      var props = {data: data, metadata: metadata[EXEC_MIME_TYPE]};\n",
       "      render(props, toinsert[toinsert.length - 1]);\n",
       "      element.append(toinsert);\n",
       "      return toinsert\n",
       "    }\n",
       "\n",
       "    /* Handle when an output is cleared or removed */\n",
       "    events.on('clear_output.CodeCell', handleClearOutput);\n",
       "    events.on('delete.Cell', handleClearOutput);\n",
       "\n",
       "    /* Handle when a new output is added */\n",
       "    events.on('output_added.OutputArea', handleAddOutput);\n",
       "\n",
       "    /**\n",
       "     * Register the mime type and append_mime function with output_area\n",
       "     */\n",
       "    OutputArea.prototype.register_mime_type(EXEC_MIME_TYPE, append_mime, {\n",
       "      /* Is output safe? */\n",
       "      safe: true,\n",
       "      /* Index of renderer in `output_area.display_order` */\n",
       "      index: 0\n",
       "    });\n",
       "  }\n",
       "\n",
       "  // register the mime type if in Jupyter Notebook environment and previously unregistered\n",
       "  if (root.Jupyter !== undefined) {\n",
       "    var events = require('base/js/events');\n",
       "    var OutputArea = require('notebook/js/outputarea').OutputArea;\n",
       "\n",
       "    if (OutputArea.prototype.mime_types().indexOf(EXEC_MIME_TYPE) == -1) {\n",
       "      register_renderer(events, OutputArea);\n",
       "    }\n",
       "  }\n",
       "\n",
       "  \n",
       "  if (typeof (root._bokeh_timeout) === \"undefined\" || force === true) {\n",
       "    root._bokeh_timeout = Date.now() + 5000;\n",
       "    root._bokeh_failed_load = false;\n",
       "  }\n",
       "\n",
       "  var NB_LOAD_WARNING = {'data': {'text/html':\n",
       "     \"<div style='background-color: #fdd'>\\n\"+\n",
       "     \"<p>\\n\"+\n",
       "     \"BokehJS does not appear to have successfully loaded. If loading BokehJS from CDN, this \\n\"+\n",
       "     \"may be due to a slow or bad network connection. Possible fixes:\\n\"+\n",
       "     \"</p>\\n\"+\n",
       "     \"<ul>\\n\"+\n",
       "     \"<li>re-rerun `output_notebook()` to attempt to load from CDN again, or</li>\\n\"+\n",
       "     \"<li>use INLINE resources instead, as so:</li>\\n\"+\n",
       "     \"</ul>\\n\"+\n",
       "     \"<code>\\n\"+\n",
       "     \"from bokeh.resources import INLINE\\n\"+\n",
       "     \"output_notebook(resources=INLINE)\\n\"+\n",
       "     \"</code>\\n\"+\n",
       "     \"</div>\"}};\n",
       "\n",
       "  function display_loaded() {\n",
       "    var el = document.getElementById(\"1001\");\n",
       "    if (el != null) {\n",
       "      el.textContent = \"BokehJS is loading...\";\n",
       "    }\n",
       "    if (root.Bokeh !== undefined) {\n",
       "      if (el != null) {\n",
       "        el.textContent = \"BokehJS \" + root.Bokeh.version + \" successfully loaded.\";\n",
       "      }\n",
       "    } else if (Date.now() < root._bokeh_timeout) {\n",
       "      setTimeout(display_loaded, 100)\n",
       "    }\n",
       "  }\n",
       "\n",
       "\n",
       "  function run_callbacks() {\n",
       "    try {\n",
       "      root._bokeh_onload_callbacks.forEach(function(callback) {\n",
       "        if (callback != null)\n",
       "          callback();\n",
       "      });\n",
       "    } finally {\n",
       "      delete root._bokeh_onload_callbacks\n",
       "    }\n",
       "    console.debug(\"Bokeh: all callbacks have finished\");\n",
       "  }\n",
       "\n",
       "  function load_libs(css_urls, js_urls, callback) {\n",
       "    if (css_urls == null) css_urls = [];\n",
       "    if (js_urls == null) js_urls = [];\n",
       "\n",
       "    root._bokeh_onload_callbacks.push(callback);\n",
       "    if (root._bokeh_is_loading > 0) {\n",
       "      console.debug(\"Bokeh: BokehJS is being loaded, scheduling callback at\", now());\n",
       "      return null;\n",
       "    }\n",
       "    if (js_urls == null || js_urls.length === 0) {\n",
       "      run_callbacks();\n",
       "      return null;\n",
       "    }\n",
       "    console.debug(\"Bokeh: BokehJS not loaded, scheduling load and callback at\", now());\n",
       "    root._bokeh_is_loading = css_urls.length + js_urls.length;\n",
       "\n",
       "    function on_load() {\n",
       "      root._bokeh_is_loading--;\n",
       "      if (root._bokeh_is_loading === 0) {\n",
       "        console.debug(\"Bokeh: all BokehJS libraries/stylesheets loaded\");\n",
       "        run_callbacks()\n",
       "      }\n",
       "    }\n",
       "\n",
       "    function on_error() {\n",
       "      console.error(\"failed to load \" + url);\n",
       "    }\n",
       "\n",
       "    for (var i = 0; i < css_urls.length; i++) {\n",
       "      var url = css_urls[i];\n",
       "      const element = document.createElement(\"link\");\n",
       "      element.onload = on_load;\n",
       "      element.onerror = on_error;\n",
       "      element.rel = \"stylesheet\";\n",
       "      element.type = \"text/css\";\n",
       "      element.href = url;\n",
       "      console.debug(\"Bokeh: injecting link tag for BokehJS stylesheet: \", url);\n",
       "      document.body.appendChild(element);\n",
       "    }\n",
       "\n",
       "    for (var i = 0; i < js_urls.length; i++) {\n",
       "      var url = js_urls[i];\n",
       "      var element = document.createElement('script');\n",
       "      element.onload = on_load;\n",
       "      element.onerror = on_error;\n",
       "      element.async = false;\n",
       "      element.src = url;\n",
       "      console.debug(\"Bokeh: injecting script tag for BokehJS library: \", url);\n",
       "      document.head.appendChild(element);\n",
       "    }\n",
       "  };var element = document.getElementById(\"1001\");\n",
       "  if (element == null) {\n",
       "    console.error(\"Bokeh: ERROR: autoload.js configured with elementid '1001' but no matching script tag was found. \")\n",
       "    return false;\n",
       "  }\n",
       "\n",
       "  function inject_raw_css(css) {\n",
       "    const element = document.createElement(\"style\");\n",
       "    element.appendChild(document.createTextNode(css));\n",
       "    document.body.appendChild(element);\n",
       "  }\n",
       "\n",
       "  \n",
       "  var js_urls = [\"https://cdn.pydata.org/bokeh/release/bokeh-1.4.0.min.js\", \"https://cdn.pydata.org/bokeh/release/bokeh-widgets-1.4.0.min.js\", \"https://cdn.pydata.org/bokeh/release/bokeh-tables-1.4.0.min.js\", \"https://cdn.pydata.org/bokeh/release/bokeh-gl-1.4.0.min.js\"];\n",
       "  var css_urls = [];\n",
       "  \n",
       "\n",
       "  var inline_js = [\n",
       "    function(Bokeh) {\n",
       "      Bokeh.set_log_level(\"info\");\n",
       "    },\n",
       "    function(Bokeh) {\n",
       "    \n",
       "    \n",
       "    }\n",
       "  ];\n",
       "\n",
       "  function run_inline_js() {\n",
       "    \n",
       "    if (root.Bokeh !== undefined || force === true) {\n",
       "      \n",
       "    for (var i = 0; i < inline_js.length; i++) {\n",
       "      inline_js[i].call(root, root.Bokeh);\n",
       "    }\n",
       "    if (force === true) {\n",
       "        display_loaded();\n",
       "      }} else if (Date.now() < root._bokeh_timeout) {\n",
       "      setTimeout(run_inline_js, 100);\n",
       "    } else if (!root._bokeh_failed_load) {\n",
       "      console.log(\"Bokeh: BokehJS failed to load within specified timeout.\");\n",
       "      root._bokeh_failed_load = true;\n",
       "    } else if (force !== true) {\n",
       "      var cell = $(document.getElementById(\"1001\")).parents('.cell').data().cell;\n",
       "      cell.output_area.append_execute_result(NB_LOAD_WARNING)\n",
       "    }\n",
       "\n",
       "  }\n",
       "\n",
       "  if (root._bokeh_is_loading === 0) {\n",
       "    console.debug(\"Bokeh: BokehJS loaded, going straight to plotting\");\n",
       "    run_inline_js();\n",
       "  } else {\n",
       "    load_libs(css_urls, js_urls, function() {\n",
       "      console.debug(\"Bokeh: BokehJS plotting callback run at\", now());\n",
       "      run_inline_js();\n",
       "    });\n",
       "  }\n",
       "}(window));"
      ],
      "application/vnd.bokehjs_load.v0+json": "\n(function(root) {\n  function now() {\n    return new Date();\n  }\n\n  var force = true;\n\n  if (typeof root._bokeh_onload_callbacks === \"undefined\" || force === true) {\n    root._bokeh_onload_callbacks = [];\n    root._bokeh_is_loading = undefined;\n  }\n\n  \n\n  \n  if (typeof (root._bokeh_timeout) === \"undefined\" || force === true) {\n    root._bokeh_timeout = Date.now() + 5000;\n    root._bokeh_failed_load = false;\n  }\n\n  var NB_LOAD_WARNING = {'data': {'text/html':\n     \"<div style='background-color: #fdd'>\\n\"+\n     \"<p>\\n\"+\n     \"BokehJS does not appear to have successfully loaded. If loading BokehJS from CDN, this \\n\"+\n     \"may be due to a slow or bad network connection. Possible fixes:\\n\"+\n     \"</p>\\n\"+\n     \"<ul>\\n\"+\n     \"<li>re-rerun `output_notebook()` to attempt to load from CDN again, or</li>\\n\"+\n     \"<li>use INLINE resources instead, as so:</li>\\n\"+\n     \"</ul>\\n\"+\n     \"<code>\\n\"+\n     \"from bokeh.resources import INLINE\\n\"+\n     \"output_notebook(resources=INLINE)\\n\"+\n     \"</code>\\n\"+\n     \"</div>\"}};\n\n  function display_loaded() {\n    var el = document.getElementById(\"1001\");\n    if (el != null) {\n      el.textContent = \"BokehJS is loading...\";\n    }\n    if (root.Bokeh !== undefined) {\n      if (el != null) {\n        el.textContent = \"BokehJS \" + root.Bokeh.version + \" successfully loaded.\";\n      }\n    } else if (Date.now() < root._bokeh_timeout) {\n      setTimeout(display_loaded, 100)\n    }\n  }\n\n\n  function run_callbacks() {\n    try {\n      root._bokeh_onload_callbacks.forEach(function(callback) {\n        if (callback != null)\n          callback();\n      });\n    } finally {\n      delete root._bokeh_onload_callbacks\n    }\n    console.debug(\"Bokeh: all callbacks have finished\");\n  }\n\n  function load_libs(css_urls, js_urls, callback) {\n    if (css_urls == null) css_urls = [];\n    if (js_urls == null) js_urls = [];\n\n    root._bokeh_onload_callbacks.push(callback);\n    if (root._bokeh_is_loading > 0) {\n      console.debug(\"Bokeh: BokehJS is being loaded, scheduling callback at\", now());\n      return null;\n    }\n    if (js_urls == null || js_urls.length === 0) {\n      run_callbacks();\n      return null;\n    }\n    console.debug(\"Bokeh: BokehJS not loaded, scheduling load and callback at\", now());\n    root._bokeh_is_loading = css_urls.length + js_urls.length;\n\n    function on_load() {\n      root._bokeh_is_loading--;\n      if (root._bokeh_is_loading === 0) {\n        console.debug(\"Bokeh: all BokehJS libraries/stylesheets loaded\");\n        run_callbacks()\n      }\n    }\n\n    function on_error() {\n      console.error(\"failed to load \" + url);\n    }\n\n    for (var i = 0; i < css_urls.length; i++) {\n      var url = css_urls[i];\n      const element = document.createElement(\"link\");\n      element.onload = on_load;\n      element.onerror = on_error;\n      element.rel = \"stylesheet\";\n      element.type = \"text/css\";\n      element.href = url;\n      console.debug(\"Bokeh: injecting link tag for BokehJS stylesheet: \", url);\n      document.body.appendChild(element);\n    }\n\n    for (var i = 0; i < js_urls.length; i++) {\n      var url = js_urls[i];\n      var element = document.createElement('script');\n      element.onload = on_load;\n      element.onerror = on_error;\n      element.async = false;\n      element.src = url;\n      console.debug(\"Bokeh: injecting script tag for BokehJS library: \", url);\n      document.head.appendChild(element);\n    }\n  };var element = document.getElementById(\"1001\");\n  if (element == null) {\n    console.error(\"Bokeh: ERROR: autoload.js configured with elementid '1001' but no matching script tag was found. \")\n    return false;\n  }\n\n  function inject_raw_css(css) {\n    const element = document.createElement(\"style\");\n    element.appendChild(document.createTextNode(css));\n    document.body.appendChild(element);\n  }\n\n  \n  var js_urls = [\"https://cdn.pydata.org/bokeh/release/bokeh-1.4.0.min.js\", \"https://cdn.pydata.org/bokeh/release/bokeh-widgets-1.4.0.min.js\", \"https://cdn.pydata.org/bokeh/release/bokeh-tables-1.4.0.min.js\", \"https://cdn.pydata.org/bokeh/release/bokeh-gl-1.4.0.min.js\"];\n  var css_urls = [];\n  \n\n  var inline_js = [\n    function(Bokeh) {\n      Bokeh.set_log_level(\"info\");\n    },\n    function(Bokeh) {\n    \n    \n    }\n  ];\n\n  function run_inline_js() {\n    \n    if (root.Bokeh !== undefined || force === true) {\n      \n    for (var i = 0; i < inline_js.length; i++) {\n      inline_js[i].call(root, root.Bokeh);\n    }\n    if (force === true) {\n        display_loaded();\n      }} else if (Date.now() < root._bokeh_timeout) {\n      setTimeout(run_inline_js, 100);\n    } else if (!root._bokeh_failed_load) {\n      console.log(\"Bokeh: BokehJS failed to load within specified timeout.\");\n      root._bokeh_failed_load = true;\n    } else if (force !== true) {\n      var cell = $(document.getElementById(\"1001\")).parents('.cell').data().cell;\n      cell.output_area.append_execute_result(NB_LOAD_WARNING)\n    }\n\n  }\n\n  if (root._bokeh_is_loading === 0) {\n    console.debug(\"Bokeh: BokehJS loaded, going straight to plotting\");\n    run_inline_js();\n  } else {\n    load_libs(css_urls, js_urls, function() {\n      console.debug(\"Bokeh: BokehJS plotting callback run at\", now());\n      run_inline_js();\n    });\n  }\n}(window));"
     },
     "metadata": {},
     "output_type": "display_data"
    }
   ],
   "source": [
    "from bokeh.io import output_notebook, show\n",
    "from bokeh.plotting import figure\n",
    "output_notebook()"
   ]
  },
  {
   "cell_type": "markdown",
   "metadata": {},
   "source": [
    "## Verknüpfte Interaktionen\n",
    "\n",
    "Es ist möglich, verschiedenen Bokeh-Plots interaktiv zu verknüpfen. Z.B. können zwei oder mehr Plots verknüpft werden, wobei in einem der Plots verschoben, gezoomt o.ä. wird und die anderen Plots gleichzeitig aktualisiert werden. Es ist auch möglich, Auswahlen zwischen zwei Plots zu verknüpfen, sodass bei der Auswahl von Elementen in einem Plot auch die entsprechenden Elemente im zweiten Plot ausgewählt werden."
   ]
  },
  {
   "cell_type": "markdown",
   "metadata": {},
   "source": [
    "### Verknüpftes Verschieben\n",
    "\n",
    "Verknüpftes Verschieben (wenn mehrere Darstellungen Bereiche haben, die synchron bleiben) ist mit Bokeh einfach zu realisieren. Ihr teilt einfach die entsprechenden Bereichsobjekte zwischen zwei (oder mehr) Plots auf. Das folgende Beispiel zeigt, wie ihr dies erreicht, indem ihr die Bereiche der drei Diagramme auf verschiedene Weise verknüpft:"
   ]
  },
  {
   "cell_type": "code",
   "execution_count": 2,
   "metadata": {
    "scrolled": true
   },
   "outputs": [
    {
     "data": {
      "text/html": [
       "\n",
       "\n",
       "\n",
       "\n",
       "\n",
       "\n",
       "  <div class=\"bk-root\" id=\"2318df43-b654-466d-84b4-e41560bcd365\" data-root-id=\"1116\"></div>\n"
      ]
     },
     "metadata": {},
     "output_type": "display_data"
    },
    {
     "data": {
      "application/javascript": [
       "(function(root) {\n",
       "  function embed_document(root) {\n",
       "    \n",
       "  var docs_json = {\"e9ea9918-40fd-45b6-9fd4-3dc86be4d8e5\":{\"roots\":{\"references\":[{\"attributes\":{\"children\":[{\"id\":\"1115\",\"type\":\"ToolbarBox\"},{\"id\":\"1113\",\"type\":\"GridBox\"}]},\"id\":\"1116\",\"type\":\"Column\"},{\"attributes\":{\"formatter\":{\"id\":\"1099\",\"type\":\"BasicTickFormatter\"},\"ticker\":{\"id\":\"1044\",\"type\":\"BasicTicker\"}},\"id\":\"1043\",\"type\":\"LinearAxis\"},{\"attributes\":{\"fill_color\":{\"value\":\"navy\"},\"line_color\":{\"value\":\"navy\"},\"size\":{\"units\":\"screen\",\"value\":10},\"x\":{\"field\":\"x\"},\"y\":{\"field\":\"y\"}},\"id\":\"1027\",\"type\":\"Circle\"},{\"attributes\":{},\"id\":\"1090\",\"type\":\"BasicTickFormatter\"},{\"attributes\":{},\"id\":\"1072\",\"type\":\"BasicTicker\"},{\"attributes\":{\"active_drag\":\"auto\",\"active_inspect\":\"auto\",\"active_multi\":null,\"active_scroll\":\"auto\",\"active_tap\":\"auto\",\"tools\":[{\"id\":\"1048\",\"type\":\"PanTool\"},{\"id\":\"1049\",\"type\":\"WheelZoomTool\"}]},\"id\":\"1050\",\"type\":\"Toolbar\"},{\"attributes\":{},\"id\":\"1092\",\"type\":\"Selection\"},{\"attributes\":{},\"id\":\"1093\",\"type\":\"UnionRenderers\"},{\"attributes\":{},\"id\":\"1048\",\"type\":\"PanTool\"},{\"attributes\":{\"dimension\":1,\"ticker\":{\"id\":\"1072\",\"type\":\"BasicTicker\"}},\"id\":\"1075\",\"type\":\"Grid\"},{\"attributes\":{},\"id\":\"1009\",\"type\":\"LinearScale\"},{\"attributes\":{\"data_source\":{\"id\":\"1026\",\"type\":\"ColumnDataSource\"},\"glyph\":{\"id\":\"1027\",\"type\":\"Circle\"},\"hover_glyph\":null,\"muted_glyph\":null,\"nonselection_glyph\":{\"id\":\"1028\",\"type\":\"Circle\"},\"selection_glyph\":null,\"view\":{\"id\":\"1030\",\"type\":\"CDSView\"}},\"id\":\"1029\",\"type\":\"GlyphRenderer\"},{\"attributes\":{\"formatter\":{\"id\":\"1108\",\"type\":\"BasicTickFormatter\"},\"ticker\":{\"id\":\"1072\",\"type\":\"BasicTicker\"}},\"id\":\"1071\",\"type\":\"LinearAxis\"},{\"attributes\":{\"tools\":[{\"id\":\"1021\",\"type\":\"PanTool\"},{\"id\":\"1022\",\"type\":\"WheelZoomTool\"},{\"id\":\"1048\",\"type\":\"PanTool\"},{\"id\":\"1049\",\"type\":\"WheelZoomTool\"},{\"id\":\"1076\",\"type\":\"PanTool\"},{\"id\":\"1077\",\"type\":\"WheelZoomTool\"}]},\"id\":\"1114\",\"type\":\"ProxyToolbar\"},{\"attributes\":{\"source\":{\"id\":\"1026\",\"type\":\"ColumnDataSource\"}},\"id\":\"1030\",\"type\":\"CDSView\"},{\"attributes\":{\"formatter\":{\"id\":\"1088\",\"type\":\"BasicTickFormatter\"},\"ticker\":{\"id\":\"1012\",\"type\":\"BasicTicker\"}},\"id\":\"1011\",\"type\":\"LinearAxis\"},{\"attributes\":{},\"id\":\"1049\",\"type\":\"WheelZoomTool\"},{\"attributes\":{\"active_drag\":\"auto\",\"active_inspect\":\"auto\",\"active_multi\":null,\"active_scroll\":\"auto\",\"active_tap\":\"auto\",\"tools\":[{\"id\":\"1076\",\"type\":\"PanTool\"},{\"id\":\"1077\",\"type\":\"WheelZoomTool\"}]},\"id\":\"1078\",\"type\":\"Toolbar\"},{\"attributes\":{\"ticker\":{\"id\":\"1067\",\"type\":\"BasicTicker\"}},\"id\":\"1070\",\"type\":\"Grid\"},{\"attributes\":{\"text\":\"\"},\"id\":\"1095\",\"type\":\"Title\"},{\"attributes\":{},\"id\":\"1017\",\"type\":\"BasicTicker\"},{\"attributes\":{\"callback\":null,\"data\":{\"x\":[0,1,2,3,4,5,6,7,8,9,10],\"y\":[10,9,8,7,6,5,4,3,2,1,0]},\"selected\":{\"id\":\"1101\",\"type\":\"Selection\"},\"selection_policy\":{\"id\":\"1102\",\"type\":\"UnionRenderers\"}},\"id\":\"1053\",\"type\":\"ColumnDataSource\"},{\"attributes\":{},\"id\":\"1076\",\"type\":\"PanTool\"},{\"attributes\":{},\"id\":\"1012\",\"type\":\"BasicTicker\"},{\"attributes\":{\"ticker\":{\"id\":\"1012\",\"type\":\"BasicTicker\"}},\"id\":\"1015\",\"type\":\"Grid\"},{\"attributes\":{\"dimension\":1,\"ticker\":{\"id\":\"1044\",\"type\":\"BasicTicker\"}},\"id\":\"1047\",\"type\":\"Grid\"},{\"attributes\":{},\"id\":\"1099\",\"type\":\"BasicTickFormatter\"},{\"attributes\":{\"fill_alpha\":{\"value\":0.1},\"fill_color\":{\"value\":\"#1f77b4\"},\"line_alpha\":{\"value\":0.1},\"line_color\":{\"value\":\"#1f77b4\"},\"size\":{\"units\":\"screen\",\"value\":10},\"x\":{\"field\":\"x\"},\"y\":{\"field\":\"y\"}},\"id\":\"1055\",\"type\":\"Triangle\"},{\"attributes\":{},\"id\":\"1022\",\"type\":\"WheelZoomTool\"},{\"attributes\":{},\"id\":\"1077\",\"type\":\"WheelZoomTool\"},{\"attributes\":{},\"id\":\"1067\",\"type\":\"BasicTicker\"},{\"attributes\":{},\"id\":\"1101\",\"type\":\"Selection\"},{\"attributes\":{\"dimension\":1,\"ticker\":{\"id\":\"1017\",\"type\":\"BasicTicker\"}},\"id\":\"1020\",\"type\":\"Grid\"},{\"attributes\":{},\"id\":\"1102\",\"type\":\"UnionRenderers\"},{\"attributes\":{\"formatter\":{\"id\":\"1090\",\"type\":\"BasicTickFormatter\"},\"ticker\":{\"id\":\"1017\",\"type\":\"BasicTicker\"}},\"id\":\"1016\",\"type\":\"LinearAxis\"},{\"attributes\":{},\"id\":\"1034\",\"type\":\"LinearScale\"},{\"attributes\":{\"callback\":null,\"data\":{\"x\":[0,1,2,3,4,5,6,7,8,9,10],\"y\":[5,4,3,2,1,0,1,2,3,4,5]},\"selected\":{\"id\":\"1110\",\"type\":\"Selection\"},\"selection_policy\":{\"id\":\"1111\",\"type\":\"UnionRenderers\"}},\"id\":\"1081\",\"type\":\"ColumnDataSource\"},{\"attributes\":{\"active_drag\":\"auto\",\"active_inspect\":\"auto\",\"active_multi\":null,\"active_scroll\":\"auto\",\"active_tap\":\"auto\",\"tools\":[{\"id\":\"1021\",\"type\":\"PanTool\"},{\"id\":\"1022\",\"type\":\"WheelZoomTool\"}]},\"id\":\"1023\",\"type\":\"Toolbar\"},{\"attributes\":{\"data_source\":{\"id\":\"1053\",\"type\":\"ColumnDataSource\"},\"glyph\":{\"id\":\"1054\",\"type\":\"Triangle\"},\"hover_glyph\":null,\"muted_glyph\":null,\"nonselection_glyph\":{\"id\":\"1055\",\"type\":\"Triangle\"},\"selection_glyph\":null,\"view\":{\"id\":\"1057\",\"type\":\"CDSView\"}},\"id\":\"1056\",\"type\":\"GlyphRenderer\"},{\"attributes\":{\"fill_alpha\":{\"value\":0.1},\"fill_color\":{\"value\":\"#1f77b4\"},\"line_alpha\":{\"value\":0.1},\"line_color\":{\"value\":\"#1f77b4\"},\"size\":{\"units\":\"screen\",\"value\":10},\"x\":{\"field\":\"x\"},\"y\":{\"field\":\"y\"}},\"id\":\"1083\",\"type\":\"Square\"},{\"attributes\":{\"fill_color\":{\"value\":\"olive\"},\"line_color\":{\"value\":\"olive\"},\"size\":{\"units\":\"screen\",\"value\":10},\"x\":{\"field\":\"x\"},\"y\":{\"field\":\"y\"}},\"id\":\"1082\",\"type\":\"Square\"},{\"attributes\":{\"text\":\"\"},\"id\":\"1104\",\"type\":\"Title\"},{\"attributes\":{\"source\":{\"id\":\"1053\",\"type\":\"ColumnDataSource\"}},\"id\":\"1057\",\"type\":\"CDSView\"},{\"attributes\":{},\"id\":\"1021\",\"type\":\"PanTool\"},{\"attributes\":{\"callback\":null},\"id\":\"1060\",\"type\":\"DataRange1d\"},{\"attributes\":{\"children\":[[{\"id\":\"1002\",\"subtype\":\"Figure\",\"type\":\"Plot\"},0,0],[{\"id\":\"1031\",\"subtype\":\"Figure\",\"type\":\"Plot\"},0,1],[{\"id\":\"1058\",\"subtype\":\"Figure\",\"type\":\"Plot\"},0,2]]},\"id\":\"1113\",\"type\":\"GridBox\"},{\"attributes\":{\"below\":[{\"id\":\"1066\",\"type\":\"LinearAxis\"}],\"center\":[{\"id\":\"1070\",\"type\":\"Grid\"},{\"id\":\"1075\",\"type\":\"Grid\"}],\"left\":[{\"id\":\"1071\",\"type\":\"LinearAxis\"}],\"plot_height\":250,\"plot_width\":250,\"renderers\":[{\"id\":\"1084\",\"type\":\"GlyphRenderer\"}],\"title\":{\"id\":\"1104\",\"type\":\"Title\"},\"toolbar\":{\"id\":\"1078\",\"type\":\"Toolbar\"},\"toolbar_location\":null,\"x_range\":{\"id\":\"1003\",\"type\":\"DataRange1d\"},\"x_scale\":{\"id\":\"1062\",\"type\":\"LinearScale\"},\"y_range\":{\"id\":\"1060\",\"type\":\"DataRange1d\"},\"y_scale\":{\"id\":\"1064\",\"type\":\"LinearScale\"}},\"id\":\"1058\",\"subtype\":\"Figure\",\"type\":\"Plot\"},{\"attributes\":{\"formatter\":{\"id\":\"1097\",\"type\":\"BasicTickFormatter\"},\"ticker\":{\"id\":\"1039\",\"type\":\"BasicTicker\"}},\"id\":\"1038\",\"type\":\"LinearAxis\"},{\"attributes\":{},\"id\":\"1036\",\"type\":\"LinearScale\"},{\"attributes\":{\"data_source\":{\"id\":\"1081\",\"type\":\"ColumnDataSource\"},\"glyph\":{\"id\":\"1082\",\"type\":\"Square\"},\"hover_glyph\":null,\"muted_glyph\":null,\"nonselection_glyph\":{\"id\":\"1083\",\"type\":\"Square\"},\"selection_glyph\":null,\"view\":{\"id\":\"1085\",\"type\":\"CDSView\"}},\"id\":\"1084\",\"type\":\"GlyphRenderer\"},{\"attributes\":{},\"id\":\"1108\",\"type\":\"BasicTickFormatter\"},{\"attributes\":{},\"id\":\"1062\",\"type\":\"LinearScale\"},{\"attributes\":{\"fill_color\":{\"value\":\"firebrick\"},\"line_color\":{\"value\":\"firebrick\"},\"size\":{\"units\":\"screen\",\"value\":10},\"x\":{\"field\":\"x\"},\"y\":{\"field\":\"y\"}},\"id\":\"1054\",\"type\":\"Triangle\"},{\"attributes\":{},\"id\":\"1110\",\"type\":\"Selection\"},{\"attributes\":{\"source\":{\"id\":\"1081\",\"type\":\"ColumnDataSource\"}},\"id\":\"1085\",\"type\":\"CDSView\"},{\"attributes\":{},\"id\":\"1111\",\"type\":\"UnionRenderers\"},{\"attributes\":{\"below\":[{\"id\":\"1011\",\"type\":\"LinearAxis\"}],\"center\":[{\"id\":\"1015\",\"type\":\"Grid\"},{\"id\":\"1020\",\"type\":\"Grid\"}],\"left\":[{\"id\":\"1016\",\"type\":\"LinearAxis\"}],\"plot_height\":250,\"plot_width\":250,\"renderers\":[{\"id\":\"1029\",\"type\":\"GlyphRenderer\"}],\"title\":{\"id\":\"1086\",\"type\":\"Title\"},\"toolbar\":{\"id\":\"1023\",\"type\":\"Toolbar\"},\"toolbar_location\":null,\"x_range\":{\"id\":\"1003\",\"type\":\"DataRange1d\"},\"x_scale\":{\"id\":\"1007\",\"type\":\"LinearScale\"},\"y_range\":{\"id\":\"1005\",\"type\":\"DataRange1d\"},\"y_scale\":{\"id\":\"1009\",\"type\":\"LinearScale\"}},\"id\":\"1002\",\"subtype\":\"Figure\",\"type\":\"Plot\"},{\"attributes\":{},\"id\":\"1106\",\"type\":\"BasicTickFormatter\"},{\"attributes\":{\"callback\":null},\"id\":\"1005\",\"type\":\"DataRange1d\"},{\"attributes\":{},\"id\":\"1097\",\"type\":\"BasicTickFormatter\"},{\"attributes\":{\"toolbar\":{\"id\":\"1114\",\"type\":\"ProxyToolbar\"},\"toolbar_location\":\"above\"},\"id\":\"1115\",\"type\":\"ToolbarBox\"},{\"attributes\":{},\"id\":\"1044\",\"type\":\"BasicTicker\"},{\"attributes\":{\"text\":\"\"},\"id\":\"1086\",\"type\":\"Title\"},{\"attributes\":{},\"id\":\"1064\",\"type\":\"LinearScale\"},{\"attributes\":{\"fill_alpha\":{\"value\":0.1},\"fill_color\":{\"value\":\"#1f77b4\"},\"line_alpha\":{\"value\":0.1},\"line_color\":{\"value\":\"#1f77b4\"},\"size\":{\"units\":\"screen\",\"value\":10},\"x\":{\"field\":\"x\"},\"y\":{\"field\":\"y\"}},\"id\":\"1028\",\"type\":\"Circle\"},{\"attributes\":{\"callback\":null,\"data\":{\"x\":[0,1,2,3,4,5,6,7,8,9,10],\"y\":[0,1,2,3,4,5,6,7,8,9,10]},\"selected\":{\"id\":\"1092\",\"type\":\"Selection\"},\"selection_policy\":{\"id\":\"1093\",\"type\":\"UnionRenderers\"}},\"id\":\"1026\",\"type\":\"ColumnDataSource\"},{\"attributes\":{},\"id\":\"1039\",\"type\":\"BasicTicker\"},{\"attributes\":{\"below\":[{\"id\":\"1038\",\"type\":\"LinearAxis\"}],\"center\":[{\"id\":\"1042\",\"type\":\"Grid\"},{\"id\":\"1047\",\"type\":\"Grid\"}],\"left\":[{\"id\":\"1043\",\"type\":\"LinearAxis\"}],\"plot_height\":250,\"plot_width\":250,\"renderers\":[{\"id\":\"1056\",\"type\":\"GlyphRenderer\"}],\"title\":{\"id\":\"1095\",\"type\":\"Title\"},\"toolbar\":{\"id\":\"1050\",\"type\":\"Toolbar\"},\"toolbar_location\":null,\"x_range\":{\"id\":\"1003\",\"type\":\"DataRange1d\"},\"x_scale\":{\"id\":\"1034\",\"type\":\"LinearScale\"},\"y_range\":{\"id\":\"1005\",\"type\":\"DataRange1d\"},\"y_scale\":{\"id\":\"1036\",\"type\":\"LinearScale\"}},\"id\":\"1031\",\"subtype\":\"Figure\",\"type\":\"Plot\"},{\"attributes\":{\"ticker\":{\"id\":\"1039\",\"type\":\"BasicTicker\"}},\"id\":\"1042\",\"type\":\"Grid\"},{\"attributes\":{\"formatter\":{\"id\":\"1106\",\"type\":\"BasicTickFormatter\"},\"ticker\":{\"id\":\"1067\",\"type\":\"BasicTicker\"}},\"id\":\"1066\",\"type\":\"LinearAxis\"},{\"attributes\":{\"callback\":null},\"id\":\"1003\",\"type\":\"DataRange1d\"},{\"attributes\":{},\"id\":\"1088\",\"type\":\"BasicTickFormatter\"},{\"attributes\":{},\"id\":\"1007\",\"type\":\"LinearScale\"}],\"root_ids\":[\"1116\"]},\"title\":\"Bokeh Application\",\"version\":\"1.4.0\"}};\n",
       "  var render_items = [{\"docid\":\"e9ea9918-40fd-45b6-9fd4-3dc86be4d8e5\",\"roots\":{\"1116\":\"2318df43-b654-466d-84b4-e41560bcd365\"}}];\n",
       "  root.Bokeh.embed.embed_items_notebook(docs_json, render_items);\n",
       "\n",
       "  }\n",
       "  if (root.Bokeh !== undefined) {\n",
       "    embed_document(root);\n",
       "  } else {\n",
       "    var attempts = 0;\n",
       "    var timer = setInterval(function(root) {\n",
       "      if (root.Bokeh !== undefined) {\n",
       "        clearInterval(timer);\n",
       "        embed_document(root);\n",
       "      } else {\n",
       "        attempts++;\n",
       "        if (attempts > 100) {\n",
       "          clearInterval(timer);\n",
       "          console.log(\"Bokeh: ERROR: Unable to run BokehJS code because BokehJS library is missing\");\n",
       "        }\n",
       "      }\n",
       "    }, 10, root)\n",
       "  }\n",
       "})(window);"
      ],
      "application/vnd.bokehjs_exec.v0+json": ""
     },
     "metadata": {
      "application/vnd.bokehjs_exec.v0+json": {
       "id": "1116"
      }
     },
     "output_type": "display_data"
    }
   ],
   "source": [
    "from bokeh.layouts import gridplot\n",
    "\n",
    "x = list(range(11))\n",
    "y0, y1, y2 = x, [10-i for i in x], [abs(i-5) for i in x]\n",
    "\n",
    "plot_options = dict(width=250, plot_height=250, tools='pan,wheel_zoom')\n",
    "\n",
    "# create a new plot\n",
    "s1 = figure(**plot_options)\n",
    "s1.circle(x, y0, size=10, color=\"navy\")\n",
    "\n",
    "# create a new plot and share both ranges\n",
    "s2 = figure(x_range=s1.x_range, y_range=s1.y_range, **plot_options)\n",
    "s2.triangle(x, y1, size=10, color=\"firebrick\")\n",
    "\n",
    "# create a new plot and share only one range\n",
    "s3 = figure(x_range=s1.x_range, **plot_options)\n",
    "s3.square(x, y2, size=10, color=\"olive\")\n",
    "\n",
    "p = gridplot([[s1, s2, s3]])\n",
    "\n",
    "# show the results\n",
    "show(p)"
   ]
  },
  {
   "cell_type": "markdown",
   "metadata": {},
   "source": [
    "### Verknüpfte Auswahl\n",
    "\n",
    "Das Verknüpfen von Auswahlen erfolgt auf ähnliche Weise, indem Datenquellen zwischen Plots gemeinsam genutzt werden. Beachtet, dass normalerweise mit `` bokeh.plotting`` und `` bokeh.charts`` die Erstellung einer Standarddatenquelle für einfache Darstellungen automatisch erfolgt. Um jedoch eine Datenquelle gemeinsam zu nutzen, müssen wir sie manuell erstellen und explizit übergeben. Dies wird im folgenden Beispiel veranschaulicht:"
   ]
  },
  {
   "cell_type": "code",
   "execution_count": 3,
   "metadata": {},
   "outputs": [
    {
     "data": {
      "text/html": [
       "\n",
       "\n",
       "\n",
       "\n",
       "\n",
       "\n",
       "  <div class=\"bk-root\" id=\"651feb8b-2e22-4505-ba92-351c69081ebf\" data-root-id=\"1373\"></div>\n"
      ]
     },
     "metadata": {},
     "output_type": "display_data"
    },
    {
     "data": {
      "application/javascript": [
       "(function(root) {\n",
       "  function embed_document(root) {\n",
       "    \n",
       "  var docs_json = {\"e2d5005c-3eff-4c8a-b2e8-a164bac8fbdb\":{\"roots\":{\"references\":[{\"attributes\":{\"children\":[{\"id\":\"1372\",\"type\":\"ToolbarBox\"},{\"id\":\"1370\",\"type\":\"GridBox\"}]},\"id\":\"1373\",\"type\":\"Column\"},{\"attributes\":{\"callback\":null},\"id\":\"1320\",\"type\":\"DataRange1d\"},{\"attributes\":{\"callback\":null},\"id\":\"1318\",\"type\":\"DataRange1d\"},{\"attributes\":{},\"id\":\"1363\",\"type\":\"BasicTickFormatter\"},{\"attributes\":{},\"id\":\"1322\",\"type\":\"LinearScale\"},{\"attributes\":{\"callback\":null,\"data\":{\"x\":[-20,-19,-18,-17,-16,-15,-14,-13,-12,-11,-10,-9,-8,-7,-6,-5,-4,-3,-2,-1,0,1,2,3,4,5,6,7,8,9,10,11,12,13,14,15,16,17,18,19,20],\"y0\":[20,19,18,17,16,15,14,13,12,11,10,9,8,7,6,5,4,3,2,1,0,1,2,3,4,5,6,7,8,9,10,11,12,13,14,15,16,17,18,19,20],\"y1\":[400,361,324,289,256,225,196,169,144,121,100,81,64,49,36,25,16,9,4,1,0,1,4,9,16,25,36,49,64,81,100,121,144,169,196,225,256,289,324,361,400]},\"selected\":{\"id\":\"1354\",\"type\":\"Selection\"},\"selection_policy\":{\"id\":\"1355\",\"type\":\"UnionRenderers\"}},\"id\":\"1285\",\"type\":\"ColumnDataSource\"},{\"attributes\":{},\"id\":\"1293\",\"type\":\"LinearScale\"},{\"attributes\":{},\"id\":\"1291\",\"type\":\"LinearScale\"},{\"attributes\":{\"bottom_units\":\"screen\",\"fill_alpha\":{\"value\":0.5},\"fill_color\":{\"value\":\"lightgrey\"},\"left_units\":\"screen\",\"level\":\"overlay\",\"line_alpha\":{\"value\":1.0},\"line_color\":{\"value\":\"black\"},\"line_dash\":[4,4],\"line_width\":{\"value\":2},\"render_mode\":\"css\",\"right_units\":\"screen\",\"top_units\":\"screen\"},\"id\":\"1356\",\"type\":\"BoxAnnotation\"},{\"attributes\":{\"fill_color\":{\"value\":\"#1f77b4\"},\"line_color\":{\"value\":\"#1f77b4\"},\"x\":{\"field\":\"x\"},\"y\":{\"field\":\"y0\"}},\"id\":\"1313\",\"type\":\"Circle\"},{\"attributes\":{\"dimension\":1,\"ticker\":{\"id\":\"1301\",\"type\":\"BasicTicker\"}},\"id\":\"1304\",\"type\":\"Grid\"},{\"attributes\":{\"below\":[{\"id\":\"1295\",\"type\":\"LinearAxis\"}],\"center\":[{\"id\":\"1299\",\"type\":\"Grid\"},{\"id\":\"1304\",\"type\":\"Grid\"}],\"left\":[{\"id\":\"1300\",\"type\":\"LinearAxis\"}],\"plot_height\":300,\"plot_width\":300,\"renderers\":[{\"id\":\"1315\",\"type\":\"GlyphRenderer\"}],\"title\":{\"id\":\"1348\",\"type\":\"Title\"},\"toolbar\":{\"id\":\"1308\",\"type\":\"Toolbar\"},\"toolbar_location\":null,\"x_range\":{\"id\":\"1287\",\"type\":\"DataRange1d\"},\"x_scale\":{\"id\":\"1291\",\"type\":\"LinearScale\"},\"y_range\":{\"id\":\"1289\",\"type\":\"DataRange1d\"},\"y_scale\":{\"id\":\"1293\",\"type\":\"LinearScale\"}},\"id\":\"1286\",\"subtype\":\"Figure\",\"type\":\"Plot\"},{\"attributes\":{\"callback\":null,\"overlay\":{\"id\":\"1357\",\"type\":\"PolyAnnotation\"}},\"id\":\"1306\",\"type\":\"LassoSelectTool\"},{\"attributes\":{\"callback\":null,\"overlay\":{\"id\":\"1368\",\"type\":\"PolyAnnotation\"}},\"id\":\"1337\",\"type\":\"LassoSelectTool\"},{\"attributes\":{\"fill_color\":{\"value\":\"#1f77b4\"},\"line_color\":{\"value\":\"#1f77b4\"},\"x\":{\"field\":\"x\"},\"y\":{\"field\":\"y1\"}},\"id\":\"1344\",\"type\":\"Circle\"},{\"attributes\":{\"formatter\":{\"id\":\"1361\",\"type\":\"BasicTickFormatter\"},\"ticker\":{\"id\":\"1327\",\"type\":\"BasicTicker\"}},\"id\":\"1326\",\"type\":\"LinearAxis\"},{\"attributes\":{\"callback\":null},\"id\":\"1289\",\"type\":\"DataRange1d\"},{\"attributes\":{},\"id\":\"1327\",\"type\":\"BasicTicker\"},{\"attributes\":{\"callback\":null},\"id\":\"1287\",\"type\":\"DataRange1d\"},{\"attributes\":{},\"id\":\"1324\",\"type\":\"LinearScale\"},{\"attributes\":{\"fill_alpha\":{\"value\":0.5},\"fill_color\":{\"value\":\"lightgrey\"},\"level\":\"overlay\",\"line_alpha\":{\"value\":1.0},\"line_color\":{\"value\":\"black\"},\"line_dash\":[4,4],\"line_width\":{\"value\":2},\"xs_units\":\"screen\",\"ys_units\":\"screen\"},\"id\":\"1368\",\"type\":\"PolyAnnotation\"},{\"attributes\":{\"fill_alpha\":{\"value\":0.1},\"fill_color\":{\"value\":\"#1f77b4\"},\"line_alpha\":{\"value\":0.1},\"line_color\":{\"value\":\"#1f77b4\"},\"x\":{\"field\":\"x\"},\"y\":{\"field\":\"y0\"}},\"id\":\"1314\",\"type\":\"Circle\"},{\"attributes\":{\"source\":{\"id\":\"1285\",\"type\":\"ColumnDataSource\"}},\"id\":\"1316\",\"type\":\"CDSView\"},{\"attributes\":{},\"id\":\"1307\",\"type\":\"HelpTool\"},{\"attributes\":{},\"id\":\"1332\",\"type\":\"BasicTicker\"},{\"attributes\":{\"callback\":null,\"overlay\":{\"id\":\"1367\",\"type\":\"BoxAnnotation\"}},\"id\":\"1336\",\"type\":\"BoxSelectTool\"},{\"attributes\":{\"active_drag\":\"auto\",\"active_inspect\":\"auto\",\"active_multi\":null,\"active_scroll\":\"auto\",\"active_tap\":\"auto\",\"tools\":[{\"id\":\"1336\",\"type\":\"BoxSelectTool\"},{\"id\":\"1337\",\"type\":\"LassoSelectTool\"},{\"id\":\"1338\",\"type\":\"HelpTool\"}]},\"id\":\"1339\",\"type\":\"Toolbar\"},{\"attributes\":{\"data_source\":{\"id\":\"1285\",\"type\":\"ColumnDataSource\"},\"glyph\":{\"id\":\"1313\",\"type\":\"Circle\"},\"hover_glyph\":null,\"muted_glyph\":null,\"nonselection_glyph\":{\"id\":\"1314\",\"type\":\"Circle\"},\"selection_glyph\":null,\"view\":{\"id\":\"1316\",\"type\":\"CDSView\"}},\"id\":\"1315\",\"type\":\"GlyphRenderer\"},{\"attributes\":{\"dimension\":1,\"ticker\":{\"id\":\"1332\",\"type\":\"BasicTicker\"}},\"id\":\"1335\",\"type\":\"Grid\"},{\"attributes\":{},\"id\":\"1301\",\"type\":\"BasicTicker\"},{\"attributes\":{\"fill_alpha\":{\"value\":0.5},\"fill_color\":{\"value\":\"lightgrey\"},\"level\":\"overlay\",\"line_alpha\":{\"value\":1.0},\"line_color\":{\"value\":\"black\"},\"line_dash\":[4,4],\"line_width\":{\"value\":2},\"xs_units\":\"screen\",\"ys_units\":\"screen\"},\"id\":\"1357\",\"type\":\"PolyAnnotation\"},{\"attributes\":{\"callback\":null,\"overlay\":{\"id\":\"1356\",\"type\":\"BoxAnnotation\"}},\"id\":\"1305\",\"type\":\"BoxSelectTool\"},{\"attributes\":{\"active_drag\":\"auto\",\"active_inspect\":\"auto\",\"active_multi\":null,\"active_scroll\":\"auto\",\"active_tap\":\"auto\",\"tools\":[{\"id\":\"1305\",\"type\":\"BoxSelectTool\"},{\"id\":\"1306\",\"type\":\"LassoSelectTool\"},{\"id\":\"1307\",\"type\":\"HelpTool\"}]},\"id\":\"1308\",\"type\":\"Toolbar\"},{\"attributes\":{\"text\":\"\"},\"id\":\"1359\",\"type\":\"Title\"},{\"attributes\":{\"ticker\":{\"id\":\"1327\",\"type\":\"BasicTicker\"}},\"id\":\"1330\",\"type\":\"Grid\"},{\"attributes\":{\"fill_alpha\":{\"value\":0.1},\"fill_color\":{\"value\":\"#1f77b4\"},\"line_alpha\":{\"value\":0.1},\"line_color\":{\"value\":\"#1f77b4\"},\"x\":{\"field\":\"x\"},\"y\":{\"field\":\"y1\"}},\"id\":\"1345\",\"type\":\"Circle\"},{\"attributes\":{},\"id\":\"1354\",\"type\":\"Selection\"},{\"attributes\":{\"data_source\":{\"id\":\"1285\",\"type\":\"ColumnDataSource\"},\"glyph\":{\"id\":\"1344\",\"type\":\"Circle\"},\"hover_glyph\":null,\"muted_glyph\":null,\"nonselection_glyph\":{\"id\":\"1345\",\"type\":\"Circle\"},\"selection_glyph\":null,\"view\":{\"id\":\"1347\",\"type\":\"CDSView\"}},\"id\":\"1346\",\"type\":\"GlyphRenderer\"},{\"attributes\":{},\"id\":\"1296\",\"type\":\"BasicTicker\"},{\"attributes\":{\"formatter\":{\"id\":\"1350\",\"type\":\"BasicTickFormatter\"},\"ticker\":{\"id\":\"1296\",\"type\":\"BasicTicker\"}},\"id\":\"1295\",\"type\":\"LinearAxis\"},{\"attributes\":{\"ticker\":{\"id\":\"1296\",\"type\":\"BasicTicker\"}},\"id\":\"1299\",\"type\":\"Grid\"},{\"attributes\":{\"formatter\":{\"id\":\"1363\",\"type\":\"BasicTickFormatter\"},\"ticker\":{\"id\":\"1332\",\"type\":\"BasicTicker\"}},\"id\":\"1331\",\"type\":\"LinearAxis\"},{\"attributes\":{\"source\":{\"id\":\"1285\",\"type\":\"ColumnDataSource\"}},\"id\":\"1347\",\"type\":\"CDSView\"},{\"attributes\":{\"formatter\":{\"id\":\"1352\",\"type\":\"BasicTickFormatter\"},\"ticker\":{\"id\":\"1301\",\"type\":\"BasicTicker\"}},\"id\":\"1300\",\"type\":\"LinearAxis\"},{\"attributes\":{},\"id\":\"1338\",\"type\":\"HelpTool\"},{\"attributes\":{},\"id\":\"1350\",\"type\":\"BasicTickFormatter\"},{\"attributes\":{\"toolbar\":{\"id\":\"1371\",\"type\":\"ProxyToolbar\"},\"toolbar_location\":\"above\"},\"id\":\"1372\",\"type\":\"ToolbarBox\"},{\"attributes\":{\"children\":[[{\"id\":\"1286\",\"subtype\":\"Figure\",\"type\":\"Plot\"},0,0],[{\"id\":\"1317\",\"subtype\":\"Figure\",\"type\":\"Plot\"},0,1]]},\"id\":\"1370\",\"type\":\"GridBox\"},{\"attributes\":{\"tools\":[{\"id\":\"1305\",\"type\":\"BoxSelectTool\"},{\"id\":\"1306\",\"type\":\"LassoSelectTool\"},{\"id\":\"1307\",\"type\":\"HelpTool\"},{\"id\":\"1336\",\"type\":\"BoxSelectTool\"},{\"id\":\"1337\",\"type\":\"LassoSelectTool\"},{\"id\":\"1338\",\"type\":\"HelpTool\"}]},\"id\":\"1371\",\"type\":\"ProxyToolbar\"},{\"attributes\":{\"below\":[{\"id\":\"1326\",\"type\":\"LinearAxis\"}],\"center\":[{\"id\":\"1330\",\"type\":\"Grid\"},{\"id\":\"1335\",\"type\":\"Grid\"}],\"left\":[{\"id\":\"1331\",\"type\":\"LinearAxis\"}],\"plot_height\":300,\"plot_width\":300,\"renderers\":[{\"id\":\"1346\",\"type\":\"GlyphRenderer\"}],\"title\":{\"id\":\"1359\",\"type\":\"Title\"},\"toolbar\":{\"id\":\"1339\",\"type\":\"Toolbar\"},\"toolbar_location\":null,\"x_range\":{\"id\":\"1318\",\"type\":\"DataRange1d\"},\"x_scale\":{\"id\":\"1322\",\"type\":\"LinearScale\"},\"y_range\":{\"id\":\"1320\",\"type\":\"DataRange1d\"},\"y_scale\":{\"id\":\"1324\",\"type\":\"LinearScale\"}},\"id\":\"1317\",\"subtype\":\"Figure\",\"type\":\"Plot\"},{\"attributes\":{},\"id\":\"1352\",\"type\":\"BasicTickFormatter\"},{\"attributes\":{},\"id\":\"1361\",\"type\":\"BasicTickFormatter\"},{\"attributes\":{},\"id\":\"1355\",\"type\":\"UnionRenderers\"},{\"attributes\":{\"text\":\"\"},\"id\":\"1348\",\"type\":\"Title\"},{\"attributes\":{\"bottom_units\":\"screen\",\"fill_alpha\":{\"value\":0.5},\"fill_color\":{\"value\":\"lightgrey\"},\"left_units\":\"screen\",\"level\":\"overlay\",\"line_alpha\":{\"value\":1.0},\"line_color\":{\"value\":\"black\"},\"line_dash\":[4,4],\"line_width\":{\"value\":2},\"render_mode\":\"css\",\"right_units\":\"screen\",\"top_units\":\"screen\"},\"id\":\"1367\",\"type\":\"BoxAnnotation\"}],\"root_ids\":[\"1373\"]},\"title\":\"Bokeh Application\",\"version\":\"1.4.0\"}};\n",
       "  var render_items = [{\"docid\":\"e2d5005c-3eff-4c8a-b2e8-a164bac8fbdb\",\"roots\":{\"1373\":\"651feb8b-2e22-4505-ba92-351c69081ebf\"}}];\n",
       "  root.Bokeh.embed.embed_items_notebook(docs_json, render_items);\n",
       "\n",
       "  }\n",
       "  if (root.Bokeh !== undefined) {\n",
       "    embed_document(root);\n",
       "  } else {\n",
       "    var attempts = 0;\n",
       "    var timer = setInterval(function(root) {\n",
       "      if (root.Bokeh !== undefined) {\n",
       "        clearInterval(timer);\n",
       "        embed_document(root);\n",
       "      } else {\n",
       "        attempts++;\n",
       "        if (attempts > 100) {\n",
       "          clearInterval(timer);\n",
       "          console.log(\"Bokeh: ERROR: Unable to run BokehJS code because BokehJS library is missing\");\n",
       "        }\n",
       "      }\n",
       "    }, 10, root)\n",
       "  }\n",
       "})(window);"
      ],
      "application/vnd.bokehjs_exec.v0+json": ""
     },
     "metadata": {
      "application/vnd.bokehjs_exec.v0+json": {
       "id": "1373"
      }
     },
     "output_type": "display_data"
    }
   ],
   "source": [
    "from bokeh.models import ColumnDataSource\n",
    "\n",
    "x = list(range(-20, 21))\n",
    "y0, y1 = [abs(xx) for xx in x], [xx**2 for xx in x]\n",
    "\n",
    "# create a column data source for the plots to share\n",
    "source = ColumnDataSource(data=dict(x=x, y0=y0, y1=y1))\n",
    "\n",
    "TOOLS = \"box_select,lasso_select,help\"\n",
    "\n",
    "# create a new plot and add a renderer\n",
    "left = figure(tools=TOOLS, width=300, height=300)\n",
    "left.circle('x', 'y0', source=source)\n",
    "\n",
    "# create another new plot and add a renderer\n",
    "right = figure(tools=TOOLS, width=300, height=300)\n",
    "right.circle('x', 'y1', source=source)\n",
    "\n",
    "p = gridplot([[left, right]])\n",
    "\n",
    "show(p)"
   ]
  },
  {
   "cell_type": "markdown",
   "metadata": {},
   "source": [
    "## Hover Tools\n",
    "\n",
    "Bokeh verfügt über ein Hover-Tool, mit dem zusätzliche Informationen in einem Popup angezeigt werden können, wenn der Mauszeiger über einer bestimmten Glyphe schwebt. Die grundlegende Konfiguration des Hover-Tools bedeutet, dass eine Liste von ``(name, format)``-Tupeln bereitgestellt wird. Die vollständigen Details findet ihr im [User’s Guide](http://bokeh.pydata.org/en/latest/docs/user_guide/tools.html#hovertool).\n",
    "\n",
    "Das folgende Beispiel zeigt einige grundlegende Anwendungen des Hover-Werkzeugs mit einer Kreis-Glyphe, wobei die in `utils.py` definierten Hover-Informationen verwendet werden:"
   ]
  },
  {
   "cell_type": "code",
   "execution_count": 4,
   "metadata": {},
   "outputs": [
    {
     "data": {
      "text/html": [
       "\n",
       "\n",
       "\n",
       "\n",
       "\n",
       "\n",
       "  <div class=\"bk-root\" id=\"ed96c8f9-7d18-47ec-88f4-a215d6b1c827\" data-root-id=\"1528\"></div>\n"
      ]
     },
     "metadata": {},
     "output_type": "display_data"
    },
    {
     "data": {
      "application/javascript": [
       "(function(root) {\n",
       "  function embed_document(root) {\n",
       "    \n",
       "  var docs_json = {\"408e091a-411e-42ef-8a16-b27b30db39ca\":{\"roots\":{\"references\":[{\"attributes\":{\"below\":[{\"id\":\"1539\",\"type\":\"LinearAxis\"}],\"center\":[{\"id\":\"1543\",\"type\":\"Grid\"},{\"id\":\"1548\",\"type\":\"Grid\"}],\"left\":[{\"id\":\"1544\",\"type\":\"LinearAxis\"}],\"plot_height\":300,\"plot_width\":300,\"renderers\":[{\"id\":\"1554\",\"type\":\"GlyphRenderer\"}],\"title\":{\"id\":\"1529\",\"type\":\"Title\"},\"toolbar\":{\"id\":\"1549\",\"type\":\"Toolbar\"},\"x_range\":{\"id\":\"1531\",\"type\":\"DataRange1d\"},\"x_scale\":{\"id\":\"1535\",\"type\":\"LinearScale\"},\"y_range\":{\"id\":\"1533\",\"type\":\"DataRange1d\"},\"y_scale\":{\"id\":\"1537\",\"type\":\"LinearScale\"}},\"id\":\"1528\",\"subtype\":\"Figure\",\"type\":\"Plot\"},{\"attributes\":{\"text\":\"Mouse over the dots\"},\"id\":\"1529\",\"type\":\"Title\"},{\"attributes\":{},\"id\":\"1599\",\"type\":\"BasicTickFormatter\"},{\"attributes\":{\"data_source\":{\"id\":\"1526\",\"type\":\"ColumnDataSource\"},\"glyph\":{\"id\":\"1552\",\"type\":\"Circle\"},\"hover_glyph\":null,\"muted_glyph\":null,\"nonselection_glyph\":{\"id\":\"1553\",\"type\":\"Circle\"},\"selection_glyph\":null,\"view\":{\"id\":\"1555\",\"type\":\"CDSView\"}},\"id\":\"1554\",\"type\":\"GlyphRenderer\"},{\"attributes\":{\"callback\":null,\"tooltips\":[[\"index\",\"$index\"],[\"(x,y)\",\"($x, $y)\"],[\"desc\",\"@desc\"]]},\"id\":\"1527\",\"type\":\"HoverTool\"},{\"attributes\":{\"callback\":null},\"id\":\"1531\",\"type\":\"DataRange1d\"},{\"attributes\":{\"fill_color\":{\"value\":\"#1f77b4\"},\"line_color\":{\"value\":\"#1f77b4\"},\"size\":{\"units\":\"screen\",\"value\":20},\"x\":{\"field\":\"x\"},\"y\":{\"field\":\"y\"}},\"id\":\"1552\",\"type\":\"Circle\"},{\"attributes\":{\"source\":{\"id\":\"1526\",\"type\":\"ColumnDataSource\"}},\"id\":\"1555\",\"type\":\"CDSView\"},{\"attributes\":{},\"id\":\"1535\",\"type\":\"LinearScale\"},{\"attributes\":{},\"id\":\"1603\",\"type\":\"Selection\"},{\"attributes\":{\"callback\":null},\"id\":\"1533\",\"type\":\"DataRange1d\"},{\"attributes\":{},\"id\":\"1601\",\"type\":\"BasicTickFormatter\"},{\"attributes\":{},\"id\":\"1537\",\"type\":\"LinearScale\"},{\"attributes\":{},\"id\":\"1604\",\"type\":\"UnionRenderers\"},{\"attributes\":{\"formatter\":{\"id\":\"1599\",\"type\":\"BasicTickFormatter\"},\"ticker\":{\"id\":\"1540\",\"type\":\"BasicTicker\"}},\"id\":\"1539\",\"type\":\"LinearAxis\"},{\"attributes\":{},\"id\":\"1545\",\"type\":\"BasicTicker\"},{\"attributes\":{},\"id\":\"1540\",\"type\":\"BasicTicker\"},{\"attributes\":{\"ticker\":{\"id\":\"1540\",\"type\":\"BasicTicker\"}},\"id\":\"1543\",\"type\":\"Grid\"},{\"attributes\":{\"callback\":null,\"data\":{\"desc\":[\"A\",\"b\",\"C\",\"d\",\"E\"],\"x\":[1,2,3,4,5],\"y\":[2,5,8,2,7]},\"selected\":{\"id\":\"1603\",\"type\":\"Selection\"},\"selection_policy\":{\"id\":\"1604\",\"type\":\"UnionRenderers\"}},\"id\":\"1526\",\"type\":\"ColumnDataSource\"},{\"attributes\":{\"active_drag\":\"auto\",\"active_inspect\":\"auto\",\"active_multi\":null,\"active_scroll\":\"auto\",\"active_tap\":\"auto\",\"tools\":[{\"id\":\"1527\",\"type\":\"HoverTool\"}]},\"id\":\"1549\",\"type\":\"Toolbar\"},{\"attributes\":{\"dimension\":1,\"ticker\":{\"id\":\"1545\",\"type\":\"BasicTicker\"}},\"id\":\"1548\",\"type\":\"Grid\"},{\"attributes\":{\"formatter\":{\"id\":\"1601\",\"type\":\"BasicTickFormatter\"},\"ticker\":{\"id\":\"1545\",\"type\":\"BasicTicker\"}},\"id\":\"1544\",\"type\":\"LinearAxis\"},{\"attributes\":{\"fill_alpha\":{\"value\":0.1},\"fill_color\":{\"value\":\"#1f77b4\"},\"line_alpha\":{\"value\":0.1},\"line_color\":{\"value\":\"#1f77b4\"},\"size\":{\"units\":\"screen\",\"value\":20},\"x\":{\"field\":\"x\"},\"y\":{\"field\":\"y\"}},\"id\":\"1553\",\"type\":\"Circle\"}],\"root_ids\":[\"1528\"]},\"title\":\"Bokeh Application\",\"version\":\"1.4.0\"}};\n",
       "  var render_items = [{\"docid\":\"408e091a-411e-42ef-8a16-b27b30db39ca\",\"roots\":{\"1528\":\"ed96c8f9-7d18-47ec-88f4-a215d6b1c827\"}}];\n",
       "  root.Bokeh.embed.embed_items_notebook(docs_json, render_items);\n",
       "\n",
       "  }\n",
       "  if (root.Bokeh !== undefined) {\n",
       "    embed_document(root);\n",
       "  } else {\n",
       "    var attempts = 0;\n",
       "    var timer = setInterval(function(root) {\n",
       "      if (root.Bokeh !== undefined) {\n",
       "        clearInterval(timer);\n",
       "        embed_document(root);\n",
       "      } else {\n",
       "        attempts++;\n",
       "        if (attempts > 100) {\n",
       "          clearInterval(timer);\n",
       "          console.log(\"Bokeh: ERROR: Unable to run BokehJS code because BokehJS library is missing\");\n",
       "        }\n",
       "      }\n",
       "    }, 10, root)\n",
       "  }\n",
       "})(window);"
      ],
      "application/vnd.bokehjs_exec.v0+json": ""
     },
     "metadata": {
      "application/vnd.bokehjs_exec.v0+json": {
       "id": "1528"
      }
     },
     "output_type": "display_data"
    }
   ],
   "source": [
    "from bokeh.models import HoverTool\n",
    "\n",
    "source = ColumnDataSource(\n",
    "        data=dict(\n",
    "            x=[1, 2, 3, 4, 5],\n",
    "            y=[2, 5, 8, 2, 7],\n",
    "            desc=['A', 'b', 'C', 'd', 'E'],\n",
    "        )\n",
    "    )\n",
    "\n",
    "hover = HoverTool(\n",
    "        tooltips=[\n",
    "            (\"index\", \"$index\"),\n",
    "            (\"(x,y)\", \"($x, $y)\"),\n",
    "            (\"desc\", \"@desc\"),\n",
    "        ]\n",
    "    )\n",
    "\n",
    "p = figure(plot_width=300, plot_height=300, tools=[hover], title=\"Mouse over the dots\")\n",
    "\n",
    "p.circle('x', 'y', size=20, source=source)\n",
    "\n",
    "show(p)"
   ]
  },
  {
   "cell_type": "markdown",
   "metadata": {},
   "source": [
    "## Widgets\n",
    "\n",
    "Bokeh unterstützt die direkte Integration mit einem kleinen grundlegenden Widget-Set. Dies kann in Verbindung mit einem Bokeh-Server oder mit `` CustomJS``-Modellen verwendet werden, um eure Dokumente interaktiver zu gestalten. Eine vollständige Liste mit Beispielcode findet ihr im Abschnitt [Adding Widgets](http://bokeh.pydata.org/en/latest/docs/user_guide/interaction.html#adding-widgets) des Benutzerhandbuchs.\n",
    "\n",
    "Um die Widgets zu verwenden, fügt sie wie ein Plotobjekt in ein Layout ein:"
   ]
  },
  {
   "cell_type": "code",
   "execution_count": 5,
   "metadata": {},
   "outputs": [
    {
     "data": {
      "text/html": [
       "\n",
       "\n",
       "\n",
       "\n",
       "\n",
       "\n",
       "  <div class=\"bk-root\" id=\"4ee141fb-8467-437d-8ded-18b51bc17c42\" data-root-id=\"1648\"></div>\n"
      ]
     },
     "metadata": {},
     "output_type": "display_data"
    },
    {
     "data": {
      "application/javascript": [
       "(function(root) {\n",
       "  function embed_document(root) {\n",
       "    \n",
       "  var docs_json = {\"dfc5af1c-456d-4d19-9d5e-4999e260293b\":{\"roots\":{\"references\":[{\"attributes\":{\"children\":[{\"id\":\"1647\",\"type\":\"Slider\"}]},\"id\":\"1648\",\"type\":\"WidgetBox\"},{\"attributes\":{\"callback\":null,\"end\":10,\"start\":0,\"step\":0.1,\"title\":\"foo\",\"value\":1},\"id\":\"1647\",\"type\":\"Slider\"}],\"root_ids\":[\"1648\"]},\"title\":\"Bokeh Application\",\"version\":\"1.4.0\"}};\n",
       "  var render_items = [{\"docid\":\"dfc5af1c-456d-4d19-9d5e-4999e260293b\",\"roots\":{\"1648\":\"4ee141fb-8467-437d-8ded-18b51bc17c42\"}}];\n",
       "  root.Bokeh.embed.embed_items_notebook(docs_json, render_items);\n",
       "\n",
       "  }\n",
       "  if (root.Bokeh !== undefined) {\n",
       "    embed_document(root);\n",
       "  } else {\n",
       "    var attempts = 0;\n",
       "    var timer = setInterval(function(root) {\n",
       "      if (root.Bokeh !== undefined) {\n",
       "        clearInterval(timer);\n",
       "        embed_document(root);\n",
       "      } else {\n",
       "        attempts++;\n",
       "        if (attempts > 100) {\n",
       "          clearInterval(timer);\n",
       "          console.log(\"Bokeh: ERROR: Unable to run BokehJS code because BokehJS library is missing\");\n",
       "        }\n",
       "      }\n",
       "    }, 10, root)\n",
       "  }\n",
       "})(window);"
      ],
      "application/vnd.bokehjs_exec.v0+json": ""
     },
     "metadata": {
      "application/vnd.bokehjs_exec.v0+json": {
       "id": "1648"
      }
     },
     "output_type": "display_data"
    }
   ],
   "source": [
    "from bokeh.layouts import widgetbox\n",
    "from bokeh.models.widgets import Slider\n",
    "\n",
    "slider = Slider(start=0, end=10, value=1, step=.1, title=\"foo\")\n",
    "\n",
    "show(widgetbox(slider))"
   ]
  },
  {
   "cell_type": "markdown",
   "metadata": {},
   "source": [
    "## CustomJS Callbacks\n",
    "\n",
    "Damit ein Widget nützlich wird, muss es Aktionen ausführen können. Mit Hilfe des Bokeh-Servers können Widgets echten Python-Code ausführen. Diese Möglichkeit wird unter [Bokeh-Server](bokeh-server.ipynb) erläutert. Hier betrachten wir, wie Widgets mit CustomJS-Callbacks konfiguriert werden können, die JavaScript-Code-Snippets ausführen."
   ]
  },
  {
   "cell_type": "code",
   "execution_count": 6,
   "metadata": {},
   "outputs": [
    {
     "data": {
      "text/html": [
       "\n",
       "\n",
       "\n",
       "\n",
       "\n",
       "\n",
       "  <div class=\"bk-root\" id=\"42ebfcb7-a2cc-4d13-9d34-912984461ae7\" data-root-id=\"1700\"></div>\n"
      ]
     },
     "metadata": {},
     "output_type": "display_data"
    },
    {
     "data": {
      "application/javascript": [
       "(function(root) {\n",
       "  function embed_document(root) {\n",
       "    \n",
       "  var docs_json = {\"da44ffc1-0081-43cb-a037-fa850e56cfbe\":{\"roots\":{\"references\":[{\"attributes\":{\"below\":[{\"id\":\"1709\",\"type\":\"LinearAxis\"}],\"center\":[{\"id\":\"1713\",\"type\":\"Grid\"},{\"id\":\"1718\",\"type\":\"Grid\"}],\"left\":[{\"id\":\"1714\",\"type\":\"LinearAxis\"}],\"plot_height\":300,\"renderers\":[{\"id\":\"1724\",\"type\":\"GlyphRenderer\"}],\"title\":{\"id\":\"1775\",\"type\":\"Title\"},\"toolbar\":{\"id\":\"1719\",\"type\":\"Toolbar\"},\"x_range\":{\"id\":\"1701\",\"type\":\"DataRange1d\"},\"x_scale\":{\"id\":\"1705\",\"type\":\"LinearScale\"},\"y_range\":{\"id\":\"1703\",\"type\":\"DataRange1d\"},\"y_scale\":{\"id\":\"1707\",\"type\":\"LinearScale\"}},\"id\":\"1700\",\"subtype\":\"Figure\",\"type\":\"Plot\"},{\"attributes\":{},\"id\":\"1707\",\"type\":\"LinearScale\"},{\"attributes\":{\"formatter\":{\"id\":\"1777\",\"type\":\"BasicTickFormatter\"},\"ticker\":{\"id\":\"1710\",\"type\":\"BasicTicker\"}},\"id\":\"1709\",\"type\":\"LinearAxis\"},{\"attributes\":{},\"id\":\"1777\",\"type\":\"BasicTickFormatter\"},{\"attributes\":{},\"id\":\"1779\",\"type\":\"BasicTickFormatter\"},{\"attributes\":{},\"id\":\"1710\",\"type\":\"BasicTicker\"},{\"attributes\":{},\"id\":\"1715\",\"type\":\"BasicTicker\"},{\"attributes\":{\"ticker\":{\"id\":\"1710\",\"type\":\"BasicTicker\"}},\"id\":\"1713\",\"type\":\"Grid\"},{\"attributes\":{},\"id\":\"1781\",\"type\":\"Selection\"},{\"attributes\":{\"dimension\":1,\"ticker\":{\"id\":\"1715\",\"type\":\"BasicTicker\"}},\"id\":\"1718\",\"type\":\"Grid\"},{\"attributes\":{},\"id\":\"1782\",\"type\":\"UnionRenderers\"},{\"attributes\":{\"formatter\":{\"id\":\"1779\",\"type\":\"BasicTickFormatter\"},\"ticker\":{\"id\":\"1715\",\"type\":\"BasicTicker\"}},\"id\":\"1714\",\"type\":\"LinearAxis\"},{\"attributes\":{\"active_drag\":\"auto\",\"active_inspect\":\"auto\",\"active_multi\":null,\"active_scroll\":\"auto\",\"active_tap\":\"auto\",\"tools\":[{\"id\":\"1699\",\"type\":\"TapTool\"}]},\"id\":\"1719\",\"type\":\"Toolbar\"},{\"attributes\":{\"code\":\"alert('you tapped a circle!')\"},\"id\":\"1698\",\"type\":\"CustomJS\"},{\"attributes\":{\"callback\":{\"id\":\"1698\",\"type\":\"CustomJS\"}},\"id\":\"1699\",\"type\":\"TapTool\"},{\"attributes\":{\"fill_alpha\":{\"value\":0.1},\"fill_color\":{\"value\":\"#1f77b4\"},\"line_alpha\":{\"value\":0.1},\"line_color\":{\"value\":\"#1f77b4\"},\"size\":{\"units\":\"screen\",\"value\":20},\"x\":{\"field\":\"x\"},\"y\":{\"field\":\"y\"}},\"id\":\"1723\",\"type\":\"Circle\"},{\"attributes\":{},\"id\":\"1705\",\"type\":\"LinearScale\"},{\"attributes\":{\"callback\":null,\"data\":{\"x\":[1,2,3,4,5],\"y\":[2,5,8,2,7]},\"selected\":{\"id\":\"1781\",\"type\":\"Selection\"},\"selection_policy\":{\"id\":\"1782\",\"type\":\"UnionRenderers\"}},\"id\":\"1721\",\"type\":\"ColumnDataSource\"},{\"attributes\":{\"fill_color\":{\"value\":\"#1f77b4\"},\"line_color\":{\"value\":\"#1f77b4\"},\"size\":{\"units\":\"screen\",\"value\":20},\"x\":{\"field\":\"x\"},\"y\":{\"field\":\"y\"}},\"id\":\"1722\",\"type\":\"Circle\"},{\"attributes\":{\"data_source\":{\"id\":\"1721\",\"type\":\"ColumnDataSource\"},\"glyph\":{\"id\":\"1722\",\"type\":\"Circle\"},\"hover_glyph\":null,\"muted_glyph\":null,\"nonselection_glyph\":{\"id\":\"1723\",\"type\":\"Circle\"},\"selection_glyph\":null,\"view\":{\"id\":\"1725\",\"type\":\"CDSView\"}},\"id\":\"1724\",\"type\":\"GlyphRenderer\"},{\"attributes\":{\"callback\":null},\"id\":\"1701\",\"type\":\"DataRange1d\"},{\"attributes\":{\"source\":{\"id\":\"1721\",\"type\":\"ColumnDataSource\"}},\"id\":\"1725\",\"type\":\"CDSView\"},{\"attributes\":{\"callback\":null},\"id\":\"1703\",\"type\":\"DataRange1d\"},{\"attributes\":{\"text\":\"\"},\"id\":\"1775\",\"type\":\"Title\"}],\"root_ids\":[\"1700\"]},\"title\":\"Bokeh Application\",\"version\":\"1.4.0\"}};\n",
       "  var render_items = [{\"docid\":\"da44ffc1-0081-43cb-a037-fa850e56cfbe\",\"roots\":{\"1700\":\"42ebfcb7-a2cc-4d13-9d34-912984461ae7\"}}];\n",
       "  root.Bokeh.embed.embed_items_notebook(docs_json, render_items);\n",
       "\n",
       "  }\n",
       "  if (root.Bokeh !== undefined) {\n",
       "    embed_document(root);\n",
       "  } else {\n",
       "    var attempts = 0;\n",
       "    var timer = setInterval(function(root) {\n",
       "      if (root.Bokeh !== undefined) {\n",
       "        clearInterval(timer);\n",
       "        embed_document(root);\n",
       "      } else {\n",
       "        attempts++;\n",
       "        if (attempts > 100) {\n",
       "          clearInterval(timer);\n",
       "          console.log(\"Bokeh: ERROR: Unable to run BokehJS code because BokehJS library is missing\");\n",
       "        }\n",
       "      }\n",
       "    }, 10, root)\n",
       "  }\n",
       "})(window);"
      ],
      "application/vnd.bokehjs_exec.v0+json": ""
     },
     "metadata": {
      "application/vnd.bokehjs_exec.v0+json": {
       "id": "1700"
      }
     },
     "output_type": "display_data"
    }
   ],
   "source": [
    "from bokeh.models import TapTool, CustomJS, ColumnDataSource\n",
    "\n",
    "callback = CustomJS(code=\"alert('you tapped a circle!')\")\n",
    "tap = TapTool(callback=callback)\n",
    "\n",
    "p = figure(plot_width=600, plot_height=300, tools=[tap])\n",
    "\n",
    "p.circle(x=[1, 2, 3, 4, 5], y=[2, 5, 8, 2, 7], size=20)\n",
    "\n",
    "show(p)"
   ]
  },
  {
   "cell_type": "markdown",
   "metadata": {},
   "source": [
    "#### Beispiel für ein Slider-Widget\n",
    "\n",
    "Das folgende Beispiel zeigt eine an einen Slider angehängte Aktion, mit der eine Datenquelle aktualisiert wird."
   ]
  },
  {
   "cell_type": "code",
   "execution_count": 7,
   "metadata": {},
   "outputs": [
    {
     "data": {
      "text/html": [
       "\n",
       "\n",
       "\n",
       "\n",
       "\n",
       "\n",
       "  <div class=\"bk-root\" id=\"c879b14b-7117-4307-9d19-de6938b33a67\" data-root-id=\"1871\"></div>\n"
      ]
     },
     "metadata": {},
     "output_type": "display_data"
    },
    {
     "data": {
      "application/javascript": [
       "(function(root) {\n",
       "  function embed_document(root) {\n",
       "    \n",
       "  var docs_json = {\"adbb7731-9cb8-4d7e-8e7f-bcab7de408d8\":{\"roots\":{\"references\":[{\"attributes\":{\"children\":[{\"id\":\"1869\",\"type\":\"Slider\"},{\"id\":\"1832\",\"subtype\":\"Figure\",\"type\":\"Plot\"}]},\"id\":\"1871\",\"type\":\"Column\"},{\"attributes\":{},\"id\":\"1856\",\"type\":\"HelpTool\"},{\"attributes\":{\"formatter\":{\"id\":\"1931\",\"type\":\"BasicTickFormatter\"},\"ticker\":{\"id\":\"1842\",\"type\":\"BasicTicker\"}},\"id\":\"1841\",\"type\":\"LinearAxis\"},{\"attributes\":{\"args\":{\"slider\":{\"id\":\"1869\",\"type\":\"Slider\"},\"source\":{\"id\":\"1831\",\"type\":\"ColumnDataSource\"}},\"code\":\"\\n    var data = source.data;\\n    var f = slider.value;\\n    x = data['x']\\n    y = data['y']\\n    for (i = 0; i < x.length; i++) {\\n        y[i] = Math.pow(x[i], f)\\n    }\\n    \\n    // necessary becasue we mutated source.data in-place\\n    source.change.emit();\\n\"},\"id\":\"1870\",\"type\":\"CustomJS\"},{\"attributes\":{\"line_alpha\":0.6,\"line_color\":\"#1f77b4\",\"line_width\":3,\"x\":{\"field\":\"x\"},\"y\":{\"field\":\"y\"}},\"id\":\"1865\",\"type\":\"Line\"},{\"attributes\":{},\"id\":\"1842\",\"type\":\"BasicTicker\"},{\"attributes\":{\"bottom_units\":\"screen\",\"fill_alpha\":{\"value\":0.5},\"fill_color\":{\"value\":\"lightgrey\"},\"left_units\":\"screen\",\"level\":\"overlay\",\"line_alpha\":{\"value\":1.0},\"line_color\":{\"value\":\"black\"},\"line_dash\":[4,4],\"line_width\":{\"value\":2},\"render_mode\":\"css\",\"right_units\":\"screen\",\"top_units\":\"screen\"},\"id\":\"1937\",\"type\":\"BoxAnnotation\"},{\"attributes\":{},\"id\":\"1847\",\"type\":\"BasicTicker\"},{\"attributes\":{},\"id\":\"1936\",\"type\":\"UnionRenderers\"},{\"attributes\":{\"callback\":null},\"id\":\"1835\",\"type\":\"DataRange1d\"},{\"attributes\":{\"ticker\":{\"id\":\"1842\",\"type\":\"BasicTicker\"}},\"id\":\"1845\",\"type\":\"Grid\"},{\"attributes\":{\"callback\":null,\"data\":{\"x\":[0.0,0.005,0.01,0.015,0.02,0.025,0.03,0.035,0.04,0.045,0.05,0.055,0.06,0.065,0.07,0.075,0.08,0.085,0.09,0.095,0.1,0.105,0.11,0.115,0.12,0.125,0.13,0.135,0.14,0.145,0.15,0.155,0.16,0.165,0.17,0.17500000000000002,0.18,0.185,0.19,0.195,0.2,0.20500000000000002,0.21,0.215,0.22,0.225,0.23,0.23500000000000001,0.24,0.245,0.25,0.255,0.26,0.265,0.27,0.275,0.28,0.28500000000000003,0.29,0.295,0.3,0.305,0.31,0.315,0.32,0.325,0.33,0.335,0.34,0.34500000000000003,0.35000000000000003,0.355,0.36,0.365,0.37,0.375,0.38,0.385,0.39,0.395,0.4,0.405,0.41000000000000003,0.41500000000000004,0.42,0.425,0.43,0.435,0.44,0.445,0.45,0.455,0.46,0.465,0.47000000000000003,0.47500000000000003,0.48,0.485,0.49,0.495,0.5,0.505,0.51,0.515,0.52,0.525,0.53,0.535,0.54,0.545,0.55,0.555,0.56,0.5650000000000001,0.5700000000000001,0.5750000000000001,0.58,0.585,0.59,0.595,0.6,0.605,0.61,0.615,0.62,0.625,0.63,0.635,0.64,0.645,0.65,0.655,0.66,0.665,0.67,0.675,0.68,0.685,0.6900000000000001,0.6950000000000001,0.7000000000000001,0.705,0.71,0.715,0.72,0.725,0.73,0.735,0.74,0.745,0.75,0.755,0.76,0.765,0.77,0.775,0.78,0.785,0.79,0.795,0.8,0.805,0.81,0.8150000000000001,0.8200000000000001,0.8250000000000001,0.8300000000000001,0.835,0.84,0.845,0.85,0.855,0.86,0.865,0.87,0.875,0.88,0.885,0.89,0.895,0.9,0.905,0.91,0.915,0.92,0.925,0.93,0.935,0.9400000000000001,0.9450000000000001,0.9500000000000001,0.9550000000000001,0.96,0.965,0.97,0.975,0.98,0.985,0.99,0.995,1.0],\"y\":[0.0,0.005,0.01,0.015,0.02,0.025,0.03,0.035,0.04,0.045,0.05,0.055,0.06,0.065,0.07,0.075,0.08,0.085,0.09,0.095,0.1,0.105,0.11,0.115,0.12,0.125,0.13,0.135,0.14,0.145,0.15,0.155,0.16,0.165,0.17,0.17500000000000002,0.18,0.185,0.19,0.195,0.2,0.20500000000000002,0.21,0.215,0.22,0.225,0.23,0.23500000000000001,0.24,0.245,0.25,0.255,0.26,0.265,0.27,0.275,0.28,0.28500000000000003,0.29,0.295,0.3,0.305,0.31,0.315,0.32,0.325,0.33,0.335,0.34,0.34500000000000003,0.35000000000000003,0.355,0.36,0.365,0.37,0.375,0.38,0.385,0.39,0.395,0.4,0.405,0.41000000000000003,0.41500000000000004,0.42,0.425,0.43,0.435,0.44,0.445,0.45,0.455,0.46,0.465,0.47000000000000003,0.47500000000000003,0.48,0.485,0.49,0.495,0.5,0.505,0.51,0.515,0.52,0.525,0.53,0.535,0.54,0.545,0.55,0.555,0.56,0.5650000000000001,0.5700000000000001,0.5750000000000001,0.58,0.585,0.59,0.595,0.6,0.605,0.61,0.615,0.62,0.625,0.63,0.635,0.64,0.645,0.65,0.655,0.66,0.665,0.67,0.675,0.68,0.685,0.6900000000000001,0.6950000000000001,0.7000000000000001,0.705,0.71,0.715,0.72,0.725,0.73,0.735,0.74,0.745,0.75,0.755,0.76,0.765,0.77,0.775,0.78,0.785,0.79,0.795,0.8,0.805,0.81,0.8150000000000001,0.8200000000000001,0.8250000000000001,0.8300000000000001,0.835,0.84,0.845,0.85,0.855,0.86,0.865,0.87,0.875,0.88,0.885,0.89,0.895,0.9,0.905,0.91,0.915,0.92,0.925,0.93,0.935,0.9400000000000001,0.9450000000000001,0.9500000000000001,0.9550000000000001,0.96,0.965,0.97,0.975,0.98,0.985,0.99,0.995,1.0]},\"selected\":{\"id\":\"1935\",\"type\":\"Selection\"},\"selection_policy\":{\"id\":\"1936\",\"type\":\"UnionRenderers\"}},\"id\":\"1831\",\"type\":\"ColumnDataSource\"},{\"attributes\":{\"source\":{\"id\":\"1831\",\"type\":\"ColumnDataSource\"}},\"id\":\"1868\",\"type\":\"CDSView\"},{\"attributes\":{},\"id\":\"1935\",\"type\":\"Selection\"},{\"attributes\":{\"callback\":null,\"end\":6,\"js_property_callbacks\":{\"change:value\":[{\"id\":\"1870\",\"type\":\"CustomJS\"}]},\"start\":0.1,\"step\":0.1,\"title\":\"power\",\"value\":1},\"id\":\"1869\",\"type\":\"Slider\"},{\"attributes\":{},\"id\":\"1933\",\"type\":\"BasicTickFormatter\"},{\"attributes\":{\"line_alpha\":0.1,\"line_color\":\"#1f77b4\",\"line_width\":3,\"x\":{\"field\":\"x\"},\"y\":{\"field\":\"y\"}},\"id\":\"1866\",\"type\":\"Line\"},{\"attributes\":{\"callback\":null},\"id\":\"1833\",\"type\":\"DataRange1d\"},{\"attributes\":{\"formatter\":{\"id\":\"1933\",\"type\":\"BasicTickFormatter\"},\"ticker\":{\"id\":\"1847\",\"type\":\"BasicTicker\"}},\"id\":\"1846\",\"type\":\"LinearAxis\"},{\"attributes\":{},\"id\":\"1839\",\"type\":\"LinearScale\"},{\"attributes\":{\"text\":\"\"},\"id\":\"1929\",\"type\":\"Title\"},{\"attributes\":{},\"id\":\"1837\",\"type\":\"LinearScale\"},{\"attributes\":{\"active_drag\":\"auto\",\"active_inspect\":\"auto\",\"active_multi\":null,\"active_scroll\":\"auto\",\"active_tap\":\"auto\",\"tools\":[{\"id\":\"1851\",\"type\":\"PanTool\"},{\"id\":\"1852\",\"type\":\"WheelZoomTool\"},{\"id\":\"1853\",\"type\":\"BoxZoomTool\"},{\"id\":\"1854\",\"type\":\"SaveTool\"},{\"id\":\"1855\",\"type\":\"ResetTool\"},{\"id\":\"1856\",\"type\":\"HelpTool\"}]},\"id\":\"1857\",\"type\":\"Toolbar\"},{\"attributes\":{\"data_source\":{\"id\":\"1831\",\"type\":\"ColumnDataSource\"},\"glyph\":{\"id\":\"1865\",\"type\":\"Line\"},\"hover_glyph\":null,\"muted_glyph\":null,\"nonselection_glyph\":{\"id\":\"1866\",\"type\":\"Line\"},\"selection_glyph\":null,\"view\":{\"id\":\"1868\",\"type\":\"CDSView\"}},\"id\":\"1867\",\"type\":\"GlyphRenderer\"},{\"attributes\":{\"dimension\":1,\"ticker\":{\"id\":\"1847\",\"type\":\"BasicTicker\"}},\"id\":\"1850\",\"type\":\"Grid\"},{\"attributes\":{},\"id\":\"1851\",\"type\":\"PanTool\"},{\"attributes\":{\"below\":[{\"id\":\"1841\",\"type\":\"LinearAxis\"}],\"center\":[{\"id\":\"1845\",\"type\":\"Grid\"},{\"id\":\"1850\",\"type\":\"Grid\"}],\"left\":[{\"id\":\"1846\",\"type\":\"LinearAxis\"}],\"plot_height\":400,\"plot_width\":400,\"renderers\":[{\"id\":\"1867\",\"type\":\"GlyphRenderer\"}],\"title\":{\"id\":\"1929\",\"type\":\"Title\"},\"toolbar\":{\"id\":\"1857\",\"type\":\"Toolbar\"},\"x_range\":{\"id\":\"1833\",\"type\":\"DataRange1d\"},\"x_scale\":{\"id\":\"1837\",\"type\":\"LinearScale\"},\"y_range\":{\"id\":\"1835\",\"type\":\"DataRange1d\"},\"y_scale\":{\"id\":\"1839\",\"type\":\"LinearScale\"}},\"id\":\"1832\",\"subtype\":\"Figure\",\"type\":\"Plot\"},{\"attributes\":{},\"id\":\"1852\",\"type\":\"WheelZoomTool\"},{\"attributes\":{},\"id\":\"1931\",\"type\":\"BasicTickFormatter\"},{\"attributes\":{\"overlay\":{\"id\":\"1937\",\"type\":\"BoxAnnotation\"}},\"id\":\"1853\",\"type\":\"BoxZoomTool\"},{\"attributes\":{},\"id\":\"1854\",\"type\":\"SaveTool\"},{\"attributes\":{},\"id\":\"1855\",\"type\":\"ResetTool\"}],\"root_ids\":[\"1871\"]},\"title\":\"Bokeh Application\",\"version\":\"1.4.0\"}};\n",
       "  var render_items = [{\"docid\":\"adbb7731-9cb8-4d7e-8e7f-bcab7de408d8\",\"roots\":{\"1871\":\"c879b14b-7117-4307-9d19-de6938b33a67\"}}];\n",
       "  root.Bokeh.embed.embed_items_notebook(docs_json, render_items);\n",
       "\n",
       "  }\n",
       "  if (root.Bokeh !== undefined) {\n",
       "    embed_document(root);\n",
       "  } else {\n",
       "    var attempts = 0;\n",
       "    var timer = setInterval(function(root) {\n",
       "      if (root.Bokeh !== undefined) {\n",
       "        clearInterval(timer);\n",
       "        embed_document(root);\n",
       "      } else {\n",
       "        attempts++;\n",
       "        if (attempts > 100) {\n",
       "          clearInterval(timer);\n",
       "          console.log(\"Bokeh: ERROR: Unable to run BokehJS code because BokehJS library is missing\");\n",
       "        }\n",
       "      }\n",
       "    }, 10, root)\n",
       "  }\n",
       "})(window);"
      ],
      "application/vnd.bokehjs_exec.v0+json": ""
     },
     "metadata": {
      "application/vnd.bokehjs_exec.v0+json": {
       "id": "1871"
      }
     },
     "output_type": "display_data"
    }
   ],
   "source": [
    "from bokeh.layouts import column\n",
    "from bokeh.models import CustomJS, ColumnDataSource, Slider\n",
    "\n",
    "x = [x*0.005 for x in range(0, 201)]\n",
    "\n",
    "source = ColumnDataSource(data=dict(x=x, y=x))\n",
    "\n",
    "plot = figure(plot_width=400, plot_height=400)\n",
    "plot.line('x', 'y', source=source, line_width=3, line_alpha=0.6)\n",
    "\n",
    "slider = Slider(start=0.1, end=6, value=1, step=.1, title=\"power\")\n",
    "\n",
    "update_curve = CustomJS(args=dict(source=source, slider=slider), code=\"\"\"\n",
    "    var data = source.data;\n",
    "    var f = slider.value;\n",
    "    x = data['x']\n",
    "    y = data['y']\n",
    "    for (i = 0; i < x.length; i++) {\n",
    "        y[i] = Math.pow(x[i], f)\n",
    "    }\n",
    "    \n",
    "    // necessary becasue we mutated source.data in-place\n",
    "    source.change.emit();\n",
    "\"\"\")\n",
    "slider.js_on_change('value', update_curve)\n",
    "\n",
    "\n",
    "show(column(slider, plot))"
   ]
  },
  {
   "cell_type": "markdown",
   "metadata": {},
   "source": [
    "#### Beispiel für die Datenauswahl\n",
    "\n",
    "Es ist auch möglich, JavaScript-Aktionen auszuführen, wenn sich eine Benutzerauswahl (z.B. Box, Punkt, Lasso) ändert. Dies geschieht durch Anhängen derselben Art von CustomJS-Objekt an die Datenquelle, für die die Auswahl getroffen wird.\n",
    "\n",
    "Das folgende Beispiel ist etwas komplexer und zeigt die Aktualisierung einer Datenquelle einer Glyphe als Reaktion auf die Auswahl einer anderen Glyphe:"
   ]
  },
  {
   "cell_type": "code",
   "execution_count": 8,
   "metadata": {},
   "outputs": [
    {
     "data": {
      "text/html": [
       "\n",
       "\n",
       "\n",
       "\n",
       "\n",
       "\n",
       "  <div class=\"bk-root\" id=\"3489b12b-3248-4161-bc4d-6d54e9eecdfa\" data-root-id=\"1993\"></div>\n"
      ]
     },
     "metadata": {},
     "output_type": "display_data"
    },
    {
     "data": {
      "application/javascript": [
       "(function(root) {\n",
       "  function embed_document(root) {\n",
       "    \n",
       "  var docs_json = {\"dfeb3eb2-c643-445e-b6d8-e372436c2af2\":{\"roots\":{\"references\":[{\"attributes\":{\"below\":[{\"id\":\"2004\",\"type\":\"LinearAxis\"}],\"center\":[{\"id\":\"2008\",\"type\":\"Grid\"},{\"id\":\"2013\",\"type\":\"Grid\"}],\"left\":[{\"id\":\"2009\",\"type\":\"LinearAxis\"}],\"plot_height\":400,\"plot_width\":400,\"renderers\":[{\"id\":\"2021\",\"type\":\"GlyphRenderer\"},{\"id\":\"2027\",\"type\":\"GlyphRenderer\"}],\"title\":{\"id\":\"1994\",\"type\":\"Title\"},\"toolbar\":{\"id\":\"2015\",\"type\":\"Toolbar\"},\"x_range\":{\"id\":\"1996\",\"type\":\"DataRange1d\"},\"x_scale\":{\"id\":\"2000\",\"type\":\"LinearScale\"},\"y_range\":{\"id\":\"1998\",\"type\":\"DataRange1d\"},\"y_scale\":{\"id\":\"2002\",\"type\":\"LinearScale\"}},\"id\":\"1993\",\"subtype\":\"Figure\",\"type\":\"Plot\"},{\"attributes\":{},\"id\":\"2103\",\"type\":\"Selection\"},{\"attributes\":{},\"id\":\"2010\",\"type\":\"BasicTicker\"},{\"attributes\":{},\"id\":\"2104\",\"type\":\"UnionRenderers\"},{\"attributes\":{},\"id\":\"2005\",\"type\":\"BasicTicker\"},{\"attributes\":{\"fill_alpha\":{\"value\":0.5},\"fill_color\":{\"value\":\"lightgrey\"},\"level\":\"overlay\",\"line_alpha\":{\"value\":1.0},\"line_color\":{\"value\":\"black\"},\"line_dash\":[4,4],\"line_width\":{\"value\":2},\"xs_units\":\"screen\",\"ys_units\":\"screen\"},\"id\":\"2105\",\"type\":\"PolyAnnotation\"},{\"attributes\":{\"ticker\":{\"id\":\"2005\",\"type\":\"BasicTicker\"}},\"id\":\"2008\",\"type\":\"Grid\"},{\"attributes\":{\"active_drag\":\"auto\",\"active_inspect\":\"auto\",\"active_multi\":null,\"active_scroll\":\"auto\",\"active_tap\":\"auto\",\"tools\":[{\"id\":\"2014\",\"type\":\"LassoSelectTool\"}]},\"id\":\"2015\",\"type\":\"Toolbar\"},{\"attributes\":{\"dimension\":1,\"ticker\":{\"id\":\"2010\",\"type\":\"BasicTicker\"}},\"id\":\"2013\",\"type\":\"Grid\"},{\"attributes\":{\"formatter\":{\"id\":\"2099\",\"type\":\"BasicTickFormatter\"},\"ticker\":{\"id\":\"2010\",\"type\":\"BasicTicker\"}},\"id\":\"2009\",\"type\":\"LinearAxis\"},{\"attributes\":{\"args\":{\"s1\":{\"id\":\"1992\",\"type\":\"ColumnDataSource\"},\"s2\":{\"id\":\"2023\",\"type\":\"ColumnDataSource\"}},\"code\":\"\\n    var inds = s1.selected.indices;\\n    if (inds.length == 0)\\n        return;\\n\\n    var ym = 0\\n    for (var i = 0; i < inds.length; i++) {\\n        ym += s1.data.y[inds[i]]\\n    }\\n    \\n    ym /= inds.length\\n    s2.data.ym = [ym, ym]\\n\\n    // necessary becasue we mutated source.data in-place\\n    s2.change.emit();  \\n\"},\"id\":\"2029\",\"type\":\"CustomJS\"},{\"attributes\":{\"callback\":{\"id\":\"2029\",\"type\":\"CustomJS\"},\"data\":{\"color\":[\"navy\",\"navy\",\"navy\",\"navy\",\"navy\",\"navy\",\"navy\",\"navy\",\"navy\",\"navy\",\"navy\",\"navy\",\"navy\",\"navy\",\"navy\",\"navy\",\"navy\",\"navy\",\"navy\",\"navy\",\"navy\",\"navy\",\"navy\",\"navy\",\"navy\",\"navy\",\"navy\",\"navy\",\"navy\",\"navy\",\"navy\",\"navy\",\"navy\",\"navy\",\"navy\",\"navy\",\"navy\",\"navy\",\"navy\",\"navy\",\"navy\",\"navy\",\"navy\",\"navy\",\"navy\",\"navy\",\"navy\",\"navy\",\"navy\",\"navy\",\"navy\",\"navy\",\"navy\",\"navy\",\"navy\",\"navy\",\"navy\",\"navy\",\"navy\",\"navy\",\"navy\",\"navy\",\"navy\",\"navy\",\"navy\",\"navy\",\"navy\",\"navy\",\"navy\",\"navy\",\"navy\",\"navy\",\"navy\",\"navy\",\"navy\",\"navy\",\"navy\",\"navy\",\"navy\",\"navy\",\"navy\",\"navy\",\"navy\",\"navy\",\"navy\",\"navy\",\"navy\",\"navy\",\"navy\",\"navy\",\"navy\",\"navy\",\"navy\",\"navy\",\"navy\",\"navy\",\"navy\",\"navy\",\"navy\",\"navy\",\"navy\",\"navy\",\"navy\",\"navy\",\"navy\",\"navy\",\"navy\",\"navy\",\"navy\",\"navy\",\"navy\",\"navy\",\"navy\",\"navy\",\"navy\",\"navy\",\"navy\",\"navy\",\"navy\",\"navy\",\"navy\",\"navy\",\"navy\",\"navy\",\"navy\",\"navy\",\"navy\",\"navy\",\"navy\",\"navy\",\"navy\",\"navy\",\"navy\",\"navy\",\"navy\",\"navy\",\"navy\",\"navy\",\"navy\",\"navy\",\"navy\",\"navy\",\"navy\",\"navy\",\"navy\",\"navy\",\"navy\",\"navy\",\"navy\",\"navy\",\"navy\",\"navy\",\"navy\",\"navy\",\"navy\",\"navy\",\"navy\",\"navy\",\"navy\",\"navy\",\"navy\",\"navy\",\"navy\",\"navy\",\"navy\",\"navy\",\"navy\",\"navy\",\"navy\",\"navy\",\"navy\",\"navy\",\"navy\",\"navy\",\"navy\",\"navy\",\"navy\",\"navy\",\"navy\",\"navy\",\"navy\",\"navy\",\"navy\",\"navy\",\"navy\",\"navy\",\"navy\",\"navy\",\"navy\",\"navy\",\"navy\",\"navy\",\"navy\",\"navy\",\"navy\",\"navy\",\"navy\",\"navy\",\"navy\",\"navy\",\"navy\",\"navy\",\"navy\",\"navy\",\"navy\",\"navy\",\"navy\",\"navy\",\"navy\",\"navy\",\"navy\",\"navy\",\"navy\",\"navy\",\"navy\",\"navy\",\"navy\",\"navy\",\"navy\",\"navy\",\"navy\",\"navy\",\"navy\",\"navy\",\"navy\",\"navy\",\"navy\",\"navy\",\"navy\",\"navy\",\"navy\",\"navy\",\"navy\",\"navy\",\"navy\",\"navy\",\"navy\",\"navy\",\"navy\",\"navy\",\"navy\",\"navy\",\"navy\",\"navy\",\"navy\",\"navy\",\"navy\",\"navy\",\"navy\",\"navy\",\"navy\",\"navy\",\"navy\",\"navy\",\"navy\",\"navy\",\"navy\",\"navy\",\"navy\",\"navy\",\"navy\",\"navy\",\"navy\",\"navy\",\"navy\",\"navy\",\"navy\",\"navy\",\"navy\",\"navy\",\"navy\",\"navy\",\"navy\",\"navy\",\"navy\",\"navy\",\"navy\",\"navy\",\"navy\",\"navy\",\"navy\",\"navy\",\"navy\",\"navy\",\"navy\",\"navy\",\"navy\",\"navy\",\"navy\",\"navy\",\"navy\",\"navy\",\"navy\",\"navy\",\"navy\",\"navy\",\"navy\",\"navy\",\"navy\",\"navy\",\"navy\",\"navy\",\"navy\",\"navy\",\"navy\",\"navy\",\"navy\",\"navy\",\"navy\",\"navy\",\"navy\",\"navy\",\"navy\",\"navy\",\"navy\",\"navy\",\"navy\",\"navy\",\"navy\",\"navy\",\"navy\",\"navy\",\"navy\",\"navy\",\"navy\",\"navy\",\"navy\",\"navy\",\"navy\",\"navy\",\"navy\",\"navy\",\"navy\",\"navy\",\"navy\",\"navy\",\"navy\",\"navy\",\"navy\",\"navy\",\"navy\",\"navy\",\"navy\",\"navy\",\"navy\",\"navy\",\"navy\",\"navy\",\"navy\",\"navy\",\"navy\",\"navy\",\"navy\",\"navy\",\"navy\",\"navy\",\"navy\",\"navy\",\"navy\",\"navy\",\"navy\",\"navy\",\"navy\",\"navy\",\"navy\",\"navy\",\"navy\",\"navy\",\"navy\",\"navy\",\"navy\",\"navy\",\"navy\",\"navy\",\"navy\",\"navy\",\"navy\",\"navy\",\"navy\",\"navy\",\"navy\",\"navy\",\"navy\",\"navy\",\"navy\",\"navy\",\"navy\",\"navy\",\"navy\",\"navy\",\"navy\",\"navy\",\"navy\",\"navy\",\"navy\",\"navy\",\"navy\",\"navy\",\"navy\",\"navy\",\"navy\",\"navy\",\"navy\",\"navy\",\"navy\",\"navy\",\"navy\",\"navy\",\"navy\",\"navy\",\"navy\",\"navy\",\"navy\",\"navy\",\"navy\",\"navy\",\"navy\",\"navy\",\"navy\",\"navy\",\"navy\",\"navy\",\"navy\",\"navy\",\"navy\",\"navy\",\"navy\",\"navy\",\"navy\",\"navy\",\"navy\",\"navy\",\"navy\",\"navy\",\"navy\",\"navy\",\"navy\",\"navy\",\"navy\",\"navy\",\"navy\",\"navy\",\"navy\",\"navy\",\"navy\",\"navy\",\"navy\",\"navy\",\"navy\",\"navy\",\"navy\",\"navy\",\"navy\",\"navy\",\"navy\",\"navy\",\"navy\",\"navy\",\"navy\",\"navy\",\"navy\",\"navy\",\"navy\",\"navy\",\"navy\",\"navy\",\"navy\",\"navy\",\"navy\",\"navy\",\"navy\",\"navy\",\"navy\",\"navy\",\"navy\",\"navy\",\"navy\",\"navy\",\"navy\",\"navy\",\"navy\",\"navy\",\"navy\",\"navy\",\"navy\",\"navy\",\"navy\",\"navy\",\"navy\",\"navy\",\"navy\",\"navy\",\"navy\",\"navy\",\"navy\",\"navy\",\"navy\",\"navy\",\"navy\",\"navy\"],\"x\":[0.7441453773170631,0.5922725025592079,0.971758590026507,0.7115829245943235,0.19628872893393645,0.5815459961727657,0.08633517793609458,0.2241093939870964,0.17104874144596516,0.05085760987984955,0.10407614045164792,0.11084059952545466,0.46956593630302157,0.36450770181180103,0.26935455363684446,0.3495432322382873,0.5923438734685339,0.07821467543466487,0.2411822088919231,0.978055282920208,0.6897789891581132,0.5645359454801198,0.12946466751503716,0.20789163001704825,0.7799827073494144,0.2260676767495735,0.9904798419455931,0.8885152302736373,0.40778520992992817,0.17168675416754942,0.8455136426579123,0.5447594210298904,0.41091451991500294,0.8643712899655606,0.9454362741689813,0.6859293386233144,0.5735015326062924,0.6542220436790741,0.40898137642660104,0.5727029258779904,0.19857916793255148,0.5545553918892097,0.6143597731070498,0.13902716436263696,0.5799497657386898,0.3792176827303053,0.39336593771389117,0.6693787741588134,0.5726796994134384,0.41520067700121954,0.6804496906697198,0.6901641346315756,0.8620290739585685,0.5499892877660808,0.052692572372659674,0.5442414790325238,0.8229160431628827,0.11669382022302421,0.18596963780959574,0.4055545270292892,0.8653526264157692,0.9493595902354449,0.821631747219299,0.6254187364276178,0.15057649894392455,0.2545901412851479,0.18720486129388114,0.2909919507105251,0.5900478497755451,0.8532169341169855,0.9829649614535919,0.027635017377794724,0.9479074789436235,0.8462088783865849,0.7970370770182357,0.24257303591289092,0.5616648544816698,0.9760003856792587,0.6906819239914392,0.5403152823864348,0.056830398364322576,0.863184335705178,0.9822625804490225,0.687479589063203,0.49846834091097303,0.8661865844715945,0.7291682762590185,0.3986931548332975,0.25356509750582046,0.9662682329086324,0.9231358928975139,0.04258257488108064,0.7127354550090621,0.5975179630665255,0.4970147585186617,0.5115789323267621,0.5089412114425613,0.08372146361445199,0.1956583346029135,0.750774605698769,0.8389703223079686,0.8843595063163242,0.3207413436848131,0.9387569481718523,0.6096946912355828,0.7736273414683146,0.1945297266239676,0.5067208570362673,0.47638669634536324,0.7967495418965671,0.9917871111505421,0.2624339008513883,0.8114480441096231,0.23424528947069334,0.21957319344828086,0.8725053429026756,0.2954658935356689,0.8464213336455948,0.06981639075844248,0.5007407689956351,0.41093563182362747,0.35648459907590335,0.6855251837075299,0.5026053206030042,0.9031035413433893,0.8432769268424755,0.29434623462241394,0.6492102250576355,0.021030426372188216,0.07408118245637507,0.11041777623187632,0.7823629939797787,0.4418273776949674,0.6798594229640846,0.11689580950001333,0.7575953184244739,0.34818276873925447,0.955890647909077,0.17554466407800717,0.8460039890543984,0.10550329562314475,0.5676182137782451,0.3321064913177816,0.04462309710431012,0.5542456076881577,0.5442238551699833,0.6068497206896641,0.8988535729871501,0.46379282089316276,0.3094237796521129,0.09161236126612171,0.28870085271032486,0.10743543475796669,0.4593620538866032,0.9438849680236958,0.2018383268866476,0.16633825673629632,0.25596104420783894,0.19906953924398896,0.07611757568319744,0.39246992630007704,0.3761291664749755,0.8878667201386266,0.6790900256814002,0.8354579434016036,0.9990114373854994,0.7326449006637081,0.7131842444209202,0.42967211325804566,0.9304509699268517,0.7104200300437659,0.983785906232019,0.7208348438141903,0.9834031287947707,0.514303150665612,0.744364620029171,0.9217808683319907,0.5367624972642302,0.19696456245483052,0.2581153774538293,0.19664312077204493,0.26826595647083074,0.5270001177125686,0.8705862769303261,0.7922116294414865,0.1521565473285803,0.18815756255054694,0.6146529883293227,0.7774560827186706,0.7360419102901318,0.8186601672036761,0.0029598394193715016,0.898596438980949,0.7852914955399488,0.9393778501932045,0.4356523811336688,0.05126026043442811,0.8791648455234569,0.609178916143691,0.37104273720491865,0.6345522037472096,0.27833920466089346,0.9234151010912789,0.9776143809882624,0.1304709648516693,0.35376844034129307,0.43131157507175977,0.765662390772571,0.42373993177700375,0.34664021596452754,0.17700739577564917,0.6344061987419011,0.21811696668826308,0.20076222219941076,0.9018871757894245,0.3409571892067771,0.24869781157976512,0.3333135249326875,0.7018061419090116,0.8000318519527043,0.63646646448655,0.08015330413568722,0.0349210512462097,0.3534102846409135,0.6341254637775301,0.47347477613574196,0.8654444818038975,0.5071521432542433,0.9701532529188049,0.0793386217879104,0.9793808005354723,0.6053514641331436,0.6433142648075182,0.015853911729335923,0.8446793832779061,0.3944194620466882,0.9934148410597027,0.09762575593322731,0.34970688903129055,0.13747501353586844,0.46547135705332343,0.5469335055732566,0.207463487867795,0.8672819325632725,0.23950262636016229,0.6465754155179454,0.6868766241748565,0.2610444430061847,0.20876687431759466,0.6937319124330524,0.3398025968656976,0.5793772533346959,0.8980251082605976,0.44357870324689863,0.5420837437597674,0.8889241003381834,0.33503337798617994,0.9885708412283172,0.23681168178833945,0.8422555249776257,0.8799203396666057,0.18109679038255166,0.7228377489358759,0.3542667674766683,0.3596498746757594,0.5072039807933153,0.9777038397911098,0.8098089568997504,0.8231418538908108,0.9985889215556287,0.8809347177540842,0.8387932340383575,0.7311535472213403,0.3133747645735381,0.9454184039170087,0.9733683956582946,0.8780288439917278,0.5680669625184188,0.024093735933582994,0.29609506916862616,0.5776762905445549,0.7740638654511266,0.2440275346366143,0.4835463742915105,0.30691035597841043,0.6564024674233487,0.15392746054672257,0.31955579940740486,0.7421661757603305,0.7810577546576221,0.11302785344185473,0.6031173283096621,0.06019169556819559,0.6435916423646518,0.5847772290681392,0.35532969837162776,0.9342604674713106,0.8658071659594736,0.02027226950369765,0.42692046876243683,0.9013780382565375,0.11301049197574942,0.2725065338414905,0.6031445864560628,0.6868303950472725,0.9917031504331472,0.951667204692257,0.48020505269976677,0.3616580053082765,0.3196423921060334,0.5632284270571589,0.8526167915527011,0.582900560392458,0.8569219500978796,0.47241317874199573,0.42416997410865054,0.1620379435702829,0.16934232335148747,0.794226017693825,0.3335100921084232,0.8998605326636592,0.6154835466320605,0.4384716306642269,0.6965508251182236,0.9336005423030128,0.7826755060919228,0.2585050203051441,0.25220121121517713,0.26180301836185715,0.7382990453177287,0.33956474535293646,0.5766327690868923,0.8540276510978225,0.8400170983354744,0.9382620072936462,0.289666567295924,0.3026555094468093,0.4557858572162946,0.8626228905334343,0.9059628075886789,0.6959926479854748,0.9537211924059261,0.774268899485731,0.388614490438399,0.510295626516158,0.724970171867436,0.47340511320564427,0.9638615185989429,0.026254838473552256,0.028198319872106636,0.6467551954862852,0.29993102115022885,0.37641020890179855,0.9845924315386401,0.980995341773743,0.6771898675674576,0.32122657369382523,0.44713649377797127,0.9055882515980288,0.8263660215803884,0.11208628213299066,0.32136355830599406,0.09732393338459377,0.807984683390443,0.10346786707522726,0.6097562805878433,0.5209462888072949,0.3991218845363561,0.2534312937295138,0.8121441272803399,0.5765383447202369,0.059479566175654086,0.4640891285193526,0.10052255141681843,0.8975670575483049,0.16571098850344912,0.49466822189995663,0.7069993938848439,0.25139619329036256,0.6744244963538412,0.7424362761784815,0.901588411491626,0.6675080446926341,0.013206680553614403,0.4190868706396017,0.4052784008413608,0.5727938501325425,0.8527500245225169,0.5004798680481252,0.7361109677124877,0.39232911066663056,0.14918740774428108,0.10312681509883315,0.2777365240839328,0.49018078637682916,0.2180114397616829,0.8709466084629068,0.4131965475950704,0.4693367306254339,0.5959844378781828,0.04135092146764863,0.6929535190925638,0.3429362053456686,0.004771664125647446,0.04223778146229362,0.544702269956861,0.869582483659994,0.8340644084795464,0.8482186559960582,0.9518842132434668,0.5583928222735329,0.19638556511455363,0.6844943257976832,0.761836525252035,0.1767509457672013,0.2189525995958569,0.6028023549759483,0.9875904006795548,0.7891941346947268,0.8889836139480317,0.6072134622985184,0.4460737812249558,0.6595845054109126,0.5864715938087092,0.7789850426115869,0.18416349809240884,0.11989061912038357,0.706019793204558,0.8634813055228521,0.7298275378169354,0.45889591692544196,0.12589484291544484,0.734169484482006,0.078800157305573,0.9846938017712032,0.11414013981819449,0.5055048708149379,0.5306764403145823,0.2606583726908007,0.3340864914315378,0.6906315726987102,0.9542560263230401,0.452936448060379,0.7499878663300914,0.32198314844446807,0.2891168894922542,0.9205517267143214,0.6985581416344049,0.24643787311936283,0.37817094382383465,0.029862781409956685,0.1282632710438486,0.15594119730280964,0.11128381917015673,0.22404011305258964,0.39800352402434613,0.13662516559969262,0.5042690274264116,0.8278536941021937,0.6191071938550096,0.24853083841871493,0.8129441325688784,0.7155538667932232,0.8872140442841429,0.2150323649877568,0.19251294799041319,0.8343308394720877,0.8584481353961961,0.2351740170058002,0.07398876427998535,0.3573107380192596,0.2725671133353734,0.027108007814559687,0.3126974920528053,0.9250393707418267,0.4682571307896458,0.9510202210682076,0.03997449857340618,0.8524292089856771,0.824090764411746,0.6574562175808587,0.015962478626454835,0.3809930366862664,0.608550783000056,0.8323145169291716,0.5108558605051737,0.7437643002184612,0.4348755193291045,0.9905830146197178,0.8896630995555066,0.42626781378149425,0.636148656415357,0.9328833470241014,0.9987383423340824,0.5996942663372742,0.5317996037929854,0.21498040350120917,0.011257396621300764,0.25894344244845147,0.08591142087751502],\"y\":[0.9235146273241522,0.8712336835957641,0.21576869634790374,0.38013730083151986,0.809647619283975,0.0220488242504554,0.4534133435240305,0.2525004801699051,0.4099640252836455,0.8907654609059626,0.6014620779748061,0.4235495622987089,0.47745050657924903,0.7231245690324127,0.7226891903318637,0.42108314061358454,0.6930123173469147,0.05361930962102801,0.8886941314754614,0.7093634352559681,0.037977197307919375,0.6234682672018114,0.1937157832873011,0.8933605297236884,0.9417578506353911,0.7563161641091735,0.15985647334257314,0.7410535376845254,0.8445924740853573,0.7006030935038794,0.8437479932206416,0.6320115449707696,0.4575782325258466,0.530865268548147,0.05282037370515347,0.9412848953266757,0.6742260828595987,0.42029021108786646,0.32793404030013407,0.46871517200086354,0.49564392630242027,0.5383818703054304,0.39022858150599415,0.2846291888899317,0.15801863122984472,0.5315638839037728,0.22134081679680329,0.6629865233292023,0.5821363699893358,0.6007222438409976,0.655726241315407,0.22966903336281252,0.1560623673965117,0.8829972045403816,0.521676466906851,0.7323928100817788,0.8365360128178903,0.6446507609993003,0.6362471645842234,0.20903768655317367,0.08956613810181446,0.37197410072951387,0.9032203779406743,0.22287894035099398,0.2223839819817386,0.09704236064828708,0.04264511196415843,0.0264025817336635,0.8232133086998599,0.018843436654205736,0.4941968282438992,0.5889941388141402,0.5707848669362637,0.2039338563536266,0.17097794923752896,0.47578176809536377,0.38843661287494535,0.08263025416212944,0.34073069331069294,0.35970579226841537,0.7722443970286849,0.08337977032626032,0.34666384495498226,0.9961547895074778,0.9124513007061946,0.6776945973789251,0.5599129676944598,0.2855308210646278,0.25398124582013515,0.9571195414282857,0.436093912240088,0.5433937155232766,0.32743191263520155,0.5460562447001421,0.8202202691863083,0.8745118757535947,0.8783192362488458,0.3259504675634347,0.33499071932822655,0.553512376447139,0.16478814464436087,0.6457619036677971,0.20738253404390283,0.289600829133443,0.16239640254475318,0.5604458255132011,0.31033435414784427,0.10603405608500449,0.9799308571642618,0.6008796200101206,0.21441254478313765,0.052314683326107336,0.12195377297044707,0.5960805020400036,0.5983837715020283,0.5558578596397122,0.543009754128136,0.42530341591818055,0.44775146456935655,0.38203597785871357,0.9230004635063918,0.0401503408202597,0.025266878264041726,0.8812798000048226,0.3821473894427265,0.8985453420800245,0.2968803075439773,0.6167813600337473,0.5684004918773325,0.5600476274962755,0.8665593646395304,0.21924019614326296,0.08947663752931945,0.9650577561261263,0.02736008566656023,0.6697661025788757,0.001966146702220728,0.07576188672346618,0.6314477738423131,0.6107441341009879,0.43746181120147054,0.6026978994287718,0.004633220374033686,0.9604357326957379,0.7633545204495702,0.36757477509205827,0.29478124253546756,0.2978024009275346,0.5758663084708439,0.5813484656362159,0.998598830839295,0.08683514267911085,0.9828459662889576,0.8480368419330739,0.6906876870221103,0.8273601683619215,0.04915776650625181,0.19692977988792926,0.9522902174348797,0.08950822729794294,0.40037803176648756,0.1502357208376095,0.8534203699685158,0.3618871629361169,0.08781104446532972,0.9937020679891387,0.4185976551698032,0.6091921856318618,0.34777822868462716,0.6638296974820791,0.46865224054226506,0.49211771047432384,0.5821780413479646,0.9827760527752067,0.8432885754169445,0.39454554094069927,0.01618286482114384,0.054452116023093744,0.4506352825794484,0.12663509609571644,0.04683498749270554,0.13219089991807564,0.4042211049109935,0.38521387180276556,0.09854322430663498,0.04045918198245435,0.11823206957244048,0.1206883682510167,0.6607203071092859,0.6720656887888873,0.6441522928107666,0.19436423553760018,0.313493655470637,0.6615150247071079,0.8043305486851312,0.44026735484825563,0.5190246209773455,0.9897412116148424,0.8087131583338164,0.33815516533353684,0.8792116163742738,0.8025139269084912,0.4259176251406912,0.6197549382452064,0.39946709081811604,0.2610759430261945,0.6766995220736378,0.5089445846014297,0.015957963128123365,0.2567212640690445,0.737142371226787,0.6578441769028845,0.14249948216373098,0.5832356586002626,0.025096455819563768,0.6254332233974033,0.9459090902148471,0.5562328377653192,0.6253819251808533,0.7168204763553222,0.8994126162349216,0.08116994710261194,0.9108381156418583,0.4124913658825057,0.7507882394862883,0.5674959680227145,0.6505075976991298,0.6699693212906678,0.654201472654452,0.723614102651607,0.5953183795234723,0.15545148580081047,0.8941136630910754,0.12155305536454386,0.29965487915131195,0.6039711383293271,0.482486760114356,0.837231676648493,0.33435996846021776,0.18249938969010382,0.8620943377466826,0.05882043682101734,0.24074921914461522,0.16671291196548876,0.3962254799017916,0.41657602076702205,0.04253826296858254,0.4360866791349016,0.30656213324041626,0.5219556517765901,0.9029615391487513,0.8382587362016538,0.13276129626722033,0.6060330124131093,0.7483753364813738,0.7640769003344098,0.856905928354403,0.42777362405729835,0.25052320691156604,0.5625888163911326,0.6308405048797876,0.49452920163001457,0.14878920898451198,0.10884397265951928,0.8228533492040118,0.9023088413266802,0.730206500400092,0.4438102622372464,0.4900742281886056,0.10872902223666592,0.9853602339225929,0.01802031187838249,0.010496300615473242,0.7280704580848926,0.9381630071781519,0.1875594176761619,0.7007795463329559,0.052120230908607956,0.7942367212388765,0.9788524030569495,0.9143480501324176,0.8376625228085045,0.07686820629019286,0.08827033484506841,0.16704796181209203,0.014010100878886877,0.742282221173676,0.372317147435148,0.14988213406147866,0.23722334936916922,0.6091341044205543,0.3543628853305467,0.42108680134308774,0.5539625031184408,0.9762300312873804,0.2663323979601173,0.986249574172545,0.8009768951293649,0.6307586206963959,0.8603297226507308,0.10907428372575212,0.5539628662310225,0.11252076053363447,0.15851271304510517,0.9901538551442602,0.7311758689217014,0.40533192246698957,0.7513211398707779,0.14460894927174117,0.9389510200660675,0.6938084079516821,0.7026660398446386,0.7504648040133812,0.13930820687598422,0.5263757359295511,0.44960766433348665,0.89019334810199,0.17762775415759502,0.8236145829480679,0.279629540107765,0.8381331060733036,0.8698444448656142,0.021745052057345116,0.9954806578708355,0.5170487995672579,0.30590206275792897,0.10552867907963515,0.6338890031343605,0.14344004154647505,0.44048103777528047,0.7673856602313052,0.44821202603020827,0.911894516611409,0.18122661739608892,0.045289882945627746,0.045646024591618595,0.5208427171851918,0.9627206901695075,0.9713917557817714,0.2572666034493625,0.15598739933898365,0.21105945886891497,0.6846200528075157,0.13348111336875612,0.3378766382488657,0.017843379410602322,0.38336236038467797,0.7573561657780528,0.8113149530486551,0.5445389933380608,0.006187889733150653,0.8414709370096197,0.2342341093450333,0.8434306996984609,0.5935774876975504,0.7570947627932952,0.6630410785009992,0.4886061640621604,0.713580011234492,0.8153802234361073,0.7932329777645324,0.4803127427638386,0.5208506602392501,0.7911210836856706,0.5727568223835755,0.1390745237361669,0.3248487316791677,0.07902085003887271,0.7018593437156396,0.10079544233653026,0.6719085913681899,0.9685977228003557,0.4982065014975241,0.9992711631364956,0.3451958007131877,0.5286873790973904,0.4785027018211966,0.6967641019658761,0.2245896378686486,0.8989930141397472,0.5741467257333526,0.3794776211607429,0.11812307616337747,0.24969599823312472,0.9646126270691885,0.5285825853150173,0.8534771695904103,0.39685283730784693,0.07947314670722372,0.761100225960235,0.6987113762374081,0.19515353979395078,0.8990462337518753,0.17333620125168436,0.08177773362074747,0.3828773547596399,0.2455564683436916,0.8573884830519909,0.6675514236386977,0.5906373407747851,0.8661202603657425,0.7986646854981709,0.8926045965161988,0.48528269316467143,0.4066675419267116,0.09230280551829106,0.23988785269376267,0.3237509941181259,0.6014989042207194,0.8055317064305197,0.7379739627318893,0.450122914616218,0.6649801048428583,0.02720626888434119,0.20777266187592203,0.23253098990507104,0.5659735053753068,0.8193864171835292,0.17119529553031676,0.11723644594496452,0.42411470388427375,0.1705759362170325,0.5549400353657573,0.20182506589551719,0.3990531849798068,0.3323150147003876,0.7934854584699242,0.5636297509322874,0.2417545493040134,0.3258118331916605,0.9900657424736428,0.2780124895871545,0.22332163119832127,0.18340148096752562,0.8099922825535526,0.8299564783295007,0.26021057853001583,0.14580748577537495,0.12045074008955015,0.8465986539901188,0.6676586543205328,0.8645256057169591,0.7935956147283162,0.039164976476612656,0.7035462672434654,0.004524954859783326,0.35707089490450783,0.09944986492218455,0.8420394327697821,0.40077632020300635,0.3164195194765067,0.8196803661913276,0.6120093372127445,0.34294888539318824,0.7590454757105,0.6395075411764551,0.18916315795234195,0.34246940149606353,0.5170994266434318,0.45770164301955396,0.007588746249443501,0.6977689378560404,0.6263470585119257,0.22000369896147431,0.995999081339451,0.07517800816499387,0.7422408300207203,0.9489449730408278,0.9070218962920421,0.5132906542819746,0.7691376604485897,0.31367069124248115,0.12543013740039577,0.9247717672853664,0.1628302995390778,0.9490072995061748,0.7849424123564671,0.5532499131008926,0.43189936848561994,0.4628114580420516,0.0865199351314685,0.6975240383394734,0.3352561362253311,0.03409180129093048,0.18798659133613882,0.047757681709438726,0.7790314665124438,0.1517693450069223,0.549757662090528,0.6608548242744391,0.45681074492180074,0.09185202232857592,0.060221083989029256,0.9928019356481671,0.18460553760154108,0.4225955061496699,0.2007340791971276,0.7197061151627533,0.14519336206989775,0.36044812959968353]},\"selected\":{\"id\":\"2101\",\"type\":\"Selection\"},\"selection_policy\":{\"id\":\"2102\",\"type\":\"UnionRenderers\"}},\"id\":\"1992\",\"type\":\"ColumnDataSource\"},{\"attributes\":{\"source\":{\"id\":\"2023\",\"type\":\"ColumnDataSource\"}},\"id\":\"2028\",\"type\":\"CDSView\"},{\"attributes\":{\"callback\":null,\"data\":{\"xm\":[0,1],\"ym\":[0.5,0.5]},\"selected\":{\"id\":\"2103\",\"type\":\"Selection\"},\"selection_policy\":{\"id\":\"2104\",\"type\":\"UnionRenderers\"}},\"id\":\"2023\",\"type\":\"ColumnDataSource\"},{\"attributes\":{\"callback\":null},\"id\":\"1996\",\"type\":\"DataRange1d\"},{\"attributes\":{\"callback\":null,\"overlay\":{\"id\":\"2105\",\"type\":\"PolyAnnotation\"}},\"id\":\"2014\",\"type\":\"LassoSelectTool\"},{\"attributes\":{\"fill_alpha\":{\"value\":0.4},\"fill_color\":{\"field\":\"color\"},\"line_alpha\":{\"value\":0.4},\"line_color\":{\"field\":\"color\"},\"size\":{\"units\":\"screen\",\"value\":8},\"x\":{\"field\":\"x\"},\"y\":{\"field\":\"y\"}},\"id\":\"2018\",\"type\":\"Circle\"},{\"attributes\":{\"fill_alpha\":{\"value\":0.1},\"fill_color\":{\"value\":\"#1f77b4\"},\"line_alpha\":{\"value\":0.1},\"line_color\":{\"value\":\"#1f77b4\"},\"size\":{\"units\":\"screen\",\"value\":8},\"x\":{\"field\":\"x\"},\"y\":{\"field\":\"y\"}},\"id\":\"2019\",\"type\":\"Circle\"},{\"attributes\":{},\"id\":\"2102\",\"type\":\"UnionRenderers\"},{\"attributes\":{\"text\":\"Select Here\"},\"id\":\"1994\",\"type\":\"Title\"},{\"attributes\":{},\"id\":\"2101\",\"type\":\"Selection\"},{\"attributes\":{\"formatter\":{\"id\":\"2097\",\"type\":\"BasicTickFormatter\"},\"ticker\":{\"id\":\"2005\",\"type\":\"BasicTicker\"}},\"id\":\"2004\",\"type\":\"LinearAxis\"},{\"attributes\":{\"fill_alpha\":{\"value\":0.4},\"fill_color\":{\"value\":\"firebrick\"},\"line_alpha\":{\"value\":0.4},\"line_color\":{\"value\":\"firebrick\"},\"size\":{\"units\":\"screen\",\"value\":8},\"x\":{\"field\":\"x\"},\"y\":{\"field\":\"y\"}},\"id\":\"2020\",\"type\":\"Circle\"},{\"attributes\":{},\"id\":\"2000\",\"type\":\"LinearScale\"},{\"attributes\":{\"data_source\":{\"id\":\"1992\",\"type\":\"ColumnDataSource\"},\"glyph\":{\"id\":\"2018\",\"type\":\"Circle\"},\"hover_glyph\":null,\"muted_glyph\":null,\"nonselection_glyph\":{\"id\":\"2019\",\"type\":\"Circle\"},\"selection_glyph\":{\"id\":\"2020\",\"type\":\"Circle\"},\"view\":{\"id\":\"2022\",\"type\":\"CDSView\"}},\"id\":\"2021\",\"type\":\"GlyphRenderer\"},{\"attributes\":{\"callback\":null},\"id\":\"1998\",\"type\":\"DataRange1d\"},{\"attributes\":{},\"id\":\"2097\",\"type\":\"BasicTickFormatter\"},{\"attributes\":{\"line_alpha\":0.6,\"line_color\":\"orange\",\"line_width\":5,\"x\":{\"field\":\"xm\"},\"y\":{\"field\":\"ym\"}},\"id\":\"2025\",\"type\":\"Line\"},{\"attributes\":{\"source\":{\"id\":\"1992\",\"type\":\"ColumnDataSource\"}},\"id\":\"2022\",\"type\":\"CDSView\"},{\"attributes\":{},\"id\":\"2099\",\"type\":\"BasicTickFormatter\"},{\"attributes\":{\"line_alpha\":0.1,\"line_color\":\"#1f77b4\",\"line_width\":5,\"x\":{\"field\":\"xm\"},\"y\":{\"field\":\"ym\"}},\"id\":\"2026\",\"type\":\"Line\"},{\"attributes\":{},\"id\":\"2002\",\"type\":\"LinearScale\"},{\"attributes\":{\"data_source\":{\"id\":\"2023\",\"type\":\"ColumnDataSource\"},\"glyph\":{\"id\":\"2025\",\"type\":\"Line\"},\"hover_glyph\":null,\"muted_glyph\":null,\"nonselection_glyph\":{\"id\":\"2026\",\"type\":\"Line\"},\"selection_glyph\":null,\"view\":{\"id\":\"2028\",\"type\":\"CDSView\"}},\"id\":\"2027\",\"type\":\"GlyphRenderer\"}],\"root_ids\":[\"1993\"]},\"title\":\"Bokeh Application\",\"version\":\"1.4.0\"}};\n",
       "  var render_items = [{\"docid\":\"dfeb3eb2-c643-445e-b6d8-e372436c2af2\",\"roots\":{\"1993\":\"3489b12b-3248-4161-bc4d-6d54e9eecdfa\"}}];\n",
       "  root.Bokeh.embed.embed_items_notebook(docs_json, render_items);\n",
       "\n",
       "  }\n",
       "  if (root.Bokeh !== undefined) {\n",
       "    embed_document(root);\n",
       "  } else {\n",
       "    var attempts = 0;\n",
       "    var timer = setInterval(function(root) {\n",
       "      if (root.Bokeh !== undefined) {\n",
       "        clearInterval(timer);\n",
       "        embed_document(root);\n",
       "      } else {\n",
       "        attempts++;\n",
       "        if (attempts > 100) {\n",
       "          clearInterval(timer);\n",
       "          console.log(\"Bokeh: ERROR: Unable to run BokehJS code because BokehJS library is missing\");\n",
       "        }\n",
       "      }\n",
       "    }, 10, root)\n",
       "  }\n",
       "})(window);"
      ],
      "application/vnd.bokehjs_exec.v0+json": ""
     },
     "metadata": {
      "application/vnd.bokehjs_exec.v0+json": {
       "id": "1993"
      }
     },
     "output_type": "display_data"
    }
   ],
   "source": [
    "from random import random\n",
    "\n",
    "x = [random() for x in range(500)]\n",
    "y = [random() for y in range(500)]\n",
    "color = [\"navy\"] * len(x)\n",
    "\n",
    "s1 = ColumnDataSource(data=dict(x=x, y=y, color=color))\n",
    "p = figure(plot_width=400, plot_height=400, tools=\"lasso_select\", title=\"Select Here\")\n",
    "p.circle('x', 'y', color='color', size=8, alpha=0.4, source=s1, \n",
    "         selection_color=\"firebrick\", selection_alpha=0.4)\n",
    "\n",
    "s2 = ColumnDataSource(data=dict(xm=[0,1],ym=[0.5, 0.5]))\n",
    "p.line(x='xm', y='ym', color=\"orange\", line_width=5, alpha=0.6, source=s2)\n",
    "\n",
    "s1.callback = CustomJS(args=dict(s1=s1, s2=s2), code=\"\"\"\n",
    "    var inds = s1.selected.indices;\n",
    "    if (inds.length == 0)\n",
    "        return;\n",
    "\n",
    "    var ym = 0\n",
    "    for (var i = 0; i < inds.length; i++) {\n",
    "        ym += s1.data.y[inds[i]]\n",
    "    }\n",
    "    \n",
    "    ym /= inds.length\n",
    "    s2.data.ym = [ym, ym]\n",
    "\n",
    "    // necessary becasue we mutated source.data in-place\n",
    "    s2.change.emit();  \n",
    "\"\"\")\n",
    "\n",
    "show(p)"
   ]
  },
  {
   "cell_type": "markdown",
   "metadata": {},
   "source": [
    "### CustomJS für UI-Events\n",
    "\n",
    "Alle verfügbaren UI-Ereignisse und ihre Eigenschaften sind im Abschnitt [bokeh.events](https://bokeh.pydata.org/en/latest/docs/reference/events.html) aufgeführt."
   ]
  },
  {
   "cell_type": "code",
   "execution_count": 9,
   "metadata": {},
   "outputs": [
    {
     "data": {
      "text/html": [
       "\n",
       "\n",
       "\n",
       "\n",
       "\n",
       "\n",
       "  <div class=\"bk-root\" id=\"14fe60a4-4b7d-401c-a0a8-1d3f45372b38\" data-root-id=\"2196\"></div>\n"
      ]
     },
     "metadata": {},
     "output_type": "display_data"
    },
    {
     "data": {
      "application/javascript": [
       "(function(root) {\n",
       "  function embed_document(root) {\n",
       "    \n",
       "  var docs_json = {\"6937a20d-e38d-4472-8b28-1544befb6177\":{\"roots\":{\"references\":[{\"attributes\":{\"children\":[{\"id\":\"2194\",\"type\":\"Button\"},{\"id\":\"2195\",\"type\":\"Row\"}]},\"id\":\"2196\",\"type\":\"Column\"},{\"attributes\":{\"args\":{\"div\":{\"id\":\"2193\",\"type\":\"Div\"}},\"code\":\"\\ndiv.text = \\\"Button!\\\";\\n\"},\"id\":\"2197\",\"type\":\"CustomJS\"},{\"attributes\":{\"below\":[{\"id\":\"2175\",\"type\":\"LinearAxis\"}],\"center\":[{\"id\":\"2179\",\"type\":\"Grid\"},{\"id\":\"2184\",\"type\":\"Grid\"}],\"js_event_callbacks\":{\"selectiongeometry\":[{\"id\":\"2198\",\"type\":\"CustomJS\"}]},\"left\":[{\"id\":\"2180\",\"type\":\"LinearAxis\"}],\"renderers\":[{\"id\":\"2191\",\"type\":\"GlyphRenderer\"}],\"title\":{\"id\":\"2275\",\"type\":\"Title\"},\"toolbar\":{\"id\":\"2186\",\"type\":\"Toolbar\"},\"x_range\":{\"id\":\"2167\",\"type\":\"DataRange1d\"},\"x_scale\":{\"id\":\"2171\",\"type\":\"LinearScale\"},\"y_range\":{\"id\":\"2169\",\"type\":\"DataRange1d\"},\"y_scale\":{\"id\":\"2173\",\"type\":\"LinearScale\"}},\"id\":\"2166\",\"subtype\":\"Figure\",\"type\":\"Plot\"},{\"attributes\":{\"callback\":null},\"id\":\"2167\",\"type\":\"DataRange1d\"},{\"attributes\":{},\"id\":\"2277\",\"type\":\"BasicTickFormatter\"},{\"attributes\":{\"fill_alpha\":{\"value\":0.6},\"fill_color\":{\"value\":\"#1f77b4\"},\"line_color\":{\"value\":null},\"radius\":{\"units\":\"data\",\"value\":1},\"x\":{\"field\":\"x\"},\"y\":{\"field\":\"y\"}},\"id\":\"2189\",\"type\":\"Circle\"},{\"attributes\":{\"callback\":null,\"data\":{\"x\":{\"__ndarray__\":\"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\",\"dtype\":\"float64\",\"shape\":[2000]},\"y\":{\"__ndarray__\":\"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\",\"dtype\":\"float64\",\"shape\":[2000]}},\"selected\":{\"id\":\"2281\",\"type\":\"Selection\"},\"selection_policy\":{\"id\":\"2282\",\"type\":\"UnionRenderers\"}},\"id\":\"2188\",\"type\":\"ColumnDataSource\"},{\"attributes\":{\"source\":{\"id\":\"2188\",\"type\":\"ColumnDataSource\"}},\"id\":\"2192\",\"type\":\"CDSView\"},{\"attributes\":{},\"id\":\"2279\",\"type\":\"BasicTickFormatter\"},{\"attributes\":{},\"id\":\"2176\",\"type\":\"BasicTicker\"},{\"attributes\":{\"formatter\":{\"id\":\"2277\",\"type\":\"BasicTickFormatter\"},\"ticker\":{\"id\":\"2176\",\"type\":\"BasicTicker\"}},\"id\":\"2175\",\"type\":\"LinearAxis\"},{\"attributes\":{\"callback\":null,\"overlay\":{\"id\":\"2283\",\"type\":\"BoxAnnotation\"}},\"id\":\"2185\",\"type\":\"BoxSelectTool\"},{\"attributes\":{},\"id\":\"2281\",\"type\":\"Selection\"},{\"attributes\":{},\"id\":\"2181\",\"type\":\"BasicTicker\"},{\"attributes\":{\"bottom_units\":\"screen\",\"fill_alpha\":{\"value\":0.5},\"fill_color\":{\"value\":\"lightgrey\"},\"left_units\":\"screen\",\"level\":\"overlay\",\"line_alpha\":{\"value\":1.0},\"line_color\":{\"value\":\"black\"},\"line_dash\":[4,4],\"line_width\":{\"value\":2},\"render_mode\":\"css\",\"right_units\":\"screen\",\"top_units\":\"screen\"},\"id\":\"2283\",\"type\":\"BoxAnnotation\"},{\"attributes\":{},\"id\":\"2173\",\"type\":\"LinearScale\"},{\"attributes\":{\"callback\":null,\"icon\":null,\"js_event_callbacks\":{\"button_click\":[{\"id\":\"2197\",\"type\":\"CustomJS\"}]}},\"id\":\"2194\",\"type\":\"Button\"},{\"attributes\":{\"text\":\"\"},\"id\":\"2275\",\"type\":\"Title\"},{\"attributes\":{\"fill_alpha\":{\"value\":0.1},\"fill_color\":{\"value\":\"#1f77b4\"},\"line_alpha\":{\"value\":0.1},\"line_color\":{\"value\":\"#1f77b4\"},\"radius\":{\"units\":\"data\",\"value\":1},\"x\":{\"field\":\"x\"},\"y\":{\"field\":\"y\"}},\"id\":\"2190\",\"type\":\"Circle\"},{\"attributes\":{\"dimension\":1,\"ticker\":{\"id\":\"2181\",\"type\":\"BasicTicker\"}},\"id\":\"2184\",\"type\":\"Grid\"},{\"attributes\":{\"children\":[{\"id\":\"2166\",\"subtype\":\"Figure\",\"type\":\"Plot\"},{\"id\":\"2193\",\"type\":\"Div\"}]},\"id\":\"2195\",\"type\":\"Row\"},{\"attributes\":{},\"id\":\"2171\",\"type\":\"LinearScale\"},{\"attributes\":{\"ticker\":{\"id\":\"2176\",\"type\":\"BasicTicker\"}},\"id\":\"2179\",\"type\":\"Grid\"},{\"attributes\":{\"args\":{\"div\":{\"id\":\"2193\",\"type\":\"Div\"}},\"code\":\"\\ndiv.text = \\\"Selection! <p> <p>\\\" + JSON.stringify(cb_obj.geometry, undefined, 2);\\n\"},\"id\":\"2198\",\"type\":\"CustomJS\"},{\"attributes\":{\"data_source\":{\"id\":\"2188\",\"type\":\"ColumnDataSource\"},\"glyph\":{\"id\":\"2189\",\"type\":\"Circle\"},\"hover_glyph\":null,\"muted_glyph\":null,\"nonselection_glyph\":{\"id\":\"2190\",\"type\":\"Circle\"},\"selection_glyph\":null,\"view\":{\"id\":\"2192\",\"type\":\"CDSView\"}},\"id\":\"2191\",\"type\":\"GlyphRenderer\"},{\"attributes\":{\"callback\":null},\"id\":\"2169\",\"type\":\"DataRange1d\"},{\"attributes\":{\"active_drag\":\"auto\",\"active_inspect\":\"auto\",\"active_multi\":null,\"active_scroll\":\"auto\",\"active_tap\":\"auto\",\"tools\":[{\"id\":\"2185\",\"type\":\"BoxSelectTool\"}]},\"id\":\"2186\",\"type\":\"Toolbar\"},{\"attributes\":{},\"id\":\"2282\",\"type\":\"UnionRenderers\"},{\"attributes\":{\"width\":400},\"id\":\"2193\",\"type\":\"Div\"},{\"attributes\":{\"formatter\":{\"id\":\"2279\",\"type\":\"BasicTickFormatter\"},\"ticker\":{\"id\":\"2181\",\"type\":\"BasicTicker\"}},\"id\":\"2180\",\"type\":\"LinearAxis\"}],\"root_ids\":[\"2196\"]},\"title\":\"Bokeh Application\",\"version\":\"1.4.0\"}};\n",
       "  var render_items = [{\"docid\":\"6937a20d-e38d-4472-8b28-1544befb6177\",\"roots\":{\"2196\":\"14fe60a4-4b7d-401c-a0a8-1d3f45372b38\"}}];\n",
       "  root.Bokeh.embed.embed_items_notebook(docs_json, render_items);\n",
       "\n",
       "  }\n",
       "  if (root.Bokeh !== undefined) {\n",
       "    embed_document(root);\n",
       "  } else {\n",
       "    var attempts = 0;\n",
       "    var timer = setInterval(function(root) {\n",
       "      if (root.Bokeh !== undefined) {\n",
       "        clearInterval(timer);\n",
       "        embed_document(root);\n",
       "      } else {\n",
       "        attempts++;\n",
       "        if (attempts > 100) {\n",
       "          clearInterval(timer);\n",
       "          console.log(\"Bokeh: ERROR: Unable to run BokehJS code because BokehJS library is missing\");\n",
       "        }\n",
       "      }\n",
       "    }, 10, root)\n",
       "  }\n",
       "})(window);"
      ],
      "application/vnd.bokehjs_exec.v0+json": ""
     },
     "metadata": {
      "application/vnd.bokehjs_exec.v0+json": {
       "id": "2196"
      }
     },
     "output_type": "display_data"
    }
   ],
   "source": [
    "from bokeh.plotting import figure\n",
    "from bokeh import events\n",
    "from bokeh.models import CustomJS, Div, Button\n",
    "from bokeh.layouts import column, row\n",
    "\n",
    "import numpy as np\n",
    "x = np.random.random(size=2000) * 100\n",
    "y = np.random.random(size=2000) * 100\n",
    "\n",
    "p = figure(tools=\"box_select\")\n",
    "p.scatter(x, y, radius=1, fill_alpha=0.6, line_color=None)\n",
    "\n",
    "div = Div(width=400)\n",
    "button = Button(label=\"Button\")\n",
    "layout = column(button, row(p, div))\n",
    "\n",
    "# Events with no attributes\n",
    "button.js_on_event(events.ButtonClick,  CustomJS(args=dict(div=div), code=\"\"\"\n",
    "div.text = \"Button!\";\n",
    "\"\"\")) \n",
    "\n",
    "p.js_on_event(events.SelectionGeometry, CustomJS(args=dict(div=div), code=\"\"\"\n",
    "div.text = \"Selection! <p> <p>\" + JSON.stringify(cb_obj.geometry, undefined, 2);\n",
    "\"\"\"))\n",
    "\n",
    "show(layout)"
   ]
  },
  {
   "cell_type": "markdown",
   "metadata": {},
   "source": [
    "### Zusätzliche Informationen\n",
    "\n",
    "Es gibt viele Arten von Interaktionen und Ereignissen, die mit `CustomJS`-Rückrufen verbunden werden können:\n",
    "\n",
    "* **Widgets**: - Button, Toggle, Dropdown, TextInput, AutocompleteInput, Select, Multiselect, Slider, (DateRangeSlider), DatePicker,\n",
    "* **Tools**: - TapTool, BoxSelectTool, HoverTool,\n",
    "* **Selection**: - ColumnDataSource, AjaxDataSource, BlazeDataSource, ServerDataSource\n",
    "* **Ranges**: - Range1d, DataRange1d, FactorRange\n",
    "\n",
    "Vollständigere Beispiele findet ihr in [JavaScript Interactions](http://bokeh.pydata.org/en/latest/docs/user_guide/interaction.html). "
   ]
  }
 ],
 "metadata": {
  "kernelspec": {
   "display_name": "Python 3.7.4",
   "language": "python",
   "name": "python-374"
  },
  "language_info": {
   "codemirror_mode": {
    "name": "ipython",
    "version": 3
   },
   "file_extension": ".py",
   "mimetype": "text/x-python",
   "name": "python",
   "nbconvert_exporter": "python",
   "pygments_lexer": "ipython3",
   "version": "3.7.4"
  },
  "latex_envs": {
   "LaTeX_envs_menu_present": true,
   "autoclose": false,
   "autocomplete": true,
   "bibliofile": "biblio.bib",
   "cite_by": "apalike",
   "current_citInitial": 1,
   "eqLabelWithNumbers": true,
   "eqNumInitial": 1,
   "hotkeys": {
    "equation": "Ctrl-E",
    "itemize": "Ctrl-I"
   },
   "labels_anchors": false,
   "latex_user_defs": false,
   "report_style_numbering": false,
   "user_envs_cfg": false
  },
  "widgets": {
   "application/vnd.jupyter.widget-state+json": {
    "state": {},
    "version_major": 2,
    "version_minor": 0
   }
  }
 },
 "nbformat": 4,
 "nbformat_minor": 2
}
