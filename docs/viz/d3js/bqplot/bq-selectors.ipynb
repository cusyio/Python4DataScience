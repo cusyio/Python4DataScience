{
 "cells": [
  {
   "cell_type": "markdown",
   "metadata": {},
   "source": [
    "# Selektoren\n",
    "\n",
    "`bqplot.interacts` bietet die folgenden Selektoren:\n",
    "\n",
    "| Klasse                            | Beschreibung                                        |\n",
    "| --------------------------------- | --------------------------------------------------- |\n",
    "| `BrushIntervalSelector(**kwargs)` | Auswahl eines Intervalls mit dem Pinsel             |\n",
    "| `BrushSelector(**kwargs)`         | Auswahl mit dem Pinsel                              |\n",
    "| `HandDraw(**kwargs)`              | Handgezeichnete Interaktion                         |\n",
    "| `IndexSelector(**kwargs)`         | Auswahl eines Index                                 |\n",
    "| `FastIntervalSelector(**kwargs)`  | Schnelle Auswahl eines Intervalls                   |\n",
    "| `MultiSelector(**kwargs)`         | Multiselektor-Interaktion                           |\n",
    "| `OneDSelector(**kwargs)`          | Eindimensionale Auswahl                             |\n",
    "| `Interaction(**kwargs)`           | Basisklasse für Interaktionen                       |\n",
    "| `PanZoom(**kwargs)`               | Interaktionen zum Verschieben und Zoomen von Skalen |\n",
    "| `Selector(**kwargs)`              | Auswahlinteraktion                                  |\n",
    "| `TwoDSelector(**kwargs)`          | Zweidimensionale Auswahlinteraktion                 |"
   ]
  },
  {
   "cell_type": "code",
   "execution_count": 1,
   "metadata": {},
   "outputs": [],
   "source": [
    "import pandas as pd\n",
    "import numpy as np\n",
    "\n",
    "symbol = 'Security 1'\n",
    "symbol2 = 'Security 2'"
   ]
  },
  {
   "cell_type": "code",
   "execution_count": 2,
   "metadata": {},
   "outputs": [],
   "source": [
    "price_data = pd.DataFrame(np.cumsum(np.random.randn(150, 2).dot([[0.5, 0.4], [0.4, 1.0]]), axis=0) + 100,\n",
    "                          columns=['Security 1', 'Security 2'],\n",
    "                          index=pd.date_range(start='01-01-2007', periods=150))\n",
    "\n",
    "dates_actual = price_data.index.values\n",
    "prices = price_data[symbol].values"
   ]
  },
  {
   "cell_type": "code",
   "execution_count": 3,
   "metadata": {},
   "outputs": [],
   "source": [
    "from bqplot import DateScale, LinearScale, Axis, Lines, Scatter, Bars, Hist, Figure\n",
    "from bqplot.interacts import (\n",
    "    FastIntervalSelector, IndexSelector, BrushIntervalSelector,\n",
    "    BrushSelector, MultiSelector, LassoSelector, PanZoom, HandDraw\n",
    ")\n",
    "from traitlets import link\n",
    "\n",
    "from ipywidgets import ToggleButtons, VBox, HTML"
   ]
  },
  {
   "cell_type": "markdown",
   "metadata": {},
   "source": [
    "## Liniendiagramm-Selektoren"
   ]
  },
  {
   "cell_type": "markdown",
   "metadata": {},
   "source": [
    "### `FastIntervalSelector`"
   ]
  },
  {
   "cell_type": "code",
   "execution_count": 4,
   "metadata": {},
   "outputs": [],
   "source": [
    "## First we define a Figure\n",
    "dt_x_fast = DateScale()\n",
    "lin_y = LinearScale()\n",
    "\n",
    "x_ax = Axis(label='Index', scale=dt_x_fast)\n",
    "x_ay = Axis(label=(symbol + ' Price'), scale=lin_y, orientation='vertical')\n",
    "lc = Lines(x=dates_actual, y=prices, scales={'x': dt_x_fast, 'y': lin_y}, colors=['orange'])\n",
    "lc_2 = Lines(x=dates_actual[50:], y=prices[50:] + 2, scales={'x': dt_x_fast, 'y': lin_y}, colors=['blue'])"
   ]
  },
  {
   "cell_type": "code",
   "execution_count": 5,
   "metadata": {},
   "outputs": [],
   "source": [
    "## Next we define the type of selector we would like\n",
    "intsel_fast = FastIntervalSelector(scale=dt_x_fast, marks=[lc, lc_2])"
   ]
  },
  {
   "cell_type": "code",
   "execution_count": 6,
   "metadata": {},
   "outputs": [],
   "source": [
    "## Now, we define a function that will be called when the FastIntervalSelector is interacted with\n",
    "def fast_interval_change_callback(change):\n",
    "    db_fast.value = 'The selected period is ' + str(change.new)"
   ]
  },
  {
   "cell_type": "code",
   "execution_count": 7,
   "metadata": {},
   "outputs": [],
   "source": [
    "## Now we connect the selectors to that function\n",
    "intsel_fast.observe(fast_interval_change_callback, names=['selected'])"
   ]
  },
  {
   "cell_type": "code",
   "execution_count": 8,
   "metadata": {},
   "outputs": [
    {
     "data": {
      "application/vnd.jupyter.widget-view+json": {
       "model_id": "c73a36112836464a8bbd9a46b49b6bf2",
       "version_major": 2,
       "version_minor": 0
      },
      "text/plain": [
       "VBox(children=(HTML(value='The selected period is None'), Figure(axes=[Axis(label='Index', scale=DateScale(), …"
      ]
     },
     "metadata": {},
     "output_type": "display_data"
    }
   ],
   "source": [
    "## We use the HTML widget to see the value of what we are selecting and modify it when an interaction is performed\n",
    "## on the selector\n",
    "db_fast = HTML()\n",
    "db_fast.value = 'The selected period is ' + str(intsel_fast.selected)\n",
    "\n",
    "fig_fast_intsel = Figure(marks=[lc, lc_2], axes=[x_ax, x_ay], title='Fast Interval Selector Example',\n",
    "                         interaction=intsel_fast) #This is where we assign the interaction to this particular Figure\n",
    "\n",
    "VBox([db_fast, fig_fast_intsel])"
   ]
  },
  {
   "cell_type": "markdown",
   "metadata": {},
   "source": [
    "### `IndexSelector`"
   ]
  },
  {
   "cell_type": "code",
   "execution_count": 9,
   "metadata": {},
   "outputs": [],
   "source": [
    "db_index = HTML(value='[]')"
   ]
  },
  {
   "cell_type": "code",
   "execution_count": 10,
   "metadata": {},
   "outputs": [],
   "source": [
    "## Now we try a selector made to select all the y-values associated with a single x-value\n",
    "index_sel = IndexSelector(scale=dt_x_fast, marks=[lc, lc_2])"
   ]
  },
  {
   "cell_type": "code",
   "execution_count": 11,
   "metadata": {},
   "outputs": [],
   "source": [
    "## Now, we define a function that will be called when the selectors are interacted with\n",
    "def index_change_callback(change):\n",
    "    db_index.value = 'The selected date is ' + str(change.new)"
   ]
  },
  {
   "cell_type": "code",
   "execution_count": 12,
   "metadata": {},
   "outputs": [],
   "source": [
    "index_sel.observe(index_change_callback, names=['selected'])"
   ]
  },
  {
   "cell_type": "code",
   "execution_count": 13,
   "metadata": {},
   "outputs": [
    {
     "data": {
      "application/vnd.jupyter.widget-view+json": {
       "model_id": "013d4e7e712a4ffdab5030f3c88a1bd5",
       "version_major": 2,
       "version_minor": 0
      },
      "text/plain": [
       "VBox(children=(HTML(value='[]'), Figure(axes=[Axis(label='Index', scale=DateScale(), side='bottom'), Axis(labe…"
      ]
     },
     "metadata": {},
     "output_type": "display_data"
    }
   ],
   "source": [
    "fig_index_sel = Figure(marks=[lc, lc_2], axes=[x_ax, x_ay], title='Index Selector Example',\n",
    "                       interaction=index_sel)\n",
    "VBox([db_index, fig_index_sel])"
   ]
  },
  {
   "cell_type": "markdown",
   "metadata": {},
   "source": [
    "Rückgabe von Indizes ausgewählter Werte:"
   ]
  },
  {
   "cell_type": "code",
   "execution_count": 14,
   "metadata": {},
   "outputs": [],
   "source": [
    "from datetime import datetime as py_dtime\n",
    "\n",
    "dt_x_index = DateScale(min=np.datetime64(py_dtime(2006, 6, 1)))\n",
    "lin_y2 = LinearScale()\n",
    "\n",
    "lc2_index = Lines(x=dates_actual, y=prices,\n",
    "            scales={'x': dt_x_index, 'y': lin_y2})\n",
    "\n",
    "x_ax1 = Axis(label='Date', scale=dt_x_index)\n",
    "x_ay2 = Axis(label=(symbol + ' Price'), scale=lin_y2, orientation='vertical')"
   ]
  },
  {
   "cell_type": "code",
   "execution_count": 15,
   "metadata": {},
   "outputs": [],
   "source": [
    "intsel_date = FastIntervalSelector(scale=dt_x_index, marks=[lc2_index])"
   ]
  },
  {
   "cell_type": "code",
   "execution_count": 16,
   "metadata": {},
   "outputs": [],
   "source": [
    "db_date = HTML()\n",
    "db_date.value = str(intsel_date.selected)"
   ]
  },
  {
   "cell_type": "code",
   "execution_count": 17,
   "metadata": {},
   "outputs": [],
   "source": [
    "## Now, we define a function that will be called when the selectors are interacted with - a callback\n",
    "def date_interval_change_callback(change):\n",
    "    db_date.value = str(change.new)"
   ]
  },
  {
   "cell_type": "code",
   "execution_count": 18,
   "metadata": {},
   "outputs": [
    {
     "data": {
      "application/vnd.jupyter.widget-view+json": {
       "model_id": "aee599ab94d0479f8b1d415113de047f",
       "version_major": 2,
       "version_minor": 0
      },
      "text/plain": [
       "VBox(children=(HTML(value='None'), Figure(axes=[Axis(label='Date', scale=DateScale(min=datetime.datetime(2006,…"
      ]
     },
     "metadata": {},
     "output_type": "display_data"
    }
   ],
   "source": [
    "## Notice here that we call the observe on the Mark lc2_index rather than on the selector intsel_date\n",
    "lc2_index.observe(date_interval_change_callback, names=['selected'])\n",
    "\n",
    "fig_date_mark = Figure(marks=[lc2_index], axes=[x_ax1, x_ay2],\n",
    "                       title='Fast Interval Selector Selected Indices Example', interaction=intsel_date)\n",
    "\n",
    "VBox([db_date, fig_date_mark])"
   ]
  },
  {
   "cell_type": "markdown",
   "metadata": {},
   "source": [
    "### `BrushSelector`\n",
    "\n",
    "Wir können dasselbe mit jedem anderen Selektor tun:"
   ]
  },
  {
   "cell_type": "code",
   "execution_count": 19,
   "metadata": {},
   "outputs": [],
   "source": [
    "## Defining a new Figure\n",
    "dt_x_brush = DateScale(min=np.datetime64(py_dtime(2006, 6, 1)))\n",
    "lin_y2_brush = LinearScale()\n",
    "\n",
    "lc3_brush = Lines(x=dates_actual, y=prices,\n",
    "            scales={'x': dt_x_brush, 'y': lin_y2_brush})\n",
    "\n",
    "x_ax_brush = Axis(label='Date', scale=dt_x_brush)\n",
    "x_ay_brush = Axis(label=(symbol + ' Price'), scale=lin_y2_brush, orientation='vertical')"
   ]
  },
  {
   "cell_type": "code",
   "execution_count": 20,
   "metadata": {},
   "outputs": [],
   "source": [
    "db_brush = HTML(value='[]')"
   ]
  },
  {
   "cell_type": "code",
   "execution_count": 21,
   "metadata": {},
   "outputs": [],
   "source": [
    "brushsel_date = BrushIntervalSelector(scale=dt_x_brush, marks=[lc3_brush], color='FireBrick')"
   ]
  },
  {
   "cell_type": "code",
   "execution_count": 22,
   "metadata": {},
   "outputs": [],
   "source": [
    "## Now, we define a function that will be called when the selectors are interacted with - a callback\n",
    "def date_brush_change_callback(change):\n",
    "    db_brush.value = str(change.new)"
   ]
  },
  {
   "cell_type": "code",
   "execution_count": 23,
   "metadata": {},
   "outputs": [],
   "source": [
    "lc3_brush.observe(date_brush_change_callback, names=['selected'])"
   ]
  },
  {
   "cell_type": "code",
   "execution_count": 24,
   "metadata": {},
   "outputs": [
    {
     "data": {
      "application/vnd.jupyter.widget-view+json": {
       "model_id": "73fc4899364644b7b2b72eb46360da1f",
       "version_major": 2,
       "version_minor": 0
      },
      "text/plain": [
       "VBox(children=(HTML(value='[]'), Figure(axes=[Axis(label='Date', scale=DateScale(min=datetime.datetime(2006, 6…"
      ]
     },
     "metadata": {},
     "output_type": "display_data"
    }
   ],
   "source": [
    "fig_brush_sel = Figure(marks=[lc3_brush], axes=[x_ax_brush, x_ay_brush],\n",
    "                       title='Brush Selector Selected Indices Example', interaction=brushsel_date)\n",
    "\n",
    "VBox([db_brush, fig_brush_sel])"
   ]
  },
  {
   "cell_type": "markdown",
   "metadata": {},
   "source": [
    "## Scatter-Chart-Selektoren"
   ]
  },
  {
   "cell_type": "markdown",
   "metadata": {},
   "source": [
    "### `BrushSelector`"
   ]
  },
  {
   "cell_type": "code",
   "execution_count": 25,
   "metadata": {},
   "outputs": [],
   "source": [
    "date_fmt = '%m-%d-%Y'\n",
    "\n",
    "sec2_data = price_data[symbol2].values\n",
    "dates = price_data.index.values"
   ]
  },
  {
   "cell_type": "code",
   "execution_count": 26,
   "metadata": {},
   "outputs": [],
   "source": [
    "sc_x = LinearScale()\n",
    "sc_y = LinearScale()\n",
    "\n",
    "scatt = Scatter(x=prices, y=sec2_data,\n",
    "                scales={'x': sc_x, 'y': sc_y})\n",
    "\n",
    "sc_xax = Axis(label=(symbol), scale=sc_x)\n",
    "sc_yax = Axis(label=(symbol2), scale=sc_y, orientation='vertical')"
   ]
  },
  {
   "cell_type": "code",
   "execution_count": 27,
   "metadata": {},
   "outputs": [],
   "source": [
    "br_sel = BrushSelector(x_scale=sc_x, y_scale=sc_y, marks=[scatt], color='red')\n",
    "\n",
    "db_scat_brush = HTML(value='[]')"
   ]
  },
  {
   "cell_type": "code",
   "execution_count": 28,
   "metadata": {},
   "outputs": [],
   "source": [
    "## call back for the selector\n",
    "def brush_callback(change):\n",
    "    db_scat_brush.value = str(br_sel.selected)"
   ]
  },
  {
   "cell_type": "code",
   "execution_count": 29,
   "metadata": {},
   "outputs": [],
   "source": [
    "br_sel.observe(brush_callback, names=['brushing'])"
   ]
  },
  {
   "cell_type": "code",
   "execution_count": 30,
   "metadata": {},
   "outputs": [],
   "source": [
    "fig_scat_brush = Figure(marks=[scatt], axes=[sc_xax, sc_yax], title='Scatter Chart Brush Selector Example',\n",
    "                        interaction=br_sel)"
   ]
  },
  {
   "cell_type": "code",
   "execution_count": 31,
   "metadata": {},
   "outputs": [
    {
     "data": {
      "application/vnd.jupyter.widget-view+json": {
       "model_id": "149f8e78ca9a4801b6efd2c68ce48767",
       "version_major": 2,
       "version_minor": 0
      },
      "text/plain": [
       "VBox(children=(HTML(value='[]'), Figure(axes=[Axis(label='Security 1', scale=LinearScale(), side='bottom'), Ax…"
      ]
     },
     "metadata": {},
     "output_type": "display_data"
    }
   ],
   "source": [
    "VBox([db_scat_brush, fig_scat_brush])"
   ]
  },
  {
   "cell_type": "markdown",
   "metadata": {},
   "source": [
    "### `BrushSelector` mit Datumswerten"
   ]
  },
  {
   "cell_type": "code",
   "execution_count": 32,
   "metadata": {},
   "outputs": [],
   "source": [
    "sc_brush_dt_x = DateScale(date_format=date_fmt)\n",
    "sc_brush_dt_y = LinearScale()\n",
    "\n",
    "scatt2 = Scatter(x=dates_actual, y=sec2_data,\n",
    "                scales={'x': sc_brush_dt_x, 'y': sc_brush_dt_y})"
   ]
  },
  {
   "cell_type": "code",
   "execution_count": 33,
   "metadata": {},
   "outputs": [],
   "source": [
    "br_sel_dt = BrushSelector(x_scale=sc_brush_dt_x, y_scale=sc_brush_dt_y, marks=[scatt2])"
   ]
  },
  {
   "cell_type": "code",
   "execution_count": 34,
   "metadata": {},
   "outputs": [],
   "source": [
    "db_brush_dt = HTML(value=str(br_sel_dt.selected))"
   ]
  },
  {
   "cell_type": "code",
   "execution_count": 35,
   "metadata": {},
   "outputs": [],
   "source": [
    "## call back for the selector\n",
    "def brush_dt_callback(change):\n",
    "    db_brush_dt.value = str(br_sel_dt.selected)"
   ]
  },
  {
   "cell_type": "code",
   "execution_count": 36,
   "metadata": {},
   "outputs": [],
   "source": [
    "br_sel_dt.observe(brush_dt_callback, names=['brushing'])"
   ]
  },
  {
   "cell_type": "code",
   "execution_count": 37,
   "metadata": {},
   "outputs": [],
   "source": [
    "sc_xax = Axis(label=(symbol), scale=sc_brush_dt_x)\n",
    "sc_yax = Axis(label=(symbol2), scale=sc_brush_dt_y, orientation='vertical')\n",
    "fig_brush_dt = Figure(marks =[scatt2], axes=[sc_xax, sc_yax], title='Brush Selector with Dates Example',\n",
    "                      interaction=br_sel_dt)"
   ]
  },
  {
   "cell_type": "code",
   "execution_count": 38,
   "metadata": {},
   "outputs": [
    {
     "data": {
      "application/vnd.jupyter.widget-view+json": {
       "model_id": "c7af0f90de444dec85250c3ff97aefd3",
       "version_major": 2,
       "version_minor": 0
      },
      "text/plain": [
       "VBox(children=(HTML(value='None'), Figure(axes=[Axis(label='Security 1', scale=DateScale(), side='bottom'), Ax…"
      ]
     },
     "metadata": {},
     "output_type": "display_data"
    }
   ],
   "source": [
    "VBox([db_brush_dt, fig_brush_dt])"
   ]
  },
  {
   "cell_type": "markdown",
   "metadata": {},
   "source": [
    "## Histogramm-Selektoren"
   ]
  },
  {
   "cell_type": "code",
   "execution_count": 39,
   "metadata": {},
   "outputs": [],
   "source": [
    "## call back for selectors\n",
    "def interval_change_callback(name, value):\n",
    "    db3.value = str(value)\n",
    "    \n",
    "## call back for the selector\n",
    "def brush_callback(change):\n",
    "    if(not br_intsel.brushing):\n",
    "        db3.value = str(br_intsel.selected)"
   ]
  },
  {
   "cell_type": "code",
   "execution_count": 40,
   "metadata": {},
   "outputs": [
    {
     "data": {
      "application/vnd.jupyter.widget-view+json": {
       "model_id": "4113231bdcec404698e28dc86a81c23a",
       "version_major": 2,
       "version_minor": 0
      },
      "text/plain": [
       "VBox(children=(HTML(value='None'), Figure(axes=[Axis(label='Returns', scale=LinearScale(), tick_format='0.2%')…"
      ]
     },
     "metadata": {},
     "output_type": "display_data"
    }
   ],
   "source": [
    "returns = np.log(prices[1:]) - np.log(prices[:-1])\n",
    "hist_x = LinearScale()\n",
    "hist_y = LinearScale()\n",
    "hist = Hist(sample=returns, scales={'sample': hist_x, 'count': hist_y})\n",
    "\n",
    "br_intsel = BrushIntervalSelector(scale=hist_x, marks=[hist])\n",
    "br_intsel.observe(brush_callback, names=['selected'])\n",
    "br_intsel.observe(brush_callback, names=['brushing'])\n",
    "\n",
    "db3 = HTML()\n",
    "db3.value = str(br_intsel.selected)\n",
    "\n",
    "h_xax = Axis(scale=hist_x, label='Returns', grids='off', set_ticks=True, tick_format='0.2%')\n",
    "h_yax = Axis(scale=hist_y, label='Freq', orientation='vertical', grid_lines='none')\n",
    "\n",
    "fig_hist = Figure(marks=[hist], axes=[h_xax, h_yax], title='Histogram Selection Example', interaction=br_intsel)\n",
    "VBox([db3, fig_hist])"
   ]
  },
  {
   "cell_type": "markdown",
   "metadata": {},
   "source": [
    "### `MultiSelector`\n",
    "\n",
    "* Dieser Selektor bietet die Möglichkeit, mehrere Pinsel-Selektoren in einem Diagramm zu verwenden.\n",
    "* Der erste Pinsel funktioniert wie ein normaler Pinsel.\n",
    "* `Ctrl + click` erstellt einen neuen Pinsel, der wie der normale Pinsel funktioniert. \n",
    "* Der `active`-Pinsel hat einen grünen Rand, während alle `inactive`-Pinsel einen roten Rand haben. `inactive` \n",
    "* `Shift + click` deaktiviert den aktuellen `active`-Pinsel. Klickt nun auf einen `inactive`-Pinsel um ihn `active` zu machen.\n",
    "* `Ctrl + Alt + Shift + click` löscht alle Pinsel und setzt sie zurück."
   ]
  },
  {
   "cell_type": "code",
   "execution_count": 41,
   "metadata": {},
   "outputs": [],
   "source": [
    "def multi_sel_callback(change):\n",
    "    if(not multi_sel.brushing):\n",
    "        db4.value = str(multi_sel.selected)"
   ]
  },
  {
   "cell_type": "code",
   "execution_count": 42,
   "metadata": {},
   "outputs": [
    {
     "data": {
      "application/vnd.jupyter.widget-view+json": {
       "model_id": "e3369d6427d04d9e950ebf1cf75508ec",
       "version_major": 2,
       "version_minor": 0
      },
      "text/plain": [
       "VBox(children=(HTML(value='{}'), Figure(axes=[Axis(grid_lines='none', label='Returns', scale=LinearScale()), A…"
      ]
     },
     "metadata": {},
     "output_type": "display_data"
    }
   ],
   "source": [
    "line_x = LinearScale()\n",
    "line_y = LinearScale()\n",
    "line = Lines(x=np.arange(100), y=np.random.randn(100), scales={'x': line_x, 'y': line_y})\n",
    "\n",
    "multi_sel = MultiSelector(scale=line_x, marks=[line])\n",
    "multi_sel.observe(multi_sel_callback, names=['selected'])\n",
    "multi_sel.observe(multi_sel_callback, names=['brushing'])\n",
    "\n",
    "db4 = HTML()\n",
    "db4.value = str(multi_sel.selected)\n",
    "\n",
    "h_xax = Axis(scale=line_x, label='Returns', grid_lines='none')\n",
    "h_yax = Axis(scale=hist_y, label='Freq', orientation='vertical', grid_lines='none')\n",
    "\n",
    "fig_multi = Figure(marks=[line], axes=[h_xax, h_yax], title='Multi-Selector Example',\n",
    "                   interaction=multi_sel)\n",
    "VBox([db4, fig_multi])"
   ]
  },
  {
   "cell_type": "code",
   "execution_count": 43,
   "metadata": {},
   "outputs": [],
   "source": [
    "# changing the names of the intervals.\n",
    "multi_sel.names = ['int1', 'int2', 'int3']"
   ]
  },
  {
   "cell_type": "markdown",
   "metadata": {},
   "source": [
    "### Multifunktionswähler mit Datum"
   ]
  },
  {
   "cell_type": "code",
   "execution_count": 44,
   "metadata": {},
   "outputs": [],
   "source": [
    "def multi_sel_dt_callback(change):\n",
    "    if(not multi_sel_dt.brushing):\n",
    "        db_multi_dt.value = str(multi_sel_dt.selected)"
   ]
  },
  {
   "cell_type": "code",
   "execution_count": 45,
   "metadata": {},
   "outputs": [
    {
     "data": {
      "application/vnd.jupyter.widget-view+json": {
       "model_id": "c13868db8f8b4ec3b280b1eb337e29bc",
       "version_major": 2,
       "version_minor": 0
      },
      "text/plain": [
       "VBox(children=(HTML(value='{}'), Figure(axes=[Axis(grid_lines='none', label='Returns', scale=DateScale(min=dat…"
      ]
     },
     "metadata": {},
     "output_type": "display_data"
    }
   ],
   "source": [
    "line_dt_x = DateScale(min=np.datetime64(py_dtime(2007, 1, 1)))\n",
    "line_dt_y = LinearScale()\n",
    "line_dt = Lines(x=dates_actual, y=sec2_data, scales={'x': line_dt_x, 'y': line_dt_y}, colors=['red'])\n",
    "\n",
    "multi_sel_dt = MultiSelector(scale=line_dt_x)\n",
    "multi_sel_dt.observe(multi_sel_dt_callback, names=['selected'])\n",
    "multi_sel_dt.observe(multi_sel_dt_callback, names=['brushing'])\n",
    "\n",
    "db_multi_dt = HTML()\n",
    "db_multi_dt.value = str(multi_sel_dt.selected)\n",
    "\n",
    "h_xax_dt = Axis(scale=line_dt_x, label='Returns', grid_lines='none')\n",
    "h_yax_dt = Axis(scale=line_dt_y, label='Freq', orientation='vertical', grid_lines='none')\n",
    "\n",
    "fig_multi_dt = Figure(marks=[line_dt], axes=[h_xax_dt, h_yax_dt], title='Multi-Selector with Date Example',\n",
    "                      interaction=multi_sel_dt)\n",
    "VBox([db_multi_dt, fig_multi_dt])"
   ]
  },
  {
   "cell_type": "markdown",
   "metadata": {},
   "source": [
    "### `LassoSelector`"
   ]
  },
  {
   "cell_type": "code",
   "execution_count": 46,
   "metadata": {},
   "outputs": [],
   "source": [
    "lasso_sel = LassoSelector()"
   ]
  },
  {
   "cell_type": "code",
   "execution_count": 47,
   "metadata": {},
   "outputs": [
    {
     "data": {
      "application/vnd.jupyter.widget-view+json": {
       "model_id": "544e95a68bca46b7a1fefc372367e8ff",
       "version_major": 2,
       "version_minor": 0
      },
      "text/plain": [
       "Figure(axes=[Axis(label='X', scale=LinearScale()), Axis(label='Y', orientation='vertical', scale=LinearScale()…"
      ]
     },
     "metadata": {},
     "output_type": "display_data"
    }
   ],
   "source": [
    "xs, ys = LinearScale(), LinearScale()\n",
    "data = np.arange(20)\n",
    "line_lasso = Lines(x=data, y=data, scales={'x': xs, 'y': ys})\n",
    "scatter_lasso = Scatter(x=data, y=data, scales={'x': xs, 'y': ys}, colors=['skyblue'])\n",
    "bar_lasso = Bars(x=data, y=data/2., scales={'x': xs, 'y': ys})\n",
    "xax_lasso, yax_lasso = Axis(scale=xs, label='X'), Axis(scale=ys, label='Y', orientation='vertical')\n",
    "fig_lasso = Figure(marks=[scatter_lasso, line_lasso, bar_lasso], axes=[xax_lasso, yax_lasso],\n",
    "                   title='Lasso Selector Example', interaction=lasso_sel)\n",
    "lasso_sel.marks = [scatter_lasso, line_lasso]\n",
    "fig_lasso"
   ]
  },
  {
   "cell_type": "code",
   "execution_count": 48,
   "metadata": {},
   "outputs": [
    {
     "data": {
      "text/plain": [
       "(None, None)"
      ]
     },
     "execution_count": 48,
     "metadata": {},
     "output_type": "execute_result"
    }
   ],
   "source": [
    "scatter_lasso.selected, line_lasso.selected"
   ]
  },
  {
   "cell_type": "markdown",
   "metadata": {},
   "source": [
    "### `PanZoom`"
   ]
  },
  {
   "cell_type": "code",
   "execution_count": 49,
   "metadata": {},
   "outputs": [
    {
     "data": {
      "application/vnd.jupyter.widget-view+json": {
       "model_id": "991ca6b571c542ea8aece504f59893dc",
       "version_major": 2,
       "version_minor": 0
      },
      "text/plain": [
       "Figure(axes=[Axis(label='Date', scale=DateScale(min=datetime.datetime(2007, 1, 1, 0, 0))), Axis(grid_lines='no…"
      ]
     },
     "metadata": {},
     "output_type": "display_data"
    }
   ],
   "source": [
    "xs_pz = DateScale(min=np.datetime64(py_dtime(2007, 1, 1)))\n",
    "ys_pz = LinearScale()\n",
    "line_pz = Lines(x=dates_actual, y=sec2_data, scales={'x': xs_pz, 'y': ys_pz}, colors=['red'])\n",
    "\n",
    "panzoom = PanZoom(scales={'x': [xs_pz], 'y': [ys_pz]})\n",
    "xax = Axis(scale=xs_pz, label='Date', grids='off')\n",
    "yax = Axis(scale=ys_pz, label='Price', orientation='vertical', grid_lines='none')\n",
    "\n",
    "Figure(marks=[line_pz], axes=[xax, yax], interaction=panzoom)"
   ]
  },
  {
   "cell_type": "markdown",
   "metadata": {},
   "source": [
    "### `HandDraw`"
   ]
  },
  {
   "cell_type": "code",
   "execution_count": 50,
   "metadata": {},
   "outputs": [
    {
     "data": {
      "application/vnd.jupyter.widget-view+json": {
       "model_id": "768c969f88054d40ab293dfec041fdc8",
       "version_major": 2,
       "version_minor": 0
      },
      "text/plain": [
       "Figure(axes=[Axis(grid_lines='none', label='Date', scale=DateScale(min=datetime.datetime(2007, 1, 1, 0, 0))), …"
      ]
     },
     "metadata": {},
     "output_type": "display_data"
    }
   ],
   "source": [
    "xs_hd = DateScale(min=np.datetime64(py_dtime(2007, 1, 1)))\n",
    "ys_hd = LinearScale()\n",
    "line_hd = Lines(x=dates_actual, y=sec2_data, scales={'x': xs_hd, 'y': ys_hd}, colors=['red'])\n",
    "\n",
    "handdraw = HandDraw(lines=line_hd)\n",
    "xax = Axis(scale=xs_hd, label='Date', grid_lines='none')\n",
    "yax = Axis(scale=ys_hd, label='Price', orientation='vertical', grid_lines='none')\n",
    "\n",
    "Figure(marks=[line_hd], axes=[xax, yax], interaction=handdraw)"
   ]
  },
  {
   "cell_type": "markdown",
   "metadata": {},
   "source": [
    "## `Figure` mit allen Interaktionen"
   ]
  },
  {
   "cell_type": "markdown",
   "metadata": {},
   "source": [
    "`Figure` definieren:"
   ]
  },
  {
   "cell_type": "code",
   "execution_count": 51,
   "metadata": {},
   "outputs": [],
   "source": [
    "dt_x = DateScale(date_format=date_fmt, min=py_dtime(2007, 1, 1))\n",
    "lc1_x = LinearScale()\n",
    "lc2_y = LinearScale()\n",
    "\n",
    "lc2 = Lines(x=np.linspace(0.0, 10.0, len(prices)), y=prices * 0.25,\n",
    "            scales={'x': lc1_x, 'y': lc2_y}, \n",
    "            display_legend=True,\n",
    "            labels=['Security 1'])\n",
    "\n",
    "lc3 = Lines(x=dates_actual, y=sec2_data,\n",
    "            scales={'x': dt_x, 'y': lc2_y},\n",
    "            colors=['red'], \n",
    "            display_legend=True, \n",
    "            labels=['Security 2'])\n",
    "\n",
    "lc4 = Lines(x=np.linspace(0.0, 10.0, len(prices)), y=sec2_data * 0.75,\n",
    "            scales={'x': LinearScale(min=5, max=10), 'y': lc2_y},\n",
    "            colors=['green'], display_legend=True, \n",
    "            labels=['Security 2 squared'])\n",
    "\n",
    "x_ax1 = Axis(label='Date', scale=dt_x)\n",
    "x_ax2 = Axis(label='Time', scale=lc1_x, side='top', grid_lines='none')\n",
    "x_ay2 = Axis(label=(symbol + ' Price'), scale=lc2_y, orientation='vertical')\n",
    "\n",
    "\n",
    "fig = Figure(marks=[lc2, lc3, lc4], axes=[x_ax1, x_ax2, x_ay2])"
   ]
  },
  {
   "cell_type": "markdown",
   "metadata": {},
   "source": [
    "Interaktionen definieren:"
   ]
  },
  {
   "cell_type": "code",
   "execution_count": 52,
   "metadata": {},
   "outputs": [],
   "source": [
    "multi_sel = MultiSelector(scale=dt_x, marks=[lc2, lc3])\n",
    "br_intsel = BrushIntervalSelector(scale=lc1_x, marks=[lc2, lc3])\n",
    "index_sel = IndexSelector(scale=dt_x, marks=[lc2, lc3])\n",
    "int_sel = FastIntervalSelector(scale=dt_x, marks=[lc3, lc2])\n",
    "\n",
    "hd = HandDraw(lines=lc2)\n",
    "hd2 = HandDraw(lines=lc3)\n",
    "pz = PanZoom(scales={'x': [dt_x], 'y': [lc2_y]})\n",
    "\n",
    "deb = HTML()\n",
    "deb.value = '[]'"
   ]
  },
  {
   "cell_type": "markdown",
   "metadata": {},
   "source": [
    "Call-Back-Handler für die Interaktionen definieren:"
   ]
  },
  {
   "cell_type": "code",
   "execution_count": 53,
   "metadata": {},
   "outputs": [],
   "source": [
    "def test_callback(change):\n",
    "    deb.value = str(change.new)\n",
    "    \n",
    "multi_sel.observe(test_callback, names=['selected'])\n",
    "br_intsel.observe(test_callback, names=['selected'])\n",
    "index_sel.observe(test_callback, names=['selected'])\n",
    "int_sel.observe(test_callback, names=['selected'])"
   ]
  },
  {
   "cell_type": "code",
   "execution_count": 54,
   "metadata": {},
   "outputs": [
    {
     "data": {
      "application/vnd.jupyter.widget-view+json": {
       "model_id": "5084ff6d6c9f40739c77acd6e8458b2d",
       "version_major": 2,
       "version_minor": 0
      },
      "text/plain": [
       "VBox(children=(HTML(value='[]'), Figure(axes=[Axis(label='Date', scale=DateScale(min=datetime.datetime(2007, 1…"
      ]
     },
     "metadata": {},
     "output_type": "display_data"
    }
   ],
   "source": [
    "from collections import OrderedDict\n",
    "selection_interacts = ToggleButtons(options=OrderedDict([('HandDraw1', hd), ('HandDraw2', hd2), ('PanZoom', pz), \n",
    "                                                       ('FastIntervalSelector', int_sel), ('IndexSelector', index_sel),\n",
    "                                                       ('BrushIntervalSelector', br_intsel), ('MultiSelector', multi_sel),\n",
    "                                                       ('None', None)]))\n",
    "\n",
    "link((selection_interacts, 'value'), (fig, 'interaction'))\n",
    "VBox([deb, fig, selection_interacts], align_self='stretch')"
   ]
  }
 ],
 "metadata": {
  "kernelspec": {
   "display_name": "Python 3.7.4",
   "language": "python",
   "name": "python-374"
  },
  "language_info": {
   "codemirror_mode": {
    "name": "ipython",
    "version": 3
   },
   "file_extension": ".py",
   "mimetype": "text/x-python",
   "name": "python",
   "nbconvert_exporter": "python",
   "pygments_lexer": "ipython3",
   "version": "3.7.4"
  },
  "latex_envs": {
   "LaTeX_envs_menu_present": true,
   "autoclose": false,
   "autocomplete": true,
   "bibliofile": "biblio.bib",
   "cite_by": "apalike",
   "current_citInitial": 1,
   "eqLabelWithNumbers": true,
   "eqNumInitial": 1,
   "hotkeys": {
    "equation": "Ctrl-E",
    "itemize": "Ctrl-I"
   },
   "labels_anchors": false,
   "latex_user_defs": false,
   "report_style_numbering": false,
   "user_envs_cfg": false
  },
  "widgets": {
   "application/vnd.jupyter.widget-state+json": {
    "state": {
     "00f6aee200444cee86e5a9b7f346c49e": {
      "model_module": "bqplot",
      "model_module_version": "^0.5.3",
      "model_name": "DateScaleModel",
      "state": {
       "_model_module_version": "^0.5.3",
       "_view_module_version": "^0.5.3"
      }
     },
     "013d4e7e712a4ffdab5030f3c88a1bd5": {
      "model_module": "@jupyter-widgets/controls",
      "model_module_version": "1.5.0",
      "model_name": "VBoxModel",
      "state": {
       "children": [
        "IPY_MODEL_c942c7aadcf1494a95a78d0213cfd963",
        "IPY_MODEL_6f782a62e5ef41cc91ba3a7458587414"
       ],
       "layout": "IPY_MODEL_e4df246ba1604e63a20dada3fbdfa46d"
      }
     },
     "0458fb46dc7d4405bdfbc091104f1efc": {
      "model_module": "bqplot",
      "model_module_version": "^0.5.3",
      "model_name": "FigureModel",
      "state": {
       "_dom_classes": [],
       "_model_module_version": "^0.5.3",
       "_view_module_version": "^0.5.3",
       "axes": [
        "IPY_MODEL_cc190b1b60a542eaab629c70e7e67056",
        "IPY_MODEL_449cfc74ded54a55a611279d2f5649d8"
       ],
       "interaction": "IPY_MODEL_c0685757deb645759d78fd9986f82506",
       "layout": "IPY_MODEL_6e53eb0892534ae893dc8c027fd3e91a",
       "marks": [
        "IPY_MODEL_ff319b5d1d2546d2a31481f7b3eeddc5"
       ],
       "scale_x": "IPY_MODEL_2681060cd06f4b45bf8c5862baea6b6f",
       "scale_y": "IPY_MODEL_1c404a89ab624837a07a52771b498efb",
       "title": "Histogram Selection Example"
      }
     },
     "058a3161a0e245f38b1748f794211f0d": {
      "model_module": "bqplot",
      "model_module_version": "^0.5.3",
      "model_name": "LinearScaleModel",
      "state": {
       "_model_module_version": "^0.5.3",
       "_view_module_version": "^0.5.3",
       "stabilized": false
      }
     },
     "05d47ffdc7eb4ff0a012d132f164f6be": {
      "model_module": "@jupyter-widgets/base",
      "model_module_version": "1.2.0",
      "model_name": "LayoutModel",
      "state": {}
     },
     "06ceff306b4b4e2fb8e534b494fddd7b": {
      "model_module": "@jupyter-widgets/base",
      "model_module_version": "1.2.0",
      "model_name": "LayoutModel",
      "state": {}
     },
     "0a348c0ac4fd4553b3e64cfc45098cf9": {
      "model_module": "@jupyter-widgets/controls",
      "model_module_version": "1.5.0",
      "model_name": "DescriptionStyleModel",
      "state": {
       "description_width": ""
      }
     },
     "0c5a7b27ef6d4cf79e4627e01dfbb99a": {
      "model_module": "@jupyter-widgets/base",
      "model_module_version": "1.2.0",
      "model_name": "LayoutModel",
      "state": {}
     },
     "0d735c2bb0b6483192d886db55dcb9da": {
      "model_module": "@jupyter-widgets/controls",
      "model_module_version": "1.5.0",
      "model_name": "HTMLModel",
      "state": {
       "layout": "IPY_MODEL_f4951078d0aa4e959335684e9116ef46",
       "style": "IPY_MODEL_9a49b1ef86da4a9d979b48363f723e26",
       "value": "[]"
      }
     },
     "11188a190401427699ea8ccc6ae867a6": {
      "buffers": [
       {
        "data": "AAAAAAEAAAACAAAAAwAAAAQAAAAFAAAABgAAAAcAAAAIAAAACQAAAAoAAAALAAAADAAAAA0AAAAOAAAADwAAABAAAAARAAAAEgAAABMAAAA=",
        "encoding": "base64",
        "path": [
         "x",
         "value"
        ]
       },
       {
        "data": "AAAAAAEAAAACAAAAAwAAAAQAAAAFAAAABgAAAAcAAAAIAAAACQAAAAoAAAALAAAADAAAAA0AAAAOAAAADwAAABAAAAARAAAAEgAAABMAAAA=",
        "encoding": "base64",
        "path": [
         "y",
         "value"
        ]
       }
      ],
      "model_module": "bqplot",
      "model_module_version": "^0.5.3",
      "model_name": "LinesModel",
      "state": {
       "_model_module_version": "^0.5.3",
       "_view_module_version": "^0.5.3",
       "fill_colors": [],
       "labels": [
        "C1"
       ],
       "scales": {
        "x": "IPY_MODEL_3e14b18e83d844268bfaa6527ab6f694",
        "y": "IPY_MODEL_b0fb4887ff26488ba84d1a10b9e49881"
       },
       "x": {
        "dtype": "int32",
        "shape": [
         20
        ],
        "type": null
       },
       "y": {
        "dtype": "int32",
        "shape": [
         20
        ],
        "type": null
       }
      }
     },
     "12ec71be94564c7682a2440013cbbd9f": {
      "model_module": "bqplot",
      "model_module_version": "^0.5.3",
      "model_name": "LinearScaleModel",
      "state": {
       "_model_module_version": "^0.5.3",
       "_view_module_version": "^0.5.3",
       "stabilized": false
      }
     },
     "13528458dd354c99b75ddded7e66dcfb": {
      "model_module": "bqplot",
      "model_module_version": "^0.5.3",
      "model_name": "FigureModel",
      "state": {
       "_dom_classes": [],
       "_model_module_version": "^0.5.3",
       "_view_module_version": "^0.5.3",
       "axes": [
        "IPY_MODEL_6db84896448b45b7a6ccda88efdf99c0",
        "IPY_MODEL_9eda66aa6938438d87f82dac6446784c"
       ],
       "interaction": "IPY_MODEL_7ad1ccaa83c54090b5d1b1c2598d2722",
       "layout": "IPY_MODEL_05d47ffdc7eb4ff0a012d132f164f6be",
       "marks": [
        "IPY_MODEL_79b07b2fb66c498484ed505fa2b539b8"
       ],
       "scale_x": "IPY_MODEL_6665170d0fd04cf580e5c04d6a1445a9",
       "scale_y": "IPY_MODEL_96b52cfa497744bfa9cae248cb8cbd60",
       "title": "Multi-Selector with Date Example"
      }
     },
     "149f8e78ca9a4801b6efd2c68ce48767": {
      "model_module": "@jupyter-widgets/controls",
      "model_module_version": "1.5.0",
      "model_name": "VBoxModel",
      "state": {
       "children": [
        "IPY_MODEL_7a104df44f004918ae621305348a1fbb",
        "IPY_MODEL_521fc94f36964629a35ec4f75981d4f6"
       ],
       "layout": "IPY_MODEL_e4e16614ae324283898deda047dce810"
      }
     },
     "176197a113324472a8fe6ec4c6250190": {
      "model_module": "bqplot",
      "model_module_version": "^0.5.3",
      "model_name": "LinearScaleModel",
      "state": {
       "_model_module_version": "^0.5.3",
       "_view_module_version": "^0.5.3",
       "allow_padding": false,
       "max": 1,
       "min": 0,
       "stabilized": false
      }
     },
     "17ec40d56486456ea663605d2506ff03": {
      "buffers": [
       {
        "data": "AAAAAAEAAAACAAAAAwAAAAQAAAAFAAAABgAAAAcAAAAIAAAACQAAAAoAAAALAAAADAAAAA0AAAAOAAAADwAAABAAAAARAAAAEgAAABMAAAAUAAAAFQAAABYAAAAXAAAAGAAAABkAAAAaAAAAGwAAABwAAAAdAAAAHgAAAB8AAAAgAAAAIQAAACIAAAAjAAAAJAAAACUAAAAmAAAAJwAAACgAAAApAAAAKgAAACsAAAAsAAAALQAAAC4AAAAvAAAAMAAAADEAAAAyAAAAMwAAADQAAAA1AAAANgAAADcAAAA4AAAAOQAAADoAAAA7AAAAPAAAAD0AAAA+AAAAPwAAAEAAAABBAAAAQgAAAEMAAABEAAAARQAAAEYAAABHAAAASAAAAEkAAABKAAAASwAAAEwAAABNAAAATgAAAE8AAABQAAAAUQAAAFIAAABTAAAAVAAAAFUAAABWAAAAVwAAAFgAAABZAAAAWgAAAFsAAABcAAAAXQAAAF4AAABfAAAAYAAAAGEAAABiAAAAYwAAAA==",
        "encoding": "base64",
        "path": [
         "x",
         "value"
        ]
       },
       {
        "data": "+v8KUzKf4D+Xm9RTdCSiv5jxPRsQHv0/v4zBND5yjr+V/PAEEGa/P8VCKHY/mP6/4D7RLrzG7L+Gtvc5t9/yPz5iIVfabcO/drctONGk2j9jsb45s1XiPx2/oCSTRPI/mVY5sVcH4z8fUnRSJE/Hv6ufwuw+BNU/l5mjr5wa4z+Gj1/i+UvaP6+6pQcJe8C/epgVeWoX8j+3IFF/3/f2v3O1XSPk37S/1octZ812ur9Zl+Z/eEHpv9HBobMPqss/sVDdFWL45r/479eLoyL7v8dybaNkp/A/ODFaXBlX6r+K8HFmySX4v8uEhkK97Ne/UzdK7G7H8r9MNeqPfj/pP9Nn+s5GANG/p7w4kMMYAkDK2Mg8YVDbP4FhyFFz++q/8Pcseu0s8r/UNgEcZIDEP17on4ii8OQ/Zc47560cAcCEyYYWKNXuv9HnafTryve/TYNc/YSx9T8pkAYuPqCYv67xEnklf/A/cYaXfEo+zb9+M3oxbNrkv11Y6pr6Fu0/XaFElRWq5r/UPPntndPnPyMEZcUEdvU/EdAhpV/b7j+QiVxWYRfyP37tzWXzGe6/XnKe4Rhg8D/Dg1DqGGUAQIdC1fhhL8A/TcPri/ZB6D/6Knt/AD/mPzPw0B49rPI/z0vcI+7o3L9XmMal787XP51xZobYDdm/poi6Hkje2L85IwpNTcPuPzRHV1uepOM/Ya/kWCJS6z/Kq7Tn0k/wP3dN8j3CKPQ/HZxvbMJN0D8Djo2NIyviv1Ueqj0Cdre/F6LR+Vv51j85sLOOKN/8P5Z+98JJafi/Th6gVz3A9D8o73mFGjb8P3jBktx9Xe6/+JRxv6vz4D8J8p5KFmD3v9217C9L1vq/50esVNGV7b9lwB5GdV28v2zxzw4Ppuk/AfNOzam1079BW/wxqckCwIiW+Vp/Umc/ZDbhFiey9j8hbY190FrIP8bSHqOcj/U/cCXyYUWRzL/LfcwawwHAv/TkBkF/PuO/vKgPfC0H5D86XntMzeffP9bdAvZmzvG/ZqX+uCUuyD+0N0eL3pvrPwZACi4gZ+4/3Smk2EUT9z8=",
        "encoding": "base64",
        "path": [
         "y",
         "value"
        ]
       }
      ],
      "model_module": "bqplot",
      "model_module_version": "^0.5.3",
      "model_name": "LinesModel",
      "state": {
       "_model_module_version": "^0.5.3",
       "_view_module_version": "^0.5.3",
       "fill_colors": [],
       "labels": [
        "C1"
       ],
       "scales": {
        "x": "IPY_MODEL_acd62a19a6f048718d0bdfbb41f85811",
        "y": "IPY_MODEL_a26fbbf9b6244f7f827879597d2a3aef"
       },
       "x": {
        "dtype": "int32",
        "shape": [
         100
        ],
        "type": null
       },
       "y": {
        "dtype": "float64",
        "shape": [
         100
        ],
        "type": null
       }
      }
     },
     "1a9047ac72e34a92be6d7333bd7c9787": {
      "model_module": "@jupyter-widgets/controls",
      "model_module_version": "1.5.0",
      "model_name": "DescriptionStyleModel",
      "state": {
       "description_width": ""
      }
     },
     "1af5582ab1394e5cb29d7ba81ce5b4a7": {
      "buffers": [
       {
        "data": "AAAAAAAAAAA3YKimYy6xPzdgqKZjLsE/UpD8eZXFyT83YKimYy7RP0V4UpD8edU/UpD8eZXF2T9gqKZjLhHePzdgqKZjLuE/Pmx9GzBU4z9FeFKQ/HnlP0yEJwXJn+c/UpD8eZXF6T9ZnNHuYevrP2CopmMuEe4/NNo9bH0b8D83YKimYy7xPzrmEuFJQfI/Pmx9GzBU8z9B8udVFmf0P0V4UpD8efU/SP68yuKM9j9MhCcFyZ/3P08Kkj+vsvg/UpD8eZXF+T9WFme0e9j6P1mc0e5h6/s/XSI8KUj+/D9gqKZjLhH+P2QuEZ4UJP8/NNo9bH0bAEA1HXOJ8KQAQDdgqKZjLgFAOaPdw9a3AUA65hLhSUECQDwpSP68ygJAPmx9GzBUA0BAr7I4o90DQEHy51UWZwRAQzUdc4nwBEBFeFKQ/HkFQEa7h61vAwZASP68yuKMBkBKQfLnVRYHQEyEJwXJnwdATcdcIjwpCEBPCpI/r7IIQFFNx1wiPAlAUpD8eZXFCUBU0zGXCE8KQFYWZ7R72ApAWFmc0e5hC0BZnNHuYesLQFvfBgzVdAxAXSI8KUj+DEBfZXFGu4cNQGCopmMuEQ5AYuvbgKGaDkBkLhGeFCQPQGVxRruHrQ9ANNo9bH0bEEC0e9j6NmAQQDUdc4nwpBBAtr4NGKrpEEA3YKimYy4RQLgBQzUdcxFAOaPdw9a3EUC6RHhSkPwRQDrmEuFJQRJAu4etbwOGEkA8KUj+vMoSQL3K4ox2DxNAPmx9GzBUE0C/DRiq6ZgTQECvsjij3RNAwFBNx1wiFEBB8udVFmcUQMKTguTPqxRAQzUdc4nwFEDE1rcBQzUVQEV4UpD8eRVAxhntHra+FUBGu4etbwMWQMdcIjwpSBZASP68yuKMFkDJn1dZnNEWQEpB8udVFhdAy+KMdg9bF0BMhCcFyZ8XQMwlwpOC5BdATcdcIjwpGEDOaPew9W0YQE8Kkj+vshhA0Ksszmj3GEBRTcdcIjwZQNLuYevbgBlAUpD8eZXFGUDTMZcITwoaQFTTMZcITxpA1XTMJcKTGkBWFme0e9gaQNe3AUM1HRtAWFmc0e5hG0DZ+jZgqKYbQFmc0e5h6xtA2j1sfRswHEBb3wYM1XQcQNyAoZqOuRxAXSI8KUj+HEDew9a3AUMdQF9lcUa7hx1A3wYM1XTMHUBgqKZjLhEeQOFJQfLnVR5AYuvbgKGaHkDjjHYPW98eQGQuEZ4UJB9A5c+rLM5oH0BlcUa7h60fQOYS4UlB8h9ANNo9bH0bIED0Kosz2j0gQLR72Po2YCBAdcwlwpOCIEA1HXOJ8KQgQPZtwFBNxyBAtr4NGKrpIEB3D1vfBgwhQDdgqKZjLiFA97D1bcBQIUC4AUM1HXMhQHhSkPx5lSFAOaPdw9a3IUD58yqLM9ohQLpEeFKQ/CFAepXFGe0eIkA65hLhSUEiQPs2YKimYyJAu4etbwOGIkB82Po2YKgiQDwpSP68yiJA/XmVxRntIkC9yuKMdg8jQH0bMFTTMSNAPmx9GzBUI0D+vMrijHYjQL8NGKrpmCNAf15lcUa7I0BAr7I4o90jQAAAAAAAACRA",
        "encoding": "base64",
        "path": [
         "x",
         "value"
        ]
       },
       {
        "data": "tO7dTL3GUkALResmK4RSQEgIq+xF6lJAtBbgu2XaUkDV9noxWs1SQMWuNRKlQlNAKLcBT0xkU0DPImJcYWdTQMZDbzMeoFNAWKWvKVtlU0D6u9tnlN5TQBTJ+a8iklNAewyuX/VkU0CrA8LWepdTQOZa/bDIiVNAFNPdAbNcU0Dix6/rzpZTQKRzuAmHLVNAAQV6kSlgU0CheZwKmUZTQEhY38oVQlNA+WTNoUxRU0BAHGN+8vNSQOqcTxQAoVJAwmG5bLIBU0B7HlRgPzxTQOYyo0s3H1NA9qIiELYaU0AHLmHRhMFSQDD2cqXa5FJA+UOpaTIYU0Aoa3ArQUdTQI2e52UFcFNA/c7KQfetU0A7sdewKEZTQEN5cSwFhVNAwJOvePm6U0CA7HNBooJTQEMkFZdClVNA8ndJTVqmU0DySPg3JQBUQClUUeoP7lNA1FzjwyXtU0CUnhN6OMRTQAyKXUQOKFRAuVw/nmlSVEDi9LjyO1BUQHDj5JIvh1RAEK4uqEm8VEBW1qm/uJ1UQEE+a4Tqi1RApyXjKqk0VECO5xXlmD5UQEKI0AST71NAINTitXDxU0C2G+jYrvRTQFjzYsQvgVRAYQf11oxGVEBC+dRhnPBTQPM+Z8NRXlRATv47ubFyVECrMwqUrqpUQJJHYWYOZ1RAHjMfp0ZFVEDMn4RaAUVUQAZmhTEWclRAoLVXJ0CGVED5Aqq+wYtUQHo443zpY1RAHXg10z9rVEAcLGkVWoJUQPU4kjpyWlRACBLuKZJdVEC+Z0EBu9VUQDRIaRHB+1RA92JX35L/VECG6uRww+tUQPzZ0Sru0lRA7CBUypjMVEDcTKAZT/dUQDrzu0QTK1VApvxhy3VTVUBABz+XljtVQG/uFD2eC1VAQB3NvxMKVUDc/1PsNSFVQKpv+FAwyFRA5ajxe7rfVEBbwLd7VeJUQC3jKL2/8VRAHHcPuVHYVEBcMlSZhHtUQBW4WL+zVFRAQDsknxRwVEA9Rzw/vnJUQHUaozNc0FRAllHs0AvVVEC0e8sgXuhUQHkPunuwqVRAe4MllaPRVED6a2Yo+jtUQG62Q85MnVRAe1fLaHB3VEBHEuvKHqRUQCIETNQZoVRAJecHRHt5VEB2a8RL5VdUQOQ0hcOsd1RArD8sggFcVECQeUmrrFtUQB365tpEcFRAa1BTRMuvVEC05ZoPzrpUQPReYbzYjlRAGNl32HT6VEArQUXUbhpVQAutDZ7yDlVAc49cGiU4VUDxIlEINA9VQJTVrNYH21RAkIMsx2zqVEBS2xj7brlUQAGZpZKtiFRAcM1zDweEVEDiKHnQSdJUQJc5ZqHtFVVApJm+8DH4VEAkLO2kuKxUQCpr87x+d1RAqtmQrkf8VEDetplu9vFUQCFBA/LgAlVAmFDbtxr6VEChohSsjixVQASeBToAIVVAOh7fWq4JVUDrWpjmWrBUQFoIPFJ8uVRAJmWoxhaLVEDPtjTC1WdUQBze6bjTdFRA9l5spYWhVED8y/YScKNUQJMSyANWhlRAihm0Tl4/VEBkjPBGwgtUQBGK9FWX0VNAItUX3gy4U0A48lftQNxTQKZxFVngdVNA",
        "encoding": "base64",
        "path": [
         "y",
         "value"
        ]
       }
      ],
      "model_module": "bqplot",
      "model_module_version": "^0.5.3",
      "model_name": "LinesModel",
      "state": {
       "_model_module_version": "^0.5.3",
       "_view_module_version": "^0.5.3",
       "colors": [
        "green"
       ],
       "display_legend": true,
       "fill_colors": [],
       "labels": [
        "Security 2 squared"
       ],
       "scales": {
        "x": "IPY_MODEL_4eba90e9c5de4146b6a2fdee312c4ae4",
        "y": "IPY_MODEL_b80ae359193644dca5eb2e0f2cb4c0c2"
       },
       "x": {
        "dtype": "float64",
        "shape": [
         150
        ],
        "type": null
       },
       "y": {
        "dtype": "float64",
        "shape": [
         150
        ],
        "type": null
       }
      }
     },
     "1c404a89ab624837a07a52771b498efb": {
      "model_module": "bqplot",
      "model_module_version": "^0.5.3",
      "model_name": "LinearScaleModel",
      "state": {
       "_model_module_version": "^0.5.3",
       "_view_module_version": "^0.5.3",
       "allow_padding": false,
       "max": 1,
       "min": 0,
       "stabilized": false
      }
     },
     "1d4c7ff50018485098466e8ca6ae0660": {
      "buffers": [
       {
        "data": "AAAAAAAAAAA3YKimYy6xPzdgqKZjLsE/UpD8eZXFyT83YKimYy7RP0V4UpD8edU/UpD8eZXF2T9gqKZjLhHePzdgqKZjLuE/Pmx9GzBU4z9FeFKQ/HnlP0yEJwXJn+c/UpD8eZXF6T9ZnNHuYevrP2CopmMuEe4/NNo9bH0b8D83YKimYy7xPzrmEuFJQfI/Pmx9GzBU8z9B8udVFmf0P0V4UpD8efU/SP68yuKM9j9MhCcFyZ/3P08Kkj+vsvg/UpD8eZXF+T9WFme0e9j6P1mc0e5h6/s/XSI8KUj+/D9gqKZjLhH+P2QuEZ4UJP8/NNo9bH0bAEA1HXOJ8KQAQDdgqKZjLgFAOaPdw9a3AUA65hLhSUECQDwpSP68ygJAPmx9GzBUA0BAr7I4o90DQEHy51UWZwRAQzUdc4nwBEBFeFKQ/HkFQEa7h61vAwZASP68yuKMBkBKQfLnVRYHQEyEJwXJnwdATcdcIjwpCEBPCpI/r7IIQFFNx1wiPAlAUpD8eZXFCUBU0zGXCE8KQFYWZ7R72ApAWFmc0e5hC0BZnNHuYesLQFvfBgzVdAxAXSI8KUj+DEBfZXFGu4cNQGCopmMuEQ5AYuvbgKGaDkBkLhGeFCQPQGVxRruHrQ9ANNo9bH0bEEC0e9j6NmAQQDUdc4nwpBBAtr4NGKrpEEA3YKimYy4RQLgBQzUdcxFAOaPdw9a3EUC6RHhSkPwRQDrmEuFJQRJAu4etbwOGEkA8KUj+vMoSQL3K4ox2DxNAPmx9GzBUE0C/DRiq6ZgTQECvsjij3RNAwFBNx1wiFEBB8udVFmcUQMKTguTPqxRAQzUdc4nwFEDE1rcBQzUVQEV4UpD8eRVAxhntHra+FUBGu4etbwMWQMdcIjwpSBZASP68yuKMFkDJn1dZnNEWQEpB8udVFhdAy+KMdg9bF0BMhCcFyZ8XQMwlwpOC5BdATcdcIjwpGEDOaPew9W0YQE8Kkj+vshhA0Ksszmj3GEBRTcdcIjwZQNLuYevbgBlAUpD8eZXFGUDTMZcITwoaQFTTMZcITxpA1XTMJcKTGkBWFme0e9gaQNe3AUM1HRtAWFmc0e5hG0DZ+jZgqKYbQFmc0e5h6xtA2j1sfRswHEBb3wYM1XQcQNyAoZqOuRxAXSI8KUj+HEDew9a3AUMdQF9lcUa7hx1A3wYM1XTMHUBgqKZjLhEeQOFJQfLnVR5AYuvbgKGaHkDjjHYPW98eQGQuEZ4UJB9A5c+rLM5oH0BlcUa7h60fQOYS4UlB8h9ANNo9bH0bIED0Kosz2j0gQLR72Po2YCBAdcwlwpOCIEA1HXOJ8KQgQPZtwFBNxyBAtr4NGKrpIEB3D1vfBgwhQDdgqKZjLiFA97D1bcBQIUC4AUM1HXMhQHhSkPx5lSFAOaPdw9a3IUD58yqLM9ohQLpEeFKQ/CFAepXFGe0eIkA65hLhSUEiQPs2YKimYyJAu4etbwOGIkB82Po2YKgiQDwpSP68yiJA/XmVxRntIkC9yuKMdg8jQH0bMFTTMSNAPmx9GzBUI0D+vMrijHYjQL8NGKrpmCNAf15lcUa7I0BAr7I4o90jQAAAAAAAACRA",
        "encoding": "base64",
        "path": [
         "x",
         "value"
        ]
       },
       {
        "data": "WoiU/IUfOUBDumk0IOc4QAJPyZTTLjlA6+0yWGg2OUAUdELZDxk5QFpAaMDsVDlAe6Otam2DOUCJe14ZB6s5QFncswUQvjlAn4Q8RwKhOUA5+4rEaPU5QIDaYYe7vTlAupZNiLmqOUA0JHRFp8E5QP9AFmO33DlAqueqPhm8OUDcShdkuuc5QANj0jJ4mjlAmHw+O5HMOUCbX+TGU9I5QIor/9d0zTlAbAnv0InLOUAUZevkE3Y5QMBaGEtfNDlAAs0119t/OUA0000/Br05QEjzxcGrzjlAfVNKPoTYOUCQ3vZL6585QMvkDiu6oTlAA8idyCfLOUBkklmux+U5QO2VKmaxJDpAKRY2VSlPOkCF2N0ure45QNLRSOevNzpA6Xtg2F1xOkATwDEL1Ww6QA5Q+4W8gDpA7hhp5nCqOkARfLF+bP86QGO69LEc9jpAAMI5VF7aOkCBdI9X5J46QEKjohAi/zpAUOFejws1O0AjDwJvlSI7QAiIz71pQDtAT1UkuKddO0CJ9TmOEE47QAlzBVi4SjtAlpTIjCITO0AV6aUznhQ7QEYvTAIG3zpAVyUEaEr2OkBc1kk7Ct06QOar/83XMztAO7FiRUkFO0Dm0pp+sbo6QMRax+jpHjtAQf1VAdwpO0BGXl9WOlQ7QIzngbwDKDtApg71sXHqOkAum9p1iso6QIKV70ss3zpAzXOWyrvmOkDYnY6H3Ok6QGTtjRCkwTpA5x2pkTrQOkAbPCzJKOE6QAx39t4a2TpANP5ABIbhOkAShfzvDSA7QFLpUEXlQztAin03kRxQO0BRzsPlFkU7QPP/CwqqOztAHu1s36U6O0BLtnxjG1Y7QIB9fDG/TztAci8qSMpEO0Ans2HBnz47QLkPT9qsDztAheR9UX8AO0AuvEjW4Qs7QHkVCsKkzDpAMSBXprLaOkDP5BuxtuA6QJQMzJmO4DpATAap0MTBOkDD7eaTCmg6QNhI9vslYDpAFc6SbYBzOkBOPZeOi4c6QJQZCBv+wDpAoHTEXFeoOkDFV+PqQKY6QGgJZA6qejpATTDBB3CkOkBa70srJDE6QC5KcE7PlDpAHFH/Oi+JOkBsYEUu5K86QO8pEkk0jTpAEV5qiKqaOkBsqOs7oWc6QI80aR1OmTpAiD8ZJDx4OkDsVweHW1U6QGovMA/ZfTpAouIULIOfOkCImMLfgbI6QEsmQ6XRazpAlExZ/N+kOkCZqDaLmKw6QDTmGUFnnzpAN2/1fDPSOkA7RF5EpqI6QEF/PTYXjzpANrpJe7KMOkCaaoLI3lk6QExxGVy+IzpAOycYHM0YOkDqLT3aXzk6QPMmI55UiTpAGcKk+9psOkCTiBrgAzU6QDAObjCdFzpAr/wJTUx0OkAW6P3kgFs6QEVma3lXUTpAtAVgc0hLOkDkwUwT4nU6QDC7faiDWzpA4uHya9BBOkC/JPsiDRI6QJmJO9MFCTpAolTSOqDWOUAOaHHQAbM5QGX6fwecuzlAxJAoGI2/OUBF+/9NE7I5QKysNKZdsDlAaRweiEx2OUCju9PA7205QA1CqXCnNTlAGbR7vm5OOUBPELQ9XWs5QA34u6XbNDlA",
        "encoding": "base64",
        "path": [
         "y",
         "value"
        ]
       }
      ],
      "model_module": "bqplot",
      "model_module_version": "^0.5.3",
      "model_name": "LinesModel",
      "state": {
       "_model_module_version": "^0.5.3",
       "_view_module_version": "^0.5.3",
       "display_legend": true,
       "fill_colors": [],
       "labels": [
        "Security 1"
       ],
       "scales": {
        "x": "IPY_MODEL_227cddda0bd148f39b61a2b3d1def394",
        "y": "IPY_MODEL_b80ae359193644dca5eb2e0f2cb4c0c2"
       },
       "x": {
        "dtype": "float64",
        "shape": [
         150
        ],
        "type": null
       },
       "y": {
        "dtype": "float64",
        "shape": [
         150
        ],
        "type": null
       }
      }
     },
     "1e8c0d7955da43fdb392f9543d5c26c0": {
      "model_module": "bqplot",
      "model_module_version": "^0.5.3",
      "model_name": "HandDrawModel",
      "state": {
       "_model_module_version": "^0.5.3",
       "_view_module_version": "^0.5.3",
       "lines": "IPY_MODEL_b721d7ed1e3c433fa4c5471e0d8e5bcf"
      }
     },
     "1fdca9fad0ec486794c75a7330d6033c": {
      "model_module": "bqplot",
      "model_module_version": "^0.5.3",
      "model_name": "AxisModel",
      "state": {
       "_model_module_version": "^0.5.3",
       "_view_module_version": "^0.5.3",
       "label": "Security 1 Price",
       "orientation": "vertical",
       "scale": "IPY_MODEL_d1ace1d3268e426c9bd8696dcac74ebb",
       "side": "left",
       "tick_values": null
      }
     },
     "20ed2d955c4e4ad2a3e01f3ea6b79326": {
      "model_module": "bqplot",
      "model_module_version": "^0.5.3",
      "model_name": "LinearScaleModel",
      "state": {
       "_model_module_version": "^0.5.3",
       "_view_module_version": "^0.5.3",
       "stabilized": false
      }
     },
     "21ae1bfb03fb42a68c6ca4941e68cc1a": {
      "model_module": "bqplot",
      "model_module_version": "^0.5.3",
      "model_name": "LinearScaleModel",
      "state": {
       "_model_module_version": "^0.5.3",
       "_view_module_version": "^0.5.3",
       "allow_padding": false,
       "max": 1,
       "min": 0,
       "stabilized": false
      }
     },
     "227cddda0bd148f39b61a2b3d1def394": {
      "model_module": "bqplot",
      "model_module_version": "^0.5.3",
      "model_name": "LinearScaleModel",
      "state": {
       "_model_module_version": "^0.5.3",
       "_view_module_version": "^0.5.3",
       "stabilized": false
      }
     },
     "22c03648b28148e1ac87f1b1d0e4e2eb": {
      "model_module": "bqplot",
      "model_module_version": "^0.5.3",
      "model_name": "AxisModel",
      "state": {
       "_model_module_version": "^0.5.3",
       "_view_module_version": "^0.5.3",
       "label": "X",
       "scale": "IPY_MODEL_3e14b18e83d844268bfaa6527ab6f694",
       "side": "bottom",
       "tick_values": null
      }
     },
     "2573a6b82555448aacf29d38add61ddf": {
      "model_module": "@jupyter-widgets/base",
      "model_module_version": "1.2.0",
      "model_name": "LayoutModel",
      "state": {}
     },
     "2681060cd06f4b45bf8c5862baea6b6f": {
      "model_module": "bqplot",
      "model_module_version": "^0.5.3",
      "model_name": "LinearScaleModel",
      "state": {
       "_model_module_version": "^0.5.3",
       "_view_module_version": "^0.5.3",
       "allow_padding": false,
       "max": 1,
       "min": 0,
       "stabilized": false
      }
     },
     "26c8f8e258104e30a5dd30986997316d": {
      "model_module": "bqplot",
      "model_module_version": "^0.5.3",
      "model_name": "DateScaleModel",
      "state": {
       "_model_module_version": "^0.5.3",
       "_view_module_version": "^0.5.3",
       "min": "2007-01-01T00:00:00.000000"
      }
     },
     "26e6ce810d4e4de7b37d1636cbc06b54": {
      "model_module": "@jupyter-widgets/base",
      "model_module_version": "1.2.0",
      "model_name": "LayoutModel",
      "state": {}
     },
     "2749b0d8996e41d780c62ba7cc457a3b": {
      "model_module": "bqplot",
      "model_module_version": "^0.5.3",
      "model_name": "DateScaleModel",
      "state": {
       "_model_module_version": "^0.5.3",
       "_view_module_version": "^0.5.3",
       "min": "2007-01-01T00:00:00.000000"
      }
     },
     "27a9b4de4eef4586939a431c40355cc1": {
      "model_module": "bqplot",
      "model_module_version": "^0.5.3",
      "model_name": "LinearScaleModel",
      "state": {
       "_model_module_version": "^0.5.3",
       "_view_module_version": "^0.5.3",
       "allow_padding": false,
       "max": 1,
       "min": 0,
       "stabilized": false
      }
     },
     "2899910010824ca99ca39a5979f55637": {
      "model_module": "@jupyter-widgets/base",
      "model_module_version": "1.2.0",
      "model_name": "LayoutModel",
      "state": {}
     },
     "28b845bec2a2455d99356e948570237a": {
      "model_module": "bqplot",
      "model_module_version": "^0.5.3",
      "model_name": "MultiSelectorModel",
      "state": {
       "_model_module_version": "^0.5.3",
       "_view_module_version": "^0.5.3",
       "color": null,
       "marks": [
        "IPY_MODEL_1d4c7ff50018485098466e8ca6ae0660",
        "IPY_MODEL_d670a57487a349019d117e15f6067f0b"
       ],
       "orientation": "horizontal",
       "scale": "IPY_MODEL_2749b0d8996e41d780c62ba7cc457a3b"
      }
     },
     "28cb6261a3614bbc8efd0ed83ebd3566": {
      "model_module": "@jupyter-widgets/controls",
      "model_module_version": "1.5.0",
      "model_name": "DescriptionStyleModel",
      "state": {
       "description_width": ""
      }
     },
     "29aab346a3ff413ea02e1a3338798ec3": {
      "model_module": "bqplot",
      "model_module_version": "^0.5.3",
      "model_name": "LinearScaleModel",
      "state": {
       "_model_module_version": "^0.5.3",
       "_view_module_version": "^0.5.3",
       "stabilized": false
      }
     },
     "29ca4a3ceb174f318f676bc8d4d17b94": {
      "model_module": "@jupyter-widgets/controls",
      "model_module_version": "1.5.0",
      "model_name": "HTMLModel",
      "state": {
       "layout": "IPY_MODEL_9b5524e0a6fb42d5a42085cfc3f56113",
       "style": "IPY_MODEL_8165c38d55ab454fab034971204059cc",
       "value": "[]"
      }
     },
     "2a1a9a94e08343b48e18d416d0cf6b1d": {
      "model_module": "bqplot",
      "model_module_version": "^0.5.3",
      "model_name": "LinearScaleModel",
      "state": {
       "_model_module_version": "^0.5.3",
       "_view_module_version": "^0.5.3",
       "stabilized": false
      }
     },
     "2bc0299a83144426839de5a43b9a7eca": {
      "model_module": "bqplot",
      "model_module_version": "^0.5.3",
      "model_name": "PanZoomModel",
      "state": {
       "_model_module_version": "^0.5.3",
       "_view_module_version": "^0.5.3",
       "scales": {
        "x": [
         "IPY_MODEL_2749b0d8996e41d780c62ba7cc457a3b"
        ],
        "y": [
         "IPY_MODEL_b80ae359193644dca5eb2e0f2cb4c0c2"
        ]
       }
      }
     },
     "2cd614a78f1342b8aabc81d692f56baa": {
      "model_module": "bqplot",
      "model_module_version": "^0.5.3",
      "model_name": "BrushSelectorModel",
      "state": {
       "_model_module_version": "^0.5.3",
       "_view_module_version": "^0.5.3",
       "marks": [
        "IPY_MODEL_513415bf9c944854bb9199a5f2a3bf57"
       ],
       "x_scale": "IPY_MODEL_00f6aee200444cee86e5a9b7f346c49e",
       "y_scale": "IPY_MODEL_cd9dd453ef134a6a8462d053a83dab4e"
      }
     },
     "2fb182be5ab64af4922b84bd4a780f50": {
      "model_module": "bqplot",
      "model_module_version": "^0.5.3",
      "model_name": "FigureModel",
      "state": {
       "_dom_classes": [],
       "_model_module_version": "^0.5.3",
       "_view_module_version": "^0.5.3",
       "axes": [
        "IPY_MODEL_3ce9e69dbd624a1eb96787710ea47a8c",
        "IPY_MODEL_5c8ebc3a04574564b2e4b1c1802f0621"
       ],
       "interaction": "IPY_MODEL_97f4031762a4430bab61e915fb3bcb29",
       "layout": "IPY_MODEL_d8b5c1984ac247bca8e9d1f7c2ac6e15",
       "marks": [
        "IPY_MODEL_5494d197d792469082c290dce239e532",
        "IPY_MODEL_4555fdab016243ad89e3db04c3629d4b"
       ],
       "scale_x": "IPY_MODEL_21ae1bfb03fb42a68c6ca4941e68cc1a",
       "scale_y": "IPY_MODEL_9b889c48425d417fa83c5cd4704036d2",
       "title": "Fast Interval Selector Example"
      }
     },
     "30743430522b4917ac1853e2d844e037": {
      "model_module": "bqplot",
      "model_module_version": "^0.5.3",
      "model_name": "FigureModel",
      "state": {
       "_dom_classes": [],
       "_model_module_version": "^0.5.3",
       "_view_module_version": "^0.5.3",
       "axes": [
        "IPY_MODEL_b1a943b6b9754e9ebf482d8ec3ebdc78",
        "IPY_MODEL_dd7ff204fa6b4a9080f23082f5948697"
       ],
       "interaction": "IPY_MODEL_2cd614a78f1342b8aabc81d692f56baa",
       "layout": "IPY_MODEL_2573a6b82555448aacf29d38add61ddf",
       "marks": [
        "IPY_MODEL_513415bf9c944854bb9199a5f2a3bf57"
       ],
       "scale_x": "IPY_MODEL_8f542102f6c1486e9c0de117c5df6655",
       "scale_y": "IPY_MODEL_74f8d05d3dee4556a17e9af9457c4614",
       "title": "Brush Selector with Dates Example"
      }
     },
     "3283b8d6ca1f41fcb9f0fe430ed9d85d": {
      "model_module": "bqplot",
      "model_module_version": "^0.5.3",
      "model_name": "LinearScaleModel",
      "state": {
       "_model_module_version": "^0.5.3",
       "_view_module_version": "^0.5.3",
       "allow_padding": false,
       "max": 1,
       "min": 0,
       "stabilized": false
      }
     },
     "34be4321d5b042a9b0869759a2ae7a3e": {
      "model_module": "bqplot",
      "model_module_version": "^0.5.3",
      "model_name": "LinearScaleModel",
      "state": {
       "_model_module_version": "^0.5.3",
       "_view_module_version": "^0.5.3",
       "stabilized": false
      }
     },
     "3506f91b75754cb39b938f7db01f97be": {
      "model_module": "bqplot",
      "model_module_version": "^0.5.3",
      "model_name": "MultiSelectorModel",
      "state": {
       "_model_module_version": "^0.5.3",
       "_selected": {},
       "_view_module_version": "^0.5.3",
       "color": null,
       "marks": [
        "IPY_MODEL_17ec40d56486456ea663605d2506ff03"
       ],
       "names": [
        "int1",
        "int2",
        "int3"
       ],
       "orientation": "horizontal",
       "scale": "IPY_MODEL_acd62a19a6f048718d0bdfbb41f85811"
      }
     },
     "36e63a2196ca4e79892edb3956dd968a": {
      "model_module": "@jupyter-widgets/controls",
      "model_module_version": "1.5.0",
      "model_name": "HTMLModel",
      "state": {
       "layout": "IPY_MODEL_3d0d1af46f774c11b77be981f326b4de",
       "style": "IPY_MODEL_72e6495efaea40c9a25dfd540359bb86",
       "value": "None"
      }
     },
     "37c23b16186145748a6d9fd9167e61fe": {
      "model_module": "@jupyter-widgets/base",
      "model_module_version": "1.2.0",
      "model_name": "LayoutModel",
      "state": {}
     },
     "3c84d1f568be49a6a2792c1a54f09eb9": {
      "model_module": "bqplot",
      "model_module_version": "^0.5.3",
      "model_name": "LinearScaleModel",
      "state": {
       "_model_module_version": "^0.5.3",
       "_view_module_version": "^0.5.3",
       "allow_padding": false,
       "max": 1,
       "min": 0,
       "stabilized": false
      }
     },
     "3ce9e69dbd624a1eb96787710ea47a8c": {
      "model_module": "bqplot",
      "model_module_version": "^0.5.3",
      "model_name": "AxisModel",
      "state": {
       "_model_module_version": "^0.5.3",
       "_view_module_version": "^0.5.3",
       "label": "Index",
       "scale": "IPY_MODEL_b28acc94d9074e86b5fb07a4a7224697",
       "side": "bottom",
       "tick_values": null
      }
     },
     "3d0d1af46f774c11b77be981f326b4de": {
      "model_module": "@jupyter-widgets/base",
      "model_module_version": "1.2.0",
      "model_name": "LayoutModel",
      "state": {}
     },
     "3e14b18e83d844268bfaa6527ab6f694": {
      "model_module": "bqplot",
      "model_module_version": "^0.5.3",
      "model_name": "LinearScaleModel",
      "state": {
       "_model_module_version": "^0.5.3",
       "_view_module_version": "^0.5.3",
       "stabilized": false
      }
     },
     "405dcd8598e34ebf9417c4e9c07cd040": {
      "model_module": "bqplot",
      "model_module_version": "^0.5.3",
      "model_name": "LinearScaleModel",
      "state": {
       "_model_module_version": "^0.5.3",
       "_view_module_version": "^0.5.3",
       "allow_padding": false,
       "max": 1,
       "min": 0,
       "stabilized": false
      }
     },
     "4113231bdcec404698e28dc86a81c23a": {
      "model_module": "@jupyter-widgets/controls",
      "model_module_version": "1.5.0",
      "model_name": "VBoxModel",
      "state": {
       "children": [
        "IPY_MODEL_36e63a2196ca4e79892edb3956dd968a",
        "IPY_MODEL_0458fb46dc7d4405bdfbc091104f1efc"
       ],
       "layout": "IPY_MODEL_58bb0ab35ee640ad9658f79b9b9bffb9"
      }
     },
     "413ba3128828427486cb9b36377c5768": {
      "model_module": "bqplot",
      "model_module_version": "^0.5.3",
      "model_name": "LinearScaleModel",
      "state": {
       "_model_module_version": "^0.5.3",
       "_view_module_version": "^0.5.3",
       "allow_padding": false,
       "max": 1,
       "min": 0,
       "stabilized": false
      }
     },
     "43afa868b9324486b449e9ad54eb7aa4": {
      "model_module": "@jupyter-widgets/base",
      "model_module_version": "1.2.0",
      "model_name": "LayoutModel",
      "state": {}
     },
     "443985412d4c4ff0b5e2955a993e8492": {
      "model_module": "bqplot",
      "model_module_version": "^0.5.3",
      "model_name": "LinearScaleModel",
      "state": {
       "_model_module_version": "^0.5.3",
       "_view_module_version": "^0.5.3",
       "allow_padding": false,
       "max": 1,
       "min": 0,
       "stabilized": false
      }
     },
     "449cfc74ded54a55a611279d2f5649d8": {
      "model_module": "bqplot",
      "model_module_version": "^0.5.3",
      "model_name": "AxisModel",
      "state": {
       "_model_module_version": "^0.5.3",
       "_view_module_version": "^0.5.3",
       "grid_lines": "none",
       "label": "Freq",
       "orientation": "vertical",
       "scale": "IPY_MODEL_20ed2d955c4e4ad2a3e01f3ea6b79326",
       "side": "left",
       "tick_values": null
      }
     },
     "4555fdab016243ad89e3db04c3629d4b": {
      "buffers": [
       {
        "data": "AAAAKccNcUIAAMCOGQ5xQgAAgPRrDnFCAABAWr4OcUIAAADAEA9xQgAAwCVjD3FCAACAi7UPcUIAAEDxBxBxQgAAAFdaEHFCAADAvKwQcUIAAIAi/xBxQgAAQIhREXFCAAAA7qMRcUIAAMBT9hFxQgAAgLlIEnFCAABAH5sScUIAAACF7RJxQgAAwOo/E3FCAACAUJITcUIAAEC25BNxQgAAABw3FHFCAADAgYkUcUIAAIDn2xRxQgAAQE0uFXFCAAAAs4AVcUIAAMAY0xVxQgAAgH4lFnFCAABA5HcWcUIAAABKyhZxQgAAwK8cF3FCAACAFW8XcUIAAEB7wRdxQgAAAOETGHFCAADARmYYcUIAAICsuBhxQgAAQBILGXFCAAAAeF0ZcUIAAMDdrxlxQgAAgEMCGnFCAABAqVQacUIAAAAPpxpxQgAAwHT5GnFCAACA2ksbcUIAAEBAnhtxQgAAAKbwG3FCAADAC0MccUIAAIBxlRxxQgAAQNfnHHFCAAAAPTodcUIAAMCijB1xQgAAgAjfHXFCAABAbjEecUIAAADUgx5xQgAAwDnWHnFCAACAnygfcUIAAEAFex9xQgAAAGvNH3FCAADA0B8gcUIAAIA2ciBxQgAAQJzEIHFCAAAAAhchcUIAAMBnaSFxQgAAgM27IXFCAABAMw4icUIAAACZYCJxQgAAwP6yInFCAACAZAUjcUIAAEDKVyNxQgAAADCqI3FCAADAlfwjcUIAAID7TiRxQgAAQGGhJHFCAAAAx/MkcUIAAMAsRiVxQgAAgJKYJXFCAABA+OolcUIAAABePSZxQgAAwMOPJnFCAACAKeImcUIAAECPNCdxQgAAAPWGJ3FCAADAWtkncUIAAIDAKyhxQgAAQCZ+KHFCAAAAjNAocUIAAMDxIilxQgAAgFd1KXFCAABAvccpcUIAAAAjGipxQgAAwIhsKnFCAACA7r4qcUIAAEBUEStxQgAAALpjK3FCAADAH7YrcUIAAICFCCxxQgAAQOtaLHFCAAAAUa0scUIAAMC2/yxxQgAAgBxSLXFCAABAgqQtcUI=",
        "encoding": "base64",
        "path": [
         "x",
         "value"
        ]
       },
       {
        "data": "CXMFWLjKW0CWlMiMIpNbQBXppTOelFtARi9MAgZfW0BXJQRoSnZbQFzWSTsKXVtA5qv/zdezW0A7sWJFSYVbQObSmn6xOltAxFrH6OmeW0BB/VUB3KlbQEZeX1Y61FtAjOeBvAOoW0CmDvWxcWpbQC6b2nWKSltAgpXvSyxfW0DNc5bKu2ZbQNidjofcaVtAZO2NEKRBW0DnHamROlBbQBs8LMkoYVtADHf23hpZW0A0/kAEhmFbQBKF/O8NoFtAUulQReXDW0CKfTeRHNBbQFHOw+UWxVtA8/8LCqq7W0Ae7WzfpbpbQEu2fGMb1ltAgH18Mb/PW0ByLypIysRbQCezYcGfvltAuQ9P2qyPW0CF5H1Rf4BbQC68SNbhi1tAeRUKwqRMW0AxIFemslpbQM/kG7G2YFtAlAzMmY5gW0BMBqnQxEFbQMPt5pMK6FpA2Ej2+yXgWkAVzpJtgPNaQE49l46LB1tAlBkIG/5AW0CgdMRcVyhbQMVX4+pAJltAaAlkDqr6WkBNMMEHcCRbQFrvSysksVpALkpwTs8UW0AcUf86LwlbQGxgRS7kL1tA7ykSSTQNW0ARXmqIqhpbQGyo6zuh51pAjzRpHU4ZW0CIPxkkPPhaQOxXB4db1VpAai8wD9n9WkCi4hQsgx9bQIiYwt+BMltASyZDpdHrWkCUTFn83yRbQJmoNouYLFtANOYZQWcfW0A3b/V8M1JbQDtEXkSmIltAQX89NhcPW0A2ukl7sgxbQJpqgsje2VpATHEZXL6jWkA7JxgczZhaQOotPdpfuVpA8yYjnlQJW0AZwqT72uxaQJOIGuADtVpAMA5uMJ2XWkCv/AlNTPRaQBbo/eSA21pARWZreVfRWkC0BWBzSMtaQOTBTBPi9VpAMLt9qIPbWkDi4fJr0MFaQL8k+yINklpAmYk70wWJWkCiVNI6oFZaQA5ocdABM1pAZfp/B5w7WkDEkCgYjT9aQEX7/00TMlpArKw0pl0wWkBpHB6ITPZZQKO708Dv7VlADUKpcKe1WUAZtHu+bs5ZQE8QtD1d61lADfi7pdu0WUA=",
        "encoding": "base64",
        "path": [
         "y",
         "value"
        ]
       }
      ],
      "model_module": "bqplot",
      "model_module_version": "^0.5.3",
      "model_name": "LinesModel",
      "state": {
       "_model_module_version": "^0.5.3",
       "_view_module_version": "^0.5.3",
       "colors": [
        "blue"
       ],
       "fill_colors": [],
       "labels": [
        "C1"
       ],
       "scales": {
        "x": "IPY_MODEL_b28acc94d9074e86b5fb07a4a7224697",
        "y": "IPY_MODEL_058a3161a0e245f38b1748f794211f0d"
       },
       "x": {
        "dtype": "float64",
        "shape": [
         100
        ],
        "type": "date"
       },
       "y": {
        "dtype": "float64",
        "shape": [
         100
        ],
        "type": null
       }
      }
     },
     "4582153644f342cf97cb079835a52008": {
      "buffers": [
       {
        "data": "AACASa/9cEIAAECvAf5wQgAAABVU/nBCAADAeqb+cEIAAIDg+P5wQgAAQEZL/3BCAAAArJ3/cEIAAMAR8P9wQgAAgHdCAHFCAABA3ZQAcUIAAABD5wBxQgAAwKg5AXFCAACADowBcUIAAEB03gFxQgAAANowAnFCAADAP4MCcUIAAICl1QJxQgAAQAsoA3FCAAAAcXoDcUIAAMDWzANxQgAAgDwfBHFCAABAonEEcUIAAAAIxARxQgAAwG0WBXFCAACA02gFcUIAAEA5uwVxQgAAAJ8NBnFCAADABGAGcUIAAIBqsgZxQgAAQNAEB3FCAAAANlcHcUIAAMCbqQdxQgAAgAH8B3FCAABAZ04IcUIAAADNoAhxQgAAwDLzCHFCAACAmEUJcUIAAED+lwlxQgAAAGTqCXFCAADAyTwKcUIAAIAvjwpxQgAAQJXhCnFCAAAA+zMLcUIAAMBghgtxQgAAgMbYC3FCAABALCsMcUIAAACSfQxxQgAAwPfPDHFCAACAXSINcUIAAEDDdA1xQgAAACnHDXFCAADAjhkOcUIAAID0aw5xQgAAQFq+DnFCAAAAwBAPcUIAAMAlYw9xQgAAgIu1D3FCAABA8QcQcUIAAABXWhBxQgAAwLysEHFCAACAIv8QcUIAAECIURFxQgAAAO6jEXFCAADAU/YRcUIAAIC5SBJxQgAAQB+bEnFCAAAAhe0ScUIAAMDqPxNxQgAAgFCSE3FCAABAtuQTcUIAAAAcNxRxQgAAwIGJFHFCAACA59sUcUIAAEBNLhVxQgAAALOAFXFCAADAGNMVcUIAAIB+JRZxQgAAQOR3FnFCAAAASsoWcUIAAMCvHBdxQgAAgBVvF3FCAABAe8EXcUIAAADhExhxQgAAwEZmGHFCAACArLgYcUIAAEASCxlxQgAAAHhdGXFCAADA3a8ZcUIAAIBDAhpxQgAAQKlUGnFCAAAAD6cacUIAAMB0+RpxQgAAgNpLG3FCAABAQJ4bcUIAAACm8BtxQgAAwAtDHHFCAACAcZUccUIAAEDX5xxxQgAAAD06HXFCAADAoowdcUIAAIAI3x1xQgAAQG4xHnFCAAAA1IMecUIAAMA51h5xQgAAgJ8oH3FCAABABXsfcUIAAABrzR9xQgAAwNAfIHFCAACANnIgcUIAAECcxCBxQgAAAAIXIXFCAADAZ2khcUIAAIDNuyFxQgAAQDMOInFCAAAAmWAicUIAAMD+siJxQgAAgGQFI3FCAABAylcjcUIAAAAwqiNxQgAAwJX8I3FCAACA+04kcUIAAEBhoSRxQgAAAMfzJHFCAADALEYlcUIAAICSmCVxQgAAQPjqJXFCAAAAXj0mcUIAAMDDjyZxQgAAgCniJnFCAABAjzQncUIAAAD1hidxQgAAwFrZJ3FCAACAwCsocUIAAEAmfihxQgAAAIzQKHFCAADA8SIpcUIAAIBXdSlxQgAAQL3HKXFCAAAAIxoqcUIAAMCIbCpxQgAAgO6+KnFCAABAVBErcUIAAAC6YytxQgAAwB+2K3FCAACAhQgscUIAAEDrWixxQgAAAFGtLHFCAADAtv8scUIAAIAcUi1xQgAAQIKkLXFC",
        "encoding": "base64",
        "path": [
         "x",
         "value"
        ]
       },
       {
        "data": "WoiU/IUfWUBDumk0IOdYQAJPyZTTLllA6+0yWGg2WUAUdELZDxlZQFpAaMDsVFlAe6Otam2DWUCJe14ZB6tZQFncswUQvllAn4Q8RwKhWUA5+4rEaPVZQIDaYYe7vVlAupZNiLmqWUA0JHRFp8FZQP9AFmO33FlAqueqPhm8WUDcShdkuudZQANj0jJ4mllAmHw+O5HMWUCbX+TGU9JZQIor/9d0zVlAbAnv0InLWUAUZevkE3ZZQMBaGEtfNFlAAs0119t/WUA0000/Br1ZQEjzxcGrzllAfVNKPoTYWUCQ3vZL659ZQMvkDiu6oVlAA8idyCfLWUBkklmux+VZQO2VKmaxJFpAKRY2VSlPWkCF2N0ure5ZQNLRSOevN1pA6Xtg2F1xWkATwDEL1WxaQA5Q+4W8gFpA7hhp5nCqWkARfLF+bP9aQGO69LEc9lpAAMI5VF7aWkCBdI9X5J5aQEKjohAi/1pAUOFejws1W0AjDwJvlSJbQAiIz71pQFtAT1UkuKddW0CJ9TmOEE5bQAlzBVi4SltAlpTIjCITW0AV6aUznhRbQEYvTAIG31pAVyUEaEr2WkBc1kk7Ct1aQOar/83XM1tAO7FiRUkFW0Dm0pp+sbpaQMRax+jpHltAQf1VAdwpW0BGXl9WOlRbQIzngbwDKFtApg71sXHqWkAum9p1ispaQIKV70ss31pAzXOWyrvmWkDYnY6H3OlaQGTtjRCkwVpA5x2pkTrQWkAbPCzJKOFaQAx39t4a2VpANP5ABIbhWkAShfzvDSBbQFLpUEXlQ1tAin03kRxQW0BRzsPlFkVbQPP/CwqqO1tAHu1s36U6W0BLtnxjG1ZbQIB9fDG/T1tAci8qSMpEW0Ans2HBnz5bQLkPT9qsD1tAheR9UX8AW0AuvEjW4QtbQHkVCsKkzFpAMSBXprLaWkDP5BuxtuBaQJQMzJmO4FpATAap0MTBWkDD7eaTCmhaQNhI9vslYFpAFc6SbYBzWkBOPZeOi4daQJQZCBv+wFpAoHTEXFeoWkDFV+PqQKZaQGgJZA6qelpATTDBB3CkWkBa70srJDFaQC5KcE7PlFpAHFH/Oi+JWkBsYEUu5K9aQO8pEkk0jVpAEV5qiKqaWkBsqOs7oWdaQI80aR1OmVpAiD8ZJDx4WkDsVweHW1VaQGovMA/ZfVpAouIULIOfWkCImMLfgbJaQEsmQ6XRa1pAlExZ/N+kWkCZqDaLmKxaQDTmGUFnn1pAN2/1fDPSWkA7RF5EpqJaQEF/PTYXj1pANrpJe7KMWkCaaoLI3llaQExxGVy+I1pAOycYHM0YWkDqLT3aXzlaQPMmI55UiVpAGcKk+9psWkCTiBrgAzVaQDAObjCdF1pAr/wJTUx0WkAW6P3kgFtaQEVma3lXUVpAtAVgc0hLWkDkwUwT4nVaQDC7faiDW1pA4uHya9BBWkC/JPsiDRJaQJmJO9MFCVpAolTSOqDWWUAOaHHQAbNZQGX6fwecu1lAxJAoGI2/WUBF+/9NE7JZQKysNKZdsFlAaRweiEx2WUCju9PA721ZQA1CqXCnNVlAGbR7vm5OWUBPELQ9XWtZQA34u6XbNFlA",
        "encoding": "base64",
        "path": [
         "y",
         "value"
        ]
       }
      ],
      "model_module": "bqplot",
      "model_module_version": "^0.5.3",
      "model_name": "LinesModel",
      "state": {
       "_model_module_version": "^0.5.3",
       "_view_module_version": "^0.5.3",
       "fill_colors": [],
       "labels": [
        "C1"
       ],
       "scales": {
        "x": "IPY_MODEL_b3e9902c109540d1aa38fbcd7c068aae",
        "y": "IPY_MODEL_d1ace1d3268e426c9bd8696dcac74ebb"
       },
       "x": {
        "dtype": "float64",
        "shape": [
         150
        ],
        "type": "date"
       },
       "y": {
        "dtype": "float64",
        "shape": [
         150
        ],
        "type": null
       }
      }
     },
     "466e28cc64464b6ea1b53d8fc8d614b1": {
      "model_module": "bqplot",
      "model_module_version": "^0.5.3",
      "model_name": "DateScaleModel",
      "state": {
       "_model_module_version": "^0.5.3",
       "_view_module_version": "^0.5.3",
       "min": "2007-01-01T00:00:00.000000"
      }
     },
     "4b3c63e1327b47829b9cedebbb2043dd": {
      "model_module": "@jupyter-widgets/controls",
      "model_module_version": "1.5.0",
      "model_name": "HTMLModel",
      "state": {
       "layout": "IPY_MODEL_f3de96c2f40a4ce6881005d9d5f02025",
       "style": "IPY_MODEL_1a9047ac72e34a92be6d7333bd7c9787",
       "value": "{}"
      }
     },
     "4c005a4b22a64c5cbbd6751d98b7eb9d": {
      "model_module": "bqplot",
      "model_module_version": "^0.5.3",
      "model_name": "AxisModel",
      "state": {
       "_model_module_version": "^0.5.3",
       "_view_module_version": "^0.5.3",
       "label": "Date",
       "scale": "IPY_MODEL_2749b0d8996e41d780c62ba7cc457a3b",
       "side": "bottom",
       "tick_values": null
      }
     },
     "4c358b600f194795aa528083d56550cf": {
      "buffers": [
       {
        "data": "AACASa/9cEIAAECvAf5wQgAAABVU/nBCAADAeqb+cEIAAIDg+P5wQgAAQEZL/3BCAAAArJ3/cEIAAMAR8P9wQgAAgHdCAHFCAABA3ZQAcUIAAABD5wBxQgAAwKg5AXFCAACADowBcUIAAEB03gFxQgAAANowAnFCAADAP4MCcUIAAICl1QJxQgAAQAsoA3FCAAAAcXoDcUIAAMDWzANxQgAAgDwfBHFCAABAonEEcUIAAAAIxARxQgAAwG0WBXFCAACA02gFcUIAAEA5uwVxQgAAAJ8NBnFCAADABGAGcUIAAIBqsgZxQgAAQNAEB3FCAAAANlcHcUIAAMCbqQdxQgAAgAH8B3FCAABAZ04IcUIAAADNoAhxQgAAwDLzCHFCAACAmEUJcUIAAED+lwlxQgAAAGTqCXFCAADAyTwKcUIAAIAvjwpxQgAAQJXhCnFCAAAA+zMLcUIAAMBghgtxQgAAgMbYC3FCAABALCsMcUIAAACSfQxxQgAAwPfPDHFCAACAXSINcUIAAEDDdA1xQgAAACnHDXFCAADAjhkOcUIAAID0aw5xQgAAQFq+DnFCAAAAwBAPcUIAAMAlYw9xQgAAgIu1D3FCAABA8QcQcUIAAABXWhBxQgAAwLysEHFCAACAIv8QcUIAAECIURFxQgAAAO6jEXFCAADAU/YRcUIAAIC5SBJxQgAAQB+bEnFCAAAAhe0ScUIAAMDqPxNxQgAAgFCSE3FCAABAtuQTcUIAAAAcNxRxQgAAwIGJFHFCAACA59sUcUIAAEBNLhVxQgAAALOAFXFCAADAGNMVcUIAAIB+JRZxQgAAQOR3FnFCAAAASsoWcUIAAMCvHBdxQgAAgBVvF3FCAABAe8EXcUIAAADhExhxQgAAwEZmGHFCAACArLgYcUIAAEASCxlxQgAAAHhdGXFCAADA3a8ZcUIAAIBDAhpxQgAAQKlUGnFCAAAAD6cacUIAAMB0+RpxQgAAgNpLG3FCAABAQJ4bcUIAAACm8BtxQgAAwAtDHHFCAACAcZUccUIAAEDX5xxxQgAAAD06HXFCAADAoowdcUIAAIAI3x1xQgAAQG4xHnFCAAAA1IMecUIAAMA51h5xQgAAgJ8oH3FCAABABXsfcUIAAABrzR9xQgAAwNAfIHFCAACANnIgcUIAAECcxCBxQgAAAAIXIXFCAADAZ2khcUIAAIDNuyFxQgAAQDMOInFCAAAAmWAicUIAAMD+siJxQgAAgGQFI3FCAABAylcjcUIAAAAwqiNxQgAAwJX8I3FCAACA+04kcUIAAEBhoSRxQgAAAMfzJHFCAADALEYlcUIAAICSmCVxQgAAQPjqJXFCAAAAXj0mcUIAAMDDjyZxQgAAgCniJnFCAABAjzQncUIAAAD1hidxQgAAwFrZJ3FCAACAwCsocUIAAEAmfihxQgAAAIzQKHFCAADA8SIpcUIAAIBXdSlxQgAAQL3HKXFCAAAAIxoqcUIAAMCIbCpxQgAAgO6+KnFCAABAVBErcUIAAAC6YytxQgAAwB+2K3FCAACAhQgscUIAAEDrWixxQgAAAFGtLHFCAADAtv8scUIAAIAcUi1xQgAAQIKkLXFC",
        "encoding": "base64",
        "path": [
         "x",
         "value"
        ]
       },
       {
        "data": "WoiU/IUfWUBDumk0IOdYQAJPyZTTLllA6+0yWGg2WUAUdELZDxlZQFpAaMDsVFlAe6Otam2DWUCJe14ZB6tZQFncswUQvllAn4Q8RwKhWUA5+4rEaPVZQIDaYYe7vVlAupZNiLmqWUA0JHRFp8FZQP9AFmO33FlAqueqPhm8WUDcShdkuudZQANj0jJ4mllAmHw+O5HMWUCbX+TGU9JZQIor/9d0zVlAbAnv0InLWUAUZevkE3ZZQMBaGEtfNFlAAs0119t/WUA0000/Br1ZQEjzxcGrzllAfVNKPoTYWUCQ3vZL659ZQMvkDiu6oVlAA8idyCfLWUBkklmux+VZQO2VKmaxJFpAKRY2VSlPWkCF2N0ure5ZQNLRSOevN1pA6Xtg2F1xWkATwDEL1WxaQA5Q+4W8gFpA7hhp5nCqWkARfLF+bP9aQGO69LEc9lpAAMI5VF7aWkCBdI9X5J5aQEKjohAi/1pAUOFejws1W0AjDwJvlSJbQAiIz71pQFtAT1UkuKddW0CJ9TmOEE5bQAlzBVi4SltAlpTIjCITW0AV6aUznhRbQEYvTAIG31pAVyUEaEr2WkBc1kk7Ct1aQOar/83XM1tAO7FiRUkFW0Dm0pp+sbpaQMRax+jpHltAQf1VAdwpW0BGXl9WOlRbQIzngbwDKFtApg71sXHqWkAum9p1ispaQIKV70ss31pAzXOWyrvmWkDYnY6H3OlaQGTtjRCkwVpA5x2pkTrQWkAbPCzJKOFaQAx39t4a2VpANP5ABIbhWkAShfzvDSBbQFLpUEXlQ1tAin03kRxQW0BRzsPlFkVbQPP/CwqqO1tAHu1s36U6W0BLtnxjG1ZbQIB9fDG/T1tAci8qSMpEW0Ans2HBnz5bQLkPT9qsD1tAheR9UX8AW0AuvEjW4QtbQHkVCsKkzFpAMSBXprLaWkDP5BuxtuBaQJQMzJmO4FpATAap0MTBWkDD7eaTCmhaQNhI9vslYFpAFc6SbYBzWkBOPZeOi4daQJQZCBv+wFpAoHTEXFeoWkDFV+PqQKZaQGgJZA6qelpATTDBB3CkWkBa70srJDFaQC5KcE7PlFpAHFH/Oi+JWkBsYEUu5K9aQO8pEkk0jVpAEV5qiKqaWkBsqOs7oWdaQI80aR1OmVpAiD8ZJDx4WkDsVweHW1VaQGovMA/ZfVpAouIULIOfWkCImMLfgbJaQEsmQ6XRa1pAlExZ/N+kWkCZqDaLmKxaQDTmGUFnn1pAN2/1fDPSWkA7RF5EpqJaQEF/PTYXj1pANrpJe7KMWkCaaoLI3llaQExxGVy+I1pAOycYHM0YWkDqLT3aXzlaQPMmI55UiVpAGcKk+9psWkCTiBrgAzVaQDAObjCdF1pAr/wJTUx0WkAW6P3kgFtaQEVma3lXUVpAtAVgc0hLWkDkwUwT4nVaQDC7faiDW1pA4uHya9BBWkC/JPsiDRJaQJmJO9MFCVpAolTSOqDWWUAOaHHQAbNZQGX6fwecu1lAxJAoGI2/WUBF+/9NE7JZQKysNKZdsFlAaRweiEx2WUCju9PA721ZQA1CqXCnNVlAGbR7vm5OWUBPELQ9XWtZQA34u6XbNFlA",
        "encoding": "base64",
        "path": [
         "y",
         "value"
        ]
       }
      ],
      "model_module": "bqplot",
      "model_module_version": "^0.5.3",
      "model_name": "LinesModel",
      "state": {
       "_model_module_version": "^0.5.3",
       "_view_module_version": "^0.5.3",
       "fill_colors": [],
       "labels": [
        "C1"
       ],
       "scales": {
        "x": "IPY_MODEL_9393898c9d6446ebbca43acec12ffbca",
        "y": "IPY_MODEL_2a1a9a94e08343b48e18d416d0cf6b1d"
       },
       "x": {
        "dtype": "float64",
        "shape": [
         150
        ],
        "type": "date"
       },
       "y": {
        "dtype": "float64",
        "shape": [
         150
        ],
        "type": null
       }
      }
     },
     "4d59ff68ab48406d834bc665ae6853e7": {
      "model_module": "@jupyter-widgets/base",
      "model_module_version": "1.2.0",
      "model_name": "LayoutModel",
      "state": {}
     },
     "4eba90e9c5de4146b6a2fdee312c4ae4": {
      "model_module": "bqplot",
      "model_module_version": "^0.5.3",
      "model_name": "LinearScaleModel",
      "state": {
       "_model_module_version": "^0.5.3",
       "_view_module_version": "^0.5.3",
       "max": 10,
       "min": 5,
       "stabilized": false
      }
     },
     "4f19e2f3ba754d5586cccf7778084d88": {
      "model_module": "bqplot",
      "model_module_version": "^0.5.3",
      "model_name": "LinearScaleModel",
      "state": {
       "_model_module_version": "^0.5.3",
       "_view_module_version": "^0.5.3",
       "allow_padding": false,
       "max": 1,
       "min": 0,
       "stabilized": false
      }
     },
     "5084ff6d6c9f40739c77acd6e8458b2d": {
      "model_module": "@jupyter-widgets/controls",
      "model_module_version": "1.5.0",
      "model_name": "VBoxModel",
      "state": {
       "children": [
        "IPY_MODEL_29ca4a3ceb174f318f676bc8d4d17b94",
        "IPY_MODEL_faecefede70e40de89bf42a68bc4f0db",
        "IPY_MODEL_760c267988cd481b9b76f93917d7eeac"
       ],
       "layout": "IPY_MODEL_37c23b16186145748a6d9fd9167e61fe"
      }
     },
     "513415bf9c944854bb9199a5f2a3bf57": {
      "buffers": [
       {
        "data": "AAAAAAAA8D8=",
        "encoding": "base64",
        "path": [
         "default_opacities",
         "value"
        ]
       },
       {
        "data": "AACASa/9cEIAAECvAf5wQgAAABVU/nBCAADAeqb+cEIAAIDg+P5wQgAAQEZL/3BCAAAArJ3/cEIAAMAR8P9wQgAAgHdCAHFCAABA3ZQAcUIAAABD5wBxQgAAwKg5AXFCAACADowBcUIAAEB03gFxQgAAANowAnFCAADAP4MCcUIAAICl1QJxQgAAQAsoA3FCAAAAcXoDcUIAAMDWzANxQgAAgDwfBHFCAABAonEEcUIAAAAIxARxQgAAwG0WBXFCAACA02gFcUIAAEA5uwVxQgAAAJ8NBnFCAADABGAGcUIAAIBqsgZxQgAAQNAEB3FCAAAANlcHcUIAAMCbqQdxQgAAgAH8B3FCAABAZ04IcUIAAADNoAhxQgAAwDLzCHFCAACAmEUJcUIAAED+lwlxQgAAAGTqCXFCAADAyTwKcUIAAIAvjwpxQgAAQJXhCnFCAAAA+zMLcUIAAMBghgtxQgAAgMbYC3FCAABALCsMcUIAAACSfQxxQgAAwPfPDHFCAACAXSINcUIAAEDDdA1xQgAAACnHDXFCAADAjhkOcUIAAID0aw5xQgAAQFq+DnFCAAAAwBAPcUIAAMAlYw9xQgAAgIu1D3FCAABA8QcQcUIAAABXWhBxQgAAwLysEHFCAACAIv8QcUIAAECIURFxQgAAAO6jEXFCAADAU/YRcUIAAIC5SBJxQgAAQB+bEnFCAAAAhe0ScUIAAMDqPxNxQgAAgFCSE3FCAABAtuQTcUIAAAAcNxRxQgAAwIGJFHFCAACA59sUcUIAAEBNLhVxQgAAALOAFXFCAADAGNMVcUIAAIB+JRZxQgAAQOR3FnFCAAAASsoWcUIAAMCvHBdxQgAAgBVvF3FCAABAe8EXcUIAAADhExhxQgAAwEZmGHFCAACArLgYcUIAAEASCxlxQgAAAHhdGXFCAADA3a8ZcUIAAIBDAhpxQgAAQKlUGnFCAAAAD6cacUIAAMB0+RpxQgAAgNpLG3FCAABAQJ4bcUIAAACm8BtxQgAAwAtDHHFCAACAcZUccUIAAEDX5xxxQgAAAD06HXFCAADAoowdcUIAAIAI3x1xQgAAQG4xHnFCAAAA1IMecUIAAMA51h5xQgAAgJ8oH3FCAABABXsfcUIAAABrzR9xQgAAwNAfIHFCAACANnIgcUIAAECcxCBxQgAAAAIXIXFCAADAZ2khcUIAAIDNuyFxQgAAQDMOInFCAAAAmWAicUIAAMD+siJxQgAAgGQFI3FCAABAylcjcUIAAAAwqiNxQgAAwJX8I3FCAACA+04kcUIAAEBhoSRxQgAAAMfzJHFCAADALEYlcUIAAICSmCVxQgAAQPjqJXFCAAAAXj0mcUIAAMDDjyZxQgAAgCniJnFCAABAjzQncUIAAAD1hidxQgAAwFrZJ3FCAACAwCsocUIAAEAmfihxQgAAAIzQKHFCAADA8SIpcUIAAIBXdSlxQgAAQL3HKXFCAAAAIxoqcUIAAMCIbCpxQgAAgO6+KnFCAABAVBErcUIAAAC6YytxQgAAwB+2K3FCAACAhQgscUIAAEDrWixxQgAAAFGtLHFCAADAtv8scUIAAIAcUi1xQgAAQIKkLXFC",
        "encoding": "base64",
        "path": [
         "x",
         "value"
        ]
       },
       {
        "data": "Rj59ZvwIWUBksTmJObBYQLa1jjtdOFlAm3PVTzIjWUBxnk6XzRFZQAfpnG0xrllA4J5XaRDbWUC/gy17LN9ZQAgFP+/SKlpAyjHqjHncWUCi+iQ1G35aQMa29z8uGFpApBDo1PHbWUA5Wq1zTh9aQN0jp5YLDVpAG8Qnre7QWUAttT86aR5aQNpES2IJkllArAb4wYzVWUAsotC4drNZQLZ11GNyrVlATDFngrvBWUBW0C5TQ0VZQON7v8Wq1lhAAy33kJhXWUD5fcXVqaVZQDKZ2WT0fllAni4uwPJ4WUC0koFsBgJZQOvyQ4cjMVlA96/hjJh1WUA25JXkVrRZQGfTNN2x6llAUWkOrUk9WkCkQcrr4LJZQFlMl5CxBlpAq28/9qFOWkAA5u8BgwNaQK+FcclYHFpAmEq3ESMzWkBDYaBK3KpaQOEaF+O/klpAG9HZr4eRWkDGKBr49VpaQGUN0gUT4FpATCb/0owYW0CCRqFDpRVbQEAvMRnqXltAFujoirelW0Adc+JU9nxbQKz9jrA4ZVtANDKEjuHwWkASinIxIf5aQFhgawbElFpAgMWD8kCXWkDyJODLk5taQMuZLlvqVltAgbRGybsIW0CuocbXJZZaQESpiQRtKFtAE1OloZdDW0DkRLgaPo5bQG5fLDMTNFtAKETU3ggHW0AQ1bB4rAZbQLIyB0LIQltA1pwf36pdW0BMWY1TAmVbQKKg2fvhL1tAfPXxbqo5W0DQOowceFhbQJz2wvhCI1tAYG09jW0nW0BTiqwBpMdbQJu14cFW+ltAny4ff27/W0AIjoaWBOVbQFDNFznow1tAkNYaY3a7W0B7ZoB3afRbQPjuTwZvOVxAiPvXuUdvXECqCVR0c09cQD+TxqZ9D1xAq9Fmqm8NXEAlVcXlRyxcQI4/S8GVtVtAhzZCpfjUW0DPVUr6cdhbQOcu4ab/7FtAJfRpoRfLW0DQ7Rp3W09bQMdKdlSaG1tAq/nafhtAW0D8XlBUqENbQEcjhO96wFtAHsLla7rGW0CaTw+BfeBbQEy/ok/rjFtA+VmHcS/CW0D4j4jgovpaQJJIWmhmfFtApHRkNutJW0BfGORjfoVbQC6wusV3gVtAMTS1WqRMW0Cd5AVl3B9bQIVGXK87SltAkP86WFclW0DATLc55iRbQHxNic5bQFtAOWvEBQ+VW0Dw3CNqvaNbQJp+LPsgaVtAynZKy5v4W0DkVlxwPiNcQA88EijuE1xAmRQmI9xKXECXLmxgRRRcQHDHOx61zltAFVo7tDvjW0AYz8tO6aFbQFchMm7nYFtAQGeaFLRaW0Au4fYVDcNbQHT3Mtc8HVxA28yo65f1W0DaOjwx9pBbQOOORFH+SVtAjXcWPgr7W0B9nneTSO1bQNdWBJjWA1xAIBbPnyP4W0DX2HDlaDtcQLDSXE0ALFxAon0peegMXEDkI8uIzpVbQCILUBj7oVtAM9w1Xh5kW0C/8/ACHTVbQNDSN6FvRltASCk7hweCW0BQZZ5ulYRbQG/DCgXIXVtADSLwaCj/WkCGEJZeWLpaQBe48MfJbFpAg3HK0rtKWkD1QnU8AXtaQDNCx3aA8llA",
        "encoding": "base64",
        "path": [
         "y",
         "value"
        ]
       }
      ],
      "model_module": "bqplot",
      "model_module_version": "^0.5.3",
      "model_name": "ScatterModel",
      "state": {
       "_model_module_version": "^0.5.3",
       "_view_module_version": "^0.5.3",
       "default_opacities": {
        "dtype": "float64",
        "shape": [
         1
        ],
        "type": null
       },
       "names": null,
       "scales": {
        "x": "IPY_MODEL_00f6aee200444cee86e5a9b7f346c49e",
        "y": "IPY_MODEL_cd9dd453ef134a6a8462d053a83dab4e"
       },
       "scales_metadata": {
        "color": {
         "dimension": "color"
        },
        "opacity": {
         "dimension": "opacity"
        },
        "rotation": {
         "dimension": "rotation"
        },
        "size": {
         "dimension": "size"
        },
        "skew": {
         "dimension": "skew"
        },
        "x": {
         "dimension": "x",
         "orientation": "horizontal"
        },
        "y": {
         "dimension": "y",
         "orientation": "vertical"
        }
       },
       "x": {
        "dtype": "float64",
        "shape": [
         150
        ],
        "type": "date"
       },
       "y": {
        "dtype": "float64",
        "shape": [
         150
        ],
        "type": null
       }
      }
     },
     "51ecf7dc40b946c8960e591546a84865": {
      "buffers": [
       {
        "data": "AACASa/9cEIAAECvAf5wQgAAABVU/nBCAADAeqb+cEIAAIDg+P5wQgAAQEZL/3BCAAAArJ3/cEIAAMAR8P9wQgAAgHdCAHFCAABA3ZQAcUIAAABD5wBxQgAAwKg5AXFCAACADowBcUIAAEB03gFxQgAAANowAnFCAADAP4MCcUIAAICl1QJxQgAAQAsoA3FCAAAAcXoDcUIAAMDWzANxQgAAgDwfBHFCAABAonEEcUIAAAAIxARxQgAAwG0WBXFCAACA02gFcUIAAEA5uwVxQgAAAJ8NBnFCAADABGAGcUIAAIBqsgZxQgAAQNAEB3FCAAAANlcHcUIAAMCbqQdxQgAAgAH8B3FCAABAZ04IcUIAAADNoAhxQgAAwDLzCHFCAACAmEUJcUIAAED+lwlxQgAAAGTqCXFCAADAyTwKcUIAAIAvjwpxQgAAQJXhCnFCAAAA+zMLcUIAAMBghgtxQgAAgMbYC3FCAABALCsMcUIAAACSfQxxQgAAwPfPDHFCAACAXSINcUIAAEDDdA1xQgAAACnHDXFCAADAjhkOcUIAAID0aw5xQgAAQFq+DnFCAAAAwBAPcUIAAMAlYw9xQgAAgIu1D3FCAABA8QcQcUIAAABXWhBxQgAAwLysEHFCAACAIv8QcUIAAECIURFxQgAAAO6jEXFCAADAU/YRcUIAAIC5SBJxQgAAQB+bEnFCAAAAhe0ScUIAAMDqPxNxQgAAgFCSE3FCAABAtuQTcUIAAAAcNxRxQgAAwIGJFHFCAACA59sUcUIAAEBNLhVxQgAAALOAFXFCAADAGNMVcUIAAIB+JRZxQgAAQOR3FnFCAAAASsoWcUIAAMCvHBdxQgAAgBVvF3FCAABAe8EXcUIAAADhExhxQgAAwEZmGHFCAACArLgYcUIAAEASCxlxQgAAAHhdGXFCAADA3a8ZcUIAAIBDAhpxQgAAQKlUGnFCAAAAD6cacUIAAMB0+RpxQgAAgNpLG3FCAABAQJ4bcUIAAACm8BtxQgAAwAtDHHFCAACAcZUccUIAAEDX5xxxQgAAAD06HXFCAADAoowdcUIAAIAI3x1xQgAAQG4xHnFCAAAA1IMecUIAAMA51h5xQgAAgJ8oH3FCAABABXsfcUIAAABrzR9xQgAAwNAfIHFCAACANnIgcUIAAECcxCBxQgAAAAIXIXFCAADAZ2khcUIAAIDNuyFxQgAAQDMOInFCAAAAmWAicUIAAMD+siJxQgAAgGQFI3FCAABAylcjcUIAAAAwqiNxQgAAwJX8I3FCAACA+04kcUIAAEBhoSRxQgAAAMfzJHFCAADALEYlcUIAAICSmCVxQgAAQPjqJXFCAAAAXj0mcUIAAMDDjyZxQgAAgCniJnFCAABAjzQncUIAAAD1hidxQgAAwFrZJ3FCAACAwCsocUIAAEAmfihxQgAAAIzQKHFCAADA8SIpcUIAAIBXdSlxQgAAQL3HKXFCAAAAIxoqcUIAAMCIbCpxQgAAgO6+KnFCAABAVBErcUIAAAC6YytxQgAAwB+2K3FCAACAhQgscUIAAEDrWixxQgAAAFGtLHFCAADAtv8scUIAAIAcUi1xQgAAQIKkLXFC",
        "encoding": "base64",
        "path": [
         "x",
         "value"
        ]
       },
       {
        "data": "Rj59ZvwIWUBksTmJObBYQLa1jjtdOFlAm3PVTzIjWUBxnk6XzRFZQAfpnG0xrllA4J5XaRDbWUC/gy17LN9ZQAgFP+/SKlpAyjHqjHncWUCi+iQ1G35aQMa29z8uGFpApBDo1PHbWUA5Wq1zTh9aQN0jp5YLDVpAG8Qnre7QWUAttT86aR5aQNpES2IJkllArAb4wYzVWUAsotC4drNZQLZ11GNyrVlATDFngrvBWUBW0C5TQ0VZQON7v8Wq1lhAAy33kJhXWUD5fcXVqaVZQDKZ2WT0fllAni4uwPJ4WUC0koFsBgJZQOvyQ4cjMVlA96/hjJh1WUA25JXkVrRZQGfTNN2x6llAUWkOrUk9WkCkQcrr4LJZQFlMl5CxBlpAq28/9qFOWkAA5u8BgwNaQK+FcclYHFpAmEq3ESMzWkBDYaBK3KpaQOEaF+O/klpAG9HZr4eRWkDGKBr49VpaQGUN0gUT4FpATCb/0owYW0CCRqFDpRVbQEAvMRnqXltAFujoirelW0Adc+JU9nxbQKz9jrA4ZVtANDKEjuHwWkASinIxIf5aQFhgawbElFpAgMWD8kCXWkDyJODLk5taQMuZLlvqVltAgbRGybsIW0CuocbXJZZaQESpiQRtKFtAE1OloZdDW0DkRLgaPo5bQG5fLDMTNFtAKETU3ggHW0AQ1bB4rAZbQLIyB0LIQltA1pwf36pdW0BMWY1TAmVbQKKg2fvhL1tAfPXxbqo5W0DQOowceFhbQJz2wvhCI1tAYG09jW0nW0BTiqwBpMdbQJu14cFW+ltAny4ff27/W0AIjoaWBOVbQFDNFznow1tAkNYaY3a7W0B7ZoB3afRbQPjuTwZvOVxAiPvXuUdvXECqCVR0c09cQD+TxqZ9D1xAq9Fmqm8NXEAlVcXlRyxcQI4/S8GVtVtAhzZCpfjUW0DPVUr6cdhbQOcu4ab/7FtAJfRpoRfLW0DQ7Rp3W09bQMdKdlSaG1tAq/nafhtAW0D8XlBUqENbQEcjhO96wFtAHsLla7rGW0CaTw+BfeBbQEy/ok/rjFtA+VmHcS/CW0D4j4jgovpaQJJIWmhmfFtApHRkNutJW0BfGORjfoVbQC6wusV3gVtAMTS1WqRMW0Cd5AVl3B9bQIVGXK87SltAkP86WFclW0DATLc55iRbQHxNic5bQFtAOWvEBQ+VW0Dw3CNqvaNbQJp+LPsgaVtAynZKy5v4W0DkVlxwPiNcQA88EijuE1xAmRQmI9xKXECXLmxgRRRcQHDHOx61zltAFVo7tDvjW0AYz8tO6aFbQFchMm7nYFtAQGeaFLRaW0Au4fYVDcNbQHT3Mtc8HVxA28yo65f1W0DaOjwx9pBbQOOORFH+SVtAjXcWPgr7W0B9nneTSO1bQNdWBJjWA1xAIBbPnyP4W0DX2HDlaDtcQLDSXE0ALFxAon0peegMXEDkI8uIzpVbQCILUBj7oVtAM9w1Xh5kW0C/8/ACHTVbQNDSN6FvRltASCk7hweCW0BQZZ5ulYRbQG/DCgXIXVtADSLwaCj/WkCGEJZeWLpaQBe48MfJbFpAg3HK0rtKWkD1QnU8AXtaQDNCx3aA8llA",
        "encoding": "base64",
        "path": [
         "y",
         "value"
        ]
       }
      ],
      "model_module": "bqplot",
      "model_module_version": "^0.5.3",
      "model_name": "LinesModel",
      "state": {
       "_model_module_version": "^0.5.3",
       "_view_module_version": "^0.5.3",
       "colors": [
        "red"
       ],
       "fill_colors": [],
       "labels": [
        "C1"
       ],
       "scales": {
        "x": "IPY_MODEL_663fd5d262b94af298e3a0f4d0e0eba5",
        "y": "IPY_MODEL_29aab346a3ff413ea02e1a3338798ec3"
       },
       "x": {
        "dtype": "float64",
        "shape": [
         150
        ],
        "type": "date"
       },
       "y": {
        "dtype": "float64",
        "shape": [
         150
        ],
        "type": null
       }
      }
     },
     "521fc94f36964629a35ec4f75981d4f6": {
      "model_module": "bqplot",
      "model_module_version": "^0.5.3",
      "model_name": "FigureModel",
      "state": {
       "_dom_classes": [],
       "_model_module_version": "^0.5.3",
       "_view_module_version": "^0.5.3",
       "axes": [
        "IPY_MODEL_d98f0efeca344c8fb4e96ada35bc73a2",
        "IPY_MODEL_679443bdbbc24de690234369490da513"
       ],
       "interaction": "IPY_MODEL_f44da1d7c147487bbb0a81e25915a809",
       "layout": "IPY_MODEL_6baea96ff3214fd3adeb979e252f2c6f",
       "marks": [
        "IPY_MODEL_dda36f6fb6b3484ba696573704a13f0d"
       ],
       "scale_x": "IPY_MODEL_e629b0de09a24665874ef9f14779dedc",
       "scale_y": "IPY_MODEL_5c3fb9b2932d4c42b1c297ed35c81769",
       "title": "Scatter Chart Brush Selector Example"
      }
     },
     "544e95a68bca46b7a1fefc372367e8ff": {
      "model_module": "bqplot",
      "model_module_version": "^0.5.3",
      "model_name": "FigureModel",
      "state": {
       "_dom_classes": [],
       "_model_module_version": "^0.5.3",
       "_view_module_version": "^0.5.3",
       "axes": [
        "IPY_MODEL_22c03648b28148e1ac87f1b1d0e4e2eb",
        "IPY_MODEL_65ea1861fe4c4bcb9343f821610cedc9"
       ],
       "interaction": "IPY_MODEL_a4a33d79de0a48038e046194355afb35",
       "layout": "IPY_MODEL_26e6ce810d4e4de7b37d1636cbc06b54",
       "marks": [
        "IPY_MODEL_bc84319a691a456bac9ea0a09804182a",
        "IPY_MODEL_11188a190401427699ea8ccc6ae867a6",
        "IPY_MODEL_5c3e448269604d79901c11d9b63048e8"
       ],
       "scale_x": "IPY_MODEL_3c84d1f568be49a6a2792c1a54f09eb9",
       "scale_y": "IPY_MODEL_c77b3f8399c54746b5c50d928e2cd548",
       "title": "Lasso Selector Example"
      }
     },
     "5494d197d792469082c290dce239e532": {
      "buffers": [
       {
        "data": "AACASa/9cEIAAECvAf5wQgAAABVU/nBCAADAeqb+cEIAAIDg+P5wQgAAQEZL/3BCAAAArJ3/cEIAAMAR8P9wQgAAgHdCAHFCAABA3ZQAcUIAAABD5wBxQgAAwKg5AXFCAACADowBcUIAAEB03gFxQgAAANowAnFCAADAP4MCcUIAAICl1QJxQgAAQAsoA3FCAAAAcXoDcUIAAMDWzANxQgAAgDwfBHFCAABAonEEcUIAAAAIxARxQgAAwG0WBXFCAACA02gFcUIAAEA5uwVxQgAAAJ8NBnFCAADABGAGcUIAAIBqsgZxQgAAQNAEB3FCAAAANlcHcUIAAMCbqQdxQgAAgAH8B3FCAABAZ04IcUIAAADNoAhxQgAAwDLzCHFCAACAmEUJcUIAAED+lwlxQgAAAGTqCXFCAADAyTwKcUIAAIAvjwpxQgAAQJXhCnFCAAAA+zMLcUIAAMBghgtxQgAAgMbYC3FCAABALCsMcUIAAACSfQxxQgAAwPfPDHFCAACAXSINcUIAAEDDdA1xQgAAACnHDXFCAADAjhkOcUIAAID0aw5xQgAAQFq+DnFCAAAAwBAPcUIAAMAlYw9xQgAAgIu1D3FCAABA8QcQcUIAAABXWhBxQgAAwLysEHFCAACAIv8QcUIAAECIURFxQgAAAO6jEXFCAADAU/YRcUIAAIC5SBJxQgAAQB+bEnFCAAAAhe0ScUIAAMDqPxNxQgAAgFCSE3FCAABAtuQTcUIAAAAcNxRxQgAAwIGJFHFCAACA59sUcUIAAEBNLhVxQgAAALOAFXFCAADAGNMVcUIAAIB+JRZxQgAAQOR3FnFCAAAASsoWcUIAAMCvHBdxQgAAgBVvF3FCAABAe8EXcUIAAADhExhxQgAAwEZmGHFCAACArLgYcUIAAEASCxlxQgAAAHhdGXFCAADA3a8ZcUIAAIBDAhpxQgAAQKlUGnFCAAAAD6cacUIAAMB0+RpxQgAAgNpLG3FCAABAQJ4bcUIAAACm8BtxQgAAwAtDHHFCAACAcZUccUIAAEDX5xxxQgAAAD06HXFCAADAoowdcUIAAIAI3x1xQgAAQG4xHnFCAAAA1IMecUIAAMA51h5xQgAAgJ8oH3FCAABABXsfcUIAAABrzR9xQgAAwNAfIHFCAACANnIgcUIAAECcxCBxQgAAAAIXIXFCAADAZ2khcUIAAIDNuyFxQgAAQDMOInFCAAAAmWAicUIAAMD+siJxQgAAgGQFI3FCAABAylcjcUIAAAAwqiNxQgAAwJX8I3FCAACA+04kcUIAAEBhoSRxQgAAAMfzJHFCAADALEYlcUIAAICSmCVxQgAAQPjqJXFCAAAAXj0mcUIAAMDDjyZxQgAAgCniJnFCAABAjzQncUIAAAD1hidxQgAAwFrZJ3FCAACAwCsocUIAAEAmfihxQgAAAIzQKHFCAADA8SIpcUIAAIBXdSlxQgAAQL3HKXFCAAAAIxoqcUIAAMCIbCpxQgAAgO6+KnFCAABAVBErcUIAAAC6YytxQgAAwB+2K3FCAACAhQgscUIAAEDrWixxQgAAAFGtLHFCAADAtv8scUIAAIAcUi1xQgAAQIKkLXFC",
        "encoding": "base64",
        "path": [
         "x",
         "value"
        ]
       },
       {
        "data": "WoiU/IUfWUBDumk0IOdYQAJPyZTTLllA6+0yWGg2WUAUdELZDxlZQFpAaMDsVFlAe6Otam2DWUCJe14ZB6tZQFncswUQvllAn4Q8RwKhWUA5+4rEaPVZQIDaYYe7vVlAupZNiLmqWUA0JHRFp8FZQP9AFmO33FlAqueqPhm8WUDcShdkuudZQANj0jJ4mllAmHw+O5HMWUCbX+TGU9JZQIor/9d0zVlAbAnv0InLWUAUZevkE3ZZQMBaGEtfNFlAAs0119t/WUA0000/Br1ZQEjzxcGrzllAfVNKPoTYWUCQ3vZL659ZQMvkDiu6oVlAA8idyCfLWUBkklmux+VZQO2VKmaxJFpAKRY2VSlPWkCF2N0ure5ZQNLRSOevN1pA6Xtg2F1xWkATwDEL1WxaQA5Q+4W8gFpA7hhp5nCqWkARfLF+bP9aQGO69LEc9lpAAMI5VF7aWkCBdI9X5J5aQEKjohAi/1pAUOFejws1W0AjDwJvlSJbQAiIz71pQFtAT1UkuKddW0CJ9TmOEE5bQAlzBVi4SltAlpTIjCITW0AV6aUznhRbQEYvTAIG31pAVyUEaEr2WkBc1kk7Ct1aQOar/83XM1tAO7FiRUkFW0Dm0pp+sbpaQMRax+jpHltAQf1VAdwpW0BGXl9WOlRbQIzngbwDKFtApg71sXHqWkAum9p1ispaQIKV70ss31pAzXOWyrvmWkDYnY6H3OlaQGTtjRCkwVpA5x2pkTrQWkAbPCzJKOFaQAx39t4a2VpANP5ABIbhWkAShfzvDSBbQFLpUEXlQ1tAin03kRxQW0BRzsPlFkVbQPP/CwqqO1tAHu1s36U6W0BLtnxjG1ZbQIB9fDG/T1tAci8qSMpEW0Ans2HBnz5bQLkPT9qsD1tAheR9UX8AW0AuvEjW4QtbQHkVCsKkzFpAMSBXprLaWkDP5BuxtuBaQJQMzJmO4FpATAap0MTBWkDD7eaTCmhaQNhI9vslYFpAFc6SbYBzWkBOPZeOi4daQJQZCBv+wFpAoHTEXFeoWkDFV+PqQKZaQGgJZA6qelpATTDBB3CkWkBa70srJDFaQC5KcE7PlFpAHFH/Oi+JWkBsYEUu5K9aQO8pEkk0jVpAEV5qiKqaWkBsqOs7oWdaQI80aR1OmVpAiD8ZJDx4WkDsVweHW1VaQGovMA/ZfVpAouIULIOfWkCImMLfgbJaQEsmQ6XRa1pAlExZ/N+kWkCZqDaLmKxaQDTmGUFnn1pAN2/1fDPSWkA7RF5EpqJaQEF/PTYXj1pANrpJe7KMWkCaaoLI3llaQExxGVy+I1pAOycYHM0YWkDqLT3aXzlaQPMmI55UiVpAGcKk+9psWkCTiBrgAzVaQDAObjCdF1pAr/wJTUx0WkAW6P3kgFtaQEVma3lXUVpAtAVgc0hLWkDkwUwT4nVaQDC7faiDW1pA4uHya9BBWkC/JPsiDRJaQJmJO9MFCVpAolTSOqDWWUAOaHHQAbNZQGX6fwecu1lAxJAoGI2/WUBF+/9NE7JZQKysNKZdsFlAaRweiEx2WUCju9PA721ZQA1CqXCnNVlAGbR7vm5OWUBPELQ9XWtZQA34u6XbNFlA",
        "encoding": "base64",
        "path": [
         "y",
         "value"
        ]
       }
      ],
      "model_module": "bqplot",
      "model_module_version": "^0.5.3",
      "model_name": "LinesModel",
      "state": {
       "_model_module_version": "^0.5.3",
       "_view_module_version": "^0.5.3",
       "colors": [
        "orange"
       ],
       "fill_colors": [],
       "labels": [
        "C1"
       ],
       "scales": {
        "x": "IPY_MODEL_b28acc94d9074e86b5fb07a4a7224697",
        "y": "IPY_MODEL_058a3161a0e245f38b1748f794211f0d"
       },
       "x": {
        "dtype": "float64",
        "shape": [
         150
        ],
        "type": "date"
       },
       "y": {
        "dtype": "float64",
        "shape": [
         150
        ],
        "type": null
       }
      }
     },
     "560b2db8c71e447997120950931c4421": {
      "model_module": "@jupyter-widgets/base",
      "model_module_version": "1.2.0",
      "model_name": "LayoutModel",
      "state": {}
     },
     "58bb0ab35ee640ad9658f79b9b9bffb9": {
      "model_module": "@jupyter-widgets/base",
      "model_module_version": "1.2.0",
      "model_name": "LayoutModel",
      "state": {}
     },
     "5c3e448269604d79901c11d9b63048e8": {
      "buffers": [
       {
        "data": "AAAAAAEAAAACAAAAAwAAAAQAAAAFAAAABgAAAAcAAAAIAAAACQAAAAoAAAALAAAADAAAAA0AAAAOAAAADwAAABAAAAARAAAAEgAAABMAAAA=",
        "encoding": "base64",
        "path": [
         "x",
         "value"
        ]
       },
       {
        "data": "AAAAAAAAAAAAAAAAAADgPwAAAAAAAPA/AAAAAAAA+D8AAAAAAAAAQAAAAAAAAARAAAAAAAAACEAAAAAAAAAMQAAAAAAAABBAAAAAAAAAEkAAAAAAAAAUQAAAAAAAABZAAAAAAAAAGEAAAAAAAAAaQAAAAAAAABxAAAAAAAAAHkAAAAAAAAAgQAAAAAAAACFAAAAAAAAAIkAAAAAAAAAjQA==",
        "encoding": "base64",
        "path": [
         "y",
         "value"
        ]
       }
      ],
      "model_module": "bqplot",
      "model_module_version": "^0.5.3",
      "model_name": "BarsModel",
      "state": {
       "_model_module_version": "^0.5.3",
       "_view_module_version": "^0.5.3",
       "colors": [
        "steelblue"
       ],
       "label_font_style": {},
       "scales": {
        "x": "IPY_MODEL_3e14b18e83d844268bfaa6527ab6f694",
        "y": "IPY_MODEL_b0fb4887ff26488ba84d1a10b9e49881"
       },
       "x": {
        "dtype": "int32",
        "shape": [
         20
        ],
        "type": null
       },
       "y": {
        "dtype": "float64",
        "shape": [
         20
        ],
        "type": null
       }
      }
     },
     "5c3fb9b2932d4c42b1c297ed35c81769": {
      "model_module": "bqplot",
      "model_module_version": "^0.5.3",
      "model_name": "LinearScaleModel",
      "state": {
       "_model_module_version": "^0.5.3",
       "_view_module_version": "^0.5.3",
       "allow_padding": false,
       "max": 1,
       "min": 0,
       "stabilized": false
      }
     },
     "5c8ebc3a04574564b2e4b1c1802f0621": {
      "model_module": "bqplot",
      "model_module_version": "^0.5.3",
      "model_name": "AxisModel",
      "state": {
       "_model_module_version": "^0.5.3",
       "_view_module_version": "^0.5.3",
       "label": "Security 1 Price",
       "orientation": "vertical",
       "scale": "IPY_MODEL_058a3161a0e245f38b1748f794211f0d",
       "side": "left",
       "tick_values": null
      }
     },
     "635020a721c045e08db2317ef9b1dc7a": {
      "model_module": "bqplot",
      "model_module_version": "^0.5.3",
      "model_name": "LinearScaleModel",
      "state": {
       "_model_module_version": "^0.5.3",
       "_view_module_version": "^0.5.3",
       "allow_padding": false,
       "max": 1,
       "min": 0,
       "stabilized": false
      }
     },
     "6472ae07ed6a4943b3afcec77bf7335c": {
      "model_module": "@jupyter-widgets/controls",
      "model_module_version": "1.5.0",
      "model_name": "HTMLModel",
      "state": {
       "layout": "IPY_MODEL_9a4b4f86abc347e48d9887be6f662532",
       "style": "IPY_MODEL_a36e3cfa817349048168ddb7e426a5d4",
       "value": "The selected period is None"
      }
     },
     "658d21accc624d5197f6111d89cb3430": {
      "model_module": "bqplot",
      "model_module_version": "^0.5.3",
      "model_name": "LinearScaleModel",
      "state": {
       "_model_module_version": "^0.5.3",
       "_view_module_version": "^0.5.3",
       "allow_padding": false,
       "max": 1,
       "min": 0,
       "stabilized": false
      }
     },
     "65ea1861fe4c4bcb9343f821610cedc9": {
      "model_module": "bqplot",
      "model_module_version": "^0.5.3",
      "model_name": "AxisModel",
      "state": {
       "_model_module_version": "^0.5.3",
       "_view_module_version": "^0.5.3",
       "label": "Y",
       "orientation": "vertical",
       "scale": "IPY_MODEL_b0fb4887ff26488ba84d1a10b9e49881",
       "side": "left",
       "tick_values": null
      }
     },
     "663fd5d262b94af298e3a0f4d0e0eba5": {
      "model_module": "bqplot",
      "model_module_version": "^0.5.3",
      "model_name": "DateScaleModel",
      "state": {
       "_model_module_version": "^0.5.3",
       "_view_module_version": "^0.5.3",
       "min": "2007-01-01T00:00:00.000000"
      }
     },
     "6665170d0fd04cf580e5c04d6a1445a9": {
      "model_module": "bqplot",
      "model_module_version": "^0.5.3",
      "model_name": "LinearScaleModel",
      "state": {
       "_model_module_version": "^0.5.3",
       "_view_module_version": "^0.5.3",
       "allow_padding": false,
       "max": 1,
       "min": 0,
       "stabilized": false
      }
     },
     "679443bdbbc24de690234369490da513": {
      "model_module": "bqplot",
      "model_module_version": "^0.5.3",
      "model_name": "AxisModel",
      "state": {
       "_model_module_version": "^0.5.3",
       "_view_module_version": "^0.5.3",
       "label": "Security 2",
       "orientation": "vertical",
       "scale": "IPY_MODEL_d229097f42684b7bbebf298d20df9b8e",
       "side": "left",
       "tick_values": null
      }
     },
     "69c5256746cf46549d74ffcb7aa46e3d": {
      "model_module": "@jupyter-widgets/base",
      "model_module_version": "1.2.0",
      "model_name": "LayoutModel",
      "state": {}
     },
     "6baea96ff3214fd3adeb979e252f2c6f": {
      "model_module": "@jupyter-widgets/base",
      "model_module_version": "1.2.0",
      "model_name": "LayoutModel",
      "state": {}
     },
     "6c37dac2db814772bc567d326f42d00d": {
      "model_module": "bqplot",
      "model_module_version": "^0.5.3",
      "model_name": "AxisModel",
      "state": {
       "_model_module_version": "^0.5.3",
       "_view_module_version": "^0.5.3",
       "label": "Security 1 Price",
       "orientation": "vertical",
       "scale": "IPY_MODEL_b80ae359193644dca5eb2e0f2cb4c0c2",
       "side": "left",
       "tick_values": null
      }
     },
     "6c851015cfd043f984f44b9cdddecd1a": {
      "model_module": "@jupyter-widgets/base",
      "model_module_version": "1.2.0",
      "model_name": "LayoutModel",
      "state": {}
     },
     "6db84896448b45b7a6ccda88efdf99c0": {
      "model_module": "bqplot",
      "model_module_version": "^0.5.3",
      "model_name": "AxisModel",
      "state": {
       "_model_module_version": "^0.5.3",
       "_view_module_version": "^0.5.3",
       "grid_lines": "none",
       "label": "Returns",
       "scale": "IPY_MODEL_466e28cc64464b6ea1b53d8fc8d614b1",
       "side": "bottom",
       "tick_values": null
      }
     },
     "6e53eb0892534ae893dc8c027fd3e91a": {
      "model_module": "@jupyter-widgets/base",
      "model_module_version": "1.2.0",
      "model_name": "LayoutModel",
      "state": {}
     },
     "6f5c72bd1b1c482a9c09429962a9f6d5": {
      "model_module": "bqplot",
      "model_module_version": "^0.5.3",
      "model_name": "FastIntervalSelectorModel",
      "state": {
       "_model_module_version": "^0.5.3",
       "_view_module_version": "^0.5.3",
       "marks": [
        "IPY_MODEL_d670a57487a349019d117e15f6067f0b",
        "IPY_MODEL_1d4c7ff50018485098466e8ca6ae0660"
       ],
       "scale": "IPY_MODEL_2749b0d8996e41d780c62ba7cc457a3b"
      }
     },
     "6f782a62e5ef41cc91ba3a7458587414": {
      "model_module": "bqplot",
      "model_module_version": "^0.5.3",
      "model_name": "FigureModel",
      "state": {
       "_dom_classes": [],
       "_model_module_version": "^0.5.3",
       "_view_module_version": "^0.5.3",
       "axes": [
        "IPY_MODEL_3ce9e69dbd624a1eb96787710ea47a8c",
        "IPY_MODEL_5c8ebc3a04574564b2e4b1c1802f0621"
       ],
       "interaction": "IPY_MODEL_ef03097f70e94fe3af64232d9354b12f",
       "layout": "IPY_MODEL_b2c3431017774aa89208c1f513ce89ec",
       "marks": [
        "IPY_MODEL_5494d197d792469082c290dce239e532",
        "IPY_MODEL_4555fdab016243ad89e3db04c3629d4b"
       ],
       "scale_x": "IPY_MODEL_405dcd8598e34ebf9417c4e9c07cd040",
       "scale_y": "IPY_MODEL_443985412d4c4ff0b5e2955a993e8492",
       "title": "Index Selector Example"
      }
     },
     "72e6495efaea40c9a25dfd540359bb86": {
      "model_module": "@jupyter-widgets/controls",
      "model_module_version": "1.5.0",
      "model_name": "DescriptionStyleModel",
      "state": {
       "description_width": ""
      }
     },
     "73fc4899364644b7b2b72eb46360da1f": {
      "model_module": "@jupyter-widgets/controls",
      "model_module_version": "1.5.0",
      "model_name": "VBoxModel",
      "state": {
       "children": [
        "IPY_MODEL_0d735c2bb0b6483192d886db55dcb9da",
        "IPY_MODEL_ea7ca3580b1844f3a4a6db6af18121e3"
       ],
       "layout": "IPY_MODEL_4d59ff68ab48406d834bc665ae6853e7"
      }
     },
     "74f8d05d3dee4556a17e9af9457c4614": {
      "model_module": "bqplot",
      "model_module_version": "^0.5.3",
      "model_name": "LinearScaleModel",
      "state": {
       "_model_module_version": "^0.5.3",
       "_view_module_version": "^0.5.3",
       "allow_padding": false,
       "max": 1,
       "min": 0,
       "stabilized": false
      }
     },
     "760c267988cd481b9b76f93917d7eeac": {
      "model_module": "@jupyter-widgets/controls",
      "model_module_version": "1.5.0",
      "model_name": "ToggleButtonsModel",
      "state": {
       "_options_labels": [
        "HandDraw1",
        "HandDraw2",
        "PanZoom",
        "FastIntervalSelector",
        "IndexSelector",
        "BrushIntervalSelector",
        "MultiSelector",
        "None"
       ],
       "button_style": "",
       "icons": [],
       "index": 0,
       "layout": "IPY_MODEL_9a36873d14254b3f9dcb377b4e7bb0fc",
       "style": "IPY_MODEL_88282d3299b24156905cb72e81097212",
       "tooltips": []
      }
     },
     "768c969f88054d40ab293dfec041fdc8": {
      "model_module": "bqplot",
      "model_module_version": "^0.5.3",
      "model_name": "FigureModel",
      "state": {
       "_dom_classes": [],
       "_model_module_version": "^0.5.3",
       "_view_module_version": "^0.5.3",
       "axes": [
        "IPY_MODEL_bc5c7f3244d247eba6eb600fbd2b0725",
        "IPY_MODEL_84182d7cc2744ca987d7f632e62ba6b3"
       ],
       "interaction": "IPY_MODEL_1e8c0d7955da43fdb392f9543d5c26c0",
       "layout": "IPY_MODEL_9992c9c757cb4bc59d504e5d681fe25d",
       "marks": [
        "IPY_MODEL_b721d7ed1e3c433fa4c5471e0d8e5bcf"
       ],
       "scale_x": "IPY_MODEL_8a73fa531f8e467da242367e52aa97a0",
       "scale_y": "IPY_MODEL_998568e9f8af4cd5b724621913dda40a"
      }
     },
     "791df5fdca0b4e18885ed90c7e9a001b": {
      "model_module": "bqplot",
      "model_module_version": "^0.5.3",
      "model_name": "AxisModel",
      "state": {
       "_model_module_version": "^0.5.3",
       "_view_module_version": "^0.5.3",
       "label": "Date",
       "scale": "IPY_MODEL_663fd5d262b94af298e3a0f4d0e0eba5",
       "side": "bottom",
       "tick_values": null
      }
     },
     "79b07b2fb66c498484ed505fa2b539b8": {
      "buffers": [
       {
        "data": "AACASa/9cEIAAECvAf5wQgAAABVU/nBCAADAeqb+cEIAAIDg+P5wQgAAQEZL/3BCAAAArJ3/cEIAAMAR8P9wQgAAgHdCAHFCAABA3ZQAcUIAAABD5wBxQgAAwKg5AXFCAACADowBcUIAAEB03gFxQgAAANowAnFCAADAP4MCcUIAAICl1QJxQgAAQAsoA3FCAAAAcXoDcUIAAMDWzANxQgAAgDwfBHFCAABAonEEcUIAAAAIxARxQgAAwG0WBXFCAACA02gFcUIAAEA5uwVxQgAAAJ8NBnFCAADABGAGcUIAAIBqsgZxQgAAQNAEB3FCAAAANlcHcUIAAMCbqQdxQgAAgAH8B3FCAABAZ04IcUIAAADNoAhxQgAAwDLzCHFCAACAmEUJcUIAAED+lwlxQgAAAGTqCXFCAADAyTwKcUIAAIAvjwpxQgAAQJXhCnFCAAAA+zMLcUIAAMBghgtxQgAAgMbYC3FCAABALCsMcUIAAACSfQxxQgAAwPfPDHFCAACAXSINcUIAAEDDdA1xQgAAACnHDXFCAADAjhkOcUIAAID0aw5xQgAAQFq+DnFCAAAAwBAPcUIAAMAlYw9xQgAAgIu1D3FCAABA8QcQcUIAAABXWhBxQgAAwLysEHFCAACAIv8QcUIAAECIURFxQgAAAO6jEXFCAADAU/YRcUIAAIC5SBJxQgAAQB+bEnFCAAAAhe0ScUIAAMDqPxNxQgAAgFCSE3FCAABAtuQTcUIAAAAcNxRxQgAAwIGJFHFCAACA59sUcUIAAEBNLhVxQgAAALOAFXFCAADAGNMVcUIAAIB+JRZxQgAAQOR3FnFCAAAASsoWcUIAAMCvHBdxQgAAgBVvF3FCAABAe8EXcUIAAADhExhxQgAAwEZmGHFCAACArLgYcUIAAEASCxlxQgAAAHhdGXFCAADA3a8ZcUIAAIBDAhpxQgAAQKlUGnFCAAAAD6cacUIAAMB0+RpxQgAAgNpLG3FCAABAQJ4bcUIAAACm8BtxQgAAwAtDHHFCAACAcZUccUIAAEDX5xxxQgAAAD06HXFCAADAoowdcUIAAIAI3x1xQgAAQG4xHnFCAAAA1IMecUIAAMA51h5xQgAAgJ8oH3FCAABABXsfcUIAAABrzR9xQgAAwNAfIHFCAACANnIgcUIAAECcxCBxQgAAAAIXIXFCAADAZ2khcUIAAIDNuyFxQgAAQDMOInFCAAAAmWAicUIAAMD+siJxQgAAgGQFI3FCAABAylcjcUIAAAAwqiNxQgAAwJX8I3FCAACA+04kcUIAAEBhoSRxQgAAAMfzJHFCAADALEYlcUIAAICSmCVxQgAAQPjqJXFCAAAAXj0mcUIAAMDDjyZxQgAAgCniJnFCAABAjzQncUIAAAD1hidxQgAAwFrZJ3FCAACAwCsocUIAAEAmfihxQgAAAIzQKHFCAADA8SIpcUIAAIBXdSlxQgAAQL3HKXFCAAAAIxoqcUIAAMCIbCpxQgAAgO6+KnFCAABAVBErcUIAAAC6YytxQgAAwB+2K3FCAACAhQgscUIAAEDrWixxQgAAAFGtLHFCAADAtv8scUIAAIAcUi1xQgAAQIKkLXFC",
        "encoding": "base64",
        "path": [
         "x",
         "value"
        ]
       },
       {
        "data": "Rj59ZvwIWUBksTmJObBYQLa1jjtdOFlAm3PVTzIjWUBxnk6XzRFZQAfpnG0xrllA4J5XaRDbWUC/gy17LN9ZQAgFP+/SKlpAyjHqjHncWUCi+iQ1G35aQMa29z8uGFpApBDo1PHbWUA5Wq1zTh9aQN0jp5YLDVpAG8Qnre7QWUAttT86aR5aQNpES2IJkllArAb4wYzVWUAsotC4drNZQLZ11GNyrVlATDFngrvBWUBW0C5TQ0VZQON7v8Wq1lhAAy33kJhXWUD5fcXVqaVZQDKZ2WT0fllAni4uwPJ4WUC0koFsBgJZQOvyQ4cjMVlA96/hjJh1WUA25JXkVrRZQGfTNN2x6llAUWkOrUk9WkCkQcrr4LJZQFlMl5CxBlpAq28/9qFOWkAA5u8BgwNaQK+FcclYHFpAmEq3ESMzWkBDYaBK3KpaQOEaF+O/klpAG9HZr4eRWkDGKBr49VpaQGUN0gUT4FpATCb/0owYW0CCRqFDpRVbQEAvMRnqXltAFujoirelW0Adc+JU9nxbQKz9jrA4ZVtANDKEjuHwWkASinIxIf5aQFhgawbElFpAgMWD8kCXWkDyJODLk5taQMuZLlvqVltAgbRGybsIW0CuocbXJZZaQESpiQRtKFtAE1OloZdDW0DkRLgaPo5bQG5fLDMTNFtAKETU3ggHW0AQ1bB4rAZbQLIyB0LIQltA1pwf36pdW0BMWY1TAmVbQKKg2fvhL1tAfPXxbqo5W0DQOowceFhbQJz2wvhCI1tAYG09jW0nW0BTiqwBpMdbQJu14cFW+ltAny4ff27/W0AIjoaWBOVbQFDNFznow1tAkNYaY3a7W0B7ZoB3afRbQPjuTwZvOVxAiPvXuUdvXECqCVR0c09cQD+TxqZ9D1xAq9Fmqm8NXEAlVcXlRyxcQI4/S8GVtVtAhzZCpfjUW0DPVUr6cdhbQOcu4ab/7FtAJfRpoRfLW0DQ7Rp3W09bQMdKdlSaG1tAq/nafhtAW0D8XlBUqENbQEcjhO96wFtAHsLla7rGW0CaTw+BfeBbQEy/ok/rjFtA+VmHcS/CW0D4j4jgovpaQJJIWmhmfFtApHRkNutJW0BfGORjfoVbQC6wusV3gVtAMTS1WqRMW0Cd5AVl3B9bQIVGXK87SltAkP86WFclW0DATLc55iRbQHxNic5bQFtAOWvEBQ+VW0Dw3CNqvaNbQJp+LPsgaVtAynZKy5v4W0DkVlxwPiNcQA88EijuE1xAmRQmI9xKXECXLmxgRRRcQHDHOx61zltAFVo7tDvjW0AYz8tO6aFbQFchMm7nYFtAQGeaFLRaW0Au4fYVDcNbQHT3Mtc8HVxA28yo65f1W0DaOjwx9pBbQOOORFH+SVtAjXcWPgr7W0B9nneTSO1bQNdWBJjWA1xAIBbPnyP4W0DX2HDlaDtcQLDSXE0ALFxAon0peegMXEDkI8uIzpVbQCILUBj7oVtAM9w1Xh5kW0C/8/ACHTVbQNDSN6FvRltASCk7hweCW0BQZZ5ulYRbQG/DCgXIXVtADSLwaCj/WkCGEJZeWLpaQBe48MfJbFpAg3HK0rtKWkD1QnU8AXtaQDNCx3aA8llA",
        "encoding": "base64",
        "path": [
         "y",
         "value"
        ]
       }
      ],
      "model_module": "bqplot",
      "model_module_version": "^0.5.3",
      "model_name": "LinesModel",
      "state": {
       "_model_module_version": "^0.5.3",
       "_view_module_version": "^0.5.3",
       "colors": [
        "red"
       ],
       "fill_colors": [],
       "labels": [
        "C1"
       ],
       "scales": {
        "x": "IPY_MODEL_466e28cc64464b6ea1b53d8fc8d614b1",
        "y": "IPY_MODEL_12ec71be94564c7682a2440013cbbd9f"
       },
       "x": {
        "dtype": "float64",
        "shape": [
         150
        ],
        "type": "date"
       },
       "y": {
        "dtype": "float64",
        "shape": [
         150
        ],
        "type": null
       }
      }
     },
     "7a104df44f004918ae621305348a1fbb": {
      "model_module": "@jupyter-widgets/controls",
      "model_module_version": "1.5.0",
      "model_name": "HTMLModel",
      "state": {
       "layout": "IPY_MODEL_9b813192659b4210a07ae35e9cdf4399",
       "style": "IPY_MODEL_0a348c0ac4fd4553b3e64cfc45098cf9",
       "value": "[]"
      }
     },
     "7abfcac48b6044ca986ae340e7b5494c": {
      "model_module": "bqplot",
      "model_module_version": "^0.5.3",
      "model_name": "AxisModel",
      "state": {
       "_model_module_version": "^0.5.3",
       "_view_module_version": "^0.5.3",
       "grid_lines": "none",
       "label": "Time",
       "scale": "IPY_MODEL_227cddda0bd148f39b61a2b3d1def394",
       "side": "top",
       "tick_values": null
      }
     },
     "7ad1ccaa83c54090b5d1b1c2598d2722": {
      "model_module": "bqplot",
      "model_module_version": "^0.5.3",
      "model_name": "MultiSelectorModel",
      "state": {
       "_model_module_version": "^0.5.3",
       "_view_module_version": "^0.5.3",
       "color": null,
       "orientation": "horizontal",
       "scale": "IPY_MODEL_466e28cc64464b6ea1b53d8fc8d614b1"
      }
     },
     "7cff6052cca44f59a3c3a41cbd4601cc": {
      "model_module": "bqplot",
      "model_module_version": "^0.5.3",
      "model_name": "FigureModel",
      "state": {
       "_dom_classes": [],
       "_model_module_version": "^0.5.3",
       "_view_module_version": "^0.5.3",
       "axes": [
        "IPY_MODEL_8f99dedda5cb43e99250ed494bf04253",
        "IPY_MODEL_e83a2a39b5824b2b823eced66396e557"
       ],
       "interaction": "IPY_MODEL_e6aa6260148143aa832415497385a927",
       "layout": "IPY_MODEL_8345ade7e762418d9f66c6cb34f1f26f",
       "marks": [
        "IPY_MODEL_4c358b600f194795aa528083d56550cf"
       ],
       "scale_x": "IPY_MODEL_c9179073a6eb4ba2aa3fb8915eef10d0",
       "scale_y": "IPY_MODEL_413ba3128828427486cb9b36377c5768",
       "title": "Fast Interval Selector Selected Indices Example"
      }
     },
     "8165c38d55ab454fab034971204059cc": {
      "model_module": "@jupyter-widgets/controls",
      "model_module_version": "1.5.0",
      "model_name": "DescriptionStyleModel",
      "state": {
       "description_width": ""
      }
     },
     "8345ade7e762418d9f66c6cb34f1f26f": {
      "model_module": "@jupyter-widgets/base",
      "model_module_version": "1.2.0",
      "model_name": "LayoutModel",
      "state": {}
     },
     "84182d7cc2744ca987d7f632e62ba6b3": {
      "model_module": "bqplot",
      "model_module_version": "^0.5.3",
      "model_name": "AxisModel",
      "state": {
       "_model_module_version": "^0.5.3",
       "_view_module_version": "^0.5.3",
       "grid_lines": "none",
       "label": "Price",
       "orientation": "vertical",
       "scale": "IPY_MODEL_d30c338420404ec38a0204c8d735c6f8",
       "side": "left",
       "tick_values": null
      }
     },
     "8527464eb9f04f19b062033c2f4e8e2d": {
      "model_module": "bqplot",
      "model_module_version": "^0.5.3",
      "model_name": "LinearScaleModel",
      "state": {
       "_model_module_version": "^0.5.3",
       "_view_module_version": "^0.5.3",
       "allow_padding": false,
       "max": 1,
       "min": 0,
       "stabilized": false
      }
     },
     "8537169387244ab59e47db5282447510": {
      "model_module": "@jupyter-widgets/controls",
      "model_module_version": "1.5.0",
      "model_name": "HTMLModel",
      "state": {
       "layout": "IPY_MODEL_f8cb49f7f56a42c0aceafb59d151fcb0",
       "style": "IPY_MODEL_28cb6261a3614bbc8efd0ed83ebd3566",
       "value": "None"
      }
     },
     "853961d363e648c983c8188666356db4": {
      "model_module": "bqplot",
      "model_module_version": "^0.5.3",
      "model_name": "LinearScaleModel",
      "state": {
       "_model_module_version": "^0.5.3",
       "_view_module_version": "^0.5.3",
       "stabilized": false
      }
     },
     "88282d3299b24156905cb72e81097212": {
      "model_module": "@jupyter-widgets/controls",
      "model_module_version": "1.5.0",
      "model_name": "ToggleButtonsStyleModel",
      "state": {
       "button_width": "",
       "description_width": ""
      }
     },
     "8a73fa531f8e467da242367e52aa97a0": {
      "model_module": "bqplot",
      "model_module_version": "^0.5.3",
      "model_name": "LinearScaleModel",
      "state": {
       "_model_module_version": "^0.5.3",
       "_view_module_version": "^0.5.3",
       "allow_padding": false,
       "max": 1,
       "min": 0,
       "stabilized": false
      }
     },
     "8f542102f6c1486e9c0de117c5df6655": {
      "model_module": "bqplot",
      "model_module_version": "^0.5.3",
      "model_name": "LinearScaleModel",
      "state": {
       "_model_module_version": "^0.5.3",
       "_view_module_version": "^0.5.3",
       "allow_padding": false,
       "max": 1,
       "min": 0,
       "stabilized": false
      }
     },
     "8f7454af973b4fe88541115754643f8d": {
      "model_module": "@jupyter-widgets/controls",
      "model_module_version": "1.5.0",
      "model_name": "HTMLModel",
      "state": {
       "layout": "IPY_MODEL_ef1e83122544437b988b09f7d9da796f",
       "style": "IPY_MODEL_ddf6d33eec074a8e8944ccdb143af601",
       "value": "{}"
      }
     },
     "8f99dedda5cb43e99250ed494bf04253": {
      "model_module": "bqplot",
      "model_module_version": "^0.5.3",
      "model_name": "AxisModel",
      "state": {
       "_model_module_version": "^0.5.3",
       "_view_module_version": "^0.5.3",
       "label": "Date",
       "scale": "IPY_MODEL_9393898c9d6446ebbca43acec12ffbca",
       "side": "bottom",
       "tick_values": null
      }
     },
     "9393898c9d6446ebbca43acec12ffbca": {
      "model_module": "bqplot",
      "model_module_version": "^0.5.3",
      "model_name": "DateScaleModel",
      "state": {
       "_model_module_version": "^0.5.3",
       "_view_module_version": "^0.5.3",
       "min": "2006-06-01T00:00:00.000000"
      }
     },
     "96b52cfa497744bfa9cae248cb8cbd60": {
      "model_module": "bqplot",
      "model_module_version": "^0.5.3",
      "model_name": "LinearScaleModel",
      "state": {
       "_model_module_version": "^0.5.3",
       "_view_module_version": "^0.5.3",
       "allow_padding": false,
       "max": 1,
       "min": 0,
       "stabilized": false
      }
     },
     "97f4031762a4430bab61e915fb3bcb29": {
      "model_module": "bqplot",
      "model_module_version": "^0.5.3",
      "model_name": "FastIntervalSelectorModel",
      "state": {
       "_model_module_version": "^0.5.3",
       "_view_module_version": "^0.5.3",
       "marks": [
        "IPY_MODEL_5494d197d792469082c290dce239e532",
        "IPY_MODEL_4555fdab016243ad89e3db04c3629d4b"
       ],
       "scale": "IPY_MODEL_b28acc94d9074e86b5fb07a4a7224697"
      }
     },
     "991ca6b571c542ea8aece504f59893dc": {
      "model_module": "bqplot",
      "model_module_version": "^0.5.3",
      "model_name": "FigureModel",
      "state": {
       "_dom_classes": [],
       "_model_module_version": "^0.5.3",
       "_view_module_version": "^0.5.3",
       "axes": [
        "IPY_MODEL_791df5fdca0b4e18885ed90c7e9a001b",
        "IPY_MODEL_c947fd489ba246968b8adfb22ae4439d"
       ],
       "interaction": "IPY_MODEL_f3b45e9925104a55ad94c8e4183f54c4",
       "layout": "IPY_MODEL_06ceff306b4b4e2fb8e534b494fddd7b",
       "marks": [
        "IPY_MODEL_51ecf7dc40b946c8960e591546a84865"
       ],
       "scale_x": "IPY_MODEL_176197a113324472a8fe6ec4c6250190",
       "scale_y": "IPY_MODEL_8527464eb9f04f19b062033c2f4e8e2d"
      }
     },
     "998568e9f8af4cd5b724621913dda40a": {
      "model_module": "bqplot",
      "model_module_version": "^0.5.3",
      "model_name": "LinearScaleModel",
      "state": {
       "_model_module_version": "^0.5.3",
       "_view_module_version": "^0.5.3",
       "allow_padding": false,
       "max": 1,
       "min": 0,
       "stabilized": false
      }
     },
     "9992c9c757cb4bc59d504e5d681fe25d": {
      "model_module": "@jupyter-widgets/base",
      "model_module_version": "1.2.0",
      "model_name": "LayoutModel",
      "state": {}
     },
     "9a36873d14254b3f9dcb377b4e7bb0fc": {
      "model_module": "@jupyter-widgets/base",
      "model_module_version": "1.2.0",
      "model_name": "LayoutModel",
      "state": {}
     },
     "9a49b1ef86da4a9d979b48363f723e26": {
      "model_module": "@jupyter-widgets/controls",
      "model_module_version": "1.5.0",
      "model_name": "DescriptionStyleModel",
      "state": {
       "description_width": ""
      }
     },
     "9a4b4f86abc347e48d9887be6f662532": {
      "model_module": "@jupyter-widgets/base",
      "model_module_version": "1.2.0",
      "model_name": "LayoutModel",
      "state": {}
     },
     "9b5524e0a6fb42d5a42085cfc3f56113": {
      "model_module": "@jupyter-widgets/base",
      "model_module_version": "1.2.0",
      "model_name": "LayoutModel",
      "state": {}
     },
     "9b813192659b4210a07ae35e9cdf4399": {
      "model_module": "@jupyter-widgets/base",
      "model_module_version": "1.2.0",
      "model_name": "LayoutModel",
      "state": {}
     },
     "9b889c48425d417fa83c5cd4704036d2": {
      "model_module": "bqplot",
      "model_module_version": "^0.5.3",
      "model_name": "LinearScaleModel",
      "state": {
       "_model_module_version": "^0.5.3",
       "_view_module_version": "^0.5.3",
       "allow_padding": false,
       "max": 1,
       "min": 0,
       "stabilized": false
      }
     },
     "9eda66aa6938438d87f82dac6446784c": {
      "model_module": "bqplot",
      "model_module_version": "^0.5.3",
      "model_name": "AxisModel",
      "state": {
       "_model_module_version": "^0.5.3",
       "_view_module_version": "^0.5.3",
       "grid_lines": "none",
       "label": "Freq",
       "orientation": "vertical",
       "scale": "IPY_MODEL_12ec71be94564c7682a2440013cbbd9f",
       "side": "left",
       "tick_values": null
      }
     },
     "9f57302c6d60415e936cc2cc120bf3ab": {
      "model_module": "bqplot",
      "model_module_version": "^0.5.3",
      "model_name": "AxisModel",
      "state": {
       "_model_module_version": "^0.5.3",
       "_view_module_version": "^0.5.3",
       "grid_lines": "none",
       "label": "Returns",
       "scale": "IPY_MODEL_acd62a19a6f048718d0bdfbb41f85811",
       "side": "bottom",
       "tick_values": null
      }
     },
     "a26fbbf9b6244f7f827879597d2a3aef": {
      "model_module": "bqplot",
      "model_module_version": "^0.5.3",
      "model_name": "LinearScaleModel",
      "state": {
       "_model_module_version": "^0.5.3",
       "_view_module_version": "^0.5.3",
       "stabilized": false
      }
     },
     "a36e3cfa817349048168ddb7e426a5d4": {
      "model_module": "@jupyter-widgets/controls",
      "model_module_version": "1.5.0",
      "model_name": "DescriptionStyleModel",
      "state": {
       "description_width": ""
      }
     },
     "a4a33d79de0a48038e046194355afb35": {
      "model_module": "bqplot",
      "model_module_version": "^0.5.3",
      "model_name": "LassoSelectorModel",
      "state": {
       "_model_module_version": "^0.5.3",
       "_view_module_version": "^0.5.3",
       "marks": [
        "IPY_MODEL_bc84319a691a456bac9ea0a09804182a",
        "IPY_MODEL_11188a190401427699ea8ccc6ae867a6"
       ]
      }
     },
     "acd62a19a6f048718d0bdfbb41f85811": {
      "model_module": "bqplot",
      "model_module_version": "^0.5.3",
      "model_name": "LinearScaleModel",
      "state": {
       "_model_module_version": "^0.5.3",
       "_view_module_version": "^0.5.3",
       "stabilized": false
      }
     },
     "aee599ab94d0479f8b1d415113de047f": {
      "model_module": "@jupyter-widgets/controls",
      "model_module_version": "1.5.0",
      "model_name": "VBoxModel",
      "state": {
       "children": [
        "IPY_MODEL_e40587ab79264befaf4a23d2dda87c36",
        "IPY_MODEL_7cff6052cca44f59a3c3a41cbd4601cc"
       ],
       "layout": "IPY_MODEL_b976bda2d0244dc89de75e711189a5e8"
      }
     },
     "b0fb4887ff26488ba84d1a10b9e49881": {
      "model_module": "bqplot",
      "model_module_version": "^0.5.3",
      "model_name": "LinearScaleModel",
      "state": {
       "_model_module_version": "^0.5.3",
       "_view_module_version": "^0.5.3",
       "stabilized": false
      }
     },
     "b1a943b6b9754e9ebf482d8ec3ebdc78": {
      "model_module": "bqplot",
      "model_module_version": "^0.5.3",
      "model_name": "AxisModel",
      "state": {
       "_model_module_version": "^0.5.3",
       "_view_module_version": "^0.5.3",
       "label": "Security 1",
       "scale": "IPY_MODEL_00f6aee200444cee86e5a9b7f346c49e",
       "side": "bottom",
       "tick_values": null
      }
     },
     "b28acc94d9074e86b5fb07a4a7224697": {
      "model_module": "bqplot",
      "model_module_version": "^0.5.3",
      "model_name": "DateScaleModel",
      "state": {
       "_model_module_version": "^0.5.3",
       "_view_module_version": "^0.5.3"
      }
     },
     "b2c3431017774aa89208c1f513ce89ec": {
      "model_module": "@jupyter-widgets/base",
      "model_module_version": "1.2.0",
      "model_name": "LayoutModel",
      "state": {}
     },
     "b3b425e8b69c467eb610e17c8b5b09d4": {
      "model_module": "@jupyter-widgets/controls",
      "model_module_version": "1.5.0",
      "model_name": "DescriptionStyleModel",
      "state": {
       "description_width": ""
      }
     },
     "b3d78c48e16f494b9b05d82fc9145189": {
      "model_module": "bqplot",
      "model_module_version": "^0.5.3",
      "model_name": "HandDrawModel",
      "state": {
       "_model_module_version": "^0.5.3",
       "_view_module_version": "^0.5.3",
       "lines": "IPY_MODEL_d670a57487a349019d117e15f6067f0b"
      }
     },
     "b3e9902c109540d1aa38fbcd7c068aae": {
      "model_module": "bqplot",
      "model_module_version": "^0.5.3",
      "model_name": "DateScaleModel",
      "state": {
       "_model_module_version": "^0.5.3",
       "_view_module_version": "^0.5.3",
       "min": "2006-06-01T00:00:00.000000"
      }
     },
     "b6e1c7b2e9784fe0b6efdb44103bdf9f": {
      "model_module": "bqplot",
      "model_module_version": "^0.5.3",
      "model_name": "AxisModel",
      "state": {
       "_model_module_version": "^0.5.3",
       "_view_module_version": "^0.5.3",
       "grid_lines": "none",
       "label": "Freq",
       "orientation": "vertical",
       "scale": "IPY_MODEL_20ed2d955c4e4ad2a3e01f3ea6b79326",
       "side": "left",
       "tick_values": null
      }
     },
     "b721d7ed1e3c433fa4c5471e0d8e5bcf": {
      "buffers": [
       {
        "data": "AACASa/9cEIAAECvAf5wQgAAABVU/nBCAADAeqb+cEIAAIDg+P5wQgAAQEZL/3BCAAAArJ3/cEIAAMAR8P9wQgAAgHdCAHFCAABA3ZQAcUIAAABD5wBxQgAAwKg5AXFCAACADowBcUIAAEB03gFxQgAAANowAnFCAADAP4MCcUIAAICl1QJxQgAAQAsoA3FCAAAAcXoDcUIAAMDWzANxQgAAgDwfBHFCAABAonEEcUIAAAAIxARxQgAAwG0WBXFCAACA02gFcUIAAEA5uwVxQgAAAJ8NBnFCAADABGAGcUIAAIBqsgZxQgAAQNAEB3FCAAAANlcHcUIAAMCbqQdxQgAAgAH8B3FCAABAZ04IcUIAAADNoAhxQgAAwDLzCHFCAACAmEUJcUIAAED+lwlxQgAAAGTqCXFCAADAyTwKcUIAAIAvjwpxQgAAQJXhCnFCAAAA+zMLcUIAAMBghgtxQgAAgMbYC3FCAABALCsMcUIAAACSfQxxQgAAwPfPDHFCAACAXSINcUIAAEDDdA1xQgAAACnHDXFCAADAjhkOcUIAAID0aw5xQgAAQFq+DnFCAAAAwBAPcUIAAMAlYw9xQgAAgIu1D3FCAABA8QcQcUIAAABXWhBxQgAAwLysEHFCAACAIv8QcUIAAECIURFxQgAAAO6jEXFCAADAU/YRcUIAAIC5SBJxQgAAQB+bEnFCAAAAhe0ScUIAAMDqPxNxQgAAgFCSE3FCAABAtuQTcUIAAAAcNxRxQgAAwIGJFHFCAACA59sUcUIAAEBNLhVxQgAAALOAFXFCAADAGNMVcUIAAIB+JRZxQgAAQOR3FnFCAAAASsoWcUIAAMCvHBdxQgAAgBVvF3FCAABAe8EXcUIAAADhExhxQgAAwEZmGHFCAACArLgYcUIAAEASCxlxQgAAAHhdGXFCAADA3a8ZcUIAAIBDAhpxQgAAQKlUGnFCAAAAD6cacUIAAMB0+RpxQgAAgNpLG3FCAABAQJ4bcUIAAACm8BtxQgAAwAtDHHFCAACAcZUccUIAAEDX5xxxQgAAAD06HXFCAADAoowdcUIAAIAI3x1xQgAAQG4xHnFCAAAA1IMecUIAAMA51h5xQgAAgJ8oH3FCAABABXsfcUIAAABrzR9xQgAAwNAfIHFCAACANnIgcUIAAECcxCBxQgAAAAIXIXFCAADAZ2khcUIAAIDNuyFxQgAAQDMOInFCAAAAmWAicUIAAMD+siJxQgAAgGQFI3FCAABAylcjcUIAAAAwqiNxQgAAwJX8I3FCAACA+04kcUIAAEBhoSRxQgAAAMfzJHFCAADALEYlcUIAAICSmCVxQgAAQPjqJXFCAAAAXj0mcUIAAMDDjyZxQgAAgCniJnFCAABAjzQncUIAAAD1hidxQgAAwFrZJ3FCAACAwCsocUIAAEAmfihxQgAAAIzQKHFCAADA8SIpcUIAAIBXdSlxQgAAQL3HKXFCAAAAIxoqcUIAAMCIbCpxQgAAgO6+KnFCAABAVBErcUIAAAC6YytxQgAAwB+2K3FCAACAhQgscUIAAEDrWixxQgAAAFGtLHFCAADAtv8scUIAAIAcUi1xQgAAQIKkLXFC",
        "encoding": "base64",
        "path": [
         "x",
         "value"
        ]
       },
       {
        "data": "Rj59ZvwIWUBksTmJObBYQLa1jjtdOFlAm3PVTzIjWUBxnk6XzRFZQAfpnG0xrllA4J5XaRDbWUC/gy17LN9ZQAgFP+/SKlpAyjHqjHncWUCi+iQ1G35aQMa29z8uGFpApBDo1PHbWUA5Wq1zTh9aQN0jp5YLDVpAG8Qnre7QWUAttT86aR5aQNpES2IJkllArAb4wYzVWUAsotC4drNZQLZ11GNyrVlATDFngrvBWUBW0C5TQ0VZQON7v8Wq1lhAAy33kJhXWUD5fcXVqaVZQDKZ2WT0fllAni4uwPJ4WUC0koFsBgJZQOvyQ4cjMVlA96/hjJh1WUA25JXkVrRZQGfTNN2x6llAUWkOrUk9WkCkQcrr4LJZQFlMl5CxBlpAq28/9qFOWkAA5u8BgwNaQK+FcclYHFpAmEq3ESMzWkBDYaBK3KpaQOEaF+O/klpAG9HZr4eRWkDGKBr49VpaQGUN0gUT4FpATCb/0owYW0CCRqFDpRVbQEAvMRnqXltAFujoirelW0Adc+JU9nxbQKz9jrA4ZVtANDKEjuHwWkASinIxIf5aQFhgawbElFpAgMWD8kCXWkDyJODLk5taQMuZLlvqVltAgbRGybsIW0CuocbXJZZaQESpiQRtKFtAE1OloZdDW0DkRLgaPo5bQG5fLDMTNFtAKETU3ggHW0AQ1bB4rAZbQLIyB0LIQltA1pwf36pdW0BMWY1TAmVbQKKg2fvhL1tAfPXxbqo5W0DQOowceFhbQJz2wvhCI1tAYG09jW0nW0BTiqwBpMdbQJu14cFW+ltAny4ff27/W0AIjoaWBOVbQFDNFznow1tAkNYaY3a7W0B7ZoB3afRbQPjuTwZvOVxAiPvXuUdvXECqCVR0c09cQD+TxqZ9D1xAq9Fmqm8NXEAlVcXlRyxcQI4/S8GVtVtAhzZCpfjUW0DPVUr6cdhbQOcu4ab/7FtAJfRpoRfLW0DQ7Rp3W09bQMdKdlSaG1tAq/nafhtAW0D8XlBUqENbQEcjhO96wFtAHsLla7rGW0CaTw+BfeBbQEy/ok/rjFtA+VmHcS/CW0D4j4jgovpaQJJIWmhmfFtApHRkNutJW0BfGORjfoVbQC6wusV3gVtAMTS1WqRMW0Cd5AVl3B9bQIVGXK87SltAkP86WFclW0DATLc55iRbQHxNic5bQFtAOWvEBQ+VW0Dw3CNqvaNbQJp+LPsgaVtAynZKy5v4W0DkVlxwPiNcQA88EijuE1xAmRQmI9xKXECXLmxgRRRcQHDHOx61zltAFVo7tDvjW0AYz8tO6aFbQFchMm7nYFtAQGeaFLRaW0Au4fYVDcNbQHT3Mtc8HVxA28yo65f1W0DaOjwx9pBbQOOORFH+SVtAjXcWPgr7W0B9nneTSO1bQNdWBJjWA1xAIBbPnyP4W0DX2HDlaDtcQLDSXE0ALFxAon0peegMXEDkI8uIzpVbQCILUBj7oVtAM9w1Xh5kW0C/8/ACHTVbQNDSN6FvRltASCk7hweCW0BQZZ5ulYRbQG/DCgXIXVtADSLwaCj/WkCGEJZeWLpaQBe48MfJbFpAg3HK0rtKWkD1QnU8AXtaQDNCx3aA8llA",
        "encoding": "base64",
        "path": [
         "y",
         "value"
        ]
       }
      ],
      "model_module": "bqplot",
      "model_module_version": "^0.5.3",
      "model_name": "LinesModel",
      "state": {
       "_model_module_version": "^0.5.3",
       "_view_module_version": "^0.5.3",
       "colors": [
        "red"
       ],
       "fill_colors": [],
       "labels": [
        "C1"
       ],
       "scales": {
        "x": "IPY_MODEL_26c8f8e258104e30a5dd30986997316d",
        "y": "IPY_MODEL_d30c338420404ec38a0204c8d735c6f8"
       },
       "x": {
        "dtype": "float64",
        "shape": [
         150
        ],
        "type": "date"
       },
       "y": {
        "dtype": "float64",
        "shape": [
         150
        ],
        "type": null
       }
      }
     },
     "b80ae359193644dca5eb2e0f2cb4c0c2": {
      "model_module": "bqplot",
      "model_module_version": "^0.5.3",
      "model_name": "LinearScaleModel",
      "state": {
       "_model_module_version": "^0.5.3",
       "_view_module_version": "^0.5.3",
       "stabilized": false
      }
     },
     "b976bda2d0244dc89de75e711189a5e8": {
      "model_module": "@jupyter-widgets/base",
      "model_module_version": "1.2.0",
      "model_name": "LayoutModel",
      "state": {}
     },
     "bc5c7f3244d247eba6eb600fbd2b0725": {
      "model_module": "bqplot",
      "model_module_version": "^0.5.3",
      "model_name": "AxisModel",
      "state": {
       "_model_module_version": "^0.5.3",
       "_view_module_version": "^0.5.3",
       "grid_lines": "none",
       "label": "Date",
       "scale": "IPY_MODEL_26c8f8e258104e30a5dd30986997316d",
       "side": "bottom",
       "tick_values": null
      }
     },
     "bc84319a691a456bac9ea0a09804182a": {
      "buffers": [
       {
        "data": "AAAAAAAA8D8=",
        "encoding": "base64",
        "path": [
         "default_opacities",
         "value"
        ]
       },
       {
        "data": "AAAAAAEAAAACAAAAAwAAAAQAAAAFAAAABgAAAAcAAAAIAAAACQAAAAoAAAALAAAADAAAAA0AAAAOAAAADwAAABAAAAARAAAAEgAAABMAAAA=",
        "encoding": "base64",
        "path": [
         "x",
         "value"
        ]
       },
       {
        "data": "AAAAAAEAAAACAAAAAwAAAAQAAAAFAAAABgAAAAcAAAAIAAAACQAAAAoAAAALAAAADAAAAA0AAAAOAAAADwAAABAAAAARAAAAEgAAABMAAAA=",
        "encoding": "base64",
        "path": [
         "y",
         "value"
        ]
       }
      ],
      "model_module": "bqplot",
      "model_module_version": "^0.5.3",
      "model_name": "ScatterModel",
      "state": {
       "_model_module_version": "^0.5.3",
       "_view_module_version": "^0.5.3",
       "colors": [
        "skyblue"
       ],
       "default_opacities": {
        "dtype": "float64",
        "shape": [
         1
        ],
        "type": null
       },
       "names": null,
       "scales": {
        "x": "IPY_MODEL_3e14b18e83d844268bfaa6527ab6f694",
        "y": "IPY_MODEL_b0fb4887ff26488ba84d1a10b9e49881"
       },
       "scales_metadata": {
        "color": {
         "dimension": "color"
        },
        "opacity": {
         "dimension": "opacity"
        },
        "rotation": {
         "dimension": "rotation"
        },
        "size": {
         "dimension": "size"
        },
        "skew": {
         "dimension": "skew"
        },
        "x": {
         "dimension": "x",
         "orientation": "horizontal"
        },
        "y": {
         "dimension": "y",
         "orientation": "vertical"
        }
       },
       "x": {
        "dtype": "int32",
        "shape": [
         20
        ],
        "type": null
       },
       "y": {
        "dtype": "int32",
        "shape": [
         20
        ],
        "type": null
       }
      }
     },
     "c0685757deb645759d78fd9986f82506": {
      "model_module": "bqplot",
      "model_module_version": "^0.5.3",
      "model_name": "BrushIntervalSelectorModel",
      "state": {
       "_model_module_version": "^0.5.3",
       "_view_module_version": "^0.5.3",
       "marks": [
        "IPY_MODEL_ff319b5d1d2546d2a31481f7b3eeddc5"
       ],
       "scale": "IPY_MODEL_853961d363e648c983c8188666356db4"
      }
     },
     "c0720cf11b87421bab9900a2c869250a": {
      "model_module": "bqplot",
      "model_module_version": "^0.5.3",
      "model_name": "FigureModel",
      "state": {
       "_dom_classes": [],
       "_model_module_version": "^0.5.3",
       "_view_module_version": "^0.5.3",
       "axes": [
        "IPY_MODEL_9f57302c6d60415e936cc2cc120bf3ab",
        "IPY_MODEL_b6e1c7b2e9784fe0b6efdb44103bdf9f"
       ],
       "interaction": "IPY_MODEL_3506f91b75754cb39b938f7db01f97be",
       "layout": "IPY_MODEL_2899910010824ca99ca39a5979f55637",
       "marks": [
        "IPY_MODEL_17ec40d56486456ea663605d2506ff03"
       ],
       "scale_x": "IPY_MODEL_3283b8d6ca1f41fcb9f0fe430ed9d85d",
       "scale_y": "IPY_MODEL_27a9b4de4eef4586939a431c40355cc1",
       "title": "Multi-Selector Example"
      }
     },
     "c13868db8f8b4ec3b280b1eb337e29bc": {
      "model_module": "@jupyter-widgets/controls",
      "model_module_version": "1.5.0",
      "model_name": "VBoxModel",
      "state": {
       "children": [
        "IPY_MODEL_4b3c63e1327b47829b9cedebbb2043dd",
        "IPY_MODEL_13528458dd354c99b75ddded7e66dcfb"
       ],
       "layout": "IPY_MODEL_6c851015cfd043f984f44b9cdddecd1a"
      }
     },
     "c544e8eca4c7491a94f4e22a5b916aea": {
      "model_module": "bqplot",
      "model_module_version": "^0.5.3",
      "model_name": "BrushIntervalSelectorModel",
      "state": {
       "_model_module_version": "^0.5.3",
       "_view_module_version": "^0.5.3",
       "marks": [
        "IPY_MODEL_1d4c7ff50018485098466e8ca6ae0660",
        "IPY_MODEL_d670a57487a349019d117e15f6067f0b"
       ],
       "scale": "IPY_MODEL_227cddda0bd148f39b61a2b3d1def394"
      }
     },
     "c73a36112836464a8bbd9a46b49b6bf2": {
      "model_module": "@jupyter-widgets/controls",
      "model_module_version": "1.5.0",
      "model_name": "VBoxModel",
      "state": {
       "children": [
        "IPY_MODEL_6472ae07ed6a4943b3afcec77bf7335c",
        "IPY_MODEL_2fb182be5ab64af4922b84bd4a780f50"
       ],
       "layout": "IPY_MODEL_69c5256746cf46549d74ffcb7aa46e3d"
      }
     },
     "c77b3f8399c54746b5c50d928e2cd548": {
      "model_module": "bqplot",
      "model_module_version": "^0.5.3",
      "model_name": "LinearScaleModel",
      "state": {
       "_model_module_version": "^0.5.3",
       "_view_module_version": "^0.5.3",
       "allow_padding": false,
       "max": 1,
       "min": 0,
       "stabilized": false
      }
     },
     "c7af0f90de444dec85250c3ff97aefd3": {
      "model_module": "@jupyter-widgets/controls",
      "model_module_version": "1.5.0",
      "model_name": "VBoxModel",
      "state": {
       "children": [
        "IPY_MODEL_8537169387244ab59e47db5282447510",
        "IPY_MODEL_30743430522b4917ac1853e2d844e037"
       ],
       "layout": "IPY_MODEL_560b2db8c71e447997120950931c4421"
      }
     },
     "c9179073a6eb4ba2aa3fb8915eef10d0": {
      "model_module": "bqplot",
      "model_module_version": "^0.5.3",
      "model_name": "LinearScaleModel",
      "state": {
       "_model_module_version": "^0.5.3",
       "_view_module_version": "^0.5.3",
       "allow_padding": false,
       "max": 1,
       "min": 0,
       "stabilized": false
      }
     },
     "c942c7aadcf1494a95a78d0213cfd963": {
      "model_module": "@jupyter-widgets/controls",
      "model_module_version": "1.5.0",
      "model_name": "HTMLModel",
      "state": {
       "layout": "IPY_MODEL_cfdeae9787a24f24b83d53d5bf9ac399",
       "style": "IPY_MODEL_ed922fd25a934f4a822b4f1b9d413bc4",
       "value": "[]"
      }
     },
     "c947fd489ba246968b8adfb22ae4439d": {
      "model_module": "bqplot",
      "model_module_version": "^0.5.3",
      "model_name": "AxisModel",
      "state": {
       "_model_module_version": "^0.5.3",
       "_view_module_version": "^0.5.3",
       "grid_lines": "none",
       "label": "Price",
       "orientation": "vertical",
       "scale": "IPY_MODEL_29aab346a3ff413ea02e1a3338798ec3",
       "side": "left",
       "tick_values": null
      }
     },
     "c9c0e78fa19a42a9a4b019bf661902c3": {
      "model_module": "bqplot",
      "model_module_version": "^0.5.3",
      "model_name": "AxisModel",
      "state": {
       "_model_module_version": "^0.5.3",
       "_view_module_version": "^0.5.3",
       "label": "Date",
       "scale": "IPY_MODEL_b3e9902c109540d1aa38fbcd7c068aae",
       "side": "bottom",
       "tick_values": null
      }
     },
     "cc190b1b60a542eaab629c70e7e67056": {
      "model_module": "bqplot",
      "model_module_version": "^0.5.3",
      "model_name": "AxisModel",
      "state": {
       "_model_module_version": "^0.5.3",
       "_view_module_version": "^0.5.3",
       "label": "Returns",
       "scale": "IPY_MODEL_853961d363e648c983c8188666356db4",
       "side": "bottom",
       "tick_format": "0.2%",
       "tick_values": null
      }
     },
     "cd9dd453ef134a6a8462d053a83dab4e": {
      "model_module": "bqplot",
      "model_module_version": "^0.5.3",
      "model_name": "LinearScaleModel",
      "state": {
       "_model_module_version": "^0.5.3",
       "_view_module_version": "^0.5.3",
       "stabilized": false
      }
     },
     "cfa8dd29703e439da41f6be60162e140": {
      "model_module": "bqplot",
      "model_module_version": "^0.5.3",
      "model_name": "HandDrawModel",
      "state": {
       "_model_module_version": "^0.5.3",
       "_view_module_version": "^0.5.3",
       "lines": "IPY_MODEL_1d4c7ff50018485098466e8ca6ae0660"
      }
     },
     "cfdeae9787a24f24b83d53d5bf9ac399": {
      "model_module": "@jupyter-widgets/base",
      "model_module_version": "1.2.0",
      "model_name": "LayoutModel",
      "state": {}
     },
     "d1ace1d3268e426c9bd8696dcac74ebb": {
      "model_module": "bqplot",
      "model_module_version": "^0.5.3",
      "model_name": "LinearScaleModel",
      "state": {
       "_model_module_version": "^0.5.3",
       "_view_module_version": "^0.5.3",
       "stabilized": false
      }
     },
     "d229097f42684b7bbebf298d20df9b8e": {
      "model_module": "bqplot",
      "model_module_version": "^0.5.3",
      "model_name": "LinearScaleModel",
      "state": {
       "_model_module_version": "^0.5.3",
       "_view_module_version": "^0.5.3",
       "stabilized": false
      }
     },
     "d30c338420404ec38a0204c8d735c6f8": {
      "model_module": "bqplot",
      "model_module_version": "^0.5.3",
      "model_name": "LinearScaleModel",
      "state": {
       "_model_module_version": "^0.5.3",
       "_view_module_version": "^0.5.3",
       "stabilized": false
      }
     },
     "d670a57487a349019d117e15f6067f0b": {
      "buffers": [
       {
        "data": "AACASa/9cEIAAECvAf5wQgAAABVU/nBCAADAeqb+cEIAAIDg+P5wQgAAQEZL/3BCAAAArJ3/cEIAAMAR8P9wQgAAgHdCAHFCAABA3ZQAcUIAAABD5wBxQgAAwKg5AXFCAACADowBcUIAAEB03gFxQgAAANowAnFCAADAP4MCcUIAAICl1QJxQgAAQAsoA3FCAAAAcXoDcUIAAMDWzANxQgAAgDwfBHFCAABAonEEcUIAAAAIxARxQgAAwG0WBXFCAACA02gFcUIAAEA5uwVxQgAAAJ8NBnFCAADABGAGcUIAAIBqsgZxQgAAQNAEB3FCAAAANlcHcUIAAMCbqQdxQgAAgAH8B3FCAABAZ04IcUIAAADNoAhxQgAAwDLzCHFCAACAmEUJcUIAAED+lwlxQgAAAGTqCXFCAADAyTwKcUIAAIAvjwpxQgAAQJXhCnFCAAAA+zMLcUIAAMBghgtxQgAAgMbYC3FCAABALCsMcUIAAACSfQxxQgAAwPfPDHFCAACAXSINcUIAAEDDdA1xQgAAACnHDXFCAADAjhkOcUIAAID0aw5xQgAAQFq+DnFCAAAAwBAPcUIAAMAlYw9xQgAAgIu1D3FCAABA8QcQcUIAAABXWhBxQgAAwLysEHFCAACAIv8QcUIAAECIURFxQgAAAO6jEXFCAADAU/YRcUIAAIC5SBJxQgAAQB+bEnFCAAAAhe0ScUIAAMDqPxNxQgAAgFCSE3FCAABAtuQTcUIAAAAcNxRxQgAAwIGJFHFCAACA59sUcUIAAEBNLhVxQgAAALOAFXFCAADAGNMVcUIAAIB+JRZxQgAAQOR3FnFCAAAASsoWcUIAAMCvHBdxQgAAgBVvF3FCAABAe8EXcUIAAADhExhxQgAAwEZmGHFCAACArLgYcUIAAEASCxlxQgAAAHhdGXFCAADA3a8ZcUIAAIBDAhpxQgAAQKlUGnFCAAAAD6cacUIAAMB0+RpxQgAAgNpLG3FCAABAQJ4bcUIAAACm8BtxQgAAwAtDHHFCAACAcZUccUIAAEDX5xxxQgAAAD06HXFCAADAoowdcUIAAIAI3x1xQgAAQG4xHnFCAAAA1IMecUIAAMA51h5xQgAAgJ8oH3FCAABABXsfcUIAAABrzR9xQgAAwNAfIHFCAACANnIgcUIAAECcxCBxQgAAAAIXIXFCAADAZ2khcUIAAIDNuyFxQgAAQDMOInFCAAAAmWAicUIAAMD+siJxQgAAgGQFI3FCAABAylcjcUIAAAAwqiNxQgAAwJX8I3FCAACA+04kcUIAAEBhoSRxQgAAAMfzJHFCAADALEYlcUIAAICSmCVxQgAAQPjqJXFCAAAAXj0mcUIAAMDDjyZxQgAAgCniJnFCAABAjzQncUIAAAD1hidxQgAAwFrZJ3FCAACAwCsocUIAAEAmfihxQgAAAIzQKHFCAADA8SIpcUIAAIBXdSlxQgAAQL3HKXFCAAAAIxoqcUIAAMCIbCpxQgAAgO6+KnFCAABAVBErcUIAAAC6YytxQgAAwB+2K3FCAACAhQgscUIAAEDrWixxQgAAAFGtLHFCAADAtv8scUIAAIAcUi1xQgAAQIKkLXFC",
        "encoding": "base64",
        "path": [
         "x",
         "value"
        ]
       },
       {
        "data": "Rj59ZvwIWUBksTmJObBYQLa1jjtdOFlAm3PVTzIjWUBxnk6XzRFZQAfpnG0xrllA4J5XaRDbWUC/gy17LN9ZQAgFP+/SKlpAyjHqjHncWUCi+iQ1G35aQMa29z8uGFpApBDo1PHbWUA5Wq1zTh9aQN0jp5YLDVpAG8Qnre7QWUAttT86aR5aQNpES2IJkllArAb4wYzVWUAsotC4drNZQLZ11GNyrVlATDFngrvBWUBW0C5TQ0VZQON7v8Wq1lhAAy33kJhXWUD5fcXVqaVZQDKZ2WT0fllAni4uwPJ4WUC0koFsBgJZQOvyQ4cjMVlA96/hjJh1WUA25JXkVrRZQGfTNN2x6llAUWkOrUk9WkCkQcrr4LJZQFlMl5CxBlpAq28/9qFOWkAA5u8BgwNaQK+FcclYHFpAmEq3ESMzWkBDYaBK3KpaQOEaF+O/klpAG9HZr4eRWkDGKBr49VpaQGUN0gUT4FpATCb/0owYW0CCRqFDpRVbQEAvMRnqXltAFujoirelW0Adc+JU9nxbQKz9jrA4ZVtANDKEjuHwWkASinIxIf5aQFhgawbElFpAgMWD8kCXWkDyJODLk5taQMuZLlvqVltAgbRGybsIW0CuocbXJZZaQESpiQRtKFtAE1OloZdDW0DkRLgaPo5bQG5fLDMTNFtAKETU3ggHW0AQ1bB4rAZbQLIyB0LIQltA1pwf36pdW0BMWY1TAmVbQKKg2fvhL1tAfPXxbqo5W0DQOowceFhbQJz2wvhCI1tAYG09jW0nW0BTiqwBpMdbQJu14cFW+ltAny4ff27/W0AIjoaWBOVbQFDNFznow1tAkNYaY3a7W0B7ZoB3afRbQPjuTwZvOVxAiPvXuUdvXECqCVR0c09cQD+TxqZ9D1xAq9Fmqm8NXEAlVcXlRyxcQI4/S8GVtVtAhzZCpfjUW0DPVUr6cdhbQOcu4ab/7FtAJfRpoRfLW0DQ7Rp3W09bQMdKdlSaG1tAq/nafhtAW0D8XlBUqENbQEcjhO96wFtAHsLla7rGW0CaTw+BfeBbQEy/ok/rjFtA+VmHcS/CW0D4j4jgovpaQJJIWmhmfFtApHRkNutJW0BfGORjfoVbQC6wusV3gVtAMTS1WqRMW0Cd5AVl3B9bQIVGXK87SltAkP86WFclW0DATLc55iRbQHxNic5bQFtAOWvEBQ+VW0Dw3CNqvaNbQJp+LPsgaVtAynZKy5v4W0DkVlxwPiNcQA88EijuE1xAmRQmI9xKXECXLmxgRRRcQHDHOx61zltAFVo7tDvjW0AYz8tO6aFbQFchMm7nYFtAQGeaFLRaW0Au4fYVDcNbQHT3Mtc8HVxA28yo65f1W0DaOjwx9pBbQOOORFH+SVtAjXcWPgr7W0B9nneTSO1bQNdWBJjWA1xAIBbPnyP4W0DX2HDlaDtcQLDSXE0ALFxAon0peegMXEDkI8uIzpVbQCILUBj7oVtAM9w1Xh5kW0C/8/ACHTVbQNDSN6FvRltASCk7hweCW0BQZZ5ulYRbQG/DCgXIXVtADSLwaCj/WkCGEJZeWLpaQBe48MfJbFpAg3HK0rtKWkD1QnU8AXtaQDNCx3aA8llA",
        "encoding": "base64",
        "path": [
         "y",
         "value"
        ]
       }
      ],
      "model_module": "bqplot",
      "model_module_version": "^0.5.3",
      "model_name": "LinesModel",
      "state": {
       "_model_module_version": "^0.5.3",
       "_view_module_version": "^0.5.3",
       "colors": [
        "red"
       ],
       "display_legend": true,
       "fill_colors": [],
       "labels": [
        "Security 2"
       ],
       "scales": {
        "x": "IPY_MODEL_2749b0d8996e41d780c62ba7cc457a3b",
        "y": "IPY_MODEL_b80ae359193644dca5eb2e0f2cb4c0c2"
       },
       "x": {
        "dtype": "float64",
        "shape": [
         150
        ],
        "type": "date"
       },
       "y": {
        "dtype": "float64",
        "shape": [
         150
        ],
        "type": null
       }
      }
     },
     "d8b5c1984ac247bca8e9d1f7c2ac6e15": {
      "model_module": "@jupyter-widgets/base",
      "model_module_version": "1.2.0",
      "model_name": "LayoutModel",
      "state": {}
     },
     "d98f0efeca344c8fb4e96ada35bc73a2": {
      "model_module": "bqplot",
      "model_module_version": "^0.5.3",
      "model_name": "AxisModel",
      "state": {
       "_model_module_version": "^0.5.3",
       "_view_module_version": "^0.5.3",
       "label": "Security 1",
       "scale": "IPY_MODEL_34be4321d5b042a9b0869759a2ae7a3e",
       "side": "bottom",
       "tick_values": null
      }
     },
     "dc0b06e7331e4fd591914015007e3552": {
      "model_module": "@jupyter-widgets/base",
      "model_module_version": "1.2.0",
      "model_name": "LayoutModel",
      "state": {}
     },
     "dd7ff204fa6b4a9080f23082f5948697": {
      "model_module": "bqplot",
      "model_module_version": "^0.5.3",
      "model_name": "AxisModel",
      "state": {
       "_model_module_version": "^0.5.3",
       "_view_module_version": "^0.5.3",
       "label": "Security 2",
       "orientation": "vertical",
       "scale": "IPY_MODEL_cd9dd453ef134a6a8462d053a83dab4e",
       "side": "left",
       "tick_values": null
      }
     },
     "dda36f6fb6b3484ba696573704a13f0d": {
      "buffers": [
       {
        "data": "AAAAAAAA8D8=",
        "encoding": "base64",
        "path": [
         "default_opacities",
         "value"
        ]
       },
       {
        "data": "WoiU/IUfWUBDumk0IOdYQAJPyZTTLllA6+0yWGg2WUAUdELZDxlZQFpAaMDsVFlAe6Otam2DWUCJe14ZB6tZQFncswUQvllAn4Q8RwKhWUA5+4rEaPVZQIDaYYe7vVlAupZNiLmqWUA0JHRFp8FZQP9AFmO33FlAqueqPhm8WUDcShdkuudZQANj0jJ4mllAmHw+O5HMWUCbX+TGU9JZQIor/9d0zVlAbAnv0InLWUAUZevkE3ZZQMBaGEtfNFlAAs0119t/WUA0000/Br1ZQEjzxcGrzllAfVNKPoTYWUCQ3vZL659ZQMvkDiu6oVlAA8idyCfLWUBkklmux+VZQO2VKmaxJFpAKRY2VSlPWkCF2N0ure5ZQNLRSOevN1pA6Xtg2F1xWkATwDEL1WxaQA5Q+4W8gFpA7hhp5nCqWkARfLF+bP9aQGO69LEc9lpAAMI5VF7aWkCBdI9X5J5aQEKjohAi/1pAUOFejws1W0AjDwJvlSJbQAiIz71pQFtAT1UkuKddW0CJ9TmOEE5bQAlzBVi4SltAlpTIjCITW0AV6aUznhRbQEYvTAIG31pAVyUEaEr2WkBc1kk7Ct1aQOar/83XM1tAO7FiRUkFW0Dm0pp+sbpaQMRax+jpHltAQf1VAdwpW0BGXl9WOlRbQIzngbwDKFtApg71sXHqWkAum9p1ispaQIKV70ss31pAzXOWyrvmWkDYnY6H3OlaQGTtjRCkwVpA5x2pkTrQWkAbPCzJKOFaQAx39t4a2VpANP5ABIbhWkAShfzvDSBbQFLpUEXlQ1tAin03kRxQW0BRzsPlFkVbQPP/CwqqO1tAHu1s36U6W0BLtnxjG1ZbQIB9fDG/T1tAci8qSMpEW0Ans2HBnz5bQLkPT9qsD1tAheR9UX8AW0AuvEjW4QtbQHkVCsKkzFpAMSBXprLaWkDP5BuxtuBaQJQMzJmO4FpATAap0MTBWkDD7eaTCmhaQNhI9vslYFpAFc6SbYBzWkBOPZeOi4daQJQZCBv+wFpAoHTEXFeoWkDFV+PqQKZaQGgJZA6qelpATTDBB3CkWkBa70srJDFaQC5KcE7PlFpAHFH/Oi+JWkBsYEUu5K9aQO8pEkk0jVpAEV5qiKqaWkBsqOs7oWdaQI80aR1OmVpAiD8ZJDx4WkDsVweHW1VaQGovMA/ZfVpAouIULIOfWkCImMLfgbJaQEsmQ6XRa1pAlExZ/N+kWkCZqDaLmKxaQDTmGUFnn1pAN2/1fDPSWkA7RF5EpqJaQEF/PTYXj1pANrpJe7KMWkCaaoLI3llaQExxGVy+I1pAOycYHM0YWkDqLT3aXzlaQPMmI55UiVpAGcKk+9psWkCTiBrgAzVaQDAObjCdF1pAr/wJTUx0WkAW6P3kgFtaQEVma3lXUVpAtAVgc0hLWkDkwUwT4nVaQDC7faiDW1pA4uHya9BBWkC/JPsiDRJaQJmJO9MFCVpAolTSOqDWWUAOaHHQAbNZQGX6fwecu1lAxJAoGI2/WUBF+/9NE7JZQKysNKZdsFlAaRweiEx2WUCju9PA721ZQA1CqXCnNVlAGbR7vm5OWUBPELQ9XWtZQA34u6XbNFlA",
        "encoding": "base64",
        "path": [
         "x",
         "value"
        ]
       },
       {
        "data": "Rj59ZvwIWUBksTmJObBYQLa1jjtdOFlAm3PVTzIjWUBxnk6XzRFZQAfpnG0xrllA4J5XaRDbWUC/gy17LN9ZQAgFP+/SKlpAyjHqjHncWUCi+iQ1G35aQMa29z8uGFpApBDo1PHbWUA5Wq1zTh9aQN0jp5YLDVpAG8Qnre7QWUAttT86aR5aQNpES2IJkllArAb4wYzVWUAsotC4drNZQLZ11GNyrVlATDFngrvBWUBW0C5TQ0VZQON7v8Wq1lhAAy33kJhXWUD5fcXVqaVZQDKZ2WT0fllAni4uwPJ4WUC0koFsBgJZQOvyQ4cjMVlA96/hjJh1WUA25JXkVrRZQGfTNN2x6llAUWkOrUk9WkCkQcrr4LJZQFlMl5CxBlpAq28/9qFOWkAA5u8BgwNaQK+FcclYHFpAmEq3ESMzWkBDYaBK3KpaQOEaF+O/klpAG9HZr4eRWkDGKBr49VpaQGUN0gUT4FpATCb/0owYW0CCRqFDpRVbQEAvMRnqXltAFujoirelW0Adc+JU9nxbQKz9jrA4ZVtANDKEjuHwWkASinIxIf5aQFhgawbElFpAgMWD8kCXWkDyJODLk5taQMuZLlvqVltAgbRGybsIW0CuocbXJZZaQESpiQRtKFtAE1OloZdDW0DkRLgaPo5bQG5fLDMTNFtAKETU3ggHW0AQ1bB4rAZbQLIyB0LIQltA1pwf36pdW0BMWY1TAmVbQKKg2fvhL1tAfPXxbqo5W0DQOowceFhbQJz2wvhCI1tAYG09jW0nW0BTiqwBpMdbQJu14cFW+ltAny4ff27/W0AIjoaWBOVbQFDNFznow1tAkNYaY3a7W0B7ZoB3afRbQPjuTwZvOVxAiPvXuUdvXECqCVR0c09cQD+TxqZ9D1xAq9Fmqm8NXEAlVcXlRyxcQI4/S8GVtVtAhzZCpfjUW0DPVUr6cdhbQOcu4ab/7FtAJfRpoRfLW0DQ7Rp3W09bQMdKdlSaG1tAq/nafhtAW0D8XlBUqENbQEcjhO96wFtAHsLla7rGW0CaTw+BfeBbQEy/ok/rjFtA+VmHcS/CW0D4j4jgovpaQJJIWmhmfFtApHRkNutJW0BfGORjfoVbQC6wusV3gVtAMTS1WqRMW0Cd5AVl3B9bQIVGXK87SltAkP86WFclW0DATLc55iRbQHxNic5bQFtAOWvEBQ+VW0Dw3CNqvaNbQJp+LPsgaVtAynZKy5v4W0DkVlxwPiNcQA88EijuE1xAmRQmI9xKXECXLmxgRRRcQHDHOx61zltAFVo7tDvjW0AYz8tO6aFbQFchMm7nYFtAQGeaFLRaW0Au4fYVDcNbQHT3Mtc8HVxA28yo65f1W0DaOjwx9pBbQOOORFH+SVtAjXcWPgr7W0B9nneTSO1bQNdWBJjWA1xAIBbPnyP4W0DX2HDlaDtcQLDSXE0ALFxAon0peegMXEDkI8uIzpVbQCILUBj7oVtAM9w1Xh5kW0C/8/ACHTVbQNDSN6FvRltASCk7hweCW0BQZZ5ulYRbQG/DCgXIXVtADSLwaCj/WkCGEJZeWLpaQBe48MfJbFpAg3HK0rtKWkD1QnU8AXtaQDNCx3aA8llA",
        "encoding": "base64",
        "path": [
         "y",
         "value"
        ]
       }
      ],
      "model_module": "bqplot",
      "model_module_version": "^0.5.3",
      "model_name": "ScatterModel",
      "state": {
       "_model_module_version": "^0.5.3",
       "_view_module_version": "^0.5.3",
       "default_opacities": {
        "dtype": "float64",
        "shape": [
         1
        ],
        "type": null
       },
       "names": null,
       "scales": {
        "x": "IPY_MODEL_34be4321d5b042a9b0869759a2ae7a3e",
        "y": "IPY_MODEL_d229097f42684b7bbebf298d20df9b8e"
       },
       "scales_metadata": {
        "color": {
         "dimension": "color"
        },
        "opacity": {
         "dimension": "opacity"
        },
        "rotation": {
         "dimension": "rotation"
        },
        "size": {
         "dimension": "size"
        },
        "skew": {
         "dimension": "skew"
        },
        "x": {
         "dimension": "x",
         "orientation": "horizontal"
        },
        "y": {
         "dimension": "y",
         "orientation": "vertical"
        }
       },
       "x": {
        "dtype": "float64",
        "shape": [
         150
        ],
        "type": null
       },
       "y": {
        "dtype": "float64",
        "shape": [
         150
        ],
        "type": null
       }
      }
     },
     "ddf6d33eec074a8e8944ccdb143af601": {
      "model_module": "@jupyter-widgets/controls",
      "model_module_version": "1.5.0",
      "model_name": "DescriptionStyleModel",
      "state": {
       "description_width": ""
      }
     },
     "e3369d6427d04d9e950ebf1cf75508ec": {
      "model_module": "@jupyter-widgets/controls",
      "model_module_version": "1.5.0",
      "model_name": "VBoxModel",
      "state": {
       "children": [
        "IPY_MODEL_8f7454af973b4fe88541115754643f8d",
        "IPY_MODEL_c0720cf11b87421bab9900a2c869250a"
       ],
       "layout": "IPY_MODEL_f96895950d8249799f71ae72f39f232e"
      }
     },
     "e40587ab79264befaf4a23d2dda87c36": {
      "model_module": "@jupyter-widgets/controls",
      "model_module_version": "1.5.0",
      "model_name": "HTMLModel",
      "state": {
       "layout": "IPY_MODEL_0c5a7b27ef6d4cf79e4627e01dfbb99a",
       "style": "IPY_MODEL_b3b425e8b69c467eb610e17c8b5b09d4",
       "value": "None"
      }
     },
     "e4df246ba1604e63a20dada3fbdfa46d": {
      "model_module": "@jupyter-widgets/base",
      "model_module_version": "1.2.0",
      "model_name": "LayoutModel",
      "state": {}
     },
     "e4e16614ae324283898deda047dce810": {
      "model_module": "@jupyter-widgets/base",
      "model_module_version": "1.2.0",
      "model_name": "LayoutModel",
      "state": {}
     },
     "e629b0de09a24665874ef9f14779dedc": {
      "model_module": "bqplot",
      "model_module_version": "^0.5.3",
      "model_name": "LinearScaleModel",
      "state": {
       "_model_module_version": "^0.5.3",
       "_view_module_version": "^0.5.3",
       "allow_padding": false,
       "max": 1,
       "min": 0,
       "stabilized": false
      }
     },
     "e6aa6260148143aa832415497385a927": {
      "model_module": "bqplot",
      "model_module_version": "^0.5.3",
      "model_name": "FastIntervalSelectorModel",
      "state": {
       "_model_module_version": "^0.5.3",
       "_view_module_version": "^0.5.3",
       "marks": [
        "IPY_MODEL_4c358b600f194795aa528083d56550cf"
       ],
       "scale": "IPY_MODEL_9393898c9d6446ebbca43acec12ffbca"
      }
     },
     "e83a2a39b5824b2b823eced66396e557": {
      "model_module": "bqplot",
      "model_module_version": "^0.5.3",
      "model_name": "AxisModel",
      "state": {
       "_model_module_version": "^0.5.3",
       "_view_module_version": "^0.5.3",
       "label": "Security 1 Price",
       "orientation": "vertical",
       "scale": "IPY_MODEL_2a1a9a94e08343b48e18d416d0cf6b1d",
       "side": "left",
       "tick_values": null
      }
     },
     "ea7ca3580b1844f3a4a6db6af18121e3": {
      "model_module": "bqplot",
      "model_module_version": "^0.5.3",
      "model_name": "FigureModel",
      "state": {
       "_dom_classes": [],
       "_model_module_version": "^0.5.3",
       "_view_module_version": "^0.5.3",
       "axes": [
        "IPY_MODEL_c9c0e78fa19a42a9a4b019bf661902c3",
        "IPY_MODEL_1fdca9fad0ec486794c75a7330d6033c"
       ],
       "interaction": "IPY_MODEL_f4aa393bd09242d89532b32a6b5817f8",
       "layout": "IPY_MODEL_dc0b06e7331e4fd591914015007e3552",
       "marks": [
        "IPY_MODEL_4582153644f342cf97cb079835a52008"
       ],
       "scale_x": "IPY_MODEL_f467993a09404086abacd82429dbf9ad",
       "scale_y": "IPY_MODEL_635020a721c045e08db2317ef9b1dc7a",
       "title": "Brush Selector Selected Indices Example"
      }
     },
     "ed922fd25a934f4a822b4f1b9d413bc4": {
      "model_module": "@jupyter-widgets/controls",
      "model_module_version": "1.5.0",
      "model_name": "DescriptionStyleModel",
      "state": {
       "description_width": ""
      }
     },
     "eee8794a938d4e50a793fdbcca70004d": {
      "model_module": "bqplot",
      "model_module_version": "^0.5.3",
      "model_name": "IndexSelectorModel",
      "state": {
       "_model_module_version": "^0.5.3",
       "_view_module_version": "^0.5.3",
       "marks": [
        "IPY_MODEL_1d4c7ff50018485098466e8ca6ae0660",
        "IPY_MODEL_d670a57487a349019d117e15f6067f0b"
       ],
       "scale": "IPY_MODEL_2749b0d8996e41d780c62ba7cc457a3b"
      }
     },
     "ef03097f70e94fe3af64232d9354b12f": {
      "model_module": "bqplot",
      "model_module_version": "^0.5.3",
      "model_name": "IndexSelectorModel",
      "state": {
       "_model_module_version": "^0.5.3",
       "_view_module_version": "^0.5.3",
       "marks": [
        "IPY_MODEL_5494d197d792469082c290dce239e532",
        "IPY_MODEL_4555fdab016243ad89e3db04c3629d4b"
       ],
       "scale": "IPY_MODEL_b28acc94d9074e86b5fb07a4a7224697"
      }
     },
     "ef1e83122544437b988b09f7d9da796f": {
      "model_module": "@jupyter-widgets/base",
      "model_module_version": "1.2.0",
      "model_name": "LayoutModel",
      "state": {}
     },
     "f3b45e9925104a55ad94c8e4183f54c4": {
      "model_module": "bqplot",
      "model_module_version": "^0.5.3",
      "model_name": "PanZoomModel",
      "state": {
       "_model_module_version": "^0.5.3",
       "_view_module_version": "^0.5.3",
       "scales": {
        "x": [
         "IPY_MODEL_663fd5d262b94af298e3a0f4d0e0eba5"
        ],
        "y": [
         "IPY_MODEL_29aab346a3ff413ea02e1a3338798ec3"
        ]
       }
      }
     },
     "f3de96c2f40a4ce6881005d9d5f02025": {
      "model_module": "@jupyter-widgets/base",
      "model_module_version": "1.2.0",
      "model_name": "LayoutModel",
      "state": {}
     },
     "f44da1d7c147487bbb0a81e25915a809": {
      "model_module": "bqplot",
      "model_module_version": "^0.5.3",
      "model_name": "BrushSelectorModel",
      "state": {
       "_model_module_version": "^0.5.3",
       "_view_module_version": "^0.5.3",
       "color": "red",
       "marks": [
        "IPY_MODEL_dda36f6fb6b3484ba696573704a13f0d"
       ],
       "x_scale": "IPY_MODEL_34be4321d5b042a9b0869759a2ae7a3e",
       "y_scale": "IPY_MODEL_d229097f42684b7bbebf298d20df9b8e"
      }
     },
     "f467993a09404086abacd82429dbf9ad": {
      "model_module": "bqplot",
      "model_module_version": "^0.5.3",
      "model_name": "LinearScaleModel",
      "state": {
       "_model_module_version": "^0.5.3",
       "_view_module_version": "^0.5.3",
       "allow_padding": false,
       "max": 1,
       "min": 0,
       "stabilized": false
      }
     },
     "f4951078d0aa4e959335684e9116ef46": {
      "model_module": "@jupyter-widgets/base",
      "model_module_version": "1.2.0",
      "model_name": "LayoutModel",
      "state": {}
     },
     "f4aa393bd09242d89532b32a6b5817f8": {
      "model_module": "bqplot",
      "model_module_version": "^0.5.3",
      "model_name": "BrushIntervalSelectorModel",
      "state": {
       "_model_module_version": "^0.5.3",
       "_view_module_version": "^0.5.3",
       "color": "FireBrick",
       "marks": [
        "IPY_MODEL_4582153644f342cf97cb079835a52008"
       ],
       "scale": "IPY_MODEL_b3e9902c109540d1aa38fbcd7c068aae"
      }
     },
     "f8cb49f7f56a42c0aceafb59d151fcb0": {
      "model_module": "@jupyter-widgets/base",
      "model_module_version": "1.2.0",
      "model_name": "LayoutModel",
      "state": {}
     },
     "f96895950d8249799f71ae72f39f232e": {
      "model_module": "@jupyter-widgets/base",
      "model_module_version": "1.2.0",
      "model_name": "LayoutModel",
      "state": {}
     },
     "faecefede70e40de89bf42a68bc4f0db": {
      "model_module": "bqplot",
      "model_module_version": "^0.5.3",
      "model_name": "FigureModel",
      "state": {
       "_dom_classes": [],
       "_model_module_version": "^0.5.3",
       "_view_module_version": "^0.5.3",
       "axes": [
        "IPY_MODEL_4c005a4b22a64c5cbbd6751d98b7eb9d",
        "IPY_MODEL_7abfcac48b6044ca986ae340e7b5494c",
        "IPY_MODEL_6c37dac2db814772bc567d326f42d00d"
       ],
       "interaction": "IPY_MODEL_cfa8dd29703e439da41f6be60162e140",
       "layout": "IPY_MODEL_43afa868b9324486b449e9ad54eb7aa4",
       "marks": [
        "IPY_MODEL_1d4c7ff50018485098466e8ca6ae0660",
        "IPY_MODEL_d670a57487a349019d117e15f6067f0b",
        "IPY_MODEL_1af5582ab1394e5cb29d7ba81ce5b4a7"
       ],
       "scale_x": "IPY_MODEL_658d21accc624d5197f6111d89cb3430",
       "scale_y": "IPY_MODEL_4f19e2f3ba754d5586cccf7778084d88"
      }
     },
     "ff319b5d1d2546d2a31481f7b3eeddc5": {
      "buffers": [
       {
        "data": "AAAAAAAAAEAAAAAAAAAQQAAAAAAAADFAAAAAAAAAMkAAAAAAAAA5QAAAAAAAADxAAAAAAAAANkAAAAAAAAAuQAAAAAAAACJAAAAAAAAAIEAAAAAAAADwPw==",
        "encoding": "base64",
        "path": [
         "count",
         "value"
        ]
       },
       {
        "data": "ABhcqLgJgr8A0murueeGPwAgYWZeQVM/ABxuzlaqcr8ApFxxOf6CPwC8iMdgRH0/AJgshF3CeD8AQESJN7JnPwAYfgsXGXK/AJ53XmQtij8A0g4XGzuBvwDIVKLiqWe/AOh5DVCJbD8AoFkI9sZwPwCIkXqzOnS/ALQv4kQJez8A9JA1uv+HvwCA9sIbMH8/AID636SQTD8AoN3ccCdIvwAAs11vCDO/AFwFlW+tir8AlqIj57+EvwAykpIP0oc/AHZ+2qwZgz8AaE8uBellPwBA/CTyZVg/ADjYOwiYgb8AwCheng8yPwC4PAB9x3k/AIxYBXd7cD8Auiknv1eDPwDwa++36Hk/AG5XRwmNjb8AVvuhhWaGPwACVHlrhoE/ACB9uuT0Rb8AyP4HaBFoPwCIhJmvGXk/AFpu9ZlWiT8AkGIBxRZWvwDQZzFVf3C/AOruMdbLgb8A4FQuS7iMPwCsx2Lz038/ANioPw6+Zb8A0N/1DI1xPwCgU5n9IXE/AJhKdTtAYr8AwLfoaV0/vwD+uEfTW4C/AABmE64KLD8AkLzwzMl/vwDwnWpOqWs/AAD/sxYGbr8AuJ+HObCJPwBsbxbLeXu/ACg3Z2M0hr8ApNDONMeNPwCwJ3I5z1k/AFA1o2HheD8AoFy/mPd5vwBMuJkJOIK/AGSXCEICc78AOP8BR5toPwBg3XAz/1E/AIChCU/CPT8AoKOvJvt3vwBYHvefbWE/AODdCDsuZD8AsJBfSDBTvwCg7T9CDlQ/AMaLIpSGgj8AUF1rNxZ1PwAgUttTplw/AMAavPzYWb8AoMVclyJWvwCAUpSpGyO/ABS6D3oacD8AQILXV8tNvwBASSMAslm/AMDnmur0TL8AKFzYOap7vwAAR9Wy92G/APAyLk/2Wj8AgsjDiMqCvwCYlp2xw2A/AOB+YlipTD8AAADFr933vgA8JKaPXnK/AGiYYTUBi78AUO6UFCRTvwDg0EBZcmc/ACB/+lg2aD8A8KgdIUCBPwDQzajSiW2/AAAdNzQNNL8AxDFwJEF6vwC8ZA7+KXk/AMkZR051kb8AJqN56zeOPwAApdymA1y/AJDkbLdFdz8ApAyAbNl0vwBgdY9QNWA/ALgAUS/Pfr8AHFA5n/19PwBEXCvx8HO/AJyxyPkidb8A4CEGL4d4PwAoWv0pSHQ/AMDZnKnMZj8AGG/P4EqFvwBgfYMRNIE/AGDIDRWJUj8AUF/eCq9fvwDwdwV0an4/AFTL8yN3fL8A+CDHLIhnvwCA7pcbEze/AJSoCOm+fr8AdGzHrn+AvwDwbMIq0Fq/AEQEqg/scz8ADPlTXT+IPwBEcTJ7NHG/AF7Fb635gL8AmKnsTf1xvwDul6rUOIw/AEizYSAMbr8A8Poza7FYvwDgwWkDe02/AOTPYy/XeT8AGKhdjfNvvwDwg8/yQm+/AADaSmg1fb8AMM/e1S1WvwAYCsHSFn+/AES+SLAddr8AAHibsWhVPwCAjfDGmUM/AJiIOszDYL8AADtK1ggxvwDayZvTKYK/ABDgnmIIVb8AXH18gciBvwBQBBaCZG8/AAD8VFhAcj8Aohic+TmBvw==",
        "encoding": "base64",
        "path": [
         "sample",
         "value"
        ]
       }
      ],
      "model_module": "bqplot",
      "model_module_version": "^0.5.3",
      "model_name": "HistModel",
      "state": {
       "_model_module_version": "^0.5.3",
       "_view_module_version": "^0.5.3",
       "count": {
        "dtype": "float64",
        "shape": [
         11
        ],
        "type": null
       },
       "midpoints": [
        -0.01545884127872732,
        -0.012278426817665888,
        -0.009098012356604457,
        -0.005917597895543025,
        -0.0027371834344815937,
        0.0004432310265798378,
        0.0036236454876412694,
        0.006804059948702701,
        0.009984474409764132,
        0.013164888870825564
       ],
       "sample": {
        "dtype": "float64",
        "shape": [
         149
        ],
        "type": null
       },
       "scales": {
        "count": "IPY_MODEL_20ed2d955c4e4ad2a3e01f3ea6b79326",
        "sample": "IPY_MODEL_853961d363e648c983c8188666356db4"
       }
      }
     }
    },
    "version_major": 2,
    "version_minor": 0
   }
  }
 },
 "nbformat": 4,
 "nbformat_minor": 4
}
