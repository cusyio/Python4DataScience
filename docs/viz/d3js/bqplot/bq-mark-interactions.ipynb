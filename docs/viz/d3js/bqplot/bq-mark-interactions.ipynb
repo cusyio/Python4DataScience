{
 "cells": [
  {
   "cell_type": "markdown",
   "metadata": {},
   "source": [
    "# Markieren-Interaktionen"
   ]
  },
  {
   "cell_type": "code",
   "execution_count": 1,
   "metadata": {},
   "outputs": [],
   "source": [
    "from __future__ import print_function\n",
    "from bqplot import *\n",
    "import numpy as np\n",
    "import pandas as pd\n",
    "from ipywidgets import Layout"
   ]
  },
  {
   "cell_type": "markdown",
   "metadata": {},
   "source": [
    "## Streudiagramm"
   ]
  },
  {
   "cell_type": "markdown",
   "metadata": {},
   "source": [
    "#### Auswahl in Streudiagrammen\n",
    "\n",
    "Klickt auf einen Punkt im Streudiagramm, um ihn auszuwählen und führt anschließend die Zelle unten aus, um die Auswahl zu überprüfen. Versucht schließlich, die `Strg`-Taste (oder `⌘` auf dem Mac) gedrückt zu halten und auf einen anderen Punkt zu klicken. Durch Klicken auf den Hintergrund wird die Auswahl zurückgesetzt."
   ]
  },
  {
   "cell_type": "code",
   "execution_count": 2,
   "metadata": {},
   "outputs": [
    {
     "data": {
      "application/vnd.jupyter.widget-view+json": {
       "model_id": "c987cf799024449ab5eb63968886fb9c",
       "version_major": 2,
       "version_minor": 0
      },
      "text/plain": [
       "Figure(axes=[Axis(scale=LinearScale()), Axis(orientation='vertical', scale=LinearScale(), tick_format='0.2f')]…"
      ]
     },
     "metadata": {},
     "output_type": "display_data"
    }
   ],
   "source": [
    "x_sc = LinearScale()\n",
    "y_sc = LinearScale()\n",
    "\n",
    "x_data = np.arange(20)\n",
    "y_data = np.random.randn(20)\n",
    "\n",
    "scatter_chart = Scatter(x=x_data, y=y_data, scales= {'x': x_sc, 'y': y_sc}, colors=['dodgerblue'],\n",
    "                       interactions={'click': 'select'},\n",
    "                        selected_style={'opacity': 1.0, 'fill': 'DarkOrange', 'stroke': 'Red'},\n",
    "                       unselected_style={'opacity': 0.5})\n",
    "\n",
    "ax_x = Axis(scale=x_sc)\n",
    "ax_y = Axis(scale=y_sc, orientation='vertical', tick_format='0.2f')\n",
    "\n",
    "Figure(marks=[scatter_chart], axes=[ax_x, ax_y])"
   ]
  },
  {
   "cell_type": "code",
   "execution_count": 3,
   "metadata": {},
   "outputs": [],
   "source": [
    "scatter_chart.selected"
   ]
  },
  {
   "cell_type": "markdown",
   "metadata": {},
   "source": [
    "Alternativ kann das Attribut `selected` direkt in Python festgelegt werden, z.B. mit der folgenden Zeile:"
   ]
  },
  {
   "cell_type": "code",
   "execution_count": 4,
   "metadata": {},
   "outputs": [],
   "source": [
    "scatter_chart.selected = [1, 2, 3]"
   ]
  },
  {
   "cell_type": "markdown",
   "metadata": {},
   "source": [
    "#### Streudiagramm-Interaktionen und -Tooltips"
   ]
  },
  {
   "cell_type": "code",
   "execution_count": 5,
   "metadata": {},
   "outputs": [],
   "source": [
    "from ipywidgets import *"
   ]
  },
  {
   "cell_type": "code",
   "execution_count": 6,
   "metadata": {},
   "outputs": [
    {
     "data": {
      "application/vnd.jupyter.widget-view+json": {
       "model_id": "6cc69c723def49df915b9aed7dd1f0f7",
       "version_major": 2,
       "version_minor": 0
      },
      "text/plain": [
       "Figure(axes=[Axis(scale=LinearScale()), Axis(orientation='vertical', scale=LinearScale(), tick_format='0.2f')]…"
      ]
     },
     "metadata": {},
     "output_type": "display_data"
    }
   ],
   "source": [
    "x_sc = LinearScale()\n",
    "y_sc = LinearScale()\n",
    "\n",
    "x_data = np.arange(20)\n",
    "y_data = np.random.randn(20)\n",
    "\n",
    "dd = Dropdown(options=['First', 'Second', 'Third', 'Fourth'])\n",
    "scatter_chart = Scatter(x=x_data, y=y_data, scales= {'x': x_sc, 'y': y_sc}, colors=['dodgerblue'],\n",
    "                       names=np.arange(100, 200), names_unique=False, display_names=False, display_legend=True,\n",
    "                       labels=['Blue'])\n",
    "ins = Button(icon='fa-legal')\n",
    "scatter_chart.tooltip = ins\n",
    "\n",
    "scatter_chart2 = Scatter(x=x_data, y=np.random.randn(20), \n",
    "                         scales= {'x': x_sc, 'y': y_sc}, colors=['orangered'],\n",
    "                         tooltip=dd, names=np.arange(100, 200), names_unique=False, display_names=False, \n",
    "                         display_legend=True, labels=['Red'])\n",
    "\n",
    "ax_x = Axis(scale=x_sc)\n",
    "ax_y = Axis(scale=y_sc, orientation='vertical', tick_format='0.2f')\n",
    "\n",
    "Figure(marks=[scatter_chart, scatter_chart2], axes=[ax_x, ax_y])"
   ]
  },
  {
   "cell_type": "markdown",
   "metadata": {},
   "source": [
    "Call backs und benutzerdefinierte Nachrichten definieren:"
   ]
  },
  {
   "cell_type": "code",
   "execution_count": 7,
   "metadata": {},
   "outputs": [],
   "source": [
    "def print_event(self, target):\n",
    "    print(target)\n",
    "\n",
    "# Adding call back to scatter events\n",
    "# print custom mssg on hover and background click of Blue Scatter\n",
    "scatter_chart.on_hover(print_event)\n",
    "scatter_chart.on_background_click(print_event)\n",
    "\n",
    "# print custom mssg on click of an element or legend of Red Scatter\n",
    "scatter_chart2.on_element_click(print_event)\n",
    "scatter_chart2.on_legend_click(print_event)"
   ]
  },
  {
   "cell_type": "markdown",
   "metadata": {},
   "source": [
    "`figure` als Tooltip definieren:"
   ]
  },
  {
   "cell_type": "code",
   "execution_count": 8,
   "metadata": {},
   "outputs": [],
   "source": [
    "# Adding figure as tooltip\n",
    "x_sc = LinearScale()\n",
    "y_sc = LinearScale()\n",
    "\n",
    "x_data = np.arange(10)\n",
    "y_data = np.random.randn(10)\n",
    "\n",
    "lc = Lines(x=x_data, y=y_data, scales={'x': x_sc, 'y':y_sc})\n",
    "ax_x = Axis(scale=x_sc)\n",
    "ax_y = Axis(scale=y_sc, orientation='vertical', tick_format='0.2f')\n",
    "tooltip_fig = Figure(marks=[lc], axes=[ax_x, ax_y], layout=Layout(min_width='600px'))\n",
    "\n",
    "scatter_chart.tooltip = tooltip_fig"
   ]
  },
  {
   "cell_type": "code",
   "execution_count": 9,
   "metadata": {},
   "outputs": [],
   "source": [
    "# Changing interaction from hover to click for tooltip\n",
    "scatter_chart.interactions = {'click': 'tooltip'}"
   ]
  },
  {
   "cell_type": "markdown",
   "metadata": {},
   "source": [
    "## Liniendiagramm"
   ]
  },
  {
   "cell_type": "code",
   "execution_count": 10,
   "metadata": {},
   "outputs": [
    {
     "data": {
      "application/vnd.jupyter.widget-view+json": {
       "model_id": "116808ed5430458b87deed8dc592776b",
       "version_major": 2,
       "version_minor": 0
      },
      "text/plain": [
       "Figure(axes=[Axis(scale=LinearScale()), Axis(orientation='vertical', scale=LinearScale(), tick_format='0.2f')]…"
      ]
     },
     "metadata": {},
     "output_type": "display_data"
    }
   ],
   "source": [
    "# Adding default tooltip to Line Chart\n",
    "x_sc = LinearScale()\n",
    "y_sc = LinearScale()\n",
    "\n",
    "x_data = np.arange(100)\n",
    "y_data = np.random.randn(3, 100)\n",
    "\n",
    "def_tt = Tooltip(fields=['name', 'index'], formats=['', '.2f'], labels=['id', 'line_num'])\n",
    "line_chart = Lines(x=x_data, y=y_data, scales= {'x': x_sc, 'y': y_sc}, \n",
    "                       tooltip=def_tt, display_legend=True, labels=[\"line 1\", \"line 2\", \"line 3\"] )\n",
    "\n",
    "ax_x = Axis(scale=x_sc)\n",
    "ax_y = Axis(scale=y_sc, orientation='vertical', tick_format='0.2f')\n",
    "\n",
    "Figure(marks=[line_chart], axes=[ax_x, ax_y])"
   ]
  },
  {
   "cell_type": "code",
   "execution_count": 11,
   "metadata": {},
   "outputs": [],
   "source": [
    "# Adding call back to print event when legend or the line is clicked\n",
    "line_chart.on_legend_click(print_event)\n",
    "line_chart.on_element_click(print_event)"
   ]
  },
  {
   "cell_type": "markdown",
   "metadata": {},
   "source": [
    "## Balkendiagramm"
   ]
  },
  {
   "cell_type": "code",
   "execution_count": 12,
   "metadata": {},
   "outputs": [
    {
     "data": {
      "application/vnd.jupyter.widget-view+json": {
       "model_id": "8dc5398767bd4efaa44c1a89c3d9ab20",
       "version_major": 2,
       "version_minor": 0
      },
      "text/plain": [
       "Figure(axes=[Axis(scale=OrdinalScale()), Axis(orientation='vertical', scale=LinearScale(), tick_format='0.2f')…"
      ]
     },
     "metadata": {},
     "output_type": "display_data"
    }
   ],
   "source": [
    "# Adding interaction to select bar on click for Bar Chart\n",
    "x_sc = OrdinalScale()\n",
    "y_sc = LinearScale()\n",
    "\n",
    "x_data = np.arange(10)\n",
    "y_data = np.random.randn(2, 10)\n",
    "\n",
    "bar_chart = Bars(x=x_data, y=[y_data[0, :].tolist(), y_data[1, :].tolist()], scales= {'x': x_sc, 'y': y_sc},\n",
    "                 interactions={'click': 'select'},\n",
    "                 selected_style={'stroke': 'orange', 'fill': 'red'},\n",
    "                 labels=['Level 1', 'Level 2'],\n",
    "                 display_legend=True)\n",
    "ax_x = Axis(scale=x_sc)\n",
    "ax_y = Axis(scale=y_sc, orientation='vertical', tick_format='0.2f')\n",
    "\n",
    "Figure(marks=[bar_chart], axes=[ax_x, ax_y])"
   ]
  },
  {
   "cell_type": "code",
   "execution_count": 13,
   "metadata": {},
   "outputs": [],
   "source": [
    "# Adding a tooltip on hover in addition to select on click\n",
    "def_tt = Tooltip(fields=['x', 'y'], formats=['', '.2f'])\n",
    "bar_chart.tooltip=def_tt\n",
    "bar_chart.interactions = {\n",
    "    'legend_hover': 'highlight_axes',\n",
    "    'hover': 'tooltip', \n",
    "    'click': 'select',\n",
    "}"
   ]
  },
  {
   "cell_type": "code",
   "execution_count": 14,
   "metadata": {},
   "outputs": [],
   "source": [
    "# Changing tooltip to be on click\n",
    "bar_chart.interactions = {'click': 'tooltip'}"
   ]
  },
  {
   "cell_type": "code",
   "execution_count": 15,
   "metadata": {},
   "outputs": [],
   "source": [
    "# Call back on legend being clicked\n",
    "bar_chart.type='grouped'\n",
    "bar_chart.on_legend_click(print_event)"
   ]
  },
  {
   "cell_type": "markdown",
   "metadata": {},
   "source": [
    "## Histogramm"
   ]
  },
  {
   "cell_type": "code",
   "execution_count": 16,
   "metadata": {},
   "outputs": [
    {
     "data": {
      "application/vnd.jupyter.widget-view+json": {
       "model_id": "ca9d2c01e9684b07b0bce5c175f81bcd",
       "version_major": 2,
       "version_minor": 0
      },
      "text/plain": [
       "Figure(axes=[Axis(scale=LinearScale(), tick_format='0.2f'), Axis(orientation='vertical', scale=LinearScale(), …"
      ]
     },
     "metadata": {},
     "output_type": "display_data"
    }
   ],
   "source": [
    "# Adding tooltip for Histogram\n",
    "x_sc = LinearScale()\n",
    "y_sc = LinearScale()\n",
    "\n",
    "sample_data = np.random.randn(100)\n",
    "\n",
    "def_tt = Tooltip(formats=['', '.2f'], fields=['count', 'midpoint'])\n",
    "hist = Hist(sample=sample_data, scales= {'sample': x_sc, 'count': y_sc},\n",
    "                       tooltip=def_tt, display_legend=True, labels=['Test Hist'], select_bars=True)\n",
    "ax_x = Axis(scale=x_sc, tick_format='0.2f')\n",
    "ax_y = Axis(scale=y_sc, orientation='vertical', tick_format='0.2f')\n",
    "\n",
    "Figure(marks=[hist], axes=[ax_x, ax_y])"
   ]
  },
  {
   "cell_type": "code",
   "execution_count": 17,
   "metadata": {},
   "outputs": [],
   "source": [
    "# Changing tooltip to be displayed on click\n",
    "hist.interactions = {'click': 'tooltip'}"
   ]
  },
  {
   "cell_type": "code",
   "execution_count": 18,
   "metadata": {},
   "outputs": [],
   "source": [
    "# Changing tooltip to be on click of legend\n",
    "hist.interactions = {'legend_click': 'tooltip'}"
   ]
  },
  {
   "cell_type": "markdown",
   "metadata": {},
   "source": [
    "## Tortendiagramm"
   ]
  },
  {
   "cell_type": "code",
   "execution_count": 19,
   "metadata": {},
   "outputs": [
    {
     "data": {
      "application/vnd.jupyter.widget-view+json": {
       "model_id": "5376aea32823445385c6001f7a00cad9",
       "version_major": 2,
       "version_minor": 0
      },
      "text/plain": [
       "Figure(fig_margin={'top': 60, 'bottom': 60, 'left': 60, 'right': 60}, marks=[Pie(color=array([-1.43018621,  0.…"
      ]
     },
     "metadata": {},
     "output_type": "display_data"
    }
   ],
   "source": [
    "pie_data = np.abs(np.random.randn(10))\n",
    "\n",
    "sc = ColorScale(scheme='Reds')\n",
    "tooltip_widget = Tooltip(fields=['size', 'index', 'color'], formats=['0.2f', '', '0.2f'])\n",
    "pie = Pie(sizes=pie_data, scales={'color': sc}, color=np.random.randn(10), \n",
    "          tooltip=tooltip_widget, interactions = {'click': 'tooltip'}, selected_style={'fill': 'red'})\n",
    "\n",
    "pie.selected_style = {\"opacity\": \"1\", \"stroke\": \"white\", \"stroke-width\": \"2\"}\n",
    "pie.unselected_style = {\"opacity\": \"0.2\"}\n",
    "\n",
    "Figure(marks=[pie])"
   ]
  },
  {
   "cell_type": "code",
   "execution_count": 20,
   "metadata": {},
   "outputs": [],
   "source": [
    "# Changing interaction to select on click and tooltip on hover\n",
    "pie.interactions = {'click': 'select', 'hover': 'tooltip'}"
   ]
  }
 ],
 "metadata": {
  "kernelspec": {
   "display_name": "Python 3.7.4",
   "language": "python",
   "name": "python-374"
  },
  "language_info": {
   "codemirror_mode": {
    "name": "ipython",
    "version": 3
   },
   "file_extension": ".py",
   "mimetype": "text/x-python",
   "name": "python",
   "nbconvert_exporter": "python",
   "pygments_lexer": "ipython3",
   "version": "3.7.4"
  },
  "latex_envs": {
   "LaTeX_envs_menu_present": true,
   "autoclose": false,
   "autocomplete": true,
   "bibliofile": "biblio.bib",
   "cite_by": "apalike",
   "current_citInitial": 1,
   "eqLabelWithNumbers": true,
   "eqNumInitial": 1,
   "hotkeys": {
    "equation": "Ctrl-E",
    "itemize": "Ctrl-I"
   },
   "labels_anchors": false,
   "latex_user_defs": false,
   "report_style_numbering": false,
   "user_envs_cfg": false
  },
  "widgets": {
   "application/vnd.jupyter.widget-state+json": {
    "state": {
     "03ef806192ed406686e9cbd65ebf5b14": {
      "model_module": "bqplot",
      "model_module_version": "^0.5.3",
      "model_name": "LinearScaleModel",
      "state": {
       "_model_module_version": "^0.5.3",
       "_view_module_version": "^0.5.3",
       "allow_padding": false,
       "max": 1,
       "min": 0,
       "stabilized": false
      }
     },
     "051d0e9e389c4e6faa5cf7e16d44cd30": {
      "buffers": [
       {
        "data": "AAAAAAAAFEAAAAAAAAAYQAAAAAAAAC5AAAAAAAAALkAAAAAAAAAxQAAAAAAAADZAAAAAAAAAJkAAAAAAAAAcQAAAAAAAAAAAAAAAAAAA8D8AAAAAAADwPw==",
        "encoding": "base64",
        "path": [
         "count",
         "value"
        ]
       },
       {
        "data": "vyFd/isz5T9ygl2h8ua/v8ifTzmv36y/xuE/EMV16j80LgQH023ev33n36RpzO2/XFWHvzk5s7+v8SBG+gzmPxejUoWak/m/rjL0knSu9T9WxmQK9RzkP7jCr5oE2e0/kKHTH3Ka4D+XwSEnAxX3v1pb2TlPFPo/8Ree37Yq2L/RpTCiLKnaPyQW1cRrrcY/jAWIGn3j4T/sMhxgGLbkv7QdNB4Y6+s/aag5Gyvmnr+gKea4BLwCQL4Ur4ryEPM/Vh6wb0La7b99FNFJVqYAwHLimnr0Y+u/KNFRw6eJlj/R7zgL+cEAwJI/273Ute8/JKYso1z0+T9FAPAuZIjtv8bWqidizfC/hZ/cbJWp1r9Mt1onbrPkP0pSThQl2+A/pfCqh3ltsb8kZjA1XjzwP+wTe/OE498/fSVXLnnL7L90MgwqzpK2PzWmFPkM8eC/q+BEohrQsT8EQGcgBjb4P6ymEzzxefu/UTm84YKU6r++4aJ/Y6T5v/Ct0ZYEKPi/yaiZZsil6b9IhK5GSxbkv39bQ9oF2OG/Xdyj8hCBBECQ3DpYjCPhP9gb3ajrcey/pMOPk/pk6r9axvp01BfhPxUMUYE0mao/Q5kWnggJ5D+Ni7PLU6TaP2LSFpNkV9y/OD1mQVnW2D+7BbDHFM/OPyM3U1u4wvG/nmaZqPBZ5b+ufoLbrkDuP15r9/fWDqm/nOlJqcqk7L8CDskN4CG4v0zA922R4PA/XeDl9sXx0j9zk8MHhN3oP4JRJNkqkPk/1H7YR1eY2T+XsahzFmXDv9/b80LF8vC/l5umLj+Bwj8kGjv5j60AwGK6iXUQKL4/V/td5MLA07+FkFfGV5/3v/6DwRiFmN8/8d/qvEdP2T+g6X31E4vuP1FT/+U1ceW/gJaO1Ze+0b/DakNuWurpv4AdwTBFFPE/89ILZC4/8r9pkbkYcKL6vzB/Vio3q/O/9hAX5Edczz8V9HbZRbf0PyLk1Um+U9A/Rrum4/JT4j8twtTw0h3avyr+5wtAiO4/6BbhbtGZ0r/GXlwCcx7VvyZeJRDXzsc/IgPVPWh9wL8=",
        "encoding": "base64",
        "path": [
         "sample",
         "value"
        ]
       }
      ],
      "model_module": "bqplot",
      "model_module_version": "^0.5.3",
      "model_name": "HistModel",
      "state": {
       "_model_module_version": "^0.5.3",
       "_view_module_version": "^0.5.3",
       "count": {
        "dtype": "float64",
        "shape": [
         11
        ],
        "type": null
       },
       "display_legend": true,
       "interactions": {
        "legend_click": "tooltip"
       },
       "labels": [
        "Test Hist"
       ],
       "midpoints": [
        -1.8618265996075034,
        -1.396053209476439,
        -0.930279819345375,
        -0.46450642921431073,
        0.001266960916753379,
        0.4670403510478176,
        0.9328137411788817,
        1.3985871313099458,
        1.8643605214410102,
        2.3301339115720743
       ],
       "sample": {
        "dtype": "float64",
        "shape": [
         100
        ],
        "type": null
       },
       "scales": {
        "count": "IPY_MODEL_337aca4e3cdb4051a47dfb55acb6b016",
        "sample": "IPY_MODEL_740dc6666f4f46a1b7681ae37c40e151"
       },
       "tooltip": "IPY_MODEL_5a6546afce0449e19dbd5da5611f8803"
      }
     },
     "085ce8508e43403789fe9c9c0c373c6a": {
      "model_module": "bqplot",
      "model_module_version": "^0.5.3",
      "model_name": "LinearScaleModel",
      "state": {
       "_model_module_version": "^0.5.3",
       "_view_module_version": "^0.5.3",
       "stabilized": false
      }
     },
     "0a79cd4f8c2e4b35b292af0612ff9902": {
      "model_module": "@jupyter-widgets/base",
      "model_module_version": "1.2.0",
      "model_name": "LayoutModel",
      "state": {}
     },
     "0c06ddfecea548d8a5f9c9ad971e44d4": {
      "model_module": "@jupyter-widgets/controls",
      "model_module_version": "1.5.0",
      "model_name": "ButtonModel",
      "state": {
       "icon": "legal",
       "layout": "IPY_MODEL_d28a9904a8984c2581bd2ab3159d54cf",
       "style": "IPY_MODEL_4cbb87571c744fd19504468ebd6e0f7a"
      }
     },
     "0d0572ecd38f4b638b52fda5638e58a2": {
      "model_module": "bqplot",
      "model_module_version": "^0.5.3",
      "model_name": "AxisModel",
      "state": {
       "_model_module_version": "^0.5.3",
       "_view_module_version": "^0.5.3",
       "scale": "IPY_MODEL_5f4407c9031149099f57a71cf7b75177",
       "side": "bottom",
       "tick_values": null
      }
     },
     "112447aa248e4d0785c81180f1a734ae": {
      "model_module": "@jupyter-widgets/base",
      "model_module_version": "1.2.0",
      "model_name": "LayoutModel",
      "state": {}
     },
     "116808ed5430458b87deed8dc592776b": {
      "model_module": "bqplot",
      "model_module_version": "^0.5.3",
      "model_name": "FigureModel",
      "state": {
       "_dom_classes": [],
       "_model_module_version": "^0.5.3",
       "_view_module_version": "^0.5.3",
       "axes": [
        "IPY_MODEL_8eddc0026cb84832bee33a5111933af8",
        "IPY_MODEL_9bf84f9caf334f538cee891b777fff5c"
       ],
       "layout": "IPY_MODEL_8a83e57abe9a4ef59acf7d6ce45fa25e",
       "marks": [
        "IPY_MODEL_5609fa5ac2654286b2b282366dfcf0d1"
       ],
       "scale_x": "IPY_MODEL_f286b72b2f2540269f1012ad7334c8e7",
       "scale_y": "IPY_MODEL_1a69f0bf7e66453ea35a49bf48b79555"
      }
     },
     "184079d6881e42c3b5329f3011aa50f8": {
      "model_module": "bqplot",
      "model_module_version": "^0.5.3",
      "model_name": "AxisModel",
      "state": {
       "_model_module_version": "^0.5.3",
       "_view_module_version": "^0.5.3",
       "scale": "IPY_MODEL_7eccca88550945579f2fd18ff5280876",
       "side": "bottom",
       "tick_values": null
      }
     },
     "1a69f0bf7e66453ea35a49bf48b79555": {
      "model_module": "bqplot",
      "model_module_version": "^0.5.3",
      "model_name": "LinearScaleModel",
      "state": {
       "_model_module_version": "^0.5.3",
       "_view_module_version": "^0.5.3",
       "allow_padding": false,
       "max": 1,
       "min": 0,
       "stabilized": false
      }
     },
     "24143c73996e4046ba7c239467691240": {
      "model_module": "bqplot",
      "model_module_version": "^0.5.3",
      "model_name": "LinearScaleModel",
      "state": {
       "_model_module_version": "^0.5.3",
       "_view_module_version": "^0.5.3",
       "allow_padding": false,
       "max": 1,
       "min": 0,
       "stabilized": false
      }
     },
     "28b76240491646acac4408448f6b84b8": {
      "model_module": "bqplot",
      "model_module_version": "^0.5.3",
      "model_name": "LinearScaleModel",
      "state": {
       "_model_module_version": "^0.5.3",
       "_view_module_version": "^0.5.3",
       "allow_padding": false,
       "max": 1,
       "min": 0,
       "stabilized": false
      }
     },
     "2a2c2f3b39a342b49ba3b79fe1dc78f1": {
      "model_module": "@jupyter-widgets/base",
      "model_module_version": "1.2.0",
      "model_name": "LayoutModel",
      "state": {}
     },
     "2e61b19274ae4f28891818e9f29b141f": {
      "model_module": "bqplot",
      "model_module_version": "^0.5.3",
      "model_name": "AxisModel",
      "state": {
       "_model_module_version": "^0.5.3",
       "_view_module_version": "^0.5.3",
       "orientation": "vertical",
       "scale": "IPY_MODEL_a9705010b4e04474b198d8fc2ab0ad95",
       "side": "left",
       "tick_format": "0.2f",
       "tick_values": null
      }
     },
     "303734eb4fc74756b2ef4a7e882d6625": {
      "model_module": "@jupyter-widgets/base",
      "model_module_version": "1.2.0",
      "model_name": "LayoutModel",
      "state": {}
     },
     "337aca4e3cdb4051a47dfb55acb6b016": {
      "model_module": "bqplot",
      "model_module_version": "^0.5.3",
      "model_name": "LinearScaleModel",
      "state": {
       "_model_module_version": "^0.5.3",
       "_view_module_version": "^0.5.3",
       "stabilized": false
      }
     },
     "372d86e6cfb9455ab868846a02f65515": {
      "buffers": [
       {
        "data": "AAAAAAAA8D8=",
        "encoding": "base64",
        "path": [
         "default_opacities",
         "value"
        ]
       },
       {
        "data": "ZAAAAGUAAABmAAAAZwAAAGgAAABpAAAAagAAAGsAAABsAAAAbQAAAG4AAABvAAAAcAAAAHEAAAByAAAAcwAAAHQAAAB1AAAAdgAAAHcAAAB4AAAAeQAAAHoAAAB7AAAAfAAAAH0AAAB+AAAAfwAAAIAAAACBAAAAggAAAIMAAACEAAAAhQAAAIYAAACHAAAAiAAAAIkAAACKAAAAiwAAAIwAAACNAAAAjgAAAI8AAACQAAAAkQAAAJIAAACTAAAAlAAAAJUAAACWAAAAlwAAAJgAAACZAAAAmgAAAJsAAACcAAAAnQAAAJ4AAACfAAAAoAAAAKEAAACiAAAAowAAAKQAAAClAAAApgAAAKcAAACoAAAAqQAAAKoAAACrAAAArAAAAK0AAACuAAAArwAAALAAAACxAAAAsgAAALMAAAC0AAAAtQAAALYAAAC3AAAAuAAAALkAAAC6AAAAuwAAALwAAAC9AAAAvgAAAL8AAADAAAAAwQAAAMIAAADDAAAAxAAAAMUAAADGAAAAxwAAAA==",
        "encoding": "base64",
        "path": [
         "names",
         "value"
        ]
       },
       {
        "data": "AAAAAAEAAAACAAAAAwAAAAQAAAAFAAAABgAAAAcAAAAIAAAACQAAAAoAAAALAAAADAAAAA0AAAAOAAAADwAAABAAAAARAAAAEgAAABMAAAA=",
        "encoding": "base64",
        "path": [
         "x",
         "value"
        ]
       },
       {
        "data": "V6lMrj4f1D+x7pEH2ujHv4ULFmYj6t+/Stcc3LCk8r+6v35rniHlv2EdAOCjTKA/Z3571jag8b+8dDxyj0/mPwTzquZq+fC/HuEKSpKN7D8RgtXUsBDVPyArwDrwGOe/oARXW5Zv4z+fgNQty/zyP98eomHP8s8/FEA2tReQ9j+iJJUvQG/hPxth/aKV1Lw/6KhFkwYn5783AZ9lpPvUvw==",
        "encoding": "base64",
        "path": [
         "y",
         "value"
        ]
       }
      ],
      "model_module": "bqplot",
      "model_module_version": "^0.5.3",
      "model_name": "ScatterModel",
      "state": {
       "_model_module_version": "^0.5.3",
       "_view_module_version": "^0.5.3",
       "colors": [
        "orangered"
       ],
       "default_opacities": {
        "dtype": "float64",
        "shape": [
         1
        ],
        "type": null
       },
       "display_legend": true,
       "display_names": false,
       "labels": [
        "Red"
       ],
       "names": {
        "dtype": "int32",
        "shape": [
         100
        ],
        "type": null
       },
       "names_unique": false,
       "scales": {
        "x": "IPY_MODEL_a0cc8106cbe749bb996b35f6990c9c95",
        "y": "IPY_MODEL_f28373637c2e42a6833298c528c139b6"
       },
       "scales_metadata": {
        "color": {
         "dimension": "color"
        },
        "opacity": {
         "dimension": "opacity"
        },
        "rotation": {
         "dimension": "rotation"
        },
        "size": {
         "dimension": "size"
        },
        "skew": {
         "dimension": "skew"
        },
        "x": {
         "dimension": "x",
         "orientation": "horizontal"
        },
        "y": {
         "dimension": "y",
         "orientation": "vertical"
        }
       },
       "tooltip": "IPY_MODEL_bc04a0bf999848e99cdeffeefaf386b7",
       "x": {
        "dtype": "int32",
        "shape": [
         20
        ],
        "type": null
       },
       "y": {
        "dtype": "float64",
        "shape": [
         20
        ],
        "type": null
       }
      }
     },
     "3768639aa2544cab98ccd3ed76d019e6": {
      "model_module": "@jupyter-widgets/base",
      "model_module_version": "1.2.0",
      "model_name": "LayoutModel",
      "state": {}
     },
     "38226ae9e74a44439bf1c1a90fb51123": {
      "model_module": "bqplot",
      "model_module_version": "^0.5.3",
      "model_name": "TooltipModel",
      "state": {
       "_model_module_version": "^0.5.3",
       "_view_module_version": "^0.5.3",
       "fields": [
        "size",
        "index",
        "color"
       ],
       "formats": [
        "0.2f",
        "",
        "0.2f"
       ],
       "layout": "IPY_MODEL_3768639aa2544cab98ccd3ed76d019e6"
      }
     },
     "45f59147fbe34e2fbf10171d889f8eaf": {
      "model_module": "bqplot",
      "model_module_version": "^0.5.3",
      "model_name": "LinearScaleModel",
      "state": {
       "_model_module_version": "^0.5.3",
       "_view_module_version": "^0.5.3",
       "allow_padding": false,
       "max": 1,
       "min": 0,
       "stabilized": false
      }
     },
     "4cbb87571c744fd19504468ebd6e0f7a": {
      "model_module": "@jupyter-widgets/controls",
      "model_module_version": "1.5.0",
      "model_name": "ButtonStyleModel",
      "state": {}
     },
     "4e3becad518d4b7ba938150b909bcb8c": {
      "model_module": "bqplot",
      "model_module_version": "^0.5.3",
      "model_name": "LinearScaleModel",
      "state": {
       "_model_module_version": "^0.5.3",
       "_view_module_version": "^0.5.3",
       "allow_padding": false,
       "max": 1,
       "min": 0,
       "stabilized": false
      }
     },
     "535240bfe46d4911a1395a89a8c2ebbd": {
      "model_module": "bqplot",
      "model_module_version": "^0.5.3",
      "model_name": "LinearScaleModel",
      "state": {
       "_model_module_version": "^0.5.3",
       "_view_module_version": "^0.5.3",
       "allow_padding": false,
       "max": 1,
       "min": 0,
       "stabilized": false
      }
     },
     "5376aea32823445385c6001f7a00cad9": {
      "model_module": "bqplot",
      "model_module_version": "^0.5.3",
      "model_name": "FigureModel",
      "state": {
       "_dom_classes": [],
       "_model_module_version": "^0.5.3",
       "_view_module_version": "^0.5.3",
       "layout": "IPY_MODEL_112447aa248e4d0785c81180f1a734ae",
       "marks": [
        "IPY_MODEL_e1807f79d9764ff1bf2b8329afe2fce0"
       ],
       "scale_x": "IPY_MODEL_a66c6dea1e2d465281e4ad3015bd3a8c",
       "scale_y": "IPY_MODEL_535240bfe46d4911a1395a89a8c2ebbd"
      }
     },
     "55cef3d213844cca931bde90ff79eca7": {
      "model_module": "bqplot",
      "model_module_version": "^0.5.3",
      "model_name": "ColorScaleModel",
      "state": {
       "_model_module_version": "^0.5.3",
       "_view_module_version": "^0.5.3",
       "colors": [],
       "scale_type": "linear",
       "scheme": "Reds"
      }
     },
     "5609fa5ac2654286b2b282366dfcf0d1": {
      "buffers": [
       {
        "data": "AAAAAAEAAAACAAAAAwAAAAQAAAAFAAAABgAAAAcAAAAIAAAACQAAAAoAAAALAAAADAAAAA0AAAAOAAAADwAAABAAAAARAAAAEgAAABMAAAAUAAAAFQAAABYAAAAXAAAAGAAAABkAAAAaAAAAGwAAABwAAAAdAAAAHgAAAB8AAAAgAAAAIQAAACIAAAAjAAAAJAAAACUAAAAmAAAAJwAAACgAAAApAAAAKgAAACsAAAAsAAAALQAAAC4AAAAvAAAAMAAAADEAAAAyAAAAMwAAADQAAAA1AAAANgAAADcAAAA4AAAAOQAAADoAAAA7AAAAPAAAAD0AAAA+AAAAPwAAAEAAAABBAAAAQgAAAEMAAABEAAAARQAAAEYAAABHAAAASAAAAEkAAABKAAAASwAAAEwAAABNAAAATgAAAE8AAABQAAAAUQAAAFIAAABTAAAAVAAAAFUAAABWAAAAVwAAAFgAAABZAAAAWgAAAFsAAABcAAAAXQAAAF4AAABfAAAAYAAAAGEAAABiAAAAYwAAAA==",
        "encoding": "base64",
        "path": [
         "x",
         "value"
        ]
       },
       {
        "data": "Rl9lCgZ9BUC/rRJZvULrv8Ni/aVVHv4/N8SAHUH30b9WwnDx/HnWv29AoRjOQfE/TlBLYA5P8r/y3eFl/jb6P+9fHZdXxNy/QVKJWWi4679J5yVtg4TNv+h46uWhlac/MBR8rK6x5b/7/3mHZwLAP+eWYNmy1Pc/O6FM5PLFyr/uMXgWrNTBP2CNDAHnKaE/mF0pHgaKA0DXE6H2Dnn5vxIANshsK/u/sDdDzcAj7L9XIPJSgprwvx8AA6J6x+u/xm9aYvij9j+pwNqno+j3P8v1qKNMUfG/XDZrXEUw678Nii84P/vOP4eWo1J7Z/c/UWVmuzwmw79VCCxRnNPdP/sAi/Dku+a/LHx+07Rf/D/X2dHS4GHHP1PsmUfQk+m/uzXNZzaA9z8gGx9bR8bQP1jg63uFOPG/7YVw/PwR2r+MAn9Yc1XFP1oR0yX7CPi/Kfit2M4C9L/UqOgn14a9P7rLS1SxHdY/HLORi0fn4b/s/KRyiuECwNQack2hBdo/nmY5xIPX4b8sFUoMvzHjv7jTKDB5Oes/CPSu18UN3T/Np7YJW0zIv+Kmiy5F2eM/5ZlNgmLP1r+U7Yi3SkTjPzh2iAJztda/USaiv3T27j/suYORZsPtv3i7D6d4L9C/RN30lQouwb/n2x2uVIrcvwDoxk8+kvU/Jb1AVKhdt7/okT6B1WPjPzwPXsu45t2/k6F+/69g3b+C9kXbZeboPy6RpwjxEdU/TeRP9SSG5r8A/M6PNo/oP3uqBliDUuo/cW5XvbX50r/DLOR337DxP5qrXrY8EeW/XsKZy+860b8hLS5lMaTZP5cslKWmjNO/zbYlcZFw278IhodS1k3Ov0UehSNn0tA/4OoMyuUw5z9Fpboa5Bb3v+JmGSg4Wtc/hO+Wziag7j9BXrupKVzjv1wmAAXrevG/fa+XDDB14r/jDg7M95DeP4o28r+xEAFAJqst//H48L/H9A3mqA7HP3WrlitTDOm/s2Dakwtj7L+DoaSZh4Xnv+x0SA2t/ec//Whvibp79D9GdQ+utYgAQN5sHE4JdNc/ddGneyht4z8=",
        "encoding": "base64",
        "path": [
         "y",
         0,
         "value"
        ]
       },
       {
        "data": "1vld+VmZ6z/BXxcYjk3WvyhbPs4f/NU/GnKL/KiprT+RtoOBicb3v7NTm4ZpngHATpfsfwxT5z+mU79pNTPqPzA+bHx8odu/BtSDnLHK1b/rR3AjrKvsv/pGUoBE8MA/d2xuoZhwuL+1dqRHwB3lv5Jsag2tXO6/knmAqfNr078X543i4y/5v3fyvBNE1wNAmQQpzr9W8T+ewb0FuRzIPzmaJPj62s4/f96m8Vfe/z+03Lqm7KTrvwhkHvqvKuE/ueM87odM1j+EcbaZa8j2PzEWZC/rOsC/gVWmZ5gS+z8U2pVvbTTYv9hc4LRpdew/VySA/4qH9L9iFp1GPmHovxK3JwaiwNE/bnhIxy/F0r+iee6hZ/3KvyLOhKcGpa4/16nrciDM2T/R5r2Tk9PEP5tNb//7rd+/+Ji8R7Ur6b9Hopxs4c3bv63hD3bLj9+/bkjD83La9z+Zq9j2XWXcP982r5N4++W/eAzQ8R6G97/5SwCSKHfWv1obzRZSTPA/i2XjA6Y59r+LqNYJIGP0P/sVWU/GlcE/zBAnNyOjwz8mMm9Yo6H+v/jmnF3PP+6/wgsXgX1LsT/qFo/C7wr1P+YXmWUosvQ/Q59MQHry4L+sjqBR68zxPxa9jo/8w+m/fvZ7QApKA8DUEYeNUBHvvwlldnv+u8+/3bm9glVD3z+XdcWVCPXOv+tcQ7v389w/9DEoYqGc2L+Jz2Km9gHtP8x20xGpB9A/2Dg68eXo0L+kdzkAkiP0v1czmNMQPeM/i83d3dQz+L97BJWcdrj7Pxv7GhbujwHA8wqBPlUm2T8yaTGeqmGgP/lG2SNiVP0/I912dkXa7T8pH/Izr8HMv15HNz2dLO4/Nj4/DzZS8L/dQzmWbhjgP3azr7pwDuO/iKvz+hGm5j967Z7IOSnov8JS8mbuI+E/sEa5grkY77+WcWXxc2HuP16MfbPNoOS/3iTKLnP4zL9LronE713zP8O9lyaKNeq/pywqFxe89r8W2YXtXazQvxwMho/Nxv4/XuaF3fXiwz+G55mqMWDTPzmKhxZffeu//f/lzhwdzz8=",
        "encoding": "base64",
        "path": [
         "y",
         1,
         "value"
        ]
       },
       {
        "data": "cdQOtt8ZBUBd/+893wH5vztHZjnQmPO/RI9vkfAP8z9XcVI0Tdr2PzpXKC2ajNQ/hDyok9iR5T/PTtx75WH7v+cgMGdElNg/5k0WArhI4b89Ncmu5EDgv+gt2gssoOG/tUyvAvSm8L/blbQe+xzYPzTqT82ATf4/lcJCBLZYxb8iTGBGFffvv48CxeBhI/O/xOKSkupFzb8L+v6dMPHTv1Hk+fyla/4/FTrp4G7C5L/v4DWZjSLSv80z58ASVOg/7pd1iFO94D9amZGukZjUPyoobKM5huA/9Zw+gSjg8b8DilX2E6XPP92E9vJeG9S/3e4Cfgvj8r/LUbcBJOvzv3qz1aCSh+6/jNJ63rOp9L9I9rNXlhP4P0Y45poiOPQ/EjEAtFVc5z9Qw3z8KVPwv+K0zCMdE74/kxxMzvAm5j/iUG1S6tTkPwJFa5jO6u6/4oIH1iAQ8j8sGtzPthriv6Cf+VcmTpU//66Bea8A8r+p13RZavLSv112DcRxEfM/3s9rZ32myL+IBJqwQgr7vzO2OggMygZANPOeIxmq679MEKyLR+ToP0WlafvWHqa/ZW+B7JK66j8luRwsigH1P8yiyb+22PK/XYIaM7BTzr+cBoLwpsboP6bUH4vFceM/reK6Ltqaub8IgNnVG9rov0Y2hZqDM9S/0L/YwO9m/z/Q7Dlfu8XrP8Cein4+o/+/nSRHHKUctr8QHBYOYhfnvysbYIj8d+4/76fZuJ/s+z+SdCeDFMjwP+ECRtXfavE/wluHxXGw5j/mdRNRBWa2v+CkTwtROfK/L3tAH+pw07/Z/nkw5Y0HwPWlO+HuGuM/Jy2xtQCE578mMWRrN6gAQJ+/4jBvNfM/EesbaNDBor8xoPopKHbyvzAm5aSPg/s/0ENFYmau5j9n0j6CkNbzv94g0uN/d+Q/cIt7YFKt6b+Ld1714TrAPx9RM+l90fa/IMk5FKh89T+13AmGiIEBQD1Y761ZyfO/3ajQMS3t6z+CfcNSwm/Sv0OfwYWqLwfA4ZBRJzLj4L80Lc2ts6HmP4aKNpBA2PC/BbLfzUER5j8=",
        "encoding": "base64",
        "path": [
         "y",
         2,
         "value"
        ]
       }
      ],
      "model_module": "bqplot",
      "model_module_version": "^0.5.3",
      "model_name": "LinesModel",
      "state": {
       "_model_module_version": "^0.5.3",
       "_view_module_version": "^0.5.3",
       "display_legend": true,
       "fill_colors": [],
       "labels": [
        "line 1",
        "line 2",
        "line 3"
       ],
       "scales": {
        "x": "IPY_MODEL_d4515ed2d1d64e1aad03695cd01d48bf",
        "y": "IPY_MODEL_085ce8508e43403789fe9c9c0c373c6a"
       },
       "tooltip": "IPY_MODEL_f067f6f03acd47cea381a65782e5957d",
       "x": {
        "dtype": "int32",
        "shape": [
         100
        ],
        "type": null
       },
       "y": [
        {
         "dtype": "float64",
         "shape": [
          100
         ],
         "type": null
        },
        {
         "dtype": "float64",
         "shape": [
          100
         ],
         "type": null
        },
        {
         "dtype": "float64",
         "shape": [
          100
         ],
         "type": null
        }
       ]
      }
     },
     "5663cb052b2847abafd52594dfbe29cf": {
      "model_module": "bqplot",
      "model_module_version": "^0.5.3",
      "model_name": "TooltipModel",
      "state": {
       "_model_module_version": "^0.5.3",
       "_view_module_version": "^0.5.3",
       "fields": [
        "x",
        "y"
       ],
       "formats": [
        "",
        ".2f"
       ],
       "layout": "IPY_MODEL_2a2c2f3b39a342b49ba3b79fe1dc78f1"
      }
     },
     "57102968f2d4476abe171452408fe74f": {
      "model_module": "@jupyter-widgets/controls",
      "model_module_version": "1.5.0",
      "model_name": "DescriptionStyleModel",
      "state": {
       "description_width": ""
      }
     },
     "5a6546afce0449e19dbd5da5611f8803": {
      "model_module": "bqplot",
      "model_module_version": "^0.5.3",
      "model_name": "TooltipModel",
      "state": {
       "_model_module_version": "^0.5.3",
       "_view_module_version": "^0.5.3",
       "fields": [
        "count",
        "midpoint"
       ],
       "formats": [
        "",
        ".2f"
       ],
       "layout": "IPY_MODEL_e515aeaabfa44a58bba22c352779c079"
      }
     },
     "5f4407c9031149099f57a71cf7b75177": {
      "model_module": "bqplot",
      "model_module_version": "^0.5.3",
      "model_name": "LinearScaleModel",
      "state": {
       "_model_module_version": "^0.5.3",
       "_view_module_version": "^0.5.3",
       "stabilized": false
      }
     },
     "6cc69c723def49df915b9aed7dd1f0f7": {
      "model_module": "bqplot",
      "model_module_version": "^0.5.3",
      "model_name": "FigureModel",
      "state": {
       "_dom_classes": [],
       "_model_module_version": "^0.5.3",
       "_view_module_version": "^0.5.3",
       "axes": [
        "IPY_MODEL_6cea2949620a445097ca4d41789d0da7",
        "IPY_MODEL_8ff7771285a542c28112c9611a2361ab"
       ],
       "layout": "IPY_MODEL_75dbfc5528f1420d9ae8c284c6caa868",
       "marks": [
        "IPY_MODEL_e1acb65086ef450d8283e585c851f029",
        "IPY_MODEL_372d86e6cfb9455ab868846a02f65515"
       ],
       "scale_x": "IPY_MODEL_92ef3d56064b4e13ad16b87f1a814a36",
       "scale_y": "IPY_MODEL_d0eed10fbdb849eca9fba1808f5157cd"
      }
     },
     "6cea2949620a445097ca4d41789d0da7": {
      "model_module": "bqplot",
      "model_module_version": "^0.5.3",
      "model_name": "AxisModel",
      "state": {
       "_model_module_version": "^0.5.3",
       "_view_module_version": "^0.5.3",
       "scale": "IPY_MODEL_a0cc8106cbe749bb996b35f6990c9c95",
       "side": "bottom",
       "tick_values": null
      }
     },
     "740dc6666f4f46a1b7681ae37c40e151": {
      "model_module": "bqplot",
      "model_module_version": "^0.5.3",
      "model_name": "LinearScaleModel",
      "state": {
       "_model_module_version": "^0.5.3",
       "_view_module_version": "^0.5.3",
       "stabilized": false
      }
     },
     "75dbfc5528f1420d9ae8c284c6caa868": {
      "model_module": "@jupyter-widgets/base",
      "model_module_version": "1.2.0",
      "model_name": "LayoutModel",
      "state": {}
     },
     "7bf2fca17a60484c874f4c3ab8c81002": {
      "model_module": "bqplot",
      "model_module_version": "^0.5.3",
      "model_name": "FigureModel",
      "state": {
       "_dom_classes": [],
       "_model_module_version": "^0.5.3",
       "_view_module_version": "^0.5.3",
       "axes": [
        "IPY_MODEL_0d0572ecd38f4b638b52fda5638e58a2",
        "IPY_MODEL_2e61b19274ae4f28891818e9f29b141f"
       ],
       "layout": "IPY_MODEL_9e2c047d269541e2a50062008f23c434",
       "marks": [
        "IPY_MODEL_91f48e4d8c5b49d7aa65a11ecf9b86f3"
       ],
       "scale_x": "IPY_MODEL_a540dd30292d4b19bd7a5d4b024f8126",
       "scale_y": "IPY_MODEL_24143c73996e4046ba7c239467691240"
      }
     },
     "7eccca88550945579f2fd18ff5280876": {
      "model_module": "bqplot",
      "model_module_version": "^0.5.3",
      "model_name": "OrdinalScaleModel",
      "state": {
       "_model_module_version": "^0.5.3",
       "_view_module_version": "^0.5.3"
      }
     },
     "80bfd55166c64527a49d0a4f0fd36a17": {
      "buffers": [
       {
        "data": "AAAAAAAA8D8=",
        "encoding": "base64",
        "path": [
         "default_opacities",
         "value"
        ]
       },
       {
        "data": "AQAAAAIAAAADAAAA",
        "encoding": "base64",
        "path": [
         "selected",
         "value"
        ]
       },
       {
        "data": "AAAAAAEAAAACAAAAAwAAAAQAAAAFAAAABgAAAAcAAAAIAAAACQAAAAoAAAALAAAADAAAAA0AAAAOAAAADwAAABAAAAARAAAAEgAAABMAAAA=",
        "encoding": "base64",
        "path": [
         "x",
         "value"
        ]
       },
       {
        "data": "LC/hQnl/7T+2YHmNW5Dvv94sHjGz9ua/rzkmlMAW/z9iae5h5eDQP6tVp0VNCOW/MSu0jQPy1j8ZxstvbpfWvyh0AdG2q+C/TTEAAav88r9Oy1jU7Lqsv7vaNojHJvY/jv+s8TaJ+7+2ADCsBtjkP8TfVhw8SMO/SN/oHlLR+78mh0q+KMrtv/gH/jFM3eM/pewzKpya7r9UcopbRvXdPw==",
        "encoding": "base64",
        "path": [
         "y",
         "value"
        ]
       }
      ],
      "model_module": "bqplot",
      "model_module_version": "^0.5.3",
      "model_name": "ScatterModel",
      "state": {
       "_model_module_version": "^0.5.3",
       "_view_module_version": "^0.5.3",
       "colors": [
        "dodgerblue"
       ],
       "default_opacities": {
        "dtype": "float64",
        "shape": [
         1
        ],
        "type": null
       },
       "interactions": {
        "click": "select"
       },
       "names": null,
       "scales": {
        "x": "IPY_MODEL_9db8054b2bc74347b9329f54c99e434e",
        "y": "IPY_MODEL_ed9af61bd8484bf4a5eae1d691270d70"
       },
       "scales_metadata": {
        "color": {
         "dimension": "color"
        },
        "opacity": {
         "dimension": "opacity"
        },
        "rotation": {
         "dimension": "rotation"
        },
        "size": {
         "dimension": "size"
        },
        "skew": {
         "dimension": "skew"
        },
        "x": {
         "dimension": "x",
         "orientation": "horizontal"
        },
        "y": {
         "dimension": "y",
         "orientation": "vertical"
        }
       },
       "selected": {
        "dtype": "int32",
        "shape": [
         3
        ],
        "type": null
       },
       "selected_style": {
        "fill": "DarkOrange",
        "opacity": 1,
        "stroke": "Red"
       },
       "unselected_style": {
        "opacity": 0.5
       },
       "x": {
        "dtype": "int32",
        "shape": [
         20
        ],
        "type": null
       },
       "y": {
        "dtype": "float64",
        "shape": [
         20
        ],
        "type": null
       }
      }
     },
     "834ad74fa7bc4a9b81cc9796a8bf946a": {
      "model_module": "bqplot",
      "model_module_version": "^0.5.3",
      "model_name": "LinearScaleModel",
      "state": {
       "_model_module_version": "^0.5.3",
       "_view_module_version": "^0.5.3",
       "allow_padding": false,
       "max": 1,
       "min": 0,
       "stabilized": false
      }
     },
     "838d9862cc7749e4bfdb0bd93bf823d3": {
      "model_module": "bqplot",
      "model_module_version": "^0.5.3",
      "model_name": "AxisModel",
      "state": {
       "_model_module_version": "^0.5.3",
       "_view_module_version": "^0.5.3",
       "orientation": "vertical",
       "scale": "IPY_MODEL_337aca4e3cdb4051a47dfb55acb6b016",
       "side": "left",
       "tick_format": "0.2f",
       "tick_values": null
      }
     },
     "88485ae4c9af4355be36a81c11751dcc": {
      "model_module": "bqplot",
      "model_module_version": "^0.5.3",
      "model_name": "AxisModel",
      "state": {
       "_model_module_version": "^0.5.3",
       "_view_module_version": "^0.5.3",
       "orientation": "vertical",
       "scale": "IPY_MODEL_ed9af61bd8484bf4a5eae1d691270d70",
       "side": "left",
       "tick_format": "0.2f",
       "tick_values": null
      }
     },
     "8a83e57abe9a4ef59acf7d6ce45fa25e": {
      "model_module": "@jupyter-widgets/base",
      "model_module_version": "1.2.0",
      "model_name": "LayoutModel",
      "state": {}
     },
     "8dc5398767bd4efaa44c1a89c3d9ab20": {
      "model_module": "bqplot",
      "model_module_version": "^0.5.3",
      "model_name": "FigureModel",
      "state": {
       "_dom_classes": [],
       "_model_module_version": "^0.5.3",
       "_view_module_version": "^0.5.3",
       "axes": [
        "IPY_MODEL_184079d6881e42c3b5329f3011aa50f8",
        "IPY_MODEL_cfe1c99971244c08909375b9b9f31cd1"
       ],
       "layout": "IPY_MODEL_b4b4007bfe2a446b8e1a49316691afcc",
       "marks": [
        "IPY_MODEL_d2383ed93dfc4579b8385fe4ee7a5626"
       ],
       "scale_x": "IPY_MODEL_ab2f7732ce824f9299d022223746e642",
       "scale_y": "IPY_MODEL_4e3becad518d4b7ba938150b909bcb8c"
      }
     },
     "8eddc0026cb84832bee33a5111933af8": {
      "model_module": "bqplot",
      "model_module_version": "^0.5.3",
      "model_name": "AxisModel",
      "state": {
       "_model_module_version": "^0.5.3",
       "_view_module_version": "^0.5.3",
       "scale": "IPY_MODEL_d4515ed2d1d64e1aad03695cd01d48bf",
       "side": "bottom",
       "tick_values": null
      }
     },
     "8ff7771285a542c28112c9611a2361ab": {
      "model_module": "bqplot",
      "model_module_version": "^0.5.3",
      "model_name": "AxisModel",
      "state": {
       "_model_module_version": "^0.5.3",
       "_view_module_version": "^0.5.3",
       "orientation": "vertical",
       "scale": "IPY_MODEL_f28373637c2e42a6833298c528c139b6",
       "side": "left",
       "tick_format": "0.2f",
       "tick_values": null
      }
     },
     "91f48e4d8c5b49d7aa65a11ecf9b86f3": {
      "buffers": [
       {
        "data": "AAAAAAEAAAACAAAAAwAAAAQAAAAFAAAABgAAAAcAAAAIAAAACQAAAA==",
        "encoding": "base64",
        "path": [
         "x",
         "value"
        ]
       },
       {
        "data": "oWtHBx3a9T/mO10mTdrCP1zt0OD4OOW/Hz/91Kg08b+vyWbdtCoDQGUEOINa0O2/xVYSe39WpL8rqCUBBsLev7Tg/bOuFvW/vjTJIfXmkL8=",
        "encoding": "base64",
        "path": [
         "y",
         "value"
        ]
       }
      ],
      "model_module": "bqplot",
      "model_module_version": "^0.5.3",
      "model_name": "LinesModel",
      "state": {
       "_model_module_version": "^0.5.3",
       "_view_module_version": "^0.5.3",
       "fill_colors": [],
       "labels": [
        "C1"
       ],
       "scales": {
        "x": "IPY_MODEL_5f4407c9031149099f57a71cf7b75177",
        "y": "IPY_MODEL_a9705010b4e04474b198d8fc2ab0ad95"
       },
       "x": {
        "dtype": "int32",
        "shape": [
         10
        ],
        "type": null
       },
       "y": {
        "dtype": "float64",
        "shape": [
         10
        ],
        "type": null
       }
      }
     },
     "92ef3d56064b4e13ad16b87f1a814a36": {
      "model_module": "bqplot",
      "model_module_version": "^0.5.3",
      "model_name": "LinearScaleModel",
      "state": {
       "_model_module_version": "^0.5.3",
       "_view_module_version": "^0.5.3",
       "allow_padding": false,
       "max": 1,
       "min": 0,
       "stabilized": false
      }
     },
     "9bf84f9caf334f538cee891b777fff5c": {
      "model_module": "bqplot",
      "model_module_version": "^0.5.3",
      "model_name": "AxisModel",
      "state": {
       "_model_module_version": "^0.5.3",
       "_view_module_version": "^0.5.3",
       "orientation": "vertical",
       "scale": "IPY_MODEL_085ce8508e43403789fe9c9c0c373c6a",
       "side": "left",
       "tick_format": "0.2f",
       "tick_values": null
      }
     },
     "9db8054b2bc74347b9329f54c99e434e": {
      "model_module": "bqplot",
      "model_module_version": "^0.5.3",
      "model_name": "LinearScaleModel",
      "state": {
       "_model_module_version": "^0.5.3",
       "_view_module_version": "^0.5.3",
       "stabilized": false
      }
     },
     "9e2c047d269541e2a50062008f23c434": {
      "model_module": "@jupyter-widgets/base",
      "model_module_version": "1.2.0",
      "model_name": "LayoutModel",
      "state": {
       "min_width": "600px"
      }
     },
     "a0cc8106cbe749bb996b35f6990c9c95": {
      "model_module": "bqplot",
      "model_module_version": "^0.5.3",
      "model_name": "LinearScaleModel",
      "state": {
       "_model_module_version": "^0.5.3",
       "_view_module_version": "^0.5.3",
       "stabilized": false
      }
     },
     "a4b28a2e73aa421fbcb71bda97a1e837": {
      "model_module": "bqplot",
      "model_module_version": "^0.5.3",
      "model_name": "AxisModel",
      "state": {
       "_model_module_version": "^0.5.3",
       "_view_module_version": "^0.5.3",
       "scale": "IPY_MODEL_740dc6666f4f46a1b7681ae37c40e151",
       "side": "bottom",
       "tick_format": "0.2f",
       "tick_values": null
      }
     },
     "a540dd30292d4b19bd7a5d4b024f8126": {
      "model_module": "bqplot",
      "model_module_version": "^0.5.3",
      "model_name": "LinearScaleModel",
      "state": {
       "_model_module_version": "^0.5.3",
       "_view_module_version": "^0.5.3",
       "allow_padding": false,
       "max": 1,
       "min": 0,
       "stabilized": false
      }
     },
     "a66c6dea1e2d465281e4ad3015bd3a8c": {
      "model_module": "bqplot",
      "model_module_version": "^0.5.3",
      "model_name": "LinearScaleModel",
      "state": {
       "_model_module_version": "^0.5.3",
       "_view_module_version": "^0.5.3",
       "allow_padding": false,
       "max": 1,
       "min": 0,
       "stabilized": false
      }
     },
     "a9705010b4e04474b198d8fc2ab0ad95": {
      "model_module": "bqplot",
      "model_module_version": "^0.5.3",
      "model_name": "LinearScaleModel",
      "state": {
       "_model_module_version": "^0.5.3",
       "_view_module_version": "^0.5.3",
       "stabilized": false
      }
     },
     "ab2f7732ce824f9299d022223746e642": {
      "model_module": "bqplot",
      "model_module_version": "^0.5.3",
      "model_name": "LinearScaleModel",
      "state": {
       "_model_module_version": "^0.5.3",
       "_view_module_version": "^0.5.3",
       "allow_padding": false,
       "max": 1,
       "min": 0,
       "stabilized": false
      }
     },
     "b2d210e5e4254640aca1638ceccdc21a": {
      "model_module": "bqplot",
      "model_module_version": "^0.5.3",
      "model_name": "LinearScaleModel",
      "state": {
       "_model_module_version": "^0.5.3",
       "_view_module_version": "^0.5.3",
       "stabilized": false
      }
     },
     "b4b4007bfe2a446b8e1a49316691afcc": {
      "model_module": "@jupyter-widgets/base",
      "model_module_version": "1.2.0",
      "model_name": "LayoutModel",
      "state": {}
     },
     "bc04a0bf999848e99cdeffeefaf386b7": {
      "model_module": "@jupyter-widgets/controls",
      "model_module_version": "1.5.0",
      "model_name": "DropdownModel",
      "state": {
       "_options_labels": [
        "First",
        "Second",
        "Third",
        "Fourth"
       ],
       "index": 0,
       "layout": "IPY_MODEL_0a79cd4f8c2e4b35b292af0612ff9902",
       "style": "IPY_MODEL_57102968f2d4476abe171452408fe74f"
      }
     },
     "be247aa59bb64f7189a032e0c7ffd585": {
      "model_module": "bqplot",
      "model_module_version": "^0.5.3",
      "model_name": "AxisModel",
      "state": {
       "_model_module_version": "^0.5.3",
       "_view_module_version": "^0.5.3",
       "scale": "IPY_MODEL_9db8054b2bc74347b9329f54c99e434e",
       "side": "bottom",
       "tick_values": null
      }
     },
     "c987cf799024449ab5eb63968886fb9c": {
      "model_module": "bqplot",
      "model_module_version": "^0.5.3",
      "model_name": "FigureModel",
      "state": {
       "_dom_classes": [],
       "_model_module_version": "^0.5.3",
       "_view_module_version": "^0.5.3",
       "axes": [
        "IPY_MODEL_be247aa59bb64f7189a032e0c7ffd585",
        "IPY_MODEL_88485ae4c9af4355be36a81c11751dcc"
       ],
       "layout": "IPY_MODEL_303734eb4fc74756b2ef4a7e882d6625",
       "marks": [
        "IPY_MODEL_80bfd55166c64527a49d0a4f0fd36a17"
       ],
       "scale_x": "IPY_MODEL_03ef806192ed406686e9cbd65ebf5b14",
       "scale_y": "IPY_MODEL_28b76240491646acac4408448f6b84b8"
      }
     },
     "ca9d2c01e9684b07b0bce5c175f81bcd": {
      "model_module": "bqplot",
      "model_module_version": "^0.5.3",
      "model_name": "FigureModel",
      "state": {
       "_dom_classes": [],
       "_model_module_version": "^0.5.3",
       "_view_module_version": "^0.5.3",
       "axes": [
        "IPY_MODEL_a4b28a2e73aa421fbcb71bda97a1e837",
        "IPY_MODEL_838d9862cc7749e4bfdb0bd93bf823d3"
       ],
       "layout": "IPY_MODEL_e1f849352fc04b44b3ae2d648cf1fd46",
       "marks": [
        "IPY_MODEL_051d0e9e389c4e6faa5cf7e16d44cd30"
       ],
       "scale_x": "IPY_MODEL_834ad74fa7bc4a9b81cc9796a8bf946a",
       "scale_y": "IPY_MODEL_45f59147fbe34e2fbf10171d889f8eaf"
      }
     },
     "cfe1c99971244c08909375b9b9f31cd1": {
      "model_module": "bqplot",
      "model_module_version": "^0.5.3",
      "model_name": "AxisModel",
      "state": {
       "_model_module_version": "^0.5.3",
       "_view_module_version": "^0.5.3",
       "orientation": "vertical",
       "scale": "IPY_MODEL_b2d210e5e4254640aca1638ceccdc21a",
       "side": "left",
       "tick_format": "0.2f",
       "tick_values": null
      }
     },
     "d0eed10fbdb849eca9fba1808f5157cd": {
      "model_module": "bqplot",
      "model_module_version": "^0.5.3",
      "model_name": "LinearScaleModel",
      "state": {
       "_model_module_version": "^0.5.3",
       "_view_module_version": "^0.5.3",
       "allow_padding": false,
       "max": 1,
       "min": 0,
       "stabilized": false
      }
     },
     "d2383ed93dfc4579b8385fe4ee7a5626": {
      "buffers": [
       {
        "data": "AAAAAAEAAAACAAAAAwAAAAQAAAAFAAAABgAAAAcAAAAIAAAACQAAAA==",
        "encoding": "base64",
        "path": [
         "x",
         "value"
        ]
       },
       {
        "data": "r50uU2oSBsBU1TRGAL7wv+96qYtQec+/q8jxIbtI8T9XH7tO6THlP/vWVDuakve/tHLnukjS3D/CjwFihTP2vydqoBsOpuy/a6mkHAm60j8=",
        "encoding": "base64",
        "path": [
         "y",
         0,
         "value"
        ]
       },
       {
        "data": "+/zbegNjxL/7rWkAwF/lv4LUP+Z6haK/UkdYnAd5tr9SjqCG0zb2vwjYRayQyc0/7tKFKnG14b8+wFlymMvnP1U2AmT1CbC/Al+PLfOu8D8=",
        "encoding": "base64",
        "path": [
         "y",
         1,
         "value"
        ]
       }
      ],
      "model_module": "bqplot",
      "model_module_version": "^0.5.3",
      "model_name": "BarsModel",
      "state": {
       "_model_module_version": "^0.5.3",
       "_view_module_version": "^0.5.3",
       "colors": [
        "steelblue"
       ],
       "display_legend": true,
       "interactions": {
        "click": "tooltip"
       },
       "label_font_style": {},
       "labels": [
        "Level 1",
        "Level 2"
       ],
       "scales": {
        "x": "IPY_MODEL_7eccca88550945579f2fd18ff5280876",
        "y": "IPY_MODEL_b2d210e5e4254640aca1638ceccdc21a"
       },
       "selected_style": {
        "fill": "red",
        "stroke": "orange"
       },
       "tooltip": "IPY_MODEL_5663cb052b2847abafd52594dfbe29cf",
       "type": "grouped",
       "x": {
        "dtype": "int32",
        "shape": [
         10
        ],
        "type": null
       },
       "y": [
        {
         "dtype": "float64",
         "shape": [
          10
         ],
         "type": null
        },
        {
         "dtype": "float64",
         "shape": [
          10
         ],
         "type": null
        }
       ]
      }
     },
     "d28a9904a8984c2581bd2ab3159d54cf": {
      "model_module": "@jupyter-widgets/base",
      "model_module_version": "1.2.0",
      "model_name": "LayoutModel",
      "state": {}
     },
     "d4515ed2d1d64e1aad03695cd01d48bf": {
      "model_module": "bqplot",
      "model_module_version": "^0.5.3",
      "model_name": "LinearScaleModel",
      "state": {
       "_model_module_version": "^0.5.3",
       "_view_module_version": "^0.5.3",
       "stabilized": false
      }
     },
     "e1807f79d9764ff1bf2b8329afe2fce0": {
      "buffers": [
       {
        "data": "sgrv7wri9r+O9IqJ6UjAP9TclL0sQALADiBFrdKQ2r8VM1oa07TfP2nOCEqJHfY/SxKGPEQK378IOcI+IaXYP1ltAogr3da/MhE4lskL+j8=",
        "encoding": "base64",
        "path": [
         "color",
         "value"
        ]
       },
       {
        "data": "AFACcaVR7z+6pYL/fl7lP7tT4qpYSdw/PDko+hD17j8YiBn2lczhP1b+ho9yp+0/lKmn3sE/5T+ny1asi4bnPxwX4yZcUeQ/j3k1STfl4D8=",
        "encoding": "base64",
        "path": [
         "sizes",
         "value"
        ]
       }
      ],
      "model_module": "bqplot",
      "model_module_version": "^0.5.3",
      "model_name": "PieModel",
      "state": {
       "_model_module_version": "^0.5.3",
       "_view_module_version": "^0.5.3",
       "color": {
        "dtype": "float64",
        "shape": [
         10
        ],
        "type": null
       },
       "interactions": {
        "click": "select",
        "hover": "tooltip"
       },
       "scales": {
        "color": "IPY_MODEL_55cef3d213844cca931bde90ff79eca7"
       },
       "selected_style": {
        "opacity": "1",
        "stroke": "white",
        "stroke-width": "2"
       },
       "sizes": {
        "dtype": "float64",
        "shape": [
         10
        ],
        "type": null
       },
       "tooltip": "IPY_MODEL_38226ae9e74a44439bf1c1a90fb51123",
       "unselected_style": {
        "opacity": "0.2"
       }
      }
     },
     "e1acb65086ef450d8283e585c851f029": {
      "buffers": [
       {
        "data": "AAAAAAAA8D8=",
        "encoding": "base64",
        "path": [
         "default_opacities",
         "value"
        ]
       },
       {
        "data": "ZAAAAGUAAABmAAAAZwAAAGgAAABpAAAAagAAAGsAAABsAAAAbQAAAG4AAABvAAAAcAAAAHEAAAByAAAAcwAAAHQAAAB1AAAAdgAAAHcAAAB4AAAAeQAAAHoAAAB7AAAAfAAAAH0AAAB+AAAAfwAAAIAAAACBAAAAggAAAIMAAACEAAAAhQAAAIYAAACHAAAAiAAAAIkAAACKAAAAiwAAAIwAAACNAAAAjgAAAI8AAACQAAAAkQAAAJIAAACTAAAAlAAAAJUAAACWAAAAlwAAAJgAAACZAAAAmgAAAJsAAACcAAAAnQAAAJ4AAACfAAAAoAAAAKEAAACiAAAAowAAAKQAAAClAAAApgAAAKcAAACoAAAAqQAAAKoAAACrAAAArAAAAK0AAACuAAAArwAAALAAAACxAAAAsgAAALMAAAC0AAAAtQAAALYAAAC3AAAAuAAAALkAAAC6AAAAuwAAALwAAAC9AAAAvgAAAL8AAADAAAAAwQAAAMIAAADDAAAAxAAAAMUAAADGAAAAxwAAAA==",
        "encoding": "base64",
        "path": [
         "names",
         "value"
        ]
       },
       {
        "data": "AAAAAAEAAAACAAAAAwAAAAQAAAAFAAAABgAAAAcAAAAIAAAACQAAAAoAAAALAAAADAAAAA0AAAAOAAAADwAAABAAAAARAAAAEgAAABMAAAA=",
        "encoding": "base64",
        "path": [
         "x",
         "value"
        ]
       },
       {
        "data": "q5swQC5Y47/b55FxHIjkv5zpKjZxELq/mPN6Pz774r8XSM5gtNPSPxrw+CAewfA/4ARMh6WU/T8LaFO7a6P4P/F/W4OR2OE/PS8RBYkR7z8csMlNUGW7v3kZF9tH/QZA/Tfnkea01L9PIqXh9wXGP07j4pRfW7i/3zkl5JcLk7+z1Jxsg1HkPz/aLWlbCto/3PJrNAE19D9mqxm6x5zmvw==",
        "encoding": "base64",
        "path": [
         "y",
         "value"
        ]
       }
      ],
      "model_module": "bqplot",
      "model_module_version": "^0.5.3",
      "model_name": "ScatterModel",
      "state": {
       "_model_module_version": "^0.5.3",
       "_view_module_version": "^0.5.3",
       "colors": [
        "dodgerblue"
       ],
       "default_opacities": {
        "dtype": "float64",
        "shape": [
         1
        ],
        "type": null
       },
       "display_legend": true,
       "display_names": false,
       "interactions": {
        "click": "tooltip"
       },
       "labels": [
        "Blue"
       ],
       "names": {
        "dtype": "int32",
        "shape": [
         100
        ],
        "type": null
       },
       "names_unique": false,
       "scales": {
        "x": "IPY_MODEL_a0cc8106cbe749bb996b35f6990c9c95",
        "y": "IPY_MODEL_f28373637c2e42a6833298c528c139b6"
       },
       "scales_metadata": {
        "color": {
         "dimension": "color"
        },
        "opacity": {
         "dimension": "opacity"
        },
        "rotation": {
         "dimension": "rotation"
        },
        "size": {
         "dimension": "size"
        },
        "skew": {
         "dimension": "skew"
        },
        "x": {
         "dimension": "x",
         "orientation": "horizontal"
        },
        "y": {
         "dimension": "y",
         "orientation": "vertical"
        }
       },
       "tooltip": "IPY_MODEL_7bf2fca17a60484c874f4c3ab8c81002",
       "x": {
        "dtype": "int32",
        "shape": [
         20
        ],
        "type": null
       },
       "y": {
        "dtype": "float64",
        "shape": [
         20
        ],
        "type": null
       }
      }
     },
     "e1f849352fc04b44b3ae2d648cf1fd46": {
      "model_module": "@jupyter-widgets/base",
      "model_module_version": "1.2.0",
      "model_name": "LayoutModel",
      "state": {}
     },
     "e515aeaabfa44a58bba22c352779c079": {
      "model_module": "@jupyter-widgets/base",
      "model_module_version": "1.2.0",
      "model_name": "LayoutModel",
      "state": {}
     },
     "ed9af61bd8484bf4a5eae1d691270d70": {
      "model_module": "bqplot",
      "model_module_version": "^0.5.3",
      "model_name": "LinearScaleModel",
      "state": {
       "_model_module_version": "^0.5.3",
       "_view_module_version": "^0.5.3",
       "stabilized": false
      }
     },
     "f067f6f03acd47cea381a65782e5957d": {
      "model_module": "bqplot",
      "model_module_version": "^0.5.3",
      "model_name": "TooltipModel",
      "state": {
       "_model_module_version": "^0.5.3",
       "_view_module_version": "^0.5.3",
       "fields": [
        "name",
        "index"
       ],
       "formats": [
        "",
        ".2f"
       ],
       "labels": [
        "id",
        "line_num"
       ],
       "layout": "IPY_MODEL_f9b452c21e0849b5be7e488bb59eb87c"
      }
     },
     "f28373637c2e42a6833298c528c139b6": {
      "model_module": "bqplot",
      "model_module_version": "^0.5.3",
      "model_name": "LinearScaleModel",
      "state": {
       "_model_module_version": "^0.5.3",
       "_view_module_version": "^0.5.3",
       "stabilized": false
      }
     },
     "f286b72b2f2540269f1012ad7334c8e7": {
      "model_module": "bqplot",
      "model_module_version": "^0.5.3",
      "model_name": "LinearScaleModel",
      "state": {
       "_model_module_version": "^0.5.3",
       "_view_module_version": "^0.5.3",
       "allow_padding": false,
       "max": 1,
       "min": 0,
       "stabilized": false
      }
     },
     "f9b452c21e0849b5be7e488bb59eb87c": {
      "model_module": "@jupyter-widgets/base",
      "model_module_version": "1.2.0",
      "model_name": "LayoutModel",
      "state": {}
     }
    },
    "version_major": 2,
    "version_minor": 0
   }
  }
 },
 "nbformat": 4,
 "nbformat_minor": 4
}
