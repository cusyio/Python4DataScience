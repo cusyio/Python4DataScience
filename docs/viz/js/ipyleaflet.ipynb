{
 "cells": [
  {
   "cell_type": "markdown",
   "metadata": {},
   "source": [
    "# ipyleaflet"
   ]
  },
  {
   "cell_type": "code",
   "execution_count": 1,
   "metadata": {},
   "outputs": [],
   "source": [
    "from __future__ import print_function\n",
    "from ipyleaflet import *"
   ]
  },
  {
   "cell_type": "code",
   "execution_count": 2,
   "metadata": {},
   "outputs": [
    {
     "data": {
      "application/vnd.jupyter.widget-view+json": {
       "model_id": "5bd4e9b3553f444f8e312641b88e3422",
       "version_major": 2,
       "version_minor": 0
      },
      "text/plain": [
       "Map(center=[48, 8], controls=(ZoomControl(options=['position', 'zoom_in_text', 'zoom_in_title', 'zoom_out_text…"
      ]
     },
     "metadata": {},
     "output_type": "display_data"
    }
   ],
   "source": [
    "m = Map(center=(48, 8), zoom=8, basemap=basemaps.Hydda.Full)\n",
    "m"
   ]
  },
  {
   "cell_type": "code",
   "execution_count": 3,
   "metadata": {},
   "outputs": [],
   "source": [
    "strata_all = basemap_to_tiles(basemaps.Strava.All)\n",
    "m.add_layer(strata_all)"
   ]
  },
  {
   "cell_type": "code",
   "execution_count": 4,
   "metadata": {},
   "outputs": [
    {
     "data": {
      "application/vnd.jupyter.widget-view+json": {
       "model_id": "110a4d68c05344129d4de28f83fef65d",
       "version_major": 2,
       "version_minor": 0
      },
      "text/plain": [
       "Label(value='')"
      ]
     },
     "metadata": {},
     "output_type": "display_data"
    }
   ],
   "source": [
    "from ipywidgets import Label\n",
    "\n",
    "label = Label()\n",
    "display(label)\n",
    "\n",
    "def handle_interaction(**kwargs):\n",
    "    if kwargs.get('type') == 'mousemove':\n",
    "        label.value = str(kwargs.get('coordinates'))\n",
    "\n",
    "m.on_interaction(handle_interaction)"
   ]
  },
  {
   "cell_type": "code",
   "execution_count": 5,
   "metadata": {},
   "outputs": [],
   "source": [
    "strata_water = basemap_to_tiles(basemaps.Strava.Water)\n",
    "m.substitute_layer(strata_all, strata_water)"
   ]
  },
  {
   "cell_type": "code",
   "execution_count": 6,
   "metadata": {},
   "outputs": [],
   "source": [
    "import json\n",
    "from geojson import GeoJSON\n",
    "\n",
    "with open('./europe_110.geo.json') as f:\n",
    "    data = json.load(f)\n",
    "for feature in data['features']:\n",
    "    feature['properties']['style'] = {\n",
    "        'color': 'grey',\n",
    "        'weight': 1,\n",
    "        'fillColor': 'grey',\n",
    "        'fillOpacity': 0.5\n",
    "    }\n",
    "geo = GeoJSON(data=data, hover_style={'fillColor': 'red'}, name='Countries')\n",
    "m.add_layer(geo)"
   ]
  },
  {
   "cell_type": "code",
   "execution_count": 7,
   "metadata": {},
   "outputs": [],
   "source": [
    "m.add_control(LayersControl())"
   ]
  },
  {
   "cell_type": "code",
   "execution_count": 8,
   "metadata": {
    "scrolled": true
   },
   "outputs": [
    {
     "data": {
      "application/vnd.jupyter.widget-view+json": {
       "model_id": "c7d5ac2178cf49e4a07e7e0005262fec",
       "version_major": 2,
       "version_minor": 0
      },
      "text/plain": [
       "HBox(children=(Map(center=[48, 8], controls=(ZoomControl(options=['position', 'zoom_in_text', 'zoom_in_title',…"
      ]
     },
     "metadata": {},
     "output_type": "display_data"
    }
   ],
   "source": [
    "import ipywidgets\n",
    " \n",
    "ipywidgets.HBox([m, Map(center=[48.0, 7.9], zoom=10)])"
   ]
  },
  {
   "cell_type": "markdown",
   "metadata": {},
   "source": [
    "## WMS-Layer\n",
    "\n",
    "Mit ipyleaflet lassen sich auch eigene [WMS](https://de.wikipedia.org/wiki/Web_Map_Service)-Layer definiern. Üblicherweise werden Optionen wie `layers`, `format` und `transparent` in der Request-URL übergeben. Wenn ihr  zusätzliche Parameter benötigt, könnt ihr diese jedoch auch in eigenen WMSLayer-Klassen definieren. Im folgenden wird beispielsweise ein Zeitparameter hinzugefügt, indem ein benutzerdefinierter `TimeWMSLayer` definiert wird."
   ]
  },
  {
   "cell_type": "markdown",
   "metadata": {},
   "source": [
    "### Beispiel für einen eigenen WMS-Layer"
   ]
  },
  {
   "cell_type": "code",
   "execution_count": 9,
   "metadata": {
    "scrolled": false
   },
   "outputs": [
    {
     "data": {
      "application/vnd.jupyter.widget-view+json": {
       "model_id": "bd0cfd71501549f7a35f8fe8aabe2d4e",
       "version_major": 2,
       "version_minor": 0
      },
      "text/plain": [
       "Map(center=[30.661, -88.645], controls=(ZoomControl(options=['position', 'zoom_in_text', 'zoom_in_title', 'zoo…"
      ]
     },
     "metadata": {},
     "output_type": "display_data"
    }
   ],
   "source": [
    "from ipyleaflet import Map, WMSLayer, basemaps\n",
    "from traitlets import Unicode\n",
    "\n",
    "class TimeWMSLayer(WMSLayer):\n",
    "    time = Unicode('').tag(sync=True, o=True)\n",
    "\n",
    "time_wms = TimeWMSLayer(\n",
    "    url='https://mesonet.agron.iastate.edu/cgi-bin/wms/nexrad/n0r-t.cgi?',\n",
    "    layers='nexrad-n0r-wmst',\n",
    "    time='2005-08-29T13:00:00Z',\n",
    "    format='image/png',\n",
    "    transparent=True,\n",
    "    attribution='Weather data © 2012 IEM Nexrad'\n",
    ")\n",
    "\n",
    "m = Map(basemap=basemaps.CartoDB.Positron, center=(30.661, -88.645), zoom=5)\n",
    "\n",
    "m.add_layer(time_wms)\n",
    "\n",
    "m"
   ]
  },
  {
   "cell_type": "markdown",
   "metadata": {},
   "source": [
    "Da es sich um ein Widget handelt, könnt ihr den WMS-Parameter `time_wms.time` auch einfachändern:"
   ]
  },
  {
   "cell_type": "code",
   "execution_count": 10,
   "metadata": {},
   "outputs": [],
   "source": [
    "time_wms.time = '2005-08-29T19:00'"
   ]
  },
  {
   "cell_type": "markdown",
   "metadata": {},
   "source": [
    "Oder ihr könnt einen Slider mit passenden Zeitintervallen definieren:"
   ]
  },
  {
   "cell_type": "code",
   "execution_count": 11,
   "metadata": {},
   "outputs": [
    {
     "data": {
      "application/vnd.jupyter.widget-view+json": {
       "model_id": "932db1fcdaf6462fab20388e3253ce94",
       "version_major": 2,
       "version_minor": 0
      },
      "text/plain": [
       "SelectionSlider(description='Time:', options=('13:00', '13:30', '14:00', '14:30', '15:00', '15:30', '16:00', '…"
      ]
     },
     "metadata": {},
     "output_type": "display_data"
    }
   ],
   "source": [
    "from ipywidgets import SelectionSlider\n",
    "\n",
    "time_options = [\n",
    "    '13:00', '13:30',\n",
    "    '14:00', '14:30',\n",
    "    '15:00', '15:30',\n",
    "    '16:00', '16:30'\n",
    "]\n",
    "\n",
    "slider = SelectionSlider(description='Time:', options=time_options)\n",
    "\n",
    "def update_wms(change):\n",
    "    time_wms.time = '2005-08-29T{}'.format(slider.value)\n",
    "\n",
    "slider.observe(update_wms, 'value')\n",
    "\n",
    "slider"
   ]
  },
  {
   "cell_type": "markdown",
   "metadata": {},
   "source": [
    "### WMS-Layer-Attribute\n",
    "\n",
    "| Attribute | Standardwert | Kommentar |\n",
    "| :-------- | :----------- | :-------- |\n",
    "| `url` | `\"https://{s}.tile.openstreetmap.org/{z}/{x}/{y}.png\"` |  |\n",
    "| `min_zoom` | `0` |  |\n",
    "| `max_zoom` | `18` |  |\n",
    "| `tile_size` | `256` |  |\n",
    "| `attribution` | `\"Map data (c) <a href='https://openstreetmap.org'>OpenStreetMap</a> contributors\"` |  |\n",
    "| `detect_retina` | `False` |  |\n",
    "| `opacity` | `1.0` |  |\n",
    "| `visible` | `True` |  |\n",
    "| `service` | `\"WMS\"` |  |\n",
    "| `request` | `\"GetMap\"` |  |\n",
    "| `layers` | `\"\"` | Kommagetrennte Liste der anzuzeigenden WMS-Ebenen |\n",
    "| `styles` | `\"\"` | Kommagetrennte Liste der WMS-Stile |\n",
    "| `format` | `\"image/jpeg\"` | Für Ebenen mit Transparenz solltet ihr `\"image/png\"` verwenden |\n",
    "| `transparent` | `False` |  |\n",
    "| `version` | `\"1.1.1\"` | Version des zu verwendenden WMS-Dienstes |\n",
    "| `crs` | `\"\"` |  |\n"
   ]
  },
  {
   "cell_type": "markdown",
   "metadata": {},
   "source": [
    "## Siehe auch\n",
    "\n",
    "* [ipyleaflet: Interactive maps in the Jupyter notebook](https://ipyleaflet.readthedocs.io/en/latest/)"
   ]
  }
 ],
 "metadata": {
  "kernelspec": {
   "display_name": "Python 3.7.4",
   "language": "python",
   "name": "python-374"
  },
  "language_info": {
   "codemirror_mode": {
    "name": "ipython",
    "version": 3
   },
   "file_extension": ".py",
   "mimetype": "text/x-python",
   "name": "python",
   "nbconvert_exporter": "python",
   "pygments_lexer": "ipython3",
   "version": "3.7.4"
  },
  "latex_envs": {
   "LaTeX_envs_menu_present": true,
   "autoclose": false,
   "autocomplete": true,
   "bibliofile": "biblio.bib",
   "cite_by": "apalike",
   "current_citInitial": 1,
   "eqLabelWithNumbers": true,
   "eqNumInitial": 1,
   "hotkeys": {
    "equation": "Ctrl-E",
    "itemize": "Ctrl-I"
   },
   "labels_anchors": false,
   "latex_user_defs": false,
   "report_style_numbering": false,
   "user_envs_cfg": false
  },
  "varInspector": {
   "cols": {
    "lenName": 16,
    "lenType": 16,
    "lenVar": 40
   },
   "kernels_config": {
    "python": {
     "delete_cmd_postfix": "",
     "delete_cmd_prefix": "del ",
     "library": "var_list.py",
     "varRefreshCmd": "print(var_dic_list())"
    },
    "r": {
     "delete_cmd_postfix": ") ",
     "delete_cmd_prefix": "rm(",
     "library": "var_list.r",
     "varRefreshCmd": "cat(var_dic_list()) "
    }
   },
   "types_to_exclude": [
    "module",
    "function",
    "builtin_function_or_method",
    "instance",
    "_Feature"
   ],
   "window_display": false
  },
  "widgets": {
   "application/vnd.jupyter.widget-state+json": {
    "state": {
     "0035a0472f10488d8aead5695546a77f": {
      "model_module": "@jupyter-widgets/base",
      "model_module_version": "1.2.0",
      "model_name": "LayoutModel",
      "state": {}
     },
     "00561c67afd04f089a3331c9dae60365": {
      "model_module": "@jupyter-widgets/controls",
      "model_module_version": "1.5.0",
      "model_name": "SelectionSliderModel",
      "state": {
       "_options_labels": [
        "13:00",
        "13:30",
        "14:00",
        "14:30",
        "15:00",
        "15:30",
        "16:00",
        "16:30"
       ],
       "description": "Time:",
       "index": 0,
       "layout": "IPY_MODEL_564fbdf5cda548b8ba9b6994e26b8ff3",
       "style": "IPY_MODEL_b1ab3a590ce545d9af67835fc435373e"
      }
     },
     "0066dc6f6a834fb1aafba711f5c95cc7": {
      "model_module": "@jupyter-widgets/base",
      "model_module_version": "1.2.0",
      "model_name": "LayoutModel",
      "state": {}
     },
     "00cc568fefdf4a8b8a253e090f1fabe1": {
      "model_module": "@jupyter-widgets/base",
      "model_module_version": "1.2.0",
      "model_name": "LayoutModel",
      "state": {}
     },
     "01091223f140422d86a27b4c2e27affb": {
      "model_module": "jupyter-leaflet",
      "model_module_version": "^0.12.1",
      "model_name": "LeafletMapStyleModel",
      "state": {
       "_model_module_version": "^0.12.1",
       "_view_count": null,
       "_view_module": "@jupyter-widgets/base",
       "_view_module_version": "1.2.0",
       "_view_name": "StyleView",
       "cursor": "move"
      }
     },
     "01b3a817657740c7ba5feaf08dc034d6": {
      "model_module": "@jupyter-widgets/controls",
      "model_module_version": "1.5.0",
      "model_name": "SelectionSliderModel",
      "state": {
       "_options_labels": [
        "13:00",
        "13:30",
        "14:00",
        "14:30",
        "15:00",
        "15:30",
        "16:00",
        "16:30"
       ],
       "description": "Time:",
       "index": 0,
       "layout": "IPY_MODEL_4de792ac64a54215883e27166ac292ce",
       "style": "IPY_MODEL_a36e0a7925ea477c95fd4e2560083baf"
      }
     },
     "021ea006d09a483e9bcf95a7483d4f91": {
      "model_module": "jupyter-leaflet",
      "model_module_version": "^0.11.6",
      "model_name": "LeafletTileLayerModel",
      "state": {
       "_model_module_version": "^0.11.6",
       "_view_count": null,
       "_view_module_version": "^0.11.6",
       "attribution": "Map tiles by <a href=\"https://labs.strava.com/heatmap\">Strava 2017</a>",
       "max_native_zoom": 18,
       "max_zoom": 15,
       "min_native_zoom": 0,
       "min_zoom": 1,
       "name": "Strava.Water",
       "no_wrap": false,
       "options": [
        "attribution",
        "detect_retina",
        "max_native_zoom",
        "max_zoom",
        "min_native_zoom",
        "min_zoom",
        "no_wrap",
        "tile_size",
        "tms"
       ],
       "url": "https://heatmap-external-a.strava.com//tiles/water/blue/{z}/{x}/{y}.png?v=19"
      }
     },
     "023210129e2043939a1bd48ba82e6447": {
      "model_module": "jupyter-leaflet",
      "model_module_version": "^0.12.1",
      "model_name": "LeafletTileLayerModel",
      "state": {
       "_model_module_version": "^0.12.1",
       "_view_count": null,
       "_view_module_version": "^0.12.1",
       "attribution": "Map tiles by <a href=\"https://labs.strava.com/heatmap\">Strava 2017</a>",
       "loading": false,
       "max_native_zoom": 18,
       "max_zoom": 15,
       "min_native_zoom": 0,
       "min_zoom": 1,
       "name": "Strava.All",
       "no_wrap": false,
       "options": [
        "attribution",
        "detect_retina",
        "max_native_zoom",
        "max_zoom",
        "min_native_zoom",
        "min_zoom",
        "no_wrap",
        "tile_size",
        "tms"
       ],
       "url": "https://heatmap-external-a.strava.com//tiles/all/hot/{z}/{x}/{y}.png?v=19"
      }
     },
     "02bad0f064b146cea71fef9554dfc13b": {
      "model_module": "jupyter-leaflet",
      "model_module_version": "~0.9.2",
      "model_name": "LeafletTileLayerModel",
      "state": {
       "_model_module_version": "~0.9.2",
       "_view_count": null,
       "_view_module_version": "~0.9.2",
       "attribution": "Tiles courtesy of <a href=\"http://openstreetmap.se/\" target=\"_blank\">OpenStreetMap Sweden</a> &mdash; Map data &copy; <a href=\"http://www.openstreetmap.org/copyright\">OpenStreetMap</a>",
       "base": true,
       "min_zoom": 1,
       "name": "Hydda.Full",
       "options": [
        "attribution",
        "detect_retina",
        "max_zoom",
        "min_zoom",
        "tile_size"
       ],
       "url": "http://{s}.tile.openstreetmap.se/hydda/full/{z}/{x}/{y}.png"
      }
     },
     "033b42c566b449bc9798982d211c0929": {
      "model_module": "jupyter-leaflet",
      "model_module_version": "~0.9.2",
      "model_name": "LeafletTileLayerModel",
      "state": {
       "_model_module_version": "~0.9.2",
       "_view_count": null,
       "_view_module_version": "~0.9.2",
       "attribution": "Tiles courtesy of <a href=\"http://openstreetmap.se/\" target=\"_blank\">OpenStreetMap Sweden</a> &mdash; Map data &copy; <a href=\"http://www.openstreetmap.org/copyright\">OpenStreetMap</a>",
       "base": true,
       "min_zoom": 1,
       "name": "Hydda.Full",
       "options": [
        "attribution",
        "detect_retina",
        "max_zoom",
        "min_zoom",
        "tile_size"
       ],
       "url": "http://{s}.tile.openstreetmap.se/hydda/full/{z}/{x}/{y}.png"
      }
     },
     "03b53130e0e84026ac5a160f7f52acf7": {
      "model_module": "@jupyter-widgets/base",
      "model_module_version": "1.2.0",
      "model_name": "LayoutModel",
      "state": {}
     },
     "04e47dd81fe54a8a8fa2010acfa0ee30": {
      "model_module": "jupyter-leaflet",
      "model_module_version": "^0.12.1",
      "model_name": "LeafletMapStyleModel",
      "state": {
       "_model_module_version": "^0.12.1",
       "_view_count": null,
       "_view_module": "@jupyter-widgets/base",
       "_view_module_version": "1.2.0",
       "_view_name": "StyleView",
       "cursor": "grab"
      }
     },
     "0528c8f3a73a424a83aa84ae61821e35": {
      "model_module": "@jupyter-widgets/base",
      "model_module_version": "1.2.0",
      "model_name": "LayoutModel",
      "state": {}
     },
     "05a2364882a14114aab2f400783ec299": {
      "model_module": "jupyter-leaflet",
      "model_module_version": "^0.12.1",
      "model_name": "LeafletMapStyleModel",
      "state": {
       "_model_module_version": "^0.12.1",
       "_view_count": null,
       "_view_module": "@jupyter-widgets/base",
       "_view_module_version": "1.2.0",
       "_view_name": "StyleView",
       "cursor": "move"
      }
     },
     "0602858f31d0429cac7bdb06a9b1aeef": {
      "model_module": "jupyter-leaflet",
      "model_module_version": "^0.12.1",
      "model_name": "LeafletMapStyleModel",
      "state": {
       "_model_module_version": "^0.12.1",
       "_view_count": null,
       "_view_module": "@jupyter-widgets/base",
       "_view_module_version": "1.2.0",
       "_view_name": "StyleView",
       "cursor": "move"
      }
     },
     "06d0b8caf72c41d6b79f2b1fe549e336": {
      "model_module": "jupyter-leaflet",
      "model_module_version": "^0.12.1",
      "model_name": "LeafletMapStyleModel",
      "state": {
       "_model_module_version": "^0.12.1",
       "_view_count": null,
       "_view_module": "@jupyter-widgets/base",
       "_view_module_version": "1.2.0",
       "_view_name": "StyleView",
       "cursor": "move"
      }
     },
     "06d0e549dbd54b42bccb2e4c8034f8e3": {
      "model_module": "@jupyter-widgets/base",
      "model_module_version": "1.2.0",
      "model_name": "LayoutModel",
      "state": {}
     },
     "07e360a4f6704dc9a9aa5586cdb3ea6c": {
      "model_module": "jupyter-leaflet",
      "model_module_version": "^0.12.1",
      "model_name": "LeafletWMSLayerModel",
      "state": {
       "_model_module_version": "^0.12.1",
       "_view_count": null,
       "_view_module_version": "^0.12.1",
       "attribution": "Weather data © 2012 IEM Nexrad",
       "crs": "EPSG3857",
       "format": "image/png",
       "layers": "nexrad-n0r-wmst",
       "loading": false,
       "max_native_zoom": 18,
       "min_native_zoom": 0,
       "no_wrap": false,
       "options": [
        "attribution",
        "detect_retina",
        "format",
        "layers",
        "max_native_zoom",
        "max_zoom",
        "min_native_zoom",
        "min_zoom",
        "no_wrap",
        "styles",
        "tile_size",
        "time",
        "tms",
        "transparent",
        "uppercase"
       ],
       "time": "2005-08-29T14:00",
       "transparent": true,
       "url": "https://mesonet.agron.iastate.edu/cgi-bin/wms/nexrad/n0r-t.cgi?"
      }
     },
     "08f6b83ea4064992b203b7b3bac22de6": {
      "model_module": "jupyter-leaflet",
      "model_module_version": "~0.9.2",
      "model_name": "LeafletMapModel",
      "state": {
       "_dom_classes": [],
       "_model_module_version": "~0.9.2",
       "_view_count": null,
       "_view_module_version": "~0.9.2",
       "basemap": {
        "attribution": "Map data (c) <a href=\"https://openstreetmap.org\">OpenStreetMap</a> contributors",
        "max_zoom": 19,
        "url": "https://{s}.tile.openstreetmap.org/{z}/{x}/{y}.png"
       },
       "center": [
        47.6,
        7.44
       ],
       "east": 7.774200439453126,
       "interpolation": "bilinear",
       "layers": [
        "IPY_MODEL_2fb39cf3a83e4ce2b7bf8cc7444e759e"
       ],
       "layout": "IPY_MODEL_9a623d82ed5845ef9b7a2b1044ca23ac",
       "modisdate": "yesterday",
       "north": 47.78455738546879,
       "options": [
        "attribution_control",
        "basemap",
        "bounce_at_zoom_limits",
        "box_zoom",
        "center",
        "close_popup_on_click",
        "double_click_zoom",
        "dragging",
        "inertia",
        "inertia_deceleration",
        "inertia_max_speed",
        "interpolation",
        "keyboard",
        "keyboard_pan_offset",
        "keyboard_zoom_offset",
        "max_zoom",
        "min_zoom",
        "scroll_wheel_zoom",
        "tap",
        "tap_tolerance",
        "touch_zoom",
        "world_copy_jump",
        "zoom",
        "zoom_animation_threshold",
        "zoom_control",
        "zoom_start"
       ],
       "south": 47.414149636384714,
       "west": 7.105407714843751,
       "zoom": 10
      }
     },
     "097d33fd10394a13a45ecff73e88bfcc": {
      "model_module": "jupyter-leaflet",
      "model_module_version": "~0.9.2",
      "model_name": "LeafletTileLayerModel",
      "state": {
       "_model_module_version": "~0.9.2",
       "_view_count": null,
       "_view_module_version": "~0.9.2",
       "base": true,
       "max_zoom": 19,
       "min_zoom": 1,
       "options": [
        "attribution",
        "detect_retina",
        "max_zoom",
        "min_zoom",
        "tile_size"
       ]
      }
     },
     "0a7af6451de0499db4eeb1168fe13b7a": {
      "model_module": "jupyter-leaflet",
      "model_module_version": "^0.12.1",
      "model_name": "LeafletMapStyleModel",
      "state": {
       "_model_module_version": "^0.12.1",
       "_view_count": null,
       "_view_module": "@jupyter-widgets/base",
       "_view_module_version": "1.2.0",
       "_view_name": "StyleView",
       "cursor": "grab"
      }
     },
     "0a80c5fbf6324dc3940106bee099907f": {
      "model_module": "@jupyter-widgets/controls",
      "model_module_version": "1.5.0",
      "model_name": "DescriptionStyleModel",
      "state": {
       "description_width": ""
      }
     },
     "0ac3b233a77a4d25a0158332cef4d6c9": {
      "model_module": "@jupyter-widgets/base",
      "model_module_version": "1.2.0",
      "model_name": "LayoutModel",
      "state": {}
     },
     "0b172492dd9743979a3e1e276cf4e570": {
      "model_module": "jupyter-leaflet",
      "model_module_version": "^0.12.1",
      "model_name": "LeafletMapStyleModel",
      "state": {
       "_model_module_version": "^0.12.1",
       "_view_count": null,
       "_view_module": "@jupyter-widgets/base",
       "_view_module_version": "1.2.0",
       "_view_name": "StyleView",
       "cursor": "grab"
      }
     },
     "0bb47637c3c0492baf8e30b74025cdcd": {
      "model_module": "jupyter-leaflet",
      "model_module_version": "^0.12.1",
      "model_name": "LeafletAttributionControlModel",
      "state": {
       "_model_module_version": "^0.12.1",
       "_view_count": null,
       "_view_module_version": "^0.12.1",
       "options": [
        "position",
        "prefix"
       ],
       "position": "bottomright",
       "prefix": "Leaflet"
      }
     },
     "0c11214072764edba8f9975c92ea5cbd": {
      "model_module": "@jupyter-widgets/base",
      "model_module_version": "1.2.0",
      "model_name": "LayoutModel",
      "state": {}
     },
     "0d634455a61244ca8afe7b4c05078bf3": {
      "model_module": "jupyter-leaflet",
      "model_module_version": "~0.9.2",
      "model_name": "LeafletTileLayerModel",
      "state": {
       "_model_module_version": "~0.9.2",
       "_view_count": null,
       "_view_module_version": "~0.9.2",
       "attribution": "Tiles courtesy of <a href=\"http://openstreetmap.se/\" target=\"_blank\">OpenStreetMap Sweden</a> &mdash; Map data &copy; <a href=\"http://www.openstreetmap.org/copyright\">OpenStreetMap</a>",
       "base": true,
       "min_zoom": 1,
       "name": "Hydda.Full",
       "options": [
        "attribution",
        "detect_retina",
        "max_zoom",
        "min_zoom",
        "tile_size"
       ],
       "url": "http://{s}.tile.openstreetmap.se/hydda/full/{z}/{x}/{y}.png"
      }
     },
     "0dc873adc46e484b822d6e3287443c2d": {
      "model_module": "jupyter-leaflet",
      "model_module_version": "^0.12.1",
      "model_name": "LeafletAttributionControlModel",
      "state": {
       "_model_module_version": "^0.12.1",
       "_view_count": null,
       "_view_module_version": "^0.12.1",
       "options": [
        "position",
        "prefix"
       ],
       "position": "bottomright",
       "prefix": "Leaflet"
      }
     },
     "0e08e5dc4b134612832133a0eb9a60b3": {
      "model_module": "@jupyter-widgets/base",
      "model_module_version": "1.2.0",
      "model_name": "LayoutModel",
      "state": {}
     },
     "0e215454cb614a8db3657ec1f175931d": {
      "model_module": "jupyter-leaflet",
      "model_module_version": "^0.12.1",
      "model_name": "LeafletWMSLayerModel",
      "state": {
       "_model_module_version": "^0.12.1",
       "_view_count": null,
       "_view_module_version": "^0.12.1",
       "attribution": "Weather data © 2012 IEM Nexrad",
       "crs": "EPSG3857",
       "format": "image/png",
       "layers": "nexrad-n0r-wmst",
       "loading": false,
       "max_native_zoom": 18,
       "min_native_zoom": 0,
       "no_wrap": false,
       "options": [
        "attribution",
        "detect_retina",
        "format",
        "layers",
        "max_native_zoom",
        "max_zoom",
        "min_native_zoom",
        "min_zoom",
        "no_wrap",
        "styles",
        "tile_size",
        "time",
        "tms",
        "transparent",
        "uppercase"
       ],
       "time": "2005-08-29T19:00",
       "transparent": true,
       "url": "https://mesonet.agron.iastate.edu/cgi-bin/wms/nexrad/n0r-t.cgi?"
      }
     },
     "0e3a67ceb8d547ffac04bc121114fe8d": {
      "model_module": "jupyter-leaflet",
      "model_module_version": "^0.12.1",
      "model_name": "LeafletMapStyleModel",
      "state": {
       "_model_module_version": "^0.12.1",
       "_view_count": null,
       "_view_module": "@jupyter-widgets/base",
       "_view_module_version": "1.2.0",
       "_view_name": "StyleView",
       "cursor": "grab"
      }
     },
     "0e95604e06db46e4904ac48bdb67f562": {
      "model_module": "jupyter-leaflet",
      "model_module_version": "^0.12.1",
      "model_name": "LeafletAttributionControlModel",
      "state": {
       "_model_module_version": "^0.12.1",
       "_view_count": null,
       "_view_module_version": "^0.12.1",
       "options": [
        "position",
        "prefix"
       ],
       "position": "bottomright",
       "prefix": "Leaflet"
      }
     },
     "0f16246239484a40b5ed3ebdeeddfc75": {
      "model_module": "jupyter-leaflet",
      "model_module_version": "^0.12.1",
      "model_name": "LeafletMapModel",
      "state": {
       "_dom_classes": [],
       "_model_module_version": "^0.12.1",
       "_view_count": null,
       "_view_module_version": "^0.12.1",
       "center": [
        30.675715404167743,
        -88.63769531250001
       ],
       "controls": [
        "IPY_MODEL_bfb45636ac48465e883c241957c2c930",
        "IPY_MODEL_7c9caa3cece645d8911c39c773619ada"
       ],
       "default_style": "IPY_MODEL_9cecc09a2cf842b395ca3a4f4186b5c1",
       "dragging_style": "IPY_MODEL_bd75d1acd65446c29c722f7768ba3089",
       "east": -67.58789062500001,
       "fullscreen": false,
       "interpolation": "bilinear",
       "layers": [
        "IPY_MODEL_88327adb281b47c5977090581383baad",
        "IPY_MODEL_fb703692d04642bf9edf42645575c65b"
       ],
       "layout": "IPY_MODEL_77aa2343e13a4c40b1eabfea84b01a96",
       "modisdate": "yesterday",
       "north": 37.92686760148135,
       "options": [
        "bounce_at_zoom_limits",
        "box_zoom",
        "center",
        "close_popup_on_click",
        "double_click_zoom",
        "dragging",
        "fullscreen",
        "inertia",
        "inertia_deceleration",
        "inertia_max_speed",
        "interpolation",
        "keyboard",
        "keyboard_pan_offset",
        "keyboard_zoom_offset",
        "max_zoom",
        "min_zoom",
        "scroll_wheel_zoom",
        "tap",
        "tap_tolerance",
        "touch_zoom",
        "world_copy_jump",
        "zoom",
        "zoom_animation_threshold",
        "zoom_start"
       ],
       "south": 22.836945920943855,
       "style": "IPY_MODEL_9cecc09a2cf842b395ca3a4f4186b5c1",
       "west": -109.73144531250001,
       "zoom": 5
      }
     },
     "0f2e0c4606484abea8a66bd642a20ab6": {
      "model_module": "jupyter-leaflet",
      "model_module_version": "^0.12.1",
      "model_name": "LeafletMapStyleModel",
      "state": {
       "_model_module_version": "^0.12.1",
       "_view_count": null,
       "_view_module": "@jupyter-widgets/base",
       "_view_module_version": "1.2.0",
       "_view_name": "StyleView",
       "cursor": "grab"
      }
     },
     "0f34e08adc0149108ac3efa92d125c78": {
      "model_module": "jupyter-leaflet",
      "model_module_version": "^0.11.2",
      "model_name": "LeafletMapStyleModel",
      "state": {
       "_model_module_version": "^0.11.2",
       "_view_count": null,
       "_view_module": "@jupyter-widgets/base",
       "_view_module_version": "1.2.0",
       "_view_name": "StyleView",
       "cursor": "grab"
      }
     },
     "0fc0381e0de044aead0afa36b2ca2f07": {
      "model_module": "jupyter-leaflet",
      "model_module_version": "^0.12.1",
      "model_name": "LeafletTileLayerModel",
      "state": {
       "_model_module_version": "^0.12.1",
       "_view_count": null,
       "_view_module_version": "^0.12.1",
       "attribution": "",
       "loading": false,
       "max_native_zoom": 18,
       "max_zoom": 19,
       "min_native_zoom": 0,
       "min_zoom": 1,
       "name": "Countries",
       "no_wrap": false,
       "options": [
        "attribution",
        "detect_retina",
        "max_native_zoom",
        "max_zoom",
        "min_native_zoom",
        "min_zoom",
        "no_wrap",
        "tile_size",
        "tms"
       ],
       "url": ""
      }
     },
     "1061e6858b984224b77c34b6df068ecb": {
      "model_module": "@jupyter-widgets/controls",
      "model_module_version": "1.5.0",
      "model_name": "DescriptionStyleModel",
      "state": {
       "description_width": ""
      }
     },
     "109d014675cb4c8f967f65234d6cac83": {
      "model_module": "jupyter-leaflet",
      "model_module_version": "~0.9.2",
      "model_name": "LeafletTileLayerModel",
      "state": {
       "_model_module_version": "~0.9.2",
       "_view_count": null,
       "_view_module_version": "~0.9.2",
       "attribution": "Tiles courtesy of <a href=\"http://openstreetmap.se/\" target=\"_blank\">OpenStreetMap Sweden</a> &mdash; Map data &copy; <a href=\"http://www.openstreetmap.org/copyright\">OpenStreetMap</a>",
       "base": true,
       "min_zoom": 1,
       "name": "Hydda.Full",
       "options": [
        "attribution",
        "detect_retina",
        "max_zoom",
        "min_zoom",
        "tile_size"
       ],
       "url": "http://{s}.tile.openstreetmap.se/hydda/full/{z}/{x}/{y}.png"
      }
     },
     "110a4d68c05344129d4de28f83fef65d": {
      "model_module": "@jupyter-widgets/controls",
      "model_module_version": "1.5.0",
      "model_name": "LabelModel",
      "state": {
       "layout": "IPY_MODEL_60895ce9cb214ced84daaef76effdf05",
       "style": "IPY_MODEL_0a80c5fbf6324dc3940106bee099907f"
      }
     },
     "11281905205549378725a08601d81ba8": {
      "model_module": "jupyter-leaflet",
      "model_module_version": "^0.12.1",
      "model_name": "LeafletTileLayerModel",
      "state": {
       "_model_module_version": "^0.12.1",
       "_view_count": null,
       "_view_module_version": "^0.12.1",
       "attribution": "&copy; <a href=\"http://www.openstreetmap.org/copyright\">OpenStreetMap</a> &copy; <a href=\"http://cartodb.com/attributions\">CartoDB</a>",
       "base": true,
       "loading": false,
       "max_native_zoom": 18,
       "max_zoom": 20,
       "min_native_zoom": 0,
       "min_zoom": 1,
       "name": "CartoDB.Positron",
       "no_wrap": false,
       "options": [
        "attribution",
        "detect_retina",
        "max_native_zoom",
        "max_zoom",
        "min_native_zoom",
        "min_zoom",
        "no_wrap",
        "tile_size",
        "tms"
       ],
       "url": "http://c.basemaps.cartocdn.com/light_all/{z}/{x}/{y}.png"
      }
     },
     "114b137dace94348a2b1267c9fb1fdfc": {
      "model_module": "@jupyter-widgets/base",
      "model_module_version": "1.2.0",
      "model_name": "LayoutModel",
      "state": {}
     },
     "11799fa0378b460cab9564b4cb125493": {
      "model_module": "jupyter-leaflet",
      "model_module_version": "~0.9.2",
      "model_name": "LeafletTileLayerModel",
      "state": {
       "_model_module_version": "~0.9.2",
       "_view_count": null,
       "_view_module_version": "~0.9.2",
       "attribution": "Tiles courtesy of <a href=\"http://openstreetmap.se/\" target=\"_blank\">OpenStreetMap Sweden</a> &mdash; Map data &copy; <a href=\"http://www.openstreetmap.org/copyright\">OpenStreetMap</a>",
       "base": true,
       "min_zoom": 1,
       "name": "Hydda.Full",
       "options": [
        "attribution",
        "detect_retina",
        "max_zoom",
        "min_zoom",
        "tile_size"
       ],
       "url": "http://{s}.tile.openstreetmap.se/hydda/full/{z}/{x}/{y}.png"
      }
     },
     "11c4f5a15cf64b14a44224a7b87f4a9e": {
      "model_module": "jupyter-leaflet",
      "model_module_version": "^0.12.1",
      "model_name": "LeafletAttributionControlModel",
      "state": {
       "_model_module_version": "^0.12.1",
       "_view_count": null,
       "_view_module_version": "^0.12.1",
       "options": [
        "position",
        "prefix"
       ],
       "position": "bottomright",
       "prefix": "Leaflet"
      }
     },
     "129a30e098a7403ab5a776c603009727": {
      "model_module": "jupyter-leaflet",
      "model_module_version": "^0.11.2",
      "model_name": "LeafletTileLayerModel",
      "state": {
       "_model_module_version": "^0.11.2",
       "_view_count": null,
       "_view_module_version": "^0.11.2",
       "attribution": "Map tiles by <a href=\"https://labs.strava.com/heatmap\">Strava 2017</a>",
       "max_native_zoom": 18,
       "max_zoom": 15,
       "min_native_zoom": 0,
       "min_zoom": 1,
       "name": "Strava.Water",
       "no_wrap": false,
       "options": [
        "attribution",
        "detect_retina",
        "max_native_zoom",
        "max_zoom",
        "min_native_zoom",
        "min_zoom",
        "no_wrap",
        "tile_size"
       ],
       "url": "https://heatmap-external-a.strava.com//tiles/water/blue/{z}/{x}/{y}.png?v=19"
      }
     },
     "13258971a2024e428aa965af31d09192": {
      "model_module": "@jupyter-widgets/base",
      "model_module_version": "1.2.0",
      "model_name": "LayoutModel",
      "state": {}
     },
     "13a02efa6a0746da804f284964545d66": {
      "model_module": "jupyter-leaflet",
      "model_module_version": "^0.12.1",
      "model_name": "LeafletMapStyleModel",
      "state": {
       "_model_module_version": "^0.12.1",
       "_view_count": null,
       "_view_module": "@jupyter-widgets/base",
       "_view_module_version": "1.2.0",
       "_view_name": "StyleView",
       "cursor": "move"
      }
     },
     "151f0e814c644871b80e446e67729354": {
      "model_module": "jupyter-leaflet",
      "model_module_version": "^0.12.1",
      "model_name": "LeafletMapStyleModel",
      "state": {
       "_model_module_version": "^0.12.1",
       "_view_count": null,
       "_view_module": "@jupyter-widgets/base",
       "_view_module_version": "1.2.0",
       "_view_name": "StyleView",
       "cursor": "grab"
      }
     },
     "15523f3d75ec454d8b0b2ca8b3ae6604": {
      "model_module": "@jupyter-widgets/controls",
      "model_module_version": "1.5.0",
      "model_name": "LabelModel",
      "state": {
       "layout": "IPY_MODEL_998a9b816d1e49ef956399e528420182",
       "style": "IPY_MODEL_8867e630ee1c443aa718073682029234"
      }
     },
     "160d5f1d48f14d8980b6ef5250306759": {
      "model_module": "jupyter-leaflet",
      "model_module_version": "^0.12.1",
      "model_name": "LeafletMapStyleModel",
      "state": {
       "_model_module_version": "^0.12.1",
       "_view_count": null,
       "_view_module": "@jupyter-widgets/base",
       "_view_module_version": "1.2.0",
       "_view_name": "StyleView",
       "cursor": "grab"
      }
     },
     "16ba9fe3287b40f6a96d3c2872498737": {
      "model_module": "jupyter-leaflet",
      "model_module_version": "^0.11.2",
      "model_name": "LeafletMapStyleModel",
      "state": {
       "_model_module_version": "^0.11.2",
       "_view_count": null,
       "_view_module": "@jupyter-widgets/base",
       "_view_module_version": "1.2.0",
       "_view_name": "StyleView",
       "cursor": "grab"
      }
     },
     "16be0029c33f4e42923636d826fe798e": {
      "model_module": "@jupyter-widgets/base",
      "model_module_version": "1.2.0",
      "model_name": "LayoutModel",
      "state": {}
     },
     "16f355f1d13d47db898509fa130c4196": {
      "model_module": "jupyter-leaflet",
      "model_module_version": "^0.12.1",
      "model_name": "LeafletMapStyleModel",
      "state": {
       "_model_module_version": "^0.12.1",
       "_view_count": null,
       "_view_module": "@jupyter-widgets/base",
       "_view_module_version": "1.2.0",
       "_view_name": "StyleView",
       "cursor": "grab"
      }
     },
     "1753e983c3c1428785d1e4a2ffafcb97": {
      "model_module": "jupyter-leaflet",
      "model_module_version": "^0.12.1",
      "model_name": "LeafletMapStyleModel",
      "state": {
       "_model_module_version": "^0.12.1",
       "_view_count": null,
       "_view_module": "@jupyter-widgets/base",
       "_view_module_version": "1.2.0",
       "_view_name": "StyleView",
       "cursor": "grab"
      }
     },
     "17ac497370eb43f380b6d7544f5819e7": {
      "model_module": "jupyter-leaflet",
      "model_module_version": "^0.11.6",
      "model_name": "LeafletMapStyleModel",
      "state": {
       "_model_module_version": "^0.11.6",
       "_view_count": null,
       "_view_module": "@jupyter-widgets/base",
       "_view_module_version": "1.2.0",
       "_view_name": "StyleView",
       "cursor": "grab"
      }
     },
     "182a87c84b6f4df69208b34e2b925786": {
      "model_module": "jupyter-leaflet",
      "model_module_version": "~0.9.2",
      "model_name": "LeafletMapModel",
      "state": {
       "_dom_classes": [],
       "_model_module_version": "~0.9.2",
       "_view_count": null,
       "_view_module_version": "~0.9.2",
       "basemap": {
        "attribution": "Tiles courtesy of <a href=\"http://openstreetmap.se/\" target=\"_blank\">OpenStreetMap Sweden</a> &mdash; Map data &copy; <a href=\"http://www.openstreetmap.org/copyright\">OpenStreetMap</a>",
        "max_zoom": 18,
        "name": "Hydda.Full",
        "url": "http://{s}.tile.openstreetmap.se/hydda/full/{z}/{x}/{y}.png"
       },
       "center": [
        52,
        10
       ],
       "east": 12.689208984375002,
       "interpolation": "bilinear",
       "layers": [
        "IPY_MODEL_e481cad2a8db4e1ca64db00bfd9daf12"
       ],
       "layout": "IPY_MODEL_a51f4420134e49a5bfaa2a7a90c61ace",
       "modisdate": "yesterday",
       "north": 52.669720383688166,
       "options": [
        "attribution_control",
        "basemap",
        "bounce_at_zoom_limits",
        "box_zoom",
        "center",
        "close_popup_on_click",
        "double_click_zoom",
        "dragging",
        "inertia",
        "inertia_deceleration",
        "inertia_max_speed",
        "interpolation",
        "keyboard",
        "keyboard_pan_offset",
        "keyboard_zoom_offset",
        "max_zoom",
        "min_zoom",
        "scroll_wheel_zoom",
        "tap",
        "tap_tolerance",
        "touch_zoom",
        "world_copy_jump",
        "zoom",
        "zoom_animation_threshold",
        "zoom_control",
        "zoom_start"
       ],
       "south": 51.316880504045876,
       "west": 7.3114013671875,
       "zoom": 8
      }
     },
     "184fdc1e166744aaac61fd87ecabf42a": {
      "model_module": "jupyter-leaflet",
      "model_module_version": "^0.11.2",
      "model_name": "LeafletMapStyleModel",
      "state": {
       "_model_module_version": "^0.11.2",
       "_view_count": null,
       "_view_module": "@jupyter-widgets/base",
       "_view_module_version": "1.2.0",
       "_view_name": "StyleView",
       "cursor": "grab"
      }
     },
     "194bb7be751b4974be3a46a5799387a4": {
      "model_module": "@jupyter-widgets/controls",
      "model_module_version": "1.5.0",
      "model_name": "SelectionSliderModel",
      "state": {
       "_options_labels": [
        "13:00",
        "13:30",
        "14:00",
        "14:30",
        "15:00",
        "15:30",
        "16:00",
        "16:30"
       ],
       "description": "Time:",
       "index": 0,
       "layout": "IPY_MODEL_42fd8d9c6145400986720d1d0a18222c",
       "style": "IPY_MODEL_2ddc04ab798047639d5e3bb0aa649c18"
      }
     },
     "19ce1dc791aa4940ac26600a40d46675": {
      "model_module": "jupyter-leaflet",
      "model_module_version": "^0.12.1",
      "model_name": "LeafletMapStyleModel",
      "state": {
       "_model_module_version": "^0.12.1",
       "_view_count": null,
       "_view_module": "@jupyter-widgets/base",
       "_view_module_version": "1.2.0",
       "_view_name": "StyleView",
       "cursor": "move"
      }
     },
     "1b3613be99d84485be296f31b21f34d3": {
      "model_module": "@jupyter-widgets/controls",
      "model_module_version": "1.5.0",
      "model_name": "LabelModel",
      "state": {
       "layout": "IPY_MODEL_ed7021898dfc407baf61f0995595aa9d",
       "style": "IPY_MODEL_695983b4ca1d4ab99014c1dee1a1cabc",
       "value": "[47.923704717745686, 7.316106935643348]"
      }
     },
     "1c37356bba8a4889bb6e31747a6b7c02": {
      "model_module": "jupyter-leaflet",
      "model_module_version": "~0.9.2",
      "model_name": "LeafletMapModel",
      "state": {
       "_dom_classes": [],
       "_model_module_version": "~0.9.2",
       "_view_count": null,
       "_view_module_version": "~0.9.2",
       "basemap": {
        "attribution": "Map data (c) <a href=\"https://openstreetmap.org\">OpenStreetMap</a> contributors",
        "max_zoom": 19,
        "url": "https://{s}.tile.openstreetmap.org/{z}/{x}/{y}.png"
       },
       "center": [
        43.6,
        1.44
       ],
       "east": 1.7742919921875002,
       "interpolation": "bilinear",
       "layers": [
        "IPY_MODEL_b07604ca1a254d1f9c595438aea14c6b"
       ],
       "layout": "IPY_MODEL_b738fe77bce74b17be45040cf05627b0",
       "modisdate": "yesterday",
       "north": 43.79885402720353,
       "options": [
        "attribution_control",
        "basemap",
        "bounce_at_zoom_limits",
        "box_zoom",
        "center",
        "close_popup_on_click",
        "double_click_zoom",
        "dragging",
        "inertia",
        "inertia_deceleration",
        "inertia_max_speed",
        "interpolation",
        "keyboard",
        "keyboard_pan_offset",
        "keyboard_zoom_offset",
        "max_zoom",
        "min_zoom",
        "scroll_wheel_zoom",
        "tap",
        "tap_tolerance",
        "touch_zoom",
        "world_copy_jump",
        "zoom",
        "zoom_animation_threshold",
        "zoom_control",
        "zoom_start"
       ],
       "south": 43.401056495052906,
       "west": 1.1054992675781252,
       "zoom": 10
      }
     },
     "1c4fbcdefb7944fcb4f9bcb9e90631bc": {
      "model_module": "@jupyter-widgets/base",
      "model_module_version": "1.2.0",
      "model_name": "LayoutModel",
      "state": {}
     },
     "1c60f61343234fe4a6b280a7c9d2e925": {
      "model_module": "jupyter-leaflet",
      "model_module_version": "^0.12.1",
      "model_name": "LeafletTileLayerModel",
      "state": {
       "_model_module_version": "^0.12.1",
       "_view_count": null,
       "_view_module_version": "^0.12.1",
       "base": true,
       "loading": false,
       "max_native_zoom": 18,
       "max_zoom": 19,
       "min_native_zoom": 0,
       "min_zoom": 1,
       "no_wrap": false,
       "options": [
        "attribution",
        "detect_retina",
        "max_native_zoom",
        "max_zoom",
        "min_native_zoom",
        "min_zoom",
        "no_wrap",
        "tile_size",
        "tms"
       ]
      }
     },
     "1c6a3ae0e6534b73af01fda72066a5f4": {
      "model_module": "jupyter-leaflet",
      "model_module_version": "^0.12.1",
      "model_name": "LeafletMapStyleModel",
      "state": {
       "_model_module_version": "^0.12.1",
       "_view_count": null,
       "_view_module": "@jupyter-widgets/base",
       "_view_module_version": "1.2.0",
       "_view_name": "StyleView",
       "cursor": "grab"
      }
     },
     "1d36d16a943e4e2c8b9f44e99066ecb8": {
      "model_module": "jupyter-leaflet",
      "model_module_version": "^0.12.1",
      "model_name": "LeafletLayersControlModel",
      "state": {
       "_model_module_version": "^0.12.1",
       "_view_count": null,
       "_view_module_version": "^0.12.1",
       "options": [
        "position"
       ]
      }
     },
     "1d41ee65b30f4d4db7a473e757de33a4": {
      "model_module": "@jupyter-widgets/base",
      "model_module_version": "1.2.0",
      "model_name": "LayoutModel",
      "state": {}
     },
     "1d5a4754eb6549aaa8b1af0a2be73aff": {
      "model_module": "@jupyter-widgets/base",
      "model_module_version": "1.2.0",
      "model_name": "LayoutModel",
      "state": {}
     },
     "1d5edb80c76442f2ba00857adb528dc4": {
      "model_module": "@jupyter-widgets/base",
      "model_module_version": "1.2.0",
      "model_name": "LayoutModel",
      "state": {}
     },
     "1e3f9b2429624d14a01e81ca2e6cf4b7": {
      "model_module": "jupyter-leaflet",
      "model_module_version": "~0.9.2",
      "model_name": "LeafletMapModel",
      "state": {
       "_dom_classes": [],
       "_model_module_version": "~0.9.2",
       "_view_count": null,
       "_view_module_version": "~0.9.2",
       "basemap": {
        "attribution": "Map data (c) <a href=\"https://openstreetmap.org\">OpenStreetMap</a> contributors",
        "max_zoom": 19,
        "url": "https://{s}.tile.openstreetmap.org/{z}/{x}/{y}.png"
       },
       "center": [
        48.6,
        8.44
       ],
       "east": 8.773956298828127,
       "interpolation": "bilinear",
       "layers": [
        "IPY_MODEL_6d42b9d2e9944cdaae8d6cbb9fc0425b"
       ],
       "layout": "IPY_MODEL_0ac3b233a77a4d25a0158332cef4d6c9",
       "modisdate": "yesterday",
       "north": 48.78153250728974,
       "options": [
        "attribution_control",
        "basemap",
        "bounce_at_zoom_limits",
        "box_zoom",
        "center",
        "close_popup_on_click",
        "double_click_zoom",
        "dragging",
        "inertia",
        "inertia_deceleration",
        "inertia_max_speed",
        "interpolation",
        "keyboard",
        "keyboard_pan_offset",
        "keyboard_zoom_offset",
        "max_zoom",
        "min_zoom",
        "scroll_wheel_zoom",
        "tap",
        "tap_tolerance",
        "touch_zoom",
        "world_copy_jump",
        "zoom",
        "zoom_animation_threshold",
        "zoom_control",
        "zoom_start"
       ],
       "south": 48.41826449418746,
       "west": 8.105163574218752,
       "zoom": 10
      }
     },
     "1e58908dc3264845be9fef2590bd8fbf": {
      "model_module": "@jupyter-widgets/base",
      "model_module_version": "1.2.0",
      "model_name": "LayoutModel",
      "state": {}
     },
     "1e779c60bf7e4c479c6210ca69cc6cde": {
      "model_module": "@jupyter-widgets/base",
      "model_module_version": "1.2.0",
      "model_name": "LayoutModel",
      "state": {}
     },
     "1e9d62104e89452db285db6ab2b87adc": {
      "model_module": "jupyter-leaflet",
      "model_module_version": "^0.12.1",
      "model_name": "LeafletMapStyleModel",
      "state": {
       "_model_module_version": "^0.12.1",
       "_view_count": null,
       "_view_module": "@jupyter-widgets/base",
       "_view_module_version": "1.2.0",
       "_view_name": "StyleView",
       "cursor": "move"
      }
     },
     "1ea9cf6e734643c8be314224adc05fdf": {
      "model_module": "jupyter-leaflet",
      "model_module_version": "^0.12.1",
      "model_name": "LeafletMapStyleModel",
      "state": {
       "_model_module_version": "^0.12.1",
       "_view_count": null,
       "_view_module": "@jupyter-widgets/base",
       "_view_module_version": "1.2.0",
       "_view_name": "StyleView",
       "cursor": "move"
      }
     },
     "1ee7b5934ce74031ac29a1b1701f1c6e": {
      "model_module": "jupyter-leaflet",
      "model_module_version": "^0.12.1",
      "model_name": "LeafletAttributionControlModel",
      "state": {
       "_model_module_version": "^0.12.1",
       "_view_count": null,
       "_view_module_version": "^0.12.1",
       "options": [
        "position",
        "prefix"
       ],
       "position": "bottomright",
       "prefix": "Leaflet"
      }
     },
     "1eed77d699964e0e96cf9e605781dccf": {
      "model_module": "jupyter-leaflet",
      "model_module_version": "~0.9.2",
      "model_name": "LeafletTileLayerModel",
      "state": {
       "_model_module_version": "~0.9.2",
       "_view_count": null,
       "_view_module_version": "~0.9.2",
       "attribution": "Tiles courtesy of <a href=\"http://openstreetmap.se/\" target=\"_blank\">OpenStreetMap Sweden</a> &mdash; Map data &copy; <a href=\"http://www.openstreetmap.org/copyright\">OpenStreetMap</a>",
       "base": true,
       "min_zoom": 1,
       "name": "Hydda.Full",
       "options": [
        "attribution",
        "detect_retina",
        "max_zoom",
        "min_zoom",
        "tile_size"
       ],
       "url": "http://{s}.tile.openstreetmap.se/hydda/full/{z}/{x}/{y}.png"
      }
     },
     "1ef1abf128004ad4a8c60eb3f5415025": {
      "model_module": "jupyter-leaflet",
      "model_module_version": "^0.12.1",
      "model_name": "LeafletZoomControlModel",
      "state": {
       "_model_module_version": "^0.12.1",
       "_view_count": null,
       "_view_module_version": "^0.12.1",
       "options": [
        "position",
        "zoom_in_text",
        "zoom_in_title",
        "zoom_out_text",
        "zoom_out_title"
       ]
      }
     },
     "1f358c486af641d49f729534e05ca4a6": {
      "model_module": "@jupyter-widgets/base",
      "model_module_version": "1.2.0",
      "model_name": "LayoutModel",
      "state": {}
     },
     "1f73511aca5f48faaba84e7363ba5f72": {
      "model_module": "jupyter-leaflet",
      "model_module_version": "^0.12.1",
      "model_name": "LeafletMapStyleModel",
      "state": {
       "_model_module_version": "^0.12.1",
       "_view_count": null,
       "_view_module": "@jupyter-widgets/base",
       "_view_module_version": "1.2.0",
       "_view_name": "StyleView",
       "cursor": "grab"
      }
     },
     "20059dbc650d4f10ac00b3cf84426e68": {
      "model_module": "jupyter-leaflet",
      "model_module_version": "^0.12.1",
      "model_name": "LeafletTileLayerModel",
      "state": {
       "_model_module_version": "^0.12.1",
       "_view_count": null,
       "_view_module_version": "^0.12.1",
       "attribution": "",
       "loading": false,
       "max_native_zoom": 18,
       "max_zoom": 19,
       "min_native_zoom": 0,
       "min_zoom": 1,
       "name": "Countries",
       "no_wrap": false,
       "options": [
        "attribution",
        "detect_retina",
        "max_native_zoom",
        "max_zoom",
        "min_native_zoom",
        "min_zoom",
        "no_wrap",
        "tile_size",
        "tms"
       ],
       "url": ""
      }
     },
     "2093c1345e8b441f823f2578f924e393": {
      "model_module": "jupyter-leaflet",
      "model_module_version": "^0.11.2",
      "model_name": "LeafletMapStyleModel",
      "state": {
       "_model_module_version": "^0.11.2",
       "_view_count": null,
       "_view_module": "@jupyter-widgets/base",
       "_view_module_version": "1.2.0",
       "_view_name": "StyleView",
       "cursor": "move"
      }
     },
     "20b0e6d981264b53ae5392d991da2fde": {
      "model_module": "jupyter-leaflet",
      "model_module_version": "^0.12.1",
      "model_name": "LeafletLayersControlModel",
      "state": {
       "_model_module_version": "^0.12.1",
       "_view_count": null,
       "_view_module_version": "^0.12.1",
       "options": [
        "position"
       ]
      }
     },
     "20da4c7914874d7f809d21665687443d": {
      "model_module": "jupyter-leaflet",
      "model_module_version": "^0.12.1",
      "model_name": "LeafletAttributionControlModel",
      "state": {
       "_model_module_version": "^0.12.1",
       "_view_count": null,
       "_view_module_version": "^0.12.1",
       "options": [
        "position",
        "prefix"
       ],
       "position": "bottomright",
       "prefix": "Leaflet"
      }
     },
     "2119c3b3c14e4b308d25478587947b80": {
      "model_module": "jupyter-leaflet",
      "model_module_version": "^0.12.1",
      "model_name": "LeafletTileLayerModel",
      "state": {
       "_model_module_version": "^0.12.1",
       "_view_count": null,
       "_view_module_version": "^0.12.1",
       "attribution": "&copy; <a href=\"http://www.openstreetmap.org/copyright\">OpenStreetMap</a> &copy; <a href=\"http://cartodb.com/attributions\">CartoDB</a>",
       "base": true,
       "loading": false,
       "max_native_zoom": 18,
       "max_zoom": 20,
       "min_native_zoom": 0,
       "min_zoom": 1,
       "name": "CartoDB.Positron",
       "no_wrap": false,
       "options": [
        "attribution",
        "detect_retina",
        "max_native_zoom",
        "max_zoom",
        "min_native_zoom",
        "min_zoom",
        "no_wrap",
        "tile_size",
        "tms"
       ],
       "url": "http://c.basemaps.cartocdn.com/light_all/{z}/{x}/{y}.png"
      }
     },
     "213362cc75f1415ba995dc18121caeb0": {
      "model_module": "jupyter-leaflet",
      "model_module_version": "^0.12.1",
      "model_name": "LeafletAttributionControlModel",
      "state": {
       "_model_module_version": "^0.12.1",
       "_view_count": null,
       "_view_module_version": "^0.12.1",
       "options": [
        "position",
        "prefix"
       ],
       "position": "bottomright",
       "prefix": "Leaflet"
      }
     },
     "21e85d2ced9349e6adec78ccd93f261f": {
      "model_module": "jupyter-leaflet",
      "model_module_version": "^0.12.1",
      "model_name": "LeafletZoomControlModel",
      "state": {
       "_model_module_version": "^0.12.1",
       "_view_count": null,
       "_view_module_version": "^0.12.1",
       "options": [
        "position",
        "zoom_in_text",
        "zoom_in_title",
        "zoom_out_text",
        "zoom_out_title"
       ]
      }
     },
     "224aaab308e746bdb61c430bdb1947d3": {
      "model_module": "@jupyter-widgets/controls",
      "model_module_version": "1.5.0",
      "model_name": "HBoxModel",
      "state": {
       "children": [
        "IPY_MODEL_2a0f6d89c0844b93a69ef9742d7acb6b",
        "IPY_MODEL_7c60d7251c784ef28dabf038b4a583c2"
       ],
       "layout": "IPY_MODEL_d2726321e75b49b8910f088581df0653"
      }
     },
     "23263f6ec2aa4bcdbbd2ad746566caeb": {
      "model_module": "jupyter-leaflet",
      "model_module_version": "~0.9.2",
      "model_name": "LeafletMapModel",
      "state": {
       "_dom_classes": [],
       "_model_module_version": "~0.9.2",
       "_view_count": null,
       "_view_module_version": "~0.9.2",
       "basemap": {
        "attribution": "Map data (c) <a href=\"https://openstreetmap.org\">OpenStreetMap</a> contributors",
        "max_zoom": 19,
        "url": "https://{s}.tile.openstreetmap.org/{z}/{x}/{y}.png"
       },
       "center": [
        48.1,
        7.9
       ],
       "east": 8.234252929687502,
       "interpolation": "bilinear",
       "layers": [
        "IPY_MODEL_4aafc4a9dd9d469ba9de94b718407ad9"
       ],
       "layout": "IPY_MODEL_c42c2c4a603443d7a9a02958cd5f6820",
       "modisdate": "yesterday",
       "north": 48.28319289548349,
       "options": [
        "attribution_control",
        "basemap",
        "bounce_at_zoom_limits",
        "box_zoom",
        "center",
        "close_popup_on_click",
        "double_click_zoom",
        "dragging",
        "inertia",
        "inertia_deceleration",
        "inertia_max_speed",
        "interpolation",
        "keyboard",
        "keyboard_pan_offset",
        "keyboard_zoom_offset",
        "max_zoom",
        "min_zoom",
        "scroll_wheel_zoom",
        "tap",
        "tap_tolerance",
        "touch_zoom",
        "world_copy_jump",
        "zoom",
        "zoom_animation_threshold",
        "zoom_control",
        "zoom_start"
       ],
       "south": 47.91634204016118,
       "west": 7.565460205078126,
       "zoom": 10
      }
     },
     "2417b1c34a0742a581514da898b9ff5b": {
      "model_module": "jupyter-leaflet",
      "model_module_version": "^0.12.1",
      "model_name": "LeafletTileLayerModel",
      "state": {
       "_model_module_version": "^0.12.1",
       "_view_count": null,
       "_view_module_version": "^0.12.1",
       "attribution": "&copy; <a href=\"http://www.openstreetmap.org/copyright\">OpenStreetMap</a> &copy; <a href=\"http://cartodb.com/attributions\">CartoDB</a>",
       "base": true,
       "loading": false,
       "max_native_zoom": 18,
       "max_zoom": 20,
       "min_native_zoom": 0,
       "min_zoom": 1,
       "name": "CartoDB.Positron",
       "no_wrap": false,
       "options": [
        "attribution",
        "detect_retina",
        "max_native_zoom",
        "max_zoom",
        "min_native_zoom",
        "min_zoom",
        "no_wrap",
        "tile_size",
        "tms"
       ],
       "url": "http://c.basemaps.cartocdn.com/light_all/{z}/{x}/{y}.png"
      }
     },
     "2479f802613344e98a6f95081dd4c45d": {
      "model_module": "jupyter-leaflet",
      "model_module_version": "^0.11.2",
      "model_name": "LeafletTileLayerModel",
      "state": {
       "_model_module_version": "^0.11.2",
       "_view_count": null,
       "_view_module_version": "^0.11.2",
       "attribution": "Map tiles by <a href=\"https://labs.strava.com/heatmap\">Strava 2017</a>",
       "max_native_zoom": 18,
       "max_zoom": 15,
       "min_native_zoom": 0,
       "min_zoom": 1,
       "name": "Strava.All",
       "no_wrap": false,
       "options": [
        "attribution",
        "detect_retina",
        "max_native_zoom",
        "max_zoom",
        "min_native_zoom",
        "min_zoom",
        "no_wrap",
        "tile_size"
       ],
       "url": "https://heatmap-external-a.strava.com//tiles/all/hot/{z}/{x}/{y}.png?v=19"
      }
     },
     "24bb3a1618564a588ab5802981aa0bf3": {
      "model_module": "@jupyter-widgets/base",
      "model_module_version": "1.2.0",
      "model_name": "LayoutModel",
      "state": {}
     },
     "24cf4b76c7194054bb4a339c2b4ba90f": {
      "model_module": "@jupyter-widgets/controls",
      "model_module_version": "1.5.0",
      "model_name": "DescriptionStyleModel",
      "state": {
       "description_width": ""
      }
     },
     "26062efd91964eac96c44b8c36e47620": {
      "model_module": "@jupyter-widgets/controls",
      "model_module_version": "1.5.0",
      "model_name": "HBoxModel",
      "state": {
       "children": [
        "IPY_MODEL_2a0f6d89c0844b93a69ef9742d7acb6b",
        "IPY_MODEL_4961ce892d9d47b29cba21e4fa250ca4"
       ],
       "layout": "IPY_MODEL_8e8bca74dd764b0590170a77e4c2fca2"
      }
     },
     "2616c92d1f6c4acfa98becc68c7ba863": {
      "model_module": "jupyter-leaflet",
      "model_module_version": "^0.12.1",
      "model_name": "LeafletMapStyleModel",
      "state": {
       "_model_module_version": "^0.12.1",
       "_view_count": null,
       "_view_module": "@jupyter-widgets/base",
       "_view_module_version": "1.2.0",
       "_view_name": "StyleView",
       "cursor": "grab"
      }
     },
     "263e9695bf6842039d0346937dcfad9b": {
      "model_module": "@jupyter-widgets/controls",
      "model_module_version": "1.5.0",
      "model_name": "SelectionSliderModel",
      "state": {
       "_options_labels": [
        "13:00",
        "13:30",
        "14:00",
        "14:30",
        "15:00",
        "15:30",
        "16:00",
        "16:30"
       ],
       "description": "Time:",
       "index": 0,
       "layout": "IPY_MODEL_03b53130e0e84026ac5a160f7f52acf7",
       "style": "IPY_MODEL_6ded955efddc480d92e5bc2c3c395411"
      }
     },
     "266ddb908e2e4e26ae3917939d2740a0": {
      "model_module": "jupyter-leaflet",
      "model_module_version": "^0.12.1",
      "model_name": "LeafletMapModel",
      "state": {
       "_dom_classes": [],
       "_model_module_version": "^0.12.1",
       "_view_count": null,
       "_view_module_version": "^0.12.1",
       "center": [
        48.00094957553023,
        7.995300292968751
       ],
       "controls": [
        "IPY_MODEL_84b5d9617f9347f8b4c716c33e1d1519",
        "IPY_MODEL_0e95604e06db46e4904ac48bdb67f562",
        "IPY_MODEL_7447228212634c1ca84112571ad4ca5c"
       ],
       "default_style": "IPY_MODEL_322190f2745a423ba338ff02a1cafcce",
       "dragging_style": "IPY_MODEL_7acb65a5c440458eb28579ab2b09c9f6",
       "east": 10.634765625,
       "fullscreen": false,
       "interpolation": "bilinear",
       "layers": [
        "IPY_MODEL_700833d0a40f46ed974c76579c8f3435",
        "IPY_MODEL_7fca7adf16064d84ade0ab9c599dee09",
        "IPY_MODEL_20059dbc650d4f10ac00b3cf84426e68"
       ],
       "layout": "IPY_MODEL_7d3b6e7ebbc540fbb69e120fcfa07352",
       "modisdate": "yesterday",
       "north": 48.73083222613518,
       "options": [
        "bounce_at_zoom_limits",
        "box_zoom",
        "center",
        "close_popup_on_click",
        "double_click_zoom",
        "dragging",
        "fullscreen",
        "inertia",
        "inertia_deceleration",
        "inertia_max_speed",
        "interpolation",
        "keyboard",
        "keyboard_pan_offset",
        "keyboard_zoom_offset",
        "max_zoom",
        "min_zoom",
        "scroll_wheel_zoom",
        "tap",
        "tap_tolerance",
        "touch_zoom",
        "world_copy_jump",
        "zoom",
        "zoom_animation_threshold",
        "zoom_start"
       ],
       "south": 47.260592193424706,
       "style": "IPY_MODEL_322190f2745a423ba338ff02a1cafcce",
       "west": 5.366821289062501,
       "zoom": 8
      }
     },
     "26c8cccfc7024475b110da85655c7c03": {
      "model_module": "@jupyter-widgets/base",
      "model_module_version": "1.2.0",
      "model_name": "LayoutModel",
      "state": {}
     },
     "276d80fd6afa4b68ad1403d235d3ee29": {
      "model_module": "@jupyter-widgets/controls",
      "model_module_version": "1.5.0",
      "model_name": "DescriptionStyleModel",
      "state": {
       "description_width": ""
      }
     },
     "27ebde1f01804f3092a5b9e5a3a3b89e": {
      "model_module": "jupyter-leaflet",
      "model_module_version": "^0.12.1",
      "model_name": "LeafletMapStyleModel",
      "state": {
       "_model_module_version": "^0.12.1",
       "_view_count": null,
       "_view_module": "@jupyter-widgets/base",
       "_view_module_version": "1.2.0",
       "_view_name": "StyleView",
       "cursor": "grab"
      }
     },
     "28f7c3d6d7264f4fabe300a2ce5e8f86": {
      "model_module": "jupyter-leaflet",
      "model_module_version": "^0.12.1",
      "model_name": "LeafletMapStyleModel",
      "state": {
       "_model_module_version": "^0.12.1",
       "_view_count": null,
       "_view_module": "@jupyter-widgets/base",
       "_view_module_version": "1.2.0",
       "_view_name": "StyleView",
       "cursor": "grab"
      }
     },
     "29af3dd8117747ab98250f6755017b85": {
      "model_module": "jupyter-leaflet",
      "model_module_version": "^0.12.1",
      "model_name": "LeafletMapStyleModel",
      "state": {
       "_model_module_version": "^0.12.1",
       "_view_count": null,
       "_view_module": "@jupyter-widgets/base",
       "_view_module_version": "1.2.0",
       "_view_name": "StyleView",
       "cursor": "grab"
      }
     },
     "2a0f6d89c0844b93a69ef9742d7acb6b": {
      "model_module": "jupyter-leaflet",
      "model_module_version": "~0.9.2",
      "model_name": "LeafletMapModel",
      "state": {
       "_dom_classes": [],
       "_model_module_version": "~0.9.2",
       "_view_count": null,
       "_view_module_version": "~0.9.2",
       "basemap": {
        "attribution": "Tiles courtesy of <a href=\"http://openstreetmap.se/\" target=\"_blank\">OpenStreetMap Sweden</a> &mdash; Map data &copy; <a href=\"http://www.openstreetmap.org/copyright\">OpenStreetMap</a>",
        "max_zoom": 18,
        "name": "Hydda.Full",
        "url": "http://{s}.tile.openstreetmap.se/hydda/full/{z}/{x}/{y}.png"
       },
       "center": [
        48,
        8
       ],
       "controls": [
        "IPY_MODEL_7e52235ac4fc459fa9fae2f87a0f842c"
       ],
       "east": 10.689697265625002,
       "interpolation": "bilinear",
       "layers": [
        "IPY_MODEL_1eed77d699964e0e96cf9e605781dccf",
        "IPY_MODEL_3c6eee3cd4ef4d9d933e362001441ab7",
        "IPY_MODEL_5b31696a5483464f9379646cb1c1fd35"
       ],
       "layout": "IPY_MODEL_afa45931452b40b991d8e72acd169add",
       "modisdate": "yesterday",
       "north": 48.73083222613518,
       "options": [
        "attribution_control",
        "basemap",
        "bounce_at_zoom_limits",
        "box_zoom",
        "center",
        "close_popup_on_click",
        "double_click_zoom",
        "dragging",
        "inertia",
        "inertia_deceleration",
        "inertia_max_speed",
        "interpolation",
        "keyboard",
        "keyboard_pan_offset",
        "keyboard_zoom_offset",
        "max_zoom",
        "min_zoom",
        "scroll_wheel_zoom",
        "tap",
        "tap_tolerance",
        "touch_zoom",
        "world_copy_jump",
        "zoom",
        "zoom_animation_threshold",
        "zoom_control",
        "zoom_start"
       ],
       "south": 47.260592193424706,
       "west": 5.311889648437501,
       "zoom": 8
      }
     },
     "2a88a5b963c44613974a2810c1c16413": {
      "model_module": "jupyter-leaflet",
      "model_module_version": "^0.12.1",
      "model_name": "LeafletZoomControlModel",
      "state": {
       "_model_module_version": "^0.12.1",
       "_view_count": null,
       "_view_module_version": "^0.12.1",
       "options": [
        "position",
        "zoom_in_text",
        "zoom_in_title",
        "zoom_out_text",
        "zoom_out_title"
       ]
      }
     },
     "2c16c0a14e8f4fccae8d2cc4144bd0d8": {
      "model_module": "jupyter-leaflet",
      "model_module_version": "~0.9.2",
      "model_name": "LeafletMapModel",
      "state": {
       "_dom_classes": [],
       "_model_module_version": "~0.9.2",
       "_view_count": null,
       "_view_module_version": "~0.9.2",
       "basemap": {
        "attribution": "Tiles courtesy of <a href=\"http://openstreetmap.se/\" target=\"_blank\">OpenStreetMap Sweden</a> &mdash; Map data &copy; <a href=\"http://www.openstreetmap.org/copyright\">OpenStreetMap</a>",
        "max_zoom": 18,
        "name": "Hydda.Full",
        "url": "http://{s}.tile.openstreetmap.se/hydda/full/{z}/{x}/{y}.png"
       },
       "center": [
        62,
        10
       ],
       "east": 12.689208984375002,
       "interpolation": "bilinear",
       "layers": [
        "IPY_MODEL_eb81a40952f84c0c82965b08ba83a2a1"
       ],
       "layout": "IPY_MODEL_6fb8b06c1200464786ec3af93f307e48",
       "modisdate": "yesterday",
       "north": 62.51231793838694,
       "options": [
        "attribution_control",
        "basemap",
        "bounce_at_zoom_limits",
        "box_zoom",
        "center",
        "close_popup_on_click",
        "double_click_zoom",
        "dragging",
        "inertia",
        "inertia_deceleration",
        "inertia_max_speed",
        "interpolation",
        "keyboard",
        "keyboard_pan_offset",
        "keyboard_zoom_offset",
        "max_zoom",
        "min_zoom",
        "scroll_wheel_zoom",
        "tap",
        "tap_tolerance",
        "touch_zoom",
        "world_copy_jump",
        "zoom",
        "zoom_animation_threshold",
        "zoom_control",
        "zoom_start"
       ],
       "south": 61.48075950007598,
       "west": 7.3114013671875,
       "zoom": 8
      }
     },
     "2c43e839fcc14517b8291091333d92d9": {
      "model_module": "@jupyter-widgets/base",
      "model_module_version": "1.2.0",
      "model_name": "LayoutModel",
      "state": {}
     },
     "2c62c0d598fc4f46bd68858495877c87": {
      "model_module": "jupyter-leaflet",
      "model_module_version": "~0.9.2",
      "model_name": "LeafletTileLayerModel",
      "state": {
       "_model_module_version": "~0.9.2",
       "_view_count": null,
       "_view_module_version": "~0.9.2",
       "base": true,
       "max_zoom": 19,
       "min_zoom": 1,
       "options": [
        "attribution",
        "detect_retina",
        "max_zoom",
        "min_zoom",
        "tile_size"
       ]
      }
     },
     "2c8ee408404744db88e72b9202bda5f1": {
      "model_module": "jupyter-leaflet",
      "model_module_version": "~0.9.2",
      "model_name": "LeafletTileLayerModel",
      "state": {
       "_model_module_version": "~0.9.2",
       "_view_count": null,
       "_view_module_version": "~0.9.2",
       "attribution": "",
       "max_zoom": 19,
       "min_zoom": 1,
       "name": "Countries",
       "options": [
        "attribution",
        "detect_retina",
        "max_zoom",
        "min_zoom",
        "tile_size"
       ],
       "url": ""
      }
     },
     "2c9a390b26464066807062b7c4685c38": {
      "model_module": "@jupyter-widgets/base",
      "model_module_version": "1.2.0",
      "model_name": "LayoutModel",
      "state": {}
     },
     "2c9ff9f97cf844569be674ca7ac4e9c9": {
      "model_module": "jupyter-leaflet",
      "model_module_version": "^0.12.1",
      "model_name": "LeafletMapStyleModel",
      "state": {
       "_model_module_version": "^0.12.1",
       "_view_count": null,
       "_view_module": "@jupyter-widgets/base",
       "_view_module_version": "1.2.0",
       "_view_name": "StyleView",
       "cursor": "grab"
      }
     },
     "2cf124882cf04238b076f7608ad1d7bb": {
      "model_module": "jupyter-leaflet",
      "model_module_version": "^0.12.1",
      "model_name": "LeafletAttributionControlModel",
      "state": {
       "_model_module_version": "^0.12.1",
       "_view_count": null,
       "_view_module_version": "^0.12.1",
       "options": [
        "position",
        "prefix"
       ],
       "position": "bottomright",
       "prefix": "Leaflet"
      }
     },
     "2cfda4e19e344a719b60b372ed11fb04": {
      "model_module": "jupyter-leaflet",
      "model_module_version": "^0.12.1",
      "model_name": "LeafletMapModel",
      "state": {
       "_dom_classes": [],
       "_model_module_version": "^0.12.1",
       "_view_count": null,
       "_view_module_version": "^0.12.1",
       "center": [
        48,
        7.9
       ],
       "controls": [
        "IPY_MODEL_c219e0187806487b9c02a9cd31efbf6e",
        "IPY_MODEL_788608422c4f4137ae626ff060368632"
       ],
       "default_style": "IPY_MODEL_04e47dd81fe54a8a8fa2010acfa0ee30",
       "dragging_style": "IPY_MODEL_2ff83724aa5f47ca8a7a51d7987c8b16",
       "east": 8.228759765625002,
       "fullscreen": false,
       "interpolation": "bilinear",
       "layers": [
        "IPY_MODEL_6d180393264540c195ea7997c10c9082"
       ],
       "layout": "IPY_MODEL_cd3ed9e4dc294a6e92873c7def90c076",
       "modisdate": "yesterday",
       "north": 48.18348549519126,
       "options": [
        "bounce_at_zoom_limits",
        "box_zoom",
        "center",
        "close_popup_on_click",
        "double_click_zoom",
        "dragging",
        "fullscreen",
        "inertia",
        "inertia_deceleration",
        "inertia_max_speed",
        "interpolation",
        "keyboard",
        "keyboard_pan_offset",
        "keyboard_zoom_offset",
        "max_zoom",
        "min_zoom",
        "scroll_wheel_zoom",
        "tap",
        "tap_tolerance",
        "touch_zoom",
        "world_copy_jump",
        "zoom",
        "zoom_animation_threshold",
        "zoom_start"
       ],
       "south": 47.81592114659014,
       "style": "IPY_MODEL_f193902eb3544899bfd228bdc1bf3bdc",
       "west": 7.572326660156251,
       "zoom": 10
      }
     },
     "2ddc04ab798047639d5e3bb0aa649c18": {
      "model_module": "@jupyter-widgets/controls",
      "model_module_version": "1.5.0",
      "model_name": "DescriptionStyleModel",
      "state": {
       "description_width": ""
      }
     },
     "2f3eac376bd74697a9c40eb136cb50a3": {
      "model_module": "@jupyter-widgets/base",
      "model_module_version": "1.2.0",
      "model_name": "LayoutModel",
      "state": {}
     },
     "2fb39cf3a83e4ce2b7bf8cc7444e759e": {
      "model_module": "jupyter-leaflet",
      "model_module_version": "~0.9.2",
      "model_name": "LeafletTileLayerModel",
      "state": {
       "_model_module_version": "~0.9.2",
       "_view_count": null,
       "_view_module_version": "~0.9.2",
       "base": true,
       "max_zoom": 19,
       "min_zoom": 1,
       "options": [
        "attribution",
        "detect_retina",
        "max_zoom",
        "min_zoom",
        "tile_size"
       ]
      }
     },
     "2fbb50e078784f6e94d6eb9102805318": {
      "model_module": "@jupyter-widgets/base",
      "model_module_version": "1.2.0",
      "model_name": "LayoutModel",
      "state": {}
     },
     "2fc5b8afa16f44d38e46268fde768960": {
      "model_module": "jupyter-leaflet",
      "model_module_version": "^0.12.1",
      "model_name": "LeafletZoomControlModel",
      "state": {
       "_model_module_version": "^0.12.1",
       "_view_count": null,
       "_view_module_version": "^0.12.1",
       "options": [
        "position",
        "zoom_in_text",
        "zoom_in_title",
        "zoom_out_text",
        "zoom_out_title"
       ]
      }
     },
     "2ff83724aa5f47ca8a7a51d7987c8b16": {
      "model_module": "jupyter-leaflet",
      "model_module_version": "^0.12.1",
      "model_name": "LeafletMapStyleModel",
      "state": {
       "_model_module_version": "^0.12.1",
       "_view_count": null,
       "_view_module": "@jupyter-widgets/base",
       "_view_module_version": "1.2.0",
       "_view_name": "StyleView",
       "cursor": "move"
      }
     },
     "301f1ce373ec4835b4577f39988c21d9": {
      "model_module": "jupyter-leaflet",
      "model_module_version": "~0.9.2",
      "model_name": "LeafletTileLayerModel",
      "state": {
       "_model_module_version": "~0.9.2",
       "_view_count": null,
       "_view_module_version": "~0.9.2",
       "attribution": "Tiles courtesy of <a href=\"http://openstreetmap.se/\" target=\"_blank\">OpenStreetMap Sweden</a> &mdash; Map data &copy; <a href=\"http://www.openstreetmap.org/copyright\">OpenStreetMap</a>",
       "base": true,
       "min_zoom": 1,
       "name": "Hydda.Full",
       "options": [
        "attribution",
        "detect_retina",
        "max_zoom",
        "min_zoom",
        "tile_size"
       ],
       "url": "http://{s}.tile.openstreetmap.se/hydda/full/{z}/{x}/{y}.png"
      }
     },
     "3028c288d01d49999c9570568c36d3f5": {
      "model_module": "jupyter-leaflet",
      "model_module_version": "^0.12.1",
      "model_name": "LeafletAttributionControlModel",
      "state": {
       "_model_module_version": "^0.12.1",
       "_view_count": null,
       "_view_module_version": "^0.12.1",
       "options": [
        "position",
        "prefix"
       ],
       "position": "bottomright",
       "prefix": "Leaflet"
      }
     },
     "310711b9f3db411ebe77b96017aae62a": {
      "model_module": "jupyter-leaflet",
      "model_module_version": "^0.12.1",
      "model_name": "LeafletWMSLayerModel",
      "state": {
       "_model_module_version": "^0.12.1",
       "_view_count": null,
       "_view_module_version": "^0.12.1",
       "attribution": "Weather data © 2012 IEM Nexrad",
       "crs": "EPSG3857",
       "format": "image/png",
       "layers": "nexrad-n0r-wmst",
       "loading": false,
       "max_native_zoom": 18,
       "min_native_zoom": 0,
       "no_wrap": false,
       "options": [
        "attribution",
        "detect_retina",
        "format",
        "layers",
        "max_native_zoom",
        "max_zoom",
        "min_native_zoom",
        "min_zoom",
        "no_wrap",
        "styles",
        "tile_size",
        "time",
        "tms",
        "transparent",
        "uppercase"
       ],
       "time": "2005-08-29T13:00:00Z",
       "transparent": true,
       "url": "https://mesonet.agron.iastate.edu/cgi-bin/wms/nexrad/n0r-t.cgi?"
      }
     },
     "3193b3cec6f546b4aeafb6602c3c1716": {
      "model_module": "jupyter-leaflet",
      "model_module_version": "~0.9.2",
      "model_name": "LeafletMapModel",
      "state": {
       "_dom_classes": [],
       "_model_module_version": "~0.9.2",
       "_view_count": null,
       "_view_module_version": "~0.9.2",
       "basemap": {
        "attribution": "Tiles courtesy of <a href=\"http://openstreetmap.se/\" target=\"_blank\">OpenStreetMap Sweden</a> &mdash; Map data &copy; <a href=\"http://www.openstreetmap.org/copyright\">OpenStreetMap</a>",
        "max_zoom": 18,
        "name": "Hydda.Full",
        "url": "http://{s}.tile.openstreetmap.se/hydda/full/{z}/{x}/{y}.png"
       },
       "center": [
        49,
        10
       ],
       "east": 12.689208984375002,
       "interpolation": "bilinear",
       "layers": [
        "IPY_MODEL_0d634455a61244ca8afe7b4c05078bf3"
       ],
       "layout": "IPY_MODEL_ae4a2f50a2de44f5a4dd7ea5df7461bd",
       "modisdate": "yesterday",
       "north": 49.713824623405046,
       "options": [
        "attribution_control",
        "basemap",
        "bounce_at_zoom_limits",
        "box_zoom",
        "center",
        "close_popup_on_click",
        "double_click_zoom",
        "dragging",
        "inertia",
        "inertia_deceleration",
        "inertia_max_speed",
        "interpolation",
        "keyboard",
        "keyboard_pan_offset",
        "keyboard_zoom_offset",
        "max_zoom",
        "min_zoom",
        "scroll_wheel_zoom",
        "tap",
        "tap_tolerance",
        "touch_zoom",
        "world_copy_jump",
        "zoom",
        "zoom_animation_threshold",
        "zoom_control",
        "zoom_start"
       ],
       "south": 48.272225451004324,
       "west": 7.3114013671875,
       "zoom": 8
      }
     },
     "31c2aa08bd764986ad77ec7d01576909": {
      "model_module": "@jupyter-widgets/base",
      "model_module_version": "1.2.0",
      "model_name": "LayoutModel",
      "state": {}
     },
     "322190f2745a423ba338ff02a1cafcce": {
      "model_module": "jupyter-leaflet",
      "model_module_version": "^0.12.1",
      "model_name": "LeafletMapStyleModel",
      "state": {
       "_model_module_version": "^0.12.1",
       "_view_count": null,
       "_view_module": "@jupyter-widgets/base",
       "_view_module_version": "1.2.0",
       "_view_name": "StyleView",
       "cursor": "grab"
      }
     },
     "324b8a0a4b1b4711a596e28f326836cb": {
      "model_module": "jupyter-leaflet",
      "model_module_version": "^0.12.1",
      "model_name": "LeafletTileLayerModel",
      "state": {
       "_model_module_version": "^0.12.1",
       "_view_count": null,
       "_view_module_version": "^0.12.1",
       "attribution": "&copy; <a href=\"http://www.openstreetmap.org/copyright\">OpenStreetMap</a> &copy; <a href=\"http://cartodb.com/attributions\">CartoDB</a>",
       "base": true,
       "loading": false,
       "max_native_zoom": 18,
       "max_zoom": 20,
       "min_native_zoom": 0,
       "min_zoom": 1,
       "name": "CartoDB.Positron",
       "no_wrap": false,
       "options": [
        "attribution",
        "detect_retina",
        "max_native_zoom",
        "max_zoom",
        "min_native_zoom",
        "min_zoom",
        "no_wrap",
        "tile_size",
        "tms"
       ],
       "url": "http://c.basemaps.cartocdn.com/light_all/{z}/{x}/{y}.png"
      }
     },
     "329fb432f4fc41c58e830333427c3e53": {
      "model_module": "@jupyter-widgets/base",
      "model_module_version": "1.2.0",
      "model_name": "LayoutModel",
      "state": {}
     },
     "32ab0b86c526433bbddf91e0e2ce1f7e": {
      "model_module": "jupyter-leaflet",
      "model_module_version": "^0.12.1",
      "model_name": "LeafletAttributionControlModel",
      "state": {
       "_model_module_version": "^0.12.1",
       "_view_count": null,
       "_view_module_version": "^0.12.1",
       "options": [
        "position",
        "prefix"
       ],
       "position": "bottomright",
       "prefix": "Leaflet"
      }
     },
     "32cd9f43bab54e92b819bcaf368400ea": {
      "model_module": "@jupyter-widgets/base",
      "model_module_version": "1.2.0",
      "model_name": "LayoutModel",
      "state": {}
     },
     "3367f8480ba24020837761d7513d46a2": {
      "model_module": "jupyter-leaflet",
      "model_module_version": "^0.11.2",
      "model_name": "LeafletZoomControlModel",
      "state": {
       "_model_module_version": "^0.11.2",
       "_view_count": null,
       "_view_module_version": "^0.11.2",
       "options": [
        "position",
        "zoom_in_text",
        "zoom_in_title",
        "zoom_out_text",
        "zoom_out_title"
       ]
      }
     },
     "336ac90c828a496c925109d19cac3a4d": {
      "model_module": "@jupyter-widgets/controls",
      "model_module_version": "1.5.0",
      "model_name": "LabelModel",
      "state": {
       "layout": "IPY_MODEL_c142684a64e6482daa850aba6087dca3",
       "style": "IPY_MODEL_eebc3cf4667d4c00a27b56c671d4bc68",
       "value": "[47.94149351068146, 6.992078889205451]"
      }
     },
     "33eef982a5404181b4fec012a1f80f3f": {
      "model_module": "@jupyter-widgets/controls",
      "model_module_version": "1.5.0",
      "model_name": "LabelModel",
      "state": {
       "layout": "IPY_MODEL_71b6a5f2b1ce4b3686d2a8d916f6fed1",
       "style": "IPY_MODEL_da621ece22c1469eb1bbf6ad0fd4e31c",
       "value": "[48.05911336165878, 6.8108428632317]"
      }
     },
     "34193876071f4e3599d569031329ed68": {
      "model_module": "jupyter-leaflet",
      "model_module_version": "^0.12.1",
      "model_name": "LeafletMapModel",
      "state": {
       "_dom_classes": [],
       "_model_module_version": "^0.12.1",
       "_view_count": null,
       "_view_module_version": "^0.12.1",
       "center": [
        48,
        7.9
       ],
       "controls": [
        "IPY_MODEL_8c7735cf28b146f2bae2b645bec30e99",
        "IPY_MODEL_0dc873adc46e484b822d6e3287443c2d"
       ],
       "default_style": "IPY_MODEL_34500fd0b1d04e75a05a2f062f4a84b5",
       "dragging_style": "IPY_MODEL_1ea9cf6e734643c8be314224adc05fdf",
       "east": 8.228759765625002,
       "fullscreen": false,
       "interpolation": "bilinear",
       "layers": [
        "IPY_MODEL_7bde861d3e8c4f93a47d9f0840debe1c"
       ],
       "layout": "IPY_MODEL_954292eca1cb4a8b8360bf146a931ece",
       "modisdate": "yesterday",
       "north": 48.18348549519126,
       "options": [
        "bounce_at_zoom_limits",
        "box_zoom",
        "center",
        "close_popup_on_click",
        "double_click_zoom",
        "dragging",
        "fullscreen",
        "inertia",
        "inertia_deceleration",
        "inertia_max_speed",
        "interpolation",
        "keyboard",
        "keyboard_pan_offset",
        "keyboard_zoom_offset",
        "max_zoom",
        "min_zoom",
        "scroll_wheel_zoom",
        "tap",
        "tap_tolerance",
        "touch_zoom",
        "world_copy_jump",
        "zoom",
        "zoom_animation_threshold",
        "zoom_start"
       ],
       "south": 47.81592114659014,
       "style": "IPY_MODEL_446e272488e945ddaed5b5daaca74015",
       "west": 7.572326660156251,
       "zoom": 10
      }
     },
     "34500fd0b1d04e75a05a2f062f4a84b5": {
      "model_module": "jupyter-leaflet",
      "model_module_version": "^0.12.1",
      "model_name": "LeafletMapStyleModel",
      "state": {
       "_model_module_version": "^0.12.1",
       "_view_count": null,
       "_view_module": "@jupyter-widgets/base",
       "_view_module_version": "1.2.0",
       "_view_name": "StyleView",
       "cursor": "grab"
      }
     },
     "3499f76a4d2d4463b65a6bbc0422e076": {
      "model_module": "jupyter-leaflet",
      "model_module_version": "^0.12.1",
      "model_name": "LeafletLayersControlModel",
      "state": {
       "_model_module_version": "^0.12.1",
       "_view_count": null,
       "_view_module_version": "^0.12.1",
       "options": [
        "position"
       ]
      }
     },
     "357b740044d546d5ab4fcb2350704dbc": {
      "model_module": "jupyter-leaflet",
      "model_module_version": "~0.9.2",
      "model_name": "LeafletMapModel",
      "state": {
       "_dom_classes": [],
       "_model_module_version": "~0.9.2",
       "_view_count": null,
       "_view_module_version": "~0.9.2",
       "basemap": {
        "attribution": "Tiles courtesy of <a href=\"http://openstreetmap.se/\" target=\"_blank\">OpenStreetMap Sweden</a> &mdash; Map data &copy; <a href=\"http://www.openstreetmap.org/copyright\">OpenStreetMap</a>",
        "max_zoom": 18,
        "name": "Hydda.Full",
        "url": "http://{s}.tile.openstreetmap.se/hydda/full/{z}/{x}/{y}.png"
       },
       "center": [
        48,
        8
       ],
       "controls": [
        "IPY_MODEL_965a40387bd04092b9b33bf42e6633e1"
       ],
       "east": 10.695190429687502,
       "interpolation": "bilinear",
       "layers": [
        "IPY_MODEL_60ea836d16ac48ff80ccf9667d7a6d44",
        "IPY_MODEL_471125073c9e4c42a4b5a03d989e17ea",
        "IPY_MODEL_d8bec27c29c44dd186507b311fe0bc9b"
       ],
       "layout": "IPY_MODEL_1d5a4754eb6549aaa8b1af0a2be73aff",
       "modisdate": "yesterday",
       "north": 48.73083222613518,
       "options": [
        "attribution_control",
        "basemap",
        "bounce_at_zoom_limits",
        "box_zoom",
        "center",
        "close_popup_on_click",
        "double_click_zoom",
        "dragging",
        "inertia",
        "inertia_deceleration",
        "inertia_max_speed",
        "interpolation",
        "keyboard",
        "keyboard_pan_offset",
        "keyboard_zoom_offset",
        "max_zoom",
        "min_zoom",
        "scroll_wheel_zoom",
        "tap",
        "tap_tolerance",
        "touch_zoom",
        "world_copy_jump",
        "zoom",
        "zoom_animation_threshold",
        "zoom_control",
        "zoom_start"
       ],
       "south": 47.260592193424706,
       "west": 5.300903320312501,
       "zoom": 8
      }
     },
     "3606f30ee3eb4f4faded52e2367747a7": {
      "model_module": "@jupyter-widgets/base",
      "model_module_version": "1.2.0",
      "model_name": "LayoutModel",
      "state": {}
     },
     "36689022b3bd4868a3c5ca0e38157ce7": {
      "model_module": "jupyter-leaflet",
      "model_module_version": "^0.12.1",
      "model_name": "LeafletAttributionControlModel",
      "state": {
       "_model_module_version": "^0.12.1",
       "_view_count": null,
       "_view_module_version": "^0.12.1",
       "options": [
        "position",
        "prefix"
       ],
       "position": "bottomright",
       "prefix": "Leaflet"
      }
     },
     "374c3085478845aeaf7dba18c5876a35": {
      "model_module": "jupyter-leaflet",
      "model_module_version": "^0.12.1",
      "model_name": "LeafletZoomControlModel",
      "state": {
       "_model_module_version": "^0.12.1",
       "_view_count": null,
       "_view_module_version": "^0.12.1",
       "options": [
        "position",
        "zoom_in_text",
        "zoom_in_title",
        "zoom_out_text",
        "zoom_out_title"
       ]
      }
     },
     "3764b4d4709045c99ab7a935f37e69da": {
      "model_module": "@jupyter-widgets/base",
      "model_module_version": "1.2.0",
      "model_name": "LayoutModel",
      "state": {}
     },
     "378a01a52a4d4f4d9d7e4857a3a9e3b6": {
      "model_module": "@jupyter-widgets/controls",
      "model_module_version": "1.5.0",
      "model_name": "LabelModel",
      "state": {
       "layout": "IPY_MODEL_0066dc6f6a834fb1aafba711f5c95cc7",
       "style": "IPY_MODEL_b2a72c44c8e54f9e8bec700052458039",
       "value": "[48.629278127969414, 7.87392320957185]"
      }
     },
     "388669dce6964012a0388b1282188acb": {
      "model_module": "jupyter-leaflet",
      "model_module_version": "^0.12.1",
      "model_name": "LeafletMapStyleModel",
      "state": {
       "_model_module_version": "^0.12.1",
       "_view_count": null,
       "_view_module": "@jupyter-widgets/base",
       "_view_module_version": "1.2.0",
       "_view_name": "StyleView",
       "cursor": "grab"
      }
     },
     "39d1637e24b740e0bac5241eb32f444c": {
      "model_module": "jupyter-leaflet",
      "model_module_version": "^0.12.1",
      "model_name": "LeafletMapStyleModel",
      "state": {
       "_model_module_version": "^0.12.1",
       "_view_count": null,
       "_view_module": "@jupyter-widgets/base",
       "_view_module_version": "1.2.0",
       "_view_name": "StyleView",
       "cursor": "move"
      }
     },
     "39e5950b54a74c47bf631b19e4be70dd": {
      "model_module": "jupyter-leaflet",
      "model_module_version": "^0.12.1",
      "model_name": "LeafletMapStyleModel",
      "state": {
       "_model_module_version": "^0.12.1",
       "_view_count": null,
       "_view_module": "@jupyter-widgets/base",
       "_view_module_version": "1.2.0",
       "_view_name": "StyleView",
       "cursor": "grab"
      }
     },
     "39e846f119be4c09994ce6df14951dc9": {
      "model_module": "@jupyter-widgets/controls",
      "model_module_version": "1.5.0",
      "model_name": "DescriptionStyleModel",
      "state": {
       "description_width": ""
      }
     },
     "3ad72067ed9c470a8f06d5ce8d2855b3": {
      "model_module": "@jupyter-widgets/controls",
      "model_module_version": "1.5.0",
      "model_name": "SelectionSliderModel",
      "state": {
       "_options_labels": [
        "13:00",
        "13:30",
        "14:00",
        "14:30",
        "15:00",
        "15:30",
        "16:00",
        "16:30"
       ],
       "description": "Time:",
       "index": 0,
       "layout": "IPY_MODEL_7aaae9b612ca421a861020bd639a23c0",
       "style": "IPY_MODEL_d9083c42b2c94912875396563a7ea152"
      }
     },
     "3ae1bf1bae734e269b52aed8aefa8e01": {
      "model_module": "jupyter-leaflet",
      "model_module_version": "^0.12.1",
      "model_name": "LeafletTileLayerModel",
      "state": {
       "_model_module_version": "^0.12.1",
       "_view_count": null,
       "_view_module_version": "^0.12.1",
       "attribution": "Map tiles by <a href=\"https://labs.strava.com/heatmap\">Strava 2017</a>",
       "loading": false,
       "max_native_zoom": 18,
       "max_zoom": 15,
       "min_native_zoom": 0,
       "min_zoom": 1,
       "name": "Strava.Water",
       "no_wrap": false,
       "options": [
        "attribution",
        "detect_retina",
        "max_native_zoom",
        "max_zoom",
        "min_native_zoom",
        "min_zoom",
        "no_wrap",
        "tile_size",
        "tms"
       ],
       "url": "https://heatmap-external-a.strava.com//tiles/water/blue/{z}/{x}/{y}.png?v=19"
      }
     },
     "3b052ebd20184e0597cb7e47dd223751": {
      "model_module": "jupyter-leaflet",
      "model_module_version": "^0.12.1",
      "model_name": "LeafletTileLayerModel",
      "state": {
       "_model_module_version": "^0.12.1",
       "_view_count": null,
       "_view_module_version": "^0.12.1",
       "attribution": "Map tiles by <a href=\"https://labs.strava.com/heatmap\">Strava 2017</a>",
       "loading": false,
       "max_native_zoom": 18,
       "max_zoom": 15,
       "min_native_zoom": 0,
       "min_zoom": 1,
       "name": "Strava.All",
       "no_wrap": false,
       "options": [
        "attribution",
        "detect_retina",
        "max_native_zoom",
        "max_zoom",
        "min_native_zoom",
        "min_zoom",
        "no_wrap",
        "tile_size",
        "tms"
       ],
       "url": "https://heatmap-external-a.strava.com//tiles/all/hot/{z}/{x}/{y}.png?v=19"
      }
     },
     "3b3c412c35514bec9eb0d7b8618fa892": {
      "model_module": "@jupyter-widgets/base",
      "model_module_version": "1.2.0",
      "model_name": "LayoutModel",
      "state": {}
     },
     "3b6ca2dc7bad45feb806c548e0913ceb": {
      "model_module": "@jupyter-widgets/controls",
      "model_module_version": "1.5.0",
      "model_name": "SelectionSliderModel",
      "state": {
       "_options_labels": [
        "13:00",
        "13:30",
        "14:00",
        "14:30",
        "15:00",
        "15:30",
        "16:00",
        "16:30"
       ],
       "description": "Time:",
       "index": 0,
       "layout": "IPY_MODEL_3764b4d4709045c99ab7a935f37e69da",
       "style": "IPY_MODEL_a69b15450ea345af8d7cf66205bcecca"
      }
     },
     "3bb2856dd18b436fba01dbae9b8de050": {
      "model_module": "jupyter-leaflet",
      "model_module_version": "^0.11.2",
      "model_name": "LeafletMapModel",
      "state": {
       "_dom_classes": [],
       "_model_module_version": "^0.11.2",
       "_view_count": null,
       "_view_module_version": "^0.11.2",
       "basemap": {
        "attribution": "Tiles courtesy of <a href=\"http://openstreetmap.se/\" target=\"_blank\">OpenStreetMap Sweden</a> &mdash; Map data &copy; <a href=\"http://www.openstreetmap.org/copyright\">OpenStreetMap</a>",
        "max_zoom": 18,
        "name": "Hydda.Full",
        "url": "http://{s}.tile.openstreetmap.se/hydda/full/{z}/{x}/{y}.png"
       },
       "center": [
        48,
        8
       ],
       "controls": [
        "IPY_MODEL_c12f9be0beb142719cbfa6c69b16b783",
        "IPY_MODEL_588226bd8ddd4944b7658e5e9b02afe0",
        "IPY_MODEL_46712550dc8c4b758b64c402a9409f5a"
       ],
       "default_style": "IPY_MODEL_16ba9fe3287b40f6a96d3c2872498737",
       "dragging_style": "IPY_MODEL_898b8822b0464749859f897198adb846",
       "east": 10.695190429687502,
       "fullscreen": false,
       "interpolation": "bilinear",
       "layers": [
        "IPY_MODEL_ff403c6cdc2e47cc86c7659d7d6120e1",
        "IPY_MODEL_129a30e098a7403ab5a776c603009727",
        "IPY_MODEL_fbcb85263e844af5893f3ef86a5eea1e"
       ],
       "layout": "IPY_MODEL_6a4722c755124c49b4395f779f93fc47",
       "modisdate": "yesterday",
       "north": 48.73083222613518,
       "options": [
        "basemap",
        "bounce_at_zoom_limits",
        "box_zoom",
        "center",
        "close_popup_on_click",
        "double_click_zoom",
        "dragging",
        "fullscreen",
        "inertia",
        "inertia_deceleration",
        "inertia_max_speed",
        "interpolation",
        "keyboard",
        "keyboard_pan_offset",
        "keyboard_zoom_offset",
        "max_zoom",
        "min_zoom",
        "scroll_wheel_zoom",
        "tap",
        "tap_tolerance",
        "touch_zoom",
        "world_copy_jump",
        "zoom",
        "zoom_animation_threshold",
        "zoom_start"
       ],
       "south": 47.260592193424706,
       "style": "IPY_MODEL_16ba9fe3287b40f6a96d3c2872498737",
       "west": 5.300903320312501,
       "zoom": 8
      }
     },
     "3c2d2c0a2f394ce6b6ae5252600e8694": {
      "model_module": "jupyter-leaflet",
      "model_module_version": "^0.12.1",
      "model_name": "LeafletMapModel",
      "state": {
       "_dom_classes": [],
       "_model_module_version": "^0.12.1",
       "_view_count": null,
       "_view_module_version": "^0.12.1",
       "center": [
        30.661,
        -88.645
       ],
       "controls": [
        "IPY_MODEL_644d8a01d2de4b5db9005b5e27c4aaf0",
        "IPY_MODEL_2cf124882cf04238b076f7608ad1d7bb"
       ],
       "default_style": "IPY_MODEL_1c6a3ae0e6534b73af01fda72066a5f4",
       "dragging_style": "IPY_MODEL_05a2364882a14114aab2f400783ec299",
       "east": -67.58789062500001,
       "fullscreen": false,
       "interpolation": "bilinear",
       "layers": [
        "IPY_MODEL_b38935c8c2c74c289df7aeb7fb424911",
        "IPY_MODEL_8678da2f18c94c5dab1e7ef598ad8d10"
       ],
       "layout": "IPY_MODEL_aab407d3479d4fe482464a5570ddc978",
       "modisdate": "yesterday",
       "north": 37.92686760148135,
       "options": [
        "bounce_at_zoom_limits",
        "box_zoom",
        "center",
        "close_popup_on_click",
        "double_click_zoom",
        "dragging",
        "fullscreen",
        "inertia",
        "inertia_deceleration",
        "inertia_max_speed",
        "interpolation",
        "keyboard",
        "keyboard_pan_offset",
        "keyboard_zoom_offset",
        "max_zoom",
        "min_zoom",
        "scroll_wheel_zoom",
        "tap",
        "tap_tolerance",
        "touch_zoom",
        "world_copy_jump",
        "zoom",
        "zoom_animation_threshold",
        "zoom_start"
       ],
       "south": 22.836945920943855,
       "style": "IPY_MODEL_4cd768a1281a4aefa94079deaa0b7766",
       "west": -109.73144531250001,
       "zoom": 5
      }
     },
     "3c6eee3cd4ef4d9d933e362001441ab7": {
      "model_module": "jupyter-leaflet",
      "model_module_version": "~0.9.2",
      "model_name": "LeafletTileLayerModel",
      "state": {
       "_model_module_version": "~0.9.2",
       "_view_count": null,
       "_view_module_version": "~0.9.2",
       "attribution": "Map tiles by <a href=\"https://labs.strava.com/heatmap\">Strava 2017</a>",
       "max_zoom": 15,
       "min_zoom": 1,
       "name": "Strava.Water",
       "options": [
        "attribution",
        "detect_retina",
        "max_zoom",
        "min_zoom",
        "tile_size"
       ],
       "url": "https://heatmap-external-a.strava.com//tiles/water/blue/{z}/{x}/{y}.png?v=19"
      }
     },
     "3d6768e1a575403fa6811666468982f1": {
      "model_module": "@jupyter-widgets/base",
      "model_module_version": "1.2.0",
      "model_name": "LayoutModel",
      "state": {}
     },
     "3e52058b50334d04a5921896927fbd55": {
      "model_module": "jupyter-leaflet",
      "model_module_version": "^0.11.2",
      "model_name": "LeafletTileLayerModel",
      "state": {
       "_model_module_version": "^0.11.2",
       "_view_count": null,
       "_view_module_version": "^0.11.2",
       "attribution": "Map tiles by <a href=\"https://labs.strava.com/heatmap\">Strava 2017</a>",
       "max_native_zoom": 18,
       "max_zoom": 15,
       "min_native_zoom": 0,
       "min_zoom": 1,
       "name": "Strava.Water",
       "no_wrap": false,
       "options": [
        "attribution",
        "detect_retina",
        "max_native_zoom",
        "max_zoom",
        "min_native_zoom",
        "min_zoom",
        "no_wrap",
        "tile_size"
       ],
       "url": "https://heatmap-external-a.strava.com//tiles/water/blue/{z}/{x}/{y}.png?v=19"
      }
     },
     "3e5adfbfc39648a9a5f5dfaab95d404b": {
      "model_module": "jupyter-leaflet",
      "model_module_version": "^0.12.1",
      "model_name": "LeafletTileLayerModel",
      "state": {
       "_model_module_version": "^0.12.1",
       "_view_count": null,
       "_view_module_version": "^0.12.1",
       "attribution": "",
       "loading": false,
       "max_native_zoom": 18,
       "max_zoom": 19,
       "min_native_zoom": 0,
       "min_zoom": 1,
       "name": "Countries",
       "no_wrap": false,
       "options": [
        "attribution",
        "detect_retina",
        "max_native_zoom",
        "max_zoom",
        "min_native_zoom",
        "min_zoom",
        "no_wrap",
        "tile_size",
        "tms"
       ],
       "url": ""
      }
     },
     "3e8ba82837b9467e8cfb5b2d11a4328d": {
      "model_module": "@jupyter-widgets/controls",
      "model_module_version": "1.5.0",
      "model_name": "HBoxModel",
      "state": {
       "children": [
        "IPY_MODEL_2a0f6d89c0844b93a69ef9742d7acb6b",
        "IPY_MODEL_d4b96f425b1344aa927c1be91ead6e43"
       ],
       "layout": "IPY_MODEL_6fd0b77f69884506a35c4cde1acd94ae"
      }
     },
     "3eb63a12eb894eed93f2f7e6246f83eb": {
      "model_module": "jupyter-leaflet",
      "model_module_version": "^0.12.1",
      "model_name": "LeafletMapModel",
      "state": {
       "_dom_classes": [],
       "_model_module_version": "^0.12.1",
       "_view_count": null,
       "_view_module_version": "^0.12.1",
       "center": [
        30.675715404167743,
        -88.63769531250001
       ],
       "controls": [
        "IPY_MODEL_46bb6d1b87ab4ff2a1be33d61538ef54",
        "IPY_MODEL_adbb091b7e0c45f5a0f54d0bdcbf751a"
       ],
       "default_style": "IPY_MODEL_39e5950b54a74c47bf631b19e4be70dd",
       "dragging_style": "IPY_MODEL_bc007a82ee5c4adb91ff9952c64077e9",
       "east": -180,
       "fullscreen": false,
       "interpolation": "bilinear",
       "layers": [
        "IPY_MODEL_11281905205549378725a08601d81ba8",
        "IPY_MODEL_a964a88e215041b29322571106c45ed5"
       ],
       "layout": "IPY_MODEL_06d0e549dbd54b42bccb2e4c8034f8e3",
       "modisdate": "yesterday",
       "north": -90,
       "options": [
        "bounce_at_zoom_limits",
        "box_zoom",
        "center",
        "close_popup_on_click",
        "double_click_zoom",
        "dragging",
        "fullscreen",
        "inertia",
        "inertia_deceleration",
        "inertia_max_speed",
        "interpolation",
        "keyboard",
        "keyboard_pan_offset",
        "keyboard_zoom_offset",
        "max_zoom",
        "min_zoom",
        "scroll_wheel_zoom",
        "tap",
        "tap_tolerance",
        "touch_zoom",
        "world_copy_jump",
        "zoom",
        "zoom_animation_threshold",
        "zoom_start"
       ],
       "south": 90,
       "style": "IPY_MODEL_39e5950b54a74c47bf631b19e4be70dd",
       "west": 180,
       "zoom": 5
      }
     },
     "3f040acbb2d04277865e559de22986ec": {
      "model_module": "@jupyter-widgets/controls",
      "model_module_version": "1.5.0",
      "model_name": "SelectionSliderModel",
      "state": {
       "_options_labels": [
        "13:00",
        "13:30",
        "14:00",
        "14:30",
        "15:00",
        "15:30",
        "16:00",
        "16:30"
       ],
       "description": "Time:",
       "index": 3,
       "layout": "IPY_MODEL_d11daaca635e402ba41b64053b030bb3",
       "style": "IPY_MODEL_eb22b24dedd34503ae30f24c6b94490c"
      }
     },
     "3f137d8fd86944ca8293dbf2ea55f595": {
      "model_module": "jupyter-leaflet",
      "model_module_version": "^0.12.1",
      "model_name": "LeafletTileLayerModel",
      "state": {
       "_model_module_version": "^0.12.1",
       "_view_count": null,
       "_view_module_version": "^0.12.1",
       "attribution": "&copy; <a href=\"http://www.openstreetmap.org/copyright\">OpenStreetMap</a> &copy; <a href=\"http://cartodb.com/attributions\">CartoDB</a>",
       "base": true,
       "loading": false,
       "max_native_zoom": 18,
       "max_zoom": 20,
       "min_native_zoom": 0,
       "min_zoom": 1,
       "name": "CartoDB.Positron",
       "no_wrap": false,
       "options": [
        "attribution",
        "detect_retina",
        "max_native_zoom",
        "max_zoom",
        "min_native_zoom",
        "min_zoom",
        "no_wrap",
        "tile_size",
        "tms"
       ],
       "url": "http://c.basemaps.cartocdn.com/light_all/{z}/{x}/{y}.png"
      }
     },
     "3fb49d3867294d60a0a7ac57de5ca969": {
      "model_module": "jupyter-leaflet",
      "model_module_version": "^0.12.1",
      "model_name": "LeafletMapStyleModel",
      "state": {
       "_model_module_version": "^0.12.1",
       "_view_count": null,
       "_view_module": "@jupyter-widgets/base",
       "_view_module_version": "1.2.0",
       "_view_name": "StyleView",
       "cursor": "grab"
      }
     },
     "402cc7fe0e804bbbb6f372510cd7d5ed": {
      "model_module": "@jupyter-widgets/base",
      "model_module_version": "1.2.0",
      "model_name": "LayoutModel",
      "state": {}
     },
     "40eea482080c40188eb6bccbca892aca": {
      "model_module": "jupyter-leaflet",
      "model_module_version": "^0.12.1",
      "model_name": "LeafletMapModel",
      "state": {
       "_dom_classes": [],
       "_model_module_version": "^0.12.1",
       "_view_count": null,
       "_view_module_version": "^0.12.1",
       "center": [
        30.675715404167743,
        -88.63769531250001
       ],
       "controls": [
        "IPY_MODEL_b609ab7dd7bc47d495d1922fc7f86940",
        "IPY_MODEL_e6ef6d1b2a4e4fbe9e3b9c64a6a6762b"
       ],
       "default_style": "IPY_MODEL_28f7c3d6d7264f4fabe300a2ce5e8f86",
       "dragging_style": "IPY_MODEL_06d0b8caf72c41d6b79f2b1fe549e336",
       "east": -180,
       "fullscreen": false,
       "interpolation": "bilinear",
       "layers": [
        "IPY_MODEL_c08aee09fe2d4662bc5642362ccf539f",
        "IPY_MODEL_ba8ec3ce1817473fa0d33a75abebc474"
       ],
       "layout": "IPY_MODEL_2c9a390b26464066807062b7c4685c38",
       "modisdate": "yesterday",
       "north": -90,
       "options": [
        "bounce_at_zoom_limits",
        "box_zoom",
        "center",
        "close_popup_on_click",
        "double_click_zoom",
        "dragging",
        "fullscreen",
        "inertia",
        "inertia_deceleration",
        "inertia_max_speed",
        "interpolation",
        "keyboard",
        "keyboard_pan_offset",
        "keyboard_zoom_offset",
        "max_zoom",
        "min_zoom",
        "scroll_wheel_zoom",
        "tap",
        "tap_tolerance",
        "touch_zoom",
        "world_copy_jump",
        "zoom",
        "zoom_animation_threshold",
        "zoom_start"
       ],
       "south": 90,
       "style": "IPY_MODEL_28f7c3d6d7264f4fabe300a2ce5e8f86",
       "west": 180,
       "zoom": 5
      }
     },
     "41ca183bddee4336b1b6b0c13712ed0c": {
      "model_module": "@jupyter-widgets/base",
      "model_module_version": "1.2.0",
      "model_name": "LayoutModel",
      "state": {}
     },
     "420490ae4419430d98925bd8b47fdd9b": {
      "model_module": "@jupyter-widgets/controls",
      "model_module_version": "1.5.0",
      "model_name": "HBoxModel",
      "state": {
       "children": [
        "IPY_MODEL_d3bbb73b214b453989caeb55e31ab2ad",
        "IPY_MODEL_df9ca5fd229244a38a81268e25187b70"
       ],
       "layout": "IPY_MODEL_e2135b7f69d8473fbf1abf3aede718d1"
      }
     },
     "42dcdda87daf475bad014df1c1bea3d7": {
      "model_module": "jupyter-leaflet",
      "model_module_version": "~0.9.2",
      "model_name": "LeafletMapModel",
      "state": {
       "_dom_classes": [],
       "_model_module_version": "~0.9.2",
       "_view_count": null,
       "_view_module_version": "~0.9.2",
       "basemap": {
        "attribution": "Tiles courtesy of <a href=\"http://openstreetmap.se/\" target=\"_blank\">OpenStreetMap Sweden</a> &mdash; Map data &copy; <a href=\"http://www.openstreetmap.org/copyright\">OpenStreetMap</a>",
        "max_zoom": 18,
        "name": "Hydda.Full",
        "url": "http://{s}.tile.openstreetmap.se/hydda/full/{z}/{x}/{y}.png"
       },
       "center": [
        53,
        10
       ],
       "east": 12.689208984375002,
       "interpolation": "bilinear",
       "layers": [
        "IPY_MODEL_d044652d4409436a940c7825d743b777"
       ],
       "layout": "IPY_MODEL_9ec9737151454ecf8902796fd725849f",
       "modisdate": "yesterday",
       "north": 53.657661020298,
       "options": [
        "attribution_control",
        "basemap",
        "bounce_at_zoom_limits",
        "box_zoom",
        "center",
        "close_popup_on_click",
        "double_click_zoom",
        "dragging",
        "inertia",
        "inertia_deceleration",
        "inertia_max_speed",
        "interpolation",
        "keyboard",
        "keyboard_pan_offset",
        "keyboard_zoom_offset",
        "max_zoom",
        "min_zoom",
        "scroll_wheel_zoom",
        "tap",
        "tap_tolerance",
        "touch_zoom",
        "world_copy_jump",
        "zoom",
        "zoom_animation_threshold",
        "zoom_control",
        "zoom_start"
       ],
       "south": 52.33533907188941,
       "west": 7.3114013671875,
       "zoom": 8
      }
     },
     "42fd8d9c6145400986720d1d0a18222c": {
      "model_module": "@jupyter-widgets/base",
      "model_module_version": "1.2.0",
      "model_name": "LayoutModel",
      "state": {}
     },
     "4345c2f388584bdba1ade7d67018ee20": {
      "model_module": "jupyter-leaflet",
      "model_module_version": "^0.12.1",
      "model_name": "LeafletAttributionControlModel",
      "state": {
       "_model_module_version": "^0.12.1",
       "_view_count": null,
       "_view_module_version": "^0.12.1",
       "options": [
        "position",
        "prefix"
       ],
       "position": "bottomright",
       "prefix": "Leaflet"
      }
     },
     "43933bd4413a48af838c728b2cebc042": {
      "model_module": "jupyter-leaflet",
      "model_module_version": "^0.12.1",
      "model_name": "LeafletTileLayerModel",
      "state": {
       "_model_module_version": "^0.12.1",
       "_view_count": null,
       "_view_module_version": "^0.12.1",
       "attribution": "&copy; <a href=\"http://www.openstreetmap.org/copyright\">OpenStreetMap</a> &copy; <a href=\"http://cartodb.com/attributions\">CartoDB</a>",
       "base": true,
       "loading": false,
       "max_native_zoom": 18,
       "max_zoom": 20,
       "min_native_zoom": 0,
       "min_zoom": 1,
       "name": "CartoDB.Positron",
       "no_wrap": false,
       "options": [
        "attribution",
        "detect_retina",
        "max_native_zoom",
        "max_zoom",
        "min_native_zoom",
        "min_zoom",
        "no_wrap",
        "tile_size",
        "tms"
       ],
       "url": "http://c.basemaps.cartocdn.com/light_all/{z}/{x}/{y}.png"
      }
     },
     "43a920990bbf48fc8dd248e7c4d0e2b6": {
      "model_module": "jupyter-leaflet",
      "model_module_version": "^0.12.1",
      "model_name": "LeafletMapStyleModel",
      "state": {
       "_model_module_version": "^0.12.1",
       "_view_count": null,
       "_view_module": "@jupyter-widgets/base",
       "_view_module_version": "1.2.0",
       "_view_name": "StyleView",
       "cursor": "grab"
      }
     },
     "43bc5574cfc34903bc95f04b2283d866": {
      "model_module": "jupyter-leaflet",
      "model_module_version": "^0.12.1",
      "model_name": "LeafletMapStyleModel",
      "state": {
       "_model_module_version": "^0.12.1",
       "_view_count": null,
       "_view_module": "@jupyter-widgets/base",
       "_view_module_version": "1.2.0",
       "_view_name": "StyleView",
       "cursor": "grab"
      }
     },
     "43f000f9e8c640f3b6d13f8a0ef2f10d": {
      "model_module": "jupyter-leaflet",
      "model_module_version": "^0.12.1",
      "model_name": "LeafletMapStyleModel",
      "state": {
       "_model_module_version": "^0.12.1",
       "_view_count": null,
       "_view_module": "@jupyter-widgets/base",
       "_view_module_version": "1.2.0",
       "_view_name": "StyleView",
       "cursor": "grab"
      }
     },
     "446e272488e945ddaed5b5daaca74015": {
      "model_module": "jupyter-leaflet",
      "model_module_version": "^0.12.1",
      "model_name": "LeafletMapStyleModel",
      "state": {
       "_model_module_version": "^0.12.1",
       "_view_count": null,
       "_view_module": "@jupyter-widgets/base",
       "_view_module_version": "1.2.0",
       "_view_name": "StyleView",
       "cursor": "grab"
      }
     },
     "44e10cc8005349f781d3d66b0b36684e": {
      "model_module": "jupyter-leaflet",
      "model_module_version": "^0.12.1",
      "model_name": "LeafletZoomControlModel",
      "state": {
       "_model_module_version": "^0.12.1",
       "_view_count": null,
       "_view_module_version": "^0.12.1",
       "options": [
        "position",
        "zoom_in_text",
        "zoom_in_title",
        "zoom_out_text",
        "zoom_out_title"
       ]
      }
     },
     "4555a699bd1049fb83f4f7004d4bc4a7": {
      "model_module": "jupyter-leaflet",
      "model_module_version": "^0.12.1",
      "model_name": "LeafletTileLayerModel",
      "state": {
       "_model_module_version": "^0.12.1",
       "_view_count": null,
       "_view_module_version": "^0.12.1",
       "attribution": "",
       "loading": false,
       "max_native_zoom": 18,
       "max_zoom": 19,
       "min_native_zoom": 0,
       "min_zoom": 1,
       "name": "Countries",
       "no_wrap": false,
       "options": [
        "attribution",
        "detect_retina",
        "max_native_zoom",
        "max_zoom",
        "min_native_zoom",
        "min_zoom",
        "no_wrap",
        "tile_size",
        "tms"
       ],
       "url": ""
      }
     },
     "460eb2dfac544ab8b3d98a458e2768fd": {
      "model_module": "@jupyter-widgets/base",
      "model_module_version": "1.2.0",
      "model_name": "LayoutModel",
      "state": {}
     },
     "46712550dc8c4b758b64c402a9409f5a": {
      "model_module": "jupyter-leaflet",
      "model_module_version": "^0.11.2",
      "model_name": "LeafletLayersControlModel",
      "state": {
       "_model_module_version": "^0.11.2",
       "_view_count": null,
       "_view_module_version": "^0.11.2",
       "options": [
        "position"
       ]
      }
     },
     "46a704f6fe6f4d1986cd072fa2378500": {
      "model_module": "jupyter-leaflet",
      "model_module_version": "^0.12.1",
      "model_name": "LeafletMapStyleModel",
      "state": {
       "_model_module_version": "^0.12.1",
       "_view_count": null,
       "_view_module": "@jupyter-widgets/base",
       "_view_module_version": "1.2.0",
       "_view_name": "StyleView",
       "cursor": "move"
      }
     },
     "46bb6d1b87ab4ff2a1be33d61538ef54": {
      "model_module": "jupyter-leaflet",
      "model_module_version": "^0.12.1",
      "model_name": "LeafletZoomControlModel",
      "state": {
       "_model_module_version": "^0.12.1",
       "_view_count": null,
       "_view_module_version": "^0.12.1",
       "options": [
        "position",
        "zoom_in_text",
        "zoom_in_title",
        "zoom_out_text",
        "zoom_out_title"
       ]
      }
     },
     "471125073c9e4c42a4b5a03d989e17ea": {
      "model_module": "jupyter-leaflet",
      "model_module_version": "~0.9.2",
      "model_name": "LeafletTileLayerModel",
      "state": {
       "_model_module_version": "~0.9.2",
       "_view_count": null,
       "_view_module_version": "~0.9.2",
       "attribution": "Map tiles by <a href=\"https://labs.strava.com/heatmap\">Strava 2017</a>",
       "max_zoom": 15,
       "min_zoom": 1,
       "name": "Strava.Water",
       "options": [
        "attribution",
        "detect_retina",
        "max_zoom",
        "min_zoom",
        "tile_size"
       ],
       "url": "https://heatmap-external-a.strava.com//tiles/water/blue/{z}/{x}/{y}.png?v=19"
      }
     },
     "472bda8109524630ab4133fe955f8eca": {
      "model_module": "@jupyter-widgets/controls",
      "model_module_version": "1.5.0",
      "model_name": "HBoxModel",
      "state": {
       "children": [
        "IPY_MODEL_2a0f6d89c0844b93a69ef9742d7acb6b",
        "IPY_MODEL_7e7a835db8084fe299e07b1884c59bcf"
       ],
       "layout": "IPY_MODEL_0c11214072764edba8f9975c92ea5cbd"
      }
     },
     "47a25e86543c4fdfaf3d6002b4f01841": {
      "model_module": "jupyter-leaflet",
      "model_module_version": "^0.12.1",
      "model_name": "LeafletTileLayerModel",
      "state": {
       "_model_module_version": "^0.12.1",
       "_view_count": null,
       "_view_module_version": "^0.12.1",
       "attribution": "Map tiles by <a href=\"https://labs.strava.com/heatmap\">Strava 2017</a>",
       "loading": false,
       "max_native_zoom": 18,
       "max_zoom": 15,
       "min_native_zoom": 0,
       "min_zoom": 1,
       "name": "Strava.All",
       "no_wrap": false,
       "options": [
        "attribution",
        "detect_retina",
        "max_native_zoom",
        "max_zoom",
        "min_native_zoom",
        "min_zoom",
        "no_wrap",
        "tile_size",
        "tms"
       ],
       "url": "https://heatmap-external-a.strava.com//tiles/all/hot/{z}/{x}/{y}.png?v=19"
      }
     },
     "481cee36ca27442696fbfa1532ce1a29": {
      "model_module": "jupyter-leaflet",
      "model_module_version": "^0.12.1",
      "model_name": "LeafletTileLayerModel",
      "state": {
       "_model_module_version": "^0.12.1",
       "_view_count": null,
       "_view_module_version": "^0.12.1",
       "attribution": "Tiles courtesy of <a href=\"http://openstreetmap.se/\" target=\"_blank\">OpenStreetMap Sweden</a> &mdash; Map data &copy; <a href=\"http://www.openstreetmap.org/copyright\">OpenStreetMap</a>",
       "base": true,
       "loading": false,
       "max_native_zoom": 18,
       "min_native_zoom": 0,
       "min_zoom": 1,
       "name": "Hydda.Full",
       "no_wrap": false,
       "options": [
        "attribution",
        "detect_retina",
        "max_native_zoom",
        "max_zoom",
        "min_native_zoom",
        "min_zoom",
        "no_wrap",
        "tile_size",
        "tms"
       ],
       "url": "http://{s}.tile.openstreetmap.se/hydda/full/{z}/{x}/{y}.png"
      }
     },
     "491292837b8e4402915c6ac10c0787a1": {
      "model_module": "jupyter-leaflet",
      "model_module_version": "^0.12.1",
      "model_name": "LeafletMapStyleModel",
      "state": {
       "_model_module_version": "^0.12.1",
       "_view_count": null,
       "_view_module": "@jupyter-widgets/base",
       "_view_module_version": "1.2.0",
       "_view_name": "StyleView",
       "cursor": "move"
      }
     },
     "4961ce892d9d47b29cba21e4fa250ca4": {
      "model_module": "jupyter-leaflet",
      "model_module_version": "~0.9.2",
      "model_name": "LeafletMapModel",
      "state": {
       "_dom_classes": [],
       "_model_module_version": "~0.9.2",
       "_view_count": null,
       "_view_module_version": "~0.9.2",
       "basemap": {
        "attribution": "Map data (c) <a href=\"https://openstreetmap.org\">OpenStreetMap</a> contributors",
        "max_zoom": 19,
        "url": "https://{s}.tile.openstreetmap.org/{z}/{x}/{y}.png"
       },
       "center": [
        48,
        7.9
       ],
       "east": 8.234252929687502,
       "interpolation": "bilinear",
       "layers": [
        "IPY_MODEL_097d33fd10394a13a45ecff73e88bfcc"
       ],
       "layout": "IPY_MODEL_26c8cccfc7024475b110da85655c7c03",
       "modisdate": "yesterday",
       "north": 48.18348549519126,
       "options": [
        "attribution_control",
        "basemap",
        "bounce_at_zoom_limits",
        "box_zoom",
        "center",
        "close_popup_on_click",
        "double_click_zoom",
        "dragging",
        "inertia",
        "inertia_deceleration",
        "inertia_max_speed",
        "interpolation",
        "keyboard",
        "keyboard_pan_offset",
        "keyboard_zoom_offset",
        "max_zoom",
        "min_zoom",
        "scroll_wheel_zoom",
        "tap",
        "tap_tolerance",
        "touch_zoom",
        "world_copy_jump",
        "zoom",
        "zoom_animation_threshold",
        "zoom_control",
        "zoom_start"
       ],
       "south": 47.81592114659014,
       "west": 7.565460205078126,
       "zoom": 10
      }
     },
     "4a01fe2be4374d299df3a3b1b1317c6e": {
      "model_module": "jupyter-leaflet",
      "model_module_version": "^0.12.1",
      "model_name": "LeafletAttributionControlModel",
      "state": {
       "_model_module_version": "^0.12.1",
       "_view_count": null,
       "_view_module_version": "^0.12.1",
       "options": [
        "position",
        "prefix"
       ],
       "position": "bottomright",
       "prefix": "Leaflet"
      }
     },
     "4a5560bfb9074e539258c81c802370d6": {
      "model_module": "@jupyter-widgets/controls",
      "model_module_version": "1.5.0",
      "model_name": "LabelModel",
      "state": {
       "layout": "IPY_MODEL_1c4fbcdefb7944fcb4f9bcb9e90631bc",
       "style": "IPY_MODEL_bc453944cdeb4621ac12ec07f7366b45"
      }
     },
     "4aafc4a9dd9d469ba9de94b718407ad9": {
      "model_module": "jupyter-leaflet",
      "model_module_version": "~0.9.2",
      "model_name": "LeafletTileLayerModel",
      "state": {
       "_model_module_version": "~0.9.2",
       "_view_count": null,
       "_view_module_version": "~0.9.2",
       "base": true,
       "max_zoom": 19,
       "min_zoom": 1,
       "options": [
        "attribution",
        "detect_retina",
        "max_zoom",
        "min_zoom",
        "tile_size"
       ]
      }
     },
     "4b0d5f61b81f46bfb6f2f03e6b3bf955": {
      "model_module": "@jupyter-widgets/base",
      "model_module_version": "1.2.0",
      "model_name": "LayoutModel",
      "state": {}
     },
     "4c3add49bf144c69ac20210e8ce65cfd": {
      "model_module": "@jupyter-widgets/base",
      "model_module_version": "1.2.0",
      "model_name": "LayoutModel",
      "state": {}
     },
     "4c6db0e191b241b898a3a90ae676ff82": {
      "model_module": "jupyter-leaflet",
      "model_module_version": "^0.12.1",
      "model_name": "LeafletMapStyleModel",
      "state": {
       "_model_module_version": "^0.12.1",
       "_view_count": null,
       "_view_module": "@jupyter-widgets/base",
       "_view_module_version": "1.2.0",
       "_view_name": "StyleView",
       "cursor": "move"
      }
     },
     "4cd768a1281a4aefa94079deaa0b7766": {
      "model_module": "jupyter-leaflet",
      "model_module_version": "^0.12.1",
      "model_name": "LeafletMapStyleModel",
      "state": {
       "_model_module_version": "^0.12.1",
       "_view_count": null,
       "_view_module": "@jupyter-widgets/base",
       "_view_module_version": "1.2.0",
       "_view_name": "StyleView",
       "cursor": "grab"
      }
     },
     "4d4bd6c78e2946e9ba05153dfcb13aac": {
      "model_module": "jupyter-leaflet",
      "model_module_version": "^0.12.1",
      "model_name": "LeafletWMSLayerModel",
      "state": {
       "_model_module_version": "^0.12.1",
       "_view_count": null,
       "_view_module_version": "^0.12.1",
       "attribution": "Weather data © 2012 IEM Nexrad",
       "crs": "EPSG3857",
       "format": "image/png",
       "layers": "nexrad-n0r-wmst",
       "loading": false,
       "max_native_zoom": 18,
       "min_native_zoom": 0,
       "no_wrap": false,
       "options": [
        "attribution",
        "detect_retina",
        "format",
        "layers",
        "max_native_zoom",
        "max_zoom",
        "min_native_zoom",
        "min_zoom",
        "no_wrap",
        "styles",
        "tile_size",
        "time",
        "tms",
        "transparent",
        "uppercase"
       ],
       "time": "2005-08-29T19:00",
       "transparent": true,
       "url": "https://mesonet.agron.iastate.edu/cgi-bin/wms/nexrad/n0r-t.cgi?"
      }
     },
     "4de792ac64a54215883e27166ac292ce": {
      "model_module": "@jupyter-widgets/base",
      "model_module_version": "1.2.0",
      "model_name": "LayoutModel",
      "state": {}
     },
     "4e0e07ee2a7a4fda969060facdd69bbc": {
      "model_module": "jupyter-leaflet",
      "model_module_version": "^0.12.1",
      "model_name": "LeafletZoomControlModel",
      "state": {
       "_model_module_version": "^0.12.1",
       "_view_count": null,
       "_view_module_version": "^0.12.1",
       "options": [
        "position",
        "zoom_in_text",
        "zoom_in_title",
        "zoom_out_text",
        "zoom_out_title"
       ]
      }
     },
     "4e2f946ec3f24e0d897f11f9e16da6ec": {
      "model_module": "jupyter-leaflet",
      "model_module_version": "^0.12.1",
      "model_name": "LeafletMapStyleModel",
      "state": {
       "_model_module_version": "^0.12.1",
       "_view_count": null,
       "_view_module": "@jupyter-widgets/base",
       "_view_module_version": "1.2.0",
       "_view_name": "StyleView",
       "cursor": "grab"
      }
     },
     "4e7542449cd04647821d20ec037acb03": {
      "model_module": "@jupyter-widgets/controls",
      "model_module_version": "1.5.0",
      "model_name": "HBoxModel",
      "state": {
       "children": [
        "IPY_MODEL_2a0f6d89c0844b93a69ef9742d7acb6b",
        "IPY_MODEL_5d47848ad1a844f1b1c09968d254f31f"
       ],
       "layout": "IPY_MODEL_9d80ea246f28492c828e8921e018abc7"
      }
     },
     "4e7caa70ef2b4fecafac5be50db06304": {
      "model_module": "@jupyter-widgets/base",
      "model_module_version": "1.2.0",
      "model_name": "LayoutModel",
      "state": {}
     },
     "4ec9045d69e64cd9b046653435bd6164": {
      "model_module": "@jupyter-widgets/controls",
      "model_module_version": "1.5.0",
      "model_name": "HBoxModel",
      "state": {
       "children": [
        "IPY_MODEL_2a0f6d89c0844b93a69ef9742d7acb6b",
        "IPY_MODEL_6a178c4829404185a9a28fb79bf9d6ea"
       ],
       "layout": "IPY_MODEL_cf4722e2545242bf8e2e8bd111ac36a2"
      }
     },
     "4f267a0229024f60bf19ec37620eba8f": {
      "model_module": "jupyter-leaflet",
      "model_module_version": "^0.12.1",
      "model_name": "LeafletMapModel",
      "state": {
       "_dom_classes": [],
       "_model_module_version": "^0.12.1",
       "_view_count": null,
       "_view_module_version": "^0.12.1",
       "center": [
        48.00003067321043,
        7.899856567382813
       ],
       "controls": [
        "IPY_MODEL_7b10cdfb0eea41559084a64a3afd0e82",
        "IPY_MODEL_32ab0b86c526433bbddf91e0e2ce1f7e"
       ],
       "default_style": "IPY_MODEL_0f2e0c4606484abea8a66bd642a20ab6",
       "dragging_style": "IPY_MODEL_0602858f31d0429cac7bdb06a9b1aeef",
       "east": 8.217773437500002,
       "fullscreen": false,
       "interpolation": "bilinear",
       "layers": [
        "IPY_MODEL_951a935c88d4460ca625c4b9194aac53"
       ],
       "layout": "IPY_MODEL_8b13f38ac565429390bb4b163f012b0c",
       "modisdate": "yesterday",
       "north": 48.18348549519126,
       "options": [
        "bounce_at_zoom_limits",
        "box_zoom",
        "center",
        "close_popup_on_click",
        "double_click_zoom",
        "dragging",
        "fullscreen",
        "inertia",
        "inertia_deceleration",
        "inertia_max_speed",
        "interpolation",
        "keyboard",
        "keyboard_pan_offset",
        "keyboard_zoom_offset",
        "max_zoom",
        "min_zoom",
        "scroll_wheel_zoom",
        "tap",
        "tap_tolerance",
        "touch_zoom",
        "world_copy_jump",
        "zoom",
        "zoom_animation_threshold",
        "zoom_start"
       ],
       "south": 47.81592114659014,
       "style": "IPY_MODEL_0f2e0c4606484abea8a66bd642a20ab6",
       "west": 7.581939697265626,
       "zoom": 10
      }
     },
     "4fba4ca5e58944db8b8de0c57ff1c431": {
      "model_module": "@jupyter-widgets/base",
      "model_module_version": "1.2.0",
      "model_name": "LayoutModel",
      "state": {}
     },
     "510d6df6ce51481abb2eb1e110eeef13": {
      "model_module": "@jupyter-widgets/base",
      "model_module_version": "1.2.0",
      "model_name": "LayoutModel",
      "state": {}
     },
     "51241fb3935c4d719e27f38ca5293ddc": {
      "model_module": "jupyter-leaflet",
      "model_module_version": "^0.12.1",
      "model_name": "LeafletZoomControlModel",
      "state": {
       "_model_module_version": "^0.12.1",
       "_view_count": null,
       "_view_module_version": "^0.12.1",
       "options": [
        "position",
        "zoom_in_text",
        "zoom_in_title",
        "zoom_out_text",
        "zoom_out_title"
       ]
      }
     },
     "5222473b23a241cda44455d33b7add87": {
      "model_module": "jupyter-leaflet",
      "model_module_version": "^0.12.1",
      "model_name": "LeafletZoomControlModel",
      "state": {
       "_model_module_version": "^0.12.1",
       "_view_count": null,
       "_view_module_version": "^0.12.1",
       "options": [
        "position",
        "zoom_in_text",
        "zoom_in_title",
        "zoom_out_text",
        "zoom_out_title"
       ]
      }
     },
     "53db0ea77b78447ab66232b2362065dc": {
      "model_module": "@jupyter-widgets/base",
      "model_module_version": "1.2.0",
      "model_name": "LayoutModel",
      "state": {}
     },
     "53fde5729fde4f1385a251ad6199b68f": {
      "model_module": "jupyter-leaflet",
      "model_module_version": "~0.9.2",
      "model_name": "LeafletTileLayerModel",
      "state": {
       "_model_module_version": "~0.9.2",
       "_view_count": null,
       "_view_module_version": "~0.9.2",
       "base": true,
       "max_zoom": 19,
       "min_zoom": 1,
       "options": [
        "attribution",
        "detect_retina",
        "max_zoom",
        "min_zoom",
        "tile_size"
       ]
      }
     },
     "550e7b41d5374380a8bba4c9d014f3d7": {
      "model_module": "@jupyter-widgets/controls",
      "model_module_version": "1.5.0",
      "model_name": "LabelModel",
      "state": {
       "layout": "IPY_MODEL_564d80f0c5c64dd6a966df4319f6e856",
       "style": "IPY_MODEL_276d80fd6afa4b68ad1403d235d3ee29",
       "value": "[47.538775577269845, 5.992220192516028]"
      }
     },
     "551e62d47e8e44878e90bd4a2ff5a967": {
      "model_module": "jupyter-leaflet",
      "model_module_version": "^0.11.2",
      "model_name": "LeafletMapStyleModel",
      "state": {
       "_model_module_version": "^0.11.2",
       "_view_count": null,
       "_view_module": "@jupyter-widgets/base",
       "_view_module_version": "1.2.0",
       "_view_name": "StyleView",
       "cursor": "move"
      }
     },
     "5544e4f350d341c6adf5d920bd31b071": {
      "model_module": "jupyter-leaflet",
      "model_module_version": "^0.12.1",
      "model_name": "LeafletTileLayerModel",
      "state": {
       "_model_module_version": "^0.12.1",
       "_view_count": null,
       "_view_module_version": "^0.12.1",
       "attribution": "Map tiles by <a href=\"https://labs.strava.com/heatmap\">Strava 2017</a>",
       "loading": false,
       "max_native_zoom": 18,
       "max_zoom": 15,
       "min_native_zoom": 0,
       "min_zoom": 1,
       "name": "Strava.Water",
       "no_wrap": false,
       "options": [
        "attribution",
        "detect_retina",
        "max_native_zoom",
        "max_zoom",
        "min_native_zoom",
        "min_zoom",
        "no_wrap",
        "tile_size",
        "tms"
       ],
       "url": "https://heatmap-external-a.strava.com//tiles/water/blue/{z}/{x}/{y}.png?v=19"
      }
     },
     "5605723188ca4f8ab51639cac498a325": {
      "model_module": "@jupyter-widgets/base",
      "model_module_version": "1.2.0",
      "model_name": "LayoutModel",
      "state": {}
     },
     "561eef377cf749f3904bdba3790bd0bd": {
      "model_module": "jupyter-leaflet",
      "model_module_version": "^0.12.1",
      "model_name": "LeafletTileLayerModel",
      "state": {
       "_model_module_version": "^0.12.1",
       "_view_count": null,
       "_view_module_version": "^0.12.1",
       "attribution": "Tiles courtesy of <a href=\"http://openstreetmap.se/\" target=\"_blank\">OpenStreetMap Sweden</a> &mdash; Map data &copy; <a href=\"http://www.openstreetmap.org/copyright\">OpenStreetMap</a>",
       "base": true,
       "loading": false,
       "max_native_zoom": 18,
       "min_native_zoom": 0,
       "min_zoom": 1,
       "name": "Hydda.Full",
       "no_wrap": false,
       "options": [
        "attribution",
        "detect_retina",
        "max_native_zoom",
        "max_zoom",
        "min_native_zoom",
        "min_zoom",
        "no_wrap",
        "tile_size",
        "tms"
       ],
       "url": "http://{s}.tile.openstreetmap.se/hydda/full/{z}/{x}/{y}.png"
      }
     },
     "564d80f0c5c64dd6a966df4319f6e856": {
      "model_module": "@jupyter-widgets/base",
      "model_module_version": "1.2.0",
      "model_name": "LayoutModel",
      "state": {}
     },
     "564fbdf5cda548b8ba9b6994e26b8ff3": {
      "model_module": "@jupyter-widgets/base",
      "model_module_version": "1.2.0",
      "model_name": "LayoutModel",
      "state": {}
     },
     "56f9f0afa29a42bd8c358d73505fd84c": {
      "model_module": "@jupyter-widgets/base",
      "model_module_version": "1.2.0",
      "model_name": "LayoutModel",
      "state": {}
     },
     "57293d8c444b44868b65b3cdc0c735e6": {
      "model_module": "@jupyter-widgets/base",
      "model_module_version": "1.2.0",
      "model_name": "LayoutModel",
      "state": {}
     },
     "5798e5a4972e4369b980bbc193d11dd4": {
      "model_module": "jupyter-leaflet",
      "model_module_version": "^0.12.1",
      "model_name": "LeafletZoomControlModel",
      "state": {
       "_model_module_version": "^0.12.1",
       "_view_count": null,
       "_view_module_version": "^0.12.1",
       "options": [
        "position",
        "zoom_in_text",
        "zoom_in_title",
        "zoom_out_text",
        "zoom_out_title"
       ]
      }
     },
     "57d3286dd9b94cda839fe111439a9cf9": {
      "model_module": "@jupyter-widgets/base",
      "model_module_version": "1.2.0",
      "model_name": "LayoutModel",
      "state": {}
     },
     "57e42831deef46b7ac3e66faea98c235": {
      "model_module": "jupyter-leaflet",
      "model_module_version": "^0.11.2",
      "model_name": "LeafletMapModel",
      "state": {
       "_dom_classes": [],
       "_model_module_version": "^0.11.2",
       "_view_count": null,
       "_view_module_version": "^0.11.2",
       "basemap": {
        "attribution": "Tiles courtesy of <a href=\"http://openstreetmap.se/\" target=\"_blank\">OpenStreetMap Sweden</a> &mdash; Map data &copy; <a href=\"http://www.openstreetmap.org/copyright\">OpenStreetMap</a>",
        "max_zoom": 18,
        "name": "Hydda.Full",
        "url": "http://{s}.tile.openstreetmap.se/hydda/full/{z}/{x}/{y}.png"
       },
       "center": [
        48,
        8
       ],
       "controls": [
        "IPY_MODEL_3367f8480ba24020837761d7513d46a2",
        "IPY_MODEL_63d75f2895eb4ee9b33954b555abcf91"
       ],
       "default_style": "IPY_MODEL_60aecd227c674b9c82f90b824bb4aefb",
       "dragging_style": "IPY_MODEL_2093c1345e8b441f823f2578f924e393",
       "east": 10.695190429687502,
       "fullscreen": false,
       "interpolation": "bilinear",
       "layers": [
        "IPY_MODEL_ce994f6d9c2c4a80abb4152ef633f2cd",
        "IPY_MODEL_3e52058b50334d04a5921896927fbd55"
       ],
       "layout": "IPY_MODEL_3b3c412c35514bec9eb0d7b8618fa892",
       "modisdate": "yesterday",
       "north": 48.73083222613518,
       "options": [
        "basemap",
        "bounce_at_zoom_limits",
        "box_zoom",
        "center",
        "close_popup_on_click",
        "double_click_zoom",
        "dragging",
        "fullscreen",
        "inertia",
        "inertia_deceleration",
        "inertia_max_speed",
        "interpolation",
        "keyboard",
        "keyboard_pan_offset",
        "keyboard_zoom_offset",
        "max_zoom",
        "min_zoom",
        "scroll_wheel_zoom",
        "tap",
        "tap_tolerance",
        "touch_zoom",
        "world_copy_jump",
        "zoom",
        "zoom_animation_threshold",
        "zoom_start"
       ],
       "south": 47.260592193424706,
       "style": "IPY_MODEL_6bcc93df14d544b4894c65636f7301e3",
       "west": 5.300903320312501,
       "zoom": 8
      }
     },
     "5818fb24828c4c3eb89c7f7944b940e7": {
      "model_module": "jupyter-leaflet",
      "model_module_version": "^0.12.1",
      "model_name": "LeafletTileLayerModel",
      "state": {
       "_model_module_version": "^0.12.1",
       "_view_count": null,
       "_view_module_version": "^0.12.1",
       "attribution": "Tiles courtesy of <a href=\"http://openstreetmap.se/\" target=\"_blank\">OpenStreetMap Sweden</a> &mdash; Map data &copy; <a href=\"http://www.openstreetmap.org/copyright\">OpenStreetMap</a>",
       "base": true,
       "loading": false,
       "max_native_zoom": 18,
       "min_native_zoom": 0,
       "min_zoom": 1,
       "name": "Hydda.Full",
       "no_wrap": false,
       "options": [
        "attribution",
        "detect_retina",
        "max_native_zoom",
        "max_zoom",
        "min_native_zoom",
        "min_zoom",
        "no_wrap",
        "tile_size",
        "tms"
       ],
       "url": "http://{s}.tile.openstreetmap.se/hydda/full/{z}/{x}/{y}.png"
      }
     },
     "588226bd8ddd4944b7658e5e9b02afe0": {
      "model_module": "jupyter-leaflet",
      "model_module_version": "^0.11.2",
      "model_name": "LeafletAttributionControlModel",
      "state": {
       "_model_module_version": "^0.11.2",
       "_view_count": null,
       "_view_module_version": "^0.11.2",
       "options": [
        "position",
        "prefix"
       ],
       "position": "bottomright",
       "prefix": "Leaflet"
      }
     },
     "5a2292fb651a448697d3884fd7389aa7": {
      "model_module": "jupyter-leaflet",
      "model_module_version": "^0.12.1",
      "model_name": "LeafletMapStyleModel",
      "state": {
       "_model_module_version": "^0.12.1",
       "_view_count": null,
       "_view_module": "@jupyter-widgets/base",
       "_view_module_version": "1.2.0",
       "_view_name": "StyleView",
       "cursor": "move"
      }
     },
     "5b31696a5483464f9379646cb1c1fd35": {
      "model_module": "jupyter-leaflet",
      "model_module_version": "~0.9.2",
      "model_name": "LeafletTileLayerModel",
      "state": {
       "_model_module_version": "~0.9.2",
       "_view_count": null,
       "_view_module_version": "~0.9.2",
       "attribution": "",
       "max_zoom": 19,
       "min_zoom": 1,
       "name": "Countries",
       "options": [
        "attribution",
        "detect_retina",
        "max_zoom",
        "min_zoom",
        "tile_size"
       ],
       "url": ""
      }
     },
     "5bd4e9b3553f444f8e312641b88e3422": {
      "model_module": "jupyter-leaflet",
      "model_module_version": "^0.12.1",
      "model_name": "LeafletMapModel",
      "state": {
       "_dom_classes": [],
       "_model_module_version": "^0.12.1",
       "_view_count": null,
       "_view_module_version": "^0.12.1",
       "center": [
        48,
        8
       ],
       "controls": [
        "IPY_MODEL_7bc44c108faa449283fa300e2446cc6e",
        "IPY_MODEL_4a01fe2be4374d299df3a3b1b1317c6e",
        "IPY_MODEL_20b0e6d981264b53ae5392d991da2fde"
       ],
       "default_style": "IPY_MODEL_1f73511aca5f48faaba84e7363ba5f72",
       "dragging_style": "IPY_MODEL_7fe7bd820a554b308ba582745da4cf57",
       "east": 10.634765625,
       "fullscreen": false,
       "interpolation": "bilinear",
       "layers": [
        "IPY_MODEL_a580ed8015b24caf83d3856441e11a3f",
        "IPY_MODEL_3ae1bf1bae734e269b52aed8aefa8e01",
        "IPY_MODEL_3e5adfbfc39648a9a5f5dfaab95d404b"
       ],
       "layout": "IPY_MODEL_32cd9f43bab54e92b819bcaf368400ea",
       "modisdate": "yesterday",
       "north": 48.73083222613518,
       "options": [
        "bounce_at_zoom_limits",
        "box_zoom",
        "center",
        "close_popup_on_click",
        "double_click_zoom",
        "dragging",
        "fullscreen",
        "inertia",
        "inertia_deceleration",
        "inertia_max_speed",
        "interpolation",
        "keyboard",
        "keyboard_pan_offset",
        "keyboard_zoom_offset",
        "max_zoom",
        "min_zoom",
        "scroll_wheel_zoom",
        "tap",
        "tap_tolerance",
        "touch_zoom",
        "world_copy_jump",
        "zoom",
        "zoom_animation_threshold",
        "zoom_start"
       ],
       "south": 47.260592193424706,
       "style": "IPY_MODEL_1f73511aca5f48faaba84e7363ba5f72",
       "west": 5.366821289062501,
       "zoom": 8
      }
     },
     "5d47848ad1a844f1b1c09968d254f31f": {
      "model_module": "jupyter-leaflet",
      "model_module_version": "~0.9.2",
      "model_name": "LeafletMapModel",
      "state": {
       "_dom_classes": [],
       "_model_module_version": "~0.9.2",
       "_view_count": null,
       "_view_module_version": "~0.9.2",
       "basemap": {
        "attribution": "Map data (c) <a href=\"https://openstreetmap.org\">OpenStreetMap</a> contributors",
        "max_zoom": 19,
        "url": "https://{s}.tile.openstreetmap.org/{z}/{x}/{y}.png"
       },
       "center": [
        47.6,
        8.44
       ],
       "east": 8.773956298828127,
       "interpolation": "bilinear",
       "layers": [
        "IPY_MODEL_53fde5729fde4f1385a251ad6199b68f"
       ],
       "layout": "IPY_MODEL_0528c8f3a73a424a83aa84ae61821e35",
       "modisdate": "yesterday",
       "north": 47.78455738546879,
       "options": [
        "attribution_control",
        "basemap",
        "bounce_at_zoom_limits",
        "box_zoom",
        "center",
        "close_popup_on_click",
        "double_click_zoom",
        "dragging",
        "inertia",
        "inertia_deceleration",
        "inertia_max_speed",
        "interpolation",
        "keyboard",
        "keyboard_pan_offset",
        "keyboard_zoom_offset",
        "max_zoom",
        "min_zoom",
        "scroll_wheel_zoom",
        "tap",
        "tap_tolerance",
        "touch_zoom",
        "world_copy_jump",
        "zoom",
        "zoom_animation_threshold",
        "zoom_control",
        "zoom_start"
       ],
       "south": 47.414149636384714,
       "west": 8.105163574218752,
       "zoom": 10
      }
     },
     "5ddc9998437e44468f3ec749590d8edd": {
      "model_module": "jupyter-leaflet",
      "model_module_version": "^0.12.1",
      "model_name": "LeafletMapStyleModel",
      "state": {
       "_model_module_version": "^0.12.1",
       "_view_count": null,
       "_view_module": "@jupyter-widgets/base",
       "_view_module_version": "1.2.0",
       "_view_name": "StyleView",
       "cursor": "grab"
      }
     },
     "5e36ed03ac1b4eeba3bebcd8569ad01a": {
      "model_module": "@jupyter-widgets/controls",
      "model_module_version": "1.5.0",
      "model_name": "SelectionSliderModel",
      "state": {
       "_options_labels": [
        "13:00",
        "13:30",
        "14:00",
        "14:30",
        "15:00",
        "15:30",
        "16:00",
        "16:30"
       ],
       "description": "Time:",
       "index": 0,
       "layout": "IPY_MODEL_bf20536804d2415fb738261642789099",
       "style": "IPY_MODEL_ef59dfa5b67d4b7ba97d418220caad65"
      }
     },
     "5e4b909094b14951ace4f41872ab5dd5": {
      "model_module": "jupyter-leaflet",
      "model_module_version": "~0.9.2",
      "model_name": "LeafletTileLayerModel",
      "state": {
       "_model_module_version": "~0.9.2",
       "_view_count": null,
       "_view_module_version": "~0.9.2",
       "attribution": "Tiles courtesy of <a href=\"http://openstreetmap.se/\" target=\"_blank\">OpenStreetMap Sweden</a> &mdash; Map data &copy; <a href=\"http://www.openstreetmap.org/copyright\">OpenStreetMap</a>",
       "base": true,
       "min_zoom": 1,
       "name": "Hydda.Full",
       "options": [
        "attribution",
        "detect_retina",
        "max_zoom",
        "min_zoom",
        "tile_size"
       ],
       "url": "http://{s}.tile.openstreetmap.se/hydda/full/{z}/{x}/{y}.png"
      }
     },
     "5eada4b0bcb743ceb221bc89d6010ccc": {
      "model_module": "@jupyter-widgets/base",
      "model_module_version": "1.2.0",
      "model_name": "LayoutModel",
      "state": {}
     },
     "5ebfe503a9774cc19803cb4554766bdf": {
      "model_module": "@jupyter-widgets/controls",
      "model_module_version": "1.5.0",
      "model_name": "DescriptionStyleModel",
      "state": {
       "description_width": ""
      }
     },
     "5f1157722f7947e181d10ef209f82505": {
      "model_module": "@jupyter-widgets/base",
      "model_module_version": "1.2.0",
      "model_name": "LayoutModel",
      "state": {}
     },
     "5f3b54a653cd494ea7b22ccc02ee0048": {
      "model_module": "jupyter-leaflet",
      "model_module_version": "^0.12.1",
      "model_name": "LeafletTileLayerModel",
      "state": {
       "_model_module_version": "^0.12.1",
       "_view_count": null,
       "_view_module_version": "^0.12.1",
       "attribution": "&copy; <a href=\"http://www.openstreetmap.org/copyright\">OpenStreetMap</a> &copy; <a href=\"http://cartodb.com/attributions\">CartoDB</a>",
       "base": true,
       "loading": false,
       "max_native_zoom": 18,
       "max_zoom": 20,
       "min_native_zoom": 0,
       "min_zoom": 1,
       "name": "CartoDB.Positron",
       "no_wrap": false,
       "options": [
        "attribution",
        "detect_retina",
        "max_native_zoom",
        "max_zoom",
        "min_native_zoom",
        "min_zoom",
        "no_wrap",
        "tile_size",
        "tms"
       ],
       "url": "http://c.basemaps.cartocdn.com/light_all/{z}/{x}/{y}.png"
      }
     },
     "5f6a00ce8b31467fa3a87e9d92ee483d": {
      "model_module": "jupyter-leaflet",
      "model_module_version": "~0.9.2",
      "model_name": "LeafletTileLayerModel",
      "state": {
       "_model_module_version": "~0.9.2",
       "_view_count": null,
       "_view_module_version": "~0.9.2",
       "attribution": "Map tiles by <a href=\"https://labs.strava.com/heatmap\">Strava 2017</a>",
       "max_zoom": 15,
       "min_zoom": 1,
       "name": "Strava.All",
       "options": [
        "attribution",
        "detect_retina",
        "max_zoom",
        "min_zoom",
        "tile_size"
       ],
       "url": "https://heatmap-external-a.strava.com//tiles/all/hot/{z}/{x}/{y}.png?v=19"
      }
     },
     "5fb96163d5f94d63bd132364e822048e": {
      "model_module": "@jupyter-widgets/base",
      "model_module_version": "1.2.0",
      "model_name": "LayoutModel",
      "state": {}
     },
     "603a6893503e4884bfe82824810d6382": {
      "model_module": "jupyter-leaflet",
      "model_module_version": "^0.12.1",
      "model_name": "LeafletMapModel",
      "state": {
       "_dom_classes": [],
       "_model_module_version": "^0.12.1",
       "_view_count": null,
       "_view_module_version": "^0.12.1",
       "center": [
        30.661,
        -88.645
       ],
       "controls": [
        "IPY_MODEL_88c35b9843de4e549947412a0f996ccf",
        "IPY_MODEL_36689022b3bd4868a3c5ca0e38157ce7"
       ],
       "default_style": "IPY_MODEL_7a7b36ff81fd4f7a85c0e934113caf39",
       "dragging_style": "IPY_MODEL_9cedd982cc9a4789b3a7b675bf727210",
       "east": -67.58789062500001,
       "fullscreen": false,
       "interpolation": "bilinear",
       "layers": [
        "IPY_MODEL_920695e79b5548a18dd6daf0410415a9",
        "IPY_MODEL_f4ae894d08be4f55b61346a63b305042"
       ],
       "layout": "IPY_MODEL_8e80213883d64a7b8efd4f589f82f8c4",
       "modisdate": "yesterday",
       "north": 37.92686760148135,
       "options": [
        "bounce_at_zoom_limits",
        "box_zoom",
        "center",
        "close_popup_on_click",
        "double_click_zoom",
        "dragging",
        "fullscreen",
        "inertia",
        "inertia_deceleration",
        "inertia_max_speed",
        "interpolation",
        "keyboard",
        "keyboard_pan_offset",
        "keyboard_zoom_offset",
        "max_zoom",
        "min_zoom",
        "scroll_wheel_zoom",
        "tap",
        "tap_tolerance",
        "touch_zoom",
        "world_copy_jump",
        "zoom",
        "zoom_animation_threshold",
        "zoom_start"
       ],
       "south": 22.836945920943855,
       "style": "IPY_MODEL_cee205ba2a844b23b5d51279e2ab8997",
       "west": -109.73144531250001,
       "zoom": 5
      }
     },
     "60895ce9cb214ced84daaef76effdf05": {
      "model_module": "@jupyter-widgets/base",
      "model_module_version": "1.2.0",
      "model_name": "LayoutModel",
      "state": {}
     },
     "60aecd227c674b9c82f90b824bb4aefb": {
      "model_module": "jupyter-leaflet",
      "model_module_version": "^0.11.2",
      "model_name": "LeafletMapStyleModel",
      "state": {
       "_model_module_version": "^0.11.2",
       "_view_count": null,
       "_view_module": "@jupyter-widgets/base",
       "_view_module_version": "1.2.0",
       "_view_name": "StyleView",
       "cursor": "grab"
      }
     },
     "60c62504f65147ffa66aefd9f2bc0e39": {
      "model_module": "@jupyter-widgets/base",
      "model_module_version": "1.2.0",
      "model_name": "LayoutModel",
      "state": {}
     },
     "60ea836d16ac48ff80ccf9667d7a6d44": {
      "model_module": "jupyter-leaflet",
      "model_module_version": "~0.9.2",
      "model_name": "LeafletTileLayerModel",
      "state": {
       "_model_module_version": "~0.9.2",
       "_view_count": null,
       "_view_module_version": "~0.9.2",
       "attribution": "Tiles courtesy of <a href=\"http://openstreetmap.se/\" target=\"_blank\">OpenStreetMap Sweden</a> &mdash; Map data &copy; <a href=\"http://www.openstreetmap.org/copyright\">OpenStreetMap</a>",
       "base": true,
       "min_zoom": 1,
       "name": "Hydda.Full",
       "options": [
        "attribution",
        "detect_retina",
        "max_zoom",
        "min_zoom",
        "tile_size"
       ],
       "url": "http://{s}.tile.openstreetmap.se/hydda/full/{z}/{x}/{y}.png"
      }
     },
     "624a2008efbd425783da7326e12a3a65": {
      "model_module": "jupyter-leaflet",
      "model_module_version": "^0.12.1",
      "model_name": "LeafletTileLayerModel",
      "state": {
       "_model_module_version": "^0.12.1",
       "_view_count": null,
       "_view_module_version": "^0.12.1",
       "attribution": "Tiles courtesy of <a href=\"http://openstreetmap.se/\" target=\"_blank\">OpenStreetMap Sweden</a> &mdash; Map data &copy; <a href=\"http://www.openstreetmap.org/copyright\">OpenStreetMap</a>",
       "base": true,
       "loading": false,
       "max_native_zoom": 18,
       "min_native_zoom": 0,
       "min_zoom": 1,
       "name": "Hydda.Full",
       "no_wrap": false,
       "options": [
        "attribution",
        "detect_retina",
        "max_native_zoom",
        "max_zoom",
        "min_native_zoom",
        "min_zoom",
        "no_wrap",
        "tile_size",
        "tms"
       ],
       "url": "http://{s}.tile.openstreetmap.se/hydda/full/{z}/{x}/{y}.png"
      }
     },
     "62cbe93b228948d6bb860d02fc4757ed": {
      "model_module": "jupyter-leaflet",
      "model_module_version": "^0.12.1",
      "model_name": "LeafletMapStyleModel",
      "state": {
       "_model_module_version": "^0.12.1",
       "_view_count": null,
       "_view_module": "@jupyter-widgets/base",
       "_view_module_version": "1.2.0",
       "_view_name": "StyleView",
       "cursor": "grab"
      }
     },
     "63c2ff9aebf047c0ac6e5ac8c9e78a1c": {
      "model_module": "jupyter-leaflet",
      "model_module_version": "^0.12.1",
      "model_name": "LeafletMapModel",
      "state": {
       "_dom_classes": [],
       "_model_module_version": "^0.12.1",
       "_view_count": null,
       "_view_module_version": "^0.12.1",
       "center": [
        48,
        7.9
       ],
       "controls": [
        "IPY_MODEL_51241fb3935c4d719e27f38ca5293ddc",
        "IPY_MODEL_7e7ee55950904cf38f28d9938ff622b5"
       ],
       "default_style": "IPY_MODEL_74b5c9c1d60f4ac8a32292173d98b480",
       "dragging_style": "IPY_MODEL_9968de95942445afa52f32d511e61aee",
       "east": 8.217773437500002,
       "fullscreen": false,
       "interpolation": "bilinear",
       "layers": [
        "IPY_MODEL_d65b34a5518b4b5a8163c27fc45ff852"
       ],
       "layout": "IPY_MODEL_c03b2d717c914f31a2c8ebaf7a72710a",
       "modisdate": "yesterday",
       "north": 48.18348549519126,
       "options": [
        "bounce_at_zoom_limits",
        "box_zoom",
        "center",
        "close_popup_on_click",
        "double_click_zoom",
        "dragging",
        "fullscreen",
        "inertia",
        "inertia_deceleration",
        "inertia_max_speed",
        "interpolation",
        "keyboard",
        "keyboard_pan_offset",
        "keyboard_zoom_offset",
        "max_zoom",
        "min_zoom",
        "scroll_wheel_zoom",
        "tap",
        "tap_tolerance",
        "touch_zoom",
        "world_copy_jump",
        "zoom",
        "zoom_animation_threshold",
        "zoom_start"
       ],
       "south": 47.81592114659014,
       "style": "IPY_MODEL_74b5c9c1d60f4ac8a32292173d98b480",
       "west": 7.581939697265626,
       "zoom": 10
      }
     },
     "63d75f2895eb4ee9b33954b555abcf91": {
      "model_module": "jupyter-leaflet",
      "model_module_version": "^0.11.2",
      "model_name": "LeafletAttributionControlModel",
      "state": {
       "_model_module_version": "^0.11.2",
       "_view_count": null,
       "_view_module_version": "^0.11.2",
       "options": [
        "position",
        "prefix"
       ],
       "position": "bottomright",
       "prefix": "Leaflet"
      }
     },
     "644d8a01d2de4b5db9005b5e27c4aaf0": {
      "model_module": "jupyter-leaflet",
      "model_module_version": "^0.12.1",
      "model_name": "LeafletZoomControlModel",
      "state": {
       "_model_module_version": "^0.12.1",
       "_view_count": null,
       "_view_module_version": "^0.12.1",
       "options": [
        "position",
        "zoom_in_text",
        "zoom_in_title",
        "zoom_out_text",
        "zoom_out_title"
       ]
      }
     },
     "64c42b5128c94f469b55275322914b01": {
      "model_module": "@jupyter-widgets/controls",
      "model_module_version": "1.5.0",
      "model_name": "HBoxModel",
      "state": {
       "children": [
        "IPY_MODEL_2a0f6d89c0844b93a69ef9742d7acb6b",
        "IPY_MODEL_08f6b83ea4064992b203b7b3bac22de6"
       ],
       "layout": "IPY_MODEL_7152416fb1e14e279754ffde7e9e5336"
      }
     },
     "673d5bb0a8854681b4124726d28594da": {
      "model_module": "jupyter-leaflet",
      "model_module_version": "^0.12.1",
      "model_name": "LeafletMapModel",
      "state": {
       "_dom_classes": [],
       "_model_module_version": "^0.12.1",
       "_view_count": null,
       "_view_module_version": "^0.12.1",
       "center": [
        48,
        7.9
       ],
       "controls": [
        "IPY_MODEL_4e0e07ee2a7a4fda969060facdd69bbc",
        "IPY_MODEL_20da4c7914874d7f809d21665687443d"
       ],
       "default_style": "IPY_MODEL_85e815d6ebb047d7bc968d0013da09f4",
       "dragging_style": "IPY_MODEL_19ce1dc791aa4940ac26600a40d46675",
       "east": 8.217773437500002,
       "fullscreen": false,
       "interpolation": "bilinear",
       "layers": [
        "IPY_MODEL_f72f6891720b4382819cc831bce6538b"
       ],
       "layout": "IPY_MODEL_687ac351fc214741a3667076a6db9a9d",
       "modisdate": "yesterday",
       "north": 48.18348549519126,
       "options": [
        "bounce_at_zoom_limits",
        "box_zoom",
        "center",
        "close_popup_on_click",
        "double_click_zoom",
        "dragging",
        "fullscreen",
        "inertia",
        "inertia_deceleration",
        "inertia_max_speed",
        "interpolation",
        "keyboard",
        "keyboard_pan_offset",
        "keyboard_zoom_offset",
        "max_zoom",
        "min_zoom",
        "scroll_wheel_zoom",
        "tap",
        "tap_tolerance",
        "touch_zoom",
        "world_copy_jump",
        "zoom",
        "zoom_animation_threshold",
        "zoom_start"
       ],
       "south": 47.81592114659014,
       "style": "IPY_MODEL_85e815d6ebb047d7bc968d0013da09f4",
       "west": 7.581939697265626,
       "zoom": 10
      }
     },
     "6752be8fc91540329d6d6d3cc0f22108": {
      "model_module": "jupyter-leaflet",
      "model_module_version": "^0.12.1",
      "model_name": "LeafletAttributionControlModel",
      "state": {
       "_model_module_version": "^0.12.1",
       "_view_count": null,
       "_view_module_version": "^0.12.1",
       "options": [
        "position",
        "prefix"
       ],
       "position": "bottomright",
       "prefix": "Leaflet"
      }
     },
     "67b0bb8360254f3990cf0c72926a5aae": {
      "model_module": "jupyter-leaflet",
      "model_module_version": "^0.12.1",
      "model_name": "LeafletMapStyleModel",
      "state": {
       "_model_module_version": "^0.12.1",
       "_view_count": null,
       "_view_module": "@jupyter-widgets/base",
       "_view_module_version": "1.2.0",
       "_view_name": "StyleView",
       "cursor": "move"
      }
     },
     "680df379e7bc47f3b524695704a9f8c4": {
      "model_module": "jupyter-leaflet",
      "model_module_version": "^0.12.1",
      "model_name": "LeafletMapStyleModel",
      "state": {
       "_model_module_version": "^0.12.1",
       "_view_count": null,
       "_view_module": "@jupyter-widgets/base",
       "_view_module_version": "1.2.0",
       "_view_name": "StyleView",
       "cursor": "move"
      }
     },
     "687ac351fc214741a3667076a6db9a9d": {
      "model_module": "@jupyter-widgets/base",
      "model_module_version": "1.2.0",
      "model_name": "LayoutModel",
      "state": {}
     },
     "695983b4ca1d4ab99014c1dee1a1cabc": {
      "model_module": "@jupyter-widgets/controls",
      "model_module_version": "1.5.0",
      "model_name": "DescriptionStyleModel",
      "state": {
       "description_width": ""
      }
     },
     "69c839bc2ad744d096d2413bebb075dd": {
      "model_module": "jupyter-leaflet",
      "model_module_version": "^0.12.1",
      "model_name": "LeafletZoomControlModel",
      "state": {
       "_model_module_version": "^0.12.1",
       "_view_count": null,
       "_view_module_version": "^0.12.1",
       "options": [
        "position",
        "zoom_in_text",
        "zoom_in_title",
        "zoom_out_text",
        "zoom_out_title"
       ]
      }
     },
     "6a178c4829404185a9a28fb79bf9d6ea": {
      "model_module": "jupyter-leaflet",
      "model_module_version": "~0.9.2",
      "model_name": "LeafletMapModel",
      "state": {
       "_dom_classes": [],
       "_model_module_version": "~0.9.2",
       "_view_count": null,
       "_view_module_version": "~0.9.2",
       "basemap": {
        "attribution": "Map data (c) <a href=\"https://openstreetmap.org\">OpenStreetMap</a> contributors",
        "max_zoom": 19,
        "url": "https://{s}.tile.openstreetmap.org/{z}/{x}/{y}.png"
       },
       "center": [
        47.94762618352869,
        7.916336059570313
       ],
       "east": 8.250732421875002,
       "interpolation": "bilinear",
       "layers": [
        "IPY_MODEL_fdc38783e566411bbbe07e13a32c7e8c"
       ],
       "layout": "IPY_MODEL_7663b365db6f4636907ff0ef0a38513f",
       "modisdate": "yesterday",
       "north": 48.13126755117028,
       "options": [
        "attribution_control",
        "basemap",
        "bounce_at_zoom_limits",
        "box_zoom",
        "center",
        "close_popup_on_click",
        "double_click_zoom",
        "dragging",
        "inertia",
        "inertia_deceleration",
        "inertia_max_speed",
        "interpolation",
        "keyboard",
        "keyboard_pan_offset",
        "keyboard_zoom_offset",
        "max_zoom",
        "min_zoom",
        "scroll_wheel_zoom",
        "tap",
        "tap_tolerance",
        "touch_zoom",
        "world_copy_jump",
        "zoom",
        "zoom_animation_threshold",
        "zoom_control",
        "zoom_start"
       ],
       "south": 47.76332998647307,
       "west": 7.581939697265626,
       "zoom": 10
      }
     },
     "6a4722c755124c49b4395f779f93fc47": {
      "model_module": "@jupyter-widgets/base",
      "model_module_version": "1.2.0",
      "model_name": "LayoutModel",
      "state": {}
     },
     "6ab86c136b2740dd975b769fa38d62dd": {
      "model_module": "jupyter-leaflet",
      "model_module_version": "^0.12.1",
      "model_name": "LeafletAttributionControlModel",
      "state": {
       "_model_module_version": "^0.12.1",
       "_view_count": null,
       "_view_module_version": "^0.12.1",
       "options": [
        "position",
        "prefix"
       ],
       "position": "bottomright",
       "prefix": "Leaflet"
      }
     },
     "6ac2defab53a485f8153afe38a0990d0": {
      "model_module": "jupyter-leaflet",
      "model_module_version": "^0.12.1",
      "model_name": "LeafletZoomControlModel",
      "state": {
       "_model_module_version": "^0.12.1",
       "_view_count": null,
       "_view_module_version": "^0.12.1",
       "options": [
        "position",
        "zoom_in_text",
        "zoom_in_title",
        "zoom_out_text",
        "zoom_out_title"
       ]
      }
     },
     "6bcc93df14d544b4894c65636f7301e3": {
      "model_module": "jupyter-leaflet",
      "model_module_version": "^0.11.2",
      "model_name": "LeafletMapStyleModel",
      "state": {
       "_model_module_version": "^0.11.2",
       "_view_count": null,
       "_view_module": "@jupyter-widgets/base",
       "_view_module_version": "1.2.0",
       "_view_name": "StyleView",
       "cursor": "grab"
      }
     },
     "6d180393264540c195ea7997c10c9082": {
      "model_module": "jupyter-leaflet",
      "model_module_version": "^0.12.1",
      "model_name": "LeafletTileLayerModel",
      "state": {
       "_model_module_version": "^0.12.1",
       "_view_count": null,
       "_view_module_version": "^0.12.1",
       "base": true,
       "loading": false,
       "max_native_zoom": 18,
       "max_zoom": 19,
       "min_native_zoom": 0,
       "min_zoom": 1,
       "no_wrap": false,
       "options": [
        "attribution",
        "detect_retina",
        "max_native_zoom",
        "max_zoom",
        "min_native_zoom",
        "min_zoom",
        "no_wrap",
        "tile_size",
        "tms"
       ]
      }
     },
     "6d42b9d2e9944cdaae8d6cbb9fc0425b": {
      "model_module": "jupyter-leaflet",
      "model_module_version": "~0.9.2",
      "model_name": "LeafletTileLayerModel",
      "state": {
       "_model_module_version": "~0.9.2",
       "_view_count": null,
       "_view_module_version": "~0.9.2",
       "base": true,
       "max_zoom": 19,
       "min_zoom": 1,
       "options": [
        "attribution",
        "detect_retina",
        "max_zoom",
        "min_zoom",
        "tile_size"
       ]
      }
     },
     "6ded955efddc480d92e5bc2c3c395411": {
      "model_module": "@jupyter-widgets/controls",
      "model_module_version": "1.5.0",
      "model_name": "DescriptionStyleModel",
      "state": {
       "description_width": ""
      }
     },
     "6fb8b06c1200464786ec3af93f307e48": {
      "model_module": "@jupyter-widgets/base",
      "model_module_version": "1.2.0",
      "model_name": "LayoutModel",
      "state": {}
     },
     "6fd0b77f69884506a35c4cde1acd94ae": {
      "model_module": "@jupyter-widgets/base",
      "model_module_version": "1.2.0",
      "model_name": "LayoutModel",
      "state": {}
     },
     "6fd29f07c5474ea99fed3461265f9947": {
      "model_module": "@jupyter-widgets/base",
      "model_module_version": "1.2.0",
      "model_name": "LayoutModel",
      "state": {}
     },
     "6fed534ec3074bdb9f94ee5b0f416248": {
      "model_module": "@jupyter-widgets/base",
      "model_module_version": "1.2.0",
      "model_name": "LayoutModel",
      "state": {}
     },
     "6ff6bbf4b8f9431e8804da9f2f537349": {
      "model_module": "jupyter-leaflet",
      "model_module_version": "^0.12.1",
      "model_name": "LeafletTileLayerModel",
      "state": {
       "_model_module_version": "^0.12.1",
       "_view_count": null,
       "_view_module_version": "^0.12.1",
       "attribution": "Map tiles by <a href=\"https://labs.strava.com/heatmap\">Strava 2017</a>",
       "loading": false,
       "max_native_zoom": 18,
       "max_zoom": 15,
       "min_native_zoom": 0,
       "min_zoom": 1,
       "name": "Strava.Water",
       "no_wrap": false,
       "options": [
        "attribution",
        "detect_retina",
        "max_native_zoom",
        "max_zoom",
        "min_native_zoom",
        "min_zoom",
        "no_wrap",
        "tile_size",
        "tms"
       ],
       "url": "https://heatmap-external-a.strava.com//tiles/water/blue/{z}/{x}/{y}.png?v=19"
      }
     },
     "700833d0a40f46ed974c76579c8f3435": {
      "model_module": "jupyter-leaflet",
      "model_module_version": "^0.12.1",
      "model_name": "LeafletTileLayerModel",
      "state": {
       "_model_module_version": "^0.12.1",
       "_view_count": null,
       "_view_module_version": "^0.12.1",
       "attribution": "Tiles courtesy of <a href=\"http://openstreetmap.se/\" target=\"_blank\">OpenStreetMap Sweden</a> &mdash; Map data &copy; <a href=\"http://www.openstreetmap.org/copyright\">OpenStreetMap</a>",
       "base": true,
       "loading": false,
       "max_native_zoom": 18,
       "min_native_zoom": 0,
       "min_zoom": 1,
       "name": "Hydda.Full",
       "no_wrap": false,
       "options": [
        "attribution",
        "detect_retina",
        "max_native_zoom",
        "max_zoom",
        "min_native_zoom",
        "min_zoom",
        "no_wrap",
        "tile_size",
        "tms"
       ],
       "url": "http://{s}.tile.openstreetmap.se/hydda/full/{z}/{x}/{y}.png"
      }
     },
     "714f60c8c59a46958d2f572405dba91a": {
      "model_module": "@jupyter-widgets/base",
      "model_module_version": "1.2.0",
      "model_name": "LayoutModel",
      "state": {}
     },
     "7152416fb1e14e279754ffde7e9e5336": {
      "model_module": "@jupyter-widgets/base",
      "model_module_version": "1.2.0",
      "model_name": "LayoutModel",
      "state": {}
     },
     "71b6a5f2b1ce4b3686d2a8d916f6fed1": {
      "model_module": "@jupyter-widgets/base",
      "model_module_version": "1.2.0",
      "model_name": "LayoutModel",
      "state": {}
     },
     "72417ef047984da59998d6d42c51fc8c": {
      "model_module": "jupyter-leaflet",
      "model_module_version": "^0.12.1",
      "model_name": "LeafletMapStyleModel",
      "state": {
       "_model_module_version": "^0.12.1",
       "_view_count": null,
       "_view_module": "@jupyter-widgets/base",
       "_view_module_version": "1.2.0",
       "_view_name": "StyleView",
       "cursor": "grab"
      }
     },
     "72737912a8044d3b991d83420693972d": {
      "model_module": "@jupyter-widgets/base",
      "model_module_version": "1.2.0",
      "model_name": "LayoutModel",
      "state": {}
     },
     "72d984681d3b45038d58f6c79f7cd21d": {
      "model_module": "@jupyter-widgets/base",
      "model_module_version": "1.2.0",
      "model_name": "LayoutModel",
      "state": {}
     },
     "72fa4a93850e44139ab522d27571770f": {
      "model_module": "@jupyter-widgets/controls",
      "model_module_version": "1.5.0",
      "model_name": "DescriptionStyleModel",
      "state": {
       "description_width": ""
      }
     },
     "7447228212634c1ca84112571ad4ca5c": {
      "model_module": "jupyter-leaflet",
      "model_module_version": "^0.12.1",
      "model_name": "LeafletLayersControlModel",
      "state": {
       "_model_module_version": "^0.12.1",
       "_view_count": null,
       "_view_module_version": "^0.12.1",
       "options": [
        "position"
       ]
      }
     },
     "746a9db55a344dc3bc737f834563a191": {
      "model_module": "@jupyter-widgets/controls",
      "model_module_version": "1.5.0",
      "model_name": "HBoxModel",
      "state": {
       "children": [
        "IPY_MODEL_2a0f6d89c0844b93a69ef9742d7acb6b",
        "IPY_MODEL_e7c691cb5b21468a8fb8ac5de527bc56"
       ],
       "layout": "IPY_MODEL_0035a0472f10488d8aead5695546a77f"
      }
     },
     "746f5d2323f34643842f2a804e6c660f": {
      "model_module": "jupyter-leaflet",
      "model_module_version": "^0.12.1",
      "model_name": "LeafletTileLayerModel",
      "state": {
       "_model_module_version": "^0.12.1",
       "_view_count": null,
       "_view_module_version": "^0.12.1",
       "base": true,
       "loading": false,
       "max_native_zoom": 18,
       "max_zoom": 19,
       "min_native_zoom": 0,
       "min_zoom": 1,
       "no_wrap": false,
       "options": [
        "attribution",
        "detect_retina",
        "max_native_zoom",
        "max_zoom",
        "min_native_zoom",
        "min_zoom",
        "no_wrap",
        "tile_size",
        "tms"
       ]
      }
     },
     "74b5c9c1d60f4ac8a32292173d98b480": {
      "model_module": "jupyter-leaflet",
      "model_module_version": "^0.12.1",
      "model_name": "LeafletMapStyleModel",
      "state": {
       "_model_module_version": "^0.12.1",
       "_view_count": null,
       "_view_module": "@jupyter-widgets/base",
       "_view_module_version": "1.2.0",
       "_view_name": "StyleView",
       "cursor": "grab"
      }
     },
     "74e20f9dd55445ba807620e6084bfdf7": {
      "model_module": "jupyter-leaflet",
      "model_module_version": "^0.12.1",
      "model_name": "LeafletZoomControlModel",
      "state": {
       "_model_module_version": "^0.12.1",
       "_view_count": null,
       "_view_module_version": "^0.12.1",
       "options": [
        "position",
        "zoom_in_text",
        "zoom_in_title",
        "zoom_out_text",
        "zoom_out_title"
       ]
      }
     },
     "74f19e34737e4a1389be0719e70c6464": {
      "model_module": "@jupyter-widgets/base",
      "model_module_version": "1.2.0",
      "model_name": "LayoutModel",
      "state": {}
     },
     "755357db9f1a4fe0ba31b5a5b8162f8a": {
      "model_module": "@jupyter-widgets/base",
      "model_module_version": "1.2.0",
      "model_name": "LayoutModel",
      "state": {}
     },
     "7659a3a0ab6f40739205a6025d928bd5": {
      "model_module": "jupyter-leaflet",
      "model_module_version": "~0.9.2",
      "model_name": "LeafletTileLayerModel",
      "state": {
       "_model_module_version": "~0.9.2",
       "_view_count": null,
       "_view_module_version": "~0.9.2",
       "base": true,
       "max_zoom": 19,
       "min_zoom": 1,
       "options": [
        "attribution",
        "detect_retina",
        "max_zoom",
        "min_zoom",
        "tile_size"
       ]
      }
     },
     "7663b365db6f4636907ff0ef0a38513f": {
      "model_module": "@jupyter-widgets/base",
      "model_module_version": "1.2.0",
      "model_name": "LayoutModel",
      "state": {}
     },
     "77aa2343e13a4c40b1eabfea84b01a96": {
      "model_module": "@jupyter-widgets/base",
      "model_module_version": "1.2.0",
      "model_name": "LayoutModel",
      "state": {}
     },
     "788608422c4f4137ae626ff060368632": {
      "model_module": "jupyter-leaflet",
      "model_module_version": "^0.12.1",
      "model_name": "LeafletAttributionControlModel",
      "state": {
       "_model_module_version": "^0.12.1",
       "_view_count": null,
       "_view_module_version": "^0.12.1",
       "options": [
        "position",
        "prefix"
       ],
       "position": "bottomright",
       "prefix": "Leaflet"
      }
     },
     "790ff2d2b61646789df0563fd597093b": {
      "model_module": "jupyter-leaflet",
      "model_module_version": "~0.9.2",
      "model_name": "LeafletTileLayerModel",
      "state": {
       "_model_module_version": "~0.9.2",
       "_view_count": null,
       "_view_module_version": "~0.9.2",
       "attribution": "Map tiles by <a href=\"https://labs.strava.com/heatmap\">Strava 2017</a>",
       "max_zoom": 15,
       "min_zoom": 1,
       "name": "Strava.All",
       "options": [
        "attribution",
        "detect_retina",
        "max_zoom",
        "min_zoom",
        "tile_size"
       ],
       "url": "https://heatmap-external-a.strava.com//tiles/all/hot/{z}/{x}/{y}.png?v=19"
      }
     },
     "7a7b36ff81fd4f7a85c0e934113caf39": {
      "model_module": "jupyter-leaflet",
      "model_module_version": "^0.12.1",
      "model_name": "LeafletMapStyleModel",
      "state": {
       "_model_module_version": "^0.12.1",
       "_view_count": null,
       "_view_module": "@jupyter-widgets/base",
       "_view_module_version": "1.2.0",
       "_view_name": "StyleView",
       "cursor": "grab"
      }
     },
     "7aaae9b612ca421a861020bd639a23c0": {
      "model_module": "@jupyter-widgets/base",
      "model_module_version": "1.2.0",
      "model_name": "LayoutModel",
      "state": {}
     },
     "7acb65a5c440458eb28579ab2b09c9f6": {
      "model_module": "jupyter-leaflet",
      "model_module_version": "^0.12.1",
      "model_name": "LeafletMapStyleModel",
      "state": {
       "_model_module_version": "^0.12.1",
       "_view_count": null,
       "_view_module": "@jupyter-widgets/base",
       "_view_module_version": "1.2.0",
       "_view_name": "StyleView",
       "cursor": "move"
      }
     },
     "7b0fda2db2934b28a7adb016a4b32fe7": {
      "model_module": "@jupyter-widgets/base",
      "model_module_version": "1.2.0",
      "model_name": "LayoutModel",
      "state": {}
     },
     "7b10cdfb0eea41559084a64a3afd0e82": {
      "model_module": "jupyter-leaflet",
      "model_module_version": "^0.12.1",
      "model_name": "LeafletZoomControlModel",
      "state": {
       "_model_module_version": "^0.12.1",
       "_view_count": null,
       "_view_module_version": "^0.12.1",
       "options": [
        "position",
        "zoom_in_text",
        "zoom_in_title",
        "zoom_out_text",
        "zoom_out_title"
       ]
      }
     },
     "7b4ec7b4bb2243f3b14cd7113c48df66": {
      "model_module": "@jupyter-widgets/controls",
      "model_module_version": "1.5.0",
      "model_name": "LabelModel",
      "state": {
       "layout": "IPY_MODEL_60c62504f65147ffa66aefd9f2bc0e39",
       "style": "IPY_MODEL_927627761a1b40018ad07a5863e160ff",
       "value": "[48.71718271505055, 7.959227151162343]"
      }
     },
     "7bc44c108faa449283fa300e2446cc6e": {
      "model_module": "jupyter-leaflet",
      "model_module_version": "^0.12.1",
      "model_name": "LeafletZoomControlModel",
      "state": {
       "_model_module_version": "^0.12.1",
       "_view_count": null,
       "_view_module_version": "^0.12.1",
       "options": [
        "position",
        "zoom_in_text",
        "zoom_in_title",
        "zoom_out_text",
        "zoom_out_title"
       ]
      }
     },
     "7bd780fc6fcf4d5892269a57350a9f22": {
      "model_module": "jupyter-leaflet",
      "model_module_version": "^0.12.1",
      "model_name": "LeafletMapStyleModel",
      "state": {
       "_model_module_version": "^0.12.1",
       "_view_count": null,
       "_view_module": "@jupyter-widgets/base",
       "_view_module_version": "1.2.0",
       "_view_name": "StyleView",
       "cursor": "grab"
      }
     },
     "7bde861d3e8c4f93a47d9f0840debe1c": {
      "model_module": "jupyter-leaflet",
      "model_module_version": "^0.12.1",
      "model_name": "LeafletTileLayerModel",
      "state": {
       "_model_module_version": "^0.12.1",
       "_view_count": null,
       "_view_module_version": "^0.12.1",
       "base": true,
       "loading": false,
       "max_native_zoom": 18,
       "max_zoom": 19,
       "min_native_zoom": 0,
       "min_zoom": 1,
       "no_wrap": false,
       "options": [
        "attribution",
        "detect_retina",
        "max_native_zoom",
        "max_zoom",
        "min_native_zoom",
        "min_zoom",
        "no_wrap",
        "tile_size",
        "tms"
       ]
      }
     },
     "7becfa6e819b413ca333be44dc21b8c4": {
      "model_module": "jupyter-leaflet",
      "model_module_version": "^0.12.1",
      "model_name": "LeafletAttributionControlModel",
      "state": {
       "_model_module_version": "^0.12.1",
       "_view_count": null,
       "_view_module_version": "^0.12.1",
       "options": [
        "position",
        "prefix"
       ],
       "position": "bottomright",
       "prefix": "Leaflet"
      }
     },
     "7c53f44231a146cf96d29d625275c7b1": {
      "model_module": "jupyter-leaflet",
      "model_module_version": "^0.12.1",
      "model_name": "LeafletTileLayerModel",
      "state": {
       "_model_module_version": "^0.12.1",
       "_view_count": null,
       "_view_module_version": "^0.12.1",
       "attribution": "Map tiles by <a href=\"https://labs.strava.com/heatmap\">Strava 2017</a>",
       "loading": false,
       "max_native_zoom": 18,
       "max_zoom": 15,
       "min_native_zoom": 0,
       "min_zoom": 1,
       "name": "Strava.All",
       "no_wrap": false,
       "options": [
        "attribution",
        "detect_retina",
        "max_native_zoom",
        "max_zoom",
        "min_native_zoom",
        "min_zoom",
        "no_wrap",
        "tile_size",
        "tms"
       ],
       "url": "https://heatmap-external-a.strava.com//tiles/all/hot/{z}/{x}/{y}.png?v=19"
      }
     },
     "7c60d7251c784ef28dabf038b4a583c2": {
      "model_module": "jupyter-leaflet",
      "model_module_version": "~0.9.2",
      "model_name": "LeafletMapModel",
      "state": {
       "_dom_classes": [],
       "_model_module_version": "~0.9.2",
       "_view_count": null,
       "_view_module_version": "~0.9.2",
       "basemap": {
        "attribution": "Map data (c) <a href=\"https://openstreetmap.org\">OpenStreetMap</a> contributors",
        "max_zoom": 19,
        "url": "https://{s}.tile.openstreetmap.org/{z}/{x}/{y}.png"
       },
       "center": [
        48,
        8.1
       ],
       "east": 8.434753417968752,
       "interpolation": "bilinear",
       "layers": [
        "IPY_MODEL_8b9323ff58c0421e8290639caf53be2a"
       ],
       "layout": "IPY_MODEL_2c43e839fcc14517b8291091333d92d9",
       "modisdate": "yesterday",
       "north": 48.18348549519126,
       "options": [
        "attribution_control",
        "basemap",
        "bounce_at_zoom_limits",
        "box_zoom",
        "center",
        "close_popup_on_click",
        "double_click_zoom",
        "dragging",
        "inertia",
        "inertia_deceleration",
        "inertia_max_speed",
        "interpolation",
        "keyboard",
        "keyboard_pan_offset",
        "keyboard_zoom_offset",
        "max_zoom",
        "min_zoom",
        "scroll_wheel_zoom",
        "tap",
        "tap_tolerance",
        "touch_zoom",
        "world_copy_jump",
        "zoom",
        "zoom_animation_threshold",
        "zoom_control",
        "zoom_start"
       ],
       "south": 47.81592114659014,
       "west": 7.765960693359376,
       "zoom": 10
      }
     },
     "7c9caa3cece645d8911c39c773619ada": {
      "model_module": "jupyter-leaflet",
      "model_module_version": "^0.12.1",
      "model_name": "LeafletAttributionControlModel",
      "state": {
       "_model_module_version": "^0.12.1",
       "_view_count": null,
       "_view_module_version": "^0.12.1",
       "options": [
        "position",
        "prefix"
       ],
       "position": "bottomright",
       "prefix": "Leaflet"
      }
     },
     "7d19b234305f40fe9e21aa83fdbb2a0a": {
      "model_module": "jupyter-leaflet",
      "model_module_version": "^0.12.1",
      "model_name": "LeafletAttributionControlModel",
      "state": {
       "_model_module_version": "^0.12.1",
       "_view_count": null,
       "_view_module_version": "^0.12.1",
       "options": [
        "position",
        "prefix"
       ],
       "position": "bottomright",
       "prefix": "Leaflet"
      }
     },
     "7d3b6e7ebbc540fbb69e120fcfa07352": {
      "model_module": "@jupyter-widgets/base",
      "model_module_version": "1.2.0",
      "model_name": "LayoutModel",
      "state": {}
     },
     "7e52235ac4fc459fa9fae2f87a0f842c": {
      "model_module": "jupyter-leaflet",
      "model_module_version": "~0.9.2",
      "model_name": "LeafletLayersControlModel",
      "state": {
       "_model_module_version": "~0.9.2",
       "_view_count": null,
       "_view_module_version": "~0.9.2"
      }
     },
     "7e7a835db8084fe299e07b1884c59bcf": {
      "model_module": "jupyter-leaflet",
      "model_module_version": "~0.9.2",
      "model_name": "LeafletMapModel",
      "state": {
       "_dom_classes": [],
       "_model_module_version": "~0.9.2",
       "_view_count": null,
       "_view_module_version": "~0.9.2",
       "basemap": {
        "attribution": "Map data (c) <a href=\"https://openstreetmap.org\">OpenStreetMap</a> contributors",
        "max_zoom": 19,
        "url": "https://{s}.tile.openstreetmap.org/{z}/{x}/{y}.png"
       },
       "center": [
        48.2,
        7.9
       ],
       "east": 8.234252929687502,
       "interpolation": "bilinear",
       "layers": [
        "IPY_MODEL_c930e7640d8f4b3598277763f25975e6"
       ],
       "layout": "IPY_MODEL_b5df758f9c6c4bcc8c9574e264565b70",
       "modisdate": "yesterday",
       "north": 48.38270604320723,
       "options": [
        "attribution_control",
        "basemap",
        "bounce_at_zoom_limits",
        "box_zoom",
        "center",
        "close_popup_on_click",
        "double_click_zoom",
        "dragging",
        "inertia",
        "inertia_deceleration",
        "inertia_max_speed",
        "interpolation",
        "keyboard",
        "keyboard_pan_offset",
        "keyboard_zoom_offset",
        "max_zoom",
        "min_zoom",
        "scroll_wheel_zoom",
        "tap",
        "tap_tolerance",
        "touch_zoom",
        "world_copy_jump",
        "zoom",
        "zoom_animation_threshold",
        "zoom_control",
        "zoom_start"
       ],
       "south": 48.0165684107673,
       "west": 7.565460205078126,
       "zoom": 10
      }
     },
     "7e7ee55950904cf38f28d9938ff622b5": {
      "model_module": "jupyter-leaflet",
      "model_module_version": "^0.12.1",
      "model_name": "LeafletAttributionControlModel",
      "state": {
       "_model_module_version": "^0.12.1",
       "_view_count": null,
       "_view_module_version": "^0.12.1",
       "options": [
        "position",
        "prefix"
       ],
       "position": "bottomright",
       "prefix": "Leaflet"
      }
     },
     "7f0ae1892b634970b55ad76cb515f3d7": {
      "model_module": "@jupyter-widgets/controls",
      "model_module_version": "1.5.0",
      "model_name": "SelectionSliderModel",
      "state": {
       "_options_labels": [
        "13:00",
        "13:30",
        "14:00",
        "14:30",
        "15:00",
        "15:30",
        "16:00",
        "16:30"
       ],
       "description": "Time:",
       "index": 0,
       "layout": "IPY_MODEL_e8d996bc840442cf95de01977c06cd5d",
       "style": "IPY_MODEL_39e846f119be4c09994ce6df14951dc9"
      }
     },
     "7fca7adf16064d84ade0ab9c599dee09": {
      "model_module": "jupyter-leaflet",
      "model_module_version": "^0.12.1",
      "model_name": "LeafletTileLayerModel",
      "state": {
       "_model_module_version": "^0.12.1",
       "_view_count": null,
       "_view_module_version": "^0.12.1",
       "attribution": "Map tiles by <a href=\"https://labs.strava.com/heatmap\">Strava 2017</a>",
       "loading": false,
       "max_native_zoom": 18,
       "max_zoom": 15,
       "min_native_zoom": 0,
       "min_zoom": 1,
       "name": "Strava.Water",
       "no_wrap": false,
       "options": [
        "attribution",
        "detect_retina",
        "max_native_zoom",
        "max_zoom",
        "min_native_zoom",
        "min_zoom",
        "no_wrap",
        "tile_size",
        "tms"
       ],
       "url": "https://heatmap-external-a.strava.com//tiles/water/blue/{z}/{x}/{y}.png?v=19"
      }
     },
     "7fe7bd820a554b308ba582745da4cf57": {
      "model_module": "jupyter-leaflet",
      "model_module_version": "^0.12.1",
      "model_name": "LeafletMapStyleModel",
      "state": {
       "_model_module_version": "^0.12.1",
       "_view_count": null,
       "_view_module": "@jupyter-widgets/base",
       "_view_module_version": "1.2.0",
       "_view_name": "StyleView",
       "cursor": "move"
      }
     },
     "8077c4f353c547d0962a490a5a9de5d1": {
      "model_module": "@jupyter-widgets/controls",
      "model_module_version": "1.5.0",
      "model_name": "DescriptionStyleModel",
      "state": {
       "description_width": ""
      }
     },
     "81000aba87174f309c97913ee49c42ee": {
      "model_module": "jupyter-leaflet",
      "model_module_version": "^0.12.1",
      "model_name": "LeafletMapModel",
      "state": {
       "_dom_classes": [],
       "_model_module_version": "^0.12.1",
       "_view_count": null,
       "_view_module_version": "^0.12.1",
       "center": [
        48,
        8
       ],
       "controls": [
        "IPY_MODEL_b0a523ecddd544b2ba76fbb58ad5db69",
        "IPY_MODEL_0bb47637c3c0492baf8e30b74025cdcd",
        "IPY_MODEL_1d36d16a943e4e2c8b9f44e99066ecb8"
       ],
       "default_style": "IPY_MODEL_d4da037bb7d54a3a863c94d011d3e52b",
       "dragging_style": "IPY_MODEL_67b0bb8360254f3990cf0c72926a5aae",
       "east": 10.634765625,
       "fullscreen": false,
       "interpolation": "bilinear",
       "layers": [
        "IPY_MODEL_624a2008efbd425783da7326e12a3a65",
        "IPY_MODEL_5544e4f350d341c6adf5d920bd31b071",
        "IPY_MODEL_4555a699bd1049fb83f4f7004d4bc4a7"
       ],
       "layout": "IPY_MODEL_4fba4ca5e58944db8b8de0c57ff1c431",
       "modisdate": "yesterday",
       "north": 48.73083222613518,
       "options": [
        "bounce_at_zoom_limits",
        "box_zoom",
        "center",
        "close_popup_on_click",
        "double_click_zoom",
        "dragging",
        "fullscreen",
        "inertia",
        "inertia_deceleration",
        "inertia_max_speed",
        "interpolation",
        "keyboard",
        "keyboard_pan_offset",
        "keyboard_zoom_offset",
        "max_zoom",
        "min_zoom",
        "scroll_wheel_zoom",
        "tap",
        "tap_tolerance",
        "touch_zoom",
        "world_copy_jump",
        "zoom",
        "zoom_animation_threshold",
        "zoom_start"
       ],
       "south": 47.260592193424706,
       "style": "IPY_MODEL_d4da037bb7d54a3a863c94d011d3e52b",
       "west": 5.366821289062501,
       "zoom": 8
      }
     },
     "812b8279c08d47df893b3c7ace280011": {
      "model_module": "jupyter-leaflet",
      "model_module_version": "~0.9.2",
      "model_name": "LeafletTileLayerModel",
      "state": {
       "_model_module_version": "~0.9.2",
       "_view_count": null,
       "_view_module_version": "~0.9.2",
       "attribution": "Map tiles by <a href=\"https://labs.strava.com/heatmap\">Strava 2017</a>",
       "max_zoom": 15,
       "min_zoom": 1,
       "name": "Strava.All",
       "options": [
        "attribution",
        "detect_retina",
        "max_zoom",
        "min_zoom",
        "tile_size"
       ],
       "url": "https://heatmap-external-a.strava.com//tiles/all/hot/{z}/{x}/{y}.png?v=19"
      }
     },
     "8183592169084fb48facca25a20c1e1b": {
      "model_module": "@jupyter-widgets/controls",
      "model_module_version": "1.5.0",
      "model_name": "DescriptionStyleModel",
      "state": {
       "description_width": ""
      }
     },
     "8187742c404b4db5b055144087d199e7": {
      "model_module": "jupyter-leaflet",
      "model_module_version": "^0.12.1",
      "model_name": "LeafletMapStyleModel",
      "state": {
       "_model_module_version": "^0.12.1",
       "_view_count": null,
       "_view_module": "@jupyter-widgets/base",
       "_view_module_version": "1.2.0",
       "_view_name": "StyleView",
       "cursor": "move"
      }
     },
     "8193e83214d04534bcc434a694c7f724": {
      "model_module": "@jupyter-widgets/controls",
      "model_module_version": "1.5.0",
      "model_name": "HBoxModel",
      "state": {
       "children": [
        "IPY_MODEL_2a0f6d89c0844b93a69ef9742d7acb6b",
        "IPY_MODEL_23263f6ec2aa4bcdbbd2ad746566caeb"
       ],
       "layout": "IPY_MODEL_9eb800e558a849aab48b7f3e3dcc8b15"
      }
     },
     "8281bda74faa4b708ca11bfb042dec91": {
      "model_module": "jupyter-leaflet",
      "model_module_version": "^0.11.2",
      "model_name": "LeafletTileLayerModel",
      "state": {
       "_model_module_version": "^0.11.2",
       "_view_count": null,
       "_view_module_version": "^0.11.2",
       "attribution": "Map tiles by <a href=\"https://labs.strava.com/heatmap\">Strava 2017</a>",
       "max_native_zoom": 18,
       "max_zoom": 15,
       "min_native_zoom": 0,
       "min_zoom": 1,
       "name": "Strava.All",
       "no_wrap": false,
       "options": [
        "attribution",
        "detect_retina",
        "max_native_zoom",
        "max_zoom",
        "min_native_zoom",
        "min_zoom",
        "no_wrap",
        "tile_size"
       ],
       "url": "https://heatmap-external-a.strava.com//tiles/all/hot/{z}/{x}/{y}.png?v=19"
      }
     },
     "82f51f9e9a14448ba3ef36e7ed8c14da": {
      "model_module": "jupyter-leaflet",
      "model_module_version": "^0.12.1",
      "model_name": "LeafletMapStyleModel",
      "state": {
       "_model_module_version": "^0.12.1",
       "_view_count": null,
       "_view_module": "@jupyter-widgets/base",
       "_view_module_version": "1.2.0",
       "_view_name": "StyleView",
       "cursor": "grab"
      }
     },
     "84666b81e319482e944b417561ecb0e0": {
      "model_module": "jupyter-leaflet",
      "model_module_version": "~0.9.2",
      "model_name": "LeafletTileLayerModel",
      "state": {
       "_model_module_version": "~0.9.2",
       "_view_count": null,
       "_view_module_version": "~0.9.2",
       "attribution": "Map tiles by <a href=\"https://labs.strava.com/heatmap\">Strava 2017</a>",
       "max_zoom": 15,
       "min_zoom": 1,
       "name": "Strava.Water",
       "options": [
        "attribution",
        "detect_retina",
        "max_zoom",
        "min_zoom",
        "tile_size"
       ],
       "url": "https://heatmap-external-a.strava.com//tiles/water/blue/{z}/{x}/{y}.png?v=19"
      }
     },
     "84b5d9617f9347f8b4c716c33e1d1519": {
      "model_module": "jupyter-leaflet",
      "model_module_version": "^0.12.1",
      "model_name": "LeafletZoomControlModel",
      "state": {
       "_model_module_version": "^0.12.1",
       "_view_count": null,
       "_view_module_version": "^0.12.1",
       "options": [
        "position",
        "zoom_in_text",
        "zoom_in_title",
        "zoom_out_text",
        "zoom_out_title"
       ]
      }
     },
     "85e815d6ebb047d7bc968d0013da09f4": {
      "model_module": "jupyter-leaflet",
      "model_module_version": "^0.12.1",
      "model_name": "LeafletMapStyleModel",
      "state": {
       "_model_module_version": "^0.12.1",
       "_view_count": null,
       "_view_module": "@jupyter-widgets/base",
       "_view_module_version": "1.2.0",
       "_view_name": "StyleView",
       "cursor": "grab"
      }
     },
     "8678da2f18c94c5dab1e7ef598ad8d10": {
      "model_module": "jupyter-leaflet",
      "model_module_version": "^0.12.1",
      "model_name": "LeafletWMSLayerModel",
      "state": {
       "_model_module_version": "^0.12.1",
       "_view_count": null,
       "_view_module_version": "^0.12.1",
       "attribution": "Weather data © 2012 IEM Nexrad",
       "crs": "EPSG3857",
       "format": "image/png",
       "layers": "nexrad-n0r-wmst",
       "loading": false,
       "max_native_zoom": 18,
       "min_native_zoom": 0,
       "no_wrap": false,
       "options": [
        "attribution",
        "detect_retina",
        "format",
        "layers",
        "max_native_zoom",
        "max_zoom",
        "min_native_zoom",
        "min_zoom",
        "no_wrap",
        "styles",
        "tile_size",
        "time",
        "tms",
        "transparent",
        "uppercase"
       ],
       "time": "2005-08-29T19:00",
       "transparent": true,
       "url": "https://mesonet.agron.iastate.edu/cgi-bin/wms/nexrad/n0r-t.cgi?"
      }
     },
     "86b383e033004dd09c39c53493d790bd": {
      "model_module": "jupyter-leaflet",
      "model_module_version": "^0.12.1",
      "model_name": "LeafletMapStyleModel",
      "state": {
       "_model_module_version": "^0.12.1",
       "_view_count": null,
       "_view_module": "@jupyter-widgets/base",
       "_view_module_version": "1.2.0",
       "_view_name": "StyleView",
       "cursor": "grab"
      }
     },
     "86d33c82fe18436e9107f2d51cdd86ff": {
      "model_module": "jupyter-leaflet",
      "model_module_version": "^0.12.1",
      "model_name": "LeafletTileLayerModel",
      "state": {
       "_model_module_version": "^0.12.1",
       "_view_count": null,
       "_view_module_version": "^0.12.1",
       "attribution": "&copy; <a href=\"http://www.openstreetmap.org/copyright\">OpenStreetMap</a> &copy; <a href=\"http://cartodb.com/attributions\">CartoDB</a>",
       "base": true,
       "loading": false,
       "max_native_zoom": 18,
       "max_zoom": 20,
       "min_native_zoom": 0,
       "min_zoom": 1,
       "name": "CartoDB.Positron",
       "no_wrap": false,
       "options": [
        "attribution",
        "detect_retina",
        "max_native_zoom",
        "max_zoom",
        "min_native_zoom",
        "min_zoom",
        "no_wrap",
        "tile_size",
        "tms"
       ],
       "url": "http://c.basemaps.cartocdn.com/light_all/{z}/{x}/{y}.png"
      }
     },
     "871d4a98b66f4cc596e9a00ffc7d01d7": {
      "model_module": "jupyter-leaflet",
      "model_module_version": "^0.12.1",
      "model_name": "LeafletTileLayerModel",
      "state": {
       "_model_module_version": "^0.12.1",
       "_view_count": null,
       "_view_module_version": "^0.12.1",
       "attribution": "Map tiles by <a href=\"https://labs.strava.com/heatmap\">Strava 2017</a>",
       "loading": false,
       "max_native_zoom": 18,
       "max_zoom": 15,
       "min_native_zoom": 0,
       "min_zoom": 1,
       "name": "Strava.All",
       "no_wrap": false,
       "options": [
        "attribution",
        "detect_retina",
        "max_native_zoom",
        "max_zoom",
        "min_native_zoom",
        "min_zoom",
        "no_wrap",
        "tile_size",
        "tms"
       ],
       "url": "https://heatmap-external-a.strava.com//tiles/all/hot/{z}/{x}/{y}.png?v=19"
      }
     },
     "881e91af136246a79b1489ab6aef211d": {
      "model_module": "jupyter-leaflet",
      "model_module_version": "^0.12.1",
      "model_name": "LeafletMapStyleModel",
      "state": {
       "_model_module_version": "^0.12.1",
       "_view_count": null,
       "_view_module": "@jupyter-widgets/base",
       "_view_module_version": "1.2.0",
       "_view_name": "StyleView",
       "cursor": "grab"
      }
     },
     "88327adb281b47c5977090581383baad": {
      "model_module": "jupyter-leaflet",
      "model_module_version": "^0.12.1",
      "model_name": "LeafletTileLayerModel",
      "state": {
       "_model_module_version": "^0.12.1",
       "_view_count": null,
       "_view_module_version": "^0.12.1",
       "attribution": "&copy; <a href=\"http://www.openstreetmap.org/copyright\">OpenStreetMap</a> &copy; <a href=\"http://cartodb.com/attributions\">CartoDB</a>",
       "base": true,
       "loading": false,
       "max_native_zoom": 18,
       "max_zoom": 20,
       "min_native_zoom": 0,
       "min_zoom": 1,
       "name": "CartoDB.Positron",
       "no_wrap": false,
       "options": [
        "attribution",
        "detect_retina",
        "max_native_zoom",
        "max_zoom",
        "min_native_zoom",
        "min_zoom",
        "no_wrap",
        "tile_size",
        "tms"
       ],
       "url": "http://c.basemaps.cartocdn.com/light_all/{z}/{x}/{y}.png"
      }
     },
     "88387f25f1f94284b9f13ad14ffe0557": {
      "model_module": "jupyter-leaflet",
      "model_module_version": "~0.9.2",
      "model_name": "LeafletMapModel",
      "state": {
       "_dom_classes": [],
       "_model_module_version": "~0.9.2",
       "_view_count": null,
       "_view_module_version": "~0.9.2",
       "basemap": {
        "attribution": "Tiles courtesy of <a href=\"http://openstreetmap.se/\" target=\"_blank\">OpenStreetMap Sweden</a> &mdash; Map data &copy; <a href=\"http://www.openstreetmap.org/copyright\">OpenStreetMap</a>",
        "max_zoom": 18,
        "name": "Hydda.Full",
        "url": "http://{s}.tile.openstreetmap.se/hydda/full/{z}/{x}/{y}.png"
       },
       "center": [
        48,
        9
       ],
       "east": 11.689453125000002,
       "interpolation": "bilinear",
       "layers": [
        "IPY_MODEL_bf4952e0e6ed48b7938b7c99d3cc0e65"
       ],
       "layout": "IPY_MODEL_56f9f0afa29a42bd8c358d73505fd84c",
       "modisdate": "yesterday",
       "north": 48.73083222613518,
       "options": [
        "attribution_control",
        "basemap",
        "bounce_at_zoom_limits",
        "box_zoom",
        "center",
        "close_popup_on_click",
        "double_click_zoom",
        "dragging",
        "inertia",
        "inertia_deceleration",
        "inertia_max_speed",
        "interpolation",
        "keyboard",
        "keyboard_pan_offset",
        "keyboard_zoom_offset",
        "max_zoom",
        "min_zoom",
        "scroll_wheel_zoom",
        "tap",
        "tap_tolerance",
        "touch_zoom",
        "world_copy_jump",
        "zoom",
        "zoom_animation_threshold",
        "zoom_control",
        "zoom_start"
       ],
       "south": 47.260592193424706,
       "west": 6.3116455078125,
       "zoom": 8
      }
     },
     "8867e630ee1c443aa718073682029234": {
      "model_module": "@jupyter-widgets/controls",
      "model_module_version": "1.5.0",
      "model_name": "DescriptionStyleModel",
      "state": {
       "description_width": ""
      }
     },
     "88c35b9843de4e549947412a0f996ccf": {
      "model_module": "jupyter-leaflet",
      "model_module_version": "^0.12.1",
      "model_name": "LeafletZoomControlModel",
      "state": {
       "_model_module_version": "^0.12.1",
       "_view_count": null,
       "_view_module_version": "^0.12.1",
       "options": [
        "position",
        "zoom_in_text",
        "zoom_in_title",
        "zoom_out_text",
        "zoom_out_title"
       ]
      }
     },
     "898b8822b0464749859f897198adb846": {
      "model_module": "jupyter-leaflet",
      "model_module_version": "^0.11.2",
      "model_name": "LeafletMapStyleModel",
      "state": {
       "_model_module_version": "^0.11.2",
       "_view_count": null,
       "_view_module": "@jupyter-widgets/base",
       "_view_module_version": "1.2.0",
       "_view_name": "StyleView",
       "cursor": "move"
      }
     },
     "8b13f38ac565429390bb4b163f012b0c": {
      "model_module": "@jupyter-widgets/base",
      "model_module_version": "1.2.0",
      "model_name": "LayoutModel",
      "state": {}
     },
     "8b8c0b98050e4c60978ff41e987900e3": {
      "model_module": "@jupyter-widgets/base",
      "model_module_version": "1.2.0",
      "model_name": "LayoutModel",
      "state": {}
     },
     "8b9323ff58c0421e8290639caf53be2a": {
      "model_module": "jupyter-leaflet",
      "model_module_version": "~0.9.2",
      "model_name": "LeafletTileLayerModel",
      "state": {
       "_model_module_version": "~0.9.2",
       "_view_count": null,
       "_view_module_version": "~0.9.2",
       "base": true,
       "max_zoom": 19,
       "min_zoom": 1,
       "options": [
        "attribution",
        "detect_retina",
        "max_zoom",
        "min_zoom",
        "tile_size"
       ]
      }
     },
     "8c1ecc5fcbe14aacb302875f0975a2e4": {
      "model_module": "@jupyter-widgets/base",
      "model_module_version": "1.2.0",
      "model_name": "LayoutModel",
      "state": {}
     },
     "8c7735cf28b146f2bae2b645bec30e99": {
      "model_module": "jupyter-leaflet",
      "model_module_version": "^0.12.1",
      "model_name": "LeafletZoomControlModel",
      "state": {
       "_model_module_version": "^0.12.1",
       "_view_count": null,
       "_view_module_version": "^0.12.1",
       "options": [
        "position",
        "zoom_in_text",
        "zoom_in_title",
        "zoom_out_text",
        "zoom_out_title"
       ]
      }
     },
     "8cf9e6151903488e9e3ef294a3fbdd28": {
      "model_module": "jupyter-leaflet",
      "model_module_version": "^0.12.1",
      "model_name": "LeafletMapStyleModel",
      "state": {
       "_model_module_version": "^0.12.1",
       "_view_count": null,
       "_view_module": "@jupyter-widgets/base",
       "_view_module_version": "1.2.0",
       "_view_name": "StyleView",
       "cursor": "grab"
      }
     },
     "8d8d054ceee445fdad18468da433a516": {
      "model_module": "jupyter-leaflet",
      "model_module_version": "^0.12.1",
      "model_name": "LeafletMapStyleModel",
      "state": {
       "_model_module_version": "^0.12.1",
       "_view_count": null,
       "_view_module": "@jupyter-widgets/base",
       "_view_module_version": "1.2.0",
       "_view_name": "StyleView",
       "cursor": "grab"
      }
     },
     "8e80213883d64a7b8efd4f589f82f8c4": {
      "model_module": "@jupyter-widgets/base",
      "model_module_version": "1.2.0",
      "model_name": "LayoutModel",
      "state": {}
     },
     "8e8bca74dd764b0590170a77e4c2fca2": {
      "model_module": "@jupyter-widgets/base",
      "model_module_version": "1.2.0",
      "model_name": "LayoutModel",
      "state": {}
     },
     "8ea4f7b59f3846888aa27804a8b7bd6b": {
      "model_module": "jupyter-leaflet",
      "model_module_version": "~0.9.2",
      "model_name": "LeafletMapModel",
      "state": {
       "_dom_classes": [],
       "_model_module_version": "~0.9.2",
       "_view_count": null,
       "_view_module_version": "~0.9.2",
       "basemap": {
        "attribution": "Map data (c) <a href=\"https://openstreetmap.org\">OpenStreetMap</a> contributors",
        "max_zoom": 19,
        "url": "https://{s}.tile.openstreetmap.org/{z}/{x}/{y}.png"
       },
       "center": [
        48,
        7.9
       ],
       "east": 8.228759765625002,
       "interpolation": "bilinear",
       "layers": [
        "IPY_MODEL_c206fe5856fc41a0848370624aa66829"
       ],
       "layout": "IPY_MODEL_2fbb50e078784f6e94d6eb9102805318",
       "modisdate": "yesterday",
       "north": 48.18348549519126,
       "options": [
        "attribution_control",
        "basemap",
        "bounce_at_zoom_limits",
        "box_zoom",
        "center",
        "close_popup_on_click",
        "double_click_zoom",
        "dragging",
        "inertia",
        "inertia_deceleration",
        "inertia_max_speed",
        "interpolation",
        "keyboard",
        "keyboard_pan_offset",
        "keyboard_zoom_offset",
        "max_zoom",
        "min_zoom",
        "scroll_wheel_zoom",
        "tap",
        "tap_tolerance",
        "touch_zoom",
        "world_copy_jump",
        "zoom",
        "zoom_animation_threshold",
        "zoom_control",
        "zoom_start"
       ],
       "south": 47.81592114659014,
       "west": 7.570953369140626,
       "zoom": 10
      }
     },
     "8ee3b4b475224045a722438a5a9f7d6b": {
      "model_module": "jupyter-leaflet",
      "model_module_version": "^0.12.1",
      "model_name": "LeafletMapModel",
      "state": {
       "_dom_classes": [],
       "_model_module_version": "^0.12.1",
       "_view_count": null,
       "_view_module_version": "^0.12.1",
       "center": [
        48,
        8
       ],
       "controls": [
        "IPY_MODEL_6ac2defab53a485f8153afe38a0990d0",
        "IPY_MODEL_c7f719791a594187b17822525e10d70c"
       ],
       "default_style": "IPY_MODEL_e20c6f6fc84947159f5b5c28594faedd",
       "dragging_style": "IPY_MODEL_8187742c404b4db5b055144087d199e7",
       "east": 10.634765625,
       "fullscreen": false,
       "interpolation": "bilinear",
       "layers": [
        "IPY_MODEL_481cee36ca27442696fbfa1532ce1a29",
        "IPY_MODEL_b69ff43eeae44d779c881c2b5a7a8d42"
       ],
       "layout": "IPY_MODEL_8b8c0b98050e4c60978ff41e987900e3",
       "modisdate": "yesterday",
       "north": 48.73083222613518,
       "options": [
        "bounce_at_zoom_limits",
        "box_zoom",
        "center",
        "close_popup_on_click",
        "double_click_zoom",
        "dragging",
        "fullscreen",
        "inertia",
        "inertia_deceleration",
        "inertia_max_speed",
        "interpolation",
        "keyboard",
        "keyboard_pan_offset",
        "keyboard_zoom_offset",
        "max_zoom",
        "min_zoom",
        "scroll_wheel_zoom",
        "tap",
        "tap_tolerance",
        "touch_zoom",
        "world_copy_jump",
        "zoom",
        "zoom_animation_threshold",
        "zoom_start"
       ],
       "south": 47.260592193424706,
       "style": "IPY_MODEL_8d8d054ceee445fdad18468da433a516",
       "west": 5.366821289062501,
       "zoom": 8
      }
     },
     "90186a6f3fc944d09282c9f8ee6e8aab": {
      "model_module": "@jupyter-widgets/base",
      "model_module_version": "1.2.0",
      "model_name": "LayoutModel",
      "state": {}
     },
     "90999748c5dd496080c115f0b9367120": {
      "model_module": "jupyter-leaflet",
      "model_module_version": "~0.9.2",
      "model_name": "LeafletTileLayerModel",
      "state": {
       "_model_module_version": "~0.9.2",
       "_view_count": null,
       "_view_module_version": "~0.9.2",
       "attribution": "Tiles courtesy of <a href=\"http://openstreetmap.se/\" target=\"_blank\">OpenStreetMap Sweden</a> &mdash; Map data &copy; <a href=\"http://www.openstreetmap.org/copyright\">OpenStreetMap</a>",
       "base": true,
       "min_zoom": 1,
       "name": "Hydda.Full",
       "options": [
        "attribution",
        "detect_retina",
        "max_zoom",
        "min_zoom",
        "tile_size"
       ],
       "url": "http://{s}.tile.openstreetmap.se/hydda/full/{z}/{x}/{y}.png"
      }
     },
     "90df7de65a5f4cb1963c3a7bbd582878": {
      "model_module": "@jupyter-widgets/controls",
      "model_module_version": "1.5.0",
      "model_name": "HBoxModel",
      "state": {
       "children": [
        "IPY_MODEL_ab0626e428d848a0a04b52392c04764f",
        "IPY_MODEL_673d5bb0a8854681b4124726d28594da"
       ],
       "layout": "IPY_MODEL_7b0fda2db2934b28a7adb016a4b32fe7"
      }
     },
     "9127caa63121488e99406d2df94fa0ac": {
      "model_module": "@jupyter-widgets/controls",
      "model_module_version": "1.5.0",
      "model_name": "DescriptionStyleModel",
      "state": {
       "description_width": ""
      }
     },
     "9149ada1674a40d59173a1041441338d": {
      "model_module": "@jupyter-widgets/controls",
      "model_module_version": "1.5.0",
      "model_name": "SelectionSliderModel",
      "state": {
       "_options_labels": [
        "13:00",
        "13:30",
        "14:00",
        "14:30",
        "15:00",
        "15:30",
        "16:00",
        "16:30"
       ],
       "description": "Time:",
       "index": 0,
       "layout": "IPY_MODEL_1f358c486af641d49f729534e05ca4a6",
       "style": "IPY_MODEL_5ebfe503a9774cc19803cb4554766bdf"
      }
     },
     "920695e79b5548a18dd6daf0410415a9": {
      "model_module": "jupyter-leaflet",
      "model_module_version": "^0.12.1",
      "model_name": "LeafletTileLayerModel",
      "state": {
       "_model_module_version": "^0.12.1",
       "_view_count": null,
       "_view_module_version": "^0.12.1",
       "attribution": "&copy; <a href=\"http://www.openstreetmap.org/copyright\">OpenStreetMap</a> &copy; <a href=\"http://cartodb.com/attributions\">CartoDB</a>",
       "base": true,
       "loading": false,
       "max_native_zoom": 18,
       "max_zoom": 20,
       "min_native_zoom": 0,
       "min_zoom": 1,
       "name": "CartoDB.Positron",
       "no_wrap": false,
       "options": [
        "attribution",
        "detect_retina",
        "max_native_zoom",
        "max_zoom",
        "min_native_zoom",
        "min_zoom",
        "no_wrap",
        "tile_size",
        "tms"
       ],
       "url": "http://c.basemaps.cartocdn.com/light_all/{z}/{x}/{y}.png"
      }
     },
     "927627761a1b40018ad07a5863e160ff": {
      "model_module": "@jupyter-widgets/controls",
      "model_module_version": "1.5.0",
      "model_name": "DescriptionStyleModel",
      "state": {
       "description_width": ""
      }
     },
     "932db1fcdaf6462fab20388e3253ce94": {
      "model_module": "@jupyter-widgets/controls",
      "model_module_version": "1.5.0",
      "model_name": "SelectionSliderModel",
      "state": {
       "_options_labels": [
        "13:00",
        "13:30",
        "14:00",
        "14:30",
        "15:00",
        "15:30",
        "16:00",
        "16:30"
       ],
       "description": "Time:",
       "index": 0,
       "layout": "IPY_MODEL_a2f05315dddc419d88325139a218c622",
       "style": "IPY_MODEL_9127caa63121488e99406d2df94fa0ac"
      }
     },
     "94488c41e3bc44e49ba4c96d183c963f": {
      "model_module": "@jupyter-widgets/base",
      "model_module_version": "1.2.0",
      "model_name": "LayoutModel",
      "state": {}
     },
     "94b21977b30e46aa929fdaa2975c6344": {
      "model_module": "jupyter-leaflet",
      "model_module_version": "^0.12.1",
      "model_name": "LeafletAttributionControlModel",
      "state": {
       "_model_module_version": "^0.12.1",
       "_view_count": null,
       "_view_module_version": "^0.12.1",
       "options": [
        "position",
        "prefix"
       ],
       "position": "bottomright",
       "prefix": "Leaflet"
      }
     },
     "94c813831f574fd8a547abfe82822b85": {
      "model_module": "@jupyter-widgets/controls",
      "model_module_version": "1.5.0",
      "model_name": "LabelModel",
      "state": {
       "layout": "IPY_MODEL_1e58908dc3264845be9fef2590bd8fbf",
       "style": "IPY_MODEL_e84a4864d87b40ca9db358b8d5bd9729"
      }
     },
     "951a935c88d4460ca625c4b9194aac53": {
      "model_module": "jupyter-leaflet",
      "model_module_version": "^0.12.1",
      "model_name": "LeafletTileLayerModel",
      "state": {
       "_model_module_version": "^0.12.1",
       "_view_count": null,
       "_view_module_version": "^0.12.1",
       "base": true,
       "loading": false,
       "max_native_zoom": 18,
       "max_zoom": 19,
       "min_native_zoom": 0,
       "min_zoom": 1,
       "no_wrap": false,
       "options": [
        "attribution",
        "detect_retina",
        "max_native_zoom",
        "max_zoom",
        "min_native_zoom",
        "min_zoom",
        "no_wrap",
        "tile_size",
        "tms"
       ]
      }
     },
     "954292eca1cb4a8b8360bf146a931ece": {
      "model_module": "@jupyter-widgets/base",
      "model_module_version": "1.2.0",
      "model_name": "LayoutModel",
      "state": {}
     },
     "954a928213f748a8a411dd635e60aa66": {
      "model_module": "jupyter-leaflet",
      "model_module_version": "^0.12.1",
      "model_name": "LeafletMapModel",
      "state": {
       "_dom_classes": [],
       "_model_module_version": "^0.12.1",
       "_view_count": null,
       "_view_module_version": "^0.12.1",
       "center": [
        30.675715404167743,
        -88.63769531250001
       ],
       "controls": [
        "IPY_MODEL_def07c40e91748c3b0d1981bd45cc879",
        "IPY_MODEL_6752be8fc91540329d6d6d3cc0f22108"
       ],
       "default_style": "IPY_MODEL_dbe4e90e5426466f9597fc72e875d584",
       "dragging_style": "IPY_MODEL_680df379e7bc47f3b524695704a9f8c4",
       "east": -180,
       "fullscreen": false,
       "interpolation": "bilinear",
       "layers": [
        "IPY_MODEL_86d33c82fe18436e9107f2d51cdd86ff",
        "IPY_MODEL_a257217152f1450b982a72ee8f84dcb7"
       ],
       "layout": "IPY_MODEL_e48726183d9147ff96e5e258b0b7ba17",
       "modisdate": "yesterday",
       "north": -90,
       "options": [
        "bounce_at_zoom_limits",
        "box_zoom",
        "center",
        "close_popup_on_click",
        "double_click_zoom",
        "dragging",
        "fullscreen",
        "inertia",
        "inertia_deceleration",
        "inertia_max_speed",
        "interpolation",
        "keyboard",
        "keyboard_pan_offset",
        "keyboard_zoom_offset",
        "max_zoom",
        "min_zoom",
        "scroll_wheel_zoom",
        "tap",
        "tap_tolerance",
        "touch_zoom",
        "world_copy_jump",
        "zoom",
        "zoom_animation_threshold",
        "zoom_start"
       ],
       "south": 90,
       "style": "IPY_MODEL_dbe4e90e5426466f9597fc72e875d584",
       "west": 180,
       "zoom": 5
      }
     },
     "95815563991948a3bf133626210dc2a0": {
      "model_module": "jupyter-leaflet",
      "model_module_version": "^0.12.1",
      "model_name": "LeafletZoomControlModel",
      "state": {
       "_model_module_version": "^0.12.1",
       "_view_count": null,
       "_view_module_version": "^0.12.1",
       "options": [
        "position",
        "zoom_in_text",
        "zoom_in_title",
        "zoom_out_text",
        "zoom_out_title"
       ]
      }
     },
     "9621d768368d46a2bc9870ff9f836d8a": {
      "model_module": "@jupyter-widgets/base",
      "model_module_version": "1.2.0",
      "model_name": "LayoutModel",
      "state": {}
     },
     "965a40387bd04092b9b33bf42e6633e1": {
      "model_module": "jupyter-leaflet",
      "model_module_version": "~0.9.2",
      "model_name": "LeafletLayersControlModel",
      "state": {
       "_model_module_version": "~0.9.2",
       "_view_count": null,
       "_view_module_version": "~0.9.2"
      }
     },
     "9714fac8eab543b5b5c16fc81c08d911": {
      "model_module": "jupyter-leaflet",
      "model_module_version": "^0.12.1",
      "model_name": "LeafletAttributionControlModel",
      "state": {
       "_model_module_version": "^0.12.1",
       "_view_count": null,
       "_view_module_version": "^0.12.1",
       "options": [
        "position",
        "prefix"
       ],
       "position": "bottomright",
       "prefix": "Leaflet"
      }
     },
     "9734ca9ae21340c08e0f7d70f8255aac": {
      "model_module": "@jupyter-widgets/controls",
      "model_module_version": "1.5.0",
      "model_name": "SelectionSliderModel",
      "state": {
       "_options_labels": [
        "13:00",
        "13:30",
        "14:00",
        "14:30",
        "15:00",
        "15:30",
        "16:00",
        "16:30"
       ],
       "description": "Time:",
       "index": 6,
       "layout": "IPY_MODEL_94488c41e3bc44e49ba4c96d183c963f",
       "style": "IPY_MODEL_dd2e6a4a3db540bd99b5088b3692d5f3"
      }
     },
     "975b08c55fbc4fa3a5274dcb02c011c9": {
      "model_module": "@jupyter-widgets/controls",
      "model_module_version": "1.5.0",
      "model_name": "LabelModel",
      "state": {
       "layout": "IPY_MODEL_53db0ea77b78447ab66232b2362065dc",
       "style": "IPY_MODEL_a6f2b44fde2a4007a40ce1377849242d",
       "value": "[48.5915664423796, 6.01393821501746]"
      }
     },
     "97620df4c9dd4ace9fc74252d12c5710": {
      "model_module": "jupyter-leaflet",
      "model_module_version": "^0.12.1",
      "model_name": "LeafletTileLayerModel",
      "state": {
       "_model_module_version": "^0.12.1",
       "_view_count": null,
       "_view_module_version": "^0.12.1",
       "attribution": "&copy; <a href=\"http://www.openstreetmap.org/copyright\">OpenStreetMap</a> &copy; <a href=\"http://cartodb.com/attributions\">CartoDB</a>",
       "base": true,
       "loading": false,
       "max_native_zoom": 18,
       "max_zoom": 20,
       "min_native_zoom": 0,
       "min_zoom": 1,
       "name": "CartoDB.Positron",
       "no_wrap": false,
       "options": [
        "attribution",
        "detect_retina",
        "max_native_zoom",
        "max_zoom",
        "min_native_zoom",
        "min_zoom",
        "no_wrap",
        "tile_size",
        "tms"
       ],
       "url": "http://c.basemaps.cartocdn.com/light_all/{z}/{x}/{y}.png"
      }
     },
     "97c237aa6eff4e34a73b4e3143922049": {
      "model_module": "jupyter-leaflet",
      "model_module_version": "^0.12.1",
      "model_name": "LeafletAttributionControlModel",
      "state": {
       "_model_module_version": "^0.12.1",
       "_view_count": null,
       "_view_module_version": "^0.12.1",
       "options": [
        "position",
        "prefix"
       ],
       "position": "bottomright",
       "prefix": "Leaflet"
      }
     },
     "97f46b0fa80445deb992ffc1a8282ed9": {
      "model_module": "jupyter-leaflet",
      "model_module_version": "~0.9.2",
      "model_name": "LeafletMapModel",
      "state": {
       "_dom_classes": [],
       "_model_module_version": "~0.9.2",
       "_view_count": null,
       "_view_module_version": "~0.9.2",
       "basemap": {
        "attribution": "Map data (c) <a href=\"https://openstreetmap.org\">OpenStreetMap</a> contributors",
        "max_zoom": 19,
        "url": "https://{s}.tile.openstreetmap.org/{z}/{x}/{y}.png"
       },
       "center": [
        43.6,
        1.44
       ],
       "east": 1.7742919921875002,
       "interpolation": "bilinear",
       "layers": [
        "IPY_MODEL_b80ad7606c5b4f399666673b6733b168"
       ],
       "layout": "IPY_MODEL_2f3eac376bd74697a9c40eb136cb50a3",
       "modisdate": "yesterday",
       "north": 43.79885402720353,
       "options": [
        "attribution_control",
        "basemap",
        "bounce_at_zoom_limits",
        "box_zoom",
        "center",
        "close_popup_on_click",
        "double_click_zoom",
        "dragging",
        "inertia",
        "inertia_deceleration",
        "inertia_max_speed",
        "interpolation",
        "keyboard",
        "keyboard_pan_offset",
        "keyboard_zoom_offset",
        "max_zoom",
        "min_zoom",
        "scroll_wheel_zoom",
        "tap",
        "tap_tolerance",
        "touch_zoom",
        "world_copy_jump",
        "zoom",
        "zoom_animation_threshold",
        "zoom_control",
        "zoom_start"
       ],
       "south": 43.401056495052906,
       "west": 1.1054992675781252,
       "zoom": 10
      }
     },
     "98dea48e9978476180c167eaa75efda7": {
      "model_module": "jupyter-leaflet",
      "model_module_version": "^0.12.1",
      "model_name": "LeafletTileLayerModel",
      "state": {
       "_model_module_version": "^0.12.1",
       "_view_count": null,
       "_view_module_version": "^0.12.1",
       "attribution": "&copy; <a href=\"http://www.openstreetmap.org/copyright\">OpenStreetMap</a> &copy; <a href=\"http://cartodb.com/attributions\">CartoDB</a>",
       "base": true,
       "loading": false,
       "max_native_zoom": 18,
       "max_zoom": 20,
       "min_native_zoom": 0,
       "min_zoom": 1,
       "name": "CartoDB.Positron",
       "no_wrap": false,
       "options": [
        "attribution",
        "detect_retina",
        "max_native_zoom",
        "max_zoom",
        "min_native_zoom",
        "min_zoom",
        "no_wrap",
        "tile_size",
        "tms"
       ],
       "url": "http://c.basemaps.cartocdn.com/light_all/{z}/{x}/{y}.png"
      }
     },
     "99477f57c1514c26b771b73787f6457d": {
      "model_module": "jupyter-leaflet",
      "model_module_version": "^0.12.1",
      "model_name": "LeafletZoomControlModel",
      "state": {
       "_model_module_version": "^0.12.1",
       "_view_count": null,
       "_view_module_version": "^0.12.1",
       "options": [
        "position",
        "zoom_in_text",
        "zoom_in_title",
        "zoom_out_text",
        "zoom_out_title"
       ]
      }
     },
     "9968de95942445afa52f32d511e61aee": {
      "model_module": "jupyter-leaflet",
      "model_module_version": "^0.12.1",
      "model_name": "LeafletMapStyleModel",
      "state": {
       "_model_module_version": "^0.12.1",
       "_view_count": null,
       "_view_module": "@jupyter-widgets/base",
       "_view_module_version": "1.2.0",
       "_view_name": "StyleView",
       "cursor": "move"
      }
     },
     "998a9b816d1e49ef956399e528420182": {
      "model_module": "@jupyter-widgets/base",
      "model_module_version": "1.2.0",
      "model_name": "LayoutModel",
      "state": {}
     },
     "999f7c8d99cc4a40a621e885ed469701": {
      "model_module": "@jupyter-widgets/base",
      "model_module_version": "1.2.0",
      "model_name": "LayoutModel",
      "state": {}
     },
     "99c814030b8d4b49986a5db2370f51a2": {
      "model_module": "jupyter-leaflet",
      "model_module_version": "^0.12.1",
      "model_name": "LeafletMapStyleModel",
      "state": {
       "_model_module_version": "^0.12.1",
       "_view_count": null,
       "_view_module": "@jupyter-widgets/base",
       "_view_module_version": "1.2.0",
       "_view_name": "StyleView",
       "cursor": "move"
      }
     },
     "9a623d82ed5845ef9b7a2b1044ca23ac": {
      "model_module": "@jupyter-widgets/base",
      "model_module_version": "1.2.0",
      "model_name": "LayoutModel",
      "state": {}
     },
     "9aae6317a4034b939de53429cec3c1db": {
      "model_module": "jupyter-leaflet",
      "model_module_version": "^0.12.1",
      "model_name": "LeafletMapStyleModel",
      "state": {
       "_model_module_version": "^0.12.1",
       "_view_count": null,
       "_view_module": "@jupyter-widgets/base",
       "_view_module_version": "1.2.0",
       "_view_name": "StyleView",
       "cursor": "grab"
      }
     },
     "9b299cae66c4462eb307f0e1b45da4bc": {
      "model_module": "@jupyter-widgets/base",
      "model_module_version": "1.2.0",
      "model_name": "LayoutModel",
      "state": {}
     },
     "9b590ba3a72f44d28044e0df76aed117": {
      "model_module": "jupyter-leaflet",
      "model_module_version": "^0.12.1",
      "model_name": "LeafletMapStyleModel",
      "state": {
       "_model_module_version": "^0.12.1",
       "_view_count": null,
       "_view_module": "@jupyter-widgets/base",
       "_view_module_version": "1.2.0",
       "_view_name": "StyleView",
       "cursor": "grab"
      }
     },
     "9b8e4b995034409086581a2b7386a981": {
      "model_module": "jupyter-leaflet",
      "model_module_version": "^0.12.1",
      "model_name": "LeafletTileLayerModel",
      "state": {
       "_model_module_version": "^0.12.1",
       "_view_count": null,
       "_view_module_version": "^0.12.1",
       "attribution": "Map tiles by <a href=\"https://labs.strava.com/heatmap\">Strava 2017</a>",
       "loading": false,
       "max_native_zoom": 18,
       "max_zoom": 15,
       "min_native_zoom": 0,
       "min_zoom": 1,
       "name": "Strava.Water",
       "no_wrap": false,
       "options": [
        "attribution",
        "detect_retina",
        "max_native_zoom",
        "max_zoom",
        "min_native_zoom",
        "min_zoom",
        "no_wrap",
        "tile_size",
        "tms"
       ],
       "url": "https://heatmap-external-a.strava.com//tiles/water/blue/{z}/{x}/{y}.png?v=19"
      }
     },
     "9bda07807e3a40f28cc3d5dddc56f727": {
      "model_module": "jupyter-leaflet",
      "model_module_version": "^0.12.1",
      "model_name": "LeafletMapStyleModel",
      "state": {
       "_model_module_version": "^0.12.1",
       "_view_count": null,
       "_view_module": "@jupyter-widgets/base",
       "_view_module_version": "1.2.0",
       "_view_name": "StyleView",
       "cursor": "move"
      }
     },
     "9c1677ba6c6940a9b87e67c2e8e6292b": {
      "model_module": "jupyter-leaflet",
      "model_module_version": "~0.9.2",
      "model_name": "LeafletTileLayerModel",
      "state": {
       "_model_module_version": "~0.9.2",
       "_view_count": null,
       "_view_module_version": "~0.9.2",
       "attribution": "Map tiles by <a href=\"https://labs.strava.com/heatmap\">Strava 2017</a>",
       "max_zoom": 15,
       "min_zoom": 1,
       "name": "Strava.All",
       "options": [
        "attribution",
        "detect_retina",
        "max_zoom",
        "min_zoom",
        "tile_size"
       ],
       "url": "https://heatmap-external-a.strava.com//tiles/all/hot/{z}/{x}/{y}.png?v=19"
      }
     },
     "9cca2a922db74ac2a45d308a30fa19ff": {
      "model_module": "jupyter-leaflet",
      "model_module_version": "^0.12.1",
      "model_name": "LeafletLayersControlModel",
      "state": {
       "_model_module_version": "^0.12.1",
       "_view_count": null,
       "_view_module_version": "^0.12.1",
       "options": [
        "position"
       ]
      }
     },
     "9ce5f694ade343d4934c2bc8af1273c9": {
      "model_module": "@jupyter-widgets/controls",
      "model_module_version": "1.5.0",
      "model_name": "HBoxModel",
      "state": {
       "children": [
        "IPY_MODEL_357b740044d546d5ab4fcb2350704dbc",
        "IPY_MODEL_8ea4f7b59f3846888aa27804a8b7bd6b"
       ],
       "layout": "IPY_MODEL_9b299cae66c4462eb307f0e1b45da4bc"
      }
     },
     "9cecc09a2cf842b395ca3a4f4186b5c1": {
      "model_module": "jupyter-leaflet",
      "model_module_version": "^0.12.1",
      "model_name": "LeafletMapStyleModel",
      "state": {
       "_model_module_version": "^0.12.1",
       "_view_count": null,
       "_view_module": "@jupyter-widgets/base",
       "_view_module_version": "1.2.0",
       "_view_name": "StyleView",
       "cursor": "grab"
      }
     },
     "9cedd982cc9a4789b3a7b675bf727210": {
      "model_module": "jupyter-leaflet",
      "model_module_version": "^0.12.1",
      "model_name": "LeafletMapStyleModel",
      "state": {
       "_model_module_version": "^0.12.1",
       "_view_count": null,
       "_view_module": "@jupyter-widgets/base",
       "_view_module_version": "1.2.0",
       "_view_name": "StyleView",
       "cursor": "move"
      }
     },
     "9d80ea246f28492c828e8921e018abc7": {
      "model_module": "@jupyter-widgets/base",
      "model_module_version": "1.2.0",
      "model_name": "LayoutModel",
      "state": {}
     },
     "9e694740cf5944c2b87fc9f164c0a39b": {
      "model_module": "jupyter-leaflet",
      "model_module_version": "~0.9.2",
      "model_name": "LeafletTileLayerModel",
      "state": {
       "_model_module_version": "~0.9.2",
       "_view_count": null,
       "_view_module_version": "~0.9.2",
       "attribution": "Tiles courtesy of <a href=\"http://openstreetmap.se/\" target=\"_blank\">OpenStreetMap Sweden</a> &mdash; Map data &copy; <a href=\"http://www.openstreetmap.org/copyright\">OpenStreetMap</a>",
       "base": true,
       "min_zoom": 1,
       "name": "Hydda.Full",
       "options": [
        "attribution",
        "detect_retina",
        "max_zoom",
        "min_zoom",
        "tile_size"
       ],
       "url": "http://{s}.tile.openstreetmap.se/hydda/full/{z}/{x}/{y}.png"
      }
     },
     "9eb800e558a849aab48b7f3e3dcc8b15": {
      "model_module": "@jupyter-widgets/base",
      "model_module_version": "1.2.0",
      "model_name": "LayoutModel",
      "state": {}
     },
     "9ec9737151454ecf8902796fd725849f": {
      "model_module": "@jupyter-widgets/base",
      "model_module_version": "1.2.0",
      "model_name": "LayoutModel",
      "state": {}
     },
     "9ecbf233c2de4d35872e529bb0201d24": {
      "model_module": "jupyter-leaflet",
      "model_module_version": "^0.12.1",
      "model_name": "LeafletTileLayerModel",
      "state": {
       "_model_module_version": "^0.12.1",
       "_view_count": null,
       "_view_module_version": "^0.12.1",
       "attribution": "Tiles courtesy of <a href=\"http://openstreetmap.se/\" target=\"_blank\">OpenStreetMap Sweden</a> &mdash; Map data &copy; <a href=\"http://www.openstreetmap.org/copyright\">OpenStreetMap</a>",
       "base": true,
       "loading": false,
       "max_native_zoom": 18,
       "min_native_zoom": 0,
       "min_zoom": 1,
       "name": "Hydda.Full",
       "no_wrap": false,
       "options": [
        "attribution",
        "detect_retina",
        "max_native_zoom",
        "max_zoom",
        "min_native_zoom",
        "min_zoom",
        "no_wrap",
        "tile_size",
        "tms"
       ],
       "url": "http://{s}.tile.openstreetmap.se/hydda/full/{z}/{x}/{y}.png"
      }
     },
     "9f09bce1cbde4dd1a1632fe26532512f": {
      "model_module": "jupyter-leaflet",
      "model_module_version": "^0.11.6",
      "model_name": "LeafletTileLayerModel",
      "state": {
       "_model_module_version": "^0.11.6",
       "_view_count": null,
       "_view_module_version": "^0.11.6",
       "attribution": "Tiles courtesy of <a href=\"http://openstreetmap.se/\" target=\"_blank\">OpenStreetMap Sweden</a> &mdash; Map data &copy; <a href=\"http://www.openstreetmap.org/copyright\">OpenStreetMap</a>",
       "base": true,
       "max_native_zoom": 18,
       "min_native_zoom": 0,
       "min_zoom": 1,
       "name": "Hydda.Full",
       "no_wrap": false,
       "options": [
        "attribution",
        "detect_retina",
        "max_native_zoom",
        "max_zoom",
        "min_native_zoom",
        "min_zoom",
        "no_wrap",
        "tile_size",
        "tms"
       ],
       "url": "http://{s}.tile.openstreetmap.se/hydda/full/{z}/{x}/{y}.png"
      }
     },
     "9f51004f53114ace83b2f09f2c78f85b": {
      "model_module": "@jupyter-widgets/base",
      "model_module_version": "1.2.0",
      "model_name": "LayoutModel",
      "state": {}
     },
     "9fa267c3ebe64c269a315ceb4fe944b9": {
      "model_module": "jupyter-leaflet",
      "model_module_version": "^0.12.1",
      "model_name": "LeafletMapStyleModel",
      "state": {
       "_model_module_version": "^0.12.1",
       "_view_count": null,
       "_view_module": "@jupyter-widgets/base",
       "_view_module_version": "1.2.0",
       "_view_name": "StyleView",
       "cursor": "grab"
      }
     },
     "a0347d8158984da093ce4a06e0aba030": {
      "model_module": "jupyter-leaflet",
      "model_module_version": "^0.12.1",
      "model_name": "LeafletMapModel",
      "state": {
       "_dom_classes": [],
       "_model_module_version": "^0.12.1",
       "_view_count": null,
       "_view_module_version": "^0.12.1",
       "center": [
        30.675715404167743,
        -88.63769531250001
       ],
       "controls": [
        "IPY_MODEL_2fc5b8afa16f44d38e46268fde768960",
        "IPY_MODEL_11c4f5a15cf64b14a44224a7b87f4a9e"
       ],
       "default_style": "IPY_MODEL_43f000f9e8c640f3b6d13f8a0ef2f10d",
       "dragging_style": "IPY_MODEL_01091223f140422d86a27b4c2e27affb",
       "east": -180,
       "fullscreen": false,
       "interpolation": "bilinear",
       "layers": [
        "IPY_MODEL_2119c3b3c14e4b308d25478587947b80",
        "IPY_MODEL_310711b9f3db411ebe77b96017aae62a"
       ],
       "layout": "IPY_MODEL_24bb3a1618564a588ab5802981aa0bf3",
       "modisdate": "yesterday",
       "north": -90,
       "options": [
        "bounce_at_zoom_limits",
        "box_zoom",
        "center",
        "close_popup_on_click",
        "double_click_zoom",
        "dragging",
        "fullscreen",
        "inertia",
        "inertia_deceleration",
        "inertia_max_speed",
        "interpolation",
        "keyboard",
        "keyboard_pan_offset",
        "keyboard_zoom_offset",
        "max_zoom",
        "min_zoom",
        "scroll_wheel_zoom",
        "tap",
        "tap_tolerance",
        "touch_zoom",
        "world_copy_jump",
        "zoom",
        "zoom_animation_threshold",
        "zoom_start"
       ],
       "south": 90,
       "style": "IPY_MODEL_43f000f9e8c640f3b6d13f8a0ef2f10d",
       "west": 180,
       "zoom": 5
      }
     },
     "a0fd1dfc5d4d4bac97aeb5f361ea3052": {
      "model_module": "jupyter-leaflet",
      "model_module_version": "^0.12.1",
      "model_name": "LeafletMapStyleModel",
      "state": {
       "_model_module_version": "^0.12.1",
       "_view_count": null,
       "_view_module": "@jupyter-widgets/base",
       "_view_module_version": "1.2.0",
       "_view_name": "StyleView",
       "cursor": "grab"
      }
     },
     "a123d52685564478b9c349ab98195b06": {
      "model_module": "@jupyter-widgets/controls",
      "model_module_version": "1.5.0",
      "model_name": "HBoxModel",
      "state": {
       "children": [
        "IPY_MODEL_2a0f6d89c0844b93a69ef9742d7acb6b",
        "IPY_MODEL_e27658e30b9b452594d2d8f9d49475ed"
       ],
       "layout": "IPY_MODEL_1d41ee65b30f4d4db7a473e757de33a4"
      }
     },
     "a17fee91d1b446cf9561b945f8be99a4": {
      "model_module": "jupyter-leaflet",
      "model_module_version": "^0.12.1",
      "model_name": "LeafletAttributionControlModel",
      "state": {
       "_model_module_version": "^0.12.1",
       "_view_count": null,
       "_view_module_version": "^0.12.1",
       "options": [
        "position",
        "prefix"
       ],
       "position": "bottomright",
       "prefix": "Leaflet"
      }
     },
     "a200d19478844c54b14f8c8b7497e4c7": {
      "model_module": "jupyter-leaflet",
      "model_module_version": "^0.12.1",
      "model_name": "LeafletMapModel",
      "state": {
       "_dom_classes": [],
       "_model_module_version": "^0.12.1",
       "_view_count": null,
       "_view_module_version": "^0.12.1",
       "center": [
        48,
        8
       ],
       "controls": [
        "IPY_MODEL_5222473b23a241cda44455d33b7add87",
        "IPY_MODEL_ceda651b259243a4a704cfec5fccb0af",
        "IPY_MODEL_a26ea3c3c5084f0481e763083b338785"
       ],
       "default_style": "IPY_MODEL_388669dce6964012a0388b1282188acb",
       "dragging_style": "IPY_MODEL_39d1637e24b740e0bac5241eb32f444c",
       "east": 10.634765625,
       "fullscreen": false,
       "interpolation": "bilinear",
       "layers": [
        "IPY_MODEL_561eef377cf749f3904bdba3790bd0bd",
        "IPY_MODEL_9b8e4b995034409086581a2b7386a981",
        "IPY_MODEL_bdfcc9c1ac464b12a8864b7adc263357"
       ],
       "layout": "IPY_MODEL_402cc7fe0e804bbbb6f372510cd7d5ed",
       "modisdate": "yesterday",
       "north": 48.73083222613518,
       "options": [
        "bounce_at_zoom_limits",
        "box_zoom",
        "center",
        "close_popup_on_click",
        "double_click_zoom",
        "dragging",
        "fullscreen",
        "inertia",
        "inertia_deceleration",
        "inertia_max_speed",
        "interpolation",
        "keyboard",
        "keyboard_pan_offset",
        "keyboard_zoom_offset",
        "max_zoom",
        "min_zoom",
        "scroll_wheel_zoom",
        "tap",
        "tap_tolerance",
        "touch_zoom",
        "world_copy_jump",
        "zoom",
        "zoom_animation_threshold",
        "zoom_start"
       ],
       "south": 47.260592193424706,
       "style": "IPY_MODEL_388669dce6964012a0388b1282188acb",
       "west": 5.366821289062501,
       "zoom": 8
      }
     },
     "a257217152f1450b982a72ee8f84dcb7": {
      "model_module": "jupyter-leaflet",
      "model_module_version": "^0.12.1",
      "model_name": "LeafletWMSLayerModel",
      "state": {
       "_model_module_version": "^0.12.1",
       "_view_count": null,
       "_view_module_version": "^0.12.1",
       "attribution": "Weather data © 2012 IEM Nexrad",
       "crs": "EPSG3857",
       "format": "image/png",
       "layers": "nexrad-n0r-wmst",
       "loading": false,
       "max_native_zoom": 18,
       "min_native_zoom": 0,
       "no_wrap": false,
       "options": [
        "attribution",
        "detect_retina",
        "format",
        "layers",
        "max_native_zoom",
        "max_zoom",
        "min_native_zoom",
        "min_zoom",
        "no_wrap",
        "styles",
        "tile_size",
        "time",
        "tms",
        "transparent",
        "uppercase"
       ],
       "time": "2005-08-29T13:00:00Z",
       "transparent": true,
       "url": "https://mesonet.agron.iastate.edu/cgi-bin/wms/nexrad/n0r-t.cgi?"
      }
     },
     "a26ea3c3c5084f0481e763083b338785": {
      "model_module": "jupyter-leaflet",
      "model_module_version": "^0.12.1",
      "model_name": "LeafletLayersControlModel",
      "state": {
       "_model_module_version": "^0.12.1",
       "_view_count": null,
       "_view_module_version": "^0.12.1",
       "options": [
        "position"
       ]
      }
     },
     "a2f05315dddc419d88325139a218c622": {
      "model_module": "@jupyter-widgets/base",
      "model_module_version": "1.2.0",
      "model_name": "LayoutModel",
      "state": {}
     },
     "a36e0a7925ea477c95fd4e2560083baf": {
      "model_module": "@jupyter-widgets/controls",
      "model_module_version": "1.5.0",
      "model_name": "DescriptionStyleModel",
      "state": {
       "description_width": ""
      }
     },
     "a3791b4b0fcf475988cc4504a8921491": {
      "model_module": "jupyter-leaflet",
      "model_module_version": "^0.12.1",
      "model_name": "LeafletTileLayerModel",
      "state": {
       "_model_module_version": "^0.12.1",
       "_view_count": null,
       "_view_module_version": "^0.12.1",
       "attribution": "&copy; <a href=\"http://www.openstreetmap.org/copyright\">OpenStreetMap</a> &copy; <a href=\"http://cartodb.com/attributions\">CartoDB</a>",
       "base": true,
       "loading": false,
       "max_native_zoom": 18,
       "max_zoom": 20,
       "min_native_zoom": 0,
       "min_zoom": 1,
       "name": "CartoDB.Positron",
       "no_wrap": false,
       "options": [
        "attribution",
        "detect_retina",
        "max_native_zoom",
        "max_zoom",
        "min_native_zoom",
        "min_zoom",
        "no_wrap",
        "tile_size",
        "tms"
       ],
       "url": "http://c.basemaps.cartocdn.com/light_all/{z}/{x}/{y}.png"
      }
     },
     "a3f1d68f717c4c839e61eb1b0ded725f": {
      "model_module": "jupyter-leaflet",
      "model_module_version": "^0.12.1",
      "model_name": "LeafletWMSLayerModel",
      "state": {
       "_model_module_version": "^0.12.1",
       "_view_count": null,
       "_view_module_version": "^0.12.1",
       "attribution": "Weather data © 2012 IEM Nexrad",
       "crs": "EPSG3857",
       "format": "image/png",
       "layers": "nexrad-n0r-wmst",
       "loading": false,
       "max_native_zoom": 18,
       "min_native_zoom": 0,
       "no_wrap": false,
       "options": [
        "attribution",
        "detect_retina",
        "format",
        "layers",
        "max_native_zoom",
        "max_zoom",
        "min_native_zoom",
        "min_zoom",
        "no_wrap",
        "styles",
        "tile_size",
        "time",
        "tms",
        "transparent",
        "uppercase"
       ],
       "time": "2005-08-29T13:00:00Z",
       "transparent": true,
       "url": "https://mesonet.agron.iastate.edu/cgi-bin/wms/nexrad/n0r-t.cgi?"
      }
     },
     "a3f8b614f5aa46668642180d64188325": {
      "model_module": "jupyter-leaflet",
      "model_module_version": "^0.12.1",
      "model_name": "LeafletMapStyleModel",
      "state": {
       "_model_module_version": "^0.12.1",
       "_view_count": null,
       "_view_module": "@jupyter-widgets/base",
       "_view_module_version": "1.2.0",
       "_view_name": "StyleView",
       "cursor": "move"
      }
     },
     "a41e489f00d745df8f59ef8acdff6c94": {
      "model_module": "jupyter-leaflet",
      "model_module_version": "^0.12.1",
      "model_name": "LeafletMapStyleModel",
      "state": {
       "_model_module_version": "^0.12.1",
       "_view_count": null,
       "_view_module": "@jupyter-widgets/base",
       "_view_module_version": "1.2.0",
       "_view_name": "StyleView",
       "cursor": "grab"
      }
     },
     "a4c4e6d2c3dc4f26a01f96702e42345f": {
      "model_module": "@jupyter-widgets/base",
      "model_module_version": "1.2.0",
      "model_name": "LayoutModel",
      "state": {}
     },
     "a4d7bb63c40a4b33b029fb1f24bcd53d": {
      "model_module": "jupyter-leaflet",
      "model_module_version": "~0.9.2",
      "model_name": "LeafletMapModel",
      "state": {
       "_dom_classes": [],
       "_model_module_version": "~0.9.2",
       "_view_count": null,
       "_view_module_version": "~0.9.2",
       "basemap": {
        "attribution": "Tiles courtesy of <a href=\"http://openstreetmap.se/\" target=\"_blank\">OpenStreetMap Sweden</a> &mdash; Map data &copy; <a href=\"http://www.openstreetmap.org/copyright\">OpenStreetMap</a>",
        "max_zoom": 18,
        "name": "Hydda.Full",
        "url": "http://{s}.tile.openstreetmap.se/hydda/full/{z}/{x}/{y}.png"
       },
       "center": [
        47.96510025611193,
        7.854537963867188
       ],
       "controls": [
        "IPY_MODEL_e5ddef9d254648a7b3d3771a314711c3"
       ],
       "east": 8.526763916015627,
       "interpolation": "bilinear",
       "layers": [
        "IPY_MODEL_11799fa0378b460cab9564b4cb125493",
        "IPY_MODEL_9c1677ba6c6940a9b87e67c2e8e6292b",
        "IPY_MODEL_84666b81e319482e944b417561ecb0e0",
        "IPY_MODEL_2c8ee408404744db88e72b9202bda5f1"
       ],
       "layout": "IPY_MODEL_460eb2dfac544ab8b3d98a458e2768fd",
       "modisdate": "yesterday",
       "north": 48.148679437804546,
       "options": [
        "attribution_control",
        "basemap",
        "bounce_at_zoom_limits",
        "box_zoom",
        "center",
        "close_popup_on_click",
        "double_click_zoom",
        "dragging",
        "inertia",
        "inertia_deceleration",
        "inertia_max_speed",
        "interpolation",
        "keyboard",
        "keyboard_pan_offset",
        "keyboard_zoom_offset",
        "max_zoom",
        "min_zoom",
        "scroll_wheel_zoom",
        "tap",
        "tap_tolerance",
        "touch_zoom",
        "world_copy_jump",
        "zoom",
        "zoom_animation_threshold",
        "zoom_control",
        "zoom_start"
       ],
       "south": 47.78086628636737,
       "west": 7.182312011718751,
       "zoom": 10
      }
     },
     "a4e7b4e8a63c41c2826a5611dc35f854": {
      "model_module": "@jupyter-widgets/controls",
      "model_module_version": "1.5.0",
      "model_name": "LabelModel",
      "state": {
       "layout": "IPY_MODEL_5eada4b0bcb743ceb221bc89d6010ccc",
       "style": "IPY_MODEL_f50771e149a44edda1be2d98cf4797d6"
      }
     },
     "a51df39cf5be494e90ee81c2782a400f": {
      "model_module": "jupyter-leaflet",
      "model_module_version": "~0.9.2",
      "model_name": "LeafletMapModel",
      "state": {
       "_dom_classes": [],
       "_model_module_version": "~0.9.2",
       "_view_count": null,
       "_view_module_version": "~0.9.2",
       "basemap": {
        "attribution": "Tiles courtesy of <a href=\"http://openstreetmap.se/\" target=\"_blank\">OpenStreetMap Sweden</a> &mdash; Map data &copy; <a href=\"http://www.openstreetmap.org/copyright\">OpenStreetMap</a>",
        "max_zoom": 18,
        "name": "Hydda.Full",
        "url": "http://{s}.tile.openstreetmap.se/hydda/full/{z}/{x}/{y}.png"
       },
       "center": [
        48,
        8
       ],
       "east": 10.689697265625002,
       "interpolation": "bilinear",
       "layers": [
        "IPY_MODEL_109d014675cb4c8f967f65234d6cac83"
       ],
       "layout": "IPY_MODEL_8c1ecc5fcbe14aacb302875f0975a2e4",
       "modisdate": "yesterday",
       "north": 48.73083222613518,
       "options": [
        "attribution_control",
        "basemap",
        "bounce_at_zoom_limits",
        "box_zoom",
        "center",
        "close_popup_on_click",
        "double_click_zoom",
        "dragging",
        "inertia",
        "inertia_deceleration",
        "inertia_max_speed",
        "interpolation",
        "keyboard",
        "keyboard_pan_offset",
        "keyboard_zoom_offset",
        "max_zoom",
        "min_zoom",
        "scroll_wheel_zoom",
        "tap",
        "tap_tolerance",
        "touch_zoom",
        "world_copy_jump",
        "zoom",
        "zoom_animation_threshold",
        "zoom_control",
        "zoom_start"
       ],
       "south": 47.260592193424706,
       "west": 5.311889648437501,
       "zoom": 8
      }
     },
     "a51f4420134e49a5bfaa2a7a90c61ace": {
      "model_module": "@jupyter-widgets/base",
      "model_module_version": "1.2.0",
      "model_name": "LayoutModel",
      "state": {}
     },
     "a5331a894d44473b92daa1732975b4b9": {
      "model_module": "@jupyter-widgets/base",
      "model_module_version": "1.2.0",
      "model_name": "LayoutModel",
      "state": {}
     },
     "a580ed8015b24caf83d3856441e11a3f": {
      "model_module": "jupyter-leaflet",
      "model_module_version": "^0.12.1",
      "model_name": "LeafletTileLayerModel",
      "state": {
       "_model_module_version": "^0.12.1",
       "_view_count": null,
       "_view_module_version": "^0.12.1",
       "attribution": "Tiles courtesy of <a href=\"http://openstreetmap.se/\" target=\"_blank\">OpenStreetMap Sweden</a> &mdash; Map data &copy; <a href=\"http://www.openstreetmap.org/copyright\">OpenStreetMap</a>",
       "base": true,
       "loading": false,
       "max_native_zoom": 18,
       "min_native_zoom": 0,
       "min_zoom": 1,
       "name": "Hydda.Full",
       "no_wrap": false,
       "options": [
        "attribution",
        "detect_retina",
        "max_native_zoom",
        "max_zoom",
        "min_native_zoom",
        "min_zoom",
        "no_wrap",
        "tile_size",
        "tms"
       ],
       "url": "http://{s}.tile.openstreetmap.se/hydda/full/{z}/{x}/{y}.png"
      }
     },
     "a64eed59adee4e8d8a3086bf093aafdb": {
      "model_module": "jupyter-leaflet",
      "model_module_version": "^0.11.6",
      "model_name": "LeafletTileLayerModel",
      "state": {
       "_model_module_version": "^0.11.6",
       "_view_count": null,
       "_view_module_version": "^0.11.6",
       "attribution": "Map tiles by <a href=\"https://labs.strava.com/heatmap\">Strava 2017</a>",
       "max_native_zoom": 18,
       "max_zoom": 15,
       "min_native_zoom": 0,
       "min_zoom": 1,
       "name": "Strava.All",
       "no_wrap": false,
       "options": [
        "attribution",
        "detect_retina",
        "max_native_zoom",
        "max_zoom",
        "min_native_zoom",
        "min_zoom",
        "no_wrap",
        "tile_size",
        "tms"
       ],
       "url": "https://heatmap-external-a.strava.com//tiles/all/hot/{z}/{x}/{y}.png?v=19"
      }
     },
     "a69b15450ea345af8d7cf66205bcecca": {
      "model_module": "@jupyter-widgets/controls",
      "model_module_version": "1.5.0",
      "model_name": "DescriptionStyleModel",
      "state": {
       "description_width": ""
      }
     },
     "a6f2b44fde2a4007a40ce1377849242d": {
      "model_module": "@jupyter-widgets/controls",
      "model_module_version": "1.5.0",
      "model_name": "DescriptionStyleModel",
      "state": {
       "description_width": ""
      }
     },
     "a71a8fb82ba245bba214ef942fced458": {
      "model_module": "@jupyter-widgets/base",
      "model_module_version": "1.2.0",
      "model_name": "LayoutModel",
      "state": {}
     },
     "a79ae612c32444af97cfa8584024741b": {
      "model_module": "@jupyter-widgets/controls",
      "model_module_version": "1.5.0",
      "model_name": "HBoxModel",
      "state": {
       "children": [
        "IPY_MODEL_a200d19478844c54b14f8c8b7497e4c7",
        "IPY_MODEL_b0421f2a2c2e4e49bd3e85eb9c0d1db7"
       ],
       "layout": "IPY_MODEL_72737912a8044d3b991d83420693972d"
      }
     },
     "a8cef17b020b4b57a1487c48e1e9c792": {
      "model_module": "@jupyter-widgets/controls",
      "model_module_version": "1.5.0",
      "model_name": "SelectionSliderModel",
      "state": {
       "_options_labels": [
        "13:00",
        "13:30",
        "14:00",
        "14:30",
        "15:00",
        "15:30",
        "16:00",
        "16:30"
       ],
       "description": "Time:",
       "index": 7,
       "layout": "IPY_MODEL_a5331a894d44473b92daa1732975b4b9",
       "style": "IPY_MODEL_f2a5658e11d84a19b5fa60eaa68c4a2e"
      }
     },
     "a964a88e215041b29322571106c45ed5": {
      "model_module": "jupyter-leaflet",
      "model_module_version": "^0.12.1",
      "model_name": "LeafletWMSLayerModel",
      "state": {
       "_model_module_version": "^0.12.1",
       "_view_count": null,
       "_view_module_version": "^0.12.1",
       "attribution": "Weather data © 2012 IEM Nexrad",
       "crs": "EPSG3857",
       "format": "image/png",
       "layers": "nexrad-n0r-wmst",
       "loading": false,
       "max_native_zoom": 18,
       "min_native_zoom": 0,
       "no_wrap": false,
       "options": [
        "attribution",
        "detect_retina",
        "format",
        "layers",
        "max_native_zoom",
        "max_zoom",
        "min_native_zoom",
        "min_zoom",
        "no_wrap",
        "styles",
        "tile_size",
        "time",
        "tms",
        "transparent",
        "uppercase"
       ],
       "time": "2005-08-29T13:00",
       "transparent": true,
       "url": "https://mesonet.agron.iastate.edu/cgi-bin/wms/nexrad/n0r-t.cgi?"
      }
     },
     "aa6ba7bba399405b83594075aec9f039": {
      "model_module": "jupyter-leaflet",
      "model_module_version": "^0.12.1",
      "model_name": "LeafletMapStyleModel",
      "state": {
       "_model_module_version": "^0.12.1",
       "_view_count": null,
       "_view_module": "@jupyter-widgets/base",
       "_view_module_version": "1.2.0",
       "_view_name": "StyleView",
       "cursor": "grab"
      }
     },
     "aab407d3479d4fe482464a5570ddc978": {
      "model_module": "@jupyter-widgets/base",
      "model_module_version": "1.2.0",
      "model_name": "LayoutModel",
      "state": {}
     },
     "ab0626e428d848a0a04b52392c04764f": {
      "model_module": "jupyter-leaflet",
      "model_module_version": "^0.12.1",
      "model_name": "LeafletMapModel",
      "state": {
       "_dom_classes": [],
       "_model_module_version": "^0.12.1",
       "_view_count": null,
       "_view_module_version": "^0.12.1",
       "center": [
        48,
        8
       ],
       "controls": [
        "IPY_MODEL_99477f57c1514c26b771b73787f6457d",
        "IPY_MODEL_b0f86df0aa80480bb685168969074074",
        "IPY_MODEL_3499f76a4d2d4463b65a6bbc0422e076"
       ],
       "default_style": "IPY_MODEL_9b590ba3a72f44d28044e0df76aed117",
       "dragging_style": "IPY_MODEL_1e9d62104e89452db285db6ab2b87adc",
       "east": 10.634765625,
       "fullscreen": false,
       "interpolation": "bilinear",
       "layers": [
        "IPY_MODEL_d826eee2d48a45abada1b274dcb6eb1a",
        "IPY_MODEL_6ff6bbf4b8f9431e8804da9f2f537349",
        "IPY_MODEL_c4d3137deb634112b4c75c29d77982c7"
       ],
       "layout": "IPY_MODEL_0e08e5dc4b134612832133a0eb9a60b3",
       "modisdate": "yesterday",
       "north": 48.73083222613518,
       "options": [
        "bounce_at_zoom_limits",
        "box_zoom",
        "center",
        "close_popup_on_click",
        "double_click_zoom",
        "dragging",
        "fullscreen",
        "inertia",
        "inertia_deceleration",
        "inertia_max_speed",
        "interpolation",
        "keyboard",
        "keyboard_pan_offset",
        "keyboard_zoom_offset",
        "max_zoom",
        "min_zoom",
        "scroll_wheel_zoom",
        "tap",
        "tap_tolerance",
        "touch_zoom",
        "world_copy_jump",
        "zoom",
        "zoom_animation_threshold",
        "zoom_start"
       ],
       "south": 47.260592193424706,
       "style": "IPY_MODEL_9b590ba3a72f44d28044e0df76aed117",
       "west": 5.366821289062501,
       "zoom": 8
      }
     },
     "ab9cb7a77cfd4cbfab854ca62d6e5dbc": {
      "model_module": "jupyter-leaflet",
      "model_module_version": "^0.12.1",
      "model_name": "LeafletMapModel",
      "state": {
       "_dom_classes": [],
       "_model_module_version": "^0.12.1",
       "_view_count": null,
       "_view_module_version": "^0.12.1",
       "center": [
        30.661,
        -88.645
       ],
       "controls": [
        "IPY_MODEL_5798e5a4972e4369b980bbc193d11dd4",
        "IPY_MODEL_6ab86c136b2740dd975b769fa38d62dd"
       ],
       "default_style": "IPY_MODEL_881e91af136246a79b1489ab6aef211d",
       "dragging_style": "IPY_MODEL_f361820c462c4a5bb8a060b0d6cca613",
       "east": -67.58789062500001,
       "fullscreen": false,
       "interpolation": "bilinear",
       "layers": [
        "IPY_MODEL_a3791b4b0fcf475988cc4504a8921491",
        "IPY_MODEL_b158a5dc31124ca79e4e97462220a398"
       ],
       "layout": "IPY_MODEL_4c3add49bf144c69ac20210e8ce65cfd",
       "modisdate": "yesterday",
       "north": 37.92686760148135,
       "options": [
        "bounce_at_zoom_limits",
        "box_zoom",
        "center",
        "close_popup_on_click",
        "double_click_zoom",
        "dragging",
        "fullscreen",
        "inertia",
        "inertia_deceleration",
        "inertia_max_speed",
        "interpolation",
        "keyboard",
        "keyboard_pan_offset",
        "keyboard_zoom_offset",
        "max_zoom",
        "min_zoom",
        "scroll_wheel_zoom",
        "tap",
        "tap_tolerance",
        "touch_zoom",
        "world_copy_jump",
        "zoom",
        "zoom_animation_threshold",
        "zoom_start"
       ],
       "south": 22.836945920943855,
       "style": "IPY_MODEL_82f51f9e9a14448ba3ef36e7ed8c14da",
       "west": -109.73144531250001,
       "zoom": 5
      }
     },
     "acedcb2cd7994d35befafbb317dd8fc9": {
      "model_module": "jupyter-leaflet",
      "model_module_version": "^0.12.1",
      "model_name": "LeafletMapStyleModel",
      "state": {
       "_model_module_version": "^0.12.1",
       "_view_count": null,
       "_view_module": "@jupyter-widgets/base",
       "_view_module_version": "1.2.0",
       "_view_name": "StyleView",
       "cursor": "grab"
      }
     },
     "acfe3e23f9ec4ebd9e26d0885fe3ceef": {
      "model_module": "@jupyter-widgets/base",
      "model_module_version": "1.2.0",
      "model_name": "LayoutModel",
      "state": {}
     },
     "adbb091b7e0c45f5a0f54d0bdcbf751a": {
      "model_module": "jupyter-leaflet",
      "model_module_version": "^0.12.1",
      "model_name": "LeafletAttributionControlModel",
      "state": {
       "_model_module_version": "^0.12.1",
       "_view_count": null,
       "_view_module_version": "^0.12.1",
       "options": [
        "position",
        "prefix"
       ],
       "position": "bottomright",
       "prefix": "Leaflet"
      }
     },
     "ae4a2f50a2de44f5a4dd7ea5df7461bd": {
      "model_module": "@jupyter-widgets/base",
      "model_module_version": "1.2.0",
      "model_name": "LayoutModel",
      "state": {}
     },
     "af63f8754f9f4394bcbe02f91370c574": {
      "model_module": "jupyter-leaflet",
      "model_module_version": "^0.12.1",
      "model_name": "LeafletZoomControlModel",
      "state": {
       "_model_module_version": "^0.12.1",
       "_view_count": null,
       "_view_module_version": "^0.12.1",
       "options": [
        "position",
        "zoom_in_text",
        "zoom_in_title",
        "zoom_out_text",
        "zoom_out_title"
       ]
      }
     },
     "afa45931452b40b991d8e72acd169add": {
      "model_module": "@jupyter-widgets/base",
      "model_module_version": "1.2.0",
      "model_name": "LayoutModel",
      "state": {}
     },
     "b03da389107d4c7c982805521461aaeb": {
      "model_module": "@jupyter-widgets/controls",
      "model_module_version": "1.5.0",
      "model_name": "SelectionSliderModel",
      "state": {
       "_options_labels": [
        "13:00",
        "13:30",
        "14:00",
        "14:30",
        "15:00",
        "15:30",
        "16:00",
        "16:30"
       ],
       "description": "Time:",
       "index": 0,
       "layout": "IPY_MODEL_5fb96163d5f94d63bd132364e822048e",
       "style": "IPY_MODEL_b8f6cb53c7f747c080783b30169e0be7"
      }
     },
     "b0421f2a2c2e4e49bd3e85eb9c0d1db7": {
      "model_module": "jupyter-leaflet",
      "model_module_version": "^0.12.1",
      "model_name": "LeafletMapModel",
      "state": {
       "_dom_classes": [],
       "_model_module_version": "^0.12.1",
       "_view_count": null,
       "_view_module_version": "^0.12.1",
       "center": [
        48,
        7.9
       ],
       "controls": [
        "IPY_MODEL_374c3085478845aeaf7dba18c5876a35",
        "IPY_MODEL_213362cc75f1415ba995dc18121caeb0"
       ],
       "default_style": "IPY_MODEL_29af3dd8117747ab98250f6755017b85",
       "dragging_style": "IPY_MODEL_b42162d5d7bf4100a9fff906be070453",
       "east": 8.228759765625002,
       "fullscreen": false,
       "interpolation": "bilinear",
       "layers": [
        "IPY_MODEL_746f5d2323f34643842f2a804e6c660f"
       ],
       "layout": "IPY_MODEL_da5aa2d8ebdc48dcba71576472b54090",
       "modisdate": "yesterday",
       "north": 48.18348549519126,
       "options": [
        "bounce_at_zoom_limits",
        "box_zoom",
        "center",
        "close_popup_on_click",
        "double_click_zoom",
        "dragging",
        "fullscreen",
        "inertia",
        "inertia_deceleration",
        "inertia_max_speed",
        "interpolation",
        "keyboard",
        "keyboard_pan_offset",
        "keyboard_zoom_offset",
        "max_zoom",
        "min_zoom",
        "scroll_wheel_zoom",
        "tap",
        "tap_tolerance",
        "touch_zoom",
        "world_copy_jump",
        "zoom",
        "zoom_animation_threshold",
        "zoom_start"
       ],
       "south": 47.81592114659014,
       "style": "IPY_MODEL_ef8bec32a1504c97b1986c4f7f907760",
       "west": 7.572326660156251,
       "zoom": 10
      }
     },
     "b07604ca1a254d1f9c595438aea14c6b": {
      "model_module": "jupyter-leaflet",
      "model_module_version": "~0.9.2",
      "model_name": "LeafletTileLayerModel",
      "state": {
       "_model_module_version": "~0.9.2",
       "_view_count": null,
       "_view_module_version": "~0.9.2",
       "base": true,
       "max_zoom": 19,
       "min_zoom": 1,
       "options": [
        "attribution",
        "detect_retina",
        "max_zoom",
        "min_zoom",
        "tile_size"
       ]
      }
     },
     "b0a523ecddd544b2ba76fbb58ad5db69": {
      "model_module": "jupyter-leaflet",
      "model_module_version": "^0.12.1",
      "model_name": "LeafletZoomControlModel",
      "state": {
       "_model_module_version": "^0.12.1",
       "_view_count": null,
       "_view_module_version": "^0.12.1",
       "options": [
        "position",
        "zoom_in_text",
        "zoom_in_title",
        "zoom_out_text",
        "zoom_out_title"
       ]
      }
     },
     "b0f86df0aa80480bb685168969074074": {
      "model_module": "jupyter-leaflet",
      "model_module_version": "^0.12.1",
      "model_name": "LeafletAttributionControlModel",
      "state": {
       "_model_module_version": "^0.12.1",
       "_view_count": null,
       "_view_module_version": "^0.12.1",
       "options": [
        "position",
        "prefix"
       ],
       "position": "bottomright",
       "prefix": "Leaflet"
      }
     },
     "b158a5dc31124ca79e4e97462220a398": {
      "model_module": "jupyter-leaflet",
      "model_module_version": "^0.12.1",
      "model_name": "LeafletWMSLayerModel",
      "state": {
       "_model_module_version": "^0.12.1",
       "_view_count": null,
       "_view_module_version": "^0.12.1",
       "attribution": "Weather data © 2012 IEM Nexrad",
       "crs": "EPSG3857",
       "format": "image/png",
       "layers": "nexrad-n0r-wmst",
       "loading": false,
       "max_native_zoom": 18,
       "min_native_zoom": 0,
       "no_wrap": false,
       "options": [
        "attribution",
        "detect_retina",
        "format",
        "layers",
        "max_native_zoom",
        "max_zoom",
        "min_native_zoom",
        "min_zoom",
        "no_wrap",
        "styles",
        "tile_size",
        "time",
        "tms",
        "transparent",
        "uppercase"
       ],
       "time": "2005-08-29T19:00",
       "transparent": true,
       "url": "https://mesonet.agron.iastate.edu/cgi-bin/wms/nexrad/n0r-t.cgi?"
      }
     },
     "b1ab3a590ce545d9af67835fc435373e": {
      "model_module": "@jupyter-widgets/controls",
      "model_module_version": "1.5.0",
      "model_name": "DescriptionStyleModel",
      "state": {
       "description_width": ""
      }
     },
     "b1d4d7b4465c4ef191bcf51a34dcfac6": {
      "model_module": "@jupyter-widgets/base",
      "model_module_version": "1.2.0",
      "model_name": "LayoutModel",
      "state": {}
     },
     "b2a72c44c8e54f9e8bec700052458039": {
      "model_module": "@jupyter-widgets/controls",
      "model_module_version": "1.5.0",
      "model_name": "DescriptionStyleModel",
      "state": {
       "description_width": ""
      }
     },
     "b2ecf56bc7e5473bbb0f6bfdb0262a0c": {
      "model_module": "@jupyter-widgets/base",
      "model_module_version": "1.2.0",
      "model_name": "LayoutModel",
      "state": {}
     },
     "b38935c8c2c74c289df7aeb7fb424911": {
      "model_module": "jupyter-leaflet",
      "model_module_version": "^0.12.1",
      "model_name": "LeafletTileLayerModel",
      "state": {
       "_model_module_version": "^0.12.1",
       "_view_count": null,
       "_view_module_version": "^0.12.1",
       "attribution": "&copy; <a href=\"http://www.openstreetmap.org/copyright\">OpenStreetMap</a> &copy; <a href=\"http://cartodb.com/attributions\">CartoDB</a>",
       "base": true,
       "loading": false,
       "max_native_zoom": 18,
       "max_zoom": 20,
       "min_native_zoom": 0,
       "min_zoom": 1,
       "name": "CartoDB.Positron",
       "no_wrap": false,
       "options": [
        "attribution",
        "detect_retina",
        "max_native_zoom",
        "max_zoom",
        "min_native_zoom",
        "min_zoom",
        "no_wrap",
        "tile_size",
        "tms"
       ],
       "url": "http://c.basemaps.cartocdn.com/light_all/{z}/{x}/{y}.png"
      }
     },
     "b42162d5d7bf4100a9fff906be070453": {
      "model_module": "jupyter-leaflet",
      "model_module_version": "^0.12.1",
      "model_name": "LeafletMapStyleModel",
      "state": {
       "_model_module_version": "^0.12.1",
       "_view_count": null,
       "_view_module": "@jupyter-widgets/base",
       "_view_module_version": "1.2.0",
       "_view_name": "StyleView",
       "cursor": "move"
      }
     },
     "b444b70697654e9ca1bf1140644985e8": {
      "model_module": "@jupyter-widgets/controls",
      "model_module_version": "1.5.0",
      "model_name": "HBoxModel",
      "state": {
       "children": [
        "IPY_MODEL_2a0f6d89c0844b93a69ef9742d7acb6b",
        "IPY_MODEL_1e3f9b2429624d14a01e81ca2e6cf4b7"
       ],
       "layout": "IPY_MODEL_f9190a74f9ef49a7bd861159ec09d63f"
      }
     },
     "b4527f7382ff467db68711bf9bde37b8": {
      "model_module": "@jupyter-widgets/base",
      "model_module_version": "1.2.0",
      "model_name": "LayoutModel",
      "state": {}
     },
     "b4b7b5d32fd146eeb64b816eddcc7879": {
      "model_module": "jupyter-leaflet",
      "model_module_version": "^0.12.1",
      "model_name": "LeafletLayersControlModel",
      "state": {
       "_model_module_version": "^0.12.1",
       "_view_count": null,
       "_view_module_version": "^0.12.1",
       "options": [
        "position"
       ]
      }
     },
     "b5df758f9c6c4bcc8c9574e264565b70": {
      "model_module": "@jupyter-widgets/base",
      "model_module_version": "1.2.0",
      "model_name": "LayoutModel",
      "state": {}
     },
     "b5e9844d21b24149863e50c0172f9a48": {
      "model_module": "jupyter-leaflet",
      "model_module_version": "^0.12.1",
      "model_name": "LeafletMapStyleModel",
      "state": {
       "_model_module_version": "^0.12.1",
       "_view_count": null,
       "_view_module": "@jupyter-widgets/base",
       "_view_module_version": "1.2.0",
       "_view_name": "StyleView",
       "cursor": "grab"
      }
     },
     "b609ab7dd7bc47d495d1922fc7f86940": {
      "model_module": "jupyter-leaflet",
      "model_module_version": "^0.12.1",
      "model_name": "LeafletZoomControlModel",
      "state": {
       "_model_module_version": "^0.12.1",
       "_view_count": null,
       "_view_module_version": "^0.12.1",
       "options": [
        "position",
        "zoom_in_text",
        "zoom_in_title",
        "zoom_out_text",
        "zoom_out_title"
       ]
      }
     },
     "b69ff43eeae44d779c881c2b5a7a8d42": {
      "model_module": "jupyter-leaflet",
      "model_module_version": "^0.12.1",
      "model_name": "LeafletTileLayerModel",
      "state": {
       "_model_module_version": "^0.12.1",
       "_view_count": null,
       "_view_module_version": "^0.12.1",
       "attribution": "Map tiles by <a href=\"https://labs.strava.com/heatmap\">Strava 2017</a>",
       "loading": false,
       "max_native_zoom": 18,
       "max_zoom": 15,
       "min_native_zoom": 0,
       "min_zoom": 1,
       "name": "Strava.Water",
       "no_wrap": false,
       "options": [
        "attribution",
        "detect_retina",
        "max_native_zoom",
        "max_zoom",
        "min_native_zoom",
        "min_zoom",
        "no_wrap",
        "tile_size",
        "tms"
       ],
       "url": "https://heatmap-external-a.strava.com//tiles/water/blue/{z}/{x}/{y}.png?v=19"
      }
     },
     "b738fe77bce74b17be45040cf05627b0": {
      "model_module": "@jupyter-widgets/base",
      "model_module_version": "1.2.0",
      "model_name": "LayoutModel",
      "state": {}
     },
     "b80ad7606c5b4f399666673b6733b168": {
      "model_module": "jupyter-leaflet",
      "model_module_version": "~0.9.2",
      "model_name": "LeafletTileLayerModel",
      "state": {
       "_model_module_version": "~0.9.2",
       "_view_count": null,
       "_view_module_version": "~0.9.2",
       "base": true,
       "max_zoom": 19,
       "min_zoom": 1,
       "options": [
        "attribution",
        "detect_retina",
        "max_zoom",
        "min_zoom",
        "tile_size"
       ]
      }
     },
     "b854ed0982c548cf9ff5cb3476e1080d": {
      "model_module": "@jupyter-widgets/controls",
      "model_module_version": "1.5.0",
      "model_name": "HBoxModel",
      "state": {
       "children": [
        "IPY_MODEL_3bb2856dd18b436fba01dbae9b8de050",
        "IPY_MODEL_f25cd12a02344e7096c8148f596de858"
       ],
       "layout": "IPY_MODEL_5f1157722f7947e181d10ef209f82505"
      }
     },
     "b8f6cb53c7f747c080783b30169e0be7": {
      "model_module": "@jupyter-widgets/controls",
      "model_module_version": "1.5.0",
      "model_name": "DescriptionStyleModel",
      "state": {
       "description_width": ""
      }
     },
     "ba34945c6b224ccfbe246e942df8c80e": {
      "model_module": "jupyter-leaflet",
      "model_module_version": "^0.11.6",
      "model_name": "LeafletMapStyleModel",
      "state": {
       "_model_module_version": "^0.11.6",
       "_view_count": null,
       "_view_module": "@jupyter-widgets/base",
       "_view_module_version": "1.2.0",
       "_view_name": "StyleView",
       "cursor": "move"
      }
     },
     "ba8ec3ce1817473fa0d33a75abebc474": {
      "model_module": "jupyter-leaflet",
      "model_module_version": "^0.12.1",
      "model_name": "LeafletWMSLayerModel",
      "state": {
       "_model_module_version": "^0.12.1",
       "_view_count": null,
       "_view_module_version": "^0.12.1",
       "attribution": "Weather data © 2012 IEM Nexrad",
       "crs": "EPSG3857",
       "format": "image/png",
       "layers": "nexrad-n0r-wmst",
       "loading": false,
       "max_native_zoom": 18,
       "min_native_zoom": 0,
       "no_wrap": false,
       "options": [
        "attribution",
        "detect_retina",
        "format",
        "layers",
        "max_native_zoom",
        "max_zoom",
        "min_native_zoom",
        "min_zoom",
        "no_wrap",
        "styles",
        "tile_size",
        "time",
        "tms",
        "transparent",
        "uppercase"
       ],
       "time": "2005-08-29T13:00:00Z",
       "transparent": true,
       "url": "https://mesonet.agron.iastate.edu/cgi-bin/wms/nexrad/n0r-t.cgi?"
      }
     },
     "bb60258a2c0644a28d50554462609c6f": {
      "model_module": "@jupyter-widgets/controls",
      "model_module_version": "1.5.0",
      "model_name": "HBoxModel",
      "state": {
       "children": [
        "IPY_MODEL_266ddb908e2e4e26ae3917939d2740a0",
        "IPY_MODEL_4f267a0229024f60bf19ec37620eba8f"
       ],
       "layout": "IPY_MODEL_c7835c0d4a4f4f508f2b1807bef9c8e9"
      }
     },
     "bc007a82ee5c4adb91ff9952c64077e9": {
      "model_module": "jupyter-leaflet",
      "model_module_version": "^0.12.1",
      "model_name": "LeafletMapStyleModel",
      "state": {
       "_model_module_version": "^0.12.1",
       "_view_count": null,
       "_view_module": "@jupyter-widgets/base",
       "_view_module_version": "1.2.0",
       "_view_name": "StyleView",
       "cursor": "move"
      }
     },
     "bc453944cdeb4621ac12ec07f7366b45": {
      "model_module": "@jupyter-widgets/controls",
      "model_module_version": "1.5.0",
      "model_name": "DescriptionStyleModel",
      "state": {
       "description_width": ""
      }
     },
     "bd0cfd71501549f7a35f8fe8aabe2d4e": {
      "model_module": "jupyter-leaflet",
      "model_module_version": "^0.12.1",
      "model_name": "LeafletMapModel",
      "state": {
       "_dom_classes": [],
       "_model_module_version": "^0.12.1",
       "_view_count": null,
       "_view_module_version": "^0.12.1",
       "center": [
        30.661,
        -88.645
       ],
       "controls": [
        "IPY_MODEL_cdf67f8f0b7144cc86281242d3af7f87",
        "IPY_MODEL_9714fac8eab543b5b5c16fc81c08d911"
       ],
       "default_style": "IPY_MODEL_0a7af6451de0499db4eeb1168fe13b7a",
       "dragging_style": "IPY_MODEL_e7fba9c9f9c643a98e4280016fb5be47",
       "east": -67.58789062500001,
       "fullscreen": false,
       "interpolation": "bilinear",
       "layers": [
        "IPY_MODEL_98dea48e9978476180c167eaa75efda7",
        "IPY_MODEL_0e215454cb614a8db3657ec1f175931d"
       ],
       "layout": "IPY_MODEL_6fd29f07c5474ea99fed3461265f9947",
       "modisdate": "yesterday",
       "north": 37.92686760148135,
       "options": [
        "bounce_at_zoom_limits",
        "box_zoom",
        "center",
        "close_popup_on_click",
        "double_click_zoom",
        "dragging",
        "fullscreen",
        "inertia",
        "inertia_deceleration",
        "inertia_max_speed",
        "interpolation",
        "keyboard",
        "keyboard_pan_offset",
        "keyboard_zoom_offset",
        "max_zoom",
        "min_zoom",
        "scroll_wheel_zoom",
        "tap",
        "tap_tolerance",
        "touch_zoom",
        "world_copy_jump",
        "zoom",
        "zoom_animation_threshold",
        "zoom_start"
       ],
       "south": 22.836945920943855,
       "style": "IPY_MODEL_4e2f946ec3f24e0d897f11f9e16da6ec",
       "west": -109.73144531250001,
       "zoom": 5
      }
     },
     "bd75d1acd65446c29c722f7768ba3089": {
      "model_module": "jupyter-leaflet",
      "model_module_version": "^0.12.1",
      "model_name": "LeafletMapStyleModel",
      "state": {
       "_model_module_version": "^0.12.1",
       "_view_count": null,
       "_view_module": "@jupyter-widgets/base",
       "_view_module_version": "1.2.0",
       "_view_name": "StyleView",
       "cursor": "move"
      }
     },
     "bdc572a0ea6948aeb38dd771c8e03efb": {
      "model_module": "@jupyter-widgets/controls",
      "model_module_version": "1.5.0",
      "model_name": "LabelModel",
      "state": {
       "layout": "IPY_MODEL_a4c4e6d2c3dc4f26a01f96702e42345f",
       "style": "IPY_MODEL_cfd744fed5c14e0c8c645b42e7849015",
       "value": "[48.477412672205226, 7.234848425777703]"
      }
     },
     "bdfcc9c1ac464b12a8864b7adc263357": {
      "model_module": "jupyter-leaflet",
      "model_module_version": "^0.12.1",
      "model_name": "LeafletTileLayerModel",
      "state": {
       "_model_module_version": "^0.12.1",
       "_view_count": null,
       "_view_module_version": "^0.12.1",
       "attribution": "",
       "loading": false,
       "max_native_zoom": 18,
       "max_zoom": 19,
       "min_native_zoom": 0,
       "min_zoom": 1,
       "name": "Countries",
       "no_wrap": false,
       "options": [
        "attribution",
        "detect_retina",
        "max_native_zoom",
        "max_zoom",
        "min_native_zoom",
        "min_zoom",
        "no_wrap",
        "tile_size",
        "tms"
       ],
       "url": ""
      }
     },
     "bea1e4aa3ba14ca098f7092bb9145ba9": {
      "model_module": "jupyter-leaflet",
      "model_module_version": "~0.9.2",
      "model_name": "LeafletTileLayerModel",
      "state": {
       "_model_module_version": "~0.9.2",
       "_view_count": null,
       "_view_module_version": "~0.9.2",
       "base": true,
       "max_zoom": 19,
       "min_zoom": 1,
       "options": [
        "attribution",
        "detect_retina",
        "max_zoom",
        "min_zoom",
        "tile_size"
       ]
      }
     },
     "bedfb00dacdc4b4282bad561a7b173e7": {
      "model_module": "@jupyter-widgets/controls",
      "model_module_version": "1.5.0",
      "model_name": "HBoxModel",
      "state": {
       "children": [
        "IPY_MODEL_a4d7bb63c40a4b33b029fb1f24bcd53d",
        "IPY_MODEL_1c37356bba8a4889bb6e31747a6b7c02"
       ],
       "layout": "IPY_MODEL_72d984681d3b45038d58f6c79f7cd21d"
      }
     },
     "bf20536804d2415fb738261642789099": {
      "model_module": "@jupyter-widgets/base",
      "model_module_version": "1.2.0",
      "model_name": "LayoutModel",
      "state": {}
     },
     "bf4952e0e6ed48b7938b7c99d3cc0e65": {
      "model_module": "jupyter-leaflet",
      "model_module_version": "~0.9.2",
      "model_name": "LeafletTileLayerModel",
      "state": {
       "_model_module_version": "~0.9.2",
       "_view_count": null,
       "_view_module_version": "~0.9.2",
       "attribution": "Tiles courtesy of <a href=\"http://openstreetmap.se/\" target=\"_blank\">OpenStreetMap Sweden</a> &mdash; Map data &copy; <a href=\"http://www.openstreetmap.org/copyright\">OpenStreetMap</a>",
       "base": true,
       "min_zoom": 1,
       "name": "Hydda.Full",
       "options": [
        "attribution",
        "detect_retina",
        "max_zoom",
        "min_zoom",
        "tile_size"
       ],
       "url": "http://{s}.tile.openstreetmap.se/hydda/full/{z}/{x}/{y}.png"
      }
     },
     "bfb45636ac48465e883c241957c2c930": {
      "model_module": "jupyter-leaflet",
      "model_module_version": "^0.12.1",
      "model_name": "LeafletZoomControlModel",
      "state": {
       "_model_module_version": "^0.12.1",
       "_view_count": null,
       "_view_module_version": "^0.12.1",
       "options": [
        "position",
        "zoom_in_text",
        "zoom_in_title",
        "zoom_out_text",
        "zoom_out_title"
       ]
      }
     },
     "c016cd1f0b9548989abb6b83f60fa501": {
      "model_module": "jupyter-leaflet",
      "model_module_version": "~0.9.2",
      "model_name": "LeafletTileLayerModel",
      "state": {
       "_model_module_version": "~0.9.2",
       "_view_count": null,
       "_view_module_version": "~0.9.2",
       "base": true,
       "max_zoom": 19,
       "min_zoom": 1,
       "options": [
        "attribution",
        "detect_retina",
        "max_zoom",
        "min_zoom",
        "tile_size"
       ]
      }
     },
     "c03b2d717c914f31a2c8ebaf7a72710a": {
      "model_module": "@jupyter-widgets/base",
      "model_module_version": "1.2.0",
      "model_name": "LayoutModel",
      "state": {}
     },
     "c08aee09fe2d4662bc5642362ccf539f": {
      "model_module": "jupyter-leaflet",
      "model_module_version": "^0.12.1",
      "model_name": "LeafletTileLayerModel",
      "state": {
       "_model_module_version": "^0.12.1",
       "_view_count": null,
       "_view_module_version": "^0.12.1",
       "attribution": "&copy; <a href=\"http://www.openstreetmap.org/copyright\">OpenStreetMap</a> &copy; <a href=\"http://cartodb.com/attributions\">CartoDB</a>",
       "base": true,
       "loading": false,
       "max_native_zoom": 18,
       "max_zoom": 20,
       "min_native_zoom": 0,
       "min_zoom": 1,
       "name": "CartoDB.Positron",
       "no_wrap": false,
       "options": [
        "attribution",
        "detect_retina",
        "max_native_zoom",
        "max_zoom",
        "min_native_zoom",
        "min_zoom",
        "no_wrap",
        "tile_size",
        "tms"
       ],
       "url": "http://c.basemaps.cartocdn.com/light_all/{z}/{x}/{y}.png"
      }
     },
     "c12f9be0beb142719cbfa6c69b16b783": {
      "model_module": "jupyter-leaflet",
      "model_module_version": "^0.11.2",
      "model_name": "LeafletZoomControlModel",
      "state": {
       "_model_module_version": "^0.11.2",
       "_view_count": null,
       "_view_module_version": "^0.11.2",
       "options": [
        "position",
        "zoom_in_text",
        "zoom_in_title",
        "zoom_out_text",
        "zoom_out_title"
       ]
      }
     },
     "c142684a64e6482daa850aba6087dca3": {
      "model_module": "@jupyter-widgets/base",
      "model_module_version": "1.2.0",
      "model_name": "LayoutModel",
      "state": {}
     },
     "c206fe5856fc41a0848370624aa66829": {
      "model_module": "jupyter-leaflet",
      "model_module_version": "~0.9.2",
      "model_name": "LeafletTileLayerModel",
      "state": {
       "_model_module_version": "~0.9.2",
       "_view_count": null,
       "_view_module_version": "~0.9.2",
       "base": true,
       "max_zoom": 19,
       "min_zoom": 1,
       "options": [
        "attribution",
        "detect_retina",
        "max_zoom",
        "min_zoom",
        "tile_size"
       ]
      }
     },
     "c219e0187806487b9c02a9cd31efbf6e": {
      "model_module": "jupyter-leaflet",
      "model_module_version": "^0.12.1",
      "model_name": "LeafletZoomControlModel",
      "state": {
       "_model_module_version": "^0.12.1",
       "_view_count": null,
       "_view_module_version": "^0.12.1",
       "options": [
        "position",
        "zoom_in_text",
        "zoom_in_title",
        "zoom_out_text",
        "zoom_out_title"
       ]
      }
     },
     "c31c6f8d3ce6405fa71619002b7e4b74": {
      "model_module": "jupyter-leaflet",
      "model_module_version": "^0.12.1",
      "model_name": "LeafletMapStyleModel",
      "state": {
       "_model_module_version": "^0.12.1",
       "_view_count": null,
       "_view_module": "@jupyter-widgets/base",
       "_view_module_version": "1.2.0",
       "_view_name": "StyleView",
       "cursor": "grab"
      }
     },
     "c42c2c4a603443d7a9a02958cd5f6820": {
      "model_module": "@jupyter-widgets/base",
      "model_module_version": "1.2.0",
      "model_name": "LayoutModel",
      "state": {}
     },
     "c4ce3a568754485988eeb9ffb5081978": {
      "model_module": "jupyter-leaflet",
      "model_module_version": "^0.12.1",
      "model_name": "LeafletMapStyleModel",
      "state": {
       "_model_module_version": "^0.12.1",
       "_view_count": null,
       "_view_module": "@jupyter-widgets/base",
       "_view_module_version": "1.2.0",
       "_view_name": "StyleView",
       "cursor": "grab"
      }
     },
     "c4d3137deb634112b4c75c29d77982c7": {
      "model_module": "jupyter-leaflet",
      "model_module_version": "^0.12.1",
      "model_name": "LeafletTileLayerModel",
      "state": {
       "_model_module_version": "^0.12.1",
       "_view_count": null,
       "_view_module_version": "^0.12.1",
       "attribution": "",
       "loading": false,
       "max_native_zoom": 18,
       "max_zoom": 19,
       "min_native_zoom": 0,
       "min_zoom": 1,
       "name": "Countries",
       "no_wrap": false,
       "options": [
        "attribution",
        "detect_retina",
        "max_native_zoom",
        "max_zoom",
        "min_native_zoom",
        "min_zoom",
        "no_wrap",
        "tile_size",
        "tms"
       ],
       "url": ""
      }
     },
     "c58bbc9662de43e9b5866e6b48bc3401": {
      "model_module": "jupyter-leaflet",
      "model_module_version": "~0.9.2",
      "model_name": "LeafletMapModel",
      "state": {
       "_dom_classes": [],
       "_model_module_version": "~0.9.2",
       "_view_count": null,
       "_view_module_version": "~0.9.2",
       "basemap": {
        "attribution": "Tiles courtesy of <a href=\"http://openstreetmap.se/\" target=\"_blank\">OpenStreetMap Sweden</a> &mdash; Map data &copy; <a href=\"http://www.openstreetmap.org/copyright\">OpenStreetMap</a>",
        "max_zoom": 18,
        "name": "Hydda.Full",
        "url": "http://{s}.tile.openstreetmap.se/hydda/full/{z}/{x}/{y}.png"
       },
       "center": [
        50,
        10
       ],
       "east": 12.689208984375002,
       "interpolation": "bilinear",
       "layers": [
        "IPY_MODEL_02bad0f064b146cea71fef9554dfc13b"
       ],
       "layout": "IPY_MODEL_57293d8c444b44868b65b3cdc0c735e6",
       "modisdate": "yesterday",
       "north": 50.70167663576478,
       "options": [
        "attribution_control",
        "basemap",
        "bounce_at_zoom_limits",
        "box_zoom",
        "center",
        "close_popup_on_click",
        "double_click_zoom",
        "dragging",
        "inertia",
        "inertia_deceleration",
        "inertia_max_speed",
        "interpolation",
        "keyboard",
        "keyboard_pan_offset",
        "keyboard_zoom_offset",
        "max_zoom",
        "min_zoom",
        "scroll_wheel_zoom",
        "tap",
        "tap_tolerance",
        "touch_zoom",
        "world_copy_jump",
        "zoom",
        "zoom_animation_threshold",
        "zoom_control",
        "zoom_start"
       ],
       "south": 49.28930640196742,
       "west": 7.3114013671875,
       "zoom": 8
      }
     },
     "c7835c0d4a4f4f508f2b1807bef9c8e9": {
      "model_module": "@jupyter-widgets/base",
      "model_module_version": "1.2.0",
      "model_name": "LayoutModel",
      "state": {}
     },
     "c7d5ac2178cf49e4a07e7e0005262fec": {
      "model_module": "@jupyter-widgets/controls",
      "model_module_version": "1.5.0",
      "model_name": "HBoxModel",
      "state": {
       "children": [
        "IPY_MODEL_5bd4e9b3553f444f8e312641b88e3422",
        "IPY_MODEL_2cfda4e19e344a719b60b372ed11fb04"
       ],
       "layout": "IPY_MODEL_41ca183bddee4336b1b6b0c13712ed0c"
      }
     },
     "c7f719791a594187b17822525e10d70c": {
      "model_module": "jupyter-leaflet",
      "model_module_version": "^0.12.1",
      "model_name": "LeafletAttributionControlModel",
      "state": {
       "_model_module_version": "^0.12.1",
       "_view_count": null,
       "_view_module_version": "^0.12.1",
       "options": [
        "position",
        "prefix"
       ],
       "position": "bottomright",
       "prefix": "Leaflet"
      }
     },
     "c88b5c9abf2a4d13902a3594cd4ce303": {
      "model_module": "@jupyter-widgets/base",
      "model_module_version": "1.2.0",
      "model_name": "LayoutModel",
      "state": {}
     },
     "c930e7640d8f4b3598277763f25975e6": {
      "model_module": "jupyter-leaflet",
      "model_module_version": "~0.9.2",
      "model_name": "LeafletTileLayerModel",
      "state": {
       "_model_module_version": "~0.9.2",
       "_view_count": null,
       "_view_module_version": "~0.9.2",
       "base": true,
       "max_zoom": 19,
       "min_zoom": 1,
       "options": [
        "attribution",
        "detect_retina",
        "max_zoom",
        "min_zoom",
        "tile_size"
       ]
      }
     },
     "c97ef181e57044adb9a3ccbfe9bb11c4": {
      "model_module": "jupyter-leaflet",
      "model_module_version": "^0.11.6",
      "model_name": "LeafletMapModel",
      "state": {
       "_dom_classes": [],
       "_model_module_version": "^0.11.6",
       "_view_count": null,
       "_view_module_version": "^0.11.6",
       "basemap": {
        "attribution": "Tiles courtesy of <a href=\"http://openstreetmap.se/\" target=\"_blank\">OpenStreetMap Sweden</a> &mdash; Map data &copy; <a href=\"http://www.openstreetmap.org/copyright\">OpenStreetMap</a>",
        "max_zoom": 18,
        "name": "Hydda.Full",
        "url": "http://{s}.tile.openstreetmap.se/hydda/full/{z}/{x}/{y}.png"
       },
       "center": [
        48.00094957553023,
        8.003540039062502
       ],
       "controls": [
        "IPY_MODEL_d04a9ef122cb4ed0bb49f501ce124b20",
        "IPY_MODEL_ccb4e06099354913b84331473422efa8"
       ],
       "default_style": "IPY_MODEL_e62b5cbddd50413487eef0087ede16db",
       "dragging_style": "IPY_MODEL_ba34945c6b224ccfbe246e942df8c80e",
       "east": -180,
       "fullscreen": false,
       "interpolation": "bilinear",
       "layers": [
        "IPY_MODEL_9f09bce1cbde4dd1a1632fe26532512f",
        "IPY_MODEL_021ea006d09a483e9bcf95a7483d4f91"
       ],
       "layout": "IPY_MODEL_4e7caa70ef2b4fecafac5be50db06304",
       "modisdate": "yesterday",
       "north": -90,
       "options": [
        "basemap",
        "bounce_at_zoom_limits",
        "box_zoom",
        "center",
        "close_popup_on_click",
        "double_click_zoom",
        "dragging",
        "fullscreen",
        "inertia",
        "inertia_deceleration",
        "inertia_max_speed",
        "interpolation",
        "keyboard",
        "keyboard_pan_offset",
        "keyboard_zoom_offset",
        "max_zoom",
        "min_zoom",
        "scroll_wheel_zoom",
        "tap",
        "tap_tolerance",
        "touch_zoom",
        "world_copy_jump",
        "zoom",
        "zoom_animation_threshold",
        "zoom_start"
       ],
       "south": 90,
       "style": "IPY_MODEL_e62b5cbddd50413487eef0087ede16db",
       "west": 180,
       "zoom": 8
      }
     },
     "c9bed6347b1f4336bfabb11f56ae9bb4": {
      "model_module": "@jupyter-widgets/controls",
      "model_module_version": "1.5.0",
      "model_name": "LabelModel",
      "state": {
       "layout": "IPY_MODEL_3d6768e1a575403fa6811666468982f1",
       "style": "IPY_MODEL_72fa4a93850e44139ab522d27571770f",
       "value": "[47.87779360064788, 7.189975716061882]"
      }
     },
     "caa2755fb9e140a28eaacbb2e7171a2d": {
      "model_module": "jupyter-leaflet",
      "model_module_version": "^0.12.1",
      "model_name": "LeafletTileLayerModel",
      "state": {
       "_model_module_version": "^0.12.1",
       "_view_count": null,
       "_view_module_version": "^0.12.1",
       "attribution": "Map tiles by <a href=\"https://labs.strava.com/heatmap\">Strava 2017</a>",
       "loading": false,
       "max_native_zoom": 18,
       "max_zoom": 15,
       "min_native_zoom": 0,
       "min_zoom": 1,
       "name": "Strava.Water",
       "no_wrap": false,
       "options": [
        "attribution",
        "detect_retina",
        "max_native_zoom",
        "max_zoom",
        "min_native_zoom",
        "min_zoom",
        "no_wrap",
        "tile_size",
        "tms"
       ],
       "url": "https://heatmap-external-a.strava.com//tiles/water/blue/{z}/{x}/{y}.png?v=19"
      }
     },
     "cc340ff3e62f490189c84a7a1944ba45": {
      "model_module": "jupyter-leaflet",
      "model_module_version": "~0.9.2",
      "model_name": "LeafletMapModel",
      "state": {
       "_dom_classes": [],
       "_model_module_version": "~0.9.2",
       "_view_count": null,
       "_view_module_version": "~0.9.2",
       "basemap": {
        "attribution": "Tiles courtesy of <a href=\"http://openstreetmap.se/\" target=\"_blank\">OpenStreetMap Sweden</a> &mdash; Map data &copy; <a href=\"http://www.openstreetmap.org/copyright\">OpenStreetMap</a>",
        "max_zoom": 18,
        "name": "Hydda.Full",
        "url": "http://{s}.tile.openstreetmap.se/hydda/full/{z}/{x}/{y}.png"
       },
       "center": [
        48,
        7
       ],
       "east": 9.689941406250002,
       "interpolation": "bilinear",
       "layers": [
        "IPY_MODEL_90999748c5dd496080c115f0b9367120"
       ],
       "layout": "IPY_MODEL_999f7c8d99cc4a40a621e885ed469701",
       "modisdate": "yesterday",
       "north": 48.73083222613518,
       "options": [
        "attribution_control",
        "basemap",
        "bounce_at_zoom_limits",
        "box_zoom",
        "center",
        "close_popup_on_click",
        "double_click_zoom",
        "dragging",
        "inertia",
        "inertia_deceleration",
        "inertia_max_speed",
        "interpolation",
        "keyboard",
        "keyboard_pan_offset",
        "keyboard_zoom_offset",
        "max_zoom",
        "min_zoom",
        "scroll_wheel_zoom",
        "tap",
        "tap_tolerance",
        "touch_zoom",
        "world_copy_jump",
        "zoom",
        "zoom_animation_threshold",
        "zoom_control",
        "zoom_start"
       ],
       "south": 47.260592193424706,
       "west": 4.312133789062501,
       "zoom": 8
      }
     },
     "ccb4e06099354913b84331473422efa8": {
      "model_module": "jupyter-leaflet",
      "model_module_version": "^0.11.6",
      "model_name": "LeafletAttributionControlModel",
      "state": {
       "_model_module_version": "^0.11.6",
       "_view_count": null,
       "_view_module_version": "^0.11.6",
       "options": [
        "position",
        "prefix"
       ],
       "position": "bottomright",
       "prefix": "Leaflet"
      }
     },
     "cd02671347a24425bb107ca6d30c143d": {
      "model_module": "jupyter-leaflet",
      "model_module_version": "^0.12.1",
      "model_name": "LeafletTileLayerModel",
      "state": {
       "_model_module_version": "^0.12.1",
       "_view_count": null,
       "_view_module_version": "^0.12.1",
       "attribution": "Map tiles by <a href=\"https://labs.strava.com/heatmap\">Strava 2017</a>",
       "loading": false,
       "max_native_zoom": 18,
       "max_zoom": 15,
       "min_native_zoom": 0,
       "min_zoom": 1,
       "name": "Strava.All",
       "no_wrap": false,
       "options": [
        "attribution",
        "detect_retina",
        "max_native_zoom",
        "max_zoom",
        "min_native_zoom",
        "min_zoom",
        "no_wrap",
        "tile_size",
        "tms"
       ],
       "url": "https://heatmap-external-a.strava.com//tiles/all/hot/{z}/{x}/{y}.png?v=19"
      }
     },
     "cd3c490fd5754e5f94a90e191c623299": {
      "model_module": "@jupyter-widgets/base",
      "model_module_version": "1.2.0",
      "model_name": "LayoutModel",
      "state": {}
     },
     "cd3ed9e4dc294a6e92873c7def90c076": {
      "model_module": "@jupyter-widgets/base",
      "model_module_version": "1.2.0",
      "model_name": "LayoutModel",
      "state": {}
     },
     "cdf67f8f0b7144cc86281242d3af7f87": {
      "model_module": "jupyter-leaflet",
      "model_module_version": "^0.12.1",
      "model_name": "LeafletZoomControlModel",
      "state": {
       "_model_module_version": "^0.12.1",
       "_view_count": null,
       "_view_module_version": "^0.12.1",
       "options": [
        "position",
        "zoom_in_text",
        "zoom_in_title",
        "zoom_out_text",
        "zoom_out_title"
       ]
      }
     },
     "ce7f714c2666467686fe83c4979afb36": {
      "model_module": "jupyter-leaflet",
      "model_module_version": "^0.12.1",
      "model_name": "LeafletMapModel",
      "state": {
       "_dom_classes": [],
       "_model_module_version": "^0.12.1",
       "_view_count": null,
       "_view_module_version": "^0.12.1",
       "center": [
        30.661,
        -88.645
       ],
       "controls": [
        "IPY_MODEL_2a88a5b963c44613974a2810c1c16413",
        "IPY_MODEL_1ee7b5934ce74031ac29a1b1701f1c6e"
       ],
       "default_style": "IPY_MODEL_7bd780fc6fcf4d5892269a57350a9f22",
       "dragging_style": "IPY_MODEL_13a02efa6a0746da804f284964545d66",
       "east": -67.58789062500001,
       "fullscreen": false,
       "interpolation": "bilinear",
       "layers": [
        "IPY_MODEL_43933bd4413a48af838c728b2cebc042",
        "IPY_MODEL_4d4bd6c78e2946e9ba05153dfcb13aac"
       ],
       "layout": "IPY_MODEL_6fed534ec3074bdb9f94ee5b0f416248",
       "modisdate": "yesterday",
       "north": 37.92686760148135,
       "options": [
        "bounce_at_zoom_limits",
        "box_zoom",
        "center",
        "close_popup_on_click",
        "double_click_zoom",
        "dragging",
        "fullscreen",
        "inertia",
        "inertia_deceleration",
        "inertia_max_speed",
        "interpolation",
        "keyboard",
        "keyboard_pan_offset",
        "keyboard_zoom_offset",
        "max_zoom",
        "min_zoom",
        "scroll_wheel_zoom",
        "tap",
        "tap_tolerance",
        "touch_zoom",
        "world_copy_jump",
        "zoom",
        "zoom_animation_threshold",
        "zoom_start"
       ],
       "south": 22.836945920943855,
       "style": "IPY_MODEL_c31c6f8d3ce6405fa71619002b7e4b74",
       "west": -109.73144531250001,
       "zoom": 5
      }
     },
     "ce994f6d9c2c4a80abb4152ef633f2cd": {
      "model_module": "jupyter-leaflet",
      "model_module_version": "^0.11.2",
      "model_name": "LeafletTileLayerModel",
      "state": {
       "_model_module_version": "^0.11.2",
       "_view_count": null,
       "_view_module_version": "^0.11.2",
       "attribution": "Tiles courtesy of <a href=\"http://openstreetmap.se/\" target=\"_blank\">OpenStreetMap Sweden</a> &mdash; Map data &copy; <a href=\"http://www.openstreetmap.org/copyright\">OpenStreetMap</a>",
       "base": true,
       "max_native_zoom": 18,
       "min_native_zoom": 0,
       "min_zoom": 1,
       "name": "Hydda.Full",
       "no_wrap": false,
       "options": [
        "attribution",
        "detect_retina",
        "max_native_zoom",
        "max_zoom",
        "min_native_zoom",
        "min_zoom",
        "no_wrap",
        "tile_size"
       ],
       "url": "http://{s}.tile.openstreetmap.se/hydda/full/{z}/{x}/{y}.png"
      }
     },
     "ceda651b259243a4a704cfec5fccb0af": {
      "model_module": "jupyter-leaflet",
      "model_module_version": "^0.12.1",
      "model_name": "LeafletAttributionControlModel",
      "state": {
       "_model_module_version": "^0.12.1",
       "_view_count": null,
       "_view_module_version": "^0.12.1",
       "options": [
        "position",
        "prefix"
       ],
       "position": "bottomright",
       "prefix": "Leaflet"
      }
     },
     "cee205ba2a844b23b5d51279e2ab8997": {
      "model_module": "jupyter-leaflet",
      "model_module_version": "^0.12.1",
      "model_name": "LeafletMapStyleModel",
      "state": {
       "_model_module_version": "^0.12.1",
       "_view_count": null,
       "_view_module": "@jupyter-widgets/base",
       "_view_module_version": "1.2.0",
       "_view_name": "StyleView",
       "cursor": "grab"
      }
     },
     "cef2b2142e944c0a9aa5a4139928930d": {
      "model_module": "jupyter-leaflet",
      "model_module_version": "^0.12.1",
      "model_name": "LeafletTileLayerModel",
      "state": {
       "_model_module_version": "^0.12.1",
       "_view_count": null,
       "_view_module_version": "^0.12.1",
       "attribution": "Map tiles by <a href=\"https://labs.strava.com/heatmap\">Strava 2017</a>",
       "loading": false,
       "max_native_zoom": 18,
       "max_zoom": 15,
       "min_native_zoom": 0,
       "min_zoom": 1,
       "name": "Strava.All",
       "no_wrap": false,
       "options": [
        "attribution",
        "detect_retina",
        "max_native_zoom",
        "max_zoom",
        "min_native_zoom",
        "min_zoom",
        "no_wrap",
        "tile_size",
        "tms"
       ],
       "url": "https://heatmap-external-a.strava.com//tiles/all/hot/{z}/{x}/{y}.png?v=19"
      }
     },
     "cf4722e2545242bf8e2e8bd111ac36a2": {
      "model_module": "@jupyter-widgets/base",
      "model_module_version": "1.2.0",
      "model_name": "LayoutModel",
      "state": {}
     },
     "cfd744fed5c14e0c8c645b42e7849015": {
      "model_module": "@jupyter-widgets/controls",
      "model_module_version": "1.5.0",
      "model_name": "DescriptionStyleModel",
      "state": {
       "description_width": ""
      }
     },
     "d044652d4409436a940c7825d743b777": {
      "model_module": "jupyter-leaflet",
      "model_module_version": "~0.9.2",
      "model_name": "LeafletTileLayerModel",
      "state": {
       "_model_module_version": "~0.9.2",
       "_view_count": null,
       "_view_module_version": "~0.9.2",
       "attribution": "Tiles courtesy of <a href=\"http://openstreetmap.se/\" target=\"_blank\">OpenStreetMap Sweden</a> &mdash; Map data &copy; <a href=\"http://www.openstreetmap.org/copyright\">OpenStreetMap</a>",
       "base": true,
       "min_zoom": 1,
       "name": "Hydda.Full",
       "options": [
        "attribution",
        "detect_retina",
        "max_zoom",
        "min_zoom",
        "tile_size"
       ],
       "url": "http://{s}.tile.openstreetmap.se/hydda/full/{z}/{x}/{y}.png"
      }
     },
     "d04a9ef122cb4ed0bb49f501ce124b20": {
      "model_module": "jupyter-leaflet",
      "model_module_version": "^0.11.6",
      "model_name": "LeafletZoomControlModel",
      "state": {
       "_model_module_version": "^0.11.6",
       "_view_count": null,
       "_view_module_version": "^0.11.6",
       "options": [
        "position",
        "zoom_in_text",
        "zoom_in_title",
        "zoom_out_text",
        "zoom_out_title"
       ]
      }
     },
     "d0b49a3e7f1c4712a77eb86cfdfbd6c9": {
      "model_module": "@jupyter-widgets/controls",
      "model_module_version": "1.5.0",
      "model_name": "LabelModel",
      "state": {
       "layout": "IPY_MODEL_74f19e34737e4a1389be0719e70c6464",
       "style": "IPY_MODEL_8077c4f353c547d0962a490a5a9de5d1",
       "value": "[47.541742213553675, 5.310478910808305]"
      }
     },
     "d0de0363f20e4f35963b89be40e78ff7": {
      "model_module": "@jupyter-widgets/controls",
      "model_module_version": "1.5.0",
      "model_name": "DescriptionStyleModel",
      "state": {
       "description_width": ""
      }
     },
     "d11daaca635e402ba41b64053b030bb3": {
      "model_module": "@jupyter-widgets/base",
      "model_module_version": "1.2.0",
      "model_name": "LayoutModel",
      "state": {}
     },
     "d2726321e75b49b8910f088581df0653": {
      "model_module": "@jupyter-widgets/base",
      "model_module_version": "1.2.0",
      "model_name": "LayoutModel",
      "state": {}
     },
     "d3bbb73b214b453989caeb55e31ab2ad": {
      "model_module": "jupyter-leaflet",
      "model_module_version": "^0.12.1",
      "model_name": "LeafletMapModel",
      "state": {
       "_dom_classes": [],
       "_model_module_version": "^0.12.1",
       "_view_count": null,
       "_view_module_version": "^0.12.1",
       "center": [
        48,
        8
       ],
       "controls": [
        "IPY_MODEL_f9a230e31c424b99a6bb96a608dd5891",
        "IPY_MODEL_7d19b234305f40fe9e21aa83fdbb2a0a",
        "IPY_MODEL_b4b7b5d32fd146eeb64b816eddcc7879"
       ],
       "default_style": "IPY_MODEL_b5e9844d21b24149863e50c0172f9a48",
       "dragging_style": "IPY_MODEL_9bda07807e3a40f28cc3d5dddc56f727",
       "east": 10.634765625,
       "fullscreen": false,
       "interpolation": "bilinear",
       "layers": [
        "IPY_MODEL_9ecbf233c2de4d35872e529bb0201d24",
        "IPY_MODEL_d3e38a1f8d9944afb1f417c18f81c242",
        "IPY_MODEL_e76abd5edd8d441cba87638973191a30"
       ],
       "layout": "IPY_MODEL_13258971a2024e428aa965af31d09192",
       "modisdate": "yesterday",
       "north": 48.73083222613518,
       "options": [
        "bounce_at_zoom_limits",
        "box_zoom",
        "center",
        "close_popup_on_click",
        "double_click_zoom",
        "dragging",
        "fullscreen",
        "inertia",
        "inertia_deceleration",
        "inertia_max_speed",
        "interpolation",
        "keyboard",
        "keyboard_pan_offset",
        "keyboard_zoom_offset",
        "max_zoom",
        "min_zoom",
        "scroll_wheel_zoom",
        "tap",
        "tap_tolerance",
        "touch_zoom",
        "world_copy_jump",
        "zoom",
        "zoom_animation_threshold",
        "zoom_start"
       ],
       "south": 47.260592193424706,
       "style": "IPY_MODEL_b5e9844d21b24149863e50c0172f9a48",
       "west": 5.366821289062501,
       "zoom": 8
      }
     },
     "d3e38a1f8d9944afb1f417c18f81c242": {
      "model_module": "jupyter-leaflet",
      "model_module_version": "^0.12.1",
      "model_name": "LeafletTileLayerModel",
      "state": {
       "_model_module_version": "^0.12.1",
       "_view_count": null,
       "_view_module_version": "^0.12.1",
       "attribution": "Map tiles by <a href=\"https://labs.strava.com/heatmap\">Strava 2017</a>",
       "loading": false,
       "max_native_zoom": 18,
       "max_zoom": 15,
       "min_native_zoom": 0,
       "min_zoom": 1,
       "name": "Strava.Water",
       "no_wrap": false,
       "options": [
        "attribution",
        "detect_retina",
        "max_native_zoom",
        "max_zoom",
        "min_native_zoom",
        "min_zoom",
        "no_wrap",
        "tile_size",
        "tms"
       ],
       "url": "https://heatmap-external-a.strava.com//tiles/water/blue/{z}/{x}/{y}.png?v=19"
      }
     },
     "d4b96f425b1344aa927c1be91ead6e43": {
      "model_module": "jupyter-leaflet",
      "model_module_version": "~0.9.2",
      "model_name": "LeafletMapModel",
      "state": {
       "_dom_classes": [],
       "_model_module_version": "~0.9.2",
       "_view_count": null,
       "_view_module_version": "~0.9.2",
       "basemap": {
        "attribution": "Map data (c) <a href=\"https://openstreetmap.org\">OpenStreetMap</a> contributors",
        "max_zoom": 19,
        "url": "https://{s}.tile.openstreetmap.org/{z}/{x}/{y}.png"
       },
       "center": [
        47.5941249027327,
        6.551284790039063
       ],
       "east": 6.88568115234375,
       "interpolation": "bilinear",
       "layers": [
        "IPY_MODEL_2c62c0d598fc4f46bd68858495877c87"
       ],
       "layout": "IPY_MODEL_9621d768368d46a2bc9870ff9f836d8a",
       "modisdate": "yesterday",
       "north": 47.779020638534796,
       "options": [
        "attribution_control",
        "basemap",
        "bounce_at_zoom_limits",
        "box_zoom",
        "center",
        "close_popup_on_click",
        "double_click_zoom",
        "dragging",
        "inertia",
        "inertia_deceleration",
        "inertia_max_speed",
        "interpolation",
        "keyboard",
        "keyboard_pan_offset",
        "keyboard_zoom_offset",
        "max_zoom",
        "min_zoom",
        "scroll_wheel_zoom",
        "tap",
        "tap_tolerance",
        "touch_zoom",
        "world_copy_jump",
        "zoom",
        "zoom_animation_threshold",
        "zoom_control",
        "zoom_start"
       ],
       "south": 47.408573553097575,
       "west": 6.216888427734376,
       "zoom": 10
      }
     },
     "d4da037bb7d54a3a863c94d011d3e52b": {
      "model_module": "jupyter-leaflet",
      "model_module_version": "^0.12.1",
      "model_name": "LeafletMapStyleModel",
      "state": {
       "_model_module_version": "^0.12.1",
       "_view_count": null,
       "_view_module": "@jupyter-widgets/base",
       "_view_module_version": "1.2.0",
       "_view_name": "StyleView",
       "cursor": "grab"
      }
     },
     "d5d8b45ec5864e269153c762103ed5a8": {
      "model_module": "jupyter-leaflet",
      "model_module_version": "~0.9.2",
      "model_name": "LeafletTileLayerModel",
      "state": {
       "_model_module_version": "~0.9.2",
       "_view_count": null,
       "_view_module_version": "~0.9.2",
       "base": true,
       "max_zoom": 19,
       "min_zoom": 1,
       "options": [
        "attribution",
        "detect_retina",
        "max_zoom",
        "min_zoom",
        "tile_size"
       ]
      }
     },
     "d5fca2bbef914b378410deb1a012ebf0": {
      "model_module": "jupyter-leaflet",
      "model_module_version": "^0.12.1",
      "model_name": "LeafletMapModel",
      "state": {
       "_dom_classes": [],
       "_model_module_version": "^0.12.1",
       "_view_count": null,
       "_view_module_version": "^0.12.1",
       "center": [
        30.661,
        -88.645
       ],
       "controls": [
        "IPY_MODEL_af63f8754f9f4394bcbe02f91370c574",
        "IPY_MODEL_94b21977b30e46aa929fdaa2975c6344"
       ],
       "default_style": "IPY_MODEL_aa6ba7bba399405b83594075aec9f039",
       "dragging_style": "IPY_MODEL_99c814030b8d4b49986a5db2370f51a2",
       "east": -67.58789062500001,
       "fullscreen": false,
       "interpolation": "bilinear",
       "layers": [
        "IPY_MODEL_324b8a0a4b1b4711a596e28f326836cb",
        "IPY_MODEL_dd2f0792a93e4634ba798549ff762c09"
       ],
       "layout": "IPY_MODEL_a71a8fb82ba245bba214ef942fced458",
       "modisdate": "yesterday",
       "north": 37.92686760148135,
       "options": [
        "bounce_at_zoom_limits",
        "box_zoom",
        "center",
        "close_popup_on_click",
        "double_click_zoom",
        "dragging",
        "fullscreen",
        "inertia",
        "inertia_deceleration",
        "inertia_max_speed",
        "interpolation",
        "keyboard",
        "keyboard_pan_offset",
        "keyboard_zoom_offset",
        "max_zoom",
        "min_zoom",
        "scroll_wheel_zoom",
        "tap",
        "tap_tolerance",
        "touch_zoom",
        "world_copy_jump",
        "zoom",
        "zoom_animation_threshold",
        "zoom_start"
       ],
       "south": 22.836945920943855,
       "style": "IPY_MODEL_86b383e033004dd09c39c53493d790bd",
       "west": -109.73144531250001,
       "zoom": 5
      }
     },
     "d621a5300665451da490cc968e9a3182": {
      "model_module": "jupyter-leaflet",
      "model_module_version": "^0.12.1",
      "model_name": "LeafletAttributionControlModel",
      "state": {
       "_model_module_version": "^0.12.1",
       "_view_count": null,
       "_view_module_version": "^0.12.1",
       "options": [
        "position",
        "prefix"
       ],
       "position": "bottomright",
       "prefix": "Leaflet"
      }
     },
     "d65b34a5518b4b5a8163c27fc45ff852": {
      "model_module": "jupyter-leaflet",
      "model_module_version": "^0.12.1",
      "model_name": "LeafletTileLayerModel",
      "state": {
       "_model_module_version": "^0.12.1",
       "_view_count": null,
       "_view_module_version": "^0.12.1",
       "base": true,
       "loading": false,
       "max_native_zoom": 18,
       "max_zoom": 19,
       "min_native_zoom": 0,
       "min_zoom": 1,
       "no_wrap": false,
       "options": [
        "attribution",
        "detect_retina",
        "max_native_zoom",
        "max_zoom",
        "min_native_zoom",
        "min_zoom",
        "no_wrap",
        "tile_size",
        "tms"
       ]
      }
     },
     "d788bcd56abd4ae99aabae841f1256c7": {
      "model_module": "jupyter-leaflet",
      "model_module_version": "^0.12.1",
      "model_name": "LeafletMapModel",
      "state": {
       "_dom_classes": [],
       "_model_module_version": "^0.12.1",
       "_view_count": null,
       "_view_module_version": "^0.12.1",
       "center": [
        30.675715404167743,
        -88.63769531250001
       ],
       "controls": [
        "IPY_MODEL_1ef1abf128004ad4a8c60eb3f5415025",
        "IPY_MODEL_d621a5300665451da490cc968e9a3182"
       ],
       "default_style": "IPY_MODEL_9fa267c3ebe64c269a315ceb4fe944b9",
       "dragging_style": "IPY_MODEL_491292837b8e4402915c6ac10c0787a1",
       "east": -180,
       "fullscreen": false,
       "interpolation": "bilinear",
       "layers": [
        "IPY_MODEL_3f137d8fd86944ca8293dbf2ea55f595",
        "IPY_MODEL_f4d1612db6d84e53ae64315d8bed2ce4"
       ],
       "layout": "IPY_MODEL_510d6df6ce51481abb2eb1e110eeef13",
       "modisdate": "yesterday",
       "north": -90,
       "options": [
        "bounce_at_zoom_limits",
        "box_zoom",
        "center",
        "close_popup_on_click",
        "double_click_zoom",
        "dragging",
        "fullscreen",
        "inertia",
        "inertia_deceleration",
        "inertia_max_speed",
        "interpolation",
        "keyboard",
        "keyboard_pan_offset",
        "keyboard_zoom_offset",
        "max_zoom",
        "min_zoom",
        "scroll_wheel_zoom",
        "tap",
        "tap_tolerance",
        "touch_zoom",
        "world_copy_jump",
        "zoom",
        "zoom_animation_threshold",
        "zoom_start"
       ],
       "south": 90,
       "style": "IPY_MODEL_9fa267c3ebe64c269a315ceb4fe944b9",
       "west": 180,
       "zoom": 5
      }
     },
     "d826eee2d48a45abada1b274dcb6eb1a": {
      "model_module": "jupyter-leaflet",
      "model_module_version": "^0.12.1",
      "model_name": "LeafletTileLayerModel",
      "state": {
       "_model_module_version": "^0.12.1",
       "_view_count": null,
       "_view_module_version": "^0.12.1",
       "attribution": "Tiles courtesy of <a href=\"http://openstreetmap.se/\" target=\"_blank\">OpenStreetMap Sweden</a> &mdash; Map data &copy; <a href=\"http://www.openstreetmap.org/copyright\">OpenStreetMap</a>",
       "base": true,
       "loading": false,
       "max_native_zoom": 18,
       "min_native_zoom": 0,
       "min_zoom": 1,
       "name": "Hydda.Full",
       "no_wrap": false,
       "options": [
        "attribution",
        "detect_retina",
        "max_native_zoom",
        "max_zoom",
        "min_native_zoom",
        "min_zoom",
        "no_wrap",
        "tile_size",
        "tms"
       ],
       "url": "http://{s}.tile.openstreetmap.se/hydda/full/{z}/{x}/{y}.png"
      }
     },
     "d8bec27c29c44dd186507b311fe0bc9b": {
      "model_module": "jupyter-leaflet",
      "model_module_version": "~0.9.2",
      "model_name": "LeafletTileLayerModel",
      "state": {
       "_model_module_version": "~0.9.2",
       "_view_count": null,
       "_view_module_version": "~0.9.2",
       "attribution": "",
       "max_zoom": 19,
       "min_zoom": 1,
       "name": "Countries",
       "options": [
        "attribution",
        "detect_retina",
        "max_zoom",
        "min_zoom",
        "tile_size"
       ],
       "url": ""
      }
     },
     "d9083c42b2c94912875396563a7ea152": {
      "model_module": "@jupyter-widgets/controls",
      "model_module_version": "1.5.0",
      "model_name": "DescriptionStyleModel",
      "state": {
       "description_width": ""
      }
     },
     "d9f4a0156ed440978062b4ab4638b22d": {
      "model_module": "jupyter-leaflet",
      "model_module_version": "^0.12.1",
      "model_name": "LeafletMapStyleModel",
      "state": {
       "_model_module_version": "^0.12.1",
       "_view_count": null,
       "_view_module": "@jupyter-widgets/base",
       "_view_module_version": "1.2.0",
       "_view_name": "StyleView",
       "cursor": "move"
      }
     },
     "d9fe322fd9854224aa174015cc6db1e6": {
      "model_module": "jupyter-leaflet",
      "model_module_version": "^0.12.1",
      "model_name": "LeafletMapModel",
      "state": {
       "_dom_classes": [],
       "_model_module_version": "^0.12.1",
       "_view_count": null,
       "_view_module_version": "^0.12.1",
       "center": [
        30.37287518811804,
        -89.4287109375
       ],
       "controls": [
        "IPY_MODEL_44e10cc8005349f781d3d66b0b36684e",
        "IPY_MODEL_4345c2f388584bdba1ade7d67018ee20"
       ],
       "default_style": "IPY_MODEL_0e3a67ceb8d547ffac04bc121114fe8d",
       "dragging_style": "IPY_MODEL_5a2292fb651a448697d3884fd7389aa7",
       "east": -180,
       "fullscreen": false,
       "interpolation": "bilinear",
       "layers": [
        "IPY_MODEL_2417b1c34a0742a581514da898b9ff5b",
        "IPY_MODEL_f3f142f4b21f4ada8467f29537624dab"
       ],
       "layout": "IPY_MODEL_4b0d5f61b81f46bfb6f2f03e6b3bf955",
       "modisdate": "yesterday",
       "north": -90,
       "options": [
        "bounce_at_zoom_limits",
        "box_zoom",
        "center",
        "close_popup_on_click",
        "double_click_zoom",
        "dragging",
        "fullscreen",
        "inertia",
        "inertia_deceleration",
        "inertia_max_speed",
        "interpolation",
        "keyboard",
        "keyboard_pan_offset",
        "keyboard_zoom_offset",
        "max_zoom",
        "min_zoom",
        "scroll_wheel_zoom",
        "tap",
        "tap_tolerance",
        "touch_zoom",
        "world_copy_jump",
        "zoom",
        "zoom_animation_threshold",
        "zoom_start"
       ],
       "south": 90,
       "style": "IPY_MODEL_0e3a67ceb8d547ffac04bc121114fe8d",
       "west": 180,
       "zoom": 5
      }
     },
     "da5aa2d8ebdc48dcba71576472b54090": {
      "model_module": "@jupyter-widgets/base",
      "model_module_version": "1.2.0",
      "model_name": "LayoutModel",
      "state": {}
     },
     "da621ece22c1469eb1bbf6ad0fd4e31c": {
      "model_module": "@jupyter-widgets/controls",
      "model_module_version": "1.5.0",
      "model_name": "DescriptionStyleModel",
      "state": {
       "description_width": ""
      }
     },
     "dafc6d893b2a4ec08ac7f2d99faf8c84": {
      "model_module": "jupyter-leaflet",
      "model_module_version": "^0.11.2",
      "model_name": "LeafletMapStyleModel",
      "state": {
       "_model_module_version": "^0.11.2",
       "_view_count": null,
       "_view_module": "@jupyter-widgets/base",
       "_view_module_version": "1.2.0",
       "_view_name": "StyleView",
       "cursor": "grab"
      }
     },
     "dba8f62800d94048b65578b0f91caff1": {
      "model_module": "jupyter-leaflet",
      "model_module_version": "^0.12.1",
      "model_name": "LeafletMapModel",
      "state": {
       "_dom_classes": [],
       "_model_module_version": "^0.12.1",
       "_view_count": null,
       "_view_module_version": "^0.12.1",
       "center": [
        30.661,
        -88.645
       ],
       "controls": [
        "IPY_MODEL_74e20f9dd55445ba807620e6084bfdf7",
        "IPY_MODEL_a17fee91d1b446cf9561b945f8be99a4"
       ],
       "default_style": "IPY_MODEL_27ebde1f01804f3092a5b9e5a3a3b89e",
       "dragging_style": "IPY_MODEL_d9f4a0156ed440978062b4ab4638b22d",
       "fullscreen": false,
       "interpolation": "bilinear",
       "layers": [
        "IPY_MODEL_5f3b54a653cd494ea7b22ccc02ee0048",
        "IPY_MODEL_07e360a4f6704dc9a9aa5586cdb3ea6c"
       ],
       "layout": "IPY_MODEL_114b137dace94348a2b1267c9fb1fdfc",
       "modisdate": "yesterday",
       "options": [
        "bounce_at_zoom_limits",
        "box_zoom",
        "center",
        "close_popup_on_click",
        "double_click_zoom",
        "dragging",
        "fullscreen",
        "inertia",
        "inertia_deceleration",
        "inertia_max_speed",
        "interpolation",
        "keyboard",
        "keyboard_pan_offset",
        "keyboard_zoom_offset",
        "max_zoom",
        "min_zoom",
        "scroll_wheel_zoom",
        "tap",
        "tap_tolerance",
        "touch_zoom",
        "world_copy_jump",
        "zoom",
        "zoom_animation_threshold",
        "zoom_start"
       ],
       "style": "IPY_MODEL_160d5f1d48f14d8980b6ef5250306759",
       "zoom": 5
      }
     },
     "dbe4e90e5426466f9597fc72e875d584": {
      "model_module": "jupyter-leaflet",
      "model_module_version": "^0.12.1",
      "model_name": "LeafletMapStyleModel",
      "state": {
       "_model_module_version": "^0.12.1",
       "_view_count": null,
       "_view_module": "@jupyter-widgets/base",
       "_view_module_version": "1.2.0",
       "_view_name": "StyleView",
       "cursor": "grab"
      }
     },
     "dd2e6a4a3db540bd99b5088b3692d5f3": {
      "model_module": "@jupyter-widgets/controls",
      "model_module_version": "1.5.0",
      "model_name": "DescriptionStyleModel",
      "state": {
       "description_width": ""
      }
     },
     "dd2f0792a93e4634ba798549ff762c09": {
      "model_module": "jupyter-leaflet",
      "model_module_version": "^0.12.1",
      "model_name": "LeafletWMSLayerModel",
      "state": {
       "_model_module_version": "^0.12.1",
       "_view_count": null,
       "_view_module_version": "^0.12.1",
       "attribution": "Weather data © 2012 IEM Nexrad",
       "crs": "EPSG3857",
       "format": "image/png",
       "layers": "nexrad-n0r-wmst",
       "loading": false,
       "max_native_zoom": 18,
       "min_native_zoom": 0,
       "no_wrap": false,
       "options": [
        "attribution",
        "detect_retina",
        "format",
        "layers",
        "max_native_zoom",
        "max_zoom",
        "min_native_zoom",
        "min_zoom",
        "no_wrap",
        "styles",
        "tile_size",
        "time",
        "tms",
        "transparent",
        "uppercase"
       ],
       "time": "2005-08-29T16:00",
       "transparent": true,
       "url": "https://mesonet.agron.iastate.edu/cgi-bin/wms/nexrad/n0r-t.cgi?"
      }
     },
     "def07c40e91748c3b0d1981bd45cc879": {
      "model_module": "jupyter-leaflet",
      "model_module_version": "^0.12.1",
      "model_name": "LeafletZoomControlModel",
      "state": {
       "_model_module_version": "^0.12.1",
       "_view_count": null,
       "_view_module_version": "^0.12.1",
       "options": [
        "position",
        "zoom_in_text",
        "zoom_in_title",
        "zoom_out_text",
        "zoom_out_title"
       ]
      }
     },
     "df9ca5fd229244a38a81268e25187b70": {
      "model_module": "jupyter-leaflet",
      "model_module_version": "^0.12.1",
      "model_name": "LeafletMapModel",
      "state": {
       "_dom_classes": [],
       "_model_module_version": "^0.12.1",
       "_view_count": null,
       "_view_module_version": "^0.12.1",
       "center": [
        48,
        7.9
       ],
       "controls": [
        "IPY_MODEL_69c839bc2ad744d096d2413bebb075dd",
        "IPY_MODEL_7becfa6e819b413ca333be44dc21b8c4"
       ],
       "default_style": "IPY_MODEL_acedcb2cd7994d35befafbb317dd8fc9",
       "dragging_style": "IPY_MODEL_a3f8b614f5aa46668642180d64188325",
       "east": 8.217773437500002,
       "fullscreen": false,
       "interpolation": "bilinear",
       "layers": [
        "IPY_MODEL_1c60f61343234fe4a6b280a7c9d2e925"
       ],
       "layout": "IPY_MODEL_9f51004f53114ace83b2f09f2c78f85b",
       "modisdate": "yesterday",
       "north": 48.18348549519126,
       "options": [
        "bounce_at_zoom_limits",
        "box_zoom",
        "center",
        "close_popup_on_click",
        "double_click_zoom",
        "dragging",
        "fullscreen",
        "inertia",
        "inertia_deceleration",
        "inertia_max_speed",
        "interpolation",
        "keyboard",
        "keyboard_pan_offset",
        "keyboard_zoom_offset",
        "max_zoom",
        "min_zoom",
        "scroll_wheel_zoom",
        "tap",
        "tap_tolerance",
        "touch_zoom",
        "world_copy_jump",
        "zoom",
        "zoom_animation_threshold",
        "zoom_start"
       ],
       "south": 47.81592114659014,
       "style": "IPY_MODEL_acedcb2cd7994d35befafbb317dd8fc9",
       "west": 7.581939697265626,
       "zoom": 10
      }
     },
     "e0ce537ef98c4e15b394ffdf817fac9b": {
      "model_module": "jupyter-leaflet",
      "model_module_version": "^0.12.1",
      "model_name": "LeafletMapModel",
      "state": {
       "_dom_classes": [],
       "_model_module_version": "^0.12.1",
       "_view_count": null,
       "_view_module_version": "^0.12.1",
       "center": [
        30.661,
        -88.645
       ],
       "controls": [
        "IPY_MODEL_21e85d2ced9349e6adec78ccd93f261f",
        "IPY_MODEL_97c237aa6eff4e34a73b4e3143922049"
       ],
       "default_style": "IPY_MODEL_16f355f1d13d47db898509fa130c4196",
       "dragging_style": "IPY_MODEL_4c6db0e191b241b898a3a90ae676ff82",
       "east": -67.58789062500001,
       "fullscreen": false,
       "interpolation": "bilinear",
       "layers": [
        "IPY_MODEL_97620df4c9dd4ace9fc74252d12c5710",
        "IPY_MODEL_a3f1d68f717c4c839e61eb1b0ded725f"
       ],
       "layout": "IPY_MODEL_b2ecf56bc7e5473bbb0f6bfdb0262a0c",
       "modisdate": "yesterday",
       "north": 37.92686760148135,
       "options": [
        "bounce_at_zoom_limits",
        "box_zoom",
        "center",
        "close_popup_on_click",
        "double_click_zoom",
        "dragging",
        "fullscreen",
        "inertia",
        "inertia_deceleration",
        "inertia_max_speed",
        "interpolation",
        "keyboard",
        "keyboard_pan_offset",
        "keyboard_zoom_offset",
        "max_zoom",
        "min_zoom",
        "scroll_wheel_zoom",
        "tap",
        "tap_tolerance",
        "touch_zoom",
        "world_copy_jump",
        "zoom",
        "zoom_animation_threshold",
        "zoom_start"
       ],
       "south": 22.836945920943855,
       "style": "IPY_MODEL_8cf9e6151903488e9e3ef294a3fbdd28",
       "west": -109.73144531250001,
       "zoom": 5
      }
     },
     "e152ef94272947878eefc239c53c01bd": {
      "model_module": "@jupyter-widgets/base",
      "model_module_version": "1.2.0",
      "model_name": "LayoutModel",
      "state": {}
     },
     "e20c6f6fc84947159f5b5c28594faedd": {
      "model_module": "jupyter-leaflet",
      "model_module_version": "^0.12.1",
      "model_name": "LeafletMapStyleModel",
      "state": {
       "_model_module_version": "^0.12.1",
       "_view_count": null,
       "_view_module": "@jupyter-widgets/base",
       "_view_module_version": "1.2.0",
       "_view_name": "StyleView",
       "cursor": "grab"
      }
     },
     "e2135b7f69d8473fbf1abf3aede718d1": {
      "model_module": "@jupyter-widgets/base",
      "model_module_version": "1.2.0",
      "model_name": "LayoutModel",
      "state": {}
     },
     "e22a8b737fa044ad993278c2efc8f104": {
      "model_module": "jupyter-leaflet",
      "model_module_version": "^0.12.1",
      "model_name": "LeafletMapStyleModel",
      "state": {
       "_model_module_version": "^0.12.1",
       "_view_count": null,
       "_view_module": "@jupyter-widgets/base",
       "_view_module_version": "1.2.0",
       "_view_name": "StyleView",
       "cursor": "grab"
      }
     },
     "e27658e30b9b452594d2d8f9d49475ed": {
      "model_module": "jupyter-leaflet",
      "model_module_version": "~0.9.2",
      "model_name": "LeafletMapModel",
      "state": {
       "_dom_classes": [],
       "_model_module_version": "~0.9.2",
       "_view_count": null,
       "_view_module_version": "~0.9.2",
       "basemap": {
        "attribution": "Map data (c) <a href=\"https://openstreetmap.org\">OpenStreetMap</a> contributors",
        "max_zoom": 19,
        "url": "https://{s}.tile.openstreetmap.org/{z}/{x}/{y}.png"
       },
       "center": [
        47.785480119293645,
        7.445297241210938
       ],
       "east": 7.779693603515626,
       "interpolation": "bilinear",
       "layers": [
        "IPY_MODEL_7659a3a0ab6f40739205a6025d928bd5"
       ],
       "layout": "IPY_MODEL_b1d4d7b4465c4ef191bcf51a34dcfac6",
       "modisdate": "yesterday",
       "north": 47.9696977140649,
       "options": [
        "attribution_control",
        "basemap",
        "bounce_at_zoom_limits",
        "box_zoom",
        "center",
        "close_popup_on_click",
        "double_click_zoom",
        "dragging",
        "inertia",
        "inertia_deceleration",
        "inertia_max_speed",
        "interpolation",
        "keyboard",
        "keyboard_pan_offset",
        "keyboard_zoom_offset",
        "max_zoom",
        "min_zoom",
        "scroll_wheel_zoom",
        "tap",
        "tap_tolerance",
        "touch_zoom",
        "world_copy_jump",
        "zoom",
        "zoom_animation_threshold",
        "zoom_control",
        "zoom_start"
       ],
       "south": 47.600607322920695,
       "west": 7.110900878906251,
       "zoom": 10
      }
     },
     "e3c2c97d6d1c498db40dffce660ce55e": {
      "model_module": "jupyter-leaflet",
      "model_module_version": "^0.12.1",
      "model_name": "LeafletMapStyleModel",
      "state": {
       "_model_module_version": "^0.12.1",
       "_view_count": null,
       "_view_module": "@jupyter-widgets/base",
       "_view_module_version": "1.2.0",
       "_view_name": "StyleView",
       "cursor": "grab"
      }
     },
     "e481cad2a8db4e1ca64db00bfd9daf12": {
      "model_module": "jupyter-leaflet",
      "model_module_version": "~0.9.2",
      "model_name": "LeafletTileLayerModel",
      "state": {
       "_model_module_version": "~0.9.2",
       "_view_count": null,
       "_view_module_version": "~0.9.2",
       "attribution": "Tiles courtesy of <a href=\"http://openstreetmap.se/\" target=\"_blank\">OpenStreetMap Sweden</a> &mdash; Map data &copy; <a href=\"http://www.openstreetmap.org/copyright\">OpenStreetMap</a>",
       "base": true,
       "min_zoom": 1,
       "name": "Hydda.Full",
       "options": [
        "attribution",
        "detect_retina",
        "max_zoom",
        "min_zoom",
        "tile_size"
       ],
       "url": "http://{s}.tile.openstreetmap.se/hydda/full/{z}/{x}/{y}.png"
      }
     },
     "e48726183d9147ff96e5e258b0b7ba17": {
      "model_module": "@jupyter-widgets/base",
      "model_module_version": "1.2.0",
      "model_name": "LayoutModel",
      "state": {}
     },
     "e51d4ad81bce460ca4721d8037c83612": {
      "model_module": "jupyter-leaflet",
      "model_module_version": "~0.9.2",
      "model_name": "LeafletMapModel",
      "state": {
       "_dom_classes": [],
       "_model_module_version": "~0.9.2",
       "_view_count": null,
       "_view_module_version": "~0.9.2",
       "basemap": {
        "attribution": "Tiles courtesy of <a href=\"http://openstreetmap.se/\" target=\"_blank\">OpenStreetMap Sweden</a> &mdash; Map data &copy; <a href=\"http://www.openstreetmap.org/copyright\">OpenStreetMap</a>",
        "max_zoom": 18,
        "name": "Hydda.Full",
        "url": "http://{s}.tile.openstreetmap.se/hydda/full/{z}/{x}/{y}.png"
       },
       "center": [
        52,
        10
       ],
       "east": 12.689208984375002,
       "interpolation": "bilinear",
       "layers": [
        "IPY_MODEL_9e694740cf5944c2b87fc9f164c0a39b"
       ],
       "layout": "IPY_MODEL_3606f30ee3eb4f4faded52e2367747a7",
       "modisdate": "yesterday",
       "north": 52.669720383688166,
       "options": [
        "attribution_control",
        "basemap",
        "bounce_at_zoom_limits",
        "box_zoom",
        "center",
        "close_popup_on_click",
        "double_click_zoom",
        "dragging",
        "inertia",
        "inertia_deceleration",
        "inertia_max_speed",
        "interpolation",
        "keyboard",
        "keyboard_pan_offset",
        "keyboard_zoom_offset",
        "max_zoom",
        "min_zoom",
        "scroll_wheel_zoom",
        "tap",
        "tap_tolerance",
        "touch_zoom",
        "world_copy_jump",
        "zoom",
        "zoom_animation_threshold",
        "zoom_control",
        "zoom_start"
       ],
       "south": 51.316880504045876,
       "west": 7.3114013671875,
       "zoom": 8
      }
     },
     "e5742688e911447fa1eb03bd5a3cf7c7": {
      "model_module": "@jupyter-widgets/controls",
      "model_module_version": "1.5.0",
      "model_name": "HBoxModel",
      "state": {
       "children": [
        "IPY_MODEL_2a0f6d89c0844b93a69ef9742d7acb6b",
        "IPY_MODEL_97f46b0fa80445deb992ffc1a8282ed9"
       ],
       "layout": "IPY_MODEL_5605723188ca4f8ab51639cac498a325"
      }
     },
     "e58a6dcf7b824993b8fe999a82345e47": {
      "model_module": "jupyter-leaflet",
      "model_module_version": "~0.9.2",
      "model_name": "LeafletMapModel",
      "state": {
       "_dom_classes": [],
       "_model_module_version": "~0.9.2",
       "_view_count": null,
       "_view_module_version": "~0.9.2",
       "basemap": {
        "attribution": "Tiles courtesy of <a href=\"http://openstreetmap.se/\" target=\"_blank\">OpenStreetMap Sweden</a> &mdash; Map data &copy; <a href=\"http://www.openstreetmap.org/copyright\">OpenStreetMap</a>",
        "max_zoom": 18,
        "name": "Hydda.Full",
        "url": "http://{s}.tile.openstreetmap.se/hydda/full/{z}/{x}/{y}.png"
       },
       "center": [
        51,
        10
       ],
       "east": 12.689208984375002,
       "interpolation": "bilinear",
       "layers": [
        "IPY_MODEL_5e4b909094b14951ace4f41872ab5dd5"
       ],
       "layout": "IPY_MODEL_31c2aa08bd764986ad77ec7d01576909",
       "modisdate": "yesterday",
       "north": 51.68617954855624,
       "options": [
        "attribution_control",
        "basemap",
        "bounce_at_zoom_limits",
        "box_zoom",
        "center",
        "close_popup_on_click",
        "double_click_zoom",
        "dragging",
        "inertia",
        "inertia_deceleration",
        "inertia_max_speed",
        "interpolation",
        "keyboard",
        "keyboard_pan_offset",
        "keyboard_zoom_offset",
        "max_zoom",
        "min_zoom",
        "scroll_wheel_zoom",
        "tap",
        "tap_tolerance",
        "touch_zoom",
        "world_copy_jump",
        "zoom",
        "zoom_animation_threshold",
        "zoom_control",
        "zoom_start"
       ],
       "south": 50.30337575356313,
       "west": 7.3114013671875,
       "zoom": 8
      }
     },
     "e5ddef9d254648a7b3d3771a314711c3": {
      "model_module": "jupyter-leaflet",
      "model_module_version": "~0.9.2",
      "model_name": "LeafletLayersControlModel",
      "state": {
       "_model_module_version": "~0.9.2",
       "_view_count": null,
       "_view_module_version": "~0.9.2"
      }
     },
     "e62b5cbddd50413487eef0087ede16db": {
      "model_module": "jupyter-leaflet",
      "model_module_version": "^0.11.6",
      "model_name": "LeafletMapStyleModel",
      "state": {
       "_model_module_version": "^0.11.6",
       "_view_count": null,
       "_view_module": "@jupyter-widgets/base",
       "_view_module_version": "1.2.0",
       "_view_name": "StyleView",
       "cursor": "grab"
      }
     },
     "e6ef6d1b2a4e4fbe9e3b9c64a6a6762b": {
      "model_module": "jupyter-leaflet",
      "model_module_version": "^0.12.1",
      "model_name": "LeafletAttributionControlModel",
      "state": {
       "_model_module_version": "^0.12.1",
       "_view_count": null,
       "_view_module_version": "^0.12.1",
       "options": [
        "position",
        "prefix"
       ],
       "position": "bottomright",
       "prefix": "Leaflet"
      }
     },
     "e76abd5edd8d441cba87638973191a30": {
      "model_module": "jupyter-leaflet",
      "model_module_version": "^0.12.1",
      "model_name": "LeafletTileLayerModel",
      "state": {
       "_model_module_version": "^0.12.1",
       "_view_count": null,
       "_view_module_version": "^0.12.1",
       "attribution": "",
       "loading": false,
       "max_native_zoom": 18,
       "max_zoom": 19,
       "min_native_zoom": 0,
       "min_zoom": 1,
       "name": "Countries",
       "no_wrap": false,
       "options": [
        "attribution",
        "detect_retina",
        "max_native_zoom",
        "max_zoom",
        "min_native_zoom",
        "min_zoom",
        "no_wrap",
        "tile_size",
        "tms"
       ],
       "url": ""
      }
     },
     "e7c691cb5b21468a8fb8ac5de527bc56": {
      "model_module": "jupyter-leaflet",
      "model_module_version": "~0.9.2",
      "model_name": "LeafletMapModel",
      "state": {
       "_dom_classes": [],
       "_model_module_version": "~0.9.2",
       "_view_count": null,
       "_view_module_version": "~0.9.2",
       "basemap": {
        "attribution": "Map data (c) <a href=\"https://openstreetmap.org\">OpenStreetMap</a> contributors",
        "max_zoom": 19,
        "url": "https://{s}.tile.openstreetmap.org/{z}/{x}/{y}.png"
       },
       "center": [
        46.6,
        7.9
       ],
       "east": 8.234252929687502,
       "interpolation": "bilinear",
       "layers": [
        "IPY_MODEL_c016cd1f0b9548989abb6b83f60fa501"
       ],
       "layout": "IPY_MODEL_acfe3e23f9ec4ebd9e26d0885fe3ceef",
       "modisdate": "yesterday",
       "north": 46.78877728793222,
       "options": [
        "attribution_control",
        "basemap",
        "bounce_at_zoom_limits",
        "box_zoom",
        "center",
        "close_popup_on_click",
        "double_click_zoom",
        "dragging",
        "inertia",
        "inertia_deceleration",
        "inertia_max_speed",
        "interpolation",
        "keyboard",
        "keyboard_pan_offset",
        "keyboard_zoom_offset",
        "max_zoom",
        "min_zoom",
        "scroll_wheel_zoom",
        "tap",
        "tap_tolerance",
        "touch_zoom",
        "world_copy_jump",
        "zoom",
        "zoom_animation_threshold",
        "zoom_control",
        "zoom_start"
       ],
       "south": 46.411351502899215,
       "west": 7.565460205078126,
       "zoom": 10
      }
     },
     "e7f0222549124519bd3a5d1799ba6600": {
      "model_module": "@jupyter-widgets/controls",
      "model_module_version": "1.5.0",
      "model_name": "HBoxModel",
      "state": {
       "children": [
        "IPY_MODEL_2a0f6d89c0844b93a69ef9742d7acb6b",
        "IPY_MODEL_f8b6b100d59f42cc91cff3575a87208f"
       ],
       "layout": "IPY_MODEL_16be0029c33f4e42923636d826fe798e"
      }
     },
     "e7fba9c9f9c643a98e4280016fb5be47": {
      "model_module": "jupyter-leaflet",
      "model_module_version": "^0.12.1",
      "model_name": "LeafletMapStyleModel",
      "state": {
       "_model_module_version": "^0.12.1",
       "_view_count": null,
       "_view_module": "@jupyter-widgets/base",
       "_view_module_version": "1.2.0",
       "_view_name": "StyleView",
       "cursor": "move"
      }
     },
     "e84a4864d87b40ca9db358b8d5bd9729": {
      "model_module": "@jupyter-widgets/controls",
      "model_module_version": "1.5.0",
      "model_name": "DescriptionStyleModel",
      "state": {
       "description_width": ""
      }
     },
     "e8d996bc840442cf95de01977c06cd5d": {
      "model_module": "@jupyter-widgets/base",
      "model_module_version": "1.2.0",
      "model_name": "LayoutModel",
      "state": {}
     },
     "e8db4aaff6304eed8140d540f6c4869b": {
      "model_module": "jupyter-leaflet",
      "model_module_version": "^0.12.1",
      "model_name": "LeafletMapStyleModel",
      "state": {
       "_model_module_version": "^0.12.1",
       "_view_count": null,
       "_view_module": "@jupyter-widgets/base",
       "_view_module_version": "1.2.0",
       "_view_name": "StyleView",
       "cursor": "grab"
      }
     },
     "eb22b24dedd34503ae30f24c6b94490c": {
      "model_module": "@jupyter-widgets/controls",
      "model_module_version": "1.5.0",
      "model_name": "DescriptionStyleModel",
      "state": {
       "description_width": ""
      }
     },
     "eb81a40952f84c0c82965b08ba83a2a1": {
      "model_module": "jupyter-leaflet",
      "model_module_version": "~0.9.2",
      "model_name": "LeafletTileLayerModel",
      "state": {
       "_model_module_version": "~0.9.2",
       "_view_count": null,
       "_view_module_version": "~0.9.2",
       "attribution": "Tiles courtesy of <a href=\"http://openstreetmap.se/\" target=\"_blank\">OpenStreetMap Sweden</a> &mdash; Map data &copy; <a href=\"http://www.openstreetmap.org/copyright\">OpenStreetMap</a>",
       "base": true,
       "min_zoom": 1,
       "name": "Hydda.Full",
       "options": [
        "attribution",
        "detect_retina",
        "max_zoom",
        "min_zoom",
        "tile_size"
       ],
       "url": "http://{s}.tile.openstreetmap.se/hydda/full/{z}/{x}/{y}.png"
      }
     },
     "ebd46bdf0e8e431c86ca5b99cb5abf76": {
      "model_module": "@jupyter-widgets/controls",
      "model_module_version": "1.5.0",
      "model_name": "HBoxModel",
      "state": {
       "children": [
        "IPY_MODEL_81000aba87174f309c97913ee49c42ee",
        "IPY_MODEL_63c2ff9aebf047c0ac6e5ac8c9e78a1c"
       ],
       "layout": "IPY_MODEL_329fb432f4fc41c58e830333427c3e53"
      }
     },
     "ed7021898dfc407baf61f0995595aa9d": {
      "model_module": "@jupyter-widgets/base",
      "model_module_version": "1.2.0",
      "model_name": "LayoutModel",
      "state": {}
     },
     "eebc3cf4667d4c00a27b56c671d4bc68": {
      "model_module": "@jupyter-widgets/controls",
      "model_module_version": "1.5.0",
      "model_name": "DescriptionStyleModel",
      "state": {
       "description_width": ""
      }
     },
     "ef59dfa5b67d4b7ba97d418220caad65": {
      "model_module": "@jupyter-widgets/controls",
      "model_module_version": "1.5.0",
      "model_name": "DescriptionStyleModel",
      "state": {
       "description_width": ""
      }
     },
     "ef8bec32a1504c97b1986c4f7f907760": {
      "model_module": "jupyter-leaflet",
      "model_module_version": "^0.12.1",
      "model_name": "LeafletMapStyleModel",
      "state": {
       "_model_module_version": "^0.12.1",
       "_view_count": null,
       "_view_module": "@jupyter-widgets/base",
       "_view_module_version": "1.2.0",
       "_view_name": "StyleView",
       "cursor": "grab"
      }
     },
     "f10d557e1cdc48a9a375d4176f07e185": {
      "model_module": "jupyter-leaflet",
      "model_module_version": "^0.12.1",
      "model_name": "LeafletTileLayerModel",
      "state": {
       "_model_module_version": "^0.12.1",
       "_view_count": null,
       "_view_module_version": "^0.12.1",
       "attribution": "Map tiles by <a href=\"https://labs.strava.com/heatmap\">Strava 2017</a>",
       "loading": false,
       "max_native_zoom": 18,
       "max_zoom": 15,
       "min_native_zoom": 0,
       "min_zoom": 1,
       "name": "Strava.All",
       "no_wrap": false,
       "options": [
        "attribution",
        "detect_retina",
        "max_native_zoom",
        "max_zoom",
        "min_native_zoom",
        "min_zoom",
        "no_wrap",
        "tile_size",
        "tms"
       ],
       "url": "https://heatmap-external-a.strava.com//tiles/all/hot/{z}/{x}/{y}.png?v=19"
      }
     },
     "f193902eb3544899bfd228bdc1bf3bdc": {
      "model_module": "jupyter-leaflet",
      "model_module_version": "^0.12.1",
      "model_name": "LeafletMapStyleModel",
      "state": {
       "_model_module_version": "^0.12.1",
       "_view_count": null,
       "_view_module": "@jupyter-widgets/base",
       "_view_module_version": "1.2.0",
       "_view_name": "StyleView",
       "cursor": "grab"
      }
     },
     "f200051f626d48a1b346b434b73a40ba": {
      "model_module": "jupyter-leaflet",
      "model_module_version": "~0.9.2",
      "model_name": "LeafletMapModel",
      "state": {
       "_dom_classes": [],
       "_model_module_version": "~0.9.2",
       "_view_count": null,
       "_view_module_version": "~0.9.2",
       "basemap": {
        "attribution": "Tiles courtesy of <a href=\"http://openstreetmap.se/\" target=\"_blank\">OpenStreetMap Sweden</a> &mdash; Map data &copy; <a href=\"http://www.openstreetmap.org/copyright\">OpenStreetMap</a>",
        "max_zoom": 18,
        "name": "Hydda.Full",
        "url": "http://{s}.tile.openstreetmap.se/hydda/full/{z}/{x}/{y}.png"
       },
       "center": [
        48,
        10
       ],
       "east": 12.689208984375002,
       "interpolation": "bilinear",
       "layers": [
        "IPY_MODEL_033b42c566b449bc9798982d211c0929"
       ],
       "layout": "IPY_MODEL_1e779c60bf7e4c479c6210ca69cc6cde",
       "modisdate": "yesterday",
       "north": 48.73083222613518,
       "options": [
        "attribution_control",
        "basemap",
        "bounce_at_zoom_limits",
        "box_zoom",
        "center",
        "close_popup_on_click",
        "double_click_zoom",
        "dragging",
        "inertia",
        "inertia_deceleration",
        "inertia_max_speed",
        "interpolation",
        "keyboard",
        "keyboard_pan_offset",
        "keyboard_zoom_offset",
        "max_zoom",
        "min_zoom",
        "scroll_wheel_zoom",
        "tap",
        "tap_tolerance",
        "touch_zoom",
        "world_copy_jump",
        "zoom",
        "zoom_animation_threshold",
        "zoom_control",
        "zoom_start"
       ],
       "south": 47.260592193424706,
       "west": 7.3114013671875,
       "zoom": 8
      }
     },
     "f25cd12a02344e7096c8148f596de858": {
      "model_module": "jupyter-leaflet",
      "model_module_version": "^0.11.2",
      "model_name": "LeafletMapModel",
      "state": {
       "_dom_classes": [],
       "_model_module_version": "^0.11.2",
       "_view_count": null,
       "_view_module_version": "^0.11.2",
       "basemap": {
        "attribution": "Map data (c) <a href=\"https://openstreetmap.org\">OpenStreetMap</a> contributors",
        "max_zoom": 19,
        "url": "https://{s}.tile.openstreetmap.org/{z}/{x}/{y}.png"
       },
       "center": [
        48,
        7.9
       ],
       "controls": [
        "IPY_MODEL_c12f9be0beb142719cbfa6c69b16b783",
        "IPY_MODEL_588226bd8ddd4944b7658e5e9b02afe0"
       ],
       "default_style": "IPY_MODEL_184fdc1e166744aaac61fd87ecabf42a",
       "dragging_style": "IPY_MODEL_551e62d47e8e44878e90bd4a2ff5a967",
       "east": 8.235626220703127,
       "fullscreen": false,
       "interpolation": "bilinear",
       "layers": [
        "IPY_MODEL_ffeadde18dd74ffd8f08aeabf592c39f"
       ],
       "layout": "IPY_MODEL_c88b5c9abf2a4d13902a3594cd4ce303",
       "modisdate": "yesterday",
       "north": 48.18348549519126,
       "options": [
        "basemap",
        "bounce_at_zoom_limits",
        "box_zoom",
        "center",
        "close_popup_on_click",
        "double_click_zoom",
        "dragging",
        "fullscreen",
        "inertia",
        "inertia_deceleration",
        "inertia_max_speed",
        "interpolation",
        "keyboard",
        "keyboard_pan_offset",
        "keyboard_zoom_offset",
        "max_zoom",
        "min_zoom",
        "scroll_wheel_zoom",
        "tap",
        "tap_tolerance",
        "touch_zoom",
        "world_copy_jump",
        "zoom",
        "zoom_animation_threshold",
        "zoom_start"
       ],
       "south": 47.81592114659014,
       "style": "IPY_MODEL_0f34e08adc0149108ac3efa92d125c78",
       "west": 7.564086914062501,
       "zoom": 10
      }
     },
     "f2a5658e11d84a19b5fa60eaa68c4a2e": {
      "model_module": "@jupyter-widgets/controls",
      "model_module_version": "1.5.0",
      "model_name": "DescriptionStyleModel",
      "state": {
       "description_width": ""
      }
     },
     "f35e6a234c18499098700912337dfade": {
      "model_module": "@jupyter-widgets/controls",
      "model_module_version": "1.5.0",
      "model_name": "LabelModel",
      "state": {
       "layout": "IPY_MODEL_00cc568fefdf4a8b8a253e090f1fabe1",
       "style": "IPY_MODEL_24cf4b76c7194054bb4a339c2b4ba90f",
       "value": "[47.84388654174777, 6.871254871889604]"
      }
     },
     "f361820c462c4a5bb8a060b0d6cca613": {
      "model_module": "jupyter-leaflet",
      "model_module_version": "^0.12.1",
      "model_name": "LeafletMapStyleModel",
      "state": {
       "_model_module_version": "^0.12.1",
       "_view_count": null,
       "_view_module": "@jupyter-widgets/base",
       "_view_module_version": "1.2.0",
       "_view_name": "StyleView",
       "cursor": "move"
      }
     },
     "f3f142f4b21f4ada8467f29537624dab": {
      "model_module": "jupyter-leaflet",
      "model_module_version": "^0.12.1",
      "model_name": "LeafletWMSLayerModel",
      "state": {
       "_model_module_version": "^0.12.1",
       "_view_count": null,
       "_view_module_version": "^0.12.1",
       "attribution": "Weather data © 2012 IEM Nexrad",
       "crs": "EPSG3857",
       "format": "image/png",
       "layers": "nexrad-n0r-wmst",
       "loading": false,
       "max_native_zoom": 18,
       "min_native_zoom": 0,
       "no_wrap": false,
       "options": [
        "attribution",
        "detect_retina",
        "format",
        "layers",
        "max_native_zoom",
        "max_zoom",
        "min_native_zoom",
        "min_zoom",
        "no_wrap",
        "styles",
        "tile_size",
        "time",
        "tms",
        "transparent",
        "uppercase"
       ],
       "time": "2005-08-29T13:00",
       "transparent": true,
       "url": "https://mesonet.agron.iastate.edu/cgi-bin/wms/nexrad/n0r-t.cgi?"
      }
     },
     "f4ae894d08be4f55b61346a63b305042": {
      "model_module": "jupyter-leaflet",
      "model_module_version": "^0.12.1",
      "model_name": "LeafletWMSLayerModel",
      "state": {
       "_model_module_version": "^0.12.1",
       "_view_count": null,
       "_view_module_version": "^0.12.1",
       "attribution": "Weather data © 2012 IEM Nexrad",
       "crs": "EPSG3857",
       "format": "image/png",
       "layers": "nexrad-n0r-wmst",
       "loading": false,
       "max_native_zoom": 18,
       "min_native_zoom": 0,
       "no_wrap": false,
       "options": [
        "attribution",
        "detect_retina",
        "format",
        "layers",
        "max_native_zoom",
        "max_zoom",
        "min_native_zoom",
        "min_zoom",
        "no_wrap",
        "styles",
        "tile_size",
        "time",
        "tms",
        "transparent",
        "uppercase"
       ],
       "time": "2005-08-29T19:00",
       "transparent": true,
       "url": "https://mesonet.agron.iastate.edu/cgi-bin/wms/nexrad/n0r-t.cgi?"
      }
     },
     "f4d1612db6d84e53ae64315d8bed2ce4": {
      "model_module": "jupyter-leaflet",
      "model_module_version": "^0.12.1",
      "model_name": "LeafletWMSLayerModel",
      "state": {
       "_model_module_version": "^0.12.1",
       "_view_count": null,
       "_view_module_version": "^0.12.1",
       "attribution": "Weather data © 2012 IEM Nexrad",
       "crs": "EPSG3857",
       "format": "image/png",
       "layers": "nexrad-n0r-wmst",
       "loading": false,
       "max_native_zoom": 18,
       "min_native_zoom": 0,
       "no_wrap": false,
       "options": [
        "attribution",
        "detect_retina",
        "format",
        "layers",
        "max_native_zoom",
        "max_zoom",
        "min_native_zoom",
        "min_zoom",
        "no_wrap",
        "styles",
        "tile_size",
        "time",
        "tms",
        "transparent",
        "uppercase"
       ],
       "time": "2005-08-29T13:00",
       "transparent": true,
       "url": "https://mesonet.agron.iastate.edu/cgi-bin/wms/nexrad/n0r-t.cgi?"
      }
     },
     "f50771e149a44edda1be2d98cf4797d6": {
      "model_module": "@jupyter-widgets/controls",
      "model_module_version": "1.5.0",
      "model_name": "DescriptionStyleModel",
      "state": {
       "description_width": ""
      }
     },
     "f6a870d308e848329e7ba00a7b9d10c7": {
      "model_module": "@jupyter-widgets/controls",
      "model_module_version": "1.5.0",
      "model_name": "SelectionSliderModel",
      "state": {
       "_options_labels": [
        "13:00",
        "13:30",
        "14:00",
        "14:30",
        "15:00",
        "15:30",
        "16:00",
        "16:30"
       ],
       "description": "Time:",
       "index": 0,
       "layout": "IPY_MODEL_b4527f7382ff467db68711bf9bde37b8",
       "style": "IPY_MODEL_8183592169084fb48facca25a20c1e1b"
      }
     },
     "f6b0cce85c3848af8380db484cb42b07": {
      "model_module": "@jupyter-widgets/base",
      "model_module_version": "1.2.0",
      "model_name": "LayoutModel",
      "state": {}
     },
     "f72f6891720b4382819cc831bce6538b": {
      "model_module": "jupyter-leaflet",
      "model_module_version": "^0.12.1",
      "model_name": "LeafletTileLayerModel",
      "state": {
       "_model_module_version": "^0.12.1",
       "_view_count": null,
       "_view_module_version": "^0.12.1",
       "base": true,
       "loading": false,
       "max_native_zoom": 18,
       "max_zoom": 19,
       "min_native_zoom": 0,
       "min_zoom": 1,
       "no_wrap": false,
       "options": [
        "attribution",
        "detect_retina",
        "max_native_zoom",
        "max_zoom",
        "min_native_zoom",
        "min_zoom",
        "no_wrap",
        "tile_size",
        "tms"
       ]
      }
     },
     "f86b11aa1a5e46538e5578870b0f1b76": {
      "model_module": "@jupyter-widgets/controls",
      "model_module_version": "1.5.0",
      "model_name": "HBoxModel",
      "state": {
       "children": [
        "IPY_MODEL_fd00695da33b46b5aaba669a6be00cd0",
        "IPY_MODEL_34193876071f4e3599d569031329ed68"
       ],
       "layout": "IPY_MODEL_f6b0cce85c3848af8380db484cb42b07"
      }
     },
     "f89b9c0a5dc94382aaa6fb22f3084da1": {
      "model_module": "@jupyter-widgets/controls",
      "model_module_version": "1.5.0",
      "model_name": "HBoxModel",
      "state": {
       "children": [
        "IPY_MODEL_2a0f6d89c0844b93a69ef9742d7acb6b",
        "IPY_MODEL_fca68e9a60574c25a1ec7b53fae0f537"
       ],
       "layout": "IPY_MODEL_57d3286dd9b94cda839fe111439a9cf9"
      }
     },
     "f8b6b100d59f42cc91cff3575a87208f": {
      "model_module": "jupyter-leaflet",
      "model_module_version": "~0.9.2",
      "model_name": "LeafletMapModel",
      "state": {
       "_dom_classes": [],
       "_model_module_version": "~0.9.2",
       "_view_count": null,
       "_view_module_version": "~0.9.2",
       "basemap": {
        "attribution": "Map data (c) <a href=\"https://openstreetmap.org\">OpenStreetMap</a> contributors",
        "max_zoom": 19,
        "url": "https://{s}.tile.openstreetmap.org/{z}/{x}/{y}.png"
       },
       "center": [
        48,
        7.9
       ],
       "east": 8.234252929687502,
       "interpolation": "bilinear",
       "layers": [
        "IPY_MODEL_bea1e4aa3ba14ca098f7092bb9145ba9"
       ],
       "layout": "IPY_MODEL_e152ef94272947878eefc239c53c01bd",
       "modisdate": "yesterday",
       "north": 48.18348549519126,
       "options": [
        "attribution_control",
        "basemap",
        "bounce_at_zoom_limits",
        "box_zoom",
        "center",
        "close_popup_on_click",
        "double_click_zoom",
        "dragging",
        "inertia",
        "inertia_deceleration",
        "inertia_max_speed",
        "interpolation",
        "keyboard",
        "keyboard_pan_offset",
        "keyboard_zoom_offset",
        "max_zoom",
        "min_zoom",
        "scroll_wheel_zoom",
        "tap",
        "tap_tolerance",
        "touch_zoom",
        "world_copy_jump",
        "zoom",
        "zoom_animation_threshold",
        "zoom_control",
        "zoom_start"
       ],
       "south": 47.81592114659014,
       "west": 7.565460205078126,
       "zoom": 10
      }
     },
     "f8bfb8d6ea1148d4ac2d721313229189": {
      "model_module": "jupyter-leaflet",
      "model_module_version": "^0.12.1",
      "model_name": "LeafletMapStyleModel",
      "state": {
       "_model_module_version": "^0.12.1",
       "_view_count": null,
       "_view_module": "@jupyter-widgets/base",
       "_view_module_version": "1.2.0",
       "_view_name": "StyleView",
       "cursor": "grab"
      }
     },
     "f9190a74f9ef49a7bd861159ec09d63f": {
      "model_module": "@jupyter-widgets/base",
      "model_module_version": "1.2.0",
      "model_name": "LayoutModel",
      "state": {}
     },
     "f9290509b2d243dca86bc549b4dc1d60": {
      "model_module": "jupyter-leaflet",
      "model_module_version": "~0.9.2",
      "model_name": "LeafletMapModel",
      "state": {
       "_dom_classes": [],
       "_model_module_version": "~0.9.2",
       "_view_count": null,
       "_view_module_version": "~0.9.2",
       "basemap": {
        "attribution": "Tiles courtesy of <a href=\"http://openstreetmap.se/\" target=\"_blank\">OpenStreetMap Sweden</a> &mdash; Map data &copy; <a href=\"http://www.openstreetmap.org/copyright\">OpenStreetMap</a>",
        "max_zoom": 18,
        "name": "Hydda.Full",
        "url": "http://{s}.tile.openstreetmap.se/hydda/full/{z}/{x}/{y}.png"
       },
       "center": [
        57,
        10
       ],
       "east": 12.689208984375002,
       "interpolation": "bilinear",
       "layers": [
        "IPY_MODEL_301f1ce373ec4835b4577f39988c21d9"
       ],
       "layout": "IPY_MODEL_90186a6f3fc944d09282c9f8ee6e8aab",
       "modisdate": "yesterday",
       "north": 57.592447334458846,
       "options": [
        "attribution_control",
        "basemap",
        "bounce_at_zoom_limits",
        "box_zoom",
        "center",
        "close_popup_on_click",
        "double_click_zoom",
        "dragging",
        "inertia",
        "inertia_deceleration",
        "inertia_max_speed",
        "interpolation",
        "keyboard",
        "keyboard_pan_offset",
        "keyboard_zoom_offset",
        "max_zoom",
        "min_zoom",
        "scroll_wheel_zoom",
        "tap",
        "tap_tolerance",
        "touch_zoom",
        "world_copy_jump",
        "zoom",
        "zoom_animation_threshold",
        "zoom_control",
        "zoom_start"
       ],
       "south": 56.39566444471659,
       "west": 7.3114013671875,
       "zoom": 8
      }
     },
     "f9a230e31c424b99a6bb96a608dd5891": {
      "model_module": "jupyter-leaflet",
      "model_module_version": "^0.12.1",
      "model_name": "LeafletZoomControlModel",
      "state": {
       "_model_module_version": "^0.12.1",
       "_view_count": null,
       "_view_module_version": "^0.12.1",
       "options": [
        "position",
        "zoom_in_text",
        "zoom_in_title",
        "zoom_out_text",
        "zoom_out_title"
       ]
      }
     },
     "fb703692d04642bf9edf42645575c65b": {
      "model_module": "jupyter-leaflet",
      "model_module_version": "^0.12.1",
      "model_name": "LeafletWMSLayerModel",
      "state": {
       "_model_module_version": "^0.12.1",
       "_view_count": null,
       "_view_module_version": "^0.12.1",
       "attribution": "Weather data © 2012 IEM Nexrad",
       "crs": "EPSG3857",
       "format": "image/png",
       "layers": "nexrad-n0r-wmst",
       "loading": false,
       "max_native_zoom": 18,
       "min_native_zoom": 0,
       "no_wrap": false,
       "options": [
        "attribution",
        "detect_retina",
        "format",
        "layers",
        "max_native_zoom",
        "max_zoom",
        "min_native_zoom",
        "min_zoom",
        "no_wrap",
        "styles",
        "tile_size",
        "time",
        "tms",
        "transparent",
        "uppercase"
       ],
       "time": "2005-08-29T16:30",
       "transparent": true,
       "url": "https://mesonet.agron.iastate.edu/cgi-bin/wms/nexrad/n0r-t.cgi?"
      }
     },
     "fbcb85263e844af5893f3ef86a5eea1e": {
      "model_module": "jupyter-leaflet",
      "model_module_version": "^0.11.2",
      "model_name": "LeafletTileLayerModel",
      "state": {
       "_model_module_version": "^0.11.2",
       "_view_count": null,
       "_view_module_version": "^0.11.2",
       "attribution": "",
       "max_native_zoom": 18,
       "max_zoom": 19,
       "min_native_zoom": 0,
       "min_zoom": 1,
       "name": "Countries",
       "no_wrap": false,
       "options": [
        "attribution",
        "detect_retina",
        "max_native_zoom",
        "max_zoom",
        "min_native_zoom",
        "min_zoom",
        "no_wrap",
        "tile_size"
       ],
       "url": ""
      }
     },
     "fca68e9a60574c25a1ec7b53fae0f537": {
      "model_module": "jupyter-leaflet",
      "model_module_version": "~0.9.2",
      "model_name": "LeafletMapModel",
      "state": {
       "_dom_classes": [],
       "_model_module_version": "~0.9.2",
       "_view_count": null,
       "_view_module_version": "~0.9.2",
       "basemap": {
        "attribution": "Map data (c) <a href=\"https://openstreetmap.org\">OpenStreetMap</a> contributors",
        "max_zoom": 19,
        "url": "https://{s}.tile.openstreetmap.org/{z}/{x}/{y}.png"
       },
       "center": [
        48.6,
        7.9
       ],
       "east": 8.234252929687502,
       "interpolation": "bilinear",
       "layers": [
        "IPY_MODEL_d5d8b45ec5864e269153c762103ed5a8"
       ],
       "layout": "IPY_MODEL_714f60c8c59a46958d2f572405dba91a",
       "modisdate": "yesterday",
       "north": 48.78153250728974,
       "options": [
        "attribution_control",
        "basemap",
        "bounce_at_zoom_limits",
        "box_zoom",
        "center",
        "close_popup_on_click",
        "double_click_zoom",
        "dragging",
        "inertia",
        "inertia_deceleration",
        "inertia_max_speed",
        "interpolation",
        "keyboard",
        "keyboard_pan_offset",
        "keyboard_zoom_offset",
        "max_zoom",
        "min_zoom",
        "scroll_wheel_zoom",
        "tap",
        "tap_tolerance",
        "touch_zoom",
        "world_copy_jump",
        "zoom",
        "zoom_animation_threshold",
        "zoom_control",
        "zoom_start"
       ],
       "south": 48.41826449418746,
       "west": 7.565460205078126,
       "zoom": 10
      }
     },
     "fd00695da33b46b5aaba669a6be00cd0": {
      "model_module": "jupyter-leaflet",
      "model_module_version": "^0.12.1",
      "model_name": "LeafletMapModel",
      "state": {
       "_dom_classes": [],
       "_model_module_version": "^0.12.1",
       "_view_count": null,
       "_view_module_version": "^0.12.1",
       "center": [
        48,
        8
       ],
       "controls": [
        "IPY_MODEL_95815563991948a3bf133626210dc2a0",
        "IPY_MODEL_3028c288d01d49999c9570568c36d3f5",
        "IPY_MODEL_9cca2a922db74ac2a45d308a30fa19ff"
       ],
       "default_style": "IPY_MODEL_2c9ff9f97cf844569be674ca7ac4e9c9",
       "dragging_style": "IPY_MODEL_46a704f6fe6f4d1986cd072fa2378500",
       "east": 10.634765625,
       "fullscreen": false,
       "interpolation": "bilinear",
       "layers": [
        "IPY_MODEL_5818fb24828c4c3eb89c7f7944b940e7",
        "IPY_MODEL_caa2755fb9e140a28eaacbb2e7171a2d",
        "IPY_MODEL_0fc0381e0de044aead0afa36b2ca2f07"
       ],
       "layout": "IPY_MODEL_755357db9f1a4fe0ba31b5a5b8162f8a",
       "modisdate": "yesterday",
       "north": 48.73083222613518,
       "options": [
        "bounce_at_zoom_limits",
        "box_zoom",
        "center",
        "close_popup_on_click",
        "double_click_zoom",
        "dragging",
        "fullscreen",
        "inertia",
        "inertia_deceleration",
        "inertia_max_speed",
        "interpolation",
        "keyboard",
        "keyboard_pan_offset",
        "keyboard_zoom_offset",
        "max_zoom",
        "min_zoom",
        "scroll_wheel_zoom",
        "tap",
        "tap_tolerance",
        "touch_zoom",
        "world_copy_jump",
        "zoom",
        "zoom_animation_threshold",
        "zoom_start"
       ],
       "south": 47.260592193424706,
       "style": "IPY_MODEL_2c9ff9f97cf844569be674ca7ac4e9c9",
       "west": 5.366821289062501,
       "zoom": 8
      }
     },
     "fdc38783e566411bbbe07e13a32c7e8c": {
      "model_module": "jupyter-leaflet",
      "model_module_version": "~0.9.2",
      "model_name": "LeafletTileLayerModel",
      "state": {
       "_model_module_version": "~0.9.2",
       "_view_count": null,
       "_view_module_version": "~0.9.2",
       "base": true,
       "max_zoom": 19,
       "min_zoom": 1,
       "options": [
        "attribution",
        "detect_retina",
        "max_zoom",
        "min_zoom",
        "tile_size"
       ]
      }
     },
     "fdc911db592b4d32915c957c0f90038f": {
      "model_module": "@jupyter-widgets/controls",
      "model_module_version": "1.5.0",
      "model_name": "SelectionSliderModel",
      "state": {
       "_options_labels": [
        "13:00",
        "13:30",
        "14:00",
        "14:30",
        "15:00",
        "15:30",
        "16:00",
        "16:30"
       ],
       "description": "Time:",
       "index": 0,
       "layout": "IPY_MODEL_cd3c490fd5754e5f94a90e191c623299",
       "style": "IPY_MODEL_1061e6858b984224b77c34b6df068ecb"
      }
     },
     "fdea4546896c49fab609fd124b3d9892": {
      "model_module": "@jupyter-widgets/controls",
      "model_module_version": "1.5.0",
      "model_name": "LabelModel",
      "state": {
       "layout": "IPY_MODEL_1d5edb80c76442f2ba00857adb528dc4",
       "style": "IPY_MODEL_d0de0363f20e4f35963b89be40e78ff7",
       "value": "[48.022294135624044, 7.5258587656400575]"
      }
     },
     "ff403c6cdc2e47cc86c7659d7d6120e1": {
      "model_module": "jupyter-leaflet",
      "model_module_version": "^0.11.2",
      "model_name": "LeafletTileLayerModel",
      "state": {
       "_model_module_version": "^0.11.2",
       "_view_count": null,
       "_view_module_version": "^0.11.2",
       "attribution": "Tiles courtesy of <a href=\"http://openstreetmap.se/\" target=\"_blank\">OpenStreetMap Sweden</a> &mdash; Map data &copy; <a href=\"http://www.openstreetmap.org/copyright\">OpenStreetMap</a>",
       "base": true,
       "max_native_zoom": 18,
       "min_native_zoom": 0,
       "min_zoom": 1,
       "name": "Hydda.Full",
       "no_wrap": false,
       "options": [
        "attribution",
        "detect_retina",
        "max_native_zoom",
        "max_zoom",
        "min_native_zoom",
        "min_zoom",
        "no_wrap",
        "tile_size"
       ],
       "url": "http://{s}.tile.openstreetmap.se/hydda/full/{z}/{x}/{y}.png"
      }
     },
     "ffeadde18dd74ffd8f08aeabf592c39f": {
      "model_module": "jupyter-leaflet",
      "model_module_version": "^0.11.2",
      "model_name": "LeafletTileLayerModel",
      "state": {
       "_model_module_version": "^0.11.2",
       "_view_count": null,
       "_view_module_version": "^0.11.2",
       "base": true,
       "max_native_zoom": 18,
       "max_zoom": 19,
       "min_native_zoom": 0,
       "min_zoom": 1,
       "no_wrap": false,
       "options": [
        "attribution",
        "detect_retina",
        "max_native_zoom",
        "max_zoom",
        "min_native_zoom",
        "min_zoom",
        "no_wrap",
        "tile_size"
       ]
      }
     }
    },
    "version_major": 2,
    "version_minor": 0
   }
  }
 },
 "nbformat": 4,
 "nbformat_minor": 2
}
