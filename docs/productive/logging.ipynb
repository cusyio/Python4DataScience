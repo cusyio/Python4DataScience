{
 "cells": [
  {
   "cell_type": "markdown",
   "metadata": {},
   "source": [
    "# Loggen\n",
    "\n",
    "Das [logging](https://docs.python.org/3/library/logging.html#module-logging)-Modul ist Teil der Python-Standardbibliothek. Es ist beschrieben in [PEP 0282](https://www.python.org/dev/peps/pep-0282). Eine erste Einführung in das Modul erhaltet ihr in [Basic Logging Tutorial](https://docs.python.org/3/howto/logging.html#logging-basic-tutorial).\n",
    "\n",
    "Alternativ könnt ihr auch [loguru](https://github.com/Delgan/loguru) verwenden, das Logging fast so einfach wie `print`-Anweisungen macht.\n",
    "\n",
    "Logging erfüllt üblicherweise zwei verschiedene Zwecke:\n",
    "\n",
    "**Diagnose:**\n",
    "\n",
    "* Ihr könnt euch den Kontext von bestimmten Ereignissen anzeigen lassen.\n",
    "* Tools wie [Sentry](https://sentry.io/) gruppieren zusammengehörende Ereignisse und erleichtern die Benutzeridentifikation etc., sodass Entwickler die Fehlerursache schneller finden können.\n",
    "\n",
    "**Monitoring:** \n",
    "\n",
    "* Das Logging zeichnet Ereignisse für benutzerdefinierten Heuristiken auf, z.B. für Geschäftsanalysen. Diese Aufzeichnungen können für Berichte oder Optimierungen der Geschäftsziele verwendet und ggf. visualisiert werden.\n",
    "\n",
    "Welche Vorteile bietet `logging` nun gegenüber `print`?\n",
    "\n",
    "* Die Logdatei enthält alle verfügbaren Diagnoseinformationen wie Dateiname, Pfad, Funktion und Zeilennummer\n",
    "* Alle Ereignisse sind über den Root-Logger automatisch verfügbar, sofern Sie sie nicht explizit herausgefiltert werden.\n",
    "* Logging kann wahlweise durch eine der folgenden beiden Methoden stummgeschaltet werden: [logging.Logger.setLevel()](https://docs.python.org/3/library/logging.html#logging.Logger.setLevel) oder [logging.disabled](https://docs.python.org/3/library/logging.html#logging.disable)."
   ]
  },
  {
   "cell_type": "code",
   "execution_count": 1,
   "metadata": {},
   "outputs": [],
   "source": [
    "import logging"
   ]
  },
  {
   "cell_type": "markdown",
   "metadata": {},
   "source": [
    "## Beispielkonfiguration über eine INI-Datei\n",
    "\n",
    "Im folgenden Beispiel wird die Datei `development.ini` in diesem Verzeichnis geladen:\n",
    "\n",
    "```ini\n",
    "[loggers]\n",
    "keys=root\n",
    "\n",
    "[handlers]\n",
    "keys=stream_handler\n",
    "\n",
    "[formatters]\n",
    "keys=formatter\n",
    "\n",
    "[logger_root]\n",
    "level=DEBUG\n",
    "handlers=stream_handler\n",
    "\n",
    "[handler_stream_handler]\n",
    "class=StreamHandler\n",
    "level=DEBUG\n",
    "formatter=formatter\n",
    "args=(sys.stderr,)\n",
    "\n",
    "[formatter_formatter]\n",
    "format=%(asctime)s %(name)-12s %(levelname)-8s %(message)s\n",
    "```"
   ]
  },
  {
   "cell_type": "code",
   "execution_count": 2,
   "metadata": {},
   "outputs": [],
   "source": [
    "from logging.config import fileConfig"
   ]
  },
  {
   "cell_type": "code",
   "execution_count": 3,
   "metadata": {},
   "outputs": [
    {
     "name": "stderr",
     "output_type": "stream",
     "text": [
      "2019-10-21 16:25:30,681 tcpserver    WARNING  Protocol problem: connection reset\n"
     ]
    }
   ],
   "source": [
    "fileConfig('development.ini')\n",
    "d = {'clientip': '192.168.0.1', 'user': 'fbloggs'}\n",
    "logger = logging.getLogger('tcpserver')\n",
    "logger.warning('Protocol problem: %s', 'connection reset', extra=d)"
   ]
  },
  {
   "cell_type": "markdown",
   "metadata": {},
   "source": [
    "**Pro:**\n",
    "\n",
    "* Möglichkeit, die Konfiguration während des Betriebs zu aktualisieren, indem die Funktion `logging.config.listen()` verwendet wird um an einem Socket zu lauschen.\n",
    "* In verschiedenen Umgebungen können unterschiedliche Konfigurationen verwendet werden, also z.B. kann in der `development.ini` `DEBUG` als Log-Level angegeben werden, während in der `production.ini` `WARN` verwendet wird.\n",
    "\n",
    "**Con:**\n",
    "\n",
    "* Weniger Kontrolle z.B. gegenüber benutzerdefinierten Filtern oder Logger, die im Code konfiguriert sind."
   ]
  },
  {
   "cell_type": "markdown",
   "metadata": {},
   "source": [
    "## Beispielkonfiguration über ein Dictionary"
   ]
  },
  {
   "cell_type": "code",
   "execution_count": 4,
   "metadata": {},
   "outputs": [],
   "source": [
    "import logging\n",
    "from logging.config import dictConfig\n",
    "\n",
    "logging_config = dict(\n",
    "    version = 1,\n",
    "    formatters = {\n",
    "        'f': {'format':\n",
    "              '%(asctime)s %(name)-12s %(levelname)-8s %(message)s'}\n",
    "        },\n",
    "    handlers = {\n",
    "        'h': {'class': 'logging.StreamHandler',\n",
    "              'formatter': 'f',\n",
    "              'level': logging.DEBUG}\n",
    "        },\n",
    "    root = {\n",
    "        'handlers': ['h'],\n",
    "        'level': logging.DEBUG,\n",
    "        },\n",
    ")\n",
    "\n",
    "dictConfig(logging_config)"
   ]
  },
  {
   "cell_type": "markdown",
   "metadata": {},
   "source": [
    "**Pro:**\n",
    "\n",
    "* Aktualisieren während des Betriebs\n",
    "\n",
    "**Con:**\n",
    "\n",
    "* Weniger Kontrolle als beim Konfigurieren eines Loggers im Code"
   ]
  },
  {
   "cell_type": "markdown",
   "metadata": {},
   "source": [
    "## Beispielkonfiguration direkt im Code"
   ]
  },
  {
   "cell_type": "code",
   "execution_count": 5,
   "metadata": {},
   "outputs": [],
   "source": [
    "logger = logging.getLogger()\n",
    "handler = logging.StreamHandler()\n",
    "formatter = logging.Formatter(\n",
    "        '%(asctime)s %(name)-12s %(levelname)-8s %(message)s')\n",
    "handler.setFormatter(formatter)\n",
    "logger.addHandler(handler)\n",
    "logger.setLevel(logging.DEBUG)"
   ]
  },
  {
   "cell_type": "markdown",
   "metadata": {},
   "source": [
    "Alternativ könnt ihr auch *Magic Commands* verwenden:\n",
    "\n",
    "| Befehl         | Beschreibung                                                                              |\n",
    "| -------------- | ----------------------------------------------------------------------------------------- |\n",
    "| `%logstart`    | Startet das Logging irgendwo in einer Session                                             |\n",
    "|                | `%logstart [-o\\|-r\\|-t\\|-q] [log_name [log_mode]]`                                        |\n",
    "|                | Wenn kein Name angegeben wird, wird `ipython_log.py` im aktuellen Verzeichnis verwendet.  |\n",
    "|                | `log_mode` ist ein optionaler Parameter. Folgende Modi können angegeben werden:           |\n",
    "|                | * `append` hängt die Logging-Informationen am Ende einer vorhandenen Datei an             |\n",
    "|                | * `backup` benennt die vorhandene Datei um in `name~` und schreibt in `name`              |\n",
    "|                | * `global` hängt die Logging-Informationen am Ende einer vorhandenen Datei im             |\n",
    "|                | * `over` überschreibt eine existierende Log-Datei                                         |\n",
    "|                | * `rotate` erstellt rotierende Log-Dateien: `name.1~`, `name.2~`, etc.                    |\n",
    "|                | Optionen:                                                                                 |\n",
    "|                | * `-o` logt auch den Output von IPython                                                   |\n",
    "|                | * `-r` logt *raw* Output                                                                  |\n",
    "|                | * `-t` schreibt einen Zeitstempel vor jeden Logeintrag                                    |\n",
    "|                | * `-q` unterdrückt die Logging-Ausgabe                                                    |\n",
    "| `%logon`       | Neustart des Logging                                                                      |\n",
    "| `%logoff`      | Temporäres Beenden des Logging                                                            |\n",
    "\n",
    "**Pro:**\n",
    "\n",
    "* Vollständige Kontrolle über die Konfiguration\n",
    "\n",
    "**Con:**\n",
    "\n",
    "* Änderungen in der Konfiguration erfordern eine Änderung des Quellcodes"
   ]
  },
  {
   "cell_type": "markdown",
   "metadata": {},
   "source": [
    "> **Siehe auch:**\n",
    "> \n",
    "> * [logging configuration](https://docs.python.org/3/howto/logging.html#configuring-logging)\n"
   ]
  }
 ],
 "metadata": {
  "kernelspec": {
   "display_name": "Python 3.7.4",
   "language": "python",
   "name": "python-374"
  },
  "language_info": {
   "codemirror_mode": {
    "name": "ipython",
    "version": 3
   },
   "file_extension": ".py",
   "mimetype": "text/x-python",
   "name": "python",
   "nbconvert_exporter": "python",
   "pygments_lexer": "ipython3",
   "version": "3.7.4"
  },
  "latex_envs": {
   "LaTeX_envs_menu_present": true,
   "autoclose": false,
   "autocomplete": true,
   "bibliofile": "biblio.bib",
   "cite_by": "apalike",
   "current_citInitial": 1,
   "eqLabelWithNumbers": true,
   "eqNumInitial": 1,
   "hotkeys": {
    "equation": "Ctrl-E",
    "itemize": "Ctrl-I"
   },
   "labels_anchors": false,
   "latex_user_defs": false,
   "report_style_numbering": false,
   "user_envs_cfg": false
  },
  "varInspector": {
   "cols": {
    "lenName": 16,
    "lenType": 16,
    "lenVar": 40
   },
   "kernels_config": {
    "python": {
     "delete_cmd_postfix": "",
     "delete_cmd_prefix": "del ",
     "library": "var_list.py",
     "varRefreshCmd": "print(var_dic_list())"
    },
    "r": {
     "delete_cmd_postfix": ") ",
     "delete_cmd_prefix": "rm(",
     "library": "var_list.r",
     "varRefreshCmd": "cat(var_dic_list()) "
    }
   },
   "types_to_exclude": [
    "module",
    "function",
    "builtin_function_or_method",
    "instance",
    "_Feature"
   ],
   "window_display": false
  },
  "widgets": {
   "application/vnd.jupyter.widget-state+json": {
    "state": {},
    "version_major": 2,
    "version_minor": 0
   }
  }
 },
 "nbformat": 4,
 "nbformat_minor": 2
}
