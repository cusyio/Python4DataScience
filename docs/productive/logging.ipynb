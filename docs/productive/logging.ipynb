{
 "cells": [
  {
   "cell_type": "markdown",
   "metadata": {},
   "source": [
    "# Logging\n",
    "\n",
    "The [logging](https://docs.python.org/3/library/logging.html#module-logging) module is part of the Python standard library. It is described in [PEP 0282](https://www.python.org/dev/peps/pep-0282). You can get a first introduction to the module in the [Basic Logging Tutorial](https://docs.python.org/3/howto/logging.html#logging-basic-tutorial).\n",
    "\n",
    "Alternatively, you can also use [loguru](https://github.com/Delgan/loguru), which makes logging almost as easy as using `print` instructions.\n",
    "\n",
    "Logging usually serves two different purposes:\n",
    "\n",
    "**Diagnosis:**\n",
    "\n",
    "* You can display the context of certain events.\n",
    "* Tools like [Sentry](https://sentry.io/) group related events and facilitate user identification, etc., so that developers can find the cause of the error more quickly.\n",
    "\n",
    "**Monitoring:** \n",
    "\n",
    "* The logging records events for user-defined heuristics, e.g. for business analyses. These records can be used for reports or optimisation of the business goals and, if necessary, visualised.\n",
    "\n",
    "What are the advantages of `logging` over `print`?\n",
    "\n",
    "* The log file contains all available diagnostic information such as file name, path, function and line number.\n",
    "* All events are automatically available via the root logger unless they are explicitly filtered out.\n",
    "* Logging can be muted using either of the following two methods: [logging.Logger.setLevel()](https://docs.python.org/3/library/logging.html#logging.Logger.setLevel) or [logging.disabled](https://docs.python.org/3/library/logging.html#logging.disable)."
   ]
  },
  {
   "cell_type": "code",
   "execution_count": 1,
   "metadata": {},
   "outputs": [],
   "source": [
    "import logging"
   ]
  },
  {
   "cell_type": "markdown",
   "metadata": {},
   "source": [
    "## Example configuration via an INI file\n",
    "\n",
    "The following example loads the file `development.ini` in this directory:\n",
    "\n",
    "```ini\n",
    "[loggers]\n",
    "keys=root\n",
    "\n",
    "[handlers]\n",
    "keys=stream_handler\n",
    "\n",
    "[formatters]\n",
    "keys=formatter\n",
    "\n",
    "[logger_root]\n",
    "level=DEBUG\n",
    "handlers=stream_handler\n",
    "\n",
    "[handler_stream_handler]\n",
    "class=StreamHandler\n",
    "level=DEBUG\n",
    "formatter=formatter\n",
    "args=(sys.stderr,)\n",
    "\n",
    "[formatter_formatter]\n",
    "format=%(asctime)s %(name)-12s %(levelname)-8s %(message)s\n",
    "```"
   ]
  },
  {
   "cell_type": "code",
   "execution_count": 2,
   "metadata": {},
   "outputs": [],
   "source": [
    "from logging.config import fileConfig"
   ]
  },
  {
   "cell_type": "code",
   "execution_count": 3,
   "metadata": {},
   "outputs": [
    {
     "name": "stderr",
     "output_type": "stream",
     "text": [
      "2019-10-21 16:25:30,681 tcpserver    WARNING  Protocol problem: connection reset\n"
     ]
    }
   ],
   "source": [
    "fileConfig('development.ini')\n",
    "d = {'clientip': '192.168.0.1', 'user': 'fbloggs'}\n",
    "logger = logging.getLogger('tcpserver')\n",
    "logger.warning('Protocol problem: %s', 'connection reset', extra=d)"
   ]
  },
  {
   "cell_type": "markdown",
   "metadata": {},
   "source": [
    "**Pro:**\n",
    "\n",
    "* Possibility to update the configuration on the fly by using the function `logging.config.listen()` to listen on a socket.\n",
    "* Different configurations can be used in different environments, for example in `development.ini` the log level can be specified as `DEBUG` while the log level in `production.ini` used `WARN`.\n",
    "\n",
    "**Con:**\n",
    "\n",
    "* Less control, for example, compared to user-defined filters or loggers that are configured in the code."
   ]
  },
  {
   "cell_type": "markdown",
   "metadata": {},
   "source": [
    "## Example for a configuration via a dictionary"
   ]
  },
  {
   "cell_type": "code",
   "execution_count": 4,
   "metadata": {},
   "outputs": [],
   "source": [
    "import logging\n",
    "from logging.config import dictConfig\n",
    "\n",
    "logging_config = dict(\n",
    "    version = 1,\n",
    "    formatters = {\n",
    "        'f': {'format':\n",
    "              '%(asctime)s %(name)-12s %(levelname)-8s %(message)s'}\n",
    "        },\n",
    "    handlers = {\n",
    "        'h': {'class': 'logging.StreamHandler',\n",
    "              'formatter': 'f',\n",
    "              'level': logging.DEBUG}\n",
    "        },\n",
    "    root = {\n",
    "        'handlers': ['h'],\n",
    "        'level': logging.DEBUG,\n",
    "        },\n",
    ")\n",
    "\n",
    "dictConfig(logging_config)"
   ]
  },
  {
   "cell_type": "markdown",
   "metadata": {},
   "source": [
    "**Pro:**\n",
    "\n",
    "* Update during operation\n",
    "\n",
    "**Con:**\n",
    "\n",
    "* Less control than when configuring a logger in code"
   ]
  },
  {
   "cell_type": "markdown",
   "metadata": {},
   "source": [
    "## Example configuration directly in the code"
   ]
  },
  {
   "cell_type": "code",
   "execution_count": 5,
   "metadata": {},
   "outputs": [],
   "source": [
    "logger = logging.getLogger()\n",
    "handler = logging.StreamHandler()\n",
    "formatter = logging.Formatter(\n",
    "        '%(asctime)s %(name)-12s %(levelname)-8s %(message)s')\n",
    "handler.setFormatter(formatter)\n",
    "logger.addHandler(handler)\n",
    "logger.setLevel(logging.DEBUG)"
   ]
  },
  {
   "cell_type": "markdown",
   "metadata": {},
   "source": [
    "Alternatively, you can also use *Magic Commands*:\n",
    "\n",
    "| Befehl         | Beschreibung                                                                              |\n",
    "| -------------- | ----------------------------------------------------------------------------------------- |\n",
    "| `%logstart`    | Starts logging anywhere in a session                                                      |\n",
    "|                | `%logstart [-o\\|-r\\|-t\\|-q] [log_name [log_mode]]`                                        |\n",
    "|                | If no name is given, `ipython_log.py` is used in the current directory.                   |\n",
    "|                | `log_mode` is an optional parameter. The following modes can be specified:                |\n",
    "|                | – `append` appends the logging information to the end of an existing file                 |\n",
    "|                | – `backup` renames the existing file to `name~` and writes to `name`                      |\n",
    "|                | – `global` appends the logging information at the end of an existing file                 |\n",
    "|                | – `over` overwrites an existing log file                                                  |\n",
    "|                | – `rotate` creates rotating log files: `name.1~`, `name.2~`, etc.                         |\n",
    "|                | Options:                                                                                  |\n",
    "|                | – `-o` also logs the output of IPython                                                    |\n",
    "|                | – `-r` logs raw output                                                                    |\n",
    "|                | – `-t` writes a time stamp in front of each log entry                                     |\n",
    "|                | – `-q` suppresses the logging output                                                      |\n",
    "| `%logon`       | Restart the logging                                                                       |\n",
    "| `%logoff`      | Temporary termination of logging                                                          |\n",
    "\n",
    "**Pro:**\n",
    "\n",
    "* Complete control over the configuration\n",
    "\n",
    "**Con:**\n",
    "\n",
    "* Changes in the configuration require a change in the source code"
   ]
  },
  {
   "cell_type": "markdown",
   "metadata": {},
   "source": [
    "> **See also:**\n",
    "> \n",
    "> * [logging configuration](https://docs.python.org/3/howto/logging.html#configuring-logging)\n"
   ]
  }
 ],
 "metadata": {
  "kernelspec": {
   "display_name": "Python 3.7.4",
   "language": "python",
   "name": "python-374"
  },
  "language_info": {
   "codemirror_mode": {
    "name": "ipython",
    "version": 3
   },
   "file_extension": ".py",
   "mimetype": "text/x-python",
   "name": "python",
   "nbconvert_exporter": "python",
   "pygments_lexer": "ipython3",
   "version": "3.7.4"
  },
  "latex_envs": {
   "LaTeX_envs_menu_present": true,
   "autoclose": false,
   "autocomplete": true,
   "bibliofile": "biblio.bib",
   "cite_by": "apalike",
   "current_citInitial": 1,
   "eqLabelWithNumbers": true,
   "eqNumInitial": 1,
   "hotkeys": {
    "equation": "Ctrl-E",
    "itemize": "Ctrl-I"
   },
   "labels_anchors": false,
   "latex_user_defs": false,
   "report_style_numbering": false,
   "user_envs_cfg": false
  },
  "varInspector": {
   "cols": {
    "lenName": 16,
    "lenType": 16,
    "lenVar": 40
   },
   "kernels_config": {
    "python": {
     "delete_cmd_postfix": "",
     "delete_cmd_prefix": "del ",
     "library": "var_list.py",
     "varRefreshCmd": "print(var_dic_list())"
    },
    "r": {
     "delete_cmd_postfix": ") ",
     "delete_cmd_prefix": "rm(",
     "library": "var_list.r",
     "varRefreshCmd": "cat(var_dic_list()) "
    }
   },
   "types_to_exclude": [
    "module",
    "function",
    "builtin_function_or_method",
    "instance",
    "_Feature"
   ],
   "window_display": false
  },
  "widgets": {
   "application/vnd.jupyter.widget-state+json": {
    "state": {},
    "version_major": 2,
    "version_minor": 0
   }
  }
 },
 "nbformat": 4,
 "nbformat_minor": 2
}
