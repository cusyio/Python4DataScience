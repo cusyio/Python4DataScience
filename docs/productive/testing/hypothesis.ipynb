{
 "cells": [
  {
   "cell_type": "markdown",
   "id": "995ec942",
   "metadata": {},
   "source": [
    "# Hypothesis\n",
    "\n",
    "[Hypothesis](https://hypothesis.readthedocs.io/) is a library that allows you to write tests that are parameterised from a source of examples. Then simple and comprehensible examples are generated, which can be used to fail your tests and to find errors with little effort."
   ]
  },
  {
   "cell_type": "markdown",
   "id": "ff87e099",
   "metadata": {},
   "source": [
    "## Example\n",
    "\n",
    "To test lists with floating point numbers, many examples are tried, but only a simple example is given in the report for each bug (unique exception type and position):"
   ]
  },
  {
   "cell_type": "code",
   "execution_count": 1,
   "id": "d897c0b9",
   "metadata": {},
   "outputs": [],
   "source": [
    "from hypothesis import given\n",
    "from hypothesis.strategies import lists, floats"
   ]
  },
  {
   "cell_type": "code",
   "execution_count": 2,
   "id": "1a1f22e3",
   "metadata": {},
   "outputs": [],
   "source": [
    "# Add ipython magics\n",
    "import ipytest\n",
    "import pytest\n",
    "\n",
    "ipytest.autoconfig()"
   ]
  },
  {
   "cell_type": "code",
   "execution_count": 3,
   "id": "eef3a5c2",
   "metadata": {},
   "outputs": [
    {
     "name": "stdout",
     "output_type": "stream",
     "text": [
      "\u001b[31mF\u001b[0m\u001b[31m                                                                                            [100%]\u001b[0m\n",
      "============================================= FAILURES =============================================\n",
      "\u001b[31m\u001b[1m____________________________________________ test_mean _____________________________________________\u001b[0m\n",
      "\n",
      "    \u001b[37m@given\u001b[39;49;00m(lists(floats(allow_nan=\u001b[94mFalse\u001b[39;49;00m, allow_infinity=\u001b[94mFalse\u001b[39;49;00m), min_size=\u001b[94m1\u001b[39;49;00m))\n",
      ">   \u001b[94mdef\u001b[39;49;00m \u001b[92mtest_mean\u001b[39;49;00m(ls):\n",
      "\n",
      "\u001b[1m\u001b[31m/var/folders/f8/0034db6d78s5r6m34fxhpk7m0000gp/T/ipykernel_12395/1742712940.py\u001b[0m:2: \n",
      "_ _ _ _ _ _ _ _ _ _ _ _ _ _ _ _ _ _ _ _ _ _ _ _ _ _ _ _ _ _ _ _ _ _ _ _ _ _ _ _ _ _ _ _ _ _ _ _ _ _ \n",
      "\n",
      "ls = [1.0705975999293683e+307, 1.7976931013776717e+308]\n",
      "\n",
      "    \u001b[37m@given\u001b[39;49;00m(lists(floats(allow_nan=\u001b[94mFalse\u001b[39;49;00m, allow_infinity=\u001b[94mFalse\u001b[39;49;00m), min_size=\u001b[94m1\u001b[39;49;00m))\n",
      "    \u001b[94mdef\u001b[39;49;00m \u001b[92mtest_mean\u001b[39;49;00m(ls):\n",
      "        mean = \u001b[96msum\u001b[39;49;00m(ls) / \u001b[96mlen\u001b[39;49;00m(ls)\n",
      ">       \u001b[94massert\u001b[39;49;00m \u001b[96mmin\u001b[39;49;00m(ls) <= mean <= \u001b[96mmax\u001b[39;49;00m(ls)\n",
      "\u001b[1m\u001b[31mE       assert inf <= 1.7976931013776717e+308\u001b[0m\n",
      "\u001b[1m\u001b[31mE        +  where 1.7976931013776717e+308 = max([1.0705975999293683e+307, 1.7976931013776717e+308])\u001b[0m\n",
      "\n",
      "\u001b[1m\u001b[31m/var/folders/f8/0034db6d78s5r6m34fxhpk7m0000gp/T/ipykernel_12395/1742712940.py\u001b[0m:4: AssertionError\n",
      "-------------------------------------------- Hypothesis --------------------------------------------\n",
      "Falsifying example: test_mean(\n",
      "    ls=[1.0705975999293683e+307, 1.7976931013776717e+308],\n",
      ")\n",
      "\u001b[33m========================================= warnings summary =========================================\u001b[0m\n",
      "../../../.local/share/virtualenvs/jupyter-tutorial-G-MBNaSt/lib/python3.7/site-packages/_pytest/config/__init__.py:1114\n",
      "  /Users/veit/.local/share/virtualenvs/jupyter-tutorial-G-MBNaSt/lib/python3.7/site-packages/_pytest/config/__init__.py:1114: PytestAssertRewriteWarning: Module already imported so cannot be rewritten: hypothesis\n",
      "    self._mark_plugins_for_rewrite(hook)\n",
      "\n",
      "-- Docs: https://docs.pytest.org/en/stable/warnings.html\n",
      "===================================== short test summary info ======================================\n",
      "FAILED tmpu8nbuxfq.py::test_mean - assert inf <= 1.7976931013776717e+308\n",
      "\u001b[31m\u001b[31m\u001b[1m1 failed\u001b[0m, \u001b[33m1 warning\u001b[0m\u001b[31m in 11.25s\u001b[0m\u001b[0m\n"
     ]
    }
   ],
   "source": [
    "%%ipytest\n",
    "\n",
    "@given(lists(floats(allow_nan=False, allow_infinity=False), min_size=1))\n",
    "def test_mean(ls):\n",
    "    mean = sum(ls) / len(ls)\n",
    "    assert min(ls) <= mean <= max(ls)"
   ]
  },
  {
   "cell_type": "markdown",
   "id": "967345d5",
   "metadata": {},
   "source": [
    "## Installation\n",
    "\n",
    "``` bash\n",
    "$ pipenv install hypothesis\n",
    "```\n",
    "\n",
    "Alternatively, Hypothesis can also be installed with [extras](https://hypothesis.readthedocs.io/en/latest/extras.html), e.g.\n",
    "\n",
    "``` bash\n",
    "$ pipenv install hypothesis[numpy,pandas]\n",
    "```"
   ]
  },
  {
   "cell_type": "markdown",
   "id": "780e872a",
   "metadata": {},
   "source": [
    "> **Note:**\n",
    "> \n",
    "> If you haven’t installed pipenv yet, you can find instructions on how to do this in Install [Jupyter Notebook](../../first-steps/install).\n",
    "\n",
    "> **See also:**\n",
    "> \n",
    "> [Hypothesis for the Scientific Stack](https://hypothesis.readthedocs.io/en/latest/numpy.html)"
   ]
  }
 ],
 "metadata": {
  "kernelspec": {
   "display_name": "Python 3.7.4",
   "language": "python",
   "name": "python-374"
  },
  "language_info": {
   "codemirror_mode": {
    "name": "ipython",
    "version": 3
   },
   "file_extension": ".py",
   "mimetype": "text/x-python",
   "name": "python",
   "nbconvert_exporter": "python",
   "pygments_lexer": "ipython3",
   "version": "3.7.4"
  },
  "latex_envs": {
   "LaTeX_envs_menu_present": true,
   "autoclose": false,
   "autocomplete": true,
   "bibliofile": "biblio.bib",
   "cite_by": "apalike",
   "current_citInitial": 1,
   "eqLabelWithNumbers": true,
   "eqNumInitial": 1,
   "hotkeys": {
    "equation": "Ctrl-E",
    "itemize": "Ctrl-I"
   },
   "labels_anchors": false,
   "latex_user_defs": false,
   "report_style_numbering": false,
   "user_envs_cfg": false
  }
 },
 "nbformat": 4,
 "nbformat_minor": 5
}
