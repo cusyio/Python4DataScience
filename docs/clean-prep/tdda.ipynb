{
 "cells": [
  {
   "cell_type": "markdown",
   "metadata": {},
   "source": [
    "# TDDA: Test-Driven Data Analysis\n",
    "\n",
    "In diesem Notebook werden wir eine Python-Bibliothek [TDDA](https://github.com/tdda/tdda) genauer anschauen, die Dateneingaben (wie NumPy-Arrays oder Pandas DataFrames) verwendet und eine Reihe von _Constraints_ um diese herum erstellt. Ihr könnt dann Eure _Constraints_ speichern (JSON-Ausgabe) und neue Daten anhand der beobachteten _Constraints_ testen."
   ]
  },
  {
   "cell_type": "markdown",
   "metadata": {},
   "source": [
    "## 1. Importe"
   ]
  },
  {
   "cell_type": "code",
   "execution_count": 1,
   "metadata": {},
   "outputs": [],
   "source": [
    "import pandas as pd\n",
    "import numpy as np\n",
    "from tdda.constraints.pdconstraints import discover_constraints, \\\n",
    "    verify_df"
   ]
  },
  {
   "cell_type": "code",
   "execution_count": 2,
   "metadata": {},
   "outputs": [],
   "source": [
    "df = pd.read_csv('https://raw.githubusercontent.com/kjam/data-cleaning-101/master/data/iot_example.csv')"
   ]
  },
  {
   "cell_type": "markdown",
   "metadata": {},
   "source": [
    "## 2. Daten überprüfen"
   ]
  },
  {
   "cell_type": "code",
   "execution_count": 3,
   "metadata": {},
   "outputs": [
    {
     "data": {
      "text/html": [
       "<div>\n",
       "<style scoped>\n",
       "    .dataframe tbody tr th:only-of-type {\n",
       "        vertical-align: middle;\n",
       "    }\n",
       "\n",
       "    .dataframe tbody tr th {\n",
       "        vertical-align: top;\n",
       "    }\n",
       "\n",
       "    .dataframe thead th {\n",
       "        text-align: right;\n",
       "    }\n",
       "</style>\n",
       "<table border=\"1\" class=\"dataframe\">\n",
       "  <thead>\n",
       "    <tr style=\"text-align: right;\">\n",
       "      <th></th>\n",
       "      <th>timestamp</th>\n",
       "      <th>username</th>\n",
       "      <th>temperature</th>\n",
       "      <th>heartrate</th>\n",
       "      <th>build</th>\n",
       "      <th>latest</th>\n",
       "      <th>note</th>\n",
       "    </tr>\n",
       "  </thead>\n",
       "  <tbody>\n",
       "    <tr>\n",
       "      <th>39897</th>\n",
       "      <td>2017-01-17T10:34:58</td>\n",
       "      <td>starknicholas</td>\n",
       "      <td>9</td>\n",
       "      <td>63</td>\n",
       "      <td>8aa3d627-c9b4-b57e-bb32-012b7ad30033</td>\n",
       "      <td>1</td>\n",
       "      <td>sleep</td>\n",
       "    </tr>\n",
       "    <tr>\n",
       "      <th>56184</th>\n",
       "      <td>2017-01-23T22:48:32</td>\n",
       "      <td>hendersonsteven</td>\n",
       "      <td>11</td>\n",
       "      <td>70</td>\n",
       "      <td>1feb8055-fbe9-88dc-ddea-01d35aadc6f3</td>\n",
       "      <td>0</td>\n",
       "      <td>user</td>\n",
       "    </tr>\n",
       "    <tr>\n",
       "      <th>79080</th>\n",
       "      <td>2017-02-02T03:07:30</td>\n",
       "      <td>wardtimothy</td>\n",
       "      <td>7</td>\n",
       "      <td>79</td>\n",
       "      <td>787bcdfb-4a56-d377-a6ee-c534ad477814</td>\n",
       "      <td>1</td>\n",
       "      <td>NaN</td>\n",
       "    </tr>\n",
       "    <tr>\n",
       "      <th>59493</th>\n",
       "      <td>2017-01-25T06:39:51</td>\n",
       "      <td>xevans</td>\n",
       "      <td>27</td>\n",
       "      <td>74</td>\n",
       "      <td>6aa43c1d-2e74-3247-fa8d-699e38a4a0bd</td>\n",
       "      <td>0</td>\n",
       "      <td>interval</td>\n",
       "    </tr>\n",
       "    <tr>\n",
       "      <th>143746</th>\n",
       "      <td>2017-02-27T22:40:25</td>\n",
       "      <td>aaron53</td>\n",
       "      <td>18</td>\n",
       "      <td>83</td>\n",
       "      <td>c61a9b30-404c-d76a-19a4-22e27b6727c7</td>\n",
       "      <td>0</td>\n",
       "      <td>user</td>\n",
       "    </tr>\n",
       "    <tr>\n",
       "      <th>39847</th>\n",
       "      <td>2017-01-17T10:05:42</td>\n",
       "      <td>amynichols</td>\n",
       "      <td>20</td>\n",
       "      <td>64</td>\n",
       "      <td>ac97a2bb-f7db-976c-4063-836c3a931345</td>\n",
       "      <td>0</td>\n",
       "      <td>user</td>\n",
       "    </tr>\n",
       "    <tr>\n",
       "      <th>20457</th>\n",
       "      <td>2017-01-09T16:02:10</td>\n",
       "      <td>jonessarah</td>\n",
       "      <td>22</td>\n",
       "      <td>84</td>\n",
       "      <td>9a5e10ab-477c-793d-312e-957ff63031e5</td>\n",
       "      <td>0</td>\n",
       "      <td>NaN</td>\n",
       "    </tr>\n",
       "    <tr>\n",
       "      <th>123208</th>\n",
       "      <td>2017-02-19T17:19:59</td>\n",
       "      <td>jperkins</td>\n",
       "      <td>15</td>\n",
       "      <td>70</td>\n",
       "      <td>2eb83fa8-b99c-9e70-a89e-a0003aef7c57</td>\n",
       "      <td>0</td>\n",
       "      <td>sleep</td>\n",
       "    </tr>\n",
       "    <tr>\n",
       "      <th>80161</th>\n",
       "      <td>2017-02-02T13:27:04</td>\n",
       "      <td>allenjones</td>\n",
       "      <td>6</td>\n",
       "      <td>72</td>\n",
       "      <td>ec921130-a5e3-9b0a-e9aa-88cee0e74b7c</td>\n",
       "      <td>1</td>\n",
       "      <td>user</td>\n",
       "    </tr>\n",
       "    <tr>\n",
       "      <th>145244</th>\n",
       "      <td>2017-02-28T13:00:35</td>\n",
       "      <td>davidreese</td>\n",
       "      <td>19</td>\n",
       "      <td>72</td>\n",
       "      <td>a4f85ee7-7a79-a400-71f9-6f2316b55ebb</td>\n",
       "      <td>0</td>\n",
       "      <td>wake</td>\n",
       "    </tr>\n",
       "  </tbody>\n",
       "</table>\n",
       "</div>"
      ],
      "text/plain": [
       "                  timestamp         username  temperature  heartrate  \\\n",
       "39897   2017-01-17T10:34:58    starknicholas            9         63   \n",
       "56184   2017-01-23T22:48:32  hendersonsteven           11         70   \n",
       "79080   2017-02-02T03:07:30      wardtimothy            7         79   \n",
       "59493   2017-01-25T06:39:51           xevans           27         74   \n",
       "143746  2017-02-27T22:40:25          aaron53           18         83   \n",
       "39847   2017-01-17T10:05:42       amynichols           20         64   \n",
       "20457   2017-01-09T16:02:10       jonessarah           22         84   \n",
       "123208  2017-02-19T17:19:59         jperkins           15         70   \n",
       "80161   2017-02-02T13:27:04       allenjones            6         72   \n",
       "145244  2017-02-28T13:00:35       davidreese           19         72   \n",
       "\n",
       "                                       build  latest      note  \n",
       "39897   8aa3d627-c9b4-b57e-bb32-012b7ad30033       1     sleep  \n",
       "56184   1feb8055-fbe9-88dc-ddea-01d35aadc6f3       0      user  \n",
       "79080   787bcdfb-4a56-d377-a6ee-c534ad477814       1       NaN  \n",
       "59493   6aa43c1d-2e74-3247-fa8d-699e38a4a0bd       0  interval  \n",
       "143746  c61a9b30-404c-d76a-19a4-22e27b6727c7       0      user  \n",
       "39847   ac97a2bb-f7db-976c-4063-836c3a931345       0      user  \n",
       "20457   9a5e10ab-477c-793d-312e-957ff63031e5       0       NaN  \n",
       "123208  2eb83fa8-b99c-9e70-a89e-a0003aef7c57       0     sleep  \n",
       "80161   ec921130-a5e3-9b0a-e9aa-88cee0e74b7c       1      user  \n",
       "145244  a4f85ee7-7a79-a400-71f9-6f2316b55ebb       0      wake  "
      ]
     },
     "execution_count": 3,
     "metadata": {},
     "output_type": "execute_result"
    }
   ],
   "source": [
    "df.sample(10)"
   ]
  },
  {
   "cell_type": "code",
   "execution_count": 4,
   "metadata": {},
   "outputs": [
    {
     "data": {
      "text/plain": [
       "timestamp      object\n",
       "username       object\n",
       "temperature     int64\n",
       "heartrate       int64\n",
       "build          object\n",
       "latest          int64\n",
       "note           object\n",
       "dtype: object"
      ]
     },
     "execution_count": 4,
     "metadata": {},
     "output_type": "execute_result"
    }
   ],
   "source": [
    "df.dtypes"
   ]
  },
  {
   "cell_type": "markdown",
   "metadata": {},
   "source": [
    "## 3. Erstellen eines _constraint_-Objekt mit `discover_constraints`"
   ]
  },
  {
   "cell_type": "code",
   "execution_count": 5,
   "metadata": {},
   "outputs": [],
   "source": [
    "constraints = discover_constraints(df)"
   ]
  },
  {
   "cell_type": "code",
   "execution_count": 6,
   "metadata": {},
   "outputs": [
    {
     "data": {
      "text/plain": [
       "<tdda.constraints.base.DatasetConstraints at 0x1156b82e8>"
      ]
     },
     "execution_count": 6,
     "metadata": {},
     "output_type": "execute_result"
    }
   ],
   "source": [
    "constraints"
   ]
  },
  {
   "cell_type": "code",
   "execution_count": 7,
   "metadata": {},
   "outputs": [
    {
     "data": {
      "text/plain": [
       "Fields([('timestamp', <tdda.constraints.base.FieldConstraints at 0x1156b8518>),\n",
       "        ('username', <tdda.constraints.base.FieldConstraints at 0x1156b8710>),\n",
       "        ('temperature',\n",
       "         <tdda.constraints.base.FieldConstraints at 0x1156b88d0>),\n",
       "        ('heartrate', <tdda.constraints.base.FieldConstraints at 0x1156b8668>),\n",
       "        ('build', <tdda.constraints.base.FieldConstraints at 0x1156b8b38>),\n",
       "        ('latest', <tdda.constraints.base.FieldConstraints at 0x1156b8da0>),\n",
       "        ('note', <tdda.constraints.base.FieldConstraints at 0x1156b8ef0>)])"
      ]
     },
     "execution_count": 7,
     "metadata": {},
     "output_type": "execute_result"
    }
   ],
   "source": [
    "constraints.fields"
   ]
  },
  {
   "cell_type": "markdown",
   "metadata": {},
   "source": [
    "## 4. Schreiben der _Constraints_ in eine Datei"
   ]
  },
  {
   "cell_type": "code",
   "execution_count": 8,
   "metadata": {},
   "outputs": [],
   "source": [
    "with open('../../data/ignore-iot_constraints.tdda', 'w') as f:\n",
    "    f.write(constraints.to_json())"
   ]
  },
  {
   "cell_type": "code",
   "execution_count": 9,
   "metadata": {},
   "outputs": [
    {
     "name": "stdout",
     "output_type": "stream",
     "text": [
      "{\r\n",
      "    \"creation_metadata\": {\r\n",
      "        \"local_time\": \"2020-07-06 14:14:58\",\r\n",
      "        \"utc_time\": \"2020-07-06 12:12:58\",\r\n",
      "        \"creator\": \"TDDA 1.0.31\",\r\n",
      "        \"host\": \"eve.local\",\r\n",
      "        \"user\": \"veit\",\r\n",
      "        \"n_records\": 146397,\r\n",
      "        \"n_selected\": 146397\r\n",
      "    },\r\n",
      "    \"fields\": {\r\n",
      "        \"timestamp\": {\r\n",
      "            \"type\": \"string\",\r\n",
      "            \"min_length\": 19,\r\n",
      "            \"max_length\": 19,\r\n",
      "            \"max_nulls\": 0,\r\n",
      "            \"no_duplicates\": true\r\n",
      "        },\r\n",
      "        \"username\": {\r\n",
      "            \"type\": \"string\",\r\n",
      "            \"min_length\": 3,\r\n",
      "            \"max_length\": 21,\r\n",
      "            \"max_nulls\": 0\r\n",
      "        },\r\n",
      "        \"temperature\": {\r\n",
      "            \"type\": \"int\",\r\n",
      "            \"min\": 5,\r\n",
      "            \"max\": 29,\r\n",
      "            \"sign\": \"positive\",\r\n",
      "            \"max_nulls\": 0\r\n",
      "        },\r\n",
      "        \"heartrate\": {\r\n",
      "            \"type\": \"int\",\r\n",
      "            \"min\": 60,\r\n",
      "            \"max\": 89,\r\n",
      "            \"sign\": \"positive\",\r\n",
      "            \"max_nulls\": 0\r\n",
      "        },\r\n",
      "        \"build\": {\r\n",
      "            \"type\": \"string\",\r\n",
      "            \"min_length\": 36,\r\n",
      "            \"max_length\": 36,\r\n",
      "            \"max_nulls\": 0,\r\n",
      "            \"no_duplicates\": true\r\n",
      "        },\r\n",
      "        \"latest\": {\r\n",
      "            \"type\": \"int\",\r\n",
      "            \"min\": 0,\r\n",
      "            \"max\": 1,\r\n",
      "            \"sign\": \"non-negative\",\r\n",
      "            \"max_nulls\": 0\r\n",
      "        },\r\n",
      "        \"note\": {\r\n",
      "            \"type\": \"string\",\r\n",
      "            \"min_length\": 4,\r\n",
      "            \"max_length\": 8,\r\n",
      "            \"allowed_values\": [\r\n",
      "                \"interval\",\r\n",
      "                \"sleep\",\r\n",
      "                \"test\",\r\n",
      "                \"update\",\r\n",
      "                \"user\",\r\n",
      "                \"wake\"\r\n",
      "            ]\r\n",
      "        }\r\n",
      "    }\r\n",
      "}\r\n"
     ]
    }
   ],
   "source": [
    "cat ../../data/ignore-iot_constraints.tdda"
   ]
  },
  {
   "cell_type": "markdown",
   "metadata": {},
   "source": [
    "## 5. Überprüfen von Dataframes mit `verify_df`"
   ]
  },
  {
   "cell_type": "code",
   "execution_count": 10,
   "metadata": {},
   "outputs": [],
   "source": [
    "new_df = pd.read_csv('https://raw.githubusercontent.com/kjam/data-cleaning-101/master/data/iot_example_with_nulls.csv')"
   ]
  },
  {
   "cell_type": "code",
   "execution_count": 11,
   "metadata": {},
   "outputs": [],
   "source": [
    "v = verify_df(new_df, '../../data/ignore-iot_constraints.tdda')"
   ]
  }
 ],
 "metadata": {
  "kernelspec": {
   "display_name": "Python 3.7.4",
   "language": "python",
   "name": "python-374"
  },
  "language_info": {
   "codemirror_mode": {
    "name": "ipython",
    "version": 3
   },
   "file_extension": ".py",
   "mimetype": "text/x-python",
   "name": "python",
   "nbconvert_exporter": "python",
   "pygments_lexer": "ipython3",
   "version": "3.7.4"
  },
  "latex_envs": {
   "LaTeX_envs_menu_present": true,
   "autoclose": false,
   "autocomplete": true,
   "bibliofile": "biblio.bib",
   "cite_by": "apalike",
   "current_citInitial": 1,
   "eqLabelWithNumbers": true,
   "eqNumInitial": 1,
   "hotkeys": {
    "equation": "Ctrl-E",
    "itemize": "Ctrl-I"
   },
   "labels_anchors": false,
   "latex_user_defs": false,
   "report_style_numbering": false,
   "user_envs_cfg": false
  },
  "widgets": {
   "application/vnd.jupyter.widget-state+json": {
    "state": {},
    "version_major": 2,
    "version_minor": 0
   }
  }
 },
 "nbformat": 4,
 "nbformat_minor": 4
}
