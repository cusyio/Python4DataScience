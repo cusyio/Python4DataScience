{
 "cells": [
  {
   "cell_type": "markdown",
   "metadata": {},
   "source": [
    "# TDDA: Test-Driven Data Analysis\n",
    "\n",
    "In diesem Notebook werden wir eine Python-Bibliothek [TDDA](https://github.com/tdda/tdda) genauer anschauen, die Dateneingaben (wie NumPy-Arrays oder Pandas DataFrames) verwendet und eine Reihe von _Constraints_ um diese herum erstellt. Ihr könnt dann Eure _Constraints_ speichern (JSON-Ausgabe) und neue Daten anhand der beobachteten _Constraints_ testen."
   ]
  },
  {
   "cell_type": "markdown",
   "metadata": {},
   "source": [
    "## 1. Importe"
   ]
  },
  {
   "cell_type": "code",
   "execution_count": 1,
   "metadata": {},
   "outputs": [],
   "source": [
    "import pandas as pd\n",
    "import numpy as np\n",
    "from tdda.constraints.pdconstraints import discover_constraints, \\\n",
    "    verify_df"
   ]
  },
  {
   "cell_type": "code",
   "execution_count": 2,
   "metadata": {},
   "outputs": [],
   "source": [
    "df = pd.read_csv('https://raw.githubusercontent.com/kjam/data-cleaning-101/master/data/iot_example.csv')"
   ]
  },
  {
   "cell_type": "markdown",
   "metadata": {},
   "source": [
    "## 2. Daten überprüfen"
   ]
  },
  {
   "cell_type": "code",
   "execution_count": 3,
   "metadata": {},
   "outputs": [
    {
     "data": {
      "text/html": [
       "<div>\n",
       "<style scoped>\n",
       "    .dataframe tbody tr th:only-of-type {\n",
       "        vertical-align: middle;\n",
       "    }\n",
       "\n",
       "    .dataframe tbody tr th {\n",
       "        vertical-align: top;\n",
       "    }\n",
       "\n",
       "    .dataframe thead th {\n",
       "        text-align: right;\n",
       "    }\n",
       "</style>\n",
       "<table border=\"1\" class=\"dataframe\">\n",
       "  <thead>\n",
       "    <tr style=\"text-align: right;\">\n",
       "      <th></th>\n",
       "      <th>timestamp</th>\n",
       "      <th>username</th>\n",
       "      <th>temperature</th>\n",
       "      <th>heartrate</th>\n",
       "      <th>build</th>\n",
       "      <th>latest</th>\n",
       "      <th>note</th>\n",
       "    </tr>\n",
       "  </thead>\n",
       "  <tbody>\n",
       "    <tr>\n",
       "      <th>81618</th>\n",
       "      <td>2017-02-03T03:25:53</td>\n",
       "      <td>bjohnson</td>\n",
       "      <td>10</td>\n",
       "      <td>70</td>\n",
       "      <td>81a841f7-4129-76b9-6473-0bf73d9c1b8f</td>\n",
       "      <td>0</td>\n",
       "      <td>interval</td>\n",
       "    </tr>\n",
       "    <tr>\n",
       "      <th>109648</th>\n",
       "      <td>2017-02-14T07:41:47</td>\n",
       "      <td>morgan82</td>\n",
       "      <td>9</td>\n",
       "      <td>83</td>\n",
       "      <td>9302b31f-c6f4-44f8-a8c2-6ec921f913ed</td>\n",
       "      <td>0</td>\n",
       "      <td>wake</td>\n",
       "    </tr>\n",
       "    <tr>\n",
       "      <th>35197</th>\n",
       "      <td>2017-01-15T13:23:44</td>\n",
       "      <td>bethhobbs</td>\n",
       "      <td>18</td>\n",
       "      <td>71</td>\n",
       "      <td>fe10410c-ffc1-a542-1433-c4c5eb79561e</td>\n",
       "      <td>0</td>\n",
       "      <td>sleep</td>\n",
       "    </tr>\n",
       "    <tr>\n",
       "      <th>24643</th>\n",
       "      <td>2017-01-11T08:08:32</td>\n",
       "      <td>mhernandez</td>\n",
       "      <td>23</td>\n",
       "      <td>67</td>\n",
       "      <td>57c09f66-3ab7-d64d-42ea-d49a8be683f5</td>\n",
       "      <td>0</td>\n",
       "      <td>wake</td>\n",
       "    </tr>\n",
       "    <tr>\n",
       "      <th>39545</th>\n",
       "      <td>2017-01-17T07:09:46</td>\n",
       "      <td>caitlynsandoval</td>\n",
       "      <td>26</td>\n",
       "      <td>72</td>\n",
       "      <td>11868075-6e6e-d1e1-127d-b7c771021db5</td>\n",
       "      <td>1</td>\n",
       "      <td>interval</td>\n",
       "    </tr>\n",
       "    <tr>\n",
       "      <th>1672</th>\n",
       "      <td>2017-01-02T04:08:54</td>\n",
       "      <td>kingchristine</td>\n",
       "      <td>15</td>\n",
       "      <td>79</td>\n",
       "      <td>42f12825-7ee8-4499-f823-5b634fdf19c2</td>\n",
       "      <td>1</td>\n",
       "      <td>update</td>\n",
       "    </tr>\n",
       "    <tr>\n",
       "      <th>83012</th>\n",
       "      <td>2017-02-03T16:48:46</td>\n",
       "      <td>rachel73</td>\n",
       "      <td>5</td>\n",
       "      <td>84</td>\n",
       "      <td>90353288-66fe-f809-726d-28f44263d0ab</td>\n",
       "      <td>0</td>\n",
       "      <td>test</td>\n",
       "    </tr>\n",
       "    <tr>\n",
       "      <th>75779</th>\n",
       "      <td>2017-01-31T19:13:50</td>\n",
       "      <td>ryangutierrez</td>\n",
       "      <td>19</td>\n",
       "      <td>81</td>\n",
       "      <td>b4d7f7b8-ceab-4417-5e9e-0545fc9d742d</td>\n",
       "      <td>0</td>\n",
       "      <td>wake</td>\n",
       "    </tr>\n",
       "    <tr>\n",
       "      <th>29645</th>\n",
       "      <td>2017-01-13T08:12:48</td>\n",
       "      <td>michael02</td>\n",
       "      <td>8</td>\n",
       "      <td>83</td>\n",
       "      <td>4cd4563f-d8b9-6d7d-482b-715bbfbd9754</td>\n",
       "      <td>1</td>\n",
       "      <td>test</td>\n",
       "    </tr>\n",
       "    <tr>\n",
       "      <th>11272</th>\n",
       "      <td>2017-01-06T00:08:46</td>\n",
       "      <td>kempandrea</td>\n",
       "      <td>16</td>\n",
       "      <td>69</td>\n",
       "      <td>dc10a912-4d52-4aef-74b3-c8873ec801c2</td>\n",
       "      <td>1</td>\n",
       "      <td>interval</td>\n",
       "    </tr>\n",
       "  </tbody>\n",
       "</table>\n",
       "</div>"
      ],
      "text/plain": [
       "                  timestamp         username  temperature  heartrate  \\\n",
       "81618   2017-02-03T03:25:53         bjohnson           10         70   \n",
       "109648  2017-02-14T07:41:47         morgan82            9         83   \n",
       "35197   2017-01-15T13:23:44        bethhobbs           18         71   \n",
       "24643   2017-01-11T08:08:32       mhernandez           23         67   \n",
       "39545   2017-01-17T07:09:46  caitlynsandoval           26         72   \n",
       "1672    2017-01-02T04:08:54    kingchristine           15         79   \n",
       "83012   2017-02-03T16:48:46         rachel73            5         84   \n",
       "75779   2017-01-31T19:13:50    ryangutierrez           19         81   \n",
       "29645   2017-01-13T08:12:48        michael02            8         83   \n",
       "11272   2017-01-06T00:08:46       kempandrea           16         69   \n",
       "\n",
       "                                       build  latest      note  \n",
       "81618   81a841f7-4129-76b9-6473-0bf73d9c1b8f       0  interval  \n",
       "109648  9302b31f-c6f4-44f8-a8c2-6ec921f913ed       0      wake  \n",
       "35197   fe10410c-ffc1-a542-1433-c4c5eb79561e       0     sleep  \n",
       "24643   57c09f66-3ab7-d64d-42ea-d49a8be683f5       0      wake  \n",
       "39545   11868075-6e6e-d1e1-127d-b7c771021db5       1  interval  \n",
       "1672    42f12825-7ee8-4499-f823-5b634fdf19c2       1    update  \n",
       "83012   90353288-66fe-f809-726d-28f44263d0ab       0      test  \n",
       "75779   b4d7f7b8-ceab-4417-5e9e-0545fc9d742d       0      wake  \n",
       "29645   4cd4563f-d8b9-6d7d-482b-715bbfbd9754       1      test  \n",
       "11272   dc10a912-4d52-4aef-74b3-c8873ec801c2       1  interval  "
      ]
     },
     "execution_count": 3,
     "metadata": {},
     "output_type": "execute_result"
    }
   ],
   "source": [
    "df.sample(10)"
   ]
  },
  {
   "cell_type": "code",
   "execution_count": 4,
   "metadata": {},
   "outputs": [
    {
     "data": {
      "text/plain": [
       "timestamp      object\n",
       "username       object\n",
       "temperature     int64\n",
       "heartrate       int64\n",
       "build          object\n",
       "latest          int64\n",
       "note           object\n",
       "dtype: object"
      ]
     },
     "execution_count": 4,
     "metadata": {},
     "output_type": "execute_result"
    }
   ],
   "source": [
    "df.dtypes"
   ]
  },
  {
   "cell_type": "markdown",
   "metadata": {},
   "source": [
    "## 3. Erstellen eines _constraint_-Objekt mit `discover_constraints`"
   ]
  },
  {
   "cell_type": "code",
   "execution_count": 5,
   "metadata": {},
   "outputs": [],
   "source": [
    "constraints = discover_constraints(df)"
   ]
  },
  {
   "cell_type": "code",
   "execution_count": 6,
   "metadata": {},
   "outputs": [
    {
     "data": {
      "text/plain": [
       "<tdda.constraints.base.DatasetConstraints at 0x11de13240>"
      ]
     },
     "execution_count": 6,
     "metadata": {},
     "output_type": "execute_result"
    }
   ],
   "source": [
    "constraints"
   ]
  },
  {
   "cell_type": "code",
   "execution_count": 7,
   "metadata": {},
   "outputs": [
    {
     "data": {
      "text/plain": [
       "Fields([('timestamp', <tdda.constraints.base.FieldConstraints at 0x11de134a8>),\n",
       "        ('username', <tdda.constraints.base.FieldConstraints at 0x11de13780>),\n",
       "        ('temperature',\n",
       "         <tdda.constraints.base.FieldConstraints at 0x11de13908>),\n",
       "        ('heartrate', <tdda.constraints.base.FieldConstraints at 0x11de136d8>),\n",
       "        ('build', <tdda.constraints.base.FieldConstraints at 0x11de13b70>),\n",
       "        ('latest', <tdda.constraints.base.FieldConstraints at 0x11de13da0>),\n",
       "        ('note', <tdda.constraints.base.FieldConstraints at 0x11de13ef0>)])"
      ]
     },
     "execution_count": 7,
     "metadata": {},
     "output_type": "execute_result"
    }
   ],
   "source": [
    "constraints.fields"
   ]
  },
  {
   "cell_type": "markdown",
   "metadata": {},
   "source": [
    "## 4. Schreiben der _Constraints_ in eine Datei"
   ]
  },
  {
   "cell_type": "code",
   "execution_count": 8,
   "metadata": {},
   "outputs": [],
   "source": [
    "with open('../../data/ignore-iot_constraints.tdda', 'w') as f:\n",
    "    f.write(constraints.to_json())"
   ]
  },
  {
   "cell_type": "code",
   "execution_count": 9,
   "metadata": {},
   "outputs": [
    {
     "name": "stdout",
     "output_type": "stream",
     "text": [
      "{\r\n",
      "    \"creation_metadata\": {\r\n",
      "        \"local_time\": \"2020-07-06 14:14:33\",\r\n",
      "        \"utc_time\": \"2020-07-06 12:12:33\",\r\n",
      "        \"creator\": \"TDDA 1.0.31\",\r\n",
      "        \"host\": \"eve.local\",\r\n",
      "        \"user\": \"veit\",\r\n",
      "        \"n_records\": 146397,\r\n",
      "        \"n_selected\": 146397\r\n",
      "    },\r\n",
      "    \"fields\": {\r\n",
      "        \"timestamp\": {\r\n",
      "            \"type\": \"string\",\r\n",
      "            \"min_length\": 19,\r\n",
      "            \"max_length\": 19,\r\n",
      "            \"max_nulls\": 0,\r\n",
      "            \"no_duplicates\": true\r\n",
      "        },\r\n",
      "        \"username\": {\r\n",
      "            \"type\": \"string\",\r\n",
      "            \"min_length\": 3,\r\n",
      "            \"max_length\": 21,\r\n",
      "            \"max_nulls\": 0\r\n",
      "        },\r\n",
      "        \"temperature\": {\r\n",
      "            \"type\": \"int\",\r\n",
      "            \"min\": 5,\r\n",
      "            \"max\": 29,\r\n",
      "            \"sign\": \"positive\",\r\n",
      "            \"max_nulls\": 0\r\n",
      "        },\r\n",
      "        \"heartrate\": {\r\n",
      "            \"type\": \"int\",\r\n",
      "            \"min\": 60,\r\n",
      "            \"max\": 89,\r\n",
      "            \"sign\": \"positive\",\r\n",
      "            \"max_nulls\": 0\r\n",
      "        },\r\n",
      "        \"build\": {\r\n",
      "            \"type\": \"string\",\r\n",
      "            \"min_length\": 36,\r\n",
      "            \"max_length\": 36,\r\n",
      "            \"max_nulls\": 0,\r\n",
      "            \"no_duplicates\": true\r\n",
      "        },\r\n",
      "        \"latest\": {\r\n",
      "            \"type\": \"int\",\r\n",
      "            \"min\": 0,\r\n",
      "            \"max\": 1,\r\n",
      "            \"sign\": \"non-negative\",\r\n",
      "            \"max_nulls\": 0\r\n",
      "        },\r\n",
      "        \"note\": {\r\n",
      "            \"type\": \"string\",\r\n",
      "            \"min_length\": 4,\r\n",
      "            \"max_length\": 8,\r\n",
      "            \"allowed_values\": [\r\n",
      "                \"interval\",\r\n",
      "                \"sleep\",\r\n",
      "                \"test\",\r\n",
      "                \"update\",\r\n",
      "                \"user\",\r\n",
      "                \"wake\"\r\n",
      "            ]\r\n",
      "        }\r\n",
      "    }\r\n",
      "}\r\n"
     ]
    }
   ],
   "source": [
    "cat ../../data/ignore-iot_constraints.tdda"
   ]
  }
 ],
 "metadata": {
  "kernelspec": {
   "display_name": "Python 3.7.4",
   "language": "python",
   "name": "python-374"
  },
  "language_info": {
   "codemirror_mode": {
    "name": "ipython",
    "version": 3
   },
   "file_extension": ".py",
   "mimetype": "text/x-python",
   "name": "python",
   "nbconvert_exporter": "python",
   "pygments_lexer": "ipython3",
   "version": "3.7.3"
  },
  "latex_envs": {
   "LaTeX_envs_menu_present": true,
   "autoclose": false,
   "autocomplete": true,
   "bibliofile": "biblio.bib",
   "cite_by": "apalike",
   "current_citInitial": 1,
   "eqLabelWithNumbers": true,
   "eqNumInitial": 1,
   "hotkeys": {
    "equation": "Ctrl-E",
    "itemize": "Ctrl-I"
   },
   "labels_anchors": false,
   "latex_user_defs": false,
   "report_style_numbering": false,
   "user_envs_cfg": false
  },
  "widgets": {
   "application/vnd.jupyter.widget-state+json": {
    "state": {},
    "version_major": 2,
    "version_minor": 0
   }
  }
 },
 "nbformat": 4,
 "nbformat_minor": 4
}
