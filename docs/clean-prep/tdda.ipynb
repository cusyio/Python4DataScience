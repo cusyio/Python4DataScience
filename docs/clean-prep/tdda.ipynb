{
 "cells": [
  {
   "cell_type": "markdown",
   "metadata": {},
   "source": [
    "# TDDA: Test-Driven Data Analysis\n",
    "\n",
    "[TDDA](https://github.com/tdda/tdda) uses file inputs (such as NumPy arrays or Pandas DataFrames) and a set of constraints that are stored as a JSON file.\n",
    "\n",
    "* `tdda.referencetest` supports the creation of reference tests based on either unittest or pytest.\n",
    "* `tdda.constraints` is used to retrieve constraints from a (pandas) DataFrame, write them out as JSON and check whether records satisfy the constraints in the constraints file. It also supports tables in a variety of relational databases.\n",
    "* `tdda.rexpy` is a tool for automatically deriving regular expressions from a column in a pandas DataFrame or from a (Python) list of examples."
   ]
  },
  {
   "cell_type": "markdown",
   "metadata": {},
   "source": [
    "## 1. Imports"
   ]
  },
  {
   "cell_type": "code",
   "execution_count": 1,
   "metadata": {},
   "outputs": [],
   "source": [
    "import pandas as pd\n",
    "import numpy as np\n",
    "from tdda.constraints import discover_df, verify_df"
   ]
  },
  {
   "cell_type": "code",
   "execution_count": 2,
   "metadata": {},
   "outputs": [],
   "source": [
    "df = pd.read_csv('https://raw.githubusercontent.com/kjam/data-cleaning-101/master/data/iot_example.csv')"
   ]
  },
  {
   "cell_type": "markdown",
   "metadata": {},
   "source": [
    "## 2. Check data\n",
    "\n",
    "With [pandas.DataFrame.sample](https://pandas.pydata.org/docs/reference/api/pandas.DataFrame.sample.html) we display ten random data sets:"
   ]
  },
  {
   "cell_type": "code",
   "execution_count": 3,
   "metadata": {},
   "outputs": [
    {
     "data": {
      "text/html": [
       "<div>\n",
       "<style scoped>\n",
       "    .dataframe tbody tr th:only-of-type {\n",
       "        vertical-align: middle;\n",
       "    }\n",
       "\n",
       "    .dataframe tbody tr th {\n",
       "        vertical-align: top;\n",
       "    }\n",
       "\n",
       "    .dataframe thead th {\n",
       "        text-align: right;\n",
       "    }\n",
       "</style>\n",
       "<table border=\"1\" class=\"dataframe\">\n",
       "  <thead>\n",
       "    <tr style=\"text-align: right;\">\n",
       "      <th></th>\n",
       "      <th>timestamp</th>\n",
       "      <th>username</th>\n",
       "      <th>temperature</th>\n",
       "      <th>heartrate</th>\n",
       "      <th>build</th>\n",
       "      <th>latest</th>\n",
       "      <th>note</th>\n",
       "    </tr>\n",
       "  </thead>\n",
       "  <tbody>\n",
       "    <tr>\n",
       "      <th>51603</th>\n",
       "      <td>2017-01-22T02:55:23</td>\n",
       "      <td>sherry06</td>\n",
       "      <td>28</td>\n",
       "      <td>83</td>\n",
       "      <td>5c1d8967-fcfc-1a8d-2f62-5036da241848</td>\n",
       "      <td>1</td>\n",
       "      <td>sleep</td>\n",
       "    </tr>\n",
       "    <tr>\n",
       "      <th>119933</th>\n",
       "      <td>2017-02-18T10:09:06</td>\n",
       "      <td>psnyder</td>\n",
       "      <td>9</td>\n",
       "      <td>83</td>\n",
       "      <td>d4e5846a-0b8e-ecd1-5346-a680c8271524</td>\n",
       "      <td>1</td>\n",
       "      <td>test</td>\n",
       "    </tr>\n",
       "    <tr>\n",
       "      <th>67013</th>\n",
       "      <td>2017-01-28T06:57:26</td>\n",
       "      <td>hayesthomas</td>\n",
       "      <td>22</td>\n",
       "      <td>78</td>\n",
       "      <td>a5cca8fd-e6aa-ddd9-9980-8d32077ca099</td>\n",
       "      <td>0</td>\n",
       "      <td>update</td>\n",
       "    </tr>\n",
       "    <tr>\n",
       "      <th>5554</th>\n",
       "      <td>2017-01-03T17:25:28</td>\n",
       "      <td>dianajohnson</td>\n",
       "      <td>29</td>\n",
       "      <td>80</td>\n",
       "      <td>7e30f6b8-4e2f-025b-515d-4f2593e7ce08</td>\n",
       "      <td>1</td>\n",
       "      <td>NaN</td>\n",
       "    </tr>\n",
       "    <tr>\n",
       "      <th>118950</th>\n",
       "      <td>2017-02-18T00:42:42</td>\n",
       "      <td>katherinefaulkner</td>\n",
       "      <td>17</td>\n",
       "      <td>79</td>\n",
       "      <td>71613d5f-72fd-ee43-a27c-5f93cc693be1</td>\n",
       "      <td>1</td>\n",
       "      <td>interval</td>\n",
       "    </tr>\n",
       "    <tr>\n",
       "      <th>50388</th>\n",
       "      <td>2017-01-21T15:19:28</td>\n",
       "      <td>diazgregory</td>\n",
       "      <td>20</td>\n",
       "      <td>68</td>\n",
       "      <td>6ef03856-0470-1664-f749-4fd59572efda</td>\n",
       "      <td>0</td>\n",
       "      <td>wake</td>\n",
       "    </tr>\n",
       "    <tr>\n",
       "      <th>88116</th>\n",
       "      <td>2017-02-05T17:38:11</td>\n",
       "      <td>thomas62</td>\n",
       "      <td>10</td>\n",
       "      <td>74</td>\n",
       "      <td>7c19890c-ef1b-75a0-acfa-efdf21ac90b6</td>\n",
       "      <td>0</td>\n",
       "      <td>NaN</td>\n",
       "    </tr>\n",
       "    <tr>\n",
       "      <th>64332</th>\n",
       "      <td>2017-01-27T05:17:04</td>\n",
       "      <td>kanderson</td>\n",
       "      <td>28</td>\n",
       "      <td>81</td>\n",
       "      <td>0b94e0ba-ecee-0b76-8b53-191f93f12404</td>\n",
       "      <td>1</td>\n",
       "      <td>sleep</td>\n",
       "    </tr>\n",
       "    <tr>\n",
       "      <th>48896</th>\n",
       "      <td>2017-01-21T00:55:48</td>\n",
       "      <td>heidi76</td>\n",
       "      <td>28</td>\n",
       "      <td>74</td>\n",
       "      <td>c3fd9b2a-2900-ced7-e721-ff7940419a13</td>\n",
       "      <td>0</td>\n",
       "      <td>update</td>\n",
       "    </tr>\n",
       "    <tr>\n",
       "      <th>143209</th>\n",
       "      <td>2017-02-27T17:28:19</td>\n",
       "      <td>johnsonmiguel</td>\n",
       "      <td>9</td>\n",
       "      <td>74</td>\n",
       "      <td>785fc5b8-7be8-1a01-ddbe-c0581d8c5d5f</td>\n",
       "      <td>0</td>\n",
       "      <td>test</td>\n",
       "    </tr>\n",
       "  </tbody>\n",
       "</table>\n",
       "</div>"
      ],
      "text/plain": [
       "                  timestamp           username  temperature  heartrate  \\\n",
       "51603   2017-01-22T02:55:23           sherry06           28         83   \n",
       "119933  2017-02-18T10:09:06            psnyder            9         83   \n",
       "67013   2017-01-28T06:57:26        hayesthomas           22         78   \n",
       "5554    2017-01-03T17:25:28       dianajohnson           29         80   \n",
       "118950  2017-02-18T00:42:42  katherinefaulkner           17         79   \n",
       "50388   2017-01-21T15:19:28        diazgregory           20         68   \n",
       "88116   2017-02-05T17:38:11           thomas62           10         74   \n",
       "64332   2017-01-27T05:17:04          kanderson           28         81   \n",
       "48896   2017-01-21T00:55:48            heidi76           28         74   \n",
       "143209  2017-02-27T17:28:19      johnsonmiguel            9         74   \n",
       "\n",
       "                                       build  latest      note  \n",
       "51603   5c1d8967-fcfc-1a8d-2f62-5036da241848       1     sleep  \n",
       "119933  d4e5846a-0b8e-ecd1-5346-a680c8271524       1      test  \n",
       "67013   a5cca8fd-e6aa-ddd9-9980-8d32077ca099       0    update  \n",
       "5554    7e30f6b8-4e2f-025b-515d-4f2593e7ce08       1       NaN  \n",
       "118950  71613d5f-72fd-ee43-a27c-5f93cc693be1       1  interval  \n",
       "50388   6ef03856-0470-1664-f749-4fd59572efda       0      wake  \n",
       "88116   7c19890c-ef1b-75a0-acfa-efdf21ac90b6       0       NaN  \n",
       "64332   0b94e0ba-ecee-0b76-8b53-191f93f12404       1     sleep  \n",
       "48896   c3fd9b2a-2900-ced7-e721-ff7940419a13       0    update  \n",
       "143209  785fc5b8-7be8-1a01-ddbe-c0581d8c5d5f       0      test  "
      ]
     },
     "execution_count": 3,
     "metadata": {},
     "output_type": "execute_result"
    }
   ],
   "source": [
    "df.sample(10)"
   ]
  },
  {
   "cell_type": "markdown",
   "metadata": {},
   "source": [
    "And with [pandas.DataFrame.dtypes](https://pandas.pydata.org/docs/reference/api/pandas.DataFrame.dtypes.html) we display the data types for the individual columns:"
   ]
  },
  {
   "cell_type": "code",
   "execution_count": 4,
   "metadata": {},
   "outputs": [
    {
     "data": {
      "text/plain": [
       "timestamp      object\n",
       "username       object\n",
       "temperature     int64\n",
       "heartrate       int64\n",
       "build          object\n",
       "latest          int64\n",
       "note           object\n",
       "dtype: object"
      ]
     },
     "execution_count": 4,
     "metadata": {},
     "output_type": "execute_result"
    }
   ],
   "source": [
    "df.dtypes"
   ]
  },
  {
   "cell_type": "markdown",
   "metadata": {},
   "source": [
    "## 3. Creating a constraints object\n",
    "\n",
    "With `discover_constraints` a constraints object can be created."
   ]
  },
  {
   "cell_type": "code",
   "execution_count": 5,
   "metadata": {},
   "outputs": [],
   "source": [
    "constraints = discover_df(df)"
   ]
  },
  {
   "cell_type": "code",
   "execution_count": 6,
   "metadata": {},
   "outputs": [
    {
     "data": {
      "text/plain": [
       "<tdda.constraints.base.DatasetConstraints at 0x7fe58e48dcd0>"
      ]
     },
     "execution_count": 6,
     "metadata": {},
     "output_type": "execute_result"
    }
   ],
   "source": [
    "constraints"
   ]
  },
  {
   "cell_type": "code",
   "execution_count": 7,
   "metadata": {},
   "outputs": [
    {
     "data": {
      "text/plain": [
       "Fields([('timestamp',\n",
       "         <tdda.constraints.base.FieldConstraints at 0x7fe58e48dfd0>),\n",
       "        ('username',\n",
       "         <tdda.constraints.base.FieldConstraints at 0x7fe58e4ab280>),\n",
       "        ('temperature',\n",
       "         <tdda.constraints.base.FieldConstraints at 0x7fe58e4ab5e0>),\n",
       "        ('heartrate',\n",
       "         <tdda.constraints.base.FieldConstraints at 0x7fe58e4ab940>),\n",
       "        ('build', <tdda.constraints.base.FieldConstraints at 0x7fe58e4abca0>),\n",
       "        ('latest', <tdda.constraints.base.FieldConstraints at 0x7fe58e4b0040>),\n",
       "        ('note', <tdda.constraints.base.FieldConstraints at 0x7fe58e4b0370>)])"
      ]
     },
     "execution_count": 7,
     "metadata": {},
     "output_type": "execute_result"
    }
   ],
   "source": [
    "constraints.fields"
   ]
  },
  {
   "cell_type": "markdown",
   "metadata": {},
   "source": [
    "## 4. Writing the constraints into a file"
   ]
  },
  {
   "cell_type": "code",
   "execution_count": 8,
   "metadata": {},
   "outputs": [],
   "source": [
    "with open('../../data/ignore-iot_constraints.tdda', 'w') as f:\n",
    "    f.write(constraints.to_json())"
   ]
  },
  {
   "cell_type": "markdown",
   "metadata": {},
   "source": [
    "If we take a closer look at the file, we can see that, for example, a string with 19 characters is expected for the `timestamp` column and `temperature` expects integers with values from 5-29."
   ]
  },
  {
   "cell_type": "code",
   "execution_count": 9,
   "metadata": {},
   "outputs": [
    {
     "name": "stdout",
     "output_type": "stream",
     "text": [
      "{\r\n",
      "    \"creation_metadata\": {\r\n",
      "        \"local_time\": \"2021-11-20 16:16:01\",\r\n",
      "        \"utc_time\": \"2021-11-20 15:15:01\",\r\n",
      "        \"creator\": \"TDDA 1.0.32\",\r\n",
      "        \"host\": \"eve.local\",\r\n",
      "        \"user\": \"veit\",\r\n",
      "        \"n_records\": 146397,\r\n",
      "        \"n_selected\": 146397\r\n",
      "    },\r\n",
      "    \"fields\": {\r\n",
      "        \"timestamp\": {\r\n",
      "            \"type\": \"string\",\r\n",
      "            \"min_length\": 19,\r\n",
      "            \"max_length\": 19,\r\n",
      "            \"max_nulls\": 0,\r\n",
      "            \"no_duplicates\": true\r\n",
      "        },\r\n",
      "        \"username\": {\r\n",
      "            \"type\": \"string\",\r\n",
      "            \"min_length\": 3,\r\n",
      "            \"max_length\": 21,\r\n",
      "            \"max_nulls\": 0\r\n",
      "        },\r\n",
      "        \"temperature\": {\r\n",
      "            \"type\": \"int\",\r\n",
      "            \"min\": 5,\r\n",
      "            \"max\": 29,\r\n",
      "            \"sign\": \"positive\",\r\n",
      "            \"max_nulls\": 0\r\n",
      "        },\r\n",
      "        \"heartrate\": {\r\n",
      "            \"type\": \"int\",\r\n",
      "            \"min\": 60,\r\n",
      "            \"max\": 89,\r\n",
      "            \"sign\": \"positive\",\r\n",
      "            \"max_nulls\": 0\r\n",
      "        },\r\n",
      "        \"build\": {\r\n",
      "            \"type\": \"string\",\r\n",
      "            \"min_length\": 36,\r\n",
      "            \"max_length\": 36,\r\n",
      "            \"max_nulls\": 0,\r\n",
      "            \"no_duplicates\": true\r\n",
      "        },\r\n",
      "        \"latest\": {\r\n",
      "            \"type\": \"int\",\r\n",
      "            \"min\": 0,\r\n",
      "            \"max\": 1,\r\n",
      "            \"sign\": \"non-negative\",\r\n",
      "            \"max_nulls\": 0\r\n",
      "        },\r\n",
      "        \"note\": {\r\n",
      "            \"type\": \"string\",\r\n",
      "            \"min_length\": 4,\r\n",
      "            \"max_length\": 8,\r\n",
      "            \"allowed_values\": [\r\n",
      "                \"interval\",\r\n",
      "                \"sleep\",\r\n",
      "                \"test\",\r\n",
      "                \"update\",\r\n",
      "                \"user\",\r\n",
      "                \"wake\"\r\n",
      "            ]\r\n",
      "        }\r\n",
      "    }\r\n",
      "}\r\n"
     ]
    }
   ],
   "source": [
    "cat ../../data/ignore-iot_constraints.tdda"
   ]
  },
  {
   "cell_type": "markdown",
   "metadata": {},
   "source": [
    "## 5. Checking data frames\n",
    "\n",
    "To do this, we first read in a new csv file with pandas and then have ten data records output as examples:"
   ]
  },
  {
   "cell_type": "code",
   "execution_count": 10,
   "metadata": {},
   "outputs": [
    {
     "data": {
      "text/html": [
       "<div>\n",
       "<style scoped>\n",
       "    .dataframe tbody tr th:only-of-type {\n",
       "        vertical-align: middle;\n",
       "    }\n",
       "\n",
       "    .dataframe tbody tr th {\n",
       "        vertical-align: top;\n",
       "    }\n",
       "\n",
       "    .dataframe thead th {\n",
       "        text-align: right;\n",
       "    }\n",
       "</style>\n",
       "<table border=\"1\" class=\"dataframe\">\n",
       "  <thead>\n",
       "    <tr style=\"text-align: right;\">\n",
       "      <th></th>\n",
       "      <th>timestamp</th>\n",
       "      <th>username</th>\n",
       "      <th>temperature</th>\n",
       "      <th>heartrate</th>\n",
       "      <th>build</th>\n",
       "      <th>latest</th>\n",
       "      <th>note</th>\n",
       "    </tr>\n",
       "  </thead>\n",
       "  <tbody>\n",
       "    <tr>\n",
       "      <th>34897</th>\n",
       "      <td>2017-01-15T10:33:45</td>\n",
       "      <td>waltersann</td>\n",
       "      <td>19.0</td>\n",
       "      <td>76</td>\n",
       "      <td>9a55a840-e586-4cc4-375f-00db11ad6157</td>\n",
       "      <td>NaN</td>\n",
       "      <td>interval</td>\n",
       "    </tr>\n",
       "    <tr>\n",
       "      <th>46490</th>\n",
       "      <td>2017-01-20T01:59:35</td>\n",
       "      <td>dunlaprobert</td>\n",
       "      <td>NaN</td>\n",
       "      <td>63</td>\n",
       "      <td>NaN</td>\n",
       "      <td>0.0</td>\n",
       "      <td>NaN</td>\n",
       "    </tr>\n",
       "    <tr>\n",
       "      <th>48329</th>\n",
       "      <td>2017-01-20T19:33:15</td>\n",
       "      <td>heidi31</td>\n",
       "      <td>16.0</td>\n",
       "      <td>64</td>\n",
       "      <td>e14014b4-b96b-82dd-5e9b-a4fea08839b4</td>\n",
       "      <td>NaN</td>\n",
       "      <td>interval</td>\n",
       "    </tr>\n",
       "    <tr>\n",
       "      <th>23625</th>\n",
       "      <td>2017-01-10T22:15:30</td>\n",
       "      <td>kurtcain</td>\n",
       "      <td>28.0</td>\n",
       "      <td>73</td>\n",
       "      <td>66e31ec0-2e6c-9882-cbf5-8d572cd18bf1</td>\n",
       "      <td>1.0</td>\n",
       "      <td>NaN</td>\n",
       "    </tr>\n",
       "    <tr>\n",
       "      <th>114909</th>\n",
       "      <td>2017-02-16T10:01:53</td>\n",
       "      <td>frankbates</td>\n",
       "      <td>22.0</td>\n",
       "      <td>75</td>\n",
       "      <td>9afa2b75-0f44-b530-4ab1-fb29beac6443</td>\n",
       "      <td>NaN</td>\n",
       "      <td>interval</td>\n",
       "    </tr>\n",
       "    <tr>\n",
       "      <th>40464</th>\n",
       "      <td>2017-01-17T16:01:21</td>\n",
       "      <td>rbaker</td>\n",
       "      <td>NaN</td>\n",
       "      <td>71</td>\n",
       "      <td>c6a27614-1632-885b-1e3c-b1e0441b231d</td>\n",
       "      <td>1.0</td>\n",
       "      <td>test</td>\n",
       "    </tr>\n",
       "    <tr>\n",
       "      <th>110461</th>\n",
       "      <td>2017-02-14T15:30:22</td>\n",
       "      <td>carpenterashlee</td>\n",
       "      <td>23.0</td>\n",
       "      <td>85</td>\n",
       "      <td>c45944a9-1c69-8692-d6a2-c3462dd6b4d3</td>\n",
       "      <td>0.0</td>\n",
       "      <td>NaN</td>\n",
       "    </tr>\n",
       "    <tr>\n",
       "      <th>79579</th>\n",
       "      <td>2017-02-02T07:49:53</td>\n",
       "      <td>alexistucker</td>\n",
       "      <td>8.0</td>\n",
       "      <td>61</td>\n",
       "      <td>f787577b-1080-ac9d-e871-40db40c7225f</td>\n",
       "      <td>0.0</td>\n",
       "      <td>NaN</td>\n",
       "    </tr>\n",
       "    <tr>\n",
       "      <th>68692</th>\n",
       "      <td>2017-01-28T23:09:11</td>\n",
       "      <td>hallmaria</td>\n",
       "      <td>12.0</td>\n",
       "      <td>62</td>\n",
       "      <td>f6b642b7-6fdf-d772-34de-f8e8da949ff1</td>\n",
       "      <td>0.0</td>\n",
       "      <td>NaN</td>\n",
       "    </tr>\n",
       "    <tr>\n",
       "      <th>4142</th>\n",
       "      <td>2017-01-03T03:56:31</td>\n",
       "      <td>veronicalamb</td>\n",
       "      <td>18.0</td>\n",
       "      <td>76</td>\n",
       "      <td>NaN</td>\n",
       "      <td>0.0</td>\n",
       "      <td>update</td>\n",
       "    </tr>\n",
       "  </tbody>\n",
       "</table>\n",
       "</div>"
      ],
      "text/plain": [
       "                  timestamp         username  temperature  heartrate  \\\n",
       "34897   2017-01-15T10:33:45       waltersann         19.0         76   \n",
       "46490   2017-01-20T01:59:35     dunlaprobert          NaN         63   \n",
       "48329   2017-01-20T19:33:15          heidi31         16.0         64   \n",
       "23625   2017-01-10T22:15:30         kurtcain         28.0         73   \n",
       "114909  2017-02-16T10:01:53       frankbates         22.0         75   \n",
       "40464   2017-01-17T16:01:21           rbaker          NaN         71   \n",
       "110461  2017-02-14T15:30:22  carpenterashlee         23.0         85   \n",
       "79579   2017-02-02T07:49:53     alexistucker          8.0         61   \n",
       "68692   2017-01-28T23:09:11        hallmaria         12.0         62   \n",
       "4142    2017-01-03T03:56:31     veronicalamb         18.0         76   \n",
       "\n",
       "                                       build  latest      note  \n",
       "34897   9a55a840-e586-4cc4-375f-00db11ad6157     NaN  interval  \n",
       "46490                                    NaN     0.0       NaN  \n",
       "48329   e14014b4-b96b-82dd-5e9b-a4fea08839b4     NaN  interval  \n",
       "23625   66e31ec0-2e6c-9882-cbf5-8d572cd18bf1     1.0       NaN  \n",
       "114909  9afa2b75-0f44-b530-4ab1-fb29beac6443     NaN  interval  \n",
       "40464   c6a27614-1632-885b-1e3c-b1e0441b231d     1.0      test  \n",
       "110461  c45944a9-1c69-8692-d6a2-c3462dd6b4d3     0.0       NaN  \n",
       "79579   f787577b-1080-ac9d-e871-40db40c7225f     0.0       NaN  \n",
       "68692   f6b642b7-6fdf-d772-34de-f8e8da949ff1     0.0       NaN  \n",
       "4142                                     NaN     0.0    update  "
      ]
     },
     "execution_count": 10,
     "metadata": {},
     "output_type": "execute_result"
    }
   ],
   "source": [
    "new_df = pd.read_csv('iot_example_with_nulls.csv')\n",
    "new_df.sample(10)"
   ]
  },
  {
   "cell_type": "markdown",
   "metadata": {},
   "source": [
    "We see several fields that are output as `NaN`. Now, to analyse this systematically, we apply [verify_df](https://tdda.readthedocs.io/en/v1.0.31/constraints.html#tdda.constraints.verify_df) to our new DataFrame. Here, `passes` returns the number of passed constraints, and `failures` returns the number of failed constraints."
   ]
  },
  {
   "cell_type": "code",
   "execution_count": 11,
   "metadata": {},
   "outputs": [],
   "source": [
    "v = verify_df(new_df, '../../data/ignore-iot_constraints.tdda')"
   ]
  },
  {
   "cell_type": "code",
   "execution_count": 12,
   "metadata": {},
   "outputs": [
    {
     "data": {
      "text/plain": [
       "<tdda.constraints.pd.constraints.PandasVerification at 0x7fe57a173f70>"
      ]
     },
     "execution_count": 12,
     "metadata": {},
     "output_type": "execute_result"
    }
   ],
   "source": [
    "v"
   ]
  },
  {
   "cell_type": "code",
   "execution_count": 13,
   "metadata": {},
   "outputs": [
    {
     "data": {
      "text/plain": [
       "30"
      ]
     },
     "execution_count": 13,
     "metadata": {},
     "output_type": "execute_result"
    }
   ],
   "source": [
    "v.passes"
   ]
  },
  {
   "cell_type": "code",
   "execution_count": 14,
   "metadata": {},
   "outputs": [
    {
     "data": {
      "text/plain": [
       "3"
      ]
     },
     "execution_count": 14,
     "metadata": {},
     "output_type": "execute_result"
    }
   ],
   "source": [
    "v.failures"
   ]
  },
  {
   "cell_type": "markdown",
   "metadata": {},
   "source": [
    "We can also display which constraints passed and failed in which columns:"
   ]
  },
  {
   "cell_type": "code",
   "execution_count": 15,
   "metadata": {},
   "outputs": [
    {
     "name": "stdout",
     "output_type": "stream",
     "text": [
      "FIELDS:\n",
      "\n",
      "timestamp: 0 failures  5 passes  type ✓  min_length ✓  max_length ✓  max_nulls ✓  no_duplicates ✓\n",
      "\n",
      "username: 0 failures  4 passes  type ✓  min_length ✓  max_length ✓  max_nulls ✓\n",
      "\n",
      "temperature: 1 failure  4 passes  type ✓  min ✓  max ✓  sign ✓  max_nulls ✗\n",
      "\n",
      "heartrate: 0 failures  5 passes  type ✓  min ✓  max ✓  sign ✓  max_nulls ✓\n",
      "\n",
      "build: 1 failure  4 passes  type ✓  min_length ✓  max_length ✓  max_nulls ✗  no_duplicates ✓\n",
      "\n",
      "latest: 1 failure  4 passes  type ✓  min ✓  max ✓  sign ✓  max_nulls ✗\n",
      "\n",
      "note: 0 failures  4 passes  type ✓  min_length ✓  max_length ✓  allowed_values ✓\n",
      "\n",
      "SUMMARY:\n",
      "\n",
      "Constraints passing: 30\n",
      "Constraints failing: 3\n"
     ]
    }
   ],
   "source": [
    "print(str(v))"
   ]
  },
  {
   "cell_type": "markdown",
   "metadata": {},
   "source": [
    "Alternatively, we can also display these results in tabular form:"
   ]
  },
  {
   "cell_type": "code",
   "execution_count": 16,
   "metadata": {},
   "outputs": [
    {
     "data": {
      "text/html": [
       "<div>\n",
       "<style scoped>\n",
       "    .dataframe tbody tr th:only-of-type {\n",
       "        vertical-align: middle;\n",
       "    }\n",
       "\n",
       "    .dataframe tbody tr th {\n",
       "        vertical-align: top;\n",
       "    }\n",
       "\n",
       "    .dataframe thead th {\n",
       "        text-align: right;\n",
       "    }\n",
       "</style>\n",
       "<table border=\"1\" class=\"dataframe\">\n",
       "  <thead>\n",
       "    <tr style=\"text-align: right;\">\n",
       "      <th></th>\n",
       "      <th>field</th>\n",
       "      <th>failures</th>\n",
       "      <th>passes</th>\n",
       "      <th>type</th>\n",
       "      <th>min</th>\n",
       "      <th>min_length</th>\n",
       "      <th>max</th>\n",
       "      <th>max_length</th>\n",
       "      <th>sign</th>\n",
       "      <th>max_nulls</th>\n",
       "      <th>no_duplicates</th>\n",
       "      <th>allowed_values</th>\n",
       "    </tr>\n",
       "  </thead>\n",
       "  <tbody>\n",
       "    <tr>\n",
       "      <th>0</th>\n",
       "      <td>timestamp</td>\n",
       "      <td>0</td>\n",
       "      <td>5</td>\n",
       "      <td>True</td>\n",
       "      <td>NaN</td>\n",
       "      <td>True</td>\n",
       "      <td>NaN</td>\n",
       "      <td>True</td>\n",
       "      <td>NaN</td>\n",
       "      <td>True</td>\n",
       "      <td>True</td>\n",
       "      <td>NaN</td>\n",
       "    </tr>\n",
       "    <tr>\n",
       "      <th>1</th>\n",
       "      <td>username</td>\n",
       "      <td>0</td>\n",
       "      <td>4</td>\n",
       "      <td>True</td>\n",
       "      <td>NaN</td>\n",
       "      <td>True</td>\n",
       "      <td>NaN</td>\n",
       "      <td>True</td>\n",
       "      <td>NaN</td>\n",
       "      <td>True</td>\n",
       "      <td>NaN</td>\n",
       "      <td>NaN</td>\n",
       "    </tr>\n",
       "    <tr>\n",
       "      <th>2</th>\n",
       "      <td>temperature</td>\n",
       "      <td>1</td>\n",
       "      <td>4</td>\n",
       "      <td>True</td>\n",
       "      <td>True</td>\n",
       "      <td>NaN</td>\n",
       "      <td>True</td>\n",
       "      <td>NaN</td>\n",
       "      <td>True</td>\n",
       "      <td>False</td>\n",
       "      <td>NaN</td>\n",
       "      <td>NaN</td>\n",
       "    </tr>\n",
       "    <tr>\n",
       "      <th>3</th>\n",
       "      <td>heartrate</td>\n",
       "      <td>0</td>\n",
       "      <td>5</td>\n",
       "      <td>True</td>\n",
       "      <td>True</td>\n",
       "      <td>NaN</td>\n",
       "      <td>True</td>\n",
       "      <td>NaN</td>\n",
       "      <td>True</td>\n",
       "      <td>True</td>\n",
       "      <td>NaN</td>\n",
       "      <td>NaN</td>\n",
       "    </tr>\n",
       "    <tr>\n",
       "      <th>4</th>\n",
       "      <td>build</td>\n",
       "      <td>1</td>\n",
       "      <td>4</td>\n",
       "      <td>True</td>\n",
       "      <td>NaN</td>\n",
       "      <td>True</td>\n",
       "      <td>NaN</td>\n",
       "      <td>True</td>\n",
       "      <td>NaN</td>\n",
       "      <td>False</td>\n",
       "      <td>True</td>\n",
       "      <td>NaN</td>\n",
       "    </tr>\n",
       "    <tr>\n",
       "      <th>5</th>\n",
       "      <td>latest</td>\n",
       "      <td>1</td>\n",
       "      <td>4</td>\n",
       "      <td>True</td>\n",
       "      <td>True</td>\n",
       "      <td>NaN</td>\n",
       "      <td>True</td>\n",
       "      <td>NaN</td>\n",
       "      <td>True</td>\n",
       "      <td>False</td>\n",
       "      <td>NaN</td>\n",
       "      <td>NaN</td>\n",
       "    </tr>\n",
       "    <tr>\n",
       "      <th>6</th>\n",
       "      <td>note</td>\n",
       "      <td>0</td>\n",
       "      <td>4</td>\n",
       "      <td>True</td>\n",
       "      <td>NaN</td>\n",
       "      <td>True</td>\n",
       "      <td>NaN</td>\n",
       "      <td>True</td>\n",
       "      <td>NaN</td>\n",
       "      <td>NaN</td>\n",
       "      <td>NaN</td>\n",
       "      <td>True</td>\n",
       "    </tr>\n",
       "  </tbody>\n",
       "</table>\n",
       "</div>"
      ],
      "text/plain": [
       "         field  failures  passes  type   min min_length   max max_length  \\\n",
       "0    timestamp         0       5  True   NaN       True   NaN       True   \n",
       "1     username         0       4  True   NaN       True   NaN       True   \n",
       "2  temperature         1       4  True  True        NaN  True        NaN   \n",
       "3    heartrate         0       5  True  True        NaN  True        NaN   \n",
       "4        build         1       4  True   NaN       True   NaN       True   \n",
       "5       latest         1       4  True  True        NaN  True        NaN   \n",
       "6         note         0       4  True   NaN       True   NaN       True   \n",
       "\n",
       "   sign max_nulls no_duplicates allowed_values  \n",
       "0   NaN      True          True            NaN  \n",
       "1   NaN      True           NaN            NaN  \n",
       "2  True     False           NaN            NaN  \n",
       "3  True      True           NaN            NaN  \n",
       "4   NaN     False          True            NaN  \n",
       "5  True     False           NaN            NaN  \n",
       "6   NaN       NaN           NaN           True  "
      ]
     },
     "execution_count": 16,
     "metadata": {},
     "output_type": "execute_result"
    }
   ],
   "source": [
    "v.to_frame()"
   ]
  }
 ],
 "metadata": {
  "kernelspec": {
   "display_name": "Python 3.7.4",
   "language": "python",
   "name": "python-374"
  },
  "language_info": {
   "codemirror_mode": {
    "name": "ipython",
    "version": 3
   },
   "file_extension": ".py",
   "mimetype": "text/x-python",
   "name": "python",
   "nbconvert_exporter": "python",
   "pygments_lexer": "ipython3",
   "version": "3.7.4"
  },
  "latex_envs": {
   "LaTeX_envs_menu_present": true,
   "autoclose": false,
   "autocomplete": true,
   "bibliofile": "biblio.bib",
   "cite_by": "apalike",
   "current_citInitial": 1,
   "eqLabelWithNumbers": true,
   "eqNumInitial": 1,
   "hotkeys": {
    "equation": "Ctrl-E",
    "itemize": "Ctrl-I"
   },
   "labels_anchors": false,
   "latex_user_defs": false,
   "report_style_numbering": false,
   "user_envs_cfg": false
  },
  "widgets": {
   "application/vnd.jupyter.widget-state+json": {
    "state": {},
    "version_major": 2,
    "version_minor": 0
   }
  }
 },
 "nbformat": 4,
 "nbformat_minor": 4
}
