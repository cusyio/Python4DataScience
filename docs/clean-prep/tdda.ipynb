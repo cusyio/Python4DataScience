{
 "cells": [
  {
   "cell_type": "markdown",
   "metadata": {},
   "source": [
    "# TDDA: Test-Driven Data Analysis\n",
    "\n",
    "[TDDA](https://github.com/tdda/tdda) uses file inputs (such as NumPy arrays or Pandas DataFrames) and a set of constraints that are stored as a JSON file.\n",
    "\n",
    "* [Reference Tests](https://tdda.readthedocs.io/en/latest/referencetest.html) supports the creation of reference tests based on either unittest or pytest.\n",
    "* [Constraints](https://tdda.readthedocs.io/en/tdda-1.0.13/constraints.html) is used to retrieve constraints from a (pandas) DataFrame, write them out as JSON and check whether records satisfy the constraints in the constraints file. It also supports tables in a variety of relational databases.\n",
    "* [Rexpy](https://tdda.readthedocs.io/en/v1.0.30/rexpy.html) is a tool for automatically deriving regular expressions from a column in a pandas DataFrame or from a (Python) list of examples."
   ]
  },
  {
   "cell_type": "markdown",
   "metadata": {},
   "source": [
    "## 1. Imports"
   ]
  },
  {
   "cell_type": "code",
   "execution_count": 1,
   "metadata": {},
   "outputs": [],
   "source": [
    "import numpy as np\n",
    "import pandas as pd\n",
    "\n",
    "from tdda.constraints import discover_df, verify_df"
   ]
  },
  {
   "cell_type": "code",
   "execution_count": 2,
   "metadata": {},
   "outputs": [],
   "source": [
    "df = pd.read_csv(\n",
    "    \"https://raw.githubusercontent.com/kjam/data-cleaning-101/master/data/iot_example.csv\"\n",
    ")"
   ]
  },
  {
   "cell_type": "markdown",
   "metadata": {},
   "source": [
    "## 2. Check data\n",
    "\n",
    "With [pandas.DataFrame.sample](https://pandas.pydata.org/docs/reference/api/pandas.DataFrame.sample.html) we display ten random data sets:"
   ]
  },
  {
   "cell_type": "code",
   "execution_count": 3,
   "metadata": {},
   "outputs": [
    {
     "data": {
      "text/html": [
       "<div>\n",
       "<style scoped>\n",
       "    .dataframe tbody tr th:only-of-type {\n",
       "        vertical-align: middle;\n",
       "    }\n",
       "\n",
       "    .dataframe tbody tr th {\n",
       "        vertical-align: top;\n",
       "    }\n",
       "\n",
       "    .dataframe thead th {\n",
       "        text-align: right;\n",
       "    }\n",
       "</style>\n",
       "<table border=\"1\" class=\"dataframe\">\n",
       "  <thead>\n",
       "    <tr style=\"text-align: right;\">\n",
       "      <th></th>\n",
       "      <th>timestamp</th>\n",
       "      <th>username</th>\n",
       "      <th>temperature</th>\n",
       "      <th>heartrate</th>\n",
       "      <th>build</th>\n",
       "      <th>latest</th>\n",
       "      <th>note</th>\n",
       "    </tr>\n",
       "  </thead>\n",
       "  <tbody>\n",
       "    <tr>\n",
       "      <th>34835</th>\n",
       "      <td>2017-01-15T10:01:00</td>\n",
       "      <td>jwilliams</td>\n",
       "      <td>6</td>\n",
       "      <td>89</td>\n",
       "      <td>8aee9cf7-84c6-6935-22ff-9b034d9aa1f4</td>\n",
       "      <td>0</td>\n",
       "      <td>update</td>\n",
       "    </tr>\n",
       "    <tr>\n",
       "      <th>120063</th>\n",
       "      <td>2017-02-18T11:25:06</td>\n",
       "      <td>ericliu</td>\n",
       "      <td>28</td>\n",
       "      <td>77</td>\n",
       "      <td>c1179197-abcc-ee64-2851-cb2ed21baa1a</td>\n",
       "      <td>0</td>\n",
       "      <td>wake</td>\n",
       "    </tr>\n",
       "    <tr>\n",
       "      <th>130072</th>\n",
       "      <td>2017-02-22T11:12:22</td>\n",
       "      <td>lee99</td>\n",
       "      <td>9</td>\n",
       "      <td>79</td>\n",
       "      <td>184d2848-9367-71cb-be72-6bbd57074857</td>\n",
       "      <td>0</td>\n",
       "      <td>NaN</td>\n",
       "    </tr>\n",
       "    <tr>\n",
       "      <th>79530</th>\n",
       "      <td>2017-02-02T07:23:17</td>\n",
       "      <td>jamie46</td>\n",
       "      <td>5</td>\n",
       "      <td>82</td>\n",
       "      <td>1c56c556-2ba0-11fb-5a27-29289487b748</td>\n",
       "      <td>1</td>\n",
       "      <td>wake</td>\n",
       "    </tr>\n",
       "    <tr>\n",
       "      <th>53587</th>\n",
       "      <td>2017-01-22T22:02:38</td>\n",
       "      <td>daniellemacias</td>\n",
       "      <td>26</td>\n",
       "      <td>63</td>\n",
       "      <td>acd9a855-077c-dda7-c73f-7621f3179f17</td>\n",
       "      <td>0</td>\n",
       "      <td>sleep</td>\n",
       "    </tr>\n",
       "    <tr>\n",
       "      <th>112089</th>\n",
       "      <td>2017-02-15T07:04:50</td>\n",
       "      <td>carlosyoung</td>\n",
       "      <td>23</td>\n",
       "      <td>63</td>\n",
       "      <td>71dfc6de-147e-00f1-da89-6e4489a33aba</td>\n",
       "      <td>0</td>\n",
       "      <td>user</td>\n",
       "    </tr>\n",
       "    <tr>\n",
       "      <th>91218</th>\n",
       "      <td>2017-02-06T23:19:13</td>\n",
       "      <td>gutierreznathan</td>\n",
       "      <td>11</td>\n",
       "      <td>72</td>\n",
       "      <td>166e2a51-ae08-bd1f-3cee-3c65a0d5740b</td>\n",
       "      <td>0</td>\n",
       "      <td>NaN</td>\n",
       "    </tr>\n",
       "    <tr>\n",
       "      <th>105807</th>\n",
       "      <td>2017-02-12T18:57:19</td>\n",
       "      <td>gutierrezashley</td>\n",
       "      <td>28</td>\n",
       "      <td>72</td>\n",
       "      <td>9b1984e4-a620-68f6-c639-2db7774fe27c</td>\n",
       "      <td>0</td>\n",
       "      <td>user</td>\n",
       "    </tr>\n",
       "    <tr>\n",
       "      <th>51928</th>\n",
       "      <td>2017-01-22T05:58:03</td>\n",
       "      <td>uschwartz</td>\n",
       "      <td>29</td>\n",
       "      <td>81</td>\n",
       "      <td>54bf638e-68e1-9514-02df-acbc5417443a</td>\n",
       "      <td>0</td>\n",
       "      <td>user</td>\n",
       "    </tr>\n",
       "    <tr>\n",
       "      <th>70436</th>\n",
       "      <td>2017-01-29T15:52:55</td>\n",
       "      <td>crystalunderwood</td>\n",
       "      <td>23</td>\n",
       "      <td>82</td>\n",
       "      <td>8f003e04-509d-e412-0979-0c9f9526f1e8</td>\n",
       "      <td>1</td>\n",
       "      <td>NaN</td>\n",
       "    </tr>\n",
       "  </tbody>\n",
       "</table>\n",
       "</div>"
      ],
      "text/plain": [
       "                  timestamp          username  temperature  heartrate  \\\n",
       "34835   2017-01-15T10:01:00         jwilliams            6         89   \n",
       "120063  2017-02-18T11:25:06           ericliu           28         77   \n",
       "130072  2017-02-22T11:12:22             lee99            9         79   \n",
       "79530   2017-02-02T07:23:17           jamie46            5         82   \n",
       "53587   2017-01-22T22:02:38    daniellemacias           26         63   \n",
       "112089  2017-02-15T07:04:50       carlosyoung           23         63   \n",
       "91218   2017-02-06T23:19:13   gutierreznathan           11         72   \n",
       "105807  2017-02-12T18:57:19   gutierrezashley           28         72   \n",
       "51928   2017-01-22T05:58:03         uschwartz           29         81   \n",
       "70436   2017-01-29T15:52:55  crystalunderwood           23         82   \n",
       "\n",
       "                                       build  latest    note  \n",
       "34835   8aee9cf7-84c6-6935-22ff-9b034d9aa1f4       0  update  \n",
       "120063  c1179197-abcc-ee64-2851-cb2ed21baa1a       0    wake  \n",
       "130072  184d2848-9367-71cb-be72-6bbd57074857       0     NaN  \n",
       "79530   1c56c556-2ba0-11fb-5a27-29289487b748       1    wake  \n",
       "53587   acd9a855-077c-dda7-c73f-7621f3179f17       0   sleep  \n",
       "112089  71dfc6de-147e-00f1-da89-6e4489a33aba       0    user  \n",
       "91218   166e2a51-ae08-bd1f-3cee-3c65a0d5740b       0     NaN  \n",
       "105807  9b1984e4-a620-68f6-c639-2db7774fe27c       0    user  \n",
       "51928   54bf638e-68e1-9514-02df-acbc5417443a       0    user  \n",
       "70436   8f003e04-509d-e412-0979-0c9f9526f1e8       1     NaN  "
      ]
     },
     "execution_count": 3,
     "metadata": {},
     "output_type": "execute_result"
    }
   ],
   "source": [
    "df.sample(10)"
   ]
  },
  {
   "cell_type": "markdown",
   "metadata": {},
   "source": [
    "And with [pandas.DataFrame.dtypes](https://pandas.pydata.org/docs/reference/api/pandas.DataFrame.dtypes.html) we display the data types for the individual columns:"
   ]
  },
  {
   "cell_type": "code",
   "execution_count": 4,
   "metadata": {},
   "outputs": [
    {
     "data": {
      "text/plain": [
       "timestamp      object\n",
       "username       object\n",
       "temperature     int64\n",
       "heartrate       int64\n",
       "build          object\n",
       "latest          int64\n",
       "note           object\n",
       "dtype: object"
      ]
     },
     "execution_count": 4,
     "metadata": {},
     "output_type": "execute_result"
    }
   ],
   "source": [
    "df.dtypes"
   ]
  },
  {
   "cell_type": "markdown",
   "metadata": {},
   "source": [
    "## 3. Creating a constraints object\n",
    "\n",
    "With `discover_constraints` a constraints object can be created."
   ]
  },
  {
   "cell_type": "code",
   "execution_count": 5,
   "metadata": {},
   "outputs": [],
   "source": [
    "constraints = discover_df(df)"
   ]
  },
  {
   "cell_type": "code",
   "execution_count": 6,
   "metadata": {},
   "outputs": [
    {
     "data": {
      "text/plain": [
       "<tdda.constraints.base.DatasetConstraints at 0x161ac2c50>"
      ]
     },
     "execution_count": 6,
     "metadata": {},
     "output_type": "execute_result"
    }
   ],
   "source": [
    "constraints"
   ]
  },
  {
   "cell_type": "code",
   "execution_count": 7,
   "metadata": {},
   "outputs": [
    {
     "data": {
      "text/plain": [
       "Fields([('timestamp', <tdda.constraints.base.FieldConstraints at 0x161ac1350>),\n",
       "        ('username', <tdda.constraints.base.FieldConstraints at 0x161ac1650>),\n",
       "        ('temperature',\n",
       "         <tdda.constraints.base.FieldConstraints at 0x136bc2790>),\n",
       "        ('heartrate', <tdda.constraints.base.FieldConstraints at 0x161ac1f10>),\n",
       "        ('build', <tdda.constraints.base.FieldConstraints at 0x161ac2350>),\n",
       "        ('latest', <tdda.constraints.base.FieldConstraints at 0x161ac2990>),\n",
       "        ('note', <tdda.constraints.base.FieldConstraints at 0x161ac2d50>)])"
      ]
     },
     "execution_count": 7,
     "metadata": {},
     "output_type": "execute_result"
    }
   ],
   "source": [
    "constraints.fields"
   ]
  },
  {
   "cell_type": "markdown",
   "metadata": {},
   "source": [
    "## 4. Writing the constraints into a file"
   ]
  },
  {
   "cell_type": "code",
   "execution_count": 8,
   "metadata": {},
   "outputs": [],
   "source": [
    "with open(\"../../data/ignore-iot_constraints.tdda\", \"w\") as f:\n",
    "    f.write(constraints.to_json())"
   ]
  },
  {
   "cell_type": "markdown",
   "metadata": {},
   "source": [
    "If we take a closer look at the file, we can see that, for example, a string with 19 characters is expected for the `timestamp` column and `temperature` expects integers with values from 5-29."
   ]
  },
  {
   "cell_type": "code",
   "execution_count": 9,
   "metadata": {},
   "outputs": [
    {
     "name": "stdout",
     "output_type": "stream",
     "text": [
      "{\r\n",
      "    \"creation_metadata\": {\r\n",
      "        \"local_time\": \"2023-07-26 18:18:37\",\r\n",
      "        \"utc_time\": \"2023-07-26 16:16:37\",\r\n",
      "        \"creator\": \"TDDA 2.0.09\",\r\n",
      "        \"host\": \"fay.local\",\r\n",
      "        \"user\": \"veit\",\r\n",
      "        \"n_records\": 146397,\r\n",
      "        \"n_selected\": 146397\r\n",
      "    },\r\n",
      "    \"fields\": {\r\n",
      "        \"timestamp\": {\r\n",
      "            \"type\": \"string\",\r\n",
      "            \"min_length\": 19,\r\n",
      "            \"max_length\": 19,\r\n",
      "            \"max_nulls\": 0,\r\n",
      "            \"no_duplicates\": true\r\n",
      "        },\r\n",
      "        \"username\": {\r\n",
      "            \"type\": \"string\",\r\n",
      "            \"min_length\": 3,\r\n",
      "            \"max_length\": 21,\r\n",
      "            \"max_nulls\": 0\r\n",
      "        },\r\n",
      "        \"temperature\": {\r\n",
      "            \"type\": \"int\",\r\n",
      "            \"min\": 5,\r\n",
      "            \"max\": 29,\r\n",
      "            \"sign\": \"positive\",\r\n",
      "            \"max_nulls\": 0\r\n",
      "        },\r\n",
      "        \"heartrate\": {\r\n",
      "            \"type\": \"int\",\r\n",
      "            \"min\": 60,\r\n",
      "            \"max\": 89,\r\n",
      "            \"sign\": \"positive\",\r\n",
      "            \"max_nulls\": 0\r\n",
      "        },\r\n",
      "        \"build\": {\r\n",
      "            \"type\": \"string\",\r\n",
      "            \"min_length\": 36,\r\n",
      "            \"max_length\": 36,\r\n",
      "            \"max_nulls\": 0,\r\n",
      "            \"no_duplicates\": true\r\n",
      "        },\r\n",
      "        \"latest\": {\r\n",
      "            \"type\": \"int\",\r\n",
      "            \"min\": 0,\r\n",
      "            \"max\": 1,\r\n",
      "            \"sign\": \"non-negative\",\r\n",
      "            \"max_nulls\": 0\r\n",
      "        },\r\n",
      "        \"note\": {\r\n",
      "            \"type\": \"string\",\r\n",
      "            \"min_length\": 4,\r\n",
      "            \"max_length\": 8,\r\n",
      "            \"allowed_values\": [\r\n",
      "                \"interval\",\r\n",
      "                \"sleep\",\r\n",
      "                \"test\",\r\n",
      "                \"update\",\r\n",
      "                \"user\",\r\n",
      "                \"wake\"\r\n",
      "            ]\r\n",
      "        }\r\n",
      "    }\r\n",
      "}\r\n"
     ]
    }
   ],
   "source": [
    "!cat ../../data/ignore-iot_constraints.tdda"
   ]
  },
  {
   "cell_type": "markdown",
   "metadata": {},
   "source": [
    "## 5. Checking data frames\n",
    "\n",
    "To do this, we first read in a new csv file with pandas and then have ten data records output as examples:"
   ]
  },
  {
   "cell_type": "code",
   "execution_count": 10,
   "metadata": {},
   "outputs": [
    {
     "data": {
      "text/html": [
       "<div>\n",
       "<style scoped>\n",
       "    .dataframe tbody tr th:only-of-type {\n",
       "        vertical-align: middle;\n",
       "    }\n",
       "\n",
       "    .dataframe tbody tr th {\n",
       "        vertical-align: top;\n",
       "    }\n",
       "\n",
       "    .dataframe thead th {\n",
       "        text-align: right;\n",
       "    }\n",
       "</style>\n",
       "<table border=\"1\" class=\"dataframe\">\n",
       "  <thead>\n",
       "    <tr style=\"text-align: right;\">\n",
       "      <th></th>\n",
       "      <th>timestamp</th>\n",
       "      <th>username</th>\n",
       "      <th>temperature</th>\n",
       "      <th>heartrate</th>\n",
       "      <th>build</th>\n",
       "      <th>latest</th>\n",
       "      <th>note</th>\n",
       "    </tr>\n",
       "  </thead>\n",
       "  <tbody>\n",
       "    <tr>\n",
       "      <th>985</th>\n",
       "      <td>2017-01-01T21:31:32</td>\n",
       "      <td>qmartinez</td>\n",
       "      <td>9.0</td>\n",
       "      <td>85</td>\n",
       "      <td>76f24b19-9d9e-17b8-4d02-c6e6f00e9f13</td>\n",
       "      <td>1.0</td>\n",
       "      <td>NaN</td>\n",
       "    </tr>\n",
       "    <tr>\n",
       "      <th>102620</th>\n",
       "      <td>2017-02-11T12:30:15</td>\n",
       "      <td>laurenwilliams</td>\n",
       "      <td>19.0</td>\n",
       "      <td>85</td>\n",
       "      <td>5ea80d05-56b2-5632-8480-cf3ef40d34a4</td>\n",
       "      <td>0.0</td>\n",
       "      <td>user</td>\n",
       "    </tr>\n",
       "    <tr>\n",
       "      <th>59859</th>\n",
       "      <td>2017-01-25T10:06:55</td>\n",
       "      <td>xwright</td>\n",
       "      <td>22.0</td>\n",
       "      <td>66</td>\n",
       "      <td>NaN</td>\n",
       "      <td>0.0</td>\n",
       "      <td>test</td>\n",
       "    </tr>\n",
       "    <tr>\n",
       "      <th>110018</th>\n",
       "      <td>2017-02-14T11:13:49</td>\n",
       "      <td>wibarra</td>\n",
       "      <td>NaN</td>\n",
       "      <td>68</td>\n",
       "      <td>9d04e55f-c9e1-2ab9-666b-9de0f739431a</td>\n",
       "      <td>0.0</td>\n",
       "      <td>test</td>\n",
       "    </tr>\n",
       "    <tr>\n",
       "      <th>1736</th>\n",
       "      <td>2017-01-02T04:47:11</td>\n",
       "      <td>joshuaperez</td>\n",
       "      <td>NaN</td>\n",
       "      <td>79</td>\n",
       "      <td>3d320343-34f9-bf79-ec39-aaafa061c39c</td>\n",
       "      <td>1.0</td>\n",
       "      <td>NaN</td>\n",
       "    </tr>\n",
       "    <tr>\n",
       "      <th>85078</th>\n",
       "      <td>2017-02-04T12:37:57</td>\n",
       "      <td>oaustin</td>\n",
       "      <td>23.0</td>\n",
       "      <td>63</td>\n",
       "      <td>ccf940cd-9b59-e444-1a68-5f7f7590d5db</td>\n",
       "      <td>0.0</td>\n",
       "      <td>NaN</td>\n",
       "    </tr>\n",
       "    <tr>\n",
       "      <th>145979</th>\n",
       "      <td>2017-02-28T20:00:11</td>\n",
       "      <td>hholder</td>\n",
       "      <td>21.0</td>\n",
       "      <td>77</td>\n",
       "      <td>NaN</td>\n",
       "      <td>0.0</td>\n",
       "      <td>NaN</td>\n",
       "    </tr>\n",
       "    <tr>\n",
       "      <th>37789</th>\n",
       "      <td>2017-01-16T14:12:06</td>\n",
       "      <td>kennethdavis</td>\n",
       "      <td>8.0</td>\n",
       "      <td>62</td>\n",
       "      <td>9bc9bc15-bf2a-7098-bf85-73fa42e30df2</td>\n",
       "      <td>0.0</td>\n",
       "      <td>user</td>\n",
       "    </tr>\n",
       "    <tr>\n",
       "      <th>114849</th>\n",
       "      <td>2017-02-16T09:27:34</td>\n",
       "      <td>bobby64</td>\n",
       "      <td>20.0</td>\n",
       "      <td>67</td>\n",
       "      <td>2c5dc517-d725-bc66-7d6d-25716025476a</td>\n",
       "      <td>0.0</td>\n",
       "      <td>sleep</td>\n",
       "    </tr>\n",
       "    <tr>\n",
       "      <th>107275</th>\n",
       "      <td>2017-02-13T09:05:58</td>\n",
       "      <td>okirby</td>\n",
       "      <td>29.0</td>\n",
       "      <td>64</td>\n",
       "      <td>NaN</td>\n",
       "      <td>1.0</td>\n",
       "      <td>interval</td>\n",
       "    </tr>\n",
       "  </tbody>\n",
       "</table>\n",
       "</div>"
      ],
      "text/plain": [
       "                  timestamp        username  temperature  heartrate  \\\n",
       "985     2017-01-01T21:31:32       qmartinez          9.0         85   \n",
       "102620  2017-02-11T12:30:15  laurenwilliams         19.0         85   \n",
       "59859   2017-01-25T10:06:55         xwright         22.0         66   \n",
       "110018  2017-02-14T11:13:49         wibarra          NaN         68   \n",
       "1736    2017-01-02T04:47:11     joshuaperez          NaN         79   \n",
       "85078   2017-02-04T12:37:57         oaustin         23.0         63   \n",
       "145979  2017-02-28T20:00:11         hholder         21.0         77   \n",
       "37789   2017-01-16T14:12:06    kennethdavis          8.0         62   \n",
       "114849  2017-02-16T09:27:34         bobby64         20.0         67   \n",
       "107275  2017-02-13T09:05:58          okirby         29.0         64   \n",
       "\n",
       "                                       build  latest      note  \n",
       "985     76f24b19-9d9e-17b8-4d02-c6e6f00e9f13     1.0       NaN  \n",
       "102620  5ea80d05-56b2-5632-8480-cf3ef40d34a4     0.0      user  \n",
       "59859                                    NaN     0.0      test  \n",
       "110018  9d04e55f-c9e1-2ab9-666b-9de0f739431a     0.0      test  \n",
       "1736    3d320343-34f9-bf79-ec39-aaafa061c39c     1.0       NaN  \n",
       "85078   ccf940cd-9b59-e444-1a68-5f7f7590d5db     0.0       NaN  \n",
       "145979                                   NaN     0.0       NaN  \n",
       "37789   9bc9bc15-bf2a-7098-bf85-73fa42e30df2     0.0      user  \n",
       "114849  2c5dc517-d725-bc66-7d6d-25716025476a     0.0     sleep  \n",
       "107275                                   NaN     1.0  interval  "
      ]
     },
     "execution_count": 10,
     "metadata": {},
     "output_type": "execute_result"
    }
   ],
   "source": [
    "new_df = pd.read_csv(\n",
    "    \"https://raw.githubusercontent.com/kjam/data-cleaning-101/master/data/iot_example_with_nulls.csv\"\n",
    ")\n",
    "new_df.sample(10)"
   ]
  },
  {
   "cell_type": "markdown",
   "metadata": {},
   "source": [
    "We see several fields that are output as `NaN`. Now, to analyse this systematically, we apply [verify_df](https://tdda.readthedocs.io/en/v1.0.31/constraints.html#tdda.constraints.verify_df) to our new DataFrame. Here, `passes` returns the number of passed constraints, and `failures` returns the number of failed constraints."
   ]
  },
  {
   "cell_type": "code",
   "execution_count": 11,
   "metadata": {},
   "outputs": [],
   "source": [
    "v = verify_df(new_df, '../../data/ignore-iot_constraints.tdda')"
   ]
  },
  {
   "cell_type": "code",
   "execution_count": 12,
   "metadata": {},
   "outputs": [
    {
     "data": {
      "text/plain": [
       "<tdda.constraints.pd.constraints.PandasVerification at 0x1636e7450>"
      ]
     },
     "execution_count": 12,
     "metadata": {},
     "output_type": "execute_result"
    }
   ],
   "source": [
    "v"
   ]
  },
  {
   "cell_type": "code",
   "execution_count": 13,
   "metadata": {},
   "outputs": [
    {
     "data": {
      "text/plain": [
       "30"
      ]
     },
     "execution_count": 13,
     "metadata": {},
     "output_type": "execute_result"
    }
   ],
   "source": [
    "v.passes"
   ]
  },
  {
   "cell_type": "code",
   "execution_count": 14,
   "metadata": {},
   "outputs": [
    {
     "data": {
      "text/plain": [
       "3"
      ]
     },
     "execution_count": 14,
     "metadata": {},
     "output_type": "execute_result"
    }
   ],
   "source": [
    "v.failures"
   ]
  },
  {
   "cell_type": "markdown",
   "metadata": {},
   "source": [
    "We can also display which constraints passed and failed in which columns:"
   ]
  },
  {
   "cell_type": "code",
   "execution_count": 15,
   "metadata": {},
   "outputs": [
    {
     "name": "stdout",
     "output_type": "stream",
     "text": [
      "FIELDS:\n",
      "\n",
      "timestamp: 0 failures  5 passes  type ✓  min_length ✓  max_length ✓  max_nulls ✓  no_duplicates ✓\n",
      "\n",
      "username: 0 failures  4 passes  type ✓  min_length ✓  max_length ✓  max_nulls ✓\n",
      "\n",
      "temperature: 1 failure  4 passes  type ✓  min ✓  max ✓  sign ✓  max_nulls ✗\n",
      "\n",
      "heartrate: 0 failures  5 passes  type ✓  min ✓  max ✓  sign ✓  max_nulls ✓\n",
      "\n",
      "build: 1 failure  4 passes  type ✓  min_length ✓  max_length ✓  max_nulls ✗  no_duplicates ✓\n",
      "\n",
      "latest: 1 failure  4 passes  type ✓  min ✓  max ✓  sign ✓  max_nulls ✗\n",
      "\n",
      "note: 0 failures  4 passes  type ✓  min_length ✓  max_length ✓  allowed_values ✓\n",
      "\n",
      "SUMMARY:\n",
      "\n",
      "Constraints passing: 30\n",
      "Constraints failing: 3\n"
     ]
    }
   ],
   "source": [
    "print(str(v))"
   ]
  },
  {
   "cell_type": "markdown",
   "metadata": {},
   "source": [
    "Alternatively, we can also display these results in tabular form:"
   ]
  },
  {
   "cell_type": "code",
   "execution_count": 16,
   "metadata": {},
   "outputs": [
    {
     "data": {
      "text/html": [
       "<div>\n",
       "<style scoped>\n",
       "    .dataframe tbody tr th:only-of-type {\n",
       "        vertical-align: middle;\n",
       "    }\n",
       "\n",
       "    .dataframe tbody tr th {\n",
       "        vertical-align: top;\n",
       "    }\n",
       "\n",
       "    .dataframe thead th {\n",
       "        text-align: right;\n",
       "    }\n",
       "</style>\n",
       "<table border=\"1\" class=\"dataframe\">\n",
       "  <thead>\n",
       "    <tr style=\"text-align: right;\">\n",
       "      <th></th>\n",
       "      <th>field</th>\n",
       "      <th>failures</th>\n",
       "      <th>passes</th>\n",
       "      <th>type</th>\n",
       "      <th>min</th>\n",
       "      <th>min_length</th>\n",
       "      <th>max</th>\n",
       "      <th>max_length</th>\n",
       "      <th>sign</th>\n",
       "      <th>max_nulls</th>\n",
       "      <th>no_duplicates</th>\n",
       "      <th>allowed_values</th>\n",
       "    </tr>\n",
       "  </thead>\n",
       "  <tbody>\n",
       "    <tr>\n",
       "      <th>0</th>\n",
       "      <td>timestamp</td>\n",
       "      <td>0</td>\n",
       "      <td>5</td>\n",
       "      <td>True</td>\n",
       "      <td>NaN</td>\n",
       "      <td>True</td>\n",
       "      <td>NaN</td>\n",
       "      <td>True</td>\n",
       "      <td>NaN</td>\n",
       "      <td>True</td>\n",
       "      <td>True</td>\n",
       "      <td>NaN</td>\n",
       "    </tr>\n",
       "    <tr>\n",
       "      <th>1</th>\n",
       "      <td>username</td>\n",
       "      <td>0</td>\n",
       "      <td>4</td>\n",
       "      <td>True</td>\n",
       "      <td>NaN</td>\n",
       "      <td>True</td>\n",
       "      <td>NaN</td>\n",
       "      <td>True</td>\n",
       "      <td>NaN</td>\n",
       "      <td>True</td>\n",
       "      <td>NaN</td>\n",
       "      <td>NaN</td>\n",
       "    </tr>\n",
       "    <tr>\n",
       "      <th>2</th>\n",
       "      <td>temperature</td>\n",
       "      <td>1</td>\n",
       "      <td>4</td>\n",
       "      <td>True</td>\n",
       "      <td>True</td>\n",
       "      <td>NaN</td>\n",
       "      <td>True</td>\n",
       "      <td>NaN</td>\n",
       "      <td>True</td>\n",
       "      <td>False</td>\n",
       "      <td>NaN</td>\n",
       "      <td>NaN</td>\n",
       "    </tr>\n",
       "    <tr>\n",
       "      <th>3</th>\n",
       "      <td>heartrate</td>\n",
       "      <td>0</td>\n",
       "      <td>5</td>\n",
       "      <td>True</td>\n",
       "      <td>True</td>\n",
       "      <td>NaN</td>\n",
       "      <td>True</td>\n",
       "      <td>NaN</td>\n",
       "      <td>True</td>\n",
       "      <td>True</td>\n",
       "      <td>NaN</td>\n",
       "      <td>NaN</td>\n",
       "    </tr>\n",
       "    <tr>\n",
       "      <th>4</th>\n",
       "      <td>build</td>\n",
       "      <td>1</td>\n",
       "      <td>4</td>\n",
       "      <td>True</td>\n",
       "      <td>NaN</td>\n",
       "      <td>True</td>\n",
       "      <td>NaN</td>\n",
       "      <td>True</td>\n",
       "      <td>NaN</td>\n",
       "      <td>False</td>\n",
       "      <td>True</td>\n",
       "      <td>NaN</td>\n",
       "    </tr>\n",
       "    <tr>\n",
       "      <th>5</th>\n",
       "      <td>latest</td>\n",
       "      <td>1</td>\n",
       "      <td>4</td>\n",
       "      <td>True</td>\n",
       "      <td>True</td>\n",
       "      <td>NaN</td>\n",
       "      <td>True</td>\n",
       "      <td>NaN</td>\n",
       "      <td>True</td>\n",
       "      <td>False</td>\n",
       "      <td>NaN</td>\n",
       "      <td>NaN</td>\n",
       "    </tr>\n",
       "    <tr>\n",
       "      <th>6</th>\n",
       "      <td>note</td>\n",
       "      <td>0</td>\n",
       "      <td>4</td>\n",
       "      <td>True</td>\n",
       "      <td>NaN</td>\n",
       "      <td>True</td>\n",
       "      <td>NaN</td>\n",
       "      <td>True</td>\n",
       "      <td>NaN</td>\n",
       "      <td>NaN</td>\n",
       "      <td>NaN</td>\n",
       "      <td>True</td>\n",
       "    </tr>\n",
       "  </tbody>\n",
       "</table>\n",
       "</div>"
      ],
      "text/plain": [
       "         field  failures  passes  type   min min_length   max max_length  \\\n",
       "0    timestamp         0       5  True   NaN       True   NaN       True   \n",
       "1     username         0       4  True   NaN       True   NaN       True   \n",
       "2  temperature         1       4  True  True        NaN  True        NaN   \n",
       "3    heartrate         0       5  True  True        NaN  True        NaN   \n",
       "4        build         1       4  True   NaN       True   NaN       True   \n",
       "5       latest         1       4  True  True        NaN  True        NaN   \n",
       "6         note         0       4  True   NaN       True   NaN       True   \n",
       "\n",
       "   sign max_nulls no_duplicates allowed_values  \n",
       "0   NaN      True          True            NaN  \n",
       "1   NaN      True           NaN            NaN  \n",
       "2  True     False           NaN            NaN  \n",
       "3  True      True           NaN            NaN  \n",
       "4   NaN     False          True            NaN  \n",
       "5  True     False           NaN            NaN  \n",
       "6   NaN       NaN           NaN           True  "
      ]
     },
     "execution_count": 16,
     "metadata": {},
     "output_type": "execute_result"
    }
   ],
   "source": [
    "v.to_frame()"
   ]
  }
 ],
 "metadata": {
  "kernelspec": {
   "display_name": "Python 3.11 Kernel",
   "language": "python",
   "name": "python311"
  },
  "language_info": {
   "codemirror_mode": {
    "name": "ipython",
    "version": 3
   },
   "file_extension": ".py",
   "mimetype": "text/x-python",
   "name": "python",
   "nbconvert_exporter": "python",
   "pygments_lexer": "ipython3",
   "version": "3.11.4"
  },
  "latex_envs": {
   "LaTeX_envs_menu_present": true,
   "autoclose": false,
   "autocomplete": true,
   "bibliofile": "biblio.bib",
   "cite_by": "apalike",
   "current_citInitial": 1,
   "eqLabelWithNumbers": true,
   "eqNumInitial": 1,
   "hotkeys": {
    "equation": "Ctrl-E",
    "itemize": "Ctrl-I"
   },
   "labels_anchors": false,
   "latex_user_defs": false,
   "report_style_numbering": false,
   "user_envs_cfg": false
  },
  "widgets": {
   "application/vnd.jupyter.widget-state+json": {
    "state": {},
    "version_major": 2,
    "version_minor": 0
   }
  }
 },
 "nbformat": 4,
 "nbformat_minor": 4
}
