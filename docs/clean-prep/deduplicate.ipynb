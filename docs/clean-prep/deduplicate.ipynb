{
 "cells": [
  {
   "cell_type": "markdown",
   "metadata": {},
   "source": [
    "# Daten deduplizieren\n",
    "\n",
    "In diesem Notebook deduplizieren wir Daten mithilfe der [Dedupe](https://dedupe.readthedocs.io/en/latest/)-Bibliothek, die ein flaches neuronales Netzwerk verwendet, um aus einem kleinen Training zu lernen.\n",
    "\n",
    "Zudem haben dieselben Entwickler\\*innen [parserator](https://github.com/datamade/parserator) erstellt, mit dem Ihr Textfunktionen extrahieren und Eure eigenen Textextraktion trainieren könnt. "
   ]
  },
  {
   "cell_type": "markdown",
   "metadata": {},
   "source": [
    "## 1. Importe"
   ]
  },
  {
   "cell_type": "code",
   "execution_count": 1,
   "metadata": {},
   "outputs": [],
   "source": [
    "import pandas as pd\n",
    "import dedupe\n",
    "import os"
   ]
  },
  {
   "cell_type": "code",
   "execution_count": 2,
   "metadata": {},
   "outputs": [],
   "source": [
    "customers = pd.read_csv('https://raw.githubusercontent.com/kjam/data-cleaning-101/master/data/customer_data_duped.csv', \n",
    "                        encoding='utf-8')"
   ]
  },
  {
   "cell_type": "markdown",
   "metadata": {},
   "source": [
    "## 2. Datenqualität überprüfen"
   ]
  },
  {
   "cell_type": "code",
   "execution_count": 3,
   "metadata": {},
   "outputs": [
    {
     "data": {
      "text/html": [
       "<div>\n",
       "<style scoped>\n",
       "    .dataframe tbody tr th:only-of-type {\n",
       "        vertical-align: middle;\n",
       "    }\n",
       "\n",
       "    .dataframe tbody tr th {\n",
       "        vertical-align: top;\n",
       "    }\n",
       "\n",
       "    .dataframe thead th {\n",
       "        text-align: right;\n",
       "    }\n",
       "</style>\n",
       "<table border=\"1\" class=\"dataframe\">\n",
       "  <thead>\n",
       "    <tr style=\"text-align: right;\">\n",
       "      <th></th>\n",
       "      <th>name</th>\n",
       "      <th>job</th>\n",
       "      <th>company</th>\n",
       "      <th>street_address</th>\n",
       "      <th>city</th>\n",
       "      <th>state</th>\n",
       "      <th>email</th>\n",
       "      <th>user_name</th>\n",
       "    </tr>\n",
       "  </thead>\n",
       "  <tbody>\n",
       "    <tr>\n",
       "      <th>0</th>\n",
       "      <td>Patricia Schaefer</td>\n",
       "      <td>Programmer, systems</td>\n",
       "      <td>Estrada-Best</td>\n",
       "      <td>398 Paul Drive</td>\n",
       "      <td>Christianview</td>\n",
       "      <td>Delaware</td>\n",
       "      <td>lambdavid@gmail.com</td>\n",
       "      <td>ndavidson</td>\n",
       "    </tr>\n",
       "    <tr>\n",
       "      <th>1</th>\n",
       "      <td>Olivie Dubois</td>\n",
       "      <td>Ingénieur recherche et développement en agroal...</td>\n",
       "      <td>Moreno</td>\n",
       "      <td>rue Lucas Benard</td>\n",
       "      <td>Saint Anastasie-les-Bains</td>\n",
       "      <td>AR</td>\n",
       "      <td>berthelotjacqueline@mahe.fr</td>\n",
       "      <td>manonallain</td>\n",
       "    </tr>\n",
       "    <tr>\n",
       "      <th>2</th>\n",
       "      <td>Mary Davies-Kirk</td>\n",
       "      <td>Public affairs consultant</td>\n",
       "      <td>Baker Ltd</td>\n",
       "      <td>Flat 3\\nPugh mews</td>\n",
       "      <td>Stanleyfurt</td>\n",
       "      <td>ZA</td>\n",
       "      <td>middletonconor@hotmail.com</td>\n",
       "      <td>colemanmichael</td>\n",
       "    </tr>\n",
       "    <tr>\n",
       "      <th>3</th>\n",
       "      <td>Miroslawa Eckbauer</td>\n",
       "      <td>Dispensing optician</td>\n",
       "      <td>Ladeck GmbH</td>\n",
       "      <td>Mijo-Lübs-Straße 12</td>\n",
       "      <td>Neubrandenburg</td>\n",
       "      <td>Berlin</td>\n",
       "      <td>sophia01@yahoo.de</td>\n",
       "      <td>romanjunitz</td>\n",
       "    </tr>\n",
       "    <tr>\n",
       "      <th>4</th>\n",
       "      <td>Richard Bauer</td>\n",
       "      <td>Accountant, chartered certified</td>\n",
       "      <td>Hoffman-Rocha</td>\n",
       "      <td>6541 Rodriguez Wall</td>\n",
       "      <td>Carlosmouth</td>\n",
       "      <td>Texas</td>\n",
       "      <td>tross@jensen-ware.org</td>\n",
       "      <td>adam78</td>\n",
       "    </tr>\n",
       "  </tbody>\n",
       "</table>\n",
       "</div>"
      ],
      "text/plain": [
       "                 name                                                job  \\\n",
       "0   Patricia Schaefer                                Programmer, systems   \n",
       "1       Olivie Dubois  Ingénieur recherche et développement en agroal...   \n",
       "2    Mary Davies-Kirk                          Public affairs consultant   \n",
       "3  Miroslawa Eckbauer                                Dispensing optician   \n",
       "4       Richard Bauer                    Accountant, chartered certified   \n",
       "\n",
       "         company       street_address                       city     state  \\\n",
       "0   Estrada-Best       398 Paul Drive              Christianview  Delaware   \n",
       "1         Moreno     rue Lucas Benard  Saint Anastasie-les-Bains        AR   \n",
       "2      Baker Ltd    Flat 3\\nPugh mews                Stanleyfurt        ZA   \n",
       "3    Ladeck GmbH  Mijo-Lübs-Straße 12             Neubrandenburg    Berlin   \n",
       "4  Hoffman-Rocha  6541 Rodriguez Wall                Carlosmouth     Texas   \n",
       "\n",
       "                         email       user_name  \n",
       "0          lambdavid@gmail.com       ndavidson  \n",
       "1  berthelotjacqueline@mahe.fr     manonallain  \n",
       "2   middletonconor@hotmail.com  colemanmichael  \n",
       "3            sophia01@yahoo.de     romanjunitz  \n",
       "4        tross@jensen-ware.org          adam78  "
      ]
     },
     "execution_count": 3,
     "metadata": {},
     "output_type": "execute_result"
    }
   ],
   "source": [
    "customers.head()"
   ]
  },
  {
   "cell_type": "code",
   "execution_count": 4,
   "metadata": {},
   "outputs": [
    {
     "data": {
      "text/plain": [
       "name              object\n",
       "job               object\n",
       "company           object\n",
       "street_address    object\n",
       "city              object\n",
       "state             object\n",
       "email             object\n",
       "user_name         object\n",
       "dtype: object"
      ]
     },
     "execution_count": 4,
     "metadata": {},
     "output_type": "execute_result"
    }
   ],
   "source": [
    "customers.dtypes"
   ]
  },
  {
   "cell_type": "code",
   "execution_count": 5,
   "metadata": {},
   "outputs": [
    {
     "name": "stdout",
     "output_type": "stream",
     "text": [
      "name 0\n",
      "job 0\n",
      "company 0\n",
      "street_address 0\n",
      "city 0\n",
      "state 0\n",
      "email 0\n",
      "user_name 0\n"
     ]
    }
   ],
   "source": [
    "for col in customers.columns:\n",
    "    print(col, customers[col].isnull().sum())"
   ]
  },
  {
   "cell_type": "markdown",
   "metadata": {},
   "source": [
    "## 3. Dedupe konfigurieren\n",
    "\n",
    "Nun definieren wir die Felder, auf die bei der Deduplizierung geachtet werden soll und erstellen ein neues `deduper`-Objekt:"
   ]
  },
  {
   "cell_type": "code",
   "execution_count": 6,
   "metadata": {},
   "outputs": [],
   "source": [
    "variables = [\n",
    "    {'field': 'name', 'type': 'String'},\n",
    "    {'field': 'job', 'type': 'String'},\n",
    "    {'field': 'company', 'type': 'String'},  \n",
    "    {'field': 'street_address','type': 'String'},\n",
    "    {'field': 'city','type': 'String'},\n",
    "    {'field': 'state', 'type': 'String', 'has_missing': True},\n",
    "    {'field': 'email', 'type': 'String', 'has_missing': True},\n",
    "    {'field': 'user_name', 'type': 'String'},\n",
    "]\n",
    "\n",
    "deduper = dedupe.Dedupe(variables)"
   ]
  },
  {
   "cell_type": "code",
   "execution_count": 7,
   "metadata": {},
   "outputs": [
    {
     "data": {
      "text/plain": [
       "<dedupe.api.Dedupe at 0x1226c6ac8>"
      ]
     },
     "execution_count": 7,
     "metadata": {},
     "output_type": "execute_result"
    }
   ],
   "source": [
    "deduper"
   ]
  },
  {
   "cell_type": "code",
   "execution_count": 8,
   "metadata": {},
   "outputs": [
    {
     "data": {
      "text/plain": [
       "(2080, 8)"
      ]
     },
     "execution_count": 8,
     "metadata": {},
     "output_type": "execute_result"
    }
   ],
   "source": [
    "customers.shape"
   ]
  },
  {
   "cell_type": "markdown",
   "metadata": {},
   "source": [
    "## 4. Trainingsdaten erstellen"
   ]
  },
  {
   "cell_type": "code",
   "execution_count": 9,
   "metadata": {},
   "outputs": [
    {
     "name": "stderr",
     "output_type": "stream",
     "text": [
      "INFO:dedupe.training:Final predicate set:\n",
      "INFO:dedupe.training:(SimplePredicate: (commonThreeTokens, job), SimplePredicate: (twoGramFingerprint, user_name))\n"
     ]
    }
   ],
   "source": [
    "deduper.prepare_training(customers.T.to_dict())"
   ]
  },
  {
   "cell_type": "markdown",
   "metadata": {},
   "source": [
    "## 5. Aktives Lernen\n",
    "\n",
    "Wenn Dedupe ein Datensatzpaar findet, werdet Ihr gebeten, es als Duplikat zu kennzeichnen. Ihr könnt hierfürdie Tasten `y`, `n` und `u`, um Duplikate zu kennzeichnen. Drückt `f`, wenn Ihr fertig seid."
   ]
  },
  {
   "cell_type": "code",
   "execution_count": 10,
   "metadata": {},
   "outputs": [
    {
     "name": "stderr",
     "output_type": "stream",
     "text": [
      "name : Julio Agustín Amaya\n",
      "job : Tax adviser\n",
      "company : Piñol, Belmonte and Codina\n",
      "street_address : Callejón de Gregorio Bustamante 28 Piso 7 \n",
      "city : Las Palmas\n",
      "state : Salamanca\n",
      "email : usolana@jáuregui-pedraza.com\n",
      "user_name : gloriaolmo\n",
      "\n",
      "name : Julio Agustín Amaya\n",
      "job : Tax aviser\n",
      "company : Piñolk Belmonke and Codina\n",
      "street_address : Calleón de Gregorio Bustamante 28 Piso 7 \n",
      "city : La Pala\n",
      "state : Salamanca\n",
      "email : usolana@jáuregui-pedraza.om\n",
      "user_name : gloriaolmo\n",
      "\n",
      "0/10 positive, 0/10 negative\n",
      "Do these records refer to the same thing?\n",
      "(y)es / (n)o / (u)nsure / (f)inished\n"
     ]
    },
    {
     "name": "stdout",
     "output_type": "stream",
     "text": [
      "y\n"
     ]
    },
    {
     "name": "stderr",
     "output_type": "stream",
     "text": [
      "name : Frédérique Lejeune-Daniel\n",
      "job : Technicien chimiste\n",
      "company : Schmitt\n",
      "street_address : chemin Denise Ferrand\n",
      "city : Saint CharlotteVille\n",
      "state : IE\n",
      "email : jchretien@costa.com\n",
      "user_name : joseph60\n",
      "\n",
      "name : Frédérique Lejeune-Daniel\n",
      "job : Tecce cse\n",
      "company : Sctmitt\n",
      "street_address : chemin Denise Ferrand\n",
      "city : Saint ChalotteVille\n",
      "state : IE\n",
      "email : jchretien@costacom\n",
      "user_name : joseph60\n",
      "\n",
      "1/10 positive, 0/10 negative\n",
      "Do these records refer to the same thing?\n",
      "(y)es / (n)o / (u)nsure / (f)inished / (p)revious\n"
     ]
    },
    {
     "name": "stdout",
     "output_type": "stream",
     "text": [
      "y\n"
     ]
    },
    {
     "name": "stderr",
     "output_type": "stream",
     "text": [
      "INFO:dedupe.training:Final predicate set:\n",
      "INFO:dedupe.training:(SimplePredicate: (commonThreeTokens, street_address), SimplePredicate: (oneGramFingerprint, user_name))\n",
      "name : Monique Marty\n",
      "job : Maoqiie\n",
      "company : Arnfud\n",
      "street_address : 70, rue de Carre\n",
      "city : CheallierBour\n",
      "state : EC\n",
      "email : frederiquerichard@cohen.com\n",
      "user_name : marquesseastie\n",
      "\n",
      "name : Monique Marty\n",
      "job : Maroquinier\n",
      "company : Arnaud\n",
      "street_address : 70, rue de Carre\n",
      "city : ChevallierBourg\n",
      "state : EC\n",
      "email : frederiquerichard@cohen.com\n",
      "user_name : marquessebastien\n",
      "\n",
      "2/10 positive, 0/10 negative\n",
      "Do these records refer to the same thing?\n",
      "(y)es / (n)o / (u)nsure / (f)inished / (p)revious\n"
     ]
    },
    {
     "name": "stdout",
     "output_type": "stream",
     "text": [
      "y\n"
     ]
    },
    {
     "name": "stderr",
     "output_type": "stream",
     "text": [
      "name : Kenneth Moore\n",
      "job : Magazine journalist\n",
      "company : Cross, Bell and Diaz\n",
      "street_address : 75443 Lindsey Pine\n",
      "city : Thompsonshire\n",
      "state : Colorado\n",
      "email : ashley28@rice.com\n",
      "user_name : todd72\n",
      "\n",
      "name : Kenneth Moore\n",
      "job : Magazine journalist\n",
      "company : Cross, Bfll anf Diaz\n",
      "street_address : 753 Lindsey Pine\n",
      "city : Thompsonshe\n",
      "state : Colorao\n",
      "email : ashey28@rice.co\n",
      "user_name : todd72\n",
      "\n",
      "3/10 positive, 0/10 negative\n",
      "Do these records refer to the same thing?\n",
      "(y)es / (n)o / (u)nsure / (f)inished / (p)revious\n"
     ]
    },
    {
     "name": "stdout",
     "output_type": "stream",
     "text": [
      "y\n"
     ]
    },
    {
     "name": "stderr",
     "output_type": "stream",
     "text": [
      "INFO:dedupe.training:Final predicate set:\n",
      "INFO:dedupe.training:(SimplePredicate: (commonThreeTokens, street_address), SimplePredicate: (sameSevenCharStartPredicate, user_name))\n",
      "name : Sarah Hoffman\n",
      "job : Exhibition designer\n",
      "company : Henson, Wiley and Ryan\n",
      "street_address : 97490 Curtis Spur Suite 825\n",
      "city : Josephtown\n",
      "state : Arizona\n",
      "email : ncole@yahoo.com\n",
      "user_name : csmith\n",
      "\n",
      "name : Sarah Hoffman\n",
      "job : Exhibitin designe\n",
      "company : Hensont Wiley and Ryan\n",
      "street_address : 9490 Curts Spur Sute 82\n",
      "city : Jseptwn\n",
      "state : Arizona\n",
      "email : ncole@yahoo.com\n",
      "user_name : csmith\n",
      "\n",
      "4/10 positive, 0/10 negative\n",
      "Do these records refer to the same thing?\n",
      "(y)es / (n)o / (u)nsure / (f)inished / (p)revious\n"
     ]
    },
    {
     "name": "stdout",
     "output_type": "stream",
     "text": [
      "y\n"
     ]
    },
    {
     "name": "stderr",
     "output_type": "stream",
     "text": [
      "INFO:dedupe.training:Final predicate set:\n",
      "INFO:dedupe.training:(SimplePredicate: (commonThreeTokens, street_address), SimplePredicate: (sameSevenCharStartPredicate, user_name))\n",
      "INFO:dedupe.training:(SimplePredicate: (alphaNumericPredicate, user_name), SimplePredicate: (commonTwoTokens, job))\n",
      "name : Jose Carlos Pérez Arias\n",
      "job : Engineer, maintenance (IT)\n",
      "company : Marquez PLC\n",
      "street_address : Pasadizo Ángel Sureda 715 Piso 3 \n",
      "city : La Rioja\n",
      "state : Córdoba\n",
      "email : cifuentesraquel@peralta.com\n",
      "user_name : gonzalo63\n",
      "\n",
      "name : Jose Carlos Pérez Arias\n",
      "job : Egieer, maiteace (IT)\n",
      "company : Marquez PLC\n",
      "street_address : Psdizo Ángel Sured 715 Piso  \n",
      "city : La Rioja\n",
      "state : Córdob\n",
      "email : ifuenteraque@perata.om\n",
      "user_name : gonzalo6\n",
      "\n",
      "5/10 positive, 0/10 negative\n",
      "Do these records refer to the same thing?\n",
      "(y)es / (n)o / (u)nsure / (f)inished / (p)revious\n"
     ]
    },
    {
     "name": "stdout",
     "output_type": "stream",
     "text": [
      "y\n"
     ]
    },
    {
     "name": "stderr",
     "output_type": "stream",
     "text": [
      "INFO:dedupe.training:Final predicate set:\n",
      "INFO:dedupe.training:(SimplePredicate: (commonThreeTokens, street_address), SimplePredicate: (sameSevenCharStartPredicate, user_name))\n",
      "INFO:dedupe.training:(SimplePredicate: (commonThreeTokens, company), SimplePredicate: (twoGramFingerprint, email))\n",
      "INFO:dedupe.training:(SimplePredicate: (alphaNumericPredicate, user_name), SimplePredicate: (commonTwoTokens, job))\n",
      "name : Luc Weber\n",
      "job : Chrgé d'res en géne clmtqe\n",
      "company : Perez\n",
      "street_address : rue Da Silva\n",
      "city : Rxdan\n",
      "state : IS\n",
      "email : rousseauedih@bouyge.fr\n",
      "user_name : alexadrialaroce\n",
      "\n",
      "name : Luc Weber\n",
      "job : Chargé d'affaires en génie climatique\n",
      "company : Perez\n",
      "street_address : rue Da Silva\n",
      "city : Rouxdan\n",
      "state : IS\n",
      "email : rousseauedith@bouygtel.fr\n",
      "user_name : alexandrialaroche\n",
      "\n",
      "6/10 positive, 0/10 negative\n",
      "Do these records refer to the same thing?\n",
      "(y)es / (n)o / (u)nsure / (f)inished / (p)revious\n"
     ]
    },
    {
     "name": "stdout",
     "output_type": "stream",
     "text": [
      "y\n"
     ]
    },
    {
     "name": "stderr",
     "output_type": "stream",
     "text": [
      "INFO:dedupe.training:Final predicate set:\n",
      "INFO:dedupe.training:(SimplePredicate: (commonThreeTokens, street_address), SimplePredicate: (sameSevenCharStartPredicate, user_name))\n",
      "INFO:dedupe.training:(SimplePredicate: (commonThreeTokens, company), SimplePredicate: (twoGramFingerprint, email))\n",
      "INFO:dedupe.training:(SimplePredicate: (alphaNumericPredicate, user_name), SimplePredicate: (commonTwoTokens, job))\n",
      "INFO:dedupe.training:(SimplePredicate: (commonTwoTokens, city), SimplePredicate: (twoGramFingerprint, company))\n",
      "name : Gerhart Krebs MBA.\n",
      "job : Sugeo\n",
      "company : Roskoth\n",
      "street_address : Kühnertweg 83\n",
      "city : Stade\n",
      "state : Bayer\n",
      "email : oav44@oader.de\n",
      "user_name : bettyhahn\n",
      "\n",
      "name : Gerhart Krebs MBA.\n",
      "job : Surgeon\n",
      "company : Roskoth\n",
      "street_address : Kühnertweg 863\n",
      "city : Stade\n",
      "state : Bayern\n",
      "email : olav44@bolander.de\n",
      "user_name : bettyhahn\n",
      "\n",
      "7/10 positive, 0/10 negative\n",
      "Do these records refer to the same thing?\n",
      "(y)es / (n)o / (u)nsure / (f)inished / (p)revious\n"
     ]
    },
    {
     "name": "stdout",
     "output_type": "stream",
     "text": [
      "y\n"
     ]
    },
    {
     "name": "stderr",
     "output_type": "stream",
     "text": [
      "INFO:dedupe.training:Final predicate set:\n",
      "INFO:dedupe.training:(SimplePredicate: (commonThreeTokens, street_address), SimplePredicate: (sameSevenCharStartPredicate, user_name))\n",
      "INFO:dedupe.training:(SimplePredicate: (commonThreeTokens, company), SimplePredicate: (twoGramFingerprint, email))\n",
      "INFO:dedupe.training:(SimplePredicate: (alphaNumericPredicate, user_name), SimplePredicate: (commonTwoTokens, job))\n",
      "INFO:dedupe.training:(SimplePredicate: (commonTwoTokens, city), SimplePredicate: (twoGramFingerprint, company))\n",
      "INFO:dedupe.training:(SimplePredicate: (fingerprint, company), SimplePredicate: (twoGramFingerprint, street_address))\n",
      "name : Richard Lemaitre\n",
      "job : Vendeur-conseil en matériel agricole\n",
      "company : Begue\n",
      "street_address : 38, chemin de Guillaume\n",
      "city : Guilbert\n",
      "state : TO\n",
      "email : olivier70@marechal.net\n",
      "user_name : michelle19\n",
      "\n",
      "name : Richard Lemaitre\n",
      "job : Vur-cosil  téril gricol\n",
      "company : Begue\n",
      "street_address : 38, chemin de Gillame\n",
      "city : Guilbert\n",
      "state : TO\n",
      "email : olivier70@marechalet\n",
      "user_name : michll19\n",
      "\n",
      "8/10 positive, 0/10 negative\n",
      "Do these records refer to the same thing?\n",
      "(y)es / (n)o / (u)nsure / (f)inished / (p)revious\n"
     ]
    },
    {
     "name": "stdout",
     "output_type": "stream",
     "text": [
      "y\n"
     ]
    },
    {
     "name": "stderr",
     "output_type": "stream",
     "text": [
      "INFO:dedupe.training:Final predicate set:\n",
      "INFO:dedupe.training:(SimplePredicate: (commonThreeTokens, street_address), SimplePredicate: (sameSevenCharStartPredicate, user_name))\n",
      "INFO:dedupe.training:(SimplePredicate: (commonThreeTokens, company), SimplePredicate: (twoGramFingerprint, email))\n",
      "INFO:dedupe.training:(SimplePredicate: (alphaNumericPredicate, user_name), SimplePredicate: (commonTwoTokens, job))\n",
      "INFO:dedupe.training:(SimplePredicate: (commonTwoTokens, city), SimplePredicate: (twoGramFingerprint, company))\n",
      "INFO:dedupe.training:(SimplePredicate: (firstTokenPredicate, user_name), SimplePredicate: (twoGramFingerprint, company))\n",
      "INFO:dedupe.training:(SimplePredicate: (fingerprint, company), SimplePredicate: (twoGramFingerprint, street_address))\n",
      "name : Mrs. Frances Peters\n",
      "job : Furniture designer\n",
      "company : Rogers, Lawrence and Richards\n",
      "street_address : Studio 00\n",
      "Carpenter keys\n",
      "city : West Simon\n",
      "state : BO\n",
      "email : charlenewilliams@wilson-sanders.org\n",
      "user_name : amy17\n",
      "\n",
      "name : Mrs. Frances Peters\n",
      "job : Fuiue desie\n",
      "company : Rsgers, Lawrence and Richards\n",
      "street_address : Studio \n",
      "Carpntr kys\n",
      "city : Wes Simn\n",
      "state : BO\n",
      "email : halenewilliams@wilson-sandes.og\n",
      "user_name : amy17\n",
      "\n",
      "9/10 positive, 0/10 negative\n",
      "Do these records refer to the same thing?\n",
      "(y)es / (n)o / (u)nsure / (f)inished / (p)revious\n"
     ]
    },
    {
     "name": "stdout",
     "output_type": "stream",
     "text": [
      "y\n"
     ]
    },
    {
     "name": "stderr",
     "output_type": "stream",
     "text": [
      "INFO:dedupe.training:Final predicate set:\n",
      "INFO:dedupe.training:(SimplePredicate: (commonThreeTokens, street_address), SimplePredicate: (sameSevenCharStartPredicate, email))\n",
      "INFO:dedupe.training:(SimplePredicate: (commonThreeTokens, company), SimplePredicate: (twoGramFingerprint, email))\n",
      "INFO:dedupe.training:(SimplePredicate: (alphaNumericPredicate, user_name), SimplePredicate: (commonTwoTokens, job))\n",
      "INFO:dedupe.training:(SimplePredicate: (commonTwoTokens, city), SimplePredicate: (twoGramFingerprint, company))\n",
      "INFO:dedupe.training:(SimplePredicate: (firstTokenPredicate, user_name), SimplePredicate: (twoGramFingerprint, company))\n",
      "name : Ing. Marian Heidrich MBA.\n",
      "job : Civil engineer, consulting\n",
      "company : Johann Heuser AG\n",
      "street_address : Lilija-Ortmann-Straße 54\n",
      "city : Husum\n",
      "state : Hamburg\n",
      "email : truebconcetta@googlemail.com\n",
      "user_name : marie78\n",
      "\n",
      "name : Ing. Marian Heidrich MBA.\n",
      "job : Cii ngin, consuting\n",
      "company : Johann Heuser AG\n",
      "street_address : Lilija-Ortmann-Straße 54\n",
      "city : Husu\n",
      "state : Hamburg\n",
      "email : truebcncetta@gglemail.cm\n",
      "user_name : arie\n",
      "\n",
      "10/10 positive, 0/10 negative\n",
      "Do these records refer to the same thing?\n",
      "(y)es / (n)o / (u)nsure / (f)inished / (p)revious\n"
     ]
    },
    {
     "name": "stdout",
     "output_type": "stream",
     "text": [
      "y\n"
     ]
    },
    {
     "name": "stderr",
     "output_type": "stream",
     "text": [
      "INFO:dedupe.training:Final predicate set:\n",
      "INFO:dedupe.training:(SimplePredicate: (commonThreeTokens, street_address), SimplePredicate: (sameSevenCharStartPredicate, email))\n",
      "INFO:dedupe.training:(SimplePredicate: (commonThreeTokens, company), SimplePredicate: (fingerprint, user_name))\n",
      "INFO:dedupe.training:(SimplePredicate: (alphaNumericPredicate, user_name), SimplePredicate: (commonTwoTokens, job))\n",
      "INFO:dedupe.training:(SimplePredicate: (commonTwoTokens, city), SimplePredicate: (twoGramFingerprint, company))\n",
      "INFO:dedupe.training:(SimplePredicate: (firstTokenPredicate, user_name), SimplePredicate: (twoGramFingerprint, company))\n",
      "name : Meinhard Finke-Girschner\n",
      "job : Health and safety adviser\n",
      "company : Blümel AG & Co. OHG\n",
      "street_address : Ladislaus-Koch II-Straße 457\n",
      "city : Querfurt\n",
      "state : Nordrhein-Westfalen\n",
      "email : lscheibe@hotmail.de\n",
      "user_name : junckgisa\n",
      "\n",
      "name : Meinhard Finke-Girschner\n",
      "job : Health ad safety adviser\n",
      "company : Blü8el AG & C88 OHG\n",
      "street_address : Ladslaus-Koch II-Sraße 45\n",
      "city : Querfurt\n",
      "state : Nrdrhei-Westfale\n",
      "email : lscheibe@hotmail.de\n",
      "user_name : juncgia\n",
      "\n",
      "11/10 positive, 0/10 negative\n",
      "Do these records refer to the same thing?\n",
      "(y)es / (n)o / (u)nsure / (f)inished / (p)revious\n"
     ]
    },
    {
     "name": "stdout",
     "output_type": "stream",
     "text": [
      "y\n"
     ]
    },
    {
     "name": "stderr",
     "output_type": "stream",
     "text": [
      "INFO:dedupe.training:Final predicate set:\n",
      "INFO:dedupe.training:(SimplePredicate: (commonThreeTokens, street_address), SimplePredicate: (sameSevenCharStartPredicate, user_name))\n",
      "INFO:dedupe.training:(SimplePredicate: (doubleMetaphone, user_name), SimplePredicate: (twoGramFingerprint, company))\n",
      "INFO:dedupe.training:(SimplePredicate: (commonThreeTokens, company), SimplePredicate: (fingerprint, user_name))\n",
      "INFO:dedupe.training:(SimplePredicate: (fingerprint, company), SimplePredicate: (twoGramFingerprint, street_address))\n",
      "INFO:dedupe.training:(SimplePredicate: (alphaNumericPredicate, user_name), SimplePredicate: (commonTwoTokens, job))\n",
      "name : Éric Descamps\n",
      "job : Geonnare de parone\n",
      "company : Pa,cal S.A.R.L.\n",
      "street_address : 1, avenue Delaaye\n",
      "city : VerdiersurGmes\n",
      "state : SC\n",
      "email : josephine43@eores.fr\n",
      "user_name : nathalieledux\n",
      "\n",
      "name : Éric Descamps\n",
      "job : Gestionnaire de patrimoine\n",
      "company : Pascal S.A.R.L.\n",
      "street_address : 1, avenue Delahaye\n",
      "city : Verdier-sur-Gomes\n",
      "state : SC\n",
      "email : josephine43@georges.fr\n",
      "user_name : nathalieledoux\n",
      "\n",
      "12/10 positive, 0/10 negative\n",
      "Do these records refer to the same thing?\n",
      "(y)es / (n)o / (u)nsure / (f)inished / (p)revious\n"
     ]
    },
    {
     "name": "stdout",
     "output_type": "stream",
     "text": [
      "f\n"
     ]
    },
    {
     "name": "stderr",
     "output_type": "stream",
     "text": [
      "Finished labeling\n",
      "INFO:dedupe.training:Final predicate set:\n",
      "INFO:dedupe.training:(SimplePredicate: (commonThreeTokens, street_address), SimplePredicate: (sameSevenCharStartPredicate, user_name))\n",
      "INFO:dedupe.training:(SimplePredicate: (doubleMetaphone, user_name), SimplePredicate: (twoGramFingerprint, company))\n",
      "INFO:dedupe.training:(SimplePredicate: (commonThreeTokens, company), SimplePredicate: (fingerprint, user_name))\n",
      "INFO:dedupe.training:(SimplePredicate: (fingerprint, company), SimplePredicate: (twoGramFingerprint, street_address))\n",
      "INFO:dedupe.training:(SimplePredicate: (alphaNumericPredicate, user_name), SimplePredicate: (commonTwoTokens, job))\n",
      "INFO:dedupe.training:(SimplePredicate: (commonTwoTokens, job), SimplePredicate: (fingerprint, email))\n"
     ]
    }
   ],
   "source": [
    "dedupe.console_label(deduper)"
   ]
  },
  {
   "cell_type": "code",
   "execution_count": 11,
   "metadata": {},
   "outputs": [
    {
     "name": "stderr",
     "output_type": "stream",
     "text": [
      "INFO:dedupe.training:Final predicate set:\n",
      "INFO:dedupe.training:(SimplePredicate: (commonThreeTokens, job), SimplePredicate: (twoGramFingerprint, user_name))\n",
      "INFO:dedupe.training:Final predicate set:\n",
      "INFO:dedupe.training:(SimplePredicate: (doubleMetaphone, street_address), SimplePredicate: (wholeFieldPredicate, email))\n",
      "INFO:dedupe.training:(SimplePredicate: (doubleMetaphone, user_name), SimplePredicate: (twoGramFingerprint, company))\n",
      "INFO:dedupe.training:(SimplePredicate: (fingerprint, company), SimplePredicate: (twoGramFingerprint, street_address))\n",
      "INFO:dedupe.training:(SimplePredicate: (alphaNumericPredicate, user_name), SimplePredicate: (commonThreeTokens, company))\n",
      "INFO:dedupe.training:(SimplePredicate: (alphaNumericPredicate, user_name), SimplePredicate: (commonTwoTokens, job))\n",
      "INFO:dedupe.training:(SimplePredicate: (commonThreeTokens, street_address), SimplePredicate: (oneGramFingerprint, user_name))\n",
      "INFO:dedupe.training:(SimplePredicate: (commonTwoTokens, job), SimplePredicate: (fingerprint, email))\n",
      "INFO:dedupe.training:Final predicate set:\n",
      "INFO:dedupe.training:(SimplePredicate: (alphaNumericPredicate, email), SimplePredicate: (oneGramFingerprint, user_name))\n",
      "INFO:dedupe.training:Final predicate set:\n",
      "INFO:dedupe.training:(SimplePredicate: (doubleMetaphone, street_address), SimplePredicate: (wholeFieldPredicate, email))\n",
      "INFO:dedupe.training:(SimplePredicate: (doubleMetaphone, user_name), SimplePredicate: (twoGramFingerprint, company))\n",
      "INFO:dedupe.training:(SimplePredicate: (fingerprint, company), SimplePredicate: (twoGramFingerprint, street_address))\n",
      "INFO:dedupe.training:(SimplePredicate: (alphaNumericPredicate, user_name), SimplePredicate: (commonThreeTokens, company))\n",
      "INFO:dedupe.training:(SimplePredicate: (alphaNumericPredicate, user_name), SimplePredicate: (commonTwoTokens, job))\n",
      "INFO:dedupe.training:(SimplePredicate: (commonThreeTokens, street_address), SimplePredicate: (oneGramFingerprint, user_name))\n",
      "INFO:dedupe.training:(SimplePredicate: (commonTwoTokens, job), SimplePredicate: (fingerprint, email))\n"
     ]
    }
   ],
   "source": [
    "training_file = 'csv_example_training.json'\n",
    "\n",
    "if os.path.exists(training_file):\n",
    "    print('reading labeled examples from ', training_file)\n",
    "    with open(training_file, 'rb') as f:\n",
    "        deduper.prepare_training(customers.T.to_dict(), f)\n",
    "else:\n",
    "    deduper.prepare_training(customers.T.to_dict())\n",
    "\n",
    "if os.path.exists(training_file):\n",
    "    print('reading labeled examples from ', training_file)\n",
    "    with open(training_file, 'rb') as f:\n",
    "        deduper.prepare_training(customers.T.to_dict(), f)\n",
    "else:\n",
    "    deduper.prepare_training(customers.T.to_dict())"
   ]
  },
  {
   "cell_type": "markdown",
   "metadata": {},
   "source": [
    "Wenn Ihr fertig seid, speichert Eure Trainingsdaten:"
   ]
  },
  {
   "cell_type": "code",
   "execution_count": 12,
   "metadata": {},
   "outputs": [],
   "source": [
    "with open(training_file, 'w') as tf:\n",
    "    deduper.write_training(tf)"
   ]
  },
  {
   "cell_type": "markdown",
   "metadata": {},
   "source": [
    "Speichert auch Eure Gewichte und Prädikate. Wenn `settings_file` bereits existiert, werden beim nächsten Durchlauf Training und aktives Lernen übersprungen:"
   ]
  },
  {
   "cell_type": "code",
   "execution_count": null,
   "metadata": {},
   "outputs": [],
   "source": [
    "settings_file = 'csv_example_learned_settings'\n",
    "if os.path.exists(settings_file):\n",
    "    print('reading from', settings_file)\n",
    "    with open(settings_file, 'rb') as f:\n",
    "        deduper = dedupe.StaticDedupe(f)\n",
    "else:\n",
    "    with open(settings_file, 'wb') as sf:\n",
    "        deduper.write_settings(sf)"
   ]
  }
 ],
 "metadata": {
  "kernelspec": {
   "display_name": "Python 3.7.4",
   "language": "python",
   "name": "python-374"
  },
  "language_info": {
   "codemirror_mode": {
    "name": "ipython",
    "version": 3
   },
   "file_extension": ".py",
   "mimetype": "text/x-python",
   "name": "python",
   "nbconvert_exporter": "python",
   "pygments_lexer": "ipython3",
   "version": "3.7.4"
  },
  "latex_envs": {
   "LaTeX_envs_menu_present": true,
   "autoclose": false,
   "autocomplete": true,
   "bibliofile": "biblio.bib",
   "cite_by": "apalike",
   "current_citInitial": 1,
   "eqLabelWithNumbers": true,
   "eqNumInitial": 1,
   "hotkeys": {
    "equation": "Ctrl-E",
    "itemize": "Ctrl-I"
   },
   "labels_anchors": false,
   "latex_user_defs": false,
   "report_style_numbering": false,
   "user_envs_cfg": false
  },
  "widgets": {
   "application/vnd.jupyter.widget-state+json": {
    "state": {},
    "version_major": 2,
    "version_minor": 0
   }
  }
 },
 "nbformat": 4,
 "nbformat_minor": 4
}
