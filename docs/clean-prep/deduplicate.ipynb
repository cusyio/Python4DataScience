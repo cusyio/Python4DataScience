{
 "cells": [
  {
   "cell_type": "markdown",
   "metadata": {},
   "source": [
    "# Deduplicating data\n",
    "\n",
    "In this notebook, we deduplicate data using the [Dedupe](https://docs.dedupe.io/) library, which uses a flat neural network to learn from a little training.\n",
    "\n",
    "> **See also:**\n",
    "> \n",
    "> [csvdedupe](https://github.com/dedupeio/csvdedupe) offers a command line interface for Dedupe.\n",
    "\n",
    "In addition, the same developers have created [parserator](https://github.com/datamade/parserator), which you can use to extract text functions and train your own text extraction."
   ]
  },
  {
   "cell_type": "markdown",
   "metadata": {},
   "source": [
    "## 1. Imports"
   ]
  },
  {
   "cell_type": "code",
   "execution_count": 1,
   "metadata": {},
   "outputs": [],
   "source": [
    "import pandas as pd\n",
    "import dedupe\n",
    "import os"
   ]
  },
  {
   "cell_type": "code",
   "execution_count": 2,
   "metadata": {},
   "outputs": [],
   "source": [
    "customers = pd.read_csv('https://raw.githubusercontent.com/kjam/data-cleaning-101/master/data/customer_data_duped.csv', \n",
    "                        encoding='utf-8')"
   ]
  },
  {
   "cell_type": "markdown",
   "metadata": {},
   "source": [
    "## 2. Check data quality\n",
    "\n",
    "### 2.1 2.1 Return first *n* rows with [pandas.DataFrame.head](https://pandas.pydata.org/docs/reference/api/pandas.DataFrame.head.html)"
   ]
  },
  {
   "cell_type": "code",
   "execution_count": 3,
   "metadata": {
    "scrolled": true
   },
   "outputs": [
    {
     "data": {
      "text/html": [
       "<div>\n",
       "<style scoped>\n",
       "    .dataframe tbody tr th:only-of-type {\n",
       "        vertical-align: middle;\n",
       "    }\n",
       "\n",
       "    .dataframe tbody tr th {\n",
       "        vertical-align: top;\n",
       "    }\n",
       "\n",
       "    .dataframe thead th {\n",
       "        text-align: right;\n",
       "    }\n",
       "</style>\n",
       "<table border=\"1\" class=\"dataframe\">\n",
       "  <thead>\n",
       "    <tr style=\"text-align: right;\">\n",
       "      <th></th>\n",
       "      <th>name</th>\n",
       "      <th>job</th>\n",
       "      <th>company</th>\n",
       "      <th>street_address</th>\n",
       "      <th>city</th>\n",
       "      <th>state</th>\n",
       "      <th>email</th>\n",
       "      <th>user_name</th>\n",
       "    </tr>\n",
       "  </thead>\n",
       "  <tbody>\n",
       "    <tr>\n",
       "      <th>0</th>\n",
       "      <td>Patricia Schaefer</td>\n",
       "      <td>Programmer, systems</td>\n",
       "      <td>Estrada-Best</td>\n",
       "      <td>398 Paul Drive</td>\n",
       "      <td>Christianview</td>\n",
       "      <td>Delaware</td>\n",
       "      <td>lambdavid@gmail.com</td>\n",
       "      <td>ndavidson</td>\n",
       "    </tr>\n",
       "    <tr>\n",
       "      <th>1</th>\n",
       "      <td>Olivie Dubois</td>\n",
       "      <td>Ingénieur recherche et développement en agroal...</td>\n",
       "      <td>Moreno</td>\n",
       "      <td>rue Lucas Benard</td>\n",
       "      <td>Saint Anastasie-les-Bains</td>\n",
       "      <td>AR</td>\n",
       "      <td>berthelotjacqueline@mahe.fr</td>\n",
       "      <td>manonallain</td>\n",
       "    </tr>\n",
       "    <tr>\n",
       "      <th>2</th>\n",
       "      <td>Mary Davies-Kirk</td>\n",
       "      <td>Public affairs consultant</td>\n",
       "      <td>Baker Ltd</td>\n",
       "      <td>Flat 3\\nPugh mews</td>\n",
       "      <td>Stanleyfurt</td>\n",
       "      <td>ZA</td>\n",
       "      <td>middletonconor@hotmail.com</td>\n",
       "      <td>colemanmichael</td>\n",
       "    </tr>\n",
       "    <tr>\n",
       "      <th>3</th>\n",
       "      <td>Miroslawa Eckbauer</td>\n",
       "      <td>Dispensing optician</td>\n",
       "      <td>Ladeck GmbH</td>\n",
       "      <td>Mijo-Lübs-Straße 12</td>\n",
       "      <td>Neubrandenburg</td>\n",
       "      <td>Berlin</td>\n",
       "      <td>sophia01@yahoo.de</td>\n",
       "      <td>romanjunitz</td>\n",
       "    </tr>\n",
       "    <tr>\n",
       "      <th>4</th>\n",
       "      <td>Richard Bauer</td>\n",
       "      <td>Accountant, chartered certified</td>\n",
       "      <td>Hoffman-Rocha</td>\n",
       "      <td>6541 Rodriguez Wall</td>\n",
       "      <td>Carlosmouth</td>\n",
       "      <td>Texas</td>\n",
       "      <td>tross@jensen-ware.org</td>\n",
       "      <td>adam78</td>\n",
       "    </tr>\n",
       "  </tbody>\n",
       "</table>\n",
       "</div>"
      ],
      "text/plain": [
       "                 name                                                job  \\\n",
       "0   Patricia Schaefer                                Programmer, systems   \n",
       "1       Olivie Dubois  Ingénieur recherche et développement en agroal...   \n",
       "2    Mary Davies-Kirk                          Public affairs consultant   \n",
       "3  Miroslawa Eckbauer                                Dispensing optician   \n",
       "4       Richard Bauer                    Accountant, chartered certified   \n",
       "\n",
       "         company       street_address                       city     state  \\\n",
       "0   Estrada-Best       398 Paul Drive              Christianview  Delaware   \n",
       "1         Moreno     rue Lucas Benard  Saint Anastasie-les-Bains        AR   \n",
       "2      Baker Ltd    Flat 3\\nPugh mews                Stanleyfurt        ZA   \n",
       "3    Ladeck GmbH  Mijo-Lübs-Straße 12             Neubrandenburg    Berlin   \n",
       "4  Hoffman-Rocha  6541 Rodriguez Wall                Carlosmouth     Texas   \n",
       "\n",
       "                         email       user_name  \n",
       "0          lambdavid@gmail.com       ndavidson  \n",
       "1  berthelotjacqueline@mahe.fr     manonallain  \n",
       "2   middletonconor@hotmail.com  colemanmichael  \n",
       "3            sophia01@yahoo.de     romanjunitz  \n",
       "4        tross@jensen-ware.org          adam78  "
      ]
     },
     "execution_count": 3,
     "metadata": {},
     "output_type": "execute_result"
    }
   ],
   "source": [
    "customers.head()"
   ]
  },
  {
   "cell_type": "markdown",
   "metadata": {},
   "source": [
    "### 2.2 Display data types with [pandas.DataFrame.dtypes](https://pandas.pydata.org/docs/reference/api/pandas.DataFrame.dtypes.html)"
   ]
  },
  {
   "cell_type": "code",
   "execution_count": 4,
   "metadata": {},
   "outputs": [
    {
     "data": {
      "text/plain": [
       "name              object\n",
       "job               object\n",
       "company           object\n",
       "street_address    object\n",
       "city              object\n",
       "state             object\n",
       "email             object\n",
       "user_name         object\n",
       "dtype: object"
      ]
     },
     "execution_count": 4,
     "metadata": {},
     "output_type": "execute_result"
    }
   ],
   "source": [
    "customers.dtypes"
   ]
  },
  {
   "cell_type": "markdown",
   "metadata": {},
   "source": [
    "### 2.3 Determine missing values with [pandas.isnull](https://pandas.pydata.org/docs/reference/api/pandas.isnull.html)\n",
    "\n",
    "This function indicates for an array-like object whether values are missing (`NaN` in numeric arrays, `None` or `NaN` in object arrays, `NaT` in [datetimelike](https://pandas.pydata.org/docs/reference/general_functions.html#top-level-dealing-with-datetimelike)).\n",
    "\n",
    "**See also:**\n",
    "\n",
    "* [notna](https://pandas.pydata.org/docs/reference/api/pandas.notna.html) for the boolean inverse of [pandas.isna](https://pandas.pydata.org/docs/reference/api/pandas.isna.html)\n",
    "* [Series.isna](https://pandas.pydata.org/docs/reference/api/pandas.Series.isna.html) for the missing values in a series\n",
    "* [DataFrame.isna](https://pandas.pydata.org/docs/reference/api/pandas.DataFrame.isna.html) for the missing values in a DataFrame\n",
    "* [Index.isna](https://pandas.pydata.org/docs/reference/api/pandas.Index.isna.html) for the missing values in an index"
   ]
  },
  {
   "cell_type": "code",
   "execution_count": 5,
   "metadata": {},
   "outputs": [
    {
     "name": "stdout",
     "output_type": "stream",
     "text": [
      "name 0\n",
      "job 0\n",
      "company 0\n",
      "street_address 0\n",
      "city 0\n",
      "state 0\n",
      "email 0\n",
      "user_name 0\n"
     ]
    }
   ],
   "source": [
    "for col in customers.columns:\n",
    "    print(col, customers[col].isnull().sum())"
   ]
  },
  {
   "cell_type": "markdown",
   "metadata": {},
   "source": [
    "## 3. Configure dedupe\n",
    "\n",
    "Now we define the fields to be taken care of during deduplication and create a new `deduper` object:"
   ]
  },
  {
   "cell_type": "code",
   "execution_count": 6,
   "metadata": {},
   "outputs": [],
   "source": [
    "variables = [\n",
    "    {'field': 'name', 'type': 'String'},\n",
    "    {'field': 'job', 'type': 'String'},\n",
    "    {'field': 'company', 'type': 'String'},  \n",
    "    {'field': 'street_address','type': 'String'},\n",
    "    {'field': 'city','type': 'String'},\n",
    "    {'field': 'state', 'type': 'String', 'has_missing': True},\n",
    "    {'field': 'email', 'type': 'String', 'has_missing': True},\n",
    "    {'field': 'user_name', 'type': 'String'},\n",
    "]\n",
    "\n",
    "deduper = dedupe.Dedupe(variables)"
   ]
  },
  {
   "cell_type": "markdown",
   "metadata": {},
   "source": [
    "If the value of a field is missing, this missing value should be represented as a `None` object. However, by `'has_missing': True`, a new, additional field is created to indicate whether the data was present or not, and the missing data is given a null.\n",
    "\n",
    "> **See also:**\n",
    "> \n",
    "> [Missing Data](https://docs.dedupe.io/en/latest/Variable-definition.html#missing-data)"
   ]
  },
  {
   "cell_type": "code",
   "execution_count": 7,
   "metadata": {},
   "outputs": [
    {
     "data": {
      "text/plain": [
       "<dedupe.api.Dedupe at 0x7fd3d9e7dd00>"
      ]
     },
     "execution_count": 7,
     "metadata": {},
     "output_type": "execute_result"
    }
   ],
   "source": [
    "deduper"
   ]
  },
  {
   "cell_type": "code",
   "execution_count": 8,
   "metadata": {},
   "outputs": [
    {
     "data": {
      "text/plain": [
       "(2080, 8)"
      ]
     },
     "execution_count": 8,
     "metadata": {},
     "output_type": "execute_result"
    }
   ],
   "source": [
    "customers.shape"
   ]
  },
  {
   "cell_type": "markdown",
   "metadata": {},
   "source": [
    "## 4. Create training data"
   ]
  },
  {
   "cell_type": "code",
   "execution_count": 9,
   "metadata": {},
   "outputs": [
    {
     "name": "stderr",
     "output_type": "stream",
     "text": [
      "INFO:dedupe.canopy_index:Removing stop word co\n",
      "INFO:dedupe.canopy_index:Removing stop word om\n",
      "INFO:dedupe.canopy_index:Removing stop word com\n",
      "INFO:dedupe.training:Final predicate set:\n",
      "INFO:dedupe.training:TfidfTextCanopyPredicate: (0.8, email)\n"
     ]
    }
   ],
   "source": [
    "deduper.prepare_training(customers.T.to_dict())"
   ]
  },
  {
   "cell_type": "markdown",
   "metadata": {},
   "source": [
    "[prepare_training](https://docs.dedupe.io/en/latest/API-documentation.html#dedupe.Dedupe.prepare_training) initialises active learning with our data and, optionally, with existing training data.\n",
    "\n",
    "`T` mirrors the DataFrame across its diagonal by writing rows as columns and vice versa. For this, [pandas.DataFrame.transpose](https://pandas.pydata.org/docs/reference/api/pandas.DataFrame.transpose.html) is used."
   ]
  },
  {
   "cell_type": "markdown",
   "metadata": {},
   "source": [
    "## 5. Active learning\n",
    "\n",
    "Use [dedupe.console_label](https://docs.dedupe.io/en/latest/API-documentation.html#dedupe.console_label) to train your dedupe instance. When Dedupe finds a record pair, you will be asked to label it as a duplicate. You can use the `y`, `n` and `u` keys to label duplicates. Press `f` when you are finished."
   ]
  },
  {
   "cell_type": "code",
   "execution_count": 10,
   "metadata": {},
   "outputs": [
    {
     "name": "stderr",
     "output_type": "stream",
     "text": [
      "name : Frédérique Lejeune-Daniel\n",
      "job : Technicien chimiste\n",
      "company : Schmitt\n",
      "street_address : chemin Denise Ferrand\n",
      "city : Saint CharlotteVille\n",
      "state : IE\n",
      "email : jchretien@costa.com\n",
      "user_name : joseph60\n",
      "\n",
      "name : Frédérique Lejeune-Daniel\n",
      "job : Tecce cse\n",
      "company : Sctmitt\n",
      "street_address : chemin Denise Ferrand\n",
      "city : Saint ChalotteVille\n",
      "state : IE\n",
      "email : jchretien@costacom\n",
      "user_name : joseph60\n",
      "\n",
      "0/10 positive, 0/10 negative\n",
      "Do these records refer to the same thing?\n",
      "(y)es / (n)o / (u)nsure / (f)inished\n"
     ]
    },
    {
     "name": "stdout",
     "output_type": "stream",
     "text": [
      "y\n"
     ]
    },
    {
     "name": "stderr",
     "output_type": "stream",
     "text": [
      "name : Kenneth Moore\n",
      "job : Magazine journalist\n",
      "company : Cross, Bell and Diaz\n",
      "street_address : 75443 Lindsey Pine\n",
      "city : Thompsonshire\n",
      "state : Colorado\n",
      "email : ashley28@rice.com\n",
      "user_name : todd72\n",
      "\n",
      "name : Kenneth Moore\n",
      "job : Magazine journalist\n",
      "company : Cross, Bfll anf Diaz\n",
      "street_address : 753 Lindsey Pine\n",
      "city : Thompsonshe\n",
      "state : Colorao\n",
      "email : ashey28@rice.co\n",
      "user_name : todd72\n",
      "\n",
      "1/10 positive, 0/10 negative\n",
      "Do these records refer to the same thing?\n",
      "(y)es / (n)o / (u)nsure / (f)inished / (p)revious\n"
     ]
    },
    {
     "name": "stdout",
     "output_type": "stream",
     "text": [
      "y\n"
     ]
    },
    {
     "name": "stderr",
     "output_type": "stream",
     "text": [
      "INFO:dedupe.training:Final predicate set:\n",
      "INFO:dedupe.training:SimplePredicate: (fingerprint, email)\n",
      "name : Dr. Catherine Sutton\n",
      "job : Engineer, maintenance\n",
      "company : Ross LLC\n",
      "street_address : 13689 Morales Centers\n",
      "city : North Sarah\n",
      "state : New Mexico\n",
      "email : lewisnicole@yahoo.com\n",
      "user_name : clittle\n",
      "\n",
      "name : Dr. Catherine Sutton\n",
      "job : Enginee maintenance\n",
      "company : Ross LLC\n",
      "street_address : 13689 Morales Centers\n",
      "city : North Sarah\n",
      "state : New Mexico\n",
      "email : ewinicoe@yaoo.com\n",
      "user_name : little\n",
      "\n",
      "2/10 positive, 0/10 negative\n",
      "Do these records refer to the same thing?\n",
      "(y)es / (n)o / (u)nsure / (f)inished / (p)revious\n"
     ]
    },
    {
     "name": "stdout",
     "output_type": "stream",
     "text": [
      "f\n"
     ]
    },
    {
     "name": "stderr",
     "output_type": "stream",
     "text": [
      "Finished labeling\n",
      "INFO:dedupe.training:Final predicate set:\n",
      "INFO:dedupe.training:TfidfTextCanopyPredicate: (0.8, email)\n",
      "INFO:dedupe.training:SimplePredicate: (alphaNumericPredicate, user_name)\n"
     ]
    }
   ],
   "source": [
    "dedupe.console_label(deduper)"
   ]
  },
  {
   "cell_type": "markdown",
   "metadata": {},
   "source": [
    "[Dedupe.train](https://docs.dedupe.io/en/latest/API-documentation.html#dedupe.Dedupe.train) adds the record pairs you marked to the training data and updates the matching model.\n",
    "\n",
    "With `index_predicates=True`, deduplication also takes into account predicates based on the indexing of the data.\n",
    "\n",
    "When you are done, save your training data with [Dedupe.write_settings](https://docs.dedupe.io/en/latest/API-documentation.html#dedupe.Dedupe.write_settings)."
   ]
  },
  {
   "cell_type": "code",
   "execution_count": 11,
   "metadata": {},
   "outputs": [
    {
     "name": "stderr",
     "output_type": "stream",
     "text": [
      "INFO:rlr.crossvalidation:using cross validation to find optimum alpha...\n",
      "/Users/veit/cusy/trn/jupyter-tutorial-de/lib/python3.9/site-packages/rlr/crossvalidation.py:87: UserWarning: Only providing 2 folds out of 3 requested\n",
      "  warnings.warn(\"Only providing %s folds out of %s requested\" %\n",
      "INFO:rlr.crossvalidation:optimum alpha: 0.000010, score 0.0\n",
      "INFO:dedupe.training:Final predicate set:\n",
      "INFO:dedupe.training:(TfidfTextCanopyPredicate: (0.8, user_name), SimplePredicate: (commonTwoTokens, job), SimplePredicate: (firstTokenPredicate, company))\n",
      "INFO:dedupe.training:(SimplePredicate: (twoGramFingerprint, street_address), SimplePredicate: (oneGramFingerprint, user_name), TfidfTextCanopyPredicate: (0.4, street_address))\n"
     ]
    }
   ],
   "source": [
    "settings_file = 'csv_example_learned_settings'\n",
    "if os.path.exists(settings_file):\n",
    "    print('reading from', settings_file)\n",
    "    with open(settings_file, 'rb') as f:\n",
    "        deduper = dedupe.StaticDedupe(f)\n",
    "else:\n",
    "    deduper.train(index_predicates=True)\n",
    "    with open(settings_file, 'wb') as sf:\n",
    "        deduper.write_settings(sf)"
   ]
  },
  {
   "cell_type": "markdown",
   "metadata": {},
   "source": [
    "With [dedupe.Dedupe.partition](https://docs.dedupe.io/en/latest/API-documentation.html#dedupe.Dedupe.partition), records that all refer to the same entity are identified and returned as tuples that are a sequence of record IDs and confidence values. For more details on the confidence value, see [dedupe.Dedupe.cluster](https://docs.dedupe.io/en/latest/API-documentation.html#dedupe.Dedupe.cluster)."
   ]
  },
  {
   "cell_type": "code",
   "execution_count": 12,
   "metadata": {},
   "outputs": [],
   "source": [
    "dupes = deduper.partition(customers.T.to_dict())"
   ]
  },
  {
   "cell_type": "code",
   "execution_count": 14,
   "metadata": {},
   "outputs": [
    {
     "data": {
      "text/plain": [
       "[((136, 1360), (1.0, 1.0)),\n",
       " ((1351, 1384), (1.0, 1.0)),\n",
       " ((0,), (1.0,)),\n",
       " ((1,), (1.0,)),\n",
       " ((2,), (1.0,)),\n",
       " ((3,), (1.0,)),\n",
       " ((4,), (1.0,)),\n",
       " ...]"
      ]
     },
     "execution_count": 14,
     "metadata": {},
     "output_type": "execute_result"
    }
   ],
   "source": [
    "dupes"
   ]
  },
  {
   "cell_type": "markdown",
   "metadata": {},
   "source": [
    "We can also output only individual entries:"
   ]
  },
  {
   "cell_type": "code",
   "execution_count": 18,
   "metadata": {},
   "outputs": [
    {
     "data": {
      "text/plain": [
       "((1351, 1384), (1.0, 1.0))"
      ]
     },
     "execution_count": 18,
     "metadata": {},
     "output_type": "execute_result"
    }
   ],
   "source": [
    "dupes[1]"
   ]
  },
  {
   "cell_type": "markdown",
   "metadata": {},
   "source": [
    "We can then display these with [pandas.DataFrame.iloc](https://pandas.pydata.org/docs/reference/api/pandas.DataFrame.iloc.html):"
   ]
  },
  {
   "cell_type": "code",
   "execution_count": 17,
   "metadata": {},
   "outputs": [
    {
     "data": {
      "text/html": [
       "<div>\n",
       "<style scoped>\n",
       "    .dataframe tbody tr th:only-of-type {\n",
       "        vertical-align: middle;\n",
       "    }\n",
       "\n",
       "    .dataframe tbody tr th {\n",
       "        vertical-align: top;\n",
       "    }\n",
       "\n",
       "    .dataframe thead th {\n",
       "        text-align: right;\n",
       "    }\n",
       "</style>\n",
       "<table border=\"1\" class=\"dataframe\">\n",
       "  <thead>\n",
       "    <tr style=\"text-align: right;\">\n",
       "      <th></th>\n",
       "      <th>name</th>\n",
       "      <th>job</th>\n",
       "      <th>company</th>\n",
       "      <th>street_address</th>\n",
       "      <th>city</th>\n",
       "      <th>state</th>\n",
       "      <th>email</th>\n",
       "      <th>user_name</th>\n",
       "    </tr>\n",
       "  </thead>\n",
       "  <tbody>\n",
       "    <tr>\n",
       "      <th>136</th>\n",
       "      <td>Frédérique Lejeune-Daniel</td>\n",
       "      <td>Technicien chimiste</td>\n",
       "      <td>Schmitt</td>\n",
       "      <td>chemin Denise Ferrand</td>\n",
       "      <td>Saint CharlotteVille</td>\n",
       "      <td>IE</td>\n",
       "      <td>jchretien@costa.com</td>\n",
       "      <td>joseph60</td>\n",
       "    </tr>\n",
       "    <tr>\n",
       "      <th>1360</th>\n",
       "      <td>Frédérique Lejeune-Daniel</td>\n",
       "      <td>Tecce cse</td>\n",
       "      <td>Sctmitt</td>\n",
       "      <td>chemin Denise Ferrand</td>\n",
       "      <td>Saint ChalotteVille</td>\n",
       "      <td>IE</td>\n",
       "      <td>jchretien@costacom</td>\n",
       "      <td>joseph60</td>\n",
       "    </tr>\n",
       "  </tbody>\n",
       "</table>\n",
       "</div>"
      ],
      "text/plain": [
       "                           name                  job  company  \\\n",
       "136   Frédérique Lejeune-Daniel  Technicien chimiste  Schmitt   \n",
       "1360  Frédérique Lejeune-Daniel            Tecce cse  Sctmitt   \n",
       "\n",
       "             street_address                  city state                email  \\\n",
       "136   chemin Denise Ferrand  Saint CharlotteVille    IE  jchretien@costa.com   \n",
       "1360  chemin Denise Ferrand   Saint ChalotteVille    IE   jchretien@costacom   \n",
       "\n",
       "     user_name  \n",
       "136   joseph60  \n",
       "1360  joseph60  "
      ]
     },
     "execution_count": 17,
     "metadata": {},
     "output_type": "execute_result"
    }
   ],
   "source": [
    "customers.iloc[[136,1360]]"
   ]
  }
 ],
 "metadata": {
  "kernelspec": {
   "display_name": "Python 3.7.4",
   "language": "python",
   "name": "python-374"
  },
  "language_info": {
   "codemirror_mode": {
    "name": "ipython",
    "version": 3
   },
   "file_extension": ".py",
   "mimetype": "text/x-python",
   "name": "python",
   "nbconvert_exporter": "python",
   "pygments_lexer": "ipython3",
   "version": "3.7.4"
  },
  "latex_envs": {
   "LaTeX_envs_menu_present": true,
   "autoclose": false,
   "autocomplete": true,
   "bibliofile": "biblio.bib",
   "cite_by": "apalike",
   "current_citInitial": 1,
   "eqLabelWithNumbers": true,
   "eqNumInitial": 1,
   "hotkeys": {
    "equation": "Ctrl-E",
    "itemize": "Ctrl-I"
   },
   "labels_anchors": false,
   "latex_user_defs": false,
   "report_style_numbering": false,
   "user_envs_cfg": false
  },
  "widgets": {
   "application/vnd.jupyter.widget-state+json": {
    "state": {},
    "version_major": 2,
    "version_minor": 0
   }
  }
 },
 "nbformat": 4,
 "nbformat_minor": 4
}
