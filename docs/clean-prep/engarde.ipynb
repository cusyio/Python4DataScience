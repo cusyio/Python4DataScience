{
 "cells": [
  {
   "cell_type": "markdown",
   "metadata": {},
   "source": [
    "# Pandas DataFrame-Validierung mit Engarde\n",
    "\n",
    "In diesem Notebook überprüfen wir `pandas.DataFrame`-Objekte mit der Bibliothek [engarde](https://github.com/TomAugspurger/engarde). Mit ihr könnt Ihr sowohl Decorators für Funktionen schreiben als auch integrierte Funktionen verwenden, um Euren DataFrame mit bestimmten Validierungsregeln oder -definitionen zu testen."
   ]
  },
  {
   "cell_type": "markdown",
   "metadata": {},
   "source": [
    "## 1. Importe"
   ]
  },
  {
   "cell_type": "code",
   "execution_count": 1,
   "metadata": {},
   "outputs": [],
   "source": [
    "import pandas as pd\n",
    "import engarde.decorators as ed\n",
    "from datetime import datetime"
   ]
  },
  {
   "cell_type": "markdown",
   "metadata": {},
   "source": [
    "## 2. Daten lesen"
   ]
  },
  {
   "cell_type": "code",
   "execution_count": 2,
   "metadata": {},
   "outputs": [],
   "source": [
    "sales = pd.read_csv('https://raw.githubusercontent.com/kjam/data-cleaning-101/master/data/sales_data_duped_with_nulls.csv')"
   ]
  },
  {
   "cell_type": "markdown",
   "metadata": {},
   "source": [
    "## 3. Daten überprüfen"
   ]
  },
  {
   "cell_type": "code",
   "execution_count": 3,
   "metadata": {},
   "outputs": [
    {
     "data": {
      "text/html": [
       "<div>\n",
       "<style scoped>\n",
       "    .dataframe tbody tr th:only-of-type {\n",
       "        vertical-align: middle;\n",
       "    }\n",
       "\n",
       "    .dataframe tbody tr th {\n",
       "        vertical-align: top;\n",
       "    }\n",
       "\n",
       "    .dataframe thead th {\n",
       "        text-align: right;\n",
       "    }\n",
       "</style>\n",
       "<table border=\"1\" class=\"dataframe\">\n",
       "  <thead>\n",
       "    <tr style=\"text-align: right;\">\n",
       "      <th></th>\n",
       "      <th>timestamp</th>\n",
       "      <th>city</th>\n",
       "      <th>store_id</th>\n",
       "      <th>sale_number</th>\n",
       "      <th>sale_amount</th>\n",
       "      <th>associate</th>\n",
       "    </tr>\n",
       "  </thead>\n",
       "  <tbody>\n",
       "    <tr>\n",
       "      <th>0</th>\n",
       "      <td>2017-09-15T06:17:10</td>\n",
       "      <td>Alexandrabury</td>\n",
       "      <td>18</td>\n",
       "      <td>1043.0</td>\n",
       "      <td>15.0</td>\n",
       "      <td>Stacey Daniels</td>\n",
       "    </tr>\n",
       "    <tr>\n",
       "      <th>1</th>\n",
       "      <td>2017-09-11T16:16:30</td>\n",
       "      <td>East Jesusport</td>\n",
       "      <td>2</td>\n",
       "      <td>1729.0</td>\n",
       "      <td>396.0</td>\n",
       "      <td>Haley Pitts</td>\n",
       "    </tr>\n",
       "    <tr>\n",
       "      <th>2</th>\n",
       "      <td>2017-07-12T15:00:18</td>\n",
       "      <td>New Douglasmouth</td>\n",
       "      <td>13</td>\n",
       "      <td>2028.0</td>\n",
       "      <td>-78.0</td>\n",
       "      <td>Carlos French</td>\n",
       "    </tr>\n",
       "    <tr>\n",
       "      <th>3</th>\n",
       "      <td>2017-07-29T13:04:55</td>\n",
       "      <td>West Carriemouth</td>\n",
       "      <td>19</td>\n",
       "      <td>1245.0</td>\n",
       "      <td>1149.0</td>\n",
       "      <td>Jeffrey Ford</td>\n",
       "    </tr>\n",
       "    <tr>\n",
       "      <th>4</th>\n",
       "      <td>2017-11-07T21:35:58</td>\n",
       "      <td>Port Timothy</td>\n",
       "      <td>1</td>\n",
       "      <td>2365.0</td>\n",
       "      <td>724.0</td>\n",
       "      <td>Christopher West</td>\n",
       "    </tr>\n",
       "  </tbody>\n",
       "</table>\n",
       "</div>"
      ],
      "text/plain": [
       "             timestamp              city  store_id  sale_number  sale_amount  \\\n",
       "0  2017-09-15T06:17:10     Alexandrabury        18       1043.0         15.0   \n",
       "1  2017-09-11T16:16:30    East Jesusport         2       1729.0        396.0   \n",
       "2  2017-07-12T15:00:18  New Douglasmouth        13       2028.0        -78.0   \n",
       "3  2017-07-29T13:04:55  West Carriemouth        19       1245.0       1149.0   \n",
       "4  2017-11-07T21:35:58      Port Timothy         1       2365.0        724.0   \n",
       "\n",
       "          associate  \n",
       "0    Stacey Daniels  \n",
       "1       Haley Pitts  \n",
       "2     Carlos French  \n",
       "3      Jeffrey Ford  \n",
       "4  Christopher West  "
      ]
     },
     "execution_count": 3,
     "metadata": {},
     "output_type": "execute_result"
    }
   ],
   "source": [
    "sales.head()"
   ]
  },
  {
   "cell_type": "code",
   "execution_count": 4,
   "metadata": {},
   "outputs": [
    {
     "data": {
      "text/plain": [
       "timestamp       object\n",
       "city            object\n",
       "store_id         int64\n",
       "sale_number    float64\n",
       "sale_amount    float64\n",
       "associate       object\n",
       "dtype: object"
      ]
     },
     "execution_count": 4,
     "metadata": {},
     "output_type": "execute_result"
    }
   ],
   "source": [
    "sales.dtypes"
   ]
  },
  {
   "cell_type": "markdown",
   "metadata": {},
   "source": [
    "## Datentypen überprüfen\n",
    "\n",
    "Engarde lässt uns Datentypen nachverfolgen. In einer ersten Funktion sollten wir also unsere erwarteten Ergebnisse überpfüfen."
   ]
  },
  {
   "cell_type": "code",
   "execution_count": 5,
   "metadata": {},
   "outputs": [],
   "source": [
    "new_dtypes = {\n",
    "    'timestamp': object,\n",
    "    'city': object,\n",
    "    'store_id': int,\n",
    "    'sale_number': float,\n",
    "    'sale_amount': float,\n",
    "    'associate': object\n",
    "}"
   ]
  },
  {
   "cell_type": "code",
   "execution_count": 6,
   "metadata": {},
   "outputs": [],
   "source": [
    "@ed.has_dtypes(new_dtypes)\n",
    "@ed.is_shape((None, 6))\n",
    "def update_dtypes(sales):\n",
    "    sales.timestamp = sales.timestamp.map(\n",
    "        lambda x: datetime.strptime(\n",
    "        x, '%Y-%m-%dT%H:%M:%S').date())\n",
    "    return sales"
   ]
  },
  {
   "cell_type": "code",
   "execution_count": 7,
   "metadata": {},
   "outputs": [],
   "source": [
    "sales = update_dtypes(sales)"
   ]
  },
  {
   "cell_type": "code",
   "execution_count": 8,
   "metadata": {},
   "outputs": [
    {
     "data": {
      "text/plain": [
       "datetime.date(2017, 9, 15)"
      ]
     },
     "execution_count": 8,
     "metadata": {},
     "output_type": "execute_result"
    }
   ],
   "source": [
    "sales.timestamp.iloc[0]"
   ]
  },
  {
   "cell_type": "markdown",
   "metadata": {},
   "source": [
    "## 5. Entfernen ungenügender Daten\n",
    "\n",
    "Um Daten von schlechter Qualität zu entfernen, entfernen wir zunächst Duplikate und fehlende Einträge."
   ]
  },
  {
   "cell_type": "code",
   "execution_count": 9,
   "metadata": {},
   "outputs": [],
   "source": [
    "@ed.has_dtypes(new_dtypes)\n",
    "@ed.is_shape((None, 6))\n",
    "@ed.none_missing()\n",
    "def remove_poor_quality_data(sales):\n",
    "    sales = sales.drop_duplicates()\n",
    "    sales = sales.dropna(subset=['sale_amount', 'store_id', \n",
    "                                 'sale_number', \n",
    "                                 'city', 'associate'])\n",
    "    return sales"
   ]
  },
  {
   "cell_type": "code",
   "execution_count": 10,
   "metadata": {},
   "outputs": [],
   "source": [
    "sales = remove_poor_quality_data(sales)"
   ]
  },
  {
   "cell_type": "code",
   "execution_count": 11,
   "metadata": {},
   "outputs": [
    {
     "data": {
      "text/plain": [
       "timestamp      False\n",
       "city           False\n",
       "store_id       False\n",
       "sale_number    False\n",
       "sale_amount    False\n",
       "associate      False\n",
       "dtype: bool"
      ]
     },
     "execution_count": 11,
     "metadata": {},
     "output_type": "execute_result"
    }
   ],
   "source": [
    "sales.isnull().any()"
   ]
  },
  {
   "cell_type": "code",
   "execution_count": 12,
   "metadata": {},
   "outputs": [],
   "source": [
    "final_types = new_dtypes.copy()\n",
    "final_types.update({\n",
    "    'store_total': float,\n",
    "    'associate_total': object,\n",
    "    'city_total': float\n",
    "})"
   ]
  },
  {
   "cell_type": "code",
   "execution_count": 13,
   "metadata": {},
   "outputs": [],
   "source": [
    "@ed.has_dtypes(final_types)\n",
    "@ed.none_missing()\n",
    "def calculate_store_sales(sales):\n",
    "    sales['store_total'] = sales.groupby(\n",
    "        'store_id').transform(sum)['sale_amount']\n",
    "    sales['associate_total'] = sales.groupby(\n",
    "        'associate').transform(sum)['sale_amount']\n",
    "    sales['city_total'] = sales.groupby('city')[\n",
    "        'sale_amount'].transform(sum)\n",
    "    return sales"
   ]
  },
  {
   "cell_type": "code",
   "execution_count": 14,
   "metadata": {},
   "outputs": [
    {
     "data": {
      "text/html": [
       "<div>\n",
       "<style scoped>\n",
       "    .dataframe tbody tr th:only-of-type {\n",
       "        vertical-align: middle;\n",
       "    }\n",
       "\n",
       "    .dataframe tbody tr th {\n",
       "        vertical-align: top;\n",
       "    }\n",
       "\n",
       "    .dataframe thead th {\n",
       "        text-align: right;\n",
       "    }\n",
       "</style>\n",
       "<table border=\"1\" class=\"dataframe\">\n",
       "  <thead>\n",
       "    <tr style=\"text-align: right;\">\n",
       "      <th></th>\n",
       "      <th>timestamp</th>\n",
       "      <th>city</th>\n",
       "      <th>store_id</th>\n",
       "      <th>sale_number</th>\n",
       "      <th>sale_amount</th>\n",
       "      <th>associate</th>\n",
       "    </tr>\n",
       "  </thead>\n",
       "  <tbody>\n",
       "    <tr>\n",
       "      <th>0</th>\n",
       "      <td>2017-09-15</td>\n",
       "      <td>Alexandrabury</td>\n",
       "      <td>18</td>\n",
       "      <td>1043.0</td>\n",
       "      <td>15.0</td>\n",
       "      <td>Stacey Daniels</td>\n",
       "    </tr>\n",
       "    <tr>\n",
       "      <th>1</th>\n",
       "      <td>2017-09-11</td>\n",
       "      <td>East Jesusport</td>\n",
       "      <td>2</td>\n",
       "      <td>1729.0</td>\n",
       "      <td>396.0</td>\n",
       "      <td>Haley Pitts</td>\n",
       "    </tr>\n",
       "    <tr>\n",
       "      <th>2</th>\n",
       "      <td>2017-07-12</td>\n",
       "      <td>New Douglasmouth</td>\n",
       "      <td>13</td>\n",
       "      <td>2028.0</td>\n",
       "      <td>-78.0</td>\n",
       "      <td>Carlos French</td>\n",
       "    </tr>\n",
       "    <tr>\n",
       "      <th>3</th>\n",
       "      <td>2017-07-29</td>\n",
       "      <td>West Carriemouth</td>\n",
       "      <td>19</td>\n",
       "      <td>1245.0</td>\n",
       "      <td>1149.0</td>\n",
       "      <td>Jeffrey Ford</td>\n",
       "    </tr>\n",
       "    <tr>\n",
       "      <th>4</th>\n",
       "      <td>2017-11-07</td>\n",
       "      <td>Port Timothy</td>\n",
       "      <td>1</td>\n",
       "      <td>2365.0</td>\n",
       "      <td>724.0</td>\n",
       "      <td>Christopher West</td>\n",
       "    </tr>\n",
       "  </tbody>\n",
       "</table>\n",
       "</div>"
      ],
      "text/plain": [
       "    timestamp              city  store_id  sale_number  sale_amount  \\\n",
       "0  2017-09-15     Alexandrabury        18       1043.0         15.0   \n",
       "1  2017-09-11    East Jesusport         2       1729.0        396.0   \n",
       "2  2017-07-12  New Douglasmouth        13       2028.0        -78.0   \n",
       "3  2017-07-29  West Carriemouth        19       1245.0       1149.0   \n",
       "4  2017-11-07      Port Timothy         1       2365.0        724.0   \n",
       "\n",
       "          associate  \n",
       "0    Stacey Daniels  \n",
       "1       Haley Pitts  \n",
       "2     Carlos French  \n",
       "3      Jeffrey Ford  \n",
       "4  Christopher West  "
      ]
     },
     "execution_count": 14,
     "metadata": {},
     "output_type": "execute_result"
    }
   ],
   "source": [
    "sales.head()"
   ]
  },
  {
   "cell_type": "code",
   "execution_count": 15,
   "metadata": {},
   "outputs": [],
   "source": [
    "sales = calculate_store_sales(sales)"
   ]
  }
 ],
 "metadata": {
  "kernelspec": {
   "display_name": "Python 3.7.4",
   "language": "python",
   "name": "python-374"
  },
  "language_info": {
   "codemirror_mode": {
    "name": "ipython",
    "version": 3
   },
   "file_extension": ".py",
   "mimetype": "text/x-python",
   "name": "python",
   "nbconvert_exporter": "python",
   "pygments_lexer": "ipython3",
   "version": "3.7.4"
  },
  "latex_envs": {
   "LaTeX_envs_menu_present": true,
   "autoclose": false,
   "autocomplete": true,
   "bibliofile": "biblio.bib",
   "cite_by": "apalike",
   "current_citInitial": 1,
   "eqLabelWithNumbers": true,
   "eqNumInitial": 1,
   "hotkeys": {
    "equation": "Ctrl-E",
    "itemize": "Ctrl-I"
   },
   "labels_anchors": false,
   "latex_user_defs": false,
   "report_style_numbering": false,
   "user_envs_cfg": false
  },
  "widgets": {
   "application/vnd.jupyter.widget-state+json": {
    "state": {},
    "version_major": 2,
    "version_minor": 0
   }
  }
 },
 "nbformat": 4,
 "nbformat_minor": 4
}
