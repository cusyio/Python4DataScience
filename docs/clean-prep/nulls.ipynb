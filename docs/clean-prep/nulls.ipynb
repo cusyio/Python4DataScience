{
 "cells": [
  {
   "cell_type": "markdown",
   "metadata": {},
   "source": [
    "# Managing missing data with pandas\n",
    "\n",
    "This notebook introduces some ways to manage missing data using Pandas DataFrames. For more information, see the Pandas documentation: [Working with missing data](https://pandas.pydata.org/pandas-docs/stable/user_guide/missing_data.html) and [Missing data cookbook](https://pandas.pydata.org/pandas-docs/stable/user_guide/cookbook.html#cookbook-missing-data).\n",
    "\n",
    "> **See also:**\n",
    "> \n",
    "> * [Dora](https://github.com/NathanEpstein/Dora)\n",
    "> * [Badfish](https://github.com/harshnisar/badfish)"
   ]
  },
  {
   "cell_type": "code",
   "execution_count": 1,
   "metadata": {},
   "outputs": [],
   "source": [
    "import pandas as pd\n",
    "from numpy import random"
   ]
  },
  {
   "cell_type": "code",
   "execution_count": 2,
   "metadata": {},
   "outputs": [],
   "source": [
    "df = pd.read_csv('https://raw.githubusercontent.com/kjam/data-cleaning-101/master/data/iot_example_with_nulls.csv')"
   ]
  },
  {
   "cell_type": "markdown",
   "metadata": {},
   "source": [
    "## 1. Check the data"
   ]
  },
  {
   "cell_type": "code",
   "execution_count": 3,
   "metadata": {},
   "outputs": [
    {
     "data": {
      "text/html": [
       "<div>\n",
       "<style scoped>\n",
       "    .dataframe tbody tr th:only-of-type {\n",
       "        vertical-align: middle;\n",
       "    }\n",
       "\n",
       "    .dataframe tbody tr th {\n",
       "        vertical-align: top;\n",
       "    }\n",
       "\n",
       "    .dataframe thead th {\n",
       "        text-align: right;\n",
       "    }\n",
       "</style>\n",
       "<table border=\"1\" class=\"dataframe\">\n",
       "  <thead>\n",
       "    <tr style=\"text-align: right;\">\n",
       "      <th></th>\n",
       "      <th>timestamp</th>\n",
       "      <th>username</th>\n",
       "      <th>temperature</th>\n",
       "      <th>heartrate</th>\n",
       "      <th>build</th>\n",
       "      <th>latest</th>\n",
       "      <th>note</th>\n",
       "    </tr>\n",
       "  </thead>\n",
       "  <tbody>\n",
       "    <tr>\n",
       "      <th>0</th>\n",
       "      <td>2017-01-01T12:00:23</td>\n",
       "      <td>michaelsmith</td>\n",
       "      <td>12.0</td>\n",
       "      <td>67</td>\n",
       "      <td>4e6a7805-8faa-2768-6ef6-eb3198b483ac</td>\n",
       "      <td>0.0</td>\n",
       "      <td>interval</td>\n",
       "    </tr>\n",
       "    <tr>\n",
       "      <th>1</th>\n",
       "      <td>2017-01-01T12:01:09</td>\n",
       "      <td>kharrison</td>\n",
       "      <td>6.0</td>\n",
       "      <td>78</td>\n",
       "      <td>7256b7b0-e502-f576-62ec-ed73533c9c84</td>\n",
       "      <td>0.0</td>\n",
       "      <td>wake</td>\n",
       "    </tr>\n",
       "    <tr>\n",
       "      <th>2</th>\n",
       "      <td>2017-01-01T12:01:34</td>\n",
       "      <td>smithadam</td>\n",
       "      <td>5.0</td>\n",
       "      <td>89</td>\n",
       "      <td>9226c94b-bb4b-a6c8-8e02-cb42b53e9c90</td>\n",
       "      <td>0.0</td>\n",
       "      <td>NaN</td>\n",
       "    </tr>\n",
       "    <tr>\n",
       "      <th>3</th>\n",
       "      <td>2017-01-01T12:02:09</td>\n",
       "      <td>eddierodriguez</td>\n",
       "      <td>28.0</td>\n",
       "      <td>76</td>\n",
       "      <td>NaN</td>\n",
       "      <td>0.0</td>\n",
       "      <td>update</td>\n",
       "    </tr>\n",
       "    <tr>\n",
       "      <th>4</th>\n",
       "      <td>2017-01-01T12:02:36</td>\n",
       "      <td>kenneth94</td>\n",
       "      <td>29.0</td>\n",
       "      <td>62</td>\n",
       "      <td>122f1c6a-403c-2221-6ed1-b5caa08f11e0</td>\n",
       "      <td>NaN</td>\n",
       "      <td>NaN</td>\n",
       "    </tr>\n",
       "    <tr>\n",
       "      <th>5</th>\n",
       "      <td>2017-01-01T12:03:04</td>\n",
       "      <td>bryanttodd</td>\n",
       "      <td>13.0</td>\n",
       "      <td>86</td>\n",
       "      <td>0897dbe5-9c5b-71ca-73a1-7586959ca198</td>\n",
       "      <td>0.0</td>\n",
       "      <td>interval</td>\n",
       "    </tr>\n",
       "    <tr>\n",
       "      <th>6</th>\n",
       "      <td>2017-01-01T12:03:51</td>\n",
       "      <td>andrea98</td>\n",
       "      <td>17.0</td>\n",
       "      <td>81</td>\n",
       "      <td>1c07ab9b-5f66-137d-a74f-921a41001f4e</td>\n",
       "      <td>1.0</td>\n",
       "      <td>NaN</td>\n",
       "    </tr>\n",
       "    <tr>\n",
       "      <th>7</th>\n",
       "      <td>2017-01-01T12:04:35</td>\n",
       "      <td>scott28</td>\n",
       "      <td>16.0</td>\n",
       "      <td>76</td>\n",
       "      <td>7a60219f-6621-e548-180e-ca69624f9824</td>\n",
       "      <td>NaN</td>\n",
       "      <td>interval</td>\n",
       "    </tr>\n",
       "    <tr>\n",
       "      <th>8</th>\n",
       "      <td>2017-01-01T12:05:05</td>\n",
       "      <td>hillpamela</td>\n",
       "      <td>5.0</td>\n",
       "      <td>82</td>\n",
       "      <td>a8b87754-a162-da28-2527-4bce4b3d4191</td>\n",
       "      <td>1.0</td>\n",
       "      <td>NaN</td>\n",
       "    </tr>\n",
       "    <tr>\n",
       "      <th>9</th>\n",
       "      <td>2017-01-01T12:05:41</td>\n",
       "      <td>moorejeffrey</td>\n",
       "      <td>25.0</td>\n",
       "      <td>63</td>\n",
       "      <td>585f1a3c-0679-0ffe-9132-508933c70343</td>\n",
       "      <td>0.0</td>\n",
       "      <td>wake</td>\n",
       "    </tr>\n",
       "    <tr>\n",
       "      <th>10</th>\n",
       "      <td>2017-01-01T12:06:21</td>\n",
       "      <td>njohnson</td>\n",
       "      <td>NaN</td>\n",
       "      <td>63</td>\n",
       "      <td>e09b6001-125d-51cf-9c3f-9cb686c19d02</td>\n",
       "      <td>NaN</td>\n",
       "      <td>NaN</td>\n",
       "    </tr>\n",
       "    <tr>\n",
       "      <th>11</th>\n",
       "      <td>2017-01-01T12:06:53</td>\n",
       "      <td>gsutton</td>\n",
       "      <td>29.0</td>\n",
       "      <td>80</td>\n",
       "      <td>607c9f6e-2bdf-a606-6d16-3004c6958436</td>\n",
       "      <td>1.0</td>\n",
       "      <td>update</td>\n",
       "    </tr>\n",
       "    <tr>\n",
       "      <th>12</th>\n",
       "      <td>2017-01-01T12:07:41</td>\n",
       "      <td>jessica48</td>\n",
       "      <td>22.0</td>\n",
       "      <td>83</td>\n",
       "      <td>03e1a07b-3e14-412c-3a69-6b45bc79f81c</td>\n",
       "      <td>NaN</td>\n",
       "      <td>update</td>\n",
       "    </tr>\n",
       "    <tr>\n",
       "      <th>13</th>\n",
       "      <td>2017-01-01T12:08:08</td>\n",
       "      <td>hornjohn</td>\n",
       "      <td>16.0</td>\n",
       "      <td>73</td>\n",
       "      <td>NaN</td>\n",
       "      <td>0.0</td>\n",
       "      <td>interval</td>\n",
       "    </tr>\n",
       "    <tr>\n",
       "      <th>14</th>\n",
       "      <td>2017-01-01T12:08:35</td>\n",
       "      <td>gramirez</td>\n",
       "      <td>24.0</td>\n",
       "      <td>73</td>\n",
       "      <td>NaN</td>\n",
       "      <td>0.0</td>\n",
       "      <td>wake</td>\n",
       "    </tr>\n",
       "    <tr>\n",
       "      <th>15</th>\n",
       "      <td>2017-01-01T12:09:05</td>\n",
       "      <td>schmidtsamuel</td>\n",
       "      <td>NaN</td>\n",
       "      <td>78</td>\n",
       "      <td>b9890c1e-79d5-8979-63ae-6c08a4cd476a</td>\n",
       "      <td>0.0</td>\n",
       "      <td>NaN</td>\n",
       "    </tr>\n",
       "    <tr>\n",
       "      <th>16</th>\n",
       "      <td>2017-01-01T12:09:48</td>\n",
       "      <td>derrick47</td>\n",
       "      <td>NaN</td>\n",
       "      <td>63</td>\n",
       "      <td>b60bd7de-4057-8a85-f806-e6eec1350338</td>\n",
       "      <td>NaN</td>\n",
       "      <td>interval</td>\n",
       "    </tr>\n",
       "    <tr>\n",
       "      <th>17</th>\n",
       "      <td>2017-01-01T12:10:23</td>\n",
       "      <td>beckercharles</td>\n",
       "      <td>12.0</td>\n",
       "      <td>61</td>\n",
       "      <td>b1dacc73-c8b7-1d7d-ee02-578da781a71e</td>\n",
       "      <td>0.0</td>\n",
       "      <td>test</td>\n",
       "    </tr>\n",
       "    <tr>\n",
       "      <th>18</th>\n",
       "      <td>2017-01-01T12:10:57</td>\n",
       "      <td>ipittman</td>\n",
       "      <td>11.0</td>\n",
       "      <td>69</td>\n",
       "      <td>1aef7db8-9a3e-7dc9-d7a5-781ec0efd200</td>\n",
       "      <td>NaN</td>\n",
       "      <td>user</td>\n",
       "    </tr>\n",
       "    <tr>\n",
       "      <th>19</th>\n",
       "      <td>2017-01-01T12:11:34</td>\n",
       "      <td>sabrina65</td>\n",
       "      <td>22.0</td>\n",
       "      <td>82</td>\n",
       "      <td>8075d058-7dae-e2ec-d47e-58ec6d26899b</td>\n",
       "      <td>1.0</td>\n",
       "      <td>NaN</td>\n",
       "    </tr>\n",
       "  </tbody>\n",
       "</table>\n",
       "</div>"
      ],
      "text/plain": [
       "              timestamp        username  temperature  heartrate  \\\n",
       "0   2017-01-01T12:00:23    michaelsmith         12.0         67   \n",
       "1   2017-01-01T12:01:09       kharrison          6.0         78   \n",
       "2   2017-01-01T12:01:34       smithadam          5.0         89   \n",
       "3   2017-01-01T12:02:09  eddierodriguez         28.0         76   \n",
       "4   2017-01-01T12:02:36       kenneth94         29.0         62   \n",
       "5   2017-01-01T12:03:04      bryanttodd         13.0         86   \n",
       "6   2017-01-01T12:03:51        andrea98         17.0         81   \n",
       "7   2017-01-01T12:04:35         scott28         16.0         76   \n",
       "8   2017-01-01T12:05:05      hillpamela          5.0         82   \n",
       "9   2017-01-01T12:05:41    moorejeffrey         25.0         63   \n",
       "10  2017-01-01T12:06:21        njohnson          NaN         63   \n",
       "11  2017-01-01T12:06:53         gsutton         29.0         80   \n",
       "12  2017-01-01T12:07:41       jessica48         22.0         83   \n",
       "13  2017-01-01T12:08:08        hornjohn         16.0         73   \n",
       "14  2017-01-01T12:08:35        gramirez         24.0         73   \n",
       "15  2017-01-01T12:09:05   schmidtsamuel          NaN         78   \n",
       "16  2017-01-01T12:09:48       derrick47          NaN         63   \n",
       "17  2017-01-01T12:10:23   beckercharles         12.0         61   \n",
       "18  2017-01-01T12:10:57        ipittman         11.0         69   \n",
       "19  2017-01-01T12:11:34       sabrina65         22.0         82   \n",
       "\n",
       "                                   build  latest      note  \n",
       "0   4e6a7805-8faa-2768-6ef6-eb3198b483ac     0.0  interval  \n",
       "1   7256b7b0-e502-f576-62ec-ed73533c9c84     0.0      wake  \n",
       "2   9226c94b-bb4b-a6c8-8e02-cb42b53e9c90     0.0       NaN  \n",
       "3                                    NaN     0.0    update  \n",
       "4   122f1c6a-403c-2221-6ed1-b5caa08f11e0     NaN       NaN  \n",
       "5   0897dbe5-9c5b-71ca-73a1-7586959ca198     0.0  interval  \n",
       "6   1c07ab9b-5f66-137d-a74f-921a41001f4e     1.0       NaN  \n",
       "7   7a60219f-6621-e548-180e-ca69624f9824     NaN  interval  \n",
       "8   a8b87754-a162-da28-2527-4bce4b3d4191     1.0       NaN  \n",
       "9   585f1a3c-0679-0ffe-9132-508933c70343     0.0      wake  \n",
       "10  e09b6001-125d-51cf-9c3f-9cb686c19d02     NaN       NaN  \n",
       "11  607c9f6e-2bdf-a606-6d16-3004c6958436     1.0    update  \n",
       "12  03e1a07b-3e14-412c-3a69-6b45bc79f81c     NaN    update  \n",
       "13                                   NaN     0.0  interval  \n",
       "14                                   NaN     0.0      wake  \n",
       "15  b9890c1e-79d5-8979-63ae-6c08a4cd476a     0.0       NaN  \n",
       "16  b60bd7de-4057-8a85-f806-e6eec1350338     NaN  interval  \n",
       "17  b1dacc73-c8b7-1d7d-ee02-578da781a71e     0.0      test  \n",
       "18  1aef7db8-9a3e-7dc9-d7a5-781ec0efd200     NaN      user  \n",
       "19  8075d058-7dae-e2ec-d47e-58ec6d26899b     1.0       NaN  "
      ]
     },
     "execution_count": 3,
     "metadata": {},
     "output_type": "execute_result"
    }
   ],
   "source": [
    "df.head(20)"
   ]
  },
  {
   "cell_type": "code",
   "execution_count": 4,
   "metadata": {},
   "outputs": [
    {
     "data": {
      "text/plain": [
       "timestamp       object\n",
       "username        object\n",
       "temperature    float64\n",
       "heartrate        int64\n",
       "build           object\n",
       "latest         float64\n",
       "note            object\n",
       "dtype: object"
      ]
     },
     "execution_count": 4,
     "metadata": {},
     "output_type": "execute_result"
    }
   ],
   "source": [
    "df.dtypes"
   ]
  },
  {
   "cell_type": "markdown",
   "metadata": {},
   "source": [
    "Output values in the `note` column:"
   ]
  },
  {
   "cell_type": "code",
   "execution_count": 5,
   "metadata": {},
   "outputs": [
    {
     "data": {
      "text/plain": [
       "wake        16496\n",
       "user        16416\n",
       "interval    16274\n",
       "sleep       16226\n",
       "update      16213\n",
       "test        16068\n",
       "Name: note, dtype: int64"
      ]
     },
     "execution_count": 5,
     "metadata": {},
     "output_type": "execute_result"
    }
   ],
   "source": [
    "df.note.value_counts()"
   ]
  },
  {
   "cell_type": "markdown",
   "metadata": {},
   "source": [
    "## 2. Remove all null values (including the indication `n/a`)\n",
    "\n",
    "[pandas.read_csv](https://pandas.pydata.org/docs/reference/api/pandas.read_csv.html) usually already filters out many values that it recognises as `NA` or `NaN`. Further values can be specified with `na_values`."
   ]
  },
  {
   "cell_type": "code",
   "execution_count": 6,
   "metadata": {},
   "outputs": [],
   "source": [
    "df = pd.read_csv('https://raw.githubusercontent.com/kjam/data-cleaning-101/master/data/iot_example_with_nulls.csv',\n",
    "                 na_values=['n/a'])"
   ]
  },
  {
   "cell_type": "markdown",
   "metadata": {},
   "source": [
    "### 2.1 Test if we can use [pandas.DataFrame.dropna](https://pandas.pydata.org/docs/reference/api/pandas.DataFrame.dropna.html)\n",
    "\n",
    "> **See also:**\n",
    "> \n",
    "> * [DataFrame.isna](https://pandas.pydata.org/docs/reference/api/pandas.DataFrame.isna.html) indicates missing values\n",
    "> * [DataFrame.notna](https://pandas.pydata.org/docs/reference/api/pandas.DataFrame.notna.html) indicates existing (not missing) values\n",
    "> * [DataFrame.fillna](https://pandas.pydata.org/docs/reference/api/pandas.DataFrame.fillna.html) replaces missing values\n",
    "> * [Series.dropna](https://pandas.pydata.org/docs/reference/api/pandas.Series.dropna.html) deletes missing values\n",
    "> * [Index.dropna](https://pandas.pydata.org/docs/reference/api/pandas.Index.dropna.html) deletes missing indices"
   ]
  },
  {
   "cell_type": "markdown",
   "metadata": {},
   "source": [
    "To do this, we first display the dimensonality of the DataFrame with [pandas.DataFrame.shape](https://pandas.pydata.org/docs/reference/api/pandas.DataFrame.shape.html):"
   ]
  },
  {
   "cell_type": "code",
   "execution_count": 7,
   "metadata": {},
   "outputs": [
    {
     "data": {
      "text/plain": [
       "(146397, 7)"
      ]
     },
     "execution_count": 7,
     "metadata": {},
     "output_type": "execute_result"
    }
   ],
   "source": [
    "df.shape"
   ]
  },
  {
   "cell_type": "code",
   "execution_count": 8,
   "metadata": {},
   "outputs": [
    {
     "data": {
      "text/plain": [
       "(46116, 7)"
      ]
     },
     "execution_count": 8,
     "metadata": {},
     "output_type": "execute_result"
    }
   ],
   "source": [
    "df.dropna().shape"
   ]
  },
  {
   "cell_type": "code",
   "execution_count": 9,
   "metadata": {},
   "outputs": [
    {
     "data": {
      "text/plain": [
       "(146397, 7)"
      ]
     },
     "execution_count": 9,
     "metadata": {},
     "output_type": "execute_result"
    }
   ],
   "source": [
    "df.dropna(how='all', axis=1).shape"
   ]
  },
  {
   "cell_type": "markdown",
   "metadata": {},
   "source": [
    "* `how='all'` entfernt eine Zeile oder Spalte, wenn irgendwelche NA-Werte vorhanden sind.\n",
    "* `axis=1` entfernt Spalten, die fehlende Werte enthalten."
   ]
  },
  {
   "cell_type": "markdown",
   "metadata": {},
   "source": [
    "### 2.2 Find all columns where all data is present"
   ]
  },
  {
   "cell_type": "code",
   "execution_count": 10,
   "metadata": {},
   "outputs": [],
   "source": [
    "my_columns = list(df.columns)"
   ]
  },
  {
   "cell_type": "code",
   "execution_count": 11,
   "metadata": {},
   "outputs": [
    {
     "data": {
      "text/plain": [
       "['timestamp',\n",
       " 'username',\n",
       " 'temperature',\n",
       " 'heartrate',\n",
       " 'build',\n",
       " 'latest',\n",
       " 'note']"
      ]
     },
     "execution_count": 11,
     "metadata": {},
     "output_type": "execute_result"
    }
   ],
   "source": [
    "my_columns"
   ]
  },
  {
   "cell_type": "code",
   "execution_count": 12,
   "metadata": {},
   "outputs": [
    {
     "data": {
      "text/plain": [
       "['timestamp', 'username', 'heartrate']"
      ]
     },
     "execution_count": 12,
     "metadata": {},
     "output_type": "execute_result"
    }
   ],
   "source": [
    "list(df.dropna(thresh=int(df.shape[0] * .9), axis=1).columns)"
   ]
  },
  {
   "cell_type": "markdown",
   "metadata": {},
   "source": [
    "`thresh` requires a certain number of NA values, in our case 90% before `axis=1` lashes a column."
   ]
  },
  {
   "cell_type": "markdown",
   "metadata": {},
   "source": [
    "### 2.3 Find all columns where data is missing"
   ]
  },
  {
   "cell_type": "code",
   "execution_count": 13,
   "metadata": {},
   "outputs": [],
   "source": [
    "missing_info = list(df.columns[df.isnull().any()])"
   ]
  },
  {
   "cell_type": "markdown",
   "metadata": {},
   "source": [
    "* [pandas.DataFrame.isnull](https://pandas.pydata.org/docs/reference/api/pandas.DataFrame.isnull.html) detects missing values.\n",
    "* [pandas.DataFrame.any](https://pandas.pydata.org/docs/reference/api/pandas.DataFrame.any.html) returns whether an element is valid, usually across a column."
   ]
  },
  {
   "cell_type": "code",
   "execution_count": 14,
   "metadata": {},
   "outputs": [
    {
     "data": {
      "text/plain": [
       "['temperature', 'build', 'latest', 'note']"
      ]
     },
     "execution_count": 14,
     "metadata": {},
     "output_type": "execute_result"
    }
   ],
   "source": [
    "missing_info"
   ]
  },
  {
   "cell_type": "code",
   "execution_count": 15,
   "metadata": {},
   "outputs": [
    {
     "name": "stdout",
     "output_type": "stream",
     "text": [
      "number missing for column temperature: 32357\n",
      "number missing for column build: 32350\n",
      "number missing for column latest: 32298\n",
      "number missing for column note: 48704\n"
     ]
    }
   ],
   "source": [
    "for col in missing_info:\n",
    "    num_missing = df[df[col].isnull() == True].shape[0]\n",
    "    print('number missing for column {}: {}'.format(col, \n",
    "                                                    num_missing))"
   ]
  },
  {
   "cell_type": "markdown",
   "metadata": {},
   "source": [
    "* `num_missing` indicates the number of missing values per column."
   ]
  },
  {
   "cell_type": "code",
   "execution_count": 16,
   "metadata": {},
   "outputs": [
    {
     "name": "stdout",
     "output_type": "stream",
     "text": [
      "percent missing for column temperature: 0.22102228870810195\n",
      "percent missing for column build: 0.22097447352063226\n",
      "percent missing for column latest: 0.22061927498514314\n",
      "percent missing for column note: 0.332684412931959\n"
     ]
    }
   ],
   "source": [
    "for col in missing_info:\n",
    "    percent_missing = df[df[col].isnull() == True].shape[0] / df.shape[0]\n",
    "    print('percent missing for column {}: {}'.format(\n",
    "        col, percent_missing))"
   ]
  },
  {
   "cell_type": "markdown",
   "metadata": {},
   "source": [
    "### 2.4 Replace missing data\n",
    "\n",
    "To be able to check our changes we use [pandas.Series.value_counts](https://pandas.pydata.org/docs/reference/api/pandas.Series.value_counts.html). It returns a series containing counts of unique values:"
   ]
  },
  {
   "cell_type": "code",
   "execution_count": 17,
   "metadata": {},
   "outputs": [
    {
     "data": {
      "text/plain": [
       "0.0    75735\n",
       "1.0    38364\n",
       "Name: latest, dtype: int64"
      ]
     },
     "execution_count": 17,
     "metadata": {},
     "output_type": "execute_result"
    }
   ],
   "source": [
    "df.latest.value_counts()"
   ]
  },
  {
   "cell_type": "markdown",
   "metadata": {},
   "source": [
    "Now we fill replace the missing values with [DataFrame.fillna](https://pandas.pydata.org/docs/reference/api/pandas.DataFrame.fillna.html):"
   ]
  },
  {
   "cell_type": "code",
   "execution_count": 18,
   "metadata": {},
   "outputs": [],
   "source": [
    "df.latest = df.latest.fillna(0)"
   ]
  },
  {
   "cell_type": "code",
   "execution_count": 19,
   "metadata": {},
   "outputs": [
    {
     "data": {
      "text/plain": [
       "0.0    108033\n",
       "1.0     38364\n",
       "Name: latest, dtype: int64"
      ]
     },
     "execution_count": 19,
     "metadata": {},
     "output_type": "execute_result"
    }
   ],
   "source": [
    "df.latest.value_counts()"
   ]
  },
  {
   "cell_type": "markdown",
   "metadata": {},
   "source": [
    "### 2.5 Replace missing data using `backfill`\n",
    "\n",
    "For this we first set the index for `timestamp` with [set_index](https://pandas.pydata.org/docs/reference/api/pandas.DataFrame.set_index.html):"
   ]
  },
  {
   "cell_type": "code",
   "execution_count": 20,
   "metadata": {},
   "outputs": [],
   "source": [
    "df = df.set_index('timestamp')"
   ]
  },
  {
   "cell_type": "code",
   "execution_count": 21,
   "metadata": {},
   "outputs": [
    {
     "data": {
      "text/html": [
       "<div>\n",
       "<style scoped>\n",
       "    .dataframe tbody tr th:only-of-type {\n",
       "        vertical-align: middle;\n",
       "    }\n",
       "\n",
       "    .dataframe tbody tr th {\n",
       "        vertical-align: top;\n",
       "    }\n",
       "\n",
       "    .dataframe thead th {\n",
       "        text-align: right;\n",
       "    }\n",
       "</style>\n",
       "<table border=\"1\" class=\"dataframe\">\n",
       "  <thead>\n",
       "    <tr style=\"text-align: right;\">\n",
       "      <th></th>\n",
       "      <th>username</th>\n",
       "      <th>temperature</th>\n",
       "      <th>heartrate</th>\n",
       "      <th>build</th>\n",
       "      <th>latest</th>\n",
       "      <th>note</th>\n",
       "    </tr>\n",
       "    <tr>\n",
       "      <th>timestamp</th>\n",
       "      <th></th>\n",
       "      <th></th>\n",
       "      <th></th>\n",
       "      <th></th>\n",
       "      <th></th>\n",
       "      <th></th>\n",
       "    </tr>\n",
       "  </thead>\n",
       "  <tbody>\n",
       "    <tr>\n",
       "      <th>2017-01-01T12:00:23</th>\n",
       "      <td>michaelsmith</td>\n",
       "      <td>12.0</td>\n",
       "      <td>67</td>\n",
       "      <td>4e6a7805-8faa-2768-6ef6-eb3198b483ac</td>\n",
       "      <td>0.0</td>\n",
       "      <td>interval</td>\n",
       "    </tr>\n",
       "    <tr>\n",
       "      <th>2017-01-01T12:01:09</th>\n",
       "      <td>kharrison</td>\n",
       "      <td>6.0</td>\n",
       "      <td>78</td>\n",
       "      <td>7256b7b0-e502-f576-62ec-ed73533c9c84</td>\n",
       "      <td>0.0</td>\n",
       "      <td>wake</td>\n",
       "    </tr>\n",
       "    <tr>\n",
       "      <th>2017-01-01T12:01:34</th>\n",
       "      <td>smithadam</td>\n",
       "      <td>5.0</td>\n",
       "      <td>89</td>\n",
       "      <td>9226c94b-bb4b-a6c8-8e02-cb42b53e9c90</td>\n",
       "      <td>0.0</td>\n",
       "      <td>NaN</td>\n",
       "    </tr>\n",
       "    <tr>\n",
       "      <th>2017-01-01T12:02:09</th>\n",
       "      <td>eddierodriguez</td>\n",
       "      <td>28.0</td>\n",
       "      <td>76</td>\n",
       "      <td>NaN</td>\n",
       "      <td>0.0</td>\n",
       "      <td>update</td>\n",
       "    </tr>\n",
       "    <tr>\n",
       "      <th>2017-01-01T12:02:36</th>\n",
       "      <td>kenneth94</td>\n",
       "      <td>29.0</td>\n",
       "      <td>62</td>\n",
       "      <td>122f1c6a-403c-2221-6ed1-b5caa08f11e0</td>\n",
       "      <td>0.0</td>\n",
       "      <td>NaN</td>\n",
       "    </tr>\n",
       "    <tr>\n",
       "      <th>2017-01-01T12:03:04</th>\n",
       "      <td>bryanttodd</td>\n",
       "      <td>13.0</td>\n",
       "      <td>86</td>\n",
       "      <td>0897dbe5-9c5b-71ca-73a1-7586959ca198</td>\n",
       "      <td>0.0</td>\n",
       "      <td>interval</td>\n",
       "    </tr>\n",
       "    <tr>\n",
       "      <th>2017-01-01T12:03:51</th>\n",
       "      <td>andrea98</td>\n",
       "      <td>17.0</td>\n",
       "      <td>81</td>\n",
       "      <td>1c07ab9b-5f66-137d-a74f-921a41001f4e</td>\n",
       "      <td>1.0</td>\n",
       "      <td>NaN</td>\n",
       "    </tr>\n",
       "    <tr>\n",
       "      <th>2017-01-01T12:04:35</th>\n",
       "      <td>scott28</td>\n",
       "      <td>16.0</td>\n",
       "      <td>76</td>\n",
       "      <td>7a60219f-6621-e548-180e-ca69624f9824</td>\n",
       "      <td>0.0</td>\n",
       "      <td>interval</td>\n",
       "    </tr>\n",
       "    <tr>\n",
       "      <th>2017-01-01T12:05:05</th>\n",
       "      <td>hillpamela</td>\n",
       "      <td>5.0</td>\n",
       "      <td>82</td>\n",
       "      <td>a8b87754-a162-da28-2527-4bce4b3d4191</td>\n",
       "      <td>1.0</td>\n",
       "      <td>NaN</td>\n",
       "    </tr>\n",
       "    <tr>\n",
       "      <th>2017-01-01T12:05:41</th>\n",
       "      <td>moorejeffrey</td>\n",
       "      <td>25.0</td>\n",
       "      <td>63</td>\n",
       "      <td>585f1a3c-0679-0ffe-9132-508933c70343</td>\n",
       "      <td>0.0</td>\n",
       "      <td>wake</td>\n",
       "    </tr>\n",
       "    <tr>\n",
       "      <th>2017-01-01T12:06:21</th>\n",
       "      <td>njohnson</td>\n",
       "      <td>NaN</td>\n",
       "      <td>63</td>\n",
       "      <td>e09b6001-125d-51cf-9c3f-9cb686c19d02</td>\n",
       "      <td>0.0</td>\n",
       "      <td>NaN</td>\n",
       "    </tr>\n",
       "    <tr>\n",
       "      <th>2017-01-01T12:06:53</th>\n",
       "      <td>gsutton</td>\n",
       "      <td>29.0</td>\n",
       "      <td>80</td>\n",
       "      <td>607c9f6e-2bdf-a606-6d16-3004c6958436</td>\n",
       "      <td>1.0</td>\n",
       "      <td>update</td>\n",
       "    </tr>\n",
       "    <tr>\n",
       "      <th>2017-01-01T12:07:41</th>\n",
       "      <td>jessica48</td>\n",
       "      <td>22.0</td>\n",
       "      <td>83</td>\n",
       "      <td>03e1a07b-3e14-412c-3a69-6b45bc79f81c</td>\n",
       "      <td>0.0</td>\n",
       "      <td>update</td>\n",
       "    </tr>\n",
       "    <tr>\n",
       "      <th>2017-01-01T12:08:08</th>\n",
       "      <td>hornjohn</td>\n",
       "      <td>16.0</td>\n",
       "      <td>73</td>\n",
       "      <td>NaN</td>\n",
       "      <td>0.0</td>\n",
       "      <td>interval</td>\n",
       "    </tr>\n",
       "    <tr>\n",
       "      <th>2017-01-01T12:08:35</th>\n",
       "      <td>gramirez</td>\n",
       "      <td>24.0</td>\n",
       "      <td>73</td>\n",
       "      <td>NaN</td>\n",
       "      <td>0.0</td>\n",
       "      <td>wake</td>\n",
       "    </tr>\n",
       "    <tr>\n",
       "      <th>2017-01-01T12:09:05</th>\n",
       "      <td>schmidtsamuel</td>\n",
       "      <td>NaN</td>\n",
       "      <td>78</td>\n",
       "      <td>b9890c1e-79d5-8979-63ae-6c08a4cd476a</td>\n",
       "      <td>0.0</td>\n",
       "      <td>NaN</td>\n",
       "    </tr>\n",
       "    <tr>\n",
       "      <th>2017-01-01T12:09:48</th>\n",
       "      <td>derrick47</td>\n",
       "      <td>NaN</td>\n",
       "      <td>63</td>\n",
       "      <td>b60bd7de-4057-8a85-f806-e6eec1350338</td>\n",
       "      <td>0.0</td>\n",
       "      <td>interval</td>\n",
       "    </tr>\n",
       "    <tr>\n",
       "      <th>2017-01-01T12:10:23</th>\n",
       "      <td>beckercharles</td>\n",
       "      <td>12.0</td>\n",
       "      <td>61</td>\n",
       "      <td>b1dacc73-c8b7-1d7d-ee02-578da781a71e</td>\n",
       "      <td>0.0</td>\n",
       "      <td>test</td>\n",
       "    </tr>\n",
       "    <tr>\n",
       "      <th>2017-01-01T12:10:57</th>\n",
       "      <td>ipittman</td>\n",
       "      <td>11.0</td>\n",
       "      <td>69</td>\n",
       "      <td>1aef7db8-9a3e-7dc9-d7a5-781ec0efd200</td>\n",
       "      <td>0.0</td>\n",
       "      <td>user</td>\n",
       "    </tr>\n",
       "    <tr>\n",
       "      <th>2017-01-01T12:11:34</th>\n",
       "      <td>sabrina65</td>\n",
       "      <td>22.0</td>\n",
       "      <td>82</td>\n",
       "      <td>8075d058-7dae-e2ec-d47e-58ec6d26899b</td>\n",
       "      <td>1.0</td>\n",
       "      <td>NaN</td>\n",
       "    </tr>\n",
       "  </tbody>\n",
       "</table>\n",
       "</div>"
      ],
      "text/plain": [
       "                           username  temperature  heartrate  \\\n",
       "timestamp                                                     \n",
       "2017-01-01T12:00:23    michaelsmith         12.0         67   \n",
       "2017-01-01T12:01:09       kharrison          6.0         78   \n",
       "2017-01-01T12:01:34       smithadam          5.0         89   \n",
       "2017-01-01T12:02:09  eddierodriguez         28.0         76   \n",
       "2017-01-01T12:02:36       kenneth94         29.0         62   \n",
       "2017-01-01T12:03:04      bryanttodd         13.0         86   \n",
       "2017-01-01T12:03:51        andrea98         17.0         81   \n",
       "2017-01-01T12:04:35         scott28         16.0         76   \n",
       "2017-01-01T12:05:05      hillpamela          5.0         82   \n",
       "2017-01-01T12:05:41    moorejeffrey         25.0         63   \n",
       "2017-01-01T12:06:21        njohnson          NaN         63   \n",
       "2017-01-01T12:06:53         gsutton         29.0         80   \n",
       "2017-01-01T12:07:41       jessica48         22.0         83   \n",
       "2017-01-01T12:08:08        hornjohn         16.0         73   \n",
       "2017-01-01T12:08:35        gramirez         24.0         73   \n",
       "2017-01-01T12:09:05   schmidtsamuel          NaN         78   \n",
       "2017-01-01T12:09:48       derrick47          NaN         63   \n",
       "2017-01-01T12:10:23   beckercharles         12.0         61   \n",
       "2017-01-01T12:10:57        ipittman         11.0         69   \n",
       "2017-01-01T12:11:34       sabrina65         22.0         82   \n",
       "\n",
       "                                                    build  latest      note  \n",
       "timestamp                                                                    \n",
       "2017-01-01T12:00:23  4e6a7805-8faa-2768-6ef6-eb3198b483ac     0.0  interval  \n",
       "2017-01-01T12:01:09  7256b7b0-e502-f576-62ec-ed73533c9c84     0.0      wake  \n",
       "2017-01-01T12:01:34  9226c94b-bb4b-a6c8-8e02-cb42b53e9c90     0.0       NaN  \n",
       "2017-01-01T12:02:09                                   NaN     0.0    update  \n",
       "2017-01-01T12:02:36  122f1c6a-403c-2221-6ed1-b5caa08f11e0     0.0       NaN  \n",
       "2017-01-01T12:03:04  0897dbe5-9c5b-71ca-73a1-7586959ca198     0.0  interval  \n",
       "2017-01-01T12:03:51  1c07ab9b-5f66-137d-a74f-921a41001f4e     1.0       NaN  \n",
       "2017-01-01T12:04:35  7a60219f-6621-e548-180e-ca69624f9824     0.0  interval  \n",
       "2017-01-01T12:05:05  a8b87754-a162-da28-2527-4bce4b3d4191     1.0       NaN  \n",
       "2017-01-01T12:05:41  585f1a3c-0679-0ffe-9132-508933c70343     0.0      wake  \n",
       "2017-01-01T12:06:21  e09b6001-125d-51cf-9c3f-9cb686c19d02     0.0       NaN  \n",
       "2017-01-01T12:06:53  607c9f6e-2bdf-a606-6d16-3004c6958436     1.0    update  \n",
       "2017-01-01T12:07:41  03e1a07b-3e14-412c-3a69-6b45bc79f81c     0.0    update  \n",
       "2017-01-01T12:08:08                                   NaN     0.0  interval  \n",
       "2017-01-01T12:08:35                                   NaN     0.0      wake  \n",
       "2017-01-01T12:09:05  b9890c1e-79d5-8979-63ae-6c08a4cd476a     0.0       NaN  \n",
       "2017-01-01T12:09:48  b60bd7de-4057-8a85-f806-e6eec1350338     0.0  interval  \n",
       "2017-01-01T12:10:23  b1dacc73-c8b7-1d7d-ee02-578da781a71e     0.0      test  \n",
       "2017-01-01T12:10:57  1aef7db8-9a3e-7dc9-d7a5-781ec0efd200     0.0      user  \n",
       "2017-01-01T12:11:34  8075d058-7dae-e2ec-d47e-58ec6d26899b     1.0       NaN  "
      ]
     },
     "execution_count": 21,
     "metadata": {},
     "output_type": "execute_result"
    }
   ],
   "source": [
    "df.head(20)"
   ]
  },
  {
   "cell_type": "markdown",
   "metadata": {},
   "source": [
    "Then we use [pandas.DataFrame.groupby](https://pandas.pydata.org/docs/reference/api/pandas.DataFrame.groupby.html) to group `username` and fill the missing data with the `backfill` method of [pandas.core.groupby.DataFrameGroupBy.fillna](https://pandas.pydata.org/docs/reference/api/pandas.core.groupby.DataFrameGroupBy.fillna.html). `limit` defines the maximum number of consecutive `NaN` values:"
   ]
  },
  {
   "cell_type": "code",
   "execution_count": 22,
   "metadata": {},
   "outputs": [],
   "source": [
    "df.temperature = df.groupby('username').temperature.fillna(\n",
    "    method='backfill', limit=3)"
   ]
  },
  {
   "cell_type": "code",
   "execution_count": 23,
   "metadata": {},
   "outputs": [
    {
     "name": "stdout",
     "output_type": "stream",
     "text": [
      "number missing for column temperature: 22633\n",
      "number missing for column build: 32350\n",
      "number missing for column latest: 0\n",
      "number missing for column note: 48704\n"
     ]
    }
   ],
   "source": [
    "for col in missing_info:\n",
    "    num_missing = df[df[col].isnull() == True].shape[0]\n",
    "    print('number missing for column {}: {}'.format(col, \n",
    "                                                    num_missing))"
   ]
  }
 ],
 "metadata": {
  "kernelspec": {
   "display_name": "Python 3.7.4",
   "language": "python",
   "name": "python-374"
  },
  "language_info": {
   "codemirror_mode": {
    "name": "ipython",
    "version": 3
   },
   "file_extension": ".py",
   "mimetype": "text/x-python",
   "name": "python",
   "nbconvert_exporter": "python",
   "pygments_lexer": "ipython3",
   "version": "3.7.4"
  },
  "latex_envs": {
   "LaTeX_envs_menu_present": true,
   "autoclose": false,
   "autocomplete": true,
   "bibliofile": "biblio.bib",
   "cite_by": "apalike",
   "current_citInitial": 1,
   "eqLabelWithNumbers": true,
   "eqNumInitial": 1,
   "hotkeys": {
    "equation": "Ctrl-E",
    "itemize": "Ctrl-I"
   },
   "labels_anchors": false,
   "latex_user_defs": false,
   "report_style_numbering": false,
   "user_envs_cfg": false
  },
  "widgets": {
   "application/vnd.jupyter.widget-state+json": {
    "state": {},
    "version_major": 2,
    "version_minor": 0
   }
  }
 },
 "nbformat": 4,
 "nbformat_minor": 4
}
